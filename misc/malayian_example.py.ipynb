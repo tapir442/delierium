{
 "cells": [
  {
   "cell_type": "code",
   "execution_count": null,
   "metadata": {},
   "outputs": [
    {
     "name": "stdout",
     "output_type": "stream",
     "text": [
      "program find determining equ of the type u_i = f(u_k , u , x , t) where i, k\n",
      "can take value x, t ,tt, xx, xt, xxx,\n",
      "xxt, xtt, ttt and u_i is not equal to\n",
      "u_k\n"
     ]
    },
    {
     "data": {
      "application/vnd.jupyter.widget-view+json": {
       "model_id": "99ee81e97d8c438fbbc0909d51bc77a5",
       "version_major": 2,
       "version_minor": 0
      },
      "text/plain": [
       "Interactive function <function partialsymmetry at 0x7fc1d901c430> with 2 widgets\n",
       "  A: EvalText(value='u_t', de…"
      ]
     },
     "metadata": {},
     "output_type": "display_data"
    },
    {
     "data": {
      "text/html": [
       "<html>\\[\\newcommand{\\Bold}[1]{\\mathbf{#1}}u_{x} \\frac{\\partial}{\\partial u}U\\left(x, t, u\\right) + \\frac{\\partial}{\\partial x}U\\left(x, t, u\\right)\\]</html>"
      ],
      "text/latex": [
       "$$\\newcommand{\\Bold}[1]{\\mathbf{#1}}u_{x} \\frac{\\partial}{\\partial u}U\\left(x, t, u\\right) + \\frac{\\partial}{\\partial x}U\\left(x, t, u\\right)$$"
      ],
      "text/plain": [
       "u_x*diff(U(x, t, u), u) + diff(U(x, t, u), x)"
      ]
     },
     "metadata": {},
     "output_type": "display_data"
    },
    {
     "data": {
      "text/html": [
       "<html>\\[\\newcommand{\\Bold}[1]{\\mathbf{#1}}u_{t} \\frac{\\partial}{\\partial u}U\\left(x, t, u\\right) + \\frac{\\partial}{\\partial t}U\\left(x, t, u\\right)\\]</html>"
      ],
      "text/latex": [
       "$$\\newcommand{\\Bold}[1]{\\mathbf{#1}}u_{t} \\frac{\\partial}{\\partial u}U\\left(x, t, u\\right) + \\frac{\\partial}{\\partial t}U\\left(x, t, u\\right)$$"
      ],
      "text/plain": [
       "u_t*diff(U(x, t, u), u) + diff(U(x, t, u), t)"
      ]
     },
     "metadata": {},
     "output_type": "display_data"
    },
    {
     "data": {
      "text/html": [
       "<html>\\[\\newcommand{\\Bold}[1]{\\mathbf{#1}}u_{x} \\frac{\\partial}{\\partial u}T\\left(x, t, u\\right) + \\frac{\\partial}{\\partial x}T\\left(x, t, u\\right)\\]</html>"
      ],
      "text/latex": [
       "$$\\newcommand{\\Bold}[1]{\\mathbf{#1}}u_{x} \\frac{\\partial}{\\partial u}T\\left(x, t, u\\right) + \\frac{\\partial}{\\partial x}T\\left(x, t, u\\right)$$"
      ],
      "text/plain": [
       "u_x*diff(T(x, t, u), u) + diff(T(x, t, u), x)"
      ]
     },
     "metadata": {},
     "output_type": "display_data"
    },
    {
     "data": {
      "text/html": [
       "<html>\\[\\newcommand{\\Bold}[1]{\\mathbf{#1}}u_{t} \\frac{\\partial}{\\partial u}T\\left(x, t, u\\right) + \\frac{\\partial}{\\partial t}T\\left(x, t, u\\right)\\]</html>"
      ],
      "text/latex": [
       "$$\\newcommand{\\Bold}[1]{\\mathbf{#1}}u_{t} \\frac{\\partial}{\\partial u}T\\left(x, t, u\\right) + \\frac{\\partial}{\\partial t}T\\left(x, t, u\\right)$$"
      ],
      "text/plain": [
       "u_t*diff(T(x, t, u), u) + diff(T(x, t, u), t)"
      ]
     },
     "metadata": {},
     "output_type": "display_data"
    },
    {
     "data": {
      "text/html": [
       "<html>\\[\\newcommand{\\Bold}[1]{\\mathbf{#1}}u_{x} \\frac{\\partial}{\\partial u}X\\left(x, t, u\\right) + \\frac{\\partial}{\\partial x}X\\left(x, t, u\\right)\\]</html>"
      ],
      "text/latex": [
       "$$\\newcommand{\\Bold}[1]{\\mathbf{#1}}u_{x} \\frac{\\partial}{\\partial u}X\\left(x, t, u\\right) + \\frac{\\partial}{\\partial x}X\\left(x, t, u\\right)$$"
      ],
      "text/plain": [
       "u_x*diff(X(x, t, u), u) + diff(X(x, t, u), x)"
      ]
     },
     "metadata": {},
     "output_type": "display_data"
    },
    {
     "data": {
      "text/html": [
       "<html>\\[\\newcommand{\\Bold}[1]{\\mathbf{#1}}u_{t} \\frac{\\partial}{\\partial u}X\\left(x, t, u\\right) + \\frac{\\partial}{\\partial t}X\\left(x, t, u\\right)\\]</html>"
      ],
      "text/latex": [
       "$$\\newcommand{\\Bold}[1]{\\mathbf{#1}}u_{t} \\frac{\\partial}{\\partial u}X\\left(x, t, u\\right) + \\frac{\\partial}{\\partial t}X\\left(x, t, u\\right)$$"
      ],
      "text/plain": [
       "u_t*diff(X(x, t, u), u) + diff(X(x, t, u), t)"
      ]
     },
     "metadata": {},
     "output_type": "display_data"
    },
    {
     "name": "stdout",
     "output_type": "stream",
     "text": [
      "Value of u_x is \n"
     ]
    },
    {
     "name": "stderr",
     "output_type": "stream",
     "text": [
      "<ipython-input-1-63a865bcdf7c>:39: DeprecationWarning: Substitution using function-call syntax and unnamed arguments is deprecated and will be removed from a future release of Sage; you can use named arguments instead, like EXPR(x=..., y=...)\n",
      "See http://trac.sagemath.org/5930 for details.\n",
      "  U_x = D_xU(u_t) + D_xT(u_x) * D_xX\n"
     ]
    },
    {
     "data": {
      "text/html": [
       "<html>\\[\\newcommand{\\Bold}[1]{\\mathbf{#1}}u_{x}\\]</html>"
      ],
      "text/latex": [
       "$$\\newcommand{\\Bold}[1]{\\mathbf{#1}}u_{x}$$"
      ],
      "text/plain": [
       "u_x"
      ]
     },
     "metadata": {},
     "output_type": "display_data"
    },
    {
     "name": "stdout",
     "output_type": "stream",
     "text": [
      "Value of u_t is\n"
     ]
    },
    {
     "name": "stderr",
     "output_type": "stream",
     "text": [
      "<ipython-input-1-63a865bcdf7c>:43: DeprecationWarning: Substitution using function-call syntax and unnamed arguments is deprecated and will be removed from a future release of Sage; you can use named arguments instead, like EXPR(x=..., y=...)\n",
      "See http://trac.sagemath.org/5930 for details.\n",
      "  u_t =D_tU (u_t) + D_tT (u_x) * D_tX\n"
     ]
    },
    {
     "data": {
      "text/html": [
       "<html>\\[\\newcommand{\\Bold}[1]{\\mathbf{#1}}{\\left(u_{t} \\frac{\\partial}{\\partial u}T\\left(x, u_{x}, u\\right) + \\frac{\\partial}{\\partial u_{x}}T\\left(x, u_{x}, u\\right)\\right)} {\\left(u_{t} \\frac{\\partial}{\\partial u}X\\left(x, t, u\\right) + \\frac{\\partial}{\\partial t}X\\left(x, t, u\\right)\\right)} + u_{t} \\frac{\\partial}{\\partial u}U\\left(x, u_{t}, u\\right) + \\frac{\\partial}{\\partial u_{t}}U\\left(x, u_{t}, u\\right)\\]</html>"
      ],
      "text/latex": [
       "$$\\newcommand{\\Bold}[1]{\\mathbf{#1}}{\\left(u_{t} \\frac{\\partial}{\\partial u}T\\left(x, u_{x}, u\\right) + \\frac{\\partial}{\\partial u_{x}}T\\left(x, u_{x}, u\\right)\\right)} {\\left(u_{t} \\frac{\\partial}{\\partial u}X\\left(x, t, u\\right) + \\frac{\\partial}{\\partial t}X\\left(x, t, u\\right)\\right)} + u_{t} \\frac{\\partial}{\\partial u}U\\left(x, u_{t}, u\\right) + \\frac{\\partial}{\\partial u_{t}}U\\left(x, u_{t}, u\\right)$$"
      ],
      "text/plain": [
       "(u_t*diff(T(x, u_x, u), u) + diff(T(x, u_x, u), u_x))*(u_t*diff(X(x, t, u), u) + diff(X(x, t, u), t)) + u_t*diff(U(x, u_t, u), u) + diff(U(x, u_t, u), u_t)"
      ]
     },
     "metadata": {},
     "output_type": "display_data"
    },
    {
     "name": "stderr",
     "output_type": "stream",
     "text": [
      "/researches/mambaforge/envs/sage/lib/python3.9/pprint.py:555: DeprecationWarning: \n",
      "Importing Euler_Phi from here is deprecated. If you need to use it, please import it directly from sage.arith.misc\n",
      "See https://trac.sagemath.org/30322 for details.\n",
      "  vrepr, vreadable, vrecur = _safe_repr(v, context, maxlevels, level, sort_dicts)\n",
      "/researches/mambaforge/envs/sage/lib/python3.9/pprint.py:555: DeprecationWarning: this class is deprecated, do not use\n",
      "See https://trac.sagemath.org/31545 for details.\n",
      "  vrepr, vreadable, vrecur = _safe_repr(v, context, maxlevels, level, sort_dicts)\n",
      "/researches/mambaforge/envs/sage/lib/python3.9/pprint.py:555: DeprecationWarning: \n",
      "Importing Moebius from here is deprecated. If you need to use it, please import it directly from sage.arith.misc\n",
      "See https://trac.sagemath.org/30322 for details.\n",
      "  vrepr, vreadable, vrecur = _safe_repr(v, context, maxlevels, level, sort_dicts)\n",
      "/researches/mambaforge/envs/sage/lib/python3.9/pprint.py:555: DeprecationWarning: \n",
      "Importing OpenInterval from here is deprecated. If you need to use it, please import it directly from sage.manifolds.differentiable.examples.real_line\n",
      "See https://trac.sagemath.org/31881 for details.\n",
      "  vrepr, vreadable, vrecur = _safe_repr(v, context, maxlevels, level, sort_dicts)\n",
      "/researches/mambaforge/envs/sage/lib/python3.9/pprint.py:555: DeprecationWarning: \n",
      "Importing RealLine from here is deprecated. If you need to use it, please import it directly from sage.manifolds.differentiable.examples.real_line\n",
      "See https://trac.sagemath.org/31881 for details.\n",
      "  vrepr, vreadable, vrecur = _safe_repr(v, context, maxlevels, level, sort_dicts)\n",
      "/researches/mambaforge/envs/sage/lib/python3.9/pprint.py:555: DeprecationWarning: \n",
      "Importing Sigma from here is deprecated. If you need to use it, please import it directly from sage.arith.misc\n",
      "See https://trac.sagemath.org/30322 for details.\n",
      "  vrepr, vreadable, vrecur = _safe_repr(v, context, maxlevels, level, sort_dicts)\n",
      "/researches/mambaforge/envs/sage/lib/python3.9/pprint.py:555: DeprecationWarning: \n",
      "Importing absolute_igusa_invariants_kohel from here is deprecated. If you need to use it, please import it directly from sage.schemes.hyperelliptic_curves.invariants\n",
      "See https://trac.sagemath.org/28064 for details.\n",
      "  vrepr, vreadable, vrecur = _safe_repr(v, context, maxlevels, level, sort_dicts)\n",
      "/researches/mambaforge/envs/sage/lib/python3.9/pprint.py:555: DeprecationWarning: \n",
      "Importing absolute_igusa_invariants_wamelen from here is deprecated. If you need to use it, please import it directly from sage.schemes.hyperelliptic_curves.invariants\n",
      "See https://trac.sagemath.org/28064 for details.\n",
      "  vrepr, vreadable, vrecur = _safe_repr(v, context, maxlevels, level, sort_dicts)\n",
      "/researches/mambaforge/envs/sage/lib/python3.9/pprint.py:555: DeprecationWarning: \n",
      "Importing clebsch_invariants from here is deprecated. If you need to use it, please import it directly from sage.schemes.hyperelliptic_curves.invariants\n",
      "See https://trac.sagemath.org/28064 for details.\n",
      "  vrepr, vreadable, vrecur = _safe_repr(v, context, maxlevels, level, sort_dicts)\n",
      "/researches/mambaforge/envs/sage/lib/python3.9/pprint.py:555: DeprecationWarning: \n",
      "Importing igusa_clebsch_invariants from here is deprecated. If you need to use it, please import it directly from sage.schemes.hyperelliptic_curves.invariants\n",
      "See https://trac.sagemath.org/28064 for details.\n",
      "  vrepr, vreadable, vrecur = _safe_repr(v, context, maxlevels, level, sort_dicts)\n"
     ]
    }
   ],
   "source": [
    "# Program for finding determining equationfor PDE OF ORDER ONE TWO AND THREE\n",
    "print(\"\"\"program find determining equ of the type u_i = f(u_k , u , x , t) where i, k\n",
    "can take value x, t ,tt, xx, xt, xxx,\n",
    "xxt, xtt, ttt and u_i is not equal to\n",
    "u_k\"\"\")\n",
    "var(\"x, t, u, u_x, u_t, u_xx, u_xt, u_tx,u_tt, u_xxx , u_xxt , u_xtt , u_ttt , u_ttx ,u_txx, c , a\")\n",
    "X, Y, f , F , U, T , V, W, D_xU = function(\"X, Y, f , F , U, T , V, W, D_xU\")\n",
    "# Define function\n",
    "import itertools\n",
    "@interact\n",
    "def partialsymmetry(A = input_box(default = u_t, label = \"Insert u_i \" ) ,\n",
    "                    w = input_box(default = u_x**2 , label = \"Insert f of eq u_i = f(u_j, u, x, t )\")) :\n",
    "    W=A (w)\n",
    "# 1)\n",
    "\n",
    "D_xU= diff(U(x, t ,u), x) + \\\n",
    "     u_x * diff(U(x, t ,u), u) + \\\n",
    "    (u_xx * diff(U(x, t, u), u_x) + u_xt * diff(U(x, t, u), u_t)) + \\\n",
    "    (u_xxx * diff(U(x, t, u), u_xx) + u_xxt * diff(U(x, t , u), u_xt) + u_xtt * diff(U(x, t, u), u_tt))\n",
    "\n",
    "D_xU.show()\n",
    "\n",
    "D_tU = diff(U(x, t, u), t) + \\\n",
    "    u_t * diff(U(x, t, u), u) + \\\n",
    "    (u_tt * diff(U(x, t, u), u_t) + u_xt * diff(U(x, t, u), u_x)) + \\\n",
    "    (u_ttt * diff(U(x, t, u), u_tt) + u_xtt * diff(U(x, t, u), u_xt) + u_xxt * diff(U(x, t, u), u_xx))\n",
    "D_tU.show()\n",
    "\n",
    "# 2)\n",
    "D_xT= diff(T(x, t, u), x) + \\\n",
    "    u_x * diff(T(x, t, u), u) + \\\n",
    "    (u_xx * diff(T(x, t, u), u_x) + u_xt * diff(T(x, t, u), u_t)) + \\\n",
    "    (u_xxx * diff(T(x, t, u), u_xx) + u_xxt * diff(T(x, t, u), u_xt) + u_xtt * diff(T(x, t, u), u_tt))\n",
    "D_xT.show()\n",
    "\n",
    "\n",
    "D_tT = diff(T(x, t , u), t) + \\\n",
    "    u_t * diff(T(x, t, u), u) + \\\n",
    "    (u_tt * diff(T(x, t, u), u_t) + u_xt * diff(T(x, t, u), u_x)) + \\\n",
    "    (u_ttt * diff(T(x, t, u), u_tt) + u_xtt * diff(T(x, t, u), u_xt)+ u_xxt * diff(T(x, t, u), u_xx))\n",
    "\n",
    "D_tT.show()\n",
    "# 3)\n",
    "D_xX= diff(X(x, t, u), x) + \\\n",
    "    u_x * diff(X(x, t, u), u) + \\\n",
    "    (u_xx * diff(X(x, t, u), u_x) + u_xt * diff(X(x, t, u), u_t)) + \\\n",
    "    (u_xxx * diff(X(x, t, u) , u_xx) + u_xxt * diff(X(x, t, u), u_xt) + u_xtt * diff(X(x, t, u), u_tt))\n",
    "D_xX.show()\n",
    "\n",
    "D_tX= diff(X(x, t, u), t) + \\\n",
    "    u_t * diff(X(x, t, u), u) + \\\n",
    "    (u_tt * diff(X(x, t, u), u_t) + u_xt * diff(X(x, t, u), u_x)) + \\\n",
    "    (u_ttt * diff(X(x, t, u), u_tt) + u_xtt * diff(X(x , t, u) , u_xt) + u_xxt * diff(X(x, t, u), u_xx))\n",
    "D_tX.show()\n",
    "\n",
    "# A ) ( For first order pde )\n",
    "U_x = D_xU(u_t) + D_xT(u_x) * D_xX\n",
    "print(\"Value of u_x is \")\n",
    "show(u_x)\n",
    "# B)\n",
    "u_t =D_tU (u_t) + D_tT (u_x) * D_tX\n",
    "print(\"Value of u_t is\")\n",
    "show (u_t)\n",
    "\n",
    "# 4 ) ( F o r s e c o n d o r d e r pde )\n",
    "from pprint import pprint\n",
    "pprint(locals())\n",
    "D_xUx = diff(U_x, x) + \\\n",
    "    u_x * diff(U_x, u) \\\n",
    "    + (u_xx * diff(U_x, u_x) + u_xt * diff(U_x, u_t))  \\\n",
    "        + (u_xxx * diff(U_x, u_xx) + u_xxt * diff(U_x, u_xt) + u_xtt * diff(U_x, u_tt ))\n",
    "\n",
    "\n",
    "D_tUt = diff(u_t, t) \\\n",
    "    + u_t * diff(u_t, u) \\\n",
    "    + (u_tt * diff(u_t, u_t) + u_xt * diff(u_t, u_x)) \\\n",
    "    + (u_ttt * diff(u_t, u_tt)+ u_xtt * diff(u_t, u_xt) + u_xxt * diff(u_t, u_xx))\n",
    "\n",
    "D_xUt = diff(u_t, x) \\\n",
    "    + u_x * diff(u_t, u) \\\n",
    "    + (u_xx * diff(u_t, u_x) + u_xt * diff(u_t, u_t)) \\\n",
    "    + (u_xxx * diff(u_t, u_xx) + u_xxt * diff(u_t, u_xt) + u_xtt * diff(u_t , u_tt ))\n",
    "\n",
    "# A ) ( F o r s e c o n d o r d e r pde )\n",
    "u_xx = D_xUx(u_xt) + D_xT (u_xx) + D_xX\n",
    "print(\"Value of u_xx is\")\n",
    "show(u_xx)\n",
    "# B)\n",
    "u_tt = D_tUt * u_tt * D_tT * u_xt * D_tX\n",
    "print(\"Value of u_tt is\")\n",
    "show(u_tt)\n",
    "# C)\n",
    "u_xt = D_xUt * u_tt * D_xT * u_xt * D_xX\n",
    "print(\"Value of u_xt is\")\n",
    "show(u_xt)\n",
    "# 5 ) ( F o r t h i r d o r d e r pde )\n",
    "D_xUxx = diff(u_xx, x) \\\n",
    "        + u_x * diff(u_xx, u) \\\n",
    "        + (u_xx * diff(u_xx, u_x) + u_xt * diff(u_xx, u_t)) \\\n",
    "        + (u_xxx * diff(u_xx, u_xx) + u_xxt * diff(u_xx, u_xt) + u_xtt * diff(u_xx, u_tt))\n",
    "\n",
    "D_tUtt = diff(u_tt, t) \\\n",
    "    + u_t * diff(u_tt, u) \\\n",
    "    + (u_tt * diff(u_tt, u_t) + u_xt * diff(u_tt, u_x)) \\\n",
    "    + (u_ttt * diff(u_tt, u_tt) + u_xtt * diff(u_tt, u_xt) + u_xxt * diff(u_tt, u_xx))\n",
    "\n",
    "D_xUxt = diff(u_xt, x) \\\n",
    "    + u_x * diff(u_xt, u) \\\n",
    "    + (u_xx * diff(u_xt, u_x) + u_xt * diff(u_xt, u_t)) \\\n",
    "    + (u_xxx * diff(u_xt, u_xx) + u_xxt * diff(u_xt, u_xt) + u_xtt * diff(u_xt, u_tt))\n",
    "\n",
    "D_tUxt = diff(u_xt, t) \\\n",
    "    + u_t * diff(u_xt, u) \\\n",
    "    + (u_tt * diff(u_xt, u_t) + u_xt * diff(u_xt, u_x)) \\\n",
    "    + (u_ttt * diff(u_tt, u_tt) + u_xtt * diff(u_xt, u_xt) + u_xxt * diff(u_xt, u_xx))\n",
    "\n",
    "# A) ( F o r t h i r d o r d e r pde )\n",
    "u_xxx = D_xUxx * u_xxt * D_xT * u_xxx * D_xX\n",
    "u_ttt = D_tUtt * u_ttt * D_tT * u_xtt * D_tX\n",
    "u_xxt = D_xUxt * u_xtt * D_xT * u_xxt *D_xX\n",
    "u_xtt = D_tUxt * u_xtt * D_tT * u_xxt * D_tX\n",
    "#\n",
    "X2 = X(x, t, u) * diff(W, x) + \\\n",
    "        T(x, t, u) * diff(W, t) + \\\n",
    "        U(x, t, u) * diff(W, u) + \\\n",
    "        (u_x) * diff(W, u_x) + \\\n",
    "        (u_t) * diff(W, u_t) + \\\n",
    "        (u_xx) * diff(W, u_xx) + \\\n",
    "        (u_xt) * diff(W, u_xt) + \\\n",
    "        (u_tt) * diff(W, u_tt) + \\\n",
    "        ((u_xxx) * diff(W, u_xxx) + \\\n",
    "         (u_xxt) * diff(W, u_xxt) + \\\n",
    "         (u_xtt) * diff(W, u_xtt) + \\\n",
    "         (u_ttt) * diff(W, u_ttt))\n",
    "    # print( ” The v a l u e o f X2 i s ” )\n",
    "    # show ( X2==0)\n",
    "if (A == u_x):\n",
    "    K = X2 (u_x = w).simplify_full()\n",
    "elif (A == u_t):\n",
    "    K = X2 (u_t = w).simplify_full()\n",
    "elif (A == u_xx):\n",
    "    K = X2 (u_xx = w).simplify_full()\n",
    "elif (A == u_xt ) :\n",
    "    K = X2 (u_xt =w ).simplify_full ()\n",
    "elif (A == u_tt ) :\n",
    "    K = X2 (u_tt =w ).simplify_full ()\n",
    "elif (A == u_xxx ) :\n",
    "    K = X2 (u_xxx =w ).simplify_full ()\n",
    "elif (A == u_xxt ) :\n",
    "    K = X2 (u_xt = w).simplify_full ()\n",
    "elif (A == u_xtt ) :\n",
    "    K = X2 (u_xtt = w).simplify_full ()\n",
    "elif (A == u_ttt ) :\n",
    "    K = X2 (u_ttt = w).simplifyfull ( )\n",
    "K= (numerator(K ) )\n",
    "# show (K.coefficient ( u_x**3 ) )\n",
    "# print( ” The v a l u e o f K i s ” )\n",
    "# show (K==0)\n",
    "print(\"The determining equations are given by \")\n",
    "F = [1 ,2 ,3 ,4]\n",
    "E = [1 ,2]\n",
    "L = [u_x, u_t, u_xx, u_xt, u_tt, u_xxx, u_xxt, u_xtt, u_ttt]\n",
    "I = []\n",
    "J = []\n",
    "v = []\n",
    "for i , j , k in itertools.product(L, L, L):\n",
    "        if i != j and j != k :\n",
    "            for a , b , c in itertools.product (F, F, F) :\n",
    "                s = i**a * j**b *k**c\n",
    "                e = i**a * j**b\n",
    "                d = i**a\n",
    "                I.append (s)\n",
    "                J.append (e)\n",
    "                v.append (d)\n",
    "        for m in I :\n",
    "            if ((K.coefficient (m ) ) != 0) :\n",
    "                # print( ” The coefficient o f,m, ” i s ” )\n",
    "                show (K.coefficient (m) == 0)\n",
    "                K= (K(K.coefficient (m) *m)).simplify_full ()\n",
    "        for m in J :\n",
    "            if ((K.coefficient (m)) != 0):\n",
    "                # print( ” The coefficient o f,m, ” i s ” )\n",
    "                show (K.coefficient (m) == 0 )\n",
    "                K= (K(K.coefficient (m) *m) ).simplify_full()\n",
    "        for m in v :\n",
    "            if ((K.coefficient (m)) != 0) :\n",
    "                # print( ” The coefficient o f,m, ” i s ” )\n",
    "                show (K.coefficient (m) == 0 )\n",
    "                K= (K(K.coefficient(m)*m)).simplify_full()\n",
    "                # print( ” The coefficient o f u_x ˆ0” ,” is ”)\n",
    "                show (K==0)\n"
   ]
  },
  {
   "cell_type": "code",
   "execution_count": null,
   "metadata": {},
   "outputs": [],
   "source": []
  }
 ],
 "metadata": {
  "kernelspec": {
   "display_name": "SageMath 9.4",
   "language": "sage",
   "name": "sagemath"
  },
  "language_info": {
   "codemirror_mode": {
    "name": "ipython",
    "version": 3
   },
   "file_extension": ".py",
   "mimetype": "text/x-python",
   "name": "python",
   "nbconvert_exporter": "python",
   "pygments_lexer": "ipython3",
   "version": "3.9.5"
  }
 },
 "nbformat": 4,
 "nbformat_minor": 5
}
