{
 "cells": [
  {
   "cell_type": "code",
   "execution_count": 1,
   "id": "d39e7590-9b8c-478b-b6b6-5bda85e7f159",
   "metadata": {},
   "outputs": [
    {
     "name": "stdout",
     "output_type": "stream",
     "text": [
      "===== Mgrevlex ====\n",
      "diff(z(x, y), y)\n",
      "diff(z(x, y), x) + (1/2/y) * w(x, y)\n",
      "diff(w(x, y), y) + (-1/y) * w(x, y)\n",
      "diff(w(x, y), x)\n",
      "....\n",
      "diff(z(x, y), y)\n",
      "diff(z(x, y), x) + (1/2/y) * w(x, y)\n",
      "diff(w(x, y), y) + (-1/y) * w(x, y)\n",
      "diff(w(x, y), x)\n",
      "===== Mgrlex ====\n",
      "diff(z(x, y), y)\n",
      "diff(z(x, y), x) + (1/2/y) * w(x, y)\n",
      "diff(w(x, y), y) + (-1/y) * w(x, y)\n",
      "diff(w(x, y), x)\n",
      "....\n",
      "diff(z(x, y), y)\n",
      "diff(z(x, y), x) + (1/2/y) * w(x, y)\n",
      "diff(w(x, y), y) + (-1/y) * w(x, y)\n",
      "diff(w(x, y), x)\n",
      "===== Mlex ====\n",
      "diff(z(x, y), y)\n",
      "diff(z(x, y), y, y) + (-(x^4 + 2*x^2*y + y^2)*(2*x^7/((x^8 + 4*x^6*y + 6*x^4*y^2 + 4*x^2*y^3 + y^4)*(2*y - x/(x^2 + y))*(y - x/(y*(x/y^2 - 1/y)))) + 2*x^5*y/((x^8 + 4*x^6*y + 6*x^4*y^2 + 4*x^2*y^3 + y^4)*(2*y - x/(x^2 + y))*(y - x/(y*(x/y^2 - 1/y)))) + x^5/((x^4 + 2*x^2*y + y^2)*(y^2 - 2*x/(x/y^2 - 1/y) + x^2/(y^2*(x/y^2 - 1/y)^2))*(2*y - x/(x^2 + y))) + 2*x^5/((x^4 + 2*x^2*y + y^2)*(4*y^2 - 4*x*y/(x^2 + y) + x^2/(x^2 + y)^2)*(y - x/(y*(x/y^2 - 1/y)))) + x^6/((x^4 + 2*x^2*y + y^2)^2*(4*y^2 - 4*x*y/(x^2 + y) + x^2/(x^2 + y)^2)*(y - x/(y*(x/y^2 - 1/y)))) + x^6/((x^4 + 2*x^2*y + y^2)*(y^2 - 2*x/(x/y^2 - 1/y) + x^2/(y^2*(x/y^2 - 1/y)^2))*(2*y - x/(x^2 + y))*y^2*(x/y^2 - 1/y)) - 2*x^7/((x^4 + 2*x^2*y + y^2)*(y^2 - 2*x/(x/y^2 - 1/y) + x^2/(y^2*(x/y^2 - 1/y)^2))*(2*y - x/(x^2 + y))*y^4*(x^2/y^4 - 2*x/y^3 + 1/y^2)) + x^6/((x^4 + 2*x^2*y + y^2)*(y^2 - 2*x/(x/y^2 - 1/y) + x^2/(y^2*(x/y^2 - 1/y)^2))*(2*y - x/(x^2 + y))*y^3*(x^2/y^4 - 2*x/y^3 + 1/y^2)))*(2*y - x/(x^2 + y))*(y - x/(y*(x/y^2 - 1/y)))/x^5) * diff(z(x, y), y)\n",
      "diff(z(x, y), x, y)\n",
      "diff(z(x, y), x, x) + (2*x^5/((x^4 + 2*x^2*y + y^2)*(2*y - x/(x^2 + y))*(y - x/(y*(x/y^2 - 1/y)))) - x^4/((x^4 + 2*x^2*y + y^2)*(4*y^2 + x^2/(x^4 + 2*x^2*y + y^2) - 4*x*y/(x^2 + y))*(y - x/(y*(x/y^2 - 1/y)))) - 4*x^3/((x^2 + y)*(2*y - x/(x^2 + y))*(y - x/(y*(x/y^2 - 1/y)))) + 1/2*x^4/((x^4 + 2*x^2*y + y^2)*(2*y - x/(x^2 + y))*(y - x/(y*(x/y^2 - 1/y)))*y*(x/y^2 - 1/y))) * diff(z(x, y), y)\n",
      "w(x, y) + (2*y) * diff(z(x, y), x) + (x^3/((x^4 + 2*x^2*y + y^2)*(2*y - x/(x^2 + y))) + 1/2*x^4/((x^4 + 2*x^2*y + y^2)*(x^2 + y)*y) + 1/2*x^4/((x^4 + 2*x^2*y + y^2)*(2*y - x/(x^2 + y))*y) - 2*x^2*y/((x^2 + y)*(2*y - x/(x^2 + y))) - 2*x^3*y/((x^4 + 2*x^2*y + y^2)*(x^2 + y)*(2*y - x/(x^2 + y))) - 1/2*x/(x^2 + y) + 1/2*x^2/((x^4 + 2*x^2*y + y^2)*(x^2 + y)) + 1/2*x^2/((x^4 + 2*x^2*y + y^2)*(2*y - x/(x^2 + y))) + x*y/((x^4 + 2*x^2*y + y^2)*(2*y - x/(x^2 + y)))) * diff(z(x, y), y)\n",
      "....\n",
      "diff(z(x, y), y)\n",
      "diff(z(x, y), x, y)\n",
      "diff(z(x, y), x, x)\n",
      "w(x, y) + (2*y) * diff(z(x, y), x)\n"
     ]
    }
   ],
   "source": [
    "%display latex\n",
    "%load_ext line_profiler\n",
    "%load_ext snakeviz\n",
    "\n",
    "import sage.all\n",
    "from sage.calculus.var import var, function\n",
    "from sage.calculus.functional import diff\n",
    "\n",
    "from delierium.JanetBasis import Janet_Basis\n",
    "from delierium.MatrixOrder import Context, Mgrlex, Mgrevlex, Mlex\n",
    "from IPython.core.debugger import set_trace\n",
    "\n",
    "\n",
    "#import time\n",
    "from System_2_24 import system_2_24, ctx_grevlex_f,  ctx_grlex_f,  ctx_lex_f\n",
    "from System_2_25 import system_2_25, ctx_grevlex_g,  ctx_grlex_g,  ctx_lex_g\n",
    "\n",
    "print(\"===== Mgrevlex ====\")\n",
    "#%snakeviz \n",
    "checkS=Janet_Basis(system_2_24, ctx_grevlex_f._dependent, ctx_grevlex_f._independent, Mgrevlex)\n",
    "#%lprun -f Janet_Basis(system_2_24,ctx._dependent,ctx._independent,Mlex)\n",
    "checkS.show()\n",
    "print (\"....\")\n",
    "#%snakeviz \n",
    "checkS=Janet_Basis(system_2_25, ctx_grevlex_g._dependent, ctx_grevlex_g._independent, Mgrevlex)\n",
    "checkS.show()\n",
    "\n",
    "print(\"===== Mgrlex ====\")\n",
    "#%snakeviz \n",
    "checkS=Janet_Basis(system_2_24, ctx_grevlex_f._dependent, ctx_grevlex_f._independent, Mgrlex)\n",
    "#%lprun -f Janet_Basis(system_2_24,ctx._dependent,ctx._independent,Mlex)\n",
    "checkS.show()\n",
    "print (\"....\")\n",
    "#%snakeviz \n",
    "checkS=Janet_Basis(system_2_25, ctx_grevlex_g._dependent, ctx_grevlex_g._independent, Mgrlex)\n",
    "checkS.show()\n",
    "print(\"===== Mlex ====\")\n",
    "#%snakeviz \n",
    "checkS=Janet_Basis(system_2_24, ctx_grevlex_f._dependent, ctx_grevlex_f._independent, Mlex)\n",
    "#%lprun -f Janet_Basis(system_2_24,ctx._dependent,ctx._independent,Mlex)\n",
    "checkS.show()\n",
    "print (\"....\")\n",
    "#%snakeviz \n",
    "checkS=Janet_Basis(system_2_25, ctx_grevlex_g._dependent, ctx_grevlex_g._independent, Mlex)\n",
    "checkS.show()"
   ]
  },
  {
   "cell_type": "code",
   "execution_count": null,
   "id": "a258cd8a-83fc-474f-aa5a-dcf4dd7db3eb",
   "metadata": {},
   "outputs": [],
   "source": []
  }
 ],
 "metadata": {
  "kernelspec": {
   "display_name": "SageMath 9.6",
   "language": "sage",
   "name": "sagemath"
  },
  "language_info": {
   "codemirror_mode": {
    "name": "ipython",
    "version": 3
   },
   "file_extension": ".py",
   "mimetype": "text/x-python",
   "name": "python",
   "nbconvert_exporter": "python",
   "pygments_lexer": "ipython3",
   "version": "3.10.4"
  },
  "toc-autonumbering": true
 },
 "nbformat": 4,
 "nbformat_minor": 5
}
