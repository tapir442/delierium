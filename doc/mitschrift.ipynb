{
 "cells": [
  {
   "cell_type": "markdown",
   "id": "ed9e75ed-e7a6-4ee4-89e7-6303fce942d5",
   "metadata": {},
   "source": [
    "wy+ x/(,,,)zy - w/y\n",
    "zx,y + 1/2(...) zy + 2y/x zx +w/x\n",
    "wx,y - 2x/y * zx,x -x/y² \n",
    "wx,y + zxy, wy/2y - wx/y + x/y zy - w/2y²\n",
    "wy,y + zx,y - wy/y + w/y²\n"
   ]
  },
  {
   "cell_type": "markdown",
   "id": "e34cd86c-c6df-4fe6-92ae-8cbf778af914",
   "metadata": {},
   "source": [
    "r = wy+ x/(,,,)zy - w/y\n",
    "_p = [zx,y +y/x * wy + 2y/x * zx\n",
    "wx,y - 2x/y * zx,x -x/y² \n",
    "wx,y + zxy, wy/2y - wx/y + x/y zy - w/2y²\n",
    "wy,y + zx,y - wy/y + w/y²]"
   ]
  }
 ],
 "metadata": {
  "kernelspec": {
   "display_name": "SageMath 10.0",
   "language": "sage",
   "name": "sagemath"
  },
  "language_info": {
   "codemirror_mode": {
    "name": "ipython",
    "version": 3
   },
   "file_extension": ".py",
   "mimetype": "text/x-python",
   "name": "python",
   "nbconvert_exporter": "python",
   "pygments_lexer": "ipython3",
   "version": "3.11.4"
  }
 },
 "nbformat": 4,
 "nbformat_minor": 5
}
