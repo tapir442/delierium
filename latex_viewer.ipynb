{
 "cells": [
  {
   "cell_type": "code",
   "execution_count": 1,
   "id": "0b207c59-2a57-4803-9c0a-8d3d0fde7c38",
   "metadata": {},
   "outputs": [
    {
     "name": "stdout",
     "output_type": "stream",
     "text": [
      "-4*y(x)*D[0, 0](xi)(y(x), x)*diff(y(x), x)^3 + 36*xi(y(x), x)*y(x)^2*diff(y(x), x) + 4*y(x)*D[0, 0](phi)(y(x), x)*diff(y(x), x)^2 - 8*y(x)*D[0, 1](xi)(y(x), x)*diff(y(x), x)^2 + 3/2*D[0](xi)(y(x), x)*diff(y(x), x)^3 - 12*y(x)*D[0](xi)(y(x), x)*diff(y(x), x)*diff(y(x), x, x) - 36*phi(y(x), x)*y(x)^2 + 8*y(x)*D[0, 1](phi)(y(x), x)*diff(y(x), x) - 4*y(x)*D[1, 1](xi)(y(x), x)*diff(y(x), x) - 3/2*D[0](phi)(y(x), x)*diff(y(x), x)^2 + 3/2*D[1](xi)(y(x), x)*diff(y(x), x)^2 + 4*y(x)*D[0](phi)(y(x), x)*diff(y(x), x, x) - 8*y(x)*D[1](xi)(y(x), x)*diff(y(x), x, x) - 5/2*xi(y(x), x)*diff(y(x), x)*diff(y(x), x, x) - 4*xi(y(x), x)*y(x)*diff(y(x), x, x, x) - 1/2*(72*y(x)^2*diff(y(x), x) - 5*diff(y(x), x)*diff(y(x), x, x) - 8*y(x)*diff(y(x), x, x, x))*xi(y(x), x) + 4*y(x)*D[1, 1](phi)(y(x), x) - 3/2*D[1](phi)(y(x), x)*diff(y(x), x) + 4*phi(y(x), x)*diff(y(x), x, x)\n"
     ]
    }
   ],
   "source": [
    "from delierium.Infinitesimals import prolongationODE\n",
    "from delierium.JanetBasis import Janet_Basis\n",
    "from pylatexenc.latexwalker import LatexWalker\n",
    "x = var('x')\n",
    "y=function('y')\n",
    "ode=4*diff(y(x),x,x)*y(x) - Rational(3/4)* (diff(y(x),x)**2)-12*(y(x)**3)\n",
    "p=prolongationODE(ode, y, x)[0].expression()\n",
    "print(p)"
   ]
  },
  {
   "cell_type": "code",
   "execution_count": 2,
   "id": "6e15ccc0-218f-4e8b-b81f-638e457392af",
   "metadata": {},
   "outputs": [],
   "source": [
    "ops = p.operands()"
   ]
  },
  {
   "cell_type": "code",
   "execution_count": 3,
   "id": "95fb5ab1-3d20-43d5-b4e3-8a26099f624d",
   "metadata": {},
   "outputs": [
    {
     "name": "stdout",
     "output_type": "stream",
     "text": [
      "[-4*y(x)*D[0, 0](xi)(y(x), x)*diff(y(x), x)^3, 36*xi(y(x), x)*y(x)^2*diff(y(x), x), 4*y(x)*D[0, 0](phi)(y(x), x)*diff(y(x), x)^2, -8*y(x)*D[0, 1](xi)(y(x), x)*diff(y(x), x)^2, 3/2*D[0](xi)(y(x), x)*diff(y(x), x)^3, -12*y(x)*D[0](xi)(y(x), x)*diff(y(x), x)*diff(y(x), x, x), -36*phi(y(x), x)*y(x)^2, 8*y(x)*D[0, 1](phi)(y(x), x)*diff(y(x), x), -4*y(x)*D[1, 1](xi)(y(x), x)*diff(y(x), x), -3/2*D[0](phi)(y(x), x)*diff(y(x), x)^2, 3/2*D[1](xi)(y(x), x)*diff(y(x), x)^2, 4*y(x)*D[0](phi)(y(x), x)*diff(y(x), x, x), -8*y(x)*D[1](xi)(y(x), x)*diff(y(x), x, x), -5/2*xi(y(x), x)*diff(y(x), x)*diff(y(x), x, x), -4*xi(y(x), x)*y(x)*diff(y(x), x, x, x), -1/2*(72*y(x)^2*diff(y(x), x) - 5*diff(y(x), x)*diff(y(x), x, x) - 8*y(x)*diff(y(x), x, x, x))*xi(y(x), x), 4*y(x)*D[1, 1](phi)(y(x), x), -3/2*D[1](phi)(y(x), x)*diff(y(x), x), 4*phi(y(x), x)*diff(y(x), x, x)]\n"
     ]
    }
   ],
   "source": [
    "print(ops)"
   ]
  },
  {
   "cell_type": "code",
   "execution_count": 22,
   "id": "f79e67d3-4395-423c-8fba-b4856d7cd942",
   "metadata": {},
   "outputs": [
    {
     "data": {
      "text/html": [
       "<p>\\(-4 y \\xi_{yy} y_{x}^3+4 y \\phi_{yy} y_{x}^2-8 y \\xi_{yx} y_{x}^2+3/2 \\xi_{y} y_{x}^3-12 y \\xi_{y} y_{x} y_{xx}-36 \\phi y+8 y \\phi_{yx} y_{x}-4 y \\xi_{xx} y_{x}-3/2 \\phi_{y} y_{x}^2+3/2 \\xi_{x} y_{x}^2+4 y \\phi_{y} y_{xx}-8 y \\xi_{x} y_{xx}+4 y \\phi_{xx}-3/2 \\phi_{x} y_{x}+4 \\phi y_{xx}\\)</p>"
      ],
      "text/plain": [
       "<p>\\(-4 y \\xi_{yy} y_{x}^3+4 y \\phi_{yy} y_{x}^2-8 y \\xi_{yx} y_{x}^2+3/2 \\xi_{y} y_{x}^3-12 y \\xi_{y} y_{x} y_{xx}-36 \\phi y+8 y \\phi_{yx} y_{x}-4 y \\xi_{xx} y_{x}-3/2 \\phi_{y} y_{x}^2+3/2 \\xi_{x} y_{x}^2+4 y \\phi_{y} y_{xx}-8 y \\xi_{x} y_{xx}+4 y \\phi_{xx}-3/2 \\phi_{x} y_{x}+4 \\phi y_{xx}\\)</p>"
      ]
     },
     "execution_count": 22,
     "metadata": {},
     "output_type": "execute_result"
    }
   ],
   "source": [
    "from IPython.core.debugger import set_trace\n",
    "import re\n",
    "re_num   = re.compile(r\"^(?P<sign>[+-])?(?P<p1>\\d*)?(?P<p2>[.|/]\\d*)?$\")\n",
    "re_diff1 = re.compile(r\"^D\\[(?P<vars>.+)\\]\\((?P<f1>[^\\)]+)\\)\\((?P<args>.*)\\)(\\^(?P<exp>.+)$)?\")\n",
    "re_diff2 = re.compile(r\"^diff\\((?P<diff>.+)\\)(\\^(?P<exp>.+)$)?\")                      \n",
    "nakedf   = re.compile(r\"^(?P<fname>\\w+)\\(.*$\")\n",
    "latexf   = re.compile(r\"^(?P<f>(\\\\)?\\w+)\")\n",
    "\n",
    "def latexer(e):\n",
    "    ops = e.expand().operands()\n",
    "    def _latexer(t):\n",
    "        o = t.operands()\n",
    "        res = \"\"\n",
    "        for _o in o: \n",
    "            if match := re_num.match(str(_o)):\n",
    "                gd   = match.groupdict()\n",
    "                sign = gd[\"sign\"]\n",
    "                if not sign:\n",
    "                    sign = \"\"\n",
    "                p1   = gd[\"p1\"] if gd[\"p1\"] else 0\n",
    "                p2   = gd[\"p2\"] if gd[\"p2\"] else \"\"\n",
    "                res  = sign + str(p1) + str(p2) + res\n",
    "            elif match := re_diff2.match(str(_o)):\n",
    "                params = match.groupdict()[\"diff\"].split(\",\")\n",
    "                params = [_.strip() for _ in params]\n",
    "                fu = params[0]\n",
    "                if not match.groupdict().get(\"exp\", \"\"):\n",
    "                    res += \" %s_{%s}\" % (nakedf.match(fu).groupdict()[\"fname\"], \"\".join(_ for _ in params[1:]))\n",
    "                else:\n",
    "                    res += \" %s_{%s}^%s\" % (nakedf.match(fu).groupdict()[\"fname\"], \"\".join(_ for _ in params[1:])\n",
    "                                       , match.groupdict()[\"exp\"])\n",
    "            elif match := re_diff1.match(str(_o)):\n",
    "                params  = match.groupdict()[\"args\"].split(\",\")\n",
    "                params  = [_.strip() for _ in params]\n",
    "                fu      = params[0]\n",
    "                vv      = [int(_) for _ in match.groupdict()[\"vars\"].split(\",\")]\n",
    "                params  = [nakedf.match(fu).groupdict()[\"fname\"]] + params[1:]    \n",
    "                latexf1 = re.compile(r\"^.+\\\\left\\((?P<f>(\\\\)?%s)\" % match.groupdict()[\"f1\"])\n",
    "                fn      = latexf1.match(_o._latex_()).groupdict()[\"f\"]\n",
    "                if not match.groupdict().get(\"exp\", \"\"):                    \n",
    "                    res += r\" %s_{%s}\" % (fn, \"\".join((params[i] for i in vv)))\n",
    "                else:\n",
    "                    res += r\" %s_{%s}^%s\" % (fn, \n",
    "                                       \"\".join((params[i] for i in vv))), match.groupdict()[\"exp\"]\n",
    "            elif match := nakedf.match(str(_o)):\n",
    "                n = match.groupdict()[\"fname\"]\n",
    "                lf = _o._latex_()    \n",
    "                res += r\" %s\" % latexf.match(lf).groupdict()[\"f\"]\n",
    "        return res\n",
    "    \n",
    "    all = \"\"\n",
    "    for _ in ops:\n",
    "        r = _latexer(_)\n",
    "        \n",
    "        if r.startswith(\"-\"):\n",
    "            all += r\n",
    "        else:\n",
    "            all += \"+\"+r\n",
    "    return html(\"<p>$\"+all+\"$</p>\")\n",
    "latexer(p)"
   ]
  },
  {
   "cell_type": "code",
   "execution_count": null,
   "id": "65e59429-953c-48ff-9cba-bd7f7e2a1430",
   "metadata": {},
   "outputs": [],
   "source": [
    "    "
   ]
  },
  {
   "cell_type": "code",
   "execution_count": null,
   "id": "90ac3e44-83ee-4010-a9c6-0062a0bcc99c",
   "metadata": {},
   "outputs": [],
   "source": []
  }
 ],
 "metadata": {
  "kernelspec": {
   "display_name": "SageMath 9.6",
   "language": "sage",
   "name": "sagemath"
  },
  "language_info": {
   "codemirror_mode": {
    "name": "ipython",
    "version": 3
   },
   "file_extension": ".py",
   "mimetype": "text/x-python",
   "name": "python",
   "nbconvert_exporter": "python",
   "pygments_lexer": "ipython3",
   "version": "3.10.6"
  },
  "widgets": {
   "application/vnd.jupyter.widget-state+json": {
    "state": {},
    "version_major": 2,
    "version_minor": 0
   }
  }
 },
 "nbformat": 4,
 "nbformat_minor": 5
}
