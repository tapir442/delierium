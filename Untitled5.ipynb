{
 "cells": [
  {
   "cell_type": "code",
   "execution_count": 6,
   "id": "65518076",
   "metadata": {},
   "outputs": [],
   "source": [
    "from delierium.helpers import adiff\n",
    "from delierium.MatrixOrder import Context\n",
    "x   = var('x')\n",
    "y   = function ('y')\n",
    "xi  = function('xi')(y(x),x)\n",
    "eta = function ('eta')(y(x), x)\n",
    "ctx = Context([xi, eta], (y,x))\n",
    "f1  = adiff(xi, ctx, y, y) + 3 * adiff(xi, ctx, y)/(4*y(x))\n",
    "f2  = diff (eta, x, x) + 3* y(x)**2 * adiff(eta, ctx, y) - 6*y(x)**2*diff(xi, x)-6*y(x)*eta\n",
    "f3  = adiff(diff(eta, x), ctx, y) - adiff(xi, ctx, x,x)/2 - 3 * diff(eta, x)/4 - 9*y(x)**2 * adiff(xi, ctx)/2\n",
    "f4  = adiff(eta, ctx, y, y)-2*adiff(diff(xi,x), ctx, y)-3*adiff(eta, ctx, y)/(4*y(x))+3*eta/(4*y(x)**2)"
   ]
  },
  {
   "cell_type": "code",
   "execution_count": 7,
   "id": "24306235",
   "metadata": {
    "scrolled": true
   },
   "outputs": [
    {
     "data": {
      "text/html": [
       "<html>\\[\\newcommand{\\Bold}[1]{\\mathbf{#1}}\\frac{3 \\, \\mathrm{D}_{0}\\left(\\xi\\right)\\left(y\\left(x\\right), x\\right)}{4 \\, y\\left(x\\right)} + \\mathrm{D}_{0, 0}\\left(\\xi\\right)\\left(y\\left(x\\right), x\\right)\\]</html>"
      ],
      "text/latex": [
       "$$\\newcommand{\\Bold}[1]{\\mathbf{#1}}\\frac{3 \\, \\mathrm{D}_{0}\\left(\\xi\\right)\\left(y\\left(x\\right), x\\right)}{4 \\, y\\left(x\\right)} + \\mathrm{D}_{0, 0}\\left(\\xi\\right)\\left(y\\left(x\\right), x\\right)$$"
      ],
      "text/plain": [
       "3/4*D[0](xi)(y(x), x)/y(x) + D[0, 0](xi)(y(x), x)"
      ]
     },
     "metadata": {},
     "output_type": "display_data"
    },
    {
     "data": {
      "text/html": [
       "<html>\\[\\newcommand{\\Bold}[1]{\\mathbf{#1}}-6 \\, y\\left(x\\right)^{2} \\mathrm{D}_{0}\\left(\\xi\\right)\\left(y\\left(x\\right), x\\right) \\frac{\\partial}{\\partial x}y\\left(x\\right) + 3 \\, y\\left(x\\right)^{2} \\mathrm{D}_{0}\\left(\\eta\\right)\\left(y\\left(x\\right), x\\right) - 6 \\, y\\left(x\\right)^{2} \\mathrm{D}_{1}\\left(\\xi\\right)\\left(y\\left(x\\right), x\\right) + \\mathrm{D}_{0, 0}\\left(\\eta\\right)\\left(y\\left(x\\right), x\\right) \\frac{\\partial}{\\partial x}y\\left(x\\right)^{2} - 6 \\, \\eta\\left(y\\left(x\\right), x\\right) y\\left(x\\right) + 2 \\, \\mathrm{D}_{0, 1}\\left(\\eta\\right)\\left(y\\left(x\\right), x\\right) \\frac{\\partial}{\\partial x}y\\left(x\\right) + \\mathrm{D}_{0}\\left(\\eta\\right)\\left(y\\left(x\\right), x\\right) \\frac{\\partial^{2}}{(\\partial x)^{2}}y\\left(x\\right) + \\mathrm{D}_{1, 1}\\left(\\eta\\right)\\left(y\\left(x\\right), x\\right)\\]</html>"
      ],
      "text/latex": [
       "$$\\newcommand{\\Bold}[1]{\\mathbf{#1}}-6 \\, y\\left(x\\right)^{2} \\mathrm{D}_{0}\\left(\\xi\\right)\\left(y\\left(x\\right), x\\right) \\frac{\\partial}{\\partial x}y\\left(x\\right) + 3 \\, y\\left(x\\right)^{2} \\mathrm{D}_{0}\\left(\\eta\\right)\\left(y\\left(x\\right), x\\right) - 6 \\, y\\left(x\\right)^{2} \\mathrm{D}_{1}\\left(\\xi\\right)\\left(y\\left(x\\right), x\\right) + \\mathrm{D}_{0, 0}\\left(\\eta\\right)\\left(y\\left(x\\right), x\\right) \\frac{\\partial}{\\partial x}y\\left(x\\right)^{2} - 6 \\, \\eta\\left(y\\left(x\\right), x\\right) y\\left(x\\right) + 2 \\, \\mathrm{D}_{0, 1}\\left(\\eta\\right)\\left(y\\left(x\\right), x\\right) \\frac{\\partial}{\\partial x}y\\left(x\\right) + \\mathrm{D}_{0}\\left(\\eta\\right)\\left(y\\left(x\\right), x\\right) \\frac{\\partial^{2}}{(\\partial x)^{2}}y\\left(x\\right) + \\mathrm{D}_{1, 1}\\left(\\eta\\right)\\left(y\\left(x\\right), x\\right)$$"
      ],
      "text/plain": [
       "-6*y(x)^2*D[0](xi)(y(x), x)*diff(y(x), x) + 3*y(x)^2*D[0](eta)(y(x), x) - 6*y(x)^2*D[1](xi)(y(x), x) + D[0, 0](eta)(y(x), x)*diff(y(x), x)^2 - 6*eta(y(x), x)*y(x) + 2*D[0, 1](eta)(y(x), x)*diff(y(x), x) + D[0](eta)(y(x), x)*diff(y(x), x, x) + D[1, 1](eta)(y(x), x)"
      ]
     },
     "metadata": {},
     "output_type": "display_data"
    },
    {
     "data": {
      "text/html": [
       "<html>\\[\\newcommand{\\Bold}[1]{\\mathbf{#1}}-\\frac{9}{2} \\, \\xi\\left(y\\left(x\\right), x\\right) y\\left(x\\right)^{2} - \\frac{1}{2} \\, \\mathrm{D}_{0, 0}\\left(\\xi\\right)\\left(y\\left(x\\right), x\\right) \\frac{\\partial}{\\partial x}y\\left(x\\right)^{2} - \\frac{3}{4} \\, \\mathrm{D}_{0}\\left(\\eta\\right)\\left(y\\left(x\\right), x\\right) \\frac{\\partial}{\\partial x}y\\left(x\\right) - \\mathrm{D}_{0, 1}\\left(\\xi\\right)\\left(y\\left(x\\right), x\\right) \\frac{\\partial}{\\partial x}y\\left(x\\right) - \\frac{1}{2} \\, \\mathrm{D}_{0}\\left(\\xi\\right)\\left(y\\left(x\\right), x\\right) \\frac{\\partial^{2}}{(\\partial x)^{2}}y\\left(x\\right) - \\frac{3}{4} \\, \\mathrm{D}_{1}\\left(\\eta\\right)\\left(y\\left(x\\right), x\\right) - \\frac{1}{2} \\, \\mathrm{D}_{1, 1}\\left(\\xi\\right)\\left(y\\left(x\\right), x\\right)\\]</html>"
      ],
      "text/latex": [
       "$$\\newcommand{\\Bold}[1]{\\mathbf{#1}}-\\frac{9}{2} \\, \\xi\\left(y\\left(x\\right), x\\right) y\\left(x\\right)^{2} - \\frac{1}{2} \\, \\mathrm{D}_{0, 0}\\left(\\xi\\right)\\left(y\\left(x\\right), x\\right) \\frac{\\partial}{\\partial x}y\\left(x\\right)^{2} - \\frac{3}{4} \\, \\mathrm{D}_{0}\\left(\\eta\\right)\\left(y\\left(x\\right), x\\right) \\frac{\\partial}{\\partial x}y\\left(x\\right) - \\mathrm{D}_{0, 1}\\left(\\xi\\right)\\left(y\\left(x\\right), x\\right) \\frac{\\partial}{\\partial x}y\\left(x\\right) - \\frac{1}{2} \\, \\mathrm{D}_{0}\\left(\\xi\\right)\\left(y\\left(x\\right), x\\right) \\frac{\\partial^{2}}{(\\partial x)^{2}}y\\left(x\\right) - \\frac{3}{4} \\, \\mathrm{D}_{1}\\left(\\eta\\right)\\left(y\\left(x\\right), x\\right) - \\frac{1}{2} \\, \\mathrm{D}_{1, 1}\\left(\\xi\\right)\\left(y\\left(x\\right), x\\right)$$"
      ],
      "text/plain": [
       "-9/2*xi(y(x), x)*y(x)^2 - 1/2*D[0, 0](xi)(y(x), x)*diff(y(x), x)^2 - 3/4*D[0](eta)(y(x), x)*diff(y(x), x) - D[0, 1](xi)(y(x), x)*diff(y(x), x) - 1/2*D[0](xi)(y(x), x)*diff(y(x), x, x) - 3/4*D[1](eta)(y(x), x) - 1/2*D[1, 1](xi)(y(x), x)"
      ]
     },
     "metadata": {},
     "output_type": "display_data"
    },
    {
     "data": {
      "text/html": [
       "<html>\\[\\newcommand{\\Bold}[1]{\\mathbf{#1}}-\\frac{3 \\, \\mathrm{D}_{0}\\left(\\eta\\right)\\left(y\\left(x\\right), x\\right)}{4 \\, y\\left(x\\right)} + \\frac{3 \\, \\eta\\left(y\\left(x\\right), x\\right)}{4 \\, y\\left(x\\right)^{2}} + \\mathrm{D}_{0, 0}\\left(\\eta\\right)\\left(y\\left(x\\right), x\\right)\\]</html>"
      ],
      "text/latex": [
       "$$\\newcommand{\\Bold}[1]{\\mathbf{#1}}-\\frac{3 \\, \\mathrm{D}_{0}\\left(\\eta\\right)\\left(y\\left(x\\right), x\\right)}{4 \\, y\\left(x\\right)} + \\frac{3 \\, \\eta\\left(y\\left(x\\right), x\\right)}{4 \\, y\\left(x\\right)^{2}} + \\mathrm{D}_{0, 0}\\left(\\eta\\right)\\left(y\\left(x\\right), x\\right)$$"
      ],
      "text/plain": [
       "-3/4*D[0](eta)(y(x), x)/y(x) + 3/4*eta(y(x), x)/y(x)^2 + D[0, 0](eta)(y(x), x)"
      ]
     },
     "metadata": {},
     "output_type": "display_data"
    }
   ],
   "source": [
    "f1.expand().show()\n",
    "f2.expand().show()\n",
    "f3.expand().show()\n",
    "f4.expand().show()"
   ]
  },
  {
   "cell_type": "code",
   "execution_count": 14,
   "id": "941a964b",
   "metadata": {},
   "outputs": [
    {
     "ename": "ValueError",
     "evalue": "tuple.index(x): x not in tuple",
     "output_type": "error",
     "traceback": [
      "\u001b[0;31m---------------------------------------------------------------------------\u001b[0m",
      "\u001b[0;31mValueError\u001b[0m                                Traceback (most recent call last)",
      "\u001b[0;32m<ipython-input-14-abab392fbcda>\u001b[0m in \u001b[0;36m<module>\u001b[0;34m\u001b[0m\n\u001b[1;32m      1\u001b[0m \u001b[0;32mfrom\u001b[0m \u001b[0mdelierium\u001b[0m\u001b[0;34m.\u001b[0m\u001b[0mJanetBasis\u001b[0m \u001b[0;32mimport\u001b[0m \u001b[0mJanet_Basis\u001b[0m\u001b[0;34m\u001b[0m\u001b[0;34m\u001b[0m\u001b[0m\n\u001b[0;32m----> 2\u001b[0;31m \u001b[0mJanet_Basis\u001b[0m\u001b[0;34m(\u001b[0m\u001b[0;34m[\u001b[0m\u001b[0mf1\u001b[0m\u001b[0;34m,\u001b[0m\u001b[0mf2\u001b[0m\u001b[0;34m,\u001b[0m\u001b[0mf3\u001b[0m\u001b[0;34m,\u001b[0m\u001b[0mf4\u001b[0m\u001b[0;34m]\u001b[0m\u001b[0;34m,\u001b[0m \u001b[0;34m(\u001b[0m\u001b[0mxi\u001b[0m\u001b[0;34m,\u001b[0m \u001b[0meta\u001b[0m\u001b[0;34m)\u001b[0m\u001b[0;34m,\u001b[0m \u001b[0;34m(\u001b[0m\u001b[0my\u001b[0m \u001b[0;34m,\u001b[0m\u001b[0mx\u001b[0m\u001b[0;34m)\u001b[0m\u001b[0;34m)\u001b[0m\u001b[0;34m\u001b[0m\u001b[0;34m\u001b[0m\u001b[0m\n\u001b[0m",
      "\u001b[0;32m~/delierium/delierium/JanetBasis.py\u001b[0m in \u001b[0;36m__init__\u001b[0;34m(self, S, dependent, independent, sort_order)\u001b[0m\n\u001b[1;32m    590\u001b[0m             \u001b[0mself\u001b[0m\u001b[0;34m.\u001b[0m\u001b[0mS\u001b[0m \u001b[0;34m=\u001b[0m \u001b[0mS\u001b[0m\u001b[0;34m[\u001b[0m\u001b[0;34m:\u001b[0m\u001b[0;34m]\u001b[0m\u001b[0;34m\u001b[0m\u001b[0;34m\u001b[0m\u001b[0m\n\u001b[1;32m    591\u001b[0m         \u001b[0mold\u001b[0m \u001b[0;34m=\u001b[0m \u001b[0;34m[\u001b[0m\u001b[0;34m]\u001b[0m\u001b[0;34m\u001b[0m\u001b[0;34m\u001b[0m\u001b[0m\n\u001b[0;32m--> 592\u001b[0;31m         \u001b[0mself\u001b[0m\u001b[0;34m.\u001b[0m\u001b[0mS\u001b[0m \u001b[0;34m=\u001b[0m \u001b[0mReorder\u001b[0m\u001b[0;34m(\u001b[0m\u001b[0;34m[\u001b[0m\u001b[0m_Differential_Polynomial\u001b[0m\u001b[0;34m(\u001b[0m\u001b[0ms\u001b[0m\u001b[0;34m,\u001b[0m \u001b[0mcontext\u001b[0m\u001b[0;34m)\u001b[0m \u001b[0;32mfor\u001b[0m \u001b[0ms\u001b[0m \u001b[0;32min\u001b[0m \u001b[0mself\u001b[0m\u001b[0;34m.\u001b[0m\u001b[0mS\u001b[0m\u001b[0;34m]\u001b[0m\u001b[0;34m,\u001b[0m \u001b[0mcontext\u001b[0m\u001b[0;34m,\u001b[0m \u001b[0mascending\u001b[0m \u001b[0;34m=\u001b[0m \u001b[0;32mTrue\u001b[0m\u001b[0;34m)\u001b[0m\u001b[0;34m\u001b[0m\u001b[0;34m\u001b[0m\u001b[0m\n\u001b[0m\u001b[1;32m    593\u001b[0m         \u001b[0;32mwhile\u001b[0m \u001b[0;36m1\u001b[0m\u001b[0;34m:\u001b[0m\u001b[0;34m\u001b[0m\u001b[0;34m\u001b[0m\u001b[0m\n\u001b[1;32m    594\u001b[0m             \u001b[0;32mif\u001b[0m \u001b[0mold\u001b[0m \u001b[0;34m==\u001b[0m \u001b[0mself\u001b[0m\u001b[0;34m.\u001b[0m\u001b[0mS\u001b[0m\u001b[0;34m:\u001b[0m\u001b[0;34m\u001b[0m\u001b[0;34m\u001b[0m\u001b[0m\n",
      "\u001b[0;32m~/delierium/delierium/JanetBasis.py\u001b[0m in \u001b[0;36m<listcomp>\u001b[0;34m(.0)\u001b[0m\n\u001b[1;32m    590\u001b[0m             \u001b[0mself\u001b[0m\u001b[0;34m.\u001b[0m\u001b[0mS\u001b[0m \u001b[0;34m=\u001b[0m \u001b[0mS\u001b[0m\u001b[0;34m[\u001b[0m\u001b[0;34m:\u001b[0m\u001b[0;34m]\u001b[0m\u001b[0;34m\u001b[0m\u001b[0;34m\u001b[0m\u001b[0m\n\u001b[1;32m    591\u001b[0m         \u001b[0mold\u001b[0m \u001b[0;34m=\u001b[0m \u001b[0;34m[\u001b[0m\u001b[0;34m]\u001b[0m\u001b[0;34m\u001b[0m\u001b[0;34m\u001b[0m\u001b[0m\n\u001b[0;32m--> 592\u001b[0;31m         \u001b[0mself\u001b[0m\u001b[0;34m.\u001b[0m\u001b[0mS\u001b[0m \u001b[0;34m=\u001b[0m \u001b[0mReorder\u001b[0m\u001b[0;34m(\u001b[0m\u001b[0;34m[\u001b[0m\u001b[0m_Differential_Polynomial\u001b[0m\u001b[0;34m(\u001b[0m\u001b[0ms\u001b[0m\u001b[0;34m,\u001b[0m \u001b[0mcontext\u001b[0m\u001b[0;34m)\u001b[0m \u001b[0;32mfor\u001b[0m \u001b[0ms\u001b[0m \u001b[0;32min\u001b[0m \u001b[0mself\u001b[0m\u001b[0;34m.\u001b[0m\u001b[0mS\u001b[0m\u001b[0;34m]\u001b[0m\u001b[0;34m,\u001b[0m \u001b[0mcontext\u001b[0m\u001b[0;34m,\u001b[0m \u001b[0mascending\u001b[0m \u001b[0;34m=\u001b[0m \u001b[0;32mTrue\u001b[0m\u001b[0;34m)\u001b[0m\u001b[0;34m\u001b[0m\u001b[0;34m\u001b[0m\u001b[0m\n\u001b[0m\u001b[1;32m    593\u001b[0m         \u001b[0;32mwhile\u001b[0m \u001b[0;36m1\u001b[0m\u001b[0;34m:\u001b[0m\u001b[0;34m\u001b[0m\u001b[0;34m\u001b[0m\u001b[0m\n\u001b[1;32m    594\u001b[0m             \u001b[0;32mif\u001b[0m \u001b[0mold\u001b[0m \u001b[0;34m==\u001b[0m \u001b[0mself\u001b[0m\u001b[0;34m.\u001b[0m\u001b[0mS\u001b[0m\u001b[0;34m:\u001b[0m\u001b[0;34m\u001b[0m\u001b[0;34m\u001b[0m\u001b[0m\n",
      "\u001b[0;32m~/delierium/delierium/JanetBasis.py\u001b[0m in \u001b[0;36m__init__\u001b[0;34m(self, e, context)\u001b[0m\n\u001b[1;32m    104\u001b[0m         \u001b[0mself\u001b[0m\u001b[0;34m.\u001b[0m\u001b[0m_p\u001b[0m \u001b[0;34m=\u001b[0m \u001b[0;34m[\u001b[0m\u001b[0;34m]\u001b[0m\u001b[0;34m\u001b[0m\u001b[0;34m\u001b[0m\u001b[0m\n\u001b[1;32m    105\u001b[0m         \u001b[0;32mif\u001b[0m \u001b[0;32mnot\u001b[0m \u001b[0meq\u001b[0m\u001b[0;34m(\u001b[0m\u001b[0;36m0\u001b[0m\u001b[0;34m,\u001b[0m \u001b[0me\u001b[0m\u001b[0;34m)\u001b[0m\u001b[0;34m:\u001b[0m\u001b[0;34m\u001b[0m\u001b[0;34m\u001b[0m\u001b[0m\n\u001b[0;32m--> 106\u001b[0;31m             \u001b[0mself\u001b[0m\u001b[0;34m.\u001b[0m\u001b[0m_init\u001b[0m\u001b[0;34m(\u001b[0m\u001b[0me\u001b[0m\u001b[0;34m.\u001b[0m\u001b[0mexpand\u001b[0m\u001b[0;34m(\u001b[0m\u001b[0;34m)\u001b[0m\u001b[0;34m)\u001b[0m\u001b[0;34m\u001b[0m\u001b[0;34m\u001b[0m\u001b[0m\n\u001b[0m\u001b[1;32m    107\u001b[0m     \u001b[0;32mdef\u001b[0m \u001b[0m_init\u001b[0m\u001b[0;34m(\u001b[0m\u001b[0mself\u001b[0m\u001b[0;34m,\u001b[0m \u001b[0me\u001b[0m\u001b[0;34m)\u001b[0m\u001b[0;34m:\u001b[0m\u001b[0;34m\u001b[0m\u001b[0;34m\u001b[0m\u001b[0m\n\u001b[1;32m    108\u001b[0m         \u001b[0;32mif\u001b[0m \u001b[0mis_derivative\u001b[0m\u001b[0;34m(\u001b[0m\u001b[0me\u001b[0m\u001b[0;34m)\u001b[0m \u001b[0;32mor\u001b[0m \u001b[0mis_function\u001b[0m\u001b[0;34m(\u001b[0m\u001b[0me\u001b[0m\u001b[0;34m)\u001b[0m\u001b[0;34m:\u001b[0m\u001b[0;34m\u001b[0m\u001b[0;34m\u001b[0m\u001b[0m\n",
      "\u001b[0;32m~/delierium/delierium/JanetBasis.py\u001b[0m in \u001b[0;36m_init\u001b[0;34m(self, e)\u001b[0m\n\u001b[1;32m    131\u001b[0m                     \u001b[0;32melse\u001b[0m\u001b[0;34m:\u001b[0m\u001b[0;34m\u001b[0m\u001b[0;34m\u001b[0m\u001b[0m\n\u001b[1;32m    132\u001b[0m                         \u001b[0mself\u001b[0m\u001b[0;34m.\u001b[0m\u001b[0m_p\u001b[0m\u001b[0;34m.\u001b[0m\u001b[0mappend\u001b[0m \u001b[0;34m(\u001b[0m\u001b[0m_Dterm\u001b[0m\u001b[0;34m(\u001b[0m\u001b[0mcoeff\u001b[0m\u001b[0;34m,\u001b[0m \u001b[0mself\u001b[0m\u001b[0;34m.\u001b[0m\u001b[0m_context\u001b[0m\u001b[0;34m)\u001b[0m\u001b[0;34m)\u001b[0m\u001b[0;34m\u001b[0m\u001b[0;34m\u001b[0m\u001b[0m\n\u001b[0;32m--> 133\u001b[0;31m         self._p.sort(key=functools.cmp_to_key(\n\u001b[0m\u001b[1;32m    134\u001b[0m             \u001b[0;32mlambda\u001b[0m \u001b[0mitem1\u001b[0m\u001b[0;34m,\u001b[0m \u001b[0mitem2\u001b[0m\u001b[0;34m:\u001b[0m \u001b[0msorter\u001b[0m\u001b[0;34m(\u001b[0m\u001b[0mitem1\u001b[0m\u001b[0;34m.\u001b[0m\u001b[0m_d\u001b[0m\u001b[0;34m,\u001b[0m \u001b[0mitem2\u001b[0m\u001b[0;34m.\u001b[0m\u001b[0m_d\u001b[0m\u001b[0;34m,\u001b[0m \u001b[0mself\u001b[0m\u001b[0;34m.\u001b[0m\u001b[0m_context\u001b[0m\u001b[0;34m)\u001b[0m\u001b[0;34m\u001b[0m\u001b[0;34m\u001b[0m\u001b[0m\n\u001b[1;32m    135\u001b[0m             ),reverse = True\n",
      "\u001b[0;32m~/delierium/delierium/JanetBasis.py\u001b[0m in \u001b[0;36m<lambda>\u001b[0;34m(item1, item2)\u001b[0m\n\u001b[1;32m    132\u001b[0m                         \u001b[0mself\u001b[0m\u001b[0;34m.\u001b[0m\u001b[0m_p\u001b[0m\u001b[0;34m.\u001b[0m\u001b[0mappend\u001b[0m \u001b[0;34m(\u001b[0m\u001b[0m_Dterm\u001b[0m\u001b[0;34m(\u001b[0m\u001b[0mcoeff\u001b[0m\u001b[0;34m,\u001b[0m \u001b[0mself\u001b[0m\u001b[0;34m.\u001b[0m\u001b[0m_context\u001b[0m\u001b[0;34m)\u001b[0m\u001b[0;34m)\u001b[0m\u001b[0;34m\u001b[0m\u001b[0;34m\u001b[0m\u001b[0m\n\u001b[1;32m    133\u001b[0m         self._p.sort(key=functools.cmp_to_key(\n\u001b[0;32m--> 134\u001b[0;31m             \u001b[0;32mlambda\u001b[0m \u001b[0mitem1\u001b[0m\u001b[0;34m,\u001b[0m \u001b[0mitem2\u001b[0m\u001b[0;34m:\u001b[0m \u001b[0msorter\u001b[0m\u001b[0;34m(\u001b[0m\u001b[0mitem1\u001b[0m\u001b[0;34m.\u001b[0m\u001b[0m_d\u001b[0m\u001b[0;34m,\u001b[0m \u001b[0mitem2\u001b[0m\u001b[0;34m.\u001b[0m\u001b[0m_d\u001b[0m\u001b[0;34m,\u001b[0m \u001b[0mself\u001b[0m\u001b[0;34m.\u001b[0m\u001b[0m_context\u001b[0m\u001b[0;34m)\u001b[0m\u001b[0;34m\u001b[0m\u001b[0;34m\u001b[0m\u001b[0m\n\u001b[0m\u001b[1;32m    135\u001b[0m             ),reverse = True\n\u001b[1;32m    136\u001b[0m         )\n",
      "\u001b[0;32m~/delierium/delierium/MatrixOrder.py\u001b[0m in \u001b[0;36msorter\u001b[0;34m(d1, d2, context)\u001b[0m\n\u001b[1;32m    186\u001b[0m     \u001b[0;32mif\u001b[0m \u001b[0meq\u001b[0m\u001b[0;34m(\u001b[0m\u001b[0md1\u001b[0m\u001b[0;34m,\u001b[0m \u001b[0md2\u001b[0m\u001b[0;34m)\u001b[0m\u001b[0;34m:\u001b[0m\u001b[0;34m\u001b[0m\u001b[0;34m\u001b[0m\u001b[0m\n\u001b[1;32m    187\u001b[0m         \u001b[0;32mreturn\u001b[0m \u001b[0;36m1\u001b[0m\u001b[0;34m\u001b[0m\u001b[0;34m\u001b[0m\u001b[0m\n\u001b[0;32m--> 188\u001b[0;31m     \u001b[0;32mif\u001b[0m \u001b[0mhigher\u001b[0m\u001b[0;34m(\u001b[0m\u001b[0md1\u001b[0m\u001b[0;34m,\u001b[0m \u001b[0md2\u001b[0m\u001b[0;34m,\u001b[0m \u001b[0mcontext\u001b[0m\u001b[0;34m)\u001b[0m\u001b[0;34m:\u001b[0m\u001b[0;34m\u001b[0m\u001b[0;34m\u001b[0m\u001b[0m\n\u001b[0m\u001b[1;32m    189\u001b[0m         \u001b[0;32mreturn\u001b[0m \u001b[0;36m1\u001b[0m\u001b[0;34m\u001b[0m\u001b[0;34m\u001b[0m\u001b[0m\n\u001b[1;32m    190\u001b[0m     \u001b[0;32mreturn\u001b[0m \u001b[0;34m-\u001b[0m\u001b[0;36m1\u001b[0m\u001b[0;34m\u001b[0m\u001b[0;34m\u001b[0m\u001b[0m\n",
      "\u001b[0;32m~/delierium/delierium/MatrixOrder.py\u001b[0m in \u001b[0;36mhigher\u001b[0;34m(d1, d2, context)\u001b[0m\n\u001b[1;32m    139\u001b[0m         \u001b[0miv\u001b[0m \u001b[0;34m[\u001b[0m\u001b[0midx\u001b[0m\u001b[0;34m(\u001b[0m\u001b[0md\u001b[0m\u001b[0;34m)\u001b[0m\u001b[0;34m]\u001b[0m \u001b[0;34m+=\u001b[0m \u001b[0;36m1\u001b[0m\u001b[0;34m\u001b[0m\u001b[0;34m\u001b[0m\u001b[0m\n\u001b[1;32m    140\u001b[0m         \u001b[0;32mreturn\u001b[0m \u001b[0mvector\u001b[0m\u001b[0;34m(\u001b[0m\u001b[0morder_of_derivative\u001b[0m\u001b[0;34m(\u001b[0m\u001b[0md\u001b[0m\u001b[0;34m,\u001b[0m \u001b[0mlen\u001b[0m\u001b[0;34m(\u001b[0m\u001b[0mcontext\u001b[0m\u001b[0;34m.\u001b[0m\u001b[0m_independent\u001b[0m\u001b[0;34m)\u001b[0m\u001b[0;34m)\u001b[0m \u001b[0;34m+\u001b[0m \u001b[0miv\u001b[0m\u001b[0;34m)\u001b[0m\u001b[0;34m\u001b[0m\u001b[0;34m\u001b[0m\u001b[0m\n\u001b[0;32m--> 141\u001b[0;31m     \u001b[0mi1\u001b[0m \u001b[0;34m=\u001b[0m \u001b[0mget_derivative_vector\u001b[0m\u001b[0;34m(\u001b[0m\u001b[0md1\u001b[0m\u001b[0;34m)\u001b[0m\u001b[0;34m\u001b[0m\u001b[0;34m\u001b[0m\u001b[0m\n\u001b[0m\u001b[1;32m    142\u001b[0m     \u001b[0mi2\u001b[0m \u001b[0;34m=\u001b[0m \u001b[0mget_derivative_vector\u001b[0m\u001b[0;34m(\u001b[0m\u001b[0md2\u001b[0m\u001b[0;34m)\u001b[0m\u001b[0;34m\u001b[0m\u001b[0;34m\u001b[0m\u001b[0m\n\u001b[1;32m    143\u001b[0m     \u001b[0mr\u001b[0m \u001b[0;34m=\u001b[0m \u001b[0mcontext\u001b[0m\u001b[0;34m.\u001b[0m\u001b[0m_weight\u001b[0m \u001b[0;34m*\u001b[0m \u001b[0mvector\u001b[0m\u001b[0;34m(\u001b[0m\u001b[0mi1\u001b[0m\u001b[0;34m-\u001b[0m\u001b[0mi2\u001b[0m\u001b[0;34m)\u001b[0m\u001b[0;34m\u001b[0m\u001b[0;34m\u001b[0m\u001b[0m\n",
      "\u001b[0;32m~/delierium/delierium/MatrixOrder.py\u001b[0m in \u001b[0;36mget_derivative_vector\u001b[0;34m(d)\u001b[0m\n\u001b[1;32m    137\u001b[0m     \u001b[0;32mdef\u001b[0m \u001b[0mget_derivative_vector\u001b[0m\u001b[0;34m(\u001b[0m\u001b[0md\u001b[0m\u001b[0;34m)\u001b[0m\u001b[0;34m:\u001b[0m\u001b[0;34m\u001b[0m\u001b[0;34m\u001b[0m\u001b[0m\n\u001b[1;32m    138\u001b[0m         \u001b[0miv\u001b[0m \u001b[0;34m=\u001b[0m \u001b[0;34m[\u001b[0m\u001b[0;36m0\u001b[0m\u001b[0;34m]\u001b[0m\u001b[0;34m*\u001b[0m\u001b[0mlen\u001b[0m\u001b[0;34m(\u001b[0m\u001b[0mcontext\u001b[0m\u001b[0;34m.\u001b[0m\u001b[0m_dependent\u001b[0m\u001b[0;34m)\u001b[0m\u001b[0;34m\u001b[0m\u001b[0;34m\u001b[0m\u001b[0m\n\u001b[0;32m--> 139\u001b[0;31m         \u001b[0miv\u001b[0m \u001b[0;34m[\u001b[0m\u001b[0midx\u001b[0m\u001b[0;34m(\u001b[0m\u001b[0md\u001b[0m\u001b[0;34m)\u001b[0m\u001b[0;34m]\u001b[0m \u001b[0;34m+=\u001b[0m \u001b[0;36m1\u001b[0m\u001b[0;34m\u001b[0m\u001b[0;34m\u001b[0m\u001b[0m\n\u001b[0m\u001b[1;32m    140\u001b[0m         \u001b[0;32mreturn\u001b[0m \u001b[0mvector\u001b[0m\u001b[0;34m(\u001b[0m\u001b[0morder_of_derivative\u001b[0m\u001b[0;34m(\u001b[0m\u001b[0md\u001b[0m\u001b[0;34m,\u001b[0m \u001b[0mlen\u001b[0m\u001b[0;34m(\u001b[0m\u001b[0mcontext\u001b[0m\u001b[0;34m.\u001b[0m\u001b[0m_independent\u001b[0m\u001b[0;34m)\u001b[0m\u001b[0;34m)\u001b[0m \u001b[0;34m+\u001b[0m \u001b[0miv\u001b[0m\u001b[0;34m)\u001b[0m\u001b[0;34m\u001b[0m\u001b[0;34m\u001b[0m\u001b[0m\n\u001b[1;32m    141\u001b[0m     \u001b[0mi1\u001b[0m \u001b[0;34m=\u001b[0m \u001b[0mget_derivative_vector\u001b[0m\u001b[0;34m(\u001b[0m\u001b[0md1\u001b[0m\u001b[0;34m)\u001b[0m\u001b[0;34m\u001b[0m\u001b[0;34m\u001b[0m\u001b[0m\n",
      "\u001b[0;32m~/delierium/delierium/MatrixOrder.py\u001b[0m in \u001b[0;36midx\u001b[0;34m(d)\u001b[0m\n\u001b[1;32m    133\u001b[0m     \u001b[0;32mdef\u001b[0m \u001b[0midx\u001b[0m\u001b[0;34m(\u001b[0m\u001b[0md\u001b[0m\u001b[0;34m)\u001b[0m\u001b[0;34m:\u001b[0m\u001b[0;34m\u001b[0m\u001b[0;34m\u001b[0m\u001b[0m\n\u001b[1;32m    134\u001b[0m         \u001b[0;31m# faster than functools.cache\u001b[0m\u001b[0;34m\u001b[0m\u001b[0;34m\u001b[0m\u001b[0m\n\u001b[0;32m--> 135\u001b[0;31m         \u001b[0;32mreturn\u001b[0m \u001b[0mcontext\u001b[0m\u001b[0;34m.\u001b[0m\u001b[0m_dependent\u001b[0m\u001b[0;34m.\u001b[0m\u001b[0mindex\u001b[0m\u001b[0;34m(\u001b[0m\u001b[0manalyze_dterm\u001b[0m\u001b[0;34m(\u001b[0m\u001b[0md\u001b[0m\u001b[0;34m)\u001b[0m\u001b[0;34m)\u001b[0m\u001b[0;34m\u001b[0m\u001b[0;34m\u001b[0m\u001b[0m\n\u001b[0m\u001b[1;32m    136\u001b[0m     \u001b[0;34m@\u001b[0m\u001b[0mfunctools\u001b[0m\u001b[0;34m.\u001b[0m\u001b[0mcache\u001b[0m\u001b[0;34m\u001b[0m\u001b[0;34m\u001b[0m\u001b[0m\n\u001b[1;32m    137\u001b[0m     \u001b[0;32mdef\u001b[0m \u001b[0mget_derivative_vector\u001b[0m\u001b[0;34m(\u001b[0m\u001b[0md\u001b[0m\u001b[0;34m)\u001b[0m\u001b[0;34m:\u001b[0m\u001b[0;34m\u001b[0m\u001b[0;34m\u001b[0m\u001b[0m\n",
      "\u001b[0;31mValueError\u001b[0m: tuple.index(x): x not in tuple"
     ]
    }
   ],
   "source": [
    "from delierium.JanetBasis import Janet_Basis\n",
    "Janet_Basis([f1,f2,f3,f4], (xi, eta), (y ,x))"
   ]
  },
  {
   "cell_type": "code",
   "execution_count": null,
   "id": "fa688f01",
   "metadata": {},
   "outputs": [],
   "source": []
  }
 ],
 "metadata": {
  "kernelspec": {
   "display_name": "SageMath 9.6",
   "language": "sage",
   "name": "sagemath"
  },
  "language_info": {
   "codemirror_mode": {
    "name": "ipython",
    "version": 3
   },
   "file_extension": ".py",
   "mimetype": "text/x-python",
   "name": "python",
   "nbconvert_exporter": "python",
   "pygments_lexer": "ipython3",
   "version": "3.10.6"
  },
  "widgets": {
   "application/vnd.jupyter.widget-state+json": {
    "state": {},
    "version_major": 2,
    "version_minor": 0
   }
  }
 },
 "nbformat": 4,
 "nbformat_minor": 5
}
