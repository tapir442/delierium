{
 "cells": [
  {
   "cell_type": "markdown",
   "id": "013296a1-1f34-4108-8985-87bdce7a3f15",
   "metadata": {},
   "source": [
    "# delierium\n",
    "<span style=\"font-size:30px;\"><b>D</b>ifferential <b>E</b>quations' <b>LIE</b> symmetries <b>R</b>esearch <b>I</b>nstr<b>UM</b>ent</span>\n",
    "\n",
    "Searching for symmetries in ODEs using Python/SageMath/sympy\n",
    "\n",
    "# Status\n",
    "\n",
    "* still playing around with Janet bases\n",
    "* Lie ouput form a alpha\n",
    "\n",
    "## Release 0.9.0.dev10\n",
    "* ininitesimalsODE now ready for production, Janet_Basis still under construction, so removed from 0.9.0\n",
    "\n",
    "## Release 0.0.1.dev1\n",
    "\n",
    "* Just constructing a Janet basis from a list of homogenuous linear PDEs (for grevlex and degrevlex order,\n",
    "lex is dubious)\n",
    "\n",
    "# Literature (and inspiration):\n",
    "* Werner M. Seiler: Involution. The Formal Theory of Differential Equations and its Applications in Computer Algebra, Spinger Berlin 2010, ISBN 978-3-642-26135-0.\n",
    "* Gerd Baumann: Symmetry Analysis of Differential Equations with Mathematica, Springer New York Berlin Heidelberg 2000, ISBN 0-387-98552-2.\n",
    "* Fritz Schwarz: Algorithmic Lie Theory for Solving Ordinary Differential Equations, CRC Press 2008, ISBN 978-1-58488-889-5\n",
    "* Fritz Schwarz: Loewy Decomposition of Linear Differential Equations, Springer Wien 2012, ISBN 978-3-7091-1687-6\n",
    "* Daniel J. Arrigo: Symmetry Analysis of Differential Equations, Wiley Hoboken/New Jersey 2015, ISBN 978-1-118-72140-7\n",
    "* John Starrett: Solving differential equations by Symmetry Groups  (e.g https://www.researchgate.net/publication/233653257_Solving_Differential_Equations_by_Symmetry_Groups)\n",
    "* Alexey A. Kasatkin, Aliya A. Gainetdinova: Symbolic and Numerical Methods for Searching Symmetries of Ordinary Differential Equations with a Small Parameter and Reducing Its Order, https://link.springer.com/chapter/10.1007%2F978-3-030-26831-2_19 (if you are able and willing to pay the 27 bucks)\n",
    "* Vishwas Khare, M.G. Timol: New Algorithm In SageMath To Check Symmetry Of Ode Of First Order, https://www.researchgate.net/publication/338388495_New_Algorithm_In_SageMath_To_Check_Symmetry_Of_Ode_Of_First_Order.dev"
   ]
  },
  {
   "cell_type": "markdown",
   "id": "ca88f7fa-a521-48f4-ad44-5ea33bacdeab",
   "metadata": {},
   "source": [
    "# Goals:\n",
    "\n",
    "* Short term:\n",
    "    * All kinda stuff for symmetry analysis of ODE/PDE , doing is step by step, whatver comes to my mind\n",
    "* Mid term:\n",
    "    * Make it a valuable package\n",
    "* Long term:\n",
    "    * Maybe integration into SciPy|SymPy|SageMath"
   ]
  },
  {
   "cell_type": "markdown",
   "id": "d94ada04-6aa1-4f7d-8e00-0e41a9520cbe",
   "metadata": {},
   "source": [
    "# Release History\n",
    "## Release 0.9.0\n",
    "\n",
    "offers and 'overdeterminedSystemODE' as described below. \n",
    "\n",
    "Note that 'overdeterminedSystemODE' does only return the overdetermined system stemming from the prolongation of the original ODE. The real infinitesimal are part of the next release."
   ]
  },
  {
   "cell_type": "markdown",
   "id": "81d727ae-db46-402c-a291-b7e64dded6d6",
   "metadata": {},
   "source": [
    "# Documentation(work in progress)\n",
    "\n",
    "## How to use\n",
    "\n",
    "### Get the determining equations for the symmetry of an third order ODE:"
   ]
  },
  {
   "cell_type": "code",
   "execution_count": 1,
   "id": "3c58b19c-b168-49f1-91a3-2b84ec3228e4",
   "metadata": {
    "tags": []
   },
   "outputs": [
    {
     "name": "stdout",
     "output_type": "stream",
     "text": [
      "overdetermined system:\n",
      "-3*D[0](xi)(y(x), x)\n",
      "-6*D[0, 0](xi)(y(x), x)\n",
      "y(x)*D[0](xi)(y(x), x) + 3*D[0, 0](phi)(y(x), x) - 9*D[0, 1](xi)(y(x), x)\n",
      "y(x)*D[1](xi)(y(x), x) + phi(y(x), x) + 3*D[0, 1](phi)(y(x), x) - 3*D[1, 1](xi)(y(x), x)\n",
      "-D[0, 0, 0](xi)(y(x), x)\n",
      "-y(x)*D[0, 0](xi)(y(x), x) + D[0, 0, 0](phi)(y(x), x) - 3*D[0, 0, 1](xi)(y(x), x)\n",
      "y(x)*D[0, 0](phi)(y(x), x) - 2*y(x)*D[0, 1](xi)(y(x), x) + 3*D[0, 0, 1](phi)(y(x), x) - 3*D[0, 1, 1](xi)(y(x), x)\n",
      "2*y(x)*D[0, 1](phi)(y(x), x) - y(x)*D[1, 1](xi)(y(x), x) + 3*D[0, 1, 1](phi)(y(x), x) - D[1, 1, 1](xi)(y(x), x)\n",
      "y(x)*D[1, 1](phi)(y(x), x) + D[1, 1, 1](phi)(y(x), x)\n"
     ]
    }
   ],
   "source": [
    "from delierium.Infinitesimals import overdeterminedSystemODE\n",
    "\n",
    "x   = var('x')\n",
    "y   = function('y')\n",
    "ode = diff(y(x), x, 3) + y(x) * diff(y(x), x, 2)\n",
    "inf = overdeterminedSystemODE(ode, y, x)\n",
    "print(\"overdetermined system:\")\n",
    "for _ in inf:\n",
    "    print(_)"
   ]
  },
  {
   "cell_type": "markdown",
   "id": "f57d57b3-d658-42d3-8164-578748f38915",
   "metadata": {},
   "source": [
    "If you are using JupyterLab, you can print the results in a more human readable way:"
   ]
  },
  {
   "cell_type": "code",
   "execution_count": 2,
   "id": "7ec3fbd8-62b7-4ddc-bf25-9f3a1551e128",
   "metadata": {
    "tags": []
   },
   "outputs": [
    {
     "data": {
      "text/latex": [
       "$\\displaystyle -3  \\xi_{y}$"
      ],
      "text/plain": [
       "<IPython.core.display.Math object>"
      ]
     },
     "metadata": {},
     "output_type": "display_data"
    },
    {
     "data": {
      "text/latex": [
       "$\\displaystyle -6  \\xi_{yy}$"
      ],
      "text/plain": [
       "<IPython.core.display.Math object>"
      ]
     },
     "metadata": {},
     "output_type": "display_data"
    },
    {
     "data": {
      "text/latex": [
       "$\\displaystyle y  \\xi_{y} + 3  \\phi_{yy} - 9  \\xi_{yx}$"
      ],
      "text/plain": [
       "<IPython.core.display.Math object>"
      ]
     },
     "metadata": {},
     "output_type": "display_data"
    },
    {
     "data": {
      "text/latex": [
       "$\\displaystyle y  \\xi_{x} + \\phi + 3  \\phi_{yx} - 3  \\xi_{xx}$"
      ],
      "text/plain": [
       "<IPython.core.display.Math object>"
      ]
     },
     "metadata": {},
     "output_type": "display_data"
    },
    {
     "data": {
      "text/latex": [
       "$\\displaystyle - \\xi_{yyy}$"
      ],
      "text/plain": [
       "<IPython.core.display.Math object>"
      ]
     },
     "metadata": {},
     "output_type": "display_data"
    },
    {
     "data": {
      "text/latex": [
       "$\\displaystyle -y  \\xi_{yy} +  \\phi_{yyy} - 3  \\xi_{yyx}$"
      ],
      "text/plain": [
       "<IPython.core.display.Math object>"
      ]
     },
     "metadata": {},
     "output_type": "display_data"
    },
    {
     "data": {
      "text/latex": [
       "$\\displaystyle y  \\phi_{yy} - 2 y  \\xi_{yx} + 3  \\phi_{yyx} - 3  \\xi_{yxx}$"
      ],
      "text/plain": [
       "<IPython.core.display.Math object>"
      ]
     },
     "metadata": {},
     "output_type": "display_data"
    },
    {
     "data": {
      "text/latex": [
       "$\\displaystyle 2 y  \\phi_{yx} - y  \\xi_{xx} + 3  \\phi_{yxx} -  \\xi_{xxx}$"
      ],
      "text/plain": [
       "<IPython.core.display.Math object>"
      ]
     },
     "metadata": {},
     "output_type": "display_data"
    },
    {
     "data": {
      "text/latex": [
       "$\\displaystyle y  \\phi_{xx} +  \\phi_{xxx}$"
      ],
      "text/plain": [
       "<IPython.core.display.Math object>"
      ]
     },
     "metadata": {},
     "output_type": "display_data"
    }
   ],
   "source": [
    "from IPython.display import Math\n",
    "# this is due to be changed as it is still work in progress, \n",
    "# both API and output\n",
    "from delierium.helpers import latexer\n",
    "for _ in inf:\n",
    "    display(Math(latexer(_)))"
   ]
  },
  {
   "cell_type": "code",
   "execution_count": null,
   "id": "1f131056-f0bc-4e4a-95a3-57b1b51ff660",
   "metadata": {},
   "outputs": [],
   "source": []
  }
 ],
 "metadata": {
  "kernelspec": {
   "display_name": "SageMath 9.8",
   "language": "sage",
   "name": "sagemath"
  },
  "language_info": {
   "codemirror_mode": {
    "name": "ipython",
    "version": 3
   },
   "file_extension": ".py",
   "mimetype": "text/x-python",
   "name": "python",
   "nbconvert_exporter": "python",
   "pygments_lexer": "ipython3",
   "version": "3.10.7"
  }
 },
 "nbformat": 4,
 "nbformat_minor": 5
}
