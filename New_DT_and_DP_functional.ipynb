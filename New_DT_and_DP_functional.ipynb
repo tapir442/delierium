{
 "cells": [
  {
   "cell_type": "code",
   "execution_count": 1,
   "id": "cfcd37f7-46f1-4a68-be17-ed58150d6bc8",
   "metadata": {},
   "outputs": [],
   "source": [
    "from sage.symbolic.expression import Expression\n",
    "from delierium.MatrixOrder import Context\n",
    "from IPython.display import Math\n",
    "from dataclasses import dataclass\n",
    "from delierium.helpers import latexer\n",
    "from sage.symbolic.expression_conversions import ExpressionTreeWalker\n",
    "from IPython.core.debugger import set_trace\n",
    "import doctest\n",
    "from typing import Union, Any, Optional, TYPE_CHECKING, cast"
   ]
  },
  {
   "cell_type": "code",
   "execution_count": 2,
   "id": "491d46a9-feaf-455e-9837-216c0fe73061",
   "metadata": {},
   "outputs": [],
   "source": [
    "x, y= var(\"x y\")\n",
    "xi  = function(\"xi\")(x,y)\n",
    "eta = function(\"eta\")(x,y)\n",
    "ctx = Context([xi, eta], [x,y])\n",
    "xi_x = diff(xi, x)\n",
    "xi_y = diff(xi, y)\n",
    "xi_xx = diff(xi, x,x)\n",
    "xi_yy = diff(xi, y,y)\n",
    "xi_xy = diff(xi, x,y)\n",
    "eta_x = diff(eta, x)\n",
    "eta_y = diff(eta, y)\n",
    "eta_xx = diff(eta, x,x)\n",
    "eta_yy = diff(eta, y,y)\n",
    "eta_xy = diff(eta, x,y)\n",
    "\n",
    "A = function(\"A\")(x,y)\n",
    "B = function(\"B\")(x,y)\n",
    "C = function(\"C\")(x,y)\n",
    "D = function(\"D\")(x,y)\n",
    "A_x = diff(A, x)\n",
    "A_y = diff(A, y)\n",
    "B_x = diff(B, x)\n",
    "B_y = diff(B, y)\n",
    "C_x = diff(C, x)\n",
    "C_y = diff(C, y)\n",
    "D_x = diff(D, x)\n",
    "D_y = diff(D, y)"
   ]
  },
  {
   "cell_type": "code",
   "execution_count": 3,
   "id": "e73d5234-0400-4070-8e47-822addaec140",
   "metadata": {},
   "outputs": [],
   "source": [
    "e1 = xi_yy - 2*A*eta_y - B*xi_y + A*xi_x - A_y*eta-A_x*xi\n",
    "e2 = eta_xx - D*eta_y +C*eta_x +2*D*xi_x +D_y*eta+D_x*xi\n",
    "e3 = eta_xy - xi_xx/2 +B*eta_x+3*D*xi_y/2+C*xi_x/2 + C_y*eta/2 + C_x*xi/2\n",
    "e4 = eta_yy - 2*xi_xy +B*eta_y + 3*A*eta_x + 2*C*xi_y + B_y*eta +B_x*xi"
   ]
  },
  {
   "cell_type": "code",
   "execution_count": 4,
   "id": "ba95c537-f13e-48bb-9b58-ea2030a1cf53",
   "metadata": {},
   "outputs": [],
   "source": [
    "from functools import partial, wraps, cache\n",
    "from operator import mul\n",
    "#def contextualize(func):\n",
    "#    @wraps(function)\n",
    "#    def context_wrapper(context, *args):\n",
    "#        return partial(func, context)\n",
    "#    return context_wrapper\n",
    "\n",
    "def contexter(obj, func=None):\n",
    "    if func is None:\n",
    "        return partial(func, obj)\n",
    "    setattr(obj, func.__name__, func)\n",
    "    return func"
   ]
  },
  {
   "cell_type": "code",
   "execution_count": 5,
   "id": "3202ffa2-8aab-4837-a61d-8310dad3743b",
   "metadata": {},
   "outputs": [],
   "source": [
    "_Sage_Expression = sage.symbolic.expression.Expression\n",
    "_Delierium_Context = Context\n",
    "def gen_summands(context: _Delierium_Context, expression: _Sage_Expression) -> list[_Sage_Expression]:\n",
    "    try :\n",
    "        if expression.operator().__name__ == 'add_vararg':\n",
    "            return expression.operands()\n",
    "    except AttributeError:\n",
    "        return [expression]\n",
    "    return [expression]\n",
    "\n",
    "#all_delierium_functions = [gen_dt_list]\n",
    "\n",
    "\n",
    "\n",
    "#def curry_funcs_with_context(context):\n",
    "#    for v in all_delierium_functions:\n",
    "#        print(id(v))\n",
    "#        v = partial(v, context)\n",
    "#        print(id(v))\n",
    "\n",
    "#curry_funcs_with_context(ctx)\n",
    "gen_summands = partial(gen_summands, ctx)\n",
    "#gen_dt = partial(gen_dt, ctx)"
   ]
  },
  {
   "cell_type": "code",
   "execution_count": 6,
   "id": "cafd6c96-1856-48c9-8e11-673d8b1dae2d",
   "metadata": {},
   "outputs": [
    {
     "name": "stdout",
     "output_type": "stream",
     "text": [
      "functools.partial(<function gen_summands at 0x7f959d0df240>, <delierium.MatrixOrder.Context object at 0x7f95f6340e00>)\n"
     ]
    }
   ],
   "source": [
    "print(gen_summands)"
   ]
  },
  {
   "cell_type": "code",
   "execution_count": 7,
   "id": "0ed32da7-64d7-4141-9ccd-b67a42c9e37e",
   "metadata": {},
   "outputs": [
    {
     "data": {
      "text/plain": [
       "[-xi(x, y)*diff(A(x, y), x),\n",
       " -eta(x, y)*diff(A(x, y), y),\n",
       " -2*A(x, y)*diff(eta(x, y), y),\n",
       " A(x, y)*diff(xi(x, y), x),\n",
       " -B(x, y)*diff(xi(x, y), y),\n",
       " diff(xi(x, y), y, y)]"
      ]
     },
     "execution_count": 7,
     "metadata": {},
     "output_type": "execute_result"
    }
   ],
   "source": [
    "gen_summands(e1)"
   ]
  },
  {
   "cell_type": "code",
   "execution_count": 8,
   "id": "0853458d-93e0-4423-9b45-8701e5ba0fe4",
   "metadata": {},
   "outputs": [],
   "source": [
    "class DelieriumNotALinearPDE(TypeError):\n",
    "    def __init__ (self, expression):\n",
    "        #self.message = f\"{expression=} is not a valid linear PDE\"\n",
    "        super().__init__(f\"{expression=} is not a valid term in linear PDE\")\n",
    "\n",
    "from functools import cache\n",
    "\n",
    "@dataclass\n",
    "class DT:\n",
    "    context: Context\n",
    "    expression: _Sage_Expression\n",
    "    coefficient: _Sage_Expression\n",
    "    derivative: _Sage_Expression\n",
    "    function: _Sage_Expression\n",
    "    order: tuple[int]\n",
    "    comparison_order: tuple[int]\n",
    "    def __lt__ (self, other):\n",
    "        r = self.context._weight * (vector(self.comparison_order) - vector(other.comparison_order))\n",
    "        for entry in r:\n",
    "            if entry:\n",
    "                return entry > 0\n",
    "        return False\n"
   ]
  },
  {
   "cell_type": "code",
   "execution_count": 9,
   "id": "84b85527-0ad3-4d2b-bb02-5c5aaf7e6d93",
   "metadata": {},
   "outputs": [
    {
     "name": "stderr",
     "output_type": "stream",
     "text": [
      "/home/tapir/mambaforge/envs/sage/lib/python3.11/inspect.py:753: DeprecationWarning: \n",
      "Importing Euler_Phi from here is deprecated; please use \"from sage.arith.misc import Euler_Phi\" instead.\n",
      "See https://github.com/sagemath/sage/issues/30322 for details.\n",
      "  return hasattr(f, '__wrapped__')\n",
      "/home/tapir/mambaforge/envs/sage/lib/python3.11/inspect.py:753: DeprecationWarning: this class is deprecated, do not use\n",
      "See https://github.com/sagemath/sage/issues/31545 for details.\n",
      "  return hasattr(f, '__wrapped__')\n",
      "/home/tapir/mambaforge/envs/sage/lib/python3.11/inspect.py:753: DeprecationWarning: \n",
      "Importing LaurentSeries from here is deprecated; please use \"from sage.rings.laurent_series_ring_element import LaurentSeries\" instead.\n",
      "See https://github.com/sagemath/sage/issues/33602 for details.\n",
      "  return hasattr(f, '__wrapped__')\n",
      "/home/tapir/mambaforge/envs/sage/lib/python3.11/inspect.py:753: DeprecationWarning: \n",
      "Importing Moebius from here is deprecated; please use \"from sage.arith.misc import Moebius\" instead.\n",
      "See https://github.com/sagemath/sage/issues/30322 for details.\n",
      "  return hasattr(f, '__wrapped__')\n",
      "/home/tapir/mambaforge/envs/sage/lib/python3.11/inspect.py:753: DeprecationWarning: \n",
      "Importing OpenInterval from here is deprecated; please use \"from sage.manifolds.differentiable.examples.real_line import OpenInterval\" instead.\n",
      "See https://github.com/sagemath/sage/issues/31881 for details.\n",
      "  return hasattr(f, '__wrapped__')\n",
      "/home/tapir/mambaforge/envs/sage/lib/python3.11/inspect.py:753: DeprecationWarning: \n",
      "Importing PowerSeries from here is deprecated; please use \"from sage.rings.power_series_ring_element import PowerSeries\" instead.\n",
      "See https://github.com/sagemath/sage/issues/33602 for details.\n",
      "  return hasattr(f, '__wrapped__')\n",
      "/home/tapir/mambaforge/envs/sage/lib/python3.11/inspect.py:753: DeprecationWarning: \n",
      "Importing PuiseuxSeries from here is deprecated; please use \"from sage.rings.puiseux_series_ring_element import PuiseuxSeries\" instead.\n",
      "See https://github.com/sagemath/sage/issues/33602 for details.\n",
      "  return hasattr(f, '__wrapped__')\n",
      "/home/tapir/mambaforge/envs/sage/lib/python3.11/inspect.py:753: DeprecationWarning: \n",
      "Importing RealLine from here is deprecated; please use \"from sage.manifolds.differentiable.examples.real_line import RealLine\" instead.\n",
      "See https://github.com/sagemath/sage/issues/31881 for details.\n",
      "  return hasattr(f, '__wrapped__')\n",
      "/home/tapir/mambaforge/envs/sage/lib/python3.11/inspect.py:753: DeprecationWarning: \n",
      "Importing Sigma from here is deprecated; please use \"from sage.arith.misc import Sigma\" instead.\n",
      "See https://github.com/sagemath/sage/issues/30322 for details.\n",
      "  return hasattr(f, '__wrapped__')\n",
      "/home/tapir/mambaforge/envs/sage/lib/python3.11/inspect.py:753: DeprecationWarning: \n",
      "Importing absolute_igusa_invariants_kohel from here is deprecated; please use \"from sage.schemes.hyperelliptic_curves.invariants import absolute_igusa_invariants_kohel\" instead.\n",
      "See https://github.com/sagemath/sage/issues/28064 for details.\n",
      "  return hasattr(f, '__wrapped__')\n",
      "/home/tapir/mambaforge/envs/sage/lib/python3.11/inspect.py:753: DeprecationWarning: \n",
      "Importing absolute_igusa_invariants_wamelen from here is deprecated; please use \"from sage.schemes.hyperelliptic_curves.invariants import absolute_igusa_invariants_wamelen\" instead.\n",
      "See https://github.com/sagemath/sage/issues/28064 for details.\n",
      "  return hasattr(f, '__wrapped__')\n",
      "/home/tapir/mambaforge/envs/sage/lib/python3.11/inspect.py:753: DeprecationWarning: \n",
      "Importing clebsch_invariants from here is deprecated; please use \"from sage.schemes.hyperelliptic_curves.invariants import clebsch_invariants\" instead.\n",
      "See https://github.com/sagemath/sage/issues/28064 for details.\n",
      "  return hasattr(f, '__wrapped__')\n",
      "/home/tapir/mambaforge/envs/sage/lib/python3.11/inspect.py:753: DeprecationWarning: removed from main namespace\n",
      "See https://github.com/sagemath/sage/issues/32647 for details.\n",
      "  return hasattr(f, '__wrapped__')\n",
      "/home/tapir/mambaforge/envs/sage/lib/python3.11/inspect.py:753: DeprecationWarning: the package sage.finance is deprecated\n",
      "See https://github.com/sagemath/sage/issues/32427 for details.\n",
      "  return hasattr(f, '__wrapped__')\n",
      "/home/tapir/mambaforge/envs/sage/lib/python3.11/inspect.py:753: DeprecationWarning: \n",
      "Importing finance from here is deprecated; please use \"from sage.finance import all as finance\" instead.\n",
      "See https://github.com/sagemath/sage/issues/32427 for details.\n",
      "  return hasattr(f, '__wrapped__')\n",
      "/home/tapir/mambaforge/envs/sage/lib/python3.11/inspect.py:753: DeprecationWarning: \n",
      "Importing igusa_clebsch_invariants from here is deprecated; please use \"from sage.schemes.hyperelliptic_curves.invariants import igusa_clebsch_invariants\" instead.\n",
      "See https://github.com/sagemath/sage/issues/28064 for details.\n",
      "  return hasattr(f, '__wrapped__')\n",
      "/home/tapir/mambaforge/envs/sage/lib/python3.11/inspect.py:753: DeprecationWarning: removed from namespace\n",
      "See https://github.com/sagemath/sage/issues/32647 for details.\n",
      "  return hasattr(f, '__wrapped__')\n",
      "/home/tapir/mambaforge/envs/sage/lib/python3.11/inspect.py:753: DeprecationWarning: removed from main namespace\n",
      "See https://github.com/sagemath/sage/issues/32647 for details.\n",
      "  return hasattr(f, '__wrapped__')\n",
      "/home/tapir/mambaforge/envs/sage/lib/python3.11/inspect.py:753: DeprecationWarning: \n",
      "Importing tests from here is deprecated; please use \"from sage.tests import all as tests\" instead.\n",
      "See https://github.com/sagemath/sage/issues/27337 for details.\n",
      "  return hasattr(f, '__wrapped__')\n",
      "/home/tapir/mambaforge/envs/sage/lib/python3.11/inspect.py:753: DeprecationWarning: \n",
      "Importing union from here is deprecated; please use \"from sage.misc.misc import union\" instead.\n",
      "See https://github.com/sagemath/sage/issues/32096 for details.\n",
      "  return hasattr(f, '__wrapped__')\n",
      "/home/tapir/mambaforge/envs/sage/lib/python3.11/inspect.py:753: DeprecationWarning: \n",
      "Importing verbose from here is deprecated; please use \"from sage.misc.verbose import verbose\" instead.\n",
      "See https://github.com/sagemath/sage/issues/17815 for details.\n",
      "  return hasattr(f, '__wrapped__')\n",
      "/home/tapir/mambaforge/envs/sage/lib/python3.11/inspect.py:753: DeprecationWarning: the package sage.media is deprecated\n",
      "See https://github.com/sagemath/sage/issues/12673 for details.\n",
      "  return hasattr(f, '__wrapped__')\n",
      "/home/tapir/mambaforge/envs/sage/lib/python3.11/inspect.py:753: DeprecationWarning: \n",
      "Importing wave from here is deprecated; please use \"from sage.media.wav import Wave as wave\" instead.\n",
      "See https://github.com/sagemath/sage/issues/12673 for details.\n",
      "  return hasattr(f, '__wrapped__')\n"
     ]
    },
    {
     "data": {
      "text/plain": [
       "TestResults(failed=0, attempted=16)"
      ]
     },
     "execution_count": 9,
     "metadata": {},
     "output_type": "execute_result"
    }
   ],
   "source": [
    "def is_derivative(e: Any) -> bool:\n",
    "    \"\"\"\n",
    "    Check if an expression is a pure derivative\n",
    "    >>> x, y= var(\"x y\")\n",
    "    >>> xi  = function(\"xi\")(x,y)\n",
    "    >>> ctx = Context([xi], [x,y])\n",
    "    >>> xi_x = diff(xi, x)\n",
    "    >>> xi_y = diff(xi, y)\n",
    "    >>> xi_xx = diff(xi, x,x)\n",
    "    >>> xi_yy = diff(xi, y,y)\n",
    "    >>> xi_xy = diff(xi, x,y)\n",
    "    >>> A = function(\"A\")(x,y)\n",
    "    >>> A_x = diff(A, x)\n",
    "    >>> is_derivative(A)\n",
    "    False\n",
    "    >>> is_derivative(1)\n",
    "    False\n",
    "    >>> is_derivative(A*xi_x)\n",
    "    False\n",
    "    >>> is_derivative(xi)\n",
    "    False\n",
    "    >>> is_derivative(xi_xy)\n",
    "    True\n",
    "    >>> is_derivative(2*xi_x)\n",
    "    False\n",
    "    \"\"\"\n",
    "    try:\n",
    "        return e.operator().__class__.__name__ == \"FDerivativeOperator\"\n",
    "    except AttributeError:\n",
    "        return False\n",
    "\n",
    "doctest.testmod()"
   ]
  },
  {
   "cell_type": "code",
   "execution_count": 10,
   "id": "d87ea1bb-486a-402c-8d19-3c3ebefaeb90",
   "metadata": {},
   "outputs": [
    {
     "data": {
      "text/plain": [
       "TestResults(failed=0, attempted=25)"
      ]
     },
     "execution_count": 10,
     "metadata": {},
     "output_type": "execute_result"
    }
   ],
   "source": [
    "def order_of_derivative(context: _Delierium_Context, e: Any):\n",
    "    '''Returns the vector of the orders of a derivative respect to its variables\n",
    "    >>> x, y, z= var(\"x y z\")\n",
    "    >>> f1  = function(\"f1\")(x,y, z)\n",
    "    >>> ctx = Context([f1], [x,y, z])\n",
    "    >>> order_of_derivative(ctx, diff(f1, x, x, x, x))\n",
    "    [4, 0, 0]\n",
    "    >>> order_of_derivative(ctx, f1)    \n",
    "    [0, 0, 0]\n",
    "    >>> order_of_derivative(ctx, diff(f1, x, x, x, y, z, z))\n",
    "    [3, 1, 2]\n",
    "    >>> ctx = Context([f1], [z, x, y])\n",
    "    >>> order_of_derivative(ctx, diff(f1, x, x, x, x))\n",
    "    [4, 0, 0]\n",
    "    >>> order_of_derivative(ctx, diff(f1, x, x, x, y, z, z))\n",
    "    [3, 1, 2]\n",
    "    '''\n",
    "    res = [0] * len(e.variables())\n",
    "    if not is_derivative(e):\n",
    "        return res\n",
    "    for variable in e.variables():\n",
    "        # XXX. here seems to be the crucial part: order can depend on:\n",
    "        # - either the order given by sage by\n",
    "        # -- sage order\n",
    "        # -- order given by the order given by function definition\n",
    "        # - the order given by context\n",
    "        i = context._independent.index(variable)\n",
    "        res[i] = e.operator().parameter_set().count(i)\n",
    "    return res\n",
    "doctest.testmod()    "
   ]
  },
  {
   "cell_type": "code",
   "execution_count": 18,
   "id": "051da922-2377-48a5-8e2c-8c231d31aafc",
   "metadata": {},
   "outputs": [
    {
     "data": {
      "text/plain": [
       "TestResults(failed=0, attempted=32)"
      ]
     },
     "execution_count": 18,
     "metadata": {},
     "output_type": "execute_result"
    }
   ],
   "source": [
    "def _compute_comparison_vector(context, func):\n",
    "    \"\"\"\n",
    "    >>> x, y, z= var(\"x y z\")\n",
    "    >>> f1  = function(\"f1\")(x, y, z)\n",
    "    >>> f2  = function(\"f2\")(x, y, z)\n",
    "    >>> f3  = function(\"f3\")(x, y, z)\n",
    "    >>> ctx = Context([f1, f2, f3], [x, y, z])\n",
    "    >>> _compute_comparison_vector(ctx, f1)\n",
    "    [1, 0, 0]\n",
    "    >>> _compute_comparison_vector(ctx, f3)\n",
    "    [0, 0, 1]\n",
    "    \"\"\"\n",
    "    iv = [0] * len(context._dependent)\n",
    "    if func in context._dependent:\n",
    "        iv[context._dependent.index(func)] = 1\n",
    "    elif func.operator() in context._dependent:\n",
    "        iv[context._dependent.index(func.operator())] = 1\n",
    "    else:\n",
    "        pass\n",
    "    return iv    \n",
    "    \n",
    "doctest.testmod()        "
   ]
  },
  {
   "cell_type": "code",
   "execution_count": 12,
   "id": "3c76a765-3c0a-49cc-8d41-7e54e7526689",
   "metadata": {},
   "outputs": [],
   "source": [
    "def compute_order(context, expression):\n",
    "    \"\"\"computes the monomial tuple from the derivative part\"\"\"\n",
    "    if is_derivative(expression):\n",
    "        return order_of_derivative(expression, context, len(context._independent))\n",
    "    # XXX: Check can that be within a system of linead PDEs ? I think not, as the function must then be identically to zero\n",
    "    return [0] * len(context._independent)"
   ]
  },
  {
   "cell_type": "code",
   "execution_count": 21,
   "id": "8cfb25de-4ba2-456d-86de-e2de869ec1bc",
   "metadata": {},
   "outputs": [],
   "source": [
    "def _gen_dt(context: _Delierium_Context, expression: _Sage_Expression) -> tuple[tuple[_Sage_Expression], tuple[_Sage_Expression]]:\n",
    "    coeff = []\n",
    "    derivs = []\n",
    "    match expression.operator().__class__.__name__:\n",
    "        case \"FDerivativeOperator\":\n",
    "            if expression.operator().function() in context._dependent:\n",
    "                derivs.append(expression)\n",
    "            else:\n",
    "                coeff.append(expression)\n",
    "        case \"Expression\":\n",
    "            print(\"Symbolic Expression\")\n",
    "        case \"NewSymbolicFunction\":\n",
    "            if expression.operator() in context._dependent:\n",
    "                derivs.append(expression)\n",
    "            else:\n",
    "                coeff.append(expression)\n",
    "        case \"function\":\n",
    "            if expression.operator().__name__ == \"mul_vararg\":\n",
    "                for operand in expression.operands():\n",
    "                    if not operand.operator():\n",
    "                        coeff.append(operand)\n",
    "                    else:\n",
    "                        c, d = _gen_dt(context, operand)\n",
    "                        coeff.extend(c)\n",
    "                        derivs.extend(d)\n",
    "        case _:\n",
    "            print(\"MISTTT\")\n",
    "    return coeff, derivs\n",
    "\n",
    "def gen_dt(context: _Delierium_Context, expression: _Sage_Expression)-> bool:\n",
    "    c, d = _gen_dt(context, expression)\n",
    "    if not d:\n",
    "        raise DelieriumNotALinearPDE(expression)\n",
    "    d = reduce(mul, d, 1)\n",
    "    order = order_of_derivative(context, d)\n",
    "    return DT(context,\n",
    "              expression,\n",
    "              reduce(mul, c, 1), d,\n",
    "              d.operator().function() if is_derivative(d) else d.function(),              \n",
    "              order,\n",
    "              _compute_comparison_vector(context, d.operator().function() if is_derivative(d) else d.function()) + order\n",
    "             )    "
   ]
  },
  {
   "cell_type": "code",
   "execution_count": 23,
   "id": "8c5a023a-0701-442a-97ba-594635bd789a",
   "metadata": {},
   "outputs": [
    {
     "name": "stdout",
     "output_type": "stream",
     "text": [
      "11111111111111111111\n",
      "22222222222222222222\n",
      "33333333333333333333\n"
     ]
    },
    {
     "ename": "DelieriumNotALinearPDE",
     "evalue": "expression=A(x, y) is not a valid term in linear PDE",
     "output_type": "error",
     "traceback": [
      "\u001b[0;31m---------------------------------------------------------------------------\u001b[0m",
      "\u001b[0;31mDelieriumNotALinearPDE\u001b[0m                    Traceback (most recent call last)",
      "Cell \u001b[0;32mIn[23], line 7\u001b[0m\n\u001b[1;32m      5\u001b[0m gen_dt(ctx, Integer(\u001b[38;5;241m2\u001b[39m)\u001b[38;5;241m*\u001b[39mxi)\n\u001b[1;32m      6\u001b[0m \u001b[38;5;28mprint\u001b[39m(\u001b[38;5;124m\"\u001b[39m\u001b[38;5;124m3\u001b[39m\u001b[38;5;124m\"\u001b[39m\u001b[38;5;241m*\u001b[39mInteger(\u001b[38;5;241m20\u001b[39m))\n\u001b[0;32m----> 7\u001b[0m \u001b[43mgen_dt\u001b[49m\u001b[43m(\u001b[49m\u001b[43mctx\u001b[49m\u001b[43m,\u001b[49m\u001b[43m \u001b[49m\u001b[43mA\u001b[49m\u001b[43m)\u001b[49m\n\u001b[1;32m      8\u001b[0m \u001b[38;5;28mprint\u001b[39m(\u001b[38;5;124m\"\u001b[39m\u001b[38;5;124m4\u001b[39m\u001b[38;5;124m\"\u001b[39m\u001b[38;5;241m*\u001b[39mInteger(\u001b[38;5;241m20\u001b[39m))\n\u001b[1;32m      9\u001b[0m gen_dt(ctx, Integer(\u001b[38;5;241m2\u001b[39m)\u001b[38;5;241m*\u001b[39mA\u001b[38;5;241m*\u001b[39mD)\n",
      "Cell \u001b[0;32mIn[21], line 33\u001b[0m, in \u001b[0;36mgen_dt\u001b[0;34m(context, expression)\u001b[0m\n\u001b[1;32m     31\u001b[0m c, d \u001b[38;5;241m=\u001b[39m _gen_dt(context, expression)\n\u001b[1;32m     32\u001b[0m \u001b[38;5;28;01mif\u001b[39;00m \u001b[38;5;129;01mnot\u001b[39;00m d:\n\u001b[0;32m---> 33\u001b[0m     \u001b[38;5;28;01mraise\u001b[39;00m DelieriumNotALinearPDE(expression)\n\u001b[1;32m     34\u001b[0m d \u001b[38;5;241m=\u001b[39m reduce(mul, d, Integer(\u001b[38;5;241m1\u001b[39m))\n\u001b[1;32m     35\u001b[0m order \u001b[38;5;241m=\u001b[39m order_of_derivative(context, d)\n",
      "\u001b[0;31mDelieriumNotALinearPDE\u001b[0m: expression=A(x, y) is not a valid term in linear PDE"
     ]
    }
   ],
   "source": [
    "gen_dt(ctx, 2*A_x*B_x*xi_xy)\n",
    "print(\"1\"*20)\n",
    "gen_dt(ctx, xi)\n",
    "print(\"2\"*20)\n",
    "gen_dt(ctx, 2*xi)\n",
    "print(\"3\"*20)\n",
    "#gen_dt(ctx, A)\n",
    "#print(\"4\"*20)\n",
    "gen_dt(ctx, 2*A*D)\n",
    "print(\"5\"*20)\n",
    "gen_dt(ctx, xi_x)\n"
   ]
  },
  {
   "cell_type": "code",
   "execution_count": null,
   "id": "24e36a3d-8f83-474a-95ea-7eae874d416e",
   "metadata": {},
   "outputs": [],
   "source": [
    "gen_dt(ctx, 2*A_x*B_x*xi_xy)"
   ]
  },
  {
   "cell_type": "code",
   "execution_count": null,
   "id": "7fa6276f-f6cb-496e-b373-b633357c8a39",
   "metadata": {},
   "outputs": [],
   "source": [
    "v = list(map(lambda _: gen_dt(ctx, _), gen_summands(e1)))"
   ]
  },
  {
   "cell_type": "code",
   "execution_count": null,
   "id": "d8bee0d1-862d-4f61-94aa-3e96c4efef96",
   "metadata": {},
   "outputs": [],
   "source": [
    "from pprint import pprint\n",
    "e1.show()\n",
    "pprint(v)"
   ]
  },
  {
   "cell_type": "code",
   "execution_count": null,
   "id": "8f8fcad2-079a-4a3a-8ad4-9b4998a55de1",
   "metadata": {},
   "outputs": [],
   "source": [
    "class DP:\n",
    "    def __init__(self, context, expression):\n",
    "        self.context = context\n",
    "        self.expression = expression\n",
    "        self.dts = list(sorted(map(lambda _: gen_dt(context, _), gen_summands(expression))))\n",
    "        lcoeff = self.dts[0].coefficient\n",
    "        for dt in self.dts:\n",
    "            dt.coefficient /= lcoeff\n",
    "        self.lder = self.dts[0].derivative\n",
    "        \n"
   ]
  },
  {
   "cell_type": "code",
   "execution_count": null,
   "id": "7f71dc7d-fc32-4e20-bed8-45216721e00c",
   "metadata": {},
   "outputs": [],
   "source": [
    "dp=DP(ctx, e1)"
   ]
  },
  {
   "cell_type": "code",
   "execution_count": null,
   "id": "384441de-1e2f-4340-bf07-a3d7feb7ecef",
   "metadata": {},
   "outputs": [],
   "source": [
    "dp.lder"
   ]
  },
  {
   "cell_type": "code",
   "execution_count": null,
   "id": "9664c9c6-1b73-442a-82ce-2d5ef4638aa4",
   "metadata": {},
   "outputs": [],
   "source": [
    "for _ in dp.dts:\n",
    "    print(_.coefficient, _.derivative, _.comparison_order)\n"
   ]
  },
  {
   "cell_type": "code",
   "execution_count": null,
   "id": "db0e8dd1-e9b0-4150-b9c0-1ab1abac0e18",
   "metadata": {},
   "outputs": [],
   "source": []
  },
  {
   "cell_type": "code",
   "execution_count": null,
   "id": "18bf5ee8-3011-49e6-b2e9-2b7e5f6eb93e",
   "metadata": {},
   "outputs": [],
   "source": []
  }
 ],
 "metadata": {
  "kernelspec": {
   "display_name": "SageMath 10.0",
   "language": "sage",
   "name": "sagemath"
  },
  "language_info": {
   "codemirror_mode": {
    "name": "ipython",
    "version": 3
   },
   "file_extension": ".py",
   "mimetype": "text/x-python",
   "name": "python",
   "nbconvert_exporter": "python",
   "pygments_lexer": "ipython3",
   "version": "3.11.6"
  }
 },
 "nbformat": 4,
 "nbformat_minor": 5
}
