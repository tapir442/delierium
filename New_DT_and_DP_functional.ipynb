{
 "cells": [
  {
   "cell_type": "code",
   "execution_count": 1,
   "id": "cfcd37f7-46f1-4a68-be17-ed58150d6bc8",
   "metadata": {},
   "outputs": [],
   "source": [
    "from sage.symbolic.expression import Expression\n",
    "from delierium.MatrixOrder import Context, Mlex, Mgrlex, Mgrevlex\n",
    "from IPython.display import Math\n",
    "\n",
    "from delierium.exception import DelieriumNotALinearPDE\n",
    "from dataclasses import dataclass\n",
    "from delierium.helpers import latexer\n",
    "from sage.symbolic.expression_conversions import ExpressionTreeWalker\n",
    "from IPython.core.debugger import set_trace\n",
    "import doctest\n",
    "from typing import Union, Any, Optional, TYPE_CHECKING, cast\n",
    "from functools import partial, wraps, cache, total_ordering\n",
    "from operator import mul\n",
    "from IPython.display import Math"
   ]
  },
  {
   "cell_type": "code",
   "execution_count": 2,
   "id": "491d46a9-feaf-455e-9837-216c0fe73061",
   "metadata": {},
   "outputs": [],
   "source": [
    "x, y= var(\"x y\")\n",
    "xi  = function(\"xi\", latex_name=r\"\\xi\")(x,y)\n",
    "eta = function(\"eta\", latex_name = r\"\\eta\")(x, y)\n",
    "ctx = Context([xi, eta], [x, y], Mgrevlex)\n",
    "xi_x = diff(xi, x)\n",
    "xi_y = diff(xi, y)\n",
    "xi_xx = diff(xi, x,x)\n",
    "xi_yy = diff(xi, y,y)\n",
    "xi_xy = diff(xi, x,y)\n",
    "eta_x = diff(eta, x)\n",
    "eta_y = diff(eta, y)\n",
    "eta_xx = diff(eta, x,x)\n",
    "eta_yy = diff(eta, y,y)\n",
    "eta_xy = diff(eta, x,y)\n",
    "\n",
    "A = function(\"A\")(x,y)\n",
    "B = function(\"B\")(x,y)\n",
    "C = function(\"C\")(x,y)\n",
    "D = function(\"D\")(x,y)\n",
    "A_x = diff(A, x)\n",
    "A_y = diff(A, y)\n",
    "B_x = diff(B, x)\n",
    "B_y = diff(B, y)\n",
    "C_x = diff(C, x)\n",
    "C_y = diff(C, y)\n",
    "D_x = diff(D, x)\n",
    "D_y = diff(D, y)"
   ]
  },
  {
   "cell_type": "code",
   "execution_count": 3,
   "id": "e73d5234-0400-4070-8e47-822addaec140",
   "metadata": {},
   "outputs": [],
   "source": [
    "e1 = xi_yy - 2*A*eta_y - B*xi_y + A*xi_x - A_y*eta-A_x*xi\n",
    "e2 = eta_xx - D*eta_y +C*eta_x +2*D*xi_x +D_y*eta+D_x*xi\n",
    "e3 = eta_xy - xi_xx/2 +B*eta_x+3*D*xi_y/2+C*xi_x/2 + C_y*eta/2 + C_x*xi/2\n",
    "e4 = eta_yy - 2*xi_xy +B*eta_y + 3*A*eta_x + 2*C*xi_y + B_y*eta +B_x*xi"
   ]
  },
  {
   "cell_type": "code",
   "execution_count": 4,
   "id": "ba95c537-f13e-48bb-9b58-ea2030a1cf53",
   "metadata": {},
   "outputs": [],
   "source": [
    "#def contextualize(func):\n",
    "#    @wraps(function)\n",
    "#    def context_wrapper(context, *args):\n",
    "#        return partial(func, context)\n",
    "#    return context_wrapper"
   ]
  },
  {
   "cell_type": "code",
   "execution_count": 5,
   "id": "3202ffa2-8aab-4837-a61d-8310dad3743b",
   "metadata": {},
   "outputs": [],
   "source": [
    "_Sage_Expression = sage.symbolic.expression.Expression\n",
    "_Delierium_Context = Context\n",
    "def gen_summands(context: _Delierium_Context, expression: _Sage_Expression) -> list[_Sage_Expression]:\n",
    "    try :\n",
    "        if expression.operator().__name__ == 'add_vararg':\n",
    "            # XXX: use expression.iterator\n",
    "            return expression.operands()\n",
    "    except AttributeError:\n",
    "        return [expression]\n",
    "    return [expression]"
   ]
  },
  {
   "cell_type": "code",
   "execution_count": 6,
   "id": "0853458d-93e0-4423-9b45-8701e5ba0fe4",
   "metadata": {},
   "outputs": [],
   "source": [
    "#@total_ordering\n",
    "@dataclass\n",
    "class DT:\n",
    "    context: Context\n",
    "    expression: _Sage_Expression\n",
    "    coefficient: _Sage_Expression\n",
    "    derivative: _Sage_Expression\n",
    "    function: _Sage_Expression\n",
    "    order: tuple[int]\n",
    "    comparison_order: tuple[int]\n",
    "    def __eq__(self, other):\n",
    "        return self.comparison_order == other.comparison_order\n",
    "    def __gt__(self, other):\n",
    "        self.context.gt(self.comparison_order,other.comparison_order)\n",
    "    def __lt__(self, other):\n",
    "        return self.comparison_order != other.comparison_order and \\\n",
    "        not self.context.gt(self.comparison_order,other.comparison_order)"
   ]
  },
  {
   "cell_type": "code",
   "execution_count": 7,
   "id": "84b85527-0ad3-4d2b-bb02-5c5aaf7e6d93",
   "metadata": {},
   "outputs": [
    {
     "name": "stderr",
     "output_type": "stream",
     "text": [
      "/home/tapir/mambaforge/envs/sage/lib/python3.11/inspect.py:753: DeprecationWarning: \n",
      "Importing Euler_Phi from here is deprecated; please use \"from sage.arith.misc import Euler_Phi\" instead.\n",
      "See https://github.com/sagemath/sage/issues/30322 for details.\n",
      "  return hasattr(f, '__wrapped__')\n",
      "/home/tapir/mambaforge/envs/sage/lib/python3.11/inspect.py:753: DeprecationWarning: this class is deprecated, do not use\n",
      "See https://github.com/sagemath/sage/issues/31545 for details.\n",
      "  return hasattr(f, '__wrapped__')\n",
      "/home/tapir/mambaforge/envs/sage/lib/python3.11/inspect.py:753: DeprecationWarning: \n",
      "Importing LaurentSeries from here is deprecated; please use \"from sage.rings.laurent_series_ring_element import LaurentSeries\" instead.\n",
      "See https://github.com/sagemath/sage/issues/33602 for details.\n",
      "  return hasattr(f, '__wrapped__')\n",
      "/home/tapir/mambaforge/envs/sage/lib/python3.11/inspect.py:753: DeprecationWarning: \n",
      "Importing Moebius from here is deprecated; please use \"from sage.arith.misc import Moebius\" instead.\n",
      "See https://github.com/sagemath/sage/issues/30322 for details.\n",
      "  return hasattr(f, '__wrapped__')\n",
      "/home/tapir/mambaforge/envs/sage/lib/python3.11/inspect.py:753: DeprecationWarning: \n",
      "Importing OpenInterval from here is deprecated; please use \"from sage.manifolds.differentiable.examples.real_line import OpenInterval\" instead.\n",
      "See https://github.com/sagemath/sage/issues/31881 for details.\n",
      "  return hasattr(f, '__wrapped__')\n",
      "/home/tapir/mambaforge/envs/sage/lib/python3.11/inspect.py:753: DeprecationWarning: \n",
      "Importing PowerSeries from here is deprecated; please use \"from sage.rings.power_series_ring_element import PowerSeries\" instead.\n",
      "See https://github.com/sagemath/sage/issues/33602 for details.\n",
      "  return hasattr(f, '__wrapped__')\n",
      "/home/tapir/mambaforge/envs/sage/lib/python3.11/inspect.py:753: DeprecationWarning: \n",
      "Importing PuiseuxSeries from here is deprecated; please use \"from sage.rings.puiseux_series_ring_element import PuiseuxSeries\" instead.\n",
      "See https://github.com/sagemath/sage/issues/33602 for details.\n",
      "  return hasattr(f, '__wrapped__')\n",
      "/home/tapir/mambaforge/envs/sage/lib/python3.11/inspect.py:753: DeprecationWarning: \n",
      "Importing RealLine from here is deprecated; please use \"from sage.manifolds.differentiable.examples.real_line import RealLine\" instead.\n",
      "See https://github.com/sagemath/sage/issues/31881 for details.\n",
      "  return hasattr(f, '__wrapped__')\n",
      "/home/tapir/mambaforge/envs/sage/lib/python3.11/inspect.py:753: DeprecationWarning: \n",
      "Importing Sigma from here is deprecated; please use \"from sage.arith.misc import Sigma\" instead.\n",
      "See https://github.com/sagemath/sage/issues/30322 for details.\n",
      "  return hasattr(f, '__wrapped__')\n",
      "/home/tapir/mambaforge/envs/sage/lib/python3.11/inspect.py:753: DeprecationWarning: \n",
      "Importing absolute_igusa_invariants_kohel from here is deprecated; please use \"from sage.schemes.hyperelliptic_curves.invariants import absolute_igusa_invariants_kohel\" instead.\n",
      "See https://github.com/sagemath/sage/issues/28064 for details.\n",
      "  return hasattr(f, '__wrapped__')\n",
      "/home/tapir/mambaforge/envs/sage/lib/python3.11/inspect.py:753: DeprecationWarning: \n",
      "Importing absolute_igusa_invariants_wamelen from here is deprecated; please use \"from sage.schemes.hyperelliptic_curves.invariants import absolute_igusa_invariants_wamelen\" instead.\n",
      "See https://github.com/sagemath/sage/issues/28064 for details.\n",
      "  return hasattr(f, '__wrapped__')\n",
      "/home/tapir/mambaforge/envs/sage/lib/python3.11/inspect.py:753: DeprecationWarning: \n",
      "Importing clebsch_invariants from here is deprecated; please use \"from sage.schemes.hyperelliptic_curves.invariants import clebsch_invariants\" instead.\n",
      "See https://github.com/sagemath/sage/issues/28064 for details.\n",
      "  return hasattr(f, '__wrapped__')\n",
      "/home/tapir/mambaforge/envs/sage/lib/python3.11/inspect.py:753: DeprecationWarning: removed from main namespace\n",
      "See https://github.com/sagemath/sage/issues/32647 for details.\n",
      "  return hasattr(f, '__wrapped__')\n",
      "/home/tapir/mambaforge/envs/sage/lib/python3.11/inspect.py:753: DeprecationWarning: the package sage.finance is deprecated\n",
      "See https://github.com/sagemath/sage/issues/32427 for details.\n",
      "  return hasattr(f, '__wrapped__')\n",
      "/home/tapir/mambaforge/envs/sage/lib/python3.11/inspect.py:753: DeprecationWarning: \n",
      "Importing finance from here is deprecated; please use \"from sage.finance import all as finance\" instead.\n",
      "See https://github.com/sagemath/sage/issues/32427 for details.\n",
      "  return hasattr(f, '__wrapped__')\n",
      "/home/tapir/mambaforge/envs/sage/lib/python3.11/inspect.py:753: DeprecationWarning: \n",
      "Importing igusa_clebsch_invariants from here is deprecated; please use \"from sage.schemes.hyperelliptic_curves.invariants import igusa_clebsch_invariants\" instead.\n",
      "See https://github.com/sagemath/sage/issues/28064 for details.\n",
      "  return hasattr(f, '__wrapped__')\n",
      "/home/tapir/mambaforge/envs/sage/lib/python3.11/inspect.py:753: DeprecationWarning: removed from namespace\n",
      "See https://github.com/sagemath/sage/issues/32647 for details.\n",
      "  return hasattr(f, '__wrapped__')\n",
      "/home/tapir/mambaforge/envs/sage/lib/python3.11/inspect.py:753: DeprecationWarning: removed from main namespace\n",
      "See https://github.com/sagemath/sage/issues/32647 for details.\n",
      "  return hasattr(f, '__wrapped__')\n",
      "/home/tapir/mambaforge/envs/sage/lib/python3.11/inspect.py:753: DeprecationWarning: \n",
      "Importing tests from here is deprecated; please use \"from sage.tests import all as tests\" instead.\n",
      "See https://github.com/sagemath/sage/issues/27337 for details.\n",
      "  return hasattr(f, '__wrapped__')\n",
      "/home/tapir/mambaforge/envs/sage/lib/python3.11/inspect.py:753: DeprecationWarning: \n",
      "Importing union from here is deprecated; please use \"from sage.misc.misc import union\" instead.\n",
      "See https://github.com/sagemath/sage/issues/32096 for details.\n",
      "  return hasattr(f, '__wrapped__')\n",
      "/home/tapir/mambaforge/envs/sage/lib/python3.11/inspect.py:753: DeprecationWarning: \n",
      "Importing verbose from here is deprecated; please use \"from sage.misc.verbose import verbose\" instead.\n",
      "See https://github.com/sagemath/sage/issues/17815 for details.\n",
      "  return hasattr(f, '__wrapped__')\n",
      "/home/tapir/mambaforge/envs/sage/lib/python3.11/inspect.py:753: DeprecationWarning: the package sage.media is deprecated\n",
      "See https://github.com/sagemath/sage/issues/12673 for details.\n",
      "  return hasattr(f, '__wrapped__')\n",
      "/home/tapir/mambaforge/envs/sage/lib/python3.11/inspect.py:753: DeprecationWarning: \n",
      "Importing wave from here is deprecated; please use \"from sage.media.wav import Wave as wave\" instead.\n",
      "See https://github.com/sagemath/sage/issues/12673 for details.\n",
      "  return hasattr(f, '__wrapped__')\n"
     ]
    },
    {
     "data": {
      "text/plain": [
       "TestResults(failed=0, attempted=16)"
      ]
     },
     "execution_count": 7,
     "metadata": {},
     "output_type": "execute_result"
    }
   ],
   "source": [
    "def is_derivative(e: Any) -> bool:\n",
    "    \"\"\"\n",
    "    Check if an expression is a pure derivative\n",
    "    >>> x, y= var(\"x y\")\n",
    "    >>> xi  = function(\"xi\")(x,y)\n",
    "    >>> ctx = Context([xi], [x,y])\n",
    "    >>> xi_x = diff(xi, x)\n",
    "    >>> xi_y = diff(xi, y)\n",
    "    >>> xi_xx = diff(xi, x,x)\n",
    "    >>> xi_yy = diff(xi, y,y)\n",
    "    >>> xi_xy = diff(xi, x,y)\n",
    "    >>> A = function(\"A\")(x,y)\n",
    "    >>> A_x = diff(A, x)\n",
    "    >>> is_derivative(A)\n",
    "    False\n",
    "    >>> is_derivative(1)\n",
    "    False\n",
    "    >>> is_derivative(A*xi_x)\n",
    "    False\n",
    "    >>> is_derivative(xi)\n",
    "    False\n",
    "    >>> is_derivative(xi_xy)\n",
    "    True\n",
    "    >>> is_derivative(2*xi_x)\n",
    "    False\n",
    "    \"\"\"\n",
    "    try:\n",
    "        return e.operator().__class__.__name__ == \"FDerivativeOperator\"\n",
    "    except AttributeError:\n",
    "        return False\n",
    "\n",
    "doctest.testmod()"
   ]
  },
  {
   "cell_type": "code",
   "execution_count": 8,
   "id": "d87ea1bb-486a-402c-8d19-3c3ebefaeb90",
   "metadata": {},
   "outputs": [
    {
     "data": {
      "text/plain": [
       "TestResults(failed=0, attempted=25)"
      ]
     },
     "execution_count": 8,
     "metadata": {},
     "output_type": "execute_result"
    }
   ],
   "source": [
    "def order_of_derivative(context: _Delierium_Context, e: Any):\n",
    "    '''Returns the vector of the orders of a derivative respect to its variables\n",
    "    >>> x, y, z= var(\"x y z\")\n",
    "    >>> f1  = function(\"f1\")(x,y, z)\n",
    "    >>> ctx = Context([f1], [x,y, z])\n",
    "    >>> order_of_derivative(ctx, diff(f1, x, x, x, x))\n",
    "    [4, 0, 0]\n",
    "    >>> order_of_derivative(ctx, f1)    \n",
    "    [0, 0, 0]\n",
    "    >>> order_of_derivative(ctx, diff(f1, x, x, x, y, z, z))\n",
    "    [3, 1, 2]\n",
    "    >>> ctx = Context([f1], [z, x, y])\n",
    "    >>> order_of_derivative(ctx, diff(f1, x, x, x, x))\n",
    "    [4, 0, 0]\n",
    "    >>> order_of_derivative(ctx, diff(f1, x, x, x, y, z, z))\n",
    "    [3, 1, 2]\n",
    "    '''\n",
    "    res = [0] * len(e.variables())\n",
    "    if not is_derivative(e):\n",
    "        return res\n",
    "    for variable in e.variables():\n",
    "        # XXX. here seems to be the crucial part: order can depend on:\n",
    "        # - either the order given by sage by\n",
    "        # -- sage order\n",
    "        # -- order given by the order given by function definition\n",
    "        # - the order given by context\n",
    "        i = context._independent.index(variable)\n",
    "        res[i] = e.operator().parameter_set().count(i)\n",
    "    return res\n",
    "doctest.testmod()    "
   ]
  },
  {
   "cell_type": "code",
   "execution_count": 9,
   "id": "051da922-2377-48a5-8e2c-8c231d31aafc",
   "metadata": {},
   "outputs": [
    {
     "data": {
      "text/plain": [
       "TestResults(failed=0, attempted=32)"
      ]
     },
     "execution_count": 9,
     "metadata": {},
     "output_type": "execute_result"
    }
   ],
   "source": [
    "def _compute_comparison_vector(context, func):\n",
    "    \"\"\"\n",
    "    >>> x, y, z= var(\"x y z\")\n",
    "    >>> f1  = function(\"f1\")(x, y, z)\n",
    "    >>> f2  = function(\"f2\")(x, y, z)\n",
    "    >>> f3  = function(\"f3\")(x, y, z)\n",
    "    >>> ctx = Context([f1, f2, f3], [x, y, z])\n",
    "    >>> _compute_comparison_vector(ctx, f1)\n",
    "    [1, 0, 0]\n",
    "    >>> _compute_comparison_vector(ctx, f3)\n",
    "    [0, 0, 1]\n",
    "    \"\"\"\n",
    "    iv = [0] * len(context._dependent)\n",
    "    if func in context._dependent:\n",
    "        iv[context._dependent.index(func)] = 1\n",
    "    elif func.operator() in context._dependent:\n",
    "        iv[context._dependent.index(func.operator())] = 1\n",
    "    else:\n",
    "        pass\n",
    "    return iv    \n",
    "    \n",
    "doctest.testmod()        "
   ]
  },
  {
   "cell_type": "code",
   "execution_count": 10,
   "id": "3c76a765-3c0a-49cc-8d41-7e54e7526689",
   "metadata": {},
   "outputs": [],
   "source": [
    "def compute_order(context, expression):\n",
    "    \"\"\"computes the monomial tuple from the derivative part\"\"\"\n",
    "    if is_derivative(expression):\n",
    "        return order_of_derivative(expression, context, len(context._independent))\n",
    "    # XXX: Check can that be within a system of linead PDEs ? I think not, as the function must then be identically to zero\n",
    "    return [0] * len(context._independent)"
   ]
  },
  {
   "cell_type": "code",
   "execution_count": 11,
   "id": "8cfb25de-4ba2-456d-86de-e2de869ec1bc",
   "metadata": {},
   "outputs": [],
   "source": [
    "def _gen_dt(context: _Delierium_Context, expression: _Sage_Expression) -> tuple[tuple[_Sage_Expression], tuple[_Sage_Expression]]:\n",
    "    coeff = []\n",
    "    derivs = []\n",
    "    print (f\"{expression=},\\n{expression.operator().__class__.__name__=}\")\n",
    "    if str(expression)==\"4*x^2*diff(z(x, y), x, x)/y^2 + 2*x*diff(z(x, y), x, y)/y + 2*x^2*diff(z(x, y), y)/y^2 + 2*x^2*diff(w(x, y), x)/y^3 - 2*x*diff(w(x, y), x)/y^2 + x*diff(w(x, y), y)/y^2 - x*w(x, y)/y^3\":\n",
    "        set_trace()\n",
    "\n",
    "    \n",
    "    match expression.operator().__class__.__name__:\n",
    "        case \"FDerivativeOperator\":\n",
    "            if expression.operator().function() in context._dependent:\n",
    "                derivs.append(expression)\n",
    "            else:\n",
    "                coeff.append(expression)\n",
    "        case \"Expression\":\n",
    "            print(\"Symbolic Expression\")\n",
    "        case \"NewSymbolicFunction\":\n",
    "            if expression.operator() in context._dependent:\n",
    "                derivs.append(expression)\n",
    "            else:\n",
    "                coeff.append(expression)\n",
    "        case \"function\":\n",
    "            if expression.operator().__name__ == \"mul_vararg\":\n",
    "                for operand in expression.operands():\n",
    "                    if not operand.operator():\n",
    "                        coeff.append(operand)\n",
    "                    else:\n",
    "                        c, d = _gen_dt(context, operand)\n",
    "                        coeff.extend(c)\n",
    "                        derivs.extend(d)\n",
    "        case _:\n",
    "            coeff.append(expression)\n",
    "    return coeff, derivs\n",
    "\n",
    "def gen_dt(context: _Delierium_Context, expression: _Sage_Expression)-> bool:\n",
    "    expression = expression.expand()\n",
    "#    if str(expression) == \"x*(4*x*diff(z(x, y), x, x)/y + 2*x*diff(z(x, y), y)/y + 2*x*diff(w(x, y), x)/y^2 - 2*diff(w(x, y), x)/y + diff(w(x, y), y)/y - w(x, y)/y^2 + 2*diff(z(x, y), x, y))/y\":\n",
    "#        set_trace()\n",
    "    c, d = _gen_dt(context, expression)\n",
    "    if not d:\n",
    "        raise DelieriumNotALinearPDE(expression)\n",
    "    d = reduce(mul, d, 1)\n",
    "    order = order_of_derivative(context, d)\n",
    "    # XXX here we have our main problem:\n",
    "    # - if we change the order of the variables with context\n",
    "    # - then the order of the context and the order of the variables \n",
    "    # - as they are used in the functions defined by sagemath differ\n",
    "    # - so all stuff depending on ordering the variables(and which is\n",
    "    # - crucial for all our algorithms) gets screwed up. We have to store\n",
    "    # --- the order as given by context\n",
    "    # --- the order as given by the canonical sagemath\n",
    "    # --- a variable which selects which order has to be used in each step    \n",
    "    return DT(context,\n",
    "              expression,\n",
    "              reduce(mul, c, 1), d,\n",
    "              d.operator().function() if is_derivative(d) else d.function(),              \n",
    "              order,\n",
    "              order + _compute_comparison_vector(context, d.operator().function() if is_derivative(d) else d.function())\n",
    "             )    "
   ]
  },
  {
   "cell_type": "code",
   "execution_count": 12,
   "id": "8c5a023a-0701-442a-97ba-594635bd789a",
   "metadata": {},
   "outputs": [
    {
     "name": "stdout",
     "output_type": "stream",
     "text": [
      "expression=2*diff(A(x, y), x)*diff(B(x, y), x)*diff(xi(x, y), x, y),\n",
      "expression.operator().__class__.__name__='function'\n",
      "expression=diff(A(x, y), x),\n",
      "expression.operator().__class__.__name__='FDerivativeOperator'\n",
      "expression=diff(B(x, y), x),\n",
      "expression.operator().__class__.__name__='FDerivativeOperator'\n",
      "expression=diff(xi(x, y), x, y),\n",
      "expression.operator().__class__.__name__='FDerivativeOperator'\n",
      "11111111111111111111\n",
      "expression=xi(x, y),\n",
      "expression.operator().__class__.__name__='NewSymbolicFunction'\n",
      "22222222222222222222\n",
      "expression=2*xi(x, y),\n",
      "expression.operator().__class__.__name__='function'\n",
      "expression=xi(x, y),\n",
      "expression.operator().__class__.__name__='NewSymbolicFunction'\n",
      "33333333333333333333\n",
      "expression=diff(xi(x, y), x),\n",
      "expression.operator().__class__.__name__='FDerivativeOperator'\n",
      "44444444444444444444\n",
      "expression=A(x, y)*diff(xi(x, y), x),\n",
      "expression.operator().__class__.__name__='function'\n",
      "expression=A(x, y),\n",
      "expression.operator().__class__.__name__='NewSymbolicFunction'\n",
      "expression=diff(xi(x, y), x),\n",
      "expression.operator().__class__.__name__='FDerivativeOperator'\n"
     ]
    },
    {
     "data": {
      "text/plain": [
       "DT(context=<delierium.MatrixOrder.Context object at 0x7f5e13278a00>, expression=A(x, y)*diff(xi(x, y), x), coefficient=A(x, y), derivative=diff(xi(x, y), x), function=xi, order=[1, 0], comparison_order=[1, 0, 1, 0])"
      ]
     },
     "execution_count": 12,
     "metadata": {},
     "output_type": "execute_result"
    }
   ],
   "source": [
    "gen_dt(ctx, 2*A_x*B_x*xi_xy)\n",
    "print(\"1\"*20)\n",
    "gen_dt(ctx, xi)\n",
    "print(\"2\"*20)\n",
    "gen_dt(ctx, 2*xi)\n",
    "print(\"3\"*20)\n",
    "#gen_dt(ctx, A)\n",
    "#print(\"4\"*20)\n",
    "#gen_dt(ctx, 2*A*D)\n",
    "#print(\"5\"*20)\n",
    "gen_dt(ctx, xi_x)\n",
    "print(\"4\"*20)\n",
    "gen_dt(ctx, A*xi_x)\n",
    "\n"
   ]
  },
  {
   "cell_type": "code",
   "execution_count": 13,
   "id": "24e36a3d-8f83-474a-95ea-7eae874d416e",
   "metadata": {},
   "outputs": [
    {
     "name": "stdout",
     "output_type": "stream",
     "text": [
      "expression=2*diff(A(x, y), x)*diff(B(x, y), x)*diff(xi(x, y), x, y),\n",
      "expression.operator().__class__.__name__='function'\n",
      "expression=diff(A(x, y), x),\n",
      "expression.operator().__class__.__name__='FDerivativeOperator'\n",
      "expression=diff(B(x, y), x),\n",
      "expression.operator().__class__.__name__='FDerivativeOperator'\n",
      "expression=diff(xi(x, y), x, y),\n",
      "expression.operator().__class__.__name__='FDerivativeOperator'\n"
     ]
    },
    {
     "data": {
      "text/plain": [
       "DT(context=<delierium.MatrixOrder.Context object at 0x7f5e13278a00>, expression=2*diff(A(x, y), x)*diff(B(x, y), x)*diff(xi(x, y), x, y), coefficient=2*diff(A(x, y), x)*diff(B(x, y), x), derivative=diff(xi(x, y), x, y), function=xi, order=[1, 1], comparison_order=[1, 1, 1, 0])"
      ]
     },
     "execution_count": 13,
     "metadata": {},
     "output_type": "execute_result"
    }
   ],
   "source": [
    "gen_dt(ctx, 2*A_x*B_x*xi_xy)"
   ]
  },
  {
   "cell_type": "code",
   "execution_count": 14,
   "id": "7fa6276f-f6cb-496e-b373-b633357c8a39",
   "metadata": {},
   "outputs": [
    {
     "name": "stdout",
     "output_type": "stream",
     "text": [
      "expression=-xi(x, y)*diff(A(x, y), x),\n",
      "expression.operator().__class__.__name__='function'\n",
      "expression=xi(x, y),\n",
      "expression.operator().__class__.__name__='NewSymbolicFunction'\n",
      "expression=diff(A(x, y), x),\n",
      "expression.operator().__class__.__name__='FDerivativeOperator'\n",
      "expression=-eta(x, y)*diff(A(x, y), y),\n",
      "expression.operator().__class__.__name__='function'\n",
      "expression=eta(x, y),\n",
      "expression.operator().__class__.__name__='NewSymbolicFunction'\n",
      "expression=diff(A(x, y), y),\n",
      "expression.operator().__class__.__name__='FDerivativeOperator'\n",
      "expression=-2*A(x, y)*diff(eta(x, y), y),\n",
      "expression.operator().__class__.__name__='function'\n",
      "expression=A(x, y),\n",
      "expression.operator().__class__.__name__='NewSymbolicFunction'\n",
      "expression=diff(eta(x, y), y),\n",
      "expression.operator().__class__.__name__='FDerivativeOperator'\n",
      "expression=A(x, y)*diff(xi(x, y), x),\n",
      "expression.operator().__class__.__name__='function'\n",
      "expression=A(x, y),\n",
      "expression.operator().__class__.__name__='NewSymbolicFunction'\n",
      "expression=diff(xi(x, y), x),\n",
      "expression.operator().__class__.__name__='FDerivativeOperator'\n",
      "expression=-B(x, y)*diff(xi(x, y), y),\n",
      "expression.operator().__class__.__name__='function'\n",
      "expression=B(x, y),\n",
      "expression.operator().__class__.__name__='NewSymbolicFunction'\n",
      "expression=diff(xi(x, y), y),\n",
      "expression.operator().__class__.__name__='FDerivativeOperator'\n",
      "expression=diff(xi(x, y), y, y),\n",
      "expression.operator().__class__.__name__='FDerivativeOperator'\n"
     ]
    }
   ],
   "source": [
    "v = list(map(lambda _: gen_dt(ctx, _), gen_summands(ctx, e1)))"
   ]
  },
  {
   "cell_type": "code",
   "execution_count": 15,
   "id": "a38177ff-5bbc-4617-999a-8b9277c2b4f8",
   "metadata": {},
   "outputs": [],
   "source": [
    "def latexer_dt(context, dt):\n",
    "    def _latex_derivative(context, deriv):\n",
    "        if is_derivative(deriv):\n",
    "            func = deriv.function().operator().function()._latex_()\n",
    "            ps = deriv.operator().parameter_set()\n",
    "            variables = deriv.operands()\n",
    "            sub = \",\".join(map(lambda _ : variables[_]._latex_(), ps))\n",
    "            return r\"%s_{%s}\" % (func, sub)\n",
    "        else:\n",
    "            return deriv.function().operator()._latex_()\n",
    "    def _latex_coeff(context, coeff):\n",
    "        if str(coeff) == '1':\n",
    "            return \"\"\n",
    "        # need to be more fine granular\n",
    "        return coeff._latex_()\n",
    "        \n",
    "    d = _latex_derivative(context, dt.derivative)\n",
    "    c = _latex_coeff(context, dt.coefficient)\n",
    "    return f\"{c} {d}\""
   ]
  },
  {
   "cell_type": "code",
   "execution_count": 16,
   "id": "8f8fcad2-079a-4a3a-8ad4-9b4998a55de1",
   "metadata": {},
   "outputs": [],
   "source": [
    "\n",
    "class DP:\n",
    "    def __init__(self, context, expression):\n",
    "        self.context = context\n",
    "        self.expression = expression.expand()\n",
    "        print(f\"{list(gen_summands(context, self.expression))}\")\n",
    "        self.dts = list(map(lambda _: gen_dt(context, _), gen_summands(context, self.expression)))\n",
    "        self.dts.sort(reverse = True)\n",
    "        from collections import Counter        \n",
    "        counts = Counter(tuple(_.order) for _ in self.dts)\n",
    "        while duplicates := [_ for _ in counts.items() if _[1] > 1]:\n",
    "            indices = [i for i, dt in enumerate(self.dts) if tuple(dt.order) == duplicates[0][0]]\n",
    "            self.dts[indices[0]].coefficient += sum(self.dts[indices[i]].coefficient for i in indices[1:])\n",
    "            set_trace()\n",
    "            del self.dts[indices[1:]]\n",
    "        lcoeff = self.dts[0].coefficient\n",
    "        for dt in self.dts:\n",
    "            dt.coefficient /= lcoeff             \n",
    "        self.lder = self.dts[0].derivative\n",
    "        self.comp = self.dts[0].comparison_order\n",
    "        self.lfunc = self.dts[0].function\n",
    "        self.order = self.dts[0].order\n",
    "        self.lcoeff = self.dts[0].coefficient\n",
    "    \n",
    "    def __lt__ (self, other):\n",
    "        return self.comp < other.comp\n"
   ]
  },
  {
   "cell_type": "code",
   "execution_count": 17,
   "id": "7f71dc7d-fc32-4e20-bed8-45216721e00c",
   "metadata": {},
   "outputs": [
    {
     "name": "stdout",
     "output_type": "stream",
     "text": [
      "[-xi(x, y)*diff(A(x, y), x), -eta(x, y)*diff(A(x, y), y), -2*A(x, y)*diff(eta(x, y), y), A(x, y)*diff(xi(x, y), x), -B(x, y)*diff(xi(x, y), y), diff(xi(x, y), y, y)]\n",
      "expression=-xi(x, y)*diff(A(x, y), x),\n",
      "expression.operator().__class__.__name__='function'\n",
      "expression=xi(x, y),\n",
      "expression.operator().__class__.__name__='NewSymbolicFunction'\n",
      "expression=diff(A(x, y), x),\n",
      "expression.operator().__class__.__name__='FDerivativeOperator'\n",
      "expression=-eta(x, y)*diff(A(x, y), y),\n",
      "expression.operator().__class__.__name__='function'\n",
      "expression=eta(x, y),\n",
      "expression.operator().__class__.__name__='NewSymbolicFunction'\n",
      "expression=diff(A(x, y), y),\n",
      "expression.operator().__class__.__name__='FDerivativeOperator'\n",
      "expression=-2*A(x, y)*diff(eta(x, y), y),\n",
      "expression.operator().__class__.__name__='function'\n",
      "expression=A(x, y),\n",
      "expression.operator().__class__.__name__='NewSymbolicFunction'\n",
      "expression=diff(eta(x, y), y),\n",
      "expression.operator().__class__.__name__='FDerivativeOperator'\n",
      "expression=A(x, y)*diff(xi(x, y), x),\n",
      "expression.operator().__class__.__name__='function'\n",
      "expression=A(x, y),\n",
      "expression.operator().__class__.__name__='NewSymbolicFunction'\n",
      "expression=diff(xi(x, y), x),\n",
      "expression.operator().__class__.__name__='FDerivativeOperator'\n",
      "expression=-B(x, y)*diff(xi(x, y), y),\n",
      "expression.operator().__class__.__name__='function'\n",
      "expression=B(x, y),\n",
      "expression.operator().__class__.__name__='NewSymbolicFunction'\n",
      "expression=diff(xi(x, y), y),\n",
      "expression.operator().__class__.__name__='FDerivativeOperator'\n",
      "expression=diff(xi(x, y), y, y),\n",
      "expression.operator().__class__.__name__='FDerivativeOperator'\n"
     ]
    },
    {
     "ename": "IndexError",
     "evalue": "list index out of range",
     "output_type": "error",
     "traceback": [
      "\u001b[0;31m---------------------------------------------------------------------------\u001b[0m",
      "\u001b[0;31mIndexError\u001b[0m                                Traceback (most recent call last)",
      "Cell \u001b[0;32mIn[17], line 1\u001b[0m\n\u001b[0;32m----> 1\u001b[0m dp\u001b[38;5;241m=\u001b[39m\u001b[43mDP\u001b[49m\u001b[43m(\u001b[49m\u001b[43mctx\u001b[49m\u001b[43m,\u001b[49m\u001b[43m \u001b[49m\u001b[43me1\u001b[49m\u001b[43m)\u001b[49m\n",
      "Cell \u001b[0;32mIn[16], line 12\u001b[0m, in \u001b[0;36mDP.__init__\u001b[0;34m(self, context, expression)\u001b[0m\n\u001b[1;32m     10\u001b[0m \u001b[38;5;28;01mwhile\u001b[39;00m duplicates \u001b[38;5;241m:=\u001b[39m [_ \u001b[38;5;28;01mfor\u001b[39;00m _ \u001b[38;5;129;01min\u001b[39;00m counts\u001b[38;5;241m.\u001b[39mitems() \u001b[38;5;28;01mif\u001b[39;00m _[Integer(\u001b[38;5;241m1\u001b[39m)] \u001b[38;5;241m>\u001b[39m Integer(\u001b[38;5;241m1\u001b[39m)]:\n\u001b[1;32m     11\u001b[0m     indices \u001b[38;5;241m=\u001b[39m [i \u001b[38;5;28;01mfor\u001b[39;00m i, dt \u001b[38;5;129;01min\u001b[39;00m \u001b[38;5;28menumerate\u001b[39m(\u001b[38;5;28mself\u001b[39m\u001b[38;5;241m.\u001b[39mdts) \u001b[38;5;28;01mif\u001b[39;00m \u001b[38;5;28mtuple\u001b[39m(dt\u001b[38;5;241m.\u001b[39morder) \u001b[38;5;241m==\u001b[39m duplicates[Integer(\u001b[38;5;241m0\u001b[39m)][Integer(\u001b[38;5;241m0\u001b[39m)]]\n\u001b[0;32m---> 12\u001b[0m     \u001b[38;5;28mself\u001b[39m\u001b[38;5;241m.\u001b[39mdts[indices[Integer(\u001b[38;5;241m0\u001b[39m)]]\u001b[38;5;241m.\u001b[39mcoefficient \u001b[38;5;241m+\u001b[39m\u001b[38;5;241m=\u001b[39m \u001b[38;5;28;43msum\u001b[39;49m\u001b[43m(\u001b[49m\u001b[38;5;28;43mself\u001b[39;49m\u001b[38;5;241;43m.\u001b[39;49m\u001b[43mdts\u001b[49m\u001b[43m[\u001b[49m\u001b[43mindices\u001b[49m\u001b[43m[\u001b[49m\u001b[43mi\u001b[49m\u001b[43m]\u001b[49m\u001b[43m]\u001b[49m\u001b[38;5;241;43m.\u001b[39;49m\u001b[43mcoefficient\u001b[49m\u001b[43m \u001b[49m\u001b[38;5;28;43;01mfor\u001b[39;49;00m\u001b[43m \u001b[49m\u001b[43mi\u001b[49m\u001b[43m \u001b[49m\u001b[38;5;129;43;01min\u001b[39;49;00m\u001b[43m \u001b[49m\u001b[43mindices\u001b[49m\u001b[43m[\u001b[49m\u001b[43mInteger\u001b[49m\u001b[43m(\u001b[49m\u001b[38;5;241;43m1\u001b[39;49m\u001b[43m)\u001b[49m\u001b[43m:\u001b[49m\u001b[43m]\u001b[49m\u001b[43m)\u001b[49m\n\u001b[1;32m     13\u001b[0m     set_trace()            \n\u001b[1;32m     14\u001b[0m     \u001b[38;5;28;01mdel\u001b[39;00m \u001b[38;5;28mself\u001b[39m\u001b[38;5;241m.\u001b[39mdts[indices[Integer(\u001b[38;5;241m1\u001b[39m):]]\n",
      "File \u001b[0;32m~/mambaforge/envs/sage/lib/python3.11/site-packages/sage/misc/functional.py:585\u001b[0m, in \u001b[0;36msymbolic_sum\u001b[0;34m(expression, *args, **kwds)\u001b[0m\n\u001b[1;32m    583\u001b[0m     \u001b[38;5;28;01mreturn\u001b[39;00m expression\u001b[38;5;241m.\u001b[39msum(\u001b[38;5;241m*\u001b[39margs, \u001b[38;5;241m*\u001b[39m\u001b[38;5;241m*\u001b[39mkwds)\n\u001b[1;32m    584\u001b[0m \u001b[38;5;28;01melif\u001b[39;00m \u001b[38;5;28mmax\u001b[39m(\u001b[38;5;28mlen\u001b[39m(args),\u001b[38;5;28mlen\u001b[39m(kwds)) \u001b[38;5;241m<\u001b[39m\u001b[38;5;241m=\u001b[39m \u001b[38;5;241m1\u001b[39m:\n\u001b[0;32m--> 585\u001b[0m     \u001b[38;5;28;01mreturn\u001b[39;00m \u001b[38;5;28;43msum\u001b[39;49m\u001b[43m(\u001b[49m\u001b[43mexpression\u001b[49m\u001b[43m,\u001b[49m\u001b[43m \u001b[49m\u001b[38;5;241;43m*\u001b[39;49m\u001b[43margs\u001b[49m\u001b[43m,\u001b[49m\u001b[43m \u001b[49m\u001b[38;5;241;43m*\u001b[39;49m\u001b[38;5;241;43m*\u001b[39;49m\u001b[43mkwds\u001b[49m\u001b[43m)\u001b[49m\n\u001b[1;32m    586\u001b[0m \u001b[38;5;28;01melse\u001b[39;00m:\n\u001b[1;32m    587\u001b[0m     \u001b[38;5;28;01mfrom\u001b[39;00m \u001b[38;5;21;01msage\u001b[39;00m\u001b[38;5;21;01m.\u001b[39;00m\u001b[38;5;21;01msymbolic\u001b[39;00m\u001b[38;5;21;01m.\u001b[39;00m\u001b[38;5;21;01mring\u001b[39;00m \u001b[38;5;28;01mimport\u001b[39;00m SR\n",
      "Cell \u001b[0;32mIn[16], line 12\u001b[0m, in \u001b[0;36m<genexpr>\u001b[0;34m(.0)\u001b[0m\n\u001b[1;32m     10\u001b[0m \u001b[38;5;28;01mwhile\u001b[39;00m duplicates \u001b[38;5;241m:=\u001b[39m [_ \u001b[38;5;28;01mfor\u001b[39;00m _ \u001b[38;5;129;01min\u001b[39;00m counts\u001b[38;5;241m.\u001b[39mitems() \u001b[38;5;28;01mif\u001b[39;00m _[Integer(\u001b[38;5;241m1\u001b[39m)] \u001b[38;5;241m>\u001b[39m Integer(\u001b[38;5;241m1\u001b[39m)]:\n\u001b[1;32m     11\u001b[0m     indices \u001b[38;5;241m=\u001b[39m [i \u001b[38;5;28;01mfor\u001b[39;00m i, dt \u001b[38;5;129;01min\u001b[39;00m \u001b[38;5;28menumerate\u001b[39m(\u001b[38;5;28mself\u001b[39m\u001b[38;5;241m.\u001b[39mdts) \u001b[38;5;28;01mif\u001b[39;00m \u001b[38;5;28mtuple\u001b[39m(dt\u001b[38;5;241m.\u001b[39morder) \u001b[38;5;241m==\u001b[39m duplicates[Integer(\u001b[38;5;241m0\u001b[39m)][Integer(\u001b[38;5;241m0\u001b[39m)]]\n\u001b[0;32m---> 12\u001b[0m     \u001b[38;5;28mself\u001b[39m\u001b[38;5;241m.\u001b[39mdts[indices[Integer(\u001b[38;5;241m0\u001b[39m)]]\u001b[38;5;241m.\u001b[39mcoefficient \u001b[38;5;241m+\u001b[39m\u001b[38;5;241m=\u001b[39m \u001b[38;5;28msum\u001b[39m(\u001b[38;5;28mself\u001b[39m\u001b[38;5;241m.\u001b[39mdts[\u001b[43mindices\u001b[49m\u001b[43m[\u001b[49m\u001b[43mi\u001b[49m\u001b[43m]\u001b[49m]\u001b[38;5;241m.\u001b[39mcoefficient \u001b[38;5;28;01mfor\u001b[39;00m i \u001b[38;5;129;01min\u001b[39;00m indices[Integer(\u001b[38;5;241m1\u001b[39m):])\n\u001b[1;32m     13\u001b[0m     set_trace()            \n\u001b[1;32m     14\u001b[0m     \u001b[38;5;28;01mdel\u001b[39;00m \u001b[38;5;28mself\u001b[39m\u001b[38;5;241m.\u001b[39mdts[indices[Integer(\u001b[38;5;241m1\u001b[39m):]]\n",
      "\u001b[0;31mIndexError\u001b[0m: list index out of range"
     ]
    }
   ],
   "source": [
    "dp=DP(ctx, e1)"
   ]
  },
  {
   "cell_type": "code",
   "execution_count": null,
   "id": "384441de-1e2f-4340-bf07-a3d7feb7ecef",
   "metadata": {},
   "outputs": [],
   "source": [
    "dp.lder"
   ]
  },
  {
   "cell_type": "code",
   "execution_count": null,
   "id": "9664c9c6-1b73-442a-82ce-2d5ef4638aa4",
   "metadata": {},
   "outputs": [],
   "source": [
    "for _ in dp.dts:\n",
    "    print(_.coefficient, _.derivative, _.comparison_order)\n"
   ]
  },
  {
   "cell_type": "code",
   "execution_count": null,
   "id": "db0e8dd1-e9b0-4150-b9c0-1ab1abac0e18",
   "metadata": {},
   "outputs": [],
   "source": [
    "dps=[DP(ctx, _) for _ in [e4,e2,e1,e3]]\n",
    "for _ in dps:\n",
    "    print(_.lder)"
   ]
  },
  {
   "cell_type": "code",
   "execution_count": 18,
   "id": "18bf5ee8-3011-49e6-b2e9-2b7e5f6eb93e",
   "metadata": {},
   "outputs": [],
   "source": [
    "def _Janet_Basis(dps):\n",
    "    return sorted(dps)"
   ]
  },
  {
   "cell_type": "code",
   "execution_count": 19,
   "id": "6ccc06e1-38f7-4185-b13e-6875db4a7b22",
   "metadata": {},
   "outputs": [
    {
     "ename": "NameError",
     "evalue": "name 'dps' is not defined",
     "output_type": "error",
     "traceback": [
      "\u001b[0;31m---------------------------------------------------------------------------\u001b[0m",
      "\u001b[0;31mNameError\u001b[0m                                 Traceback (most recent call last)",
      "Cell \u001b[0;32mIn[19], line 1\u001b[0m\n\u001b[0;32m----> 1\u001b[0m jb\u001b[38;5;241m=\u001b[39m_Janet_Basis(\u001b[43mdps\u001b[49m)\n",
      "\u001b[0;31mNameError\u001b[0m: name 'dps' is not defined"
     ]
    }
   ],
   "source": [
    "jb=_Janet_Basis(dps)"
   ]
  },
  {
   "cell_type": "code",
   "execution_count": 20,
   "id": "5b2b15d9-ae7e-4b0a-ac8c-d40c8ea0fa02",
   "metadata": {},
   "outputs": [],
   "source": [
    "def latexer_dp(context , dp):\n",
    "    return \"+\".join(map(lambda _ : latexer_dt(context, _), dp.dts)).replace(\"+-\", \"-\")"
   ]
  },
  {
   "cell_type": "code",
   "execution_count": 21,
   "id": "0972c604-a5de-4c04-9d93-4ee0e387f1e1",
   "metadata": {},
   "outputs": [
    {
     "ename": "NameError",
     "evalue": "name 'dps' is not defined",
     "output_type": "error",
     "traceback": [
      "\u001b[0;31m---------------------------------------------------------------------------\u001b[0m",
      "\u001b[0;31mNameError\u001b[0m                                 Traceback (most recent call last)",
      "Cell \u001b[0;32mIn[21], line 1\u001b[0m\n\u001b[0;32m----> 1\u001b[0m latexer_dp(ctx, \u001b[43mdps\u001b[49m[Integer(\u001b[38;5;241m2\u001b[39m)])\n",
      "\u001b[0;31mNameError\u001b[0m: name 'dps' is not defined"
     ]
    }
   ],
   "source": [
    "latexer_dp(ctx, dps[2])"
   ]
  },
  {
   "cell_type": "code",
   "execution_count": 22,
   "id": "d4334f27-8fbd-49b9-ac40-1d75aea3182d",
   "metadata": {},
   "outputs": [],
   "source": [
    "def _reduce_inner(e1:DP, e2:DP, context:Context) -> DP:\n",
    "    set_trace()\n",
    "    for t in (_ for _ in e1.dts if _.function == e2.lfunc):\n",
    "        # S1 from Algorithm 2.4\n",
    "        dif = [a - b for a, b in zip(t.order, e2.order)]\n",
    "        if all(map(lambda h: h == 0, dif)):\n",
    "            # S2 from Algorithm 2.4\n",
    "#            print(\"*****************************\")\n",
    "#            print((e1.expression - e2.expression * t.coefficient).simplify())\n",
    "#            set_trace()\n",
    "            return DP(context, e1.expression - e2.expression.mul(t.coefficient))\n",
    "        if all(map(lambda h: h >= 0, dif)):\n",
    "            # S2 from Algorithm 2.4\n",
    "            # toDo: as diff also accepts zeroth derivatives we may\n",
    "            # unfy these two branches\n",
    "            #\n",
    "            # ToDo: take care about the order of variables and oder in context!\n",
    "            variables_to_diff = []\n",
    "            # XXX: this may be a problem: which index? that from context or from order?\n",
    "            for i in range(len(context._independent)):\n",
    "                if dif[i] != 0:\n",
    "                    variables_to_diff.extend([context._independent[i]] * abs(dif[i]))\n",
    "            return DP(context, e1.expression - t.coefficient.mul(diff(e2.expression, *variables_to_diff)))\n",
    "    return e1"
   ]
  },
  {
   "cell_type": "code",
   "execution_count": 23,
   "id": "45a81a2d-040c-4930-aff5-330cc2b0baa4",
   "metadata": {},
   "outputs": [],
   "source": [
    "def _reduce(e1:DP, e2:DP, context: Context) -> DP:\n",
    "    while not bool((_e1 := _reduce_inner(e1, e2, context)) == e1):\n",
    "        e1 = _e1\n",
    "    return _e1"
   ]
  },
  {
   "cell_type": "code",
   "execution_count": 24,
   "id": "ce95cdb3-ba81-4cfd-b383-d24f1b581138",
   "metadata": {},
   "outputs": [],
   "source": [
    "def reduceS(e: DP, S: list[DP], context: Context) -> DP:\n",
    "    reducing = True\n",
    "    gen = [_ for _ in S]\n",
    "    while reducing:\n",
    "        for dp in gen:\n",
    "            enew = _reduce(e, dp, context)\n",
    "            # XXX check whether we can replace \"==\" by 'is'\n",
    "            if enew == e:\n",
    "                reducing = False\n",
    "            else:\n",
    "                e = enew\n",
    "                gen = [_ for _ in S]\n",
    "                reducing = True\n",
    "    return enew"
   ]
  },
  {
   "cell_type": "code",
   "execution_count": 25,
   "id": "5df7e05d-46e9-455f-aecc-5c886172fa6c",
   "metadata": {},
   "outputs": [],
   "source": [
    "def autoreduce(context, dps):\n",
    "    i =  0\n",
    "    _p, r = dps[:i + 1], dps[i + 1:]\n",
    "    while r:\n",
    "        newdps = []\n",
    "        have_reduced = False\n",
    "        for _r in r:\n",
    "            rnew = reduceS(_r, _p, context)\n",
    "            have_reduced = have_reduced or rnew != _r\n",
    "            newdps.append(rnew)\n",
    "        dps = sorted(_p + [_ for _ in newdps if _ not in _p], reverse=True)\n",
    "        if not have_reduced:\n",
    "            i += 1\n",
    "        else:\n",
    "            i = 0\n",
    "        _p, r = dps[:i + 1], dps[i + 1:]\n",
    "    return dps\n",
    "    \n",
    "class Janet_Basis:\n",
    "    def __init__(self, context: Context, expressions: list[_Sage_Expression]):\n",
    "        self.dps = sorted([DP(context, _) for _ in expressions], reverse = True)\n",
    "        for _ in self.dps:\n",
    "            display(Math(latexer_dp(context, _)))\n",
    "        self.dps = autoreduce(context, self.dps)"
   ]
  },
  {
   "cell_type": "code",
   "execution_count": 26,
   "id": "95721811-5cc9-4477-bfff-5dcf7f9982b1",
   "metadata": {},
   "outputs": [],
   "source": [
    "vars = var (\"x y\")\n",
    "z = function(\"z\")(*vars)\n",
    "w = function(\"w\")(*vars)\n",
    "# ctx: items are in descending order\n",
    "ctx_grevlex_f = Context((w,z), vars, Mgrevlex)\n",
    "ctx_grlex_f   = Context((w,z), vars, Mgrlex)\n",
    "ctx_lex_f     = Context((w,z), vars, Mlex)\n",
    "\n",
    "f1 = diff(w, y) + x*diff(z,y)/(2*y*(x**2+y)) - w/y\n",
    "f2 = diff(z,x,y) + y*diff(w,y)/x + 2*y*diff(z, x)/x\n",
    "f3 = diff(w, x,y) - 2*x*diff(z, x,2)/y - x*diff(w,x)/y**2\n",
    "f4 = diff(w, x,y) + diff(z, x,y) + diff(w, y)/(2*y) - diff(w,x)/y + x* diff(z, y)/y - w/(2*y**2)\n",
    "f5 = diff(w,y,y) + diff(z,x,y) - diff(w, y)/y + w/(y**2)\n",
    "\n",
    "system_2_24 = [f1,f2,f3,f4,f5]"
   ]
  },
  {
   "cell_type": "code",
   "execution_count": null,
   "id": "cb97dd80-8007-4583-967d-3ebab1910dbd",
   "metadata": {},
   "outputs": [
    {
     "name": "stdout",
     "output_type": "stream",
     "text": [
      "[-w(x, y)/y, 1/2*x*diff(z(x, y), y)/((x^2 + y)*y), diff(w(x, y), y)]\n",
      "expression=-w(x, y)/y,\n",
      "expression.operator().__class__.__name__='function'\n",
      "expression=1/y,\n",
      "expression.operator().__class__.__name__='builtin_function_or_method'\n",
      "expression=w(x, y),\n",
      "expression.operator().__class__.__name__='NewSymbolicFunction'\n",
      "expression=1/2*x*diff(z(x, y), y)/((x^2 + y)*y),\n",
      "expression.operator().__class__.__name__='function'\n",
      "expression=1/(x^2 + y),\n",
      "expression.operator().__class__.__name__='builtin_function_or_method'\n",
      "expression=1/y,\n",
      "expression.operator().__class__.__name__='builtin_function_or_method'\n",
      "expression=diff(z(x, y), y),\n",
      "expression.operator().__class__.__name__='FDerivativeOperator'\n",
      "expression=diff(w(x, y), y),\n",
      "expression.operator().__class__.__name__='FDerivativeOperator'\n",
      "> \u001b[0;32m/tmp/ipykernel_39175/248931014.py\u001b[0m(14)\u001b[0;36m__init__\u001b[0;34m()\u001b[0m\n",
      "\u001b[0;32m     12 \u001b[0;31m            \u001b[0mself\u001b[0m\u001b[0;34m.\u001b[0m\u001b[0mdts\u001b[0m\u001b[0;34m[\u001b[0m\u001b[0mindices\u001b[0m\u001b[0;34m[\u001b[0m\u001b[0mInteger\u001b[0m\u001b[0;34m(\u001b[0m\u001b[0;36m0\u001b[0m\u001b[0;34m)\u001b[0m\u001b[0;34m]\u001b[0m\u001b[0;34m]\u001b[0m\u001b[0;34m.\u001b[0m\u001b[0mcoefficient\u001b[0m \u001b[0;34m+=\u001b[0m \u001b[0msum\u001b[0m\u001b[0;34m(\u001b[0m\u001b[0mself\u001b[0m\u001b[0;34m.\u001b[0m\u001b[0mdts\u001b[0m\u001b[0;34m[\u001b[0m\u001b[0mindices\u001b[0m\u001b[0;34m[\u001b[0m\u001b[0mi\u001b[0m\u001b[0;34m]\u001b[0m\u001b[0;34m]\u001b[0m\u001b[0;34m.\u001b[0m\u001b[0mcoefficient\u001b[0m \u001b[0;32mfor\u001b[0m \u001b[0mi\u001b[0m \u001b[0;32min\u001b[0m \u001b[0mindices\u001b[0m\u001b[0;34m[\u001b[0m\u001b[0mInteger\u001b[0m\u001b[0;34m(\u001b[0m\u001b[0;36m1\u001b[0m\u001b[0;34m)\u001b[0m\u001b[0;34m:\u001b[0m\u001b[0;34m]\u001b[0m\u001b[0;34m)\u001b[0m\u001b[0;34m\u001b[0m\u001b[0;34m\u001b[0m\u001b[0m\n",
      "\u001b[0m\u001b[0;32m     13 \u001b[0;31m            \u001b[0mset_trace\u001b[0m\u001b[0;34m(\u001b[0m\u001b[0;34m)\u001b[0m\u001b[0;34m\u001b[0m\u001b[0;34m\u001b[0m\u001b[0m\n",
      "\u001b[0m\u001b[0;32m---> 14 \u001b[0;31m            \u001b[0;32mdel\u001b[0m \u001b[0mself\u001b[0m\u001b[0;34m.\u001b[0m\u001b[0mdts\u001b[0m\u001b[0;34m[\u001b[0m\u001b[0mindices\u001b[0m\u001b[0;34m[\u001b[0m\u001b[0mInteger\u001b[0m\u001b[0;34m(\u001b[0m\u001b[0;36m1\u001b[0m\u001b[0;34m)\u001b[0m\u001b[0;34m:\u001b[0m\u001b[0;34m]\u001b[0m\u001b[0;34m]\u001b[0m\u001b[0;34m\u001b[0m\u001b[0;34m\u001b[0m\u001b[0m\n",
      "\u001b[0m\u001b[0;32m     15 \u001b[0;31m        \u001b[0mlcoeff\u001b[0m \u001b[0;34m=\u001b[0m \u001b[0mself\u001b[0m\u001b[0;34m.\u001b[0m\u001b[0mdts\u001b[0m\u001b[0;34m[\u001b[0m\u001b[0mInteger\u001b[0m\u001b[0;34m(\u001b[0m\u001b[0;36m0\u001b[0m\u001b[0;34m)\u001b[0m\u001b[0;34m]\u001b[0m\u001b[0;34m.\u001b[0m\u001b[0mcoefficient\u001b[0m\u001b[0;34m\u001b[0m\u001b[0;34m\u001b[0m\u001b[0m\n",
      "\u001b[0m\u001b[0;32m     16 \u001b[0;31m        \u001b[0;32mfor\u001b[0m \u001b[0mdt\u001b[0m \u001b[0;32min\u001b[0m \u001b[0mself\u001b[0m\u001b[0;34m.\u001b[0m\u001b[0mdts\u001b[0m\u001b[0;34m:\u001b[0m\u001b[0;34m\u001b[0m\u001b[0;34m\u001b[0m\u001b[0m\n",
      "\u001b[0m\n"
     ]
    },
    {
     "name": "stdin",
     "output_type": "stream",
     "text": [
      "ipdb>  indices[Integer(1):]\n"
     ]
    },
    {
     "name": "stdout",
     "output_type": "stream",
     "text": [
      "[1]\n"
     ]
    },
    {
     "name": "stdin",
     "output_type": "stream",
     "text": [
      "ipdb>  del self.dts[1]\n"
     ]
    }
   ],
   "source": [
    "jb = Janet_Basis(ctx_grevlex_f, system_2_24)"
   ]
  },
  {
   "cell_type": "code",
   "execution_count": null,
   "id": "ed980d8e-f7a9-4d64-b721-4d304b7fa059",
   "metadata": {},
   "outputs": [],
   "source": [
    "for _ in jb.dps:\n",
    "    display(Math(latexer_dp(ctx_grevlex_f, _)))"
   ]
  },
  {
   "cell_type": "code",
   "execution_count": null,
   "id": "a7d1f519-b320-42f8-bd9c-eadab5602cc0",
   "metadata": {},
   "outputs": [],
   "source": [
    "# now ist the time to check the sorting....\n",
    "x, y, z = var(\"x y z\")\n",
    "u = function (\"u\")(x,y,z)\n",
    "ctxMlex = Context((u,),(x,y,z), Mlex)\n",
    "ctxMgrlex = Context((u,),(x,y,z), Mgrlex)\n",
    "ctxMgrevlex = Context((u,),(x,y,z), Mgrevlex)\n",
    "# this is the standard example stolen from wikipedia\n",
    "u0 = gen_dt(ctxMlex, diff(u,x,3))\n",
    "u1 = gen_dt(ctxMlex, diff(u,z,2))\n",
    "u2 = gen_dt(ctxMlex, diff(u,x,y,y,z))\n",
    "u3 = gen_dt(ctxMlex, diff(u, x,x,z,z))\n",
    "l1 = [u0, u1,u2,u3]\n",
    "shuffle(l1)\n",
    "s = list(sorted(l1, reverse = True))\n",
    "for _ in s: print(_.order)\n",
    "#diff(u(x, y, z), z, z)\n",
    "#diff(u(x, y, z), x, y, y, z)\n",
    "#diff(u(x, y, z), x, x, z, z)\n",
    "#diff(u(x, y, z), x, x, x)\n",
    "#        >>> s = sorted(l1, key=cmp_to_key(lambda item1, item2: item1.sorter(item2)))\n",
    "#        >>> for _ in s: print(_)\n",
    "#        diff(u(x, y, z), z, z)\n",
    "#        diff(u(x, y, z), x, x, x)\n",
    "#        diff(u(x, y, z), x, y, y, z)\n",
    "#        diff(u(x, y, z), x, x, z, z)\n",
    "#        >>> s = sorted(l1, key=cmp_to_key(lambda item1, item2: item1.sorter(item2)))\n",
    "#        >>> for _ in s: print(_)\n",
    "#        diff(u(x, y, z), z, z)\n",
    "#        diff(u(x, y, z), x, x, x)\n",
    "#        diff(u(x, y, z), x, x, z, z)\n",
    "#        diff(u(x, y, z), x, y, y, z)\n",
    "#        '''"
   ]
  },
  {
   "cell_type": "code",
   "execution_count": null,
   "id": "0e2f71a2-e86d-4aa7-9d08-a02857b42117",
   "metadata": {},
   "outputs": [],
   "source": [
    "#"
   ]
  },
  {
   "cell_type": "code",
   "execution_count": null,
   "id": "2bb8aef4-2896-4855-a921-4ea8ffd1cda2",
   "metadata": {},
   "outputs": [],
   "source": [
    "x, y = var('x y')\n",
    "w = function('w')(x, y)\n",
    "z = function('z')(x, y)\n",
    "ctx = Context((w, z), (y, x), Mgrlex)\n",
    "print(ctx._weight)\n",
    "l = [gen_dt(ctx, z), gen_dt(ctx, diff(z, x)), gen_dt(ctx, diff(z ,y)), gen_dt(ctx, diff(z ,x,x)), gen_dt(ctx, diff(z ,x, y)), gen_dt(ctx, diff(z ,y, y))] + \\\n",
    "    [gen_dt(ctx, w), gen_dt(ctx, diff(w, x)), gen_dt(ctx, diff(w ,y)), gen_dt(ctx, diff(w ,x,x)), gen_dt(ctx, diff(w ,x, y)), gen_dt(ctx, diff(w ,y, y))]\n"
   ]
  },
  {
   "cell_type": "code",
   "execution_count": null,
   "id": "e671fd2b-2153-4475-99db-4acc0283da66",
   "metadata": {},
   "outputs": [],
   "source": [
    "shuffle(l)\n",
    "for _ in sorted(l, reverse=True):\n",
    "    print(_.expression)"
   ]
  },
  {
   "cell_type": "code",
   "execution_count": null,
   "id": "d73ef561-e092-4c03-935f-a83d4703f5dd",
   "metadata": {},
   "outputs": [],
   "source": [
    "# https://people.sc.fsu.edu/~jburkardt/py_src/monomial/monomial.html ?"
   ]
  },
  {
   "cell_type": "code",
   "execution_count": null,
   "id": "97208714-d338-429a-9c0c-620672ed8d07",
   "metadata": {},
   "outputs": [],
   "source": []
  },
  {
   "cell_type": "code",
   "execution_count": null,
   "id": "0022269f-9445-4a06-983e-415c09d5c625",
   "metadata": {},
   "outputs": [],
   "source": []
  }
 ],
 "metadata": {
  "kernelspec": {
   "display_name": "SageMath 10.0",
   "language": "sage",
   "name": "sagemath"
  },
  "language_info": {
   "codemirror_mode": {
    "name": "ipython",
    "version": 3
   },
   "file_extension": ".py",
   "mimetype": "text/x-python",
   "name": "python",
   "nbconvert_exporter": "python",
   "pygments_lexer": "ipython3",
   "version": "3.11.6"
  }
 },
 "nbformat": 4,
 "nbformat_minor": 5
}
