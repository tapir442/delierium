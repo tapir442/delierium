{
 "cells": [
  {
   "cell_type": "code",
   "execution_count": 1,
   "id": "cfcd37f7-46f1-4a68-be17-ed58150d6bc8",
   "metadata": {},
   "outputs": [],
   "source": [
    "from sage.symbolic.expression import Expression\n",
    "from delierium.MatrixOrder import Context\n",
    "from IPython.display import Math\n",
    "from dataclasses import dataclass\n",
    "from delierium.helpers import latexer\n",
    "from sage.symbolic.expression_conversions import ExpressionTreeWalker\n",
    "from IPython.core.debugger import set_trace"
   ]
  },
  {
   "cell_type": "code",
   "execution_count": 2,
   "id": "491d46a9-feaf-455e-9837-216c0fe73061",
   "metadata": {},
   "outputs": [],
   "source": [
    "x, y= var(\"x y\")\n",
    "xi  = function(\"xi\")(x,y)\n",
    "eta = function(\"eta\")(x,y)\n",
    "ctx = Context([xi, eta], [x,y])\n",
    "xi_x = diff(xi, x)\n",
    "xi_y = diff(xi, y)\n",
    "xi_xx = diff(xi, x,x)\n",
    "xi_yy = diff(xi, y,y)\n",
    "xi_xy = diff(xi, x,y)\n",
    "eta_x = diff(eta, x)\n",
    "eta_y = diff(eta, y)\n",
    "eta_xx = diff(eta, x,x)\n",
    "eta_yy = diff(eta, y,y)\n",
    "eta_xy = diff(eta, x,y)\n",
    "\n",
    "A = function(\"A\")(x,y)\n",
    "B = function(\"B\")(x,y)\n",
    "C = function(\"C\")(x,y)\n",
    "D = function(\"D\")(x,y)\n",
    "A_x = diff(A, x)\n",
    "A_y = diff(A, y)\n",
    "B_x = diff(B, x)\n",
    "B_y = diff(B, y)\n",
    "C_x = diff(C, x)\n",
    "C_y = diff(C, y)\n",
    "D_x = diff(D, x)\n",
    "D_y = diff(D, y)"
   ]
  },
  {
   "cell_type": "code",
   "execution_count": 3,
   "id": "e73d5234-0400-4070-8e47-822addaec140",
   "metadata": {},
   "outputs": [],
   "source": [
    "e1 = xi_yy - 2*A*eta_y - B*xi_y + A*xi_x - A_y*eta-A_x*xi\n",
    "e2 = eta_xx - D*eta_y +C*eta_x +2*D*xi_x +D_y*eta+D_x*xi\n",
    "e3 = eta_xy - xi_xx/2 +B*eta_x+3*D*xi_y/2+C*xi_x/2 + C_y*eta/2 + C_x*xi/2\n",
    "e4 = eta_yy - 2*xi_xy +B*eta_y + 3*A*eta_x + 2*C*xi_y + B_y*eta +B_x*xi"
   ]
  },
  {
   "cell_type": "code",
   "execution_count": 4,
   "id": "ba95c537-f13e-48bb-9b58-ea2030a1cf53",
   "metadata": {},
   "outputs": [],
   "source": [
    "from functools import partial, wraps, cache\n",
    "from operator import mul\n",
    "#def contextualize(func):\n",
    "#    @wraps(function)\n",
    "#    def context_wrapper(context, *args):\n",
    "#        return partial(func, context)\n",
    "#    return context_wrapper\n",
    "\n",
    "def contexter(obj, func=None):\n",
    "    if func is None:\n",
    "        return partial(func, obj)\n",
    "    setattr(obj, func.__name__, func)\n",
    "    return func"
   ]
  },
  {
   "cell_type": "code",
   "execution_count": 5,
   "id": "3202ffa2-8aab-4837-a61d-8310dad3743b",
   "metadata": {},
   "outputs": [],
   "source": [
    "_Sage_Expression = sage.symbolic.expression.Expression\n",
    "_Delierium_Context = Context\n",
    "def gen_summands(context: _Delierium_Context, expression: _Sage_Expression) -> list[_Sage_Expression]:\n",
    "    try :\n",
    "        if expression.operator().__name__ == 'add_vararg':\n",
    "            return expression.operands()\n",
    "    except AttributeError:\n",
    "        return [expression]\n",
    "    return [expression]\n",
    "\n",
    "#all_delierium_functions = [gen_dt_list]\n",
    "\n",
    "\n",
    "\n",
    "#def curry_funcs_with_context(context):\n",
    "#    for v in all_delierium_functions:\n",
    "#        print(id(v))\n",
    "#        v = partial(v, context)\n",
    "#        print(id(v))\n",
    "\n",
    "#curry_funcs_with_context(ctx)\n",
    "gen_summands = partial(gen_summands, ctx)\n",
    "#gen_dt = partial(gen_dt, ctx)"
   ]
  },
  {
   "cell_type": "code",
   "execution_count": 6,
   "id": "cafd6c96-1856-48c9-8e11-673d8b1dae2d",
   "metadata": {},
   "outputs": [
    {
     "name": "stdout",
     "output_type": "stream",
     "text": [
      "functools.partial(<function gen_summands at 0x7f00fee43f60>, <delierium.MatrixOrder.Context object at 0x7f00fccdb240>)\n"
     ]
    }
   ],
   "source": [
    "print(gen_summands)"
   ]
  },
  {
   "cell_type": "code",
   "execution_count": 7,
   "id": "0ed32da7-64d7-4141-9ccd-b67a42c9e37e",
   "metadata": {},
   "outputs": [
    {
     "data": {
      "text/plain": [
       "[-xi(x, y)*diff(A(x, y), x),\n",
       " -eta(x, y)*diff(A(x, y), y),\n",
       " -2*A(x, y)*diff(eta(x, y), y),\n",
       " A(x, y)*diff(xi(x, y), x),\n",
       " -B(x, y)*diff(xi(x, y), y),\n",
       " diff(xi(x, y), y, y)]"
      ]
     },
     "execution_count": 7,
     "metadata": {},
     "output_type": "execute_result"
    }
   ],
   "source": [
    "gen_summands(e1)"
   ]
  },
  {
   "cell_type": "code",
   "execution_count": 8,
   "id": "0853458d-93e0-4423-9b45-8701e5ba0fe4",
   "metadata": {},
   "outputs": [],
   "source": [
    "class DelieriumNotALinearPDE(TypeError):\n",
    "    def __init__ (self, expression):\n",
    "        #self.message = f\"{expression=} is not a valid linear PDE\"\n",
    "        super().__init__(f\"{expression=} is not a valid term in linear PDE\")\n",
    "\n",
    "from functools import cache\n",
    "\n",
    "@dataclass\n",
    "class DT:\n",
    "    context: Context\n",
    "    expression: _Sage_Expression\n",
    "    coefficient: _Sage_Expression\n",
    "    derivative: _Sage_Expression\n",
    "    function: _Sage_Expression\n",
    "    order: tuple[int]\n",
    "    comparison_order: tuple[int]\n",
    "    def __lt__ (self, other):\n",
    "        r = self.context._weight * (vector(self.comparison_order) - vector(other.comparison_order))\n",
    "        for entry in r:\n",
    "            if entry:\n",
    "                return entry > 0\n",
    "        return False\n"
   ]
  },
  {
   "cell_type": "code",
   "execution_count": 9,
   "id": "3c76a765-3c0a-49cc-8d41-7e54e7526689",
   "metadata": {},
   "outputs": [],
   "source": [
    "def is_derivative(e):\n",
    "    try:\n",
    "        return e.operator().__class__.__name__ == \"FDerivativeOperator\"\n",
    "    except AttributeError:\n",
    "        return False\n",
    "\n",
    "def order_of_derivative(context, e, required_len=0):\n",
    "    '''Returns the vector of the orders of a derivative respect to its variables\n",
    "    [2, 1, 3]\n",
    "    '''\n",
    "    res = [0] * len(e.variables())\n",
    "    if not is_derivative(e):\n",
    "        return res\n",
    "    opr = e.operator().parameter_set()\n",
    "    for variable in e.variables():\n",
    "        i = context._independent.index(variable)\n",
    "        res[i] = opr.count(i)\n",
    "    return res\n",
    "\n",
    "\n",
    "def _compute_comparison_vector(context, func):\n",
    "    iv = [0] * len(context._dependent)\n",
    "    if func in context._dependent:\n",
    "        iv[context._dependent.index(func)] += 1\n",
    "    return iv\n",
    "\n",
    "def compute_order(context, expression):\n",
    "    \"\"\"computes the monomial tuple from the derivative part\"\"\"\n",
    "    if is_derivative(expression):\n",
    "        return order_of_derivative(expression, context, len(context._independent))\n",
    "    # XXX: Check can that be within a system of linead PDEs ? I think not, as the function must then be identically to zero\n",
    "    return [0] * len(context._independent), None"
   ]
  },
  {
   "cell_type": "code",
   "execution_count": 16,
   "id": "8cfb25de-4ba2-456d-86de-e2de869ec1bc",
   "metadata": {},
   "outputs": [],
   "source": [
    "def _gen_dt(context: _Delierium_Context, expression: _Sage_Expression) -> bool:\n",
    "    coeff = []\n",
    "    derivs = []\n",
    "    match expression.operator().__class__.__name__:\n",
    "        case \"FDerivativeOperator\":\n",
    "            if expression.operator().function() in context._dependent:\n",
    "                derivs.append(expression)\n",
    "            else:\n",
    "                coeff.append(expression)\n",
    "        case \"Expression\":\n",
    "            print(\"Symbolic Expression\")\n",
    "            print(dir(expression))\n",
    "        case \"NewSymbolicFunction\":\n",
    "            if expression.operator() in context._dependent:\n",
    "                derivs.append(expression)\n",
    "            else:\n",
    "                coeff.append(expression)\n",
    "        case \"function\":\n",
    "            if expression.operator().__name__ == \"mul_vararg\":\n",
    "                for operand in expression.operands():\n",
    "                    if not operand.operator():\n",
    "                        coeff.append(operand)\n",
    "                    else:\n",
    "                        c, d = _gen_dt(context, operand)\n",
    "                        coeff.extend(c)\n",
    "                        derivs.extend(d)\n",
    "        case _:\n",
    "            print(\"MISTTT\")\n",
    "    if len(derivs) > 1:\n",
    "        print(f\"{expression=} seems not be part of a linear PDE\")\n",
    "        print(f\"{locals()=}\")\n",
    "    return coeff, derivs\n",
    "\n",
    "def gen_dt(context: _Delierium_Context, expression: _Sage_Expression)-> bool:\n",
    "    c, d = _gen_dt(context, expression)\n",
    "    if not d:\n",
    "        raise DelieriumNotALinearPDE(expression)\n",
    "    d = reduce(mul, d, 1)\n",
    "    order = order_of_derivative(context, d)\n",
    "    return DT(context,\n",
    "              expression,\n",
    "              reduce(mul, c, 1), d,\n",
    "              d.operator().function() if is_derivative(d) else d.function(),              \n",
    "              order,\n",
    "              _compute_comparison_vector(context, d.operator().function() if is_derivative(d) else d.function()) + order\n",
    "             )\n",
    "              \n",
    "    "
   ]
  },
  {
   "cell_type": "code",
   "execution_count": 17,
   "id": "8c5a023a-0701-442a-97ba-594635bd789a",
   "metadata": {},
   "outputs": [
    {
     "name": "stdout",
     "output_type": "stream",
     "text": [
      "11111111111111111111\n",
      "22222222222222222222\n",
      "55555555555555555555\n"
     ]
    },
    {
     "data": {
      "text/plain": [
       "DT(context=<delierium.MatrixOrder.Context object at 0x7f00fccdb240>, expression=diff(xi(x, y), x), coefficient=1, derivative=diff(xi(x, y), x), function=xi, order=[1, 0], comparison_order=[1, 0, 1, 0])"
      ]
     },
     "execution_count": 17,
     "metadata": {},
     "output_type": "execute_result"
    }
   ],
   "source": [
    "gen_dt(ctx, 2*A_x*B_x*xi_xy)\n",
    "print(\"1\"*20)\n",
    "gen_dt(ctx, xi)\n",
    "print(\"2\"*20)\n",
    "gen_dt(ctx, 2*xi)\n",
    "#print(\"3\"*20)\n",
    "#gen_dt(ctx, A)\n",
    "#print(\"4\"*20)\n",
    "#gen_dt(ctx, 2*A*D)\n",
    "print(\"5\"*20)\n",
    "gen_dt(ctx, xi_x)\n"
   ]
  },
  {
   "cell_type": "code",
   "execution_count": 18,
   "id": "24e36a3d-8f83-474a-95ea-7eae874d416e",
   "metadata": {},
   "outputs": [
    {
     "data": {
      "text/plain": [
       "DT(context=<delierium.MatrixOrder.Context object at 0x7f00fccdb240>, expression=2*diff(A(x, y), x)*diff(B(x, y), x)*diff(xi(x, y), x, y), coefficient=2*diff(A(x, y), x)*diff(B(x, y), x), derivative=diff(xi(x, y), x, y), function=xi, order=[1, 1], comparison_order=[1, 0, 1, 1])"
      ]
     },
     "execution_count": 18,
     "metadata": {},
     "output_type": "execute_result"
    }
   ],
   "source": [
    "gen_dt(ctx, 2*A_x*B_x*xi_xy)"
   ]
  },
  {
   "cell_type": "code",
   "execution_count": 19,
   "id": "7fa6276f-f6cb-496e-b373-b633357c8a39",
   "metadata": {},
   "outputs": [],
   "source": [
    "v = list(map(lambda _: gen_dt(ctx, _), gen_summands(e1)))"
   ]
  },
  {
   "cell_type": "code",
   "execution_count": 20,
   "id": "d8bee0d1-862d-4f61-94aa-3e96c4efef96",
   "metadata": {},
   "outputs": [
    {
     "data": {
      "text/html": [
       "<html>\\(\\displaystyle -\\xi\\left(x, y\\right) \\frac{\\partial}{\\partial x}A\\left(x, y\\right) - \\eta\\left(x, y\\right) \\frac{\\partial}{\\partial y}A\\left(x, y\\right) - 2 \\, A\\left(x, y\\right) \\frac{\\partial}{\\partial y}\\eta\\left(x, y\\right) + A\\left(x, y\\right) \\frac{\\partial}{\\partial x}\\xi\\left(x, y\\right) - B\\left(x, y\\right) \\frac{\\partial}{\\partial y}\\xi\\left(x, y\\right) + \\frac{\\partial^{2}}{(\\partial y)^{2}}\\xi\\left(x, y\\right)\\)</html>"
      ],
      "text/latex": [
       "$\\displaystyle -\\xi\\left(x, y\\right) \\frac{\\partial}{\\partial x}A\\left(x, y\\right) - \\eta\\left(x, y\\right) \\frac{\\partial}{\\partial y}A\\left(x, y\\right) - 2 \\, A\\left(x, y\\right) \\frac{\\partial}{\\partial y}\\eta\\left(x, y\\right) + A\\left(x, y\\right) \\frac{\\partial}{\\partial x}\\xi\\left(x, y\\right) - B\\left(x, y\\right) \\frac{\\partial}{\\partial y}\\xi\\left(x, y\\right) + \\frac{\\partial^{2}}{(\\partial y)^{2}}\\xi\\left(x, y\\right)$"
      ],
      "text/plain": [
       "-xi(x, y)*diff(A(x, y), x) - eta(x, y)*diff(A(x, y), y) - 2*A(x, y)*diff(eta(x, y), y) + A(x, y)*diff(xi(x, y), x) - B(x, y)*diff(xi(x, y), y) + diff(xi(x, y), y, y)"
      ]
     },
     "metadata": {},
     "output_type": "display_data"
    },
    {
     "name": "stdout",
     "output_type": "stream",
     "text": [
      "[DT(context=<delierium.MatrixOrder.Context object at 0x7f00fccdb240>,\n",
      "    expression=-xi(x, y)*diff(A(x, y), x),\n",
      "    coefficient=-diff(A(x, y), x),\n",
      "    derivative=xi(x, y),\n",
      "    function=() |--> xi(x, y),\n",
      "    order=[0, 0],\n",
      "    comparison_order=[0, 0, 0, 0]),\n",
      " DT(context=<delierium.MatrixOrder.Context object at 0x7f00fccdb240>,\n",
      "    expression=-eta(x, y)*diff(A(x, y), y),\n",
      "    coefficient=-diff(A(x, y), y),\n",
      "    derivative=eta(x, y),\n",
      "    function=() |--> eta(x, y),\n",
      "    order=[0, 0],\n",
      "    comparison_order=[0, 0, 0, 0]),\n",
      " DT(context=<delierium.MatrixOrder.Context object at 0x7f00fccdb240>,\n",
      "    expression=-2*A(x, y)*diff(eta(x, y), y),\n",
      "    coefficient=-2*A(x, y),\n",
      "    derivative=diff(eta(x, y), y),\n",
      "    function=eta,\n",
      "    order=[0, 1],\n",
      "    comparison_order=[0, 1, 0, 1]),\n",
      " DT(context=<delierium.MatrixOrder.Context object at 0x7f00fccdb240>,\n",
      "    expression=A(x, y)*diff(xi(x, y), x),\n",
      "    coefficient=A(x, y),\n",
      "    derivative=diff(xi(x, y), x),\n",
      "    function=xi,\n",
      "    order=[1, 0],\n",
      "    comparison_order=[1, 0, 1, 0]),\n",
      " DT(context=<delierium.MatrixOrder.Context object at 0x7f00fccdb240>,\n",
      "    expression=-B(x, y)*diff(xi(x, y), y),\n",
      "    coefficient=-B(x, y),\n",
      "    derivative=diff(xi(x, y), y),\n",
      "    function=xi,\n",
      "    order=[0, 1],\n",
      "    comparison_order=[1, 0, 0, 1]),\n",
      " DT(context=<delierium.MatrixOrder.Context object at 0x7f00fccdb240>,\n",
      "    expression=diff(xi(x, y), y, y),\n",
      "    coefficient=1,\n",
      "    derivative=diff(xi(x, y), y, y),\n",
      "    function=xi,\n",
      "    order=[0, 2],\n",
      "    comparison_order=[1, 0, 0, 2])]\n"
     ]
    }
   ],
   "source": [
    "from pprint import pprint\n",
    "e1.show()\n",
    "pprint(v)"
   ]
  },
  {
   "cell_type": "code",
   "execution_count": 21,
   "id": "8f8fcad2-079a-4a3a-8ad4-9b4998a55de1",
   "metadata": {},
   "outputs": [],
   "source": [
    "class DP:\n",
    "    def __init__(self, context, expression):\n",
    "        self.context = context\n",
    "        self.expression = expression\n",
    "        self.dts = list(sorted(map(lambda _: gen_dt(context, _), gen_summands(expression))))\n",
    "        lcoeff = self.dts[0].coefficient\n",
    "        for dt in self.dts:\n",
    "            dt.coefficient /= lcoeff\n",
    "        self.lder = self.dts[0].derivative\n",
    "        \n"
   ]
  },
  {
   "cell_type": "code",
   "execution_count": 22,
   "id": "7f71dc7d-fc32-4e20-bed8-45216721e00c",
   "metadata": {},
   "outputs": [],
   "source": [
    "dp=DP(ctx, e1)"
   ]
  },
  {
   "cell_type": "code",
   "execution_count": 23,
   "id": "384441de-1e2f-4340-bf07-a3d7feb7ecef",
   "metadata": {},
   "outputs": [
    {
     "data": {
      "text/plain": [
       "diff(xi(x, y), x)"
      ]
     },
     "execution_count": 23,
     "metadata": {},
     "output_type": "execute_result"
    }
   ],
   "source": [
    "dp.lder"
   ]
  },
  {
   "cell_type": "code",
   "execution_count": 24,
   "id": "9664c9c6-1b73-442a-82ce-2d5ef4638aa4",
   "metadata": {},
   "outputs": [
    {
     "name": "stdout",
     "output_type": "stream",
     "text": [
      "1 diff(xi(x, y), x) [1, 0, 1, 0]\n",
      "1/A(x, y) diff(xi(x, y), y, y) [1, 0, 0, 2]\n",
      "-B(x, y)/A(x, y) diff(xi(x, y), y) [1, 0, 0, 1]\n",
      "-2 diff(eta(x, y), y) [0, 1, 0, 1]\n",
      "-diff(A(x, y), x)/A(x, y) xi(x, y) [0, 0, 0, 0]\n",
      "-diff(A(x, y), y)/A(x, y) eta(x, y) [0, 0, 0, 0]\n"
     ]
    }
   ],
   "source": [
    "for _ in dp.dts:\n",
    "    print(_.coefficient, _.derivative, _.comparison_order)\n"
   ]
  },
  {
   "cell_type": "code",
   "execution_count": null,
   "id": "db0e8dd1-e9b0-4150-b9c0-1ab1abac0e18",
   "metadata": {},
   "outputs": [],
   "source": []
  },
  {
   "cell_type": "code",
   "execution_count": null,
   "id": "18bf5ee8-3011-49e6-b2e9-2b7e5f6eb93e",
   "metadata": {},
   "outputs": [],
   "source": []
  }
 ],
 "metadata": {
  "kernelspec": {
   "display_name": "SageMath 10.0",
   "language": "sage",
   "name": "sagemath"
  },
  "language_info": {
   "codemirror_mode": {
    "name": "ipython",
    "version": 3
   },
   "file_extension": ".py",
   "mimetype": "text/x-python",
   "name": "python",
   "nbconvert_exporter": "python",
   "pygments_lexer": "ipython3",
   "version": "3.11.6"
  }
 },
 "nbformat": 4,
 "nbformat_minor": 5
}
