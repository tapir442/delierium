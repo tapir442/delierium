{
 "cells": [
  {
   "cell_type": "code",
   "execution_count": 12,
   "id": "012c0b21-d523-4033-9a6e-040e1ce90e66",
   "metadata": {},
   "outputs": [
    {
     "name": "stdout",
     "output_type": "stream",
     "text": [
      "> \u001b[0;32m/researches/delierium/delierium/JanetBasis.py\u001b[0m(343)\u001b[0;36mcomplete\u001b[0;34m()\u001b[0m\n",
      "\u001b[0;32m    341 \u001b[0;31m    \u001b[0;31m# XXX put 'complete' into Involution, easier to test, and much faster\u001b[0m\u001b[0;34m\u001b[0m\u001b[0;34m\u001b[0m\u001b[0m\n",
      "\u001b[0m\u001b[0;32m    342 \u001b[0;31m    \u001b[0mset_trace\u001b[0m\u001b[0;34m(\u001b[0m\u001b[0;34m)\u001b[0m\u001b[0;34m\u001b[0m\u001b[0;34m\u001b[0m\u001b[0m\n",
      "\u001b[0m\u001b[0;32m--> 343 \u001b[0;31m    \u001b[0mresult\u001b[0m \u001b[0;34m=\u001b[0m \u001b[0mlist\u001b[0m\u001b[0;34m(\u001b[0m\u001b[0mS\u001b[0m\u001b[0;34m)\u001b[0m\u001b[0;34m\u001b[0m\u001b[0;34m\u001b[0m\u001b[0m\n",
      "\u001b[0m\u001b[0;32m    344 \u001b[0;31m    \u001b[0;32mif\u001b[0m \u001b[0mlen\u001b[0m\u001b[0;34m(\u001b[0m\u001b[0mresult\u001b[0m\u001b[0;34m)\u001b[0m \u001b[0;34m==\u001b[0m \u001b[0;36m1\u001b[0m\u001b[0;34m:\u001b[0m\u001b[0;34m\u001b[0m\u001b[0;34m\u001b[0m\u001b[0m\n",
      "\u001b[0m\u001b[0;32m    345 \u001b[0;31m        \u001b[0;32mreturn\u001b[0m \u001b[0mresult\u001b[0m\u001b[0;34m\u001b[0m\u001b[0;34m\u001b[0m\u001b[0m\n",
      "\u001b[0m\n"
     ]
    },
    {
     "name": "stdin",
     "output_type": "stream",
     "text": [
      "ipdb>  c\n"
     ]
    },
    {
     "name": "stdout",
     "output_type": "stream",
     "text": [
      "'SSSSSSSSSSSSSSSSSSSSSSSSSSSSSSSSSSSSSSSSSSSSSSSSSSSSSSSSSSSSSSSSSSSSSSSSSSSSSSSSSSSSSSSSSSSSSSSSSSS'\n",
      "[([3, 1, 3], 1, (3, 0, 3)),\n",
      " ([3, 1, 2], 2, (3, 1, 1)),\n",
      " ([1, 1, 1], 0, (0, 1, 1)),\n",
      " ([0, 1, 2], 2, (0, 1, 1)),\n",
      " ([2, 1, 1], 0, (1, 1, 1)),\n",
      " ([1, 1, 2], 2, (1, 1, 1)),\n",
      " ([1, 1, 2], 0, (0, 1, 2)),\n",
      " ([0, 1, 3], 2, (0, 1, 2)),\n",
      " ([2, 1, 2], 2, (2, 1, 1)),\n",
      " ([2, 1, 2], 0, (1, 1, 2)),\n",
      " ([1, 1, 3], 2, (1, 1, 2)),\n",
      " ([1, 1, 3], 0, (0, 1, 3)),\n",
      " ([0, 2, 3], 1, (0, 1, 3)),\n",
      " ([2, 1, 3], 2, (2, 1, 2)),\n",
      " ([2, 1, 3], 0, (1, 1, 3)),\n",
      " ([1, 2, 3], 1, (1, 1, 3)),\n",
      " ([1, 2, 3], 0, (0, 2, 3))]\n"
     ]
    }
   ],
   "source": [
    "# a variant of https://www.researchgate.net/publication/334785151_Lie_symmetry_Analysis_Fourth_order_Nonlinear_ordinary_differential_Equation_as_a_case_study\n",
    "# this is the reason for ticket 1\n",
    "from delierium.Infinitesimals import prolongationODE, overdeterminedSystemODE, Janet_Basis_from_ODE\n",
    "from IPython.display import Math\n",
    "from delierium.helpers import latexer\n",
    "from delierium.MatrixOrder import Context, Mgrlex, Mgrevlex, Mlex\n",
    "from delierium.JanetBasis import _Differential_Polynomial, CompleteSystem\n",
    "\n",
    "tvars=var(\"x y z\")\n",
    "w = function(\"w\")(*tvars)\n",
    "# these DPs are constructed from C1, pp 384\n",
    "M5=[(2,2,3), (3,0,3), (3,1,1), (0,1,1)]\n",
    "h1=diff(w, x,x, y,y,z,z,z)\n",
    "h2=diff(w, x,x,x,     z,z,z)\n",
    "h3=diff(w, x,x,x  ,   y,  z)\n",
    "h4=diff(w, z,     y)\n",
    "ctx=Context((w,),(x,y,z), Mlex)\n",
    "dps=[_Differential_Polynomial(_, ctx) for _ in [h1,h2,h3,h4]]\n",
    "cs = CompleteSystem(dps, ctx)\n",
    "\n"
   ]
  },
  {
   "cell_type": "code",
   "execution_count": 11,
   "id": "8c4fd80d-3157-414f-b5ed-63dbb072313a",
   "metadata": {},
   "outputs": [
    {
     "name": "stdout",
     "output_type": "stream",
     "text": [
      "10\n"
     ]
    }
   ],
   "source": [
    "print (len(cs))"
   ]
  },
  {
   "cell_type": "code",
   "execution_count": null,
   "id": "c14d7c72-a754-40c4-a602-9911230b3d83",
   "metadata": {},
   "outputs": [],
   "source": [
    "for i in cs:\n",
    "    print(i)"
   ]
  },
  {
   "cell_type": "code",
   "execution_count": 4,
   "id": "aaaef4fe-1412-4640-84db-e59cc92bb5a9",
   "metadata": {},
   "outputs": [
    {
     "name": "stdout",
     "output_type": "stream",
     "text": [
      "diff(w(x, y, z), x, x, x, y, y, z, z)\n",
      "diff(w(x, y, z), x, x, x, z, z, z)\n",
      "diff(w(x, y, z), x, y, z, z, z)\n",
      "diff(w(x, y, z), x, y)\n"
     ]
    }
   ],
   "source": [
    "for i in dps:\n",
    "    print(i)"
   ]
  },
  {
   "cell_type": "code",
   "execution_count": null,
   "id": "b676f4bc-d129-4421-a3d7-9bb3214fb659",
   "metadata": {},
   "outputs": [],
   "source": []
  }
 ],
 "metadata": {
  "kernelspec": {
   "display_name": "SageMath 9.7",
   "language": "sage",
   "name": "sagemath"
  },
  "language_info": {
   "codemirror_mode": {
    "name": "ipython",
    "version": 3
   },
   "file_extension": ".py",
   "mimetype": "text/x-python",
   "name": "python",
   "nbconvert_exporter": "python",
   "pygments_lexer": "ipython3",
   "version": "3.10.8"
  },
  "widgets": {
   "application/vnd.jupyter.widget-state+json": {
    "state": {},
    "version_major": 2,
    "version_minor": 0
   }
  }
 },
 "nbformat": 4,
 "nbformat_minor": 5
}
