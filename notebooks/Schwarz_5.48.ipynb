{
 "cells": [
  {
   "cell_type": "code",
   "execution_count": 1,
   "id": "6ad66b64-b4bb-40ba-8a3a-66cb5a5d5e9a",
   "metadata": {},
   "outputs": [
    {
     "data": {
      "text/latex": [
       "$\\displaystyle 15/4 y_{x}^3 - 9/2 y y_{x} y_{x, x} + y^2 y_{x, x, x}$"
      ],
      "text/plain": [
       "<IPython.core.display.Math object>"
      ]
     },
     "metadata": {},
     "output_type": "display_data"
    },
    {
     "data": {
      "text/html": [
       "<html>\\(\\displaystyle \\frac{15}{4} \\, \\frac{\\partial}{\\partial x}y\\left(x\\right)^{3} - \\frac{9}{2} \\, y\\left(x\\right) \\frac{\\partial}{\\partial x}y\\left(x\\right) \\frac{\\partial^{2}}{(\\partial x)^{2}}y\\left(x\\right) + y\\left(x\\right)^{2} \\frac{\\partial^{3}}{(\\partial x)^{3}}y\\left(x\\right)\\)</html>"
      ],
      "text/latex": [
       "$\\displaystyle \\frac{15}{4} \\, \\frac{\\partial}{\\partial x}y\\left(x\\right)^{3} - \\frac{9}{2} \\, y\\left(x\\right) \\frac{\\partial}{\\partial x}y\\left(x\\right) \\frac{\\partial^{2}}{(\\partial x)^{2}}y\\left(x\\right) + y\\left(x\\right)^{2} \\frac{\\partial^{3}}{(\\partial x)^{3}}y\\left(x\\right)$"
      ],
      "text/plain": [
       "15/4*diff(y(x), x)^3 - 9/2*y(x)*diff(y(x), x)*diff(y(x), x, x) + y(x)^2*diff(y(x), x, x, x)"
      ]
     },
     "metadata": {},
     "output_type": "display_data"
    },
    {
     "name": "stdout",
     "output_type": "stream",
     "text": [
      "==================== prolongation ====================\n"
     ]
    },
    {
     "data": {
      "text/latex": [
       "$\\displaystyle -y^2  \\xi_{yyy} y_{x}^4$"
      ],
      "text/plain": [
       "<IPython.core.display.Math object>"
      ]
     },
     "metadata": {},
     "output_type": "display_data"
    },
    {
     "data": {
      "text/latex": [
       "$\\displaystyle y^2  \\phi_{yyy} y_{x}^3$"
      ],
      "text/plain": [
       "<IPython.core.display.Math object>"
      ]
     },
     "metadata": {},
     "output_type": "display_data"
    },
    {
     "data": {
      "text/latex": [
       "$\\displaystyle -3 y^2  \\xi_{yyx} y_{x}^3$"
      ],
      "text/plain": [
       "<IPython.core.display.Math object>"
      ]
     },
     "metadata": {},
     "output_type": "display_data"
    },
    {
     "data": {
      "text/latex": [
       "$\\displaystyle 9/2 y  \\xi_{yy} y_{x}^4$"
      ],
      "text/plain": [
       "<IPython.core.display.Math object>"
      ]
     },
     "metadata": {},
     "output_type": "display_data"
    },
    {
     "data": {
      "text/latex": [
       "$\\displaystyle -6 y^2  \\xi_{yy} y_{x}^2 y_{x, x}$"
      ],
      "text/plain": [
       "<IPython.core.display.Math object>"
      ]
     },
     "metadata": {},
     "output_type": "display_data"
    },
    {
     "data": {
      "text/latex": [
       "$\\displaystyle 3 y^2  \\phi_{yyx} y_{x}^2$"
      ],
      "text/plain": [
       "<IPython.core.display.Math object>"
      ]
     },
     "metadata": {},
     "output_type": "display_data"
    },
    {
     "data": {
      "text/latex": [
       "$\\displaystyle -3 y^2  \\xi_{yxx} y_{x}^2$"
      ],
      "text/plain": [
       "<IPython.core.display.Math object>"
      ]
     },
     "metadata": {},
     "output_type": "display_data"
    },
    {
     "data": {
      "text/latex": [
       "$\\displaystyle -9/2 y  \\phi_{yy} y_{x}^3$"
      ],
      "text/plain": [
       "<IPython.core.display.Math object>"
      ]
     },
     "metadata": {},
     "output_type": "display_data"
    },
    {
     "data": {
      "text/latex": [
       "$\\displaystyle 9 y  \\xi_{yx} y_{x}^3$"
      ],
      "text/plain": [
       "<IPython.core.display.Math object>"
      ]
     },
     "metadata": {},
     "output_type": "display_data"
    },
    {
     "data": {
      "text/latex": [
       "$\\displaystyle -45/4  \\xi_{y} y_{x}^4$"
      ],
      "text/plain": [
       "<IPython.core.display.Math object>"
      ]
     },
     "metadata": {},
     "output_type": "display_data"
    },
    {
     "data": {
      "text/latex": [
       "$\\displaystyle 3 y^2  \\phi_{yy} y_{x} y_{x, x}$"
      ],
      "text/plain": [
       "<IPython.core.display.Math object>"
      ]
     },
     "metadata": {},
     "output_type": "display_data"
    },
    {
     "data": {
      "text/latex": [
       "$\\displaystyle -9 y^2  \\xi_{yx} y_{x} y_{x, x}$"
      ],
      "text/plain": [
       "<IPython.core.display.Math object>"
      ]
     },
     "metadata": {},
     "output_type": "display_data"
    },
    {
     "data": {
      "text/latex": [
       "$\\displaystyle 18 y  \\xi_{y} y_{x}^2 y_{x, x}$"
      ],
      "text/plain": [
       "<IPython.core.display.Math object>"
      ]
     },
     "metadata": {},
     "output_type": "display_data"
    },
    {
     "data": {
      "text/latex": [
       "$\\displaystyle -3 y^2  \\xi_{y} y_{x, x}^2$"
      ],
      "text/plain": [
       "<IPython.core.display.Math object>"
      ]
     },
     "metadata": {},
     "output_type": "display_data"
    },
    {
     "data": {
      "text/latex": [
       "$\\displaystyle -4 y^2  \\xi_{y} y_{x} y_{x, x, x}$"
      ],
      "text/plain": [
       "<IPython.core.display.Math object>"
      ]
     },
     "metadata": {},
     "output_type": "display_data"
    },
    {
     "data": {
      "text/latex": [
       "$\\displaystyle 3 y^2  \\phi_{yxx} y_{x}$"
      ],
      "text/plain": [
       "<IPython.core.display.Math object>"
      ]
     },
     "metadata": {},
     "output_type": "display_data"
    },
    {
     "data": {
      "text/latex": [
       "$\\displaystyle -y^2  \\xi_{xxx} y_{x}$"
      ],
      "text/plain": [
       "<IPython.core.display.Math object>"
      ]
     },
     "metadata": {},
     "output_type": "display_data"
    },
    {
     "data": {
      "text/latex": [
       "$\\displaystyle -9 y  \\phi_{yx} y_{x}^2$"
      ],
      "text/plain": [
       "<IPython.core.display.Math object>"
      ]
     },
     "metadata": {},
     "output_type": "display_data"
    },
    {
     "data": {
      "text/latex": [
       "$\\displaystyle 9/2 y  \\xi_{xx} y_{x}^2$"
      ],
      "text/plain": [
       "<IPython.core.display.Math object>"
      ]
     },
     "metadata": {},
     "output_type": "display_data"
    },
    {
     "data": {
      "text/latex": [
       "$\\displaystyle 45/4  \\phi_{y} y_{x}^3$"
      ],
      "text/plain": [
       "<IPython.core.display.Math object>"
      ]
     },
     "metadata": {},
     "output_type": "display_data"
    },
    {
     "data": {
      "text/latex": [
       "$\\displaystyle -45/4  \\xi_{x} y_{x}^3$"
      ],
      "text/plain": [
       "<IPython.core.display.Math object>"
      ]
     },
     "metadata": {},
     "output_type": "display_data"
    },
    {
     "data": {
      "text/latex": [
       "$\\displaystyle 3 y^2  \\phi_{yx} y_{x, x}$"
      ],
      "text/plain": [
       "<IPython.core.display.Math object>"
      ]
     },
     "metadata": {},
     "output_type": "display_data"
    },
    {
     "data": {
      "text/latex": [
       "$\\displaystyle -3 y^2  \\xi_{xx} y_{x, x}$"
      ],
      "text/plain": [
       "<IPython.core.display.Math object>"
      ]
     },
     "metadata": {},
     "output_type": "display_data"
    },
    {
     "data": {
      "text/latex": [
       "$\\displaystyle -9 y  \\phi_{y} y_{x} y_{x, x}$"
      ],
      "text/plain": [
       "<IPython.core.display.Math object>"
      ]
     },
     "metadata": {},
     "output_type": "display_data"
    },
    {
     "data": {
      "text/latex": [
       "$\\displaystyle 27/2 y  \\xi_{x} y_{x} y_{x, x}$"
      ],
      "text/plain": [
       "<IPython.core.display.Math object>"
      ]
     },
     "metadata": {},
     "output_type": "display_data"
    },
    {
     "data": {
      "text/latex": [
       "$\\displaystyle y^2  \\phi_{y} y_{x, x, x}$"
      ],
      "text/plain": [
       "<IPython.core.display.Math object>"
      ]
     },
     "metadata": {},
     "output_type": "display_data"
    },
    {
     "data": {
      "text/latex": [
       "$\\displaystyle -3 y^2  \\xi_{x} y_{x, x, x}$"
      ],
      "text/plain": [
       "<IPython.core.display.Math object>"
      ]
     },
     "metadata": {},
     "output_type": "display_data"
    },
    {
     "data": {
      "text/latex": [
       "$\\displaystyle y^2  \\phi_{xxx}$"
      ],
      "text/plain": [
       "<IPython.core.display.Math object>"
      ]
     },
     "metadata": {},
     "output_type": "display_data"
    },
    {
     "data": {
      "text/latex": [
       "$\\displaystyle -9/2 y  \\phi_{xx} y_{x}$"
      ],
      "text/plain": [
       "<IPython.core.display.Math object>"
      ]
     },
     "metadata": {},
     "output_type": "display_data"
    },
    {
     "data": {
      "text/latex": [
       "$\\displaystyle 45/4  \\phi_{x} y_{x}^2$"
      ],
      "text/plain": [
       "<IPython.core.display.Math object>"
      ]
     },
     "metadata": {},
     "output_type": "display_data"
    },
    {
     "data": {
      "text/latex": [
       "$\\displaystyle -9/2 y  \\phi_{x} y_{x, x}$"
      ],
      "text/plain": [
       "<IPython.core.display.Math object>"
      ]
     },
     "metadata": {},
     "output_type": "display_data"
    },
    {
     "data": {
      "text/latex": [
       "$\\displaystyle -9/2 phi y_{x} y_{x, x}$"
      ],
      "text/plain": [
       "<IPython.core.display.Math object>"
      ]
     },
     "metadata": {},
     "output_type": "display_data"
    },
    {
     "data": {
      "text/latex": [
       "$\\displaystyle 2 phi y y_{x, x, x}$"
      ],
      "text/plain": [
       "<IPython.core.display.Math object>"
      ]
     },
     "metadata": {},
     "output_type": "display_data"
    },
    {
     "name": "stdout",
     "output_type": "stream",
     "text": [
      "This is where we start\n",
      "diff(xi(Y, x), Y)\n",
      "diff(xi(Y, x), Y, Y)\n",
      "diff(phi(Y, x), Y, x) + (-1) * diff(xi(Y, x), x, x) + (-3/2/Y) * diff(phi(Y, x), x)\n",
      "diff(phi(Y, x), Y, Y) + (-3) * diff(xi(Y, x), Y, x) + (-3/2/Y) * diff(phi(Y, x), Y) + (3/2/Y^2) * phi(Y, x)\n",
      "diff(xi(Y, x), Y, Y, Y) + (-9/2/Y) * diff(xi(Y, x), Y, Y) + (-15/4/Y^2) * diff(xi(Y, x), Y)\n",
      "diff(phi(Y, x), x, x, x)\n",
      "diff(phi(Y, x), Y, x, x) + (-1/3) * diff(xi(Y, x), x, x, x) + (-3/2/Y) * diff(phi(Y, x), x, x)\n",
      "diff(phi(Y, x), Y, Y, x) + (-1) * diff(xi(Y, x), Y, x, x) + (-3/Y) * diff(phi(Y, x), Y, x) + (3/2/Y) * diff(xi(Y, x), x, x) + (15/4/Y^2) * diff(phi(Y, x), x)\n",
      "diff(phi(Y, x), Y, Y, Y) + (-3) * diff(xi(Y, x), Y, Y, x) + (-9/2/Y) * diff(phi(Y, x), Y, Y) + (9/Y) * diff(xi(Y, x), Y, x) + (15/2/Y^2) * diff(phi(Y, x), Y) + (-15/2/Y^3) * phi(Y, x)\n"
     ]
    },
    {
     "data": {
      "text/html": [
       "<html>\\(\\displaystyle \\frac{\\partial}{\\partial Y}\\xi\\left(Y, x\\right)\\)</html>"
      ],
      "text/latex": [
       "$\\displaystyle \\frac{\\partial}{\\partial Y}\\xi\\left(Y, x\\right)$"
      ],
      "text/plain": [
       "diff(xi(Y, x), Y)"
      ]
     },
     "metadata": {},
     "output_type": "display_data"
    },
    {
     "data": {
      "text/html": [
       "<html>\\(\\displaystyle \\frac{\\partial^{2}}{(\\partial Y)^{2}}\\xi\\left(Y, x\\right)\\)</html>"
      ],
      "text/latex": [
       "$\\displaystyle \\frac{\\partial^{2}}{(\\partial Y)^{2}}\\xi\\left(Y, x\\right)$"
      ],
      "text/plain": [
       "diff(xi(Y, x), Y, Y)"
      ]
     },
     "metadata": {},
     "output_type": "display_data"
    },
    {
     "data": {
      "text/html": [
       "<html>\\(\\displaystyle \\frac{\\partial^{2}}{\\partial Y\\partial x}\\phi\\left(Y, x\\right)\\)</html>"
      ],
      "text/latex": [
       "$\\displaystyle \\frac{\\partial^{2}}{\\partial Y\\partial x}\\phi\\left(Y, x\\right)$"
      ],
      "text/plain": [
       "diff(phi(Y, x), Y, x)"
      ]
     },
     "metadata": {},
     "output_type": "display_data"
    },
    {
     "data": {
      "text/html": [
       "<html>\\(\\displaystyle \\frac{\\partial^{2}}{(\\partial Y)^{2}}\\phi\\left(Y, x\\right)\\)</html>"
      ],
      "text/latex": [
       "$\\displaystyle \\frac{\\partial^{2}}{(\\partial Y)^{2}}\\phi\\left(Y, x\\right)$"
      ],
      "text/plain": [
       "diff(phi(Y, x), Y, Y)"
      ]
     },
     "metadata": {},
     "output_type": "display_data"
    },
    {
     "data": {
      "text/html": [
       "<html>\\(\\displaystyle \\frac{\\partial^{3}}{(\\partial Y)^{3}}\\xi\\left(Y, x\\right)\\)</html>"
      ],
      "text/latex": [
       "$\\displaystyle \\frac{\\partial^{3}}{(\\partial Y)^{3}}\\xi\\left(Y, x\\right)$"
      ],
      "text/plain": [
       "diff(xi(Y, x), Y, Y, Y)"
      ]
     },
     "metadata": {},
     "output_type": "display_data"
    },
    {
     "data": {
      "text/html": [
       "<html>\\(\\displaystyle \\frac{\\partial^{3}}{(\\partial x)^{3}}\\phi\\left(Y, x\\right)\\)</html>"
      ],
      "text/latex": [
       "$\\displaystyle \\frac{\\partial^{3}}{(\\partial x)^{3}}\\phi\\left(Y, x\\right)$"
      ],
      "text/plain": [
       "diff(phi(Y, x), x, x, x)"
      ]
     },
     "metadata": {},
     "output_type": "display_data"
    },
    {
     "data": {
      "text/html": [
       "<html>\\(\\displaystyle \\frac{\\partial^{3}}{\\partial Y(\\partial x)^{2}}\\phi\\left(Y, x\\right)\\)</html>"
      ],
      "text/latex": [
       "$\\displaystyle \\frac{\\partial^{3}}{\\partial Y(\\partial x)^{2}}\\phi\\left(Y, x\\right)$"
      ],
      "text/plain": [
       "diff(phi(Y, x), Y, x, x)"
      ]
     },
     "metadata": {},
     "output_type": "display_data"
    },
    {
     "data": {
      "text/html": [
       "<html>\\(\\displaystyle \\frac{\\partial^{3}}{(\\partial Y)^{2}\\partial x}\\phi\\left(Y, x\\right)\\)</html>"
      ],
      "text/latex": [
       "$\\displaystyle \\frac{\\partial^{3}}{(\\partial Y)^{2}\\partial x}\\phi\\left(Y, x\\right)$"
      ],
      "text/plain": [
       "diff(phi(Y, x), Y, Y, x)"
      ]
     },
     "metadata": {},
     "output_type": "display_data"
    },
    {
     "data": {
      "text/html": [
       "<html>\\(\\displaystyle \\frac{\\partial^{3}}{(\\partial Y)^{3}}\\phi\\left(Y, x\\right)\\)</html>"
      ],
      "text/latex": [
       "$\\displaystyle \\frac{\\partial^{3}}{(\\partial Y)^{3}}\\phi\\left(Y, x\\right)$"
      ],
      "text/plain": [
       "diff(phi(Y, x), Y, Y, Y)"
      ]
     },
     "metadata": {},
     "output_type": "display_data"
    },
    {
     "name": "stdout",
     "output_type": "stream",
     "text": [
      "after autoreduce\n",
      "diff(xi(Y, x), Y)\n",
      "diff(phi(Y, x), Y, x) + (-1) * diff(xi(Y, x), x, x) + (-3/2/Y) * diff(phi(Y, x), x)\n",
      "diff(phi(Y, x), Y, Y) + (-3/2/Y) * diff(phi(Y, x), Y) + (3/2/Y^2) * phi(Y, x)\n",
      "diff(xi(Y, x), x, x, x)\n",
      "diff(phi(Y, x), x, x, x)\n"
     ]
    },
    {
     "data": {
      "text/html": [
       "<html>\\(\\displaystyle \\frac{\\partial}{\\partial Y}\\xi\\left(Y, x\\right)\\)</html>"
      ],
      "text/latex": [
       "$\\displaystyle \\frac{\\partial}{\\partial Y}\\xi\\left(Y, x\\right)$"
      ],
      "text/plain": [
       "diff(xi(Y, x), Y)"
      ]
     },
     "metadata": {},
     "output_type": "display_data"
    },
    {
     "data": {
      "text/html": [
       "<html>\\(\\displaystyle \\frac{\\partial^{2}}{\\partial Y\\partial x}\\phi\\left(Y, x\\right)\\)</html>"
      ],
      "text/latex": [
       "$\\displaystyle \\frac{\\partial^{2}}{\\partial Y\\partial x}\\phi\\left(Y, x\\right)$"
      ],
      "text/plain": [
       "diff(phi(Y, x), Y, x)"
      ]
     },
     "metadata": {},
     "output_type": "display_data"
    },
    {
     "data": {
      "text/html": [
       "<html>\\(\\displaystyle \\frac{\\partial^{2}}{(\\partial Y)^{2}}\\phi\\left(Y, x\\right)\\)</html>"
      ],
      "text/latex": [
       "$\\displaystyle \\frac{\\partial^{2}}{(\\partial Y)^{2}}\\phi\\left(Y, x\\right)$"
      ],
      "text/plain": [
       "diff(phi(Y, x), Y, Y)"
      ]
     },
     "metadata": {},
     "output_type": "display_data"
    },
    {
     "data": {
      "text/html": [
       "<html>\\(\\displaystyle \\frac{\\partial^{3}}{(\\partial x)^{3}}\\xi\\left(Y, x\\right)\\)</html>"
      ],
      "text/latex": [
       "$\\displaystyle \\frac{\\partial^{3}}{(\\partial x)^{3}}\\xi\\left(Y, x\\right)$"
      ],
      "text/plain": [
       "diff(xi(Y, x), x, x, x)"
      ]
     },
     "metadata": {},
     "output_type": "display_data"
    },
    {
     "data": {
      "text/html": [
       "<html>\\(\\displaystyle \\frac{\\partial^{3}}{(\\partial x)^{3}}\\phi\\left(Y, x\\right)\\)</html>"
      ],
      "text/latex": [
       "$\\displaystyle \\frac{\\partial^{3}}{(\\partial x)^{3}}\\phi\\left(Y, x\\right)$"
      ],
      "text/plain": [
       "diff(phi(Y, x), x, x, x)"
      ]
     },
     "metadata": {},
     "output_type": "display_data"
    },
    {
     "name": "stdout",
     "output_type": "stream",
     "text": [
      "after complete system\n",
      "diff(xi(Y, x), Y)\n",
      "diff(xi(Y, x), Y, Y)\n",
      "diff(phi(Y, x), Y, x) + (-1) * diff(xi(Y, x), x, x) + (-3/2/Y) * diff(phi(Y, x), x)\n",
      "diff(phi(Y, x), Y, Y) + (-3/2/Y) * diff(phi(Y, x), Y) + (3/2/Y^2) * phi(Y, x)\n",
      "diff(xi(Y, x), x, x, x)\n",
      "diff(xi(Y, x), Y, Y, Y)\n",
      "diff(phi(Y, x), x, x, x)\n",
      "diff(phi(Y, x), Y, Y, Y) + (-3/2/Y) * diff(phi(Y, x), Y, Y) + (3/Y^2) * diff(phi(Y, x), Y) + (-3/Y^3) * phi(Y, x)\n",
      "===>\n"
     ]
    },
    {
     "data": {
      "text/html": [
       "<html>\\(\\displaystyle -\\frac{\\partial^{3}}{\\partial Y(\\partial x)^{2}}\\xi\\left(Y, x\\right)\\)</html>"
      ],
      "text/latex": [
       "$\\displaystyle -\\frac{\\partial^{3}}{\\partial Y(\\partial x)^{2}}\\xi\\left(Y, x\\right)$"
      ],
      "text/plain": [
       "-diff(xi(Y, x), Y, x, x)"
      ]
     },
     "metadata": {},
     "output_type": "display_data"
    },
    {
     "name": "stdout",
     "output_type": "stream",
     "text": [
      "after integrability system\n",
      "diff(xi(Y, x), Y)\n",
      "diff(xi(Y, x), Y, Y)\n",
      "diff(phi(Y, x), Y, x) + (-1) * diff(xi(Y, x), x, x) + (-3/2/Y) * diff(phi(Y, x), x)\n",
      "diff(phi(Y, x), Y, Y) + (-3/2/Y) * diff(phi(Y, x), Y) + (3/2/Y^2) * phi(Y, x)\n",
      "diff(xi(Y, x), x, x, x)\n",
      "diff(xi(Y, x), Y, Y, Y)\n",
      "diff(phi(Y, x), x, x, x)\n",
      "diff(phi(Y, x), Y, Y, Y) + (-3/2/Y) * diff(phi(Y, x), Y, Y) + (3/Y^2) * diff(phi(Y, x), Y) + (-3/Y^3) * phi(Y, x)\n",
      "This is where we start\n",
      "diff(xi(Y, x), Y)\n",
      "diff(xi(Y, x), Y, Y)\n",
      "diff(phi(Y, x), Y, x) + (-1) * diff(xi(Y, x), x, x) + (-3/2/Y) * diff(phi(Y, x), x)\n",
      "diff(phi(Y, x), Y, Y) + (-3/2/Y) * diff(phi(Y, x), Y) + (3/2/Y^2) * phi(Y, x)\n",
      "diff(xi(Y, x), x, x, x)\n",
      "diff(xi(Y, x), Y, x, x)\n",
      "diff(xi(Y, x), Y, Y, Y)\n",
      "diff(phi(Y, x), x, x, x)\n",
      "diff(phi(Y, x), Y, Y, Y) + (-3/2/Y) * diff(phi(Y, x), Y, Y) + (3/Y^2) * diff(phi(Y, x), Y) + (-3/Y^3) * phi(Y, x)\n"
     ]
    },
    {
     "data": {
      "text/html": [
       "<html>\\(\\displaystyle \\frac{\\partial}{\\partial Y}\\xi\\left(Y, x\\right)\\)</html>"
      ],
      "text/latex": [
       "$\\displaystyle \\frac{\\partial}{\\partial Y}\\xi\\left(Y, x\\right)$"
      ],
      "text/plain": [
       "diff(xi(Y, x), Y)"
      ]
     },
     "metadata": {},
     "output_type": "display_data"
    },
    {
     "data": {
      "text/html": [
       "<html>\\(\\displaystyle \\frac{\\partial^{2}}{(\\partial Y)^{2}}\\xi\\left(Y, x\\right)\\)</html>"
      ],
      "text/latex": [
       "$\\displaystyle \\frac{\\partial^{2}}{(\\partial Y)^{2}}\\xi\\left(Y, x\\right)$"
      ],
      "text/plain": [
       "diff(xi(Y, x), Y, Y)"
      ]
     },
     "metadata": {},
     "output_type": "display_data"
    },
    {
     "data": {
      "text/html": [
       "<html>\\(\\displaystyle \\frac{\\partial^{2}}{\\partial Y\\partial x}\\phi\\left(Y, x\\right)\\)</html>"
      ],
      "text/latex": [
       "$\\displaystyle \\frac{\\partial^{2}}{\\partial Y\\partial x}\\phi\\left(Y, x\\right)$"
      ],
      "text/plain": [
       "diff(phi(Y, x), Y, x)"
      ]
     },
     "metadata": {},
     "output_type": "display_data"
    },
    {
     "data": {
      "text/html": [
       "<html>\\(\\displaystyle \\frac{\\partial^{2}}{(\\partial Y)^{2}}\\phi\\left(Y, x\\right)\\)</html>"
      ],
      "text/latex": [
       "$\\displaystyle \\frac{\\partial^{2}}{(\\partial Y)^{2}}\\phi\\left(Y, x\\right)$"
      ],
      "text/plain": [
       "diff(phi(Y, x), Y, Y)"
      ]
     },
     "metadata": {},
     "output_type": "display_data"
    },
    {
     "data": {
      "text/html": [
       "<html>\\(\\displaystyle \\frac{\\partial^{3}}{(\\partial x)^{3}}\\xi\\left(Y, x\\right)\\)</html>"
      ],
      "text/latex": [
       "$\\displaystyle \\frac{\\partial^{3}}{(\\partial x)^{3}}\\xi\\left(Y, x\\right)$"
      ],
      "text/plain": [
       "diff(xi(Y, x), x, x, x)"
      ]
     },
     "metadata": {},
     "output_type": "display_data"
    },
    {
     "data": {
      "text/html": [
       "<html>\\(\\displaystyle \\frac{\\partial^{3}}{\\partial Y(\\partial x)^{2}}\\xi\\left(Y, x\\right)\\)</html>"
      ],
      "text/latex": [
       "$\\displaystyle \\frac{\\partial^{3}}{\\partial Y(\\partial x)^{2}}\\xi\\left(Y, x\\right)$"
      ],
      "text/plain": [
       "diff(xi(Y, x), Y, x, x)"
      ]
     },
     "metadata": {},
     "output_type": "display_data"
    },
    {
     "data": {
      "text/html": [
       "<html>\\(\\displaystyle \\frac{\\partial^{3}}{(\\partial Y)^{3}}\\xi\\left(Y, x\\right)\\)</html>"
      ],
      "text/latex": [
       "$\\displaystyle \\frac{\\partial^{3}}{(\\partial Y)^{3}}\\xi\\left(Y, x\\right)$"
      ],
      "text/plain": [
       "diff(xi(Y, x), Y, Y, Y)"
      ]
     },
     "metadata": {},
     "output_type": "display_data"
    },
    {
     "data": {
      "text/html": [
       "<html>\\(\\displaystyle \\frac{\\partial^{3}}{(\\partial x)^{3}}\\phi\\left(Y, x\\right)\\)</html>"
      ],
      "text/latex": [
       "$\\displaystyle \\frac{\\partial^{3}}{(\\partial x)^{3}}\\phi\\left(Y, x\\right)$"
      ],
      "text/plain": [
       "diff(phi(Y, x), x, x, x)"
      ]
     },
     "metadata": {},
     "output_type": "display_data"
    },
    {
     "data": {
      "text/html": [
       "<html>\\(\\displaystyle \\frac{\\partial^{3}}{(\\partial Y)^{3}}\\phi\\left(Y, x\\right)\\)</html>"
      ],
      "text/latex": [
       "$\\displaystyle \\frac{\\partial^{3}}{(\\partial Y)^{3}}\\phi\\left(Y, x\\right)$"
      ],
      "text/plain": [
       "diff(phi(Y, x), Y, Y, Y)"
      ]
     },
     "metadata": {},
     "output_type": "display_data"
    },
    {
     "name": "stdout",
     "output_type": "stream",
     "text": [
      "after autoreduce\n",
      "diff(xi(Y, x), Y)\n",
      "diff(phi(Y, x), Y, x) + (-1) * diff(xi(Y, x), x, x) + (-3/2/Y) * diff(phi(Y, x), x)\n",
      "diff(phi(Y, x), Y, Y) + (-3/2/Y) * diff(phi(Y, x), Y) + (3/2/Y^2) * phi(Y, x)\n",
      "diff(xi(Y, x), x, x, x)\n",
      "diff(phi(Y, x), x, x, x)\n"
     ]
    },
    {
     "data": {
      "text/html": [
       "<html>\\(\\displaystyle \\frac{\\partial}{\\partial Y}\\xi\\left(Y, x\\right)\\)</html>"
      ],
      "text/latex": [
       "$\\displaystyle \\frac{\\partial}{\\partial Y}\\xi\\left(Y, x\\right)$"
      ],
      "text/plain": [
       "diff(xi(Y, x), Y)"
      ]
     },
     "metadata": {},
     "output_type": "display_data"
    },
    {
     "data": {
      "text/html": [
       "<html>\\(\\displaystyle \\frac{\\partial^{2}}{\\partial Y\\partial x}\\phi\\left(Y, x\\right)\\)</html>"
      ],
      "text/latex": [
       "$\\displaystyle \\frac{\\partial^{2}}{\\partial Y\\partial x}\\phi\\left(Y, x\\right)$"
      ],
      "text/plain": [
       "diff(phi(Y, x), Y, x)"
      ]
     },
     "metadata": {},
     "output_type": "display_data"
    },
    {
     "data": {
      "text/html": [
       "<html>\\(\\displaystyle \\frac{\\partial^{2}}{(\\partial Y)^{2}}\\phi\\left(Y, x\\right)\\)</html>"
      ],
      "text/latex": [
       "$\\displaystyle \\frac{\\partial^{2}}{(\\partial Y)^{2}}\\phi\\left(Y, x\\right)$"
      ],
      "text/plain": [
       "diff(phi(Y, x), Y, Y)"
      ]
     },
     "metadata": {},
     "output_type": "display_data"
    },
    {
     "data": {
      "text/html": [
       "<html>\\(\\displaystyle \\frac{\\partial^{3}}{(\\partial x)^{3}}\\xi\\left(Y, x\\right)\\)</html>"
      ],
      "text/latex": [
       "$\\displaystyle \\frac{\\partial^{3}}{(\\partial x)^{3}}\\xi\\left(Y, x\\right)$"
      ],
      "text/plain": [
       "diff(xi(Y, x), x, x, x)"
      ]
     },
     "metadata": {},
     "output_type": "display_data"
    },
    {
     "data": {
      "text/html": [
       "<html>\\(\\displaystyle \\frac{\\partial^{3}}{(\\partial x)^{3}}\\phi\\left(Y, x\\right)\\)</html>"
      ],
      "text/latex": [
       "$\\displaystyle \\frac{\\partial^{3}}{(\\partial x)^{3}}\\phi\\left(Y, x\\right)$"
      ],
      "text/plain": [
       "diff(phi(Y, x), x, x, x)"
      ]
     },
     "metadata": {},
     "output_type": "display_data"
    },
    {
     "name": "stdout",
     "output_type": "stream",
     "text": [
      "after complete system\n",
      "diff(xi(Y, x), Y)\n",
      "diff(xi(Y, x), Y, Y)\n",
      "diff(phi(Y, x), Y, x) + (-1) * diff(xi(Y, x), x, x) + (-3/2/Y) * diff(phi(Y, x), x)\n",
      "diff(phi(Y, x), Y, Y) + (-3/2/Y) * diff(phi(Y, x), Y) + (3/2/Y^2) * phi(Y, x)\n",
      "diff(xi(Y, x), x, x, x)\n",
      "diff(xi(Y, x), Y, Y, Y)\n",
      "diff(phi(Y, x), x, x, x)\n",
      "diff(phi(Y, x), Y, Y, Y) + (-3/2/Y) * diff(phi(Y, x), Y, Y) + (3/Y^2) * diff(phi(Y, x), Y) + (-3/Y^3) * phi(Y, x)\n",
      "===>\n"
     ]
    },
    {
     "data": {
      "text/html": [
       "<html>\\(\\displaystyle -\\frac{\\partial^{3}}{\\partial Y(\\partial x)^{2}}\\xi\\left(Y, x\\right)\\)</html>"
      ],
      "text/latex": [
       "$\\displaystyle -\\frac{\\partial^{3}}{\\partial Y(\\partial x)^{2}}\\xi\\left(Y, x\\right)$"
      ],
      "text/plain": [
       "-diff(xi(Y, x), Y, x, x)"
      ]
     },
     "metadata": {},
     "output_type": "display_data"
    },
    {
     "name": "stdout",
     "output_type": "stream",
     "text": [
      "after integrability system\n",
      "diff(xi(Y, x), Y)\n",
      "diff(xi(Y, x), Y, Y)\n",
      "diff(phi(Y, x), Y, x) + (-1) * diff(xi(Y, x), x, x) + (-3/2/Y) * diff(phi(Y, x), x)\n",
      "diff(phi(Y, x), Y, Y) + (-3/2/Y) * diff(phi(Y, x), Y) + (3/2/Y^2) * phi(Y, x)\n",
      "diff(xi(Y, x), x, x, x)\n",
      "diff(xi(Y, x), Y, Y, Y)\n",
      "diff(phi(Y, x), x, x, x)\n",
      "diff(phi(Y, x), Y, Y, Y) + (-3/2/Y) * diff(phi(Y, x), Y, Y) + (3/Y^2) * diff(phi(Y, x), Y) + (-3/Y^3) * phi(Y, x)\n"
     ]
    },
    {
     "data": {
      "text/latex": [
       "$\\displaystyle  \\xi_{y}$"
      ],
      "text/plain": [
       "<IPython.core.display.Math object>"
      ]
     },
     "metadata": {},
     "output_type": "display_data"
    },
    {
     "data": {
      "text/latex": [
       "$\\displaystyle  \\xi_{yy}$"
      ],
      "text/plain": [
       "<IPython.core.display.Math object>"
      ]
     },
     "metadata": {},
     "output_type": "display_data"
    },
    {
     "data": {
      "text/latex": [
       "$\\displaystyle -3/2  \\phi_{x}/y +  \\phi_{yx} -  \\xi_{xx}$"
      ],
      "text/plain": [
       "<IPython.core.display.Math object>"
      ]
     },
     "metadata": {},
     "output_type": "display_data"
    },
    {
     "data": {
      "text/latex": [
       "$\\displaystyle -3/2  \\phi_{y}/y + 3/2 \\phi/y^2 +  \\phi_{yy}$"
      ],
      "text/plain": [
       "<IPython.core.display.Math object>"
      ]
     },
     "metadata": {},
     "output_type": "display_data"
    },
    {
     "data": {
      "text/latex": [
       "$\\displaystyle  \\xi_{xxx}$"
      ],
      "text/plain": [
       "<IPython.core.display.Math object>"
      ]
     },
     "metadata": {},
     "output_type": "display_data"
    },
    {
     "data": {
      "text/latex": [
       "$\\displaystyle  \\xi_{yxx}$"
      ],
      "text/plain": [
       "<IPython.core.display.Math object>"
      ]
     },
     "metadata": {},
     "output_type": "display_data"
    },
    {
     "data": {
      "text/latex": [
       "$\\displaystyle  \\xi_{yyy}$"
      ],
      "text/plain": [
       "<IPython.core.display.Math object>"
      ]
     },
     "metadata": {},
     "output_type": "display_data"
    },
    {
     "data": {
      "text/latex": [
       "$\\displaystyle  \\phi_{xxx}$"
      ],
      "text/plain": [
       "<IPython.core.display.Math object>"
      ]
     },
     "metadata": {},
     "output_type": "display_data"
    },
    {
     "data": {
      "text/latex": [
       "$\\displaystyle -3/2  \\phi_{yy}/y + 3  \\phi_{y}/y^2 - 3 \\phi/y^3 +  \\phi_{yyy}$"
      ],
      "text/plain": [
       "<IPython.core.display.Math object>"
      ]
     },
     "metadata": {},
     "output_type": "display_data"
    }
   ],
   "source": [
    "from delierium.Infinitesimals import prolongationODE, infinitesimalsODE, Janet_Basis_from_ODE\n",
    "from IPython.display import Math\n",
    "from delierium.helpers import latexer\n",
    "x = var('x')\n",
    "y = function('y')\n",
    "ode = diff(y(x), x, 3) * y(x)**2 \\\n",
    "    - 9*diff(y(x),x, 2)*diff(y(x),x) * y(x)/2 \\\n",
    "    + (15*diff(y(x), x)**3)/4\n",
    "display(Math(latexer(ode)))\n",
    "ode.show()\n",
    "jb = Janet_Basis_from_ODE(ode, y, x)\n",
    "for _ in jb:\n",
    "    display(Math(latexer(_)))"
   ]
  },
  {
   "cell_type": "code",
   "execution_count": null,
   "id": "f2778b2f-8f9f-439d-83e2-fb011ee95522",
   "metadata": {},
   "outputs": [],
   "source": []
  }
 ],
 "metadata": {
  "kernelspec": {
   "display_name": "SageMath 9.6",
   "language": "sage",
   "name": "sagemath"
  },
  "language_info": {
   "codemirror_mode": {
    "name": "ipython",
    "version": 3
   },
   "file_extension": ".py",
   "mimetype": "text/x-python",
   "name": "python",
   "nbconvert_exporter": "python",
   "pygments_lexer": "ipython3",
   "version": "3.10.6"
  },
  "widgets": {
   "application/vnd.jupyter.widget-state+json": {
    "state": {},
    "version_major": 2,
    "version_minor": 0
   }
  }
 },
 "nbformat": 4,
 "nbformat_minor": 5
}
