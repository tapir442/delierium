{
 "cells": [
  {
   "cell_type": "code",
   "execution_count": 1,
   "id": "8bb363fc-0773-4b59-a7cc-9c4eeaa92741",
   "metadata": {},
   "outputs": [],
   "source": [
    "from delierium.MatrixOrder import Mgrevlex\n",
    "\n",
    "from delierium.JanetBasis import _Dterm"
   ]
  },
  {
   "cell_type": "code",
   "execution_count": null,
   "id": "6eb94089-ed07-457c-9d38-b22d98346e3d",
   "metadata": {},
   "outputs": [],
   "source": []
  }
 ],
 "metadata": {
  "kernelspec": {
   "display_name": "SageMath 10.2",
   "language": "sage",
   "name": "sagemath"
  },
  "language_info": {
   "codemirror_mode": {
    "name": "ipython",
    "version": 3
   },
   "file_extension": ".py",
   "mimetype": "text/x-python",
   "name": "python",
   "nbconvert_exporter": "python",
   "pygments_lexer": "ipython3",
   "version": "3.11.10"
  }
 },
 "nbformat": 4,
 "nbformat_minor": 5
}
