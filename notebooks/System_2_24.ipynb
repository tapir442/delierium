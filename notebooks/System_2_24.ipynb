{
 "cells": [
  {
   "cell_type": "code",
   "execution_count": 6,
   "id": "1ddf6005-3cc1-4b70-8764-5fa6d487e6a5",
   "metadata": {},
   "outputs": [],
   "source": [
    "#import sage.all\n",
    "#from sage.calculus.var import var, function\n",
    "#from sage.calculus.functional import diff\n",
    "\n",
    "from delierium.MatrixOrder import Context, Mgrlex, Mgrevlex, Mlex\n",
    "from delierium.JanetBasis import Janet_Basis\n",
    "from delierium.helpers import latexer\n",
    "\n",
    "vars = var (\"x y\")\n",
    "z = function(\"z\")(*vars)\n",
    "w = function(\"w\")(*vars)\n",
    "# ctx: items are in descending order\n",
    "ctx_grevlex_f = Context((w,z), vars, Mgrevlex)\n",
    "ctx_grlex_f   = Context((w,z), vars, Mgrlex)\n",
    "ctx_lex_f     = Context((w,z), vars, Mlex)\n",
    "\n",
    "f1 = diff(w, y) + x*diff(z,y)/(2*y*(x**2+y)) - w/y\n",
    "f2 = diff(z,x,y) + y*diff(w,y)/x + 2*y*diff(z, x)/x\n",
    "f3 = diff(w, x,y) - 2*x*diff(z, x,2)/y - x*diff(w,x)/y**2\n",
    "f4 = diff(w, x,y) + diff(z, x,y) + diff(w, y)/(2*y) - diff(w,x)/y + x* diff(z, y)/y - w/(2*y**2)\n",
    "f5 = diff(w,y,y) + diff(z,x,y) - diff(w, y)/y + w/(y**2)\n",
    "\n",
    "system_2_24 = [f1,f2,f3,f4,f5]"
   ]
  },
  {
   "cell_type": "code",
   "execution_count": 4,
   "id": "48199092-9276-45a3-b2cf-35ea72dfdc31",
   "metadata": {},
   "outputs": [],
   "source": [
    "jb = Janet_Basis(system_2_24, [w,z], [x, y], Mgrevlex)"
   ]
  },
  {
   "cell_type": "code",
   "execution_count": 8,
   "id": "b0dfaa7a-bc8f-46e6-8c1f-42601cb2f5df",
   "metadata": {},
   "outputs": [
    {
     "data": {
      "text/html": [
       "\\(z_{y}\\)"
      ],
      "text/plain": [
       "\\(z_{y}\\)"
      ]
     },
     "metadata": {},
     "output_type": "display_data"
    },
    {
     "data": {
      "text/html": [
       "\\(1/2 w/y + z_{x}\\)"
      ],
      "text/plain": [
       "\\(1/2 w/y + z_{x}\\)"
      ]
     },
     "metadata": {},
     "output_type": "display_data"
    },
    {
     "data": {
      "text/html": [
       "\\(-w/y + w_{y}\\)"
      ],
      "text/plain": [
       "\\(-w/y + w_{y}\\)"
      ]
     },
     "metadata": {},
     "output_type": "display_data"
    },
    {
     "data": {
      "text/html": [
       "\\(w_{x}\\)"
      ],
      "text/plain": [
       "\\(w_{x}\\)"
      ]
     },
     "metadata": {},
     "output_type": "display_data"
    }
   ],
   "source": [
    "for _ in jb.S:\n",
    "    show(latexer(_.expression()))"
   ]
  },
  {
   "cell_type": "code",
   "execution_count": null,
   "id": "e2427120-c811-46a1-abc5-cb898b2b09b0",
   "metadata": {},
   "outputs": [],
   "source": []
  }
 ],
 "metadata": {
  "kernelspec": {
   "display_name": "SageMath 9.6",
   "language": "sage",
   "name": "sagemath"
  },
  "language_info": {
   "codemirror_mode": {
    "name": "ipython",
    "version": 3
   },
   "file_extension": ".py",
   "mimetype": "text/x-python",
   "name": "python",
   "nbconvert_exporter": "python",
   "pygments_lexer": "ipython3",
   "version": "3.10.6"
  }
 },
 "nbformat": 4,
 "nbformat_minor": 5
}
