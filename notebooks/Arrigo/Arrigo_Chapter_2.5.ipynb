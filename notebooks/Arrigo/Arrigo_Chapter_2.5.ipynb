{
 "cells": [
  {
   "cell_type": "code",
   "execution_count": 1,
   "id": "06586a72-a6ca-4ae7-89aa-088e9921896b",
   "metadata": {},
   "outputs": [
    {
     "name": "stdout",
     "output_type": "stream",
     "text": [
      "Requirement already satisfied: delierium in /home/tapir/sage/sage-9.8/local/var/lib/sage/venv-python3.10/lib/python3.10/site-packages (0.9.0.dev9)\n",
      "Requirement already satisfied: anytree in /home/tapir/sage/sage-9.8/local/var/lib/sage/venv-python3.10/lib/python3.10/site-packages (from delierium) (2.8.0)\n",
      "Requirement already satisfied: more-itertools in /home/tapir/sage/sage-9.8/local/var/lib/sage/venv-python3.10/lib/python3.10/site-packages (from delierium) (9.1.0)\n",
      "Requirement already satisfied: six>=1.9.0 in /home/tapir/sage/sage-9.8/local/var/lib/sage/venv-python3.10/lib/python3.10/site-packages (from anytree->delierium) (1.16.0)\n",
      "\n",
      "\u001b[1m[\u001b[0m\u001b[34;49mnotice\u001b[0m\u001b[1;39;49m]\u001b[0m\u001b[39;49m A new release of pip available: \u001b[0m\u001b[31;49m22.3.1\u001b[0m\u001b[39;49m -> \u001b[0m\u001b[32;49m23.0.1\u001b[0m\n",
      "\u001b[1m[\u001b[0m\u001b[34;49mnotice\u001b[0m\u001b[1;39;49m]\u001b[0m\u001b[39;49m To update, run: \u001b[0m\u001b[32;49mpip install --upgrade pip\u001b[0m\n",
      "Note: you may need to restart the kernel to use updated packages.\n",
      "Requirement already satisfied: anytree in /home/tapir/sage/sage-9.8/local/var/lib/sage/venv-python3.10/lib/python3.10/site-packages (2.8.0)\n",
      "Requirement already satisfied: six>=1.9.0 in /home/tapir/sage/sage-9.8/local/var/lib/sage/venv-python3.10/lib/python3.10/site-packages (from anytree) (1.16.0)\n",
      "\n",
      "\u001b[1m[\u001b[0m\u001b[34;49mnotice\u001b[0m\u001b[1;39;49m]\u001b[0m\u001b[39;49m A new release of pip available: \u001b[0m\u001b[31;49m22.3.1\u001b[0m\u001b[39;49m -> \u001b[0m\u001b[32;49m23.0.1\u001b[0m\n",
      "\u001b[1m[\u001b[0m\u001b[34;49mnotice\u001b[0m\u001b[1;39;49m]\u001b[0m\u001b[39;49m To update, run: \u001b[0m\u001b[32;49mpip install --upgrade pip\u001b[0m\n",
      "Note: you may need to restart the kernel to use updated packages.\n"
     ]
    }
   ],
   "source": [
    "%pip install delierium --upgrade\n",
    "%pip install anytree\n",
    "\n",
    "\n",
    "from delierium.Infinitesimals import prolongationODE, overdeterminedSystemODE\n",
    "from delierium.helpers import latexer\n",
    "from sage.misc.html import html\n",
    "from IPython.core.debugger import set_trace\n",
    "from IPython.display import Math"
   ]
  },
  {
   "cell_type": "markdown",
   "id": "8539e81a-a78f-48ca-b791-fb7848b51613",
   "metadata": {},
   "source": [
    "# Example 2.17 (p. 44)"
   ]
  },
  {
   "cell_type": "code",
   "execution_count": 2,
   "id": "f59ec357-b3d6-4212-93c3-fcd79099d153",
   "metadata": {},
   "outputs": [
    {
     "data": {
      "text/latex": [
       "$\\displaystyle y_{x, x}$"
      ],
      "text/plain": [
       "<IPython.core.display.Math object>"
      ]
     },
     "metadata": {},
     "output_type": "display_data"
    },
    {
     "name": "stdout",
     "output_type": "stream",
     "text": [
      "determining system:\n"
     ]
    },
    {
     "data": {
      "text/latex": [
       "$\\displaystyle - X_{yy}$"
      ],
      "text/plain": [
       "<IPython.core.display.Math object>"
      ]
     },
     "metadata": {},
     "output_type": "display_data"
    },
    {
     "data": {
      "text/latex": [
       "$\\displaystyle -2  X_{yx} +  Y_{yy}$"
      ],
      "text/plain": [
       "<IPython.core.display.Math object>"
      ]
     },
     "metadata": {},
     "output_type": "display_data"
    },
    {
     "data": {
      "text/latex": [
       "$\\displaystyle - X_{xx} + 2  Y_{yx}$"
      ],
      "text/plain": [
       "<IPython.core.display.Math object>"
      ]
     },
     "metadata": {},
     "output_type": "display_data"
    },
    {
     "data": {
      "text/latex": [
       "$\\displaystyle  Y_{xx}$"
      ],
      "text/plain": [
       "<IPython.core.display.Math object>"
      ]
     },
     "metadata": {},
     "output_type": "display_data"
    }
   ],
   "source": [
    "# Example 2.17\n",
    "x   = var('x')\n",
    "y   = function('y')\n",
    "ode = diff(y(x), x,x)\n",
    "display(Math(latexer(ode)))\n",
    "infinitesimals=(function('X'), function('Y'))\n",
    "inf = overdeterminedSystemODE(ode, y, x, infinitesimals=infinitesimals)\n",
    "print(\"determining system:\")\n",
    "for _ in inf:\n",
    "    display(Math(latexer(_)))"
   ]
  },
  {
   "cell_type": "markdown",
   "id": "c4768402-79df-418e-99dd-a29a318ae13a",
   "metadata": {},
   "source": [
    "correct result (eqs. 2.92.\\*, except a meaningless minus in the first equation) for the overdetermined system."
   ]
  },
  {
   "cell_type": "markdown",
   "id": "e5b7e5f6-5654-41e6-b64a-8b9aa7498ade",
   "metadata": {},
   "source": [
    "# Example 2.18 (p. 46)"
   ]
  },
  {
   "cell_type": "code",
   "execution_count": null,
   "id": "139053c3-b701-4a42-9975-16e7f5a1792b",
   "metadata": {},
   "outputs": [],
   "source": [
    "# Example 2.18\n",
    "x   = var('x')\n",
    "y   = function('y')\n",
    "ode = diff(y(x), x,x) + y(x)*diff(y(x), x)+x*y(x)**4\n",
    "display(Math(latexer(ode)))\n",
    "infinitesimals=(function('X'), function('Y'))\n",
    "inf = overdeterminedSystemODE(ode, y, x, infinitesimals=infinitesimals)\n",
    "print(\"determining system:\")\n",
    "for _ in inf:\n",
    "    display(Math(latexer(_)))"
   ]
  },
  {
   "cell_type": "markdown",
   "id": "5f6d65ba-bf49-4544-816d-b5b93b194e73",
   "metadata": {},
   "source": [
    "comparing with eqs 2.102.\\* shows the correct results"
   ]
  },
  {
   "cell_type": "markdown",
   "id": "e2c4234c-1094-4e6d-92f4-39d3218402a2",
   "metadata": {},
   "source": [
    "# Example 2.19. (p.49)"
   ]
  },
  {
   "cell_type": "code",
   "execution_count": null,
   "id": "19be09e7-16a1-46b5-9551-388d8294fe76",
   "metadata": {},
   "outputs": [],
   "source": [
    "# Example 2.19\n",
    "x   = var('x')\n",
    "y   = function('y')\n",
    "ode = diff(y(x), x,x) + 3*y(x)*diff(y(x), x)+ y(x)**3\n",
    "display(Math(latexer(ode)))\n",
    "infinitesimals=(function('X'), function('Y'))\n",
    "inf = overdeterminedSystemODE(ode, y, x, infinitesimals=infinitesimals)\n",
    "print(\"determining system:\")\n",
    "for _ in inf:\n",
    "    display(Math(latexer(_)))"
   ]
  },
  {
   "cell_type": "markdown",
   "id": "79a21da6-f629-4849-a095-10573f00104b",
   "metadata": {},
   "source": [
    "comparing with eqs 2.119.\\* shows the correct results"
   ]
  },
  {
   "cell_type": "code",
   "execution_count": null,
   "id": "02b598c6-b351-4e82-b02f-7165705279d6",
   "metadata": {},
   "outputs": [],
   "source": [
    "inf = Janet_Basis_from_ODE(ode, y, x)\n",
    "for _ in inf:\n",
    "    display(Math(latexer(_)))"
   ]
  },
  {
   "cell_type": "code",
   "execution_count": null,
   "id": "721c8b14-8451-4959-a80e-8cb3556add26",
   "metadata": {
    "tags": []
   },
   "outputs": [],
   "source": [
    "# does not seem to be correct(see first and last equation)"
   ]
  }
 ],
 "metadata": {
  "kernelspec": {
   "display_name": "Python 3 (ipykernel)",
   "language": "python",
   "name": "python3"
  },
  "language_info": {
   "codemirror_mode": {
    "name": "ipython",
    "version": 3
   },
   "file_extension": ".py",
   "mimetype": "text/x-python",
   "name": "python",
   "nbconvert_exporter": "python",
   "pygments_lexer": "ipython3",
   "version": "3.10.7"
  },
  "widgets": {
   "application/vnd.jupyter.widget-state+json": {
    "state": {},
    "version_major": 2,
    "version_minor": 0
   }
  }
 },
 "nbformat": 4,
 "nbformat_minor": 5
}
