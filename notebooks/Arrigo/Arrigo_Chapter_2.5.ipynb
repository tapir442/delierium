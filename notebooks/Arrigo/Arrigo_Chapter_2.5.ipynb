{
 "cells": [
  {
   "cell_type": "code",
   "execution_count": null,
   "id": "06586a72-a6ca-4ae7-89aa-088e9921896b",
   "metadata": {},
   "outputs": [],
   "source": [
    "from delierium.Infinitesimals import prolongationODE, infinitesimalsODE, Janet_Basis_from_ODE\n",
    "from delierium.JanetBasis import Janet_Basis\n",
    "from delierium.MatrixOrder import Context\n",
    "from delierium.helpers import latexer\n",
    "from sage.misc.html import html\n",
    "from IPython.core.debugger import set_trace\n",
    "from IPython.display import Math\n",
    "%load_ext line_profiler\n",
    "%load_ext snakeviz"
   ]
  },
  {
   "cell_type": "markdown",
   "id": "8539e81a-a78f-48ca-b791-fb7848b51613",
   "metadata": {},
   "source": [
    "# Example 2.17 (p. 44)"
   ]
  },
  {
   "cell_type": "code",
   "execution_count": null,
   "id": "f59ec357-b3d6-4212-93c3-fcd79099d153",
   "metadata": {},
   "outputs": [],
   "source": [
    "# Example 2.17\n",
    "x   = var('x')\n",
    "y   = function('y')\n",
    "ode = diff(y(x), x,x)\n",
    "display(Math(latexer(ode)))\n",
    "%snakeviz inf = infinitesimalsODE(ode, y, x)\n",
    "print(\"determining system:\")\n",
    "for _ in inf:\n",
    "    display(Math(latexer(_)))"
   ]
  },
  {
   "cell_type": "markdown",
   "id": "c4768402-79df-418e-99dd-a29a318ae13a",
   "metadata": {},
   "source": [
    "mapping Arrigo's $X$ to $\\xi$ and $Y$ to $\\phi$ shows the correct result (eqs. 2.92.\\*, except a meaningless minus in the last equation) for the overdetermined system."
   ]
  },
  {
   "cell_type": "markdown",
   "id": "e5b7e5f6-5654-41e6-b64a-8b9aa7498ade",
   "metadata": {},
   "source": [
    "# Example 2.18 (p. 46)"
   ]
  },
  {
   "cell_type": "code",
   "execution_count": null,
   "id": "139053c3-b701-4a42-9975-16e7f5a1792b",
   "metadata": {},
   "outputs": [],
   "source": [
    "# Example 2.18\n",
    "x   = var('x')\n",
    "y   = function('y')\n",
    "ode = diff(y(x), x,x) + y(x)*diff(y(x), x)+x*y(x)**4\n",
    "display(Math(latexer(ode)))\n",
    "inf = infinitesimalsODE(ode, y, x)\n",
    "print(\"determining system:\")\n",
    "for _ in inf:\n",
    "    display(Math(latexer(_)))"
   ]
  },
  {
   "cell_type": "markdown",
   "id": "5f6d65ba-bf49-4544-816d-b5b93b194e73",
   "metadata": {},
   "source": [
    "comparing with eqs 2.102.\\* shows the correct results"
   ]
  },
  {
   "cell_type": "markdown",
   "id": "e2c4234c-1094-4e6d-92f4-39d3218402a2",
   "metadata": {},
   "source": [
    "# Example 2.19. (p.49)"
   ]
  },
  {
   "cell_type": "code",
   "execution_count": null,
   "id": "19be09e7-16a1-46b5-9551-388d8294fe76",
   "metadata": {},
   "outputs": [],
   "source": [
    "# Example 2.19\n",
    "x   = var('x')\n",
    "y   = function('y')\n",
    "ode = diff(y(x), x,x) + 3*y(x)*diff(y(x), x)+ y(x)**3\n",
    "display(Math(latexer(ode)))\n",
    "inf = infinitesimalsODE(ode, y, x)\n",
    "print(\"determining system:\")\n",
    "for _ in inf:\n",
    "    display(Math(latexer(_)))\n",
    "for _ in inf:\n",
    "    print(_)"
   ]
  },
  {
   "cell_type": "markdown",
   "id": "79a21da6-f629-4849-a095-10573f00104b",
   "metadata": {},
   "source": [
    "comparing with eqs 2.119.\\* shows the correct results"
   ]
  },
  {
   "cell_type": "code",
   "execution_count": null,
   "id": "02b598c6-b351-4e82-b02f-7165705279d6",
   "metadata": {},
   "outputs": [],
   "source": [
    "inf = Janet_Basis_from_ODE(ode, y, x)\n",
    "for _ in inf:\n",
    "    display(Math(latexer(_)))"
   ]
  },
  {
   "cell_type": "code",
   "execution_count": null,
   "id": "721c8b14-8451-4959-a80e-8cb3556add26",
   "metadata": {},
   "outputs": [],
   "source": [
    "# does not seem to be correct(see first and last equation)"
   ]
  }
 ],
 "metadata": {
  "kernelspec": {
   "display_name": "SageMath 9.8",
   "language": "sage",
   "name": "sagemath"
  },
  "language_info": {
   "codemirror_mode": {
    "name": "ipython",
    "version": 3
   },
   "file_extension": ".py",
   "mimetype": "text/x-python",
   "name": "python",
   "nbconvert_exporter": "python",
   "pygments_lexer": "ipython3",
   "version": "3.9.16"
  },
  "widgets": {
   "application/vnd.jupyter.widget-state+json": {
    "state": {},
    "version_major": 2,
    "version_minor": 0
   }
  }
 },
 "nbformat": 4,
 "nbformat_minor": 5
}
