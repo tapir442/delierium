{
 "cells": [
  {
   "cell_type": "code",
   "execution_count": 1,
   "id": "06586a72-a6ca-4ae7-89aa-088e9921896b",
   "metadata": {},
   "outputs": [],
   "source": [
    "from delierium.Infinitesimals import prolongationODE, overdeterminedSystemODE\n",
    "from delierium.helpers import latexer\n",
    "from sage.all import *\n",
    "from IPython.core.debugger import set_trace\n",
    "from IPython.display import Math"
   ]
  },
  {
   "cell_type": "markdown",
   "id": "8539e81a-a78f-48ca-b791-fb7848b51613",
   "metadata": {},
   "source": [
    "# Example 2.17 (p. 44)"
   ]
  },
  {
   "cell_type": "code",
   "execution_count": 2,
   "id": "f59ec357-b3d6-4212-93c3-fcd79099d153",
   "metadata": {},
   "outputs": [
    {
     "data": {
      "text/latex": [
       "$\\displaystyle y_{x, x}$"
      ],
      "text/plain": [
       "<IPython.core.display.Math object>"
      ]
     },
     "metadata": {},
     "output_type": "display_data"
    },
    {
     "name": "stdout",
     "output_type": "stream",
     "text": [
      "overdetermined system:\n"
     ]
    },
    {
     "data": {
      "text/latex": [
       "$\\displaystyle - X_{yy}$"
      ],
      "text/plain": [
       "<IPython.core.display.Math object>"
      ]
     },
     "metadata": {},
     "output_type": "display_data"
    },
    {
     "data": {
      "text/latex": [
       "$\\displaystyle -2  X_{yx} +  Y_{yy}$"
      ],
      "text/plain": [
       "<IPython.core.display.Math object>"
      ]
     },
     "metadata": {},
     "output_type": "display_data"
    },
    {
     "data": {
      "text/latex": [
       "$\\displaystyle - X_{xx} + 2  Y_{yx}$"
      ],
      "text/plain": [
       "<IPython.core.display.Math object>"
      ]
     },
     "metadata": {},
     "output_type": "display_data"
    },
    {
     "data": {
      "text/latex": [
       "$\\displaystyle  Y_{xx}$"
      ],
      "text/plain": [
       "<IPython.core.display.Math object>"
      ]
     },
     "metadata": {},
     "output_type": "display_data"
    }
   ],
   "source": [
    "# Example 2.17\n",
    "x   = var('x')\n",
    "y   = function('y')\n",
    "ode = diff(y(x), x,x)\n",
    "display(Math(latexer(ode)))\n",
    "infinitesimals=(function('X'), function('Y'))\n",
    "inf = overdeterminedSystemODE(ode, y, x, infinitesimals=infinitesimals)\n",
    "print(\"overdetermined system:\")\n",
    "for _ in inf:\n",
    "    display(Math(latexer(_)))"
   ]
  },
  {
   "cell_type": "markdown",
   "id": "c4768402-79df-418e-99dd-a29a318ae13a",
   "metadata": {},
   "source": [
    "correct result (eqs. 2.92.\\*, except a meaningless minus in the first equation) for the overdetermined system."
   ]
  },
  {
   "cell_type": "markdown",
   "id": "e5b7e5f6-5654-41e6-b64a-8b9aa7498ade",
   "metadata": {},
   "source": [
    "# Example 2.18 (p. 46)"
   ]
  },
  {
   "cell_type": "code",
   "execution_count": 3,
   "id": "139053c3-b701-4a42-9975-16e7f5a1792b",
   "metadata": {},
   "outputs": [
    {
     "data": {
      "text/latex": [
       "$\\displaystyle x y^4 + y y_{x} + y_{x, x}$"
      ],
      "text/plain": [
       "<IPython.core.display.Math object>"
      ]
     },
     "metadata": {},
     "output_type": "display_data"
    },
    {
     "name": "stdout",
     "output_type": "stream",
     "text": [
      "determining system:\n"
     ]
    },
    {
     "data": {
      "text/latex": [
       "$\\displaystyle - X_{yy}$"
      ],
      "text/plain": [
       "<IPython.core.display.Math object>"
      ]
     },
     "metadata": {},
     "output_type": "display_data"
    },
    {
     "data": {
      "text/latex": [
       "$\\displaystyle 2 y  X_{y} - 2  X_{yx} +  Y_{yy}$"
      ],
      "text/plain": [
       "<IPython.core.display.Math object>"
      ]
     },
     "metadata": {},
     "output_type": "display_data"
    },
    {
     "data": {
      "text/latex": [
       "$\\displaystyle 3 x y^4  X_{y} + y  X_{x} + Y -  X_{xx} + 2  Y_{yx}$"
      ],
      "text/plain": [
       "<IPython.core.display.Math object>"
      ]
     },
     "metadata": {},
     "output_type": "display_data"
    },
    {
     "data": {
      "text/latex": [
       "$\\displaystyle 2 x y^4  X_{x} - x y^4  Y_{y} + 4 x Y y^3 + X y^4 + y  Y_{x} +  Y_{xx}$"
      ],
      "text/plain": [
       "<IPython.core.display.Math object>"
      ]
     },
     "metadata": {},
     "output_type": "display_data"
    }
   ],
   "source": [
    "# Example 2.18\n",
    "x   = var('x')\n",
    "y   = function('y')\n",
    "ode = diff(y(x), x,x) + y(x)*diff(y(x), x)+x*y(x)**4\n",
    "display(Math(latexer(ode)))\n",
    "infinitesimals=(function('X'), function('Y'))\n",
    "inf = overdeterminedSystemODE(ode, y, x, infinitesimals=infinitesimals)\n",
    "print(\"determining system:\")\n",
    "for _ in inf:\n",
    "    display(Math(latexer(_)))"
   ]
  },
  {
   "cell_type": "markdown",
   "id": "5f6d65ba-bf49-4544-816d-b5b93b194e73",
   "metadata": {},
   "source": [
    "comparing with eqs 2.102.\\* shows the correct results"
   ]
  },
  {
   "cell_type": "markdown",
   "id": "e2c4234c-1094-4e6d-92f4-39d3218402a2",
   "metadata": {},
   "source": [
    "# Example 2.19. (p.49)"
   ]
  },
  {
   "cell_type": "code",
   "execution_count": 4,
   "id": "19be09e7-16a1-46b5-9551-388d8294fe76",
   "metadata": {},
   "outputs": [
    {
     "data": {
      "text/latex": [
       "$\\displaystyle y^3 + 3 y y_{x} + y_{x, x}$"
      ],
      "text/plain": [
       "<IPython.core.display.Math object>"
      ]
     },
     "metadata": {},
     "output_type": "display_data"
    },
    {
     "name": "stdout",
     "output_type": "stream",
     "text": [
      "overdetermined system:\n"
     ]
    },
    {
     "data": {
      "text/latex": [
       "$\\displaystyle - X_{yy}$"
      ],
      "text/plain": [
       "<IPython.core.display.Math object>"
      ]
     },
     "metadata": {},
     "output_type": "display_data"
    },
    {
     "data": {
      "text/latex": [
       "$\\displaystyle 6 y  X_{y} - 2  X_{yx} +  Y_{yy}$"
      ],
      "text/plain": [
       "<IPython.core.display.Math object>"
      ]
     },
     "metadata": {},
     "output_type": "display_data"
    },
    {
     "data": {
      "text/latex": [
       "$\\displaystyle 3 y^3  X_{y} + 3 y  X_{x} + 3 Y -  X_{xx} + 2  Y_{yx}$"
      ],
      "text/plain": [
       "<IPython.core.display.Math object>"
      ]
     },
     "metadata": {},
     "output_type": "display_data"
    },
    {
     "data": {
      "text/latex": [
       "$\\displaystyle 2 y^3  X_{x} - y^3  Y_{y} + 3 Y y^2 + 3 y  Y_{x} +  Y_{xx}$"
      ],
      "text/plain": [
       "<IPython.core.display.Math object>"
      ]
     },
     "metadata": {},
     "output_type": "display_data"
    }
   ],
   "source": [
    "# Example 2.19\n",
    "x   = var('x')\n",
    "y   = function('y')\n",
    "ode = diff(y(x), x,x) + 3*y(x)*diff(y(x), x)+ y(x)**3\n",
    "display(Math(latexer(ode)))\n",
    "infinitesimals=(function('X'), function('Y'))\n",
    "inf = overdeterminedSystemODE(ode, y, x, infinitesimals=infinitesimals)\n",
    "print(\"overdetermined system:\")\n",
    "for _ in inf:\n",
    "    display(Math(latexer(_)))"
   ]
  },
  {
   "cell_type": "markdown",
   "id": "79a21da6-f629-4849-a095-10573f00104b",
   "metadata": {},
   "source": [
    "comparing with eqs 2.119.\\* shows the correct results"
   ]
  },
  {
   "cell_type": "raw",
   "id": "68c726e0-9ae3-4b76-8a47-d57b8f9278ba",
   "metadata": {},
   "source": [
    "Exercises"
   ]
  },
  {
   "cell_type": "code",
   "execution_count": 13,
   "id": "e0a73e90-f618-4909-a1f1-13bd279c84d5",
   "metadata": {},
   "outputs": [
    {
     "name": "stdout",
     "output_type": "stream",
     "text": [
      "overdetermined system:\n"
     ]
    },
    {
     "data": {
      "text/latex": [
       "$\\displaystyle - X_{yy}$"
      ],
      "text/plain": [
       "<IPython.core.display.Math object>"
      ]
     },
     "metadata": {},
     "output_type": "display_data"
    },
    {
     "data": {
      "text/latex": [
       "$\\displaystyle 2 y  X_{y} - 2  X_{yx} +  Y_{yy}$"
      ],
      "text/plain": [
       "<IPython.core.display.Math object>"
      ]
     },
     "metadata": {},
     "output_type": "display_data"
    },
    {
     "data": {
      "text/latex": [
       "$\\displaystyle y  X_{x} + Y -  X_{xx} + 2  Y_{yx}$"
      ],
      "text/plain": [
       "<IPython.core.display.Math object>"
      ]
     },
     "metadata": {},
     "output_type": "display_data"
    },
    {
     "data": {
      "text/latex": [
       "$\\displaystyle y  Y_{x} +  Y_{xx}$"
      ],
      "text/plain": [
       "<IPython.core.display.Math object>"
      ]
     },
     "metadata": {},
     "output_type": "display_data"
    },
    {
     "name": "stdout",
     "output_type": "stream",
     "text": [
      "overdetermined system:\n"
     ]
    },
    {
     "data": {
      "text/latex": [
       "$\\displaystyle - X_{yy}$"
      ],
      "text/plain": [
       "<IPython.core.display.Math object>"
      ]
     },
     "metadata": {},
     "output_type": "display_data"
    },
    {
     "data": {
      "text/latex": [
       "$\\displaystyle 2 y  X_{y} + 2  X_{y}/x - 2  X_{yx} +  Y_{yy}$"
      ],
      "text/plain": [
       "<IPython.core.display.Math object>"
      ]
     },
     "metadata": {},
     "output_type": "display_data"
    },
    {
     "data": {
      "text/latex": [
       "$\\displaystyle y  X_{x} +  X_{x}/x - X/x^2 + Y -  X_{xx} + 2  Y_{yx}$"
      ],
      "text/plain": [
       "<IPython.core.display.Math object>"
      ]
     },
     "metadata": {},
     "output_type": "display_data"
    },
    {
     "data": {
      "text/latex": [
       "$\\displaystyle y  Y_{x} +  Y_{x}/x +  Y_{xx}$"
      ],
      "text/plain": [
       "<IPython.core.display.Math object>"
      ]
     },
     "metadata": {},
     "output_type": "display_data"
    },
    {
     "name": "stdout",
     "output_type": "stream",
     "text": [
      "overdetermined system:\n"
     ]
    },
    {
     "data": {
      "text/latex": [
       "$\\displaystyle - X_{yy}$"
      ],
      "text/plain": [
       "<IPython.core.display.Math object>"
      ]
     },
     "metadata": {},
     "output_type": "display_data"
    },
    {
     "data": {
      "text/latex": [
       "$\\displaystyle 2 y  X_{y} + 4  X_{y}/x - 2  X_{yx} +  Y_{yy}$"
      ],
      "text/plain": [
       "<IPython.core.display.Math object>"
      ]
     },
     "metadata": {},
     "output_type": "display_data"
    },
    {
     "data": {
      "text/latex": [
       "$\\displaystyle y  X_{x} + 2  X_{x}/x - 2 X/x^2 + Y -  X_{xx} + 2  Y_{yx}$"
      ],
      "text/plain": [
       "<IPython.core.display.Math object>"
      ]
     },
     "metadata": {},
     "output_type": "display_data"
    },
    {
     "data": {
      "text/latex": [
       "$\\displaystyle y  Y_{x} + 2  Y_{x}/x +  Y_{xx}$"
      ],
      "text/plain": [
       "<IPython.core.display.Math object>"
      ]
     },
     "metadata": {},
     "output_type": "display_data"
    },
    {
     "name": "stdout",
     "output_type": "stream",
     "text": [
      "overdetermined system:\n"
     ]
    },
    {
     "data": {
      "text/latex": [
       "$\\displaystyle - X_{yy}$"
      ],
      "text/plain": [
       "<IPython.core.display.Math object>"
      ]
     },
     "metadata": {},
     "output_type": "display_data"
    },
    {
     "data": {
      "text/latex": [
       "$\\displaystyle 2 y  X_{y} + 2 n  X_{y}/x - 2  X_{yx} +  Y_{yy}$"
      ],
      "text/plain": [
       "<IPython.core.display.Math object>"
      ]
     },
     "metadata": {},
     "output_type": "display_data"
    },
    {
     "data": {
      "text/latex": [
       "$\\displaystyle y  X_{x} + n  X_{x}/x - n X/x^2 + Y -  X_{xx} + 2  Y_{yx}$"
      ],
      "text/plain": [
       "<IPython.core.display.Math object>"
      ]
     },
     "metadata": {},
     "output_type": "display_data"
    },
    {
     "data": {
      "text/latex": [
       "$\\displaystyle y  Y_{x} + n  Y_{x}/x +  Y_{xx}$"
      ],
      "text/plain": [
       "<IPython.core.display.Math object>"
      ]
     },
     "metadata": {},
     "output_type": "display_data"
    }
   ],
   "source": [
    "# Exercise 1,n = 0\n",
    "x=var('x')\n",
    "y=function('y')\n",
    "ode=diff(y(x),x,x) + y(x)*diff(y(x),x)\n",
    "infinitesimals=(function('X'), function('Y'))\n",
    "inf = overdeterminedSystemODE(ode, y, x, infinitesimals=infinitesimals)\n",
    "print(\"overdetermined system:\")\n",
    "for _ in inf:\n",
    "    display(Math(latexer(_)))\n",
    "\n",
    "# Exercise 1, n = 1\n",
    "x=var('x')\n",
    "y=function('y')\n",
    "ode=diff(y(x),x,x) + (1/x)*diff(y(x), x)+ y(x)*diff(y(x),x)\n",
    "infinitesimals=(function('X'), function('Y'))\n",
    "inf = overdeterminedSystemODE(ode, y, x, infinitesimals=infinitesimals)\n",
    "print(\"overdetermined system:\")\n",
    "for _ in inf:\n",
    "    display(Math(latexer(_)))\n",
    "\n",
    "# Exercise 1, n = 2\n",
    "x=var('x')\n",
    "y=function('y')\n",
    "ode=diff(y(x),x,x) + (2/x)*diff(y(x), x)+ y(x)*diff(y(x),x)\n",
    "infinitesimals=(function('X'), function('Y'))\n",
    "inf = overdeterminedSystemODE(ode, y, x, infinitesimals=infinitesimals)\n",
    "print(\"overdetermined system:\")\n",
    "for _ in inf:\n",
    "    display(Math(latexer(_)))\n",
    "# now another way:\n",
    "n = var('n')\n",
    "x=var('x')\n",
    "y=function('y')\n",
    "ode=diff(y(x),x,x) + (n/x)*diff(y(x), x)+ y(x)*diff(y(x),x)\n",
    "infinitesimals=(function('X'), function('Y'))\n",
    "inf = overdeterminedSystemODE(ode, y, x, infinitesimals=infinitesimals)\n",
    "print(\"overdetermined system:\")\n",
    "for _ in inf:\n",
    "    display(Math(latexer(_)))\n"
   ]
  },
  {
   "cell_type": "code",
   "execution_count": 14,
   "id": "b208efdb-f400-459c-b371-95b7129ef867",
   "metadata": {},
   "outputs": [
    {
     "name": "stdout",
     "output_type": "stream",
     "text": [
      "overdetermined system:\n"
     ]
    },
    {
     "data": {
      "text/latex": [
       "$\\displaystyle -y^2  X_{yy} - 2 x  X_{x} + 4 x  Y_{y} - 4 x Y/y + 2 X$"
      ],
      "text/plain": [
       "<IPython.core.display.Math object>"
      ]
     },
     "metadata": {},
     "output_type": "display_data"
    },
    {
     "data": {
      "text/latex": [
       "$\\displaystyle -2 y^2  X_{yx} + y^2  Y_{yy} + 6 x  Y_{x}$"
      ],
      "text/plain": [
       "<IPython.core.display.Math object>"
      ]
     },
     "metadata": {},
     "output_type": "display_data"
    },
    {
     "data": {
      "text/latex": [
       "$\\displaystyle -y^2  X_{xx} + 2 y^2  Y_{yx}$"
      ],
      "text/plain": [
       "<IPython.core.display.Math object>"
      ]
     },
     "metadata": {},
     "output_type": "display_data"
    },
    {
     "data": {
      "text/latex": [
       "$\\displaystyle y^2  Y_{xx}$"
      ],
      "text/plain": [
       "<IPython.core.display.Math object>"
      ]
     },
     "metadata": {},
     "output_type": "display_data"
    }
   ],
   "source": [
    "# Exercise 2\n",
    "\n",
    "x=var('x')\n",
    "y=function('y')\n",
    "ode=y(x)**2*diff(y(x), x,x) + 2*x*diff(y(x),x)**3\n",
    "infinitesimals=(function('X'), function('Y'))\n",
    "inf = overdeterminedSystemODE(ode, y, x, infinitesimals=infinitesimals)\n",
    "print(\"overdetermined system:\")\n",
    "for _ in inf:\n",
    "    display(Math(latexer(_)))"
   ]
  },
  {
   "cell_type": "code",
   "execution_count": null,
   "id": "bcb8bccb-0aaf-455b-8210-db4188a5a18b",
   "metadata": {},
   "outputs": [],
   "source": []
  }
 ],
 "metadata": {
  "kernelspec": {
   "display_name": "SageMath 10.2",
   "language": "sage",
   "name": "sagemath"
  },
  "language_info": {
   "codemirror_mode": {
    "name": "ipython",
    "version": 3
   },
   "file_extension": ".py",
   "mimetype": "text/x-python",
   "name": "python",
   "nbconvert_exporter": "python",
   "pygments_lexer": "ipython3",
   "version": "3.11.10"
  },
  "widgets": {
   "application/vnd.jupyter.widget-state+json": {
    "state": {},
    "version_major": 2,
    "version_minor": 0
   }
  }
 },
 "nbformat": 4,
 "nbformat_minor": 5
}
