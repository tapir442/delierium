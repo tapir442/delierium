{
 "cells": [
  {
   "cell_type": "code",
   "execution_count": 2,
   "id": "afab1768-3109-4169-bd5b-919904d36322",
   "metadata": {
    "tags": []
   },
   "outputs": [],
   "source": [
    "from delierium.Infinitesimals import prolongationODE, overdeterminedSystemODE\n",
    "from delierium.JanetBasis import Janet_Basis\n",
    "from delierium.matrix_order import Context\n",
    "from delierium.helpers import latexer\n",
    "from sage.misc.html import html\n",
    "from IPython.core.debugger import set_trace\n",
    "from IPython.display import Math"
   ]
  },
  {
   "cell_type": "markdown",
   "id": "c2676388-ac43-484a-8ddb-ed32e2d79d25",
   "metadata": {},
   "source": [
    "# Example 2.20 (p.56)\n"
   ]
  },
  {
   "cell_type": "code",
   "execution_count": 19,
   "id": "8e65708d-6e8b-4e45-8e48-78bb3498c747",
   "metadata": {
    "tags": []
   },
   "outputs": [
    {
     "data": {
      "text/latex": [
       "$\\displaystyle y y_{x, x} + y_{x, x, x}$"
      ],
      "text/plain": [
       "<IPython.core.display.Math object>"
      ]
     },
     "metadata": {},
     "output_type": "display_data"
    },
    {
     "name": "stdout",
     "output_type": "stream",
     "text": [
      "determining system:\n"
     ]
    },
    {
     "data": {
      "text/latex": [
       "$\\displaystyle -3  X_{y}$"
      ],
      "text/plain": [
       "<IPython.core.display.Math object>"
      ]
     },
     "metadata": {},
     "output_type": "display_data"
    },
    {
     "data": {
      "text/latex": [
       "$\\displaystyle -6  X_{yy}$"
      ],
      "text/plain": [
       "<IPython.core.display.Math object>"
      ]
     },
     "metadata": {},
     "output_type": "display_data"
    },
    {
     "data": {
      "text/latex": [
       "$\\displaystyle y  X_{y} - 9  X_{yx} + 3  Y_{yy}$"
      ],
      "text/plain": [
       "<IPython.core.display.Math object>"
      ]
     },
     "metadata": {},
     "output_type": "display_data"
    },
    {
     "data": {
      "text/latex": [
       "$\\displaystyle y  X_{x} + Y - 3  X_{xx} + 3  Y_{yx}$"
      ],
      "text/plain": [
       "<IPython.core.display.Math object>"
      ]
     },
     "metadata": {},
     "output_type": "display_data"
    },
    {
     "data": {
      "text/latex": [
       "$\\displaystyle - X_{yyy}$"
      ],
      "text/plain": [
       "<IPython.core.display.Math object>"
      ]
     },
     "metadata": {},
     "output_type": "display_data"
    },
    {
     "data": {
      "text/latex": [
       "$\\displaystyle -y  X_{yy} - 3  X_{yyx} +  Y_{yyy}$"
      ],
      "text/plain": [
       "<IPython.core.display.Math object>"
      ]
     },
     "metadata": {},
     "output_type": "display_data"
    },
    {
     "data": {
      "text/latex": [
       "$\\displaystyle -2 y  X_{yx} + y  Y_{yy} - 3  X_{yxx} + 3  Y_{yyx}$"
      ],
      "text/plain": [
       "<IPython.core.display.Math object>"
      ]
     },
     "metadata": {},
     "output_type": "display_data"
    },
    {
     "data": {
      "text/latex": [
       "$\\displaystyle -y  X_{xx} + 2 y  Y_{yx} -  X_{xxx} + 3  Y_{yxx}$"
      ],
      "text/plain": [
       "<IPython.core.display.Math object>"
      ]
     },
     "metadata": {},
     "output_type": "display_data"
    },
    {
     "data": {
      "text/latex": [
       "$\\displaystyle y  Y_{xx} +  Y_{xxx}$"
      ],
      "text/plain": [
       "<IPython.core.display.Math object>"
      ]
     },
     "metadata": {},
     "output_type": "display_data"
    }
   ],
   "source": [
    "# Example 2.20, Blasius equation\n",
    "x   = var('x')\n",
    "y   = function('y')\n",
    "ode = diff(y(x), x, 3) + y(x) * diff(y(x), x, 2)\n",
    "display(Math(latexer(ode)))\n",
    "X=function('X')\n",
    "Y=function('Y')\n",
    "inf = overdeterminedSystemODE(ode, y, x, infinitesimals=(X,Y))\n",
    "print(\"determining system:\")\n",
    "for _ in inf:\n",
    "    display(Math(latexer(_)))\n"
   ]
  },
  {
   "cell_type": "code",
   "execution_count": 25,
   "id": "061f1b20-596d-4853-9047-9bccc318ba07",
   "metadata": {},
   "outputs": [
    {
     "ename": "TypeError",
     "evalue": "no canonical coercion from <class 'sage.symbolic.function_factory.function_factory.<locals>.NewSymbolicFunction'> to Symbolic Ring",
     "output_type": "error",
     "traceback": [
      "\u001b[0;31m---------------------------------------------------------------------------\u001b[0m",
      "\u001b[0;31mTypeError\u001b[0m                                 Traceback (most recent call last)",
      "File \u001b[0;32m~/mambaforge/envs/sage/lib/python3.11/site-packages/sage/symbolic/expression.pyx:3806\u001b[0m, in \u001b[0;36msage.symbolic.expression.Expression.coerce_in (build/cythonized/sage/symbolic/expression.cpp:67294)\u001b[0;34m()\u001b[0m\n\u001b[1;32m   3805\u001b[0m try:\n\u001b[0;32m-> 3806\u001b[0m     return <Expression?>z\n\u001b[1;32m   3807\u001b[0m except TypeError:\n",
      "\u001b[0;31mTypeError\u001b[0m: Cannot convert NewSymbolicFunction to sage.symbolic.expression.Expression",
      "\nDuring handling of the above exception, another exception occurred:\n",
      "\u001b[0;31mTypeError\u001b[0m                                 Traceback (most recent call last)",
      "Cell \u001b[0;32mIn[25], line 4\u001b[0m\n\u001b[1;32m      2\u001b[0m furri\u001b[38;5;241m=\u001b[39m[]\n\u001b[1;32m      3\u001b[0m \u001b[38;5;28;01mfor\u001b[39;00m _ \u001b[38;5;129;01min\u001b[39;00m inf:\n\u001b[0;32m----> 4\u001b[0m     furri\u001b[38;5;241m.\u001b[39mappend(\u001b[43m_\u001b[49m\u001b[38;5;241;43m.\u001b[39;49m\u001b[43msubs\u001b[49m\u001b[43m(\u001b[49m\u001b[43m{\u001b[49m\u001b[43mX\u001b[49m\u001b[43m:\u001b[49m\u001b[43m \u001b[49m\u001b[43ma\u001b[49m\u001b[43m}\u001b[49m\u001b[43m)\u001b[49m)\n",
      "File \u001b[0;32m~/mambaforge/envs/sage/lib/python3.11/site-packages/sage/symbolic/expression.pyx:5897\u001b[0m, in \u001b[0;36msage.symbolic.expression.Expression.substitute (build/cythonized/sage/symbolic/expression.cpp:76745)\u001b[0;34m()\u001b[0m\n\u001b[1;32m   5895\u001b[0m cdef GExMap smap\n\u001b[1;32m   5896\u001b[0m for k, v in sdict.iteritems():\n\u001b[0;32m-> 5897\u001b[0m     smap.insert(make_pair((<Expression>self.coerce_in(k))._gobj,\n\u001b[1;32m   5898\u001b[0m                           (<Expression>self.coerce_in(v))._gobj))\n\u001b[1;32m   5899\u001b[0m res = self._gobj.subs_map(smap, 0)\n",
      "File \u001b[0;32m~/mambaforge/envs/sage/lib/python3.11/site-packages/sage/symbolic/expression.pyx:3808\u001b[0m, in \u001b[0;36msage.symbolic.expression.Expression.coerce_in (build/cythonized/sage/symbolic/expression.cpp:67332)\u001b[0;34m()\u001b[0m\n\u001b[1;32m   3806\u001b[0m         return <Expression?>z\n\u001b[1;32m   3807\u001b[0m     except TypeError:\n\u001b[0;32m-> 3808\u001b[0m         return self._parent.coerce(z)\n\u001b[1;32m   3809\u001b[0m \n\u001b[1;32m   3810\u001b[0m cpdef _add_(left, right) noexcept:\n",
      "File \u001b[0;32m~/mambaforge/envs/sage/lib/python3.11/site-packages/sage/structure/parent.pyx:1221\u001b[0m, in \u001b[0;36msage.structure.parent.Parent.coerce (build/cythonized/sage/structure/parent.c:14304)\u001b[0;34m()\u001b[0m\n\u001b[1;32m   1219\u001b[0m         except Exception:\n\u001b[1;32m   1220\u001b[0m             _record_exception()\n\u001b[0;32m-> 1221\u001b[0m     raise TypeError(_LazyString(\"no canonical coercion from %s to %s\", (parent(x), self), {}))\n\u001b[1;32m   1222\u001b[0m else:\n\u001b[1;32m   1223\u001b[0m     return (<map.Map>mor)._call_(x)\n",
      "\u001b[0;31mTypeError\u001b[0m: no canonical coercion from <class 'sage.symbolic.function_factory.function_factory.<locals>.NewSymbolicFunction'> to Symbolic Ring"
     ]
    }
   ],
   "source": [
    "a=function('a')(x)\n",
    "furri=[]\n",
    "for _ in inf:\n",
    "    furri.append(_.subs({X: a}))"
   ]
  },
  {
   "cell_type": "code",
   "execution_count": 23,
   "id": "f4a2c465-2b1c-4c09-8703-b025fff4157a",
   "metadata": {},
   "outputs": [
    {
     "data": {
      "text/plain": [
       "[]"
      ]
     },
     "execution_count": 23,
     "metadata": {},
     "output_type": "execute_result"
    }
   ],
   "source": [
    "furri"
   ]
  },
  {
   "cell_type": "code",
   "execution_count": 17,
   "id": "60532cad-a70e-4649-8122-13568d06cd3a",
   "metadata": {},
   "outputs": [
    {
     "data": {
      "text/plain": [
       "[-3*D[0](X)(y(x), x),\n",
       " -6*D[0, 0](X)(y(x), x),\n",
       " y(x)*D[0](X)(y(x), x) - 9*D[0, 1](X)(y(x), x) + 3*D[0, 0](Y)(y(x), x),\n",
       " y(x)*D[1](X)(y(x), x) + Y(y(x), x) - 3*D[1, 1](X)(y(x), x) + 3*D[0, 1](Y)(y(x), x),\n",
       " -D[0, 0, 0](X)(y(x), x),\n",
       " -y(x)*D[0, 0](X)(y(x), x) - 3*D[0, 0, 1](X)(y(x), x) + D[0, 0, 0](Y)(y(x), x),\n",
       " -2*y(x)*D[0, 1](X)(y(x), x) + y(x)*D[0, 0](Y)(y(x), x) - 3*D[0, 1, 1](X)(y(x), x) + 3*D[0, 0, 1](Y)(y(x), x),\n",
       " -y(x)*D[1, 1](X)(y(x), x) + 2*y(x)*D[0, 1](Y)(y(x), x) - D[1, 1, 1](X)(y(x), x) + 3*D[0, 1, 1](Y)(y(x), x),\n",
       " y(x)*D[1, 1](Y)(y(x), x) + D[1, 1, 1](Y)(y(x), x)]"
      ]
     },
     "execution_count": 17,
     "metadata": {},
     "output_type": "execute_result"
    }
   ],
   "source": [
    "inf"
   ]
  },
  {
   "cell_type": "code",
   "execution_count": null,
   "id": "24bcc816-1a3f-411d-9e86-17a680640754",
   "metadata": {},
   "outputs": [],
   "source": []
  }
 ],
 "metadata": {
  "kernelspec": {
   "display_name": "SageMath 10.2",
   "language": "sage",
   "name": "sagemath"
  },
  "language_info": {
   "codemirror_mode": {
    "name": "ipython",
    "version": 3
   },
   "file_extension": ".py",
   "mimetype": "text/x-python",
   "name": "python",
   "nbconvert_exporter": "python",
   "pygments_lexer": "ipython3",
   "version": "3.11.10"
  },
  "widgets": {
   "application/vnd.jupyter.widget-state+json": {
    "state": {},
    "version_major": 2,
    "version_minor": 0
   }
  }
 },
 "nbformat": 4,
 "nbformat_minor": 5
}
