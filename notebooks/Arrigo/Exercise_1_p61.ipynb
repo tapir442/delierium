{
 "cells": [
  {
   "cell_type": "code",
   "execution_count": 4,
   "id": "558bce7e-cc98-47a7-a6c7-08e9b605cf5a",
   "metadata": {
    "tags": []
   },
   "outputs": [
    {
     "data": {
      "text/latex": [
       "$\\displaystyle -3  X_{y}$"
      ],
      "text/plain": [
       "<IPython.core.display.Math object>"
      ]
     },
     "metadata": {},
     "output_type": "display_data"
    },
    {
     "data": {
      "text/latex": [
       "$\\displaystyle -6  X_{yy}$"
      ],
      "text/plain": [
       "<IPython.core.display.Math object>"
      ]
     },
     "metadata": {},
     "output_type": "display_data"
    },
    {
     "data": {
      "text/latex": [
       "$\\displaystyle y  X_{y} - 9  X_{yx} + 3  Y_{yy}$"
      ],
      "text/plain": [
       "<IPython.core.display.Math object>"
      ]
     },
     "metadata": {},
     "output_type": "display_data"
    },
    {
     "data": {
      "text/latex": [
       "$\\displaystyle y  X_{x} + Y - 3  X_{xx} + 3  Y_{yx}$"
      ],
      "text/plain": [
       "<IPython.core.display.Math object>"
      ]
     },
     "metadata": {},
     "output_type": "display_data"
    },
    {
     "data": {
      "text/latex": [
       "$\\displaystyle - X_{yyy}$"
      ],
      "text/plain": [
       "<IPython.core.display.Math object>"
      ]
     },
     "metadata": {},
     "output_type": "display_data"
    },
    {
     "data": {
      "text/latex": [
       "$\\displaystyle -y  X_{yy} - 2  X_{y} - 3  X_{yyx} +  Y_{yyy}$"
      ],
      "text/plain": [
       "<IPython.core.display.Math object>"
      ]
     },
     "metadata": {},
     "output_type": "display_data"
    },
    {
     "data": {
      "text/latex": [
       "$\\displaystyle -2 y  X_{yx} + y  Y_{yy} - 3  X_{yxx} -  X_{x} -  Y_{y} + 3  Y_{yyx}$"
      ],
      "text/plain": [
       "<IPython.core.display.Math object>"
      ]
     },
     "metadata": {},
     "output_type": "display_data"
    },
    {
     "data": {
      "text/latex": [
       "$\\displaystyle -y  X_{xx} + 2 y  Y_{yx} -  X_{xxx} + 3  Y_{yxx} - 2  Y_{x}$"
      ],
      "text/plain": [
       "<IPython.core.display.Math object>"
      ]
     },
     "metadata": {},
     "output_type": "display_data"
    },
    {
     "data": {
      "text/latex": [
       "$\\displaystyle y  Y_{xx} +  Y_{xxx}$"
      ],
      "text/plain": [
       "<IPython.core.display.Math object>"
      ]
     },
     "metadata": {},
     "output_type": "display_data"
    }
   ],
   "source": [
    "import sys, os\n",
    "sys.path.append(os.path.abspath(\"../..\"))\n",
    "from delierium.Infinitesimals import prolongationODE, overdeterminedSystemODE, Janet_Basis_from_ODE\n",
    "from IPython.display import Math\n",
    "from delierium.helpers import latexer\n",
    "from IPython.core.debugger import set_trace\n",
    "\n",
    "\n",
    "# Example 1, (i)\n",
    "x = var('x')\n",
    "y = function('y')\n",
    "d0=y(x)\n",
    "d1=diff(y(x), x)\n",
    "d2=diff(d1, x)\n",
    "d3=diff(d2, x)\n",
    "\n",
    "ode = d3 + d0*d2 - d1**2\n",
    "jb = overdeterminedSystemODE(ode, y, x, infinitesimals=(function('X'), function('Y')))\n",
    "for _ in jb:\n",
    "    display(Math(latexer(_)))"
   ]
  },
  {
   "cell_type": "code",
   "execution_count": 5,
   "id": "e1861e6b-f02c-4cce-90b5-fb19b350bd5b",
   "metadata": {
    "tags": []
   },
   "outputs": [
    {
     "data": {
      "text/html": [
       "<html><script type=\"math/tex; mode=display\">\\newcommand{\\Bold}[1]{\\mathbf{#1}}y\\left(x\\right)^{4} + 6 \\, y\\left(x\\right)^{2} \\frac{\\partial}{\\partial x}y\\left(x\\right) + 3 \\, \\frac{\\partial}{\\partial x}y\\left(x\\right)^{2} + 4 \\, y\\left(x\\right) \\frac{\\partial^{2}}{(\\partial x)^{2}}y\\left(x\\right) + \\frac{\\partial^{3}}{(\\partial x)^{3}}y\\left(x\\right)</script></html>"
      ],
      "text/latex": [
       "$$\\newcommand{\\Bold}[1]{\\mathbf{#1}}y\\left(x\\right)^{4} + 6 \\, y\\left(x\\right)^{2} \\frac{\\partial}{\\partial x}y\\left(x\\right) + 3 \\, \\frac{\\partial}{\\partial x}y\\left(x\\right)^{2} + 4 \\, y\\left(x\\right) \\frac{\\partial^{2}}{(\\partial x)^{2}}y\\left(x\\right) + \\frac{\\partial^{3}}{(\\partial x)^{3}}y\\left(x\\right)$$"
      ],
      "text/plain": [
       "y(x)^4 + 6*y(x)^2*diff(y(x), x) + 3*diff(y(x), x)^2 + 4*y(x)*diff(y(x), x, x) + diff(y(x), x, x, x)"
      ]
     },
     "metadata": {},
     "output_type": "display_data"
    },
    {
     "data": {
      "text/latex": [
       "$\\displaystyle -3  X_{y}$"
      ],
      "text/plain": [
       "<IPython.core.display.Math object>"
      ]
     },
     "metadata": {},
     "output_type": "display_data"
    },
    {
     "data": {
      "text/latex": [
       "$\\displaystyle -6  X_{yy}$"
      ],
      "text/plain": [
       "<IPython.core.display.Math object>"
      ]
     },
     "metadata": {},
     "output_type": "display_data"
    },
    {
     "data": {
      "text/latex": [
       "$\\displaystyle 4 y  X_{y} - 9  X_{yx} + 3  Y_{yy}$"
      ],
      "text/plain": [
       "<IPython.core.display.Math object>"
      ]
     },
     "metadata": {},
     "output_type": "display_data"
    },
    {
     "data": {
      "text/latex": [
       "$\\displaystyle 4 y  X_{x} + 4 Y - 3  X_{xx} + 3  Y_{yx}$"
      ],
      "text/plain": [
       "<IPython.core.display.Math object>"
      ]
     },
     "metadata": {},
     "output_type": "display_data"
    },
    {
     "data": {
      "text/latex": [
       "$\\displaystyle - X_{yyy}$"
      ],
      "text/plain": [
       "<IPython.core.display.Math object>"
      ]
     },
     "metadata": {},
     "output_type": "display_data"
    },
    {
     "data": {
      "text/latex": [
       "$\\displaystyle -4 y  X_{yy} + 6  X_{y} - 3  X_{yyx} +  Y_{yyy}$"
      ],
      "text/plain": [
       "<IPython.core.display.Math object>"
      ]
     },
     "metadata": {},
     "output_type": "display_data"
    },
    {
     "data": {
      "text/latex": [
       "$\\displaystyle 18 y^2  X_{y} - 8 y  X_{yx} + 4 y  Y_{yy} - 3  X_{yxx} + 3  X_{x} + 3  Y_{y} + 3  Y_{yyx}$"
      ],
      "text/plain": [
       "<IPython.core.display.Math object>"
      ]
     },
     "metadata": {},
     "output_type": "display_data"
    },
    {
     "data": {
      "text/latex": [
       "$\\displaystyle 4 y^4  X_{y} + 12 y^2  X_{x} + 12 Y y - 4 y  X_{xx} + 8 y  Y_{yx} -  X_{xxx} + 3  Y_{yxx} + 6  Y_{x}$"
      ],
      "text/plain": [
       "<IPython.core.display.Math object>"
      ]
     },
     "metadata": {},
     "output_type": "display_data"
    },
    {
     "data": {
      "text/latex": [
       "$\\displaystyle 3 y^4  X_{x} - y^4  Y_{y} + 4 Y y^3 + 6 y^2  Y_{x} + 4 y  Y_{xx} +  Y_{xxx}$"
      ],
      "text/plain": [
       "<IPython.core.display.Math object>"
      ]
     },
     "metadata": {},
     "output_type": "display_data"
    }
   ],
   "source": [
    "# Example 1, (ii)\n",
    "x = var('x')\n",
    "y = function('y')\n",
    "ode = diff(y(x), x,x,x) + 4*diff(y(x), x,x) * y(x) + 3* diff(y(x), x)**2 + 6*y(x)**2 * diff(y(x), x)+ y(x)**4\n",
    "ode.show()\n",
    "jb = overdeterminedSystemODE(ode, y, x, (function('X'), function('Y')))\n",
    "for _ in jb:\n",
    "    display(Math(latexer(_)))"
   ]
  },
  {
   "cell_type": "code",
   "execution_count": 8,
   "id": "5abf561d-37be-4df5-a52e-52ca45aff69d",
   "metadata": {
    "tags": []
   },
   "outputs": [
    {
     "data": {
      "text/latex": [
       "$\\displaystyle -3  X_{y}$"
      ],
      "text/plain": [
       "<IPython.core.display.Math object>"
      ]
     },
     "metadata": {},
     "output_type": "display_data"
    },
    {
     "data": {
      "text/latex": [
       "$\\displaystyle -6  X_{yy}$"
      ],
      "text/plain": [
       "<IPython.core.display.Math object>"
      ]
     },
     "metadata": {},
     "output_type": "display_data"
    },
    {
     "data": {
      "text/latex": [
       "$\\displaystyle -9  X_{yx} + 3  Y_{yy}$"
      ],
      "text/plain": [
       "<IPython.core.display.Math object>"
      ]
     },
     "metadata": {},
     "output_type": "display_data"
    },
    {
     "data": {
      "text/latex": [
       "$\\displaystyle -3  X_{xx} + 3  Y_{yx}$"
      ],
      "text/plain": [
       "<IPython.core.display.Math object>"
      ]
     },
     "metadata": {},
     "output_type": "display_data"
    },
    {
     "data": {
      "text/latex": [
       "$\\displaystyle - X_{yyy}$"
      ],
      "text/plain": [
       "<IPython.core.display.Math object>"
      ]
     },
     "metadata": {},
     "output_type": "display_data"
    },
    {
     "data": {
      "text/latex": [
       "$\\displaystyle -3  X_{yyx} +  Y_{yyy}$"
      ],
      "text/plain": [
       "<IPython.core.display.Math object>"
      ]
     },
     "metadata": {},
     "output_type": "display_data"
    },
    {
     "data": {
      "text/latex": [
       "$\\displaystyle -3  X_{yxx} + 3  Y_{yyx}$"
      ],
      "text/plain": [
       "<IPython.core.display.Math object>"
      ]
     },
     "metadata": {},
     "output_type": "display_data"
    },
    {
     "data": {
      "text/latex": [
       "$\\displaystyle -4  X_{y}/y^3 -  X_{xxx} + 3  Y_{yxx}$"
      ],
      "text/plain": [
       "<IPython.core.display.Math object>"
      ]
     },
     "metadata": {},
     "output_type": "display_data"
    },
    {
     "data": {
      "text/latex": [
       "$\\displaystyle -3  X_{x}/y^3 +  Y_{y}/y^3 + 3 Y/y^4 +  Y_{xxx}$"
      ],
      "text/plain": [
       "<IPython.core.display.Math object>"
      ]
     },
     "metadata": {},
     "output_type": "display_data"
    }
   ],
   "source": [
    "# Example 1, (iii)\n",
    "x = var('x')\n",
    "y = function('y')\n",
    "ode = diff(y(x), x,x,x) - 1/y(x)**3\n",
    "jb = overdeterminedSystemODE(ode, y, x,(function('X'), function('Y')))\n",
    "for _ in jb:\n",
    "    display(Math(latexer(_)))"
   ]
  },
  {
   "cell_type": "code",
   "execution_count": null,
   "id": "18c71048-f5ff-42bf-9761-34d5f40bad52",
   "metadata": {},
   "outputs": [],
   "source": []
  }
 ],
 "metadata": {
  "kernelspec": {
   "display_name": "SageMath 9.5",
   "language": "sage",
   "name": "sagemath"
  },
  "language_info": {
   "codemirror_mode": {
    "name": "ipython",
    "version": 3
   },
   "file_extension": ".py",
   "mimetype": "text/x-python",
   "name": "python",
   "nbconvert_exporter": "python",
   "pygments_lexer": "ipython3",
   "version": "3.10.7"
  }
 },
 "nbformat": 4,
 "nbformat_minor": 5
}
