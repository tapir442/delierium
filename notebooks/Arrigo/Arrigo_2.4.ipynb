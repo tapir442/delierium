{
 "cells": [
  {
   "cell_type": "code",
   "execution_count": 5,
   "id": "fe3e535c-cfa8-4467-9605-0d806933298c",
   "metadata": {},
   "outputs": [],
   "source": [
    "from sage.all import *\n",
    "from sage.all import SR"
   ]
  },
  {
   "cell_type": "code",
   "execution_count": 7,
   "id": "fe8abe27-043d-4b17-a35e-d33dd8beb06a",
   "metadata": {},
   "outputs": [
    {
     "name": "stdout",
     "output_type": "stream",
     "text": [
      "Help on built-in function var:\n",
      "\n",
      "var(...) method of sage.symbolic.ring.SymbolicRing instance\n",
      "    SymbolicRing.var(self, name, latex_name=None, n=None, domain=None)\n",
      "    File: sage/symbolic/ring.pyx (starting at line 759)\n",
      "    \n",
      "            Return a symbolic variable as an element of the symbolic ring.\n",
      "    \n",
      "            INPUT:\n",
      "    \n",
      "            - ``name`` -- string or list of strings with the name(s) of the symbolic variable(s)\n",
      "    \n",
      "            - ``latex_name`` -- (optional) string used when printing in latex mode, if not specified use ``'name'``\n",
      "    \n",
      "            - ``n`` -- (optional) positive integer; number of symbolic variables, indexed from `0` to `n-1`\n",
      "    \n",
      "            - ``domain`` -- (optional) specify the domain of the variable(s); it is the complex plane\n",
      "              by default, and possible options are (non-exhaustive list, see note below):\n",
      "              ``'real'``, ``'complex'``, ``'positive'``, ``'integer'`` and ``'noninteger'``\n",
      "    \n",
      "            OUTPUT:\n",
      "    \n",
      "            Symbolic expression or tuple of symbolic expressions.\n",
      "    \n",
      "            .. SEEALSO::\n",
      "    \n",
      "                This function does not inject the variable(s) into the global namespace.\n",
      "                For that purpose see :meth:`var()<sage.calculus.var.var>`.\n",
      "    \n",
      "            .. NOTE::\n",
      "    \n",
      "                For a comprehensive list of acceptable features type ``'maxima('features')'``,\n",
      "                and see also the documentation of :ref:`sage.symbolic.assumptions`.\n",
      "    \n",
      "            EXAMPLES:\n",
      "    \n",
      "            Create a variable `zz` (complex by default)::\n",
      "    \n",
      "                sage: zz = SR.var('zz'); zz\n",
      "                zz\n",
      "    \n",
      "            The return type is a symbolic expression::\n",
      "    \n",
      "                sage: type(zz)\n",
      "                <class 'sage.symbolic.expression.Expression'>\n",
      "    \n",
      "            We can specify the domain as well::\n",
      "    \n",
      "                sage: zz = SR.var('zz', domain='real')\n",
      "                sage: zz.is_real()\n",
      "                True\n",
      "    \n",
      "            The real domain is also set with the integer domain::\n",
      "    \n",
      "                sage: SR.var('x', domain='integer').is_real()\n",
      "                True\n",
      "    \n",
      "            The ``name`` argument does not have to match the left-hand side variable::\n",
      "    \n",
      "                sage: t = SR.var('theta2'); t\n",
      "                theta2\n",
      "    \n",
      "            Automatic indexing is available as well::\n",
      "    \n",
      "                sage: x = SR.var('x', 4)\n",
      "                sage: x[0], x[3]\n",
      "                (x0, x3)\n",
      "                sage: sum(x)\n",
      "                x0 + x1 + x2 + x3\n",
      "    \n",
      "            TESTS::\n",
      "    \n",
      "                sage: var(' x y  z    ')\n",
      "                (x, y, z)\n",
      "                sage: var(' x  ,  y ,  z    ')\n",
      "                (x, y, z)\n",
      "                sage: var(' ')\n",
      "                Traceback (most recent call last):\n",
      "                ...\n",
      "                ValueError: You need to specify the name of the new variable.\n",
      "    \n",
      "                var(['x', 'y ', ' z '])\n",
      "                (x, y, z)\n",
      "                var(['x,y'])\n",
      "                Traceback (most recent call last):\n",
      "                ...\n",
      "                ValueError: The name \"x,y\" is not a valid Python identifier.\n",
      "    \n",
      "            Check that :trac:`17206` is fixed::\n",
      "    \n",
      "                sage: var1 = var('var1', latex_name=r'\\sigma^2_1'); latex(var1)\n",
      "                {\\sigma^2_1}\n",
      "    \n",
      "            The number of variables should be an integer greater or equal than 1::\n",
      "    \n",
      "                sage: SR.var('K', -273)\n",
      "                Traceback (most recent call last):\n",
      "                ...\n",
      "                ValueError: the number of variables should be a positive integer\n",
      "    \n",
      "            The argument ``n`` can only handle a single variable::\n",
      "    \n",
      "                sage: SR.var('x y', 4)\n",
      "                Traceback (most recent call last):\n",
      "                ...\n",
      "                ValueError: cannot specify n for multiple symbol names\n",
      "    \n",
      "            Check that :trac:`28353` is fixed: Constructions that suggest multiple\n",
      "            variables but actually only give one variable name return a 1-tuple::\n",
      "    \n",
      "                sage: SR.var(['x'])\n",
      "                (x,)\n",
      "                sage: SR.var('x,')\n",
      "                (x,)\n",
      "                sage: SR.var(['x'], n=4)\n",
      "                Traceback (most recent call last):\n",
      "                ...\n",
      "                ValueError: cannot specify n for multiple symbol names\n",
      "\n"
     ]
    }
   ],
   "source": [
    "help(SR.var)"
   ]
  },
  {
   "cell_type": "code",
   "execution_count": 9,
   "id": "f4e18920-4bf4-4f3d-b906-7bee653174e1",
   "metadata": {},
   "outputs": [],
   "source": [
    "def infinitesimal_operator(dependent, independent):\n",
    "    F = function(\"F\")(*independent)\n",
    "    return dependent[0]*diff(F, independent[0]) + dependent[1]*diff(F, independent[1])"
   ]
  },
  {
   "cell_type": "code",
   "execution_count": 10,
   "id": "ebab3518-7aca-4a0e-9443-eeb64c267147",
   "metadata": {},
   "outputs": [
    {
     "data": {
      "text/plain": [
       "X(x, y)*diff(F(x, y), x) + Y(x, y)*diff(F(x, y), y)"
      ]
     },
     "execution_count": 10,
     "metadata": {},
     "output_type": "execute_result"
    }
   ],
   "source": [
    "x,y = SR.var('x y')\n",
    "X=function('X')(x,y)\n",
    "Y=function('Y')(x,y)\n",
    "infinitesimal_operator((X,Y), (x,y))"
   ]
  },
  {
   "cell_type": "code",
   "execution_count": 11,
   "id": "dd6f7958-96f3-43e0-9e32-a2a6fb0ec8a5",
   "metadata": {},
   "outputs": [],
   "source": [
    "def gammaN(n,equation):\n",
    "    pass"
   ]
  },
  {
   "cell_type": "code",
   "execution_count": 13,
   "id": "ad4ad6f2-ef4a-409e-b2e8-7ffd0b4e7e51",
   "metadata": {},
   "outputs": [],
   "source": [
    "from sage.symbolic.operators import FDerivativeOperator"
   ]
  },
  {
   "cell_type": "code",
   "execution_count": 19,
   "id": "9231fce5-61cf-4d95-8191-21521a2474ce",
   "metadata": {},
   "outputs": [],
   "source": [
    "class Total_Differential:\n",
    "    def __init__(self, dependent, independent, n=1):\n",
    "        # XXX make F unique!\n",
    "        self.local_Y = function('local_Y')(independent)        \n",
    "        self.local_F = function('local_F')(dependent, self.local_Y)\n",
    "        for i in range(n):\n",
    "            print(i)\n",
    "        self.op = FDerivativeOperator(self.local_F, independent) \n",
    "        self.op += diff(dependent, independent) * FDerivativeOperator(self.local_F, dependent) # XXX replacement!\n",
    "\n",
    "    def subs(self,  f):\n",
    "        return self.op.subst({\"local_F\" : f})\n",
    "        \n",
    "    "
   ]
  },
  {
   "cell_type": "code",
   "execution_count": 20,
   "id": "60df95b0-f713-416f-b331-dd09bea0b85b",
   "metadata": {},
   "outputs": [],
   "source": [
    "x=SR.var('x')\n",
    "y=function('y')(x)"
   ]
  },
  {
   "cell_type": "code",
   "execution_count": 21,
   "id": "0fbe421d-7696-4a2b-8f3d-0e6cc477e0d8",
   "metadata": {},
   "outputs": [
    {
     "name": "stdout",
     "output_type": "stream",
     "text": [
      "0\n"
     ]
    },
    {
     "ename": "TypeError",
     "evalue": "'sage.symbolic.expression.Expression' object is not iterable",
     "output_type": "error",
     "traceback": [
      "\u001b[0;31m---------------------------------------------------------------------------\u001b[0m",
      "\u001b[0;31mTypeError\u001b[0m                                 Traceback (most recent call last)",
      "Cell \u001b[0;32mIn[21], line 1\u001b[0m\n\u001b[0;32m----> 1\u001b[0m td \u001b[38;5;241m=\u001b[39m \u001b[43mTotal_Differential\u001b[49m\u001b[43m(\u001b[49m\u001b[43my\u001b[49m\u001b[43m,\u001b[49m\u001b[43mx\u001b[49m\u001b[43m,\u001b[49m\u001b[43mInteger\u001b[49m\u001b[43m(\u001b[49m\u001b[38;5;241;43m1\u001b[39;49m\u001b[43m)\u001b[49m\u001b[43m)\u001b[49m\n",
      "Cell \u001b[0;32mIn[19], line 8\u001b[0m, in \u001b[0;36mTotal_Differential.__init__\u001b[0;34m(self, dependent, independent, n)\u001b[0m\n\u001b[1;32m      6\u001b[0m \u001b[38;5;28;01mfor\u001b[39;00m i \u001b[38;5;129;01min\u001b[39;00m \u001b[38;5;28mrange\u001b[39m(n):\n\u001b[1;32m      7\u001b[0m     \u001b[38;5;28mprint\u001b[39m(i)\n\u001b[0;32m----> 8\u001b[0m \u001b[38;5;28mself\u001b[39m\u001b[38;5;241m.\u001b[39mop \u001b[38;5;241m=\u001b[39m \u001b[43mFDerivativeOperator\u001b[49m\u001b[43m(\u001b[49m\u001b[38;5;28;43mself\u001b[39;49m\u001b[38;5;241;43m.\u001b[39;49m\u001b[43mlocal_F\u001b[49m\u001b[43m,\u001b[49m\u001b[43m \u001b[49m\u001b[43mindependent\u001b[49m\u001b[43m)\u001b[49m \n\u001b[1;32m      9\u001b[0m \u001b[38;5;28mself\u001b[39m\u001b[38;5;241m.\u001b[39mop \u001b[38;5;241m+\u001b[39m\u001b[38;5;241m=\u001b[39m diff(dependent, independent) \u001b[38;5;241m*\u001b[39m FDerivativeOperator(\u001b[38;5;28mself\u001b[39m\u001b[38;5;241m.\u001b[39mlocal_F, dependent)\n",
      "File \u001b[0;32m~/mambaforge/envs/sage/lib/python3.11/site-packages/sage/symbolic/operators.py:98\u001b[0m, in \u001b[0;36mFDerivativeOperator.__init__\u001b[0;34m(self, function, parameter_set)\u001b[0m\n\u001b[1;32m     86\u001b[0m \u001b[38;5;250m\u001b[39m\u001b[38;5;124mr\u001b[39m\u001b[38;5;124;03m\"\"\"\u001b[39;00m\n\u001b[1;32m     87\u001b[0m \u001b[38;5;124;03mInitialize this function derivative operator.\u001b[39;00m\n\u001b[1;32m     88\u001b[0m \n\u001b[0;32m   (...)\u001b[0m\n\u001b[1;32m     95\u001b[0m \u001b[38;5;124;03m    D[0, 1](foo)\u001b[39;00m\n\u001b[1;32m     96\u001b[0m \u001b[38;5;124;03m\"\"\"\u001b[39;00m\n\u001b[1;32m     97\u001b[0m \u001b[38;5;28mself\u001b[39m\u001b[38;5;241m.\u001b[39m_f \u001b[38;5;241m=\u001b[39m function\n\u001b[0;32m---> 98\u001b[0m \u001b[38;5;28mself\u001b[39m\u001b[38;5;241m.\u001b[39m_parameter_set \u001b[38;5;241m=\u001b[39m [\u001b[38;5;28mint\u001b[39m(_) \u001b[38;5;28;01mfor\u001b[39;00m _ \u001b[38;5;129;01min\u001b[39;00m parameter_set]\n",
      "\u001b[0;31mTypeError\u001b[0m: 'sage.symbolic.expression.Expression' object is not iterable"
     ]
    }
   ],
   "source": [
    "td = Total_Differential(y,x,1)"
   ]
  },
  {
   "cell_type": "code",
   "execution_count": null,
   "id": "57302e7b-c356-4f7c-9e4a-5a1b691909e5",
   "metadata": {},
   "outputs": [],
   "source": []
  }
 ],
 "metadata": {
  "kernelspec": {
   "display_name": "SageMath 10.0",
   "language": "sage",
   "name": "sagemath"
  },
  "language_info": {
   "codemirror_mode": {
    "name": "ipython",
    "version": 3
   },
   "file_extension": ".py",
   "mimetype": "text/x-python",
   "name": "python",
   "nbconvert_exporter": "python",
   "pygments_lexer": "ipython3",
   "version": "3.11.4"
  }
 },
 "nbformat": 4,
 "nbformat_minor": 5
}
