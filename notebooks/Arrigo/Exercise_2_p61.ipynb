{
 "cells": [
  {
   "cell_type": "code",
   "execution_count": 1,
   "id": "d8895570-9d58-43f6-beba-401c9c4315e9",
   "metadata": {
    "tags": []
   },
   "outputs": [
    {
     "data": {
      "text/latex": [
       "$\\displaystyle -15 y^2  X_{y}$"
      ],
      "text/plain": [
       "<IPython.core.display.Math object>"
      ]
     },
     "metadata": {},
     "output_type": "display_data"
    },
    {
     "data": {
      "text/latex": [
       "$\\displaystyle -5 y^2  Y_{x}$"
      ],
      "text/plain": [
       "<IPython.core.display.Math object>"
      ]
     },
     "metadata": {},
     "output_type": "display_data"
    },
    {
     "data": {
      "text/latex": [
       "$\\displaystyle 5 y^2  X_{yy}$"
      ],
      "text/plain": [
       "<IPython.core.display.Math object>"
      ]
     },
     "metadata": {},
     "output_type": "display_data"
    },
    {
     "data": {
      "text/latex": [
       "$\\displaystyle 6 y^2  X_{yx} + y^2  Y_{yy} + 20 y^2  X_{y} y_{x, x}/y_{x} - 3 y  Y_{y} + y^2  X_{xx}/y_{x} + 6 y^2  Y_{yx}/y_{x} + 5 y^2  Y_{xx}/y_{x}^2 - 3 y  Y_{x}/y_{x} + 3 Y$"
      ],
      "text/plain": [
       "<IPython.core.display.Math object>"
      ]
     },
     "metadata": {},
     "output_type": "display_data"
    },
    {
     "data": {
      "text/latex": [
       "$\\displaystyle -7 y^2  X_{y}/y_{x}^2 + 8 y^2  Y_{x}/y_{x}^4$"
      ],
      "text/plain": [
       "<IPython.core.display.Math object>"
      ]
     },
     "metadata": {},
     "output_type": "display_data"
    },
    {
     "data": {
      "text/latex": [
       "$\\displaystyle -3 y^2  X_{yy} + 5 y  X_{y} - 9 y^2  X_{yx}/y_{x} - 3 y^2  X_{xx}/y_{x}^2 - 9 y^2  Y_{yx}/y_{x}^2 + 4 y  Y_{y}/y_{x} - 12 y^2  Y_{xx}/y_{x}^3 - 4 Y/y_{x}$"
      ],
      "text/plain": [
       "<IPython.core.display.Math object>"
      ]
     },
     "metadata": {},
     "output_type": "display_data"
    },
    {
     "data": {
      "text/latex": [
       "$\\displaystyle 5 y^2  X_{yyy} + 10 y  X_{yy}$"
      ],
      "text/plain": [
       "<IPython.core.display.Math object>"
      ]
     },
     "metadata": {},
     "output_type": "display_data"
    },
    {
     "data": {
      "text/latex": [
       "$\\displaystyle 9 y^2  X_{yyx} - y^2  Y_{yyy} + 11 y  X_{yx} - y  Y_{yy} + 2 Y/y - 2  Y_{y}$"
      ],
      "text/plain": [
       "<IPython.core.display.Math object>"
      ]
     },
     "metadata": {},
     "output_type": "display_data"
    },
    {
     "data": {
      "text/latex": [
       "$\\displaystyle 3 y^2  X_{yxx} + 3 y^2  Y_{yyx} + y  X_{xx} + 7 y  Y_{yx} - y^2  X_{xxx}/y_{x} + 9 y^2  Y_{yxx}/y_{x} + 5 y^2  Y_{xxx}/y_{x}^2 + 8 y  Y_{xx}/y_{x} - 2  Y_{x}$"
      ],
      "text/plain": [
       "<IPython.core.display.Math object>"
      ]
     },
     "metadata": {},
     "output_type": "display_data"
    },
    {
     "data": {
      "text/latex": [
       "$\\displaystyle y^2  X_{yyyy} + 3 y  X_{yyy} +  X_{yy}$"
      ],
      "text/plain": [
       "<IPython.core.display.Math object>"
      ]
     },
     "metadata": {},
     "output_type": "display_data"
    },
    {
     "data": {
      "text/latex": [
       "$\\displaystyle 4 y^2  X_{yyyx} - y^2  Y_{yyyy} + 9 y  X_{yyx} - 3 y  Y_{yyy} + 2  X_{yx} -  Y_{yy}$"
      ],
      "text/plain": [
       "<IPython.core.display.Math object>"
      ]
     },
     "metadata": {},
     "output_type": "display_data"
    },
    {
     "data": {
      "text/latex": [
       "$\\displaystyle 6 y^2  X_{yyxx} - 4 y^2  Y_{yyyx} + 9 y  X_{yxx} - 9 y  Y_{yyx} +  X_{xx} - 2  Y_{yx}$"
      ],
      "text/plain": [
       "<IPython.core.display.Math object>"
      ]
     },
     "metadata": {},
     "output_type": "display_data"
    },
    {
     "data": {
      "text/latex": [
       "$\\displaystyle 4 y^2  X_{yxxx} - 6 y^2  Y_{yyxx} + 3 y  X_{xxx} - 9 y  Y_{yxx} -  Y_{xx}$"
      ],
      "text/plain": [
       "<IPython.core.display.Math object>"
      ]
     },
     "metadata": {},
     "output_type": "display_data"
    },
    {
     "data": {
      "text/latex": [
       "$\\displaystyle -y^2  Y_{xxxx}$"
      ],
      "text/plain": [
       "<IPython.core.display.Math object>"
      ]
     },
     "metadata": {},
     "output_type": "display_data"
    },
    {
     "data": {
      "text/latex": [
       "$\\displaystyle y^2  X_{xxxx} - 4 y^2  Y_{yxxx} - 3 y  Y_{xxx}$"
      ],
      "text/plain": [
       "<IPython.core.display.Math object>"
      ]
     },
     "metadata": {},
     "output_type": "display_data"
    }
   ],
   "source": [
    "from delierium.Infinitesimals import overdeterminedSystemODE\n",
    "from IPython.display import Math\n",
    "from delierium.helpers import latexer\n",
    "# Example 1\n",
    "x = var('x')\n",
    "y = function('y')\n",
    "ode = diff(y(x)*diff(y(x), x)* diff((y(x)/diff(y(x), x)), x,x), x)\n",
    "jb = overdeterminedSystemODE(ode, y, x, (function('X'), function('Y')))\n",
    "for _ in jb:\n",
    "    display(Math(latexer(_)))"
   ]
  },
  {
   "cell_type": "code",
   "execution_count": 2,
   "id": "87e1773b-8874-46ac-adca-4d4718998307",
   "metadata": {
    "tags": []
   },
   "outputs": [],
   "source": [
    "eqs = [_ == 0 for _ in jb]"
   ]
  },
  {
   "cell_type": "code",
   "execution_count": 3,
   "id": "a43db33d-3720-4cdd-ad8c-c259676c1d93",
   "metadata": {
    "tags": []
   },
   "outputs": [
    {
     "name": "stdout",
     "output_type": "stream",
     "text": [
      "[-15*y(x)^2*D[0](X)(y(x), x) == 0,\n",
      " -5*y(x)^2*D[1](Y)(y(x), x) == 0,\n",
      " 5*y(x)^2*D[0, 0](X)(y(x), x) == 0,\n",
      " 6*y(x)^2*D[0, 1](X)(y(x), x) + y(x)^2*D[0, 0](Y)(y(x), x) + 20*y(x)^2*D[0](X)(y(x), x)*diff(y(x), x, x)/diff(y(x), x) - 3*y(x)*D[0](Y)(y(x), x) + y(x)^2*D[1, 1](X)(y(x), x)/diff(y(x), x) + 6*y(x)^2*D[0, 1](Y)(y(x), x)/diff(y(x), x) + 5*y(x)^2*D[1, 1](Y)(y(x), x)/diff(y(x), x)^2 - 3*y(x)*D[1](Y)(y(x), x)/diff(y(x), x) + 3*Y(y(x), x) == 0,\n",
      " -7*y(x)^2*D[0](X)(y(x), x)/diff(y(x), x)^2 + 8*y(x)^2*D[1](Y)(y(x), x)/diff(y(x), x)^4 == 0,\n",
      " -3*y(x)^2*D[0, 0](X)(y(x), x) + 5*y(x)*D[0](X)(y(x), x) - 9*y(x)^2*D[0, 1](X)(y(x), x)/diff(y(x), x) - 3*y(x)^2*D[1, 1](X)(y(x), x)/diff(y(x), x)^2 - 9*y(x)^2*D[0, 1](Y)(y(x), x)/diff(y(x), x)^2 + 4*y(x)*D[0](Y)(y(x), x)/diff(y(x), x) - 12*y(x)^2*D[1, 1](Y)(y(x), x)/diff(y(x), x)^3 - 4*Y(y(x), x)/diff(y(x), x) == 0,\n",
      " 5*y(x)^2*D[0, 0, 0](X)(y(x), x) + 10*y(x)*D[0, 0](X)(y(x), x) == 0,\n",
      " 9*y(x)^2*D[0, 0, 1](X)(y(x), x) - y(x)^2*D[0, 0, 0](Y)(y(x), x) + 11*y(x)*D[0, 1](X)(y(x), x) - y(x)*D[0, 0](Y)(y(x), x) + 2*Y(y(x), x)/y(x) - 2*D[0](Y)(y(x), x) == 0,\n",
      " 3*y(x)^2*D[0, 1, 1](X)(y(x), x) + 3*y(x)^2*D[0, 0, 1](Y)(y(x), x) + y(x)*D[1, 1](X)(y(x), x) + 7*y(x)*D[0, 1](Y)(y(x), x) - y(x)^2*D[1, 1, 1](X)(y(x), x)/diff(y(x), x) + 9*y(x)^2*D[0, 1, 1](Y)(y(x), x)/diff(y(x), x) + 5*y(x)^2*D[1, 1, 1](Y)(y(x), x)/diff(y(x), x)^2 + 8*y(x)*D[1, 1](Y)(y(x), x)/diff(y(x), x) - 2*D[1](Y)(y(x), x) == 0,\n",
      " y(x)^2*D[0, 0, 0, 0](X)(y(x), x) + 3*y(x)*D[0, 0, 0](X)(y(x), x) + D[0, 0](X)(y(x), x) == 0,\n",
      " 4*y(x)^2*D[0, 0, 0, 1](X)(y(x), x) - y(x)^2*D[0, 0, 0, 0](Y)(y(x), x) + 9*y(x)*D[0, 0, 1](X)(y(x), x) - 3*y(x)*D[0, 0, 0](Y)(y(x), x) + 2*D[0, 1](X)(y(x), x) - D[0, 0](Y)(y(x), x) == 0,\n",
      " 6*y(x)^2*D[0, 0, 1, 1](X)(y(x), x) - 4*y(x)^2*D[0, 0, 0, 1](Y)(y(x), x) + 9*y(x)*D[0, 1, 1](X)(y(x), x) - 9*y(x)*D[0, 0, 1](Y)(y(x), x) + D[1, 1](X)(y(x), x) - 2*D[0, 1](Y)(y(x), x) == 0,\n",
      " 4*y(x)^2*D[0, 1, 1, 1](X)(y(x), x) - 6*y(x)^2*D[0, 0, 1, 1](Y)(y(x), x) + 3*y(x)*D[1, 1, 1](X)(y(x), x) - 9*y(x)*D[0, 1, 1](Y)(y(x), x) - D[1, 1](Y)(y(x), x) == 0,\n",
      " -y(x)^2*D[1, 1, 1, 1](Y)(y(x), x) == 0,\n",
      " y(x)^2*D[1, 1, 1, 1](X)(y(x), x) - 4*y(x)^2*D[0, 1, 1, 1](Y)(y(x), x) - 3*y(x)*D[1, 1, 1](Y)(y(x), x) == 0]\n"
     ]
    }
   ],
   "source": [
    "from pprint import pprint\n",
    "pprint(eqs)"
   ]
  }
 ],
 "metadata": {
  "kernelspec": {
   "display_name": "SageMath 10.0",
   "language": "sage",
   "name": "sagemath"
  },
  "language_info": {
   "codemirror_mode": {
    "name": "ipython",
    "version": 3
   },
   "file_extension": ".py",
   "mimetype": "text/x-python",
   "name": "python",
   "nbconvert_exporter": "python",
   "pygments_lexer": "ipython3",
   "version": "3.11.6"
  }
 },
 "nbformat": 4,
 "nbformat_minor": 5
}
