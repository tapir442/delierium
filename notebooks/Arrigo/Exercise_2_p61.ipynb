{
 "cells": [
  {
   "cell_type": "code",
   "execution_count": 1,
   "id": "d8895570-9d58-43f6-beba-401c9c4315e9",
   "metadata": {
    "tags": []
   },
   "outputs": [
    {
     "data": {
      "text/latex": [
       "$\\displaystyle -15 y^2  \\xi_{y}$"
      ],
      "text/plain": [
       "<IPython.core.display.Math object>"
      ]
     },
     "metadata": {},
     "output_type": "display_data"
    },
    {
     "data": {
      "text/latex": [
       "$\\displaystyle -5 y^2  \\phi_{x}$"
      ],
      "text/plain": [
       "<IPython.core.display.Math object>"
      ]
     },
     "metadata": {},
     "output_type": "display_data"
    },
    {
     "data": {
      "text/latex": [
       "$\\displaystyle 5 y^2  \\xi_{yy}$"
      ],
      "text/plain": [
       "<IPython.core.display.Math object>"
      ]
     },
     "metadata": {},
     "output_type": "display_data"
    },
    {
     "data": {
      "text/latex": [
       "$\\displaystyle y^2  \\phi_{yy} + 6 y^2  \\xi_{yx} + 20 y^2  \\xi_{y} y_{x, x}/y_{x} - 3 y  \\phi_{y} + 6 y^2  \\phi_{yx}/y_{x} + y^2  \\xi_{xx}/y_{x} + 5 y^2  \\phi_{xx}/y_{x}^2 - 3 y  \\phi_{x}/y_{x} + 3 \\phi$"
      ],
      "text/plain": [
       "<IPython.core.display.Math object>"
      ]
     },
     "metadata": {},
     "output_type": "display_data"
    },
    {
     "data": {
      "text/latex": [
       "$\\displaystyle -7 y^2  \\xi_{y}/y_{x}^2 + 8 y^2  \\phi_{x}/y_{x}^4$"
      ],
      "text/plain": [
       "<IPython.core.display.Math object>"
      ]
     },
     "metadata": {},
     "output_type": "display_data"
    },
    {
     "data": {
      "text/latex": [
       "$\\displaystyle -3 y^2  \\xi_{yy} + 5 y  \\xi_{y} - 9 y^2  \\xi_{yx}/y_{x} - 9 y^2  \\phi_{yx}/y_{x}^2 - 3 y^2  \\xi_{xx}/y_{x}^2 + 4 y  \\phi_{y}/y_{x} - 12 y^2  \\phi_{xx}/y_{x}^3 - 4 \\phi/y_{x}$"
      ],
      "text/plain": [
       "<IPython.core.display.Math object>"
      ]
     },
     "metadata": {},
     "output_type": "display_data"
    },
    {
     "data": {
      "text/latex": [
       "$\\displaystyle 5 y^2  \\xi_{yyy} + 10 y  \\xi_{yy}$"
      ],
      "text/plain": [
       "<IPython.core.display.Math object>"
      ]
     },
     "metadata": {},
     "output_type": "display_data"
    },
    {
     "data": {
      "text/latex": [
       "$\\displaystyle -y^2  \\phi_{yyy} + 9 y^2  \\xi_{yyx} - y  \\phi_{yy} + 11 y  \\xi_{yx} + 2 \\phi/y - 2  \\phi_{y}$"
      ],
      "text/plain": [
       "<IPython.core.display.Math object>"
      ]
     },
     "metadata": {},
     "output_type": "display_data"
    },
    {
     "data": {
      "text/latex": [
       "$\\displaystyle 3 y^2  \\phi_{yyx} + 3 y^2  \\xi_{yxx} + 7 y  \\phi_{yx} + y  \\xi_{xx} + 9 y^2  \\phi_{yxx}/y_{x} - y^2  \\xi_{xxx}/y_{x} + 5 y^2  \\phi_{xxx}/y_{x}^2 + 8 y  \\phi_{xx}/y_{x} - 2  \\phi_{x}$"
      ],
      "text/plain": [
       "<IPython.core.display.Math object>"
      ]
     },
     "metadata": {},
     "output_type": "display_data"
    },
    {
     "data": {
      "text/latex": [
       "$\\displaystyle y^2  \\xi_{yyyy} + 3 y  \\xi_{yyy} +  \\xi_{yy}$"
      ],
      "text/plain": [
       "<IPython.core.display.Math object>"
      ]
     },
     "metadata": {},
     "output_type": "display_data"
    },
    {
     "data": {
      "text/latex": [
       "$\\displaystyle -y^2  \\phi_{yyyy} + 4 y^2  \\xi_{yyyx} - 3 y  \\phi_{yyy} + 9 y  \\xi_{yyx} -  \\phi_{yy} + 2  \\xi_{yx}$"
      ],
      "text/plain": [
       "<IPython.core.display.Math object>"
      ]
     },
     "metadata": {},
     "output_type": "display_data"
    },
    {
     "data": {
      "text/latex": [
       "$\\displaystyle -4 y^2  \\phi_{yyyx} + 6 y^2  \\xi_{yyxx} - 9 y  \\phi_{yyx} + 9 y  \\xi_{yxx} - 2  \\phi_{yx} +  \\xi_{xx}$"
      ],
      "text/plain": [
       "<IPython.core.display.Math object>"
      ]
     },
     "metadata": {},
     "output_type": "display_data"
    },
    {
     "data": {
      "text/latex": [
       "$\\displaystyle -6 y^2  \\phi_{yyxx} + 4 y^2  \\xi_{yxxx} - 9 y  \\phi_{yxx} + 3 y  \\xi_{xxx} -  \\phi_{xx}$"
      ],
      "text/plain": [
       "<IPython.core.display.Math object>"
      ]
     },
     "metadata": {},
     "output_type": "display_data"
    },
    {
     "data": {
      "text/latex": [
       "$\\displaystyle -y^2  \\phi_{xxxx}$"
      ],
      "text/plain": [
       "<IPython.core.display.Math object>"
      ]
     },
     "metadata": {},
     "output_type": "display_data"
    },
    {
     "data": {
      "text/latex": [
       "$\\displaystyle -4 y^2  \\phi_{yxxx} + y^2  \\xi_{xxxx} - 3 y  \\phi_{xxx}$"
      ],
      "text/plain": [
       "<IPython.core.display.Math object>"
      ]
     },
     "metadata": {},
     "output_type": "display_data"
    }
   ],
   "source": [
    "import sys, os\n",
    "sys.path.append(os.path.abspath(\"../..\"))\n",
    "from delierium.Infinitesimals import prolongationODE, infinitesimalsODE, Janet_Basis_from_ODE\n",
    "from IPython.display import Math\n",
    "from delierium.helpers import latexer\n",
    "# Example 1\n",
    "x = var('x')\n",
    "y = function('y')\n",
    "ode = diff(y(x)*diff(y(x), x)* diff((y(x)/diff(y(x), x)), x,x), x)\n",
    "jb = infinitesimalsODE(ode, y, x)\n",
    "for _ in jb:\n",
    "    display(Math(latexer(_)))"
   ]
  },
  {
   "cell_type": "code",
   "execution_count": 2,
   "id": "87e1773b-8874-46ac-adca-4d4718998307",
   "metadata": {
    "tags": []
   },
   "outputs": [],
   "source": [
    "eqs = [_ == 0 for _ in jb]"
   ]
  },
  {
   "cell_type": "code",
   "execution_count": 3,
   "id": "a43db33d-3720-4cdd-ad8c-c259676c1d93",
   "metadata": {
    "tags": []
   },
   "outputs": [
    {
     "name": "stdout",
     "output_type": "stream",
     "text": [
      "[-15*y(x)^2*D[0](xi)(y(x), x) == 0, -5*y(x)^2*D[1](phi)(y(x), x) == 0, 5*y(x)^2*D[0, 0](xi)(y(x), x) == 0, y(x)^2*D[0, 0](phi)(y(x), x) + 6*y(x)^2*D[0, 1](xi)(y(x), x) + 20*y(x)^2*D[0](xi)(y(x), x)*diff(y(x), x, x)/diff(y(x), x) - 3*y(x)*D[0](phi)(y(x), x) + 6*y(x)^2*D[0, 1](phi)(y(x), x)/diff(y(x), x) + y(x)^2*D[1, 1](xi)(y(x), x)/diff(y(x), x) + 5*y(x)^2*D[1, 1](phi)(y(x), x)/diff(y(x), x)^2 - 3*y(x)*D[1](phi)(y(x), x)/diff(y(x), x) + 3*phi(y(x), x) == 0, -7*y(x)^2*D[0](xi)(y(x), x)/diff(y(x), x)^2 + 8*y(x)^2*D[1](phi)(y(x), x)/diff(y(x), x)^4 == 0, -3*y(x)^2*D[0, 0](xi)(y(x), x) + 5*y(x)*D[0](xi)(y(x), x) - 9*y(x)^2*D[0, 1](xi)(y(x), x)/diff(y(x), x) - 9*y(x)^2*D[0, 1](phi)(y(x), x)/diff(y(x), x)^2 - 3*y(x)^2*D[1, 1](xi)(y(x), x)/diff(y(x), x)^2 + 4*y(x)*D[0](phi)(y(x), x)/diff(y(x), x) - 12*y(x)^2*D[1, 1](phi)(y(x), x)/diff(y(x), x)^3 - 4*phi(y(x), x)/diff(y(x), x) == 0, 5*y(x)^2*D[0, 0, 0](xi)(y(x), x) + 10*y(x)*D[0, 0](xi)(y(x), x) == 0, -y(x)^2*D[0, 0, 0](phi)(y(x), x) + 9*y(x)^2*D[0, 0, 1](xi)(y(x), x) - y(x)*D[0, 0](phi)(y(x), x) + 11*y(x)*D[0, 1](xi)(y(x), x) + 2*phi(y(x), x)/y(x) - 2*D[0](phi)(y(x), x) == 0, 3*y(x)^2*D[0, 0, 1](phi)(y(x), x) + 3*y(x)^2*D[0, 1, 1](xi)(y(x), x) + 7*y(x)*D[0, 1](phi)(y(x), x) + y(x)*D[1, 1](xi)(y(x), x) + 9*y(x)^2*D[0, 1, 1](phi)(y(x), x)/diff(y(x), x) - y(x)^2*D[1, 1, 1](xi)(y(x), x)/diff(y(x), x) + 5*y(x)^2*D[1, 1, 1](phi)(y(x), x)/diff(y(x), x)^2 + 8*y(x)*D[1, 1](phi)(y(x), x)/diff(y(x), x) - 2*D[1](phi)(y(x), x) == 0, y(x)^2*D[0, 0, 0, 0](xi)(y(x), x) + 3*y(x)*D[0, 0, 0](xi)(y(x), x) + D[0, 0](xi)(y(x), x) == 0, -y(x)^2*D[0, 0, 0, 0](phi)(y(x), x) + 4*y(x)^2*D[0, 0, 0, 1](xi)(y(x), x) - 3*y(x)*D[0, 0, 0](phi)(y(x), x) + 9*y(x)*D[0, 0, 1](xi)(y(x), x) - D[0, 0](phi)(y(x), x) + 2*D[0, 1](xi)(y(x), x) == 0, -4*y(x)^2*D[0, 0, 0, 1](phi)(y(x), x) + 6*y(x)^2*D[0, 0, 1, 1](xi)(y(x), x) - 9*y(x)*D[0, 0, 1](phi)(y(x), x) + 9*y(x)*D[0, 1, 1](xi)(y(x), x) - 2*D[0, 1](phi)(y(x), x) + D[1, 1](xi)(y(x), x) == 0, -6*y(x)^2*D[0, 0, 1, 1](phi)(y(x), x) + 4*y(x)^2*D[0, 1, 1, 1](xi)(y(x), x) - 9*y(x)*D[0, 1, 1](phi)(y(x), x) + 3*y(x)*D[1, 1, 1](xi)(y(x), x) - D[1, 1](phi)(y(x), x) == 0, -y(x)^2*D[1, 1, 1, 1](phi)(y(x), x) == 0, -4*y(x)^2*D[0, 1, 1, 1](phi)(y(x), x) + y(x)^2*D[1, 1, 1, 1](xi)(y(x), x) - 3*y(x)*D[1, 1, 1](phi)(y(x), x) == 0]\n"
     ]
    }
   ],
   "source": [
    "print(eqs)"
   ]
  },
  {
   "cell_type": "code",
   "execution_count": 5,
   "id": "08e6263a-7274-4099-860c-b1b4c5e0703b",
   "metadata": {
    "tags": []
   },
   "outputs": [],
   "source": [
    "phi, xi = var(\"phi xi\")\n",
    "res=solve(eqs, xi, phi)"
   ]
  },
  {
   "cell_type": "code",
   "execution_count": 6,
   "id": "5d24afb9-ddd6-45d1-bfce-17771abf76fb",
   "metadata": {
    "tags": []
   },
   "outputs": [
    {
     "data": {
      "text/plain": [
       "[]"
      ]
     },
     "execution_count": 6,
     "metadata": {},
     "output_type": "execute_result"
    }
   ],
   "source": [
    "res"
   ]
  },
  {
   "cell_type": "code",
   "execution_count": null,
   "id": "e22fd9a0-3737-47de-8976-c605dbc20812",
   "metadata": {},
   "outputs": [],
   "source": []
  }
 ],
 "metadata": {
  "kernelspec": {
   "display_name": "SageMath 9.8",
   "language": "sage",
   "name": "sagemath"
  },
  "language_info": {
   "codemirror_mode": {
    "name": "ipython",
    "version": 3
   },
   "file_extension": ".py",
   "mimetype": "text/x-python",
   "name": "python",
   "nbconvert_exporter": "python",
   "pygments_lexer": "ipython3",
   "version": "3.9.16"
  }
 },
 "nbformat": 4,
 "nbformat_minor": 5
}
