{
 "cells": [
  {
   "cell_type": "code",
   "execution_count": 2,
   "id": "a4dddcf4-3968-4a26-9355-50eca2a16130",
   "metadata": {},
   "outputs": [],
   "source": [
    "# Baumann  10.5.1\n",
    "x,y,z=var(\"x y z\")\n",
    "\n",
    "u = function('u')(x,y,z)\n",
    "liouville = diff(u, x,x) + diff(u, y,y)+diff(exp(u), z,z)"
   ]
  },
  {
   "cell_type": "code",
   "execution_count": 3,
   "id": "392c1f36-b1f6-4cbf-b6c5-5992b70bbc1d",
   "metadata": {},
   "outputs": [
    {
     "data": {
      "text/html": [
       "<html>\\(\\displaystyle e^{\\left(u\\left(x, y, z\\right)\\right)} \\frac{\\partial}{\\partial z}u\\left(x, y, z\\right)^{2} + e^{\\left(u\\left(x, y, z\\right)\\right)} \\frac{\\partial^{2}}{(\\partial z)^{2}}u\\left(x, y, z\\right) + \\frac{\\partial^{2}}{(\\partial x)^{2}}u\\left(x, y, z\\right) + \\frac{\\partial^{2}}{(\\partial y)^{2}}u\\left(x, y, z\\right)\\)</html>"
      ],
      "text/latex": [
       "$\\displaystyle e^{\\left(u\\left(x, y, z\\right)\\right)} \\frac{\\partial}{\\partial z}u\\left(x, y, z\\right)^{2} + e^{\\left(u\\left(x, y, z\\right)\\right)} \\frac{\\partial^{2}}{(\\partial z)^{2}}u\\left(x, y, z\\right) + \\frac{\\partial^{2}}{(\\partial x)^{2}}u\\left(x, y, z\\right) + \\frac{\\partial^{2}}{(\\partial y)^{2}}u\\left(x, y, z\\right)$"
      ],
      "text/plain": [
       "e^(u(x, y, z))*diff(u(x, y, z), z)^2 + e^(u(x, y, z))*diff(u(x, y, z), z, z) + diff(u(x, y, z), x, x) + diff(u(x, y, z), y, y)"
      ]
     },
     "metadata": {},
     "output_type": "display_data"
    }
   ],
   "source": [
    "liouville.show()"
   ]
  },
  {
   "cell_type": "code",
   "execution_count": 4,
   "id": "d18c8355-9f4c-43bf-99ff-441d9867a70b",
   "metadata": {},
   "outputs": [],
   "source": [
    "from delierium.Infinitesimals import overdeterminedSystemODE\t"
   ]
  },
  {
   "cell_type": "code",
   "execution_count": null,
   "id": "aef90a4b-0f8f-4a89-b991-6e6777d04245",
   "metadata": {},
   "outputs": [
    {
     "name": "stdout",
     "output_type": "stream",
     "text": [
      "> \u001b[0;32m/home/tapir/research-disk/delierium/src/delierium/Infinitesimals.py\u001b[0m(120)\u001b[0;36mprolongationODE\u001b[0;34m()\u001b[0m\n",
      "\u001b[0;32m    118 \u001b[0;31m    \"\"\"\n",
      "\u001b[0m\u001b[0;32m    119 \u001b[0;31m    \u001b[0;32mimport\u001b[0m \u001b[0mpdb\u001b[0m\u001b[0;34m;\u001b[0m \u001b[0mpdb\u001b[0m\u001b[0;34m.\u001b[0m\u001b[0mset_trace\u001b[0m\u001b[0;34m(\u001b[0m\u001b[0;34m)\u001b[0m\u001b[0;34m\u001b[0m\u001b[0;34m\u001b[0m\u001b[0m\n",
      "\u001b[0m\u001b[0;32m--> 120 \u001b[0;31m    \u001b[0mvars\u001b[0m     \u001b[0;34m=\u001b[0m \u001b[0;34m[\u001b[0m\u001b[0mdependent\u001b[0m\u001b[0;34m,\u001b[0m \u001b[0mindependent\u001b[0m\u001b[0;34m]\u001b[0m\u001b[0;34m\u001b[0m\u001b[0;34m\u001b[0m\u001b[0m\n",
      "\u001b[0m\u001b[0;32m    121 \u001b[0;31m    \u001b[0;32mif\u001b[0m \u001b[0minfinitesimals\u001b[0m \u001b[0;32mis\u001b[0m \u001b[0;32mNone\u001b[0m\u001b[0;34m:\u001b[0m\u001b[0;34m\u001b[0m\u001b[0;34m\u001b[0m\u001b[0m\n",
      "\u001b[0m\u001b[0;32m    122 \u001b[0;31m        \u001b[0minfinitesimals\u001b[0m \u001b[0;34m=\u001b[0m \u001b[0;34m(\u001b[0m\u001b[0mfunction\u001b[0m\u001b[0;34m(\u001b[0m\u001b[0;34m\"xi\"\u001b[0m\u001b[0;34m,\u001b[0m \u001b[0mlatex_name\u001b[0m\u001b[0;34m=\u001b[0m\u001b[0;34mr\"\\xi\"\u001b[0m\u001b[0;34m)\u001b[0m\u001b[0;34m,\u001b[0m \u001b[0mfunction\u001b[0m\u001b[0;34m(\u001b[0m\u001b[0;34m\"phi\"\u001b[0m\u001b[0;34m,\u001b[0m \u001b[0mlatex_name\u001b[0m\u001b[0;34m=\u001b[0m\u001b[0;34mr\"\\phi\"\u001b[0m\u001b[0;34m)\u001b[0m\u001b[0;34m)\u001b[0m\u001b[0;34m\u001b[0m\u001b[0;34m\u001b[0m\u001b[0m\n",
      "\u001b[0m\n"
     ]
    },
    {
     "name": "stdin",
     "output_type": "stream",
     "text": [
      "ipdb>  n\n"
     ]
    },
    {
     "name": "stdout",
     "output_type": "stream",
     "text": [
      "> \u001b[0;32m/home/tapir/research-disk/delierium/src/delierium/Infinitesimals.py\u001b[0m(121)\u001b[0;36mprolongationODE\u001b[0;34m()\u001b[0m\n",
      "\u001b[0;32m    119 \u001b[0;31m    \u001b[0;32mimport\u001b[0m \u001b[0mpdb\u001b[0m\u001b[0;34m;\u001b[0m \u001b[0mpdb\u001b[0m\u001b[0;34m.\u001b[0m\u001b[0mset_trace\u001b[0m\u001b[0;34m(\u001b[0m\u001b[0;34m)\u001b[0m\u001b[0;34m\u001b[0m\u001b[0;34m\u001b[0m\u001b[0m\n",
      "\u001b[0m\u001b[0;32m    120 \u001b[0;31m    \u001b[0mvars\u001b[0m     \u001b[0;34m=\u001b[0m \u001b[0;34m[\u001b[0m\u001b[0mdependent\u001b[0m\u001b[0;34m,\u001b[0m \u001b[0mindependent\u001b[0m\u001b[0;34m]\u001b[0m\u001b[0;34m\u001b[0m\u001b[0;34m\u001b[0m\u001b[0m\n",
      "\u001b[0m\u001b[0;32m--> 121 \u001b[0;31m    \u001b[0;32mif\u001b[0m \u001b[0minfinitesimals\u001b[0m \u001b[0;32mis\u001b[0m \u001b[0;32mNone\u001b[0m\u001b[0;34m:\u001b[0m\u001b[0;34m\u001b[0m\u001b[0;34m\u001b[0m\u001b[0m\n",
      "\u001b[0m\u001b[0;32m    122 \u001b[0;31m        \u001b[0minfinitesimals\u001b[0m \u001b[0;34m=\u001b[0m \u001b[0;34m(\u001b[0m\u001b[0mfunction\u001b[0m\u001b[0;34m(\u001b[0m\u001b[0;34m\"xi\"\u001b[0m\u001b[0;34m,\u001b[0m \u001b[0mlatex_name\u001b[0m\u001b[0;34m=\u001b[0m\u001b[0;34mr\"\\xi\"\u001b[0m\u001b[0;34m)\u001b[0m\u001b[0;34m,\u001b[0m \u001b[0mfunction\u001b[0m\u001b[0;34m(\u001b[0m\u001b[0;34m\"phi\"\u001b[0m\u001b[0;34m,\u001b[0m \u001b[0mlatex_name\u001b[0m\u001b[0;34m=\u001b[0m\u001b[0;34mr\"\\phi\"\u001b[0m\u001b[0;34m)\u001b[0m\u001b[0;34m)\u001b[0m\u001b[0;34m\u001b[0m\u001b[0;34m\u001b[0m\u001b[0m\n",
      "\u001b[0m\u001b[0;32m    123 \u001b[0;31m    \u001b[0mxi\u001b[0m\u001b[0;34m,\u001b[0m \u001b[0mphi\u001b[0m  \u001b[0;34m=\u001b[0m \u001b[0minfinitesimals\u001b[0m\u001b[0;34m\u001b[0m\u001b[0;34m\u001b[0m\u001b[0m\n",
      "\u001b[0m\n"
     ]
    },
    {
     "name": "stdin",
     "output_type": "stream",
     "text": [
      "ipdb>  n\n"
     ]
    },
    {
     "name": "stdout",
     "output_type": "stream",
     "text": [
      "> \u001b[0;32m/home/tapir/research-disk/delierium/src/delierium/Infinitesimals.py\u001b[0m(123)\u001b[0;36mprolongationODE\u001b[0;34m()\u001b[0m\n",
      "\u001b[0;32m    121 \u001b[0;31m    \u001b[0;32mif\u001b[0m \u001b[0minfinitesimals\u001b[0m \u001b[0;32mis\u001b[0m \u001b[0;32mNone\u001b[0m\u001b[0;34m:\u001b[0m\u001b[0;34m\u001b[0m\u001b[0;34m\u001b[0m\u001b[0m\n",
      "\u001b[0m\u001b[0;32m    122 \u001b[0;31m        \u001b[0minfinitesimals\u001b[0m \u001b[0;34m=\u001b[0m \u001b[0;34m(\u001b[0m\u001b[0mfunction\u001b[0m\u001b[0;34m(\u001b[0m\u001b[0;34m\"xi\"\u001b[0m\u001b[0;34m,\u001b[0m \u001b[0mlatex_name\u001b[0m\u001b[0;34m=\u001b[0m\u001b[0;34mr\"\\xi\"\u001b[0m\u001b[0;34m)\u001b[0m\u001b[0;34m,\u001b[0m \u001b[0mfunction\u001b[0m\u001b[0;34m(\u001b[0m\u001b[0;34m\"phi\"\u001b[0m\u001b[0;34m,\u001b[0m \u001b[0mlatex_name\u001b[0m\u001b[0;34m=\u001b[0m\u001b[0;34mr\"\\phi\"\u001b[0m\u001b[0;34m)\u001b[0m\u001b[0;34m)\u001b[0m\u001b[0;34m\u001b[0m\u001b[0;34m\u001b[0m\u001b[0m\n",
      "\u001b[0m\u001b[0;32m--> 123 \u001b[0;31m    \u001b[0mxi\u001b[0m\u001b[0;34m,\u001b[0m \u001b[0mphi\u001b[0m  \u001b[0;34m=\u001b[0m \u001b[0minfinitesimals\u001b[0m\u001b[0;34m\u001b[0m\u001b[0;34m\u001b[0m\u001b[0m\n",
      "\u001b[0m\u001b[0;32m    124 \u001b[0;31m    \u001b[0meta\u001b[0m      \u001b[0;34m=\u001b[0m \u001b[0mphi\u001b[0m\u001b[0;34m(\u001b[0m\u001b[0;34m*\u001b[0m\u001b[0mvars\u001b[0m\u001b[0;34m)\u001b[0m \u001b[0;34m-\u001b[0m \u001b[0mxi\u001b[0m\u001b[0;34m(\u001b[0m\u001b[0;34m*\u001b[0m\u001b[0mvars\u001b[0m\u001b[0;34m)\u001b[0m \u001b[0;34m*\u001b[0m \u001b[0mdiff\u001b[0m\u001b[0;34m(\u001b[0m\u001b[0mdependent\u001b[0m\u001b[0;34m(\u001b[0m\u001b[0mindependent\u001b[0m\u001b[0;34m)\u001b[0m\u001b[0;34m,\u001b[0m \u001b[0mindependent\u001b[0m\u001b[0;34m)\u001b[0m\u001b[0;34m\u001b[0m\u001b[0;34m\u001b[0m\u001b[0m\n",
      "\u001b[0m\u001b[0;32m    125 \u001b[0;31m    \u001b[0mtest\u001b[0m     \u001b[0;34m=\u001b[0m \u001b[0mfunction\u001b[0m\u001b[0;34m(\u001b[0m\u001b[0;34m'test'\u001b[0m\u001b[0;34m)\u001b[0m\u001b[0;34m\u001b[0m\u001b[0;34m\u001b[0m\u001b[0m\n",
      "\u001b[0m\n"
     ]
    },
    {
     "name": "stdin",
     "output_type": "stream",
     "text": [
      "ipdb>  n\n"
     ]
    },
    {
     "name": "stdout",
     "output_type": "stream",
     "text": [
      "> \u001b[0;32m/home/tapir/research-disk/delierium/src/delierium/Infinitesimals.py\u001b[0m(124)\u001b[0;36mprolongationODE\u001b[0;34m()\u001b[0m\n",
      "\u001b[0;32m    122 \u001b[0;31m        \u001b[0minfinitesimals\u001b[0m \u001b[0;34m=\u001b[0m \u001b[0;34m(\u001b[0m\u001b[0mfunction\u001b[0m\u001b[0;34m(\u001b[0m\u001b[0;34m\"xi\"\u001b[0m\u001b[0;34m,\u001b[0m \u001b[0mlatex_name\u001b[0m\u001b[0;34m=\u001b[0m\u001b[0;34mr\"\\xi\"\u001b[0m\u001b[0;34m)\u001b[0m\u001b[0;34m,\u001b[0m \u001b[0mfunction\u001b[0m\u001b[0;34m(\u001b[0m\u001b[0;34m\"phi\"\u001b[0m\u001b[0;34m,\u001b[0m \u001b[0mlatex_name\u001b[0m\u001b[0;34m=\u001b[0m\u001b[0;34mr\"\\phi\"\u001b[0m\u001b[0;34m)\u001b[0m\u001b[0;34m)\u001b[0m\u001b[0;34m\u001b[0m\u001b[0;34m\u001b[0m\u001b[0m\n",
      "\u001b[0m\u001b[0;32m    123 \u001b[0;31m    \u001b[0mxi\u001b[0m\u001b[0;34m,\u001b[0m \u001b[0mphi\u001b[0m  \u001b[0;34m=\u001b[0m \u001b[0minfinitesimals\u001b[0m\u001b[0;34m\u001b[0m\u001b[0;34m\u001b[0m\u001b[0m\n",
      "\u001b[0m\u001b[0;32m--> 124 \u001b[0;31m    \u001b[0meta\u001b[0m      \u001b[0;34m=\u001b[0m \u001b[0mphi\u001b[0m\u001b[0;34m(\u001b[0m\u001b[0;34m*\u001b[0m\u001b[0mvars\u001b[0m\u001b[0;34m)\u001b[0m \u001b[0;34m-\u001b[0m \u001b[0mxi\u001b[0m\u001b[0;34m(\u001b[0m\u001b[0;34m*\u001b[0m\u001b[0mvars\u001b[0m\u001b[0;34m)\u001b[0m \u001b[0;34m*\u001b[0m \u001b[0mdiff\u001b[0m\u001b[0;34m(\u001b[0m\u001b[0mdependent\u001b[0m\u001b[0;34m(\u001b[0m\u001b[0mindependent\u001b[0m\u001b[0;34m)\u001b[0m\u001b[0;34m,\u001b[0m \u001b[0mindependent\u001b[0m\u001b[0;34m)\u001b[0m\u001b[0;34m\u001b[0m\u001b[0;34m\u001b[0m\u001b[0m\n",
      "\u001b[0m\u001b[0;32m    125 \u001b[0;31m    \u001b[0mtest\u001b[0m     \u001b[0;34m=\u001b[0m \u001b[0mfunction\u001b[0m\u001b[0;34m(\u001b[0m\u001b[0;34m'test'\u001b[0m\u001b[0;34m)\u001b[0m\u001b[0;34m\u001b[0m\u001b[0;34m\u001b[0m\u001b[0m\n",
      "\u001b[0m\u001b[0;32m    126 \u001b[0;31m    \u001b[0mprolong\u001b[0m  \u001b[0;34m=\u001b[0m \u001b[0mFrechetD\u001b[0m\u001b[0;34m(\u001b[0m\u001b[0;34m[\u001b[0m\u001b[0mequations\u001b[0m\u001b[0;34m]\u001b[0m\u001b[0;34m,\u001b[0m \u001b[0;34m[\u001b[0m\u001b[0mdependent\u001b[0m\u001b[0;34m]\u001b[0m\u001b[0;34m,\u001b[0m \u001b[0;34m[\u001b[0m\u001b[0mindependent\u001b[0m\u001b[0;34m]\u001b[0m\u001b[0;34m,\u001b[0m \u001b[0mtestfunction\u001b[0m\u001b[0;34m=\u001b[0m\u001b[0;34m[\u001b[0m\u001b[0mtest\u001b[0m\u001b[0;34m]\u001b[0m\u001b[0;34m)\u001b[0m\u001b[0;34m\u001b[0m\u001b[0;34m\u001b[0m\u001b[0m\n",
      "\u001b[0m\n"
     ]
    },
    {
     "name": "stdin",
     "output_type": "stream",
     "text": [
      "ipdb>  n\n"
     ]
    },
    {
     "name": "stdout",
     "output_type": "stream",
     "text": [
      "TypeError: cannot coerce arguments: no canonical coercion from <class 'tuple'> to Symbolic Ring\n",
      "> \u001b[0;32m/home/tapir/research-disk/delierium/src/delierium/Infinitesimals.py\u001b[0m(124)\u001b[0;36mprolongationODE\u001b[0;34m()\u001b[0m\n",
      "\u001b[0;32m    122 \u001b[0;31m        \u001b[0minfinitesimals\u001b[0m \u001b[0;34m=\u001b[0m \u001b[0;34m(\u001b[0m\u001b[0mfunction\u001b[0m\u001b[0;34m(\u001b[0m\u001b[0;34m\"xi\"\u001b[0m\u001b[0;34m,\u001b[0m \u001b[0mlatex_name\u001b[0m\u001b[0;34m=\u001b[0m\u001b[0;34mr\"\\xi\"\u001b[0m\u001b[0;34m)\u001b[0m\u001b[0;34m,\u001b[0m \u001b[0mfunction\u001b[0m\u001b[0;34m(\u001b[0m\u001b[0;34m\"phi\"\u001b[0m\u001b[0;34m,\u001b[0m \u001b[0mlatex_name\u001b[0m\u001b[0;34m=\u001b[0m\u001b[0;34mr\"\\phi\"\u001b[0m\u001b[0;34m)\u001b[0m\u001b[0;34m)\u001b[0m\u001b[0;34m\u001b[0m\u001b[0;34m\u001b[0m\u001b[0m\n",
      "\u001b[0m\u001b[0;32m    123 \u001b[0;31m    \u001b[0mxi\u001b[0m\u001b[0;34m,\u001b[0m \u001b[0mphi\u001b[0m  \u001b[0;34m=\u001b[0m \u001b[0minfinitesimals\u001b[0m\u001b[0;34m\u001b[0m\u001b[0;34m\u001b[0m\u001b[0m\n",
      "\u001b[0m\u001b[0;32m--> 124 \u001b[0;31m    \u001b[0meta\u001b[0m      \u001b[0;34m=\u001b[0m \u001b[0mphi\u001b[0m\u001b[0;34m(\u001b[0m\u001b[0;34m*\u001b[0m\u001b[0mvars\u001b[0m\u001b[0;34m)\u001b[0m \u001b[0;34m-\u001b[0m \u001b[0mxi\u001b[0m\u001b[0;34m(\u001b[0m\u001b[0;34m*\u001b[0m\u001b[0mvars\u001b[0m\u001b[0;34m)\u001b[0m \u001b[0;34m*\u001b[0m \u001b[0mdiff\u001b[0m\u001b[0;34m(\u001b[0m\u001b[0mdependent\u001b[0m\u001b[0;34m(\u001b[0m\u001b[0mindependent\u001b[0m\u001b[0;34m)\u001b[0m\u001b[0;34m,\u001b[0m \u001b[0mindependent\u001b[0m\u001b[0;34m)\u001b[0m\u001b[0;34m\u001b[0m\u001b[0;34m\u001b[0m\u001b[0m\n",
      "\u001b[0m\u001b[0;32m    125 \u001b[0;31m    \u001b[0mtest\u001b[0m     \u001b[0;34m=\u001b[0m \u001b[0mfunction\u001b[0m\u001b[0;34m(\u001b[0m\u001b[0;34m'test'\u001b[0m\u001b[0;34m)\u001b[0m\u001b[0;34m\u001b[0m\u001b[0;34m\u001b[0m\u001b[0m\n",
      "\u001b[0m\u001b[0;32m    126 \u001b[0;31m    \u001b[0mprolong\u001b[0m  \u001b[0;34m=\u001b[0m \u001b[0mFrechetD\u001b[0m\u001b[0;34m(\u001b[0m\u001b[0;34m[\u001b[0m\u001b[0mequations\u001b[0m\u001b[0;34m]\u001b[0m\u001b[0;34m,\u001b[0m \u001b[0;34m[\u001b[0m\u001b[0mdependent\u001b[0m\u001b[0;34m]\u001b[0m\u001b[0;34m,\u001b[0m \u001b[0;34m[\u001b[0m\u001b[0mindependent\u001b[0m\u001b[0;34m]\u001b[0m\u001b[0;34m,\u001b[0m \u001b[0mtestfunction\u001b[0m\u001b[0;34m=\u001b[0m\u001b[0;34m[\u001b[0m\u001b[0mtest\u001b[0m\u001b[0;34m]\u001b[0m\u001b[0;34m)\u001b[0m\u001b[0;34m\u001b[0m\u001b[0;34m\u001b[0m\u001b[0m\n",
      "\u001b[0m\n"
     ]
    },
    {
     "name": "stdin",
     "output_type": "stream",
     "text": [
      "ipdb>  locals()\n"
     ]
    },
    {
     "name": "stdout",
     "output_type": "stream",
     "text": [
      "{'equations': e^(u(x, y, z))*diff(u(x, y, z), z)^2 + e^(u(x, y, z))*diff(u(x, y, z), z, z) + diff(u(x, y, z), x, x) + diff(u(x, y, z), y, y), 'dependent': u(x, y, z), 'independent': (x, y, z), 'infinitesimals': (xi, phi), 'pdb': <module 'pdb' from '/home/tapir/mambaforge/envs/sage/lib/python3.11/pdb.py'>, 'vars': [u(x, y, z), (x, y, z)], 'phi': phi, 'xi': xi, '__exception__': (<class 'TypeError'>, TypeError(\"cannot coerce arguments: no canonical coercion from <class 'tuple'> to Symbolic Ring\"))}\n"
     ]
    },
    {
     "name": "stdin",
     "output_type": "stream",
     "text": [
      "ipdb>  diff(dependent, independent)\n"
     ]
    },
    {
     "name": "stdout",
     "output_type": "stream",
     "text": [
      "*** TypeError: no canonical coercion from <class 'tuple'> to Symbolic Ring\n"
     ]
    },
    {
     "name": "stdin",
     "output_type": "stream",
     "text": [
      "ipdb>  diff(dependent, *independent)\n"
     ]
    },
    {
     "name": "stdout",
     "output_type": "stream",
     "text": [
      "diff(u(x, y, z), x, y, z)\n"
     ]
    }
   ],
   "source": [
    "overdeterminedSystemODE(liouville, u, (x,y,z))"
   ]
  },
  {
   "cell_type": "code",
   "execution_count": null,
   "id": "f602c744-35d4-42d3-bc2c-d6a1447223fa",
   "metadata": {},
   "outputs": [],
   "source": []
  }
 ],
 "metadata": {
  "kernelspec": {
   "display_name": "SageMath 10.2",
   "language": "sage",
   "name": "sagemath"
  },
  "language_info": {
   "codemirror_mode": {
    "name": "ipython",
    "version": 3
   },
   "file_extension": ".py",
   "mimetype": "text/x-python",
   "name": "python",
   "nbconvert_exporter": "python",
   "pygments_lexer": "ipython3",
   "version": "3.11.10"
  }
 },
 "nbformat": 4,
 "nbformat_minor": 5
}
