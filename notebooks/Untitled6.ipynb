{
 "cells": [
  {
   "cell_type": "code",
   "execution_count": 1,
   "id": "a7357f3b-650a-4a14-89cb-5aae29358f90",
   "metadata": {},
   "outputs": [],
   "source": [
    "from delierium.Infinitesimals import prolongationODE, overdeterminedSystemODE\n",
    "from delierium.helpers import latexer\n",
    "from delierium.JanetBasis import Janet_Basis, vec_multipliers\n",
    "from delierium.MatrixOrder import Context\n",
    "from delierium.Involution import vec_degree, My_Multiplier\n",
    "from sage.all import *\n",
    "from IPython.core.debugger import set_trace\n",
    "from IPython.display import Math"
   ]
  },
  {
   "cell_type": "code",
   "execution_count": 2,
   "id": "e39ca68c-f27f-46cf-ad35-a2a9a9920ec2",
   "metadata": {},
   "outputs": [],
   "source": [
    "dp1 = (0,0,0,1,1)\n",
    "dp2 = (0,0,1,0,1)\n",
    "dp3 = (0,1,0,0,1)\n",
    "dp4 = (0,0,0,2,0)\n",
    "dp5 = (0,0,1,1,0)\n",
    "dp6 = (0,0,2,0,0)\n",
    "l = [_ for _ in [dp1, dp2,dp3,dp4,dp5,dp6]]\n",
    "mm = My_Multiplier(l)"
   ]
  },
  {
   "cell_type": "code",
   "execution_count": 3,
   "id": "56e0a58b-59b6-46ef-a442-935063044a13",
   "metadata": {},
   "outputs": [
    {
     "data": {
      "text/plain": [
       "{(0, 0, 0, 1, 1): {0, 1, 2, 3, 4},\n",
       " (0, 0, 1, 0, 1): {0, 1, 2, 4},\n",
       " (0, 1, 0, 0, 1): {0, 1, 4},\n",
       " (0, 0, 0, 2, 0): {0, 1, 2, 3},\n",
       " (0, 0, 1, 1, 0): {0, 1, 2},\n",
       " (0, 0, 2, 0, 0): {0, 1, 2}}"
      ]
     },
     "execution_count": 3,
     "metadata": {},
     "output_type": "execute_result"
    }
   ],
   "source": [
    "mm.mults"
   ]
  },
  {
   "cell_type": "code",
   "execution_count": 4,
   "id": "70888d22-ab79-44f4-a770-8c7e9a35d884",
   "metadata": {},
   "outputs": [
    {
     "name": "stdout",
     "output_type": "stream",
     "text": [
      "(0, 0, 0, 1, 1) ([3, 2, 1, 0], [4])\n",
      "(0, 0, 1, 0, 1) ([2, 1, 0], [3, 4])\n",
      "(0, 1, 0, 0, 1) ([1, 0], [2, 3, 4])\n",
      "(0, 0, 0, 2, 0) ([3, 2, 1, 0], [4])\n",
      "(0, 0, 1, 1, 0) ([2, 1, 0], [3, 4])\n",
      "(0, 0, 2, 0, 0) ([2, 1, 0], [3, 4])\n"
     ]
    }
   ],
   "source": [
    "for d in l:\n",
    "    m =  vec_multipliers(d, l, list(range(4,-1,-1)))\n",
    "    print(d, m)"
   ]
  },
  {
   "cell_type": "code",
   "execution_count": 5,
   "id": "63362a77-a8df-440e-b2ce-6dfb4948aa10",
   "metadata": {},
   "outputs": [
    {
     "name": "stdout",
     "output_type": "stream",
     "text": [
      "(0, 0, 0, 1, 1) ([4], [0, 1, 2, 3])\n",
      "(0, 0, 1, 0, 1) ([4], [0, 1, 2, 3])\n",
      "(0, 1, 0, 0, 1) ([1, 2, 3, 4], [0])\n",
      "(0, 0, 0, 2, 0) ([3, 4], [0, 1, 2])\n",
      "(0, 0, 1, 1, 0) ([3, 4], [0, 1, 2])\n",
      "(0, 0, 2, 0, 0) ([2, 3, 4], [0, 1])\n"
     ]
    }
   ],
   "source": [
    "for d in l:\n",
    "    m =  vec_multipliers(d, l, list(range(5)))\n",
    "    print(d, m)"
   ]
  },
  {
   "cell_type": "code",
   "execution_count": 6,
   "id": "b836fe0e-d691-4777-b69c-7a5b13a89d05",
   "metadata": {},
   "outputs": [
    {
     "name": "stdout",
     "output_type": "stream",
     "text": [
      "(1, 0) ([1], [0])\n",
      "(0, 1) ([], [0, 1])\n",
      "(0, 3) ([1], [0])\n"
     ]
    }
   ],
   "source": [
    "l=((1,0),(0,1), (0,3))\n",
    "for d in l:\n",
    "    m =  vec_multipliers(d, l, list(range(2)))\n",
    "    print(d, m)"
   ]
  },
  {
   "cell_type": "code",
   "execution_count": 7,
   "id": "442b88f0-29bc-4c50-bbab-8f6395845516",
   "metadata": {},
   "outputs": [],
   "source": [
    "mm = My_Multiplier(l)"
   ]
  },
  {
   "cell_type": "code",
   "execution_count": 8,
   "id": "15d8e18e-712f-491a-bb7c-880b52c75340",
   "metadata": {},
   "outputs": [
    {
     "data": {
      "text/plain": [
       "{(1, 0): {0}, (0, 1): {0}, (0, 3): {0, 1}}"
      ]
     },
     "execution_count": 8,
     "metadata": {},
     "output_type": "execute_result"
    }
   ],
   "source": [
    "mm.mults"
   ]
  },
  {
   "cell_type": "code",
   "execution_count": 9,
   "id": "708347f2-c4f7-492b-bb93-56a677d82041",
   "metadata": {},
   "outputs": [],
   "source": [
    "dp1 = (0,0,0,1,1)\n",
    "dp2 = (0,0,1,0,1)\n",
    "dp3 = (0,1,0,0,1)\n",
    "dp4 = (0,0,0,2,0)\n",
    "dp5 = (0,0,1,1,0)\n",
    "dp6 = (0,0,2,0,0)\n",
    "l = [_ for _ in [dp1, dp2,dp3,dp4,dp5,dp6]]\n",
    "def deg(i:int, U:list[tuple]):\n",
    "    assert len(U) > 0\n",
    "    assert i < len(U[0])"
   ]
  },
  {
   "cell_type": "code",
   "execution_count": null,
   "id": "80906d14-e906-4651-9b76-5c3e1cf9410e",
   "metadata": {},
   "outputs": [],
   "source": []
  }
 ],
 "metadata": {
  "kernelspec": {
   "display_name": "SageMath 10.0",
   "language": "sage",
   "name": "sagemath"
  },
  "language_info": {
   "codemirror_mode": {
    "name": "ipython",
    "version": 3
   },
   "file_extension": ".py",
   "mimetype": "text/x-python",
   "name": "python",
   "nbconvert_exporter": "python",
   "pygments_lexer": "ipython3",
   "version": "3.11.6"
  }
 },
 "nbformat": 4,
 "nbformat_minor": 5
}
