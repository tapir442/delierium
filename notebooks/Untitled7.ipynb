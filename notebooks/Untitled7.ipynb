{
 "cells": [
  {
   "cell_type": "code",
   "execution_count": 5,
   "id": "3e8f5254-37dd-4b77-aa6a-ac10cb0acd11",
   "metadata": {},
   "outputs": [
    {
     "data": {
      "text/plain": [
       "130.13698630136986"
      ]
     },
     "execution_count": 5,
     "metadata": {},
     "output_type": "execute_result"
    }
   ],
   "source": [
    "9500/73"
   ]
  },
  {
   "cell_type": "code",
   "execution_count": 2,
   "id": "899a3628-fe45-4928-a8e1-6cd3f6fde4d5",
   "metadata": {},
   "outputs": [
    {
     "data": {
      "text/plain": [
       "158.33333333333334"
      ]
     },
     "execution_count": 2,
     "metadata": {},
     "output_type": "execute_result"
    }
   ],
   "source": [
    "9500/60"
   ]
  },
  {
   "cell_type": "code",
   "execution_count": 3,
   "id": "2fbe213e-1517-4430-ae96-dd9882410aec",
   "metadata": {},
   "outputs": [
    {
     "data": {
      "text/plain": [
       "13.166666666666666"
      ]
     },
     "execution_count": 3,
     "metadata": {},
     "output_type": "execute_result"
    }
   ],
   "source": [
    "158/12"
   ]
  },
  {
   "cell_type": "code",
   "execution_count": 6,
   "id": "0cfe3f90-2456-4821-8d04-5499d6a2dfac",
   "metadata": {},
   "outputs": [
    {
     "data": {
      "text/plain": [
       "10.833333333333334"
      ]
     },
     "execution_count": 6,
     "metadata": {},
     "output_type": "execute_result"
    }
   ],
   "source": [
    "130/12"
   ]
  },
  {
   "cell_type": "code",
   "execution_count": null,
   "id": "6f5bbe69-142f-448f-ac3f-b4033f96964e",
   "metadata": {},
   "outputs": [],
   "source": []
  }
 ],
 "metadata": {
  "kernelspec": {
   "display_name": "Python 3 (ipykernel)",
   "language": "python",
   "name": "python3"
  },
  "language_info": {
   "codemirror_mode": {
    "name": "ipython",
    "version": 3
   },
   "file_extension": ".py",
   "mimetype": "text/x-python",
   "name": "python",
   "nbconvert_exporter": "python",
   "pygments_lexer": "ipython3",
   "version": "3.11.6"
  }
 },
 "nbformat": 4,
 "nbformat_minor": 5
}
