{
 "cells": [
  {
   "cell_type": "code",
   "execution_count": 2,
   "id": "e0467589-5671-4c6b-9049-25b67cc87e0f",
   "metadata": {
    "tags": []
   },
   "outputs": [],
   "source": [
    "from delierium.Infinitesimals import prolongationODE, infinitesimalsODE, Janet_Basis_from_ODE\n",
    "from delierium.JanetBasis import Janet_Basis\n",
    "from delierium.helpers import is_derivative, order_of_derivative, eq\n",
    "from delierium.MatrixOrder import Context\n",
    "import functools\n",
    "from operator import mul\n",
    "from pprint import pprint\n",
    "from delierium.helpers import latexer\n",
    "from sage.misc.html import html\n",
    "from IPython.core.debugger import set_trace\n",
    "from IPython.display import Math"
   ]
  },
  {
   "cell_type": "code",
   "execution_count": 7,
   "id": "3cc79c09-c673-4486-af43-5d272f4c4e46",
   "metadata": {
    "tags": []
   },
   "outputs": [
    {
     "data": {
      "text/html": [
       "<html>\\(\\displaystyle \\frac{{\\left(x + 1\\right)} u\\left(x\\right)^{2}}{2 \\, \\sqrt{x u\\left(x\\right) + u\\left(x\\right)}} + 3 \\, u\\left(x\\right)^{2} + 2 \\, \\sqrt{x u\\left(x\\right) + u\\left(x\\right)} u\\left(x\\right) - \\frac{\\partial^{2}}{(\\partial x)^{2}}u\\left(x\\right)\\)</html>"
      ],
      "text/latex": [
       "$\\displaystyle \\frac{{\\left(x + 1\\right)} u\\left(x\\right)^{2}}{2 \\, \\sqrt{x u\\left(x\\right) + u\\left(x\\right)}} + 3 \\, u\\left(x\\right)^{2} + 2 \\, \\sqrt{x u\\left(x\\right) + u\\left(x\\right)} u\\left(x\\right) - \\frac{\\partial^{2}}{(\\partial x)^{2}}u\\left(x\\right)$"
      ],
      "text/plain": [
       "1/2*(x + 1)*u(x)^2/sqrt(x*u(x) + u(x)) + 3*u(x)^2 + 2*sqrt(x*u(x) + u(x))*u(x) - diff(u(x), x, x)"
      ]
     },
     "metadata": {},
     "output_type": "display_data"
    },
    {
     "data": {
      "text/plain": [
       "-(D[0](xi)(y(x), x)*diff(y(x), x) + D[1](xi)(y(x), x))*diff(y(x), x) + D[0](eta)(y(x), x)*diff(y(x), x) + D[1](eta)(y(x), x)"
      ]
     },
     "execution_count": 7,
     "metadata": {},
     "output_type": "execute_result"
    }
   ],
   "source": [
    "#https://ask.sagemath.org/question/7929/computing-variational-derivatives/\n",
    "from sage.all import *\n",
    "import sage.symbolic.operators\n",
    "\n",
    "def is_op_du(expr_op, u):\n",
    "    is_derivative = isinstance(\n",
    "        expr_op,\n",
    "        sage.symbolic.operators.FDerivativeOperator\n",
    "    )\n",
    "\n",
    "    if is_derivative:\n",
    "        # Returns True if the differentiated function is `u`.\n",
    "        return expr_op.function() == u.operator()\n",
    "\n",
    "    else:\n",
    "        return False\n",
    "\n",
    "\n",
    "def iter_du_orders(expr, u):\n",
    "    for sub_expr in expr.operands():\n",
    "        if sub_expr == []:\n",
    "            # hit end of tree\n",
    "            continue\n",
    "\n",
    "        elif is_op_du(sub_expr.operator(), u):\n",
    "            # yield order of differentiation\n",
    "            yield len(sub_expr.operator().parameter_set())\n",
    "\n",
    "        else:\n",
    "            # iterate into sub expression\n",
    "            for order in iter_du_orders(sub_expr, u):\n",
    "                yield order\n",
    "\n",
    "\n",
    "def func_diff(L, u_in):\n",
    "    # `u` must be a callable symbolic expression\n",
    "    # in one variable.\n",
    "    if len(u_in.variables()) == 1:\n",
    "        x = u_in.variables()[0]\n",
    "        u = u_in.function(x)\n",
    "    else:\n",
    "        raise TypeError\n",
    "\n",
    "    # This variable name must not collide\n",
    "    # with an existing one.\n",
    "    # I use an empty string in hopes that\n",
    "    # nobody else does this...\n",
    "    t = SR.symbol()\n",
    "\n",
    "    result = SR(0)\n",
    "\n",
    "    # `orders` is the set of all\n",
    "    # orders of differentiation of `u`\n",
    "    orders = set(iter_du_orders(L, u)).union((0,))\n",
    "\n",
    "    for c in orders:\n",
    "        du = u(x).diff(x, c)\n",
    "        sign = Integer(-1)**c\n",
    "\n",
    "        # Temporarily replace all `c`th derivatives of `u` with `t`;\n",
    "        # differentiate; then substitute back.\n",
    "        dL_du = L.subs({du:t}).diff(t).subs({t:du})\n",
    "\n",
    "        # Append intermediate term to `result`\n",
    "        result += sign * dL_du.diff(x, c)\n",
    "\n",
    "    return result\n",
    "\n",
    "u = function('u')(x)\n",
    "L = u^3 + (1/2)*u.diff(x)^2 + u^2 * sqrt(u + u*x)\n",
    "rr=func_diff(L, u)\n",
    "rr.show()\n",
    "@functools.cache\n",
    "def eta_n(n, f1, f2):\n",
    "    if n == 1:\n",
    "        return func_diff(f1, x) - func_diff(y, x) * func_diff(f2, x)\n",
    "    else:\n",
    "        return func_diff(eta_n(n-1, f1, f2), x) - diff(y, x, n) * func_diff(f2, x)\n",
    "\n",
    "x = var(\"x\")\n",
    "y = function(\"y\")(x)\n",
    "eta=function(\"eta\", latex_name=r\"\\eta\")(y, x)\n",
    "xi=function(\"xi\", latex_name=r\"\\xi\")(y, x)\n",
    "\n",
    "eta_n(1, eta, xi)"
   ]
  },
  {
   "cell_type": "code",
   "execution_count": 4,
   "id": "a55f72d0-5425-43f6-91cc-599e3b7c23dc",
   "metadata": {
    "tags": []
   },
   "outputs": [],
   "source": [
    "r2=[eta_n(k, eta, xi) for k in range(1,11)]"
   ]
  },
  {
   "cell_type": "code",
   "execution_count": 5,
   "id": "579b0839-a74a-4e11-ad74-9a34ef088358",
   "metadata": {
    "tags": []
   },
   "outputs": [
    {
     "name": "stdout",
     "output_type": "stream",
     "text": [
      "4\n",
      "9\n",
      "17\n",
      "29\n",
      "47\n",
      "73\n",
      "110\n",
      "162\n",
      "234\n",
      "332\n"
     ]
    }
   ],
   "source": [
    "for _ in r2:\n",
    "    print(len(_.expand().operands()))"
   ]
  },
  {
   "cell_type": "code",
   "execution_count": 21,
   "id": "c952d629-4eef-46fe-b36d-9aecdf7ebf9d",
   "metadata": {
    "tags": []
   },
   "outputs": [
    {
     "data": {
      "text/html": [
       "<html>\\(\\displaystyle -{\\left(\\mathrm{D}_{0}\\left(\\xi\\right)\\left(y\\left(x\\right), x\\right) \\frac{\\partial}{\\partial x}y\\left(x\\right) + \\mathrm{D}_{1}\\left(\\xi\\right)\\left(y\\left(x\\right), x\\right)\\right)} \\frac{\\partial}{\\partial x}y\\left(x\\right) + \\mathrm{D}_{0}\\left(\\eta\\right)\\left(y\\left(x\\right), x\\right) \\frac{\\partial}{\\partial x}y\\left(x\\right) + \\mathrm{D}_{1}\\left(\\eta\\right)\\left(y\\left(x\\right), x\\right)\\)</html>"
      ],
      "text/latex": [
       "$\\displaystyle -{\\left(\\mathrm{D}_{0}\\left(\\xi\\right)\\left(y\\left(x\\right), x\\right) \\frac{\\partial}{\\partial x}y\\left(x\\right) + \\mathrm{D}_{1}\\left(\\xi\\right)\\left(y\\left(x\\right), x\\right)\\right)} \\frac{\\partial}{\\partial x}y\\left(x\\right) + \\mathrm{D}_{0}\\left(\\eta\\right)\\left(y\\left(x\\right), x\\right) \\frac{\\partial}{\\partial x}y\\left(x\\right) + \\mathrm{D}_{1}\\left(\\eta\\right)\\left(y\\left(x\\right), x\\right)$"
      ],
      "text/plain": [
       "-(D[0](xi)(y(x), x)*diff(y(x), x) + D[1](xi)(y(x), x))*diff(y(x), x) + D[0](eta)(y(x), x)*diff(y(x), x) + D[1](eta)(y(x), x)"
      ]
     },
     "metadata": {},
     "output_type": "display_data"
    }
   ],
   "source": [
    "r2[0].show()"
   ]
  },
  {
   "cell_type": "code",
   "execution_count": null,
   "id": "ac54cc14-8cec-4b88-8760-476289640c0d",
   "metadata": {},
   "outputs": [],
   "source": []
  }
 ],
 "metadata": {
  "kernelspec": {
   "display_name": "SageMath 9.8",
   "language": "sage",
   "name": "sagemath"
  },
  "language_info": {
   "codemirror_mode": {
    "name": "ipython",
    "version": 3
   },
   "file_extension": ".py",
   "mimetype": "text/x-python",
   "name": "python",
   "nbconvert_exporter": "python",
   "pygments_lexer": "ipython3",
   "version": "3.9.16"
  }
 },
 "nbformat": 4,
 "nbformat_minor": 5
}
