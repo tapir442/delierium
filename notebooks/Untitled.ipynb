{
 "cells": [
  {
   "cell_type": "code",
   "execution_count": 9,
   "id": "cacebd88-14fb-4399-8899-9ce033d6233b",
   "metadata": {},
   "outputs": [
    {
     "name": "stdout",
     "output_type": "stream",
     "text": [
      "Requirement already satisfied: line_profiler in /home/tapir/sage/sage-9.8/local/var/lib/sage/venv-python3.10/lib/python3.10/site-packages (4.0.3)\n",
      "\n",
      "\u001b[1m[\u001b[0m\u001b[34;49mnotice\u001b[0m\u001b[1;39;49m]\u001b[0m\u001b[39;49m A new release of pip available: \u001b[0m\u001b[31;49m22.3.1\u001b[0m\u001b[39;49m -> \u001b[0m\u001b[32;49m23.0.1\u001b[0m\n",
      "\u001b[1m[\u001b[0m\u001b[34;49mnotice\u001b[0m\u001b[1;39;49m]\u001b[0m\u001b[39;49m To update, run: \u001b[0m\u001b[32;49mpip install --upgrade pip\u001b[0m\n",
      "Note: you may need to restart the kernel to use updated packages.\n",
      "Collecting snakeviz\n",
      "  Using cached snakeviz-2.1.1-py2.py3-none-any.whl (282 kB)\n",
      "Requirement already satisfied: tornado>=2.0 in /home/tapir/sage/sage-9.8/local/var/lib/sage/venv-python3.10/lib/python3.10/site-packages (from snakeviz) (6.2)\n",
      "Installing collected packages: snakeviz\n",
      "Successfully installed snakeviz-2.1.1\n",
      "\n",
      "\u001b[1m[\u001b[0m\u001b[34;49mnotice\u001b[0m\u001b[1;39;49m]\u001b[0m\u001b[39;49m A new release of pip available: \u001b[0m\u001b[31;49m22.3.1\u001b[0m\u001b[39;49m -> \u001b[0m\u001b[32;49m23.0.1\u001b[0m\n",
      "\u001b[1m[\u001b[0m\u001b[34;49mnotice\u001b[0m\u001b[1;39;49m]\u001b[0m\u001b[39;49m To update, run: \u001b[0m\u001b[32;49mpip install --upgrade pip\u001b[0m\n",
      "Note: you may need to restart the kernel to use updated packages.\n",
      "The line_profiler extension is already loaded. To reload it, use:\n",
      "  %reload_ext line_profiler\n"
     ]
    }
   ],
   "source": [
    "from delierium.Infinitesimals import prolongationODE, overdeterminedSystemODE\n",
    "#from delierium.JanetBasis import Janet_Basis\n",
    "#from delierium.MatrixOrder import Context\n",
    "from delierium.helpers import latexer\n",
    "from sage.misc.html import html\n",
    "from IPython.core.debugger import set_trace\n",
    "from IPython.display import Math\n",
    "\n",
    "%pip install line_profiler  --upgrade\n",
    "%pip install snakeviz --upgrade\n",
    "\n",
    "\n",
    "%load_ext line_profiler\n",
    "%load_ext snakeviz"
   ]
  },
  {
   "cell_type": "code",
   "execution_count": 10,
   "id": "c9437ddd-1eac-4fa2-a813-232f80fcb854",
   "metadata": {},
   "outputs": [
    {
     "data": {
      "text/latex": [
       "$\\displaystyle f_{x, x} y_{x, x} + 2 f_{x} y_{x, x, x} + f y_{x, x, x, x}$"
      ],
      "text/plain": [
       "<IPython.core.display.Math object>"
      ]
     },
     "metadata": {},
     "output_type": "display_data"
    },
    {
     "name": "stdout",
     "output_type": "stream",
     "text": [
      " \n",
      "*** Profile stats marshalled to file '/tmp/tmpcr_00qkx'.\n",
      "Embedding SnakeViz in this document...\n"
     ]
    },
    {
     "data": {
      "text/html": [
       "\n",
       "<iframe id='snakeviz-a2da2b7c-d84f-11ed-91b2-a937fdc90418' frameborder=0 seamless width='100%' height='1000'></iframe>\n",
       "<script>document.getElementById(\"snakeviz-a2da2b7c-d84f-11ed-91b2-a937fdc90418\").setAttribute(\"src\", \"http://\" + document.location.hostname + \":8080/snakeviz/%2Ftmp%2Ftmpcr_00qkx\")</script>\n"
      ],
      "text/plain": [
       "<IPython.core.display.HTML object>"
      ]
     },
     "metadata": {},
     "output_type": "display_data"
    },
    {
     "name": "stdout",
     "output_type": "stream",
     "text": [
      "determining system:\n"
     ]
    },
    {
     "data": {
      "text/latex": [
       "$\\displaystyle 2 xi$"
      ],
      "text/plain": [
       "<IPython.core.display.Math object>"
      ]
     },
     "metadata": {},
     "output_type": "display_data"
    },
    {
     "data": {
      "text/latex": [
       "$\\displaystyle xi$"
      ],
      "text/plain": [
       "<IPython.core.display.Math object>"
      ]
     },
     "metadata": {},
     "output_type": "display_data"
    },
    {
     "data": {
      "text/latex": [
       "$\\displaystyle -10 f  \\xi_{y}$"
      ],
      "text/plain": [
       "<IPython.core.display.Math object>"
      ]
     },
     "metadata": {},
     "output_type": "display_data"
    },
    {
     "data": {
      "text/latex": [
       "$\\displaystyle -10 f  \\xi_{yy}$"
      ],
      "text/plain": [
       "<IPython.core.display.Math object>"
      ]
     },
     "metadata": {},
     "output_type": "display_data"
    },
    {
     "data": {
      "text/latex": [
       "$\\displaystyle 4 f  \\phi_{yy} + 2 f_{x}  \\xi_{y} - 16 f  \\xi_{yx}$"
      ],
      "text/plain": [
       "<IPython.core.display.Math object>"
      ]
     },
     "metadata": {},
     "output_type": "display_data"
    },
    {
     "data": {
      "text/latex": [
       "$\\displaystyle 2  \\xi_{x}$"
      ],
      "text/plain": [
       "<IPython.core.display.Math object>"
      ]
     },
     "metadata": {},
     "output_type": "display_data"
    },
    {
     "data": {
      "text/latex": [
       "$\\displaystyle -2 \\xi f_{x}^2/f + 4 f  \\phi_{yx} - 6 f  \\xi_{xx}$"
      ],
      "text/plain": [
       "<IPython.core.display.Math object>"
      ]
     },
     "metadata": {},
     "output_type": "display_data"
    },
    {
     "data": {
      "text/latex": [
       "$\\displaystyle -6  \\xi_{y}$"
      ],
      "text/plain": [
       "<IPython.core.display.Math object>"
      ]
     },
     "metadata": {},
     "output_type": "display_data"
    },
    {
     "data": {
      "text/latex": [
       "$\\displaystyle -15 f  \\xi_{yy}$"
      ],
      "text/plain": [
       "<IPython.core.display.Math object>"
      ]
     },
     "metadata": {},
     "output_type": "display_data"
    },
    {
     "data": {
      "text/latex": [
       "$\\displaystyle 3 f  \\phi_{yy} - 12 f  \\xi_{yx}$"
      ],
      "text/plain": [
       "<IPython.core.display.Math object>"
      ]
     },
     "metadata": {},
     "output_type": "display_data"
    },
    {
     "data": {
      "text/latex": [
       "$\\displaystyle - \\xi_{yy}$"
      ],
      "text/plain": [
       "<IPython.core.display.Math object>"
      ]
     },
     "metadata": {},
     "output_type": "display_data"
    },
    {
     "data": {
      "text/latex": [
       "$\\displaystyle -10 f  \\xi_{yyy}$"
      ],
      "text/plain": [
       "<IPython.core.display.Math object>"
      ]
     },
     "metadata": {},
     "output_type": "display_data"
    },
    {
     "data": {
      "text/latex": [
       "$\\displaystyle 6 f  \\phi_{yyy} - 12 f_{x}  \\xi_{yy} - 24 f  \\xi_{yyx}$"
      ],
      "text/plain": [
       "<IPython.core.display.Math object>"
      ]
     },
     "metadata": {},
     "output_type": "display_data"
    },
    {
     "data": {
      "text/latex": [
       "$\\displaystyle  \\phi_{yy} - 2  \\xi_{yx}$"
      ],
      "text/plain": [
       "<IPython.core.display.Math object>"
      ]
     },
     "metadata": {},
     "output_type": "display_data"
    },
    {
     "data": {
      "text/latex": [
       "$\\displaystyle 6 f_{x}  \\phi_{yy} + 12 f  \\phi_{yyx} + 2 f_{x, x}  \\xi_{y} - 18 f_{x}  \\xi_{yx} - 18 f  \\xi_{yxx}$"
      ],
      "text/plain": [
       "<IPython.core.display.Math object>"
      ]
     },
     "metadata": {},
     "output_type": "display_data"
    },
    {
     "data": {
      "text/latex": [
       "$\\displaystyle 2  \\phi_{yx} -  \\xi_{xx}$"
      ],
      "text/plain": [
       "<IPython.core.display.Math object>"
      ]
     },
     "metadata": {},
     "output_type": "display_data"
    },
    {
     "data": {
      "text/latex": [
       "$\\displaystyle -\\xi f_{x, x}/f + 6  \\phi_{yx} - 6  \\xi_{xx}$"
      ],
      "text/plain": [
       "<IPython.core.display.Math object>"
      ]
     },
     "metadata": {},
     "output_type": "display_data"
    },
    {
     "data": {
      "text/latex": [
       "$\\displaystyle 6 f  \\phi_{yxx} + 2 f_{x, x}  \\xi_{x} - 4 f  \\xi_{xxx}$"
      ],
      "text/plain": [
       "<IPython.core.display.Math object>"
      ]
     },
     "metadata": {},
     "output_type": "display_data"
    },
    {
     "data": {
      "text/latex": [
       "$\\displaystyle  \\phi_{xx}$"
      ],
      "text/plain": [
       "<IPython.core.display.Math object>"
      ]
     },
     "metadata": {},
     "output_type": "display_data"
    },
    {
     "data": {
      "text/latex": [
       "$\\displaystyle -f  \\xi_{yyyy}$"
      ],
      "text/plain": [
       "<IPython.core.display.Math object>"
      ]
     },
     "metadata": {},
     "output_type": "display_data"
    },
    {
     "data": {
      "text/latex": [
       "$\\displaystyle f  \\phi_{yyyy} - 2 f_{x}  \\xi_{yyy} - 4 f  \\xi_{yyyx}$"
      ],
      "text/plain": [
       "<IPython.core.display.Math object>"
      ]
     },
     "metadata": {},
     "output_type": "display_data"
    },
    {
     "data": {
      "text/latex": [
       "$\\displaystyle 2 f_{x}  \\phi_{yyy} + 4 f  \\phi_{yyyx} - 6 f_{x}  \\xi_{yyx} - 6 f  \\xi_{yyxx}$"
      ],
      "text/plain": [
       "<IPython.core.display.Math object>"
      ]
     },
     "metadata": {},
     "output_type": "display_data"
    },
    {
     "data": {
      "text/latex": [
       "$\\displaystyle 6 f_{x}  \\phi_{yyx} + 6 f  \\phi_{yyxx} - 6 f_{x}  \\xi_{yxx} - 4 f  \\xi_{yxxx}$"
      ],
      "text/plain": [
       "<IPython.core.display.Math object>"
      ]
     },
     "metadata": {},
     "output_type": "display_data"
    },
    {
     "data": {
      "text/latex": [
       "$\\displaystyle 6 f_{x}  \\phi_{yxx} + 4 f  \\phi_{yxxx} - 2 f_{x}  \\xi_{xxx} - f  \\xi_{xxxx}$"
      ],
      "text/plain": [
       "<IPython.core.display.Math object>"
      ]
     },
     "metadata": {},
     "output_type": "display_data"
    },
    {
     "data": {
      "text/latex": [
       "$\\displaystyle 2  \\phi_{xxx}$"
      ],
      "text/plain": [
       "<IPython.core.display.Math object>"
      ]
     },
     "metadata": {},
     "output_type": "display_data"
    },
    {
     "data": {
      "text/latex": [
       "$\\displaystyle f  \\phi_{xxxx}$"
      ],
      "text/plain": [
       "<IPython.core.display.Math object>"
      ]
     },
     "metadata": {},
     "output_type": "display_data"
    }
   ],
   "source": [
    "# Example 2.17\n",
    "x   = var('x')\n",
    "y   = function('y')\n",
    "f = function(\"f\")\n",
    "ode = diff(f(x) * diff(y(x),x,x), x,x)\n",
    "display(Math(latexer(ode)))\n",
    "%snakeviz inf = overdeterminedSystemODE(ode, y, x)\n",
    "print(\"determining system:\")\n",
    "for _ in inf:\n",
    "    display(Math(latexer(_)))\n",
    "#inf = Janet_Basis_from_ODE(ode, y, x)\n",
    "#print(\"AAA\")\n",
    "#print(inf)"
   ]
  },
  {
   "cell_type": "code",
   "execution_count": 12,
   "id": "887a0b00-36d4-49f6-ab45-eccad2d294d7",
   "metadata": {},
   "outputs": [
    {
     "data": {
      "text/latex": [
       "$\\displaystyle x^22 y_{x, x, x, x, x, x, x, x, x, x, x, x, x, x} + f_{x, x} y_{x, x} + 2 f_{x} y_{x, x, x} + f y_{x, x, x, x} - f$"
      ],
      "text/plain": [
       "<IPython.core.display.Math object>"
      ]
     },
     "metadata": {},
     "output_type": "display_data"
    },
    {
     "name": "stdout",
     "output_type": "stream",
     "text": [
      "determining system:\n"
     ]
    },
    {
     "data": {
      "text/latex": [
       "$\\displaystyle -105 x^22  \\xi_{y}$"
      ],
      "text/plain": [
       "<IPython.core.display.Math object>"
      ]
     },
     "metadata": {},
     "output_type": "display_data"
    },
    {
     "data": {
      "text/latex": [
       "$\\displaystyle -105 x^22  \\xi_{yy}$"
      ],
      "text/plain": [
       "<IPython.core.display.Math object>"
      ]
     },
     "metadata": {},
     "output_type": "display_data"
    },
    {
     "data": {
      "text/latex": [
       "$\\displaystyle 14 x^22  \\phi_{yy} - 196 x^22  \\xi_{yx}$"
      ],
      "text/plain": [
       "<IPython.core.display.Math object>"
      ]
     },
     "metadata": {},
     "output_type": "display_data"
    },
    {
     "data": {
      "text/latex": [
       "$\\displaystyle 14 x^22  \\phi_{yx} - 91 x^22  \\xi_{xx}$"
      ],
      "text/plain": [
       "<IPython.core.display.Math object>"
      ]
     },
     "metadata": {},
     "output_type": "display_data"
    },
    {
     "data": {
      "text/latex": [
       "$\\displaystyle -455 x^22  \\xi_{y}$"
      ],
      "text/plain": [
       "<IPython.core.display.Math object>"
      ]
     },
     "metadata": {},
     "output_type": "display_data"
    },
    {
     "data": {
      "text/latex": [
       "$\\displaystyle -1365 x^22  \\xi_{yy}$"
      ],
      "text/plain": [
       "<IPython.core.display.Math object>"
      ]
     },
     "metadata": {},
     "output_type": "display_data"
    },
    {
     "data": {
      "text/latex": [
       "$\\displaystyle 91 x^22  \\phi_{yy} - 1274 x^22  \\xi_{yx}$"
      ],
      "text/plain": [
       "<IPython.core.display.Math object>"
      ]
     },
     "metadata": {},
     "output_type": "display_data"
    },
    {
     "data": {
      "text/latex": [
       "$\\displaystyle -455 x^22  \\xi_{yyy}$"
      ],
      "text/plain": [
       "<IPython.core.display.Math object>"
      ]
     },
     "metadata": {},
     "output_type": "display_data"
    },
    {
     "data": {
      "text/latex": [
       "$\\displaystyle 91 x^22  \\phi_{yyy} - 1274 x^22  \\xi_{yyx}$"
      ],
      "text/plain": [
       "<IPython.core.display.Math object>"
      ]
     },
     "metadata": {},
     "output_type": "display_data"
    },
    {
     "data": {
      "text/latex": [
       "$\\displaystyle 182 x^22  \\phi_{yyx} - 1183 x^22  \\xi_{yxx}$"
      ],
      "text/plain": [
       "<IPython.core.display.Math object>"
      ]
     },
     "metadata": {},
     "output_type": "display_data"
    },
    {
     "data": {
      "text/latex": [
       "$\\displaystyle 91 x^22  \\phi_{yxx} - 364 x^22  \\xi_{xxx}$"
      ],
      "text/plain": [
       "<IPython.core.display.Math object>"
      ]
     },
     "metadata": {},
     "output_type": "display_data"
    },
    {
     "data": {
      "text/latex": [
       "$\\displaystyle -1365 x^22  \\xi_{y}$"
      ],
      "text/plain": [
       "<IPython.core.display.Math object>"
      ]
     },
     "metadata": {},
     "output_type": "display_data"
    },
    {
     "data": {
      "text/latex": [
       "$\\displaystyle -5460 x^22  \\xi_{yy}$"
      ],
      "text/plain": [
       "<IPython.core.display.Math object>"
      ]
     },
     "metadata": {},
     "output_type": "display_data"
    },
    {
     "data": {
      "text/latex": [
       "$\\displaystyle 364 x^22  \\phi_{yy} - 5096 x^22  \\xi_{yx}$"
      ],
      "text/plain": [
       "<IPython.core.display.Math object>"
      ]
     },
     "metadata": {},
     "output_type": "display_data"
    },
    {
     "data": {
      "text/latex": [
       "$\\displaystyle -4095 x^22  \\xi_{yy}$"
      ],
      "text/plain": [
       "<IPython.core.display.Math object>"
      ]
     },
     "metadata": {},
     "output_type": "display_data"
    },
    {
     "data": {
      "text/latex": [
       "$\\displaystyle -8190 x^22  \\xi_{yyy}$"
      ],
      "text/plain": [
       "<IPython.core.display.Math object>"
      ]
     },
     "metadata": {},
     "output_type": "display_data"
    },
    {
     "data": {
      "text/latex": [
       "$\\displaystyle 1092 x^22  \\phi_{yyy} - 15288 x^22  \\xi_{yyx}$"
      ],
      "text/plain": [
       "<IPython.core.display.Math object>"
      ]
     },
     "metadata": {},
     "output_type": "display_data"
    },
    {
     "data": {
      "text/latex": [
       "$\\displaystyle 1092 x^22  \\phi_{yyx} - 7098 x^22  \\xi_{yxx}$"
      ],
      "text/plain": [
       "<IPython.core.display.Math object>"
      ]
     },
     "metadata": {},
     "output_type": "display_data"
    },
    {
     "data": {
      "text/latex": [
       "$\\displaystyle -1365 x^22  \\xi_{yyyy}$"
      ],
      "text/plain": [
       "<IPython.core.display.Math object>"
      ]
     },
     "metadata": {},
     "output_type": "display_data"
    },
    {
     "data": {
      "text/latex": [
       "$\\displaystyle 364 x^22  \\phi_{yyyy} - 5096 x^22  \\xi_{yyyx}$"
      ],
      "text/plain": [
       "<IPython.core.display.Math object>"
      ]
     },
     "metadata": {},
     "output_type": "display_data"
    },
    {
     "data": {
      "text/latex": [
       "$\\displaystyle 1092 x^22  \\phi_{yyyx} - 7098 x^22  \\xi_{yyxx}$"
      ],
      "text/plain": [
       "<IPython.core.display.Math object>"
      ]
     },
     "metadata": {},
     "output_type": "display_data"
    },
    {
     "data": {
      "text/latex": [
       "$\\displaystyle 1092 x^22  \\phi_{yyxx} - 4368 x^22  \\xi_{yxxx}$"
      ],
      "text/plain": [
       "<IPython.core.display.Math object>"
      ]
     },
     "metadata": {},
     "output_type": "display_data"
    },
    {
     "data": {
      "text/latex": [
       "$\\displaystyle 364 x^22  \\phi_{yxxx} - 1001 x^22  \\xi_{xxxx}$"
      ],
      "text/plain": [
       "<IPython.core.display.Math object>"
      ]
     },
     "metadata": {},
     "output_type": "display_data"
    },
    {
     "data": {
      "text/latex": [
       "$\\displaystyle -3003 x^22  \\xi_{y}$"
      ],
      "text/plain": [
       "<IPython.core.display.Math object>"
      ]
     },
     "metadata": {},
     "output_type": "display_data"
    },
    {
     "data": {
      "text/latex": [
       "$\\displaystyle -15015 x^22  \\xi_{yy}$"
      ],
      "text/plain": [
       "<IPython.core.display.Math object>"
      ]
     },
     "metadata": {},
     "output_type": "display_data"
    },
    {
     "data": {
      "text/latex": [
       "$\\displaystyle 1001 x^22  \\phi_{yy} - 14014 x^22  \\xi_{yx}$"
      ],
      "text/plain": [
       "<IPython.core.display.Math object>"
      ]
     },
     "metadata": {},
     "output_type": "display_data"
    },
    {
     "data": {
      "text/latex": [
       "$\\displaystyle -30030 x^22  \\xi_{yy}$"
      ],
      "text/plain": [
       "<IPython.core.display.Math object>"
      ]
     },
     "metadata": {},
     "output_type": "display_data"
    },
    {
     "data": {
      "text/latex": [
       "$\\displaystyle -30030 x^22  \\xi_{yyy}$"
      ],
      "text/plain": [
       "<IPython.core.display.Math object>"
      ]
     },
     "metadata": {},
     "output_type": "display_data"
    },
    {
     "data": {
      "text/latex": [
       "$\\displaystyle 4004 x^22  \\phi_{yyy} - 56056 x^22  \\xi_{yyx}$"
      ],
      "text/plain": [
       "<IPython.core.display.Math object>"
      ]
     },
     "metadata": {},
     "output_type": "display_data"
    },
    {
     "data": {
      "text/latex": [
       "$\\displaystyle 4004 x^22  \\phi_{yyx} - 26026 x^22  \\xi_{yxx}$"
      ],
      "text/plain": [
       "<IPython.core.display.Math object>"
      ]
     },
     "metadata": {},
     "output_type": "display_data"
    },
    {
     "data": {
      "text/latex": [
       "$\\displaystyle -45045 x^22  \\xi_{yyy}$"
      ],
      "text/plain": [
       "<IPython.core.display.Math object>"
      ]
     },
     "metadata": {},
     "output_type": "display_data"
    },
    {
     "data": {
      "text/latex": [
       "$\\displaystyle 3003 x^22  \\phi_{yyy} - 42042 x^22  \\xi_{yyx}$"
      ],
      "text/plain": [
       "<IPython.core.display.Math object>"
      ]
     },
     "metadata": {},
     "output_type": "display_data"
    },
    {
     "data": {
      "text/latex": [
       "$\\displaystyle -30030 x^22  \\xi_{yyyy}$"
      ],
      "text/plain": [
       "<IPython.core.display.Math object>"
      ]
     },
     "metadata": {},
     "output_type": "display_data"
    },
    {
     "data": {
      "text/latex": [
       "$\\displaystyle 6006 x^22  \\phi_{yyyy} - 84084 x^22  \\xi_{yyyx}$"
      ],
      "text/plain": [
       "<IPython.core.display.Math object>"
      ]
     },
     "metadata": {},
     "output_type": "display_data"
    },
    {
     "data": {
      "text/latex": [
       "$\\displaystyle 12012 x^22  \\phi_{yyyx} - 78078 x^22  \\xi_{yyxx}$"
      ],
      "text/plain": [
       "<IPython.core.display.Math object>"
      ]
     },
     "metadata": {},
     "output_type": "display_data"
    },
    {
     "data": {
      "text/latex": [
       "$\\displaystyle 6006 x^22  \\phi_{yyxx} - 24024 x^22  \\xi_{yxxx}$"
      ],
      "text/plain": [
       "<IPython.core.display.Math object>"
      ]
     },
     "metadata": {},
     "output_type": "display_data"
    },
    {
     "data": {
      "text/latex": [
       "$\\displaystyle -3003 x^22  \\xi_{yyyyy}$"
      ],
      "text/plain": [
       "<IPython.core.display.Math object>"
      ]
     },
     "metadata": {},
     "output_type": "display_data"
    },
    {
     "data": {
      "text/latex": [
       "$\\displaystyle 1001 x^22  \\phi_{yyyyy} - 14014 x^22  \\xi_{yyyyx}$"
      ],
      "text/plain": [
       "<IPython.core.display.Math object>"
      ]
     },
     "metadata": {},
     "output_type": "display_data"
    },
    {
     "data": {
      "text/latex": [
       "$\\displaystyle 4004 x^22  \\phi_{yyyyx} - 26026 x^22  \\xi_{yyyxx}$"
      ],
      "text/plain": [
       "<IPython.core.display.Math object>"
      ]
     },
     "metadata": {},
     "output_type": "display_data"
    },
    {
     "data": {
      "text/latex": [
       "$\\displaystyle 6006 x^22  \\phi_{yyyxx} - 24024 x^22  \\xi_{yyxxx}$"
      ],
      "text/plain": [
       "<IPython.core.display.Math object>"
      ]
     },
     "metadata": {},
     "output_type": "display_data"
    },
    {
     "data": {
      "text/latex": [
       "$\\displaystyle 4004 x^22  \\phi_{yyxxx} - 11011 x^22  \\xi_{yxxxx}$"
      ],
      "text/plain": [
       "<IPython.core.display.Math object>"
      ]
     },
     "metadata": {},
     "output_type": "display_data"
    },
    {
     "data": {
      "text/latex": [
       "$\\displaystyle 1001 x^22  \\phi_{yxxxx} - 2002 x^22  \\xi_{xxxxx}$"
      ],
      "text/plain": [
       "<IPython.core.display.Math object>"
      ]
     },
     "metadata": {},
     "output_type": "display_data"
    },
    {
     "data": {
      "text/latex": [
       "$\\displaystyle -5005 x^22  \\xi_{y}$"
      ],
      "text/plain": [
       "<IPython.core.display.Math object>"
      ]
     },
     "metadata": {},
     "output_type": "display_data"
    },
    {
     "data": {
      "text/latex": [
       "$\\displaystyle -30030 x^22  \\xi_{yy}$"
      ],
      "text/plain": [
       "<IPython.core.display.Math object>"
      ]
     },
     "metadata": {},
     "output_type": "display_data"
    },
    {
     "data": {
      "text/latex": [
       "$\\displaystyle 2002 x^22  \\phi_{yy} - 28028 x^22  \\xi_{yx}$"
      ],
      "text/plain": [
       "<IPython.core.display.Math object>"
      ]
     },
     "metadata": {},
     "output_type": "display_data"
    },
    {
     "data": {
      "text/latex": [
       "$\\displaystyle -75075 x^22  \\xi_{yy}$"
      ],
      "text/plain": [
       "<IPython.core.display.Math object>"
      ]
     },
     "metadata": {},
     "output_type": "display_data"
    },
    {
     "data": {
      "text/latex": [
       "$\\displaystyle -75075 x^22  \\xi_{yyy}$"
      ],
      "text/plain": [
       "<IPython.core.display.Math object>"
      ]
     },
     "metadata": {},
     "output_type": "display_data"
    },
    {
     "data": {
      "text/latex": [
       "$\\displaystyle 10010 x^22  \\phi_{yyy} - 140140 x^22  \\xi_{yyx}$"
      ],
      "text/plain": [
       "<IPython.core.display.Math object>"
      ]
     },
     "metadata": {},
     "output_type": "display_data"
    },
    {
     "data": {
      "text/latex": [
       "$\\displaystyle 10010 x^22  \\phi_{yyx} - 65065 x^22  \\xi_{yxx}$"
      ],
      "text/plain": [
       "<IPython.core.display.Math object>"
      ]
     },
     "metadata": {},
     "output_type": "display_data"
    },
    {
     "data": {
      "text/latex": [
       "$\\displaystyle -50050 x^22  \\xi_{yy}$"
      ],
      "text/plain": [
       "<IPython.core.display.Math object>"
      ]
     },
     "metadata": {},
     "output_type": "display_data"
    },
    {
     "data": {
      "text/latex": [
       "$\\displaystyle -300300 x^22  \\xi_{yyy}$"
      ],
      "text/plain": [
       "<IPython.core.display.Math object>"
      ]
     },
     "metadata": {},
     "output_type": "display_data"
    },
    {
     "data": {
      "text/latex": [
       "$\\displaystyle 20020 x^22  \\phi_{yyy} - 280280 x^22  \\xi_{yyx}$"
      ],
      "text/plain": [
       "<IPython.core.display.Math object>"
      ]
     },
     "metadata": {},
     "output_type": "display_data"
    },
    {
     "data": {
      "text/latex": [
       "$\\displaystyle -100100 x^22  \\xi_{yyyy}$"
      ],
      "text/plain": [
       "<IPython.core.display.Math object>"
      ]
     },
     "metadata": {},
     "output_type": "display_data"
    },
    {
     "data": {
      "text/latex": [
       "$\\displaystyle 20020 x^22  \\phi_{yyyy} - 280280 x^22  \\xi_{yyyx}$"
      ],
      "text/plain": [
       "<IPython.core.display.Math object>"
      ]
     },
     "metadata": {},
     "output_type": "display_data"
    },
    {
     "data": {
      "text/latex": [
       "$\\displaystyle 40040 x^22  \\phi_{yyyx} - 260260 x^22  \\xi_{yyxx}$"
      ],
      "text/plain": [
       "<IPython.core.display.Math object>"
      ]
     },
     "metadata": {},
     "output_type": "display_data"
    },
    {
     "data": {
      "text/latex": [
       "$\\displaystyle 20020 x^22  \\phi_{yyxx} - 80080 x^22  \\xi_{yxxx}$"
      ],
      "text/plain": [
       "<IPython.core.display.Math object>"
      ]
     },
     "metadata": {},
     "output_type": "display_data"
    },
    {
     "data": {
      "text/latex": [
       "$\\displaystyle -75075 x^22  \\xi_{yyy}$"
      ],
      "text/plain": [
       "<IPython.core.display.Math object>"
      ]
     },
     "metadata": {},
     "output_type": "display_data"
    },
    {
     "data": {
      "text/latex": [
       "$\\displaystyle -225225 x^22  \\xi_{yyyy}$"
      ],
      "text/plain": [
       "<IPython.core.display.Math object>"
      ]
     },
     "metadata": {},
     "output_type": "display_data"
    },
    {
     "data": {
      "text/latex": [
       "$\\displaystyle 30030 x^22  \\phi_{yyyy} - 420420 x^22  \\xi_{yyyx}$"
      ],
      "text/plain": [
       "<IPython.core.display.Math object>"
      ]
     },
     "metadata": {},
     "output_type": "display_data"
    },
    {
     "data": {
      "text/latex": [
       "$\\displaystyle 30030 x^22  \\phi_{yyyx} - 195195 x^22  \\xi_{yyxx}$"
      ],
      "text/plain": [
       "<IPython.core.display.Math object>"
      ]
     },
     "metadata": {},
     "output_type": "display_data"
    },
    {
     "data": {
      "text/latex": [
       "$\\displaystyle -75075 x^22  \\xi_{yyyyy}$"
      ],
      "text/plain": [
       "<IPython.core.display.Math object>"
      ]
     },
     "metadata": {},
     "output_type": "display_data"
    },
    {
     "data": {
      "text/latex": [
       "$\\displaystyle 20020 x^22  \\phi_{yyyyy} - 280280 x^22  \\xi_{yyyyx}$"
      ],
      "text/plain": [
       "<IPython.core.display.Math object>"
      ]
     },
     "metadata": {},
     "output_type": "display_data"
    },
    {
     "data": {
      "text/latex": [
       "$\\displaystyle 60060 x^22  \\phi_{yyyyx} - 390390 x^22  \\xi_{yyyxx}$"
      ],
      "text/plain": [
       "<IPython.core.display.Math object>"
      ]
     },
     "metadata": {},
     "output_type": "display_data"
    },
    {
     "data": {
      "text/latex": [
       "$\\displaystyle 60060 x^22  \\phi_{yyyxx} - 240240 x^22  \\xi_{yyxxx}$"
      ],
      "text/plain": [
       "<IPython.core.display.Math object>"
      ]
     },
     "metadata": {},
     "output_type": "display_data"
    },
    {
     "data": {
      "text/latex": [
       "$\\displaystyle 20020 x^22  \\phi_{yyxxx} - 55055 x^22  \\xi_{yxxxx}$"
      ],
      "text/plain": [
       "<IPython.core.display.Math object>"
      ]
     },
     "metadata": {},
     "output_type": "display_data"
    },
    {
     "data": {
      "text/latex": [
       "$\\displaystyle -5005 x^22  \\xi_{yyyyyy}$"
      ],
      "text/plain": [
       "<IPython.core.display.Math object>"
      ]
     },
     "metadata": {},
     "output_type": "display_data"
    },
    {
     "data": {
      "text/latex": [
       "$\\displaystyle 2002 x^22  \\phi_{yyyyyy} - 28028 x^22  \\xi_{yyyyyx}$"
      ],
      "text/plain": [
       "<IPython.core.display.Math object>"
      ]
     },
     "metadata": {},
     "output_type": "display_data"
    },
    {
     "data": {
      "text/latex": [
       "$\\displaystyle 10010 x^22  \\phi_{yyyyyx} - 65065 x^22  \\xi_{yyyyxx}$"
      ],
      "text/plain": [
       "<IPython.core.display.Math object>"
      ]
     },
     "metadata": {},
     "output_type": "display_data"
    },
    {
     "data": {
      "text/latex": [
       "$\\displaystyle 20020 x^22  \\phi_{yyyyxx} - 80080 x^22  \\xi_{yyyxxx}$"
      ],
      "text/plain": [
       "<IPython.core.display.Math object>"
      ]
     },
     "metadata": {},
     "output_type": "display_data"
    },
    {
     "data": {
      "text/latex": [
       "$\\displaystyle 20020 x^22  \\phi_{yyyxxx} - 55055 x^22  \\xi_{yyxxxx}$"
      ],
      "text/plain": [
       "<IPython.core.display.Math object>"
      ]
     },
     "metadata": {},
     "output_type": "display_data"
    },
    {
     "data": {
      "text/latex": [
       "$\\displaystyle 10010 x^22  \\phi_{yyxxxx} - 20020 x^22  \\xi_{yxxxxx}$"
      ],
      "text/plain": [
       "<IPython.core.display.Math object>"
      ]
     },
     "metadata": {},
     "output_type": "display_data"
    },
    {
     "data": {
      "text/latex": [
       "$\\displaystyle 2002 x^22  \\phi_{yxxxxx} - 3003 x^22  \\xi_{xxxxxx}$"
      ],
      "text/plain": [
       "<IPython.core.display.Math object>"
      ]
     },
     "metadata": {},
     "output_type": "display_data"
    },
    {
     "data": {
      "text/latex": [
       "$\\displaystyle -6435 x^22  \\xi_{y}$"
      ],
      "text/plain": [
       "<IPython.core.display.Math object>"
      ]
     },
     "metadata": {},
     "output_type": "display_data"
    },
    {
     "data": {
      "text/latex": [
       "$\\displaystyle -45045 x^22  \\xi_{yy}$"
      ],
      "text/plain": [
       "<IPython.core.display.Math object>"
      ]
     },
     "metadata": {},
     "output_type": "display_data"
    },
    {
     "data": {
      "text/latex": [
       "$\\displaystyle 3003 x^22  \\phi_{yy} - 42042 x^22  \\xi_{yx}$"
      ],
      "text/plain": [
       "<IPython.core.display.Math object>"
      ]
     },
     "metadata": {},
     "output_type": "display_data"
    },
    {
     "data": {
      "text/latex": [
       "$\\displaystyle -135135 x^22  \\xi_{yy}$"
      ],
      "text/plain": [
       "<IPython.core.display.Math object>"
      ]
     },
     "metadata": {},
     "output_type": "display_data"
    },
    {
     "data": {
      "text/latex": [
       "$\\displaystyle -135135 x^22  \\xi_{yyy}$"
      ],
      "text/plain": [
       "<IPython.core.display.Math object>"
      ]
     },
     "metadata": {},
     "output_type": "display_data"
    },
    {
     "data": {
      "text/latex": [
       "$\\displaystyle 18018 x^22  \\phi_{yyy} - 252252 x^22  \\xi_{yyx}$"
      ],
      "text/plain": [
       "<IPython.core.display.Math object>"
      ]
     },
     "metadata": {},
     "output_type": "display_data"
    },
    {
     "data": {
      "text/latex": [
       "$\\displaystyle 18018 x^22  \\phi_{yyx} - 117117 x^22  \\xi_{yxx}$"
      ],
      "text/plain": [
       "<IPython.core.display.Math object>"
      ]
     },
     "metadata": {},
     "output_type": "display_data"
    },
    {
     "data": {
      "text/latex": [
       "$\\displaystyle -225225 x^22  \\xi_{yy}$"
      ],
      "text/plain": [
       "<IPython.core.display.Math object>"
      ]
     },
     "metadata": {},
     "output_type": "display_data"
    },
    {
     "data": {
      "text/latex": [
       "$\\displaystyle -675675 x^22  \\xi_{yyy}$"
      ],
      "text/plain": [
       "<IPython.core.display.Math object>"
      ]
     },
     "metadata": {},
     "output_type": "display_data"
    },
    {
     "data": {
      "text/latex": [
       "$\\displaystyle 45045 x^22  \\phi_{yyy} - 630630 x^22  \\xi_{yyx}$"
      ],
      "text/plain": [
       "<IPython.core.display.Math object>"
      ]
     },
     "metadata": {},
     "output_type": "display_data"
    },
    {
     "data": {
      "text/latex": [
       "$\\displaystyle -225225 x^22  \\xi_{yyyy}$"
      ],
      "text/plain": [
       "<IPython.core.display.Math object>"
      ]
     },
     "metadata": {},
     "output_type": "display_data"
    },
    {
     "data": {
      "text/latex": [
       "$\\displaystyle 45045 x^22  \\phi_{yyyy} - 630630 x^22  \\xi_{yyyx}$"
      ],
      "text/plain": [
       "<IPython.core.display.Math object>"
      ]
     },
     "metadata": {},
     "output_type": "display_data"
    },
    {
     "data": {
      "text/latex": [
       "$\\displaystyle 90090 x^22  \\phi_{yyyx} - 585585 x^22  \\xi_{yyxx}$"
      ],
      "text/plain": [
       "<IPython.core.display.Math object>"
      ]
     },
     "metadata": {},
     "output_type": "display_data"
    },
    {
     "data": {
      "text/latex": [
       "$\\displaystyle 45045 x^22  \\phi_{yyxx} - 180180 x^22  \\xi_{yxxx}$"
      ],
      "text/plain": [
       "<IPython.core.display.Math object>"
      ]
     },
     "metadata": {},
     "output_type": "display_data"
    },
    {
     "data": {
      "text/latex": [
       "$\\displaystyle -450450 x^22  \\xi_{yyy}$"
      ],
      "text/plain": [
       "<IPython.core.display.Math object>"
      ]
     },
     "metadata": {},
     "output_type": "display_data"
    },
    {
     "data": {
      "text/latex": [
       "$\\displaystyle 30030 x^22  \\phi_{yyy} - 420420 x^22  \\xi_{yyx}$"
      ],
      "text/plain": [
       "<IPython.core.display.Math object>"
      ]
     },
     "metadata": {},
     "output_type": "display_data"
    },
    {
     "data": {
      "text/latex": [
       "$\\displaystyle -675675 x^22  \\xi_{yyy}$"
      ],
      "text/plain": [
       "<IPython.core.display.Math object>"
      ]
     },
     "metadata": {},
     "output_type": "display_data"
    },
    {
     "data": {
      "text/latex": [
       "$\\displaystyle -1351350 x^22  \\xi_{yyyy}$"
      ],
      "text/plain": [
       "<IPython.core.display.Math object>"
      ]
     },
     "metadata": {},
     "output_type": "display_data"
    },
    {
     "data": {
      "text/latex": [
       "$\\displaystyle 180180 x^22  \\phi_{yyyy} - 2522520 x^22  \\xi_{yyyx}$"
      ],
      "text/plain": [
       "<IPython.core.display.Math object>"
      ]
     },
     "metadata": {},
     "output_type": "display_data"
    },
    {
     "data": {
      "text/latex": [
       "$\\displaystyle 180180 x^22  \\phi_{yyyx} - 1171170 x^22  \\xi_{yyxx}$"
      ],
      "text/plain": [
       "<IPython.core.display.Math object>"
      ]
     },
     "metadata": {},
     "output_type": "display_data"
    },
    {
     "data": {
      "text/latex": [
       "$\\displaystyle -225225 x^22  \\xi_{yyyyy}$"
      ],
      "text/plain": [
       "<IPython.core.display.Math object>"
      ]
     },
     "metadata": {},
     "output_type": "display_data"
    },
    {
     "data": {
      "text/latex": [
       "$\\displaystyle 60060 x^22  \\phi_{yyyyy} - 840840 x^22  \\xi_{yyyyx}$"
      ],
      "text/plain": [
       "<IPython.core.display.Math object>"
      ]
     },
     "metadata": {},
     "output_type": "display_data"
    },
    {
     "data": {
      "text/latex": [
       "$\\displaystyle 180180 x^22  \\phi_{yyyyx} - 1171170 x^22  \\xi_{yyyxx}$"
      ],
      "text/plain": [
       "<IPython.core.display.Math object>"
      ]
     },
     "metadata": {},
     "output_type": "display_data"
    },
    {
     "data": {
      "text/latex": [
       "$\\displaystyle 180180 x^22  \\phi_{yyyxx} - 720720 x^22  \\xi_{yyxxx}$"
      ],
      "text/plain": [
       "<IPython.core.display.Math object>"
      ]
     },
     "metadata": {},
     "output_type": "display_data"
    },
    {
     "data": {
      "text/latex": [
       "$\\displaystyle 60060 x^22  \\phi_{yyxxx} - 165165 x^22  \\xi_{yxxxx}$"
      ],
      "text/plain": [
       "<IPython.core.display.Math object>"
      ]
     },
     "metadata": {},
     "output_type": "display_data"
    },
    {
     "data": {
      "text/latex": [
       "$\\displaystyle -675675 x^22  \\xi_{yyyy}$"
      ],
      "text/plain": [
       "<IPython.core.display.Math object>"
      ]
     },
     "metadata": {},
     "output_type": "display_data"
    },
    {
     "data": {
      "text/latex": [
       "$\\displaystyle 45045 x^22  \\phi_{yyyy} - 630630 x^22  \\xi_{yyyx}$"
      ],
      "text/plain": [
       "<IPython.core.display.Math object>"
      ]
     },
     "metadata": {},
     "output_type": "display_data"
    },
    {
     "data": {
      "text/latex": [
       "$\\displaystyle -675675 x^22  \\xi_{yyyyy}$"
      ],
      "text/plain": [
       "<IPython.core.display.Math object>"
      ]
     },
     "metadata": {},
     "output_type": "display_data"
    },
    {
     "data": {
      "text/latex": [
       "$\\displaystyle 135135 x^22  \\phi_{yyyyy} - 1891890 x^22  \\xi_{yyyyx}$"
      ],
      "text/plain": [
       "<IPython.core.display.Math object>"
      ]
     },
     "metadata": {},
     "output_type": "display_data"
    },
    {
     "data": {
      "text/latex": [
       "$\\displaystyle 270270 x^22  \\phi_{yyyyx} - 1756755 x^22  \\xi_{yyyxx}$"
      ],
      "text/plain": [
       "<IPython.core.display.Math object>"
      ]
     },
     "metadata": {},
     "output_type": "display_data"
    },
    {
     "data": {
      "text/latex": [
       "$\\displaystyle 135135 x^22  \\phi_{yyyxx} - 540540 x^22  \\xi_{yyxxx}$"
      ],
      "text/plain": [
       "<IPython.core.display.Math object>"
      ]
     },
     "metadata": {},
     "output_type": "display_data"
    },
    {
     "data": {
      "text/latex": [
       "$\\displaystyle -135135 x^22  \\xi_{yyyyyy}$"
      ],
      "text/plain": [
       "<IPython.core.display.Math object>"
      ]
     },
     "metadata": {},
     "output_type": "display_data"
    },
    {
     "data": {
      "text/latex": [
       "$\\displaystyle 45045 x^22  \\phi_{yyyyyy} - 630630 x^22  \\xi_{yyyyyx}$"
      ],
      "text/plain": [
       "<IPython.core.display.Math object>"
      ]
     },
     "metadata": {},
     "output_type": "display_data"
    },
    {
     "data": {
      "text/latex": [
       "$\\displaystyle 180180 x^22  \\phi_{yyyyyx} - 1171170 x^22  \\xi_{yyyyxx}$"
      ],
      "text/plain": [
       "<IPython.core.display.Math object>"
      ]
     },
     "metadata": {},
     "output_type": "display_data"
    },
    {
     "data": {
      "text/latex": [
       "$\\displaystyle 270270 x^22  \\phi_{yyyyxx} - 1081080 x^22  \\xi_{yyyxxx}$"
      ],
      "text/plain": [
       "<IPython.core.display.Math object>"
      ]
     },
     "metadata": {},
     "output_type": "display_data"
    },
    {
     "data": {
      "text/latex": [
       "$\\displaystyle 180180 x^22  \\phi_{yyyxxx} - 495495 x^22  \\xi_{yyxxxx}$"
      ],
      "text/plain": [
       "<IPython.core.display.Math object>"
      ]
     },
     "metadata": {},
     "output_type": "display_data"
    },
    {
     "data": {
      "text/latex": [
       "$\\displaystyle 45045 x^22  \\phi_{yyxxxx} - 90090 x^22  \\xi_{yxxxxx}$"
      ],
      "text/plain": [
       "<IPython.core.display.Math object>"
      ]
     },
     "metadata": {},
     "output_type": "display_data"
    },
    {
     "data": {
      "text/latex": [
       "$\\displaystyle -6435 x^22  \\xi_{yyyyyyy}$"
      ],
      "text/plain": [
       "<IPython.core.display.Math object>"
      ]
     },
     "metadata": {},
     "output_type": "display_data"
    },
    {
     "data": {
      "text/latex": [
       "$\\displaystyle 3003 x^22  \\phi_{yyyyyyy} - 42042 x^22  \\xi_{yyyyyyx}$"
      ],
      "text/plain": [
       "<IPython.core.display.Math object>"
      ]
     },
     "metadata": {},
     "output_type": "display_data"
    },
    {
     "data": {
      "text/latex": [
       "$\\displaystyle 18018 x^22  \\phi_{yyyyyyx} - 117117 x^22  \\xi_{yyyyyxx}$"
      ],
      "text/plain": [
       "<IPython.core.display.Math object>"
      ]
     },
     "metadata": {},
     "output_type": "display_data"
    },
    {
     "data": {
      "text/latex": [
       "$\\displaystyle 45045 x^22  \\phi_{yyyyyxx} - 180180 x^22  \\xi_{yyyyxxx}$"
      ],
      "text/plain": [
       "<IPython.core.display.Math object>"
      ]
     },
     "metadata": {},
     "output_type": "display_data"
    },
    {
     "data": {
      "text/latex": [
       "$\\displaystyle 60060 x^22  \\phi_{yyyyxxx} - 165165 x^22  \\xi_{yyyxxxx}$"
      ],
      "text/plain": [
       "<IPython.core.display.Math object>"
      ]
     },
     "metadata": {},
     "output_type": "display_data"
    },
    {
     "data": {
      "text/latex": [
       "$\\displaystyle 45045 x^22  \\phi_{yyyxxxx} - 90090 x^22  \\xi_{yyxxxxx}$"
      ],
      "text/plain": [
       "<IPython.core.display.Math object>"
      ]
     },
     "metadata": {},
     "output_type": "display_data"
    },
    {
     "data": {
      "text/latex": [
       "$\\displaystyle 18018 x^22  \\phi_{yyxxxxx} - 27027 x^22  \\xi_{yxxxxxx}$"
      ],
      "text/plain": [
       "<IPython.core.display.Math object>"
      ]
     },
     "metadata": {},
     "output_type": "display_data"
    },
    {
     "data": {
      "text/latex": [
       "$\\displaystyle 3003 x^22  \\phi_{yxxxxxx} - 3432 x^22  \\xi_{xxxxxxx}$"
      ],
      "text/plain": [
       "<IPython.core.display.Math object>"
      ]
     },
     "metadata": {},
     "output_type": "display_data"
    },
    {
     "data": {
      "text/latex": [
       "$\\displaystyle -25740 x^22  \\xi_{yy}$"
      ],
      "text/plain": [
       "<IPython.core.display.Math object>"
      ]
     },
     "metadata": {},
     "output_type": "display_data"
    },
    {
     "data": {
      "text/latex": [
       "$\\displaystyle 1716 x^22  \\phi_{yy} - 24024 x^22  \\xi_{yx}$"
      ],
      "text/plain": [
       "<IPython.core.display.Math object>"
      ]
     },
     "metadata": {},
     "output_type": "display_data"
    },
    {
     "data": {
      "text/latex": [
       "$\\displaystyle -180180 x^22  \\xi_{yy}$"
      ],
      "text/plain": [
       "<IPython.core.display.Math object>"
      ]
     },
     "metadata": {},
     "output_type": "display_data"
    },
    {
     "data": {
      "text/latex": [
       "$\\displaystyle -180180 x^22  \\xi_{yyy}$"
      ],
      "text/plain": [
       "<IPython.core.display.Math object>"
      ]
     },
     "metadata": {},
     "output_type": "display_data"
    },
    {
     "data": {
      "text/latex": [
       "$\\displaystyle 24024 x^22  \\phi_{yyy} - 336336 x^22  \\xi_{yyx}$"
      ],
      "text/plain": [
       "<IPython.core.display.Math object>"
      ]
     },
     "metadata": {},
     "output_type": "display_data"
    },
    {
     "data": {
      "text/latex": [
       "$\\displaystyle 24024 x^22  \\phi_{yyx} - 156156 x^22  \\xi_{yxx}$"
      ],
      "text/plain": [
       "<IPython.core.display.Math object>"
      ]
     },
     "metadata": {},
     "output_type": "display_data"
    },
    {
     "data": {
      "text/latex": [
       "$\\displaystyle -360360 x^22  \\xi_{yy}$"
      ],
      "text/plain": [
       "<IPython.core.display.Math object>"
      ]
     },
     "metadata": {},
     "output_type": "display_data"
    },
    {
     "data": {
      "text/latex": [
       "$\\displaystyle -1081080 x^22  \\xi_{yyy}$"
      ],
      "text/plain": [
       "<IPython.core.display.Math object>"
      ]
     },
     "metadata": {},
     "output_type": "display_data"
    },
    {
     "data": {
      "text/latex": [
       "$\\displaystyle 72072 x^22  \\phi_{yyy} - 1009008 x^22  \\xi_{yyx}$"
      ],
      "text/plain": [
       "<IPython.core.display.Math object>"
      ]
     },
     "metadata": {},
     "output_type": "display_data"
    },
    {
     "data": {
      "text/latex": [
       "$\\displaystyle -360360 x^22  \\xi_{yyyy}$"
      ],
      "text/plain": [
       "<IPython.core.display.Math object>"
      ]
     },
     "metadata": {},
     "output_type": "display_data"
    },
    {
     "data": {
      "text/latex": [
       "$\\displaystyle 72072 x^22  \\phi_{yyyy} - 1009008 x^22  \\xi_{yyyx}$"
      ],
      "text/plain": [
       "<IPython.core.display.Math object>"
      ]
     },
     "metadata": {},
     "output_type": "display_data"
    },
    {
     "data": {
      "text/latex": [
       "$\\displaystyle 144144 x^22  \\phi_{yyyx} - 936936 x^22  \\xi_{yyxx}$"
      ],
      "text/plain": [
       "<IPython.core.display.Math object>"
      ]
     },
     "metadata": {},
     "output_type": "display_data"
    },
    {
     "data": {
      "text/latex": [
       "$\\displaystyle 72072 x^22  \\phi_{yyxx} - 288288 x^22  \\xi_{yxxx}$"
      ],
      "text/plain": [
       "<IPython.core.display.Math object>"
      ]
     },
     "metadata": {},
     "output_type": "display_data"
    },
    {
     "data": {
      "text/latex": [
       "$\\displaystyle -225225 x^22  \\xi_{yy}$"
      ],
      "text/plain": [
       "<IPython.core.display.Math object>"
      ]
     },
     "metadata": {},
     "output_type": "display_data"
    },
    {
     "data": {
      "text/latex": [
       "$\\displaystyle -1801800 x^22  \\xi_{yyy}$"
      ],
      "text/plain": [
       "<IPython.core.display.Math object>"
      ]
     },
     "metadata": {},
     "output_type": "display_data"
    },
    {
     "data": {
      "text/latex": [
       "$\\displaystyle 120120 x^22  \\phi_{yyy} - 1681680 x^22  \\xi_{yyx}$"
      ],
      "text/plain": [
       "<IPython.core.display.Math object>"
      ]
     },
     "metadata": {},
     "output_type": "display_data"
    },
    {
     "data": {
      "text/latex": [
       "$\\displaystyle -1351350 x^22  \\xi_{yyy}$"
      ],
      "text/plain": [
       "<IPython.core.display.Math object>"
      ]
     },
     "metadata": {},
     "output_type": "display_data"
    },
    {
     "data": {
      "text/latex": [
       "$\\displaystyle -2702700 x^22  \\xi_{yyyy}$"
      ],
      "text/plain": [
       "<IPython.core.display.Math object>"
      ]
     },
     "metadata": {},
     "output_type": "display_data"
    },
    {
     "data": {
      "text/latex": [
       "$\\displaystyle 360360 x^22  \\phi_{yyyy} - 5045040 x^22  \\xi_{yyyx}$"
      ],
      "text/plain": [
       "<IPython.core.display.Math object>"
      ]
     },
     "metadata": {},
     "output_type": "display_data"
    },
    {
     "data": {
      "text/latex": [
       "$\\displaystyle 360360 x^22  \\phi_{yyyx} - 2342340 x^22  \\xi_{yyxx}$"
      ],
      "text/plain": [
       "<IPython.core.display.Math object>"
      ]
     },
     "metadata": {},
     "output_type": "display_data"
    },
    {
     "data": {
      "text/latex": [
       "$\\displaystyle -450450 x^22  \\xi_{yyyyy}$"
      ],
      "text/plain": [
       "<IPython.core.display.Math object>"
      ]
     },
     "metadata": {},
     "output_type": "display_data"
    },
    {
     "data": {
      "text/latex": [
       "$\\displaystyle 120120 x^22  \\phi_{yyyyy} - 1681680 x^22  \\xi_{yyyyx}$"
      ],
      "text/plain": [
       "<IPython.core.display.Math object>"
      ]
     },
     "metadata": {},
     "output_type": "display_data"
    },
    {
     "data": {
      "text/latex": [
       "$\\displaystyle 360360 x^22  \\phi_{yyyyx} - 2342340 x^22  \\xi_{yyyxx}$"
      ],
      "text/plain": [
       "<IPython.core.display.Math object>"
      ]
     },
     "metadata": {},
     "output_type": "display_data"
    },
    {
     "data": {
      "text/latex": [
       "$\\displaystyle 360360 x^22  \\phi_{yyyxx} - 1441440 x^22  \\xi_{yyxxx}$"
      ],
      "text/plain": [
       "<IPython.core.display.Math object>"
      ]
     },
     "metadata": {},
     "output_type": "display_data"
    },
    {
     "data": {
      "text/latex": [
       "$\\displaystyle 120120 x^22  \\phi_{yyxxx} - 330330 x^22  \\xi_{yxxxx}$"
      ],
      "text/plain": [
       "<IPython.core.display.Math object>"
      ]
     },
     "metadata": {},
     "output_type": "display_data"
    },
    {
     "data": {
      "text/latex": [
       "$\\displaystyle -1801800 x^22  \\xi_{yyy}$"
      ],
      "text/plain": [
       "<IPython.core.display.Math object>"
      ]
     },
     "metadata": {},
     "output_type": "display_data"
    },
    {
     "data": {
      "text/latex": [
       "$\\displaystyle -1801800 x^22  \\xi_{yyyy}$"
      ],
      "text/plain": [
       "<IPython.core.display.Math object>"
      ]
     },
     "metadata": {},
     "output_type": "display_data"
    },
    {
     "data": {
      "text/latex": [
       "$\\displaystyle 240240 x^22  \\phi_{yyyy} - 3363360 x^22  \\xi_{yyyx}$"
      ],
      "text/plain": [
       "<IPython.core.display.Math object>"
      ]
     },
     "metadata": {},
     "output_type": "display_data"
    },
    {
     "data": {
      "text/latex": [
       "$\\displaystyle 240240 x^22  \\phi_{yyyx} - 1561560 x^22  \\xi_{yyxx}$"
      ],
      "text/plain": [
       "<IPython.core.display.Math object>"
      ]
     },
     "metadata": {},
     "output_type": "display_data"
    },
    {
     "data": {
      "text/latex": [
       "$\\displaystyle -5405400 x^22  \\xi_{yyyy}$"
      ],
      "text/plain": [
       "<IPython.core.display.Math object>"
      ]
     },
     "metadata": {},
     "output_type": "display_data"
    },
    {
     "data": {
      "text/latex": [
       "$\\displaystyle 360360 x^22  \\phi_{yyyy} - 5045040 x^22  \\xi_{yyyx}$"
      ],
      "text/plain": [
       "<IPython.core.display.Math object>"
      ]
     },
     "metadata": {},
     "output_type": "display_data"
    },
    {
     "data": {
      "text/latex": [
       "$\\displaystyle -3603600 x^22  \\xi_{yyyyy}$"
      ],
      "text/plain": [
       "<IPython.core.display.Math object>"
      ]
     },
     "metadata": {},
     "output_type": "display_data"
    },
    {
     "data": {
      "text/latex": [
       "$\\displaystyle 720720 x^22  \\phi_{yyyyy} - 10090080 x^22  \\xi_{yyyyx}$"
      ],
      "text/plain": [
       "<IPython.core.display.Math object>"
      ]
     },
     "metadata": {},
     "output_type": "display_data"
    },
    {
     "data": {
      "text/latex": [
       "$\\displaystyle 1441440 x^22  \\phi_{yyyyx} - 9369360 x^22  \\xi_{yyyxx}$"
      ],
      "text/plain": [
       "<IPython.core.display.Math object>"
      ]
     },
     "metadata": {},
     "output_type": "display_data"
    },
    {
     "data": {
      "text/latex": [
       "$\\displaystyle 720720 x^22  \\phi_{yyyxx} - 2882880 x^22  \\xi_{yyxxx}$"
      ],
      "text/plain": [
       "<IPython.core.display.Math object>"
      ]
     },
     "metadata": {},
     "output_type": "display_data"
    },
    {
     "data": {
      "text/latex": [
       "$\\displaystyle -360360 x^22  \\xi_{yyyyyy}$"
      ],
      "text/plain": [
       "<IPython.core.display.Math object>"
      ]
     },
     "metadata": {},
     "output_type": "display_data"
    },
    {
     "data": {
      "text/latex": [
       "$\\displaystyle 120120 x^22  \\phi_{yyyyyy} - 1681680 x^22  \\xi_{yyyyyx}$"
      ],
      "text/plain": [
       "<IPython.core.display.Math object>"
      ]
     },
     "metadata": {},
     "output_type": "display_data"
    },
    {
     "data": {
      "text/latex": [
       "$\\displaystyle 480480 x^22  \\phi_{yyyyyx} - 3123120 x^22  \\xi_{yyyyxx}$"
      ],
      "text/plain": [
       "<IPython.core.display.Math object>"
      ]
     },
     "metadata": {},
     "output_type": "display_data"
    },
    {
     "data": {
      "text/latex": [
       "$\\displaystyle 720720 x^22  \\phi_{yyyyxx} - 2882880 x^22  \\xi_{yyyxxx}$"
      ],
      "text/plain": [
       "<IPython.core.display.Math object>"
      ]
     },
     "metadata": {},
     "output_type": "display_data"
    },
    {
     "data": {
      "text/latex": [
       "$\\displaystyle 480480 x^22  \\phi_{yyyxxx} - 1321320 x^22  \\xi_{yyxxxx}$"
      ],
      "text/plain": [
       "<IPython.core.display.Math object>"
      ]
     },
     "metadata": {},
     "output_type": "display_data"
    },
    {
     "data": {
      "text/latex": [
       "$\\displaystyle 120120 x^22  \\phi_{yyxxxx} - 240240 x^22  \\xi_{yxxxxx}$"
      ],
      "text/plain": [
       "<IPython.core.display.Math object>"
      ]
     },
     "metadata": {},
     "output_type": "display_data"
    },
    {
     "data": {
      "text/latex": [
       "$\\displaystyle -675675 x^22  \\xi_{yyyy}$"
      ],
      "text/plain": [
       "<IPython.core.display.Math object>"
      ]
     },
     "metadata": {},
     "output_type": "display_data"
    },
    {
     "data": {
      "text/latex": [
       "$\\displaystyle -2702700 x^22  \\xi_{yyyyy}$"
      ],
      "text/plain": [
       "<IPython.core.display.Math object>"
      ]
     },
     "metadata": {},
     "output_type": "display_data"
    },
    {
     "data": {
      "text/latex": [
       "$\\displaystyle 360360 x^22  \\phi_{yyyyy} - 5045040 x^22  \\xi_{yyyyx}$"
      ],
      "text/plain": [
       "<IPython.core.display.Math object>"
      ]
     },
     "metadata": {},
     "output_type": "display_data"
    },
    {
     "data": {
      "text/latex": [
       "$\\displaystyle 360360 x^22  \\phi_{yyyyx} - 2342340 x^22  \\xi_{yyyxx}$"
      ],
      "text/plain": [
       "<IPython.core.display.Math object>"
      ]
     },
     "metadata": {},
     "output_type": "display_data"
    },
    {
     "data": {
      "text/latex": [
       "$\\displaystyle -1351350 x^22  \\xi_{yyyyyy}$"
      ],
      "text/plain": [
       "<IPython.core.display.Math object>"
      ]
     },
     "metadata": {},
     "output_type": "display_data"
    },
    {
     "data": {
      "text/latex": [
       "$\\displaystyle 360360 x^22  \\phi_{yyyyyy} - 5045040 x^22  \\xi_{yyyyyx}$"
      ],
      "text/plain": [
       "<IPython.core.display.Math object>"
      ]
     },
     "metadata": {},
     "output_type": "display_data"
    },
    {
     "data": {
      "text/latex": [
       "$\\displaystyle 1081080 x^22  \\phi_{yyyyyx} - 7027020 x^22  \\xi_{yyyyxx}$"
      ],
      "text/plain": [
       "<IPython.core.display.Math object>"
      ]
     },
     "metadata": {},
     "output_type": "display_data"
    },
    {
     "data": {
      "text/latex": [
       "$\\displaystyle 1081080 x^22  \\phi_{yyyyxx} - 4324320 x^22  \\xi_{yyyxxx}$"
      ],
      "text/plain": [
       "<IPython.core.display.Math object>"
      ]
     },
     "metadata": {},
     "output_type": "display_data"
    },
    {
     "data": {
      "text/latex": [
       "$\\displaystyle 360360 x^22  \\phi_{yyyxxx} - 990990 x^22  \\xi_{yyxxxx}$"
      ],
      "text/plain": [
       "<IPython.core.display.Math object>"
      ]
     },
     "metadata": {},
     "output_type": "display_data"
    },
    {
     "data": {
      "text/latex": [
       "$\\displaystyle -180180 x^22  \\xi_{yyyyyyy}$"
      ],
      "text/plain": [
       "<IPython.core.display.Math object>"
      ]
     },
     "metadata": {},
     "output_type": "display_data"
    },
    {
     "data": {
      "text/latex": [
       "$\\displaystyle 72072 x^22  \\phi_{yyyyyyy} - 1009008 x^22  \\xi_{yyyyyyx}$"
      ],
      "text/plain": [
       "<IPython.core.display.Math object>"
      ]
     },
     "metadata": {},
     "output_type": "display_data"
    },
    {
     "data": {
      "text/latex": [
       "$\\displaystyle 360360 x^22  \\phi_{yyyyyyx} - 2342340 x^22  \\xi_{yyyyyxx}$"
      ],
      "text/plain": [
       "<IPython.core.display.Math object>"
      ]
     },
     "metadata": {},
     "output_type": "display_data"
    },
    {
     "data": {
      "text/latex": [
       "$\\displaystyle 720720 x^22  \\phi_{yyyyyxx} - 2882880 x^22  \\xi_{yyyyxxx}$"
      ],
      "text/plain": [
       "<IPython.core.display.Math object>"
      ]
     },
     "metadata": {},
     "output_type": "display_data"
    },
    {
     "data": {
      "text/latex": [
       "$\\displaystyle 720720 x^22  \\phi_{yyyyxxx} - 1981980 x^22  \\xi_{yyyxxxx}$"
      ],
      "text/plain": [
       "<IPython.core.display.Math object>"
      ]
     },
     "metadata": {},
     "output_type": "display_data"
    },
    {
     "data": {
      "text/latex": [
       "$\\displaystyle 360360 x^22  \\phi_{yyyxxxx} - 720720 x^22  \\xi_{yyxxxxx}$"
      ],
      "text/plain": [
       "<IPython.core.display.Math object>"
      ]
     },
     "metadata": {},
     "output_type": "display_data"
    },
    {
     "data": {
      "text/latex": [
       "$\\displaystyle 72072 x^22  \\phi_{yyxxxxx} - 108108 x^22  \\xi_{yxxxxxx}$"
      ],
      "text/plain": [
       "<IPython.core.display.Math object>"
      ]
     },
     "metadata": {},
     "output_type": "display_data"
    },
    {
     "data": {
      "text/latex": [
       "$\\displaystyle -6435 x^22  \\xi_{yyyyyyyy}$"
      ],
      "text/plain": [
       "<IPython.core.display.Math object>"
      ]
     },
     "metadata": {},
     "output_type": "display_data"
    },
    {
     "data": {
      "text/latex": [
       "$\\displaystyle 3432 x^22  \\phi_{yyyyyyyy} - 48048 x^22  \\xi_{yyyyyyyx}$"
      ],
      "text/plain": [
       "<IPython.core.display.Math object>"
      ]
     },
     "metadata": {},
     "output_type": "display_data"
    },
    {
     "data": {
      "text/latex": [
       "$\\displaystyle 24024 x^22  \\phi_{yyyyyyyx} - 156156 x^22  \\xi_{yyyyyyxx}$"
      ],
      "text/plain": [
       "<IPython.core.display.Math object>"
      ]
     },
     "metadata": {},
     "output_type": "display_data"
    },
    {
     "data": {
      "text/latex": [
       "$\\displaystyle 72072 x^22  \\phi_{yyyyyyxx} - 288288 x^22  \\xi_{yyyyyxxx}$"
      ],
      "text/plain": [
       "<IPython.core.display.Math object>"
      ]
     },
     "metadata": {},
     "output_type": "display_data"
    },
    {
     "data": {
      "text/latex": [
       "$\\displaystyle 120120 x^22  \\phi_{yyyyyxxx} - 330330 x^22  \\xi_{yyyyxxxx}$"
      ],
      "text/plain": [
       "<IPython.core.display.Math object>"
      ]
     },
     "metadata": {},
     "output_type": "display_data"
    },
    {
     "data": {
      "text/latex": [
       "$\\displaystyle 120120 x^22  \\phi_{yyyyxxxx} - 240240 x^22  \\xi_{yyyxxxxx}$"
      ],
      "text/plain": [
       "<IPython.core.display.Math object>"
      ]
     },
     "metadata": {},
     "output_type": "display_data"
    },
    {
     "data": {
      "text/latex": [
       "$\\displaystyle 72072 x^22  \\phi_{yyyxxxxx} - 108108 x^22  \\xi_{yyxxxxxx}$"
      ],
      "text/plain": [
       "<IPython.core.display.Math object>"
      ]
     },
     "metadata": {},
     "output_type": "display_data"
    },
    {
     "data": {
      "text/latex": [
       "$\\displaystyle 24024 x^22  \\phi_{yyxxxxxx} - 27456 x^22  \\xi_{yxxxxxxx}$"
      ],
      "text/plain": [
       "<IPython.core.display.Math object>"
      ]
     },
     "metadata": {},
     "output_type": "display_data"
    },
    {
     "data": {
      "text/latex": [
       "$\\displaystyle 3432 x^22  \\phi_{yxxxxxxx} - 3003 x^22  \\xi_{xxxxxxxx}$"
      ],
      "text/plain": [
       "<IPython.core.display.Math object>"
      ]
     },
     "metadata": {},
     "output_type": "display_data"
    },
    {
     "data": {
      "text/latex": [
       "$\\displaystyle -210210 x^22  \\xi_{yy}$"
      ],
      "text/plain": [
       "<IPython.core.display.Math object>"
      ]
     },
     "metadata": {},
     "output_type": "display_data"
    },
    {
     "data": {
      "text/latex": [
       "$\\displaystyle -630630 x^22  \\xi_{yyy}$"
      ],
      "text/plain": [
       "<IPython.core.display.Math object>"
      ]
     },
     "metadata": {},
     "output_type": "display_data"
    },
    {
     "data": {
      "text/latex": [
       "$\\displaystyle 42042 x^22  \\phi_{yyy} - 588588 x^22  \\xi_{yyx}$"
      ],
      "text/plain": [
       "<IPython.core.display.Math object>"
      ]
     },
     "metadata": {},
     "output_type": "display_data"
    },
    {
     "data": {
      "text/latex": [
       "$\\displaystyle -210210 x^22  \\xi_{yyyy}$"
      ],
      "text/plain": [
       "<IPython.core.display.Math object>"
      ]
     },
     "metadata": {},
     "output_type": "display_data"
    },
    {
     "data": {
      "text/latex": [
       "$\\displaystyle 42042 x^22  \\phi_{yyyy} - 588588 x^22  \\xi_{yyyx}$"
      ],
      "text/plain": [
       "<IPython.core.display.Math object>"
      ]
     },
     "metadata": {},
     "output_type": "display_data"
    },
    {
     "data": {
      "text/latex": [
       "$\\displaystyle 84084 x^22  \\phi_{yyyx} - 546546 x^22  \\xi_{yyxx}$"
      ],
      "text/plain": [
       "<IPython.core.display.Math object>"
      ]
     },
     "metadata": {},
     "output_type": "display_data"
    },
    {
     "data": {
      "text/latex": [
       "$\\displaystyle 42042 x^22  \\phi_{yyxx} - 168168 x^22  \\xi_{yxxx}$"
      ],
      "text/plain": [
       "<IPython.core.display.Math object>"
      ]
     },
     "metadata": {},
     "output_type": "display_data"
    },
    {
     "data": {
      "text/latex": [
       "$\\displaystyle -630630 x^22  \\xi_{yy}$"
      ],
      "text/plain": [
       "<IPython.core.display.Math object>"
      ]
     },
     "metadata": {},
     "output_type": "display_data"
    },
    {
     "data": {
      "text/latex": [
       "$\\displaystyle -2522520 x^22  \\xi_{yyy}$"
      ],
      "text/plain": [
       "<IPython.core.display.Math object>"
      ]
     },
     "metadata": {},
     "output_type": "display_data"
    },
    {
     "data": {
      "text/latex": [
       "$\\displaystyle 168168 x^22  \\phi_{yyy} - 2354352 x^22  \\xi_{yyx}$"
      ],
      "text/plain": [
       "<IPython.core.display.Math object>"
      ]
     },
     "metadata": {},
     "output_type": "display_data"
    },
    {
     "data": {
      "text/latex": [
       "$\\displaystyle -1891890 x^22  \\xi_{yyy}$"
      ],
      "text/plain": [
       "<IPython.core.display.Math object>"
      ]
     },
     "metadata": {},
     "output_type": "display_data"
    },
    {
     "data": {
      "text/latex": [
       "$\\displaystyle -3783780 x^22  \\xi_{yyyy}$"
      ],
      "text/plain": [
       "<IPython.core.display.Math object>"
      ]
     },
     "metadata": {},
     "output_type": "display_data"
    },
    {
     "data": {
      "text/latex": [
       "$\\displaystyle 504504 x^22  \\phi_{yyyy} - 7063056 x^22  \\xi_{yyyx}$"
      ],
      "text/plain": [
       "<IPython.core.display.Math object>"
      ]
     },
     "metadata": {},
     "output_type": "display_data"
    },
    {
     "data": {
      "text/latex": [
       "$\\displaystyle 504504 x^22  \\phi_{yyyx} - 3279276 x^22  \\xi_{yyxx}$"
      ],
      "text/plain": [
       "<IPython.core.display.Math object>"
      ]
     },
     "metadata": {},
     "output_type": "display_data"
    },
    {
     "data": {
      "text/latex": [
       "$\\displaystyle -630630 x^22  \\xi_{yyyyy}$"
      ],
      "text/plain": [
       "<IPython.core.display.Math object>"
      ]
     },
     "metadata": {},
     "output_type": "display_data"
    },
    {
     "data": {
      "text/latex": [
       "$\\displaystyle 168168 x^22  \\phi_{yyyyy} - 2354352 x^22  \\xi_{yyyyx}$"
      ],
      "text/plain": [
       "<IPython.core.display.Math object>"
      ]
     },
     "metadata": {},
     "output_type": "display_data"
    },
    {
     "data": {
      "text/latex": [
       "$\\displaystyle 504504 x^22  \\phi_{yyyyx} - 3279276 x^22  \\xi_{yyyxx}$"
      ],
      "text/plain": [
       "<IPython.core.display.Math object>"
      ]
     },
     "metadata": {},
     "output_type": "display_data"
    },
    {
     "data": {
      "text/latex": [
       "$\\displaystyle 504504 x^22  \\phi_{yyyxx} - 2018016 x^22  \\xi_{yyxxx}$"
      ],
      "text/plain": [
       "<IPython.core.display.Math object>"
      ]
     },
     "metadata": {},
     "output_type": "display_data"
    },
    {
     "data": {
      "text/latex": [
       "$\\displaystyle 168168 x^22  \\phi_{yyxxx} - 462462 x^22  \\xi_{yxxxx}$"
      ],
      "text/plain": [
       "<IPython.core.display.Math object>"
      ]
     },
     "metadata": {},
     "output_type": "display_data"
    },
    {
     "data": {
      "text/latex": [
       "$\\displaystyle -1576575 x^22  \\xi_{yyy}$"
      ],
      "text/plain": [
       "<IPython.core.display.Math object>"
      ]
     },
     "metadata": {},
     "output_type": "display_data"
    },
    {
     "data": {
      "text/latex": [
       "$\\displaystyle 105105 x^22  \\phi_{yyy} - 1471470 x^22  \\xi_{yyx}$"
      ],
      "text/plain": [
       "<IPython.core.display.Math object>"
      ]
     },
     "metadata": {},
     "output_type": "display_data"
    },
    {
     "data": {
      "text/latex": [
       "$\\displaystyle -6306300 x^22  \\xi_{yyy}$"
      ],
      "text/plain": [
       "<IPython.core.display.Math object>"
      ]
     },
     "metadata": {},
     "output_type": "display_data"
    },
    {
     "data": {
      "text/latex": [
       "$\\displaystyle -6306300 x^22  \\xi_{yyyy}$"
      ],
      "text/plain": [
       "<IPython.core.display.Math object>"
      ]
     },
     "metadata": {},
     "output_type": "display_data"
    },
    {
     "data": {
      "text/latex": [
       "$\\displaystyle 840840 x^22  \\phi_{yyyy} - 11771760 x^22  \\xi_{yyyx}$"
      ],
      "text/plain": [
       "<IPython.core.display.Math object>"
      ]
     },
     "metadata": {},
     "output_type": "display_data"
    },
    {
     "data": {
      "text/latex": [
       "$\\displaystyle 840840 x^22  \\phi_{yyyx} - 5465460 x^22  \\xi_{yyxx}$"
      ],
      "text/plain": [
       "<IPython.core.display.Math object>"
      ]
     },
     "metadata": {},
     "output_type": "display_data"
    },
    {
     "data": {
      "text/latex": [
       "$\\displaystyle -9459450 x^22  \\xi_{yyyy}$"
      ],
      "text/plain": [
       "<IPython.core.display.Math object>"
      ]
     },
     "metadata": {},
     "output_type": "display_data"
    },
    {
     "data": {
      "text/latex": [
       "$\\displaystyle 630630 x^22  \\phi_{yyyy} - 8828820 x^22  \\xi_{yyyx}$"
      ],
      "text/plain": [
       "<IPython.core.display.Math object>"
      ]
     },
     "metadata": {},
     "output_type": "display_data"
    },
    {
     "data": {
      "text/latex": [
       "$\\displaystyle -6306300 x^22  \\xi_{yyyyy}$"
      ],
      "text/plain": [
       "<IPython.core.display.Math object>"
      ]
     },
     "metadata": {},
     "output_type": "display_data"
    },
    {
     "data": {
      "text/latex": [
       "$\\displaystyle 1261260 x^22  \\phi_{yyyyy} - 17657640 x^22  \\xi_{yyyyx}$"
      ],
      "text/plain": [
       "<IPython.core.display.Math object>"
      ]
     },
     "metadata": {},
     "output_type": "display_data"
    },
    {
     "data": {
      "text/latex": [
       "$\\displaystyle 2522520 x^22  \\phi_{yyyyx} - 16396380 x^22  \\xi_{yyyxx}$"
      ],
      "text/plain": [
       "<IPython.core.display.Math object>"
      ]
     },
     "metadata": {},
     "output_type": "display_data"
    },
    {
     "data": {
      "text/latex": [
       "$\\displaystyle 1261260 x^22  \\phi_{yyyxx} - 5045040 x^22  \\xi_{yyxxx}$"
      ],
      "text/plain": [
       "<IPython.core.display.Math object>"
      ]
     },
     "metadata": {},
     "output_type": "display_data"
    },
    {
     "data": {
      "text/latex": [
       "$\\displaystyle -630630 x^22  \\xi_{yyyyyy}$"
      ],
      "text/plain": [
       "<IPython.core.display.Math object>"
      ]
     },
     "metadata": {},
     "output_type": "display_data"
    },
    {
     "data": {
      "text/latex": [
       "$\\displaystyle 210210 x^22  \\phi_{yyyyyy} - 2942940 x^22  \\xi_{yyyyyx}$"
      ],
      "text/plain": [
       "<IPython.core.display.Math object>"
      ]
     },
     "metadata": {},
     "output_type": "display_data"
    },
    {
     "data": {
      "text/latex": [
       "$\\displaystyle 840840 x^22  \\phi_{yyyyyx} - 5465460 x^22  \\xi_{yyyyxx}$"
      ],
      "text/plain": [
       "<IPython.core.display.Math object>"
      ]
     },
     "metadata": {},
     "output_type": "display_data"
    },
    {
     "data": {
      "text/latex": [
       "$\\displaystyle 1261260 x^22  \\phi_{yyyyxx} - 5045040 x^22  \\xi_{yyyxxx}$"
      ],
      "text/plain": [
       "<IPython.core.display.Math object>"
      ]
     },
     "metadata": {},
     "output_type": "display_data"
    },
    {
     "data": {
      "text/latex": [
       "$\\displaystyle 840840 x^22  \\phi_{yyyxxx} - 2312310 x^22  \\xi_{yyxxxx}$"
      ],
      "text/plain": [
       "<IPython.core.display.Math object>"
      ]
     },
     "metadata": {},
     "output_type": "display_data"
    },
    {
     "data": {
      "text/latex": [
       "$\\displaystyle 210210 x^22  \\phi_{yyxxxx} - 420420 x^22  \\xi_{yxxxxx}$"
      ],
      "text/plain": [
       "<IPython.core.display.Math object>"
      ]
     },
     "metadata": {},
     "output_type": "display_data"
    },
    {
     "data": {
      "text/latex": [
       "$\\displaystyle -1401400 x^22  \\xi_{yyy}$"
      ],
      "text/plain": [
       "<IPython.core.display.Math object>"
      ]
     },
     "metadata": {},
     "output_type": "display_data"
    },
    {
     "data": {
      "text/latex": [
       "$\\displaystyle -12612600 x^22  \\xi_{yyyy}$"
      ],
      "text/plain": [
       "<IPython.core.display.Math object>"
      ]
     },
     "metadata": {},
     "output_type": "display_data"
    },
    {
     "data": {
      "text/latex": [
       "$\\displaystyle 840840 x^22  \\phi_{yyyy} - 11771760 x^22  \\xi_{yyyx}$"
      ],
      "text/plain": [
       "<IPython.core.display.Math object>"
      ]
     },
     "metadata": {},
     "output_type": "display_data"
    },
    {
     "data": {
      "text/latex": [
       "$\\displaystyle -4204200 x^22  \\xi_{yyyyy}$"
      ],
      "text/plain": [
       "<IPython.core.display.Math object>"
      ]
     },
     "metadata": {},
     "output_type": "display_data"
    },
    {
     "data": {
      "text/latex": [
       "$\\displaystyle 840840 x^22  \\phi_{yyyyy} - 11771760 x^22  \\xi_{yyyyx}$"
      ],
      "text/plain": [
       "<IPython.core.display.Math object>"
      ]
     },
     "metadata": {},
     "output_type": "display_data"
    },
    {
     "data": {
      "text/latex": [
       "$\\displaystyle 1681680 x^22  \\phi_{yyyyx} - 10930920 x^22  \\xi_{yyyxx}$"
      ],
      "text/plain": [
       "<IPython.core.display.Math object>"
      ]
     },
     "metadata": {},
     "output_type": "display_data"
    },
    {
     "data": {
      "text/latex": [
       "$\\displaystyle 840840 x^22  \\phi_{yyyxx} - 3363360 x^22  \\xi_{yyxxx}$"
      ],
      "text/plain": [
       "<IPython.core.display.Math object>"
      ]
     },
     "metadata": {},
     "output_type": "display_data"
    },
    {
     "data": {
      "text/latex": [
       "$\\displaystyle -6306300 x^22  \\xi_{yyyy}$"
      ],
      "text/plain": [
       "<IPython.core.display.Math object>"
      ]
     },
     "metadata": {},
     "output_type": "display_data"
    },
    {
     "data": {
      "text/latex": [
       "$\\displaystyle -18918900 x^22  \\xi_{yyyyy}$"
      ],
      "text/plain": [
       "<IPython.core.display.Math object>"
      ]
     },
     "metadata": {},
     "output_type": "display_data"
    },
    {
     "data": {
      "text/latex": [
       "$\\displaystyle 2522520 x^22  \\phi_{yyyyy} - 35315280 x^22  \\xi_{yyyyx}$"
      ],
      "text/plain": [
       "<IPython.core.display.Math object>"
      ]
     },
     "metadata": {},
     "output_type": "display_data"
    },
    {
     "data": {
      "text/latex": [
       "$\\displaystyle 2522520 x^22  \\phi_{yyyyx} - 16396380 x^22  \\xi_{yyyxx}$"
      ],
      "text/plain": [
       "<IPython.core.display.Math object>"
      ]
     },
     "metadata": {},
     "output_type": "display_data"
    },
    {
     "data": {
      "text/latex": [
       "$\\displaystyle -6306300 x^22  \\xi_{yyyyyy}$"
      ],
      "text/plain": [
       "<IPython.core.display.Math object>"
      ]
     },
     "metadata": {},
     "output_type": "display_data"
    },
    {
     "data": {
      "text/latex": [
       "$\\displaystyle 1681680 x^22  \\phi_{yyyyyy} - 23543520 x^22  \\xi_{yyyyyx}$"
      ],
      "text/plain": [
       "<IPython.core.display.Math object>"
      ]
     },
     "metadata": {},
     "output_type": "display_data"
    },
    {
     "data": {
      "text/latex": [
       "$\\displaystyle 5045040 x^22  \\phi_{yyyyyx} - 32792760 x^22  \\xi_{yyyyxx}$"
      ],
      "text/plain": [
       "<IPython.core.display.Math object>"
      ]
     },
     "metadata": {},
     "output_type": "display_data"
    },
    {
     "data": {
      "text/latex": [
       "$\\displaystyle 5045040 x^22  \\phi_{yyyyxx} - 20180160 x^22  \\xi_{yyyxxx}$"
      ],
      "text/plain": [
       "<IPython.core.display.Math object>"
      ]
     },
     "metadata": {},
     "output_type": "display_data"
    },
    {
     "data": {
      "text/latex": [
       "$\\displaystyle 1681680 x^22  \\phi_{yyyxxx} - 4624620 x^22  \\xi_{yyxxxx}$"
      ],
      "text/plain": [
       "<IPython.core.display.Math object>"
      ]
     },
     "metadata": {},
     "output_type": "display_data"
    },
    {
     "data": {
      "text/latex": [
       "$\\displaystyle -420420 x^22  \\xi_{yyyyyyy}$"
      ],
      "text/plain": [
       "<IPython.core.display.Math object>"
      ]
     },
     "metadata": {},
     "output_type": "display_data"
    },
    {
     "data": {
      "text/latex": [
       "$\\displaystyle 168168 x^22  \\phi_{yyyyyyy} - 2354352 x^22  \\xi_{yyyyyyx}$"
      ],
      "text/plain": [
       "<IPython.core.display.Math object>"
      ]
     },
     "metadata": {},
     "output_type": "display_data"
    },
    {
     "data": {
      "text/latex": [
       "$\\displaystyle 840840 x^22  \\phi_{yyyyyyx} - 5465460 x^22  \\xi_{yyyyyxx}$"
      ],
      "text/plain": [
       "<IPython.core.display.Math object>"
      ]
     },
     "metadata": {},
     "output_type": "display_data"
    },
    {
     "data": {
      "text/latex": [
       "$\\displaystyle 1681680 x^22  \\phi_{yyyyyxx} - 6726720 x^22  \\xi_{yyyyxxx}$"
      ],
      "text/plain": [
       "<IPython.core.display.Math object>"
      ]
     },
     "metadata": {},
     "output_type": "display_data"
    },
    {
     "data": {
      "text/latex": [
       "$\\displaystyle 1681680 x^22  \\phi_{yyyyxxx} - 4624620 x^22  \\xi_{yyyxxxx}$"
      ],
      "text/plain": [
       "<IPython.core.display.Math object>"
      ]
     },
     "metadata": {},
     "output_type": "display_data"
    },
    {
     "data": {
      "text/latex": [
       "$\\displaystyle 840840 x^22  \\phi_{yyyxxxx} - 1681680 x^22  \\xi_{yyxxxxx}$"
      ],
      "text/plain": [
       "<IPython.core.display.Math object>"
      ]
     },
     "metadata": {},
     "output_type": "display_data"
    },
    {
     "data": {
      "text/latex": [
       "$\\displaystyle 168168 x^22  \\phi_{yyxxxxx} - 252252 x^22  \\xi_{yxxxxxx}$"
      ],
      "text/plain": [
       "<IPython.core.display.Math object>"
      ]
     },
     "metadata": {},
     "output_type": "display_data"
    },
    {
     "data": {
      "text/latex": [
       "$\\displaystyle -4729725 x^22  \\xi_{yyyyy}$"
      ],
      "text/plain": [
       "<IPython.core.display.Math object>"
      ]
     },
     "metadata": {},
     "output_type": "display_data"
    },
    {
     "data": {
      "text/latex": [
       "$\\displaystyle 315315 x^22  \\phi_{yyyyy} - 4414410 x^22  \\xi_{yyyyx}$"
      ],
      "text/plain": [
       "<IPython.core.display.Math object>"
      ]
     },
     "metadata": {},
     "output_type": "display_data"
    },
    {
     "data": {
      "text/latex": [
       "$\\displaystyle -6306300 x^22  \\xi_{yyyyyy}$"
      ],
      "text/plain": [
       "<IPython.core.display.Math object>"
      ]
     },
     "metadata": {},
     "output_type": "display_data"
    },
    {
     "data": {
      "text/latex": [
       "$\\displaystyle 1261260 x^22  \\phi_{yyyyyy} - 17657640 x^22  \\xi_{yyyyyx}$"
      ],
      "text/plain": [
       "<IPython.core.display.Math object>"
      ]
     },
     "metadata": {},
     "output_type": "display_data"
    },
    {
     "data": {
      "text/latex": [
       "$\\displaystyle 2522520 x^22  \\phi_{yyyyyx} - 16396380 x^22  \\xi_{yyyyxx}$"
      ],
      "text/plain": [
       "<IPython.core.display.Math object>"
      ]
     },
     "metadata": {},
     "output_type": "display_data"
    },
    {
     "data": {
      "text/latex": [
       "$\\displaystyle 1261260 x^22  \\phi_{yyyyxx} - 5045040 x^22  \\xi_{yyyxxx}$"
      ],
      "text/plain": [
       "<IPython.core.display.Math object>"
      ]
     },
     "metadata": {},
     "output_type": "display_data"
    },
    {
     "data": {
      "text/latex": [
       "$\\displaystyle -1891890 x^22  \\xi_{yyyyyyy}$"
      ],
      "text/plain": [
       "<IPython.core.display.Math object>"
      ]
     },
     "metadata": {},
     "output_type": "display_data"
    },
    {
     "data": {
      "text/latex": [
       "$\\displaystyle 630630 x^22  \\phi_{yyyyyyy} - 8828820 x^22  \\xi_{yyyyyyx}$"
      ],
      "text/plain": [
       "<IPython.core.display.Math object>"
      ]
     },
     "metadata": {},
     "output_type": "display_data"
    },
    {
     "data": {
      "text/latex": [
       "$\\displaystyle 2522520 x^22  \\phi_{yyyyyyx} - 16396380 x^22  \\xi_{yyyyyxx}$"
      ],
      "text/plain": [
       "<IPython.core.display.Math object>"
      ]
     },
     "metadata": {},
     "output_type": "display_data"
    },
    {
     "data": {
      "text/latex": [
       "$\\displaystyle 3783780 x^22  \\phi_{yyyyyxx} - 15135120 x^22  \\xi_{yyyyxxx}$"
      ],
      "text/plain": [
       "<IPython.core.display.Math object>"
      ]
     },
     "metadata": {},
     "output_type": "display_data"
    },
    {
     "data": {
      "text/latex": [
       "$\\displaystyle 2522520 x^22  \\phi_{yyyyxxx} - 6936930 x^22  \\xi_{yyyxxxx}$"
      ],
      "text/plain": [
       "<IPython.core.display.Math object>"
      ]
     },
     "metadata": {},
     "output_type": "display_data"
    },
    {
     "data": {
      "text/latex": [
       "$\\displaystyle 630630 x^22  \\phi_{yyyxxxx} - 1261260 x^22  \\xi_{yyxxxxx}$"
      ],
      "text/plain": [
       "<IPython.core.display.Math object>"
      ]
     },
     "metadata": {},
     "output_type": "display_data"
    },
    {
     "data": {
      "text/latex": [
       "$\\displaystyle -180180 x^22  \\xi_{yyyyyyyy}$"
      ],
      "text/plain": [
       "<IPython.core.display.Math object>"
      ]
     },
     "metadata": {},
     "output_type": "display_data"
    },
    {
     "data": {
      "text/latex": [
       "$\\displaystyle 84084 x^22  \\phi_{yyyyyyyy} - 1177176 x^22  \\xi_{yyyyyyyx}$"
      ],
      "text/plain": [
       "<IPython.core.display.Math object>"
      ]
     },
     "metadata": {},
     "output_type": "display_data"
    },
    {
     "data": {
      "text/latex": [
       "$\\displaystyle 504504 x^22  \\phi_{yyyyyyyx} - 3279276 x^22  \\xi_{yyyyyyxx}$"
      ],
      "text/plain": [
       "<IPython.core.display.Math object>"
      ]
     },
     "metadata": {},
     "output_type": "display_data"
    },
    {
     "data": {
      "text/latex": [
       "$\\displaystyle 1261260 x^22  \\phi_{yyyyyyxx} - 5045040 x^22  \\xi_{yyyyyxxx}$"
      ],
      "text/plain": [
       "<IPython.core.display.Math object>"
      ]
     },
     "metadata": {},
     "output_type": "display_data"
    },
    {
     "data": {
      "text/latex": [
       "$\\displaystyle 1681680 x^22  \\phi_{yyyyyxxx} - 4624620 x^22  \\xi_{yyyyxxxx}$"
      ],
      "text/plain": [
       "<IPython.core.display.Math object>"
      ]
     },
     "metadata": {},
     "output_type": "display_data"
    },
    {
     "data": {
      "text/latex": [
       "$\\displaystyle 1261260 x^22  \\phi_{yyyyxxxx} - 2522520 x^22  \\xi_{yyyxxxxx}$"
      ],
      "text/plain": [
       "<IPython.core.display.Math object>"
      ]
     },
     "metadata": {},
     "output_type": "display_data"
    },
    {
     "data": {
      "text/latex": [
       "$\\displaystyle 504504 x^22  \\phi_{yyyxxxxx} - 756756 x^22  \\xi_{yyxxxxxx}$"
      ],
      "text/plain": [
       "<IPython.core.display.Math object>"
      ]
     },
     "metadata": {},
     "output_type": "display_data"
    },
    {
     "data": {
      "text/latex": [
       "$\\displaystyle 84084 x^22  \\phi_{yyxxxxxx} - 96096 x^22  \\xi_{yxxxxxxx}$"
      ],
      "text/plain": [
       "<IPython.core.display.Math object>"
      ]
     },
     "metadata": {},
     "output_type": "display_data"
    },
    {
     "data": {
      "text/latex": [
       "$\\displaystyle -5005 x^22  \\xi_{yyyyyyyyy}$"
      ],
      "text/plain": [
       "<IPython.core.display.Math object>"
      ]
     },
     "metadata": {},
     "output_type": "display_data"
    },
    {
     "data": {
      "text/latex": [
       "$\\displaystyle 3003 x^22  \\phi_{yyyyyyyyy} - 42042 x^22  \\xi_{yyyyyyyyx}$"
      ],
      "text/plain": [
       "<IPython.core.display.Math object>"
      ]
     },
     "metadata": {},
     "output_type": "display_data"
    },
    {
     "data": {
      "text/latex": [
       "$\\displaystyle 24024 x^22  \\phi_{yyyyyyyyx} - 156156 x^22  \\xi_{yyyyyyyxx}$"
      ],
      "text/plain": [
       "<IPython.core.display.Math object>"
      ]
     },
     "metadata": {},
     "output_type": "display_data"
    },
    {
     "data": {
      "text/latex": [
       "$\\displaystyle 84084 x^22  \\phi_{yyyyyyyxx} - 336336 x^22  \\xi_{yyyyyyxxx}$"
      ],
      "text/plain": [
       "<IPython.core.display.Math object>"
      ]
     },
     "metadata": {},
     "output_type": "display_data"
    },
    {
     "data": {
      "text/latex": [
       "$\\displaystyle 168168 x^22  \\phi_{yyyyyyxxx} - 462462 x^22  \\xi_{yyyyyxxxx}$"
      ],
      "text/plain": [
       "<IPython.core.display.Math object>"
      ]
     },
     "metadata": {},
     "output_type": "display_data"
    },
    {
     "data": {
      "text/latex": [
       "$\\displaystyle 210210 x^22  \\phi_{yyyyyxxxx} - 420420 x^22  \\xi_{yyyyxxxxx}$"
      ],
      "text/plain": [
       "<IPython.core.display.Math object>"
      ]
     },
     "metadata": {},
     "output_type": "display_data"
    },
    {
     "data": {
      "text/latex": [
       "$\\displaystyle 168168 x^22  \\phi_{yyyyxxxxx} - 252252 x^22  \\xi_{yyyxxxxxx}$"
      ],
      "text/plain": [
       "<IPython.core.display.Math object>"
      ]
     },
     "metadata": {},
     "output_type": "display_data"
    },
    {
     "data": {
      "text/latex": [
       "$\\displaystyle 84084 x^22  \\phi_{yyyxxxxxx} - 96096 x^22  \\xi_{yyxxxxxxx}$"
      ],
      "text/plain": [
       "<IPython.core.display.Math object>"
      ]
     },
     "metadata": {},
     "output_type": "display_data"
    },
    {
     "data": {
      "text/latex": [
       "$\\displaystyle 24024 x^22  \\phi_{yyxxxxxxx} - 21021 x^22  \\xi_{yxxxxxxxx}$"
      ],
      "text/plain": [
       "<IPython.core.display.Math object>"
      ]
     },
     "metadata": {},
     "output_type": "display_data"
    },
    {
     "data": {
      "text/latex": [
       "$\\displaystyle 3003 x^22  \\phi_{yxxxxxxxx} - 2002 x^22  \\xi_{xxxxxxxxx}$"
      ],
      "text/plain": [
       "<IPython.core.display.Math object>"
      ]
     },
     "metadata": {},
     "output_type": "display_data"
    },
    {
     "data": {
      "text/latex": [
       "$\\displaystyle -126126 x^22  \\xi_{yy}$"
      ],
      "text/plain": [
       "<IPython.core.display.Math object>"
      ]
     },
     "metadata": {},
     "output_type": "display_data"
    },
    {
     "data": {
      "text/latex": [
       "$\\displaystyle -1891890 x^22  \\xi_{yyy}$"
      ],
      "text/plain": [
       "<IPython.core.display.Math object>"
      ]
     },
     "metadata": {},
     "output_type": "display_data"
    },
    {
     "data": {
      "text/latex": [
       "$\\displaystyle 126126 x^22  \\phi_{yyy} - 1765764 x^22  \\xi_{yyx}$"
      ],
      "text/plain": [
       "<IPython.core.display.Math object>"
      ]
     },
     "metadata": {},
     "output_type": "display_data"
    },
    {
     "data": {
      "text/latex": [
       "$\\displaystyle -3783780 x^22  \\xi_{yyy}$"
      ],
      "text/plain": [
       "<IPython.core.display.Math object>"
      ]
     },
     "metadata": {},
     "output_type": "display_data"
    },
    {
     "data": {
      "text/latex": [
       "$\\displaystyle -3783780 x^22  \\xi_{yyyy}$"
      ],
      "text/plain": [
       "<IPython.core.display.Math object>"
      ]
     },
     "metadata": {},
     "output_type": "display_data"
    },
    {
     "data": {
      "text/latex": [
       "$\\displaystyle 504504 x^22  \\phi_{yyyy} - 7063056 x^22  \\xi_{yyyx}$"
      ],
      "text/plain": [
       "<IPython.core.display.Math object>"
      ]
     },
     "metadata": {},
     "output_type": "display_data"
    },
    {
     "data": {
      "text/latex": [
       "$\\displaystyle 504504 x^22  \\phi_{yyyx} - 3279276 x^22  \\xi_{yyxx}$"
      ],
      "text/plain": [
       "<IPython.core.display.Math object>"
      ]
     },
     "metadata": {},
     "output_type": "display_data"
    },
    {
     "data": {
      "text/latex": [
       "$\\displaystyle -5675670 x^22  \\xi_{yyyy}$"
      ],
      "text/plain": [
       "<IPython.core.display.Math object>"
      ]
     },
     "metadata": {},
     "output_type": "display_data"
    },
    {
     "data": {
      "text/latex": [
       "$\\displaystyle 378378 x^22  \\phi_{yyyy} - 5297292 x^22  \\xi_{yyyx}$"
      ],
      "text/plain": [
       "<IPython.core.display.Math object>"
      ]
     },
     "metadata": {},
     "output_type": "display_data"
    },
    {
     "data": {
      "text/latex": [
       "$\\displaystyle -3783780 x^22  \\xi_{yyyyy}$"
      ],
      "text/plain": [
       "<IPython.core.display.Math object>"
      ]
     },
     "metadata": {},
     "output_type": "display_data"
    },
    {
     "data": {
      "text/latex": [
       "$\\displaystyle 756756 x^22  \\phi_{yyyyy} - 10594584 x^22  \\xi_{yyyyx}$"
      ],
      "text/plain": [
       "<IPython.core.display.Math object>"
      ]
     },
     "metadata": {},
     "output_type": "display_data"
    },
    {
     "data": {
      "text/latex": [
       "$\\displaystyle 1513512 x^22  \\phi_{yyyyx} - 9837828 x^22  \\xi_{yyyxx}$"
      ],
      "text/plain": [
       "<IPython.core.display.Math object>"
      ]
     },
     "metadata": {},
     "output_type": "display_data"
    },
    {
     "data": {
      "text/latex": [
       "$\\displaystyle 756756 x^22  \\phi_{yyyxx} - 3027024 x^22  \\xi_{yyxxx}$"
      ],
      "text/plain": [
       "<IPython.core.display.Math object>"
      ]
     },
     "metadata": {},
     "output_type": "display_data"
    },
    {
     "data": {
      "text/latex": [
       "$\\displaystyle -378378 x^22  \\xi_{yyyyyy}$"
      ],
      "text/plain": [
       "<IPython.core.display.Math object>"
      ]
     },
     "metadata": {},
     "output_type": "display_data"
    },
    {
     "data": {
      "text/latex": [
       "$\\displaystyle 126126 x^22  \\phi_{yyyyyy} - 1765764 x^22  \\xi_{yyyyyx}$"
      ],
      "text/plain": [
       "<IPython.core.display.Math object>"
      ]
     },
     "metadata": {},
     "output_type": "display_data"
    },
    {
     "data": {
      "text/latex": [
       "$\\displaystyle 504504 x^22  \\phi_{yyyyyx} - 3279276 x^22  \\xi_{yyyyxx}$"
      ],
      "text/plain": [
       "<IPython.core.display.Math object>"
      ]
     },
     "metadata": {},
     "output_type": "display_data"
    },
    {
     "data": {
      "text/latex": [
       "$\\displaystyle 756756 x^22  \\phi_{yyyyxx} - 3027024 x^22  \\xi_{yyyxxx}$"
      ],
      "text/plain": [
       "<IPython.core.display.Math object>"
      ]
     },
     "metadata": {},
     "output_type": "display_data"
    },
    {
     "data": {
      "text/latex": [
       "$\\displaystyle 504504 x^22  \\phi_{yyyxxx} - 1387386 x^22  \\xi_{yyxxxx}$"
      ],
      "text/plain": [
       "<IPython.core.display.Math object>"
      ]
     },
     "metadata": {},
     "output_type": "display_data"
    },
    {
     "data": {
      "text/latex": [
       "$\\displaystyle 126126 x^22  \\phi_{yyxxxx} - 252252 x^22  \\xi_{yxxxxx}$"
      ],
      "text/plain": [
       "<IPython.core.display.Math object>"
      ]
     },
     "metadata": {},
     "output_type": "display_data"
    },
    {
     "data": {
      "text/latex": [
       "$\\displaystyle -4729725 x^22  \\xi_{yyy}$"
      ],
      "text/plain": [
       "<IPython.core.display.Math object>"
      ]
     },
     "metadata": {},
     "output_type": "display_data"
    },
    {
     "data": {
      "text/latex": [
       "$\\displaystyle -4729725 x^22  \\xi_{yyyy}$"
      ],
      "text/plain": [
       "<IPython.core.display.Math object>"
      ]
     },
     "metadata": {},
     "output_type": "display_data"
    },
    {
     "data": {
      "text/latex": [
       "$\\displaystyle 630630 x^22  \\phi_{yyyy} - 8828820 x^22  \\xi_{yyyx}$"
      ],
      "text/plain": [
       "<IPython.core.display.Math object>"
      ]
     },
     "metadata": {},
     "output_type": "display_data"
    },
    {
     "data": {
      "text/latex": [
       "$\\displaystyle 630630 x^22  \\phi_{yyyx} - 4099095 x^22  \\xi_{yyxx}$"
      ],
      "text/plain": [
       "<IPython.core.display.Math object>"
      ]
     },
     "metadata": {},
     "output_type": "display_data"
    },
    {
     "data": {
      "text/latex": [
       "$\\displaystyle -6306300 x^22  \\xi_{yyy}$"
      ],
      "text/plain": [
       "<IPython.core.display.Math object>"
      ]
     },
     "metadata": {},
     "output_type": "display_data"
    },
    {
     "data": {
      "text/latex": [
       "$\\displaystyle -37837800 x^22  \\xi_{yyyy}$"
      ],
      "text/plain": [
       "<IPython.core.display.Math object>"
      ]
     },
     "metadata": {},
     "output_type": "display_data"
    },
    {
     "data": {
      "text/latex": [
       "$\\displaystyle 2522520 x^22  \\phi_{yyyy} - 35315280 x^22  \\xi_{yyyx}$"
      ],
      "text/plain": [
       "<IPython.core.display.Math object>"
      ]
     },
     "metadata": {},
     "output_type": "display_data"
    },
    {
     "data": {
      "text/latex": [
       "$\\displaystyle -12612600 x^22  \\xi_{yyyyy}$"
      ],
      "text/plain": [
       "<IPython.core.display.Math object>"
      ]
     },
     "metadata": {},
     "output_type": "display_data"
    },
    {
     "data": {
      "text/latex": [
       "$\\displaystyle 2522520 x^22  \\phi_{yyyyy} - 35315280 x^22  \\xi_{yyyyx}$"
      ],
      "text/plain": [
       "<IPython.core.display.Math object>"
      ]
     },
     "metadata": {},
     "output_type": "display_data"
    },
    {
     "data": {
      "text/latex": [
       "$\\displaystyle 5045040 x^22  \\phi_{yyyyx} - 32792760 x^22  \\xi_{yyyxx}$"
      ],
      "text/plain": [
       "<IPython.core.display.Math object>"
      ]
     },
     "metadata": {},
     "output_type": "display_data"
    },
    {
     "data": {
      "text/latex": [
       "$\\displaystyle 2522520 x^22  \\phi_{yyyxx} - 10090080 x^22  \\xi_{yyxxx}$"
      ],
      "text/plain": [
       "<IPython.core.display.Math object>"
      ]
     },
     "metadata": {},
     "output_type": "display_data"
    },
    {
     "data": {
      "text/latex": [
       "$\\displaystyle -9459450 x^22  \\xi_{yyyy}$"
      ],
      "text/plain": [
       "<IPython.core.display.Math object>"
      ]
     },
     "metadata": {},
     "output_type": "display_data"
    },
    {
     "data": {
      "text/latex": [
       "$\\displaystyle -28378350 x^22  \\xi_{yyyyy}$"
      ],
      "text/plain": [
       "<IPython.core.display.Math object>"
      ]
     },
     "metadata": {},
     "output_type": "display_data"
    },
    {
     "data": {
      "text/latex": [
       "$\\displaystyle 3783780 x^22  \\phi_{yyyyy} - 52972920 x^22  \\xi_{yyyyx}$"
      ],
      "text/plain": [
       "<IPython.core.display.Math object>"
      ]
     },
     "metadata": {},
     "output_type": "display_data"
    },
    {
     "data": {
      "text/latex": [
       "$\\displaystyle 3783780 x^22  \\phi_{yyyyx} - 24594570 x^22  \\xi_{yyyxx}$"
      ],
      "text/plain": [
       "<IPython.core.display.Math object>"
      ]
     },
     "metadata": {},
     "output_type": "display_data"
    },
    {
     "data": {
      "text/latex": [
       "$\\displaystyle -9459450 x^22  \\xi_{yyyyyy}$"
      ],
      "text/plain": [
       "<IPython.core.display.Math object>"
      ]
     },
     "metadata": {},
     "output_type": "display_data"
    },
    {
     "data": {
      "text/latex": [
       "$\\displaystyle 2522520 x^22  \\phi_{yyyyyy} - 35315280 x^22  \\xi_{yyyyyx}$"
      ],
      "text/plain": [
       "<IPython.core.display.Math object>"
      ]
     },
     "metadata": {},
     "output_type": "display_data"
    },
    {
     "data": {
      "text/latex": [
       "$\\displaystyle 7567560 x^22  \\phi_{yyyyyx} - 49189140 x^22  \\xi_{yyyyxx}$"
      ],
      "text/plain": [
       "<IPython.core.display.Math object>"
      ]
     },
     "metadata": {},
     "output_type": "display_data"
    },
    {
     "data": {
      "text/latex": [
       "$\\displaystyle 7567560 x^22  \\phi_{yyyyxx} - 30270240 x^22  \\xi_{yyyxxx}$"
      ],
      "text/plain": [
       "<IPython.core.display.Math object>"
      ]
     },
     "metadata": {},
     "output_type": "display_data"
    },
    {
     "data": {
      "text/latex": [
       "$\\displaystyle 2522520 x^22  \\phi_{yyyxxx} - 6936930 x^22  \\xi_{yyxxxx}$"
      ],
      "text/plain": [
       "<IPython.core.display.Math object>"
      ]
     },
     "metadata": {},
     "output_type": "display_data"
    },
    {
     "data": {
      "text/latex": [
       "$\\displaystyle -630630 x^22  \\xi_{yyyyyyy}$"
      ],
      "text/plain": [
       "<IPython.core.display.Math object>"
      ]
     },
     "metadata": {},
     "output_type": "display_data"
    },
    {
     "data": {
      "text/latex": [
       "$\\displaystyle 252252 x^22  \\phi_{yyyyyyy} - 3531528 x^22  \\xi_{yyyyyyx}$"
      ],
      "text/plain": [
       "<IPython.core.display.Math object>"
      ]
     },
     "metadata": {},
     "output_type": "display_data"
    },
    {
     "data": {
      "text/latex": [
       "$\\displaystyle 1261260 x^22  \\phi_{yyyyyyx} - 8198190 x^22  \\xi_{yyyyyxx}$"
      ],
      "text/plain": [
       "<IPython.core.display.Math object>"
      ]
     },
     "metadata": {},
     "output_type": "display_data"
    },
    {
     "data": {
      "text/latex": [
       "$\\displaystyle 2522520 x^22  \\phi_{yyyyyxx} - 10090080 x^22  \\xi_{yyyyxxx}$"
      ],
      "text/plain": [
       "<IPython.core.display.Math object>"
      ]
     },
     "metadata": {},
     "output_type": "display_data"
    },
    {
     "data": {
      "text/latex": [
       "$\\displaystyle 2522520 x^22  \\phi_{yyyyxxx} - 6936930 x^22  \\xi_{yyyxxxx}$"
      ],
      "text/plain": [
       "<IPython.core.display.Math object>"
      ]
     },
     "metadata": {},
     "output_type": "display_data"
    },
    {
     "data": {
      "text/latex": [
       "$\\displaystyle 1261260 x^22  \\phi_{yyyxxxx} - 2522520 x^22  \\xi_{yyxxxxx}$"
      ],
      "text/plain": [
       "<IPython.core.display.Math object>"
      ]
     },
     "metadata": {},
     "output_type": "display_data"
    },
    {
     "data": {
      "text/latex": [
       "$\\displaystyle 252252 x^22  \\phi_{yyxxxxx} - 378378 x^22  \\xi_{yxxxxxx}$"
      ],
      "text/plain": [
       "<IPython.core.display.Math object>"
      ]
     },
     "metadata": {},
     "output_type": "display_data"
    },
    {
     "data": {
      "text/latex": [
       "$\\displaystyle -8408400 x^22  \\xi_{yyyy}$"
      ],
      "text/plain": [
       "<IPython.core.display.Math object>"
      ]
     },
     "metadata": {},
     "output_type": "display_data"
    },
    {
     "data": {
      "text/latex": [
       "$\\displaystyle 560560 x^22  \\phi_{yyyy} - 7847840 x^22  \\xi_{yyyx}$"
      ],
      "text/plain": [
       "<IPython.core.display.Math object>"
      ]
     },
     "metadata": {},
     "output_type": "display_data"
    },
    {
     "data": {
      "text/latex": [
       "$\\displaystyle -18918900 x^22  \\xi_{yyyy}$"
      ],
      "text/plain": [
       "<IPython.core.display.Math object>"
      ]
     },
     "metadata": {},
     "output_type": "display_data"
    },
    {
     "data": {
      "text/latex": [
       "$\\displaystyle -37837800 x^22  \\xi_{yyyyy}$"
      ],
      "text/plain": [
       "<IPython.core.display.Math object>"
      ]
     },
     "metadata": {},
     "output_type": "display_data"
    },
    {
     "data": {
      "text/latex": [
       "$\\displaystyle 5045040 x^22  \\phi_{yyyyy} - 70630560 x^22  \\xi_{yyyyx}$"
      ],
      "text/plain": [
       "<IPython.core.display.Math object>"
      ]
     },
     "metadata": {},
     "output_type": "display_data"
    },
    {
     "data": {
      "text/latex": [
       "$\\displaystyle 5045040 x^22  \\phi_{yyyyx} - 32792760 x^22  \\xi_{yyyxx}$"
      ],
      "text/plain": [
       "<IPython.core.display.Math object>"
      ]
     },
     "metadata": {},
     "output_type": "display_data"
    },
    {
     "data": {
      "text/latex": [
       "$\\displaystyle -6306300 x^22  \\xi_{yyyyyy}$"
      ],
      "text/plain": [
       "<IPython.core.display.Math object>"
      ]
     },
     "metadata": {},
     "output_type": "display_data"
    },
    {
     "data": {
      "text/latex": [
       "$\\displaystyle 1681680 x^22  \\phi_{yyyyyy} - 23543520 x^22  \\xi_{yyyyyx}$"
      ],
      "text/plain": [
       "<IPython.core.display.Math object>"
      ]
     },
     "metadata": {},
     "output_type": "display_data"
    },
    {
     "data": {
      "text/latex": [
       "$\\displaystyle 5045040 x^22  \\phi_{yyyyyx} - 32792760 x^22  \\xi_{yyyyxx}$"
      ],
      "text/plain": [
       "<IPython.core.display.Math object>"
      ]
     },
     "metadata": {},
     "output_type": "display_data"
    },
    {
     "data": {
      "text/latex": [
       "$\\displaystyle 5045040 x^22  \\phi_{yyyyxx} - 20180160 x^22  \\xi_{yyyxxx}$"
      ],
      "text/plain": [
       "<IPython.core.display.Math object>"
      ]
     },
     "metadata": {},
     "output_type": "display_data"
    },
    {
     "data": {
      "text/latex": [
       "$\\displaystyle 1681680 x^22  \\phi_{yyyxxx} - 4624620 x^22  \\xi_{yyxxxx}$"
      ],
      "text/plain": [
       "<IPython.core.display.Math object>"
      ]
     },
     "metadata": {},
     "output_type": "display_data"
    },
    {
     "data": {
      "text/latex": [
       "$\\displaystyle -37837800 x^22  \\xi_{yyyyy}$"
      ],
      "text/plain": [
       "<IPython.core.display.Math object>"
      ]
     },
     "metadata": {},
     "output_type": "display_data"
    },
    {
     "data": {
      "text/latex": [
       "$\\displaystyle 2522520 x^22  \\phi_{yyyyy} - 35315280 x^22  \\xi_{yyyyx}$"
      ],
      "text/plain": [
       "<IPython.core.display.Math object>"
      ]
     },
     "metadata": {},
     "output_type": "display_data"
    },
    {
     "data": {
      "text/latex": [
       "$\\displaystyle -37837800 x^22  \\xi_{yyyyyy}$"
      ],
      "text/plain": [
       "<IPython.core.display.Math object>"
      ]
     },
     "metadata": {},
     "output_type": "display_data"
    },
    {
     "data": {
      "text/latex": [
       "$\\displaystyle 7567560 x^22  \\phi_{yyyyyy} - 105945840 x^22  \\xi_{yyyyyx}$"
      ],
      "text/plain": [
       "<IPython.core.display.Math object>"
      ]
     },
     "metadata": {},
     "output_type": "display_data"
    },
    {
     "data": {
      "text/latex": [
       "$\\displaystyle 15135120 x^22  \\phi_{yyyyyx} - 98378280 x^22  \\xi_{yyyyxx}$"
      ],
      "text/plain": [
       "<IPython.core.display.Math object>"
      ]
     },
     "metadata": {},
     "output_type": "display_data"
    },
    {
     "data": {
      "text/latex": [
       "$\\displaystyle 7567560 x^22  \\phi_{yyyyxx} - 30270240 x^22  \\xi_{yyyxxx}$"
      ],
      "text/plain": [
       "<IPython.core.display.Math object>"
      ]
     },
     "metadata": {},
     "output_type": "display_data"
    },
    {
     "data": {
      "text/latex": [
       "$\\displaystyle -7567560 x^22  \\xi_{yyyyyyy}$"
      ],
      "text/plain": [
       "<IPython.core.display.Math object>"
      ]
     },
     "metadata": {},
     "output_type": "display_data"
    },
    {
     "data": {
      "text/latex": [
       "$\\displaystyle 2522520 x^22  \\phi_{yyyyyyy} - 35315280 x^22  \\xi_{yyyyyyx}$"
      ],
      "text/plain": [
       "<IPython.core.display.Math object>"
      ]
     },
     "metadata": {},
     "output_type": "display_data"
    },
    {
     "data": {
      "text/latex": [
       "$\\displaystyle 10090080 x^22  \\phi_{yyyyyyx} - 65585520 x^22  \\xi_{yyyyyxx}$"
      ],
      "text/plain": [
       "<IPython.core.display.Math object>"
      ]
     },
     "metadata": {},
     "output_type": "display_data"
    },
    {
     "data": {
      "text/latex": [
       "$\\displaystyle 15135120 x^22  \\phi_{yyyyyxx} - 60540480 x^22  \\xi_{yyyyxxx}$"
      ],
      "text/plain": [
       "<IPython.core.display.Math object>"
      ]
     },
     "metadata": {},
     "output_type": "display_data"
    },
    {
     "data": {
      "text/latex": [
       "$\\displaystyle 10090080 x^22  \\phi_{yyyyxxx} - 27747720 x^22  \\xi_{yyyxxxx}$"
      ],
      "text/plain": [
       "<IPython.core.display.Math object>"
      ]
     },
     "metadata": {},
     "output_type": "display_data"
    },
    {
     "data": {
      "text/latex": [
       "$\\displaystyle 2522520 x^22  \\phi_{yyyxxxx} - 5045040 x^22  \\xi_{yyxxxxx}$"
      ],
      "text/plain": [
       "<IPython.core.display.Math object>"
      ]
     },
     "metadata": {},
     "output_type": "display_data"
    },
    {
     "data": {
      "text/latex": [
       "$\\displaystyle -360360 x^22  \\xi_{yyyyyyyy}$"
      ],
      "text/plain": [
       "<IPython.core.display.Math object>"
      ]
     },
     "metadata": {},
     "output_type": "display_data"
    },
    {
     "data": {
      "text/latex": [
       "$\\displaystyle 168168 x^22  \\phi_{yyyyyyyy} - 2354352 x^22  \\xi_{yyyyyyyx}$"
      ],
      "text/plain": [
       "<IPython.core.display.Math object>"
      ]
     },
     "metadata": {},
     "output_type": "display_data"
    },
    {
     "data": {
      "text/latex": [
       "$\\displaystyle 1009008 x^22  \\phi_{yyyyyyyx} - 6558552 x^22  \\xi_{yyyyyyxx}$"
      ],
      "text/plain": [
       "<IPython.core.display.Math object>"
      ]
     },
     "metadata": {},
     "output_type": "display_data"
    },
    {
     "data": {
      "text/latex": [
       "$\\displaystyle 2522520 x^22  \\phi_{yyyyyyxx} - 10090080 x^22  \\xi_{yyyyyxxx}$"
      ],
      "text/plain": [
       "<IPython.core.display.Math object>"
      ]
     },
     "metadata": {},
     "output_type": "display_data"
    },
    {
     "data": {
      "text/latex": [
       "$\\displaystyle 3363360 x^22  \\phi_{yyyyyxxx} - 9249240 x^22  \\xi_{yyyyxxxx}$"
      ],
      "text/plain": [
       "<IPython.core.display.Math object>"
      ]
     },
     "metadata": {},
     "output_type": "display_data"
    },
    {
     "data": {
      "text/latex": [
       "$\\displaystyle 2522520 x^22  \\phi_{yyyyxxxx} - 5045040 x^22  \\xi_{yyyxxxxx}$"
      ],
      "text/plain": [
       "<IPython.core.display.Math object>"
      ]
     },
     "metadata": {},
     "output_type": "display_data"
    },
    {
     "data": {
      "text/latex": [
       "$\\displaystyle 1009008 x^22  \\phi_{yyyxxxxx} - 1513512 x^22  \\xi_{yyxxxxxx}$"
      ],
      "text/plain": [
       "<IPython.core.display.Math object>"
      ]
     },
     "metadata": {},
     "output_type": "display_data"
    },
    {
     "data": {
      "text/latex": [
       "$\\displaystyle 168168 x^22  \\phi_{yyxxxxxx} - 192192 x^22  \\xi_{yxxxxxxx}$"
      ],
      "text/plain": [
       "<IPython.core.display.Math object>"
      ]
     },
     "metadata": {},
     "output_type": "display_data"
    },
    {
     "data": {
      "text/latex": [
       "$\\displaystyle -2837835 x^22  \\xi_{yyyyy}$"
      ],
      "text/plain": [
       "<IPython.core.display.Math object>"
      ]
     },
     "metadata": {},
     "output_type": "display_data"
    },
    {
     "data": {
      "text/latex": [
       "$\\displaystyle -14189175 x^22  \\xi_{yyyyyy}$"
      ],
      "text/plain": [
       "<IPython.core.display.Math object>"
      ]
     },
     "metadata": {},
     "output_type": "display_data"
    },
    {
     "data": {
      "text/latex": [
       "$\\displaystyle 1891890 x^22  \\phi_{yyyyyy} - 26486460 x^22  \\xi_{yyyyyx}$"
      ],
      "text/plain": [
       "<IPython.core.display.Math object>"
      ]
     },
     "metadata": {},
     "output_type": "display_data"
    },
    {
     "data": {
      "text/latex": [
       "$\\displaystyle 1891890 x^22  \\phi_{yyyyyx} - 12297285 x^22  \\xi_{yyyyxx}$"
      ],
      "text/plain": [
       "<IPython.core.display.Math object>"
      ]
     },
     "metadata": {},
     "output_type": "display_data"
    },
    {
     "data": {
      "text/latex": [
       "$\\displaystyle -9459450 x^22  \\xi_{yyyyyyy}$"
      ],
      "text/plain": [
       "<IPython.core.display.Math object>"
      ]
     },
     "metadata": {},
     "output_type": "display_data"
    },
    {
     "data": {
      "text/latex": [
       "$\\displaystyle 2522520 x^22  \\phi_{yyyyyyy} - 35315280 x^22  \\xi_{yyyyyyx}$"
      ],
      "text/plain": [
       "<IPython.core.display.Math object>"
      ]
     },
     "metadata": {},
     "output_type": "display_data"
    },
    {
     "data": {
      "text/latex": [
       "$\\displaystyle 7567560 x^22  \\phi_{yyyyyyx} - 49189140 x^22  \\xi_{yyyyyxx}$"
      ],
      "text/plain": [
       "<IPython.core.display.Math object>"
      ]
     },
     "metadata": {},
     "output_type": "display_data"
    },
    {
     "data": {
      "text/latex": [
       "$\\displaystyle 7567560 x^22  \\phi_{yyyyyxx} - 30270240 x^22  \\xi_{yyyyxxx}$"
      ],
      "text/plain": [
       "<IPython.core.display.Math object>"
      ]
     },
     "metadata": {},
     "output_type": "display_data"
    },
    {
     "data": {
      "text/latex": [
       "$\\displaystyle 2522520 x^22  \\phi_{yyyyxxx} - 6936930 x^22  \\xi_{yyyxxxx}$"
      ],
      "text/plain": [
       "<IPython.core.display.Math object>"
      ]
     },
     "metadata": {},
     "output_type": "display_data"
    },
    {
     "data": {
      "text/latex": [
       "$\\displaystyle -1891890 x^22  \\xi_{yyyyyyyy}$"
      ],
      "text/plain": [
       "<IPython.core.display.Math object>"
      ]
     },
     "metadata": {},
     "output_type": "display_data"
    },
    {
     "data": {
      "text/latex": [
       "$\\displaystyle 756756 x^22  \\phi_{yyyyyyyy} - 10594584 x^22  \\xi_{yyyyyyyx}$"
      ],
      "text/plain": [
       "<IPython.core.display.Math object>"
      ]
     },
     "metadata": {},
     "output_type": "display_data"
    },
    {
     "data": {
      "text/latex": [
       "$\\displaystyle 3783780 x^22  \\phi_{yyyyyyyx} - 24594570 x^22  \\xi_{yyyyyyxx}$"
      ],
      "text/plain": [
       "<IPython.core.display.Math object>"
      ]
     },
     "metadata": {},
     "output_type": "display_data"
    },
    {
     "data": {
      "text/latex": [
       "$\\displaystyle 7567560 x^22  \\phi_{yyyyyyxx} - 30270240 x^22  \\xi_{yyyyyxxx}$"
      ],
      "text/plain": [
       "<IPython.core.display.Math object>"
      ]
     },
     "metadata": {},
     "output_type": "display_data"
    },
    {
     "data": {
      "text/latex": [
       "$\\displaystyle 7567560 x^22  \\phi_{yyyyyxxx} - 20810790 x^22  \\xi_{yyyyxxxx}$"
      ],
      "text/plain": [
       "<IPython.core.display.Math object>"
      ]
     },
     "metadata": {},
     "output_type": "display_data"
    },
    {
     "data": {
      "text/latex": [
       "$\\displaystyle 3783780 x^22  \\phi_{yyyyxxxx} - 7567560 x^22  \\xi_{yyyxxxxx}$"
      ],
      "text/plain": [
       "<IPython.core.display.Math object>"
      ]
     },
     "metadata": {},
     "output_type": "display_data"
    },
    {
     "data": {
      "text/latex": [
       "$\\displaystyle 756756 x^22  \\phi_{yyyxxxxx} - 1135134 x^22  \\xi_{yyxxxxxx}$"
      ],
      "text/plain": [
       "<IPython.core.display.Math object>"
      ]
     },
     "metadata": {},
     "output_type": "display_data"
    },
    {
     "data": {
      "text/latex": [
       "$\\displaystyle -135135 x^22  \\xi_{yyyyyyyyy}$"
      ],
      "text/plain": [
       "<IPython.core.display.Math object>"
      ]
     },
     "metadata": {},
     "output_type": "display_data"
    },
    {
     "data": {
      "text/latex": [
       "$\\displaystyle 72072 x^22  \\phi_{yyyyyyyyy} - 1009008 x^22  \\xi_{yyyyyyyyx}$"
      ],
      "text/plain": [
       "<IPython.core.display.Math object>"
      ]
     },
     "metadata": {},
     "output_type": "display_data"
    },
    {
     "data": {
      "text/latex": [
       "$\\displaystyle 504504 x^22  \\phi_{yyyyyyyyx} - 3279276 x^22  \\xi_{yyyyyyyxx}$"
      ],
      "text/plain": [
       "<IPython.core.display.Math object>"
      ]
     },
     "metadata": {},
     "output_type": "display_data"
    },
    {
     "data": {
      "text/latex": [
       "$\\displaystyle 1513512 x^22  \\phi_{yyyyyyyxx} - 6054048 x^22  \\xi_{yyyyyyxxx}$"
      ],
      "text/plain": [
       "<IPython.core.display.Math object>"
      ]
     },
     "metadata": {},
     "output_type": "display_data"
    },
    {
     "data": {
      "text/latex": [
       "$\\displaystyle 2522520 x^22  \\phi_{yyyyyyxxx} - 6936930 x^22  \\xi_{yyyyyxxxx}$"
      ],
      "text/plain": [
       "<IPython.core.display.Math object>"
      ]
     },
     "metadata": {},
     "output_type": "display_data"
    },
    {
     "data": {
      "text/latex": [
       "$\\displaystyle 2522520 x^22  \\phi_{yyyyyxxxx} - 5045040 x^22  \\xi_{yyyyxxxxx}$"
      ],
      "text/plain": [
       "<IPython.core.display.Math object>"
      ]
     },
     "metadata": {},
     "output_type": "display_data"
    },
    {
     "data": {
      "text/latex": [
       "$\\displaystyle 1513512 x^22  \\phi_{yyyyxxxxx} - 2270268 x^22  \\xi_{yyyxxxxxx}$"
      ],
      "text/plain": [
       "<IPython.core.display.Math object>"
      ]
     },
     "metadata": {},
     "output_type": "display_data"
    },
    {
     "data": {
      "text/latex": [
       "$\\displaystyle 504504 x^22  \\phi_{yyyxxxxxx} - 576576 x^22  \\xi_{yyxxxxxxx}$"
      ],
      "text/plain": [
       "<IPython.core.display.Math object>"
      ]
     },
     "metadata": {},
     "output_type": "display_data"
    },
    {
     "data": {
      "text/latex": [
       "$\\displaystyle 72072 x^22  \\phi_{yyxxxxxxx} - 63063 x^22  \\xi_{yxxxxxxxx}$"
      ],
      "text/plain": [
       "<IPython.core.display.Math object>"
      ]
     },
     "metadata": {},
     "output_type": "display_data"
    },
    {
     "data": {
      "text/latex": [
       "$\\displaystyle -3003 x^22  \\xi_{yyyyyyyyyy}$"
      ],
      "text/plain": [
       "<IPython.core.display.Math object>"
      ]
     },
     "metadata": {},
     "output_type": "display_data"
    },
    {
     "data": {
      "text/latex": [
       "$\\displaystyle 2002 x^22  \\phi_{yyyyyyyyyy} - 28028 x^22  \\xi_{yyyyyyyyyx}$"
      ],
      "text/plain": [
       "<IPython.core.display.Math object>"
      ]
     },
     "metadata": {},
     "output_type": "display_data"
    },
    {
     "data": {
      "text/latex": [
       "$\\displaystyle 18018 x^22  \\phi_{yyyyyyyyyx} - 117117 x^22  \\xi_{yyyyyyyyxx}$"
      ],
      "text/plain": [
       "<IPython.core.display.Math object>"
      ]
     },
     "metadata": {},
     "output_type": "display_data"
    },
    {
     "data": {
      "text/latex": [
       "$\\displaystyle 72072 x^22  \\phi_{yyyyyyyyxx} - 288288 x^22  \\xi_{yyyyyyyxxx}$"
      ],
      "text/plain": [
       "<IPython.core.display.Math object>"
      ]
     },
     "metadata": {},
     "output_type": "display_data"
    },
    {
     "data": {
      "text/latex": [
       "$\\displaystyle 168168 x^22  \\phi_{yyyyyyyxxx} - 462462 x^22  \\xi_{yyyyyyxxxx}$"
      ],
      "text/plain": [
       "<IPython.core.display.Math object>"
      ]
     },
     "metadata": {},
     "output_type": "display_data"
    },
    {
     "data": {
      "text/latex": [
       "$\\displaystyle 252252 x^22  \\phi_{yyyyyyxxxx} - 504504 x^22  \\xi_{yyyyyxxxxx}$"
      ],
      "text/plain": [
       "<IPython.core.display.Math object>"
      ]
     },
     "metadata": {},
     "output_type": "display_data"
    },
    {
     "data": {
      "text/latex": [
       "$\\displaystyle 252252 x^22  \\phi_{yyyyyxxxxx} - 378378 x^22  \\xi_{yyyyxxxxxx}$"
      ],
      "text/plain": [
       "<IPython.core.display.Math object>"
      ]
     },
     "metadata": {},
     "output_type": "display_data"
    },
    {
     "data": {
      "text/latex": [
       "$\\displaystyle 168168 x^22  \\phi_{yyyyxxxxxx} - 192192 x^22  \\xi_{yyyxxxxxxx}$"
      ],
      "text/plain": [
       "<IPython.core.display.Math object>"
      ]
     },
     "metadata": {},
     "output_type": "display_data"
    },
    {
     "data": {
      "text/latex": [
       "$\\displaystyle 72072 x^22  \\phi_{yyyxxxxxxx} - 63063 x^22  \\xi_{yyxxxxxxxx}$"
      ],
      "text/plain": [
       "<IPython.core.display.Math object>"
      ]
     },
     "metadata": {},
     "output_type": "display_data"
    },
    {
     "data": {
      "text/latex": [
       "$\\displaystyle 18018 x^22  \\phi_{yyxxxxxxxx} - 12012 x^22  \\xi_{yxxxxxxxxx}$"
      ],
      "text/plain": [
       "<IPython.core.display.Math object>"
      ]
     },
     "metadata": {},
     "output_type": "display_data"
    },
    {
     "data": {
      "text/latex": [
       "$\\displaystyle 2002 x^22  \\phi_{yxxxxxxxxx} - 1001 x^22  \\xi_{xxxxxxxxxx}$"
      ],
      "text/plain": [
       "<IPython.core.display.Math object>"
      ]
     },
     "metadata": {},
     "output_type": "display_data"
    },
    {
     "data": {
      "text/latex": [
       "$\\displaystyle -2627625 x^22  \\xi_{yyy}$"
      ],
      "text/plain": [
       "<IPython.core.display.Math object>"
      ]
     },
     "metadata": {},
     "output_type": "display_data"
    },
    {
     "data": {
      "text/latex": [
       "$\\displaystyle -7882875 x^22  \\xi_{yyyy}$"
      ],
      "text/plain": [
       "<IPython.core.display.Math object>"
      ]
     },
     "metadata": {},
     "output_type": "display_data"
    },
    {
     "data": {
      "text/latex": [
       "$\\displaystyle 525525 x^22  \\phi_{yyyy} - 7357350 x^22  \\xi_{yyyx}$"
      ],
      "text/plain": [
       "<IPython.core.display.Math object>"
      ]
     },
     "metadata": {},
     "output_type": "display_data"
    },
    {
     "data": {
      "text/latex": [
       "$\\displaystyle -2627625 x^22  \\xi_{yyyyy}$"
      ],
      "text/plain": [
       "<IPython.core.display.Math object>"
      ]
     },
     "metadata": {},
     "output_type": "display_data"
    },
    {
     "data": {
      "text/latex": [
       "$\\displaystyle 525525 x^22  \\phi_{yyyyy} - 7357350 x^22  \\xi_{yyyyx}$"
      ],
      "text/plain": [
       "<IPython.core.display.Math object>"
      ]
     },
     "metadata": {},
     "output_type": "display_data"
    },
    {
     "data": {
      "text/latex": [
       "$\\displaystyle 1051050 x^22  \\phi_{yyyyx} - 6831825 x^22  \\xi_{yyyxx}$"
      ],
      "text/plain": [
       "<IPython.core.display.Math object>"
      ]
     },
     "metadata": {},
     "output_type": "display_data"
    },
    {
     "data": {
      "text/latex": [
       "$\\displaystyle 525525 x^22  \\phi_{yyyxx} - 2102100 x^22  \\xi_{yyxxx}$"
      ],
      "text/plain": [
       "<IPython.core.display.Math object>"
      ]
     },
     "metadata": {},
     "output_type": "display_data"
    },
    {
     "data": {
      "text/latex": [
       "$\\displaystyle -15765750 x^22  \\xi_{yyyy}$"
      ],
      "text/plain": [
       "<IPython.core.display.Math object>"
      ]
     },
     "metadata": {},
     "output_type": "display_data"
    },
    {
     "data": {
      "text/latex": [
       "$\\displaystyle 1051050 x^22  \\phi_{yyyy} - 14714700 x^22  \\xi_{yyyx}$"
      ],
      "text/plain": [
       "<IPython.core.display.Math object>"
      ]
     },
     "metadata": {},
     "output_type": "display_data"
    },
    {
     "data": {
      "text/latex": [
       "$\\displaystyle -23648625 x^22  \\xi_{yyyy}$"
      ],
      "text/plain": [
       "<IPython.core.display.Math object>"
      ]
     },
     "metadata": {},
     "output_type": "display_data"
    },
    {
     "data": {
      "text/latex": [
       "$\\displaystyle -47297250 x^22  \\xi_{yyyyy}$"
      ],
      "text/plain": [
       "<IPython.core.display.Math object>"
      ]
     },
     "metadata": {},
     "output_type": "display_data"
    },
    {
     "data": {
      "text/latex": [
       "$\\displaystyle 6306300 x^22  \\phi_{yyyyy} - 88288200 x^22  \\xi_{yyyyx}$"
      ],
      "text/plain": [
       "<IPython.core.display.Math object>"
      ]
     },
     "metadata": {},
     "output_type": "display_data"
    },
    {
     "data": {
      "text/latex": [
       "$\\displaystyle 6306300 x^22  \\phi_{yyyyx} - 40990950 x^22  \\xi_{yyyxx}$"
      ],
      "text/plain": [
       "<IPython.core.display.Math object>"
      ]
     },
     "metadata": {},
     "output_type": "display_data"
    },
    {
     "data": {
      "text/latex": [
       "$\\displaystyle -7882875 x^22  \\xi_{yyyyyy}$"
      ],
      "text/plain": [
       "<IPython.core.display.Math object>"
      ]
     },
     "metadata": {},
     "output_type": "display_data"
    },
    {
     "data": {
      "text/latex": [
       "$\\displaystyle 2102100 x^22  \\phi_{yyyyyy} - 29429400 x^22  \\xi_{yyyyyx}$"
      ],
      "text/plain": [
       "<IPython.core.display.Math object>"
      ]
     },
     "metadata": {},
     "output_type": "display_data"
    },
    {
     "data": {
      "text/latex": [
       "$\\displaystyle 6306300 x^22  \\phi_{yyyyyx} - 40990950 x^22  \\xi_{yyyyxx}$"
      ],
      "text/plain": [
       "<IPython.core.display.Math object>"
      ]
     },
     "metadata": {},
     "output_type": "display_data"
    },
    {
     "data": {
      "text/latex": [
       "$\\displaystyle 6306300 x^22  \\phi_{yyyyxx} - 25225200 x^22  \\xi_{yyyxxx}$"
      ],
      "text/plain": [
       "<IPython.core.display.Math object>"
      ]
     },
     "metadata": {},
     "output_type": "display_data"
    },
    {
     "data": {
      "text/latex": [
       "$\\displaystyle 2102100 x^22  \\phi_{yyyxxx} - 5780775 x^22  \\xi_{yyxxxx}$"
      ],
      "text/plain": [
       "<IPython.core.display.Math object>"
      ]
     },
     "metadata": {},
     "output_type": "display_data"
    },
    {
     "data": {
      "text/latex": [
       "$\\displaystyle -23648625 x^22  \\xi_{yyyyy}$"
      ],
      "text/plain": [
       "<IPython.core.display.Math object>"
      ]
     },
     "metadata": {},
     "output_type": "display_data"
    },
    {
     "data": {
      "text/latex": [
       "$\\displaystyle 1576575 x^22  \\phi_{yyyyy} - 22072050 x^22  \\xi_{yyyyx}$"
      ],
      "text/plain": [
       "<IPython.core.display.Math object>"
      ]
     },
     "metadata": {},
     "output_type": "display_data"
    },
    {
     "data": {
      "text/latex": [
       "$\\displaystyle -23648625 x^22  \\xi_{yyyyyy}$"
      ],
      "text/plain": [
       "<IPython.core.display.Math object>"
      ]
     },
     "metadata": {},
     "output_type": "display_data"
    },
    {
     "data": {
      "text/latex": [
       "$\\displaystyle 4729725 x^22  \\phi_{yyyyyy} - 66216150 x^22  \\xi_{yyyyyx}$"
      ],
      "text/plain": [
       "<IPython.core.display.Math object>"
      ]
     },
     "metadata": {},
     "output_type": "display_data"
    },
    {
     "data": {
      "text/latex": [
       "$\\displaystyle 9459450 x^22  \\phi_{yyyyyx} - 61486425 x^22  \\xi_{yyyyxx}$"
      ],
      "text/plain": [
       "<IPython.core.display.Math object>"
      ]
     },
     "metadata": {},
     "output_type": "display_data"
    },
    {
     "data": {
      "text/latex": [
       "$\\displaystyle 4729725 x^22  \\phi_{yyyyxx} - 18918900 x^22  \\xi_{yyyxxx}$"
      ],
      "text/plain": [
       "<IPython.core.display.Math object>"
      ]
     },
     "metadata": {},
     "output_type": "display_data"
    },
    {
     "data": {
      "text/latex": [
       "$\\displaystyle -4729725 x^22  \\xi_{yyyyyyy}$"
      ],
      "text/plain": [
       "<IPython.core.display.Math object>"
      ]
     },
     "metadata": {},
     "output_type": "display_data"
    },
    {
     "data": {
      "text/latex": [
       "$\\displaystyle 1576575 x^22  \\phi_{yyyyyyy} - 22072050 x^22  \\xi_{yyyyyyx}$"
      ],
      "text/plain": [
       "<IPython.core.display.Math object>"
      ]
     },
     "metadata": {},
     "output_type": "display_data"
    },
    {
     "data": {
      "text/latex": [
       "$\\displaystyle 6306300 x^22  \\phi_{yyyyyyx} - 40990950 x^22  \\xi_{yyyyyxx}$"
      ],
      "text/plain": [
       "<IPython.core.display.Math object>"
      ]
     },
     "metadata": {},
     "output_type": "display_data"
    },
    {
     "data": {
      "text/latex": [
       "$\\displaystyle 9459450 x^22  \\phi_{yyyyyxx} - 37837800 x^22  \\xi_{yyyyxxx}$"
      ],
      "text/plain": [
       "<IPython.core.display.Math object>"
      ]
     },
     "metadata": {},
     "output_type": "display_data"
    },
    {
     "data": {
      "text/latex": [
       "$\\displaystyle 6306300 x^22  \\phi_{yyyyxxx} - 17342325 x^22  \\xi_{yyyxxxx}$"
      ],
      "text/plain": [
       "<IPython.core.display.Math object>"
      ]
     },
     "metadata": {},
     "output_type": "display_data"
    },
    {
     "data": {
      "text/latex": [
       "$\\displaystyle 1576575 x^22  \\phi_{yyyxxxx} - 3153150 x^22  \\xi_{yyxxxxx}$"
      ],
      "text/plain": [
       "<IPython.core.display.Math object>"
      ]
     },
     "metadata": {},
     "output_type": "display_data"
    },
    {
     "data": {
      "text/latex": [
       "$\\displaystyle -225225 x^22  \\xi_{yyyyyyyy}$"
      ],
      "text/plain": [
       "<IPython.core.display.Math object>"
      ]
     },
     "metadata": {},
     "output_type": "display_data"
    },
    {
     "data": {
      "text/latex": [
       "$\\displaystyle 105105 x^22  \\phi_{yyyyyyyy} - 1471470 x^22  \\xi_{yyyyyyyx}$"
      ],
      "text/plain": [
       "<IPython.core.display.Math object>"
      ]
     },
     "metadata": {},
     "output_type": "display_data"
    },
    {
     "data": {
      "text/latex": [
       "$\\displaystyle 630630 x^22  \\phi_{yyyyyyyx} - 4099095 x^22  \\xi_{yyyyyyxx}$"
      ],
      "text/plain": [
       "<IPython.core.display.Math object>"
      ]
     },
     "metadata": {},
     "output_type": "display_data"
    },
    {
     "data": {
      "text/latex": [
       "$\\displaystyle 1576575 x^22  \\phi_{yyyyyyxx} - 6306300 x^22  \\xi_{yyyyyxxx}$"
      ],
      "text/plain": [
       "<IPython.core.display.Math object>"
      ]
     },
     "metadata": {},
     "output_type": "display_data"
    },
    {
     "data": {
      "text/latex": [
       "$\\displaystyle 2102100 x^22  \\phi_{yyyyyxxx} - 5780775 x^22  \\xi_{yyyyxxxx}$"
      ],
      "text/plain": [
       "<IPython.core.display.Math object>"
      ]
     },
     "metadata": {},
     "output_type": "display_data"
    },
    {
     "data": {
      "text/latex": [
       "$\\displaystyle 1576575 x^22  \\phi_{yyyyxxxx} - 3153150 x^22  \\xi_{yyyxxxxx}$"
      ],
      "text/plain": [
       "<IPython.core.display.Math object>"
      ]
     },
     "metadata": {},
     "output_type": "display_data"
    },
    {
     "data": {
      "text/latex": [
       "$\\displaystyle 630630 x^22  \\phi_{yyyxxxxx} - 945945 x^22  \\xi_{yyxxxxxx}$"
      ],
      "text/plain": [
       "<IPython.core.display.Math object>"
      ]
     },
     "metadata": {},
     "output_type": "display_data"
    },
    {
     "data": {
      "text/latex": [
       "$\\displaystyle 105105 x^22  \\phi_{yyxxxxxx} - 120120 x^22  \\xi_{yxxxxxxx}$"
      ],
      "text/plain": [
       "<IPython.core.display.Math object>"
      ]
     },
     "metadata": {},
     "output_type": "display_data"
    },
    {
     "data": {
      "text/latex": [
       "$\\displaystyle -21021000 x^22  \\xi_{yyyy}$"
      ],
      "text/plain": [
       "<IPython.core.display.Math object>"
      ]
     },
     "metadata": {},
     "output_type": "display_data"
    },
    {
     "data": {
      "text/latex": [
       "$\\displaystyle -21021000 x^22  \\xi_{yyyyy}$"
      ],
      "text/plain": [
       "<IPython.core.display.Math object>"
      ]
     },
     "metadata": {},
     "output_type": "display_data"
    },
    {
     "data": {
      "text/latex": [
       "$\\displaystyle 2802800 x^22  \\phi_{yyyyy} - 39239200 x^22  \\xi_{yyyyx}$"
      ],
      "text/plain": [
       "<IPython.core.display.Math object>"
      ]
     },
     "metadata": {},
     "output_type": "display_data"
    },
    {
     "data": {
      "text/latex": [
       "$\\displaystyle 2802800 x^22  \\phi_{yyyyx} - 18218200 x^22  \\xi_{yyyxx}$"
      ],
      "text/plain": [
       "<IPython.core.display.Math object>"
      ]
     },
     "metadata": {},
     "output_type": "display_data"
    },
    {
     "data": {
      "text/latex": [
       "$\\displaystyle -94594500 x^22  \\xi_{yyyyy}$"
      ],
      "text/plain": [
       "<IPython.core.display.Math object>"
      ]
     },
     "metadata": {},
     "output_type": "display_data"
    },
    {
     "data": {
      "text/latex": [
       "$\\displaystyle 6306300 x^22  \\phi_{yyyyy} - 88288200 x^22  \\xi_{yyyyx}$"
      ],
      "text/plain": [
       "<IPython.core.display.Math object>"
      ]
     },
     "metadata": {},
     "output_type": "display_data"
    },
    {
     "data": {
      "text/latex": [
       "$\\displaystyle -63063000 x^22  \\xi_{yyyyyy}$"
      ],
      "text/plain": [
       "<IPython.core.display.Math object>"
      ]
     },
     "metadata": {},
     "output_type": "display_data"
    },
    {
     "data": {
      "text/latex": [
       "$\\displaystyle 12612600 x^22  \\phi_{yyyyyy} - 176576400 x^22  \\xi_{yyyyyx}$"
      ],
      "text/plain": [
       "<IPython.core.display.Math object>"
      ]
     },
     "metadata": {},
     "output_type": "display_data"
    },
    {
     "data": {
      "text/latex": [
       "$\\displaystyle 25225200 x^22  \\phi_{yyyyyx} - 163963800 x^22  \\xi_{yyyyxx}$"
      ],
      "text/plain": [
       "<IPython.core.display.Math object>"
      ]
     },
     "metadata": {},
     "output_type": "display_data"
    },
    {
     "data": {
      "text/latex": [
       "$\\displaystyle 12612600 x^22  \\phi_{yyyyxx} - 50450400 x^22  \\xi_{yyyxxx}$"
      ],
      "text/plain": [
       "<IPython.core.display.Math object>"
      ]
     },
     "metadata": {},
     "output_type": "display_data"
    },
    {
     "data": {
      "text/latex": [
       "$\\displaystyle -6306300 x^22  \\xi_{yyyyyyy}$"
      ],
      "text/plain": [
       "<IPython.core.display.Math object>"
      ]
     },
     "metadata": {},
     "output_type": "display_data"
    },
    {
     "data": {
      "text/latex": [
       "$\\displaystyle 2102100 x^22  \\phi_{yyyyyyy} - 29429400 x^22  \\xi_{yyyyyyx}$"
      ],
      "text/plain": [
       "<IPython.core.display.Math object>"
      ]
     },
     "metadata": {},
     "output_type": "display_data"
    },
    {
     "data": {
      "text/latex": [
       "$\\displaystyle 8408400 x^22  \\phi_{yyyyyyx} - 54654600 x^22  \\xi_{yyyyyxx}$"
      ],
      "text/plain": [
       "<IPython.core.display.Math object>"
      ]
     },
     "metadata": {},
     "output_type": "display_data"
    },
    {
     "data": {
      "text/latex": [
       "$\\displaystyle 12612600 x^22  \\phi_{yyyyyxx} - 50450400 x^22  \\xi_{yyyyxxx}$"
      ],
      "text/plain": [
       "<IPython.core.display.Math object>"
      ]
     },
     "metadata": {},
     "output_type": "display_data"
    },
    {
     "data": {
      "text/latex": [
       "$\\displaystyle 8408400 x^22  \\phi_{yyyyxxx} - 23123100 x^22  \\xi_{yyyxxxx}$"
      ],
      "text/plain": [
       "<IPython.core.display.Math object>"
      ]
     },
     "metadata": {},
     "output_type": "display_data"
    },
    {
     "data": {
      "text/latex": [
       "$\\displaystyle 2102100 x^22  \\phi_{yyyxxxx} - 4204200 x^22  \\xi_{yyxxxxx}$"
      ],
      "text/plain": [
       "<IPython.core.display.Math object>"
      ]
     },
     "metadata": {},
     "output_type": "display_data"
    },
    {
     "data": {
      "text/latex": [
       "$\\displaystyle -23648625 x^22  \\xi_{yyyyy}$"
      ],
      "text/plain": [
       "<IPython.core.display.Math object>"
      ]
     },
     "metadata": {},
     "output_type": "display_data"
    },
    {
     "data": {
      "text/latex": [
       "$\\displaystyle -94594500 x^22  \\xi_{yyyyyy}$"
      ],
      "text/plain": [
       "<IPython.core.display.Math object>"
      ]
     },
     "metadata": {},
     "output_type": "display_data"
    },
    {
     "data": {
      "text/latex": [
       "$\\displaystyle 12612600 x^22  \\phi_{yyyyyy} - 176576400 x^22  \\xi_{yyyyyx}$"
      ],
      "text/plain": [
       "<IPython.core.display.Math object>"
      ]
     },
     "metadata": {},
     "output_type": "display_data"
    },
    {
     "data": {
      "text/latex": [
       "$\\displaystyle 12612600 x^22  \\phi_{yyyyyx} - 81981900 x^22  \\xi_{yyyyxx}$"
      ],
      "text/plain": [
       "<IPython.core.display.Math object>"
      ]
     },
     "metadata": {},
     "output_type": "display_data"
    },
    {
     "data": {
      "text/latex": [
       "$\\displaystyle -47297250 x^22  \\xi_{yyyyyyy}$"
      ],
      "text/plain": [
       "<IPython.core.display.Math object>"
      ]
     },
     "metadata": {},
     "output_type": "display_data"
    },
    {
     "data": {
      "text/latex": [
       "$\\displaystyle 12612600 x^22  \\phi_{yyyyyyy} - 176576400 x^22  \\xi_{yyyyyyx}$"
      ],
      "text/plain": [
       "<IPython.core.display.Math object>"
      ]
     },
     "metadata": {},
     "output_type": "display_data"
    },
    {
     "data": {
      "text/latex": [
       "$\\displaystyle 37837800 x^22  \\phi_{yyyyyyx} - 245945700 x^22  \\xi_{yyyyyxx}$"
      ],
      "text/plain": [
       "<IPython.core.display.Math object>"
      ]
     },
     "metadata": {},
     "output_type": "display_data"
    },
    {
     "data": {
      "text/latex": [
       "$\\displaystyle 37837800 x^22  \\phi_{yyyyyxx} - 151351200 x^22  \\xi_{yyyyxxx}$"
      ],
      "text/plain": [
       "<IPython.core.display.Math object>"
      ]
     },
     "metadata": {},
     "output_type": "display_data"
    },
    {
     "data": {
      "text/latex": [
       "$\\displaystyle 12612600 x^22  \\phi_{yyyyxxx} - 34684650 x^22  \\xi_{yyyxxxx}$"
      ],
      "text/plain": [
       "<IPython.core.display.Math object>"
      ]
     },
     "metadata": {},
     "output_type": "display_data"
    },
    {
     "data": {
      "text/latex": [
       "$\\displaystyle -6306300 x^22  \\xi_{yyyyyyyy}$"
      ],
      "text/plain": [
       "<IPython.core.display.Math object>"
      ]
     },
     "metadata": {},
     "output_type": "display_data"
    },
    {
     "data": {
      "text/latex": [
       "$\\displaystyle 2522520 x^22  \\phi_{yyyyyyyy} - 35315280 x^22  \\xi_{yyyyyyyx}$"
      ],
      "text/plain": [
       "<IPython.core.display.Math object>"
      ]
     },
     "metadata": {},
     "output_type": "display_data"
    },
    {
     "data": {
      "text/latex": [
       "$\\displaystyle 12612600 x^22  \\phi_{yyyyyyyx} - 81981900 x^22  \\xi_{yyyyyyxx}$"
      ],
      "text/plain": [
       "<IPython.core.display.Math object>"
      ]
     },
     "metadata": {},
     "output_type": "display_data"
    },
    {
     "data": {
      "text/latex": [
       "$\\displaystyle 25225200 x^22  \\phi_{yyyyyyxx} - 100900800 x^22  \\xi_{yyyyyxxx}$"
      ],
      "text/plain": [
       "<IPython.core.display.Math object>"
      ]
     },
     "metadata": {},
     "output_type": "display_data"
    },
    {
     "data": {
      "text/latex": [
       "$\\displaystyle 25225200 x^22  \\phi_{yyyyyxxx} - 69369300 x^22  \\xi_{yyyyxxxx}$"
      ],
      "text/plain": [
       "<IPython.core.display.Math object>"
      ]
     },
     "metadata": {},
     "output_type": "display_data"
    },
    {
     "data": {
      "text/latex": [
       "$\\displaystyle 12612600 x^22  \\phi_{yyyyxxxx} - 25225200 x^22  \\xi_{yyyxxxxx}$"
      ],
      "text/plain": [
       "<IPython.core.display.Math object>"
      ]
     },
     "metadata": {},
     "output_type": "display_data"
    },
    {
     "data": {
      "text/latex": [
       "$\\displaystyle 2522520 x^22  \\phi_{yyyxxxxx} - 3783780 x^22  \\xi_{yyxxxxxx}$"
      ],
      "text/plain": [
       "<IPython.core.display.Math object>"
      ]
     },
     "metadata": {},
     "output_type": "display_data"
    },
    {
     "data": {
      "text/latex": [
       "$\\displaystyle -225225 x^22  \\xi_{yyyyyyyyy}$"
      ],
      "text/plain": [
       "<IPython.core.display.Math object>"
      ]
     },
     "metadata": {},
     "output_type": "display_data"
    },
    {
     "data": {
      "text/latex": [
       "$\\displaystyle 120120 x^22  \\phi_{yyyyyyyyy} - 1681680 x^22  \\xi_{yyyyyyyyx}$"
      ],
      "text/plain": [
       "<IPython.core.display.Math object>"
      ]
     },
     "metadata": {},
     "output_type": "display_data"
    },
    {
     "data": {
      "text/latex": [
       "$\\displaystyle 840840 x^22  \\phi_{yyyyyyyyx} - 5465460 x^22  \\xi_{yyyyyyyxx}$"
      ],
      "text/plain": [
       "<IPython.core.display.Math object>"
      ]
     },
     "metadata": {},
     "output_type": "display_data"
    },
    {
     "data": {
      "text/latex": [
       "$\\displaystyle 2522520 x^22  \\phi_{yyyyyyyxx} - 10090080 x^22  \\xi_{yyyyyyxxx}$"
      ],
      "text/plain": [
       "<IPython.core.display.Math object>"
      ]
     },
     "metadata": {},
     "output_type": "display_data"
    },
    {
     "data": {
      "text/latex": [
       "$\\displaystyle 4204200 x^22  \\phi_{yyyyyyxxx} - 11561550 x^22  \\xi_{yyyyyxxxx}$"
      ],
      "text/plain": [
       "<IPython.core.display.Math object>"
      ]
     },
     "metadata": {},
     "output_type": "display_data"
    },
    {
     "data": {
      "text/latex": [
       "$\\displaystyle 4204200 x^22  \\phi_{yyyyyxxxx} - 8408400 x^22  \\xi_{yyyyxxxxx}$"
      ],
      "text/plain": [
       "<IPython.core.display.Math object>"
      ]
     },
     "metadata": {},
     "output_type": "display_data"
    },
    {
     "data": {
      "text/latex": [
       "$\\displaystyle 2522520 x^22  \\phi_{yyyyxxxxx} - 3783780 x^22  \\xi_{yyyxxxxxx}$"
      ],
      "text/plain": [
       "<IPython.core.display.Math object>"
      ]
     },
     "metadata": {},
     "output_type": "display_data"
    },
    {
     "data": {
      "text/latex": [
       "$\\displaystyle 840840 x^22  \\phi_{yyyxxxxxx} - 960960 x^22  \\xi_{yyxxxxxxx}$"
      ],
      "text/plain": [
       "<IPython.core.display.Math object>"
      ]
     },
     "metadata": {},
     "output_type": "display_data"
    },
    {
     "data": {
      "text/latex": [
       "$\\displaystyle 120120 x^22  \\phi_{yyxxxxxxx} - 105105 x^22  \\xi_{yxxxxxxxx}$"
      ],
      "text/plain": [
       "<IPython.core.display.Math object>"
      ]
     },
     "metadata": {},
     "output_type": "display_data"
    },
    {
     "data": {
      "text/latex": [
       "$\\displaystyle -14189175 x^22  \\xi_{yyyyyy}$"
      ],
      "text/plain": [
       "<IPython.core.display.Math object>"
      ]
     },
     "metadata": {},
     "output_type": "display_data"
    },
    {
     "data": {
      "text/latex": [
       "$\\displaystyle 945945 x^22  \\phi_{yyyyyy} - 13243230 x^22  \\xi_{yyyyyx}$"
      ],
      "text/plain": [
       "<IPython.core.display.Math object>"
      ]
     },
     "metadata": {},
     "output_type": "display_data"
    },
    {
     "data": {
      "text/latex": [
       "$\\displaystyle -23648625 x^22  \\xi_{yyyyyyy}$"
      ],
      "text/plain": [
       "<IPython.core.display.Math object>"
      ]
     },
     "metadata": {},
     "output_type": "display_data"
    },
    {
     "data": {
      "text/latex": [
       "$\\displaystyle 4729725 x^22  \\phi_{yyyyyyy} - 66216150 x^22  \\xi_{yyyyyyx}$"
      ],
      "text/plain": [
       "<IPython.core.display.Math object>"
      ]
     },
     "metadata": {},
     "output_type": "display_data"
    },
    {
     "data": {
      "text/latex": [
       "$\\displaystyle 9459450 x^22  \\phi_{yyyyyyx} - 61486425 x^22  \\xi_{yyyyyxx}$"
      ],
      "text/plain": [
       "<IPython.core.display.Math object>"
      ]
     },
     "metadata": {},
     "output_type": "display_data"
    },
    {
     "data": {
      "text/latex": [
       "$\\displaystyle 4729725 x^22  \\phi_{yyyyyxx} - 18918900 x^22  \\xi_{yyyyxxx}$"
      ],
      "text/plain": [
       "<IPython.core.display.Math object>"
      ]
     },
     "metadata": {},
     "output_type": "display_data"
    },
    {
     "data": {
      "text/latex": [
       "$\\displaystyle -9459450 x^22  \\xi_{yyyyyyyy}$"
      ],
      "text/plain": [
       "<IPython.core.display.Math object>"
      ]
     },
     "metadata": {},
     "output_type": "display_data"
    },
    {
     "data": {
      "text/latex": [
       "$\\displaystyle 3153150 x^22  \\phi_{yyyyyyyy} - 44144100 x^22  \\xi_{yyyyyyyx}$"
      ],
      "text/plain": [
       "<IPython.core.display.Math object>"
      ]
     },
     "metadata": {},
     "output_type": "display_data"
    },
    {
     "data": {
      "text/latex": [
       "$\\displaystyle 12612600 x^22  \\phi_{yyyyyyyx} - 81981900 x^22  \\xi_{yyyyyyxx}$"
      ],
      "text/plain": [
       "<IPython.core.display.Math object>"
      ]
     },
     "metadata": {},
     "output_type": "display_data"
    },
    {
     "data": {
      "text/latex": [
       "$\\displaystyle 18918900 x^22  \\phi_{yyyyyyxx} - 75675600 x^22  \\xi_{yyyyyxxx}$"
      ],
      "text/plain": [
       "<IPython.core.display.Math object>"
      ]
     },
     "metadata": {},
     "output_type": "display_data"
    },
    {
     "data": {
      "text/latex": [
       "$\\displaystyle 12612600 x^22  \\phi_{yyyyyxxx} - 34684650 x^22  \\xi_{yyyyxxxx}$"
      ],
      "text/plain": [
       "<IPython.core.display.Math object>"
      ]
     },
     "metadata": {},
     "output_type": "display_data"
    },
    {
     "data": {
      "text/latex": [
       "$\\displaystyle 3153150 x^22  \\phi_{yyyyxxxx} - 6306300 x^22  \\xi_{yyyxxxxx}$"
      ],
      "text/plain": [
       "<IPython.core.display.Math object>"
      ]
     },
     "metadata": {},
     "output_type": "display_data"
    },
    {
     "data": {
      "text/latex": [
       "$\\displaystyle -1351350 x^22  \\xi_{yyyyyyyyy}$"
      ],
      "text/plain": [
       "<IPython.core.display.Math object>"
      ]
     },
     "metadata": {},
     "output_type": "display_data"
    },
    {
     "data": {
      "text/latex": [
       "$\\displaystyle 630630 x^22  \\phi_{yyyyyyyyy} - 8828820 x^22  \\xi_{yyyyyyyyx}$"
      ],
      "text/plain": [
       "<IPython.core.display.Math object>"
      ]
     },
     "metadata": {},
     "output_type": "display_data"
    },
    {
     "data": {
      "text/latex": [
       "$\\displaystyle 3783780 x^22  \\phi_{yyyyyyyyx} - 24594570 x^22  \\xi_{yyyyyyyxx}$"
      ],
      "text/plain": [
       "<IPython.core.display.Math object>"
      ]
     },
     "metadata": {},
     "output_type": "display_data"
    },
    {
     "data": {
      "text/latex": [
       "$\\displaystyle 9459450 x^22  \\phi_{yyyyyyyxx} - 37837800 x^22  \\xi_{yyyyyyxxx}$"
      ],
      "text/plain": [
       "<IPython.core.display.Math object>"
      ]
     },
     "metadata": {},
     "output_type": "display_data"
    },
    {
     "data": {
      "text/latex": [
       "$\\displaystyle 12612600 x^22  \\phi_{yyyyyyxxx} - 34684650 x^22  \\xi_{yyyyyxxxx}$"
      ],
      "text/plain": [
       "<IPython.core.display.Math object>"
      ]
     },
     "metadata": {},
     "output_type": "display_data"
    },
    {
     "data": {
      "text/latex": [
       "$\\displaystyle 9459450 x^22  \\phi_{yyyyyxxxx} - 18918900 x^22  \\xi_{yyyyxxxxx}$"
      ],
      "text/plain": [
       "<IPython.core.display.Math object>"
      ]
     },
     "metadata": {},
     "output_type": "display_data"
    },
    {
     "data": {
      "text/latex": [
       "$\\displaystyle 3783780 x^22  \\phi_{yyyyxxxxx} - 5675670 x^22  \\xi_{yyyxxxxxx}$"
      ],
      "text/plain": [
       "<IPython.core.display.Math object>"
      ]
     },
     "metadata": {},
     "output_type": "display_data"
    },
    {
     "data": {
      "text/latex": [
       "$\\displaystyle 630630 x^22  \\phi_{yyyxxxxxx} - 720720 x^22  \\xi_{yyxxxxxxx}$"
      ],
      "text/plain": [
       "<IPython.core.display.Math object>"
      ]
     },
     "metadata": {},
     "output_type": "display_data"
    },
    {
     "data": {
      "text/latex": [
       "$\\displaystyle -75075 x^22  \\xi_{yyyyyyyyyy}$"
      ],
      "text/plain": [
       "<IPython.core.display.Math object>"
      ]
     },
     "metadata": {},
     "output_type": "display_data"
    },
    {
     "data": {
      "text/latex": [
       "$\\displaystyle 45045 x^22  \\phi_{yyyyyyyyyy} - 630630 x^22  \\xi_{yyyyyyyyyx}$"
      ],
      "text/plain": [
       "<IPython.core.display.Math object>"
      ]
     },
     "metadata": {},
     "output_type": "display_data"
    },
    {
     "data": {
      "text/latex": [
       "$\\displaystyle 360360 x^22  \\phi_{yyyyyyyyyx} - 2342340 x^22  \\xi_{yyyyyyyyxx}$"
      ],
      "text/plain": [
       "<IPython.core.display.Math object>"
      ]
     },
     "metadata": {},
     "output_type": "display_data"
    },
    {
     "data": {
      "text/latex": [
       "$\\displaystyle 1261260 x^22  \\phi_{yyyyyyyyxx} - 5045040 x^22  \\xi_{yyyyyyyxxx}$"
      ],
      "text/plain": [
       "<IPython.core.display.Math object>"
      ]
     },
     "metadata": {},
     "output_type": "display_data"
    },
    {
     "data": {
      "text/latex": [
       "$\\displaystyle 2522520 x^22  \\phi_{yyyyyyyxxx} - 6936930 x^22  \\xi_{yyyyyyxxxx}$"
      ],
      "text/plain": [
       "<IPython.core.display.Math object>"
      ]
     },
     "metadata": {},
     "output_type": "display_data"
    },
    {
     "data": {
      "text/latex": [
       "$\\displaystyle 3153150 x^22  \\phi_{yyyyyyxxxx} - 6306300 x^22  \\xi_{yyyyyxxxxx}$"
      ],
      "text/plain": [
       "<IPython.core.display.Math object>"
      ]
     },
     "metadata": {},
     "output_type": "display_data"
    },
    {
     "data": {
      "text/latex": [
       "$\\displaystyle 2522520 x^22  \\phi_{yyyyyxxxxx} - 3783780 x^22  \\xi_{yyyyxxxxxx}$"
      ],
      "text/plain": [
       "<IPython.core.display.Math object>"
      ]
     },
     "metadata": {},
     "output_type": "display_data"
    },
    {
     "data": {
      "text/latex": [
       "$\\displaystyle 1261260 x^22  \\phi_{yyyyxxxxxx} - 1441440 x^22  \\xi_{yyyxxxxxxx}$"
      ],
      "text/plain": [
       "<IPython.core.display.Math object>"
      ]
     },
     "metadata": {},
     "output_type": "display_data"
    },
    {
     "data": {
      "text/latex": [
       "$\\displaystyle 360360 x^22  \\phi_{yyyxxxxxxx} - 315315 x^22  \\xi_{yyxxxxxxxx}$"
      ],
      "text/plain": [
       "<IPython.core.display.Math object>"
      ]
     },
     "metadata": {},
     "output_type": "display_data"
    },
    {
     "data": {
      "text/latex": [
       "$\\displaystyle 45045 x^22  \\phi_{yyxxxxxxxx} - 30030 x^22  \\xi_{yxxxxxxxxx}$"
      ],
      "text/plain": [
       "<IPython.core.display.Math object>"
      ]
     },
     "metadata": {},
     "output_type": "display_data"
    },
    {
     "data": {
      "text/latex": [
       "$\\displaystyle -1365 x^22  \\xi_{yyyyyyyyyyy}$"
      ],
      "text/plain": [
       "<IPython.core.display.Math object>"
      ]
     },
     "metadata": {},
     "output_type": "display_data"
    },
    {
     "data": {
      "text/latex": [
       "$\\displaystyle 1001 x^22  \\phi_{yyyyyyyyyyy} - 14014 x^22  \\xi_{yyyyyyyyyyx}$"
      ],
      "text/plain": [
       "<IPython.core.display.Math object>"
      ]
     },
     "metadata": {},
     "output_type": "display_data"
    },
    {
     "data": {
      "text/latex": [
       "$\\displaystyle 10010 x^22  \\phi_{yyyyyyyyyyx} - 65065 x^22  \\xi_{yyyyyyyyyxx}$"
      ],
      "text/plain": [
       "<IPython.core.display.Math object>"
      ]
     },
     "metadata": {},
     "output_type": "display_data"
    },
    {
     "data": {
      "text/latex": [
       "$\\displaystyle 45045 x^22  \\phi_{yyyyyyyyyxx} - 180180 x^22  \\xi_{yyyyyyyyxxx}$"
      ],
      "text/plain": [
       "<IPython.core.display.Math object>"
      ]
     },
     "metadata": {},
     "output_type": "display_data"
    },
    {
     "data": {
      "text/latex": [
       "$\\displaystyle 120120 x^22  \\phi_{yyyyyyyyxxx} - 330330 x^22  \\xi_{yyyyyyyxxxx}$"
      ],
      "text/plain": [
       "<IPython.core.display.Math object>"
      ]
     },
     "metadata": {},
     "output_type": "display_data"
    },
    {
     "data": {
      "text/latex": [
       "$\\displaystyle 210210 x^22  \\phi_{yyyyyyyxxxx} - 420420 x^22  \\xi_{yyyyyyxxxxx}$"
      ],
      "text/plain": [
       "<IPython.core.display.Math object>"
      ]
     },
     "metadata": {},
     "output_type": "display_data"
    },
    {
     "data": {
      "text/latex": [
       "$\\displaystyle 252252 x^22  \\phi_{yyyyyyxxxxx} - 378378 x^22  \\xi_{yyyyyxxxxxx}$"
      ],
      "text/plain": [
       "<IPython.core.display.Math object>"
      ]
     },
     "metadata": {},
     "output_type": "display_data"
    },
    {
     "data": {
      "text/latex": [
       "$\\displaystyle 210210 x^22  \\phi_{yyyyyxxxxxx} - 240240 x^22  \\xi_{yyyyxxxxxxx}$"
      ],
      "text/plain": [
       "<IPython.core.display.Math object>"
      ]
     },
     "metadata": {},
     "output_type": "display_data"
    },
    {
     "data": {
      "text/latex": [
       "$\\displaystyle 120120 x^22  \\phi_{yyyyxxxxxxx} - 105105 x^22  \\xi_{yyyxxxxxxxx}$"
      ],
      "text/plain": [
       "<IPython.core.display.Math object>"
      ]
     },
     "metadata": {},
     "output_type": "display_data"
    },
    {
     "data": {
      "text/latex": [
       "$\\displaystyle 45045 x^22  \\phi_{yyyxxxxxxxx} - 30030 x^22  \\xi_{yyxxxxxxxxx}$"
      ],
      "text/plain": [
       "<IPython.core.display.Math object>"
      ]
     },
     "metadata": {},
     "output_type": "display_data"
    },
    {
     "data": {
      "text/latex": [
       "$\\displaystyle 10010 x^22  \\phi_{yyxxxxxxxxx} - 5005 x^22  \\xi_{yxxxxxxxxxx} + 10 f  \\xi_{y}$"
      ],
      "text/plain": [
       "<IPython.core.display.Math object>"
      ]
     },
     "metadata": {},
     "output_type": "display_data"
    },
    {
     "data": {
      "text/latex": [
       "$\\displaystyle xi$"
      ],
      "text/plain": [
       "<IPython.core.display.Math object>"
      ]
     },
     "metadata": {},
     "output_type": "display_data"
    },
    {
     "data": {
      "text/latex": [
       "$\\displaystyle 1001 x^22  \\phi_{yxxxxxxxxxx} - 364 x^22  \\xi_{xxxxxxxxxxx} + 10 f  \\xi_{x} - 22 f \\xi/x$"
      ],
      "text/plain": [
       "<IPython.core.display.Math object>"
      ]
     },
     "metadata": {},
     "output_type": "display_data"
    },
    {
     "data": {
      "text/latex": [
       "$\\displaystyle -1401400 x^22  \\xi_{yyyy}$"
      ],
      "text/plain": [
       "<IPython.core.display.Math object>"
      ]
     },
     "metadata": {},
     "output_type": "display_data"
    },
    {
     "data": {
      "text/latex": [
       "$\\displaystyle -21021000 x^22  \\xi_{yyyyy}$"
      ],
      "text/plain": [
       "<IPython.core.display.Math object>"
      ]
     },
     "metadata": {},
     "output_type": "display_data"
    },
    {
     "data": {
      "text/latex": [
       "$\\displaystyle 1401400 x^22  \\phi_{yyyyy} - 19619600 x^22  \\xi_{yyyyx}$"
      ],
      "text/plain": [
       "<IPython.core.display.Math object>"
      ]
     },
     "metadata": {},
     "output_type": "display_data"
    },
    {
     "data": {
      "text/latex": [
       "$\\displaystyle -7007000 x^22  \\xi_{yyyyyy}$"
      ],
      "text/plain": [
       "<IPython.core.display.Math object>"
      ]
     },
     "metadata": {},
     "output_type": "display_data"
    },
    {
     "data": {
      "text/latex": [
       "$\\displaystyle 1401400 x^22  \\phi_{yyyyyy} - 19619600 x^22  \\xi_{yyyyyx}$"
      ],
      "text/plain": [
       "<IPython.core.display.Math object>"
      ]
     },
     "metadata": {},
     "output_type": "display_data"
    },
    {
     "data": {
      "text/latex": [
       "$\\displaystyle 2802800 x^22  \\phi_{yyyyyx} - 18218200 x^22  \\xi_{yyyyxx}$"
      ],
      "text/plain": [
       "<IPython.core.display.Math object>"
      ]
     },
     "metadata": {},
     "output_type": "display_data"
    },
    {
     "data": {
      "text/latex": [
       "$\\displaystyle 1401400 x^22  \\phi_{yyyyxx} - 5605600 x^22  \\xi_{yyyxxx}$"
      ],
      "text/plain": [
       "<IPython.core.display.Math object>"
      ]
     },
     "metadata": {},
     "output_type": "display_data"
    },
    {
     "data": {
      "text/latex": [
       "$\\displaystyle -21021000 x^22  \\xi_{yyyyy}$"
      ],
      "text/plain": [
       "<IPython.core.display.Math object>"
      ]
     },
     "metadata": {},
     "output_type": "display_data"
    },
    {
     "data": {
      "text/latex": [
       "$\\displaystyle -63063000 x^22  \\xi_{yyyyyy}$"
      ],
      "text/plain": [
       "<IPython.core.display.Math object>"
      ]
     },
     "metadata": {},
     "output_type": "display_data"
    },
    {
     "data": {
      "text/latex": [
       "$\\displaystyle 8408400 x^22  \\phi_{yyyyyy} - 117717600 x^22  \\xi_{yyyyyx}$"
      ],
      "text/plain": [
       "<IPython.core.display.Math object>"
      ]
     },
     "metadata": {},
     "output_type": "display_data"
    },
    {
     "data": {
      "text/latex": [
       "$\\displaystyle 8408400 x^22  \\phi_{yyyyyx} - 54654600 x^22  \\xi_{yyyyxx}$"
      ],
      "text/plain": [
       "<IPython.core.display.Math object>"
      ]
     },
     "metadata": {},
     "output_type": "display_data"
    },
    {
     "data": {
      "text/latex": [
       "$\\displaystyle -21021000 x^22  \\xi_{yyyyyyy}$"
      ],
      "text/plain": [
       "<IPython.core.display.Math object>"
      ]
     },
     "metadata": {},
     "output_type": "display_data"
    },
    {
     "data": {
      "text/latex": [
       "$\\displaystyle 5605600 x^22  \\phi_{yyyyyyy} - 78478400 x^22  \\xi_{yyyyyyx}$"
      ],
      "text/plain": [
       "<IPython.core.display.Math object>"
      ]
     },
     "metadata": {},
     "output_type": "display_data"
    },
    {
     "data": {
      "text/latex": [
       "$\\displaystyle 16816800 x^22  \\phi_{yyyyyyx} - 109309200 x^22  \\xi_{yyyyyxx}$"
      ],
      "text/plain": [
       "<IPython.core.display.Math object>"
      ]
     },
     "metadata": {},
     "output_type": "display_data"
    },
    {
     "data": {
      "text/latex": [
       "$\\displaystyle 16816800 x^22  \\phi_{yyyyyxx} - 67267200 x^22  \\xi_{yyyyxxx}$"
      ],
      "text/plain": [
       "<IPython.core.display.Math object>"
      ]
     },
     "metadata": {},
     "output_type": "display_data"
    },
    {
     "data": {
      "text/latex": [
       "$\\displaystyle 5605600 x^22  \\phi_{yyyyxxx} - 15415400 x^22  \\xi_{yyyxxxx}$"
      ],
      "text/plain": [
       "<IPython.core.display.Math object>"
      ]
     },
     "metadata": {},
     "output_type": "display_data"
    },
    {
     "data": {
      "text/latex": [
       "$\\displaystyle -1401400 x^22  \\xi_{yyyyyyyy}$"
      ],
      "text/plain": [
       "<IPython.core.display.Math object>"
      ]
     },
     "metadata": {},
     "output_type": "display_data"
    },
    {
     "data": {
      "text/latex": [
       "$\\displaystyle 560560 x^22  \\phi_{yyyyyyyy} - 7847840 x^22  \\xi_{yyyyyyyx}$"
      ],
      "text/plain": [
       "<IPython.core.display.Math object>"
      ]
     },
     "metadata": {},
     "output_type": "display_data"
    },
    {
     "data": {
      "text/latex": [
       "$\\displaystyle 2802800 x^22  \\phi_{yyyyyyyx} - 18218200 x^22  \\xi_{yyyyyyxx}$"
      ],
      "text/plain": [
       "<IPython.core.display.Math object>"
      ]
     },
     "metadata": {},
     "output_type": "display_data"
    },
    {
     "data": {
      "text/latex": [
       "$\\displaystyle 5605600 x^22  \\phi_{yyyyyyxx} - 22422400 x^22  \\xi_{yyyyyxxx}$"
      ],
      "text/plain": [
       "<IPython.core.display.Math object>"
      ]
     },
     "metadata": {},
     "output_type": "display_data"
    },
    {
     "data": {
      "text/latex": [
       "$\\displaystyle 5605600 x^22  \\phi_{yyyyyxxx} - 15415400 x^22  \\xi_{yyyyxxxx}$"
      ],
      "text/plain": [
       "<IPython.core.display.Math object>"
      ]
     },
     "metadata": {},
     "output_type": "display_data"
    },
    {
     "data": {
      "text/latex": [
       "$\\displaystyle 2802800 x^22  \\phi_{yyyyxxxx} - 5605600 x^22  \\xi_{yyyxxxxx}$"
      ],
      "text/plain": [
       "<IPython.core.display.Math object>"
      ]
     },
     "metadata": {},
     "output_type": "display_data"
    },
    {
     "data": {
      "text/latex": [
       "$\\displaystyle 560560 x^22  \\phi_{yyyxxxxx} - 840840 x^22  \\xi_{yyxxxxxx}$"
      ],
      "text/plain": [
       "<IPython.core.display.Math object>"
      ]
     },
     "metadata": {},
     "output_type": "display_data"
    },
    {
     "data": {
      "text/latex": [
       "$\\displaystyle -47297250 x^22  \\xi_{yyyyyy}$"
      ],
      "text/plain": [
       "<IPython.core.display.Math object>"
      ]
     },
     "metadata": {},
     "output_type": "display_data"
    },
    {
     "data": {
      "text/latex": [
       "$\\displaystyle 3153150 x^22  \\phi_{yyyyyy} - 44144100 x^22  \\xi_{yyyyyx}$"
      ],
      "text/plain": [
       "<IPython.core.display.Math object>"
      ]
     },
     "metadata": {},
     "output_type": "display_data"
    },
    {
     "data": {
      "text/latex": [
       "$\\displaystyle -63063000 x^22  \\xi_{yyyyyyy}$"
      ],
      "text/plain": [
       "<IPython.core.display.Math object>"
      ]
     },
     "metadata": {},
     "output_type": "display_data"
    },
    {
     "data": {
      "text/latex": [
       "$\\displaystyle 12612600 x^22  \\phi_{yyyyyyy} - 176576400 x^22  \\xi_{yyyyyyx}$"
      ],
      "text/plain": [
       "<IPython.core.display.Math object>"
      ]
     },
     "metadata": {},
     "output_type": "display_data"
    },
    {
     "data": {
      "text/latex": [
       "$\\displaystyle 25225200 x^22  \\phi_{yyyyyyx} - 163963800 x^22  \\xi_{yyyyyxx}$"
      ],
      "text/plain": [
       "<IPython.core.display.Math object>"
      ]
     },
     "metadata": {},
     "output_type": "display_data"
    },
    {
     "data": {
      "text/latex": [
       "$\\displaystyle 12612600 x^22  \\phi_{yyyyyxx} - 50450400 x^22  \\xi_{yyyyxxx}$"
      ],
      "text/plain": [
       "<IPython.core.display.Math object>"
      ]
     },
     "metadata": {},
     "output_type": "display_data"
    },
    {
     "data": {
      "text/latex": [
       "$\\displaystyle -18918900 x^22  \\xi_{yyyyyyyy}$"
      ],
      "text/plain": [
       "<IPython.core.display.Math object>"
      ]
     },
     "metadata": {},
     "output_type": "display_data"
    },
    {
     "data": {
      "text/latex": [
       "$\\displaystyle 6306300 x^22  \\phi_{yyyyyyyy} - 88288200 x^22  \\xi_{yyyyyyyx}$"
      ],
      "text/plain": [
       "<IPython.core.display.Math object>"
      ]
     },
     "metadata": {},
     "output_type": "display_data"
    },
    {
     "data": {
      "text/latex": [
       "$\\displaystyle 25225200 x^22  \\phi_{yyyyyyyx} - 163963800 x^22  \\xi_{yyyyyyxx}$"
      ],
      "text/plain": [
       "<IPython.core.display.Math object>"
      ]
     },
     "metadata": {},
     "output_type": "display_data"
    },
    {
     "data": {
      "text/latex": [
       "$\\displaystyle 37837800 x^22  \\phi_{yyyyyyxx} - 151351200 x^22  \\xi_{yyyyyxxx}$"
      ],
      "text/plain": [
       "<IPython.core.display.Math object>"
      ]
     },
     "metadata": {},
     "output_type": "display_data"
    },
    {
     "data": {
      "text/latex": [
       "$\\displaystyle 25225200 x^22  \\phi_{yyyyyxxx} - 69369300 x^22  \\xi_{yyyyxxxx}$"
      ],
      "text/plain": [
       "<IPython.core.display.Math object>"
      ]
     },
     "metadata": {},
     "output_type": "display_data"
    },
    {
     "data": {
      "text/latex": [
       "$\\displaystyle 6306300 x^22  \\phi_{yyyyxxxx} - 12612600 x^22  \\xi_{yyyxxxxx}$"
      ],
      "text/plain": [
       "<IPython.core.display.Math object>"
      ]
     },
     "metadata": {},
     "output_type": "display_data"
    },
    {
     "data": {
      "text/latex": [
       "$\\displaystyle -1801800 x^22  \\xi_{yyyyyyyyy}$"
      ],
      "text/plain": [
       "<IPython.core.display.Math object>"
      ]
     },
     "metadata": {},
     "output_type": "display_data"
    },
    {
     "data": {
      "text/latex": [
       "$\\displaystyle 840840 x^22  \\phi_{yyyyyyyyy} - 11771760 x^22  \\xi_{yyyyyyyyx}$"
      ],
      "text/plain": [
       "<IPython.core.display.Math object>"
      ]
     },
     "metadata": {},
     "output_type": "display_data"
    },
    {
     "data": {
      "text/latex": [
       "$\\displaystyle 5045040 x^22  \\phi_{yyyyyyyyx} - 32792760 x^22  \\xi_{yyyyyyyxx}$"
      ],
      "text/plain": [
       "<IPython.core.display.Math object>"
      ]
     },
     "metadata": {},
     "output_type": "display_data"
    },
    {
     "data": {
      "text/latex": [
       "$\\displaystyle 12612600 x^22  \\phi_{yyyyyyyxx} - 50450400 x^22  \\xi_{yyyyyyxxx}$"
      ],
      "text/plain": [
       "<IPython.core.display.Math object>"
      ]
     },
     "metadata": {},
     "output_type": "display_data"
    },
    {
     "data": {
      "text/latex": [
       "$\\displaystyle 16816800 x^22  \\phi_{yyyyyyxxx} - 46246200 x^22  \\xi_{yyyyyxxxx}$"
      ],
      "text/plain": [
       "<IPython.core.display.Math object>"
      ]
     },
     "metadata": {},
     "output_type": "display_data"
    },
    {
     "data": {
      "text/latex": [
       "$\\displaystyle 12612600 x^22  \\phi_{yyyyyxxxx} - 25225200 x^22  \\xi_{yyyyxxxxx}$"
      ],
      "text/plain": [
       "<IPython.core.display.Math object>"
      ]
     },
     "metadata": {},
     "output_type": "display_data"
    },
    {
     "data": {
      "text/latex": [
       "$\\displaystyle 5045040 x^22  \\phi_{yyyyxxxxx} - 7567560 x^22  \\xi_{yyyxxxxxx}$"
      ],
      "text/plain": [
       "<IPython.core.display.Math object>"
      ]
     },
     "metadata": {},
     "output_type": "display_data"
    },
    {
     "data": {
      "text/latex": [
       "$\\displaystyle 840840 x^22  \\phi_{yyyxxxxxx} - 960960 x^22  \\xi_{yyxxxxxxx}$"
      ],
      "text/plain": [
       "<IPython.core.display.Math object>"
      ]
     },
     "metadata": {},
     "output_type": "display_data"
    },
    {
     "data": {
      "text/latex": [
       "$\\displaystyle -50050 x^22  \\xi_{yyyyyyyyyy}$"
      ],
      "text/plain": [
       "<IPython.core.display.Math object>"
      ]
     },
     "metadata": {},
     "output_type": "display_data"
    },
    {
     "data": {
      "text/latex": [
       "$\\displaystyle 30030 x^22  \\phi_{yyyyyyyyyy} - 420420 x^22  \\xi_{yyyyyyyyyx}$"
      ],
      "text/plain": [
       "<IPython.core.display.Math object>"
      ]
     },
     "metadata": {},
     "output_type": "display_data"
    },
    {
     "data": {
      "text/latex": [
       "$\\displaystyle 240240 x^22  \\phi_{yyyyyyyyyx} - 1561560 x^22  \\xi_{yyyyyyyyxx}$"
      ],
      "text/plain": [
       "<IPython.core.display.Math object>"
      ]
     },
     "metadata": {},
     "output_type": "display_data"
    },
    {
     "data": {
      "text/latex": [
       "$\\displaystyle 840840 x^22  \\phi_{yyyyyyyyxx} - 3363360 x^22  \\xi_{yyyyyyyxxx}$"
      ],
      "text/plain": [
       "<IPython.core.display.Math object>"
      ]
     },
     "metadata": {},
     "output_type": "display_data"
    },
    {
     "data": {
      "text/latex": [
       "$\\displaystyle 1681680 x^22  \\phi_{yyyyyyyxxx} - 4624620 x^22  \\xi_{yyyyyyxxxx}$"
      ],
      "text/plain": [
       "<IPython.core.display.Math object>"
      ]
     },
     "metadata": {},
     "output_type": "display_data"
    },
    {
     "data": {
      "text/latex": [
       "$\\displaystyle 2102100 x^22  \\phi_{yyyyyyxxxx} - 4204200 x^22  \\xi_{yyyyyxxxxx}$"
      ],
      "text/plain": [
       "<IPython.core.display.Math object>"
      ]
     },
     "metadata": {},
     "output_type": "display_data"
    },
    {
     "data": {
      "text/latex": [
       "$\\displaystyle 1681680 x^22  \\phi_{yyyyyxxxxx} - 2522520 x^22  \\xi_{yyyyxxxxxx}$"
      ],
      "text/plain": [
       "<IPython.core.display.Math object>"
      ]
     },
     "metadata": {},
     "output_type": "display_data"
    },
    {
     "data": {
      "text/latex": [
       "$\\displaystyle 840840 x^22  \\phi_{yyyyxxxxxx} - 960960 x^22  \\xi_{yyyxxxxxxx}$"
      ],
      "text/plain": [
       "<IPython.core.display.Math object>"
      ]
     },
     "metadata": {},
     "output_type": "display_data"
    },
    {
     "data": {
      "text/latex": [
       "$\\displaystyle 240240 x^22  \\phi_{yyyxxxxxxx} - 210210 x^22  \\xi_{yyxxxxxxxx}$"
      ],
      "text/plain": [
       "<IPython.core.display.Math object>"
      ]
     },
     "metadata": {},
     "output_type": "display_data"
    },
    {
     "data": {
      "text/latex": [
       "$\\displaystyle 30030 x^22  \\phi_{yyxxxxxxxx} - 20020 x^22  \\xi_{yxxxxxxxxx}$"
      ],
      "text/plain": [
       "<IPython.core.display.Math object>"
      ]
     },
     "metadata": {},
     "output_type": "display_data"
    },
    {
     "data": {
      "text/latex": [
       "$\\displaystyle -4729725 x^22  \\xi_{yyyyyy}$"
      ],
      "text/plain": [
       "<IPython.core.display.Math object>"
      ]
     },
     "metadata": {},
     "output_type": "display_data"
    },
    {
     "data": {
      "text/latex": [
       "$\\displaystyle -28378350 x^22  \\xi_{yyyyyyy}$"
      ],
      "text/plain": [
       "<IPython.core.display.Math object>"
      ]
     },
     "metadata": {},
     "output_type": "display_data"
    },
    {
     "data": {
      "text/latex": [
       "$\\displaystyle 3783780 x^22  \\phi_{yyyyyyy} - 52972920 x^22  \\xi_{yyyyyyx}$"
      ],
      "text/plain": [
       "<IPython.core.display.Math object>"
      ]
     },
     "metadata": {},
     "output_type": "display_data"
    },
    {
     "data": {
      "text/latex": [
       "$\\displaystyle 3783780 x^22  \\phi_{yyyyyyx} - 24594570 x^22  \\xi_{yyyyyxx}$"
      ],
      "text/plain": [
       "<IPython.core.display.Math object>"
      ]
     },
     "metadata": {},
     "output_type": "display_data"
    },
    {
     "data": {
      "text/latex": [
       "$\\displaystyle -23648625 x^22  \\xi_{yyyyyyyy}$"
      ],
      "text/plain": [
       "<IPython.core.display.Math object>"
      ]
     },
     "metadata": {},
     "output_type": "display_data"
    },
    {
     "data": {
      "text/latex": [
       "$\\displaystyle 6306300 x^22  \\phi_{yyyyyyyy} - 88288200 x^22  \\xi_{yyyyyyyx}$"
      ],
      "text/plain": [
       "<IPython.core.display.Math object>"
      ]
     },
     "metadata": {},
     "output_type": "display_data"
    },
    {
     "data": {
      "text/latex": [
       "$\\displaystyle 18918900 x^22  \\phi_{yyyyyyyx} - 122972850 x^22  \\xi_{yyyyyyxx}$"
      ],
      "text/plain": [
       "<IPython.core.display.Math object>"
      ]
     },
     "metadata": {},
     "output_type": "display_data"
    },
    {
     "data": {
      "text/latex": [
       "$\\displaystyle 18918900 x^22  \\phi_{yyyyyyxx} - 75675600 x^22  \\xi_{yyyyyxxx}$"
      ],
      "text/plain": [
       "<IPython.core.display.Math object>"
      ]
     },
     "metadata": {},
     "output_type": "display_data"
    },
    {
     "data": {
      "text/latex": [
       "$\\displaystyle 6306300 x^22  \\phi_{yyyyyxxx} - 17342325 x^22  \\xi_{yyyyxxxx}$"
      ],
      "text/plain": [
       "<IPython.core.display.Math object>"
      ]
     },
     "metadata": {},
     "output_type": "display_data"
    },
    {
     "data": {
      "text/latex": [
       "$\\displaystyle -6306300 x^22  \\xi_{yyyyyyyyy}$"
      ],
      "text/plain": [
       "<IPython.core.display.Math object>"
      ]
     },
     "metadata": {},
     "output_type": "display_data"
    },
    {
     "data": {
      "text/latex": [
       "$\\displaystyle 2522520 x^22  \\phi_{yyyyyyyyy} - 35315280 x^22  \\xi_{yyyyyyyyx}$"
      ],
      "text/plain": [
       "<IPython.core.display.Math object>"
      ]
     },
     "metadata": {},
     "output_type": "display_data"
    },
    {
     "data": {
      "text/latex": [
       "$\\displaystyle 12612600 x^22  \\phi_{yyyyyyyyx} - 81981900 x^22  \\xi_{yyyyyyyxx}$"
      ],
      "text/plain": [
       "<IPython.core.display.Math object>"
      ]
     },
     "metadata": {},
     "output_type": "display_data"
    },
    {
     "data": {
      "text/latex": [
       "$\\displaystyle 25225200 x^22  \\phi_{yyyyyyyxx} - 100900800 x^22  \\xi_{yyyyyyxxx}$"
      ],
      "text/plain": [
       "<IPython.core.display.Math object>"
      ]
     },
     "metadata": {},
     "output_type": "display_data"
    },
    {
     "data": {
      "text/latex": [
       "$\\displaystyle 25225200 x^22  \\phi_{yyyyyyxxx} - 69369300 x^22  \\xi_{yyyyyxxxx}$"
      ],
      "text/plain": [
       "<IPython.core.display.Math object>"
      ]
     },
     "metadata": {},
     "output_type": "display_data"
    },
    {
     "data": {
      "text/latex": [
       "$\\displaystyle 12612600 x^22  \\phi_{yyyyyxxxx} - 25225200 x^22  \\xi_{yyyyxxxxx}$"
      ],
      "text/plain": [
       "<IPython.core.display.Math object>"
      ]
     },
     "metadata": {},
     "output_type": "display_data"
    },
    {
     "data": {
      "text/latex": [
       "$\\displaystyle 2522520 x^22  \\phi_{yyyyxxxxx} - 3783780 x^22  \\xi_{yyyxxxxxx}$"
      ],
      "text/plain": [
       "<IPython.core.display.Math object>"
      ]
     },
     "metadata": {},
     "output_type": "display_data"
    },
    {
     "data": {
      "text/latex": [
       "$\\displaystyle -675675 x^22  \\xi_{yyyyyyyyyy}$"
      ],
      "text/plain": [
       "<IPython.core.display.Math object>"
      ]
     },
     "metadata": {},
     "output_type": "display_data"
    },
    {
     "data": {
      "text/latex": [
       "$\\displaystyle 360360 x^22  \\phi_{yyyyyyyyyy} - 5045040 x^22  \\xi_{yyyyyyyyyx}$"
      ],
      "text/plain": [
       "<IPython.core.display.Math object>"
      ]
     },
     "metadata": {},
     "output_type": "display_data"
    },
    {
     "data": {
      "text/latex": [
       "$\\displaystyle 2522520 x^22  \\phi_{yyyyyyyyyx} - 16396380 x^22  \\xi_{yyyyyyyyxx}$"
      ],
      "text/plain": [
       "<IPython.core.display.Math object>"
      ]
     },
     "metadata": {},
     "output_type": "display_data"
    },
    {
     "data": {
      "text/latex": [
       "$\\displaystyle 7567560 x^22  \\phi_{yyyyyyyyxx} - 30270240 x^22  \\xi_{yyyyyyyxxx}$"
      ],
      "text/plain": [
       "<IPython.core.display.Math object>"
      ]
     },
     "metadata": {},
     "output_type": "display_data"
    },
    {
     "data": {
      "text/latex": [
       "$\\displaystyle 12612600 x^22  \\phi_{yyyyyyyxxx} - 34684650 x^22  \\xi_{yyyyyyxxxx}$"
      ],
      "text/plain": [
       "<IPython.core.display.Math object>"
      ]
     },
     "metadata": {},
     "output_type": "display_data"
    },
    {
     "data": {
      "text/latex": [
       "$\\displaystyle 12612600 x^22  \\phi_{yyyyyyxxxx} - 25225200 x^22  \\xi_{yyyyyxxxxx}$"
      ],
      "text/plain": [
       "<IPython.core.display.Math object>"
      ]
     },
     "metadata": {},
     "output_type": "display_data"
    },
    {
     "data": {
      "text/latex": [
       "$\\displaystyle 7567560 x^22  \\phi_{yyyyyxxxxx} - 11351340 x^22  \\xi_{yyyyxxxxxx}$"
      ],
      "text/plain": [
       "<IPython.core.display.Math object>"
      ]
     },
     "metadata": {},
     "output_type": "display_data"
    },
    {
     "data": {
      "text/latex": [
       "$\\displaystyle 2522520 x^22  \\phi_{yyyyxxxxxx} - 2882880 x^22  \\xi_{yyyxxxxxxx}$"
      ],
      "text/plain": [
       "<IPython.core.display.Math object>"
      ]
     },
     "metadata": {},
     "output_type": "display_data"
    },
    {
     "data": {
      "text/latex": [
       "$\\displaystyle 360360 x^22  \\phi_{yyyxxxxxxx} - 315315 x^22  \\xi_{yyxxxxxxxx}$"
      ],
      "text/plain": [
       "<IPython.core.display.Math object>"
      ]
     },
     "metadata": {},
     "output_type": "display_data"
    },
    {
     "data": {
      "text/latex": [
       "$\\displaystyle -30030 x^22  \\xi_{yyyyyyyyyyy}$"
      ],
      "text/plain": [
       "<IPython.core.display.Math object>"
      ]
     },
     "metadata": {},
     "output_type": "display_data"
    },
    {
     "data": {
      "text/latex": [
       "$\\displaystyle 20020 x^22  \\phi_{yyyyyyyyyyy} - 280280 x^22  \\xi_{yyyyyyyyyyx}$"
      ],
      "text/plain": [
       "<IPython.core.display.Math object>"
      ]
     },
     "metadata": {},
     "output_type": "display_data"
    },
    {
     "data": {
      "text/latex": [
       "$\\displaystyle 180180 x^22  \\phi_{yyyyyyyyyyx} - 1171170 x^22  \\xi_{yyyyyyyyyxx}$"
      ],
      "text/plain": [
       "<IPython.core.display.Math object>"
      ]
     },
     "metadata": {},
     "output_type": "display_data"
    },
    {
     "data": {
      "text/latex": [
       "$\\displaystyle 720720 x^22  \\phi_{yyyyyyyyyxx} - 2882880 x^22  \\xi_{yyyyyyyyxxx}$"
      ],
      "text/plain": [
       "<IPython.core.display.Math object>"
      ]
     },
     "metadata": {},
     "output_type": "display_data"
    },
    {
     "data": {
      "text/latex": [
       "$\\displaystyle 1681680 x^22  \\phi_{yyyyyyyyxxx} - 4624620 x^22  \\xi_{yyyyyyyxxxx}$"
      ],
      "text/plain": [
       "<IPython.core.display.Math object>"
      ]
     },
     "metadata": {},
     "output_type": "display_data"
    },
    {
     "data": {
      "text/latex": [
       "$\\displaystyle 2522520 x^22  \\phi_{yyyyyyyxxxx} - 5045040 x^22  \\xi_{yyyyyyxxxxx}$"
      ],
      "text/plain": [
       "<IPython.core.display.Math object>"
      ]
     },
     "metadata": {},
     "output_type": "display_data"
    },
    {
     "data": {
      "text/latex": [
       "$\\displaystyle 2522520 x^22  \\phi_{yyyyyyxxxxx} - 3783780 x^22  \\xi_{yyyyyxxxxxx}$"
      ],
      "text/plain": [
       "<IPython.core.display.Math object>"
      ]
     },
     "metadata": {},
     "output_type": "display_data"
    },
    {
     "data": {
      "text/latex": [
       "$\\displaystyle 1681680 x^22  \\phi_{yyyyyxxxxxx} - 1921920 x^22  \\xi_{yyyyxxxxxxx}$"
      ],
      "text/plain": [
       "<IPython.core.display.Math object>"
      ]
     },
     "metadata": {},
     "output_type": "display_data"
    },
    {
     "data": {
      "text/latex": [
       "$\\displaystyle 720720 x^22  \\phi_{yyyyxxxxxxx} - 630630 x^22  \\xi_{yyyxxxxxxxx}$"
      ],
      "text/plain": [
       "<IPython.core.display.Math object>"
      ]
     },
     "metadata": {},
     "output_type": "display_data"
    },
    {
     "data": {
      "text/latex": [
       "$\\displaystyle 180180 x^22  \\phi_{yyyxxxxxxxx} - 120120 x^22  \\xi_{yyxxxxxxxxx}$"
      ],
      "text/plain": [
       "<IPython.core.display.Math object>"
      ]
     },
     "metadata": {},
     "output_type": "display_data"
    },
    {
     "data": {
      "text/latex": [
       "$\\displaystyle xi$"
      ],
      "text/plain": [
       "<IPython.core.display.Math object>"
      ]
     },
     "metadata": {},
     "output_type": "display_data"
    },
    {
     "data": {
      "text/latex": [
       "$\\displaystyle 2 xi$"
      ],
      "text/plain": [
       "<IPython.core.display.Math object>"
      ]
     },
     "metadata": {},
     "output_type": "display_data"
    },
    {
     "data": {
      "text/latex": [
       "$\\displaystyle 20020 x^22  \\phi_{yyxxxxxxxxx} - 10010 x^22  \\xi_{yxxxxxxxxxx} - 10 f  \\xi_{y}$"
      ],
      "text/plain": [
       "<IPython.core.display.Math object>"
      ]
     },
     "metadata": {},
     "output_type": "display_data"
    },
    {
     "data": {
      "text/latex": [
       "$\\displaystyle -455 x^22  \\xi_{yyyyyyyyyyyy}$"
      ],
      "text/plain": [
       "<IPython.core.display.Math object>"
      ]
     },
     "metadata": {},
     "output_type": "display_data"
    },
    {
     "data": {
      "text/latex": [
       "$\\displaystyle 364 x^22  \\phi_{yyyyyyyyyyyy} - 5096 x^22  \\xi_{yyyyyyyyyyyx}$"
      ],
      "text/plain": [
       "<IPython.core.display.Math object>"
      ]
     },
     "metadata": {},
     "output_type": "display_data"
    },
    {
     "data": {
      "text/latex": [
       "$\\displaystyle 4004 x^22  \\phi_{yyyyyyyyyyyx} - 26026 x^22  \\xi_{yyyyyyyyyyxx}$"
      ],
      "text/plain": [
       "<IPython.core.display.Math object>"
      ]
     },
     "metadata": {},
     "output_type": "display_data"
    },
    {
     "data": {
      "text/latex": [
       "$\\displaystyle 20020 x^22  \\phi_{yyyyyyyyyyxx} - 80080 x^22  \\xi_{yyyyyyyyyxxx}$"
      ],
      "text/plain": [
       "<IPython.core.display.Math object>"
      ]
     },
     "metadata": {},
     "output_type": "display_data"
    },
    {
     "data": {
      "text/latex": [
       "$\\displaystyle 60060 x^22  \\phi_{yyyyyyyyyxxx} - 165165 x^22  \\xi_{yyyyyyyyxxxx}$"
      ],
      "text/plain": [
       "<IPython.core.display.Math object>"
      ]
     },
     "metadata": {},
     "output_type": "display_data"
    },
    {
     "data": {
      "text/latex": [
       "$\\displaystyle 120120 x^22  \\phi_{yyyyyyyyxxxx} - 240240 x^22  \\xi_{yyyyyyyxxxxx}$"
      ],
      "text/plain": [
       "<IPython.core.display.Math object>"
      ]
     },
     "metadata": {},
     "output_type": "display_data"
    },
    {
     "data": {
      "text/latex": [
       "$\\displaystyle 168168 x^22  \\phi_{yyyyyyyxxxxx} - 252252 x^22  \\xi_{yyyyyyxxxxxx}$"
      ],
      "text/plain": [
       "<IPython.core.display.Math object>"
      ]
     },
     "metadata": {},
     "output_type": "display_data"
    },
    {
     "data": {
      "text/latex": [
       "$\\displaystyle 168168 x^22  \\phi_{yyyyyyxxxxxx} - 192192 x^22  \\xi_{yyyyyxxxxxxx}$"
      ],
      "text/plain": [
       "<IPython.core.display.Math object>"
      ]
     },
     "metadata": {},
     "output_type": "display_data"
    },
    {
     "data": {
      "text/latex": [
       "$\\displaystyle 120120 x^22  \\phi_{yyyyyxxxxxxx} - 105105 x^22  \\xi_{yyyyxxxxxxxx}$"
      ],
      "text/plain": [
       "<IPython.core.display.Math object>"
      ]
     },
     "metadata": {},
     "output_type": "display_data"
    },
    {
     "data": {
      "text/latex": [
       "$\\displaystyle 60060 x^22  \\phi_{yyyyxxxxxxxx} - 40040 x^22  \\xi_{yyyxxxxxxxxx}$"
      ],
      "text/plain": [
       "<IPython.core.display.Math object>"
      ]
     },
     "metadata": {},
     "output_type": "display_data"
    },
    {
     "data": {
      "text/latex": [
       "$\\displaystyle 20020 x^22  \\phi_{yyyxxxxxxxxx} - 10010 x^22  \\xi_{yyxxxxxxxxxx} - 10 f  \\xi_{yy}$"
      ],
      "text/plain": [
       "<IPython.core.display.Math object>"
      ]
     },
     "metadata": {},
     "output_type": "display_data"
    },
    {
     "data": {
      "text/latex": [
       "$\\displaystyle 22  \\xi_{y}$"
      ],
      "text/plain": [
       "<IPython.core.display.Math object>"
      ]
     },
     "metadata": {},
     "output_type": "display_data"
    },
    {
     "data": {
      "text/latex": [
       "$\\displaystyle -44 \\xi/x + 22  \\xi_{x}$"
      ],
      "text/plain": [
       "<IPython.core.display.Math object>"
      ]
     },
     "metadata": {},
     "output_type": "display_data"
    },
    {
     "data": {
      "text/latex": [
       "$\\displaystyle 4004 x^22  \\phi_{yyxxxxxxxxxx} - 1456 x^22  \\xi_{yxxxxxxxxxxx} + 4 f  \\phi_{yy} - 16 f  \\xi_{yx}$"
      ],
      "text/plain": [
       "<IPython.core.display.Math object>"
      ]
     },
     "metadata": {},
     "output_type": "display_data"
    },
    {
     "data": {
      "text/latex": [
       "$\\displaystyle 364 x^22  \\phi_{yxxxxxxxxxxx} - 91 x^22  \\xi_{xxxxxxxxxxxx} + 4 f  \\phi_{yx} - 6 f  \\xi_{xx}$"
      ],
      "text/plain": [
       "<IPython.core.display.Math object>"
      ]
     },
     "metadata": {},
     "output_type": "display_data"
    },
    {
     "data": {
      "text/latex": [
       "$\\displaystyle -2027025 x^22  \\xi_{yyyyyyy}$"
      ],
      "text/plain": [
       "<IPython.core.display.Math object>"
      ]
     },
     "metadata": {},
     "output_type": "display_data"
    },
    {
     "data": {
      "text/latex": [
       "$\\displaystyle 135135 x^22  \\phi_{yyyyyyy} - 1891890 x^22  \\xi_{yyyyyyx}$"
      ],
      "text/plain": [
       "<IPython.core.display.Math object>"
      ]
     },
     "metadata": {},
     "output_type": "display_data"
    },
    {
     "data": {
      "text/latex": [
       "$\\displaystyle -4729725 x^22  \\xi_{yyyyyyyy}$"
      ],
      "text/plain": [
       "<IPython.core.display.Math object>"
      ]
     },
     "metadata": {},
     "output_type": "display_data"
    },
    {
     "data": {
      "text/latex": [
       "$\\displaystyle 945945 x^22  \\phi_{yyyyyyyy} - 13243230 x^22  \\xi_{yyyyyyyx}$"
      ],
      "text/plain": [
       "<IPython.core.display.Math object>"
      ]
     },
     "metadata": {},
     "output_type": "display_data"
    },
    {
     "data": {
      "text/latex": [
       "$\\displaystyle 1891890 x^22  \\phi_{yyyyyyyx} - 12297285 x^22  \\xi_{yyyyyyxx}$"
      ],
      "text/plain": [
       "<IPython.core.display.Math object>"
      ]
     },
     "metadata": {},
     "output_type": "display_data"
    },
    {
     "data": {
      "text/latex": [
       "$\\displaystyle 945945 x^22  \\phi_{yyyyyyxx} - 3783780 x^22  \\xi_{yyyyyxxx}$"
      ],
      "text/plain": [
       "<IPython.core.display.Math object>"
      ]
     },
     "metadata": {},
     "output_type": "display_data"
    },
    {
     "data": {
      "text/latex": [
       "$\\displaystyle -2837835 x^22  \\xi_{yyyyyyyyy}$"
      ],
      "text/plain": [
       "<IPython.core.display.Math object>"
      ]
     },
     "metadata": {},
     "output_type": "display_data"
    },
    {
     "data": {
      "text/latex": [
       "$\\displaystyle 945945 x^22  \\phi_{yyyyyyyyy} - 13243230 x^22  \\xi_{yyyyyyyyx}$"
      ],
      "text/plain": [
       "<IPython.core.display.Math object>"
      ]
     },
     "metadata": {},
     "output_type": "display_data"
    },
    {
     "data": {
      "text/latex": [
       "$\\displaystyle 3783780 x^22  \\phi_{yyyyyyyyx} - 24594570 x^22  \\xi_{yyyyyyyxx}$"
      ],
      "text/plain": [
       "<IPython.core.display.Math object>"
      ]
     },
     "metadata": {},
     "output_type": "display_data"
    },
    {
     "data": {
      "text/latex": [
       "$\\displaystyle 5675670 x^22  \\phi_{yyyyyyyxx} - 22702680 x^22  \\xi_{yyyyyyxxx}$"
      ],
      "text/plain": [
       "<IPython.core.display.Math object>"
      ]
     },
     "metadata": {},
     "output_type": "display_data"
    },
    {
     "data": {
      "text/latex": [
       "$\\displaystyle 3783780 x^22  \\phi_{yyyyyyxxx} - 10405395 x^22  \\xi_{yyyyyxxxx}$"
      ],
      "text/plain": [
       "<IPython.core.display.Math object>"
      ]
     },
     "metadata": {},
     "output_type": "display_data"
    },
    {
     "data": {
      "text/latex": [
       "$\\displaystyle 945945 x^22  \\phi_{yyyyyxxxx} - 1891890 x^22  \\xi_{yyyyxxxxx}$"
      ],
      "text/plain": [
       "<IPython.core.display.Math object>"
      ]
     },
     "metadata": {},
     "output_type": "display_data"
    },
    {
     "data": {
      "text/latex": [
       "$\\displaystyle -675675 x^22  \\xi_{yyyyyyyyyy}$"
      ],
      "text/plain": [
       "<IPython.core.display.Math object>"
      ]
     },
     "metadata": {},
     "output_type": "display_data"
    },
    {
     "data": {
      "text/latex": [
       "$\\displaystyle 315315 x^22  \\phi_{yyyyyyyyyy} - 4414410 x^22  \\xi_{yyyyyyyyyx}$"
      ],
      "text/plain": [
       "<IPython.core.display.Math object>"
      ]
     },
     "metadata": {},
     "output_type": "display_data"
    },
    {
     "data": {
      "text/latex": [
       "$\\displaystyle 1891890 x^22  \\phi_{yyyyyyyyyx} - 12297285 x^22  \\xi_{yyyyyyyyxx}$"
      ],
      "text/plain": [
       "<IPython.core.display.Math object>"
      ]
     },
     "metadata": {},
     "output_type": "display_data"
    },
    {
     "data": {
      "text/latex": [
       "$\\displaystyle 4729725 x^22  \\phi_{yyyyyyyyxx} - 18918900 x^22  \\xi_{yyyyyyyxxx}$"
      ],
      "text/plain": [
       "<IPython.core.display.Math object>"
      ]
     },
     "metadata": {},
     "output_type": "display_data"
    },
    {
     "data": {
      "text/latex": [
       "$\\displaystyle 6306300 x^22  \\phi_{yyyyyyyxxx} - 17342325 x^22  \\xi_{yyyyyyxxxx}$"
      ],
      "text/plain": [
       "<IPython.core.display.Math object>"
      ]
     },
     "metadata": {},
     "output_type": "display_data"
    },
    {
     "data": {
      "text/latex": [
       "$\\displaystyle 4729725 x^22  \\phi_{yyyyyyxxxx} - 9459450 x^22  \\xi_{yyyyyxxxxx}$"
      ],
      "text/plain": [
       "<IPython.core.display.Math object>"
      ]
     },
     "metadata": {},
     "output_type": "display_data"
    },
    {
     "data": {
      "text/latex": [
       "$\\displaystyle 1891890 x^22  \\phi_{yyyyyxxxxx} - 2837835 x^22  \\xi_{yyyyxxxxxx}$"
      ],
      "text/plain": [
       "<IPython.core.display.Math object>"
      ]
     },
     "metadata": {},
     "output_type": "display_data"
    },
    {
     "data": {
      "text/latex": [
       "$\\displaystyle 315315 x^22  \\phi_{yyyyxxxxxx} - 360360 x^22  \\xi_{yyyxxxxxxx}$"
      ],
      "text/plain": [
       "<IPython.core.display.Math object>"
      ]
     },
     "metadata": {},
     "output_type": "display_data"
    },
    {
     "data": {
      "text/latex": [
       "$\\displaystyle -75075 x^22  \\xi_{yyyyyyyyyyy}$"
      ],
      "text/plain": [
       "<IPython.core.display.Math object>"
      ]
     },
     "metadata": {},
     "output_type": "display_data"
    },
    {
     "data": {
      "text/latex": [
       "$\\displaystyle 45045 x^22  \\phi_{yyyyyyyyyyy} - 630630 x^22  \\xi_{yyyyyyyyyyx}$"
      ],
      "text/plain": [
       "<IPython.core.display.Math object>"
      ]
     },
     "metadata": {},
     "output_type": "display_data"
    },
    {
     "data": {
      "text/latex": [
       "$\\displaystyle 360360 x^22  \\phi_{yyyyyyyyyyx} - 2342340 x^22  \\xi_{yyyyyyyyyxx}$"
      ],
      "text/plain": [
       "<IPython.core.display.Math object>"
      ]
     },
     "metadata": {},
     "output_type": "display_data"
    },
    {
     "data": {
      "text/latex": [
       "$\\displaystyle 1261260 x^22  \\phi_{yyyyyyyyyxx} - 5045040 x^22  \\xi_{yyyyyyyyxxx}$"
      ],
      "text/plain": [
       "<IPython.core.display.Math object>"
      ]
     },
     "metadata": {},
     "output_type": "display_data"
    },
    {
     "data": {
      "text/latex": [
       "$\\displaystyle 2522520 x^22  \\phi_{yyyyyyyyxxx} - 6936930 x^22  \\xi_{yyyyyyyxxxx}$"
      ],
      "text/plain": [
       "<IPython.core.display.Math object>"
      ]
     },
     "metadata": {},
     "output_type": "display_data"
    },
    {
     "data": {
      "text/latex": [
       "$\\displaystyle 3153150 x^22  \\phi_{yyyyyyyxxxx} - 6306300 x^22  \\xi_{yyyyyyxxxxx}$"
      ],
      "text/plain": [
       "<IPython.core.display.Math object>"
      ]
     },
     "metadata": {},
     "output_type": "display_data"
    },
    {
     "data": {
      "text/latex": [
       "$\\displaystyle 2522520 x^22  \\phi_{yyyyyyxxxxx} - 3783780 x^22  \\xi_{yyyyyxxxxxx}$"
      ],
      "text/plain": [
       "<IPython.core.display.Math object>"
      ]
     },
     "metadata": {},
     "output_type": "display_data"
    },
    {
     "data": {
      "text/latex": [
       "$\\displaystyle 1261260 x^22  \\phi_{yyyyyxxxxxx} - 1441440 x^22  \\xi_{yyyyxxxxxxx}$"
      ],
      "text/plain": [
       "<IPython.core.display.Math object>"
      ]
     },
     "metadata": {},
     "output_type": "display_data"
    },
    {
     "data": {
      "text/latex": [
       "$\\displaystyle 360360 x^22  \\phi_{yyyyxxxxxxx} - 315315 x^22  \\xi_{yyyxxxxxxxx}$"
      ],
      "text/plain": [
       "<IPython.core.display.Math object>"
      ]
     },
     "metadata": {},
     "output_type": "display_data"
    },
    {
     "data": {
      "text/latex": [
       "$\\displaystyle 45045 x^22  \\phi_{yyyxxxxxxxx} - 30030 x^22  \\xi_{yyxxxxxxxxx}$"
      ],
      "text/plain": [
       "<IPython.core.display.Math object>"
      ]
     },
     "metadata": {},
     "output_type": "display_data"
    },
    {
     "data": {
      "text/latex": [
       "$\\displaystyle -4095 x^22  \\xi_{yyyyyyyyyyyy}$"
      ],
      "text/plain": [
       "<IPython.core.display.Math object>"
      ]
     },
     "metadata": {},
     "output_type": "display_data"
    },
    {
     "data": {
      "text/latex": [
       "$\\displaystyle 3003 x^22  \\phi_{yyyyyyyyyyyy} - 42042 x^22  \\xi_{yyyyyyyyyyyx}$"
      ],
      "text/plain": [
       "<IPython.core.display.Math object>"
      ]
     },
     "metadata": {},
     "output_type": "display_data"
    },
    {
     "data": {
      "text/latex": [
       "$\\displaystyle 30030 x^22  \\phi_{yyyyyyyyyyyx} - 195195 x^22  \\xi_{yyyyyyyyyyxx}$"
      ],
      "text/plain": [
       "<IPython.core.display.Math object>"
      ]
     },
     "metadata": {},
     "output_type": "display_data"
    },
    {
     "data": {
      "text/latex": [
       "$\\displaystyle 135135 x^22  \\phi_{yyyyyyyyyyxx} - 540540 x^22  \\xi_{yyyyyyyyyxxx}$"
      ],
      "text/plain": [
       "<IPython.core.display.Math object>"
      ]
     },
     "metadata": {},
     "output_type": "display_data"
    },
    {
     "data": {
      "text/latex": [
       "$\\displaystyle 360360 x^22  \\phi_{yyyyyyyyyxxx} - 990990 x^22  \\xi_{yyyyyyyyxxxx}$"
      ],
      "text/plain": [
       "<IPython.core.display.Math object>"
      ]
     },
     "metadata": {},
     "output_type": "display_data"
    },
    {
     "data": {
      "text/latex": [
       "$\\displaystyle 630630 x^22  \\phi_{yyyyyyyyxxxx} - 1261260 x^22  \\xi_{yyyyyyyxxxxx}$"
      ],
      "text/plain": [
       "<IPython.core.display.Math object>"
      ]
     },
     "metadata": {},
     "output_type": "display_data"
    },
    {
     "data": {
      "text/latex": [
       "$\\displaystyle 756756 x^22  \\phi_{yyyyyyyxxxxx} - 1135134 x^22  \\xi_{yyyyyyxxxxxx}$"
      ],
      "text/plain": [
       "<IPython.core.display.Math object>"
      ]
     },
     "metadata": {},
     "output_type": "display_data"
    },
    {
     "data": {
      "text/latex": [
       "$\\displaystyle 630630 x^22  \\phi_{yyyyyyxxxxxx} - 720720 x^22  \\xi_{yyyyyxxxxxxx}$"
      ],
      "text/plain": [
       "<IPython.core.display.Math object>"
      ]
     },
     "metadata": {},
     "output_type": "display_data"
    },
    {
     "data": {
      "text/latex": [
       "$\\displaystyle 360360 x^22  \\phi_{yyyyyxxxxxxx} - 315315 x^22  \\xi_{yyyyxxxxxxxx}$"
      ],
      "text/plain": [
       "<IPython.core.display.Math object>"
      ]
     },
     "metadata": {},
     "output_type": "display_data"
    },
    {
     "data": {
      "text/latex": [
       "$\\displaystyle 135135 x^22  \\phi_{yyyyxxxxxxxx} - 90090 x^22  \\xi_{yyyxxxxxxxxx}$"
      ],
      "text/plain": [
       "<IPython.core.display.Math object>"
      ]
     },
     "metadata": {},
     "output_type": "display_data"
    },
    {
     "data": {
      "text/latex": [
       "$\\displaystyle 30030 x^22  \\phi_{yyyxxxxxxxxx} - 15015 x^22  \\xi_{yyxxxxxxxxxx} - 15 f  \\xi_{yy}$"
      ],
      "text/plain": [
       "<IPython.core.display.Math object>"
      ]
     },
     "metadata": {},
     "output_type": "display_data"
    },
    {
     "data": {
      "text/latex": [
       "$\\displaystyle -6  \\xi_{y}$"
      ],
      "text/plain": [
       "<IPython.core.display.Math object>"
      ]
     },
     "metadata": {},
     "output_type": "display_data"
    },
    {
     "data": {
      "text/latex": [
       "$\\displaystyle 3003 x^22  \\phi_{yyxxxxxxxxxx} - 1092 x^22  \\xi_{yxxxxxxxxxxx} + 3 f  \\phi_{yy} - 12 f  \\xi_{yx}$"
      ],
      "text/plain": [
       "<IPython.core.display.Math object>"
      ]
     },
     "metadata": {},
     "output_type": "display_data"
    },
    {
     "data": {
      "text/latex": [
       "$\\displaystyle -105 x^22  \\xi_{yyyyyyyyyyyyy}$"
      ],
      "text/plain": [
       "<IPython.core.display.Math object>"
      ]
     },
     "metadata": {},
     "output_type": "display_data"
    },
    {
     "data": {
      "text/latex": [
       "$\\displaystyle 91 x^22  \\phi_{yyyyyyyyyyyyy} - 1274 x^22  \\xi_{yyyyyyyyyyyyx}$"
      ],
      "text/plain": [
       "<IPython.core.display.Math object>"
      ]
     },
     "metadata": {},
     "output_type": "display_data"
    },
    {
     "data": {
      "text/latex": [
       "$\\displaystyle 1092 x^22  \\phi_{yyyyyyyyyyyyx} - 7098 x^22  \\xi_{yyyyyyyyyyyxx}$"
      ],
      "text/plain": [
       "<IPython.core.display.Math object>"
      ]
     },
     "metadata": {},
     "output_type": "display_data"
    },
    {
     "data": {
      "text/latex": [
       "$\\displaystyle 6006 x^22  \\phi_{yyyyyyyyyyyxx} - 24024 x^22  \\xi_{yyyyyyyyyyxxx}$"
      ],
      "text/plain": [
       "<IPython.core.display.Math object>"
      ]
     },
     "metadata": {},
     "output_type": "display_data"
    },
    {
     "data": {
      "text/latex": [
       "$\\displaystyle 20020 x^22  \\phi_{yyyyyyyyyyxxx} - 55055 x^22  \\xi_{yyyyyyyyyxxxx}$"
      ],
      "text/plain": [
       "<IPython.core.display.Math object>"
      ]
     },
     "metadata": {},
     "output_type": "display_data"
    },
    {
     "data": {
      "text/latex": [
       "$\\displaystyle 45045 x^22  \\phi_{yyyyyyyyyxxxx} - 90090 x^22  \\xi_{yyyyyyyyxxxxx}$"
      ],
      "text/plain": [
       "<IPython.core.display.Math object>"
      ]
     },
     "metadata": {},
     "output_type": "display_data"
    },
    {
     "data": {
      "text/latex": [
       "$\\displaystyle 72072 x^22  \\phi_{yyyyyyyyxxxxx} - 108108 x^22  \\xi_{yyyyyyyxxxxxx}$"
      ],
      "text/plain": [
       "<IPython.core.display.Math object>"
      ]
     },
     "metadata": {},
     "output_type": "display_data"
    },
    {
     "data": {
      "text/latex": [
       "$\\displaystyle 84084 x^22  \\phi_{yyyyyyyxxxxxx} - 96096 x^22  \\xi_{yyyyyyxxxxxxx}$"
      ],
      "text/plain": [
       "<IPython.core.display.Math object>"
      ]
     },
     "metadata": {},
     "output_type": "display_data"
    },
    {
     "data": {
      "text/latex": [
       "$\\displaystyle 72072 x^22  \\phi_{yyyyyyxxxxxxx} - 63063 x^22  \\xi_{yyyyyxxxxxxxx}$"
      ],
      "text/plain": [
       "<IPython.core.display.Math object>"
      ]
     },
     "metadata": {},
     "output_type": "display_data"
    },
    {
     "data": {
      "text/latex": [
       "$\\displaystyle 45045 x^22  \\phi_{yyyyyxxxxxxxx} - 30030 x^22  \\xi_{yyyyxxxxxxxxx}$"
      ],
      "text/plain": [
       "<IPython.core.display.Math object>"
      ]
     },
     "metadata": {},
     "output_type": "display_data"
    },
    {
     "data": {
      "text/latex": [
       "$\\displaystyle 20020 x^22  \\phi_{yyyyxxxxxxxxx} - 10010 x^22  \\xi_{yyyxxxxxxxxxx} - 10 f  \\xi_{yyy}$"
      ],
      "text/plain": [
       "<IPython.core.display.Math object>"
      ]
     },
     "metadata": {},
     "output_type": "display_data"
    },
    {
     "data": {
      "text/latex": [
       "$\\displaystyle - \\xi_{yy}$"
      ],
      "text/plain": [
       "<IPython.core.display.Math object>"
      ]
     },
     "metadata": {},
     "output_type": "display_data"
    },
    {
     "data": {
      "text/latex": [
       "$\\displaystyle 6006 x^22  \\phi_{yyyxxxxxxxxxx} - 2184 x^22  \\xi_{yyxxxxxxxxxxx} + 6 f  \\phi_{yyy} - 12 f_{x}  \\xi_{yy} - 24 f  \\xi_{yyx}$"
      ],
      "text/plain": [
       "<IPython.core.display.Math object>"
      ]
     },
     "metadata": {},
     "output_type": "display_data"
    },
    {
     "data": {
      "text/latex": [
       "$\\displaystyle  \\phi_{yy} - 2  \\xi_{yx}$"
      ],
      "text/plain": [
       "<IPython.core.display.Math object>"
      ]
     },
     "metadata": {},
     "output_type": "display_data"
    },
    {
     "data": {
      "text/latex": [
       "$\\displaystyle 12  \\xi_{y} y_{x, x} + 2  \\phi_{yx} -  \\xi_{xx}$"
      ],
      "text/plain": [
       "<IPython.core.display.Math object>"
      ]
     },
     "metadata": {},
     "output_type": "display_data"
    },
    {
     "data": {
      "text/latex": [
       "$\\displaystyle 1092 x^22  \\phi_{yyxxxxxxxxxxx} - 273 x^22  \\xi_{yxxxxxxxxxxxx} + 6 f_{x}  \\phi_{yy} + 12 f  \\phi_{yyx} - 18 f_{x}  \\xi_{yx} - 18 f  \\xi_{yxx}$"
      ],
      "text/plain": [
       "<IPython.core.display.Math object>"
      ]
     },
     "metadata": {},
     "output_type": "display_data"
    },
    {
     "data": {
      "text/latex": [
       "$\\displaystyle 6  \\phi_{yx} - 6  \\xi_{xx}$"
      ],
      "text/plain": [
       "<IPython.core.display.Math object>"
      ]
     },
     "metadata": {},
     "output_type": "display_data"
    },
    {
     "data": {
      "text/latex": [
       "$\\displaystyle 12  \\xi_{x} y_{x, x} - 22 \\xi y_{x, x}/x +  \\phi_{xx}$"
      ],
      "text/plain": [
       "<IPython.core.display.Math object>"
      ]
     },
     "metadata": {},
     "output_type": "display_data"
    },
    {
     "data": {
      "text/latex": [
       "$\\displaystyle 91 x^22  \\phi_{yxxxxxxxxxxxx} - 14 x^22  \\xi_{xxxxxxxxxxxxx} + 6 f  \\phi_{yxx} - 4 f  \\xi_{xxx}$"
      ],
      "text/plain": [
       "<IPython.core.display.Math object>"
      ]
     },
     "metadata": {},
     "output_type": "display_data"
    },
    {
     "data": {
      "text/latex": [
       "$\\displaystyle -x^22  \\xi_{yyyyyyyyyyyyyy}$"
      ],
      "text/plain": [
       "<IPython.core.display.Math object>"
      ]
     },
     "metadata": {},
     "output_type": "display_data"
    },
    {
     "data": {
      "text/latex": [
       "$\\displaystyle x^22  \\phi_{yyyyyyyyyyyyyy} - 14 x^22  \\xi_{yyyyyyyyyyyyyx}$"
      ],
      "text/plain": [
       "<IPython.core.display.Math object>"
      ]
     },
     "metadata": {},
     "output_type": "display_data"
    },
    {
     "data": {
      "text/latex": [
       "$\\displaystyle 14 x^22  \\phi_{yyyyyyyyyyyyyx} - 91 x^22  \\xi_{yyyyyyyyyyyyxx}$"
      ],
      "text/plain": [
       "<IPython.core.display.Math object>"
      ]
     },
     "metadata": {},
     "output_type": "display_data"
    },
    {
     "data": {
      "text/latex": [
       "$\\displaystyle 91 x^22  \\phi_{yyyyyyyyyyyyxx} - 364 x^22  \\xi_{yyyyyyyyyyyxxx}$"
      ],
      "text/plain": [
       "<IPython.core.display.Math object>"
      ]
     },
     "metadata": {},
     "output_type": "display_data"
    },
    {
     "data": {
      "text/latex": [
       "$\\displaystyle 364 x^22  \\phi_{yyyyyyyyyyyxxx} - 1001 x^22  \\xi_{yyyyyyyyyyxxxx}$"
      ],
      "text/plain": [
       "<IPython.core.display.Math object>"
      ]
     },
     "metadata": {},
     "output_type": "display_data"
    },
    {
     "data": {
      "text/latex": [
       "$\\displaystyle 1001 x^22  \\phi_{yyyyyyyyyyxxxx} - 2002 x^22  \\xi_{yyyyyyyyyxxxxx}$"
      ],
      "text/plain": [
       "<IPython.core.display.Math object>"
      ]
     },
     "metadata": {},
     "output_type": "display_data"
    },
    {
     "data": {
      "text/latex": [
       "$\\displaystyle 2002 x^22  \\phi_{yyyyyyyyyxxxxx} - 3003 x^22  \\xi_{yyyyyyyyxxxxxx}$"
      ],
      "text/plain": [
       "<IPython.core.display.Math object>"
      ]
     },
     "metadata": {},
     "output_type": "display_data"
    },
    {
     "data": {
      "text/latex": [
       "$\\displaystyle 3003 x^22  \\phi_{yyyyyyyyxxxxxx} - 3432 x^22  \\xi_{yyyyyyyxxxxxxx}$"
      ],
      "text/plain": [
       "<IPython.core.display.Math object>"
      ]
     },
     "metadata": {},
     "output_type": "display_data"
    },
    {
     "data": {
      "text/latex": [
       "$\\displaystyle 3432 x^22  \\phi_{yyyyyyyxxxxxxx} - 3003 x^22  \\xi_{yyyyyyxxxxxxxx}$"
      ],
      "text/plain": [
       "<IPython.core.display.Math object>"
      ]
     },
     "metadata": {},
     "output_type": "display_data"
    },
    {
     "data": {
      "text/latex": [
       "$\\displaystyle 3003 x^22  \\phi_{yyyyyyxxxxxxxx} - 2002 x^22  \\xi_{yyyyyxxxxxxxxx}$"
      ],
      "text/plain": [
       "<IPython.core.display.Math object>"
      ]
     },
     "metadata": {},
     "output_type": "display_data"
    },
    {
     "data": {
      "text/latex": [
       "$\\displaystyle 2002 x^22  \\phi_{yyyyyxxxxxxxxx} - 1001 x^22  \\xi_{yyyyxxxxxxxxxx} - f  \\xi_{yyyy}$"
      ],
      "text/plain": [
       "<IPython.core.display.Math object>"
      ]
     },
     "metadata": {},
     "output_type": "display_data"
    },
    {
     "data": {
      "text/latex": [
       "$\\displaystyle 1001 x^22  \\phi_{yyyyxxxxxxxxxx} - 364 x^22  \\xi_{yyyxxxxxxxxxxx} + f  \\phi_{yyyy} - 2 f_{x}  \\xi_{yyy} - 4 f  \\xi_{yyyx}$"
      ],
      "text/plain": [
       "<IPython.core.display.Math object>"
      ]
     },
     "metadata": {},
     "output_type": "display_data"
    },
    {
     "data": {
      "text/latex": [
       "$\\displaystyle 364 x^22  \\phi_{yyyxxxxxxxxxxx} - 91 x^22  \\xi_{yyxxxxxxxxxxxx} + 2 f_{x}  \\phi_{yyy} + 4 f  \\phi_{yyyx} - 6 f_{x}  \\xi_{yyx} - 6 f  \\xi_{yyxx}$"
      ],
      "text/plain": [
       "<IPython.core.display.Math object>"
      ]
     },
     "metadata": {},
     "output_type": "display_data"
    },
    {
     "data": {
      "text/latex": [
       "$\\displaystyle 91 x^22  \\phi_{yyxxxxxxxxxxxx} - 14 x^22  \\xi_{yxxxxxxxxxxxxx} + 6 f_{x}  \\phi_{yyx} + 6 f  \\phi_{yyxx} - 6 f_{x}  \\xi_{yxx} - 4 f  \\xi_{yxxx}$"
      ],
      "text/plain": [
       "<IPython.core.display.Math object>"
      ]
     },
     "metadata": {},
     "output_type": "display_data"
    },
    {
     "data": {
      "text/latex": [
       "$\\displaystyle 6  \\phi_{yxx} y_{x} - 2  \\xi_{xxx} y_{x} - \\xi + 2  \\phi_{xxx}$"
      ],
      "text/plain": [
       "<IPython.core.display.Math object>"
      ]
     },
     "metadata": {},
     "output_type": "display_data"
    },
    {
     "data": {
      "text/latex": [
       "$\\displaystyle 14 x^22  \\phi_{yxxxxxxxxxxxxx} - x^22  \\xi_{xxxxxxxxxxxxxx} + 4 f  \\phi_{yxxx} - 15 f  \\xi_{y} - f  \\xi_{xxxx}$"
      ],
      "text/plain": [
       "<IPython.core.display.Math object>"
      ]
     },
     "metadata": {},
     "output_type": "display_data"
    },
    {
     "data": {
      "text/latex": [
       "$\\displaystyle x^22  \\phi_{xxxxxxxxxxxxxx} + f  \\phi_{y} + f  \\phi_{xxxx} - 14 f  \\xi_{x} + 22 f \\xi/x$"
      ],
      "text/plain": [
       "<IPython.core.display.Math object>"
      ]
     },
     "metadata": {},
     "output_type": "display_data"
    },
    {
     "data": {
      "text/plain": [
       "Timer unit: 1e-09 s"
      ]
     },
     "metadata": {},
     "output_type": "display_data"
    }
   ],
   "source": [
    "# Example 2.17\n",
    "x   = var('x')\n",
    "y   = function('y')\n",
    "f = function(\"f\")\n",
    "ode = diff(f(x) * diff(y(x),x,x), x,x) + x**22*diff(y(x), x, 14) -f(x)\n",
    "display(Math(latexer(ode)))\n",
    "%lprun inf = overdeterminedSystemODE(ode, y, x)\n",
    "print(\"determining system:\")\n",
    "for _ in inf:\n",
    "    display(Math(latexer(_)))\n",
    "#inf = Janet_Basis_from_ODE(ode, y, x)\n",
    "#print(\"AAA\")\n",
    "#print(inf)"
   ]
  },
  {
   "cell_type": "code",
   "execution_count": 13,
   "id": "dc623942-83c5-4116-bb92-393b1e8d4c83",
   "metadata": {},
   "outputs": [
    {
     "name": "stdout",
     "output_type": "stream",
     "text": [
      "693\n"
     ]
    }
   ],
   "source": [
    "print(len(inf))"
   ]
  },
  {
   "cell_type": "code",
   "execution_count": 15,
   "id": "7e72fe1c-a9fd-4eb1-97b7-b42fa5c90d3b",
   "metadata": {},
   "outputs": [],
   "source": [
    "a1, a2, a3=var(\"a1 a2 a3\")"
   ]
  },
  {
   "cell_type": "code",
   "execution_count": 24,
   "id": "8f03dfbb-8fd4-4819-a5e5-0c694758048e",
   "metadata": {},
   "outputs": [],
   "source": [
    "f1=inf[655]"
   ]
  },
  {
   "cell_type": "code",
   "execution_count": 25,
   "id": "0b5b7382-06f9-4a1e-900e-3744905fec3a",
   "metadata": {},
   "outputs": [
    {
     "data": {
      "text/plain": [
       "-6*D[0](xi)(y(x), x)"
      ]
     },
     "execution_count": 25,
     "metadata": {},
     "output_type": "execute_result"
    }
   ],
   "source": [
    "f1"
   ]
  },
  {
   "cell_type": "code",
   "execution_count": 56,
   "id": "74a893b1-a394-4218-b411-017e3fae0c92",
   "metadata": {},
   "outputs": [],
   "source": [
    "X=function(\"X\")\n",
    "a=function(\"a\")\n",
    "b=function(\"b\")\n",
    "\n",
    "X=a(x)*y(x)+b(x)"
   ]
  },
  {
   "cell_type": "code",
   "execution_count": 69,
   "id": "cea9a877-9b4d-464a-b640-bad512bed4bf",
   "metadata": {},
   "outputs": [
    {
     "ename": "TypeError",
     "evalue": "argument symb must be a symbol",
     "output_type": "error",
     "traceback": [
      "\u001b[0;31m---------------------------------------------------------------------------\u001b[0m",
      "\u001b[0;31mTypeError\u001b[0m                                 Traceback (most recent call last)",
      "Cell \u001b[0;32mIn [69], line 1\u001b[0m\n\u001b[0;32m----> 1\u001b[0m \u001b[43mdiff\u001b[49m\u001b[43m(\u001b[49m\u001b[43mxi\u001b[49m\u001b[43m(\u001b[49m\u001b[43my\u001b[49m\u001b[43m(\u001b[49m\u001b[43mx\u001b[49m\u001b[43m)\u001b[49m\u001b[43m,\u001b[49m\u001b[43m \u001b[49m\u001b[43mx\u001b[49m\u001b[43m)\u001b[49m\u001b[43m,\u001b[49m\u001b[43m \u001b[49m\u001b[43my\u001b[49m\u001b[43m(\u001b[49m\u001b[43mx\u001b[49m\u001b[43m)\u001b[49m\u001b[43m,\u001b[49m\u001b[43mx\u001b[49m\u001b[43m)\u001b[49m\n\u001b[1;32m      2\u001b[0m inf1 \u001b[38;5;241m=\u001b[39m [_\u001b[38;5;241m.\u001b[39msubs({diff(xi(y(x), x), y(x),x) : diff(X, x)}) \u001b[38;5;28;01mfor\u001b[39;00m _ \u001b[38;5;129;01min\u001b[39;00m inf]\n",
      "File \u001b[0;32m~/sage/sage-9.8/src/sage/calculus/functional.py:146\u001b[0m, in \u001b[0;36mderivative\u001b[0;34m(f, *args, **kwds)\u001b[0m\n\u001b[1;32m     52\u001b[0m \u001b[38;5;124mr\u001b[39m\u001b[38;5;124;03m\"\"\"\u001b[39;00m\n\u001b[1;32m     53\u001b[0m \u001b[38;5;124;03mThe derivative of `f`.\u001b[39;00m\n\u001b[1;32m     54\u001b[0m \n\u001b[0;32m   (...)\u001b[0m\n\u001b[1;32m    143\u001b[0m \n\u001b[1;32m    144\u001b[0m \u001b[38;5;124;03m\"\"\"\u001b[39;00m\n\u001b[1;32m    145\u001b[0m \u001b[38;5;28;01mtry\u001b[39;00m:\n\u001b[0;32m--> 146\u001b[0m     \u001b[38;5;28;01mreturn\u001b[39;00m \u001b[43mf\u001b[49m\u001b[38;5;241;43m.\u001b[39;49m\u001b[43mderivative\u001b[49m\u001b[43m(\u001b[49m\u001b[38;5;241;43m*\u001b[39;49m\u001b[43margs\u001b[49m\u001b[43m,\u001b[49m\u001b[43m \u001b[49m\u001b[38;5;241;43m*\u001b[39;49m\u001b[38;5;241;43m*\u001b[39;49m\u001b[43mkwds\u001b[49m\u001b[43m)\u001b[49m\n\u001b[1;32m    147\u001b[0m \u001b[38;5;28;01mexcept\u001b[39;00m \u001b[38;5;167;01mAttributeError\u001b[39;00m:\n\u001b[1;32m    148\u001b[0m     \u001b[38;5;28;01mpass\u001b[39;00m\n",
      "File \u001b[0;32m~/sage/sage-9.8/src/sage/symbolic/expression.pyx:4652\u001b[0m, in \u001b[0;36msage.symbolic.expression.Expression.derivative\u001b[0;34m()\u001b[0m\n\u001b[1;32m   4650\u001b[0m         ValueError: No differentiation variable specified.\n\u001b[1;32m   4651\u001b[0m     \"\"\"\n\u001b[0;32m-> 4652\u001b[0m     return multi_derivative(self, args)\n\u001b[1;32m   4653\u001b[0m \n\u001b[1;32m   4654\u001b[0m diff = differentiate = derivative\n",
      "File \u001b[0;32m~/sage/sage-9.8/src/sage/misc/derivative.pyx:222\u001b[0m, in \u001b[0;36msage.misc.derivative.multi_derivative\u001b[0;34m()\u001b[0m\n\u001b[1;32m    220\u001b[0m \n\u001b[1;32m    221\u001b[0m     for arg in derivative_parse(args):\n\u001b[0;32m--> 222\u001b[0m         F = F._derivative(arg)\n\u001b[1;32m    223\u001b[0m     return F\n",
      "File \u001b[0;32m~/sage/sage-9.8/src/sage/symbolic/expression.pyx:4720\u001b[0m, in \u001b[0;36msage.symbolic.expression.Expression._derivative\u001b[0;34m()\u001b[0m\n\u001b[1;32m   4718\u001b[0m cdef Expression symbol = self.coerce_in(symb)\n\u001b[1;32m   4719\u001b[0m if not is_a_symbol(symbol._gobj):\n\u001b[0;32m-> 4720\u001b[0m     raise TypeError(\"argument symb must be a symbol\")\n\u001b[1;32m   4721\u001b[0m cdef GEx x\n\u001b[1;32m   4722\u001b[0m sig_on()\n",
      "\u001b[0;31mTypeError\u001b[0m: argument symb must be a symbol"
     ]
    }
   ],
   "source": [
    "diff(xi(y(x), x), y(x),x)\n",
    "inf1 = [_.subs({diff(xi(y(x), x), y(x),x) : diff(X, x)}) for _ in inf]"
   ]
  },
  {
   "cell_type": "code",
   "execution_count": 58,
   "id": "b18e2ecb-6c6a-4b5e-9ce8-238019514d90",
   "metadata": {},
   "outputs": [
    {
     "name": "stdout",
     "output_type": "stream",
     "text": [
      "-105*x^22*D[0](xi)(y(x), x)\n",
      "-105*x^22*D[0, 0](xi)(y(x), x)\n",
      "14*x^22*D[0, 0](phi)(y(x), x) - 196*x^22*D[0, 1](xi)(y(x), x)\n",
      "14*x^22*D[0, 1](phi)(y(x), x) - 91*x^22*D[1, 1](xi)(y(x), x)\n",
      "-455*x^22*D[0](xi)(y(x), x)\n",
      "-1365*x^22*D[0, 0](xi)(y(x), x)\n",
      "91*x^22*D[0, 0](phi)(y(x), x) - 1274*x^22*D[0, 1](xi)(y(x), x)\n",
      "-455*x^22*D[0, 0, 0](xi)(y(x), x)\n",
      "91*x^22*D[0, 0, 0](phi)(y(x), x) - 1274*x^22*D[0, 0, 1](xi)(y(x), x)\n",
      "182*x^22*D[0, 0, 1](phi)(y(x), x) - 1183*x^22*D[0, 1, 1](xi)(y(x), x)\n",
      "91*x^22*D[0, 1, 1](phi)(y(x), x) - 364*x^22*D[1, 1, 1](xi)(y(x), x)\n",
      "-1365*x^22*D[0](xi)(y(x), x)\n",
      "-5460*x^22*D[0, 0](xi)(y(x), x)\n",
      "364*x^22*D[0, 0](phi)(y(x), x) - 5096*x^22*D[0, 1](xi)(y(x), x)\n",
      "-4095*x^22*D[0, 0](xi)(y(x), x)\n",
      "-8190*x^22*D[0, 0, 0](xi)(y(x), x)\n",
      "1092*x^22*D[0, 0, 0](phi)(y(x), x) - 15288*x^22*D[0, 0, 1](xi)(y(x), x)\n",
      "1092*x^22*D[0, 0, 1](phi)(y(x), x) - 7098*x^22*D[0, 1, 1](xi)(y(x), x)\n",
      "-1365*x^22*D[0, 0, 0, 0](xi)(y(x), x)\n",
      "364*x^22*D[0, 0, 0, 0](phi)(y(x), x) - 5096*x^22*D[0, 0, 0, 1](xi)(y(x), x)\n",
      "1092*x^22*D[0, 0, 0, 1](phi)(y(x), x) - 7098*x^22*D[0, 0, 1, 1](xi)(y(x), x)\n",
      "1092*x^22*D[0, 0, 1, 1](phi)(y(x), x) - 4368*x^22*D[0, 1, 1, 1](xi)(y(x), x)\n",
      "364*x^22*D[0, 1, 1, 1](phi)(y(x), x) - 1001*x^22*D[1, 1, 1, 1](xi)(y(x), x)\n",
      "-3003*x^22*D[0](xi)(y(x), x)\n",
      "-15015*x^22*D[0, 0](xi)(y(x), x)\n",
      "1001*x^22*D[0, 0](phi)(y(x), x) - 14014*x^22*D[0, 1](xi)(y(x), x)\n",
      "-30030*x^22*D[0, 0](xi)(y(x), x)\n",
      "-30030*x^22*D[0, 0, 0](xi)(y(x), x)\n",
      "4004*x^22*D[0, 0, 0](phi)(y(x), x) - 56056*x^22*D[0, 0, 1](xi)(y(x), x)\n",
      "4004*x^22*D[0, 0, 1](phi)(y(x), x) - 26026*x^22*D[0, 1, 1](xi)(y(x), x)\n",
      "-45045*x^22*D[0, 0, 0](xi)(y(x), x)\n",
      "3003*x^22*D[0, 0, 0](phi)(y(x), x) - 42042*x^22*D[0, 0, 1](xi)(y(x), x)\n",
      "-30030*x^22*D[0, 0, 0, 0](xi)(y(x), x)\n",
      "6006*x^22*D[0, 0, 0, 0](phi)(y(x), x) - 84084*x^22*D[0, 0, 0, 1](xi)(y(x), x)\n",
      "12012*x^22*D[0, 0, 0, 1](phi)(y(x), x) - 78078*x^22*D[0, 0, 1, 1](xi)(y(x), x)\n",
      "6006*x^22*D[0, 0, 1, 1](phi)(y(x), x) - 24024*x^22*D[0, 1, 1, 1](xi)(y(x), x)\n",
      "-3003*x^22*D[0, 0, 0, 0, 0](xi)(y(x), x)\n",
      "1001*x^22*D[0, 0, 0, 0, 0](phi)(y(x), x) - 14014*x^22*D[0, 0, 0, 0, 1](xi)(y(x), x)\n",
      "4004*x^22*D[0, 0, 0, 0, 1](phi)(y(x), x) - 26026*x^22*D[0, 0, 0, 1, 1](xi)(y(x), x)\n",
      "6006*x^22*D[0, 0, 0, 1, 1](phi)(y(x), x) - 24024*x^22*D[0, 0, 1, 1, 1](xi)(y(x), x)\n",
      "4004*x^22*D[0, 0, 1, 1, 1](phi)(y(x), x) - 11011*x^22*D[0, 1, 1, 1, 1](xi)(y(x), x)\n",
      "1001*x^22*D[0, 1, 1, 1, 1](phi)(y(x), x) - 2002*x^22*D[1, 1, 1, 1, 1](xi)(y(x), x)\n",
      "-5005*x^22*D[0](xi)(y(x), x)\n",
      "-30030*x^22*D[0, 0](xi)(y(x), x)\n",
      "2002*x^22*D[0, 0](phi)(y(x), x) - 28028*x^22*D[0, 1](xi)(y(x), x)\n",
      "-75075*x^22*D[0, 0](xi)(y(x), x)\n",
      "-75075*x^22*D[0, 0, 0](xi)(y(x), x)\n",
      "10010*x^22*D[0, 0, 0](phi)(y(x), x) - 140140*x^22*D[0, 0, 1](xi)(y(x), x)\n",
      "10010*x^22*D[0, 0, 1](phi)(y(x), x) - 65065*x^22*D[0, 1, 1](xi)(y(x), x)\n",
      "-50050*x^22*D[0, 0](xi)(y(x), x)\n",
      "-300300*x^22*D[0, 0, 0](xi)(y(x), x)\n",
      "20020*x^22*D[0, 0, 0](phi)(y(x), x) - 280280*x^22*D[0, 0, 1](xi)(y(x), x)\n",
      "-100100*x^22*D[0, 0, 0, 0](xi)(y(x), x)\n",
      "20020*x^22*D[0, 0, 0, 0](phi)(y(x), x) - 280280*x^22*D[0, 0, 0, 1](xi)(y(x), x)\n",
      "40040*x^22*D[0, 0, 0, 1](phi)(y(x), x) - 260260*x^22*D[0, 0, 1, 1](xi)(y(x), x)\n",
      "20020*x^22*D[0, 0, 1, 1](phi)(y(x), x) - 80080*x^22*D[0, 1, 1, 1](xi)(y(x), x)\n",
      "-75075*x^22*D[0, 0, 0](xi)(y(x), x)\n",
      "-225225*x^22*D[0, 0, 0, 0](xi)(y(x), x)\n",
      "30030*x^22*D[0, 0, 0, 0](phi)(y(x), x) - 420420*x^22*D[0, 0, 0, 1](xi)(y(x), x)\n",
      "30030*x^22*D[0, 0, 0, 1](phi)(y(x), x) - 195195*x^22*D[0, 0, 1, 1](xi)(y(x), x)\n",
      "-75075*x^22*D[0, 0, 0, 0, 0](xi)(y(x), x)\n",
      "20020*x^22*D[0, 0, 0, 0, 0](phi)(y(x), x) - 280280*x^22*D[0, 0, 0, 0, 1](xi)(y(x), x)\n",
      "60060*x^22*D[0, 0, 0, 0, 1](phi)(y(x), x) - 390390*x^22*D[0, 0, 0, 1, 1](xi)(y(x), x)\n",
      "60060*x^22*D[0, 0, 0, 1, 1](phi)(y(x), x) - 240240*x^22*D[0, 0, 1, 1, 1](xi)(y(x), x)\n",
      "20020*x^22*D[0, 0, 1, 1, 1](phi)(y(x), x) - 55055*x^22*D[0, 1, 1, 1, 1](xi)(y(x), x)\n",
      "-5005*x^22*D[0, 0, 0, 0, 0, 0](xi)(y(x), x)\n",
      "2002*x^22*D[0, 0, 0, 0, 0, 0](phi)(y(x), x) - 28028*x^22*D[0, 0, 0, 0, 0, 1](xi)(y(x), x)\n",
      "10010*x^22*D[0, 0, 0, 0, 0, 1](phi)(y(x), x) - 65065*x^22*D[0, 0, 0, 0, 1, 1](xi)(y(x), x)\n",
      "20020*x^22*D[0, 0, 0, 0, 1, 1](phi)(y(x), x) - 80080*x^22*D[0, 0, 0, 1, 1, 1](xi)(y(x), x)\n",
      "20020*x^22*D[0, 0, 0, 1, 1, 1](phi)(y(x), x) - 55055*x^22*D[0, 0, 1, 1, 1, 1](xi)(y(x), x)\n",
      "10010*x^22*D[0, 0, 1, 1, 1, 1](phi)(y(x), x) - 20020*x^22*D[0, 1, 1, 1, 1, 1](xi)(y(x), x)\n",
      "2002*x^22*D[0, 1, 1, 1, 1, 1](phi)(y(x), x) - 3003*x^22*D[1, 1, 1, 1, 1, 1](xi)(y(x), x)\n",
      "-6435*x^22*D[0](xi)(y(x), x)\n",
      "-45045*x^22*D[0, 0](xi)(y(x), x)\n",
      "3003*x^22*D[0, 0](phi)(y(x), x) - 42042*x^22*D[0, 1](xi)(y(x), x)\n",
      "-135135*x^22*D[0, 0](xi)(y(x), x)\n",
      "-135135*x^22*D[0, 0, 0](xi)(y(x), x)\n",
      "18018*x^22*D[0, 0, 0](phi)(y(x), x) - 252252*x^22*D[0, 0, 1](xi)(y(x), x)\n",
      "18018*x^22*D[0, 0, 1](phi)(y(x), x) - 117117*x^22*D[0, 1, 1](xi)(y(x), x)\n",
      "-225225*x^22*D[0, 0](xi)(y(x), x)\n",
      "-675675*x^22*D[0, 0, 0](xi)(y(x), x)\n",
      "45045*x^22*D[0, 0, 0](phi)(y(x), x) - 630630*x^22*D[0, 0, 1](xi)(y(x), x)\n",
      "-225225*x^22*D[0, 0, 0, 0](xi)(y(x), x)\n",
      "45045*x^22*D[0, 0, 0, 0](phi)(y(x), x) - 630630*x^22*D[0, 0, 0, 1](xi)(y(x), x)\n",
      "90090*x^22*D[0, 0, 0, 1](phi)(y(x), x) - 585585*x^22*D[0, 0, 1, 1](xi)(y(x), x)\n",
      "45045*x^22*D[0, 0, 1, 1](phi)(y(x), x) - 180180*x^22*D[0, 1, 1, 1](xi)(y(x), x)\n",
      "-450450*x^22*D[0, 0, 0](xi)(y(x), x)\n",
      "30030*x^22*D[0, 0, 0](phi)(y(x), x) - 420420*x^22*D[0, 0, 1](xi)(y(x), x)\n",
      "-675675*x^22*D[0, 0, 0](xi)(y(x), x)\n",
      "-1351350*x^22*D[0, 0, 0, 0](xi)(y(x), x)\n",
      "180180*x^22*D[0, 0, 0, 0](phi)(y(x), x) - 2522520*x^22*D[0, 0, 0, 1](xi)(y(x), x)\n",
      "180180*x^22*D[0, 0, 0, 1](phi)(y(x), x) - 1171170*x^22*D[0, 0, 1, 1](xi)(y(x), x)\n",
      "-225225*x^22*D[0, 0, 0, 0, 0](xi)(y(x), x)\n",
      "60060*x^22*D[0, 0, 0, 0, 0](phi)(y(x), x) - 840840*x^22*D[0, 0, 0, 0, 1](xi)(y(x), x)\n",
      "180180*x^22*D[0, 0, 0, 0, 1](phi)(y(x), x) - 1171170*x^22*D[0, 0, 0, 1, 1](xi)(y(x), x)\n",
      "180180*x^22*D[0, 0, 0, 1, 1](phi)(y(x), x) - 720720*x^22*D[0, 0, 1, 1, 1](xi)(y(x), x)\n",
      "60060*x^22*D[0, 0, 1, 1, 1](phi)(y(x), x) - 165165*x^22*D[0, 1, 1, 1, 1](xi)(y(x), x)\n",
      "-675675*x^22*D[0, 0, 0, 0](xi)(y(x), x)\n",
      "45045*x^22*D[0, 0, 0, 0](phi)(y(x), x) - 630630*x^22*D[0, 0, 0, 1](xi)(y(x), x)\n",
      "-675675*x^22*D[0, 0, 0, 0, 0](xi)(y(x), x)\n",
      "135135*x^22*D[0, 0, 0, 0, 0](phi)(y(x), x) - 1891890*x^22*D[0, 0, 0, 0, 1](xi)(y(x), x)\n",
      "270270*x^22*D[0, 0, 0, 0, 1](phi)(y(x), x) - 1756755*x^22*D[0, 0, 0, 1, 1](xi)(y(x), x)\n",
      "135135*x^22*D[0, 0, 0, 1, 1](phi)(y(x), x) - 540540*x^22*D[0, 0, 1, 1, 1](xi)(y(x), x)\n",
      "-135135*x^22*D[0, 0, 0, 0, 0, 0](xi)(y(x), x)\n",
      "45045*x^22*D[0, 0, 0, 0, 0, 0](phi)(y(x), x) - 630630*x^22*D[0, 0, 0, 0, 0, 1](xi)(y(x), x)\n",
      "180180*x^22*D[0, 0, 0, 0, 0, 1](phi)(y(x), x) - 1171170*x^22*D[0, 0, 0, 0, 1, 1](xi)(y(x), x)\n",
      "270270*x^22*D[0, 0, 0, 0, 1, 1](phi)(y(x), x) - 1081080*x^22*D[0, 0, 0, 1, 1, 1](xi)(y(x), x)\n",
      "180180*x^22*D[0, 0, 0, 1, 1, 1](phi)(y(x), x) - 495495*x^22*D[0, 0, 1, 1, 1, 1](xi)(y(x), x)\n",
      "45045*x^22*D[0, 0, 1, 1, 1, 1](phi)(y(x), x) - 90090*x^22*D[0, 1, 1, 1, 1, 1](xi)(y(x), x)\n",
      "-6435*x^22*D[0, 0, 0, 0, 0, 0, 0](xi)(y(x), x)\n",
      "3003*x^22*D[0, 0, 0, 0, 0, 0, 0](phi)(y(x), x) - 42042*x^22*D[0, 0, 0, 0, 0, 0, 1](xi)(y(x), x)\n",
      "18018*x^22*D[0, 0, 0, 0, 0, 0, 1](phi)(y(x), x) - 117117*x^22*D[0, 0, 0, 0, 0, 1, 1](xi)(y(x), x)\n",
      "45045*x^22*D[0, 0, 0, 0, 0, 1, 1](phi)(y(x), x) - 180180*x^22*D[0, 0, 0, 0, 1, 1, 1](xi)(y(x), x)\n",
      "60060*x^22*D[0, 0, 0, 0, 1, 1, 1](phi)(y(x), x) - 165165*x^22*D[0, 0, 0, 1, 1, 1, 1](xi)(y(x), x)\n",
      "45045*x^22*D[0, 0, 0, 1, 1, 1, 1](phi)(y(x), x) - 90090*x^22*D[0, 0, 1, 1, 1, 1, 1](xi)(y(x), x)\n",
      "18018*x^22*D[0, 0, 1, 1, 1, 1, 1](phi)(y(x), x) - 27027*x^22*D[0, 1, 1, 1, 1, 1, 1](xi)(y(x), x)\n",
      "3003*x^22*D[0, 1, 1, 1, 1, 1, 1](phi)(y(x), x) - 3432*x^22*D[1, 1, 1, 1, 1, 1, 1](xi)(y(x), x)\n",
      "-25740*x^22*D[0, 0](xi)(y(x), x)\n",
      "1716*x^22*D[0, 0](phi)(y(x), x) - 24024*x^22*D[0, 1](xi)(y(x), x)\n",
      "-180180*x^22*D[0, 0](xi)(y(x), x)\n",
      "-180180*x^22*D[0, 0, 0](xi)(y(x), x)\n",
      "24024*x^22*D[0, 0, 0](phi)(y(x), x) - 336336*x^22*D[0, 0, 1](xi)(y(x), x)\n",
      "24024*x^22*D[0, 0, 1](phi)(y(x), x) - 156156*x^22*D[0, 1, 1](xi)(y(x), x)\n",
      "-360360*x^22*D[0, 0](xi)(y(x), x)\n",
      "-1081080*x^22*D[0, 0, 0](xi)(y(x), x)\n",
      "72072*x^22*D[0, 0, 0](phi)(y(x), x) - 1009008*x^22*D[0, 0, 1](xi)(y(x), x)\n",
      "-360360*x^22*D[0, 0, 0, 0](xi)(y(x), x)\n",
      "72072*x^22*D[0, 0, 0, 0](phi)(y(x), x) - 1009008*x^22*D[0, 0, 0, 1](xi)(y(x), x)\n",
      "144144*x^22*D[0, 0, 0, 1](phi)(y(x), x) - 936936*x^22*D[0, 0, 1, 1](xi)(y(x), x)\n",
      "72072*x^22*D[0, 0, 1, 1](phi)(y(x), x) - 288288*x^22*D[0, 1, 1, 1](xi)(y(x), x)\n",
      "-225225*x^22*D[0, 0](xi)(y(x), x)\n",
      "-1801800*x^22*D[0, 0, 0](xi)(y(x), x)\n",
      "120120*x^22*D[0, 0, 0](phi)(y(x), x) - 1681680*x^22*D[0, 0, 1](xi)(y(x), x)\n",
      "-1351350*x^22*D[0, 0, 0](xi)(y(x), x)\n",
      "-2702700*x^22*D[0, 0, 0, 0](xi)(y(x), x)\n",
      "360360*x^22*D[0, 0, 0, 0](phi)(y(x), x) - 5045040*x^22*D[0, 0, 0, 1](xi)(y(x), x)\n",
      "360360*x^22*D[0, 0, 0, 1](phi)(y(x), x) - 2342340*x^22*D[0, 0, 1, 1](xi)(y(x), x)\n",
      "-450450*x^22*D[0, 0, 0, 0, 0](xi)(y(x), x)\n",
      "120120*x^22*D[0, 0, 0, 0, 0](phi)(y(x), x) - 1681680*x^22*D[0, 0, 0, 0, 1](xi)(y(x), x)\n",
      "360360*x^22*D[0, 0, 0, 0, 1](phi)(y(x), x) - 2342340*x^22*D[0, 0, 0, 1, 1](xi)(y(x), x)\n",
      "360360*x^22*D[0, 0, 0, 1, 1](phi)(y(x), x) - 1441440*x^22*D[0, 0, 1, 1, 1](xi)(y(x), x)\n",
      "120120*x^22*D[0, 0, 1, 1, 1](phi)(y(x), x) - 330330*x^22*D[0, 1, 1, 1, 1](xi)(y(x), x)\n",
      "-1801800*x^22*D[0, 0, 0](xi)(y(x), x)\n",
      "-1801800*x^22*D[0, 0, 0, 0](xi)(y(x), x)\n",
      "240240*x^22*D[0, 0, 0, 0](phi)(y(x), x) - 3363360*x^22*D[0, 0, 0, 1](xi)(y(x), x)\n",
      "240240*x^22*D[0, 0, 0, 1](phi)(y(x), x) - 1561560*x^22*D[0, 0, 1, 1](xi)(y(x), x)\n",
      "-5405400*x^22*D[0, 0, 0, 0](xi)(y(x), x)\n",
      "360360*x^22*D[0, 0, 0, 0](phi)(y(x), x) - 5045040*x^22*D[0, 0, 0, 1](xi)(y(x), x)\n",
      "-3603600*x^22*D[0, 0, 0, 0, 0](xi)(y(x), x)\n",
      "720720*x^22*D[0, 0, 0, 0, 0](phi)(y(x), x) - 10090080*x^22*D[0, 0, 0, 0, 1](xi)(y(x), x)\n",
      "1441440*x^22*D[0, 0, 0, 0, 1](phi)(y(x), x) - 9369360*x^22*D[0, 0, 0, 1, 1](xi)(y(x), x)\n",
      "720720*x^22*D[0, 0, 0, 1, 1](phi)(y(x), x) - 2882880*x^22*D[0, 0, 1, 1, 1](xi)(y(x), x)\n",
      "-360360*x^22*D[0, 0, 0, 0, 0, 0](xi)(y(x), x)\n",
      "120120*x^22*D[0, 0, 0, 0, 0, 0](phi)(y(x), x) - 1681680*x^22*D[0, 0, 0, 0, 0, 1](xi)(y(x), x)\n",
      "480480*x^22*D[0, 0, 0, 0, 0, 1](phi)(y(x), x) - 3123120*x^22*D[0, 0, 0, 0, 1, 1](xi)(y(x), x)\n",
      "720720*x^22*D[0, 0, 0, 0, 1, 1](phi)(y(x), x) - 2882880*x^22*D[0, 0, 0, 1, 1, 1](xi)(y(x), x)\n",
      "480480*x^22*D[0, 0, 0, 1, 1, 1](phi)(y(x), x) - 1321320*x^22*D[0, 0, 1, 1, 1, 1](xi)(y(x), x)\n",
      "120120*x^22*D[0, 0, 1, 1, 1, 1](phi)(y(x), x) - 240240*x^22*D[0, 1, 1, 1, 1, 1](xi)(y(x), x)\n",
      "-675675*x^22*D[0, 0, 0, 0](xi)(y(x), x)\n",
      "-2702700*x^22*D[0, 0, 0, 0, 0](xi)(y(x), x)\n",
      "360360*x^22*D[0, 0, 0, 0, 0](phi)(y(x), x) - 5045040*x^22*D[0, 0, 0, 0, 1](xi)(y(x), x)\n",
      "360360*x^22*D[0, 0, 0, 0, 1](phi)(y(x), x) - 2342340*x^22*D[0, 0, 0, 1, 1](xi)(y(x), x)\n",
      "-1351350*x^22*D[0, 0, 0, 0, 0, 0](xi)(y(x), x)\n",
      "360360*x^22*D[0, 0, 0, 0, 0, 0](phi)(y(x), x) - 5045040*x^22*D[0, 0, 0, 0, 0, 1](xi)(y(x), x)\n",
      "1081080*x^22*D[0, 0, 0, 0, 0, 1](phi)(y(x), x) - 7027020*x^22*D[0, 0, 0, 0, 1, 1](xi)(y(x), x)\n",
      "1081080*x^22*D[0, 0, 0, 0, 1, 1](phi)(y(x), x) - 4324320*x^22*D[0, 0, 0, 1, 1, 1](xi)(y(x), x)\n",
      "360360*x^22*D[0, 0, 0, 1, 1, 1](phi)(y(x), x) - 990990*x^22*D[0, 0, 1, 1, 1, 1](xi)(y(x), x)\n",
      "-180180*x^22*D[0, 0, 0, 0, 0, 0, 0](xi)(y(x), x)\n",
      "72072*x^22*D[0, 0, 0, 0, 0, 0, 0](phi)(y(x), x) - 1009008*x^22*D[0, 0, 0, 0, 0, 0, 1](xi)(y(x), x)\n",
      "360360*x^22*D[0, 0, 0, 0, 0, 0, 1](phi)(y(x), x) - 2342340*x^22*D[0, 0, 0, 0, 0, 1, 1](xi)(y(x), x)\n",
      "720720*x^22*D[0, 0, 0, 0, 0, 1, 1](phi)(y(x), x) - 2882880*x^22*D[0, 0, 0, 0, 1, 1, 1](xi)(y(x), x)\n",
      "720720*x^22*D[0, 0, 0, 0, 1, 1, 1](phi)(y(x), x) - 1981980*x^22*D[0, 0, 0, 1, 1, 1, 1](xi)(y(x), x)\n",
      "360360*x^22*D[0, 0, 0, 1, 1, 1, 1](phi)(y(x), x) - 720720*x^22*D[0, 0, 1, 1, 1, 1, 1](xi)(y(x), x)\n",
      "72072*x^22*D[0, 0, 1, 1, 1, 1, 1](phi)(y(x), x) - 108108*x^22*D[0, 1, 1, 1, 1, 1, 1](xi)(y(x), x)\n",
      "-6435*x^22*D[0, 0, 0, 0, 0, 0, 0, 0](xi)(y(x), x)\n",
      "3432*x^22*D[0, 0, 0, 0, 0, 0, 0, 0](phi)(y(x), x) - 48048*x^22*D[0, 0, 0, 0, 0, 0, 0, 1](xi)(y(x), x)\n",
      "24024*x^22*D[0, 0, 0, 0, 0, 0, 0, 1](phi)(y(x), x) - 156156*x^22*D[0, 0, 0, 0, 0, 0, 1, 1](xi)(y(x), x)\n",
      "72072*x^22*D[0, 0, 0, 0, 0, 0, 1, 1](phi)(y(x), x) - 288288*x^22*D[0, 0, 0, 0, 0, 1, 1, 1](xi)(y(x), x)\n",
      "120120*x^22*D[0, 0, 0, 0, 0, 1, 1, 1](phi)(y(x), x) - 330330*x^22*D[0, 0, 0, 0, 1, 1, 1, 1](xi)(y(x), x)\n",
      "120120*x^22*D[0, 0, 0, 0, 1, 1, 1, 1](phi)(y(x), x) - 240240*x^22*D[0, 0, 0, 1, 1, 1, 1, 1](xi)(y(x), x)\n",
      "72072*x^22*D[0, 0, 0, 1, 1, 1, 1, 1](phi)(y(x), x) - 108108*x^22*D[0, 0, 1, 1, 1, 1, 1, 1](xi)(y(x), x)\n",
      "24024*x^22*D[0, 0, 1, 1, 1, 1, 1, 1](phi)(y(x), x) - 27456*x^22*D[0, 1, 1, 1, 1, 1, 1, 1](xi)(y(x), x)\n",
      "3432*x^22*D[0, 1, 1, 1, 1, 1, 1, 1](phi)(y(x), x) - 3003*x^22*D[1, 1, 1, 1, 1, 1, 1, 1](xi)(y(x), x)\n",
      "-210210*x^22*D[0, 0](xi)(y(x), x)\n",
      "-630630*x^22*D[0, 0, 0](xi)(y(x), x)\n",
      "42042*x^22*D[0, 0, 0](phi)(y(x), x) - 588588*x^22*D[0, 0, 1](xi)(y(x), x)\n",
      "-210210*x^22*D[0, 0, 0, 0](xi)(y(x), x)\n",
      "42042*x^22*D[0, 0, 0, 0](phi)(y(x), x) - 588588*x^22*D[0, 0, 0, 1](xi)(y(x), x)\n",
      "84084*x^22*D[0, 0, 0, 1](phi)(y(x), x) - 546546*x^22*D[0, 0, 1, 1](xi)(y(x), x)\n",
      "42042*x^22*D[0, 0, 1, 1](phi)(y(x), x) - 168168*x^22*D[0, 1, 1, 1](xi)(y(x), x)\n",
      "-630630*x^22*D[0, 0](xi)(y(x), x)\n",
      "-2522520*x^22*D[0, 0, 0](xi)(y(x), x)\n",
      "168168*x^22*D[0, 0, 0](phi)(y(x), x) - 2354352*x^22*D[0, 0, 1](xi)(y(x), x)\n",
      "-1891890*x^22*D[0, 0, 0](xi)(y(x), x)\n",
      "-3783780*x^22*D[0, 0, 0, 0](xi)(y(x), x)\n",
      "504504*x^22*D[0, 0, 0, 0](phi)(y(x), x) - 7063056*x^22*D[0, 0, 0, 1](xi)(y(x), x)\n",
      "504504*x^22*D[0, 0, 0, 1](phi)(y(x), x) - 3279276*x^22*D[0, 0, 1, 1](xi)(y(x), x)\n",
      "-630630*x^22*D[0, 0, 0, 0, 0](xi)(y(x), x)\n",
      "168168*x^22*D[0, 0, 0, 0, 0](phi)(y(x), x) - 2354352*x^22*D[0, 0, 0, 0, 1](xi)(y(x), x)\n",
      "504504*x^22*D[0, 0, 0, 0, 1](phi)(y(x), x) - 3279276*x^22*D[0, 0, 0, 1, 1](xi)(y(x), x)\n",
      "504504*x^22*D[0, 0, 0, 1, 1](phi)(y(x), x) - 2018016*x^22*D[0, 0, 1, 1, 1](xi)(y(x), x)\n",
      "168168*x^22*D[0, 0, 1, 1, 1](phi)(y(x), x) - 462462*x^22*D[0, 1, 1, 1, 1](xi)(y(x), x)\n",
      "-1576575*x^22*D[0, 0, 0](xi)(y(x), x)\n",
      "105105*x^22*D[0, 0, 0](phi)(y(x), x) - 1471470*x^22*D[0, 0, 1](xi)(y(x), x)\n",
      "-6306300*x^22*D[0, 0, 0](xi)(y(x), x)\n",
      "-6306300*x^22*D[0, 0, 0, 0](xi)(y(x), x)\n",
      "840840*x^22*D[0, 0, 0, 0](phi)(y(x), x) - 11771760*x^22*D[0, 0, 0, 1](xi)(y(x), x)\n",
      "840840*x^22*D[0, 0, 0, 1](phi)(y(x), x) - 5465460*x^22*D[0, 0, 1, 1](xi)(y(x), x)\n",
      "-9459450*x^22*D[0, 0, 0, 0](xi)(y(x), x)\n",
      "630630*x^22*D[0, 0, 0, 0](phi)(y(x), x) - 8828820*x^22*D[0, 0, 0, 1](xi)(y(x), x)\n",
      "-6306300*x^22*D[0, 0, 0, 0, 0](xi)(y(x), x)\n",
      "1261260*x^22*D[0, 0, 0, 0, 0](phi)(y(x), x) - 17657640*x^22*D[0, 0, 0, 0, 1](xi)(y(x), x)\n",
      "2522520*x^22*D[0, 0, 0, 0, 1](phi)(y(x), x) - 16396380*x^22*D[0, 0, 0, 1, 1](xi)(y(x), x)\n",
      "1261260*x^22*D[0, 0, 0, 1, 1](phi)(y(x), x) - 5045040*x^22*D[0, 0, 1, 1, 1](xi)(y(x), x)\n",
      "-630630*x^22*D[0, 0, 0, 0, 0, 0](xi)(y(x), x)\n",
      "210210*x^22*D[0, 0, 0, 0, 0, 0](phi)(y(x), x) - 2942940*x^22*D[0, 0, 0, 0, 0, 1](xi)(y(x), x)\n",
      "840840*x^22*D[0, 0, 0, 0, 0, 1](phi)(y(x), x) - 5465460*x^22*D[0, 0, 0, 0, 1, 1](xi)(y(x), x)\n",
      "1261260*x^22*D[0, 0, 0, 0, 1, 1](phi)(y(x), x) - 5045040*x^22*D[0, 0, 0, 1, 1, 1](xi)(y(x), x)\n",
      "840840*x^22*D[0, 0, 0, 1, 1, 1](phi)(y(x), x) - 2312310*x^22*D[0, 0, 1, 1, 1, 1](xi)(y(x), x)\n",
      "210210*x^22*D[0, 0, 1, 1, 1, 1](phi)(y(x), x) - 420420*x^22*D[0, 1, 1, 1, 1, 1](xi)(y(x), x)\n",
      "-1401400*x^22*D[0, 0, 0](xi)(y(x), x)\n",
      "-12612600*x^22*D[0, 0, 0, 0](xi)(y(x), x)\n",
      "840840*x^22*D[0, 0, 0, 0](phi)(y(x), x) - 11771760*x^22*D[0, 0, 0, 1](xi)(y(x), x)\n",
      "-4204200*x^22*D[0, 0, 0, 0, 0](xi)(y(x), x)\n",
      "840840*x^22*D[0, 0, 0, 0, 0](phi)(y(x), x) - 11771760*x^22*D[0, 0, 0, 0, 1](xi)(y(x), x)\n",
      "1681680*x^22*D[0, 0, 0, 0, 1](phi)(y(x), x) - 10930920*x^22*D[0, 0, 0, 1, 1](xi)(y(x), x)\n",
      "840840*x^22*D[0, 0, 0, 1, 1](phi)(y(x), x) - 3363360*x^22*D[0, 0, 1, 1, 1](xi)(y(x), x)\n",
      "-6306300*x^22*D[0, 0, 0, 0](xi)(y(x), x)\n",
      "-18918900*x^22*D[0, 0, 0, 0, 0](xi)(y(x), x)\n",
      "2522520*x^22*D[0, 0, 0, 0, 0](phi)(y(x), x) - 35315280*x^22*D[0, 0, 0, 0, 1](xi)(y(x), x)\n",
      "2522520*x^22*D[0, 0, 0, 0, 1](phi)(y(x), x) - 16396380*x^22*D[0, 0, 0, 1, 1](xi)(y(x), x)\n",
      "-6306300*x^22*D[0, 0, 0, 0, 0, 0](xi)(y(x), x)\n",
      "1681680*x^22*D[0, 0, 0, 0, 0, 0](phi)(y(x), x) - 23543520*x^22*D[0, 0, 0, 0, 0, 1](xi)(y(x), x)\n",
      "5045040*x^22*D[0, 0, 0, 0, 0, 1](phi)(y(x), x) - 32792760*x^22*D[0, 0, 0, 0, 1, 1](xi)(y(x), x)\n",
      "5045040*x^22*D[0, 0, 0, 0, 1, 1](phi)(y(x), x) - 20180160*x^22*D[0, 0, 0, 1, 1, 1](xi)(y(x), x)\n",
      "1681680*x^22*D[0, 0, 0, 1, 1, 1](phi)(y(x), x) - 4624620*x^22*D[0, 0, 1, 1, 1, 1](xi)(y(x), x)\n",
      "-420420*x^22*D[0, 0, 0, 0, 0, 0, 0](xi)(y(x), x)\n",
      "168168*x^22*D[0, 0, 0, 0, 0, 0, 0](phi)(y(x), x) - 2354352*x^22*D[0, 0, 0, 0, 0, 0, 1](xi)(y(x), x)\n",
      "840840*x^22*D[0, 0, 0, 0, 0, 0, 1](phi)(y(x), x) - 5465460*x^22*D[0, 0, 0, 0, 0, 1, 1](xi)(y(x), x)\n",
      "1681680*x^22*D[0, 0, 0, 0, 0, 1, 1](phi)(y(x), x) - 6726720*x^22*D[0, 0, 0, 0, 1, 1, 1](xi)(y(x), x)\n",
      "1681680*x^22*D[0, 0, 0, 0, 1, 1, 1](phi)(y(x), x) - 4624620*x^22*D[0, 0, 0, 1, 1, 1, 1](xi)(y(x), x)\n",
      "840840*x^22*D[0, 0, 0, 1, 1, 1, 1](phi)(y(x), x) - 1681680*x^22*D[0, 0, 1, 1, 1, 1, 1](xi)(y(x), x)\n",
      "168168*x^22*D[0, 0, 1, 1, 1, 1, 1](phi)(y(x), x) - 252252*x^22*D[0, 1, 1, 1, 1, 1, 1](xi)(y(x), x)\n",
      "-4729725*x^22*D[0, 0, 0, 0, 0](xi)(y(x), x)\n",
      "315315*x^22*D[0, 0, 0, 0, 0](phi)(y(x), x) - 4414410*x^22*D[0, 0, 0, 0, 1](xi)(y(x), x)\n",
      "-6306300*x^22*D[0, 0, 0, 0, 0, 0](xi)(y(x), x)\n",
      "1261260*x^22*D[0, 0, 0, 0, 0, 0](phi)(y(x), x) - 17657640*x^22*D[0, 0, 0, 0, 0, 1](xi)(y(x), x)\n",
      "2522520*x^22*D[0, 0, 0, 0, 0, 1](phi)(y(x), x) - 16396380*x^22*D[0, 0, 0, 0, 1, 1](xi)(y(x), x)\n",
      "1261260*x^22*D[0, 0, 0, 0, 1, 1](phi)(y(x), x) - 5045040*x^22*D[0, 0, 0, 1, 1, 1](xi)(y(x), x)\n",
      "-1891890*x^22*D[0, 0, 0, 0, 0, 0, 0](xi)(y(x), x)\n",
      "630630*x^22*D[0, 0, 0, 0, 0, 0, 0](phi)(y(x), x) - 8828820*x^22*D[0, 0, 0, 0, 0, 0, 1](xi)(y(x), x)\n",
      "2522520*x^22*D[0, 0, 0, 0, 0, 0, 1](phi)(y(x), x) - 16396380*x^22*D[0, 0, 0, 0, 0, 1, 1](xi)(y(x), x)\n",
      "3783780*x^22*D[0, 0, 0, 0, 0, 1, 1](phi)(y(x), x) - 15135120*x^22*D[0, 0, 0, 0, 1, 1, 1](xi)(y(x), x)\n",
      "2522520*x^22*D[0, 0, 0, 0, 1, 1, 1](phi)(y(x), x) - 6936930*x^22*D[0, 0, 0, 1, 1, 1, 1](xi)(y(x), x)\n",
      "630630*x^22*D[0, 0, 0, 1, 1, 1, 1](phi)(y(x), x) - 1261260*x^22*D[0, 0, 1, 1, 1, 1, 1](xi)(y(x), x)\n",
      "-180180*x^22*D[0, 0, 0, 0, 0, 0, 0, 0](xi)(y(x), x)\n",
      "84084*x^22*D[0, 0, 0, 0, 0, 0, 0, 0](phi)(y(x), x) - 1177176*x^22*D[0, 0, 0, 0, 0, 0, 0, 1](xi)(y(x), x)\n",
      "504504*x^22*D[0, 0, 0, 0, 0, 0, 0, 1](phi)(y(x), x) - 3279276*x^22*D[0, 0, 0, 0, 0, 0, 1, 1](xi)(y(x), x)\n",
      "1261260*x^22*D[0, 0, 0, 0, 0, 0, 1, 1](phi)(y(x), x) - 5045040*x^22*D[0, 0, 0, 0, 0, 1, 1, 1](xi)(y(x), x)\n",
      "1681680*x^22*D[0, 0, 0, 0, 0, 1, 1, 1](phi)(y(x), x) - 4624620*x^22*D[0, 0, 0, 0, 1, 1, 1, 1](xi)(y(x), x)\n",
      "1261260*x^22*D[0, 0, 0, 0, 1, 1, 1, 1](phi)(y(x), x) - 2522520*x^22*D[0, 0, 0, 1, 1, 1, 1, 1](xi)(y(x), x)\n",
      "504504*x^22*D[0, 0, 0, 1, 1, 1, 1, 1](phi)(y(x), x) - 756756*x^22*D[0, 0, 1, 1, 1, 1, 1, 1](xi)(y(x), x)\n",
      "84084*x^22*D[0, 0, 1, 1, 1, 1, 1, 1](phi)(y(x), x) - 96096*x^22*D[0, 1, 1, 1, 1, 1, 1, 1](xi)(y(x), x)\n",
      "-5005*x^22*D[0, 0, 0, 0, 0, 0, 0, 0, 0](xi)(y(x), x)\n",
      "3003*x^22*D[0, 0, 0, 0, 0, 0, 0, 0, 0](phi)(y(x), x) - 42042*x^22*D[0, 0, 0, 0, 0, 0, 0, 0, 1](xi)(y(x), x)\n",
      "24024*x^22*D[0, 0, 0, 0, 0, 0, 0, 0, 1](phi)(y(x), x) - 156156*x^22*D[0, 0, 0, 0, 0, 0, 0, 1, 1](xi)(y(x), x)\n",
      "84084*x^22*D[0, 0, 0, 0, 0, 0, 0, 1, 1](phi)(y(x), x) - 336336*x^22*D[0, 0, 0, 0, 0, 0, 1, 1, 1](xi)(y(x), x)\n",
      "168168*x^22*D[0, 0, 0, 0, 0, 0, 1, 1, 1](phi)(y(x), x) - 462462*x^22*D[0, 0, 0, 0, 0, 1, 1, 1, 1](xi)(y(x), x)\n",
      "210210*x^22*D[0, 0, 0, 0, 0, 1, 1, 1, 1](phi)(y(x), x) - 420420*x^22*D[0, 0, 0, 0, 1, 1, 1, 1, 1](xi)(y(x), x)\n",
      "168168*x^22*D[0, 0, 0, 0, 1, 1, 1, 1, 1](phi)(y(x), x) - 252252*x^22*D[0, 0, 0, 1, 1, 1, 1, 1, 1](xi)(y(x), x)\n",
      "84084*x^22*D[0, 0, 0, 1, 1, 1, 1, 1, 1](phi)(y(x), x) - 96096*x^22*D[0, 0, 1, 1, 1, 1, 1, 1, 1](xi)(y(x), x)\n",
      "24024*x^22*D[0, 0, 1, 1, 1, 1, 1, 1, 1](phi)(y(x), x) - 21021*x^22*D[0, 1, 1, 1, 1, 1, 1, 1, 1](xi)(y(x), x)\n",
      "3003*x^22*D[0, 1, 1, 1, 1, 1, 1, 1, 1](phi)(y(x), x) - 2002*x^22*D[1, 1, 1, 1, 1, 1, 1, 1, 1](xi)(y(x), x)\n",
      "-126126*x^22*D[0, 0](xi)(y(x), x)\n",
      "-1891890*x^22*D[0, 0, 0](xi)(y(x), x)\n",
      "126126*x^22*D[0, 0, 0](phi)(y(x), x) - 1765764*x^22*D[0, 0, 1](xi)(y(x), x)\n",
      "-3783780*x^22*D[0, 0, 0](xi)(y(x), x)\n",
      "-3783780*x^22*D[0, 0, 0, 0](xi)(y(x), x)\n",
      "504504*x^22*D[0, 0, 0, 0](phi)(y(x), x) - 7063056*x^22*D[0, 0, 0, 1](xi)(y(x), x)\n",
      "504504*x^22*D[0, 0, 0, 1](phi)(y(x), x) - 3279276*x^22*D[0, 0, 1, 1](xi)(y(x), x)\n",
      "-5675670*x^22*D[0, 0, 0, 0](xi)(y(x), x)\n",
      "378378*x^22*D[0, 0, 0, 0](phi)(y(x), x) - 5297292*x^22*D[0, 0, 0, 1](xi)(y(x), x)\n",
      "-3783780*x^22*D[0, 0, 0, 0, 0](xi)(y(x), x)\n",
      "756756*x^22*D[0, 0, 0, 0, 0](phi)(y(x), x) - 10594584*x^22*D[0, 0, 0, 0, 1](xi)(y(x), x)\n",
      "1513512*x^22*D[0, 0, 0, 0, 1](phi)(y(x), x) - 9837828*x^22*D[0, 0, 0, 1, 1](xi)(y(x), x)\n",
      "756756*x^22*D[0, 0, 0, 1, 1](phi)(y(x), x) - 3027024*x^22*D[0, 0, 1, 1, 1](xi)(y(x), x)\n",
      "-378378*x^22*D[0, 0, 0, 0, 0, 0](xi)(y(x), x)\n",
      "126126*x^22*D[0, 0, 0, 0, 0, 0](phi)(y(x), x) - 1765764*x^22*D[0, 0, 0, 0, 0, 1](xi)(y(x), x)\n",
      "504504*x^22*D[0, 0, 0, 0, 0, 1](phi)(y(x), x) - 3279276*x^22*D[0, 0, 0, 0, 1, 1](xi)(y(x), x)\n",
      "756756*x^22*D[0, 0, 0, 0, 1, 1](phi)(y(x), x) - 3027024*x^22*D[0, 0, 0, 1, 1, 1](xi)(y(x), x)\n",
      "504504*x^22*D[0, 0, 0, 1, 1, 1](phi)(y(x), x) - 1387386*x^22*D[0, 0, 1, 1, 1, 1](xi)(y(x), x)\n",
      "126126*x^22*D[0, 0, 1, 1, 1, 1](phi)(y(x), x) - 252252*x^22*D[0, 1, 1, 1, 1, 1](xi)(y(x), x)\n",
      "-4729725*x^22*D[0, 0, 0](xi)(y(x), x)\n",
      "-4729725*x^22*D[0, 0, 0, 0](xi)(y(x), x)\n",
      "630630*x^22*D[0, 0, 0, 0](phi)(y(x), x) - 8828820*x^22*D[0, 0, 0, 1](xi)(y(x), x)\n",
      "630630*x^22*D[0, 0, 0, 1](phi)(y(x), x) - 4099095*x^22*D[0, 0, 1, 1](xi)(y(x), x)\n",
      "-6306300*x^22*D[0, 0, 0](xi)(y(x), x)\n",
      "-37837800*x^22*D[0, 0, 0, 0](xi)(y(x), x)\n",
      "2522520*x^22*D[0, 0, 0, 0](phi)(y(x), x) - 35315280*x^22*D[0, 0, 0, 1](xi)(y(x), x)\n",
      "-12612600*x^22*D[0, 0, 0, 0, 0](xi)(y(x), x)\n",
      "2522520*x^22*D[0, 0, 0, 0, 0](phi)(y(x), x) - 35315280*x^22*D[0, 0, 0, 0, 1](xi)(y(x), x)\n",
      "5045040*x^22*D[0, 0, 0, 0, 1](phi)(y(x), x) - 32792760*x^22*D[0, 0, 0, 1, 1](xi)(y(x), x)\n",
      "2522520*x^22*D[0, 0, 0, 1, 1](phi)(y(x), x) - 10090080*x^22*D[0, 0, 1, 1, 1](xi)(y(x), x)\n",
      "-9459450*x^22*D[0, 0, 0, 0](xi)(y(x), x)\n",
      "-28378350*x^22*D[0, 0, 0, 0, 0](xi)(y(x), x)\n",
      "3783780*x^22*D[0, 0, 0, 0, 0](phi)(y(x), x) - 52972920*x^22*D[0, 0, 0, 0, 1](xi)(y(x), x)\n",
      "3783780*x^22*D[0, 0, 0, 0, 1](phi)(y(x), x) - 24594570*x^22*D[0, 0, 0, 1, 1](xi)(y(x), x)\n",
      "-9459450*x^22*D[0, 0, 0, 0, 0, 0](xi)(y(x), x)\n",
      "2522520*x^22*D[0, 0, 0, 0, 0, 0](phi)(y(x), x) - 35315280*x^22*D[0, 0, 0, 0, 0, 1](xi)(y(x), x)\n",
      "7567560*x^22*D[0, 0, 0, 0, 0, 1](phi)(y(x), x) - 49189140*x^22*D[0, 0, 0, 0, 1, 1](xi)(y(x), x)\n",
      "7567560*x^22*D[0, 0, 0, 0, 1, 1](phi)(y(x), x) - 30270240*x^22*D[0, 0, 0, 1, 1, 1](xi)(y(x), x)\n",
      "2522520*x^22*D[0, 0, 0, 1, 1, 1](phi)(y(x), x) - 6936930*x^22*D[0, 0, 1, 1, 1, 1](xi)(y(x), x)\n",
      "-630630*x^22*D[0, 0, 0, 0, 0, 0, 0](xi)(y(x), x)\n",
      "252252*x^22*D[0, 0, 0, 0, 0, 0, 0](phi)(y(x), x) - 3531528*x^22*D[0, 0, 0, 0, 0, 0, 1](xi)(y(x), x)\n",
      "1261260*x^22*D[0, 0, 0, 0, 0, 0, 1](phi)(y(x), x) - 8198190*x^22*D[0, 0, 0, 0, 0, 1, 1](xi)(y(x), x)\n",
      "2522520*x^22*D[0, 0, 0, 0, 0, 1, 1](phi)(y(x), x) - 10090080*x^22*D[0, 0, 0, 0, 1, 1, 1](xi)(y(x), x)\n",
      "2522520*x^22*D[0, 0, 0, 0, 1, 1, 1](phi)(y(x), x) - 6936930*x^22*D[0, 0, 0, 1, 1, 1, 1](xi)(y(x), x)\n",
      "1261260*x^22*D[0, 0, 0, 1, 1, 1, 1](phi)(y(x), x) - 2522520*x^22*D[0, 0, 1, 1, 1, 1, 1](xi)(y(x), x)\n",
      "252252*x^22*D[0, 0, 1, 1, 1, 1, 1](phi)(y(x), x) - 378378*x^22*D[0, 1, 1, 1, 1, 1, 1](xi)(y(x), x)\n",
      "-8408400*x^22*D[0, 0, 0, 0](xi)(y(x), x)\n",
      "560560*x^22*D[0, 0, 0, 0](phi)(y(x), x) - 7847840*x^22*D[0, 0, 0, 1](xi)(y(x), x)\n",
      "-18918900*x^22*D[0, 0, 0, 0](xi)(y(x), x)\n",
      "-37837800*x^22*D[0, 0, 0, 0, 0](xi)(y(x), x)\n",
      "5045040*x^22*D[0, 0, 0, 0, 0](phi)(y(x), x) - 70630560*x^22*D[0, 0, 0, 0, 1](xi)(y(x), x)\n",
      "5045040*x^22*D[0, 0, 0, 0, 1](phi)(y(x), x) - 32792760*x^22*D[0, 0, 0, 1, 1](xi)(y(x), x)\n",
      "-6306300*x^22*D[0, 0, 0, 0, 0, 0](xi)(y(x), x)\n",
      "1681680*x^22*D[0, 0, 0, 0, 0, 0](phi)(y(x), x) - 23543520*x^22*D[0, 0, 0, 0, 0, 1](xi)(y(x), x)\n",
      "5045040*x^22*D[0, 0, 0, 0, 0, 1](phi)(y(x), x) - 32792760*x^22*D[0, 0, 0, 0, 1, 1](xi)(y(x), x)\n",
      "5045040*x^22*D[0, 0, 0, 0, 1, 1](phi)(y(x), x) - 20180160*x^22*D[0, 0, 0, 1, 1, 1](xi)(y(x), x)\n",
      "1681680*x^22*D[0, 0, 0, 1, 1, 1](phi)(y(x), x) - 4624620*x^22*D[0, 0, 1, 1, 1, 1](xi)(y(x), x)\n",
      "-37837800*x^22*D[0, 0, 0, 0, 0](xi)(y(x), x)\n",
      "2522520*x^22*D[0, 0, 0, 0, 0](phi)(y(x), x) - 35315280*x^22*D[0, 0, 0, 0, 1](xi)(y(x), x)\n",
      "-37837800*x^22*D[0, 0, 0, 0, 0, 0](xi)(y(x), x)\n",
      "7567560*x^22*D[0, 0, 0, 0, 0, 0](phi)(y(x), x) - 105945840*x^22*D[0, 0, 0, 0, 0, 1](xi)(y(x), x)\n",
      "15135120*x^22*D[0, 0, 0, 0, 0, 1](phi)(y(x), x) - 98378280*x^22*D[0, 0, 0, 0, 1, 1](xi)(y(x), x)\n",
      "7567560*x^22*D[0, 0, 0, 0, 1, 1](phi)(y(x), x) - 30270240*x^22*D[0, 0, 0, 1, 1, 1](xi)(y(x), x)\n",
      "-7567560*x^22*D[0, 0, 0, 0, 0, 0, 0](xi)(y(x), x)\n",
      "2522520*x^22*D[0, 0, 0, 0, 0, 0, 0](phi)(y(x), x) - 35315280*x^22*D[0, 0, 0, 0, 0, 0, 1](xi)(y(x), x)\n",
      "10090080*x^22*D[0, 0, 0, 0, 0, 0, 1](phi)(y(x), x) - 65585520*x^22*D[0, 0, 0, 0, 0, 1, 1](xi)(y(x), x)\n",
      "15135120*x^22*D[0, 0, 0, 0, 0, 1, 1](phi)(y(x), x) - 60540480*x^22*D[0, 0, 0, 0, 1, 1, 1](xi)(y(x), x)\n",
      "10090080*x^22*D[0, 0, 0, 0, 1, 1, 1](phi)(y(x), x) - 27747720*x^22*D[0, 0, 0, 1, 1, 1, 1](xi)(y(x), x)\n",
      "2522520*x^22*D[0, 0, 0, 1, 1, 1, 1](phi)(y(x), x) - 5045040*x^22*D[0, 0, 1, 1, 1, 1, 1](xi)(y(x), x)\n",
      "-360360*x^22*D[0, 0, 0, 0, 0, 0, 0, 0](xi)(y(x), x)\n",
      "168168*x^22*D[0, 0, 0, 0, 0, 0, 0, 0](phi)(y(x), x) - 2354352*x^22*D[0, 0, 0, 0, 0, 0, 0, 1](xi)(y(x), x)\n",
      "1009008*x^22*D[0, 0, 0, 0, 0, 0, 0, 1](phi)(y(x), x) - 6558552*x^22*D[0, 0, 0, 0, 0, 0, 1, 1](xi)(y(x), x)\n",
      "2522520*x^22*D[0, 0, 0, 0, 0, 0, 1, 1](phi)(y(x), x) - 10090080*x^22*D[0, 0, 0, 0, 0, 1, 1, 1](xi)(y(x), x)\n",
      "3363360*x^22*D[0, 0, 0, 0, 0, 1, 1, 1](phi)(y(x), x) - 9249240*x^22*D[0, 0, 0, 0, 1, 1, 1, 1](xi)(y(x), x)\n",
      "2522520*x^22*D[0, 0, 0, 0, 1, 1, 1, 1](phi)(y(x), x) - 5045040*x^22*D[0, 0, 0, 1, 1, 1, 1, 1](xi)(y(x), x)\n",
      "1009008*x^22*D[0, 0, 0, 1, 1, 1, 1, 1](phi)(y(x), x) - 1513512*x^22*D[0, 0, 1, 1, 1, 1, 1, 1](xi)(y(x), x)\n",
      "168168*x^22*D[0, 0, 1, 1, 1, 1, 1, 1](phi)(y(x), x) - 192192*x^22*D[0, 1, 1, 1, 1, 1, 1, 1](xi)(y(x), x)\n",
      "-2837835*x^22*D[0, 0, 0, 0, 0](xi)(y(x), x)\n",
      "-14189175*x^22*D[0, 0, 0, 0, 0, 0](xi)(y(x), x)\n",
      "1891890*x^22*D[0, 0, 0, 0, 0, 0](phi)(y(x), x) - 26486460*x^22*D[0, 0, 0, 0, 0, 1](xi)(y(x), x)\n",
      "1891890*x^22*D[0, 0, 0, 0, 0, 1](phi)(y(x), x) - 12297285*x^22*D[0, 0, 0, 0, 1, 1](xi)(y(x), x)\n",
      "-9459450*x^22*D[0, 0, 0, 0, 0, 0, 0](xi)(y(x), x)\n",
      "2522520*x^22*D[0, 0, 0, 0, 0, 0, 0](phi)(y(x), x) - 35315280*x^22*D[0, 0, 0, 0, 0, 0, 1](xi)(y(x), x)\n",
      "7567560*x^22*D[0, 0, 0, 0, 0, 0, 1](phi)(y(x), x) - 49189140*x^22*D[0, 0, 0, 0, 0, 1, 1](xi)(y(x), x)\n",
      "7567560*x^22*D[0, 0, 0, 0, 0, 1, 1](phi)(y(x), x) - 30270240*x^22*D[0, 0, 0, 0, 1, 1, 1](xi)(y(x), x)\n",
      "2522520*x^22*D[0, 0, 0, 0, 1, 1, 1](phi)(y(x), x) - 6936930*x^22*D[0, 0, 0, 1, 1, 1, 1](xi)(y(x), x)\n",
      "-1891890*x^22*D[0, 0, 0, 0, 0, 0, 0, 0](xi)(y(x), x)\n",
      "756756*x^22*D[0, 0, 0, 0, 0, 0, 0, 0](phi)(y(x), x) - 10594584*x^22*D[0, 0, 0, 0, 0, 0, 0, 1](xi)(y(x), x)\n",
      "3783780*x^22*D[0, 0, 0, 0, 0, 0, 0, 1](phi)(y(x), x) - 24594570*x^22*D[0, 0, 0, 0, 0, 0, 1, 1](xi)(y(x), x)\n",
      "7567560*x^22*D[0, 0, 0, 0, 0, 0, 1, 1](phi)(y(x), x) - 30270240*x^22*D[0, 0, 0, 0, 0, 1, 1, 1](xi)(y(x), x)\n",
      "7567560*x^22*D[0, 0, 0, 0, 0, 1, 1, 1](phi)(y(x), x) - 20810790*x^22*D[0, 0, 0, 0, 1, 1, 1, 1](xi)(y(x), x)\n",
      "3783780*x^22*D[0, 0, 0, 0, 1, 1, 1, 1](phi)(y(x), x) - 7567560*x^22*D[0, 0, 0, 1, 1, 1, 1, 1](xi)(y(x), x)\n",
      "756756*x^22*D[0, 0, 0, 1, 1, 1, 1, 1](phi)(y(x), x) - 1135134*x^22*D[0, 0, 1, 1, 1, 1, 1, 1](xi)(y(x), x)\n",
      "-135135*x^22*D[0, 0, 0, 0, 0, 0, 0, 0, 0](xi)(y(x), x)\n",
      "72072*x^22*D[0, 0, 0, 0, 0, 0, 0, 0, 0](phi)(y(x), x) - 1009008*x^22*D[0, 0, 0, 0, 0, 0, 0, 0, 1](xi)(y(x), x)\n",
      "504504*x^22*D[0, 0, 0, 0, 0, 0, 0, 0, 1](phi)(y(x), x) - 3279276*x^22*D[0, 0, 0, 0, 0, 0, 0, 1, 1](xi)(y(x), x)\n",
      "1513512*x^22*D[0, 0, 0, 0, 0, 0, 0, 1, 1](phi)(y(x), x) - 6054048*x^22*D[0, 0, 0, 0, 0, 0, 1, 1, 1](xi)(y(x), x)\n",
      "2522520*x^22*D[0, 0, 0, 0, 0, 0, 1, 1, 1](phi)(y(x), x) - 6936930*x^22*D[0, 0, 0, 0, 0, 1, 1, 1, 1](xi)(y(x), x)\n",
      "2522520*x^22*D[0, 0, 0, 0, 0, 1, 1, 1, 1](phi)(y(x), x) - 5045040*x^22*D[0, 0, 0, 0, 1, 1, 1, 1, 1](xi)(y(x), x)\n",
      "1513512*x^22*D[0, 0, 0, 0, 1, 1, 1, 1, 1](phi)(y(x), x) - 2270268*x^22*D[0, 0, 0, 1, 1, 1, 1, 1, 1](xi)(y(x), x)\n",
      "504504*x^22*D[0, 0, 0, 1, 1, 1, 1, 1, 1](phi)(y(x), x) - 576576*x^22*D[0, 0, 1, 1, 1, 1, 1, 1, 1](xi)(y(x), x)\n",
      "72072*x^22*D[0, 0, 1, 1, 1, 1, 1, 1, 1](phi)(y(x), x) - 63063*x^22*D[0, 1, 1, 1, 1, 1, 1, 1, 1](xi)(y(x), x)\n",
      "-3003*x^22*D[0, 0, 0, 0, 0, 0, 0, 0, 0, 0](xi)(y(x), x)\n",
      "2002*x^22*D[0, 0, 0, 0, 0, 0, 0, 0, 0, 0](phi)(y(x), x) - 28028*x^22*D[0, 0, 0, 0, 0, 0, 0, 0, 0, 1](xi)(y(x), x)\n",
      "18018*x^22*D[0, 0, 0, 0, 0, 0, 0, 0, 0, 1](phi)(y(x), x) - 117117*x^22*D[0, 0, 0, 0, 0, 0, 0, 0, 1, 1](xi)(y(x), x)\n",
      "72072*x^22*D[0, 0, 0, 0, 0, 0, 0, 0, 1, 1](phi)(y(x), x) - 288288*x^22*D[0, 0, 0, 0, 0, 0, 0, 1, 1, 1](xi)(y(x), x)\n",
      "168168*x^22*D[0, 0, 0, 0, 0, 0, 0, 1, 1, 1](phi)(y(x), x) - 462462*x^22*D[0, 0, 0, 0, 0, 0, 1, 1, 1, 1](xi)(y(x), x)\n",
      "252252*x^22*D[0, 0, 0, 0, 0, 0, 1, 1, 1, 1](phi)(y(x), x) - 504504*x^22*D[0, 0, 0, 0, 0, 1, 1, 1, 1, 1](xi)(y(x), x)\n",
      "252252*x^22*D[0, 0, 0, 0, 0, 1, 1, 1, 1, 1](phi)(y(x), x) - 378378*x^22*D[0, 0, 0, 0, 1, 1, 1, 1, 1, 1](xi)(y(x), x)\n",
      "168168*x^22*D[0, 0, 0, 0, 1, 1, 1, 1, 1, 1](phi)(y(x), x) - 192192*x^22*D[0, 0, 0, 1, 1, 1, 1, 1, 1, 1](xi)(y(x), x)\n",
      "72072*x^22*D[0, 0, 0, 1, 1, 1, 1, 1, 1, 1](phi)(y(x), x) - 63063*x^22*D[0, 0, 1, 1, 1, 1, 1, 1, 1, 1](xi)(y(x), x)\n",
      "18018*x^22*D[0, 0, 1, 1, 1, 1, 1, 1, 1, 1](phi)(y(x), x) - 12012*x^22*D[0, 1, 1, 1, 1, 1, 1, 1, 1, 1](xi)(y(x), x)\n",
      "2002*x^22*D[0, 1, 1, 1, 1, 1, 1, 1, 1, 1](phi)(y(x), x) - 1001*x^22*D[1, 1, 1, 1, 1, 1, 1, 1, 1, 1](xi)(y(x), x)\n",
      "-2627625*x^22*D[0, 0, 0](xi)(y(x), x)\n",
      "-7882875*x^22*D[0, 0, 0, 0](xi)(y(x), x)\n",
      "525525*x^22*D[0, 0, 0, 0](phi)(y(x), x) - 7357350*x^22*D[0, 0, 0, 1](xi)(y(x), x)\n",
      "-2627625*x^22*D[0, 0, 0, 0, 0](xi)(y(x), x)\n",
      "525525*x^22*D[0, 0, 0, 0, 0](phi)(y(x), x) - 7357350*x^22*D[0, 0, 0, 0, 1](xi)(y(x), x)\n",
      "1051050*x^22*D[0, 0, 0, 0, 1](phi)(y(x), x) - 6831825*x^22*D[0, 0, 0, 1, 1](xi)(y(x), x)\n",
      "525525*x^22*D[0, 0, 0, 1, 1](phi)(y(x), x) - 2102100*x^22*D[0, 0, 1, 1, 1](xi)(y(x), x)\n",
      "-15765750*x^22*D[0, 0, 0, 0](xi)(y(x), x)\n",
      "1051050*x^22*D[0, 0, 0, 0](phi)(y(x), x) - 14714700*x^22*D[0, 0, 0, 1](xi)(y(x), x)\n",
      "-23648625*x^22*D[0, 0, 0, 0](xi)(y(x), x)\n",
      "-47297250*x^22*D[0, 0, 0, 0, 0](xi)(y(x), x)\n",
      "6306300*x^22*D[0, 0, 0, 0, 0](phi)(y(x), x) - 88288200*x^22*D[0, 0, 0, 0, 1](xi)(y(x), x)\n",
      "6306300*x^22*D[0, 0, 0, 0, 1](phi)(y(x), x) - 40990950*x^22*D[0, 0, 0, 1, 1](xi)(y(x), x)\n",
      "-7882875*x^22*D[0, 0, 0, 0, 0, 0](xi)(y(x), x)\n",
      "2102100*x^22*D[0, 0, 0, 0, 0, 0](phi)(y(x), x) - 29429400*x^22*D[0, 0, 0, 0, 0, 1](xi)(y(x), x)\n",
      "6306300*x^22*D[0, 0, 0, 0, 0, 1](phi)(y(x), x) - 40990950*x^22*D[0, 0, 0, 0, 1, 1](xi)(y(x), x)\n",
      "6306300*x^22*D[0, 0, 0, 0, 1, 1](phi)(y(x), x) - 25225200*x^22*D[0, 0, 0, 1, 1, 1](xi)(y(x), x)\n",
      "2102100*x^22*D[0, 0, 0, 1, 1, 1](phi)(y(x), x) - 5780775*x^22*D[0, 0, 1, 1, 1, 1](xi)(y(x), x)\n",
      "-23648625*x^22*D[0, 0, 0, 0, 0](xi)(y(x), x)\n",
      "1576575*x^22*D[0, 0, 0, 0, 0](phi)(y(x), x) - 22072050*x^22*D[0, 0, 0, 0, 1](xi)(y(x), x)\n",
      "-23648625*x^22*D[0, 0, 0, 0, 0, 0](xi)(y(x), x)\n",
      "4729725*x^22*D[0, 0, 0, 0, 0, 0](phi)(y(x), x) - 66216150*x^22*D[0, 0, 0, 0, 0, 1](xi)(y(x), x)\n",
      "9459450*x^22*D[0, 0, 0, 0, 0, 1](phi)(y(x), x) - 61486425*x^22*D[0, 0, 0, 0, 1, 1](xi)(y(x), x)\n",
      "4729725*x^22*D[0, 0, 0, 0, 1, 1](phi)(y(x), x) - 18918900*x^22*D[0, 0, 0, 1, 1, 1](xi)(y(x), x)\n",
      "-4729725*x^22*D[0, 0, 0, 0, 0, 0, 0](xi)(y(x), x)\n",
      "1576575*x^22*D[0, 0, 0, 0, 0, 0, 0](phi)(y(x), x) - 22072050*x^22*D[0, 0, 0, 0, 0, 0, 1](xi)(y(x), x)\n",
      "6306300*x^22*D[0, 0, 0, 0, 0, 0, 1](phi)(y(x), x) - 40990950*x^22*D[0, 0, 0, 0, 0, 1, 1](xi)(y(x), x)\n",
      "9459450*x^22*D[0, 0, 0, 0, 0, 1, 1](phi)(y(x), x) - 37837800*x^22*D[0, 0, 0, 0, 1, 1, 1](xi)(y(x), x)\n",
      "6306300*x^22*D[0, 0, 0, 0, 1, 1, 1](phi)(y(x), x) - 17342325*x^22*D[0, 0, 0, 1, 1, 1, 1](xi)(y(x), x)\n",
      "1576575*x^22*D[0, 0, 0, 1, 1, 1, 1](phi)(y(x), x) - 3153150*x^22*D[0, 0, 1, 1, 1, 1, 1](xi)(y(x), x)\n",
      "-225225*x^22*D[0, 0, 0, 0, 0, 0, 0, 0](xi)(y(x), x)\n",
      "105105*x^22*D[0, 0, 0, 0, 0, 0, 0, 0](phi)(y(x), x) - 1471470*x^22*D[0, 0, 0, 0, 0, 0, 0, 1](xi)(y(x), x)\n",
      "630630*x^22*D[0, 0, 0, 0, 0, 0, 0, 1](phi)(y(x), x) - 4099095*x^22*D[0, 0, 0, 0, 0, 0, 1, 1](xi)(y(x), x)\n",
      "1576575*x^22*D[0, 0, 0, 0, 0, 0, 1, 1](phi)(y(x), x) - 6306300*x^22*D[0, 0, 0, 0, 0, 1, 1, 1](xi)(y(x), x)\n",
      "2102100*x^22*D[0, 0, 0, 0, 0, 1, 1, 1](phi)(y(x), x) - 5780775*x^22*D[0, 0, 0, 0, 1, 1, 1, 1](xi)(y(x), x)\n",
      "1576575*x^22*D[0, 0, 0, 0, 1, 1, 1, 1](phi)(y(x), x) - 3153150*x^22*D[0, 0, 0, 1, 1, 1, 1, 1](xi)(y(x), x)\n",
      "630630*x^22*D[0, 0, 0, 1, 1, 1, 1, 1](phi)(y(x), x) - 945945*x^22*D[0, 0, 1, 1, 1, 1, 1, 1](xi)(y(x), x)\n",
      "105105*x^22*D[0, 0, 1, 1, 1, 1, 1, 1](phi)(y(x), x) - 120120*x^22*D[0, 1, 1, 1, 1, 1, 1, 1](xi)(y(x), x)\n",
      "-21021000*x^22*D[0, 0, 0, 0](xi)(y(x), x)\n",
      "-21021000*x^22*D[0, 0, 0, 0, 0](xi)(y(x), x)\n",
      "2802800*x^22*D[0, 0, 0, 0, 0](phi)(y(x), x) - 39239200*x^22*D[0, 0, 0, 0, 1](xi)(y(x), x)\n",
      "2802800*x^22*D[0, 0, 0, 0, 1](phi)(y(x), x) - 18218200*x^22*D[0, 0, 0, 1, 1](xi)(y(x), x)\n",
      "-94594500*x^22*D[0, 0, 0, 0, 0](xi)(y(x), x)\n",
      "6306300*x^22*D[0, 0, 0, 0, 0](phi)(y(x), x) - 88288200*x^22*D[0, 0, 0, 0, 1](xi)(y(x), x)\n",
      "-63063000*x^22*D[0, 0, 0, 0, 0, 0](xi)(y(x), x)\n",
      "12612600*x^22*D[0, 0, 0, 0, 0, 0](phi)(y(x), x) - 176576400*x^22*D[0, 0, 0, 0, 0, 1](xi)(y(x), x)\n",
      "25225200*x^22*D[0, 0, 0, 0, 0, 1](phi)(y(x), x) - 163963800*x^22*D[0, 0, 0, 0, 1, 1](xi)(y(x), x)\n",
      "12612600*x^22*D[0, 0, 0, 0, 1, 1](phi)(y(x), x) - 50450400*x^22*D[0, 0, 0, 1, 1, 1](xi)(y(x), x)\n",
      "-6306300*x^22*D[0, 0, 0, 0, 0, 0, 0](xi)(y(x), x)\n",
      "2102100*x^22*D[0, 0, 0, 0, 0, 0, 0](phi)(y(x), x) - 29429400*x^22*D[0, 0, 0, 0, 0, 0, 1](xi)(y(x), x)\n",
      "8408400*x^22*D[0, 0, 0, 0, 0, 0, 1](phi)(y(x), x) - 54654600*x^22*D[0, 0, 0, 0, 0, 1, 1](xi)(y(x), x)\n",
      "12612600*x^22*D[0, 0, 0, 0, 0, 1, 1](phi)(y(x), x) - 50450400*x^22*D[0, 0, 0, 0, 1, 1, 1](xi)(y(x), x)\n",
      "8408400*x^22*D[0, 0, 0, 0, 1, 1, 1](phi)(y(x), x) - 23123100*x^22*D[0, 0, 0, 1, 1, 1, 1](xi)(y(x), x)\n",
      "2102100*x^22*D[0, 0, 0, 1, 1, 1, 1](phi)(y(x), x) - 4204200*x^22*D[0, 0, 1, 1, 1, 1, 1](xi)(y(x), x)\n",
      "-23648625*x^22*D[0, 0, 0, 0, 0](xi)(y(x), x)\n",
      "-94594500*x^22*D[0, 0, 0, 0, 0, 0](xi)(y(x), x)\n",
      "12612600*x^22*D[0, 0, 0, 0, 0, 0](phi)(y(x), x) - 176576400*x^22*D[0, 0, 0, 0, 0, 1](xi)(y(x), x)\n",
      "12612600*x^22*D[0, 0, 0, 0, 0, 1](phi)(y(x), x) - 81981900*x^22*D[0, 0, 0, 0, 1, 1](xi)(y(x), x)\n",
      "-47297250*x^22*D[0, 0, 0, 0, 0, 0, 0](xi)(y(x), x)\n",
      "12612600*x^22*D[0, 0, 0, 0, 0, 0, 0](phi)(y(x), x) - 176576400*x^22*D[0, 0, 0, 0, 0, 0, 1](xi)(y(x), x)\n",
      "37837800*x^22*D[0, 0, 0, 0, 0, 0, 1](phi)(y(x), x) - 245945700*x^22*D[0, 0, 0, 0, 0, 1, 1](xi)(y(x), x)\n",
      "37837800*x^22*D[0, 0, 0, 0, 0, 1, 1](phi)(y(x), x) - 151351200*x^22*D[0, 0, 0, 0, 1, 1, 1](xi)(y(x), x)\n",
      "12612600*x^22*D[0, 0, 0, 0, 1, 1, 1](phi)(y(x), x) - 34684650*x^22*D[0, 0, 0, 1, 1, 1, 1](xi)(y(x), x)\n",
      "-6306300*x^22*D[0, 0, 0, 0, 0, 0, 0, 0](xi)(y(x), x)\n",
      "2522520*x^22*D[0, 0, 0, 0, 0, 0, 0, 0](phi)(y(x), x) - 35315280*x^22*D[0, 0, 0, 0, 0, 0, 0, 1](xi)(y(x), x)\n",
      "12612600*x^22*D[0, 0, 0, 0, 0, 0, 0, 1](phi)(y(x), x) - 81981900*x^22*D[0, 0, 0, 0, 0, 0, 1, 1](xi)(y(x), x)\n",
      "25225200*x^22*D[0, 0, 0, 0, 0, 0, 1, 1](phi)(y(x), x) - 100900800*x^22*D[0, 0, 0, 0, 0, 1, 1, 1](xi)(y(x), x)\n",
      "25225200*x^22*D[0, 0, 0, 0, 0, 1, 1, 1](phi)(y(x), x) - 69369300*x^22*D[0, 0, 0, 0, 1, 1, 1, 1](xi)(y(x), x)\n",
      "12612600*x^22*D[0, 0, 0, 0, 1, 1, 1, 1](phi)(y(x), x) - 25225200*x^22*D[0, 0, 0, 1, 1, 1, 1, 1](xi)(y(x), x)\n",
      "2522520*x^22*D[0, 0, 0, 1, 1, 1, 1, 1](phi)(y(x), x) - 3783780*x^22*D[0, 0, 1, 1, 1, 1, 1, 1](xi)(y(x), x)\n",
      "-225225*x^22*D[0, 0, 0, 0, 0, 0, 0, 0, 0](xi)(y(x), x)\n",
      "120120*x^22*D[0, 0, 0, 0, 0, 0, 0, 0, 0](phi)(y(x), x) - 1681680*x^22*D[0, 0, 0, 0, 0, 0, 0, 0, 1](xi)(y(x), x)\n",
      "840840*x^22*D[0, 0, 0, 0, 0, 0, 0, 0, 1](phi)(y(x), x) - 5465460*x^22*D[0, 0, 0, 0, 0, 0, 0, 1, 1](xi)(y(x), x)\n",
      "2522520*x^22*D[0, 0, 0, 0, 0, 0, 0, 1, 1](phi)(y(x), x) - 10090080*x^22*D[0, 0, 0, 0, 0, 0, 1, 1, 1](xi)(y(x), x)\n",
      "4204200*x^22*D[0, 0, 0, 0, 0, 0, 1, 1, 1](phi)(y(x), x) - 11561550*x^22*D[0, 0, 0, 0, 0, 1, 1, 1, 1](xi)(y(x), x)\n",
      "4204200*x^22*D[0, 0, 0, 0, 0, 1, 1, 1, 1](phi)(y(x), x) - 8408400*x^22*D[0, 0, 0, 0, 1, 1, 1, 1, 1](xi)(y(x), x)\n",
      "2522520*x^22*D[0, 0, 0, 0, 1, 1, 1, 1, 1](phi)(y(x), x) - 3783780*x^22*D[0, 0, 0, 1, 1, 1, 1, 1, 1](xi)(y(x), x)\n",
      "840840*x^22*D[0, 0, 0, 1, 1, 1, 1, 1, 1](phi)(y(x), x) - 960960*x^22*D[0, 0, 1, 1, 1, 1, 1, 1, 1](xi)(y(x), x)\n",
      "120120*x^22*D[0, 0, 1, 1, 1, 1, 1, 1, 1](phi)(y(x), x) - 105105*x^22*D[0, 1, 1, 1, 1, 1, 1, 1, 1](xi)(y(x), x)\n",
      "-14189175*x^22*D[0, 0, 0, 0, 0, 0](xi)(y(x), x)\n",
      "945945*x^22*D[0, 0, 0, 0, 0, 0](phi)(y(x), x) - 13243230*x^22*D[0, 0, 0, 0, 0, 1](xi)(y(x), x)\n",
      "-23648625*x^22*D[0, 0, 0, 0, 0, 0, 0](xi)(y(x), x)\n",
      "4729725*x^22*D[0, 0, 0, 0, 0, 0, 0](phi)(y(x), x) - 66216150*x^22*D[0, 0, 0, 0, 0, 0, 1](xi)(y(x), x)\n",
      "9459450*x^22*D[0, 0, 0, 0, 0, 0, 1](phi)(y(x), x) - 61486425*x^22*D[0, 0, 0, 0, 0, 1, 1](xi)(y(x), x)\n",
      "4729725*x^22*D[0, 0, 0, 0, 0, 1, 1](phi)(y(x), x) - 18918900*x^22*D[0, 0, 0, 0, 1, 1, 1](xi)(y(x), x)\n",
      "-9459450*x^22*D[0, 0, 0, 0, 0, 0, 0, 0](xi)(y(x), x)\n",
      "3153150*x^22*D[0, 0, 0, 0, 0, 0, 0, 0](phi)(y(x), x) - 44144100*x^22*D[0, 0, 0, 0, 0, 0, 0, 1](xi)(y(x), x)\n",
      "12612600*x^22*D[0, 0, 0, 0, 0, 0, 0, 1](phi)(y(x), x) - 81981900*x^22*D[0, 0, 0, 0, 0, 0, 1, 1](xi)(y(x), x)\n",
      "18918900*x^22*D[0, 0, 0, 0, 0, 0, 1, 1](phi)(y(x), x) - 75675600*x^22*D[0, 0, 0, 0, 0, 1, 1, 1](xi)(y(x), x)\n",
      "12612600*x^22*D[0, 0, 0, 0, 0, 1, 1, 1](phi)(y(x), x) - 34684650*x^22*D[0, 0, 0, 0, 1, 1, 1, 1](xi)(y(x), x)\n",
      "3153150*x^22*D[0, 0, 0, 0, 1, 1, 1, 1](phi)(y(x), x) - 6306300*x^22*D[0, 0, 0, 1, 1, 1, 1, 1](xi)(y(x), x)\n",
      "-1351350*x^22*D[0, 0, 0, 0, 0, 0, 0, 0, 0](xi)(y(x), x)\n",
      "630630*x^22*D[0, 0, 0, 0, 0, 0, 0, 0, 0](phi)(y(x), x) - 8828820*x^22*D[0, 0, 0, 0, 0, 0, 0, 0, 1](xi)(y(x), x)\n",
      "3783780*x^22*D[0, 0, 0, 0, 0, 0, 0, 0, 1](phi)(y(x), x) - 24594570*x^22*D[0, 0, 0, 0, 0, 0, 0, 1, 1](xi)(y(x), x)\n",
      "9459450*x^22*D[0, 0, 0, 0, 0, 0, 0, 1, 1](phi)(y(x), x) - 37837800*x^22*D[0, 0, 0, 0, 0, 0, 1, 1, 1](xi)(y(x), x)\n",
      "12612600*x^22*D[0, 0, 0, 0, 0, 0, 1, 1, 1](phi)(y(x), x) - 34684650*x^22*D[0, 0, 0, 0, 0, 1, 1, 1, 1](xi)(y(x), x)\n",
      "9459450*x^22*D[0, 0, 0, 0, 0, 1, 1, 1, 1](phi)(y(x), x) - 18918900*x^22*D[0, 0, 0, 0, 1, 1, 1, 1, 1](xi)(y(x), x)\n",
      "3783780*x^22*D[0, 0, 0, 0, 1, 1, 1, 1, 1](phi)(y(x), x) - 5675670*x^22*D[0, 0, 0, 1, 1, 1, 1, 1, 1](xi)(y(x), x)\n",
      "630630*x^22*D[0, 0, 0, 1, 1, 1, 1, 1, 1](phi)(y(x), x) - 720720*x^22*D[0, 0, 1, 1, 1, 1, 1, 1, 1](xi)(y(x), x)\n",
      "-75075*x^22*D[0, 0, 0, 0, 0, 0, 0, 0, 0, 0](xi)(y(x), x)\n",
      "45045*x^22*D[0, 0, 0, 0, 0, 0, 0, 0, 0, 0](phi)(y(x), x) - 630630*x^22*D[0, 0, 0, 0, 0, 0, 0, 0, 0, 1](xi)(y(x), x)\n",
      "360360*x^22*D[0, 0, 0, 0, 0, 0, 0, 0, 0, 1](phi)(y(x), x) - 2342340*x^22*D[0, 0, 0, 0, 0, 0, 0, 0, 1, 1](xi)(y(x), x)\n",
      "1261260*x^22*D[0, 0, 0, 0, 0, 0, 0, 0, 1, 1](phi)(y(x), x) - 5045040*x^22*D[0, 0, 0, 0, 0, 0, 0, 1, 1, 1](xi)(y(x), x)\n",
      "2522520*x^22*D[0, 0, 0, 0, 0, 0, 0, 1, 1, 1](phi)(y(x), x) - 6936930*x^22*D[0, 0, 0, 0, 0, 0, 1, 1, 1, 1](xi)(y(x), x)\n",
      "3153150*x^22*D[0, 0, 0, 0, 0, 0, 1, 1, 1, 1](phi)(y(x), x) - 6306300*x^22*D[0, 0, 0, 0, 0, 1, 1, 1, 1, 1](xi)(y(x), x)\n",
      "2522520*x^22*D[0, 0, 0, 0, 0, 1, 1, 1, 1, 1](phi)(y(x), x) - 3783780*x^22*D[0, 0, 0, 0, 1, 1, 1, 1, 1, 1](xi)(y(x), x)\n",
      "1261260*x^22*D[0, 0, 0, 0, 1, 1, 1, 1, 1, 1](phi)(y(x), x) - 1441440*x^22*D[0, 0, 0, 1, 1, 1, 1, 1, 1, 1](xi)(y(x), x)\n",
      "360360*x^22*D[0, 0, 0, 1, 1, 1, 1, 1, 1, 1](phi)(y(x), x) - 315315*x^22*D[0, 0, 1, 1, 1, 1, 1, 1, 1, 1](xi)(y(x), x)\n",
      "45045*x^22*D[0, 0, 1, 1, 1, 1, 1, 1, 1, 1](phi)(y(x), x) - 30030*x^22*D[0, 1, 1, 1, 1, 1, 1, 1, 1, 1](xi)(y(x), x)\n",
      "-1365*x^22*D[0, 0, 0, 0, 0, 0, 0, 0, 0, 0, 0](xi)(y(x), x)\n",
      "1001*x^22*D[0, 0, 0, 0, 0, 0, 0, 0, 0, 0, 0](phi)(y(x), x) - 14014*x^22*D[0, 0, 0, 0, 0, 0, 0, 0, 0, 0, 1](xi)(y(x), x)\n",
      "10010*x^22*D[0, 0, 0, 0, 0, 0, 0, 0, 0, 0, 1](phi)(y(x), x) - 65065*x^22*D[0, 0, 0, 0, 0, 0, 0, 0, 0, 1, 1](xi)(y(x), x)\n",
      "45045*x^22*D[0, 0, 0, 0, 0, 0, 0, 0, 0, 1, 1](phi)(y(x), x) - 180180*x^22*D[0, 0, 0, 0, 0, 0, 0, 0, 1, 1, 1](xi)(y(x), x)\n",
      "120120*x^22*D[0, 0, 0, 0, 0, 0, 0, 0, 1, 1, 1](phi)(y(x), x) - 330330*x^22*D[0, 0, 0, 0, 0, 0, 0, 1, 1, 1, 1](xi)(y(x), x)\n",
      "210210*x^22*D[0, 0, 0, 0, 0, 0, 0, 1, 1, 1, 1](phi)(y(x), x) - 420420*x^22*D[0, 0, 0, 0, 0, 0, 1, 1, 1, 1, 1](xi)(y(x), x)\n",
      "252252*x^22*D[0, 0, 0, 0, 0, 0, 1, 1, 1, 1, 1](phi)(y(x), x) - 378378*x^22*D[0, 0, 0, 0, 0, 1, 1, 1, 1, 1, 1](xi)(y(x), x)\n",
      "210210*x^22*D[0, 0, 0, 0, 0, 1, 1, 1, 1, 1, 1](phi)(y(x), x) - 240240*x^22*D[0, 0, 0, 0, 1, 1, 1, 1, 1, 1, 1](xi)(y(x), x)\n",
      "120120*x^22*D[0, 0, 0, 0, 1, 1, 1, 1, 1, 1, 1](phi)(y(x), x) - 105105*x^22*D[0, 0, 0, 1, 1, 1, 1, 1, 1, 1, 1](xi)(y(x), x)\n",
      "45045*x^22*D[0, 0, 0, 1, 1, 1, 1, 1, 1, 1, 1](phi)(y(x), x) - 30030*x^22*D[0, 0, 1, 1, 1, 1, 1, 1, 1, 1, 1](xi)(y(x), x)\n",
      "10010*x^22*D[0, 0, 1, 1, 1, 1, 1, 1, 1, 1, 1](phi)(y(x), x) - 5005*x^22*D[0, 1, 1, 1, 1, 1, 1, 1, 1, 1, 1](xi)(y(x), x) + 10*f(x)*D[0](xi)(y(x), x)\n",
      "a(x)*y(x) + b(x)\n",
      "1001*x^22*D[0, 1, 1, 1, 1, 1, 1, 1, 1, 1, 1](phi)(y(x), x) - 364*x^22*D[1, 1, 1, 1, 1, 1, 1, 1, 1, 1, 1](xi)(y(x), x) + 10*f(x)*D[1](xi)(y(x), x) - 22*(a(x)*y(x) + b(x))*f(x)/x\n",
      "-1401400*x^22*D[0, 0, 0, 0](xi)(y(x), x)\n",
      "-21021000*x^22*D[0, 0, 0, 0, 0](xi)(y(x), x)\n",
      "1401400*x^22*D[0, 0, 0, 0, 0](phi)(y(x), x) - 19619600*x^22*D[0, 0, 0, 0, 1](xi)(y(x), x)\n",
      "-7007000*x^22*D[0, 0, 0, 0, 0, 0](xi)(y(x), x)\n",
      "1401400*x^22*D[0, 0, 0, 0, 0, 0](phi)(y(x), x) - 19619600*x^22*D[0, 0, 0, 0, 0, 1](xi)(y(x), x)\n",
      "2802800*x^22*D[0, 0, 0, 0, 0, 1](phi)(y(x), x) - 18218200*x^22*D[0, 0, 0, 0, 1, 1](xi)(y(x), x)\n",
      "1401400*x^22*D[0, 0, 0, 0, 1, 1](phi)(y(x), x) - 5605600*x^22*D[0, 0, 0, 1, 1, 1](xi)(y(x), x)\n",
      "-21021000*x^22*D[0, 0, 0, 0, 0](xi)(y(x), x)\n",
      "-63063000*x^22*D[0, 0, 0, 0, 0, 0](xi)(y(x), x)\n",
      "8408400*x^22*D[0, 0, 0, 0, 0, 0](phi)(y(x), x) - 117717600*x^22*D[0, 0, 0, 0, 0, 1](xi)(y(x), x)\n",
      "8408400*x^22*D[0, 0, 0, 0, 0, 1](phi)(y(x), x) - 54654600*x^22*D[0, 0, 0, 0, 1, 1](xi)(y(x), x)\n",
      "-21021000*x^22*D[0, 0, 0, 0, 0, 0, 0](xi)(y(x), x)\n",
      "5605600*x^22*D[0, 0, 0, 0, 0, 0, 0](phi)(y(x), x) - 78478400*x^22*D[0, 0, 0, 0, 0, 0, 1](xi)(y(x), x)\n",
      "16816800*x^22*D[0, 0, 0, 0, 0, 0, 1](phi)(y(x), x) - 109309200*x^22*D[0, 0, 0, 0, 0, 1, 1](xi)(y(x), x)\n",
      "16816800*x^22*D[0, 0, 0, 0, 0, 1, 1](phi)(y(x), x) - 67267200*x^22*D[0, 0, 0, 0, 1, 1, 1](xi)(y(x), x)\n",
      "5605600*x^22*D[0, 0, 0, 0, 1, 1, 1](phi)(y(x), x) - 15415400*x^22*D[0, 0, 0, 1, 1, 1, 1](xi)(y(x), x)\n",
      "-1401400*x^22*D[0, 0, 0, 0, 0, 0, 0, 0](xi)(y(x), x)\n",
      "560560*x^22*D[0, 0, 0, 0, 0, 0, 0, 0](phi)(y(x), x) - 7847840*x^22*D[0, 0, 0, 0, 0, 0, 0, 1](xi)(y(x), x)\n",
      "2802800*x^22*D[0, 0, 0, 0, 0, 0, 0, 1](phi)(y(x), x) - 18218200*x^22*D[0, 0, 0, 0, 0, 0, 1, 1](xi)(y(x), x)\n",
      "5605600*x^22*D[0, 0, 0, 0, 0, 0, 1, 1](phi)(y(x), x) - 22422400*x^22*D[0, 0, 0, 0, 0, 1, 1, 1](xi)(y(x), x)\n",
      "5605600*x^22*D[0, 0, 0, 0, 0, 1, 1, 1](phi)(y(x), x) - 15415400*x^22*D[0, 0, 0, 0, 1, 1, 1, 1](xi)(y(x), x)\n",
      "2802800*x^22*D[0, 0, 0, 0, 1, 1, 1, 1](phi)(y(x), x) - 5605600*x^22*D[0, 0, 0, 1, 1, 1, 1, 1](xi)(y(x), x)\n",
      "560560*x^22*D[0, 0, 0, 1, 1, 1, 1, 1](phi)(y(x), x) - 840840*x^22*D[0, 0, 1, 1, 1, 1, 1, 1](xi)(y(x), x)\n",
      "-47297250*x^22*D[0, 0, 0, 0, 0, 0](xi)(y(x), x)\n",
      "3153150*x^22*D[0, 0, 0, 0, 0, 0](phi)(y(x), x) - 44144100*x^22*D[0, 0, 0, 0, 0, 1](xi)(y(x), x)\n",
      "-63063000*x^22*D[0, 0, 0, 0, 0, 0, 0](xi)(y(x), x)\n",
      "12612600*x^22*D[0, 0, 0, 0, 0, 0, 0](phi)(y(x), x) - 176576400*x^22*D[0, 0, 0, 0, 0, 0, 1](xi)(y(x), x)\n",
      "25225200*x^22*D[0, 0, 0, 0, 0, 0, 1](phi)(y(x), x) - 163963800*x^22*D[0, 0, 0, 0, 0, 1, 1](xi)(y(x), x)\n",
      "12612600*x^22*D[0, 0, 0, 0, 0, 1, 1](phi)(y(x), x) - 50450400*x^22*D[0, 0, 0, 0, 1, 1, 1](xi)(y(x), x)\n",
      "-18918900*x^22*D[0, 0, 0, 0, 0, 0, 0, 0](xi)(y(x), x)\n",
      "6306300*x^22*D[0, 0, 0, 0, 0, 0, 0, 0](phi)(y(x), x) - 88288200*x^22*D[0, 0, 0, 0, 0, 0, 0, 1](xi)(y(x), x)\n",
      "25225200*x^22*D[0, 0, 0, 0, 0, 0, 0, 1](phi)(y(x), x) - 163963800*x^22*D[0, 0, 0, 0, 0, 0, 1, 1](xi)(y(x), x)\n",
      "37837800*x^22*D[0, 0, 0, 0, 0, 0, 1, 1](phi)(y(x), x) - 151351200*x^22*D[0, 0, 0, 0, 0, 1, 1, 1](xi)(y(x), x)\n",
      "25225200*x^22*D[0, 0, 0, 0, 0, 1, 1, 1](phi)(y(x), x) - 69369300*x^22*D[0, 0, 0, 0, 1, 1, 1, 1](xi)(y(x), x)\n",
      "6306300*x^22*D[0, 0, 0, 0, 1, 1, 1, 1](phi)(y(x), x) - 12612600*x^22*D[0, 0, 0, 1, 1, 1, 1, 1](xi)(y(x), x)\n",
      "-1801800*x^22*D[0, 0, 0, 0, 0, 0, 0, 0, 0](xi)(y(x), x)\n",
      "840840*x^22*D[0, 0, 0, 0, 0, 0, 0, 0, 0](phi)(y(x), x) - 11771760*x^22*D[0, 0, 0, 0, 0, 0, 0, 0, 1](xi)(y(x), x)\n",
      "5045040*x^22*D[0, 0, 0, 0, 0, 0, 0, 0, 1](phi)(y(x), x) - 32792760*x^22*D[0, 0, 0, 0, 0, 0, 0, 1, 1](xi)(y(x), x)\n",
      "12612600*x^22*D[0, 0, 0, 0, 0, 0, 0, 1, 1](phi)(y(x), x) - 50450400*x^22*D[0, 0, 0, 0, 0, 0, 1, 1, 1](xi)(y(x), x)\n",
      "16816800*x^22*D[0, 0, 0, 0, 0, 0, 1, 1, 1](phi)(y(x), x) - 46246200*x^22*D[0, 0, 0, 0, 0, 1, 1, 1, 1](xi)(y(x), x)\n",
      "12612600*x^22*D[0, 0, 0, 0, 0, 1, 1, 1, 1](phi)(y(x), x) - 25225200*x^22*D[0, 0, 0, 0, 1, 1, 1, 1, 1](xi)(y(x), x)\n",
      "5045040*x^22*D[0, 0, 0, 0, 1, 1, 1, 1, 1](phi)(y(x), x) - 7567560*x^22*D[0, 0, 0, 1, 1, 1, 1, 1, 1](xi)(y(x), x)\n",
      "840840*x^22*D[0, 0, 0, 1, 1, 1, 1, 1, 1](phi)(y(x), x) - 960960*x^22*D[0, 0, 1, 1, 1, 1, 1, 1, 1](xi)(y(x), x)\n",
      "-50050*x^22*D[0, 0, 0, 0, 0, 0, 0, 0, 0, 0](xi)(y(x), x)\n",
      "30030*x^22*D[0, 0, 0, 0, 0, 0, 0, 0, 0, 0](phi)(y(x), x) - 420420*x^22*D[0, 0, 0, 0, 0, 0, 0, 0, 0, 1](xi)(y(x), x)\n",
      "240240*x^22*D[0, 0, 0, 0, 0, 0, 0, 0, 0, 1](phi)(y(x), x) - 1561560*x^22*D[0, 0, 0, 0, 0, 0, 0, 0, 1, 1](xi)(y(x), x)\n",
      "840840*x^22*D[0, 0, 0, 0, 0, 0, 0, 0, 1, 1](phi)(y(x), x) - 3363360*x^22*D[0, 0, 0, 0, 0, 0, 0, 1, 1, 1](xi)(y(x), x)\n",
      "1681680*x^22*D[0, 0, 0, 0, 0, 0, 0, 1, 1, 1](phi)(y(x), x) - 4624620*x^22*D[0, 0, 0, 0, 0, 0, 1, 1, 1, 1](xi)(y(x), x)\n",
      "2102100*x^22*D[0, 0, 0, 0, 0, 0, 1, 1, 1, 1](phi)(y(x), x) - 4204200*x^22*D[0, 0, 0, 0, 0, 1, 1, 1, 1, 1](xi)(y(x), x)\n",
      "1681680*x^22*D[0, 0, 0, 0, 0, 1, 1, 1, 1, 1](phi)(y(x), x) - 2522520*x^22*D[0, 0, 0, 0, 1, 1, 1, 1, 1, 1](xi)(y(x), x)\n",
      "840840*x^22*D[0, 0, 0, 0, 1, 1, 1, 1, 1, 1](phi)(y(x), x) - 960960*x^22*D[0, 0, 0, 1, 1, 1, 1, 1, 1, 1](xi)(y(x), x)\n",
      "240240*x^22*D[0, 0, 0, 1, 1, 1, 1, 1, 1, 1](phi)(y(x), x) - 210210*x^22*D[0, 0, 1, 1, 1, 1, 1, 1, 1, 1](xi)(y(x), x)\n",
      "30030*x^22*D[0, 0, 1, 1, 1, 1, 1, 1, 1, 1](phi)(y(x), x) - 20020*x^22*D[0, 1, 1, 1, 1, 1, 1, 1, 1, 1](xi)(y(x), x)\n",
      "-4729725*x^22*D[0, 0, 0, 0, 0, 0](xi)(y(x), x)\n",
      "-28378350*x^22*D[0, 0, 0, 0, 0, 0, 0](xi)(y(x), x)\n",
      "3783780*x^22*D[0, 0, 0, 0, 0, 0, 0](phi)(y(x), x) - 52972920*x^22*D[0, 0, 0, 0, 0, 0, 1](xi)(y(x), x)\n",
      "3783780*x^22*D[0, 0, 0, 0, 0, 0, 1](phi)(y(x), x) - 24594570*x^22*D[0, 0, 0, 0, 0, 1, 1](xi)(y(x), x)\n",
      "-23648625*x^22*D[0, 0, 0, 0, 0, 0, 0, 0](xi)(y(x), x)\n",
      "6306300*x^22*D[0, 0, 0, 0, 0, 0, 0, 0](phi)(y(x), x) - 88288200*x^22*D[0, 0, 0, 0, 0, 0, 0, 1](xi)(y(x), x)\n",
      "18918900*x^22*D[0, 0, 0, 0, 0, 0, 0, 1](phi)(y(x), x) - 122972850*x^22*D[0, 0, 0, 0, 0, 0, 1, 1](xi)(y(x), x)\n",
      "18918900*x^22*D[0, 0, 0, 0, 0, 0, 1, 1](phi)(y(x), x) - 75675600*x^22*D[0, 0, 0, 0, 0, 1, 1, 1](xi)(y(x), x)\n",
      "6306300*x^22*D[0, 0, 0, 0, 0, 1, 1, 1](phi)(y(x), x) - 17342325*x^22*D[0, 0, 0, 0, 1, 1, 1, 1](xi)(y(x), x)\n",
      "-6306300*x^22*D[0, 0, 0, 0, 0, 0, 0, 0, 0](xi)(y(x), x)\n",
      "2522520*x^22*D[0, 0, 0, 0, 0, 0, 0, 0, 0](phi)(y(x), x) - 35315280*x^22*D[0, 0, 0, 0, 0, 0, 0, 0, 1](xi)(y(x), x)\n",
      "12612600*x^22*D[0, 0, 0, 0, 0, 0, 0, 0, 1](phi)(y(x), x) - 81981900*x^22*D[0, 0, 0, 0, 0, 0, 0, 1, 1](xi)(y(x), x)\n",
      "25225200*x^22*D[0, 0, 0, 0, 0, 0, 0, 1, 1](phi)(y(x), x) - 100900800*x^22*D[0, 0, 0, 0, 0, 0, 1, 1, 1](xi)(y(x), x)\n",
      "25225200*x^22*D[0, 0, 0, 0, 0, 0, 1, 1, 1](phi)(y(x), x) - 69369300*x^22*D[0, 0, 0, 0, 0, 1, 1, 1, 1](xi)(y(x), x)\n",
      "12612600*x^22*D[0, 0, 0, 0, 0, 1, 1, 1, 1](phi)(y(x), x) - 25225200*x^22*D[0, 0, 0, 0, 1, 1, 1, 1, 1](xi)(y(x), x)\n",
      "2522520*x^22*D[0, 0, 0, 0, 1, 1, 1, 1, 1](phi)(y(x), x) - 3783780*x^22*D[0, 0, 0, 1, 1, 1, 1, 1, 1](xi)(y(x), x)\n",
      "-675675*x^22*D[0, 0, 0, 0, 0, 0, 0, 0, 0, 0](xi)(y(x), x)\n",
      "360360*x^22*D[0, 0, 0, 0, 0, 0, 0, 0, 0, 0](phi)(y(x), x) - 5045040*x^22*D[0, 0, 0, 0, 0, 0, 0, 0, 0, 1](xi)(y(x), x)\n",
      "2522520*x^22*D[0, 0, 0, 0, 0, 0, 0, 0, 0, 1](phi)(y(x), x) - 16396380*x^22*D[0, 0, 0, 0, 0, 0, 0, 0, 1, 1](xi)(y(x), x)\n",
      "7567560*x^22*D[0, 0, 0, 0, 0, 0, 0, 0, 1, 1](phi)(y(x), x) - 30270240*x^22*D[0, 0, 0, 0, 0, 0, 0, 1, 1, 1](xi)(y(x), x)\n",
      "12612600*x^22*D[0, 0, 0, 0, 0, 0, 0, 1, 1, 1](phi)(y(x), x) - 34684650*x^22*D[0, 0, 0, 0, 0, 0, 1, 1, 1, 1](xi)(y(x), x)\n",
      "12612600*x^22*D[0, 0, 0, 0, 0, 0, 1, 1, 1, 1](phi)(y(x), x) - 25225200*x^22*D[0, 0, 0, 0, 0, 1, 1, 1, 1, 1](xi)(y(x), x)\n",
      "7567560*x^22*D[0, 0, 0, 0, 0, 1, 1, 1, 1, 1](phi)(y(x), x) - 11351340*x^22*D[0, 0, 0, 0, 1, 1, 1, 1, 1, 1](xi)(y(x), x)\n",
      "2522520*x^22*D[0, 0, 0, 0, 1, 1, 1, 1, 1, 1](phi)(y(x), x) - 2882880*x^22*D[0, 0, 0, 1, 1, 1, 1, 1, 1, 1](xi)(y(x), x)\n",
      "360360*x^22*D[0, 0, 0, 1, 1, 1, 1, 1, 1, 1](phi)(y(x), x) - 315315*x^22*D[0, 0, 1, 1, 1, 1, 1, 1, 1, 1](xi)(y(x), x)\n",
      "-30030*x^22*D[0, 0, 0, 0, 0, 0, 0, 0, 0, 0, 0](xi)(y(x), x)\n",
      "20020*x^22*D[0, 0, 0, 0, 0, 0, 0, 0, 0, 0, 0](phi)(y(x), x) - 280280*x^22*D[0, 0, 0, 0, 0, 0, 0, 0, 0, 0, 1](xi)(y(x), x)\n",
      "180180*x^22*D[0, 0, 0, 0, 0, 0, 0, 0, 0, 0, 1](phi)(y(x), x) - 1171170*x^22*D[0, 0, 0, 0, 0, 0, 0, 0, 0, 1, 1](xi)(y(x), x)\n",
      "720720*x^22*D[0, 0, 0, 0, 0, 0, 0, 0, 0, 1, 1](phi)(y(x), x) - 2882880*x^22*D[0, 0, 0, 0, 0, 0, 0, 0, 1, 1, 1](xi)(y(x), x)\n",
      "1681680*x^22*D[0, 0, 0, 0, 0, 0, 0, 0, 1, 1, 1](phi)(y(x), x) - 4624620*x^22*D[0, 0, 0, 0, 0, 0, 0, 1, 1, 1, 1](xi)(y(x), x)\n",
      "2522520*x^22*D[0, 0, 0, 0, 0, 0, 0, 1, 1, 1, 1](phi)(y(x), x) - 5045040*x^22*D[0, 0, 0, 0, 0, 0, 1, 1, 1, 1, 1](xi)(y(x), x)\n",
      "2522520*x^22*D[0, 0, 0, 0, 0, 0, 1, 1, 1, 1, 1](phi)(y(x), x) - 3783780*x^22*D[0, 0, 0, 0, 0, 1, 1, 1, 1, 1, 1](xi)(y(x), x)\n",
      "1681680*x^22*D[0, 0, 0, 0, 0, 1, 1, 1, 1, 1, 1](phi)(y(x), x) - 1921920*x^22*D[0, 0, 0, 0, 1, 1, 1, 1, 1, 1, 1](xi)(y(x), x)\n",
      "720720*x^22*D[0, 0, 0, 0, 1, 1, 1, 1, 1, 1, 1](phi)(y(x), x) - 630630*x^22*D[0, 0, 0, 1, 1, 1, 1, 1, 1, 1, 1](xi)(y(x), x)\n",
      "180180*x^22*D[0, 0, 0, 1, 1, 1, 1, 1, 1, 1, 1](phi)(y(x), x) - 120120*x^22*D[0, 0, 1, 1, 1, 1, 1, 1, 1, 1, 1](xi)(y(x), x)\n",
      "a(x)*y(x) + b(x)\n",
      "2*a(x)*y(x) + 2*b(x)\n",
      "20020*x^22*D[0, 0, 1, 1, 1, 1, 1, 1, 1, 1, 1](phi)(y(x), x) - 10010*x^22*D[0, 1, 1, 1, 1, 1, 1, 1, 1, 1, 1](xi)(y(x), x) - 10*f(x)*D[0](xi)(y(x), x)\n",
      "-455*x^22*D[0, 0, 0, 0, 0, 0, 0, 0, 0, 0, 0, 0](xi)(y(x), x)\n",
      "364*x^22*D[0, 0, 0, 0, 0, 0, 0, 0, 0, 0, 0, 0](phi)(y(x), x) - 5096*x^22*D[0, 0, 0, 0, 0, 0, 0, 0, 0, 0, 0, 1](xi)(y(x), x)\n",
      "4004*x^22*D[0, 0, 0, 0, 0, 0, 0, 0, 0, 0, 0, 1](phi)(y(x), x) - 26026*x^22*D[0, 0, 0, 0, 0, 0, 0, 0, 0, 0, 1, 1](xi)(y(x), x)\n",
      "20020*x^22*D[0, 0, 0, 0, 0, 0, 0, 0, 0, 0, 1, 1](phi)(y(x), x) - 80080*x^22*D[0, 0, 0, 0, 0, 0, 0, 0, 0, 1, 1, 1](xi)(y(x), x)\n",
      "60060*x^22*D[0, 0, 0, 0, 0, 0, 0, 0, 0, 1, 1, 1](phi)(y(x), x) - 165165*x^22*D[0, 0, 0, 0, 0, 0, 0, 0, 1, 1, 1, 1](xi)(y(x), x)\n",
      "120120*x^22*D[0, 0, 0, 0, 0, 0, 0, 0, 1, 1, 1, 1](phi)(y(x), x) - 240240*x^22*D[0, 0, 0, 0, 0, 0, 0, 1, 1, 1, 1, 1](xi)(y(x), x)\n",
      "168168*x^22*D[0, 0, 0, 0, 0, 0, 0, 1, 1, 1, 1, 1](phi)(y(x), x) - 252252*x^22*D[0, 0, 0, 0, 0, 0, 1, 1, 1, 1, 1, 1](xi)(y(x), x)\n",
      "168168*x^22*D[0, 0, 0, 0, 0, 0, 1, 1, 1, 1, 1, 1](phi)(y(x), x) - 192192*x^22*D[0, 0, 0, 0, 0, 1, 1, 1, 1, 1, 1, 1](xi)(y(x), x)\n",
      "120120*x^22*D[0, 0, 0, 0, 0, 1, 1, 1, 1, 1, 1, 1](phi)(y(x), x) - 105105*x^22*D[0, 0, 0, 0, 1, 1, 1, 1, 1, 1, 1, 1](xi)(y(x), x)\n",
      "60060*x^22*D[0, 0, 0, 0, 1, 1, 1, 1, 1, 1, 1, 1](phi)(y(x), x) - 40040*x^22*D[0, 0, 0, 1, 1, 1, 1, 1, 1, 1, 1, 1](xi)(y(x), x)\n",
      "20020*x^22*D[0, 0, 0, 1, 1, 1, 1, 1, 1, 1, 1, 1](phi)(y(x), x) - 10010*x^22*D[0, 0, 1, 1, 1, 1, 1, 1, 1, 1, 1, 1](xi)(y(x), x) - 10*f(x)*D[0, 0](xi)(y(x), x)\n",
      "22*D[0](xi)(y(x), x)\n",
      "-44*(a(x)*y(x) + b(x))/x + 22*D[1](xi)(y(x), x)\n",
      "4004*x^22*D[0, 0, 1, 1, 1, 1, 1, 1, 1, 1, 1, 1](phi)(y(x), x) - 1456*x^22*D[0, 1, 1, 1, 1, 1, 1, 1, 1, 1, 1, 1](xi)(y(x), x) + 4*f(x)*D[0, 0](phi)(y(x), x) - 16*f(x)*D[0, 1](xi)(y(x), x)\n",
      "364*x^22*D[0, 1, 1, 1, 1, 1, 1, 1, 1, 1, 1, 1](phi)(y(x), x) - 91*x^22*D[1, 1, 1, 1, 1, 1, 1, 1, 1, 1, 1, 1](xi)(y(x), x) + 4*f(x)*D[0, 1](phi)(y(x), x) - 6*f(x)*D[1, 1](xi)(y(x), x)\n",
      "-2027025*x^22*D[0, 0, 0, 0, 0, 0, 0](xi)(y(x), x)\n",
      "135135*x^22*D[0, 0, 0, 0, 0, 0, 0](phi)(y(x), x) - 1891890*x^22*D[0, 0, 0, 0, 0, 0, 1](xi)(y(x), x)\n",
      "-4729725*x^22*D[0, 0, 0, 0, 0, 0, 0, 0](xi)(y(x), x)\n",
      "945945*x^22*D[0, 0, 0, 0, 0, 0, 0, 0](phi)(y(x), x) - 13243230*x^22*D[0, 0, 0, 0, 0, 0, 0, 1](xi)(y(x), x)\n",
      "1891890*x^22*D[0, 0, 0, 0, 0, 0, 0, 1](phi)(y(x), x) - 12297285*x^22*D[0, 0, 0, 0, 0, 0, 1, 1](xi)(y(x), x)\n",
      "945945*x^22*D[0, 0, 0, 0, 0, 0, 1, 1](phi)(y(x), x) - 3783780*x^22*D[0, 0, 0, 0, 0, 1, 1, 1](xi)(y(x), x)\n",
      "-2837835*x^22*D[0, 0, 0, 0, 0, 0, 0, 0, 0](xi)(y(x), x)\n",
      "945945*x^22*D[0, 0, 0, 0, 0, 0, 0, 0, 0](phi)(y(x), x) - 13243230*x^22*D[0, 0, 0, 0, 0, 0, 0, 0, 1](xi)(y(x), x)\n",
      "3783780*x^22*D[0, 0, 0, 0, 0, 0, 0, 0, 1](phi)(y(x), x) - 24594570*x^22*D[0, 0, 0, 0, 0, 0, 0, 1, 1](xi)(y(x), x)\n",
      "5675670*x^22*D[0, 0, 0, 0, 0, 0, 0, 1, 1](phi)(y(x), x) - 22702680*x^22*D[0, 0, 0, 0, 0, 0, 1, 1, 1](xi)(y(x), x)\n",
      "3783780*x^22*D[0, 0, 0, 0, 0, 0, 1, 1, 1](phi)(y(x), x) - 10405395*x^22*D[0, 0, 0, 0, 0, 1, 1, 1, 1](xi)(y(x), x)\n",
      "945945*x^22*D[0, 0, 0, 0, 0, 1, 1, 1, 1](phi)(y(x), x) - 1891890*x^22*D[0, 0, 0, 0, 1, 1, 1, 1, 1](xi)(y(x), x)\n",
      "-675675*x^22*D[0, 0, 0, 0, 0, 0, 0, 0, 0, 0](xi)(y(x), x)\n",
      "315315*x^22*D[0, 0, 0, 0, 0, 0, 0, 0, 0, 0](phi)(y(x), x) - 4414410*x^22*D[0, 0, 0, 0, 0, 0, 0, 0, 0, 1](xi)(y(x), x)\n",
      "1891890*x^22*D[0, 0, 0, 0, 0, 0, 0, 0, 0, 1](phi)(y(x), x) - 12297285*x^22*D[0, 0, 0, 0, 0, 0, 0, 0, 1, 1](xi)(y(x), x)\n",
      "4729725*x^22*D[0, 0, 0, 0, 0, 0, 0, 0, 1, 1](phi)(y(x), x) - 18918900*x^22*D[0, 0, 0, 0, 0, 0, 0, 1, 1, 1](xi)(y(x), x)\n",
      "6306300*x^22*D[0, 0, 0, 0, 0, 0, 0, 1, 1, 1](phi)(y(x), x) - 17342325*x^22*D[0, 0, 0, 0, 0, 0, 1, 1, 1, 1](xi)(y(x), x)\n",
      "4729725*x^22*D[0, 0, 0, 0, 0, 0, 1, 1, 1, 1](phi)(y(x), x) - 9459450*x^22*D[0, 0, 0, 0, 0, 1, 1, 1, 1, 1](xi)(y(x), x)\n",
      "1891890*x^22*D[0, 0, 0, 0, 0, 1, 1, 1, 1, 1](phi)(y(x), x) - 2837835*x^22*D[0, 0, 0, 0, 1, 1, 1, 1, 1, 1](xi)(y(x), x)\n",
      "315315*x^22*D[0, 0, 0, 0, 1, 1, 1, 1, 1, 1](phi)(y(x), x) - 360360*x^22*D[0, 0, 0, 1, 1, 1, 1, 1, 1, 1](xi)(y(x), x)\n",
      "-75075*x^22*D[0, 0, 0, 0, 0, 0, 0, 0, 0, 0, 0](xi)(y(x), x)\n",
      "45045*x^22*D[0, 0, 0, 0, 0, 0, 0, 0, 0, 0, 0](phi)(y(x), x) - 630630*x^22*D[0, 0, 0, 0, 0, 0, 0, 0, 0, 0, 1](xi)(y(x), x)\n",
      "360360*x^22*D[0, 0, 0, 0, 0, 0, 0, 0, 0, 0, 1](phi)(y(x), x) - 2342340*x^22*D[0, 0, 0, 0, 0, 0, 0, 0, 0, 1, 1](xi)(y(x), x)\n",
      "1261260*x^22*D[0, 0, 0, 0, 0, 0, 0, 0, 0, 1, 1](phi)(y(x), x) - 5045040*x^22*D[0, 0, 0, 0, 0, 0, 0, 0, 1, 1, 1](xi)(y(x), x)\n",
      "2522520*x^22*D[0, 0, 0, 0, 0, 0, 0, 0, 1, 1, 1](phi)(y(x), x) - 6936930*x^22*D[0, 0, 0, 0, 0, 0, 0, 1, 1, 1, 1](xi)(y(x), x)\n",
      "3153150*x^22*D[0, 0, 0, 0, 0, 0, 0, 1, 1, 1, 1](phi)(y(x), x) - 6306300*x^22*D[0, 0, 0, 0, 0, 0, 1, 1, 1, 1, 1](xi)(y(x), x)\n",
      "2522520*x^22*D[0, 0, 0, 0, 0, 0, 1, 1, 1, 1, 1](phi)(y(x), x) - 3783780*x^22*D[0, 0, 0, 0, 0, 1, 1, 1, 1, 1, 1](xi)(y(x), x)\n",
      "1261260*x^22*D[0, 0, 0, 0, 0, 1, 1, 1, 1, 1, 1](phi)(y(x), x) - 1441440*x^22*D[0, 0, 0, 0, 1, 1, 1, 1, 1, 1, 1](xi)(y(x), x)\n",
      "360360*x^22*D[0, 0, 0, 0, 1, 1, 1, 1, 1, 1, 1](phi)(y(x), x) - 315315*x^22*D[0, 0, 0, 1, 1, 1, 1, 1, 1, 1, 1](xi)(y(x), x)\n",
      "45045*x^22*D[0, 0, 0, 1, 1, 1, 1, 1, 1, 1, 1](phi)(y(x), x) - 30030*x^22*D[0, 0, 1, 1, 1, 1, 1, 1, 1, 1, 1](xi)(y(x), x)\n",
      "-4095*x^22*D[0, 0, 0, 0, 0, 0, 0, 0, 0, 0, 0, 0](xi)(y(x), x)\n",
      "3003*x^22*D[0, 0, 0, 0, 0, 0, 0, 0, 0, 0, 0, 0](phi)(y(x), x) - 42042*x^22*D[0, 0, 0, 0, 0, 0, 0, 0, 0, 0, 0, 1](xi)(y(x), x)\n",
      "30030*x^22*D[0, 0, 0, 0, 0, 0, 0, 0, 0, 0, 0, 1](phi)(y(x), x) - 195195*x^22*D[0, 0, 0, 0, 0, 0, 0, 0, 0, 0, 1, 1](xi)(y(x), x)\n",
      "135135*x^22*D[0, 0, 0, 0, 0, 0, 0, 0, 0, 0, 1, 1](phi)(y(x), x) - 540540*x^22*D[0, 0, 0, 0, 0, 0, 0, 0, 0, 1, 1, 1](xi)(y(x), x)\n",
      "360360*x^22*D[0, 0, 0, 0, 0, 0, 0, 0, 0, 1, 1, 1](phi)(y(x), x) - 990990*x^22*D[0, 0, 0, 0, 0, 0, 0, 0, 1, 1, 1, 1](xi)(y(x), x)\n",
      "630630*x^22*D[0, 0, 0, 0, 0, 0, 0, 0, 1, 1, 1, 1](phi)(y(x), x) - 1261260*x^22*D[0, 0, 0, 0, 0, 0, 0, 1, 1, 1, 1, 1](xi)(y(x), x)\n",
      "756756*x^22*D[0, 0, 0, 0, 0, 0, 0, 1, 1, 1, 1, 1](phi)(y(x), x) - 1135134*x^22*D[0, 0, 0, 0, 0, 0, 1, 1, 1, 1, 1, 1](xi)(y(x), x)\n",
      "630630*x^22*D[0, 0, 0, 0, 0, 0, 1, 1, 1, 1, 1, 1](phi)(y(x), x) - 720720*x^22*D[0, 0, 0, 0, 0, 1, 1, 1, 1, 1, 1, 1](xi)(y(x), x)\n",
      "360360*x^22*D[0, 0, 0, 0, 0, 1, 1, 1, 1, 1, 1, 1](phi)(y(x), x) - 315315*x^22*D[0, 0, 0, 0, 1, 1, 1, 1, 1, 1, 1, 1](xi)(y(x), x)\n",
      "135135*x^22*D[0, 0, 0, 0, 1, 1, 1, 1, 1, 1, 1, 1](phi)(y(x), x) - 90090*x^22*D[0, 0, 0, 1, 1, 1, 1, 1, 1, 1, 1, 1](xi)(y(x), x)\n",
      "30030*x^22*D[0, 0, 0, 1, 1, 1, 1, 1, 1, 1, 1, 1](phi)(y(x), x) - 15015*x^22*D[0, 0, 1, 1, 1, 1, 1, 1, 1, 1, 1, 1](xi)(y(x), x) - 15*f(x)*D[0, 0](xi)(y(x), x)\n",
      "-6*D[0](xi)(y(x), x)\n",
      "3003*x^22*D[0, 0, 1, 1, 1, 1, 1, 1, 1, 1, 1, 1](phi)(y(x), x) - 1092*x^22*D[0, 1, 1, 1, 1, 1, 1, 1, 1, 1, 1, 1](xi)(y(x), x) + 3*f(x)*D[0, 0](phi)(y(x), x) - 12*f(x)*D[0, 1](xi)(y(x), x)\n",
      "-105*x^22*D[0, 0, 0, 0, 0, 0, 0, 0, 0, 0, 0, 0, 0](xi)(y(x), x)\n",
      "91*x^22*D[0, 0, 0, 0, 0, 0, 0, 0, 0, 0, 0, 0, 0](phi)(y(x), x) - 1274*x^22*D[0, 0, 0, 0, 0, 0, 0, 0, 0, 0, 0, 0, 1](xi)(y(x), x)\n",
      "1092*x^22*D[0, 0, 0, 0, 0, 0, 0, 0, 0, 0, 0, 0, 1](phi)(y(x), x) - 7098*x^22*D[0, 0, 0, 0, 0, 0, 0, 0, 0, 0, 0, 1, 1](xi)(y(x), x)\n",
      "6006*x^22*D[0, 0, 0, 0, 0, 0, 0, 0, 0, 0, 0, 1, 1](phi)(y(x), x) - 24024*x^22*D[0, 0, 0, 0, 0, 0, 0, 0, 0, 0, 1, 1, 1](xi)(y(x), x)\n",
      "20020*x^22*D[0, 0, 0, 0, 0, 0, 0, 0, 0, 0, 1, 1, 1](phi)(y(x), x) - 55055*x^22*D[0, 0, 0, 0, 0, 0, 0, 0, 0, 1, 1, 1, 1](xi)(y(x), x)\n",
      "45045*x^22*D[0, 0, 0, 0, 0, 0, 0, 0, 0, 1, 1, 1, 1](phi)(y(x), x) - 90090*x^22*D[0, 0, 0, 0, 0, 0, 0, 0, 1, 1, 1, 1, 1](xi)(y(x), x)\n",
      "72072*x^22*D[0, 0, 0, 0, 0, 0, 0, 0, 1, 1, 1, 1, 1](phi)(y(x), x) - 108108*x^22*D[0, 0, 0, 0, 0, 0, 0, 1, 1, 1, 1, 1, 1](xi)(y(x), x)\n",
      "84084*x^22*D[0, 0, 0, 0, 0, 0, 0, 1, 1, 1, 1, 1, 1](phi)(y(x), x) - 96096*x^22*D[0, 0, 0, 0, 0, 0, 1, 1, 1, 1, 1, 1, 1](xi)(y(x), x)\n",
      "72072*x^22*D[0, 0, 0, 0, 0, 0, 1, 1, 1, 1, 1, 1, 1](phi)(y(x), x) - 63063*x^22*D[0, 0, 0, 0, 0, 1, 1, 1, 1, 1, 1, 1, 1](xi)(y(x), x)\n",
      "45045*x^22*D[0, 0, 0, 0, 0, 1, 1, 1, 1, 1, 1, 1, 1](phi)(y(x), x) - 30030*x^22*D[0, 0, 0, 0, 1, 1, 1, 1, 1, 1, 1, 1, 1](xi)(y(x), x)\n",
      "20020*x^22*D[0, 0, 0, 0, 1, 1, 1, 1, 1, 1, 1, 1, 1](phi)(y(x), x) - 10010*x^22*D[0, 0, 0, 1, 1, 1, 1, 1, 1, 1, 1, 1, 1](xi)(y(x), x) - 10*f(x)*D[0, 0, 0](xi)(y(x), x)\n",
      "-D[0, 0](xi)(y(x), x)\n",
      "6006*x^22*D[0, 0, 0, 1, 1, 1, 1, 1, 1, 1, 1, 1, 1](phi)(y(x), x) - 2184*x^22*D[0, 0, 1, 1, 1, 1, 1, 1, 1, 1, 1, 1, 1](xi)(y(x), x) + 6*f(x)*D[0, 0, 0](phi)(y(x), x) - 12*diff(f(x), x)*D[0, 0](xi)(y(x), x) - 24*f(x)*D[0, 0, 1](xi)(y(x), x)\n",
      "D[0, 0](phi)(y(x), x) - 2*D[0, 1](xi)(y(x), x)\n",
      "12*D[0](xi)(y(x), x)*diff(y(x), x, x) + 2*D[0, 1](phi)(y(x), x) - D[1, 1](xi)(y(x), x)\n",
      "1092*x^22*D[0, 0, 1, 1, 1, 1, 1, 1, 1, 1, 1, 1, 1](phi)(y(x), x) - 273*x^22*D[0, 1, 1, 1, 1, 1, 1, 1, 1, 1, 1, 1, 1](xi)(y(x), x) + 6*diff(f(x), x)*D[0, 0](phi)(y(x), x) + 12*f(x)*D[0, 0, 1](phi)(y(x), x) - 18*diff(f(x), x)*D[0, 1](xi)(y(x), x) - 18*f(x)*D[0, 1, 1](xi)(y(x), x)\n",
      "6*D[0, 1](phi)(y(x), x) - 6*D[1, 1](xi)(y(x), x)\n",
      "12*D[1](xi)(y(x), x)*diff(y(x), x, x) - 22*(a(x)*y(x) + b(x))*diff(y(x), x, x)/x + D[1, 1](phi)(y(x), x)\n",
      "91*x^22*D[0, 1, 1, 1, 1, 1, 1, 1, 1, 1, 1, 1, 1](phi)(y(x), x) - 14*x^22*D[1, 1, 1, 1, 1, 1, 1, 1, 1, 1, 1, 1, 1](xi)(y(x), x) + 6*f(x)*D[0, 1, 1](phi)(y(x), x) - 4*f(x)*D[1, 1, 1](xi)(y(x), x)\n",
      "-x^22*D[0, 0, 0, 0, 0, 0, 0, 0, 0, 0, 0, 0, 0, 0](xi)(y(x), x)\n",
      "x^22*D[0, 0, 0, 0, 0, 0, 0, 0, 0, 0, 0, 0, 0, 0](phi)(y(x), x) - 14*x^22*D[0, 0, 0, 0, 0, 0, 0, 0, 0, 0, 0, 0, 0, 1](xi)(y(x), x)\n",
      "14*x^22*D[0, 0, 0, 0, 0, 0, 0, 0, 0, 0, 0, 0, 0, 1](phi)(y(x), x) - 91*x^22*D[0, 0, 0, 0, 0, 0, 0, 0, 0, 0, 0, 0, 1, 1](xi)(y(x), x)\n",
      "91*x^22*D[0, 0, 0, 0, 0, 0, 0, 0, 0, 0, 0, 0, 1, 1](phi)(y(x), x) - 364*x^22*D[0, 0, 0, 0, 0, 0, 0, 0, 0, 0, 0, 1, 1, 1](xi)(y(x), x)\n",
      "364*x^22*D[0, 0, 0, 0, 0, 0, 0, 0, 0, 0, 0, 1, 1, 1](phi)(y(x), x) - 1001*x^22*D[0, 0, 0, 0, 0, 0, 0, 0, 0, 0, 1, 1, 1, 1](xi)(y(x), x)\n",
      "1001*x^22*D[0, 0, 0, 0, 0, 0, 0, 0, 0, 0, 1, 1, 1, 1](phi)(y(x), x) - 2002*x^22*D[0, 0, 0, 0, 0, 0, 0, 0, 0, 1, 1, 1, 1, 1](xi)(y(x), x)\n",
      "2002*x^22*D[0, 0, 0, 0, 0, 0, 0, 0, 0, 1, 1, 1, 1, 1](phi)(y(x), x) - 3003*x^22*D[0, 0, 0, 0, 0, 0, 0, 0, 1, 1, 1, 1, 1, 1](xi)(y(x), x)\n",
      "3003*x^22*D[0, 0, 0, 0, 0, 0, 0, 0, 1, 1, 1, 1, 1, 1](phi)(y(x), x) - 3432*x^22*D[0, 0, 0, 0, 0, 0, 0, 1, 1, 1, 1, 1, 1, 1](xi)(y(x), x)\n",
      "3432*x^22*D[0, 0, 0, 0, 0, 0, 0, 1, 1, 1, 1, 1, 1, 1](phi)(y(x), x) - 3003*x^22*D[0, 0, 0, 0, 0, 0, 1, 1, 1, 1, 1, 1, 1, 1](xi)(y(x), x)\n",
      "3003*x^22*D[0, 0, 0, 0, 0, 0, 1, 1, 1, 1, 1, 1, 1, 1](phi)(y(x), x) - 2002*x^22*D[0, 0, 0, 0, 0, 1, 1, 1, 1, 1, 1, 1, 1, 1](xi)(y(x), x)\n",
      "2002*x^22*D[0, 0, 0, 0, 0, 1, 1, 1, 1, 1, 1, 1, 1, 1](phi)(y(x), x) - 1001*x^22*D[0, 0, 0, 0, 1, 1, 1, 1, 1, 1, 1, 1, 1, 1](xi)(y(x), x) - f(x)*D[0, 0, 0, 0](xi)(y(x), x)\n",
      "1001*x^22*D[0, 0, 0, 0, 1, 1, 1, 1, 1, 1, 1, 1, 1, 1](phi)(y(x), x) - 364*x^22*D[0, 0, 0, 1, 1, 1, 1, 1, 1, 1, 1, 1, 1, 1](xi)(y(x), x) + f(x)*D[0, 0, 0, 0](phi)(y(x), x) - 2*diff(f(x), x)*D[0, 0, 0](xi)(y(x), x) - 4*f(x)*D[0, 0, 0, 1](xi)(y(x), x)\n",
      "364*x^22*D[0, 0, 0, 1, 1, 1, 1, 1, 1, 1, 1, 1, 1, 1](phi)(y(x), x) - 91*x^22*D[0, 0, 1, 1, 1, 1, 1, 1, 1, 1, 1, 1, 1, 1](xi)(y(x), x) + 2*diff(f(x), x)*D[0, 0, 0](phi)(y(x), x) + 4*f(x)*D[0, 0, 0, 1](phi)(y(x), x) - 6*diff(f(x), x)*D[0, 0, 1](xi)(y(x), x) - 6*f(x)*D[0, 0, 1, 1](xi)(y(x), x)\n",
      "91*x^22*D[0, 0, 1, 1, 1, 1, 1, 1, 1, 1, 1, 1, 1, 1](phi)(y(x), x) - 14*x^22*D[0, 1, 1, 1, 1, 1, 1, 1, 1, 1, 1, 1, 1, 1](xi)(y(x), x) + 6*diff(f(x), x)*D[0, 0, 1](phi)(y(x), x) + 6*f(x)*D[0, 0, 1, 1](phi)(y(x), x) - 6*diff(f(x), x)*D[0, 1, 1](xi)(y(x), x) - 4*f(x)*D[0, 1, 1, 1](xi)(y(x), x)\n",
      "-a(x)*y(x) + 6*D[0, 1, 1](phi)(y(x), x)*diff(y(x), x) - 2*D[1, 1, 1](xi)(y(x), x)*diff(y(x), x) - b(x) + 2*D[1, 1, 1](phi)(y(x), x)\n",
      "14*x^22*D[0, 1, 1, 1, 1, 1, 1, 1, 1, 1, 1, 1, 1, 1](phi)(y(x), x) - x^22*D[1, 1, 1, 1, 1, 1, 1, 1, 1, 1, 1, 1, 1, 1](xi)(y(x), x) + 4*f(x)*D[0, 1, 1, 1](phi)(y(x), x) - 15*f(x)*D[0](xi)(y(x), x) - f(x)*D[1, 1, 1, 1](xi)(y(x), x)\n",
      "x^22*D[1, 1, 1, 1, 1, 1, 1, 1, 1, 1, 1, 1, 1, 1](phi)(y(x), x) + f(x)*D[0](phi)(y(x), x) + f(x)*D[1, 1, 1, 1](phi)(y(x), x) - 14*f(x)*D[1](xi)(y(x), x) + 22*(a(x)*y(x) + b(x))*f(x)/x\n"
     ]
    }
   ],
   "source": [
    "for _ in inf1:\n",
    "    print(_)"
   ]
  },
  {
   "cell_type": "code",
   "execution_count": null,
   "id": "39a489f8-43fc-45ec-bddf-aefd8099f25e",
   "metadata": {},
   "outputs": [],
   "source": []
  }
 ],
 "metadata": {
  "kernelspec": {
   "display_name": "SageMath 9.8",
   "language": "sage",
   "name": "sagemath"
  },
  "language_info": {
   "codemirror_mode": {
    "name": "ipython",
    "version": 3
   },
   "file_extension": ".py",
   "mimetype": "text/x-python",
   "name": "python",
   "nbconvert_exporter": "python",
   "pygments_lexer": "ipython3",
   "version": "3.10.7"
  },
  "widgets": {
   "application/vnd.jupyter.widget-state+json": {
    "state": {},
    "version_major": 2,
    "version_minor": 0
   }
  }
 },
 "nbformat": 4,
 "nbformat_minor": 5
}
