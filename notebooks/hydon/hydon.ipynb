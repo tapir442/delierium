{
 "cells": [
  {
   "cell_type": "code",
   "execution_count": 1,
   "id": "713697b3-8d10-468c-8bb8-56780d275159",
   "metadata": {},
   "outputs": [],
   "source": [
    "from delierium.Infinitesimals import prolongationODE, overdeterminedSystemODE\n",
    "from delierium.JanetBasis import Janet_Basis\n",
    "from delierium.matrix_order import Context\n",
    "from delierium.helpers import latexer\n",
    "from sage.misc.html import html\n",
    "from IPython.core.debugger import set_trace\n",
    "from IPython.display import Math "
   ]
  },
  {
   "cell_type": "code",
   "execution_count": 6,
   "id": "7e210dda-8fe7-4b09-a186-e7c2fb2462fb",
   "metadata": {},
   "outputs": [
    {
     "data": {
      "text/html": [
       "<html>\\(\\displaystyle y\\left(x\\right)^{2} - \\frac{\\frac{\\partial}{\\partial x}y\\left(x\\right)^{2}}{y\\left(x\\right)} + \\frac{\\partial^{2}}{(\\partial x)^{2}}y\\left(x\\right)\\)</html>"
      ],
      "text/latex": [
       "$\\displaystyle y\\left(x\\right)^{2} - \\frac{\\frac{\\partial}{\\partial x}y\\left(x\\right)^{2}}{y\\left(x\\right)} + \\frac{\\partial^{2}}{(\\partial x)^{2}}y\\left(x\\right)$"
      ],
      "text/plain": [
       "y(x)^2 - diff(y(x), x)^2/y(x) + diff(y(x), x, x)"
      ]
     },
     "metadata": {},
     "output_type": "display_data"
    }
   ],
   "source": [
    "# Example 3.3\n",
    "x=var('x')\n",
    "y=function('y')\n",
    "ode = diff(y(x), x,x) - diff(y(x), x)**2/y(x) + y(x)**2\n",
    "ode.show()\n"
   ]
  },
  {
   "cell_type": "code",
   "execution_count": 7,
   "id": "3deadeb9-5765-4820-8bc1-4580b4bfd6eb",
   "metadata": {},
   "outputs": [
    {
     "name": "stdout",
     "output_type": "stream",
     "text": [
      "determining system:\n"
     ]
    },
    {
     "data": {
      "text/latex": [
       "$\\displaystyle 2  X_{y}/y -  X_{yy}$"
      ],
      "text/plain": [
       "<IPython.core.display.Math object>"
      ]
     },
     "metadata": {},
     "output_type": "display_data"
    },
    {
     "data": {
      "text/latex": [
       "$\\displaystyle - Y_{y}/y + Y/y^2 - 2  X_{yx} +  Y_{yy}$"
      ],
      "text/plain": [
       "<IPython.core.display.Math object>"
      ]
     },
     "metadata": {},
     "output_type": "display_data"
    },
    {
     "data": {
      "text/latex": [
       "$\\displaystyle 3 y^2  X_{y} - 2  Y_{x}/y -  X_{xx} + 2  Y_{yx}$"
      ],
      "text/plain": [
       "<IPython.core.display.Math object>"
      ]
     },
     "metadata": {},
     "output_type": "display_data"
    },
    {
     "data": {
      "text/latex": [
       "$\\displaystyle 2 y^2  X_{x} - y^2  Y_{y} - 3  X_{y} y_{x}^3/y + 2 Y y +  Y_{xx}$"
      ],
      "text/plain": [
       "<IPython.core.display.Math object>"
      ]
     },
     "metadata": {},
     "output_type": "display_data"
    }
   ],
   "source": [
    "X=function('X')\n",
    "Y=function('Y')\n",
    "inf = overdeterminedSystemODE(ode, y, x, infinitesimals=(X,Y))\n",
    "print(\"determining system:\")\n",
    "for _ in inf:\n",
    "    display(Math(latexer(_)))"
   ]
  },
  {
   "cell_type": "code",
   "execution_count": 8,
   "id": "e30de7c2-df55-4550-904f-2f5ca4289771",
   "metadata": {},
   "outputs": [],
   "source": [
    "# doesn't look too bad"
   ]
  },
  {
   "cell_type": "code",
   "execution_count": 11,
   "id": "a88ccaf1-1277-4763-b6db-652b42297a8c",
   "metadata": {},
   "outputs": [
    {
     "data": {
      "text/html": [
       "<html>\\(\\displaystyle {\\left(2 \\, x - \\frac{3}{x}\\right)} \\frac{\\partial}{\\partial x}y\\left(x\\right) - 4 \\, y\\left(x\\right) + \\frac{\\partial^{2}}{(\\partial x)^{2}}y\\left(x\\right)\\)</html>"
      ],
      "text/latex": [
       "$\\displaystyle {\\left(2 \\, x - \\frac{3}{x}\\right)} \\frac{\\partial}{\\partial x}y\\left(x\\right) - 4 \\, y\\left(x\\right) + \\frac{\\partial^{2}}{(\\partial x)^{2}}y\\left(x\\right)$"
      ],
      "text/plain": [
       "(2*x - 3/x)*diff(y(x), x) - 4*y(x) + diff(y(x), x, x)"
      ]
     },
     "metadata": {},
     "output_type": "display_data"
    },
    {
     "name": "stdout",
     "output_type": "stream",
     "text": [
      "determining system:\n"
     ]
    },
    {
     "data": {
      "text/latex": [
       "$\\displaystyle - X_{yy}$"
      ],
      "text/plain": [
       "<IPython.core.display.Math object>"
      ]
     },
     "metadata": {},
     "output_type": "display_data"
    },
    {
     "data": {
      "text/latex": [
       "$\\displaystyle 4 x  X_{y} - 6  X_{y}/x - 2  X_{yx} +  Y_{yy}$"
      ],
      "text/plain": [
       "<IPython.core.display.Math object>"
      ]
     },
     "metadata": {},
     "output_type": "display_data"
    },
    {
     "data": {
      "text/latex": [
       "$\\displaystyle -12 y  X_{y} + 2 x  X_{x} - 3  X_{x}/x + 3 X/x^2 + 2 X -  X_{xx} + 2  Y_{yx}$"
      ],
      "text/plain": [
       "<IPython.core.display.Math object>"
      ]
     },
     "metadata": {},
     "output_type": "display_data"
    },
    {
     "data": {
      "text/latex": [
       "$\\displaystyle -8 y  X_{x} + 4 y  Y_{y} + 2 x  Y_{x} - 3  Y_{x}/x - 4 Y +  Y_{xx}$"
      ],
      "text/plain": [
       "<IPython.core.display.Math object>"
      ]
     },
     "metadata": {},
     "output_type": "display_data"
    }
   ],
   "source": [
    "# example 4.1\n",
    "x=var('x')\n",
    "y=function('y')\n",
    "ode = diff(y(x), x,x) - diff(y(x), x)*(3/x - 2*x) - 4*y(x)\n",
    "ode.show()\n",
    "X=function('X')\n",
    "Y=function('Y')\n",
    "inf = overdeterminedSystemODE(ode, y, x, infinitesimals=(X,Y))\n",
    "print(\"determining system:\")\n",
    "for _ in inf:\n",
    "    display(Math(latexer(_)))\n",
    "\n"
   ]
  },
  {
   "cell_type": "code",
   "execution_count": null,
   "id": "cf76c5e6-e315-4fd0-ae66-d3988acb27d6",
   "metadata": {},
   "outputs": [],
   "source": []
  }
 ],
 "metadata": {
  "kernelspec": {
   "display_name": "SageMath 10.2",
   "language": "sage",
   "name": "sagemath"
  },
  "language_info": {
   "codemirror_mode": {
    "name": "ipython",
    "version": 3
   },
   "file_extension": ".py",
   "mimetype": "text/x-python",
   "name": "python",
   "nbconvert_exporter": "python",
   "pygments_lexer": "ipython3",
   "version": "3.11.10"
  }
 },
 "nbformat": 4,
 "nbformat_minor": 5
}
