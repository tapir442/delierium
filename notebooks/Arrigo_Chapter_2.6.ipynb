{
 "cells": [
  {
   "cell_type": "code",
   "execution_count": 1,
   "id": "afab1768-3109-4169-bd5b-919904d36322",
   "metadata": {},
   "outputs": [],
   "source": [
    "from delierium.Infinitesimals import prolongationODE, infinitesimalsODE\n",
    "from delierium.JanetBasis import Janet_Basis\n",
    "from delierium.MatrixOrder import Context\n",
    "from delierium.helpers import latexer\n",
    "from sage.misc.html import html\n",
    "from IPython.core.debugger import set_trace\n",
    "from IPython.display import Math"
   ]
  },
  {
   "cell_type": "markdown",
   "id": "c2676388-ac43-484a-8ddb-ed32e2d79d25",
   "metadata": {},
   "source": [
    "# Example 2.20 (p.56)"
   ]
  },
  {
   "cell_type": "code",
   "execution_count": 2,
   "id": "8e65708d-6e8b-4e45-8e48-78bb3498c747",
   "metadata": {},
   "outputs": [
    {
     "data": {
      "text/latex": [
       "$\\displaystyle y y_{x x} + y_{x x x}$"
      ],
      "text/plain": [
       "<IPython.core.display.Math object>"
      ]
     },
     "metadata": {},
     "output_type": "display_data"
    },
    {
     "name": "stdout",
     "output_type": "stream",
     "text": [
      "prolongation <class 'sage.symbolic.expression.Expression'>\n"
     ]
    },
    {
     "data": {
      "text/latex": [
       "$\\displaystyle -y  \\xi_{yy} y_{x}^3 -  \\xi_{yyy} y_{x}^4 + y  \\phi_{yy} y_{x}^2 - 2 y  \\xi_{yx} y_{x}^2 +  \\phi_{yyy} y_{x}^3 - 3  \\xi_{yyx} y_{x}^3 - 3 y  \\xi_{y} y_{x} y_{x x} - 6  \\xi_{yy} y_{x}^2 y_{x x} + 2 y  \\phi_{yx} y_{x} - y  \\xi_{xx} y_{x} + 3  \\phi_{yyx} y_{x}^2 - 3  \\xi_{yxx} y_{x}^2 + y  \\phi_{y} y_{x x} - 2 y  \\xi_{x} y_{x x} + 3  \\phi_{yy} y_{x} y_{x x} - 9  \\xi_{yx} y_{x} y_{x x} - 3  \\xi_{y} y_{x x}^2 - 4  \\xi_{y} y_{x} y_{x x x} + y  \\phi_{xx} + 3  \\phi_{yxx} y_{x} -  \\xi_{xxx} y_{x} + \\phi y_{x x} + 3  \\phi_{yx} y_{x x} - 3  \\xi_{xx} y_{x x} +  \\phi_{y} y_{x x x} - 3  \\xi_{x} y_{x x x} +  \\phi_{xxx}$"
      ],
      "text/plain": [
       "<IPython.core.display.Math object>"
      ]
     },
     "metadata": {},
     "output_type": "display_data"
    },
    {
     "data": {
      "text/latex": [
       "$\\displaystyle -y  \\xi_{yy} y_{x}^3 -  \\xi_{yyy} y_{x}^4 + y  \\phi_{yy} y_{x}^2 - 2 y  \\xi_{yx} y_{x}^2 +  \\phi_{yyy} y_{x}^3 - 3  \\xi_{yyx} y_{x}^3 + y  \\xi_{y} y_{x} y_{x x} - 6  \\xi_{yy} y_{x}^2 y_{x x} + 2 y  \\phi_{yx} y_{x} - y  \\xi_{xx} y_{x} + 3  \\phi_{yyx} y_{x}^2 - 3  \\xi_{yxx} y_{x}^2 + y  \\xi_{x} y_{x x} + 3  \\phi_{yy} y_{x} y_{x x} - 9  \\xi_{yx} y_{x} y_{x x} - 3  \\xi_{y} y_{x x}^2 + y  \\phi_{xx} + 3  \\phi_{yxx} y_{x} -  \\xi_{xxx} y_{x} + \\phi y_{x x} + 3  \\phi_{yx} y_{x x} - 3  \\xi_{xx} y_{x x} +  \\phi_{xxx}$"
      ],
      "text/plain": [
       "<IPython.core.display.Math object>"
      ]
     },
     "metadata": {},
     "output_type": "display_data"
    },
    {
     "name": "stdout",
     "output_type": "stream",
     "text": [
      "determining system:\n"
     ]
    },
    {
     "data": {
      "text/latex": [
       "$\\displaystyle y  \\xi_{x} y_{x x} - 3  \\xi_{y} y_{x x}^2 + y  \\phi_{xx} + \\phi y_{x x} + 3  \\phi_{yx} y_{x x} - 3  \\xi_{xx} y_{x x} +  \\phi_{xxx}$"
      ],
      "text/plain": [
       "<IPython.core.display.Math object>"
      ]
     },
     "metadata": {},
     "output_type": "display_data"
    },
    {
     "data": {
      "text/latex": [
       "$\\displaystyle y  \\xi_{y} y_{x x} + 2 y  \\phi_{yx} - y  \\xi_{xx} + 3  \\phi_{yy} y_{x x} - 9  \\xi_{yx} y_{x x} + 3  \\phi_{yxx} -  \\xi_{xxx}$"
      ],
      "text/plain": [
       "<IPython.core.display.Math object>"
      ]
     },
     "metadata": {},
     "output_type": "display_data"
    },
    {
     "data": {
      "text/latex": [
       "$\\displaystyle y  \\phi_{yy} - 2 y  \\xi_{yx} - 6  \\xi_{yy} y_{x x} + 3  \\phi_{yyx} - 3  \\xi_{yxx}$"
      ],
      "text/plain": [
       "<IPython.core.display.Math object>"
      ]
     },
     "metadata": {},
     "output_type": "display_data"
    },
    {
     "data": {
      "text/latex": [
       "$\\displaystyle -y  \\xi_{yy} +  \\phi_{yyy} - 3  \\xi_{yyx}$"
      ],
      "text/plain": [
       "<IPython.core.display.Math object>"
      ]
     },
     "metadata": {},
     "output_type": "display_data"
    },
    {
     "data": {
      "text/latex": [
       "$\\displaystyle - \\xi_{yyy}$"
      ],
      "text/plain": [
       "<IPython.core.display.Math object>"
      ]
     },
     "metadata": {},
     "output_type": "display_data"
    }
   ],
   "source": [
    "# Example 2.20\n",
    "x   = var('x')\n",
    "y   = function('y')\n",
    "ode = diff(y(x), x, 3) + y(x) * diff(y(x), x, 2)\n",
    "display(Math(latexer(ode)))\n",
    "inf = infinitesimalsODE(ode, y, x)\n",
    "print(\"determining system:\")\n",
    "for _ in inf:\n",
    "    display(Math(latexer(_)))"
   ]
  },
  {
   "cell_type": "code",
   "execution_count": null,
   "id": "ff7eb0a0-d6b9-4f6b-b006-1ee7e5bb4f90",
   "metadata": {},
   "outputs": [],
   "source": []
  }
 ],
 "metadata": {
  "kernelspec": {
   "display_name": "SageMath 9.6",
   "language": "sage",
   "name": "sagemath"
  },
  "language_info": {
   "codemirror_mode": {
    "name": "ipython",
    "version": 3
   },
   "file_extension": ".py",
   "mimetype": "text/x-python",
   "name": "python",
   "nbconvert_exporter": "python",
   "pygments_lexer": "ipython3",
   "version": "3.10.6"
  },
  "widgets": {
   "application/vnd.jupyter.widget-state+json": {
    "state": {},
    "version_major": 2,
    "version_minor": 0
   }
  }
 },
 "nbformat": 4,
 "nbformat_minor": 5
}
