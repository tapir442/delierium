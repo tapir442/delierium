{
 "cells": [
  {
   "cell_type": "markdown",
   "id": "7c992368",
   "metadata": {},
   "source": [
    "# here are the versions from asksage\n",
    "https://ask.sagemath.org/question/56908/how-to-define-functions-with-varying-number-of-variables/"
   ]
  },
  {
   "cell_type": "code",
   "execution_count": 1,
   "id": "2f459e20",
   "metadata": {},
   "outputs": [],
   "source": [
    "%display latex\n"
   ]
  },
  {
   "cell_type": "code",
   "execution_count": 2,
   "id": "fd290885",
   "metadata": {},
   "outputs": [],
   "source": [
    "def FrechetD (support, dependVar, independVar, testfunction):\n",
    "    frechet = []\n",
    "    var (\"eps\")\n",
    "    for j in range (len(support)):\n",
    "        deriv = []\n",
    "        for i in range (len(support)):\n",
    "            def r0(*args):\n",
    "                return dependVar[i](*independVar)+ testfunction[i](*independVar) * eps\n",
    "            #def _r0(*args):\n",
    "            #    # this version has issues as it always uses w2 ?!? investigate further\n",
    "            #    # when time and motivation. Online version on asksage works perfectly\n",
    "            #    return dependVar[i](*independVar)+ testfunction[i](*independVar) * eps\n",
    "            #r0 = function('r0', eval_func=_r0)\n",
    "            s  =  support[j].substitute_function (dependVar[i], r0)\n",
    "            deriv.append (diff(s, eps).subs ({eps: 0}))\n",
    "        frechet.append (deriv)\n",
    "    return Matrix (frechet)"
   ]
  },
  {
   "cell_type": "code",
   "execution_count": 3,
   "id": "1e4097a9",
   "metadata": {},
   "outputs": [],
   "source": [
    "var (\"t x\")\n",
    "v  = function (\"v\")\n",
    "u  = function (\"u\")\n",
    "w1 = function (\"w1\")\n",
    "w2 = function (\"w2\")\n",
    "eqsys = [diff(v(x,t), x) - u(x,t), diff(v(x,t), t) - diff(u(x,t), x)/(u(x,t)**2)]"
   ]
  },
  {
   "cell_type": "code",
   "execution_count": 4,
   "id": "93a5ce41",
   "metadata": {},
   "outputs": [
    {
     "data": {
      "text/html": [
       "<html>\\(\\displaystyle \\left[-u\\left(x, t\\right) + \\frac{\\partial}{\\partial x}v\\left(x, t\\right), -\\frac{\\frac{\\partial}{\\partial x}u\\left(x, t\\right)}{u\\left(x, t\\right)^{2}} + \\frac{\\partial}{\\partial t}v\\left(x, t\\right)\\right]\\)</html>"
      ],
      "text/latex": [
       "$\\displaystyle \\left[-u\\left(x, t\\right) + \\frac{\\partial}{\\partial x}v\\left(x, t\\right), -\\frac{\\frac{\\partial}{\\partial x}u\\left(x, t\\right)}{u\\left(x, t\\right)^{2}} + \\frac{\\partial}{\\partial t}v\\left(x, t\\right)\\right]$"
      ],
      "text/plain": [
       "[-u(x, t) + diff(v(x, t), x), -diff(u(x, t), x)/u(x, t)^2 + diff(v(x, t), t)]"
      ]
     },
     "execution_count": 4,
     "metadata": {},
     "output_type": "execute_result"
    }
   ],
   "source": [
    "eqsys"
   ]
  },
  {
   "cell_type": "code",
   "execution_count": null,
   "id": "5b24d882",
   "metadata": {},
   "outputs": [],
   "source": [
    "FrechetD (eqsys, [u,v], [x,t], [w1,w2])"
   ]
  },
  {
   "cell_type": "code",
   "execution_count": null,
   "id": "b7979760",
   "metadata": {},
   "outputs": [],
   "source": [
    "var (\"t x y\")\n",
    "v  = function (\"v\")\n",
    "u  = function (\"u\")\n",
    "z  = function (\"z\")\n",
    "w1 = function (\"w1\")\n",
    "w2 = function (\"w2\")\n",
    "w3 = function (\"w3\")\n",
    "eqsys1 = [diff(v(x,y,t), x, y) - u(x,y,t), diff(v(x,y,t), t, y) - diff(u(x,y,t), x)/(u(x,y,t)**2), diff(z(x,y,t), t, t)- (z(x,y,t)**2)-u(x,y,t)]; eqsys"
   ]
  },
  {
   "cell_type": "code",
   "execution_count": null,
   "id": "2929d48d",
   "metadata": {},
   "outputs": [],
   "source": [
    "FrechetD (eqsys1, [u,v,z], [x,y,t], [w1,w2,w3])"
   ]
  },
  {
   "cell_type": "code",
   "execution_count": null,
   "id": "0fb1848f",
   "metadata": {},
   "outputs": [],
   "source": []
  }
 ],
 "metadata": {
  "kernelspec": {
   "display_name": "SageMath 9.8",
   "language": "sage",
   "name": "sagemath"
  },
  "language_info": {
   "codemirror_mode": {
    "name": "ipython",
    "version": 3
   },
   "file_extension": ".py",
   "mimetype": "text/x-python",
   "name": "python",
   "nbconvert_exporter": "python",
   "pygments_lexer": "ipython3",
   "version": "3.9.16"
  },
  "widgets": {
   "application/vnd.jupyter.widget-state+json": {
    "state": {},
    "version_major": 2,
    "version_minor": 0
   }
  }
 },
 "nbformat": 4,
 "nbformat_minor": 5
}
