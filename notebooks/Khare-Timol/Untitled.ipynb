{
 "cells": [
  {
   "cell_type": "code",
   "execution_count": 1,
   "id": "fc863208-e8f1-4a5b-ae93-ab50a287f570",
   "metadata": {
    "tags": []
   },
   "outputs": [
    {
     "name": "stdout",
     "output_type": "stream",
     "text": [
      "> \u001b[0;32m/home/tapir/research-disk/delierium/src/delierium/Infinitesimals.py\u001b[0m(194)\u001b[0;36moverdeterminedSystemODE\u001b[0;34m()\u001b[0m\n",
      "\u001b[0;32m    192 \u001b[0;31m    \u001b[0ms1\u001b[0m \u001b[0;34m=\u001b[0m \u001b[0msolve\u001b[0m\u001b[0;34m(\u001b[0m\u001b[0mode\u001b[0m\u001b[0;34m==\u001b[0m\u001b[0;36m0\u001b[0m\u001b[0;34m,\u001b[0m \u001b[0mdiff\u001b[0m\u001b[0;34m(\u001b[0m\u001b[0mdependent\u001b[0m\u001b[0;34m(\u001b[0m\u001b[0mindependent\u001b[0m\u001b[0;34m)\u001b[0m\u001b[0;34m,\u001b[0m\u001b[0mindependent\u001b[0m\u001b[0;34m,\u001b[0m \u001b[0morder\u001b[0m\u001b[0;34m)\u001b[0m\u001b[0;34m)\u001b[0m\u001b[0;34m\u001b[0m\u001b[0;34m\u001b[0m\u001b[0m\n",
      "\u001b[0m\u001b[0;32m    193 \u001b[0;31m    \u001b[0;32mimport\u001b[0m \u001b[0mpdb\u001b[0m\u001b[0;34m;\u001b[0m \u001b[0mpdb\u001b[0m\u001b[0;34m.\u001b[0m\u001b[0mset_trace\u001b[0m\u001b[0;34m(\u001b[0m\u001b[0;34m)\u001b[0m\u001b[0;34m\u001b[0m\u001b[0;34m\u001b[0m\u001b[0m\n",
      "\u001b[0m\u001b[0;32m--> 194 \u001b[0;31m    \u001b[0mode1\u001b[0m \u001b[0;34m=\u001b[0m \u001b[0mprolongation\u001b[0m\u001b[0;34m.\u001b[0m\u001b[0msubs\u001b[0m\u001b[0;34m(\u001b[0m\u001b[0;34m{\u001b[0m\u001b[0ms1\u001b[0m\u001b[0;34m[\u001b[0m\u001b[0;36m0\u001b[0m\u001b[0;34m]\u001b[0m\u001b[0;34m.\u001b[0m\u001b[0mlhs\u001b[0m\u001b[0;34m(\u001b[0m\u001b[0;34m)\u001b[0m \u001b[0;34m:\u001b[0m \u001b[0ms1\u001b[0m\u001b[0;34m[\u001b[0m\u001b[0;36m0\u001b[0m\u001b[0;34m]\u001b[0m\u001b[0;34m.\u001b[0m\u001b[0mrhs\u001b[0m\u001b[0;34m(\u001b[0m\u001b[0;34m)\u001b[0m\u001b[0;34m}\u001b[0m\u001b[0;34m)\u001b[0m\u001b[0;34m.\u001b[0m\u001b[0msimplify\u001b[0m\u001b[0;34m(\u001b[0m\u001b[0;34m)\u001b[0m\u001b[0;34m\u001b[0m\u001b[0;34m\u001b[0m\u001b[0m\n",
      "\u001b[0m\u001b[0;32m    195 \u001b[0;31m    \u001b[0mtree\u001b[0m \u001b[0;34m=\u001b[0m \u001b[0mExpressionTree\u001b[0m\u001b[0;34m(\u001b[0m\u001b[0mode1\u001b[0m\u001b[0;34m)\u001b[0m\u001b[0;34m\u001b[0m\u001b[0;34m\u001b[0m\u001b[0m\n",
      "\u001b[0m\u001b[0;32m    196 \u001b[0;31m    \u001b[0ml\u001b[0m \u001b[0;34m=\u001b[0m \u001b[0;34m(\u001b[0m\u001b[0m_\u001b[0m \u001b[0;34m[\u001b[0m\u001b[0;36m0\u001b[0m\u001b[0;34m]\u001b[0m \u001b[0;32mfor\u001b[0m \u001b[0m_\u001b[0m \u001b[0;32min\u001b[0m \u001b[0mode1\u001b[0m\u001b[0;34m.\u001b[0m\u001b[0mcoefficients\u001b[0m\u001b[0;34m(\u001b[0m\u001b[0mdiff\u001b[0m\u001b[0;34m(\u001b[0m\u001b[0mdependent\u001b[0m\u001b[0;34m(\u001b[0m\u001b[0mindependent\u001b[0m\u001b[0;34m)\u001b[0m\u001b[0;34m,\u001b[0m \u001b[0mindependent\u001b[0m\u001b[0;34m,\u001b[0m \u001b[0morder\u001b[0m\u001b[0;34m)\u001b[0m\u001b[0;34m)\u001b[0m\u001b[0;34m)\u001b[0m\u001b[0;34m\u001b[0m\u001b[0;34m\u001b[0m\u001b[0m\n",
      "\u001b[0m\n"
     ]
    },
    {
     "name": "stdin",
     "output_type": "stream",
     "text": [
      "ipdb>  c\n"
     ]
    },
    {
     "data": {
      "text/latex": [
       "$\\displaystyle - \\xi_{yy}$"
      ],
      "text/plain": [
       "<IPython.core.display.Math object>"
      ]
     },
     "metadata": {},
     "output_type": "display_data"
    },
    {
     "data": {
      "text/latex": [
       "$\\displaystyle 6 y  \\xi_{y} +  \\phi_{yy} - 2  \\xi_{yx}$"
      ],
      "text/plain": [
       "<IPython.core.display.Math object>"
      ]
     },
     "metadata": {},
     "output_type": "display_data"
    },
    {
     "data": {
      "text/latex": [
       "$\\displaystyle 3 y^3  \\xi_{y} + 3 y  \\xi_{x} + 3 \\phi + 2  \\phi_{yx} -  \\xi_{xx}$"
      ],
      "text/plain": [
       "<IPython.core.display.Math object>"
      ]
     },
     "metadata": {},
     "output_type": "display_data"
    },
    {
     "data": {
      "text/latex": [
       "$\\displaystyle -y^3  \\phi_{y} + 2 y^3  \\xi_{x} + 3 \\phi y^2 + 3 y  \\phi_{x} +  \\phi_{xx}$"
      ],
      "text/plain": [
       "<IPython.core.display.Math object>"
      ]
     },
     "metadata": {},
     "output_type": "display_data"
    }
   ],
   "source": [
    "# examples from 'Determining equations for infinitesimal transformation of second and third-order ODE using algorithm in open-source SageMath\n",
    "from delierium.Infinitesimals import prolongationODE, overdeterminedSystemODE, Janet_Basis_from_ODE\n",
    "from IPython.display import Math\n",
    "from delierium.helpers import latexer\n",
    "# Example 1\n",
    "x = var('x')\n",
    "y = function('y')\n",
    "ode = diff(y(x), x, x) + 3*y(x)*diff(y(x), x) + y(x)**3\n",
    "jb = overdeterminedSystemODE(ode, y, x)\n",
    "for _ in jb:\n",
    "    display(Math(latexer(_)))"
   ]
  },
  {
   "cell_type": "markdown",
   "id": "fa17fdd0-b9e7-4392-a546-356201f285e6",
   "metadata": {},
   "source": [
    "Example 1 looks ok"
   ]
  },
  {
   "cell_type": "code",
   "execution_count": 2,
   "id": "f097759b-2104-4166-bddf-9a7359adf8ec",
   "metadata": {
    "tags": []
   },
   "outputs": [
    {
     "data": {
      "text/html": [
       "<html>\\(\\displaystyle 3 \\, \\frac{\\partial}{\\partial x}y\\left(x\\right)^{2} - 2 \\, y\\left(x\\right) \\frac{\\partial^{2}}{(\\partial x)^{2}}y\\left(x\\right) + \\frac{\\partial^{3}}{(\\partial x)^{3}}y\\left(x\\right)\\)</html>"
      ],
      "text/latex": [
       "$\\displaystyle 3 \\, \\frac{\\partial}{\\partial x}y\\left(x\\right)^{2} - 2 \\, y\\left(x\\right) \\frac{\\partial^{2}}{(\\partial x)^{2}}y\\left(x\\right) + \\frac{\\partial^{3}}{(\\partial x)^{3}}y\\left(x\\right)$"
      ],
      "text/plain": [
       "3*diff(y(x), x)^2 - 2*y(x)*diff(y(x), x, x) + diff(y(x), x, x, x)"
      ]
     },
     "metadata": {},
     "output_type": "display_data"
    },
    {
     "name": "stdout",
     "output_type": "stream",
     "text": [
      "> \u001b[0;32m/home/tapir/research-disk/delierium/src/delierium/Infinitesimals.py\u001b[0m(194)\u001b[0;36moverdeterminedSystemODE\u001b[0;34m()\u001b[0m\n",
      "\u001b[0;32m    192 \u001b[0;31m    \u001b[0ms1\u001b[0m \u001b[0;34m=\u001b[0m \u001b[0msolve\u001b[0m\u001b[0;34m(\u001b[0m\u001b[0mode\u001b[0m\u001b[0;34m==\u001b[0m\u001b[0;36m0\u001b[0m\u001b[0;34m,\u001b[0m \u001b[0mdiff\u001b[0m\u001b[0;34m(\u001b[0m\u001b[0mdependent\u001b[0m\u001b[0;34m(\u001b[0m\u001b[0mindependent\u001b[0m\u001b[0;34m)\u001b[0m\u001b[0;34m,\u001b[0m\u001b[0mindependent\u001b[0m\u001b[0;34m,\u001b[0m \u001b[0morder\u001b[0m\u001b[0;34m)\u001b[0m\u001b[0;34m)\u001b[0m\u001b[0;34m\u001b[0m\u001b[0;34m\u001b[0m\u001b[0m\n",
      "\u001b[0m\u001b[0;32m    193 \u001b[0;31m    \u001b[0;32mimport\u001b[0m \u001b[0mpdb\u001b[0m\u001b[0;34m;\u001b[0m \u001b[0mpdb\u001b[0m\u001b[0;34m.\u001b[0m\u001b[0mset_trace\u001b[0m\u001b[0;34m(\u001b[0m\u001b[0;34m)\u001b[0m\u001b[0;34m\u001b[0m\u001b[0;34m\u001b[0m\u001b[0m\n",
      "\u001b[0m\u001b[0;32m--> 194 \u001b[0;31m    \u001b[0mode1\u001b[0m \u001b[0;34m=\u001b[0m \u001b[0mprolongation\u001b[0m\u001b[0;34m.\u001b[0m\u001b[0msubs\u001b[0m\u001b[0;34m(\u001b[0m\u001b[0;34m{\u001b[0m\u001b[0ms1\u001b[0m\u001b[0;34m[\u001b[0m\u001b[0;36m0\u001b[0m\u001b[0;34m]\u001b[0m\u001b[0;34m.\u001b[0m\u001b[0mlhs\u001b[0m\u001b[0;34m(\u001b[0m\u001b[0;34m)\u001b[0m \u001b[0;34m:\u001b[0m \u001b[0ms1\u001b[0m\u001b[0;34m[\u001b[0m\u001b[0;36m0\u001b[0m\u001b[0;34m]\u001b[0m\u001b[0;34m.\u001b[0m\u001b[0mrhs\u001b[0m\u001b[0;34m(\u001b[0m\u001b[0;34m)\u001b[0m\u001b[0;34m}\u001b[0m\u001b[0;34m)\u001b[0m\u001b[0;34m.\u001b[0m\u001b[0msimplify\u001b[0m\u001b[0;34m(\u001b[0m\u001b[0;34m)\u001b[0m\u001b[0;34m\u001b[0m\u001b[0;34m\u001b[0m\u001b[0m\n",
      "\u001b[0m\u001b[0;32m    195 \u001b[0;31m    \u001b[0mtree\u001b[0m \u001b[0;34m=\u001b[0m \u001b[0mExpressionTree\u001b[0m\u001b[0;34m(\u001b[0m\u001b[0mode1\u001b[0m\u001b[0;34m)\u001b[0m\u001b[0;34m\u001b[0m\u001b[0;34m\u001b[0m\u001b[0m\n",
      "\u001b[0m\u001b[0;32m    196 \u001b[0;31m    \u001b[0ml\u001b[0m \u001b[0;34m=\u001b[0m \u001b[0;34m(\u001b[0m\u001b[0m_\u001b[0m \u001b[0;34m[\u001b[0m\u001b[0;36m0\u001b[0m\u001b[0;34m]\u001b[0m \u001b[0;32mfor\u001b[0m \u001b[0m_\u001b[0m \u001b[0;32min\u001b[0m \u001b[0mode1\u001b[0m\u001b[0;34m.\u001b[0m\u001b[0mcoefficients\u001b[0m\u001b[0;34m(\u001b[0m\u001b[0mdiff\u001b[0m\u001b[0;34m(\u001b[0m\u001b[0mdependent\u001b[0m\u001b[0;34m(\u001b[0m\u001b[0mindependent\u001b[0m\u001b[0;34m)\u001b[0m\u001b[0;34m,\u001b[0m \u001b[0mindependent\u001b[0m\u001b[0;34m,\u001b[0m \u001b[0morder\u001b[0m\u001b[0;34m)\u001b[0m\u001b[0;34m)\u001b[0m\u001b[0;34m)\u001b[0m\u001b[0;34m\u001b[0m\u001b[0;34m\u001b[0m\u001b[0m\n",
      "\u001b[0m\n"
     ]
    },
    {
     "name": "stdin",
     "output_type": "stream",
     "text": [
      "ipdb>  pp s1\n"
     ]
    },
    {
     "name": "stdout",
     "output_type": "stream",
     "text": [
      "[diff(y(x), x, x, x) == -3*diff(y(x), x)^2 + 2*y(x)*diff(y(x), x, x)]\n"
     ]
    },
    {
     "name": "stdin",
     "output_type": "stream",
     "text": [
      "ipdb>  pp prolangation\n"
     ]
    },
    {
     "name": "stdout",
     "output_type": "stream",
     "text": [
      "*** NameError: name 'prolangation' is not defined\n"
     ]
    },
    {
     "name": "stdin",
     "output_type": "stream",
     "text": [
      "ipdb>  pp prolongation\n"
     ]
    },
    {
     "name": "stdout",
     "output_type": "stream",
     "text": [
      "2*y(x)*D[0, 0](xi)(y(x), x)*diff(y(x), x)^3 - D[0, 0, 0](xi)(y(x), x)*diff(y(x), x)^4 - 2*y(x)*D[0, 0](phi)(y(x), x)*diff(y(x), x)^2 + 4*y(x)*D[0, 1](xi)(y(x), x)*diff(y(x), x)^2 + D[0, 0, 0](phi)(y(x), x)*diff(y(x), x)^3 - 6*D[0](xi)(y(x), x)*diff(y(x), x)^3 - 3*D[0, 0, 1](xi)(y(x), x)*diff(y(x), x)^3 + 6*y(x)*D[0](xi)(y(x), x)*diff(y(x), x)*diff(y(x), x, x) - 6*D[0, 0](xi)(y(x), x)*diff(y(x), x)^2*diff(y(x), x, x) - 4*y(x)*D[0, 1](phi)(y(x), x)*diff(y(x), x) + 2*y(x)*D[1, 1](xi)(y(x), x)*diff(y(x), x) + 6*D[0](phi)(y(x), x)*diff(y(x), x)^2 + 3*D[0, 0, 1](phi)(y(x), x)*diff(y(x), x)^2 - 3*D[0, 1, 1](xi)(y(x), x)*diff(y(x), x)^2 - 6*D[1](xi)(y(x), x)*diff(y(x), x)^2 - 2*y(x)*D[0](phi)(y(x), x)*diff(y(x), x, x) + 4*y(x)*D[1](xi)(y(x), x)*diff(y(x), x, x) + 3*D[0, 0](phi)(y(x), x)*diff(y(x), x)*diff(y(x), x, x) - 9*D[0, 1](xi)(y(x), x)*diff(y(x), x)*diff(y(x), x, x) - 3*D[0](xi)(y(x), x)*diff(y(x), x, x)^2 - 4*D[0](xi)(y(x), x)*diff(y(x), x)*diff(y(x), x, x, x) - 2*y(x)*D[1, 1](phi)(y(x), x) + 3*D[0, 1, 1](phi)(y(x), x)*diff(y(x), x) + 6*D[1](phi)(y(x), x)*diff(y(x), x) - D[1, 1, 1](xi)(y(x), x)*diff(y(x), x) - 2*phi(y(x), x)*diff(y(x), x, x) + 3*D[0, 1](phi)(y(x), x)*diff(y(x), x, x) - 3*D[1, 1](xi)(y(x), x)*diff(y(x), x, x) + D[0](phi)(y(x), x)*diff(y(x), x, x, x) - 3*D[1](xi)(y(x), x)*diff(y(x), x, x, x) + D[1, 1, 1](phi)(y(x), x)\n"
     ]
    },
    {
     "name": "stdin",
     "output_type": "stream",
     "text": [
      "ipdb>  prolongation.show()\n"
     ]
    },
    {
     "data": {
      "text/html": [
       "<html>\\(\\displaystyle 2 \\, y\\left(x\\right) \\mathrm{D}_{0, 0}\\left(\\xi\\right)\\left(y\\left(x\\right), x\\right) \\frac{\\partial}{\\partial x}y\\left(x\\right)^{3} - \\mathrm{D}_{0, 0, 0}\\left(\\xi\\right)\\left(y\\left(x\\right), x\\right) \\frac{\\partial}{\\partial x}y\\left(x\\right)^{4} - 2 \\, y\\left(x\\right) \\mathrm{D}_{0, 0}\\left(\\phi\\right)\\left(y\\left(x\\right), x\\right) \\frac{\\partial}{\\partial x}y\\left(x\\right)^{2} + 4 \\, y\\left(x\\right) \\mathrm{D}_{0, 1}\\left(\\xi\\right)\\left(y\\left(x\\right), x\\right) \\frac{\\partial}{\\partial x}y\\left(x\\right)^{2} + \\mathrm{D}_{0, 0, 0}\\left(\\phi\\right)\\left(y\\left(x\\right), x\\right) \\frac{\\partial}{\\partial x}y\\left(x\\right)^{3} - 6 \\, \\mathrm{D}_{0}\\left(\\xi\\right)\\left(y\\left(x\\right), x\\right) \\frac{\\partial}{\\partial x}y\\left(x\\right)^{3} - 3 \\, \\mathrm{D}_{0, 0, 1}\\left(\\xi\\right)\\left(y\\left(x\\right), x\\right) \\frac{\\partial}{\\partial x}y\\left(x\\right)^{3} + 6 \\, y\\left(x\\right) \\mathrm{D}_{0}\\left(\\xi\\right)\\left(y\\left(x\\right), x\\right) \\frac{\\partial}{\\partial x}y\\left(x\\right) \\frac{\\partial^{2}}{(\\partial x)^{2}}y\\left(x\\right) - 6 \\, \\mathrm{D}_{0, 0}\\left(\\xi\\right)\\left(y\\left(x\\right), x\\right) \\frac{\\partial}{\\partial x}y\\left(x\\right)^{2} \\frac{\\partial^{2}}{(\\partial x)^{2}}y\\left(x\\right) - 4 \\, y\\left(x\\right) \\mathrm{D}_{0, 1}\\left(\\phi\\right)\\left(y\\left(x\\right), x\\right) \\frac{\\partial}{\\partial x}y\\left(x\\right) + 2 \\, y\\left(x\\right) \\mathrm{D}_{1, 1}\\left(\\xi\\right)\\left(y\\left(x\\right), x\\right) \\frac{\\partial}{\\partial x}y\\left(x\\right) + 6 \\, \\mathrm{D}_{0}\\left(\\phi\\right)\\left(y\\left(x\\right), x\\right) \\frac{\\partial}{\\partial x}y\\left(x\\right)^{2} + 3 \\, \\mathrm{D}_{0, 0, 1}\\left(\\phi\\right)\\left(y\\left(x\\right), x\\right) \\frac{\\partial}{\\partial x}y\\left(x\\right)^{2} - 3 \\, \\mathrm{D}_{0, 1, 1}\\left(\\xi\\right)\\left(y\\left(x\\right), x\\right) \\frac{\\partial}{\\partial x}y\\left(x\\right)^{2} - 6 \\, \\mathrm{D}_{1}\\left(\\xi\\right)\\left(y\\left(x\\right), x\\right) \\frac{\\partial}{\\partial x}y\\left(x\\right)^{2} - 2 \\, y\\left(x\\right) \\mathrm{D}_{0}\\left(\\phi\\right)\\left(y\\left(x\\right), x\\right) \\frac{\\partial^{2}}{(\\partial x)^{2}}y\\left(x\\right) + 4 \\, y\\left(x\\right) \\mathrm{D}_{1}\\left(\\xi\\right)\\left(y\\left(x\\right), x\\right) \\frac{\\partial^{2}}{(\\partial x)^{2}}y\\left(x\\right) + 3 \\, \\mathrm{D}_{0, 0}\\left(\\phi\\right)\\left(y\\left(x\\right), x\\right) \\frac{\\partial}{\\partial x}y\\left(x\\right) \\frac{\\partial^{2}}{(\\partial x)^{2}}y\\left(x\\right) - 9 \\, \\mathrm{D}_{0, 1}\\left(\\xi\\right)\\left(y\\left(x\\right), x\\right) \\frac{\\partial}{\\partial x}y\\left(x\\right) \\frac{\\partial^{2}}{(\\partial x)^{2}}y\\left(x\\right) - 3 \\, \\mathrm{D}_{0}\\left(\\xi\\right)\\left(y\\left(x\\right), x\\right) \\frac{\\partial^{2}}{(\\partial x)^{2}}y\\left(x\\right)^{2} - 4 \\, \\mathrm{D}_{0}\\left(\\xi\\right)\\left(y\\left(x\\right), x\\right) \\frac{\\partial}{\\partial x}y\\left(x\\right) \\frac{\\partial^{3}}{(\\partial x)^{3}}y\\left(x\\right) - 2 \\, y\\left(x\\right) \\mathrm{D}_{1, 1}\\left(\\phi\\right)\\left(y\\left(x\\right), x\\right) + 3 \\, \\mathrm{D}_{0, 1, 1}\\left(\\phi\\right)\\left(y\\left(x\\right), x\\right) \\frac{\\partial}{\\partial x}y\\left(x\\right) + 6 \\, \\mathrm{D}_{1}\\left(\\phi\\right)\\left(y\\left(x\\right), x\\right) \\frac{\\partial}{\\partial x}y\\left(x\\right) - \\mathrm{D}_{1, 1, 1}\\left(\\xi\\right)\\left(y\\left(x\\right), x\\right) \\frac{\\partial}{\\partial x}y\\left(x\\right) - 2 \\, \\phi\\left(y\\left(x\\right), x\\right) \\frac{\\partial^{2}}{(\\partial x)^{2}}y\\left(x\\right) + 3 \\, \\mathrm{D}_{0, 1}\\left(\\phi\\right)\\left(y\\left(x\\right), x\\right) \\frac{\\partial^{2}}{(\\partial x)^{2}}y\\left(x\\right) - 3 \\, \\mathrm{D}_{1, 1}\\left(\\xi\\right)\\left(y\\left(x\\right), x\\right) \\frac{\\partial^{2}}{(\\partial x)^{2}}y\\left(x\\right) + \\mathrm{D}_{0}\\left(\\phi\\right)\\left(y\\left(x\\right), x\\right) \\frac{\\partial^{3}}{(\\partial x)^{3}}y\\left(x\\right) - 3 \\, \\mathrm{D}_{1}\\left(\\xi\\right)\\left(y\\left(x\\right), x\\right) \\frac{\\partial^{3}}{(\\partial x)^{3}}y\\left(x\\right) + \\mathrm{D}_{1, 1, 1}\\left(\\phi\\right)\\left(y\\left(x\\right), x\\right)\\)</html>"
      ],
      "text/latex": [
       "$\\displaystyle 2 \\, y\\left(x\\right) \\mathrm{D}_{0, 0}\\left(\\xi\\right)\\left(y\\left(x\\right), x\\right) \\frac{\\partial}{\\partial x}y\\left(x\\right)^{3} - \\mathrm{D}_{0, 0, 0}\\left(\\xi\\right)\\left(y\\left(x\\right), x\\right) \\frac{\\partial}{\\partial x}y\\left(x\\right)^{4} - 2 \\, y\\left(x\\right) \\mathrm{D}_{0, 0}\\left(\\phi\\right)\\left(y\\left(x\\right), x\\right) \\frac{\\partial}{\\partial x}y\\left(x\\right)^{2} + 4 \\, y\\left(x\\right) \\mathrm{D}_{0, 1}\\left(\\xi\\right)\\left(y\\left(x\\right), x\\right) \\frac{\\partial}{\\partial x}y\\left(x\\right)^{2} + \\mathrm{D}_{0, 0, 0}\\left(\\phi\\right)\\left(y\\left(x\\right), x\\right) \\frac{\\partial}{\\partial x}y\\left(x\\right)^{3} - 6 \\, \\mathrm{D}_{0}\\left(\\xi\\right)\\left(y\\left(x\\right), x\\right) \\frac{\\partial}{\\partial x}y\\left(x\\right)^{3} - 3 \\, \\mathrm{D}_{0, 0, 1}\\left(\\xi\\right)\\left(y\\left(x\\right), x\\right) \\frac{\\partial}{\\partial x}y\\left(x\\right)^{3} + 6 \\, y\\left(x\\right) \\mathrm{D}_{0}\\left(\\xi\\right)\\left(y\\left(x\\right), x\\right) \\frac{\\partial}{\\partial x}y\\left(x\\right) \\frac{\\partial^{2}}{(\\partial x)^{2}}y\\left(x\\right) - 6 \\, \\mathrm{D}_{0, 0}\\left(\\xi\\right)\\left(y\\left(x\\right), x\\right) \\frac{\\partial}{\\partial x}y\\left(x\\right)^{2} \\frac{\\partial^{2}}{(\\partial x)^{2}}y\\left(x\\right) - 4 \\, y\\left(x\\right) \\mathrm{D}_{0, 1}\\left(\\phi\\right)\\left(y\\left(x\\right), x\\right) \\frac{\\partial}{\\partial x}y\\left(x\\right) + 2 \\, y\\left(x\\right) \\mathrm{D}_{1, 1}\\left(\\xi\\right)\\left(y\\left(x\\right), x\\right) \\frac{\\partial}{\\partial x}y\\left(x\\right) + 6 \\, \\mathrm{D}_{0}\\left(\\phi\\right)\\left(y\\left(x\\right), x\\right) \\frac{\\partial}{\\partial x}y\\left(x\\right)^{2} + 3 \\, \\mathrm{D}_{0, 0, 1}\\left(\\phi\\right)\\left(y\\left(x\\right), x\\right) \\frac{\\partial}{\\partial x}y\\left(x\\right)^{2} - 3 \\, \\mathrm{D}_{0, 1, 1}\\left(\\xi\\right)\\left(y\\left(x\\right), x\\right) \\frac{\\partial}{\\partial x}y\\left(x\\right)^{2} - 6 \\, \\mathrm{D}_{1}\\left(\\xi\\right)\\left(y\\left(x\\right), x\\right) \\frac{\\partial}{\\partial x}y\\left(x\\right)^{2} - 2 \\, y\\left(x\\right) \\mathrm{D}_{0}\\left(\\phi\\right)\\left(y\\left(x\\right), x\\right) \\frac{\\partial^{2}}{(\\partial x)^{2}}y\\left(x\\right) + 4 \\, y\\left(x\\right) \\mathrm{D}_{1}\\left(\\xi\\right)\\left(y\\left(x\\right), x\\right) \\frac{\\partial^{2}}{(\\partial x)^{2}}y\\left(x\\right) + 3 \\, \\mathrm{D}_{0, 0}\\left(\\phi\\right)\\left(y\\left(x\\right), x\\right) \\frac{\\partial}{\\partial x}y\\left(x\\right) \\frac{\\partial^{2}}{(\\partial x)^{2}}y\\left(x\\right) - 9 \\, \\mathrm{D}_{0, 1}\\left(\\xi\\right)\\left(y\\left(x\\right), x\\right) \\frac{\\partial}{\\partial x}y\\left(x\\right) \\frac{\\partial^{2}}{(\\partial x)^{2}}y\\left(x\\right) - 3 \\, \\mathrm{D}_{0}\\left(\\xi\\right)\\left(y\\left(x\\right), x\\right) \\frac{\\partial^{2}}{(\\partial x)^{2}}y\\left(x\\right)^{2} - 4 \\, \\mathrm{D}_{0}\\left(\\xi\\right)\\left(y\\left(x\\right), x\\right) \\frac{\\partial}{\\partial x}y\\left(x\\right) \\frac{\\partial^{3}}{(\\partial x)^{3}}y\\left(x\\right) - 2 \\, y\\left(x\\right) \\mathrm{D}_{1, 1}\\left(\\phi\\right)\\left(y\\left(x\\right), x\\right) + 3 \\, \\mathrm{D}_{0, 1, 1}\\left(\\phi\\right)\\left(y\\left(x\\right), x\\right) \\frac{\\partial}{\\partial x}y\\left(x\\right) + 6 \\, \\mathrm{D}_{1}\\left(\\phi\\right)\\left(y\\left(x\\right), x\\right) \\frac{\\partial}{\\partial x}y\\left(x\\right) - \\mathrm{D}_{1, 1, 1}\\left(\\xi\\right)\\left(y\\left(x\\right), x\\right) \\frac{\\partial}{\\partial x}y\\left(x\\right) - 2 \\, \\phi\\left(y\\left(x\\right), x\\right) \\frac{\\partial^{2}}{(\\partial x)^{2}}y\\left(x\\right) + 3 \\, \\mathrm{D}_{0, 1}\\left(\\phi\\right)\\left(y\\left(x\\right), x\\right) \\frac{\\partial^{2}}{(\\partial x)^{2}}y\\left(x\\right) - 3 \\, \\mathrm{D}_{1, 1}\\left(\\xi\\right)\\left(y\\left(x\\right), x\\right) \\frac{\\partial^{2}}{(\\partial x)^{2}}y\\left(x\\right) + \\mathrm{D}_{0}\\left(\\phi\\right)\\left(y\\left(x\\right), x\\right) \\frac{\\partial^{3}}{(\\partial x)^{3}}y\\left(x\\right) - 3 \\, \\mathrm{D}_{1}\\left(\\xi\\right)\\left(y\\left(x\\right), x\\right) \\frac{\\partial^{3}}{(\\partial x)^{3}}y\\left(x\\right) + \\mathrm{D}_{1, 1, 1}\\left(\\phi\\right)\\left(y\\left(x\\right), x\\right)$"
      ],
      "text/plain": [
       "2*y(x)*D[0, 0](xi)(y(x), x)*diff(y(x), x)^3 - D[0, 0, 0](xi)(y(x), x)*diff(y(x), x)^4 - 2*y(x)*D[0, 0](phi)(y(x), x)*diff(y(x), x)^2 + 4*y(x)*D[0, 1](xi)(y(x), x)*diff(y(x), x)^2 + D[0, 0, 0](phi)(y(x), x)*diff(y(x), x)^3 - 6*D[0](xi)(y(x), x)*diff(y(x), x)^3 - 3*D[0, 0, 1](xi)(y(x), x)*diff(y(x), x)^3 + 6*y(x)*D[0](xi)(y(x), x)*diff(y(x), x)*diff(y(x), x, x) - 6*D[0, 0](xi)(y(x), x)*diff(y(x), x)^2*diff(y(x), x, x) - 4*y(x)*D[0, 1](phi)(y(x), x)*diff(y(x), x) + 2*y(x)*D[1, 1](xi)(y(x), x)*diff(y(x), x) + 6*D[0](phi)(y(x), x)*diff(y(x), x)^2 + 3*D[0, 0, 1](phi)(y(x), x)*diff(y(x), x)^2 - 3*D[0, 1, 1](xi)(y(x), x)*diff(y(x), x)^2 - 6*D[1](xi)(y(x), x)*diff(y(x), x)^2 - 2*y(x)*D[0](phi)(y(x), x)*diff(y(x), x, x) + 4*y(x)*D[1](xi)(y(x), x)*diff(y(x), x, x) + 3*D[0, 0](phi)(y(x), x)*diff(y(x), x)*diff(y(x), x, x) - 9*D[0, 1](xi)(y(x), x)*diff(y(x), x)*diff(y(x), x, x) - 3*D[0](xi)(y(x), x)*diff(y(x), x, x)^2 - 4*D[0](xi)(y(x), x)*diff(y(x), x)*diff(y(x), x, x, x) - 2*y(x)*D[1, 1](phi)(y(x), x) + 3*D[0, 1, 1](phi)(y(x), x)*diff(y(x), x) + 6*D[1](phi)(y(x), x)*diff(y(x), x) - D[1, 1, 1](xi)(y(x), x)*diff(y(x), x) - 2*phi(y(x), x)*diff(y(x), x, x) + 3*D[0, 1](phi)(y(x), x)*diff(y(x), x, x) - 3*D[1, 1](xi)(y(x), x)*diff(y(x), x, x) + D[0](phi)(y(x), x)*diff(y(x), x, x, x) - 3*D[1](xi)(y(x), x)*diff(y(x), x, x, x) + D[1, 1, 1](phi)(y(x), x)"
      ]
     },
     "metadata": {},
     "output_type": "display_data"
    },
    {
     "name": "stdin",
     "output_type": "stream",
     "text": [
      "ipdb>  n\n"
     ]
    },
    {
     "name": "stdout",
     "output_type": "stream",
     "text": [
      "> \u001b[0;32m/home/tapir/research-disk/delierium/src/delierium/Infinitesimals.py\u001b[0m(195)\u001b[0;36moverdeterminedSystemODE\u001b[0;34m()\u001b[0m\n",
      "\u001b[0;32m    193 \u001b[0;31m    \u001b[0;32mimport\u001b[0m \u001b[0mpdb\u001b[0m\u001b[0;34m;\u001b[0m \u001b[0mpdb\u001b[0m\u001b[0;34m.\u001b[0m\u001b[0mset_trace\u001b[0m\u001b[0;34m(\u001b[0m\u001b[0;34m)\u001b[0m\u001b[0;34m\u001b[0m\u001b[0;34m\u001b[0m\u001b[0m\n",
      "\u001b[0m\u001b[0;32m    194 \u001b[0;31m    \u001b[0mode1\u001b[0m \u001b[0;34m=\u001b[0m \u001b[0mprolongation\u001b[0m\u001b[0;34m.\u001b[0m\u001b[0msubs\u001b[0m\u001b[0;34m(\u001b[0m\u001b[0;34m{\u001b[0m\u001b[0ms1\u001b[0m\u001b[0;34m[\u001b[0m\u001b[0;36m0\u001b[0m\u001b[0;34m]\u001b[0m\u001b[0;34m.\u001b[0m\u001b[0mlhs\u001b[0m\u001b[0;34m(\u001b[0m\u001b[0;34m)\u001b[0m \u001b[0;34m:\u001b[0m \u001b[0ms1\u001b[0m\u001b[0;34m[\u001b[0m\u001b[0;36m0\u001b[0m\u001b[0;34m]\u001b[0m\u001b[0;34m.\u001b[0m\u001b[0mrhs\u001b[0m\u001b[0;34m(\u001b[0m\u001b[0;34m)\u001b[0m\u001b[0;34m}\u001b[0m\u001b[0;34m)\u001b[0m\u001b[0;34m.\u001b[0m\u001b[0msimplify\u001b[0m\u001b[0;34m(\u001b[0m\u001b[0;34m)\u001b[0m\u001b[0;34m\u001b[0m\u001b[0;34m\u001b[0m\u001b[0m\n",
      "\u001b[0m\u001b[0;32m--> 195 \u001b[0;31m    \u001b[0mtree\u001b[0m \u001b[0;34m=\u001b[0m \u001b[0mExpressionTree\u001b[0m\u001b[0;34m(\u001b[0m\u001b[0mode1\u001b[0m\u001b[0;34m)\u001b[0m\u001b[0;34m\u001b[0m\u001b[0;34m\u001b[0m\u001b[0m\n",
      "\u001b[0m\u001b[0;32m    196 \u001b[0;31m    \u001b[0ml\u001b[0m \u001b[0;34m=\u001b[0m \u001b[0;34m(\u001b[0m\u001b[0m_\u001b[0m \u001b[0;34m[\u001b[0m\u001b[0;36m0\u001b[0m\u001b[0;34m]\u001b[0m \u001b[0;32mfor\u001b[0m \u001b[0m_\u001b[0m \u001b[0;32min\u001b[0m \u001b[0mode1\u001b[0m\u001b[0;34m.\u001b[0m\u001b[0mcoefficients\u001b[0m\u001b[0;34m(\u001b[0m\u001b[0mdiff\u001b[0m\u001b[0;34m(\u001b[0m\u001b[0mdependent\u001b[0m\u001b[0;34m(\u001b[0m\u001b[0mindependent\u001b[0m\u001b[0;34m)\u001b[0m\u001b[0;34m,\u001b[0m \u001b[0mindependent\u001b[0m\u001b[0;34m,\u001b[0m \u001b[0morder\u001b[0m\u001b[0;34m)\u001b[0m\u001b[0;34m)\u001b[0m\u001b[0;34m)\u001b[0m\u001b[0;34m\u001b[0m\u001b[0;34m\u001b[0m\u001b[0m\n",
      "\u001b[0m\u001b[0;32m    197 \u001b[0;31m    \u001b[0mequations\u001b[0m \u001b[0;34m=\u001b[0m \u001b[0;34m[\u001b[0m\u001b[0;34m]\u001b[0m\u001b[0;34m\u001b[0m\u001b[0;34m\u001b[0m\u001b[0m\n",
      "\u001b[0m\n"
     ]
    },
    {
     "name": "stdin",
     "output_type": "stream",
     "text": [
      "ipdb>  pp ode1\n"
     ]
    },
    {
     "name": "stdout",
     "output_type": "stream",
     "text": [
      "2*y(x)*D[0, 0](xi)(y(x), x)*diff(y(x), x)^3 - D[0, 0, 0](xi)(y(x), x)*diff(y(x), x)^4 - 2*y(x)*D[0, 0](phi)(y(x), x)*diff(y(x), x)^2 + 4*y(x)*D[0, 1](xi)(y(x), x)*diff(y(x), x)^2 + D[0, 0, 0](phi)(y(x), x)*diff(y(x), x)^3 - 6*D[0](xi)(y(x), x)*diff(y(x), x)^3 - 3*D[0, 0, 1](xi)(y(x), x)*diff(y(x), x)^3 + 6*y(x)*D[0](xi)(y(x), x)*diff(y(x), x)*diff(y(x), x, x) - 6*D[0, 0](xi)(y(x), x)*diff(y(x), x)^2*diff(y(x), x, x) - 4*y(x)*D[0, 1](phi)(y(x), x)*diff(y(x), x) + 4*(3*diff(y(x), x)^2 - 2*y(x)*diff(y(x), x, x))*D[0](xi)(y(x), x)*diff(y(x), x) + 2*y(x)*D[1, 1](xi)(y(x), x)*diff(y(x), x) + 6*D[0](phi)(y(x), x)*diff(y(x), x)^2 + 3*D[0, 0, 1](phi)(y(x), x)*diff(y(x), x)^2 - 3*D[0, 1, 1](xi)(y(x), x)*diff(y(x), x)^2 - 6*D[1](xi)(y(x), x)*diff(y(x), x)^2 - 2*y(x)*D[0](phi)(y(x), x)*diff(y(x), x, x) + 4*y(x)*D[1](xi)(y(x), x)*diff(y(x), x, x) + 3*D[0, 0](phi)(y(x), x)*diff(y(x), x)*diff(y(x), x, x) - 9*D[0, 1](xi)(y(x), x)*diff(y(x), x)*diff(y(x), x, x) - 3*D[0](xi)(y(x), x)*diff(y(x), x, x)^2 - (3*diff(y(x), x)^2 - 2*y(x)*diff(y(x), x, x))*D[0](phi)(y(x), x) - 2*y(x)*D[1, 1](phi)(y(x), x) + 3*(3*diff(y(x), x)^2 - 2*y(x)*diff(y(x), x, x))*D[1](xi)(y(x), x) + 3*D[0, 1, 1](phi)(y(x), x)*diff(y(x), x) + 6*D[1](phi)(y(x), x)*diff(y(x), x) - D[1, 1, 1](xi)(y(x), x)*diff(y(x), x) - 2*phi(y(x), x)*diff(y(x), x, x) + 3*D[0, 1](phi)(y(x), x)*diff(y(x), x, x) - 3*D[1, 1](xi)(y(x), x)*diff(y(x), x, x) + D[1, 1, 1](phi)(y(x), x)\n"
     ]
    },
    {
     "name": "stdin",
     "output_type": "stream",
     "text": [
      "ipdb>  n\n"
     ]
    },
    {
     "name": "stdout",
     "output_type": "stream",
     "text": [
      "> \u001b[0;32m/home/tapir/research-disk/delierium/src/delierium/Infinitesimals.py\u001b[0m(196)\u001b[0;36moverdeterminedSystemODE\u001b[0;34m()\u001b[0m\n",
      "\u001b[0;32m    194 \u001b[0;31m    \u001b[0mode1\u001b[0m \u001b[0;34m=\u001b[0m \u001b[0mprolongation\u001b[0m\u001b[0;34m.\u001b[0m\u001b[0msubs\u001b[0m\u001b[0;34m(\u001b[0m\u001b[0;34m{\u001b[0m\u001b[0ms1\u001b[0m\u001b[0;34m[\u001b[0m\u001b[0;36m0\u001b[0m\u001b[0;34m]\u001b[0m\u001b[0;34m.\u001b[0m\u001b[0mlhs\u001b[0m\u001b[0;34m(\u001b[0m\u001b[0;34m)\u001b[0m \u001b[0;34m:\u001b[0m \u001b[0ms1\u001b[0m\u001b[0;34m[\u001b[0m\u001b[0;36m0\u001b[0m\u001b[0;34m]\u001b[0m\u001b[0;34m.\u001b[0m\u001b[0mrhs\u001b[0m\u001b[0;34m(\u001b[0m\u001b[0;34m)\u001b[0m\u001b[0;34m}\u001b[0m\u001b[0;34m)\u001b[0m\u001b[0;34m.\u001b[0m\u001b[0msimplify\u001b[0m\u001b[0;34m(\u001b[0m\u001b[0;34m)\u001b[0m\u001b[0;34m\u001b[0m\u001b[0;34m\u001b[0m\u001b[0m\n",
      "\u001b[0m\u001b[0;32m    195 \u001b[0;31m    \u001b[0mtree\u001b[0m \u001b[0;34m=\u001b[0m \u001b[0mExpressionTree\u001b[0m\u001b[0;34m(\u001b[0m\u001b[0mode1\u001b[0m\u001b[0;34m)\u001b[0m\u001b[0;34m\u001b[0m\u001b[0;34m\u001b[0m\u001b[0m\n",
      "\u001b[0m\u001b[0;32m--> 196 \u001b[0;31m    \u001b[0ml\u001b[0m \u001b[0;34m=\u001b[0m \u001b[0;34m(\u001b[0m\u001b[0m_\u001b[0m \u001b[0;34m[\u001b[0m\u001b[0;36m0\u001b[0m\u001b[0;34m]\u001b[0m \u001b[0;32mfor\u001b[0m \u001b[0m_\u001b[0m \u001b[0;32min\u001b[0m \u001b[0mode1\u001b[0m\u001b[0;34m.\u001b[0m\u001b[0mcoefficients\u001b[0m\u001b[0;34m(\u001b[0m\u001b[0mdiff\u001b[0m\u001b[0;34m(\u001b[0m\u001b[0mdependent\u001b[0m\u001b[0;34m(\u001b[0m\u001b[0mindependent\u001b[0m\u001b[0;34m)\u001b[0m\u001b[0;34m,\u001b[0m \u001b[0mindependent\u001b[0m\u001b[0;34m,\u001b[0m \u001b[0morder\u001b[0m\u001b[0;34m)\u001b[0m\u001b[0;34m)\u001b[0m\u001b[0;34m)\u001b[0m\u001b[0;34m\u001b[0m\u001b[0;34m\u001b[0m\u001b[0m\n",
      "\u001b[0m\u001b[0;32m    197 \u001b[0;31m    \u001b[0mequations\u001b[0m \u001b[0;34m=\u001b[0m \u001b[0;34m[\u001b[0m\u001b[0;34m]\u001b[0m\u001b[0;34m\u001b[0m\u001b[0;34m\u001b[0m\u001b[0m\n",
      "\u001b[0m\u001b[0;32m    198 \u001b[0;31m    \u001b[0me\u001b[0m         \u001b[0;34m=\u001b[0m \u001b[0mnext\u001b[0m\u001b[0;34m(\u001b[0m\u001b[0ml\u001b[0m\u001b[0;34m)\u001b[0m\u001b[0;34m\u001b[0m\u001b[0;34m\u001b[0m\u001b[0m\n",
      "\u001b[0m\n"
     ]
    },
    {
     "name": "stdin",
     "output_type": "stream",
     "text": [
      "ipdb>  pp tree\n"
     ]
    },
    {
     "name": "stdout",
     "output_type": "stream",
     "text": [
      "<delierium.helpers.ExpressionTree object at 0x74b254d5fa90>\n"
     ]
    },
    {
     "name": "stdin",
     "output_type": "stream",
     "text": [
      "ipdb>  \n"
     ]
    },
    {
     "name": "stdout",
     "output_type": "stream",
     "text": [
      "<delierium.helpers.ExpressionTree object at 0x74b254d5fa90>\n"
     ]
    },
    {
     "name": "stdin",
     "output_type": "stream",
     "text": [
      "ipdb>  n\n"
     ]
    },
    {
     "name": "stdout",
     "output_type": "stream",
     "text": [
      "> \u001b[0;32m/home/tapir/research-disk/delierium/src/delierium/Infinitesimals.py\u001b[0m(197)\u001b[0;36moverdeterminedSystemODE\u001b[0;34m()\u001b[0m\n",
      "\u001b[0;32m    195 \u001b[0;31m    \u001b[0mtree\u001b[0m \u001b[0;34m=\u001b[0m \u001b[0mExpressionTree\u001b[0m\u001b[0;34m(\u001b[0m\u001b[0mode1\u001b[0m\u001b[0;34m)\u001b[0m\u001b[0;34m\u001b[0m\u001b[0;34m\u001b[0m\u001b[0m\n",
      "\u001b[0m\u001b[0;32m    196 \u001b[0;31m    \u001b[0ml\u001b[0m \u001b[0;34m=\u001b[0m \u001b[0;34m(\u001b[0m\u001b[0m_\u001b[0m \u001b[0;34m[\u001b[0m\u001b[0;36m0\u001b[0m\u001b[0;34m]\u001b[0m \u001b[0;32mfor\u001b[0m \u001b[0m_\u001b[0m \u001b[0;32min\u001b[0m \u001b[0mode1\u001b[0m\u001b[0;34m.\u001b[0m\u001b[0mcoefficients\u001b[0m\u001b[0;34m(\u001b[0m\u001b[0mdiff\u001b[0m\u001b[0;34m(\u001b[0m\u001b[0mdependent\u001b[0m\u001b[0;34m(\u001b[0m\u001b[0mindependent\u001b[0m\u001b[0;34m)\u001b[0m\u001b[0;34m,\u001b[0m \u001b[0mindependent\u001b[0m\u001b[0;34m,\u001b[0m \u001b[0morder\u001b[0m\u001b[0;34m)\u001b[0m\u001b[0;34m)\u001b[0m\u001b[0;34m)\u001b[0m\u001b[0;34m\u001b[0m\u001b[0;34m\u001b[0m\u001b[0m\n",
      "\u001b[0m\u001b[0;32m--> 197 \u001b[0;31m    \u001b[0mequations\u001b[0m \u001b[0;34m=\u001b[0m \u001b[0;34m[\u001b[0m\u001b[0;34m]\u001b[0m\u001b[0;34m\u001b[0m\u001b[0;34m\u001b[0m\u001b[0m\n",
      "\u001b[0m\u001b[0;32m    198 \u001b[0;31m    \u001b[0me\u001b[0m         \u001b[0;34m=\u001b[0m \u001b[0mnext\u001b[0m\u001b[0;34m(\u001b[0m\u001b[0ml\u001b[0m\u001b[0;34m)\u001b[0m\u001b[0;34m\u001b[0m\u001b[0;34m\u001b[0m\u001b[0m\n",
      "\u001b[0m\u001b[0;32m    199 \u001b[0;31m    \u001b[0mall_this_stuff\u001b[0m \u001b[0;34m=\u001b[0m \u001b[0mset\u001b[0m\u001b[0;34m(\u001b[0m\u001b[0;34m)\u001b[0m\u001b[0;34m\u001b[0m\u001b[0;34m\u001b[0m\u001b[0m\n",
      "\u001b[0m\n"
     ]
    },
    {
     "name": "stdin",
     "output_type": "stream",
     "text": [
      "ipdb>  pp order\n"
     ]
    },
    {
     "name": "stdout",
     "output_type": "stream",
     "text": [
      "3\n"
     ]
    },
    {
     "name": "stdin",
     "output_type": "stream",
     "text": [
      "ipdb>  n\n"
     ]
    },
    {
     "name": "stdout",
     "output_type": "stream",
     "text": [
      "> \u001b[0;32m/home/tapir/research-disk/delierium/src/delierium/Infinitesimals.py\u001b[0m(198)\u001b[0;36moverdeterminedSystemODE\u001b[0;34m()\u001b[0m\n",
      "\u001b[0;32m    196 \u001b[0;31m    \u001b[0ml\u001b[0m \u001b[0;34m=\u001b[0m \u001b[0;34m(\u001b[0m\u001b[0m_\u001b[0m \u001b[0;34m[\u001b[0m\u001b[0;36m0\u001b[0m\u001b[0;34m]\u001b[0m \u001b[0;32mfor\u001b[0m \u001b[0m_\u001b[0m \u001b[0;32min\u001b[0m \u001b[0mode1\u001b[0m\u001b[0;34m.\u001b[0m\u001b[0mcoefficients\u001b[0m\u001b[0;34m(\u001b[0m\u001b[0mdiff\u001b[0m\u001b[0;34m(\u001b[0m\u001b[0mdependent\u001b[0m\u001b[0;34m(\u001b[0m\u001b[0mindependent\u001b[0m\u001b[0;34m)\u001b[0m\u001b[0;34m,\u001b[0m \u001b[0mindependent\u001b[0m\u001b[0;34m,\u001b[0m \u001b[0morder\u001b[0m\u001b[0;34m)\u001b[0m\u001b[0;34m)\u001b[0m\u001b[0;34m)\u001b[0m\u001b[0;34m\u001b[0m\u001b[0;34m\u001b[0m\u001b[0m\n",
      "\u001b[0m\u001b[0;32m    197 \u001b[0;31m    \u001b[0mequations\u001b[0m \u001b[0;34m=\u001b[0m \u001b[0;34m[\u001b[0m\u001b[0;34m]\u001b[0m\u001b[0;34m\u001b[0m\u001b[0;34m\u001b[0m\u001b[0m\n",
      "\u001b[0m\u001b[0;32m--> 198 \u001b[0;31m    \u001b[0me\u001b[0m         \u001b[0;34m=\u001b[0m \u001b[0mnext\u001b[0m\u001b[0;34m(\u001b[0m\u001b[0ml\u001b[0m\u001b[0;34m)\u001b[0m\u001b[0;34m\u001b[0m\u001b[0;34m\u001b[0m\u001b[0m\n",
      "\u001b[0m\u001b[0;32m    199 \u001b[0;31m    \u001b[0mall_this_stuff\u001b[0m \u001b[0;34m=\u001b[0m \u001b[0mset\u001b[0m\u001b[0;34m(\u001b[0m\u001b[0;34m)\u001b[0m\u001b[0;34m\u001b[0m\u001b[0;34m\u001b[0m\u001b[0m\n",
      "\u001b[0m\u001b[0;32m    200 \u001b[0;31m    \u001b[0;32mfor\u001b[0m \u001b[0mnode\u001b[0m \u001b[0;32min\u001b[0m \u001b[0mPreOrderIter\u001b[0m\u001b[0;34m(\u001b[0m\u001b[0mtree\u001b[0m\u001b[0;34m.\u001b[0m\u001b[0mroot\u001b[0m\u001b[0;34m)\u001b[0m\u001b[0;34m:\u001b[0m\u001b[0;34m\u001b[0m\u001b[0;34m\u001b[0m\u001b[0m\n",
      "\u001b[0m\n"
     ]
    },
    {
     "name": "stdin",
     "output_type": "stream",
     "text": [
      "ipdb>  n\n"
     ]
    },
    {
     "name": "stdout",
     "output_type": "stream",
     "text": [
      "> \u001b[0;32m/home/tapir/research-disk/delierium/src/delierium/Infinitesimals.py\u001b[0m(199)\u001b[0;36moverdeterminedSystemODE\u001b[0;34m()\u001b[0m\n",
      "\u001b[0;32m    197 \u001b[0;31m    \u001b[0mequations\u001b[0m \u001b[0;34m=\u001b[0m \u001b[0;34m[\u001b[0m\u001b[0;34m]\u001b[0m\u001b[0;34m\u001b[0m\u001b[0;34m\u001b[0m\u001b[0m\n",
      "\u001b[0m\u001b[0;32m    198 \u001b[0;31m    \u001b[0me\u001b[0m         \u001b[0;34m=\u001b[0m \u001b[0mnext\u001b[0m\u001b[0;34m(\u001b[0m\u001b[0ml\u001b[0m\u001b[0;34m)\u001b[0m\u001b[0;34m\u001b[0m\u001b[0;34m\u001b[0m\u001b[0m\n",
      "\u001b[0m\u001b[0;32m--> 199 \u001b[0;31m    \u001b[0mall_this_stuff\u001b[0m \u001b[0;34m=\u001b[0m \u001b[0mset\u001b[0m\u001b[0;34m(\u001b[0m\u001b[0;34m)\u001b[0m\u001b[0;34m\u001b[0m\u001b[0;34m\u001b[0m\u001b[0m\n",
      "\u001b[0m\u001b[0;32m    200 \u001b[0;31m    \u001b[0;32mfor\u001b[0m \u001b[0mnode\u001b[0m \u001b[0;32min\u001b[0m \u001b[0mPreOrderIter\u001b[0m\u001b[0;34m(\u001b[0m\u001b[0mtree\u001b[0m\u001b[0;34m.\u001b[0m\u001b[0mroot\u001b[0m\u001b[0;34m)\u001b[0m\u001b[0;34m:\u001b[0m\u001b[0;34m\u001b[0m\u001b[0;34m\u001b[0m\u001b[0m\n",
      "\u001b[0m\u001b[0;32m    201 \u001b[0;31m        \u001b[0;31m# powercollector: an array which stores powers of derivatives\u001b[0m\u001b[0;34m\u001b[0m\u001b[0;34m\u001b[0m\u001b[0m\n",
      "\u001b[0m\n"
     ]
    },
    {
     "name": "stdin",
     "output_type": "stream",
     "text": [
      "ipdb>  n\n"
     ]
    },
    {
     "name": "stdout",
     "output_type": "stream",
     "text": [
      "> \u001b[0;32m/home/tapir/research-disk/delierium/src/delierium/Infinitesimals.py\u001b[0m(200)\u001b[0;36moverdeterminedSystemODE\u001b[0;34m()\u001b[0m\n",
      "\u001b[0;32m    198 \u001b[0;31m    \u001b[0me\u001b[0m         \u001b[0;34m=\u001b[0m \u001b[0mnext\u001b[0m\u001b[0;34m(\u001b[0m\u001b[0ml\u001b[0m\u001b[0;34m)\u001b[0m\u001b[0;34m\u001b[0m\u001b[0;34m\u001b[0m\u001b[0m\n",
      "\u001b[0m\u001b[0;32m    199 \u001b[0;31m    \u001b[0mall_this_stuff\u001b[0m \u001b[0;34m=\u001b[0m \u001b[0mset\u001b[0m\u001b[0;34m(\u001b[0m\u001b[0;34m)\u001b[0m\u001b[0;34m\u001b[0m\u001b[0;34m\u001b[0m\u001b[0m\n",
      "\u001b[0m\u001b[0;32m--> 200 \u001b[0;31m    \u001b[0;32mfor\u001b[0m \u001b[0mnode\u001b[0m \u001b[0;32min\u001b[0m \u001b[0mPreOrderIter\u001b[0m\u001b[0;34m(\u001b[0m\u001b[0mtree\u001b[0m\u001b[0;34m.\u001b[0m\u001b[0mroot\u001b[0m\u001b[0;34m)\u001b[0m\u001b[0;34m:\u001b[0m\u001b[0;34m\u001b[0m\u001b[0;34m\u001b[0m\u001b[0m\n",
      "\u001b[0m\u001b[0;32m    201 \u001b[0;31m        \u001b[0;31m# powercollector: an array which stores powers of derivatives\u001b[0m\u001b[0;34m\u001b[0m\u001b[0;34m\u001b[0m\u001b[0m\n",
      "\u001b[0m\u001b[0;32m    202 \u001b[0;31m        \u001b[0;31m# the index is the(reversed) order, the value is the power\u001b[0m\u001b[0;34m\u001b[0m\u001b[0;34m\u001b[0m\u001b[0m\n",
      "\u001b[0m\n"
     ]
    },
    {
     "name": "stdin",
     "output_type": "stream",
     "text": [
      "ipdb>  n\n"
     ]
    },
    {
     "name": "stdout",
     "output_type": "stream",
     "text": [
      "> \u001b[0;32m/home/tapir/research-disk/delierium/src/delierium/Infinitesimals.py\u001b[0m(216)\u001b[0;36moverdeterminedSystemODE\u001b[0;34m()\u001b[0m\n",
      "\u001b[0;32m    214 \u001b[0;31m        \u001b[0;31m# looped over from highest_order^highest_power to lowest_order^lowest_power\u001b[0m\u001b[0;34m\u001b[0m\u001b[0;34m\u001b[0m\u001b[0m\n",
      "\u001b[0m\u001b[0;32m    215 \u001b[0;31m        \u001b[0;31m# to factor out the derivatives to get the determining equations\u001b[0m\u001b[0;34m\u001b[0m\u001b[0;34m\u001b[0m\u001b[0m\n",
      "\u001b[0m\u001b[0;32m--> 216 \u001b[0;31m        \u001b[0mpowercollector\u001b[0m \u001b[0;34m=\u001b[0m \u001b[0;34m[\u001b[0m\u001b[0;36m0\u001b[0m\u001b[0;34m]\u001b[0m\u001b[0;34m*\u001b[0m\u001b[0;34m(\u001b[0m\u001b[0morder\u001b[0m\u001b[0;34m-\u001b[0m\u001b[0;36m1\u001b[0m\u001b[0;34m)\u001b[0m\u001b[0;34m\u001b[0m\u001b[0;34m\u001b[0m\u001b[0m\n",
      "\u001b[0m\u001b[0;32m    217 \u001b[0;31m        \u001b[0mv\u001b[0m \u001b[0;34m=\u001b[0m \u001b[0mnode\u001b[0m\u001b[0;34m.\u001b[0m\u001b[0mvalue\u001b[0m\u001b[0;34m\u001b[0m\u001b[0;34m\u001b[0m\u001b[0m\n",
      "\u001b[0m\u001b[0;32m    218 \u001b[0;31m        \u001b[0;32mif\u001b[0m \u001b[0mv\u001b[0m\u001b[0;34m.\u001b[0m\u001b[0moperator\u001b[0m\u001b[0;34m(\u001b[0m\u001b[0;34m)\u001b[0m \u001b[0;32min\u001b[0m \u001b[0;34m[\u001b[0m\u001b[0msage\u001b[0m\u001b[0;34m.\u001b[0m\u001b[0msymbolic\u001b[0m\u001b[0;34m.\u001b[0m\u001b[0moperators\u001b[0m\u001b[0;34m.\u001b[0m\u001b[0madd_vararg\u001b[0m\u001b[0;34m,\u001b[0m \u001b[0;32mNone\u001b[0m\u001b[0;34m]\u001b[0m\u001b[0;34m:\u001b[0m\u001b[0;34m\u001b[0m\u001b[0;34m\u001b[0m\u001b[0m\n",
      "\u001b[0m\n"
     ]
    },
    {
     "name": "stdin",
     "output_type": "stream",
     "text": [
      "ipdb>  pp locals()\n"
     ]
    },
    {
     "name": "stdout",
     "output_type": "stream",
     "text": [
      "{'all_this_stuff': set(),\n",
      " 'args': (),\n",
      " 'dependent': y,\n",
      " 'e': 2*y(x)*D[0, 0](xi)(y(x), x)*diff(y(x), x)^3 - D[0, 0, 0](xi)(y(x), x)*diff(y(x), x)^4 - 2*y(x)*D[0, 0](phi)(y(x), x)*diff(y(x), x)^2 + 4*y(x)*D[0, 1](xi)(y(x), x)*diff(y(x), x)^2 + D[0, 0, 0](phi)(y(x), x)*diff(y(x), x)^3 - 6*D[0](xi)(y(x), x)*diff(y(x), x)^3 - 3*D[0, 0, 1](xi)(y(x), x)*diff(y(x), x)^3 + 6*y(x)*D[0](xi)(y(x), x)*diff(y(x), x)*diff(y(x), x, x) - 6*D[0, 0](xi)(y(x), x)*diff(y(x), x)^2*diff(y(x), x, x) - 4*y(x)*D[0, 1](phi)(y(x), x)*diff(y(x), x) + 4*(3*diff(y(x), x)^2 - 2*y(x)*diff(y(x), x, x))*D[0](xi)(y(x), x)*diff(y(x), x) + 2*y(x)*D[1, 1](xi)(y(x), x)*diff(y(x), x) + 6*D[0](phi)(y(x), x)*diff(y(x), x)^2 + 3*D[0, 0, 1](phi)(y(x), x)*diff(y(x), x)^2 - 3*D[0, 1, 1](xi)(y(x), x)*diff(y(x), x)^2 - 6*D[1](xi)(y(x), x)*diff(y(x), x)^2 - 2*y(x)*D[0](phi)(y(x), x)*diff(y(x), x, x) + 4*y(x)*D[1](xi)(y(x), x)*diff(y(x), x, x) + 3*D[0, 0](phi)(y(x), x)*diff(y(x), x)*diff(y(x), x, x) - 9*D[0, 1](xi)(y(x), x)*diff(y(x), x)*diff(y(x), x, x) - 3*D[0](xi)(y(x), x)*diff(y(x), x, x)^2 - (3*diff(y(x), x)^2 - 2*y(x)*diff(y(x), x, x))*D[0](phi)(y(x), x) - 2*y(x)*D[1, 1](phi)(y(x), x) + 3*(3*diff(y(x), x)^2 - 2*y(x)*diff(y(x), x, x))*D[1](xi)(y(x), x) + 3*D[0, 1, 1](phi)(y(x), x)*diff(y(x), x) + 6*D[1](phi)(y(x), x)*diff(y(x), x) - D[1, 1, 1](xi)(y(x), x)*diff(y(x), x) - 2*phi(y(x), x)*diff(y(x), x, x) + 3*D[0, 1](phi)(y(x), x)*diff(y(x), x, x) - 3*D[1, 1](xi)(y(x), x)*diff(y(x), x, x) + D[1, 1, 1](phi)(y(x), x),\n",
      " 'equations': [],\n",
      " 'independent': x,\n",
      " 'infinitesimals': (xi, phi),\n",
      " 'kw': {},\n",
      " 'l': <generator object overdeterminedSystemODE.<locals>.<genexpr> at 0x74b1eeabe190>,\n",
      " 'mine': [diff(y(x), x), diff(y(x), x, x, x), diff(y(x), x, x)],\n",
      " 'node': Node('/2*y(x)*D[0, 0](xi)(y(x), x)*diff(y(x), x)^3 - D[0, 0, 0](xi)(y(x), x)*diff(y(x), x)^4 - 2*y(x)*D[0, 0](phi)(y(x), x)*diff(y(x), x)^2 + 4*y(x)*D[0, 1](xi)(y(x), x)*diff(y(x), x)^2 + D[0, 0, 0](phi)(y(x), x)*diff(y(x), x)^3 - 6*D[0](xi)(y(x), x)*diff(y(x), x)^3 - 3*D[0, 0, 1](xi)(y(x), x)*diff(y(x), x)^3 + 6*y(x)*D[0](xi)(y(x), x)*diff(y(x), x)*diff(y(x), x, x) - 6*D[0, 0](xi)(y(x), x)*diff(y(x), x)^2*diff(y(x), x, x) - 4*y(x)*D[0, 1](phi)(y(x), x)*diff(y(x), x) + 4*(3*diff(y(x), x)^2 - 2*y(x)*diff(y(x), x, x))*D[0](xi)(y(x), x)*diff(y(x), x) + 2*y(x)*D[1, 1](xi)(y(x), x)*diff(y(x), x) + 6*D[0](phi)(y(x), x)*diff(y(x), x)^2 + 3*D[0, 0, 1](phi)(y(x), x)*diff(y(x), x)^2 - 3*D[0, 1, 1](xi)(y(x), x)*diff(y(x), x)^2 - 6*D[1](xi)(y(x), x)*diff(y(x), x)^2 - 2*y(x)*D[0](phi)(y(x), x)*diff(y(x), x, x) + 4*y(x)*D[1](xi)(y(x), x)*diff(y(x), x, x) + 3*D[0, 0](phi)(y(x), x)*diff(y(x), x)*diff(y(x), x, x) - 9*D[0, 1](xi)(y(x), x)*diff(y(x), x)*diff(y(x), x, x) - 3*D[0](xi)(y(x), x)*diff(y(x), x, x)^2 - (3*diff(y(x), x)^2 - 2*y(x)*diff(y(x), x, x))*D[0](phi)(y(x), x) - 2*y(x)*D[1, 1](phi)(y(x), x) + 3*(3*diff(y(x), x)^2 - 2*y(x)*diff(y(x), x, x))*D[1](xi)(y(x), x) + 3*D[0, 1, 1](phi)(y(x), x)*diff(y(x), x) + 6*D[1](phi)(y(x), x)*diff(y(x), x) - D[1, 1, 1](xi)(y(x), x)*diff(y(x), x) - 2*phi(y(x), x)*diff(y(x), x, x) + 3*D[0, 1](phi)(y(x), x)*diff(y(x), x, x) - 3*D[1, 1](xi)(y(x), x)*diff(y(x), x, x) + D[1, 1, 1](phi)(y(x), x)', latex='2 \\\\, y\\\\left(x\\\\right) \\\\mathrm{D}_{0, 0}\\\\left(\\\\xi\\\\right)\\\\left(y\\\\left(x\\\\right), x\\\\right) \\\\frac{\\\\partial}{\\\\partial x}y\\\\left(x\\\\right)^{3} - \\\\mathrm{D}_{0, 0, 0}\\\\left(\\\\xi\\\\right)\\\\left(y\\\\left(x\\\\right), x\\\\right) \\\\frac{\\\\partial}{\\\\partial x}y\\\\left(x\\\\right)^{4} - 2 \\\\, y\\\\left(x\\\\right) \\\\mathrm{D}_{0, 0}\\\\left(\\\\phi\\\\right)\\\\left(y\\\\left(x\\\\right), x\\\\right) \\\\frac{\\\\partial}{\\\\partial x}y\\\\left(x\\\\right)^{2} + 4 \\\\, y\\\\left(x\\\\right) \\\\mathrm{D}_{0, 1}\\\\left(\\\\xi\\\\right)\\\\left(y\\\\left(x\\\\right), x\\\\right) \\\\frac{\\\\partial}{\\\\partial x}y\\\\left(x\\\\right)^{2} + \\\\mathrm{D}_{0, 0, 0}\\\\left(\\\\phi\\\\right)\\\\left(y\\\\left(x\\\\right), x\\\\right) \\\\frac{\\\\partial}{\\\\partial x}y\\\\left(x\\\\right)^{3} - 6 \\\\, \\\\mathrm{D}_{0}\\\\left(\\\\xi\\\\right)\\\\left(y\\\\left(x\\\\right), x\\\\right) \\\\frac{\\\\partial}{\\\\partial x}y\\\\left(x\\\\right)^{3} - 3 \\\\, \\\\mathrm{D}_{0, 0, 1}\\\\left(\\\\xi\\\\right)\\\\left(y\\\\left(x\\\\right), x\\\\right) \\\\frac{\\\\partial}{\\\\partial x}y\\\\left(x\\\\right)^{3} + 6 \\\\, y\\\\left(x\\\\right) \\\\mathrm{D}_{0}\\\\left(\\\\xi\\\\right)\\\\left(y\\\\left(x\\\\right), x\\\\right) \\\\frac{\\\\partial}{\\\\partial x}y\\\\left(x\\\\right) \\\\frac{\\\\partial^{2}}{(\\\\partial x)^{2}}y\\\\left(x\\\\right) - 6 \\\\, \\\\mathrm{D}_{0, 0}\\\\left(\\\\xi\\\\right)\\\\left(y\\\\left(x\\\\right), x\\\\right) \\\\frac{\\\\partial}{\\\\partial x}y\\\\left(x\\\\right)^{2} \\\\frac{\\\\partial^{2}}{(\\\\partial x)^{2}}y\\\\left(x\\\\right) - 4 \\\\, y\\\\left(x\\\\right) \\\\mathrm{D}_{0, 1}\\\\left(\\\\phi\\\\right)\\\\left(y\\\\left(x\\\\right), x\\\\right) \\\\frac{\\\\partial}{\\\\partial x}y\\\\left(x\\\\right) + 4 \\\\, {\\\\left(3 \\\\, \\\\frac{\\\\partial}{\\\\partial x}y\\\\left(x\\\\right)^{2} - 2 \\\\, y\\\\left(x\\\\right) \\\\frac{\\\\partial^{2}}{(\\\\partial x)^{2}}y\\\\left(x\\\\right)\\\\right)} \\\\mathrm{D}_{0}\\\\left(\\\\xi\\\\right)\\\\left(y\\\\left(x\\\\right), x\\\\right) \\\\frac{\\\\partial}{\\\\partial x}y\\\\left(x\\\\right) + 2 \\\\, y\\\\left(x\\\\right) \\\\mathrm{D}_{1, 1}\\\\left(\\\\xi\\\\right)\\\\left(y\\\\left(x\\\\right), x\\\\right) \\\\frac{\\\\partial}{\\\\partial x}y\\\\left(x\\\\right) + 6 \\\\, \\\\mathrm{D}_{0}\\\\left(\\\\phi\\\\right)\\\\left(y\\\\left(x\\\\right), x\\\\right) \\\\frac{\\\\partial}{\\\\partial x}y\\\\left(x\\\\right)^{2} + 3 \\\\, \\\\mathrm{D}_{0, 0, 1}\\\\left(\\\\phi\\\\right)\\\\left(y\\\\left(x\\\\right), x\\\\right) \\\\frac{\\\\partial}{\\\\partial x}y\\\\left(x\\\\right)^{2} - 3 \\\\, \\\\mathrm{D}_{0, 1, 1}\\\\left(\\\\xi\\\\right)\\\\left(y\\\\left(x\\\\right), x\\\\right) \\\\frac{\\\\partial}{\\\\partial x}y\\\\left(x\\\\right)^{2} - 6 \\\\, \\\\mathrm{D}_{1}\\\\left(\\\\xi\\\\right)\\\\left(y\\\\left(x\\\\right), x\\\\right) \\\\frac{\\\\partial}{\\\\partial x}y\\\\left(x\\\\right)^{2} - 2 \\\\, y\\\\left(x\\\\right) \\\\mathrm{D}_{0}\\\\left(\\\\phi\\\\right)\\\\left(y\\\\left(x\\\\right), x\\\\right) \\\\frac{\\\\partial^{2}}{(\\\\partial x)^{2}}y\\\\left(x\\\\right) + 4 \\\\, y\\\\left(x\\\\right) \\\\mathrm{D}_{1}\\\\left(\\\\xi\\\\right)\\\\left(y\\\\left(x\\\\right), x\\\\right) \\\\frac{\\\\partial^{2}}{(\\\\partial x)^{2}}y\\\\left(x\\\\right) + 3 \\\\, \\\\mathrm{D}_{0, 0}\\\\left(\\\\phi\\\\right)\\\\left(y\\\\left(x\\\\right), x\\\\right) \\\\frac{\\\\partial}{\\\\partial x}y\\\\left(x\\\\right) \\\\frac{\\\\partial^{2}}{(\\\\partial x)^{2}}y\\\\left(x\\\\right) - 9 \\\\, \\\\mathrm{D}_{0, 1}\\\\left(\\\\xi\\\\right)\\\\left(y\\\\left(x\\\\right), x\\\\right) \\\\frac{\\\\partial}{\\\\partial x}y\\\\left(x\\\\right) \\\\frac{\\\\partial^{2}}{(\\\\partial x)^{2}}y\\\\left(x\\\\right) - 3 \\\\, \\\\mathrm{D}_{0}\\\\left(\\\\xi\\\\right)\\\\left(y\\\\left(x\\\\right), x\\\\right) \\\\frac{\\\\partial^{2}}{(\\\\partial x)^{2}}y\\\\left(x\\\\right)^{2} - {\\\\left(3 \\\\, \\\\frac{\\\\partial}{\\\\partial x}y\\\\left(x\\\\right)^{2} - 2 \\\\, y\\\\left(x\\\\right) \\\\frac{\\\\partial^{2}}{(\\\\partial x)^{2}}y\\\\left(x\\\\right)\\\\right)} \\\\mathrm{D}_{0}\\\\left(\\\\phi\\\\right)\\\\left(y\\\\left(x\\\\right), x\\\\right) - 2 \\\\, y\\\\left(x\\\\right) \\\\mathrm{D}_{1, 1}\\\\left(\\\\phi\\\\right)\\\\left(y\\\\left(x\\\\right), x\\\\right) + 3 \\\\, {\\\\left(3 \\\\, \\\\frac{\\\\partial}{\\\\partial x}y\\\\left(x\\\\right)^{2} - 2 \\\\, y\\\\left(x\\\\right) \\\\frac{\\\\partial^{2}}{(\\\\partial x)^{2}}y\\\\left(x\\\\right)\\\\right)} \\\\mathrm{D}_{1}\\\\left(\\\\xi\\\\right)\\\\left(y\\\\left(x\\\\right), x\\\\right) + 3 \\\\, \\\\mathrm{D}_{0, 1, 1}\\\\left(\\\\phi\\\\right)\\\\left(y\\\\left(x\\\\right), x\\\\right) \\\\frac{\\\\partial}{\\\\partial x}y\\\\left(x\\\\right) + 6 \\\\, \\\\mathrm{D}_{1}\\\\left(\\\\phi\\\\right)\\\\left(y\\\\left(x\\\\right), x\\\\right) \\\\frac{\\\\partial}{\\\\partial x}y\\\\left(x\\\\right) - \\\\mathrm{D}_{1, 1, 1}\\\\left(\\\\xi\\\\right)\\\\left(y\\\\left(x\\\\right), x\\\\right) \\\\frac{\\\\partial}{\\\\partial x}y\\\\left(x\\\\right) - 2 \\\\, \\\\phi\\\\left(y\\\\left(x\\\\right), x\\\\right) \\\\frac{\\\\partial^{2}}{(\\\\partial x)^{2}}y\\\\left(x\\\\right) + 3 \\\\, \\\\mathrm{D}_{0, 1}\\\\left(\\\\phi\\\\right)\\\\left(y\\\\left(x\\\\right), x\\\\right) \\\\frac{\\\\partial^{2}}{(\\\\partial x)^{2}}y\\\\left(x\\\\right) - 3 \\\\, \\\\mathrm{D}_{1, 1}\\\\left(\\\\xi\\\\right)\\\\left(y\\\\left(x\\\\right), x\\\\right) \\\\frac{\\\\partial^{2}}{(\\\\partial x)^{2}}y\\\\left(x\\\\right) + \\\\mathrm{D}_{1, 1, 1}\\\\left(\\\\phi\\\\right)\\\\left(y\\\\left(x\\\\right), x\\\\right)', operator=<function add_vararg at 0x74b23fca7ec0>, value=2*y(x)*D[0, 0](xi)(y(x), x)*diff(y(x), x)^3 - D[0, 0, 0](xi)(y(x), x)*diff(y(x), x)^4 - 2*y(x)*D[0, 0](phi)(y(x), x)*diff(y(x), x)^2 + 4*y(x)*D[0, 1](xi)(y(x), x)*diff(y(x), x)^2 + D[0, 0, 0](phi)(y(x), x)*diff(y(x), x)^3 - 6*D[0](xi)(y(x), x)*diff(y(x), x)^3 - 3*D[0, 0, 1](xi)(y(x), x)*diff(y(x), x)^3 + 6*y(x)*D[0](xi)(y(x), x)*diff(y(x), x)*diff(y(x), x, x) - 6*D[0, 0](xi)(y(x), x)*diff(y(x), x)^2*diff(y(x), x, x) - 4*y(x)*D[0, 1](phi)(y(x), x)*diff(y(x), x) + 4*(3*diff(y(x), x)^2 - 2*y(x)*diff(y(x), x, x))*D[0](xi)(y(x), x)*diff(y(x), x) + 2*y(x)*D[1, 1](xi)(y(x), x)*diff(y(x), x) + 6*D[0](phi)(y(x), x)*diff(y(x), x)^2 + 3*D[0, 0, 1](phi)(y(x), x)*diff(y(x), x)^2 - 3*D[0, 1, 1](xi)(y(x), x)*diff(y(x), x)^2 - 6*D[1](xi)(y(x), x)*diff(y(x), x)^2 - 2*y(x)*D[0](phi)(y(x), x)*diff(y(x), x, x) + 4*y(x)*D[1](xi)(y(x), x)*diff(y(x), x, x) + 3*D[0, 0](phi)(y(x), x)*diff(y(x), x)*diff(y(x), x, x) - 9*D[0, 1](xi)(y(x), x)*diff(y(x), x)*diff(y(x), x, x) - 3*D[0](xi)(y(x), x)*diff(y(x), x, x)^2 - (3*diff(y(x), x)^2 - 2*y(x)*diff(y(x), x, x))*D[0](phi)(y(x), x) - 2*y(x)*D[1, 1](phi)(y(x), x) + 3*(3*diff(y(x), x)^2 - 2*y(x)*diff(y(x), x, x))*D[1](xi)(y(x), x) + 3*D[0, 1, 1](phi)(y(x), x)*diff(y(x), x) + 6*D[1](phi)(y(x), x)*diff(y(x), x) - D[1, 1, 1](xi)(y(x), x)*diff(y(x), x) - 2*phi(y(x), x)*diff(y(x), x, x) + 3*D[0, 1](phi)(y(x), x)*diff(y(x), x, x) - 3*D[1, 1](xi)(y(x), x)*diff(y(x), x, x) + D[1, 1, 1](phi)(y(x), x)),\n",
      " 'ode': 3*diff(y(x), x)^2 - 2*y(x)*diff(y(x), x, x) + diff(y(x), x, x, x),\n",
      " 'ode1': 2*y(x)*D[0, 0](xi)(y(x), x)*diff(y(x), x)^3 - D[0, 0, 0](xi)(y(x), x)*diff(y(x), x)^4 - 2*y(x)*D[0, 0](phi)(y(x), x)*diff(y(x), x)^2 + 4*y(x)*D[0, 1](xi)(y(x), x)*diff(y(x), x)^2 + D[0, 0, 0](phi)(y(x), x)*diff(y(x), x)^3 - 6*D[0](xi)(y(x), x)*diff(y(x), x)^3 - 3*D[0, 0, 1](xi)(y(x), x)*diff(y(x), x)^3 + 6*y(x)*D[0](xi)(y(x), x)*diff(y(x), x)*diff(y(x), x, x) - 6*D[0, 0](xi)(y(x), x)*diff(y(x), x)^2*diff(y(x), x, x) - 4*y(x)*D[0, 1](phi)(y(x), x)*diff(y(x), x) + 4*(3*diff(y(x), x)^2 - 2*y(x)*diff(y(x), x, x))*D[0](xi)(y(x), x)*diff(y(x), x) + 2*y(x)*D[1, 1](xi)(y(x), x)*diff(y(x), x) + 6*D[0](phi)(y(x), x)*diff(y(x), x)^2 + 3*D[0, 0, 1](phi)(y(x), x)*diff(y(x), x)^2 - 3*D[0, 1, 1](xi)(y(x), x)*diff(y(x), x)^2 - 6*D[1](xi)(y(x), x)*diff(y(x), x)^2 - 2*y(x)*D[0](phi)(y(x), x)*diff(y(x), x, x) + 4*y(x)*D[1](xi)(y(x), x)*diff(y(x), x, x) + 3*D[0, 0](phi)(y(x), x)*diff(y(x), x)*diff(y(x), x, x) - 9*D[0, 1](xi)(y(x), x)*diff(y(x), x)*diff(y(x), x, x) - 3*D[0](xi)(y(x), x)*diff(y(x), x, x)^2 - (3*diff(y(x), x)^2 - 2*y(x)*diff(y(x), x, x))*D[0](phi)(y(x), x) - 2*y(x)*D[1, 1](phi)(y(x), x) + 3*(3*diff(y(x), x)^2 - 2*y(x)*diff(y(x), x, x))*D[1](xi)(y(x), x) + 3*D[0, 1, 1](phi)(y(x), x)*diff(y(x), x) + 6*D[1](phi)(y(x), x)*diff(y(x), x) - D[1, 1, 1](xi)(y(x), x)*diff(y(x), x) - 2*phi(y(x), x)*diff(y(x), x, x) + 3*D[0, 1](phi)(y(x), x)*diff(y(x), x, x) - 3*D[1, 1](xi)(y(x), x)*diff(y(x), x, x) + D[1, 1, 1](phi)(y(x), x),\n",
      " 'order': 3,\n",
      " 'pdb': <module 'pdb' from '/home/tapir/mambaforge/envs/sage/lib/python3.11/pdb.py'>,\n",
      " 'prolongation': 2*y(x)*D[0, 0](xi)(y(x), x)*diff(y(x), x)^3 - D[0, 0, 0](xi)(y(x), x)*diff(y(x), x)^4 - 2*y(x)*D[0, 0](phi)(y(x), x)*diff(y(x), x)^2 + 4*y(x)*D[0, 1](xi)(y(x), x)*diff(y(x), x)^2 + D[0, 0, 0](phi)(y(x), x)*diff(y(x), x)^3 - 6*D[0](xi)(y(x), x)*diff(y(x), x)^3 - 3*D[0, 0, 1](xi)(y(x), x)*diff(y(x), x)^3 + 6*y(x)*D[0](xi)(y(x), x)*diff(y(x), x)*diff(y(x), x, x) - 6*D[0, 0](xi)(y(x), x)*diff(y(x), x)^2*diff(y(x), x, x) - 4*y(x)*D[0, 1](phi)(y(x), x)*diff(y(x), x) + 2*y(x)*D[1, 1](xi)(y(x), x)*diff(y(x), x) + 6*D[0](phi)(y(x), x)*diff(y(x), x)^2 + 3*D[0, 0, 1](phi)(y(x), x)*diff(y(x), x)^2 - 3*D[0, 1, 1](xi)(y(x), x)*diff(y(x), x)^2 - 6*D[1](xi)(y(x), x)*diff(y(x), x)^2 - 2*y(x)*D[0](phi)(y(x), x)*diff(y(x), x, x) + 4*y(x)*D[1](xi)(y(x), x)*diff(y(x), x, x) + 3*D[0, 0](phi)(y(x), x)*diff(y(x), x)*diff(y(x), x, x) - 9*D[0, 1](xi)(y(x), x)*diff(y(x), x)*diff(y(x), x, x) - 3*D[0](xi)(y(x), x)*diff(y(x), x, x)^2 - 4*D[0](xi)(y(x), x)*diff(y(x), x)*diff(y(x), x, x, x) - 2*y(x)*D[1, 1](phi)(y(x), x) + 3*D[0, 1, 1](phi)(y(x), x)*diff(y(x), x) + 6*D[1](phi)(y(x), x)*diff(y(x), x) - D[1, 1, 1](xi)(y(x), x)*diff(y(x), x) - 2*phi(y(x), x)*diff(y(x), x, x) + 3*D[0, 1](phi)(y(x), x)*diff(y(x), x, x) - 3*D[1, 1](xi)(y(x), x)*diff(y(x), x, x) + D[0](phi)(y(x), x)*diff(y(x), x, x, x) - 3*D[1](xi)(y(x), x)*diff(y(x), x, x, x) + D[1, 1, 1](phi)(y(x), x),\n",
      " 's1': [diff(y(x), x, x, x) == -3*diff(y(x), x)^2 + 2*y(x)*diff(y(x), x, x)],\n",
      " 'tree': <delierium.helpers.ExpressionTree object at 0x74b254d5fa90>}\n"
     ]
    },
    {
     "name": "stdin",
     "output_type": "stream",
     "text": [
      "ipdb>  l\n"
     ]
    },
    {
     "name": "stdout",
     "output_type": "stream",
     "text": [
      "\u001b[1;32m    211 \u001b[0m        \u001b[0;31m# The higher order (=2) has power 2, so the first entry (=highest order)\u001b[0m\u001b[0;34m\u001b[0m\u001b[0;34m\u001b[0m\u001b[0m\n",
      "\u001b[1;32m    212 \u001b[0m        \u001b[0;31m# will be set to 2, the lowest order(=1) has power 5, so the index 1 contains\u001b[0m\u001b[0;34m\u001b[0m\u001b[0;34m\u001b[0m\u001b[0m\n",
      "\u001b[1;32m    213 \u001b[0m        \u001b[0;31m# the power 5. This way we now have on ordered list which than can be\u001b[0m\u001b[0;34m\u001b[0m\u001b[0;34m\u001b[0m\u001b[0m\n",
      "\u001b[1;32m    214 \u001b[0m        \u001b[0;31m# looped over from highest_order^highest_power to lowest_order^lowest_power\u001b[0m\u001b[0;34m\u001b[0m\u001b[0;34m\u001b[0m\u001b[0m\n",
      "\u001b[1;32m    215 \u001b[0m        \u001b[0;31m# to factor out the derivatives to get the determining equations\u001b[0m\u001b[0;34m\u001b[0m\u001b[0;34m\u001b[0m\u001b[0m\n",
      "\u001b[0;32m--> 216 \u001b[0;31m        \u001b[0mpowercollector\u001b[0m \u001b[0;34m=\u001b[0m \u001b[0;34m[\u001b[0m\u001b[0;36m0\u001b[0m\u001b[0;34m]\u001b[0m\u001b[0;34m*\u001b[0m\u001b[0;34m(\u001b[0m\u001b[0morder\u001b[0m\u001b[0;34m-\u001b[0m\u001b[0;36m1\u001b[0m\u001b[0;34m)\u001b[0m\u001b[0;34m\u001b[0m\u001b[0;34m\u001b[0m\u001b[0m\n",
      "\u001b[0m\u001b[1;32m    217 \u001b[0m        \u001b[0mv\u001b[0m \u001b[0;34m=\u001b[0m \u001b[0mnode\u001b[0m\u001b[0;34m.\u001b[0m\u001b[0mvalue\u001b[0m\u001b[0;34m\u001b[0m\u001b[0;34m\u001b[0m\u001b[0m\n",
      "\u001b[1;32m    218 \u001b[0m        \u001b[0;32mif\u001b[0m \u001b[0mv\u001b[0m\u001b[0;34m.\u001b[0m\u001b[0moperator\u001b[0m\u001b[0;34m(\u001b[0m\u001b[0;34m)\u001b[0m \u001b[0;32min\u001b[0m \u001b[0;34m[\u001b[0m\u001b[0msage\u001b[0m\u001b[0;34m.\u001b[0m\u001b[0msymbolic\u001b[0m\u001b[0;34m.\u001b[0m\u001b[0moperators\u001b[0m\u001b[0;34m.\u001b[0m\u001b[0madd_vararg\u001b[0m\u001b[0;34m,\u001b[0m \u001b[0;32mNone\u001b[0m\u001b[0;34m]\u001b[0m\u001b[0;34m:\u001b[0m\u001b[0;34m\u001b[0m\u001b[0;34m\u001b[0m\u001b[0m\n",
      "\u001b[1;32m    219 \u001b[0m             \u001b[0;32mcontinue\u001b[0m\u001b[0;34m\u001b[0m\u001b[0;34m\u001b[0m\u001b[0m\n",
      "\u001b[1;32m    220 \u001b[0m        \u001b[0;32mif\u001b[0m \u001b[0misinstance\u001b[0m\u001b[0;34m(\u001b[0m\u001b[0mv\u001b[0m\u001b[0;34m.\u001b[0m\u001b[0moperator\u001b[0m\u001b[0;34m(\u001b[0m\u001b[0;34m)\u001b[0m\u001b[0;34m,\u001b[0m \u001b[0mFDerivativeOperator\u001b[0m\u001b[0;34m)\u001b[0m\u001b[0;34m:\u001b[0m\u001b[0;34m\u001b[0m\u001b[0;34m\u001b[0m\u001b[0m\n",
      "\u001b[1;32m    221 \u001b[0m            \u001b[0;31m# standalone diff operator\u001b[0m\u001b[0;34m\u001b[0m\u001b[0;34m\u001b[0m\u001b[0m\n",
      "\n"
     ]
    },
    {
     "name": "stdin",
     "output_type": "stream",
     "text": [
      "ipdb>  n\n"
     ]
    },
    {
     "name": "stdout",
     "output_type": "stream",
     "text": [
      "> \u001b[0;32m/home/tapir/research-disk/delierium/src/delierium/Infinitesimals.py\u001b[0m(217)\u001b[0;36moverdeterminedSystemODE\u001b[0;34m()\u001b[0m\n",
      "\u001b[0;32m    215 \u001b[0;31m        \u001b[0;31m# to factor out the derivatives to get the determining equations\u001b[0m\u001b[0;34m\u001b[0m\u001b[0;34m\u001b[0m\u001b[0m\n",
      "\u001b[0m\u001b[0;32m    216 \u001b[0;31m        \u001b[0mpowercollector\u001b[0m \u001b[0;34m=\u001b[0m \u001b[0;34m[\u001b[0m\u001b[0;36m0\u001b[0m\u001b[0;34m]\u001b[0m\u001b[0;34m*\u001b[0m\u001b[0;34m(\u001b[0m\u001b[0morder\u001b[0m\u001b[0;34m-\u001b[0m\u001b[0;36m1\u001b[0m\u001b[0;34m)\u001b[0m\u001b[0;34m\u001b[0m\u001b[0;34m\u001b[0m\u001b[0m\n",
      "\u001b[0m\u001b[0;32m--> 217 \u001b[0;31m        \u001b[0mv\u001b[0m \u001b[0;34m=\u001b[0m \u001b[0mnode\u001b[0m\u001b[0;34m.\u001b[0m\u001b[0mvalue\u001b[0m\u001b[0;34m\u001b[0m\u001b[0;34m\u001b[0m\u001b[0m\n",
      "\u001b[0m\u001b[0;32m    218 \u001b[0;31m        \u001b[0;32mif\u001b[0m \u001b[0mv\u001b[0m\u001b[0;34m.\u001b[0m\u001b[0moperator\u001b[0m\u001b[0;34m(\u001b[0m\u001b[0;34m)\u001b[0m \u001b[0;32min\u001b[0m \u001b[0;34m[\u001b[0m\u001b[0msage\u001b[0m\u001b[0;34m.\u001b[0m\u001b[0msymbolic\u001b[0m\u001b[0;34m.\u001b[0m\u001b[0moperators\u001b[0m\u001b[0;34m.\u001b[0m\u001b[0madd_vararg\u001b[0m\u001b[0;34m,\u001b[0m \u001b[0;32mNone\u001b[0m\u001b[0;34m]\u001b[0m\u001b[0;34m:\u001b[0m\u001b[0;34m\u001b[0m\u001b[0;34m\u001b[0m\u001b[0m\n",
      "\u001b[0m\u001b[0;32m    219 \u001b[0;31m             \u001b[0;32mcontinue\u001b[0m\u001b[0;34m\u001b[0m\u001b[0;34m\u001b[0m\u001b[0m\n",
      "\u001b[0m\n"
     ]
    },
    {
     "name": "stdin",
     "output_type": "stream",
     "text": [
      "ipdb>  n\n"
     ]
    },
    {
     "name": "stdout",
     "output_type": "stream",
     "text": [
      "> \u001b[0;32m/home/tapir/research-disk/delierium/src/delierium/Infinitesimals.py\u001b[0m(218)\u001b[0;36moverdeterminedSystemODE\u001b[0;34m()\u001b[0m\n",
      "\u001b[0;32m    216 \u001b[0;31m        \u001b[0mpowercollector\u001b[0m \u001b[0;34m=\u001b[0m \u001b[0;34m[\u001b[0m\u001b[0;36m0\u001b[0m\u001b[0;34m]\u001b[0m\u001b[0;34m*\u001b[0m\u001b[0;34m(\u001b[0m\u001b[0morder\u001b[0m\u001b[0;34m-\u001b[0m\u001b[0;36m1\u001b[0m\u001b[0;34m)\u001b[0m\u001b[0;34m\u001b[0m\u001b[0;34m\u001b[0m\u001b[0m\n",
      "\u001b[0m\u001b[0;32m    217 \u001b[0;31m        \u001b[0mv\u001b[0m \u001b[0;34m=\u001b[0m \u001b[0mnode\u001b[0m\u001b[0;34m.\u001b[0m\u001b[0mvalue\u001b[0m\u001b[0;34m\u001b[0m\u001b[0;34m\u001b[0m\u001b[0m\n",
      "\u001b[0m\u001b[0;32m--> 218 \u001b[0;31m        \u001b[0;32mif\u001b[0m \u001b[0mv\u001b[0m\u001b[0;34m.\u001b[0m\u001b[0moperator\u001b[0m\u001b[0;34m(\u001b[0m\u001b[0;34m)\u001b[0m \u001b[0;32min\u001b[0m \u001b[0;34m[\u001b[0m\u001b[0msage\u001b[0m\u001b[0;34m.\u001b[0m\u001b[0msymbolic\u001b[0m\u001b[0;34m.\u001b[0m\u001b[0moperators\u001b[0m\u001b[0;34m.\u001b[0m\u001b[0madd_vararg\u001b[0m\u001b[0;34m,\u001b[0m \u001b[0;32mNone\u001b[0m\u001b[0;34m]\u001b[0m\u001b[0;34m:\u001b[0m\u001b[0;34m\u001b[0m\u001b[0;34m\u001b[0m\u001b[0m\n",
      "\u001b[0m\u001b[0;32m    219 \u001b[0;31m             \u001b[0;32mcontinue\u001b[0m\u001b[0;34m\u001b[0m\u001b[0;34m\u001b[0m\u001b[0m\n",
      "\u001b[0m\u001b[0;32m    220 \u001b[0;31m        \u001b[0;32mif\u001b[0m \u001b[0misinstance\u001b[0m\u001b[0;34m(\u001b[0m\u001b[0mv\u001b[0m\u001b[0;34m.\u001b[0m\u001b[0moperator\u001b[0m\u001b[0;34m(\u001b[0m\u001b[0;34m)\u001b[0m\u001b[0;34m,\u001b[0m \u001b[0mFDerivativeOperator\u001b[0m\u001b[0;34m)\u001b[0m\u001b[0;34m:\u001b[0m\u001b[0;34m\u001b[0m\u001b[0;34m\u001b[0m\u001b[0m\n",
      "\u001b[0m\n"
     ]
    },
    {
     "name": "stdin",
     "output_type": "stream",
     "text": [
      "ipdb>  n\n"
     ]
    },
    {
     "name": "stdout",
     "output_type": "stream",
     "text": [
      "> \u001b[0;32m/home/tapir/research-disk/delierium/src/delierium/Infinitesimals.py\u001b[0m(219)\u001b[0;36moverdeterminedSystemODE\u001b[0;34m()\u001b[0m\n",
      "\u001b[0;32m    217 \u001b[0;31m        \u001b[0mv\u001b[0m \u001b[0;34m=\u001b[0m \u001b[0mnode\u001b[0m\u001b[0;34m.\u001b[0m\u001b[0mvalue\u001b[0m\u001b[0;34m\u001b[0m\u001b[0;34m\u001b[0m\u001b[0m\n",
      "\u001b[0m\u001b[0;32m    218 \u001b[0;31m        \u001b[0;32mif\u001b[0m \u001b[0mv\u001b[0m\u001b[0;34m.\u001b[0m\u001b[0moperator\u001b[0m\u001b[0;34m(\u001b[0m\u001b[0;34m)\u001b[0m \u001b[0;32min\u001b[0m \u001b[0;34m[\u001b[0m\u001b[0msage\u001b[0m\u001b[0;34m.\u001b[0m\u001b[0msymbolic\u001b[0m\u001b[0;34m.\u001b[0m\u001b[0moperators\u001b[0m\u001b[0;34m.\u001b[0m\u001b[0madd_vararg\u001b[0m\u001b[0;34m,\u001b[0m \u001b[0;32mNone\u001b[0m\u001b[0;34m]\u001b[0m\u001b[0;34m:\u001b[0m\u001b[0;34m\u001b[0m\u001b[0;34m\u001b[0m\u001b[0m\n",
      "\u001b[0m\u001b[0;32m--> 219 \u001b[0;31m             \u001b[0;32mcontinue\u001b[0m\u001b[0;34m\u001b[0m\u001b[0;34m\u001b[0m\u001b[0m\n",
      "\u001b[0m\u001b[0;32m    220 \u001b[0;31m        \u001b[0;32mif\u001b[0m \u001b[0misinstance\u001b[0m\u001b[0;34m(\u001b[0m\u001b[0mv\u001b[0m\u001b[0;34m.\u001b[0m\u001b[0moperator\u001b[0m\u001b[0;34m(\u001b[0m\u001b[0;34m)\u001b[0m\u001b[0;34m,\u001b[0m \u001b[0mFDerivativeOperator\u001b[0m\u001b[0;34m)\u001b[0m\u001b[0;34m:\u001b[0m\u001b[0;34m\u001b[0m\u001b[0;34m\u001b[0m\u001b[0m\n",
      "\u001b[0m\u001b[0;32m    221 \u001b[0;31m            \u001b[0;31m# standalone diff operator\u001b[0m\u001b[0;34m\u001b[0m\u001b[0;34m\u001b[0m\u001b[0m\n",
      "\u001b[0m\n"
     ]
    },
    {
     "name": "stdin",
     "output_type": "stream",
     "text": [
      "ipdb>  pp v\n"
     ]
    },
    {
     "name": "stdout",
     "output_type": "stream",
     "text": [
      "2*y(x)*D[0, 0](xi)(y(x), x)*diff(y(x), x)^3 - D[0, 0, 0](xi)(y(x), x)*diff(y(x), x)^4 - 2*y(x)*D[0, 0](phi)(y(x), x)*diff(y(x), x)^2 + 4*y(x)*D[0, 1](xi)(y(x), x)*diff(y(x), x)^2 + D[0, 0, 0](phi)(y(x), x)*diff(y(x), x)^3 - 6*D[0](xi)(y(x), x)*diff(y(x), x)^3 - 3*D[0, 0, 1](xi)(y(x), x)*diff(y(x), x)^3 + 6*y(x)*D[0](xi)(y(x), x)*diff(y(x), x)*diff(y(x), x, x) - 6*D[0, 0](xi)(y(x), x)*diff(y(x), x)^2*diff(y(x), x, x) - 4*y(x)*D[0, 1](phi)(y(x), x)*diff(y(x), x) + 4*(3*diff(y(x), x)^2 - 2*y(x)*diff(y(x), x, x))*D[0](xi)(y(x), x)*diff(y(x), x) + 2*y(x)*D[1, 1](xi)(y(x), x)*diff(y(x), x) + 6*D[0](phi)(y(x), x)*diff(y(x), x)^2 + 3*D[0, 0, 1](phi)(y(x), x)*diff(y(x), x)^2 - 3*D[0, 1, 1](xi)(y(x), x)*diff(y(x), x)^2 - 6*D[1](xi)(y(x), x)*diff(y(x), x)^2 - 2*y(x)*D[0](phi)(y(x), x)*diff(y(x), x, x) + 4*y(x)*D[1](xi)(y(x), x)*diff(y(x), x, x) + 3*D[0, 0](phi)(y(x), x)*diff(y(x), x)*diff(y(x), x, x) - 9*D[0, 1](xi)(y(x), x)*diff(y(x), x)*diff(y(x), x, x) - 3*D[0](xi)(y(x), x)*diff(y(x), x, x)^2 - (3*diff(y(x), x)^2 - 2*y(x)*diff(y(x), x, x))*D[0](phi)(y(x), x) - 2*y(x)*D[1, 1](phi)(y(x), x) + 3*(3*diff(y(x), x)^2 - 2*y(x)*diff(y(x), x, x))*D[1](xi)(y(x), x) + 3*D[0, 1, 1](phi)(y(x), x)*diff(y(x), x) + 6*D[1](phi)(y(x), x)*diff(y(x), x) - D[1, 1, 1](xi)(y(x), x)*diff(y(x), x) - 2*phi(y(x), x)*diff(y(x), x, x) + 3*D[0, 1](phi)(y(x), x)*diff(y(x), x, x) - 3*D[1, 1](xi)(y(x), x)*diff(y(x), x, x) + D[1, 1, 1](phi)(y(x), x)\n"
     ]
    },
    {
     "name": "stdin",
     "output_type": "stream",
     "text": [
      "ipdb>  n\n"
     ]
    },
    {
     "name": "stdout",
     "output_type": "stream",
     "text": [
      "> \u001b[0;32m/home/tapir/research-disk/delierium/src/delierium/Infinitesimals.py\u001b[0m(200)\u001b[0;36moverdeterminedSystemODE\u001b[0;34m()\u001b[0m\n",
      "\u001b[0;32m    198 \u001b[0;31m    \u001b[0me\u001b[0m         \u001b[0;34m=\u001b[0m \u001b[0mnext\u001b[0m\u001b[0;34m(\u001b[0m\u001b[0ml\u001b[0m\u001b[0;34m)\u001b[0m\u001b[0;34m\u001b[0m\u001b[0;34m\u001b[0m\u001b[0m\n",
      "\u001b[0m\u001b[0;32m    199 \u001b[0;31m    \u001b[0mall_this_stuff\u001b[0m \u001b[0;34m=\u001b[0m \u001b[0mset\u001b[0m\u001b[0;34m(\u001b[0m\u001b[0;34m)\u001b[0m\u001b[0;34m\u001b[0m\u001b[0;34m\u001b[0m\u001b[0m\n",
      "\u001b[0m\u001b[0;32m--> 200 \u001b[0;31m    \u001b[0;32mfor\u001b[0m \u001b[0mnode\u001b[0m \u001b[0;32min\u001b[0m \u001b[0mPreOrderIter\u001b[0m\u001b[0;34m(\u001b[0m\u001b[0mtree\u001b[0m\u001b[0;34m.\u001b[0m\u001b[0mroot\u001b[0m\u001b[0;34m)\u001b[0m\u001b[0;34m:\u001b[0m\u001b[0;34m\u001b[0m\u001b[0;34m\u001b[0m\u001b[0m\n",
      "\u001b[0m\u001b[0;32m    201 \u001b[0;31m        \u001b[0;31m# powercollector: an array which stores powers of derivatives\u001b[0m\u001b[0;34m\u001b[0m\u001b[0;34m\u001b[0m\u001b[0m\n",
      "\u001b[0m\u001b[0;32m    202 \u001b[0;31m        \u001b[0;31m# the index is the(reversed) order, the value is the power\u001b[0m\u001b[0;34m\u001b[0m\u001b[0;34m\u001b[0m\u001b[0m\n",
      "\u001b[0m\n"
     ]
    },
    {
     "name": "stdin",
     "output_type": "stream",
     "text": [
      "ipdb>  n\n"
     ]
    },
    {
     "name": "stdout",
     "output_type": "stream",
     "text": [
      "> \u001b[0;32m/home/tapir/research-disk/delierium/src/delierium/Infinitesimals.py\u001b[0m(216)\u001b[0;36moverdeterminedSystemODE\u001b[0;34m()\u001b[0m\n",
      "\u001b[0;32m    214 \u001b[0;31m        \u001b[0;31m# looped over from highest_order^highest_power to lowest_order^lowest_power\u001b[0m\u001b[0;34m\u001b[0m\u001b[0;34m\u001b[0m\u001b[0m\n",
      "\u001b[0m\u001b[0;32m    215 \u001b[0;31m        \u001b[0;31m# to factor out the derivatives to get the determining equations\u001b[0m\u001b[0;34m\u001b[0m\u001b[0;34m\u001b[0m\u001b[0m\n",
      "\u001b[0m\u001b[0;32m--> 216 \u001b[0;31m        \u001b[0mpowercollector\u001b[0m \u001b[0;34m=\u001b[0m \u001b[0;34m[\u001b[0m\u001b[0;36m0\u001b[0m\u001b[0;34m]\u001b[0m\u001b[0;34m*\u001b[0m\u001b[0;34m(\u001b[0m\u001b[0morder\u001b[0m\u001b[0;34m-\u001b[0m\u001b[0;36m1\u001b[0m\u001b[0;34m)\u001b[0m\u001b[0;34m\u001b[0m\u001b[0;34m\u001b[0m\u001b[0m\n",
      "\u001b[0m\u001b[0;32m    217 \u001b[0;31m        \u001b[0mv\u001b[0m \u001b[0;34m=\u001b[0m \u001b[0mnode\u001b[0m\u001b[0;34m.\u001b[0m\u001b[0mvalue\u001b[0m\u001b[0;34m\u001b[0m\u001b[0;34m\u001b[0m\u001b[0m\n",
      "\u001b[0m\u001b[0;32m    218 \u001b[0;31m        \u001b[0;32mif\u001b[0m \u001b[0mv\u001b[0m\u001b[0;34m.\u001b[0m\u001b[0moperator\u001b[0m\u001b[0;34m(\u001b[0m\u001b[0;34m)\u001b[0m \u001b[0;32min\u001b[0m \u001b[0;34m[\u001b[0m\u001b[0msage\u001b[0m\u001b[0;34m.\u001b[0m\u001b[0msymbolic\u001b[0m\u001b[0;34m.\u001b[0m\u001b[0moperators\u001b[0m\u001b[0;34m.\u001b[0m\u001b[0madd_vararg\u001b[0m\u001b[0;34m,\u001b[0m \u001b[0;32mNone\u001b[0m\u001b[0;34m]\u001b[0m\u001b[0;34m:\u001b[0m\u001b[0;34m\u001b[0m\u001b[0;34m\u001b[0m\u001b[0m\n",
      "\u001b[0m\n"
     ]
    },
    {
     "name": "stdin",
     "output_type": "stream",
     "text": [
      "ipdb>  n\n"
     ]
    },
    {
     "name": "stdout",
     "output_type": "stream",
     "text": [
      "> \u001b[0;32m/home/tapir/research-disk/delierium/src/delierium/Infinitesimals.py\u001b[0m(217)\u001b[0;36moverdeterminedSystemODE\u001b[0;34m()\u001b[0m\n",
      "\u001b[0;32m    215 \u001b[0;31m        \u001b[0;31m# to factor out the derivatives to get the determining equations\u001b[0m\u001b[0;34m\u001b[0m\u001b[0;34m\u001b[0m\u001b[0m\n",
      "\u001b[0m\u001b[0;32m    216 \u001b[0;31m        \u001b[0mpowercollector\u001b[0m \u001b[0;34m=\u001b[0m \u001b[0;34m[\u001b[0m\u001b[0;36m0\u001b[0m\u001b[0;34m]\u001b[0m\u001b[0;34m*\u001b[0m\u001b[0;34m(\u001b[0m\u001b[0morder\u001b[0m\u001b[0;34m-\u001b[0m\u001b[0;36m1\u001b[0m\u001b[0;34m)\u001b[0m\u001b[0;34m\u001b[0m\u001b[0;34m\u001b[0m\u001b[0m\n",
      "\u001b[0m\u001b[0;32m--> 217 \u001b[0;31m        \u001b[0mv\u001b[0m \u001b[0;34m=\u001b[0m \u001b[0mnode\u001b[0m\u001b[0;34m.\u001b[0m\u001b[0mvalue\u001b[0m\u001b[0;34m\u001b[0m\u001b[0;34m\u001b[0m\u001b[0m\n",
      "\u001b[0m\u001b[0;32m    218 \u001b[0;31m        \u001b[0;32mif\u001b[0m \u001b[0mv\u001b[0m\u001b[0;34m.\u001b[0m\u001b[0moperator\u001b[0m\u001b[0;34m(\u001b[0m\u001b[0;34m)\u001b[0m \u001b[0;32min\u001b[0m \u001b[0;34m[\u001b[0m\u001b[0msage\u001b[0m\u001b[0;34m.\u001b[0m\u001b[0msymbolic\u001b[0m\u001b[0;34m.\u001b[0m\u001b[0moperators\u001b[0m\u001b[0;34m.\u001b[0m\u001b[0madd_vararg\u001b[0m\u001b[0;34m,\u001b[0m \u001b[0;32mNone\u001b[0m\u001b[0;34m]\u001b[0m\u001b[0;34m:\u001b[0m\u001b[0;34m\u001b[0m\u001b[0;34m\u001b[0m\u001b[0m\n",
      "\u001b[0m\u001b[0;32m    219 \u001b[0;31m             \u001b[0;32mcontinue\u001b[0m\u001b[0;34m\u001b[0m\u001b[0;34m\u001b[0m\u001b[0m\n",
      "\u001b[0m\n"
     ]
    },
    {
     "name": "stdin",
     "output_type": "stream",
     "text": [
      "ipdb>  n\n"
     ]
    },
    {
     "name": "stdout",
     "output_type": "stream",
     "text": [
      "> \u001b[0;32m/home/tapir/research-disk/delierium/src/delierium/Infinitesimals.py\u001b[0m(218)\u001b[0;36moverdeterminedSystemODE\u001b[0;34m()\u001b[0m\n",
      "\u001b[0;32m    216 \u001b[0;31m        \u001b[0mpowercollector\u001b[0m \u001b[0;34m=\u001b[0m \u001b[0;34m[\u001b[0m\u001b[0;36m0\u001b[0m\u001b[0;34m]\u001b[0m\u001b[0;34m*\u001b[0m\u001b[0;34m(\u001b[0m\u001b[0morder\u001b[0m\u001b[0;34m-\u001b[0m\u001b[0;36m1\u001b[0m\u001b[0;34m)\u001b[0m\u001b[0;34m\u001b[0m\u001b[0;34m\u001b[0m\u001b[0m\n",
      "\u001b[0m\u001b[0;32m    217 \u001b[0;31m        \u001b[0mv\u001b[0m \u001b[0;34m=\u001b[0m \u001b[0mnode\u001b[0m\u001b[0;34m.\u001b[0m\u001b[0mvalue\u001b[0m\u001b[0;34m\u001b[0m\u001b[0;34m\u001b[0m\u001b[0m\n",
      "\u001b[0m\u001b[0;32m--> 218 \u001b[0;31m        \u001b[0;32mif\u001b[0m \u001b[0mv\u001b[0m\u001b[0;34m.\u001b[0m\u001b[0moperator\u001b[0m\u001b[0;34m(\u001b[0m\u001b[0;34m)\u001b[0m \u001b[0;32min\u001b[0m \u001b[0;34m[\u001b[0m\u001b[0msage\u001b[0m\u001b[0;34m.\u001b[0m\u001b[0msymbolic\u001b[0m\u001b[0;34m.\u001b[0m\u001b[0moperators\u001b[0m\u001b[0;34m.\u001b[0m\u001b[0madd_vararg\u001b[0m\u001b[0;34m,\u001b[0m \u001b[0;32mNone\u001b[0m\u001b[0;34m]\u001b[0m\u001b[0;34m:\u001b[0m\u001b[0;34m\u001b[0m\u001b[0;34m\u001b[0m\u001b[0m\n",
      "\u001b[0m\u001b[0;32m    219 \u001b[0;31m             \u001b[0;32mcontinue\u001b[0m\u001b[0;34m\u001b[0m\u001b[0;34m\u001b[0m\u001b[0m\n",
      "\u001b[0m\u001b[0;32m    220 \u001b[0;31m        \u001b[0;32mif\u001b[0m \u001b[0misinstance\u001b[0m\u001b[0;34m(\u001b[0m\u001b[0mv\u001b[0m\u001b[0;34m.\u001b[0m\u001b[0moperator\u001b[0m\u001b[0;34m(\u001b[0m\u001b[0;34m)\u001b[0m\u001b[0;34m,\u001b[0m \u001b[0mFDerivativeOperator\u001b[0m\u001b[0;34m)\u001b[0m\u001b[0;34m:\u001b[0m\u001b[0;34m\u001b[0m\u001b[0;34m\u001b[0m\u001b[0m\n",
      "\u001b[0m\n"
     ]
    },
    {
     "name": "stdin",
     "output_type": "stream",
     "text": [
      "ipdb>  n\n"
     ]
    },
    {
     "name": "stdout",
     "output_type": "stream",
     "text": [
      "> \u001b[0;32m/home/tapir/research-disk/delierium/src/delierium/Infinitesimals.py\u001b[0m(220)\u001b[0;36moverdeterminedSystemODE\u001b[0;34m()\u001b[0m\n",
      "\u001b[0;32m    218 \u001b[0;31m        \u001b[0;32mif\u001b[0m \u001b[0mv\u001b[0m\u001b[0;34m.\u001b[0m\u001b[0moperator\u001b[0m\u001b[0;34m(\u001b[0m\u001b[0;34m)\u001b[0m \u001b[0;32min\u001b[0m \u001b[0;34m[\u001b[0m\u001b[0msage\u001b[0m\u001b[0;34m.\u001b[0m\u001b[0msymbolic\u001b[0m\u001b[0;34m.\u001b[0m\u001b[0moperators\u001b[0m\u001b[0;34m.\u001b[0m\u001b[0madd_vararg\u001b[0m\u001b[0;34m,\u001b[0m \u001b[0;32mNone\u001b[0m\u001b[0;34m]\u001b[0m\u001b[0;34m:\u001b[0m\u001b[0;34m\u001b[0m\u001b[0;34m\u001b[0m\u001b[0m\n",
      "\u001b[0m\u001b[0;32m    219 \u001b[0;31m             \u001b[0;32mcontinue\u001b[0m\u001b[0;34m\u001b[0m\u001b[0;34m\u001b[0m\u001b[0m\n",
      "\u001b[0m\u001b[0;32m--> 220 \u001b[0;31m        \u001b[0;32mif\u001b[0m \u001b[0misinstance\u001b[0m\u001b[0;34m(\u001b[0m\u001b[0mv\u001b[0m\u001b[0;34m.\u001b[0m\u001b[0moperator\u001b[0m\u001b[0;34m(\u001b[0m\u001b[0;34m)\u001b[0m\u001b[0;34m,\u001b[0m \u001b[0mFDerivativeOperator\u001b[0m\u001b[0;34m)\u001b[0m\u001b[0;34m:\u001b[0m\u001b[0;34m\u001b[0m\u001b[0;34m\u001b[0m\u001b[0m\n",
      "\u001b[0m\u001b[0;32m    221 \u001b[0;31m            \u001b[0;31m# standalone diff operator\u001b[0m\u001b[0;34m\u001b[0m\u001b[0;34m\u001b[0m\u001b[0m\n",
      "\u001b[0m\u001b[0;32m    222 \u001b[0;31m            \u001b[0;32mif\u001b[0m \u001b[0mv\u001b[0m\u001b[0;34m.\u001b[0m\u001b[0moperands\u001b[0m\u001b[0;34m(\u001b[0m\u001b[0;34m)\u001b[0m\u001b[0;34m[\u001b[0m\u001b[0;36m0\u001b[0m\u001b[0;34m]\u001b[0m \u001b[0;34m!=\u001b[0m \u001b[0mindependent\u001b[0m\u001b[0;34m:\u001b[0m\u001b[0;34m\u001b[0m\u001b[0;34m\u001b[0m\u001b[0m\n",
      "\u001b[0m\n"
     ]
    },
    {
     "name": "stdin",
     "output_type": "stream",
     "text": [
      "ipdb>  n\n"
     ]
    },
    {
     "name": "stdout",
     "output_type": "stream",
     "text": [
      "> \u001b[0;32m/home/tapir/research-disk/delierium/src/delierium/Infinitesimals.py\u001b[0m(228)\u001b[0;36moverdeterminedSystemODE\u001b[0;34m()\u001b[0m\n",
      "\u001b[0;32m    226 \u001b[0;31m            \u001b[0mall_this_stuff\u001b[0m\u001b[0;34m.\u001b[0m\u001b[0madd\u001b[0m\u001b[0;34m(\u001b[0m\u001b[0mterm\u001b[0m\u001b[0;34m(\u001b[0m\u001b[0mtuple\u001b[0m\u001b[0;34m(\u001b[0m\u001b[0mpowercollector\u001b[0m\u001b[0;34m)\u001b[0m\u001b[0;34m,\u001b[0m \u001b[0mv\u001b[0m\u001b[0;34m)\u001b[0m\u001b[0;34m)\u001b[0m\u001b[0;34m\u001b[0m\u001b[0;34m\u001b[0m\u001b[0m\n",
      "\u001b[0m\u001b[0;32m    227 \u001b[0;31m            \u001b[0;32mcontinue\u001b[0m\u001b[0;34m\u001b[0m\u001b[0;34m\u001b[0m\u001b[0m\n",
      "\u001b[0m\u001b[0;32m--> 228 \u001b[0;31m        \u001b[0;32mif\u001b[0m \u001b[0mv\u001b[0m\u001b[0;34m.\u001b[0m\u001b[0moperator\u001b[0m\u001b[0;34m(\u001b[0m\u001b[0;34m)\u001b[0m \u001b[0;32mis\u001b[0m \u001b[0msage\u001b[0m\u001b[0;34m.\u001b[0m\u001b[0msymbolic\u001b[0m\u001b[0;34m.\u001b[0m\u001b[0moperators\u001b[0m\u001b[0;34m.\u001b[0m\u001b[0mmul_vararg\u001b[0m\u001b[0;34m:\u001b[0m\u001b[0;34m\u001b[0m\u001b[0;34m\u001b[0m\u001b[0m\n",
      "\u001b[0m\u001b[0;32m    229 \u001b[0;31m            \u001b[0;31m# the factors containing derivatives can be combined multiplicatively\u001b[0m\u001b[0;34m\u001b[0m\u001b[0;34m\u001b[0m\u001b[0m\n",
      "\u001b[0m\u001b[0;32m    230 \u001b[0;31m            \u001b[0;31m# We will analize them factor by factor, put powers and orders into\u001b[0m\u001b[0;34m\u001b[0m\u001b[0;34m\u001b[0m\u001b[0m\n",
      "\u001b[0m\n"
     ]
    },
    {
     "name": "stdin",
     "output_type": "stream",
     "text": [
      "ipdb>  n\n"
     ]
    },
    {
     "name": "stdout",
     "output_type": "stream",
     "text": [
      "> \u001b[0;32m/home/tapir/research-disk/delierium/src/delierium/Infinitesimals.py\u001b[0m(233)\u001b[0;36moverdeterminedSystemODE\u001b[0;34m()\u001b[0m\n",
      "\u001b[0;32m    231 \u001b[0;31m            \u001b[0;31m# 'power_collector', and multiply these factors together into 'local_term',\u001b[0m\u001b[0;34m\u001b[0m\u001b[0;34m\u001b[0m\u001b[0m\n",
      "\u001b[0m\u001b[0;32m    232 \u001b[0;31m            \u001b[0;31m# ans store both together into 'all_this_stuff'\u001b[0m\u001b[0;34m\u001b[0m\u001b[0;34m\u001b[0m\u001b[0m\n",
      "\u001b[0m\u001b[0;32m--> 233 \u001b[0;31m            \u001b[0mlocal_term\u001b[0m \u001b[0;34m=\u001b[0m \u001b[0;36m1\u001b[0m\u001b[0;34m\u001b[0m\u001b[0;34m\u001b[0m\u001b[0m\n",
      "\u001b[0m\u001b[0;32m    234 \u001b[0;31m            \u001b[0;32mfor\u001b[0m \u001b[0mw\u001b[0m \u001b[0;32min\u001b[0m \u001b[0mv\u001b[0m\u001b[0;34m.\u001b[0m\u001b[0moperands\u001b[0m\u001b[0;34m(\u001b[0m\u001b[0;34m)\u001b[0m\u001b[0;34m:\u001b[0m\u001b[0;34m\u001b[0m\u001b[0;34m\u001b[0m\u001b[0m\n",
      "\u001b[0m\u001b[0;32m    235 \u001b[0;31m                \u001b[0;32mif\u001b[0m \u001b[0misinstance\u001b[0m\u001b[0;34m(\u001b[0m\u001b[0mw\u001b[0m\u001b[0;34m.\u001b[0m\u001b[0moperator\u001b[0m\u001b[0;34m(\u001b[0m\u001b[0;34m)\u001b[0m\u001b[0;34m,\u001b[0m \u001b[0mFDerivativeOperator\u001b[0m\u001b[0;34m)\u001b[0m\u001b[0;34m:\u001b[0m\u001b[0;34m\u001b[0m\u001b[0;34m\u001b[0m\u001b[0m\n",
      "\u001b[0m\n"
     ]
    },
    {
     "name": "stdin",
     "output_type": "stream",
     "text": [
      "ipdb>  n\n"
     ]
    },
    {
     "name": "stdout",
     "output_type": "stream",
     "text": [
      "> \u001b[0;32m/home/tapir/research-disk/delierium/src/delierium/Infinitesimals.py\u001b[0m(234)\u001b[0;36moverdeterminedSystemODE\u001b[0;34m()\u001b[0m\n",
      "\u001b[0;32m    232 \u001b[0;31m            \u001b[0;31m# ans store both together into 'all_this_stuff'\u001b[0m\u001b[0;34m\u001b[0m\u001b[0;34m\u001b[0m\u001b[0m\n",
      "\u001b[0m\u001b[0;32m    233 \u001b[0;31m            \u001b[0mlocal_term\u001b[0m \u001b[0;34m=\u001b[0m \u001b[0;36m1\u001b[0m\u001b[0;34m\u001b[0m\u001b[0;34m\u001b[0m\u001b[0m\n",
      "\u001b[0m\u001b[0;32m--> 234 \u001b[0;31m            \u001b[0;32mfor\u001b[0m \u001b[0mw\u001b[0m \u001b[0;32min\u001b[0m \u001b[0mv\u001b[0m\u001b[0;34m.\u001b[0m\u001b[0moperands\u001b[0m\u001b[0;34m(\u001b[0m\u001b[0;34m)\u001b[0m\u001b[0;34m:\u001b[0m\u001b[0;34m\u001b[0m\u001b[0;34m\u001b[0m\u001b[0m\n",
      "\u001b[0m\u001b[0;32m    235 \u001b[0;31m                \u001b[0;32mif\u001b[0m \u001b[0misinstance\u001b[0m\u001b[0;34m(\u001b[0m\u001b[0mw\u001b[0m\u001b[0;34m.\u001b[0m\u001b[0moperator\u001b[0m\u001b[0;34m(\u001b[0m\u001b[0;34m)\u001b[0m\u001b[0;34m,\u001b[0m \u001b[0mFDerivativeOperator\u001b[0m\u001b[0;34m)\u001b[0m\u001b[0;34m:\u001b[0m\u001b[0;34m\u001b[0m\u001b[0;34m\u001b[0m\u001b[0m\n",
      "\u001b[0m\u001b[0;32m    236 \u001b[0;31m                    \u001b[0;32mif\u001b[0m \u001b[0mw\u001b[0m\u001b[0;34m.\u001b[0m\u001b[0moperands\u001b[0m\u001b[0;34m(\u001b[0m\u001b[0;34m)\u001b[0m\u001b[0;34m[\u001b[0m\u001b[0;36m0\u001b[0m\u001b[0;34m]\u001b[0m \u001b[0;34m!=\u001b[0m \u001b[0mindependent\u001b[0m\u001b[0;34m:\u001b[0m\u001b[0;34m\u001b[0m\u001b[0;34m\u001b[0m\u001b[0m\n",
      "\u001b[0m\n"
     ]
    },
    {
     "name": "stdin",
     "output_type": "stream",
     "text": [
      "ipdb>  n\n"
     ]
    },
    {
     "name": "stdout",
     "output_type": "stream",
     "text": [
      "> \u001b[0;32m/home/tapir/research-disk/delierium/src/delierium/Infinitesimals.py\u001b[0m(235)\u001b[0;36moverdeterminedSystemODE\u001b[0;34m()\u001b[0m\n",
      "\u001b[0;32m    233 \u001b[0;31m            \u001b[0mlocal_term\u001b[0m \u001b[0;34m=\u001b[0m \u001b[0;36m1\u001b[0m\u001b[0;34m\u001b[0m\u001b[0;34m\u001b[0m\u001b[0m\n",
      "\u001b[0m\u001b[0;32m    234 \u001b[0;31m            \u001b[0;32mfor\u001b[0m \u001b[0mw\u001b[0m \u001b[0;32min\u001b[0m \u001b[0mv\u001b[0m\u001b[0;34m.\u001b[0m\u001b[0moperands\u001b[0m\u001b[0;34m(\u001b[0m\u001b[0;34m)\u001b[0m\u001b[0;34m:\u001b[0m\u001b[0;34m\u001b[0m\u001b[0;34m\u001b[0m\u001b[0m\n",
      "\u001b[0m\u001b[0;32m--> 235 \u001b[0;31m                \u001b[0;32mif\u001b[0m \u001b[0misinstance\u001b[0m\u001b[0;34m(\u001b[0m\u001b[0mw\u001b[0m\u001b[0;34m.\u001b[0m\u001b[0moperator\u001b[0m\u001b[0;34m(\u001b[0m\u001b[0;34m)\u001b[0m\u001b[0;34m,\u001b[0m \u001b[0mFDerivativeOperator\u001b[0m\u001b[0;34m)\u001b[0m\u001b[0;34m:\u001b[0m\u001b[0;34m\u001b[0m\u001b[0;34m\u001b[0m\u001b[0m\n",
      "\u001b[0m\u001b[0;32m    236 \u001b[0;31m                    \u001b[0;32mif\u001b[0m \u001b[0mw\u001b[0m\u001b[0;34m.\u001b[0m\u001b[0moperands\u001b[0m\u001b[0;34m(\u001b[0m\u001b[0;34m)\u001b[0m\u001b[0;34m[\u001b[0m\u001b[0;36m0\u001b[0m\u001b[0;34m]\u001b[0m \u001b[0;34m!=\u001b[0m \u001b[0mindependent\u001b[0m\u001b[0;34m:\u001b[0m\u001b[0;34m\u001b[0m\u001b[0;34m\u001b[0m\u001b[0m\n",
      "\u001b[0m\u001b[0;32m    237 \u001b[0;31m                        \u001b[0;31m# differential coming from prolongation, ignore\u001b[0m\u001b[0;34m\u001b[0m\u001b[0;34m\u001b[0m\u001b[0m\n",
      "\u001b[0m\n"
     ]
    },
    {
     "name": "stdin",
     "output_type": "stream",
     "text": [
      "ipdb>  c\n"
     ]
    },
    {
     "data": {
      "text/latex": [
       "$\\displaystyle -3  \\xi_{y}$"
      ],
      "text/plain": [
       "<IPython.core.display.Math object>"
      ]
     },
     "metadata": {},
     "output_type": "display_data"
    },
    {
     "data": {
      "text/latex": [
       "$\\displaystyle -6  \\xi_{yy}$"
      ],
      "text/plain": [
       "<IPython.core.display.Math object>"
      ]
     },
     "metadata": {},
     "output_type": "display_data"
    },
    {
     "data": {
      "text/latex": [
       "$\\displaystyle -2 y  \\xi_{y} + 3  \\phi_{yy} - 9  \\xi_{yx}$"
      ],
      "text/plain": [
       "<IPython.core.display.Math object>"
      ]
     },
     "metadata": {},
     "output_type": "display_data"
    },
    {
     "data": {
      "text/latex": [
       "$\\displaystyle -2 y  \\xi_{x} - 2 \\phi + 3  \\phi_{yx} - 3  \\xi_{xx}$"
      ],
      "text/plain": [
       "<IPython.core.display.Math object>"
      ]
     },
     "metadata": {},
     "output_type": "display_data"
    },
    {
     "data": {
      "text/latex": [
       "$\\displaystyle - \\xi_{yyy}$"
      ],
      "text/plain": [
       "<IPython.core.display.Math object>"
      ]
     },
     "metadata": {},
     "output_type": "display_data"
    },
    {
     "data": {
      "text/latex": [
       "$\\displaystyle 2 y  \\xi_{yy} +  \\phi_{yyy} + 6  \\xi_{y} - 3  \\xi_{yyx}$"
      ],
      "text/plain": [
       "<IPython.core.display.Math object>"
      ]
     },
     "metadata": {},
     "output_type": "display_data"
    },
    {
     "data": {
      "text/latex": [
       "$\\displaystyle -2 y  \\phi_{yy} + 4 y  \\xi_{yx} + 3  \\phi_{y} + 3  \\phi_{yyx} - 3  \\xi_{yxx} + 3  \\xi_{x}$"
      ],
      "text/plain": [
       "<IPython.core.display.Math object>"
      ]
     },
     "metadata": {},
     "output_type": "display_data"
    },
    {
     "data": {
      "text/latex": [
       "$\\displaystyle -4 y  \\phi_{yx} + 2 y  \\xi_{xx} + 3  \\phi_{yxx} + 6  \\phi_{x} -  \\xi_{xxx}$"
      ],
      "text/plain": [
       "<IPython.core.display.Math object>"
      ]
     },
     "metadata": {},
     "output_type": "display_data"
    },
    {
     "data": {
      "text/latex": [
       "$\\displaystyle -2 y  \\phi_{xx} +  \\phi_{xxx}$"
      ],
      "text/plain": [
       "<IPython.core.display.Math object>"
      ]
     },
     "metadata": {},
     "output_type": "display_data"
    }
   ],
   "source": [
    "# Example 2\n",
    "x = var('x')\n",
    "y = function('y')\n",
    "ode = diff(y(x), x, x, x) -2*y(x)*diff(y(x), x,x) + 3*diff(y(x), x)**2\n",
    "ode.show()\n",
    "jb = overdeterminedSystemODE(ode, y, x)\n",
    "for _ in jb:\n",
    "    display(Math(latexer(_)))"
   ]
  },
  {
   "cell_type": "markdown",
   "id": "955154ef-2250-409a-939e-df59c717d221",
   "metadata": {},
   "source": [
    "Example 2 doesn't look that good"
   ]
  },
  {
   "cell_type": "code",
   "execution_count": 3,
   "id": "79455c93-a6c1-4278-9d21-47d5b5890da8",
   "metadata": {
    "tags": []
   },
   "outputs": [
    {
     "name": "stdout",
     "output_type": "stream",
     "text": [
      "x |--> x^2*diff(a2(x), x) + 2*x*a2(x) + x*diff(a1(x), x) + a1(x) + diff(a0(x), x)\n",
      "x |--> x^2*diff(a2(x), x, x) + x*diff(a1(x), x, x) + 4*x*diff(a2(x), x) + 2*a2(x) + diff(a0(x), x, x) + 2*diff(a1(x), x)\n",
      "x |--> x^2*diff(a2(x), x, x, x) + x*diff(a1(x), x, x, x) + 6*x*diff(a2(x), x, x) + diff(a0(x), x, x, x) + 3*diff(a1(x), x, x) + 6*diff(a2(x), x)\n",
      "-3*D[0](xi)(y(x), x)\n",
      "-6*D[0, 0](xi)(y(x), x)\n",
      "-2*y(x)*D[0](xi)(y(x), x) + 3*D[0, 0](phi)(y(x), x) - 9*D[0, 1](xi)(y(x), x)\n",
      "-2*y(x)*D[1](xi)(y(x), x) - 2*phi(y(x), x) + 3*D[0, 1](phi)(y(x), x) - 3*D[1, 1](xi)(y(x), x)\n",
      "-D[0, 0, 0](xi)(y(x), x)\n",
      "2*y(x)*D[0, 0](xi)(y(x), x) + D[0, 0, 0](phi)(y(x), x) + 6*D[0](xi)(y(x), x) - 3*D[0, 0, 1](xi)(y(x), x)\n",
      "-2*y(x)*D[0, 0](phi)(y(x), x) + 4*y(x)*D[0, 1](xi)(y(x), x) + 3*D[0](phi)(y(x), x) + 3*D[0, 0, 1](phi)(y(x), x) - 3*D[0, 1, 1](xi)(y(x), x) + 3*D[1](xi)(y(x), x)\n",
      "-4*y(x)*D[0, 1](phi)(y(x), x) + 2*y(x)*D[1, 1](xi)(y(x), x) + 3*D[0, 1, 1](phi)(y(x), x) + 6*D[1](phi)(y(x), x) - D[1, 1, 1](xi)(y(x), x)\n",
      "-2*y(x)*D[1, 1](phi)(y(x), x) + D[1, 1, 1](phi)(y(x), x)\n"
     ]
    }
   ],
   "source": [
    "function(\"xi\")\n",
    "a0=function(\"a0\")(x)\n",
    "a1=function(\"a1\")(x)\n",
    "a2=function(\"a2\")(x)\n",
    "s1(x)=a2*x**2 + a1*x + a0\n",
    "print(diff(s1,x))\n",
    "print(diff(s1,x,x))\n",
    "print(diff(s1,x,x,x))\n",
    "for _ in jb:\n",
    "    print(_.subs(xi=s1))"
   ]
  },
  {
   "cell_type": "code",
   "execution_count": 4,
   "id": "dd477854-efdd-4971-a669-46015ccd0817",
   "metadata": {
    "tags": []
   },
   "outputs": [
    {
     "data": {
      "text/html": [
       "<html>\\(\\displaystyle -\\frac{F\\left(x\\right)}{y\\left(x\\right)^{2}} + \\frac{\\partial^{2}}{(\\partial x)^{2}}y\\left(x\\right)\\)</html>"
      ],
      "text/latex": [
       "$\\displaystyle -\\frac{F\\left(x\\right)}{y\\left(x\\right)^{2}} + \\frac{\\partial^{2}}{(\\partial x)^{2}}y\\left(x\\right)$"
      ],
      "text/plain": [
       "-F(x)/y(x)^2 + diff(y(x), x, x)"
      ]
     },
     "metadata": {},
     "output_type": "display_data"
    },
    {
     "data": {
      "text/latex": [
       "$\\displaystyle - \\xi_{yy}$"
      ],
      "text/plain": [
       "<IPython.core.display.Math object>"
      ]
     },
     "metadata": {},
     "output_type": "display_data"
    },
    {
     "data": {
      "text/latex": [
       "$\\displaystyle  \\phi_{yy} - 2  \\xi_{yx}$"
      ],
      "text/plain": [
       "<IPython.core.display.Math object>"
      ]
     },
     "metadata": {},
     "output_type": "display_data"
    },
    {
     "data": {
      "text/latex": [
       "$\\displaystyle -3 F  \\xi_{y}/y^2 + 2  \\phi_{yx} -  \\xi_{xx}$"
      ],
      "text/plain": [
       "<IPython.core.display.Math object>"
      ]
     },
     "metadata": {},
     "output_type": "display_data"
    },
    {
     "data": {
      "text/latex": [
       "$\\displaystyle -xi/y^2$"
      ],
      "text/plain": [
       "<IPython.core.display.Math object>"
      ]
     },
     "metadata": {},
     "output_type": "display_data"
    },
    {
     "data": {
      "text/latex": [
       "$\\displaystyle F  \\phi_{y}/y^2 - 2 F  \\xi_{x}/y^2 + 2 F \\phi/y^3 +  \\phi_{xx}$"
      ],
      "text/plain": [
       "<IPython.core.display.Math object>"
      ]
     },
     "metadata": {},
     "output_type": "display_data"
    }
   ],
   "source": [
    "# Example 3\n",
    "x = var('x')\n",
    "y = function('y')\n",
    "F = function(\"F\")\n",
    "ode = diff(y(x), x,x) - F(x)/(y(x)**2) \n",
    "ode.show()\n",
    "jb = overdeterminedSystemODE(ode, y, x)\n",
    "for _ in jb:\n",
    "    display(Math(latexer(_)))"
   ]
  },
  {
   "cell_type": "code",
   "execution_count": null,
   "id": "021e1a82-16c3-4447-8e91-f2d64215cdc7",
   "metadata": {},
   "outputs": [],
   "source": []
  }
 ],
 "metadata": {
  "kernelspec": {
   "display_name": "SageMath 10.2",
   "language": "sage",
   "name": "sagemath"
  },
  "language_info": {
   "codemirror_mode": {
    "name": "ipython",
    "version": 3
   },
   "file_extension": ".py",
   "mimetype": "text/x-python",
   "name": "python",
   "nbconvert_exporter": "python",
   "pygments_lexer": "ipython3",
   "version": "3.11.10"
  }
 },
 "nbformat": 4,
 "nbformat_minor": 5
}
