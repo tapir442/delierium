{
 "cells": [
  {
   "cell_type": "code",
   "execution_count": 2,
   "id": "fc863208-e8f1-4a5b-ae93-ab50a287f570",
   "metadata": {
    "tags": []
   },
   "outputs": [
    {
     "ename": "ModuleNotFoundError",
     "evalue": "No module named 'anytree'",
     "output_type": "error",
     "traceback": [
      "\u001b[0;31m---------------------------------------------------------------------------\u001b[0m",
      "\u001b[0;31mModuleNotFoundError\u001b[0m                       Traceback (most recent call last)",
      "Cell \u001b[0;32mIn [2], line 1\u001b[0m\n\u001b[0;32m----> 1\u001b[0m \u001b[38;5;28;01mfrom\u001b[39;00m \u001b[38;5;21;01mdelierium\u001b[39;00m\u001b[38;5;21;01m.\u001b[39;00m\u001b[38;5;21;01mInfinitesimals\u001b[39;00m \u001b[38;5;28;01mimport\u001b[39;00m prolongationODE, overdeterminedSystemODE, Janet_Basis_from_ODE\n\u001b[1;32m      2\u001b[0m \u001b[38;5;28;01mfrom\u001b[39;00m \u001b[38;5;21;01mIPython\u001b[39;00m\u001b[38;5;21;01m.\u001b[39;00m\u001b[38;5;21;01mdisplay\u001b[39;00m \u001b[38;5;28;01mimport\u001b[39;00m Math\n\u001b[1;32m      3\u001b[0m \u001b[38;5;28;01mfrom\u001b[39;00m \u001b[38;5;21;01mdelierium\u001b[39;00m\u001b[38;5;21;01m.\u001b[39;00m\u001b[38;5;21;01mhelpers\u001b[39;00m \u001b[38;5;28;01mimport\u001b[39;00m latexer\n",
      "File \u001b[0;32m~/researches/delierium/delierium/Infinitesimals.py:10\u001b[0m\n\u001b[1;32m      3\u001b[0m \u001b[38;5;124;03m\"\"\"\u001b[39;00m\n\u001b[1;32m      4\u001b[0m \u001b[38;5;124;03mCreated on Fri Jan  7 18:49:33 2022\u001b[39;00m\n\u001b[1;32m      5\u001b[0m \n\u001b[1;32m      6\u001b[0m \u001b[38;5;124;03m@author: tapir\u001b[39;00m\n\u001b[1;32m      7\u001b[0m \u001b[38;5;124;03m\"\"\"\u001b[39;00m\n\u001b[1;32m      9\u001b[0m \u001b[38;5;28;01mfrom\u001b[39;00m \u001b[38;5;21;01mitertools\u001b[39;00m \u001b[38;5;28;01mimport\u001b[39;00m product\n\u001b[0;32m---> 10\u001b[0m \u001b[38;5;28;01mfrom\u001b[39;00m \u001b[38;5;21;01manytree\u001b[39;00m \u001b[38;5;28;01mimport\u001b[39;00m Node, RenderTree, AnyNode, NodeMixin, PreOrderIter\n\u001b[1;32m     12\u001b[0m \u001b[38;5;28;01mimport\u001b[39;00m \u001b[38;5;21;01msage\u001b[39;00m\u001b[38;5;21;01m.\u001b[39;00m\u001b[38;5;21;01mall\u001b[39;00m\n\u001b[1;32m     13\u001b[0m \u001b[38;5;28;01mfrom\u001b[39;00m \u001b[38;5;21;01msage\u001b[39;00m\u001b[38;5;21;01m.\u001b[39;00m\u001b[38;5;21;01mcalculus\u001b[39;00m\u001b[38;5;21;01m.\u001b[39;00m\u001b[38;5;21;01mfunctional\u001b[39;00m \u001b[38;5;28;01mimport\u001b[39;00m diff\n",
      "\u001b[0;31mModuleNotFoundError\u001b[0m: No module named 'anytree'"
     ]
    }
   ],
   "source": [
    "from delierium.Infinitesimals import prolongationODE, overdeterminedSystemODE, Janet_Basis_from_ODE\n",
    "% pip anytree\n",
    "from IPython.display import Math\n",
    "from delierium.helpers import latexer\n",
    "# Example 1\n",
    "x = var('x')\n",
    "y = function('y')\n",
    "ode = diff(y(x), x, x) + 3*y(x)*diff(y(x), x) + y(x)**3\n",
    "jb = overdeterminedSystemODE(ode, y, x)\n",
    "for _ in jb:\n",
    "    display(Math(latexer(_)))"
   ]
  },
  {
   "cell_type": "markdown",
   "id": "fa17fdd0-b9e7-4392-a546-356201f285e6",
   "metadata": {},
   "source": [
    "Example 1 looks ok"
   ]
  },
  {
   "cell_type": "code",
   "execution_count": 3,
   "id": "f097759b-2104-4166-bddf-9a7359adf8ec",
   "metadata": {
    "tags": []
   },
   "outputs": [
    {
     "data": {
      "text/html": [
       "<html>\\(\\displaystyle 3 \\, \\frac{\\partial}{\\partial x}y\\left(x\\right)^{2} - 2 \\, y\\left(x\\right) \\frac{\\partial^{2}}{(\\partial x)^{2}}y\\left(x\\right) + \\frac{\\partial^{3}}{(\\partial x)^{3}}y\\left(x\\right)\\)</html>"
      ],
      "text/latex": [
       "$\\displaystyle 3 \\, \\frac{\\partial}{\\partial x}y\\left(x\\right)^{2} - 2 \\, y\\left(x\\right) \\frac{\\partial^{2}}{(\\partial x)^{2}}y\\left(x\\right) + \\frac{\\partial^{3}}{(\\partial x)^{3}}y\\left(x\\right)$"
      ],
      "text/plain": [
       "3*diff(y(x), x)^2 - 2*y(x)*diff(y(x), x, x) + diff(y(x), x, x, x)"
      ]
     },
     "metadata": {},
     "output_type": "display_data"
    },
    {
     "name": "stdout",
     "output_type": "stream",
     "text": [
      "990 ms ± 3.38 ms per loop (mean ± std. dev. of 7 runs, 1 loop each)\n"
     ]
    },
    {
     "data": {
      "text/latex": [
       "$\\displaystyle -3  \\xi_{y}$"
      ],
      "text/plain": [
       "<IPython.core.display.Math object>"
      ]
     },
     "metadata": {},
     "output_type": "display_data"
    },
    {
     "data": {
      "text/latex": [
       "$\\displaystyle -6  \\xi_{yy}$"
      ],
      "text/plain": [
       "<IPython.core.display.Math object>"
      ]
     },
     "metadata": {},
     "output_type": "display_data"
    },
    {
     "data": {
      "text/latex": [
       "$\\displaystyle -2 y  \\xi_{y} + 3  \\phi_{yy} - 9  \\xi_{yx}$"
      ],
      "text/plain": [
       "<IPython.core.display.Math object>"
      ]
     },
     "metadata": {},
     "output_type": "display_data"
    },
    {
     "data": {
      "text/latex": [
       "$\\displaystyle -2 y  \\xi_{x} - 2 \\phi + 3  \\phi_{yx} - 3  \\xi_{xx}$"
      ],
      "text/plain": [
       "<IPython.core.display.Math object>"
      ]
     },
     "metadata": {},
     "output_type": "display_data"
    },
    {
     "data": {
      "text/latex": [
       "$\\displaystyle - \\xi_{yyy}$"
      ],
      "text/plain": [
       "<IPython.core.display.Math object>"
      ]
     },
     "metadata": {},
     "output_type": "display_data"
    },
    {
     "data": {
      "text/latex": [
       "$\\displaystyle 2 y  \\xi_{yy} +  \\phi_{yyy} + 6  \\xi_{y} - 3  \\xi_{yyx}$"
      ],
      "text/plain": [
       "<IPython.core.display.Math object>"
      ]
     },
     "metadata": {},
     "output_type": "display_data"
    },
    {
     "data": {
      "text/latex": [
       "$\\displaystyle -2 y  \\phi_{yy} + 4 y  \\xi_{yx} + 3  \\phi_{y} + 3  \\phi_{yyx} - 3  \\xi_{yxx} + 3  \\xi_{x}$"
      ],
      "text/plain": [
       "<IPython.core.display.Math object>"
      ]
     },
     "metadata": {},
     "output_type": "display_data"
    },
    {
     "data": {
      "text/latex": [
       "$\\displaystyle -4 y  \\phi_{yx} + 2 y  \\xi_{xx} + 3  \\phi_{yxx} + 6  \\phi_{x} -  \\xi_{xxx}$"
      ],
      "text/plain": [
       "<IPython.core.display.Math object>"
      ]
     },
     "metadata": {},
     "output_type": "display_data"
    },
    {
     "data": {
      "text/latex": [
       "$\\displaystyle -2 y  \\phi_{xx} +  \\phi_{xxx}$"
      ],
      "text/plain": [
       "<IPython.core.display.Math object>"
      ]
     },
     "metadata": {},
     "output_type": "display_data"
    }
   ],
   "source": [
    "# Example 2\n",
    "x = var('x')\n",
    "y = function('y')\n",
    "ode = diff(y(x), x, x, x) -2*y(x)*diff(y(x), x,x) + 3*diff(y(x), x)**2\n",
    "ode.show()\n",
    "%timeit jb = overdeterminedSystemODE(ode, y, x)\n",
    "for _ in jb:\n",
    "    display(Math(latexer(_)))"
   ]
  },
  {
   "cell_type": "markdown",
   "id": "955154ef-2250-409a-939e-df59c717d221",
   "metadata": {},
   "source": [
    "Example 2 doesn't look that good"
   ]
  },
  {
   "cell_type": "code",
   "execution_count": 25,
   "id": "79455c93-a6c1-4278-9d21-47d5b5890da8",
   "metadata": {
    "tags": []
   },
   "outputs": [
    {
     "name": "stdout",
     "output_type": "stream",
     "text": [
      "x |--> x^2*diff(a2(x), x) + 2*x*a2(x) + x*diff(a1(x), x) + a1(x) + diff(a0(x), x)\n",
      "x |--> x^2*diff(a2(x), x, x) + x*diff(a1(x), x, x) + 4*x*diff(a2(x), x) + 2*a2(x) + diff(a0(x), x, x) + 2*diff(a1(x), x)\n",
      "x |--> x^2*diff(a2(x), x, x, x) + x*diff(a1(x), x, x, x) + 6*x*diff(a2(x), x, x) + diff(a0(x), x, x, x) + 3*diff(a1(x), x, x) + 6*diff(a2(x), x)\n",
      "-3*D[0](xi)(y(x), x)\n",
      "-6*D[0, 0](xi)(y(x), x)\n",
      "-2*y(x)*D[0](xi)(y(x), x) + 3*D[0, 0](phi)(y(x), x) - 9*D[0, 1](xi)(y(x), x)\n",
      "-2*y(x)*D[1](xi)(y(x), x) - 2*phi(y(x), x) + 3*D[0, 1](phi)(y(x), x) - 3*D[1, 1](xi)(y(x), x)\n",
      "-D[0, 0, 0](xi)(y(x), x)\n",
      "2*y(x)*D[0, 0](xi)(y(x), x) + D[0, 0, 0](phi)(y(x), x) + 6*D[0](xi)(y(x), x) - 3*D[0, 0, 1](xi)(y(x), x)\n",
      "-2*y(x)*D[0, 0](phi)(y(x), x) + 4*y(x)*D[0, 1](xi)(y(x), x) + 3*D[0](phi)(y(x), x) + 3*D[0, 0, 1](phi)(y(x), x) - 3*D[0, 1, 1](xi)(y(x), x) + 3*D[1](xi)(y(x), x)\n",
      "-4*y(x)*D[0, 1](phi)(y(x), x) + 2*y(x)*D[1, 1](xi)(y(x), x) + 3*D[0, 1, 1](phi)(y(x), x) + 6*D[1](phi)(y(x), x) - D[1, 1, 1](xi)(y(x), x)\n",
      "-2*y(x)*D[1, 1](phi)(y(x), x) + D[1, 1, 1](phi)(y(x), x)\n"
     ]
    }
   ],
   "source": [
    "function(\"xi\")\n",
    "a0=function(\"a0\")(x)\n",
    "a1=function(\"a1\")(x)\n",
    "a2=function(\"a2\")(x)\n",
    "s1(x)=a2*x**2 + a1*x + a0\n",
    "print(diff(s1,x))\n",
    "print(diff(s1,x,x))\n",
    "print(diff(s1,x,x,x))\n",
    "for _ in jb:\n",
    "    print(_.subs(xi=s1))"
   ]
  },
  {
   "cell_type": "code",
   "execution_count": 8,
   "id": "dd477854-efdd-4971-a669-46015ccd0817",
   "metadata": {
    "tags": []
   },
   "outputs": [
    {
     "data": {
      "text/html": [
       "<html>\\(\\displaystyle -\\frac{F\\left(x\\right)}{y\\left(x\\right)^{2}} + \\frac{\\partial^{2}}{(\\partial x)^{2}}y\\left(x\\right)\\)</html>"
      ],
      "text/latex": [
       "$\\displaystyle -\\frac{F\\left(x\\right)}{y\\left(x\\right)^{2}} + \\frac{\\partial^{2}}{(\\partial x)^{2}}y\\left(x\\right)$"
      ],
      "text/plain": [
       "-F(x)/y(x)^2 + diff(y(x), x, x)"
      ]
     },
     "metadata": {},
     "output_type": "display_data"
    },
    {
     "data": {
      "text/latex": [
       "$\\displaystyle - \\xi_{yy}$"
      ],
      "text/plain": [
       "<IPython.core.display.Math object>"
      ]
     },
     "metadata": {},
     "output_type": "display_data"
    },
    {
     "data": {
      "text/latex": [
       "$\\displaystyle  \\phi_{yy} - 2  \\xi_{yx}$"
      ],
      "text/plain": [
       "<IPython.core.display.Math object>"
      ]
     },
     "metadata": {},
     "output_type": "display_data"
    },
    {
     "data": {
      "text/latex": [
       "$\\displaystyle -xi/y^2$"
      ],
      "text/plain": [
       "<IPython.core.display.Math object>"
      ]
     },
     "metadata": {},
     "output_type": "display_data"
    },
    {
     "data": {
      "text/latex": [
       "$\\displaystyle -3 F  \\xi_{y}/y^2 + 2  \\phi_{yx} -  \\xi_{xx}$"
      ],
      "text/plain": [
       "<IPython.core.display.Math object>"
      ]
     },
     "metadata": {},
     "output_type": "display_data"
    },
    {
     "data": {
      "text/latex": [
       "$\\displaystyle F  \\phi_{y}/y^2 - 2 F  \\xi_{x}/y^2 + 2 F \\phi/y^3 +  \\phi_{xx}$"
      ],
      "text/plain": [
       "<IPython.core.display.Math object>"
      ]
     },
     "metadata": {},
     "output_type": "display_data"
    }
   ],
   "source": [
    "# Example 3\n",
    "x = var('x')\n",
    "y = function('y')\n",
    "F = function(\"F\")\n",
    "ode = diff(y(x), x,x) - F(x)/(y(x)**2) \n",
    "ode.show()\n",
    "jb = overdeterminedSystemODE(ode, y, x)\n",
    "for _ in jb:\n",
    "    display(Math(latexer(_)))"
   ]
  },
  {
   "cell_type": "code",
   "execution_count": null,
   "id": "021e1a82-16c3-4447-8e91-f2d64215cdc7",
   "metadata": {},
   "outputs": [],
   "source": []
  }
 ],
 "metadata": {
  "kernelspec": {
   "display_name": "SageMath 9.8",
   "language": "sage",
   "name": "sagemath"
  },
  "language_info": {
   "codemirror_mode": {
    "name": "ipython",
    "version": 3
   },
   "file_extension": ".py",
   "mimetype": "text/x-python",
   "name": "python",
   "nbconvert_exporter": "python",
   "pygments_lexer": "ipython3",
   "version": "3.10.7"
  }
 },
 "nbformat": 4,
 "nbformat_minor": 5
}
