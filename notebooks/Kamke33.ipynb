{
 "cells": [
  {
   "cell_type": "code",
   "execution_count": 1,
   "id": "9241d7d8-9dc2-4ab8-a850-1c523b1278c8",
   "metadata": {},
   "outputs": [],
   "source": [
    "from delierium.Infinitesimals import prolongationODE, overdeterminedSystemODE\n",
    "from delierium.helpers import latexer\n",
    "from delierium.JanetBasis import Janet_Basis, vec_multipliers\n",
    "from delierium.MatrixOrder import Context\n",
    "from sage.all import *\n",
    "from IPython.core.debugger import set_trace\n",
    "from IPython.display import Math"
   ]
  },
  {
   "cell_type": "code",
   "execution_count": 2,
   "id": "07233e28-0915-4854-a7ef-e7a1fc1d2263",
   "metadata": {},
   "outputs": [],
   "source": [
    "x = var('x')\n",
    "y = function('y')\n",
    "f = function('f')"
   ]
  },
  {
   "cell_type": "code",
   "execution_count": 3,
   "id": "f550a51a-1c7c-44e3-abce-255050cfb101",
   "metadata": {},
   "outputs": [],
   "source": [
    "k33 = diff(y(x),x,x) + (y(x) + 3*f(x))*diff(y(x),x)-y(x)**3 + y(x)**2*f(x)+y(x)*(diff(f(x),x)+2*f(x)**2)\n",
    "infinitesimals=(function('X'), function('Y'))"
   ]
  },
  {
   "cell_type": "code",
   "execution_count": 4,
   "id": "6625c327-77b3-4a12-a84c-b9ee76783444",
   "metadata": {},
   "outputs": [],
   "source": [
    "o=overdeterminedSystemODE(k33, y, x, infinitesimals=infinitesimals)"
   ]
  },
  {
   "cell_type": "code",
   "execution_count": 7,
   "id": "9ed62c23-5304-4d05-8144-e595b9f9cf98",
   "metadata": {},
   "outputs": [
    {
     "name": "stdout",
     "output_type": "stream",
     "text": [
      "[-D[0, 0](X)(y(x), x),\n",
      " 6*f(x)*D[0](X)(y(x), x) + 2*y(x)*D[0](X)(y(x), x) - 2*D[0, 1](X)(y(x), x) + D[0, 0](Y)(y(x), x),\n",
      " 6*f(x)^2*y(x)*D[0](X)(y(x), x) + 3*f(x)*y(x)^2*D[0](X)(y(x), x) - 3*y(x)^3*D[0](X)(y(x), x) + 3*y(x)*D[0](X)(y(x), x)*diff(f(x), x) + 3*f(x)*D[1](X)(y(x), x) + y(x)*D[1](X)(y(x), x) + 3*X(y(x), x)*diff(f(x), x) + Y(y(x), x) - D[1, 1](X)(y(x), x) + 2*D[0, 1](Y)(y(x), x),\n",
      " 4*X(y(x), x)*f(x)*y(x) + X(y(x), x)*y(x)^2 + 2*y(x)*D[1](X)(y(x), x) - y(x)*D[0](Y)(y(x), x) + Y(y(x), x),\n",
      " X(y(x), x)*y(x),\n",
      " 4*f(x)^2*y(x)*D[1](X)(y(x), x) + 2*f(x)*y(x)^2*D[1](X)(y(x), x) - 2*y(x)^3*D[1](X)(y(x), x) - 2*f(x)^2*y(x)*D[0](Y)(y(x), x) - f(x)*y(x)^2*D[0](Y)(y(x), x) + y(x)^3*D[0](Y)(y(x), x) + 2*Y(y(x), x)*f(x)^2 + 2*Y(y(x), x)*f(x)*y(x) - 3*Y(y(x), x)*y(x)^2 + 3*f(x)*D[1](Y)(y(x), x) + y(x)*D[1](Y)(y(x), x) + D[1, 1](Y)(y(x), x)]\n"
     ]
    }
   ],
   "source": [
    "from pprint import pprint\n",
    "pprint(o)"
   ]
  },
  {
   "cell_type": "code",
   "execution_count": 8,
   "id": "4c5b24fe-bfed-4d55-8f3c-973ce19df3f6",
   "metadata": {},
   "outputs": [
    {
     "data": {
      "text/plain": [
       "6"
      ]
     },
     "execution_count": 8,
     "metadata": {},
     "output_type": "execute_result"
    }
   ],
   "source": [
    "len(o)"
   ]
  },
  {
   "cell_type": "code",
   "execution_count": 18,
   "id": "53490fc6-e1ef-46b9-9232-985b16a8eb41",
   "metadata": {},
   "outputs": [
    {
     "data": {
      "text/html": [
       "<html>\\(\\displaystyle -\\mathrm{D}_{0, 0}\\left(X\\right)\\left(y\\left(x\\right), x\\right)\\)</html>"
      ],
      "text/latex": [
       "$\\displaystyle -\\mathrm{D}_{0, 0}\\left(X\\right)\\left(y\\left(x\\right), x\\right)$"
      ],
      "text/plain": [
       "-D[0, 0](X)(y(x), x)"
      ]
     },
     "metadata": {},
     "output_type": "display_data"
    },
    {
     "ename": "AttributeError",
     "evalue": "'NewSymbolicFunction' object has no attribute 'operator'",
     "output_type": "error",
     "traceback": [
      "\u001b[0;31m---------------------------------------------------------------------------\u001b[0m",
      "\u001b[0;31mAttributeError\u001b[0m                            Traceback (most recent call last)",
      "Cell \u001b[0;32mIn[18], line 2\u001b[0m\n\u001b[1;32m      1\u001b[0m o[Integer(\u001b[38;5;241m0\u001b[39m)]\u001b[38;5;241m.\u001b[39mshow()\n\u001b[0;32m----> 2\u001b[0m \u001b[43mdesolve\u001b[49m\u001b[43m(\u001b[49m\u001b[38;5;241;43m-\u001b[39;49m\u001b[43mo\u001b[49m\u001b[43m[\u001b[49m\u001b[43mInteger\u001b[49m\u001b[43m(\u001b[49m\u001b[38;5;241;43m0\u001b[39;49m\u001b[43m)\u001b[49m\u001b[43m]\u001b[49m\u001b[43m,\u001b[49m\u001b[43m \u001b[49m\u001b[43mX\u001b[49m\u001b[43m,\u001b[49m\u001b[43m \u001b[49m\u001b[43mx\u001b[49m\u001b[43m)\u001b[49m\n",
      "File \u001b[0;32m~/mambaforge/envs/sage/lib/python3.11/site-packages/sage/calculus/desolvers.py:573\u001b[0m, in \u001b[0;36mdesolve\u001b[0;34m(de, dvar, ics, ivar, show_method, contrib_ode, algorithm)\u001b[0m\n\u001b[1;32m    571\u001b[0m de00 \u001b[38;5;241m=\u001b[39m de\u001b[38;5;241m.\u001b[39m_maxima_()\n\u001b[1;32m    572\u001b[0m P \u001b[38;5;241m=\u001b[39m de00\u001b[38;5;241m.\u001b[39mparent()\n\u001b[0;32m--> 573\u001b[0m dvar_str\u001b[38;5;241m=\u001b[39mP(\u001b[43mdvar\u001b[49m\u001b[38;5;241;43m.\u001b[39;49m\u001b[43moperator\u001b[49m())\u001b[38;5;241m.\u001b[39mstr()\n\u001b[1;32m    574\u001b[0m ivar_str\u001b[38;5;241m=\u001b[39mP(ivar)\u001b[38;5;241m.\u001b[39mstr()\n\u001b[1;32m    575\u001b[0m de00 \u001b[38;5;241m=\u001b[39m de00\u001b[38;5;241m.\u001b[39mstr()\n",
      "\u001b[0;31mAttributeError\u001b[0m: 'NewSymbolicFunction' object has no attribute 'operator'"
     ]
    }
   ],
   "source": [
    "o[0].show()\n",
    "desolve(-o[0], X, x)"
   ]
  },
  {
   "cell_type": "code",
   "execution_count": 21,
   "id": "e14c5a3a-e92b-46e0-99eb-fe4ea25d48f9",
   "metadata": {},
   "outputs": [
    {
     "data": {
      "text/plain": [
       "[y(x), x]"
      ]
     },
     "execution_count": 21,
     "metadata": {},
     "output_type": "execute_result"
    }
   ],
   "source": [
    "(-o[0]).operands()"
   ]
  },
  {
   "cell_type": "code",
   "execution_count": null,
   "id": "eff88da3-e5c2-4d93-bef8-63d206972744",
   "metadata": {},
   "outputs": [],
   "source": []
  }
 ],
 "metadata": {
  "kernelspec": {
   "display_name": "SageMath 10.0",
   "language": "sage",
   "name": "sagemath"
  },
  "language_info": {
   "codemirror_mode": {
    "name": "ipython",
    "version": 3
   },
   "file_extension": ".py",
   "mimetype": "text/x-python",
   "name": "python",
   "nbconvert_exporter": "python",
   "pygments_lexer": "ipython3",
   "version": "3.11.6"
  }
 },
 "nbformat": 4,
 "nbformat_minor": 5
}
