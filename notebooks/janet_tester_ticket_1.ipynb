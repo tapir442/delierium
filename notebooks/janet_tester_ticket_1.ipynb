{
 "cells": [
  {
   "cell_type": "code",
   "execution_count": null,
   "id": "012c0b21-d523-4033-9a6e-040e1ce90e66",
   "metadata": {
    "tags": []
   },
   "outputs": [
    {
     "name": "stdout",
     "output_type": "stream",
     "text": [
      "***************************************************************************************************\n",
      "This is where we start\n"
     ]
    },
    {
     "data": {
      "text/latex": [
       "$\\displaystyle xi_{Y}$"
      ],
      "text/plain": [
       "<IPython.core.display.Math object>"
      ]
     },
     "metadata": {},
     "output_type": "display_data"
    },
    {
     "data": {
      "text/latex": [
       "$\\displaystyle xi_{Y, Y}$"
      ],
      "text/plain": [
       "<IPython.core.display.Math object>"
      ]
     },
     "metadata": {},
     "output_type": "display_data"
    },
    {
     "data": {
      "text/latex": [
       "$\\displaystyle xi_{Y, Y}-\\frac{1}{5 \\, Y} xi_{Y}$"
      ],
      "text/plain": [
       "<IPython.core.display.Math object>"
      ]
     },
     "metadata": {},
     "output_type": "display_data"
    },
    {
     "data": {
      "text/latex": [
       "$\\displaystyle phi_{Y, x}-\\frac{3}{2} xi_{x, x}-\\frac{1}{4 \\, Y} phi_{x}$"
      ],
      "text/plain": [
       "<IPython.core.display.Math object>"
      ]
     },
     "metadata": {},
     "output_type": "display_data"
    },
    {
     "data": {
      "text/latex": [
       "$\\displaystyle phi_{Y, Y}-4 xi_{Y, x}-\\frac{1}{4 \\, Y} phi_{Y} + \\frac{1}{4 \\, Y^{2}} phi$"
      ],
      "text/plain": [
       "<IPython.core.display.Math object>"
      ]
     },
     "metadata": {},
     "output_type": "display_data"
    },
    {
     "data": {
      "text/latex": [
       "$\\displaystyle phi_{Y, Y}-4 xi_{Y, x}$"
      ],
      "text/plain": [
       "<IPython.core.display.Math object>"
      ]
     },
     "metadata": {},
     "output_type": "display_data"
    },
    {
     "data": {
      "text/latex": [
       "$\\displaystyle xi_{Y, Y, Y}-\\frac{3}{5 \\, Y} xi_{Y, Y}$"
      ],
      "text/plain": [
       "<IPython.core.display.Math object>"
      ]
     },
     "metadata": {},
     "output_type": "display_data"
    },
    {
     "data": {
      "text/latex": [
       "$\\displaystyle phi_{Y, x, x}-\\frac{2}{3} xi_{x, x, x}$"
      ],
      "text/plain": [
       "<IPython.core.display.Math object>"
      ]
     },
     "metadata": {},
     "output_type": "display_data"
    },
    {
     "data": {
      "text/latex": [
       "$\\displaystyle phi_{Y, Y, x}-\\frac{3}{2} xi_{Y, x, x}-\\frac{1}{4 \\, Y} phi_{Y, x} + \\frac{1}{4 \\, Y} xi_{x, x}$"
      ],
      "text/plain": [
       "<IPython.core.display.Math object>"
      ]
     },
     "metadata": {},
     "output_type": "display_data"
    },
    {
     "data": {
      "text/latex": [
       "$\\displaystyle phi_{Y, Y, Y}-4 xi_{Y, Y, x}-\\frac{1}{2 \\, Y} phi_{Y, Y} + \\frac{3}{2 \\, Y} xi_{Y, x}$"
      ],
      "text/plain": [
       "<IPython.core.display.Math object>"
      ]
     },
     "metadata": {},
     "output_type": "display_data"
    },
    {
     "data": {
      "text/latex": [
       "$\\displaystyle xi_{Y, Y, Y, Y}-\\frac{1}{Y} xi_{Y, Y, Y}$"
      ],
      "text/plain": [
       "<IPython.core.display.Math object>"
      ]
     },
     "metadata": {},
     "output_type": "display_data"
    },
    {
     "data": {
      "text/latex": [
       "$\\displaystyle phi_{x, x, x, x}$"
      ],
      "text/plain": [
       "<IPython.core.display.Math object>"
      ]
     },
     "metadata": {},
     "output_type": "display_data"
    },
    {
     "data": {
      "text/latex": [
       "$\\displaystyle phi_{Y, x, x, x}-\\frac{1}{4} xi_{x, x, x, x}-\\frac{1}{4 \\, Y} phi_{x, x, x}$"
      ],
      "text/plain": [
       "<IPython.core.display.Math object>"
      ]
     },
     "metadata": {},
     "output_type": "display_data"
    },
    {
     "data": {
      "text/latex": [
       "$\\displaystyle phi_{Y, Y, x, x}-\\frac{2}{3} xi_{Y, x, x, x}-\\frac{1}{2 \\, Y} phi_{Y, x, x} + \\frac{1}{6 \\, Y} xi_{x, x, x}$"
      ],
      "text/plain": [
       "<IPython.core.display.Math object>"
      ]
     },
     "metadata": {},
     "output_type": "display_data"
    },
    {
     "data": {
      "text/latex": [
       "$\\displaystyle phi_{Y, Y, Y, x}-\\frac{3}{2} xi_{Y, Y, x, x}-\\frac{3}{4 \\, Y} phi_{Y, Y, x} + \\frac{3}{4 \\, Y} xi_{Y, x, x}$"
      ],
      "text/plain": [
       "<IPython.core.display.Math object>"
      ]
     },
     "metadata": {},
     "output_type": "display_data"
    },
    {
     "data": {
      "text/latex": [
       "$\\displaystyle phi_{Y, Y, Y, Y}-4 xi_{Y, Y, Y, x}-\\frac{1}{Y} phi_{Y, Y, Y} + \\frac{3}{Y} xi_{Y, Y, x}$"
      ],
      "text/plain": [
       "<IPython.core.display.Math object>"
      ]
     },
     "metadata": {},
     "output_type": "display_data"
    },
    {
     "data": {
      "text/html": [
       "<html>\\(\\displaystyle \\frac{\\partial}{\\partial Y}\\xi\\left(Y, x\\right)\\)</html>"
      ],
      "text/latex": [
       "$\\displaystyle \\frac{\\partial}{\\partial Y}\\xi\\left(Y, x\\right)$"
      ],
      "text/plain": [
       "diff(xi(Y, x), Y)"
      ]
     },
     "metadata": {},
     "output_type": "display_data"
    },
    {
     "data": {
      "text/html": [
       "<html>\\(\\displaystyle \\frac{\\partial^{2}}{(\\partial Y)^{2}}\\xi\\left(Y, x\\right)\\)</html>"
      ],
      "text/latex": [
       "$\\displaystyle \\frac{\\partial^{2}}{(\\partial Y)^{2}}\\xi\\left(Y, x\\right)$"
      ],
      "text/plain": [
       "diff(xi(Y, x), Y, Y)"
      ]
     },
     "metadata": {},
     "output_type": "display_data"
    },
    {
     "data": {
      "text/html": [
       "<html>\\(\\displaystyle \\frac{\\partial^{2}}{(\\partial Y)^{2}}\\xi\\left(Y, x\\right)\\)</html>"
      ],
      "text/latex": [
       "$\\displaystyle \\frac{\\partial^{2}}{(\\partial Y)^{2}}\\xi\\left(Y, x\\right)$"
      ],
      "text/plain": [
       "diff(xi(Y, x), Y, Y)"
      ]
     },
     "metadata": {},
     "output_type": "display_data"
    },
    {
     "data": {
      "text/html": [
       "<html>\\(\\displaystyle \\frac{\\partial^{2}}{\\partial Y\\partial x}\\phi\\left(Y, x\\right)\\)</html>"
      ],
      "text/latex": [
       "$\\displaystyle \\frac{\\partial^{2}}{\\partial Y\\partial x}\\phi\\left(Y, x\\right)$"
      ],
      "text/plain": [
       "diff(phi(Y, x), Y, x)"
      ]
     },
     "metadata": {},
     "output_type": "display_data"
    },
    {
     "data": {
      "text/html": [
       "<html>\\(\\displaystyle \\frac{\\partial^{2}}{(\\partial Y)^{2}}\\phi\\left(Y, x\\right)\\)</html>"
      ],
      "text/latex": [
       "$\\displaystyle \\frac{\\partial^{2}}{(\\partial Y)^{2}}\\phi\\left(Y, x\\right)$"
      ],
      "text/plain": [
       "diff(phi(Y, x), Y, Y)"
      ]
     },
     "metadata": {},
     "output_type": "display_data"
    },
    {
     "data": {
      "text/html": [
       "<html>\\(\\displaystyle \\frac{\\partial^{2}}{(\\partial Y)^{2}}\\phi\\left(Y, x\\right)\\)</html>"
      ],
      "text/latex": [
       "$\\displaystyle \\frac{\\partial^{2}}{(\\partial Y)^{2}}\\phi\\left(Y, x\\right)$"
      ],
      "text/plain": [
       "diff(phi(Y, x), Y, Y)"
      ]
     },
     "metadata": {},
     "output_type": "display_data"
    },
    {
     "data": {
      "text/html": [
       "<html>\\(\\displaystyle \\frac{\\partial^{3}}{(\\partial Y)^{3}}\\xi\\left(Y, x\\right)\\)</html>"
      ],
      "text/latex": [
       "$\\displaystyle \\frac{\\partial^{3}}{(\\partial Y)^{3}}\\xi\\left(Y, x\\right)$"
      ],
      "text/plain": [
       "diff(xi(Y, x), Y, Y, Y)"
      ]
     },
     "metadata": {},
     "output_type": "display_data"
    },
    {
     "data": {
      "text/html": [
       "<html>\\(\\displaystyle \\frac{\\partial^{3}}{\\partial Y(\\partial x)^{2}}\\phi\\left(Y, x\\right)\\)</html>"
      ],
      "text/latex": [
       "$\\displaystyle \\frac{\\partial^{3}}{\\partial Y(\\partial x)^{2}}\\phi\\left(Y, x\\right)$"
      ],
      "text/plain": [
       "diff(phi(Y, x), Y, x, x)"
      ]
     },
     "metadata": {},
     "output_type": "display_data"
    },
    {
     "data": {
      "text/html": [
       "<html>\\(\\displaystyle \\frac{\\partial^{3}}{(\\partial Y)^{2}\\partial x}\\phi\\left(Y, x\\right)\\)</html>"
      ],
      "text/latex": [
       "$\\displaystyle \\frac{\\partial^{3}}{(\\partial Y)^{2}\\partial x}\\phi\\left(Y, x\\right)$"
      ],
      "text/plain": [
       "diff(phi(Y, x), Y, Y, x)"
      ]
     },
     "metadata": {},
     "output_type": "display_data"
    },
    {
     "data": {
      "text/html": [
       "<html>\\(\\displaystyle \\frac{\\partial^{3}}{(\\partial Y)^{3}}\\phi\\left(Y, x\\right)\\)</html>"
      ],
      "text/latex": [
       "$\\displaystyle \\frac{\\partial^{3}}{(\\partial Y)^{3}}\\phi\\left(Y, x\\right)$"
      ],
      "text/plain": [
       "diff(phi(Y, x), Y, Y, Y)"
      ]
     },
     "metadata": {},
     "output_type": "display_data"
    },
    {
     "data": {
      "text/html": [
       "<html>\\(\\displaystyle \\frac{\\partial^{4}}{(\\partial Y)^{4}}\\xi\\left(Y, x\\right)\\)</html>"
      ],
      "text/latex": [
       "$\\displaystyle \\frac{\\partial^{4}}{(\\partial Y)^{4}}\\xi\\left(Y, x\\right)$"
      ],
      "text/plain": [
       "diff(xi(Y, x), Y, Y, Y, Y)"
      ]
     },
     "metadata": {},
     "output_type": "display_data"
    },
    {
     "data": {
      "text/html": [
       "<html>\\(\\displaystyle \\frac{\\partial^{4}}{(\\partial x)^{4}}\\phi\\left(Y, x\\right)\\)</html>"
      ],
      "text/latex": [
       "$\\displaystyle \\frac{\\partial^{4}}{(\\partial x)^{4}}\\phi\\left(Y, x\\right)$"
      ],
      "text/plain": [
       "diff(phi(Y, x), x, x, x, x)"
      ]
     },
     "metadata": {},
     "output_type": "display_data"
    },
    {
     "data": {
      "text/html": [
       "<html>\\(\\displaystyle \\frac{\\partial^{4}}{\\partial Y(\\partial x)^{3}}\\phi\\left(Y, x\\right)\\)</html>"
      ],
      "text/latex": [
       "$\\displaystyle \\frac{\\partial^{4}}{\\partial Y(\\partial x)^{3}}\\phi\\left(Y, x\\right)$"
      ],
      "text/plain": [
       "diff(phi(Y, x), Y, x, x, x)"
      ]
     },
     "metadata": {},
     "output_type": "display_data"
    },
    {
     "data": {
      "text/html": [
       "<html>\\(\\displaystyle \\frac{\\partial^{4}}{(\\partial Y)^{2}(\\partial x)^{2}}\\phi\\left(Y, x\\right)\\)</html>"
      ],
      "text/latex": [
       "$\\displaystyle \\frac{\\partial^{4}}{(\\partial Y)^{2}(\\partial x)^{2}}\\phi\\left(Y, x\\right)$"
      ],
      "text/plain": [
       "diff(phi(Y, x), Y, Y, x, x)"
      ]
     },
     "metadata": {},
     "output_type": "display_data"
    },
    {
     "data": {
      "text/html": [
       "<html>\\(\\displaystyle \\frac{\\partial^{4}}{(\\partial Y)^{3}\\partial x}\\phi\\left(Y, x\\right)\\)</html>"
      ],
      "text/latex": [
       "$\\displaystyle \\frac{\\partial^{4}}{(\\partial Y)^{3}\\partial x}\\phi\\left(Y, x\\right)$"
      ],
      "text/plain": [
       "diff(phi(Y, x), Y, Y, Y, x)"
      ]
     },
     "metadata": {},
     "output_type": "display_data"
    },
    {
     "data": {
      "text/html": [
       "<html>\\(\\displaystyle \\frac{\\partial^{4}}{(\\partial Y)^{4}}\\phi\\left(Y, x\\right)\\)</html>"
      ],
      "text/latex": [
       "$\\displaystyle \\frac{\\partial^{4}}{(\\partial Y)^{4}}\\phi\\left(Y, x\\right)$"
      ],
      "text/plain": [
       "diff(phi(Y, x), Y, Y, Y, Y)"
      ]
     },
     "metadata": {},
     "output_type": "display_data"
    },
    {
     "name": "stdout",
     "output_type": "stream",
     "text": [
      "after autoreduce\n"
     ]
    },
    {
     "data": {
      "text/latex": [
       "$\\displaystyle xi_{Y}$"
      ],
      "text/plain": [
       "<IPython.core.display.Math object>"
      ]
     },
     "metadata": {},
     "output_type": "display_data"
    },
    {
     "data": {
      "text/latex": [
       "$\\displaystyle phi_{x}$"
      ],
      "text/plain": [
       "<IPython.core.display.Math object>"
      ]
     },
     "metadata": {},
     "output_type": "display_data"
    },
    {
     "data": {
      "text/latex": [
       "$\\displaystyle phi_{Y}-\\frac{1}{Y} phi$"
      ],
      "text/plain": [
       "<IPython.core.display.Math object>"
      ]
     },
     "metadata": {},
     "output_type": "display_data"
    },
    {
     "data": {
      "text/latex": [
       "$\\displaystyle xi_{x, x}$"
      ],
      "text/plain": [
       "<IPython.core.display.Math object>"
      ]
     },
     "metadata": {},
     "output_type": "display_data"
    },
    {
     "data": {
      "text/html": [
       "<html>\\(\\displaystyle \\frac{\\partial}{\\partial Y}\\xi\\left(Y, x\\right)\\)</html>"
      ],
      "text/latex": [
       "$\\displaystyle \\frac{\\partial}{\\partial Y}\\xi\\left(Y, x\\right)$"
      ],
      "text/plain": [
       "diff(xi(Y, x), Y)"
      ]
     },
     "metadata": {},
     "output_type": "display_data"
    },
    {
     "data": {
      "text/html": [
       "<html>\\(\\displaystyle \\frac{\\partial}{\\partial x}\\phi\\left(Y, x\\right)\\)</html>"
      ],
      "text/latex": [
       "$\\displaystyle \\frac{\\partial}{\\partial x}\\phi\\left(Y, x\\right)$"
      ],
      "text/plain": [
       "diff(phi(Y, x), x)"
      ]
     },
     "metadata": {},
     "output_type": "display_data"
    },
    {
     "data": {
      "text/html": [
       "<html>\\(\\displaystyle \\frac{\\partial}{\\partial Y}\\phi\\left(Y, x\\right)\\)</html>"
      ],
      "text/latex": [
       "$\\displaystyle \\frac{\\partial}{\\partial Y}\\phi\\left(Y, x\\right)$"
      ],
      "text/plain": [
       "diff(phi(Y, x), Y)"
      ]
     },
     "metadata": {},
     "output_type": "display_data"
    },
    {
     "data": {
      "text/html": [
       "<html>\\(\\displaystyle \\frac{\\partial^{2}}{(\\partial x)^{2}}\\xi\\left(Y, x\\right)\\)</html>"
      ],
      "text/latex": [
       "$\\displaystyle \\frac{\\partial^{2}}{(\\partial x)^{2}}\\xi\\left(Y, x\\right)$"
      ],
      "text/plain": [
       "diff(xi(Y, x), x, x)"
      ]
     },
     "metadata": {},
     "output_type": "display_data"
    },
    {
     "name": "stdout",
     "output_type": "stream",
     "text": [
      "> \u001b[0;32m/home/tapir/delierium/delierium/JanetBasis.py\u001b[0m(345)\u001b[0;36mcomplete\u001b[0;34m()\u001b[0m\n",
      "\u001b[0;32m    343 \u001b[0;31m    \u001b[0;31m# XXX put 'complete' into Involution, easier to test, and much faster\u001b[0m\u001b[0;34m\u001b[0m\u001b[0;34m\u001b[0m\u001b[0m\n",
      "\u001b[0m\u001b[0;32m    344 \u001b[0;31m    \u001b[0mset_trace\u001b[0m\u001b[0;34m(\u001b[0m\u001b[0;34m)\u001b[0m\u001b[0;34m\u001b[0m\u001b[0;34m\u001b[0m\u001b[0m\n",
      "\u001b[0m\u001b[0;32m--> 345 \u001b[0;31m    \u001b[0mresult\u001b[0m \u001b[0;34m=\u001b[0m \u001b[0mlist\u001b[0m\u001b[0;34m(\u001b[0m\u001b[0mS\u001b[0m\u001b[0;34m)\u001b[0m\u001b[0;34m\u001b[0m\u001b[0;34m\u001b[0m\u001b[0m\n",
      "\u001b[0m\u001b[0;32m    346 \u001b[0;31m    \u001b[0;32mif\u001b[0m \u001b[0mlen\u001b[0m\u001b[0;34m(\u001b[0m\u001b[0mresult\u001b[0m\u001b[0;34m)\u001b[0m \u001b[0;34m==\u001b[0m \u001b[0;36m1\u001b[0m\u001b[0;34m:\u001b[0m\u001b[0;34m\u001b[0m\u001b[0;34m\u001b[0m\u001b[0m\n",
      "\u001b[0m\u001b[0;32m    347 \u001b[0;31m        \u001b[0;32mreturn\u001b[0m \u001b[0mresult\u001b[0m\u001b[0;34m\u001b[0m\u001b[0;34m\u001b[0m\u001b[0m\n",
      "\u001b[0m\n"
     ]
    },
    {
     "name": "stdin",
     "output_type": "stream",
     "text": [
      "ipdb>  pp S\n"
     ]
    },
    {
     "name": "stdout",
     "output_type": "stream",
     "text": [
      "<generator object bucket._get_values at 0x7f0f6b54db30>\n"
     ]
    },
    {
     "name": "stdin",
     "output_type": "stream",
     "text": [
      "ipdb>  for x in S: print(x)\n"
     ]
    },
    {
     "name": "stdout",
     "output_type": "stream",
     "text": [
      "diff(xi(Y, x), Y)\n",
      "diff(xi(Y, x), x, x)\n"
     ]
    }
   ],
   "source": [
    "# a variant of https://www.researchgate.net/publication/334785151_Lie_symmetry_Analysis_Fourth_order_Nonlinear_ordinary_differential_Equation_as_a_case_study\n",
    "# this is the reason for ticket 1\n",
    "import sys, os\n",
    "sys.path.append(os.path.abspath(\"..\"))\n",
    "from delierium.Infinitesimals import prolongationODE, overdeterminedSystemODE, Janet_Basis_from_ODE\n",
    "from IPython.display import Math\n",
    "from delierium.helpers import latexer\n",
    "x = var('x')\n",
    "y = function('y')\n",
    "ode = diff(y(x), x, 4) - diff(y(x),x,x,x)*diff(y(x),x)/y(x)\n",
    "jb = Janet_Basis_from_ODE(ode, y, x)\n",
    "for _ in jb:\n",
    "    display(Math(latexer(_)))"
   ]
  },
  {
   "cell_type": "code",
   "execution_count": null,
   "id": "31183094-443d-4b82-ae04-ba115add1371",
   "metadata": {},
   "outputs": [],
   "source": []
  }
 ],
 "metadata": {
  "kernelspec": {
   "display_name": "SageMath 9.7",
   "language": "sage",
   "name": "sagemath"
  },
  "language_info": {
   "codemirror_mode": {
    "name": "ipython",
    "version": 3
   },
   "file_extension": ".py",
   "mimetype": "text/x-python",
   "name": "python",
   "nbconvert_exporter": "python",
   "pygments_lexer": "ipython3",
   "version": "3.10.8"
  },
  "widgets": {
   "application/vnd.jupyter.widget-state+json": {
    "state": {},
    "version_major": 2,
    "version_minor": 0
   }
  }
 },
 "nbformat": 4,
 "nbformat_minor": 5
}
