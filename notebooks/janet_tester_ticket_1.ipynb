{
 "cells": [
  {
   "cell_type": "code",
   "execution_count": 1,
   "id": "012c0b21-d523-4033-9a6e-040e1ce90e66",
   "metadata": {},
   "outputs": [
    {
     "name": "stdout",
     "output_type": "stream",
     "text": [
      "==================== prolongation ====================\n"
     ]
    },
    {
     "data": {
      "text/latex": [
       "$\\displaystyle - \\xi_{yyyy} y_{x}^5$"
      ],
      "text/plain": [
       "<IPython.core.display.Math object>"
      ]
     },
     "metadata": {},
     "output_type": "display_data"
    },
    {
     "data": {
      "text/latex": [
       "$\\displaystyle  \\phi_{yyyy} y_{x}^4$"
      ],
      "text/plain": [
       "<IPython.core.display.Math object>"
      ]
     },
     "metadata": {},
     "output_type": "display_data"
    },
    {
     "data": {
      "text/latex": [
       "$\\displaystyle -4  \\xi_{yyyx} y_{x}^4$"
      ],
      "text/plain": [
       "<IPython.core.display.Math object>"
      ]
     },
     "metadata": {},
     "output_type": "display_data"
    },
    {
     "data": {
      "text/latex": [
       "$\\displaystyle  \\xi_{yyy} y_{x}^5/y$"
      ],
      "text/plain": [
       "<IPython.core.display.Math object>"
      ]
     },
     "metadata": {},
     "output_type": "display_data"
    },
    {
     "data": {
      "text/latex": [
       "$\\displaystyle -10  \\xi_{yyy} y_{x}^3 y_{x, x}$"
      ],
      "text/plain": [
       "<IPython.core.display.Math object>"
      ]
     },
     "metadata": {},
     "output_type": "display_data"
    },
    {
     "data": {
      "text/latex": [
       "$\\displaystyle 4  \\phi_{yyyx} y_{x}^3$"
      ],
      "text/plain": [
       "<IPython.core.display.Math object>"
      ]
     },
     "metadata": {},
     "output_type": "display_data"
    },
    {
     "data": {
      "text/latex": [
       "$\\displaystyle -6  \\xi_{yyxx} y_{x}^3$"
      ],
      "text/plain": [
       "<IPython.core.display.Math object>"
      ]
     },
     "metadata": {},
     "output_type": "display_data"
    },
    {
     "data": {
      "text/latex": [
       "$\\displaystyle - \\phi_{yyy} y_{x}^4/y$"
      ],
      "text/plain": [
       "<IPython.core.display.Math object>"
      ]
     },
     "metadata": {},
     "output_type": "display_data"
    },
    {
     "data": {
      "text/latex": [
       "$\\displaystyle 3  \\xi_{yyx} y_{x}^4/y$"
      ],
      "text/plain": [
       "<IPython.core.display.Math object>"
      ]
     },
     "metadata": {},
     "output_type": "display_data"
    },
    {
     "data": {
      "text/latex": [
       "$\\displaystyle 6  \\phi_{yyy} y_{x}^2 y_{x, x}$"
      ],
      "text/plain": [
       "<IPython.core.display.Math object>"
      ]
     },
     "metadata": {},
     "output_type": "display_data"
    },
    {
     "data": {
      "text/latex": [
       "$\\displaystyle -24  \\xi_{yyx} y_{x}^2 y_{x, x}$"
      ],
      "text/plain": [
       "<IPython.core.display.Math object>"
      ]
     },
     "metadata": {},
     "output_type": "display_data"
    },
    {
     "data": {
      "text/latex": [
       "$\\displaystyle 6  \\xi_{yy} y_{x}^3 y_{x, x}/y$"
      ],
      "text/plain": [
       "<IPython.core.display.Math object>"
      ]
     },
     "metadata": {},
     "output_type": "display_data"
    },
    {
     "data": {
      "text/latex": [
       "$\\displaystyle -15  \\xi_{yy} y_{x} y_{x, x}^2$"
      ],
      "text/plain": [
       "<IPython.core.display.Math object>"
      ]
     },
     "metadata": {},
     "output_type": "display_data"
    },
    {
     "data": {
      "text/latex": [
       "$\\displaystyle -10  \\xi_{yy} y_{x}^2 y_{x, x, x}$"
      ],
      "text/plain": [
       "<IPython.core.display.Math object>"
      ]
     },
     "metadata": {},
     "output_type": "display_data"
    },
    {
     "data": {
      "text/latex": [
       "$\\displaystyle 6  \\phi_{yyxx} y_{x}^2$"
      ],
      "text/plain": [
       "<IPython.core.display.Math object>"
      ]
     },
     "metadata": {},
     "output_type": "display_data"
    },
    {
     "data": {
      "text/latex": [
       "$\\displaystyle -4  \\xi_{yxxx} y_{x}^2$"
      ],
      "text/plain": [
       "<IPython.core.display.Math object>"
      ]
     },
     "metadata": {},
     "output_type": "display_data"
    },
    {
     "data": {
      "text/latex": [
       "$\\displaystyle -3  \\phi_{yyx} y_{x}^3/y$"
      ],
      "text/plain": [
       "<IPython.core.display.Math object>"
      ]
     },
     "metadata": {},
     "output_type": "display_data"
    },
    {
     "data": {
      "text/latex": [
       "$\\displaystyle 3  \\xi_{yxx} y_{x}^3/y$"
      ],
      "text/plain": [
       "<IPython.core.display.Math object>"
      ]
     },
     "metadata": {},
     "output_type": "display_data"
    },
    {
     "data": {
      "text/latex": [
       "$\\displaystyle 12  \\phi_{yyx} y_{x} y_{x, x}$"
      ],
      "text/plain": [
       "<IPython.core.display.Math object>"
      ]
     },
     "metadata": {},
     "output_type": "display_data"
    },
    {
     "data": {
      "text/latex": [
       "$\\displaystyle -18  \\xi_{yxx} y_{x} y_{x, x}$"
      ],
      "text/plain": [
       "<IPython.core.display.Math object>"
      ]
     },
     "metadata": {},
     "output_type": "display_data"
    },
    {
     "data": {
      "text/latex": [
       "$\\displaystyle -3  \\phi_{yy} y_{x}^2 y_{x, x}/y$"
      ],
      "text/plain": [
       "<IPython.core.display.Math object>"
      ]
     },
     "metadata": {},
     "output_type": "display_data"
    },
    {
     "data": {
      "text/latex": [
       "$\\displaystyle 9  \\xi_{yx} y_{x}^2 y_{x, x}/y$"
      ],
      "text/plain": [
       "<IPython.core.display.Math object>"
      ]
     },
     "metadata": {},
     "output_type": "display_data"
    },
    {
     "data": {
      "text/latex": [
       "$\\displaystyle 3  \\phi_{yy} y_{x, x}^2$"
      ],
      "text/plain": [
       "<IPython.core.display.Math object>"
      ]
     },
     "metadata": {},
     "output_type": "display_data"
    },
    {
     "data": {
      "text/latex": [
       "$\\displaystyle -12  \\xi_{yx} y_{x, x}^2$"
      ],
      "text/plain": [
       "<IPython.core.display.Math object>"
      ]
     },
     "metadata": {},
     "output_type": "display_data"
    },
    {
     "data": {
      "text/latex": [
       "$\\displaystyle 3  \\xi_{y} y_{x} y_{x, x}^2/y$"
      ],
      "text/plain": [
       "<IPython.core.display.Math object>"
      ]
     },
     "metadata": {},
     "output_type": "display_data"
    },
    {
     "data": {
      "text/latex": [
       "$\\displaystyle 4  \\phi_{yy} y_{x} y_{x, x, x}$"
      ],
      "text/plain": [
       "<IPython.core.display.Math object>"
      ]
     },
     "metadata": {},
     "output_type": "display_data"
    },
    {
     "data": {
      "text/latex": [
       "$\\displaystyle -16  \\xi_{yx} y_{x} y_{x, x, x}$"
      ],
      "text/plain": [
       "<IPython.core.display.Math object>"
      ]
     },
     "metadata": {},
     "output_type": "display_data"
    },
    {
     "data": {
      "text/latex": [
       "$\\displaystyle 5  \\xi_{y} y_{x}^2 y_{x, x, x}/y$"
      ],
      "text/plain": [
       "<IPython.core.display.Math object>"
      ]
     },
     "metadata": {},
     "output_type": "display_data"
    },
    {
     "data": {
      "text/latex": [
       "$\\displaystyle -10  \\xi_{y} y_{x, x} y_{x, x, x}$"
      ],
      "text/plain": [
       "<IPython.core.display.Math object>"
      ]
     },
     "metadata": {},
     "output_type": "display_data"
    },
    {
     "data": {
      "text/latex": [
       "$\\displaystyle -5  \\xi_{y} y_{x} y_{x, x, x, x}$"
      ],
      "text/plain": [
       "<IPython.core.display.Math object>"
      ]
     },
     "metadata": {},
     "output_type": "display_data"
    },
    {
     "data": {
      "text/latex": [
       "$\\displaystyle 4  \\phi_{yxxx} y_{x}$"
      ],
      "text/plain": [
       "<IPython.core.display.Math object>"
      ]
     },
     "metadata": {},
     "output_type": "display_data"
    },
    {
     "data": {
      "text/latex": [
       "$\\displaystyle - \\xi_{xxxx} y_{x}$"
      ],
      "text/plain": [
       "<IPython.core.display.Math object>"
      ]
     },
     "metadata": {},
     "output_type": "display_data"
    },
    {
     "data": {
      "text/latex": [
       "$\\displaystyle -3  \\phi_{yxx} y_{x}^2/y$"
      ],
      "text/plain": [
       "<IPython.core.display.Math object>"
      ]
     },
     "metadata": {},
     "output_type": "display_data"
    },
    {
     "data": {
      "text/latex": [
       "$\\displaystyle  \\xi_{xxx} y_{x}^2/y$"
      ],
      "text/plain": [
       "<IPython.core.display.Math object>"
      ]
     },
     "metadata": {},
     "output_type": "display_data"
    },
    {
     "data": {
      "text/latex": [
       "$\\displaystyle 6  \\phi_{yxx} y_{x, x}$"
      ],
      "text/plain": [
       "<IPython.core.display.Math object>"
      ]
     },
     "metadata": {},
     "output_type": "display_data"
    },
    {
     "data": {
      "text/latex": [
       "$\\displaystyle -4  \\xi_{xxx} y_{x, x}$"
      ],
      "text/plain": [
       "<IPython.core.display.Math object>"
      ]
     },
     "metadata": {},
     "output_type": "display_data"
    },
    {
     "data": {
      "text/latex": [
       "$\\displaystyle -3  \\phi_{yx} y_{x} y_{x, x}/y$"
      ],
      "text/plain": [
       "<IPython.core.display.Math object>"
      ]
     },
     "metadata": {},
     "output_type": "display_data"
    },
    {
     "data": {
      "text/latex": [
       "$\\displaystyle 3  \\xi_{xx} y_{x} y_{x, x}/y$"
      ],
      "text/plain": [
       "<IPython.core.display.Math object>"
      ]
     },
     "metadata": {},
     "output_type": "display_data"
    },
    {
     "data": {
      "text/latex": [
       "$\\displaystyle 4  \\phi_{yx} y_{x, x, x}$"
      ],
      "text/plain": [
       "<IPython.core.display.Math object>"
      ]
     },
     "metadata": {},
     "output_type": "display_data"
    },
    {
     "data": {
      "text/latex": [
       "$\\displaystyle -6  \\xi_{xx} y_{x, x, x}$"
      ],
      "text/plain": [
       "<IPython.core.display.Math object>"
      ]
     },
     "metadata": {},
     "output_type": "display_data"
    },
    {
     "data": {
      "text/latex": [
       "$\\displaystyle -2  \\phi_{y} y_{x} y_{x, x, x}/y$"
      ],
      "text/plain": [
       "<IPython.core.display.Math object>"
      ]
     },
     "metadata": {},
     "output_type": "display_data"
    },
    {
     "data": {
      "text/latex": [
       "$\\displaystyle 4  \\xi_{x} y_{x} y_{x, x, x}/y$"
      ],
      "text/plain": [
       "<IPython.core.display.Math object>"
      ]
     },
     "metadata": {},
     "output_type": "display_data"
    },
    {
     "data": {
      "text/latex": [
       "$\\displaystyle  \\phi_{y} y_{x, x, x, x}$"
      ],
      "text/plain": [
       "<IPython.core.display.Math object>"
      ]
     },
     "metadata": {},
     "output_type": "display_data"
    },
    {
     "data": {
      "text/latex": [
       "$\\displaystyle -4  \\xi_{x} y_{x, x, x, x}$"
      ],
      "text/plain": [
       "<IPython.core.display.Math object>"
      ]
     },
     "metadata": {},
     "output_type": "display_data"
    },
    {
     "data": {
      "text/latex": [
       "$\\displaystyle - \\phi_{xxx} y_{x}/y$"
      ],
      "text/plain": [
       "<IPython.core.display.Math object>"
      ]
     },
     "metadata": {},
     "output_type": "display_data"
    },
    {
     "data": {
      "text/latex": [
       "$\\displaystyle - \\phi_{x} y_{x, x, x}/y$"
      ],
      "text/plain": [
       "<IPython.core.display.Math object>"
      ]
     },
     "metadata": {},
     "output_type": "display_data"
    },
    {
     "data": {
      "text/latex": [
       "$\\displaystyle phi y_{x} y_{x, x, x}/y^2$"
      ],
      "text/plain": [
       "<IPython.core.display.Math object>"
      ]
     },
     "metadata": {},
     "output_type": "display_data"
    },
    {
     "data": {
      "text/latex": [
       "$\\displaystyle  \\phi_{xxxx}$"
      ],
      "text/plain": [
       "<IPython.core.display.Math object>"
      ]
     },
     "metadata": {},
     "output_type": "display_data"
    },
    {
     "name": "stdout",
     "output_type": "stream",
     "text": [
      "This is where we start\n",
      "diff(xi(Y, x), Y)\n",
      "diff(xi(Y, x), Y, Y)\n",
      "diff(xi(Y, x), Y, Y) + (-1/5/Y) * diff(xi(Y, x), Y)\n",
      "diff(phi(Y, x), Y, x) + (-3/2) * diff(xi(Y, x), x, x) + (-1/4/Y) * diff(phi(Y, x), x)\n",
      "diff(phi(Y, x), Y, Y) + (-4) * diff(xi(Y, x), Y, x) + (-1/4/Y) * diff(phi(Y, x), Y) + (1/4/Y^2) * phi(Y, x)\n",
      "diff(phi(Y, x), Y, Y) + (-4) * diff(xi(Y, x), Y, x)\n",
      "diff(xi(Y, x), Y, Y, Y) + (-3/5/Y) * diff(xi(Y, x), Y, Y)\n",
      "diff(phi(Y, x), Y, x, x) + (-2/3) * diff(xi(Y, x), x, x, x)\n",
      "diff(phi(Y, x), Y, Y, x) + (-3/2) * diff(xi(Y, x), Y, x, x) + (-1/4/Y) * diff(phi(Y, x), Y, x) + (1/4/Y) * diff(xi(Y, x), x, x)\n",
      "diff(phi(Y, x), Y, Y, Y) + (-4) * diff(xi(Y, x), Y, Y, x) + (-1/2/Y) * diff(phi(Y, x), Y, Y) + (3/2/Y) * diff(xi(Y, x), Y, x)\n",
      "diff(xi(Y, x), Y, Y, Y, Y) + (-1/Y) * diff(xi(Y, x), Y, Y, Y)\n",
      "diff(phi(Y, x), x, x, x, x)\n",
      "diff(phi(Y, x), Y, x, x, x) + (-1/4) * diff(xi(Y, x), x, x, x, x) + (-1/4/Y) * diff(phi(Y, x), x, x, x)\n",
      "diff(phi(Y, x), Y, Y, x, x) + (-2/3) * diff(xi(Y, x), Y, x, x, x) + (-1/2/Y) * diff(phi(Y, x), Y, x, x) + (1/6/Y) * diff(xi(Y, x), x, x, x)\n",
      "diff(phi(Y, x), Y, Y, Y, x) + (-3/2) * diff(xi(Y, x), Y, Y, x, x) + (-3/4/Y) * diff(phi(Y, x), Y, Y, x) + (3/4/Y) * diff(xi(Y, x), Y, x, x)\n",
      "diff(phi(Y, x), Y, Y, Y, Y) + (-4) * diff(xi(Y, x), Y, Y, Y, x) + (-1/Y) * diff(phi(Y, x), Y, Y, Y) + (3/Y) * diff(xi(Y, x), Y, Y, x)\n"
     ]
    },
    {
     "data": {
      "text/html": [
       "<html>\\(\\displaystyle \\frac{\\partial}{\\partial Y}\\xi\\left(Y, x\\right)\\)</html>"
      ],
      "text/latex": [
       "$\\displaystyle \\frac{\\partial}{\\partial Y}\\xi\\left(Y, x\\right)$"
      ],
      "text/plain": [
       "diff(xi(Y, x), Y)"
      ]
     },
     "metadata": {},
     "output_type": "display_data"
    },
    {
     "data": {
      "text/html": [
       "<html>\\(\\displaystyle \\frac{\\partial^{2}}{(\\partial Y)^{2}}\\xi\\left(Y, x\\right)\\)</html>"
      ],
      "text/latex": [
       "$\\displaystyle \\frac{\\partial^{2}}{(\\partial Y)^{2}}\\xi\\left(Y, x\\right)$"
      ],
      "text/plain": [
       "diff(xi(Y, x), Y, Y)"
      ]
     },
     "metadata": {},
     "output_type": "display_data"
    },
    {
     "data": {
      "text/html": [
       "<html>\\(\\displaystyle \\frac{\\partial^{2}}{(\\partial Y)^{2}}\\xi\\left(Y, x\\right)\\)</html>"
      ],
      "text/latex": [
       "$\\displaystyle \\frac{\\partial^{2}}{(\\partial Y)^{2}}\\xi\\left(Y, x\\right)$"
      ],
      "text/plain": [
       "diff(xi(Y, x), Y, Y)"
      ]
     },
     "metadata": {},
     "output_type": "display_data"
    },
    {
     "data": {
      "text/html": [
       "<html>\\(\\displaystyle \\frac{\\partial^{2}}{\\partial Y\\partial x}\\phi\\left(Y, x\\right)\\)</html>"
      ],
      "text/latex": [
       "$\\displaystyle \\frac{\\partial^{2}}{\\partial Y\\partial x}\\phi\\left(Y, x\\right)$"
      ],
      "text/plain": [
       "diff(phi(Y, x), Y, x)"
      ]
     },
     "metadata": {},
     "output_type": "display_data"
    },
    {
     "data": {
      "text/html": [
       "<html>\\(\\displaystyle \\frac{\\partial^{2}}{(\\partial Y)^{2}}\\phi\\left(Y, x\\right)\\)</html>"
      ],
      "text/latex": [
       "$\\displaystyle \\frac{\\partial^{2}}{(\\partial Y)^{2}}\\phi\\left(Y, x\\right)$"
      ],
      "text/plain": [
       "diff(phi(Y, x), Y, Y)"
      ]
     },
     "metadata": {},
     "output_type": "display_data"
    },
    {
     "data": {
      "text/html": [
       "<html>\\(\\displaystyle \\frac{\\partial^{2}}{(\\partial Y)^{2}}\\phi\\left(Y, x\\right)\\)</html>"
      ],
      "text/latex": [
       "$\\displaystyle \\frac{\\partial^{2}}{(\\partial Y)^{2}}\\phi\\left(Y, x\\right)$"
      ],
      "text/plain": [
       "diff(phi(Y, x), Y, Y)"
      ]
     },
     "metadata": {},
     "output_type": "display_data"
    },
    {
     "data": {
      "text/html": [
       "<html>\\(\\displaystyle \\frac{\\partial^{3}}{(\\partial Y)^{3}}\\xi\\left(Y, x\\right)\\)</html>"
      ],
      "text/latex": [
       "$\\displaystyle \\frac{\\partial^{3}}{(\\partial Y)^{3}}\\xi\\left(Y, x\\right)$"
      ],
      "text/plain": [
       "diff(xi(Y, x), Y, Y, Y)"
      ]
     },
     "metadata": {},
     "output_type": "display_data"
    },
    {
     "data": {
      "text/html": [
       "<html>\\(\\displaystyle \\frac{\\partial^{3}}{\\partial Y(\\partial x)^{2}}\\phi\\left(Y, x\\right)\\)</html>"
      ],
      "text/latex": [
       "$\\displaystyle \\frac{\\partial^{3}}{\\partial Y(\\partial x)^{2}}\\phi\\left(Y, x\\right)$"
      ],
      "text/plain": [
       "diff(phi(Y, x), Y, x, x)"
      ]
     },
     "metadata": {},
     "output_type": "display_data"
    },
    {
     "data": {
      "text/html": [
       "<html>\\(\\displaystyle \\frac{\\partial^{3}}{(\\partial Y)^{2}\\partial x}\\phi\\left(Y, x\\right)\\)</html>"
      ],
      "text/latex": [
       "$\\displaystyle \\frac{\\partial^{3}}{(\\partial Y)^{2}\\partial x}\\phi\\left(Y, x\\right)$"
      ],
      "text/plain": [
       "diff(phi(Y, x), Y, Y, x)"
      ]
     },
     "metadata": {},
     "output_type": "display_data"
    },
    {
     "data": {
      "text/html": [
       "<html>\\(\\displaystyle \\frac{\\partial^{3}}{(\\partial Y)^{3}}\\phi\\left(Y, x\\right)\\)</html>"
      ],
      "text/latex": [
       "$\\displaystyle \\frac{\\partial^{3}}{(\\partial Y)^{3}}\\phi\\left(Y, x\\right)$"
      ],
      "text/plain": [
       "diff(phi(Y, x), Y, Y, Y)"
      ]
     },
     "metadata": {},
     "output_type": "display_data"
    },
    {
     "data": {
      "text/html": [
       "<html>\\(\\displaystyle \\frac{\\partial^{4}}{(\\partial Y)^{4}}\\xi\\left(Y, x\\right)\\)</html>"
      ],
      "text/latex": [
       "$\\displaystyle \\frac{\\partial^{4}}{(\\partial Y)^{4}}\\xi\\left(Y, x\\right)$"
      ],
      "text/plain": [
       "diff(xi(Y, x), Y, Y, Y, Y)"
      ]
     },
     "metadata": {},
     "output_type": "display_data"
    },
    {
     "data": {
      "text/html": [
       "<html>\\(\\displaystyle \\frac{\\partial^{4}}{(\\partial x)^{4}}\\phi\\left(Y, x\\right)\\)</html>"
      ],
      "text/latex": [
       "$\\displaystyle \\frac{\\partial^{4}}{(\\partial x)^{4}}\\phi\\left(Y, x\\right)$"
      ],
      "text/plain": [
       "diff(phi(Y, x), x, x, x, x)"
      ]
     },
     "metadata": {},
     "output_type": "display_data"
    },
    {
     "data": {
      "text/html": [
       "<html>\\(\\displaystyle \\frac{\\partial^{4}}{\\partial Y(\\partial x)^{3}}\\phi\\left(Y, x\\right)\\)</html>"
      ],
      "text/latex": [
       "$\\displaystyle \\frac{\\partial^{4}}{\\partial Y(\\partial x)^{3}}\\phi\\left(Y, x\\right)$"
      ],
      "text/plain": [
       "diff(phi(Y, x), Y, x, x, x)"
      ]
     },
     "metadata": {},
     "output_type": "display_data"
    },
    {
     "data": {
      "text/html": [
       "<html>\\(\\displaystyle \\frac{\\partial^{4}}{(\\partial Y)^{2}(\\partial x)^{2}}\\phi\\left(Y, x\\right)\\)</html>"
      ],
      "text/latex": [
       "$\\displaystyle \\frac{\\partial^{4}}{(\\partial Y)^{2}(\\partial x)^{2}}\\phi\\left(Y, x\\right)$"
      ],
      "text/plain": [
       "diff(phi(Y, x), Y, Y, x, x)"
      ]
     },
     "metadata": {},
     "output_type": "display_data"
    },
    {
     "data": {
      "text/html": [
       "<html>\\(\\displaystyle \\frac{\\partial^{4}}{(\\partial Y)^{3}\\partial x}\\phi\\left(Y, x\\right)\\)</html>"
      ],
      "text/latex": [
       "$\\displaystyle \\frac{\\partial^{4}}{(\\partial Y)^{3}\\partial x}\\phi\\left(Y, x\\right)$"
      ],
      "text/plain": [
       "diff(phi(Y, x), Y, Y, Y, x)"
      ]
     },
     "metadata": {},
     "output_type": "display_data"
    },
    {
     "data": {
      "text/html": [
       "<html>\\(\\displaystyle \\frac{\\partial^{4}}{(\\partial Y)^{4}}\\phi\\left(Y, x\\right)\\)</html>"
      ],
      "text/latex": [
       "$\\displaystyle \\frac{\\partial^{4}}{(\\partial Y)^{4}}\\phi\\left(Y, x\\right)$"
      ],
      "text/plain": [
       "diff(phi(Y, x), Y, Y, Y, Y)"
      ]
     },
     "metadata": {},
     "output_type": "display_data"
    },
    {
     "name": "stdout",
     "output_type": "stream",
     "text": [
      "after autoreduce\n",
      "diff(xi(Y, x), Y)\n",
      "diff(phi(Y, x), x)\n",
      "diff(phi(Y, x), Y) + (-1/Y) * phi(Y, x)\n",
      "diff(xi(Y, x), x, x)\n"
     ]
    },
    {
     "data": {
      "text/html": [
       "<html>\\(\\displaystyle \\frac{\\partial}{\\partial Y}\\xi\\left(Y, x\\right)\\)</html>"
      ],
      "text/latex": [
       "$\\displaystyle \\frac{\\partial}{\\partial Y}\\xi\\left(Y, x\\right)$"
      ],
      "text/plain": [
       "diff(xi(Y, x), Y)"
      ]
     },
     "metadata": {},
     "output_type": "display_data"
    },
    {
     "data": {
      "text/html": [
       "<html>\\(\\displaystyle \\frac{\\partial}{\\partial x}\\phi\\left(Y, x\\right)\\)</html>"
      ],
      "text/latex": [
       "$\\displaystyle \\frac{\\partial}{\\partial x}\\phi\\left(Y, x\\right)$"
      ],
      "text/plain": [
       "diff(phi(Y, x), x)"
      ]
     },
     "metadata": {},
     "output_type": "display_data"
    },
    {
     "data": {
      "text/html": [
       "<html>\\(\\displaystyle \\frac{\\partial}{\\partial Y}\\phi\\left(Y, x\\right)\\)</html>"
      ],
      "text/latex": [
       "$\\displaystyle \\frac{\\partial}{\\partial Y}\\phi\\left(Y, x\\right)$"
      ],
      "text/plain": [
       "diff(phi(Y, x), Y)"
      ]
     },
     "metadata": {},
     "output_type": "display_data"
    },
    {
     "data": {
      "text/html": [
       "<html>\\(\\displaystyle \\frac{\\partial^{2}}{(\\partial x)^{2}}\\xi\\left(Y, x\\right)\\)</html>"
      ],
      "text/latex": [
       "$\\displaystyle \\frac{\\partial^{2}}{(\\partial x)^{2}}\\xi\\left(Y, x\\right)$"
      ],
      "text/plain": [
       "diff(xi(Y, x), x, x)"
      ]
     },
     "metadata": {},
     "output_type": "display_data"
    },
    {
     "name": "stdout",
     "output_type": "stream",
     "text": [
      "after complete system\n",
      "diff(xi(Y, x), Y)\n",
      "diff(phi(Y, x), x)\n",
      "diff(phi(Y, x), Y) + (-1/Y) * phi(Y, x)\n",
      "diff(xi(Y, x), x, x)\n",
      "diff(xi(Y, x), Y, Y)\n",
      "===>\n"
     ]
    },
    {
     "data": {
      "text/html": [
       "<html>\\(\\displaystyle \\frac{\\frac{\\partial}{\\partial x}\\phi\\left(Y, x\\right)}{Y}\\)</html>"
      ],
      "text/latex": [
       "$\\displaystyle \\frac{\\frac{\\partial}{\\partial x}\\phi\\left(Y, x\\right)}{Y}$"
      ],
      "text/plain": [
       "diff(phi(Y, x), x)/Y"
      ]
     },
     "metadata": {},
     "output_type": "display_data"
    },
    {
     "name": "stdout",
     "output_type": "stream",
     "text": [
      "after integrability system\n",
      "diff(xi(Y, x), Y)\n",
      "diff(phi(Y, x), x)\n",
      "diff(phi(Y, x), Y) + (-1/Y) * phi(Y, x)\n",
      "diff(xi(Y, x), x, x)\n",
      "diff(xi(Y, x), Y, Y)\n",
      "This is where we start\n",
      "diff(xi(Y, x), Y)\n",
      "diff(phi(Y, x), x)\n",
      "diff(phi(Y, x), Y) + (-1/Y) * phi(Y, x)\n",
      "diff(xi(Y, x), x, x)\n",
      "diff(xi(Y, x), Y, Y)\n"
     ]
    },
    {
     "data": {
      "text/html": [
       "<html>\\(\\displaystyle \\frac{\\partial}{\\partial Y}\\xi\\left(Y, x\\right)\\)</html>"
      ],
      "text/latex": [
       "$\\displaystyle \\frac{\\partial}{\\partial Y}\\xi\\left(Y, x\\right)$"
      ],
      "text/plain": [
       "diff(xi(Y, x), Y)"
      ]
     },
     "metadata": {},
     "output_type": "display_data"
    },
    {
     "data": {
      "text/html": [
       "<html>\\(\\displaystyle \\frac{\\partial}{\\partial x}\\phi\\left(Y, x\\right)\\)</html>"
      ],
      "text/latex": [
       "$\\displaystyle \\frac{\\partial}{\\partial x}\\phi\\left(Y, x\\right)$"
      ],
      "text/plain": [
       "diff(phi(Y, x), x)"
      ]
     },
     "metadata": {},
     "output_type": "display_data"
    },
    {
     "data": {
      "text/html": [
       "<html>\\(\\displaystyle \\frac{\\partial}{\\partial Y}\\phi\\left(Y, x\\right)\\)</html>"
      ],
      "text/latex": [
       "$\\displaystyle \\frac{\\partial}{\\partial Y}\\phi\\left(Y, x\\right)$"
      ],
      "text/plain": [
       "diff(phi(Y, x), Y)"
      ]
     },
     "metadata": {},
     "output_type": "display_data"
    },
    {
     "data": {
      "text/html": [
       "<html>\\(\\displaystyle \\frac{\\partial^{2}}{(\\partial x)^{2}}\\xi\\left(Y, x\\right)\\)</html>"
      ],
      "text/latex": [
       "$\\displaystyle \\frac{\\partial^{2}}{(\\partial x)^{2}}\\xi\\left(Y, x\\right)$"
      ],
      "text/plain": [
       "diff(xi(Y, x), x, x)"
      ]
     },
     "metadata": {},
     "output_type": "display_data"
    },
    {
     "data": {
      "text/html": [
       "<html>\\(\\displaystyle \\frac{\\partial^{2}}{(\\partial Y)^{2}}\\xi\\left(Y, x\\right)\\)</html>"
      ],
      "text/latex": [
       "$\\displaystyle \\frac{\\partial^{2}}{(\\partial Y)^{2}}\\xi\\left(Y, x\\right)$"
      ],
      "text/plain": [
       "diff(xi(Y, x), Y, Y)"
      ]
     },
     "metadata": {},
     "output_type": "display_data"
    },
    {
     "name": "stdout",
     "output_type": "stream",
     "text": [
      "after autoreduce\n",
      "diff(xi(Y, x), Y)\n",
      "diff(phi(Y, x), x)\n",
      "diff(phi(Y, x), Y) + (-1/Y) * phi(Y, x)\n",
      "diff(xi(Y, x), x, x)\n"
     ]
    },
    {
     "data": {
      "text/html": [
       "<html>\\(\\displaystyle \\frac{\\partial}{\\partial Y}\\xi\\left(Y, x\\right)\\)</html>"
      ],
      "text/latex": [
       "$\\displaystyle \\frac{\\partial}{\\partial Y}\\xi\\left(Y, x\\right)$"
      ],
      "text/plain": [
       "diff(xi(Y, x), Y)"
      ]
     },
     "metadata": {},
     "output_type": "display_data"
    },
    {
     "data": {
      "text/html": [
       "<html>\\(\\displaystyle \\frac{\\partial}{\\partial x}\\phi\\left(Y, x\\right)\\)</html>"
      ],
      "text/latex": [
       "$\\displaystyle \\frac{\\partial}{\\partial x}\\phi\\left(Y, x\\right)$"
      ],
      "text/plain": [
       "diff(phi(Y, x), x)"
      ]
     },
     "metadata": {},
     "output_type": "display_data"
    },
    {
     "data": {
      "text/html": [
       "<html>\\(\\displaystyle \\frac{\\partial}{\\partial Y}\\phi\\left(Y, x\\right)\\)</html>"
      ],
      "text/latex": [
       "$\\displaystyle \\frac{\\partial}{\\partial Y}\\phi\\left(Y, x\\right)$"
      ],
      "text/plain": [
       "diff(phi(Y, x), Y)"
      ]
     },
     "metadata": {},
     "output_type": "display_data"
    },
    {
     "data": {
      "text/html": [
       "<html>\\(\\displaystyle \\frac{\\partial^{2}}{(\\partial x)^{2}}\\xi\\left(Y, x\\right)\\)</html>"
      ],
      "text/latex": [
       "$\\displaystyle \\frac{\\partial^{2}}{(\\partial x)^{2}}\\xi\\left(Y, x\\right)$"
      ],
      "text/plain": [
       "diff(xi(Y, x), x, x)"
      ]
     },
     "metadata": {},
     "output_type": "display_data"
    },
    {
     "name": "stdout",
     "output_type": "stream",
     "text": [
      "after complete system\n",
      "diff(xi(Y, x), Y)\n",
      "diff(phi(Y, x), x)\n",
      "diff(phi(Y, x), Y) + (-1/Y) * phi(Y, x)\n",
      "diff(xi(Y, x), x, x)\n",
      "diff(xi(Y, x), Y, Y)\n",
      "===>\n"
     ]
    },
    {
     "data": {
      "text/html": [
       "<html>\\(\\displaystyle \\frac{\\frac{\\partial}{\\partial x}\\phi\\left(Y, x\\right)}{Y}\\)</html>"
      ],
      "text/latex": [
       "$\\displaystyle \\frac{\\frac{\\partial}{\\partial x}\\phi\\left(Y, x\\right)}{Y}$"
      ],
      "text/plain": [
       "diff(phi(Y, x), x)/Y"
      ]
     },
     "metadata": {},
     "output_type": "display_data"
    },
    {
     "name": "stdout",
     "output_type": "stream",
     "text": [
      "after integrability system\n",
      "diff(xi(Y, x), Y)\n",
      "diff(phi(Y, x), x)\n",
      "diff(phi(Y, x), Y) + (-1/Y) * phi(Y, x)\n",
      "diff(xi(Y, x), x, x)\n",
      "diff(xi(Y, x), Y, Y)\n"
     ]
    },
    {
     "data": {
      "text/latex": [
       "$\\displaystyle  \\xi_{y}$"
      ],
      "text/plain": [
       "<IPython.core.display.Math object>"
      ]
     },
     "metadata": {},
     "output_type": "display_data"
    },
    {
     "data": {
      "text/latex": [
       "$\\displaystyle  \\phi_{x}$"
      ],
      "text/plain": [
       "<IPython.core.display.Math object>"
      ]
     },
     "metadata": {},
     "output_type": "display_data"
    },
    {
     "data": {
      "text/latex": [
       "$\\displaystyle -\\phi/y +  \\phi_{y}$"
      ],
      "text/plain": [
       "<IPython.core.display.Math object>"
      ]
     },
     "metadata": {},
     "output_type": "display_data"
    },
    {
     "data": {
      "text/latex": [
       "$\\displaystyle  \\xi_{xx}$"
      ],
      "text/plain": [
       "<IPython.core.display.Math object>"
      ]
     },
     "metadata": {},
     "output_type": "display_data"
    },
    {
     "data": {
      "text/latex": [
       "$\\displaystyle  \\xi_{yy}$"
      ],
      "text/plain": [
       "<IPython.core.display.Math object>"
      ]
     },
     "metadata": {},
     "output_type": "display_data"
    }
   ],
   "source": [
    "# a variant of https://www.researchgate.net/publication/334785151_Lie_symmetry_Analysis_Fourth_order_Nonlinear_ordinary_differential_Equation_as_a_case_study\n",
    "# this is the reason for ticket 1\n",
    "from delierium.Infinitesimals import prolongationODE, infinitesimalsODE, Janet_Basis_from_ODE\n",
    "from IPython.display import Math\n",
    "from delierium.helpers import latexer\n",
    "x = var('x')\n",
    "y = function('y')\n",
    "ode = diff(y(x), x, 4) - diff(y(x),x,x,x)*diff(y(x),x)/y(x)\n",
    "jb = Janet_Basis_from_ODE(ode, y, x)\n",
    "for _ in jb:\n",
    "    display(Math(latexer(_)))"
   ]
  },
  {
   "cell_type": "code",
   "execution_count": null,
   "id": "31183094-443d-4b82-ae04-ba115add1371",
   "metadata": {},
   "outputs": [],
   "source": []
  }
 ],
 "metadata": {
  "kernelspec": {
   "display_name": "SageMath 9.6",
   "language": "sage",
   "name": "sagemath"
  },
  "language_info": {
   "codemirror_mode": {
    "name": "ipython",
    "version": 3
   },
   "file_extension": ".py",
   "mimetype": "text/x-python",
   "name": "python",
   "nbconvert_exporter": "python",
   "pygments_lexer": "ipython3",
   "version": "3.10.6"
  },
  "widgets": {
   "application/vnd.jupyter.widget-state+json": {
    "state": {},
    "version_major": 2,
    "version_minor": 0
   }
  }
 },
 "nbformat": 4,
 "nbformat_minor": 5
}
