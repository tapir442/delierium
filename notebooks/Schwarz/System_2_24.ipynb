{
 "cells": [
  {
   "cell_type": "code",
   "execution_count": 1,
   "id": "1ddf6005-3cc1-4b70-8764-5fa6d487e6a5",
   "metadata": {},
   "outputs": [],
   "source": [
    "from sage.all import *\n",
    "\n",
    "from delierium.MatrixOrder import Context, Mgrlex, Mgrevlex, Mlex\n",
    "from delierium.JanetBasis import Janet_Basis\n",
    "from delierium.helpers import latexer\n",
    "from IPython.display import Math\n",
    "\n",
    "vars = var (\"x y\")\n",
    "z = function(\"z\")(x,y)\n",
    "w = function(\"w\")(x,y)\n",
    "# ctx: items are in descending order\n",
    "ctx_grevlex_f = Context((w,z), (x,y), Mgrevlex)\n",
    "ctx_grlex_f   = Context((w,z), (x,y), Mgrlex)\n",
    "ctx_lex_f     = Context((w,z), (x,y), Mlex)\n",
    "\n",
    "f1 = diff(w, y) + x*diff(z,y)/(2*y*(x**2+y)) - w/y\n",
    "f2 = diff(z,x,y) + y*diff(w,y)/x + 2*y*diff(z, x)/x\n",
    "f3 = diff(w, x,y) - 2*x*diff(z, x,2)/y - x*diff(w,x)/y**2\n",
    "f4 = diff(w, x,y) + diff(z, x,y) + diff(w, y)/(2*y) - diff(w,x)/y + x* diff(z, y)/y - w/(2*y**2)\n",
    "f5 = diff(w,y,y) + diff(z,x,y) - diff(w, y)/y + w/(y**2)\n",
    "\n",
    "system_2_24 = [f4,f2,f1,f5,f3]"
   ]
  },
  {
   "cell_type": "code",
   "execution_count": 2,
   "id": "48199092-9276-45a3-b2cf-35ea72dfdc31",
   "metadata": {},
   "outputs": [
    {
     "name": "stdout",
     "output_type": "stream",
     "text": [
      "****************************************************************************************\n",
      "This is where we start, loop=1\n"
     ]
    },
    {
     "data": {
      "text/latex": [
       "$\\displaystyle  z_{y}+\\frac{2 \\, {\\left(x^{2} y + y^{2}\\right)}}{x} w_{y}-\\frac{2 \\, {\\left(x^{2} + y\\right)}}{x} w$"
      ],
      "text/plain": [
       "<IPython.core.display.Math object>"
      ]
     },
     "metadata": {},
     "output_type": "display_data"
    },
    {
     "data": {
      "text/latex": [
       "$\\displaystyle  z_{x,y}+ w_{y,y}-\\frac{1}{y} w_{y}+\\frac{1}{y^{2}} w$"
      ],
      "text/plain": [
       "<IPython.core.display.Math object>"
      ]
     },
     "metadata": {},
     "output_type": "display_data"
    },
    {
     "data": {
      "text/latex": [
       "$\\displaystyle  z_{x,y}+\\frac{2 \\, y}{x} z_{x}+\\frac{y}{x} w_{y}$"
      ],
      "text/plain": [
       "<IPython.core.display.Math object>"
      ]
     },
     "metadata": {},
     "output_type": "display_data"
    },
    {
     "data": {
      "text/latex": [
       "$\\displaystyle  z_{x,y}+ w_{x,y}+\\frac{x}{y} z_{y}-\\frac{1}{y} w_{x}+\\frac{1}{2 \\, y} w_{y}-\\frac{1}{2 \\, y^{2}} w$"
      ],
      "text/plain": [
       "<IPython.core.display.Math object>"
      ]
     },
     "metadata": {},
     "output_type": "display_data"
    },
    {
     "data": {
      "text/latex": [
       "$\\displaystyle  z_{x,x}-\\frac{y}{2 \\, x} w_{x,y}+\\frac{1}{2 \\, y} w_{x}$"
      ],
      "text/plain": [
       "<IPython.core.display.Math object>"
      ]
     },
     "metadata": {},
     "output_type": "display_data"
    },
    {
     "name": "stdout",
     "output_type": "stream",
     "text": [
      "AAAAAAAAAAAAAAAAAAAAAAAAAAAAAAAAAAAAAAAAAAAAAAAAAAAAAAAAAAAAAAAAAAAAAAAAAAAAAAAAAAAAAAAAAAAAAAAAAAA 0\n"
     ]
    },
    {
     "data": {
      "text/latex": [
       "$\\displaystyle  z_{y}+\\frac{2 \\, {\\left(x^{2} y + y^{2}\\right)}}{x} w_{y}-\\frac{2 \\, {\\left(x^{2} + y\\right)}}{x} w$"
      ],
      "text/plain": [
       "<IPython.core.display.Math object>"
      ]
     },
     "metadata": {},
     "output_type": "display_data"
    },
    {
     "data": {
      "text/latex": [
       "$\\displaystyle  w_{x,y}+(\\frac{1}{y}) w_{x}+(\\frac{4 \\, x^{4} y + 8 \\, x^{2} y^{2} - 4 \\, y^{3} - x^{2}}{2 \\, {\\left(2 \\, x^{3} y^{2} + 2 \\, x y^{3} - x^{2} y\\right)}}) w_{y}+(\\frac{4 \\, x^{4} y + 8 \\, x^{2} y^{2} - 4 \\, y^{3} - x^{2}}{2 \\, {\\left(2 \\, x^{3} y^{3} + 2 \\, x y^{4} - x^{2} y^{2}\\right)}}) w$"
      ],
      "text/plain": [
       "<IPython.core.display.Math object>"
      ]
     },
     "metadata": {},
     "output_type": "display_data"
    },
    {
     "data": {
      "text/latex": [
       "$\\displaystyle  w_{x,y}-\\frac{1}{x^{2} + y} z_{x}-\\frac{1}{y} w_{x}+\\frac{2 \\, x^{2} - x - 2 \\, y}{2 \\, {\\left(x^{3} + x y\\right)}} w_{y}-\\frac{x^{2} - y}{x^{3} y + x y^{2}} w$"
      ],
      "text/plain": [
       "<IPython.core.display.Math object>"
      ]
     },
     "metadata": {},
     "output_type": "display_data"
    },
    {
     "data": {
      "text/latex": [
       "$\\displaystyle  w_{x,y}-\\frac{x}{2 \\, {\\left(x^{2} y + y^{2}\\right)}} w_{y,y}-\\frac{1}{y} w_{x}+\\frac{2 \\, x^{2} y^{2} - 2 \\, y^{3} + x^{2}}{2 \\, {\\left(x^{3} y^{2} + x y^{3}\\right)}} w_{y}-\\frac{2 \\, x^{2} y^{2} - 2 \\, y^{3} + x^{2}}{2 \\, {\\left(x^{3} y^{3} + x y^{4}\\right)}} w$"
      ],
      "text/plain": [
       "<IPython.core.display.Math object>"
      ]
     },
     "metadata": {},
     "output_type": "display_data"
    },
    {
     "data": {
      "text/latex": [
       "$\\displaystyle  z_{x,x}-\\frac{y}{2 \\, x} w_{x,y}+\\frac{1}{2 \\, y} w_{x}$"
      ],
      "text/plain": [
       "<IPython.core.display.Math object>"
      ]
     },
     "metadata": {},
     "output_type": "display_data"
    },
    {
     "name": "stdout",
     "output_type": "stream",
     "text": [
      "AAAAAAAAAAAAAAAAAAAAAAAAAAAAAAAAAAAAAAAAAAAAAAAAAAAAAAAAAAAAAAAAAAAAAAAAAAAAAAAAAAAAAAAAAAAAAAAAAAA 1\n"
     ]
    },
    {
     "data": {
      "text/latex": [
       "$\\displaystyle  z_{y}+\\frac{2 \\, {\\left(x^{2} y + y^{2}\\right)}}{x} w_{y}-\\frac{2 \\, {\\left(x^{2} + y\\right)}}{x} w$"
      ],
      "text/plain": [
       "<IPython.core.display.Math object>"
      ]
     },
     "metadata": {},
     "output_type": "display_data"
    },
    {
     "data": {
      "text/latex": [
       "$\\displaystyle  w_{x,y}-\\frac{x}{2 \\, {\\left(x^{2} y + y^{2}\\right)}} w_{y,y}-\\frac{1}{y} w_{x}+\\frac{2 \\, x^{2} y^{2} - 2 \\, y^{3} + x^{2}}{2 \\, {\\left(x^{3} y^{2} + x y^{3}\\right)}} w_{y}-\\frac{2 \\, x^{2} y^{2} - 2 \\, y^{3} + x^{2}}{2 \\, {\\left(x^{3} y^{3} + x y^{4}\\right)}} w$"
      ],
      "text/plain": [
       "<IPython.core.display.Math object>"
      ]
     },
     "metadata": {},
     "output_type": "display_data"
    },
    {
     "data": {
      "text/latex": [
       "$\\displaystyle  w_{x,y}-\\frac{1}{x^{2} + y} z_{x}-\\frac{1}{y} w_{x}+\\frac{2 \\, x^{2} - x - 2 \\, y}{2 \\, {\\left(x^{3} + x y\\right)}} w_{y}-\\frac{x^{2} - y}{x^{3} y + x y^{2}} w$"
      ],
      "text/plain": [
       "<IPython.core.display.Math object>"
      ]
     },
     "metadata": {},
     "output_type": "display_data"
    },
    {
     "data": {
      "text/latex": [
       "$\\displaystyle  w_{x,y}+(\\frac{1}{y}) w_{x}+(\\frac{4 \\, x^{4} y + 8 \\, x^{2} y^{2} - 4 \\, y^{3} - x^{2}}{2 \\, {\\left(2 \\, x^{3} y^{2} + 2 \\, x y^{3} - x^{2} y\\right)}}) w_{y}+(\\frac{4 \\, x^{4} y + 8 \\, x^{2} y^{2} - 4 \\, y^{3} - x^{2}}{2 \\, {\\left(2 \\, x^{3} y^{3} + 2 \\, x y^{4} - x^{2} y^{2}\\right)}}) w$"
      ],
      "text/plain": [
       "<IPython.core.display.Math object>"
      ]
     },
     "metadata": {},
     "output_type": "display_data"
    },
    {
     "data": {
      "text/latex": [
       "$\\displaystyle  z_{x,x}-\\frac{y}{2 \\, x} w_{x,y}+\\frac{1}{2 \\, y} w_{x}$"
      ],
      "text/plain": [
       "<IPython.core.display.Math object>"
      ]
     },
     "metadata": {},
     "output_type": "display_data"
    },
    {
     "name": "stdout",
     "output_type": "stream",
     "text": [
      "AAAAAAAAAAAAAAAAAAAAAAAAAAAAAAAAAAAAAAAAAAAAAAAAAAAAAAAAAAAAAAAAAAAAAAAAAAAAAAAAAAAAAAAAAAAAAAAAAAA 1\n"
     ]
    },
    {
     "data": {
      "text/latex": [
       "$\\displaystyle  z_{y}+\\frac{2 \\, {\\left(x^{2} y + y^{2}\\right)}}{x} w_{y}-\\frac{2 \\, {\\left(x^{2} + y\\right)}}{x} w$"
      ],
      "text/plain": [
       "<IPython.core.display.Math object>"
      ]
     },
     "metadata": {},
     "output_type": "display_data"
    },
    {
     "data": {
      "text/latex": [
       "$\\displaystyle  w_{y,y}+\\frac{2 \\, {\\left(2 \\, x^{2} y^{2} - x^{3} + 2 \\, y^{3} - x y\\right)}}{2 \\, x^{3} y + 2 \\, x y^{2} - x^{2}} w_{x}-\\frac{2 \\, x^{4} y - 4 \\, y^{5} + 2 \\, x y^{3} - x^{3} - 2 \\, {\\left(2 \\, x^{6} + x^{3} - x^{2}\\right)} y^{2}}{2 \\, x^{4} y^{2} + 2 \\, x^{2} y^{3} - x^{3} y} w_{y}+\\frac{2 \\, x^{4} y - 4 \\, y^{5} + 2 \\, x y^{3} - x^{3} - 2 \\, {\\left(2 \\, x^{6} + x^{3} - x^{2}\\right)} y^{2}}{2 \\, x^{4} y^{3} + 2 \\, x^{2} y^{4} - x^{3} y^{2}} w$"
      ],
      "text/plain": [
       "<IPython.core.display.Math object>"
      ]
     },
     "metadata": {},
     "output_type": "display_data"
    },
    {
     "data": {
      "text/latex": [
       "$\\displaystyle  w_{y,y}-\\frac{2 \\, y}{x} z_{x}-\\frac{y^{2} + x}{x y} w_{y}+\\frac{1}{y^{2}} w$"
      ],
      "text/plain": [
       "<IPython.core.display.Math object>"
      ]
     },
     "metadata": {},
     "output_type": "display_data"
    },
    {
     "data": {
      "text/latex": [
       "$\\displaystyle  w_{x,y}-\\frac{x}{2 \\, {\\left(x^{2} y + y^{2}\\right)}} w_{y,y}-\\frac{1}{y} w_{x}+\\frac{2 \\, x^{2} y^{2} - 2 \\, y^{3} + x^{2}}{2 \\, {\\left(x^{3} y^{2} + x y^{3}\\right)}} w_{y}-\\frac{2 \\, x^{2} y^{2} - 2 \\, y^{3} + x^{2}}{2 \\, {\\left(x^{3} y^{3} + x y^{4}\\right)}} w$"
      ],
      "text/plain": [
       "<IPython.core.display.Math object>"
      ]
     },
     "metadata": {},
     "output_type": "display_data"
    },
    {
     "data": {
      "text/latex": [
       "$\\displaystyle  z_{x,x}-\\frac{1}{4 \\, {\\left(x^{2} + y\\right)}} w_{y,y}+(\\frac{x - y}{2 \\, x y}) w_{x}+(\\frac{2 \\, x^{2} y^{2} - 2 \\, y^{3} + x^{2}}{4 \\, {\\left(x^{4} y + x^{2} y^{2}\\right)}}) w_{y}+(\\frac{2 \\, x^{2} y^{2} - 2 \\, y^{3} + x^{2}}{4 \\, {\\left(x^{4} y^{2} + x^{2} y^{3}\\right)}}) w$"
      ],
      "text/plain": [
       "<IPython.core.display.Math object>"
      ]
     },
     "metadata": {},
     "output_type": "display_data"
    },
    {
     "name": "stdout",
     "output_type": "stream",
     "text": [
      "AAAAAAAAAAAAAAAAAAAAAAAAAAAAAAAAAAAAAAAAAAAAAAAAAAAAAAAAAAAAAAAAAAAAAAAAAAAAAAAAAAAAAAAAAAAAAAAAAAA 2\n"
     ]
    },
    {
     "data": {
      "text/latex": [
       "$\\displaystyle  z_{y}+\\frac{2 \\, {\\left(x^{2} y + y^{2}\\right)}}{x} w_{y}-\\frac{2 \\, {\\left(x^{2} + y\\right)}}{x} w$"
      ],
      "text/plain": [
       "<IPython.core.display.Math object>"
      ]
     },
     "metadata": {},
     "output_type": "display_data"
    },
    {
     "data": {
      "text/latex": [
       "$\\displaystyle  w_{y,y}-\\frac{2 \\, y}{x} z_{x}-\\frac{y^{2} + x}{x y} w_{y}+\\frac{1}{y^{2}} w$"
      ],
      "text/plain": [
       "<IPython.core.display.Math object>"
      ]
     },
     "metadata": {},
     "output_type": "display_data"
    },
    {
     "data": {
      "text/latex": [
       "$\\displaystyle  w_{y,y}+\\frac{2 \\, {\\left(2 \\, x^{2} y^{2} - x^{3} + 2 \\, y^{3} - x y\\right)}}{2 \\, x^{3} y + 2 \\, x y^{2} - x^{2}} w_{x}-\\frac{2 \\, x^{4} y - 4 \\, y^{5} + 2 \\, x y^{3} - x^{3} - 2 \\, {\\left(2 \\, x^{6} + x^{3} - x^{2}\\right)} y^{2}}{2 \\, x^{4} y^{2} + 2 \\, x^{2} y^{3} - x^{3} y} w_{y}+\\frac{2 \\, x^{4} y - 4 \\, y^{5} + 2 \\, x y^{3} - x^{3} - 2 \\, {\\left(2 \\, x^{6} + x^{3} - x^{2}\\right)} y^{2}}{2 \\, x^{4} y^{3} + 2 \\, x^{2} y^{4} - x^{3} y^{2}} w$"
      ],
      "text/plain": [
       "<IPython.core.display.Math object>"
      ]
     },
     "metadata": {},
     "output_type": "display_data"
    },
    {
     "data": {
      "text/latex": [
       "$\\displaystyle  w_{x,y}-\\frac{x}{2 \\, {\\left(x^{2} y + y^{2}\\right)}} w_{y,y}-\\frac{1}{y} w_{x}+\\frac{2 \\, x^{2} y^{2} - 2 \\, y^{3} + x^{2}}{2 \\, {\\left(x^{3} y^{2} + x y^{3}\\right)}} w_{y}-\\frac{2 \\, x^{2} y^{2} - 2 \\, y^{3} + x^{2}}{2 \\, {\\left(x^{3} y^{3} + x y^{4}\\right)}} w$"
      ],
      "text/plain": [
       "<IPython.core.display.Math object>"
      ]
     },
     "metadata": {},
     "output_type": "display_data"
    },
    {
     "data": {
      "text/latex": [
       "$\\displaystyle  z_{x,x}-\\frac{1}{4 \\, {\\left(x^{2} + y\\right)}} w_{y,y}+(\\frac{x - y}{2 \\, x y}) w_{x}+(\\frac{2 \\, x^{2} y^{2} - 2 \\, y^{3} + x^{2}}{4 \\, {\\left(x^{4} y + x^{2} y^{2}\\right)}}) w_{y}+(\\frac{2 \\, x^{2} y^{2} - 2 \\, y^{3} + x^{2}}{4 \\, {\\left(x^{4} y^{2} + x^{2} y^{3}\\right)}}) w$"
      ],
      "text/plain": [
       "<IPython.core.display.Math object>"
      ]
     },
     "metadata": {},
     "output_type": "display_data"
    },
    {
     "name": "stdout",
     "output_type": "stream",
     "text": [
      "AAAAAAAAAAAAAAAAAAAAAAAAAAAAAAAAAAAAAAAAAAAAAAAAAAAAAAAAAAAAAAAAAAAAAAAAAAAAAAAAAAAAAAAAAAAAAAAAAAA 2\n"
     ]
    },
    {
     "data": {
      "text/latex": [
       "$\\displaystyle  z_{y}+\\frac{2 \\, {\\left(x^{2} y + y^{2}\\right)}}{x} w_{y}-\\frac{2 \\, {\\left(x^{2} + y\\right)}}{x} w$"
      ],
      "text/plain": [
       "<IPython.core.display.Math object>"
      ]
     },
     "metadata": {},
     "output_type": "display_data"
    },
    {
     "data": {
      "text/latex": [
       "$\\displaystyle  z_{x}+\\frac{2 \\, x^{2} y^{2} - x^{3} + 2 \\, y^{3} - x y}{2 \\, x^{2} y^{2} + 2 \\, y^{3} - x y} w_{x}+\\frac{4 \\, x^{6} + 2 \\, x^{3} + 2 \\, x y^{2} + 4 \\, y^{3} - x^{2} + 2 \\, {\\left(x^{3} - x\\right)} y}{2 \\, {\\left(2 \\, x^{3} y + 2 \\, x y^{2} - x^{2}\\right)}} w_{y}-\\frac{2 \\, x^{6} + x^{3} + 2 \\, y^{3} - x y}{2 \\, x^{3} y^{2} + 2 \\, x y^{3} - x^{2} y} w$"
      ],
      "text/plain": [
       "<IPython.core.display.Math object>"
      ]
     },
     "metadata": {},
     "output_type": "display_data"
    },
    {
     "data": {
      "text/latex": [
       "$\\displaystyle  w_{y,y}-\\frac{2 \\, y}{x} z_{x}-\\frac{y^{2} + x}{x y} w_{y}+\\frac{1}{y^{2}} w$"
      ],
      "text/plain": [
       "<IPython.core.display.Math object>"
      ]
     },
     "metadata": {},
     "output_type": "display_data"
    },
    {
     "data": {
      "text/latex": [
       "$\\displaystyle  w_{x,y}-\\frac{1}{x^{2} + y} z_{x}+(\\frac{1}{y}) w_{x}+(\\frac{2 \\, x^{2} - x - 2 \\, y}{2 \\, {\\left(x^{3} + x y\\right)}}) w_{y}+(\\frac{x^{2} - y}{x^{3} y + x y^{2}}) w$"
      ],
      "text/plain": [
       "<IPython.core.display.Math object>"
      ]
     },
     "metadata": {},
     "output_type": "display_data"
    },
    {
     "data": {
      "text/latex": [
       "$\\displaystyle  z_{x,x}-\\frac{y}{2 \\, {\\left(x^{3} + x y\\right)}} z_{x}-\\frac{x}{2 \\, {\\left(x^{2} + y\\right)}} w_{x}+(\\frac{{\\left(2 \\, x - 1\\right)} y^{2} - x}{4 \\, {\\left(x^{3} y + x y^{2}\\right)}}) w_{y}+(\\frac{2 \\, y^{2} - 1}{4 \\, {\\left(x^{2} y^{2} + y^{3}\\right)}}) w$"
      ],
      "text/plain": [
       "<IPython.core.display.Math object>"
      ]
     },
     "metadata": {},
     "output_type": "display_data"
    },
    {
     "name": "stdout",
     "output_type": "stream",
     "text": [
      "AAAAAAAAAAAAAAAAAAAAAAAAAAAAAAAAAAAAAAAAAAAAAAAAAAAAAAAAAAAAAAAAAAAAAAAAAAAAAAAAAAAAAAAAAAAAAAAAAAA 3\n"
     ]
    },
    {
     "data": {
      "text/latex": [
       "$\\displaystyle  z_{y}+\\frac{2 \\, {\\left(x^{2} y + y^{2}\\right)}}{x} w_{y}-\\frac{2 \\, {\\left(x^{2} + y\\right)}}{x} w$"
      ],
      "text/plain": [
       "<IPython.core.display.Math object>"
      ]
     },
     "metadata": {},
     "output_type": "display_data"
    },
    {
     "data": {
      "text/latex": [
       "$\\displaystyle  z_{x}+\\frac{2 \\, x^{2} y^{2} - x^{3} + 2 \\, y^{3} - x y}{2 \\, x^{2} y^{2} + 2 \\, y^{3} - x y} w_{x}+\\frac{4 \\, x^{6} + 2 \\, x^{3} + 2 \\, x y^{2} + 4 \\, y^{3} - x^{2} + 2 \\, {\\left(x^{3} - x\\right)} y}{2 \\, {\\left(2 \\, x^{3} y + 2 \\, x y^{2} - x^{2}\\right)}} w_{y}-\\frac{2 \\, x^{6} + x^{3} + 2 \\, y^{3} - x y}{2 \\, x^{3} y^{2} + 2 \\, x y^{3} - x^{2} y} w$"
      ],
      "text/plain": [
       "<IPython.core.display.Math object>"
      ]
     },
     "metadata": {},
     "output_type": "display_data"
    },
    {
     "data": {
      "text/latex": [
       "$\\displaystyle  w_{y,y}-\\frac{2 \\, y}{x} z_{x}-\\frac{y^{2} + x}{x y} w_{y}+\\frac{1}{y^{2}} w$"
      ],
      "text/plain": [
       "<IPython.core.display.Math object>"
      ]
     },
     "metadata": {},
     "output_type": "display_data"
    },
    {
     "data": {
      "text/latex": [
       "$\\displaystyle  w_{x,y}-\\frac{1}{x^{2} + y} z_{x}+(\\frac{1}{y}) w_{x}+(\\frac{2 \\, x^{2} - x - 2 \\, y}{2 \\, {\\left(x^{3} + x y\\right)}}) w_{y}+(\\frac{x^{2} - y}{x^{3} y + x y^{2}}) w$"
      ],
      "text/plain": [
       "<IPython.core.display.Math object>"
      ]
     },
     "metadata": {},
     "output_type": "display_data"
    },
    {
     "data": {
      "text/latex": [
       "$\\displaystyle  z_{x,x}-\\frac{y}{2 \\, {\\left(x^{3} + x y\\right)}} z_{x}-\\frac{x}{2 \\, {\\left(x^{2} + y\\right)}} w_{x}+(\\frac{{\\left(2 \\, x - 1\\right)} y^{2} - x}{4 \\, {\\left(x^{3} y + x y^{2}\\right)}}) w_{y}+(\\frac{2 \\, y^{2} - 1}{4 \\, {\\left(x^{2} y^{2} + y^{3}\\right)}}) w$"
      ],
      "text/plain": [
       "<IPython.core.display.Math object>"
      ]
     },
     "metadata": {},
     "output_type": "display_data"
    },
    {
     "name": "stdout",
     "output_type": "stream",
     "text": [
      "AAAAAAAAAAAAAAAAAAAAAAAAAAAAAAAAAAAAAAAAAAAAAAAAAAAAAAAAAAAAAAAAAAAAAAAAAAAAAAAAAAAAAAAAAAAAAAAAAAA 3\n"
     ]
    },
    {
     "data": {
      "text/latex": [
       "$\\displaystyle  z_{y}+\\frac{2 \\, {\\left(x^{2} y + y^{2}\\right)}}{x} w_{y}-\\frac{2 \\, {\\left(x^{2} + y\\right)}}{x} w$"
      ],
      "text/plain": [
       "<IPython.core.display.Math object>"
      ]
     },
     "metadata": {},
     "output_type": "display_data"
    },
    {
     "data": {
      "text/latex": [
       "$\\displaystyle  z_{x}+\\frac{2 \\, x^{2} y^{2} - x^{3} + 2 \\, y^{3} - x y}{2 \\, x^{2} y^{2} + 2 \\, y^{3} - x y} w_{x}+\\frac{4 \\, x^{6} + 2 \\, x^{3} + 2 \\, x y^{2} + 4 \\, y^{3} - x^{2} + 2 \\, {\\left(x^{3} - x\\right)} y}{2 \\, {\\left(2 \\, x^{3} y + 2 \\, x y^{2} - x^{2}\\right)}} w_{y}-\\frac{2 \\, x^{6} + x^{3} + 2 \\, y^{3} - x y}{2 \\, x^{3} y^{2} + 2 \\, x y^{3} - x^{2} y} w$"
      ],
      "text/plain": [
       "<IPython.core.display.Math object>"
      ]
     },
     "metadata": {},
     "output_type": "display_data"
    },
    {
     "data": {
      "text/latex": [
       "$\\displaystyle  w_{y,y}+(\\frac{2 \\, {\\left(2 \\, x^{2} y^{2} - x^{3} + 2 \\, y^{3} - x y\\right)}}{2 \\, x^{3} y + 2 \\, x y^{2} - x^{2}}) w_{x}+(\\frac{2 \\, x^{4} y - 4 \\, y^{5} + 2 \\, x y^{3} - x^{3} - 2 \\, {\\left(2 \\, x^{6} + x^{3} - x^{2}\\right)} y^{2}}{2 \\, x^{4} y^{2} + 2 \\, x^{2} y^{3} - x^{3} y}) w_{y}+(\\frac{2 \\, x^{4} y - 4 \\, y^{5} + 2 \\, x y^{3} - x^{3} - 2 \\, {\\left(2 \\, x^{6} + x^{3} - x^{2}\\right)} y^{2}}{2 \\, x^{4} y^{3} + 2 \\, x^{2} y^{4} - x^{3} y^{2}}) w$"
      ],
      "text/plain": [
       "<IPython.core.display.Math object>"
      ]
     },
     "metadata": {},
     "output_type": "display_data"
    },
    {
     "data": {
      "text/latex": [
       "$\\displaystyle  w_{x,y}+(\\frac{2 \\, x^{4} - 2 \\, y^{2} + x}{4 \\, x^{2} y^{2} - x^{3} + 2 \\, y^{3} + {\\left(2 \\, x^{4} - x\\right)} y}) w_{x}+(\\frac{4 \\, x^{6} + 2 \\, {\\left(2 \\, x^{2} + x\\right)} y^{2} + 4 \\, y^{3} - x^{2} + 2 \\, {\\left(2 \\, x^{4} + x^{3} - x\\right)} y}{2 \\, {\\left(4 \\, x^{3} y^{2} - x^{4} + 2 \\, x y^{3} + {\\left(2 \\, x^{5} - x^{2}\\right)} y\\right)}}) w_{y}+(\\frac{2 \\, x^{6} + 2 \\, x^{2} y^{2} + 2 \\, y^{3} + {\\left(2 \\, x^{4} - x\\right)} y}{4 \\, x^{3} y^{3} - x^{4} y + 2 \\, x y^{4} + {\\left(2 \\, x^{5} - x^{2}\\right)} y^{2}}) w$"
      ],
      "text/plain": [
       "<IPython.core.display.Math object>"
      ]
     },
     "metadata": {},
     "output_type": "display_data"
    },
    {
     "data": {
      "text/latex": [
       "$\\displaystyle  w_{x,x}+(\\frac{2 \\, x y^{3} + 4 \\, y^{4} + 2 \\, {\\left(x^{3} - x\\right)} y^{2} + {\\left(4 \\, x^{6} + 2 \\, x^{3} - x^{2}\\right)} y}{2 \\, {\\left(2 \\, x^{3} y^{2} - x^{4} + 2 \\, x y^{3} - x^{2} y\\right)}}) w_{x,y}+(\\frac{4 \\, x^{9} - 20 \\, x^{2} y^{5} + 6 \\, x^{6} - 12 \\, y^{6} - 4 \\, {\\left(x^{4} - 3 \\, x\\right)} y^{4} - 2 \\, {\\left(2 \\, x^{6} + x^{3}\\right)} y^{3} - {\\left(16 \\, x^{8} + 22 \\, x^{5} + 3 \\, x^{2}\\right)} y^{2} - 4 \\, {\\left(2 \\, x^{10} + x^{7} - x^{4}\\right)} y}{2 \\, {\\left(12 \\, x^{3} y^{5} + x^{7} + 4 \\, x y^{6} + 4 \\, {\\left(3 \\, x^{5} - x^{2}\\right)} y^{4} + 2 \\, {\\left(2 \\, x^{7} - 5 \\, x^{4}\\right)} y^{3} - {\\left(8 \\, x^{6} - x^{3}\\right)} y^{2} - 2 \\, {\\left(x^{8} - x^{5}\\right)} y\\right)}}) w_{x}+(\\frac{4 \\, {\\left(20 \\, x^{2} + x\\right)} y^{6} + 24 \\, y^{7} + 8 \\, {\\left(8 \\, x^{4} + x^{3} - 3 \\, x\\right)} y^{5} - 4 \\, {\\left(16 \\, x^{6} - x^{5} + 14 \\, x^{3} + x^{2}\\right)} y^{4} - 2 \\, {\\left(60 \\, x^{8} + 18 \\, x^{5} + 2 \\, x^{4} - 3 \\, x^{2}\\right)} y^{3} - {\\left(48 \\, x^{10} - 28 \\, x^{7} - 8 \\, x^{4} - x^{3}\\right)} y^{2} + 4 \\, {\\left(8 \\, x^{9} + x^{6}\\right)} y}{4 \\, {\\left(12 \\, x^{4} y^{5} + x^{8} + 4 \\, x^{2} y^{6} + 4 \\, {\\left(3 \\, x^{6} - x^{3}\\right)} y^{4} + 2 \\, {\\left(2 \\, x^{8} - 5 \\, x^{5}\\right)} y^{3} - {\\left(8 \\, x^{7} - x^{4}\\right)} y^{2} - 2 \\, {\\left(x^{9} - x^{6}\\right)} y\\right)}}) w_{y}+(\\frac{16 \\, x^{9} + 40 \\, x^{2} y^{5} + 2 \\, x^{6} + 12 \\, y^{6} + 4 \\, {\\left(8 \\, x^{4} - 3 \\, x\\right)} y^{4} - 4 \\, {\\left(8 \\, x^{6} + 7 \\, x^{3}\\right)} y^{3} - 3 \\, {\\left(20 \\, x^{8} + 6 \\, x^{5} - x^{2}\\right)} y^{2} - 2 \\, {\\left(12 \\, x^{10} - 7 \\, x^{7} - 2 \\, x^{4}\\right)} y}{2 \\, {\\left(12 \\, x^{4} y^{5} + x^{8} + 4 \\, x^{2} y^{6} + 4 \\, {\\left(3 \\, x^{6} - x^{3}\\right)} y^{4} + 2 \\, {\\left(2 \\, x^{8} - 5 \\, x^{5}\\right)} y^{3} - {\\left(8 \\, x^{7} - x^{4}\\right)} y^{2} - 2 \\, {\\left(x^{9} - x^{6}\\right)} y\\right)}}) w$"
      ],
      "text/plain": [
       "<IPython.core.display.Math object>"
      ]
     },
     "metadata": {},
     "output_type": "display_data"
    },
    {
     "name": "stdout",
     "output_type": "stream",
     "text": [
      "AAAAAAAAAAAAAAAAAAAAAAAAAAAAAAAAAAAAAAAAAAAAAAAAAAAAAAAAAAAAAAAAAAAAAAAAAAAAAAAAAAAAAAAAAAAAAAAAAAA 4\n"
     ]
    },
    {
     "data": {
      "text/latex": [
       "$\\displaystyle  z_{y}+\\frac{2 \\, {\\left(x^{2} y + y^{2}\\right)}}{x} w_{y}-\\frac{2 \\, {\\left(x^{2} + y\\right)}}{x} w$"
      ],
      "text/plain": [
       "<IPython.core.display.Math object>"
      ]
     },
     "metadata": {},
     "output_type": "display_data"
    },
    {
     "data": {
      "text/latex": [
       "$\\displaystyle  z_{x}+\\frac{2 \\, x^{2} y^{2} - x^{3} + 2 \\, y^{3} - x y}{2 \\, x^{2} y^{2} + 2 \\, y^{3} - x y} w_{x}+\\frac{4 \\, x^{6} + 2 \\, x^{3} + 2 \\, x y^{2} + 4 \\, y^{3} - x^{2} + 2 \\, {\\left(x^{3} - x\\right)} y}{2 \\, {\\left(2 \\, x^{3} y + 2 \\, x y^{2} - x^{2}\\right)}} w_{y}-\\frac{2 \\, x^{6} + x^{3} + 2 \\, y^{3} - x y}{2 \\, x^{3} y^{2} + 2 \\, x y^{3} - x^{2} y} w$"
      ],
      "text/plain": [
       "<IPython.core.display.Math object>"
      ]
     },
     "metadata": {},
     "output_type": "display_data"
    },
    {
     "data": {
      "text/latex": [
       "$\\displaystyle  w_{y,y}+(\\frac{2 \\, {\\left(2 \\, x^{2} y^{2} - x^{3} + 2 \\, y^{3} - x y\\right)}}{2 \\, x^{3} y + 2 \\, x y^{2} - x^{2}}) w_{x}+(\\frac{2 \\, x^{4} y - 4 \\, y^{5} + 2 \\, x y^{3} - x^{3} - 2 \\, {\\left(2 \\, x^{6} + x^{3} - x^{2}\\right)} y^{2}}{2 \\, x^{4} y^{2} + 2 \\, x^{2} y^{3} - x^{3} y}) w_{y}+(\\frac{2 \\, x^{4} y - 4 \\, y^{5} + 2 \\, x y^{3} - x^{3} - 2 \\, {\\left(2 \\, x^{6} + x^{3} - x^{2}\\right)} y^{2}}{2 \\, x^{4} y^{3} + 2 \\, x^{2} y^{4} - x^{3} y^{2}}) w$"
      ],
      "text/plain": [
       "<IPython.core.display.Math object>"
      ]
     },
     "metadata": {},
     "output_type": "display_data"
    },
    {
     "data": {
      "text/latex": [
       "$\\displaystyle  w_{x,y}+(\\frac{2 \\, x^{4} - 2 \\, y^{2} + x}{4 \\, x^{2} y^{2} - x^{3} + 2 \\, y^{3} + {\\left(2 \\, x^{4} - x\\right)} y}) w_{x}+(\\frac{4 \\, x^{6} + 2 \\, {\\left(2 \\, x^{2} + x\\right)} y^{2} + 4 \\, y^{3} - x^{2} + 2 \\, {\\left(2 \\, x^{4} + x^{3} - x\\right)} y}{2 \\, {\\left(4 \\, x^{3} y^{2} - x^{4} + 2 \\, x y^{3} + {\\left(2 \\, x^{5} - x^{2}\\right)} y\\right)}}) w_{y}+(\\frac{2 \\, x^{6} + 2 \\, x^{2} y^{2} + 2 \\, y^{3} + {\\left(2 \\, x^{4} - x\\right)} y}{4 \\, x^{3} y^{3} - x^{4} y + 2 \\, x y^{4} + {\\left(2 \\, x^{5} - x^{2}\\right)} y^{2}}) w$"
      ],
      "text/plain": [
       "<IPython.core.display.Math object>"
      ]
     },
     "metadata": {},
     "output_type": "display_data"
    },
    {
     "data": {
      "text/latex": [
       "$\\displaystyle  w_{x,x}+(\\frac{2 \\, x y^{3} + 4 \\, y^{4} + 2 \\, {\\left(x^{3} - x\\right)} y^{2} + {\\left(4 \\, x^{6} + 2 \\, x^{3} - x^{2}\\right)} y}{2 \\, {\\left(2 \\, x^{3} y^{2} - x^{4} + 2 \\, x y^{3} - x^{2} y\\right)}}) w_{x,y}+(\\frac{4 \\, x^{9} - 20 \\, x^{2} y^{5} + 6 \\, x^{6} - 12 \\, y^{6} - 4 \\, {\\left(x^{4} - 3 \\, x\\right)} y^{4} - 2 \\, {\\left(2 \\, x^{6} + x^{3}\\right)} y^{3} - {\\left(16 \\, x^{8} + 22 \\, x^{5} + 3 \\, x^{2}\\right)} y^{2} - 4 \\, {\\left(2 \\, x^{10} + x^{7} - x^{4}\\right)} y}{2 \\, {\\left(12 \\, x^{3} y^{5} + x^{7} + 4 \\, x y^{6} + 4 \\, {\\left(3 \\, x^{5} - x^{2}\\right)} y^{4} + 2 \\, {\\left(2 \\, x^{7} - 5 \\, x^{4}\\right)} y^{3} - {\\left(8 \\, x^{6} - x^{3}\\right)} y^{2} - 2 \\, {\\left(x^{8} - x^{5}\\right)} y\\right)}}) w_{x}+(\\frac{4 \\, {\\left(20 \\, x^{2} + x\\right)} y^{6} + 24 \\, y^{7} + 8 \\, {\\left(8 \\, x^{4} + x^{3} - 3 \\, x\\right)} y^{5} - 4 \\, {\\left(16 \\, x^{6} - x^{5} + 14 \\, x^{3} + x^{2}\\right)} y^{4} - 2 \\, {\\left(60 \\, x^{8} + 18 \\, x^{5} + 2 \\, x^{4} - 3 \\, x^{2}\\right)} y^{3} - {\\left(48 \\, x^{10} - 28 \\, x^{7} - 8 \\, x^{4} - x^{3}\\right)} y^{2} + 4 \\, {\\left(8 \\, x^{9} + x^{6}\\right)} y}{4 \\, {\\left(12 \\, x^{4} y^{5} + x^{8} + 4 \\, x^{2} y^{6} + 4 \\, {\\left(3 \\, x^{6} - x^{3}\\right)} y^{4} + 2 \\, {\\left(2 \\, x^{8} - 5 \\, x^{5}\\right)} y^{3} - {\\left(8 \\, x^{7} - x^{4}\\right)} y^{2} - 2 \\, {\\left(x^{9} - x^{6}\\right)} y\\right)}}) w_{y}+(\\frac{16 \\, x^{9} + 40 \\, x^{2} y^{5} + 2 \\, x^{6} + 12 \\, y^{6} + 4 \\, {\\left(8 \\, x^{4} - 3 \\, x\\right)} y^{4} - 4 \\, {\\left(8 \\, x^{6} + 7 \\, x^{3}\\right)} y^{3} - 3 \\, {\\left(20 \\, x^{8} + 6 \\, x^{5} - x^{2}\\right)} y^{2} - 2 \\, {\\left(12 \\, x^{10} - 7 \\, x^{7} - 2 \\, x^{4}\\right)} y}{2 \\, {\\left(12 \\, x^{4} y^{5} + x^{8} + 4 \\, x^{2} y^{6} + 4 \\, {\\left(3 \\, x^{6} - x^{3}\\right)} y^{4} + 2 \\, {\\left(2 \\, x^{8} - 5 \\, x^{5}\\right)} y^{3} - {\\left(8 \\, x^{7} - x^{4}\\right)} y^{2} - 2 \\, {\\left(x^{9} - x^{6}\\right)} y\\right)}}) w$"
      ],
      "text/plain": [
       "<IPython.core.display.Math object>"
      ]
     },
     "metadata": {},
     "output_type": "display_data"
    },
    {
     "name": "stdout",
     "output_type": "stream",
     "text": [
      "AAAAAAAAAAAAAAAAAAAAAAAAAAAAAAAAAAAAAAAAAAAAAAAAAAAAAAAAAAAAAAAAAAAAAAAAAAAAAAAAAAAAAAAAAAAAAAAAAAA 4\n"
     ]
    },
    {
     "data": {
      "text/latex": [
       "$\\displaystyle  z_{y}+\\frac{2 \\, {\\left(x^{2} y + y^{2}\\right)}}{x} w_{y}-\\frac{2 \\, {\\left(x^{2} + y\\right)}}{x} w$"
      ],
      "text/plain": [
       "<IPython.core.display.Math object>"
      ]
     },
     "metadata": {},
     "output_type": "display_data"
    },
    {
     "data": {
      "text/latex": [
       "$\\displaystyle  z_{x}+\\frac{2 \\, x^{2} y^{2} - x^{3} + 2 \\, y^{3} - x y}{2 \\, x^{2} y^{2} + 2 \\, y^{3} - x y} w_{x}+\\frac{4 \\, x^{6} + 2 \\, x^{3} + 2 \\, x y^{2} + 4 \\, y^{3} - x^{2} + 2 \\, {\\left(x^{3} - x\\right)} y}{2 \\, {\\left(2 \\, x^{3} y + 2 \\, x y^{2} - x^{2}\\right)}} w_{y}-\\frac{2 \\, x^{6} + x^{3} + 2 \\, y^{3} - x y}{2 \\, x^{3} y^{2} + 2 \\, x y^{3} - x^{2} y} w$"
      ],
      "text/plain": [
       "<IPython.core.display.Math object>"
      ]
     },
     "metadata": {},
     "output_type": "display_data"
    },
    {
     "data": {
      "text/latex": [
       "$\\displaystyle  w_{y,y}+(\\frac{2 \\, {\\left(2 \\, x^{2} y^{2} - x^{3} + 2 \\, y^{3} - x y\\right)}}{2 \\, x^{3} y + 2 \\, x y^{2} - x^{2}}) w_{x}+(\\frac{2 \\, x^{4} y - 4 \\, y^{5} + 2 \\, x y^{3} - x^{3} - 2 \\, {\\left(2 \\, x^{6} + x^{3} - x^{2}\\right)} y^{2}}{2 \\, x^{4} y^{2} + 2 \\, x^{2} y^{3} - x^{3} y}) w_{y}+(\\frac{2 \\, x^{4} y - 4 \\, y^{5} + 2 \\, x y^{3} - x^{3} - 2 \\, {\\left(2 \\, x^{6} + x^{3} - x^{2}\\right)} y^{2}}{2 \\, x^{4} y^{3} + 2 \\, x^{2} y^{4} - x^{3} y^{2}}) w$"
      ],
      "text/plain": [
       "<IPython.core.display.Math object>"
      ]
     },
     "metadata": {},
     "output_type": "display_data"
    },
    {
     "data": {
      "text/latex": [
       "$\\displaystyle  w_{x,y}+(\\frac{2 \\, x^{4} - 2 \\, y^{2} + x}{4 \\, x^{2} y^{2} - x^{3} + 2 \\, y^{3} + {\\left(2 \\, x^{4} - x\\right)} y}) w_{x}+(\\frac{4 \\, x^{6} + 2 \\, {\\left(2 \\, x^{2} + x\\right)} y^{2} + 4 \\, y^{3} - x^{2} + 2 \\, {\\left(2 \\, x^{4} + x^{3} - x\\right)} y}{2 \\, {\\left(4 \\, x^{3} y^{2} - x^{4} + 2 \\, x y^{3} + {\\left(2 \\, x^{5} - x^{2}\\right)} y\\right)}}) w_{y}+(\\frac{2 \\, x^{6} + 2 \\, x^{2} y^{2} + 2 \\, y^{3} + {\\left(2 \\, x^{4} - x\\right)} y}{4 \\, x^{3} y^{3} - x^{4} y + 2 \\, x y^{4} + {\\left(2 \\, x^{5} - x^{2}\\right)} y^{2}}) w$"
      ],
      "text/plain": [
       "<IPython.core.display.Math object>"
      ]
     },
     "metadata": {},
     "output_type": "display_data"
    },
    {
     "data": {
      "text/latex": [
       "$\\displaystyle  w_{x,x}+(\\frac{2 \\, x y^{3} + 4 \\, y^{4} + 2 \\, {\\left(x^{3} - x\\right)} y^{2} + {\\left(4 \\, x^{6} + 2 \\, x^{3} - x^{2}\\right)} y}{2 \\, {\\left(2 \\, x^{3} y^{2} - x^{4} + 2 \\, x y^{3} - x^{2} y\\right)}}) w_{x,y}+(\\frac{4 \\, x^{9} - 20 \\, x^{2} y^{5} + 6 \\, x^{6} - 12 \\, y^{6} - 4 \\, {\\left(x^{4} - 3 \\, x\\right)} y^{4} - 2 \\, {\\left(2 \\, x^{6} + x^{3}\\right)} y^{3} - {\\left(16 \\, x^{8} + 22 \\, x^{5} + 3 \\, x^{2}\\right)} y^{2} - 4 \\, {\\left(2 \\, x^{10} + x^{7} - x^{4}\\right)} y}{2 \\, {\\left(12 \\, x^{3} y^{5} + x^{7} + 4 \\, x y^{6} + 4 \\, {\\left(3 \\, x^{5} - x^{2}\\right)} y^{4} + 2 \\, {\\left(2 \\, x^{7} - 5 \\, x^{4}\\right)} y^{3} - {\\left(8 \\, x^{6} - x^{3}\\right)} y^{2} - 2 \\, {\\left(x^{8} - x^{5}\\right)} y\\right)}}) w_{x}+(\\frac{4 \\, {\\left(20 \\, x^{2} + x\\right)} y^{6} + 24 \\, y^{7} + 8 \\, {\\left(8 \\, x^{4} + x^{3} - 3 \\, x\\right)} y^{5} - 4 \\, {\\left(16 \\, x^{6} - x^{5} + 14 \\, x^{3} + x^{2}\\right)} y^{4} - 2 \\, {\\left(60 \\, x^{8} + 18 \\, x^{5} + 2 \\, x^{4} - 3 \\, x^{2}\\right)} y^{3} - {\\left(48 \\, x^{10} - 28 \\, x^{7} - 8 \\, x^{4} - x^{3}\\right)} y^{2} + 4 \\, {\\left(8 \\, x^{9} + x^{6}\\right)} y}{4 \\, {\\left(12 \\, x^{4} y^{5} + x^{8} + 4 \\, x^{2} y^{6} + 4 \\, {\\left(3 \\, x^{6} - x^{3}\\right)} y^{4} + 2 \\, {\\left(2 \\, x^{8} - 5 \\, x^{5}\\right)} y^{3} - {\\left(8 \\, x^{7} - x^{4}\\right)} y^{2} - 2 \\, {\\left(x^{9} - x^{6}\\right)} y\\right)}}) w_{y}+(\\frac{16 \\, x^{9} + 40 \\, x^{2} y^{5} + 2 \\, x^{6} + 12 \\, y^{6} + 4 \\, {\\left(8 \\, x^{4} - 3 \\, x\\right)} y^{4} - 4 \\, {\\left(8 \\, x^{6} + 7 \\, x^{3}\\right)} y^{3} - 3 \\, {\\left(20 \\, x^{8} + 6 \\, x^{5} - x^{2}\\right)} y^{2} - 2 \\, {\\left(12 \\, x^{10} - 7 \\, x^{7} - 2 \\, x^{4}\\right)} y}{2 \\, {\\left(12 \\, x^{4} y^{5} + x^{8} + 4 \\, x^{2} y^{6} + 4 \\, {\\left(3 \\, x^{6} - x^{3}\\right)} y^{4} + 2 \\, {\\left(2 \\, x^{8} - 5 \\, x^{5}\\right)} y^{3} - {\\left(8 \\, x^{7} - x^{4}\\right)} y^{2} - 2 \\, {\\left(x^{9} - x^{6}\\right)} y\\right)}}) w$"
      ],
      "text/plain": [
       "<IPython.core.display.Math object>"
      ]
     },
     "metadata": {},
     "output_type": "display_data"
    },
    {
     "name": "stdout",
     "output_type": "stream",
     "text": [
      "AAAAAAAAAAAAAAAAAAAAAAAAAAAAAAAAAAAAAAAAAAAAAAAAAAAAAAAAAAAAAAAAAAAAAAAAAAAAAAAAAAAAAAAAAAAAAAAAAAA 4\n"
     ]
    },
    {
     "data": {
      "text/latex": [
       "$\\displaystyle  z_{y}+\\frac{2 \\, {\\left(x^{2} y + y^{2}\\right)}}{x} w_{y}-\\frac{2 \\, {\\left(x^{2} + y\\right)}}{x} w$"
      ],
      "text/plain": [
       "<IPython.core.display.Math object>"
      ]
     },
     "metadata": {},
     "output_type": "display_data"
    },
    {
     "data": {
      "text/latex": [
       "$\\displaystyle  z_{x}+\\frac{2 \\, x^{2} y^{2} - x^{3} + 2 \\, y^{3} - x y}{2 \\, x^{2} y^{2} + 2 \\, y^{3} - x y} w_{x}+\\frac{4 \\, x^{6} + 2 \\, x^{3} + 2 \\, x y^{2} + 4 \\, y^{3} - x^{2} + 2 \\, {\\left(x^{3} - x\\right)} y}{2 \\, {\\left(2 \\, x^{3} y + 2 \\, x y^{2} - x^{2}\\right)}} w_{y}-\\frac{2 \\, x^{6} + x^{3} + 2 \\, y^{3} - x y}{2 \\, x^{3} y^{2} + 2 \\, x y^{3} - x^{2} y} w$"
      ],
      "text/plain": [
       "<IPython.core.display.Math object>"
      ]
     },
     "metadata": {},
     "output_type": "display_data"
    },
    {
     "data": {
      "text/latex": [
       "$\\displaystyle  w_{y,y}+(\\frac{2 \\, {\\left(2 \\, x^{2} y^{2} - x^{3} + 2 \\, y^{3} - x y\\right)}}{2 \\, x^{3} y + 2 \\, x y^{2} - x^{2}}) w_{x}+(\\frac{2 \\, x^{4} y - 4 \\, y^{5} + 2 \\, x y^{3} - x^{3} - 2 \\, {\\left(2 \\, x^{6} + x^{3} - x^{2}\\right)} y^{2}}{2 \\, x^{4} y^{2} + 2 \\, x^{2} y^{3} - x^{3} y}) w_{y}+(\\frac{2 \\, x^{4} y - 4 \\, y^{5} + 2 \\, x y^{3} - x^{3} - 2 \\, {\\left(2 \\, x^{6} + x^{3} - x^{2}\\right)} y^{2}}{2 \\, x^{4} y^{3} + 2 \\, x^{2} y^{4} - x^{3} y^{2}}) w$"
      ],
      "text/plain": [
       "<IPython.core.display.Math object>"
      ]
     },
     "metadata": {},
     "output_type": "display_data"
    },
    {
     "data": {
      "text/latex": [
       "$\\displaystyle  w_{x,y}+(\\frac{2 \\, x^{4} - 2 \\, y^{2} + x}{4 \\, x^{2} y^{2} - x^{3} + 2 \\, y^{3} + {\\left(2 \\, x^{4} - x\\right)} y}) w_{x}+(\\frac{4 \\, x^{6} + 2 \\, {\\left(2 \\, x^{2} + x\\right)} y^{2} + 4 \\, y^{3} - x^{2} + 2 \\, {\\left(2 \\, x^{4} + x^{3} - x\\right)} y}{2 \\, {\\left(4 \\, x^{3} y^{2} - x^{4} + 2 \\, x y^{3} + {\\left(2 \\, x^{5} - x^{2}\\right)} y\\right)}}) w_{y}+(\\frac{2 \\, x^{6} + 2 \\, x^{2} y^{2} + 2 \\, y^{3} + {\\left(2 \\, x^{4} - x\\right)} y}{4 \\, x^{3} y^{3} - x^{4} y + 2 \\, x y^{4} + {\\left(2 \\, x^{5} - x^{2}\\right)} y^{2}}) w$"
      ],
      "text/plain": [
       "<IPython.core.display.Math object>"
      ]
     },
     "metadata": {},
     "output_type": "display_data"
    },
    {
     "data": {
      "text/latex": [
       "$\\displaystyle  w_{x,x}+(\\frac{2 \\, x y^{3} + 4 \\, y^{4} + 2 \\, {\\left(x^{3} - x\\right)} y^{2} + {\\left(4 \\, x^{6} + 2 \\, x^{3} - x^{2}\\right)} y}{2 \\, {\\left(2 \\, x^{3} y^{2} - x^{4} + 2 \\, x y^{3} - x^{2} y\\right)}}) w_{x,y}+(\\frac{4 \\, x^{9} - 20 \\, x^{2} y^{5} + 6 \\, x^{6} - 12 \\, y^{6} - 4 \\, {\\left(x^{4} - 3 \\, x\\right)} y^{4} - 2 \\, {\\left(2 \\, x^{6} + x^{3}\\right)} y^{3} - {\\left(16 \\, x^{8} + 22 \\, x^{5} + 3 \\, x^{2}\\right)} y^{2} - 4 \\, {\\left(2 \\, x^{10} + x^{7} - x^{4}\\right)} y}{2 \\, {\\left(12 \\, x^{3} y^{5} + x^{7} + 4 \\, x y^{6} + 4 \\, {\\left(3 \\, x^{5} - x^{2}\\right)} y^{4} + 2 \\, {\\left(2 \\, x^{7} - 5 \\, x^{4}\\right)} y^{3} - {\\left(8 \\, x^{6} - x^{3}\\right)} y^{2} - 2 \\, {\\left(x^{8} - x^{5}\\right)} y\\right)}}) w_{x}+(\\frac{4 \\, {\\left(20 \\, x^{2} + x\\right)} y^{6} + 24 \\, y^{7} + 8 \\, {\\left(8 \\, x^{4} + x^{3} - 3 \\, x\\right)} y^{5} - 4 \\, {\\left(16 \\, x^{6} - x^{5} + 14 \\, x^{3} + x^{2}\\right)} y^{4} - 2 \\, {\\left(60 \\, x^{8} + 18 \\, x^{5} + 2 \\, x^{4} - 3 \\, x^{2}\\right)} y^{3} - {\\left(48 \\, x^{10} - 28 \\, x^{7} - 8 \\, x^{4} - x^{3}\\right)} y^{2} + 4 \\, {\\left(8 \\, x^{9} + x^{6}\\right)} y}{4 \\, {\\left(12 \\, x^{4} y^{5} + x^{8} + 4 \\, x^{2} y^{6} + 4 \\, {\\left(3 \\, x^{6} - x^{3}\\right)} y^{4} + 2 \\, {\\left(2 \\, x^{8} - 5 \\, x^{5}\\right)} y^{3} - {\\left(8 \\, x^{7} - x^{4}\\right)} y^{2} - 2 \\, {\\left(x^{9} - x^{6}\\right)} y\\right)}}) w_{y}+(\\frac{16 \\, x^{9} + 40 \\, x^{2} y^{5} + 2 \\, x^{6} + 12 \\, y^{6} + 4 \\, {\\left(8 \\, x^{4} - 3 \\, x\\right)} y^{4} - 4 \\, {\\left(8 \\, x^{6} + 7 \\, x^{3}\\right)} y^{3} - 3 \\, {\\left(20 \\, x^{8} + 6 \\, x^{5} - x^{2}\\right)} y^{2} - 2 \\, {\\left(12 \\, x^{10} - 7 \\, x^{7} - 2 \\, x^{4}\\right)} y}{2 \\, {\\left(12 \\, x^{4} y^{5} + x^{8} + 4 \\, x^{2} y^{6} + 4 \\, {\\left(3 \\, x^{6} - x^{3}\\right)} y^{4} + 2 \\, {\\left(2 \\, x^{8} - 5 \\, x^{5}\\right)} y^{3} - {\\left(8 \\, x^{7} - x^{4}\\right)} y^{2} - 2 \\, {\\left(x^{9} - x^{6}\\right)} y\\right)}}) w$"
      ],
      "text/plain": [
       "<IPython.core.display.Math object>"
      ]
     },
     "metadata": {},
     "output_type": "display_data"
    },
    {
     "name": "stdout",
     "output_type": "stream",
     "text": [
      "AAAAAAAAAAAAAAAAAAAAAAAAAAAAAAAAAAAAAAAAAAAAAAAAAAAAAAAAAAAAAAAAAAAAAAAAAAAAAAAAAAAAAAAAAAAAAAAAAAA 4\n"
     ]
    },
    {
     "data": {
      "text/latex": [
       "$\\displaystyle  z_{y}+\\frac{2 \\, {\\left(x^{2} y + y^{2}\\right)}}{x} w_{y}-\\frac{2 \\, {\\left(x^{2} + y\\right)}}{x} w$"
      ],
      "text/plain": [
       "<IPython.core.display.Math object>"
      ]
     },
     "metadata": {},
     "output_type": "display_data"
    },
    {
     "data": {
      "text/latex": [
       "$\\displaystyle  z_{x}+\\frac{2 \\, x^{2} y^{2} - x^{3} + 2 \\, y^{3} - x y}{2 \\, x^{2} y^{2} + 2 \\, y^{3} - x y} w_{x}+\\frac{4 \\, x^{6} + 2 \\, x^{3} + 2 \\, x y^{2} + 4 \\, y^{3} - x^{2} + 2 \\, {\\left(x^{3} - x\\right)} y}{2 \\, {\\left(2 \\, x^{3} y + 2 \\, x y^{2} - x^{2}\\right)}} w_{y}-\\frac{2 \\, x^{6} + x^{3} + 2 \\, y^{3} - x y}{2 \\, x^{3} y^{2} + 2 \\, x y^{3} - x^{2} y} w$"
      ],
      "text/plain": [
       "<IPython.core.display.Math object>"
      ]
     },
     "metadata": {},
     "output_type": "display_data"
    },
    {
     "data": {
      "text/latex": [
       "$\\displaystyle  w_{y,y}+(\\frac{2 \\, {\\left(2 \\, x^{2} y^{2} - x^{3} + 2 \\, y^{3} - x y\\right)}}{2 \\, x^{3} y + 2 \\, x y^{2} - x^{2}}) w_{x}+(\\frac{2 \\, x^{4} y - 4 \\, y^{5} + 2 \\, x y^{3} - x^{3} - 2 \\, {\\left(2 \\, x^{6} + x^{3} - x^{2}\\right)} y^{2}}{2 \\, x^{4} y^{2} + 2 \\, x^{2} y^{3} - x^{3} y}) w_{y}+(\\frac{2 \\, x^{4} y - 4 \\, y^{5} + 2 \\, x y^{3} - x^{3} - 2 \\, {\\left(2 \\, x^{6} + x^{3} - x^{2}\\right)} y^{2}}{2 \\, x^{4} y^{3} + 2 \\, x^{2} y^{4} - x^{3} y^{2}}) w$"
      ],
      "text/plain": [
       "<IPython.core.display.Math object>"
      ]
     },
     "metadata": {},
     "output_type": "display_data"
    },
    {
     "data": {
      "text/latex": [
       "$\\displaystyle  w_{x,y}+(\\frac{2 \\, x^{4} - 2 \\, y^{2} + x}{4 \\, x^{2} y^{2} - x^{3} + 2 \\, y^{3} + {\\left(2 \\, x^{4} - x\\right)} y}) w_{x}+(\\frac{4 \\, x^{6} + 2 \\, {\\left(2 \\, x^{2} + x\\right)} y^{2} + 4 \\, y^{3} - x^{2} + 2 \\, {\\left(2 \\, x^{4} + x^{3} - x\\right)} y}{2 \\, {\\left(4 \\, x^{3} y^{2} - x^{4} + 2 \\, x y^{3} + {\\left(2 \\, x^{5} - x^{2}\\right)} y\\right)}}) w_{y}+(\\frac{2 \\, x^{6} + 2 \\, x^{2} y^{2} + 2 \\, y^{3} + {\\left(2 \\, x^{4} - x\\right)} y}{4 \\, x^{3} y^{3} - x^{4} y + 2 \\, x y^{4} + {\\left(2 \\, x^{5} - x^{2}\\right)} y^{2}}) w$"
      ],
      "text/plain": [
       "<IPython.core.display.Math object>"
      ]
     },
     "metadata": {},
     "output_type": "display_data"
    },
    {
     "data": {
      "text/latex": [
       "$\\displaystyle  w_{x,x}+(\\frac{2 \\, x^{11} + 2 \\, x^{9} y - 2 \\, x^{5} y^{3} - 2 \\, x^{3} y^{4} + x^{4} y^{2}}{x^{9} + 4 \\, x^{7} y - 8 \\, x^{2} y^{5} - 2 \\, y^{6} - {\\left(12 \\, x^{4} - x\\right)} y^{4} - 4 \\, {\\left(2 \\, x^{6} - x^{3}\\right)} y^{3} - 2 \\, {\\left(x^{8} - 3 \\, x^{5}\\right)} y^{2}}) w_{x}+(\\frac{2 \\, {\\left(2 \\, x^{12} y + 2 \\, x^{10} y^{2} - 2 \\, x^{6} y^{4} - 2 \\, x^{4} y^{5} + x^{5} y^{3}\\right)}}{x^{8} + 16 \\, x^{2} y^{6} + 4 \\, y^{7} + 4 \\, {\\left(6 \\, x^{4} - x\\right)} y^{5} + 2 \\, {\\left(8 \\, x^{6} - 7 \\, x^{3}\\right)} y^{4} + {\\left(4 \\, x^{8} - 18 \\, x^{5} + x^{2}\\right)} y^{3} - {\\left(10 \\, x^{7} - 3 \\, x^{4}\\right)} y^{2} - {\\left(2 \\, x^{9} - 3 \\, x^{6}\\right)} y}) w_{y}+(\\frac{2 \\, {\\left(2 \\, x^{12} + 2 \\, x^{10} y - 2 \\, x^{6} y^{3} - 2 \\, x^{4} y^{4} + x^{5} y^{2}\\right)}}{x^{8} + 16 \\, x^{2} y^{6} + 4 \\, y^{7} + 4 \\, {\\left(6 \\, x^{4} - x\\right)} y^{5} + 2 \\, {\\left(8 \\, x^{6} - 7 \\, x^{3}\\right)} y^{4} + {\\left(4 \\, x^{8} - 18 \\, x^{5} + x^{2}\\right)} y^{3} - {\\left(10 \\, x^{7} - 3 \\, x^{4}\\right)} y^{2} - {\\left(2 \\, x^{9} - 3 \\, x^{6}\\right)} y}) w$"
      ],
      "text/plain": [
       "<IPython.core.display.Math object>"
      ]
     },
     "metadata": {},
     "output_type": "display_data"
    },
    {
     "name": "stdout",
     "output_type": "stream",
     "text": [
      "AAAAAAAAAAAAAAAAAAAAAAAAAAAAAAAAAAAAAAAAAAAAAAAAAAAAAAAAAAAAAAAAAAAAAAAAAAAAAAAAAAAAAAAAAAAAAAAAAAA 5\n"
     ]
    },
    {
     "data": {
      "text/latex": [
       "$\\displaystyle  z_{y}+\\frac{2 \\, {\\left(x^{2} y + y^{2}\\right)}}{x} w_{y}-\\frac{2 \\, {\\left(x^{2} + y\\right)}}{x} w$"
      ],
      "text/plain": [
       "<IPython.core.display.Math object>"
      ]
     },
     "metadata": {},
     "output_type": "display_data"
    },
    {
     "data": {
      "text/latex": [
       "$\\displaystyle  z_{x}+\\frac{2 \\, x^{2} y^{2} - x^{3} + 2 \\, y^{3} - x y}{2 \\, x^{2} y^{2} + 2 \\, y^{3} - x y} w_{x}+\\frac{4 \\, x^{6} + 2 \\, x^{3} + 2 \\, x y^{2} + 4 \\, y^{3} - x^{2} + 2 \\, {\\left(x^{3} - x\\right)} y}{2 \\, {\\left(2 \\, x^{3} y + 2 \\, x y^{2} - x^{2}\\right)}} w_{y}-\\frac{2 \\, x^{6} + x^{3} + 2 \\, y^{3} - x y}{2 \\, x^{3} y^{2} + 2 \\, x y^{3} - x^{2} y} w$"
      ],
      "text/plain": [
       "<IPython.core.display.Math object>"
      ]
     },
     "metadata": {},
     "output_type": "display_data"
    },
    {
     "data": {
      "text/latex": [
       "$\\displaystyle  w_{y,y}+(\\frac{2 \\, {\\left(2 \\, x^{2} y^{2} - x^{3} + 2 \\, y^{3} - x y\\right)}}{2 \\, x^{3} y + 2 \\, x y^{2} - x^{2}}) w_{x}+(\\frac{2 \\, x^{4} y - 4 \\, y^{5} + 2 \\, x y^{3} - x^{3} - 2 \\, {\\left(2 \\, x^{6} + x^{3} - x^{2}\\right)} y^{2}}{2 \\, x^{4} y^{2} + 2 \\, x^{2} y^{3} - x^{3} y}) w_{y}+(\\frac{2 \\, x^{4} y - 4 \\, y^{5} + 2 \\, x y^{3} - x^{3} - 2 \\, {\\left(2 \\, x^{6} + x^{3} - x^{2}\\right)} y^{2}}{2 \\, x^{4} y^{3} + 2 \\, x^{2} y^{4} - x^{3} y^{2}}) w$"
      ],
      "text/plain": [
       "<IPython.core.display.Math object>"
      ]
     },
     "metadata": {},
     "output_type": "display_data"
    },
    {
     "data": {
      "text/latex": [
       "$\\displaystyle  w_{x,y}+(\\frac{2 \\, x^{4} - 2 \\, y^{2} + x}{4 \\, x^{2} y^{2} - x^{3} + 2 \\, y^{3} + {\\left(2 \\, x^{4} - x\\right)} y}) w_{x}+(\\frac{4 \\, x^{6} + 2 \\, {\\left(2 \\, x^{2} + x\\right)} y^{2} + 4 \\, y^{3} - x^{2} + 2 \\, {\\left(2 \\, x^{4} + x^{3} - x\\right)} y}{2 \\, {\\left(4 \\, x^{3} y^{2} - x^{4} + 2 \\, x y^{3} + {\\left(2 \\, x^{5} - x^{2}\\right)} y\\right)}}) w_{y}+(\\frac{2 \\, x^{6} + 2 \\, x^{2} y^{2} + 2 \\, y^{3} + {\\left(2 \\, x^{4} - x\\right)} y}{4 \\, x^{3} y^{3} - x^{4} y + 2 \\, x y^{4} + {\\left(2 \\, x^{5} - x^{2}\\right)} y^{2}}) w$"
      ],
      "text/plain": [
       "<IPython.core.display.Math object>"
      ]
     },
     "metadata": {},
     "output_type": "display_data"
    },
    {
     "data": {
      "text/latex": [
       "$\\displaystyle  w_{x,x}+(\\frac{2 \\, x^{11} + 2 \\, x^{9} y - 2 \\, x^{5} y^{3} - 2 \\, x^{3} y^{4} + x^{4} y^{2}}{x^{9} + 4 \\, x^{7} y - 8 \\, x^{2} y^{5} - 2 \\, y^{6} - {\\left(12 \\, x^{4} - x\\right)} y^{4} - 4 \\, {\\left(2 \\, x^{6} - x^{3}\\right)} y^{3} - 2 \\, {\\left(x^{8} - 3 \\, x^{5}\\right)} y^{2}}) w_{x}+(\\frac{2 \\, {\\left(2 \\, x^{12} y + 2 \\, x^{10} y^{2} - 2 \\, x^{6} y^{4} - 2 \\, x^{4} y^{5} + x^{5} y^{3}\\right)}}{x^{8} + 16 \\, x^{2} y^{6} + 4 \\, y^{7} + 4 \\, {\\left(6 \\, x^{4} - x\\right)} y^{5} + 2 \\, {\\left(8 \\, x^{6} - 7 \\, x^{3}\\right)} y^{4} + {\\left(4 \\, x^{8} - 18 \\, x^{5} + x^{2}\\right)} y^{3} - {\\left(10 \\, x^{7} - 3 \\, x^{4}\\right)} y^{2} - {\\left(2 \\, x^{9} - 3 \\, x^{6}\\right)} y}) w_{y}+(\\frac{2 \\, {\\left(2 \\, x^{12} + 2 \\, x^{10} y - 2 \\, x^{6} y^{3} - 2 \\, x^{4} y^{4} + x^{5} y^{2}\\right)}}{x^{8} + 16 \\, x^{2} y^{6} + 4 \\, y^{7} + 4 \\, {\\left(6 \\, x^{4} - x\\right)} y^{5} + 2 \\, {\\left(8 \\, x^{6} - 7 \\, x^{3}\\right)} y^{4} + {\\left(4 \\, x^{8} - 18 \\, x^{5} + x^{2}\\right)} y^{3} - {\\left(10 \\, x^{7} - 3 \\, x^{4}\\right)} y^{2} - {\\left(2 \\, x^{9} - 3 \\, x^{6}\\right)} y}) w$"
      ],
      "text/plain": [
       "<IPython.core.display.Math object>"
      ]
     },
     "metadata": {},
     "output_type": "display_data"
    },
    {
     "name": "stdout",
     "output_type": "stream",
     "text": [
      "AAAAAAAAAAAAAAAAAAAAAAAAAAAAAAAAAAAAAAAAAAAAAAAAAAAAAAAAAAAAAAAAAAAAAAAAAAAAAAAAAAAAAAAAAAAAAAAAAAA 5\n"
     ]
    },
    {
     "data": {
      "text/latex": [
       "$\\displaystyle  z_{y}+\\frac{2 \\, {\\left(x^{2} y + y^{2}\\right)}}{x} w_{y}-\\frac{2 \\, {\\left(x^{2} + y\\right)}}{x} w$"
      ],
      "text/plain": [
       "<IPython.core.display.Math object>"
      ]
     },
     "metadata": {},
     "output_type": "display_data"
    },
    {
     "data": {
      "text/latex": [
       "$\\displaystyle  z_{x}+\\frac{2 \\, x^{2} y^{2} - x^{3} + 2 \\, y^{3} - x y}{2 \\, x^{2} y^{2} + 2 \\, y^{3} - x y} w_{x}+\\frac{4 \\, x^{6} + 2 \\, x^{3} + 2 \\, x y^{2} + 4 \\, y^{3} - x^{2} + 2 \\, {\\left(x^{3} - x\\right)} y}{2 \\, {\\left(2 \\, x^{3} y + 2 \\, x y^{2} - x^{2}\\right)}} w_{y}-\\frac{2 \\, x^{6} + x^{3} + 2 \\, y^{3} - x y}{2 \\, x^{3} y^{2} + 2 \\, x y^{3} - x^{2} y} w$"
      ],
      "text/plain": [
       "<IPython.core.display.Math object>"
      ]
     },
     "metadata": {},
     "output_type": "display_data"
    },
    {
     "data": {
      "text/latex": [
       "$\\displaystyle  w_{y,y}+(\\frac{2 \\, {\\left(2 \\, x^{2} y^{2} - x^{3} + 2 \\, y^{3} - x y\\right)}}{2 \\, x^{3} y + 2 \\, x y^{2} - x^{2}}) w_{x}+(\\frac{2 \\, x^{4} y - 4 \\, y^{5} + 2 \\, x y^{3} - x^{3} - 2 \\, {\\left(2 \\, x^{6} + x^{3} - x^{2}\\right)} y^{2}}{2 \\, x^{4} y^{2} + 2 \\, x^{2} y^{3} - x^{3} y}) w_{y}+(\\frac{2 \\, x^{4} y - 4 \\, y^{5} + 2 \\, x y^{3} - x^{3} - 2 \\, {\\left(2 \\, x^{6} + x^{3} - x^{2}\\right)} y^{2}}{2 \\, x^{4} y^{3} + 2 \\, x^{2} y^{4} - x^{3} y^{2}}) w$"
      ],
      "text/plain": [
       "<IPython.core.display.Math object>"
      ]
     },
     "metadata": {},
     "output_type": "display_data"
    },
    {
     "data": {
      "text/latex": [
       "$\\displaystyle  w_{x,y}+(\\frac{2 \\, x^{4} - 2 \\, y^{2} + x}{4 \\, x^{2} y^{2} - x^{3} + 2 \\, y^{3} + {\\left(2 \\, x^{4} - x\\right)} y}) w_{x}+(\\frac{4 \\, x^{6} + 2 \\, {\\left(2 \\, x^{2} + x\\right)} y^{2} + 4 \\, y^{3} - x^{2} + 2 \\, {\\left(2 \\, x^{4} + x^{3} - x\\right)} y}{2 \\, {\\left(4 \\, x^{3} y^{2} - x^{4} + 2 \\, x y^{3} + {\\left(2 \\, x^{5} - x^{2}\\right)} y\\right)}}) w_{y}+(\\frac{2 \\, x^{6} + 2 \\, x^{2} y^{2} + 2 \\, y^{3} + {\\left(2 \\, x^{4} - x\\right)} y}{4 \\, x^{3} y^{3} - x^{4} y + 2 \\, x y^{4} + {\\left(2 \\, x^{5} - x^{2}\\right)} y^{2}}) w$"
      ],
      "text/plain": [
       "<IPython.core.display.Math object>"
      ]
     },
     "metadata": {},
     "output_type": "display_data"
    },
    {
     "data": {
      "text/latex": [
       "$\\displaystyle  w_{x,x}+(\\frac{2 \\, x^{11} + 2 \\, x^{9} y - 2 \\, x^{5} y^{3} - 2 \\, x^{3} y^{4} + x^{4} y^{2}}{x^{9} + 4 \\, x^{7} y - 8 \\, x^{2} y^{5} - 2 \\, y^{6} - {\\left(12 \\, x^{4} - x\\right)} y^{4} - 4 \\, {\\left(2 \\, x^{6} - x^{3}\\right)} y^{3} - 2 \\, {\\left(x^{8} - 3 \\, x^{5}\\right)} y^{2}}) w_{x}+(\\frac{2 \\, {\\left(2 \\, x^{12} y + 2 \\, x^{10} y^{2} - 2 \\, x^{6} y^{4} - 2 \\, x^{4} y^{5} + x^{5} y^{3}\\right)}}{x^{8} + 16 \\, x^{2} y^{6} + 4 \\, y^{7} + 4 \\, {\\left(6 \\, x^{4} - x\\right)} y^{5} + 2 \\, {\\left(8 \\, x^{6} - 7 \\, x^{3}\\right)} y^{4} + {\\left(4 \\, x^{8} - 18 \\, x^{5} + x^{2}\\right)} y^{3} - {\\left(10 \\, x^{7} - 3 \\, x^{4}\\right)} y^{2} - {\\left(2 \\, x^{9} - 3 \\, x^{6}\\right)} y}) w_{y}+(\\frac{2 \\, {\\left(2 \\, x^{12} + 2 \\, x^{10} y - 2 \\, x^{6} y^{3} - 2 \\, x^{4} y^{4} + x^{5} y^{2}\\right)}}{x^{8} + 16 \\, x^{2} y^{6} + 4 \\, y^{7} + 4 \\, {\\left(6 \\, x^{4} - x\\right)} y^{5} + 2 \\, {\\left(8 \\, x^{6} - 7 \\, x^{3}\\right)} y^{4} + {\\left(4 \\, x^{8} - 18 \\, x^{5} + x^{2}\\right)} y^{3} - {\\left(10 \\, x^{7} - 3 \\, x^{4}\\right)} y^{2} - {\\left(2 \\, x^{9} - 3 \\, x^{6}\\right)} y}) w$"
      ],
      "text/plain": [
       "<IPython.core.display.Math object>"
      ]
     },
     "metadata": {},
     "output_type": "display_data"
    },
    {
     "name": "stdout",
     "output_type": "stream",
     "text": [
      "AAAAAAAAAAAAAAAAAAAAAAAAAAAAAAAAAAAAAAAAAAAAAAAAAAAAAAAAAAAAAAAAAAAAAAAAAAAAAAAAAAAAAAAAAAAAAAAAAAA 5\n"
     ]
    },
    {
     "data": {
      "text/latex": [
       "$\\displaystyle  z_{y}+\\frac{2 \\, {\\left(x^{2} y + y^{2}\\right)}}{x} w_{y}-\\frac{2 \\, {\\left(x^{2} + y\\right)}}{x} w$"
      ],
      "text/plain": [
       "<IPython.core.display.Math object>"
      ]
     },
     "metadata": {},
     "output_type": "display_data"
    },
    {
     "data": {
      "text/latex": [
       "$\\displaystyle  z_{x}+\\frac{2 \\, x^{2} y^{2} - x^{3} + 2 \\, y^{3} - x y}{2 \\, x^{2} y^{2} + 2 \\, y^{3} - x y} w_{x}+\\frac{4 \\, x^{6} + 2 \\, x^{3} + 2 \\, x y^{2} + 4 \\, y^{3} - x^{2} + 2 \\, {\\left(x^{3} - x\\right)} y}{2 \\, {\\left(2 \\, x^{3} y + 2 \\, x y^{2} - x^{2}\\right)}} w_{y}-\\frac{2 \\, x^{6} + x^{3} + 2 \\, y^{3} - x y}{2 \\, x^{3} y^{2} + 2 \\, x y^{3} - x^{2} y} w$"
      ],
      "text/plain": [
       "<IPython.core.display.Math object>"
      ]
     },
     "metadata": {},
     "output_type": "display_data"
    },
    {
     "data": {
      "text/latex": [
       "$\\displaystyle  w_{y,y}+(\\frac{2 \\, {\\left(2 \\, x^{2} y^{2} - x^{3} + 2 \\, y^{3} - x y\\right)}}{2 \\, x^{3} y + 2 \\, x y^{2} - x^{2}}) w_{x}+(\\frac{2 \\, x^{4} y - 4 \\, y^{5} + 2 \\, x y^{3} - x^{3} - 2 \\, {\\left(2 \\, x^{6} + x^{3} - x^{2}\\right)} y^{2}}{2 \\, x^{4} y^{2} + 2 \\, x^{2} y^{3} - x^{3} y}) w_{y}+(\\frac{2 \\, x^{4} y - 4 \\, y^{5} + 2 \\, x y^{3} - x^{3} - 2 \\, {\\left(2 \\, x^{6} + x^{3} - x^{2}\\right)} y^{2}}{2 \\, x^{4} y^{3} + 2 \\, x^{2} y^{4} - x^{3} y^{2}}) w$"
      ],
      "text/plain": [
       "<IPython.core.display.Math object>"
      ]
     },
     "metadata": {},
     "output_type": "display_data"
    },
    {
     "data": {
      "text/latex": [
       "$\\displaystyle  w_{x,y}+(\\frac{2 \\, x^{4} - 2 \\, y^{2} + x}{4 \\, x^{2} y^{2} - x^{3} + 2 \\, y^{3} + {\\left(2 \\, x^{4} - x\\right)} y}) w_{x}+(\\frac{4 \\, x^{6} + 2 \\, {\\left(2 \\, x^{2} + x\\right)} y^{2} + 4 \\, y^{3} - x^{2} + 2 \\, {\\left(2 \\, x^{4} + x^{3} - x\\right)} y}{2 \\, {\\left(4 \\, x^{3} y^{2} - x^{4} + 2 \\, x y^{3} + {\\left(2 \\, x^{5} - x^{2}\\right)} y\\right)}}) w_{y}+(\\frac{2 \\, x^{6} + 2 \\, x^{2} y^{2} + 2 \\, y^{3} + {\\left(2 \\, x^{4} - x\\right)} y}{4 \\, x^{3} y^{3} - x^{4} y + 2 \\, x y^{4} + {\\left(2 \\, x^{5} - x^{2}\\right)} y^{2}}) w$"
      ],
      "text/plain": [
       "<IPython.core.display.Math object>"
      ]
     },
     "metadata": {},
     "output_type": "display_data"
    },
    {
     "data": {
      "text/latex": [
       "$\\displaystyle  w_{x,x}+(\\frac{2 \\, x^{11} + 2 \\, x^{9} y - 2 \\, x^{5} y^{3} - 2 \\, x^{3} y^{4} + x^{4} y^{2}}{x^{9} + 4 \\, x^{7} y - 8 \\, x^{2} y^{5} - 2 \\, y^{6} - {\\left(12 \\, x^{4} - x\\right)} y^{4} - 4 \\, {\\left(2 \\, x^{6} - x^{3}\\right)} y^{3} - 2 \\, {\\left(x^{8} - 3 \\, x^{5}\\right)} y^{2}}) w_{x}+(\\frac{2 \\, {\\left(2 \\, x^{12} y + 2 \\, x^{10} y^{2} - 2 \\, x^{6} y^{4} - 2 \\, x^{4} y^{5} + x^{5} y^{3}\\right)}}{x^{8} + 16 \\, x^{2} y^{6} + 4 \\, y^{7} + 4 \\, {\\left(6 \\, x^{4} - x\\right)} y^{5} + 2 \\, {\\left(8 \\, x^{6} - 7 \\, x^{3}\\right)} y^{4} + {\\left(4 \\, x^{8} - 18 \\, x^{5} + x^{2}\\right)} y^{3} - {\\left(10 \\, x^{7} - 3 \\, x^{4}\\right)} y^{2} - {\\left(2 \\, x^{9} - 3 \\, x^{6}\\right)} y}) w_{y}+(\\frac{2 \\, {\\left(2 \\, x^{12} + 2 \\, x^{10} y - 2 \\, x^{6} y^{3} - 2 \\, x^{4} y^{4} + x^{5} y^{2}\\right)}}{x^{8} + 16 \\, x^{2} y^{6} + 4 \\, y^{7} + 4 \\, {\\left(6 \\, x^{4} - x\\right)} y^{5} + 2 \\, {\\left(8 \\, x^{6} - 7 \\, x^{3}\\right)} y^{4} + {\\left(4 \\, x^{8} - 18 \\, x^{5} + x^{2}\\right)} y^{3} - {\\left(10 \\, x^{7} - 3 \\, x^{4}\\right)} y^{2} - {\\left(2 \\, x^{9} - 3 \\, x^{6}\\right)} y}) w$"
      ],
      "text/plain": [
       "<IPython.core.display.Math object>"
      ]
     },
     "metadata": {},
     "output_type": "display_data"
    },
    {
     "name": "stdout",
     "output_type": "stream",
     "text": [
      "AAAAAAAAAAAAAAAAAAAAAAAAAAAAAAAAAAAAAAAAAAAAAAAAAAAAAAAAAAAAAAAAAAAAAAAAAAAAAAAAAAAAAAAAAAAAAAAAAAA 5\n"
     ]
    },
    {
     "data": {
      "text/latex": [
       "$\\displaystyle  z_{y}+\\frac{2 \\, {\\left(x^{2} y + y^{2}\\right)}}{x} w_{y}-\\frac{2 \\, {\\left(x^{2} + y\\right)}}{x} w$"
      ],
      "text/plain": [
       "<IPython.core.display.Math object>"
      ]
     },
     "metadata": {},
     "output_type": "display_data"
    },
    {
     "data": {
      "text/latex": [
       "$\\displaystyle  z_{x}+\\frac{2 \\, x^{2} y^{2} - x^{3} + 2 \\, y^{3} - x y}{2 \\, x^{2} y^{2} + 2 \\, y^{3} - x y} w_{x}+\\frac{4 \\, x^{6} + 2 \\, x^{3} + 2 \\, x y^{2} + 4 \\, y^{3} - x^{2} + 2 \\, {\\left(x^{3} - x\\right)} y}{2 \\, {\\left(2 \\, x^{3} y + 2 \\, x y^{2} - x^{2}\\right)}} w_{y}-\\frac{2 \\, x^{6} + x^{3} + 2 \\, y^{3} - x y}{2 \\, x^{3} y^{2} + 2 \\, x y^{3} - x^{2} y} w$"
      ],
      "text/plain": [
       "<IPython.core.display.Math object>"
      ]
     },
     "metadata": {},
     "output_type": "display_data"
    },
    {
     "data": {
      "text/latex": [
       "$\\displaystyle  w_{y,y}+(\\frac{2 \\, {\\left(2 \\, x^{2} y^{2} - x^{3} + 2 \\, y^{3} - x y\\right)}}{2 \\, x^{3} y + 2 \\, x y^{2} - x^{2}}) w_{x}+(\\frac{2 \\, x^{4} y - 4 \\, y^{5} + 2 \\, x y^{3} - x^{3} - 2 \\, {\\left(2 \\, x^{6} + x^{3} - x^{2}\\right)} y^{2}}{2 \\, x^{4} y^{2} + 2 \\, x^{2} y^{3} - x^{3} y}) w_{y}+(\\frac{2 \\, x^{4} y - 4 \\, y^{5} + 2 \\, x y^{3} - x^{3} - 2 \\, {\\left(2 \\, x^{6} + x^{3} - x^{2}\\right)} y^{2}}{2 \\, x^{4} y^{3} + 2 \\, x^{2} y^{4} - x^{3} y^{2}}) w$"
      ],
      "text/plain": [
       "<IPython.core.display.Math object>"
      ]
     },
     "metadata": {},
     "output_type": "display_data"
    },
    {
     "data": {
      "text/latex": [
       "$\\displaystyle  w_{x,y}+(\\frac{2 \\, x^{4} - 2 \\, y^{2} + x}{4 \\, x^{2} y^{2} - x^{3} + 2 \\, y^{3} + {\\left(2 \\, x^{4} - x\\right)} y}) w_{x}+(\\frac{4 \\, x^{6} + 2 \\, {\\left(2 \\, x^{2} + x\\right)} y^{2} + 4 \\, y^{3} - x^{2} + 2 \\, {\\left(2 \\, x^{4} + x^{3} - x\\right)} y}{2 \\, {\\left(4 \\, x^{3} y^{2} - x^{4} + 2 \\, x y^{3} + {\\left(2 \\, x^{5} - x^{2}\\right)} y\\right)}}) w_{y}+(\\frac{2 \\, x^{6} + 2 \\, x^{2} y^{2} + 2 \\, y^{3} + {\\left(2 \\, x^{4} - x\\right)} y}{4 \\, x^{3} y^{3} - x^{4} y + 2 \\, x y^{4} + {\\left(2 \\, x^{5} - x^{2}\\right)} y^{2}}) w$"
      ],
      "text/plain": [
       "<IPython.core.display.Math object>"
      ]
     },
     "metadata": {},
     "output_type": "display_data"
    },
    {
     "data": {
      "text/latex": [
       "$\\displaystyle  w_{x,x}+(\\frac{2 \\, x^{11} + 2 \\, x^{9} y - 2 \\, x^{5} y^{3} - 2 \\, x^{3} y^{4} + x^{4} y^{2}}{x^{9} + 4 \\, x^{7} y - 8 \\, x^{2} y^{5} - 2 \\, y^{6} - {\\left(12 \\, x^{4} - x\\right)} y^{4} - 4 \\, {\\left(2 \\, x^{6} - x^{3}\\right)} y^{3} - 2 \\, {\\left(x^{8} - 3 \\, x^{5}\\right)} y^{2}}) w_{x}+(\\frac{2 \\, {\\left(2 \\, x^{12} y + 2 \\, x^{10} y^{2} - 2 \\, x^{6} y^{4} - 2 \\, x^{4} y^{5} + x^{5} y^{3}\\right)}}{x^{8} + 16 \\, x^{2} y^{6} + 4 \\, y^{7} + 4 \\, {\\left(6 \\, x^{4} - x\\right)} y^{5} + 2 \\, {\\left(8 \\, x^{6} - 7 \\, x^{3}\\right)} y^{4} + {\\left(4 \\, x^{8} - 18 \\, x^{5} + x^{2}\\right)} y^{3} - {\\left(10 \\, x^{7} - 3 \\, x^{4}\\right)} y^{2} - {\\left(2 \\, x^{9} - 3 \\, x^{6}\\right)} y}) w_{y}+(\\frac{2 \\, {\\left(2 \\, x^{12} + 2 \\, x^{10} y - 2 \\, x^{6} y^{3} - 2 \\, x^{4} y^{4} + x^{5} y^{2}\\right)}}{x^{8} + 16 \\, x^{2} y^{6} + 4 \\, y^{7} + 4 \\, {\\left(6 \\, x^{4} - x\\right)} y^{5} + 2 \\, {\\left(8 \\, x^{6} - 7 \\, x^{3}\\right)} y^{4} + {\\left(4 \\, x^{8} - 18 \\, x^{5} + x^{2}\\right)} y^{3} - {\\left(10 \\, x^{7} - 3 \\, x^{4}\\right)} y^{2} - {\\left(2 \\, x^{9} - 3 \\, x^{6}\\right)} y}) w$"
      ],
      "text/plain": [
       "<IPython.core.display.Math object>"
      ]
     },
     "metadata": {},
     "output_type": "display_data"
    },
    {
     "name": "stdout",
     "output_type": "stream",
     "text": [
      "after autoreduce\n"
     ]
    },
    {
     "data": {
      "text/latex": [
       "$\\displaystyle  z_{y}+\\frac{2 \\, {\\left(x^{2} y + y^{2}\\right)}}{x} w_{y}-\\frac{2 \\, {\\left(x^{2} + y\\right)}}{x} w$"
      ],
      "text/plain": [
       "<IPython.core.display.Math object>"
      ]
     },
     "metadata": {},
     "output_type": "display_data"
    },
    {
     "data": {
      "text/latex": [
       "$\\displaystyle  z_{x}+\\frac{2 \\, x^{2} y^{2} - x^{3} + 2 \\, y^{3} - x y}{2 \\, x^{2} y^{2} + 2 \\, y^{3} - x y} w_{x}+\\frac{4 \\, x^{6} + 2 \\, x^{3} + 2 \\, x y^{2} + 4 \\, y^{3} - x^{2} + 2 \\, {\\left(x^{3} - x\\right)} y}{2 \\, {\\left(2 \\, x^{3} y + 2 \\, x y^{2} - x^{2}\\right)}} w_{y}-\\frac{2 \\, x^{6} + x^{3} + 2 \\, y^{3} - x y}{2 \\, x^{3} y^{2} + 2 \\, x y^{3} - x^{2} y} w$"
      ],
      "text/plain": [
       "<IPython.core.display.Math object>"
      ]
     },
     "metadata": {},
     "output_type": "display_data"
    },
    {
     "data": {
      "text/latex": [
       "$\\displaystyle  w_{y,y}+(\\frac{2 \\, {\\left(2 \\, x^{2} y^{2} - x^{3} + 2 \\, y^{3} - x y\\right)}}{2 \\, x^{3} y + 2 \\, x y^{2} - x^{2}}) w_{x}+(\\frac{2 \\, x^{4} y - 4 \\, y^{5} + 2 \\, x y^{3} - x^{3} - 2 \\, {\\left(2 \\, x^{6} + x^{3} - x^{2}\\right)} y^{2}}{2 \\, x^{4} y^{2} + 2 \\, x^{2} y^{3} - x^{3} y}) w_{y}+(\\frac{2 \\, x^{4} y - 4 \\, y^{5} + 2 \\, x y^{3} - x^{3} - 2 \\, {\\left(2 \\, x^{6} + x^{3} - x^{2}\\right)} y^{2}}{2 \\, x^{4} y^{3} + 2 \\, x^{2} y^{4} - x^{3} y^{2}}) w$"
      ],
      "text/plain": [
       "<IPython.core.display.Math object>"
      ]
     },
     "metadata": {},
     "output_type": "display_data"
    },
    {
     "data": {
      "text/latex": [
       "$\\displaystyle  w_{x,y}+(\\frac{2 \\, x^{4} - 2 \\, y^{2} + x}{4 \\, x^{2} y^{2} - x^{3} + 2 \\, y^{3} + {\\left(2 \\, x^{4} - x\\right)} y}) w_{x}+(\\frac{4 \\, x^{6} + 2 \\, {\\left(2 \\, x^{2} + x\\right)} y^{2} + 4 \\, y^{3} - x^{2} + 2 \\, {\\left(2 \\, x^{4} + x^{3} - x\\right)} y}{2 \\, {\\left(4 \\, x^{3} y^{2} - x^{4} + 2 \\, x y^{3} + {\\left(2 \\, x^{5} - x^{2}\\right)} y\\right)}}) w_{y}+(\\frac{2 \\, x^{6} + 2 \\, x^{2} y^{2} + 2 \\, y^{3} + {\\left(2 \\, x^{4} - x\\right)} y}{4 \\, x^{3} y^{3} - x^{4} y + 2 \\, x y^{4} + {\\left(2 \\, x^{5} - x^{2}\\right)} y^{2}}) w$"
      ],
      "text/plain": [
       "<IPython.core.display.Math object>"
      ]
     },
     "metadata": {},
     "output_type": "display_data"
    },
    {
     "data": {
      "text/latex": [
       "$\\displaystyle  w_{x,x}+(\\frac{2 \\, x^{11} + 2 \\, x^{9} y - 2 \\, x^{5} y^{3} - 2 \\, x^{3} y^{4} + x^{4} y^{2}}{x^{9} + 4 \\, x^{7} y - 8 \\, x^{2} y^{5} - 2 \\, y^{6} - {\\left(12 \\, x^{4} - x\\right)} y^{4} - 4 \\, {\\left(2 \\, x^{6} - x^{3}\\right)} y^{3} - 2 \\, {\\left(x^{8} - 3 \\, x^{5}\\right)} y^{2}}) w_{x}+(\\frac{2 \\, {\\left(2 \\, x^{12} y + 2 \\, x^{10} y^{2} - 2 \\, x^{6} y^{4} - 2 \\, x^{4} y^{5} + x^{5} y^{3}\\right)}}{x^{8} + 16 \\, x^{2} y^{6} + 4 \\, y^{7} + 4 \\, {\\left(6 \\, x^{4} - x\\right)} y^{5} + 2 \\, {\\left(8 \\, x^{6} - 7 \\, x^{3}\\right)} y^{4} + {\\left(4 \\, x^{8} - 18 \\, x^{5} + x^{2}\\right)} y^{3} - {\\left(10 \\, x^{7} - 3 \\, x^{4}\\right)} y^{2} - {\\left(2 \\, x^{9} - 3 \\, x^{6}\\right)} y}) w_{y}+(\\frac{2 \\, {\\left(2 \\, x^{12} + 2 \\, x^{10} y - 2 \\, x^{6} y^{3} - 2 \\, x^{4} y^{4} + x^{5} y^{2}\\right)}}{x^{8} + 16 \\, x^{2} y^{6} + 4 \\, y^{7} + 4 \\, {\\left(6 \\, x^{4} - x\\right)} y^{5} + 2 \\, {\\left(8 \\, x^{6} - 7 \\, x^{3}\\right)} y^{4} + {\\left(4 \\, x^{8} - 18 \\, x^{5} + x^{2}\\right)} y^{3} - {\\left(10 \\, x^{7} - 3 \\, x^{4}\\right)} y^{2} - {\\left(2 \\, x^{9} - 3 \\, x^{6}\\right)} y}) w$"
      ],
      "text/plain": [
       "<IPython.core.display.Math object>"
      ]
     },
     "metadata": {},
     "output_type": "display_data"
    },
    {
     "name": "stdout",
     "output_type": "stream",
     "text": [
      "after complete system\n"
     ]
    },
    {
     "data": {
      "text/latex": [
       "$\\displaystyle  z_{y}+\\frac{2 \\, {\\left(x^{2} y + y^{2}\\right)}}{x} w_{y}-\\frac{2 \\, {\\left(x^{2} + y\\right)}}{x} w$"
      ],
      "text/plain": [
       "<IPython.core.display.Math object>"
      ]
     },
     "metadata": {},
     "output_type": "display_data"
    },
    {
     "data": {
      "text/latex": [
       "$\\displaystyle  z_{x}+\\frac{2 \\, x^{2} y^{2} - x^{3} + 2 \\, y^{3} - x y}{2 \\, x^{2} y^{2} + 2 \\, y^{3} - x y} w_{x}+\\frac{4 \\, x^{6} + 2 \\, x^{3} + 2 \\, x y^{2} + 4 \\, y^{3} - x^{2} + 2 \\, {\\left(x^{3} - x\\right)} y}{2 \\, {\\left(2 \\, x^{3} y + 2 \\, x y^{2} - x^{2}\\right)}} w_{y}-\\frac{2 \\, x^{6} + x^{3} + 2 \\, y^{3} - x y}{2 \\, x^{3} y^{2} + 2 \\, x y^{3} - x^{2} y} w$"
      ],
      "text/plain": [
       "<IPython.core.display.Math object>"
      ]
     },
     "metadata": {},
     "output_type": "display_data"
    },
    {
     "data": {
      "text/latex": [
       "$\\displaystyle  w_{y,y}+(\\frac{2 \\, {\\left(2 \\, x^{2} y^{2} - x^{3} + 2 \\, y^{3} - x y\\right)}}{2 \\, x^{3} y + 2 \\, x y^{2} - x^{2}}) w_{x}+(\\frac{2 \\, x^{4} y - 4 \\, y^{5} + 2 \\, x y^{3} - x^{3} - 2 \\, {\\left(2 \\, x^{6} + x^{3} - x^{2}\\right)} y^{2}}{2 \\, x^{4} y^{2} + 2 \\, x^{2} y^{3} - x^{3} y}) w_{y}+(\\frac{2 \\, x^{4} y - 4 \\, y^{5} + 2 \\, x y^{3} - x^{3} - 2 \\, {\\left(2 \\, x^{6} + x^{3} - x^{2}\\right)} y^{2}}{2 \\, x^{4} y^{3} + 2 \\, x^{2} y^{4} - x^{3} y^{2}}) w$"
      ],
      "text/plain": [
       "<IPython.core.display.Math object>"
      ]
     },
     "metadata": {},
     "output_type": "display_data"
    },
    {
     "data": {
      "text/latex": [
       "$\\displaystyle  w_{x,y}+(\\frac{2 \\, x^{4} - 2 \\, y^{2} + x}{4 \\, x^{2} y^{2} - x^{3} + 2 \\, y^{3} + {\\left(2 \\, x^{4} - x\\right)} y}) w_{x}+(\\frac{4 \\, x^{6} + 2 \\, {\\left(2 \\, x^{2} + x\\right)} y^{2} + 4 \\, y^{3} - x^{2} + 2 \\, {\\left(2 \\, x^{4} + x^{3} - x\\right)} y}{2 \\, {\\left(4 \\, x^{3} y^{2} - x^{4} + 2 \\, x y^{3} + {\\left(2 \\, x^{5} - x^{2}\\right)} y\\right)}}) w_{y}+(\\frac{2 \\, x^{6} + 2 \\, x^{2} y^{2} + 2 \\, y^{3} + {\\left(2 \\, x^{4} - x\\right)} y}{4 \\, x^{3} y^{3} - x^{4} y + 2 \\, x y^{4} + {\\left(2 \\, x^{5} - x^{2}\\right)} y^{2}}) w$"
      ],
      "text/plain": [
       "<IPython.core.display.Math object>"
      ]
     },
     "metadata": {},
     "output_type": "display_data"
    },
    {
     "data": {
      "text/latex": [
       "$\\displaystyle  w_{x,x}+(\\frac{2 \\, x^{11} + 2 \\, x^{9} y - 2 \\, x^{5} y^{3} - 2 \\, x^{3} y^{4} + x^{4} y^{2}}{x^{9} + 4 \\, x^{7} y - 8 \\, x^{2} y^{5} - 2 \\, y^{6} - {\\left(12 \\, x^{4} - x\\right)} y^{4} - 4 \\, {\\left(2 \\, x^{6} - x^{3}\\right)} y^{3} - 2 \\, {\\left(x^{8} - 3 \\, x^{5}\\right)} y^{2}}) w_{x}+(\\frac{2 \\, {\\left(2 \\, x^{12} y + 2 \\, x^{10} y^{2} - 2 \\, x^{6} y^{4} - 2 \\, x^{4} y^{5} + x^{5} y^{3}\\right)}}{x^{8} + 16 \\, x^{2} y^{6} + 4 \\, y^{7} + 4 \\, {\\left(6 \\, x^{4} - x\\right)} y^{5} + 2 \\, {\\left(8 \\, x^{6} - 7 \\, x^{3}\\right)} y^{4} + {\\left(4 \\, x^{8} - 18 \\, x^{5} + x^{2}\\right)} y^{3} - {\\left(10 \\, x^{7} - 3 \\, x^{4}\\right)} y^{2} - {\\left(2 \\, x^{9} - 3 \\, x^{6}\\right)} y}) w_{y}+(\\frac{2 \\, {\\left(2 \\, x^{12} + 2 \\, x^{10} y - 2 \\, x^{6} y^{3} - 2 \\, x^{4} y^{4} + x^{5} y^{2}\\right)}}{x^{8} + 16 \\, x^{2} y^{6} + 4 \\, y^{7} + 4 \\, {\\left(6 \\, x^{4} - x\\right)} y^{5} + 2 \\, {\\left(8 \\, x^{6} - 7 \\, x^{3}\\right)} y^{4} + {\\left(4 \\, x^{8} - 18 \\, x^{5} + x^{2}\\right)} y^{3} - {\\left(10 \\, x^{7} - 3 \\, x^{4}\\right)} y^{2} - {\\left(2 \\, x^{9} - 3 \\, x^{6}\\right)} y}) w$"
      ],
      "text/plain": [
       "<IPython.core.display.Math object>"
      ]
     },
     "metadata": {},
     "output_type": "display_data"
    },
    {
     "name": "stdout",
     "output_type": "stream",
     "text": [
      "adding c=-1/2*(8*(x + 2*y/x)*x^3/(2*x*y + 2*y^2/x - 1)^2 + 8*(x + 2*y/x)*x*y/(2*x*y + 2*y^2/x - 1)^2 - 2*(x + 2*y/x)*x*y/(x*y + y^2/x)^2 - 4*x/(2*x*y + 2*y^2/x - 1) + 2*x/(x*y + y^2/x) - (x + 2*y/x)*x/((x*y + y^2/x)^2*y) + 2*(x + 2*y/x)*y^3/((x*y + y^2/x)^2*x^3) - (x + 2*y/x)/((x*y + y^2/x)^2*x) - x/((x*y + y^2/x)*y^2) - 6*y^2/((x*y + y^2/x)*x^3) + 2/y^3)*x*w(x, y)/y - (4*(x + 2*y/x)*x^2*y/(2*x*y + 2*y^2/x - 1)^2 - (x + 2*y/x)*x^2*y/(x*y + y^2/x)^2 - 2*x^2/(2*x*y + 2*y^2/x - 1) + x^2/(x*y + y^2/x) + 4*(x + 2*y/x)*y^2/(2*x*y + 2*y^2/x - 1)^2 - 2*(x + 2*y/x)*y^2/(x*y + y^2/x)^2 - 4*y/(2*x*y + 2*y^2/x - 1) + 4*y/(x*y + y^2/x) - (x + 2*y/x)*y^3/((x*y + y^2/x)^2*x^2) + 3*y^2/((x*y + y^2/x)*x^2))*x*diff(w(x, y), x)/y + (2*x^2*y/(2*x*y + 2*y^2/x - 1) - x^2*y/(x*y + y^2/x) + 2*y^2/(2*x*y + 2*y^2/x - 1) - 2*y^2/(x*y + y^2/x) - y^3/((x*y + y^2/x)*x^2))*x*diff(w(x, y), x, y)/y + 2*(x^2 + y)*y*diff(w(x, y), x, y)/x + 1/2*(8*(x + 2*y/x)*x^3*y/(2*x*y + 2*y^2/x - 1)^2 - 4*x^3/(2*x*y + 2*y^2/x - 1) + 8*(x + 2*y/x)*x*y^2/(2*x*y + 2*y^2/x - 1)^2 - 2*(x + 2*y/x)*x*y^2/(x*y + y^2/x)^2 - 8*x*y/(2*x*y + 2*y^2/x - 1) + 4*x*y/(x*y + y^2/x) + (x + 2*y/x)*y^2/(x*y + y^2/x)^2 - 2*y/(x*y + y^2/x) + (x + 2*y/x)*y^3/((x*y + y^2/x)^2*x^2) + 2*(x + 2*y/x)*y^4/((x*y + y^2/x)^2*x^3) - 3*y^2/((x*y + y^2/x)*x^2) - 8*y^3/((x*y + y^2/x)*x^3))*x*diff(w(x, y), y)/y + 1/2*(4*x^3/(2*x*y + 2*y^2/x - 1) + 4*x*y/(2*x*y + 2*y^2/x - 1) - 2*x*y/(x*y + y^2/x) - x/((x*y + y^2/x)*y) + 2*y^3/((x*y + y^2/x)*x^3) - 1/((x*y + y^2/x)*x) + 1/y^2)*x*diff(w(x, y), y)/y + 4*y*diff(w(x, y), y) - 1/2*(4*x^3*y/(2*x*y + 2*y^2/x - 1) + 4*x*y^2/(2*x*y + 2*y^2/x - 1) - 2*x*y^2/(x*y + y^2/x) + y^2/(x*y + y^2/x) + y^3/((x*y + y^2/x)*x^2) + 2*y^4/((x*y + y^2/x)*x^3))*x*diff(w(x, y), y, y)/y - 1/2*(4*x^3/(2*x*y + 2*y^2/x - 1) + 4*x*y/(2*x*y + 2*y^2/x - 1) - 2*x*y/(x*y + y^2/x) - x/((x*y + y^2/x)*y) + 2*y^3/((x*y + y^2/x)*x^3) - 1/((x*y + y^2/x)*x) + 1/y^2)*x*w(x, y)/y^2 - 2*(x^2 + y)*diff(w(x, y), x)/x - (2*x^2*y/(2*x*y + 2*y^2/x - 1) - x^2*y/(x*y + y^2/x) + 2*y^2/(2*x*y + 2*y^2/x - 1) - 2*y^2/(x*y + y^2/x) - y^3/((x*y + y^2/x)*x^2))*x*diff(w(x, y), x)/y^2 + 1/2*(4*x^3*y/(2*x*y + 2*y^2/x - 1) + 4*x*y^2/(2*x*y + 2*y^2/x - 1) - 2*x*y^2/(x*y + y^2/x) + y^2/(x*y + y^2/x) + y^3/((x*y + y^2/x)*x^2) + 2*y^4/((x*y + y^2/x)*x^3))*x*diff(w(x, y), y)/y^2 - 2*(x^2 + y)*y*diff(w(x, y), y)/x^2 + 2*(x^2 + y)*w(x, y)/x^2 - 4*w(x, y) to result\n",
      "adding c=4*x^3*y*diff(w(x, y), x, y)/(2*x*y + 2*y^2/x - 1) - 8*x^3*(y - y^2/x^2)*y*diff(w(x, y), y)/(2*x*y + 2*y^2/x - 1)^2 + 8*x^3*(y - y^2/x^2)*w(x, y)/(2*x*y + 2*y^2/x - 1)^2 - 4*x^3*diff(w(x, y), x)/(2*x*y + 2*y^2/x - 1) + 8*x^2*(y - y^2/x^2)*y*diff(w(x, y), x)/(2*x*y + 2*y^2/x - 1)^2 - 4*x^2*y*diff(w(x, y), x, x)/(2*x*y + 2*y^2/x - 1) + 12*x^2*y*diff(w(x, y), y)/(2*x*y + 2*y^2/x - 1) + 2*(x + 2*y/x)*x^3*y*diff(w(x, y), y)/((2*x*y + 2*y^2/x - 1)*(x*y + y^2/x)^2) + 4*(x + 2*y/x)*x^3*y*diff(w(x, y), y)/((2*x*y + 2*y^2/x - 1)^2*(x*y + y^2/x)) - 2*x^3*y*diff(w(x, y), y, y)/((2*x*y + 2*y^2/x - 1)*(x*y + y^2/x)) - 12*x^2*w(x, y)/(2*x*y + 2*y^2/x - 1) - 2*(x + 2*y/x)*x^3*w(x, y)/((2*x*y + 2*y^2/x - 1)*(x*y + y^2/x)^2) - 4*(x + 2*y/x)*x^3*w(x, y)/((2*x*y + 2*y^2/x - 1)^2*(x*y + y^2/x)) - 8*x*y*diff(w(x, y), x)/(2*x*y + 2*y^2/x - 1) + 2*(x + 2*y/x)*x^2*y*diff(w(x, y), x)/(x*y + y^2/x)^3 - x^2*y*diff(w(x, y), x, y)/(x*y + y^2/x)^2 - x^2*diff(w(x, y), x)/(x*y + y^2/x)^2 to result\n",
      "adding c=16*(2*x^2*y + 6*y^2 - x + 4*y^3/x^2 - 2*y/x)*x^7*y*diff(w(x, y), y)/((4*x^2*y^2 + 8*y^3 - 4*x*y + 4*y^4/x^2 - 4*y^2/x + 1)^2*(2*x^3/(2*x*y + 2*y^2/x - 1) - x^3/(x*y + y^2/x) + 2*x*y/(2*x*y + 2*y^2/x - 1) - 2*x*y/(x*y + y^2/x) - y^2/((x*y + y^2/x)*x))*(x*y + y^2/x)) - 4*(4*(x + 2*y/x)*x^3/(2*x*y + 2*y^2/x - 1)^2 - (x + 2*y/x)*x^3/(x*y + y^2/x)^2 + 4*(x + 2*y/x)*x*y/(2*x*y + 2*y^2/x - 1)^2 - 2*(x + 2*y/x)*x*y/(x*y + y^2/x)^2 - 2*x/(2*x*y + 2*y^2/x - 1) + 2*x/(x*y + y^2/x) - (x + 2*y/x)*y^2/((x*y + y^2/x)^2*x) + 2*y/((x*y + y^2/x)*x))*x^7*y*diff(w(x, y), y)/((4*x^2*y^2 + 8*y^3 - 4*x*y + 4*y^4/x^2 - 4*y^2/x + 1)*(2*x^3/(2*x*y + 2*y^2/x - 1) - x^3/(x*y + y^2/x) + 2*x*y/(2*x*y + 2*y^2/x - 1) - 2*x*y/(x*y + y^2/x) - y^2/((x*y + y^2/x)*x))^2*(x*y + y^2/x)) + 4*(x + 2*y/x)*x^7*y*diff(w(x, y), y)/((4*x^2*y^2 + 8*y^3 - 4*x*y + 4*y^4/x^2 - 4*y^2/x + 1)*(2*x^3/(2*x*y + 2*y^2/x - 1) - x^3/(x*y + y^2/x) + 2*x*y/(2*x*y + 2*y^2/x - 1) - 2*x*y/(x*y + y^2/x) - y^2/((x*y + y^2/x)*x))*(x*y + y^2/x)^2) - 4*x^7*y*diff(w(x, y), y, y)/((4*x^2*y^2 + 8*y^3 - 4*x*y + 4*y^4/x^2 - 4*y^2/x + 1)*(2*x^3/(2*x*y + 2*y^2/x - 1) - x^3/(x*y + y^2/x) + 2*x*y/(2*x*y + 2*y^2/x - 1) - 2*x*y/(x*y + y^2/x) - y^2/((x*y + y^2/x)*x))*(x*y + y^2/x)) - 16*(2*x^2*y + 6*y^2 - x + 4*y^3/x^2 - 2*y/x)*x^7*w(x, y)/((4*x^2*y^2 + 8*y^3 - 4*x*y + 4*y^4/x^2 - 4*y^2/x + 1)^2*(2*x^3/(2*x*y + 2*y^2/x - 1) - x^3/(x*y + y^2/x) + 2*x*y/(2*x*y + 2*y^2/x - 1) - 2*x*y/(x*y + y^2/x) - y^2/((x*y + y^2/x)*x))*(x*y + y^2/x)) + 4*(4*(x + 2*y/x)*x^3/(2*x*y + 2*y^2/x - 1)^2 - (x + 2*y/x)*x^3/(x*y + y^2/x)^2 + 4*(x + 2*y/x)*x*y/(2*x*y + 2*y^2/x - 1)^2 - 2*(x + 2*y/x)*x*y/(x*y + y^2/x)^2 - 2*x/(2*x*y + 2*y^2/x - 1) + 2*x/(x*y + y^2/x) - (x + 2*y/x)*y^2/((x*y + y^2/x)^2*x) + 2*y/((x*y + y^2/x)*x))*x^7*w(x, y)/((4*x^2*y^2 + 8*y^3 - 4*x*y + 4*y^4/x^2 - 4*y^2/x + 1)*(2*x^3/(2*x*y + 2*y^2/x - 1) - x^3/(x*y + y^2/x) + 2*x*y/(2*x*y + 2*y^2/x - 1) - 2*x*y/(x*y + y^2/x) - y^2/((x*y + y^2/x)*x))^2*(x*y + y^2/x)) - 4*(x + 2*y/x)*x^7*w(x, y)/((4*x^2*y^2 + 8*y^3 - 4*x*y + 4*y^4/x^2 - 4*y^2/x + 1)*(2*x^3/(2*x*y + 2*y^2/x - 1) - x^3/(x*y + y^2/x) + 2*x*y/(2*x*y + 2*y^2/x - 1) - 2*x*y/(x*y + y^2/x) - y^2/((x*y + y^2/x)*x))*(x*y + y^2/x)^2) + 4*(x^2*y + 3*y^2 + 2*y^3/x^2)*x^6*y*diff(w(x, y), x)/((x^2*y^2 + 2*y^3 + y^4/x^2)^2*(2*x^3/(2*x*y + 2*y^2/x - 1) - x^3/(x*y + y^2/x) + 2*x*y/(2*x*y + 2*y^2/x - 1) - 2*x*y/(x*y + y^2/x) - y^2/((x*y + y^2/x)*x))*(2*x*y + 2*y^2/x - 1)) - 2*(4*(x + 2*y/x)*x^3/(2*x*y + 2*y^2/x - 1)^2 - (x + 2*y/x)*x^3/(x*y + y^2/x)^2 + 4*(x + 2*y/x)*x*y/(2*x*y + 2*y^2/x - 1)^2 - 2*(x + 2*y/x)*x*y/(x*y + y^2/x)^2 - 2*x/(2*x*y + 2*y^2/x - 1) + 2*x/(x*y + y^2/x) - (x + 2*y/x)*y^2/((x*y + y^2/x)^2*x) + 2*y/((x*y + y^2/x)*x))*x^6*y*diff(w(x, y), x)/((x^2*y^2 + 2*y^3 + y^4/x^2)*(2*x^3/(2*x*y + 2*y^2/x - 1) - x^3/(x*y + y^2/x) + 2*x*y/(2*x*y + 2*y^2/x - 1) - 2*x*y/(x*y + y^2/x) - y^2/((x*y + y^2/x)*x))^2*(2*x*y + 2*y^2/x - 1)) + 4*(x + 2*y/x)*x^6*y*diff(w(x, y), x)/((x^2*y^2 + 2*y^3 + y^4/x^2)*(2*x^3/(2*x*y + 2*y^2/x - 1) - x^3/(x*y + y^2/x) + 2*x*y/(2*x*y + 2*y^2/x - 1) - 2*x*y/(x*y + y^2/x) - y^2/((x*y + y^2/x)*x))*(2*x*y + 2*y^2/x - 1)^2) - 2*x^6*y*diff(w(x, y), x, y)/((x^2*y^2 + 2*y^3 + y^4/x^2)*(2*x^3/(2*x*y + 2*y^2/x - 1) - x^3/(x*y + y^2/x) + 2*x*y/(2*x*y + 2*y^2/x - 1) - 2*x*y/(x*y + y^2/x) - y^2/((x*y + y^2/x)*x))*(2*x*y + 2*y^2/x - 1)) - 2*x^6*diff(w(x, y), x)/((x^2*y^2 + 2*y^3 + y^4/x^2)*(2*x^3/(2*x*y + 2*y^2/x - 1) - x^3/(x*y + y^2/x) + 2*x*y/(2*x*y + 2*y^2/x - 1) - 2*x*y/(x*y + y^2/x) - y^2/((x*y + y^2/x)*x))*(2*x*y + 2*y^2/x - 1)) + 2*x^3*y*diff(w(x, y), x, y)/((2*x*y + 2*y^2/x - 1)*(x*y + y^2/x)) - 2*x^3*(y - y^2/x^2)*y*diff(w(x, y), y)/((2*x*y + 2*y^2/x - 1)*(x*y + y^2/x)^2) - 4*x^3*(y - y^2/x^2)*y*diff(w(x, y), y)/((2*x*y + 2*y^2/x - 1)^2*(x*y + y^2/x)) + 2*x^3*(y - y^2/x^2)*w(x, y)/((2*x*y + 2*y^2/x - 1)*(x*y + y^2/x)^2) + 4*x^3*(y - y^2/x^2)*w(x, y)/((2*x*y + 2*y^2/x - 1)^2*(x*y + y^2/x)) - 2*x^3*diff(w(x, y), x)/((2*x*y + 2*y^2/x - 1)*(x*y + y^2/x)) - 2*x^2*(y - y^2/x^2)*y*diff(w(x, y), x)/(x*y + y^2/x)^3 + x^2*y*diff(w(x, y), x, x)/(x*y + y^2/x)^2 + 6*x^2*y*diff(w(x, y), y)/((2*x*y + 2*y^2/x - 1)*(x*y + y^2/x)) - 6*x^2*w(x, y)/((2*x*y + 2*y^2/x - 1)*(x*y + y^2/x)) + 2*x*y*diff(w(x, y), x)/(x*y + y^2/x)^2 to result\n"
     ]
    },
    {
     "data": {
      "text/latex": [
       "$\\displaystyle  w_{x}+\\frac{2 \\, {\\left(x^{11} y + 20 \\, x^{3} y^{8} + 4 \\, x y^{9} + 4 \\, {\\left(10 \\, x^{5} - x^{2}\\right)} y^{7} + 18 \\, {\\left(2 \\, x^{7} - x^{4}\\right)} y^{6} + {\\left(8 \\, x^{9} - 32 \\, x^{6} + x^{3}\\right)} y^{5} - 4 \\, {\\left(2 \\, x^{11} + 7 \\, x^{8} - x^{5}\\right)} y^{4} - 2 \\, {\\left(2 \\, x^{13} + 6 \\, x^{10} - 3 \\, x^{7}\\right)} y^{3} - 2 \\, {\\left(x^{12} - 2 \\, x^{9}\\right)} y^{2}\\right)}}{40 \\, x^{2} y^{8} - 2 \\, x^{9} + 8 \\, y^{9} + 4 \\, {\\left(20 \\, x^{4} - 3 \\, x\\right)} y^{7} + 4 \\, {\\left(22 \\, x^{6} - 13 \\, x^{3}\\right)} y^{6} + 2 \\, {\\left(32 \\, x^{8} - 44 \\, x^{5} + 3 \\, x^{2}\\right)} y^{5} + 2 \\, {\\left(16 \\, x^{10} - 42 \\, x^{7} + 11 \\, x^{4}\\right)} y^{4} + {\\left(8 \\, x^{12} - 52 \\, x^{9} + 30 \\, x^{6} - x^{3}\\right)} y^{3} - {\\left(16 \\, x^{11} - 24 \\, x^{8} + 3 \\, x^{5}\\right)} y^{2} + {\\left(10 \\, x^{10} - 3 \\, x^{7}\\right)} y} w_{y}-\\frac{2 \\, {\\left(x^{11} + 20 \\, x^{3} y^{7} + 4 \\, x y^{8} + 4 \\, {\\left(10 \\, x^{5} - x^{2}\\right)} y^{6} + 18 \\, {\\left(2 \\, x^{7} - x^{4}\\right)} y^{5} + {\\left(8 \\, x^{9} - 32 \\, x^{6} + x^{3}\\right)} y^{4} - 4 \\, {\\left(2 \\, x^{11} + 7 \\, x^{8} - x^{5}\\right)} y^{3} - 2 \\, {\\left(2 \\, x^{13} + 6 \\, x^{10} - 3 \\, x^{7}\\right)} y^{2} - 2 \\, {\\left(x^{12} - 2 \\, x^{9}\\right)} y\\right)}}{40 \\, x^{2} y^{8} - 2 \\, x^{9} + 8 \\, y^{9} + 4 \\, {\\left(20 \\, x^{4} - 3 \\, x\\right)} y^{7} + 4 \\, {\\left(22 \\, x^{6} - 13 \\, x^{3}\\right)} y^{6} + 2 \\, {\\left(32 \\, x^{8} - 44 \\, x^{5} + 3 \\, x^{2}\\right)} y^{5} + 2 \\, {\\left(16 \\, x^{10} - 42 \\, x^{7} + 11 \\, x^{4}\\right)} y^{4} + {\\left(8 \\, x^{12} - 52 \\, x^{9} + 30 \\, x^{6} - x^{3}\\right)} y^{3} - {\\left(16 \\, x^{11} - 24 \\, x^{8} + 3 \\, x^{5}\\right)} y^{2} + {\\left(10 \\, x^{10} - 3 \\, x^{7}\\right)} y} w$"
      ],
      "text/plain": [
       "<IPython.core.display.Math object>"
      ]
     },
     "metadata": {},
     "output_type": "display_data"
    },
    {
     "data": {
      "text/latex": [
       "$\\displaystyle  w_{x}+\\frac{2 \\, {\\left(x^{3} y + x y^{2}\\right)}}{2 \\, x^{2} y + 2 \\, y^{2} - x} w_{y}-\\frac{2 \\, {\\left(x^{3} + x y\\right)}}{2 \\, x^{2} y + 2 \\, y^{2} - x} w$"
      ],
      "text/plain": [
       "<IPython.core.display.Math object>"
      ]
     },
     "metadata": {},
     "output_type": "display_data"
    },
    {
     "data": {
      "text/latex": [
       "$\\displaystyle  w_{x}+\\frac{2 \\, {\\left(8 \\, x^{3} y^{5} + 4 \\, x y^{6} + x^{5} y + x^{3} y^{2} - 4 \\, {\\left(x^{6} - x^{5} + x^{2}\\right)} y^{4} - 4 \\, {\\left(x^{8} + x^{4}\\right)} y^{3}\\right)}}{16 \\, x^{2} y^{5} + 8 \\, y^{6} + 2 \\, x^{4} y + 4 \\, {\\left(2 \\, x^{5} + 2 \\, x^{4} - 3 \\, x\\right)} y^{4} + 6 \\, x^{2} y^{2} + 4 \\, {\\left(2 \\, x^{7} - 3 \\, x^{3}\\right)} y^{3} - x^{3}} w_{y}-\\frac{2 \\, {\\left(8 \\, x^{3} y^{4} + 4 \\, x y^{5} + x^{5} + x^{3} y - 4 \\, {\\left(x^{6} - x^{5} + x^{2}\\right)} y^{3} - 4 \\, {\\left(x^{8} + x^{4}\\right)} y^{2}\\right)}}{16 \\, x^{2} y^{5} + 8 \\, y^{6} + 2 \\, x^{4} y + 4 \\, {\\left(2 \\, x^{5} + 2 \\, x^{4} - 3 \\, x\\right)} y^{4} + 6 \\, x^{2} y^{2} + 4 \\, {\\left(2 \\, x^{7} - 3 \\, x^{3}\\right)} y^{3} - x^{3}} w$"
      ],
      "text/plain": [
       "<IPython.core.display.Math object>"
      ]
     },
     "metadata": {},
     "output_type": "display_data"
    },
    {
     "data": {
      "text/latex": [
       "$\\displaystyle  z_{y}+\\frac{2 \\, {\\left(x^{2} y + y^{2}\\right)}}{x} w_{y}-\\frac{2 \\, {\\left(x^{2} + y\\right)}}{x} w$"
      ],
      "text/plain": [
       "<IPython.core.display.Math object>"
      ]
     },
     "metadata": {},
     "output_type": "display_data"
    },
    {
     "data": {
      "text/latex": [
       "$\\displaystyle  z_{x}+\\frac{2 \\, x^{2} y^{2} - x^{3} + 2 \\, y^{3} - x y}{2 \\, x^{2} y^{2} + 2 \\, y^{3} - x y} w_{x}+\\frac{4 \\, x^{6} + 2 \\, x^{3} + 2 \\, x y^{2} + 4 \\, y^{3} - x^{2} + 2 \\, {\\left(x^{3} - x\\right)} y}{2 \\, {\\left(2 \\, x^{3} y + 2 \\, x y^{2} - x^{2}\\right)}} w_{y}-\\frac{2 \\, x^{6} + x^{3} + 2 \\, y^{3} - x y}{2 \\, x^{3} y^{2} + 2 \\, x y^{3} - x^{2} y} w$"
      ],
      "text/plain": [
       "<IPython.core.display.Math object>"
      ]
     },
     "metadata": {},
     "output_type": "display_data"
    },
    {
     "data": {
      "text/latex": [
       "$\\displaystyle  w_{y,y}+(\\frac{2 \\, {\\left(2 \\, x^{2} y^{2} - x^{3} + 2 \\, y^{3} - x y\\right)}}{2 \\, x^{3} y + 2 \\, x y^{2} - x^{2}}) w_{x}+(\\frac{2 \\, x^{4} y - 4 \\, y^{5} + 2 \\, x y^{3} - x^{3} - 2 \\, {\\left(2 \\, x^{6} + x^{3} - x^{2}\\right)} y^{2}}{2 \\, x^{4} y^{2} + 2 \\, x^{2} y^{3} - x^{3} y}) w_{y}+(\\frac{2 \\, x^{4} y - 4 \\, y^{5} + 2 \\, x y^{3} - x^{3} - 2 \\, {\\left(2 \\, x^{6} + x^{3} - x^{2}\\right)} y^{2}}{2 \\, x^{4} y^{3} + 2 \\, x^{2} y^{4} - x^{3} y^{2}}) w$"
      ],
      "text/plain": [
       "<IPython.core.display.Math object>"
      ]
     },
     "metadata": {},
     "output_type": "display_data"
    },
    {
     "data": {
      "text/latex": [
       "$\\displaystyle  w_{x,y}+(\\frac{2 \\, x^{4} - 2 \\, y^{2} + x}{4 \\, x^{2} y^{2} - x^{3} + 2 \\, y^{3} + {\\left(2 \\, x^{4} - x\\right)} y}) w_{x}+(\\frac{4 \\, x^{6} + 2 \\, {\\left(2 \\, x^{2} + x\\right)} y^{2} + 4 \\, y^{3} - x^{2} + 2 \\, {\\left(2 \\, x^{4} + x^{3} - x\\right)} y}{2 \\, {\\left(4 \\, x^{3} y^{2} - x^{4} + 2 \\, x y^{3} + {\\left(2 \\, x^{5} - x^{2}\\right)} y\\right)}}) w_{y}+(\\frac{2 \\, x^{6} + 2 \\, x^{2} y^{2} + 2 \\, y^{3} + {\\left(2 \\, x^{4} - x\\right)} y}{4 \\, x^{3} y^{3} - x^{4} y + 2 \\, x y^{4} + {\\left(2 \\, x^{5} - x^{2}\\right)} y^{2}}) w$"
      ],
      "text/plain": [
       "<IPython.core.display.Math object>"
      ]
     },
     "metadata": {},
     "output_type": "display_data"
    },
    {
     "data": {
      "text/latex": [
       "$\\displaystyle  w_{x,x}+(\\frac{2 \\, x^{11} + 2 \\, x^{9} y - 2 \\, x^{5} y^{3} - 2 \\, x^{3} y^{4} + x^{4} y^{2}}{x^{9} + 4 \\, x^{7} y - 8 \\, x^{2} y^{5} - 2 \\, y^{6} - {\\left(12 \\, x^{4} - x\\right)} y^{4} - 4 \\, {\\left(2 \\, x^{6} - x^{3}\\right)} y^{3} - 2 \\, {\\left(x^{8} - 3 \\, x^{5}\\right)} y^{2}}) w_{x}+(\\frac{2 \\, {\\left(2 \\, x^{12} y + 2 \\, x^{10} y^{2} - 2 \\, x^{6} y^{4} - 2 \\, x^{4} y^{5} + x^{5} y^{3}\\right)}}{x^{8} + 16 \\, x^{2} y^{6} + 4 \\, y^{7} + 4 \\, {\\left(6 \\, x^{4} - x\\right)} y^{5} + 2 \\, {\\left(8 \\, x^{6} - 7 \\, x^{3}\\right)} y^{4} + {\\left(4 \\, x^{8} - 18 \\, x^{5} + x^{2}\\right)} y^{3} - {\\left(10 \\, x^{7} - 3 \\, x^{4}\\right)} y^{2} - {\\left(2 \\, x^{9} - 3 \\, x^{6}\\right)} y}) w_{y}+(\\frac{2 \\, {\\left(2 \\, x^{12} + 2 \\, x^{10} y - 2 \\, x^{6} y^{3} - 2 \\, x^{4} y^{4} + x^{5} y^{2}\\right)}}{x^{8} + 16 \\, x^{2} y^{6} + 4 \\, y^{7} + 4 \\, {\\left(6 \\, x^{4} - x\\right)} y^{5} + 2 \\, {\\left(8 \\, x^{6} - 7 \\, x^{3}\\right)} y^{4} + {\\left(4 \\, x^{8} - 18 \\, x^{5} + x^{2}\\right)} y^{3} - {\\left(10 \\, x^{7} - 3 \\, x^{4}\\right)} y^{2} - {\\left(2 \\, x^{9} - 3 \\, x^{6}\\right)} y}) w$"
      ],
      "text/plain": [
       "<IPython.core.display.Math object>"
      ]
     },
     "metadata": {},
     "output_type": "display_data"
    },
    {
     "name": "stdout",
     "output_type": "stream",
     "text": [
      "****************************************************************************************\n",
      "This is where we start, loop=2\n"
     ]
    },
    {
     "data": {
      "text/latex": [
       "$\\displaystyle  w_{x}+\\frac{2 \\, {\\left(x^{11} y + 20 \\, x^{3} y^{8} + 4 \\, x y^{9} + 4 \\, {\\left(10 \\, x^{5} - x^{2}\\right)} y^{7} + 18 \\, {\\left(2 \\, x^{7} - x^{4}\\right)} y^{6} + {\\left(8 \\, x^{9} - 32 \\, x^{6} + x^{3}\\right)} y^{5} - 4 \\, {\\left(2 \\, x^{11} + 7 \\, x^{8} - x^{5}\\right)} y^{4} - 2 \\, {\\left(2 \\, x^{13} + 6 \\, x^{10} - 3 \\, x^{7}\\right)} y^{3} - 2 \\, {\\left(x^{12} - 2 \\, x^{9}\\right)} y^{2}\\right)}}{40 \\, x^{2} y^{8} - 2 \\, x^{9} + 8 \\, y^{9} + 4 \\, {\\left(20 \\, x^{4} - 3 \\, x\\right)} y^{7} + 4 \\, {\\left(22 \\, x^{6} - 13 \\, x^{3}\\right)} y^{6} + 2 \\, {\\left(32 \\, x^{8} - 44 \\, x^{5} + 3 \\, x^{2}\\right)} y^{5} + 2 \\, {\\left(16 \\, x^{10} - 42 \\, x^{7} + 11 \\, x^{4}\\right)} y^{4} + {\\left(8 \\, x^{12} - 52 \\, x^{9} + 30 \\, x^{6} - x^{3}\\right)} y^{3} - {\\left(16 \\, x^{11} - 24 \\, x^{8} + 3 \\, x^{5}\\right)} y^{2} + {\\left(10 \\, x^{10} - 3 \\, x^{7}\\right)} y} w_{y}-\\frac{2 \\, {\\left(x^{11} + 20 \\, x^{3} y^{7} + 4 \\, x y^{8} + 4 \\, {\\left(10 \\, x^{5} - x^{2}\\right)} y^{6} + 18 \\, {\\left(2 \\, x^{7} - x^{4}\\right)} y^{5} + {\\left(8 \\, x^{9} - 32 \\, x^{6} + x^{3}\\right)} y^{4} - 4 \\, {\\left(2 \\, x^{11} + 7 \\, x^{8} - x^{5}\\right)} y^{3} - 2 \\, {\\left(2 \\, x^{13} + 6 \\, x^{10} - 3 \\, x^{7}\\right)} y^{2} - 2 \\, {\\left(x^{12} - 2 \\, x^{9}\\right)} y\\right)}}{40 \\, x^{2} y^{8} - 2 \\, x^{9} + 8 \\, y^{9} + 4 \\, {\\left(20 \\, x^{4} - 3 \\, x\\right)} y^{7} + 4 \\, {\\left(22 \\, x^{6} - 13 \\, x^{3}\\right)} y^{6} + 2 \\, {\\left(32 \\, x^{8} - 44 \\, x^{5} + 3 \\, x^{2}\\right)} y^{5} + 2 \\, {\\left(16 \\, x^{10} - 42 \\, x^{7} + 11 \\, x^{4}\\right)} y^{4} + {\\left(8 \\, x^{12} - 52 \\, x^{9} + 30 \\, x^{6} - x^{3}\\right)} y^{3} - {\\left(16 \\, x^{11} - 24 \\, x^{8} + 3 \\, x^{5}\\right)} y^{2} + {\\left(10 \\, x^{10} - 3 \\, x^{7}\\right)} y} w$"
      ],
      "text/plain": [
       "<IPython.core.display.Math object>"
      ]
     },
     "metadata": {},
     "output_type": "display_data"
    },
    {
     "data": {
      "text/latex": [
       "$\\displaystyle  w_{x}+\\frac{2 \\, {\\left(x^{3} y + x y^{2}\\right)}}{2 \\, x^{2} y + 2 \\, y^{2} - x} w_{y}-\\frac{2 \\, {\\left(x^{3} + x y\\right)}}{2 \\, x^{2} y + 2 \\, y^{2} - x} w$"
      ],
      "text/plain": [
       "<IPython.core.display.Math object>"
      ]
     },
     "metadata": {},
     "output_type": "display_data"
    },
    {
     "data": {
      "text/latex": [
       "$\\displaystyle  w_{x}+\\frac{2 \\, {\\left(8 \\, x^{3} y^{5} + 4 \\, x y^{6} + x^{5} y + x^{3} y^{2} - 4 \\, {\\left(x^{6} - x^{5} + x^{2}\\right)} y^{4} - 4 \\, {\\left(x^{8} + x^{4}\\right)} y^{3}\\right)}}{16 \\, x^{2} y^{5} + 8 \\, y^{6} + 2 \\, x^{4} y + 4 \\, {\\left(2 \\, x^{5} + 2 \\, x^{4} - 3 \\, x\\right)} y^{4} + 6 \\, x^{2} y^{2} + 4 \\, {\\left(2 \\, x^{7} - 3 \\, x^{3}\\right)} y^{3} - x^{3}} w_{y}-\\frac{2 \\, {\\left(8 \\, x^{3} y^{4} + 4 \\, x y^{5} + x^{5} + x^{3} y - 4 \\, {\\left(x^{6} - x^{5} + x^{2}\\right)} y^{3} - 4 \\, {\\left(x^{8} + x^{4}\\right)} y^{2}\\right)}}{16 \\, x^{2} y^{5} + 8 \\, y^{6} + 2 \\, x^{4} y + 4 \\, {\\left(2 \\, x^{5} + 2 \\, x^{4} - 3 \\, x\\right)} y^{4} + 6 \\, x^{2} y^{2} + 4 \\, {\\left(2 \\, x^{7} - 3 \\, x^{3}\\right)} y^{3} - x^{3}} w$"
      ],
      "text/plain": [
       "<IPython.core.display.Math object>"
      ]
     },
     "metadata": {},
     "output_type": "display_data"
    },
    {
     "data": {
      "text/latex": [
       "$\\displaystyle  z_{y}+\\frac{2 \\, {\\left(x^{2} y + y^{2}\\right)}}{x} w_{y}-\\frac{2 \\, {\\left(x^{2} + y\\right)}}{x} w$"
      ],
      "text/plain": [
       "<IPython.core.display.Math object>"
      ]
     },
     "metadata": {},
     "output_type": "display_data"
    },
    {
     "data": {
      "text/latex": [
       "$\\displaystyle  z_{x}+\\frac{2 \\, x^{2} y^{2} - x^{3} + 2 \\, y^{3} - x y}{2 \\, x^{2} y^{2} + 2 \\, y^{3} - x y} w_{x}+\\frac{4 \\, x^{6} + 2 \\, x^{3} + 2 \\, x y^{2} + 4 \\, y^{3} - x^{2} + 2 \\, {\\left(x^{3} - x\\right)} y}{2 \\, {\\left(2 \\, x^{3} y + 2 \\, x y^{2} - x^{2}\\right)}} w_{y}-\\frac{2 \\, x^{6} + x^{3} + 2 \\, y^{3} - x y}{2 \\, x^{3} y^{2} + 2 \\, x y^{3} - x^{2} y} w$"
      ],
      "text/plain": [
       "<IPython.core.display.Math object>"
      ]
     },
     "metadata": {},
     "output_type": "display_data"
    },
    {
     "data": {
      "text/latex": [
       "$\\displaystyle  w_{y,y}+(\\frac{2 \\, {\\left(2 \\, x^{2} y^{2} - x^{3} + 2 \\, y^{3} - x y\\right)}}{2 \\, x^{3} y + 2 \\, x y^{2} - x^{2}}) w_{x}+(\\frac{2 \\, x^{4} y - 4 \\, y^{5} + 2 \\, x y^{3} - x^{3} - 2 \\, {\\left(2 \\, x^{6} + x^{3} - x^{2}\\right)} y^{2}}{2 \\, x^{4} y^{2} + 2 \\, x^{2} y^{3} - x^{3} y}) w_{y}+(\\frac{2 \\, x^{4} y - 4 \\, y^{5} + 2 \\, x y^{3} - x^{3} - 2 \\, {\\left(2 \\, x^{6} + x^{3} - x^{2}\\right)} y^{2}}{2 \\, x^{4} y^{3} + 2 \\, x^{2} y^{4} - x^{3} y^{2}}) w$"
      ],
      "text/plain": [
       "<IPython.core.display.Math object>"
      ]
     },
     "metadata": {},
     "output_type": "display_data"
    },
    {
     "data": {
      "text/latex": [
       "$\\displaystyle  w_{x,y}+(\\frac{2 \\, x^{4} - 2 \\, y^{2} + x}{4 \\, x^{2} y^{2} - x^{3} + 2 \\, y^{3} + {\\left(2 \\, x^{4} - x\\right)} y}) w_{x}+(\\frac{4 \\, x^{6} + 2 \\, {\\left(2 \\, x^{2} + x\\right)} y^{2} + 4 \\, y^{3} - x^{2} + 2 \\, {\\left(2 \\, x^{4} + x^{3} - x\\right)} y}{2 \\, {\\left(4 \\, x^{3} y^{2} - x^{4} + 2 \\, x y^{3} + {\\left(2 \\, x^{5} - x^{2}\\right)} y\\right)}}) w_{y}+(\\frac{2 \\, x^{6} + 2 \\, x^{2} y^{2} + 2 \\, y^{3} + {\\left(2 \\, x^{4} - x\\right)} y}{4 \\, x^{3} y^{3} - x^{4} y + 2 \\, x y^{4} + {\\left(2 \\, x^{5} - x^{2}\\right)} y^{2}}) w$"
      ],
      "text/plain": [
       "<IPython.core.display.Math object>"
      ]
     },
     "metadata": {},
     "output_type": "display_data"
    },
    {
     "data": {
      "text/latex": [
       "$\\displaystyle  w_{x,x}+(\\frac{2 \\, x^{11} + 2 \\, x^{9} y - 2 \\, x^{5} y^{3} - 2 \\, x^{3} y^{4} + x^{4} y^{2}}{x^{9} + 4 \\, x^{7} y - 8 \\, x^{2} y^{5} - 2 \\, y^{6} - {\\left(12 \\, x^{4} - x\\right)} y^{4} - 4 \\, {\\left(2 \\, x^{6} - x^{3}\\right)} y^{3} - 2 \\, {\\left(x^{8} - 3 \\, x^{5}\\right)} y^{2}}) w_{x}+(\\frac{2 \\, {\\left(2 \\, x^{12} y + 2 \\, x^{10} y^{2} - 2 \\, x^{6} y^{4} - 2 \\, x^{4} y^{5} + x^{5} y^{3}\\right)}}{x^{8} + 16 \\, x^{2} y^{6} + 4 \\, y^{7} + 4 \\, {\\left(6 \\, x^{4} - x\\right)} y^{5} + 2 \\, {\\left(8 \\, x^{6} - 7 \\, x^{3}\\right)} y^{4} + {\\left(4 \\, x^{8} - 18 \\, x^{5} + x^{2}\\right)} y^{3} - {\\left(10 \\, x^{7} - 3 \\, x^{4}\\right)} y^{2} - {\\left(2 \\, x^{9} - 3 \\, x^{6}\\right)} y}) w_{y}+(\\frac{2 \\, {\\left(2 \\, x^{12} + 2 \\, x^{10} y - 2 \\, x^{6} y^{3} - 2 \\, x^{4} y^{4} + x^{5} y^{2}\\right)}}{x^{8} + 16 \\, x^{2} y^{6} + 4 \\, y^{7} + 4 \\, {\\left(6 \\, x^{4} - x\\right)} y^{5} + 2 \\, {\\left(8 \\, x^{6} - 7 \\, x^{3}\\right)} y^{4} + {\\left(4 \\, x^{8} - 18 \\, x^{5} + x^{2}\\right)} y^{3} - {\\left(10 \\, x^{7} - 3 \\, x^{4}\\right)} y^{2} - {\\left(2 \\, x^{9} - 3 \\, x^{6}\\right)} y}) w$"
      ],
      "text/plain": [
       "<IPython.core.display.Math object>"
      ]
     },
     "metadata": {},
     "output_type": "display_data"
    },
    {
     "ename": "KeyboardInterrupt",
     "evalue": "ECL says: Console interrupt.",
     "output_type": "error",
     "traceback": [
      "\u001b[0;31m---------------------------------------------------------------------------\u001b[0m",
      "\u001b[0;31mKeyboardInterrupt\u001b[0m                         Traceback (most recent call last)",
      "Cell \u001b[0;32mIn[2], line 1\u001b[0m\n\u001b[0;32m----> 1\u001b[0m jb \u001b[38;5;241m=\u001b[39m \u001b[43mJanet_Basis\u001b[49m\u001b[43m(\u001b[49m\u001b[43msystem_2_24\u001b[49m\u001b[43m,\u001b[49m\u001b[43m \u001b[49m\u001b[43m[\u001b[49m\u001b[43mz\u001b[49m\u001b[43m,\u001b[49m\u001b[43mw\u001b[49m\u001b[43m]\u001b[49m\u001b[43m,\u001b[49m\u001b[43m \u001b[49m\u001b[43m[\u001b[49m\u001b[43mx\u001b[49m\u001b[43m,\u001b[49m\u001b[43my\u001b[49m\u001b[43m]\u001b[49m\u001b[43m,\u001b[49m\u001b[43m \u001b[49m\u001b[43mMgrevlex\u001b[49m\u001b[43m)\u001b[49m\n\u001b[1;32m      2\u001b[0m jb\u001b[38;5;241m.\u001b[39mshow(rich\u001b[38;5;241m=\u001b[39m\u001b[38;5;28;01mTrue\u001b[39;00m)\n",
      "File \u001b[0;32m~/research-disk/delierium/src/delierium/JanetBasis.py:970\u001b[0m, in \u001b[0;36mJanet_Basis.__init__\u001b[0;34m(self, S, dependent, independent, sort_order)\u001b[0m\n\u001b[1;32m    968\u001b[0m \u001b[38;5;28mprint\u001b[39m(\u001b[38;5;124mf\u001b[39m\u001b[38;5;124m\"\u001b[39m\u001b[38;5;124mThis is where we start, \u001b[39m\u001b[38;5;132;01m{\u001b[39;00mloop\u001b[38;5;132;01m=}\u001b[39;00m\u001b[38;5;124m\"\u001b[39m)\n\u001b[1;32m    969\u001b[0m \u001b[38;5;28mself\u001b[39m\u001b[38;5;241m.\u001b[39mshow(rich\u001b[38;5;241m=\u001b[39m\u001b[38;5;28;01mTrue\u001b[39;00m)\n\u001b[0;32m--> 970\u001b[0m \u001b[38;5;28mself\u001b[39m\u001b[38;5;241m.\u001b[39mS \u001b[38;5;241m=\u001b[39m \u001b[43mAutoreduce\u001b[49m\u001b[43m(\u001b[49m\u001b[38;5;28;43mself\u001b[39;49m\u001b[38;5;241;43m.\u001b[39;49m\u001b[43mS\u001b[49m\u001b[43m,\u001b[49m\u001b[43m \u001b[49m\u001b[43mcontext\u001b[49m\u001b[43m)\u001b[49m\n\u001b[1;32m    971\u001b[0m \u001b[38;5;28mprint\u001b[39m(\u001b[38;5;124m\"\u001b[39m\u001b[38;5;124mafter autoreduce\u001b[39m\u001b[38;5;124m\"\u001b[39m)\n\u001b[1;32m    972\u001b[0m \u001b[38;5;28mself\u001b[39m\u001b[38;5;241m.\u001b[39mshow(rich\u001b[38;5;241m=\u001b[39m\u001b[38;5;28;01mTrue\u001b[39;00m)\n",
      "File \u001b[0;32m~/research-disk/delierium/src/delierium/JanetBasis.py:562\u001b[0m, in \u001b[0;36mAutoreduce\u001b[0;34m(S, context)\u001b[0m\n\u001b[1;32m    560\u001b[0m \u001b[38;5;28;01mwhile\u001b[39;00m r:\n\u001b[1;32m    561\u001b[0m     newdps \u001b[38;5;241m=\u001b[39m []\n\u001b[0;32m--> 562\u001b[0m     have_reduced \u001b[38;5;241m=\u001b[39m \u001b[38;5;28;01mFalse\u001b[39;00m\n\u001b[1;32m    563\u001b[0m     \u001b[38;5;28;01mfor\u001b[39;00m _r \u001b[38;5;129;01min\u001b[39;00m r:\n\u001b[1;32m    564\u001b[0m         rnew \u001b[38;5;241m=\u001b[39m reduceS(_r, _p, context)\n",
      "File \u001b[0;32m~/research-disk/delierium/src/delierium/JanetBasis.py:446\u001b[0m, in \u001b[0;36mreduceS\u001b[0;34m(e, S, context)\u001b[0m\n\u001b[1;32m    444\u001b[0m reducing \u001b[38;5;241m=\u001b[39m \u001b[38;5;28;01mTrue\u001b[39;00m\n\u001b[1;32m    445\u001b[0m gen \u001b[38;5;241m=\u001b[39m [_ \u001b[38;5;28;01mfor\u001b[39;00m _ \u001b[38;5;129;01min\u001b[39;00m S]\n\u001b[0;32m--> 446\u001b[0m \u001b[38;5;28;01mwhile\u001b[39;00m reducing:\n\u001b[1;32m    447\u001b[0m     \u001b[38;5;28;01mfor\u001b[39;00m dp \u001b[38;5;129;01min\u001b[39;00m gen:\n\u001b[1;32m    448\u001b[0m         enew \u001b[38;5;241m=\u001b[39m reduce(e, dp, context)\n",
      "File \u001b[0;32m~/research-disk/delierium/src/delierium/JanetBasis.py:519\u001b[0m, in \u001b[0;36mreduce\u001b[0;34m(e1, e2, context)\u001b[0m\n\u001b[1;32m    498\u001b[0m \u001b[38;5;28;01mdef\u001b[39;00m \u001b[38;5;21mreduce\u001b[39m(e1: _Differential_Polynomial, e2: _Differential_Polynomial,\n\u001b[1;32m    499\u001b[0m            context: Context) \u001b[38;5;241m-\u001b[39m\u001b[38;5;241m>\u001b[39m _Differential_Polynomial:\n\u001b[1;32m    500\u001b[0m \u001b[38;5;250m    \u001b[39m\u001b[38;5;124;03m\"\"\"\u001b[39;00m\n\u001b[1;32m    501\u001b[0m \u001b[38;5;124;03m    Algorithm 2.4 from Schwarz, p.48\u001b[39;00m\n\u001b[1;32m    502\u001b[0m \u001b[38;5;124;03m    >>> # Example 2.33(f1), p.48\u001b[39;00m\n\u001b[1;32m    503\u001b[0m \u001b[38;5;124;03m    >>> x, y = var(\"x y\")\u001b[39;00m\n\u001b[1;32m    504\u001b[0m \u001b[38;5;124;03m    >>> z = function(\"z\")(x,y)\u001b[39;00m\n\u001b[1;32m    505\u001b[0m \u001b[38;5;124;03m    >>> ctx = Context([z], [x,y])\u001b[39;00m\n\u001b[1;32m    506\u001b[0m \u001b[38;5;124;03m    >>> e1 = _Differential_Polynomial(diff(z,y) - (x**2)*diff(z, x)/(y**2) - (x-y)*z/(y**2), ctx)\u001b[39;00m\n\u001b[1;32m    507\u001b[0m \u001b[38;5;124;03m    >>> f1 = _Differential_Polynomial(diff(z,x) + z/x, ctx)\u001b[39;00m\n\u001b[1;32m    508\u001b[0m \u001b[38;5;124;03m    >>> print(_reduce_inner(e1, f1, ctx))\u001b[39;00m\n\u001b[1;32m    509\u001b[0m \u001b[38;5;124;03m    diff(z(x, y), y) + (1/y) * z(x, y), [], []\u001b[39;00m\n\u001b[1;32m    510\u001b[0m \u001b[38;5;124;03m    >>> from delierium.helpers import eq\u001b[39;00m\n\u001b[1;32m    511\u001b[0m \u001b[38;5;124;03m    >>> # eq.cache_clear()\u001b[39;00m\n\u001b[1;32m    512\u001b[0m \u001b[38;5;124;03m    >>> # Example 2.33(f2), p.48\u001b[39;00m\n\u001b[1;32m    513\u001b[0m \u001b[38;5;124;03m    >>> x, y = var(\"x y\")\u001b[39;00m\n\u001b[1;32m    514\u001b[0m \u001b[38;5;124;03m    >>> z = function(\"z\")(x,y)\u001b[39;00m\n\u001b[1;32m    515\u001b[0m \u001b[38;5;124;03m    >>> ctx = Context([z], [x,y])\u001b[39;00m\n\u001b[1;32m    516\u001b[0m \u001b[38;5;124;03m    >>> e1 = _Differential_Polynomial(diff(z,y) - (x**2)*diff(z, x)/(y**2) - (x-y)*z/(y**2), ctx)\u001b[39;00m\n\u001b[1;32m    517\u001b[0m \u001b[38;5;124;03m    >>> f2 = _Differential_Polynomial(diff(z,y) + z/y, ctx)\u001b[39;00m\n\u001b[1;32m    518\u001b[0m \u001b[38;5;124;03m    >>> print(_reduce_inner(e1, f2, ctx))\u001b[39;00m\n\u001b[0;32m--> 519\u001b[0m \u001b[38;5;124;03m    diff(z(x, y), x) + (1/x) * z(x, y), [], []\u001b[39;00m\n\u001b[1;32m    520\u001b[0m \u001b[38;5;124;03m    \"\"\"\u001b[39;00m\n\u001b[1;32m    521\u001b[0m     \u001b[38;5;28;01mwhile\u001b[39;00m \u001b[38;5;129;01mnot\u001b[39;00m \u001b[38;5;28mbool\u001b[39m((_e1 \u001b[38;5;241m:=\u001b[39m _reduce_inner(e1, e2, context)) \u001b[38;5;241m==\u001b[39m e1):\n\u001b[1;32m    522\u001b[0m \u001b[38;5;66;03m#        print(\"  after _reduce_inner: \")\u001b[39;00m\n\u001b[1;32m    523\u001b[0m \u001b[38;5;66;03m#        display(Math(e1.show(rich=True)))\u001b[39;00m\n\u001b[1;32m    524\u001b[0m \u001b[38;5;66;03m#        display(Math(e2.show(rich=True)))\u001b[39;00m\n\u001b[1;32m    525\u001b[0m \u001b[38;5;66;03m#        display(Math(_e1.show(rich=True)))\u001b[39;00m\n\u001b[1;32m    526\u001b[0m         e1 \u001b[38;5;241m=\u001b[39m _e1\n",
      "File \u001b[0;32m~/research-disk/delierium/src/delierium/JanetBasis.py:477\u001b[0m, in \u001b[0;36m_reduce_inner\u001b[0;34m(e1, e2, context)\u001b[0m\n\u001b[1;32m    473\u001b[0m         dif = [a - b for a, b in zip(t.order, e2.order)]\n\u001b[1;32m    474\u001b[0m #        print(f\"   {str(e1)=}\")\n\u001b[1;32m    475\u001b[0m #        print(f\"   {str(e2)=}\")\n\u001b[1;32m    476\u001b[0m         if all(map(lambda h: h == 0, dif)):\n\u001b[0;32m--> 477\u001b[0m             # S2 from Algorithm 2.4\n\u001b[1;32m    478\u001b[0m #            print(f\"   ===> subtract, *{c}\")\n\u001b[1;32m    479\u001b[0m             return _Differential_Polynomial(\n\u001b[1;32m    480\u001b[0m                 e1.expression() - e2.expression() * c, context)\n\u001b[1;32m    481\u001b[0m         if all(map(lambda h: h >= 0, dif)):\n\u001b[1;32m    482\u001b[0m             # S2 from Algorithm 2.4\n\u001b[1;32m    483\u001b[0m             # toDo: as diff also accepts zerozh derivatives we may\n\u001b[1;32m    484\u001b[0m             # unfy these two branches\n",
      "File \u001b[0;32m~/research-disk/delierium/src/delierium/JanetBasis.py:238\u001b[0m, in \u001b[0;36m__init__\u001b[0;34m(self, e, context)\u001b[0m\n\u001b[1;32m    236\u001b[0m \u001b[38;5;28mself\u001b[39m\u001b[38;5;241m.\u001b[39mp \u001b[38;5;241m=\u001b[39m []\n\u001b[1;32m    237\u001b[0m \u001b[38;5;28mself\u001b[39m\u001b[38;5;241m.\u001b[39mmultipliers \u001b[38;5;241m=\u001b[39m []\n\u001b[0;32m--> 238\u001b[0m \u001b[38;5;28mself\u001b[39m\u001b[38;5;241m.\u001b[39mnonmultipliers \u001b[38;5;241m=\u001b[39m []\n\u001b[1;32m    240\u001b[0m \u001b[38;5;28;01mif\u001b[39;00m \u001b[38;5;129;01mnot\u001b[39;00m eq(\u001b[38;5;241m0\u001b[39m, e):\n\u001b[1;32m    241\u001b[0m     \u001b[38;5;28mself\u001b[39m\u001b[38;5;241m.\u001b[39m_init(e\u001b[38;5;241m.\u001b[39mexpand())\n",
      "File \u001b[0;32m~/research-disk/delierium/src/delierium/helpers.py:32\u001b[0m, in \u001b[0;36meq\u001b[0;34m(d1, d2)\u001b[0m\n\u001b[1;32m     25\u001b[0m \u001b[38;5;28;01mdef\u001b[39;00m \u001b[38;5;21meq\u001b[39m(d1, d2):\n\u001b[1;32m     26\u001b[0m \u001b[38;5;250m    \u001b[39m\u001b[38;5;124;03m\"\"\"This cheap trick gives as a lot of performance gain (> 80%!)\u001b[39;00m\n\u001b[1;32m     27\u001b[0m \u001b[38;5;124;03m    because maxima comparisons are expensive,and we can expect\u001b[39;00m\n\u001b[1;32m     28\u001b[0m \u001b[38;5;124;03m    a lot of the same comparisons over and over again.\u001b[39;00m\n\u001b[1;32m     29\u001b[0m \u001b[38;5;124;03m    All other caching is neglegible compared to this here\u001b[39;00m\n\u001b[1;32m     30\u001b[0m \u001b[38;5;124;03m    70 % of the time is spent here!\u001b[39;00m\n\u001b[1;32m     31\u001b[0m \u001b[38;5;124;03m    \"\"\"\u001b[39;00m\n\u001b[0;32m---> 32\u001b[0m     \u001b[38;5;28;01mreturn\u001b[39;00m \u001b[38;5;28mbool\u001b[39m((d1 \u001b[38;5;129;01mis\u001b[39;00m d2) \u001b[38;5;129;01mor\u001b[39;00m (d1 \u001b[38;5;241m==\u001b[39m d2))\n",
      "File \u001b[0;32m~/mambaforge/envs/sage/lib/python3.11/site-packages/sage/symbolic/expression.pyx:3528\u001b[0m, in \u001b[0;36msage.symbolic.expression.Expression.__bool__ (build/cythonized/sage/symbolic/expression.cpp:63865)\u001b[0;34m()\u001b[0m\n\u001b[1;32m   3526\u001b[0m from sage.symbolic.relation import test_relation_maxima\n\u001b[1;32m   3527\u001b[0m if self.variables():\n\u001b[0;32m-> 3528\u001b[0m     return test_relation_maxima(self)\n\u001b[1;32m   3529\u001b[0m else:\n\u001b[1;32m   3530\u001b[0m     return False\n",
      "File \u001b[0;32m~/mambaforge/envs/sage/lib/python3.11/site-packages/sage/symbolic/relation.py:540\u001b[0m, in \u001b[0;36mtest_relation_maxima\u001b[0;34m(relation)\u001b[0m\n\u001b[1;32m    528\u001b[0m     \u001b[38;5;28;01mreturn\u001b[39;00m \u001b[38;5;28;01mTrue\u001b[39;00m\n\u001b[1;32m    530\u001b[0m \u001b[38;5;66;03m# Try to apply some simplifications to see if left - right == 0.\u001b[39;00m\n\u001b[1;32m    531\u001b[0m \u001b[38;5;66;03m#\u001b[39;00m\n\u001b[1;32m    532\u001b[0m \u001b[38;5;66;03m# TODO: If simplify_log() is ever removed from simplify_full(), we\u001b[39;00m\n\u001b[0;32m   (...)\u001b[0m\n\u001b[1;32m    536\u001b[0m \u001b[38;5;66;03m# approach does not.\u001b[39;00m\n\u001b[1;32m    537\u001b[0m \u001b[38;5;66;03m#\u001b[39;00m\n\u001b[1;32m    538\u001b[0m simp_list \u001b[38;5;241m=\u001b[39m [difference\u001b[38;5;241m.\u001b[39msimplify_factorial(),\n\u001b[1;32m    539\u001b[0m              difference\u001b[38;5;241m.\u001b[39msimplify_rational(),\n\u001b[0;32m--> 540\u001b[0m              difference\u001b[38;5;241m.\u001b[39msimplify_rectform(),\n\u001b[1;32m    541\u001b[0m              difference\u001b[38;5;241m.\u001b[39msimplify_trig()]\n\u001b[1;32m    542\u001b[0m \u001b[38;5;28;01mfor\u001b[39;00m f \u001b[38;5;129;01min\u001b[39;00m simp_list:\n\u001b[1;32m    543\u001b[0m     \u001b[38;5;28;01mtry\u001b[39;00m:\n",
      "File \u001b[0;32m~/mambaforge/envs/sage/lib/python3.11/site-packages/sage/symbolic/expression.pyx:10891\u001b[0m, in \u001b[0;36msage.symbolic.expression.Expression.simplify_rectform (build/cythonized/sage/symbolic/expression.cpp:105367)\u001b[0;34m()\u001b[0m\n\u001b[1;32m  10889\u001b[0m \n\u001b[1;32m  10890\u001b[0m         \"\"\"\n\u001b[0;32m> 10891\u001b[0m         simplified_expr = self.rectform()\n\u001b[1;32m  10892\u001b[0m \n\u001b[1;32m  10893\u001b[0m         if complexity_measure is None:\n",
      "File \u001b[0;32m~/mambaforge/envs/sage/lib/python3.11/site-packages/sage/symbolic/expression.pyx:10527\u001b[0m, in \u001b[0;36msage.symbolic.expression.Expression.rectform (build/cythonized/sage/symbolic/expression.cpp:102604)\u001b[0;34m()\u001b[0m\n\u001b[1;32m  10525\u001b[0m         0.0\n\u001b[1;32m  10526\u001b[0m     \"\"\"\n\u001b[0;32m> 10527\u001b[0m     return self.maxima_methods().rectform()\n\u001b[1;32m  10528\u001b[0m \n\u001b[1;32m  10529\u001b[0m def unhold(self, exclude=None):\n",
      "File \u001b[0;32m~/mambaforge/envs/sage/lib/python3.11/site-packages/sage/symbolic/maxima_wrapper.py:31\u001b[0m, in \u001b[0;36mMaximaFunctionElementWrapper.__call__\u001b[0;34m(self, *args, **kwds)\u001b[0m\n\u001b[1;32m     18\u001b[0m \u001b[38;5;28;01mdef\u001b[39;00m \u001b[38;5;21m__call__\u001b[39m(\u001b[38;5;28mself\u001b[39m, \u001b[38;5;241m*\u001b[39margs, \u001b[38;5;241m*\u001b[39m\u001b[38;5;241m*\u001b[39mkwds):\n\u001b[1;32m     19\u001b[0m \u001b[38;5;250m    \u001b[39m\u001b[38;5;124;03m\"\"\"\u001b[39;00m\n\u001b[1;32m     20\u001b[0m \u001b[38;5;124;03m    Return a Sage expression instead of a Maxima pexpect interface element.\u001b[39;00m\n\u001b[1;32m     21\u001b[0m \n\u001b[0;32m   (...)\u001b[0m\n\u001b[1;32m     29\u001b[0m \u001b[38;5;124;03m        Symbolic Ring\u001b[39;00m\n\u001b[1;32m     30\u001b[0m \u001b[38;5;124;03m    \"\"\"\u001b[39;00m\n\u001b[0;32m---> 31\u001b[0m     \u001b[38;5;28;01mreturn\u001b[39;00m \u001b[38;5;28;43msuper\u001b[39;49m\u001b[43m(\u001b[49m\u001b[43m)\u001b[49m\u001b[38;5;241;43m.\u001b[39;49m\u001b[38;5;21;43m__call__\u001b[39;49m\u001b[43m(\u001b[49m\u001b[38;5;241;43m*\u001b[39;49m\u001b[43margs\u001b[49m\u001b[43m,\u001b[49m\u001b[43m \u001b[49m\u001b[38;5;241;43m*\u001b[39;49m\u001b[38;5;241;43m*\u001b[39;49m\u001b[43mkwds\u001b[49m\u001b[43m)\u001b[49m\u001b[38;5;241m.\u001b[39msage()\n",
      "File \u001b[0;32m~/mambaforge/envs/sage/lib/python3.11/site-packages/sage/interfaces/interface.py:696\u001b[0m, in \u001b[0;36mInterfaceFunctionElement.__call__\u001b[0;34m(self, *args, **kwds)\u001b[0m\n\u001b[1;32m    695\u001b[0m \u001b[38;5;28;01mdef\u001b[39;00m \u001b[38;5;21m__call__\u001b[39m(\u001b[38;5;28mself\u001b[39m, \u001b[38;5;241m*\u001b[39margs, \u001b[38;5;241m*\u001b[39m\u001b[38;5;241m*\u001b[39mkwds):\n\u001b[0;32m--> 696\u001b[0m     \u001b[38;5;28;01mreturn\u001b[39;00m \u001b[38;5;28;43mself\u001b[39;49m\u001b[38;5;241;43m.\u001b[39;49m\u001b[43m_obj\u001b[49m\u001b[38;5;241;43m.\u001b[39;49m\u001b[43mparent\u001b[49m\u001b[43m(\u001b[49m\u001b[43m)\u001b[49m\u001b[38;5;241;43m.\u001b[39;49m\u001b[43mfunction_call\u001b[49m\u001b[43m(\u001b[49m\u001b[38;5;28;43mself\u001b[39;49m\u001b[38;5;241;43m.\u001b[39;49m\u001b[43m_name\u001b[49m\u001b[43m,\u001b[49m\u001b[43m \u001b[49m\u001b[43m[\u001b[49m\u001b[38;5;28;43mself\u001b[39;49m\u001b[38;5;241;43m.\u001b[39;49m\u001b[43m_obj\u001b[49m\u001b[43m]\u001b[49m\u001b[43m \u001b[49m\u001b[38;5;241;43m+\u001b[39;49m\u001b[43m \u001b[49m\u001b[38;5;28;43mlist\u001b[39;49m\u001b[43m(\u001b[49m\u001b[43margs\u001b[49m\u001b[43m)\u001b[49m\u001b[43m,\u001b[49m\u001b[43m \u001b[49m\u001b[43mkwds\u001b[49m\u001b[43m)\u001b[49m\n",
      "File \u001b[0;32m~/mambaforge/envs/sage/lib/python3.11/site-packages/sage/interfaces/interface.py:616\u001b[0m, in \u001b[0;36mInterface.function_call\u001b[0;34m(self, function, args, kwds)\u001b[0m\n\u001b[1;32m    612\u001b[0m \u001b[38;5;28mself\u001b[39m\u001b[38;5;241m.\u001b[39m_check_valid_function_name(function)\n\u001b[1;32m    613\u001b[0m s \u001b[38;5;241m=\u001b[39m \u001b[38;5;28mself\u001b[39m\u001b[38;5;241m.\u001b[39m_function_call_string(function,\n\u001b[1;32m    614\u001b[0m                                [s\u001b[38;5;241m.\u001b[39mname() \u001b[38;5;28;01mfor\u001b[39;00m s \u001b[38;5;129;01min\u001b[39;00m args],\n\u001b[1;32m    615\u001b[0m                                [\u001b[38;5;124m'\u001b[39m\u001b[38;5;132;01m%s\u001b[39;00m\u001b[38;5;124m=\u001b[39m\u001b[38;5;132;01m%s\u001b[39;00m\u001b[38;5;124m'\u001b[39m \u001b[38;5;241m%\u001b[39m (key,value\u001b[38;5;241m.\u001b[39mname()) \u001b[38;5;28;01mfor\u001b[39;00m key, value \u001b[38;5;129;01min\u001b[39;00m kwds\u001b[38;5;241m.\u001b[39mitems()])\n\u001b[0;32m--> 616\u001b[0m \u001b[38;5;28;01mreturn\u001b[39;00m \u001b[38;5;28;43mself\u001b[39;49m\u001b[38;5;241;43m.\u001b[39;49m\u001b[43mnew\u001b[49m\u001b[43m(\u001b[49m\u001b[43ms\u001b[49m\u001b[43m)\u001b[49m\n",
      "File \u001b[0;32m~/mambaforge/envs/sage/lib/python3.11/site-packages/sage/interfaces/interface.py:385\u001b[0m, in \u001b[0;36mInterface.new\u001b[0;34m(self, code)\u001b[0m\n\u001b[1;32m    384\u001b[0m \u001b[38;5;28;01mdef\u001b[39;00m \u001b[38;5;21mnew\u001b[39m(\u001b[38;5;28mself\u001b[39m, code):\n\u001b[0;32m--> 385\u001b[0m     \u001b[38;5;28;01mreturn\u001b[39;00m \u001b[38;5;28;43mself\u001b[39;49m\u001b[43m(\u001b[49m\u001b[43mcode\u001b[49m\u001b[43m)\u001b[49m\n",
      "File \u001b[0;32m~/mambaforge/envs/sage/lib/python3.11/site-packages/sage/interfaces/interface.py:298\u001b[0m, in \u001b[0;36mInterface.__call__\u001b[0;34m(self, x, name)\u001b[0m\n\u001b[1;32m    295\u001b[0m         \u001b[38;5;28;01mpass\u001b[39;00m\n\u001b[1;32m    297\u001b[0m \u001b[38;5;28;01mif\u001b[39;00m \u001b[38;5;28misinstance\u001b[39m(x, \u001b[38;5;28mstr\u001b[39m):\n\u001b[0;32m--> 298\u001b[0m     \u001b[38;5;28;01mreturn\u001b[39;00m \u001b[38;5;28;43mcls\u001b[39;49m\u001b[43m(\u001b[49m\u001b[38;5;28;43mself\u001b[39;49m\u001b[43m,\u001b[49m\u001b[43m \u001b[49m\u001b[43mx\u001b[49m\u001b[43m,\u001b[49m\u001b[43m \u001b[49m\u001b[43mname\u001b[49m\u001b[38;5;241;43m=\u001b[39;49m\u001b[43mname\u001b[49m\u001b[43m)\u001b[49m\n\u001b[1;32m    299\u001b[0m \u001b[38;5;28;01mtry\u001b[39;00m:\n\u001b[1;32m    300\u001b[0m     \u001b[38;5;66;03m# Special methods do not and should not have an option to\u001b[39;00m\n\u001b[1;32m    301\u001b[0m     \u001b[38;5;66;03m# set the name directly, as the identifier assigned by the\u001b[39;00m\n\u001b[1;32m    302\u001b[0m     \u001b[38;5;66;03m# interface should stay consistent. An identifier with a\u001b[39;00m\n\u001b[1;32m    303\u001b[0m     \u001b[38;5;66;03m# user-assigned name might change its value, so we return a\u001b[39;00m\n\u001b[1;32m    304\u001b[0m     \u001b[38;5;66;03m# new element.\u001b[39;00m\n\u001b[1;32m    305\u001b[0m     result \u001b[38;5;241m=\u001b[39m \u001b[38;5;28mself\u001b[39m\u001b[38;5;241m.\u001b[39m_coerce_from_special_method(x)\n",
      "File \u001b[0;32m~/mambaforge/envs/sage/lib/python3.11/site-packages/sage/interfaces/interface.py:748\u001b[0m, in \u001b[0;36mInterfaceElement.__init__\u001b[0;34m(self, parent, value, is_name, name)\u001b[0m\n\u001b[1;32m    746\u001b[0m \u001b[38;5;28;01melse\u001b[39;00m:\n\u001b[1;32m    747\u001b[0m     \u001b[38;5;28;01mtry\u001b[39;00m:\n\u001b[0;32m--> 748\u001b[0m         \u001b[38;5;28mself\u001b[39m\u001b[38;5;241m.\u001b[39m_name \u001b[38;5;241m=\u001b[39m \u001b[43mparent\u001b[49m\u001b[38;5;241;43m.\u001b[39;49m\u001b[43m_create\u001b[49m\u001b[43m(\u001b[49m\u001b[43mvalue\u001b[49m\u001b[43m,\u001b[49m\u001b[43m \u001b[49m\u001b[43mname\u001b[49m\u001b[38;5;241;43m=\u001b[39;49m\u001b[43mname\u001b[49m\u001b[43m)\u001b[49m\n\u001b[1;32m    749\u001b[0m     \u001b[38;5;28;01mexcept\u001b[39;00m (\u001b[38;5;167;01mTypeError\u001b[39;00m, \u001b[38;5;167;01mRuntimeError\u001b[39;00m, \u001b[38;5;167;01mValueError\u001b[39;00m) \u001b[38;5;28;01mas\u001b[39;00m x:\n\u001b[1;32m    750\u001b[0m         \u001b[38;5;28;01mraise\u001b[39;00m \u001b[38;5;167;01mTypeError\u001b[39;00m(x)\n",
      "File \u001b[0;32m~/mambaforge/envs/sage/lib/python3.11/site-packages/sage/interfaces/maxima_lib.py:622\u001b[0m, in \u001b[0;36mMaximaLib._create\u001b[0;34m(self, value, name)\u001b[0m\n\u001b[1;32m    620\u001b[0m         maxima_eval([[msetq],cadadr(\u001b[38;5;124m\"\u001b[39m\u001b[38;5;124m#$\u001b[39m\u001b[38;5;132;01m%s\u001b[39;00m\u001b[38;5;124m$#$\u001b[39m\u001b[38;5;124m\"\u001b[39m \u001b[38;5;241m%\u001b[39m name),value])\n\u001b[1;32m    621\u001b[0m     \u001b[38;5;28;01melse\u001b[39;00m:\n\u001b[0;32m--> 622\u001b[0m         \u001b[38;5;28;43mself\u001b[39;49m\u001b[38;5;241;43m.\u001b[39;49m\u001b[43mset\u001b[49m\u001b[43m(\u001b[49m\u001b[43mname\u001b[49m\u001b[43m,\u001b[49m\u001b[43m \u001b[49m\u001b[43mvalue\u001b[49m\u001b[43m)\u001b[49m\n\u001b[1;32m    623\u001b[0m \u001b[38;5;28;01mexcept\u001b[39;00m \u001b[38;5;167;01mRuntimeError\u001b[39;00m \u001b[38;5;28;01mas\u001b[39;00m error:\n\u001b[1;32m    624\u001b[0m     s \u001b[38;5;241m=\u001b[39m \u001b[38;5;28mstr\u001b[39m(error)\n",
      "File \u001b[0;32m~/mambaforge/envs/sage/lib/python3.11/site-packages/sage/interfaces/maxima_lib.py:530\u001b[0m, in \u001b[0;36mMaximaLib.set\u001b[0;34m(self, var, value)\u001b[0m\n\u001b[1;32m    528\u001b[0m     \u001b[38;5;28;01mraise\u001b[39;00m \u001b[38;5;167;01mTypeError\u001b[39;00m\n\u001b[1;32m    529\u001b[0m cmd \u001b[38;5;241m=\u001b[39m \u001b[38;5;124m'\u001b[39m\u001b[38;5;132;01m%s\u001b[39;00m\u001b[38;5;124m : \u001b[39m\u001b[38;5;132;01m%s\u001b[39;00m\u001b[38;5;124m$\u001b[39m\u001b[38;5;124m'\u001b[39m \u001b[38;5;241m%\u001b[39m (var, value\u001b[38;5;241m.\u001b[39mrstrip(\u001b[38;5;124m'\u001b[39m\u001b[38;5;124m;\u001b[39m\u001b[38;5;124m'\u001b[39m))\n\u001b[0;32m--> 530\u001b[0m \u001b[38;5;28;43mself\u001b[39;49m\u001b[38;5;241;43m.\u001b[39;49m\u001b[43meval\u001b[49m\u001b[43m(\u001b[49m\u001b[43mcmd\u001b[49m\u001b[43m)\u001b[49m\n",
      "File \u001b[0;32m~/mambaforge/envs/sage/lib/python3.11/site-packages/sage/interfaces/maxima_lib.py:476\u001b[0m, in \u001b[0;36mMaximaLib._eval_line\u001b[0;34m(self, line, locals, reformat, **kwds)\u001b[0m\n\u001b[1;32m    474\u001b[0m         line \u001b[38;5;241m=\u001b[39m line[ind_dollar\u001b[38;5;241m+\u001b[39m\u001b[38;5;241m1\u001b[39m:]\n\u001b[1;32m    475\u001b[0m         \u001b[38;5;28;01mif\u001b[39;00m statement:\n\u001b[0;32m--> 476\u001b[0m             \u001b[43mmaxima_eval\u001b[49m\u001b[43m(\u001b[49m\u001b[38;5;124;43m\"\u001b[39;49m\u001b[38;5;124;43m#$\u001b[39;49m\u001b[38;5;132;43;01m%s\u001b[39;49;00m\u001b[38;5;124;43m$\u001b[39;49m\u001b[38;5;124;43m\"\u001b[39;49m\u001b[43m \u001b[49m\u001b[38;5;241;43m%\u001b[39;49m\u001b[43m \u001b[49m\u001b[43mstatement\u001b[49m\u001b[43m)\u001b[49m\n\u001b[1;32m    477\u001b[0m \u001b[38;5;28;01mif\u001b[39;00m \u001b[38;5;129;01mnot\u001b[39;00m reformat:\n\u001b[1;32m    478\u001b[0m     \u001b[38;5;28;01mreturn\u001b[39;00m result\n",
      "File \u001b[0;32m~/mambaforge/envs/sage/lib/python3.11/site-packages/sage/libs/ecl.pyx:830\u001b[0m, in \u001b[0;36msage.libs.ecl.EclObject.__call__ (build/cythonized/sage/libs/ecl.c:11725)\u001b[0;34m()\u001b[0m\n\u001b[1;32m    828\u001b[0m     \"\"\"\n\u001b[1;32m    829\u001b[0m     lispargs = EclObject(list(args))\n\u001b[0;32m--> 830\u001b[0m     return ecl_wrap(ecl_safe_apply(self.obj,(<EclObject>lispargs).obj))\n\u001b[1;32m    831\u001b[0m \n\u001b[1;32m    832\u001b[0m def __richcmp__(left, right, int op):\n",
      "File \u001b[0;32m~/mambaforge/envs/sage/lib/python3.11/site-packages/sage/libs/ecl.pyx:351\u001b[0m, in \u001b[0;36msage.libs.ecl.ecl_safe_apply (build/cythonized/sage/libs/ecl.c:9184)\u001b[0;34m()\u001b[0m\n\u001b[1;32m    349\u001b[0m message = ecl_string_to_python(error)\n\u001b[1;32m    350\u001b[0m if \"Console interrupt\" in message:\n\u001b[0;32m--> 351\u001b[0m     raise KeyboardInterrupt(\"ECL says: {}\".format(message))\n\u001b[1;32m    352\u001b[0m else:\n\u001b[1;32m    353\u001b[0m     raise RuntimeError(\"ECL says: {}\".format(message))\n",
      "\u001b[0;31mKeyboardInterrupt\u001b[0m: ECL says: Console interrupt."
     ]
    }
   ],
   "source": [
    "jb = Janet_Basis(system_2_24, [z,w], [x,y], Mgrevlex)\n",
    "jb.show(rich=True)"
   ]
  },
  {
   "cell_type": "code",
   "execution_count": null,
   "id": "72e3f6a3-29ef-4739-982f-a6179bd4eedc",
   "metadata": {},
   "outputs": [],
   "source": []
  }
 ],
 "metadata": {
  "kernelspec": {
   "display_name": "SageMath 10.2",
   "language": "sage",
   "name": "sagemath"
  },
  "language_info": {
   "codemirror_mode": {
    "name": "ipython",
    "version": 3
   },
   "file_extension": ".py",
   "mimetype": "text/x-python",
   "name": "python",
   "nbconvert_exporter": "python",
   "pygments_lexer": "ipython3",
   "version": "3.11.7"
  },
  "widgets": {
   "application/vnd.jupyter.widget-state+json": {
    "state": {},
    "version_major": 2,
    "version_minor": 0
   }
  }
 },
 "nbformat": 4,
 "nbformat_minor": 5
}
