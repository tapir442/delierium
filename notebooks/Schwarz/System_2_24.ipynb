{
 "cells": [
  {
   "cell_type": "code",
   "execution_count": 1,
   "id": "1ddf6005-3cc1-4b70-8764-5fa6d487e6a5",
   "metadata": {},
   "outputs": [],
   "source": [
    "from sage.all import *\n",
    "\n",
    "from delierium.MatrixOrder import Context, Mgrlex, Mgrevlex, Mlex\n",
    "from delierium.JanetBasis import Janet_Basis\n",
    "from delierium.helpers import latexer\n",
    "from IPython.display import Math\n",
    "\n",
    "vars = var (\"x y\")\n",
    "z = function(\"z\")(x,y)\n",
    "w = function(\"w\")(x,y)\n",
    "# ctx: items are in descending order\n",
    "ctx_grevlex_f = Context((w,z), (x,y), Mgrevlex)\n",
    "ctx_grlex_f   = Context((w,z), (x,y), Mgrlex)\n",
    "ctx_lex_f     = Context((w,z), (x,y), Mlex)\n",
    "\n",
    "f1 = diff(w, y) + x*diff(z,y)/(2*y*(x**2+y)) - w/y\n",
    "f2 = diff(z,x,y) + y*diff(w,y)/x + 2*y*diff(z, x)/x\n",
    "f3 = diff(w, x,y) - 2*x*diff(z, x,2)/y - x*diff(w,x)/y**2\n",
    "f4 = diff(w, x,y) + diff(z, x,y) + diff(w, y)/(2*y) - diff(w,x)/y + x* diff(z, y)/y - w/(2*y**2)\n",
    "f5 = diff(w,y,y) + diff(z,x,y) - diff(w, y)/y + w/(y**2)\n",
    "\n",
    "system_2_24 = [f4,f2,f1,f5,f3]"
   ]
  },
  {
   "cell_type": "code",
   "execution_count": 2,
   "id": "48199092-9276-45a3-b2cf-35ea72dfdc31",
   "metadata": {},
   "outputs": [
    {
     "name": "stdout",
     "output_type": "stream",
     "text": [
      "  enter DP: 0.12195134162902832\n",
      "    _init: 1.8429067134857178\n",
      "x*diff(z(x, y), y)/y - diff(w(x, y), x)/y + 1/2*diff(w(x, y), y)/y - 1/2*w(x, y)/y^2 + diff(w(x, y), x, y) + diff(z(x, y), x, y)\n",
      "inorder:\n",
      "[_Dterm(coeff=-1/2/y^2, derivative=w(x, y), context=<delierium.MatrixOrder.Context object at 0x7f3f70267d90>), _Dterm(coeff=x/y, derivative=diff(z(x, y), y), context=<delierium.MatrixOrder.Context object at 0x7f3f70267d90>), _Dterm(coeff=-1/y, derivative=diff(w(x, y), x), context=<delierium.MatrixOrder.Context object at 0x7f3f70267d90>), _Dterm(coeff=1/2/y, derivative=diff(w(x, y), y), context=<delierium.MatrixOrder.Context object at 0x7f3f70267d90>), _Dterm(coeff=1, derivative=diff(z(x, y), x, y), context=<delierium.MatrixOrder.Context object at 0x7f3f70267d90>), _Dterm(coeff=1, derivative=diff(w(x, y), x, y), context=<delierium.MatrixOrder.Context object at 0x7f3f70267d90>)]\n",
      "#\n",
      "  exit DP: 2.811415195465088\n",
      "  enter DP: 2.811450242996216\n",
      "    _init: 2.935333490371704\n",
      "y*diff(w(x, y), y)/x + 2*y*diff(z(x, y), x)/x + diff(z(x, y), x, y)\n",
      "inorder:\n",
      "[_Dterm(coeff=2*y/x, derivative=diff(z(x, y), x), context=<delierium.MatrixOrder.Context object at 0x7f3f70267d90>), _Dterm(coeff=y/x, derivative=diff(w(x, y), y), context=<delierium.MatrixOrder.Context object at 0x7f3f70267d90>), _Dterm(coeff=1, derivative=diff(z(x, y), x, y), context=<delierium.MatrixOrder.Context object at 0x7f3f70267d90>)]\n",
      "#\n",
      "  exit DP: 3.333045482635498\n",
      "  enter DP: 3.3330671787261963\n",
      "    _init: 3.484246253967285\n",
      "-w(x, y)/y + 1/2*x*diff(z(x, y), y)/((x^2 + y)*y) + diff(w(x, y), y)\n",
      "inorder:\n",
      "[_Dterm(coeff=-1/y, derivative=w(x, y), context=<delierium.MatrixOrder.Context object at 0x7f3f70267d90>), _Dterm(coeff=1/2*x/((x^2 + y)*y), derivative=diff(z(x, y), y), context=<delierium.MatrixOrder.Context object at 0x7f3f70267d90>), _Dterm(coeff=1, derivative=diff(w(x, y), y), context=<delierium.MatrixOrder.Context object at 0x7f3f70267d90>)]\n",
      "#\n",
      "  exit DP: 3.815920114517212\n",
      "  enter DP: 3.815941333770752\n",
      "    _init: 3.9436323642730713\n",
      "-diff(w(x, y), y)/y + w(x, y)/y^2 + diff(w(x, y), y, y) + diff(z(x, y), x, y)\n",
      "inorder:\n",
      "[_Dterm(coeff=y^(-2), derivative=w(x, y), context=<delierium.MatrixOrder.Context object at 0x7f3f70267d90>), _Dterm(coeff=-1/y, derivative=diff(w(x, y), y), context=<delierium.MatrixOrder.Context object at 0x7f3f70267d90>), _Dterm(coeff=1, derivative=diff(z(x, y), x, y), context=<delierium.MatrixOrder.Context object at 0x7f3f70267d90>), _Dterm(coeff=1, derivative=diff(w(x, y), y, y), context=<delierium.MatrixOrder.Context object at 0x7f3f70267d90>)]\n",
      "#\n",
      "  exit DP: 4.506277084350586\n",
      "  enter DP: 4.506297826766968\n",
      "    _init: 4.610823392868042\n",
      "-2*x*diff(z(x, y), x, x)/y - x*diff(w(x, y), x)/y^2 + diff(w(x, y), x, y)\n",
      "inorder:\n",
      "[_Dterm(coeff=-x/y^2, derivative=diff(w(x, y), x), context=<delierium.MatrixOrder.Context object at 0x7f3f70267d90>), _Dterm(coeff=-2*x/y, derivative=diff(z(x, y), x, x), context=<delierium.MatrixOrder.Context object at 0x7f3f70267d90>), _Dterm(coeff=1, derivative=diff(w(x, y), x, y), context=<delierium.MatrixOrder.Context object at 0x7f3f70267d90>)]\n",
      "#\n",
      "  exit DP: 4.991093635559082\n",
      "****************************************************************************************\n",
      "This is where we start, loop=1\n"
     ]
    },
    {
     "data": {
      "text/latex": [
       "$\\displaystyle  w_{x,y}+ z_{x,y}+\\frac{1}{2 \\, y} w_{y}-\\frac{1}{y} w_{x}+\\frac{x}{y} z_{y}-\\frac{1}{2 \\, y^{2}} w$"
      ],
      "text/plain": [
       "<IPython.core.display.Math object>"
      ]
     },
     "metadata": {},
     "output_type": "display_data"
    },
    {
     "data": {
      "text/latex": [
       "$\\displaystyle  w_{y}+\\frac{x}{2 \\, {\\left(x^{2} y + y^{2}\\right)}} z_{y}-\\frac{1}{y} w$"
      ],
      "text/plain": [
       "<IPython.core.display.Math object>"
      ]
     },
     "metadata": {},
     "output_type": "display_data"
    },
    {
     "data": {
      "text/latex": [
       "$\\displaystyle  z_{x,y}+\\frac{y}{x} w_{y}+\\frac{2 \\, y}{x} z_{x}$"
      ],
      "text/plain": [
       "<IPython.core.display.Math object>"
      ]
     },
     "metadata": {},
     "output_type": "display_data"
    },
    {
     "data": {
      "text/latex": [
       "$\\displaystyle  w_{y,y}+ z_{x,y}-\\frac{1}{y} w_{y}+\\frac{1}{y^{2}} w$"
      ],
      "text/plain": [
       "<IPython.core.display.Math object>"
      ]
     },
     "metadata": {},
     "output_type": "display_data"
    },
    {
     "data": {
      "text/latex": [
       "$\\displaystyle  w_{x,y}-\\frac{2 \\, x}{y} z_{x,x}-\\frac{x}{y^{2}} w_{x}$"
      ],
      "text/plain": [
       "<IPython.core.display.Math object>"
      ]
     },
     "metadata": {},
     "output_type": "display_data"
    },
    {
     "name": "stdout",
     "output_type": "stream",
     "text": [
      "................ reduce_inner\n",
      "     e1:, [w(x, y), diff(z(x, y), y), diff(w(x, y), y)]\n",
      "     e2:, [w(x, y), diff(z(x, y), y), diff(w(x, y), x), diff(w(x, y), y), diff(z(x, y), x, y), diff(w(x, y), x, y)]\n",
      "nothing to reduce\n",
      "[_Dterm(coeff=-1/y, derivative=w(x, y), context=<delierium.MatrixOrder.Context object at 0x7f3f70267d90>), _Dterm(coeff=1/2*x/((x^2 + y)*y), derivative=diff(z(x, y), y), context=<delierium.MatrixOrder.Context object at 0x7f3f70267d90>), _Dterm(coeff=1, derivative=diff(w(x, y), y), context=<delierium.MatrixOrder.Context object at 0x7f3f70267d90>)]\n",
      "................ reduce_inner\n",
      "     e1:, [diff(z(x, y), x), diff(w(x, y), y), diff(z(x, y), x, y)]\n",
      "     e2:, [w(x, y), diff(z(x, y), y), diff(w(x, y), x), diff(w(x, y), y), diff(z(x, y), x, y), diff(w(x, y), x, y)]\n",
      "nothing to reduce\n",
      "[_Dterm(coeff=2*y/x, derivative=diff(z(x, y), x), context=<delierium.MatrixOrder.Context object at 0x7f3f70267d90>), _Dterm(coeff=y/x, derivative=diff(w(x, y), y), context=<delierium.MatrixOrder.Context object at 0x7f3f70267d90>), _Dterm(coeff=1, derivative=diff(z(x, y), x, y), context=<delierium.MatrixOrder.Context object at 0x7f3f70267d90>)]\n",
      "................ reduce_inner\n",
      "     e1:, [w(x, y), diff(w(x, y), y), diff(z(x, y), x, y), diff(w(x, y), y, y)]\n",
      "     e2:, [w(x, y), diff(z(x, y), y), diff(w(x, y), x), diff(w(x, y), y), diff(z(x, y), x, y), diff(w(x, y), x, y)]\n",
      "nothing to reduce\n",
      "nothing to reduce\n",
      "[_Dterm(coeff=y^(-2), derivative=w(x, y), context=<delierium.MatrixOrder.Context object at 0x7f3f70267d90>), _Dterm(coeff=-1/y, derivative=diff(w(x, y), y), context=<delierium.MatrixOrder.Context object at 0x7f3f70267d90>), _Dterm(coeff=1, derivative=diff(z(x, y), x, y), context=<delierium.MatrixOrder.Context object at 0x7f3f70267d90>), _Dterm(coeff=1, derivative=diff(w(x, y), y, y), context=<delierium.MatrixOrder.Context object at 0x7f3f70267d90>)]\n",
      "................ reduce_inner\n",
      "     e1:, [diff(w(x, y), x), diff(z(x, y), x, x), diff(w(x, y), x, y)]\n",
      "     e2:, [w(x, y), diff(z(x, y), y), diff(w(x, y), x), diff(w(x, y), y), diff(z(x, y), x, y), diff(w(x, y), x, y)]\n",
      "nothing to reduce\n",
      "     subt t.derivative=diff(w(x, y), x, y), *c=1 5.622269868850708\n",
      "[_Dterm(coeff=1/2/y^2, derivative=w(x, y), context=<delierium.MatrixOrder.Context object at 0x7f3f70267d90>), _Dterm(coeff=-x/y, derivative=diff(z(x, y), y), context=<delierium.MatrixOrder.Context object at 0x7f3f70267d90>), _Dterm(coeff=-x/y^2 + 1/y, derivative=diff(w(x, y), x), context=<delierium.MatrixOrder.Context object at 0x7f3f70267d90>), _Dterm(coeff=-1/2/y, derivative=diff(w(x, y), y), context=<delierium.MatrixOrder.Context object at 0x7f3f70267d90>), _Dterm(coeff=-2*x/y, derivative=diff(z(x, y), x, x), context=<delierium.MatrixOrder.Context object at 0x7f3f70267d90>), _Dterm(coeff=-1, derivative=diff(z(x, y), x, y), context=<delierium.MatrixOrder.Context object at 0x7f3f70267d90>), _Dterm(coeff=0, derivative=diff(w(x, y), x, y), context=<delierium.MatrixOrder.Context object at 0x7f3f70267d90>)]\n"
     ]
    },
    {
     "ename": "AttributeError",
     "evalue": "'_Differential_Polynomial' object has no attribute 'coeff'",
     "output_type": "error",
     "traceback": [
      "\u001b[0;31m---------------------------------------------------------------------------\u001b[0m",
      "\u001b[0;31mAttributeError\u001b[0m                            Traceback (most recent call last)",
      "Cell \u001b[0;32mIn[2], line 1\u001b[0m\n\u001b[0;32m----> 1\u001b[0m jb \u001b[38;5;241m=\u001b[39m \u001b[43mJanet_Basis\u001b[49m\u001b[43m(\u001b[49m\u001b[43msystem_2_24\u001b[49m\u001b[43m,\u001b[49m\u001b[43m \u001b[49m\u001b[43m[\u001b[49m\u001b[43mw\u001b[49m\u001b[43m,\u001b[49m\u001b[43m \u001b[49m\u001b[43mz\u001b[49m\u001b[43m]\u001b[49m\u001b[43m,\u001b[49m\u001b[43m \u001b[49m\u001b[43m[\u001b[49m\u001b[43my\u001b[49m\u001b[43m,\u001b[49m\u001b[43mx\u001b[49m\u001b[43m]\u001b[49m\u001b[43m,\u001b[49m\u001b[43m \u001b[49m\u001b[43mMgrevlex\u001b[49m\u001b[43m)\u001b[49m\n\u001b[1;32m      2\u001b[0m jb\u001b[38;5;241m.\u001b[39mshow(rich\u001b[38;5;241m=\u001b[39m\u001b[38;5;28;01mTrue\u001b[39;00m)\n",
      "File \u001b[0;32m~/research-disk/delierium/src/delierium/JanetBasis.py:1051\u001b[0m, in \u001b[0;36mJanet_Basis.__init__\u001b[0;34m(self, S, dependent, independent, sort_order)\u001b[0m\n\u001b[1;32m   1049\u001b[0m \u001b[38;5;28mprint\u001b[39m(\u001b[38;5;124mf\u001b[39m\u001b[38;5;124m\"\u001b[39m\u001b[38;5;124mThis is where we start, \u001b[39m\u001b[38;5;132;01m{\u001b[39;00mloop\u001b[38;5;132;01m=}\u001b[39;00m\u001b[38;5;124m\"\u001b[39m)\n\u001b[1;32m   1050\u001b[0m \u001b[38;5;28mself\u001b[39m\u001b[38;5;241m.\u001b[39mshow(rich\u001b[38;5;241m=\u001b[39m\u001b[38;5;28;01mTrue\u001b[39;00m)\n\u001b[0;32m-> 1051\u001b[0m \u001b[38;5;28mself\u001b[39m\u001b[38;5;241m.\u001b[39mS \u001b[38;5;241m=\u001b[39m \u001b[43mAutoreduce\u001b[49m\u001b[43m(\u001b[49m\u001b[38;5;28;43mself\u001b[39;49m\u001b[38;5;241;43m.\u001b[39;49m\u001b[43mS\u001b[49m\u001b[43m,\u001b[49m\u001b[43m \u001b[49m\u001b[43mcontext\u001b[49m\u001b[43m)\u001b[49m\n\u001b[1;32m   1052\u001b[0m \u001b[38;5;28mprint\u001b[39m(\u001b[38;5;124m\"\u001b[39m\u001b[38;5;124mafter autoreduce\u001b[39m\u001b[38;5;124m\"\u001b[39m)\n\u001b[1;32m   1053\u001b[0m \u001b[38;5;28mself\u001b[39m\u001b[38;5;241m.\u001b[39mshow(rich\u001b[38;5;241m=\u001b[39m\u001b[38;5;28;01mTrue\u001b[39;00m)\n",
      "File \u001b[0;32m~/research-disk/delierium/src/delierium/JanetBasis.py:645\u001b[0m, in \u001b[0;36mAutoreduce\u001b[0;34m(S, context)\u001b[0m\n\u001b[1;32m    643\u001b[0m             newdps\u001b[38;5;241m.\u001b[39minsert(rnew)\n\u001b[1;32m    644\u001b[0m         \u001b[38;5;28;01mfor\u001b[39;00m __p \u001b[38;5;129;01min\u001b[39;00m _p:\n\u001b[0;32m--> 645\u001b[0m             \u001b[43mnewdps\u001b[49m\u001b[38;5;241;43m.\u001b[39;49m\u001b[43minsert\u001b[49m\u001b[43m(\u001b[49m\u001b[43m__p\u001b[49m\u001b[43m)\u001b[49m\n\u001b[1;32m    646\u001b[0m \u001b[38;5;66;03m#        dps = Reorder(_p + [_ for _ in newdps if _ not in _p],\u001b[39;00m\n\u001b[1;32m    647\u001b[0m \u001b[38;5;66;03m#                      context,\u001b[39;00m\n\u001b[1;32m    648\u001b[0m \u001b[38;5;66;03m#                      ascending=True)\u001b[39;00m\n\u001b[1;32m    649\u001b[0m         dps \u001b[38;5;241m=\u001b[39m newdps\u001b[38;5;241m.\u001b[39mreverseorder([])\n",
      "File \u001b[0;32m~/research-disk/delierium/src/delierium/helpers.py:477\u001b[0m, in \u001b[0;36mBSTNode.insert\u001b[0;34m(self, val)\u001b[0m\n\u001b[1;32m    475\u001b[0m     \u001b[38;5;28;01mreturn\u001b[39;00m\n\u001b[1;32m    476\u001b[0m \u001b[38;5;28;01mif\u001b[39;00m \u001b[38;5;28mself\u001b[39m\u001b[38;5;241m.\u001b[39mright:\n\u001b[0;32m--> 477\u001b[0m     \u001b[38;5;28;43mself\u001b[39;49m\u001b[38;5;241;43m.\u001b[39;49m\u001b[43mright\u001b[49m\u001b[38;5;241;43m.\u001b[39;49m\u001b[43minsert\u001b[49m\u001b[43m(\u001b[49m\u001b[43mval\u001b[49m\u001b[43m)\u001b[49m\n\u001b[1;32m    478\u001b[0m     \u001b[38;5;28;01mreturn\u001b[39;00m\n\u001b[1;32m    479\u001b[0m \u001b[38;5;28mself\u001b[39m\u001b[38;5;241m.\u001b[39mright \u001b[38;5;241m=\u001b[39m BSTNode(val)\n",
      "File \u001b[0;32m~/research-disk/delierium/src/delierium/helpers.py:477\u001b[0m, in \u001b[0;36mBSTNode.insert\u001b[0;34m(self, val)\u001b[0m\n\u001b[1;32m    475\u001b[0m     \u001b[38;5;28;01mreturn\u001b[39;00m\n\u001b[1;32m    476\u001b[0m \u001b[38;5;28;01mif\u001b[39;00m \u001b[38;5;28mself\u001b[39m\u001b[38;5;241m.\u001b[39mright:\n\u001b[0;32m--> 477\u001b[0m     \u001b[38;5;28;43mself\u001b[39;49m\u001b[38;5;241;43m.\u001b[39;49m\u001b[43mright\u001b[49m\u001b[38;5;241;43m.\u001b[39;49m\u001b[43minsert\u001b[49m\u001b[43m(\u001b[49m\u001b[43mval\u001b[49m\u001b[43m)\u001b[49m\n\u001b[1;32m    478\u001b[0m     \u001b[38;5;28;01mreturn\u001b[39;00m\n\u001b[1;32m    479\u001b[0m \u001b[38;5;28mself\u001b[39m\u001b[38;5;241m.\u001b[39mright \u001b[38;5;241m=\u001b[39m BSTNode(val)\n",
      "File \u001b[0;32m~/research-disk/delierium/src/delierium/helpers.py:472\u001b[0m, in \u001b[0;36mBSTNode.insert\u001b[0;34m(self, val)\u001b[0m\n\u001b[1;32m    470\u001b[0m \u001b[38;5;28;01mif\u001b[39;00m val\u001b[38;5;241m.\u001b[39mcontext\u001b[38;5;241m.\u001b[39mlt(val\u001b[38;5;241m.\u001b[39mcomparison_vector, \u001b[38;5;28mself\u001b[39m\u001b[38;5;241m.\u001b[39mval\u001b[38;5;241m.\u001b[39mcomparison_vector):\n\u001b[1;32m    471\u001b[0m     \u001b[38;5;28;01mif\u001b[39;00m \u001b[38;5;28mself\u001b[39m\u001b[38;5;241m.\u001b[39mleft:\n\u001b[0;32m--> 472\u001b[0m         \u001b[38;5;28;43mself\u001b[39;49m\u001b[38;5;241;43m.\u001b[39;49m\u001b[43mleft\u001b[49m\u001b[38;5;241;43m.\u001b[39;49m\u001b[43minsert\u001b[49m\u001b[43m(\u001b[49m\u001b[43mval\u001b[49m\u001b[43m)\u001b[49m\n\u001b[1;32m    473\u001b[0m         \u001b[38;5;28;01mreturn\u001b[39;00m\n\u001b[1;32m    474\u001b[0m     \u001b[38;5;28mself\u001b[39m\u001b[38;5;241m.\u001b[39mleft \u001b[38;5;241m=\u001b[39m BSTNode(val)\n",
      "File \u001b[0;32m~/research-disk/delierium/src/delierium/helpers.py:465\u001b[0m, in \u001b[0;36mBSTNode.insert\u001b[0;34m(self, val)\u001b[0m\n\u001b[1;32m    463\u001b[0m     existing_node \u001b[38;5;241m=\u001b[39m \u001b[38;5;28mself\u001b[39m\u001b[38;5;241m.\u001b[39mget_val_with_key(val\u001b[38;5;241m.\u001b[39mcomparison_vector)\n\u001b[1;32m    464\u001b[0m     \u001b[38;5;28;01mif\u001b[39;00m existing_node:\n\u001b[0;32m--> 465\u001b[0m         \u001b[43mexisting_node\u001b[49m\u001b[38;5;241;43m.\u001b[39;49m\u001b[43mcoeff\u001b[49m \u001b[38;5;241m+\u001b[39m\u001b[38;5;241m=\u001b[39m val\u001b[38;5;241m.\u001b[39mcoeff\n\u001b[1;32m    466\u001b[0m         \u001b[38;5;28;01mreturn\u001b[39;00m\n\u001b[1;32m    467\u001b[0m \u001b[38;5;28;01mif\u001b[39;00m \u001b[38;5;129;01mnot\u001b[39;00m \u001b[38;5;28mself\u001b[39m\u001b[38;5;241m.\u001b[39mval:\n",
      "\u001b[0;31mAttributeError\u001b[0m: '_Differential_Polynomial' object has no attribute 'coeff'"
     ]
    }
   ],
   "source": [
    "jb = Janet_Basis(system_2_24, [w, z], [y,x], Mgrevlex)\n",
    "jb.show(rich=True)"
   ]
  },
  {
   "cell_type": "code",
   "execution_count": null,
   "id": "72e3f6a3-29ef-4739-982f-a6179bd4eedc",
   "metadata": {},
   "outputs": [],
   "source": []
  }
 ],
 "metadata": {
  "kernelspec": {
   "display_name": "SageMath 10.2",
   "language": "sage",
   "name": "sagemath"
  },
  "language_info": {
   "codemirror_mode": {
    "name": "ipython",
    "version": 3
   },
   "file_extension": ".py",
   "mimetype": "text/x-python",
   "name": "python",
   "nbconvert_exporter": "python",
   "pygments_lexer": "ipython3",
   "version": "3.11.7"
  },
  "widgets": {
   "application/vnd.jupyter.widget-state+json": {
    "state": {},
    "version_major": 2,
    "version_minor": 0
   }
  }
 },
 "nbformat": 4,
 "nbformat_minor": 5
}
