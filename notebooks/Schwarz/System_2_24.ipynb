{
 "cells": [
  {
   "cell_type": "code",
   "execution_count": 1,
   "id": "1ddf6005-3cc1-4b70-8764-5fa6d487e6a5",
   "metadata": {},
   "outputs": [],
   "source": [
    "from sage.all import *\n",
    "\n",
    "from delierium.MatrixOrder import Context, Mgrlex, Mgrevlex, Mlex\n",
    "from delierium.JanetBasis import Janet_Basis\n",
    "from delierium.helpers import latexer\n",
    "from IPython.display import Math\n",
    "\n",
    "vars = var (\"x y\")\n",
    "z = function(\"z\")(x,y)\n",
    "w = function(\"w\")(x,y)\n",
    "# ctx: items are in descending order\n",
    "ctx_grevlex_f = Context((w,z), (x,y), Mgrevlex)\n",
    "ctx_grlex_f   = Context((w,z), (x,y), Mgrlex)\n",
    "ctx_lex_f     = Context((w,z), (x,y), Mlex)\n",
    "\n",
    "f1 = diff(w, y) + x*diff(z,y)/(2*y*(x**2+y)) - w/y\n",
    "f2 = diff(z,x,y) + y*diff(w,y)/x + 2*y*diff(z, x)/x\n",
    "f3 = diff(w, x,y) - 2*x*diff(z, x,2)/y - x*diff(w,x)/y**2\n",
    "f4 = diff(w, x,y) + diff(z, x,y) + diff(w, y)/(2*y) - diff(w,x)/y + x* diff(z, y)/y - w/(2*y**2)\n",
    "f5 = diff(w,y,y) + diff(z,x,y) - diff(w, y)/y + w/(y**2)\n",
    "\n",
    "system_2_24 = [f4,f2,f1,f5,f3]"
   ]
  },
  {
   "cell_type": "code",
   "execution_count": null,
   "id": "48199092-9276-45a3-b2cf-35ea72dfdc31",
   "metadata": {},
   "outputs": [
    {
     "name": "stdout",
     "output_type": "stream",
     "text": [
      "  enter DP: 0.1723792552947998\n",
      "    _init: 1.674544095993042\n",
      "x*diff(z(x, y), y)/y - diff(w(x, y), x)/y + 1/2*diff(w(x, y), y)/y - 1/2*w(x, y)/y^2 + diff(w(x, y), x, y) + diff(z(x, y), x, y)\n",
      "  exit DP: 3.048797369003296\n",
      "  enter DP: 3.0489068031311035\n",
      "    _init: 3.1399483680725098\n",
      "y*diff(w(x, y), y)/x + 2*y*diff(z(x, y), x)/x + diff(z(x, y), x, y)\n",
      "  exit DP: 3.4796605110168457\n",
      "  enter DP: 3.4797539710998535\n",
      "    _init: 3.612290143966675\n",
      "-w(x, y)/y + 1/2*x*diff(z(x, y), y)/((x^2 + y)*y) + diff(w(x, y), y)\n",
      "  exit DP: 3.8149707317352295\n",
      "  enter DP: 3.81506085395813\n",
      "    _init: 3.9264931678771973\n",
      "-diff(w(x, y), y)/y + w(x, y)/y^2 + diff(w(x, y), y, y) + diff(z(x, y), x, y)\n",
      "  exit DP: 4.422224760055542\n",
      "  enter DP: 4.422327995300293\n",
      "    _init: 4.53347635269165\n",
      "-2*x*diff(z(x, y), x, x)/y - x*diff(w(x, y), x)/y^2 + diff(w(x, y), x, y)\n",
      "  exit DP: 4.930832624435425\n",
      "****************************************************************************************\n",
      "This is where we start, loop=1\n"
     ]
    },
    {
     "data": {
      "text/latex": [
       "$\\displaystyle  w_{y}+\\frac{x}{2 \\, {\\left(x^{2} y + y^{2}\\right)}} z_{y}-\\frac{1}{y} w$"
      ],
      "text/plain": [
       "<IPython.core.display.Math object>"
      ]
     },
     "metadata": {},
     "output_type": "display_data"
    },
    {
     "data": {
      "text/latex": [
       "$\\displaystyle  z_{x,y}+\\frac{y}{x} w_{y}+\\frac{2 \\, y}{x} z_{x}$"
      ],
      "text/plain": [
       "<IPython.core.display.Math object>"
      ]
     },
     "metadata": {},
     "output_type": "display_data"
    },
    {
     "data": {
      "text/latex": [
       "$\\displaystyle  w_{x,y}+ z_{x,y}+\\frac{1}{2 \\, y} w_{y}-\\frac{1}{y} w_{x}+\\frac{x}{y} z_{y}-\\frac{1}{2 \\, y^{2}} w$"
      ],
      "text/plain": [
       "<IPython.core.display.Math object>"
      ]
     },
     "metadata": {},
     "output_type": "display_data"
    },
    {
     "data": {
      "text/latex": [
       "$\\displaystyle  w_{x,y}-\\frac{2 \\, x}{y} z_{x,x}-\\frac{x}{y^{2}} w_{x}$"
      ],
      "text/plain": [
       "<IPython.core.display.Math object>"
      ]
     },
     "metadata": {},
     "output_type": "display_data"
    },
    {
     "data": {
      "text/latex": [
       "$\\displaystyle  w_{y,y}+ z_{x,y}-\\frac{1}{y} w_{y}+\\frac{1}{y^{2}} w$"
      ],
      "text/plain": [
       "<IPython.core.display.Math object>"
      ]
     },
     "metadata": {},
     "output_type": "display_data"
    },
    {
     "name": "stdout",
     "output_type": "stream",
     "text": [
      "................ reduce_inner\n",
      "     e1:, [diff(z(x, y), x, y), diff(w(x, y), y), diff(z(x, y), x)]\n",
      "     e2:, [diff(w(x, y), y), diff(z(x, y), y), w(x, y)]\n",
      "     subt t.derivative=diff(w(x, y), y), *c=y/x 5.3596251010894775\n",
      "[_Dterm(coeff=1, derivative=diff(z(x, y), x, y), context=<delierium.MatrixOrder.Context object at 0x7f4efc828f90>), _Dterm(coeff=y/x, derivative=diff(w(x, y), y), context=<delierium.MatrixOrder.Context object at 0x7f4efc828f90>), _Dterm(coeff=-1/2/(x^2 + y), derivative=diff(z(x, y), y), context=<delierium.MatrixOrder.Context object at 0x7f4efc828f90>), _Dterm(coeff=2*y/x, derivative=diff(z(x, y), x), context=<delierium.MatrixOrder.Context object at 0x7f4efc828f90>), _Dterm(coeff=1/x, derivative=w(x, y), context=<delierium.MatrixOrder.Context object at 0x7f4efc828f90>)]\n",
      "................ reduce_inner\n",
      "     e1:, [diff(w(x, y), x, y), diff(z(x, y), x, y), diff(w(x, y), y), diff(w(x, y), x), diff(z(x, y), y), w(x, y)]\n",
      "     e2:, [diff(w(x, y), y), diff(z(x, y), y), w(x, y)]\n",
      "   ===> diff, t.derivative=diff(w(x, y), x, y), *1, [x]\n",
      "    myval=_Dterm(coeff=1, derivative=diff(w(x, y), x, y), context=<delierium.MatrixOrder.Context object at 0x7f4efc828f90>)\n",
      "    myval=None\n",
      "    myval=None\n",
      "    myval=None\n",
      "    myval=None\n",
      "    myval=None\n",
      "     subt t.derivative=diff(w(x, y), y), *c=1/2/y 5.482339859008789\n",
      "nothing to reduce\n",
      "[_Dterm(coeff=0, derivative=diff(w(x, y), x, y), context=<delierium.MatrixOrder.Context object at 0x7f4efc828f90>), _Dterm(coeff=1, derivative=diff(z(x, y), x, y), context=<delierium.MatrixOrder.Context object at 0x7f4efc828f90>), _Dterm(coeff=1/2/y, derivative=diff(w(x, y), y), context=<delierium.MatrixOrder.Context object at 0x7f4efc828f90>), _Dterm(coeff=-1/y, derivative=diff(w(x, y), x), context=<delierium.MatrixOrder.Context object at 0x7f4efc828f90>), _Dterm(coeff=x/y, derivative=diff(z(x, y), y), context=<delierium.MatrixOrder.Context object at 0x7f4efc828f90>), _Dterm(coeff=-1/2/y^2, derivative=w(x, y), context=<delierium.MatrixOrder.Context object at 0x7f4efc828f90>)]\n",
      "................ reduce_inner\n",
      "     e1:, [diff(w(x, y), x, y), diff(z(x, y), x, x), diff(w(x, y), x)]\n",
      "     e2:, [diff(w(x, y), y), diff(z(x, y), y), w(x, y)]\n",
      "   ===> diff, t.derivative=diff(w(x, y), x, y), *1, [x]\n",
      "    myval=_Dterm(coeff=1, derivative=diff(w(x, y), x, y), context=<delierium.MatrixOrder.Context object at 0x7f4efc828f90>)\n",
      "    myval=None\n",
      "    myval=None\n",
      "    myval=None\n",
      "    myval=None\n",
      "    myval=None\n",
      "nothing to reduce\n",
      "[_Dterm(coeff=0, derivative=diff(w(x, y), x, y), context=<delierium.MatrixOrder.Context object at 0x7f4efc828f90>), _Dterm(coeff=1/2*x/((x^2 + y)*y), derivative=diff(z(x, y), x, y), context=<delierium.MatrixOrder.Context object at 0x7f4efc828f90>), _Dterm(coeff=-2*x/y, derivative=diff(z(x, y), x, x), context=<delierium.MatrixOrder.Context object at 0x7f4efc828f90>), _Dterm(coeff=0, derivative=diff(w(x, y), y), context=<delierium.MatrixOrder.Context object at 0x7f4efc828f90>), _Dterm(coeff=-x/y^2, derivative=diff(w(x, y), x), context=<delierium.MatrixOrder.Context object at 0x7f4efc828f90>), _Dterm(coeff=-x^2/((x^2 + y)^2*y) + 1/2/((x^2 + y)*y), derivative=diff(z(x, y), y), context=<delierium.MatrixOrder.Context object at 0x7f4efc828f90>), _Dterm(coeff=0, derivative=w(x, y), context=<delierium.MatrixOrder.Context object at 0x7f4efc828f90>)]\n",
      "................ reduce_inner\n",
      "     e1:, [diff(w(x, y), y, y), diff(z(x, y), x, y), diff(w(x, y), y), w(x, y)]\n",
      "     e2:, [diff(w(x, y), y), diff(z(x, y), y), w(x, y)]\n",
      "   ===> diff, t.derivative=diff(w(x, y), y, y), *1, [y]\n",
      "    myval=_Dterm(coeff=1, derivative=diff(w(x, y), y, y), context=<delierium.MatrixOrder.Context object at 0x7f4efc828f90>)\n",
      "    myval=None\n",
      "    myval=None\n",
      "    myval=None\n",
      "    myval=None\n",
      "    myval=None\n",
      "     subt t.derivative=diff(w(x, y), y), *c=-1/y 6.066133499145508\n",
      "[_Dterm(coeff=0, derivative=diff(w(x, y), y, y), context=<delierium.MatrixOrder.Context object at 0x7f4efc828f90>), _Dterm(coeff=1/2*x/((x^2 + y)*y), derivative=diff(z(x, y), y, y), context=<delierium.MatrixOrder.Context object at 0x7f4efc828f90>), _Dterm(coeff=1, derivative=diff(z(x, y), x, y), context=<delierium.MatrixOrder.Context object at 0x7f4efc828f90>), _Dterm(coeff=-1/y, derivative=diff(w(x, y), y), context=<delierium.MatrixOrder.Context object at 0x7f4efc828f90>), _Dterm(coeff=-1/2*x/((x^2 + y)*y^2) - 1/2*x/((x^2 + y)^2*y), derivative=diff(z(x, y), y), context=<delierium.MatrixOrder.Context object at 0x7f4efc828f90>), _Dterm(coeff=y^(-2), derivative=w(x, y), context=<delierium.MatrixOrder.Context object at 0x7f4efc828f90>)]\n",
      "duration reorder: 6.135350465774536\n",
      "AAAAAAAAAAAAAAAAAAAAAAAAAAAAAAAAAAAAAAAAAAAAAAAAAAAAAAAAAAAAAAAAAAAAAAAAAAAAAAAAAAAAAAAAAAAAAAAAAAA 0\n"
     ]
    },
    {
     "data": {
      "text/latex": [
       "$\\displaystyle  w_{y,y}+ z_{x,y}-\\frac{1}{y} w_{y}+\\frac{1}{y^{2}} w$"
      ],
      "text/plain": [
       "<IPython.core.display.Math object>"
      ]
     },
     "metadata": {},
     "output_type": "display_data"
    },
    {
     "data": {
      "text/latex": [
       "$\\displaystyle  w_{x,y}+ z_{x,y}+\\frac{1}{2 \\, y} w_{y}-\\frac{1}{y} w_{x}+\\frac{x}{y} z_{y}-\\frac{1}{2 \\, y^{2}} w$"
      ],
      "text/plain": [
       "<IPython.core.display.Math object>"
      ]
     },
     "metadata": {},
     "output_type": "display_data"
    },
    {
     "data": {
      "text/latex": [
       "$\\displaystyle  w_{x,y}-\\frac{2 \\, x}{y} z_{x,x}-\\frac{x}{y^{2}} w_{x}$"
      ],
      "text/plain": [
       "<IPython.core.display.Math object>"
      ]
     },
     "metadata": {},
     "output_type": "display_data"
    },
    {
     "data": {
      "text/latex": [
       "$\\displaystyle  z_{x,y}+\\frac{y}{x} w_{y}+\\frac{2 \\, y}{x} z_{x}$"
      ],
      "text/plain": [
       "<IPython.core.display.Math object>"
      ]
     },
     "metadata": {},
     "output_type": "display_data"
    },
    {
     "data": {
      "text/latex": [
       "$\\displaystyle  w_{y}+\\frac{x}{2 \\, {\\left(x^{2} y + y^{2}\\right)}} z_{y}-\\frac{1}{y} w$"
      ],
      "text/plain": [
       "<IPython.core.display.Math object>"
      ]
     },
     "metadata": {},
     "output_type": "display_data"
    },
    {
     "name": "stdout",
     "output_type": "stream",
     "text": [
      "................ reduce_inner\n",
      "     e1:, [diff(w(x, y), x, y), diff(z(x, y), x, y), diff(z(x, y), x, x), diff(w(x, y), y), diff(w(x, y), x), diff(z(x, y), y), w(x, y)]\n",
      "     e2:, [diff(w(x, y), y, y), diff(z(x, y), y, y), diff(z(x, y), x, y), diff(w(x, y), y), diff(z(x, y), y), w(x, y)]\n",
      "nothing to reduce\n",
      "nothing to reduce\n",
      "nothing to reduce\n",
      "[_Dterm(coeff=0, derivative=diff(w(x, y), x, y), context=<delierium.MatrixOrder.Context object at 0x7f4efc828f90>), _Dterm(coeff=1/2*x/((x^2 + y)*y), derivative=diff(z(x, y), x, y), context=<delierium.MatrixOrder.Context object at 0x7f4efc828f90>), _Dterm(coeff=-2*x/y, derivative=diff(z(x, y), x, x), context=<delierium.MatrixOrder.Context object at 0x7f4efc828f90>), _Dterm(coeff=0, derivative=diff(w(x, y), y), context=<delierium.MatrixOrder.Context object at 0x7f4efc828f90>), _Dterm(coeff=-x/y^2, derivative=diff(w(x, y), x), context=<delierium.MatrixOrder.Context object at 0x7f4efc828f90>), _Dterm(coeff=-x^2/((x^2 + y)^2*y) + 1/2/((x^2 + y)*y), derivative=diff(z(x, y), y), context=<delierium.MatrixOrder.Context object at 0x7f4efc828f90>), _Dterm(coeff=0, derivative=w(x, y), context=<delierium.MatrixOrder.Context object at 0x7f4efc828f90>)]\n",
      "................ reduce_inner\n",
      "     e1:, [diff(w(x, y), x, y), diff(z(x, y), x, y), diff(z(x, y), x, x), diff(w(x, y), y), diff(w(x, y), x), diff(z(x, y), y), w(x, y)]\n",
      "     e2:, [diff(w(x, y), x, y), diff(z(x, y), x, y), diff(w(x, y), y), diff(w(x, y), x), diff(z(x, y), y), w(x, y)]\n",
      "     subt t.derivative=diff(w(x, y), x, y), *c=0 6.148420333862305\n",
      "nothing to reduce\n",
      "nothing to reduce\n",
      "[_Dterm(coeff=0, derivative=diff(w(x, y), x, y), context=<delierium.MatrixOrder.Context object at 0x7f4efc828f90>), _Dterm(coeff=1/2*x/((x^2 + y)*y), derivative=diff(z(x, y), x, y), context=<delierium.MatrixOrder.Context object at 0x7f4efc828f90>), _Dterm(coeff=-2*x/y, derivative=diff(z(x, y), x, x), context=<delierium.MatrixOrder.Context object at 0x7f4efc828f90>), _Dterm(coeff=0, derivative=diff(w(x, y), y), context=<delierium.MatrixOrder.Context object at 0x7f4efc828f90>), _Dterm(coeff=-x/y^2, derivative=diff(w(x, y), x), context=<delierium.MatrixOrder.Context object at 0x7f4efc828f90>), _Dterm(coeff=-x^2/((x^2 + y)^2*y) + 1/2/((x^2 + y)*y), derivative=diff(z(x, y), y), context=<delierium.MatrixOrder.Context object at 0x7f4efc828f90>), _Dterm(coeff=0, derivative=w(x, y), context=<delierium.MatrixOrder.Context object at 0x7f4efc828f90>)]\n",
      "................ reduce_inner\n",
      "     e1:, [diff(z(x, y), x, y), diff(w(x, y), y), diff(z(x, y), y), diff(z(x, y), x), w(x, y)]\n",
      "     e2:, [diff(w(x, y), y, y), diff(z(x, y), y, y), diff(z(x, y), x, y), diff(w(x, y), y), diff(z(x, y), y), w(x, y)]\n",
      "nothing to reduce\n",
      "[_Dterm(coeff=1, derivative=diff(z(x, y), x, y), context=<delierium.MatrixOrder.Context object at 0x7f4efc828f90>), _Dterm(coeff=y/x, derivative=diff(w(x, y), y), context=<delierium.MatrixOrder.Context object at 0x7f4efc828f90>), _Dterm(coeff=-1/2/(x^2 + y), derivative=diff(z(x, y), y), context=<delierium.MatrixOrder.Context object at 0x7f4efc828f90>), _Dterm(coeff=2*y/x, derivative=diff(z(x, y), x), context=<delierium.MatrixOrder.Context object at 0x7f4efc828f90>), _Dterm(coeff=1/x, derivative=w(x, y), context=<delierium.MatrixOrder.Context object at 0x7f4efc828f90>)]\n",
      "................ reduce_inner\n",
      "     e1:, [diff(z(x, y), x, y), diff(w(x, y), y), diff(z(x, y), y), diff(z(x, y), x), w(x, y)]\n",
      "     e2:, [diff(w(x, y), x, y), diff(z(x, y), x, y), diff(w(x, y), y), diff(w(x, y), x), diff(z(x, y), y), w(x, y)]\n",
      "nothing to reduce\n",
      "[_Dterm(coeff=1, derivative=diff(z(x, y), x, y), context=<delierium.MatrixOrder.Context object at 0x7f4efc828f90>), _Dterm(coeff=y/x, derivative=diff(w(x, y), y), context=<delierium.MatrixOrder.Context object at 0x7f4efc828f90>), _Dterm(coeff=-1/2/(x^2 + y), derivative=diff(z(x, y), y), context=<delierium.MatrixOrder.Context object at 0x7f4efc828f90>), _Dterm(coeff=2*y/x, derivative=diff(z(x, y), x), context=<delierium.MatrixOrder.Context object at 0x7f4efc828f90>), _Dterm(coeff=1/x, derivative=w(x, y), context=<delierium.MatrixOrder.Context object at 0x7f4efc828f90>)]\n",
      "................ reduce_inner\n",
      "     e1:, [diff(w(x, y), y), diff(z(x, y), y), w(x, y)]\n",
      "     e2:, [diff(w(x, y), y, y), diff(z(x, y), y, y), diff(z(x, y), x, y), diff(w(x, y), y), diff(z(x, y), y), w(x, y)]\n",
      "nothing to reduce\n",
      "[_Dterm(coeff=1, derivative=diff(w(x, y), y), context=<delierium.MatrixOrder.Context object at 0x7f4efc828f90>), _Dterm(coeff=1/2*x/((x^2 + y)*y), derivative=diff(z(x, y), y), context=<delierium.MatrixOrder.Context object at 0x7f4efc828f90>), _Dterm(coeff=-1/y, derivative=w(x, y), context=<delierium.MatrixOrder.Context object at 0x7f4efc828f90>)]\n",
      "................ reduce_inner\n",
      "     e1:, [diff(w(x, y), y), diff(z(x, y), y), w(x, y)]\n",
      "     e2:, [diff(w(x, y), x, y), diff(z(x, y), x, y), diff(w(x, y), y), diff(w(x, y), x), diff(z(x, y), y), w(x, y)]\n",
      "nothing to reduce\n",
      "[_Dterm(coeff=1, derivative=diff(w(x, y), y), context=<delierium.MatrixOrder.Context object at 0x7f4efc828f90>), _Dterm(coeff=1/2*x/((x^2 + y)*y), derivative=diff(z(x, y), y), context=<delierium.MatrixOrder.Context object at 0x7f4efc828f90>), _Dterm(coeff=-1/y, derivative=w(x, y), context=<delierium.MatrixOrder.Context object at 0x7f4efc828f90>)]\n",
      "duration reorder: 6.2563230991363525\n",
      "AAAAAAAAAAAAAAAAAAAAAAAAAAAAAAAAAAAAAAAAAAAAAAAAAAAAAAAAAAAAAAAAAAAAAAAAAAAAAAAAAAAAAAAAAAAAAAAAAAA 0\n"
     ]
    },
    {
     "data": {
      "text/latex": [
       "$\\displaystyle  w_{y,y}+ z_{x,y}-\\frac{1}{y} w_{y}+\\frac{1}{y^{2}} w$"
      ],
      "text/plain": [
       "<IPython.core.display.Math object>"
      ]
     },
     "metadata": {},
     "output_type": "display_data"
    },
    {
     "data": {
      "text/latex": [
       "$\\displaystyle  w_{x,y}-\\frac{2 \\, x}{y} z_{x,x}-\\frac{x}{y^{2}} w_{x}$"
      ],
      "text/plain": [
       "<IPython.core.display.Math object>"
      ]
     },
     "metadata": {},
     "output_type": "display_data"
    },
    {
     "data": {
      "text/latex": [
       "$\\displaystyle  w_{x,y}+ z_{x,y}+\\frac{1}{2 \\, y} w_{y}-\\frac{1}{y} w_{x}+\\frac{x}{y} z_{y}-\\frac{1}{2 \\, y^{2}} w$"
      ],
      "text/plain": [
       "<IPython.core.display.Math object>"
      ]
     },
     "metadata": {},
     "output_type": "display_data"
    },
    {
     "data": {
      "text/latex": [
       "$\\displaystyle  z_{x,y}+\\frac{y}{x} w_{y}+\\frac{2 \\, y}{x} z_{x}$"
      ],
      "text/plain": [
       "<IPython.core.display.Math object>"
      ]
     },
     "metadata": {},
     "output_type": "display_data"
    },
    {
     "data": {
      "text/latex": [
       "$\\displaystyle  w_{y}+\\frac{x}{2 \\, {\\left(x^{2} y + y^{2}\\right)}} z_{y}-\\frac{1}{y} w$"
      ],
      "text/plain": [
       "<IPython.core.display.Math object>"
      ]
     },
     "metadata": {},
     "output_type": "display_data"
    },
    {
     "name": "stdout",
     "output_type": "stream",
     "text": [
      "................ reduce_inner\n",
      "     e1:, [diff(z(x, y), x, y), diff(w(x, y), y), diff(z(x, y), y), diff(z(x, y), x), w(x, y)]\n",
      "     e2:, [diff(w(x, y), y, y), diff(z(x, y), y, y), diff(z(x, y), x, y), diff(w(x, y), y), diff(z(x, y), y), w(x, y)]\n",
      "nothing to reduce\n",
      "[_Dterm(coeff=1, derivative=diff(z(x, y), x, y), context=<delierium.MatrixOrder.Context object at 0x7f4efc828f90>), _Dterm(coeff=y/x, derivative=diff(w(x, y), y), context=<delierium.MatrixOrder.Context object at 0x7f4efc828f90>), _Dterm(coeff=-1/2/(x^2 + y), derivative=diff(z(x, y), y), context=<delierium.MatrixOrder.Context object at 0x7f4efc828f90>), _Dterm(coeff=2*y/x, derivative=diff(z(x, y), x), context=<delierium.MatrixOrder.Context object at 0x7f4efc828f90>), _Dterm(coeff=1/x, derivative=w(x, y), context=<delierium.MatrixOrder.Context object at 0x7f4efc828f90>)]\n",
      "................ reduce_inner\n",
      "     e1:, [diff(z(x, y), x, y), diff(w(x, y), y), diff(z(x, y), y), diff(z(x, y), x), w(x, y)]\n",
      "     e2:, [diff(w(x, y), x, y), diff(z(x, y), x, y), diff(z(x, y), x, x), diff(w(x, y), y), diff(w(x, y), x), diff(z(x, y), y), w(x, y)]\n",
      "nothing to reduce\n",
      "[_Dterm(coeff=1, derivative=diff(z(x, y), x, y), context=<delierium.MatrixOrder.Context object at 0x7f4efc828f90>), _Dterm(coeff=y/x, derivative=diff(w(x, y), y), context=<delierium.MatrixOrder.Context object at 0x7f4efc828f90>), _Dterm(coeff=-1/2/(x^2 + y), derivative=diff(z(x, y), y), context=<delierium.MatrixOrder.Context object at 0x7f4efc828f90>), _Dterm(coeff=2*y/x, derivative=diff(z(x, y), x), context=<delierium.MatrixOrder.Context object at 0x7f4efc828f90>), _Dterm(coeff=1/x, derivative=w(x, y), context=<delierium.MatrixOrder.Context object at 0x7f4efc828f90>)]\n",
      "................ reduce_inner\n",
      "     e1:, [diff(z(x, y), x, y), diff(w(x, y), y), diff(z(x, y), y), diff(z(x, y), x), w(x, y)]\n",
      "     e2:, [diff(w(x, y), x, y), diff(z(x, y), x, y), diff(w(x, y), y), diff(w(x, y), x), diff(z(x, y), y), w(x, y)]\n",
      "nothing to reduce\n",
      "[_Dterm(coeff=1, derivative=diff(z(x, y), x, y), context=<delierium.MatrixOrder.Context object at 0x7f4efc828f90>), _Dterm(coeff=y/x, derivative=diff(w(x, y), y), context=<delierium.MatrixOrder.Context object at 0x7f4efc828f90>), _Dterm(coeff=-1/2/(x^2 + y), derivative=diff(z(x, y), y), context=<delierium.MatrixOrder.Context object at 0x7f4efc828f90>), _Dterm(coeff=2*y/x, derivative=diff(z(x, y), x), context=<delierium.MatrixOrder.Context object at 0x7f4efc828f90>), _Dterm(coeff=1/x, derivative=w(x, y), context=<delierium.MatrixOrder.Context object at 0x7f4efc828f90>)]\n",
      "................ reduce_inner\n",
      "     e1:, [diff(w(x, y), y), diff(z(x, y), y), w(x, y)]\n",
      "     e2:, [diff(w(x, y), y, y), diff(z(x, y), y, y), diff(z(x, y), x, y), diff(w(x, y), y), diff(z(x, y), y), w(x, y)]\n",
      "nothing to reduce\n",
      "[_Dterm(coeff=1, derivative=diff(w(x, y), y), context=<delierium.MatrixOrder.Context object at 0x7f4efc828f90>), _Dterm(coeff=1/2*x/((x^2 + y)*y), derivative=diff(z(x, y), y), context=<delierium.MatrixOrder.Context object at 0x7f4efc828f90>), _Dterm(coeff=-1/y, derivative=w(x, y), context=<delierium.MatrixOrder.Context object at 0x7f4efc828f90>)]\n",
      "................ reduce_inner\n",
      "     e1:, [diff(w(x, y), y), diff(z(x, y), y), w(x, y)]\n",
      "     e2:, [diff(w(x, y), x, y), diff(z(x, y), x, y), diff(z(x, y), x, x), diff(w(x, y), y), diff(w(x, y), x), diff(z(x, y), y), w(x, y)]\n",
      "nothing to reduce\n",
      "[_Dterm(coeff=1, derivative=diff(w(x, y), y), context=<delierium.MatrixOrder.Context object at 0x7f4efc828f90>), _Dterm(coeff=1/2*x/((x^2 + y)*y), derivative=diff(z(x, y), y), context=<delierium.MatrixOrder.Context object at 0x7f4efc828f90>), _Dterm(coeff=-1/y, derivative=w(x, y), context=<delierium.MatrixOrder.Context object at 0x7f4efc828f90>)]\n",
      "................ reduce_inner\n",
      "     e1:, [diff(w(x, y), y), diff(z(x, y), y), w(x, y)]\n",
      "     e2:, [diff(w(x, y), x, y), diff(z(x, y), x, y), diff(w(x, y), y), diff(w(x, y), x), diff(z(x, y), y), w(x, y)]\n",
      "nothing to reduce\n",
      "[_Dterm(coeff=1, derivative=diff(w(x, y), y), context=<delierium.MatrixOrder.Context object at 0x7f4efc828f90>), _Dterm(coeff=1/2*x/((x^2 + y)*y), derivative=diff(z(x, y), y), context=<delierium.MatrixOrder.Context object at 0x7f4efc828f90>), _Dterm(coeff=-1/y, derivative=w(x, y), context=<delierium.MatrixOrder.Context object at 0x7f4efc828f90>)]\n",
      "duration reorder: 6.266931056976318\n",
      "AAAAAAAAAAAAAAAAAAAAAAAAAAAAAAAAAAAAAAAAAAAAAAAAAAAAAAAAAAAAAAAAAAAAAAAAAAAAAAAAAAAAAAAAAAAAAAAAAAA 0\n"
     ]
    },
    {
     "data": {
      "text/latex": [
       "$\\displaystyle  w_{y,y}+ z_{x,y}-\\frac{1}{y} w_{y}+\\frac{1}{y^{2}} w$"
      ],
      "text/plain": [
       "<IPython.core.display.Math object>"
      ]
     },
     "metadata": {},
     "output_type": "display_data"
    },
    {
     "data": {
      "text/latex": [
       "$\\displaystyle  w_{x,y}-\\frac{2 \\, x}{y} z_{x,x}-\\frac{x}{y^{2}} w_{x}$"
      ],
      "text/plain": [
       "<IPython.core.display.Math object>"
      ]
     },
     "metadata": {},
     "output_type": "display_data"
    },
    {
     "data": {
      "text/latex": [
       "$\\displaystyle  w_{x,y}+ z_{x,y}+\\frac{1}{2 \\, y} w_{y}-\\frac{1}{y} w_{x}+\\frac{x}{y} z_{y}-\\frac{1}{2 \\, y^{2}} w$"
      ],
      "text/plain": [
       "<IPython.core.display.Math object>"
      ]
     },
     "metadata": {},
     "output_type": "display_data"
    },
    {
     "data": {
      "text/latex": [
       "$\\displaystyle  z_{x,y}+\\frac{y}{x} w_{y}+\\frac{2 \\, y}{x} z_{x}$"
      ],
      "text/plain": [
       "<IPython.core.display.Math object>"
      ]
     },
     "metadata": {},
     "output_type": "display_data"
    },
    {
     "data": {
      "text/latex": [
       "$\\displaystyle  w_{y}+\\frac{x}{2 \\, {\\left(x^{2} y + y^{2}\\right)}} z_{y}-\\frac{1}{y} w$"
      ],
      "text/plain": [
       "<IPython.core.display.Math object>"
      ]
     },
     "metadata": {},
     "output_type": "display_data"
    },
    {
     "name": "stdout",
     "output_type": "stream",
     "text": [
      "................ reduce_inner\n",
      "     e1:, [diff(w(x, y), y), diff(z(x, y), y), w(x, y)]\n",
      "     e2:, [diff(w(x, y), y, y), diff(z(x, y), y, y), diff(z(x, y), x, y), diff(w(x, y), y), diff(z(x, y), y), w(x, y)]\n",
      "nothing to reduce\n",
      "[_Dterm(coeff=1, derivative=diff(w(x, y), y), context=<delierium.MatrixOrder.Context object at 0x7f4efc828f90>), _Dterm(coeff=1/2*x/((x^2 + y)*y), derivative=diff(z(x, y), y), context=<delierium.MatrixOrder.Context object at 0x7f4efc828f90>), _Dterm(coeff=-1/y, derivative=w(x, y), context=<delierium.MatrixOrder.Context object at 0x7f4efc828f90>)]\n",
      "................ reduce_inner\n",
      "     e1:, [diff(w(x, y), y), diff(z(x, y), y), w(x, y)]\n",
      "     e2:, [diff(w(x, y), x, y), diff(z(x, y), x, y), diff(z(x, y), x, x), diff(w(x, y), y), diff(w(x, y), x), diff(z(x, y), y), w(x, y)]\n",
      "nothing to reduce\n",
      "[_Dterm(coeff=1, derivative=diff(w(x, y), y), context=<delierium.MatrixOrder.Context object at 0x7f4efc828f90>), _Dterm(coeff=1/2*x/((x^2 + y)*y), derivative=diff(z(x, y), y), context=<delierium.MatrixOrder.Context object at 0x7f4efc828f90>), _Dterm(coeff=-1/y, derivative=w(x, y), context=<delierium.MatrixOrder.Context object at 0x7f4efc828f90>)]\n",
      "................ reduce_inner\n",
      "     e1:, [diff(w(x, y), y), diff(z(x, y), y), w(x, y)]\n",
      "     e2:, [diff(w(x, y), x, y), diff(z(x, y), x, y), diff(w(x, y), y), diff(w(x, y), x), diff(z(x, y), y), w(x, y)]\n",
      "nothing to reduce\n",
      "[_Dterm(coeff=1, derivative=diff(w(x, y), y), context=<delierium.MatrixOrder.Context object at 0x7f4efc828f90>), _Dterm(coeff=1/2*x/((x^2 + y)*y), derivative=diff(z(x, y), y), context=<delierium.MatrixOrder.Context object at 0x7f4efc828f90>), _Dterm(coeff=-1/y, derivative=w(x, y), context=<delierium.MatrixOrder.Context object at 0x7f4efc828f90>)]\n",
      "................ reduce_inner\n",
      "     e1:, [diff(w(x, y), y), diff(z(x, y), y), w(x, y)]\n",
      "     e2:, [diff(z(x, y), x, y), diff(w(x, y), y), diff(z(x, y), y), diff(z(x, y), x), w(x, y)]\n",
      "nothing to reduce\n",
      "[_Dterm(coeff=1, derivative=diff(w(x, y), y), context=<delierium.MatrixOrder.Context object at 0x7f4efc828f90>), _Dterm(coeff=1/2*x/((x^2 + y)*y), derivative=diff(z(x, y), y), context=<delierium.MatrixOrder.Context object at 0x7f4efc828f90>), _Dterm(coeff=-1/y, derivative=w(x, y), context=<delierium.MatrixOrder.Context object at 0x7f4efc828f90>)]\n",
      "duration reorder: 6.425781011581421\n",
      "AAAAAAAAAAAAAAAAAAAAAAAAAAAAAAAAAAAAAAAAAAAAAAAAAAAAAAAAAAAAAAAAAAAAAAAAAAAAAAAAAAAAAAAAAAAAAAAAAAA 0\n"
     ]
    },
    {
     "data": {
      "text/latex": [
       "$\\displaystyle  w_{y,y}+ z_{x,y}-\\frac{1}{y} w_{y}+\\frac{1}{y^{2}} w$"
      ],
      "text/plain": [
       "<IPython.core.display.Math object>"
      ]
     },
     "metadata": {},
     "output_type": "display_data"
    },
    {
     "data": {
      "text/latex": [
       "$\\displaystyle  w_{x,y}-\\frac{2 \\, x}{y} z_{x,x}-\\frac{x}{y^{2}} w_{x}$"
      ],
      "text/plain": [
       "<IPython.core.display.Math object>"
      ]
     },
     "metadata": {},
     "output_type": "display_data"
    },
    {
     "data": {
      "text/latex": [
       "$\\displaystyle  w_{x,y}+ z_{x,y}+\\frac{1}{2 \\, y} w_{y}-\\frac{1}{y} w_{x}+\\frac{x}{y} z_{y}-\\frac{1}{2 \\, y^{2}} w$"
      ],
      "text/plain": [
       "<IPython.core.display.Math object>"
      ]
     },
     "metadata": {},
     "output_type": "display_data"
    },
    {
     "data": {
      "text/latex": [
       "$\\displaystyle  z_{x,y}+\\frac{y}{x} w_{y}+\\frac{2 \\, y}{x} z_{x}$"
      ],
      "text/plain": [
       "<IPython.core.display.Math object>"
      ]
     },
     "metadata": {},
     "output_type": "display_data"
    },
    {
     "data": {
      "text/latex": [
       "$\\displaystyle  w_{y}+\\frac{x}{2 \\, {\\left(x^{2} y + y^{2}\\right)}} z_{y}-\\frac{1}{y} w$"
      ],
      "text/plain": [
       "<IPython.core.display.Math object>"
      ]
     },
     "metadata": {},
     "output_type": "display_data"
    },
    {
     "name": "stdout",
     "output_type": "stream",
     "text": [
      "after autoreduce\n"
     ]
    },
    {
     "data": {
      "text/latex": [
       "$\\displaystyle  w_{y,y}+ z_{x,y}-\\frac{1}{y} w_{y}+\\frac{1}{y^{2}} w$"
      ],
      "text/plain": [
       "<IPython.core.display.Math object>"
      ]
     },
     "metadata": {},
     "output_type": "display_data"
    },
    {
     "data": {
      "text/latex": [
       "$\\displaystyle  w_{x,y}-\\frac{2 \\, x}{y} z_{x,x}-\\frac{x}{y^{2}} w_{x}$"
      ],
      "text/plain": [
       "<IPython.core.display.Math object>"
      ]
     },
     "metadata": {},
     "output_type": "display_data"
    },
    {
     "data": {
      "text/latex": [
       "$\\displaystyle  w_{x,y}+ z_{x,y}+\\frac{1}{2 \\, y} w_{y}-\\frac{1}{y} w_{x}+\\frac{x}{y} z_{y}-\\frac{1}{2 \\, y^{2}} w$"
      ],
      "text/plain": [
       "<IPython.core.display.Math object>"
      ]
     },
     "metadata": {},
     "output_type": "display_data"
    },
    {
     "data": {
      "text/latex": [
       "$\\displaystyle  z_{x,y}+\\frac{y}{x} w_{y}+\\frac{2 \\, y}{x} z_{x}$"
      ],
      "text/plain": [
       "<IPython.core.display.Math object>"
      ]
     },
     "metadata": {},
     "output_type": "display_data"
    },
    {
     "data": {
      "text/latex": [
       "$\\displaystyle  w_{y}+\\frac{x}{2 \\, {\\left(x^{2} y + y^{2}\\right)}} z_{y}-\\frac{1}{y} w$"
      ],
      "text/plain": [
       "<IPython.core.display.Math object>"
      ]
     },
     "metadata": {},
     "output_type": "display_data"
    },
    {
     "name": "stdout",
     "output_type": "stream",
     "text": [
      "after complete system\n"
     ]
    },
    {
     "data": {
      "text/latex": [
       "$\\displaystyle  w_{y}+\\frac{x}{2 \\, {\\left(x^{2} y + y^{2}\\right)}} z_{y}-\\frac{1}{y} w$"
      ],
      "text/plain": [
       "<IPython.core.display.Math object>"
      ]
     },
     "metadata": {},
     "output_type": "display_data"
    },
    {
     "data": {
      "text/latex": [
       "$\\displaystyle  z_{x,y}+\\frac{y}{x} w_{y}+\\frac{2 \\, y}{x} z_{x}$"
      ],
      "text/plain": [
       "<IPython.core.display.Math object>"
      ]
     },
     "metadata": {},
     "output_type": "display_data"
    },
    {
     "data": {
      "text/latex": [
       "$\\displaystyle  w_{x,y}-\\frac{2 \\, x}{y} z_{x,x}-\\frac{x}{y^{2}} w_{x}$"
      ],
      "text/plain": [
       "<IPython.core.display.Math object>"
      ]
     },
     "metadata": {},
     "output_type": "display_data"
    },
    {
     "data": {
      "text/latex": [
       "$\\displaystyle  w_{x,y}+ z_{x,y}+\\frac{1}{2 \\, y} w_{y}-\\frac{1}{y} w_{x}+\\frac{x}{y} z_{y}-\\frac{1}{2 \\, y^{2}} w$"
      ],
      "text/plain": [
       "<IPython.core.display.Math object>"
      ]
     },
     "metadata": {},
     "output_type": "display_data"
    },
    {
     "data": {
      "text/latex": [
       "$\\displaystyle  w_{y,y}+ z_{x,y}-\\frac{1}{y} w_{y}+\\frac{1}{y^{2}} w$"
      ],
      "text/plain": [
       "<IPython.core.display.Math object>"
      ]
     },
     "metadata": {},
     "output_type": "display_data"
    },
    {
     "name": "stdout",
     "output_type": "stream",
     "text": [
      "adding c=-2*x*diff(z(x, y), x, x, y)/y - x*diff(w(x, y), x, y)/y^2 + diff(w(x, y), x, y)/y + 2*x*diff(z(x, y), x, x)/y^2 + 2*x*diff(w(x, y), x)/y^3 - diff(w(x, y), x)/y^2 - diff(z(x, y), x, x, y) to result\n",
      "adding c=x*diff(z(x, y), y, y)/y + 1/2*diff(w(x, y), y, y)/y - x*diff(z(x, y), y)/y^2 - diff(w(x, y), y)/y^2 + w(x, y)/y^3 - diff(z(x, y), x, x, y) + diff(z(x, y), x, y, y) to result\n",
      "  enter DP: 7.83803915977478\n",
      "    _init: 8.055568933486938\n",
      "-2*x*diff(z(x, y), x, x, y)/y - x*diff(w(x, y), x, y)/y^2 + diff(w(x, y), x, y)/y + 2*x*diff(z(x, y), x, x)/y^2 + 2*x*diff(w(x, y), x)/y^3 - diff(w(x, y), x)/y^2 - diff(z(x, y), x, x, y)\n",
      "  exit DP: 8.646636724472046\n",
      "................ reduce_inner\n",
      "     e1:, [diff(z(x, y), x, x, y), diff(w(x, y), x, y), diff(z(x, y), x, x), diff(w(x, y), x)]\n",
      "     e2:, [diff(w(x, y), y), diff(z(x, y), y), w(x, y)]\n",
      "   ===> diff, t.derivative=diff(w(x, y), x, y), *(x/y^2 - 1/y)/(2*x/y + 1), [x]\n",
      "    myval=None\n",
      "    myval=None\n",
      "    myval=None\n",
      "    myval=None\n",
      "    myval=None\n",
      "    myval=None\n",
      "nothing to reduce\n",
      "[_Dterm(coeff=1, derivative=diff(z(x, y), x, x, y), context=<delierium.MatrixOrder.Context object at 0x7f4efc828f90>), _Dterm(coeff=(x/y^2 - 1/y)/(2*x/y + 1), derivative=diff(w(x, y), x, y), context=<delierium.MatrixOrder.Context object at 0x7f4efc828f90>), _Dterm(coeff=1/2*x*(x/y^2 - 1/y)/((x^2 + y)*y*(2*x/y + 1)), derivative=diff(z(x, y), x, y), context=<delierium.MatrixOrder.Context object at 0x7f4efc828f90>), _Dterm(coeff=-2*x/(y^2*(2*x/y + 1)), derivative=diff(z(x, y), x, x), context=<delierium.MatrixOrder.Context object at 0x7f4efc828f90>), _Dterm(coeff=0, derivative=diff(w(x, y), y), context=<delierium.MatrixOrder.Context object at 0x7f4efc828f90>), _Dterm(coeff=-(2*x/y^3 - 1/y^2)/(2*x/y + 1), derivative=diff(w(x, y), x), context=<delierium.MatrixOrder.Context object at 0x7f4efc828f90>), _Dterm(coeff=-1/2*(x/y^2 - 1/y)*(2*x^2/((x^2 + y)^2*y) - 1/((x^2 + y)*y))/(2*x/y + 1), derivative=diff(z(x, y), y), context=<delierium.MatrixOrder.Context object at 0x7f4efc828f90>), _Dterm(coeff=0, derivative=w(x, y), context=<delierium.MatrixOrder.Context object at 0x7f4efc828f90>)]\n",
      "................ reduce_inner\n",
      "     e1:, [diff(z(x, y), x, x, y), diff(w(x, y), x, y), diff(z(x, y), x, y), diff(z(x, y), x, x), diff(w(x, y), y), diff(w(x, y), x), diff(z(x, y), y), w(x, y)]\n",
      "     e2:, [diff(z(x, y), x, y), diff(w(x, y), y), diff(z(x, y), y), diff(z(x, y), x), w(x, y)]\n",
      "   ===> diff, t.derivative=diff(z(x, y), x, x, y), *1, [x]\n",
      "    myval=_Dterm(coeff=1, derivative=diff(z(x, y), x, x, y), context=<delierium.MatrixOrder.Context object at 0x7f4efc828f90>)\n",
      "    myval=None\n",
      "    myval=None\n",
      "    myval=None\n",
      "    myval=None\n",
      "    myval=None\n",
      "    myval=None\n",
      "    myval=None\n",
      "    myval=None\n",
      "    myval=None\n",
      "     subt t.derivative=diff(z(x, y), x, y), *c=1/2*x*(x/y^2 - 1/y)/((x^2 + y)*y*(2*x/y + 1)) 9.24320650100708\n",
      "nothing to reduce\n",
      "nothing to reduce\n",
      "[_Dterm(coeff=0, derivative=diff(z(x, y), x, x, y), context=<delierium.MatrixOrder.Context object at 0x7f4efc828f90>), _Dterm(coeff=(x/y^2 - 1/y)/(2*x/y + 1), derivative=diff(w(x, y), x, y), context=<delierium.MatrixOrder.Context object at 0x7f4efc828f90>), _Dterm(coeff=1/2*x*(x/y^2 - 1/y)/((x^2 + y)*y*(2*x/y + 1)), derivative=diff(z(x, y), x, y), context=<delierium.MatrixOrder.Context object at 0x7f4efc828f90>), _Dterm(coeff=-2*x/(y^2*(2*x/y + 1)), derivative=diff(z(x, y), x, x), context=<delierium.MatrixOrder.Context object at 0x7f4efc828f90>), _Dterm(coeff=0, derivative=diff(w(x, y), y), context=<delierium.MatrixOrder.Context object at 0x7f4efc828f90>), _Dterm(coeff=-(2*x/y^3 - 1/y^2)/(2*x/y + 1), derivative=diff(w(x, y), x), context=<delierium.MatrixOrder.Context object at 0x7f4efc828f90>), _Dterm(coeff=-1/2*(x/y^2 - 1/y)*(2*x^2/((x^2 + y)^2*y) - 1/((x^2 + y)*y))/(2*x/y + 1), derivative=diff(z(x, y), y), context=<delierium.MatrixOrder.Context object at 0x7f4efc828f90>), _Dterm(coeff=-2*y/x^2, derivative=diff(z(x, y), x), context=<delierium.MatrixOrder.Context object at 0x7f4efc828f90>), _Dterm(coeff=0, derivative=w(x, y), context=<delierium.MatrixOrder.Context object at 0x7f4efc828f90>)]\n",
      "................ reduce_inner\n",
      "     e1:, [diff(z(x, y), x, x, y), diff(w(x, y), x, y), diff(z(x, y), x, y), diff(z(x, y), x, x), diff(w(x, y), y), diff(w(x, y), x), diff(z(x, y), y), diff(z(x, y), x), w(x, y)]\n",
      "     e2:, [diff(w(x, y), x, y), diff(z(x, y), x, y), diff(z(x, y), x, x), diff(w(x, y), y), diff(w(x, y), x), diff(z(x, y), y), w(x, y)]\n",
      "     subt t.derivative=diff(w(x, y), x, y), *c=(x/y^2 - 1/y)/(2*x/y + 1) 9.245203256607056\n",
      "nothing to reduce\n",
      "nothing to reduce\n",
      "[_Dterm(coeff=0, derivative=diff(z(x, y), x, x, y), context=<delierium.MatrixOrder.Context object at 0x7f4efc828f90>), _Dterm(coeff=(x/y^2 - 1/y)/(2*x/y + 1), derivative=diff(w(x, y), x, y), context=<delierium.MatrixOrder.Context object at 0x7f4efc828f90>), _Dterm(coeff=1/2*x*(x/y^2 - 1/y)/((x^2 + y)*y*(2*x/y + 1)), derivative=diff(z(x, y), x, y), context=<delierium.MatrixOrder.Context object at 0x7f4efc828f90>), _Dterm(coeff=-2*x/(y^2*(2*x/y + 1)), derivative=diff(z(x, y), x, x), context=<delierium.MatrixOrder.Context object at 0x7f4efc828f90>), _Dterm(coeff=0, derivative=diff(w(x, y), y), context=<delierium.MatrixOrder.Context object at 0x7f4efc828f90>), _Dterm(coeff=-(2*x/y^3 - 1/y^2)/(2*x/y + 1), derivative=diff(w(x, y), x), context=<delierium.MatrixOrder.Context object at 0x7f4efc828f90>), _Dterm(coeff=-1/2*(x/y^2 - 1/y)*(2*x^2/((x^2 + y)^2*y) - 1/((x^2 + y)*y))/(2*x/y + 1), derivative=diff(z(x, y), y), context=<delierium.MatrixOrder.Context object at 0x7f4efc828f90>), _Dterm(coeff=-2*y/x^2, derivative=diff(z(x, y), x), context=<delierium.MatrixOrder.Context object at 0x7f4efc828f90>), _Dterm(coeff=0, derivative=w(x, y), context=<delierium.MatrixOrder.Context object at 0x7f4efc828f90>)]\n",
      "................ reduce_inner\n",
      "     e1:, [diff(z(x, y), x, x, y), diff(w(x, y), x, y), diff(z(x, y), x, y), diff(z(x, y), x, x), diff(w(x, y), y), diff(w(x, y), x), diff(z(x, y), y), diff(z(x, y), x), w(x, y)]\n",
      "     e2:, [diff(w(x, y), x, y), diff(z(x, y), x, y), diff(w(x, y), y), diff(w(x, y), x), diff(z(x, y), y), w(x, y)]\n",
      "     subt t.derivative=diff(w(x, y), x, y), *c=(x/y^2 - 1/y)/(2*x/y + 1) 9.247209787368774\n",
      "nothing to reduce\n",
      "nothing to reduce\n",
      "[_Dterm(coeff=0, derivative=diff(z(x, y), x, x, y), context=<delierium.MatrixOrder.Context object at 0x7f4efc828f90>), _Dterm(coeff=(x/y^2 - 1/y)/(2*x/y + 1), derivative=diff(w(x, y), x, y), context=<delierium.MatrixOrder.Context object at 0x7f4efc828f90>), _Dterm(coeff=1/2*x*(x/y^2 - 1/y)/((x^2 + y)*y*(2*x/y + 1)), derivative=diff(z(x, y), x, y), context=<delierium.MatrixOrder.Context object at 0x7f4efc828f90>), _Dterm(coeff=-2*x/(y^2*(2*x/y + 1)), derivative=diff(z(x, y), x, x), context=<delierium.MatrixOrder.Context object at 0x7f4efc828f90>), _Dterm(coeff=0, derivative=diff(w(x, y), y), context=<delierium.MatrixOrder.Context object at 0x7f4efc828f90>), _Dterm(coeff=-(2*x/y^3 - 1/y^2)/(2*x/y + 1), derivative=diff(w(x, y), x), context=<delierium.MatrixOrder.Context object at 0x7f4efc828f90>), _Dterm(coeff=-1/2*(x/y^2 - 1/y)*(2*x^2/((x^2 + y)^2*y) - 1/((x^2 + y)*y))/(2*x/y + 1), derivative=diff(z(x, y), y), context=<delierium.MatrixOrder.Context object at 0x7f4efc828f90>), _Dterm(coeff=-2*y/x^2, derivative=diff(z(x, y), x), context=<delierium.MatrixOrder.Context object at 0x7f4efc828f90>), _Dterm(coeff=0, derivative=w(x, y), context=<delierium.MatrixOrder.Context object at 0x7f4efc828f90>)]\n",
      "................ reduce_inner\n",
      "     e1:, [diff(z(x, y), x, x, y), diff(w(x, y), x, y), diff(z(x, y), x, y), diff(z(x, y), x, x), diff(w(x, y), y), diff(w(x, y), x), diff(z(x, y), y), diff(z(x, y), x), w(x, y)]\n",
      "     e2:, [diff(w(x, y), y, y), diff(z(x, y), y, y), diff(z(x, y), x, y), diff(w(x, y), y), diff(z(x, y), y), w(x, y)]\n",
      "nothing to reduce\n",
      "nothing to reduce\n",
      "nothing to reduce\n",
      "[_Dterm(coeff=0, derivative=diff(z(x, y), x, x, y), context=<delierium.MatrixOrder.Context object at 0x7f4efc828f90>), _Dterm(coeff=(x/y^2 - 1/y)/(2*x/y + 1), derivative=diff(w(x, y), x, y), context=<delierium.MatrixOrder.Context object at 0x7f4efc828f90>), _Dterm(coeff=1/2*x*(x/y^2 - 1/y)/((x^2 + y)*y*(2*x/y + 1)), derivative=diff(z(x, y), x, y), context=<delierium.MatrixOrder.Context object at 0x7f4efc828f90>), _Dterm(coeff=-2*x/(y^2*(2*x/y + 1)), derivative=diff(z(x, y), x, x), context=<delierium.MatrixOrder.Context object at 0x7f4efc828f90>), _Dterm(coeff=0, derivative=diff(w(x, y), y), context=<delierium.MatrixOrder.Context object at 0x7f4efc828f90>), _Dterm(coeff=-(2*x/y^3 - 1/y^2)/(2*x/y + 1), derivative=diff(w(x, y), x), context=<delierium.MatrixOrder.Context object at 0x7f4efc828f90>), _Dterm(coeff=-1/2*(x/y^2 - 1/y)*(2*x^2/((x^2 + y)^2*y) - 1/((x^2 + y)*y))/(2*x/y + 1), derivative=diff(z(x, y), y), context=<delierium.MatrixOrder.Context object at 0x7f4efc828f90>), _Dterm(coeff=-2*y/x^2, derivative=diff(z(x, y), x), context=<delierium.MatrixOrder.Context object at 0x7f4efc828f90>), _Dterm(coeff=0, derivative=w(x, y), context=<delierium.MatrixOrder.Context object at 0x7f4efc828f90>)]\n",
      "  enter DP: 9.250148296356201\n",
      "    _init: 9.449741125106812\n",
      "x*diff(z(x, y), y, y)/y + 1/2*diff(w(x, y), y, y)/y - x*diff(z(x, y), y)/y^2 - diff(w(x, y), y)/y^2 + w(x, y)/y^3 - diff(z(x, y), x, x, y) + diff(z(x, y), x, y, y)\n",
      "  exit DP: 10.877153158187866\n",
      "................ reduce_inner\n",
      "     e1:, [diff(z(x, y), x, y, y), diff(z(x, y), x, x, y), diff(w(x, y), y, y), diff(z(x, y), y, y), diff(w(x, y), y), diff(z(x, y), y), w(x, y)]\n",
      "     e2:, [diff(w(x, y), y), diff(z(x, y), y), w(x, y)]\n",
      "   ===> diff, t.derivative=diff(w(x, y), y, y), *1/2/y, [y]\n",
      "    myval=None\n",
      "    myval=None\n",
      "    myval=None\n",
      "    myval=None\n",
      "    myval=None\n",
      "    myval=None\n",
      "     subt t.derivative=diff(w(x, y), y), *c=-1/y^2 10.878612756729126\n",
      "[_Dterm(coeff=1, derivative=diff(z(x, y), x, y, y), context=<delierium.MatrixOrder.Context object at 0x7f4efc828f90>), _Dterm(coeff=-1, derivative=diff(z(x, y), x, x, y), context=<delierium.MatrixOrder.Context object at 0x7f4efc828f90>), _Dterm(coeff=1/2/y, derivative=diff(w(x, y), y, y), context=<delierium.MatrixOrder.Context object at 0x7f4efc828f90>), _Dterm(coeff=x/y, derivative=diff(z(x, y), y, y), context=<delierium.MatrixOrder.Context object at 0x7f4efc828f90>), _Dterm(coeff=-1/y^2, derivative=diff(w(x, y), y), context=<delierium.MatrixOrder.Context object at 0x7f4efc828f90>), _Dterm(coeff=-x/y^2, derivative=diff(z(x, y), y), context=<delierium.MatrixOrder.Context object at 0x7f4efc828f90>), _Dterm(coeff=y^(-3), derivative=w(x, y), context=<delierium.MatrixOrder.Context object at 0x7f4efc828f90>)]\n",
      "................ reduce_inner\n",
      "     e1:, [diff(z(x, y), x, y, y), diff(z(x, y), x, x, y), diff(w(x, y), y, y), diff(z(x, y), y, y), diff(w(x, y), y), diff(z(x, y), y), w(x, y)]\n",
      "     e2:, [diff(z(x, y), x, y), diff(w(x, y), y), diff(z(x, y), y), diff(z(x, y), x), w(x, y)]\n",
      "   ===> diff, t.derivative=diff(z(x, y), x, y, y), *1, [y]\n",
      "    myval=_Dterm(coeff=1, derivative=diff(z(x, y), x, y, y), context=<delierium.MatrixOrder.Context object at 0x7f4efc828f90>)\n",
      "    myval=None\n",
      "    myval=None\n",
      "    myval=None\n",
      "    myval=None\n",
      "    myval=None\n",
      "    myval=None\n",
      "    myval=None\n"
     ]
    }
   ],
   "source": [
    "jb = Janet_Basis(system_2_24, [w, z], [y,x], Mgrevlex)\n",
    "jb.show(rich=True)"
   ]
  },
  {
   "cell_type": "code",
   "execution_count": null,
   "id": "72e3f6a3-29ef-4739-982f-a6179bd4eedc",
   "metadata": {},
   "outputs": [],
   "source": []
  }
 ],
 "metadata": {
  "kernelspec": {
   "display_name": "SageMath 10.2",
   "language": "sage",
   "name": "sagemath"
  },
  "language_info": {
   "codemirror_mode": {
    "name": "ipython",
    "version": 3
   },
   "file_extension": ".py",
   "mimetype": "text/x-python",
   "name": "python",
   "nbconvert_exporter": "python",
   "pygments_lexer": "ipython3",
   "version": "3.11.7"
  },
  "widgets": {
   "application/vnd.jupyter.widget-state+json": {
    "state": {},
    "version_major": 2,
    "version_minor": 0
   }
  }
 },
 "nbformat": 4,
 "nbformat_minor": 5
}
