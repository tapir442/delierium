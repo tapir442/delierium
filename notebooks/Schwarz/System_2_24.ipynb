{
 "cells": [
  {
   "cell_type": "code",
   "execution_count": 1,
   "id": "1ddf6005-3cc1-4b70-8764-5fa6d487e6a5",
   "metadata": {},
   "outputs": [],
   "source": [
    "from sage.all import *\n",
    "\n",
    "from delierium.MatrixOrder import Context, Mgrlex, Mgrevlex, Mlex\n",
    "from delierium.JanetBasis import Janet_Basis\n",
    "from delierium.helpers import latexer\n",
    "from IPython.display import Math\n",
    "\n",
    "vars = var (\"x y\")\n",
    "z = function(\"z\")(x,y)\n",
    "w = function(\"w\")(x,y)\n",
    "# ctx: items are in descending order\n",
    "ctx_grevlex_f = Context((w,z), (x,y), Mgrevlex)\n",
    "ctx_grlex_f   = Context((w,z), (x,y), Mgrlex)\n",
    "ctx_lex_f     = Context((w,z), (x,y), Mlex)\n",
    "\n",
    "f1 = diff(w, y) + x*diff(z,y)/(2*y*(x**2+y)) - w/y\n",
    "f2 = diff(z,x,y) + y*diff(w,y)/x + 2*y*diff(z, x)/x\n",
    "f3 = diff(w, x,y) - 2*x*diff(z, x,2)/y - x*diff(w,x)/y**2\n",
    "f4 = diff(w, x,y) + diff(z, x,y) + diff(w, y)/(2*y) - diff(w,x)/y + x* diff(z, y)/y - w/(2*y**2)\n",
    "f5 = diff(w,y,y) + diff(z,x,y) - diff(w, y)/y + w/(y**2)\n",
    "\n",
    "system_2_24 = [f4,f2,f1,f5,f3]"
   ]
  },
  {
   "cell_type": "code",
   "execution_count": null,
   "id": "48199092-9276-45a3-b2cf-35ea72dfdc31",
   "metadata": {},
   "outputs": [
    {
     "name": "stdout",
     "output_type": "stream",
     "text": [
      "****************************************************************************************\n",
      "This is where we start, loop=1\n"
     ]
    },
    {
     "data": {
      "text/latex": [
       "$\\displaystyle  z_{y}+\\frac{2 \\, {\\left(x^{2} y + y^{2}\\right)}}{x} w_{y}-\\frac{2 \\, {\\left(x^{2} + y\\right)}}{x} w$"
      ],
      "text/plain": [
       "<IPython.core.display.Math object>"
      ]
     },
     "metadata": {},
     "output_type": "display_data"
    },
    {
     "data": {
      "text/latex": [
       "$\\displaystyle  z_{x,y}+ w_{x,y}+\\frac{x}{y} z_{y}-\\frac{1}{y} w_{x}+\\frac{1}{2 \\, y} w_{y}-\\frac{1}{2 \\, y^{2}} w$"
      ],
      "text/plain": [
       "<IPython.core.display.Math object>"
      ]
     },
     "metadata": {},
     "output_type": "display_data"
    },
    {
     "data": {
      "text/latex": [
       "$\\displaystyle  z_{x,y}+\\frac{2 \\, y}{x} z_{x}+\\frac{y}{x} w_{y}$"
      ],
      "text/plain": [
       "<IPython.core.display.Math object>"
      ]
     },
     "metadata": {},
     "output_type": "display_data"
    },
    {
     "data": {
      "text/latex": [
       "$\\displaystyle  z_{x,y}+ w_{y,y}-\\frac{1}{y} w_{y}+\\frac{1}{y^{2}} w$"
      ],
      "text/plain": [
       "<IPython.core.display.Math object>"
      ]
     },
     "metadata": {},
     "output_type": "display_data"
    },
    {
     "data": {
      "text/latex": [
       "$\\displaystyle  z_{x,x}-\\frac{y}{2 \\, x} w_{x,y}+\\frac{1}{2 \\, y} w_{x}$"
      ],
      "text/plain": [
       "<IPython.core.display.Math object>"
      ]
     },
     "metadata": {},
     "output_type": "display_data"
    },
    {
     "name": "stdout",
     "output_type": "stream",
     "text": [
      "AAAAAAAAAAAAAAAAAAAAAAAAAAAAAAAAAAAAAAAAAAAAAAAAAAAAAAAAAAAAAAAAAAAAAAAAAAAAAAAAAAAAAAAAAAAAAAAAAAA 0\n"
     ]
    },
    {
     "data": {
      "text/latex": [
       "$\\displaystyle  z_{y}+\\frac{2 \\, {\\left(x^{2} y + y^{2}\\right)}}{x} w_{y}-\\frac{2 \\, {\\left(x^{2} + y\\right)}}{x} w$"
      ],
      "text/plain": [
       "<IPython.core.display.Math object>"
      ]
     },
     "metadata": {},
     "output_type": "display_data"
    },
    {
     "data": {
      "text/latex": [
       "$\\displaystyle  w_{x,y}+(\\frac{1}{y}) w_{x}+(\\frac{4 \\, x^{4} y + 8 \\, x^{2} y^{2} - 4 \\, y^{3} - x^{2}}{2 \\, {\\left(2 \\, x^{3} y^{2} + 2 \\, x y^{3} - x^{2} y\\right)}}) w_{y}+(\\frac{4 \\, x^{4} y + 8 \\, x^{2} y^{2} - 4 \\, y^{3} - x^{2}}{2 \\, {\\left(2 \\, x^{3} y^{3} + 2 \\, x y^{4} - x^{2} y^{2}\\right)}}) w$"
      ],
      "text/plain": [
       "<IPython.core.display.Math object>"
      ]
     },
     "metadata": {},
     "output_type": "display_data"
    },
    {
     "data": {
      "text/latex": [
       "$\\displaystyle  w_{x,y}-\\frac{1}{x^{2} + y} z_{x}-\\frac{1}{y} w_{x}+\\frac{2 \\, x^{2} - x - 2 \\, y}{2 \\, {\\left(x^{3} + x y\\right)}} w_{y}-\\frac{x^{2} - y}{x^{3} y + x y^{2}} w$"
      ],
      "text/plain": [
       "<IPython.core.display.Math object>"
      ]
     },
     "metadata": {},
     "output_type": "display_data"
    },
    {
     "data": {
      "text/latex": [
       "$\\displaystyle  w_{x,y}-\\frac{x}{2 \\, {\\left(x^{2} y + y^{2}\\right)}} w_{y,y}-\\frac{1}{y} w_{x}+\\frac{2 \\, x^{2} y^{2} - 2 \\, y^{3} + x^{2}}{2 \\, {\\left(x^{3} y^{2} + x y^{3}\\right)}} w_{y}-\\frac{2 \\, x^{2} y^{2} - 2 \\, y^{3} + x^{2}}{2 \\, {\\left(x^{3} y^{3} + x y^{4}\\right)}} w$"
      ],
      "text/plain": [
       "<IPython.core.display.Math object>"
      ]
     },
     "metadata": {},
     "output_type": "display_data"
    },
    {
     "data": {
      "text/latex": [
       "$\\displaystyle  z_{x,x}-\\frac{y}{2 \\, x} w_{x,y}+\\frac{1}{2 \\, y} w_{x}$"
      ],
      "text/plain": [
       "<IPython.core.display.Math object>"
      ]
     },
     "metadata": {},
     "output_type": "display_data"
    },
    {
     "name": "stdout",
     "output_type": "stream",
     "text": [
      "AAAAAAAAAAAAAAAAAAAAAAAAAAAAAAAAAAAAAAAAAAAAAAAAAAAAAAAAAAAAAAAAAAAAAAAAAAAAAAAAAAAAAAAAAAAAAAAAAAA 1\n"
     ]
    },
    {
     "data": {
      "text/latex": [
       "$\\displaystyle  z_{y}+\\frac{2 \\, {\\left(x^{2} y + y^{2}\\right)}}{x} w_{y}-\\frac{2 \\, {\\left(x^{2} + y\\right)}}{x} w$"
      ],
      "text/plain": [
       "<IPython.core.display.Math object>"
      ]
     },
     "metadata": {},
     "output_type": "display_data"
    },
    {
     "data": {
      "text/latex": [
       "$\\displaystyle  w_{x,y}+(\\frac{1}{y}) w_{x}+(\\frac{4 \\, x^{4} y + 8 \\, x^{2} y^{2} - 4 \\, y^{3} - x^{2}}{2 \\, {\\left(2 \\, x^{3} y^{2} + 2 \\, x y^{3} - x^{2} y\\right)}}) w_{y}+(\\frac{4 \\, x^{4} y + 8 \\, x^{2} y^{2} - 4 \\, y^{3} - x^{2}}{2 \\, {\\left(2 \\, x^{3} y^{3} + 2 \\, x y^{4} - x^{2} y^{2}\\right)}}) w$"
      ],
      "text/plain": [
       "<IPython.core.display.Math object>"
      ]
     },
     "metadata": {},
     "output_type": "display_data"
    },
    {
     "data": {
      "text/latex": [
       "$\\displaystyle  w_{x,y}-\\frac{1}{x^{2} + y} z_{x}-\\frac{1}{y} w_{x}+\\frac{2 \\, x^{2} - x - 2 \\, y}{2 \\, {\\left(x^{3} + x y\\right)}} w_{y}-\\frac{x^{2} - y}{x^{3} y + x y^{2}} w$"
      ],
      "text/plain": [
       "<IPython.core.display.Math object>"
      ]
     },
     "metadata": {},
     "output_type": "display_data"
    },
    {
     "data": {
      "text/latex": [
       "$\\displaystyle  w_{x,y}-\\frac{x}{2 \\, {\\left(x^{2} y + y^{2}\\right)}} w_{y,y}-\\frac{1}{y} w_{x}+\\frac{2 \\, x^{2} y^{2} - 2 \\, y^{3} + x^{2}}{2 \\, {\\left(x^{3} y^{2} + x y^{3}\\right)}} w_{y}-\\frac{2 \\, x^{2} y^{2} - 2 \\, y^{3} + x^{2}}{2 \\, {\\left(x^{3} y^{3} + x y^{4}\\right)}} w$"
      ],
      "text/plain": [
       "<IPython.core.display.Math object>"
      ]
     },
     "metadata": {},
     "output_type": "display_data"
    },
    {
     "data": {
      "text/latex": [
       "$\\displaystyle  z_{x,x}-\\frac{y}{2 \\, x} w_{x,y}+\\frac{1}{2 \\, y} w_{x}$"
      ],
      "text/plain": [
       "<IPython.core.display.Math object>"
      ]
     },
     "metadata": {},
     "output_type": "display_data"
    },
    {
     "name": "stdout",
     "output_type": "stream",
     "text": [
      "AAAAAAAAAAAAAAAAAAAAAAAAAAAAAAAAAAAAAAAAAAAAAAAAAAAAAAAAAAAAAAAAAAAAAAAAAAAAAAAAAAAAAAAAAAAAAAAAAAA 1\n"
     ]
    },
    {
     "data": {
      "text/latex": [
       "$\\displaystyle  z_{y}+\\frac{2 \\, {\\left(x^{2} y + y^{2}\\right)}}{x} w_{y}-\\frac{2 \\, {\\left(x^{2} + y\\right)}}{x} w$"
      ],
      "text/plain": [
       "<IPython.core.display.Math object>"
      ]
     },
     "metadata": {},
     "output_type": "display_data"
    },
    {
     "data": {
      "text/latex": [
       "$\\displaystyle  z_{x}+\\frac{2 \\, {\\left(2 \\, x + 1\\right)} y^{3} - x^{3} + 2 \\, {\\left(4 \\, x^{3} + x^{2} - 1\\right)} y^{2} + 2 \\, {\\left(2 \\, x^{5} + x^{2} - x\\right)} y}{2 \\, {\\left(2 \\, x^{2} y^{2} + 2 \\, y^{3} - x y\\right)}} w_{y}-\\frac{4 \\, x y^{3} - x^{3} + 2 \\, {\\left(4 \\, x^{3} - 1\\right)} y^{2} + {\\left(4 \\, x^{5} + 2 \\, x^{2} - x\\right)} y}{2 \\, {\\left(2 \\, x^{2} y^{3} + 2 \\, y^{4} - x y^{2}\\right)}} w$"
      ],
      "text/plain": [
       "<IPython.core.display.Math object>"
      ]
     },
     "metadata": {},
     "output_type": "display_data"
    },
    {
     "data": {
      "text/latex": [
       "$\\displaystyle  w_{y,y}+\\frac{4 \\, x y^{4} - 3 \\, x^{3} y + 2 \\, {\\left(4 \\, x^{3} - 1\\right)} y^{3} + {\\left(4 \\, x^{5} + 2 \\, x^{2} - 3 \\, x\\right)} y^{2} + x^{2}}{2 \\, x^{3} y^{2} + 2 \\, x y^{3} - x^{2} y} w_{y}-\\frac{4 \\, x y^{4} - 3 \\, x^{3} y + 2 \\, {\\left(4 \\, x^{3} - 1\\right)} y^{3} + {\\left(4 \\, x^{5} + 2 \\, x^{2} - 3 \\, x\\right)} y^{2} + x^{2}}{2 \\, x^{3} y^{3} + 2 \\, x y^{4} - x^{2} y^{2}} w$"
      ],
      "text/plain": [
       "<IPython.core.display.Math object>"
      ]
     },
     "metadata": {},
     "output_type": "display_data"
    },
    {
     "data": {
      "text/latex": [
       "$\\displaystyle  w_{x,y}+(\\frac{1}{y}) w_{x}+(\\frac{4 \\, x^{4} y + 8 \\, x^{2} y^{2} - 4 \\, y^{3} - x^{2}}{2 \\, {\\left(2 \\, x^{3} y^{2} + 2 \\, x y^{3} - x^{2} y\\right)}}) w_{y}+(\\frac{4 \\, x^{4} y + 8 \\, x^{2} y^{2} - 4 \\, y^{3} - x^{2}}{2 \\, {\\left(2 \\, x^{3} y^{3} + 2 \\, x y^{4} - x^{2} y^{2}\\right)}}) w$"
      ],
      "text/plain": [
       "<IPython.core.display.Math object>"
      ]
     },
     "metadata": {},
     "output_type": "display_data"
    },
    {
     "data": {
      "text/latex": [
       "$\\displaystyle  z_{x,x}+(\\frac{x - y}{2 \\, x y}) w_{x}+(\\frac{4 \\, x^{4} y + 8 \\, x^{2} y^{2} - 4 \\, y^{3} - x^{2}}{4 \\, {\\left(2 \\, x^{4} y + 2 \\, x^{2} y^{2} - x^{3}\\right)}}) w_{y}+(\\frac{4 \\, x^{4} y + 8 \\, x^{2} y^{2} - 4 \\, y^{3} - x^{2}}{4 \\, {\\left(2 \\, x^{4} y^{2} + 2 \\, x^{2} y^{3} - x^{3} y\\right)}}) w$"
      ],
      "text/plain": [
       "<IPython.core.display.Math object>"
      ]
     },
     "metadata": {},
     "output_type": "display_data"
    },
    {
     "name": "stdout",
     "output_type": "stream",
     "text": [
      "AAAAAAAAAAAAAAAAAAAAAAAAAAAAAAAAAAAAAAAAAAAAAAAAAAAAAAAAAAAAAAAAAAAAAAAAAAAAAAAAAAAAAAAAAAAAAAAAAAA 2\n"
     ]
    },
    {
     "data": {
      "text/latex": [
       "$\\displaystyle  z_{y}+\\frac{2 \\, {\\left(x^{2} y + y^{2}\\right)}}{x} w_{y}-\\frac{2 \\, {\\left(x^{2} + y\\right)}}{x} w$"
      ],
      "text/plain": [
       "<IPython.core.display.Math object>"
      ]
     },
     "metadata": {},
     "output_type": "display_data"
    },
    {
     "data": {
      "text/latex": [
       "$\\displaystyle  z_{x}+\\frac{2 \\, {\\left(2 \\, x + 1\\right)} y^{3} - x^{3} + 2 \\, {\\left(4 \\, x^{3} + x^{2} - 1\\right)} y^{2} + 2 \\, {\\left(2 \\, x^{5} + x^{2} - x\\right)} y}{2 \\, {\\left(2 \\, x^{2} y^{2} + 2 \\, y^{3} - x y\\right)}} w_{y}-\\frac{4 \\, x y^{3} - x^{3} + 2 \\, {\\left(4 \\, x^{3} - 1\\right)} y^{2} + {\\left(4 \\, x^{5} + 2 \\, x^{2} - x\\right)} y}{2 \\, {\\left(2 \\, x^{2} y^{3} + 2 \\, y^{4} - x y^{2}\\right)}} w$"
      ],
      "text/plain": [
       "<IPython.core.display.Math object>"
      ]
     },
     "metadata": {},
     "output_type": "display_data"
    },
    {
     "data": {
      "text/latex": [
       "$\\displaystyle  w_{y,y}+\\frac{4 \\, x y^{4} - 3 \\, x^{3} y + 2 \\, {\\left(4 \\, x^{3} - 1\\right)} y^{3} + {\\left(4 \\, x^{5} + 2 \\, x^{2} - 3 \\, x\\right)} y^{2} + x^{2}}{2 \\, x^{3} y^{2} + 2 \\, x y^{3} - x^{2} y} w_{y}-\\frac{4 \\, x y^{4} - 3 \\, x^{3} y + 2 \\, {\\left(4 \\, x^{3} - 1\\right)} y^{3} + {\\left(4 \\, x^{5} + 2 \\, x^{2} - 3 \\, x\\right)} y^{2} + x^{2}}{2 \\, x^{3} y^{3} + 2 \\, x y^{4} - x^{2} y^{2}} w$"
      ],
      "text/plain": [
       "<IPython.core.display.Math object>"
      ]
     },
     "metadata": {},
     "output_type": "display_data"
    },
    {
     "data": {
      "text/latex": [
       "$\\displaystyle  w_{x,y}+(\\frac{1}{y}) w_{x}+(\\frac{4 \\, x^{4} y + 8 \\, x^{2} y^{2} - 4 \\, y^{3} - x^{2}}{2 \\, {\\left(2 \\, x^{3} y^{2} + 2 \\, x y^{3} - x^{2} y\\right)}}) w_{y}+(\\frac{4 \\, x^{4} y + 8 \\, x^{2} y^{2} - 4 \\, y^{3} - x^{2}}{2 \\, {\\left(2 \\, x^{3} y^{3} + 2 \\, x y^{4} - x^{2} y^{2}\\right)}}) w$"
      ],
      "text/plain": [
       "<IPython.core.display.Math object>"
      ]
     },
     "metadata": {},
     "output_type": "display_data"
    },
    {
     "data": {
      "text/latex": [
       "$\\displaystyle  z_{x,x}+(\\frac{x - y}{2 \\, x y}) w_{x}+(\\frac{4 \\, x^{4} y + 8 \\, x^{2} y^{2} - 4 \\, y^{3} - x^{2}}{4 \\, {\\left(2 \\, x^{4} y + 2 \\, x^{2} y^{2} - x^{3}\\right)}}) w_{y}+(\\frac{4 \\, x^{4} y + 8 \\, x^{2} y^{2} - 4 \\, y^{3} - x^{2}}{4 \\, {\\left(2 \\, x^{4} y^{2} + 2 \\, x^{2} y^{3} - x^{3} y\\right)}}) w$"
      ],
      "text/plain": [
       "<IPython.core.display.Math object>"
      ]
     },
     "metadata": {},
     "output_type": "display_data"
    },
    {
     "name": "stdout",
     "output_type": "stream",
     "text": [
      "AAAAAAAAAAAAAAAAAAAAAAAAAAAAAAAAAAAAAAAAAAAAAAAAAAAAAAAAAAAAAAAAAAAAAAAAAAAAAAAAAAAAAAAAAAAAAAAAAAA 2\n"
     ]
    },
    {
     "data": {
      "text/latex": [
       "$\\displaystyle  z_{y}+\\frac{2 \\, {\\left(x^{2} y + y^{2}\\right)}}{x} w_{y}-\\frac{2 \\, {\\left(x^{2} + y\\right)}}{x} w$"
      ],
      "text/plain": [
       "<IPython.core.display.Math object>"
      ]
     },
     "metadata": {},
     "output_type": "display_data"
    },
    {
     "data": {
      "text/latex": [
       "$\\displaystyle  z_{x}+\\frac{2 \\, {\\left(2 \\, x + 1\\right)} y^{3} - x^{3} + 2 \\, {\\left(4 \\, x^{3} + x^{2} - 1\\right)} y^{2} + 2 \\, {\\left(2 \\, x^{5} + x^{2} - x\\right)} y}{2 \\, {\\left(2 \\, x^{2} y^{2} + 2 \\, y^{3} - x y\\right)}} w_{y}-\\frac{4 \\, x y^{3} - x^{3} + 2 \\, {\\left(4 \\, x^{3} - 1\\right)} y^{2} + {\\left(4 \\, x^{5} + 2 \\, x^{2} - x\\right)} y}{2 \\, {\\left(2 \\, x^{2} y^{3} + 2 \\, y^{4} - x y^{2}\\right)}} w$"
      ],
      "text/plain": [
       "<IPython.core.display.Math object>"
      ]
     },
     "metadata": {},
     "output_type": "display_data"
    },
    {
     "data": {
      "text/latex": [
       "$\\displaystyle  w_{y,y}+\\frac{4 \\, x y^{4} - 3 \\, x^{3} y + 2 \\, {\\left(4 \\, x^{3} - 1\\right)} y^{3} + {\\left(4 \\, x^{5} + 2 \\, x^{2} - 3 \\, x\\right)} y^{2} + x^{2}}{2 \\, x^{3} y^{2} + 2 \\, x y^{3} - x^{2} y} w_{y}-\\frac{4 \\, x y^{4} - 3 \\, x^{3} y + 2 \\, {\\left(4 \\, x^{3} - 1\\right)} y^{3} + {\\left(4 \\, x^{5} + 2 \\, x^{2} - 3 \\, x\\right)} y^{2} + x^{2}}{2 \\, x^{3} y^{3} + 2 \\, x y^{4} - x^{2} y^{2}} w$"
      ],
      "text/plain": [
       "<IPython.core.display.Math object>"
      ]
     },
     "metadata": {},
     "output_type": "display_data"
    },
    {
     "data": {
      "text/latex": [
       "$\\displaystyle  w_{x,y}+(\\frac{1}{y}) w_{x}+(\\frac{4 \\, x^{4} y + 8 \\, x^{2} y^{2} - 4 \\, y^{3} - x^{2}}{2 \\, {\\left(2 \\, x^{3} y^{2} + 2 \\, x y^{3} - x^{2} y\\right)}}) w_{y}+(\\frac{4 \\, x^{4} y + 8 \\, x^{2} y^{2} - 4 \\, y^{3} - x^{2}}{2 \\, {\\left(2 \\, x^{3} y^{3} + 2 \\, x y^{4} - x^{2} y^{2}\\right)}}) w$"
      ],
      "text/plain": [
       "<IPython.core.display.Math object>"
      ]
     },
     "metadata": {},
     "output_type": "display_data"
    },
    {
     "data": {
      "text/latex": [
       "$\\displaystyle  w_{x,y}-\\frac{x^{4} - 2 \\, {\\left(x^{2} + x\\right)} y^{3} + 2 \\, y^{4} - {\\left(8 \\, x^{4} + 2 \\, x^{3} - x\\right)} y^{2} - 2 \\, {\\left(2 \\, x^{6} + x^{3} - x^{2}\\right)} y}{x^{4} y - 2 \\, {\\left(2 \\, x^{2} + x\\right)} y^{4} - 2 \\, {\\left(4 \\, x^{4} + x^{3} - x\\right)} y^{3} - 2 \\, {\\left(2 \\, x^{6} + x^{3} - x^{2}\\right)} y^{2}} w_{x}+\\frac{8 \\, x^{2} y^{5} + 8 \\, y^{6} + 4 \\, x^{5} + 4 \\, {\\left(14 \\, x^{4} - x\\right)} y^{4} + 2 \\, {\\left(52 \\, x^{6} + 20 \\, x^{3} - x^{2}\\right)} y^{3} + 2 \\, {\\left(24 \\, x^{8} - 14 \\, x^{5} - 3 \\, x^{4} - 2 \\, x^{2}\\right)} y^{2} - {\\left(32 \\, x^{7} + 4 \\, x^{6} + 4 \\, x^{4} + x^{3}\\right)} y}{2 \\, {\\left(x^{6} + 4 \\, {\\left(2 \\, x^{3} + x^{2}\\right)} y^{5} + 4 \\, {\\left(6 \\, x^{5} + 2 \\, x^{4} - x^{2}\\right)} y^{4} + 2 \\, {\\left(12 \\, x^{7} + 2 \\, x^{6} - 2 \\, x^{4} - 3 \\, x^{3}\\right)} y^{3} + 2 \\, {\\left(4 \\, x^{9} - 2 \\, x^{6} - 4 \\, x^{5} + x^{3}\\right)} y^{2} - 2 \\, {\\left(2 \\, x^{8} + x^{7} + x^{5} - x^{4}\\right)} y\\right)}} w_{y}-\\frac{8 \\, x^{2} y^{5} + 8 \\, y^{6} + 4 \\, x^{5} + 4 \\, {\\left(14 \\, x^{4} - x\\right)} y^{4} + 2 \\, {\\left(52 \\, x^{6} + 20 \\, x^{3} - x^{2}\\right)} y^{3} + 2 \\, {\\left(24 \\, x^{8} - 14 \\, x^{5} - 3 \\, x^{4} - 2 \\, x^{2}\\right)} y^{2} - {\\left(32 \\, x^{7} + 4 \\, x^{6} + 4 \\, x^{4} + x^{3}\\right)} y}{2 \\, {\\left(x^{6} y + 4 \\, {\\left(2 \\, x^{3} + x^{2}\\right)} y^{6} + 4 \\, {\\left(6 \\, x^{5} + 2 \\, x^{4} - x^{2}\\right)} y^{5} + 2 \\, {\\left(12 \\, x^{7} + 2 \\, x^{6} - 2 \\, x^{4} - 3 \\, x^{3}\\right)} y^{4} + 2 \\, {\\left(4 \\, x^{9} - 2 \\, x^{6} - 4 \\, x^{5} + x^{3}\\right)} y^{3} - 2 \\, {\\left(2 \\, x^{8} + x^{7} + x^{5} - x^{4}\\right)} y^{2}\\right)}} w$"
      ],
      "text/plain": [
       "<IPython.core.display.Math object>"
      ]
     },
     "metadata": {},
     "output_type": "display_data"
    },
    {
     "name": "stdout",
     "output_type": "stream",
     "text": [
      "AAAAAAAAAAAAAAAAAAAAAAAAAAAAAAAAAAAAAAAAAAAAAAAAAAAAAAAAAAAAAAAAAAAAAAAAAAAAAAAAAAAAAAAAAAAAAAAAAAA 3\n"
     ]
    },
    {
     "data": {
      "text/latex": [
       "$\\displaystyle  z_{y}+\\frac{2 \\, {\\left(x^{2} y + y^{2}\\right)}}{x} w_{y}-\\frac{2 \\, {\\left(x^{2} + y\\right)}}{x} w$"
      ],
      "text/plain": [
       "<IPython.core.display.Math object>"
      ]
     },
     "metadata": {},
     "output_type": "display_data"
    },
    {
     "data": {
      "text/latex": [
       "$\\displaystyle  z_{x}+\\frac{2 \\, {\\left(2 \\, x + 1\\right)} y^{3} - x^{3} + 2 \\, {\\left(4 \\, x^{3} + x^{2} - 1\\right)} y^{2} + 2 \\, {\\left(2 \\, x^{5} + x^{2} - x\\right)} y}{2 \\, {\\left(2 \\, x^{2} y^{2} + 2 \\, y^{3} - x y\\right)}} w_{y}-\\frac{4 \\, x y^{3} - x^{3} + 2 \\, {\\left(4 \\, x^{3} - 1\\right)} y^{2} + {\\left(4 \\, x^{5} + 2 \\, x^{2} - x\\right)} y}{2 \\, {\\left(2 \\, x^{2} y^{3} + 2 \\, y^{4} - x y^{2}\\right)}} w$"
      ],
      "text/plain": [
       "<IPython.core.display.Math object>"
      ]
     },
     "metadata": {},
     "output_type": "display_data"
    },
    {
     "data": {
      "text/latex": [
       "$\\displaystyle  w_{y,y}+\\frac{4 \\, x y^{4} - 3 \\, x^{3} y + 2 \\, {\\left(4 \\, x^{3} - 1\\right)} y^{3} + {\\left(4 \\, x^{5} + 2 \\, x^{2} - 3 \\, x\\right)} y^{2} + x^{2}}{2 \\, x^{3} y^{2} + 2 \\, x y^{3} - x^{2} y} w_{y}-\\frac{4 \\, x y^{4} - 3 \\, x^{3} y + 2 \\, {\\left(4 \\, x^{3} - 1\\right)} y^{3} + {\\left(4 \\, x^{5} + 2 \\, x^{2} - 3 \\, x\\right)} y^{2} + x^{2}}{2 \\, x^{3} y^{3} + 2 \\, x y^{4} - x^{2} y^{2}} w$"
      ],
      "text/plain": [
       "<IPython.core.display.Math object>"
      ]
     },
     "metadata": {},
     "output_type": "display_data"
    },
    {
     "data": {
      "text/latex": [
       "$\\displaystyle  w_{x,y}+(\\frac{1}{y}) w_{x}+(\\frac{4 \\, x^{4} y + 8 \\, x^{2} y^{2} - 4 \\, y^{3} - x^{2}}{2 \\, {\\left(2 \\, x^{3} y^{2} + 2 \\, x y^{3} - x^{2} y\\right)}}) w_{y}+(\\frac{4 \\, x^{4} y + 8 \\, x^{2} y^{2} - 4 \\, y^{3} - x^{2}}{2 \\, {\\left(2 \\, x^{3} y^{3} + 2 \\, x y^{4} - x^{2} y^{2}\\right)}}) w$"
      ],
      "text/plain": [
       "<IPython.core.display.Math object>"
      ]
     },
     "metadata": {},
     "output_type": "display_data"
    },
    {
     "data": {
      "text/latex": [
       "$\\displaystyle  w_{x,y}-\\frac{x^{4} - 2 \\, {\\left(x^{2} + x\\right)} y^{3} + 2 \\, y^{4} - {\\left(8 \\, x^{4} + 2 \\, x^{3} - x\\right)} y^{2} - 2 \\, {\\left(2 \\, x^{6} + x^{3} - x^{2}\\right)} y}{x^{4} y - 2 \\, {\\left(2 \\, x^{2} + x\\right)} y^{4} - 2 \\, {\\left(4 \\, x^{4} + x^{3} - x\\right)} y^{3} - 2 \\, {\\left(2 \\, x^{6} + x^{3} - x^{2}\\right)} y^{2}} w_{x}+\\frac{8 \\, x^{2} y^{5} + 8 \\, y^{6} + 4 \\, x^{5} + 4 \\, {\\left(14 \\, x^{4} - x\\right)} y^{4} + 2 \\, {\\left(52 \\, x^{6} + 20 \\, x^{3} - x^{2}\\right)} y^{3} + 2 \\, {\\left(24 \\, x^{8} - 14 \\, x^{5} - 3 \\, x^{4} - 2 \\, x^{2}\\right)} y^{2} - {\\left(32 \\, x^{7} + 4 \\, x^{6} + 4 \\, x^{4} + x^{3}\\right)} y}{2 \\, {\\left(x^{6} + 4 \\, {\\left(2 \\, x^{3} + x^{2}\\right)} y^{5} + 4 \\, {\\left(6 \\, x^{5} + 2 \\, x^{4} - x^{2}\\right)} y^{4} + 2 \\, {\\left(12 \\, x^{7} + 2 \\, x^{6} - 2 \\, x^{4} - 3 \\, x^{3}\\right)} y^{3} + 2 \\, {\\left(4 \\, x^{9} - 2 \\, x^{6} - 4 \\, x^{5} + x^{3}\\right)} y^{2} - 2 \\, {\\left(2 \\, x^{8} + x^{7} + x^{5} - x^{4}\\right)} y\\right)}} w_{y}-\\frac{8 \\, x^{2} y^{5} + 8 \\, y^{6} + 4 \\, x^{5} + 4 \\, {\\left(14 \\, x^{4} - x\\right)} y^{4} + 2 \\, {\\left(52 \\, x^{6} + 20 \\, x^{3} - x^{2}\\right)} y^{3} + 2 \\, {\\left(24 \\, x^{8} - 14 \\, x^{5} - 3 \\, x^{4} - 2 \\, x^{2}\\right)} y^{2} - {\\left(32 \\, x^{7} + 4 \\, x^{6} + 4 \\, x^{4} + x^{3}\\right)} y}{2 \\, {\\left(x^{6} y + 4 \\, {\\left(2 \\, x^{3} + x^{2}\\right)} y^{6} + 4 \\, {\\left(6 \\, x^{5} + 2 \\, x^{4} - x^{2}\\right)} y^{5} + 2 \\, {\\left(12 \\, x^{7} + 2 \\, x^{6} - 2 \\, x^{4} - 3 \\, x^{3}\\right)} y^{4} + 2 \\, {\\left(4 \\, x^{9} - 2 \\, x^{6} - 4 \\, x^{5} + x^{3}\\right)} y^{3} - 2 \\, {\\left(2 \\, x^{8} + x^{7} + x^{5} - x^{4}\\right)} y^{2}\\right)}} w$"
      ],
      "text/plain": [
       "<IPython.core.display.Math object>"
      ]
     },
     "metadata": {},
     "output_type": "display_data"
    },
    {
     "name": "stdout",
     "output_type": "stream",
     "text": [
      "AAAAAAAAAAAAAAAAAAAAAAAAAAAAAAAAAAAAAAAAAAAAAAAAAAAAAAAAAAAAAAAAAAAAAAAAAAAAAAAAAAAAAAAAAAAAAAAAAAA 3\n"
     ]
    },
    {
     "data": {
      "text/latex": [
       "$\\displaystyle  z_{y}+\\frac{2 \\, {\\left(x^{2} y + y^{2}\\right)}}{x} w_{y}-\\frac{2 \\, {\\left(x^{2} + y\\right)}}{x} w$"
      ],
      "text/plain": [
       "<IPython.core.display.Math object>"
      ]
     },
     "metadata": {},
     "output_type": "display_data"
    },
    {
     "data": {
      "text/latex": [
       "$\\displaystyle  z_{x}+\\frac{2 \\, {\\left(2 \\, x + 1\\right)} y^{3} - x^{3} + 2 \\, {\\left(4 \\, x^{3} + x^{2} - 1\\right)} y^{2} + 2 \\, {\\left(2 \\, x^{5} + x^{2} - x\\right)} y}{2 \\, {\\left(2 \\, x^{2} y^{2} + 2 \\, y^{3} - x y\\right)}} w_{y}-\\frac{4 \\, x y^{3} - x^{3} + 2 \\, {\\left(4 \\, x^{3} - 1\\right)} y^{2} + {\\left(4 \\, x^{5} + 2 \\, x^{2} - x\\right)} y}{2 \\, {\\left(2 \\, x^{2} y^{3} + 2 \\, y^{4} - x y^{2}\\right)}} w$"
      ],
      "text/plain": [
       "<IPython.core.display.Math object>"
      ]
     },
     "metadata": {},
     "output_type": "display_data"
    },
    {
     "data": {
      "text/latex": [
       "$\\displaystyle  w_{y,y}+\\frac{4 \\, x y^{4} - 3 \\, x^{3} y + 2 \\, {\\left(4 \\, x^{3} - 1\\right)} y^{3} + {\\left(4 \\, x^{5} + 2 \\, x^{2} - 3 \\, x\\right)} y^{2} + x^{2}}{2 \\, x^{3} y^{2} + 2 \\, x y^{3} - x^{2} y} w_{y}-\\frac{4 \\, x y^{4} - 3 \\, x^{3} y + 2 \\, {\\left(4 \\, x^{3} - 1\\right)} y^{3} + {\\left(4 \\, x^{5} + 2 \\, x^{2} - 3 \\, x\\right)} y^{2} + x^{2}}{2 \\, x^{3} y^{3} + 2 \\, x y^{4} - x^{2} y^{2}} w$"
      ],
      "text/plain": [
       "<IPython.core.display.Math object>"
      ]
     },
     "metadata": {},
     "output_type": "display_data"
    },
    {
     "data": {
      "text/latex": [
       "$\\displaystyle  w_{x,y}+(\\frac{1}{y}) w_{x}+(\\frac{4 \\, x^{4} y + 8 \\, x^{2} y^{2} - 4 \\, y^{3} - x^{2}}{2 \\, {\\left(2 \\, x^{3} y^{2} + 2 \\, x y^{3} - x^{2} y\\right)}}) w_{y}+(\\frac{4 \\, x^{4} y + 8 \\, x^{2} y^{2} - 4 \\, y^{3} - x^{2}}{2 \\, {\\left(2 \\, x^{3} y^{3} + 2 \\, x y^{4} - x^{2} y^{2}\\right)}}) w$"
      ],
      "text/plain": [
       "<IPython.core.display.Math object>"
      ]
     },
     "metadata": {},
     "output_type": "display_data"
    },
    {
     "data": {
      "text/latex": [
       "$\\displaystyle  w_{x,y}-\\frac{x^{4} - 2 \\, {\\left(x^{2} + x\\right)} y^{3} + 2 \\, y^{4} - {\\left(8 \\, x^{4} + 2 \\, x^{3} - x\\right)} y^{2} - 2 \\, {\\left(2 \\, x^{6} + x^{3} - x^{2}\\right)} y}{x^{4} y - 2 \\, {\\left(2 \\, x^{2} + x\\right)} y^{4} - 2 \\, {\\left(4 \\, x^{4} + x^{3} - x\\right)} y^{3} - 2 \\, {\\left(2 \\, x^{6} + x^{3} - x^{2}\\right)} y^{2}} w_{x}+\\frac{8 \\, x^{2} y^{5} + 8 \\, y^{6} + 4 \\, x^{5} + 4 \\, {\\left(14 \\, x^{4} - x\\right)} y^{4} + 2 \\, {\\left(52 \\, x^{6} + 20 \\, x^{3} - x^{2}\\right)} y^{3} + 2 \\, {\\left(24 \\, x^{8} - 14 \\, x^{5} - 3 \\, x^{4} - 2 \\, x^{2}\\right)} y^{2} - {\\left(32 \\, x^{7} + 4 \\, x^{6} + 4 \\, x^{4} + x^{3}\\right)} y}{2 \\, {\\left(x^{6} + 4 \\, {\\left(2 \\, x^{3} + x^{2}\\right)} y^{5} + 4 \\, {\\left(6 \\, x^{5} + 2 \\, x^{4} - x^{2}\\right)} y^{4} + 2 \\, {\\left(12 \\, x^{7} + 2 \\, x^{6} - 2 \\, x^{4} - 3 \\, x^{3}\\right)} y^{3} + 2 \\, {\\left(4 \\, x^{9} - 2 \\, x^{6} - 4 \\, x^{5} + x^{3}\\right)} y^{2} - 2 \\, {\\left(2 \\, x^{8} + x^{7} + x^{5} - x^{4}\\right)} y\\right)}} w_{y}-\\frac{8 \\, x^{2} y^{5} + 8 \\, y^{6} + 4 \\, x^{5} + 4 \\, {\\left(14 \\, x^{4} - x\\right)} y^{4} + 2 \\, {\\left(52 \\, x^{6} + 20 \\, x^{3} - x^{2}\\right)} y^{3} + 2 \\, {\\left(24 \\, x^{8} - 14 \\, x^{5} - 3 \\, x^{4} - 2 \\, x^{2}\\right)} y^{2} - {\\left(32 \\, x^{7} + 4 \\, x^{6} + 4 \\, x^{4} + x^{3}\\right)} y}{2 \\, {\\left(x^{6} y + 4 \\, {\\left(2 \\, x^{3} + x^{2}\\right)} y^{6} + 4 \\, {\\left(6 \\, x^{5} + 2 \\, x^{4} - x^{2}\\right)} y^{5} + 2 \\, {\\left(12 \\, x^{7} + 2 \\, x^{6} - 2 \\, x^{4} - 3 \\, x^{3}\\right)} y^{4} + 2 \\, {\\left(4 \\, x^{9} - 2 \\, x^{6} - 4 \\, x^{5} + x^{3}\\right)} y^{3} - 2 \\, {\\left(2 \\, x^{8} + x^{7} + x^{5} - x^{4}\\right)} y^{2}\\right)}} w$"
      ],
      "text/plain": [
       "<IPython.core.display.Math object>"
      ]
     },
     "metadata": {},
     "output_type": "display_data"
    },
    {
     "name": "stdout",
     "output_type": "stream",
     "text": [
      "AAAAAAAAAAAAAAAAAAAAAAAAAAAAAAAAAAAAAAAAAAAAAAAAAAAAAAAAAAAAAAAAAAAAAAAAAAAAAAAAAAAAAAAAAAAAAAAAAAA 3\n"
     ]
    },
    {
     "data": {
      "text/latex": [
       "$\\displaystyle  z_{y}+\\frac{2 \\, {\\left(x^{2} y + y^{2}\\right)}}{x} w_{y}-\\frac{2 \\, {\\left(x^{2} + y\\right)}}{x} w$"
      ],
      "text/plain": [
       "<IPython.core.display.Math object>"
      ]
     },
     "metadata": {},
     "output_type": "display_data"
    },
    {
     "data": {
      "text/latex": [
       "$\\displaystyle  z_{x}+\\frac{2 \\, {\\left(2 \\, x + 1\\right)} y^{3} - x^{3} + 2 \\, {\\left(4 \\, x^{3} + x^{2} - 1\\right)} y^{2} + 2 \\, {\\left(2 \\, x^{5} + x^{2} - x\\right)} y}{2 \\, {\\left(2 \\, x^{2} y^{2} + 2 \\, y^{3} - x y\\right)}} w_{y}-\\frac{4 \\, x y^{3} - x^{3} + 2 \\, {\\left(4 \\, x^{3} - 1\\right)} y^{2} + {\\left(4 \\, x^{5} + 2 \\, x^{2} - x\\right)} y}{2 \\, {\\left(2 \\, x^{2} y^{3} + 2 \\, y^{4} - x y^{2}\\right)}} w$"
      ],
      "text/plain": [
       "<IPython.core.display.Math object>"
      ]
     },
     "metadata": {},
     "output_type": "display_data"
    },
    {
     "data": {
      "text/latex": [
       "$\\displaystyle  w_{y,y}+\\frac{4 \\, x y^{4} - 3 \\, x^{3} y + 2 \\, {\\left(4 \\, x^{3} - 1\\right)} y^{3} + {\\left(4 \\, x^{5} + 2 \\, x^{2} - 3 \\, x\\right)} y^{2} + x^{2}}{2 \\, x^{3} y^{2} + 2 \\, x y^{3} - x^{2} y} w_{y}-\\frac{4 \\, x y^{4} - 3 \\, x^{3} y + 2 \\, {\\left(4 \\, x^{3} - 1\\right)} y^{3} + {\\left(4 \\, x^{5} + 2 \\, x^{2} - 3 \\, x\\right)} y^{2} + x^{2}}{2 \\, x^{3} y^{3} + 2 \\, x y^{4} - x^{2} y^{2}} w$"
      ],
      "text/plain": [
       "<IPython.core.display.Math object>"
      ]
     },
     "metadata": {},
     "output_type": "display_data"
    },
    {
     "data": {
      "text/latex": [
       "$\\displaystyle  w_{x,y}+(\\frac{1}{y}) w_{x}+(\\frac{4 \\, x^{4} y + 8 \\, x^{2} y^{2} - 4 \\, y^{3} - x^{2}}{2 \\, {\\left(2 \\, x^{3} y^{2} + 2 \\, x y^{3} - x^{2} y\\right)}}) w_{y}+(\\frac{4 \\, x^{4} y + 8 \\, x^{2} y^{2} - 4 \\, y^{3} - x^{2}}{2 \\, {\\left(2 \\, x^{3} y^{3} + 2 \\, x y^{4} - x^{2} y^{2}\\right)}}) w$"
      ],
      "text/plain": [
       "<IPython.core.display.Math object>"
      ]
     },
     "metadata": {},
     "output_type": "display_data"
    },
    {
     "data": {
      "text/latex": [
       "$\\displaystyle  w_{x,y}-\\frac{x^{4} - 2 \\, {\\left(x^{2} + x\\right)} y^{3} + 2 \\, y^{4} - {\\left(8 \\, x^{4} + 2 \\, x^{3} - x\\right)} y^{2} - 2 \\, {\\left(2 \\, x^{6} + x^{3} - x^{2}\\right)} y}{x^{4} y - 2 \\, {\\left(2 \\, x^{2} + x\\right)} y^{4} - 2 \\, {\\left(4 \\, x^{4} + x^{3} - x\\right)} y^{3} - 2 \\, {\\left(2 \\, x^{6} + x^{3} - x^{2}\\right)} y^{2}} w_{x}+\\frac{8 \\, x^{2} y^{5} + 8 \\, y^{6} + 4 \\, x^{5} + 4 \\, {\\left(14 \\, x^{4} - x\\right)} y^{4} + 2 \\, {\\left(52 \\, x^{6} + 20 \\, x^{3} - x^{2}\\right)} y^{3} + 2 \\, {\\left(24 \\, x^{8} - 14 \\, x^{5} - 3 \\, x^{4} - 2 \\, x^{2}\\right)} y^{2} - {\\left(32 \\, x^{7} + 4 \\, x^{6} + 4 \\, x^{4} + x^{3}\\right)} y}{2 \\, {\\left(x^{6} + 4 \\, {\\left(2 \\, x^{3} + x^{2}\\right)} y^{5} + 4 \\, {\\left(6 \\, x^{5} + 2 \\, x^{4} - x^{2}\\right)} y^{4} + 2 \\, {\\left(12 \\, x^{7} + 2 \\, x^{6} - 2 \\, x^{4} - 3 \\, x^{3}\\right)} y^{3} + 2 \\, {\\left(4 \\, x^{9} - 2 \\, x^{6} - 4 \\, x^{5} + x^{3}\\right)} y^{2} - 2 \\, {\\left(2 \\, x^{8} + x^{7} + x^{5} - x^{4}\\right)} y\\right)}} w_{y}-\\frac{8 \\, x^{2} y^{5} + 8 \\, y^{6} + 4 \\, x^{5} + 4 \\, {\\left(14 \\, x^{4} - x\\right)} y^{4} + 2 \\, {\\left(52 \\, x^{6} + 20 \\, x^{3} - x^{2}\\right)} y^{3} + 2 \\, {\\left(24 \\, x^{8} - 14 \\, x^{5} - 3 \\, x^{4} - 2 \\, x^{2}\\right)} y^{2} - {\\left(32 \\, x^{7} + 4 \\, x^{6} + 4 \\, x^{4} + x^{3}\\right)} y}{2 \\, {\\left(x^{6} y + 4 \\, {\\left(2 \\, x^{3} + x^{2}\\right)} y^{6} + 4 \\, {\\left(6 \\, x^{5} + 2 \\, x^{4} - x^{2}\\right)} y^{5} + 2 \\, {\\left(12 \\, x^{7} + 2 \\, x^{6} - 2 \\, x^{4} - 3 \\, x^{3}\\right)} y^{4} + 2 \\, {\\left(4 \\, x^{9} - 2 \\, x^{6} - 4 \\, x^{5} + x^{3}\\right)} y^{3} - 2 \\, {\\left(2 \\, x^{8} + x^{7} + x^{5} - x^{4}\\right)} y^{2}\\right)}} w$"
      ],
      "text/plain": [
       "<IPython.core.display.Math object>"
      ]
     },
     "metadata": {},
     "output_type": "display_data"
    },
    {
     "name": "stdout",
     "output_type": "stream",
     "text": [
      "AAAAAAAAAAAAAAAAAAAAAAAAAAAAAAAAAAAAAAAAAAAAAAAAAAAAAAAAAAAAAAAAAAAAAAAAAAAAAAAAAAAAAAAAAAAAAAAAAAA 3\n"
     ]
    },
    {
     "data": {
      "text/latex": [
       "$\\displaystyle  w_{x}+\\frac{8 \\, {\\left(3 \\, x^{2} + x\\right)} y^{6} + 8 \\, y^{7} - x^{6} + 4 \\, {\\left(14 \\, x^{4} - 2 \\, x^{3} - 3 \\, x\\right)} y^{5} + 2 \\, {\\left(20 \\, x^{6} - 12 \\, x^{5} + 32 \\, x^{3} - 5 \\, x^{2}\\right)} y^{4} - 2 \\, {\\left(8 \\, x^{8} + 4 \\, x^{7} + 18 \\, x^{5} - 5 \\, x^{4} - x^{3} + 2 \\, x^{2}\\right)} y^{3} - {\\left(16 \\, x^{10} + 40 \\, x^{7} - 20 \\, x^{6} - 2 \\, x^{5} + 4 \\, x^{4} + 3 \\, x^{3}\\right)} y^{2} + 2 \\, {\\left(4 \\, x^{8} + 3 \\, x^{5} - x^{4}\\right)} y}{2 \\, {\\left(8 \\, x^{3} y^{5} - 4 \\, x^{4} y^{3} + 4 \\, x y^{6} + x^{3} y^{2} + 4 \\, {\\left(x^{5} - x^{2}\\right)} y^{4}\\right)}} w_{y}-\\frac{8 \\, {\\left(3 \\, x^{2} + x\\right)} y^{6} + 8 \\, y^{7} - x^{6} + 4 \\, {\\left(14 \\, x^{4} - 2 \\, x^{3} - 3 \\, x\\right)} y^{5} + 2 \\, {\\left(20 \\, x^{6} - 12 \\, x^{5} + 32 \\, x^{3} - 5 \\, x^{2}\\right)} y^{4} - 2 \\, {\\left(8 \\, x^{8} + 4 \\, x^{7} + 18 \\, x^{5} - 5 \\, x^{4} - x^{3} + 2 \\, x^{2}\\right)} y^{3} - {\\left(16 \\, x^{10} + 40 \\, x^{7} - 20 \\, x^{6} - 2 \\, x^{5} + 4 \\, x^{4} + 3 \\, x^{3}\\right)} y^{2} + 2 \\, {\\left(4 \\, x^{8} + 3 \\, x^{5} - x^{4}\\right)} y}{2 \\, {\\left(8 \\, x^{3} y^{6} - 4 \\, x^{4} y^{4} + 4 \\, x y^{7} + x^{3} y^{3} + 4 \\, {\\left(x^{5} - x^{2}\\right)} y^{5}\\right)}} w$"
      ],
      "text/plain": [
       "<IPython.core.display.Math object>"
      ]
     },
     "metadata": {},
     "output_type": "display_data"
    },
    {
     "data": {
      "text/latex": [
       "$\\displaystyle  z_{y}+\\frac{2 \\, {\\left(x^{2} y + y^{2}\\right)}}{x} w_{y}-\\frac{2 \\, {\\left(x^{2} + y\\right)}}{x} w$"
      ],
      "text/plain": [
       "<IPython.core.display.Math object>"
      ]
     },
     "metadata": {},
     "output_type": "display_data"
    },
    {
     "data": {
      "text/latex": [
       "$\\displaystyle  z_{x}+\\frac{2 \\, {\\left(2 \\, x + 1\\right)} y^{3} - x^{3} + 2 \\, {\\left(4 \\, x^{3} + x^{2} - 1\\right)} y^{2} + 2 \\, {\\left(2 \\, x^{5} + x^{2} - x\\right)} y}{2 \\, {\\left(2 \\, x^{2} y^{2} + 2 \\, y^{3} - x y\\right)}} w_{y}-\\frac{4 \\, x y^{3} - x^{3} + 2 \\, {\\left(4 \\, x^{3} - 1\\right)} y^{2} + {\\left(4 \\, x^{5} + 2 \\, x^{2} - x\\right)} y}{2 \\, {\\left(2 \\, x^{2} y^{3} + 2 \\, y^{4} - x y^{2}\\right)}} w$"
      ],
      "text/plain": [
       "<IPython.core.display.Math object>"
      ]
     },
     "metadata": {},
     "output_type": "display_data"
    },
    {
     "data": {
      "text/latex": [
       "$\\displaystyle  w_{y,y}+\\frac{4 \\, x y^{4} - 3 \\, x^{3} y + 2 \\, {\\left(4 \\, x^{3} - 1\\right)} y^{3} + {\\left(4 \\, x^{5} + 2 \\, x^{2} - 3 \\, x\\right)} y^{2} + x^{2}}{2 \\, x^{3} y^{2} + 2 \\, x y^{3} - x^{2} y} w_{y}-\\frac{4 \\, x y^{4} - 3 \\, x^{3} y + 2 \\, {\\left(4 \\, x^{3} - 1\\right)} y^{3} + {\\left(4 \\, x^{5} + 2 \\, x^{2} - 3 \\, x\\right)} y^{2} + x^{2}}{2 \\, x^{3} y^{3} + 2 \\, x y^{4} - x^{2} y^{2}} w$"
      ],
      "text/plain": [
       "<IPython.core.display.Math object>"
      ]
     },
     "metadata": {},
     "output_type": "display_data"
    },
    {
     "data": {
      "text/latex": [
       "$\\displaystyle  w_{x,y}+(\\frac{1}{y}) w_{x}+(\\frac{4 \\, x^{4} y + 8 \\, x^{2} y^{2} - 4 \\, y^{3} - x^{2}}{2 \\, {\\left(2 \\, x^{3} y^{2} + 2 \\, x y^{3} - x^{2} y\\right)}}) w_{y}+(\\frac{4 \\, x^{4} y + 8 \\, x^{2} y^{2} - 4 \\, y^{3} - x^{2}}{2 \\, {\\left(2 \\, x^{3} y^{3} + 2 \\, x y^{4} - x^{2} y^{2}\\right)}}) w$"
      ],
      "text/plain": [
       "<IPython.core.display.Math object>"
      ]
     },
     "metadata": {},
     "output_type": "display_data"
    }
   ],
   "source": [
    "jb = Janet_Basis(system_2_24, [z,w], [x,y], Mgrevlex)\n",
    "jb.show(rich=True)"
   ]
  },
  {
   "cell_type": "code",
   "execution_count": null,
   "id": "72e3f6a3-29ef-4739-982f-a6179bd4eedc",
   "metadata": {},
   "outputs": [],
   "source": []
  }
 ],
 "metadata": {
  "kernelspec": {
   "display_name": "SageMath 10.2",
   "language": "sage",
   "name": "sagemath"
  },
  "language_info": {
   "codemirror_mode": {
    "name": "ipython",
    "version": 3
   },
   "file_extension": ".py",
   "mimetype": "text/x-python",
   "name": "python",
   "nbconvert_exporter": "python",
   "pygments_lexer": "ipython3",
   "version": "3.11.7"
  },
  "widgets": {
   "application/vnd.jupyter.widget-state+json": {
    "state": {},
    "version_major": 2,
    "version_minor": 0
   }
  }
 },
 "nbformat": 4,
 "nbformat_minor": 5
}
