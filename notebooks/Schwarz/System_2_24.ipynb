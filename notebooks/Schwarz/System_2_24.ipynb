{
 "cells": [
  {
   "cell_type": "code",
   "execution_count": 2,
   "id": "960b1103-aafd-406d-93ab-75d36bfdfd02",
   "metadata": {},
   "outputs": [
    {
     "name": "stdout",
     "output_type": "stream",
     "text": [
      "The line_profiler extension is already loaded. To reload it, use:\n",
      "  %reload_ext line_profiler\n"
     ]
    }
   ],
   "source": [
    "import sage.all\n",
    "from delierium.MatrixOrder import Context, Mgrlex, Mgrevlex, Mlex\n",
    "from delierium.JanetBasis import Janet_Basis\n",
    "from delierium.helpers import latexer\n",
    "from IPython.display import Math\n",
    "\n",
    "vars = var (\"x y\")\n",
    "z = function(\"z\")(x,y)\n",
    "w = function(\"w\")(x,y)\n",
    "# ctx: items are in descending order\"\n",
    "ctx_grevlex_f = Context((w,z), (x,y), Mgrevlex)\n",
    "ctx_grlex_f   = Context((w,z), (x,y), Mgrlex)\n",
    "ctx_lex_f     = Context((w,z), (x,y), Mlex)\n",
    "\n",
    "f1 = diff(w, y) + x*diff(z,y)/(2*y*(x**2+y)) - w/y\n",
    "f2 = diff(z,x,y) + y*diff(w,y)/x + 2*y*diff(z, x)/x\n",
    "f3 = diff(w, x,y) - 2*x*diff(z, x,2)/y - x*diff(w,x)/y**2\n",
    "f4 = diff(w, x,y) + diff(z, x,y) + diff(w, y)/(2*y) - diff(w,x)/y + x* diff(z, y)/y - w/(2*y**2)\n",
    "f5 = diff(w,y,y) + diff(z,x,y) - diff(w, y)/y + w/(y**2)\n",
    "system_2_24 = [f4,f2,f1,f5,f3]\n",
    "#%load_ext snakeviz\n",
    "%load_ext line_profiler"
   ]
  },
  {
   "cell_type": "code",
   "execution_count": 3,
   "id": "5800ffcc-c6c6-4485-8f3d-2a90e8575627",
   "metadata": {},
   "outputs": [
    {
     "name": "stdout",
     "output_type": "stream",
     "text": [
      "_init: 42.349586725234985\n",
      "befor groupby: 42.34972524642944\n",
      "_init end: 43.67897033691406\n",
      "_init: 43.78613543510437\n",
      "befor groupby: 43.786197900772095\n",
      "_init end: 44.250993728637695\n",
      "_init: 44.388307094573975\n",
      "befor groupby: 44.388421058654785\n",
      "_init end: 44.602505922317505\n",
      "_init: 44.71593999862671\n",
      "befor groupby: 44.71600031852722\n",
      "_init end: 45.372539043426514\n",
      "_init: 45.47495675086975\n",
      "befor groupby: 45.475014448165894\n",
      "_init end: 46.11029267311096\n",
      "======> 5\n",
      "_.Lterm()=None, _.comparison_vector=(1, 1, 1, 0)\n",
      "_.Lterm()=None, _.comparison_vector=(1, 1, 0, 1)\n",
      "_.Lterm()=None, _.comparison_vector=(1, 0, 1, 0)\n",
      "_.Lterm()=None, _.comparison_vector=(2, 0, 1, 0)\n",
      "_.Lterm()=None, _.comparison_vector=(1, 1, 1, 0)\n",
      "****************************************************************************************\n",
      "This is where we start, loop=1\n",
      "> \u001b[0;32m/home/tapir/research-disk/delierium/src/delierium/JanetBasis.py\u001b[0m(495)\u001b[0;36m_reduce_inner\u001b[0;34m()\u001b[0m\n",
      "\u001b[0;32m    493 \u001b[0;31m\u001b[0;31m#    print(\"reduce_inner\")\u001b[0m\u001b[0;34m\u001b[0m\u001b[0;34m\u001b[0m\u001b[0m\n",
      "\u001b[0m\u001b[0;32m    494 \u001b[0;31m    \u001b[0mset_trace\u001b[0m\u001b[0;34m(\u001b[0m\u001b[0;34m)\u001b[0m\u001b[0;34m\u001b[0m\u001b[0;34m\u001b[0m\u001b[0m\n",
      "\u001b[0m\u001b[0;32m--> 495 \u001b[0;31m    \u001b[0mchanged\u001b[0m \u001b[0;34m=\u001b[0m \u001b[0;32mFalse\u001b[0m\u001b[0;34m\u001b[0m\u001b[0;34m\u001b[0m\u001b[0m\n",
      "\u001b[0m\u001b[0;32m    496 \u001b[0;31m    \u001b[0mt\u001b[0m \u001b[0;34m=\u001b[0m \u001b[0;34m[\u001b[0m\u001b[0m_\u001b[0m \u001b[0;32mfor\u001b[0m \u001b[0m_\u001b[0m \u001b[0;32min\u001b[0m \u001b[0me1\u001b[0m\u001b[0;34m.\u001b[0m\u001b[0mp\u001b[0m \u001b[0;32mif\u001b[0m \u001b[0m_\u001b[0m\u001b[0;34m.\u001b[0m\u001b[0mfunction\u001b[0m \u001b[0;34m==\u001b[0m \u001b[0me2\u001b[0m\u001b[0;34m.\u001b[0m\u001b[0mfunction\u001b[0m\u001b[0;34m]\u001b[0m\u001b[0;34m\u001b[0m\u001b[0;34m\u001b[0m\u001b[0m\n",
      "\u001b[0m\u001b[0;32m    497 \u001b[0;31m    \u001b[0;32mif\u001b[0m \u001b[0;32mnot\u001b[0m \u001b[0mt\u001b[0m\u001b[0;34m:\u001b[0m\u001b[0;34m\u001b[0m\u001b[0;34m\u001b[0m\u001b[0m\n",
      "\u001b[0m\n"
     ]
    },
    {
     "name": "stdin",
     "output_type": "stream",
     "text": [
      "ipdb>  q\n"
     ]
    }
   ],
   "source": [
    "jb = Janet_Basis(system_2_24, [w,z], [y,x])"
   ]
  },
  {
   "cell_type": "code",
   "execution_count": null,
   "id": "1b88bb00-2cc9-4928-8413-b4bcfd7e4198",
   "metadata": {},
   "outputs": [],
   "source": []
  }
 ],
 "metadata": {
  "kernelspec": {
   "display_name": "SageMath 10.2",
   "language": "sage",
   "name": "sagemath"
  },
  "language_info": {
   "codemirror_mode": {
    "name": "ipython",
    "version": 3
   },
   "file_extension": ".py",
   "mimetype": "text/x-python",
   "name": "python",
   "nbconvert_exporter": "python",
   "pygments_lexer": "ipython3",
   "version": "3.11.7"
  }
 },
 "nbformat": 4,
 "nbformat_minor": 5
}
