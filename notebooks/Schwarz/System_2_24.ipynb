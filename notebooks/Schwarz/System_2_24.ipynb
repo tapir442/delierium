{
 "cells": [
  {
   "cell_type": "code",
   "execution_count": 1,
   "id": "1ddf6005-3cc1-4b70-8764-5fa6d487e6a5",
   "metadata": {},
   "outputs": [],
   "source": [
    "from sage.all import *\n",
    "\n",
    "from delierium.MatrixOrder import Context, Mgrlex, Mgrevlex, Mlex\n",
    "from delierium.JanetBasis import Janet_Basis\n",
    "from delierium.helpers import latexer\n",
    "from IPython.display import Math\n",
    "\n",
    "vars = var (\"x y\")\n",
    "z = function(\"z\")(x,y)\n",
    "w = function(\"w\")(x,y)\n",
    "# ctx: items are in descending order\n",
    "ctx_grevlex_f = Context((w,z), (x,y), Mgrevlex)\n",
    "ctx_grlex_f   = Context((w,z), (x,y), Mgrlex)\n",
    "ctx_lex_f     = Context((w,z), (x,y), Mlex)\n",
    "\n",
    "f1 = diff(w, y) + x*diff(z,y)/(2*y*(x**2+y)) - w/y\n",
    "f2 = diff(z,x,y) + y*diff(w,y)/x + 2*y*diff(z, x)/x\n",
    "f3 = diff(w, x,y) - 2*x*diff(z, x,2)/y - x*diff(w,x)/y**2\n",
    "f4 = diff(w, x,y) + diff(z, x,y) + diff(w, y)/(2*y) - diff(w,x)/y + x* diff(z, y)/y - w/(2*y**2)\n",
    "f5 = diff(w,y,y) + diff(z,x,y) - diff(w, y)/y + w/(y**2)\n",
    "\n",
    "system_2_24 = [f4,f2,f1,f5,f3]"
   ]
  },
  {
   "cell_type": "code",
   "execution_count": 3,
   "id": "48199092-9276-45a3-b2cf-35ea72dfdc31",
   "metadata": {},
   "outputs": [
    {
     "name": "stdout",
     "output_type": "stream",
     "text": [
      "after creation of DP\n",
      "===> str(_)='diff(w(x, y), x, y)',  (1, 1, 1, 0)\n",
      "===> str(_)='diff(z(x, y), x, y)',  (1, 1, 0, 1)\n",
      "===> str(_)='(-1/y) * diff(w(x, y), x)',  (1, 0, 1, 0)\n",
      "===> str(_)='(1/2/y) * diff(w(x, y), y)',  (0, 1, 1, 0)\n",
      "===> str(_)='(x/y) * diff(z(x, y), y)',  (0, 1, 0, 1)\n",
      "===> str(_)='(-1/2/y^2) * w(x, y)',  (0, 0, 1, 0)\n",
      "after creation of DP\n",
      "===> str(_)='diff(z(x, y), x, y)',  (1, 1, 0, 1)\n",
      "===> str(_)='(y/x) * diff(w(x, y), y)',  (0, 1, 1, 0)\n",
      "===> str(_)='(2*y/x) * diff(z(x, y), x)',  (1, 0, 0, 1)\n",
      "after creation of DP\n",
      "===> str(_)='diff(w(x, y), y)',  (0, 1, 1, 0)\n",
      "===> str(_)='(1/2*x/((x^2 + y)*y)) * diff(z(x, y), y)',  (0, 1, 0, 1)\n",
      "===> str(_)='(-1/y) * w(x, y)',  (0, 0, 1, 0)\n",
      "after creation of DP\n",
      "===> str(_)='diff(w(x, y), y, y)',  (0, 2, 1, 0)\n",
      "===> str(_)='diff(z(x, y), x, y)',  (1, 1, 0, 1)\n",
      "===> str(_)='(-1/y) * diff(w(x, y), y)',  (0, 1, 1, 0)\n",
      "===> str(_)='(y^(-2)) * w(x, y)',  (0, 0, 1, 0)\n",
      "after creation of DP\n",
      "===> str(_)='diff(w(x, y), x, y)',  (1, 1, 1, 0)\n",
      "===> str(_)='(-2*x/y) * diff(z(x, y), x, x)',  (2, 0, 0, 1)\n",
      "===> str(_)='(-x/y^2) * diff(w(x, y), x)',  (1, 0, 1, 0)\n",
      "****************************************************************************************\n",
      "This is where we start, loop=1\n"
     ]
    },
    {
     "data": {
      "text/latex": [
       "$\\displaystyle  w_{y}+\\frac{x}{2 \\, {\\left(x^{2} y + y^{2}\\right)}} z_{y}-\\frac{1}{y} w$"
      ],
      "text/plain": [
       "<IPython.core.display.Math object>"
      ]
     },
     "metadata": {},
     "output_type": "display_data"
    },
    {
     "data": {
      "text/latex": [
       "$\\displaystyle  z_{x,y}+\\frac{y}{x} w_{y}+\\frac{2 \\, y}{x} z_{x}$"
      ],
      "text/plain": [
       "<IPython.core.display.Math object>"
      ]
     },
     "metadata": {},
     "output_type": "display_data"
    },
    {
     "data": {
      "text/latex": [
       "$\\displaystyle  w_{y,y}+ z_{x,y}-\\frac{1}{y} w_{y}+\\frac{1}{y^{2}} w$"
      ],
      "text/plain": [
       "<IPython.core.display.Math object>"
      ]
     },
     "metadata": {},
     "output_type": "display_data"
    },
    {
     "data": {
      "text/latex": [
       "$\\displaystyle  w_{x,y}+ z_{x,y}-\\frac{1}{y} w_{x}+\\frac{1}{2 \\, y} w_{y}+\\frac{x}{y} z_{y}-\\frac{1}{2 \\, y^{2}} w$"
      ],
      "text/plain": [
       "<IPython.core.display.Math object>"
      ]
     },
     "metadata": {},
     "output_type": "display_data"
    },
    {
     "data": {
      "text/latex": [
       "$\\displaystyle  w_{x,y}-\\frac{2 \\, x}{y} z_{x,x}-\\frac{x}{y^{2}} w_{x}$"
      ],
      "text/plain": [
       "<IPython.core.display.Math object>"
      ]
     },
     "metadata": {},
     "output_type": "display_data"
    },
    {
     "name": "stdout",
     "output_type": "stream",
     "text": [
      "reduce_inner\n",
      "str(t)='(y/x) * diff(w(x, y), y)'\n",
      "   str(e1)='diff(z(x, y), x, y) + (y/x) * diff(w(x, y), y) + (2*y/x) * diff(z(x, y), x), [], []'\n",
      "   str(e2)='diff(w(x, y), y) + (1/2*x/((x^2 + y)*y)) * diff(z(x, y), y) + (-1/y) * w(x, y), [], []'\n",
      "   ===> subtract, *y/x\n",
      "after creation of DP\n",
      "===> str(_)='diff(z(x, y), x, y)',  (1, 1, 0, 1)\n",
      "===> str(_)='(2*y/x) * diff(z(x, y), x)',  (1, 0, 0, 1)\n",
      "===> str(_)='(-1/2/(x^2 + y)) * diff(z(x, y), y)',  (0, 1, 0, 1)\n",
      "===> str(_)='(1/x) * w(x, y)',  (0, 0, 1, 0)\n",
      "  after _reduce_inner: \n"
     ]
    },
    {
     "data": {
      "text/latex": [
       "$\\displaystyle  z_{x,y} + \\frac{y}{x} w_{y} + \\frac{2 \\, y}{x} z_{x}[], []$"
      ],
      "text/plain": [
       "<IPython.core.display.Math object>"
      ]
     },
     "metadata": {},
     "output_type": "display_data"
    },
    {
     "data": {
      "text/latex": [
       "$\\displaystyle  w_{y} + \\frac{x}{2 \\, {\\left(x^{2} y + y^{2}\\right)}} z_{y}-\\frac{1}{y} w[], []$"
      ],
      "text/plain": [
       "<IPython.core.display.Math object>"
      ]
     },
     "metadata": {},
     "output_type": "display_data"
    },
    {
     "data": {
      "text/latex": [
       "$\\displaystyle  z_{x,y} + \\frac{2 \\, y}{x} z_{x}-\\frac{1}{2 \\, {\\left(x^{2} + y\\right)}} z_{y} + \\frac{1}{x} w[], []$"
      ],
      "text/plain": [
       "<IPython.core.display.Math object>"
      ]
     },
     "metadata": {},
     "output_type": "display_data"
    },
    {
     "name": "stdout",
     "output_type": "stream",
     "text": [
      "reduce_inner\n",
      "str(t)='(1/x) * w(x, y)'\n",
      "   str(e1)='diff(z(x, y), x, y) + (2*y/x) * diff(z(x, y), x) + (-1/2/(x^2 + y)) * diff(z(x, y), y) + (1/x) * w(x, y), [], []'\n",
      "   str(e2)='diff(w(x, y), y) + (1/2*x/((x^2 + y)*y)) * diff(z(x, y), y) + (-1/y) * w(x, y), [], []'\n",
      "nothing to reduce\n",
      "reduce_inner\n",
      "str(t)='(1/x) * w(x, y)'\n",
      "   str(e1)='diff(z(x, y), x, y) + (2*y/x) * diff(z(x, y), x) + (-1/2/(x^2 + y)) * diff(z(x, y), y) + (1/x) * w(x, y), [], []'\n",
      "   str(e2)='diff(w(x, y), y) + (1/2*x/((x^2 + y)*y)) * diff(z(x, y), y) + (-1/y) * w(x, y), [], []'\n",
      "nothing to reduce\n",
      "reduce_inner\n",
      "str(t)='diff(w(x, y), y, y)'\n",
      "   str(e1)='diff(w(x, y), y, y) + diff(z(x, y), x, y) + (-1/y) * diff(w(x, y), y) + (y^(-2)) * w(x, y), [], []'\n",
      "   str(e2)='diff(w(x, y), y) + (1/2*x/((x^2 + y)*y)) * diff(z(x, y), y) + (-1/y) * w(x, y), [], []'\n",
      "   ===> diff, *1, [y]\n",
      "after creation of DP\n",
      "===> str(_)='diff(z(x, y), x, y)',  (1, 1, 0, 1)\n",
      "===> str(_)='(-1/2*x/((x^2 + y)*y)) * diff(z(x, y), y, y)',  (0, 2, 0, 1)\n",
      "===> str(_)='(1/2*x/((x^4 + 2*x^2*y + y^2)*y) + 1/2*x/((x^2 + y)*y^2)) * diff(z(x, y), y)',  (0, 1, 0, 1)\n",
      "  after _reduce_inner: \n"
     ]
    },
    {
     "data": {
      "text/latex": [
       "$\\displaystyle  w_{y,y} +  z_{x,y}-\\frac{1}{y} w_{y} + \\frac{1}{y^{2}} w[], []$"
      ],
      "text/plain": [
       "<IPython.core.display.Math object>"
      ]
     },
     "metadata": {},
     "output_type": "display_data"
    },
    {
     "data": {
      "text/latex": [
       "$\\displaystyle  w_{y} + \\frac{x}{2 \\, {\\left(x^{2} y + y^{2}\\right)}} z_{y}-\\frac{1}{y} w[], []$"
      ],
      "text/plain": [
       "<IPython.core.display.Math object>"
      ]
     },
     "metadata": {},
     "output_type": "display_data"
    },
    {
     "data": {
      "text/latex": [
       "$\\displaystyle  z_{x,y}-\\frac{x}{2 \\, {\\left(x^{2} y + y^{2}\\right)}} z_{y,y} + (\\frac{x^{3} + 2 \\, x y}{2 \\, {\\left(x^{4} y^{2} + 2 \\, x^{2} y^{3} + y^{4}\\right)}}) z_{y}[], []$"
      ],
      "text/plain": [
       "<IPython.core.display.Math object>"
      ]
     },
     "metadata": {},
     "output_type": "display_data"
    },
    {
     "name": "stdout",
     "output_type": "stream",
     "text": [
      "reduce_inner\n",
      "nothing to reduce\n",
      "reduce_inner\n",
      "nothing to reduce\n",
      "reduce_inner\n",
      "str(t)='diff(w(x, y), x, y)'\n",
      "   str(e1)='diff(w(x, y), x, y) + diff(z(x, y), x, y) + (-1/y) * diff(w(x, y), x) + (1/2/y) * diff(w(x, y), y) + (x/y) * diff(z(x, y), y) + (-1/2/y^2) * w(x, y), [], []'\n",
      "   str(e2)='diff(w(x, y), y) + (1/2*x/((x^2 + y)*y)) * diff(z(x, y), y) + (-1/y) * w(x, y), [], []'\n",
      "   ===> diff, *1, [x]\n",
      "after creation of DP\n",
      "===> str(_)='diff(z(x, y), x, y)',  (1, 1, 0, 1)\n",
      "===> str(_)='(-1/(y*(x/((x^2 + y)*y) - 2))) * diff(w(x, y), y)',  (0, 1, 1, 0)\n",
      "===> str(_)='(-(2*x/y + 2*x^2/((x^4 + 2*x^2*y + y^2)*y) - 1/((x^2 + y)*y))/(x/((x^2 + y)*y) - 2)) * diff(z(x, y), y)',  (0, 1, 0, 1)\n",
      "===> str(_)='(1/(y^2*(x/((x^2 + y)*y) - 2))) * w(x, y)',  (0, 0, 1, 0)\n",
      "  after _reduce_inner: \n"
     ]
    },
    {
     "data": {
      "text/latex": [
       "$\\displaystyle  w_{x,y} +  z_{x,y}-\\frac{1}{y} w_{x} + \\frac{1}{2 \\, y} w_{y} + \\frac{x}{y} z_{y}-\\frac{1}{2 \\, y^{2}} w[], []$"
      ],
      "text/plain": [
       "<IPython.core.display.Math object>"
      ]
     },
     "metadata": {},
     "output_type": "display_data"
    },
    {
     "data": {
      "text/latex": [
       "$\\displaystyle  w_{y} + \\frac{x}{2 \\, {\\left(x^{2} y + y^{2}\\right)}} z_{y}-\\frac{1}{y} w[], []$"
      ],
      "text/plain": [
       "<IPython.core.display.Math object>"
      ]
     },
     "metadata": {},
     "output_type": "display_data"
    },
    {
     "data": {
      "text/latex": [
       "$\\displaystyle  z_{x,y} + \\frac{x^{2} + y}{2 \\, x^{2} y + 2 \\, y^{2} - x} w_{y} + \\frac{2 \\, x^{5} + 2 \\, x y^{2} + x^{2} + {\\left(4 \\, x^{3} - 1\\right)} y}{4 \\, x^{2} y^{2} - x^{3} + 2 \\, y^{3} + {\\left(2 \\, x^{4} - x\\right)} y} z_{y}-\\frac{x^{2} + y}{2 \\, x^{2} y^{2} + 2 \\, y^{3} - x y} w[], []$"
      ],
      "text/plain": [
       "<IPython.core.display.Math object>"
      ]
     },
     "metadata": {},
     "output_type": "display_data"
    },
    {
     "name": "stdout",
     "output_type": "stream",
     "text": [
      "reduce_inner\n",
      "str(t)='(-1/(y*(x/((x^2 + y)*y) - 2))) * diff(w(x, y), y)'\n",
      "   str(e1)='diff(z(x, y), x, y) + (-1/(y*(x/((x^2 + y)*y) - 2))) * diff(w(x, y), y) + (-(2*x/y + 2*x^2/((x^4 + 2*x^2*y + y^2)*y) - 1/((x^2 + y)*y))/(x/((x^2 + y)*y) - 2)) * diff(z(x, y), y) + (1/(y^2*(x/((x^2 + y)*y) - 2))) * w(x, y), [], []'\n",
      "   str(e2)='diff(w(x, y), y) + (1/2*x/((x^2 + y)*y)) * diff(z(x, y), y) + (-1/y) * w(x, y), [], []'\n",
      "   ===> subtract, *-1/(y*(x/((x^2 + y)*y) - 2))\n",
      "after creation of DP\n",
      "===> str(_)='diff(z(x, y), x, y)',  (1, 1, 0, 1)\n",
      "===> str(_)='(-2*x/(y*(x/((x^2 + y)*y) - 2)) - 2*x^2/((x^4 + 2*x^2*y + y^2)*y*(x/((x^2 + y)*y) - 2)) + 1/2*x/((x^2 + y)*y^2*(x/((x^2 + y)*y) - 2)) + 1/((x^2 + y)*y*(x/((x^2 + y)*y) - 2))) * diff(z(x, y), y)',  (0, 1, 0, 1)\n",
      "  after _reduce_inner: \n"
     ]
    },
    {
     "data": {
      "text/latex": [
       "$\\displaystyle  z_{x,y} + \\frac{x^{2} + y}{2 \\, x^{2} y + 2 \\, y^{2} - x} w_{y} + \\frac{2 \\, x^{5} + 2 \\, x y^{2} + x^{2} + {\\left(4 \\, x^{3} - 1\\right)} y}{4 \\, x^{2} y^{2} - x^{3} + 2 \\, y^{3} + {\\left(2 \\, x^{4} - x\\right)} y} z_{y}-\\frac{x^{2} + y}{2 \\, x^{2} y^{2} + 2 \\, y^{3} - x y} w[], []$"
      ],
      "text/plain": [
       "<IPython.core.display.Math object>"
      ]
     },
     "metadata": {},
     "output_type": "display_data"
    },
    {
     "data": {
      "text/latex": [
       "$\\displaystyle  w_{y} + \\frac{x}{2 \\, {\\left(x^{2} y + y^{2}\\right)}} z_{y}-\\frac{1}{y} w[], []$"
      ],
      "text/plain": [
       "<IPython.core.display.Math object>"
      ]
     },
     "metadata": {},
     "output_type": "display_data"
    },
    {
     "data": {
      "text/latex": [
       "$\\displaystyle  z_{x,y} + (\\frac{4 \\, x y^{3} - x^{3} + 2 \\, {\\left(4 \\, x^{3} - 1\\right)} y^{2} + {\\left(4 \\, x^{5} + 2 \\, x^{2} - x\\right)} y}{2 \\, {\\left(4 \\, x^{2} y^{3} - x^{3} y + 2 \\, y^{4} + {\\left(2 \\, x^{4} - x\\right)} y^{2}\\right)}}) z_{y}[], []$"
      ],
      "text/plain": [
       "<IPython.core.display.Math object>"
      ]
     },
     "metadata": {},
     "output_type": "display_data"
    },
    {
     "name": "stdout",
     "output_type": "stream",
     "text": [
      "reduce_inner\n",
      "nothing to reduce\n",
      "reduce_inner\n",
      "nothing to reduce\n",
      "reduce_inner\n",
      "str(t)='diff(w(x, y), x, y)'\n",
      "   str(e1)='diff(w(x, y), x, y) + (-2*x/y) * diff(z(x, y), x, x) + (-x/y^2) * diff(w(x, y), x), [], []'\n",
      "   str(e2)='diff(w(x, y), y) + (1/2*x/((x^2 + y)*y)) * diff(z(x, y), y) + (-1/y) * w(x, y), [], []'\n",
      "   ===> diff, *1, [x]\n",
      "after creation of DP\n",
      "===> str(_)='diff(z(x, y), x, x)',  (2, 0, 0, 1)\n",
      "===> str(_)='(1/4/(x^2 + y)) * diff(z(x, y), x, y)',  (1, 1, 0, 1)\n",
      "===> str(_)='(1/2*y*(x/y^2 - 1/y)/x) * diff(w(x, y), x)',  (1, 0, 1, 0)\n",
      "===> str(_)='(-1/4*y*(2*x^2/((x^4 + 2*x^2*y + y^2)*y) - 1/((x^2 + y)*y))/x) * diff(z(x, y), y)',  (0, 1, 0, 1)\n",
      "  after _reduce_inner: \n"
     ]
    },
    {
     "data": {
      "text/latex": [
       "$\\displaystyle  w_{x,y}-\\frac{2 \\, x}{y} z_{x,x}-\\frac{x}{y^{2}} w_{x}[], []$"
      ],
      "text/plain": [
       "<IPython.core.display.Math object>"
      ]
     },
     "metadata": {},
     "output_type": "display_data"
    },
    {
     "data": {
      "text/latex": [
       "$\\displaystyle  w_{y} + \\frac{x}{2 \\, {\\left(x^{2} y + y^{2}\\right)}} z_{y}-\\frac{1}{y} w[], []$"
      ],
      "text/plain": [
       "<IPython.core.display.Math object>"
      ]
     },
     "metadata": {},
     "output_type": "display_data"
    },
    {
     "data": {
      "text/latex": [
       "$\\displaystyle  z_{x,x} + \\frac{1}{4 \\, {\\left(x^{2} + y\\right)}} z_{x,y} + \\frac{x - y}{2 \\, x y} w_{x}-\\frac{x^{2} - y}{4 \\, {\\left(x^{5} + 2 \\, x^{3} y + x y^{2}\\right)}} z_{y}[], []$"
      ],
      "text/plain": [
       "<IPython.core.display.Math object>"
      ]
     },
     "metadata": {},
     "output_type": "display_data"
    },
    {
     "name": "stdout",
     "output_type": "stream",
     "text": [
      "reduce_inner\n",
      "str(t)='(1/2*y*(x/y^2 - 1/y)/x) * diff(w(x, y), x)'\n",
      "   str(e1)='diff(z(x, y), x, x) + (1/4/(x^2 + y)) * diff(z(x, y), x, y) + (1/2*y*(x/y^2 - 1/y)/x) * diff(w(x, y), x) + (-1/4*y*(2*x^2/((x^4 + 2*x^2*y + y^2)*y) - 1/((x^2 + y)*y))/x) * diff(z(x, y), y), [], []'\n",
      "   str(e2)='diff(w(x, y), y) + (1/2*x/((x^2 + y)*y)) * diff(z(x, y), y) + (-1/y) * w(x, y), [], []'\n",
      "nothing to reduce\n",
      "reduce_inner\n",
      "str(t)='(1/2*y*(x/y^2 - 1/y)/x) * diff(w(x, y), x)'\n",
      "   str(e1)='diff(z(x, y), x, x) + (1/4/(x^2 + y)) * diff(z(x, y), x, y) + (1/2*y*(x/y^2 - 1/y)/x) * diff(w(x, y), x) + (-1/4*y*(2*x^2/((x^4 + 2*x^2*y + y^2)*y) - 1/((x^2 + y)*y))/x) * diff(z(x, y), y), [], []'\n",
      "   str(e2)='diff(w(x, y), y) + (1/2*x/((x^2 + y)*y)) * diff(z(x, y), y) + (-1/y) * w(x, y), [], []'\n",
      "nothing to reduce\n",
      "AAAAAAAAAAAAAAAAAAAAAAAAAAAAAAAAAAAAAAAAAAAAAAAAAAAAAAAAAAAAAAAAAAAAAAAAAAAAAAAAAAAAAAAAAAAAAAAAAAA\n"
     ]
    },
    {
     "data": {
      "text/latex": [
       "$\\displaystyle  w_{y}+\\frac{x}{2 \\, {\\left(x^{2} y + y^{2}\\right)}} z_{y}-\\frac{1}{y} w$"
      ],
      "text/plain": [
       "<IPython.core.display.Math object>"
      ]
     },
     "metadata": {},
     "output_type": "display_data"
    },
    {
     "data": {
      "text/latex": [
       "$\\displaystyle  z_{x,y}+\\frac{2 \\, y}{x} z_{x}-\\frac{1}{2 \\, {\\left(x^{2} + y\\right)}} z_{y}+\\frac{1}{x} w$"
      ],
      "text/plain": [
       "<IPython.core.display.Math object>"
      ]
     },
     "metadata": {},
     "output_type": "display_data"
    },
    {
     "data": {
      "text/latex": [
       "$\\displaystyle  z_{x,y}-\\frac{x}{2 \\, {\\left(x^{2} y + y^{2}\\right)}} z_{y,y}+(\\frac{x^{3} + 2 \\, x y}{2 \\, {\\left(x^{4} y^{2} + 2 \\, x^{2} y^{3} + y^{4}\\right)}}) z_{y}$"
      ],
      "text/plain": [
       "<IPython.core.display.Math object>"
      ]
     },
     "metadata": {},
     "output_type": "display_data"
    },
    {
     "data": {
      "text/latex": [
       "$\\displaystyle  z_{x,y}+(\\frac{4 \\, x y^{3} - x^{3} + 2 \\, {\\left(4 \\, x^{3} - 1\\right)} y^{2} + {\\left(4 \\, x^{5} + 2 \\, x^{2} - x\\right)} y}{2 \\, {\\left(4 \\, x^{2} y^{3} - x^{3} y + 2 \\, y^{4} + {\\left(2 \\, x^{4} - x\\right)} y^{2}\\right)}}) z_{y}$"
      ],
      "text/plain": [
       "<IPython.core.display.Math object>"
      ]
     },
     "metadata": {},
     "output_type": "display_data"
    },
    {
     "data": {
      "text/latex": [
       "$\\displaystyle  z_{x,x}+\\frac{1}{4 \\, {\\left(x^{2} + y\\right)}} z_{x,y}+\\frac{x - y}{2 \\, x y} w_{x}-\\frac{x^{2} - y}{4 \\, {\\left(x^{5} + 2 \\, x^{3} y + x y^{2}\\right)}} z_{y}$"
      ],
      "text/plain": [
       "<IPython.core.display.Math object>"
      ]
     },
     "metadata": {},
     "output_type": "display_data"
    },
    {
     "name": "stdout",
     "output_type": "stream",
     "text": [
      "reduce_inner\n",
      "str(t)='(1/x) * w(x, y)'\n",
      "   str(e1)='diff(z(x, y), x, y) + (2*y/x) * diff(z(x, y), x) + (-1/2/(x^2 + y)) * diff(z(x, y), y) + (1/x) * w(x, y), [], []'\n",
      "   str(e2)='diff(w(x, y), y) + (1/2*x/((x^2 + y)*y)) * diff(z(x, y), y) + (-1/y) * w(x, y), [], []'\n",
      "nothing to reduce\n",
      "reduce_inner\n",
      "nothing to reduce\n",
      "reduce_inner\n",
      "nothing to reduce\n",
      "reduce_inner\n",
      "str(t)='(1/2*y*(x/y^2 - 1/y)/x) * diff(w(x, y), x)'\n",
      "   str(e1)='diff(z(x, y), x, x) + (1/4/(x^2 + y)) * diff(z(x, y), x, y) + (1/2*y*(x/y^2 - 1/y)/x) * diff(w(x, y), x) + (-1/4*y*(2*x^2/((x^4 + 2*x^2*y + y^2)*y) - 1/((x^2 + y)*y))/x) * diff(z(x, y), y), [], []'\n",
      "   str(e2)='diff(w(x, y), y) + (1/2*x/((x^2 + y)*y)) * diff(z(x, y), y) + (-1/y) * w(x, y), [], []'\n",
      "nothing to reduce\n",
      "AAAAAAAAAAAAAAAAAAAAAAAAAAAAAAAAAAAAAAAAAAAAAAAAAAAAAAAAAAAAAAAAAAAAAAAAAAAAAAAAAAAAAAAAAAAAAAAAAAA\n"
     ]
    },
    {
     "data": {
      "text/latex": [
       "$\\displaystyle  w_{y}+\\frac{x}{2 \\, {\\left(x^{2} y + y^{2}\\right)}} z_{y}-\\frac{1}{y} w$"
      ],
      "text/plain": [
       "<IPython.core.display.Math object>"
      ]
     },
     "metadata": {},
     "output_type": "display_data"
    },
    {
     "data": {
      "text/latex": [
       "$\\displaystyle  z_{x,y}+\\frac{2 \\, y}{x} z_{x}-\\frac{1}{2 \\, {\\left(x^{2} + y\\right)}} z_{y}+\\frac{1}{x} w$"
      ],
      "text/plain": [
       "<IPython.core.display.Math object>"
      ]
     },
     "metadata": {},
     "output_type": "display_data"
    },
    {
     "data": {
      "text/latex": [
       "$\\displaystyle  z_{x,y}-\\frac{x}{2 \\, {\\left(x^{2} y + y^{2}\\right)}} z_{y,y}+(\\frac{x^{3} + 2 \\, x y}{2 \\, {\\left(x^{4} y^{2} + 2 \\, x^{2} y^{3} + y^{4}\\right)}}) z_{y}$"
      ],
      "text/plain": [
       "<IPython.core.display.Math object>"
      ]
     },
     "metadata": {},
     "output_type": "display_data"
    },
    {
     "data": {
      "text/latex": [
       "$\\displaystyle  z_{x,y}+(\\frac{4 \\, x y^{3} - x^{3} + 2 \\, {\\left(4 \\, x^{3} - 1\\right)} y^{2} + {\\left(4 \\, x^{5} + 2 \\, x^{2} - x\\right)} y}{2 \\, {\\left(4 \\, x^{2} y^{3} - x^{3} y + 2 \\, y^{4} + {\\left(2 \\, x^{4} - x\\right)} y^{2}\\right)}}) z_{y}$"
      ],
      "text/plain": [
       "<IPython.core.display.Math object>"
      ]
     },
     "metadata": {},
     "output_type": "display_data"
    },
    {
     "data": {
      "text/latex": [
       "$\\displaystyle  z_{x,x}+\\frac{1}{4 \\, {\\left(x^{2} + y\\right)}} z_{x,y}+\\frac{x - y}{2 \\, x y} w_{x}-\\frac{x^{2} - y}{4 \\, {\\left(x^{5} + 2 \\, x^{3} y + x y^{2}\\right)}} z_{y}$"
      ],
      "text/plain": [
       "<IPython.core.display.Math object>"
      ]
     },
     "metadata": {},
     "output_type": "display_data"
    },
    {
     "name": "stdout",
     "output_type": "stream",
     "text": [
      "reduce_inner\n",
      "nothing to reduce\n",
      "reduce_inner\n",
      "str(t)='diff(z(x, y), x, y)'\n",
      "   str(e1)='diff(z(x, y), x, y) + (-1/2*x/((x^2 + y)*y)) * diff(z(x, y), y, y) + (1/2*x/((x^4 + 2*x^2*y + y^2)*y) + 1/2*x/((x^2 + y)*y^2)) * diff(z(x, y), y), [], []'\n",
      "   str(e2)='diff(z(x, y), x, y) + (2*y/x) * diff(z(x, y), x) + (-1/2/(x^2 + y)) * diff(z(x, y), y) + (1/x) * w(x, y), [], []'\n",
      "   ===> subtract, *1\n",
      "after creation of DP\n",
      "===> str(_)='diff(z(x, y), y, y)',  (0, 2, 0, 1)\n",
      "===> str(_)='(4*(x^2 + y)*y^2/x^2) * diff(z(x, y), x)',  (1, 0, 0, 1)\n",
      "===> str(_)='(-(x^2 + y)*y*(1/(x^2 + y) + x/((x^4 + 2*x^2*y + y^2)*y))/x) * diff(z(x, y), y)',  (0, 1, 0, 1)\n",
      "===> str(_)='(2*(x^2 + y)*y/x^2) * w(x, y)',  (0, 0, 1, 0)\n",
      "  after _reduce_inner: \n"
     ]
    },
    {
     "data": {
      "text/latex": [
       "$\\displaystyle  z_{x,y}-\\frac{x}{2 \\, {\\left(x^{2} y + y^{2}\\right)}} z_{y,y} + (\\frac{x^{3} + 2 \\, x y}{2 \\, {\\left(x^{4} y^{2} + 2 \\, x^{2} y^{3} + y^{4}\\right)}}) z_{y}[], []$"
      ],
      "text/plain": [
       "<IPython.core.display.Math object>"
      ]
     },
     "metadata": {},
     "output_type": "display_data"
    },
    {
     "data": {
      "text/latex": [
       "$\\displaystyle  z_{x,y} + \\frac{2 \\, y}{x} z_{x}-\\frac{1}{2 \\, {\\left(x^{2} + y\\right)}} z_{y} + \\frac{1}{x} w[], []$"
      ],
      "text/plain": [
       "<IPython.core.display.Math object>"
      ]
     },
     "metadata": {},
     "output_type": "display_data"
    },
    {
     "data": {
      "text/latex": [
       "$\\displaystyle  z_{y,y} + \\frac{4 \\, {\\left(x^{2} y^{2} + y^{3}\\right)}}{x^{2}} z_{x}-\\frac{x^{2} y + y^{2} + x}{x^{3} + x y} z_{y} + \\frac{2 \\, {\\left(x^{2} y + y^{2}\\right)}}{x^{2}} w[], []$"
      ],
      "text/plain": [
       "<IPython.core.display.Math object>"
      ]
     },
     "metadata": {},
     "output_type": "display_data"
    },
    {
     "name": "stdout",
     "output_type": "stream",
     "text": [
      "reduce_inner\n",
      "str(t)='diff(z(x, y), y, y)'\n",
      "   str(e1)='diff(z(x, y), y, y) + (4*(x^2 + y)*y^2/x^2) * diff(z(x, y), x) + (-(x^2 + y)*y*(1/(x^2 + y) + x/((x^4 + 2*x^2*y + y^2)*y))/x) * diff(z(x, y), y) + (2*(x^2 + y)*y/x^2) * w(x, y), [], []'\n",
      "   str(e2)='diff(z(x, y), x, y) + (2*y/x) * diff(z(x, y), x) + (-1/2/(x^2 + y)) * diff(z(x, y), y) + (1/x) * w(x, y), [], []'\n",
      "str(t)='(4*(x^2 + y)*y^2/x^2) * diff(z(x, y), x)'\n",
      "   str(e1)='diff(z(x, y), y, y) + (4*(x^2 + y)*y^2/x^2) * diff(z(x, y), x) + (-(x^2 + y)*y*(1/(x^2 + y) + x/((x^4 + 2*x^2*y + y^2)*y))/x) * diff(z(x, y), y) + (2*(x^2 + y)*y/x^2) * w(x, y), [], []'\n",
      "   str(e2)='diff(z(x, y), x, y) + (2*y/x) * diff(z(x, y), x) + (-1/2/(x^2 + y)) * diff(z(x, y), y) + (1/x) * w(x, y), [], []'\n",
      "str(t)='(-(x^2 + y)*y*(1/(x^2 + y) + x/((x^4 + 2*x^2*y + y^2)*y))/x) * diff(z(x, y), y)'\n",
      "   str(e1)='diff(z(x, y), y, y) + (4*(x^2 + y)*y^2/x^2) * diff(z(x, y), x) + (-(x^2 + y)*y*(1/(x^2 + y) + x/((x^4 + 2*x^2*y + y^2)*y))/x) * diff(z(x, y), y) + (2*(x^2 + y)*y/x^2) * w(x, y), [], []'\n",
      "   str(e2)='diff(z(x, y), x, y) + (2*y/x) * diff(z(x, y), x) + (-1/2/(x^2 + y)) * diff(z(x, y), y) + (1/x) * w(x, y), [], []'\n",
      "nothing to reduce\n",
      "reduce_inner\n",
      "str(t)='(2*(x^2 + y)*y/x^2) * w(x, y)'\n",
      "   str(e1)='diff(z(x, y), y, y) + (4*(x^2 + y)*y^2/x^2) * diff(z(x, y), x) + (-(x^2 + y)*y*(1/(x^2 + y) + x/((x^4 + 2*x^2*y + y^2)*y))/x) * diff(z(x, y), y) + (2*(x^2 + y)*y/x^2) * w(x, y), [], []'\n",
      "   str(e2)='diff(w(x, y), y) + (1/2*x/((x^2 + y)*y)) * diff(z(x, y), y) + (-1/y) * w(x, y), [], []'\n",
      "nothing to reduce\n",
      "reduce_inner\n",
      "str(t)='diff(z(x, y), y, y)'\n",
      "   str(e1)='diff(z(x, y), y, y) + (4*(x^2 + y)*y^2/x^2) * diff(z(x, y), x) + (-(x^2 + y)*y*(1/(x^2 + y) + x/((x^4 + 2*x^2*y + y^2)*y))/x) * diff(z(x, y), y) + (2*(x^2 + y)*y/x^2) * w(x, y), [], []'\n",
      "   str(e2)='diff(z(x, y), x, y) + (2*y/x) * diff(z(x, y), x) + (-1/2/(x^2 + y)) * diff(z(x, y), y) + (1/x) * w(x, y), [], []'\n",
      "str(t)='(4*(x^2 + y)*y^2/x^2) * diff(z(x, y), x)'\n",
      "   str(e1)='diff(z(x, y), y, y) + (4*(x^2 + y)*y^2/x^2) * diff(z(x, y), x) + (-(x^2 + y)*y*(1/(x^2 + y) + x/((x^4 + 2*x^2*y + y^2)*y))/x) * diff(z(x, y), y) + (2*(x^2 + y)*y/x^2) * w(x, y), [], []'\n",
      "   str(e2)='diff(z(x, y), x, y) + (2*y/x) * diff(z(x, y), x) + (-1/2/(x^2 + y)) * diff(z(x, y), y) + (1/x) * w(x, y), [], []'\n",
      "str(t)='(-(x^2 + y)*y*(1/(x^2 + y) + x/((x^4 + 2*x^2*y + y^2)*y))/x) * diff(z(x, y), y)'\n",
      "   str(e1)='diff(z(x, y), y, y) + (4*(x^2 + y)*y^2/x^2) * diff(z(x, y), x) + (-(x^2 + y)*y*(1/(x^2 + y) + x/((x^4 + 2*x^2*y + y^2)*y))/x) * diff(z(x, y), y) + (2*(x^2 + y)*y/x^2) * w(x, y), [], []'\n",
      "   str(e2)='diff(z(x, y), x, y) + (2*y/x) * diff(z(x, y), x) + (-1/2/(x^2 + y)) * diff(z(x, y), y) + (1/x) * w(x, y), [], []'\n",
      "nothing to reduce\n",
      "reduce_inner\n",
      "nothing to reduce\n",
      "reduce_inner\n",
      "str(t)='diff(z(x, y), x, y)'\n",
      "   str(e1)='diff(z(x, y), x, y) + (-2*x/(y*(x/((x^2 + y)*y) - 2)) - 2*x^2/((x^4 + 2*x^2*y + y^2)*y*(x/((x^2 + y)*y) - 2)) + 1/2*x/((x^2 + y)*y^2*(x/((x^2 + y)*y) - 2)) + 1/((x^2 + y)*y*(x/((x^2 + y)*y) - 2))) * diff(z(x, y), y), [], []'\n",
      "   str(e2)='diff(z(x, y), x, y) + (2*y/x) * diff(z(x, y), x) + (-1/2/(x^2 + y)) * diff(z(x, y), y) + (1/x) * w(x, y), [], []'\n",
      "   ===> subtract, *1\n",
      "after creation of DP\n",
      "===> str(_)='diff(z(x, y), x)',  (1, 0, 0, 1)\n",
      "===> str(_)='(-1/4*x*(1/(x^2 + y) - 4*x/(y*(x/((x^2 + y)*y) - 2)))/y) * diff(z(x, y), y)',  (0, 1, 0, 1)\n",
      "===> str(_)='(1/2/y) * w(x, y)',  (0, 0, 1, 0)\n",
      "  after _reduce_inner: \n"
     ]
    },
    {
     "data": {
      "text/latex": [
       "$\\displaystyle  z_{x,y} + (\\frac{4 \\, x y^{3} - x^{3} + 2 \\, {\\left(4 \\, x^{3} - 1\\right)} y^{2} + {\\left(4 \\, x^{5} + 2 \\, x^{2} - x\\right)} y}{2 \\, {\\left(4 \\, x^{2} y^{3} - x^{3} y + 2 \\, y^{4} + {\\left(2 \\, x^{4} - x\\right)} y^{2}\\right)}}) z_{y}[], []$"
      ],
      "text/plain": [
       "<IPython.core.display.Math object>"
      ]
     },
     "metadata": {},
     "output_type": "display_data"
    },
    {
     "data": {
      "text/latex": [
       "$\\displaystyle  z_{x,y} + \\frac{2 \\, y}{x} z_{x}-\\frac{1}{2 \\, {\\left(x^{2} + y\\right)}} z_{y} + \\frac{1}{x} w[], []$"
      ],
      "text/plain": [
       "<IPython.core.display.Math object>"
      ]
     },
     "metadata": {},
     "output_type": "display_data"
    },
    {
     "data": {
      "text/latex": [
       "$\\displaystyle  z_{x}-\\frac{4 \\, x^{6} + 2 \\, {\\left(2 \\, x^{2} + x\\right)} y^{2} - x^{2} + 2 \\, {\\left(4 \\, x^{4} + x^{3}\\right)} y}{4 \\, {\\left(4 \\, x^{2} y^{3} - x^{3} y + 2 \\, y^{4} + {\\left(2 \\, x^{4} - x\\right)} y^{2}\\right)}} z_{y} + \\frac{1}{2 \\, y} w[], []$"
      ],
      "text/plain": [
       "<IPython.core.display.Math object>"
      ]
     },
     "metadata": {},
     "output_type": "display_data"
    },
    {
     "name": "stdout",
     "output_type": "stream",
     "text": [
      "reduce_inner\n",
      "str(t)='diff(z(x, y), x)'\n",
      "   str(e1)='diff(z(x, y), x) + (-1/4*x*(1/(x^2 + y) - 4*x/(y*(x/((x^2 + y)*y) - 2)))/y) * diff(z(x, y), y) + (1/2/y) * w(x, y), [], []'\n",
      "   str(e2)='diff(z(x, y), x, y) + (2*y/x) * diff(z(x, y), x) + (-1/2/(x^2 + y)) * diff(z(x, y), y) + (1/x) * w(x, y), [], []'\n",
      "str(t)='(-1/4*x*(1/(x^2 + y) - 4*x/(y*(x/((x^2 + y)*y) - 2)))/y) * diff(z(x, y), y)'\n",
      "   str(e1)='diff(z(x, y), x) + (-1/4*x*(1/(x^2 + y) - 4*x/(y*(x/((x^2 + y)*y) - 2)))/y) * diff(z(x, y), y) + (1/2/y) * w(x, y), [], []'\n",
      "   str(e2)='diff(z(x, y), x, y) + (2*y/x) * diff(z(x, y), x) + (-1/2/(x^2 + y)) * diff(z(x, y), y) + (1/x) * w(x, y), [], []'\n",
      "nothing to reduce\n",
      "reduce_inner\n",
      "str(t)='(1/2/y) * w(x, y)'\n",
      "   str(e1)='diff(z(x, y), x) + (-1/4*x*(1/(x^2 + y) - 4*x/(y*(x/((x^2 + y)*y) - 2)))/y) * diff(z(x, y), y) + (1/2/y) * w(x, y), [], []'\n",
      "   str(e2)='diff(w(x, y), y) + (1/2*x/((x^2 + y)*y)) * diff(z(x, y), y) + (-1/y) * w(x, y), [], []'\n",
      "nothing to reduce\n",
      "reduce_inner\n",
      "str(t)='diff(z(x, y), x)'\n",
      "   str(e1)='diff(z(x, y), x) + (-1/4*x*(1/(x^2 + y) - 4*x/(y*(x/((x^2 + y)*y) - 2)))/y) * diff(z(x, y), y) + (1/2/y) * w(x, y), [], []'\n",
      "   str(e2)='diff(z(x, y), x, y) + (2*y/x) * diff(z(x, y), x) + (-1/2/(x^2 + y)) * diff(z(x, y), y) + (1/x) * w(x, y), [], []'\n",
      "str(t)='(-1/4*x*(1/(x^2 + y) - 4*x/(y*(x/((x^2 + y)*y) - 2)))/y) * diff(z(x, y), y)'\n",
      "   str(e1)='diff(z(x, y), x) + (-1/4*x*(1/(x^2 + y) - 4*x/(y*(x/((x^2 + y)*y) - 2)))/y) * diff(z(x, y), y) + (1/2/y) * w(x, y), [], []'\n",
      "   str(e2)='diff(z(x, y), x, y) + (2*y/x) * diff(z(x, y), x) + (-1/2/(x^2 + y)) * diff(z(x, y), y) + (1/x) * w(x, y), [], []'\n",
      "nothing to reduce\n",
      "reduce_inner\n",
      "str(t)='(1/2*y*(x/y^2 - 1/y)/x) * diff(w(x, y), x)'\n",
      "   str(e1)='diff(z(x, y), x, x) + (1/4/(x^2 + y)) * diff(z(x, y), x, y) + (1/2*y*(x/y^2 - 1/y)/x) * diff(w(x, y), x) + (-1/4*y*(2*x^2/((x^4 + 2*x^2*y + y^2)*y) - 1/((x^2 + y)*y))/x) * diff(z(x, y), y), [], []'\n",
      "   str(e2)='diff(w(x, y), y) + (1/2*x/((x^2 + y)*y)) * diff(z(x, y), y) + (-1/y) * w(x, y), [], []'\n",
      "nothing to reduce\n",
      "reduce_inner\n",
      "str(t)='diff(z(x, y), x, x)'\n",
      "   str(e1)='diff(z(x, y), x, x) + (1/4/(x^2 + y)) * diff(z(x, y), x, y) + (1/2*y*(x/y^2 - 1/y)/x) * diff(w(x, y), x) + (-1/4*y*(2*x^2/((x^4 + 2*x^2*y + y^2)*y) - 1/((x^2 + y)*y))/x) * diff(z(x, y), y), [], []'\n",
      "   str(e2)='diff(z(x, y), x, y) + (2*y/x) * diff(z(x, y), x) + (-1/2/(x^2 + y)) * diff(z(x, y), y) + (1/x) * w(x, y), [], []'\n",
      "str(t)='(1/4/(x^2 + y)) * diff(z(x, y), x, y)'\n",
      "   str(e1)='diff(z(x, y), x, x) + (1/4/(x^2 + y)) * diff(z(x, y), x, y) + (1/2*y*(x/y^2 - 1/y)/x) * diff(w(x, y), x) + (-1/4*y*(2*x^2/((x^4 + 2*x^2*y + y^2)*y) - 1/((x^2 + y)*y))/x) * diff(z(x, y), y), [], []'\n",
      "   str(e2)='diff(z(x, y), x, y) + (2*y/x) * diff(z(x, y), x) + (-1/2/(x^2 + y)) * diff(z(x, y), y) + (1/x) * w(x, y), [], []'\n",
      "   ===> subtract, *1/4/(x^2 + y)\n",
      "after creation of DP\n",
      "===> str(_)='diff(z(x, y), x, x)',  (2, 0, 0, 1)\n",
      "===> str(_)='(-1/2/x + 1/2/y) * diff(w(x, y), x)',  (1, 0, 1, 0)\n",
      "===> str(_)='(-1/2*y/((x^2 + y)*x)) * diff(z(x, y), x)',  (1, 0, 0, 1)\n",
      "===> str(_)='(-1/2*x/(x^4 + 2*x^2*y + y^2) + 1/8/(x^2 + y)^2 + 1/4/((x^2 + y)*x)) * diff(z(x, y), y)',  (0, 1, 0, 1)\n",
      "===> str(_)='(-1/4/((x^2 + y)*x)) * w(x, y)',  (0, 0, 1, 0)\n",
      "  after _reduce_inner: \n"
     ]
    },
    {
     "data": {
      "text/latex": [
       "$\\displaystyle  z_{x,x} + \\frac{1}{4 \\, {\\left(x^{2} + y\\right)}} z_{x,y} + \\frac{x - y}{2 \\, x y} w_{x}-\\frac{x^{2} - y}{4 \\, {\\left(x^{5} + 2 \\, x^{3} y + x y^{2}\\right)}} z_{y}[], []$"
      ],
      "text/plain": [
       "<IPython.core.display.Math object>"
      ]
     },
     "metadata": {},
     "output_type": "display_data"
    },
    {
     "data": {
      "text/latex": [
       "$\\displaystyle  z_{x,y} + \\frac{2 \\, y}{x} z_{x}-\\frac{1}{2 \\, {\\left(x^{2} + y\\right)}} z_{y} + \\frac{1}{x} w[], []$"
      ],
      "text/plain": [
       "<IPython.core.display.Math object>"
      ]
     },
     "metadata": {},
     "output_type": "display_data"
    },
    {
     "data": {
      "text/latex": [
       "$\\displaystyle  z_{x,x} + (\\frac{x - y}{2 \\, x y}) w_{x}-\\frac{y}{2 \\, {\\left(x^{3} + x y\\right)}} z_{x} + (-\\frac{2 \\, x^{2} - x - 2 \\, y}{8 \\, {\\left(x^{5} + 2 \\, x^{3} y + x y^{2}\\right)}}) z_{y}-\\frac{1}{4 \\, {\\left(x^{3} + x y\\right)}} w[], []$"
      ],
      "text/plain": [
       "<IPython.core.display.Math object>"
      ]
     },
     "metadata": {},
     "output_type": "display_data"
    },
    {
     "name": "stdout",
     "output_type": "stream",
     "text": [
      "reduce_inner\n",
      "str(t)='diff(z(x, y), x, x)'\n",
      "   str(e1)='diff(z(x, y), x, x) + (-1/2/x + 1/2/y) * diff(w(x, y), x) + (-1/2*y/((x^2 + y)*x)) * diff(z(x, y), x) + (-1/2*x/(x^4 + 2*x^2*y + y^2) + 1/8/(x^2 + y)^2 + 1/4/((x^2 + y)*x)) * diff(z(x, y), y) + (-1/4/((x^2 + y)*x)) * w(x, y), [], []'\n",
      "   str(e2)='diff(z(x, y), x, y) + (2*y/x) * diff(z(x, y), x) + (-1/2/(x^2 + y)) * diff(z(x, y), y) + (1/x) * w(x, y), [], []'\n",
      "str(t)='(-1/2*y/((x^2 + y)*x)) * diff(z(x, y), x)'\n",
      "   str(e1)='diff(z(x, y), x, x) + (-1/2/x + 1/2/y) * diff(w(x, y), x) + (-1/2*y/((x^2 + y)*x)) * diff(z(x, y), x) + (-1/2*x/(x^4 + 2*x^2*y + y^2) + 1/8/(x^2 + y)^2 + 1/4/((x^2 + y)*x)) * diff(z(x, y), y) + (-1/4/((x^2 + y)*x)) * w(x, y), [], []'\n",
      "   str(e2)='diff(z(x, y), x, y) + (2*y/x) * diff(z(x, y), x) + (-1/2/(x^2 + y)) * diff(z(x, y), y) + (1/x) * w(x, y), [], []'\n",
      "str(t)='(-1/2*x/(x^4 + 2*x^2*y + y^2) + 1/8/(x^2 + y)^2 + 1/4/((x^2 + y)*x)) * diff(z(x, y), y)'\n",
      "   str(e1)='diff(z(x, y), x, x) + (-1/2/x + 1/2/y) * diff(w(x, y), x) + (-1/2*y/((x^2 + y)*x)) * diff(z(x, y), x) + (-1/2*x/(x^4 + 2*x^2*y + y^2) + 1/8/(x^2 + y)^2 + 1/4/((x^2 + y)*x)) * diff(z(x, y), y) + (-1/4/((x^2 + y)*x)) * w(x, y), [], []'\n",
      "   str(e2)='diff(z(x, y), x, y) + (2*y/x) * diff(z(x, y), x) + (-1/2/(x^2 + y)) * diff(z(x, y), y) + (1/x) * w(x, y), [], []'\n",
      "nothing to reduce\n",
      "reduce_inner\n",
      "str(t)='(-1/2/x + 1/2/y) * diff(w(x, y), x)'\n",
      "   str(e1)='diff(z(x, y), x, x) + (-1/2/x + 1/2/y) * diff(w(x, y), x) + (-1/2*y/((x^2 + y)*x)) * diff(z(x, y), x) + (-1/2*x/(x^4 + 2*x^2*y + y^2) + 1/8/(x^2 + y)^2 + 1/4/((x^2 + y)*x)) * diff(z(x, y), y) + (-1/4/((x^2 + y)*x)) * w(x, y), [], []'\n",
      "   str(e2)='diff(w(x, y), y) + (1/2*x/((x^2 + y)*y)) * diff(z(x, y), y) + (-1/y) * w(x, y), [], []'\n",
      "str(t)='(-1/4/((x^2 + y)*x)) * w(x, y)'\n",
      "   str(e1)='diff(z(x, y), x, x) + (-1/2/x + 1/2/y) * diff(w(x, y), x) + (-1/2*y/((x^2 + y)*x)) * diff(z(x, y), x) + (-1/2*x/(x^4 + 2*x^2*y + y^2) + 1/8/(x^2 + y)^2 + 1/4/((x^2 + y)*x)) * diff(z(x, y), y) + (-1/4/((x^2 + y)*x)) * w(x, y), [], []'\n",
      "   str(e2)='diff(w(x, y), y) + (1/2*x/((x^2 + y)*y)) * diff(z(x, y), y) + (-1/y) * w(x, y), [], []'\n",
      "nothing to reduce\n",
      "reduce_inner\n",
      "str(t)='diff(z(x, y), x, x)'\n",
      "   str(e1)='diff(z(x, y), x, x) + (-1/2/x + 1/2/y) * diff(w(x, y), x) + (-1/2*y/((x^2 + y)*x)) * diff(z(x, y), x) + (-1/2*x/(x^4 + 2*x^2*y + y^2) + 1/8/(x^2 + y)^2 + 1/4/((x^2 + y)*x)) * diff(z(x, y), y) + (-1/4/((x^2 + y)*x)) * w(x, y), [], []'\n",
      "   str(e2)='diff(z(x, y), x, y) + (2*y/x) * diff(z(x, y), x) + (-1/2/(x^2 + y)) * diff(z(x, y), y) + (1/x) * w(x, y), [], []'\n",
      "str(t)='(-1/2*y/((x^2 + y)*x)) * diff(z(x, y), x)'\n",
      "   str(e1)='diff(z(x, y), x, x) + (-1/2/x + 1/2/y) * diff(w(x, y), x) + (-1/2*y/((x^2 + y)*x)) * diff(z(x, y), x) + (-1/2*x/(x^4 + 2*x^2*y + y^2) + 1/8/(x^2 + y)^2 + 1/4/((x^2 + y)*x)) * diff(z(x, y), y) + (-1/4/((x^2 + y)*x)) * w(x, y), [], []'\n",
      "   str(e2)='diff(z(x, y), x, y) + (2*y/x) * diff(z(x, y), x) + (-1/2/(x^2 + y)) * diff(z(x, y), y) + (1/x) * w(x, y), [], []'\n",
      "str(t)='(-1/2*x/(x^4 + 2*x^2*y + y^2) + 1/8/(x^2 + y)^2 + 1/4/((x^2 + y)*x)) * diff(z(x, y), y)'\n",
      "   str(e1)='diff(z(x, y), x, x) + (-1/2/x + 1/2/y) * diff(w(x, y), x) + (-1/2*y/((x^2 + y)*x)) * diff(z(x, y), x) + (-1/2*x/(x^4 + 2*x^2*y + y^2) + 1/8/(x^2 + y)^2 + 1/4/((x^2 + y)*x)) * diff(z(x, y), y) + (-1/4/((x^2 + y)*x)) * w(x, y), [], []'\n",
      "   str(e2)='diff(z(x, y), x, y) + (2*y/x) * diff(z(x, y), x) + (-1/2/(x^2 + y)) * diff(z(x, y), y) + (1/x) * w(x, y), [], []'\n",
      "nothing to reduce\n",
      "AAAAAAAAAAAAAAAAAAAAAAAAAAAAAAAAAAAAAAAAAAAAAAAAAAAAAAAAAAAAAAAAAAAAAAAAAAAAAAAAAAAAAAAAAAAAAAAAAAA\n"
     ]
    },
    {
     "data": {
      "text/latex": [
       "$\\displaystyle  z_{x}-\\frac{4 \\, x^{6} + 2 \\, {\\left(2 \\, x^{2} + x\\right)} y^{2} - x^{2} + 2 \\, {\\left(4 \\, x^{4} + x^{3}\\right)} y}{4 \\, {\\left(4 \\, x^{2} y^{3} - x^{3} y + 2 \\, y^{4} + {\\left(2 \\, x^{4} - x\\right)} y^{2}\\right)}} z_{y}+\\frac{1}{2 \\, y} w$"
      ],
      "text/plain": [
       "<IPython.core.display.Math object>"
      ]
     },
     "metadata": {},
     "output_type": "display_data"
    },
    {
     "data": {
      "text/latex": [
       "$\\displaystyle  w_{y}+\\frac{x}{2 \\, {\\left(x^{2} y + y^{2}\\right)}} z_{y}-\\frac{1}{y} w$"
      ],
      "text/plain": [
       "<IPython.core.display.Math object>"
      ]
     },
     "metadata": {},
     "output_type": "display_data"
    },
    {
     "data": {
      "text/latex": [
       "$\\displaystyle  z_{y,y}+\\frac{4 \\, {\\left(x^{2} y^{2} + y^{3}\\right)}}{x^{2}} z_{x}-\\frac{x^{2} y + y^{2} + x}{x^{3} + x y} z_{y}+\\frac{2 \\, {\\left(x^{2} y + y^{2}\\right)}}{x^{2}} w$"
      ],
      "text/plain": [
       "<IPython.core.display.Math object>"
      ]
     },
     "metadata": {},
     "output_type": "display_data"
    },
    {
     "data": {
      "text/latex": [
       "$\\displaystyle  z_{x,y}+\\frac{2 \\, y}{x} z_{x}-\\frac{1}{2 \\, {\\left(x^{2} + y\\right)}} z_{y}+\\frac{1}{x} w$"
      ],
      "text/plain": [
       "<IPython.core.display.Math object>"
      ]
     },
     "metadata": {},
     "output_type": "display_data"
    },
    {
     "data": {
      "text/latex": [
       "$\\displaystyle  z_{x,x}+(\\frac{x - y}{2 \\, x y}) w_{x}-\\frac{y}{2 \\, {\\left(x^{3} + x y\\right)}} z_{x}+(\\frac{2 \\, x^{2} - x - 2 \\, y}{8 \\, {\\left(x^{5} + 2 \\, x^{3} y + x y^{2}\\right)}}) z_{y}-\\frac{1}{4 \\, {\\left(x^{3} + x y\\right)}} w$"
      ],
      "text/plain": [
       "<IPython.core.display.Math object>"
      ]
     },
     "metadata": {},
     "output_type": "display_data"
    },
    {
     "name": "stdout",
     "output_type": "stream",
     "text": [
      "reduce_inner\n",
      "str(t)='(1/2*x/((x^2 + y)*y)) * diff(z(x, y), y)'\n",
      "   str(e1)='diff(w(x, y), y) + (1/2*x/((x^2 + y)*y)) * diff(z(x, y), y) + (-1/y) * w(x, y), [], []'\n",
      "   str(e2)='diff(z(x, y), x) + (-1/4*x*(1/(x^2 + y) - 4*x/(y*(x/((x^2 + y)*y) - 2)))/y) * diff(z(x, y), y) + (1/2/y) * w(x, y), [], []'\n",
      "nothing to reduce\n",
      "reduce_inner\n",
      "str(t)='diff(z(x, y), y, y)'\n",
      "   str(e1)='diff(z(x, y), y, y) + (4*(x^2 + y)*y^2/x^2) * diff(z(x, y), x) + (-(x^2 + y)*y*(1/(x^2 + y) + x/((x^4 + 2*x^2*y + y^2)*y))/x) * diff(z(x, y), y) + (2*(x^2 + y)*y/x^2) * w(x, y), [], []'\n",
      "   str(e2)='diff(z(x, y), x) + (-1/4*x*(1/(x^2 + y) - 4*x/(y*(x/((x^2 + y)*y) - 2)))/y) * diff(z(x, y), y) + (1/2/y) * w(x, y), [], []'\n",
      "str(t)='(4*(x^2 + y)*y^2/x^2) * diff(z(x, y), x)'\n",
      "   str(e1)='diff(z(x, y), y, y) + (4*(x^2 + y)*y^2/x^2) * diff(z(x, y), x) + (-(x^2 + y)*y*(1/(x^2 + y) + x/((x^4 + 2*x^2*y + y^2)*y))/x) * diff(z(x, y), y) + (2*(x^2 + y)*y/x^2) * w(x, y), [], []'\n",
      "   str(e2)='diff(z(x, y), x) + (-1/4*x*(1/(x^2 + y) - 4*x/(y*(x/((x^2 + y)*y) - 2)))/y) * diff(z(x, y), y) + (1/2/y) * w(x, y), [], []'\n",
      "   ===> subtract, *4*(x^2 + y)*y^2/x^2\n",
      "after creation of DP\n",
      "===> str(_)='diff(z(x, y), y, y)',  (0, 2, 0, 1)\n",
      "===> str(_)='(-x^2/(x^4 + 2*x^2*y + y^2) - 4*x^2/(x/((x^2 + y)*y) - 2) - y/(x^4 + 2*x^2*y + y^2) - 4*y/(x/((x^2 + y)*y) - 2)) * diff(z(x, y), y)',  (0, 1, 0, 1)\n",
      "  after _reduce_inner: \n"
     ]
    },
    {
     "data": {
      "text/latex": [
       "$\\displaystyle  z_{y,y} + \\frac{4 \\, {\\left(x^{2} y^{2} + y^{3}\\right)}}{x^{2}} z_{x}-\\frac{x^{2} y + y^{2} + x}{x^{3} + x y} z_{y} + \\frac{2 \\, {\\left(x^{2} y + y^{2}\\right)}}{x^{2}} w[], []$"
      ],
      "text/plain": [
       "<IPython.core.display.Math object>"
      ]
     },
     "metadata": {},
     "output_type": "display_data"
    },
    {
     "data": {
      "text/latex": [
       "$\\displaystyle  z_{x}-\\frac{4 \\, x^{6} + 2 \\, {\\left(2 \\, x^{2} + x\\right)} y^{2} - x^{2} + 2 \\, {\\left(4 \\, x^{4} + x^{3}\\right)} y}{4 \\, {\\left(4 \\, x^{2} y^{3} - x^{3} y + 2 \\, y^{4} + {\\left(2 \\, x^{4} - x\\right)} y^{2}\\right)}} z_{y} + \\frac{1}{2 \\, y} w[], []$"
      ],
      "text/plain": [
       "<IPython.core.display.Math object>"
      ]
     },
     "metadata": {},
     "output_type": "display_data"
    },
    {
     "data": {
      "text/latex": [
       "$\\displaystyle  z_{y,y} + (\\frac{12 \\, x^{2} y^{3} + 4 \\, y^{4} + 2 \\, {\\left(6 \\, x^{4} - 1\\right)} y^{2} + 2 \\, {\\left(2 \\, x^{6} - x^{2}\\right)} y + x}{4 \\, x^{2} y^{2} - x^{3} + 2 \\, y^{3} + {\\left(2 \\, x^{4} - x\\right)} y}) z_{y}[], []$"
      ],
      "text/plain": [
       "<IPython.core.display.Math object>"
      ]
     },
     "metadata": {},
     "output_type": "display_data"
    },
    {
     "name": "stdout",
     "output_type": "stream",
     "text": [
      "reduce_inner\n",
      "str(t)='diff(z(x, y), y, y)'\n",
      "   str(e1)='diff(z(x, y), y, y) + (-x^2/(x^4 + 2*x^2*y + y^2) - 4*x^2/(x/((x^2 + y)*y) - 2) - y/(x^4 + 2*x^2*y + y^2) - 4*y/(x/((x^2 + y)*y) - 2)) * diff(z(x, y), y), [], []'\n",
      "   str(e2)='diff(z(x, y), x) + (-1/4*x*(1/(x^2 + y) - 4*x/(y*(x/((x^2 + y)*y) - 2)))/y) * diff(z(x, y), y) + (1/2/y) * w(x, y), [], []'\n",
      "str(t)='(-x^2/(x^4 + 2*x^2*y + y^2) - 4*x^2/(x/((x^2 + y)*y) - 2) - y/(x^4 + 2*x^2*y + y^2) - 4*y/(x/((x^2 + y)*y) - 2)) * diff(z(x, y), y)'\n",
      "   str(e1)='diff(z(x, y), y, y) + (-x^2/(x^4 + 2*x^2*y + y^2) - 4*x^2/(x/((x^2 + y)*y) - 2) - y/(x^4 + 2*x^2*y + y^2) - 4*y/(x/((x^2 + y)*y) - 2)) * diff(z(x, y), y), [], []'\n",
      "   str(e2)='diff(z(x, y), x) + (-1/4*x*(1/(x^2 + y) - 4*x/(y*(x/((x^2 + y)*y) - 2)))/y) * diff(z(x, y), y) + (1/2/y) * w(x, y), [], []'\n",
      "nothing to reduce\n",
      "reduce_inner\n",
      "str(t)='diff(z(x, y), y, y)'\n",
      "   str(e1)='diff(z(x, y), y, y) + (-x^2/(x^4 + 2*x^2*y + y^2) - 4*x^2/(x/((x^2 + y)*y) - 2) - y/(x^4 + 2*x^2*y + y^2) - 4*y/(x/((x^2 + y)*y) - 2)) * diff(z(x, y), y), [], []'\n",
      "   str(e2)='diff(z(x, y), x) + (-1/4*x*(1/(x^2 + y) - 4*x/(y*(x/((x^2 + y)*y) - 2)))/y) * diff(z(x, y), y) + (1/2/y) * w(x, y), [], []'\n",
      "str(t)='(-x^2/(x^4 + 2*x^2*y + y^2) - 4*x^2/(x/((x^2 + y)*y) - 2) - y/(x^4 + 2*x^2*y + y^2) - 4*y/(x/((x^2 + y)*y) - 2)) * diff(z(x, y), y)'\n",
      "   str(e1)='diff(z(x, y), y, y) + (-x^2/(x^4 + 2*x^2*y + y^2) - 4*x^2/(x/((x^2 + y)*y) - 2) - y/(x^4 + 2*x^2*y + y^2) - 4*y/(x/((x^2 + y)*y) - 2)) * diff(z(x, y), y), [], []'\n",
      "   str(e2)='diff(z(x, y), x) + (-1/4*x*(1/(x^2 + y) - 4*x/(y*(x/((x^2 + y)*y) - 2)))/y) * diff(z(x, y), y) + (1/2/y) * w(x, y), [], []'\n",
      "nothing to reduce\n",
      "reduce_inner\n",
      "str(t)='diff(z(x, y), x, y)'\n",
      "   str(e1)='diff(z(x, y), x, y) + (2*y/x) * diff(z(x, y), x) + (-1/2/(x^2 + y)) * diff(z(x, y), y) + (1/x) * w(x, y), [], []'\n",
      "   str(e2)='diff(z(x, y), x) + (-1/4*x*(1/(x^2 + y) - 4*x/(y*(x/((x^2 + y)*y) - 2)))/y) * diff(z(x, y), y) + (1/2/y) * w(x, y), [], []'\n",
      "   ===> diff, *1, [y]\n",
      "after creation of DP\n",
      "===> str(_)='diff(z(x, y), y, y)',  (0, 2, 0, 1)\n",
      "===> str(_)='(-2/(y*(x/((x^2 + y)*y) - 4*x^2/(y^2*(x/((x^2 + y)*y) - 2))))) * diff(w(x, y), y)',  (0, 1, 1, 0)\n",
      "===> str(_)='(8*y/(x*(x/((x^2 + y)*y) - 4*x^2/(y^2*(x/((x^2 + y)*y) - 2))))) * diff(z(x, y), x)',  (1, 0, 0, 1)\n",
      "===> str(_)='(-(2/(x^2 + y) + x/((x^4 + 2*x^2*y + y^2)*y) + x/((x^2 + y)*y^2) - 4*x^3/((x^4 + 2*x^2*y + y^2)*y^3*(4*x/((x^2 + y)*y) - x^2/((x^2 + y)^2*y^2) - 4)) - 8*x^2/(y^3*(x/((x^2 + y)*y) - 2)) - 4*x^3/((x^2 + y)*y^4*(4*x/((x^2 + y)*y) - x^2/((x^2 + y)^2*y^2) - 4)))/(x/((x^2 + y)*y) - 4*x^2/(y^2*(x/((x^2 + y)*y) - 2)))) * diff(z(x, y), y)',  (0, 1, 0, 1)\n",
      "===> str(_)='(2*(2/x + 1/y^2)/(x/((x^2 + y)*y) - 4*x^2/(y^2*(x/((x^2 + y)*y) - 2)))) * w(x, y)',  (0, 0, 1, 0)\n",
      "  after _reduce_inner: \n"
     ]
    },
    {
     "data": {
      "text/latex": [
       "$\\displaystyle  z_{x,y} + \\frac{2 \\, y}{x} z_{x}-\\frac{1}{2 \\, {\\left(x^{2} + y\\right)}} z_{y} + \\frac{1}{x} w[], []$"
      ],
      "text/plain": [
       "<IPython.core.display.Math object>"
      ]
     },
     "metadata": {},
     "output_type": "display_data"
    },
    {
     "data": {
      "text/latex": [
       "$\\displaystyle  z_{x}-\\frac{4 \\, x^{6} + 2 \\, {\\left(2 \\, x^{2} + x\\right)} y^{2} - x^{2} + 2 \\, {\\left(4 \\, x^{4} + x^{3}\\right)} y}{4 \\, {\\left(4 \\, x^{2} y^{3} - x^{3} y + 2 \\, y^{4} + {\\left(2 \\, x^{4} - x\\right)} y^{2}\\right)}} z_{y} + \\frac{1}{2 \\, y} w[], []$"
      ],
      "text/plain": [
       "<IPython.core.display.Math object>"
      ]
     },
     "metadata": {},
     "output_type": "display_data"
    },
    {
     "data": {
      "text/latex": [
       "$\\displaystyle  z_{y,y}-\\frac{2 \\, {\\left(4 \\, x^{2} y^{2} - x^{3} + 2 \\, y^{3} + {\\left(2 \\, x^{4} - x\\right)} y\\right)}}{4 \\, x^{6} + 2 \\, {\\left(2 \\, x^{2} + x\\right)} y^{2} - x^{2} + 2 \\, {\\left(4 \\, x^{4} + x^{3}\\right)} y} w_{y} + \\frac{8 \\, {\\left(4 \\, x^{2} y^{4} - x^{3} y^{2} + 2 \\, y^{5} + {\\left(2 \\, x^{4} - x\\right)} y^{3}\\right)}}{4 \\, x^{7} - x^{3} + 2 \\, {\\left(2 \\, x^{3} + x^{2}\\right)} y^{2} + 2 \\, {\\left(4 \\, x^{5} + x^{4}\\right)} y} z_{x} + \\frac{4 \\, x^{9} - 24 \\, x^{2} y^{6} - 8 \\, y^{7} - 8 \\, {\\left(3 \\, x^{4} + 2 \\, x^{2}\\right)} y^{5} - x^{5} - 4 \\, {\\left(2 \\, x^{6} + 16 \\, x^{4} + x^{3}\\right)} y^{4} - 2 \\, {\\left(48 \\, x^{6} + 4 \\, x^{5} - 3 \\, x^{2}\\right)} y^{3} - 2 \\, {\\left(32 \\, x^{8} + 2 \\, x^{7} - 2 \\, x^{5} - 5 \\, x^{4}\\right)} y^{2} - 2 \\, {\\left(8 \\, x^{10} - 4 \\, x^{7} - 2 \\, x^{6} + x^{3}\\right)} y}{4 \\, {\\left(2 \\, x^{2} + x\\right)} y^{6} + 4 \\, {\\left(8 \\, x^{4} + 3 \\, x^{3}\\right)} y^{5} + 4 \\, {\\left(12 \\, x^{6} + 3 \\, x^{5} - x^{3} - x^{2}\\right)} y^{4} + 4 \\, {\\left(8 \\, x^{8} + x^{7} - 3 \\, x^{5} - 2 \\, x^{4}\\right)} y^{3} + {\\left(8 \\, x^{10} - 12 \\, x^{7} - 4 \\, x^{6} + x^{3}\\right)} y^{2} - {\\left(4 \\, x^{9} - x^{5}\\right)} y} z_{y} + \\frac{2 \\, {\\left(4 \\, x^{4} y^{3} + 8 \\, x^{2} y^{4} + 2 \\, x^{3} y^{2} + 4 \\, y^{5} - x^{4} + {\\left(2 \\, x^{5} - x^{2}\\right)} y\\right)}}{2 \\, {\\left(2 \\, x^{3} + x^{2}\\right)} y^{3} + 2 \\, {\\left(4 \\, x^{5} + x^{4}\\right)} y^{2} + {\\left(4 \\, x^{7} - x^{3}\\right)} y} w[], []$"
      ],
      "text/plain": [
       "<IPython.core.display.Math object>"
      ]
     },
     "metadata": {},
     "output_type": "display_data"
    },
    {
     "name": "stdout",
     "output_type": "stream",
     "text": [
      "reduce_inner\n",
      "str(t)='diff(z(x, y), y, y)'\n",
      "   str(e1)='diff(z(x, y), y, y) + (-2/(y*(x/((x^2 + y)*y) - 4*x^2/(y^2*(x/((x^2 + y)*y) - 2))))) * diff(w(x, y), y) + (8*y/(x*(x/((x^2 + y)*y) - 4*x^2/(y^2*(x/((x^2 + y)*y) - 2))))) * diff(z(x, y), x) + (-(2/(x^2 + y) + x/((x^4 + 2*x^2*y + y^2)*y) + x/((x^2 + y)*y^2) - 4*x^3/((x^4 + 2*x^2*y + y^2)*y^3*(4*x/((x^2 + y)*y) - x^2/((x^2 + y)^2*y^2) - 4)) - 8*x^2/(y^3*(x/((x^2 + y)*y) - 2)) - 4*x^3/((x^2 + y)*y^4*(4*x/((x^2 + y)*y) - x^2/((x^2 + y)^2*y^2) - 4)))/(x/((x^2 + y)*y) - 4*x^2/(y^2*(x/((x^2 + y)*y) - 2)))) * diff(z(x, y), y) + (2*(2/x + 1/y^2)/(x/((x^2 + y)*y) - 4*x^2/(y^2*(x/((x^2 + y)*y) - 2)))) * w(x, y), [], []'\n",
      "   str(e2)='diff(z(x, y), x) + (-1/4*x*(1/(x^2 + y) - 4*x/(y*(x/((x^2 + y)*y) - 2)))/y) * diff(z(x, y), y) + (1/2/y) * w(x, y), [], []'\n",
      "str(t)='(8*y/(x*(x/((x^2 + y)*y) - 4*x^2/(y^2*(x/((x^2 + y)*y) - 2))))) * diff(z(x, y), x)'\n",
      "   str(e1)='diff(z(x, y), y, y) + (-2/(y*(x/((x^2 + y)*y) - 4*x^2/(y^2*(x/((x^2 + y)*y) - 2))))) * diff(w(x, y), y) + (8*y/(x*(x/((x^2 + y)*y) - 4*x^2/(y^2*(x/((x^2 + y)*y) - 2))))) * diff(z(x, y), x) + (-(2/(x^2 + y) + x/((x^4 + 2*x^2*y + y^2)*y) + x/((x^2 + y)*y^2) - 4*x^3/((x^4 + 2*x^2*y + y^2)*y^3*(4*x/((x^2 + y)*y) - x^2/((x^2 + y)^2*y^2) - 4)) - 8*x^2/(y^3*(x/((x^2 + y)*y) - 2)) - 4*x^3/((x^2 + y)*y^4*(4*x/((x^2 + y)*y) - x^2/((x^2 + y)^2*y^2) - 4)))/(x/((x^2 + y)*y) - 4*x^2/(y^2*(x/((x^2 + y)*y) - 2)))) * diff(z(x, y), y) + (2*(2/x + 1/y^2)/(x/((x^2 + y)*y) - 4*x^2/(y^2*(x/((x^2 + y)*y) - 2)))) * w(x, y), [], []'\n",
      "   str(e2)='diff(z(x, y), x) + (-1/4*x*(1/(x^2 + y) - 4*x/(y*(x/((x^2 + y)*y) - 2)))/y) * diff(z(x, y), y) + (1/2/y) * w(x, y), [], []'\n",
      "   ===> subtract, *8*y/(x*(x/((x^2 + y)*y) - 4*x^2/(y^2*(x/((x^2 + y)*y) - 2))))\n",
      "after creation of DP\n",
      "===> str(_)='diff(z(x, y), y, y)',  (0, 2, 0, 1)\n",
      "===> str(_)='(-2/(y*(x/((x^2 + y)*y) - 4*x^2/(y^2*(x/((x^2 + y)*y) - 2))))) * diff(w(x, y), y)',  (0, 1, 1, 0)\n",
      "===> str(_)='(-x/((x^4 + 2*x^2*y + y^2)*y*(x/((x^2 + y)*y) - 4*x^2/(y^2*(x/((x^2 + y)*y) - 2)))) - 8*x/(y*(x/((x^2 + y)*y) - 4*x^2/(y^2*(x/((x^2 + y)*y) - 2)))*(x/((x^2 + y)*y) - 2)) - x/((x^2 + y)*y^2*(x/((x^2 + y)*y) - 4*x^2/(y^2*(x/((x^2 + y)*y) - 2)))) - 4*x^3/((x^4 + 2*x^2*y + y^2)*y^3*(x^2/((x^4 + 2*x^2*y + y^2)*y^2) - 4*x/((x^2 + y)*y) + 4)*(x/((x^2 + y)*y) - 4*x^2/(y^2*(x/((x^2 + y)*y) - 2)))) + 8*x^2/(y^3*(x/((x^2 + y)*y) - 4*x^2/(y^2*(x/((x^2 + y)*y) - 2)))*(x/((x^2 + y)*y) - 2)) - 4*x^3/((x^2 + y)*y^4*(x^2/((x^4 + 2*x^2*y + y^2)*y^2) - 4*x/((x^2 + y)*y) + 4)*(x/((x^2 + y)*y) - 4*x^2/(y^2*(x/((x^2 + y)*y) - 2))))) * diff(z(x, y), y)',  (0, 1, 0, 1)\n",
      "===> str(_)='(2/(y^2*(x/((x^2 + y)*y) - 4*x^2/(y^2*(x/((x^2 + y)*y) - 2))))) * w(x, y)',  (0, 0, 1, 0)\n",
      "  after _reduce_inner: \n"
     ]
    },
    {
     "data": {
      "text/latex": [
       "$\\displaystyle  z_{y,y}-\\frac{2 \\, {\\left(4 \\, x^{2} y^{2} - x^{3} + 2 \\, y^{3} + {\\left(2 \\, x^{4} - x\\right)} y\\right)}}{4 \\, x^{6} + 2 \\, {\\left(2 \\, x^{2} + x\\right)} y^{2} - x^{2} + 2 \\, {\\left(4 \\, x^{4} + x^{3}\\right)} y} w_{y} + \\frac{8 \\, {\\left(4 \\, x^{2} y^{4} - x^{3} y^{2} + 2 \\, y^{5} + {\\left(2 \\, x^{4} - x\\right)} y^{3}\\right)}}{4 \\, x^{7} - x^{3} + 2 \\, {\\left(2 \\, x^{3} + x^{2}\\right)} y^{2} + 2 \\, {\\left(4 \\, x^{5} + x^{4}\\right)} y} z_{x} + \\frac{4 \\, x^{9} - 24 \\, x^{2} y^{6} - 8 \\, y^{7} - 8 \\, {\\left(3 \\, x^{4} + 2 \\, x^{2}\\right)} y^{5} - x^{5} - 4 \\, {\\left(2 \\, x^{6} + 16 \\, x^{4} + x^{3}\\right)} y^{4} - 2 \\, {\\left(48 \\, x^{6} + 4 \\, x^{5} - 3 \\, x^{2}\\right)} y^{3} - 2 \\, {\\left(32 \\, x^{8} + 2 \\, x^{7} - 2 \\, x^{5} - 5 \\, x^{4}\\right)} y^{2} - 2 \\, {\\left(8 \\, x^{10} - 4 \\, x^{7} - 2 \\, x^{6} + x^{3}\\right)} y}{4 \\, {\\left(2 \\, x^{2} + x\\right)} y^{6} + 4 \\, {\\left(8 \\, x^{4} + 3 \\, x^{3}\\right)} y^{5} + 4 \\, {\\left(12 \\, x^{6} + 3 \\, x^{5} - x^{3} - x^{2}\\right)} y^{4} + 4 \\, {\\left(8 \\, x^{8} + x^{7} - 3 \\, x^{5} - 2 \\, x^{4}\\right)} y^{3} + {\\left(8 \\, x^{10} - 12 \\, x^{7} - 4 \\, x^{6} + x^{3}\\right)} y^{2} - {\\left(4 \\, x^{9} - x^{5}\\right)} y} z_{y} + \\frac{2 \\, {\\left(4 \\, x^{4} y^{3} + 8 \\, x^{2} y^{4} + 2 \\, x^{3} y^{2} + 4 \\, y^{5} - x^{4} + {\\left(2 \\, x^{5} - x^{2}\\right)} y\\right)}}{2 \\, {\\left(2 \\, x^{3} + x^{2}\\right)} y^{3} + 2 \\, {\\left(4 \\, x^{5} + x^{4}\\right)} y^{2} + {\\left(4 \\, x^{7} - x^{3}\\right)} y} w[], []$"
      ],
      "text/plain": [
       "<IPython.core.display.Math object>"
      ]
     },
     "metadata": {},
     "output_type": "display_data"
    },
    {
     "data": {
      "text/latex": [
       "$\\displaystyle  z_{x}-\\frac{4 \\, x^{6} + 2 \\, {\\left(2 \\, x^{2} + x\\right)} y^{2} - x^{2} + 2 \\, {\\left(4 \\, x^{4} + x^{3}\\right)} y}{4 \\, {\\left(4 \\, x^{2} y^{3} - x^{3} y + 2 \\, y^{4} + {\\left(2 \\, x^{4} - x\\right)} y^{2}\\right)}} z_{y} + \\frac{1}{2 \\, y} w[], []$"
      ],
      "text/plain": [
       "<IPython.core.display.Math object>"
      ]
     },
     "metadata": {},
     "output_type": "display_data"
    },
    {
     "data": {
      "text/latex": [
       "$\\displaystyle  z_{y,y}-\\frac{2 \\, {\\left(4 \\, x^{2} y^{2} - x^{3} + 2 \\, y^{3} + {\\left(2 \\, x^{4} - x\\right)} y\\right)}}{4 \\, x^{6} + 2 \\, {\\left(2 \\, x^{2} + x\\right)} y^{2} - x^{2} + 2 \\, {\\left(4 \\, x^{4} + x^{3}\\right)} y} w_{y} + (\\frac{4 \\, x^{8} + 64 \\, x^{2} y^{6} + 16 \\, y^{7} + 8 \\, {\\left(12 \\, x^{4} - 3 \\, x - 1\\right)} y^{5} + 4 \\, {\\left(16 \\, x^{6} - 22 \\, x^{3} - 5 \\, x^{2}\\right)} y^{4} - x^{4} + 8 \\, {\\left(2 \\, x^{8} - 15 \\, x^{5} - 2 \\, x^{4} + x\\right)} y^{3} - 4 \\, {\\left(18 \\, x^{7} + x^{6} - x^{4} - 3 \\, x^{3}\\right)} y^{2} - 2 \\, {\\left(8 \\, x^{9} - 4 \\, x^{6} - 2 \\, x^{5} + x^{2}\\right)} y}{4 \\, {\\left(2 \\, x + 1\\right)} y^{6} + 4 \\, {\\left(8 \\, x^{3} + 3 \\, x^{2}\\right)} y^{5} + 4 \\, {\\left(12 \\, x^{5} + 3 \\, x^{4} - x^{2} - x\\right)} y^{4} + 4 \\, {\\left(8 \\, x^{7} + x^{6} - 3 \\, x^{4} - 2 \\, x^{3}\\right)} y^{3} + {\\left(8 \\, x^{9} - 12 \\, x^{6} - 4 \\, x^{5} + x^{2}\\right)} y^{2} - {\\left(4 \\, x^{8} - x^{4}\\right)} y}) z_{y} + \\frac{2 \\, {\\left(4 \\, x^{2} y^{2} - x^{3} + 2 \\, y^{3} + {\\left(2 \\, x^{4} - x\\right)} y\\right)}}{2 \\, {\\left(2 \\, x^{2} + x\\right)} y^{3} + 2 \\, {\\left(4 \\, x^{4} + x^{3}\\right)} y^{2} + {\\left(4 \\, x^{6} - x^{2}\\right)} y} w[], []$"
      ],
      "text/plain": [
       "<IPython.core.display.Math object>"
      ]
     },
     "metadata": {},
     "output_type": "display_data"
    },
    {
     "name": "stdout",
     "output_type": "stream",
     "text": [
      "reduce_inner\n",
      "str(t)='diff(z(x, y), y, y)'\n",
      "   str(e1)='diff(z(x, y), y, y) + (-2/(y*(x/((x^2 + y)*y) - 4*x^2/(y^2*(x/((x^2 + y)*y) - 2))))) * diff(w(x, y), y) + (-x/((x^4 + 2*x^2*y + y^2)*y*(x/((x^2 + y)*y) - 4*x^2/(y^2*(x/((x^2 + y)*y) - 2)))) - 8*x/(y*(x/((x^2 + y)*y) - 4*x^2/(y^2*(x/((x^2 + y)*y) - 2)))*(x/((x^2 + y)*y) - 2)) - x/((x^2 + y)*y^2*(x/((x^2 + y)*y) - 4*x^2/(y^2*(x/((x^2 + y)*y) - 2)))) - 4*x^3/((x^4 + 2*x^2*y + y^2)*y^3*(x^2/((x^4 + 2*x^2*y + y^2)*y^2) - 4*x/((x^2 + y)*y) + 4)*(x/((x^2 + y)*y) - 4*x^2/(y^2*(x/((x^2 + y)*y) - 2)))) + 8*x^2/(y^3*(x/((x^2 + y)*y) - 4*x^2/(y^2*(x/((x^2 + y)*y) - 2)))*(x/((x^2 + y)*y) - 2)) - 4*x^3/((x^2 + y)*y^4*(x^2/((x^4 + 2*x^2*y + y^2)*y^2) - 4*x/((x^2 + y)*y) + 4)*(x/((x^2 + y)*y) - 4*x^2/(y^2*(x/((x^2 + y)*y) - 2))))) * diff(z(x, y), y) + (2/(y^2*(x/((x^2 + y)*y) - 4*x^2/(y^2*(x/((x^2 + y)*y) - 2))))) * w(x, y), [], []'\n",
      "   str(e2)='diff(z(x, y), x) + (-1/4*x*(1/(x^2 + y) - 4*x/(y*(x/((x^2 + y)*y) - 2)))/y) * diff(z(x, y), y) + (1/2/y) * w(x, y), [], []'\n",
      "str(t)='(-x/((x^4 + 2*x^2*y + y^2)*y*(x/((x^2 + y)*y) - 4*x^2/(y^2*(x/((x^2 + y)*y) - 2)))) - 8*x/(y*(x/((x^2 + y)*y) - 4*x^2/(y^2*(x/((x^2 + y)*y) - 2)))*(x/((x^2 + y)*y) - 2)) - x/((x^2 + y)*y^2*(x/((x^2 + y)*y) - 4*x^2/(y^2*(x/((x^2 + y)*y) - 2)))) - 4*x^3/((x^4 + 2*x^2*y + y^2)*y^3*(x^2/((x^4 + 2*x^2*y + y^2)*y^2) - 4*x/((x^2 + y)*y) + 4)*(x/((x^2 + y)*y) - 4*x^2/(y^2*(x/((x^2 + y)*y) - 2)))) + 8*x^2/(y^3*(x/((x^2 + y)*y) - 4*x^2/(y^2*(x/((x^2 + y)*y) - 2)))*(x/((x^2 + y)*y) - 2)) - 4*x^3/((x^2 + y)*y^4*(x^2/((x^4 + 2*x^2*y + y^2)*y^2) - 4*x/((x^2 + y)*y) + 4)*(x/((x^2 + y)*y) - 4*x^2/(y^2*(x/((x^2 + y)*y) - 2))))) * diff(z(x, y), y)'\n",
      "   str(e1)='diff(z(x, y), y, y) + (-2/(y*(x/((x^2 + y)*y) - 4*x^2/(y^2*(x/((x^2 + y)*y) - 2))))) * diff(w(x, y), y) + (-x/((x^4 + 2*x^2*y + y^2)*y*(x/((x^2 + y)*y) - 4*x^2/(y^2*(x/((x^2 + y)*y) - 2)))) - 8*x/(y*(x/((x^2 + y)*y) - 4*x^2/(y^2*(x/((x^2 + y)*y) - 2)))*(x/((x^2 + y)*y) - 2)) - x/((x^2 + y)*y^2*(x/((x^2 + y)*y) - 4*x^2/(y^2*(x/((x^2 + y)*y) - 2)))) - 4*x^3/((x^4 + 2*x^2*y + y^2)*y^3*(x^2/((x^4 + 2*x^2*y + y^2)*y^2) - 4*x/((x^2 + y)*y) + 4)*(x/((x^2 + y)*y) - 4*x^2/(y^2*(x/((x^2 + y)*y) - 2)))) + 8*x^2/(y^3*(x/((x^2 + y)*y) - 4*x^2/(y^2*(x/((x^2 + y)*y) - 2)))*(x/((x^2 + y)*y) - 2)) - 4*x^3/((x^2 + y)*y^4*(x^2/((x^4 + 2*x^2*y + y^2)*y^2) - 4*x/((x^2 + y)*y) + 4)*(x/((x^2 + y)*y) - 4*x^2/(y^2*(x/((x^2 + y)*y) - 2))))) * diff(z(x, y), y) + (2/(y^2*(x/((x^2 + y)*y) - 4*x^2/(y^2*(x/((x^2 + y)*y) - 2))))) * w(x, y), [], []'\n",
      "   str(e2)='diff(z(x, y), x) + (-1/4*x*(1/(x^2 + y) - 4*x/(y*(x/((x^2 + y)*y) - 2)))/y) * diff(z(x, y), y) + (1/2/y) * w(x, y), [], []'\n",
      "nothing to reduce\n",
      "reduce_inner\n",
      "str(t)='diff(z(x, y), y, y)'\n",
      "   str(e1)='diff(z(x, y), y, y) + (-2/(y*(x/((x^2 + y)*y) - 4*x^2/(y^2*(x/((x^2 + y)*y) - 2))))) * diff(w(x, y), y) + (-x/((x^4 + 2*x^2*y + y^2)*y*(x/((x^2 + y)*y) - 4*x^2/(y^2*(x/((x^2 + y)*y) - 2)))) - 8*x/(y*(x/((x^2 + y)*y) - 4*x^2/(y^2*(x/((x^2 + y)*y) - 2)))*(x/((x^2 + y)*y) - 2)) - x/((x^2 + y)*y^2*(x/((x^2 + y)*y) - 4*x^2/(y^2*(x/((x^2 + y)*y) - 2)))) - 4*x^3/((x^4 + 2*x^2*y + y^2)*y^3*(x^2/((x^4 + 2*x^2*y + y^2)*y^2) - 4*x/((x^2 + y)*y) + 4)*(x/((x^2 + y)*y) - 4*x^2/(y^2*(x/((x^2 + y)*y) - 2)))) + 8*x^2/(y^3*(x/((x^2 + y)*y) - 4*x^2/(y^2*(x/((x^2 + y)*y) - 2)))*(x/((x^2 + y)*y) - 2)) - 4*x^3/((x^2 + y)*y^4*(x^2/((x^4 + 2*x^2*y + y^2)*y^2) - 4*x/((x^2 + y)*y) + 4)*(x/((x^2 + y)*y) - 4*x^2/(y^2*(x/((x^2 + y)*y) - 2))))) * diff(z(x, y), y) + (2/(y^2*(x/((x^2 + y)*y) - 4*x^2/(y^2*(x/((x^2 + y)*y) - 2))))) * w(x, y), [], []'\n",
      "   str(e2)='diff(z(x, y), x) + (-1/4*x*(1/(x^2 + y) - 4*x/(y*(x/((x^2 + y)*y) - 2)))/y) * diff(z(x, y), y) + (1/2/y) * w(x, y), [], []'\n",
      "str(t)='(-x/((x^4 + 2*x^2*y + y^2)*y*(x/((x^2 + y)*y) - 4*x^2/(y^2*(x/((x^2 + y)*y) - 2)))) - 8*x/(y*(x/((x^2 + y)*y) - 4*x^2/(y^2*(x/((x^2 + y)*y) - 2)))*(x/((x^2 + y)*y) - 2)) - x/((x^2 + y)*y^2*(x/((x^2 + y)*y) - 4*x^2/(y^2*(x/((x^2 + y)*y) - 2)))) - 4*x^3/((x^4 + 2*x^2*y + y^2)*y^3*(x^2/((x^4 + 2*x^2*y + y^2)*y^2) - 4*x/((x^2 + y)*y) + 4)*(x/((x^2 + y)*y) - 4*x^2/(y^2*(x/((x^2 + y)*y) - 2)))) + 8*x^2/(y^3*(x/((x^2 + y)*y) - 4*x^2/(y^2*(x/((x^2 + y)*y) - 2)))*(x/((x^2 + y)*y) - 2)) - 4*x^3/((x^2 + y)*y^4*(x^2/((x^4 + 2*x^2*y + y^2)*y^2) - 4*x/((x^2 + y)*y) + 4)*(x/((x^2 + y)*y) - 4*x^2/(y^2*(x/((x^2 + y)*y) - 2))))) * diff(z(x, y), y)'\n",
      "   str(e1)='diff(z(x, y), y, y) + (-2/(y*(x/((x^2 + y)*y) - 4*x^2/(y^2*(x/((x^2 + y)*y) - 2))))) * diff(w(x, y), y) + (-x/((x^4 + 2*x^2*y + y^2)*y*(x/((x^2 + y)*y) - 4*x^2/(y^2*(x/((x^2 + y)*y) - 2)))) - 8*x/(y*(x/((x^2 + y)*y) - 4*x^2/(y^2*(x/((x^2 + y)*y) - 2)))*(x/((x^2 + y)*y) - 2)) - x/((x^2 + y)*y^2*(x/((x^2 + y)*y) - 4*x^2/(y^2*(x/((x^2 + y)*y) - 2)))) - 4*x^3/((x^4 + 2*x^2*y + y^2)*y^3*(x^2/((x^4 + 2*x^2*y + y^2)*y^2) - 4*x/((x^2 + y)*y) + 4)*(x/((x^2 + y)*y) - 4*x^2/(y^2*(x/((x^2 + y)*y) - 2)))) + 8*x^2/(y^3*(x/((x^2 + y)*y) - 4*x^2/(y^2*(x/((x^2 + y)*y) - 2)))*(x/((x^2 + y)*y) - 2)) - 4*x^3/((x^2 + y)*y^4*(x^2/((x^4 + 2*x^2*y + y^2)*y^2) - 4*x/((x^2 + y)*y) + 4)*(x/((x^2 + y)*y) - 4*x^2/(y^2*(x/((x^2 + y)*y) - 2))))) * diff(z(x, y), y) + (2/(y^2*(x/((x^2 + y)*y) - 4*x^2/(y^2*(x/((x^2 + y)*y) - 2))))) * w(x, y), [], []'\n",
      "   str(e2)='diff(z(x, y), x) + (-1/4*x*(1/(x^2 + y) - 4*x/(y*(x/((x^2 + y)*y) - 2)))/y) * diff(z(x, y), y) + (1/2/y) * w(x, y), [], []'\n",
      "nothing to reduce\n",
      "reduce_inner\n",
      "str(t)='diff(z(x, y), x, x)'\n",
      "   str(e1)='diff(z(x, y), x, x) + (-1/2/x + 1/2/y) * diff(w(x, y), x) + (-1/2*y/((x^2 + y)*x)) * diff(z(x, y), x) + (-1/2*x/(x^4 + 2*x^2*y + y^2) + 1/8/(x^2 + y)^2 + 1/4/((x^2 + y)*x)) * diff(z(x, y), y) + (-1/4/((x^2 + y)*x)) * w(x, y), [], []'\n",
      "   str(e2)='diff(z(x, y), x) + (-1/4*x*(1/(x^2 + y) - 4*x/(y*(x/((x^2 + y)*y) - 2)))/y) * diff(z(x, y), y) + (1/2/y) * w(x, y), [], []'\n",
      "   ===> diff, *1, [x]\n",
      "after creation of DP\n",
      "===> str(_)='diff(z(x, y), x, y)',  (1, 1, 0, 1)\n",
      "===> str(_)='(-2*(1/x + 1/y)/(x/((x^2 + y)*y) - 4*x^2/(y^2*(x/((x^2 + y)*y) - 2)))) * diff(w(x, y), x)',  (1, 0, 1, 0)\n",
      "===> str(_)='(-2*y/((x^2 + y)*x*(x/((x^2 + y)*y) - 4*x^2/(y^2*(x/((x^2 + y)*y) - 2))))) * diff(z(x, y), x)',  (1, 0, 0, 1)\n",
      "===> str(_)='(-(2*x/(x^4 + 2*x^2*y + y^2) + 2*x^2/((x^4 + 2*x^2*y + y^2)*y) - 8*x^4/((x^4 + 2*x^2*y + y^2)*y^3*(4*x/((x^2 + y)*y) - x^2/((x^2 + y)^2*y^2) - 4)) - 1/((x^2 + y)*y) + 8*x/(y^2*(x/((x^2 + y)*y) - 2)) + 4*x^2/((x^2 + y)*y^3*(4*x/((x^2 + y)*y) - x^2/((x^2 + y)^2*y^2) - 4)))/(x/((x^2 + y)*y) - 4*x^2/(y^2*(x/((x^2 + y)*y) - 2)))) * diff(z(x, y), y)',  (0, 1, 0, 1)\n",
      "===> str(_)='(-1/((x^2 + y)*x*(x/((x^2 + y)*y) - 4*x^2/(y^2*(x/((x^2 + y)*y) - 2))))) * w(x, y)',  (0, 0, 1, 0)\n",
      "  after _reduce_inner: \n"
     ]
    },
    {
     "data": {
      "text/latex": [
       "$\\displaystyle  z_{x,x} + (\\frac{x - y}{2 \\, x y}) w_{x}-\\frac{y}{2 \\, {\\left(x^{3} + x y\\right)}} z_{x} + (-\\frac{2 \\, x^{2} - x - 2 \\, y}{8 \\, {\\left(x^{5} + 2 \\, x^{3} y + x y^{2}\\right)}}) z_{y}-\\frac{1}{4 \\, {\\left(x^{3} + x y\\right)}} w[], []$"
      ],
      "text/plain": [
       "<IPython.core.display.Math object>"
      ]
     },
     "metadata": {},
     "output_type": "display_data"
    },
    {
     "data": {
      "text/latex": [
       "$\\displaystyle  z_{x}-\\frac{4 \\, x^{6} + 2 \\, {\\left(2 \\, x^{2} + x\\right)} y^{2} - x^{2} + 2 \\, {\\left(4 \\, x^{4} + x^{3}\\right)} y}{4 \\, {\\left(4 \\, x^{2} y^{3} - x^{3} y + 2 \\, y^{4} + {\\left(2 \\, x^{4} - x\\right)} y^{2}\\right)}} z_{y} + \\frac{1}{2 \\, y} w[], []$"
      ],
      "text/plain": [
       "<IPython.core.display.Math object>"
      ]
     },
     "metadata": {},
     "output_type": "display_data"
    },
    {
     "data": {
      "text/latex": [
       "$\\displaystyle  z_{x,y} + \\frac{2 \\, {\\left(x^{4} - 2 \\, {\\left(2 \\, x^{2} + x\\right)} y^{3} - 2 \\, y^{4} - {\\left(2 \\, x^{4} + 4 \\, x^{3} - x\\right)} y^{2} - {\\left(2 \\, x^{5} - x^{3} - x^{2}\\right)} y\\right)}}{4 \\, x^{7} - x^{3} + 2 \\, {\\left(2 \\, x^{3} + x^{2}\\right)} y^{2} + 2 \\, {\\left(4 \\, x^{5} + x^{4}\\right)} y} w_{x}-\\frac{2 \\, {\\left(2 \\, x^{2} y^{3} + 2 \\, y^{4} - x y^{2}\\right)}}{4 \\, x^{7} - x^{3} + 2 \\, {\\left(2 \\, x^{3} + x^{2}\\right)} y^{2} + 2 \\, {\\left(4 \\, x^{5} + x^{4}\\right)} y} z_{x} + \\frac{12 \\, x^{8} - 4 \\, {\\left(2 \\, x + 1\\right)} y^{5} - 4 \\, {\\left(12 \\, x^{3} + x^{2}\\right)} y^{4} + x^{4} - 4 \\, {\\left(22 \\, x^{5} - x^{4} + x^{2} - x\\right)} y^{3} - 4 \\, {\\left(16 \\, x^{7} - x^{6} - 3 \\, x^{4}\\right)} y^{2} - {\\left(16 \\, x^{9} - 28 \\, x^{6} + 4 \\, x^{5} - 2 \\, x^{3} + x^{2}\\right)} y}{4 \\, x^{9} - 4 \\, {\\left(2 \\, x^{2} + x\\right)} y^{5} - x^{5} - 4 \\, {\\left(8 \\, x^{4} + 3 \\, x^{3}\\right)} y^{4} - 4 \\, {\\left(12 \\, x^{6} + 3 \\, x^{5} - x^{3} - x^{2}\\right)} y^{3} - 4 \\, {\\left(8 \\, x^{8} + x^{7} - 3 \\, x^{5} - 2 \\, x^{4}\\right)} y^{2} - {\\left(8 \\, x^{10} - 12 \\, x^{7} - 4 \\, x^{6} + x^{3}\\right)} y} z_{y}-\\frac{2 \\, x^{2} y^{2} + 2 \\, y^{3} - x y}{4 \\, x^{7} - x^{3} + 2 \\, {\\left(2 \\, x^{3} + x^{2}\\right)} y^{2} + 2 \\, {\\left(4 \\, x^{5} + x^{4}\\right)} y} w[], []$"
      ],
      "text/plain": [
       "<IPython.core.display.Math object>"
      ]
     },
     "metadata": {},
     "output_type": "display_data"
    },
    {
     "name": "stdout",
     "output_type": "stream",
     "text": [
      "reduce_inner\n",
      "str(t)='diff(z(x, y), x, y)'\n",
      "   str(e1)='diff(z(x, y), x, y) + (-2*(1/x + 1/y)/(x/((x^2 + y)*y) - 4*x^2/(y^2*(x/((x^2 + y)*y) - 2)))) * diff(w(x, y), x) + (-2*y/((x^2 + y)*x*(x/((x^2 + y)*y) - 4*x^2/(y^2*(x/((x^2 + y)*y) - 2))))) * diff(z(x, y), x) + (-(2*x/(x^4 + 2*x^2*y + y^2) + 2*x^2/((x^4 + 2*x^2*y + y^2)*y) - 8*x^4/((x^4 + 2*x^2*y + y^2)*y^3*(4*x/((x^2 + y)*y) - x^2/((x^2 + y)^2*y^2) - 4)) - 1/((x^2 + y)*y) + 8*x/(y^2*(x/((x^2 + y)*y) - 2)) + 4*x^2/((x^2 + y)*y^3*(4*x/((x^2 + y)*y) - x^2/((x^2 + y)^2*y^2) - 4)))/(x/((x^2 + y)*y) - 4*x^2/(y^2*(x/((x^2 + y)*y) - 2)))) * diff(z(x, y), y) + (-1/((x^2 + y)*x*(x/((x^2 + y)*y) - 4*x^2/(y^2*(x/((x^2 + y)*y) - 2))))) * w(x, y), [], []'\n",
      "   str(e2)='diff(z(x, y), x) + (-1/4*x*(1/(x^2 + y) - 4*x/(y*(x/((x^2 + y)*y) - 2)))/y) * diff(z(x, y), y) + (1/2/y) * w(x, y), [], []'\n",
      "   ===> diff, *1, [y]\n",
      "after creation of DP\n",
      "===> str(_)='diff(z(x, y), y, y)',  (0, 2, 0, 1)\n",
      "===> str(_)='(-8*(1/(x*(x/((x^2 + y)*y) - 4*x^2/(y^2*(x/((x^2 + y)*y) - 2)))) + 1/(y*(x/((x^2 + y)*y) - 4*x^2/(y^2*(x/((x^2 + y)*y) - 2)))))/(x/((x^2 + y)*y) - 4*x^2/(y^2*(x/((x^2 + y)*y) - 2)))) * diff(w(x, y), x)',  (1, 0, 1, 0)\n",
      "===> str(_)='(-2/(y*(x/((x^2 + y)*y) - 4*x^2/(y^2*(x/((x^2 + y)*y) - 2))))) * diff(w(x, y), y)',  (0, 1, 1, 0)\n",
      "===> str(_)='(-8*y/((x^2 + y)*x*(x/((x^2 + y)*y) - 4*x^2/(y^2*(x/((x^2 + y)*y) - 2)))^2)) * diff(z(x, y), x)',  (1, 0, 0, 1)\n",
      "===> str(_)='(-(x/((x^4 + 2*x^2*y + y^2)*y) + 8*x/((x^4 + 2*x^2*y + y^2)*(x/((x^2 + y)*y) - 4*x^2/(y^2*(x/((x^2 + y)*y) - 2)))) + 8*x^2/((x^4 + 2*x^2*y + y^2)*y*(x/((x^2 + y)*y) - 4*x^2/(y^2*(x/((x^2 + y)*y) - 2)))) + x/((x^2 + y)*y^2) - 4*x^3/((x^4 + 2*x^2*y + y^2)*y^3*(4*x/((x^2 + y)*y) - x^2/((x^2 + y)^2*y^2) - 4)) + 32*x^4/((x^4 + 2*x^2*y + y^2)*y^3*(x^2/((x^4 + 2*x^2*y + y^2)*y^2) - 4*x/((x^2 + y)*y) + 4)*(x/((x^2 + y)*y) - 4*x^2/(y^2*(x/((x^2 + y)*y) - 2)))) - 8*x^2/(y^3*(x/((x^2 + y)*y) - 2)) - 4*x^3/((x^2 + y)*y^4*(4*x/((x^2 + y)*y) - x^2/((x^2 + y)^2*y^2) - 4)) - 4/((x^2 + y)*y*(x/((x^2 + y)*y) - 4*x^2/(y^2*(x/((x^2 + y)*y) - 2)))) + 32*x/(y^2*(x/((x^2 + y)*y) - 4*x^2/(y^2*(x/((x^2 + y)*y) - 2)))*(x/((x^2 + y)*y) - 2)) - 16*x^2/((x^2 + y)*y^3*(x^2/((x^4 + 2*x^2*y + y^2)*y^2) - 4*x/((x^2 + y)*y) + 4)*(x/((x^2 + y)*y) - 4*x^2/(y^2*(x/((x^2 + y)*y) - 2)))))/(x/((x^2 + y)*y) - 4*x^2/(y^2*(x/((x^2 + y)*y) - 2)))) * diff(z(x, y), y)',  (0, 1, 0, 1)\n",
      "===> str(_)='(2*(1/y^2 - 2/((x^2 + y)*x*(x/((x^2 + y)*y) - 4*x^2/(y^2*(x/((x^2 + y)*y) - 2)))))/(x/((x^2 + y)*y) - 4*x^2/(y^2*(x/((x^2 + y)*y) - 2)))) * w(x, y)',  (0, 0, 1, 0)\n",
      "  after _reduce_inner: \n"
     ]
    },
    {
     "data": {
      "text/latex": [
       "$\\displaystyle  z_{x,y} + \\frac{2 \\, {\\left(x^{4} - 2 \\, {\\left(2 \\, x^{2} + x\\right)} y^{3} - 2 \\, y^{4} - {\\left(2 \\, x^{4} + 4 \\, x^{3} - x\\right)} y^{2} - {\\left(2 \\, x^{5} - x^{3} - x^{2}\\right)} y\\right)}}{4 \\, x^{7} - x^{3} + 2 \\, {\\left(2 \\, x^{3} + x^{2}\\right)} y^{2} + 2 \\, {\\left(4 \\, x^{5} + x^{4}\\right)} y} w_{x}-\\frac{2 \\, {\\left(2 \\, x^{2} y^{3} + 2 \\, y^{4} - x y^{2}\\right)}}{4 \\, x^{7} - x^{3} + 2 \\, {\\left(2 \\, x^{3} + x^{2}\\right)} y^{2} + 2 \\, {\\left(4 \\, x^{5} + x^{4}\\right)} y} z_{x} + \\frac{12 \\, x^{8} - 4 \\, {\\left(2 \\, x + 1\\right)} y^{5} - 4 \\, {\\left(12 \\, x^{3} + x^{2}\\right)} y^{4} + x^{4} - 4 \\, {\\left(22 \\, x^{5} - x^{4} + x^{2} - x\\right)} y^{3} - 4 \\, {\\left(16 \\, x^{7} - x^{6} - 3 \\, x^{4}\\right)} y^{2} - {\\left(16 \\, x^{9} - 28 \\, x^{6} + 4 \\, x^{5} - 2 \\, x^{3} + x^{2}\\right)} y}{4 \\, x^{9} - 4 \\, {\\left(2 \\, x^{2} + x\\right)} y^{5} - x^{5} - 4 \\, {\\left(8 \\, x^{4} + 3 \\, x^{3}\\right)} y^{4} - 4 \\, {\\left(12 \\, x^{6} + 3 \\, x^{5} - x^{3} - x^{2}\\right)} y^{3} - 4 \\, {\\left(8 \\, x^{8} + x^{7} - 3 \\, x^{5} - 2 \\, x^{4}\\right)} y^{2} - {\\left(8 \\, x^{10} - 12 \\, x^{7} - 4 \\, x^{6} + x^{3}\\right)} y} z_{y}-\\frac{2 \\, x^{2} y^{2} + 2 \\, y^{3} - x y}{4 \\, x^{7} - x^{3} + 2 \\, {\\left(2 \\, x^{3} + x^{2}\\right)} y^{2} + 2 \\, {\\left(4 \\, x^{5} + x^{4}\\right)} y} w[], []$"
      ],
      "text/plain": [
       "<IPython.core.display.Math object>"
      ]
     },
     "metadata": {},
     "output_type": "display_data"
    },
    {
     "data": {
      "text/latex": [
       "$\\displaystyle  z_{x}-\\frac{4 \\, x^{6} + 2 \\, {\\left(2 \\, x^{2} + x\\right)} y^{2} - x^{2} + 2 \\, {\\left(4 \\, x^{4} + x^{3}\\right)} y}{4 \\, {\\left(4 \\, x^{2} y^{3} - x^{3} y + 2 \\, y^{4} + {\\left(2 \\, x^{4} - x\\right)} y^{2}\\right)}} z_{y} + \\frac{1}{2 \\, y} w[], []$"
      ],
      "text/plain": [
       "<IPython.core.display.Math object>"
      ]
     },
     "metadata": {},
     "output_type": "display_data"
    },
    {
     "data": {
      "text/latex": [
       "$\\displaystyle  z_{y,y}-\\frac{8 \\, {\\left(x^{7} y + 4 \\, {\\left(4 \\, x^{2} + x\\right)} y^{7} + 4 \\, y^{8} + 4 \\, {\\left(6 \\, x^{4} + 4 \\, x^{3} - x\\right)} y^{6} + 4 \\, {\\left(4 \\, x^{6} + 6 \\, x^{5} - 3 \\, x^{3} - x^{2}\\right)} y^{5} + {\\left(4 \\, x^{8} + 16 \\, x^{7} - 12 \\, x^{5} - 12 \\, x^{4} + x^{2}\\right)} y^{4} + {\\left(4 \\, x^{9} - 4 \\, x^{7} - 12 \\, x^{6} + 2 \\, x^{4} + x^{3}\\right)} y^{3} - {\\left(4 \\, x^{8} - x^{6} - 2 \\, x^{5}\\right)} y^{2}\\right)}}{16 \\, x^{13} - 8 \\, x^{9} + x^{5} + 4 \\, {\\left(4 \\, x^{5} + 4 \\, x^{4} + x^{3}\\right)} y^{4} + 8 \\, {\\left(8 \\, x^{7} + 6 \\, x^{6} + x^{5}\\right)} y^{3} + 4 \\, {\\left(24 \\, x^{9} + 12 \\, x^{8} + x^{7} - 2 \\, x^{5} - x^{4}\\right)} y^{2} + 4 \\, {\\left(16 \\, x^{11} + 4 \\, x^{10} - 4 \\, x^{7} - x^{6}\\right)} y} w_{x}-\\frac{2 \\, {\\left(4 \\, x^{2} y^{2} - x^{3} + 2 \\, y^{3} + {\\left(2 \\, x^{4} - x\\right)} y\\right)}}{4 \\, x^{6} + 2 \\, {\\left(2 \\, x^{2} + x\\right)} y^{2} - x^{2} + 2 \\, {\\left(4 \\, x^{4} + x^{3}\\right)} y} w_{y}-\\frac{8 \\, {\\left(12 \\, x^{2} y^{7} + 4 \\, y^{8} + x^{4} y^{3} + 4 \\, {\\left(3 \\, x^{4} - x\\right)} y^{6} + 4 \\, {\\left(x^{6} - 2 \\, x^{3}\\right)} y^{5} - {\\left(4 \\, x^{5} - x^{2}\\right)} y^{4}\\right)}}{16 \\, x^{13} - 8 \\, x^{9} + x^{5} + 4 \\, {\\left(4 \\, x^{5} + 4 \\, x^{4} + x^{3}\\right)} y^{4} + 8 \\, {\\left(8 \\, x^{7} + 6 \\, x^{6} + x^{5}\\right)} y^{3} + 4 \\, {\\left(24 \\, x^{9} + 12 \\, x^{8} + x^{7} - 2 \\, x^{5} - x^{4}\\right)} y^{2} + 4 \\, {\\left(16 \\, x^{11} + 4 \\, x^{10} - 4 \\, x^{7} - x^{6}\\right)} y} z_{x} + \\frac{16 \\, x^{15} - 8 \\, x^{11} + 32 \\, {\\left(2 \\, x + 1\\right)} y^{10} + 32 \\, {\\left(16 \\, x^{3} + 3 \\, x^{2}\\right)} y^{9} + 16 \\, {\\left(96 \\, x^{5} + 4 \\, x^{4} - 3 \\, x\\right)} y^{8} + 16 \\, {\\left(144 \\, x^{7} - 4 \\, x^{6} - 20 \\, x^{4} - 10 \\, x^{3} - x^{2}\\right)} y^{7} + x^{7} + 8 \\, {\\left(232 \\, x^{9} - 12 \\, x^{8} - 164 \\, x^{6} - 38 \\, x^{5} - 7 \\, x^{4} - 4 \\, x^{3} + 3 \\, x^{2}\\right)} y^{6} + 8 \\, {\\left(96 \\, x^{11} - 4 \\, x^{10} - 276 \\, x^{8} - 60 \\, x^{7} - 9 \\, x^{6} + 9 \\, x^{4} + 3 \\, x^{3}\\right)} y^{5} + 4 \\, {\\left(32 \\, x^{13} - 504 \\, x^{10} - 124 \\, x^{9} - 10 \\, x^{8} + 40 \\, x^{7} + 40 \\, x^{6} + 15 \\, x^{5} + 2 \\, x^{4} - x^{3}\\right)} y^{4} - 4 \\, {\\left(280 \\, x^{12} + 64 \\, x^{11} + 2 \\, x^{10} - 56 \\, x^{9} - 60 \\, x^{8} - 12 \\, x^{7} - 2 \\, x^{6} + 2 \\, x^{5} + 3 \\, x^{4}\\right)} y^{3} - 2 \\, {\\left(192 \\, x^{14} + 24 \\, x^{13} - 72 \\, x^{11} - 84 \\, x^{10} - 6 \\, x^{9} + 10 \\, x^{7} + 9 \\, x^{6}\\right)} y^{2} - 2 \\, {\\left(32 \\, x^{16} - 32 \\, x^{13} - 20 \\, x^{12} + 12 \\, x^{9} + 3 \\, x^{8} - x^{5}\\right)} y}{8 \\, {\\left(4 \\, x^{4} + 4 \\, x^{3} + x^{2}\\right)} y^{8} + 32 \\, {\\left(6 \\, x^{6} + 5 \\, x^{5} + x^{4}\\right)} y^{7} + 4 \\, {\\left(120 \\, x^{8} + 80 \\, x^{7} + 12 \\, x^{6} - 4 \\, x^{5} - 8 \\, x^{4} - 3 \\, x^{3}\\right)} y^{6} + 4 \\, {\\left(160 \\, x^{10} + 80 \\, x^{9} + 8 \\, x^{8} - 20 \\, x^{7} - 32 \\, x^{6} - 9 \\, x^{5}\\right)} y^{5} + 2 \\, {\\left(240 \\, x^{12} + 80 \\, x^{11} + 4 \\, x^{10} - 80 \\, x^{9} - 96 \\, x^{8} - 18 \\, x^{7} + 4 \\, x^{5} + 3 \\, x^{4}\\right)} y^{4} + 4 \\, {\\left(48 \\, x^{14} + 8 \\, x^{13} - 40 \\, x^{11} - 32 \\, x^{10} - 3 \\, x^{9} + 6 \\, x^{7} + 3 \\, x^{6}\\right)} y^{3} + {\\left(32 \\, x^{16} - 80 \\, x^{13} - 32 \\, x^{12} + 24 \\, x^{9} + 6 \\, x^{8} - x^{5}\\right)} y^{2} - {\\left(16 \\, x^{15} - 8 \\, x^{11} + x^{7}\\right)} y} z_{y}-\\frac{2 \\, {\\left(4 \\, x^{10} + 24 \\, x^{2} y^{7} + 8 \\, y^{8} + 8 \\, {\\left(3 \\, x^{4} - x\\right)} y^{6} - x^{6} + 4 \\, {\\left(2 \\, x^{6} - 6 \\, x^{3} - x^{2}\\right)} y^{5} - 2 \\, {\\left(20 \\, x^{5} + 6 \\, x^{4} - x^{2}\\right)} y^{4} - 2 \\, {\\left(24 \\, x^{7} + 6 \\, x^{6} - 3 \\, x^{4} - 2 \\, x^{3}\\right)} y^{3} - 4 \\, {\\left(8 \\, x^{9} + x^{8} - 3 \\, x^{6} - 2 \\, x^{5}\\right)} y^{2} - {\\left(8 \\, x^{11} - 12 \\, x^{8} - 4 \\, x^{7} + x^{4}\\right)} y\\right)}}{4 \\, {\\left(4 \\, x^{5} + 4 \\, x^{4} + x^{3}\\right)} y^{5} + 8 \\, {\\left(8 \\, x^{7} + 6 \\, x^{6} + x^{5}\\right)} y^{4} + 4 \\, {\\left(24 \\, x^{9} + 12 \\, x^{8} + x^{7} - 2 \\, x^{5} - x^{4}\\right)} y^{3} + 4 \\, {\\left(16 \\, x^{11} + 4 \\, x^{10} - 4 \\, x^{7} - x^{6}\\right)} y^{2} + {\\left(16 \\, x^{13} - 8 \\, x^{9} + x^{5}\\right)} y} w[], []$"
      ],
      "text/plain": [
       "<IPython.core.display.Math object>"
      ]
     },
     "metadata": {},
     "output_type": "display_data"
    },
    {
     "name": "stdout",
     "output_type": "stream",
     "text": [
      "reduce_inner\n",
      "str(t)='diff(z(x, y), y, y)'\n",
      "   str(e1)='diff(z(x, y), y, y) + (-8*(1/(x*(x/((x^2 + y)*y) - 4*x^2/(y^2*(x/((x^2 + y)*y) - 2)))) + 1/(y*(x/((x^2 + y)*y) - 4*x^2/(y^2*(x/((x^2 + y)*y) - 2)))))/(x/((x^2 + y)*y) - 4*x^2/(y^2*(x/((x^2 + y)*y) - 2)))) * diff(w(x, y), x) + (-2/(y*(x/((x^2 + y)*y) - 4*x^2/(y^2*(x/((x^2 + y)*y) - 2))))) * diff(w(x, y), y) + (-8*y/((x^2 + y)*x*(x/((x^2 + y)*y) - 4*x^2/(y^2*(x/((x^2 + y)*y) - 2)))^2)) * diff(z(x, y), x) + (-(x/((x^4 + 2*x^2*y + y^2)*y) + 8*x/((x^4 + 2*x^2*y + y^2)*(x/((x^2 + y)*y) - 4*x^2/(y^2*(x/((x^2 + y)*y) - 2)))) + 8*x^2/((x^4 + 2*x^2*y + y^2)*y*(x/((x^2 + y)*y) - 4*x^2/(y^2*(x/((x^2 + y)*y) - 2)))) + x/((x^2 + y)*y^2) - 4*x^3/((x^4 + 2*x^2*y + y^2)*y^3*(4*x/((x^2 + y)*y) - x^2/((x^2 + y)^2*y^2) - 4)) + 32*x^4/((x^4 + 2*x^2*y + y^2)*y^3*(x^2/((x^4 + 2*x^2*y + y^2)*y^2) - 4*x/((x^2 + y)*y) + 4)*(x/((x^2 + y)*y) - 4*x^2/(y^2*(x/((x^2 + y)*y) - 2)))) - 8*x^2/(y^3*(x/((x^2 + y)*y) - 2)) - 4*x^3/((x^2 + y)*y^4*(4*x/((x^2 + y)*y) - x^2/((x^2 + y)^2*y^2) - 4)) - 4/((x^2 + y)*y*(x/((x^2 + y)*y) - 4*x^2/(y^2*(x/((x^2 + y)*y) - 2)))) + 32*x/(y^2*(x/((x^2 + y)*y) - 4*x^2/(y^2*(x/((x^2 + y)*y) - 2)))*(x/((x^2 + y)*y) - 2)) - 16*x^2/((x^2 + y)*y^3*(x^2/((x^4 + 2*x^2*y + y^2)*y^2) - 4*x/((x^2 + y)*y) + 4)*(x/((x^2 + y)*y) - 4*x^2/(y^2*(x/((x^2 + y)*y) - 2)))))/(x/((x^2 + y)*y) - 4*x^2/(y^2*(x/((x^2 + y)*y) - 2)))) * diff(z(x, y), y) + (2*(1/y^2 - 2/((x^2 + y)*x*(x/((x^2 + y)*y) - 4*x^2/(y^2*(x/((x^2 + y)*y) - 2)))))/(x/((x^2 + y)*y) - 4*x^2/(y^2*(x/((x^2 + y)*y) - 2)))) * w(x, y), [], []'\n",
      "   str(e2)='diff(z(x, y), x) + (-1/4*x*(1/(x^2 + y) - 4*x/(y*(x/((x^2 + y)*y) - 2)))/y) * diff(z(x, y), y) + (1/2/y) * w(x, y), [], []'\n",
      "str(t)='(-8*y/((x^2 + y)*x*(x/((x^2 + y)*y) - 4*x^2/(y^2*(x/((x^2 + y)*y) - 2)))^2)) * diff(z(x, y), x)'\n",
      "   str(e1)='diff(z(x, y), y, y) + (-8*(1/(x*(x/((x^2 + y)*y) - 4*x^2/(y^2*(x/((x^2 + y)*y) - 2)))) + 1/(y*(x/((x^2 + y)*y) - 4*x^2/(y^2*(x/((x^2 + y)*y) - 2)))))/(x/((x^2 + y)*y) - 4*x^2/(y^2*(x/((x^2 + y)*y) - 2)))) * diff(w(x, y), x) + (-2/(y*(x/((x^2 + y)*y) - 4*x^2/(y^2*(x/((x^2 + y)*y) - 2))))) * diff(w(x, y), y) + (-8*y/((x^2 + y)*x*(x/((x^2 + y)*y) - 4*x^2/(y^2*(x/((x^2 + y)*y) - 2)))^2)) * diff(z(x, y), x) + (-(x/((x^4 + 2*x^2*y + y^2)*y) + 8*x/((x^4 + 2*x^2*y + y^2)*(x/((x^2 + y)*y) - 4*x^2/(y^2*(x/((x^2 + y)*y) - 2)))) + 8*x^2/((x^4 + 2*x^2*y + y^2)*y*(x/((x^2 + y)*y) - 4*x^2/(y^2*(x/((x^2 + y)*y) - 2)))) + x/((x^2 + y)*y^2) - 4*x^3/((x^4 + 2*x^2*y + y^2)*y^3*(4*x/((x^2 + y)*y) - x^2/((x^2 + y)^2*y^2) - 4)) + 32*x^4/((x^4 + 2*x^2*y + y^2)*y^3*(x^2/((x^4 + 2*x^2*y + y^2)*y^2) - 4*x/((x^2 + y)*y) + 4)*(x/((x^2 + y)*y) - 4*x^2/(y^2*(x/((x^2 + y)*y) - 2)))) - 8*x^2/(y^3*(x/((x^2 + y)*y) - 2)) - 4*x^3/((x^2 + y)*y^4*(4*x/((x^2 + y)*y) - x^2/((x^2 + y)^2*y^2) - 4)) - 4/((x^2 + y)*y*(x/((x^2 + y)*y) - 4*x^2/(y^2*(x/((x^2 + y)*y) - 2)))) + 32*x/(y^2*(x/((x^2 + y)*y) - 4*x^2/(y^2*(x/((x^2 + y)*y) - 2)))*(x/((x^2 + y)*y) - 2)) - 16*x^2/((x^2 + y)*y^3*(x^2/((x^4 + 2*x^2*y + y^2)*y^2) - 4*x/((x^2 + y)*y) + 4)*(x/((x^2 + y)*y) - 4*x^2/(y^2*(x/((x^2 + y)*y) - 2)))))/(x/((x^2 + y)*y) - 4*x^2/(y^2*(x/((x^2 + y)*y) - 2)))) * diff(z(x, y), y) + (2*(1/y^2 - 2/((x^2 + y)*x*(x/((x^2 + y)*y) - 4*x^2/(y^2*(x/((x^2 + y)*y) - 2)))))/(x/((x^2 + y)*y) - 4*x^2/(y^2*(x/((x^2 + y)*y) - 2)))) * w(x, y), [], []'\n",
      "   str(e2)='diff(z(x, y), x) + (-1/4*x*(1/(x^2 + y) - 4*x/(y*(x/((x^2 + y)*y) - 2)))/y) * diff(z(x, y), y) + (1/2/y) * w(x, y), [], []'\n",
      "   ===> subtract, *-8*y/((x^2 + y)*x*(x/((x^2 + y)*y) - 4*x^2/(y^2*(x/((x^2 + y)*y) - 2)))^2)\n",
      "after creation of DP\n",
      "===> str(_)='diff(z(x, y), y, y)',  (0, 2, 0, 1)\n",
      "===> str(_)='(-8/(x*(x/((x^2 + y)*y) - 4*x^2/(y^2*(x/((x^2 + y)*y) - 2)))^2) - 8/(y*(x/((x^2 + y)*y) - 4*x^2/(y^2*(x/((x^2 + y)*y) - 2)))^2)) * diff(w(x, y), x)',  (1, 0, 1, 0)\n",
      "===> str(_)='(-2/(y*(x/((x^2 + y)*y) - 4*x^2/(y^2*(x/((x^2 + y)*y) - 2))))) * diff(w(x, y), y)',  (0, 1, 1, 0)\n",
      "===> str(_)='(-8*x/((x^4 + 2*x^2*y + y^2)*(x/((x^2 + y)*y) - 4*x^2/(y^2*(x/((x^2 + y)*y) - 2)))^2) - 8*x^2/((x^4 + 2*x^2*y + y^2)*y*(x/((x^2 + y)*y) - 4*x^2/(y^2*(x/((x^2 + y)*y) - 2)))^2) - x/((x^4 + 2*x^2*y + y^2)*y*(x/((x^2 + y)*y) - 4*x^2/(y^2*(x/((x^2 + y)*y) - 2)))) - 32*x^4/((x^4 + 2*x^2*y + y^2)*y^3*(x^2/((x^4 + 2*x^2*y + y^2)*y^2) - 4*x/((x^2 + y)*y) + 4)*(x/((x^2 + y)*y) - 4*x^2/(y^2*(x/((x^2 + y)*y) - 2)))^2) - x/((x^2 + y)*y^2*(x/((x^2 + y)*y) - 4*x^2/(y^2*(x/((x^2 + y)*y) - 2)))) - 4*x^3/((x^4 + 2*x^2*y + y^2)*y^3*(x^2/((x^4 + 2*x^2*y + y^2)*y^2) - 4*x/((x^2 + y)*y) + 4)*(x/((x^2 + y)*y) - 4*x^2/(y^2*(x/((x^2 + y)*y) - 2)))) + 8*x^2/(y^3*(x/((x^2 + y)*y) - 4*x^2/(y^2*(x/((x^2 + y)*y) - 2)))*(x/((x^2 + y)*y) - 2)) - 2/((x^2 + y)^2*(x^2/((x^2 + y)^2*y^2) + 16*x^4/(y^4*(x/((x^2 + y)*y) - 2)^2) - 8*x^3/((x^2 + y)*y^3*(x/((x^2 + y)*y) - 2)))) + 8*x/((x^2 + y)*y*(x/((x^2 + y)*y) - 2)*(x^2/((x^2 + y)^2*y^2) + 16*x^4/(y^4*(x/((x^2 + y)*y) - 2)^2) - 8*x^3/((x^2 + y)*y^3*(x/((x^2 + y)*y) - 2)))) + 4/((x^2 + y)*y*(x/((x^2 + y)*y) - 4*x^2/(y^2*(x/((x^2 + y)*y) - 2)))^2) - 4*x^3/((x^2 + y)*y^4*(x^2/((x^4 + 2*x^2*y + y^2)*y^2) - 4*x/((x^2 + y)*y) + 4)*(x/((x^2 + y)*y) - 4*x^2/(y^2*(x/((x^2 + y)*y) - 2)))) - 32*x/(y^2*(x/((x^2 + y)*y) - 4*x^2/(y^2*(x/((x^2 + y)*y) - 2)))^2*(x/((x^2 + y)*y) - 2)) + 16*x^2/((x^2 + y)*y^3*(x^2/((x^4 + 2*x^2*y + y^2)*y^2) - 4*x/((x^2 + y)*y) + 4)*(x/((x^2 + y)*y) - 4*x^2/(y^2*(x/((x^2 + y)*y) - 2)))^2)) * diff(z(x, y), y)',  (0, 1, 0, 1)\n",
      "===> str(_)='(2/(y^2*(x/((x^2 + y)*y) - 4*x^2/(y^2*(x/((x^2 + y)*y) - 2)))) + 4/((x^2 + y)*x*(x^2/((x^2 + y)^2*y^2) + 16*x^4/(y^4*(x/((x^2 + y)*y) - 2)^2) - 8*x^3/((x^2 + y)*y^3*(x/((x^2 + y)*y) - 2)))) - 4/((x^2 + y)*x*(x/((x^2 + y)*y) - 4*x^2/(y^2*(x/((x^2 + y)*y) - 2)))^2)) * w(x, y)',  (0, 0, 1, 0)\n",
      "  after _reduce_inner: \n"
     ]
    },
    {
     "data": {
      "text/latex": [
       "$\\displaystyle  z_{y,y}-\\frac{8 \\, {\\left(x^{7} y + 4 \\, {\\left(4 \\, x^{2} + x\\right)} y^{7} + 4 \\, y^{8} + 4 \\, {\\left(6 \\, x^{4} + 4 \\, x^{3} - x\\right)} y^{6} + 4 \\, {\\left(4 \\, x^{6} + 6 \\, x^{5} - 3 \\, x^{3} - x^{2}\\right)} y^{5} + {\\left(4 \\, x^{8} + 16 \\, x^{7} - 12 \\, x^{5} - 12 \\, x^{4} + x^{2}\\right)} y^{4} + {\\left(4 \\, x^{9} - 4 \\, x^{7} - 12 \\, x^{6} + 2 \\, x^{4} + x^{3}\\right)} y^{3} - {\\left(4 \\, x^{8} - x^{6} - 2 \\, x^{5}\\right)} y^{2}\\right)}}{16 \\, x^{13} - 8 \\, x^{9} + x^{5} + 4 \\, {\\left(4 \\, x^{5} + 4 \\, x^{4} + x^{3}\\right)} y^{4} + 8 \\, {\\left(8 \\, x^{7} + 6 \\, x^{6} + x^{5}\\right)} y^{3} + 4 \\, {\\left(24 \\, x^{9} + 12 \\, x^{8} + x^{7} - 2 \\, x^{5} - x^{4}\\right)} y^{2} + 4 \\, {\\left(16 \\, x^{11} + 4 \\, x^{10} - 4 \\, x^{7} - x^{6}\\right)} y} w_{x}-\\frac{2 \\, {\\left(4 \\, x^{2} y^{2} - x^{3} + 2 \\, y^{3} + {\\left(2 \\, x^{4} - x\\right)} y\\right)}}{4 \\, x^{6} + 2 \\, {\\left(2 \\, x^{2} + x\\right)} y^{2} - x^{2} + 2 \\, {\\left(4 \\, x^{4} + x^{3}\\right)} y} w_{y}-\\frac{8 \\, {\\left(12 \\, x^{2} y^{7} + 4 \\, y^{8} + x^{4} y^{3} + 4 \\, {\\left(3 \\, x^{4} - x\\right)} y^{6} + 4 \\, {\\left(x^{6} - 2 \\, x^{3}\\right)} y^{5} - {\\left(4 \\, x^{5} - x^{2}\\right)} y^{4}\\right)}}{16 \\, x^{13} - 8 \\, x^{9} + x^{5} + 4 \\, {\\left(4 \\, x^{5} + 4 \\, x^{4} + x^{3}\\right)} y^{4} + 8 \\, {\\left(8 \\, x^{7} + 6 \\, x^{6} + x^{5}\\right)} y^{3} + 4 \\, {\\left(24 \\, x^{9} + 12 \\, x^{8} + x^{7} - 2 \\, x^{5} - x^{4}\\right)} y^{2} + 4 \\, {\\left(16 \\, x^{11} + 4 \\, x^{10} - 4 \\, x^{7} - x^{6}\\right)} y} z_{x} + \\frac{16 \\, x^{15} - 8 \\, x^{11} + 32 \\, {\\left(2 \\, x + 1\\right)} y^{10} + 32 \\, {\\left(16 \\, x^{3} + 3 \\, x^{2}\\right)} y^{9} + 16 \\, {\\left(96 \\, x^{5} + 4 \\, x^{4} - 3 \\, x\\right)} y^{8} + 16 \\, {\\left(144 \\, x^{7} - 4 \\, x^{6} - 20 \\, x^{4} - 10 \\, x^{3} - x^{2}\\right)} y^{7} + x^{7} + 8 \\, {\\left(232 \\, x^{9} - 12 \\, x^{8} - 164 \\, x^{6} - 38 \\, x^{5} - 7 \\, x^{4} - 4 \\, x^{3} + 3 \\, x^{2}\\right)} y^{6} + 8 \\, {\\left(96 \\, x^{11} - 4 \\, x^{10} - 276 \\, x^{8} - 60 \\, x^{7} - 9 \\, x^{6} + 9 \\, x^{4} + 3 \\, x^{3}\\right)} y^{5} + 4 \\, {\\left(32 \\, x^{13} - 504 \\, x^{10} - 124 \\, x^{9} - 10 \\, x^{8} + 40 \\, x^{7} + 40 \\, x^{6} + 15 \\, x^{5} + 2 \\, x^{4} - x^{3}\\right)} y^{4} - 4 \\, {\\left(280 \\, x^{12} + 64 \\, x^{11} + 2 \\, x^{10} - 56 \\, x^{9} - 60 \\, x^{8} - 12 \\, x^{7} - 2 \\, x^{6} + 2 \\, x^{5} + 3 \\, x^{4}\\right)} y^{3} - 2 \\, {\\left(192 \\, x^{14} + 24 \\, x^{13} - 72 \\, x^{11} - 84 \\, x^{10} - 6 \\, x^{9} + 10 \\, x^{7} + 9 \\, x^{6}\\right)} y^{2} - 2 \\, {\\left(32 \\, x^{16} - 32 \\, x^{13} - 20 \\, x^{12} + 12 \\, x^{9} + 3 \\, x^{8} - x^{5}\\right)} y}{8 \\, {\\left(4 \\, x^{4} + 4 \\, x^{3} + x^{2}\\right)} y^{8} + 32 \\, {\\left(6 \\, x^{6} + 5 \\, x^{5} + x^{4}\\right)} y^{7} + 4 \\, {\\left(120 \\, x^{8} + 80 \\, x^{7} + 12 \\, x^{6} - 4 \\, x^{5} - 8 \\, x^{4} - 3 \\, x^{3}\\right)} y^{6} + 4 \\, {\\left(160 \\, x^{10} + 80 \\, x^{9} + 8 \\, x^{8} - 20 \\, x^{7} - 32 \\, x^{6} - 9 \\, x^{5}\\right)} y^{5} + 2 \\, {\\left(240 \\, x^{12} + 80 \\, x^{11} + 4 \\, x^{10} - 80 \\, x^{9} - 96 \\, x^{8} - 18 \\, x^{7} + 4 \\, x^{5} + 3 \\, x^{4}\\right)} y^{4} + 4 \\, {\\left(48 \\, x^{14} + 8 \\, x^{13} - 40 \\, x^{11} - 32 \\, x^{10} - 3 \\, x^{9} + 6 \\, x^{7} + 3 \\, x^{6}\\right)} y^{3} + {\\left(32 \\, x^{16} - 80 \\, x^{13} - 32 \\, x^{12} + 24 \\, x^{9} + 6 \\, x^{8} - x^{5}\\right)} y^{2} - {\\left(16 \\, x^{15} - 8 \\, x^{11} + x^{7}\\right)} y} z_{y}-\\frac{2 \\, {\\left(4 \\, x^{10} + 24 \\, x^{2} y^{7} + 8 \\, y^{8} + 8 \\, {\\left(3 \\, x^{4} - x\\right)} y^{6} - x^{6} + 4 \\, {\\left(2 \\, x^{6} - 6 \\, x^{3} - x^{2}\\right)} y^{5} - 2 \\, {\\left(20 \\, x^{5} + 6 \\, x^{4} - x^{2}\\right)} y^{4} - 2 \\, {\\left(24 \\, x^{7} + 6 \\, x^{6} - 3 \\, x^{4} - 2 \\, x^{3}\\right)} y^{3} - 4 \\, {\\left(8 \\, x^{9} + x^{8} - 3 \\, x^{6} - 2 \\, x^{5}\\right)} y^{2} - {\\left(8 \\, x^{11} - 12 \\, x^{8} - 4 \\, x^{7} + x^{4}\\right)} y\\right)}}{4 \\, {\\left(4 \\, x^{5} + 4 \\, x^{4} + x^{3}\\right)} y^{5} + 8 \\, {\\left(8 \\, x^{7} + 6 \\, x^{6} + x^{5}\\right)} y^{4} + 4 \\, {\\left(24 \\, x^{9} + 12 \\, x^{8} + x^{7} - 2 \\, x^{5} - x^{4}\\right)} y^{3} + 4 \\, {\\left(16 \\, x^{11} + 4 \\, x^{10} - 4 \\, x^{7} - x^{6}\\right)} y^{2} + {\\left(16 \\, x^{13} - 8 \\, x^{9} + x^{5}\\right)} y} w[], []$"
      ],
      "text/plain": [
       "<IPython.core.display.Math object>"
      ]
     },
     "metadata": {},
     "output_type": "display_data"
    },
    {
     "data": {
      "text/latex": [
       "$\\displaystyle  z_{x}-\\frac{4 \\, x^{6} + 2 \\, {\\left(2 \\, x^{2} + x\\right)} y^{2} - x^{2} + 2 \\, {\\left(4 \\, x^{4} + x^{3}\\right)} y}{4 \\, {\\left(4 \\, x^{2} y^{3} - x^{3} y + 2 \\, y^{4} + {\\left(2 \\, x^{4} - x\\right)} y^{2}\\right)}} z_{y} + \\frac{1}{2 \\, y} w[], []$"
      ],
      "text/plain": [
       "<IPython.core.display.Math object>"
      ]
     },
     "metadata": {},
     "output_type": "display_data"
    },
    {
     "data": {
      "text/latex": [
       "$\\displaystyle  z_{y,y} + (-\\frac{8 \\, {\\left(x^{7} y + 4 \\, {\\left(4 \\, x^{2} + x\\right)} y^{7} + 4 \\, y^{8} + 4 \\, {\\left(6 \\, x^{4} + 4 \\, x^{3} - x\\right)} y^{6} + 4 \\, {\\left(4 \\, x^{6} + 6 \\, x^{5} - 3 \\, x^{3} - x^{2}\\right)} y^{5} + {\\left(4 \\, x^{8} + 16 \\, x^{7} - 12 \\, x^{5} - 12 \\, x^{4} + x^{2}\\right)} y^{4} + {\\left(4 \\, x^{9} - 4 \\, x^{7} - 12 \\, x^{6} + 2 \\, x^{4} + x^{3}\\right)} y^{3} - {\\left(4 \\, x^{8} - x^{6} - 2 \\, x^{5}\\right)} y^{2}\\right)}}{16 \\, x^{13} - 8 \\, x^{9} + x^{5} + 4 \\, {\\left(4 \\, x^{5} + 4 \\, x^{4} + x^{3}\\right)} y^{4} + 8 \\, {\\left(8 \\, x^{7} + 6 \\, x^{6} + x^{5}\\right)} y^{3} + 4 \\, {\\left(24 \\, x^{9} + 12 \\, x^{8} + x^{7} - 2 \\, x^{5} - x^{4}\\right)} y^{2} + 4 \\, {\\left(16 \\, x^{11} + 4 \\, x^{10} - 4 \\, x^{7} - x^{6}\\right)} y}) w_{x}-\\frac{2 \\, {\\left(4 \\, x^{2} y^{2} - x^{3} + 2 \\, y^{3} + {\\left(2 \\, x^{4} - x\\right)} y\\right)}}{4 \\, x^{6} + 2 \\, {\\left(2 \\, x^{2} + x\\right)} y^{2} - x^{2} + 2 \\, {\\left(4 \\, x^{4} + x^{3}\\right)} y} w_{y} + (\\frac{16 \\, x^{15} - 8 \\, x^{11} + 16 \\, {\\left(2 \\, x + 1\\right)} y^{10} + 32 \\, {\\left(11 \\, x^{3} + x^{2}\\right)} y^{9} + 8 \\, {\\left(152 \\, x^{5} - 4 \\, x^{4} + 4 \\, x^{2} - 3 \\, x\\right)} y^{8} + 8 \\, {\\left(248 \\, x^{7} - 16 \\, x^{6} - 24 \\, x^{4} - 11 \\, x^{3} - 2 \\, x^{2}\\right)} y^{7} + x^{7} + 4 \\, {\\left(424 \\, x^{9} - 28 \\, x^{8} - 280 \\, x^{6} - 58 \\, x^{5} - 14 \\, x^{4} - 10 \\, x^{3} + 3 \\, x^{2}\\right)} y^{6} + 8 \\, {\\left(92 \\, x^{11} - 4 \\, x^{10} - 260 \\, x^{8} - 57 \\, x^{7} - 9 \\, x^{6} - 3 \\, x^{5} + 6 \\, x^{4} + 3 \\, x^{3}\\right)} y^{5} + 2 \\, {\\left(64 \\, x^{13} - 992 \\, x^{10} - 248 \\, x^{9} - 20 \\, x^{8} + 68 \\, x^{7} + 74 \\, x^{6} + 30 \\, x^{5} + 4 \\, x^{4} - x^{3}\\right)} y^{4} - 2 \\, {\\left(560 \\, x^{12} + 128 \\, x^{11} + 4 \\, x^{10} - 108 \\, x^{9} - 120 \\, x^{8} - 24 \\, x^{7} - 4 \\, x^{6} + 3 \\, x^{5} + 6 \\, x^{4}\\right)} y^{3} - 2 \\, {\\left(192 \\, x^{14} + 24 \\, x^{13} - 72 \\, x^{11} - 84 \\, x^{10} - 6 \\, x^{9} + 10 \\, x^{7} + 9 \\, x^{6}\\right)} y^{2} - 2 \\, {\\left(32 \\, x^{16} - 32 \\, x^{13} - 20 \\, x^{12} + 12 \\, x^{9} + 3 \\, x^{8} - x^{5}\\right)} y}{8 \\, {\\left(4 \\, x^{4} + 4 \\, x^{3} + x^{2}\\right)} y^{8} + 32 \\, {\\left(6 \\, x^{6} + 5 \\, x^{5} + x^{4}\\right)} y^{7} + 4 \\, {\\left(120 \\, x^{8} + 80 \\, x^{7} + 12 \\, x^{6} - 4 \\, x^{5} - 8 \\, x^{4} - 3 \\, x^{3}\\right)} y^{6} + 4 \\, {\\left(160 \\, x^{10} + 80 \\, x^{9} + 8 \\, x^{8} - 20 \\, x^{7} - 32 \\, x^{6} - 9 \\, x^{5}\\right)} y^{5} + 2 \\, {\\left(240 \\, x^{12} + 80 \\, x^{11} + 4 \\, x^{10} - 80 \\, x^{9} - 96 \\, x^{8} - 18 \\, x^{7} + 4 \\, x^{5} + 3 \\, x^{4}\\right)} y^{4} + 4 \\, {\\left(48 \\, x^{14} + 8 \\, x^{13} - 40 \\, x^{11} - 32 \\, x^{10} - 3 \\, x^{9} + 6 \\, x^{7} + 3 \\, x^{6}\\right)} y^{3} + {\\left(32 \\, x^{16} - 80 \\, x^{13} - 32 \\, x^{12} + 24 \\, x^{9} + 6 \\, x^{8} - x^{5}\\right)} y^{2} - {\\left(16 \\, x^{15} - 8 \\, x^{11} + x^{7}\\right)} y}) z_{y} + (\\frac{2 \\, {\\left(4 \\, x^{2} y^{2} - x^{3} + 2 \\, y^{3} + {\\left(2 \\, x^{4} - x\\right)} y\\right)}}{2 \\, {\\left(2 \\, x^{2} + x\\right)} y^{3} + 2 \\, {\\left(4 \\, x^{4} + x^{3}\\right)} y^{2} + {\\left(4 \\, x^{6} - x^{2}\\right)} y}) w[], []$"
      ],
      "text/plain": [
       "<IPython.core.display.Math object>"
      ]
     },
     "metadata": {},
     "output_type": "display_data"
    },
    {
     "name": "stdout",
     "output_type": "stream",
     "text": [
      "reduce_inner\n",
      "str(t)='diff(z(x, y), y, y)'\n",
      "   str(e1)='diff(z(x, y), y, y) + (-8/(x*(x/((x^2 + y)*y) - 4*x^2/(y^2*(x/((x^2 + y)*y) - 2)))^2) - 8/(y*(x/((x^2 + y)*y) - 4*x^2/(y^2*(x/((x^2 + y)*y) - 2)))^2)) * diff(w(x, y), x) + (-2/(y*(x/((x^2 + y)*y) - 4*x^2/(y^2*(x/((x^2 + y)*y) - 2))))) * diff(w(x, y), y) + (-8*x/((x^4 + 2*x^2*y + y^2)*(x/((x^2 + y)*y) - 4*x^2/(y^2*(x/((x^2 + y)*y) - 2)))^2) - 8*x^2/((x^4 + 2*x^2*y + y^2)*y*(x/((x^2 + y)*y) - 4*x^2/(y^2*(x/((x^2 + y)*y) - 2)))^2) - x/((x^4 + 2*x^2*y + y^2)*y*(x/((x^2 + y)*y) - 4*x^2/(y^2*(x/((x^2 + y)*y) - 2)))) - 32*x^4/((x^4 + 2*x^2*y + y^2)*y^3*(x^2/((x^4 + 2*x^2*y + y^2)*y^2) - 4*x/((x^2 + y)*y) + 4)*(x/((x^2 + y)*y) - 4*x^2/(y^2*(x/((x^2 + y)*y) - 2)))^2) - x/((x^2 + y)*y^2*(x/((x^2 + y)*y) - 4*x^2/(y^2*(x/((x^2 + y)*y) - 2)))) - 4*x^3/((x^4 + 2*x^2*y + y^2)*y^3*(x^2/((x^4 + 2*x^2*y + y^2)*y^2) - 4*x/((x^2 + y)*y) + 4)*(x/((x^2 + y)*y) - 4*x^2/(y^2*(x/((x^2 + y)*y) - 2)))) + 8*x^2/(y^3*(x/((x^2 + y)*y) - 4*x^2/(y^2*(x/((x^2 + y)*y) - 2)))*(x/((x^2 + y)*y) - 2)) - 2/((x^2 + y)^2*(x^2/((x^2 + y)^2*y^2) + 16*x^4/(y^4*(x/((x^2 + y)*y) - 2)^2) - 8*x^3/((x^2 + y)*y^3*(x/((x^2 + y)*y) - 2)))) + 8*x/((x^2 + y)*y*(x/((x^2 + y)*y) - 2)*(x^2/((x^2 + y)^2*y^2) + 16*x^4/(y^4*(x/((x^2 + y)*y) - 2)^2) - 8*x^3/((x^2 + y)*y^3*(x/((x^2 + y)*y) - 2)))) + 4/((x^2 + y)*y*(x/((x^2 + y)*y) - 4*x^2/(y^2*(x/((x^2 + y)*y) - 2)))^2) - 4*x^3/((x^2 + y)*y^4*(x^2/((x^4 + 2*x^2*y + y^2)*y^2) - 4*x/((x^2 + y)*y) + 4)*(x/((x^2 + y)*y) - 4*x^2/(y^2*(x/((x^2 + y)*y) - 2)))) - 32*x/(y^2*(x/((x^2 + y)*y) - 4*x^2/(y^2*(x/((x^2 + y)*y) - 2)))^2*(x/((x^2 + y)*y) - 2)) + 16*x^2/((x^2 + y)*y^3*(x^2/((x^4 + 2*x^2*y + y^2)*y^2) - 4*x/((x^2 + y)*y) + 4)*(x/((x^2 + y)*y) - 4*x^2/(y^2*(x/((x^2 + y)*y) - 2)))^2)) * diff(z(x, y), y) + (2/(y^2*(x/((x^2 + y)*y) - 4*x^2/(y^2*(x/((x^2 + y)*y) - 2)))) + 4/((x^2 + y)*x*(x^2/((x^2 + y)^2*y^2) + 16*x^4/(y^4*(x/((x^2 + y)*y) - 2)^2) - 8*x^3/((x^2 + y)*y^3*(x/((x^2 + y)*y) - 2)))) - 4/((x^2 + y)*x*(x/((x^2 + y)*y) - 4*x^2/(y^2*(x/((x^2 + y)*y) - 2)))^2)) * w(x, y), [], []'\n",
      "   str(e2)='diff(z(x, y), x) + (-1/4*x*(1/(x^2 + y) - 4*x/(y*(x/((x^2 + y)*y) - 2)))/y) * diff(z(x, y), y) + (1/2/y) * w(x, y), [], []'\n",
      "str(t)='(-8*x/((x^4 + 2*x^2*y + y^2)*(x/((x^2 + y)*y) - 4*x^2/(y^2*(x/((x^2 + y)*y) - 2)))^2) - 8*x^2/((x^4 + 2*x^2*y + y^2)*y*(x/((x^2 + y)*y) - 4*x^2/(y^2*(x/((x^2 + y)*y) - 2)))^2) - x/((x^4 + 2*x^2*y + y^2)*y*(x/((x^2 + y)*y) - 4*x^2/(y^2*(x/((x^2 + y)*y) - 2)))) - 32*x^4/((x^4 + 2*x^2*y + y^2)*y^3*(x^2/((x^4 + 2*x^2*y + y^2)*y^2) - 4*x/((x^2 + y)*y) + 4)*(x/((x^2 + y)*y) - 4*x^2/(y^2*(x/((x^2 + y)*y) - 2)))^2) - x/((x^2 + y)*y^2*(x/((x^2 + y)*y) - 4*x^2/(y^2*(x/((x^2 + y)*y) - 2)))) - 4*x^3/((x^4 + 2*x^2*y + y^2)*y^3*(x^2/((x^4 + 2*x^2*y + y^2)*y^2) - 4*x/((x^2 + y)*y) + 4)*(x/((x^2 + y)*y) - 4*x^2/(y^2*(x/((x^2 + y)*y) - 2)))) + 8*x^2/(y^3*(x/((x^2 + y)*y) - 4*x^2/(y^2*(x/((x^2 + y)*y) - 2)))*(x/((x^2 + y)*y) - 2)) - 2/((x^2 + y)^2*(x^2/((x^2 + y)^2*y^2) + 16*x^4/(y^4*(x/((x^2 + y)*y) - 2)^2) - 8*x^3/((x^2 + y)*y^3*(x/((x^2 + y)*y) - 2)))) + 8*x/((x^2 + y)*y*(x/((x^2 + y)*y) - 2)*(x^2/((x^2 + y)^2*y^2) + 16*x^4/(y^4*(x/((x^2 + y)*y) - 2)^2) - 8*x^3/((x^2 + y)*y^3*(x/((x^2 + y)*y) - 2)))) + 4/((x^2 + y)*y*(x/((x^2 + y)*y) - 4*x^2/(y^2*(x/((x^2 + y)*y) - 2)))^2) - 4*x^3/((x^2 + y)*y^4*(x^2/((x^4 + 2*x^2*y + y^2)*y^2) - 4*x/((x^2 + y)*y) + 4)*(x/((x^2 + y)*y) - 4*x^2/(y^2*(x/((x^2 + y)*y) - 2)))) - 32*x/(y^2*(x/((x^2 + y)*y) - 4*x^2/(y^2*(x/((x^2 + y)*y) - 2)))^2*(x/((x^2 + y)*y) - 2)) + 16*x^2/((x^2 + y)*y^3*(x^2/((x^4 + 2*x^2*y + y^2)*y^2) - 4*x/((x^2 + y)*y) + 4)*(x/((x^2 + y)*y) - 4*x^2/(y^2*(x/((x^2 + y)*y) - 2)))^2)) * diff(z(x, y), y)'\n",
      "   str(e1)='diff(z(x, y), y, y) + (-8/(x*(x/((x^2 + y)*y) - 4*x^2/(y^2*(x/((x^2 + y)*y) - 2)))^2) - 8/(y*(x/((x^2 + y)*y) - 4*x^2/(y^2*(x/((x^2 + y)*y) - 2)))^2)) * diff(w(x, y), x) + (-2/(y*(x/((x^2 + y)*y) - 4*x^2/(y^2*(x/((x^2 + y)*y) - 2))))) * diff(w(x, y), y) + (-8*x/((x^4 + 2*x^2*y + y^2)*(x/((x^2 + y)*y) - 4*x^2/(y^2*(x/((x^2 + y)*y) - 2)))^2) - 8*x^2/((x^4 + 2*x^2*y + y^2)*y*(x/((x^2 + y)*y) - 4*x^2/(y^2*(x/((x^2 + y)*y) - 2)))^2) - x/((x^4 + 2*x^2*y + y^2)*y*(x/((x^2 + y)*y) - 4*x^2/(y^2*(x/((x^2 + y)*y) - 2)))) - 32*x^4/((x^4 + 2*x^2*y + y^2)*y^3*(x^2/((x^4 + 2*x^2*y + y^2)*y^2) - 4*x/((x^2 + y)*y) + 4)*(x/((x^2 + y)*y) - 4*x^2/(y^2*(x/((x^2 + y)*y) - 2)))^2) - x/((x^2 + y)*y^2*(x/((x^2 + y)*y) - 4*x^2/(y^2*(x/((x^2 + y)*y) - 2)))) - 4*x^3/((x^4 + 2*x^2*y + y^2)*y^3*(x^2/((x^4 + 2*x^2*y + y^2)*y^2) - 4*x/((x^2 + y)*y) + 4)*(x/((x^2 + y)*y) - 4*x^2/(y^2*(x/((x^2 + y)*y) - 2)))) + 8*x^2/(y^3*(x/((x^2 + y)*y) - 4*x^2/(y^2*(x/((x^2 + y)*y) - 2)))*(x/((x^2 + y)*y) - 2)) - 2/((x^2 + y)^2*(x^2/((x^2 + y)^2*y^2) + 16*x^4/(y^4*(x/((x^2 + y)*y) - 2)^2) - 8*x^3/((x^2 + y)*y^3*(x/((x^2 + y)*y) - 2)))) + 8*x/((x^2 + y)*y*(x/((x^2 + y)*y) - 2)*(x^2/((x^2 + y)^2*y^2) + 16*x^4/(y^4*(x/((x^2 + y)*y) - 2)^2) - 8*x^3/((x^2 + y)*y^3*(x/((x^2 + y)*y) - 2)))) + 4/((x^2 + y)*y*(x/((x^2 + y)*y) - 4*x^2/(y^2*(x/((x^2 + y)*y) - 2)))^2) - 4*x^3/((x^2 + y)*y^4*(x^2/((x^4 + 2*x^2*y + y^2)*y^2) - 4*x/((x^2 + y)*y) + 4)*(x/((x^2 + y)*y) - 4*x^2/(y^2*(x/((x^2 + y)*y) - 2)))) - 32*x/(y^2*(x/((x^2 + y)*y) - 4*x^2/(y^2*(x/((x^2 + y)*y) - 2)))^2*(x/((x^2 + y)*y) - 2)) + 16*x^2/((x^2 + y)*y^3*(x^2/((x^4 + 2*x^2*y + y^2)*y^2) - 4*x/((x^2 + y)*y) + 4)*(x/((x^2 + y)*y) - 4*x^2/(y^2*(x/((x^2 + y)*y) - 2)))^2)) * diff(z(x, y), y) + (2/(y^2*(x/((x^2 + y)*y) - 4*x^2/(y^2*(x/((x^2 + y)*y) - 2)))) + 4/((x^2 + y)*x*(x^2/((x^2 + y)^2*y^2) + 16*x^4/(y^4*(x/((x^2 + y)*y) - 2)^2) - 8*x^3/((x^2 + y)*y^3*(x/((x^2 + y)*y) - 2)))) - 4/((x^2 + y)*x*(x/((x^2 + y)*y) - 4*x^2/(y^2*(x/((x^2 + y)*y) - 2)))^2)) * w(x, y), [], []'\n",
      "   str(e2)='diff(z(x, y), x) + (-1/4*x*(1/(x^2 + y) - 4*x/(y*(x/((x^2 + y)*y) - 2)))/y) * diff(z(x, y), y) + (1/2/y) * w(x, y), [], []'\n",
      "nothing to reduce\n",
      "reduce_inner\n",
      "str(t)='diff(z(x, y), y, y)'\n",
      "   str(e1)='diff(z(x, y), y, y) + (-8/(x*(x/((x^2 + y)*y) - 4*x^2/(y^2*(x/((x^2 + y)*y) - 2)))^2) - 8/(y*(x/((x^2 + y)*y) - 4*x^2/(y^2*(x/((x^2 + y)*y) - 2)))^2)) * diff(w(x, y), x) + (-2/(y*(x/((x^2 + y)*y) - 4*x^2/(y^2*(x/((x^2 + y)*y) - 2))))) * diff(w(x, y), y) + (-8*x/((x^4 + 2*x^2*y + y^2)*(x/((x^2 + y)*y) - 4*x^2/(y^2*(x/((x^2 + y)*y) - 2)))^2) - 8*x^2/((x^4 + 2*x^2*y + y^2)*y*(x/((x^2 + y)*y) - 4*x^2/(y^2*(x/((x^2 + y)*y) - 2)))^2) - x/((x^4 + 2*x^2*y + y^2)*y*(x/((x^2 + y)*y) - 4*x^2/(y^2*(x/((x^2 + y)*y) - 2)))) - 32*x^4/((x^4 + 2*x^2*y + y^2)*y^3*(x^2/((x^4 + 2*x^2*y + y^2)*y^2) - 4*x/((x^2 + y)*y) + 4)*(x/((x^2 + y)*y) - 4*x^2/(y^2*(x/((x^2 + y)*y) - 2)))^2) - x/((x^2 + y)*y^2*(x/((x^2 + y)*y) - 4*x^2/(y^2*(x/((x^2 + y)*y) - 2)))) - 4*x^3/((x^4 + 2*x^2*y + y^2)*y^3*(x^2/((x^4 + 2*x^2*y + y^2)*y^2) - 4*x/((x^2 + y)*y) + 4)*(x/((x^2 + y)*y) - 4*x^2/(y^2*(x/((x^2 + y)*y) - 2)))) + 8*x^2/(y^3*(x/((x^2 + y)*y) - 4*x^2/(y^2*(x/((x^2 + y)*y) - 2)))*(x/((x^2 + y)*y) - 2)) - 2/((x^2 + y)^2*(x^2/((x^2 + y)^2*y^2) + 16*x^4/(y^4*(x/((x^2 + y)*y) - 2)^2) - 8*x^3/((x^2 + y)*y^3*(x/((x^2 + y)*y) - 2)))) + 8*x/((x^2 + y)*y*(x/((x^2 + y)*y) - 2)*(x^2/((x^2 + y)^2*y^2) + 16*x^4/(y^4*(x/((x^2 + y)*y) - 2)^2) - 8*x^3/((x^2 + y)*y^3*(x/((x^2 + y)*y) - 2)))) + 4/((x^2 + y)*y*(x/((x^2 + y)*y) - 4*x^2/(y^2*(x/((x^2 + y)*y) - 2)))^2) - 4*x^3/((x^2 + y)*y^4*(x^2/((x^4 + 2*x^2*y + y^2)*y^2) - 4*x/((x^2 + y)*y) + 4)*(x/((x^2 + y)*y) - 4*x^2/(y^2*(x/((x^2 + y)*y) - 2)))) - 32*x/(y^2*(x/((x^2 + y)*y) - 4*x^2/(y^2*(x/((x^2 + y)*y) - 2)))^2*(x/((x^2 + y)*y) - 2)) + 16*x^2/((x^2 + y)*y^3*(x^2/((x^4 + 2*x^2*y + y^2)*y^2) - 4*x/((x^2 + y)*y) + 4)*(x/((x^2 + y)*y) - 4*x^2/(y^2*(x/((x^2 + y)*y) - 2)))^2)) * diff(z(x, y), y) + (2/(y^2*(x/((x^2 + y)*y) - 4*x^2/(y^2*(x/((x^2 + y)*y) - 2)))) + 4/((x^2 + y)*x*(x^2/((x^2 + y)^2*y^2) + 16*x^4/(y^4*(x/((x^2 + y)*y) - 2)^2) - 8*x^3/((x^2 + y)*y^3*(x/((x^2 + y)*y) - 2)))) - 4/((x^2 + y)*x*(x/((x^2 + y)*y) - 4*x^2/(y^2*(x/((x^2 + y)*y) - 2)))^2)) * w(x, y), [], []'\n",
      "   str(e2)='diff(z(x, y), x) + (-1/4*x*(1/(x^2 + y) - 4*x/(y*(x/((x^2 + y)*y) - 2)))/y) * diff(z(x, y), y) + (1/2/y) * w(x, y), [], []'\n",
      "str(t)='(-8*x/((x^4 + 2*x^2*y + y^2)*(x/((x^2 + y)*y) - 4*x^2/(y^2*(x/((x^2 + y)*y) - 2)))^2) - 8*x^2/((x^4 + 2*x^2*y + y^2)*y*(x/((x^2 + y)*y) - 4*x^2/(y^2*(x/((x^2 + y)*y) - 2)))^2) - x/((x^4 + 2*x^2*y + y^2)*y*(x/((x^2 + y)*y) - 4*x^2/(y^2*(x/((x^2 + y)*y) - 2)))) - 32*x^4/((x^4 + 2*x^2*y + y^2)*y^3*(x^2/((x^4 + 2*x^2*y + y^2)*y^2) - 4*x/((x^2 + y)*y) + 4)*(x/((x^2 + y)*y) - 4*x^2/(y^2*(x/((x^2 + y)*y) - 2)))^2) - x/((x^2 + y)*y^2*(x/((x^2 + y)*y) - 4*x^2/(y^2*(x/((x^2 + y)*y) - 2)))) - 4*x^3/((x^4 + 2*x^2*y + y^2)*y^3*(x^2/((x^4 + 2*x^2*y + y^2)*y^2) - 4*x/((x^2 + y)*y) + 4)*(x/((x^2 + y)*y) - 4*x^2/(y^2*(x/((x^2 + y)*y) - 2)))) + 8*x^2/(y^3*(x/((x^2 + y)*y) - 4*x^2/(y^2*(x/((x^2 + y)*y) - 2)))*(x/((x^2 + y)*y) - 2)) - 2/((x^2 + y)^2*(x^2/((x^2 + y)^2*y^2) + 16*x^4/(y^4*(x/((x^2 + y)*y) - 2)^2) - 8*x^3/((x^2 + y)*y^3*(x/((x^2 + y)*y) - 2)))) + 8*x/((x^2 + y)*y*(x/((x^2 + y)*y) - 2)*(x^2/((x^2 + y)^2*y^2) + 16*x^4/(y^4*(x/((x^2 + y)*y) - 2)^2) - 8*x^3/((x^2 + y)*y^3*(x/((x^2 + y)*y) - 2)))) + 4/((x^2 + y)*y*(x/((x^2 + y)*y) - 4*x^2/(y^2*(x/((x^2 + y)*y) - 2)))^2) - 4*x^3/((x^2 + y)*y^4*(x^2/((x^4 + 2*x^2*y + y^2)*y^2) - 4*x/((x^2 + y)*y) + 4)*(x/((x^2 + y)*y) - 4*x^2/(y^2*(x/((x^2 + y)*y) - 2)))) - 32*x/(y^2*(x/((x^2 + y)*y) - 4*x^2/(y^2*(x/((x^2 + y)*y) - 2)))^2*(x/((x^2 + y)*y) - 2)) + 16*x^2/((x^2 + y)*y^3*(x^2/((x^4 + 2*x^2*y + y^2)*y^2) - 4*x/((x^2 + y)*y) + 4)*(x/((x^2 + y)*y) - 4*x^2/(y^2*(x/((x^2 + y)*y) - 2)))^2)) * diff(z(x, y), y)'\n",
      "   str(e1)='diff(z(x, y), y, y) + (-8/(x*(x/((x^2 + y)*y) - 4*x^2/(y^2*(x/((x^2 + y)*y) - 2)))^2) - 8/(y*(x/((x^2 + y)*y) - 4*x^2/(y^2*(x/((x^2 + y)*y) - 2)))^2)) * diff(w(x, y), x) + (-2/(y*(x/((x^2 + y)*y) - 4*x^2/(y^2*(x/((x^2 + y)*y) - 2))))) * diff(w(x, y), y) + (-8*x/((x^4 + 2*x^2*y + y^2)*(x/((x^2 + y)*y) - 4*x^2/(y^2*(x/((x^2 + y)*y) - 2)))^2) - 8*x^2/((x^4 + 2*x^2*y + y^2)*y*(x/((x^2 + y)*y) - 4*x^2/(y^2*(x/((x^2 + y)*y) - 2)))^2) - x/((x^4 + 2*x^2*y + y^2)*y*(x/((x^2 + y)*y) - 4*x^2/(y^2*(x/((x^2 + y)*y) - 2)))) - 32*x^4/((x^4 + 2*x^2*y + y^2)*y^3*(x^2/((x^4 + 2*x^2*y + y^2)*y^2) - 4*x/((x^2 + y)*y) + 4)*(x/((x^2 + y)*y) - 4*x^2/(y^2*(x/((x^2 + y)*y) - 2)))^2) - x/((x^2 + y)*y^2*(x/((x^2 + y)*y) - 4*x^2/(y^2*(x/((x^2 + y)*y) - 2)))) - 4*x^3/((x^4 + 2*x^2*y + y^2)*y^3*(x^2/((x^4 + 2*x^2*y + y^2)*y^2) - 4*x/((x^2 + y)*y) + 4)*(x/((x^2 + y)*y) - 4*x^2/(y^2*(x/((x^2 + y)*y) - 2)))) + 8*x^2/(y^3*(x/((x^2 + y)*y) - 4*x^2/(y^2*(x/((x^2 + y)*y) - 2)))*(x/((x^2 + y)*y) - 2)) - 2/((x^2 + y)^2*(x^2/((x^2 + y)^2*y^2) + 16*x^4/(y^4*(x/((x^2 + y)*y) - 2)^2) - 8*x^3/((x^2 + y)*y^3*(x/((x^2 + y)*y) - 2)))) + 8*x/((x^2 + y)*y*(x/((x^2 + y)*y) - 2)*(x^2/((x^2 + y)^2*y^2) + 16*x^4/(y^4*(x/((x^2 + y)*y) - 2)^2) - 8*x^3/((x^2 + y)*y^3*(x/((x^2 + y)*y) - 2)))) + 4/((x^2 + y)*y*(x/((x^2 + y)*y) - 4*x^2/(y^2*(x/((x^2 + y)*y) - 2)))^2) - 4*x^3/((x^2 + y)*y^4*(x^2/((x^4 + 2*x^2*y + y^2)*y^2) - 4*x/((x^2 + y)*y) + 4)*(x/((x^2 + y)*y) - 4*x^2/(y^2*(x/((x^2 + y)*y) - 2)))) - 32*x/(y^2*(x/((x^2 + y)*y) - 4*x^2/(y^2*(x/((x^2 + y)*y) - 2)))^2*(x/((x^2 + y)*y) - 2)) + 16*x^2/((x^2 + y)*y^3*(x^2/((x^4 + 2*x^2*y + y^2)*y^2) - 4*x/((x^2 + y)*y) + 4)*(x/((x^2 + y)*y) - 4*x^2/(y^2*(x/((x^2 + y)*y) - 2)))^2)) * diff(z(x, y), y) + (2/(y^2*(x/((x^2 + y)*y) - 4*x^2/(y^2*(x/((x^2 + y)*y) - 2)))) + 4/((x^2 + y)*x*(x^2/((x^2 + y)^2*y^2) + 16*x^4/(y^4*(x/((x^2 + y)*y) - 2)^2) - 8*x^3/((x^2 + y)*y^3*(x/((x^2 + y)*y) - 2)))) - 4/((x^2 + y)*x*(x/((x^2 + y)*y) - 4*x^2/(y^2*(x/((x^2 + y)*y) - 2)))^2)) * w(x, y), [], []'\n",
      "   str(e2)='diff(z(x, y), x) + (-1/4*x*(1/(x^2 + y) - 4*x/(y*(x/((x^2 + y)*y) - 2)))/y) * diff(z(x, y), y) + (1/2/y) * w(x, y), [], []'\n",
      "nothing to reduce\n",
      "AAAAAAAAAAAAAAAAAAAAAAAAAAAAAAAAAAAAAAAAAAAAAAAAAAAAAAAAAAAAAAAAAAAAAAAAAAAAAAAAAAAAAAAAAAAAAAAAAAA\n"
     ]
    },
    {
     "data": {
      "text/latex": [
       "$\\displaystyle  z_{x}-\\frac{4 \\, x^{6} + 2 \\, {\\left(2 \\, x^{2} + x\\right)} y^{2} - x^{2} + 2 \\, {\\left(4 \\, x^{4} + x^{3}\\right)} y}{4 \\, {\\left(4 \\, x^{2} y^{3} - x^{3} y + 2 \\, y^{4} + {\\left(2 \\, x^{4} - x\\right)} y^{2}\\right)}} z_{y}+\\frac{1}{2 \\, y} w$"
      ],
      "text/plain": [
       "<IPython.core.display.Math object>"
      ]
     },
     "metadata": {},
     "output_type": "display_data"
    },
    {
     "data": {
      "text/latex": [
       "$\\displaystyle  w_{y}+\\frac{x}{2 \\, {\\left(x^{2} y + y^{2}\\right)}} z_{y}-\\frac{1}{y} w$"
      ],
      "text/plain": [
       "<IPython.core.display.Math object>"
      ]
     },
     "metadata": {},
     "output_type": "display_data"
    },
    {
     "data": {
      "text/latex": [
       "$\\displaystyle  z_{y,y}+(\\frac{12 \\, x^{2} y^{3} + 4 \\, y^{4} + 2 \\, {\\left(6 \\, x^{4} - 1\\right)} y^{2} + 2 \\, {\\left(2 \\, x^{6} - x^{2}\\right)} y + x}{4 \\, x^{2} y^{2} - x^{3} + 2 \\, y^{3} + {\\left(2 \\, x^{4} - x\\right)} y}) z_{y}$"
      ],
      "text/plain": [
       "<IPython.core.display.Math object>"
      ]
     },
     "metadata": {},
     "output_type": "display_data"
    },
    {
     "data": {
      "text/latex": [
       "$\\displaystyle  z_{y,y}-\\frac{2 \\, {\\left(4 \\, x^{2} y^{2} - x^{3} + 2 \\, y^{3} + {\\left(2 \\, x^{4} - x\\right)} y\\right)}}{4 \\, x^{6} + 2 \\, {\\left(2 \\, x^{2} + x\\right)} y^{2} - x^{2} + 2 \\, {\\left(4 \\, x^{4} + x^{3}\\right)} y} w_{y}+(\\frac{4 \\, x^{8} + 64 \\, x^{2} y^{6} + 16 \\, y^{7} + 8 \\, {\\left(12 \\, x^{4} - 3 \\, x - 1\\right)} y^{5} + 4 \\, {\\left(16 \\, x^{6} - 22 \\, x^{3} - 5 \\, x^{2}\\right)} y^{4} - x^{4} + 8 \\, {\\left(2 \\, x^{8} - 15 \\, x^{5} - 2 \\, x^{4} + x\\right)} y^{3} - 4 \\, {\\left(18 \\, x^{7} + x^{6} - x^{4} - 3 \\, x^{3}\\right)} y^{2} - 2 \\, {\\left(8 \\, x^{9} - 4 \\, x^{6} - 2 \\, x^{5} + x^{2}\\right)} y}{4 \\, {\\left(2 \\, x + 1\\right)} y^{6} + 4 \\, {\\left(8 \\, x^{3} + 3 \\, x^{2}\\right)} y^{5} + 4 \\, {\\left(12 \\, x^{5} + 3 \\, x^{4} - x^{2} - x\\right)} y^{4} + 4 \\, {\\left(8 \\, x^{7} + x^{6} - 3 \\, x^{4} - 2 \\, x^{3}\\right)} y^{3} + {\\left(8 \\, x^{9} - 12 \\, x^{6} - 4 \\, x^{5} + x^{2}\\right)} y^{2} - {\\left(4 \\, x^{8} - x^{4}\\right)} y}) z_{y}+\\frac{2 \\, {\\left(4 \\, x^{2} y^{2} - x^{3} + 2 \\, y^{3} + {\\left(2 \\, x^{4} - x\\right)} y\\right)}}{2 \\, {\\left(2 \\, x^{2} + x\\right)} y^{3} + 2 \\, {\\left(4 \\, x^{4} + x^{3}\\right)} y^{2} + {\\left(4 \\, x^{6} - x^{2}\\right)} y} w$"
      ],
      "text/plain": [
       "<IPython.core.display.Math object>"
      ]
     },
     "metadata": {},
     "output_type": "display_data"
    },
    {
     "data": {
      "text/latex": [
       "$\\displaystyle  z_{y,y}+(\\frac{8 \\, {\\left(x^{7} y + 4 \\, {\\left(4 \\, x^{2} + x\\right)} y^{7} + 4 \\, y^{8} + 4 \\, {\\left(6 \\, x^{4} + 4 \\, x^{3} - x\\right)} y^{6} + 4 \\, {\\left(4 \\, x^{6} + 6 \\, x^{5} - 3 \\, x^{3} - x^{2}\\right)} y^{5} + {\\left(4 \\, x^{8} + 16 \\, x^{7} - 12 \\, x^{5} - 12 \\, x^{4} + x^{2}\\right)} y^{4} + {\\left(4 \\, x^{9} - 4 \\, x^{7} - 12 \\, x^{6} + 2 \\, x^{4} + x^{3}\\right)} y^{3} - {\\left(4 \\, x^{8} - x^{6} - 2 \\, x^{5}\\right)} y^{2}\\right)}}{16 \\, x^{13} - 8 \\, x^{9} + x^{5} + 4 \\, {\\left(4 \\, x^{5} + 4 \\, x^{4} + x^{3}\\right)} y^{4} + 8 \\, {\\left(8 \\, x^{7} + 6 \\, x^{6} + x^{5}\\right)} y^{3} + 4 \\, {\\left(24 \\, x^{9} + 12 \\, x^{8} + x^{7} - 2 \\, x^{5} - x^{4}\\right)} y^{2} + 4 \\, {\\left(16 \\, x^{11} + 4 \\, x^{10} - 4 \\, x^{7} - x^{6}\\right)} y}) w_{x}-\\frac{2 \\, {\\left(4 \\, x^{2} y^{2} - x^{3} + 2 \\, y^{3} + {\\left(2 \\, x^{4} - x\\right)} y\\right)}}{4 \\, x^{6} + 2 \\, {\\left(2 \\, x^{2} + x\\right)} y^{2} - x^{2} + 2 \\, {\\left(4 \\, x^{4} + x^{3}\\right)} y} w_{y}+(\\frac{16 \\, x^{15} - 8 \\, x^{11} + 16 \\, {\\left(2 \\, x + 1\\right)} y^{10} + 32 \\, {\\left(11 \\, x^{3} + x^{2}\\right)} y^{9} + 8 \\, {\\left(152 \\, x^{5} - 4 \\, x^{4} + 4 \\, x^{2} - 3 \\, x\\right)} y^{8} + 8 \\, {\\left(248 \\, x^{7} - 16 \\, x^{6} - 24 \\, x^{4} - 11 \\, x^{3} - 2 \\, x^{2}\\right)} y^{7} + x^{7} + 4 \\, {\\left(424 \\, x^{9} - 28 \\, x^{8} - 280 \\, x^{6} - 58 \\, x^{5} - 14 \\, x^{4} - 10 \\, x^{3} + 3 \\, x^{2}\\right)} y^{6} + 8 \\, {\\left(92 \\, x^{11} - 4 \\, x^{10} - 260 \\, x^{8} - 57 \\, x^{7} - 9 \\, x^{6} - 3 \\, x^{5} + 6 \\, x^{4} + 3 \\, x^{3}\\right)} y^{5} + 2 \\, {\\left(64 \\, x^{13} - 992 \\, x^{10} - 248 \\, x^{9} - 20 \\, x^{8} + 68 \\, x^{7} + 74 \\, x^{6} + 30 \\, x^{5} + 4 \\, x^{4} - x^{3}\\right)} y^{4} - 2 \\, {\\left(560 \\, x^{12} + 128 \\, x^{11} + 4 \\, x^{10} - 108 \\, x^{9} - 120 \\, x^{8} - 24 \\, x^{7} - 4 \\, x^{6} + 3 \\, x^{5} + 6 \\, x^{4}\\right)} y^{3} - 2 \\, {\\left(192 \\, x^{14} + 24 \\, x^{13} - 72 \\, x^{11} - 84 \\, x^{10} - 6 \\, x^{9} + 10 \\, x^{7} + 9 \\, x^{6}\\right)} y^{2} - 2 \\, {\\left(32 \\, x^{16} - 32 \\, x^{13} - 20 \\, x^{12} + 12 \\, x^{9} + 3 \\, x^{8} - x^{5}\\right)} y}{8 \\, {\\left(4 \\, x^{4} + 4 \\, x^{3} + x^{2}\\right)} y^{8} + 32 \\, {\\left(6 \\, x^{6} + 5 \\, x^{5} + x^{4}\\right)} y^{7} + 4 \\, {\\left(120 \\, x^{8} + 80 \\, x^{7} + 12 \\, x^{6} - 4 \\, x^{5} - 8 \\, x^{4} - 3 \\, x^{3}\\right)} y^{6} + 4 \\, {\\left(160 \\, x^{10} + 80 \\, x^{9} + 8 \\, x^{8} - 20 \\, x^{7} - 32 \\, x^{6} - 9 \\, x^{5}\\right)} y^{5} + 2 \\, {\\left(240 \\, x^{12} + 80 \\, x^{11} + 4 \\, x^{10} - 80 \\, x^{9} - 96 \\, x^{8} - 18 \\, x^{7} + 4 \\, x^{5} + 3 \\, x^{4}\\right)} y^{4} + 4 \\, {\\left(48 \\, x^{14} + 8 \\, x^{13} - 40 \\, x^{11} - 32 \\, x^{10} - 3 \\, x^{9} + 6 \\, x^{7} + 3 \\, x^{6}\\right)} y^{3} + {\\left(32 \\, x^{16} - 80 \\, x^{13} - 32 \\, x^{12} + 24 \\, x^{9} + 6 \\, x^{8} - x^{5}\\right)} y^{2} - {\\left(16 \\, x^{15} - 8 \\, x^{11} + x^{7}\\right)} y}) z_{y}+(\\frac{2 \\, {\\left(4 \\, x^{2} y^{2} - x^{3} + 2 \\, y^{3} + {\\left(2 \\, x^{4} - x\\right)} y\\right)}}{2 \\, {\\left(2 \\, x^{2} + x\\right)} y^{3} + 2 \\, {\\left(4 \\, x^{4} + x^{3}\\right)} y^{2} + {\\left(4 \\, x^{6} - x^{2}\\right)} y}) w$"
      ],
      "text/plain": [
       "<IPython.core.display.Math object>"
      ]
     },
     "metadata": {},
     "output_type": "display_data"
    },
    {
     "name": "stdout",
     "output_type": "stream",
     "text": [
      "reduce_inner\n",
      "str(t)='(1/2*x/((x^2 + y)*y)) * diff(z(x, y), y)'\n",
      "   str(e1)='diff(w(x, y), y) + (1/2*x/((x^2 + y)*y)) * diff(z(x, y), y) + (-1/y) * w(x, y), [], []'\n",
      "   str(e2)='diff(z(x, y), x) + (-1/4*x*(1/(x^2 + y) - 4*x/(y*(x/((x^2 + y)*y) - 2)))/y) * diff(z(x, y), y) + (1/2/y) * w(x, y), [], []'\n",
      "nothing to reduce\n",
      "reduce_inner\n",
      "str(t)='diff(z(x, y), y, y)'\n",
      "   str(e1)='diff(z(x, y), y, y) + (-x^2/(x^4 + 2*x^2*y + y^2) - 4*x^2/(x/((x^2 + y)*y) - 2) - y/(x^4 + 2*x^2*y + y^2) - 4*y/(x/((x^2 + y)*y) - 2)) * diff(z(x, y), y), [], []'\n",
      "   str(e2)='diff(z(x, y), x) + (-1/4*x*(1/(x^2 + y) - 4*x/(y*(x/((x^2 + y)*y) - 2)))/y) * diff(z(x, y), y) + (1/2/y) * w(x, y), [], []'\n",
      "str(t)='(-x^2/(x^4 + 2*x^2*y + y^2) - 4*x^2/(x/((x^2 + y)*y) - 2) - y/(x^4 + 2*x^2*y + y^2) - 4*y/(x/((x^2 + y)*y) - 2)) * diff(z(x, y), y)'\n",
      "   str(e1)='diff(z(x, y), y, y) + (-x^2/(x^4 + 2*x^2*y + y^2) - 4*x^2/(x/((x^2 + y)*y) - 2) - y/(x^4 + 2*x^2*y + y^2) - 4*y/(x/((x^2 + y)*y) - 2)) * diff(z(x, y), y), [], []'\n",
      "   str(e2)='diff(z(x, y), x) + (-1/4*x*(1/(x^2 + y) - 4*x/(y*(x/((x^2 + y)*y) - 2)))/y) * diff(z(x, y), y) + (1/2/y) * w(x, y), [], []'\n",
      "nothing to reduce\n",
      "reduce_inner\n",
      "str(t)='diff(z(x, y), y, y)'\n",
      "   str(e1)='diff(z(x, y), y, y) + (-2/(y*(x/((x^2 + y)*y) - 4*x^2/(y^2*(x/((x^2 + y)*y) - 2))))) * diff(w(x, y), y) + (-x/((x^4 + 2*x^2*y + y^2)*y*(x/((x^2 + y)*y) - 4*x^2/(y^2*(x/((x^2 + y)*y) - 2)))) - 8*x/(y*(x/((x^2 + y)*y) - 4*x^2/(y^2*(x/((x^2 + y)*y) - 2)))*(x/((x^2 + y)*y) - 2)) - x/((x^2 + y)*y^2*(x/((x^2 + y)*y) - 4*x^2/(y^2*(x/((x^2 + y)*y) - 2)))) - 4*x^3/((x^4 + 2*x^2*y + y^2)*y^3*(x^2/((x^4 + 2*x^2*y + y^2)*y^2) - 4*x/((x^2 + y)*y) + 4)*(x/((x^2 + y)*y) - 4*x^2/(y^2*(x/((x^2 + y)*y) - 2)))) + 8*x^2/(y^3*(x/((x^2 + y)*y) - 4*x^2/(y^2*(x/((x^2 + y)*y) - 2)))*(x/((x^2 + y)*y) - 2)) - 4*x^3/((x^2 + y)*y^4*(x^2/((x^4 + 2*x^2*y + y^2)*y^2) - 4*x/((x^2 + y)*y) + 4)*(x/((x^2 + y)*y) - 4*x^2/(y^2*(x/((x^2 + y)*y) - 2))))) * diff(z(x, y), y) + (2/(y^2*(x/((x^2 + y)*y) - 4*x^2/(y^2*(x/((x^2 + y)*y) - 2))))) * w(x, y), [], []'\n",
      "   str(e2)='diff(z(x, y), x) + (-1/4*x*(1/(x^2 + y) - 4*x/(y*(x/((x^2 + y)*y) - 2)))/y) * diff(z(x, y), y) + (1/2/y) * w(x, y), [], []'\n",
      "str(t)='(-x/((x^4 + 2*x^2*y + y^2)*y*(x/((x^2 + y)*y) - 4*x^2/(y^2*(x/((x^2 + y)*y) - 2)))) - 8*x/(y*(x/((x^2 + y)*y) - 4*x^2/(y^2*(x/((x^2 + y)*y) - 2)))*(x/((x^2 + y)*y) - 2)) - x/((x^2 + y)*y^2*(x/((x^2 + y)*y) - 4*x^2/(y^2*(x/((x^2 + y)*y) - 2)))) - 4*x^3/((x^4 + 2*x^2*y + y^2)*y^3*(x^2/((x^4 + 2*x^2*y + y^2)*y^2) - 4*x/((x^2 + y)*y) + 4)*(x/((x^2 + y)*y) - 4*x^2/(y^2*(x/((x^2 + y)*y) - 2)))) + 8*x^2/(y^3*(x/((x^2 + y)*y) - 4*x^2/(y^2*(x/((x^2 + y)*y) - 2)))*(x/((x^2 + y)*y) - 2)) - 4*x^3/((x^2 + y)*y^4*(x^2/((x^4 + 2*x^2*y + y^2)*y^2) - 4*x/((x^2 + y)*y) + 4)*(x/((x^2 + y)*y) - 4*x^2/(y^2*(x/((x^2 + y)*y) - 2))))) * diff(z(x, y), y)'\n",
      "   str(e1)='diff(z(x, y), y, y) + (-2/(y*(x/((x^2 + y)*y) - 4*x^2/(y^2*(x/((x^2 + y)*y) - 2))))) * diff(w(x, y), y) + (-x/((x^4 + 2*x^2*y + y^2)*y*(x/((x^2 + y)*y) - 4*x^2/(y^2*(x/((x^2 + y)*y) - 2)))) - 8*x/(y*(x/((x^2 + y)*y) - 4*x^2/(y^2*(x/((x^2 + y)*y) - 2)))*(x/((x^2 + y)*y) - 2)) - x/((x^2 + y)*y^2*(x/((x^2 + y)*y) - 4*x^2/(y^2*(x/((x^2 + y)*y) - 2)))) - 4*x^3/((x^4 + 2*x^2*y + y^2)*y^3*(x^2/((x^4 + 2*x^2*y + y^2)*y^2) - 4*x/((x^2 + y)*y) + 4)*(x/((x^2 + y)*y) - 4*x^2/(y^2*(x/((x^2 + y)*y) - 2)))) + 8*x^2/(y^3*(x/((x^2 + y)*y) - 4*x^2/(y^2*(x/((x^2 + y)*y) - 2)))*(x/((x^2 + y)*y) - 2)) - 4*x^3/((x^2 + y)*y^4*(x^2/((x^4 + 2*x^2*y + y^2)*y^2) - 4*x/((x^2 + y)*y) + 4)*(x/((x^2 + y)*y) - 4*x^2/(y^2*(x/((x^2 + y)*y) - 2))))) * diff(z(x, y), y) + (2/(y^2*(x/((x^2 + y)*y) - 4*x^2/(y^2*(x/((x^2 + y)*y) - 2))))) * w(x, y), [], []'\n",
      "   str(e2)='diff(z(x, y), x) + (-1/4*x*(1/(x^2 + y) - 4*x/(y*(x/((x^2 + y)*y) - 2)))/y) * diff(z(x, y), y) + (1/2/y) * w(x, y), [], []'\n",
      "nothing to reduce\n",
      "reduce_inner\n",
      "str(t)='diff(z(x, y), y, y)'\n",
      "   str(e1)='diff(z(x, y), y, y) + (-8/(x*(x/((x^2 + y)*y) - 4*x^2/(y^2*(x/((x^2 + y)*y) - 2)))^2) - 8/(y*(x/((x^2 + y)*y) - 4*x^2/(y^2*(x/((x^2 + y)*y) - 2)))^2)) * diff(w(x, y), x) + (-2/(y*(x/((x^2 + y)*y) - 4*x^2/(y^2*(x/((x^2 + y)*y) - 2))))) * diff(w(x, y), y) + (-8*x/((x^4 + 2*x^2*y + y^2)*(x/((x^2 + y)*y) - 4*x^2/(y^2*(x/((x^2 + y)*y) - 2)))^2) - 8*x^2/((x^4 + 2*x^2*y + y^2)*y*(x/((x^2 + y)*y) - 4*x^2/(y^2*(x/((x^2 + y)*y) - 2)))^2) - x/((x^4 + 2*x^2*y + y^2)*y*(x/((x^2 + y)*y) - 4*x^2/(y^2*(x/((x^2 + y)*y) - 2)))) - 32*x^4/((x^4 + 2*x^2*y + y^2)*y^3*(x^2/((x^4 + 2*x^2*y + y^2)*y^2) - 4*x/((x^2 + y)*y) + 4)*(x/((x^2 + y)*y) - 4*x^2/(y^2*(x/((x^2 + y)*y) - 2)))^2) - x/((x^2 + y)*y^2*(x/((x^2 + y)*y) - 4*x^2/(y^2*(x/((x^2 + y)*y) - 2)))) - 4*x^3/((x^4 + 2*x^2*y + y^2)*y^3*(x^2/((x^4 + 2*x^2*y + y^2)*y^2) - 4*x/((x^2 + y)*y) + 4)*(x/((x^2 + y)*y) - 4*x^2/(y^2*(x/((x^2 + y)*y) - 2)))) + 8*x^2/(y^3*(x/((x^2 + y)*y) - 4*x^2/(y^2*(x/((x^2 + y)*y) - 2)))*(x/((x^2 + y)*y) - 2)) - 2/((x^2 + y)^2*(x^2/((x^2 + y)^2*y^2) + 16*x^4/(y^4*(x/((x^2 + y)*y) - 2)^2) - 8*x^3/((x^2 + y)*y^3*(x/((x^2 + y)*y) - 2)))) + 8*x/((x^2 + y)*y*(x/((x^2 + y)*y) - 2)*(x^2/((x^2 + y)^2*y^2) + 16*x^4/(y^4*(x/((x^2 + y)*y) - 2)^2) - 8*x^3/((x^2 + y)*y^3*(x/((x^2 + y)*y) - 2)))) + 4/((x^2 + y)*y*(x/((x^2 + y)*y) - 4*x^2/(y^2*(x/((x^2 + y)*y) - 2)))^2) - 4*x^3/((x^2 + y)*y^4*(x^2/((x^4 + 2*x^2*y + y^2)*y^2) - 4*x/((x^2 + y)*y) + 4)*(x/((x^2 + y)*y) - 4*x^2/(y^2*(x/((x^2 + y)*y) - 2)))) - 32*x/(y^2*(x/((x^2 + y)*y) - 4*x^2/(y^2*(x/((x^2 + y)*y) - 2)))^2*(x/((x^2 + y)*y) - 2)) + 16*x^2/((x^2 + y)*y^3*(x^2/((x^4 + 2*x^2*y + y^2)*y^2) - 4*x/((x^2 + y)*y) + 4)*(x/((x^2 + y)*y) - 4*x^2/(y^2*(x/((x^2 + y)*y) - 2)))^2)) * diff(z(x, y), y) + (2/(y^2*(x/((x^2 + y)*y) - 4*x^2/(y^2*(x/((x^2 + y)*y) - 2)))) + 4/((x^2 + y)*x*(x^2/((x^2 + y)^2*y^2) + 16*x^4/(y^4*(x/((x^2 + y)*y) - 2)^2) - 8*x^3/((x^2 + y)*y^3*(x/((x^2 + y)*y) - 2)))) - 4/((x^2 + y)*x*(x/((x^2 + y)*y) - 4*x^2/(y^2*(x/((x^2 + y)*y) - 2)))^2)) * w(x, y), [], []'\n",
      "   str(e2)='diff(z(x, y), x) + (-1/4*x*(1/(x^2 + y) - 4*x/(y*(x/((x^2 + y)*y) - 2)))/y) * diff(z(x, y), y) + (1/2/y) * w(x, y), [], []'\n",
      "str(t)='(-8*x/((x^4 + 2*x^2*y + y^2)*(x/((x^2 + y)*y) - 4*x^2/(y^2*(x/((x^2 + y)*y) - 2)))^2) - 8*x^2/((x^4 + 2*x^2*y + y^2)*y*(x/((x^2 + y)*y) - 4*x^2/(y^2*(x/((x^2 + y)*y) - 2)))^2) - x/((x^4 + 2*x^2*y + y^2)*y*(x/((x^2 + y)*y) - 4*x^2/(y^2*(x/((x^2 + y)*y) - 2)))) - 32*x^4/((x^4 + 2*x^2*y + y^2)*y^3*(x^2/((x^4 + 2*x^2*y + y^2)*y^2) - 4*x/((x^2 + y)*y) + 4)*(x/((x^2 + y)*y) - 4*x^2/(y^2*(x/((x^2 + y)*y) - 2)))^2) - x/((x^2 + y)*y^2*(x/((x^2 + y)*y) - 4*x^2/(y^2*(x/((x^2 + y)*y) - 2)))) - 4*x^3/((x^4 + 2*x^2*y + y^2)*y^3*(x^2/((x^4 + 2*x^2*y + y^2)*y^2) - 4*x/((x^2 + y)*y) + 4)*(x/((x^2 + y)*y) - 4*x^2/(y^2*(x/((x^2 + y)*y) - 2)))) + 8*x^2/(y^3*(x/((x^2 + y)*y) - 4*x^2/(y^2*(x/((x^2 + y)*y) - 2)))*(x/((x^2 + y)*y) - 2)) - 2/((x^2 + y)^2*(x^2/((x^2 + y)^2*y^2) + 16*x^4/(y^4*(x/((x^2 + y)*y) - 2)^2) - 8*x^3/((x^2 + y)*y^3*(x/((x^2 + y)*y) - 2)))) + 8*x/((x^2 + y)*y*(x/((x^2 + y)*y) - 2)*(x^2/((x^2 + y)^2*y^2) + 16*x^4/(y^4*(x/((x^2 + y)*y) - 2)^2) - 8*x^3/((x^2 + y)*y^3*(x/((x^2 + y)*y) - 2)))) + 4/((x^2 + y)*y*(x/((x^2 + y)*y) - 4*x^2/(y^2*(x/((x^2 + y)*y) - 2)))^2) - 4*x^3/((x^2 + y)*y^4*(x^2/((x^4 + 2*x^2*y + y^2)*y^2) - 4*x/((x^2 + y)*y) + 4)*(x/((x^2 + y)*y) - 4*x^2/(y^2*(x/((x^2 + y)*y) - 2)))) - 32*x/(y^2*(x/((x^2 + y)*y) - 4*x^2/(y^2*(x/((x^2 + y)*y) - 2)))^2*(x/((x^2 + y)*y) - 2)) + 16*x^2/((x^2 + y)*y^3*(x^2/((x^4 + 2*x^2*y + y^2)*y^2) - 4*x/((x^2 + y)*y) + 4)*(x/((x^2 + y)*y) - 4*x^2/(y^2*(x/((x^2 + y)*y) - 2)))^2)) * diff(z(x, y), y)'\n",
      "   str(e1)='diff(z(x, y), y, y) + (-8/(x*(x/((x^2 + y)*y) - 4*x^2/(y^2*(x/((x^2 + y)*y) - 2)))^2) - 8/(y*(x/((x^2 + y)*y) - 4*x^2/(y^2*(x/((x^2 + y)*y) - 2)))^2)) * diff(w(x, y), x) + (-2/(y*(x/((x^2 + y)*y) - 4*x^2/(y^2*(x/((x^2 + y)*y) - 2))))) * diff(w(x, y), y) + (-8*x/((x^4 + 2*x^2*y + y^2)*(x/((x^2 + y)*y) - 4*x^2/(y^2*(x/((x^2 + y)*y) - 2)))^2) - 8*x^2/((x^4 + 2*x^2*y + y^2)*y*(x/((x^2 + y)*y) - 4*x^2/(y^2*(x/((x^2 + y)*y) - 2)))^2) - x/((x^4 + 2*x^2*y + y^2)*y*(x/((x^2 + y)*y) - 4*x^2/(y^2*(x/((x^2 + y)*y) - 2)))) - 32*x^4/((x^4 + 2*x^2*y + y^2)*y^3*(x^2/((x^4 + 2*x^2*y + y^2)*y^2) - 4*x/((x^2 + y)*y) + 4)*(x/((x^2 + y)*y) - 4*x^2/(y^2*(x/((x^2 + y)*y) - 2)))^2) - x/((x^2 + y)*y^2*(x/((x^2 + y)*y) - 4*x^2/(y^2*(x/((x^2 + y)*y) - 2)))) - 4*x^3/((x^4 + 2*x^2*y + y^2)*y^3*(x^2/((x^4 + 2*x^2*y + y^2)*y^2) - 4*x/((x^2 + y)*y) + 4)*(x/((x^2 + y)*y) - 4*x^2/(y^2*(x/((x^2 + y)*y) - 2)))) + 8*x^2/(y^3*(x/((x^2 + y)*y) - 4*x^2/(y^2*(x/((x^2 + y)*y) - 2)))*(x/((x^2 + y)*y) - 2)) - 2/((x^2 + y)^2*(x^2/((x^2 + y)^2*y^2) + 16*x^4/(y^4*(x/((x^2 + y)*y) - 2)^2) - 8*x^3/((x^2 + y)*y^3*(x/((x^2 + y)*y) - 2)))) + 8*x/((x^2 + y)*y*(x/((x^2 + y)*y) - 2)*(x^2/((x^2 + y)^2*y^2) + 16*x^4/(y^4*(x/((x^2 + y)*y) - 2)^2) - 8*x^3/((x^2 + y)*y^3*(x/((x^2 + y)*y) - 2)))) + 4/((x^2 + y)*y*(x/((x^2 + y)*y) - 4*x^2/(y^2*(x/((x^2 + y)*y) - 2)))^2) - 4*x^3/((x^2 + y)*y^4*(x^2/((x^4 + 2*x^2*y + y^2)*y^2) - 4*x/((x^2 + y)*y) + 4)*(x/((x^2 + y)*y) - 4*x^2/(y^2*(x/((x^2 + y)*y) - 2)))) - 32*x/(y^2*(x/((x^2 + y)*y) - 4*x^2/(y^2*(x/((x^2 + y)*y) - 2)))^2*(x/((x^2 + y)*y) - 2)) + 16*x^2/((x^2 + y)*y^3*(x^2/((x^4 + 2*x^2*y + y^2)*y^2) - 4*x/((x^2 + y)*y) + 4)*(x/((x^2 + y)*y) - 4*x^2/(y^2*(x/((x^2 + y)*y) - 2)))^2)) * diff(z(x, y), y) + (2/(y^2*(x/((x^2 + y)*y) - 4*x^2/(y^2*(x/((x^2 + y)*y) - 2)))) + 4/((x^2 + y)*x*(x^2/((x^2 + y)^2*y^2) + 16*x^4/(y^4*(x/((x^2 + y)*y) - 2)^2) - 8*x^3/((x^2 + y)*y^3*(x/((x^2 + y)*y) - 2)))) - 4/((x^2 + y)*x*(x/((x^2 + y)*y) - 4*x^2/(y^2*(x/((x^2 + y)*y) - 2)))^2)) * w(x, y), [], []'\n",
      "   str(e2)='diff(z(x, y), x) + (-1/4*x*(1/(x^2 + y) - 4*x/(y*(x/((x^2 + y)*y) - 2)))/y) * diff(z(x, y), y) + (1/2/y) * w(x, y), [], []'\n",
      "nothing to reduce\n",
      "AAAAAAAAAAAAAAAAAAAAAAAAAAAAAAAAAAAAAAAAAAAAAAAAAAAAAAAAAAAAAAAAAAAAAAAAAAAAAAAAAAAAAAAAAAAAAAAAAAA\n"
     ]
    },
    {
     "data": {
      "text/latex": [
       "$\\displaystyle  z_{x}-\\frac{4 \\, x^{6} + 2 \\, {\\left(2 \\, x^{2} + x\\right)} y^{2} - x^{2} + 2 \\, {\\left(4 \\, x^{4} + x^{3}\\right)} y}{4 \\, {\\left(4 \\, x^{2} y^{3} - x^{3} y + 2 \\, y^{4} + {\\left(2 \\, x^{4} - x\\right)} y^{2}\\right)}} z_{y}+\\frac{1}{2 \\, y} w$"
      ],
      "text/plain": [
       "<IPython.core.display.Math object>"
      ]
     },
     "metadata": {},
     "output_type": "display_data"
    },
    {
     "data": {
      "text/latex": [
       "$\\displaystyle  w_{y}+\\frac{x}{2 \\, {\\left(x^{2} y + y^{2}\\right)}} z_{y}-\\frac{1}{y} w$"
      ],
      "text/plain": [
       "<IPython.core.display.Math object>"
      ]
     },
     "metadata": {},
     "output_type": "display_data"
    },
    {
     "data": {
      "text/latex": [
       "$\\displaystyle  z_{y,y}+(\\frac{12 \\, x^{2} y^{3} + 4 \\, y^{4} + 2 \\, {\\left(6 \\, x^{4} - 1\\right)} y^{2} + 2 \\, {\\left(2 \\, x^{6} - x^{2}\\right)} y + x}{4 \\, x^{2} y^{2} - x^{3} + 2 \\, y^{3} + {\\left(2 \\, x^{4} - x\\right)} y}) z_{y}$"
      ],
      "text/plain": [
       "<IPython.core.display.Math object>"
      ]
     },
     "metadata": {},
     "output_type": "display_data"
    },
    {
     "data": {
      "text/latex": [
       "$\\displaystyle  z_{y,y}-\\frac{2 \\, {\\left(4 \\, x^{2} y^{2} - x^{3} + 2 \\, y^{3} + {\\left(2 \\, x^{4} - x\\right)} y\\right)}}{4 \\, x^{6} + 2 \\, {\\left(2 \\, x^{2} + x\\right)} y^{2} - x^{2} + 2 \\, {\\left(4 \\, x^{4} + x^{3}\\right)} y} w_{y}+(\\frac{4 \\, x^{8} + 64 \\, x^{2} y^{6} + 16 \\, y^{7} + 8 \\, {\\left(12 \\, x^{4} - 3 \\, x - 1\\right)} y^{5} + 4 \\, {\\left(16 \\, x^{6} - 22 \\, x^{3} - 5 \\, x^{2}\\right)} y^{4} - x^{4} + 8 \\, {\\left(2 \\, x^{8} - 15 \\, x^{5} - 2 \\, x^{4} + x\\right)} y^{3} - 4 \\, {\\left(18 \\, x^{7} + x^{6} - x^{4} - 3 \\, x^{3}\\right)} y^{2} - 2 \\, {\\left(8 \\, x^{9} - 4 \\, x^{6} - 2 \\, x^{5} + x^{2}\\right)} y}{4 \\, {\\left(2 \\, x + 1\\right)} y^{6} + 4 \\, {\\left(8 \\, x^{3} + 3 \\, x^{2}\\right)} y^{5} + 4 \\, {\\left(12 \\, x^{5} + 3 \\, x^{4} - x^{2} - x\\right)} y^{4} + 4 \\, {\\left(8 \\, x^{7} + x^{6} - 3 \\, x^{4} - 2 \\, x^{3}\\right)} y^{3} + {\\left(8 \\, x^{9} - 12 \\, x^{6} - 4 \\, x^{5} + x^{2}\\right)} y^{2} - {\\left(4 \\, x^{8} - x^{4}\\right)} y}) z_{y}+\\frac{2 \\, {\\left(4 \\, x^{2} y^{2} - x^{3} + 2 \\, y^{3} + {\\left(2 \\, x^{4} - x\\right)} y\\right)}}{2 \\, {\\left(2 \\, x^{2} + x\\right)} y^{3} + 2 \\, {\\left(4 \\, x^{4} + x^{3}\\right)} y^{2} + {\\left(4 \\, x^{6} - x^{2}\\right)} y} w$"
      ],
      "text/plain": [
       "<IPython.core.display.Math object>"
      ]
     },
     "metadata": {},
     "output_type": "display_data"
    },
    {
     "data": {
      "text/latex": [
       "$\\displaystyle  z_{y,y}+(\\frac{8 \\, {\\left(x^{7} y + 4 \\, {\\left(4 \\, x^{2} + x\\right)} y^{7} + 4 \\, y^{8} + 4 \\, {\\left(6 \\, x^{4} + 4 \\, x^{3} - x\\right)} y^{6} + 4 \\, {\\left(4 \\, x^{6} + 6 \\, x^{5} - 3 \\, x^{3} - x^{2}\\right)} y^{5} + {\\left(4 \\, x^{8} + 16 \\, x^{7} - 12 \\, x^{5} - 12 \\, x^{4} + x^{2}\\right)} y^{4} + {\\left(4 \\, x^{9} - 4 \\, x^{7} - 12 \\, x^{6} + 2 \\, x^{4} + x^{3}\\right)} y^{3} - {\\left(4 \\, x^{8} - x^{6} - 2 \\, x^{5}\\right)} y^{2}\\right)}}{16 \\, x^{13} - 8 \\, x^{9} + x^{5} + 4 \\, {\\left(4 \\, x^{5} + 4 \\, x^{4} + x^{3}\\right)} y^{4} + 8 \\, {\\left(8 \\, x^{7} + 6 \\, x^{6} + x^{5}\\right)} y^{3} + 4 \\, {\\left(24 \\, x^{9} + 12 \\, x^{8} + x^{7} - 2 \\, x^{5} - x^{4}\\right)} y^{2} + 4 \\, {\\left(16 \\, x^{11} + 4 \\, x^{10} - 4 \\, x^{7} - x^{6}\\right)} y}) w_{x}-\\frac{2 \\, {\\left(4 \\, x^{2} y^{2} - x^{3} + 2 \\, y^{3} + {\\left(2 \\, x^{4} - x\\right)} y\\right)}}{4 \\, x^{6} + 2 \\, {\\left(2 \\, x^{2} + x\\right)} y^{2} - x^{2} + 2 \\, {\\left(4 \\, x^{4} + x^{3}\\right)} y} w_{y}+(\\frac{16 \\, x^{15} - 8 \\, x^{11} + 16 \\, {\\left(2 \\, x + 1\\right)} y^{10} + 32 \\, {\\left(11 \\, x^{3} + x^{2}\\right)} y^{9} + 8 \\, {\\left(152 \\, x^{5} - 4 \\, x^{4} + 4 \\, x^{2} - 3 \\, x\\right)} y^{8} + 8 \\, {\\left(248 \\, x^{7} - 16 \\, x^{6} - 24 \\, x^{4} - 11 \\, x^{3} - 2 \\, x^{2}\\right)} y^{7} + x^{7} + 4 \\, {\\left(424 \\, x^{9} - 28 \\, x^{8} - 280 \\, x^{6} - 58 \\, x^{5} - 14 \\, x^{4} - 10 \\, x^{3} + 3 \\, x^{2}\\right)} y^{6} + 8 \\, {\\left(92 \\, x^{11} - 4 \\, x^{10} - 260 \\, x^{8} - 57 \\, x^{7} - 9 \\, x^{6} - 3 \\, x^{5} + 6 \\, x^{4} + 3 \\, x^{3}\\right)} y^{5} + 2 \\, {\\left(64 \\, x^{13} - 992 \\, x^{10} - 248 \\, x^{9} - 20 \\, x^{8} + 68 \\, x^{7} + 74 \\, x^{6} + 30 \\, x^{5} + 4 \\, x^{4} - x^{3}\\right)} y^{4} - 2 \\, {\\left(560 \\, x^{12} + 128 \\, x^{11} + 4 \\, x^{10} - 108 \\, x^{9} - 120 \\, x^{8} - 24 \\, x^{7} - 4 \\, x^{6} + 3 \\, x^{5} + 6 \\, x^{4}\\right)} y^{3} - 2 \\, {\\left(192 \\, x^{14} + 24 \\, x^{13} - 72 \\, x^{11} - 84 \\, x^{10} - 6 \\, x^{9} + 10 \\, x^{7} + 9 \\, x^{6}\\right)} y^{2} - 2 \\, {\\left(32 \\, x^{16} - 32 \\, x^{13} - 20 \\, x^{12} + 12 \\, x^{9} + 3 \\, x^{8} - x^{5}\\right)} y}{8 \\, {\\left(4 \\, x^{4} + 4 \\, x^{3} + x^{2}\\right)} y^{8} + 32 \\, {\\left(6 \\, x^{6} + 5 \\, x^{5} + x^{4}\\right)} y^{7} + 4 \\, {\\left(120 \\, x^{8} + 80 \\, x^{7} + 12 \\, x^{6} - 4 \\, x^{5} - 8 \\, x^{4} - 3 \\, x^{3}\\right)} y^{6} + 4 \\, {\\left(160 \\, x^{10} + 80 \\, x^{9} + 8 \\, x^{8} - 20 \\, x^{7} - 32 \\, x^{6} - 9 \\, x^{5}\\right)} y^{5} + 2 \\, {\\left(240 \\, x^{12} + 80 \\, x^{11} + 4 \\, x^{10} - 80 \\, x^{9} - 96 \\, x^{8} - 18 \\, x^{7} + 4 \\, x^{5} + 3 \\, x^{4}\\right)} y^{4} + 4 \\, {\\left(48 \\, x^{14} + 8 \\, x^{13} - 40 \\, x^{11} - 32 \\, x^{10} - 3 \\, x^{9} + 6 \\, x^{7} + 3 \\, x^{6}\\right)} y^{3} + {\\left(32 \\, x^{16} - 80 \\, x^{13} - 32 \\, x^{12} + 24 \\, x^{9} + 6 \\, x^{8} - x^{5}\\right)} y^{2} - {\\left(16 \\, x^{15} - 8 \\, x^{11} + x^{7}\\right)} y}) z_{y}+(\\frac{2 \\, {\\left(4 \\, x^{2} y^{2} - x^{3} + 2 \\, y^{3} + {\\left(2 \\, x^{4} - x\\right)} y\\right)}}{2 \\, {\\left(2 \\, x^{2} + x\\right)} y^{3} + 2 \\, {\\left(4 \\, x^{4} + x^{3}\\right)} y^{2} + {\\left(4 \\, x^{6} - x^{2}\\right)} y}) w$"
      ],
      "text/plain": [
       "<IPython.core.display.Math object>"
      ]
     },
     "metadata": {},
     "output_type": "display_data"
    },
    {
     "name": "stdout",
     "output_type": "stream",
     "text": [
      "reduce_inner\n",
      "str(t)='diff(z(x, y), y, y)'\n",
      "   str(e1)='diff(z(x, y), y, y) + (-x^2/(x^4 + 2*x^2*y + y^2) - 4*x^2/(x/((x^2 + y)*y) - 2) - y/(x^4 + 2*x^2*y + y^2) - 4*y/(x/((x^2 + y)*y) - 2)) * diff(z(x, y), y), [], []'\n",
      "   str(e2)='diff(z(x, y), x) + (-1/4*x*(1/(x^2 + y) - 4*x/(y*(x/((x^2 + y)*y) - 2)))/y) * diff(z(x, y), y) + (1/2/y) * w(x, y), [], []'\n",
      "str(t)='(-x^2/(x^4 + 2*x^2*y + y^2) - 4*x^2/(x/((x^2 + y)*y) - 2) - y/(x^4 + 2*x^2*y + y^2) - 4*y/(x/((x^2 + y)*y) - 2)) * diff(z(x, y), y)'\n",
      "   str(e1)='diff(z(x, y), y, y) + (-x^2/(x^4 + 2*x^2*y + y^2) - 4*x^2/(x/((x^2 + y)*y) - 2) - y/(x^4 + 2*x^2*y + y^2) - 4*y/(x/((x^2 + y)*y) - 2)) * diff(z(x, y), y), [], []'\n",
      "   str(e2)='diff(z(x, y), x) + (-1/4*x*(1/(x^2 + y) - 4*x/(y*(x/((x^2 + y)*y) - 2)))/y) * diff(z(x, y), y) + (1/2/y) * w(x, y), [], []'\n",
      "nothing to reduce\n",
      "reduce_inner\n",
      "nothing to reduce\n",
      "reduce_inner\n",
      "str(t)='diff(z(x, y), y, y)'\n",
      "   str(e1)='diff(z(x, y), y, y) + (-2/(y*(x/((x^2 + y)*y) - 4*x^2/(y^2*(x/((x^2 + y)*y) - 2))))) * diff(w(x, y), y) + (-x/((x^4 + 2*x^2*y + y^2)*y*(x/((x^2 + y)*y) - 4*x^2/(y^2*(x/((x^2 + y)*y) - 2)))) - 8*x/(y*(x/((x^2 + y)*y) - 4*x^2/(y^2*(x/((x^2 + y)*y) - 2)))*(x/((x^2 + y)*y) - 2)) - x/((x^2 + y)*y^2*(x/((x^2 + y)*y) - 4*x^2/(y^2*(x/((x^2 + y)*y) - 2)))) - 4*x^3/((x^4 + 2*x^2*y + y^2)*y^3*(x^2/((x^4 + 2*x^2*y + y^2)*y^2) - 4*x/((x^2 + y)*y) + 4)*(x/((x^2 + y)*y) - 4*x^2/(y^2*(x/((x^2 + y)*y) - 2)))) + 8*x^2/(y^3*(x/((x^2 + y)*y) - 4*x^2/(y^2*(x/((x^2 + y)*y) - 2)))*(x/((x^2 + y)*y) - 2)) - 4*x^3/((x^2 + y)*y^4*(x^2/((x^4 + 2*x^2*y + y^2)*y^2) - 4*x/((x^2 + y)*y) + 4)*(x/((x^2 + y)*y) - 4*x^2/(y^2*(x/((x^2 + y)*y) - 2))))) * diff(z(x, y), y) + (2/(y^2*(x/((x^2 + y)*y) - 4*x^2/(y^2*(x/((x^2 + y)*y) - 2))))) * w(x, y), [], []'\n",
      "   str(e2)='diff(z(x, y), x) + (-1/4*x*(1/(x^2 + y) - 4*x/(y*(x/((x^2 + y)*y) - 2)))/y) * diff(z(x, y), y) + (1/2/y) * w(x, y), [], []'\n",
      "str(t)='(-x/((x^4 + 2*x^2*y + y^2)*y*(x/((x^2 + y)*y) - 4*x^2/(y^2*(x/((x^2 + y)*y) - 2)))) - 8*x/(y*(x/((x^2 + y)*y) - 4*x^2/(y^2*(x/((x^2 + y)*y) - 2)))*(x/((x^2 + y)*y) - 2)) - x/((x^2 + y)*y^2*(x/((x^2 + y)*y) - 4*x^2/(y^2*(x/((x^2 + y)*y) - 2)))) - 4*x^3/((x^4 + 2*x^2*y + y^2)*y^3*(x^2/((x^4 + 2*x^2*y + y^2)*y^2) - 4*x/((x^2 + y)*y) + 4)*(x/((x^2 + y)*y) - 4*x^2/(y^2*(x/((x^2 + y)*y) - 2)))) + 8*x^2/(y^3*(x/((x^2 + y)*y) - 4*x^2/(y^2*(x/((x^2 + y)*y) - 2)))*(x/((x^2 + y)*y) - 2)) - 4*x^3/((x^2 + y)*y^4*(x^2/((x^4 + 2*x^2*y + y^2)*y^2) - 4*x/((x^2 + y)*y) + 4)*(x/((x^2 + y)*y) - 4*x^2/(y^2*(x/((x^2 + y)*y) - 2))))) * diff(z(x, y), y)'\n",
      "   str(e1)='diff(z(x, y), y, y) + (-2/(y*(x/((x^2 + y)*y) - 4*x^2/(y^2*(x/((x^2 + y)*y) - 2))))) * diff(w(x, y), y) + (-x/((x^4 + 2*x^2*y + y^2)*y*(x/((x^2 + y)*y) - 4*x^2/(y^2*(x/((x^2 + y)*y) - 2)))) - 8*x/(y*(x/((x^2 + y)*y) - 4*x^2/(y^2*(x/((x^2 + y)*y) - 2)))*(x/((x^2 + y)*y) - 2)) - x/((x^2 + y)*y^2*(x/((x^2 + y)*y) - 4*x^2/(y^2*(x/((x^2 + y)*y) - 2)))) - 4*x^3/((x^4 + 2*x^2*y + y^2)*y^3*(x^2/((x^4 + 2*x^2*y + y^2)*y^2) - 4*x/((x^2 + y)*y) + 4)*(x/((x^2 + y)*y) - 4*x^2/(y^2*(x/((x^2 + y)*y) - 2)))) + 8*x^2/(y^3*(x/((x^2 + y)*y) - 4*x^2/(y^2*(x/((x^2 + y)*y) - 2)))*(x/((x^2 + y)*y) - 2)) - 4*x^3/((x^2 + y)*y^4*(x^2/((x^4 + 2*x^2*y + y^2)*y^2) - 4*x/((x^2 + y)*y) + 4)*(x/((x^2 + y)*y) - 4*x^2/(y^2*(x/((x^2 + y)*y) - 2))))) * diff(z(x, y), y) + (2/(y^2*(x/((x^2 + y)*y) - 4*x^2/(y^2*(x/((x^2 + y)*y) - 2))))) * w(x, y), [], []'\n",
      "   str(e2)='diff(z(x, y), x) + (-1/4*x*(1/(x^2 + y) - 4*x/(y*(x/((x^2 + y)*y) - 2)))/y) * diff(z(x, y), y) + (1/2/y) * w(x, y), [], []'\n",
      "nothing to reduce\n",
      "reduce_inner\n",
      "str(t)='(-2/(y*(x/((x^2 + y)*y) - 4*x^2/(y^2*(x/((x^2 + y)*y) - 2))))) * diff(w(x, y), y)'\n",
      "   str(e1)='diff(z(x, y), y, y) + (-2/(y*(x/((x^2 + y)*y) - 4*x^2/(y^2*(x/((x^2 + y)*y) - 2))))) * diff(w(x, y), y) + (-x/((x^4 + 2*x^2*y + y^2)*y*(x/((x^2 + y)*y) - 4*x^2/(y^2*(x/((x^2 + y)*y) - 2)))) - 8*x/(y*(x/((x^2 + y)*y) - 4*x^2/(y^2*(x/((x^2 + y)*y) - 2)))*(x/((x^2 + y)*y) - 2)) - x/((x^2 + y)*y^2*(x/((x^2 + y)*y) - 4*x^2/(y^2*(x/((x^2 + y)*y) - 2)))) - 4*x^3/((x^4 + 2*x^2*y + y^2)*y^3*(x^2/((x^4 + 2*x^2*y + y^2)*y^2) - 4*x/((x^2 + y)*y) + 4)*(x/((x^2 + y)*y) - 4*x^2/(y^2*(x/((x^2 + y)*y) - 2)))) + 8*x^2/(y^3*(x/((x^2 + y)*y) - 4*x^2/(y^2*(x/((x^2 + y)*y) - 2)))*(x/((x^2 + y)*y) - 2)) - 4*x^3/((x^2 + y)*y^4*(x^2/((x^4 + 2*x^2*y + y^2)*y^2) - 4*x/((x^2 + y)*y) + 4)*(x/((x^2 + y)*y) - 4*x^2/(y^2*(x/((x^2 + y)*y) - 2))))) * diff(z(x, y), y) + (2/(y^2*(x/((x^2 + y)*y) - 4*x^2/(y^2*(x/((x^2 + y)*y) - 2))))) * w(x, y), [], []'\n",
      "   str(e2)='diff(w(x, y), y) + (1/2*x/((x^2 + y)*y)) * diff(z(x, y), y) + (-1/y) * w(x, y), [], []'\n",
      "   ===> subtract, *-2/(y*(x/((x^2 + y)*y) - 4*x^2/(y^2*(x/((x^2 + y)*y) - 2))))\n",
      "after creation of DP\n",
      "===> str(_)='diff(z(x, y), y, y)',  (0, 2, 0, 1)\n",
      "===> str(_)='(-x/((x^4 + 2*x^2*y + y^2)*y*(x/((x^2 + y)*y) - 4*x^2/(y^2*(x/((x^2 + y)*y) - 2)))) + x/((x^2 + y)*y^2*(x/((x^2 + y)*y) - 4*x^2/(y^2*(x/((x^2 + y)*y) - 2))))) * diff(z(x, y), y)',  (0, 1, 0, 1)\n",
      "  after _reduce_inner: \n"
     ]
    },
    {
     "data": {
      "text/latex": [
       "$\\displaystyle  z_{y,y}-\\frac{2 \\, {\\left(4 \\, x^{2} y^{2} - x^{3} + 2 \\, y^{3} + {\\left(2 \\, x^{4} - x\\right)} y\\right)}}{4 \\, x^{6} + 2 \\, {\\left(2 \\, x^{2} + x\\right)} y^{2} - x^{2} + 2 \\, {\\left(4 \\, x^{4} + x^{3}\\right)} y} w_{y} + (\\frac{4 \\, x^{8} + 64 \\, x^{2} y^{6} + 16 \\, y^{7} + 8 \\, {\\left(12 \\, x^{4} - 3 \\, x - 1\\right)} y^{5} + 4 \\, {\\left(16 \\, x^{6} - 22 \\, x^{3} - 5 \\, x^{2}\\right)} y^{4} - x^{4} + 8 \\, {\\left(2 \\, x^{8} - 15 \\, x^{5} - 2 \\, x^{4} + x\\right)} y^{3} - 4 \\, {\\left(18 \\, x^{7} + x^{6} - x^{4} - 3 \\, x^{3}\\right)} y^{2} - 2 \\, {\\left(8 \\, x^{9} - 4 \\, x^{6} - 2 \\, x^{5} + x^{2}\\right)} y}{4 \\, {\\left(2 \\, x + 1\\right)} y^{6} + 4 \\, {\\left(8 \\, x^{3} + 3 \\, x^{2}\\right)} y^{5} + 4 \\, {\\left(12 \\, x^{5} + 3 \\, x^{4} - x^{2} - x\\right)} y^{4} + 4 \\, {\\left(8 \\, x^{7} + x^{6} - 3 \\, x^{4} - 2 \\, x^{3}\\right)} y^{3} + {\\left(8 \\, x^{9} - 12 \\, x^{6} - 4 \\, x^{5} + x^{2}\\right)} y^{2} - {\\left(4 \\, x^{8} - x^{4}\\right)} y}) z_{y} + \\frac{2 \\, {\\left(4 \\, x^{2} y^{2} - x^{3} + 2 \\, y^{3} + {\\left(2 \\, x^{4} - x\\right)} y\\right)}}{2 \\, {\\left(2 \\, x^{2} + x\\right)} y^{3} + 2 \\, {\\left(4 \\, x^{4} + x^{3}\\right)} y^{2} + {\\left(4 \\, x^{6} - x^{2}\\right)} y} w[], []$"
      ],
      "text/plain": [
       "<IPython.core.display.Math object>"
      ]
     },
     "metadata": {},
     "output_type": "display_data"
    },
    {
     "data": {
      "text/latex": [
       "$\\displaystyle  w_{y} + \\frac{x}{2 \\, {\\left(x^{2} y + y^{2}\\right)}} z_{y}-\\frac{1}{y} w[], []$"
      ],
      "text/plain": [
       "<IPython.core.display.Math object>"
      ]
     },
     "metadata": {},
     "output_type": "display_data"
    },
    {
     "data": {
      "text/latex": [
       "$\\displaystyle  z_{y,y} + (\\frac{2 \\, x^{4} y + 2 \\, x^{2} y^{2} - x^{3}}{2 \\, {\\left(2 \\, x + 1\\right)} y^{4} + 4 \\, {\\left(3 \\, x^{3} + x^{2}\\right)} y^{3} + {\\left(12 \\, x^{5} + 2 \\, x^{4} - x\\right)} y^{2} + {\\left(4 \\, x^{7} - x^{3}\\right)} y}) z_{y}[], []$"
      ],
      "text/plain": [
       "<IPython.core.display.Math object>"
      ]
     },
     "metadata": {},
     "output_type": "display_data"
    },
    {
     "name": "stdout",
     "output_type": "stream",
     "text": [
      "reduce_inner\n",
      "nothing to reduce\n",
      "reduce_inner\n",
      "str(t)='diff(z(x, y), y, y)'\n",
      "   str(e1)='diff(z(x, y), y, y) + (-x/((x^4 + 2*x^2*y + y^2)*y*(x/((x^2 + y)*y) - 4*x^2/(y^2*(x/((x^2 + y)*y) - 2)))) + x/((x^2 + y)*y^2*(x/((x^2 + y)*y) - 4*x^2/(y^2*(x/((x^2 + y)*y) - 2))))) * diff(z(x, y), y), [], []'\n",
      "   str(e2)='diff(z(x, y), x) + (-1/4*x*(1/(x^2 + y) - 4*x/(y*(x/((x^2 + y)*y) - 2)))/y) * diff(z(x, y), y) + (1/2/y) * w(x, y), [], []'\n",
      "str(t)='(-x/((x^4 + 2*x^2*y + y^2)*y*(x/((x^2 + y)*y) - 4*x^2/(y^2*(x/((x^2 + y)*y) - 2)))) + x/((x^2 + y)*y^2*(x/((x^2 + y)*y) - 4*x^2/(y^2*(x/((x^2 + y)*y) - 2))))) * diff(z(x, y), y)'\n",
      "   str(e1)='diff(z(x, y), y, y) + (-x/((x^4 + 2*x^2*y + y^2)*y*(x/((x^2 + y)*y) - 4*x^2/(y^2*(x/((x^2 + y)*y) - 2)))) + x/((x^2 + y)*y^2*(x/((x^2 + y)*y) - 4*x^2/(y^2*(x/((x^2 + y)*y) - 2))))) * diff(z(x, y), y), [], []'\n",
      "   str(e2)='diff(z(x, y), x) + (-1/4*x*(1/(x^2 + y) - 4*x/(y*(x/((x^2 + y)*y) - 2)))/y) * diff(z(x, y), y) + (1/2/y) * w(x, y), [], []'\n",
      "nothing to reduce\n",
      "reduce_inner\n",
      "nothing to reduce\n",
      "reduce_inner\n",
      "str(t)='diff(z(x, y), y, y)'\n",
      "   str(e1)='diff(z(x, y), y, y) + (-8/(x*(x/((x^2 + y)*y) - 4*x^2/(y^2*(x/((x^2 + y)*y) - 2)))^2) - 8/(y*(x/((x^2 + y)*y) - 4*x^2/(y^2*(x/((x^2 + y)*y) - 2)))^2)) * diff(w(x, y), x) + (-2/(y*(x/((x^2 + y)*y) - 4*x^2/(y^2*(x/((x^2 + y)*y) - 2))))) * diff(w(x, y), y) + (-8*x/((x^4 + 2*x^2*y + y^2)*(x/((x^2 + y)*y) - 4*x^2/(y^2*(x/((x^2 + y)*y) - 2)))^2) - 8*x^2/((x^4 + 2*x^2*y + y^2)*y*(x/((x^2 + y)*y) - 4*x^2/(y^2*(x/((x^2 + y)*y) - 2)))^2) - x/((x^4 + 2*x^2*y + y^2)*y*(x/((x^2 + y)*y) - 4*x^2/(y^2*(x/((x^2 + y)*y) - 2)))) - 32*x^4/((x^4 + 2*x^2*y + y^2)*y^3*(x^2/((x^4 + 2*x^2*y + y^2)*y^2) - 4*x/((x^2 + y)*y) + 4)*(x/((x^2 + y)*y) - 4*x^2/(y^2*(x/((x^2 + y)*y) - 2)))^2) - x/((x^2 + y)*y^2*(x/((x^2 + y)*y) - 4*x^2/(y^2*(x/((x^2 + y)*y) - 2)))) - 4*x^3/((x^4 + 2*x^2*y + y^2)*y^3*(x^2/((x^4 + 2*x^2*y + y^2)*y^2) - 4*x/((x^2 + y)*y) + 4)*(x/((x^2 + y)*y) - 4*x^2/(y^2*(x/((x^2 + y)*y) - 2)))) + 8*x^2/(y^3*(x/((x^2 + y)*y) - 4*x^2/(y^2*(x/((x^2 + y)*y) - 2)))*(x/((x^2 + y)*y) - 2)) - 2/((x^2 + y)^2*(x^2/((x^2 + y)^2*y^2) + 16*x^4/(y^4*(x/((x^2 + y)*y) - 2)^2) - 8*x^3/((x^2 + y)*y^3*(x/((x^2 + y)*y) - 2)))) + 8*x/((x^2 + y)*y*(x/((x^2 + y)*y) - 2)*(x^2/((x^2 + y)^2*y^2) + 16*x^4/(y^4*(x/((x^2 + y)*y) - 2)^2) - 8*x^3/((x^2 + y)*y^3*(x/((x^2 + y)*y) - 2)))) + 4/((x^2 + y)*y*(x/((x^2 + y)*y) - 4*x^2/(y^2*(x/((x^2 + y)*y) - 2)))^2) - 4*x^3/((x^2 + y)*y^4*(x^2/((x^4 + 2*x^2*y + y^2)*y^2) - 4*x/((x^2 + y)*y) + 4)*(x/((x^2 + y)*y) - 4*x^2/(y^2*(x/((x^2 + y)*y) - 2)))) - 32*x/(y^2*(x/((x^2 + y)*y) - 4*x^2/(y^2*(x/((x^2 + y)*y) - 2)))^2*(x/((x^2 + y)*y) - 2)) + 16*x^2/((x^2 + y)*y^3*(x^2/((x^4 + 2*x^2*y + y^2)*y^2) - 4*x/((x^2 + y)*y) + 4)*(x/((x^2 + y)*y) - 4*x^2/(y^2*(x/((x^2 + y)*y) - 2)))^2)) * diff(z(x, y), y) + (2/(y^2*(x/((x^2 + y)*y) - 4*x^2/(y^2*(x/((x^2 + y)*y) - 2)))) + 4/((x^2 + y)*x*(x^2/((x^2 + y)^2*y^2) + 16*x^4/(y^4*(x/((x^2 + y)*y) - 2)^2) - 8*x^3/((x^2 + y)*y^3*(x/((x^2 + y)*y) - 2)))) - 4/((x^2 + y)*x*(x/((x^2 + y)*y) - 4*x^2/(y^2*(x/((x^2 + y)*y) - 2)))^2)) * w(x, y), [], []'\n",
      "   str(e2)='diff(z(x, y), x) + (-1/4*x*(1/(x^2 + y) - 4*x/(y*(x/((x^2 + y)*y) - 2)))/y) * diff(z(x, y), y) + (1/2/y) * w(x, y), [], []'\n",
      "str(t)='(-8*x/((x^4 + 2*x^2*y + y^2)*(x/((x^2 + y)*y) - 4*x^2/(y^2*(x/((x^2 + y)*y) - 2)))^2) - 8*x^2/((x^4 + 2*x^2*y + y^2)*y*(x/((x^2 + y)*y) - 4*x^2/(y^2*(x/((x^2 + y)*y) - 2)))^2) - x/((x^4 + 2*x^2*y + y^2)*y*(x/((x^2 + y)*y) - 4*x^2/(y^2*(x/((x^2 + y)*y) - 2)))) - 32*x^4/((x^4 + 2*x^2*y + y^2)*y^3*(x^2/((x^4 + 2*x^2*y + y^2)*y^2) - 4*x/((x^2 + y)*y) + 4)*(x/((x^2 + y)*y) - 4*x^2/(y^2*(x/((x^2 + y)*y) - 2)))^2) - x/((x^2 + y)*y^2*(x/((x^2 + y)*y) - 4*x^2/(y^2*(x/((x^2 + y)*y) - 2)))) - 4*x^3/((x^4 + 2*x^2*y + y^2)*y^3*(x^2/((x^4 + 2*x^2*y + y^2)*y^2) - 4*x/((x^2 + y)*y) + 4)*(x/((x^2 + y)*y) - 4*x^2/(y^2*(x/((x^2 + y)*y) - 2)))) + 8*x^2/(y^3*(x/((x^2 + y)*y) - 4*x^2/(y^2*(x/((x^2 + y)*y) - 2)))*(x/((x^2 + y)*y) - 2)) - 2/((x^2 + y)^2*(x^2/((x^2 + y)^2*y^2) + 16*x^4/(y^4*(x/((x^2 + y)*y) - 2)^2) - 8*x^3/((x^2 + y)*y^3*(x/((x^2 + y)*y) - 2)))) + 8*x/((x^2 + y)*y*(x/((x^2 + y)*y) - 2)*(x^2/((x^2 + y)^2*y^2) + 16*x^4/(y^4*(x/((x^2 + y)*y) - 2)^2) - 8*x^3/((x^2 + y)*y^3*(x/((x^2 + y)*y) - 2)))) + 4/((x^2 + y)*y*(x/((x^2 + y)*y) - 4*x^2/(y^2*(x/((x^2 + y)*y) - 2)))^2) - 4*x^3/((x^2 + y)*y^4*(x^2/((x^4 + 2*x^2*y + y^2)*y^2) - 4*x/((x^2 + y)*y) + 4)*(x/((x^2 + y)*y) - 4*x^2/(y^2*(x/((x^2 + y)*y) - 2)))) - 32*x/(y^2*(x/((x^2 + y)*y) - 4*x^2/(y^2*(x/((x^2 + y)*y) - 2)))^2*(x/((x^2 + y)*y) - 2)) + 16*x^2/((x^2 + y)*y^3*(x^2/((x^4 + 2*x^2*y + y^2)*y^2) - 4*x/((x^2 + y)*y) + 4)*(x/((x^2 + y)*y) - 4*x^2/(y^2*(x/((x^2 + y)*y) - 2)))^2)) * diff(z(x, y), y)'\n",
      "   str(e1)='diff(z(x, y), y, y) + (-8/(x*(x/((x^2 + y)*y) - 4*x^2/(y^2*(x/((x^2 + y)*y) - 2)))^2) - 8/(y*(x/((x^2 + y)*y) - 4*x^2/(y^2*(x/((x^2 + y)*y) - 2)))^2)) * diff(w(x, y), x) + (-2/(y*(x/((x^2 + y)*y) - 4*x^2/(y^2*(x/((x^2 + y)*y) - 2))))) * diff(w(x, y), y) + (-8*x/((x^4 + 2*x^2*y + y^2)*(x/((x^2 + y)*y) - 4*x^2/(y^2*(x/((x^2 + y)*y) - 2)))^2) - 8*x^2/((x^4 + 2*x^2*y + y^2)*y*(x/((x^2 + y)*y) - 4*x^2/(y^2*(x/((x^2 + y)*y) - 2)))^2) - x/((x^4 + 2*x^2*y + y^2)*y*(x/((x^2 + y)*y) - 4*x^2/(y^2*(x/((x^2 + y)*y) - 2)))) - 32*x^4/((x^4 + 2*x^2*y + y^2)*y^3*(x^2/((x^4 + 2*x^2*y + y^2)*y^2) - 4*x/((x^2 + y)*y) + 4)*(x/((x^2 + y)*y) - 4*x^2/(y^2*(x/((x^2 + y)*y) - 2)))^2) - x/((x^2 + y)*y^2*(x/((x^2 + y)*y) - 4*x^2/(y^2*(x/((x^2 + y)*y) - 2)))) - 4*x^3/((x^4 + 2*x^2*y + y^2)*y^3*(x^2/((x^4 + 2*x^2*y + y^2)*y^2) - 4*x/((x^2 + y)*y) + 4)*(x/((x^2 + y)*y) - 4*x^2/(y^2*(x/((x^2 + y)*y) - 2)))) + 8*x^2/(y^3*(x/((x^2 + y)*y) - 4*x^2/(y^2*(x/((x^2 + y)*y) - 2)))*(x/((x^2 + y)*y) - 2)) - 2/((x^2 + y)^2*(x^2/((x^2 + y)^2*y^2) + 16*x^4/(y^4*(x/((x^2 + y)*y) - 2)^2) - 8*x^3/((x^2 + y)*y^3*(x/((x^2 + y)*y) - 2)))) + 8*x/((x^2 + y)*y*(x/((x^2 + y)*y) - 2)*(x^2/((x^2 + y)^2*y^2) + 16*x^4/(y^4*(x/((x^2 + y)*y) - 2)^2) - 8*x^3/((x^2 + y)*y^3*(x/((x^2 + y)*y) - 2)))) + 4/((x^2 + y)*y*(x/((x^2 + y)*y) - 4*x^2/(y^2*(x/((x^2 + y)*y) - 2)))^2) - 4*x^3/((x^2 + y)*y^4*(x^2/((x^4 + 2*x^2*y + y^2)*y^2) - 4*x/((x^2 + y)*y) + 4)*(x/((x^2 + y)*y) - 4*x^2/(y^2*(x/((x^2 + y)*y) - 2)))) - 32*x/(y^2*(x/((x^2 + y)*y) - 4*x^2/(y^2*(x/((x^2 + y)*y) - 2)))^2*(x/((x^2 + y)*y) - 2)) + 16*x^2/((x^2 + y)*y^3*(x^2/((x^4 + 2*x^2*y + y^2)*y^2) - 4*x/((x^2 + y)*y) + 4)*(x/((x^2 + y)*y) - 4*x^2/(y^2*(x/((x^2 + y)*y) - 2)))^2)) * diff(z(x, y), y) + (2/(y^2*(x/((x^2 + y)*y) - 4*x^2/(y^2*(x/((x^2 + y)*y) - 2)))) + 4/((x^2 + y)*x*(x^2/((x^2 + y)^2*y^2) + 16*x^4/(y^4*(x/((x^2 + y)*y) - 2)^2) - 8*x^3/((x^2 + y)*y^3*(x/((x^2 + y)*y) - 2)))) - 4/((x^2 + y)*x*(x/((x^2 + y)*y) - 4*x^2/(y^2*(x/((x^2 + y)*y) - 2)))^2)) * w(x, y), [], []'\n",
      "   str(e2)='diff(z(x, y), x) + (-1/4*x*(1/(x^2 + y) - 4*x/(y*(x/((x^2 + y)*y) - 2)))/y) * diff(z(x, y), y) + (1/2/y) * w(x, y), [], []'\n",
      "nothing to reduce\n",
      "reduce_inner\n",
      "str(t)='(-8/(x*(x/((x^2 + y)*y) - 4*x^2/(y^2*(x/((x^2 + y)*y) - 2)))^2) - 8/(y*(x/((x^2 + y)*y) - 4*x^2/(y^2*(x/((x^2 + y)*y) - 2)))^2)) * diff(w(x, y), x)'\n",
      "   str(e1)='diff(z(x, y), y, y) + (-8/(x*(x/((x^2 + y)*y) - 4*x^2/(y^2*(x/((x^2 + y)*y) - 2)))^2) - 8/(y*(x/((x^2 + y)*y) - 4*x^2/(y^2*(x/((x^2 + y)*y) - 2)))^2)) * diff(w(x, y), x) + (-2/(y*(x/((x^2 + y)*y) - 4*x^2/(y^2*(x/((x^2 + y)*y) - 2))))) * diff(w(x, y), y) + (-8*x/((x^4 + 2*x^2*y + y^2)*(x/((x^2 + y)*y) - 4*x^2/(y^2*(x/((x^2 + y)*y) - 2)))^2) - 8*x^2/((x^4 + 2*x^2*y + y^2)*y*(x/((x^2 + y)*y) - 4*x^2/(y^2*(x/((x^2 + y)*y) - 2)))^2) - x/((x^4 + 2*x^2*y + y^2)*y*(x/((x^2 + y)*y) - 4*x^2/(y^2*(x/((x^2 + y)*y) - 2)))) - 32*x^4/((x^4 + 2*x^2*y + y^2)*y^3*(x^2/((x^4 + 2*x^2*y + y^2)*y^2) - 4*x/((x^2 + y)*y) + 4)*(x/((x^2 + y)*y) - 4*x^2/(y^2*(x/((x^2 + y)*y) - 2)))^2) - x/((x^2 + y)*y^2*(x/((x^2 + y)*y) - 4*x^2/(y^2*(x/((x^2 + y)*y) - 2)))) - 4*x^3/((x^4 + 2*x^2*y + y^2)*y^3*(x^2/((x^4 + 2*x^2*y + y^2)*y^2) - 4*x/((x^2 + y)*y) + 4)*(x/((x^2 + y)*y) - 4*x^2/(y^2*(x/((x^2 + y)*y) - 2)))) + 8*x^2/(y^3*(x/((x^2 + y)*y) - 4*x^2/(y^2*(x/((x^2 + y)*y) - 2)))*(x/((x^2 + y)*y) - 2)) - 2/((x^2 + y)^2*(x^2/((x^2 + y)^2*y^2) + 16*x^4/(y^4*(x/((x^2 + y)*y) - 2)^2) - 8*x^3/((x^2 + y)*y^3*(x/((x^2 + y)*y) - 2)))) + 8*x/((x^2 + y)*y*(x/((x^2 + y)*y) - 2)*(x^2/((x^2 + y)^2*y^2) + 16*x^4/(y^4*(x/((x^2 + y)*y) - 2)^2) - 8*x^3/((x^2 + y)*y^3*(x/((x^2 + y)*y) - 2)))) + 4/((x^2 + y)*y*(x/((x^2 + y)*y) - 4*x^2/(y^2*(x/((x^2 + y)*y) - 2)))^2) - 4*x^3/((x^2 + y)*y^4*(x^2/((x^4 + 2*x^2*y + y^2)*y^2) - 4*x/((x^2 + y)*y) + 4)*(x/((x^2 + y)*y) - 4*x^2/(y^2*(x/((x^2 + y)*y) - 2)))) - 32*x/(y^2*(x/((x^2 + y)*y) - 4*x^2/(y^2*(x/((x^2 + y)*y) - 2)))^2*(x/((x^2 + y)*y) - 2)) + 16*x^2/((x^2 + y)*y^3*(x^2/((x^4 + 2*x^2*y + y^2)*y^2) - 4*x/((x^2 + y)*y) + 4)*(x/((x^2 + y)*y) - 4*x^2/(y^2*(x/((x^2 + y)*y) - 2)))^2)) * diff(z(x, y), y) + (2/(y^2*(x/((x^2 + y)*y) - 4*x^2/(y^2*(x/((x^2 + y)*y) - 2)))) + 4/((x^2 + y)*x*(x^2/((x^2 + y)^2*y^2) + 16*x^4/(y^4*(x/((x^2 + y)*y) - 2)^2) - 8*x^3/((x^2 + y)*y^3*(x/((x^2 + y)*y) - 2)))) - 4/((x^2 + y)*x*(x/((x^2 + y)*y) - 4*x^2/(y^2*(x/((x^2 + y)*y) - 2)))^2)) * w(x, y), [], []'\n",
      "   str(e2)='diff(w(x, y), y) + (1/2*x/((x^2 + y)*y)) * diff(z(x, y), y) + (-1/y) * w(x, y), [], []'\n",
      "str(t)='(-2/(y*(x/((x^2 + y)*y) - 4*x^2/(y^2*(x/((x^2 + y)*y) - 2))))) * diff(w(x, y), y)'\n",
      "   str(e1)='diff(z(x, y), y, y) + (-8/(x*(x/((x^2 + y)*y) - 4*x^2/(y^2*(x/((x^2 + y)*y) - 2)))^2) - 8/(y*(x/((x^2 + y)*y) - 4*x^2/(y^2*(x/((x^2 + y)*y) - 2)))^2)) * diff(w(x, y), x) + (-2/(y*(x/((x^2 + y)*y) - 4*x^2/(y^2*(x/((x^2 + y)*y) - 2))))) * diff(w(x, y), y) + (-8*x/((x^4 + 2*x^2*y + y^2)*(x/((x^2 + y)*y) - 4*x^2/(y^2*(x/((x^2 + y)*y) - 2)))^2) - 8*x^2/((x^4 + 2*x^2*y + y^2)*y*(x/((x^2 + y)*y) - 4*x^2/(y^2*(x/((x^2 + y)*y) - 2)))^2) - x/((x^4 + 2*x^2*y + y^2)*y*(x/((x^2 + y)*y) - 4*x^2/(y^2*(x/((x^2 + y)*y) - 2)))) - 32*x^4/((x^4 + 2*x^2*y + y^2)*y^3*(x^2/((x^4 + 2*x^2*y + y^2)*y^2) - 4*x/((x^2 + y)*y) + 4)*(x/((x^2 + y)*y) - 4*x^2/(y^2*(x/((x^2 + y)*y) - 2)))^2) - x/((x^2 + y)*y^2*(x/((x^2 + y)*y) - 4*x^2/(y^2*(x/((x^2 + y)*y) - 2)))) - 4*x^3/((x^4 + 2*x^2*y + y^2)*y^3*(x^2/((x^4 + 2*x^2*y + y^2)*y^2) - 4*x/((x^2 + y)*y) + 4)*(x/((x^2 + y)*y) - 4*x^2/(y^2*(x/((x^2 + y)*y) - 2)))) + 8*x^2/(y^3*(x/((x^2 + y)*y) - 4*x^2/(y^2*(x/((x^2 + y)*y) - 2)))*(x/((x^2 + y)*y) - 2)) - 2/((x^2 + y)^2*(x^2/((x^2 + y)^2*y^2) + 16*x^4/(y^4*(x/((x^2 + y)*y) - 2)^2) - 8*x^3/((x^2 + y)*y^3*(x/((x^2 + y)*y) - 2)))) + 8*x/((x^2 + y)*y*(x/((x^2 + y)*y) - 2)*(x^2/((x^2 + y)^2*y^2) + 16*x^4/(y^4*(x/((x^2 + y)*y) - 2)^2) - 8*x^3/((x^2 + y)*y^3*(x/((x^2 + y)*y) - 2)))) + 4/((x^2 + y)*y*(x/((x^2 + y)*y) - 4*x^2/(y^2*(x/((x^2 + y)*y) - 2)))^2) - 4*x^3/((x^2 + y)*y^4*(x^2/((x^4 + 2*x^2*y + y^2)*y^2) - 4*x/((x^2 + y)*y) + 4)*(x/((x^2 + y)*y) - 4*x^2/(y^2*(x/((x^2 + y)*y) - 2)))) - 32*x/(y^2*(x/((x^2 + y)*y) - 4*x^2/(y^2*(x/((x^2 + y)*y) - 2)))^2*(x/((x^2 + y)*y) - 2)) + 16*x^2/((x^2 + y)*y^3*(x^2/((x^4 + 2*x^2*y + y^2)*y^2) - 4*x/((x^2 + y)*y) + 4)*(x/((x^2 + y)*y) - 4*x^2/(y^2*(x/((x^2 + y)*y) - 2)))^2)) * diff(z(x, y), y) + (2/(y^2*(x/((x^2 + y)*y) - 4*x^2/(y^2*(x/((x^2 + y)*y) - 2)))) + 4/((x^2 + y)*x*(x^2/((x^2 + y)^2*y^2) + 16*x^4/(y^4*(x/((x^2 + y)*y) - 2)^2) - 8*x^3/((x^2 + y)*y^3*(x/((x^2 + y)*y) - 2)))) - 4/((x^2 + y)*x*(x/((x^2 + y)*y) - 4*x^2/(y^2*(x/((x^2 + y)*y) - 2)))^2)) * w(x, y), [], []'\n",
      "   str(e2)='diff(w(x, y), y) + (1/2*x/((x^2 + y)*y)) * diff(z(x, y), y) + (-1/y) * w(x, y), [], []'\n",
      "   ===> subtract, *-2/(y*(x/((x^2 + y)*y) - 4*x^2/(y^2*(x/((x^2 + y)*y) - 2))))\n",
      "after creation of DP\n",
      "===> str(_)='diff(z(x, y), y, y)',  (0, 2, 0, 1)\n",
      "===> str(_)='(-8/(x*(x^2/((x^2 + y)^2*y^2) + 16*x^4/(y^4*(x/((x^2 + y)*y) - 2)^2) - 8*x^3/((x^2 + y)*y^3*(x/((x^2 + y)*y) - 2))))) * diff(w(x, y), x)',  (1, 0, 1, 0)\n",
      "===> str(_)='(-8*x/((x^4 + 2*x^2*y + y^2)*(x^2/((x^2 + y)^2*y^2) + 16*x^4/(y^4*(x/((x^2 + y)*y) - 2)^2) - 8*x^3/((x^2 + y)*y^3*(x/((x^2 + y)*y) - 2)))) + x/((x^2 + y)*y^2*(x/((x^2 + y)*y) - 4*x^2/(y^2*(x/((x^2 + y)*y) - 2))))) * diff(z(x, y), y)',  (0, 1, 0, 1)\n",
      "  after _reduce_inner: \n"
     ]
    },
    {
     "data": {
      "text/latex": [
       "$\\displaystyle  z_{y,y} + (-\\frac{8 \\, {\\left(x^{7} y + 4 \\, {\\left(4 \\, x^{2} + x\\right)} y^{7} + 4 \\, y^{8} + 4 \\, {\\left(6 \\, x^{4} + 4 \\, x^{3} - x\\right)} y^{6} + 4 \\, {\\left(4 \\, x^{6} + 6 \\, x^{5} - 3 \\, x^{3} - x^{2}\\right)} y^{5} + {\\left(4 \\, x^{8} + 16 \\, x^{7} - 12 \\, x^{5} - 12 \\, x^{4} + x^{2}\\right)} y^{4} + {\\left(4 \\, x^{9} - 4 \\, x^{7} - 12 \\, x^{6} + 2 \\, x^{4} + x^{3}\\right)} y^{3} - {\\left(4 \\, x^{8} - x^{6} - 2 \\, x^{5}\\right)} y^{2}\\right)}}{16 \\, x^{13} - 8 \\, x^{9} + x^{5} + 4 \\, {\\left(4 \\, x^{5} + 4 \\, x^{4} + x^{3}\\right)} y^{4} + 8 \\, {\\left(8 \\, x^{7} + 6 \\, x^{6} + x^{5}\\right)} y^{3} + 4 \\, {\\left(24 \\, x^{9} + 12 \\, x^{8} + x^{7} - 2 \\, x^{5} - x^{4}\\right)} y^{2} + 4 \\, {\\left(16 \\, x^{11} + 4 \\, x^{10} - 4 \\, x^{7} - x^{6}\\right)} y}) w_{x}-\\frac{2 \\, {\\left(4 \\, x^{2} y^{2} - x^{3} + 2 \\, y^{3} + {\\left(2 \\, x^{4} - x\\right)} y\\right)}}{4 \\, x^{6} + 2 \\, {\\left(2 \\, x^{2} + x\\right)} y^{2} - x^{2} + 2 \\, {\\left(4 \\, x^{4} + x^{3}\\right)} y} w_{y} + (\\frac{16 \\, x^{15} - 8 \\, x^{11} + 16 \\, {\\left(2 \\, x + 1\\right)} y^{10} + 32 \\, {\\left(11 \\, x^{3} + x^{2}\\right)} y^{9} + 8 \\, {\\left(152 \\, x^{5} - 4 \\, x^{4} + 4 \\, x^{2} - 3 \\, x\\right)} y^{8} + 8 \\, {\\left(248 \\, x^{7} - 16 \\, x^{6} - 24 \\, x^{4} - 11 \\, x^{3} - 2 \\, x^{2}\\right)} y^{7} + x^{7} + 4 \\, {\\left(424 \\, x^{9} - 28 \\, x^{8} - 280 \\, x^{6} - 58 \\, x^{5} - 14 \\, x^{4} - 10 \\, x^{3} + 3 \\, x^{2}\\right)} y^{6} + 8 \\, {\\left(92 \\, x^{11} - 4 \\, x^{10} - 260 \\, x^{8} - 57 \\, x^{7} - 9 \\, x^{6} - 3 \\, x^{5} + 6 \\, x^{4} + 3 \\, x^{3}\\right)} y^{5} + 2 \\, {\\left(64 \\, x^{13} - 992 \\, x^{10} - 248 \\, x^{9} - 20 \\, x^{8} + 68 \\, x^{7} + 74 \\, x^{6} + 30 \\, x^{5} + 4 \\, x^{4} - x^{3}\\right)} y^{4} - 2 \\, {\\left(560 \\, x^{12} + 128 \\, x^{11} + 4 \\, x^{10} - 108 \\, x^{9} - 120 \\, x^{8} - 24 \\, x^{7} - 4 \\, x^{6} + 3 \\, x^{5} + 6 \\, x^{4}\\right)} y^{3} - 2 \\, {\\left(192 \\, x^{14} + 24 \\, x^{13} - 72 \\, x^{11} - 84 \\, x^{10} - 6 \\, x^{9} + 10 \\, x^{7} + 9 \\, x^{6}\\right)} y^{2} - 2 \\, {\\left(32 \\, x^{16} - 32 \\, x^{13} - 20 \\, x^{12} + 12 \\, x^{9} + 3 \\, x^{8} - x^{5}\\right)} y}{8 \\, {\\left(4 \\, x^{4} + 4 \\, x^{3} + x^{2}\\right)} y^{8} + 32 \\, {\\left(6 \\, x^{6} + 5 \\, x^{5} + x^{4}\\right)} y^{7} + 4 \\, {\\left(120 \\, x^{8} + 80 \\, x^{7} + 12 \\, x^{6} - 4 \\, x^{5} - 8 \\, x^{4} - 3 \\, x^{3}\\right)} y^{6} + 4 \\, {\\left(160 \\, x^{10} + 80 \\, x^{9} + 8 \\, x^{8} - 20 \\, x^{7} - 32 \\, x^{6} - 9 \\, x^{5}\\right)} y^{5} + 2 \\, {\\left(240 \\, x^{12} + 80 \\, x^{11} + 4 \\, x^{10} - 80 \\, x^{9} - 96 \\, x^{8} - 18 \\, x^{7} + 4 \\, x^{5} + 3 \\, x^{4}\\right)} y^{4} + 4 \\, {\\left(48 \\, x^{14} + 8 \\, x^{13} - 40 \\, x^{11} - 32 \\, x^{10} - 3 \\, x^{9} + 6 \\, x^{7} + 3 \\, x^{6}\\right)} y^{3} + {\\left(32 \\, x^{16} - 80 \\, x^{13} - 32 \\, x^{12} + 24 \\, x^{9} + 6 \\, x^{8} - x^{5}\\right)} y^{2} - {\\left(16 \\, x^{15} - 8 \\, x^{11} + x^{7}\\right)} y}) z_{y} + (\\frac{2 \\, {\\left(4 \\, x^{2} y^{2} - x^{3} + 2 \\, y^{3} + {\\left(2 \\, x^{4} - x\\right)} y\\right)}}{2 \\, {\\left(2 \\, x^{2} + x\\right)} y^{3} + 2 \\, {\\left(4 \\, x^{4} + x^{3}\\right)} y^{2} + {\\left(4 \\, x^{6} - x^{2}\\right)} y}) w[], []$"
      ],
      "text/plain": [
       "<IPython.core.display.Math object>"
      ]
     },
     "metadata": {},
     "output_type": "display_data"
    },
    {
     "data": {
      "text/latex": [
       "$\\displaystyle  w_{y} + \\frac{x}{2 \\, {\\left(x^{2} y + y^{2}\\right)}} z_{y}-\\frac{1}{y} w[], []$"
      ],
      "text/plain": [
       "<IPython.core.display.Math object>"
      ]
     },
     "metadata": {},
     "output_type": "display_data"
    },
    {
     "data": {
      "text/latex": [
       "$\\displaystyle  z_{y,y}-\\frac{8 \\, {\\left(16 \\, x^{2} y^{7} + x^{6} y^{2} + 4 \\, y^{8} + 4 \\, {\\left(6 \\, x^{4} - x\\right)} y^{6} + 4 \\, {\\left(4 \\, x^{6} - 3 \\, x^{3}\\right)} y^{5} + {\\left(4 \\, x^{8} - 12 \\, x^{5} + x^{2}\\right)} y^{4} - 2 \\, {\\left(2 \\, x^{7} - x^{4}\\right)} y^{3}\\right)}}{16 \\, x^{13} - 8 \\, x^{9} + x^{5} + 4 \\, {\\left(4 \\, x^{5} + 4 \\, x^{4} + x^{3}\\right)} y^{4} + 8 \\, {\\left(8 \\, x^{7} + 6 \\, x^{6} + x^{5}\\right)} y^{3} + 4 \\, {\\left(24 \\, x^{9} + 12 \\, x^{8} + x^{7} - 2 \\, x^{5} - x^{4}\\right)} y^{2} + 4 \\, {\\left(16 \\, x^{11} + 4 \\, x^{10} - 4 \\, x^{7} - x^{6}\\right)} y} w_{x} + (-\\frac{64 \\, x^{2} y^{6} + 4 \\, x^{7} + 32 \\, y^{7} + 32 \\, {\\left(x^{4} - x\\right)} y^{5} - 4 \\, {\\left(8 \\, x^{3} + 2 \\, x^{2} + x\\right)} y^{4} - 8 \\, {\\left(3 \\, x^{4} + x^{3} - x^{2}\\right)} y^{3} - x^{3} - 4 \\, {\\left(6 \\, x^{6} + x^{5} - x^{3} - x^{2}\\right)} y^{2} - 4 \\, {\\left(2 \\, x^{8} - 2 \\, x^{5} - x^{4}\\right)} y}{4 \\, {\\left(4 \\, x^{3} + 4 \\, x^{2} + x\\right)} y^{5} + 8 \\, {\\left(8 \\, x^{5} + 6 \\, x^{4} + x^{3}\\right)} y^{4} + 4 \\, {\\left(24 \\, x^{7} + 12 \\, x^{6} + x^{5} - 2 \\, x^{3} - x^{2}\\right)} y^{3} + 4 \\, {\\left(16 \\, x^{9} + 4 \\, x^{8} - 4 \\, x^{5} - x^{4}\\right)} y^{2} + {\\left(16 \\, x^{11} - 8 \\, x^{7} + x^{3}\\right)} y}) z_{y}[], []$"
      ],
      "text/plain": [
       "<IPython.core.display.Math object>"
      ]
     },
     "metadata": {},
     "output_type": "display_data"
    },
    {
     "name": "stdout",
     "output_type": "stream",
     "text": [
      "reduce_inner\n",
      "str(t)='(-8/(x*(x^2/((x^2 + y)^2*y^2) + 16*x^4/(y^4*(x/((x^2 + y)*y) - 2)^2) - 8*x^3/((x^2 + y)*y^3*(x/((x^2 + y)*y) - 2))))) * diff(w(x, y), x)'\n",
      "   str(e1)='diff(z(x, y), y, y) + (-8/(x*(x^2/((x^2 + y)^2*y^2) + 16*x^4/(y^4*(x/((x^2 + y)*y) - 2)^2) - 8*x^3/((x^2 + y)*y^3*(x/((x^2 + y)*y) - 2))))) * diff(w(x, y), x) + (-8*x/((x^4 + 2*x^2*y + y^2)*(x^2/((x^2 + y)^2*y^2) + 16*x^4/(y^4*(x/((x^2 + y)*y) - 2)^2) - 8*x^3/((x^2 + y)*y^3*(x/((x^2 + y)*y) - 2)))) + x/((x^2 + y)*y^2*(x/((x^2 + y)*y) - 4*x^2/(y^2*(x/((x^2 + y)*y) - 2))))) * diff(z(x, y), y), [], []'\n",
      "   str(e2)='diff(w(x, y), y) + (1/2*x/((x^2 + y)*y)) * diff(z(x, y), y) + (-1/y) * w(x, y), [], []'\n",
      "nothing to reduce\n",
      "reduce_inner\n",
      "str(t)='diff(z(x, y), y, y)'\n",
      "   str(e1)='diff(z(x, y), y, y) + (-8/(x*(x^2/((x^2 + y)^2*y^2) + 16*x^4/(y^4*(x/((x^2 + y)*y) - 2)^2) - 8*x^3/((x^2 + y)*y^3*(x/((x^2 + y)*y) - 2))))) * diff(w(x, y), x) + (-8*x/((x^4 + 2*x^2*y + y^2)*(x^2/((x^2 + y)^2*y^2) + 16*x^4/(y^4*(x/((x^2 + y)*y) - 2)^2) - 8*x^3/((x^2 + y)*y^3*(x/((x^2 + y)*y) - 2)))) + x/((x^2 + y)*y^2*(x/((x^2 + y)*y) - 4*x^2/(y^2*(x/((x^2 + y)*y) - 2))))) * diff(z(x, y), y), [], []'\n",
      "   str(e2)='diff(z(x, y), x) + (-1/4*x*(1/(x^2 + y) - 4*x/(y*(x/((x^2 + y)*y) - 2)))/y) * diff(z(x, y), y) + (1/2/y) * w(x, y), [], []'\n",
      "str(t)='(-8*x/((x^4 + 2*x^2*y + y^2)*(x^2/((x^2 + y)^2*y^2) + 16*x^4/(y^4*(x/((x^2 + y)*y) - 2)^2) - 8*x^3/((x^2 + y)*y^3*(x/((x^2 + y)*y) - 2)))) + x/((x^2 + y)*y^2*(x/((x^2 + y)*y) - 4*x^2/(y^2*(x/((x^2 + y)*y) - 2))))) * diff(z(x, y), y)'\n",
      "   str(e1)='diff(z(x, y), y, y) + (-8/(x*(x^2/((x^2 + y)^2*y^2) + 16*x^4/(y^4*(x/((x^2 + y)*y) - 2)^2) - 8*x^3/((x^2 + y)*y^3*(x/((x^2 + y)*y) - 2))))) * diff(w(x, y), x) + (-8*x/((x^4 + 2*x^2*y + y^2)*(x^2/((x^2 + y)^2*y^2) + 16*x^4/(y^4*(x/((x^2 + y)*y) - 2)^2) - 8*x^3/((x^2 + y)*y^3*(x/((x^2 + y)*y) - 2)))) + x/((x^2 + y)*y^2*(x/((x^2 + y)*y) - 4*x^2/(y^2*(x/((x^2 + y)*y) - 2))))) * diff(z(x, y), y), [], []'\n",
      "   str(e2)='diff(z(x, y), x) + (-1/4*x*(1/(x^2 + y) - 4*x/(y*(x/((x^2 + y)*y) - 2)))/y) * diff(z(x, y), y) + (1/2/y) * w(x, y), [], []'\n",
      "nothing to reduce\n",
      "reduce_inner\n",
      "str(t)='(-8/(x*(x^2/((x^2 + y)^2*y^2) + 16*x^4/(y^4*(x/((x^2 + y)*y) - 2)^2) - 8*x^3/((x^2 + y)*y^3*(x/((x^2 + y)*y) - 2))))) * diff(w(x, y), x)'\n",
      "   str(e1)='diff(z(x, y), y, y) + (-8/(x*(x^2/((x^2 + y)^2*y^2) + 16*x^4/(y^4*(x/((x^2 + y)*y) - 2)^2) - 8*x^3/((x^2 + y)*y^3*(x/((x^2 + y)*y) - 2))))) * diff(w(x, y), x) + (-8*x/((x^4 + 2*x^2*y + y^2)*(x^2/((x^2 + y)^2*y^2) + 16*x^4/(y^4*(x/((x^2 + y)*y) - 2)^2) - 8*x^3/((x^2 + y)*y^3*(x/((x^2 + y)*y) - 2)))) + x/((x^2 + y)*y^2*(x/((x^2 + y)*y) - 4*x^2/(y^2*(x/((x^2 + y)*y) - 2))))) * diff(z(x, y), y), [], []'\n",
      "   str(e2)='diff(w(x, y), y) + (1/2*x/((x^2 + y)*y)) * diff(z(x, y), y) + (-1/y) * w(x, y), [], []'\n",
      "nothing to reduce\n",
      "AAAAAAAAAAAAAAAAAAAAAAAAAAAAAAAAAAAAAAAAAAAAAAAAAAAAAAAAAAAAAAAAAAAAAAAAAAAAAAAAAAAAAAAAAAAAAAAAAAA\n"
     ]
    },
    {
     "data": {
      "text/latex": [
       "$\\displaystyle  z_{x}-\\frac{4 \\, x^{6} + 2 \\, {\\left(2 \\, x^{2} + x\\right)} y^{2} - x^{2} + 2 \\, {\\left(4 \\, x^{4} + x^{3}\\right)} y}{4 \\, {\\left(4 \\, x^{2} y^{3} - x^{3} y + 2 \\, y^{4} + {\\left(2 \\, x^{4} - x\\right)} y^{2}\\right)}} z_{y}+\\frac{1}{2 \\, y} w$"
      ],
      "text/plain": [
       "<IPython.core.display.Math object>"
      ]
     },
     "metadata": {},
     "output_type": "display_data"
    },
    {
     "data": {
      "text/latex": [
       "$\\displaystyle  w_{y}+\\frac{x}{2 \\, {\\left(x^{2} y + y^{2}\\right)}} z_{y}-\\frac{1}{y} w$"
      ],
      "text/plain": [
       "<IPython.core.display.Math object>"
      ]
     },
     "metadata": {},
     "output_type": "display_data"
    },
    {
     "data": {
      "text/latex": [
       "$\\displaystyle  z_{y,y}+(\\frac{12 \\, x^{2} y^{3} + 4 \\, y^{4} + 2 \\, {\\left(6 \\, x^{4} - 1\\right)} y^{2} + 2 \\, {\\left(2 \\, x^{6} - x^{2}\\right)} y + x}{4 \\, x^{2} y^{2} - x^{3} + 2 \\, y^{3} + {\\left(2 \\, x^{4} - x\\right)} y}) z_{y}$"
      ],
      "text/plain": [
       "<IPython.core.display.Math object>"
      ]
     },
     "metadata": {},
     "output_type": "display_data"
    },
    {
     "data": {
      "text/latex": [
       "$\\displaystyle  z_{y,y}+(\\frac{2 \\, x^{4} y + 2 \\, x^{2} y^{2} - x^{3}}{2 \\, {\\left(2 \\, x + 1\\right)} y^{4} + 4 \\, {\\left(3 \\, x^{3} + x^{2}\\right)} y^{3} + {\\left(12 \\, x^{5} + 2 \\, x^{4} - x\\right)} y^{2} + {\\left(4 \\, x^{7} - x^{3}\\right)} y}) z_{y}$"
      ],
      "text/plain": [
       "<IPython.core.display.Math object>"
      ]
     },
     "metadata": {},
     "output_type": "display_data"
    },
    {
     "data": {
      "text/latex": [
       "$\\displaystyle  z_{y,y}-\\frac{8 \\, {\\left(16 \\, x^{2} y^{7} + x^{6} y^{2} + 4 \\, y^{8} + 4 \\, {\\left(6 \\, x^{4} - x\\right)} y^{6} + 4 \\, {\\left(4 \\, x^{6} - 3 \\, x^{3}\\right)} y^{5} + {\\left(4 \\, x^{8} - 12 \\, x^{5} + x^{2}\\right)} y^{4} - 2 \\, {\\left(2 \\, x^{7} - x^{4}\\right)} y^{3}\\right)}}{16 \\, x^{13} - 8 \\, x^{9} + x^{5} + 4 \\, {\\left(4 \\, x^{5} + 4 \\, x^{4} + x^{3}\\right)} y^{4} + 8 \\, {\\left(8 \\, x^{7} + 6 \\, x^{6} + x^{5}\\right)} y^{3} + 4 \\, {\\left(24 \\, x^{9} + 12 \\, x^{8} + x^{7} - 2 \\, x^{5} - x^{4}\\right)} y^{2} + 4 \\, {\\left(16 \\, x^{11} + 4 \\, x^{10} - 4 \\, x^{7} - x^{6}\\right)} y} w_{x}+(\\frac{64 \\, x^{2} y^{6} + 4 \\, x^{7} + 32 \\, y^{7} + 32 \\, {\\left(x^{4} - x\\right)} y^{5} - 4 \\, {\\left(8 \\, x^{3} + 2 \\, x^{2} + x\\right)} y^{4} - 8 \\, {\\left(3 \\, x^{4} + x^{3} - x^{2}\\right)} y^{3} - x^{3} - 4 \\, {\\left(6 \\, x^{6} + x^{5} - x^{3} - x^{2}\\right)} y^{2} - 4 \\, {\\left(2 \\, x^{8} - 2 \\, x^{5} - x^{4}\\right)} y}{4 \\, {\\left(4 \\, x^{3} + 4 \\, x^{2} + x\\right)} y^{5} + 8 \\, {\\left(8 \\, x^{5} + 6 \\, x^{4} + x^{3}\\right)} y^{4} + 4 \\, {\\left(24 \\, x^{7} + 12 \\, x^{6} + x^{5} - 2 \\, x^{3} - x^{2}\\right)} y^{3} + 4 \\, {\\left(16 \\, x^{9} + 4 \\, x^{8} - 4 \\, x^{5} - x^{4}\\right)} y^{2} + {\\left(16 \\, x^{11} - 8 \\, x^{7} + x^{3}\\right)} y}) z_{y}$"
      ],
      "text/plain": [
       "<IPython.core.display.Math object>"
      ]
     },
     "metadata": {},
     "output_type": "display_data"
    },
    {
     "name": "stdout",
     "output_type": "stream",
     "text": [
      "reduce_inner\n",
      "str(t)='(1/2*x/((x^2 + y)*y)) * diff(z(x, y), y)'\n",
      "   str(e1)='diff(w(x, y), y) + (1/2*x/((x^2 + y)*y)) * diff(z(x, y), y) + (-1/y) * w(x, y), [], []'\n",
      "   str(e2)='diff(z(x, y), x) + (-1/4*x*(1/(x^2 + y) - 4*x/(y*(x/((x^2 + y)*y) - 2)))/y) * diff(z(x, y), y) + (1/2/y) * w(x, y), [], []'\n",
      "nothing to reduce\n",
      "reduce_inner\n",
      "str(t)='diff(z(x, y), y, y)'\n",
      "   str(e1)='diff(z(x, y), y, y) + (-x^2/(x^4 + 2*x^2*y + y^2) - 4*x^2/(x/((x^2 + y)*y) - 2) - y/(x^4 + 2*x^2*y + y^2) - 4*y/(x/((x^2 + y)*y) - 2)) * diff(z(x, y), y), [], []'\n",
      "   str(e2)='diff(z(x, y), x) + (-1/4*x*(1/(x^2 + y) - 4*x/(y*(x/((x^2 + y)*y) - 2)))/y) * diff(z(x, y), y) + (1/2/y) * w(x, y), [], []'\n",
      "str(t)='(-x^2/(x^4 + 2*x^2*y + y^2) - 4*x^2/(x/((x^2 + y)*y) - 2) - y/(x^4 + 2*x^2*y + y^2) - 4*y/(x/((x^2 + y)*y) - 2)) * diff(z(x, y), y)'\n",
      "   str(e1)='diff(z(x, y), y, y) + (-x^2/(x^4 + 2*x^2*y + y^2) - 4*x^2/(x/((x^2 + y)*y) - 2) - y/(x^4 + 2*x^2*y + y^2) - 4*y/(x/((x^2 + y)*y) - 2)) * diff(z(x, y), y), [], []'\n",
      "   str(e2)='diff(z(x, y), x) + (-1/4*x*(1/(x^2 + y) - 4*x/(y*(x/((x^2 + y)*y) - 2)))/y) * diff(z(x, y), y) + (1/2/y) * w(x, y), [], []'\n",
      "nothing to reduce\n",
      "reduce_inner\n",
      "str(t)='diff(z(x, y), y, y)'\n",
      "   str(e1)='diff(z(x, y), y, y) + (-x/((x^4 + 2*x^2*y + y^2)*y*(x/((x^2 + y)*y) - 4*x^2/(y^2*(x/((x^2 + y)*y) - 2)))) + x/((x^2 + y)*y^2*(x/((x^2 + y)*y) - 4*x^2/(y^2*(x/((x^2 + y)*y) - 2))))) * diff(z(x, y), y), [], []'\n",
      "   str(e2)='diff(z(x, y), x) + (-1/4*x*(1/(x^2 + y) - 4*x/(y*(x/((x^2 + y)*y) - 2)))/y) * diff(z(x, y), y) + (1/2/y) * w(x, y), [], []'\n",
      "str(t)='(-x/((x^4 + 2*x^2*y + y^2)*y*(x/((x^2 + y)*y) - 4*x^2/(y^2*(x/((x^2 + y)*y) - 2)))) + x/((x^2 + y)*y^2*(x/((x^2 + y)*y) - 4*x^2/(y^2*(x/((x^2 + y)*y) - 2))))) * diff(z(x, y), y)'\n",
      "   str(e1)='diff(z(x, y), y, y) + (-x/((x^4 + 2*x^2*y + y^2)*y*(x/((x^2 + y)*y) - 4*x^2/(y^2*(x/((x^2 + y)*y) - 2)))) + x/((x^2 + y)*y^2*(x/((x^2 + y)*y) - 4*x^2/(y^2*(x/((x^2 + y)*y) - 2))))) * diff(z(x, y), y), [], []'\n",
      "   str(e2)='diff(z(x, y), x) + (-1/4*x*(1/(x^2 + y) - 4*x/(y*(x/((x^2 + y)*y) - 2)))/y) * diff(z(x, y), y) + (1/2/y) * w(x, y), [], []'\n",
      "nothing to reduce\n",
      "reduce_inner\n",
      "str(t)='diff(z(x, y), y, y)'\n",
      "   str(e1)='diff(z(x, y), y, y) + (-8/(x*(x^2/((x^2 + y)^2*y^2) + 16*x^4/(y^4*(x/((x^2 + y)*y) - 2)^2) - 8*x^3/((x^2 + y)*y^3*(x/((x^2 + y)*y) - 2))))) * diff(w(x, y), x) + (-8*x/((x^4 + 2*x^2*y + y^2)*(x^2/((x^2 + y)^2*y^2) + 16*x^4/(y^4*(x/((x^2 + y)*y) - 2)^2) - 8*x^3/((x^2 + y)*y^3*(x/((x^2 + y)*y) - 2)))) + x/((x^2 + y)*y^2*(x/((x^2 + y)*y) - 4*x^2/(y^2*(x/((x^2 + y)*y) - 2))))) * diff(z(x, y), y), [], []'\n",
      "   str(e2)='diff(z(x, y), x) + (-1/4*x*(1/(x^2 + y) - 4*x/(y*(x/((x^2 + y)*y) - 2)))/y) * diff(z(x, y), y) + (1/2/y) * w(x, y), [], []'\n",
      "str(t)='(-8*x/((x^4 + 2*x^2*y + y^2)*(x^2/((x^2 + y)^2*y^2) + 16*x^4/(y^4*(x/((x^2 + y)*y) - 2)^2) - 8*x^3/((x^2 + y)*y^3*(x/((x^2 + y)*y) - 2)))) + x/((x^2 + y)*y^2*(x/((x^2 + y)*y) - 4*x^2/(y^2*(x/((x^2 + y)*y) - 2))))) * diff(z(x, y), y)'\n",
      "   str(e1)='diff(z(x, y), y, y) + (-8/(x*(x^2/((x^2 + y)^2*y^2) + 16*x^4/(y^4*(x/((x^2 + y)*y) - 2)^2) - 8*x^3/((x^2 + y)*y^3*(x/((x^2 + y)*y) - 2))))) * diff(w(x, y), x) + (-8*x/((x^4 + 2*x^2*y + y^2)*(x^2/((x^2 + y)^2*y^2) + 16*x^4/(y^4*(x/((x^2 + y)*y) - 2)^2) - 8*x^3/((x^2 + y)*y^3*(x/((x^2 + y)*y) - 2)))) + x/((x^2 + y)*y^2*(x/((x^2 + y)*y) - 4*x^2/(y^2*(x/((x^2 + y)*y) - 2))))) * diff(z(x, y), y), [], []'\n",
      "   str(e2)='diff(z(x, y), x) + (-1/4*x*(1/(x^2 + y) - 4*x/(y*(x/((x^2 + y)*y) - 2)))/y) * diff(z(x, y), y) + (1/2/y) * w(x, y), [], []'\n",
      "nothing to reduce\n",
      "AAAAAAAAAAAAAAAAAAAAAAAAAAAAAAAAAAAAAAAAAAAAAAAAAAAAAAAAAAAAAAAAAAAAAAAAAAAAAAAAAAAAAAAAAAAAAAAAAAA\n"
     ]
    },
    {
     "data": {
      "text/latex": [
       "$\\displaystyle  z_{x}-\\frac{4 \\, x^{6} + 2 \\, {\\left(2 \\, x^{2} + x\\right)} y^{2} - x^{2} + 2 \\, {\\left(4 \\, x^{4} + x^{3}\\right)} y}{4 \\, {\\left(4 \\, x^{2} y^{3} - x^{3} y + 2 \\, y^{4} + {\\left(2 \\, x^{4} - x\\right)} y^{2}\\right)}} z_{y}+\\frac{1}{2 \\, y} w$"
      ],
      "text/plain": [
       "<IPython.core.display.Math object>"
      ]
     },
     "metadata": {},
     "output_type": "display_data"
    },
    {
     "data": {
      "text/latex": [
       "$\\displaystyle  w_{y}+\\frac{x}{2 \\, {\\left(x^{2} y + y^{2}\\right)}} z_{y}-\\frac{1}{y} w$"
      ],
      "text/plain": [
       "<IPython.core.display.Math object>"
      ]
     },
     "metadata": {},
     "output_type": "display_data"
    },
    {
     "data": {
      "text/latex": [
       "$\\displaystyle  z_{y,y}+(\\frac{12 \\, x^{2} y^{3} + 4 \\, y^{4} + 2 \\, {\\left(6 \\, x^{4} - 1\\right)} y^{2} + 2 \\, {\\left(2 \\, x^{6} - x^{2}\\right)} y + x}{4 \\, x^{2} y^{2} - x^{3} + 2 \\, y^{3} + {\\left(2 \\, x^{4} - x\\right)} y}) z_{y}$"
      ],
      "text/plain": [
       "<IPython.core.display.Math object>"
      ]
     },
     "metadata": {},
     "output_type": "display_data"
    },
    {
     "data": {
      "text/latex": [
       "$\\displaystyle  z_{y,y}+(\\frac{2 \\, x^{4} y + 2 \\, x^{2} y^{2} - x^{3}}{2 \\, {\\left(2 \\, x + 1\\right)} y^{4} + 4 \\, {\\left(3 \\, x^{3} + x^{2}\\right)} y^{3} + {\\left(12 \\, x^{5} + 2 \\, x^{4} - x\\right)} y^{2} + {\\left(4 \\, x^{7} - x^{3}\\right)} y}) z_{y}$"
      ],
      "text/plain": [
       "<IPython.core.display.Math object>"
      ]
     },
     "metadata": {},
     "output_type": "display_data"
    },
    {
     "data": {
      "text/latex": [
       "$\\displaystyle  z_{y,y}-\\frac{8 \\, {\\left(16 \\, x^{2} y^{7} + x^{6} y^{2} + 4 \\, y^{8} + 4 \\, {\\left(6 \\, x^{4} - x\\right)} y^{6} + 4 \\, {\\left(4 \\, x^{6} - 3 \\, x^{3}\\right)} y^{5} + {\\left(4 \\, x^{8} - 12 \\, x^{5} + x^{2}\\right)} y^{4} - 2 \\, {\\left(2 \\, x^{7} - x^{4}\\right)} y^{3}\\right)}}{16 \\, x^{13} - 8 \\, x^{9} + x^{5} + 4 \\, {\\left(4 \\, x^{5} + 4 \\, x^{4} + x^{3}\\right)} y^{4} + 8 \\, {\\left(8 \\, x^{7} + 6 \\, x^{6} + x^{5}\\right)} y^{3} + 4 \\, {\\left(24 \\, x^{9} + 12 \\, x^{8} + x^{7} - 2 \\, x^{5} - x^{4}\\right)} y^{2} + 4 \\, {\\left(16 \\, x^{11} + 4 \\, x^{10} - 4 \\, x^{7} - x^{6}\\right)} y} w_{x}+(\\frac{64 \\, x^{2} y^{6} + 4 \\, x^{7} + 32 \\, y^{7} + 32 \\, {\\left(x^{4} - x\\right)} y^{5} - 4 \\, {\\left(8 \\, x^{3} + 2 \\, x^{2} + x\\right)} y^{4} - 8 \\, {\\left(3 \\, x^{4} + x^{3} - x^{2}\\right)} y^{3} - x^{3} - 4 \\, {\\left(6 \\, x^{6} + x^{5} - x^{3} - x^{2}\\right)} y^{2} - 4 \\, {\\left(2 \\, x^{8} - 2 \\, x^{5} - x^{4}\\right)} y}{4 \\, {\\left(4 \\, x^{3} + 4 \\, x^{2} + x\\right)} y^{5} + 8 \\, {\\left(8 \\, x^{5} + 6 \\, x^{4} + x^{3}\\right)} y^{4} + 4 \\, {\\left(24 \\, x^{7} + 12 \\, x^{6} + x^{5} - 2 \\, x^{3} - x^{2}\\right)} y^{3} + 4 \\, {\\left(16 \\, x^{9} + 4 \\, x^{8} - 4 \\, x^{5} - x^{4}\\right)} y^{2} + {\\left(16 \\, x^{11} - 8 \\, x^{7} + x^{3}\\right)} y}) z_{y}$"
      ],
      "text/plain": [
       "<IPython.core.display.Math object>"
      ]
     },
     "metadata": {},
     "output_type": "display_data"
    },
    {
     "name": "stdout",
     "output_type": "stream",
     "text": [
      "reduce_inner\n",
      "str(t)='diff(z(x, y), y, y)'\n",
      "   str(e1)='diff(z(x, y), y, y) + (-x^2/(x^4 + 2*x^2*y + y^2) - 4*x^2/(x/((x^2 + y)*y) - 2) - y/(x^4 + 2*x^2*y + y^2) - 4*y/(x/((x^2 + y)*y) - 2)) * diff(z(x, y), y), [], []'\n",
      "   str(e2)='diff(z(x, y), x) + (-1/4*x*(1/(x^2 + y) - 4*x/(y*(x/((x^2 + y)*y) - 2)))/y) * diff(z(x, y), y) + (1/2/y) * w(x, y), [], []'\n",
      "str(t)='(-x^2/(x^4 + 2*x^2*y + y^2) - 4*x^2/(x/((x^2 + y)*y) - 2) - y/(x^4 + 2*x^2*y + y^2) - 4*y/(x/((x^2 + y)*y) - 2)) * diff(z(x, y), y)'\n",
      "   str(e1)='diff(z(x, y), y, y) + (-x^2/(x^4 + 2*x^2*y + y^2) - 4*x^2/(x/((x^2 + y)*y) - 2) - y/(x^4 + 2*x^2*y + y^2) - 4*y/(x/((x^2 + y)*y) - 2)) * diff(z(x, y), y), [], []'\n",
      "   str(e2)='diff(z(x, y), x) + (-1/4*x*(1/(x^2 + y) - 4*x/(y*(x/((x^2 + y)*y) - 2)))/y) * diff(z(x, y), y) + (1/2/y) * w(x, y), [], []'\n",
      "nothing to reduce\n",
      "reduce_inner\n",
      "nothing to reduce\n",
      "reduce_inner\n",
      "str(t)='diff(z(x, y), y, y)'\n",
      "   str(e1)='diff(z(x, y), y, y) + (-x/((x^4 + 2*x^2*y + y^2)*y*(x/((x^2 + y)*y) - 4*x^2/(y^2*(x/((x^2 + y)*y) - 2)))) + x/((x^2 + y)*y^2*(x/((x^2 + y)*y) - 4*x^2/(y^2*(x/((x^2 + y)*y) - 2))))) * diff(z(x, y), y), [], []'\n",
      "   str(e2)='diff(z(x, y), x) + (-1/4*x*(1/(x^2 + y) - 4*x/(y*(x/((x^2 + y)*y) - 2)))/y) * diff(z(x, y), y) + (1/2/y) * w(x, y), [], []'\n",
      "str(t)='(-x/((x^4 + 2*x^2*y + y^2)*y*(x/((x^2 + y)*y) - 4*x^2/(y^2*(x/((x^2 + y)*y) - 2)))) + x/((x^2 + y)*y^2*(x/((x^2 + y)*y) - 4*x^2/(y^2*(x/((x^2 + y)*y) - 2))))) * diff(z(x, y), y)'\n",
      "   str(e1)='diff(z(x, y), y, y) + (-x/((x^4 + 2*x^2*y + y^2)*y*(x/((x^2 + y)*y) - 4*x^2/(y^2*(x/((x^2 + y)*y) - 2)))) + x/((x^2 + y)*y^2*(x/((x^2 + y)*y) - 4*x^2/(y^2*(x/((x^2 + y)*y) - 2))))) * diff(z(x, y), y), [], []'\n",
      "   str(e2)='diff(z(x, y), x) + (-1/4*x*(1/(x^2 + y) - 4*x/(y*(x/((x^2 + y)*y) - 2)))/y) * diff(z(x, y), y) + (1/2/y) * w(x, y), [], []'\n",
      "nothing to reduce\n",
      "reduce_inner\n",
      "nothing to reduce\n",
      "reduce_inner\n",
      "str(t)='diff(z(x, y), y, y)'\n",
      "   str(e1)='diff(z(x, y), y, y) + (-8/(x*(x^2/((x^2 + y)^2*y^2) + 16*x^4/(y^4*(x/((x^2 + y)*y) - 2)^2) - 8*x^3/((x^2 + y)*y^3*(x/((x^2 + y)*y) - 2))))) * diff(w(x, y), x) + (-8*x/((x^4 + 2*x^2*y + y^2)*(x^2/((x^2 + y)^2*y^2) + 16*x^4/(y^4*(x/((x^2 + y)*y) - 2)^2) - 8*x^3/((x^2 + y)*y^3*(x/((x^2 + y)*y) - 2)))) + x/((x^2 + y)*y^2*(x/((x^2 + y)*y) - 4*x^2/(y^2*(x/((x^2 + y)*y) - 2))))) * diff(z(x, y), y), [], []'\n",
      "   str(e2)='diff(z(x, y), x) + (-1/4*x*(1/(x^2 + y) - 4*x/(y*(x/((x^2 + y)*y) - 2)))/y) * diff(z(x, y), y) + (1/2/y) * w(x, y), [], []'\n",
      "str(t)='(-8*x/((x^4 + 2*x^2*y + y^2)*(x^2/((x^2 + y)^2*y^2) + 16*x^4/(y^4*(x/((x^2 + y)*y) - 2)^2) - 8*x^3/((x^2 + y)*y^3*(x/((x^2 + y)*y) - 2)))) + x/((x^2 + y)*y^2*(x/((x^2 + y)*y) - 4*x^2/(y^2*(x/((x^2 + y)*y) - 2))))) * diff(z(x, y), y)'\n",
      "   str(e1)='diff(z(x, y), y, y) + (-8/(x*(x^2/((x^2 + y)^2*y^2) + 16*x^4/(y^4*(x/((x^2 + y)*y) - 2)^2) - 8*x^3/((x^2 + y)*y^3*(x/((x^2 + y)*y) - 2))))) * diff(w(x, y), x) + (-8*x/((x^4 + 2*x^2*y + y^2)*(x^2/((x^2 + y)^2*y^2) + 16*x^4/(y^4*(x/((x^2 + y)*y) - 2)^2) - 8*x^3/((x^2 + y)*y^3*(x/((x^2 + y)*y) - 2)))) + x/((x^2 + y)*y^2*(x/((x^2 + y)*y) - 4*x^2/(y^2*(x/((x^2 + y)*y) - 2))))) * diff(z(x, y), y), [], []'\n",
      "   str(e2)='diff(z(x, y), x) + (-1/4*x*(1/(x^2 + y) - 4*x/(y*(x/((x^2 + y)*y) - 2)))/y) * diff(z(x, y), y) + (1/2/y) * w(x, y), [], []'\n",
      "nothing to reduce\n",
      "reduce_inner\n",
      "str(t)='(-8/(x*(x^2/((x^2 + y)^2*y^2) + 16*x^4/(y^4*(x/((x^2 + y)*y) - 2)^2) - 8*x^3/((x^2 + y)*y^3*(x/((x^2 + y)*y) - 2))))) * diff(w(x, y), x)'\n",
      "   str(e1)='diff(z(x, y), y, y) + (-8/(x*(x^2/((x^2 + y)^2*y^2) + 16*x^4/(y^4*(x/((x^2 + y)*y) - 2)^2) - 8*x^3/((x^2 + y)*y^3*(x/((x^2 + y)*y) - 2))))) * diff(w(x, y), x) + (-8*x/((x^4 + 2*x^2*y + y^2)*(x^2/((x^2 + y)^2*y^2) + 16*x^4/(y^4*(x/((x^2 + y)*y) - 2)^2) - 8*x^3/((x^2 + y)*y^3*(x/((x^2 + y)*y) - 2)))) + x/((x^2 + y)*y^2*(x/((x^2 + y)*y) - 4*x^2/(y^2*(x/((x^2 + y)*y) - 2))))) * diff(z(x, y), y), [], []'\n",
      "   str(e2)='diff(w(x, y), y) + (1/2*x/((x^2 + y)*y)) * diff(z(x, y), y) + (-1/y) * w(x, y), [], []'\n",
      "nothing to reduce\n",
      "AAAAAAAAAAAAAAAAAAAAAAAAAAAAAAAAAAAAAAAAAAAAAAAAAAAAAAAAAAAAAAAAAAAAAAAAAAAAAAAAAAAAAAAAAAAAAAAAAAA\n"
     ]
    },
    {
     "data": {
      "text/latex": [
       "$\\displaystyle  z_{x}-\\frac{4 \\, x^{6} + 2 \\, {\\left(2 \\, x^{2} + x\\right)} y^{2} - x^{2} + 2 \\, {\\left(4 \\, x^{4} + x^{3}\\right)} y}{4 \\, {\\left(4 \\, x^{2} y^{3} - x^{3} y + 2 \\, y^{4} + {\\left(2 \\, x^{4} - x\\right)} y^{2}\\right)}} z_{y}+\\frac{1}{2 \\, y} w$"
      ],
      "text/plain": [
       "<IPython.core.display.Math object>"
      ]
     },
     "metadata": {},
     "output_type": "display_data"
    },
    {
     "data": {
      "text/latex": [
       "$\\displaystyle  w_{y}+\\frac{x}{2 \\, {\\left(x^{2} y + y^{2}\\right)}} z_{y}-\\frac{1}{y} w$"
      ],
      "text/plain": [
       "<IPython.core.display.Math object>"
      ]
     },
     "metadata": {},
     "output_type": "display_data"
    },
    {
     "data": {
      "text/latex": [
       "$\\displaystyle  z_{y,y}+(\\frac{12 \\, x^{2} y^{3} + 4 \\, y^{4} + 2 \\, {\\left(6 \\, x^{4} - 1\\right)} y^{2} + 2 \\, {\\left(2 \\, x^{6} - x^{2}\\right)} y + x}{4 \\, x^{2} y^{2} - x^{3} + 2 \\, y^{3} + {\\left(2 \\, x^{4} - x\\right)} y}) z_{y}$"
      ],
      "text/plain": [
       "<IPython.core.display.Math object>"
      ]
     },
     "metadata": {},
     "output_type": "display_data"
    },
    {
     "data": {
      "text/latex": [
       "$\\displaystyle  z_{y,y}+(\\frac{2 \\, x^{4} y + 2 \\, x^{2} y^{2} - x^{3}}{2 \\, {\\left(2 \\, x + 1\\right)} y^{4} + 4 \\, {\\left(3 \\, x^{3} + x^{2}\\right)} y^{3} + {\\left(12 \\, x^{5} + 2 \\, x^{4} - x\\right)} y^{2} + {\\left(4 \\, x^{7} - x^{3}\\right)} y}) z_{y}$"
      ],
      "text/plain": [
       "<IPython.core.display.Math object>"
      ]
     },
     "metadata": {},
     "output_type": "display_data"
    },
    {
     "data": {
      "text/latex": [
       "$\\displaystyle  z_{y,y}-\\frac{8 \\, {\\left(16 \\, x^{2} y^{7} + x^{6} y^{2} + 4 \\, y^{8} + 4 \\, {\\left(6 \\, x^{4} - x\\right)} y^{6} + 4 \\, {\\left(4 \\, x^{6} - 3 \\, x^{3}\\right)} y^{5} + {\\left(4 \\, x^{8} - 12 \\, x^{5} + x^{2}\\right)} y^{4} - 2 \\, {\\left(2 \\, x^{7} - x^{4}\\right)} y^{3}\\right)}}{16 \\, x^{13} - 8 \\, x^{9} + x^{5} + 4 \\, {\\left(4 \\, x^{5} + 4 \\, x^{4} + x^{3}\\right)} y^{4} + 8 \\, {\\left(8 \\, x^{7} + 6 \\, x^{6} + x^{5}\\right)} y^{3} + 4 \\, {\\left(24 \\, x^{9} + 12 \\, x^{8} + x^{7} - 2 \\, x^{5} - x^{4}\\right)} y^{2} + 4 \\, {\\left(16 \\, x^{11} + 4 \\, x^{10} - 4 \\, x^{7} - x^{6}\\right)} y} w_{x}+(\\frac{64 \\, x^{2} y^{6} + 4 \\, x^{7} + 32 \\, y^{7} + 32 \\, {\\left(x^{4} - x\\right)} y^{5} - 4 \\, {\\left(8 \\, x^{3} + 2 \\, x^{2} + x\\right)} y^{4} - 8 \\, {\\left(3 \\, x^{4} + x^{3} - x^{2}\\right)} y^{3} - x^{3} - 4 \\, {\\left(6 \\, x^{6} + x^{5} - x^{3} - x^{2}\\right)} y^{2} - 4 \\, {\\left(2 \\, x^{8} - 2 \\, x^{5} - x^{4}\\right)} y}{4 \\, {\\left(4 \\, x^{3} + 4 \\, x^{2} + x\\right)} y^{5} + 8 \\, {\\left(8 \\, x^{5} + 6 \\, x^{4} + x^{3}\\right)} y^{4} + 4 \\, {\\left(24 \\, x^{7} + 12 \\, x^{6} + x^{5} - 2 \\, x^{3} - x^{2}\\right)} y^{3} + 4 \\, {\\left(16 \\, x^{9} + 4 \\, x^{8} - 4 \\, x^{5} - x^{4}\\right)} y^{2} + {\\left(16 \\, x^{11} - 8 \\, x^{7} + x^{3}\\right)} y}) z_{y}$"
      ],
      "text/plain": [
       "<IPython.core.display.Math object>"
      ]
     },
     "metadata": {},
     "output_type": "display_data"
    },
    {
     "name": "stdout",
     "output_type": "stream",
     "text": [
      "reduce_inner\n",
      "str(t)='diff(z(x, y), y, y)'\n",
      "   str(e1)='diff(z(x, y), y, y) + (-x/((x^4 + 2*x^2*y + y^2)*y*(x/((x^2 + y)*y) - 4*x^2/(y^2*(x/((x^2 + y)*y) - 2)))) + x/((x^2 + y)*y^2*(x/((x^2 + y)*y) - 4*x^2/(y^2*(x/((x^2 + y)*y) - 2))))) * diff(z(x, y), y), [], []'\n",
      "   str(e2)='diff(z(x, y), x) + (-1/4*x*(1/(x^2 + y) - 4*x/(y*(x/((x^2 + y)*y) - 2)))/y) * diff(z(x, y), y) + (1/2/y) * w(x, y), [], []'\n",
      "str(t)='(-x/((x^4 + 2*x^2*y + y^2)*y*(x/((x^2 + y)*y) - 4*x^2/(y^2*(x/((x^2 + y)*y) - 2)))) + x/((x^2 + y)*y^2*(x/((x^2 + y)*y) - 4*x^2/(y^2*(x/((x^2 + y)*y) - 2))))) * diff(z(x, y), y)'\n",
      "   str(e1)='diff(z(x, y), y, y) + (-x/((x^4 + 2*x^2*y + y^2)*y*(x/((x^2 + y)*y) - 4*x^2/(y^2*(x/((x^2 + y)*y) - 2)))) + x/((x^2 + y)*y^2*(x/((x^2 + y)*y) - 4*x^2/(y^2*(x/((x^2 + y)*y) - 2))))) * diff(z(x, y), y), [], []'\n",
      "   str(e2)='diff(z(x, y), x) + (-1/4*x*(1/(x^2 + y) - 4*x/(y*(x/((x^2 + y)*y) - 2)))/y) * diff(z(x, y), y) + (1/2/y) * w(x, y), [], []'\n",
      "nothing to reduce\n",
      "reduce_inner\n",
      "nothing to reduce\n",
      "reduce_inner\n",
      "str(t)='diff(z(x, y), y, y)'\n",
      "   str(e1)='diff(z(x, y), y, y) + (-x/((x^4 + 2*x^2*y + y^2)*y*(x/((x^2 + y)*y) - 4*x^2/(y^2*(x/((x^2 + y)*y) - 2)))) + x/((x^2 + y)*y^2*(x/((x^2 + y)*y) - 4*x^2/(y^2*(x/((x^2 + y)*y) - 2))))) * diff(z(x, y), y), [], []'\n",
      "   str(e2)='diff(z(x, y), y, y) + (-x^2/(x^4 + 2*x^2*y + y^2) - 4*x^2/(x/((x^2 + y)*y) - 2) - y/(x^4 + 2*x^2*y + y^2) - 4*y/(x/((x^2 + y)*y) - 2)) * diff(z(x, y), y), [], []'\n",
      "   ===> subtract, *1\n",
      "after creation of DP\n",
      "===> str(_)='diff(z(x, y), y)',  (0, 1, 0, 1)\n",
      "  after _reduce_inner: \n"
     ]
    },
    {
     "data": {
      "text/latex": [
       "$\\displaystyle  z_{y,y} + (\\frac{2 \\, x^{4} y + 2 \\, x^{2} y^{2} - x^{3}}{2 \\, {\\left(2 \\, x + 1\\right)} y^{4} + 4 \\, {\\left(3 \\, x^{3} + x^{2}\\right)} y^{3} + {\\left(12 \\, x^{5} + 2 \\, x^{4} - x\\right)} y^{2} + {\\left(4 \\, x^{7} - x^{3}\\right)} y}) z_{y}[], []$"
      ],
      "text/plain": [
       "<IPython.core.display.Math object>"
      ]
     },
     "metadata": {},
     "output_type": "display_data"
    },
    {
     "data": {
      "text/latex": [
       "$\\displaystyle  z_{y,y} + (\\frac{12 \\, x^{2} y^{3} + 4 \\, y^{4} + 2 \\, {\\left(6 \\, x^{4} - 1\\right)} y^{2} + 2 \\, {\\left(2 \\, x^{6} - x^{2}\\right)} y + x}{4 \\, x^{2} y^{2} - x^{3} + 2 \\, y^{3} + {\\left(2 \\, x^{4} - x\\right)} y}) z_{y}[], []$"
      ],
      "text/plain": [
       "<IPython.core.display.Math object>"
      ]
     },
     "metadata": {},
     "output_type": "display_data"
    },
    {
     "data": {
      "text/latex": [
       "$\\displaystyle  z_{y}[], []$"
      ],
      "text/plain": [
       "<IPython.core.display.Math object>"
      ]
     },
     "metadata": {},
     "output_type": "display_data"
    },
    {
     "name": "stdout",
     "output_type": "stream",
     "text": [
      "reduce_inner\n",
      "str(t)='diff(z(x, y), y)'\n",
      "   str(e1)='diff(z(x, y), y), [], []'\n",
      "   str(e2)='diff(z(x, y), y, y) + (-x^2/(x^4 + 2*x^2*y + y^2) - 4*x^2/(x/((x^2 + y)*y) - 2) - y/(x^4 + 2*x^2*y + y^2) - 4*y/(x/((x^2 + y)*y) - 2)) * diff(z(x, y), y), [], []'\n",
      "nothing to reduce\n",
      "reduce_inner\n",
      "str(t)='diff(z(x, y), y)'\n",
      "   str(e1)='diff(z(x, y), y), [], []'\n",
      "   str(e2)='diff(z(x, y), x) + (-1/4*x*(1/(x^2 + y) - 4*x/(y*(x/((x^2 + y)*y) - 2)))/y) * diff(z(x, y), y) + (1/2/y) * w(x, y), [], []'\n",
      "nothing to reduce\n",
      "reduce_inner\n",
      "nothing to reduce\n",
      "reduce_inner\n",
      "str(t)='diff(z(x, y), y)'\n",
      "   str(e1)='diff(z(x, y), y), [], []'\n",
      "   str(e2)='diff(z(x, y), y, y) + (-x^2/(x^4 + 2*x^2*y + y^2) - 4*x^2/(x/((x^2 + y)*y) - 2) - y/(x^4 + 2*x^2*y + y^2) - 4*y/(x/((x^2 + y)*y) - 2)) * diff(z(x, y), y), [], []'\n",
      "nothing to reduce\n",
      "reduce_inner\n",
      "str(t)='diff(z(x, y), y, y)'\n",
      "   str(e1)='diff(z(x, y), y, y) + (-8/(x*(x^2/((x^2 + y)^2*y^2) + 16*x^4/(y^4*(x/((x^2 + y)*y) - 2)^2) - 8*x^3/((x^2 + y)*y^3*(x/((x^2 + y)*y) - 2))))) * diff(w(x, y), x) + (-8*x/((x^4 + 2*x^2*y + y^2)*(x^2/((x^2 + y)^2*y^2) + 16*x^4/(y^4*(x/((x^2 + y)*y) - 2)^2) - 8*x^3/((x^2 + y)*y^3*(x/((x^2 + y)*y) - 2)))) + x/((x^2 + y)*y^2*(x/((x^2 + y)*y) - 4*x^2/(y^2*(x/((x^2 + y)*y) - 2))))) * diff(z(x, y), y), [], []'\n",
      "   str(e2)='diff(z(x, y), x) + (-1/4*x*(1/(x^2 + y) - 4*x/(y*(x/((x^2 + y)*y) - 2)))/y) * diff(z(x, y), y) + (1/2/y) * w(x, y), [], []'\n",
      "str(t)='(-8*x/((x^4 + 2*x^2*y + y^2)*(x^2/((x^2 + y)^2*y^2) + 16*x^4/(y^4*(x/((x^2 + y)*y) - 2)^2) - 8*x^3/((x^2 + y)*y^3*(x/((x^2 + y)*y) - 2)))) + x/((x^2 + y)*y^2*(x/((x^2 + y)*y) - 4*x^2/(y^2*(x/((x^2 + y)*y) - 2))))) * diff(z(x, y), y)'\n",
      "   str(e1)='diff(z(x, y), y, y) + (-8/(x*(x^2/((x^2 + y)^2*y^2) + 16*x^4/(y^4*(x/((x^2 + y)*y) - 2)^2) - 8*x^3/((x^2 + y)*y^3*(x/((x^2 + y)*y) - 2))))) * diff(w(x, y), x) + (-8*x/((x^4 + 2*x^2*y + y^2)*(x^2/((x^2 + y)^2*y^2) + 16*x^4/(y^4*(x/((x^2 + y)*y) - 2)^2) - 8*x^3/((x^2 + y)*y^3*(x/((x^2 + y)*y) - 2)))) + x/((x^2 + y)*y^2*(x/((x^2 + y)*y) - 4*x^2/(y^2*(x/((x^2 + y)*y) - 2))))) * diff(z(x, y), y), [], []'\n",
      "   str(e2)='diff(z(x, y), x) + (-1/4*x*(1/(x^2 + y) - 4*x/(y*(x/((x^2 + y)*y) - 2)))/y) * diff(z(x, y), y) + (1/2/y) * w(x, y), [], []'\n",
      "nothing to reduce\n",
      "reduce_inner\n",
      "str(t)='(-8/(x*(x^2/((x^2 + y)^2*y^2) + 16*x^4/(y^4*(x/((x^2 + y)*y) - 2)^2) - 8*x^3/((x^2 + y)*y^3*(x/((x^2 + y)*y) - 2))))) * diff(w(x, y), x)'\n",
      "   str(e1)='diff(z(x, y), y, y) + (-8/(x*(x^2/((x^2 + y)^2*y^2) + 16*x^4/(y^4*(x/((x^2 + y)*y) - 2)^2) - 8*x^3/((x^2 + y)*y^3*(x/((x^2 + y)*y) - 2))))) * diff(w(x, y), x) + (-8*x/((x^4 + 2*x^2*y + y^2)*(x^2/((x^2 + y)^2*y^2) + 16*x^4/(y^4*(x/((x^2 + y)*y) - 2)^2) - 8*x^3/((x^2 + y)*y^3*(x/((x^2 + y)*y) - 2)))) + x/((x^2 + y)*y^2*(x/((x^2 + y)*y) - 4*x^2/(y^2*(x/((x^2 + y)*y) - 2))))) * diff(z(x, y), y), [], []'\n",
      "   str(e2)='diff(w(x, y), y) + (1/2*x/((x^2 + y)*y)) * diff(z(x, y), y) + (-1/y) * w(x, y), [], []'\n",
      "nothing to reduce\n",
      "reduce_inner\n",
      "str(t)='diff(z(x, y), y, y)'\n",
      "   str(e1)='diff(z(x, y), y, y) + (-8/(x*(x^2/((x^2 + y)^2*y^2) + 16*x^4/(y^4*(x/((x^2 + y)*y) - 2)^2) - 8*x^3/((x^2 + y)*y^3*(x/((x^2 + y)*y) - 2))))) * diff(w(x, y), x) + (-8*x/((x^4 + 2*x^2*y + y^2)*(x^2/((x^2 + y)^2*y^2) + 16*x^4/(y^4*(x/((x^2 + y)*y) - 2)^2) - 8*x^3/((x^2 + y)*y^3*(x/((x^2 + y)*y) - 2)))) + x/((x^2 + y)*y^2*(x/((x^2 + y)*y) - 4*x^2/(y^2*(x/((x^2 + y)*y) - 2))))) * diff(z(x, y), y), [], []'\n",
      "   str(e2)='diff(z(x, y), y, y) + (-x^2/(x^4 + 2*x^2*y + y^2) - 4*x^2/(x/((x^2 + y)*y) - 2) - y/(x^4 + 2*x^2*y + y^2) - 4*y/(x/((x^2 + y)*y) - 2)) * diff(z(x, y), y), [], []'\n",
      "   ===> subtract, *1\n",
      "after creation of DP\n",
      "===> str(_)='diff(w(x, y), x)',  (1, 0, 1, 0)\n",
      "===> str(_)='(-1/8*x*(x^2/(x^4 + 2*x^2*y + y^2) - 8*x/((x^4 + 2*x^2*y + y^2)*(x^2/((x^2 + y)^2*y^2) + 16*x^4/(y^4*(x/((x^2 + y)*y) - 2)^2) - 8*x^3/((x^2 + y)*y^3*(x/((x^2 + y)*y) - 2)))))*(x^2/((x^2 + y)^2*y^2) + 16*x^4/(y^4*(x/((x^2 + y)*y) - 2)^2) - 8*x^3/((x^2 + y)*y^3*(x/((x^2 + y)*y) - 2)))) * diff(z(x, y), y)',  (0, 1, 0, 1)\n",
      "  after _reduce_inner: \n"
     ]
    },
    {
     "data": {
      "text/latex": [
       "$\\displaystyle  z_{y,y}-\\frac{8 \\, {\\left(16 \\, x^{2} y^{7} + x^{6} y^{2} + 4 \\, y^{8} + 4 \\, {\\left(6 \\, x^{4} - x\\right)} y^{6} + 4 \\, {\\left(4 \\, x^{6} - 3 \\, x^{3}\\right)} y^{5} + {\\left(4 \\, x^{8} - 12 \\, x^{5} + x^{2}\\right)} y^{4} - 2 \\, {\\left(2 \\, x^{7} - x^{4}\\right)} y^{3}\\right)}}{16 \\, x^{13} - 8 \\, x^{9} + x^{5} + 4 \\, {\\left(4 \\, x^{5} + 4 \\, x^{4} + x^{3}\\right)} y^{4} + 8 \\, {\\left(8 \\, x^{7} + 6 \\, x^{6} + x^{5}\\right)} y^{3} + 4 \\, {\\left(24 \\, x^{9} + 12 \\, x^{8} + x^{7} - 2 \\, x^{5} - x^{4}\\right)} y^{2} + 4 \\, {\\left(16 \\, x^{11} + 4 \\, x^{10} - 4 \\, x^{7} - x^{6}\\right)} y} w_{x} + (-\\frac{64 \\, x^{2} y^{6} + 4 \\, x^{7} + 32 \\, y^{7} + 32 \\, {\\left(x^{4} - x\\right)} y^{5} - 4 \\, {\\left(8 \\, x^{3} + 2 \\, x^{2} + x\\right)} y^{4} - 8 \\, {\\left(3 \\, x^{4} + x^{3} - x^{2}\\right)} y^{3} - x^{3} - 4 \\, {\\left(6 \\, x^{6} + x^{5} - x^{3} - x^{2}\\right)} y^{2} - 4 \\, {\\left(2 \\, x^{8} - 2 \\, x^{5} - x^{4}\\right)} y}{4 \\, {\\left(4 \\, x^{3} + 4 \\, x^{2} + x\\right)} y^{5} + 8 \\, {\\left(8 \\, x^{5} + 6 \\, x^{4} + x^{3}\\right)} y^{4} + 4 \\, {\\left(24 \\, x^{7} + 12 \\, x^{6} + x^{5} - 2 \\, x^{3} - x^{2}\\right)} y^{3} + 4 \\, {\\left(16 \\, x^{9} + 4 \\, x^{8} - 4 \\, x^{5} - x^{4}\\right)} y^{2} + {\\left(16 \\, x^{11} - 8 \\, x^{7} + x^{3}\\right)} y}) z_{y}[], []$"
      ],
      "text/plain": [
       "<IPython.core.display.Math object>"
      ]
     },
     "metadata": {},
     "output_type": "display_data"
    },
    {
     "data": {
      "text/latex": [
       "$\\displaystyle  z_{y,y} + (\\frac{12 \\, x^{2} y^{3} + 4 \\, y^{4} + 2 \\, {\\left(6 \\, x^{4} - 1\\right)} y^{2} + 2 \\, {\\left(2 \\, x^{6} - x^{2}\\right)} y + x}{4 \\, x^{2} y^{2} - x^{3} + 2 \\, y^{3} + {\\left(2 \\, x^{4} - x\\right)} y}) z_{y}[], []$"
      ],
      "text/plain": [
       "<IPython.core.display.Math object>"
      ]
     },
     "metadata": {},
     "output_type": "display_data"
    },
    {
     "data": {
      "text/latex": [
       "$\\displaystyle  w_{x}-\\frac{16 \\, x^{15} - 8 \\, x^{11} - 128 \\, x^{4} y^{7} - 32 \\, x^{2} y^{8} + x^{7} - 32 \\, {\\left(6 \\, x^{6} - x^{3}\\right)} y^{6} - 32 \\, {\\left(4 \\, x^{8} - 3 \\, x^{5}\\right)} y^{5} - 4 \\, {\\left(8 \\, x^{10} - 28 \\, x^{7} - 4 \\, x^{6} - x^{5} + 2 \\, x^{4}\\right)} y^{4} + 8 \\, {\\left(12 \\, x^{9} + 6 \\, x^{8} + x^{7} - 2 \\, x^{6}\\right)} y^{3} + 4 \\, {\\left(24 \\, x^{11} + 12 \\, x^{10} + x^{9} - 2 \\, x^{8} - 2 \\, x^{7} - x^{6}\\right)} y^{2} + 4 \\, {\\left(16 \\, x^{13} + 4 \\, x^{12} - 4 \\, x^{9} - x^{8}\\right)} y}{8 \\, {\\left(x^{10} y^{2} + 24 \\, x^{2} y^{9} + 4 \\, y^{10} + 4 \\, {\\left(15 \\, x^{4} - x\\right)} y^{8} + 20 \\, {\\left(4 \\, x^{6} - x^{3}\\right)} y^{7} + {\\left(60 \\, x^{8} - 40 \\, x^{5} + x^{2}\\right)} y^{6} + 4 \\, {\\left(6 \\, x^{10} - 10 \\, x^{7} + x^{4}\\right)} y^{5} + 2 \\, {\\left(2 \\, x^{12} - 10 \\, x^{9} + 3 \\, x^{6}\\right)} y^{4} - 4 \\, {\\left(x^{11} - x^{8}\\right)} y^{3}\\right)}} z_{y}[], []$"
      ],
      "text/plain": [
       "<IPython.core.display.Math object>"
      ]
     },
     "metadata": {},
     "output_type": "display_data"
    },
    {
     "name": "stdout",
     "output_type": "stream",
     "text": [
      "reduce_inner\n",
      "str(t)='(-1/8*x*(x^2/(x^4 + 2*x^2*y + y^2) - 8*x/((x^4 + 2*x^2*y + y^2)*(x^2/((x^2 + y)^2*y^2) + 16*x^4/(y^4*(x/((x^2 + y)*y) - 2)^2) - 8*x^3/((x^2 + y)*y^3*(x/((x^2 + y)*y) - 2)))))*(x^2/((x^2 + y)^2*y^2) + 16*x^4/(y^4*(x/((x^2 + y)*y) - 2)^2) - 8*x^3/((x^2 + y)*y^3*(x/((x^2 + y)*y) - 2)))) * diff(z(x, y), y)'\n",
      "   str(e1)='diff(w(x, y), x) + (-1/8*x*(x^2/(x^4 + 2*x^2*y + y^2) - 8*x/((x^4 + 2*x^2*y + y^2)*(x^2/((x^2 + y)^2*y^2) + 16*x^4/(y^4*(x/((x^2 + y)*y) - 2)^2) - 8*x^3/((x^2 + y)*y^3*(x/((x^2 + y)*y) - 2)))))*(x^2/((x^2 + y)^2*y^2) + 16*x^4/(y^4*(x/((x^2 + y)*y) - 2)^2) - 8*x^3/((x^2 + y)*y^3*(x/((x^2 + y)*y) - 2)))) * diff(z(x, y), y), [], []'\n",
      "   str(e2)='diff(z(x, y), y, y) + (-x^2/(x^4 + 2*x^2*y + y^2) - 4*x^2/(x/((x^2 + y)*y) - 2) - y/(x^4 + 2*x^2*y + y^2) - 4*y/(x/((x^2 + y)*y) - 2)) * diff(z(x, y), y), [], []'\n",
      "nothing to reduce\n",
      "reduce_inner\n",
      "str(t)='(-1/8*x*(x^2/(x^4 + 2*x^2*y + y^2) - 8*x/((x^4 + 2*x^2*y + y^2)*(x^2/((x^2 + y)^2*y^2) + 16*x^4/(y^4*(x/((x^2 + y)*y) - 2)^2) - 8*x^3/((x^2 + y)*y^3*(x/((x^2 + y)*y) - 2)))))*(x^2/((x^2 + y)^2*y^2) + 16*x^4/(y^4*(x/((x^2 + y)*y) - 2)^2) - 8*x^3/((x^2 + y)*y^3*(x/((x^2 + y)*y) - 2)))) * diff(z(x, y), y)'\n",
      "   str(e1)='diff(w(x, y), x) + (-1/8*x*(x^2/(x^4 + 2*x^2*y + y^2) - 8*x/((x^4 + 2*x^2*y + y^2)*(x^2/((x^2 + y)^2*y^2) + 16*x^4/(y^4*(x/((x^2 + y)*y) - 2)^2) - 8*x^3/((x^2 + y)*y^3*(x/((x^2 + y)*y) - 2)))))*(x^2/((x^2 + y)^2*y^2) + 16*x^4/(y^4*(x/((x^2 + y)*y) - 2)^2) - 8*x^3/((x^2 + y)*y^3*(x/((x^2 + y)*y) - 2)))) * diff(z(x, y), y), [], []'\n",
      "   str(e2)='diff(z(x, y), x) + (-1/4*x*(1/(x^2 + y) - 4*x/(y*(x/((x^2 + y)*y) - 2)))/y) * diff(z(x, y), y) + (1/2/y) * w(x, y), [], []'\n",
      "nothing to reduce\n",
      "reduce_inner\n",
      "str(t)='diff(w(x, y), x)'\n",
      "   str(e1)='diff(w(x, y), x) + (-1/8*x*(x^2/(x^4 + 2*x^2*y + y^2) - 8*x/((x^4 + 2*x^2*y + y^2)*(x^2/((x^2 + y)^2*y^2) + 16*x^4/(y^4*(x/((x^2 + y)*y) - 2)^2) - 8*x^3/((x^2 + y)*y^3*(x/((x^2 + y)*y) - 2)))))*(x^2/((x^2 + y)^2*y^2) + 16*x^4/(y^4*(x/((x^2 + y)*y) - 2)^2) - 8*x^3/((x^2 + y)*y^3*(x/((x^2 + y)*y) - 2)))) * diff(z(x, y), y), [], []'\n",
      "   str(e2)='diff(w(x, y), y) + (1/2*x/((x^2 + y)*y)) * diff(z(x, y), y) + (-1/y) * w(x, y), [], []'\n",
      "nothing to reduce\n",
      "reduce_inner\n",
      "str(t)='(-1/8*x*(x^2/(x^4 + 2*x^2*y + y^2) - 8*x/((x^4 + 2*x^2*y + y^2)*(x^2/((x^2 + y)^2*y^2) + 16*x^4/(y^4*(x/((x^2 + y)*y) - 2)^2) - 8*x^3/((x^2 + y)*y^3*(x/((x^2 + y)*y) - 2)))))*(x^2/((x^2 + y)^2*y^2) + 16*x^4/(y^4*(x/((x^2 + y)*y) - 2)^2) - 8*x^3/((x^2 + y)*y^3*(x/((x^2 + y)*y) - 2)))) * diff(z(x, y), y)'\n",
      "   str(e1)='diff(w(x, y), x) + (-1/8*x*(x^2/(x^4 + 2*x^2*y + y^2) - 8*x/((x^4 + 2*x^2*y + y^2)*(x^2/((x^2 + y)^2*y^2) + 16*x^4/(y^4*(x/((x^2 + y)*y) - 2)^2) - 8*x^3/((x^2 + y)*y^3*(x/((x^2 + y)*y) - 2)))))*(x^2/((x^2 + y)^2*y^2) + 16*x^4/(y^4*(x/((x^2 + y)*y) - 2)^2) - 8*x^3/((x^2 + y)*y^3*(x/((x^2 + y)*y) - 2)))) * diff(z(x, y), y), [], []'\n",
      "   str(e2)='diff(z(x, y), y, y) + (-x^2/(x^4 + 2*x^2*y + y^2) - 4*x^2/(x/((x^2 + y)*y) - 2) - y/(x^4 + 2*x^2*y + y^2) - 4*y/(x/((x^2 + y)*y) - 2)) * diff(z(x, y), y), [], []'\n",
      "nothing to reduce\n",
      "AAAAAAAAAAAAAAAAAAAAAAAAAAAAAAAAAAAAAAAAAAAAAAAAAAAAAAAAAAAAAAAAAAAAAAAAAAAAAAAAAAAAAAAAAAAAAAAAAAA\n"
     ]
    },
    {
     "data": {
      "text/latex": [
       "$\\displaystyle  z_{y}$"
      ],
      "text/plain": [
       "<IPython.core.display.Math object>"
      ]
     },
     "metadata": {},
     "output_type": "display_data"
    },
    {
     "data": {
      "text/latex": [
       "$\\displaystyle  z_{x}-\\frac{4 \\, x^{6} + 2 \\, {\\left(2 \\, x^{2} + x\\right)} y^{2} - x^{2} + 2 \\, {\\left(4 \\, x^{4} + x^{3}\\right)} y}{4 \\, {\\left(4 \\, x^{2} y^{3} - x^{3} y + 2 \\, y^{4} + {\\left(2 \\, x^{4} - x\\right)} y^{2}\\right)}} z_{y}+\\frac{1}{2 \\, y} w$"
      ],
      "text/plain": [
       "<IPython.core.display.Math object>"
      ]
     },
     "metadata": {},
     "output_type": "display_data"
    },
    {
     "data": {
      "text/latex": [
       "$\\displaystyle  w_{y}+\\frac{x}{2 \\, {\\left(x^{2} y + y^{2}\\right)}} z_{y}-\\frac{1}{y} w$"
      ],
      "text/plain": [
       "<IPython.core.display.Math object>"
      ]
     },
     "metadata": {},
     "output_type": "display_data"
    },
    {
     "data": {
      "text/latex": [
       "$\\displaystyle  w_{x}-\\frac{16 \\, x^{15} - 8 \\, x^{11} - 128 \\, x^{4} y^{7} - 32 \\, x^{2} y^{8} + x^{7} - 32 \\, {\\left(6 \\, x^{6} - x^{3}\\right)} y^{6} - 32 \\, {\\left(4 \\, x^{8} - 3 \\, x^{5}\\right)} y^{5} - 4 \\, {\\left(8 \\, x^{10} - 28 \\, x^{7} - 4 \\, x^{6} - x^{5} + 2 \\, x^{4}\\right)} y^{4} + 8 \\, {\\left(12 \\, x^{9} + 6 \\, x^{8} + x^{7} - 2 \\, x^{6}\\right)} y^{3} + 4 \\, {\\left(24 \\, x^{11} + 12 \\, x^{10} + x^{9} - 2 \\, x^{8} - 2 \\, x^{7} - x^{6}\\right)} y^{2} + 4 \\, {\\left(16 \\, x^{13} + 4 \\, x^{12} - 4 \\, x^{9} - x^{8}\\right)} y}{8 \\, {\\left(x^{10} y^{2} + 24 \\, x^{2} y^{9} + 4 \\, y^{10} + 4 \\, {\\left(15 \\, x^{4} - x\\right)} y^{8} + 20 \\, {\\left(4 \\, x^{6} - x^{3}\\right)} y^{7} + {\\left(60 \\, x^{8} - 40 \\, x^{5} + x^{2}\\right)} y^{6} + 4 \\, {\\left(6 \\, x^{10} - 10 \\, x^{7} + x^{4}\\right)} y^{5} + 2 \\, {\\left(2 \\, x^{12} - 10 \\, x^{9} + 3 \\, x^{6}\\right)} y^{4} - 4 \\, {\\left(x^{11} - x^{8}\\right)} y^{3}\\right)}} z_{y}$"
      ],
      "text/plain": [
       "<IPython.core.display.Math object>"
      ]
     },
     "metadata": {},
     "output_type": "display_data"
    },
    {
     "data": {
      "text/latex": [
       "$\\displaystyle  z_{y,y}+(\\frac{12 \\, x^{2} y^{3} + 4 \\, y^{4} + 2 \\, {\\left(6 \\, x^{4} - 1\\right)} y^{2} + 2 \\, {\\left(2 \\, x^{6} - x^{2}\\right)} y + x}{4 \\, x^{2} y^{2} - x^{3} + 2 \\, y^{3} + {\\left(2 \\, x^{4} - x\\right)} y}) z_{y}$"
      ],
      "text/plain": [
       "<IPython.core.display.Math object>"
      ]
     },
     "metadata": {},
     "output_type": "display_data"
    },
    {
     "name": "stdout",
     "output_type": "stream",
     "text": [
      "reduce_inner\n",
      "str(t)='diff(z(x, y), x)'\n",
      "   str(e1)='diff(z(x, y), x) + (-1/4*x*(1/(x^2 + y) - 4*x/(y*(x/((x^2 + y)*y) - 2)))/y) * diff(z(x, y), y) + (1/2/y) * w(x, y), [], []'\n",
      "   str(e2)='diff(z(x, y), y), [], []'\n",
      "str(t)='(-1/4*x*(1/(x^2 + y) - 4*x/(y*(x/((x^2 + y)*y) - 2)))/y) * diff(z(x, y), y)'\n",
      "   str(e1)='diff(z(x, y), x) + (-1/4*x*(1/(x^2 + y) - 4*x/(y*(x/((x^2 + y)*y) - 2)))/y) * diff(z(x, y), y) + (1/2/y) * w(x, y), [], []'\n",
      "   str(e2)='diff(z(x, y), y), [], []'\n",
      "   ===> subtract, *-1/4*x*(1/(x^2 + y) - 4*x/(y*(x/((x^2 + y)*y) - 2)))/y\n",
      "after creation of DP\n",
      "===> str(_)='diff(z(x, y), x)',  (1, 0, 0, 1)\n",
      "===> str(_)='(1/2/y) * w(x, y)',  (0, 0, 1, 0)\n",
      "  after _reduce_inner: \n"
     ]
    },
    {
     "data": {
      "text/latex": [
       "$\\displaystyle  z_{x}-\\frac{4 \\, x^{6} + 2 \\, {\\left(2 \\, x^{2} + x\\right)} y^{2} - x^{2} + 2 \\, {\\left(4 \\, x^{4} + x^{3}\\right)} y}{4 \\, {\\left(4 \\, x^{2} y^{3} - x^{3} y + 2 \\, y^{4} + {\\left(2 \\, x^{4} - x\\right)} y^{2}\\right)}} z_{y} + \\frac{1}{2 \\, y} w[], []$"
      ],
      "text/plain": [
       "<IPython.core.display.Math object>"
      ]
     },
     "metadata": {},
     "output_type": "display_data"
    },
    {
     "data": {
      "text/latex": [
       "$\\displaystyle  z_{y}[], []$"
      ],
      "text/plain": [
       "<IPython.core.display.Math object>"
      ]
     },
     "metadata": {},
     "output_type": "display_data"
    },
    {
     "data": {
      "text/latex": [
       "$\\displaystyle  z_{x} + \\frac{1}{2 \\, y} w[], []$"
      ],
      "text/plain": [
       "<IPython.core.display.Math object>"
      ]
     },
     "metadata": {},
     "output_type": "display_data"
    },
    {
     "name": "stdout",
     "output_type": "stream",
     "text": [
      "reduce_inner\n",
      "str(t)='diff(z(x, y), x)'\n",
      "   str(e1)='diff(z(x, y), x) + (1/2/y) * w(x, y), [], []'\n",
      "   str(e2)='diff(z(x, y), y), [], []'\n",
      "nothing to reduce\n",
      "reduce_inner\n",
      "str(t)='diff(z(x, y), x)'\n",
      "   str(e1)='diff(z(x, y), x) + (1/2/y) * w(x, y), [], []'\n",
      "   str(e2)='diff(z(x, y), y), [], []'\n",
      "nothing to reduce\n",
      "reduce_inner\n",
      "str(t)='(1/2*x/((x^2 + y)*y)) * diff(z(x, y), y)'\n",
      "   str(e1)='diff(w(x, y), y) + (1/2*x/((x^2 + y)*y)) * diff(z(x, y), y) + (-1/y) * w(x, y), [], []'\n",
      "   str(e2)='diff(z(x, y), y), [], []'\n",
      "   ===> subtract, *1/2*x/((x^2 + y)*y)\n",
      "after creation of DP\n",
      "===> str(_)='diff(w(x, y), y)',  (0, 1, 1, 0)\n",
      "===> str(_)='(-1/y) * w(x, y)',  (0, 0, 1, 0)\n",
      "  after _reduce_inner: \n"
     ]
    },
    {
     "data": {
      "text/latex": [
       "$\\displaystyle  w_{y} + \\frac{x}{2 \\, {\\left(x^{2} y + y^{2}\\right)}} z_{y}-\\frac{1}{y} w[], []$"
      ],
      "text/plain": [
       "<IPython.core.display.Math object>"
      ]
     },
     "metadata": {},
     "output_type": "display_data"
    },
    {
     "data": {
      "text/latex": [
       "$\\displaystyle  z_{y}[], []$"
      ],
      "text/plain": [
       "<IPython.core.display.Math object>"
      ]
     },
     "metadata": {},
     "output_type": "display_data"
    },
    {
     "data": {
      "text/latex": [
       "$\\displaystyle  w_{y}-\\frac{1}{y} w[], []$"
      ],
      "text/plain": [
       "<IPython.core.display.Math object>"
      ]
     },
     "metadata": {},
     "output_type": "display_data"
    },
    {
     "name": "stdout",
     "output_type": "stream",
     "text": [
      "reduce_inner\n",
      "nothing to reduce\n",
      "reduce_inner\n",
      "nothing to reduce\n",
      "reduce_inner\n",
      "str(t)='(-1/8*x*(x^2/(x^4 + 2*x^2*y + y^2) - 8*x/((x^4 + 2*x^2*y + y^2)*(x^2/((x^2 + y)^2*y^2) + 16*x^4/(y^4*(x/((x^2 + y)*y) - 2)^2) - 8*x^3/((x^2 + y)*y^3*(x/((x^2 + y)*y) - 2)))))*(x^2/((x^2 + y)^2*y^2) + 16*x^4/(y^4*(x/((x^2 + y)*y) - 2)^2) - 8*x^3/((x^2 + y)*y^3*(x/((x^2 + y)*y) - 2)))) * diff(z(x, y), y)'\n",
      "   str(e1)='diff(w(x, y), x) + (-1/8*x*(x^2/(x^4 + 2*x^2*y + y^2) - 8*x/((x^4 + 2*x^2*y + y^2)*(x^2/((x^2 + y)^2*y^2) + 16*x^4/(y^4*(x/((x^2 + y)*y) - 2)^2) - 8*x^3/((x^2 + y)*y^3*(x/((x^2 + y)*y) - 2)))))*(x^2/((x^2 + y)^2*y^2) + 16*x^4/(y^4*(x/((x^2 + y)*y) - 2)^2) - 8*x^3/((x^2 + y)*y^3*(x/((x^2 + y)*y) - 2)))) * diff(z(x, y), y), [], []'\n",
      "   str(e2)='diff(z(x, y), y), [], []'\n",
      "   ===> subtract, *-1/8*x*(x^2/(x^4 + 2*x^2*y + y^2) - 8*x/((x^4 + 2*x^2*y + y^2)*(x^2/((x^2 + y)^2*y^2) + 16*x^4/(y^4*(x/((x^2 + y)*y) - 2)^2) - 8*x^3/((x^2 + y)*y^3*(x/((x^2 + y)*y) - 2)))))*(x^2/((x^2 + y)^2*y^2) + 16*x^4/(y^4*(x/((x^2 + y)*y) - 2)^2) - 8*x^3/((x^2 + y)*y^3*(x/((x^2 + y)*y) - 2)))\n",
      "after creation of DP\n",
      "===> str(_)='diff(w(x, y), x)',  (1, 0, 1, 0)\n",
      "reduce_inner\n",
      "str(t)='diff(z(x, y), y, y)'\n",
      "   str(e1)='diff(z(x, y), y, y) + (-x^2/(x^4 + 2*x^2*y + y^2) - 4*x^2/(x/((x^2 + y)*y) - 2) - y/(x^4 + 2*x^2*y + y^2) - 4*y/(x/((x^2 + y)*y) - 2)) * diff(z(x, y), y), [], []'\n",
      "   str(e2)='diff(z(x, y), y), [], []'\n",
      "   ===> diff, *1, [y]\n",
      "after creation of DP\n",
      "===> str(_)='diff(z(x, y), y)',  (0, 1, 0, 1)\n",
      "  after _reduce_inner: \n"
     ]
    },
    {
     "data": {
      "text/latex": [
       "$\\displaystyle  z_{y,y} + (\\frac{12 \\, x^{2} y^{3} + 4 \\, y^{4} + 2 \\, {\\left(6 \\, x^{4} - 1\\right)} y^{2} + 2 \\, {\\left(2 \\, x^{6} - x^{2}\\right)} y + x}{4 \\, x^{2} y^{2} - x^{3} + 2 \\, y^{3} + {\\left(2 \\, x^{4} - x\\right)} y}) z_{y}[], []$"
      ],
      "text/plain": [
       "<IPython.core.display.Math object>"
      ]
     },
     "metadata": {},
     "output_type": "display_data"
    },
    {
     "data": {
      "text/latex": [
       "$\\displaystyle  z_{y}[], []$"
      ],
      "text/plain": [
       "<IPython.core.display.Math object>"
      ]
     },
     "metadata": {},
     "output_type": "display_data"
    },
    {
     "data": {
      "text/latex": [
       "$\\displaystyle  z_{y}[], []$"
      ],
      "text/plain": [
       "<IPython.core.display.Math object>"
      ]
     },
     "metadata": {},
     "output_type": "display_data"
    },
    {
     "name": "stdout",
     "output_type": "stream",
     "text": [
      "reduce_inner\n",
      "str(t)='diff(z(x, y), y)'\n",
      "   str(e1)='diff(z(x, y), y), [], []'\n",
      "   str(e2)='diff(z(x, y), y), [], []'\n",
      "   ===> subtract, *1\n",
      "after creation of DP\n",
      "AAAAAAAAAAAAAAAAAAAAAAAAAAAAAAAAAAAAAAAAAAAAAAAAAAAAAAAAAAAAAAAAAAAAAAAAAAAAAAAAAAAAAAAAAAAAAAAAAAA\n"
     ]
    },
    {
     "data": {
      "text/latex": [
       "$\\displaystyle  z_{y}$"
      ],
      "text/plain": [
       "<IPython.core.display.Math object>"
      ]
     },
     "metadata": {},
     "output_type": "display_data"
    },
    {
     "data": {
      "text/latex": [
       "$\\displaystyle  z_{x}+\\frac{1}{2 \\, y} w$"
      ],
      "text/plain": [
       "<IPython.core.display.Math object>"
      ]
     },
     "metadata": {},
     "output_type": "display_data"
    },
    {
     "data": {
      "text/latex": [
       "$\\displaystyle  w_{y}-\\frac{1}{y} w$"
      ],
      "text/plain": [
       "<IPython.core.display.Math object>"
      ]
     },
     "metadata": {},
     "output_type": "display_data"
    },
    {
     "data": {
      "text/latex": [
       "$\\displaystyle  w_{x}$"
      ],
      "text/plain": [
       "<IPython.core.display.Math object>"
      ]
     },
     "metadata": {},
     "output_type": "display_data"
    },
    {
     "name": "stdout",
     "output_type": "stream",
     "text": [
      "reduce_inner\n",
      "str(t)='diff(z(x, y), x)'\n",
      "   str(e1)='diff(z(x, y), x) + (1/2/y) * w(x, y), [], []'\n",
      "   str(e2)='diff(z(x, y), y), [], []'\n",
      "nothing to reduce\n",
      "reduce_inner\n",
      "nothing to reduce\n",
      "reduce_inner\n",
      "nothing to reduce\n",
      "AAAAAAAAAAAAAAAAAAAAAAAAAAAAAAAAAAAAAAAAAAAAAAAAAAAAAAAAAAAAAAAAAAAAAAAAAAAAAAAAAAAAAAAAAAAAAAAAAAA\n"
     ]
    },
    {
     "data": {
      "text/latex": [
       "$\\displaystyle  z_{y}$"
      ],
      "text/plain": [
       "<IPython.core.display.Math object>"
      ]
     },
     "metadata": {},
     "output_type": "display_data"
    },
    {
     "data": {
      "text/latex": [
       "$\\displaystyle  z_{x}+\\frac{1}{2 \\, y} w$"
      ],
      "text/plain": [
       "<IPython.core.display.Math object>"
      ]
     },
     "metadata": {},
     "output_type": "display_data"
    },
    {
     "data": {
      "text/latex": [
       "$\\displaystyle  w_{y}-\\frac{1}{y} w$"
      ],
      "text/plain": [
       "<IPython.core.display.Math object>"
      ]
     },
     "metadata": {},
     "output_type": "display_data"
    },
    {
     "data": {
      "text/latex": [
       "$\\displaystyle  w_{x}$"
      ],
      "text/plain": [
       "<IPython.core.display.Math object>"
      ]
     },
     "metadata": {},
     "output_type": "display_data"
    },
    {
     "name": "stdout",
     "output_type": "stream",
     "text": [
      "reduce_inner\n",
      "nothing to reduce\n",
      "reduce_inner\n",
      "nothing to reduce\n",
      "reduce_inner\n",
      "nothing to reduce\n",
      "reduce_inner\n",
      "nothing to reduce\n",
      "AAAAAAAAAAAAAAAAAAAAAAAAAAAAAAAAAAAAAAAAAAAAAAAAAAAAAAAAAAAAAAAAAAAAAAAAAAAAAAAAAAAAAAAAAAAAAAAAAAA\n"
     ]
    },
    {
     "data": {
      "text/latex": [
       "$\\displaystyle  z_{y}$"
      ],
      "text/plain": [
       "<IPython.core.display.Math object>"
      ]
     },
     "metadata": {},
     "output_type": "display_data"
    },
    {
     "data": {
      "text/latex": [
       "$\\displaystyle  z_{x}+\\frac{1}{2 \\, y} w$"
      ],
      "text/plain": [
       "<IPython.core.display.Math object>"
      ]
     },
     "metadata": {},
     "output_type": "display_data"
    },
    {
     "data": {
      "text/latex": [
       "$\\displaystyle  w_{y}-\\frac{1}{y} w$"
      ],
      "text/plain": [
       "<IPython.core.display.Math object>"
      ]
     },
     "metadata": {},
     "output_type": "display_data"
    },
    {
     "data": {
      "text/latex": [
       "$\\displaystyle  w_{x}$"
      ],
      "text/plain": [
       "<IPython.core.display.Math object>"
      ]
     },
     "metadata": {},
     "output_type": "display_data"
    },
    {
     "name": "stdout",
     "output_type": "stream",
     "text": [
      "reduce_inner\n",
      "nothing to reduce\n",
      "reduce_inner\n",
      "nothing to reduce\n",
      "reduce_inner\n",
      "str(t)='diff(w(x, y), x)'\n",
      "   str(e1)='diff(w(x, y), x), [], []'\n",
      "   str(e2)='diff(w(x, y), y) + (-1/y) * w(x, y), [], []'\n",
      "nothing to reduce\n",
      "AAAAAAAAAAAAAAAAAAAAAAAAAAAAAAAAAAAAAAAAAAAAAAAAAAAAAAAAAAAAAAAAAAAAAAAAAAAAAAAAAAAAAAAAAAAAAAAAAAA\n"
     ]
    },
    {
     "data": {
      "text/latex": [
       "$\\displaystyle  z_{y}$"
      ],
      "text/plain": [
       "<IPython.core.display.Math object>"
      ]
     },
     "metadata": {},
     "output_type": "display_data"
    },
    {
     "data": {
      "text/latex": [
       "$\\displaystyle  z_{x}+\\frac{1}{2 \\, y} w$"
      ],
      "text/plain": [
       "<IPython.core.display.Math object>"
      ]
     },
     "metadata": {},
     "output_type": "display_data"
    },
    {
     "data": {
      "text/latex": [
       "$\\displaystyle  w_{y}-\\frac{1}{y} w$"
      ],
      "text/plain": [
       "<IPython.core.display.Math object>"
      ]
     },
     "metadata": {},
     "output_type": "display_data"
    },
    {
     "data": {
      "text/latex": [
       "$\\displaystyle  w_{x}$"
      ],
      "text/plain": [
       "<IPython.core.display.Math object>"
      ]
     },
     "metadata": {},
     "output_type": "display_data"
    },
    {
     "name": "stdout",
     "output_type": "stream",
     "text": [
      "after autoreduce\n"
     ]
    },
    {
     "data": {
      "text/latex": [
       "$\\displaystyle  z_{y}$"
      ],
      "text/plain": [
       "<IPython.core.display.Math object>"
      ]
     },
     "metadata": {},
     "output_type": "display_data"
    },
    {
     "data": {
      "text/latex": [
       "$\\displaystyle  z_{x}+\\frac{1}{2 \\, y} w$"
      ],
      "text/plain": [
       "<IPython.core.display.Math object>"
      ]
     },
     "metadata": {},
     "output_type": "display_data"
    },
    {
     "data": {
      "text/latex": [
       "$\\displaystyle  w_{y}-\\frac{1}{y} w$"
      ],
      "text/plain": [
       "<IPython.core.display.Math object>"
      ]
     },
     "metadata": {},
     "output_type": "display_data"
    },
    {
     "data": {
      "text/latex": [
       "$\\displaystyle  w_{x}$"
      ],
      "text/plain": [
       "<IPython.core.display.Math object>"
      ]
     },
     "metadata": {},
     "output_type": "display_data"
    },
    {
     "name": "stdout",
     "output_type": "stream",
     "text": [
      "after complete system\n"
     ]
    },
    {
     "data": {
      "text/latex": [
       "$\\displaystyle  z_{y}$"
      ],
      "text/plain": [
       "<IPython.core.display.Math object>"
      ]
     },
     "metadata": {},
     "output_type": "display_data"
    },
    {
     "data": {
      "text/latex": [
       "$\\displaystyle  z_{x}+\\frac{1}{2 \\, y} w$"
      ],
      "text/plain": [
       "<IPython.core.display.Math object>"
      ]
     },
     "metadata": {},
     "output_type": "display_data"
    },
    {
     "data": {
      "text/latex": [
       "$\\displaystyle  w_{y}-\\frac{1}{y} w$"
      ],
      "text/plain": [
       "<IPython.core.display.Math object>"
      ]
     },
     "metadata": {},
     "output_type": "display_data"
    },
    {
     "data": {
      "text/latex": [
       "$\\displaystyle  w_{x}$"
      ],
      "text/plain": [
       "<IPython.core.display.Math object>"
      ]
     },
     "metadata": {},
     "output_type": "display_data"
    },
    {
     "name": "stdout",
     "output_type": "stream",
     "text": [
      "adding c=-1/2*diff(w(x, y), y)/y + 1/2*w(x, y)/y^2 to result\n",
      "adding c=-diff(w(x, y), x)/y to result\n",
      "after creation of DP\n",
      "===> str(_)='diff(w(x, y), y)',  (0, 1, 1, 0)\n",
      "===> str(_)='(-1/y) * w(x, y)',  (0, 0, 1, 0)\n",
      "reduce_inner\n",
      "nothing to reduce\n",
      "reduce_inner\n",
      "nothing to reduce\n",
      "reduce_inner\n",
      "str(t)='diff(w(x, y), y)'\n",
      "   str(e1)='diff(w(x, y), y) + (-1/y) * w(x, y), [], []'\n",
      "   str(e2)='diff(w(x, y), y) + (-1/y) * w(x, y), [x], [y]'\n",
      "   ===> subtract, *1\n",
      "after creation of DP\n",
      "reduce_inner\n",
      "str(t)='diff(w(x, y), y)'\n",
      "   str(e1)='diff(w(x, y), y) + (-1/y) * w(x, y), [], []'\n",
      "   str(e2)='diff(w(x, y), x), [x, y], []'\n",
      "str(t)='(-1/y) * w(x, y)'\n",
      "   str(e1)='diff(w(x, y), y) + (-1/y) * w(x, y), [], []'\n",
      "   str(e2)='diff(w(x, y), x), [x, y], []'\n",
      "nothing to reduce\n",
      "after creation of DP\n",
      "===> str(_)='diff(w(x, y), x)',  (1, 0, 1, 0)\n",
      "reduce_inner\n",
      "nothing to reduce\n",
      "reduce_inner\n",
      "nothing to reduce\n",
      "reduce_inner\n",
      "str(t)='diff(w(x, y), x)'\n",
      "   str(e1)='diff(w(x, y), x), [], []'\n",
      "   str(e2)='diff(w(x, y), y) + (-1/y) * w(x, y), [x], [y]'\n",
      "nothing to reduce\n",
      "reduce_inner\n",
      "str(t)='diff(w(x, y), x)'\n",
      "   str(e1)='diff(w(x, y), x), [], []'\n",
      "   str(e2)='diff(w(x, y), x), [x, y], []'\n",
      "   ===> subtract, *1\n",
      "after creation of DP\n"
     ]
    },
    {
     "data": {
      "text/latex": [
       "$\\displaystyle  z_{y}$"
      ],
      "text/plain": [
       "<IPython.core.display.Math object>"
      ]
     },
     "metadata": {},
     "output_type": "display_data"
    },
    {
     "data": {
      "text/latex": [
       "$\\displaystyle  z_{x}+\\frac{1}{2 \\, y} w$"
      ],
      "text/plain": [
       "<IPython.core.display.Math object>"
      ]
     },
     "metadata": {},
     "output_type": "display_data"
    },
    {
     "data": {
      "text/latex": [
       "$\\displaystyle  w_{y}-\\frac{1}{y} w$"
      ],
      "text/plain": [
       "<IPython.core.display.Math object>"
      ]
     },
     "metadata": {},
     "output_type": "display_data"
    },
    {
     "data": {
      "text/latex": [
       "$\\displaystyle  w_{x}$"
      ],
      "text/plain": [
       "<IPython.core.display.Math object>"
      ]
     },
     "metadata": {},
     "output_type": "display_data"
    },
    {
     "name": "stdout",
     "output_type": "stream",
     "text": [
      "****************************************************************************************\n",
      "This is where we start, loop=2\n"
     ]
    },
    {
     "data": {
      "text/latex": [
       "$\\displaystyle  z_{y}$"
      ],
      "text/plain": [
       "<IPython.core.display.Math object>"
      ]
     },
     "metadata": {},
     "output_type": "display_data"
    },
    {
     "data": {
      "text/latex": [
       "$\\displaystyle  z_{x}+\\frac{1}{2 \\, y} w$"
      ],
      "text/plain": [
       "<IPython.core.display.Math object>"
      ]
     },
     "metadata": {},
     "output_type": "display_data"
    },
    {
     "data": {
      "text/latex": [
       "$\\displaystyle  w_{y}-\\frac{1}{y} w$"
      ],
      "text/plain": [
       "<IPython.core.display.Math object>"
      ]
     },
     "metadata": {},
     "output_type": "display_data"
    },
    {
     "data": {
      "text/latex": [
       "$\\displaystyle  w_{x}$"
      ],
      "text/plain": [
       "<IPython.core.display.Math object>"
      ]
     },
     "metadata": {},
     "output_type": "display_data"
    },
    {
     "name": "stdout",
     "output_type": "stream",
     "text": [
      "reduce_inner\n",
      "str(t)='diff(z(x, y), x)'\n",
      "   str(e1)='diff(z(x, y), x) + (1/2/y) * w(x, y), [x, y], []'\n",
      "   str(e2)='diff(z(x, y), y), [x], [y]'\n",
      "nothing to reduce\n",
      "reduce_inner\n",
      "nothing to reduce\n",
      "reduce_inner\n",
      "nothing to reduce\n",
      "AAAAAAAAAAAAAAAAAAAAAAAAAAAAAAAAAAAAAAAAAAAAAAAAAAAAAAAAAAAAAAAAAAAAAAAAAAAAAAAAAAAAAAAAAAAAAAAAAAA\n"
     ]
    },
    {
     "data": {
      "text/latex": [
       "$\\displaystyle  z_{y}$"
      ],
      "text/plain": [
       "<IPython.core.display.Math object>"
      ]
     },
     "metadata": {},
     "output_type": "display_data"
    },
    {
     "data": {
      "text/latex": [
       "$\\displaystyle  z_{x}+\\frac{1}{2 \\, y} w$"
      ],
      "text/plain": [
       "<IPython.core.display.Math object>"
      ]
     },
     "metadata": {},
     "output_type": "display_data"
    },
    {
     "data": {
      "text/latex": [
       "$\\displaystyle  w_{y}-\\frac{1}{y} w$"
      ],
      "text/plain": [
       "<IPython.core.display.Math object>"
      ]
     },
     "metadata": {},
     "output_type": "display_data"
    },
    {
     "data": {
      "text/latex": [
       "$\\displaystyle  w_{x}$"
      ],
      "text/plain": [
       "<IPython.core.display.Math object>"
      ]
     },
     "metadata": {},
     "output_type": "display_data"
    },
    {
     "name": "stdout",
     "output_type": "stream",
     "text": [
      "reduce_inner\n",
      "nothing to reduce\n",
      "reduce_inner\n",
      "nothing to reduce\n",
      "reduce_inner\n",
      "nothing to reduce\n",
      "reduce_inner\n",
      "nothing to reduce\n",
      "AAAAAAAAAAAAAAAAAAAAAAAAAAAAAAAAAAAAAAAAAAAAAAAAAAAAAAAAAAAAAAAAAAAAAAAAAAAAAAAAAAAAAAAAAAAAAAAAAAA\n"
     ]
    },
    {
     "data": {
      "text/latex": [
       "$\\displaystyle  z_{y}$"
      ],
      "text/plain": [
       "<IPython.core.display.Math object>"
      ]
     },
     "metadata": {},
     "output_type": "display_data"
    },
    {
     "data": {
      "text/latex": [
       "$\\displaystyle  z_{x}+\\frac{1}{2 \\, y} w$"
      ],
      "text/plain": [
       "<IPython.core.display.Math object>"
      ]
     },
     "metadata": {},
     "output_type": "display_data"
    },
    {
     "data": {
      "text/latex": [
       "$\\displaystyle  w_{y}-\\frac{1}{y} w$"
      ],
      "text/plain": [
       "<IPython.core.display.Math object>"
      ]
     },
     "metadata": {},
     "output_type": "display_data"
    },
    {
     "data": {
      "text/latex": [
       "$\\displaystyle  w_{x}$"
      ],
      "text/plain": [
       "<IPython.core.display.Math object>"
      ]
     },
     "metadata": {},
     "output_type": "display_data"
    },
    {
     "name": "stdout",
     "output_type": "stream",
     "text": [
      "reduce_inner\n",
      "nothing to reduce\n",
      "reduce_inner\n",
      "nothing to reduce\n",
      "reduce_inner\n",
      "str(t)='diff(w(x, y), x)'\n",
      "   str(e1)='diff(w(x, y), x), [x, y], []'\n",
      "   str(e2)='diff(w(x, y), y) + (-1/y) * w(x, y), [x], [y]'\n",
      "nothing to reduce\n",
      "AAAAAAAAAAAAAAAAAAAAAAAAAAAAAAAAAAAAAAAAAAAAAAAAAAAAAAAAAAAAAAAAAAAAAAAAAAAAAAAAAAAAAAAAAAAAAAAAAAA\n"
     ]
    },
    {
     "data": {
      "text/latex": [
       "$\\displaystyle  z_{y}$"
      ],
      "text/plain": [
       "<IPython.core.display.Math object>"
      ]
     },
     "metadata": {},
     "output_type": "display_data"
    },
    {
     "data": {
      "text/latex": [
       "$\\displaystyle  z_{x}+\\frac{1}{2 \\, y} w$"
      ],
      "text/plain": [
       "<IPython.core.display.Math object>"
      ]
     },
     "metadata": {},
     "output_type": "display_data"
    },
    {
     "data": {
      "text/latex": [
       "$\\displaystyle  w_{y}-\\frac{1}{y} w$"
      ],
      "text/plain": [
       "<IPython.core.display.Math object>"
      ]
     },
     "metadata": {},
     "output_type": "display_data"
    },
    {
     "data": {
      "text/latex": [
       "$\\displaystyle  w_{x}$"
      ],
      "text/plain": [
       "<IPython.core.display.Math object>"
      ]
     },
     "metadata": {},
     "output_type": "display_data"
    },
    {
     "name": "stdout",
     "output_type": "stream",
     "text": [
      "after autoreduce\n"
     ]
    },
    {
     "data": {
      "text/latex": [
       "$\\displaystyle  z_{y}$"
      ],
      "text/plain": [
       "<IPython.core.display.Math object>"
      ]
     },
     "metadata": {},
     "output_type": "display_data"
    },
    {
     "data": {
      "text/latex": [
       "$\\displaystyle  z_{x}+\\frac{1}{2 \\, y} w$"
      ],
      "text/plain": [
       "<IPython.core.display.Math object>"
      ]
     },
     "metadata": {},
     "output_type": "display_data"
    },
    {
     "data": {
      "text/latex": [
       "$\\displaystyle  w_{y}-\\frac{1}{y} w$"
      ],
      "text/plain": [
       "<IPython.core.display.Math object>"
      ]
     },
     "metadata": {},
     "output_type": "display_data"
    },
    {
     "data": {
      "text/latex": [
       "$\\displaystyle  w_{x}$"
      ],
      "text/plain": [
       "<IPython.core.display.Math object>"
      ]
     },
     "metadata": {},
     "output_type": "display_data"
    },
    {
     "name": "stdout",
     "output_type": "stream",
     "text": [
      "after complete system\n"
     ]
    },
    {
     "data": {
      "text/latex": [
       "$\\displaystyle  z_{y}$"
      ],
      "text/plain": [
       "<IPython.core.display.Math object>"
      ]
     },
     "metadata": {},
     "output_type": "display_data"
    },
    {
     "data": {
      "text/latex": [
       "$\\displaystyle  z_{x}+\\frac{1}{2 \\, y} w$"
      ],
      "text/plain": [
       "<IPython.core.display.Math object>"
      ]
     },
     "metadata": {},
     "output_type": "display_data"
    },
    {
     "data": {
      "text/latex": [
       "$\\displaystyle  w_{y}-\\frac{1}{y} w$"
      ],
      "text/plain": [
       "<IPython.core.display.Math object>"
      ]
     },
     "metadata": {},
     "output_type": "display_data"
    },
    {
     "data": {
      "text/latex": [
       "$\\displaystyle  w_{x}$"
      ],
      "text/plain": [
       "<IPython.core.display.Math object>"
      ]
     },
     "metadata": {},
     "output_type": "display_data"
    },
    {
     "name": "stdout",
     "output_type": "stream",
     "text": [
      "adding c=-1/2*diff(w(x, y), y)/y + 1/2*w(x, y)/y^2 to result\n",
      "adding c=-diff(w(x, y), x)/y to result\n",
      "after creation of DP\n",
      "===> str(_)='diff(w(x, y), y)',  (0, 1, 1, 0)\n",
      "===> str(_)='(-1/y) * w(x, y)',  (0, 0, 1, 0)\n",
      "reduce_inner\n",
      "nothing to reduce\n",
      "reduce_inner\n",
      "nothing to reduce\n",
      "reduce_inner\n",
      "str(t)='diff(w(x, y), y)'\n",
      "   str(e1)='diff(w(x, y), y) + (-1/y) * w(x, y), [], []'\n",
      "   str(e2)='diff(w(x, y), y) + (-1/y) * w(x, y), [x], [y]'\n",
      "   ===> subtract, *1\n",
      "after creation of DP\n",
      "reduce_inner\n",
      "str(t)='diff(w(x, y), y)'\n",
      "   str(e1)='diff(w(x, y), y) + (-1/y) * w(x, y), [], []'\n",
      "   str(e2)='diff(w(x, y), x), [x, y], []'\n",
      "str(t)='(-1/y) * w(x, y)'\n",
      "   str(e1)='diff(w(x, y), y) + (-1/y) * w(x, y), [], []'\n",
      "   str(e2)='diff(w(x, y), x), [x, y], []'\n",
      "nothing to reduce\n",
      "after creation of DP\n",
      "===> str(_)='diff(w(x, y), x)',  (1, 0, 1, 0)\n",
      "reduce_inner\n",
      "nothing to reduce\n",
      "reduce_inner\n",
      "nothing to reduce\n",
      "reduce_inner\n",
      "str(t)='diff(w(x, y), x)'\n",
      "   str(e1)='diff(w(x, y), x), [], []'\n",
      "   str(e2)='diff(w(x, y), y) + (-1/y) * w(x, y), [x], [y]'\n",
      "nothing to reduce\n",
      "reduce_inner\n",
      "str(t)='diff(w(x, y), x)'\n",
      "   str(e1)='diff(w(x, y), x), [], []'\n",
      "   str(e2)='diff(w(x, y), x), [x, y], []'\n",
      "   ===> subtract, *1\n",
      "after creation of DP\n"
     ]
    },
    {
     "data": {
      "text/latex": [
       "$\\displaystyle  z_{y}$"
      ],
      "text/plain": [
       "<IPython.core.display.Math object>"
      ]
     },
     "metadata": {},
     "output_type": "display_data"
    },
    {
     "data": {
      "text/latex": [
       "$\\displaystyle  z_{x}+\\frac{1}{2 \\, y} w$"
      ],
      "text/plain": [
       "<IPython.core.display.Math object>"
      ]
     },
     "metadata": {},
     "output_type": "display_data"
    },
    {
     "data": {
      "text/latex": [
       "$\\displaystyle  w_{y}-\\frac{1}{y} w$"
      ],
      "text/plain": [
       "<IPython.core.display.Math object>"
      ]
     },
     "metadata": {},
     "output_type": "display_data"
    },
    {
     "data": {
      "text/latex": [
       "$\\displaystyle  w_{x}$"
      ],
      "text/plain": [
       "<IPython.core.display.Math object>"
      ]
     },
     "metadata": {},
     "output_type": "display_data"
    },
    {
     "data": {
      "text/latex": [
       "$\\displaystyle  z_{y}$"
      ],
      "text/plain": [
       "<IPython.core.display.Math object>"
      ]
     },
     "metadata": {},
     "output_type": "display_data"
    },
    {
     "data": {
      "text/latex": [
       "$\\displaystyle  z_{x}+\\frac{1}{2 \\, y} w$"
      ],
      "text/plain": [
       "<IPython.core.display.Math object>"
      ]
     },
     "metadata": {},
     "output_type": "display_data"
    },
    {
     "data": {
      "text/latex": [
       "$\\displaystyle  w_{y}-\\frac{1}{y} w$"
      ],
      "text/plain": [
       "<IPython.core.display.Math object>"
      ]
     },
     "metadata": {},
     "output_type": "display_data"
    },
    {
     "data": {
      "text/latex": [
       "$\\displaystyle  w_{x}$"
      ],
      "text/plain": [
       "<IPython.core.display.Math object>"
      ]
     },
     "metadata": {},
     "output_type": "display_data"
    }
   ],
   "source": [
    "jb = Janet_Basis(system_2_24, [w,z], [x,y], Mgrevlex)\n",
    "jb.show(rich=True)"
   ]
  },
  {
   "cell_type": "code",
   "execution_count": null,
   "id": "72e3f6a3-29ef-4739-982f-a6179bd4eedc",
   "metadata": {},
   "outputs": [],
   "source": []
  }
 ],
 "metadata": {
  "kernelspec": {
   "display_name": "SageMath 10.2",
   "language": "sage",
   "name": "sagemath"
  },
  "language_info": {
   "codemirror_mode": {
    "name": "ipython",
    "version": 3
   },
   "file_extension": ".py",
   "mimetype": "text/x-python",
   "name": "python",
   "nbconvert_exporter": "python",
   "pygments_lexer": "ipython3",
   "version": "3.11.7"
  },
  "widgets": {
   "application/vnd.jupyter.widget-state+json": {
    "state": {},
    "version_major": 2,
    "version_minor": 0
   }
  }
 },
 "nbformat": 4,
 "nbformat_minor": 5
}
