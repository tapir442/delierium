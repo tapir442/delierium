{
 "cells": [
  {
   "cell_type": "code",
   "execution_count": 1,
   "id": "1ddf6005-3cc1-4b70-8764-5fa6d487e6a5",
   "metadata": {},
   "outputs": [],
   "source": [
    "from sage.all import *\n",
    "\n",
    "from delierium.MatrixOrder import Context, Mgrlex, Mgrevlex, Mlex\n",
    "from delierium.JanetBasis import Janet_Basis\n",
    "from delierium.helpers import latexer\n",
    "from IPython.display import Math\n",
    "\n",
    "vars = var (\"x y\")\n",
    "z = function(\"z\")(x,y)\n",
    "w = function(\"w\")(x,y)\n",
    "# ctx: items are in descending order\n",
    "ctx_grevlex_f = Context((w,z), (y,x), Mgrevlex)\n",
    "ctx_grlex_f   = Context((w,z), (y,x), Mgrlex)\n",
    "ctx_lex_f     = Context((w,z), (y,x), Mlex)\n",
    "\n",
    "f1 = diff(w, y) + x*diff(z,y)/(2*y*(x**2+y)) - w/y\n",
    "f2 = diff(z,x,y) + y*diff(w,y)/x + 2*y*diff(z, x)/x\n",
    "f3 = diff(w, x,y) - 2*x*diff(z, x,2)/y - x*diff(w,x)/y**2\n",
    "f4 = diff(w, x,y) + diff(z, x,y) + diff(w, y)/(2*y) - diff(w,x)/y + x* diff(z, y)/y - w/(2*y**2)\n",
    "f5 = diff(w,y,y) + diff(z,x,y) - diff(w, y)/y + w/(y**2)\n",
    "\n",
    "system_2_24 = [f1,f2,f3,f4,f5]"
   ]
  },
  {
   "cell_type": "code",
   "execution_count": 2,
   "id": "48199092-9276-45a3-b2cf-35ea72dfdc31",
   "metadata": {},
   "outputs": [
    {
     "name": "stdout",
     "output_type": "stream",
     "text": [
      "after creation of DP\n",
      "===> str(_)='diff(w(x, y), y)',  (0, 1, 1, 0)\n",
      "===> str(_)='(1/2*x/((x^2 + y)*y)) * diff(z(x, y), y)',  (0, 1, 0, 1)\n",
      "===> str(_)='(-1/y) * w(x, y)',  (0, 0, 0, 0)\n",
      "after creation of DP\n",
      "===> str(_)='diff(z(x, y), x, y)',  (1, 1, 0, 1)\n",
      "===> str(_)='(y/x) * diff(w(x, y), y)',  (0, 1, 1, 0)\n",
      "===> str(_)='(2*y/x) * diff(z(x, y), x)',  (1, 0, 0, 1)\n",
      "after creation of DP\n",
      "===> str(_)='diff(w(x, y), x, y)',  (1, 1, 1, 0)\n",
      "===> str(_)='(-2*x/y) * diff(z(x, y), x, x)',  (2, 0, 0, 1)\n",
      "===> str(_)='(-x/y^2) * diff(w(x, y), x)',  (1, 0, 1, 0)\n",
      "after creation of DP\n",
      "===> str(_)='diff(w(x, y), x, y)',  (1, 1, 1, 0)\n",
      "===> str(_)='diff(z(x, y), x, y)',  (1, 1, 0, 1)\n",
      "===> str(_)='(-1/y) * diff(w(x, y), x)',  (1, 0, 1, 0)\n",
      "===> str(_)='(1/2/y) * diff(w(x, y), y)',  (0, 1, 1, 0)\n",
      "===> str(_)='(x/y) * diff(z(x, y), y)',  (0, 1, 0, 1)\n",
      "===> str(_)='(-1/2/y^2) * w(x, y)',  (0, 0, 0, 0)\n",
      "after creation of DP\n",
      "===> str(_)='diff(w(x, y), y, y)',  (0, 2, 1, 0)\n",
      "===> str(_)='diff(z(x, y), x, y)',  (1, 1, 0, 1)\n",
      "===> str(_)='(-1/y) * diff(w(x, y), y)',  (0, 1, 1, 0)\n",
      "===> str(_)='(y^(-2)) * w(x, y)',  (0, 0, 0, 0)\n",
      "****************************************************************************************\n",
      "This is where we start, loop=1\n"
     ]
    },
    {
     "data": {
      "text/latex": [
       "$\\displaystyle  w_{y}+\\frac{x}{2 \\, {\\left(x^{2} y + y^{2}\\right)}} z_{y}-\\frac{1}{y} w$"
      ],
      "text/plain": [
       "<IPython.core.display.Math object>"
      ]
     },
     "metadata": {},
     "output_type": "display_data"
    },
    {
     "data": {
      "text/latex": [
       "$\\displaystyle  z_{x,y}+\\frac{y}{x} w_{y}+\\frac{2 \\, y}{x} z_{x}$"
      ],
      "text/plain": [
       "<IPython.core.display.Math object>"
      ]
     },
     "metadata": {},
     "output_type": "display_data"
    },
    {
     "data": {
      "text/latex": [
       "$\\displaystyle  w_{y,y}+ z_{x,y}-\\frac{1}{y} w_{y}+\\frac{1}{y^{2}} w$"
      ],
      "text/plain": [
       "<IPython.core.display.Math object>"
      ]
     },
     "metadata": {},
     "output_type": "display_data"
    },
    {
     "data": {
      "text/latex": [
       "$\\displaystyle  w_{x,y}-\\frac{2 \\, x}{y} z_{x,x}-\\frac{x}{y^{2}} w_{x}$"
      ],
      "text/plain": [
       "<IPython.core.display.Math object>"
      ]
     },
     "metadata": {},
     "output_type": "display_data"
    },
    {
     "data": {
      "text/latex": [
       "$\\displaystyle  w_{x,y}+ z_{x,y}-\\frac{1}{y} w_{x}+\\frac{1}{2 \\, y} w_{y}+\\frac{x}{y} z_{y}-\\frac{1}{2 \\, y^{2}} w$"
      ],
      "text/plain": [
       "<IPython.core.display.Math object>"
      ]
     },
     "metadata": {},
     "output_type": "display_data"
    },
    {
     "name": "stdout",
     "output_type": "stream",
     "text": [
      "reduce_inner\n",
      "str(t)='(y/x) * diff(w(x, y), y)'\n",
      "   str(e1)='diff(z(x, y), x, y) + (y/x) * diff(w(x, y), y) + (2*y/x) * diff(z(x, y), x), [], []'\n",
      "   str(e2)='diff(w(x, y), y) + (1/2*x/((x^2 + y)*y)) * diff(z(x, y), y) + (-1/y) * w(x, y), [], []'\n",
      "   ===> subtract, *y/x\n",
      "after creation of DP\n",
      "===> str(_)='diff(z(x, y), x, y)',  (1, 1, 0, 1)\n",
      "===> str(_)='(2*y/x) * diff(z(x, y), x)',  (1, 0, 0, 1)\n",
      "===> str(_)='(-1/2/(x^2 + y)) * diff(z(x, y), y)',  (0, 1, 0, 1)\n",
      "===> str(_)='(1/x) * w(x, y)',  (0, 0, 0, 0)\n",
      "  after _reduce_inner: \n"
     ]
    },
    {
     "data": {
      "text/latex": [
       "$\\displaystyle  z_{x,y} + \\frac{y}{x} w_{y} + \\frac{2 \\, y}{x} z_{x}[], []$"
      ],
      "text/plain": [
       "<IPython.core.display.Math object>"
      ]
     },
     "metadata": {},
     "output_type": "display_data"
    },
    {
     "data": {
      "text/latex": [
       "$\\displaystyle  w_{y} + \\frac{x}{2 \\, {\\left(x^{2} y + y^{2}\\right)}} z_{y}-\\frac{1}{y} w[], []$"
      ],
      "text/plain": [
       "<IPython.core.display.Math object>"
      ]
     },
     "metadata": {},
     "output_type": "display_data"
    },
    {
     "data": {
      "text/latex": [
       "$\\displaystyle  z_{x,y} + \\frac{2 \\, y}{x} z_{x}-\\frac{1}{2 \\, {\\left(x^{2} + y\\right)}} z_{y} + \\frac{1}{x} w[], []$"
      ],
      "text/plain": [
       "<IPython.core.display.Math object>"
      ]
     },
     "metadata": {},
     "output_type": "display_data"
    },
    {
     "name": "stdout",
     "output_type": "stream",
     "text": [
      "reduce_inner\n",
      "nothing to reduce\n",
      "reduce_inner\n",
      "nothing to reduce\n",
      "reduce_inner\n",
      "str(t)='diff(w(x, y), y, y)'\n",
      "   str(e1)='diff(w(x, y), y, y) + diff(z(x, y), x, y) + (-1/y) * diff(w(x, y), y) + (y^(-2)) * w(x, y), [], []'\n",
      "   str(e2)='diff(w(x, y), y) + (1/2*x/((x^2 + y)*y)) * diff(z(x, y), y) + (-1/y) * w(x, y), [], []'\n",
      "   ===> diff, *1, [x]\n",
      "after creation of DP\n",
      "===> str(_)='diff(w(x, y), x, y)',  (1, 1, 1, 0)\n",
      "===> str(_)='(-1) * diff(w(x, y), y, y)',  (0, 2, 1, 0)\n",
      "===> str(_)='(1/2*x/((x^2 + y)*y) - 1) * diff(z(x, y), x, y)',  (1, 1, 0, 1)\n",
      "===> str(_)='(-1/y) * diff(w(x, y), x)',  (1, 0, 1, 0)\n",
      "===> str(_)='(1/y) * diff(w(x, y), y)',  (0, 1, 1, 0)\n",
      "===> str(_)='(-x^2/((x^4 + 2*x^2*y + y^2)*y) + 1/2/((x^2 + y)*y)) * diff(z(x, y), y)',  (0, 1, 0, 1)\n",
      "===> str(_)='(-1/y^2) * w(x, y)',  (0, 0, 0, 0)\n",
      "  after _reduce_inner: \n"
     ]
    },
    {
     "data": {
      "text/latex": [
       "$\\displaystyle  w_{y,y} +  z_{x,y}-\\frac{1}{y} w_{y} + \\frac{1}{y^{2}} w[], []$"
      ],
      "text/plain": [
       "<IPython.core.display.Math object>"
      ]
     },
     "metadata": {},
     "output_type": "display_data"
    },
    {
     "data": {
      "text/latex": [
       "$\\displaystyle  w_{y} + \\frac{x}{2 \\, {\\left(x^{2} y + y^{2}\\right)}} z_{y}-\\frac{1}{y} w[], []$"
      ],
      "text/plain": [
       "<IPython.core.display.Math object>"
      ]
     },
     "metadata": {},
     "output_type": "display_data"
    },
    {
     "data": {
      "text/latex": [
       "$\\displaystyle  w_{x,y}- w_{y,y} + (-\\frac{2 \\, x^{2} y + 2 \\, y^{2} - x}{2 \\, {\\left(x^{2} y + y^{2}\\right)}}) z_{x,y}-\\frac{1}{y} w_{x} + \\frac{1}{y} w_{y} + (-\\frac{x^{2} - y}{2 \\, {\\left(x^{4} y + 2 \\, x^{2} y^{2} + y^{3}\\right)}}) z_{y}-\\frac{1}{y^{2}} w[], []$"
      ],
      "text/plain": [
       "<IPython.core.display.Math object>"
      ]
     },
     "metadata": {},
     "output_type": "display_data"
    },
    {
     "name": "stdout",
     "output_type": "stream",
     "text": [
      "reduce_inner\n",
      "str(t)='diff(w(x, y), x, y)'\n",
      "   str(e1)='diff(w(x, y), x, y) + (-1) * diff(w(x, y), y, y) + (1/2*x/((x^2 + y)*y) - 1) * diff(z(x, y), x, y) + (-1/y) * diff(w(x, y), x) + (1/y) * diff(w(x, y), y) + (-x^2/((x^4 + 2*x^2*y + y^2)*y) + 1/2/((x^2 + y)*y)) * diff(z(x, y), y) + (-1/y^2) * w(x, y), [], []'\n",
      "   str(e2)='diff(w(x, y), y) + (1/2*x/((x^2 + y)*y)) * diff(z(x, y), y) + (-1/y) * w(x, y), [], []'\n",
      "   ===> diff, *1, [y]\n",
      "after creation of DP\n",
      "===> str(_)='diff(w(x, y), x, y)',  (1, 1, 1, 0)\n",
      "===> str(_)='(-2) * diff(w(x, y), y, y)',  (0, 2, 1, 0)\n",
      "===> str(_)='(1/2*x/((x^2 + y)*y) - 1) * diff(z(x, y), x, y)',  (1, 1, 0, 1)\n",
      "===> str(_)='(-1/2*x/((x^2 + y)*y)) * diff(z(x, y), y, y)',  (0, 2, 0, 1)\n",
      "===> str(_)='(-1/y) * diff(w(x, y), x)',  (1, 0, 1, 0)\n",
      "===> str(_)='(2/y) * diff(w(x, y), y)',  (0, 1, 1, 0)\n",
      "===> str(_)='(-x^2/((x^4 + 2*x^2*y + y^2)*y) + 1/2*x/((x^4 + 2*x^2*y + y^2)*y) + 1/2*x/((x^2 + y)*y^2) + 1/2/((x^2 + y)*y)) * diff(z(x, y), y)',  (0, 1, 0, 1)\n",
      "===> str(_)='(-2/y^2) * w(x, y)',  (0, 0, 0, 0)\n",
      "  after _reduce_inner: \n"
     ]
    },
    {
     "data": {
      "text/latex": [
       "$\\displaystyle  w_{x,y}- w_{y,y} + (-\\frac{2 \\, x^{2} y + 2 \\, y^{2} - x}{2 \\, {\\left(x^{2} y + y^{2}\\right)}}) z_{x,y}-\\frac{1}{y} w_{x} + \\frac{1}{y} w_{y} + (-\\frac{x^{2} - y}{2 \\, {\\left(x^{4} y + 2 \\, x^{2} y^{2} + y^{3}\\right)}}) z_{y}-\\frac{1}{y^{2}} w[], []$"
      ],
      "text/plain": [
       "<IPython.core.display.Math object>"
      ]
     },
     "metadata": {},
     "output_type": "display_data"
    },
    {
     "data": {
      "text/latex": [
       "$\\displaystyle  w_{y} + \\frac{x}{2 \\, {\\left(x^{2} y + y^{2}\\right)}} z_{y}-\\frac{1}{y} w[], []$"
      ],
      "text/plain": [
       "<IPython.core.display.Math object>"
      ]
     },
     "metadata": {},
     "output_type": "display_data"
    },
    {
     "data": {
      "text/latex": [
       "$\\displaystyle  w_{x,y}-2 w_{y,y} + (-\\frac{2 \\, x^{2} y + 2 \\, y^{2} - x}{2 \\, {\\left(x^{2} y + y^{2}\\right)}}) z_{x,y}-\\frac{x}{2 \\, {\\left(x^{2} y + y^{2}\\right)}} z_{y,y}-\\frac{1}{y} w_{x} + \\frac{2}{y} w_{y} + (\\frac{x^{3} - {\\left(x^{2} - 2 \\, x\\right)} y + y^{2}}{2 \\, {\\left(x^{4} y^{2} + 2 \\, x^{2} y^{3} + y^{4}\\right)}}) z_{y}-\\frac{2}{y^{2}} w[], []$"
      ],
      "text/plain": [
       "<IPython.core.display.Math object>"
      ]
     },
     "metadata": {},
     "output_type": "display_data"
    },
    {
     "name": "stdout",
     "output_type": "stream",
     "text": [
      "reduce_inner\n",
      "str(t)='diff(w(x, y), x, y)'\n",
      "   str(e1)='diff(w(x, y), x, y) + (-2) * diff(w(x, y), y, y) + (1/2*x/((x^2 + y)*y) - 1) * diff(z(x, y), x, y) + (-1/2*x/((x^2 + y)*y)) * diff(z(x, y), y, y) + (-1/y) * diff(w(x, y), x) + (2/y) * diff(w(x, y), y) + (-x^2/((x^4 + 2*x^2*y + y^2)*y) + 1/2*x/((x^4 + 2*x^2*y + y^2)*y) + 1/2*x/((x^2 + y)*y^2) + 1/2/((x^2 + y)*y)) * diff(z(x, y), y) + (-2/y^2) * w(x, y), [], []'\n",
      "   str(e2)='diff(w(x, y), y) + (1/2*x/((x^2 + y)*y)) * diff(z(x, y), y) + (-1/y) * w(x, y), [], []'\n",
      "   ===> diff, *1, [y]\n",
      "after creation of DP\n",
      "===> str(_)='diff(w(x, y), x, y)',  (1, 1, 1, 0)\n",
      "===> str(_)='(-3) * diff(w(x, y), y, y)',  (0, 2, 1, 0)\n",
      "===> str(_)='(1/2*x/((x^2 + y)*y)) * diff(z(x, y), x, y)',  (1, 1, 0, 1)\n",
      "===> str(_)='(-x/((x^2 + y)*y)) * diff(z(x, y), y, y)',  (0, 2, 0, 1)\n",
      "===> str(_)='(-1/y) * diff(w(x, y), x)',  (1, 0, 1, 0)\n",
      "===> str(_)='(3/y) * diff(w(x, y), y)',  (0, 1, 1, 0)\n",
      "===> str(_)='(-x^2/((x^4 + 2*x^2*y + y^2)*y) + 1/2*x/((x^4 + 2*x^2*y + y^2)*y) + 1/2*x/((x^2 + y)*y^2)) * diff(z(x, y), y)',  (0, 1, 0, 1)\n",
      "===> str(_)='(-3/y^2) * w(x, y)',  (0, 0, 0, 0)\n",
      "  after _reduce_inner: \n"
     ]
    },
    {
     "data": {
      "text/latex": [
       "$\\displaystyle  w_{x,y}-2 w_{y,y} + (-\\frac{2 \\, x^{2} y + 2 \\, y^{2} - x}{2 \\, {\\left(x^{2} y + y^{2}\\right)}}) z_{x,y}-\\frac{x}{2 \\, {\\left(x^{2} y + y^{2}\\right)}} z_{y,y}-\\frac{1}{y} w_{x} + \\frac{2}{y} w_{y} + (\\frac{x^{3} - {\\left(x^{2} - 2 \\, x\\right)} y + y^{2}}{2 \\, {\\left(x^{4} y^{2} + 2 \\, x^{2} y^{3} + y^{4}\\right)}}) z_{y}-\\frac{2}{y^{2}} w[], []$"
      ],
      "text/plain": [
       "<IPython.core.display.Math object>"
      ]
     },
     "metadata": {},
     "output_type": "display_data"
    },
    {
     "data": {
      "text/latex": [
       "$\\displaystyle  w_{y} + \\frac{x}{2 \\, {\\left(x^{2} y + y^{2}\\right)}} z_{y}-\\frac{1}{y} w[], []$"
      ],
      "text/plain": [
       "<IPython.core.display.Math object>"
      ]
     },
     "metadata": {},
     "output_type": "display_data"
    },
    {
     "data": {
      "text/latex": [
       "$\\displaystyle  w_{x,y}-3 w_{y,y} + \\frac{x}{2 \\, {\\left(x^{2} y + y^{2}\\right)}} z_{x,y}-\\frac{x}{x^{2} y + y^{2}} z_{y,y}-\\frac{1}{y} w_{x} + \\frac{3}{y} w_{y} + (\\frac{x^{3} - 2 \\, {\\left(x^{2} - x\\right)} y}{2 \\, {\\left(x^{4} y^{2} + 2 \\, x^{2} y^{3} + y^{4}\\right)}}) z_{y}-\\frac{3}{y^{2}} w[], []$"
      ],
      "text/plain": [
       "<IPython.core.display.Math object>"
      ]
     },
     "metadata": {},
     "output_type": "display_data"
    },
    {
     "name": "stdout",
     "output_type": "stream",
     "text": [
      "reduce_inner\n",
      "str(t)='diff(w(x, y), x, y)'\n",
      "   str(e1)='diff(w(x, y), x, y) + (-3) * diff(w(x, y), y, y) + (1/2*x/((x^2 + y)*y)) * diff(z(x, y), x, y) + (-x/((x^2 + y)*y)) * diff(z(x, y), y, y) + (-1/y) * diff(w(x, y), x) + (3/y) * diff(w(x, y), y) + (-x^2/((x^4 + 2*x^2*y + y^2)*y) + 1/2*x/((x^4 + 2*x^2*y + y^2)*y) + 1/2*x/((x^2 + y)*y^2)) * diff(z(x, y), y) + (-3/y^2) * w(x, y), [], []'\n",
      "   str(e2)='diff(w(x, y), y) + (1/2*x/((x^2 + y)*y)) * diff(z(x, y), y) + (-1/y) * w(x, y), [], []'\n",
      "   ===> diff, *1, [y]\n",
      "after creation of DP\n",
      "===> str(_)='diff(w(x, y), x, y)',  (1, 1, 1, 0)\n",
      "===> str(_)='(-4) * diff(w(x, y), y, y)',  (0, 2, 1, 0)\n",
      "===> str(_)='(1/2*x/((x^2 + y)*y)) * diff(z(x, y), x, y)',  (1, 1, 0, 1)\n",
      "===> str(_)='(-3/2*x/((x^2 + y)*y)) * diff(z(x, y), y, y)',  (0, 2, 0, 1)\n",
      "===> str(_)='(-1/y) * diff(w(x, y), x)',  (1, 0, 1, 0)\n",
      "===> str(_)='(4/y) * diff(w(x, y), y)',  (0, 1, 1, 0)\n",
      "===> str(_)='(-x^2/((x^4 + 2*x^2*y + y^2)*y) + 1/2*x/((x^4 + 2*x^2*y + y^2)*y) + 1/2*x/((x^2 + y)*y^2)) * diff(z(x, y), y)',  (0, 1, 0, 1)\n",
      "===> str(_)='(-4/y^2) * w(x, y)',  (0, 0, 0, 0)\n",
      "  after _reduce_inner: \n"
     ]
    },
    {
     "data": {
      "text/latex": [
       "$\\displaystyle  w_{x,y}-3 w_{y,y} + \\frac{x}{2 \\, {\\left(x^{2} y + y^{2}\\right)}} z_{x,y}-\\frac{x}{x^{2} y + y^{2}} z_{y,y}-\\frac{1}{y} w_{x} + \\frac{3}{y} w_{y} + (\\frac{x^{3} - 2 \\, {\\left(x^{2} - x\\right)} y}{2 \\, {\\left(x^{4} y^{2} + 2 \\, x^{2} y^{3} + y^{4}\\right)}}) z_{y}-\\frac{3}{y^{2}} w[], []$"
      ],
      "text/plain": [
       "<IPython.core.display.Math object>"
      ]
     },
     "metadata": {},
     "output_type": "display_data"
    },
    {
     "data": {
      "text/latex": [
       "$\\displaystyle  w_{y} + \\frac{x}{2 \\, {\\left(x^{2} y + y^{2}\\right)}} z_{y}-\\frac{1}{y} w[], []$"
      ],
      "text/plain": [
       "<IPython.core.display.Math object>"
      ]
     },
     "metadata": {},
     "output_type": "display_data"
    },
    {
     "data": {
      "text/latex": [
       "$\\displaystyle  w_{x,y}-4 w_{y,y} + \\frac{x}{2 \\, {\\left(x^{2} y + y^{2}\\right)}} z_{x,y}-\\frac{3 \\, x}{2 \\, {\\left(x^{2} y + y^{2}\\right)}} z_{y,y}-\\frac{1}{y} w_{x} + \\frac{4}{y} w_{y} + (\\frac{x^{3} - 2 \\, {\\left(x^{2} - x\\right)} y}{2 \\, {\\left(x^{4} y^{2} + 2 \\, x^{2} y^{3} + y^{4}\\right)}}) z_{y}-\\frac{4}{y^{2}} w[], []$"
      ],
      "text/plain": [
       "<IPython.core.display.Math object>"
      ]
     },
     "metadata": {},
     "output_type": "display_data"
    },
    {
     "name": "stdout",
     "output_type": "stream",
     "text": [
      "reduce_inner\n",
      "str(t)='diff(w(x, y), x, y)'\n",
      "   str(e1)='diff(w(x, y), x, y) + (-4) * diff(w(x, y), y, y) + (1/2*x/((x^2 + y)*y)) * diff(z(x, y), x, y) + (-3/2*x/((x^2 + y)*y)) * diff(z(x, y), y, y) + (-1/y) * diff(w(x, y), x) + (4/y) * diff(w(x, y), y) + (-x^2/((x^4 + 2*x^2*y + y^2)*y) + 1/2*x/((x^4 + 2*x^2*y + y^2)*y) + 1/2*x/((x^2 + y)*y^2)) * diff(z(x, y), y) + (-4/y^2) * w(x, y), [], []'\n",
      "   str(e2)='diff(w(x, y), y) + (1/2*x/((x^2 + y)*y)) * diff(z(x, y), y) + (-1/y) * w(x, y), [], []'\n",
      "   ===> diff, *1, [y]\n"
     ]
    },
    {
     "ename": "KeyboardInterrupt",
     "evalue": "",
     "output_type": "error",
     "traceback": [
      "\u001b[0;31m---------------------------------------------------------------------------\u001b[0m",
      "\u001b[0;31mKeyboardInterrupt\u001b[0m                         Traceback (most recent call last)",
      "Cell \u001b[0;32mIn[2], line 1\u001b[0m\n\u001b[0;32m----> 1\u001b[0m jb \u001b[38;5;241m=\u001b[39m \u001b[43mJanet_Basis\u001b[49m\u001b[43m(\u001b[49m\u001b[43msystem_2_24\u001b[49m\u001b[43m,\u001b[49m\u001b[43m \u001b[49m\u001b[43m[\u001b[49m\u001b[43mw\u001b[49m\u001b[43m,\u001b[49m\u001b[43mz\u001b[49m\u001b[43m]\u001b[49m\u001b[43m,\u001b[49m\u001b[43m \u001b[49m\u001b[43m[\u001b[49m\u001b[43my\u001b[49m\u001b[43m,\u001b[49m\u001b[43mx\u001b[49m\u001b[43m]\u001b[49m\u001b[43m,\u001b[49m\u001b[43m \u001b[49m\u001b[43mMgrevlex\u001b[49m\u001b[43m)\u001b[49m\n\u001b[1;32m      2\u001b[0m jb\u001b[38;5;241m.\u001b[39mshow(rich\u001b[38;5;241m=\u001b[39m\u001b[38;5;28;01mTrue\u001b[39;00m)\n",
      "File \u001b[0;32m~/research-disk/delierium/src/delierium/JanetBasis.py:977\u001b[0m, in \u001b[0;36mJanet_Basis.__init__\u001b[0;34m(self, S, dependent, independent, sort_order)\u001b[0m\n\u001b[1;32m    975\u001b[0m \u001b[38;5;28mprint\u001b[39m(\u001b[38;5;124mf\u001b[39m\u001b[38;5;124m\"\u001b[39m\u001b[38;5;124mThis is where we start, \u001b[39m\u001b[38;5;132;01m{\u001b[39;00mloop\u001b[38;5;132;01m=}\u001b[39;00m\u001b[38;5;124m\"\u001b[39m)\n\u001b[1;32m    976\u001b[0m \u001b[38;5;28mself\u001b[39m\u001b[38;5;241m.\u001b[39mshow(rich\u001b[38;5;241m=\u001b[39m\u001b[38;5;28;01mTrue\u001b[39;00m)\n\u001b[0;32m--> 977\u001b[0m \u001b[38;5;28mself\u001b[39m\u001b[38;5;241m.\u001b[39mS \u001b[38;5;241m=\u001b[39m \u001b[43mAutoreduce\u001b[49m\u001b[43m(\u001b[49m\u001b[38;5;28;43mself\u001b[39;49m\u001b[38;5;241;43m.\u001b[39;49m\u001b[43mS\u001b[49m\u001b[43m,\u001b[49m\u001b[43m \u001b[49m\u001b[43mcontext\u001b[49m\u001b[43m)\u001b[49m\n\u001b[1;32m    978\u001b[0m \u001b[38;5;28mprint\u001b[39m(\u001b[38;5;124m\"\u001b[39m\u001b[38;5;124mafter autoreduce\u001b[39m\u001b[38;5;124m\"\u001b[39m)\n\u001b[1;32m    979\u001b[0m \u001b[38;5;28mself\u001b[39m\u001b[38;5;241m.\u001b[39mshow(rich\u001b[38;5;241m=\u001b[39m\u001b[38;5;28;01mTrue\u001b[39;00m)\n",
      "File \u001b[0;32m~/research-disk/delierium/src/delierium/JanetBasis.py:570\u001b[0m, in \u001b[0;36mAutoreduce\u001b[0;34m(S, context)\u001b[0m\n\u001b[1;32m    568\u001b[0m have_reduced \u001b[38;5;241m=\u001b[39m \u001b[38;5;28;01mFalse\u001b[39;00m\n\u001b[1;32m    569\u001b[0m \u001b[38;5;28;01mfor\u001b[39;00m _r \u001b[38;5;129;01min\u001b[39;00m r:\n\u001b[0;32m--> 570\u001b[0m     rnew \u001b[38;5;241m=\u001b[39m \u001b[43mreduceS\u001b[49m\u001b[43m(\u001b[49m\u001b[43m_r\u001b[49m\u001b[43m,\u001b[49m\u001b[43m \u001b[49m\u001b[43m_p\u001b[49m\u001b[43m,\u001b[49m\u001b[43m \u001b[49m\u001b[43mcontext\u001b[49m\u001b[43m)\u001b[49m\n\u001b[1;32m    571\u001b[0m     have_reduced \u001b[38;5;241m=\u001b[39m have_reduced \u001b[38;5;129;01mor\u001b[39;00m rnew \u001b[38;5;241m!=\u001b[39m _r\n\u001b[1;32m    572\u001b[0m     newdps\u001b[38;5;241m.\u001b[39mappend(rnew)\n",
      "File \u001b[0;32m~/research-disk/delierium/src/delierium/JanetBasis.py:455\u001b[0m, in \u001b[0;36mreduceS\u001b[0;34m(e, S, context)\u001b[0m\n\u001b[1;32m    453\u001b[0m \u001b[38;5;28;01mwhile\u001b[39;00m reducing:\n\u001b[1;32m    454\u001b[0m     \u001b[38;5;28;01mfor\u001b[39;00m dp \u001b[38;5;129;01min\u001b[39;00m gen:\n\u001b[0;32m--> 455\u001b[0m         enew \u001b[38;5;241m=\u001b[39m \u001b[43mreduce\u001b[49m\u001b[43m(\u001b[49m\u001b[43me\u001b[49m\u001b[43m,\u001b[49m\u001b[43m \u001b[49m\u001b[43mdp\u001b[49m\u001b[43m,\u001b[49m\u001b[43m \u001b[49m\u001b[43mcontext\u001b[49m\u001b[43m)\u001b[49m\n\u001b[1;32m    456\u001b[0m         \u001b[38;5;66;03m# XXX check whether we can replace \"==\" by 'is'\u001b[39;00m\n\u001b[1;32m    457\u001b[0m         \u001b[38;5;28;01mif\u001b[39;00m enew \u001b[38;5;241m==\u001b[39m e:\n",
      "File \u001b[0;32m~/research-disk/delierium/src/delierium/JanetBasis.py:528\u001b[0m, in \u001b[0;36mreduce\u001b[0;34m(e1, e2, context)\u001b[0m\n\u001b[1;32m    505\u001b[0m \u001b[38;5;28;01mdef\u001b[39;00m \u001b[38;5;21mreduce\u001b[39m(e1: _Differential_Polynomial, e2: _Differential_Polynomial,\n\u001b[1;32m    506\u001b[0m            context: Context) \u001b[38;5;241m-\u001b[39m\u001b[38;5;241m>\u001b[39m _Differential_Polynomial:\n\u001b[1;32m    507\u001b[0m \u001b[38;5;250m    \u001b[39m\u001b[38;5;124;03m\"\"\"\u001b[39;00m\n\u001b[1;32m    508\u001b[0m \u001b[38;5;124;03m    Algorithm 2.4 from Schwarz, p.48\u001b[39;00m\n\u001b[1;32m    509\u001b[0m \u001b[38;5;124;03m    >>> # Example 2.33(f1), p.48\u001b[39;00m\n\u001b[0;32m   (...)\u001b[0m\n\u001b[1;32m    526\u001b[0m \u001b[38;5;124;03m    diff(z(x, y), x) + (1/x) * z(x, y), [], []\u001b[39;00m\n\u001b[1;32m    527\u001b[0m \u001b[38;5;124;03m    \"\"\"\u001b[39;00m\n\u001b[0;32m--> 528\u001b[0m     \u001b[38;5;28;01mwhile\u001b[39;00m \u001b[38;5;129;01mnot\u001b[39;00m \u001b[38;5;28mbool\u001b[39m((_e1 \u001b[38;5;241m:=\u001b[39m \u001b[43m_reduce_inner\u001b[49m\u001b[43m(\u001b[49m\u001b[43me1\u001b[49m\u001b[43m,\u001b[49m\u001b[43m \u001b[49m\u001b[43me2\u001b[49m\u001b[43m,\u001b[49m\u001b[43m \u001b[49m\u001b[43mcontext\u001b[49m\u001b[43m)\u001b[49m) \u001b[38;5;241m==\u001b[39m e1):\n\u001b[1;32m    529\u001b[0m         \u001b[38;5;28mprint\u001b[39m(\u001b[38;5;124m\"\u001b[39m\u001b[38;5;124m  after _reduce_inner: \u001b[39m\u001b[38;5;124m\"\u001b[39m)\n\u001b[1;32m    530\u001b[0m         display(Math(e1\u001b[38;5;241m.\u001b[39mshow(rich\u001b[38;5;241m=\u001b[39m\u001b[38;5;28;01mTrue\u001b[39;00m)))\n",
      "File \u001b[0;32m~/research-disk/delierium/src/delierium/JanetBasis.py:498\u001b[0m, in \u001b[0;36m_reduce_inner\u001b[0;34m(e1, e2, context)\u001b[0m\n\u001b[1;32m    495\u001b[0m                 variables_to_diff\u001b[38;5;241m.\u001b[39mextend([context\u001b[38;5;241m.\u001b[39m_independent[i]] \u001b[38;5;241m*\u001b[39m\n\u001b[1;32m    496\u001b[0m                                          \u001b[38;5;28mabs\u001b[39m(dif[i]))\n\u001b[1;32m    497\u001b[0m         \u001b[38;5;28mprint\u001b[39m(\u001b[38;5;124mf\u001b[39m\u001b[38;5;124m\"\u001b[39m\u001b[38;5;124m   ===> diff, *\u001b[39m\u001b[38;5;132;01m{\u001b[39;00mc\u001b[38;5;132;01m}\u001b[39;00m\u001b[38;5;124m, \u001b[39m\u001b[38;5;132;01m{\u001b[39;00mvariables_to_diff\u001b[38;5;132;01m}\u001b[39;00m\u001b[38;5;124m\"\u001b[39m)\n\u001b[0;32m--> 498\u001b[0m         \u001b[38;5;28;01mreturn\u001b[39;00m \u001b[43m_Differential_Polynomial\u001b[49m\u001b[43m(\u001b[49m\n\u001b[1;32m    499\u001b[0m \u001b[43m            \u001b[49m\u001b[43me1\u001b[49m\u001b[38;5;241;43m.\u001b[39;49m\u001b[43mexpression\u001b[49m\u001b[43m(\u001b[49m\u001b[43m)\u001b[49m\u001b[43m \u001b[49m\u001b[38;5;241;43m-\u001b[39;49m\u001b[43m \u001b[49m\u001b[43mc\u001b[49m\u001b[43m \u001b[49m\u001b[38;5;241;43m*\u001b[39;49m\u001b[43m \u001b[49m\u001b[43mdiff\u001b[49m\u001b[43m(\u001b[49m\u001b[43me2\u001b[49m\u001b[38;5;241;43m.\u001b[39;49m\u001b[43mexpression\u001b[49m\u001b[43m(\u001b[49m\u001b[43m)\u001b[49m\u001b[43m,\u001b[49m\u001b[43m \u001b[49m\u001b[38;5;241;43m*\u001b[39;49m\u001b[43mvariables_to_diff\u001b[49m\u001b[43m)\u001b[49m\u001b[43m,\u001b[49m\n\u001b[1;32m    500\u001b[0m \u001b[43m            \u001b[49m\u001b[43mcontext\u001b[49m\u001b[43m)\u001b[49m\n\u001b[1;32m    501\u001b[0m \u001b[38;5;28mprint\u001b[39m(\u001b[38;5;124m\"\u001b[39m\u001b[38;5;124mnothing to reduce\u001b[39m\u001b[38;5;124m\"\u001b[39m)\n\u001b[1;32m    502\u001b[0m \u001b[38;5;28;01mreturn\u001b[39;00m e1\n",
      "File \u001b[0;32m~/research-disk/delierium/src/delierium/JanetBasis.py:245\u001b[0m, in \u001b[0;36m_Differential_Polynomial.__init__\u001b[0;34m(self, e, context)\u001b[0m\n\u001b[1;32m    242\u001b[0m \u001b[38;5;28mself\u001b[39m\u001b[38;5;241m.\u001b[39mnonmultipliers \u001b[38;5;241m=\u001b[39m []\n\u001b[1;32m    244\u001b[0m \u001b[38;5;28;01mif\u001b[39;00m \u001b[38;5;129;01mnot\u001b[39;00m eq(\u001b[38;5;241m0\u001b[39m, e):\n\u001b[0;32m--> 245\u001b[0m     \u001b[38;5;28;43mself\u001b[39;49m\u001b[38;5;241;43m.\u001b[39;49m\u001b[43m_init\u001b[49m\u001b[43m(\u001b[49m\u001b[43me\u001b[49m\u001b[38;5;241;43m.\u001b[39;49m\u001b[43mexpand\u001b[49m\u001b[43m(\u001b[49m\u001b[43m)\u001b[49m\u001b[43m)\u001b[49m\n\u001b[1;32m    246\u001b[0m \u001b[38;5;28mprint\u001b[39m(\u001b[38;5;124m\"\u001b[39m\u001b[38;5;124mafter creation of DP\u001b[39m\u001b[38;5;124m\"\u001b[39m)\n\u001b[1;32m    247\u001b[0m \u001b[38;5;28;01mfor\u001b[39;00m _ \u001b[38;5;129;01min\u001b[39;00m \u001b[38;5;28mself\u001b[39m\u001b[38;5;241m.\u001b[39mp:\n",
      "File \u001b[0;32m~/research-disk/delierium/src/delierium/JanetBasis.py:267\u001b[0m, in \u001b[0;36m_Differential_Polynomial._init\u001b[0;34m(self, e)\u001b[0m\n\u001b[1;32m    265\u001b[0m \u001b[38;5;28;01mif\u001b[39;00m d:\n\u001b[1;32m    266\u001b[0m     \u001b[38;5;28;01mfor\u001b[39;00m _p \u001b[38;5;129;01min\u001b[39;00m \u001b[38;5;28mself\u001b[39m\u001b[38;5;241m.\u001b[39mp:\n\u001b[0;32m--> 267\u001b[0m         \u001b[38;5;28;01mif\u001b[39;00m \u001b[43meq\u001b[49m\u001b[43m(\u001b[49m\u001b[43m_p\u001b[49m\u001b[38;5;241;43m.\u001b[39;49m\u001b[43m_d\u001b[49m\u001b[43m,\u001b[49m\u001b[43m \u001b[49m\u001b[43md\u001b[49m\u001b[43m[\u001b[49m\u001b[38;5;241;43m0\u001b[39;49m\u001b[43m]\u001b[49m\u001b[43m)\u001b[49m:\n\u001b[1;32m    268\u001b[0m             _p\u001b[38;5;241m.\u001b[39m_coeff \u001b[38;5;241m+\u001b[39m\u001b[38;5;241m=\u001b[39m coeff\n\u001b[1;32m    269\u001b[0m             found \u001b[38;5;241m=\u001b[39m \u001b[38;5;28;01mTrue\u001b[39;00m\n",
      "File \u001b[0;32m~/research-disk/delierium/src/delierium/helpers.py:28\u001b[0m, in \u001b[0;36meq\u001b[0;34m(d1, d2)\u001b[0m\n\u001b[1;32m     21\u001b[0m \u001b[38;5;28;01mdef\u001b[39;00m \u001b[38;5;21meq\u001b[39m(d1, d2):\n\u001b[1;32m     22\u001b[0m \u001b[38;5;250m    \u001b[39m\u001b[38;5;124;03m\"\"\"This cheap trick gives as a lot of performance gain (> 80%!)\u001b[39;00m\n\u001b[1;32m     23\u001b[0m \u001b[38;5;124;03m    because maxima comparisons are expensive,and we can expect\u001b[39;00m\n\u001b[1;32m     24\u001b[0m \u001b[38;5;124;03m    a lot of the same comparisons over and over again.\u001b[39;00m\n\u001b[1;32m     25\u001b[0m \u001b[38;5;124;03m    All other caching is neglegible compared to this here\u001b[39;00m\n\u001b[1;32m     26\u001b[0m \u001b[38;5;124;03m    70 % of the time is spent here!\u001b[39;00m\n\u001b[1;32m     27\u001b[0m \u001b[38;5;124;03m    \"\"\"\u001b[39;00m\n\u001b[0;32m---> 28\u001b[0m     \u001b[38;5;28;01mreturn\u001b[39;00m \u001b[38;5;28mbool\u001b[39m((d1 \u001b[38;5;129;01mis\u001b[39;00m d2) \u001b[38;5;129;01mor\u001b[39;00m (d1 \u001b[38;5;241m==\u001b[39m d2))\n",
      "File \u001b[0;32m~/mambaforge/envs/sage/lib/python3.11/site-packages/sage/symbolic/expression.pyx:3516\u001b[0m, in \u001b[0;36msage.symbolic.expression.Expression.__bool__ (build/cythonized/sage/symbolic/expression.cpp:63672)\u001b[0;34m()\u001b[0m\n\u001b[1;32m   3514\u001b[0m if res in (True, False):\n\u001b[1;32m   3515\u001b[0m     return res\n\u001b[0;32m-> 3516\u001b[0m res = self.operator()((self.lhs()-self.rhs()).simplify_full(), 0).test_relation()\n\u001b[1;32m   3517\u001b[0m if res in (True, False):\n\u001b[1;32m   3518\u001b[0m     return res\n",
      "File \u001b[0;32m~/mambaforge/envs/sage/lib/python3.11/site-packages/sage/symbolic/expression.pyx:10744\u001b[0m, in \u001b[0;36msage.symbolic.expression.Expression.simplify_full (build/cythonized/sage/symbolic/expression.cpp:103728)\u001b[0;34m()\u001b[0m\n\u001b[1;32m  10742\u001b[0m x = x.simplify_trig()\n\u001b[1;32m  10743\u001b[0m x = x.simplify_rational()\n\u001b[0;32m> 10744\u001b[0m x = x.expand_sum()\n\u001b[1;32m  10745\u001b[0m return x\n\u001b[1;32m  10746\u001b[0m \n",
      "File \u001b[0;32m~/mambaforge/envs/sage/lib/python3.11/site-packages/sage/symbolic/expression.pyx:11323\u001b[0m, in \u001b[0;36msage.symbolic.expression.Expression.expand_sum (build/cythonized/sage/symbolic/expression.cpp:107912)\u001b[0;34m()\u001b[0m\n\u001b[1;32m  11321\u001b[0m         31.7752256945384\n\u001b[1;32m  11322\u001b[0m     \"\"\"\n\u001b[0;32m> 11323\u001b[0m     return self.parent()(self._maxima_().simplify_sum())\n\u001b[1;32m  11324\u001b[0m \n\u001b[1;32m  11325\u001b[0m def canonicalize_radical(self):\n",
      "File \u001b[0;32m~/mambaforge/envs/sage/lib/python3.11/site-packages/sage/symbolic/expression.pyx:1228\u001b[0m, in \u001b[0;36msage.symbolic.expression.Expression._maxima_ (build/cythonized/sage/symbolic/expression.cpp:47051)\u001b[0;34m()\u001b[0m\n\u001b[1;32m   1226\u001b[0m     # Maybe not such a great idea because the \"default\" interface is another one\n\u001b[1;32m   1227\u001b[0m     from sage.calculus.calculus import maxima\n\u001b[0;32m-> 1228\u001b[0m     return super()._interface_(maxima)\n\u001b[1;32m   1229\u001b[0m else:\n\u001b[1;32m   1230\u001b[0m     return super()._interface_(session)\n",
      "File \u001b[0;32m~/mambaforge/envs/sage/lib/python3.11/site-packages/sage/structure/sage_object.pyx:719\u001b[0m, in \u001b[0;36msage.structure.sage_object.SageObject._interface_ (build/cythonized/sage/structure/sage_object.c:7999)\u001b[0;34m()\u001b[0m\n\u001b[1;32m    717\u001b[0m         s = init_func(I)\n\u001b[1;32m    718\u001b[0m     else:\n\u001b[0;32m--> 719\u001b[0m         s = init_func()\n\u001b[1;32m    720\u001b[0m else:\n\u001b[1;32m    721\u001b[0m     try:\n",
      "File \u001b[0;32m~/mambaforge/envs/sage/lib/python3.11/site-packages/sage/structure/sage_object.pyx:836\u001b[0m, in \u001b[0;36msage.structure.sage_object.SageObject._maxima_lib_init_ (build/cythonized/sage/structure/sage_object.c:11771)\u001b[0;34m()\u001b[0m\n\u001b[1;32m    834\u001b[0m \n\u001b[1;32m    835\u001b[0m     def _maxima_lib_init_(self):\n\u001b[0;32m--> 836\u001b[0m         return self._maxima_init_()\n\u001b[1;32m    837\u001b[0m \n\u001b[1;32m    838\u001b[0m     def _magma_init_(self, magma):\n",
      "File \u001b[0;32m~/mambaforge/envs/sage/lib/python3.11/site-packages/sage/structure/sage_object.pyx:829\u001b[0m, in \u001b[0;36msage.structure.sage_object.SageObject._maxima_init_ (build/cythonized/sage/structure/sage_object.c:11451)\u001b[0;34m()\u001b[0m\n\u001b[1;32m    827\u001b[0m     import sage.interfaces.maxima\n\u001b[1;32m    828\u001b[0m     I = sage.interfaces.maxima.maxima\n\u001b[0;32m--> 829\u001b[0m     return self._interface_init_(I)\n\u001b[1;32m    830\u001b[0m \n\u001b[1;32m    831\u001b[0m def _maxima_lib_(self, G=None):\n",
      "File \u001b[0;32m~/mambaforge/envs/sage/lib/python3.11/site-packages/sage/symbolic/expression.pyx:1265\u001b[0m, in \u001b[0;36msage.symbolic.expression.Expression._interface_init_ (build/cythonized/sage/symbolic/expression.cpp:47329)\u001b[0;34m()\u001b[0m\n\u001b[1;32m   1263\u001b[0m     \"\"\"\n\u001b[1;32m   1264\u001b[0m     from sage.symbolic.expression_conversions import InterfaceInit\n\u001b[0;32m-> 1265\u001b[0m     return InterfaceInit(I)(self)\n\u001b[1;32m   1266\u001b[0m \n\u001b[1;32m   1267\u001b[0m def _gap_init_(self):\n",
      "File \u001b[0;32m~/mambaforge/envs/sage/lib/python3.11/site-packages/sage/symbolic/expression_conversions.py:204\u001b[0m, in \u001b[0;36mConverter.__call__\u001b[0;34m(self, ex)\u001b[0m\n\u001b[1;32m    201\u001b[0m     \u001b[38;5;28;01mif\u001b[39;00m \u001b[38;5;124m'\u001b[39m\u001b[38;5;124mself must be a numeric expression\u001b[39m\u001b[38;5;124m'\u001b[39m \u001b[38;5;129;01mnot\u001b[39;00m \u001b[38;5;129;01min\u001b[39;00m err\u001b[38;5;241m.\u001b[39margs:\n\u001b[1;32m    202\u001b[0m         \u001b[38;5;28;01mraise\u001b[39;00m err\n\u001b[0;32m--> 204\u001b[0m operator \u001b[38;5;241m=\u001b[39m ex\u001b[38;5;241m.\u001b[39moperator()\n\u001b[1;32m    205\u001b[0m \u001b[38;5;28;01mif\u001b[39;00m operator \u001b[38;5;129;01mis\u001b[39;00m \u001b[38;5;28;01mNone\u001b[39;00m:\n\u001b[1;32m    206\u001b[0m     \u001b[38;5;28;01mreturn\u001b[39;00m \u001b[38;5;28mself\u001b[39m\u001b[38;5;241m.\u001b[39msymbol(ex)\n",
      "File \u001b[0;32msrc/cysignals/signals.pyx:310\u001b[0m, in \u001b[0;36mcysignals.signals.python_check_interrupt\u001b[0;34m()\u001b[0m\n",
      "\u001b[0;31mKeyboardInterrupt\u001b[0m: "
     ]
    }
   ],
   "source": [
    "jb = Janet_Basis(system_2_24, [w,z], [y,x], Mgrevlex)\n",
    "jb.show(rich=True)"
   ]
  },
  {
   "cell_type": "code",
   "execution_count": null,
   "id": "72e3f6a3-29ef-4739-982f-a6179bd4eedc",
   "metadata": {},
   "outputs": [],
   "source": []
  }
 ],
 "metadata": {
  "kernelspec": {
   "display_name": "SageMath 10.2",
   "language": "sage",
   "name": "sagemath"
  },
  "language_info": {
   "codemirror_mode": {
    "name": "ipython",
    "version": 3
   },
   "file_extension": ".py",
   "mimetype": "text/x-python",
   "name": "python",
   "nbconvert_exporter": "python",
   "pygments_lexer": "ipython3",
   "version": "3.11.7"
  },
  "widgets": {
   "application/vnd.jupyter.widget-state+json": {
    "state": {},
    "version_major": 2,
    "version_minor": 0
   }
  }
 },
 "nbformat": 4,
 "nbformat_minor": 5
}
