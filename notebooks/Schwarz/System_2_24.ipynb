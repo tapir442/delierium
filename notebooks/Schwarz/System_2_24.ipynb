{
 "cells": [
  {
   "cell_type": "code",
   "execution_count": 2,
   "id": "1ddf6005-3cc1-4b70-8764-5fa6d487e6a5",
   "metadata": {},
   "outputs": [
    {
     "data": {
      "text/html": [
       "<html>\\(\\displaystyle -\\frac{w\\left(x, y\\right)}{y} + \\frac{x \\frac{\\partial}{\\partial y}z\\left(x, y\\right)}{2 \\, {\\left(x^{2} + y\\right)} y} + \\frac{\\partial}{\\partial y}w\\left(x, y\\right)\\)</html>"
      ],
      "text/latex": [
       "$\\displaystyle -\\frac{w\\left(x, y\\right)}{y} + \\frac{x \\frac{\\partial}{\\partial y}z\\left(x, y\\right)}{2 \\, {\\left(x^{2} + y\\right)} y} + \\frac{\\partial}{\\partial y}w\\left(x, y\\right)$"
      ],
      "text/plain": [
       "-w(x, y)/y + 1/2*x*diff(z(x, y), y)/((x^2 + y)*y) + diff(w(x, y), y)"
      ]
     },
     "metadata": {},
     "output_type": "display_data"
    },
    {
     "data": {
      "text/html": [
       "<html>\\(\\displaystyle \\frac{y \\frac{\\partial}{\\partial y}w\\left(x, y\\right)}{x} + \\frac{2 \\, y \\frac{\\partial}{\\partial x}z\\left(x, y\\right)}{x} + \\frac{\\partial^{2}}{\\partial x\\partial y}z\\left(x, y\\right)\\)</html>"
      ],
      "text/latex": [
       "$\\displaystyle \\frac{y \\frac{\\partial}{\\partial y}w\\left(x, y\\right)}{x} + \\frac{2 \\, y \\frac{\\partial}{\\partial x}z\\left(x, y\\right)}{x} + \\frac{\\partial^{2}}{\\partial x\\partial y}z\\left(x, y\\right)$"
      ],
      "text/plain": [
       "y*diff(w(x, y), y)/x + 2*y*diff(z(x, y), x)/x + diff(z(x, y), x, y)"
      ]
     },
     "metadata": {},
     "output_type": "display_data"
    },
    {
     "data": {
      "text/html": [
       "<html>\\(\\displaystyle -\\frac{2 \\, x \\frac{\\partial^{2}}{(\\partial x)^{2}}z\\left(x, y\\right)}{y} - \\frac{x \\frac{\\partial}{\\partial x}w\\left(x, y\\right)}{y^{2}} + \\frac{\\partial^{2}}{\\partial x\\partial y}w\\left(x, y\\right)\\)</html>"
      ],
      "text/latex": [
       "$\\displaystyle -\\frac{2 \\, x \\frac{\\partial^{2}}{(\\partial x)^{2}}z\\left(x, y\\right)}{y} - \\frac{x \\frac{\\partial}{\\partial x}w\\left(x, y\\right)}{y^{2}} + \\frac{\\partial^{2}}{\\partial x\\partial y}w\\left(x, y\\right)$"
      ],
      "text/plain": [
       "-2*x*diff(z(x, y), x, x)/y - x*diff(w(x, y), x)/y^2 + diff(w(x, y), x, y)"
      ]
     },
     "metadata": {},
     "output_type": "display_data"
    },
    {
     "data": {
      "text/html": [
       "<html>\\(\\displaystyle \\frac{x \\frac{\\partial}{\\partial y}z\\left(x, y\\right)}{y} - \\frac{\\frac{\\partial}{\\partial x}w\\left(x, y\\right)}{y} + \\frac{\\frac{\\partial}{\\partial y}w\\left(x, y\\right)}{2 \\, y} - \\frac{w\\left(x, y\\right)}{2 \\, y^{2}} + \\frac{\\partial^{2}}{\\partial x\\partial y}w\\left(x, y\\right) + \\frac{\\partial^{2}}{\\partial x\\partial y}z\\left(x, y\\right)\\)</html>"
      ],
      "text/latex": [
       "$\\displaystyle \\frac{x \\frac{\\partial}{\\partial y}z\\left(x, y\\right)}{y} - \\frac{\\frac{\\partial}{\\partial x}w\\left(x, y\\right)}{y} + \\frac{\\frac{\\partial}{\\partial y}w\\left(x, y\\right)}{2 \\, y} - \\frac{w\\left(x, y\\right)}{2 \\, y^{2}} + \\frac{\\partial^{2}}{\\partial x\\partial y}w\\left(x, y\\right) + \\frac{\\partial^{2}}{\\partial x\\partial y}z\\left(x, y\\right)$"
      ],
      "text/plain": [
       "x*diff(z(x, y), y)/y - diff(w(x, y), x)/y + 1/2*diff(w(x, y), y)/y - 1/2*w(x, y)/y^2 + diff(w(x, y), x, y) + diff(z(x, y), x, y)"
      ]
     },
     "metadata": {},
     "output_type": "display_data"
    },
    {
     "data": {
      "text/html": [
       "<html>\\(\\displaystyle -\\frac{\\frac{\\partial}{\\partial y}w\\left(x, y\\right)}{y} + \\frac{w\\left(x, y\\right)}{y^{2}} + \\frac{\\partial^{2}}{(\\partial y)^{2}}w\\left(x, y\\right) + \\frac{\\partial^{2}}{\\partial x\\partial y}z\\left(x, y\\right)\\)</html>"
      ],
      "text/latex": [
       "$\\displaystyle -\\frac{\\frac{\\partial}{\\partial y}w\\left(x, y\\right)}{y} + \\frac{w\\left(x, y\\right)}{y^{2}} + \\frac{\\partial^{2}}{(\\partial y)^{2}}w\\left(x, y\\right) + \\frac{\\partial^{2}}{\\partial x\\partial y}z\\left(x, y\\right)$"
      ],
      "text/plain": [
       "-diff(w(x, y), y)/y + w(x, y)/y^2 + diff(w(x, y), y, y) + diff(z(x, y), x, y)"
      ]
     },
     "metadata": {},
     "output_type": "display_data"
    }
   ],
   "source": [
    "from sage.all import *\n",
    "\n",
    "from delierium.MatrixOrder import Context, Mgrlex, Mgrevlex, Mlex\n",
    "from delierium.JanetBasis import Janet_Basis\n",
    "from delierium.helpers import latexer\n",
    "from IPython.display import Math\n",
    "\n",
    "vars = var (\"x y\")\n",
    "z = function(\"z\")(x,y)\n",
    "w = function(\"w\")(x,y)\n",
    "# ctx: items are in descending order\n",
    "ctx_grevlex_f = Context((w,z), (x,y), Mgrevlex)\n",
    "ctx_grlex_f   = Context((w,z), (x,y), Mgrlex)\n",
    "ctx_lex_f     = Context((w,z), (x,y), Mlex)\n",
    "\n",
    "f1 = diff(w, y) + x*diff(z,y)/(2*y*(x**2+y)) - w/y\n",
    "f2 = diff(z,x,y) + y*diff(w,y)/x + 2*y*diff(z, x)/x\n",
    "f3 = diff(w, x,y) - 2*x*diff(z, x,2)/y - x*diff(w,x)/y**2\n",
    "f4 = diff(w, x,y) + diff(z, x,y) + diff(w, y)/(2*y) - diff(w,x)/y + x* diff(z, y)/y - w/(2*y**2)\n",
    "f5 = diff(w,y,y) + diff(z,x,y) - diff(w, y)/y + w/(y**2)\n",
    "\n",
    "system_2_24 = [f1,f2,f3,f4,f5]\n",
    "for _ in system_2_24:\n",
    "    _.show()"
   ]
  },
  {
   "cell_type": "code",
   "execution_count": null,
   "id": "48199092-9276-45a3-b2cf-35ea72dfdc31",
   "metadata": {},
   "outputs": [
    {
     "data": {
      "text/latex": [
       "$\\displaystyle  w_{y}+\\frac{x}{2 \\, {\\left(x^{2} y + y^{2}\\right)}} z_{y}-\\frac{1}{y} w$"
      ],
      "text/plain": [
       "<IPython.core.display.Math object>"
      ]
     },
     "metadata": {},
     "output_type": "display_data"
    },
    {
     "data": {
      "text/latex": [
       "$\\displaystyle  z_{x,y}+\\frac{y}{x} w_{y}+\\frac{2 \\, y}{x} z_{x}$"
      ],
      "text/plain": [
       "<IPython.core.display.Math object>"
      ]
     },
     "metadata": {},
     "output_type": "display_data"
    },
    {
     "data": {
      "text/latex": [
       "$\\displaystyle  w_{x,y}-\\frac{2 \\, x}{y} z_{x,x}-\\frac{x}{y^{2}} w_{x}$"
      ],
      "text/plain": [
       "<IPython.core.display.Math object>"
      ]
     },
     "metadata": {},
     "output_type": "display_data"
    },
    {
     "data": {
      "text/latex": [
       "$\\displaystyle  w_{x,y}+ z_{x,y}-\\frac{1}{y} w_{x}+\\frac{1}{2 \\, y} w_{y}+\\frac{x}{y} z_{y}-\\frac{1}{2 \\, y^{2}} w$"
      ],
      "text/plain": [
       "<IPython.core.display.Math object>"
      ]
     },
     "metadata": {},
     "output_type": "display_data"
    },
    {
     "data": {
      "text/latex": [
       "$\\displaystyle  w_{y,y}+ z_{x,y}-\\frac{1}{y} w_{y}+\\frac{1}{y^{2}} w$"
      ],
      "text/plain": [
       "<IPython.core.display.Math object>"
      ]
     },
     "metadata": {},
     "output_type": "display_data"
    },
    {
     "name": "stdout",
     "output_type": "stream",
     "text": [
      "======> 5\n",
      "_.Lterm()=_Dterm(coeff=1, derivative=diff(w(x, y), y), context=<delierium.MatrixOrder.Context object at 0x7f5ddc4e69d0>), _.comparison_vector=(0, 1, 1, 0)\n",
      "_.Lterm()=_Dterm(coeff=1, derivative=diff(z(x, y), x, y), context=<delierium.MatrixOrder.Context object at 0x7f5ddc4e69d0>), _.comparison_vector=(1, 1, 0, 1)\n",
      "_.Lterm()=_Dterm(coeff=1, derivative=diff(w(x, y), x, y), context=<delierium.MatrixOrder.Context object at 0x7f5ddc4e69d0>), _.comparison_vector=(1, 1, 1, 0)\n",
      "_.Lterm()=_Dterm(coeff=1, derivative=diff(w(x, y), x, y), context=<delierium.MatrixOrder.Context object at 0x7f5ddc4e69d0>), _.comparison_vector=(1, 1, 1, 0)\n",
      "_.Lterm()=_Dterm(coeff=1, derivative=diff(w(x, y), y, y), context=<delierium.MatrixOrder.Context object at 0x7f5ddc4e69d0>), _.comparison_vector=(0, 2, 1, 0)\n",
      "****************************************************************************************\n",
      "This is where we start, loop=1\n"
     ]
    },
    {
     "data": {
      "text/latex": [
       "$\\displaystyle  w_{y}+\\frac{x}{2 \\, {\\left(x^{2} y + y^{2}\\right)}} z_{y}-\\frac{1}{y} w$"
      ],
      "text/plain": [
       "<IPython.core.display.Math object>"
      ]
     },
     "metadata": {},
     "output_type": "display_data"
    },
    {
     "data": {
      "text/latex": [
       "$\\displaystyle  z_{x,y}+\\frac{y}{x} w_{y}+\\frac{2 \\, y}{x} z_{x}$"
      ],
      "text/plain": [
       "<IPython.core.display.Math object>"
      ]
     },
     "metadata": {},
     "output_type": "display_data"
    },
    {
     "data": {
      "text/latex": [
       "$\\displaystyle  w_{x,y}-\\frac{2 \\, x}{y} z_{x,x}-\\frac{x}{y^{2}} w_{x}$"
      ],
      "text/plain": [
       "<IPython.core.display.Math object>"
      ]
     },
     "metadata": {},
     "output_type": "display_data"
    },
    {
     "data": {
      "text/latex": [
       "$\\displaystyle  w_{x,y}+ z_{x,y}-\\frac{1}{y} w_{x}+\\frac{1}{2 \\, y} w_{y}+\\frac{x}{y} z_{y}-\\frac{1}{2 \\, y^{2}} w$"
      ],
      "text/plain": [
       "<IPython.core.display.Math object>"
      ]
     },
     "metadata": {},
     "output_type": "display_data"
    },
    {
     "data": {
      "text/latex": [
       "$\\displaystyle  w_{y,y}+ z_{x,y}-\\frac{1}{y} w_{y}+\\frac{1}{y^{2}} w$"
      ],
      "text/plain": [
       "<IPython.core.display.Math object>"
      ]
     },
     "metadata": {},
     "output_type": "display_data"
    },
    {
     "name": "stdout",
     "output_type": "stream",
     "text": [
      "................ reduce_inner\n"
     ]
    },
    {
     "data": {
      "text/latex": [
       "$\\displaystyle  z_{x,y} + \\frac{y}{x} w_{y} + \\frac{2 \\, y}{x} z_{x}[], []$"
      ],
      "text/plain": [
       "<IPython.core.display.Math object>"
      ]
     },
     "metadata": {},
     "output_type": "display_data"
    },
    {
     "data": {
      "text/latex": [
       "$\\displaystyle  w_{y} + \\frac{x}{2 \\, {\\left(x^{2} y + y^{2}\\right)}} z_{y}-\\frac{1}{y} w[], []$"
      ],
      "text/plain": [
       "<IPython.core.display.Math object>"
      ]
     },
     "metadata": {},
     "output_type": "display_data"
    },
    {
     "name": "stdout",
     "output_type": "stream",
     "text": [
      "str(t)='(y/x) * diff(w(x, y), y)'\n",
      "via subtract -y/x\n",
      "via subtract -1/2/(x^2 + y)\n",
      "via subtract 1/x\n"
     ]
    },
    {
     "data": {
      "text/latex": [
       "$\\displaystyle  z_{x,y} + \\frac{2 \\, y}{x} z_{x}-\\frac{1}{2 \\, {\\left(x^{2} + y\\right)}} z_{y} + \\frac{1}{x} w[], []$"
      ],
      "text/plain": [
       "<IPython.core.display.Math object>"
      ]
     },
     "metadata": {},
     "output_type": "display_data"
    },
    {
     "name": "stdout",
     "output_type": "stream",
     "text": [
      "reduce_inner_end\n",
      "................ reduce_inner\n"
     ]
    },
    {
     "data": {
      "text/latex": [
       "$\\displaystyle  w_{x,y}-\\frac{2 \\, x}{y} z_{x,x}-\\frac{x}{y^{2}} w_{x}[], []$"
      ],
      "text/plain": [
       "<IPython.core.display.Math object>"
      ]
     },
     "metadata": {},
     "output_type": "display_data"
    },
    {
     "data": {
      "text/latex": [
       "$\\displaystyle  w_{y} + \\frac{x}{2 \\, {\\left(x^{2} y + y^{2}\\right)}} z_{y}-\\frac{1}{y} w[], []$"
      ],
      "text/plain": [
       "<IPython.core.display.Math object>"
      ]
     },
     "metadata": {},
     "output_type": "display_data"
    },
    {
     "name": "stdout",
     "output_type": "stream",
     "text": [
      "str(t)='diff(w(x, y), x, y)'\n",
      "via diff [x]\n"
     ]
    },
    {
     "data": {
      "text/latex": [
       "$\\displaystyle  z_{x,x} + \\frac{1}{4 \\, {\\left(x^{2} + y\\right)}} z_{x,y} + \\frac{x - y}{2 \\, x y} w_{x}-\\frac{x^{2} - y}{4 \\, {\\left(x^{5} + 2 \\, x^{3} y + x y^{2}\\right)}} z_{y}[], []$"
      ],
      "text/plain": [
       "<IPython.core.display.Math object>"
      ]
     },
     "metadata": {},
     "output_type": "display_data"
    },
    {
     "name": "stdout",
     "output_type": "stream",
     "text": [
      "reduce_inner_end\n",
      "................ reduce_inner\n"
     ]
    },
    {
     "data": {
      "text/latex": [
       "$\\displaystyle  w_{x,y} +  z_{x,y}-\\frac{1}{y} w_{x} + \\frac{1}{2 \\, y} w_{y} + \\frac{x}{y} z_{y}-\\frac{1}{2 \\, y^{2}} w[], []$"
      ],
      "text/plain": [
       "<IPython.core.display.Math object>"
      ]
     },
     "metadata": {},
     "output_type": "display_data"
    },
    {
     "data": {
      "text/latex": [
       "$\\displaystyle  w_{y} + \\frac{x}{2 \\, {\\left(x^{2} y + y^{2}\\right)}} z_{y}-\\frac{1}{y} w[], []$"
      ],
      "text/plain": [
       "<IPython.core.display.Math object>"
      ]
     },
     "metadata": {},
     "output_type": "display_data"
    },
    {
     "name": "stdout",
     "output_type": "stream",
     "text": [
      "str(t)='diff(w(x, y), x, y)'\n",
      "via diff [x]\n"
     ]
    },
    {
     "data": {
      "text/latex": [
       "$\\displaystyle  z_{x,y} + \\frac{x^{2} + y}{2 \\, x^{2} y + 2 \\, y^{2} - x} w_{y} + \\frac{2 \\, x^{5} + 2 \\, x y^{2} + x^{2} + {\\left(4 \\, x^{3} - 1\\right)} y}{4 \\, x^{2} y^{2} - x^{3} + 2 \\, y^{3} + {\\left(2 \\, x^{4} - x\\right)} y} z_{y}-\\frac{x^{2} + y}{2 \\, x^{2} y^{2} + 2 \\, y^{3} - x y} w[], []$"
      ],
      "text/plain": [
       "<IPython.core.display.Math object>"
      ]
     },
     "metadata": {},
     "output_type": "display_data"
    },
    {
     "name": "stdout",
     "output_type": "stream",
     "text": [
      "reduce_inner_end\n",
      "................ reduce_inner\n"
     ]
    },
    {
     "data": {
      "text/latex": [
       "$\\displaystyle  w_{y,y} +  z_{x,y}-\\frac{1}{y} w_{y} + \\frac{1}{y^{2}} w[], []$"
      ],
      "text/plain": [
       "<IPython.core.display.Math object>"
      ]
     },
     "metadata": {},
     "output_type": "display_data"
    },
    {
     "data": {
      "text/latex": [
       "$\\displaystyle  w_{y} + \\frac{x}{2 \\, {\\left(x^{2} y + y^{2}\\right)}} z_{y}-\\frac{1}{y} w[], []$"
      ],
      "text/plain": [
       "<IPython.core.display.Math object>"
      ]
     },
     "metadata": {},
     "output_type": "display_data"
    },
    {
     "name": "stdout",
     "output_type": "stream",
     "text": [
      "str(t)='diff(w(x, y), y, y)'\n",
      "via diff [y]\n"
     ]
    },
    {
     "data": {
      "text/latex": [
       "$\\displaystyle  z_{x,y}-\\frac{x}{2 \\, {\\left(x^{2} y + y^{2}\\right)}} z_{y,y} + (\\frac{x^{3} + 2 \\, x y}{2 \\, {\\left(x^{4} y^{2} + 2 \\, x^{2} y^{3} + y^{4}\\right)}}) z_{y}[], []$"
      ],
      "text/plain": [
       "<IPython.core.display.Math object>"
      ]
     },
     "metadata": {},
     "output_type": "display_data"
    },
    {
     "name": "stdout",
     "output_type": "stream",
     "text": [
      "reduce_inner_end\n",
      "duration reorder: 0.5797417163848877\n",
      "AAAAAAAAAAAAAAAAAAAAAAAAAAAAAAAAAAAAAAAAAAAAAAAAAAAAAAAAAAAAAAAAAAAAAAAAAAAAAAAAAAAAAAAAAAAAAAAAAAA 0\n"
     ]
    },
    {
     "data": {
      "text/latex": [
       "$\\displaystyle  w_{y}+\\frac{x}{2 \\, {\\left(x^{2} y + y^{2}\\right)}} z_{y}-\\frac{1}{y} w$"
      ],
      "text/plain": [
       "<IPython.core.display.Math object>"
      ]
     },
     "metadata": {},
     "output_type": "display_data"
    },
    {
     "data": {
      "text/latex": [
       "$\\displaystyle  z_{x,y}+\\frac{2 \\, y}{x} z_{x}-\\frac{1}{2 \\, {\\left(x^{2} + y\\right)}} z_{y}+\\frac{1}{x} w$"
      ],
      "text/plain": [
       "<IPython.core.display.Math object>"
      ]
     },
     "metadata": {},
     "output_type": "display_data"
    },
    {
     "data": {
      "text/latex": [
       "$\\displaystyle  z_{x,y}+\\frac{x^{2} + y}{2 \\, x^{2} y + 2 \\, y^{2} - x} w_{y}+\\frac{2 \\, x^{5} + 2 \\, x y^{2} + x^{2} + {\\left(4 \\, x^{3} - 1\\right)} y}{4 \\, x^{2} y^{2} - x^{3} + 2 \\, y^{3} + {\\left(2 \\, x^{4} - x\\right)} y} z_{y}-\\frac{x^{2} + y}{2 \\, x^{2} y^{2} + 2 \\, y^{3} - x y} w$"
      ],
      "text/plain": [
       "<IPython.core.display.Math object>"
      ]
     },
     "metadata": {},
     "output_type": "display_data"
    },
    {
     "data": {
      "text/latex": [
       "$\\displaystyle  z_{x,y}-\\frac{x}{2 \\, {\\left(x^{2} y + y^{2}\\right)}} z_{y,y}+(\\frac{x^{3} + 2 \\, x y}{2 \\, {\\left(x^{4} y^{2} + 2 \\, x^{2} y^{3} + y^{4}\\right)}}) z_{y}$"
      ],
      "text/plain": [
       "<IPython.core.display.Math object>"
      ]
     },
     "metadata": {},
     "output_type": "display_data"
    },
    {
     "data": {
      "text/latex": [
       "$\\displaystyle  z_{x,x}+\\frac{1}{4 \\, {\\left(x^{2} + y\\right)}} z_{x,y}+\\frac{x - y}{2 \\, x y} w_{x}-\\frac{x^{2} - y}{4 \\, {\\left(x^{5} + 2 \\, x^{3} y + x y^{2}\\right)}} z_{y}$"
      ],
      "text/plain": [
       "<IPython.core.display.Math object>"
      ]
     },
     "metadata": {},
     "output_type": "display_data"
    },
    {
     "name": "stdout",
     "output_type": "stream",
     "text": [
      "................ reduce_inner\n"
     ]
    },
    {
     "data": {
      "text/latex": [
       "$\\displaystyle  z_{x,y} + \\frac{x^{2} + y}{2 \\, x^{2} y + 2 \\, y^{2} - x} w_{y} + \\frac{2 \\, x^{5} + 2 \\, x y^{2} + x^{2} + {\\left(4 \\, x^{3} - 1\\right)} y}{4 \\, x^{2} y^{2} - x^{3} + 2 \\, y^{3} + {\\left(2 \\, x^{4} - x\\right)} y} z_{y}-\\frac{x^{2} + y}{2 \\, x^{2} y^{2} + 2 \\, y^{3} - x y} w[], []$"
      ],
      "text/plain": [
       "<IPython.core.display.Math object>"
      ]
     },
     "metadata": {},
     "output_type": "display_data"
    },
    {
     "data": {
      "text/latex": [
       "$\\displaystyle  w_{y} + \\frac{x}{2 \\, {\\left(x^{2} y + y^{2}\\right)}} z_{y}-\\frac{1}{y} w[], []$"
      ],
      "text/plain": [
       "<IPython.core.display.Math object>"
      ]
     },
     "metadata": {},
     "output_type": "display_data"
    },
    {
     "name": "stdout",
     "output_type": "stream",
     "text": [
      "str(t)='(-1/(y*(x/((x^2 + y)*y) - 2))) * diff(w(x, y), y)'\n",
      "via subtract 1/(y*(x/((x^2 + y)*y) - 2))\n",
      "via subtract 1/2*x/((x^2 + y)*y^2*(x/((x^2 + y)*y) - 2))\n",
      "via subtract -1/(y^2*(x/((x^2 + y)*y) - 2))\n"
     ]
    },
    {
     "data": {
      "text/latex": [
       "$\\displaystyle  z_{x,y} + (\\frac{4 \\, x y^{3} - x^{3} + 2 \\, {\\left(4 \\, x^{3} - 1\\right)} y^{2} + {\\left(4 \\, x^{5} + 2 \\, x^{2} - x\\right)} y}{2 \\, {\\left(4 \\, x^{2} y^{3} - x^{3} y + 2 \\, y^{4} + {\\left(2 \\, x^{4} - x\\right)} y^{2}\\right)}}) z_{y}[], []$"
      ],
      "text/plain": [
       "<IPython.core.display.Math object>"
      ]
     },
     "metadata": {},
     "output_type": "display_data"
    },
    {
     "name": "stdout",
     "output_type": "stream",
     "text": [
      "reduce_inner_end\n",
      "................ reduce_inner\n"
     ]
    },
    {
     "data": {
      "text/latex": [
       "$\\displaystyle  z_{x,y} + (\\frac{4 \\, x y^{3} - x^{3} + 2 \\, {\\left(4 \\, x^{3} - 1\\right)} y^{2} + {\\left(4 \\, x^{5} + 2 \\, x^{2} - x\\right)} y}{2 \\, {\\left(4 \\, x^{2} y^{3} - x^{3} y + 2 \\, y^{4} + {\\left(2 \\, x^{4} - x\\right)} y^{2}\\right)}}) z_{y}[], []$"
      ],
      "text/plain": [
       "<IPython.core.display.Math object>"
      ]
     },
     "metadata": {},
     "output_type": "display_data"
    },
    {
     "data": {
      "text/latex": [
       "$\\displaystyle  z_{x,y} + \\frac{2 \\, y}{x} z_{x}-\\frac{1}{2 \\, {\\left(x^{2} + y\\right)}} z_{y} + \\frac{1}{x} w[], []$"
      ],
      "text/plain": [
       "<IPython.core.display.Math object>"
      ]
     },
     "metadata": {},
     "output_type": "display_data"
    },
    {
     "name": "stdout",
     "output_type": "stream",
     "text": [
      "str(t)='diff(z(x, y), x, y)'\n",
      "via subtract -1\n",
      "via subtract -2*y/x\n",
      "via subtract 1/2/(x^2 + y)\n",
      "via subtract -1/x\n"
     ]
    },
    {
     "data": {
      "text/latex": [
       "$\\displaystyle  z_{x} + \\frac{x^{4} - 2 \\, {\\left(2 \\, x^{2} + x\\right)} y^{3} - 2 \\, {\\left(4 \\, x^{4} + x^{3} - x\\right)} y^{2} - 2 \\, {\\left(2 \\, x^{6} + x^{3} - x^{2}\\right)} y}{4 \\, {\\left(4 \\, x^{2} y^{4} - x^{3} y^{2} + 2 \\, y^{5} + {\\left(2 \\, x^{4} - x\\right)} y^{3}\\right)}} z_{y} + \\frac{1}{2 \\, y} w[], []$"
      ],
      "text/plain": [
       "<IPython.core.display.Math object>"
      ]
     },
     "metadata": {},
     "output_type": "display_data"
    },
    {
     "name": "stdout",
     "output_type": "stream",
     "text": [
      "reduce_inner_end\n",
      "................ reduce_inner\n"
     ]
    },
    {
     "data": {
      "text/latex": [
       "$\\displaystyle  z_{x,y}-\\frac{x}{2 \\, {\\left(x^{2} y + y^{2}\\right)}} z_{y,y} + (\\frac{x^{3} + 2 \\, x y}{2 \\, {\\left(x^{4} y^{2} + 2 \\, x^{2} y^{3} + y^{4}\\right)}}) z_{y}[], []$"
      ],
      "text/plain": [
       "<IPython.core.display.Math object>"
      ]
     },
     "metadata": {},
     "output_type": "display_data"
    },
    {
     "data": {
      "text/latex": [
       "$\\displaystyle  w_{y} + \\frac{x}{2 \\, {\\left(x^{2} y + y^{2}\\right)}} z_{y}-\\frac{1}{y} w[], []$"
      ],
      "text/plain": [
       "<IPython.core.display.Math object>"
      ]
     },
     "metadata": {},
     "output_type": "display_data"
    },
    {
     "name": "stdout",
     "output_type": "stream",
     "text": [
      "................ reduce_inner\n"
     ]
    },
    {
     "data": {
      "text/latex": [
       "$\\displaystyle  z_{x,y}-\\frac{x}{2 \\, {\\left(x^{2} y + y^{2}\\right)}} z_{y,y} + (\\frac{x^{3} + 2 \\, x y}{2 \\, {\\left(x^{4} y^{2} + 2 \\, x^{2} y^{3} + y^{4}\\right)}}) z_{y}[], []$"
      ],
      "text/plain": [
       "<IPython.core.display.Math object>"
      ]
     },
     "metadata": {},
     "output_type": "display_data"
    },
    {
     "data": {
      "text/latex": [
       "$\\displaystyle  z_{x,y} + \\frac{2 \\, y}{x} z_{x}-\\frac{1}{2 \\, {\\left(x^{2} + y\\right)}} z_{y} + \\frac{1}{x} w[], []$"
      ],
      "text/plain": [
       "<IPython.core.display.Math object>"
      ]
     },
     "metadata": {},
     "output_type": "display_data"
    },
    {
     "name": "stdout",
     "output_type": "stream",
     "text": [
      "str(t)='diff(z(x, y), x, y)'\n",
      "via subtract -1\n",
      "via subtract -2*y/x\n",
      "via subtract 1/2/(x^2 + y)\n",
      "via subtract -1/x\n"
     ]
    },
    {
     "data": {
      "text/latex": [
       "$\\displaystyle  z_{y,y} + \\frac{4 \\, {\\left(x^{2} y^{2} + y^{3}\\right)}}{x^{2}} z_{x}-\\frac{x^{2} y^{2} + x^{3} + y^{3} + 2 \\, x y}{x^{3} y + x y^{2}} z_{y} + \\frac{2 \\, {\\left(x^{2} y + y^{2}\\right)}}{x^{2}} w[], []$"
      ],
      "text/plain": [
       "<IPython.core.display.Math object>"
      ]
     },
     "metadata": {},
     "output_type": "display_data"
    },
    {
     "name": "stdout",
     "output_type": "stream",
     "text": [
      "reduce_inner_end\n",
      "................ reduce_inner\n"
     ]
    },
    {
     "data": {
      "text/latex": [
       "$\\displaystyle  z_{x,x} + \\frac{1}{4 \\, {\\left(x^{2} + y\\right)}} z_{x,y} + \\frac{x - y}{2 \\, x y} w_{x}-\\frac{x^{2} - y}{4 \\, {\\left(x^{5} + 2 \\, x^{3} y + x y^{2}\\right)}} z_{y}[], []$"
      ],
      "text/plain": [
       "<IPython.core.display.Math object>"
      ]
     },
     "metadata": {},
     "output_type": "display_data"
    },
    {
     "data": {
      "text/latex": [
       "$\\displaystyle  w_{y} + \\frac{x}{2 \\, {\\left(x^{2} y + y^{2}\\right)}} z_{y}-\\frac{1}{y} w[], []$"
      ],
      "text/plain": [
       "<IPython.core.display.Math object>"
      ]
     },
     "metadata": {},
     "output_type": "display_data"
    },
    {
     "name": "stdout",
     "output_type": "stream",
     "text": [
      "str(t)='(1/2*y*(x/y^2 - 1/y)/x) * diff(w(x, y), x)'\n",
      "nothing to reduce\n"
     ]
    },
    {
     "data": {
      "text/latex": [
       "$\\displaystyle  z_{x,x} + \\frac{1}{4 \\, {\\left(x^{2} + y\\right)}} z_{x,y} + \\frac{x - y}{2 \\, x y} w_{x}-\\frac{x^{2} - y}{4 \\, {\\left(x^{5} + 2 \\, x^{3} y + x y^{2}\\right)}} z_{y}[], []$"
      ],
      "text/plain": [
       "<IPython.core.display.Math object>"
      ]
     },
     "metadata": {},
     "output_type": "display_data"
    },
    {
     "name": "stdout",
     "output_type": "stream",
     "text": [
      "reduce_inner_end\n",
      "................ reduce_inner\n"
     ]
    },
    {
     "data": {
      "text/latex": [
       "$\\displaystyle  z_{x,x} + \\frac{1}{4 \\, {\\left(x^{2} + y\\right)}} z_{x,y} + \\frac{x - y}{2 \\, x y} w_{x}-\\frac{x^{2} - y}{4 \\, {\\left(x^{5} + 2 \\, x^{3} y + x y^{2}\\right)}} z_{y}[], []$"
      ],
      "text/plain": [
       "<IPython.core.display.Math object>"
      ]
     },
     "metadata": {},
     "output_type": "display_data"
    },
    {
     "data": {
      "text/latex": [
       "$\\displaystyle  z_{x,y} + \\frac{2 \\, y}{x} z_{x}-\\frac{1}{2 \\, {\\left(x^{2} + y\\right)}} z_{y} + \\frac{1}{x} w[], []$"
      ],
      "text/plain": [
       "<IPython.core.display.Math object>"
      ]
     },
     "metadata": {},
     "output_type": "display_data"
    },
    {
     "name": "stdout",
     "output_type": "stream",
     "text": [
      "str(t)='diff(z(x, y), x, x)'\n",
      "nothing to reduce\n"
     ]
    },
    {
     "data": {
      "text/latex": [
       "$\\displaystyle  z_{x,x} + \\frac{1}{4 \\, {\\left(x^{2} + y\\right)}} z_{x,y} + \\frac{x - y}{2 \\, x y} w_{x}-\\frac{x^{2} - y}{4 \\, {\\left(x^{5} + 2 \\, x^{3} y + x y^{2}\\right)}} z_{y}[], []$"
      ],
      "text/plain": [
       "<IPython.core.display.Math object>"
      ]
     },
     "metadata": {},
     "output_type": "display_data"
    },
    {
     "name": "stdout",
     "output_type": "stream",
     "text": [
      "reduce_inner_end\n",
      "duration reorder: 0.8438093662261963\n",
      "AAAAAAAAAAAAAAAAAAAAAAAAAAAAAAAAAAAAAAAAAAAAAAAAAAAAAAAAAAAAAAAAAAAAAAAAAAAAAAAAAAAAAAAAAAAAAAAAAAA 0\n"
     ]
    },
    {
     "data": {
      "text/latex": [
       "$\\displaystyle  z_{x}+\\frac{x^{4} - 2 \\, {\\left(2 \\, x^{2} + x\\right)} y^{3} - 2 \\, {\\left(4 \\, x^{4} + x^{3} - x\\right)} y^{2} - 2 \\, {\\left(2 \\, x^{6} + x^{3} - x^{2}\\right)} y}{4 \\, {\\left(4 \\, x^{2} y^{4} - x^{3} y^{2} + 2 \\, y^{5} + {\\left(2 \\, x^{4} - x\\right)} y^{3}\\right)}} z_{y}+\\frac{1}{2 \\, y} w$"
      ],
      "text/plain": [
       "<IPython.core.display.Math object>"
      ]
     },
     "metadata": {},
     "output_type": "display_data"
    },
    {
     "data": {
      "text/latex": [
       "$\\displaystyle  w_{y}+\\frac{x}{2 \\, {\\left(x^{2} y + y^{2}\\right)}} z_{y}-\\frac{1}{y} w$"
      ],
      "text/plain": [
       "<IPython.core.display.Math object>"
      ]
     },
     "metadata": {},
     "output_type": "display_data"
    },
    {
     "data": {
      "text/latex": [
       "$\\displaystyle  z_{y,y}+\\frac{4 \\, {\\left(x^{2} y^{2} + y^{3}\\right)}}{x^{2}} z_{x}-\\frac{x^{2} y^{2} + x^{3} + y^{3} + 2 \\, x y}{x^{3} y + x y^{2}} z_{y}+\\frac{2 \\, {\\left(x^{2} y + y^{2}\\right)}}{x^{2}} w$"
      ],
      "text/plain": [
       "<IPython.core.display.Math object>"
      ]
     },
     "metadata": {},
     "output_type": "display_data"
    },
    {
     "data": {
      "text/latex": [
       "$\\displaystyle  z_{x,y}+\\frac{2 \\, y}{x} z_{x}-\\frac{1}{2 \\, {\\left(x^{2} + y\\right)}} z_{y}+\\frac{1}{x} w$"
      ],
      "text/plain": [
       "<IPython.core.display.Math object>"
      ]
     },
     "metadata": {},
     "output_type": "display_data"
    },
    {
     "data": {
      "text/latex": [
       "$\\displaystyle  z_{x,x}+\\frac{1}{4 \\, {\\left(x^{2} + y\\right)}} z_{x,y}+\\frac{x - y}{2 \\, x y} w_{x}-\\frac{x^{2} - y}{4 \\, {\\left(x^{5} + 2 \\, x^{3} y + x y^{2}\\right)}} z_{y}$"
      ],
      "text/plain": [
       "<IPython.core.display.Math object>"
      ]
     },
     "metadata": {},
     "output_type": "display_data"
    },
    {
     "name": "stdout",
     "output_type": "stream",
     "text": [
      "................ reduce_inner\n"
     ]
    },
    {
     "data": {
      "text/latex": [
       "$\\displaystyle  z_{x,y} + \\frac{2 \\, y}{x} z_{x}-\\frac{1}{2 \\, {\\left(x^{2} + y\\right)}} z_{y} + \\frac{1}{x} w[], []$"
      ],
      "text/plain": [
       "<IPython.core.display.Math object>"
      ]
     },
     "metadata": {},
     "output_type": "display_data"
    },
    {
     "data": {
      "text/latex": [
       "$\\displaystyle  z_{x} + \\frac{x^{4} - 2 \\, {\\left(2 \\, x^{2} + x\\right)} y^{3} - 2 \\, {\\left(4 \\, x^{4} + x^{3} - x\\right)} y^{2} - 2 \\, {\\left(2 \\, x^{6} + x^{3} - x^{2}\\right)} y}{4 \\, {\\left(4 \\, x^{2} y^{4} - x^{3} y^{2} + 2 \\, y^{5} + {\\left(2 \\, x^{4} - x\\right)} y^{3}\\right)}} z_{y} + \\frac{1}{2 \\, y} w[], []$"
      ],
      "text/plain": [
       "<IPython.core.display.Math object>"
      ]
     },
     "metadata": {},
     "output_type": "display_data"
    },
    {
     "name": "stdout",
     "output_type": "stream",
     "text": [
      "................ reduce_inner\n"
     ]
    },
    {
     "data": {
      "text/latex": [
       "$\\displaystyle  z_{x,y} + \\frac{2 \\, y}{x} z_{x}-\\frac{1}{2 \\, {\\left(x^{2} + y\\right)}} z_{y} + \\frac{1}{x} w[], []$"
      ],
      "text/plain": [
       "<IPython.core.display.Math object>"
      ]
     },
     "metadata": {},
     "output_type": "display_data"
    },
    {
     "data": {
      "text/latex": [
       "$\\displaystyle  w_{y} + \\frac{x}{2 \\, {\\left(x^{2} y + y^{2}\\right)}} z_{y}-\\frac{1}{y} w[], []$"
      ],
      "text/plain": [
       "<IPython.core.display.Math object>"
      ]
     },
     "metadata": {},
     "output_type": "display_data"
    },
    {
     "name": "stdout",
     "output_type": "stream",
     "text": [
      "................ reduce_inner\n"
     ]
    },
    {
     "data": {
      "text/latex": [
       "$\\displaystyle  z_{x,y} + \\frac{2 \\, y}{x} z_{x}-\\frac{1}{2 \\, {\\left(x^{2} + y\\right)}} z_{y} + \\frac{1}{x} w[], []$"
      ],
      "text/plain": [
       "<IPython.core.display.Math object>"
      ]
     },
     "metadata": {},
     "output_type": "display_data"
    },
    {
     "data": {
      "text/latex": [
       "$\\displaystyle  z_{y,y} + \\frac{4 \\, {\\left(x^{2} y^{2} + y^{3}\\right)}}{x^{2}} z_{x}-\\frac{x^{2} y^{2} + x^{3} + y^{3} + 2 \\, x y}{x^{3} y + x y^{2}} z_{y} + \\frac{2 \\, {\\left(x^{2} y + y^{2}\\right)}}{x^{2}} w[], []$"
      ],
      "text/plain": [
       "<IPython.core.display.Math object>"
      ]
     },
     "metadata": {},
     "output_type": "display_data"
    },
    {
     "name": "stdout",
     "output_type": "stream",
     "text": [
      "................ reduce_inner\n"
     ]
    },
    {
     "data": {
      "text/latex": [
       "$\\displaystyle  z_{x,x} + \\frac{1}{4 \\, {\\left(x^{2} + y\\right)}} z_{x,y} + \\frac{x - y}{2 \\, x y} w_{x}-\\frac{x^{2} - y}{4 \\, {\\left(x^{5} + 2 \\, x^{3} y + x y^{2}\\right)}} z_{y}[], []$"
      ],
      "text/plain": [
       "<IPython.core.display.Math object>"
      ]
     },
     "metadata": {},
     "output_type": "display_data"
    },
    {
     "data": {
      "text/latex": [
       "$\\displaystyle  z_{x} + \\frac{x^{4} - 2 \\, {\\left(2 \\, x^{2} + x\\right)} y^{3} - 2 \\, {\\left(4 \\, x^{4} + x^{3} - x\\right)} y^{2} - 2 \\, {\\left(2 \\, x^{6} + x^{3} - x^{2}\\right)} y}{4 \\, {\\left(4 \\, x^{2} y^{4} - x^{3} y^{2} + 2 \\, y^{5} + {\\left(2 \\, x^{4} - x\\right)} y^{3}\\right)}} z_{y} + \\frac{1}{2 \\, y} w[], []$"
      ],
      "text/plain": [
       "<IPython.core.display.Math object>"
      ]
     },
     "metadata": {},
     "output_type": "display_data"
    },
    {
     "name": "stdout",
     "output_type": "stream",
     "text": [
      "str(t)='(1/2*y*(x/y^2 - 1/y)/x) * diff(w(x, y), x)'\n",
      "nothing to reduce\n"
     ]
    },
    {
     "data": {
      "text/latex": [
       "$\\displaystyle  z_{x,x} + \\frac{1}{4 \\, {\\left(x^{2} + y\\right)}} z_{x,y} + \\frac{x - y}{2 \\, x y} w_{x}-\\frac{x^{2} - y}{4 \\, {\\left(x^{5} + 2 \\, x^{3} y + x y^{2}\\right)}} z_{y}[], []$"
      ],
      "text/plain": [
       "<IPython.core.display.Math object>"
      ]
     },
     "metadata": {},
     "output_type": "display_data"
    },
    {
     "name": "stdout",
     "output_type": "stream",
     "text": [
      "reduce_inner_end\n",
      "................ reduce_inner\n"
     ]
    },
    {
     "data": {
      "text/latex": [
       "$\\displaystyle  z_{x,x} + \\frac{1}{4 \\, {\\left(x^{2} + y\\right)}} z_{x,y} + \\frac{x - y}{2 \\, x y} w_{x}-\\frac{x^{2} - y}{4 \\, {\\left(x^{5} + 2 \\, x^{3} y + x y^{2}\\right)}} z_{y}[], []$"
      ],
      "text/plain": [
       "<IPython.core.display.Math object>"
      ]
     },
     "metadata": {},
     "output_type": "display_data"
    },
    {
     "data": {
      "text/latex": [
       "$\\displaystyle  w_{y} + \\frac{x}{2 \\, {\\left(x^{2} y + y^{2}\\right)}} z_{y}-\\frac{1}{y} w[], []$"
      ],
      "text/plain": [
       "<IPython.core.display.Math object>"
      ]
     },
     "metadata": {},
     "output_type": "display_data"
    },
    {
     "name": "stdout",
     "output_type": "stream",
     "text": [
      "str(t)='(1/2*y*(x/y^2 - 1/y)/x) * diff(w(x, y), x)'\n",
      "nothing to reduce\n"
     ]
    },
    {
     "data": {
      "text/latex": [
       "$\\displaystyle  z_{x,x} + \\frac{1}{4 \\, {\\left(x^{2} + y\\right)}} z_{x,y} + \\frac{x - y}{2 \\, x y} w_{x}-\\frac{x^{2} - y}{4 \\, {\\left(x^{5} + 2 \\, x^{3} y + x y^{2}\\right)}} z_{y}[], []$"
      ],
      "text/plain": [
       "<IPython.core.display.Math object>"
      ]
     },
     "metadata": {},
     "output_type": "display_data"
    },
    {
     "name": "stdout",
     "output_type": "stream",
     "text": [
      "reduce_inner_end\n",
      "................ reduce_inner\n"
     ]
    },
    {
     "data": {
      "text/latex": [
       "$\\displaystyle  z_{x,x} + \\frac{1}{4 \\, {\\left(x^{2} + y\\right)}} z_{x,y} + \\frac{x - y}{2 \\, x y} w_{x}-\\frac{x^{2} - y}{4 \\, {\\left(x^{5} + 2 \\, x^{3} y + x y^{2}\\right)}} z_{y}[], []$"
      ],
      "text/plain": [
       "<IPython.core.display.Math object>"
      ]
     },
     "metadata": {},
     "output_type": "display_data"
    },
    {
     "data": {
      "text/latex": [
       "$\\displaystyle  z_{y,y} + \\frac{4 \\, {\\left(x^{2} y^{2} + y^{3}\\right)}}{x^{2}} z_{x}-\\frac{x^{2} y^{2} + x^{3} + y^{3} + 2 \\, x y}{x^{3} y + x y^{2}} z_{y} + \\frac{2 \\, {\\left(x^{2} y + y^{2}\\right)}}{x^{2}} w[], []$"
      ],
      "text/plain": [
       "<IPython.core.display.Math object>"
      ]
     },
     "metadata": {},
     "output_type": "display_data"
    },
    {
     "name": "stdout",
     "output_type": "stream",
     "text": [
      "str(t)='(1/2*y*(x/y^2 - 1/y)/x) * diff(w(x, y), x)'\n",
      "nothing to reduce\n"
     ]
    },
    {
     "data": {
      "text/latex": [
       "$\\displaystyle  z_{x,x} + \\frac{1}{4 \\, {\\left(x^{2} + y\\right)}} z_{x,y} + \\frac{x - y}{2 \\, x y} w_{x}-\\frac{x^{2} - y}{4 \\, {\\left(x^{5} + 2 \\, x^{3} y + x y^{2}\\right)}} z_{y}[], []$"
      ],
      "text/plain": [
       "<IPython.core.display.Math object>"
      ]
     },
     "metadata": {},
     "output_type": "display_data"
    },
    {
     "name": "stdout",
     "output_type": "stream",
     "text": [
      "reduce_inner_end\n",
      "duration reorder: 0.5946054458618164\n",
      "AAAAAAAAAAAAAAAAAAAAAAAAAAAAAAAAAAAAAAAAAAAAAAAAAAAAAAAAAAAAAAAAAAAAAAAAAAAAAAAAAAAAAAAAAAAAAAAAAAA 0\n"
     ]
    },
    {
     "data": {
      "text/latex": [
       "$\\displaystyle  z_{x}+\\frac{x^{4} - 2 \\, {\\left(2 \\, x^{2} + x\\right)} y^{3} - 2 \\, {\\left(4 \\, x^{4} + x^{3} - x\\right)} y^{2} - 2 \\, {\\left(2 \\, x^{6} + x^{3} - x^{2}\\right)} y}{4 \\, {\\left(4 \\, x^{2} y^{4} - x^{3} y^{2} + 2 \\, y^{5} + {\\left(2 \\, x^{4} - x\\right)} y^{3}\\right)}} z_{y}+\\frac{1}{2 \\, y} w$"
      ],
      "text/plain": [
       "<IPython.core.display.Math object>"
      ]
     },
     "metadata": {},
     "output_type": "display_data"
    },
    {
     "data": {
      "text/latex": [
       "$\\displaystyle  w_{y}+\\frac{x}{2 \\, {\\left(x^{2} y + y^{2}\\right)}} z_{y}-\\frac{1}{y} w$"
      ],
      "text/plain": [
       "<IPython.core.display.Math object>"
      ]
     },
     "metadata": {},
     "output_type": "display_data"
    },
    {
     "data": {
      "text/latex": [
       "$\\displaystyle  z_{y,y}+\\frac{4 \\, {\\left(x^{2} y^{2} + y^{3}\\right)}}{x^{2}} z_{x}-\\frac{x^{2} y^{2} + x^{3} + y^{3} + 2 \\, x y}{x^{3} y + x y^{2}} z_{y}+\\frac{2 \\, {\\left(x^{2} y + y^{2}\\right)}}{x^{2}} w$"
      ],
      "text/plain": [
       "<IPython.core.display.Math object>"
      ]
     },
     "metadata": {},
     "output_type": "display_data"
    },
    {
     "data": {
      "text/latex": [
       "$\\displaystyle  z_{x,y}+\\frac{2 \\, y}{x} z_{x}-\\frac{1}{2 \\, {\\left(x^{2} + y\\right)}} z_{y}+\\frac{1}{x} w$"
      ],
      "text/plain": [
       "<IPython.core.display.Math object>"
      ]
     },
     "metadata": {},
     "output_type": "display_data"
    },
    {
     "data": {
      "text/latex": [
       "$\\displaystyle  z_{x,x}+\\frac{1}{4 \\, {\\left(x^{2} + y\\right)}} z_{x,y}+\\frac{x - y}{2 \\, x y} w_{x}-\\frac{x^{2} - y}{4 \\, {\\left(x^{5} + 2 \\, x^{3} y + x y^{2}\\right)}} z_{y}$"
      ],
      "text/plain": [
       "<IPython.core.display.Math object>"
      ]
     },
     "metadata": {},
     "output_type": "display_data"
    },
    {
     "name": "stdout",
     "output_type": "stream",
     "text": [
      "................ reduce_inner\n"
     ]
    },
    {
     "data": {
      "text/latex": [
       "$\\displaystyle  z_{x,x} + \\frac{1}{4 \\, {\\left(x^{2} + y\\right)}} z_{x,y} + \\frac{x - y}{2 \\, x y} w_{x}-\\frac{x^{2} - y}{4 \\, {\\left(x^{5} + 2 \\, x^{3} y + x y^{2}\\right)}} z_{y}[], []$"
      ],
      "text/plain": [
       "<IPython.core.display.Math object>"
      ]
     },
     "metadata": {},
     "output_type": "display_data"
    },
    {
     "data": {
      "text/latex": [
       "$\\displaystyle  z_{x} + \\frac{x^{4} - 2 \\, {\\left(2 \\, x^{2} + x\\right)} y^{3} - 2 \\, {\\left(4 \\, x^{4} + x^{3} - x\\right)} y^{2} - 2 \\, {\\left(2 \\, x^{6} + x^{3} - x^{2}\\right)} y}{4 \\, {\\left(4 \\, x^{2} y^{4} - x^{3} y^{2} + 2 \\, y^{5} + {\\left(2 \\, x^{4} - x\\right)} y^{3}\\right)}} z_{y} + \\frac{1}{2 \\, y} w[], []$"
      ],
      "text/plain": [
       "<IPython.core.display.Math object>"
      ]
     },
     "metadata": {},
     "output_type": "display_data"
    },
    {
     "name": "stdout",
     "output_type": "stream",
     "text": [
      "str(t)='(1/2*y*(x/y^2 - 1/y)/x) * diff(w(x, y), x)'\n",
      "nothing to reduce\n"
     ]
    },
    {
     "data": {
      "text/latex": [
       "$\\displaystyle  z_{x,x} + \\frac{1}{4 \\, {\\left(x^{2} + y\\right)}} z_{x,y} + \\frac{x - y}{2 \\, x y} w_{x}-\\frac{x^{2} - y}{4 \\, {\\left(x^{5} + 2 \\, x^{3} y + x y^{2}\\right)}} z_{y}[], []$"
      ],
      "text/plain": [
       "<IPython.core.display.Math object>"
      ]
     },
     "metadata": {},
     "output_type": "display_data"
    },
    {
     "name": "stdout",
     "output_type": "stream",
     "text": [
      "reduce_inner_end\n",
      "................ reduce_inner\n"
     ]
    },
    {
     "data": {
      "text/latex": [
       "$\\displaystyle  z_{x,x} + \\frac{1}{4 \\, {\\left(x^{2} + y\\right)}} z_{x,y} + \\frac{x - y}{2 \\, x y} w_{x}-\\frac{x^{2} - y}{4 \\, {\\left(x^{5} + 2 \\, x^{3} y + x y^{2}\\right)}} z_{y}[], []$"
      ],
      "text/plain": [
       "<IPython.core.display.Math object>"
      ]
     },
     "metadata": {},
     "output_type": "display_data"
    },
    {
     "data": {
      "text/latex": [
       "$\\displaystyle  w_{y} + \\frac{x}{2 \\, {\\left(x^{2} y + y^{2}\\right)}} z_{y}-\\frac{1}{y} w[], []$"
      ],
      "text/plain": [
       "<IPython.core.display.Math object>"
      ]
     },
     "metadata": {},
     "output_type": "display_data"
    },
    {
     "name": "stdout",
     "output_type": "stream",
     "text": [
      "str(t)='(1/2*y*(x/y^2 - 1/y)/x) * diff(w(x, y), x)'\n",
      "nothing to reduce\n"
     ]
    },
    {
     "data": {
      "text/latex": [
       "$\\displaystyle  z_{x,x} + \\frac{1}{4 \\, {\\left(x^{2} + y\\right)}} z_{x,y} + \\frac{x - y}{2 \\, x y} w_{x}-\\frac{x^{2} - y}{4 \\, {\\left(x^{5} + 2 \\, x^{3} y + x y^{2}\\right)}} z_{y}[], []$"
      ],
      "text/plain": [
       "<IPython.core.display.Math object>"
      ]
     },
     "metadata": {},
     "output_type": "display_data"
    },
    {
     "name": "stdout",
     "output_type": "stream",
     "text": [
      "reduce_inner_end\n",
      "................ reduce_inner\n"
     ]
    },
    {
     "data": {
      "text/latex": [
       "$\\displaystyle  z_{x,x} + \\frac{1}{4 \\, {\\left(x^{2} + y\\right)}} z_{x,y} + \\frac{x - y}{2 \\, x y} w_{x}-\\frac{x^{2} - y}{4 \\, {\\left(x^{5} + 2 \\, x^{3} y + x y^{2}\\right)}} z_{y}[], []$"
      ],
      "text/plain": [
       "<IPython.core.display.Math object>"
      ]
     },
     "metadata": {},
     "output_type": "display_data"
    },
    {
     "data": {
      "text/latex": [
       "$\\displaystyle  z_{y,y} + \\frac{4 \\, {\\left(x^{2} y^{2} + y^{3}\\right)}}{x^{2}} z_{x}-\\frac{x^{2} y^{2} + x^{3} + y^{3} + 2 \\, x y}{x^{3} y + x y^{2}} z_{y} + \\frac{2 \\, {\\left(x^{2} y + y^{2}\\right)}}{x^{2}} w[], []$"
      ],
      "text/plain": [
       "<IPython.core.display.Math object>"
      ]
     },
     "metadata": {},
     "output_type": "display_data"
    },
    {
     "name": "stdout",
     "output_type": "stream",
     "text": [
      "str(t)='(1/2*y*(x/y^2 - 1/y)/x) * diff(w(x, y), x)'\n",
      "nothing to reduce\n"
     ]
    },
    {
     "data": {
      "text/latex": [
       "$\\displaystyle  z_{x,x} + \\frac{1}{4 \\, {\\left(x^{2} + y\\right)}} z_{x,y} + \\frac{x - y}{2 \\, x y} w_{x}-\\frac{x^{2} - y}{4 \\, {\\left(x^{5} + 2 \\, x^{3} y + x y^{2}\\right)}} z_{y}[], []$"
      ],
      "text/plain": [
       "<IPython.core.display.Math object>"
      ]
     },
     "metadata": {},
     "output_type": "display_data"
    },
    {
     "name": "stdout",
     "output_type": "stream",
     "text": [
      "reduce_inner_end\n",
      "................ reduce_inner\n"
     ]
    },
    {
     "data": {
      "text/latex": [
       "$\\displaystyle  z_{x,x} + \\frac{1}{4 \\, {\\left(x^{2} + y\\right)}} z_{x,y} + \\frac{x - y}{2 \\, x y} w_{x}-\\frac{x^{2} - y}{4 \\, {\\left(x^{5} + 2 \\, x^{3} y + x y^{2}\\right)}} z_{y}[], []$"
      ],
      "text/plain": [
       "<IPython.core.display.Math object>"
      ]
     },
     "metadata": {},
     "output_type": "display_data"
    },
    {
     "data": {
      "text/latex": [
       "$\\displaystyle  z_{x,y} + \\frac{2 \\, y}{x} z_{x}-\\frac{1}{2 \\, {\\left(x^{2} + y\\right)}} z_{y} + \\frac{1}{x} w[], []$"
      ],
      "text/plain": [
       "<IPython.core.display.Math object>"
      ]
     },
     "metadata": {},
     "output_type": "display_data"
    },
    {
     "name": "stdout",
     "output_type": "stream",
     "text": [
      "str(t)='diff(z(x, y), x, x)'\n",
      "nothing to reduce\n"
     ]
    },
    {
     "data": {
      "text/latex": [
       "$\\displaystyle  z_{x,x} + \\frac{1}{4 \\, {\\left(x^{2} + y\\right)}} z_{x,y} + \\frac{x - y}{2 \\, x y} w_{x}-\\frac{x^{2} - y}{4 \\, {\\left(x^{5} + 2 \\, x^{3} y + x y^{2}\\right)}} z_{y}[], []$"
      ],
      "text/plain": [
       "<IPython.core.display.Math object>"
      ]
     },
     "metadata": {},
     "output_type": "display_data"
    },
    {
     "name": "stdout",
     "output_type": "stream",
     "text": [
      "reduce_inner_end\n",
      "duration reorder: 0.4725785255432129\n",
      "AAAAAAAAAAAAAAAAAAAAAAAAAAAAAAAAAAAAAAAAAAAAAAAAAAAAAAAAAAAAAAAAAAAAAAAAAAAAAAAAAAAAAAAAAAAAAAAAAAA 0\n"
     ]
    },
    {
     "data": {
      "text/latex": [
       "$\\displaystyle  z_{x}+\\frac{x^{4} - 2 \\, {\\left(2 \\, x^{2} + x\\right)} y^{3} - 2 \\, {\\left(4 \\, x^{4} + x^{3} - x\\right)} y^{2} - 2 \\, {\\left(2 \\, x^{6} + x^{3} - x^{2}\\right)} y}{4 \\, {\\left(4 \\, x^{2} y^{4} - x^{3} y^{2} + 2 \\, y^{5} + {\\left(2 \\, x^{4} - x\\right)} y^{3}\\right)}} z_{y}+\\frac{1}{2 \\, y} w$"
      ],
      "text/plain": [
       "<IPython.core.display.Math object>"
      ]
     },
     "metadata": {},
     "output_type": "display_data"
    },
    {
     "data": {
      "text/latex": [
       "$\\displaystyle  w_{y}+\\frac{x}{2 \\, {\\left(x^{2} y + y^{2}\\right)}} z_{y}-\\frac{1}{y} w$"
      ],
      "text/plain": [
       "<IPython.core.display.Math object>"
      ]
     },
     "metadata": {},
     "output_type": "display_data"
    },
    {
     "data": {
      "text/latex": [
       "$\\displaystyle  z_{y,y}+\\frac{4 \\, {\\left(x^{2} y^{2} + y^{3}\\right)}}{x^{2}} z_{x}-\\frac{x^{2} y^{2} + x^{3} + y^{3} + 2 \\, x y}{x^{3} y + x y^{2}} z_{y}+\\frac{2 \\, {\\left(x^{2} y + y^{2}\\right)}}{x^{2}} w$"
      ],
      "text/plain": [
       "<IPython.core.display.Math object>"
      ]
     },
     "metadata": {},
     "output_type": "display_data"
    },
    {
     "data": {
      "text/latex": [
       "$\\displaystyle  z_{x,y}+\\frac{2 \\, y}{x} z_{x}-\\frac{1}{2 \\, {\\left(x^{2} + y\\right)}} z_{y}+\\frac{1}{x} w$"
      ],
      "text/plain": [
       "<IPython.core.display.Math object>"
      ]
     },
     "metadata": {},
     "output_type": "display_data"
    },
    {
     "data": {
      "text/latex": [
       "$\\displaystyle  z_{x,x}+\\frac{1}{4 \\, {\\left(x^{2} + y\\right)}} z_{x,y}+\\frac{x - y}{2 \\, x y} w_{x}-\\frac{x^{2} - y}{4 \\, {\\left(x^{5} + 2 \\, x^{3} y + x y^{2}\\right)}} z_{y}$"
      ],
      "text/plain": [
       "<IPython.core.display.Math object>"
      ]
     },
     "metadata": {},
     "output_type": "display_data"
    },
    {
     "name": "stdout",
     "output_type": "stream",
     "text": [
      "after autoreduce\n"
     ]
    },
    {
     "data": {
      "text/latex": [
       "$\\displaystyle  z_{x}+\\frac{x^{4} - 2 \\, {\\left(2 \\, x^{2} + x\\right)} y^{3} - 2 \\, {\\left(4 \\, x^{4} + x^{3} - x\\right)} y^{2} - 2 \\, {\\left(2 \\, x^{6} + x^{3} - x^{2}\\right)} y}{4 \\, {\\left(4 \\, x^{2} y^{4} - x^{3} y^{2} + 2 \\, y^{5} + {\\left(2 \\, x^{4} - x\\right)} y^{3}\\right)}} z_{y}+\\frac{1}{2 \\, y} w$"
      ],
      "text/plain": [
       "<IPython.core.display.Math object>"
      ]
     },
     "metadata": {},
     "output_type": "display_data"
    },
    {
     "data": {
      "text/latex": [
       "$\\displaystyle  w_{y}+\\frac{x}{2 \\, {\\left(x^{2} y + y^{2}\\right)}} z_{y}-\\frac{1}{y} w$"
      ],
      "text/plain": [
       "<IPython.core.display.Math object>"
      ]
     },
     "metadata": {},
     "output_type": "display_data"
    },
    {
     "data": {
      "text/latex": [
       "$\\displaystyle  z_{y,y}+\\frac{4 \\, {\\left(x^{2} y^{2} + y^{3}\\right)}}{x^{2}} z_{x}-\\frac{x^{2} y^{2} + x^{3} + y^{3} + 2 \\, x y}{x^{3} y + x y^{2}} z_{y}+\\frac{2 \\, {\\left(x^{2} y + y^{2}\\right)}}{x^{2}} w$"
      ],
      "text/plain": [
       "<IPython.core.display.Math object>"
      ]
     },
     "metadata": {},
     "output_type": "display_data"
    },
    {
     "data": {
      "text/latex": [
       "$\\displaystyle  z_{x,y}+\\frac{2 \\, y}{x} z_{x}-\\frac{1}{2 \\, {\\left(x^{2} + y\\right)}} z_{y}+\\frac{1}{x} w$"
      ],
      "text/plain": [
       "<IPython.core.display.Math object>"
      ]
     },
     "metadata": {},
     "output_type": "display_data"
    },
    {
     "data": {
      "text/latex": [
       "$\\displaystyle  z_{x,x}+\\frac{1}{4 \\, {\\left(x^{2} + y\\right)}} z_{x,y}+\\frac{x - y}{2 \\, x y} w_{x}-\\frac{x^{2} - y}{4 \\, {\\left(x^{5} + 2 \\, x^{3} y + x y^{2}\\right)}} z_{y}$"
      ],
      "text/plain": [
       "<IPython.core.display.Math object>"
      ]
     },
     "metadata": {},
     "output_type": "display_data"
    },
    {
     "name": "stdout",
     "output_type": "stream",
     "text": [
      "after complete system\n"
     ]
    },
    {
     "data": {
      "text/latex": [
       "$\\displaystyle  z_{x}+\\frac{x^{4} - 2 \\, {\\left(2 \\, x^{2} + x\\right)} y^{3} - 2 \\, {\\left(4 \\, x^{4} + x^{3} - x\\right)} y^{2} - 2 \\, {\\left(2 \\, x^{6} + x^{3} - x^{2}\\right)} y}{4 \\, {\\left(4 \\, x^{2} y^{4} - x^{3} y^{2} + 2 \\, y^{5} + {\\left(2 \\, x^{4} - x\\right)} y^{3}\\right)}} z_{y}+\\frac{1}{2 \\, y} w$"
      ],
      "text/plain": [
       "<IPython.core.display.Math object>"
      ]
     },
     "metadata": {},
     "output_type": "display_data"
    },
    {
     "data": {
      "text/latex": [
       "$\\displaystyle  w_{y}+\\frac{x}{2 \\, {\\left(x^{2} y + y^{2}\\right)}} z_{y}-\\frac{1}{y} w$"
      ],
      "text/plain": [
       "<IPython.core.display.Math object>"
      ]
     },
     "metadata": {},
     "output_type": "display_data"
    },
    {
     "data": {
      "text/latex": [
       "$\\displaystyle  z_{y,y}+\\frac{4 \\, {\\left(x^{2} y^{2} + y^{3}\\right)}}{x^{2}} z_{x}-\\frac{x^{2} y^{2} + x^{3} + y^{3} + 2 \\, x y}{x^{3} y + x y^{2}} z_{y}+\\frac{2 \\, {\\left(x^{2} y + y^{2}\\right)}}{x^{2}} w$"
      ],
      "text/plain": [
       "<IPython.core.display.Math object>"
      ]
     },
     "metadata": {},
     "output_type": "display_data"
    },
    {
     "data": {
      "text/latex": [
       "$\\displaystyle  z_{x,y}+\\frac{2 \\, y}{x} z_{x}-\\frac{1}{2 \\, {\\left(x^{2} + y\\right)}} z_{y}+\\frac{1}{x} w$"
      ],
      "text/plain": [
       "<IPython.core.display.Math object>"
      ]
     },
     "metadata": {},
     "output_type": "display_data"
    },
    {
     "data": {
      "text/latex": [
       "$\\displaystyle  z_{x,x}+\\frac{1}{4 \\, {\\left(x^{2} + y\\right)}} z_{x,y}+\\frac{x - y}{2 \\, x y} w_{x}-\\frac{x^{2} - y}{4 \\, {\\left(x^{5} + 2 \\, x^{3} y + x y^{2}\\right)}} z_{y}$"
      ],
      "text/plain": [
       "<IPython.core.display.Math object>"
      ]
     },
     "metadata": {},
     "output_type": "display_data"
    },
    {
     "name": "stdout",
     "output_type": "stream",
     "text": [
      "adding c=1/2*(x/((x^2 + y)*y^2) + x/((x^2 + y)^2*y))*diff(z(x, y), x, y) - 1/2*(2*x^2/((x^2 + y)^2*y^2) + 4*x^2/((x^2 + y)^3*y) - 1/((x^2 + y)*y^2) - 1/((x^2 + y)^2*y))*diff(z(x, y), y) - 2*y*diff(z(x, y), x, x)/x - 2*y*diff(z(x, y), x, y)/x - diff(w(x, y), x)/x - diff(w(x, y), y)/x - 2*diff(z(x, y), x)/x + 2*y*diff(z(x, y), x)/x^2 - 1/2*x*diff(z(x, y), x, y, y)/((x^2 + y)*y) + 1/2*diff(z(x, y), y, y)/(x^2 + y) + x^2*diff(z(x, y), y, y)/((x^2 + y)^2*y) + w(x, y)/x^2 - 1/2*diff(z(x, y), y)/(x^2 + y)^2 - 1/2*diff(z(x, y), y, y)/((x^2 + y)*y) - diff(z(x, y), x, y, y) to result\n"
     ]
    },
    {
     "data": {
      "text/latex": [
       "$\\displaystyle  z_{x,y,y}+\\frac{4 \\, {\\left(x^{2} y^{2} + y^{3}\\right)}}{2 \\, x^{3} y + 2 \\, x y^{2} + x^{2}} z_{x,x}+\\frac{4 \\, x^{4} y^{3} + 8 \\, x^{2} y^{4} + 4 \\, y^{5} - x^{4} - 2 \\, x^{2} y}{4 \\, x^{3} y^{3} + x^{4} y + 2 \\, x y^{4} + {\\left(2 \\, x^{5} + x^{2}\\right)} y^{2}} z_{x,y}-\\frac{x^{2} + {\\left(x^{2} - 1\\right)} y + y^{2}}{4 \\, x^{2} y^{2} + x^{3} + 2 \\, y^{3} + {\\left(2 \\, x^{4} + x\\right)} y} z_{y,y}+\\frac{2 \\, {\\left(x^{2} y + y^{2}\\right)}}{2 \\, x^{3} y + 2 \\, x y^{2} + x^{2}} w_{x}+\\frac{2 \\, {\\left(x^{2} y + y^{2}\\right)}}{2 \\, x^{3} y + 2 \\, x y^{2} + x^{2}} w_{y}+\\frac{4 \\, {\\left(x^{3} y - {\\left(x^{2} - x\\right)} y^{2} - y^{3}\\right)}}{2 \\, x^{4} y + 2 \\, x^{2} y^{2} + x^{3}} z_{x}+\\frac{x^{4} + 3 \\, x^{2} y + {\\left(x^{2} - 2\\right)} y^{2} + y^{3}}{x^{5} y + 6 \\, x^{2} y^{4} + 2 \\, y^{5} + {\\left(6 \\, x^{4} + x\\right)} y^{3} + 2 \\, {\\left(x^{6} + x^{3}\\right)} y^{2}} z_{y}-\\frac{2 \\, {\\left(x^{2} y + y^{2}\\right)}}{2 \\, x^{4} y + 2 \\, x^{2} y^{2} + x^{3}} w$"
      ],
      "text/plain": [
       "<IPython.core.display.Math object>"
      ]
     },
     "metadata": {},
     "output_type": "display_data"
    },
    {
     "name": "stdout",
     "output_type": "stream",
     "text": [
      "................ reduce_inner\n"
     ]
    },
    {
     "data": {
      "text/latex": [
       "$\\displaystyle  z_{x,y,y} + \\frac{4 \\, {\\left(x^{2} y^{2} + y^{3}\\right)}}{2 \\, x^{3} y + 2 \\, x y^{2} + x^{2}} z_{x,x} + \\frac{4 \\, x^{4} y^{3} + 8 \\, x^{2} y^{4} + 4 \\, y^{5} - x^{4} - 2 \\, x^{2} y}{4 \\, x^{3} y^{3} + x^{4} y + 2 \\, x y^{4} + {\\left(2 \\, x^{5} + x^{2}\\right)} y^{2}} z_{x,y}-\\frac{x^{2} + {\\left(x^{2} - 1\\right)} y + y^{2}}{4 \\, x^{2} y^{2} + x^{3} + 2 \\, y^{3} + {\\left(2 \\, x^{4} + x\\right)} y} z_{y,y} + \\frac{2 \\, {\\left(x^{2} y + y^{2}\\right)}}{2 \\, x^{3} y + 2 \\, x y^{2} + x^{2}} w_{x} + \\frac{2 \\, {\\left(x^{2} y + y^{2}\\right)}}{2 \\, x^{3} y + 2 \\, x y^{2} + x^{2}} w_{y} + \\frac{4 \\, {\\left(x^{3} y - {\\left(x^{2} - x\\right)} y^{2} - y^{3}\\right)}}{2 \\, x^{4} y + 2 \\, x^{2} y^{2} + x^{3}} z_{x} + \\frac{x^{4} + 3 \\, x^{2} y + {\\left(x^{2} - 2\\right)} y^{2} + y^{3}}{x^{5} y + 6 \\, x^{2} y^{4} + 2 \\, y^{5} + {\\left(6 \\, x^{4} + x\\right)} y^{3} + 2 \\, {\\left(x^{6} + x^{3}\\right)} y^{2}} z_{y}-\\frac{2 \\, {\\left(x^{2} y + y^{2}\\right)}}{2 \\, x^{4} y + 2 \\, x^{2} y^{2} + x^{3}} w[], []$"
      ],
      "text/plain": [
       "<IPython.core.display.Math object>"
      ]
     },
     "metadata": {},
     "output_type": "display_data"
    },
    {
     "data": {
      "text/latex": [
       "$\\displaystyle  z_{x} + \\frac{x^{4} - 2 \\, {\\left(2 \\, x^{2} + x\\right)} y^{3} - 2 \\, {\\left(4 \\, x^{4} + x^{3} - x\\right)} y^{2} - 2 \\, {\\left(2 \\, x^{6} + x^{3} - x^{2}\\right)} y}{4 \\, {\\left(4 \\, x^{2} y^{4} - x^{3} y^{2} + 2 \\, y^{5} + {\\left(2 \\, x^{4} - x\\right)} y^{3}\\right)}} z_{y} + \\frac{1}{2 \\, y} w{0, 1}, []$"
      ],
      "text/plain": [
       "<IPython.core.display.Math object>"
      ]
     },
     "metadata": {},
     "output_type": "display_data"
    },
    {
     "name": "stdout",
     "output_type": "stream",
     "text": [
      "str(t)='(2/(x*(x/((x^2 + y)*y) + 2))) * diff(w(x, y), x)'\n",
      "nothing to reduce\n"
     ]
    },
    {
     "data": {
      "text/latex": [
       "$\\displaystyle  z_{x,y,y} + \\frac{4 \\, {\\left(x^{2} y^{2} + y^{3}\\right)}}{2 \\, x^{3} y + 2 \\, x y^{2} + x^{2}} z_{x,x} + \\frac{4 \\, x^{4} y^{3} + 8 \\, x^{2} y^{4} + 4 \\, y^{5} - x^{4} - 2 \\, x^{2} y}{4 \\, x^{3} y^{3} + x^{4} y + 2 \\, x y^{4} + {\\left(2 \\, x^{5} + x^{2}\\right)} y^{2}} z_{x,y}-\\frac{x^{2} + {\\left(x^{2} - 1\\right)} y + y^{2}}{4 \\, x^{2} y^{2} + x^{3} + 2 \\, y^{3} + {\\left(2 \\, x^{4} + x\\right)} y} z_{y,y} + \\frac{2 \\, {\\left(x^{2} y + y^{2}\\right)}}{2 \\, x^{3} y + 2 \\, x y^{2} + x^{2}} w_{x} + \\frac{2 \\, {\\left(x^{2} y + y^{2}\\right)}}{2 \\, x^{3} y + 2 \\, x y^{2} + x^{2}} w_{y} + \\frac{4 \\, {\\left(x^{3} y - {\\left(x^{2} - x\\right)} y^{2} - y^{3}\\right)}}{2 \\, x^{4} y + 2 \\, x^{2} y^{2} + x^{3}} z_{x} + \\frac{x^{4} + 3 \\, x^{2} y + {\\left(x^{2} - 2\\right)} y^{2} + y^{3}}{x^{5} y + 6 \\, x^{2} y^{4} + 2 \\, y^{5} + {\\left(6 \\, x^{4} + x\\right)} y^{3} + 2 \\, {\\left(x^{6} + x^{3}\\right)} y^{2}} z_{y}-\\frac{2 \\, {\\left(x^{2} y + y^{2}\\right)}}{2 \\, x^{4} y + 2 \\, x^{2} y^{2} + x^{3}} w[], []$"
      ],
      "text/plain": [
       "<IPython.core.display.Math object>"
      ]
     },
     "metadata": {},
     "output_type": "display_data"
    },
    {
     "name": "stdout",
     "output_type": "stream",
     "text": [
      "reduce_inner_end\n",
      "................ reduce_inner\n"
     ]
    },
    {
     "data": {
      "text/latex": [
       "$\\displaystyle  z_{x,y,y} + \\frac{4 \\, {\\left(x^{2} y^{2} + y^{3}\\right)}}{2 \\, x^{3} y + 2 \\, x y^{2} + x^{2}} z_{x,x} + \\frac{4 \\, x^{4} y^{3} + 8 \\, x^{2} y^{4} + 4 \\, y^{5} - x^{4} - 2 \\, x^{2} y}{4 \\, x^{3} y^{3} + x^{4} y + 2 \\, x y^{4} + {\\left(2 \\, x^{5} + x^{2}\\right)} y^{2}} z_{x,y}-\\frac{x^{2} + {\\left(x^{2} - 1\\right)} y + y^{2}}{4 \\, x^{2} y^{2} + x^{3} + 2 \\, y^{3} + {\\left(2 \\, x^{4} + x\\right)} y} z_{y,y} + \\frac{2 \\, {\\left(x^{2} y + y^{2}\\right)}}{2 \\, x^{3} y + 2 \\, x y^{2} + x^{2}} w_{x} + \\frac{2 \\, {\\left(x^{2} y + y^{2}\\right)}}{2 \\, x^{3} y + 2 \\, x y^{2} + x^{2}} w_{y} + \\frac{4 \\, {\\left(x^{3} y - {\\left(x^{2} - x\\right)} y^{2} - y^{3}\\right)}}{2 \\, x^{4} y + 2 \\, x^{2} y^{2} + x^{3}} z_{x} + \\frac{x^{4} + 3 \\, x^{2} y + {\\left(x^{2} - 2\\right)} y^{2} + y^{3}}{x^{5} y + 6 \\, x^{2} y^{4} + 2 \\, y^{5} + {\\left(6 \\, x^{4} + x\\right)} y^{3} + 2 \\, {\\left(x^{6} + x^{3}\\right)} y^{2}} z_{y}-\\frac{2 \\, {\\left(x^{2} y + y^{2}\\right)}}{2 \\, x^{4} y + 2 \\, x^{2} y^{2} + x^{3}} w[], []$"
      ],
      "text/plain": [
       "<IPython.core.display.Math object>"
      ]
     },
     "metadata": {},
     "output_type": "display_data"
    },
    {
     "data": {
      "text/latex": [
       "$\\displaystyle  w_{y} + \\frac{x}{2 \\, {\\left(x^{2} y + y^{2}\\right)}} z_{y}-\\frac{1}{y} w{0, 1}, []$"
      ],
      "text/plain": [
       "<IPython.core.display.Math object>"
      ]
     },
     "metadata": {},
     "output_type": "display_data"
    },
    {
     "name": "stdout",
     "output_type": "stream",
     "text": [
      "str(t)='(2/(x*(x/((x^2 + y)*y) + 2))) * diff(w(x, y), x)'\n",
      "nothing to reduce\n"
     ]
    },
    {
     "data": {
      "text/latex": [
       "$\\displaystyle  z_{x,y,y} + \\frac{4 \\, {\\left(x^{2} y^{2} + y^{3}\\right)}}{2 \\, x^{3} y + 2 \\, x y^{2} + x^{2}} z_{x,x} + \\frac{4 \\, x^{4} y^{3} + 8 \\, x^{2} y^{4} + 4 \\, y^{5} - x^{4} - 2 \\, x^{2} y}{4 \\, x^{3} y^{3} + x^{4} y + 2 \\, x y^{4} + {\\left(2 \\, x^{5} + x^{2}\\right)} y^{2}} z_{x,y}-\\frac{x^{2} + {\\left(x^{2} - 1\\right)} y + y^{2}}{4 \\, x^{2} y^{2} + x^{3} + 2 \\, y^{3} + {\\left(2 \\, x^{4} + x\\right)} y} z_{y,y} + \\frac{2 \\, {\\left(x^{2} y + y^{2}\\right)}}{2 \\, x^{3} y + 2 \\, x y^{2} + x^{2}} w_{x} + \\frac{2 \\, {\\left(x^{2} y + y^{2}\\right)}}{2 \\, x^{3} y + 2 \\, x y^{2} + x^{2}} w_{y} + \\frac{4 \\, {\\left(x^{3} y - {\\left(x^{2} - x\\right)} y^{2} - y^{3}\\right)}}{2 \\, x^{4} y + 2 \\, x^{2} y^{2} + x^{3}} z_{x} + \\frac{x^{4} + 3 \\, x^{2} y + {\\left(x^{2} - 2\\right)} y^{2} + y^{3}}{x^{5} y + 6 \\, x^{2} y^{4} + 2 \\, y^{5} + {\\left(6 \\, x^{4} + x\\right)} y^{3} + 2 \\, {\\left(x^{6} + x^{3}\\right)} y^{2}} z_{y}-\\frac{2 \\, {\\left(x^{2} y + y^{2}\\right)}}{2 \\, x^{4} y + 2 \\, x^{2} y^{2} + x^{3}} w[], []$"
      ],
      "text/plain": [
       "<IPython.core.display.Math object>"
      ]
     },
     "metadata": {},
     "output_type": "display_data"
    },
    {
     "name": "stdout",
     "output_type": "stream",
     "text": [
      "reduce_inner_end\n",
      "................ reduce_inner\n"
     ]
    },
    {
     "data": {
      "text/latex": [
       "$\\displaystyle  z_{x,y,y} + \\frac{4 \\, {\\left(x^{2} y^{2} + y^{3}\\right)}}{2 \\, x^{3} y + 2 \\, x y^{2} + x^{2}} z_{x,x} + \\frac{4 \\, x^{4} y^{3} + 8 \\, x^{2} y^{4} + 4 \\, y^{5} - x^{4} - 2 \\, x^{2} y}{4 \\, x^{3} y^{3} + x^{4} y + 2 \\, x y^{4} + {\\left(2 \\, x^{5} + x^{2}\\right)} y^{2}} z_{x,y}-\\frac{x^{2} + {\\left(x^{2} - 1\\right)} y + y^{2}}{4 \\, x^{2} y^{2} + x^{3} + 2 \\, y^{3} + {\\left(2 \\, x^{4} + x\\right)} y} z_{y,y} + \\frac{2 \\, {\\left(x^{2} y + y^{2}\\right)}}{2 \\, x^{3} y + 2 \\, x y^{2} + x^{2}} w_{x} + \\frac{2 \\, {\\left(x^{2} y + y^{2}\\right)}}{2 \\, x^{3} y + 2 \\, x y^{2} + x^{2}} w_{y} + \\frac{4 \\, {\\left(x^{3} y - {\\left(x^{2} - x\\right)} y^{2} - y^{3}\\right)}}{2 \\, x^{4} y + 2 \\, x^{2} y^{2} + x^{3}} z_{x} + \\frac{x^{4} + 3 \\, x^{2} y + {\\left(x^{2} - 2\\right)} y^{2} + y^{3}}{x^{5} y + 6 \\, x^{2} y^{4} + 2 \\, y^{5} + {\\left(6 \\, x^{4} + x\\right)} y^{3} + 2 \\, {\\left(x^{6} + x^{3}\\right)} y^{2}} z_{y}-\\frac{2 \\, {\\left(x^{2} y + y^{2}\\right)}}{2 \\, x^{4} y + 2 \\, x^{2} y^{2} + x^{3}} w[], []$"
      ],
      "text/plain": [
       "<IPython.core.display.Math object>"
      ]
     },
     "metadata": {},
     "output_type": "display_data"
    },
    {
     "data": {
      "text/latex": [
       "$\\displaystyle  z_{y,y} + \\frac{4 \\, {\\left(x^{2} y^{2} + y^{3}\\right)}}{x^{2}} z_{x}-\\frac{x^{2} y^{2} + x^{3} + y^{3} + 2 \\, x y}{x^{3} y + x y^{2}} z_{y} + \\frac{2 \\, {\\left(x^{2} y + y^{2}\\right)}}{x^{2}} w{0}, [1]$"
      ],
      "text/plain": [
       "<IPython.core.display.Math object>"
      ]
     },
     "metadata": {},
     "output_type": "display_data"
    },
    {
     "name": "stdout",
     "output_type": "stream",
     "text": [
      "str(t)='(2/(x*(x/((x^2 + y)*y) + 2))) * diff(w(x, y), x)'\n",
      "nothing to reduce\n"
     ]
    },
    {
     "data": {
      "text/latex": [
       "$\\displaystyle  z_{x,y,y} + \\frac{4 \\, {\\left(x^{2} y^{2} + y^{3}\\right)}}{2 \\, x^{3} y + 2 \\, x y^{2} + x^{2}} z_{x,x} + \\frac{4 \\, x^{4} y^{3} + 8 \\, x^{2} y^{4} + 4 \\, y^{5} - x^{4} - 2 \\, x^{2} y}{4 \\, x^{3} y^{3} + x^{4} y + 2 \\, x y^{4} + {\\left(2 \\, x^{5} + x^{2}\\right)} y^{2}} z_{x,y}-\\frac{x^{2} + {\\left(x^{2} - 1\\right)} y + y^{2}}{4 \\, x^{2} y^{2} + x^{3} + 2 \\, y^{3} + {\\left(2 \\, x^{4} + x\\right)} y} z_{y,y} + \\frac{2 \\, {\\left(x^{2} y + y^{2}\\right)}}{2 \\, x^{3} y + 2 \\, x y^{2} + x^{2}} w_{x} + \\frac{2 \\, {\\left(x^{2} y + y^{2}\\right)}}{2 \\, x^{3} y + 2 \\, x y^{2} + x^{2}} w_{y} + \\frac{4 \\, {\\left(x^{3} y - {\\left(x^{2} - x\\right)} y^{2} - y^{3}\\right)}}{2 \\, x^{4} y + 2 \\, x^{2} y^{2} + x^{3}} z_{x} + \\frac{x^{4} + 3 \\, x^{2} y + {\\left(x^{2} - 2\\right)} y^{2} + y^{3}}{x^{5} y + 6 \\, x^{2} y^{4} + 2 \\, y^{5} + {\\left(6 \\, x^{4} + x\\right)} y^{3} + 2 \\, {\\left(x^{6} + x^{3}\\right)} y^{2}} z_{y}-\\frac{2 \\, {\\left(x^{2} y + y^{2}\\right)}}{2 \\, x^{4} y + 2 \\, x^{2} y^{2} + x^{3}} w[], []$"
      ],
      "text/plain": [
       "<IPython.core.display.Math object>"
      ]
     },
     "metadata": {},
     "output_type": "display_data"
    },
    {
     "name": "stdout",
     "output_type": "stream",
     "text": [
      "reduce_inner_end\n",
      "................ reduce_inner\n"
     ]
    },
    {
     "data": {
      "text/latex": [
       "$\\displaystyle  z_{x,y,y} + \\frac{4 \\, {\\left(x^{2} y^{2} + y^{3}\\right)}}{2 \\, x^{3} y + 2 \\, x y^{2} + x^{2}} z_{x,x} + \\frac{4 \\, x^{4} y^{3} + 8 \\, x^{2} y^{4} + 4 \\, y^{5} - x^{4} - 2 \\, x^{2} y}{4 \\, x^{3} y^{3} + x^{4} y + 2 \\, x y^{4} + {\\left(2 \\, x^{5} + x^{2}\\right)} y^{2}} z_{x,y}-\\frac{x^{2} + {\\left(x^{2} - 1\\right)} y + y^{2}}{4 \\, x^{2} y^{2} + x^{3} + 2 \\, y^{3} + {\\left(2 \\, x^{4} + x\\right)} y} z_{y,y} + \\frac{2 \\, {\\left(x^{2} y + y^{2}\\right)}}{2 \\, x^{3} y + 2 \\, x y^{2} + x^{2}} w_{x} + \\frac{2 \\, {\\left(x^{2} y + y^{2}\\right)}}{2 \\, x^{3} y + 2 \\, x y^{2} + x^{2}} w_{y} + \\frac{4 \\, {\\left(x^{3} y - {\\left(x^{2} - x\\right)} y^{2} - y^{3}\\right)}}{2 \\, x^{4} y + 2 \\, x^{2} y^{2} + x^{3}} z_{x} + \\frac{x^{4} + 3 \\, x^{2} y + {\\left(x^{2} - 2\\right)} y^{2} + y^{3}}{x^{5} y + 6 \\, x^{2} y^{4} + 2 \\, y^{5} + {\\left(6 \\, x^{4} + x\\right)} y^{3} + 2 \\, {\\left(x^{6} + x^{3}\\right)} y^{2}} z_{y}-\\frac{2 \\, {\\left(x^{2} y + y^{2}\\right)}}{2 \\, x^{4} y + 2 \\, x^{2} y^{2} + x^{3}} w[], []$"
      ],
      "text/plain": [
       "<IPython.core.display.Math object>"
      ]
     },
     "metadata": {},
     "output_type": "display_data"
    },
    {
     "data": {
      "text/latex": [
       "$\\displaystyle  z_{x,y} + \\frac{2 \\, y}{x} z_{x}-\\frac{1}{2 \\, {\\left(x^{2} + y\\right)}} z_{y} + \\frac{1}{x} w{0, 1}, []$"
      ],
      "text/plain": [
       "<IPython.core.display.Math object>"
      ]
     },
     "metadata": {},
     "output_type": "display_data"
    },
    {
     "name": "stdout",
     "output_type": "stream",
     "text": [
      "str(t)='diff(z(x, y), x, y, y)'\n",
      "via diff [y]\n"
     ]
    },
    {
     "data": {
      "text/latex": [
       "$\\displaystyle  z_{x,x}-\\frac{2 \\, x^{3} y^{2} + x^{4} + 2 \\, x y^{3} + 2 \\, x^{2} y}{4 \\, {\\left(x^{4} y^{3} + 2 \\, x^{2} y^{4} + y^{5}\\right)}} z_{x,y}-\\frac{2 \\, x^{3} - x^{2} - 2 \\, x y}{8 \\, {\\left(x^{4} y^{2} + 2 \\, x^{2} y^{3} + y^{4}\\right)}} z_{y,y} + \\frac{1}{2 \\, y} w_{x}-\\frac{x}{4 \\, {\\left(x^{2} y^{2} + y^{3}\\right)}} w_{y}-\\frac{2 \\, x^{2} y^{2} + 2 \\, y^{3} + x^{2}}{2 \\, {\\left(x^{3} y^{2} + x y^{3}\\right)}} z_{x} + \\frac{2 \\, x^{5} - 4 \\, x y^{2} + {\\left(6 \\, x^{3} - x^{2}\\right)} y}{8 \\, {\\left(x^{6} y^{3} + 3 \\, x^{4} y^{4} + 3 \\, x^{2} y^{5} + y^{6}\\right)}} z_{y}-\\frac{1}{2 \\, x y} w[], []$"
      ],
      "text/plain": [
       "<IPython.core.display.Math object>"
      ]
     },
     "metadata": {},
     "output_type": "display_data"
    },
    {
     "name": "stdout",
     "output_type": "stream",
     "text": [
      "reduce_inner_end\n",
      "................ reduce_inner\n"
     ]
    },
    {
     "data": {
      "text/latex": [
       "$\\displaystyle  z_{x,x}-\\frac{2 \\, x^{3} y^{2} + x^{4} + 2 \\, x y^{3} + 2 \\, x^{2} y}{4 \\, {\\left(x^{4} y^{3} + 2 \\, x^{2} y^{4} + y^{5}\\right)}} z_{x,y}-\\frac{2 \\, x^{3} - x^{2} - 2 \\, x y}{8 \\, {\\left(x^{4} y^{2} + 2 \\, x^{2} y^{3} + y^{4}\\right)}} z_{y,y} + \\frac{1}{2 \\, y} w_{x}-\\frac{x}{4 \\, {\\left(x^{2} y^{2} + y^{3}\\right)}} w_{y}-\\frac{2 \\, x^{2} y^{2} + 2 \\, y^{3} + x^{2}}{2 \\, {\\left(x^{3} y^{2} + x y^{3}\\right)}} z_{x} + \\frac{2 \\, x^{5} - 4 \\, x y^{2} + {\\left(6 \\, x^{3} - x^{2}\\right)} y}{8 \\, {\\left(x^{6} y^{3} + 3 \\, x^{4} y^{4} + 3 \\, x^{2} y^{5} + y^{6}\\right)}} z_{y}-\\frac{1}{2 \\, x y} w[], []$"
      ],
      "text/plain": [
       "<IPython.core.display.Math object>"
      ]
     },
     "metadata": {},
     "output_type": "display_data"
    },
    {
     "data": {
      "text/latex": [
       "$\\displaystyle  z_{x,x} + \\frac{1}{4 \\, {\\left(x^{2} + y\\right)}} z_{x,y} + \\frac{x - y}{2 \\, x y} w_{x}-\\frac{x^{2} - y}{4 \\, {\\left(x^{5} + 2 \\, x^{3} y + x y^{2}\\right)}} z_{y}{0, 1}, []$"
      ],
      "text/plain": [
       "<IPython.core.display.Math object>"
      ]
     },
     "metadata": {},
     "output_type": "display_data"
    },
    {
     "name": "stdout",
     "output_type": "stream",
     "text": [
      "str(t)='(1/2/y) * diff(w(x, y), x)'\n",
      "nothing to reduce\n"
     ]
    },
    {
     "data": {
      "text/latex": [
       "$\\displaystyle  z_{x,x}-\\frac{2 \\, x^{3} y^{2} + x^{4} + 2 \\, x y^{3} + 2 \\, x^{2} y}{4 \\, {\\left(x^{4} y^{3} + 2 \\, x^{2} y^{4} + y^{5}\\right)}} z_{x,y}-\\frac{2 \\, x^{3} - x^{2} - 2 \\, x y}{8 \\, {\\left(x^{4} y^{2} + 2 \\, x^{2} y^{3} + y^{4}\\right)}} z_{y,y} + \\frac{1}{2 \\, y} w_{x}-\\frac{x}{4 \\, {\\left(x^{2} y^{2} + y^{3}\\right)}} w_{y}-\\frac{2 \\, x^{2} y^{2} + 2 \\, y^{3} + x^{2}}{2 \\, {\\left(x^{3} y^{2} + x y^{3}\\right)}} z_{x} + \\frac{2 \\, x^{5} - 4 \\, x y^{2} + {\\left(6 \\, x^{3} - x^{2}\\right)} y}{8 \\, {\\left(x^{6} y^{3} + 3 \\, x^{4} y^{4} + 3 \\, x^{2} y^{5} + y^{6}\\right)}} z_{y}-\\frac{1}{2 \\, x y} w[], []$"
      ],
      "text/plain": [
       "<IPython.core.display.Math object>"
      ]
     },
     "metadata": {},
     "output_type": "display_data"
    },
    {
     "name": "stdout",
     "output_type": "stream",
     "text": [
      "reduce_inner_end\n"
     ]
    },
    {
     "data": {
      "text/latex": [
       "$\\displaystyle  z_{x}+\\frac{x^{4} - 2 \\, {\\left(2 \\, x^{2} + x\\right)} y^{3} - 2 \\, {\\left(4 \\, x^{4} + x^{3} - x\\right)} y^{2} - 2 \\, {\\left(2 \\, x^{6} + x^{3} - x^{2}\\right)} y}{4 \\, {\\left(4 \\, x^{2} y^{4} - x^{3} y^{2} + 2 \\, y^{5} + {\\left(2 \\, x^{4} - x\\right)} y^{3}\\right)}} z_{y}+\\frac{1}{2 \\, y} w$"
      ],
      "text/plain": [
       "<IPython.core.display.Math object>"
      ]
     },
     "metadata": {},
     "output_type": "display_data"
    },
    {
     "data": {
      "text/latex": [
       "$\\displaystyle  w_{y}+\\frac{x}{2 \\, {\\left(x^{2} y + y^{2}\\right)}} z_{y}-\\frac{1}{y} w$"
      ],
      "text/plain": [
       "<IPython.core.display.Math object>"
      ]
     },
     "metadata": {},
     "output_type": "display_data"
    },
    {
     "data": {
      "text/latex": [
       "$\\displaystyle  z_{y,y}+\\frac{4 \\, {\\left(x^{2} y^{2} + y^{3}\\right)}}{x^{2}} z_{x}-\\frac{x^{2} y^{2} + x^{3} + y^{3} + 2 \\, x y}{x^{3} y + x y^{2}} z_{y}+\\frac{2 \\, {\\left(x^{2} y + y^{2}\\right)}}{x^{2}} w$"
      ],
      "text/plain": [
       "<IPython.core.display.Math object>"
      ]
     },
     "metadata": {},
     "output_type": "display_data"
    },
    {
     "data": {
      "text/latex": [
       "$\\displaystyle  z_{x,y}+\\frac{2 \\, y}{x} z_{x}-\\frac{1}{2 \\, {\\left(x^{2} + y\\right)}} z_{y}+\\frac{1}{x} w$"
      ],
      "text/plain": [
       "<IPython.core.display.Math object>"
      ]
     },
     "metadata": {},
     "output_type": "display_data"
    },
    {
     "data": {
      "text/latex": [
       "$\\displaystyle  z_{x,x}+\\frac{1}{4 \\, {\\left(x^{2} + y\\right)}} z_{x,y}+\\frac{x - y}{2 \\, x y} w_{x}-\\frac{x^{2} - y}{4 \\, {\\left(x^{5} + 2 \\, x^{3} y + x y^{2}\\right)}} z_{y}$"
      ],
      "text/plain": [
       "<IPython.core.display.Math object>"
      ]
     },
     "metadata": {},
     "output_type": "display_data"
    },
    {
     "data": {
      "text/latex": [
       "$\\displaystyle  z_{x,x}-\\frac{2 \\, x^{3} y^{2} + x^{4} + 2 \\, x y^{3} + 2 \\, x^{2} y}{4 \\, {\\left(x^{4} y^{3} + 2 \\, x^{2} y^{4} + y^{5}\\right)}} z_{x,y}-\\frac{2 \\, x^{3} - x^{2} - 2 \\, x y}{8 \\, {\\left(x^{4} y^{2} + 2 \\, x^{2} y^{3} + y^{4}\\right)}} z_{y,y}+\\frac{1}{2 \\, y} w_{x}-\\frac{x}{4 \\, {\\left(x^{2} y^{2} + y^{3}\\right)}} w_{y}-\\frac{2 \\, x^{2} y^{2} + 2 \\, y^{3} + x^{2}}{2 \\, {\\left(x^{3} y^{2} + x y^{3}\\right)}} z_{x}+\\frac{2 \\, x^{5} - 4 \\, x y^{2} + {\\left(6 \\, x^{3} - x^{2}\\right)} y}{8 \\, {\\left(x^{6} y^{3} + 3 \\, x^{4} y^{4} + 3 \\, x^{2} y^{5} + y^{6}\\right)}} z_{y}-\\frac{1}{2 \\, x y} w$"
      ],
      "text/plain": [
       "<IPython.core.display.Math object>"
      ]
     },
     "metadata": {},
     "output_type": "display_data"
    },
    {
     "name": "stdout",
     "output_type": "stream",
     "text": [
      "****************************************************************************************\n",
      "This is where we start, loop=2\n"
     ]
    },
    {
     "data": {
      "text/latex": [
       "$\\displaystyle  z_{x}+\\frac{x^{4} - 2 \\, {\\left(2 \\, x^{2} + x\\right)} y^{3} - 2 \\, {\\left(4 \\, x^{4} + x^{3} - x\\right)} y^{2} - 2 \\, {\\left(2 \\, x^{6} + x^{3} - x^{2}\\right)} y}{4 \\, {\\left(4 \\, x^{2} y^{4} - x^{3} y^{2} + 2 \\, y^{5} + {\\left(2 \\, x^{4} - x\\right)} y^{3}\\right)}} z_{y}+\\frac{1}{2 \\, y} w$"
      ],
      "text/plain": [
       "<IPython.core.display.Math object>"
      ]
     },
     "metadata": {},
     "output_type": "display_data"
    },
    {
     "data": {
      "text/latex": [
       "$\\displaystyle  w_{y}+\\frac{x}{2 \\, {\\left(x^{2} y + y^{2}\\right)}} z_{y}-\\frac{1}{y} w$"
      ],
      "text/plain": [
       "<IPython.core.display.Math object>"
      ]
     },
     "metadata": {},
     "output_type": "display_data"
    },
    {
     "data": {
      "text/latex": [
       "$\\displaystyle  z_{y,y}+\\frac{4 \\, {\\left(x^{2} y^{2} + y^{3}\\right)}}{x^{2}} z_{x}-\\frac{x^{2} y^{2} + x^{3} + y^{3} + 2 \\, x y}{x^{3} y + x y^{2}} z_{y}+\\frac{2 \\, {\\left(x^{2} y + y^{2}\\right)}}{x^{2}} w$"
      ],
      "text/plain": [
       "<IPython.core.display.Math object>"
      ]
     },
     "metadata": {},
     "output_type": "display_data"
    },
    {
     "data": {
      "text/latex": [
       "$\\displaystyle  z_{x,y}+\\frac{2 \\, y}{x} z_{x}-\\frac{1}{2 \\, {\\left(x^{2} + y\\right)}} z_{y}+\\frac{1}{x} w$"
      ],
      "text/plain": [
       "<IPython.core.display.Math object>"
      ]
     },
     "metadata": {},
     "output_type": "display_data"
    },
    {
     "data": {
      "text/latex": [
       "$\\displaystyle  z_{x,x}+\\frac{1}{4 \\, {\\left(x^{2} + y\\right)}} z_{x,y}+\\frac{x - y}{2 \\, x y} w_{x}-\\frac{x^{2} - y}{4 \\, {\\left(x^{5} + 2 \\, x^{3} y + x y^{2}\\right)}} z_{y}$"
      ],
      "text/plain": [
       "<IPython.core.display.Math object>"
      ]
     },
     "metadata": {},
     "output_type": "display_data"
    },
    {
     "data": {
      "text/latex": [
       "$\\displaystyle  z_{x,x}-\\frac{2 \\, x^{3} y^{2} + x^{4} + 2 \\, x y^{3} + 2 \\, x^{2} y}{4 \\, {\\left(x^{4} y^{3} + 2 \\, x^{2} y^{4} + y^{5}\\right)}} z_{x,y}-\\frac{2 \\, x^{3} - x^{2} - 2 \\, x y}{8 \\, {\\left(x^{4} y^{2} + 2 \\, x^{2} y^{3} + y^{4}\\right)}} z_{y,y}+\\frac{1}{2 \\, y} w_{x}-\\frac{x}{4 \\, {\\left(x^{2} y^{2} + y^{3}\\right)}} w_{y}-\\frac{2 \\, x^{2} y^{2} + 2 \\, y^{3} + x^{2}}{2 \\, {\\left(x^{3} y^{2} + x y^{3}\\right)}} z_{x}+\\frac{2 \\, x^{5} - 4 \\, x y^{2} + {\\left(6 \\, x^{3} - x^{2}\\right)} y}{8 \\, {\\left(x^{6} y^{3} + 3 \\, x^{4} y^{4} + 3 \\, x^{2} y^{5} + y^{6}\\right)}} z_{y}-\\frac{1}{2 \\, x y} w$"
      ],
      "text/plain": [
       "<IPython.core.display.Math object>"
      ]
     },
     "metadata": {},
     "output_type": "display_data"
    },
    {
     "name": "stdout",
     "output_type": "stream",
     "text": [
      "................ reduce_inner\n"
     ]
    },
    {
     "data": {
      "text/latex": [
       "$\\displaystyle  w_{y} + \\frac{x}{2 \\, {\\left(x^{2} y + y^{2}\\right)}} z_{y}-\\frac{1}{y} w{0, 1}, []$"
      ],
      "text/plain": [
       "<IPython.core.display.Math object>"
      ]
     },
     "metadata": {},
     "output_type": "display_data"
    },
    {
     "data": {
      "text/latex": [
       "$\\displaystyle  z_{x} + \\frac{x^{4} - 2 \\, {\\left(2 \\, x^{2} + x\\right)} y^{3} - 2 \\, {\\left(4 \\, x^{4} + x^{3} - x\\right)} y^{2} - 2 \\, {\\left(2 \\, x^{6} + x^{3} - x^{2}\\right)} y}{4 \\, {\\left(4 \\, x^{2} y^{4} - x^{3} y^{2} + 2 \\, y^{5} + {\\left(2 \\, x^{4} - x\\right)} y^{3}\\right)}} z_{y} + \\frac{1}{2 \\, y} w{0, 1}, []$"
      ],
      "text/plain": [
       "<IPython.core.display.Math object>"
      ]
     },
     "metadata": {},
     "output_type": "display_data"
    },
    {
     "name": "stdout",
     "output_type": "stream",
     "text": [
      "str(t)='diff(w(x, y), y)'\n",
      "nothing to reduce\n"
     ]
    },
    {
     "data": {
      "text/latex": [
       "$\\displaystyle  w_{y} + \\frac{x}{2 \\, {\\left(x^{2} y + y^{2}\\right)}} z_{y}-\\frac{1}{y} w{0, 1}, []$"
      ],
      "text/plain": [
       "<IPython.core.display.Math object>"
      ]
     },
     "metadata": {},
     "output_type": "display_data"
    },
    {
     "name": "stdout",
     "output_type": "stream",
     "text": [
      "reduce_inner_end\n",
      "................ reduce_inner\n"
     ]
    },
    {
     "data": {
      "text/latex": [
       "$\\displaystyle  z_{y,y} + \\frac{4 \\, {\\left(x^{2} y^{2} + y^{3}\\right)}}{x^{2}} z_{x}-\\frac{x^{2} y^{2} + x^{3} + y^{3} + 2 \\, x y}{x^{3} y + x y^{2}} z_{y} + \\frac{2 \\, {\\left(x^{2} y + y^{2}\\right)}}{x^{2}} w{0}, [1]$"
      ],
      "text/plain": [
       "<IPython.core.display.Math object>"
      ]
     },
     "metadata": {},
     "output_type": "display_data"
    },
    {
     "data": {
      "text/latex": [
       "$\\displaystyle  z_{x} + \\frac{x^{4} - 2 \\, {\\left(2 \\, x^{2} + x\\right)} y^{3} - 2 \\, {\\left(4 \\, x^{4} + x^{3} - x\\right)} y^{2} - 2 \\, {\\left(2 \\, x^{6} + x^{3} - x^{2}\\right)} y}{4 \\, {\\left(4 \\, x^{2} y^{4} - x^{3} y^{2} + 2 \\, y^{5} + {\\left(2 \\, x^{4} - x\\right)} y^{3}\\right)}} z_{y} + \\frac{1}{2 \\, y} w{0, 1}, []$"
      ],
      "text/plain": [
       "<IPython.core.display.Math object>"
      ]
     },
     "metadata": {},
     "output_type": "display_data"
    },
    {
     "name": "stdout",
     "output_type": "stream",
     "text": [
      "................ reduce_inner\n"
     ]
    },
    {
     "data": {
      "text/latex": [
       "$\\displaystyle  z_{x,y} + \\frac{2 \\, y}{x} z_{x}-\\frac{1}{2 \\, {\\left(x^{2} + y\\right)}} z_{y} + \\frac{1}{x} w{0, 1}, []$"
      ],
      "text/plain": [
       "<IPython.core.display.Math object>"
      ]
     },
     "metadata": {},
     "output_type": "display_data"
    },
    {
     "data": {
      "text/latex": [
       "$\\displaystyle  z_{x} + \\frac{x^{4} - 2 \\, {\\left(2 \\, x^{2} + x\\right)} y^{3} - 2 \\, {\\left(4 \\, x^{4} + x^{3} - x\\right)} y^{2} - 2 \\, {\\left(2 \\, x^{6} + x^{3} - x^{2}\\right)} y}{4 \\, {\\left(4 \\, x^{2} y^{4} - x^{3} y^{2} + 2 \\, y^{5} + {\\left(2 \\, x^{4} - x\\right)} y^{3}\\right)}} z_{y} + \\frac{1}{2 \\, y} w{0, 1}, []$"
      ],
      "text/plain": [
       "<IPython.core.display.Math object>"
      ]
     },
     "metadata": {},
     "output_type": "display_data"
    },
    {
     "name": "stdout",
     "output_type": "stream",
     "text": [
      "................ reduce_inner\n"
     ]
    },
    {
     "data": {
      "text/latex": [
       "$\\displaystyle  z_{x,x} + \\frac{1}{4 \\, {\\left(x^{2} + y\\right)}} z_{x,y} + \\frac{x - y}{2 \\, x y} w_{x}-\\frac{x^{2} - y}{4 \\, {\\left(x^{5} + 2 \\, x^{3} y + x y^{2}\\right)}} z_{y}{0, 1}, []$"
      ],
      "text/plain": [
       "<IPython.core.display.Math object>"
      ]
     },
     "metadata": {},
     "output_type": "display_data"
    },
    {
     "data": {
      "text/latex": [
       "$\\displaystyle  z_{x} + \\frac{x^{4} - 2 \\, {\\left(2 \\, x^{2} + x\\right)} y^{3} - 2 \\, {\\left(4 \\, x^{4} + x^{3} - x\\right)} y^{2} - 2 \\, {\\left(2 \\, x^{6} + x^{3} - x^{2}\\right)} y}{4 \\, {\\left(4 \\, x^{2} y^{4} - x^{3} y^{2} + 2 \\, y^{5} + {\\left(2 \\, x^{4} - x\\right)} y^{3}\\right)}} z_{y} + \\frac{1}{2 \\, y} w{0, 1}, []$"
      ],
      "text/plain": [
       "<IPython.core.display.Math object>"
      ]
     },
     "metadata": {},
     "output_type": "display_data"
    },
    {
     "name": "stdout",
     "output_type": "stream",
     "text": [
      "str(t)='(1/2*y*(x/y^2 - 1/y)/x) * diff(w(x, y), x)'\n",
      "nothing to reduce\n"
     ]
    },
    {
     "data": {
      "text/latex": [
       "$\\displaystyle  z_{x,x} + \\frac{1}{4 \\, {\\left(x^{2} + y\\right)}} z_{x,y} + \\frac{x - y}{2 \\, x y} w_{x}-\\frac{x^{2} - y}{4 \\, {\\left(x^{5} + 2 \\, x^{3} y + x y^{2}\\right)}} z_{y}{0, 1}, []$"
      ],
      "text/plain": [
       "<IPython.core.display.Math object>"
      ]
     },
     "metadata": {},
     "output_type": "display_data"
    },
    {
     "name": "stdout",
     "output_type": "stream",
     "text": [
      "reduce_inner_end\n",
      "................ reduce_inner\n"
     ]
    },
    {
     "data": {
      "text/latex": [
       "$\\displaystyle  z_{x,x}-\\frac{2 \\, x^{3} y^{2} + x^{4} + 2 \\, x y^{3} + 2 \\, x^{2} y}{4 \\, {\\left(x^{4} y^{3} + 2 \\, x^{2} y^{4} + y^{5}\\right)}} z_{x,y}-\\frac{2 \\, x^{3} - x^{2} - 2 \\, x y}{8 \\, {\\left(x^{4} y^{2} + 2 \\, x^{2} y^{3} + y^{4}\\right)}} z_{y,y} + \\frac{1}{2 \\, y} w_{x}-\\frac{x}{4 \\, {\\left(x^{2} y^{2} + y^{3}\\right)}} w_{y}-\\frac{2 \\, x^{2} y^{2} + 2 \\, y^{3} + x^{2}}{2 \\, {\\left(x^{3} y^{2} + x y^{3}\\right)}} z_{x} + \\frac{2 \\, x^{5} - 4 \\, x y^{2} + {\\left(6 \\, x^{3} - x^{2}\\right)} y}{8 \\, {\\left(x^{6} y^{3} + 3 \\, x^{4} y^{4} + 3 \\, x^{2} y^{5} + y^{6}\\right)}} z_{y}-\\frac{1}{2 \\, x y} w[], []$"
      ],
      "text/plain": [
       "<IPython.core.display.Math object>"
      ]
     },
     "metadata": {},
     "output_type": "display_data"
    },
    {
     "data": {
      "text/latex": [
       "$\\displaystyle  z_{x} + \\frac{x^{4} - 2 \\, {\\left(2 \\, x^{2} + x\\right)} y^{3} - 2 \\, {\\left(4 \\, x^{4} + x^{3} - x\\right)} y^{2} - 2 \\, {\\left(2 \\, x^{6} + x^{3} - x^{2}\\right)} y}{4 \\, {\\left(4 \\, x^{2} y^{4} - x^{3} y^{2} + 2 \\, y^{5} + {\\left(2 \\, x^{4} - x\\right)} y^{3}\\right)}} z_{y} + \\frac{1}{2 \\, y} w{0, 1}, []$"
      ],
      "text/plain": [
       "<IPython.core.display.Math object>"
      ]
     },
     "metadata": {},
     "output_type": "display_data"
    },
    {
     "name": "stdout",
     "output_type": "stream",
     "text": [
      "str(t)='(1/2/y) * diff(w(x, y), x)'\n",
      "nothing to reduce\n"
     ]
    },
    {
     "data": {
      "text/latex": [
       "$\\displaystyle  z_{x,x}-\\frac{2 \\, x^{3} y^{2} + x^{4} + 2 \\, x y^{3} + 2 \\, x^{2} y}{4 \\, {\\left(x^{4} y^{3} + 2 \\, x^{2} y^{4} + y^{5}\\right)}} z_{x,y}-\\frac{2 \\, x^{3} - x^{2} - 2 \\, x y}{8 \\, {\\left(x^{4} y^{2} + 2 \\, x^{2} y^{3} + y^{4}\\right)}} z_{y,y} + \\frac{1}{2 \\, y} w_{x}-\\frac{x}{4 \\, {\\left(x^{2} y^{2} + y^{3}\\right)}} w_{y}-\\frac{2 \\, x^{2} y^{2} + 2 \\, y^{3} + x^{2}}{2 \\, {\\left(x^{3} y^{2} + x y^{3}\\right)}} z_{x} + \\frac{2 \\, x^{5} - 4 \\, x y^{2} + {\\left(6 \\, x^{3} - x^{2}\\right)} y}{8 \\, {\\left(x^{6} y^{3} + 3 \\, x^{4} y^{4} + 3 \\, x^{2} y^{5} + y^{6}\\right)}} z_{y}-\\frac{1}{2 \\, x y} w[], []$"
      ],
      "text/plain": [
       "<IPython.core.display.Math object>"
      ]
     },
     "metadata": {},
     "output_type": "display_data"
    },
    {
     "name": "stdout",
     "output_type": "stream",
     "text": [
      "reduce_inner_end\n",
      "duration reorder: 0.512692928314209\n",
      "AAAAAAAAAAAAAAAAAAAAAAAAAAAAAAAAAAAAAAAAAAAAAAAAAAAAAAAAAAAAAAAAAAAAAAAAAAAAAAAAAAAAAAAAAAAAAAAAAAA 0\n"
     ]
    },
    {
     "data": {
      "text/latex": [
       "$\\displaystyle  z_{x}+\\frac{x^{4} - 2 \\, {\\left(2 \\, x^{2} + x\\right)} y^{3} - 2 \\, {\\left(4 \\, x^{4} + x^{3} - x\\right)} y^{2} - 2 \\, {\\left(2 \\, x^{6} + x^{3} - x^{2}\\right)} y}{4 \\, {\\left(4 \\, x^{2} y^{4} - x^{3} y^{2} + 2 \\, y^{5} + {\\left(2 \\, x^{4} - x\\right)} y^{3}\\right)}} z_{y}+\\frac{1}{2 \\, y} w$"
      ],
      "text/plain": [
       "<IPython.core.display.Math object>"
      ]
     },
     "metadata": {},
     "output_type": "display_data"
    },
    {
     "data": {
      "text/latex": [
       "$\\displaystyle  w_{y}+\\frac{x}{2 \\, {\\left(x^{2} y + y^{2}\\right)}} z_{y}-\\frac{1}{y} w$"
      ],
      "text/plain": [
       "<IPython.core.display.Math object>"
      ]
     },
     "metadata": {},
     "output_type": "display_data"
    },
    {
     "data": {
      "text/latex": [
       "$\\displaystyle  z_{y,y}+\\frac{4 \\, {\\left(x^{2} y^{2} + y^{3}\\right)}}{x^{2}} z_{x}-\\frac{x^{2} y^{2} + x^{3} + y^{3} + 2 \\, x y}{x^{3} y + x y^{2}} z_{y}+\\frac{2 \\, {\\left(x^{2} y + y^{2}\\right)}}{x^{2}} w$"
      ],
      "text/plain": [
       "<IPython.core.display.Math object>"
      ]
     },
     "metadata": {},
     "output_type": "display_data"
    },
    {
     "data": {
      "text/latex": [
       "$\\displaystyle  z_{x,y}+\\frac{2 \\, y}{x} z_{x}-\\frac{1}{2 \\, {\\left(x^{2} + y\\right)}} z_{y}+\\frac{1}{x} w$"
      ],
      "text/plain": [
       "<IPython.core.display.Math object>"
      ]
     },
     "metadata": {},
     "output_type": "display_data"
    },
    {
     "data": {
      "text/latex": [
       "$\\displaystyle  z_{x,x}+\\frac{1}{4 \\, {\\left(x^{2} + y\\right)}} z_{x,y}+\\frac{x - y}{2 \\, x y} w_{x}-\\frac{x^{2} - y}{4 \\, {\\left(x^{5} + 2 \\, x^{3} y + x y^{2}\\right)}} z_{y}$"
      ],
      "text/plain": [
       "<IPython.core.display.Math object>"
      ]
     },
     "metadata": {},
     "output_type": "display_data"
    },
    {
     "data": {
      "text/latex": [
       "$\\displaystyle  z_{x,x}-\\frac{2 \\, x^{3} y^{2} + x^{4} + 2 \\, x y^{3} + 2 \\, x^{2} y}{4 \\, {\\left(x^{4} y^{3} + 2 \\, x^{2} y^{4} + y^{5}\\right)}} z_{x,y}-\\frac{2 \\, x^{3} - x^{2} - 2 \\, x y}{8 \\, {\\left(x^{4} y^{2} + 2 \\, x^{2} y^{3} + y^{4}\\right)}} z_{y,y}+\\frac{1}{2 \\, y} w_{x}-\\frac{x}{4 \\, {\\left(x^{2} y^{2} + y^{3}\\right)}} w_{y}-\\frac{2 \\, x^{2} y^{2} + 2 \\, y^{3} + x^{2}}{2 \\, {\\left(x^{3} y^{2} + x y^{3}\\right)}} z_{x}+\\frac{2 \\, x^{5} - 4 \\, x y^{2} + {\\left(6 \\, x^{3} - x^{2}\\right)} y}{8 \\, {\\left(x^{6} y^{3} + 3 \\, x^{4} y^{4} + 3 \\, x^{2} y^{5} + y^{6}\\right)}} z_{y}-\\frac{1}{2 \\, x y} w$"
      ],
      "text/plain": [
       "<IPython.core.display.Math object>"
      ]
     },
     "metadata": {},
     "output_type": "display_data"
    },
    {
     "name": "stdout",
     "output_type": "stream",
     "text": [
      "................ reduce_inner\n"
     ]
    },
    {
     "data": {
      "text/latex": [
       "$\\displaystyle  z_{y,y} + \\frac{4 \\, {\\left(x^{2} y^{2} + y^{3}\\right)}}{x^{2}} z_{x}-\\frac{x^{2} y^{2} + x^{3} + y^{3} + 2 \\, x y}{x^{3} y + x y^{2}} z_{y} + \\frac{2 \\, {\\left(x^{2} y + y^{2}\\right)}}{x^{2}} w{0}, [1]$"
      ],
      "text/plain": [
       "<IPython.core.display.Math object>"
      ]
     },
     "metadata": {},
     "output_type": "display_data"
    },
    {
     "data": {
      "text/latex": [
       "$\\displaystyle  z_{x} + \\frac{x^{4} - 2 \\, {\\left(2 \\, x^{2} + x\\right)} y^{3} - 2 \\, {\\left(4 \\, x^{4} + x^{3} - x\\right)} y^{2} - 2 \\, {\\left(2 \\, x^{6} + x^{3} - x^{2}\\right)} y}{4 \\, {\\left(4 \\, x^{2} y^{4} - x^{3} y^{2} + 2 \\, y^{5} + {\\left(2 \\, x^{4} - x\\right)} y^{3}\\right)}} z_{y} + \\frac{1}{2 \\, y} w{0, 1}, []$"
      ],
      "text/plain": [
       "<IPython.core.display.Math object>"
      ]
     },
     "metadata": {},
     "output_type": "display_data"
    },
    {
     "name": "stdout",
     "output_type": "stream",
     "text": [
      "................ reduce_inner\n"
     ]
    },
    {
     "data": {
      "text/latex": [
       "$\\displaystyle  z_{y,y} + \\frac{4 \\, {\\left(x^{2} y^{2} + y^{3}\\right)}}{x^{2}} z_{x}-\\frac{x^{2} y^{2} + x^{3} + y^{3} + 2 \\, x y}{x^{3} y + x y^{2}} z_{y} + \\frac{2 \\, {\\left(x^{2} y + y^{2}\\right)}}{x^{2}} w{0}, [1]$"
      ],
      "text/plain": [
       "<IPython.core.display.Math object>"
      ]
     },
     "metadata": {},
     "output_type": "display_data"
    },
    {
     "data": {
      "text/latex": [
       "$\\displaystyle  w_{y} + \\frac{x}{2 \\, {\\left(x^{2} y + y^{2}\\right)}} z_{y}-\\frac{1}{y} w{0, 1}, []$"
      ],
      "text/plain": [
       "<IPython.core.display.Math object>"
      ]
     },
     "metadata": {},
     "output_type": "display_data"
    },
    {
     "name": "stdout",
     "output_type": "stream",
     "text": [
      "................ reduce_inner\n"
     ]
    },
    {
     "data": {
      "text/latex": [
       "$\\displaystyle  z_{x,y} + \\frac{2 \\, y}{x} z_{x}-\\frac{1}{2 \\, {\\left(x^{2} + y\\right)}} z_{y} + \\frac{1}{x} w{0, 1}, []$"
      ],
      "text/plain": [
       "<IPython.core.display.Math object>"
      ]
     },
     "metadata": {},
     "output_type": "display_data"
    },
    {
     "data": {
      "text/latex": [
       "$\\displaystyle  z_{x} + \\frac{x^{4} - 2 \\, {\\left(2 \\, x^{2} + x\\right)} y^{3} - 2 \\, {\\left(4 \\, x^{4} + x^{3} - x\\right)} y^{2} - 2 \\, {\\left(2 \\, x^{6} + x^{3} - x^{2}\\right)} y}{4 \\, {\\left(4 \\, x^{2} y^{4} - x^{3} y^{2} + 2 \\, y^{5} + {\\left(2 \\, x^{4} - x\\right)} y^{3}\\right)}} z_{y} + \\frac{1}{2 \\, y} w{0, 1}, []$"
      ],
      "text/plain": [
       "<IPython.core.display.Math object>"
      ]
     },
     "metadata": {},
     "output_type": "display_data"
    },
    {
     "name": "stdout",
     "output_type": "stream",
     "text": [
      "................ reduce_inner\n"
     ]
    },
    {
     "data": {
      "text/latex": [
       "$\\displaystyle  z_{x,y} + \\frac{2 \\, y}{x} z_{x}-\\frac{1}{2 \\, {\\left(x^{2} + y\\right)}} z_{y} + \\frac{1}{x} w{0, 1}, []$"
      ],
      "text/plain": [
       "<IPython.core.display.Math object>"
      ]
     },
     "metadata": {},
     "output_type": "display_data"
    },
    {
     "data": {
      "text/latex": [
       "$\\displaystyle  w_{y} + \\frac{x}{2 \\, {\\left(x^{2} y + y^{2}\\right)}} z_{y}-\\frac{1}{y} w{0, 1}, []$"
      ],
      "text/plain": [
       "<IPython.core.display.Math object>"
      ]
     },
     "metadata": {},
     "output_type": "display_data"
    },
    {
     "name": "stdout",
     "output_type": "stream",
     "text": [
      "................ reduce_inner\n"
     ]
    },
    {
     "data": {
      "text/latex": [
       "$\\displaystyle  z_{x,x} + \\frac{1}{4 \\, {\\left(x^{2} + y\\right)}} z_{x,y} + \\frac{x - y}{2 \\, x y} w_{x}-\\frac{x^{2} - y}{4 \\, {\\left(x^{5} + 2 \\, x^{3} y + x y^{2}\\right)}} z_{y}{0, 1}, []$"
      ],
      "text/plain": [
       "<IPython.core.display.Math object>"
      ]
     },
     "metadata": {},
     "output_type": "display_data"
    },
    {
     "data": {
      "text/latex": [
       "$\\displaystyle  z_{x} + \\frac{x^{4} - 2 \\, {\\left(2 \\, x^{2} + x\\right)} y^{3} - 2 \\, {\\left(4 \\, x^{4} + x^{3} - x\\right)} y^{2} - 2 \\, {\\left(2 \\, x^{6} + x^{3} - x^{2}\\right)} y}{4 \\, {\\left(4 \\, x^{2} y^{4} - x^{3} y^{2} + 2 \\, y^{5} + {\\left(2 \\, x^{4} - x\\right)} y^{3}\\right)}} z_{y} + \\frac{1}{2 \\, y} w{0, 1}, []$"
      ],
      "text/plain": [
       "<IPython.core.display.Math object>"
      ]
     },
     "metadata": {},
     "output_type": "display_data"
    },
    {
     "name": "stdout",
     "output_type": "stream",
     "text": [
      "str(t)='(1/2*y*(x/y^2 - 1/y)/x) * diff(w(x, y), x)'\n",
      "nothing to reduce\n"
     ]
    },
    {
     "data": {
      "text/latex": [
       "$\\displaystyle  z_{x,x} + \\frac{1}{4 \\, {\\left(x^{2} + y\\right)}} z_{x,y} + \\frac{x - y}{2 \\, x y} w_{x}-\\frac{x^{2} - y}{4 \\, {\\left(x^{5} + 2 \\, x^{3} y + x y^{2}\\right)}} z_{y}{0, 1}, []$"
      ],
      "text/plain": [
       "<IPython.core.display.Math object>"
      ]
     },
     "metadata": {},
     "output_type": "display_data"
    },
    {
     "name": "stdout",
     "output_type": "stream",
     "text": [
      "reduce_inner_end\n",
      "................ reduce_inner\n"
     ]
    },
    {
     "data": {
      "text/latex": [
       "$\\displaystyle  z_{x,x} + \\frac{1}{4 \\, {\\left(x^{2} + y\\right)}} z_{x,y} + \\frac{x - y}{2 \\, x y} w_{x}-\\frac{x^{2} - y}{4 \\, {\\left(x^{5} + 2 \\, x^{3} y + x y^{2}\\right)}} z_{y}{0, 1}, []$"
      ],
      "text/plain": [
       "<IPython.core.display.Math object>"
      ]
     },
     "metadata": {},
     "output_type": "display_data"
    },
    {
     "data": {
      "text/latex": [
       "$\\displaystyle  w_{y} + \\frac{x}{2 \\, {\\left(x^{2} y + y^{2}\\right)}} z_{y}-\\frac{1}{y} w{0, 1}, []$"
      ],
      "text/plain": [
       "<IPython.core.display.Math object>"
      ]
     },
     "metadata": {},
     "output_type": "display_data"
    },
    {
     "name": "stdout",
     "output_type": "stream",
     "text": [
      "str(t)='(1/2*y*(x/y^2 - 1/y)/x) * diff(w(x, y), x)'\n",
      "nothing to reduce\n"
     ]
    },
    {
     "data": {
      "text/latex": [
       "$\\displaystyle  z_{x,x} + \\frac{1}{4 \\, {\\left(x^{2} + y\\right)}} z_{x,y} + \\frac{x - y}{2 \\, x y} w_{x}-\\frac{x^{2} - y}{4 \\, {\\left(x^{5} + 2 \\, x^{3} y + x y^{2}\\right)}} z_{y}{0, 1}, []$"
      ],
      "text/plain": [
       "<IPython.core.display.Math object>"
      ]
     },
     "metadata": {},
     "output_type": "display_data"
    },
    {
     "name": "stdout",
     "output_type": "stream",
     "text": [
      "reduce_inner_end\n",
      "................ reduce_inner\n"
     ]
    },
    {
     "data": {
      "text/latex": [
       "$\\displaystyle  z_{x,x}-\\frac{2 \\, x^{3} y^{2} + x^{4} + 2 \\, x y^{3} + 2 \\, x^{2} y}{4 \\, {\\left(x^{4} y^{3} + 2 \\, x^{2} y^{4} + y^{5}\\right)}} z_{x,y}-\\frac{2 \\, x^{3} - x^{2} - 2 \\, x y}{8 \\, {\\left(x^{4} y^{2} + 2 \\, x^{2} y^{3} + y^{4}\\right)}} z_{y,y} + \\frac{1}{2 \\, y} w_{x}-\\frac{x}{4 \\, {\\left(x^{2} y^{2} + y^{3}\\right)}} w_{y}-\\frac{2 \\, x^{2} y^{2} + 2 \\, y^{3} + x^{2}}{2 \\, {\\left(x^{3} y^{2} + x y^{3}\\right)}} z_{x} + \\frac{2 \\, x^{5} - 4 \\, x y^{2} + {\\left(6 \\, x^{3} - x^{2}\\right)} y}{8 \\, {\\left(x^{6} y^{3} + 3 \\, x^{4} y^{4} + 3 \\, x^{2} y^{5} + y^{6}\\right)}} z_{y}-\\frac{1}{2 \\, x y} w[], []$"
      ],
      "text/plain": [
       "<IPython.core.display.Math object>"
      ]
     },
     "metadata": {},
     "output_type": "display_data"
    },
    {
     "data": {
      "text/latex": [
       "$\\displaystyle  z_{x} + \\frac{x^{4} - 2 \\, {\\left(2 \\, x^{2} + x\\right)} y^{3} - 2 \\, {\\left(4 \\, x^{4} + x^{3} - x\\right)} y^{2} - 2 \\, {\\left(2 \\, x^{6} + x^{3} - x^{2}\\right)} y}{4 \\, {\\left(4 \\, x^{2} y^{4} - x^{3} y^{2} + 2 \\, y^{5} + {\\left(2 \\, x^{4} - x\\right)} y^{3}\\right)}} z_{y} + \\frac{1}{2 \\, y} w{0, 1}, []$"
      ],
      "text/plain": [
       "<IPython.core.display.Math object>"
      ]
     },
     "metadata": {},
     "output_type": "display_data"
    },
    {
     "name": "stdout",
     "output_type": "stream",
     "text": [
      "str(t)='(1/2/y) * diff(w(x, y), x)'\n",
      "nothing to reduce\n"
     ]
    },
    {
     "data": {
      "text/latex": [
       "$\\displaystyle  z_{x,x}-\\frac{2 \\, x^{3} y^{2} + x^{4} + 2 \\, x y^{3} + 2 \\, x^{2} y}{4 \\, {\\left(x^{4} y^{3} + 2 \\, x^{2} y^{4} + y^{5}\\right)}} z_{x,y}-\\frac{2 \\, x^{3} - x^{2} - 2 \\, x y}{8 \\, {\\left(x^{4} y^{2} + 2 \\, x^{2} y^{3} + y^{4}\\right)}} z_{y,y} + \\frac{1}{2 \\, y} w_{x}-\\frac{x}{4 \\, {\\left(x^{2} y^{2} + y^{3}\\right)}} w_{y}-\\frac{2 \\, x^{2} y^{2} + 2 \\, y^{3} + x^{2}}{2 \\, {\\left(x^{3} y^{2} + x y^{3}\\right)}} z_{x} + \\frac{2 \\, x^{5} - 4 \\, x y^{2} + {\\left(6 \\, x^{3} - x^{2}\\right)} y}{8 \\, {\\left(x^{6} y^{3} + 3 \\, x^{4} y^{4} + 3 \\, x^{2} y^{5} + y^{6}\\right)}} z_{y}-\\frac{1}{2 \\, x y} w[], []$"
      ],
      "text/plain": [
       "<IPython.core.display.Math object>"
      ]
     },
     "metadata": {},
     "output_type": "display_data"
    },
    {
     "name": "stdout",
     "output_type": "stream",
     "text": [
      "reduce_inner_end\n",
      "................ reduce_inner\n"
     ]
    },
    {
     "data": {
      "text/latex": [
       "$\\displaystyle  z_{x,x}-\\frac{2 \\, x^{3} y^{2} + x^{4} + 2 \\, x y^{3} + 2 \\, x^{2} y}{4 \\, {\\left(x^{4} y^{3} + 2 \\, x^{2} y^{4} + y^{5}\\right)}} z_{x,y}-\\frac{2 \\, x^{3} - x^{2} - 2 \\, x y}{8 \\, {\\left(x^{4} y^{2} + 2 \\, x^{2} y^{3} + y^{4}\\right)}} z_{y,y} + \\frac{1}{2 \\, y} w_{x}-\\frac{x}{4 \\, {\\left(x^{2} y^{2} + y^{3}\\right)}} w_{y}-\\frac{2 \\, x^{2} y^{2} + 2 \\, y^{3} + x^{2}}{2 \\, {\\left(x^{3} y^{2} + x y^{3}\\right)}} z_{x} + \\frac{2 \\, x^{5} - 4 \\, x y^{2} + {\\left(6 \\, x^{3} - x^{2}\\right)} y}{8 \\, {\\left(x^{6} y^{3} + 3 \\, x^{4} y^{4} + 3 \\, x^{2} y^{5} + y^{6}\\right)}} z_{y}-\\frac{1}{2 \\, x y} w[], []$"
      ],
      "text/plain": [
       "<IPython.core.display.Math object>"
      ]
     },
     "metadata": {},
     "output_type": "display_data"
    },
    {
     "data": {
      "text/latex": [
       "$\\displaystyle  w_{y} + \\frac{x}{2 \\, {\\left(x^{2} y + y^{2}\\right)}} z_{y}-\\frac{1}{y} w{0, 1}, []$"
      ],
      "text/plain": [
       "<IPython.core.display.Math object>"
      ]
     },
     "metadata": {},
     "output_type": "display_data"
    },
    {
     "name": "stdout",
     "output_type": "stream",
     "text": [
      "str(t)='(1/2/y) * diff(w(x, y), x)'\n",
      "nothing to reduce\n"
     ]
    },
    {
     "data": {
      "text/latex": [
       "$\\displaystyle  z_{x,x}-\\frac{2 \\, x^{3} y^{2} + x^{4} + 2 \\, x y^{3} + 2 \\, x^{2} y}{4 \\, {\\left(x^{4} y^{3} + 2 \\, x^{2} y^{4} + y^{5}\\right)}} z_{x,y}-\\frac{2 \\, x^{3} - x^{2} - 2 \\, x y}{8 \\, {\\left(x^{4} y^{2} + 2 \\, x^{2} y^{3} + y^{4}\\right)}} z_{y,y} + \\frac{1}{2 \\, y} w_{x}-\\frac{x}{4 \\, {\\left(x^{2} y^{2} + y^{3}\\right)}} w_{y}-\\frac{2 \\, x^{2} y^{2} + 2 \\, y^{3} + x^{2}}{2 \\, {\\left(x^{3} y^{2} + x y^{3}\\right)}} z_{x} + \\frac{2 \\, x^{5} - 4 \\, x y^{2} + {\\left(6 \\, x^{3} - x^{2}\\right)} y}{8 \\, {\\left(x^{6} y^{3} + 3 \\, x^{4} y^{4} + 3 \\, x^{2} y^{5} + y^{6}\\right)}} z_{y}-\\frac{1}{2 \\, x y} w[], []$"
      ],
      "text/plain": [
       "<IPython.core.display.Math object>"
      ]
     },
     "metadata": {},
     "output_type": "display_data"
    },
    {
     "name": "stdout",
     "output_type": "stream",
     "text": [
      "reduce_inner_end\n",
      "duration reorder: 0.6793785095214844\n",
      "AAAAAAAAAAAAAAAAAAAAAAAAAAAAAAAAAAAAAAAAAAAAAAAAAAAAAAAAAAAAAAAAAAAAAAAAAAAAAAAAAAAAAAAAAAAAAAAAAAA 0\n"
     ]
    },
    {
     "data": {
      "text/latex": [
       "$\\displaystyle  z_{x}+\\frac{x^{4} - 2 \\, {\\left(2 \\, x^{2} + x\\right)} y^{3} - 2 \\, {\\left(4 \\, x^{4} + x^{3} - x\\right)} y^{2} - 2 \\, {\\left(2 \\, x^{6} + x^{3} - x^{2}\\right)} y}{4 \\, {\\left(4 \\, x^{2} y^{4} - x^{3} y^{2} + 2 \\, y^{5} + {\\left(2 \\, x^{4} - x\\right)} y^{3}\\right)}} z_{y}+\\frac{1}{2 \\, y} w$"
      ],
      "text/plain": [
       "<IPython.core.display.Math object>"
      ]
     },
     "metadata": {},
     "output_type": "display_data"
    },
    {
     "data": {
      "text/latex": [
       "$\\displaystyle  w_{y}+\\frac{x}{2 \\, {\\left(x^{2} y + y^{2}\\right)}} z_{y}-\\frac{1}{y} w$"
      ],
      "text/plain": [
       "<IPython.core.display.Math object>"
      ]
     },
     "metadata": {},
     "output_type": "display_data"
    },
    {
     "data": {
      "text/latex": [
       "$\\displaystyle  z_{y,y}+\\frac{4 \\, {\\left(x^{2} y^{2} + y^{3}\\right)}}{x^{2}} z_{x}-\\frac{x^{2} y^{2} + x^{3} + y^{3} + 2 \\, x y}{x^{3} y + x y^{2}} z_{y}+\\frac{2 \\, {\\left(x^{2} y + y^{2}\\right)}}{x^{2}} w$"
      ],
      "text/plain": [
       "<IPython.core.display.Math object>"
      ]
     },
     "metadata": {},
     "output_type": "display_data"
    },
    {
     "data": {
      "text/latex": [
       "$\\displaystyle  z_{x,y}+\\frac{2 \\, y}{x} z_{x}-\\frac{1}{2 \\, {\\left(x^{2} + y\\right)}} z_{y}+\\frac{1}{x} w$"
      ],
      "text/plain": [
       "<IPython.core.display.Math object>"
      ]
     },
     "metadata": {},
     "output_type": "display_data"
    },
    {
     "data": {
      "text/latex": [
       "$\\displaystyle  z_{x,x}+\\frac{1}{4 \\, {\\left(x^{2} + y\\right)}} z_{x,y}+\\frac{x - y}{2 \\, x y} w_{x}-\\frac{x^{2} - y}{4 \\, {\\left(x^{5} + 2 \\, x^{3} y + x y^{2}\\right)}} z_{y}$"
      ],
      "text/plain": [
       "<IPython.core.display.Math object>"
      ]
     },
     "metadata": {},
     "output_type": "display_data"
    },
    {
     "data": {
      "text/latex": [
       "$\\displaystyle  z_{x,x}-\\frac{2 \\, x^{3} y^{2} + x^{4} + 2 \\, x y^{3} + 2 \\, x^{2} y}{4 \\, {\\left(x^{4} y^{3} + 2 \\, x^{2} y^{4} + y^{5}\\right)}} z_{x,y}-\\frac{2 \\, x^{3} - x^{2} - 2 \\, x y}{8 \\, {\\left(x^{4} y^{2} + 2 \\, x^{2} y^{3} + y^{4}\\right)}} z_{y,y}+\\frac{1}{2 \\, y} w_{x}-\\frac{x}{4 \\, {\\left(x^{2} y^{2} + y^{3}\\right)}} w_{y}-\\frac{2 \\, x^{2} y^{2} + 2 \\, y^{3} + x^{2}}{2 \\, {\\left(x^{3} y^{2} + x y^{3}\\right)}} z_{x}+\\frac{2 \\, x^{5} - 4 \\, x y^{2} + {\\left(6 \\, x^{3} - x^{2}\\right)} y}{8 \\, {\\left(x^{6} y^{3} + 3 \\, x^{4} y^{4} + 3 \\, x^{2} y^{5} + y^{6}\\right)}} z_{y}-\\frac{1}{2 \\, x y} w$"
      ],
      "text/plain": [
       "<IPython.core.display.Math object>"
      ]
     },
     "metadata": {},
     "output_type": "display_data"
    },
    {
     "name": "stdout",
     "output_type": "stream",
     "text": [
      "................ reduce_inner\n"
     ]
    },
    {
     "data": {
      "text/latex": [
       "$\\displaystyle  z_{x,y} + \\frac{2 \\, y}{x} z_{x}-\\frac{1}{2 \\, {\\left(x^{2} + y\\right)}} z_{y} + \\frac{1}{x} w{0, 1}, []$"
      ],
      "text/plain": [
       "<IPython.core.display.Math object>"
      ]
     },
     "metadata": {},
     "output_type": "display_data"
    },
    {
     "data": {
      "text/latex": [
       "$\\displaystyle  z_{x} + \\frac{x^{4} - 2 \\, {\\left(2 \\, x^{2} + x\\right)} y^{3} - 2 \\, {\\left(4 \\, x^{4} + x^{3} - x\\right)} y^{2} - 2 \\, {\\left(2 \\, x^{6} + x^{3} - x^{2}\\right)} y}{4 \\, {\\left(4 \\, x^{2} y^{4} - x^{3} y^{2} + 2 \\, y^{5} + {\\left(2 \\, x^{4} - x\\right)} y^{3}\\right)}} z_{y} + \\frac{1}{2 \\, y} w{0, 1}, []$"
      ],
      "text/plain": [
       "<IPython.core.display.Math object>"
      ]
     },
     "metadata": {},
     "output_type": "display_data"
    },
    {
     "name": "stdout",
     "output_type": "stream",
     "text": [
      "................ reduce_inner\n"
     ]
    },
    {
     "data": {
      "text/latex": [
       "$\\displaystyle  z_{x,y} + \\frac{2 \\, y}{x} z_{x}-\\frac{1}{2 \\, {\\left(x^{2} + y\\right)}} z_{y} + \\frac{1}{x} w{0, 1}, []$"
      ],
      "text/plain": [
       "<IPython.core.display.Math object>"
      ]
     },
     "metadata": {},
     "output_type": "display_data"
    },
    {
     "data": {
      "text/latex": [
       "$\\displaystyle  w_{y} + \\frac{x}{2 \\, {\\left(x^{2} y + y^{2}\\right)}} z_{y}-\\frac{1}{y} w{0, 1}, []$"
      ],
      "text/plain": [
       "<IPython.core.display.Math object>"
      ]
     },
     "metadata": {},
     "output_type": "display_data"
    },
    {
     "name": "stdout",
     "output_type": "stream",
     "text": [
      "................ reduce_inner\n"
     ]
    },
    {
     "data": {
      "text/latex": [
       "$\\displaystyle  z_{x,y} + \\frac{2 \\, y}{x} z_{x}-\\frac{1}{2 \\, {\\left(x^{2} + y\\right)}} z_{y} + \\frac{1}{x} w{0, 1}, []$"
      ],
      "text/plain": [
       "<IPython.core.display.Math object>"
      ]
     },
     "metadata": {},
     "output_type": "display_data"
    },
    {
     "data": {
      "text/latex": [
       "$\\displaystyle  z_{y,y} + \\frac{4 \\, {\\left(x^{2} y^{2} + y^{3}\\right)}}{x^{2}} z_{x}-\\frac{x^{2} y^{2} + x^{3} + y^{3} + 2 \\, x y}{x^{3} y + x y^{2}} z_{y} + \\frac{2 \\, {\\left(x^{2} y + y^{2}\\right)}}{x^{2}} w{0}, [1]$"
      ],
      "text/plain": [
       "<IPython.core.display.Math object>"
      ]
     },
     "metadata": {},
     "output_type": "display_data"
    },
    {
     "name": "stdout",
     "output_type": "stream",
     "text": [
      "................ reduce_inner\n"
     ]
    },
    {
     "data": {
      "text/latex": [
       "$\\displaystyle  z_{x,x} + \\frac{1}{4 \\, {\\left(x^{2} + y\\right)}} z_{x,y} + \\frac{x - y}{2 \\, x y} w_{x}-\\frac{x^{2} - y}{4 \\, {\\left(x^{5} + 2 \\, x^{3} y + x y^{2}\\right)}} z_{y}{0, 1}, []$"
      ],
      "text/plain": [
       "<IPython.core.display.Math object>"
      ]
     },
     "metadata": {},
     "output_type": "display_data"
    },
    {
     "data": {
      "text/latex": [
       "$\\displaystyle  z_{x} + \\frac{x^{4} - 2 \\, {\\left(2 \\, x^{2} + x\\right)} y^{3} - 2 \\, {\\left(4 \\, x^{4} + x^{3} - x\\right)} y^{2} - 2 \\, {\\left(2 \\, x^{6} + x^{3} - x^{2}\\right)} y}{4 \\, {\\left(4 \\, x^{2} y^{4} - x^{3} y^{2} + 2 \\, y^{5} + {\\left(2 \\, x^{4} - x\\right)} y^{3}\\right)}} z_{y} + \\frac{1}{2 \\, y} w{0, 1}, []$"
      ],
      "text/plain": [
       "<IPython.core.display.Math object>"
      ]
     },
     "metadata": {},
     "output_type": "display_data"
    },
    {
     "name": "stdout",
     "output_type": "stream",
     "text": [
      "str(t)='(1/2*y*(x/y^2 - 1/y)/x) * diff(w(x, y), x)'\n",
      "nothing to reduce\n"
     ]
    },
    {
     "data": {
      "text/latex": [
       "$\\displaystyle  z_{x,x} + \\frac{1}{4 \\, {\\left(x^{2} + y\\right)}} z_{x,y} + \\frac{x - y}{2 \\, x y} w_{x}-\\frac{x^{2} - y}{4 \\, {\\left(x^{5} + 2 \\, x^{3} y + x y^{2}\\right)}} z_{y}{0, 1}, []$"
      ],
      "text/plain": [
       "<IPython.core.display.Math object>"
      ]
     },
     "metadata": {},
     "output_type": "display_data"
    },
    {
     "name": "stdout",
     "output_type": "stream",
     "text": [
      "reduce_inner_end\n",
      "................ reduce_inner\n"
     ]
    },
    {
     "data": {
      "text/latex": [
       "$\\displaystyle  z_{x,x} + \\frac{1}{4 \\, {\\left(x^{2} + y\\right)}} z_{x,y} + \\frac{x - y}{2 \\, x y} w_{x}-\\frac{x^{2} - y}{4 \\, {\\left(x^{5} + 2 \\, x^{3} y + x y^{2}\\right)}} z_{y}{0, 1}, []$"
      ],
      "text/plain": [
       "<IPython.core.display.Math object>"
      ]
     },
     "metadata": {},
     "output_type": "display_data"
    },
    {
     "data": {
      "text/latex": [
       "$\\displaystyle  w_{y} + \\frac{x}{2 \\, {\\left(x^{2} y + y^{2}\\right)}} z_{y}-\\frac{1}{y} w{0, 1}, []$"
      ],
      "text/plain": [
       "<IPython.core.display.Math object>"
      ]
     },
     "metadata": {},
     "output_type": "display_data"
    },
    {
     "name": "stdout",
     "output_type": "stream",
     "text": [
      "str(t)='(1/2*y*(x/y^2 - 1/y)/x) * diff(w(x, y), x)'\n",
      "nothing to reduce\n"
     ]
    },
    {
     "data": {
      "text/latex": [
       "$\\displaystyle  z_{x,x} + \\frac{1}{4 \\, {\\left(x^{2} + y\\right)}} z_{x,y} + \\frac{x - y}{2 \\, x y} w_{x}-\\frac{x^{2} - y}{4 \\, {\\left(x^{5} + 2 \\, x^{3} y + x y^{2}\\right)}} z_{y}{0, 1}, []$"
      ],
      "text/plain": [
       "<IPython.core.display.Math object>"
      ]
     },
     "metadata": {},
     "output_type": "display_data"
    },
    {
     "name": "stdout",
     "output_type": "stream",
     "text": [
      "reduce_inner_end\n",
      "................ reduce_inner\n"
     ]
    },
    {
     "data": {
      "text/latex": [
       "$\\displaystyle  z_{x,x} + \\frac{1}{4 \\, {\\left(x^{2} + y\\right)}} z_{x,y} + \\frac{x - y}{2 \\, x y} w_{x}-\\frac{x^{2} - y}{4 \\, {\\left(x^{5} + 2 \\, x^{3} y + x y^{2}\\right)}} z_{y}{0, 1}, []$"
      ],
      "text/plain": [
       "<IPython.core.display.Math object>"
      ]
     },
     "metadata": {},
     "output_type": "display_data"
    },
    {
     "data": {
      "text/latex": [
       "$\\displaystyle  z_{y,y} + \\frac{4 \\, {\\left(x^{2} y^{2} + y^{3}\\right)}}{x^{2}} z_{x}-\\frac{x^{2} y^{2} + x^{3} + y^{3} + 2 \\, x y}{x^{3} y + x y^{2}} z_{y} + \\frac{2 \\, {\\left(x^{2} y + y^{2}\\right)}}{x^{2}} w{0}, [1]$"
      ],
      "text/plain": [
       "<IPython.core.display.Math object>"
      ]
     },
     "metadata": {},
     "output_type": "display_data"
    },
    {
     "name": "stdout",
     "output_type": "stream",
     "text": [
      "str(t)='(1/2*y*(x/y^2 - 1/y)/x) * diff(w(x, y), x)'\n",
      "nothing to reduce\n"
     ]
    },
    {
     "data": {
      "text/latex": [
       "$\\displaystyle  z_{x,x} + \\frac{1}{4 \\, {\\left(x^{2} + y\\right)}} z_{x,y} + \\frac{x - y}{2 \\, x y} w_{x}-\\frac{x^{2} - y}{4 \\, {\\left(x^{5} + 2 \\, x^{3} y + x y^{2}\\right)}} z_{y}{0, 1}, []$"
      ],
      "text/plain": [
       "<IPython.core.display.Math object>"
      ]
     },
     "metadata": {},
     "output_type": "display_data"
    },
    {
     "name": "stdout",
     "output_type": "stream",
     "text": [
      "reduce_inner_end\n",
      "................ reduce_inner\n"
     ]
    },
    {
     "data": {
      "text/latex": [
       "$\\displaystyle  z_{x,x}-\\frac{2 \\, x^{3} y^{2} + x^{4} + 2 \\, x y^{3} + 2 \\, x^{2} y}{4 \\, {\\left(x^{4} y^{3} + 2 \\, x^{2} y^{4} + y^{5}\\right)}} z_{x,y}-\\frac{2 \\, x^{3} - x^{2} - 2 \\, x y}{8 \\, {\\left(x^{4} y^{2} + 2 \\, x^{2} y^{3} + y^{4}\\right)}} z_{y,y} + \\frac{1}{2 \\, y} w_{x}-\\frac{x}{4 \\, {\\left(x^{2} y^{2} + y^{3}\\right)}} w_{y}-\\frac{2 \\, x^{2} y^{2} + 2 \\, y^{3} + x^{2}}{2 \\, {\\left(x^{3} y^{2} + x y^{3}\\right)}} z_{x} + \\frac{2 \\, x^{5} - 4 \\, x y^{2} + {\\left(6 \\, x^{3} - x^{2}\\right)} y}{8 \\, {\\left(x^{6} y^{3} + 3 \\, x^{4} y^{4} + 3 \\, x^{2} y^{5} + y^{6}\\right)}} z_{y}-\\frac{1}{2 \\, x y} w[], []$"
      ],
      "text/plain": [
       "<IPython.core.display.Math object>"
      ]
     },
     "metadata": {},
     "output_type": "display_data"
    },
    {
     "data": {
      "text/latex": [
       "$\\displaystyle  z_{x} + \\frac{x^{4} - 2 \\, {\\left(2 \\, x^{2} + x\\right)} y^{3} - 2 \\, {\\left(4 \\, x^{4} + x^{3} - x\\right)} y^{2} - 2 \\, {\\left(2 \\, x^{6} + x^{3} - x^{2}\\right)} y}{4 \\, {\\left(4 \\, x^{2} y^{4} - x^{3} y^{2} + 2 \\, y^{5} + {\\left(2 \\, x^{4} - x\\right)} y^{3}\\right)}} z_{y} + \\frac{1}{2 \\, y} w{0, 1}, []$"
      ],
      "text/plain": [
       "<IPython.core.display.Math object>"
      ]
     },
     "metadata": {},
     "output_type": "display_data"
    },
    {
     "name": "stdout",
     "output_type": "stream",
     "text": [
      "str(t)='(1/2/y) * diff(w(x, y), x)'\n",
      "nothing to reduce\n"
     ]
    },
    {
     "data": {
      "text/latex": [
       "$\\displaystyle  z_{x,x}-\\frac{2 \\, x^{3} y^{2} + x^{4} + 2 \\, x y^{3} + 2 \\, x^{2} y}{4 \\, {\\left(x^{4} y^{3} + 2 \\, x^{2} y^{4} + y^{5}\\right)}} z_{x,y}-\\frac{2 \\, x^{3} - x^{2} - 2 \\, x y}{8 \\, {\\left(x^{4} y^{2} + 2 \\, x^{2} y^{3} + y^{4}\\right)}} z_{y,y} + \\frac{1}{2 \\, y} w_{x}-\\frac{x}{4 \\, {\\left(x^{2} y^{2} + y^{3}\\right)}} w_{y}-\\frac{2 \\, x^{2} y^{2} + 2 \\, y^{3} + x^{2}}{2 \\, {\\left(x^{3} y^{2} + x y^{3}\\right)}} z_{x} + \\frac{2 \\, x^{5} - 4 \\, x y^{2} + {\\left(6 \\, x^{3} - x^{2}\\right)} y}{8 \\, {\\left(x^{6} y^{3} + 3 \\, x^{4} y^{4} + 3 \\, x^{2} y^{5} + y^{6}\\right)}} z_{y}-\\frac{1}{2 \\, x y} w[], []$"
      ],
      "text/plain": [
       "<IPython.core.display.Math object>"
      ]
     },
     "metadata": {},
     "output_type": "display_data"
    },
    {
     "name": "stdout",
     "output_type": "stream",
     "text": [
      "reduce_inner_end\n",
      "................ reduce_inner\n"
     ]
    },
    {
     "data": {
      "text/latex": [
       "$\\displaystyle  z_{x,x}-\\frac{2 \\, x^{3} y^{2} + x^{4} + 2 \\, x y^{3} + 2 \\, x^{2} y}{4 \\, {\\left(x^{4} y^{3} + 2 \\, x^{2} y^{4} + y^{5}\\right)}} z_{x,y}-\\frac{2 \\, x^{3} - x^{2} - 2 \\, x y}{8 \\, {\\left(x^{4} y^{2} + 2 \\, x^{2} y^{3} + y^{4}\\right)}} z_{y,y} + \\frac{1}{2 \\, y} w_{x}-\\frac{x}{4 \\, {\\left(x^{2} y^{2} + y^{3}\\right)}} w_{y}-\\frac{2 \\, x^{2} y^{2} + 2 \\, y^{3} + x^{2}}{2 \\, {\\left(x^{3} y^{2} + x y^{3}\\right)}} z_{x} + \\frac{2 \\, x^{5} - 4 \\, x y^{2} + {\\left(6 \\, x^{3} - x^{2}\\right)} y}{8 \\, {\\left(x^{6} y^{3} + 3 \\, x^{4} y^{4} + 3 \\, x^{2} y^{5} + y^{6}\\right)}} z_{y}-\\frac{1}{2 \\, x y} w[], []$"
      ],
      "text/plain": [
       "<IPython.core.display.Math object>"
      ]
     },
     "metadata": {},
     "output_type": "display_data"
    },
    {
     "data": {
      "text/latex": [
       "$\\displaystyle  w_{y} + \\frac{x}{2 \\, {\\left(x^{2} y + y^{2}\\right)}} z_{y}-\\frac{1}{y} w{0, 1}, []$"
      ],
      "text/plain": [
       "<IPython.core.display.Math object>"
      ]
     },
     "metadata": {},
     "output_type": "display_data"
    },
    {
     "name": "stdout",
     "output_type": "stream",
     "text": [
      "str(t)='(1/2/y) * diff(w(x, y), x)'\n",
      "nothing to reduce\n"
     ]
    },
    {
     "data": {
      "text/latex": [
       "$\\displaystyle  z_{x,x}-\\frac{2 \\, x^{3} y^{2} + x^{4} + 2 \\, x y^{3} + 2 \\, x^{2} y}{4 \\, {\\left(x^{4} y^{3} + 2 \\, x^{2} y^{4} + y^{5}\\right)}} z_{x,y}-\\frac{2 \\, x^{3} - x^{2} - 2 \\, x y}{8 \\, {\\left(x^{4} y^{2} + 2 \\, x^{2} y^{3} + y^{4}\\right)}} z_{y,y} + \\frac{1}{2 \\, y} w_{x}-\\frac{x}{4 \\, {\\left(x^{2} y^{2} + y^{3}\\right)}} w_{y}-\\frac{2 \\, x^{2} y^{2} + 2 \\, y^{3} + x^{2}}{2 \\, {\\left(x^{3} y^{2} + x y^{3}\\right)}} z_{x} + \\frac{2 \\, x^{5} - 4 \\, x y^{2} + {\\left(6 \\, x^{3} - x^{2}\\right)} y}{8 \\, {\\left(x^{6} y^{3} + 3 \\, x^{4} y^{4} + 3 \\, x^{2} y^{5} + y^{6}\\right)}} z_{y}-\\frac{1}{2 \\, x y} w[], []$"
      ],
      "text/plain": [
       "<IPython.core.display.Math object>"
      ]
     },
     "metadata": {},
     "output_type": "display_data"
    },
    {
     "name": "stdout",
     "output_type": "stream",
     "text": [
      "reduce_inner_end\n",
      "................ reduce_inner\n"
     ]
    },
    {
     "data": {
      "text/latex": [
       "$\\displaystyle  z_{x,x}-\\frac{2 \\, x^{3} y^{2} + x^{4} + 2 \\, x y^{3} + 2 \\, x^{2} y}{4 \\, {\\left(x^{4} y^{3} + 2 \\, x^{2} y^{4} + y^{5}\\right)}} z_{x,y}-\\frac{2 \\, x^{3} - x^{2} - 2 \\, x y}{8 \\, {\\left(x^{4} y^{2} + 2 \\, x^{2} y^{3} + y^{4}\\right)}} z_{y,y} + \\frac{1}{2 \\, y} w_{x}-\\frac{x}{4 \\, {\\left(x^{2} y^{2} + y^{3}\\right)}} w_{y}-\\frac{2 \\, x^{2} y^{2} + 2 \\, y^{3} + x^{2}}{2 \\, {\\left(x^{3} y^{2} + x y^{3}\\right)}} z_{x} + \\frac{2 \\, x^{5} - 4 \\, x y^{2} + {\\left(6 \\, x^{3} - x^{2}\\right)} y}{8 \\, {\\left(x^{6} y^{3} + 3 \\, x^{4} y^{4} + 3 \\, x^{2} y^{5} + y^{6}\\right)}} z_{y}-\\frac{1}{2 \\, x y} w[], []$"
      ],
      "text/plain": [
       "<IPython.core.display.Math object>"
      ]
     },
     "metadata": {},
     "output_type": "display_data"
    },
    {
     "data": {
      "text/latex": [
       "$\\displaystyle  z_{y,y} + \\frac{4 \\, {\\left(x^{2} y^{2} + y^{3}\\right)}}{x^{2}} z_{x}-\\frac{x^{2} y^{2} + x^{3} + y^{3} + 2 \\, x y}{x^{3} y + x y^{2}} z_{y} + \\frac{2 \\, {\\left(x^{2} y + y^{2}\\right)}}{x^{2}} w{0}, [1]$"
      ],
      "text/plain": [
       "<IPython.core.display.Math object>"
      ]
     },
     "metadata": {},
     "output_type": "display_data"
    },
    {
     "name": "stdout",
     "output_type": "stream",
     "text": [
      "str(t)='(1/2/y) * diff(w(x, y), x)'\n",
      "nothing to reduce\n"
     ]
    },
    {
     "data": {
      "text/latex": [
       "$\\displaystyle  z_{x,x}-\\frac{2 \\, x^{3} y^{2} + x^{4} + 2 \\, x y^{3} + 2 \\, x^{2} y}{4 \\, {\\left(x^{4} y^{3} + 2 \\, x^{2} y^{4} + y^{5}\\right)}} z_{x,y}-\\frac{2 \\, x^{3} - x^{2} - 2 \\, x y}{8 \\, {\\left(x^{4} y^{2} + 2 \\, x^{2} y^{3} + y^{4}\\right)}} z_{y,y} + \\frac{1}{2 \\, y} w_{x}-\\frac{x}{4 \\, {\\left(x^{2} y^{2} + y^{3}\\right)}} w_{y}-\\frac{2 \\, x^{2} y^{2} + 2 \\, y^{3} + x^{2}}{2 \\, {\\left(x^{3} y^{2} + x y^{3}\\right)}} z_{x} + \\frac{2 \\, x^{5} - 4 \\, x y^{2} + {\\left(6 \\, x^{3} - x^{2}\\right)} y}{8 \\, {\\left(x^{6} y^{3} + 3 \\, x^{4} y^{4} + 3 \\, x^{2} y^{5} + y^{6}\\right)}} z_{y}-\\frac{1}{2 \\, x y} w[], []$"
      ],
      "text/plain": [
       "<IPython.core.display.Math object>"
      ]
     },
     "metadata": {},
     "output_type": "display_data"
    },
    {
     "name": "stdout",
     "output_type": "stream",
     "text": [
      "reduce_inner_end\n",
      "duration reorder: 0.7567880153656006\n",
      "AAAAAAAAAAAAAAAAAAAAAAAAAAAAAAAAAAAAAAAAAAAAAAAAAAAAAAAAAAAAAAAAAAAAAAAAAAAAAAAAAAAAAAAAAAAAAAAAAAA 0\n"
     ]
    },
    {
     "data": {
      "text/latex": [
       "$\\displaystyle  z_{x}+\\frac{x^{4} - 2 \\, {\\left(2 \\, x^{2} + x\\right)} y^{3} - 2 \\, {\\left(4 \\, x^{4} + x^{3} - x\\right)} y^{2} - 2 \\, {\\left(2 \\, x^{6} + x^{3} - x^{2}\\right)} y}{4 \\, {\\left(4 \\, x^{2} y^{4} - x^{3} y^{2} + 2 \\, y^{5} + {\\left(2 \\, x^{4} - x\\right)} y^{3}\\right)}} z_{y}+\\frac{1}{2 \\, y} w$"
      ],
      "text/plain": [
       "<IPython.core.display.Math object>"
      ]
     },
     "metadata": {},
     "output_type": "display_data"
    },
    {
     "data": {
      "text/latex": [
       "$\\displaystyle  w_{y}+\\frac{x}{2 \\, {\\left(x^{2} y + y^{2}\\right)}} z_{y}-\\frac{1}{y} w$"
      ],
      "text/plain": [
       "<IPython.core.display.Math object>"
      ]
     },
     "metadata": {},
     "output_type": "display_data"
    },
    {
     "data": {
      "text/latex": [
       "$\\displaystyle  z_{y,y}+\\frac{4 \\, {\\left(x^{2} y^{2} + y^{3}\\right)}}{x^{2}} z_{x}-\\frac{x^{2} y^{2} + x^{3} + y^{3} + 2 \\, x y}{x^{3} y + x y^{2}} z_{y}+\\frac{2 \\, {\\left(x^{2} y + y^{2}\\right)}}{x^{2}} w$"
      ],
      "text/plain": [
       "<IPython.core.display.Math object>"
      ]
     },
     "metadata": {},
     "output_type": "display_data"
    },
    {
     "data": {
      "text/latex": [
       "$\\displaystyle  z_{x,y}+\\frac{2 \\, y}{x} z_{x}-\\frac{1}{2 \\, {\\left(x^{2} + y\\right)}} z_{y}+\\frac{1}{x} w$"
      ],
      "text/plain": [
       "<IPython.core.display.Math object>"
      ]
     },
     "metadata": {},
     "output_type": "display_data"
    },
    {
     "data": {
      "text/latex": [
       "$\\displaystyle  z_{x,x}+\\frac{1}{4 \\, {\\left(x^{2} + y\\right)}} z_{x,y}+\\frac{x - y}{2 \\, x y} w_{x}-\\frac{x^{2} - y}{4 \\, {\\left(x^{5} + 2 \\, x^{3} y + x y^{2}\\right)}} z_{y}$"
      ],
      "text/plain": [
       "<IPython.core.display.Math object>"
      ]
     },
     "metadata": {},
     "output_type": "display_data"
    },
    {
     "data": {
      "text/latex": [
       "$\\displaystyle  z_{x,x}-\\frac{2 \\, x^{3} y^{2} + x^{4} + 2 \\, x y^{3} + 2 \\, x^{2} y}{4 \\, {\\left(x^{4} y^{3} + 2 \\, x^{2} y^{4} + y^{5}\\right)}} z_{x,y}-\\frac{2 \\, x^{3} - x^{2} - 2 \\, x y}{8 \\, {\\left(x^{4} y^{2} + 2 \\, x^{2} y^{3} + y^{4}\\right)}} z_{y,y}+\\frac{1}{2 \\, y} w_{x}-\\frac{x}{4 \\, {\\left(x^{2} y^{2} + y^{3}\\right)}} w_{y}-\\frac{2 \\, x^{2} y^{2} + 2 \\, y^{3} + x^{2}}{2 \\, {\\left(x^{3} y^{2} + x y^{3}\\right)}} z_{x}+\\frac{2 \\, x^{5} - 4 \\, x y^{2} + {\\left(6 \\, x^{3} - x^{2}\\right)} y}{8 \\, {\\left(x^{6} y^{3} + 3 \\, x^{4} y^{4} + 3 \\, x^{2} y^{5} + y^{6}\\right)}} z_{y}-\\frac{1}{2 \\, x y} w$"
      ],
      "text/plain": [
       "<IPython.core.display.Math object>"
      ]
     },
     "metadata": {},
     "output_type": "display_data"
    },
    {
     "name": "stdout",
     "output_type": "stream",
     "text": [
      "................ reduce_inner\n"
     ]
    },
    {
     "data": {
      "text/latex": [
       "$\\displaystyle  z_{x,x} + \\frac{1}{4 \\, {\\left(x^{2} + y\\right)}} z_{x,y} + \\frac{x - y}{2 \\, x y} w_{x}-\\frac{x^{2} - y}{4 \\, {\\left(x^{5} + 2 \\, x^{3} y + x y^{2}\\right)}} z_{y}{0, 1}, []$"
      ],
      "text/plain": [
       "<IPython.core.display.Math object>"
      ]
     },
     "metadata": {},
     "output_type": "display_data"
    },
    {
     "data": {
      "text/latex": [
       "$\\displaystyle  z_{x} + \\frac{x^{4} - 2 \\, {\\left(2 \\, x^{2} + x\\right)} y^{3} - 2 \\, {\\left(4 \\, x^{4} + x^{3} - x\\right)} y^{2} - 2 \\, {\\left(2 \\, x^{6} + x^{3} - x^{2}\\right)} y}{4 \\, {\\left(4 \\, x^{2} y^{4} - x^{3} y^{2} + 2 \\, y^{5} + {\\left(2 \\, x^{4} - x\\right)} y^{3}\\right)}} z_{y} + \\frac{1}{2 \\, y} w{0, 1}, []$"
      ],
      "text/plain": [
       "<IPython.core.display.Math object>"
      ]
     },
     "metadata": {},
     "output_type": "display_data"
    },
    {
     "name": "stdout",
     "output_type": "stream",
     "text": [
      "str(t)='(1/2*y*(x/y^2 - 1/y)/x) * diff(w(x, y), x)'\n",
      "nothing to reduce\n"
     ]
    },
    {
     "data": {
      "text/latex": [
       "$\\displaystyle  z_{x,x} + \\frac{1}{4 \\, {\\left(x^{2} + y\\right)}} z_{x,y} + \\frac{x - y}{2 \\, x y} w_{x}-\\frac{x^{2} - y}{4 \\, {\\left(x^{5} + 2 \\, x^{3} y + x y^{2}\\right)}} z_{y}{0, 1}, []$"
      ],
      "text/plain": [
       "<IPython.core.display.Math object>"
      ]
     },
     "metadata": {},
     "output_type": "display_data"
    },
    {
     "name": "stdout",
     "output_type": "stream",
     "text": [
      "reduce_inner_end\n",
      "................ reduce_inner\n"
     ]
    },
    {
     "data": {
      "text/latex": [
       "$\\displaystyle  z_{x,x} + \\frac{1}{4 \\, {\\left(x^{2} + y\\right)}} z_{x,y} + \\frac{x - y}{2 \\, x y} w_{x}-\\frac{x^{2} - y}{4 \\, {\\left(x^{5} + 2 \\, x^{3} y + x y^{2}\\right)}} z_{y}{0, 1}, []$"
      ],
      "text/plain": [
       "<IPython.core.display.Math object>"
      ]
     },
     "metadata": {},
     "output_type": "display_data"
    },
    {
     "data": {
      "text/latex": [
       "$\\displaystyle  w_{y} + \\frac{x}{2 \\, {\\left(x^{2} y + y^{2}\\right)}} z_{y}-\\frac{1}{y} w{0, 1}, []$"
      ],
      "text/plain": [
       "<IPython.core.display.Math object>"
      ]
     },
     "metadata": {},
     "output_type": "display_data"
    },
    {
     "name": "stdout",
     "output_type": "stream",
     "text": [
      "str(t)='(1/2*y*(x/y^2 - 1/y)/x) * diff(w(x, y), x)'\n",
      "nothing to reduce\n"
     ]
    },
    {
     "data": {
      "text/latex": [
       "$\\displaystyle  z_{x,x} + \\frac{1}{4 \\, {\\left(x^{2} + y\\right)}} z_{x,y} + \\frac{x - y}{2 \\, x y} w_{x}-\\frac{x^{2} - y}{4 \\, {\\left(x^{5} + 2 \\, x^{3} y + x y^{2}\\right)}} z_{y}{0, 1}, []$"
      ],
      "text/plain": [
       "<IPython.core.display.Math object>"
      ]
     },
     "metadata": {},
     "output_type": "display_data"
    },
    {
     "name": "stdout",
     "output_type": "stream",
     "text": [
      "reduce_inner_end\n",
      "................ reduce_inner\n"
     ]
    },
    {
     "data": {
      "text/latex": [
       "$\\displaystyle  z_{x,x} + \\frac{1}{4 \\, {\\left(x^{2} + y\\right)}} z_{x,y} + \\frac{x - y}{2 \\, x y} w_{x}-\\frac{x^{2} - y}{4 \\, {\\left(x^{5} + 2 \\, x^{3} y + x y^{2}\\right)}} z_{y}{0, 1}, []$"
      ],
      "text/plain": [
       "<IPython.core.display.Math object>"
      ]
     },
     "metadata": {},
     "output_type": "display_data"
    },
    {
     "data": {
      "text/latex": [
       "$\\displaystyle  z_{y,y} + \\frac{4 \\, {\\left(x^{2} y^{2} + y^{3}\\right)}}{x^{2}} z_{x}-\\frac{x^{2} y^{2} + x^{3} + y^{3} + 2 \\, x y}{x^{3} y + x y^{2}} z_{y} + \\frac{2 \\, {\\left(x^{2} y + y^{2}\\right)}}{x^{2}} w{0}, [1]$"
      ],
      "text/plain": [
       "<IPython.core.display.Math object>"
      ]
     },
     "metadata": {},
     "output_type": "display_data"
    },
    {
     "name": "stdout",
     "output_type": "stream",
     "text": [
      "str(t)='(1/2*y*(x/y^2 - 1/y)/x) * diff(w(x, y), x)'\n",
      "nothing to reduce\n"
     ]
    },
    {
     "data": {
      "text/latex": [
       "$\\displaystyle  z_{x,x} + \\frac{1}{4 \\, {\\left(x^{2} + y\\right)}} z_{x,y} + \\frac{x - y}{2 \\, x y} w_{x}-\\frac{x^{2} - y}{4 \\, {\\left(x^{5} + 2 \\, x^{3} y + x y^{2}\\right)}} z_{y}{0, 1}, []$"
      ],
      "text/plain": [
       "<IPython.core.display.Math object>"
      ]
     },
     "metadata": {},
     "output_type": "display_data"
    },
    {
     "name": "stdout",
     "output_type": "stream",
     "text": [
      "reduce_inner_end\n",
      "................ reduce_inner\n"
     ]
    },
    {
     "data": {
      "text/latex": [
       "$\\displaystyle  z_{x,x} + \\frac{1}{4 \\, {\\left(x^{2} + y\\right)}} z_{x,y} + \\frac{x - y}{2 \\, x y} w_{x}-\\frac{x^{2} - y}{4 \\, {\\left(x^{5} + 2 \\, x^{3} y + x y^{2}\\right)}} z_{y}{0, 1}, []$"
      ],
      "text/plain": [
       "<IPython.core.display.Math object>"
      ]
     },
     "metadata": {},
     "output_type": "display_data"
    },
    {
     "data": {
      "text/latex": [
       "$\\displaystyle  z_{x,y} + \\frac{2 \\, y}{x} z_{x}-\\frac{1}{2 \\, {\\left(x^{2} + y\\right)}} z_{y} + \\frac{1}{x} w{0, 1}, []$"
      ],
      "text/plain": [
       "<IPython.core.display.Math object>"
      ]
     },
     "metadata": {},
     "output_type": "display_data"
    },
    {
     "name": "stdout",
     "output_type": "stream",
     "text": [
      "str(t)='diff(z(x, y), x, x)'\n",
      "nothing to reduce\n"
     ]
    },
    {
     "data": {
      "text/latex": [
       "$\\displaystyle  z_{x,x} + \\frac{1}{4 \\, {\\left(x^{2} + y\\right)}} z_{x,y} + \\frac{x - y}{2 \\, x y} w_{x}-\\frac{x^{2} - y}{4 \\, {\\left(x^{5} + 2 \\, x^{3} y + x y^{2}\\right)}} z_{y}{0, 1}, []$"
      ],
      "text/plain": [
       "<IPython.core.display.Math object>"
      ]
     },
     "metadata": {},
     "output_type": "display_data"
    },
    {
     "name": "stdout",
     "output_type": "stream",
     "text": [
      "reduce_inner_end\n",
      "................ reduce_inner\n"
     ]
    },
    {
     "data": {
      "text/latex": [
       "$\\displaystyle  z_{x,x}-\\frac{2 \\, x^{3} y^{2} + x^{4} + 2 \\, x y^{3} + 2 \\, x^{2} y}{4 \\, {\\left(x^{4} y^{3} + 2 \\, x^{2} y^{4} + y^{5}\\right)}} z_{x,y}-\\frac{2 \\, x^{3} - x^{2} - 2 \\, x y}{8 \\, {\\left(x^{4} y^{2} + 2 \\, x^{2} y^{3} + y^{4}\\right)}} z_{y,y} + \\frac{1}{2 \\, y} w_{x}-\\frac{x}{4 \\, {\\left(x^{2} y^{2} + y^{3}\\right)}} w_{y}-\\frac{2 \\, x^{2} y^{2} + 2 \\, y^{3} + x^{2}}{2 \\, {\\left(x^{3} y^{2} + x y^{3}\\right)}} z_{x} + \\frac{2 \\, x^{5} - 4 \\, x y^{2} + {\\left(6 \\, x^{3} - x^{2}\\right)} y}{8 \\, {\\left(x^{6} y^{3} + 3 \\, x^{4} y^{4} + 3 \\, x^{2} y^{5} + y^{6}\\right)}} z_{y}-\\frac{1}{2 \\, x y} w[], []$"
      ],
      "text/plain": [
       "<IPython.core.display.Math object>"
      ]
     },
     "metadata": {},
     "output_type": "display_data"
    },
    {
     "data": {
      "text/latex": [
       "$\\displaystyle  z_{x} + \\frac{x^{4} - 2 \\, {\\left(2 \\, x^{2} + x\\right)} y^{3} - 2 \\, {\\left(4 \\, x^{4} + x^{3} - x\\right)} y^{2} - 2 \\, {\\left(2 \\, x^{6} + x^{3} - x^{2}\\right)} y}{4 \\, {\\left(4 \\, x^{2} y^{4} - x^{3} y^{2} + 2 \\, y^{5} + {\\left(2 \\, x^{4} - x\\right)} y^{3}\\right)}} z_{y} + \\frac{1}{2 \\, y} w{0, 1}, []$"
      ],
      "text/plain": [
       "<IPython.core.display.Math object>"
      ]
     },
     "metadata": {},
     "output_type": "display_data"
    },
    {
     "name": "stdout",
     "output_type": "stream",
     "text": [
      "str(t)='(1/2/y) * diff(w(x, y), x)'\n",
      "nothing to reduce\n"
     ]
    },
    {
     "data": {
      "text/latex": [
       "$\\displaystyle  z_{x,x}-\\frac{2 \\, x^{3} y^{2} + x^{4} + 2 \\, x y^{3} + 2 \\, x^{2} y}{4 \\, {\\left(x^{4} y^{3} + 2 \\, x^{2} y^{4} + y^{5}\\right)}} z_{x,y}-\\frac{2 \\, x^{3} - x^{2} - 2 \\, x y}{8 \\, {\\left(x^{4} y^{2} + 2 \\, x^{2} y^{3} + y^{4}\\right)}} z_{y,y} + \\frac{1}{2 \\, y} w_{x}-\\frac{x}{4 \\, {\\left(x^{2} y^{2} + y^{3}\\right)}} w_{y}-\\frac{2 \\, x^{2} y^{2} + 2 \\, y^{3} + x^{2}}{2 \\, {\\left(x^{3} y^{2} + x y^{3}\\right)}} z_{x} + \\frac{2 \\, x^{5} - 4 \\, x y^{2} + {\\left(6 \\, x^{3} - x^{2}\\right)} y}{8 \\, {\\left(x^{6} y^{3} + 3 \\, x^{4} y^{4} + 3 \\, x^{2} y^{5} + y^{6}\\right)}} z_{y}-\\frac{1}{2 \\, x y} w[], []$"
      ],
      "text/plain": [
       "<IPython.core.display.Math object>"
      ]
     },
     "metadata": {},
     "output_type": "display_data"
    },
    {
     "name": "stdout",
     "output_type": "stream",
     "text": [
      "reduce_inner_end\n",
      "................ reduce_inner\n"
     ]
    },
    {
     "data": {
      "text/latex": [
       "$\\displaystyle  z_{x,x}-\\frac{2 \\, x^{3} y^{2} + x^{4} + 2 \\, x y^{3} + 2 \\, x^{2} y}{4 \\, {\\left(x^{4} y^{3} + 2 \\, x^{2} y^{4} + y^{5}\\right)}} z_{x,y}-\\frac{2 \\, x^{3} - x^{2} - 2 \\, x y}{8 \\, {\\left(x^{4} y^{2} + 2 \\, x^{2} y^{3} + y^{4}\\right)}} z_{y,y} + \\frac{1}{2 \\, y} w_{x}-\\frac{x}{4 \\, {\\left(x^{2} y^{2} + y^{3}\\right)}} w_{y}-\\frac{2 \\, x^{2} y^{2} + 2 \\, y^{3} + x^{2}}{2 \\, {\\left(x^{3} y^{2} + x y^{3}\\right)}} z_{x} + \\frac{2 \\, x^{5} - 4 \\, x y^{2} + {\\left(6 \\, x^{3} - x^{2}\\right)} y}{8 \\, {\\left(x^{6} y^{3} + 3 \\, x^{4} y^{4} + 3 \\, x^{2} y^{5} + y^{6}\\right)}} z_{y}-\\frac{1}{2 \\, x y} w[], []$"
      ],
      "text/plain": [
       "<IPython.core.display.Math object>"
      ]
     },
     "metadata": {},
     "output_type": "display_data"
    },
    {
     "data": {
      "text/latex": [
       "$\\displaystyle  w_{y} + \\frac{x}{2 \\, {\\left(x^{2} y + y^{2}\\right)}} z_{y}-\\frac{1}{y} w{0, 1}, []$"
      ],
      "text/plain": [
       "<IPython.core.display.Math object>"
      ]
     },
     "metadata": {},
     "output_type": "display_data"
    },
    {
     "name": "stdout",
     "output_type": "stream",
     "text": [
      "str(t)='(1/2/y) * diff(w(x, y), x)'\n",
      "nothing to reduce\n"
     ]
    },
    {
     "data": {
      "text/latex": [
       "$\\displaystyle  z_{x,x}-\\frac{2 \\, x^{3} y^{2} + x^{4} + 2 \\, x y^{3} + 2 \\, x^{2} y}{4 \\, {\\left(x^{4} y^{3} + 2 \\, x^{2} y^{4} + y^{5}\\right)}} z_{x,y}-\\frac{2 \\, x^{3} - x^{2} - 2 \\, x y}{8 \\, {\\left(x^{4} y^{2} + 2 \\, x^{2} y^{3} + y^{4}\\right)}} z_{y,y} + \\frac{1}{2 \\, y} w_{x}-\\frac{x}{4 \\, {\\left(x^{2} y^{2} + y^{3}\\right)}} w_{y}-\\frac{2 \\, x^{2} y^{2} + 2 \\, y^{3} + x^{2}}{2 \\, {\\left(x^{3} y^{2} + x y^{3}\\right)}} z_{x} + \\frac{2 \\, x^{5} - 4 \\, x y^{2} + {\\left(6 \\, x^{3} - x^{2}\\right)} y}{8 \\, {\\left(x^{6} y^{3} + 3 \\, x^{4} y^{4} + 3 \\, x^{2} y^{5} + y^{6}\\right)}} z_{y}-\\frac{1}{2 \\, x y} w[], []$"
      ],
      "text/plain": [
       "<IPython.core.display.Math object>"
      ]
     },
     "metadata": {},
     "output_type": "display_data"
    },
    {
     "name": "stdout",
     "output_type": "stream",
     "text": [
      "reduce_inner_end\n",
      "................ reduce_inner\n"
     ]
    },
    {
     "data": {
      "text/latex": [
       "$\\displaystyle  z_{x,x}-\\frac{2 \\, x^{3} y^{2} + x^{4} + 2 \\, x y^{3} + 2 \\, x^{2} y}{4 \\, {\\left(x^{4} y^{3} + 2 \\, x^{2} y^{4} + y^{5}\\right)}} z_{x,y}-\\frac{2 \\, x^{3} - x^{2} - 2 \\, x y}{8 \\, {\\left(x^{4} y^{2} + 2 \\, x^{2} y^{3} + y^{4}\\right)}} z_{y,y} + \\frac{1}{2 \\, y} w_{x}-\\frac{x}{4 \\, {\\left(x^{2} y^{2} + y^{3}\\right)}} w_{y}-\\frac{2 \\, x^{2} y^{2} + 2 \\, y^{3} + x^{2}}{2 \\, {\\left(x^{3} y^{2} + x y^{3}\\right)}} z_{x} + \\frac{2 \\, x^{5} - 4 \\, x y^{2} + {\\left(6 \\, x^{3} - x^{2}\\right)} y}{8 \\, {\\left(x^{6} y^{3} + 3 \\, x^{4} y^{4} + 3 \\, x^{2} y^{5} + y^{6}\\right)}} z_{y}-\\frac{1}{2 \\, x y} w[], []$"
      ],
      "text/plain": [
       "<IPython.core.display.Math object>"
      ]
     },
     "metadata": {},
     "output_type": "display_data"
    },
    {
     "data": {
      "text/latex": [
       "$\\displaystyle  z_{y,y} + \\frac{4 \\, {\\left(x^{2} y^{2} + y^{3}\\right)}}{x^{2}} z_{x}-\\frac{x^{2} y^{2} + x^{3} + y^{3} + 2 \\, x y}{x^{3} y + x y^{2}} z_{y} + \\frac{2 \\, {\\left(x^{2} y + y^{2}\\right)}}{x^{2}} w{0}, [1]$"
      ],
      "text/plain": [
       "<IPython.core.display.Math object>"
      ]
     },
     "metadata": {},
     "output_type": "display_data"
    },
    {
     "name": "stdout",
     "output_type": "stream",
     "text": [
      "str(t)='(1/2/y) * diff(w(x, y), x)'\n",
      "nothing to reduce\n"
     ]
    },
    {
     "data": {
      "text/latex": [
       "$\\displaystyle  z_{x,x}-\\frac{2 \\, x^{3} y^{2} + x^{4} + 2 \\, x y^{3} + 2 \\, x^{2} y}{4 \\, {\\left(x^{4} y^{3} + 2 \\, x^{2} y^{4} + y^{5}\\right)}} z_{x,y}-\\frac{2 \\, x^{3} - x^{2} - 2 \\, x y}{8 \\, {\\left(x^{4} y^{2} + 2 \\, x^{2} y^{3} + y^{4}\\right)}} z_{y,y} + \\frac{1}{2 \\, y} w_{x}-\\frac{x}{4 \\, {\\left(x^{2} y^{2} + y^{3}\\right)}} w_{y}-\\frac{2 \\, x^{2} y^{2} + 2 \\, y^{3} + x^{2}}{2 \\, {\\left(x^{3} y^{2} + x y^{3}\\right)}} z_{x} + \\frac{2 \\, x^{5} - 4 \\, x y^{2} + {\\left(6 \\, x^{3} - x^{2}\\right)} y}{8 \\, {\\left(x^{6} y^{3} + 3 \\, x^{4} y^{4} + 3 \\, x^{2} y^{5} + y^{6}\\right)}} z_{y}-\\frac{1}{2 \\, x y} w[], []$"
      ],
      "text/plain": [
       "<IPython.core.display.Math object>"
      ]
     },
     "metadata": {},
     "output_type": "display_data"
    },
    {
     "name": "stdout",
     "output_type": "stream",
     "text": [
      "reduce_inner_end\n",
      "................ reduce_inner\n"
     ]
    },
    {
     "data": {
      "text/latex": [
       "$\\displaystyle  z_{x,x}-\\frac{2 \\, x^{3} y^{2} + x^{4} + 2 \\, x y^{3} + 2 \\, x^{2} y}{4 \\, {\\left(x^{4} y^{3} + 2 \\, x^{2} y^{4} + y^{5}\\right)}} z_{x,y}-\\frac{2 \\, x^{3} - x^{2} - 2 \\, x y}{8 \\, {\\left(x^{4} y^{2} + 2 \\, x^{2} y^{3} + y^{4}\\right)}} z_{y,y} + \\frac{1}{2 \\, y} w_{x}-\\frac{x}{4 \\, {\\left(x^{2} y^{2} + y^{3}\\right)}} w_{y}-\\frac{2 \\, x^{2} y^{2} + 2 \\, y^{3} + x^{2}}{2 \\, {\\left(x^{3} y^{2} + x y^{3}\\right)}} z_{x} + \\frac{2 \\, x^{5} - 4 \\, x y^{2} + {\\left(6 \\, x^{3} - x^{2}\\right)} y}{8 \\, {\\left(x^{6} y^{3} + 3 \\, x^{4} y^{4} + 3 \\, x^{2} y^{5} + y^{6}\\right)}} z_{y}-\\frac{1}{2 \\, x y} w[], []$"
      ],
      "text/plain": [
       "<IPython.core.display.Math object>"
      ]
     },
     "metadata": {},
     "output_type": "display_data"
    },
    {
     "data": {
      "text/latex": [
       "$\\displaystyle  z_{x,y} + \\frac{2 \\, y}{x} z_{x}-\\frac{1}{2 \\, {\\left(x^{2} + y\\right)}} z_{y} + \\frac{1}{x} w{0, 1}, []$"
      ],
      "text/plain": [
       "<IPython.core.display.Math object>"
      ]
     },
     "metadata": {},
     "output_type": "display_data"
    },
    {
     "name": "stdout",
     "output_type": "stream",
     "text": [
      "str(t)='diff(z(x, y), x, x)'\n",
      "nothing to reduce\n"
     ]
    },
    {
     "data": {
      "text/latex": [
       "$\\displaystyle  z_{x,x}-\\frac{2 \\, x^{3} y^{2} + x^{4} + 2 \\, x y^{3} + 2 \\, x^{2} y}{4 \\, {\\left(x^{4} y^{3} + 2 \\, x^{2} y^{4} + y^{5}\\right)}} z_{x,y}-\\frac{2 \\, x^{3} - x^{2} - 2 \\, x y}{8 \\, {\\left(x^{4} y^{2} + 2 \\, x^{2} y^{3} + y^{4}\\right)}} z_{y,y} + \\frac{1}{2 \\, y} w_{x}-\\frac{x}{4 \\, {\\left(x^{2} y^{2} + y^{3}\\right)}} w_{y}-\\frac{2 \\, x^{2} y^{2} + 2 \\, y^{3} + x^{2}}{2 \\, {\\left(x^{3} y^{2} + x y^{3}\\right)}} z_{x} + \\frac{2 \\, x^{5} - 4 \\, x y^{2} + {\\left(6 \\, x^{3} - x^{2}\\right)} y}{8 \\, {\\left(x^{6} y^{3} + 3 \\, x^{4} y^{4} + 3 \\, x^{2} y^{5} + y^{6}\\right)}} z_{y}-\\frac{1}{2 \\, x y} w[], []$"
      ],
      "text/plain": [
       "<IPython.core.display.Math object>"
      ]
     },
     "metadata": {},
     "output_type": "display_data"
    },
    {
     "name": "stdout",
     "output_type": "stream",
     "text": [
      "reduce_inner_end\n",
      "duration reorder: 0.6944458484649658\n",
      "AAAAAAAAAAAAAAAAAAAAAAAAAAAAAAAAAAAAAAAAAAAAAAAAAAAAAAAAAAAAAAAAAAAAAAAAAAAAAAAAAAAAAAAAAAAAAAAAAAA 0\n"
     ]
    },
    {
     "data": {
      "text/latex": [
       "$\\displaystyle  z_{x}+\\frac{x^{4} - 2 \\, {\\left(2 \\, x^{2} + x\\right)} y^{3} - 2 \\, {\\left(4 \\, x^{4} + x^{3} - x\\right)} y^{2} - 2 \\, {\\left(2 \\, x^{6} + x^{3} - x^{2}\\right)} y}{4 \\, {\\left(4 \\, x^{2} y^{4} - x^{3} y^{2} + 2 \\, y^{5} + {\\left(2 \\, x^{4} - x\\right)} y^{3}\\right)}} z_{y}+\\frac{1}{2 \\, y} w$"
      ],
      "text/plain": [
       "<IPython.core.display.Math object>"
      ]
     },
     "metadata": {},
     "output_type": "display_data"
    },
    {
     "data": {
      "text/latex": [
       "$\\displaystyle  w_{y}+\\frac{x}{2 \\, {\\left(x^{2} y + y^{2}\\right)}} z_{y}-\\frac{1}{y} w$"
      ],
      "text/plain": [
       "<IPython.core.display.Math object>"
      ]
     },
     "metadata": {},
     "output_type": "display_data"
    },
    {
     "data": {
      "text/latex": [
       "$\\displaystyle  z_{y,y}+\\frac{4 \\, {\\left(x^{2} y^{2} + y^{3}\\right)}}{x^{2}} z_{x}-\\frac{x^{2} y^{2} + x^{3} + y^{3} + 2 \\, x y}{x^{3} y + x y^{2}} z_{y}+\\frac{2 \\, {\\left(x^{2} y + y^{2}\\right)}}{x^{2}} w$"
      ],
      "text/plain": [
       "<IPython.core.display.Math object>"
      ]
     },
     "metadata": {},
     "output_type": "display_data"
    },
    {
     "data": {
      "text/latex": [
       "$\\displaystyle  z_{x,y}+\\frac{2 \\, y}{x} z_{x}-\\frac{1}{2 \\, {\\left(x^{2} + y\\right)}} z_{y}+\\frac{1}{x} w$"
      ],
      "text/plain": [
       "<IPython.core.display.Math object>"
      ]
     },
     "metadata": {},
     "output_type": "display_data"
    },
    {
     "data": {
      "text/latex": [
       "$\\displaystyle  z_{x,x}+\\frac{1}{4 \\, {\\left(x^{2} + y\\right)}} z_{x,y}+\\frac{x - y}{2 \\, x y} w_{x}-\\frac{x^{2} - y}{4 \\, {\\left(x^{5} + 2 \\, x^{3} y + x y^{2}\\right)}} z_{y}$"
      ],
      "text/plain": [
       "<IPython.core.display.Math object>"
      ]
     },
     "metadata": {},
     "output_type": "display_data"
    },
    {
     "data": {
      "text/latex": [
       "$\\displaystyle  z_{x,x}-\\frac{2 \\, x^{3} y^{2} + x^{4} + 2 \\, x y^{3} + 2 \\, x^{2} y}{4 \\, {\\left(x^{4} y^{3} + 2 \\, x^{2} y^{4} + y^{5}\\right)}} z_{x,y}-\\frac{2 \\, x^{3} - x^{2} - 2 \\, x y}{8 \\, {\\left(x^{4} y^{2} + 2 \\, x^{2} y^{3} + y^{4}\\right)}} z_{y,y}+\\frac{1}{2 \\, y} w_{x}-\\frac{x}{4 \\, {\\left(x^{2} y^{2} + y^{3}\\right)}} w_{y}-\\frac{2 \\, x^{2} y^{2} + 2 \\, y^{3} + x^{2}}{2 \\, {\\left(x^{3} y^{2} + x y^{3}\\right)}} z_{x}+\\frac{2 \\, x^{5} - 4 \\, x y^{2} + {\\left(6 \\, x^{3} - x^{2}\\right)} y}{8 \\, {\\left(x^{6} y^{3} + 3 \\, x^{4} y^{4} + 3 \\, x^{2} y^{5} + y^{6}\\right)}} z_{y}-\\frac{1}{2 \\, x y} w$"
      ],
      "text/plain": [
       "<IPython.core.display.Math object>"
      ]
     },
     "metadata": {},
     "output_type": "display_data"
    },
    {
     "name": "stdout",
     "output_type": "stream",
     "text": [
      "................ reduce_inner\n"
     ]
    },
    {
     "data": {
      "text/latex": [
       "$\\displaystyle  z_{x,x}-\\frac{2 \\, x^{3} y^{2} + x^{4} + 2 \\, x y^{3} + 2 \\, x^{2} y}{4 \\, {\\left(x^{4} y^{3} + 2 \\, x^{2} y^{4} + y^{5}\\right)}} z_{x,y}-\\frac{2 \\, x^{3} - x^{2} - 2 \\, x y}{8 \\, {\\left(x^{4} y^{2} + 2 \\, x^{2} y^{3} + y^{4}\\right)}} z_{y,y} + \\frac{1}{2 \\, y} w_{x}-\\frac{x}{4 \\, {\\left(x^{2} y^{2} + y^{3}\\right)}} w_{y}-\\frac{2 \\, x^{2} y^{2} + 2 \\, y^{3} + x^{2}}{2 \\, {\\left(x^{3} y^{2} + x y^{3}\\right)}} z_{x} + \\frac{2 \\, x^{5} - 4 \\, x y^{2} + {\\left(6 \\, x^{3} - x^{2}\\right)} y}{8 \\, {\\left(x^{6} y^{3} + 3 \\, x^{4} y^{4} + 3 \\, x^{2} y^{5} + y^{6}\\right)}} z_{y}-\\frac{1}{2 \\, x y} w[], []$"
      ],
      "text/plain": [
       "<IPython.core.display.Math object>"
      ]
     },
     "metadata": {},
     "output_type": "display_data"
    },
    {
     "data": {
      "text/latex": [
       "$\\displaystyle  z_{x} + \\frac{x^{4} - 2 \\, {\\left(2 \\, x^{2} + x\\right)} y^{3} - 2 \\, {\\left(4 \\, x^{4} + x^{3} - x\\right)} y^{2} - 2 \\, {\\left(2 \\, x^{6} + x^{3} - x^{2}\\right)} y}{4 \\, {\\left(4 \\, x^{2} y^{4} - x^{3} y^{2} + 2 \\, y^{5} + {\\left(2 \\, x^{4} - x\\right)} y^{3}\\right)}} z_{y} + \\frac{1}{2 \\, y} w{0, 1}, []$"
      ],
      "text/plain": [
       "<IPython.core.display.Math object>"
      ]
     },
     "metadata": {},
     "output_type": "display_data"
    },
    {
     "name": "stdout",
     "output_type": "stream",
     "text": [
      "str(t)='(1/2/y) * diff(w(x, y), x)'\n",
      "nothing to reduce\n"
     ]
    },
    {
     "data": {
      "text/latex": [
       "$\\displaystyle  z_{x,x}-\\frac{2 \\, x^{3} y^{2} + x^{4} + 2 \\, x y^{3} + 2 \\, x^{2} y}{4 \\, {\\left(x^{4} y^{3} + 2 \\, x^{2} y^{4} + y^{5}\\right)}} z_{x,y}-\\frac{2 \\, x^{3} - x^{2} - 2 \\, x y}{8 \\, {\\left(x^{4} y^{2} + 2 \\, x^{2} y^{3} + y^{4}\\right)}} z_{y,y} + \\frac{1}{2 \\, y} w_{x}-\\frac{x}{4 \\, {\\left(x^{2} y^{2} + y^{3}\\right)}} w_{y}-\\frac{2 \\, x^{2} y^{2} + 2 \\, y^{3} + x^{2}}{2 \\, {\\left(x^{3} y^{2} + x y^{3}\\right)}} z_{x} + \\frac{2 \\, x^{5} - 4 \\, x y^{2} + {\\left(6 \\, x^{3} - x^{2}\\right)} y}{8 \\, {\\left(x^{6} y^{3} + 3 \\, x^{4} y^{4} + 3 \\, x^{2} y^{5} + y^{6}\\right)}} z_{y}-\\frac{1}{2 \\, x y} w[], []$"
      ],
      "text/plain": [
       "<IPython.core.display.Math object>"
      ]
     },
     "metadata": {},
     "output_type": "display_data"
    },
    {
     "name": "stdout",
     "output_type": "stream",
     "text": [
      "reduce_inner_end\n",
      "................ reduce_inner\n"
     ]
    },
    {
     "data": {
      "text/latex": [
       "$\\displaystyle  z_{x,x}-\\frac{2 \\, x^{3} y^{2} + x^{4} + 2 \\, x y^{3} + 2 \\, x^{2} y}{4 \\, {\\left(x^{4} y^{3} + 2 \\, x^{2} y^{4} + y^{5}\\right)}} z_{x,y}-\\frac{2 \\, x^{3} - x^{2} - 2 \\, x y}{8 \\, {\\left(x^{4} y^{2} + 2 \\, x^{2} y^{3} + y^{4}\\right)}} z_{y,y} + \\frac{1}{2 \\, y} w_{x}-\\frac{x}{4 \\, {\\left(x^{2} y^{2} + y^{3}\\right)}} w_{y}-\\frac{2 \\, x^{2} y^{2} + 2 \\, y^{3} + x^{2}}{2 \\, {\\left(x^{3} y^{2} + x y^{3}\\right)}} z_{x} + \\frac{2 \\, x^{5} - 4 \\, x y^{2} + {\\left(6 \\, x^{3} - x^{2}\\right)} y}{8 \\, {\\left(x^{6} y^{3} + 3 \\, x^{4} y^{4} + 3 \\, x^{2} y^{5} + y^{6}\\right)}} z_{y}-\\frac{1}{2 \\, x y} w[], []$"
      ],
      "text/plain": [
       "<IPython.core.display.Math object>"
      ]
     },
     "metadata": {},
     "output_type": "display_data"
    },
    {
     "data": {
      "text/latex": [
       "$\\displaystyle  w_{y} + \\frac{x}{2 \\, {\\left(x^{2} y + y^{2}\\right)}} z_{y}-\\frac{1}{y} w{0, 1}, []$"
      ],
      "text/plain": [
       "<IPython.core.display.Math object>"
      ]
     },
     "metadata": {},
     "output_type": "display_data"
    },
    {
     "name": "stdout",
     "output_type": "stream",
     "text": [
      "str(t)='(1/2/y) * diff(w(x, y), x)'\n",
      "nothing to reduce\n"
     ]
    },
    {
     "data": {
      "text/latex": [
       "$\\displaystyle  z_{x,x}-\\frac{2 \\, x^{3} y^{2} + x^{4} + 2 \\, x y^{3} + 2 \\, x^{2} y}{4 \\, {\\left(x^{4} y^{3} + 2 \\, x^{2} y^{4} + y^{5}\\right)}} z_{x,y}-\\frac{2 \\, x^{3} - x^{2} - 2 \\, x y}{8 \\, {\\left(x^{4} y^{2} + 2 \\, x^{2} y^{3} + y^{4}\\right)}} z_{y,y} + \\frac{1}{2 \\, y} w_{x}-\\frac{x}{4 \\, {\\left(x^{2} y^{2} + y^{3}\\right)}} w_{y}-\\frac{2 \\, x^{2} y^{2} + 2 \\, y^{3} + x^{2}}{2 \\, {\\left(x^{3} y^{2} + x y^{3}\\right)}} z_{x} + \\frac{2 \\, x^{5} - 4 \\, x y^{2} + {\\left(6 \\, x^{3} - x^{2}\\right)} y}{8 \\, {\\left(x^{6} y^{3} + 3 \\, x^{4} y^{4} + 3 \\, x^{2} y^{5} + y^{6}\\right)}} z_{y}-\\frac{1}{2 \\, x y} w[], []$"
      ],
      "text/plain": [
       "<IPython.core.display.Math object>"
      ]
     },
     "metadata": {},
     "output_type": "display_data"
    },
    {
     "name": "stdout",
     "output_type": "stream",
     "text": [
      "reduce_inner_end\n",
      "................ reduce_inner\n"
     ]
    },
    {
     "data": {
      "text/latex": [
       "$\\displaystyle  z_{x,x}-\\frac{2 \\, x^{3} y^{2} + x^{4} + 2 \\, x y^{3} + 2 \\, x^{2} y}{4 \\, {\\left(x^{4} y^{3} + 2 \\, x^{2} y^{4} + y^{5}\\right)}} z_{x,y}-\\frac{2 \\, x^{3} - x^{2} - 2 \\, x y}{8 \\, {\\left(x^{4} y^{2} + 2 \\, x^{2} y^{3} + y^{4}\\right)}} z_{y,y} + \\frac{1}{2 \\, y} w_{x}-\\frac{x}{4 \\, {\\left(x^{2} y^{2} + y^{3}\\right)}} w_{y}-\\frac{2 \\, x^{2} y^{2} + 2 \\, y^{3} + x^{2}}{2 \\, {\\left(x^{3} y^{2} + x y^{3}\\right)}} z_{x} + \\frac{2 \\, x^{5} - 4 \\, x y^{2} + {\\left(6 \\, x^{3} - x^{2}\\right)} y}{8 \\, {\\left(x^{6} y^{3} + 3 \\, x^{4} y^{4} + 3 \\, x^{2} y^{5} + y^{6}\\right)}} z_{y}-\\frac{1}{2 \\, x y} w[], []$"
      ],
      "text/plain": [
       "<IPython.core.display.Math object>"
      ]
     },
     "metadata": {},
     "output_type": "display_data"
    },
    {
     "data": {
      "text/latex": [
       "$\\displaystyle  z_{y,y} + \\frac{4 \\, {\\left(x^{2} y^{2} + y^{3}\\right)}}{x^{2}} z_{x}-\\frac{x^{2} y^{2} + x^{3} + y^{3} + 2 \\, x y}{x^{3} y + x y^{2}} z_{y} + \\frac{2 \\, {\\left(x^{2} y + y^{2}\\right)}}{x^{2}} w{0}, [1]$"
      ],
      "text/plain": [
       "<IPython.core.display.Math object>"
      ]
     },
     "metadata": {},
     "output_type": "display_data"
    },
    {
     "name": "stdout",
     "output_type": "stream",
     "text": [
      "str(t)='(1/2/y) * diff(w(x, y), x)'\n",
      "nothing to reduce\n"
     ]
    },
    {
     "data": {
      "text/latex": [
       "$\\displaystyle  z_{x,x}-\\frac{2 \\, x^{3} y^{2} + x^{4} + 2 \\, x y^{3} + 2 \\, x^{2} y}{4 \\, {\\left(x^{4} y^{3} + 2 \\, x^{2} y^{4} + y^{5}\\right)}} z_{x,y}-\\frac{2 \\, x^{3} - x^{2} - 2 \\, x y}{8 \\, {\\left(x^{4} y^{2} + 2 \\, x^{2} y^{3} + y^{4}\\right)}} z_{y,y} + \\frac{1}{2 \\, y} w_{x}-\\frac{x}{4 \\, {\\left(x^{2} y^{2} + y^{3}\\right)}} w_{y}-\\frac{2 \\, x^{2} y^{2} + 2 \\, y^{3} + x^{2}}{2 \\, {\\left(x^{3} y^{2} + x y^{3}\\right)}} z_{x} + \\frac{2 \\, x^{5} - 4 \\, x y^{2} + {\\left(6 \\, x^{3} - x^{2}\\right)} y}{8 \\, {\\left(x^{6} y^{3} + 3 \\, x^{4} y^{4} + 3 \\, x^{2} y^{5} + y^{6}\\right)}} z_{y}-\\frac{1}{2 \\, x y} w[], []$"
      ],
      "text/plain": [
       "<IPython.core.display.Math object>"
      ]
     },
     "metadata": {},
     "output_type": "display_data"
    },
    {
     "name": "stdout",
     "output_type": "stream",
     "text": [
      "reduce_inner_end\n",
      "................ reduce_inner\n"
     ]
    },
    {
     "data": {
      "text/latex": [
       "$\\displaystyle  z_{x,x}-\\frac{2 \\, x^{3} y^{2} + x^{4} + 2 \\, x y^{3} + 2 \\, x^{2} y}{4 \\, {\\left(x^{4} y^{3} + 2 \\, x^{2} y^{4} + y^{5}\\right)}} z_{x,y}-\\frac{2 \\, x^{3} - x^{2} - 2 \\, x y}{8 \\, {\\left(x^{4} y^{2} + 2 \\, x^{2} y^{3} + y^{4}\\right)}} z_{y,y} + \\frac{1}{2 \\, y} w_{x}-\\frac{x}{4 \\, {\\left(x^{2} y^{2} + y^{3}\\right)}} w_{y}-\\frac{2 \\, x^{2} y^{2} + 2 \\, y^{3} + x^{2}}{2 \\, {\\left(x^{3} y^{2} + x y^{3}\\right)}} z_{x} + \\frac{2 \\, x^{5} - 4 \\, x y^{2} + {\\left(6 \\, x^{3} - x^{2}\\right)} y}{8 \\, {\\left(x^{6} y^{3} + 3 \\, x^{4} y^{4} + 3 \\, x^{2} y^{5} + y^{6}\\right)}} z_{y}-\\frac{1}{2 \\, x y} w[], []$"
      ],
      "text/plain": [
       "<IPython.core.display.Math object>"
      ]
     },
     "metadata": {},
     "output_type": "display_data"
    },
    {
     "data": {
      "text/latex": [
       "$\\displaystyle  z_{x,y} + \\frac{2 \\, y}{x} z_{x}-\\frac{1}{2 \\, {\\left(x^{2} + y\\right)}} z_{y} + \\frac{1}{x} w{0, 1}, []$"
      ],
      "text/plain": [
       "<IPython.core.display.Math object>"
      ]
     },
     "metadata": {},
     "output_type": "display_data"
    },
    {
     "name": "stdout",
     "output_type": "stream",
     "text": [
      "str(t)='diff(z(x, y), x, x)'\n",
      "nothing to reduce\n"
     ]
    },
    {
     "data": {
      "text/latex": [
       "$\\displaystyle  z_{x,x}-\\frac{2 \\, x^{3} y^{2} + x^{4} + 2 \\, x y^{3} + 2 \\, x^{2} y}{4 \\, {\\left(x^{4} y^{3} + 2 \\, x^{2} y^{4} + y^{5}\\right)}} z_{x,y}-\\frac{2 \\, x^{3} - x^{2} - 2 \\, x y}{8 \\, {\\left(x^{4} y^{2} + 2 \\, x^{2} y^{3} + y^{4}\\right)}} z_{y,y} + \\frac{1}{2 \\, y} w_{x}-\\frac{x}{4 \\, {\\left(x^{2} y^{2} + y^{3}\\right)}} w_{y}-\\frac{2 \\, x^{2} y^{2} + 2 \\, y^{3} + x^{2}}{2 \\, {\\left(x^{3} y^{2} + x y^{3}\\right)}} z_{x} + \\frac{2 \\, x^{5} - 4 \\, x y^{2} + {\\left(6 \\, x^{3} - x^{2}\\right)} y}{8 \\, {\\left(x^{6} y^{3} + 3 \\, x^{4} y^{4} + 3 \\, x^{2} y^{5} + y^{6}\\right)}} z_{y}-\\frac{1}{2 \\, x y} w[], []$"
      ],
      "text/plain": [
       "<IPython.core.display.Math object>"
      ]
     },
     "metadata": {},
     "output_type": "display_data"
    },
    {
     "name": "stdout",
     "output_type": "stream",
     "text": [
      "reduce_inner_end\n",
      "................ reduce_inner\n"
     ]
    },
    {
     "data": {
      "text/latex": [
       "$\\displaystyle  z_{x,x}-\\frac{2 \\, x^{3} y^{2} + x^{4} + 2 \\, x y^{3} + 2 \\, x^{2} y}{4 \\, {\\left(x^{4} y^{3} + 2 \\, x^{2} y^{4} + y^{5}\\right)}} z_{x,y}-\\frac{2 \\, x^{3} - x^{2} - 2 \\, x y}{8 \\, {\\left(x^{4} y^{2} + 2 \\, x^{2} y^{3} + y^{4}\\right)}} z_{y,y} + \\frac{1}{2 \\, y} w_{x}-\\frac{x}{4 \\, {\\left(x^{2} y^{2} + y^{3}\\right)}} w_{y}-\\frac{2 \\, x^{2} y^{2} + 2 \\, y^{3} + x^{2}}{2 \\, {\\left(x^{3} y^{2} + x y^{3}\\right)}} z_{x} + \\frac{2 \\, x^{5} - 4 \\, x y^{2} + {\\left(6 \\, x^{3} - x^{2}\\right)} y}{8 \\, {\\left(x^{6} y^{3} + 3 \\, x^{4} y^{4} + 3 \\, x^{2} y^{5} + y^{6}\\right)}} z_{y}-\\frac{1}{2 \\, x y} w[], []$"
      ],
      "text/plain": [
       "<IPython.core.display.Math object>"
      ]
     },
     "metadata": {},
     "output_type": "display_data"
    },
    {
     "data": {
      "text/latex": [
       "$\\displaystyle  z_{x,x} + \\frac{1}{4 \\, {\\left(x^{2} + y\\right)}} z_{x,y} + \\frac{x - y}{2 \\, x y} w_{x}-\\frac{x^{2} - y}{4 \\, {\\left(x^{5} + 2 \\, x^{3} y + x y^{2}\\right)}} z_{y}{0, 1}, []$"
      ],
      "text/plain": [
       "<IPython.core.display.Math object>"
      ]
     },
     "metadata": {},
     "output_type": "display_data"
    },
    {
     "name": "stdout",
     "output_type": "stream",
     "text": [
      "str(t)='(1/2/y) * diff(w(x, y), x)'\n",
      "nothing to reduce\n"
     ]
    },
    {
     "data": {
      "text/latex": [
       "$\\displaystyle  z_{x,x}-\\frac{2 \\, x^{3} y^{2} + x^{4} + 2 \\, x y^{3} + 2 \\, x^{2} y}{4 \\, {\\left(x^{4} y^{3} + 2 \\, x^{2} y^{4} + y^{5}\\right)}} z_{x,y}-\\frac{2 \\, x^{3} - x^{2} - 2 \\, x y}{8 \\, {\\left(x^{4} y^{2} + 2 \\, x^{2} y^{3} + y^{4}\\right)}} z_{y,y} + \\frac{1}{2 \\, y} w_{x}-\\frac{x}{4 \\, {\\left(x^{2} y^{2} + y^{3}\\right)}} w_{y}-\\frac{2 \\, x^{2} y^{2} + 2 \\, y^{3} + x^{2}}{2 \\, {\\left(x^{3} y^{2} + x y^{3}\\right)}} z_{x} + \\frac{2 \\, x^{5} - 4 \\, x y^{2} + {\\left(6 \\, x^{3} - x^{2}\\right)} y}{8 \\, {\\left(x^{6} y^{3} + 3 \\, x^{4} y^{4} + 3 \\, x^{2} y^{5} + y^{6}\\right)}} z_{y}-\\frac{1}{2 \\, x y} w[], []$"
      ],
      "text/plain": [
       "<IPython.core.display.Math object>"
      ]
     },
     "metadata": {},
     "output_type": "display_data"
    },
    {
     "name": "stdout",
     "output_type": "stream",
     "text": [
      "reduce_inner_end\n",
      "duration reorder: 0.4799473285675049\n",
      "AAAAAAAAAAAAAAAAAAAAAAAAAAAAAAAAAAAAAAAAAAAAAAAAAAAAAAAAAAAAAAAAAAAAAAAAAAAAAAAAAAAAAAAAAAAAAAAAAAA 0\n"
     ]
    },
    {
     "data": {
      "text/latex": [
       "$\\displaystyle  z_{x}+\\frac{x^{4} - 2 \\, {\\left(2 \\, x^{2} + x\\right)} y^{3} - 2 \\, {\\left(4 \\, x^{4} + x^{3} - x\\right)} y^{2} - 2 \\, {\\left(2 \\, x^{6} + x^{3} - x^{2}\\right)} y}{4 \\, {\\left(4 \\, x^{2} y^{4} - x^{3} y^{2} + 2 \\, y^{5} + {\\left(2 \\, x^{4} - x\\right)} y^{3}\\right)}} z_{y}+\\frac{1}{2 \\, y} w$"
      ],
      "text/plain": [
       "<IPython.core.display.Math object>"
      ]
     },
     "metadata": {},
     "output_type": "display_data"
    },
    {
     "data": {
      "text/latex": [
       "$\\displaystyle  w_{y}+\\frac{x}{2 \\, {\\left(x^{2} y + y^{2}\\right)}} z_{y}-\\frac{1}{y} w$"
      ],
      "text/plain": [
       "<IPython.core.display.Math object>"
      ]
     },
     "metadata": {},
     "output_type": "display_data"
    },
    {
     "data": {
      "text/latex": [
       "$\\displaystyle  z_{y,y}+\\frac{4 \\, {\\left(x^{2} y^{2} + y^{3}\\right)}}{x^{2}} z_{x}-\\frac{x^{2} y^{2} + x^{3} + y^{3} + 2 \\, x y}{x^{3} y + x y^{2}} z_{y}+\\frac{2 \\, {\\left(x^{2} y + y^{2}\\right)}}{x^{2}} w$"
      ],
      "text/plain": [
       "<IPython.core.display.Math object>"
      ]
     },
     "metadata": {},
     "output_type": "display_data"
    },
    {
     "data": {
      "text/latex": [
       "$\\displaystyle  z_{x,y}+\\frac{2 \\, y}{x} z_{x}-\\frac{1}{2 \\, {\\left(x^{2} + y\\right)}} z_{y}+\\frac{1}{x} w$"
      ],
      "text/plain": [
       "<IPython.core.display.Math object>"
      ]
     },
     "metadata": {},
     "output_type": "display_data"
    },
    {
     "data": {
      "text/latex": [
       "$\\displaystyle  z_{x,x}+\\frac{1}{4 \\, {\\left(x^{2} + y\\right)}} z_{x,y}+\\frac{x - y}{2 \\, x y} w_{x}-\\frac{x^{2} - y}{4 \\, {\\left(x^{5} + 2 \\, x^{3} y + x y^{2}\\right)}} z_{y}$"
      ],
      "text/plain": [
       "<IPython.core.display.Math object>"
      ]
     },
     "metadata": {},
     "output_type": "display_data"
    },
    {
     "data": {
      "text/latex": [
       "$\\displaystyle  z_{x,x}-\\frac{2 \\, x^{3} y^{2} + x^{4} + 2 \\, x y^{3} + 2 \\, x^{2} y}{4 \\, {\\left(x^{4} y^{3} + 2 \\, x^{2} y^{4} + y^{5}\\right)}} z_{x,y}-\\frac{2 \\, x^{3} - x^{2} - 2 \\, x y}{8 \\, {\\left(x^{4} y^{2} + 2 \\, x^{2} y^{3} + y^{4}\\right)}} z_{y,y}+\\frac{1}{2 \\, y} w_{x}-\\frac{x}{4 \\, {\\left(x^{2} y^{2} + y^{3}\\right)}} w_{y}-\\frac{2 \\, x^{2} y^{2} + 2 \\, y^{3} + x^{2}}{2 \\, {\\left(x^{3} y^{2} + x y^{3}\\right)}} z_{x}+\\frac{2 \\, x^{5} - 4 \\, x y^{2} + {\\left(6 \\, x^{3} - x^{2}\\right)} y}{8 \\, {\\left(x^{6} y^{3} + 3 \\, x^{4} y^{4} + 3 \\, x^{2} y^{5} + y^{6}\\right)}} z_{y}-\\frac{1}{2 \\, x y} w$"
      ],
      "text/plain": [
       "<IPython.core.display.Math object>"
      ]
     },
     "metadata": {},
     "output_type": "display_data"
    },
    {
     "name": "stdout",
     "output_type": "stream",
     "text": [
      "after autoreduce\n"
     ]
    },
    {
     "data": {
      "text/latex": [
       "$\\displaystyle  z_{x}+\\frac{x^{4} - 2 \\, {\\left(2 \\, x^{2} + x\\right)} y^{3} - 2 \\, {\\left(4 \\, x^{4} + x^{3} - x\\right)} y^{2} - 2 \\, {\\left(2 \\, x^{6} + x^{3} - x^{2}\\right)} y}{4 \\, {\\left(4 \\, x^{2} y^{4} - x^{3} y^{2} + 2 \\, y^{5} + {\\left(2 \\, x^{4} - x\\right)} y^{3}\\right)}} z_{y}+\\frac{1}{2 \\, y} w$"
      ],
      "text/plain": [
       "<IPython.core.display.Math object>"
      ]
     },
     "metadata": {},
     "output_type": "display_data"
    },
    {
     "data": {
      "text/latex": [
       "$\\displaystyle  w_{y}+\\frac{x}{2 \\, {\\left(x^{2} y + y^{2}\\right)}} z_{y}-\\frac{1}{y} w$"
      ],
      "text/plain": [
       "<IPython.core.display.Math object>"
      ]
     },
     "metadata": {},
     "output_type": "display_data"
    },
    {
     "data": {
      "text/latex": [
       "$\\displaystyle  z_{y,y}+\\frac{4 \\, {\\left(x^{2} y^{2} + y^{3}\\right)}}{x^{2}} z_{x}-\\frac{x^{2} y^{2} + x^{3} + y^{3} + 2 \\, x y}{x^{3} y + x y^{2}} z_{y}+\\frac{2 \\, {\\left(x^{2} y + y^{2}\\right)}}{x^{2}} w$"
      ],
      "text/plain": [
       "<IPython.core.display.Math object>"
      ]
     },
     "metadata": {},
     "output_type": "display_data"
    },
    {
     "data": {
      "text/latex": [
       "$\\displaystyle  z_{x,y}+\\frac{2 \\, y}{x} z_{x}-\\frac{1}{2 \\, {\\left(x^{2} + y\\right)}} z_{y}+\\frac{1}{x} w$"
      ],
      "text/plain": [
       "<IPython.core.display.Math object>"
      ]
     },
     "metadata": {},
     "output_type": "display_data"
    },
    {
     "data": {
      "text/latex": [
       "$\\displaystyle  z_{x,x}+\\frac{1}{4 \\, {\\left(x^{2} + y\\right)}} z_{x,y}+\\frac{x - y}{2 \\, x y} w_{x}-\\frac{x^{2} - y}{4 \\, {\\left(x^{5} + 2 \\, x^{3} y + x y^{2}\\right)}} z_{y}$"
      ],
      "text/plain": [
       "<IPython.core.display.Math object>"
      ]
     },
     "metadata": {},
     "output_type": "display_data"
    },
    {
     "data": {
      "text/latex": [
       "$\\displaystyle  z_{x,x}-\\frac{2 \\, x^{3} y^{2} + x^{4} + 2 \\, x y^{3} + 2 \\, x^{2} y}{4 \\, {\\left(x^{4} y^{3} + 2 \\, x^{2} y^{4} + y^{5}\\right)}} z_{x,y}-\\frac{2 \\, x^{3} - x^{2} - 2 \\, x y}{8 \\, {\\left(x^{4} y^{2} + 2 \\, x^{2} y^{3} + y^{4}\\right)}} z_{y,y}+\\frac{1}{2 \\, y} w_{x}-\\frac{x}{4 \\, {\\left(x^{2} y^{2} + y^{3}\\right)}} w_{y}-\\frac{2 \\, x^{2} y^{2} + 2 \\, y^{3} + x^{2}}{2 \\, {\\left(x^{3} y^{2} + x y^{3}\\right)}} z_{x}+\\frac{2 \\, x^{5} - 4 \\, x y^{2} + {\\left(6 \\, x^{3} - x^{2}\\right)} y}{8 \\, {\\left(x^{6} y^{3} + 3 \\, x^{4} y^{4} + 3 \\, x^{2} y^{5} + y^{6}\\right)}} z_{y}-\\frac{1}{2 \\, x y} w$"
      ],
      "text/plain": [
       "<IPython.core.display.Math object>"
      ]
     },
     "metadata": {},
     "output_type": "display_data"
    },
    {
     "name": "stdout",
     "output_type": "stream",
     "text": [
      "after complete system\n"
     ]
    },
    {
     "data": {
      "text/latex": [
       "$\\displaystyle  z_{x}+\\frac{x^{4} - 2 \\, {\\left(2 \\, x^{2} + x\\right)} y^{3} - 2 \\, {\\left(4 \\, x^{4} + x^{3} - x\\right)} y^{2} - 2 \\, {\\left(2 \\, x^{6} + x^{3} - x^{2}\\right)} y}{4 \\, {\\left(4 \\, x^{2} y^{4} - x^{3} y^{2} + 2 \\, y^{5} + {\\left(2 \\, x^{4} - x\\right)} y^{3}\\right)}} z_{y}+\\frac{1}{2 \\, y} w$"
      ],
      "text/plain": [
       "<IPython.core.display.Math object>"
      ]
     },
     "metadata": {},
     "output_type": "display_data"
    },
    {
     "data": {
      "text/latex": [
       "$\\displaystyle  w_{y}+\\frac{x}{2 \\, {\\left(x^{2} y + y^{2}\\right)}} z_{y}-\\frac{1}{y} w$"
      ],
      "text/plain": [
       "<IPython.core.display.Math object>"
      ]
     },
     "metadata": {},
     "output_type": "display_data"
    },
    {
     "data": {
      "text/latex": [
       "$\\displaystyle  z_{y,y}+\\frac{4 \\, {\\left(x^{2} y^{2} + y^{3}\\right)}}{x^{2}} z_{x}-\\frac{x^{2} y^{2} + x^{3} + y^{3} + 2 \\, x y}{x^{3} y + x y^{2}} z_{y}+\\frac{2 \\, {\\left(x^{2} y + y^{2}\\right)}}{x^{2}} w$"
      ],
      "text/plain": [
       "<IPython.core.display.Math object>"
      ]
     },
     "metadata": {},
     "output_type": "display_data"
    },
    {
     "data": {
      "text/latex": [
       "$\\displaystyle  z_{x,y}+\\frac{2 \\, y}{x} z_{x}-\\frac{1}{2 \\, {\\left(x^{2} + y\\right)}} z_{y}+\\frac{1}{x} w$"
      ],
      "text/plain": [
       "<IPython.core.display.Math object>"
      ]
     },
     "metadata": {},
     "output_type": "display_data"
    },
    {
     "data": {
      "text/latex": [
       "$\\displaystyle  z_{x,x}+\\frac{1}{4 \\, {\\left(x^{2} + y\\right)}} z_{x,y}+\\frac{x - y}{2 \\, x y} w_{x}-\\frac{x^{2} - y}{4 \\, {\\left(x^{5} + 2 \\, x^{3} y + x y^{2}\\right)}} z_{y}$"
      ],
      "text/plain": [
       "<IPython.core.display.Math object>"
      ]
     },
     "metadata": {},
     "output_type": "display_data"
    },
    {
     "data": {
      "text/latex": [
       "$\\displaystyle  z_{x,x}-\\frac{2 \\, x^{3} y^{2} + x^{4} + 2 \\, x y^{3} + 2 \\, x^{2} y}{4 \\, {\\left(x^{4} y^{3} + 2 \\, x^{2} y^{4} + y^{5}\\right)}} z_{x,y}-\\frac{2 \\, x^{3} - x^{2} - 2 \\, x y}{8 \\, {\\left(x^{4} y^{2} + 2 \\, x^{2} y^{3} + y^{4}\\right)}} z_{y,y}+\\frac{1}{2 \\, y} w_{x}-\\frac{x}{4 \\, {\\left(x^{2} y^{2} + y^{3}\\right)}} w_{y}-\\frac{2 \\, x^{2} y^{2} + 2 \\, y^{3} + x^{2}}{2 \\, {\\left(x^{3} y^{2} + x y^{3}\\right)}} z_{x}+\\frac{2 \\, x^{5} - 4 \\, x y^{2} + {\\left(6 \\, x^{3} - x^{2}\\right)} y}{8 \\, {\\left(x^{6} y^{3} + 3 \\, x^{4} y^{4} + 3 \\, x^{2} y^{5} + y^{6}\\right)}} z_{y}-\\frac{1}{2 \\, x y} w$"
      ],
      "text/plain": [
       "<IPython.core.display.Math object>"
      ]
     },
     "metadata": {},
     "output_type": "display_data"
    },
    {
     "name": "stdout",
     "output_type": "stream",
     "text": [
      "adding c=-1/2*(2*x^2/((x^2 + y)^2*y^2) + 4*x^2/((x^2 + y)^3*y) - 1/((x^2 + y)*y^2) - 1/((x^2 + y)^2*y))*diff(z(x, y), y) + 1/2*(2*x^2/((x^2 + y)^2*y) - 1/((x^2 + y)*y))*diff(z(x, y), y, y) - 2*y*diff(z(x, y), x, x)/x - 2*x*diff(z(x, y), x, x, y)/y - diff(w(x, y), x)/x - x*diff(w(x, y), x, y)/y^2 + 2*y*diff(z(x, y), x)/x^2 + 2*x*diff(z(x, y), x, x)/y^2 + 1/2*diff(z(x, y), x, y)/(x^2 + y) - 1/2*x*diff(z(x, y), x, y, y)/((x^2 + y)*y) - x*diff(z(x, y), y)/(x^2 + y)^2 + w(x, y)/x^2 + 2*x*diff(w(x, y), x)/y^3 + 1/2*x*diff(z(x, y), x, y)/((x^2 + y)*y^2) + 1/2*x*diff(z(x, y), x, y)/((x^2 + y)^2*y) - diff(z(x, y), x, x, y) to result\n",
      "adding c=-1/2*(2*x^2/((x^2 + y)^2*y^2) + 4*x^2/((x^2 + y)^3*y) - 1/((x^2 + y)*y^2) - 1/((x^2 + y)^2*y))*diff(z(x, y), y) + 1/2*(2*x^2/((x^2 + y)^2*y) - 1/((x^2 + y)*y))*diff(z(x, y), y, y) - 2*x*diff(z(x, y), x, x, y)/y + 2*y*diff(z(x, y), x, x, y)/x + 2*y*diff(z(x, y), x, y, y)/x - 6*(x^4 + 2*x^2*y + y^2)*x^2*diff(z(x, y), y)/((x^6 + 3*x^4*y + 3*x^2*y^2 + y^3)^2*y) + 2*x^2*diff(z(x, y), y, y)/((x^6 + 3*x^4*y + 3*x^2*y^2 + y^3)*y) + 2*(x^2 + y)*x^2*diff(z(x, y), y, y)/((x^4 + 2*x^2*y + y^2)^2*y) - x^2*diff(z(x, y), y, y, y)/((x^4 + 2*x^2*y + y^2)*y) + diff(w(x, y), x, y)/x - x*diff(w(x, y), x, y)/y^2 + diff(w(x, y), y, y)/x + 2*diff(z(x, y), x, x)/x + 2*x*diff(z(x, y), x, x)/y^2 + 4*diff(z(x, y), x, y)/x - 1/2*x*diff(z(x, y), x, y, y)/((x^2 + y)*y) - 2*x^2*diff(z(x, y), y)/((x^6 + 3*x^4*y + 3*x^2*y^2 + y^3)*y^2) + x^2*diff(z(x, y), y, y)/((x^4 + 2*x^2*y + y^2)*y^2) + 2*x*diff(w(x, y), x)/y^3 - diff(w(x, y), y)/x^2 + 1/2*x*diff(z(x, y), x, y)/((x^2 + y)*y^2) + 1/2*x*diff(z(x, y), x, y)/((x^2 + y)^2*y) to result\n"
     ]
    },
    {
     "data": {
      "text/latex": [
       "$\\displaystyle  z_{x,x,y}+\\frac{x}{2 \\, {\\left(2 \\, x^{3} + {\\left(x^{2} + 2 \\, x\\right)} y + y^{2}\\right)}} z_{x,y,y}+\\frac{x}{2 \\, x y + y^{2}} w_{x,y}+\\frac{2 \\, {\\left(y^{3} - x^{2}\\right)}}{2 \\, x^{2} y + x y^{2}} z_{x,x}-\\frac{x^{2} y^{2} + x^{3} + y^{3} + 2 \\, x y}{2 \\, {\\left(2 \\, x^{5} y + 2 \\, {\\left(x^{2} + x\\right)} y^{3} + y^{4} + {\\left(x^{4} + 4 \\, x^{3}\\right)} y^{2}\\right)}} z_{x,y}-\\frac{x^{2} - y}{2 \\, {\\left(2 \\, x^{5} + 2 \\, {\\left(x^{2} + x\\right)} y^{2} + y^{3} + {\\left(x^{4} + 4 \\, x^{3}\\right)} y\\right)}} z_{y,y}+\\frac{y^{3} - 2 \\, x^{2}}{2 \\, x^{2} y^{2} + x y^{3}} w_{x}-\\frac{2 \\, y^{2}}{2 \\, x^{3} + x^{2} y} z_{x}+\\frac{x^{4} + 2 \\, x y^{3} + 3 \\, x^{2} y + 2 \\, {\\left(x^{3} - 1\\right)} y^{2}}{2 \\, {\\left(2 \\, x^{7} y + {\\left(3 \\, x^{2} + 2 \\, x\\right)} y^{4} + y^{5} + 3 \\, {\\left(x^{4} + 2 \\, x^{3}\\right)} y^{3} + {\\left(x^{6} + 6 \\, x^{5}\\right)} y^{2}\\right)}} z_{y}-\\frac{y}{2 \\, x^{3} + x^{2} y} w$"
      ],
      "text/plain": [
       "<IPython.core.display.Math object>"
      ]
     },
     "metadata": {},
     "output_type": "display_data"
    }
   ],
   "source": [
    "jb = Janet_Basis(system_2_24, [w, z], [x,y], Mgrlex)\n",
    "jb.show(rich=True)"
   ]
  },
  {
   "cell_type": "code",
   "execution_count": null,
   "id": "67768922-8b25-4cbb-877a-c9cb446d8233",
   "metadata": {},
   "outputs": [],
   "source": []
  }
 ],
 "metadata": {
  "kernelspec": {
   "display_name": "SageMath 10.2",
   "language": "sage",
   "name": "sagemath"
  },
  "language_info": {
   "codemirror_mode": {
    "name": "ipython",
    "version": 3
   },
   "file_extension": ".py",
   "mimetype": "text/x-python",
   "name": "python",
   "nbconvert_exporter": "python",
   "pygments_lexer": "ipython3",
   "version": "3.11.7"
  },
  "widgets": {
   "application/vnd.jupyter.widget-state+json": {
    "state": {},
    "version_major": 2,
    "version_minor": 0
   }
  }
 },
 "nbformat": 4,
 "nbformat_minor": 5
}
