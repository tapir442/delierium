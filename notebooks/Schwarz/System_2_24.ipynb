{
 "cells": [
  {
   "cell_type": "code",
   "execution_count": 1,
   "id": "960b1103-aafd-406d-93ab-75d36bfdfd02",
   "metadata": {},
   "outputs": [],
   "source": [
    "import sage.all\n",
    "from delierium.MatrixOrder import Context, Mgrlex, Mgrevlex, Mlex\n",
    "from delierium.JanetBasis import Janet_Basis\n",
    "from delierium.helpers import latexer\n",
    "from IPython.display import Math\n",
    "\n",
    "vars = var (\"x y\")\n",
    "z = function(\"z\")(x,y)\n",
    "w = function(\"w\")(x,y)\n",
    "# ctx: items are in descending order\"\n",
    "ctx_grevlex_f = Context((w,z), (x,y), Mgrevlex)\n",
    "ctx_grlex_f   = Context((w,z), (x,y), Mgrlex)\n",
    "ctx_lex_f     = Context((w,z), (x,y), Mlex)\n",
    "\n",
    "f1 = diff(w, y) + x*diff(z,y)/(2*y*(x**2+y)) - w/y\n",
    "f2 = diff(z,x,y) + y*diff(w,y)/x + 2*y*diff(z, x)/x\n",
    "f3 = diff(w, x,y) - 2*x*diff(z, x,2)/y - x*diff(w,x)/y**2\n",
    "f4 = diff(w, x,y) + diff(z, x,y) + diff(w, y)/(2*y) - diff(w,x)/y + x* diff(z, y)/y - w/(2*y**2)\n",
    "f5 = diff(w,y,y) + diff(z,x,y) - diff(w, y)/y + w/(y**2)\n",
    "system_2_24 = [f4,f2,f1,f5,f3]\n",
    "#%load_ext snakeviz\n",
    "%load_ext line_profiler"
   ]
  },
  {
   "cell_type": "code",
   "execution_count": 2,
   "id": "5800ffcc-c6c6-4485-8f3d-2a90e8575627",
   "metadata": {},
   "outputs": [
    {
     "name": "stdout",
     "output_type": "stream",
     "text": [
      "****************************************************************************************\n",
      "This is where we start, loop=1\n"
     ]
    },
    {
     "data": {
      "text/latex": [
       "$\\displaystyle  w_{y}+\\frac{x}{2 \\, {\\left(x^{2} y + y^{2}\\right)}} z_{y}-\\frac{1}{y} w$"
      ],
      "text/plain": [
       "<IPython.core.display.Math object>"
      ]
     },
     "metadata": {},
     "output_type": "display_data"
    },
    {
     "data": {
      "text/latex": [
       "$\\displaystyle  z_{x,y}+\\frac{y}{x} w_{y}+\\frac{2 \\, y}{x} z_{x}$"
      ],
      "text/plain": [
       "<IPython.core.display.Math object>"
      ]
     },
     "metadata": {},
     "output_type": "display_data"
    },
    {
     "data": {
      "text/latex": [
       "$\\displaystyle  w_{x,y}-\\frac{2 \\, x}{y} z_{x,x}-\\frac{x}{y^{2}} w_{x}$"
      ],
      "text/plain": [
       "<IPython.core.display.Math object>"
      ]
     },
     "metadata": {},
     "output_type": "display_data"
    },
    {
     "data": {
      "text/latex": [
       "$\\displaystyle  w_{x,y}+ z_{x,y}+\\frac{1}{2 \\, y} w_{y}-\\frac{1}{y} w_{x}+\\frac{x}{y} z_{y}-\\frac{1}{2 \\, y^{2}} w$"
      ],
      "text/plain": [
       "<IPython.core.display.Math object>"
      ]
     },
     "metadata": {},
     "output_type": "display_data"
    },
    {
     "data": {
      "text/latex": [
       "$\\displaystyle  w_{y,y}+ z_{x,y}-\\frac{1}{y} w_{y}+\\frac{1}{y^{2}} w$"
      ],
      "text/plain": [
       "<IPython.core.display.Math object>"
      ]
     },
     "metadata": {},
     "output_type": "display_data"
    },
    {
     "name": "stdout",
     "output_type": "stream",
     "text": [
      "   ===> subtract, *y/x\n"
     ]
    },
    {
     "data": {
      "text/latex": [
       "$\\displaystyle  w_{x,y}-\\frac{2 \\, x}{y} z_{x,x}-\\frac{x}{y^{2}} w_{x}[], []$"
      ],
      "text/plain": [
       "<IPython.core.display.Math object>"
      ]
     },
     "metadata": {},
     "output_type": "display_data"
    },
    {
     "data": {
      "text/latex": [
       "$\\displaystyle  w_{y} + \\frac{x}{2 \\, {\\left(x^{2} y + y^{2}\\right)}} z_{y}-\\frac{1}{y} w[], []$"
      ],
      "text/plain": [
       "<IPython.core.display.Math object>"
      ]
     },
     "metadata": {},
     "output_type": "display_data"
    },
    {
     "data": {
      "text/latex": [
       "$\\displaystyle  w_{x,y} +  z_{x,y} + \\frac{1}{2 \\, y} w_{y}-\\frac{1}{y} w_{x} + \\frac{x}{y} z_{y}-\\frac{1}{2 \\, y^{2}} w[], []$"
      ],
      "text/plain": [
       "<IPython.core.display.Math object>"
      ]
     },
     "metadata": {},
     "output_type": "display_data"
    },
    {
     "data": {
      "text/latex": [
       "$\\displaystyle  w_{y} + \\frac{x}{2 \\, {\\left(x^{2} y + y^{2}\\right)}} z_{y}-\\frac{1}{y} w[], []$"
      ],
      "text/plain": [
       "<IPython.core.display.Math object>"
      ]
     },
     "metadata": {},
     "output_type": "display_data"
    },
    {
     "name": "stdout",
     "output_type": "stream",
     "text": [
      "   ===> subtract, *-1/(y*(x/((x^2 + y)*y) - 2))\n"
     ]
    },
    {
     "data": {
      "text/latex": [
       "$\\displaystyle  w_{y,y} +  z_{x,y}-\\frac{1}{y} w_{y} + \\frac{1}{y^{2}} w[], []$"
      ],
      "text/plain": [
       "<IPython.core.display.Math object>"
      ]
     },
     "metadata": {},
     "output_type": "display_data"
    },
    {
     "data": {
      "text/latex": [
       "$\\displaystyle  w_{y} + \\frac{x}{2 \\, {\\left(x^{2} y + y^{2}\\right)}} z_{y}-\\frac{1}{y} w[], []$"
      ],
      "text/plain": [
       "<IPython.core.display.Math object>"
      ]
     },
     "metadata": {},
     "output_type": "display_data"
    },
    {
     "name": "stdout",
     "output_type": "stream",
     "text": [
      "AAAAAAAAAAAAAAAAAAAAAAAAAAAAAAAAAAAAAAAAAAAAAAAAAAAAAAAAAAAAAAAAAAAAAAAAAAAAAAAAAAAAAAAAAAAAAAAAAAA 0\n",
      "after autoreduce\n",
      "9.333999872207642\n"
     ]
    }
   ],
   "source": [
    "jb = Janet_Basis(system_2_24, [w,z], [y,x])"
   ]
  },
  {
   "cell_type": "code",
   "execution_count": 3,
   "id": "1b88bb00-2cc9-4928-8413-b4bcfd7e4198",
   "metadata": {},
   "outputs": [
    {
     "data": {
      "text/plain": [
       "[]"
      ]
     },
     "execution_count": 3,
     "metadata": {},
     "output_type": "execute_result"
    }
   ],
   "source": [
    "jb.S"
   ]
  },
  {
   "cell_type": "code",
   "execution_count": null,
   "id": "774b0814-a768-4270-b748-0711a7f14301",
   "metadata": {},
   "outputs": [],
   "source": []
  }
 ],
 "metadata": {
  "kernelspec": {
   "display_name": "SageMath 10.2",
   "language": "sage",
   "name": "sagemath"
  },
  "language_info": {
   "codemirror_mode": {
    "name": "ipython",
    "version": 3
   },
   "file_extension": ".py",
   "mimetype": "text/x-python",
   "name": "python",
   "nbconvert_exporter": "python",
   "pygments_lexer": "ipython3",
   "version": "3.11.7"
  }
 },
 "nbformat": 4,
 "nbformat_minor": 5
}
