{
 "cells": [
  {
   "cell_type": "code",
   "execution_count": 1,
   "id": "960b1103-aafd-406d-93ab-75d36bfdfd02",
   "metadata": {},
   "outputs": [],
   "source": [
    "import sage.all\n",
    "from delierium.matrix_order import Context, Mgrlex, Mgrevlex, Mlex\n",
    "from delierium.JanetBasis import Janet_Basis, _Differential_Polynomial\n",
    "from delierium.helpers import latexer\n",
    "from IPython.display import Math\n",
    "\n",
    "vars = var (\"x y\")\n",
    "z = function(\"z\")(x,y)\n",
    "w = function(\"w\")(x,y)\n",
    "# ctx: items are in descending order\"\n",
    "ctx_grevlex_f = Context((w,z), (x,y), Mgrevlex)\n",
    "ctx_grlex_f   = Context((w,z), (x,y), Mgrlex)\n",
    "ctx_lex_f     = Context((w,z), (x,y), Mlex)\n",
    "\n",
    "f1 = diff(w, y) + x*diff(z,y)/(2*y*(x**2+y)) - w/y\n",
    "f2 = diff(z,x,y) + y*diff(w,y)/x + 2*y*diff(z, x)/x\n",
    "f3 = diff(w, x,y) - 2*x*diff(z, x,2)/y - x*diff(w,x)/y**2\n",
    "f4 = diff(w, x,y) + diff(z, x,y) + diff(w, y)/(2*y) - diff(w,x)/y + x* diff(z, y)/y - w/(2*y**2)\n",
    "f5 = diff(w,y,y) + diff(z,x,y) - diff(w, y)/y + w/(y**2)\n",
    "system_2_24 = [f4,f2,f1,f5,f3]\n",
    "%load_ext snakeviz\n",
    "%load_ext line_profiler\n",
    "import time\n"
   ]
  },
  {
   "cell_type": "code",
   "execution_count": 2,
   "id": "286b584a-81b3-4481-a9f7-63f129bb27e6",
   "metadata": {
    "tags": []
   },
   "outputs": [
    {
     "name": "stdout",
     "output_type": "stream",
     "text": [
      "[diff(z(x, y), y)]\n",
      "[diff(z(x, y), x), w(x, y)]\n",
      "[diff(w(x, y), y), w(x, y)]\n",
      "[diff(w(x, y), x)]\n",
      "0.29052209854125977\n",
      "======================================================================================================================================================\n",
      "[diff(w(x, y), y), w(x, y)]\n",
      "[diff(w(x, y), x)]\n",
      "[diff(z(x, y), y)]\n",
      "[diff(z(x, y), x), w(x, y)]\n",
      "2.775291681289673\n",
      "======================================================================================================================================================\n",
      "[diff(z(x, y), x), w(x, y)]\n",
      "[diff(z(x, y), y)]\n",
      "[diff(w(x, y), x)]\n",
      "[diff(w(x, y), y), w(x, y)]\n",
      "0.8172564506530762\n",
      "======================================================================================================================================================\n",
      "[diff(w(x, y), x)]\n",
      "[diff(w(x, y), y), w(x, y)]\n",
      "[diff(z(x, y), x), w(x, y)]\n",
      "[diff(z(x, y), y)]\n",
      "4.752893447875977\n",
      "======================================================================================================================================================\n"
     ]
    }
   ],
   "source": [
    "start=time.time()\n",
    "ordering = Mgrevlex\n",
    "jb=Janet_Basis(system_2_24, [w, z], [x,y], ordering)\n",
    "jb.show(rich=False, short=True)\n",
    "print(time.time() - start)\n",
    "print(\"=\"*150)\n",
    "start=time.time()\n",
    "jb=Janet_Basis(system_2_24, [z, w], [x,y], ordering)\n",
    "jb.show(rich=False, short=True)\n",
    "print(time.time() - start)\n",
    "print(\"=\"*150)\n",
    "start=time.time()\n",
    "jb=Janet_Basis(system_2_24, [w, z], [y, x], ordering)\n",
    "jb.show(rich=False, short=True)\n",
    "print(time.time() - start)\n",
    "print(\"=\"*150)\n",
    "jb=Janet_Basis(system_2_24, [z, w], [y, x], ordering)\n",
    "jb.show(rich=False, short=True)\n",
    "print(time.time() - start)\n",
    "print(\"=\"*150)\n"
   ]
  },
  {
   "cell_type": "code",
   "execution_count": 3,
   "id": "da3c9a5c-2a47-4497-a17b-3af9e508476e",
   "metadata": {},
   "outputs": [
    {
     "name": "stdout",
     "output_type": "stream",
     "text": [
      "[diff(z(x, y), y)]\n",
      "[diff(z(x, y), x), w(x, y)]\n",
      "[diff(w(x, y), y), w(x, y)]\n",
      "[diff(w(x, y), x)]\n",
      "0.2662174701690674\n",
      "======================================================================================================================================================\n",
      "[diff(w(x, y), y), w(x, y)]\n",
      "[diff(w(x, y), x)]\n",
      "[diff(z(x, y), y)]\n",
      "[diff(z(x, y), x), w(x, y)]\n",
      "2.673119306564331\n",
      "======================================================================================================================================================\n",
      "[diff(z(x, y), x), w(x, y)]\n",
      "[diff(z(x, y), y)]\n",
      "[diff(w(x, y), x)]\n",
      "[diff(w(x, y), y), w(x, y)]\n",
      "0.8824410438537598\n",
      "======================================================================================================================================================\n",
      "[diff(w(x, y), x)]\n",
      "[diff(w(x, y), y), w(x, y)]\n",
      "[diff(z(x, y), x), w(x, y)]\n",
      "[diff(z(x, y), y)]\n",
      "4.355566740036011\n",
      "======================================================================================================================================================\n"
     ]
    }
   ],
   "source": [
    "start=time.time()\n",
    "ordering = Mgrlex\n",
    "jb=Janet_Basis(system_2_24, [w, z], [x,y], ordering)\n",
    "jb.show(rich=False, short=True)\n",
    "print(time.time() - start)\n",
    "print(\"=\"*150)\n",
    "start=time.time()\n",
    "jb=Janet_Basis(system_2_24, [z, w], [x,y], ordering)\n",
    "jb.show(rich=False, short=True)\n",
    "print(time.time() - start)\n",
    "print(\"=\"*150)\n",
    "start=time.time()\n",
    "jb=Janet_Basis(system_2_24, [w, z], [y, x], ordering)\n",
    "jb.show(rich=False, short=True)\n",
    "print(time.time() - start)\n",
    "print(\"=\"*150)\n",
    "start=time.time()\n",
    "jb=Janet_Basis(system_2_24, [z, w], [y, x], ordering)\n",
    "jb.show(rich=False, short=True)\n",
    "print(time.time() - start)\n",
    "print(\"=\"*150)"
   ]
  },
  {
   "cell_type": "code",
   "execution_count": 4,
   "id": "506c6cde-9941-445f-8d1a-e4d1cf286f6c",
   "metadata": {},
   "outputs": [
    {
     "name": "stdout",
     "output_type": "stream",
     "text": [
      "[diff(z(x, y), y)]\n",
      "[diff(z(x, y), x, y)]\n",
      "[diff(z(x, y), x, x)]\n",
      "[w(x, y), diff(z(x, y), x)]\n",
      "0.31777191162109375\n",
      "======================================================================================================================================================\n",
      "[diff(w(x, y), y), w(x, y)]\n",
      "[diff(w(x, y), x)]\n",
      "[diff(z(x, y), y)]\n",
      "[diff(z(x, y), x), w(x, y)]\n",
      "2.552517890930176\n",
      "======================================================================================================================================================\n",
      "[diff(z(x, y), x, x)]\n",
      "[diff(z(x, y), y)]\n",
      "[diff(z(x, y), y, y)]\n",
      "[w(x, y), diff(z(x, y), x)]\n",
      "19.6760516166687\n",
      "======================================================================================================================================================\n",
      "[diff(w(x, y), x)]\n",
      "[diff(w(x, y), y), w(x, y)]\n",
      "[diff(z(x, y), x), w(x, y)]\n",
      "[diff(z(x, y), y)]\n",
      "4.005506753921509\n",
      "======================================================================================================================================================\n"
     ]
    }
   ],
   "source": [
    "start=time.time()\n",
    "ordering = Mlex\n",
    "jb=Janet_Basis(system_2_24, [w, z], [x,y], ordering)\n",
    "jb.show(rich=False, short=True)\n",
    "print(time.time() - start)\n",
    "print(\"=\"*150)\n",
    "start=time.time()\n",
    "jb=Janet_Basis(system_2_24, [z, w], [x,y], ordering)\n",
    "jb.show(rich=False, short=True)\n",
    "print(time.time() - start)\n",
    "print(\"=\"*150)\n",
    "start=time.time()\n",
    "jb=Janet_Basis(system_2_24, [w, z], [y, x], ordering)\n",
    "jb.show(rich=False, short=True)\n",
    "print(time.time() - start)\n",
    "print(\"=\"*150)\n",
    "start=time.time()\n",
    "jb=Janet_Basis(system_2_24, [z, w], [y, x], ordering)\n",
    "jb.show(rich=False, short=True)\n",
    "print(time.time() - start)\n",
    "print(\"=\"*150)"
   ]
  },
  {
   "cell_type": "code",
   "execution_count": null,
   "id": "cf8703ee-dc36-40d8-941d-a50787229aa6",
   "metadata": {},
   "outputs": [],
   "source": []
  }
 ],
 "metadata": {
  "kernelspec": {
   "display_name": "SageMath 10.2",
   "language": "sage",
   "name": "sagemath"
  },
  "language_info": {
   "codemirror_mode": {
    "name": "ipython",
    "version": 3
   },
   "file_extension": ".py",
   "mimetype": "text/x-python",
   "name": "python",
   "nbconvert_exporter": "python",
   "pygments_lexer": "ipython3",
   "version": "3.11.10"
  }
 },
 "nbformat": 4,
 "nbformat_minor": 5
}
