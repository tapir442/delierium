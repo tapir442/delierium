{
 "cells": [
  {
   "cell_type": "code",
   "execution_count": 1,
   "id": "960b1103-aafd-406d-93ab-75d36bfdfd02",
   "metadata": {},
   "outputs": [],
   "source": [
    "import sage.all\n",
    "from delierium.matrix_order import Context, Mgrlex, Mgrevlex, Mlex\n",
    "from delierium.JanetBasis import Janet_Basis, _Differential_Polynomial\n",
    "from delierium.helpers import latexer\n",
    "from IPython.display import Math\n",
    "\n",
    "vars = var (\"x y\")\n",
    "z = function(\"z\")(x,y)\n",
    "w = function(\"w\")(x,y)\n",
    "# ctx: items are in descending order\"\n",
    "ctx_grevlex_f = Context((w,z), (x,y), Mgrevlex)\n",
    "ctx_grlex_f   = Context((w,z), (x,y), Mgrlex)\n",
    "ctx_lex_f     = Context((w,z), (x,y), Mlex)\n",
    "\n",
    "f1 = diff(w, y) + x*diff(z,y)/(2*y*(x**2+y)) - w/y\n",
    "f2 = diff(z,x,y) + y*diff(w,y)/x + 2*y*diff(z, x)/x\n",
    "f3 = diff(w, x,y) - 2*x*diff(z, x,2)/y - x*diff(w,x)/y**2\n",
    "f4 = diff(w, x,y) + diff(z, x,y) + diff(w, y)/(2*y) - diff(w,x)/y + x* diff(z, y)/y - w/(2*y**2)\n",
    "f5 = diff(w,y,y) + diff(z,x,y) - diff(w, y)/y + w/(y**2)\n",
    "system_2_24 = [f4,f2,f1,f5,f3]\n",
    "%load_ext snakeviz\n",
    "%load_ext line_profiler\n",
    "import time\n"
   ]
  },
  {
   "cell_type": "code",
   "execution_count": null,
   "id": "13577262-8fa5-43e2-a9d1-5cfe10e57b69",
   "metadata": {
    "tags": []
   },
   "outputs": [
    {
     "name": "stdout",
     "output_type": "stream",
     "text": [
      "This is where we start\n",
      "[diff(z(x, y), y), diff(w(x, y), y), w(x, y)]\n",
      "[diff(z(x, y), x, y), diff(w(x, y), y, y), diff(w(x, y), y), w(x, y)]\n",
      "[diff(z(x, y), x, y), diff(z(x, y), y), diff(w(x, y), x, y), diff(w(x, y), x), diff(w(x, y), y), w(x, y)]\n",
      "[diff(z(x, y), x, y), diff(z(x, y), x), diff(w(x, y), y)]\n",
      "[diff(z(x, y), x, x), diff(w(x, y), x, y), diff(w(x, y), x)]\n",
      "after autoreduce\n",
      "[diff(w(x, y), y), w(x, y)]\n",
      "[diff(w(x, y), x)]\n",
      "[diff(z(x, y), y)]\n",
      "[diff(z(x, y), x), w(x, y)]\n"
     ]
    }
   ],
   "source": [
    "start=time.time()\n",
    "%snakeviz jb=Janet_Basis(system_2_24, [z,w], [x,y], Mlex)\n",
    "print(time.time() - start)\n",
    "for _ in jb.S:\n",
    "    print(_)\n",
    "#print(\"======================================\")\n",
    "#start=time.time()\n",
    "#jb=Janet_Basis(system_2_24, [z,w], [x,y], Mgrlex)\n",
    "#print(time.time() - start)\n",
    "#for _ in jb.S:\n",
    "#    print(_)\n",
    "#print(\"======================================\")\n",
    "#start=time.time()\n",
    "#jb=Janet_Basis(system_2_24, [z,w], [x,y], Mgrevlex)\n",
    "#print(time.time() - start)\n",
    "#for _ in jb.S:\n",
    "#    print(_)    \n",
    "#print(\"======================================\")\n"
   ]
  },
  {
   "cell_type": "code",
   "execution_count": null,
   "id": "f1af2389",
   "metadata": {
    "tags": []
   },
   "outputs": [],
   "source": [
    "start=time.time()\n",
    "jb=Janet_Basis(system_2_24, [z,w], [y,x], Mlex)\n",
    "print(time.time() - start)\n",
    "for _ in jb.S:\n",
    "    print(_)\n",
    "print(\"======================================\")\n",
    "start=time.time()\n",
    "jb=Janet_Basis(system_2_24, [z,w], [y,x], Mgrlex)\n",
    "print(time.time() - start)\n",
    "for _ in jb.S:\n",
    "    print(_)\n",
    "print(\"======================================\")\n",
    "start=time.time()\n",
    "jb=Janet_Basis(system_2_24, [z,w], [y,x], Mgrevlex)\n",
    "print(time.time() - start)\n",
    "for _ in jb.S:\n",
    "    print(_)    \n",
    "print(\"======================================\")\n"
   ]
  },
  {
   "cell_type": "code",
   "execution_count": null,
   "id": "ba7f9fc7",
   "metadata": {
    "tags": []
   },
   "outputs": [],
   "source": [
    "start=time.time()\n",
    "jb=Janet_Basis(system_2_24, [w,z], [y,x], Mlex)\n",
    "print(time.time() - start)\n",
    "for _ in jb.S:\n",
    "    print(_)\n",
    "print(\"======================================\")\n",
    "start=time.time()\n",
    "jb=Janet_Basis(system_2_24, [w,z], [y,x], Mgrlex)\n",
    "print(time.time() - start)\n",
    "for _ in jb.S:\n",
    "    print(_)\n",
    "print(\"======================================\")\n",
    "start=time.time()\n",
    "jb=Janet_Basis(system_2_24, [w,z], [y,x], Mgrevlex)\n",
    "print(time.time() - start)\n",
    "for _ in jb.S:\n",
    "    print(_)    \n",
    "print(\"======================================\")\n"
   ]
  },
  {
   "cell_type": "code",
   "execution_count": null,
   "id": "e6b5db17",
   "metadata": {
    "tags": []
   },
   "outputs": [],
   "source": [
    "start=time.time()\n",
    "jb=Janet_Basis(system_2_24, [w,z], [x,y], Mlex)\n",
    "print(time.time() - start)\n",
    "for _ in jb.S:\n",
    "    print(_)\n",
    "print(\"looks strange as len(S) == 3 instead of 4\")    \n",
    "print(\"======================================\")\n",
    "start=time.time()\n",
    "jb=Janet_Basis(system_2_24, [w,z], [x,y], Mgrlex)\n",
    "print(time.time() - start)\n",
    "for _ in jb.S:\n",
    "    print(_)\n",
    "print(\"======================================\")\n",
    "start=time.time()\n",
    "jb=Janet_Basis(system_2_24, [w,z], [x,y], Mgrevlex)\n",
    "print(time.time() - start)\n",
    "for _ in jb.S:\n",
    "    print(_)    "
   ]
  }
 ],
 "metadata": {
  "kernelspec": {
   "display_name": "SageMath 10.2",
   "language": "sage",
   "name": "sagemath"
  },
  "language_info": {
   "codemirror_mode": {
    "name": "ipython",
    "version": 3
   },
   "file_extension": ".py",
   "mimetype": "text/x-python",
   "name": "python",
   "nbconvert_exporter": "python",
   "pygments_lexer": "ipython3",
   "version": "3.11.7"
  }
 },
 "nbformat": 4,
 "nbformat_minor": 5
}
