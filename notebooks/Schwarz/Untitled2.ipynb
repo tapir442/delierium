{
 "cells": [
  {
   "cell_type": "code",
   "execution_count": 32,
   "id": "53c92b02-9bff-4361-86fd-c7dd3b416254",
   "metadata": {
    "tags": []
   },
   "outputs": [],
   "source": [
    "u = 10\n",
    "def normal(k):\n",
    "    for i in range(k, 0, -1):\n",
    "        _"
   ]
  },
  {
   "cell_type": "code",
   "execution_count": 33,
   "id": "81fc188a-5cec-4a30-98a8-ee8edae47cad",
   "metadata": {
    "tags": []
   },
   "outputs": [
    {
     "name": "stdout",
     "output_type": "stream",
     "text": [
      "807 ns ± 5.23 ns per loop (mean ± std. dev. of 7 runs, 1000000 loops each)\n"
     ]
    }
   ],
   "source": [
    "%timeit normal(u)"
   ]
  },
  {
   "cell_type": "code",
   "execution_count": 34,
   "id": "a8dbd284-5614-471a-a0fd-2aa270fcdb58",
   "metadata": {
    "tags": []
   },
   "outputs": [],
   "source": [
    "def revers(k):\n",
    "    for i in reversed(range(0, k)):\n",
    "        _"
   ]
  },
  {
   "cell_type": "code",
   "execution_count": 35,
   "id": "b16a42b2-4e1d-4e33-8355-5f0a05785167",
   "metadata": {
    "tags": []
   },
   "outputs": [
    {
     "name": "stdout",
     "output_type": "stream",
     "text": [
      "831 ns ± 12 ns per loop (mean ± std. dev. of 7 runs, 1000000 loops each)\n"
     ]
    }
   ],
   "source": [
    "%timeit revers(u)"
   ]
  },
  {
   "cell_type": "code",
   "execution_count": 36,
   "id": "68b2c84e-0e6f-4aa1-95b3-f7eff328b41f",
   "metadata": {
    "tags": []
   },
   "outputs": [],
   "source": [
    "def srt(k):\n",
    "    for i in sorted(range(0, k), reverse=True):\n",
    "        _"
   ]
  },
  {
   "cell_type": "code",
   "execution_count": 37,
   "id": "41beb305-be75-40f0-884b-b76803715525",
   "metadata": {
    "tags": []
   },
   "outputs": [
    {
     "name": "stdout",
     "output_type": "stream",
     "text": [
      "1.2 µs ± 44.2 ns per loop (mean ± std. dev. of 7 runs, 1000000 loops each)\n"
     ]
    }
   ],
   "source": [
    "%timeit srt(u)"
   ]
  },
  {
   "cell_type": "code",
   "execution_count": 41,
   "id": "fbb88e4d-b168-4b02-b58e-f83f8bc9efcc",
   "metadata": {
    "tags": []
   },
   "outputs": [],
   "source": [
    "def vec_degree(v, m):\n",
    "    return m[v]\n",
    "\n",
    "class Multipliers:\n",
    "    \"\"\"multipliers and nonmultipliers for differential vectors aka tuples\n",
    "\n",
    "    m   : a tuple representing a differential vector\n",
    "    M   : the complete set of differential vectors\n",
    "    Vars: a tuple representing the order of indizes in m\n",
    "          Examples:\n",
    "              (0,1,2) means first index in m represents the highest variable\n",
    "              (2,1,0) means last index in m represents the highest variable\n",
    "    \"\"\"\n",
    "    def __init__(self, m, M, Vars):\n",
    "        \"\"\"\n",
    "        The doctest example is from Schwarz, Example C.1, p. 384\n",
    "        This example is in on variables x1,x2,x3, with x3 the highest rated variable.\n",
    "        So we have to specify (2,1,0) to represent this\n",
    "\n",
    "        >>> M = [(2,2,3), (3,0,3), (3,1,1), (0,1,1)]\n",
    "        >>> r = Multipliers (M[0],M, (2,1,0))\n",
    "        >>> print(M[0], r.multipliers, r.nonmultipliers)\n",
    "        (2, 2, 3) [2, 1, 0] []\n",
    "        >>> r = Multipliers (M[1],M, (2,1,0))\n",
    "        >>> print (M[1], r.multipliers, r.nonmultipliers)\n",
    "        (3, 0, 3) [2, 0] [1]\n",
    "        >>> r = Multipliers (M[2],M, (2,1,0))\n",
    "        >>> print (M[2], r.multipliers, r.nonmultipliers)\n",
    "        (3, 1, 1) [1, 0] [2]\n",
    "        >>> r = Multipliers (M[3],M, (2,1,0))\n",
    "        >>> print (M[3], r.multipliers, r.nonmultipliers)\n",
    "        (0, 1, 1) [1] [0, 2]\n",
    "        >>> N=[[0,2], [2,0], [1,1]]\n",
    "        >>> r =Multipliers(N[0], N,  (0,1))\n",
    "        >>> print(r.multipliers, r.nonmultipliers)\n",
    "        [1] [0]\n",
    "        >>> r =Multipliers(N[1], N,  (0,1))\n",
    "        >>> print(r.multipliers, r.nonmultipliers)\n",
    "        [0, 1] []\n",
    "        >>> r =Multipliers(N[2], N,  (0,1))\n",
    "        >>> print(r.multipliers, r.nonmultipliers)\n",
    "        [1] [0]\n",
    "        >>> r =Multipliers(N[0], N,  (1,0))\n",
    "        >>> print(r.multipliers, r.nonmultipliers)\n",
    "        [1, 0] []\n",
    "        >>> r =Multipliers(N[1], N,  (1,0))\n",
    "        >>> print(r.multipliers, r.nonmultipliers)\n",
    "        [0] [1]\n",
    "        >>> r =Multipliers(N[2], N,  (1,0))\n",
    "        >>> print(r.multipliers, r.nonmultipliers)\n",
    "        [0] [1]\n",
    "        >>> # next example form Gertd/Blinkov: Janet-like monomial divisiom, Table1\n",
    "        >>> # x1 -> Index 2\n",
    "        >>> # x2 -> Index 1 (this is easy)\n",
    "        >>> # x3 -> Index 0\n",
    "        >>> U = [[0,0,5], [1,2,2],[2,0,2], [1,4,0],[2,1,0],[5,0,0]]\n",
    "        >>> r = Multipliers(U[0], U, (2,1,0))\n",
    "        >>> print(r.multipliers, r.nonmultipliers)\n",
    "        [2, 1, 0] []\n",
    "        >>> r = Multipliers(U[1], U, (2,1,0))\n",
    "        >>> print(r.multipliers, r.nonmultipliers)\n",
    "        [1, 0] [2]\n",
    "        >>> r = Multipliers(U[2], U, (2,1,0))\n",
    "        >>> print(r.multipliers, r.nonmultipliers)\n",
    "        [0] [1, 2]\n",
    "        >>> r = Multipliers(U[3], U, (2,1,0))\n",
    "        >>> print(r.multipliers, r.nonmultipliers)\n",
    "        [1, 0] [2]\n",
    "        >>> r = Multipliers(U[4], U, (2,1,0))\n",
    "        >>> print(r.multipliers, r.nonmultipliers)\n",
    "        [0] [1, 2]\n",
    "        >>> r = Multipliers(U[5], U, (2,1,0))\n",
    "        >>> print(r.multipliers, r.nonmultipliers)\n",
    "        [0] [1, 2]\n",
    "        >>> M = [(1,0), (0,3)]\n",
    "        >>> r = Multipliers(M[0], M, (0,1))\n",
    "        >>> print(r.multipliers, r.nonmultipliers)\n",
    "        [1] [0]\n",
    "        >>> print(r.multipliers, r.nonmultipliers)\n",
    "        [1] [0]\n",
    "        \n",
    "        \"\"\"\n",
    "        d = max((vec_degree(v, u) for u in M for v in Vars), default=0)\n",
    "        mult = []\n",
    "        if vec_degree(Vars[0], m) == d:\n",
    "            mult.append(Vars[0])\n",
    "        for j in range(1, len(Vars)):\n",
    "            v = Vars[j]\n",
    "            dd = list(map(lambda x: vec_degree(x, m), Vars[:j]))\n",
    "            V = []\n",
    "            for _u in M:\n",
    "                if [vec_degree(_v, _u) for _v in Vars[:j]] == dd:\n",
    "                    V.append(_u)\n",
    "            if vec_degree(v, m) == max((vec_degree(v, _u) for _u in V), default=0):\n",
    "                mult.append(v)\n",
    "        self.multipliers    = mult\n",
    "        self.nonmultipliers = list(sorted(set(Vars) - set(mult)))\n"
   ]
  },
  {
   "cell_type": "code",
   "execution_count": 42,
   "id": "a851c989-e992-48f4-a391-0f38a2a6a9a9",
   "metadata": {
    "tags": []
   },
   "outputs": [],
   "source": [
    "M=[[0,1],[2,0]]"
   ]
  },
  {
   "cell_type": "code",
   "execution_count": 45,
   "id": "826abeb5-43de-4cf3-8543-9aa3dc9df3f1",
   "metadata": {
    "tags": []
   },
   "outputs": [
    {
     "name": "stdout",
     "output_type": "stream",
     "text": [
      "{'multipliers': [1], 'nonmultipliers': [0]}\n"
     ]
    }
   ],
   "source": [
    "m0=Multipliers(M[0], M, (0,1)); print(m0.__dict__)"
   ]
  },
  {
   "cell_type": "code",
   "execution_count": 47,
   "id": "5655c526-94ff-4201-9715-d5ac43b28d2d",
   "metadata": {
    "tags": []
   },
   "outputs": [
    {
     "name": "stdout",
     "output_type": "stream",
     "text": [
      "{'multipliers': [0, 1], 'nonmultipliers': []}\n"
     ]
    }
   ],
   "source": [
    "m1=Multipliers(M[1], M, (0,1)); print(m1.__dict__)"
   ]
  },
  {
   "cell_type": "code",
   "execution_count": 48,
   "id": "dce61d4a-cef8-49ab-a5b4-b9c06b7af13a",
   "metadata": {
    "tags": []
   },
   "outputs": [
    {
     "name": "stdout",
     "output_type": "stream",
     "text": [
      "{'multipliers': [0], 'nonmultipliers': [1]}\n"
     ]
    }
   ],
   "source": [
    "m0=Multipliers(M[0], M, (1,0)); print(m0.__dict__)"
   ]
  },
  {
   "cell_type": "code",
   "execution_count": 49,
   "id": "280d68d1-d138-47da-a25d-130aeb0551ec",
   "metadata": {
    "tags": []
   },
   "outputs": [
    {
     "name": "stdout",
     "output_type": "stream",
     "text": [
      "{'multipliers': [0], 'nonmultipliers': [1]}\n"
     ]
    }
   ],
   "source": [
    "m1=Multipliers(M[1], M, (1,0)); print(m1.__dict__)"
   ]
  },
  {
   "cell_type": "code",
   "execution_count": null,
   "id": "a640b499-3984-441e-ad28-ddc950ab6791",
   "metadata": {},
   "outputs": [],
   "source": []
  }
 ],
 "metadata": {
  "kernelspec": {
   "display_name": "SageMath 9.5",
   "language": "sage",
   "name": "sagemath"
  },
  "language_info": {
   "codemirror_mode": {
    "name": "ipython",
    "version": 3
   },
   "file_extension": ".py",
   "mimetype": "text/x-python",
   "name": "python",
   "nbconvert_exporter": "python",
   "pygments_lexer": "ipython3",
   "version": "3.10.7"
  }
 },
 "nbformat": 4,
 "nbformat_minor": 5
}
