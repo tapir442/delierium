{
 "cells": [
  {
   "cell_type": "code",
   "execution_count": 1,
   "id": "472627e4-5a67-48a8-a290-1697e765fbc8",
   "metadata": {},
   "outputs": [],
   "source": [
    "from sage.libs.giac.giac import libgiac"
   ]
  },
  {
   "cell_type": "code",
   "execution_count": 15,
   "id": "8cf7ad91-cad9-40ff-93d5-cb089776dc2b",
   "metadata": {},
   "outputs": [
    {
     "ename": "AttributeError",
     "evalue": "'GiacInstance' object has no attribute 'giac'",
     "output_type": "error",
     "traceback": [
      "\u001b[0;31m---------------------------------------------------------------------------\u001b[0m",
      "\u001b[0;31mAttributeError\u001b[0m                            Traceback (most recent call last)",
      "Cell \u001b[0;32mIn[15], line 1\u001b[0m\n\u001b[0;32m----> 1\u001b[0m giac(\u001b[43mlibgiac\u001b[49m\u001b[38;5;241;43m.\u001b[39;49m\u001b[43mgiac\u001b[49m(x) \u001b[38;5;241m+\u001b[39m libgiac\u001b[38;5;241m.\u001b[39mgiac(x\u001b[38;5;241m*\u001b[39m\u001b[38;5;241m*\u001b[39mInteger(\u001b[38;5;241m2\u001b[39m)) \u001b[38;5;241m+\u001b[39m Integer(\u001b[38;5;241m2\u001b[39m))\n",
      "\u001b[0;31mAttributeError\u001b[0m: 'GiacInstance' object has no attribute 'giac'"
     ]
    }
   ],
   "source": []
  },
  {
   "cell_type": "code",
   "execution_count": 16,
   "id": "bcacb394-2bf9-43c1-bca1-dea49bf93ec2",
   "metadata": {},
   "outputs": [],
   "source": [
    "x, Y = var('x Y')"
   ]
  },
  {
   "cell_type": "code",
   "execution_count": 22,
   "id": "ef7c0a95-a31a-4331-851b-ff5391fbdbcc",
   "metadata": {},
   "outputs": [
    {
     "data": {
      "text/plain": [
       "False"
      ]
     },
     "execution_count": 22,
     "metadata": {},
     "output_type": "execute_result"
    }
   ],
   "source": [
    "bool(8/3*(4*Y - 12*Y^2/(2*Y + 2*x - 1) - 10*Y*x/(2*Y + 2*x - 1) - x + 2*x^2/(2*Y + 2*x - 1) + 6*Y/(2*Y + 2*x - 1) - x/(2*Y + 2*x - 1))/(2*Y + 2*x - 1) == 0)"
   ]
  },
  {
   "cell_type": "code",
   "execution_count": null,
   "id": "0961ce7d-0b8c-4f4b-9337-a840621ed557",
   "metadata": {},
   "outputs": [],
   "source": []
  }
 ],
 "metadata": {
  "kernelspec": {
   "display_name": "SageMath 10.2",
   "language": "sage",
   "name": "sagemath"
  },
  "language_info": {
   "codemirror_mode": {
    "name": "ipython",
    "version": 3
   },
   "file_extension": ".py",
   "mimetype": "text/x-python",
   "name": "python",
   "nbconvert_exporter": "python",
   "pygments_lexer": "ipython3",
   "version": "3.11.7"
  }
 },
 "nbformat": 4,
 "nbformat_minor": 5
}
