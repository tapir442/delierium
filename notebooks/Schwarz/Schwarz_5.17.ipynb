{
 "cells": [
  {
   "cell_type": "code",
   "execution_count": 1,
   "id": "e61618ea-5afd-450e-b9a3-9f985afd6ea2",
   "metadata": {
    "tags": []
   },
   "outputs": [],
   "source": [
    "from delierium.Infinitesimals import prolongationODE, overdeterminedSystemODE,Janet_Basis_from_ODE\n",
    "from delierium.JanetBasis import Janet_Basis\n",
    "from delierium.MatrixOrder import Context\n",
    "from delierium.helpers import latexer\n",
    "from sage.misc.html import html\n",
    "from IPython.core.debugger import set_trace\n",
    "from IPython.display import Math\n",
    "%load_ext line_profiler\n",
    "%load_ext snakeviz"
   ]
  },
  {
   "cell_type": "code",
   "execution_count": 3,
   "id": "bcbb153a-2080-4194-8277-839cbe52317c",
   "metadata": {
    "tags": []
   },
   "outputs": [
    {
     "data": {
      "text/latex": [
       "$\\displaystyle -9 x^5 y_{x}^4 - 16 x y^5 y_{x}^2 + 8 x y^6 y_{x, x} + 16 y^6 y_{x}$"
      ],
      "text/plain": [
       "<IPython.core.display.Math object>"
      ]
     },
     "metadata": {},
     "output_type": "display_data"
    },
    {
     "data": {
      "text/latex": [
       "$\\displaystyle  \\xi_{y}$"
      ],
      "text/plain": [
       "<IPython.core.display.Math object>"
      ]
     },
     "metadata": {},
     "output_type": "display_data"
    },
    {
     "data": {
      "text/latex": [
       "$\\displaystyle  \\phi_{x}$"
      ],
      "text/plain": [
       "<IPython.core.display.Math object>"
      ]
     },
     "metadata": {},
     "output_type": "display_data"
    },
    {
     "data": {
      "text/latex": [
       "$\\displaystyle 4/3 \\xi/x - 2 \\phi/y +  \\phi_{y} - 2/3  \\xi_{x}$"
      ],
      "text/plain": [
       "<IPython.core.display.Math object>"
      ]
     },
     "metadata": {},
     "output_type": "display_data"
    },
    {
     "data": {
      "text/latex": [
       "$\\displaystyle -2  \\xi_{x}/x + 2 \\xi/x^2 +  \\xi_{xx}$"
      ],
      "text/plain": [
       "<IPython.core.display.Math object>"
      ]
     },
     "metadata": {},
     "output_type": "display_data"
    }
   ],
   "source": [
    "# Schwarz, Example_5.17, p.218\n",
    "x   = var('x')\n",
    "y   = function('y')\n",
    "d0 = y(x)\n",
    "d1 = diff(y(x), x)\n",
    "d2 = diff(d1, x)\n",
    "ode = 8*x*d2*d0**6 \\\n",
    "    - 9*x**5*d1**4 \\\n",
    "    - 16*x*d1**2*d0**5 \\\n",
    "    + 16 *d1*d0**6\n",
    "display(Math(latexer(ode)))\n",
    "inf=Janet_Basis_from_ODE(ode, y, x)\n",
    "for _ in inf:\n",
    "    display(Math(latexer(_)))"
   ]
  },
  {
   "cell_type": "markdown",
   "id": "60506718-37bb-4c15-8ba4-cc88251939a0",
   "metadata": {},
   "source": [
    "correct"
   ]
  }
 ],
 "metadata": {
  "kernelspec": {
   "display_name": "SageMath 9.8",
   "language": "sage",
   "name": "sagemath"
  },
  "language_info": {
   "codemirror_mode": {
    "name": "ipython",
    "version": 3
   },
   "file_extension": ".py",
   "mimetype": "text/x-python",
   "name": "python",
   "nbconvert_exporter": "python",
   "pygments_lexer": "ipython3",
   "version": "3.10.10"
  },
  "widgets": {
   "application/vnd.jupyter.widget-state+json": {
    "state": {},
    "version_major": 2,
    "version_minor": 0
   }
  }
 },
 "nbformat": 4,
 "nbformat_minor": 5
}
