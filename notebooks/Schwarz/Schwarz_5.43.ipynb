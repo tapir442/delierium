{
 "cells": [
  {
   "cell_type": "markdown",
   "id": "2276be9e-4d39-4993-bb9b-1764dc4a67a1",
   "metadata": {},
   "source": [
    "# Memory Error!!"
   ]
  },
  {
   "cell_type": "code",
   "execution_count": null,
   "id": "d33ff334-abcb-4ff8-a632-9b0503c7745f",
   "metadata": {},
   "outputs": [],
   "source": [
    "from delierium.Infinitesimals import prolongationODE, infinitesimalsODE, Janet_Basis_from_ODE\n",
    "from IPython.display import Math\n",
    "from delierium.helpers import latexer\n",
    "x = var('x')\n",
    "y = function('y')\n",
    "d0 = y(x)\n",
    "d1 = diff(d0, x)\n",
    "d2 = diff(d1, x)\n",
    "d3 = diff(d2, x)\n",
    "\n",
    "ode = d3*d0**2 \\\n",
    "- 6*d2*d1*d0 \\\n",
    "+ 3*d2*d0**2/x \\\n",
    "+ 6*d1**3 \\\n",
    "- 6*d1**2 * d0 /x \\\n",
    "- (8*x*d1*d0**2)/(2*x-1)\n",
    "display(Math(latexer(ode)))\n",
    "jb = Janet_Basis_from_ODE(ode, y, x)\n",
    "print(\"*\"*88)\n",
    "for _ in jb:\n",
    "    display(Math(latexer(_)))"
   ]
  },
  {
   "cell_type": "code",
   "execution_count": null,
   "id": "7fe4954c-ad01-41bb-94f5-8d53aeb2921a",
   "metadata": {},
   "outputs": [],
   "source": []
  },
  {
   "cell_type": "code",
   "execution_count": null,
   "id": "7501763f-2ef8-4d7b-8aa5-657aea6711ff",
   "metadata": {},
   "outputs": [],
   "source": []
  }
 ],
 "metadata": {
  "kernelspec": {
   "display_name": "SageMath 9.7",
   "language": "sage",
   "name": "sagemath"
  },
  "language_info": {
   "codemirror_mode": {
    "name": "ipython",
    "version": 3
   },
   "file_extension": ".py",
   "mimetype": "text/x-python",
   "name": "python",
   "nbconvert_exporter": "python",
   "pygments_lexer": "ipython3",
   "version": "3.10.8"
  },
  "widgets": {
   "application/vnd.jupyter.widget-state+json": {
    "state": {},
    "version_major": 2,
    "version_minor": 0
   }
  }
 },
 "nbformat": 4,
 "nbformat_minor": 5
}
