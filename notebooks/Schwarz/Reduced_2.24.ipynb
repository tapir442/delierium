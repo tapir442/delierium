{
 "cells": [
  {
   "cell_type": "code",
   "execution_count": 1,
   "id": "427e873f-846a-4b7b-aa10-701b9f306a79",
   "metadata": {},
   "outputs": [],
   "source": [
    "from sage.all import *\n",
    "\n",
    "from delierium.MatrixOrder import Context, Mgrlex, Mgrevlex, Mlex\n",
    "from delierium.JanetBasis import Janet_Basis\n",
    "from delierium.helpers import latexer\n",
    "from IPython.display import Math\n",
    "\n",
    "vars = var (\"x y\")\n",
    "z = function(\"z\")(x,y)\n",
    "w = function(\"w\")(x,y)\n",
    "# ctx: items are in descending order\n",
    "ctx_grevlex_f = Context((w,z), (x,y), Mgrevlex)\n",
    "ctx_grlex_f   = Context((w,z), (x,y), Mgrlex)\n",
    "ctx_lex_f     = Context((w,z), (x,y), Mlex)\n",
    "\n",
    "a1=function(\"a1\")(x,y)\n",
    "a2=function(\"a2\")(x,y)\n",
    "a3=function(\"a3\")(x,y)\n",
    "a4=function(\"a4\")(x,y)\n",
    "a5=function(\"a5\")(x,y)\n",
    "a6=function(\"a6\")(x,y)\n",
    "a7=function(\"a7\")(x,y)\n",
    "a8=function(\"a8\")(x,y)\n",
    "a9=function(\"a9\")(x,y)\n",
    "a10=function(\"a10\")(x,y)\n",
    "a11=function(\"a11\")(x,y)\n",
    "a12=function(\"a12\")(x,y)\n",
    "a13=function(\"a13\")(x,y)\n",
    "a14=function(\"a14\")(x,y)\n",
    "a15=function(\"a15\")(x,y)\n",
    "a16=function(\"a16\")(x,y)\n",
    "a17=function(\"a17\")(x,y)\n",
    "a18=function(\"a18\")(x,y)\n",
    "a19=function(\"a19\")(x,y)\n",
    "a20=function(\"a20\")(x,y)\n",
    "\n",
    "\n",
    "w0=w\n",
    "wx=diff(w,x)\n",
    "wy=diff(w,y)\n",
    "wxx=diff(w,x,x)\n",
    "wyy=diff(w,y,y)\n",
    "wxy=diff(w,x,y)\n",
    "\n",
    "z0=z\n",
    "zx=diff(z,x)\n",
    "zy=diff(z,y)\n",
    "zxx=diff(z,x,x)\n",
    "zyy=diff(z,y,y)\n",
    "zxy=diff(z,x,y)\n",
    "\n",
    "\n",
    "f1 = wx + a1*wy - a2*w\n",
    "f2 = wx + a3*wy - a4*w\n",
    "f3 = wx + a5*wy - a6*w\n",
    "f4 = zy + a7*wy - a8*w\n",
    "f5 = zx + a9*wx + a10*wy - a11*w\n",
    "f6 = wyy + a12*wx + a13*wy-a14*w\n",
    "f7 = wxy + a15*wx + a16*wy - a17*w\n",
    "f8 = wxx + a18*wx + a19*wy+ a20*w\n",
    "\n",
    "# this is System 2.24, after first iteration, abstracted\n",
    "\n",
    "system_2_24 = [f4,f2,f1,f5,f3,f8,f7,f6]"
   ]
  },
  {
   "cell_type": "code",
   "execution_count": 2,
   "id": "a642b6c3-d323-45ef-ae44-5b5d50de1f7b",
   "metadata": {},
   "outputs": [
    {
     "name": "stdout",
     "output_type": "stream",
     "text": [
      "****************************************************************************************\n",
      "This is where we start, loop=1\n"
     ]
    },
    {
     "data": {
      "text/latex": [
       "$\\displaystyle  w_{x}+a_{3}\\left(x, y\\right) w_{y}-a_{4}\\left(x, y\\right) w$"
      ],
      "text/plain": [
       "<IPython.core.display.Math object>"
      ]
     },
     "metadata": {},
     "output_type": "display_data"
    },
    {
     "data": {
      "text/latex": [
       "$\\displaystyle  w_{x}+a_{1}\\left(x, y\\right) w_{y}-a_{2}\\left(x, y\\right) w$"
      ],
      "text/plain": [
       "<IPython.core.display.Math object>"
      ]
     },
     "metadata": {},
     "output_type": "display_data"
    },
    {
     "data": {
      "text/latex": [
       "$\\displaystyle  w_{x}+a_{5}\\left(x, y\\right) w_{y}-a_{6}\\left(x, y\\right) w$"
      ],
      "text/plain": [
       "<IPython.core.display.Math object>"
      ]
     },
     "metadata": {},
     "output_type": "display_data"
    },
    {
     "data": {
      "text/latex": [
       "$\\displaystyle  z_{y}+a_{7}\\left(x, y\\right) w_{y}-a_{8}\\left(x, y\\right) w$"
      ],
      "text/plain": [
       "<IPython.core.display.Math object>"
      ]
     },
     "metadata": {},
     "output_type": "display_data"
    },
    {
     "data": {
      "text/latex": [
       "$\\displaystyle  z_{x}+a_{9}\\left(x, y\\right) w_{x}+a_{10}\\left(x, y\\right) w_{y}-a_{11}\\left(x, y\\right) w$"
      ],
      "text/plain": [
       "<IPython.core.display.Math object>"
      ]
     },
     "metadata": {},
     "output_type": "display_data"
    },
    {
     "data": {
      "text/latex": [
       "$\\displaystyle  w_{y,y}+a_{12}\\left(x, y\\right) w_{x}+a_{13}\\left(x, y\\right) w_{y}-a_{14}\\left(x, y\\right) w$"
      ],
      "text/plain": [
       "<IPython.core.display.Math object>"
      ]
     },
     "metadata": {},
     "output_type": "display_data"
    },
    {
     "data": {
      "text/latex": [
       "$\\displaystyle  w_{x,y}+a_{15}\\left(x, y\\right) w_{x}+a_{16}\\left(x, y\\right) w_{y}-a_{17}\\left(x, y\\right) w$"
      ],
      "text/plain": [
       "<IPython.core.display.Math object>"
      ]
     },
     "metadata": {},
     "output_type": "display_data"
    },
    {
     "data": {
      "text/latex": [
       "$\\displaystyle  w_{x,x}+a_{18}\\left(x, y\\right) w_{x}+a_{19}\\left(x, y\\right) w_{y}+a_{20}\\left(x, y\\right) w$"
      ],
      "text/plain": [
       "<IPython.core.display.Math object>"
      ]
     },
     "metadata": {},
     "output_type": "display_data"
    },
    {
     "name": "stdout",
     "output_type": "stream",
     "text": [
      "   ===> subtract, *1\n",
      "   ===> subtract, *1\n",
      "   ===> subtract, *a9(x, y)\n",
      "   ===> subtract, *a12(x, y)\n",
      "   ===> subtract, *-a15(x, y)/a3(x, y)\n",
      "   ===> subtract, *(a18(x, y) + a4(x, y))/a3(x, y)^2\n",
      "AAAAAAAAAAAAAAAAAAAAAAAAAAAAAAAAAAAAAAAAAAAAAAAAAAAAAAAAAAAAAAAAAAAAAAAAAAAAAAAAAAAAAAAAAAAAAAAAAAA 0\n",
      "after autoreduce\n",
      "14.436716556549072\n"
     ]
    }
   ],
   "source": [
    "jb = Janet_Basis(system_2_24, [z,w], [x,y], Mgrevlex)\n",
    "jb.show(rich=True)"
   ]
  },
  {
   "cell_type": "code",
   "execution_count": null,
   "id": "cf1dbdef-82bf-4036-b192-67f523d51a53",
   "metadata": {},
   "outputs": [],
   "source": []
  }
 ],
 "metadata": {
  "kernelspec": {
   "display_name": "SageMath 10.2",
   "language": "sage",
   "name": "sagemath"
  },
  "language_info": {
   "codemirror_mode": {
    "name": "ipython",
    "version": 3
   },
   "file_extension": ".py",
   "mimetype": "text/x-python",
   "name": "python",
   "nbconvert_exporter": "python",
   "pygments_lexer": "ipython3",
   "version": "3.11.10"
  }
 },
 "nbformat": 4,
 "nbformat_minor": 5
}
