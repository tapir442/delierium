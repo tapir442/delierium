{
 "cells": [
  {
   "cell_type": "code",
   "execution_count": 23,
   "id": "04eac110-531f-46d7-824a-1f2e0e6dd069",
   "metadata": {},
   "outputs": [],
   "source": [
    "from IPython.core.debugger import set_trace\n",
    "from pprint import pprint\n",
    "import itertools\n",
    " \n",
    "\n",
    "def degree_of_set(j, U):\n",
    "    return max(u[j] for u in U)\n",
    "    \n",
    "def degree(j):\n",
    "    return u[j]\n",
    "    \n",
    "class My_Multiplier:\n",
    "    def __init__(self, M):\n",
    "        self.degrees = {}\n",
    "        # no of variables\n",
    "        n = len(M[0])\n",
    "        for i in range(n):\n",
    "            self.degrees[i] = 0\n",
    "            for m in M:\n",
    "                self.degrees[i] = max(self.degrees[i], m[i])\n",
    "        self.max_degree = max (self.degrees.values())\n",
    "        self.mults = {}\n",
    "        for m in M:\n",
    "            self.mults[tuple(m)] = set()\n",
    "        self.alphas = {}\n",
    "        for m in M:\n",
    "            if m[n-1] == self.degrees[n-1]:\n",
    "                self.mults[m].add(n-1)\n",
    "        tuples = [ele for ele in itertools.product(range(0, self.max_degree+1), repeat = 1)]\n",
    "        self.alphas = {}\n",
    "        for t in tuples:\n",
    "            self.alphas[t] = set([m for m in M if all(m[n-1] == _t for _t in t)])\n",
    "        to_delete = [_ for _ in self.alphas if not self.alphas[_]]\n",
    "        for t in to_delete:\n",
    "            del self.alphas[t]\n",
    "\n",
    "        for j in reversed(range(n-1)):\n",
    "            for m in M:\n",
    "                if m[j] == self.degrees[j]:\n",
    "                    self.mults[m].add(j)\n",
    "            for m in M:\n",
    "                for a in self.alphas:\n",
    "                    if m in self.alphas[a] and m[j] == degree_of_set(j, self.alphas[a]):\n",
    "                        self.mults[m].add(j)\n",
    "            if n != 0:\n",
    "                tuples = [ele for ele in itertools.product(range(0, self.max_degree+1), repeat = n - j)]       \n",
    "                self.alphas = {}\n",
    "                for t in tuples:\n",
    "                    self.alphas[t] = set(m for m in M if list(m[j:]) == list(t))\n",
    "                to_delete = [_ for _ in self.alphas if not self.alphas[_]]                    \n",
    "                for t in to_delete:\n",
    "                    del self.alphas[t]\n",
    "    \n",
    "M=[(1, 1, 3),\n",
    " (0, 1, 3),\n",
    " (2, 1, 3),\n",
    " (1, 2, 3),\n",
    " (0, 2, 3),\n",
    " (2, 1, 1),\n",
    " (1, 1, 2),\n",
    " (2, 1, 2),\n",
    " (0, 1, 2),\n",
    " (1, 1, 1),\n",
    " (0, 1, 1),\n",
    " (3, 0, 3),\n",
    " (3, 1, 3),\n",
    " (2, 2, 3),\n",
    " (3, 1, 2),\n",
    " (3, 1, 1)]\n"
   ]
  },
  {
   "cell_type": "code",
   "execution_count": 24,
   "id": "218d220c-15c9-4490-869f-9856045cd47a",
   "metadata": {},
   "outputs": [
    {
     "name": "stdout",
     "output_type": "stream",
     "text": [
      "{(0, 1, 1): {0, 1, 2}, (0, 2, 0): {0, 1}, (1, 0, 0): {0}}\n"
     ]
    }
   ],
   "source": [
    "M1=[(0,1,1), (0,2,0), (1,0,0)]\n",
    "mymult = My_Multiplier(M1)\n",
    "pprint(mymult.mults)"
   ]
  },
  {
   "cell_type": "code",
   "execution_count": 25,
   "id": "50e1247e-9d1b-424f-9ed4-4c3137905cda",
   "metadata": {},
   "outputs": [
    {
     "name": "stdout",
     "output_type": "stream",
     "text": [
      "{(0, 1, 1): {1},\n",
      " (0, 1, 2): {1},\n",
      " (0, 1, 3): {2},\n",
      " (0, 2, 3): {1, 2},\n",
      " (1, 1, 1): {1},\n",
      " (1, 1, 2): {1},\n",
      " (1, 1, 3): {2},\n",
      " (1, 2, 3): {1, 2},\n",
      " (2, 1, 1): {1},\n",
      " (2, 1, 2): {1},\n",
      " (2, 1, 3): {2},\n",
      " (2, 2, 3): {0, 1, 2},\n",
      " (3, 0, 3): {0, 2},\n",
      " (3, 1, 1): {0, 1},\n",
      " (3, 1, 2): {0, 1},\n",
      " (3, 1, 3): {0, 2}}\n"
     ]
    }
   ],
   "source": [
    "mymult = My_Multiplier(M)\n",
    "pprint(mymult.mults)"
   ]
  },
  {
   "cell_type": "code",
   "execution_count": null,
   "id": "a8958a17-c43f-49f2-b0cc-70c0ab322c87",
   "metadata": {},
   "outputs": [],
   "source": []
  },
  {
   "cell_type": "code",
   "execution_count": 26,
   "id": "2a7897cb-1c67-484e-966a-81ac1dd3b3f9",
   "metadata": {},
   "outputs": [
    {
     "name": "stdout",
     "output_type": "stream",
     "text": [
      "{(0, 1, 1): {1}, (2, 2, 3): {0, 1, 2}, (3, 0, 3): {0, 2}, (3, 1, 1): {0, 1}}\n"
     ]
    }
   ],
   "source": [
    "M2=[(2,2,3), (3,0,3), (3,1,1), (0,1,1)]\n",
    "m2=My_Multiplier(M2)\n",
    "pprint(m2.mults)"
   ]
  },
  {
   "cell_type": "code",
   "execution_count": 27,
   "id": "608067bb-7acc-44c0-bfb3-b73fdf3ff4d1",
   "metadata": {},
   "outputs": [
    {
     "name": "stdout",
     "output_type": "stream",
     "text": [
      "{(0, 0, 0, 1, 1): {0, 1, 2, 3, 4},\n",
      " (0, 0, 0, 2, 0): {0, 1, 2, 3},\n",
      " (0, 0, 1, 0, 1): {0, 1, 2, 4},\n",
      " (0, 0, 1, 1, 0): {0, 1, 2},\n",
      " (0, 0, 2, 0, 0): {0, 1, 2},\n",
      " (0, 1, 0, 0, 1): {0, 1, 4}}\n"
     ]
    }
   ],
   "source": [
    "M4=[(0,0,0,1,1),(0,0,1,0,1),(0,1,0,0,1),(0,0,0,2,0),(0,0,1,1,0),(0,0,2,0,0)]\n",
    "m4=My_Multiplier(M4)\n",
    "pprint(m4.mults)"
   ]
  },
  {
   "cell_type": "code",
   "execution_count": 32,
   "id": "30651d0a-8201-4f01-bb21-59b478d85b1a",
   "metadata": {},
   "outputs": [
    {
     "data": {
      "text/plain": [
       "[]"
      ]
     },
     "execution_count": 32,
     "metadata": {},
     "output_type": "execute_result"
    }
   ],
   "source": [
    "def complete(S):\n",
    "    # S: list of monomial tuples. Highest variable ist the last index \n",
    "    # highest index is most important, we, have xn >...> x1\n",
    "    monomials = S[:]\n",
    "    result = []\n",
    "    all_vars = set([_ for _ in range(len(monomials[0]))])\n",
    "    while 1:\n",
    "        m0 = []\n",
    "        # multiplier-collection is our M\n",
    "        multiplier_collection = []\n",
    "        division = My_Multiplier(monomials)\n",
    "        multiplier_collection = [(v, all_vars - v, k) for k, v in division.mults.items()]\n",
    "        for mult, nonmult, monom, in multiplier_collection:\n",
    "            for n in nonmult:\n",
    "                _m0 = list(monom)\n",
    "                _m0[n] += 1\n",
    "                m0.append((_m0, n, monom))\n",
    "        to_remove = []\n",
    "        #set_trace()\n",
    "        for _m0 in m0:\n",
    "            # S3: check whether in class of any of the monomials\n",
    "            for mult, nonmult, monom in multiplier_collection:\n",
    "                s1 = [_m0[0][x] >= monom[x] for x in mult]\n",
    "                s2 = [_m0[0][x] == monom[x] for x in nonmult]\n",
    "                if all(s1) and all(s2):\n",
    "                    # this is in _m0's class\n",
    "                    to_remove.append(_m0)\n",
    "                    break\n",
    "                    \n",
    "        for _to in to_remove:\n",
    "            try:\n",
    "                m0.remove(_to)\n",
    "            except:\n",
    "                pass\n",
    "        if not m0:\n",
    "            # XXX create the _Differntial Polynomials here\n",
    "            return result\n",
    "        else:\n",
    "            result.extend(m0)\n",
    "            monomials.extend([tuple(_[0]) for _ in m0])\n",
    "\n",
    "complete(M4)"
   ]
  },
  {
   "cell_type": "code",
   "execution_count": 33,
   "id": "ebc03d09-d13f-4c4b-9f66-918965f2ce66",
   "metadata": {},
   "outputs": [
    {
     "data": {
      "text/plain": [
       "[([3, 1, 3], 1, (3, 0, 3)),\n",
       " ([3, 1, 2], 2, (3, 1, 1)),\n",
       " ([1, 1, 1], 0, (0, 1, 1)),\n",
       " ([0, 1, 2], 2, (0, 1, 1)),\n",
       " ([2, 1, 1], 0, (1, 1, 1)),\n",
       " ([1, 1, 2], 2, (1, 1, 1)),\n",
       " ([1, 1, 2], 0, (0, 1, 2)),\n",
       " ([0, 1, 3], 2, (0, 1, 2)),\n",
       " ([2, 1, 2], 2, (2, 1, 1)),\n",
       " ([2, 1, 2], 0, (1, 1, 2)),\n",
       " ([1, 1, 3], 2, (1, 1, 2)),\n",
       " ([1, 1, 3], 0, (0, 1, 3)),\n",
       " ([0, 2, 3], 1, (0, 1, 3)),\n",
       " ([2, 1, 3], 2, (2, 1, 2)),\n",
       " ([2, 1, 3], 0, (1, 1, 3)),\n",
       " ([1, 2, 3], 1, (1, 1, 3)),\n",
       " ([1, 2, 3], 0, (0, 2, 3))]"
      ]
     },
     "execution_count": 33,
     "metadata": {},
     "output_type": "execute_result"
    }
   ],
   "source": [
    "M5=[(2,2,3), (3,0,3), (3,1,1), (0,1,1)]\n",
    "v=complete(M5); v"
   ]
  },
  {
   "cell_type": "code",
   "execution_count": 34,
   "id": "71b11dd0-5a38-49cf-8a24-7e037e4ffa99",
   "metadata": {},
   "outputs": [],
   "source": [
    "m5=My_Multiplier([tuple(_[0]) for _ in v]  + M5)"
   ]
  },
  {
   "cell_type": "code",
   "execution_count": 35,
   "id": "8e5e90e3-8df6-4042-af1d-5457e08def5f",
   "metadata": {},
   "outputs": [
    {
     "name": "stdout",
     "output_type": "stream",
     "text": [
      "{(0, 1, 1): {1},\n",
      " (0, 1, 2): {1},\n",
      " (0, 1, 3): {2},\n",
      " (0, 2, 3): {1, 2},\n",
      " (1, 1, 1): {1},\n",
      " (1, 1, 2): {1},\n",
      " (1, 1, 3): {2},\n",
      " (1, 2, 3): {1, 2},\n",
      " (2, 1, 1): {1},\n",
      " (2, 1, 2): {1},\n",
      " (2, 1, 3): {2},\n",
      " (2, 2, 3): {0, 1, 2},\n",
      " (3, 0, 3): {0, 2},\n",
      " (3, 1, 1): {0, 1},\n",
      " (3, 1, 2): {0, 1},\n",
      " (3, 1, 3): {0, 2}}\n"
     ]
    }
   ],
   "source": [
    "pprint(m5.mults)"
   ]
  },
  {
   "cell_type": "code",
   "execution_count": 36,
   "id": "8c44417c-6ec0-4257-a970-78993e024faa",
   "metadata": {},
   "outputs": [],
   "source": [
    "new=set(m5.mults.keys()) - set(M5)"
   ]
  },
  {
   "cell_type": "code",
   "execution_count": 37,
   "id": "112e2f60-13fb-44e9-895c-b383123c670f",
   "metadata": {},
   "outputs": [
    {
     "data": {
      "text/plain": [
       "{(0, 1, 2),\n",
       " (0, 1, 3),\n",
       " (0, 2, 3),\n",
       " (1, 1, 1),\n",
       " (1, 1, 2),\n",
       " (1, 1, 3),\n",
       " (1, 2, 3),\n",
       " (2, 1, 1),\n",
       " (2, 1, 2),\n",
       " (2, 1, 3),\n",
       " (3, 1, 2),\n",
       " (3, 1, 3)}"
      ]
     },
     "execution_count": 37,
     "metadata": {},
     "output_type": "execute_result"
    }
   ],
   "source": [
    "new"
   ]
  },
  {
   "cell_type": "code",
   "execution_count": null,
   "id": "066b661a-810e-46e7-8263-a5b091bc2f73",
   "metadata": {},
   "outputs": [],
   "source": []
  },
  {
   "cell_type": "code",
   "execution_count": null,
   "id": "ca718b09-b279-4923-b92a-2dcaf8242136",
   "metadata": {},
   "outputs": [],
   "source": []
  }
 ],
 "metadata": {
  "kernelspec": {
   "display_name": "SageMath 9.7",
   "language": "sage",
   "name": "sagemath"
  },
  "language_info": {
   "codemirror_mode": {
    "name": "ipython",
    "version": 3
   },
   "file_extension": ".py",
   "mimetype": "text/x-python",
   "name": "python",
   "nbconvert_exporter": "python",
   "pygments_lexer": "ipython3",
   "version": "3.10.8"
  },
  "widgets": {
   "application/vnd.jupyter.widget-state+json": {
    "state": {},
    "version_major": 2,
    "version_minor": 0
   }
  }
 },
 "nbformat": 4,
 "nbformat_minor": 5
}
