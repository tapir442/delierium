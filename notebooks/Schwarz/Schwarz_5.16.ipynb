{
 "cells": [
  {
   "cell_type": "code",
   "execution_count": 1,
   "id": "4e8fe69f-003e-49ef-ab14-964857ab2344",
   "metadata": {},
   "outputs": [
    {
     "data": {
      "text/latex": [
       "$\\displaystyle -2 x^2 e^(-y y_{x}/x - 1/2/x) + y_{x}^2 + y y_{x, x} - y y_{x}/x - 1/2/x$"
      ],
      "text/plain": [
       "<IPython.core.display.Math object>"
      ]
     },
     "metadata": {},
     "output_type": "display_data"
    },
    {
     "data": {
      "text/latex": [
       "$\\displaystyle -y  \\xi_{yy} - 2  \\xi_{y}$"
      ],
      "text/plain": [
       "<IPython.core.display.Math object>"
      ]
     },
     "metadata": {},
     "output_type": "display_data"
    },
    {
     "data": {
      "text/latex": [
       "$\\displaystyle -2 x e^(-y y_{x}/x - 1/2/x) y  \\xi_{y} + y  \\phi_{yy} - 2 y  \\xi_{yx} - 2 y  \\xi_{y}/x - \\phi/y +  \\phi_{y}$"
      ],
      "text/plain": [
       "<IPython.core.display.Math object>"
      ]
     },
     "metadata": {},
     "output_type": "display_data"
    },
    {
     "data": {
      "text/latex": [
       "$\\displaystyle 2 x e^(-y y_{x}/x - 1/2/x) y  \\phi_{y} - 6 x^2 e^(-y y_{x}/x - 1/2/x)  \\xi_{y} - 2 x e^(-y y_{x}/x - 1/2/x) y  \\xi_{x} + 2 x e^(-y y_{x}/x - 1/2/x) \\phi - 2 e^(-y y_{x}/x - 1/2/x) \\xi y + 2 y  \\phi_{yx} - y  \\xi_{xx} - y  \\xi_{x}/x + \\xi y/x^2 - 3/2  \\xi_{y}/x + 2  \\phi_{x}$"
      ],
      "text/plain": [
       "<IPython.core.display.Math object>"
      ]
     },
     "metadata": {},
     "output_type": "display_data"
    },
    {
     "data": {
      "text/latex": [
       "$\\displaystyle 2 x^2 e^(-y y_{x}/x - 1/2/x)  \\phi_{y} + 2 x e^(-y y_{x}/x - 1/2/x) y  \\phi_{x} - 4 x^2 e^(-y y_{x}/x - 1/2/x)  \\xi_{x} + 3  \\xi_{y} y_{x}^3 - 4 x e^(-y y_{x}/x - 1/2/x) \\xi + 2 x^2 e^(-y y_{x}/x - 1/2/x) \\phi/y - e^(-y y_{x}/x - 1/2/x) \\xi + y  \\phi_{xx} - y  \\phi_{x}/x + 1/2  \\phi_{y}/x -  \\xi_{x}/x + 1/2 \\xi/x^2 + 1/2 \\phi/(x y)$"
      ],
      "text/plain": [
       "<IPython.core.display.Math object>"
      ]
     },
     "metadata": {},
     "output_type": "display_data"
    },
    {
     "ename": "KeyboardInterrupt",
     "evalue": "",
     "output_type": "error",
     "traceback": [
      "\u001b[0;31m---------------------------------------------------------------------------\u001b[0m",
      "\u001b[0;31mKeyboardInterrupt\u001b[0m                         Traceback (most recent call last)",
      "Cell \u001b[0;32mIn[1], line 20\u001b[0m\n\u001b[1;32m     16\u001b[0m \u001b[38;5;28;01mfor\u001b[39;00m _ \u001b[38;5;129;01min\u001b[39;00m ods:\n\u001b[1;32m     17\u001b[0m     display(Math(latexer(_)))\n\u001b[0;32m---> 20\u001b[0m \u001b[43mget_ipython\u001b[49m\u001b[43m(\u001b[49m\u001b[43m)\u001b[49m\u001b[38;5;241;43m.\u001b[39;49m\u001b[43mrun_line_magic\u001b[49m\u001b[43m(\u001b[49m\u001b[38;5;124;43m'\u001b[39;49m\u001b[38;5;124;43msnakeviz\u001b[39;49m\u001b[38;5;124;43m'\u001b[39;49m\u001b[43m,\u001b[49m\u001b[43m \u001b[49m\u001b[38;5;124;43m'\u001b[39;49m\u001b[38;5;124;43mjb = Janet_Basis_from_ODE(ode, y, x)\u001b[39;49m\u001b[38;5;124;43m'\u001b[39;49m\u001b[43m)\u001b[49m\n\u001b[1;32m     21\u001b[0m \u001b[38;5;28;01mfor\u001b[39;00m _ \u001b[38;5;129;01min\u001b[39;00m jb:\n\u001b[1;32m     22\u001b[0m     display(Math(latexer(_)))\n",
      "File \u001b[0;32m~/mambaforge/envs/sage/lib/python3.10/site-packages/IPython/core/interactiveshell.py:2414\u001b[0m, in \u001b[0;36mInteractiveShell.run_line_magic\u001b[0;34m(self, magic_name, line, _stack_depth)\u001b[0m\n\u001b[1;32m   2412\u001b[0m     kwargs[\u001b[38;5;124m'\u001b[39m\u001b[38;5;124mlocal_ns\u001b[39m\u001b[38;5;124m'\u001b[39m] \u001b[38;5;241m=\u001b[39m \u001b[38;5;28mself\u001b[39m\u001b[38;5;241m.\u001b[39mget_local_scope(stack_depth)\n\u001b[1;32m   2413\u001b[0m \u001b[38;5;28;01mwith\u001b[39;00m \u001b[38;5;28mself\u001b[39m\u001b[38;5;241m.\u001b[39mbuiltin_trap:\n\u001b[0;32m-> 2414\u001b[0m     result \u001b[38;5;241m=\u001b[39m \u001b[43mfn\u001b[49m\u001b[43m(\u001b[49m\u001b[38;5;241;43m*\u001b[39;49m\u001b[43margs\u001b[49m\u001b[43m,\u001b[49m\u001b[43m \u001b[49m\u001b[38;5;241;43m*\u001b[39;49m\u001b[38;5;241;43m*\u001b[39;49m\u001b[43mkwargs\u001b[49m\u001b[43m)\u001b[49m\n\u001b[1;32m   2416\u001b[0m \u001b[38;5;66;03m# The code below prevents the output from being displayed\u001b[39;00m\n\u001b[1;32m   2417\u001b[0m \u001b[38;5;66;03m# when using magics with decodator @output_can_be_silenced\u001b[39;00m\n\u001b[1;32m   2418\u001b[0m \u001b[38;5;66;03m# when the last Python token in the expression is a ';'.\u001b[39;00m\n\u001b[1;32m   2419\u001b[0m \u001b[38;5;28;01mif\u001b[39;00m \u001b[38;5;28mgetattr\u001b[39m(fn, magic\u001b[38;5;241m.\u001b[39mMAGIC_OUTPUT_CAN_BE_SILENCED, \u001b[38;5;28;01mFalse\u001b[39;00m):\n",
      "File \u001b[0;32m~/mambaforge/envs/sage/lib/python3.10/site-packages/snakeviz/ipymagic.py:78\u001b[0m, in \u001b[0;36mSnakevizMagic.snakeviz\u001b[0;34m(self, line, cell)\u001b[0m\n\u001b[1;32m     76\u001b[0m     ip\u001b[38;5;241m.\u001b[39mrun_cell_magic(\u001b[38;5;124m\"\u001b[39m\u001b[38;5;124mprun\u001b[39m\u001b[38;5;124m\"\u001b[39m, line, cell)\n\u001b[1;32m     77\u001b[0m \u001b[38;5;28;01melse\u001b[39;00m:\n\u001b[0;32m---> 78\u001b[0m     \u001b[43mip\u001b[49m\u001b[38;5;241;43m.\u001b[39;49m\u001b[43mrun_line_magic\u001b[49m\u001b[43m(\u001b[49m\u001b[38;5;124;43m\"\u001b[39;49m\u001b[38;5;124;43mprun\u001b[39;49m\u001b[38;5;124;43m\"\u001b[39;49m\u001b[43m,\u001b[49m\u001b[43m \u001b[49m\u001b[43mline\u001b[49m\u001b[43m)\u001b[49m\n\u001b[1;32m     80\u001b[0m \u001b[38;5;66;03m# start up a Snakeviz server\u001b[39;00m\n\u001b[1;32m     81\u001b[0m \u001b[38;5;28;01mif\u001b[39;00m _check_ipynb() \u001b[38;5;129;01mand\u001b[39;00m \u001b[38;5;129;01mnot\u001b[39;00m (\u001b[38;5;124m\"\u001b[39m\u001b[38;5;124mt\u001b[39m\u001b[38;5;124m\"\u001b[39m \u001b[38;5;129;01min\u001b[39;00m opts \u001b[38;5;129;01mor\u001b[39;00m \u001b[38;5;124m\"\u001b[39m\u001b[38;5;124mnew-tab\u001b[39m\u001b[38;5;124m\"\u001b[39m \u001b[38;5;129;01min\u001b[39;00m opts):\n",
      "File \u001b[0;32m~/mambaforge/envs/sage/lib/python3.10/site-packages/IPython/core/interactiveshell.py:2414\u001b[0m, in \u001b[0;36mInteractiveShell.run_line_magic\u001b[0;34m(self, magic_name, line, _stack_depth)\u001b[0m\n\u001b[1;32m   2412\u001b[0m     kwargs[\u001b[38;5;124m'\u001b[39m\u001b[38;5;124mlocal_ns\u001b[39m\u001b[38;5;124m'\u001b[39m] \u001b[38;5;241m=\u001b[39m \u001b[38;5;28mself\u001b[39m\u001b[38;5;241m.\u001b[39mget_local_scope(stack_depth)\n\u001b[1;32m   2413\u001b[0m \u001b[38;5;28;01mwith\u001b[39;00m \u001b[38;5;28mself\u001b[39m\u001b[38;5;241m.\u001b[39mbuiltin_trap:\n\u001b[0;32m-> 2414\u001b[0m     result \u001b[38;5;241m=\u001b[39m \u001b[43mfn\u001b[49m\u001b[43m(\u001b[49m\u001b[38;5;241;43m*\u001b[39;49m\u001b[43margs\u001b[49m\u001b[43m,\u001b[49m\u001b[43m \u001b[49m\u001b[38;5;241;43m*\u001b[39;49m\u001b[38;5;241;43m*\u001b[39;49m\u001b[43mkwargs\u001b[49m\u001b[43m)\u001b[49m\n\u001b[1;32m   2416\u001b[0m \u001b[38;5;66;03m# The code below prevents the output from being displayed\u001b[39;00m\n\u001b[1;32m   2417\u001b[0m \u001b[38;5;66;03m# when using magics with decodator @output_can_be_silenced\u001b[39;00m\n\u001b[1;32m   2418\u001b[0m \u001b[38;5;66;03m# when the last Python token in the expression is a ';'.\u001b[39;00m\n\u001b[1;32m   2419\u001b[0m \u001b[38;5;28;01mif\u001b[39;00m \u001b[38;5;28mgetattr\u001b[39m(fn, magic\u001b[38;5;241m.\u001b[39mMAGIC_OUTPUT_CAN_BE_SILENCED, \u001b[38;5;28;01mFalse\u001b[39;00m):\n",
      "File \u001b[0;32m~/mambaforge/envs/sage/lib/python3.10/site-packages/IPython/core/magics/execution.py:298\u001b[0m, in \u001b[0;36mExecutionMagics.prun\u001b[0;34m(self, parameter_s, cell)\u001b[0m\n\u001b[1;32m    296\u001b[0m     arg_str \u001b[38;5;241m+\u001b[39m\u001b[38;5;241m=\u001b[39m \u001b[38;5;124m'\u001b[39m\u001b[38;5;130;01m\\n\u001b[39;00m\u001b[38;5;124m'\u001b[39m \u001b[38;5;241m+\u001b[39m cell\n\u001b[1;32m    297\u001b[0m arg_str \u001b[38;5;241m=\u001b[39m \u001b[38;5;28mself\u001b[39m\u001b[38;5;241m.\u001b[39mshell\u001b[38;5;241m.\u001b[39mtransform_cell(arg_str)\n\u001b[0;32m--> 298\u001b[0m \u001b[38;5;28;01mreturn\u001b[39;00m \u001b[38;5;28;43mself\u001b[39;49m\u001b[38;5;241;43m.\u001b[39;49m\u001b[43m_run_with_profiler\u001b[49m\u001b[43m(\u001b[49m\u001b[43marg_str\u001b[49m\u001b[43m,\u001b[49m\u001b[43m \u001b[49m\u001b[43mopts\u001b[49m\u001b[43m,\u001b[49m\u001b[43m \u001b[49m\u001b[38;5;28;43mself\u001b[39;49m\u001b[38;5;241;43m.\u001b[39;49m\u001b[43mshell\u001b[49m\u001b[38;5;241;43m.\u001b[39;49m\u001b[43muser_ns\u001b[49m\u001b[43m)\u001b[49m\n",
      "File \u001b[0;32m~/mambaforge/envs/sage/lib/python3.10/site-packages/IPython/core/magics/execution.py:320\u001b[0m, in \u001b[0;36mExecutionMagics._run_with_profiler\u001b[0;34m(self, code, opts, namespace)\u001b[0m\n\u001b[1;32m    318\u001b[0m prof \u001b[38;5;241m=\u001b[39m profile\u001b[38;5;241m.\u001b[39mProfile()\n\u001b[1;32m    319\u001b[0m \u001b[38;5;28;01mtry\u001b[39;00m:\n\u001b[0;32m--> 320\u001b[0m     prof \u001b[38;5;241m=\u001b[39m \u001b[43mprof\u001b[49m\u001b[38;5;241;43m.\u001b[39;49m\u001b[43mrunctx\u001b[49m\u001b[43m(\u001b[49m\u001b[43mcode\u001b[49m\u001b[43m,\u001b[49m\u001b[43m \u001b[49m\u001b[43mnamespace\u001b[49m\u001b[43m,\u001b[49m\u001b[43m \u001b[49m\u001b[43mnamespace\u001b[49m\u001b[43m)\u001b[49m\n\u001b[1;32m    321\u001b[0m     sys_exit \u001b[38;5;241m=\u001b[39m \u001b[38;5;124m'\u001b[39m\u001b[38;5;124m'\u001b[39m\n\u001b[1;32m    322\u001b[0m \u001b[38;5;28;01mexcept\u001b[39;00m \u001b[38;5;167;01mSystemExit\u001b[39;00m:\n",
      "File \u001b[0;32m~/mambaforge/envs/sage/lib/python3.10/cProfile.py:100\u001b[0m, in \u001b[0;36mProfile.runctx\u001b[0;34m(self, cmd, globals, locals)\u001b[0m\n\u001b[1;32m     98\u001b[0m \u001b[38;5;28mself\u001b[39m\u001b[38;5;241m.\u001b[39menable()\n\u001b[1;32m     99\u001b[0m \u001b[38;5;28;01mtry\u001b[39;00m:\n\u001b[0;32m--> 100\u001b[0m     \u001b[43mexec\u001b[49m\u001b[43m(\u001b[49m\u001b[43mcmd\u001b[49m\u001b[43m,\u001b[49m\u001b[43m \u001b[49m\u001b[38;5;28;43mglobals\u001b[39;49m\u001b[43m,\u001b[49m\u001b[43m \u001b[49m\u001b[38;5;28;43mlocals\u001b[39;49m\u001b[43m)\u001b[49m\n\u001b[1;32m    101\u001b[0m \u001b[38;5;28;01mfinally\u001b[39;00m:\n\u001b[1;32m    102\u001b[0m     \u001b[38;5;28mself\u001b[39m\u001b[38;5;241m.\u001b[39mdisable()\n",
      "File \u001b[0;32m<string>:1\u001b[0m\n",
      "File \u001b[0;32m~/researches/delierium/src/delierium/Infinitesimals.py:283\u001b[0m, in \u001b[0;36mJanet_Basis_from_ODE\u001b[0;34m(ode, dependent, independent, order, *args, **kw)\u001b[0m\n\u001b[1;32m    281\u001b[0m     intermediate_system\u001b[38;5;241m.\u001b[39mappend(e)\n\u001b[1;32m    282\u001b[0m \u001b[38;5;66;03m# ToDo: get rid of hardcoded phi and xi\u001b[39;00m\n\u001b[0;32m--> 283\u001b[0m janet \u001b[38;5;241m=\u001b[39m \u001b[43mJanet_Basis\u001b[49m\u001b[43m(\u001b[49m\u001b[43mintermediate_system\u001b[49m\u001b[43m,\u001b[49m\u001b[43m \u001b[49m\u001b[43m[\u001b[49m\u001b[43mphi\u001b[49m\u001b[43m,\u001b[49m\u001b[43m \u001b[49m\u001b[43mxi\u001b[49m\u001b[43m]\u001b[49m\u001b[43m,\u001b[49m\u001b[43m \u001b[49m\u001b[43m[\u001b[49m\u001b[43mY\u001b[49m\u001b[43m,\u001b[49m\u001b[43m \u001b[49m\u001b[43mindependent\u001b[49m\u001b[43m]\u001b[49m\u001b[43m)\u001b[49m\n\u001b[1;32m    284\u001b[0m pols \u001b[38;5;241m=\u001b[39m \u001b[38;5;28mmap\u001b[39m(\u001b[38;5;28;01mlambda\u001b[39;00m _ : _\u001b[38;5;241m.\u001b[39mexpression()\u001b[38;5;241m.\u001b[39msubs({Y : dependent(independent)}), janet\u001b[38;5;241m.\u001b[39mS)\n\u001b[1;32m    285\u001b[0m \u001b[38;5;28;01mreturn\u001b[39;00m pols\n",
      "File \u001b[0;32m~/researches/delierium/src/delierium/JanetBasis.py:649\u001b[0m, in \u001b[0;36mJanet_Basis.__init__\u001b[0;34m(self, S, dependent, independent, sort_order)\u001b[0m\n\u001b[1;32m    647\u001b[0m     \u001b[38;5;28;01mreturn\u001b[39;00m\n\u001b[1;32m    648\u001b[0m old \u001b[38;5;241m=\u001b[39m \u001b[38;5;28mself\u001b[39m\u001b[38;5;241m.\u001b[39mS[:]\n\u001b[0;32m--> 649\u001b[0m \u001b[38;5;28mself\u001b[39m\u001b[38;5;241m.\u001b[39mS \u001b[38;5;241m=\u001b[39m \u001b[43mAutoreduce\u001b[49m\u001b[43m(\u001b[49m\u001b[38;5;28;43mself\u001b[39;49m\u001b[38;5;241;43m.\u001b[39;49m\u001b[43mS\u001b[49m\u001b[43m,\u001b[49m\u001b[43m \u001b[49m\u001b[43mcontext\u001b[49m\u001b[43m)\u001b[49m\n\u001b[1;32m    650\u001b[0m \u001b[38;5;28mself\u001b[39m\u001b[38;5;241m.\u001b[39mS \u001b[38;5;241m=\u001b[39m CompleteSystem(\u001b[38;5;28mself\u001b[39m\u001b[38;5;241m.\u001b[39mS, context)\n\u001b[1;32m    651\u001b[0m \u001b[38;5;28mself\u001b[39m\u001b[38;5;241m.\u001b[39mconditions \u001b[38;5;241m=\u001b[39m split_by_function(\u001b[38;5;28mself\u001b[39m\u001b[38;5;241m.\u001b[39mS, context)\n",
      "File \u001b[0;32m~/researches/delierium/src/delierium/JanetBasis.py:315\u001b[0m, in \u001b[0;36mAutoreduce\u001b[0;34m(S, context)\u001b[0m\n\u001b[1;32m    313\u001b[0m have_reduced \u001b[38;5;241m=\u001b[39m \u001b[38;5;28;01mFalse\u001b[39;00m\n\u001b[1;32m    314\u001b[0m \u001b[38;5;28;01mfor\u001b[39;00m _r \u001b[38;5;129;01min\u001b[39;00m r:\n\u001b[0;32m--> 315\u001b[0m     rnew \u001b[38;5;241m=\u001b[39m \u001b[43mreduceS\u001b[49m\u001b[43m(\u001b[49m\u001b[43m_r\u001b[49m\u001b[43m,\u001b[49m\u001b[43m \u001b[49m\u001b[43m_p\u001b[49m\u001b[43m,\u001b[49m\u001b[43m \u001b[49m\u001b[43mcontext\u001b[49m\u001b[43m)\u001b[49m\n\u001b[1;32m    316\u001b[0m     have_reduced \u001b[38;5;241m=\u001b[39m have_reduced \u001b[38;5;129;01mor\u001b[39;00m rnew \u001b[38;5;241m!=\u001b[39m _r\n\u001b[1;32m    317\u001b[0m     newdps\u001b[38;5;241m.\u001b[39mappend(rnew)\n",
      "File \u001b[0;32m~/researches/delierium/src/delierium/JanetBasis.py:268\u001b[0m, in \u001b[0;36mreduceS\u001b[0;34m(e, S, context)\u001b[0m\n\u001b[1;32m    266\u001b[0m \u001b[38;5;28;01mwhile\u001b[39;00m reducing:\n\u001b[1;32m    267\u001b[0m     \u001b[38;5;28;01mfor\u001b[39;00m dp \u001b[38;5;129;01min\u001b[39;00m gen:\n\u001b[0;32m--> 268\u001b[0m         enew \u001b[38;5;241m=\u001b[39m \u001b[43mreduce\u001b[49m\u001b[43m(\u001b[49m\u001b[43me\u001b[49m\u001b[43m,\u001b[49m\u001b[43m \u001b[49m\u001b[43mdp\u001b[49m\u001b[43m,\u001b[49m\u001b[43m \u001b[49m\u001b[43mcontext\u001b[49m\u001b[43m)\u001b[49m\n\u001b[1;32m    269\u001b[0m         \u001b[38;5;66;03m# XXX check wheter we can repalce \"==\" by 'is'\u001b[39;00m\n\u001b[1;32m    270\u001b[0m         \u001b[38;5;28;01mif\u001b[39;00m (enew \u001b[38;5;129;01mis\u001b[39;00m e) \u001b[38;5;129;01mor\u001b[39;00m (enew \u001b[38;5;241m==\u001b[39m e):\n",
      "File \u001b[0;32m~/researches/delierium/src/delierium/JanetBasis.py:303\u001b[0m, in \u001b[0;36mreduce\u001b[0;34m(e1, e2, context)\u001b[0m\n\u001b[1;32m    299\u001b[0m             \u001b[38;5;28;01mreturn\u001b[39;00m _Differential_Polynomial(\n\u001b[1;32m    300\u001b[0m                 e1\u001b[38;5;241m.\u001b[39mexpression() \u001b[38;5;241m-\u001b[39m c\u001b[38;5;241m*\u001b[39mdiff(e2\u001b[38;5;241m.\u001b[39mexpression(), \u001b[38;5;241m*\u001b[39mvariables_to_diff), \n\u001b[1;32m    301\u001b[0m                 context)\n\u001b[1;32m    302\u001b[0m     \u001b[38;5;28;01mreturn\u001b[39;00m e1\n\u001b[0;32m--> 303\u001b[0m \u001b[38;5;28;01mwhile\u001b[39;00m \u001b[38;5;129;01mnot\u001b[39;00m \u001b[38;5;28mbool\u001b[39m((_e1 \u001b[38;5;241m:=\u001b[39m \u001b[43m_reduce_inner\u001b[49m\u001b[43m(\u001b[49m\u001b[43me1\u001b[49m\u001b[43m,\u001b[49m\u001b[43m \u001b[49m\u001b[43me2\u001b[49m\u001b[43m)\u001b[49m) \u001b[38;5;241m==\u001b[39m e1):\n\u001b[1;32m    304\u001b[0m     e1 \u001b[38;5;241m=\u001b[39m _e1\n\u001b[1;32m    305\u001b[0m \u001b[38;5;28;01mreturn\u001b[39;00m _e1\n",
      "File \u001b[0;32m~/researches/delierium/src/delierium/JanetBasis.py:299\u001b[0m, in \u001b[0;36mreduce.<locals>._reduce_inner\u001b[0;34m(e1, e2)\u001b[0m\n\u001b[1;32m    297\u001b[0m             \u001b[38;5;28;01mif\u001b[39;00m dif[i] \u001b[38;5;241m!=\u001b[39m \u001b[38;5;241m0\u001b[39m:\n\u001b[1;32m    298\u001b[0m                 variables_to_diff\u001b[38;5;241m.\u001b[39mextend([context\u001b[38;5;241m.\u001b[39m_independent[i]]\u001b[38;5;241m*\u001b[39m\u001b[38;5;28mabs\u001b[39m(dif[i]))\n\u001b[0;32m--> 299\u001b[0m         \u001b[38;5;28;01mreturn\u001b[39;00m \u001b[43m_Differential_Polynomial\u001b[49m\u001b[43m(\u001b[49m\n\u001b[1;32m    300\u001b[0m \u001b[43m            \u001b[49m\u001b[43me1\u001b[49m\u001b[38;5;241;43m.\u001b[39;49m\u001b[43mexpression\u001b[49m\u001b[43m(\u001b[49m\u001b[43m)\u001b[49m\u001b[43m \u001b[49m\u001b[38;5;241;43m-\u001b[39;49m\u001b[43m \u001b[49m\u001b[43mc\u001b[49m\u001b[38;5;241;43m*\u001b[39;49m\u001b[43mdiff\u001b[49m\u001b[43m(\u001b[49m\u001b[43me2\u001b[49m\u001b[38;5;241;43m.\u001b[39;49m\u001b[43mexpression\u001b[49m\u001b[43m(\u001b[49m\u001b[43m)\u001b[49m\u001b[43m,\u001b[49m\u001b[43m \u001b[49m\u001b[38;5;241;43m*\u001b[39;49m\u001b[43mvariables_to_diff\u001b[49m\u001b[43m)\u001b[49m\u001b[43m,\u001b[49m\u001b[43m \u001b[49m\n\u001b[1;32m    301\u001b[0m \u001b[43m            \u001b[49m\u001b[43mcontext\u001b[49m\u001b[43m)\u001b[49m\n\u001b[1;32m    302\u001b[0m \u001b[38;5;28;01mreturn\u001b[39;00m e1\n",
      "File \u001b[0;32m~/researches/delierium/src/delierium/JanetBasis.py:132\u001b[0m, in \u001b[0;36m_Differential_Polynomial.__init__\u001b[0;34m(self, e, context)\u001b[0m\n\u001b[1;32m    130\u001b[0m \u001b[38;5;28mself\u001b[39m\u001b[38;5;241m.\u001b[39m_p \u001b[38;5;241m=\u001b[39m []\n\u001b[1;32m    131\u001b[0m \u001b[38;5;28;01mif\u001b[39;00m \u001b[38;5;129;01mnot\u001b[39;00m eq(\u001b[38;5;241m0\u001b[39m, e):\n\u001b[0;32m--> 132\u001b[0m     \u001b[38;5;28;43mself\u001b[39;49m\u001b[38;5;241;43m.\u001b[39;49m\u001b[43m_init\u001b[49m\u001b[43m(\u001b[49m\u001b[43me\u001b[49m\u001b[38;5;241;43m.\u001b[39;49m\u001b[43mexpand\u001b[49m\u001b[43m(\u001b[49m\u001b[43m)\u001b[49m\u001b[43m)\u001b[49m\n",
      "File \u001b[0;32m~/researches/delierium/src/delierium/JanetBasis.py:139\u001b[0m, in \u001b[0;36m_Differential_Polynomial._init\u001b[0;34m(self, e)\u001b[0m\n\u001b[1;32m    137\u001b[0m     \u001b[38;5;28mself\u001b[39m\u001b[38;5;241m.\u001b[39m_p\u001b[38;5;241m.\u001b[39mappend(_Dterm(e, \u001b[38;5;28mself\u001b[39m\u001b[38;5;241m.\u001b[39m_context))\n\u001b[1;32m    138\u001b[0m \u001b[38;5;28;01melse\u001b[39;00m:\n\u001b[0;32m--> 139\u001b[0m     \u001b[38;5;28;01mfor\u001b[39;00m s \u001b[38;5;129;01min\u001b[39;00m \u001b[43me\u001b[49m\u001b[38;5;241;43m.\u001b[39;49m\u001b[43moperands\u001b[49m\u001b[43m(\u001b[49m\u001b[43m)\u001b[49m:\n\u001b[1;32m    140\u001b[0m         coeff, d \u001b[38;5;241m=\u001b[39m [], []\n\u001b[1;32m    141\u001b[0m         \u001b[38;5;28;01mif\u001b[39;00m is_derivative(s) \u001b[38;5;129;01mor\u001b[39;00m is_function(s):\n",
      "File \u001b[0;32msrc/cysignals/signals.pyx:310\u001b[0m, in \u001b[0;36mcysignals.signals.python_check_interrupt\u001b[0;34m()\u001b[0m\n",
      "\u001b[0;31mKeyboardInterrupt\u001b[0m: "
     ]
    }
   ],
   "source": [
    "from delierium.Infinitesimals import prolongationODE, overdeterminedSystemODE, Janet_Basis_from_ODE\n",
    "from IPython.display import Math\n",
    "from delierium.helpers import latexer\n",
    "x = var('x')\n",
    "y = function('y')\n",
    "\n",
    "d0 = y(x)\n",
    "d1 = diff(y(x), x)\n",
    "d2 = diff(y(x), x, x)\n",
    "ode = d2*d0 \\\n",
    "+ d1**2 \\\n",
    "- d1*d0/x \\\n",
    "- 1/(2*x) \\\n",
    "- 2*(x**2) * exp(-(1+2*d1*d0)/(2*x))\n",
    "\n",
    "%load_ext snakeviz\n",
    "display(Math(latexer(ode)))\n",
    "\n",
    "ods = overdeterminedSystemODE(ode, y, x)\n",
    "for _ in ods:\n",
    "    display(Math(latexer(_)))\n",
    "\n",
    "    \n",
    "%snakeviz jb = Janet_Basis_from_ODE(ode, y, x)\n",
    "for _ in jb:\n",
    "    display(Math(latexer(_)))"
   ]
  },
  {
   "cell_type": "code",
   "execution_count": null,
   "id": "67eac9f3-2963-4d97-bc57-b9e39885aa2d",
   "metadata": {},
   "outputs": [],
   "source": []
  }
 ],
 "metadata": {
  "kernelspec": {
   "display_name": "SageMath 9.8",
   "language": "sage",
   "name": "sagemath"
  },
  "language_info": {
   "codemirror_mode": {
    "name": "ipython",
    "version": 3
   },
   "file_extension": ".py",
   "mimetype": "text/x-python",
   "name": "python",
   "nbconvert_exporter": "python",
   "pygments_lexer": "ipython3",
   "version": "3.10.10"
  },
  "widgets": {
   "application/vnd.jupyter.widget-state+json": {
    "state": {},
    "version_major": 2,
    "version_minor": 0
   }
  }
 },
 "nbformat": 4,
 "nbformat_minor": 5
}
