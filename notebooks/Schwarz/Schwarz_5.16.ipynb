{
 "cells": [
  {
   "cell_type": "code",
   "execution_count": null,
   "id": "4e8fe69f-003e-49ef-ab14-964857ab2344",
   "metadata": {},
   "outputs": [
    {
     "data": {
      "text/latex": [
       "$\\displaystyle -2 x^2 e^(-y y_{x}/x - 1/2/x) + y_{x}^2 + y y_{x, x} - y y_{x}/x - 1/2/x$"
      ],
      "text/plain": [
       "<IPython.core.display.Math object>"
      ]
     },
     "metadata": {},
     "output_type": "display_data"
    },
    {
     "name": "stdout",
     "output_type": "stream",
     "text": [
      "=====>e=-2*Y*x*e^(-Y*diff(y(x), x)/x - 1/2/x)*diff(xi(Y, x), Y) + Y*diff(phi(Y, x), Y, Y) - 2*Y*diff(xi(Y, x), Y, x) - 2*Y*diff(xi(Y, x), Y)/x - phi(Y, x)/Y + diff(phi(Y, x), Y)\n",
      "=====>d=diff(y(x), x)\n",
      "=====>e=2*Y*x*e^(-Y*diff(y(x), x)/x - 1/2/x)*diff(phi(Y, x), Y) - 6*x^2*e^(-Y*diff(y(x), x)/x - 1/2/x)*diff(xi(Y, x), Y) - 2*Y*x*e^(-Y*diff(y(x), x)/x - 1/2/x)*diff(xi(Y, x), x) + 2*x*e^(-Y*diff(y(x), x)/x - 1/2/x)*phi(Y, x) - 2*Y*e^(-Y*diff(y(x), x)/x - 1/2/x)*xi(Y, x) + 2*Y*diff(phi(Y, x), Y, x) - Y*diff(xi(Y, x), x, x) - Y*diff(xi(Y, x), x)/x + Y*xi(Y, x)/x^2 - 3/2*diff(xi(Y, x), Y)/x + 2*diff(phi(Y, x), x)\n",
      "=====>d=diff(y(x), x)\n",
      "=====>e=2*x^2*e^(-Y*diff(y(x), x)/x - 1/2/x)*diff(phi(Y, x), Y) + 2*Y*x*e^(-Y*diff(y(x), x)/x - 1/2/x)*diff(phi(Y, x), x) - 4*x^2*e^(-Y*diff(y(x), x)/x - 1/2/x)*diff(xi(Y, x), x) + 3*diff(xi(Y, x), Y)*diff(y(x), x)^3 + 2*x^2*e^(-Y*diff(y(x), x)/x - 1/2/x)*phi(Y, x)/Y - 4*x*e^(-Y*diff(y(x), x)/x - 1/2/x)*xi(Y, x) - e^(-Y*diff(y(x), x)/x - 1/2/x)*xi(Y, x) + Y*diff(phi(Y, x), x, x) - Y*diff(phi(Y, x), x)/x + 1/2*diff(phi(Y, x), Y)/x - diff(xi(Y, x), x)/x + 1/2*phi(Y, x)/(Y*x) + 1/2*xi(Y, x)/x^2\n",
      "=====>d=diff(y(x), x)\n"
     ]
    }
   ],
   "source": [
    "from delierium.Infinitesimals import prolongationODE, overdeterminedSystemODE, Janet_Basis_from_ODE\n",
    "from IPython.display import Math\n",
    "from delierium.helpers import latexer\n",
    "x = var('x')\n",
    "y = function('y')\n",
    "\n",
    "d0 = y(x)\n",
    "d1 = diff(y(x), x)\n",
    "d2 = diff(y(x), x, x)\n",
    "ode = d2*d0 \\\n",
    "+ d1**2 \\\n",
    "- d1*d0/x \\\n",
    "- 1/(2*x) \\\n",
    "- 2*(x**2) * exp(-(1+2*d1*d0)/(2*x))\n",
    "\n",
    "%load_ext snakeviz\n",
    "\n",
    "display(Math(latexer(ode)))\n",
    "%snakeviz jb = Janet_Basis_from_ODE(ode, y, x)\n",
    "print(\"*\"*88)\n",
    "for _ in jb:\n",
    "    display(Math(latexer(_)))"
   ]
  },
  {
   "cell_type": "code",
   "execution_count": null,
   "id": "67eac9f3-2963-4d97-bc57-b9e39885aa2d",
   "metadata": {},
   "outputs": [],
   "source": []
  }
 ],
 "metadata": {
  "kernelspec": {
   "display_name": "SageMath 9.8",
   "language": "sage",
   "name": "sagemath"
  },
  "language_info": {
   "codemirror_mode": {
    "name": "ipython",
    "version": 3
   },
   "file_extension": ".py",
   "mimetype": "text/x-python",
   "name": "python",
   "nbconvert_exporter": "python",
   "pygments_lexer": "ipython3",
   "version": "3.10.10"
  },
  "widgets": {
   "application/vnd.jupyter.widget-state+json": {
    "state": {},
    "version_major": 2,
    "version_minor": 0
   }
  }
 },
 "nbformat": 4,
 "nbformat_minor": 5
}
