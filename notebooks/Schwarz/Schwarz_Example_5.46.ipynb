{
 "cells": [
  {
   "cell_type": "code",
   "execution_count": 4,
   "id": "61820ebc-9944-42e4-b863-ee74c7da5dc9",
   "metadata": {},
   "outputs": [],
   "source": [
    "from anytree import Node, RenderTree, AnyNode, NodeMixin, PreOrderIter\n",
    "import sage.all\n",
    "import functools\n",
    "from sage.calculus.var import var, function\n",
    "from sage.calculus.functional import diff\n",
    "from sage.symbolic.operators import FDerivativeOperator\n",
    "from functools import reduce\n",
    "from operator import __mul__\n",
    "import more_itertools\n",
    "import re\n",
    "from sage.misc.html import html\n",
    "from IPython.core.debugger import set_trace\n",
    "import sys\n",
    "import os\n",
    "sys.path.append(os.path.abspath(\"../../\"))\n",
    "import sage.symbolic.operators\n",
    "from sage.graphs.graph import Graph\n",
    "from sage.symbolic.expression import Expression\n",
    "from IPython.display import Math\n",
    "from sage.all import *\n",
    "\n",
    "\n",
    "from sage.all import *\n",
    "from delierium.helpers import latexer\n",
    "from delierium.MatrixOrder import Context, Mgrlex, Mgrevlex, Mlex\n",
    "from delierium.JanetBasis import Janet_Basis\n",
    "from delierium.helpers import latexer, ExpressionTree\n",
    "from delierium.Infinitesimals import prolongationODE\n",
    "from IPython.display import Math"
   ]
  },
  {
   "cell_type": "code",
   "execution_count": 5,
   "id": "4565e803-f930-4496-84e0-7e0686f589c9",
   "metadata": {},
   "outputs": [],
   "source": [
    "x = var (\"x\")\n",
    "y = function(\"y\")(x)\n",
    "\n",
    "d0 = y\n",
    "d1 = diff(y, x)\n",
    "d2 = diff(y, x, 2)\n",
    "d3 = diff(y, x, 3)\n",
    "eq = d3*d1*d0 \\\n",
    "+ d3*(0**2)/x \\\n",
    "- 3*(2**2)*d0 \\\n",
    "- x*d2*(d1**2)*d0 \\\n",
    "+ 3*d2*d1**2 \\\n",
    "- 2*d2*d1*d0**2 \\\n",
    "- 12*d2*d1*d0/x \\\n",
    "- d2*(d0**3)/x \\\n",
    "- 3*d2*d0**2/x**2 \\\n",
    "+ 2*x*d1**4 \\\n",
    "+ 3*(d1**3)*d0 \\\n",
    "+ 15*d1**3/x - d1**2*d0**2 \\\n",
    "- 3*d1**2*d0/x**2 \\\n",
    "- 3*d1*d1**3/x**2 \\\n",
    "- 9*d1*d0**2/x**3 \\\n",
    "- d0**4/x**3 \\\n",
    "- 3*y**3/x**4"
   ]
  },
  {
   "cell_type": "code",
   "execution_count": 6,
   "id": "28e85aae-9251-4c70-ae8d-1366da270af9",
   "metadata": {},
   "outputs": [
    {
     "data": {
      "text/html": [
       "<html>\\(\\displaystyle 2 \\, x \\frac{\\partial}{\\partial x}y\\left(x\\right)^{4} - x y\\left(x\\right) \\frac{\\partial}{\\partial x}y\\left(x\\right)^{2} \\frac{\\partial^{2}}{(\\partial x)^{2}}y\\left(x\\right) - y\\left(x\\right)^{2} \\frac{\\partial}{\\partial x}y\\left(x\\right)^{2} + 3 \\, y\\left(x\\right) \\frac{\\partial}{\\partial x}y\\left(x\\right)^{3} - 2 \\, y\\left(x\\right)^{2} \\frac{\\partial}{\\partial x}y\\left(x\\right) \\frac{\\partial^{2}}{(\\partial x)^{2}}y\\left(x\\right) - \\frac{y\\left(x\\right)^{3} \\frac{\\partial^{2}}{(\\partial x)^{2}}y\\left(x\\right)}{x} + 3 \\, \\frac{\\partial}{\\partial x}y\\left(x\\right)^{2} \\frac{\\partial^{2}}{(\\partial x)^{2}}y\\left(x\\right) + y\\left(x\\right) \\frac{\\partial}{\\partial x}y\\left(x\\right) \\frac{\\partial^{3}}{(\\partial x)^{3}}y\\left(x\\right) + \\frac{15 \\, \\frac{\\partial}{\\partial x}y\\left(x\\right)^{3}}{x} - \\frac{3 \\, \\frac{\\partial}{\\partial x}y\\left(x\\right)^{4}}{x^{2}} - \\frac{12 \\, y\\left(x\\right) \\frac{\\partial}{\\partial x}y\\left(x\\right) \\frac{\\partial^{2}}{(\\partial x)^{2}}y\\left(x\\right)}{x} - \\frac{y\\left(x\\right)^{4}}{x^{3}} - \\frac{3 \\, y\\left(x\\right) \\frac{\\partial}{\\partial x}y\\left(x\\right)^{2}}{x^{2}} - \\frac{3 \\, y\\left(x\\right)^{2} \\frac{\\partial^{2}}{(\\partial x)^{2}}y\\left(x\\right)}{x^{2}} - \\frac{9 \\, y\\left(x\\right)^{2} \\frac{\\partial}{\\partial x}y\\left(x\\right)}{x^{3}} - \\frac{3 \\, y\\left(x\\right)^{3}}{x^{4}} - 12 \\, y\\left(x\\right)\\)</html>"
      ],
      "text/latex": [
       "$\\displaystyle 2 \\, x \\frac{\\partial}{\\partial x}y\\left(x\\right)^{4} - x y\\left(x\\right) \\frac{\\partial}{\\partial x}y\\left(x\\right)^{2} \\frac{\\partial^{2}}{(\\partial x)^{2}}y\\left(x\\right) - y\\left(x\\right)^{2} \\frac{\\partial}{\\partial x}y\\left(x\\right)^{2} + 3 \\, y\\left(x\\right) \\frac{\\partial}{\\partial x}y\\left(x\\right)^{3} - 2 \\, y\\left(x\\right)^{2} \\frac{\\partial}{\\partial x}y\\left(x\\right) \\frac{\\partial^{2}}{(\\partial x)^{2}}y\\left(x\\right) - \\frac{y\\left(x\\right)^{3} \\frac{\\partial^{2}}{(\\partial x)^{2}}y\\left(x\\right)}{x} + 3 \\, \\frac{\\partial}{\\partial x}y\\left(x\\right)^{2} \\frac{\\partial^{2}}{(\\partial x)^{2}}y\\left(x\\right) + y\\left(x\\right) \\frac{\\partial}{\\partial x}y\\left(x\\right) \\frac{\\partial^{3}}{(\\partial x)^{3}}y\\left(x\\right) + \\frac{15 \\, \\frac{\\partial}{\\partial x}y\\left(x\\right)^{3}}{x} - \\frac{3 \\, \\frac{\\partial}{\\partial x}y\\left(x\\right)^{4}}{x^{2}} - \\frac{12 \\, y\\left(x\\right) \\frac{\\partial}{\\partial x}y\\left(x\\right) \\frac{\\partial^{2}}{(\\partial x)^{2}}y\\left(x\\right)}{x} - \\frac{y\\left(x\\right)^{4}}{x^{3}} - \\frac{3 \\, y\\left(x\\right) \\frac{\\partial}{\\partial x}y\\left(x\\right)^{2}}{x^{2}} - \\frac{3 \\, y\\left(x\\right)^{2} \\frac{\\partial^{2}}{(\\partial x)^{2}}y\\left(x\\right)}{x^{2}} - \\frac{9 \\, y\\left(x\\right)^{2} \\frac{\\partial}{\\partial x}y\\left(x\\right)}{x^{3}} - \\frac{3 \\, y\\left(x\\right)^{3}}{x^{4}} - 12 \\, y\\left(x\\right)$"
      ],
      "text/plain": [
       "2*x*diff(y(x), x)^4 - x*y(x)*diff(y(x), x)^2*diff(y(x), x, x) - y(x)^2*diff(y(x), x)^2 + 3*y(x)*diff(y(x), x)^3 - 2*y(x)^2*diff(y(x), x)*diff(y(x), x, x) - y(x)^3*diff(y(x), x, x)/x + 3*diff(y(x), x)^2*diff(y(x), x, x) + y(x)*diff(y(x), x)*diff(y(x), x, x, x) + 15*diff(y(x), x)^3/x - 3*diff(y(x), x)^4/x^2 - 12*y(x)*diff(y(x), x)*diff(y(x), x, x)/x - y(x)^4/x^3 - 3*y(x)*diff(y(x), x)^2/x^2 - 3*y(x)^2*diff(y(x), x, x)/x^2 - 9*y(x)^2*diff(y(x), x)/x^3 - 3*y(x)^3/x^4 - 12*y(x)"
      ]
     },
     "metadata": {},
     "output_type": "display_data"
    }
   ],
   "source": [
    "eq.show()\n",
    "g=ExpressionTree(eq)"
   ]
  },
  {
   "cell_type": "code",
   "execution_count": 7,
   "id": "3562a331-a0be-4c51-8178-1ab164d85dea",
   "metadata": {},
   "outputs": [],
   "source": [
    "p = prolongationODE"
   ]
  },
  {
   "cell_type": "code",
   "execution_count": 8,
   "id": "b9d53650-4127-42b1-b2b3-639f220567a2",
   "metadata": {},
   "outputs": [
    {
     "ename": "NameError",
     "evalue": "name 'funcs' is not defined",
     "output_type": "error",
     "traceback": [
      "\u001b[0;31m---------------------------------------------------------------------------\u001b[0m",
      "\u001b[0;31mNameError\u001b[0m                                 Traceback (most recent call last)",
      "Cell \u001b[0;32mIn[8], line 1\u001b[0m\n\u001b[0;32m----> 1\u001b[0m \u001b[43mfuncs\u001b[49m\n",
      "\u001b[0;31mNameError\u001b[0m: name 'funcs' is not defined"
     ]
    }
   ],
   "source": [
    "funcs"
   ]
  },
  {
   "cell_type": "code",
   "execution_count": null,
   "id": "e6135da5-28c8-43f5-8a8a-77b02c11992b",
   "metadata": {},
   "outputs": [],
   "source": [
    "_d=set([_.value for _ in diffs])"
   ]
  },
  {
   "cell_type": "code",
   "execution_count": null,
   "id": "7b5ea0b9-5d9a-44dc-845e-25c25eab4e0a",
   "metadata": {},
   "outputs": [],
   "source": [
    "_d"
   ]
  },
  {
   "cell_type": "code",
   "execution_count": null,
   "id": "0c070c32-198d-400f-83fe-d3e0a87ab226",
   "metadata": {},
   "outputs": [],
   "source": []
  },
  {
   "cell_type": "code",
   "execution_count": null,
   "id": "defa1303-d191-4f17-889a-b5a2ac7be0c5",
   "metadata": {},
   "outputs": [],
   "source": [
    "t"
   ]
  },
  {
   "cell_type": "code",
   "execution_count": null,
   "id": "dff1d6c5-478f-4d1f-b731-58c622710608",
   "metadata": {},
   "outputs": [],
   "source": [
    "_f = set([_.value for _ in funcs])"
   ]
  },
  {
   "cell_type": "code",
   "execution_count": null,
   "id": "790d7008-0f07-42a2-8752-b0b476b89707",
   "metadata": {},
   "outputs": [],
   "source": [
    "_f"
   ]
  },
  {
   "cell_type": "code",
   "execution_count": null,
   "id": "d36b4184-6989-4f85-a5d3-8a2dbe861ced",
   "metadata": {},
   "outputs": [],
   "source": [
    "_p = set([_.value for _ in powers])"
   ]
  },
  {
   "cell_type": "code",
   "execution_count": null,
   "id": "40663202-2fde-45d6-8630-be28bebfab18",
   "metadata": {},
   "outputs": [],
   "source": [
    "_p"
   ]
  },
  {
   "cell_type": "code",
   "execution_count": null,
   "id": "164be543-2922-4c11-bffd-18c145e421a0",
   "metadata": {},
   "outputs": [],
   "source": []
  }
 ],
 "metadata": {
  "kernelspec": {
   "display_name": "SageMath 9.8",
   "language": "sage",
   "name": "sagemath"
  },
  "language_info": {
   "codemirror_mode": {
    "name": "ipython",
    "version": 3
   },
   "file_extension": ".py",
   "mimetype": "text/x-python",
   "name": "python",
   "nbconvert_exporter": "python",
   "pygments_lexer": "ipython3",
   "version": "3.9.16"
  },
  "widgets": {
   "application/vnd.jupyter.widget-state+json": {
    "state": {},
    "version_major": 2,
    "version_minor": 0
   }
  }
 },
 "nbformat": 4,
 "nbformat_minor": 5
}
