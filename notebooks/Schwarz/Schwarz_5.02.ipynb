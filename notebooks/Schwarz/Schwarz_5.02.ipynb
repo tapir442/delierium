{
 "cells": [
  {
   "cell_type": "code",
   "execution_count": 16,
   "id": "545ab148",
   "metadata": {},
   "outputs": [],
   "source": [
    "from delierium.Infinitesimals import prolongationODE, overdeterminedSystemODE, Janet_Basis_from_ODE\n",
    "from delierium.JanetBasis import Janet_Basis\n",
    "from delierium.MatrixOrder import Context\n",
    "from delierium.helpers import latexer\n",
    "from sage.misc.html import html\n",
    "from IPython.core.debugger import set_trace\n",
    "from IPython.display import Math"
   ]
  },
  {
   "cell_type": "code",
   "execution_count": 2,
   "id": "09a4b34a",
   "metadata": {},
   "outputs": [],
   "source": [
    "x = var('x')\n",
    "y=function('y')"
   ]
  },
  {
   "cell_type": "code",
   "execution_count": 3,
   "id": "22b129e9",
   "metadata": {},
   "outputs": [],
   "source": [
    "ode=4*diff(y(x),x,x)*y(x) - 3* (diff(y(x),x)**2)-12*(y(x)**3)"
   ]
  },
  {
   "cell_type": "code",
   "execution_count": 4,
   "id": "5b7f1d33",
   "metadata": {},
   "outputs": [],
   "source": [
    "p=prolongationODE(ode, y, x)"
   ]
  },
  {
   "cell_type": "code",
   "execution_count": 5,
   "id": "97ac90fc",
   "metadata": {},
   "outputs": [
    {
     "data": {
      "text/latex": [
       "$\\displaystyle -4 y  \\xi_{yy} y_{x}^3 + 4 y  \\phi_{yy} y_{x}^2 - 8 y  \\xi_{yx} y_{x}^2 + 6  \\xi_{y} y_{x}^3 - 12 y  \\xi_{y} y_{x} y_{x, x} - 36 \\phi y^2 + 8 y  \\phi_{yx} y_{x} - 4 y  \\xi_{xx} y_{x} - 6  \\phi_{y} y_{x}^2 + 6  \\xi_{x} y_{x}^2 + 4 y  \\phi_{y} y_{x, x} - 8 y  \\xi_{x} y_{x, x} + 4 y  \\phi_{xx} - 6  \\phi_{x} y_{x} + 4 \\phi y_{x, x}$"
      ],
      "text/plain": [
       "<IPython.core.display.Math object>"
      ]
     },
     "metadata": {},
     "output_type": "display_data"
    }
   ],
   "source": [
    "for _p in p:\n",
    "    display(Math(latexer(_p)))\n"
   ]
  },
  {
   "cell_type": "code",
   "execution_count": 6,
   "id": "89de1c73",
   "metadata": {},
   "outputs": [],
   "source": [
    "#def overdeterminedSystemODE (ode, dependent, independent):\n",
    "#    prolongation = prolongationODE(ode, dependent, independent)[0].expand()\n",
    "#    s1  = solve(ode==0, diff(dependent(independent),independent,independent))\n",
    "#    ode1= prolongation.subs({s1[0].lhs() : s1[0].rhs()}).simplify()\n",
    "#    #print((ode1))\n",
    "#    # so far it is checked manually and with mathematica\n",
    "#    l = [_ [0] for _ in ode1.coefficients(diff(dependent(independent), independent))]\n",
    "#    # remove hardcoded xi, phi\n",
    "#    return l"
   ]
  },
  {
   "cell_type": "code",
   "execution_count": 7,
   "id": "e524c658-6b1a-486e-8cb5-a6961261adc2",
   "metadata": {
    "tags": []
   },
   "outputs": [],
   "source": [
    "ode=4*diff(y(x),x,x)*y(x) - 3* diff(y(x),x)**2-12*y(x)**3\n",
    "inf = overdeterminedSystemODE(ode, y ,x)"
   ]
  },
  {
   "cell_type": "code",
   "execution_count": 8,
   "id": "4b97b763-d32d-46c6-b902-dbb0217a0e0f",
   "metadata": {},
   "outputs": [
    {
     "data": {
      "text/latex": [
       "$\\displaystyle -4 y  \\xi_{yy} + 6  \\xi_{y}$"
      ],
      "text/plain": [
       "<IPython.core.display.Math object>"
      ]
     },
     "metadata": {},
     "output_type": "display_data"
    },
    {
     "data": {
      "text/latex": [
       "$\\displaystyle 4 y  \\phi_{yy} - 8 y  \\xi_{yx} + 3 \\phi/y - 3  \\phi_{y}$"
      ],
      "text/plain": [
       "<IPython.core.display.Math object>"
      ]
     },
     "metadata": {},
     "output_type": "display_data"
    },
    {
     "data": {
      "text/latex": [
       "$\\displaystyle -36 y^3  \\xi_{y} + 8 y  \\phi_{yx} - 4 y  \\xi_{xx} - 6  \\phi_{x}$"
      ],
      "text/plain": [
       "<IPython.core.display.Math object>"
      ]
     },
     "metadata": {},
     "output_type": "display_data"
    },
    {
     "data": {
      "text/latex": [
       "$\\displaystyle 12 y^3  \\phi_{y} - 24 y^3  \\xi_{x} - 9  \\xi_{y} y_{x}^3 - 24 \\phi y^2 + 4 y  \\phi_{xx}$"
      ],
      "text/plain": [
       "<IPython.core.display.Math object>"
      ]
     },
     "metadata": {},
     "output_type": "display_data"
    }
   ],
   "source": [
    "for _ in inf:\n",
    "    display(Math(latexer(_)))"
   ]
  },
  {
   "cell_type": "code",
   "execution_count": 9,
   "id": "06996069-2d0b-415f-bb23-aa54fbf0ba5b",
   "metadata": {},
   "outputs": [
    {
     "data": {
      "text/latex": [
       "$\\displaystyle - \\xi_{yy}$"
      ],
      "text/plain": [
       "<IPython.core.display.Math object>"
      ]
     },
     "metadata": {},
     "output_type": "display_data"
    },
    {
     "data": {
      "text/latex": [
       "$\\displaystyle 2/3 y  \\xi_{y} +  \\phi_{yy} - 2  \\xi_{yx}$"
      ],
      "text/plain": [
       "<IPython.core.display.Math object>"
      ]
     },
     "metadata": {},
     "output_type": "display_data"
    },
    {
     "data": {
      "text/latex": [
       "$\\displaystyle 3 y^3  \\xi_{y} + 1/3 y  \\xi_{x} + 1/3 \\phi + 2  \\phi_{yx} -  \\xi_{xx}$"
      ],
      "text/plain": [
       "<IPython.core.display.Math object>"
      ]
     },
     "metadata": {},
     "output_type": "display_data"
    },
    {
     "data": {
      "text/latex": [
       "$\\displaystyle -y^3  \\phi_{y} + 2 y^3  \\xi_{x} + 3 \\phi y^2 + 1/3 y  \\phi_{x} +  \\phi_{xx}$"
      ],
      "text/plain": [
       "<IPython.core.display.Math object>"
      ]
     },
     "metadata": {},
     "output_type": "display_data"
    }
   ],
   "source": [
    "ode = diff(y(x),x,x)+(1/3)*y(x)*diff(y(x),x)+y(x)**3\n",
    "inf = overdeterminedSystemODE(ode, y ,x)\n",
    "for _ in inf:\n",
    "    display(Math(latexer(_)))"
   ]
  },
  {
   "cell_type": "code",
   "execution_count": 10,
   "id": "892e76c9-3867-45d9-a74f-f337229bf53a",
   "metadata": {},
   "outputs": [],
   "source": [
    "ode=diff(y(x),x,x)"
   ]
  },
  {
   "cell_type": "code",
   "execution_count": 11,
   "id": "34038f31-5026-4bf0-b72a-79aa5dc32d25",
   "metadata": {},
   "outputs": [
    {
     "data": {
      "text/latex": [
       "$\\displaystyle - \\xi_{yy}$"
      ],
      "text/plain": [
       "<IPython.core.display.Math object>"
      ]
     },
     "metadata": {},
     "output_type": "display_data"
    },
    {
     "data": {
      "text/latex": [
       "$\\displaystyle  \\phi_{yy} - 2  \\xi_{yx}$"
      ],
      "text/plain": [
       "<IPython.core.display.Math object>"
      ]
     },
     "metadata": {},
     "output_type": "display_data"
    },
    {
     "data": {
      "text/latex": [
       "$\\displaystyle 2  \\phi_{yx} -  \\xi_{xx}$"
      ],
      "text/plain": [
       "<IPython.core.display.Math object>"
      ]
     },
     "metadata": {},
     "output_type": "display_data"
    },
    {
     "data": {
      "text/latex": [
       "$\\displaystyle  \\phi_{xx}$"
      ],
      "text/plain": [
       "<IPython.core.display.Math object>"
      ]
     },
     "metadata": {},
     "output_type": "display_data"
    }
   ],
   "source": [
    "inf = overdeterminedSystemODE(ode, y ,x)\n",
    "for _ in inf:\n",
    "    display(Math(latexer(_)))"
   ]
  },
  {
   "cell_type": "code",
   "execution_count": 12,
   "id": "1e927c1d-983b-419d-a347-e07ced6c9682",
   "metadata": {},
   "outputs": [],
   "source": [
    "from delierium.helpers import latexer\n",
    "x,t = var('x t')\n",
    "u=function('u')(x,t)\n",
    "v=function('v')(x,t)\n",
    "ctx = Context([u,v],[x,t])\n",
    "jb = Janet_Basis([diff(v, t) - (u**2 +1)*diff(u, x)-u, diff(u,t)-diff(v,x)],[u,v],[x,t])"
   ]
  },
  {
   "cell_type": "code",
   "execution_count": 13,
   "id": "d7f71a02-596a-4053-b068-2857d2ebf5d5",
   "metadata": {},
   "outputs": [
    {
     "data": {
      "text/latex": [
       "$\\displaystyle u_{t}-v_{x}$"
      ],
      "text/plain": [
       "<IPython.core.display.Math object>"
      ]
     },
     "metadata": {},
     "output_type": "display_data"
    },
    {
     "data": {
      "text/latex": [
       "$\\displaystyle u_{x}-\\frac{1}{u^{2} + 1} v_{t} + \\frac{1}{u^{2} + 1} u$"
      ],
      "text/plain": [
       "<IPython.core.display.Math object>"
      ]
     },
     "metadata": {},
     "output_type": "display_data"
    },
    {
     "data": {
      "text/latex": [
       "$\\displaystyle v_{x, x}-\\frac{1}{u^{2} + 1} v_{t, t}-\\frac{2 \\, u^{2}}{u^{4} + 2 \\, u^{2} + 1} + \\frac{1}{u^{2} + 1} v_{x} + \\frac{2}{u^{4} + 2 \\, u^{2} + 1} u$"
      ],
      "text/plain": [
       "<IPython.core.display.Math object>"
      ]
     },
     "metadata": {},
     "output_type": "display_data"
    }
   ],
   "source": [
    "jb.show(rich=True)"
   ]
  },
  {
   "cell_type": "code",
   "execution_count": 14,
   "id": "588a9f26-8a9c-48d4-b998-b65892ea33ec",
   "metadata": {},
   "outputs": [],
   "source": [
    "# example 5.46\n",
    "from delierium.helpers import latexer\n",
    "from IPython.display import Math\n",
    "x = var('x')\n",
    "y = function('y')\n",
    "d3 = diff(y(x), x,3)\n",
    "d2 = diff(y(x), x,2)\n",
    "d1 = diff(y(x), x)\n",
    "d0 = y(x)\n",
    "ode = \\\n",
    "  d3 * d1 * d0 \\\n",
    "+ d3*(d0**2)/x \\\n",
    "- 3*d0*d2**2 \\\n",
    "- x *d2 * d1**2 * d0 \\\n",
    "+ 3*d2* d1**2 \\\n",
    "- 2*d2*d1*d0**2 \\\n",
    "- 12*d2*d1*d0/x \\\n",
    "- d2*d0**3/x \\\n",
    "- 3*d2*(d0**2)/(x**2) \\\n",
    "+ 2*x*d1**4 \\\n",
    "+ 3*d1**3*d0 \\\n",
    "+ 15*(d1**3)/x \\\n",
    "- ((d1*d0)**2)/x \\\n",
    "- (3* d0*d1**2)/(x**2) \\\n",
    "- (3/x**2)*d1*d0**3 \\\n",
    "- (9/x**3)*d1*d0**2\\\n",
    "- (d0**4)/(x**3) \\\n",
    "- (3/x**4)*d0**3\n"
   ]
  },
  {
   "cell_type": "code",
   "execution_count": 20,
   "id": "fcac2cef-5891-47b5-a9b4-6f332f26f908",
   "metadata": {},
   "outputs": [
    {
     "name": "stdout",
     "output_type": "stream",
     "text": [
      "The line_profiler extension is already loaded. To reload it, use:\n",
      "  %reload_ext line_profiler\n",
      "The snakeviz extension is already loaded. To reload it, use:\n",
      "  %reload_ext snakeviz\n"
     ]
    },
    {
     "data": {
      "text/latex": [
       "$\\displaystyle 2 x y_{x}^4 - x y y_{x}^2 y_{x, x} + 3 y y_{x}^3 - 2 y^2 y_{x} y_{x, x} - y^2 y_{x}^2/x - y^3 y_{x, x}/x + 3 y_{x}^2 y_{x, x} - 3 y y_{x, x}^2 + y y_{x} y_{x, x, x} - 3 y^3 y_{x}/x^2 + 15 y_{x}^3/x - 12 y y_{x} y_{x, x}/x + y^2 y_{x, x, x}/x - y^4/x^3 - 3 y y_{x}^2/x^2 - 3 y^2 y_{x, x}/x^2 - 9 y^2 y_{x}/x^3 - 3 y^3/x^4$"
      ],
      "text/plain": [
       "<IPython.core.display.Math object>"
      ]
     },
     "metadata": {},
     "output_type": "display_data"
    },
    {
     "name": "stdout",
     "output_type": "stream",
     "text": [
      ".....\n"
     ]
    },
    {
     "data": {
      "text/latex": [
       "$\\displaystyle 15 y  \\xi_{y}$"
      ],
      "text/plain": [
       "<IPython.core.display.Math object>"
      ]
     },
     "metadata": {},
     "output_type": "display_data"
    },
    {
     "data": {
      "text/latex": [
       "$\\displaystyle -15 x^4 y^2  \\xi_{y} y_{x}^2/(x^4 y y_{x} + x^3 y^2) + 6 x^4 y^2  \\phi_{y} y_{x}/(x^4 y y_{x} + x^3 y^2) - 12 x^3 y^3  \\xi_{y} y_{x}/(x^4 y y_{x} + x^3 y^2) - 12 x^4 y^2  \\xi_{x} y_{x}/(x^4 y y_{x} + x^3 y^2) + 3 x^3 y^3  \\phi_{y}/(x^4 y y_{x} + x^3 y^2) + 3 x^4 y^2  \\phi_{x}/(x^4 y y_{x} + x^3 y^2) - 9 x^3 y^3  \\xi_{x}/(x^4 y y_{x} + x^3 y^2) + 3 x^4 \\phi y y_{x}/(x^4 y y_{x} + x^3 y^2) + 6 x^3 \\phi y^2/(x^4 y y_{x} + x^3 y^2) - 3 x^2 \\xi y^3/(x^4 y y_{x} + x^3 y^2) - 6 y  \\phi_{y} - 3 y^2  \\xi_{y}/x + 12 y  \\xi_{x} - 3 \\phi$"
      ],
      "text/plain": [
       "<IPython.core.display.Math object>"
      ]
     },
     "metadata": {},
     "output_type": "display_data"
    },
    {
     "data": {
      "text/latex": [
       "$\\displaystyle 2 x^5 y^2  \\phi_{y}/(x^4 y y_{x} + x^3 y^2) - 14 x^4 y^3  \\xi_{y}/(x^4 y y_{x} + x^3 y^2) - 4 x^5 y^2  \\xi_{x}/(x^4 y y_{x} + x^3 y^2) + x^5 \\phi y/(x^4 y y_{x} + x^3 y^2) - 6 x^4 y  \\phi_{y}/(x^4 y y_{x} + x^3 y^2) - 48 x^3 y^2  \\xi_{y}/(x^4 y y_{x} + x^3 y^2) + 12 x^4 y  \\xi_{x}/(x^4 y y_{x} + x^3 y^2) - 3 x^4 \\phi/(x^4 y y_{x} + x^3 y^2) + 5 x y  \\xi_{y} - 15  \\xi_{y}$"
      ],
      "text/plain": [
       "<IPython.core.display.Math object>"
      ]
     },
     "metadata": {},
     "output_type": "display_data"
    },
    {
     "data": {
      "text/latex": [
       "$\\displaystyle 5 x^4 y^3  \\phi_{y}/(x^4 y y_{x} + x^3 y^2) + x^5 y^2  \\phi_{x}/(x^4 y y_{x} + x^3 y^2) - 13 x^3 y^4  \\xi_{y}/(x^4 y y_{x} + x^3 y^2) - 11 x^4 y^3  \\xi_{x}/(x^4 y y_{x} + x^3 y^2) + 4 x^4 \\phi y^2/(x^4 y y_{x} + x^3 y^2) - x^3 \\xi y^3/(x^4 y y_{x} + x^3 y^2) + 21 x^3 y^2  \\phi_{y}/(x^4 y y_{x} + x^3 y^2) - 3 x^4 y  \\phi_{x}/(x^4 y y_{x} + x^3 y^2) - 63 x^2 y^3  \\xi_{y}/(x^4 y y_{x} + x^3 y^2) - 39 x^3 y^2  \\xi_{x}/(x^4 y y_{x} + x^3 y^2) + 6 x^3 \\phi y/(x^4 y y_{x} + x^3 y^2) + 3 x^2 \\xi y^2/(x^4 y y_{x} + x^3 y^2) - 3 x y  \\phi_{y} + 8 y^2  \\xi_{y} + 4 x y  \\xi_{x} - x \\phi - \\xi y - 3 y  \\phi_{yy} - 6 y^2  \\xi_{yy}/x + 3 y  \\xi_{yx} + 48 y  \\xi_{y}/x + 9  \\phi_{y} - 12  \\xi_{x}$"
      ],
      "text/plain": [
       "<IPython.core.display.Math object>"
      ]
     },
     "metadata": {},
     "output_type": "display_data"
    },
    {
     "data": {
      "text/latex": [
       "$\\displaystyle 4 x^3 y^4  \\phi_{y}/(x^4 y y_{x} + x^3 y^2) + 2 x^4 y^3  \\phi_{x}/(x^4 y y_{x} + x^3 y^2) - 4 x^2 y^5  \\xi_{y}/(x^4 y y_{x} + x^3 y^2) - 10 x^3 y^4  \\xi_{x}/(x^4 y y_{x} + x^3 y^2) + 5 x^3 \\phi y^3/(x^4 y y_{x} + x^3 y^2) - 2 x^2 \\xi y^4/(x^4 y y_{x} + x^3 y^2) + 18 x^2 y^3  \\phi_{y}/(x^4 y y_{x} + x^3 y^2) + 12 x^3 y^2  \\phi_{x}/(x^4 y y_{x} + x^3 y^2) - 12 x y^4  \\xi_{y}/(x^4 y y_{x} + x^3 y^2) - 48 x^2 y^3  \\xi_{x}/(x^4 y y_{x} + x^3 y^2) + 27 x^2 \\phi y^2/(x^4 y y_{x} + x^3 y^2) - 12 x \\xi y^3/(x^4 y y_{x} + x^3 y^2) - 4 y^2  \\phi_{y} - 2 x y  \\phi_{x} + 3 y^3  \\xi_{y}/x + 6 y^2  \\xi_{x} - 4 \\phi y + 3 y^2  \\phi_{yy}/x - 9 y  \\phi_{yx} - 9 y^2  \\xi_{yx}/x + 3 y  \\xi_{xx} - 24 y  \\phi_{y}/x + 9 y^2  \\xi_{y}/x^2 + 36 y  \\xi_{x}/x - 12 \\phi/x + 12 \\xi y/x^2 + 6  \\phi_{x}$"
      ],
      "text/plain": [
       "<IPython.core.display.Math object>"
      ]
     },
     "metadata": {},
     "output_type": "display_data"
    },
    {
     "data": {
      "text/latex": [
       "$\\displaystyle -5 x^5 y^2  \\xi_{y} y_{x}^4/(x^4 y y_{x} + x^3 y^2) + 15 x^4 y  \\xi_{y} y_{x}^4/(x^4 y y_{x} + x^3 y^2) + x^2 y^5  \\phi_{y}/(x^4 y y_{x} + x^3 y^2) + x^3 y^4  \\phi_{x}/(x^4 y y_{x} + x^3 y^2) - 3 x^2 y^5  \\xi_{x}/(x^4 y y_{x} + x^3 y^2) + 2 x^2 \\phi y^4/(x^4 y y_{x} + x^3 y^2) - x \\xi y^5/(x^4 y y_{x} + x^3 y^2) + 3 x y^4  \\phi_{y}/(x^4 y y_{x} + x^3 y^2) + 3 x^2 y^3  \\phi_{x}/(x^4 y y_{x} + x^3 y^2) - 9 x y^4  \\xi_{x}/(x^4 y y_{x} + x^3 y^2) + 6 x \\phi y^3/(x^4 y y_{x} + x^3 y^2) - 3 \\xi y^4/(x^4 y y_{x} + x^3 y^2) - y^3  \\phi_{y}/x - 2 y^2  \\phi_{x} + 2 y^3  \\xi_{x}/x - 3 \\phi y^2/x + \\xi y^3/x^2 + 3 y^2  \\phi_{yx}/x - 6 y  \\phi_{xx} - 3 y^2  \\xi_{xx}/x - 3 y^2  \\phi_{y}/x^2 - 12 y  \\phi_{x}/x + 6 y^2  \\xi_{x}/x^2 - 6 \\phi y/x^2 + 6 \\xi y^2/x^3$"
      ],
      "text/plain": [
       "<IPython.core.display.Math object>"
      ]
     },
     "metadata": {},
     "output_type": "display_data"
    },
    {
     "data": {
      "text/latex": [
       "$\\displaystyle -4 x^5 y  \\phi_{y}/(x^4 y y_{x} + x^3 y^2) + 23 x^4 y^2  \\xi_{y}/(x^4 y y_{x} + x^3 y^2) + 8 x^5 y  \\xi_{x}/(x^4 y y_{x} + x^3 y^2) - 2 x^5 \\phi/(x^4 y y_{x} + x^3 y^2) + 75 x^3 y  \\xi_{y}/(x^4 y y_{x} + x^3 y^2) + x y  \\xi_{yy} - 8 x  \\xi_{y} - y  \\xi_{yyy} - 3  \\xi_{yy}$"
      ],
      "text/plain": [
       "<IPython.core.display.Math object>"
      ]
     },
     "metadata": {},
     "output_type": "display_data"
    },
    {
     "data": {
      "text/latex": [
       "$\\displaystyle -8 x^4 y^2  \\phi_{y}/(x^4 y y_{x} + x^3 y^2) - 2 x^5 y  \\phi_{x}/(x^4 y y_{x} + x^3 y^2) + 7 x^3 y^3  \\xi_{y}/(x^4 y y_{x} + x^3 y^2) + 18 x^4 y^2  \\xi_{x}/(x^4 y y_{x} + x^3 y^2) - 7 x^4 \\phi y/(x^4 y y_{x} + x^3 y^2) + 2 x^3 \\xi y^2/(x^4 y y_{x} + x^3 y^2) - 30 x^3 y  \\phi_{y}/(x^4 y y_{x} + x^3 y^2) + 45 x^2 y^2  \\xi_{y}/(x^4 y y_{x} + x^3 y^2) + 60 x^3 y  \\xi_{x}/(x^4 y y_{x} + x^3 y^2) - 15 x^3 \\phi/(x^4 y y_{x} + x^3 y^2) - x y  \\phi_{yy} + 2 y^2  \\xi_{yy} + 2 x y  \\xi_{yx} + 8 x  \\phi_{y} + y  \\phi_{yyy} - 9 y  \\xi_{y} - y^2  \\xi_{yyy}/x - 3 y  \\xi_{yyx} - 8 x  \\xi_{x} + 12 y  \\xi_{yy}/x - 45  \\xi_{y}/x + 2 \\xi + 3  \\phi_{yy} - 6  \\xi_{yx}$"
      ],
      "text/plain": [
       "<IPython.core.display.Math object>"
      ]
     },
     "metadata": {},
     "output_type": "display_data"
    },
    {
     "data": {
      "text/latex": [
       "$\\displaystyle -x^3 y^3  \\phi_{y}/(x^4 y y_{x} + x^3 y^2) - 3 x^4 y^2  \\phi_{x}/(x^4 y y_{x} + x^3 y^2) - 19 x^2 y^4  \\xi_{y}/(x^4 y y_{x} + x^3 y^2) + 5 x^3 y^3  \\xi_{x}/(x^4 y y_{x} + x^3 y^2) - 5 x^3 \\phi y^2/(x^4 y y_{x} + x^3 y^2) + 3 x^2 \\xi y^3/(x^4 y y_{x} + x^3 y^2) - 9 x^2 y^2  \\phi_{y}/(x^4 y y_{x} + x^3 y^2) - 15 x^3 y  \\phi_{x}/(x^4 y y_{x} + x^3 y^2) - 57 x y^3  \\xi_{y}/(x^4 y y_{x} + x^3 y^2) + 33 x^2 y^2  \\xi_{x}/(x^4 y y_{x} + x^3 y^2) - 27 x^2 \\phi y/(x^4 y y_{x} + x^3 y^2) + 15 x \\xi y^2/(x^4 y y_{x} + x^3 y^2) - 2 y^2  \\phi_{yy} - 2 x y  \\phi_{yx} + y^3  \\xi_{yy}/x + 4 y^2  \\xi_{yx} + x y  \\xi_{xx} + 9 y  \\phi_{y} + y^2  \\phi_{yyy}/x + 3 y  \\phi_{yyx} + 8 x  \\phi_{x} + 2 y^2  \\xi_{y}/x - 3 y^2  \\xi_{yyx}/x - 3 y  \\xi_{yxx} - 9 y  \\xi_{x} - 12 y  \\phi_{yy}/x + 3 y^2  \\xi_{yy}/x^2 + 24 y  \\xi_{yx}/x + 45  \\phi_{y}/x + 6 y  \\xi_{y}/x^2 - 45  \\xi_{x}/x - 15 \\xi/x^2 + 3 \\phi + 6  \\phi_{yx} - 3  \\xi_{xx}$"
      ],
      "text/plain": [
       "<IPython.core.display.Math object>"
      ]
     },
     "metadata": {},
     "output_type": "display_data"
    },
    {
     "data": {
      "text/latex": [
       "$\\displaystyle 7 x^2 y^4  \\phi_{y}/(x^4 y y_{x} + x^3 y^2) + x^3 y^3  \\phi_{x}/(x^4 y y_{x} + x^3 y^2) - 17 x y^5  \\xi_{y}/(x^4 y y_{x} + x^3 y^2) - 15 x^2 y^4  \\xi_{x}/(x^4 y y_{x} + x^3 y^2) + 5 x^2 \\phi y^3/(x^4 y y_{x} + x^3 y^2) - x \\xi y^4/(x^4 y y_{x} + x^3 y^2) + 21 x y^3  \\phi_{y}/(x^4 y y_{x} + x^3 y^2) + 3 x^2 y^2  \\phi_{x}/(x^4 y y_{x} + x^3 y^2) - 51 y^4  \\xi_{y}/(x^4 y y_{x} + x^3 y^2) - 45 x y^3  \\xi_{x}/(x^4 y y_{x} + x^3 y^2) + 15 x \\phi y^2/(x^4 y y_{x} + x^3 y^2) - 3 \\xi y^3/(x^4 y y_{x} + x^3 y^2) - y^3  \\phi_{yy}/x - 4 y^2  \\phi_{yx} - x y  \\phi_{xx} + 2 y^3  \\xi_{yx}/x + 2 y^2  \\xi_{xx} - 2 y^2  \\phi_{y}/x + 3 y^2  \\phi_{yyx}/x + 3 y  \\phi_{yxx} + 9 y  \\phi_{x} + 3 y^3  \\xi_{y}/x^2 - 3 y^2  \\xi_{yxx}/x + 2 y^2  \\xi_{x}/x - y  \\xi_{xxx} - 2 \\phi y/x + \\xi y^2/x^2 - 3 y^2  \\phi_{yy}/x^2 - 24 y  \\phi_{yx}/x + 6 y^2  \\xi_{yx}/x^2 + 12 y  \\xi_{xx}/x - 6 y  \\phi_{y}/x^2 + 45  \\phi_{x}/x + 9 y^2  \\xi_{y}/x^3 + 6 y  \\xi_{x}/x^2 - 3 \\phi/x^2 + 6 \\xi y/x^3 + 3  \\phi_{xx}$"
      ],
      "text/plain": [
       "<IPython.core.display.Math object>"
      ]
     },
     "metadata": {},
     "output_type": "display_data"
    },
    {
     "data": {
      "text/latex": [
       "$\\displaystyle 5 x y^5  \\phi_{y}/(x^4 y y_{x} + x^3 y^2) + 3 x^2 y^4  \\phi_{x}/(x^4 y y_{x} + x^3 y^2) - 4 y^6  \\xi_{y}/(x^4 y y_{x} + x^3 y^2) - 13 x y^5  \\xi_{x}/(x^4 y y_{x} + x^3 y^2) + 7 x \\phi y^4/(x^4 y y_{x} + x^3 y^2) - 3 \\xi y^5/(x^4 y y_{x} + x^3 y^2) + 15 y^4  \\phi_{y}/(x^4 y y_{x} + x^3 y^2) + 9 x y^3  \\phi_{x}/(x^4 y y_{x} + x^3 y^2) - 12 y^5  \\xi_{y}/((x^4 y y_{x} + x^3 y^2) x) - 39 y^4  \\xi_{x}/(x^4 y y_{x} + x^3 y^2) + 21 \\phi y^3/(x^4 y y_{x} + x^3 y^2) - 9 \\xi y^4/((x^4 y y_{x} + x^3 y^2) x) - 2 y^3  \\phi_{yx}/x - 2 y^2  \\phi_{xx} + y^3  \\xi_{xx}/x - 3 y^3  \\phi_{y}/x^2 + 3 y^2  \\phi_{yxx}/x - 2 y^2  \\phi_{x}/x + y  \\phi_{xxx} + 3 y^3  \\xi_{x}/x^2 - y^2  \\xi_{xxx}/x - 9 \\phi y^2/x^2 + 6 \\xi y^3/x^3 - 6 y^2  \\phi_{yx}/x^2 - 12 y  \\phi_{xx}/x + 3 y^2  \\xi_{xx}/x^2 - 9 y^2  \\phi_{y}/x^3 - 6 y  \\phi_{x}/x^2 + 9 y^2  \\xi_{x}/x^3 - 18 \\phi y/x^3 + 27 \\xi y^2/x^4$"
      ],
      "text/plain": [
       "<IPython.core.display.Math object>"
      ]
     },
     "metadata": {},
     "output_type": "display_data"
    },
    {
     "data": {
      "text/latex": [
       "$\\displaystyle 10 x^5 y  \\xi_{y} y_{x}^6/(x^4 y y_{x} + x^3 y^2) + y^6  \\phi_{y}/(x^4 y y_{x} + x^3 y^2) + x y^5  \\phi_{x}/(x^4 y y_{x} + x^3 y^2) - 3 y^6  \\xi_{x}/(x^4 y y_{x} + x^3 y^2) + 2 \\phi y^5/(x^4 y y_{x} + x^3 y^2) - \\xi y^6/((x^4 y y_{x} + x^3 y^2) x) + 3 y^5  \\phi_{y}/((x^4 y y_{x} + x^3 y^2) x) + 3 y^4  \\phi_{x}/(x^4 y y_{x} + x^3 y^2) - 9 y^5  \\xi_{x}/((x^4 y y_{x} + x^3 y^2) x) + 6 \\phi y^4/((x^4 y y_{x} + x^3 y^2) x) - 3 \\xi y^5/((x^4 y y_{x} + x^3 y^2) x^2) - y^3  \\phi_{xx}/x - 3 y^3  \\phi_{x}/x^2 + y^2  \\phi_{xxx}/x - 4 \\phi y^3/x^3 + 3 \\xi y^4/x^4 - 3 y^2  \\phi_{xx}/x^2 - 9 y^2  \\phi_{x}/x^3 - 9 \\phi y^2/x^4 + 12 \\xi y^3/x^5$"
      ],
      "text/plain": [
       "<IPython.core.display.Math object>"
      ]
     },
     "metadata": {},
     "output_type": "display_data"
    },
    {
     "name": "stdout",
     "output_type": "stream",
     "text": [
      " \n",
      "*** Profile stats marshalled to file '/home/tapir/tmp/tmpzyz_pp9j'.\n",
      "Embedding SnakeViz in this document...\n"
     ]
    },
    {
     "data": {
      "text/html": [
       "\n",
       "<iframe id='snakeviz-472edb92-a172-11ed-9e76-9094e4f6e861' frameborder=0 seamless width='100%' height='1000'></iframe>\n",
       "<script>document.getElementById(\"snakeviz-472edb92-a172-11ed-9e76-9094e4f6e861\").setAttribute(\"src\", \"http://\" + document.location.hostname + \":8080/snakeviz/%2Fhome%2Ftapir%2Ftmp%2Ftmpzyz_pp9j\")</script>\n"
      ],
      "text/plain": [
       "<IPython.core.display.HTML object>"
      ]
     },
     "metadata": {},
     "output_type": "display_data"
    }
   ],
   "source": [
    "%load_ext line_profiler\n",
    "%load_ext snakeviz\n",
    "display(Math(latexer(ode)))\n",
    "inf = overdeterminedSystemODE(ode, y ,x)\n",
    "print(\".....\")\n",
    "for _ in inf:\n",
    "    display(Math(latexer(_)))\n",
    "%snakeviz inf=Janet_Basis_from_ODE(ode, y, x)"
   ]
  },
  {
   "cell_type": "code",
   "execution_count": 18,
   "id": "69889d96-77ed-425d-93b0-22f39551caaf",
   "metadata": {},
   "outputs": [
    {
     "data": {
      "text/latex": [
       "$\\displaystyle phi$"
      ],
      "text/plain": [
       "<IPython.core.display.Math object>"
      ]
     },
     "metadata": {},
     "output_type": "display_data"
    },
    {
     "data": {
      "text/latex": [
       "$\\displaystyle xi$"
      ],
      "text/plain": [
       "<IPython.core.display.Math object>"
      ]
     },
     "metadata": {},
     "output_type": "display_data"
    }
   ],
   "source": [
    "for _ in inf:\n",
    "    display(Math(latexer(_)))"
   ]
  },
  {
   "cell_type": "code",
   "execution_count": null,
   "id": "a55ddcfe-fb77-42cc-85ea-f783865348e3",
   "metadata": {},
   "outputs": [],
   "source": []
  }
 ],
 "metadata": {
  "kernelspec": {
   "display_name": "SageMath 9.7",
   "language": "sage",
   "name": "sagemath"
  },
  "language_info": {
   "codemirror_mode": {
    "name": "ipython",
    "version": 3
   },
   "file_extension": ".py",
   "mimetype": "text/x-python",
   "name": "python",
   "nbconvert_exporter": "python",
   "pygments_lexer": "ipython3",
   "version": "3.10.8"
  },
  "widgets": {
   "application/vnd.jupyter.widget-state+json": {
    "state": {},
    "version_major": 2,
    "version_minor": 0
   }
  }
 },
 "nbformat": 4,
 "nbformat_minor": 5
}
