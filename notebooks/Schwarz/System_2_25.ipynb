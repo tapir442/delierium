{
 "cells": [
  {
   "cell_type": "code",
   "execution_count": 1,
   "id": "b39e2f41-3eb2-447d-b7e3-ac83b0d9ee73",
   "metadata": {},
   "outputs": [],
   "source": [
    "import sage.all\n",
    "from delierium.matrix_order import Context, Mgrlex, Mgrevlex, Mlex\n",
    "from delierium.JanetBasis import Janet_Basis, _Differential_Polynomial\n",
    "from delierium.helpers import latexer\n",
    "from IPython.display import Math\n",
    "\n",
    "import time\n",
    "%load_ext snakeviz\n",
    "\n",
    "vars = var (\"x y\")\n",
    "z = function(\"z\")(*vars)\n",
    "w = function(\"w\")(*vars)\n",
    "# ctx: items are in descending order\n",
    "ctx_grevlex_g = Context((w,z), vars, Mgrevlex)\n",
    "ctx_grlex_g   = Context((w,z), vars, Mgrlex)\n",
    "ctx_lex_g     = Context((w,z), vars, Mlex)\n",
    "\n",
    "g1 = diff(z, y,y) + diff(z,y)/(2*y)\n",
    "g2 = diff(w,x,x) + 4*diff(w,y)*y**2 - 8*(y**2) * diff(z,x) - 8*w*y\n",
    "g3 = diff(w,x,y) - diff(z,x,x)/2 - diff(w,x)/(2*y) - 6* (y**2) * diff(z,y)\n",
    "g4 = diff(w,y,y) - 2*diff(z,x,y) - diff(w,y)/(2*y) + w/(2*y**2)\n",
    "\n",
    "system_2_25 = [g2,g3,g4,g1]"
   ]
  },
  {
   "cell_type": "code",
   "execution_count": null,
   "id": "63f7f783-5626-4c8b-ac78-cb23421fddb3",
   "metadata": {},
   "outputs": [
    {
     "name": "stdout",
     "output_type": "stream",
     "text": [
      "This is where we start\n",
      "[diff(z(x, y), y, y), diff(z(x, y), y)]\n",
      "[diff(w(x, y), y, y), diff(z(x, y), x, y), diff(w(x, y), y), w(x, y)]\n",
      "[diff(w(x, y), x, y), diff(z(x, y), x, x), diff(w(x, y), x), diff(z(x, y), y)]\n",
      "[diff(w(x, y), x, x), diff(w(x, y), y), diff(z(x, y), x), w(x, y)]\n",
      "after autoreduce\n",
      "[diff(z(x, y), y, y), diff(z(x, y), y)]\n",
      "[diff(w(x, y), y, y), diff(z(x, y), x, y), diff(w(x, y), y), w(x, y)]\n",
      "[diff(w(x, y), x, y), diff(z(x, y), x, x), diff(w(x, y), x), diff(z(x, y), y)]\n",
      "[diff(w(x, y), x, x), diff(w(x, y), y), diff(z(x, y), x), w(x, y)]\n",
      "> \u001b[0;32m/home/tapir/research-disk/delierium/src/delierium/JanetBasis.py\u001b[0m(621)\u001b[0;36mcomplete\u001b[0;34m()\u001b[0m\n",
      "\u001b[0;32m    619 \u001b[0;31m        \u001b[0;32mfor\u001b[0m \u001b[0m_to\u001b[0m \u001b[0;32min\u001b[0m \u001b[0mto_remove\u001b[0m\u001b[0;34m:\u001b[0m\u001b[0;34m\u001b[0m\u001b[0;34m\u001b[0m\u001b[0m\n",
      "\u001b[0m\u001b[0;32m    620 \u001b[0;31m            \u001b[0mset_trace\u001b[0m\u001b[0;34m(\u001b[0m\u001b[0;34m)\u001b[0m\u001b[0;34m\u001b[0m\u001b[0;34m\u001b[0m\u001b[0m\n",
      "\u001b[0m\u001b[0;32m--> 621 \u001b[0;31m            \u001b[0;32mtry\u001b[0m\u001b[0;34m:\u001b[0m\u001b[0;34m\u001b[0m\u001b[0;34m\u001b[0m\u001b[0m\n",
      "\u001b[0m\u001b[0;32m    622 \u001b[0;31m                \u001b[0mm0\u001b[0m\u001b[0;34m.\u001b[0m\u001b[0mremove\u001b[0m\u001b[0;34m(\u001b[0m\u001b[0m_to\u001b[0m\u001b[0;34m)\u001b[0m\u001b[0;34m\u001b[0m\u001b[0;34m\u001b[0m\u001b[0m\n",
      "\u001b[0m\u001b[0;32m    623 \u001b[0;31m            \u001b[0;32mexcept\u001b[0m\u001b[0;34m:\u001b[0m\u001b[0;34m\u001b[0m\u001b[0;34m\u001b[0m\u001b[0m\n",
      "\u001b[0m\n"
     ]
    }
   ],
   "source": [
    "start=time.time()\n",
    "ordering = Mgrevlex\n",
    "jb=Janet_Basis(system_2_25, [w, z], [x,y], ordering)\n",
    "jb.show(rich=False, short=True)\n",
    "print(time.time() - start)\n",
    "print(\"=\"*150)\n",
    "start=time.time()\n",
    "jb=Janet_Basis(system_2_25, [z, w], [x,y], ordering)\n",
    "jb.show(rich=False, short=True)\n",
    "print(time.time() - start)\n",
    "print(\"=\"*150)\n",
    "start=time.time()\n",
    "jb=Janet_Basis(system_2_25, [w, z], [y, x], ordering)\n",
    "jb.show(rich=False, short=True)\n",
    "print(time.time() - start)\n",
    "print(\"=\"*150)\n",
    "jb=Janet_Basis(system_2_25, [z, w], [y, x], ordering)\n",
    "jb.show(rich=False, short=True)\n",
    "print(time.time() - start)\n",
    "print(\"=\"*150)\n",
    "\n"
   ]
  },
  {
   "cell_type": "code",
   "execution_count": null,
   "id": "900edc2a-aa03-4ce7-a0b2-2459065ecfcf",
   "metadata": {},
   "outputs": [],
   "source": []
  }
 ],
 "metadata": {
  "kernelspec": {
   "display_name": "SageMath 10.2",
   "language": "sage",
   "name": "sagemath"
  },
  "language_info": {
   "codemirror_mode": {
    "name": "ipython",
    "version": 3
   },
   "file_extension": ".py",
   "mimetype": "text/x-python",
   "name": "python",
   "nbconvert_exporter": "python",
   "pygments_lexer": "ipython3",
   "version": "3.11.10"
  },
  "widgets": {
   "application/vnd.jupyter.widget-state+json": {
    "state": {},
    "version_major": 2,
    "version_minor": 0
   }
  }
 },
 "nbformat": 4,
 "nbformat_minor": 5
}
