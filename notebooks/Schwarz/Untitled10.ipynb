{
 "cells": [
  {
   "cell_type": "code",
   "execution_count": 2,
   "id": "5b6709ac-8487-40be-a374-c9db6b2bc060",
   "metadata": {},
   "outputs": [],
   "source": [
    "x, y = var(\"x y\")"
   ]
  },
  {
   "cell_type": "code",
   "execution_count": 3,
   "id": "5699c396-8da8-430c-914d-1f1d53d8c134",
   "metadata": {},
   "outputs": [
    {
     "data": {
      "text/plain": [
       "(2*(x^2 + y)/x - 1/y)/(2*(x^2 + y)*y/x - 1) - 1/y"
      ]
     },
     "execution_count": 3,
     "metadata": {},
     "output_type": "execute_result"
    }
   ],
   "source": [
    "(2*(x^2 + y)/x - 1/y)/(2*(x^2 + y)*y/x - 1) - 1/y"
   ]
  },
  {
   "cell_type": "code",
   "execution_count": 4,
   "id": "0c587275-a27b-4003-a0c7-15813a00ba38",
   "metadata": {},
   "outputs": [
    {
     "name": "stderr",
     "output_type": "stream",
     "text": [
      "UsageError: Line magic function `%.expand()` not found.\n"
     ]
    }
   ],
   "source": [
    "%.expand()"
   ]
  },
  {
   "cell_type": "code",
   "execution_count": 8,
   "id": "7bcfa021-0099-4909-aa12-a1d88485f0ee",
   "metadata": {},
   "outputs": [
    {
     "data": {
      "text/plain": [
       "(2*(x^2 + y)/x - 1/y)/(2*(x^2 + y)*y/x - 1) - 1/y"
      ]
     },
     "execution_count": 8,
     "metadata": {},
     "output_type": "execute_result"
    }
   ],
   "source": [
    "((2*(x^2 + y)/x - 1/y)/(2*(x^2 + y)*y/x - 1) - 1/y).simplify()"
   ]
  },
  {
   "cell_type": "code",
   "execution_count": 7,
   "id": "b505c9ea-e859-4632-aa45-4367e30d0082",
   "metadata": {},
   "outputs": [
    {
     "data": {
      "text/plain": [
       "(2*(x^2 + y)/x - 1/y)/(2*(x^2 + y)*y/x - 1) - 1/y == 0"
      ]
     },
     "execution_count": 7,
     "metadata": {},
     "output_type": "execute_result"
    }
   ],
   "source": [
    "(2*(x^2 + y)/x - 1/y)/(2*(x^2 + y)*y/x - 1) - 1/y == 0"
   ]
  },
  {
   "cell_type": "code",
   "execution_count": 10,
   "id": "92b0e9cd-d857-4b6e-b479-715203d2b36d",
   "metadata": {},
   "outputs": [
    {
     "data": {
      "text/plain": [
       "True"
      ]
     },
     "execution_count": 10,
     "metadata": {},
     "output_type": "execute_result"
    }
   ],
   "source": [
    "((2*(x^2 + y)/x - 1/y)/(2*(x^2 + y)*y/x - 1) - 1/y).is_zero()"
   ]
  },
  {
   "cell_type": "code",
   "execution_count": 1,
   "id": "621a37bf-d7af-4eed-b9c2-1a26532843b1",
   "metadata": {},
   "outputs": [
    {
     "data": {
      "text/plain": [
       "<class 'sage.rings.integer.Integer'>"
      ]
     },
     "execution_count": 1,
     "metadata": {},
     "output_type": "execute_result"
    }
   ],
   "source": [
    "type(200)"
   ]
  },
  {
   "cell_type": "code",
   "execution_count": 3,
   "id": "179a7694-0237-418b-9300-c28d518c311d",
   "metadata": {},
   "outputs": [],
   "source": [
    "f=(2*(x^2 + y)/x - 1/y)/(2*(x^2 + y)*y/x - 1) - 1/y"
   ]
  },
  {
   "cell_type": "code",
   "execution_count": 7,
   "id": "95378f71-4780-42b9-8f94-f79a92936435",
   "metadata": {},
   "outputs": [
    {
     "data": {
      "text/plain": [
       "-2*(2*(x^2 + y)/x - 1/y)*((x^2 + y)/x + y/x)/(2*(x^2 + y)*y/x - 1)^2 + (2/x + 1/y^2)/(2*(x^2 + y)*y/x - 1) + 1/y^2"
      ]
     },
     "execution_count": 7,
     "metadata": {},
     "output_type": "execute_result"
    }
   ],
   "source": [
    "diff(f, y, 1)"
   ]
  },
  {
   "cell_type": "code",
   "execution_count": null,
   "id": "66b10185-db6e-413f-bbce-3f72e331e6ac",
   "metadata": {},
   "outputs": [],
   "source": []
  }
 ],
 "metadata": {
  "kernelspec": {
   "display_name": "SageMath 10.2",
   "language": "sage",
   "name": "sagemath"
  },
  "language_info": {
   "codemirror_mode": {
    "name": "ipython",
    "version": 3
   },
   "file_extension": ".py",
   "mimetype": "text/x-python",
   "name": "python",
   "nbconvert_exporter": "python",
   "pygments_lexer": "ipython3",
   "version": "3.11.7"
  }
 },
 "nbformat": 4,
 "nbformat_minor": 5
}
