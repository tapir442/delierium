{
 "cells": [
  {
   "cell_type": "code",
   "execution_count": null,
   "id": "157810f2-49ba-4968-925f-8ff714cb8731",
   "metadata": {
    "tags": []
   },
   "outputs": [
    {
     "data": {
      "text/latex": [
       "$\\displaystyle 4 y_{x}^2 + x y_{x, x} - y_{x} y_{x, x}$"
      ],
      "text/plain": [
       "<IPython.core.display.Math object>"
      ]
     },
     "metadata": {},
     "output_type": "display_data"
    },
    {
     "name": "stdout",
     "output_type": "stream",
     "text": [
      "Overdeterminedsystemode\n"
     ]
    },
    {
     "data": {
      "text/html": [
       "<html>\\(\\displaystyle -\\frac{16 \\, \\frac{\\partial}{\\partial Y}\\xi\\left(Y, x\\right)}{x} + \\frac{\\partial^{2}}{(\\partial Y)^{2}}\\xi\\left(Y, x\\right)\\)</html>"
      ],
      "text/latex": [
       "$\\displaystyle -\\frac{16 \\, \\frac{\\partial}{\\partial Y}\\xi\\left(Y, x\\right)}{x} + \\frac{\\partial^{2}}{(\\partial Y)^{2}}\\xi\\left(Y, x\\right)$"
      ],
      "text/plain": [
       "-16*diff(xi(Y, x), Y)/x + diff(xi(Y, x), Y, Y)"
      ]
     },
     "metadata": {},
     "output_type": "display_data"
    },
    {
     "data": {
      "text/html": [
       "<html>\\(\\displaystyle -x \\frac{\\partial^{2}}{(\\partial Y)^{2}}\\xi\\left(Y, x\\right) + \\frac{8 \\, \\frac{\\partial}{\\partial Y}\\phi\\left(Y, x\\right)}{x} - \\frac{12 \\, \\frac{\\partial}{\\partial x}\\xi\\left(Y, x\\right)}{x} - \\frac{\\partial^{2}}{(\\partial Y)^{2}}\\phi\\left(Y, x\\right) + 4 \\, \\frac{\\partial}{\\partial Y}\\xi\\left(Y, x\\right) + 2 \\, \\frac{\\partial^{2}}{\\partial Y\\partial x}\\xi\\left(Y, x\\right)\\)</html>"
      ],
      "text/latex": [
       "$\\displaystyle -x \\frac{\\partial^{2}}{(\\partial Y)^{2}}\\xi\\left(Y, x\\right) + \\frac{8 \\, \\frac{\\partial}{\\partial Y}\\phi\\left(Y, x\\right)}{x} - \\frac{12 \\, \\frac{\\partial}{\\partial x}\\xi\\left(Y, x\\right)}{x} - \\frac{\\partial^{2}}{(\\partial Y)^{2}}\\phi\\left(Y, x\\right) + 4 \\, \\frac{\\partial}{\\partial Y}\\xi\\left(Y, x\\right) + 2 \\, \\frac{\\partial^{2}}{\\partial Y\\partial x}\\xi\\left(Y, x\\right)$"
      ],
      "text/plain": [
       "-x*diff(xi(Y, x), Y, Y) + 8*diff(phi(Y, x), Y)/x - 12*diff(xi(Y, x), x)/x - diff(phi(Y, x), Y, Y) + 4*diff(xi(Y, x), Y) + 2*diff(xi(Y, x), Y, x)"
      ]
     },
     "metadata": {},
     "output_type": "display_data"
    },
    {
     "data": {
      "text/html": [
       "<html>\\(\\displaystyle x \\frac{\\partial^{2}}{(\\partial Y)^{2}}\\phi\\left(Y, x\\right) - 2 \\, x \\frac{\\partial^{2}}{\\partial Y\\partial x}\\xi\\left(Y, x\\right) - \\frac{4 \\, \\xi\\left(Y, x\\right)}{x} + \\frac{4 \\, \\frac{\\partial}{\\partial x}\\phi\\left(Y, x\\right)}{x} + 4 \\, \\frac{\\partial}{\\partial Y}\\phi\\left(Y, x\\right) - 2 \\, \\frac{\\partial^{2}}{\\partial Y\\partial x}\\phi\\left(Y, x\\right) + \\frac{\\partial^{2}}{(\\partial x)^{2}}\\xi\\left(Y, x\\right)\\)</html>"
      ],
      "text/latex": [
       "$\\displaystyle x \\frac{\\partial^{2}}{(\\partial Y)^{2}}\\phi\\left(Y, x\\right) - 2 \\, x \\frac{\\partial^{2}}{\\partial Y\\partial x}\\xi\\left(Y, x\\right) - \\frac{4 \\, \\xi\\left(Y, x\\right)}{x} + \\frac{4 \\, \\frac{\\partial}{\\partial x}\\phi\\left(Y, x\\right)}{x} + 4 \\, \\frac{\\partial}{\\partial Y}\\phi\\left(Y, x\\right) - 2 \\, \\frac{\\partial^{2}}{\\partial Y\\partial x}\\phi\\left(Y, x\\right) + \\frac{\\partial^{2}}{(\\partial x)^{2}}\\xi\\left(Y, x\\right)$"
      ],
      "text/plain": [
       "x*diff(phi(Y, x), Y, Y) - 2*x*diff(xi(Y, x), Y, x) - 4*xi(Y, x)/x + 4*diff(phi(Y, x), x)/x + 4*diff(phi(Y, x), Y) - 2*diff(phi(Y, x), Y, x) + diff(xi(Y, x), x, x)"
      ]
     },
     "metadata": {},
     "output_type": "display_data"
    },
    {
     "data": {
      "text/html": [
       "<html>\\(\\displaystyle 2 \\, x \\frac{\\partial^{2}}{\\partial Y\\partial x}\\phi\\left(Y, x\\right) - x \\frac{\\partial^{2}}{(\\partial x)^{2}}\\xi\\left(Y, x\\right) + 8 \\, \\frac{\\partial}{\\partial x}\\phi\\left(Y, x\\right) - \\frac{\\partial^{2}}{(\\partial x)^{2}}\\phi\\left(Y, x\\right)\\)</html>"
      ],
      "text/latex": [
       "$\\displaystyle 2 \\, x \\frac{\\partial^{2}}{\\partial Y\\partial x}\\phi\\left(Y, x\\right) - x \\frac{\\partial^{2}}{(\\partial x)^{2}}\\xi\\left(Y, x\\right) + 8 \\, \\frac{\\partial}{\\partial x}\\phi\\left(Y, x\\right) - \\frac{\\partial^{2}}{(\\partial x)^{2}}\\phi\\left(Y, x\\right)$"
      ],
      "text/plain": [
       "2*x*diff(phi(Y, x), Y, x) - x*diff(xi(Y, x), x, x) + 8*diff(phi(Y, x), x) - diff(phi(Y, x), x, x)"
      ]
     },
     "metadata": {},
     "output_type": "display_data"
    },
    {
     "data": {
      "text/html": [
       "<html>\\(\\displaystyle x \\frac{\\partial^{2}}{(\\partial x)^{2}}\\phi\\left(Y, x\\right)\\)</html>"
      ],
      "text/latex": [
       "$\\displaystyle x \\frac{\\partial^{2}}{(\\partial x)^{2}}\\phi\\left(Y, x\\right)$"
      ],
      "text/plain": [
       "x*diff(phi(Y, x), x, x)"
      ]
     },
     "metadata": {},
     "output_type": "display_data"
    },
    {
     "name": "stdout",
     "output_type": "stream",
     "text": [
      "This is where we start\n",
      "[diff(xi(Y, x), Y, Y), diff(xi(Y, x), Y)]\n",
      "[diff(phi(Y, x), x, x)]\n",
      "[diff(phi(Y, x), Y, x), diff(phi(Y, x), x, x), diff(xi(Y, x), x, x), diff(phi(Y, x), x)]\n",
      "[diff(phi(Y, x), Y, Y), diff(xi(Y, x), Y, Y), diff(xi(Y, x), Y, x), diff(phi(Y, x), Y), diff(xi(Y, x), Y), diff(xi(Y, x), x)]\n",
      "[diff(phi(Y, x), Y, Y), diff(phi(Y, x), Y, x), diff(xi(Y, x), Y, x), diff(xi(Y, x), x, x), diff(phi(Y, x), Y), diff(phi(Y, x), x), xi(Y, x)]\n",
      "after autoreduce\n",
      "[diff(phi(Y, x), x), diff(xi(Y, x), Y), diff(xi(Y, x), x), xi(Y, x)]\n",
      "[diff(phi(Y, x), Y), diff(xi(Y, x), Y), diff(xi(Y, x), x), xi(Y, x)]\n",
      "[diff(xi(Y, x), x, x), diff(xi(Y, x), Y), diff(xi(Y, x), x), diff(xi(Y, x), x), xi(Y, x)]\n",
      "[diff(xi(Y, x), Y, x), diff(xi(Y, x), Y), diff(xi(Y, x), x), xi(Y, x)]\n",
      "[diff(xi(Y, x), Y, Y), diff(xi(Y, x), Y)]\n",
      "> \u001b[0;32m/home/tapir/research-disk/delierium/src/delierium/JanetBasis.py\u001b[0m(582)\u001b[0;36mcomplete\u001b[0;34m()\u001b[0m\n",
      "\u001b[0;32m    580 \u001b[0;31m    \u001b[0mset_trace\u001b[0m\u001b[0;34m(\u001b[0m\u001b[0;34m)\u001b[0m\u001b[0;34m\u001b[0m\u001b[0;34m\u001b[0m\u001b[0m\n",
      "\u001b[0m\u001b[0;32m    581 \u001b[0;31m\u001b[0;34m\u001b[0m\u001b[0m\n",
      "\u001b[0m\u001b[0;32m--> 582 \u001b[0;31m    \u001b[0;32mwhile\u001b[0m \u001b[0;36m1\u001b[0m\u001b[0;34m:\u001b[0m\u001b[0;34m\u001b[0m\u001b[0;34m\u001b[0m\u001b[0m\n",
      "\u001b[0m\u001b[0;32m    583 \u001b[0;31m        \u001b[0mmonomials\u001b[0m \u001b[0;34m=\u001b[0m \u001b[0;34m[\u001b[0m\u001b[0;34m(\u001b[0m\u001b[0m_\u001b[0m\u001b[0;34m,\u001b[0m \u001b[0m_\u001b[0m\u001b[0;34m.\u001b[0m\u001b[0morder\u001b[0m\u001b[0;34m)\u001b[0m \u001b[0;32mfor\u001b[0m \u001b[0m_\u001b[0m \u001b[0;32min\u001b[0m \u001b[0mresult\u001b[0m\u001b[0;34m]\u001b[0m\u001b[0;34m\u001b[0m\u001b[0;34m\u001b[0m\u001b[0m\n",
      "\u001b[0m\u001b[0;32m    584 \u001b[0;31m        \u001b[0mms\u001b[0m        \u001b[0;34m=\u001b[0m \u001b[0mtuple\u001b[0m\u001b[0;34m(\u001b[0m\u001b[0;34m[\u001b[0m\u001b[0m_\u001b[0m\u001b[0;34m[\u001b[0m\u001b[0;36m1\u001b[0m\u001b[0;34m]\u001b[0m \u001b[0;32mfor\u001b[0m \u001b[0m_\u001b[0m \u001b[0;32min\u001b[0m \u001b[0mmonomials\u001b[0m\u001b[0;34m]\u001b[0m\u001b[0;34m)\u001b[0m\u001b[0;34m\u001b[0m\u001b[0;34m\u001b[0m\u001b[0m\n",
      "\u001b[0m\n"
     ]
    },
    {
     "name": "stdin",
     "output_type": "stream",
     "text": [
      "ipdb>  n\n"
     ]
    },
    {
     "name": "stdout",
     "output_type": "stream",
     "text": [
      "> \u001b[0;32m/home/tapir/research-disk/delierium/src/delierium/JanetBasis.py\u001b[0m(583)\u001b[0;36mcomplete\u001b[0;34m()\u001b[0m\n",
      "\u001b[0;32m    581 \u001b[0;31m\u001b[0;34m\u001b[0m\u001b[0m\n",
      "\u001b[0m\u001b[0;32m    582 \u001b[0;31m    \u001b[0;32mwhile\u001b[0m \u001b[0;36m1\u001b[0m\u001b[0;34m:\u001b[0m\u001b[0;34m\u001b[0m\u001b[0;34m\u001b[0m\u001b[0m\n",
      "\u001b[0m\u001b[0;32m--> 583 \u001b[0;31m        \u001b[0mmonomials\u001b[0m \u001b[0;34m=\u001b[0m \u001b[0;34m[\u001b[0m\u001b[0;34m(\u001b[0m\u001b[0m_\u001b[0m\u001b[0;34m,\u001b[0m \u001b[0m_\u001b[0m\u001b[0;34m.\u001b[0m\u001b[0morder\u001b[0m\u001b[0;34m)\u001b[0m \u001b[0;32mfor\u001b[0m \u001b[0m_\u001b[0m \u001b[0;32min\u001b[0m \u001b[0mresult\u001b[0m\u001b[0;34m]\u001b[0m\u001b[0;34m\u001b[0m\u001b[0;34m\u001b[0m\u001b[0m\n",
      "\u001b[0m\u001b[0;32m    584 \u001b[0;31m        \u001b[0mms\u001b[0m        \u001b[0;34m=\u001b[0m \u001b[0mtuple\u001b[0m\u001b[0;34m(\u001b[0m\u001b[0;34m[\u001b[0m\u001b[0m_\u001b[0m\u001b[0;34m[\u001b[0m\u001b[0;36m1\u001b[0m\u001b[0;34m]\u001b[0m \u001b[0;32mfor\u001b[0m \u001b[0m_\u001b[0m \u001b[0;32min\u001b[0m \u001b[0mmonomials\u001b[0m\u001b[0;34m]\u001b[0m\u001b[0;34m)\u001b[0m\u001b[0;34m\u001b[0m\u001b[0;34m\u001b[0m\u001b[0m\n",
      "\u001b[0m\u001b[0;32m    585 \u001b[0;31m        \u001b[0mm0\u001b[0m \u001b[0;34m=\u001b[0m \u001b[0;34m[\u001b[0m\u001b[0;34m]\u001b[0m\u001b[0;34m\u001b[0m\u001b[0;34m\u001b[0m\u001b[0m\n",
      "\u001b[0m\n"
     ]
    },
    {
     "name": "stdin",
     "output_type": "stream",
     "text": [
      "ipdb>  n\n"
     ]
    },
    {
     "name": "stdout",
     "output_type": "stream",
     "text": [
      "> \u001b[0;32m/home/tapir/research-disk/delierium/src/delierium/JanetBasis.py\u001b[0m(584)\u001b[0;36mcomplete\u001b[0;34m()\u001b[0m\n",
      "\u001b[0;32m    582 \u001b[0;31m    \u001b[0;32mwhile\u001b[0m \u001b[0;36m1\u001b[0m\u001b[0;34m:\u001b[0m\u001b[0;34m\u001b[0m\u001b[0;34m\u001b[0m\u001b[0m\n",
      "\u001b[0m\u001b[0;32m    583 \u001b[0;31m        \u001b[0mmonomials\u001b[0m \u001b[0;34m=\u001b[0m \u001b[0;34m[\u001b[0m\u001b[0;34m(\u001b[0m\u001b[0m_\u001b[0m\u001b[0;34m,\u001b[0m \u001b[0m_\u001b[0m\u001b[0;34m.\u001b[0m\u001b[0morder\u001b[0m\u001b[0;34m)\u001b[0m \u001b[0;32mfor\u001b[0m \u001b[0m_\u001b[0m \u001b[0;32min\u001b[0m \u001b[0mresult\u001b[0m\u001b[0;34m]\u001b[0m\u001b[0;34m\u001b[0m\u001b[0;34m\u001b[0m\u001b[0m\n",
      "\u001b[0m\u001b[0;32m--> 584 \u001b[0;31m        \u001b[0mms\u001b[0m        \u001b[0;34m=\u001b[0m \u001b[0mtuple\u001b[0m\u001b[0;34m(\u001b[0m\u001b[0;34m[\u001b[0m\u001b[0m_\u001b[0m\u001b[0;34m[\u001b[0m\u001b[0;36m1\u001b[0m\u001b[0;34m]\u001b[0m \u001b[0;32mfor\u001b[0m \u001b[0m_\u001b[0m \u001b[0;32min\u001b[0m \u001b[0mmonomials\u001b[0m\u001b[0;34m]\u001b[0m\u001b[0;34m)\u001b[0m\u001b[0;34m\u001b[0m\u001b[0;34m\u001b[0m\u001b[0m\n",
      "\u001b[0m\u001b[0;32m    585 \u001b[0;31m        \u001b[0mm0\u001b[0m \u001b[0;34m=\u001b[0m \u001b[0;34m[\u001b[0m\u001b[0;34m]\u001b[0m\u001b[0;34m\u001b[0m\u001b[0;34m\u001b[0m\u001b[0m\n",
      "\u001b[0m\u001b[0;32m    586 \u001b[0;31m\u001b[0;34m\u001b[0m\u001b[0m\n",
      "\u001b[0m\n"
     ]
    },
    {
     "name": "stdin",
     "output_type": "stream",
     "text": [
      "ipdb>  pp monomials\n"
     ]
    },
    {
     "name": "stdout",
     "output_type": "stream",
     "text": [
      "[(<delierium.JanetBasis._Differential_Polynomial object at 0x7873b5d54a50>,\n",
      "  [0, 1]),\n",
      " (<delierium.JanetBasis._Differential_Polynomial object at 0x7873b05bba90>,\n",
      "  [1, 0])]\n"
     ]
    },
    {
     "name": "stdin",
     "output_type": "stream",
     "text": [
      "ipdb>  print(monomials[0][0]\n"
     ]
    },
    {
     "name": "stdout",
     "output_type": "stream",
     "text": [
      "*** SyntaxError: '(' was never closed\n"
     ]
    },
    {
     "name": "stdin",
     "output_type": "stream",
     "text": [
      "ipdb>  print(monomials[0][0])\n"
     ]
    },
    {
     "name": "stdout",
     "output_type": "stream",
     "text": [
      "diff(phi(Y, x), x) + (1/3*(((x*(1/x + 36) - 3)*x + 24*x^2)/x^2 + 6/x)/(2*(4/x + 1/x^2)/x - (1/x - 8)/x^2)) * diff(xi(Y, x), Y) + (-1/3*((x*(1/x - 36) + 24*x)/x^2 - 2/x^2)/(2*(4/x + 1/x^2)/x - (1/x - 8)/x^2)) * diff(xi(Y, x), x) + (1/3*((1/x - 8)/x^2 - 2/x^3)/(2*(4/x + 1/x^2)/x - (1/x - 8)/x^2)) * xi(Y, x), [], []\n"
     ]
    },
    {
     "name": "stdin",
     "output_type": "stream",
     "text": [
      "ipdb>  print(context)\n"
     ]
    },
    {
     "name": "stdout",
     "output_type": "stream",
     "text": [
      "<delierium.matrix_order.Context object at 0x7873b5d47f50>\n"
     ]
    },
    {
     "name": "stdin",
     "output_type": "stream",
     "text": [
      "ipdb>  print(context._independent)\n"
     ]
    },
    {
     "name": "stdout",
     "output_type": "stream",
     "text": [
      "(Y, x)\n"
     ]
    }
   ],
   "source": [
    "from delierium.Infinitesimals import prolongationODE, overdeterminedSystemODE, Janet_Basis_from_ODE\n",
    "from IPython.display import Math\n",
    "from delierium.helpers import latexer\n",
    "x = var('x')\n",
    "y = function('y')\n",
    "\n",
    "d0 = y(x)\n",
    "d1 = diff(y(x), x)\n",
    "d2 = diff(y(x), x, 2)\n",
    "ode =(x-d1)*d2+4*d1**2\n",
    "%load_ext snakeviz\n",
    "\n",
    "display(Math(latexer(ode)))\n",
    "jb = Janet_Basis_from_ODE(ode, y, x)\n",
    "print(\".......\")\n",
    "for _ in jb:\n",
    "    _.show()"
   ]
  },
  {
   "cell_type": "markdown",
   "id": "9c48bc30-1f42-4560-a31f-90dbf859d933",
   "metadata": {},
   "source": [
    "first two lines correct"
   ]
  },
  {
   "cell_type": "code",
   "execution_count": null,
   "id": "d3429156-b304-4bab-a517-b24dc1739a3f",
   "metadata": {},
   "outputs": [],
   "source": []
  }
 ],
 "metadata": {
  "kernelspec": {
   "display_name": "SageMath 10.2",
   "language": "sage",
   "name": "sagemath"
  },
  "language_info": {
   "codemirror_mode": {
    "name": "ipython",
    "version": 3
   },
   "file_extension": ".py",
   "mimetype": "text/x-python",
   "name": "python",
   "nbconvert_exporter": "python",
   "pygments_lexer": "ipython3",
   "version": "3.11.7"
  },
  "widgets": {
   "application/vnd.jupyter.widget-state+json": {
    "state": {},
    "version_major": 2,
    "version_minor": 0
   }
  }
 },
 "nbformat": 4,
 "nbformat_minor": 5
}
