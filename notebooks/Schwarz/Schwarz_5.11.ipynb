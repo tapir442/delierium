{
 "cells": [
  {
   "cell_type": "code",
   "execution_count": null,
   "id": "157810f2-49ba-4968-925f-8ff714cb8731",
   "metadata": {
    "tags": []
   },
   "outputs": [
    {
     "data": {
      "text/latex": [
       "$\\displaystyle 4 y_{x}^2 + x y_{x, x} - y_{x} y_{x, x}$"
      ],
      "text/plain": [
       "<IPython.core.display.Math object>"
      ]
     },
     "metadata": {},
     "output_type": "display_data"
    },
    {
     "name": "stdout",
     "output_type": "stream",
     "text": [
      "=====>e=-16*diff(xi(Y, x), Y)/(x - diff(y(x), x)) + diff(xi(Y, x), Y, Y)\n",
      "=====>d=diff(y(x), x)\n",
      "=====>e=-x*diff(xi(Y, x), Y, Y) + 12*x*diff(xi(Y, x), Y)/(x - diff(y(x), x)) + 8*diff(phi(Y, x), Y)/(x - diff(y(x), x)) - 12*diff(xi(Y, x), x)/(x - diff(y(x), x)) - diff(phi(Y, x), Y, Y) - 8*diff(xi(Y, x), Y) + 2*diff(xi(Y, x), Y, x)\n",
      "=====>d=diff(y(x), x)\n",
      "=====>e=x*diff(phi(Y, x), Y, Y) - 2*x*diff(xi(Y, x), Y, x) - 4*x*diff(phi(Y, x), Y)/(x - diff(y(x), x)) + 8*x*diff(xi(Y, x), x)/(x - diff(y(x), x)) - 4*xi(Y, x)/(x - diff(y(x), x)) + 4*diff(phi(Y, x), x)/(x - diff(y(x), x)) + 8*diff(phi(Y, x), Y) - 2*diff(phi(Y, x), Y, x) - 8*diff(xi(Y, x), x) + diff(xi(Y, x), x, x)\n",
      "=====>d=diff(y(x), x)\n"
     ]
    }
   ],
   "source": [
    "from delierium.Infinitesimals import prolongationODE, overdeterminedSystemODE, Janet_Basis_from_ODE\n",
    "from IPython.display import Math\n",
    "from delierium.helpers import latexer\n",
    "x = var('x')\n",
    "y = function('y')\n",
    "\n",
    "d0 = y(x)\n",
    "d1 = diff(y(x), x)\n",
    "d2 = diff(y(x), x, 2)\n",
    "ode =(x-d1)*d2+4*d1**2\n",
    "%load_ext snakeviz\n",
    "\n",
    "display(Math(latexer(ode)))\n",
    "%snakeviz jb = Janet_Basis_from_ODE(ode, y, x)\n",
    "print(\"*\"*88)\n",
    "for _ in jb:\n",
    "    display(Math(latexer(_)))"
   ]
  },
  {
   "cell_type": "markdown",
   "id": "9c48bc30-1f42-4560-a31f-90dbf859d933",
   "metadata": {},
   "source": [
    "first two lines correct"
   ]
  },
  {
   "cell_type": "code",
   "execution_count": null,
   "id": "d3429156-b304-4bab-a517-b24dc1739a3f",
   "metadata": {},
   "outputs": [],
   "source": []
  }
 ],
 "metadata": {
  "kernelspec": {
   "display_name": "SageMath 9.8",
   "language": "sage",
   "name": "sagemath"
  },
  "language_info": {
   "codemirror_mode": {
    "name": "ipython",
    "version": 3
   },
   "file_extension": ".py",
   "mimetype": "text/x-python",
   "name": "python",
   "nbconvert_exporter": "python",
   "pygments_lexer": "ipython3",
   "version": "3.10.10"
  },
  "widgets": {
   "application/vnd.jupyter.widget-state+json": {
    "state": {},
    "version_major": 2,
    "version_minor": 0
   }
  }
 },
 "nbformat": 4,
 "nbformat_minor": 5
}
