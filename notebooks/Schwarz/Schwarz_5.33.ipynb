{
 "cells": [
  {
   "cell_type": "code",
   "execution_count": 1,
   "id": "cbe96d5c-9d74-4fb0-be8d-3b4b08513384",
   "metadata": {
    "tags": []
   },
   "outputs": [
    {
     "data": {
      "text/html": [
       "<html>\\(\\displaystyle -6 \\, x^{5} y\\left(x\\right)^{4} \\frac{\\partial}{\\partial x}y\\left(x\\right)^{4} + 6 \\, x^{5} y\\left(x\\right)^{5} \\frac{\\partial}{\\partial x}y\\left(x\\right)^{2} \\frac{\\partial^{2}}{(\\partial x)^{2}}y\\left(x\\right) - 3 \\, x^{5} y\\left(x\\right)^{6} \\frac{\\partial^{2}}{(\\partial x)^{2}}y\\left(x\\right)^{2} + x^{5} y\\left(x\\right)^{6} \\frac{\\partial}{\\partial x}y\\left(x\\right) \\frac{\\partial^{3}}{(\\partial x)^{3}}y\\left(x\\right) - 6 \\, x^{4} y\\left(x\\right)^{5} \\frac{\\partial}{\\partial x}y\\left(x\\right)^{3} + 3 \\, x^{4} y\\left(x\\right)^{6} \\frac{\\partial}{\\partial x}y\\left(x\\right) \\frac{\\partial^{2}}{(\\partial x)^{2}}y\\left(x\\right) - 4 \\, x^{3} y\\left(x\\right)^{3} \\frac{\\partial}{\\partial x}y\\left(x\\right)^{4} + 2 \\, x^{3} y\\left(x\\right)^{4} \\frac{\\partial}{\\partial x}y\\left(x\\right)^{2} \\frac{\\partial^{2}}{(\\partial x)^{2}}y\\left(x\\right) - \\frac{\\partial}{\\partial x}y\\left(x\\right)^{5}\\)</html>"
      ],
      "text/latex": [
       "$\\displaystyle -6 \\, x^{5} y\\left(x\\right)^{4} \\frac{\\partial}{\\partial x}y\\left(x\\right)^{4} + 6 \\, x^{5} y\\left(x\\right)^{5} \\frac{\\partial}{\\partial x}y\\left(x\\right)^{2} \\frac{\\partial^{2}}{(\\partial x)^{2}}y\\left(x\\right) - 3 \\, x^{5} y\\left(x\\right)^{6} \\frac{\\partial^{2}}{(\\partial x)^{2}}y\\left(x\\right)^{2} + x^{5} y\\left(x\\right)^{6} \\frac{\\partial}{\\partial x}y\\left(x\\right) \\frac{\\partial^{3}}{(\\partial x)^{3}}y\\left(x\\right) - 6 \\, x^{4} y\\left(x\\right)^{5} \\frac{\\partial}{\\partial x}y\\left(x\\right)^{3} + 3 \\, x^{4} y\\left(x\\right)^{6} \\frac{\\partial}{\\partial x}y\\left(x\\right) \\frac{\\partial^{2}}{(\\partial x)^{2}}y\\left(x\\right) - 4 \\, x^{3} y\\left(x\\right)^{3} \\frac{\\partial}{\\partial x}y\\left(x\\right)^{4} + 2 \\, x^{3} y\\left(x\\right)^{4} \\frac{\\partial}{\\partial x}y\\left(x\\right)^{2} \\frac{\\partial^{2}}{(\\partial x)^{2}}y\\left(x\\right) - \\frac{\\partial}{\\partial x}y\\left(x\\right)^{5}$"
      ],
      "text/plain": [
       "-6*x^5*y(x)^4*diff(y(x), x)^4 + 6*x^5*y(x)^5*diff(y(x), x)^2*diff(y(x), x, x) - 3*x^5*y(x)^6*diff(y(x), x, x)^2 + x^5*y(x)^6*diff(y(x), x)*diff(y(x), x, x, x) - 6*x^4*y(x)^5*diff(y(x), x)^3 + 3*x^4*y(x)^6*diff(y(x), x)*diff(y(x), x, x) - 4*x^3*y(x)^3*diff(y(x), x)^4 + 2*x^3*y(x)^4*diff(y(x), x)^2*diff(y(x), x, x) - diff(y(x), x)^5"
      ]
     },
     "metadata": {},
     "output_type": "display_data"
    },
    {
     "name": "stdout",
     "output_type": "stream",
     "text": [
      "=====>e=-15*Y^6*x^5*diff(xi(Y, x), Y)*diff(y(x), x) + 3*Y^6*x^5*diff(phi(Y, x), x)/diff(y(x), x)\n",
      "=====>d=diff(y(x), x)\n"
     ]
    },
    {
     "ename": "ValueError",
     "evalue": "power::eval(): division by zero",
     "output_type": "error",
     "traceback": [
      "\u001b[0;31m---------------------------------------------------------------------------\u001b[0m",
      "\u001b[0;31mValueError\u001b[0m                                Traceback (most recent call last)",
      "Cell \u001b[0;32mIn[1], line 16\u001b[0m\n\u001b[1;32m     12\u001b[0m ode \u001b[38;5;241m=\u001b[39m d3\u001b[38;5;241m*\u001b[39md1\u001b[38;5;241m*\u001b[39md0\u001b[38;5;241m*\u001b[39m\u001b[38;5;241m*\u001b[39mInteger(\u001b[38;5;241m6\u001b[39m)     \u001b[38;5;241m-\u001b[39mInteger(\u001b[38;5;241m3\u001b[39m)\u001b[38;5;241m*\u001b[39m(d2\u001b[38;5;241m*\u001b[39m\u001b[38;5;241m*\u001b[39mInteger(\u001b[38;5;241m2\u001b[39m)) \u001b[38;5;241m*\u001b[39m d0 \u001b[38;5;241m*\u001b[39m\u001b[38;5;241m*\u001b[39mInteger(\u001b[38;5;241m6\u001b[39m)     \u001b[38;5;241m+\u001b[39m(Integer(\u001b[38;5;241m6\u001b[39m)\u001b[38;5;241m*\u001b[39md1\u001b[38;5;241m*\u001b[39md0 \u001b[38;5;241m+\u001b[39m Integer(\u001b[38;5;241m2\u001b[39m)\u001b[38;5;241m*\u001b[39md1\u001b[38;5;241m/\u001b[39m(x\u001b[38;5;241m*\u001b[39m\u001b[38;5;241m*\u001b[39mInteger(\u001b[38;5;241m2\u001b[39m)) \u001b[38;5;241m+\u001b[39m (Integer(\u001b[38;5;241m3\u001b[39m)\u001b[38;5;241m*\u001b[39md0\u001b[38;5;241m*\u001b[39m\u001b[38;5;241m*\u001b[39mInteger(\u001b[38;5;241m2\u001b[39m))\u001b[38;5;241m/\u001b[39mx)\u001b[38;5;241m*\u001b[39md2\u001b[38;5;241m*\u001b[39md1\u001b[38;5;241m*\u001b[39md0\u001b[38;5;241m*\u001b[39m\u001b[38;5;241m*\u001b[39mInteger(\u001b[38;5;241m4\u001b[39m)     \u001b[38;5;241m-\u001b[39m(d1\u001b[38;5;241m/\u001b[39mx)\u001b[38;5;241m*\u001b[39m\u001b[38;5;241m*\u001b[39mInteger(\u001b[38;5;241m5\u001b[39m)     \u001b[38;5;241m-\u001b[39mInteger(\u001b[38;5;241m2\u001b[39m)\u001b[38;5;241m*\u001b[39m(Integer(\u001b[38;5;241m3\u001b[39m)\u001b[38;5;241m*\u001b[39md0\u001b[38;5;241m+\u001b[39mInteger(\u001b[38;5;241m2\u001b[39m)\u001b[38;5;241m/\u001b[39mx\u001b[38;5;241m*\u001b[39m\u001b[38;5;241m*\u001b[39mInteger(\u001b[38;5;241m2\u001b[39m))\u001b[38;5;241m*\u001b[39md1\u001b[38;5;241m*\u001b[39m\u001b[38;5;241m*\u001b[39mInteger(\u001b[38;5;241m4\u001b[39m) \u001b[38;5;241m*\u001b[39m d0\u001b[38;5;241m*\u001b[39m\u001b[38;5;241m*\u001b[39mInteger(\u001b[38;5;241m3\u001b[39m)     \u001b[38;5;241m-\u001b[39m Integer(\u001b[38;5;241m6\u001b[39m)\u001b[38;5;241m*\u001b[39m(d0\u001b[38;5;241m*\u001b[39m\u001b[38;5;241m*\u001b[39mInteger(\u001b[38;5;241m5\u001b[39m))\u001b[38;5;241m*\u001b[39md1\u001b[38;5;241m*\u001b[39m\u001b[38;5;241m*\u001b[39mInteger(\u001b[38;5;241m3\u001b[39m)\u001b[38;5;241m/\u001b[39mx\n\u001b[1;32m     14\u001b[0m (ode\u001b[38;5;241m*\u001b[39mx\u001b[38;5;241m*\u001b[39m\u001b[38;5;241m*\u001b[39mInteger(\u001b[38;5;241m5\u001b[39m))\u001b[38;5;241m.\u001b[39mexpand()\u001b[38;5;241m.\u001b[39mshow()\n\u001b[0;32m---> 16\u001b[0m jb \u001b[38;5;241m=\u001b[39m \u001b[43mJanet_Basis_from_ODE\u001b[49m\u001b[43m(\u001b[49m\u001b[43m(\u001b[49m\u001b[43mode\u001b[49m\u001b[38;5;241;43m*\u001b[39;49m\u001b[43mx\u001b[49m\u001b[38;5;241;43m*\u001b[39;49m\u001b[38;5;241;43m*\u001b[39;49m\u001b[43mInteger\u001b[49m\u001b[43m(\u001b[49m\u001b[38;5;241;43m5\u001b[39;49m\u001b[43m)\u001b[49m\u001b[43m)\u001b[49m\u001b[38;5;241;43m.\u001b[39;49m\u001b[43mexpand\u001b[49m\u001b[43m(\u001b[49m\u001b[43m)\u001b[49m\u001b[43m,\u001b[49m\u001b[43m \u001b[49m\u001b[43my\u001b[49m\u001b[43m,\u001b[49m\u001b[43m \u001b[49m\u001b[43mx\u001b[49m\u001b[43m)\u001b[49m\n",
      "File \u001b[0;32m~/researches/delierium/src/delierium/Infinitesimals.py:282\u001b[0m, in \u001b[0;36mJanet_Basis_from_ODE\u001b[0;34m(ode, dependent, independent, order, *args, **kw)\u001b[0m\n\u001b[1;32m    280\u001b[0m         d \u001b[38;5;241m=\u001b[39m diff(dependent(independent), independent, j)\n\u001b[1;32m    281\u001b[0m         \u001b[38;5;28mprint\u001b[39m(\u001b[38;5;124mf\u001b[39m\u001b[38;5;124m\"\u001b[39m\u001b[38;5;124m=====>\u001b[39m\u001b[38;5;132;01m{\u001b[39;00md\u001b[38;5;132;01m=}\u001b[39;00m\u001b[38;5;124m\"\u001b[39m)            \n\u001b[0;32m--> 282\u001b[0m         e \u001b[38;5;241m=\u001b[39m \u001b[43me\u001b[49m\u001b[38;5;241;43m.\u001b[39;49m\u001b[43msubs\u001b[49m\u001b[43m(\u001b[49m\u001b[43m{\u001b[49m\u001b[43md\u001b[49m\u001b[43m \u001b[49m\u001b[43m:\u001b[49m\u001b[43m \u001b[49m\u001b[38;5;241;43m0\u001b[39;49m\u001b[43m}\u001b[49m\u001b[43m)\u001b[49m\n\u001b[1;32m    283\u001b[0m     intermediate_system\u001b[38;5;241m.\u001b[39mappend(e)\n\u001b[1;32m    284\u001b[0m \u001b[38;5;66;03m# ToDo: get rid of hardcoded phi and xi\u001b[39;00m\n",
      "File \u001b[0;32m~/mambaforge/envs/sage/lib/python3.10/site-packages/sage/symbolic/expression.pyx:5892\u001b[0m, in \u001b[0;36msage.symbolic.expression.Expression.substitute (build/cythonized/sage/symbolic/expression.cpp:60702)\u001b[0;34m()\u001b[0m\n\u001b[1;32m   5890\u001b[0m     smap.insert(make_pair((<Expression>self.coerce_in(k))._gobj,\n\u001b[1;32m   5891\u001b[0m                           (<Expression>self.coerce_in(v))._gobj))\n\u001b[0;32m-> 5892\u001b[0m res = self._gobj.subs_map(smap, 0)\n\u001b[1;32m   5893\u001b[0m return new_Expression_from_GEx(self._parent, res)\n\u001b[1;32m   5894\u001b[0m \n",
      "\u001b[0;31mValueError\u001b[0m: power::eval(): division by zero"
     ]
    }
   ],
   "source": [
    "from delierium.Infinitesimals import prolongationODE, overdeterminedSystemODE, Janet_Basis_from_ODE\n",
    "from IPython.display import Math\n",
    "from delierium.helpers import latexer\n",
    "x = var('x')\n",
    "y = function('y')\n",
    "\n",
    "d0 = y(x)\n",
    "d1 = diff(y(x), x)\n",
    "d2 = diff(y(x), x, 2)\n",
    "d3 = diff(y(x), x, 3)\n",
    "\n",
    "ode = d3*d1*d0**6 \\\n",
    "    -3*(d2**2) * d0 **6 \\\n",
    "    +(6*d1*d0 + 2*d1/(x**2) + (3*d0**2)/x)*d2*d1*d0**4 \\\n",
    "    -(d1/x)**5 \\\n",
    "    -2*(3*d0+2/x**2)*d1**4 * d0**3 \\\n",
    "    - 6*(d0**5)*d1**3/x\n",
    "\n",
    "(ode*x**5).expand().show()\n",
    "    \n",
    "jb = Janet_Basis_from_ODE((ode*x**5).expand(), y, x)"
   ]
  },
  {
   "cell_type": "code",
   "execution_count": null,
   "id": "2ed8a591-c211-4e68-bde6-5b8ba9748800",
   "metadata": {},
   "outputs": [],
   "source": []
  }
 ],
 "metadata": {
  "kernelspec": {
   "display_name": "SageMath 9.8",
   "language": "sage",
   "name": "sagemath"
  },
  "language_info": {
   "codemirror_mode": {
    "name": "ipython",
    "version": 3
   },
   "file_extension": ".py",
   "mimetype": "text/x-python",
   "name": "python",
   "nbconvert_exporter": "python",
   "pygments_lexer": "ipython3",
   "version": "3.10.10"
  }
 },
 "nbformat": 4,
 "nbformat_minor": 5
}
