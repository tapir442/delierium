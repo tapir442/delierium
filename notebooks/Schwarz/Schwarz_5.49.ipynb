{
 "cells": [
  {
   "cell_type": "code",
   "execution_count": 1,
   "id": "ffc93a53-adb4-42f3-9124-9ca889d4e915",
   "metadata": {},
   "outputs": [
    {
     "data": {
      "text/latex": [
       "$\\displaystyle 2 x y_{x}^4 - x y y_{x}^2 y_{x, x} + 3 y y_{x}^3 - 2 y^2 y_{x} y_{x, x} - y^2 y_{x}^2/x - y^3 y_{x, x}/x + 3 y_{x}^2 y_{x, x} - 3 y y_{x, x}^2 + y y_{x} y_{x, x, x} - 3 y^3 y_{x}/x^2 + 15 y_{x}^3/x - 12 y y_{x} y_{x, x}/x + y^2 y_{x, x, x}/x - y^4/x^3 - 3 y y_{x}^2/x^2 - 3 y^2 y_{x, x}/x^2 - 9 y^2 y_{x}/x^3 - 3 y^3/x^4$"
      ],
      "text/plain": [
       "<IPython.core.display.Math object>"
      ]
     },
     "metadata": {},
     "output_type": "display_data"
    },
    {
     "name": "stdout",
     "output_type": "stream",
     "text": [
      "This is where we start\n",
      "diff(phi(Y, x), Y) + (-x/Y) * diff(phi(Y, x), x) + (Y/x) * diff(xi(Y, x), Y) + (-1) * diff(xi(Y, x), x) + (-1/Y) * phi(Y, x) + (1/x) * xi(Y, x), [], []\n",
      "diff(phi(Y, x), Y, x) + (-2*x/Y) * diff(phi(Y, x), x, x) + (-1) * diff(xi(Y, x), x, x) + (-1/3*(Y^2 + 9*Y/x)*x/Y^2) * diff(phi(Y, x), x) + (-1/3*(Y^3/x + 3*Y^2/x^2)*x/Y^2) * diff(xi(Y, x), x) + (-1/3) * phi(Y, x) + (x^(-2)) * xi(Y, x), [], []\n",
      "diff(xi(Y, x), Y, Y, Y) + (-(Y*x - 3)/Y) * diff(xi(Y, x), Y, Y) + (4*x^2/Y^2) * diff(phi(Y, x), Y) + (-15*(x + 5/Y)/Y) * diff(xi(Y, x), Y) + (-8*x^2/Y^2) * diff(xi(Y, x), x) + (2*x^2/Y^3) * phi(Y, x), [], []\n",
      "diff(phi(Y, x), x, x, x) + (-(Y^3/x + 3*Y^2/x^2)*x/Y^2) * diff(phi(Y, x), x, x) + ((Y^4/x^3 + 3*Y^3/x^4)*x/Y^2) * diff(phi(Y, x), Y) + (-2*(Y^3/x^2 + 3*Y^2/x^3)*x/Y^2) * diff(phi(Y, x), x) + (-3*(Y^4/x^3 + 3*Y^3/x^4)*x/Y^2) * diff(xi(Y, x), x) + (-x*(2*Y^3/x^3 + 3*Y^2/x^4)/Y^2) * phi(Y, x) + (x*(2*Y^4/x^4 + 9*Y^3/x^5)/Y^2) * xi(Y, x), [], []\n",
      "diff(phi(Y, x), Y, x, x) + (1/3*x/Y) * diff(phi(Y, x), x, x, x) + (-1/3) * diff(xi(Y, x), x, x, x) + (-2/3*(Y^3/x + 3*Y^2/x^2)*x/Y^2) * diff(phi(Y, x), Y, x) + (-2/3*(Y^2 + 6*Y/x)*x/Y^2) * diff(phi(Y, x), x, x) + (1/3*(Y^3/x + 3*Y^2/x^2)*x/Y^2) * diff(xi(Y, x), x, x) + (2/3*(Y^3/x^2 + 3*Y^2/x^3)*x/Y^2) * diff(phi(Y, x), Y) + (1/3*(Y^2/x + 3*Y/x^2)*x/Y^2) * diff(phi(Y, x), x) + (-4/3*(Y^4/x^3 + 3*Y^3/x^4)*x/Y^2) * diff(xi(Y, x), Y) + (-10/3*(Y^3/x^2 + 3*Y^2/x^3)*x/Y^2) * diff(xi(Y, x), x) + (-1/3*x*(2*Y^2/x^2 - 3*Y/x^3)/Y^2) * phi(Y, x) + (x*(Y^3/x^3 + 6*Y^2/x^4)/Y^2) * xi(Y, x), [], []\n",
      "diff(phi(Y, x), Y, Y, x) + (x/Y) * diff(phi(Y, x), Y, x, x) + (-1) * diff(xi(Y, x), Y, x, x) + (-1/3*x/Y) * diff(xi(Y, x), x, x, x) + (-1/3*(Y^3/x + 3*Y^2/x^2)*x/Y^2) * diff(phi(Y, x), Y, Y) + (-4/3*(Y^2 + 6*Y/x)*x/Y^2) * diff(phi(Y, x), Y, x) + (-1/3*(Y*x - 3)*x/Y^2) * diff(phi(Y, x), x, x) + (2/3*(Y^3/x + 3*Y^2/x^2)*x/Y^2) * diff(xi(Y, x), Y, x) + (2/3*(Y^2 + 6*Y/x)*x/Y^2) * diff(xi(Y, x), x, x) + (5/3*(Y^2/x + 3*Y/x^2)*x/Y^2) * diff(phi(Y, x), Y) + (2/3*(5*Y + 24/x)*x/Y^2) * diff(phi(Y, x), x) + (-14/3*(Y^3/x^2 + 3*Y^2/x^3)*x/Y^2) * diff(xi(Y, x), Y) + (-13/3*(Y^2/x + 3*Y/x^2)*x/Y^2) * diff(xi(Y, x), x) + (x*(Y/x + 4/x^2)/Y^2) * phi(Y, x) + (1/(Y*x^2)) * xi(Y, x), [], []\n",
      "diff(phi(Y, x), Y, Y, Y) + (-Y/x) * diff(xi(Y, x), Y, Y, Y) + (-3) * diff(xi(Y, x), Y, Y, x) + (-(Y*x - 3)/Y) * diff(phi(Y, x), Y, Y) + (2*(Y^2 + 6*Y/x)/Y) * diff(xi(Y, x), Y, Y) + (2*(Y*x - 3)/Y) * diff(xi(Y, x), Y, x) + (-30/Y^2) * diff(phi(Y, x), Y) + (-2*x^2/Y^2) * diff(phi(Y, x), x) + (-2) * diff(xi(Y, x), Y) + (10*(x + 6/Y)/Y) * diff(xi(Y, x), x) + (-(7*x/Y + 15/Y^2)/Y) * phi(Y, x) + (4/Y) * xi(Y, x), [], []\n",
      "diff(phi(Y, x), Y, Y, Y) + (3*x/Y) * diff(phi(Y, x), Y, Y, x) + (-3) * diff(xi(Y, x), Y, Y, x) + (-3*x/Y) * diff(xi(Y, x), Y, x, x) + (-2*(Y^2 + 6*Y/x)*x/Y^2) * diff(phi(Y, x), Y, Y) + (-2*(Y*x - 3)*x/Y^2) * diff(phi(Y, x), Y, x) + ((Y^3/x + 3*Y^2/x^2)*x/Y^2) * diff(xi(Y, x), Y, Y) + (4*(Y^2 + 6*Y/x)*x/Y^2) * diff(xi(Y, x), Y, x) + ((Y*x - 3)*x/Y^2) * diff(xi(Y, x), x, x) + (4*(2*Y + 9/x)*x/Y^2) * diff(phi(Y, x), Y) + (5*(x - 3/Y)*x/Y^2) * diff(phi(Y, x), x) + (-17*(Y^2/x + 3*Y/x^2)*x/Y^2) * diff(xi(Y, x), Y) + (-4*(Y + 3/x)*x/Y^2) * diff(xi(Y, x), x) + (-x*(27/(Y*x) + 2)/Y^2) * phi(Y, x) + (3/Y) * xi(Y, x), [], []\n"
     ]
    },
    {
     "ename": "AssertionError",
     "evalue": "",
     "output_type": "error",
     "traceback": [
      "\u001b[0;31m---------------------------------------------------------------------------\u001b[0m",
      "\u001b[0;31mAssertionError\u001b[0m                            Traceback (most recent call last)",
      "Cell \u001b[0;32mIn[1], line 16\u001b[0m\n\u001b[1;32m     11\u001b[0m ode \u001b[38;5;241m=\u001b[39m d3 \u001b[38;5;241m*\u001b[39m d1 \u001b[38;5;241m*\u001b[39m d0 \u001b[38;5;241m+\u001b[39m (d3 \u001b[38;5;241m*\u001b[39m d0\u001b[38;5;241m*\u001b[39m\u001b[38;5;241m*\u001b[39mInteger(\u001b[38;5;241m2\u001b[39m)) \u001b[38;5;241m/\u001b[39m x \u001b[38;5;241m-\u001b[39m Integer(\u001b[38;5;241m3\u001b[39m) \u001b[38;5;241m*\u001b[39m d2 \u001b[38;5;241m*\u001b[39m\u001b[38;5;241m*\u001b[39mInteger(\u001b[38;5;241m2\u001b[39m) \u001b[38;5;241m*\u001b[39m d0 \u001b[38;5;241m-\u001b[39m x \u001b[38;5;241m*\u001b[39m d2 \u001b[38;5;241m*\u001b[39m d1\u001b[38;5;241m*\u001b[39m\u001b[38;5;241m*\u001b[39mInteger(\u001b[38;5;241m2\u001b[39m) \u001b[38;5;241m*\u001b[39m d0 \u001b[38;5;241m+\u001b[39m Integer(\u001b[38;5;241m3\u001b[39m)\u001b[38;5;241m*\u001b[39m d2\u001b[38;5;241m*\u001b[39m d1\u001b[38;5;241m*\u001b[39m\u001b[38;5;241m*\u001b[39mInteger(\u001b[38;5;241m2\u001b[39m) \u001b[38;5;241m-\u001b[39m Integer(\u001b[38;5;241m2\u001b[39m)\u001b[38;5;241m*\u001b[39m d2 \u001b[38;5;241m*\u001b[39md1 \u001b[38;5;241m*\u001b[39m d0\u001b[38;5;241m*\u001b[39m\u001b[38;5;241m*\u001b[39mInteger(\u001b[38;5;241m2\u001b[39m) \u001b[38;5;241m-\u001b[39m d2\u001b[38;5;241m*\u001b[39md1\u001b[38;5;241m*\u001b[39md0\u001b[38;5;241m*\u001b[39mInteger(\u001b[38;5;241m12\u001b[39m)\u001b[38;5;241m/\u001b[39mx \u001b[38;5;241m-\u001b[39m (d2\u001b[38;5;241m*\u001b[39md0\u001b[38;5;241m*\u001b[39m\u001b[38;5;241m*\u001b[39mInteger(\u001b[38;5;241m3\u001b[39m))\u001b[38;5;241m/\u001b[39mx \u001b[38;5;241m-\u001b[39m (Integer(\u001b[38;5;241m3\u001b[39m)\u001b[38;5;241m*\u001b[39md2\u001b[38;5;241m*\u001b[39md0\u001b[38;5;241m*\u001b[39m\u001b[38;5;241m*\u001b[39mInteger(\u001b[38;5;241m2\u001b[39m))\u001b[38;5;241m/\u001b[39m(x\u001b[38;5;241m*\u001b[39m\u001b[38;5;241m*\u001b[39mInteger(\u001b[38;5;241m2\u001b[39m))\u001b[38;5;241m+\u001b[39m Integer(\u001b[38;5;241m2\u001b[39m) \u001b[38;5;241m*\u001b[39m x \u001b[38;5;241m*\u001b[39m d1\u001b[38;5;241m*\u001b[39m\u001b[38;5;241m*\u001b[39mInteger(\u001b[38;5;241m4\u001b[39m) \u001b[38;5;241m+\u001b[39m Integer(\u001b[38;5;241m3\u001b[39m)\u001b[38;5;241m*\u001b[39md1\u001b[38;5;241m*\u001b[39m\u001b[38;5;241m*\u001b[39mInteger(\u001b[38;5;241m3\u001b[39m) \u001b[38;5;241m*\u001b[39m d0 \u001b[38;5;241m+\u001b[39m (Integer(\u001b[38;5;241m15\u001b[39m)\u001b[38;5;241m*\u001b[39md1\u001b[38;5;241m*\u001b[39m\u001b[38;5;241m*\u001b[39mInteger(\u001b[38;5;241m3\u001b[39m))\u001b[38;5;241m/\u001b[39mx \u001b[38;5;241m-\u001b[39m d1\u001b[38;5;241m*\u001b[39m\u001b[38;5;241m*\u001b[39mInteger(\u001b[38;5;241m2\u001b[39m) \u001b[38;5;241m*\u001b[39m d0\u001b[38;5;241m*\u001b[39m\u001b[38;5;241m*\u001b[39mInteger(\u001b[38;5;241m2\u001b[39m) \u001b[38;5;241m/\u001b[39mx \u001b[38;5;241m-\u001b[39m Integer(\u001b[38;5;241m3\u001b[39m)\u001b[38;5;241m*\u001b[39md1\u001b[38;5;241m*\u001b[39m\u001b[38;5;241m*\u001b[39mInteger(\u001b[38;5;241m2\u001b[39m) \u001b[38;5;241m*\u001b[39m d0\u001b[38;5;241m/\u001b[39mx\u001b[38;5;241m*\u001b[39m\u001b[38;5;241m*\u001b[39mInteger(\u001b[38;5;241m2\u001b[39m)\u001b[38;5;241m-\u001b[39m (Integer(\u001b[38;5;241m3\u001b[39m)\u001b[38;5;241m*\u001b[39md1\u001b[38;5;241m*\u001b[39md0\u001b[38;5;241m*\u001b[39m\u001b[38;5;241m*\u001b[39mInteger(\u001b[38;5;241m3\u001b[39m))\u001b[38;5;241m/\u001b[39mx\u001b[38;5;241m*\u001b[39m\u001b[38;5;241m*\u001b[39mInteger(\u001b[38;5;241m2\u001b[39m) \u001b[38;5;241m-\u001b[39m (Integer(\u001b[38;5;241m9\u001b[39m)\u001b[38;5;241m*\u001b[39m d1\u001b[38;5;241m*\u001b[39md0\u001b[38;5;241m*\u001b[39m\u001b[38;5;241m*\u001b[39mInteger(\u001b[38;5;241m2\u001b[39m))\u001b[38;5;241m/\u001b[39m(x\u001b[38;5;241m*\u001b[39m\u001b[38;5;241m*\u001b[39mInteger(\u001b[38;5;241m3\u001b[39m))\u001b[38;5;241m-\u001b[39m (d0\u001b[38;5;241m*\u001b[39m\u001b[38;5;241m*\u001b[39mInteger(\u001b[38;5;241m4\u001b[39m))\u001b[38;5;241m/\u001b[39mx\u001b[38;5;241m*\u001b[39m\u001b[38;5;241m*\u001b[39mInteger(\u001b[38;5;241m3\u001b[39m) \u001b[38;5;241m-\u001b[39m (Integer(\u001b[38;5;241m3\u001b[39m)\u001b[38;5;241m*\u001b[39md0\u001b[38;5;241m*\u001b[39m\u001b[38;5;241m*\u001b[39mInteger(\u001b[38;5;241m3\u001b[39m))\u001b[38;5;241m/\u001b[39mx\u001b[38;5;241m*\u001b[39m\u001b[38;5;241m*\u001b[39mInteger(\u001b[38;5;241m4\u001b[39m)\n\u001b[1;32m     15\u001b[0m display(Math(latexer(ode)))\n\u001b[0;32m---> 16\u001b[0m jb \u001b[38;5;241m=\u001b[39m \u001b[43mJanet_Basis_from_ODE\u001b[49m\u001b[43m(\u001b[49m\u001b[43mode\u001b[49m\u001b[43m,\u001b[49m\u001b[43m \u001b[49m\u001b[43my\u001b[49m\u001b[43m,\u001b[49m\u001b[43m \u001b[49m\u001b[43mx\u001b[49m\u001b[43m)\u001b[49m\n\u001b[1;32m     17\u001b[0m \u001b[38;5;28mprint\u001b[39m(\u001b[38;5;124m\"\u001b[39m\u001b[38;5;124m*\u001b[39m\u001b[38;5;124m\"\u001b[39m\u001b[38;5;241m*\u001b[39mInteger(\u001b[38;5;241m88\u001b[39m))\n\u001b[1;32m     18\u001b[0m \u001b[38;5;28;01mfor\u001b[39;00m _ \u001b[38;5;129;01min\u001b[39;00m jb:\n",
      "File \u001b[0;32m~/research-disk/delierium/src/delierium/Infinitesimals.py:284\u001b[0m, in \u001b[0;36mJanet_Basis_from_ODE\u001b[0;34m(ode, dependent, independent, order, *args, **kw)\u001b[0m\n\u001b[1;32m    281\u001b[0m     intermediate_system\u001b[38;5;241m.\u001b[39mappend(e)\n\u001b[1;32m    282\u001b[0m \u001b[38;5;66;03m# ToDo: get rid of hardcoded phi and xi\u001b[39;00m\n\u001b[0;32m--> 284\u001b[0m janet \u001b[38;5;241m=\u001b[39m \u001b[43mJanet_Basis\u001b[49m\u001b[43m(\u001b[49m\u001b[43mintermediate_system\u001b[49m\u001b[43m,\u001b[49m\u001b[43m \u001b[49m\u001b[43m[\u001b[49m\u001b[43mphi\u001b[49m\u001b[43m,\u001b[49m\u001b[43m \u001b[49m\u001b[43mxi\u001b[49m\u001b[43m]\u001b[49m\u001b[43m,\u001b[49m\u001b[43m \u001b[49m\u001b[43m[\u001b[49m\u001b[43mY\u001b[49m\u001b[43m,\u001b[49m\u001b[43m \u001b[49m\u001b[43mindependent\u001b[49m\u001b[43m]\u001b[49m\u001b[43m)\u001b[49m\n\u001b[1;32m    285\u001b[0m pols \u001b[38;5;241m=\u001b[39m \u001b[38;5;28mmap\u001b[39m(\u001b[38;5;28;01mlambda\u001b[39;00m _ : _\u001b[38;5;241m.\u001b[39mexpression()\u001b[38;5;241m.\u001b[39msubs({Y : dependent(independent)}), janet\u001b[38;5;241m.\u001b[39mS)\n\u001b[1;32m    286\u001b[0m \u001b[38;5;28;01mreturn\u001b[39;00m pols\n",
      "File \u001b[0;32m~/research-disk/delierium/src/delierium/JanetBasis.py:806\u001b[0m, in \u001b[0;36mJanet_Basis.__init__\u001b[0;34m(self, S, dependent, independent, sort_order)\u001b[0m\n\u001b[1;32m    802\u001b[0m             \u001b[38;5;28mself\u001b[39m\u001b[38;5;241m.\u001b[39mshow()\n\u001b[1;32m    803\u001b[0m \u001b[38;5;66;03m#            for _ in self.S:\u001b[39;00m\n\u001b[1;32m    804\u001b[0m \u001b[38;5;66;03m#                _.Lder().show()\u001b[39;00m\n\u001b[1;32m    805\u001b[0m             \u001b[38;5;66;03m#set_trace()\u001b[39;00m\n\u001b[0;32m--> 806\u001b[0m             \u001b[38;5;28mself\u001b[39m\u001b[38;5;241m.\u001b[39mS \u001b[38;5;241m=\u001b[39m \u001b[43mAutoreduce\u001b[49m\u001b[43m(\u001b[49m\u001b[38;5;28;43mself\u001b[39;49m\u001b[38;5;241;43m.\u001b[39;49m\u001b[43mS\u001b[49m\u001b[43m,\u001b[49m\u001b[43m \u001b[49m\u001b[43mcontext\u001b[49m\u001b[43m)\u001b[49m\n\u001b[1;32m    807\u001b[0m  \u001b[38;5;66;03m#           print(\"after autoreduce\")\u001b[39;00m\n\u001b[1;32m    808\u001b[0m  \u001b[38;5;66;03m#           self.show()\u001b[39;00m\n\u001b[1;32m    809\u001b[0m \u001b[38;5;66;03m#            for _ in self.S:\u001b[39;00m\n\u001b[1;32m    810\u001b[0m \u001b[38;5;66;03m#                display(Math(_.show(rich=True)))\u001b[39;00m\n\u001b[1;32m    811\u001b[0m             \u001b[38;5;28mself\u001b[39m\u001b[38;5;241m.\u001b[39mS \u001b[38;5;241m=\u001b[39m CompleteSystem(\u001b[38;5;28mself\u001b[39m\u001b[38;5;241m.\u001b[39mS, context)\n",
      "File \u001b[0;32m~/research-disk/delierium/src/delierium/JanetBasis.py:467\u001b[0m, in \u001b[0;36mAutoreduce\u001b[0;34m(S, context)\u001b[0m\n\u001b[1;32m    465\u001b[0m have_reduced \u001b[38;5;241m=\u001b[39m \u001b[38;5;28;01mFalse\u001b[39;00m\n\u001b[1;32m    466\u001b[0m \u001b[38;5;28;01mfor\u001b[39;00m _r \u001b[38;5;129;01min\u001b[39;00m r:\n\u001b[0;32m--> 467\u001b[0m     rnew \u001b[38;5;241m=\u001b[39m \u001b[43mreduceS\u001b[49m\u001b[43m(\u001b[49m\u001b[43m_r\u001b[49m\u001b[43m,\u001b[49m\u001b[43m \u001b[49m\u001b[43m_p\u001b[49m\u001b[43m,\u001b[49m\u001b[43m \u001b[49m\u001b[43mcontext\u001b[49m\u001b[43m)\u001b[49m\n\u001b[1;32m    468\u001b[0m     have_reduced \u001b[38;5;241m=\u001b[39m have_reduced \u001b[38;5;129;01mor\u001b[39;00m rnew \u001b[38;5;241m!=\u001b[39m _r\n\u001b[1;32m    469\u001b[0m     \u001b[38;5;28;01mif\u001b[39;00m rnew:\n",
      "File \u001b[0;32m~/research-disk/delierium/src/delierium/JanetBasis.py:358\u001b[0m, in \u001b[0;36mreduceS\u001b[0;34m(e, S, context)\u001b[0m\n\u001b[1;32m    356\u001b[0m \u001b[38;5;28;01mwhile\u001b[39;00m reducing:\n\u001b[1;32m    357\u001b[0m     \u001b[38;5;28;01mfor\u001b[39;00m dp \u001b[38;5;129;01min\u001b[39;00m gen:\n\u001b[0;32m--> 358\u001b[0m         enew \u001b[38;5;241m=\u001b[39m \u001b[43mreduce\u001b[49m\u001b[43m(\u001b[49m\u001b[43me\u001b[49m\u001b[43m,\u001b[49m\u001b[43m \u001b[49m\u001b[43mdp\u001b[49m\u001b[43m,\u001b[49m\u001b[43m \u001b[49m\u001b[43mcontext\u001b[49m\u001b[43m)\u001b[49m\n\u001b[1;32m    359\u001b[0m         \u001b[38;5;66;03m# XXX check wheter we can replace \"==\" by 'is'\u001b[39;00m\n\u001b[1;32m    360\u001b[0m         \u001b[38;5;28;01mif\u001b[39;00m enew \u001b[38;5;241m==\u001b[39m e:\n",
      "File \u001b[0;32m~/research-disk/delierium/src/delierium/JanetBasis.py:455\u001b[0m, in \u001b[0;36mreduce\u001b[0;34m(e1, e2, context)\u001b[0m\n\u001b[1;32m    453\u001b[0m             \u001b[38;5;28;01mreturn\u001b[39;00m _Differential_Polynomial(e\u001b[38;5;241m=\u001b[39m\u001b[38;5;241m0\u001b[39m, context\u001b[38;5;241m=\u001b[39me2\u001b[38;5;241m.\u001b[39mcontext, dterms\u001b[38;5;241m=\u001b[39mdterms)\n\u001b[1;32m    454\u001b[0m     \u001b[38;5;28;01mreturn\u001b[39;00m e1\n\u001b[0;32m--> 455\u001b[0m \u001b[38;5;28;01mwhile\u001b[39;00m \u001b[38;5;129;01mnot\u001b[39;00m \u001b[38;5;28mbool\u001b[39m((_e1 \u001b[38;5;241m:=\u001b[39m \u001b[43m_reduce_inner\u001b[49m\u001b[43m(\u001b[49m\u001b[43me1\u001b[49m\u001b[43m,\u001b[49m\u001b[43m \u001b[49m\u001b[43me2\u001b[49m\u001b[43m)\u001b[49m) \u001b[38;5;241m==\u001b[39m e1):\n\u001b[1;32m    456\u001b[0m     e1 \u001b[38;5;241m=\u001b[39m _e1\n\u001b[1;32m    457\u001b[0m \u001b[38;5;28;01mreturn\u001b[39;00m _e1\n",
      "File \u001b[0;32m~/research-disk/delierium/src/delierium/JanetBasis.py:439\u001b[0m, in \u001b[0;36mreduce.<locals>._reduce_inner\u001b[0;34m(e1, e2)\u001b[0m\n\u001b[1;32m    437\u001b[0m cmpvec \u001b[38;5;241m=\u001b[39m \u001b[38;5;28mlist\u001b[39m(p2\u001b[38;5;241m.\u001b[39mcomparison_vector)\n\u001b[1;32m    438\u001b[0m hits \u001b[38;5;241m=\u001b[39m [_ \u001b[38;5;28;01mfor\u001b[39;00m _ \u001b[38;5;129;01min\u001b[39;00m e1\u001b[38;5;241m.\u001b[39mp \u001b[38;5;28;01mif\u001b[39;00m _\u001b[38;5;241m.\u001b[39mcomparison_vector \u001b[38;5;241m==\u001b[39m \u001b[38;5;28mtuple\u001b[39m(cmpvec)]\n\u001b[0;32m--> 439\u001b[0m \u001b[38;5;28;01massert\u001b[39;00m(\u001b[38;5;28mlen\u001b[39m(hits) \u001b[38;5;129;01min\u001b[39;00m [\u001b[38;5;241m0\u001b[39m,\u001b[38;5;241m1\u001b[39m])\n\u001b[1;32m    440\u001b[0m \u001b[38;5;28;01mif\u001b[39;00m hits:\n\u001b[1;32m    441\u001b[0m     \u001b[38;5;28;01mif\u001b[39;00m \u001b[38;5;129;01mnot\u001b[39;00m expr_eq(hits[\u001b[38;5;241m0\u001b[39m]\u001b[38;5;241m.\u001b[39mcoeff, c\u001b[38;5;241m*\u001b[39mfstrich):\n",
      "\u001b[0;31mAssertionError\u001b[0m: "
     ]
    }
   ],
   "source": [
    "from delierium.Infinitesimals import prolongationODE, overdeterminedSystemODE, Janet_Basis_from_ODE\n",
    "from IPython.display import Math\n",
    "from delierium.helpers import latexer\n",
    "x = var('x')\n",
    "y = function('y')\n",
    "\n",
    "d0 = y(x)\n",
    "d1 = diff(y(x), x)\n",
    "d2 = diff(y(x), x, x)\n",
    "d3 = diff(y(x), x, x, x)\n",
    "ode = d3 * d1 * d0 \\\n",
    "+ (d3 * d0**2) / x \\\n",
    "- 3 * d2 **2 * d0 \\\n",
    "- x * d2 * d1**2 * d0 \\\n",
    "+ 3* d2* d1**2 \\\n",
    "- 2* d2 *d1 * d0**2 \\\n",
    "- d2*d1*d0*12/x \\\n",
    "- (d2*d0**3)/x \\\n",
    "- (3*d2*d0**2)/(x**2)\\\n",
    "+ 2 * x * d1**4 \\\n",
    "+ 3*d1**3 * d0 \\\n",
    "+ (15*d1**3)/x \\\n",
    "- d1**2 * d0**2 /x \\\n",
    "- 3*d1**2 * d0/x**2\\\n",
    "- (3*d1*d0**3)/x**2 \\\n",
    "- (9* d1*d0**2)/(x**3)\\\n",
    "- (d0**4)/x**3 \\\n",
    "- (3*d0**3)/x**4\n",
    "\n",
    "\n",
    "\n",
    "display(Math(latexer(ode)))\n",
    "jb = Janet_Basis_from_ODE(ode, y, x)\n",
    "print(\"*\"*88)\n",
    "for _ in jb:\n",
    "    display(Math(latexer(_)))"
   ]
  },
  {
   "cell_type": "markdown",
   "id": "8c22a71e-f19b-429f-97e9-99072db19368",
   "metadata": {},
   "source": [
    "seems to be completely wrong..."
   ]
  }
 ],
 "metadata": {
  "kernelspec": {
   "display_name": "SageMath 10.2",
   "language": "sage",
   "name": "sagemath"
  },
  "language_info": {
   "codemirror_mode": {
    "name": "ipython",
    "version": 3
   },
   "file_extension": ".py",
   "mimetype": "text/x-python",
   "name": "python",
   "nbconvert_exporter": "python",
   "pygments_lexer": "ipython3",
   "version": "3.11.7"
  },
  "widgets": {
   "application/vnd.jupyter.widget-state+json": {
    "state": {},
    "version_major": 2,
    "version_minor": 0
   }
  }
 },
 "nbformat": 4,
 "nbformat_minor": 5
}
