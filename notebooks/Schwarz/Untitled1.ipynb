{
 "cells": [
  {
   "cell_type": "code",
   "execution_count": 11,
   "id": "4a03944f-d5d8-4c82-a842-d2c4f19485ae",
   "metadata": {
    "tags": []
   },
   "outputs": [],
   "source": [
    "M=[[0,1],[2,0]]\n",
    "\n",
    "def mausi(M):\n",
    "    max_degree = max(_[-1] for _ in M)\n",
    "    pupsi = [_ for _ in M if _[-1] == max_degree]\n",
    "    for i in reversed(range(0, len(M[0]) - 1)):\n",
    "        print (i)\n",
    "    print(pupsi)\n"
   ]
  },
  {
   "cell_type": "code",
   "execution_count": 12,
   "id": "d1c58724-5668-4d80-99f2-3a943a394c92",
   "metadata": {
    "tags": []
   },
   "outputs": [
    {
     "name": "stdout",
     "output_type": "stream",
     "text": [
      "0\n",
      "[[0, 1]]\n"
     ]
    }
   ],
   "source": [
    "mausi(M)"
   ]
  },
  {
   "cell_type": "code",
   "execution_count": null,
   "id": "9a22cc54-7a88-46cb-8930-3ac6f21d0d7d",
   "metadata": {},
   "outputs": [],
   "source": []
  }
 ],
 "metadata": {
  "kernelspec": {
   "display_name": "SageMath 9.5",
   "language": "sage",
   "name": "sagemath"
  },
  "language_info": {
   "codemirror_mode": {
    "name": "ipython",
    "version": 3
   },
   "file_extension": ".py",
   "mimetype": "text/x-python",
   "name": "python",
   "nbconvert_exporter": "python",
   "pygments_lexer": "ipython3",
   "version": "3.10.7"
  }
 },
 "nbformat": 4,
 "nbformat_minor": 5
}
