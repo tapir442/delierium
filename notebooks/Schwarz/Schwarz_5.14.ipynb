{
 "cells": [
  {
   "cell_type": "code",
   "execution_count": null,
   "id": "92bc90d8-9023-4853-bd48-8ab68cae307a",
   "metadata": {},
   "outputs": [
    {
     "name": "stdout",
     "output_type": "stream",
     "text": [
      "The snakeviz extension is already loaded. To reload it, use:\n",
      "  %reload_ext snakeviz\n"
     ]
    },
    {
     "data": {
      "text/latex": [
       "$\\displaystyle y_{x}^2 + x y_{x, x} + y y_{x, x} - y_{x}$"
      ],
      "text/plain": [
       "<IPython.core.display.Math object>"
      ]
     },
     "metadata": {},
     "output_type": "display_data"
    },
    {
     "name": "stdout",
     "output_type": "stream",
     "text": [
      " \n",
      "*** Profile stats marshalled to file '/home/tapir/tmp/tmp6lwr1n24'.\n",
      "Embedding SnakeViz in this document...\n"
     ]
    },
    {
     "data": {
      "text/html": [
       "\n",
       "<iframe id='snakeviz-e2da8d52-c418-11ed-8eb3-9094e4f6e861' frameborder=0 seamless width='100%' height='1000'></iframe>\n",
       "<script>document.getElementById(\"snakeviz-e2da8d52-c418-11ed-8eb3-9094e4f6e861\").setAttribute(\"src\", \"http://\" + document.location.hostname + \":8080/snakeviz/%2Fhome%2Ftapir%2Ftmp%2Ftmp6lwr1n24\")</script>\n"
      ],
      "text/plain": [
       "<IPython.core.display.HTML object>"
      ]
     },
     "metadata": {},
     "output_type": "display_data"
    },
    {
     "data": {
      "text/latex": [
       "$\\displaystyle -x  \\xi_{yy} - y  \\xi_{yy} - 2  \\xi_{y}$"
      ],
      "text/plain": [
       "<IPython.core.display.Math object>"
      ]
     },
     "metadata": {},
     "output_type": "display_data"
    },
    {
     "data": {
      "text/latex": [
       "$\\displaystyle x  \\phi_{yy} + y  \\phi_{yy} - 2 x  \\xi_{yx} - 2 y  \\xi_{yx} - x  \\phi_{y}/(x + y) - y  \\phi_{y}/(x + y) - 3 x  \\xi_{y}/(x + y) - 3 y  \\xi_{y}/(x + y) + 2 x  \\xi_{x}/(x + y) + 2 y  \\xi_{x}/(x + y) - \\phi/(x + y) - \\xi/(x + y) + 2  \\phi_{y} +  \\xi_{y} - 2  \\xi_{x}$"
      ],
      "text/plain": [
       "<IPython.core.display.Math object>"
      ]
     },
     "metadata": {},
     "output_type": "display_data"
    },
    {
     "data": {
      "text/latex": [
       "$\\displaystyle 2 x  \\phi_{yx} + 2 y  \\phi_{yx} - x  \\xi_{xx} - y  \\xi_{xx} + x  \\phi_{y}/(x + y) + y  \\phi_{y}/(x + y) - 2 x  \\xi_{x}/(x + y) - 2 y  \\xi_{x}/(x + y) + \\phi/(x + y) + \\xi/(x + y) -  \\phi_{y} + 2  \\phi_{x} +  \\xi_{x}$"
      ],
      "text/plain": [
       "<IPython.core.display.Math object>"
      ]
     },
     "metadata": {},
     "output_type": "display_data"
    },
    {
     "data": {
      "text/latex": [
       "$\\displaystyle 3 x  \\xi_{y} y_{x}^3/(x + y) + 3 y  \\xi_{y} y_{x}^3/(x + y) + x  \\phi_{xx} + y  \\phi_{xx} -  \\phi_{x}$"
      ],
      "text/plain": [
       "<IPython.core.display.Math object>"
      ]
     },
     "metadata": {},
     "output_type": "display_data"
    }
   ],
   "source": [
    "from delierium.Infinitesimals import prolongationODE, overdeterminedSystemODE, Janet_Basis_from_ODE\n",
    "from IPython.display import Math\n",
    "from delierium.helpers import latexer\n",
    "x = var('x')\n",
    "y = function('y')\n",
    "\n",
    "d0 = y(x)\n",
    "d1 = diff(y(x), x)\n",
    "d2 = diff(y(x), x, x)\n",
    "ode = d2*d0+x*d2+d1**2-d1\n",
    "\n",
    "%load_ext snakeviz\n",
    "\n",
    "display(Math(latexer(ode)))\n",
    "%snakeviz inf = overdeterminedSystemODE(ode, y, x)\n",
    "for _ in inf:\n",
    "    display(Math(latexer(_)))\n",
    "%snakeviz jb = Janet_Basis_from_ODE(ode, y, x)\n",
    "print(\"*\"*88)\n",
    "for _ in jb:\n",
    "    display(Math(latexer(_)))\n"
   ]
  },
  {
   "cell_type": "code",
   "execution_count": null,
   "id": "df7f5d17-bbad-419e-8eea-3a0a73f4980e",
   "metadata": {},
   "outputs": [],
   "source": []
  }
 ],
 "metadata": {
  "kernelspec": {
   "display_name": "SageMath 9.7",
   "language": "sage",
   "name": "sagemath"
  },
  "language_info": {
   "codemirror_mode": {
    "name": "ipython",
    "version": 3
   },
   "file_extension": ".py",
   "mimetype": "text/x-python",
   "name": "python",
   "nbconvert_exporter": "python",
   "pygments_lexer": "ipython3",
   "version": "3.10.8"
  },
  "widgets": {
   "application/vnd.jupyter.widget-state+json": {
    "state": {},
    "version_major": 2,
    "version_minor": 0
   }
  }
 },
 "nbformat": 4,
 "nbformat_minor": 5
}
