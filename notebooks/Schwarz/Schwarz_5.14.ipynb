{
 "cells": [
  {
   "cell_type": "code",
   "execution_count": null,
   "id": "92bc90d8-9023-4853-bd48-8ab68cae307a",
   "metadata": {
    "tags": []
   },
   "outputs": [
    {
     "data": {
      "text/latex": [
       "$\\displaystyle y_{x}^2 + x y_{x, x} + y y_{x, x} - y_{x}$"
      ],
      "text/plain": [
       "<IPython.core.display.Math object>"
      ]
     },
     "metadata": {},
     "output_type": "display_data"
    },
    {
     "data": {
      "text/latex": [
       "$\\displaystyle -x  \\xi_{yy} - y  \\xi_{yy} - 2  \\xi_{y}$"
      ],
      "text/plain": [
       "<IPython.core.display.Math object>"
      ]
     },
     "metadata": {},
     "output_type": "display_data"
    },
    {
     "data": {
      "text/latex": [
       "$\\displaystyle x  \\phi_{yy} + y  \\phi_{yy} - 2 x  \\xi_{yx} - 2 y  \\xi_{yx} - x  \\phi_{y}/(x + y) - y  \\phi_{y}/(x + y) - 3 x  \\xi_{y}/(x + y) - 3 y  \\xi_{y}/(x + y) + 2 x  \\xi_{x}/(x + y) + 2 y  \\xi_{x}/(x + y) - \\phi/(x + y) - \\xi/(x + y) + 2  \\phi_{y} +  \\xi_{y} - 2  \\xi_{x}$"
      ],
      "text/plain": [
       "<IPython.core.display.Math object>"
      ]
     },
     "metadata": {},
     "output_type": "display_data"
    },
    {
     "data": {
      "text/latex": [
       "$\\displaystyle 2 x  \\phi_{yx} + 2 y  \\phi_{yx} - x  \\xi_{xx} - y  \\xi_{xx} + x  \\phi_{y}/(x + y) + y  \\phi_{y}/(x + y) - 2 x  \\xi_{x}/(x + y) - 2 y  \\xi_{x}/(x + y) + \\phi/(x + y) + \\xi/(x + y) -  \\phi_{y} + 2  \\phi_{x} +  \\xi_{x}$"
      ],
      "text/plain": [
       "<IPython.core.display.Math object>"
      ]
     },
     "metadata": {},
     "output_type": "display_data"
    },
    {
     "data": {
      "text/latex": [
       "$\\displaystyle 3 x  \\xi_{y} y_{x}^3/(x + y) + 3 y  \\xi_{y} y_{x}^3/(x + y) + x  \\phi_{xx} + y  \\phi_{xx} -  \\phi_{x}$"
      ],
      "text/plain": [
       "<IPython.core.display.Math object>"
      ]
     },
     "metadata": {},
     "output_type": "display_data"
    },
    {
     "name": "stdout",
     "output_type": "stream",
     "text": [
      "> \u001b[0;32m/home/tapir/research-disk/delierium/src/delierium/JanetBasis.py\u001b[0m(780)\u001b[0;36mFindIntegrableConditions\u001b[0;34m()\u001b[0m\n",
      "\u001b[0;32m    778 \u001b[0;31m    \u001b[0mnew_multipliers\u001b[0m \u001b[0;34m=\u001b[0m \u001b[0mMy_Multiplier\u001b[0m\u001b[0;34m(\u001b[0m\u001b[0;34m[\u001b[0m\u001b[0mtuple\u001b[0m\u001b[0;34m(\u001b[0m\u001b[0mreversed\u001b[0m\u001b[0;34m(\u001b[0m\u001b[0m_\u001b[0m\u001b[0;34m[\u001b[0m\u001b[0;36m1\u001b[0m\u001b[0;34m]\u001b[0m\u001b[0;34m)\u001b[0m\u001b[0;34m)\u001b[0m \u001b[0;32mfor\u001b[0m \u001b[0m_\u001b[0m \u001b[0;32min\u001b[0m \u001b[0mmonomials\u001b[0m\u001b[0;34m]\u001b[0m\u001b[0;34m)\u001b[0m\u001b[0;34m.\u001b[0m\u001b[0mmults\u001b[0m\u001b[0;34m\u001b[0m\u001b[0;34m\u001b[0m\u001b[0m\n",
      "\u001b[0m\u001b[0;32m    779 \u001b[0;31m    \u001b[0mset_trace\u001b[0m\u001b[0;34m(\u001b[0m\u001b[0;34m)\u001b[0m\u001b[0;34m\u001b[0m\u001b[0;34m\u001b[0m\u001b[0m\n",
      "\u001b[0m\u001b[0;32m--> 780 \u001b[0;31m    \u001b[0;32mfor\u001b[0m \u001b[0mmonom\u001b[0m\u001b[0;34m,\u001b[0m \u001b[0mdp\u001b[0m \u001b[0;32min\u001b[0m \u001b[0mzip\u001b[0m\u001b[0;34m(\u001b[0m\u001b[0mmonomials\u001b[0m\u001b[0;34m,\u001b[0m \u001b[0mresult\u001b[0m\u001b[0;34m)\u001b[0m\u001b[0;34m:\u001b[0m\u001b[0;34m\u001b[0m\u001b[0;34m\u001b[0m\u001b[0m\n",
      "\u001b[0m\u001b[0;32m    781 \u001b[0;31m        \u001b[0;31m# S1\u001b[0m\u001b[0;34m\u001b[0m\u001b[0;34m\u001b[0m\u001b[0m\n",
      "\u001b[0m\u001b[0;32m    782 \u001b[0;31m        \u001b[0m_multipliers\u001b[0m \u001b[0;34m=\u001b[0m \u001b[0mnew_multipliers\u001b[0m\u001b[0;34m[\u001b[0m\u001b[0mtuple\u001b[0m\u001b[0;34m(\u001b[0m\u001b[0mreversed\u001b[0m\u001b[0;34m(\u001b[0m\u001b[0mmonom\u001b[0m\u001b[0;34m[\u001b[0m\u001b[0;36m1\u001b[0m\u001b[0;34m]\u001b[0m\u001b[0;34m)\u001b[0m\u001b[0;34m)\u001b[0m\u001b[0;34m]\u001b[0m\u001b[0;34m\u001b[0m\u001b[0;34m\u001b[0m\u001b[0m\n",
      "\u001b[0m\n"
     ]
    },
    {
     "name": "stdin",
     "output_type": "stream",
     "text": [
      "ipdb>  c\n"
     ]
    },
    {
     "name": "stdout",
     "output_type": "stream",
     "text": [
      "> \u001b[0;32m/home/tapir/research-disk/delierium/src/delierium/JanetBasis.py\u001b[0m(780)\u001b[0;36mFindIntegrableConditions\u001b[0;34m()\u001b[0m\n",
      "\u001b[0;32m    778 \u001b[0;31m    \u001b[0mnew_multipliers\u001b[0m \u001b[0;34m=\u001b[0m \u001b[0mMy_Multiplier\u001b[0m\u001b[0;34m(\u001b[0m\u001b[0;34m[\u001b[0m\u001b[0mtuple\u001b[0m\u001b[0;34m(\u001b[0m\u001b[0mreversed\u001b[0m\u001b[0;34m(\u001b[0m\u001b[0m_\u001b[0m\u001b[0;34m[\u001b[0m\u001b[0;36m1\u001b[0m\u001b[0;34m]\u001b[0m\u001b[0;34m)\u001b[0m\u001b[0;34m)\u001b[0m \u001b[0;32mfor\u001b[0m \u001b[0m_\u001b[0m \u001b[0;32min\u001b[0m \u001b[0mmonomials\u001b[0m\u001b[0;34m]\u001b[0m\u001b[0;34m)\u001b[0m\u001b[0;34m.\u001b[0m\u001b[0mmults\u001b[0m\u001b[0;34m\u001b[0m\u001b[0;34m\u001b[0m\u001b[0m\n",
      "\u001b[0m\u001b[0;32m    779 \u001b[0;31m    \u001b[0mset_trace\u001b[0m\u001b[0;34m(\u001b[0m\u001b[0;34m)\u001b[0m\u001b[0;34m\u001b[0m\u001b[0;34m\u001b[0m\u001b[0m\n",
      "\u001b[0m\u001b[0;32m--> 780 \u001b[0;31m    \u001b[0;32mfor\u001b[0m \u001b[0mmonom\u001b[0m\u001b[0;34m,\u001b[0m \u001b[0mdp\u001b[0m \u001b[0;32min\u001b[0m \u001b[0mzip\u001b[0m\u001b[0;34m(\u001b[0m\u001b[0mmonomials\u001b[0m\u001b[0;34m,\u001b[0m \u001b[0mresult\u001b[0m\u001b[0;34m)\u001b[0m\u001b[0;34m:\u001b[0m\u001b[0;34m\u001b[0m\u001b[0;34m\u001b[0m\u001b[0m\n",
      "\u001b[0m\u001b[0;32m    781 \u001b[0;31m        \u001b[0;31m# S1\u001b[0m\u001b[0;34m\u001b[0m\u001b[0;34m\u001b[0m\u001b[0m\n",
      "\u001b[0m\u001b[0;32m    782 \u001b[0;31m        \u001b[0m_multipliers\u001b[0m \u001b[0;34m=\u001b[0m \u001b[0mnew_multipliers\u001b[0m\u001b[0;34m[\u001b[0m\u001b[0mtuple\u001b[0m\u001b[0;34m(\u001b[0m\u001b[0mreversed\u001b[0m\u001b[0;34m(\u001b[0m\u001b[0mmonom\u001b[0m\u001b[0;34m[\u001b[0m\u001b[0;36m1\u001b[0m\u001b[0;34m]\u001b[0m\u001b[0;34m)\u001b[0m\u001b[0;34m)\u001b[0m\u001b[0;34m]\u001b[0m\u001b[0;34m\u001b[0m\u001b[0;34m\u001b[0m\u001b[0m\n",
      "\u001b[0m\n"
     ]
    },
    {
     "name": "stdin",
     "output_type": "stream",
     "text": [
      "ipdb>  c\n"
     ]
    },
    {
     "name": "stdout",
     "output_type": "stream",
     "text": [
      "str(e1)='dp_with_mults(dp=<delierium.JanetBasis._Differential_Polynomial object at 0x7fa687990410>, mult=[x], nonmult=[Y])', n=Y\n",
      "str(e2)='dp_with_mults(dp=<delierium.JanetBasis._Differential_Polynomial object at 0x7fa686dd0210>, mult=[x], nonmult=[Y])', m=(x,)\n",
      "diff(phi(Y, x), x, x), adiff(e1.dp.Lder(), context, n)=diff(phi(Y, x), Y, x, x), adiff(e2.dp.Lder(), context, *m)=diff(phi(Y, x), Y, x, x)\n",
      "AAAAAAAAAAAAA\n",
      "adding c=-1/2*(1/(Y + x) - Y/(Y + x)^2 - x/(Y + x)^2)*diff(phi(Y, x), Y)/(Y + x) - 1/2*(Y/(Y + x) + x/(Y + x) - 1)*diff(phi(Y, x), Y, x)/(Y + x) + (1/(Y + x) - Y/(Y + x)^2 - x/(Y + x)^2)*diff(xi(Y, x), x)/(Y + x) + 1/2*(2*Y/(Y + x) + 2*x/(Y + x) - 1)*diff(xi(Y, x), x, x)/(Y + x) + 1/2*(Y/(Y + x) + x/(Y + x) - 1)*diff(phi(Y, x), Y)/(Y + x)^2 - diff(phi(Y, x), Y, x)/(Y + x) - diff(phi(Y, x), x, x)/(Y + x) - 1/2*(2*Y/(Y + x) + 2*x/(Y + x) - 1)*diff(xi(Y, x), x)/(Y + x)^2 + 3/2*diff(phi(Y, x), x)/(Y + x)^2 - 1/2*diff(xi(Y, x), x)/(Y + x)^2 + phi(Y, x)/(Y + x)^3 + xi(Y, x)/(Y + x)^3 + 1/2*diff(xi(Y, x), x, x, x) to result\n",
      "str(e1)='dp_with_mults(dp=<delierium.JanetBasis._Differential_Polynomial object at 0x7fa687990410>, mult=[x], nonmult=[Y])', n=Y\n",
      "str(e2)='dp_with_mults(dp=<delierium.JanetBasis._Differential_Polynomial object at 0x7fa686e476d0>, mult=[x, Y], nonmult=[])', m=(x,)\n",
      "diff(phi(Y, x), x, x), adiff(e1.dp.Lder(), context, n)=diff(phi(Y, x), Y, x, x), adiff(e2.dp.Lder(), context, *m)=diff(phi(Y, x), Y, Y, x)\n",
      "str(e2)='dp_with_mults(dp=<delierium.JanetBasis._Differential_Polynomial object at 0x7fa686e476d0>, mult=[x, Y], nonmult=[])', m=(Y,)\n",
      "diff(phi(Y, x), x, x), adiff(e1.dp.Lder(), context, n)=diff(phi(Y, x), Y, x, x), adiff(e2.dp.Lder(), context, *m)=diff(phi(Y, x), Y, Y, Y)\n",
      "str(e2)='dp_with_mults(dp=<delierium.JanetBasis._Differential_Polynomial object at 0x7fa686e476d0>, mult=[x, Y], nonmult=[])', m=(x, Y)\n",
      "diff(phi(Y, x), x, x), adiff(e1.dp.Lder(), context, n)=diff(phi(Y, x), Y, x, x), adiff(e2.dp.Lder(), context, *m)=diff(phi(Y, x), Y, Y, Y, x)\n",
      "str(e1)='dp_with_mults(dp=<delierium.JanetBasis._Differential_Polynomial object at 0x7fa686dd0210>, mult=[x], nonmult=[Y])', n=Y\n",
      "str(e2)='dp_with_mults(dp=<delierium.JanetBasis._Differential_Polynomial object at 0x7fa687990410>, mult=[x], nonmult=[Y])', m=(x,)\n",
      "diff(phi(Y, x), Y, x), adiff(e1.dp.Lder(), context, n)=diff(phi(Y, x), Y, Y, x), adiff(e2.dp.Lder(), context, *m)=diff(phi(Y, x), x, x, x)\n",
      "str(e1)='dp_with_mults(dp=<delierium.JanetBasis._Differential_Polynomial object at 0x7fa686dd0210>, mult=[x], nonmult=[Y])', n=Y\n",
      "str(e2)='dp_with_mults(dp=<delierium.JanetBasis._Differential_Polynomial object at 0x7fa686e476d0>, mult=[x, Y], nonmult=[])', m=(x,)\n",
      "diff(phi(Y, x), Y, x), adiff(e1.dp.Lder(), context, n)=diff(phi(Y, x), Y, Y, x), adiff(e2.dp.Lder(), context, *m)=diff(phi(Y, x), Y, Y, x)\n",
      "AAAAAAAAAAAAA\n",
      "adding c=3/2*(1/(Y + x) - Y/(Y + x)^2 - x/(Y + x)^2)*diff(phi(Y, x), Y)/(Y + x) + 1/2*(Y/(Y + x) + x/(Y + x) - 1)*diff(phi(Y, x), Y, Y)/(Y + x) + (Y/(Y + x) + x/(Y + x) - 2)*diff(phi(Y, x), Y, x)/(Y + x) + 3*(1/(Y + x) - Y/(Y + x)^2 - x/(Y + x)^2)*diff(xi(Y, x), Y)/(Y + x) + (3*Y/(Y + x) + 3*x/(Y + x) - 1)*diff(xi(Y, x), Y, x)/(Y + x) - 1/2*(2*Y/(Y + x) + 2*x/(Y + x) - 1)*diff(xi(Y, x), Y, x)/(Y + x) - 3*(1/(Y + x) - Y/(Y + x)^2 - x/(Y + x)^2)*diff(xi(Y, x), x)/(Y + x) - 2*(Y/(Y + x) + x/(Y + x) - 1)*diff(xi(Y, x), x, x)/(Y + x) - 1/2*(Y/(Y + x) + x/(Y + x) - 1)*diff(phi(Y, x), Y)/(Y + x)^2 - (Y/(Y + x) + x/(Y + x) - 2)*diff(phi(Y, x), Y)/(Y + x)^2 + diff(phi(Y, x), Y, x)/(Y + x) - (3*Y/(Y + x) + 3*x/(Y + x) - 1)*diff(xi(Y, x), Y)/(Y + x)^2 + 1/2*(2*Y/(Y + x) + 2*x/(Y + x) - 1)*diff(xi(Y, x), x)/(Y + x)^2 + 2*(Y/(Y + x) + x/(Y + x) - 1)*diff(xi(Y, x), x)/(Y + x)^2 + 1/2*diff(phi(Y, x), Y)/(Y + x)^2 + 1/2*diff(xi(Y, x), Y)/(Y + x)^2 + diff(xi(Y, x), x)/(Y + x)^2 - 3*phi(Y, x)/(Y + x)^3 - 3*xi(Y, x)/(Y + x)^3 + 3/2*diff(xi(Y, x), Y, x, x) to result\n",
      "str(e2)='dp_with_mults(dp=<delierium.JanetBasis._Differential_Polynomial object at 0x7fa686e476d0>, mult=[x, Y], nonmult=[])', m=(Y,)\n",
      "diff(phi(Y, x), Y, x), adiff(e1.dp.Lder(), context, n)=diff(phi(Y, x), Y, Y, x), adiff(e2.dp.Lder(), context, *m)=diff(phi(Y, x), Y, Y, Y)\n",
      "str(e2)='dp_with_mults(dp=<delierium.JanetBasis._Differential_Polynomial object at 0x7fa686e476d0>, mult=[x, Y], nonmult=[])', m=(x, Y)\n",
      "diff(phi(Y, x), Y, x), adiff(e1.dp.Lder(), context, n)=diff(phi(Y, x), Y, Y, x), adiff(e2.dp.Lder(), context, *m)=diff(phi(Y, x), Y, Y, Y, x)\n",
      "> \u001b[0;32m/home/tapir/research-disk/delierium/src/delierium/JanetBasis.py\u001b[0m(780)\u001b[0;36mFindIntegrableConditions\u001b[0;34m()\u001b[0m\n",
      "\u001b[0;32m    778 \u001b[0;31m    \u001b[0mnew_multipliers\u001b[0m \u001b[0;34m=\u001b[0m \u001b[0mMy_Multiplier\u001b[0m\u001b[0;34m(\u001b[0m\u001b[0;34m[\u001b[0m\u001b[0mtuple\u001b[0m\u001b[0;34m(\u001b[0m\u001b[0mreversed\u001b[0m\u001b[0;34m(\u001b[0m\u001b[0m_\u001b[0m\u001b[0;34m[\u001b[0m\u001b[0;36m1\u001b[0m\u001b[0;34m]\u001b[0m\u001b[0;34m)\u001b[0m\u001b[0;34m)\u001b[0m \u001b[0;32mfor\u001b[0m \u001b[0m_\u001b[0m \u001b[0;32min\u001b[0m \u001b[0mmonomials\u001b[0m\u001b[0;34m]\u001b[0m\u001b[0;34m)\u001b[0m\u001b[0;34m.\u001b[0m\u001b[0mmults\u001b[0m\u001b[0;34m\u001b[0m\u001b[0;34m\u001b[0m\u001b[0m\n",
      "\u001b[0m\u001b[0;32m    779 \u001b[0;31m    \u001b[0mset_trace\u001b[0m\u001b[0;34m(\u001b[0m\u001b[0;34m)\u001b[0m\u001b[0;34m\u001b[0m\u001b[0;34m\u001b[0m\u001b[0m\n",
      "\u001b[0m\u001b[0;32m--> 780 \u001b[0;31m    \u001b[0;32mfor\u001b[0m \u001b[0mmonom\u001b[0m\u001b[0;34m,\u001b[0m \u001b[0mdp\u001b[0m \u001b[0;32min\u001b[0m \u001b[0mzip\u001b[0m\u001b[0;34m(\u001b[0m\u001b[0mmonomials\u001b[0m\u001b[0;34m,\u001b[0m \u001b[0mresult\u001b[0m\u001b[0;34m)\u001b[0m\u001b[0;34m:\u001b[0m\u001b[0;34m\u001b[0m\u001b[0;34m\u001b[0m\u001b[0m\n",
      "\u001b[0m\u001b[0;32m    781 \u001b[0;31m        \u001b[0;31m# S1\u001b[0m\u001b[0;34m\u001b[0m\u001b[0;34m\u001b[0m\u001b[0m\n",
      "\u001b[0m\u001b[0;32m    782 \u001b[0;31m        \u001b[0m_multipliers\u001b[0m \u001b[0;34m=\u001b[0m \u001b[0mnew_multipliers\u001b[0m\u001b[0;34m[\u001b[0m\u001b[0mtuple\u001b[0m\u001b[0;34m(\u001b[0m\u001b[0mreversed\u001b[0m\u001b[0;34m(\u001b[0m\u001b[0mmonom\u001b[0m\u001b[0;34m[\u001b[0m\u001b[0;36m1\u001b[0m\u001b[0;34m]\u001b[0m\u001b[0;34m)\u001b[0m\u001b[0;34m)\u001b[0m\u001b[0;34m]\u001b[0m\u001b[0;34m\u001b[0m\u001b[0;34m\u001b[0m\u001b[0m\n",
      "\u001b[0m\n"
     ]
    }
   ],
   "source": [
    "from delierium.Infinitesimals import prolongationODE, overdeterminedSystemODE, Janet_Basis_from_ODE\n",
    "from IPython.display import Math\n",
    "from delierium.helpers import latexer\n",
    "x = var('x')\n",
    "y = function('y')\n",
    "\n",
    "d0 = y(x)\n",
    "d1 = diff(y(x), x)\n",
    "d2 = diff(y(x), x, x)\n",
    "ode = d2*d0+x*d2+d1**2-d1\n",
    "\n",
    "%load_ext snakeviz\n",
    "\n",
    "display(Math(latexer(ode)))\n",
    "inf = overdeterminedSystemODE(ode, y, x)\n",
    "for _ in inf:\n",
    "    display(Math(latexer(_)))\n",
    "%snakeviz jb = Janet_Basis_from_ODE(ode, y, x)\n",
    "print(\"*\"*88)\n",
    "for _ in jb:\n",
    "    display(Math(latexer(_)))\n"
   ]
  },
  {
   "cell_type": "code",
   "execution_count": null,
   "id": "df7f5d17-bbad-419e-8eea-3a0a73f4980e",
   "metadata": {},
   "outputs": [],
   "source": []
  }
 ],
 "metadata": {
  "kernelspec": {
   "display_name": "SageMath 10.0",
   "language": "sage",
   "name": "sagemath"
  },
  "language_info": {
   "codemirror_mode": {
    "name": "ipython",
    "version": 3
   },
   "file_extension": ".py",
   "mimetype": "text/x-python",
   "name": "python",
   "nbconvert_exporter": "python",
   "pygments_lexer": "ipython3",
   "version": "3.11.6"
  },
  "widgets": {
   "application/vnd.jupyter.widget-state+json": {
    "state": {},
    "version_major": 2,
    "version_minor": 0
   }
  }
 },
 "nbformat": 4,
 "nbformat_minor": 5
}
