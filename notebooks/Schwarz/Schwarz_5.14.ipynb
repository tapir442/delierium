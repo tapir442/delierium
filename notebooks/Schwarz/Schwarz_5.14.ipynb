{
 "cells": [
  {
   "cell_type": "code",
   "execution_count": 1,
   "id": "92bc90d8-9023-4853-bd48-8ab68cae307a",
   "metadata": {
    "tags": []
   },
   "outputs": [
    {
     "data": {
      "text/latex": [
       "$\\displaystyle y_{x}^2 + x y_{x, x} + y y_{x, x} - y_{x}$"
      ],
      "text/plain": [
       "<IPython.core.display.Math object>"
      ]
     },
     "metadata": {},
     "output_type": "display_data"
    },
    {
     "data": {
      "text/latex": [
       "$\\displaystyle -x  \\xi_{yy} - y  \\xi_{yy} - 2  \\xi_{y}$"
      ],
      "text/plain": [
       "<IPython.core.display.Math object>"
      ]
     },
     "metadata": {},
     "output_type": "display_data"
    },
    {
     "data": {
      "text/latex": [
       "$\\displaystyle x  \\phi_{yy} + y  \\phi_{yy} - 2 x  \\xi_{yx} - 2 y  \\xi_{yx} - x  \\phi_{y}/(x + y) - y  \\phi_{y}/(x + y) - 3 x  \\xi_{y}/(x + y) - 3 y  \\xi_{y}/(x + y) + 2 x  \\xi_{x}/(x + y) + 2 y  \\xi_{x}/(x + y) - \\phi/(x + y) - \\xi/(x + y) + 2  \\phi_{y} +  \\xi_{y} - 2  \\xi_{x}$"
      ],
      "text/plain": [
       "<IPython.core.display.Math object>"
      ]
     },
     "metadata": {},
     "output_type": "display_data"
    },
    {
     "data": {
      "text/latex": [
       "$\\displaystyle 2 x  \\phi_{yx} + 2 y  \\phi_{yx} - x  \\xi_{xx} - y  \\xi_{xx} + x  \\phi_{y}/(x + y) + y  \\phi_{y}/(x + y) - 2 x  \\xi_{x}/(x + y) - 2 y  \\xi_{x}/(x + y) + \\phi/(x + y) + \\xi/(x + y) -  \\phi_{y} + 2  \\phi_{x} +  \\xi_{x}$"
      ],
      "text/plain": [
       "<IPython.core.display.Math object>"
      ]
     },
     "metadata": {},
     "output_type": "display_data"
    },
    {
     "data": {
      "text/latex": [
       "$\\displaystyle 3 x  \\xi_{y} y_{x}^3/(x + y) + 3 y  \\xi_{y} y_{x}^3/(x + y) + x  \\phi_{xx} + y  \\phi_{xx} -  \\phi_{x}$"
      ],
      "text/plain": [
       "<IPython.core.display.Math object>"
      ]
     },
     "metadata": {},
     "output_type": "display_data"
    },
    {
     "name": "stdout",
     "output_type": "stream",
     "text": [
      "****************************************************************************************\n",
      "This is where we start, loop=1\n",
      "diff(xi(Y, x), Y, Y) + (2/(Y + x)) * diff(xi(Y, x), Y), [], []\n",
      "diff(phi(Y, x), x, x) + (-1/(Y + x)) * diff(phi(Y, x), x), [], []\n",
      "diff(phi(Y, x), Y, x) + (-1/2) * diff(xi(Y, x), x, x) + (1/2*(Y/(Y + x) + x/(Y + x) - 1)/(Y + x)) * diff(phi(Y, x), Y) + (1/(Y + x)) * diff(phi(Y, x), x) + (-1/2*(2*Y/(Y + x) + 2*x/(Y + x) - 1)/(Y + x)) * diff(xi(Y, x), x) + (1/2/(Y + x)^2) * xi(Y, x) + (1/2/(Y + x)^2) * phi(Y, x), [], []\n",
      "diff(phi(Y, x), Y, Y) + (-2) * diff(xi(Y, x), Y, x) + (-(Y/(Y + x) + x/(Y + x) - 2)/(Y + x)) * diff(phi(Y, x), Y) + (-(3*Y/(Y + x) + 3*x/(Y + x) - 1)/(Y + x)) * diff(xi(Y, x), Y) + (2*(Y/(Y + x) + x/(Y + x) - 1)/(Y + x)) * diff(xi(Y, x), x) + (-1/(Y + x)^2) * xi(Y, x) + (-1/(Y + x)^2) * phi(Y, x), [], []\n"
     ]
    },
    {
     "ename": "KeyboardInterrupt",
     "evalue": "ECL says: Console interrupt.",
     "output_type": "error",
     "traceback": [
      "\u001b[0;31m---------------------------------------------------------------------------\u001b[0m",
      "\u001b[0;31mKeyboardInterrupt\u001b[0m                         Traceback (most recent call last)",
      "Cell \u001b[0;32mIn[1], line 18\u001b[0m\n\u001b[1;32m     16\u001b[0m \u001b[38;5;28;01mfor\u001b[39;00m _ \u001b[38;5;129;01min\u001b[39;00m inf:\n\u001b[1;32m     17\u001b[0m     display(Math(latexer(_)))\n\u001b[0;32m---> 18\u001b[0m \u001b[43mget_ipython\u001b[49m\u001b[43m(\u001b[49m\u001b[43m)\u001b[49m\u001b[38;5;241;43m.\u001b[39;49m\u001b[43mrun_line_magic\u001b[49m\u001b[43m(\u001b[49m\u001b[38;5;124;43m'\u001b[39;49m\u001b[38;5;124;43msnakeviz\u001b[39;49m\u001b[38;5;124;43m'\u001b[39;49m\u001b[43m,\u001b[49m\u001b[43m \u001b[49m\u001b[38;5;124;43m'\u001b[39;49m\u001b[38;5;124;43mjb = Janet_Basis_from_ODE(ode, y, x)\u001b[39;49m\u001b[38;5;124;43m'\u001b[39;49m\u001b[43m)\u001b[49m\n\u001b[1;32m     19\u001b[0m \u001b[38;5;28mprint\u001b[39m(\u001b[38;5;124m\"\u001b[39m\u001b[38;5;124m*\u001b[39m\u001b[38;5;124m\"\u001b[39m\u001b[38;5;241m*\u001b[39mInteger(\u001b[38;5;241m88\u001b[39m))\n\u001b[1;32m     20\u001b[0m \u001b[38;5;28;01mfor\u001b[39;00m _ \u001b[38;5;129;01min\u001b[39;00m jb:\n",
      "File \u001b[0;32m~/mambaforge/envs/sage/lib/python3.11/site-packages/IPython/core/interactiveshell.py:2432\u001b[0m, in \u001b[0;36mInteractiveShell.run_line_magic\u001b[0;34m(self, magic_name, line, _stack_depth)\u001b[0m\n\u001b[1;32m   2430\u001b[0m     kwargs[\u001b[38;5;124m'\u001b[39m\u001b[38;5;124mlocal_ns\u001b[39m\u001b[38;5;124m'\u001b[39m] \u001b[38;5;241m=\u001b[39m \u001b[38;5;28mself\u001b[39m\u001b[38;5;241m.\u001b[39mget_local_scope(stack_depth)\n\u001b[1;32m   2431\u001b[0m \u001b[38;5;28;01mwith\u001b[39;00m \u001b[38;5;28mself\u001b[39m\u001b[38;5;241m.\u001b[39mbuiltin_trap:\n\u001b[0;32m-> 2432\u001b[0m     result \u001b[38;5;241m=\u001b[39m \u001b[43mfn\u001b[49m\u001b[43m(\u001b[49m\u001b[38;5;241;43m*\u001b[39;49m\u001b[43margs\u001b[49m\u001b[43m,\u001b[49m\u001b[43m \u001b[49m\u001b[38;5;241;43m*\u001b[39;49m\u001b[38;5;241;43m*\u001b[39;49m\u001b[43mkwargs\u001b[49m\u001b[43m)\u001b[49m\n\u001b[1;32m   2434\u001b[0m \u001b[38;5;66;03m# The code below prevents the output from being displayed\u001b[39;00m\n\u001b[1;32m   2435\u001b[0m \u001b[38;5;66;03m# when using magics with decorator @output_can_be_silenced\u001b[39;00m\n\u001b[1;32m   2436\u001b[0m \u001b[38;5;66;03m# when the last Python token in the expression is a ';'.\u001b[39;00m\n\u001b[1;32m   2437\u001b[0m \u001b[38;5;28;01mif\u001b[39;00m \u001b[38;5;28mgetattr\u001b[39m(fn, magic\u001b[38;5;241m.\u001b[39mMAGIC_OUTPUT_CAN_BE_SILENCED, \u001b[38;5;28;01mFalse\u001b[39;00m):\n",
      "File \u001b[0;32m~/mambaforge/envs/sage/lib/python3.11/site-packages/snakeviz/ipymagic.py:84\u001b[0m, in \u001b[0;36mSnakevizMagic.snakeviz\u001b[0;34m(self, line, cell)\u001b[0m\n\u001b[1;32m     82\u001b[0m     ip\u001b[38;5;241m.\u001b[39mrun_cell_magic(\u001b[38;5;124m\"\u001b[39m\u001b[38;5;124mprun\u001b[39m\u001b[38;5;124m\"\u001b[39m, line, cell)\n\u001b[1;32m     83\u001b[0m \u001b[38;5;28;01melse\u001b[39;00m:\n\u001b[0;32m---> 84\u001b[0m     \u001b[43mip\u001b[49m\u001b[38;5;241;43m.\u001b[39;49m\u001b[43mrun_line_magic\u001b[49m\u001b[43m(\u001b[49m\u001b[38;5;124;43m\"\u001b[39;49m\u001b[38;5;124;43mprun\u001b[39;49m\u001b[38;5;124;43m\"\u001b[39;49m\u001b[43m,\u001b[49m\u001b[43m \u001b[49m\u001b[43mline\u001b[49m\u001b[43m)\u001b[49m\n\u001b[1;32m     86\u001b[0m \u001b[38;5;66;03m# start up a Snakeviz server\u001b[39;00m\n\u001b[1;32m     87\u001b[0m \u001b[38;5;28;01mif\u001b[39;00m _check_ipynb() \u001b[38;5;129;01mand\u001b[39;00m \u001b[38;5;129;01mnot\u001b[39;00m (\u001b[38;5;124m\"\u001b[39m\u001b[38;5;124mt\u001b[39m\u001b[38;5;124m\"\u001b[39m \u001b[38;5;129;01min\u001b[39;00m opts \u001b[38;5;129;01mor\u001b[39;00m \u001b[38;5;124m\"\u001b[39m\u001b[38;5;124mnew-tab\u001b[39m\u001b[38;5;124m\"\u001b[39m \u001b[38;5;129;01min\u001b[39;00m opts):\n",
      "File \u001b[0;32m~/mambaforge/envs/sage/lib/python3.11/site-packages/IPython/core/interactiveshell.py:2432\u001b[0m, in \u001b[0;36mInteractiveShell.run_line_magic\u001b[0;34m(self, magic_name, line, _stack_depth)\u001b[0m\n\u001b[1;32m   2430\u001b[0m     kwargs[\u001b[38;5;124m'\u001b[39m\u001b[38;5;124mlocal_ns\u001b[39m\u001b[38;5;124m'\u001b[39m] \u001b[38;5;241m=\u001b[39m \u001b[38;5;28mself\u001b[39m\u001b[38;5;241m.\u001b[39mget_local_scope(stack_depth)\n\u001b[1;32m   2431\u001b[0m \u001b[38;5;28;01mwith\u001b[39;00m \u001b[38;5;28mself\u001b[39m\u001b[38;5;241m.\u001b[39mbuiltin_trap:\n\u001b[0;32m-> 2432\u001b[0m     result \u001b[38;5;241m=\u001b[39m \u001b[43mfn\u001b[49m\u001b[43m(\u001b[49m\u001b[38;5;241;43m*\u001b[39;49m\u001b[43margs\u001b[49m\u001b[43m,\u001b[49m\u001b[43m \u001b[49m\u001b[38;5;241;43m*\u001b[39;49m\u001b[38;5;241;43m*\u001b[39;49m\u001b[43mkwargs\u001b[49m\u001b[43m)\u001b[49m\n\u001b[1;32m   2434\u001b[0m \u001b[38;5;66;03m# The code below prevents the output from being displayed\u001b[39;00m\n\u001b[1;32m   2435\u001b[0m \u001b[38;5;66;03m# when using magics with decorator @output_can_be_silenced\u001b[39;00m\n\u001b[1;32m   2436\u001b[0m \u001b[38;5;66;03m# when the last Python token in the expression is a ';'.\u001b[39;00m\n\u001b[1;32m   2437\u001b[0m \u001b[38;5;28;01mif\u001b[39;00m \u001b[38;5;28mgetattr\u001b[39m(fn, magic\u001b[38;5;241m.\u001b[39mMAGIC_OUTPUT_CAN_BE_SILENCED, \u001b[38;5;28;01mFalse\u001b[39;00m):\n",
      "File \u001b[0;32m~/mambaforge/envs/sage/lib/python3.11/site-packages/IPython/core/magics/execution.py:313\u001b[0m, in \u001b[0;36mExecutionMagics.prun\u001b[0;34m(self, parameter_s, cell)\u001b[0m\n\u001b[1;32m    311\u001b[0m     arg_str \u001b[38;5;241m+\u001b[39m\u001b[38;5;241m=\u001b[39m \u001b[38;5;124m'\u001b[39m\u001b[38;5;130;01m\\n\u001b[39;00m\u001b[38;5;124m'\u001b[39m \u001b[38;5;241m+\u001b[39m cell\n\u001b[1;32m    312\u001b[0m arg_str \u001b[38;5;241m=\u001b[39m \u001b[38;5;28mself\u001b[39m\u001b[38;5;241m.\u001b[39mshell\u001b[38;5;241m.\u001b[39mtransform_cell(arg_str)\n\u001b[0;32m--> 313\u001b[0m \u001b[38;5;28;01mreturn\u001b[39;00m \u001b[38;5;28;43mself\u001b[39;49m\u001b[38;5;241;43m.\u001b[39;49m\u001b[43m_run_with_profiler\u001b[49m\u001b[43m(\u001b[49m\u001b[43marg_str\u001b[49m\u001b[43m,\u001b[49m\u001b[43m \u001b[49m\u001b[43mopts\u001b[49m\u001b[43m,\u001b[49m\u001b[43m \u001b[49m\u001b[38;5;28;43mself\u001b[39;49m\u001b[38;5;241;43m.\u001b[39;49m\u001b[43mshell\u001b[49m\u001b[38;5;241;43m.\u001b[39;49m\u001b[43muser_ns\u001b[49m\u001b[43m)\u001b[49m\n",
      "File \u001b[0;32m~/mambaforge/envs/sage/lib/python3.11/site-packages/IPython/core/magics/execution.py:335\u001b[0m, in \u001b[0;36mExecutionMagics._run_with_profiler\u001b[0;34m(self, code, opts, namespace)\u001b[0m\n\u001b[1;32m    333\u001b[0m prof \u001b[38;5;241m=\u001b[39m profile\u001b[38;5;241m.\u001b[39mProfile()\n\u001b[1;32m    334\u001b[0m \u001b[38;5;28;01mtry\u001b[39;00m:\n\u001b[0;32m--> 335\u001b[0m     prof \u001b[38;5;241m=\u001b[39m \u001b[43mprof\u001b[49m\u001b[38;5;241;43m.\u001b[39;49m\u001b[43mrunctx\u001b[49m\u001b[43m(\u001b[49m\u001b[43mcode\u001b[49m\u001b[43m,\u001b[49m\u001b[43m \u001b[49m\u001b[43mnamespace\u001b[49m\u001b[43m,\u001b[49m\u001b[43m \u001b[49m\u001b[43mnamespace\u001b[49m\u001b[43m)\u001b[49m\n\u001b[1;32m    336\u001b[0m     sys_exit \u001b[38;5;241m=\u001b[39m \u001b[38;5;124m'\u001b[39m\u001b[38;5;124m'\u001b[39m\n\u001b[1;32m    337\u001b[0m \u001b[38;5;28;01mexcept\u001b[39;00m \u001b[38;5;167;01mSystemExit\u001b[39;00m:\n",
      "File \u001b[0;32m~/mambaforge/envs/sage/lib/python3.11/cProfile.py:101\u001b[0m, in \u001b[0;36mProfile.runctx\u001b[0;34m(self, cmd, globals, locals)\u001b[0m\n\u001b[1;32m     99\u001b[0m \u001b[38;5;28mself\u001b[39m\u001b[38;5;241m.\u001b[39menable()\n\u001b[1;32m    100\u001b[0m \u001b[38;5;28;01mtry\u001b[39;00m:\n\u001b[0;32m--> 101\u001b[0m     \u001b[43mexec\u001b[49m\u001b[43m(\u001b[49m\u001b[43mcmd\u001b[49m\u001b[43m,\u001b[49m\u001b[43m \u001b[49m\u001b[38;5;28;43mglobals\u001b[39;49m\u001b[43m,\u001b[49m\u001b[43m \u001b[49m\u001b[38;5;28;43mlocals\u001b[39;49m\u001b[43m)\u001b[49m\n\u001b[1;32m    102\u001b[0m \u001b[38;5;28;01mfinally\u001b[39;00m:\n\u001b[1;32m    103\u001b[0m     \u001b[38;5;28mself\u001b[39m\u001b[38;5;241m.\u001b[39mdisable()\n",
      "File \u001b[0;32m<string>:1\u001b[0m\n",
      "File \u001b[0;32m~/research-disk/delierium/src/delierium/Infinitesimals.py:283\u001b[0m, in \u001b[0;36mJanet_Basis_from_ODE\u001b[0;34m(ode, dependent, independent, order, *args, **kw)\u001b[0m\n\u001b[1;32m    281\u001b[0m     intermediate_system\u001b[38;5;241m.\u001b[39mappend(e)\n\u001b[1;32m    282\u001b[0m \u001b[38;5;66;03m# ToDo: get rid of hardcoded phi and xi\u001b[39;00m\n\u001b[0;32m--> 283\u001b[0m janet \u001b[38;5;241m=\u001b[39m \u001b[43mJanet_Basis\u001b[49m\u001b[43m(\u001b[49m\u001b[43mintermediate_system\u001b[49m\u001b[43m,\u001b[49m\u001b[43m \u001b[49m\u001b[43m[\u001b[49m\u001b[43mphi\u001b[49m\u001b[43m,\u001b[49m\u001b[43m \u001b[49m\u001b[43mxi\u001b[49m\u001b[43m]\u001b[49m\u001b[43m,\u001b[49m\u001b[43m \u001b[49m\u001b[43m[\u001b[49m\u001b[43mY\u001b[49m\u001b[43m,\u001b[49m\u001b[43m \u001b[49m\u001b[43mindependent\u001b[49m\u001b[43m]\u001b[49m\u001b[43m)\u001b[49m\n\u001b[1;32m    284\u001b[0m pols \u001b[38;5;241m=\u001b[39m \u001b[38;5;28mmap\u001b[39m(\u001b[38;5;28;01mlambda\u001b[39;00m _ : _\u001b[38;5;241m.\u001b[39mexpression()\u001b[38;5;241m.\u001b[39msubs({Y : dependent(independent)}), janet\u001b[38;5;241m.\u001b[39mS)\n\u001b[1;32m    285\u001b[0m \u001b[38;5;28;01mreturn\u001b[39;00m pols\n",
      "File \u001b[0;32m~/research-disk/delierium/src/delierium/JanetBasis.py:921\u001b[0m, in \u001b[0;36mJanet_Basis.__init__\u001b[0;34m(self, S, dependent, independent, sort_order)\u001b[0m\n\u001b[1;32m    919\u001b[0m \u001b[38;5;28;01mfor\u001b[39;00m _ \u001b[38;5;129;01min\u001b[39;00m \u001b[38;5;28mself\u001b[39m\u001b[38;5;241m.\u001b[39mS:\n\u001b[1;32m    920\u001b[0m     \u001b[38;5;28mprint\u001b[39m(_)\n\u001b[0;32m--> 921\u001b[0m \u001b[38;5;28mself\u001b[39m\u001b[38;5;241m.\u001b[39mS \u001b[38;5;241m=\u001b[39m \u001b[43mAutoreduce\u001b[49m\u001b[43m(\u001b[49m\u001b[38;5;28;43mself\u001b[39;49m\u001b[38;5;241;43m.\u001b[39;49m\u001b[43mS\u001b[49m\u001b[43m,\u001b[49m\u001b[43m \u001b[49m\u001b[43mcontext\u001b[49m\u001b[43m)\u001b[49m\n\u001b[1;32m    922\u001b[0m \u001b[38;5;28mprint\u001b[39m(\u001b[38;5;124m\"\u001b[39m\u001b[38;5;124mafter autoreduce\u001b[39m\u001b[38;5;124m\"\u001b[39m)\n\u001b[1;32m    923\u001b[0m \u001b[38;5;28;01mfor\u001b[39;00m _ \u001b[38;5;129;01min\u001b[39;00m \u001b[38;5;28mself\u001b[39m\u001b[38;5;241m.\u001b[39mS:\n",
      "File \u001b[0;32m~/research-disk/delierium/src/delierium/JanetBasis.py:509\u001b[0m, in \u001b[0;36mAutoreduce\u001b[0;34m(S, context)\u001b[0m\n\u001b[1;32m    507\u001b[0m have_reduced \u001b[38;5;241m=\u001b[39m \u001b[38;5;28;01mFalse\u001b[39;00m\n\u001b[1;32m    508\u001b[0m \u001b[38;5;28;01mfor\u001b[39;00m _r \u001b[38;5;129;01min\u001b[39;00m r:\n\u001b[0;32m--> 509\u001b[0m     rnew \u001b[38;5;241m=\u001b[39m \u001b[43mreduceS\u001b[49m\u001b[43m(\u001b[49m\u001b[43m_r\u001b[49m\u001b[43m,\u001b[49m\u001b[43m \u001b[49m\u001b[43m_p\u001b[49m\u001b[43m,\u001b[49m\u001b[43m \u001b[49m\u001b[43mcontext\u001b[49m\u001b[43m)\u001b[49m\n\u001b[1;32m    510\u001b[0m     have_reduced \u001b[38;5;241m=\u001b[39m have_reduced \u001b[38;5;129;01mor\u001b[39;00m rnew \u001b[38;5;241m!=\u001b[39m _r\n\u001b[1;32m    511\u001b[0m     newdps\u001b[38;5;241m.\u001b[39mappend(rnew)\n",
      "File \u001b[0;32m~/research-disk/delierium/src/delierium/JanetBasis.py:404\u001b[0m, in \u001b[0;36mreduceS\u001b[0;34m(e, S, context)\u001b[0m\n\u001b[1;32m    402\u001b[0m \u001b[38;5;28;01mwhile\u001b[39;00m reducing:\n\u001b[1;32m    403\u001b[0m     \u001b[38;5;28;01mfor\u001b[39;00m dp \u001b[38;5;129;01min\u001b[39;00m gen:\n\u001b[0;32m--> 404\u001b[0m         enew \u001b[38;5;241m=\u001b[39m \u001b[43mreduce\u001b[49m\u001b[43m(\u001b[49m\u001b[43me\u001b[49m\u001b[43m,\u001b[49m\u001b[43m \u001b[49m\u001b[43mdp\u001b[49m\u001b[43m,\u001b[49m\u001b[43m \u001b[49m\u001b[43mcontext\u001b[49m\u001b[43m)\u001b[49m\n\u001b[1;32m    405\u001b[0m         \u001b[38;5;66;03m# XXX check whether we can replace \"==\" by 'is'\u001b[39;00m\n\u001b[1;32m    406\u001b[0m         \u001b[38;5;28;01mif\u001b[39;00m enew \u001b[38;5;241m==\u001b[39m e:\n",
      "File \u001b[0;32m~/research-disk/delierium/src/delierium/JanetBasis.py:472\u001b[0m, in \u001b[0;36mreduce\u001b[0;34m(e1, e2, context)\u001b[0m\n\u001b[1;32m    448\u001b[0m \u001b[38;5;28;01mdef\u001b[39;00m \u001b[38;5;21mreduce\u001b[39m(e1: _Differential_Polynomial,\n\u001b[1;32m    449\u001b[0m            e2: _Differential_Polynomial,\n\u001b[1;32m    450\u001b[0m            context: Context) \u001b[38;5;241m-\u001b[39m\u001b[38;5;241m>\u001b[39m _Differential_Polynomial:\n\u001b[1;32m    451\u001b[0m \u001b[38;5;250m    \u001b[39m\u001b[38;5;124;03m\"\"\"\u001b[39;00m\n\u001b[1;32m    452\u001b[0m \u001b[38;5;124;03m    Algorithm 2.4 from Schwarz, p.48\u001b[39;00m\n\u001b[1;32m    453\u001b[0m \u001b[38;5;124;03m    >>> # Example 2.33(f1), p.48\u001b[39;00m\n\u001b[0;32m   (...)\u001b[0m\n\u001b[1;32m    470\u001b[0m \u001b[38;5;124;03m    diff(z(x, y), x) + (1/x) * z(x, y), [], []\u001b[39;00m\n\u001b[1;32m    471\u001b[0m \u001b[38;5;124;03m    \"\"\"\u001b[39;00m\n\u001b[0;32m--> 472\u001b[0m     \u001b[38;5;28;01mwhile\u001b[39;00m \u001b[38;5;129;01mnot\u001b[39;00m \u001b[38;5;28mbool\u001b[39m((_e1 \u001b[38;5;241m:=\u001b[39m \u001b[43m_reduce_inner\u001b[49m\u001b[43m(\u001b[49m\u001b[43me1\u001b[49m\u001b[43m,\u001b[49m\u001b[43m \u001b[49m\u001b[43me2\u001b[49m\u001b[43m,\u001b[49m\u001b[43m \u001b[49m\u001b[43mcontext\u001b[49m\u001b[43m)\u001b[49m) \u001b[38;5;241m==\u001b[39m e1):\n\u001b[1;32m    473\u001b[0m         e1 \u001b[38;5;241m=\u001b[39m _e1\n\u001b[1;32m    474\u001b[0m     \u001b[38;5;28;01mreturn\u001b[39;00m _e1\n",
      "File \u001b[0;32m~/research-disk/delierium/src/delierium/JanetBasis.py:432\u001b[0m, in \u001b[0;36m_reduce_inner\u001b[0;34m(e1, e2, context)\u001b[0m\n\u001b[1;32m    429\u001b[0m dif \u001b[38;5;241m=\u001b[39m [a\u001b[38;5;241m-\u001b[39mb \u001b[38;5;28;01mfor\u001b[39;00m a, b \u001b[38;5;129;01min\u001b[39;00m \u001b[38;5;28mzip\u001b[39m(e1_order, e2_order)]\n\u001b[1;32m    430\u001b[0m \u001b[38;5;28;01mif\u001b[39;00m \u001b[38;5;28mall\u001b[39m(\u001b[38;5;28mmap\u001b[39m(\u001b[38;5;28;01mlambda\u001b[39;00m h: h \u001b[38;5;241m==\u001b[39m \u001b[38;5;241m0\u001b[39m, dif)):\n\u001b[1;32m    431\u001b[0m     \u001b[38;5;66;03m# S2 from Algorithm 2.4\u001b[39;00m\n\u001b[0;32m--> 432\u001b[0m     \u001b[38;5;28;01mreturn\u001b[39;00m \u001b[43m_Differential_Polynomial\u001b[49m\u001b[43m(\u001b[49m\n\u001b[1;32m    433\u001b[0m \u001b[43m        \u001b[49m\u001b[43me1\u001b[49m\u001b[38;5;241;43m.\u001b[39;49m\u001b[43mexpression\u001b[49m\u001b[43m(\u001b[49m\u001b[43m)\u001b[49m\u001b[43m \u001b[49m\u001b[38;5;241;43m-\u001b[39;49m\u001b[43m \u001b[49m\u001b[43me2\u001b[49m\u001b[38;5;241;43m.\u001b[39;49m\u001b[43mexpression\u001b[49m\u001b[43m(\u001b[49m\u001b[43m)\u001b[49m\u001b[43m \u001b[49m\u001b[38;5;241;43m*\u001b[39;49m\u001b[43m \u001b[49m\u001b[43mc\u001b[49m\u001b[43m,\u001b[49m\u001b[43m \u001b[49m\u001b[43mcontext\u001b[49m\u001b[43m)\u001b[49m\n\u001b[1;32m    434\u001b[0m \u001b[38;5;28;01mif\u001b[39;00m \u001b[38;5;28mall\u001b[39m(\u001b[38;5;28mmap\u001b[39m(\u001b[38;5;28;01mlambda\u001b[39;00m h: h \u001b[38;5;241m>\u001b[39m\u001b[38;5;241m=\u001b[39m \u001b[38;5;241m0\u001b[39m, dif)):\n\u001b[1;32m    435\u001b[0m     \u001b[38;5;66;03m# S2 from Algorithm 2.4\u001b[39;00m\n\u001b[1;32m    436\u001b[0m     \u001b[38;5;66;03m# toDo: as diff also accepts zerozh derivatives we may\u001b[39;00m\n\u001b[1;32m    437\u001b[0m     \u001b[38;5;66;03m# unfy these two branches\u001b[39;00m\n\u001b[1;32m    438\u001b[0m     variables_to_diff \u001b[38;5;241m=\u001b[39m []\n",
      "File \u001b[0;32m~/research-disk/delierium/src/delierium/JanetBasis.py:203\u001b[0m, in \u001b[0;36m_Differential_Polynomial.__init__\u001b[0;34m(self, e, context)\u001b[0m\n\u001b[1;32m    200\u001b[0m \u001b[38;5;28mself\u001b[39m\u001b[38;5;241m.\u001b[39mnonmultipliers \u001b[38;5;241m=\u001b[39m []\n\u001b[1;32m    202\u001b[0m \u001b[38;5;28;01mif\u001b[39;00m \u001b[38;5;129;01mnot\u001b[39;00m eq(\u001b[38;5;241m0\u001b[39m, e):\n\u001b[0;32m--> 203\u001b[0m     \u001b[38;5;28;43mself\u001b[39;49m\u001b[38;5;241;43m.\u001b[39;49m\u001b[43m_init\u001b[49m\u001b[43m(\u001b[49m\u001b[43me\u001b[49m\u001b[38;5;241;43m.\u001b[39;49m\u001b[43mexpand\u001b[49m\u001b[43m(\u001b[49m\u001b[43m)\u001b[49m\u001b[43m)\u001b[49m\n",
      "File \u001b[0;32m~/research-disk/delierium/src/delierium/JanetBasis.py:221\u001b[0m, in \u001b[0;36m_Differential_Polynomial._init\u001b[0;34m(self, e)\u001b[0m\n\u001b[1;32m    219\u001b[0m \u001b[38;5;28;01mif\u001b[39;00m d:\n\u001b[1;32m    220\u001b[0m     \u001b[38;5;28;01mfor\u001b[39;00m _p \u001b[38;5;129;01min\u001b[39;00m \u001b[38;5;28mself\u001b[39m\u001b[38;5;241m.\u001b[39m_p:\n\u001b[0;32m--> 221\u001b[0m         \u001b[38;5;28;01mif\u001b[39;00m \u001b[43meq\u001b[49m\u001b[43m(\u001b[49m\u001b[43m_p\u001b[49m\u001b[38;5;241;43m.\u001b[39;49m\u001b[43m_d\u001b[49m\u001b[43m,\u001b[49m\u001b[43m \u001b[49m\u001b[43md\u001b[49m\u001b[43m[\u001b[49m\u001b[38;5;241;43m0\u001b[39;49m\u001b[43m]\u001b[49m\u001b[43m)\u001b[49m:\n\u001b[1;32m    222\u001b[0m             _p\u001b[38;5;241m.\u001b[39m_coeff \u001b[38;5;241m+\u001b[39m\u001b[38;5;241m=\u001b[39m coeff\n\u001b[1;32m    223\u001b[0m             found \u001b[38;5;241m=\u001b[39m \u001b[38;5;28;01mTrue\u001b[39;00m\n",
      "File \u001b[0;32m~/research-disk/delierium/src/delierium/helpers.py:25\u001b[0m, in \u001b[0;36meq\u001b[0;34m(d1, d2)\u001b[0m\n\u001b[1;32m     18\u001b[0m \u001b[38;5;28;01mdef\u001b[39;00m \u001b[38;5;21meq\u001b[39m(d1, d2):\n\u001b[1;32m     19\u001b[0m \u001b[38;5;250m    \u001b[39m\u001b[38;5;124;03m'''This cheap trick gives as a lot of performance gain (> 80%!)\u001b[39;00m\n\u001b[1;32m     20\u001b[0m \u001b[38;5;124;03m    because maxima comparisons are expensive,and we can expect\u001b[39;00m\n\u001b[1;32m     21\u001b[0m \u001b[38;5;124;03m    a lot of the same comparisons over and over again.\u001b[39;00m\n\u001b[1;32m     22\u001b[0m \u001b[38;5;124;03m    All other caching is neglegible compared to this here\u001b[39;00m\n\u001b[1;32m     23\u001b[0m \u001b[38;5;124;03m    70 % of the time is spent here!\u001b[39;00m\n\u001b[1;32m     24\u001b[0m \u001b[38;5;124;03m    '''\u001b[39;00m\n\u001b[0;32m---> 25\u001b[0m     \u001b[38;5;28;01mreturn\u001b[39;00m \u001b[38;5;28;43mbool\u001b[39;49m\u001b[43m(\u001b[49m\u001b[43m(\u001b[49m\u001b[43md1\u001b[49m\u001b[43m \u001b[49m\u001b[38;5;129;43;01mis\u001b[39;49;00m\u001b[43m \u001b[49m\u001b[43md2\u001b[49m\u001b[43m)\u001b[49m\u001b[43m \u001b[49m\u001b[38;5;129;43;01mor\u001b[39;49;00m\u001b[43m \u001b[49m\u001b[43m(\u001b[49m\u001b[43md1\u001b[49m\u001b[43m \u001b[49m\u001b[38;5;241;43m==\u001b[39;49m\u001b[43m \u001b[49m\u001b[43md2\u001b[49m\u001b[43m)\u001b[49m\u001b[43m)\u001b[49m\n",
      "File \u001b[0;32m~/mambaforge/envs/sage/lib/python3.11/site-packages/sage/symbolic/expression.pyx:3536\u001b[0m, in \u001b[0;36msage.symbolic.expression.Expression.__bool__ (build/cythonized/sage/symbolic/expression.cpp:49779)\u001b[0;34m()\u001b[0m\n\u001b[1;32m   3534\u001b[0m from sage.symbolic.relation import test_relation_maxima\n\u001b[1;32m   3535\u001b[0m if self.variables():\n\u001b[0;32m-> 3536\u001b[0m     return test_relation_maxima(self)\n\u001b[1;32m   3537\u001b[0m else:\n\u001b[1;32m   3538\u001b[0m     return False\n",
      "File \u001b[0;32m~/mambaforge/envs/sage/lib/python3.11/site-packages/sage/symbolic/relation.py:538\u001b[0m, in \u001b[0;36mtest_relation_maxima\u001b[0;34m(relation)\u001b[0m\n\u001b[1;32m    528\u001b[0m     \u001b[38;5;28;01mreturn\u001b[39;00m \u001b[38;5;28;01mTrue\u001b[39;00m\n\u001b[1;32m    530\u001b[0m \u001b[38;5;66;03m# Try to apply some simplifications to see if left - right == 0.\u001b[39;00m\n\u001b[1;32m    531\u001b[0m \u001b[38;5;66;03m#\u001b[39;00m\n\u001b[1;32m    532\u001b[0m \u001b[38;5;66;03m# TODO: If simplify_log() is ever removed from simplify_full(), we\u001b[39;00m\n\u001b[0;32m   (...)\u001b[0m\n\u001b[1;32m    536\u001b[0m \u001b[38;5;66;03m# approach does not.\u001b[39;00m\n\u001b[1;32m    537\u001b[0m \u001b[38;5;66;03m#\u001b[39;00m\n\u001b[0;32m--> 538\u001b[0m simp_list \u001b[38;5;241m=\u001b[39m [\u001b[43mdifference\u001b[49m\u001b[38;5;241;43m.\u001b[39;49m\u001b[43msimplify_factorial\u001b[49m\u001b[43m(\u001b[49m\u001b[43m)\u001b[49m,\n\u001b[1;32m    539\u001b[0m              difference\u001b[38;5;241m.\u001b[39msimplify_rational(),\n\u001b[1;32m    540\u001b[0m              difference\u001b[38;5;241m.\u001b[39msimplify_rectform(),\n\u001b[1;32m    541\u001b[0m              difference\u001b[38;5;241m.\u001b[39msimplify_trig()]\n\u001b[1;32m    542\u001b[0m \u001b[38;5;28;01mfor\u001b[39;00m f \u001b[38;5;129;01min\u001b[39;00m simp_list:\n\u001b[1;32m    543\u001b[0m     \u001b[38;5;28;01mtry\u001b[39;00m:\n",
      "File \u001b[0;32m~/mambaforge/envs/sage/lib/python3.11/site-packages/sage/symbolic/expression.pyx:11228\u001b[0m, in \u001b[0;36msage.symbolic.expression.Expression.simplify_factorial (build/cythonized/sage/symbolic/expression.cpp:86061)\u001b[0;34m()\u001b[0m\n\u001b[1;32m  11226\u001b[0m \n\u001b[1;32m  11227\u001b[0m         \"\"\"\n\u001b[0;32m> 11228\u001b[0m         return self.parent()(self._maxima_().makefact().factcomb().minfactorial())\n\u001b[1;32m  11229\u001b[0m \n\u001b[1;32m  11230\u001b[0m     factorial_simplify = simplify_factorial\n",
      "File \u001b[0;32m~/mambaforge/envs/sage/lib/python3.11/site-packages/sage/structure/parent.pyx:896\u001b[0m, in \u001b[0;36msage.structure.parent.Parent.__call__ (build/cythonized/sage/structure/parent.c:9528)\u001b[0;34m()\u001b[0m\n\u001b[1;32m    894\u001b[0m if mor is not None:\n\u001b[1;32m    895\u001b[0m     if no_extra_args:\n\u001b[0;32m--> 896\u001b[0m         return mor._call_(x)\n\u001b[1;32m    897\u001b[0m     else:\n\u001b[1;32m    898\u001b[0m         return mor._call_with_args(x, args, kwds)\n",
      "File \u001b[0;32m~/mambaforge/envs/sage/lib/python3.11/site-packages/sage/structure/coerce_maps.pyx:156\u001b[0m, in \u001b[0;36msage.structure.coerce_maps.DefaultConvertMap_unique._call_ (build/cythonized/sage/structure/coerce_maps.c:4744)\u001b[0;34m()\u001b[0m\n\u001b[1;32m    154\u001b[0m cdef Parent C = self._codomain\n\u001b[1;32m    155\u001b[0m try:\n\u001b[0;32m--> 156\u001b[0m     return C._element_constructor(x)\n\u001b[1;32m    157\u001b[0m except Exception:\n\u001b[1;32m    158\u001b[0m     if print_warnings:\n",
      "File \u001b[0;32m~/mambaforge/envs/sage/lib/python3.11/site-packages/sage/symbolic/ring.pyx:384\u001b[0m, in \u001b[0;36msage.symbolic.ring.SymbolicRing._element_constructor_ (build/cythonized/sage/symbolic/ring.c:5846)\u001b[0;34m()\u001b[0m\n\u001b[1;32m    382\u001b[0m         TypeError: Malformed expression: λ + * !!!  1\n\u001b[1;32m    383\u001b[0m     \"\"\"\n\u001b[0;32m--> 384\u001b[0m     return new_Expression(self, x)\n\u001b[1;32m    385\u001b[0m \n\u001b[1;32m    386\u001b[0m def _force_pyobject(self, x, bint force=False, bint recursive=True):\n",
      "File \u001b[0;32m~/mambaforge/envs/sage/lib/python3.11/site-packages/sage/symbolic/expression.pyx:13744\u001b[0m, in \u001b[0;36msage.symbolic.expression.new_Expression (build/cythonized/sage/symbolic/expression.cpp:101009)\u001b[0;34m()\u001b[0m\n\u001b[1;32m  13742\u001b[0m     return new_Expression_from_GEx(parent, (<Expression>x)._gobj)\n\u001b[1;32m  13743\u001b[0m if hasattr(x, '_symbolic_'):\n\u001b[0;32m> 13744\u001b[0m     return x._symbolic_(parent)\n\u001b[1;32m  13745\u001b[0m elif isinstance(x, str):\n\u001b[1;32m  13746\u001b[0m     try:\n",
      "File \u001b[0;32m~/mambaforge/envs/sage/lib/python3.11/site-packages/sage/interfaces/maxima_abstract.py:1280\u001b[0m, in \u001b[0;36mMaximaAbstractElement._symbolic_\u001b[0;34m(self, R)\u001b[0m\n\u001b[1;32m   1257\u001b[0m \u001b[38;5;28;01mdef\u001b[39;00m \u001b[38;5;21m_symbolic_\u001b[39m(\u001b[38;5;28mself\u001b[39m, R):\n\u001b[1;32m   1258\u001b[0m \u001b[38;5;250m    \u001b[39m\u001b[38;5;124;03m\"\"\"\u001b[39;00m\n\u001b[1;32m   1259\u001b[0m \u001b[38;5;124;03m    Return a symbolic expression equivalent to this Maxima object.\u001b[39;00m\n\u001b[1;32m   1260\u001b[0m \n\u001b[0;32m   (...)\u001b[0m\n\u001b[1;32m   1278\u001b[0m \u001b[38;5;124;03m        sqrt(2)\u001b[39;00m\n\u001b[1;32m   1279\u001b[0m \u001b[38;5;124;03m    \"\"\"\u001b[39;00m\n\u001b[0;32m-> 1280\u001b[0m     \u001b[38;5;28;01mreturn\u001b[39;00m R(\u001b[38;5;28;43mself\u001b[39;49m\u001b[38;5;241;43m.\u001b[39;49m\u001b[43m_sage_\u001b[49m\u001b[43m(\u001b[49m\u001b[43m)\u001b[49m)\n",
      "File \u001b[0;32m~/mambaforge/envs/sage/lib/python3.11/site-packages/sage/interfaces/maxima_abstract.py:1254\u001b[0m, in \u001b[0;36mMaximaAbstractElement._sage_\u001b[0;34m(self)\u001b[0m\n\u001b[1;32m   1199\u001b[0m \u001b[38;5;250m\u001b[39m\u001b[38;5;124;03m\"\"\"\u001b[39;00m\n\u001b[1;32m   1200\u001b[0m \u001b[38;5;124;03mAttempt to make a native Sage object out of this Maxima object.\u001b[39;00m\n\u001b[1;32m   1201\u001b[0m \u001b[38;5;124;03mThis is useful for automatic coercions in addition to other\u001b[39;00m\n\u001b[0;32m   (...)\u001b[0m\n\u001b[1;32m   1251\u001b[0m \u001b[38;5;124;03m    (True, False)\u001b[39;00m\n\u001b[1;32m   1252\u001b[0m \u001b[38;5;124;03m\"\"\"\u001b[39;00m\n\u001b[1;32m   1253\u001b[0m \u001b[38;5;28;01mimport\u001b[39;00m \u001b[38;5;21;01msage\u001b[39;00m\u001b[38;5;21;01m.\u001b[39;00m\u001b[38;5;21;01mcalculus\u001b[39;00m\u001b[38;5;21;01m.\u001b[39;00m\u001b[38;5;21;01mcalculus\u001b[39;00m \u001b[38;5;28;01mas\u001b[39;00m \u001b[38;5;21;01mcalculus\u001b[39;00m\n\u001b[0;32m-> 1254\u001b[0m \u001b[38;5;28;01mreturn\u001b[39;00m \u001b[43mcalculus\u001b[49m\u001b[38;5;241;43m.\u001b[39;49m\u001b[43msymbolic_expression_from_maxima_string\u001b[49m\u001b[43m(\u001b[49m\u001b[38;5;28;43mself\u001b[39;49m\u001b[38;5;241;43m.\u001b[39;49m\u001b[43mname\u001b[49m\u001b[43m(\u001b[49m\u001b[43m)\u001b[49m\u001b[43m,\u001b[49m\n\u001b[1;32m   1255\u001b[0m \u001b[43m        \u001b[49m\u001b[43mmaxima\u001b[49m\u001b[38;5;241;43m=\u001b[39;49m\u001b[38;5;28;43mself\u001b[39;49m\u001b[38;5;241;43m.\u001b[39;49m\u001b[43mparent\u001b[49m\u001b[43m(\u001b[49m\u001b[43m)\u001b[49m\u001b[43m)\u001b[49m\n",
      "File \u001b[0;32m~/mambaforge/envs/sage/lib/python3.11/site-packages/sage/calculus/calculus.py:2300\u001b[0m, in \u001b[0;36msymbolic_expression_from_maxima_string\u001b[0;34m(x, equals_sub, maxima)\u001b[0m\n\u001b[1;32m   2295\u001b[0m maxima\u001b[38;5;241m.\u001b[39mset(\u001b[38;5;124m'\u001b[39m\u001b[38;5;124m_tmp_\u001b[39m\u001b[38;5;124m'\u001b[39m, x)\n\u001b[1;32m   2297\u001b[0m \u001b[38;5;66;03m# This is inefficient since it so rarely is needed:\u001b[39;00m\n\u001b[1;32m   2298\u001b[0m \u001b[38;5;66;03m#r = maxima._eval_line('listofvars(_tmp_);')[1:-1]\u001b[39;00m\n\u001b[0;32m-> 2300\u001b[0m s \u001b[38;5;241m=\u001b[39m \u001b[43mmaxima\u001b[49m\u001b[38;5;241;43m.\u001b[39;49m\u001b[43m_eval_line\u001b[49m\u001b[43m(\u001b[49m\u001b[38;5;124;43m'\u001b[39;49m\u001b[38;5;124;43m_tmp_;\u001b[39;49m\u001b[38;5;124;43m'\u001b[39;49m\u001b[43m)\u001b[49m\n\u001b[1;32m   2302\u001b[0m \u001b[38;5;66;03m# We don't actually implement a parser for maxima expressions.\u001b[39;00m\n\u001b[1;32m   2303\u001b[0m \u001b[38;5;66;03m# Instead we simply transform the string until it is a valid\u001b[39;00m\n\u001b[1;32m   2304\u001b[0m \u001b[38;5;66;03m# sagemath expression and parse that.\u001b[39;00m\n\u001b[0;32m   (...)\u001b[0m\n\u001b[1;32m   2308\u001b[0m \u001b[38;5;66;03m# literal -- but string literals should *never* ever be part of a\u001b[39;00m\n\u001b[1;32m   2309\u001b[0m \u001b[38;5;66;03m# symbolic expression.\u001b[39;00m\n\u001b[1;32m   2310\u001b[0m s \u001b[38;5;241m=\u001b[39m s\u001b[38;5;241m.\u001b[39mreplace(\u001b[38;5;124m\"\u001b[39m\u001b[38;5;124m'\u001b[39m\u001b[38;5;124m\"\u001b[39m,\u001b[38;5;124m\"\u001b[39m\u001b[38;5;124m\"\u001b[39m)\n",
      "File \u001b[0;32m~/mambaforge/envs/sage/lib/python3.11/site-packages/sage/interfaces/maxima_lib.py:467\u001b[0m, in \u001b[0;36mMaximaLib._eval_line\u001b[0;34m(self, line, locals, reformat, **kwds)\u001b[0m\n\u001b[1;32m    465\u001b[0m         line \u001b[38;5;241m=\u001b[39m line[ind_semi\u001b[38;5;241m+\u001b[39m\u001b[38;5;241m1\u001b[39m:]\n\u001b[1;32m    466\u001b[0m     \u001b[38;5;28;01mif\u001b[39;00m statement:\n\u001b[0;32m--> 467\u001b[0m         result \u001b[38;5;241m=\u001b[39m ((result \u001b[38;5;241m+\u001b[39m \u001b[38;5;124m'\u001b[39m\u001b[38;5;130;01m\\n\u001b[39;00m\u001b[38;5;124m'\u001b[39m) \u001b[38;5;28;01mif\u001b[39;00m result \u001b[38;5;28;01melse\u001b[39;00m \u001b[38;5;124m'\u001b[39m\u001b[38;5;124m'\u001b[39m) \u001b[38;5;241m+\u001b[39m \u001b[43mmax_to_string\u001b[49m\u001b[43m(\u001b[49m\u001b[43mmaxima_eval\u001b[49m\u001b[43m(\u001b[49m\u001b[38;5;124;43m\"\u001b[39;49m\u001b[38;5;124;43m#$\u001b[39;49m\u001b[38;5;132;43;01m%s\u001b[39;49;00m\u001b[38;5;124;43m$\u001b[39;49m\u001b[38;5;124;43m\"\u001b[39;49m\u001b[38;5;241;43m%\u001b[39;49m\u001b[43mstatement\u001b[49m\u001b[43m)\u001b[49m\u001b[43m)\u001b[49m\n\u001b[1;32m    468\u001b[0m \u001b[38;5;28;01melse\u001b[39;00m:\n\u001b[1;32m    469\u001b[0m     statement \u001b[38;5;241m=\u001b[39m line[:ind_dollar]\n",
      "File \u001b[0;32m~/mambaforge/envs/sage/lib/python3.11/site-packages/sage/interfaces/maxima_lib.py:303\u001b[0m, in \u001b[0;36mmax_to_string\u001b[0;34m(s)\u001b[0m\n\u001b[1;32m    286\u001b[0m \u001b[38;5;28;01mdef\u001b[39;00m \u001b[38;5;21mmax_to_string\u001b[39m(s):\n\u001b[1;32m    287\u001b[0m \u001b[38;5;250m    \u001b[39m\u001b[38;5;124mr\u001b[39m\u001b[38;5;124;03m\"\"\"\u001b[39;00m\n\u001b[1;32m    288\u001b[0m \u001b[38;5;124;03m    Return the Maxima string corresponding to this ECL object.\u001b[39;00m\n\u001b[1;32m    289\u001b[0m \n\u001b[0;32m   (...)\u001b[0m\n\u001b[1;32m    301\u001b[0m \u001b[38;5;124;03m        'cos(_SAGE_VAR_x)'\u001b[39;00m\n\u001b[1;32m    302\u001b[0m \u001b[38;5;124;03m    \"\"\"\u001b[39;00m\n\u001b[0;32m--> 303\u001b[0m     \u001b[38;5;28;01mreturn\u001b[39;00m \u001b[43mmaxprint\u001b[49m\u001b[43m(\u001b[49m\u001b[43ms\u001b[49m\u001b[43m)\u001b[49m\u001b[38;5;241m.\u001b[39mpython()[\u001b[38;5;241m1\u001b[39m:\u001b[38;5;241m-\u001b[39m\u001b[38;5;241m1\u001b[39m]\n",
      "File \u001b[0;32m~/mambaforge/envs/sage/lib/python3.11/site-packages/sage/libs/ecl.pyx:830\u001b[0m, in \u001b[0;36msage.libs.ecl.EclObject.__call__ (build/cythonized/sage/libs/ecl.c:8511)\u001b[0;34m()\u001b[0m\n\u001b[1;32m    828\u001b[0m     \"\"\"\n\u001b[1;32m    829\u001b[0m     lispargs = EclObject(list(args))\n\u001b[0;32m--> 830\u001b[0m     return ecl_wrap(ecl_safe_apply(self.obj,(<EclObject>lispargs).obj))\n\u001b[1;32m    831\u001b[0m \n\u001b[1;32m    832\u001b[0m def __richcmp__(left, right, int op):\n",
      "File \u001b[0;32m~/mambaforge/envs/sage/lib/python3.11/site-packages/sage/libs/ecl.pyx:351\u001b[0m, in \u001b[0;36msage.libs.ecl.ecl_safe_apply (build/cythonized/sage/libs/ecl.c:6048)\u001b[0;34m()\u001b[0m\n\u001b[1;32m    349\u001b[0m message = ecl_string_to_python(error)\n\u001b[1;32m    350\u001b[0m if \"Console interrupt\" in message:\n\u001b[0;32m--> 351\u001b[0m     raise KeyboardInterrupt(\"ECL says: {}\".format(message))\n\u001b[1;32m    352\u001b[0m else:\n\u001b[1;32m    353\u001b[0m     raise RuntimeError(\"ECL says: {}\".format(message))\n",
      "\u001b[0;31mKeyboardInterrupt\u001b[0m: ECL says: Console interrupt."
     ]
    }
   ],
   "source": [
    "from delierium.Infinitesimals import prolongationODE, overdeterminedSystemODE, Janet_Basis_from_ODE\n",
    "from IPython.display import Math\n",
    "from delierium.helpers import latexer\n",
    "x = var('x')\n",
    "y = function('y')\n",
    "\n",
    "d0 = y(x)\n",
    "d1 = diff(y(x), x)\n",
    "d2 = diff(y(x), x, x)\n",
    "ode = d2*d0+x*d2+d1**2-d1\n",
    "\n",
    "%load_ext snakeviz\n",
    "\n",
    "display(Math(latexer(ode)))\n",
    "inf = overdeterminedSystemODE(ode, y, x)\n",
    "for _ in inf:\n",
    "    display(Math(latexer(_)))\n",
    "%snakeviz jb = Janet_Basis_from_ODE(ode, y, x)\n",
    "print(\"*\"*88)\n",
    "for _ in jb:\n",
    "    display(Math(latexer(_)))\n"
   ]
  },
  {
   "cell_type": "code",
   "execution_count": null,
   "id": "df7f5d17-bbad-419e-8eea-3a0a73f4980e",
   "metadata": {},
   "outputs": [],
   "source": []
  }
 ],
 "metadata": {
  "kernelspec": {
   "display_name": "SageMath 10.0",
   "language": "sage",
   "name": "sagemath"
  },
  "language_info": {
   "codemirror_mode": {
    "name": "ipython",
    "version": 3
   },
   "file_extension": ".py",
   "mimetype": "text/x-python",
   "name": "python",
   "nbconvert_exporter": "python",
   "pygments_lexer": "ipython3",
   "version": "3.11.6"
  },
  "widgets": {
   "application/vnd.jupyter.widget-state+json": {
    "state": {},
    "version_major": 2,
    "version_minor": 0
   }
  }
 },
 "nbformat": 4,
 "nbformat_minor": 5
}
