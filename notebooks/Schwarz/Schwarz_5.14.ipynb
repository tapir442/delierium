{
 "cells": [
  {
   "cell_type": "code",
   "execution_count": null,
   "id": "92bc90d8-9023-4853-bd48-8ab68cae307a",
   "metadata": {},
   "outputs": [
    {
     "data": {
      "text/latex": [
       "$\\displaystyle y_{x}^2 + x y_{x, x} + y y_{x, x} - y_{x}$"
      ],
      "text/plain": [
       "<IPython.core.display.Math object>"
      ]
     },
     "metadata": {},
     "output_type": "display_data"
    }
   ],
   "source": [
    "from delierium.Infinitesimals import prolongationODE, infinitesimalsODE, Janet_Basis_from_ODE\n",
    "from IPython.display import Math\n",
    "from delierium.helpers import latexer\n",
    "x = var('x')\n",
    "y = function('y')\n",
    "\n",
    "d0 = y(x)\n",
    "d1 = diff(y(x), x)\n",
    "d2 = diff(y(x), x, x)\n",
    "ode = d2*d0+x*d2+d1**2-d1\n",
    "\n",
    "%load_ext snakeviz\n",
    "\n",
    "display(Math(latexer(ode)))\n",
    "%snakeviz jb = Janet_Basis_from_ODE(ode, y, x)\n",
    "print(\"*\"*88)\n",
    "for _ in jb:\n",
    "    display(Math(latexer(_)))\n"
   ]
  },
  {
   "cell_type": "code",
   "execution_count": null,
   "id": "df7f5d17-bbad-419e-8eea-3a0a73f4980e",
   "metadata": {},
   "outputs": [],
   "source": []
  }
 ],
 "metadata": {
  "kernelspec": {
   "display_name": "SageMath 9.7",
   "language": "sage",
   "name": "sagemath"
  },
  "language_info": {
   "codemirror_mode": {
    "name": "ipython",
    "version": 3
   },
   "file_extension": ".py",
   "mimetype": "text/x-python",
   "name": "python",
   "nbconvert_exporter": "python",
   "pygments_lexer": "ipython3",
   "version": "3.10.8"
  },
  "widgets": {
   "application/vnd.jupyter.widget-state+json": {
    "state": {},
    "version_major": 2,
    "version_minor": 0
   }
  }
 },
 "nbformat": 4,
 "nbformat_minor": 5
}
