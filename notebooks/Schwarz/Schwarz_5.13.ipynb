{
 "cells": [
  {
   "cell_type": "code",
   "execution_count": 1,
   "id": "8d250c34-9775-4345-9ec8-c011b8e84f66",
   "metadata": {},
   "outputs": [],
   "source": [
    "from delierium.Infinitesimals import prolongationODE, overdeterminedSystemODE, Janet_Basis_from_ODE\n",
    "from delierium.JanetBasis import Janet_Basis\n",
    "from delierium.helpers import is_derivative, order_of_derivative, eq\n",
    "from delierium.MatrixOrder import Context\n",
    "import functools\n",
    "from operator import mul\n",
    "from pprint import pprint"
   ]
  },
  {
   "cell_type": "code",
   "execution_count": 2,
   "id": "b4f58764-ba59-4b3c-9ea6-055adcfdf2d4",
   "metadata": {},
   "outputs": [
    {
     "data": {
      "text/html": [
       "<html>\\(\\displaystyle -4 \\, {\\left(x^{2} y\\left(x\\right) - 2\\right)} x^{4} \\frac{\\partial}{\\partial x}y\\left(x\\right)^{2} \\frac{\\partial^{2}}{(\\partial x)^{2}}y\\left(x\\right) + 4 \\, x^{6} \\frac{\\partial^{4}}{(\\partial x)^{4}}y\\left(x\\right) + {\\left(x^{2} y\\left(x\\right) - 2\\right)}^{2} x^{2} \\frac{\\partial^{2}}{(\\partial x)^{2}}y\\left(x\\right)^{2} + 24 \\, x^{2} y\\left(x\\right) \\frac{\\partial}{\\partial x}y\\left(x\\right) + 24 \\, x y\\left(x\\right)^{2} \\frac{\\partial}{\\partial x}y\\left(x\\right) - 8 \\, {\\left(x^{2} y\\left(x\\right) - 2\\right)} x \\frac{\\partial}{\\partial x}y\\left(x\\right) \\frac{\\partial^{2}}{(\\partial x)^{2}}y\\left(x\\right) + 24 \\, x^{3} \\frac{\\partial^{3}}{(\\partial x)^{3}}y\\left(x\\right) + 8 \\, y\\left(x\\right)^{3} + 16 \\, \\frac{\\partial}{\\partial x}y\\left(x\\right)^{2}\\)</html>"
      ],
      "text/latex": [
       "$\\displaystyle -4 \\, {\\left(x^{2} y\\left(x\\right) - 2\\right)} x^{4} \\frac{\\partial}{\\partial x}y\\left(x\\right)^{2} \\frac{\\partial^{2}}{(\\partial x)^{2}}y\\left(x\\right) + 4 \\, x^{6} \\frac{\\partial^{4}}{(\\partial x)^{4}}y\\left(x\\right) + {\\left(x^{2} y\\left(x\\right) - 2\\right)}^{2} x^{2} \\frac{\\partial^{2}}{(\\partial x)^{2}}y\\left(x\\right)^{2} + 24 \\, x^{2} y\\left(x\\right) \\frac{\\partial}{\\partial x}y\\left(x\\right) + 24 \\, x y\\left(x\\right)^{2} \\frac{\\partial}{\\partial x}y\\left(x\\right) - 8 \\, {\\left(x^{2} y\\left(x\\right) - 2\\right)} x \\frac{\\partial}{\\partial x}y\\left(x\\right) \\frac{\\partial^{2}}{(\\partial x)^{2}}y\\left(x\\right) + 24 \\, x^{3} \\frac{\\partial^{3}}{(\\partial x)^{3}}y\\left(x\\right) + 8 \\, y\\left(x\\right)^{3} + 16 \\, \\frac{\\partial}{\\partial x}y\\left(x\\right)^{2}$"
      ],
      "text/plain": [
       "-4*(x^2*y(x) - 2)*x^4*diff(y(x), x)^2*diff(y(x), x, x) + 4*x^6*diff(y(x), x, x, x, x) + (x^2*y(x) - 2)^2*x^2*diff(y(x), x, x)^2 + 24*x^2*y(x)*diff(y(x), x) + 24*x*y(x)^2*diff(y(x), x) - 8*(x^2*y(x) - 2)*x*diff(y(x), x)*diff(y(x), x, x) + 24*x^3*diff(y(x), x, x, x) + 8*y(x)^3 + 16*diff(y(x), x)^2"
      ]
     },
     "metadata": {},
     "output_type": "display_data"
    },
    {
     "name": "stdout",
     "output_type": "stream",
     "text": [
      ".........................\n"
     ]
    },
    {
     "data": {
      "text/html": [
       "<html>\\(\\displaystyle -40 \\, x^{6} \\mathrm{D}_{0}\\left(\\xi\\right)\\left(y\\left(x\\right), x\\right)\\)</html>"
      ],
      "text/latex": [
       "$\\displaystyle -40 \\, x^{6} \\mathrm{D}_{0}\\left(\\xi\\right)\\left(y\\left(x\\right), x\\right)$"
      ],
      "text/plain": [
       "-40*x^6*D[0](xi)(y(x), x)"
      ]
     },
     "metadata": {},
     "output_type": "display_data"
    },
    {
     "data": {
      "text/html": [
       "<html>\\(\\displaystyle -40 \\, x^{6} \\mathrm{D}_{0, 0}\\left(\\xi\\right)\\left(y\\left(x\\right), x\\right)\\)</html>"
      ],
      "text/latex": [
       "$\\displaystyle -40 \\, x^{6} \\mathrm{D}_{0, 0}\\left(\\xi\\right)\\left(y\\left(x\\right), x\\right)$"
      ],
      "text/plain": [
       "-40*x^6*D[0, 0](xi)(y(x), x)"
      ]
     },
     "metadata": {},
     "output_type": "display_data"
    },
    {
     "data": {
      "text/html": [
       "<html>\\(\\displaystyle 16 \\, x^{6} \\mathrm{D}_{0, 0}\\left(\\phi\\right)\\left(y\\left(x\\right), x\\right) - 64 \\, x^{6} \\mathrm{D}_{0, 1}\\left(\\xi\\right)\\left(y\\left(x\\right), x\\right) + 24 \\, x^{3} \\mathrm{D}_{0}\\left(\\xi\\right)\\left(y\\left(x\\right), x\\right)\\)</html>"
      ],
      "text/latex": [
       "$\\displaystyle 16 \\, x^{6} \\mathrm{D}_{0, 0}\\left(\\phi\\right)\\left(y\\left(x\\right), x\\right) - 64 \\, x^{6} \\mathrm{D}_{0, 1}\\left(\\xi\\right)\\left(y\\left(x\\right), x\\right) + 24 \\, x^{3} \\mathrm{D}_{0}\\left(\\xi\\right)\\left(y\\left(x\\right), x\\right)$"
      ],
      "text/plain": [
       "16*x^6*D[0, 0](phi)(y(x), x) - 64*x^6*D[0, 1](xi)(y(x), x) + 24*x^3*D[0](xi)(y(x), x)"
      ]
     },
     "metadata": {},
     "output_type": "display_data"
    },
    {
     "data": {
      "text/html": [
       "<html>\\(\\displaystyle 16 \\, x^{6} \\mathrm{D}_{0, 1}\\left(\\phi\\right)\\left(y\\left(x\\right), x\\right) - 24 \\, x^{6} \\mathrm{D}_{1, 1}\\left(\\xi\\right)\\left(y\\left(x\\right), x\\right) + 24 \\, x^{3} \\mathrm{D}_{1}\\left(\\xi\\right)\\left(y\\left(x\\right), x\\right) - 72 \\, x^{2} \\xi\\left(y\\left(x\\right), x\\right)\\)</html>"
      ],
      "text/latex": [
       "$\\displaystyle 16 \\, x^{6} \\mathrm{D}_{0, 1}\\left(\\phi\\right)\\left(y\\left(x\\right), x\\right) - 24 \\, x^{6} \\mathrm{D}_{1, 1}\\left(\\xi\\right)\\left(y\\left(x\\right), x\\right) + 24 \\, x^{3} \\mathrm{D}_{1}\\left(\\xi\\right)\\left(y\\left(x\\right), x\\right) - 72 \\, x^{2} \\xi\\left(y\\left(x\\right), x\\right)$"
      ],
      "text/plain": [
       "16*x^6*D[0, 1](phi)(y(x), x) - 24*x^6*D[1, 1](xi)(y(x), x) + 24*x^3*D[1](xi)(y(x), x) - 72*x^2*xi(y(x), x)"
      ]
     },
     "metadata": {},
     "output_type": "display_data"
    },
    {
     "data": {
      "text/html": [
       "<html>\\(\\displaystyle -x^{6} y\\left(x\\right)^{2} \\mathrm{D}_{0}\\left(\\xi\\right)\\left(y\\left(x\\right), x\\right) - 60 \\, x^{6} \\mathrm{D}_{0, 0}\\left(\\xi\\right)\\left(y\\left(x\\right), x\\right) + 4 \\, x^{4} y\\left(x\\right) \\mathrm{D}_{0}\\left(\\xi\\right)\\left(y\\left(x\\right), x\\right) - 4 \\, x^{2} \\mathrm{D}_{0}\\left(\\xi\\right)\\left(y\\left(x\\right), x\\right)\\)</html>"
      ],
      "text/latex": [
       "$\\displaystyle -x^{6} y\\left(x\\right)^{2} \\mathrm{D}_{0}\\left(\\xi\\right)\\left(y\\left(x\\right), x\\right) - 60 \\, x^{6} \\mathrm{D}_{0, 0}\\left(\\xi\\right)\\left(y\\left(x\\right), x\\right) + 4 \\, x^{4} y\\left(x\\right) \\mathrm{D}_{0}\\left(\\xi\\right)\\left(y\\left(x\\right), x\\right) - 4 \\, x^{2} \\mathrm{D}_{0}\\left(\\xi\\right)\\left(y\\left(x\\right), x\\right)$"
      ],
      "text/plain": [
       "-x^6*y(x)^2*D[0](xi)(y(x), x) - 60*x^6*D[0, 0](xi)(y(x), x) + 4*x^4*y(x)*D[0](xi)(y(x), x) - 4*x^2*D[0](xi)(y(x), x)"
      ]
     },
     "metadata": {},
     "output_type": "display_data"
    },
    {
     "data": {
      "text/html": [
       "<html>\\(\\displaystyle x^{6} y\\left(x\\right)^{2} \\mathrm{D}_{0}\\left(\\phi\\right)\\left(y\\left(x\\right), x\\right) + 2 \\, x^{6} \\phi\\left(y\\left(x\\right), x\\right) y\\left(x\\right) + 12 \\, x^{6} \\mathrm{D}_{0, 0}\\left(\\phi\\right)\\left(y\\left(x\\right), x\\right) - 48 \\, x^{6} \\mathrm{D}_{0, 1}\\left(\\xi\\right)\\left(y\\left(x\\right), x\\right) - 4 \\, x^{4} y\\left(x\\right) \\mathrm{D}_{0}\\left(\\phi\\right)\\left(y\\left(x\\right), x\\right) - 4 \\, x^{4} \\phi\\left(y\\left(x\\right), x\\right) + 8 \\, x^{3} \\xi\\left(y\\left(x\\right), x\\right) y\\left(x\\right) - 72 \\, x^{3} \\mathrm{D}_{0}\\left(\\xi\\right)\\left(y\\left(x\\right), x\\right) + 4 \\, x^{2} \\mathrm{D}_{0}\\left(\\phi\\right)\\left(y\\left(x\\right), x\\right) - 16 \\, x \\xi\\left(y\\left(x\\right), x\\right)\\)</html>"
      ],
      "text/latex": [
       "$\\displaystyle x^{6} y\\left(x\\right)^{2} \\mathrm{D}_{0}\\left(\\phi\\right)\\left(y\\left(x\\right), x\\right) + 2 \\, x^{6} \\phi\\left(y\\left(x\\right), x\\right) y\\left(x\\right) + 12 \\, x^{6} \\mathrm{D}_{0, 0}\\left(\\phi\\right)\\left(y\\left(x\\right), x\\right) - 48 \\, x^{6} \\mathrm{D}_{0, 1}\\left(\\xi\\right)\\left(y\\left(x\\right), x\\right) - 4 \\, x^{4} y\\left(x\\right) \\mathrm{D}_{0}\\left(\\phi\\right)\\left(y\\left(x\\right), x\\right) - 4 \\, x^{4} \\phi\\left(y\\left(x\\right), x\\right) + 8 \\, x^{3} \\xi\\left(y\\left(x\\right), x\\right) y\\left(x\\right) - 72 \\, x^{3} \\mathrm{D}_{0}\\left(\\xi\\right)\\left(y\\left(x\\right), x\\right) + 4 \\, x^{2} \\mathrm{D}_{0}\\left(\\phi\\right)\\left(y\\left(x\\right), x\\right) - 16 \\, x \\xi\\left(y\\left(x\\right), x\\right)$"
      ],
      "text/plain": [
       "x^6*y(x)^2*D[0](phi)(y(x), x) + 2*x^6*phi(y(x), x)*y(x) + 12*x^6*D[0, 0](phi)(y(x), x) - 48*x^6*D[0, 1](xi)(y(x), x) - 4*x^4*y(x)*D[0](phi)(y(x), x) - 4*x^4*phi(y(x), x) + 8*x^3*xi(y(x), x)*y(x) - 72*x^3*D[0](xi)(y(x), x) + 4*x^2*D[0](phi)(y(x), x) - 16*x*xi(y(x), x)"
      ]
     },
     "metadata": {},
     "output_type": "display_data"
    },
    {
     "data": {
      "text/html": [
       "<html>\\(\\displaystyle -2 \\, x^{6} y\\left(x\\right)^{2} \\mathrm{D}_{0, 0}\\left(\\xi\\right)\\left(y\\left(x\\right), x\\right) - 40 \\, x^{6} \\mathrm{D}_{0, 0, 0}\\left(\\xi\\right)\\left(y\\left(x\\right), x\\right) + 8 \\, x^{4} y\\left(x\\right) \\mathrm{D}_{0, 0}\\left(\\xi\\right)\\left(y\\left(x\\right), x\\right) - 8 \\, x^{2} \\mathrm{D}_{0, 0}\\left(\\xi\\right)\\left(y\\left(x\\right), x\\right)\\)</html>"
      ],
      "text/latex": [
       "$\\displaystyle -2 \\, x^{6} y\\left(x\\right)^{2} \\mathrm{D}_{0, 0}\\left(\\xi\\right)\\left(y\\left(x\\right), x\\right) - 40 \\, x^{6} \\mathrm{D}_{0, 0, 0}\\left(\\xi\\right)\\left(y\\left(x\\right), x\\right) + 8 \\, x^{4} y\\left(x\\right) \\mathrm{D}_{0, 0}\\left(\\xi\\right)\\left(y\\left(x\\right), x\\right) - 8 \\, x^{2} \\mathrm{D}_{0, 0}\\left(\\xi\\right)\\left(y\\left(x\\right), x\\right)$"
      ],
      "text/plain": [
       "-2*x^6*y(x)^2*D[0, 0](xi)(y(x), x) - 40*x^6*D[0, 0, 0](xi)(y(x), x) + 8*x^4*y(x)*D[0, 0](xi)(y(x), x) - 8*x^2*D[0, 0](xi)(y(x), x)"
      ]
     },
     "metadata": {},
     "output_type": "display_data"
    },
    {
     "data": {
      "text/html": [
       "<html>\\(\\displaystyle 2 \\, x^{6} y\\left(x\\right)^{2} \\mathrm{D}_{0, 0}\\left(\\phi\\right)\\left(y\\left(x\\right), x\\right) - 4 \\, x^{6} y\\left(x\\right)^{2} \\mathrm{D}_{0, 1}\\left(\\xi\\right)\\left(y\\left(x\\right), x\\right) - 8 \\, x^{6} y\\left(x\\right) \\mathrm{D}_{0}\\left(\\phi\\right)\\left(y\\left(x\\right), x\\right) - 4 \\, x^{6} \\phi\\left(y\\left(x\\right), x\\right) + 24 \\, x^{6} \\mathrm{D}_{0, 0, 0}\\left(\\phi\\right)\\left(y\\left(x\\right), x\\right) - 96 \\, x^{6} \\mathrm{D}_{0, 0, 1}\\left(\\xi\\right)\\left(y\\left(x\\right), x\\right) - 8 \\, x^{4} y\\left(x\\right) \\mathrm{D}_{0, 0}\\left(\\phi\\right)\\left(y\\left(x\\right), x\\right) + 16 \\, x^{4} y\\left(x\\right) \\mathrm{D}_{0, 1}\\left(\\xi\\right)\\left(y\\left(x\\right), x\\right) + 16 \\, x^{4} \\mathrm{D}_{0}\\left(\\phi\\right)\\left(y\\left(x\\right), x\\right) - 8 \\, x^{3} y\\left(x\\right) \\mathrm{D}_{0}\\left(\\xi\\right)\\left(y\\left(x\\right), x\\right) - 16 \\, x^{3} \\xi\\left(y\\left(x\\right), x\\right) - 144 \\, x^{3} \\mathrm{D}_{0, 0}\\left(\\xi\\right)\\left(y\\left(x\\right), x\\right) + 8 \\, x^{2} \\mathrm{D}_{0, 0}\\left(\\phi\\right)\\left(y\\left(x\\right), x\\right) - 16 \\, x^{2} \\mathrm{D}_{0, 1}\\left(\\xi\\right)\\left(y\\left(x\\right), x\\right) + 16 \\, x \\mathrm{D}_{0}\\left(\\xi\\right)\\left(y\\left(x\\right), x\\right)\\)</html>"
      ],
      "text/latex": [
       "$\\displaystyle 2 \\, x^{6} y\\left(x\\right)^{2} \\mathrm{D}_{0, 0}\\left(\\phi\\right)\\left(y\\left(x\\right), x\\right) - 4 \\, x^{6} y\\left(x\\right)^{2} \\mathrm{D}_{0, 1}\\left(\\xi\\right)\\left(y\\left(x\\right), x\\right) - 8 \\, x^{6} y\\left(x\\right) \\mathrm{D}_{0}\\left(\\phi\\right)\\left(y\\left(x\\right), x\\right) - 4 \\, x^{6} \\phi\\left(y\\left(x\\right), x\\right) + 24 \\, x^{6} \\mathrm{D}_{0, 0, 0}\\left(\\phi\\right)\\left(y\\left(x\\right), x\\right) - 96 \\, x^{6} \\mathrm{D}_{0, 0, 1}\\left(\\xi\\right)\\left(y\\left(x\\right), x\\right) - 8 \\, x^{4} y\\left(x\\right) \\mathrm{D}_{0, 0}\\left(\\phi\\right)\\left(y\\left(x\\right), x\\right) + 16 \\, x^{4} y\\left(x\\right) \\mathrm{D}_{0, 1}\\left(\\xi\\right)\\left(y\\left(x\\right), x\\right) + 16 \\, x^{4} \\mathrm{D}_{0}\\left(\\phi\\right)\\left(y\\left(x\\right), x\\right) - 8 \\, x^{3} y\\left(x\\right) \\mathrm{D}_{0}\\left(\\xi\\right)\\left(y\\left(x\\right), x\\right) - 16 \\, x^{3} \\xi\\left(y\\left(x\\right), x\\right) - 144 \\, x^{3} \\mathrm{D}_{0, 0}\\left(\\xi\\right)\\left(y\\left(x\\right), x\\right) + 8 \\, x^{2} \\mathrm{D}_{0, 0}\\left(\\phi\\right)\\left(y\\left(x\\right), x\\right) - 16 \\, x^{2} \\mathrm{D}_{0, 1}\\left(\\xi\\right)\\left(y\\left(x\\right), x\\right) + 16 \\, x \\mathrm{D}_{0}\\left(\\xi\\right)\\left(y\\left(x\\right), x\\right)$"
      ],
      "text/plain": [
       "2*x^6*y(x)^2*D[0, 0](phi)(y(x), x) - 4*x^6*y(x)^2*D[0, 1](xi)(y(x), x) - 8*x^6*y(x)*D[0](phi)(y(x), x) - 4*x^6*phi(y(x), x) + 24*x^6*D[0, 0, 0](phi)(y(x), x) - 96*x^6*D[0, 0, 1](xi)(y(x), x) - 8*x^4*y(x)*D[0, 0](phi)(y(x), x) + 16*x^4*y(x)*D[0, 1](xi)(y(x), x) + 16*x^4*D[0](phi)(y(x), x) - 8*x^3*y(x)*D[0](xi)(y(x), x) - 16*x^3*xi(y(x), x) - 144*x^3*D[0, 0](xi)(y(x), x) + 8*x^2*D[0, 0](phi)(y(x), x) - 16*x^2*D[0, 1](xi)(y(x), x) + 16*x*D[0](xi)(y(x), x)"
      ]
     },
     "metadata": {},
     "output_type": "display_data"
    },
    {
     "data": {
      "text/html": [
       "<html>\\(\\displaystyle 4 \\, x^{6} y\\left(x\\right)^{2} \\mathrm{D}_{0, 1}\\left(\\phi\\right)\\left(y\\left(x\\right), x\\right) - 2 \\, x^{6} y\\left(x\\right)^{2} \\mathrm{D}_{1, 1}\\left(\\xi\\right)\\left(y\\left(x\\right), x\\right) - 8 \\, x^{6} y\\left(x\\right) \\mathrm{D}_{1}\\left(\\phi\\right)\\left(y\\left(x\\right), x\\right) + 48 \\, x^{6} \\mathrm{D}_{0, 0, 1}\\left(\\phi\\right)\\left(y\\left(x\\right), x\\right) - 72 \\, x^{6} \\mathrm{D}_{0, 1, 1}\\left(\\xi\\right)\\left(y\\left(x\\right), x\\right) - 16 \\, x^{4} y\\left(x\\right) \\mathrm{D}_{0, 1}\\left(\\phi\\right)\\left(y\\left(x\\right), x\\right) + 8 \\, x^{4} y\\left(x\\right) \\mathrm{D}_{1, 1}\\left(\\xi\\right)\\left(y\\left(x\\right), x\\right) - 8 \\, x^{3} y\\left(x\\right) \\mathrm{D}_{0}\\left(\\phi\\right)\\left(y\\left(x\\right), x\\right) + 16 \\, x^{4} \\mathrm{D}_{1}\\left(\\phi\\right)\\left(y\\left(x\\right), x\\right) - 8 \\, x^{3} y\\left(x\\right) \\mathrm{D}_{1}\\left(\\xi\\right)\\left(y\\left(x\\right), x\\right) - 8 \\, x^{3} \\phi\\left(y\\left(x\\right), x\\right) + 24 \\, x^{2} \\xi\\left(y\\left(x\\right), x\\right) y\\left(x\\right) + 72 \\, x^{3} \\mathrm{D}_{0, 0}\\left(\\phi\\right)\\left(y\\left(x\\right), x\\right) - 216 \\, x^{3} \\mathrm{D}_{0, 1}\\left(\\xi\\right)\\left(y\\left(x\\right), x\\right) + 16 \\, x^{2} \\mathrm{D}_{0, 1}\\left(\\phi\\right)\\left(y\\left(x\\right), x\\right) - 8 \\, x^{2} \\mathrm{D}_{1, 1}\\left(\\xi\\right)\\left(y\\left(x\\right), x\\right) + 16 \\, x \\mathrm{D}_{0}\\left(\\phi\\right)\\left(y\\left(x\\right), x\\right) + 16 \\, x \\mathrm{D}_{1}\\left(\\xi\\right)\\left(y\\left(x\\right), x\\right) - 80 \\, \\xi\\left(y\\left(x\\right), x\\right)\\)</html>"
      ],
      "text/latex": [
       "$\\displaystyle 4 \\, x^{6} y\\left(x\\right)^{2} \\mathrm{D}_{0, 1}\\left(\\phi\\right)\\left(y\\left(x\\right), x\\right) - 2 \\, x^{6} y\\left(x\\right)^{2} \\mathrm{D}_{1, 1}\\left(\\xi\\right)\\left(y\\left(x\\right), x\\right) - 8 \\, x^{6} y\\left(x\\right) \\mathrm{D}_{1}\\left(\\phi\\right)\\left(y\\left(x\\right), x\\right) + 48 \\, x^{6} \\mathrm{D}_{0, 0, 1}\\left(\\phi\\right)\\left(y\\left(x\\right), x\\right) - 72 \\, x^{6} \\mathrm{D}_{0, 1, 1}\\left(\\xi\\right)\\left(y\\left(x\\right), x\\right) - 16 \\, x^{4} y\\left(x\\right) \\mathrm{D}_{0, 1}\\left(\\phi\\right)\\left(y\\left(x\\right), x\\right) + 8 \\, x^{4} y\\left(x\\right) \\mathrm{D}_{1, 1}\\left(\\xi\\right)\\left(y\\left(x\\right), x\\right) - 8 \\, x^{3} y\\left(x\\right) \\mathrm{D}_{0}\\left(\\phi\\right)\\left(y\\left(x\\right), x\\right) + 16 \\, x^{4} \\mathrm{D}_{1}\\left(\\phi\\right)\\left(y\\left(x\\right), x\\right) - 8 \\, x^{3} y\\left(x\\right) \\mathrm{D}_{1}\\left(\\xi\\right)\\left(y\\left(x\\right), x\\right) - 8 \\, x^{3} \\phi\\left(y\\left(x\\right), x\\right) + 24 \\, x^{2} \\xi\\left(y\\left(x\\right), x\\right) y\\left(x\\right) + 72 \\, x^{3} \\mathrm{D}_{0, 0}\\left(\\phi\\right)\\left(y\\left(x\\right), x\\right) - 216 \\, x^{3} \\mathrm{D}_{0, 1}\\left(\\xi\\right)\\left(y\\left(x\\right), x\\right) + 16 \\, x^{2} \\mathrm{D}_{0, 1}\\left(\\phi\\right)\\left(y\\left(x\\right), x\\right) - 8 \\, x^{2} \\mathrm{D}_{1, 1}\\left(\\xi\\right)\\left(y\\left(x\\right), x\\right) + 16 \\, x \\mathrm{D}_{0}\\left(\\phi\\right)\\left(y\\left(x\\right), x\\right) + 16 \\, x \\mathrm{D}_{1}\\left(\\xi\\right)\\left(y\\left(x\\right), x\\right) - 80 \\, \\xi\\left(y\\left(x\\right), x\\right)$"
      ],
      "text/plain": [
       "4*x^6*y(x)^2*D[0, 1](phi)(y(x), x) - 2*x^6*y(x)^2*D[1, 1](xi)(y(x), x) - 8*x^6*y(x)*D[1](phi)(y(x), x) + 48*x^6*D[0, 0, 1](phi)(y(x), x) - 72*x^6*D[0, 1, 1](xi)(y(x), x) - 16*x^4*y(x)*D[0, 1](phi)(y(x), x) + 8*x^4*y(x)*D[1, 1](xi)(y(x), x) - 8*x^3*y(x)*D[0](phi)(y(x), x) + 16*x^4*D[1](phi)(y(x), x) - 8*x^3*y(x)*D[1](xi)(y(x), x) - 8*x^3*phi(y(x), x) + 24*x^2*xi(y(x), x)*y(x) + 72*x^3*D[0, 0](phi)(y(x), x) - 216*x^3*D[0, 1](xi)(y(x), x) + 16*x^2*D[0, 1](phi)(y(x), x) - 8*x^2*D[1, 1](xi)(y(x), x) + 16*x*D[0](phi)(y(x), x) + 16*x*D[1](xi)(y(x), x) - 80*xi(y(x), x)"
      ]
     },
     "metadata": {},
     "output_type": "display_data"
    },
    {
     "data": {
      "text/html": [
       "<html>\\(\\displaystyle 2 \\, x^{6} y\\left(x\\right)^{2} \\mathrm{D}_{1, 1}\\left(\\phi\\right)\\left(y\\left(x\\right), x\\right) + 24 \\, x^{6} \\mathrm{D}_{0, 1, 1}\\left(\\phi\\right)\\left(y\\left(x\\right), x\\right) - 16 \\, x^{6} \\mathrm{D}_{1, 1, 1}\\left(\\xi\\right)\\left(y\\left(x\\right), x\\right) - 8 \\, x^{4} y\\left(x\\right) \\mathrm{D}_{1, 1}\\left(\\phi\\right)\\left(y\\left(x\\right), x\\right) - 8 \\, x^{3} y\\left(x\\right) \\mathrm{D}_{1}\\left(\\phi\\right)\\left(y\\left(x\\right), x\\right) + 72 \\, x^{3} \\mathrm{D}_{0, 1}\\left(\\phi\\right)\\left(y\\left(x\\right), x\\right) - 72 \\, x^{3} \\mathrm{D}_{1, 1}\\left(\\xi\\right)\\left(y\\left(x\\right), x\\right) + 8 \\, x^{2} \\mathrm{D}_{1, 1}\\left(\\phi\\right)\\left(y\\left(x\\right), x\\right) + 16 \\, x \\mathrm{D}_{1}\\left(\\phi\\right)\\left(y\\left(x\\right), x\\right)\\)</html>"
      ],
      "text/latex": [
       "$\\displaystyle 2 \\, x^{6} y\\left(x\\right)^{2} \\mathrm{D}_{1, 1}\\left(\\phi\\right)\\left(y\\left(x\\right), x\\right) + 24 \\, x^{6} \\mathrm{D}_{0, 1, 1}\\left(\\phi\\right)\\left(y\\left(x\\right), x\\right) - 16 \\, x^{6} \\mathrm{D}_{1, 1, 1}\\left(\\xi\\right)\\left(y\\left(x\\right), x\\right) - 8 \\, x^{4} y\\left(x\\right) \\mathrm{D}_{1, 1}\\left(\\phi\\right)\\left(y\\left(x\\right), x\\right) - 8 \\, x^{3} y\\left(x\\right) \\mathrm{D}_{1}\\left(\\phi\\right)\\left(y\\left(x\\right), x\\right) + 72 \\, x^{3} \\mathrm{D}_{0, 1}\\left(\\phi\\right)\\left(y\\left(x\\right), x\\right) - 72 \\, x^{3} \\mathrm{D}_{1, 1}\\left(\\xi\\right)\\left(y\\left(x\\right), x\\right) + 8 \\, x^{2} \\mathrm{D}_{1, 1}\\left(\\phi\\right)\\left(y\\left(x\\right), x\\right) + 16 \\, x \\mathrm{D}_{1}\\left(\\phi\\right)\\left(y\\left(x\\right), x\\right)$"
      ],
      "text/plain": [
       "2*x^6*y(x)^2*D[1, 1](phi)(y(x), x) + 24*x^6*D[0, 1, 1](phi)(y(x), x) - 16*x^6*D[1, 1, 1](xi)(y(x), x) - 8*x^4*y(x)*D[1, 1](phi)(y(x), x) - 8*x^3*y(x)*D[1](phi)(y(x), x) + 72*x^3*D[0, 1](phi)(y(x), x) - 72*x^3*D[1, 1](xi)(y(x), x) + 8*x^2*D[1, 1](phi)(y(x), x) + 16*x*D[1](phi)(y(x), x)"
      ]
     },
     "metadata": {},
     "output_type": "display_data"
    },
    {
     "data": {
      "text/html": [
       "<html>\\(\\displaystyle 4 \\, x^{6} y\\left(x\\right) \\mathrm{D}_{0, 0}\\left(\\xi\\right)\\left(y\\left(x\\right), x\\right) - 4 \\, x^{6} \\mathrm{D}_{0, 0, 0, 0}\\left(\\xi\\right)\\left(y\\left(x\\right), x\\right) - 8 \\, x^{4} \\mathrm{D}_{0, 0}\\left(\\xi\\right)\\left(y\\left(x\\right), x\\right)\\)</html>"
      ],
      "text/latex": [
       "$\\displaystyle 4 \\, x^{6} y\\left(x\\right) \\mathrm{D}_{0, 0}\\left(\\xi\\right)\\left(y\\left(x\\right), x\\right) - 4 \\, x^{6} \\mathrm{D}_{0, 0, 0, 0}\\left(\\xi\\right)\\left(y\\left(x\\right), x\\right) - 8 \\, x^{4} \\mathrm{D}_{0, 0}\\left(\\xi\\right)\\left(y\\left(x\\right), x\\right)$"
      ],
      "text/plain": [
       "4*x^6*y(x)*D[0, 0](xi)(y(x), x) - 4*x^6*D[0, 0, 0, 0](xi)(y(x), x) - 8*x^4*D[0, 0](xi)(y(x), x)"
      ]
     },
     "metadata": {},
     "output_type": "display_data"
    },
    {
     "data": {
      "text/html": [
       "<html>\\(\\displaystyle -4 \\, x^{6} y\\left(x\\right) \\mathrm{D}_{0, 0}\\left(\\phi\\right)\\left(y\\left(x\\right), x\\right) + 8 \\, x^{6} y\\left(x\\right) \\mathrm{D}_{0, 1}\\left(\\xi\\right)\\left(y\\left(x\\right), x\\right) + 4 \\, x^{6} \\mathrm{D}_{0, 0, 0, 0}\\left(\\phi\\right)\\left(y\\left(x\\right), x\\right) - 16 \\, x^{6} \\mathrm{D}_{0, 0, 0, 1}\\left(\\xi\\right)\\left(y\\left(x\\right), x\\right) + 8 \\, x^{4} \\mathrm{D}_{0, 0}\\left(\\phi\\right)\\left(y\\left(x\\right), x\\right) + 8 \\, x^{3} y\\left(x\\right) \\mathrm{D}_{0, 0}\\left(\\xi\\right)\\left(y\\left(x\\right), x\\right) - 16 \\, x^{4} \\mathrm{D}_{0, 1}\\left(\\xi\\right)\\left(y\\left(x\\right), x\\right) - 24 \\, x^{3} \\mathrm{D}_{0, 0, 0}\\left(\\xi\\right)\\left(y\\left(x\\right), x\\right) - 16 \\, x \\mathrm{D}_{0, 0}\\left(\\xi\\right)\\left(y\\left(x\\right), x\\right)\\)</html>"
      ],
      "text/latex": [
       "$\\displaystyle -4 \\, x^{6} y\\left(x\\right) \\mathrm{D}_{0, 0}\\left(\\phi\\right)\\left(y\\left(x\\right), x\\right) + 8 \\, x^{6} y\\left(x\\right) \\mathrm{D}_{0, 1}\\left(\\xi\\right)\\left(y\\left(x\\right), x\\right) + 4 \\, x^{6} \\mathrm{D}_{0, 0, 0, 0}\\left(\\phi\\right)\\left(y\\left(x\\right), x\\right) - 16 \\, x^{6} \\mathrm{D}_{0, 0, 0, 1}\\left(\\xi\\right)\\left(y\\left(x\\right), x\\right) + 8 \\, x^{4} \\mathrm{D}_{0, 0}\\left(\\phi\\right)\\left(y\\left(x\\right), x\\right) + 8 \\, x^{3} y\\left(x\\right) \\mathrm{D}_{0, 0}\\left(\\xi\\right)\\left(y\\left(x\\right), x\\right) - 16 \\, x^{4} \\mathrm{D}_{0, 1}\\left(\\xi\\right)\\left(y\\left(x\\right), x\\right) - 24 \\, x^{3} \\mathrm{D}_{0, 0, 0}\\left(\\xi\\right)\\left(y\\left(x\\right), x\\right) - 16 \\, x \\mathrm{D}_{0, 0}\\left(\\xi\\right)\\left(y\\left(x\\right), x\\right)$"
      ],
      "text/plain": [
       "-4*x^6*y(x)*D[0, 0](phi)(y(x), x) + 8*x^6*y(x)*D[0, 1](xi)(y(x), x) + 4*x^6*D[0, 0, 0, 0](phi)(y(x), x) - 16*x^6*D[0, 0, 0, 1](xi)(y(x), x) + 8*x^4*D[0, 0](phi)(y(x), x) + 8*x^3*y(x)*D[0, 0](xi)(y(x), x) - 16*x^4*D[0, 1](xi)(y(x), x) - 24*x^3*D[0, 0, 0](xi)(y(x), x) - 16*x*D[0, 0](xi)(y(x), x)"
      ]
     },
     "metadata": {},
     "output_type": "display_data"
    },
    {
     "data": {
      "text/html": [
       "<html>\\(\\displaystyle -8 \\, x^{6} y\\left(x\\right) \\mathrm{D}_{0, 1}\\left(\\phi\\right)\\left(y\\left(x\\right), x\\right) + 4 \\, x^{6} y\\left(x\\right) \\mathrm{D}_{1, 1}\\left(\\xi\\right)\\left(y\\left(x\\right), x\\right) + 16 \\, x^{6} \\mathrm{D}_{0, 0, 0, 1}\\left(\\phi\\right)\\left(y\\left(x\\right), x\\right) - 24 \\, x^{6} \\mathrm{D}_{0, 0, 1, 1}\\left(\\xi\\right)\\left(y\\left(x\\right), x\\right) - 8 \\, x^{3} y\\left(x\\right) \\mathrm{D}_{0, 0}\\left(\\phi\\right)\\left(y\\left(x\\right), x\\right) + 16 \\, x^{4} \\mathrm{D}_{0, 1}\\left(\\phi\\right)\\left(y\\left(x\\right), x\\right) + 16 \\, x^{3} y\\left(x\\right) \\mathrm{D}_{0, 1}\\left(\\xi\\right)\\left(y\\left(x\\right), x\\right) - 8 \\, x^{4} \\mathrm{D}_{1, 1}\\left(\\xi\\right)\\left(y\\left(x\\right), x\\right) + 24 \\, x^{3} \\mathrm{D}_{0, 0, 0}\\left(\\phi\\right)\\left(y\\left(x\\right), x\\right) - 72 \\, x^{3} \\mathrm{D}_{0, 0, 1}\\left(\\xi\\right)\\left(y\\left(x\\right), x\\right) + 16 \\, x \\mathrm{D}_{0, 0}\\left(\\phi\\right)\\left(y\\left(x\\right), x\\right) - 32 \\, x \\mathrm{D}_{0, 1}\\left(\\xi\\right)\\left(y\\left(x\\right), x\\right) + 48 \\, \\mathrm{D}_{0}\\left(\\xi\\right)\\left(y\\left(x\\right), x\\right)\\)</html>"
      ],
      "text/latex": [
       "$\\displaystyle -8 \\, x^{6} y\\left(x\\right) \\mathrm{D}_{0, 1}\\left(\\phi\\right)\\left(y\\left(x\\right), x\\right) + 4 \\, x^{6} y\\left(x\\right) \\mathrm{D}_{1, 1}\\left(\\xi\\right)\\left(y\\left(x\\right), x\\right) + 16 \\, x^{6} \\mathrm{D}_{0, 0, 0, 1}\\left(\\phi\\right)\\left(y\\left(x\\right), x\\right) - 24 \\, x^{6} \\mathrm{D}_{0, 0, 1, 1}\\left(\\xi\\right)\\left(y\\left(x\\right), x\\right) - 8 \\, x^{3} y\\left(x\\right) \\mathrm{D}_{0, 0}\\left(\\phi\\right)\\left(y\\left(x\\right), x\\right) + 16 \\, x^{4} \\mathrm{D}_{0, 1}\\left(\\phi\\right)\\left(y\\left(x\\right), x\\right) + 16 \\, x^{3} y\\left(x\\right) \\mathrm{D}_{0, 1}\\left(\\xi\\right)\\left(y\\left(x\\right), x\\right) - 8 \\, x^{4} \\mathrm{D}_{1, 1}\\left(\\xi\\right)\\left(y\\left(x\\right), x\\right) + 24 \\, x^{3} \\mathrm{D}_{0, 0, 0}\\left(\\phi\\right)\\left(y\\left(x\\right), x\\right) - 72 \\, x^{3} \\mathrm{D}_{0, 0, 1}\\left(\\xi\\right)\\left(y\\left(x\\right), x\\right) + 16 \\, x \\mathrm{D}_{0, 0}\\left(\\phi\\right)\\left(y\\left(x\\right), x\\right) - 32 \\, x \\mathrm{D}_{0, 1}\\left(\\xi\\right)\\left(y\\left(x\\right), x\\right) + 48 \\, \\mathrm{D}_{0}\\left(\\xi\\right)\\left(y\\left(x\\right), x\\right)$"
      ],
      "text/plain": [
       "-8*x^6*y(x)*D[0, 1](phi)(y(x), x) + 4*x^6*y(x)*D[1, 1](xi)(y(x), x) + 16*x^6*D[0, 0, 0, 1](phi)(y(x), x) - 24*x^6*D[0, 0, 1, 1](xi)(y(x), x) - 8*x^3*y(x)*D[0, 0](phi)(y(x), x) + 16*x^4*D[0, 1](phi)(y(x), x) + 16*x^3*y(x)*D[0, 1](xi)(y(x), x) - 8*x^4*D[1, 1](xi)(y(x), x) + 24*x^3*D[0, 0, 0](phi)(y(x), x) - 72*x^3*D[0, 0, 1](xi)(y(x), x) + 16*x*D[0, 0](phi)(y(x), x) - 32*x*D[0, 1](xi)(y(x), x) + 48*D[0](xi)(y(x), x)"
      ]
     },
     "metadata": {},
     "output_type": "display_data"
    },
    {
     "data": {
      "text/html": [
       "<html>\\(\\displaystyle -4 \\, x^{6} y\\left(x\\right) \\mathrm{D}_{1, 1}\\left(\\phi\\right)\\left(y\\left(x\\right), x\\right) + 24 \\, x^{6} \\mathrm{D}_{0, 0, 1, 1}\\left(\\phi\\right)\\left(y\\left(x\\right), x\\right) - 16 \\, x^{6} \\mathrm{D}_{0, 1, 1, 1}\\left(\\xi\\right)\\left(y\\left(x\\right), x\\right) - 16 \\, x^{3} y\\left(x\\right) \\mathrm{D}_{0, 1}\\left(\\phi\\right)\\left(y\\left(x\\right), x\\right) + 8 \\, x^{4} \\mathrm{D}_{1, 1}\\left(\\phi\\right)\\left(y\\left(x\\right), x\\right) + 8 \\, x^{3} y\\left(x\\right) \\mathrm{D}_{1, 1}\\left(\\xi\\right)\\left(y\\left(x\\right), x\\right) + 72 \\, x^{3} \\mathrm{D}_{0, 0, 1}\\left(\\phi\\right)\\left(y\\left(x\\right), x\\right) + 96 \\, x^{2} y\\left(x\\right) \\mathrm{D}_{0}\\left(\\xi\\right)\\left(y\\left(x\\right), x\\right) + 96 \\, x y\\left(x\\right)^{2} \\mathrm{D}_{0}\\left(\\xi\\right)\\left(y\\left(x\\right), x\\right) - 72 \\, x^{3} \\mathrm{D}_{0, 1, 1}\\left(\\xi\\right)\\left(y\\left(x\\right), x\\right) + 32 \\, x \\mathrm{D}_{0, 1}\\left(\\phi\\right)\\left(y\\left(x\\right), x\\right) - 16 \\, x \\mathrm{D}_{1, 1}\\left(\\xi\\right)\\left(y\\left(x\\right), x\\right) - \\frac{96 \\, \\xi\\left(y\\left(x\\right), x\\right)}{x} + 16 \\, \\mathrm{D}_{0}\\left(\\phi\\right)\\left(y\\left(x\\right), x\\right) + 32 \\, \\mathrm{D}_{1}\\left(\\xi\\right)\\left(y\\left(x\\right), x\\right)\\)</html>"
      ],
      "text/latex": [
       "$\\displaystyle -4 \\, x^{6} y\\left(x\\right) \\mathrm{D}_{1, 1}\\left(\\phi\\right)\\left(y\\left(x\\right), x\\right) + 24 \\, x^{6} \\mathrm{D}_{0, 0, 1, 1}\\left(\\phi\\right)\\left(y\\left(x\\right), x\\right) - 16 \\, x^{6} \\mathrm{D}_{0, 1, 1, 1}\\left(\\xi\\right)\\left(y\\left(x\\right), x\\right) - 16 \\, x^{3} y\\left(x\\right) \\mathrm{D}_{0, 1}\\left(\\phi\\right)\\left(y\\left(x\\right), x\\right) + 8 \\, x^{4} \\mathrm{D}_{1, 1}\\left(\\phi\\right)\\left(y\\left(x\\right), x\\right) + 8 \\, x^{3} y\\left(x\\right) \\mathrm{D}_{1, 1}\\left(\\xi\\right)\\left(y\\left(x\\right), x\\right) + 72 \\, x^{3} \\mathrm{D}_{0, 0, 1}\\left(\\phi\\right)\\left(y\\left(x\\right), x\\right) + 96 \\, x^{2} y\\left(x\\right) \\mathrm{D}_{0}\\left(\\xi\\right)\\left(y\\left(x\\right), x\\right) + 96 \\, x y\\left(x\\right)^{2} \\mathrm{D}_{0}\\left(\\xi\\right)\\left(y\\left(x\\right), x\\right) - 72 \\, x^{3} \\mathrm{D}_{0, 1, 1}\\left(\\xi\\right)\\left(y\\left(x\\right), x\\right) + 32 \\, x \\mathrm{D}_{0, 1}\\left(\\phi\\right)\\left(y\\left(x\\right), x\\right) - 16 \\, x \\mathrm{D}_{1, 1}\\left(\\xi\\right)\\left(y\\left(x\\right), x\\right) - \\frac{96 \\, \\xi\\left(y\\left(x\\right), x\\right)}{x} + 16 \\, \\mathrm{D}_{0}\\left(\\phi\\right)\\left(y\\left(x\\right), x\\right) + 32 \\, \\mathrm{D}_{1}\\left(\\xi\\right)\\left(y\\left(x\\right), x\\right)$"
      ],
      "text/plain": [
       "-4*x^6*y(x)*D[1, 1](phi)(y(x), x) + 24*x^6*D[0, 0, 1, 1](phi)(y(x), x) - 16*x^6*D[0, 1, 1, 1](xi)(y(x), x) - 16*x^3*y(x)*D[0, 1](phi)(y(x), x) + 8*x^4*D[1, 1](phi)(y(x), x) + 8*x^3*y(x)*D[1, 1](xi)(y(x), x) + 72*x^3*D[0, 0, 1](phi)(y(x), x) + 96*x^2*y(x)*D[0](xi)(y(x), x) + 96*x*y(x)^2*D[0](xi)(y(x), x) - 72*x^3*D[0, 1, 1](xi)(y(x), x) + 32*x*D[0, 1](phi)(y(x), x) - 16*x*D[1, 1](xi)(y(x), x) - 96*xi(y(x), x)/x + 16*D[0](phi)(y(x), x) + 32*D[1](xi)(y(x), x)"
      ]
     },
     "metadata": {},
     "output_type": "display_data"
    },
    {
     "data": {
      "text/html": [
       "<html>\\(\\displaystyle 16 \\, x^{6} \\mathrm{D}_{0, 1, 1, 1}\\left(\\phi\\right)\\left(y\\left(x\\right), x\\right) - 4 \\, x^{6} \\mathrm{D}_{1, 1, 1, 1}\\left(\\xi\\right)\\left(y\\left(x\\right), x\\right) - 8 \\, x^{3} y\\left(x\\right) \\mathrm{D}_{1, 1}\\left(\\phi\\right)\\left(y\\left(x\\right), x\\right) + 72 \\, x^{3} \\mathrm{D}_{0, 1, 1}\\left(\\phi\\right)\\left(y\\left(x\\right), x\\right) + 40 \\, y\\left(x\\right)^{3} \\mathrm{D}_{0}\\left(\\xi\\right)\\left(y\\left(x\\right), x\\right) + 72 \\, x^{2} y\\left(x\\right) \\mathrm{D}_{1}\\left(\\xi\\right)\\left(y\\left(x\\right), x\\right) + 72 \\, x y\\left(x\\right)^{2} \\mathrm{D}_{1}\\left(\\xi\\right)\\left(y\\left(x\\right), x\\right) - 24 \\, x^{3} \\mathrm{D}_{1, 1, 1}\\left(\\xi\\right)\\left(y\\left(x\\right), x\\right) + 24 \\, x^{2} \\phi\\left(y\\left(x\\right), x\\right) + 48 \\, x \\phi\\left(y\\left(x\\right), x\\right) y\\left(x\\right) - 96 \\, x \\xi\\left(y\\left(x\\right), x\\right) y\\left(x\\right) - 120 \\, \\xi\\left(y\\left(x\\right), x\\right) y\\left(x\\right)^{2} + 16 \\, x \\mathrm{D}_{1, 1}\\left(\\phi\\right)\\left(y\\left(x\\right), x\\right) + 32 \\, \\mathrm{D}_{1}\\left(\\phi\\right)\\left(y\\left(x\\right), x\\right)\\)</html>"
      ],
      "text/latex": [
       "$\\displaystyle 16 \\, x^{6} \\mathrm{D}_{0, 1, 1, 1}\\left(\\phi\\right)\\left(y\\left(x\\right), x\\right) - 4 \\, x^{6} \\mathrm{D}_{1, 1, 1, 1}\\left(\\xi\\right)\\left(y\\left(x\\right), x\\right) - 8 \\, x^{3} y\\left(x\\right) \\mathrm{D}_{1, 1}\\left(\\phi\\right)\\left(y\\left(x\\right), x\\right) + 72 \\, x^{3} \\mathrm{D}_{0, 1, 1}\\left(\\phi\\right)\\left(y\\left(x\\right), x\\right) + 40 \\, y\\left(x\\right)^{3} \\mathrm{D}_{0}\\left(\\xi\\right)\\left(y\\left(x\\right), x\\right) + 72 \\, x^{2} y\\left(x\\right) \\mathrm{D}_{1}\\left(\\xi\\right)\\left(y\\left(x\\right), x\\right) + 72 \\, x y\\left(x\\right)^{2} \\mathrm{D}_{1}\\left(\\xi\\right)\\left(y\\left(x\\right), x\\right) - 24 \\, x^{3} \\mathrm{D}_{1, 1, 1}\\left(\\xi\\right)\\left(y\\left(x\\right), x\\right) + 24 \\, x^{2} \\phi\\left(y\\left(x\\right), x\\right) + 48 \\, x \\phi\\left(y\\left(x\\right), x\\right) y\\left(x\\right) - 96 \\, x \\xi\\left(y\\left(x\\right), x\\right) y\\left(x\\right) - 120 \\, \\xi\\left(y\\left(x\\right), x\\right) y\\left(x\\right)^{2} + 16 \\, x \\mathrm{D}_{1, 1}\\left(\\phi\\right)\\left(y\\left(x\\right), x\\right) + 32 \\, \\mathrm{D}_{1}\\left(\\phi\\right)\\left(y\\left(x\\right), x\\right)$"
      ],
      "text/plain": [
       "16*x^6*D[0, 1, 1, 1](phi)(y(x), x) - 4*x^6*D[1, 1, 1, 1](xi)(y(x), x) - 8*x^3*y(x)*D[1, 1](phi)(y(x), x) + 72*x^3*D[0, 1, 1](phi)(y(x), x) + 40*y(x)^3*D[0](xi)(y(x), x) + 72*x^2*y(x)*D[1](xi)(y(x), x) + 72*x*y(x)^2*D[1](xi)(y(x), x) - 24*x^3*D[1, 1, 1](xi)(y(x), x) + 24*x^2*phi(y(x), x) + 48*x*phi(y(x), x)*y(x) - 96*x*xi(y(x), x)*y(x) - 120*xi(y(x), x)*y(x)^2 + 16*x*D[1, 1](phi)(y(x), x) + 32*D[1](phi)(y(x), x)"
      ]
     },
     "metadata": {},
     "output_type": "display_data"
    },
    {
     "data": {
      "text/html": [
       "<html>\\(\\displaystyle 4 \\, x^{6} \\mathrm{D}_{1, 1, 1, 1}\\left(\\phi\\right)\\left(y\\left(x\\right), x\\right) - 8 \\, y\\left(x\\right)^{3} \\mathrm{D}_{0}\\left(\\phi\\right)\\left(y\\left(x\\right), x\\right) + 24 \\, x^{2} y\\left(x\\right) \\mathrm{D}_{1}\\left(\\phi\\right)\\left(y\\left(x\\right), x\\right) + 24 \\, x y\\left(x\\right)^{2} \\mathrm{D}_{1}\\left(\\phi\\right)\\left(y\\left(x\\right), x\\right) + 24 \\, x^{3} \\mathrm{D}_{1, 1, 1}\\left(\\phi\\right)\\left(y\\left(x\\right), x\\right) + 32 \\, y\\left(x\\right)^{3} \\mathrm{D}_{1}\\left(\\xi\\right)\\left(y\\left(x\\right), x\\right) + 24 \\, \\phi\\left(y\\left(x\\right), x\\right) y\\left(x\\right)^{2} - \\frac{48 \\, \\xi\\left(y\\left(x\\right), x\\right) y\\left(x\\right)^{3}}{x}\\)</html>"
      ],
      "text/latex": [
       "$\\displaystyle 4 \\, x^{6} \\mathrm{D}_{1, 1, 1, 1}\\left(\\phi\\right)\\left(y\\left(x\\right), x\\right) - 8 \\, y\\left(x\\right)^{3} \\mathrm{D}_{0}\\left(\\phi\\right)\\left(y\\left(x\\right), x\\right) + 24 \\, x^{2} y\\left(x\\right) \\mathrm{D}_{1}\\left(\\phi\\right)\\left(y\\left(x\\right), x\\right) + 24 \\, x y\\left(x\\right)^{2} \\mathrm{D}_{1}\\left(\\phi\\right)\\left(y\\left(x\\right), x\\right) + 24 \\, x^{3} \\mathrm{D}_{1, 1, 1}\\left(\\phi\\right)\\left(y\\left(x\\right), x\\right) + 32 \\, y\\left(x\\right)^{3} \\mathrm{D}_{1}\\left(\\xi\\right)\\left(y\\left(x\\right), x\\right) + 24 \\, \\phi\\left(y\\left(x\\right), x\\right) y\\left(x\\right)^{2} - \\frac{48 \\, \\xi\\left(y\\left(x\\right), x\\right) y\\left(x\\right)^{3}}{x}$"
      ],
      "text/plain": [
       "4*x^6*D[1, 1, 1, 1](phi)(y(x), x) - 8*y(x)^3*D[0](phi)(y(x), x) + 24*x^2*y(x)*D[1](phi)(y(x), x) + 24*x*y(x)^2*D[1](phi)(y(x), x) + 24*x^3*D[1, 1, 1](phi)(y(x), x) + 32*y(x)^3*D[1](xi)(y(x), x) + 24*phi(y(x), x)*y(x)^2 - 48*xi(y(x), x)*y(x)^3/x"
      ]
     },
     "metadata": {},
     "output_type": "display_data"
    },
    {
     "name": "stdout",
     "output_type": "stream",
     "text": [
      "Janet basis\n"
     ]
    },
    {
     "data": {
      "text/html": [
       "<html>\\(\\displaystyle \\phi\\left(y\\left(x\\right), x\\right)\\)</html>"
      ],
      "text/latex": [
       "$\\displaystyle \\phi\\left(y\\left(x\\right), x\\right)$"
      ],
      "text/plain": [
       "phi(y(x), x)"
      ]
     },
     "metadata": {},
     "output_type": "display_data"
    },
    {
     "data": {
      "text/html": [
       "<html>\\(\\displaystyle \\xi\\left(y\\left(x\\right), x\\right)\\)</html>"
      ],
      "text/latex": [
       "$\\displaystyle \\xi\\left(y\\left(x\\right), x\\right)$"
      ],
      "text/plain": [
       "xi(y(x), x)"
      ]
     },
     "metadata": {},
     "output_type": "display_data"
    }
   ],
   "source": [
    "# Schwarz, Example 5.13, p.214\"\n",
    "x = var('x')\n",
    "y = function(\"y\")\n",
    "d0 = y(x)\n",
    "d1 = diff(y(x), x)\n",
    "d2 = diff(d1, x)\n",
    "d3 = diff(d2, x)\n",
    "d4 = diff(d3, x)\n",
    "ode = x**2 *((x**2) * y(x) - 2)**2 * d2**2 \\\n",
    "- 4*x**4 * (x**2 * d0 - 2)*d2 * d1**2 \\\n",
    "- 8*x*(x**2 * d0 - 2)*d2*d1 \\\n",
    "+ 4*x**6 *d4 \\\n",
    "+ 24*x**3 * d3 \\\n",
    "+ 24*x**2 * d1*d0 \\\n",
    "+ 16*d1**2 \\\n",
    "+ 24*x*d1*d0** 2 \\\n",
    "+ 8*d0**3\n",
    "\n",
    "ode.show()\n",
    "\n",
    "\n",
    "inf = overdeterminedSystemODE(ode, y, x)\n",
    "print(\".\"*25)\n",
    "for _ in inf:\n",
    "    _.show()\n",
    "print(\"Janet basis\")\n",
    "jb = Janet_Basis_from_ODE(ode, y, x)\n",
    "for _ in jb:\n",
    "    _.show()\n"
   ]
  },
  {
   "cell_type": "code",
   "execution_count": null,
   "id": "dbb3c22b-7b7f-4844-bfab-2229c247a628",
   "metadata": {},
   "outputs": [],
   "source": []
  }
 ],
 "metadata": {
  "kernelspec": {
   "display_name": "SageMath 9.6",
   "language": "sage",
   "name": "sagemath"
  },
  "language_info": {
   "codemirror_mode": {
    "name": "ipython",
    "version": 3
   },
   "file_extension": ".py",
   "mimetype": "text/x-python",
   "name": "python",
   "nbconvert_exporter": "python",
   "pygments_lexer": "ipython3",
   "version": "3.10.6"
  },
  "widgets": {
   "application/vnd.jupyter.widget-state+json": {
    "state": {},
    "version_major": 2,
    "version_minor": 0
   }
  }
 },
 "nbformat": 4,
 "nbformat_minor": 5
}
