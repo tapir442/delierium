{
 "cells": [
  {
   "cell_type": "code",
   "execution_count": null,
   "id": "5c552414-8b84-4c63-9b61-b6daef40a821",
   "metadata": {
    "tags": []
   },
   "outputs": [],
   "source": [
    "from delierium.Infinitesimals import prolongationODE, overdeterminedSystemODE, Janet_Basis_from_ODE\n",
    "from IPython.display import Math\n",
    "from delierium.helpers import latexer\n",
    "x = var('x')\n",
    "y = function('y')\n",
    "\n",
    "d0 = y(x)\n",
    "d1 = diff(d0, x)\n",
    "d2 = diff(d1, x)\n",
    "d3 = diff(d2, x)\n",
    "\n",
    "ode = d3*d1*d0 \\\n",
    "    +d3*d0*d0/x \\\n",
    "    - 3*d2**2*d0 \\\n",
    "    - x*d0*d2*d1**2 \\\n",
    "    +3*d2*d1**2 \\\n",
    "    -2*d2*d1*d0*d0 \\\n",
    "    - d2*(d0**3)/x \\\n",
    "    - (3*d2*d0**2)/(x**2) \\\n",
    "    + 2*x *d1**4 \\\n",
    "    +3*d1**3*d0 \\\n",
    "    + (15*d1**3) / x \\\n",
    "    - (d1*d0)**2/x \\\n",
    "    - 3*d1**2*d0/x**2 \\\n",
    "    - (3/x**2)*d1*d0**3 \\\n",
    "    - (9/x**3)*d1*d0**2 \\\n",
    "    - (d0**4)/(x**3) \\\n",
    "    - (3*d0**3)/(x**4)\n",
    "\n",
    "\n",
    "display(Math(latexer(ode)))\n",
    "jb = Janet_Basis_from_ODE(ode, y, x)\n",
    "print(\"*\"*88)\n",
    "for _ in jb:\n",
    "    display(Math(latexer(_)))"
   ]
  },
  {
   "cell_type": "code",
   "execution_count": null,
   "id": "04aa3056-622a-447c-9b68-2a39a044b6fe",
   "metadata": {},
   "outputs": [],
   "source": []
  }
 ],
 "metadata": {
  "kernelspec": {
   "display_name": "SageMath 9.8",
   "language": "sage",
   "name": "sagemath"
  },
  "language_info": {
   "codemirror_mode": {
    "name": "ipython",
    "version": 3
   },
   "file_extension": ".py",
   "mimetype": "text/x-python",
   "name": "python",
   "nbconvert_exporter": "python",
   "pygments_lexer": "ipython3",
   "version": "3.10.10"
  },
  "widgets": {
   "application/vnd.jupyter.widget-state+json": {
    "state": {},
    "version_major": 2,
    "version_minor": 0
   }
  }
 },
 "nbformat": 4,
 "nbformat_minor": 5
}
