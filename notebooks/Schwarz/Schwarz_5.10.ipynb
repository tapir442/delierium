{
 "cells": [
  {
   "cell_type": "code",
   "execution_count": 1,
   "id": "57fe5a05-1712-4403-9db9-a4743bc1f4e7",
   "metadata": {},
   "outputs": [],
   "source": [
    "from delierium.Infinitesimals import prolongationODE, overdeterminedSystemODE, Janet_Basis_from_ODE\n",
    "from delierium.JanetBasis import Janet_Basis\n",
    "from delierium.helpers import is_derivative, order_of_derivative, eq\n",
    "from delierium.MatrixOrder import Context\n",
    "import functools\n",
    "from operator import mul\n",
    "from pprint import pprint"
   ]
  },
  {
   "cell_type": "code",
   "execution_count": 2,
   "id": "f2a1fba9-ee5b-4e89-8d2b-21174b1d53f4",
   "metadata": {},
   "outputs": [
    {
     "data": {
      "text/html": [
       "<html>\\(\\displaystyle x^{4} \\frac{\\partial^{2}}{(\\partial x)^{2}}y\\left(x\\right) - x^{3} \\frac{\\partial}{\\partial x}y\\left(x\\right) - x^{2} \\frac{\\partial}{\\partial x}y\\left(x\\right)^{2} + 4 \\, y\\left(x\\right)^{2}\\)</html>"
      ],
      "text/latex": [
       "$\\displaystyle x^{4} \\frac{\\partial^{2}}{(\\partial x)^{2}}y\\left(x\\right) - x^{3} \\frac{\\partial}{\\partial x}y\\left(x\\right) - x^{2} \\frac{\\partial}{\\partial x}y\\left(x\\right)^{2} + 4 \\, y\\left(x\\right)^{2}$"
      ],
      "text/plain": [
       "x^4*diff(y(x), x, x) - x^3*diff(y(x), x) - x^2*diff(y(x), x)^2 + 4*y(x)^2"
      ]
     },
     "metadata": {},
     "output_type": "display_data"
    },
    {
     "name": "stdout",
     "output_type": "stream",
     "text": [
      ".........................\n"
     ]
    },
    {
     "data": {
      "text/html": [
       "<html>\\(\\displaystyle -x^{4} \\mathrm{D}_{0, 0}\\left(\\xi\\right)\\left(y\\left(x\\right), x\\right) + 2 \\, x^{2} \\mathrm{D}_{0}\\left(\\xi\\right)\\left(y\\left(x\\right), x\\right)\\)</html>"
      ],
      "text/latex": [
       "$\\displaystyle -x^{4} \\mathrm{D}_{0, 0}\\left(\\xi\\right)\\left(y\\left(x\\right), x\\right) + 2 \\, x^{2} \\mathrm{D}_{0}\\left(\\xi\\right)\\left(y\\left(x\\right), x\\right)$"
      ],
      "text/plain": [
       "-x^4*D[0, 0](xi)(y(x), x) + 2*x^2*D[0](xi)(y(x), x)"
      ]
     },
     "metadata": {},
     "output_type": "display_data"
    },
    {
     "data": {
      "text/html": [
       "<html>\\(\\displaystyle x^{4} \\mathrm{D}_{0, 0}\\left(\\phi\\right)\\left(y\\left(x\\right), x\\right) - 2 \\, x^{4} \\mathrm{D}_{0, 1}\\left(\\xi\\right)\\left(y\\left(x\\right), x\\right) - 2 \\, x^{3} \\mathrm{D}_{0}\\left(\\xi\\right)\\left(y\\left(x\\right), x\\right) - x^{2} \\mathrm{D}_{0}\\left(\\phi\\right)\\left(y\\left(x\\right), x\\right) + 2 \\, x \\xi\\left(y\\left(x\\right), x\\right)\\)</html>"
      ],
      "text/latex": [
       "$\\displaystyle x^{4} \\mathrm{D}_{0, 0}\\left(\\phi\\right)\\left(y\\left(x\\right), x\\right) - 2 \\, x^{4} \\mathrm{D}_{0, 1}\\left(\\xi\\right)\\left(y\\left(x\\right), x\\right) - 2 \\, x^{3} \\mathrm{D}_{0}\\left(\\xi\\right)\\left(y\\left(x\\right), x\\right) - x^{2} \\mathrm{D}_{0}\\left(\\phi\\right)\\left(y\\left(x\\right), x\\right) + 2 \\, x \\xi\\left(y\\left(x\\right), x\\right)$"
      ],
      "text/plain": [
       "x^4*D[0, 0](phi)(y(x), x) - 2*x^4*D[0, 1](xi)(y(x), x) - 2*x^3*D[0](xi)(y(x), x) - x^2*D[0](phi)(y(x), x) + 2*x*xi(y(x), x)"
      ]
     },
     "metadata": {},
     "output_type": "display_data"
    },
    {
     "data": {
      "text/html": [
       "<html>\\(\\displaystyle 2 \\, x^{4} \\mathrm{D}_{0, 1}\\left(\\phi\\right)\\left(y\\left(x\\right), x\\right) - x^{4} \\mathrm{D}_{1, 1}\\left(\\xi\\right)\\left(y\\left(x\\right), x\\right) - x^{3} \\mathrm{D}_{1}\\left(\\xi\\right)\\left(y\\left(x\\right), x\\right) + x^{2} \\xi\\left(y\\left(x\\right), x\\right) - 2 \\, x^{2} \\mathrm{D}_{1}\\left(\\phi\\right)\\left(y\\left(x\\right), x\\right) + 12 \\, y\\left(x\\right)^{2} \\mathrm{D}_{0}\\left(\\xi\\right)\\left(y\\left(x\\right), x\\right)\\)</html>"
      ],
      "text/latex": [
       "$\\displaystyle 2 \\, x^{4} \\mathrm{D}_{0, 1}\\left(\\phi\\right)\\left(y\\left(x\\right), x\\right) - x^{4} \\mathrm{D}_{1, 1}\\left(\\xi\\right)\\left(y\\left(x\\right), x\\right) - x^{3} \\mathrm{D}_{1}\\left(\\xi\\right)\\left(y\\left(x\\right), x\\right) + x^{2} \\xi\\left(y\\left(x\\right), x\\right) - 2 \\, x^{2} \\mathrm{D}_{1}\\left(\\phi\\right)\\left(y\\left(x\\right), x\\right) + 12 \\, y\\left(x\\right)^{2} \\mathrm{D}_{0}\\left(\\xi\\right)\\left(y\\left(x\\right), x\\right)$"
      ],
      "text/plain": [
       "2*x^4*D[0, 1](phi)(y(x), x) - x^4*D[1, 1](xi)(y(x), x) - x^3*D[1](xi)(y(x), x) + x^2*xi(y(x), x) - 2*x^2*D[1](phi)(y(x), x) + 12*y(x)^2*D[0](xi)(y(x), x)"
      ]
     },
     "metadata": {},
     "output_type": "display_data"
    },
    {
     "data": {
      "text/html": [
       "<html>\\(\\displaystyle -3 \\, x^{2} \\mathrm{D}_{0}\\left(\\xi\\right)\\left(y\\left(x\\right), x\\right) \\frac{\\partial}{\\partial x}y\\left(x\\right)^{3} + x^{4} \\mathrm{D}_{1, 1}\\left(\\phi\\right)\\left(y\\left(x\\right), x\\right) - x^{3} \\mathrm{D}_{1}\\left(\\phi\\right)\\left(y\\left(x\\right), x\\right) - 4 \\, y\\left(x\\right)^{2} \\mathrm{D}_{0}\\left(\\phi\\right)\\left(y\\left(x\\right), x\\right) + 8 \\, y\\left(x\\right)^{2} \\mathrm{D}_{1}\\left(\\xi\\right)\\left(y\\left(x\\right), x\\right) + 8 \\, \\phi\\left(y\\left(x\\right), x\\right) y\\left(x\\right) - \\frac{16 \\, \\xi\\left(y\\left(x\\right), x\\right) y\\left(x\\right)^{2}}{x}\\)</html>"
      ],
      "text/latex": [
       "$\\displaystyle -3 \\, x^{2} \\mathrm{D}_{0}\\left(\\xi\\right)\\left(y\\left(x\\right), x\\right) \\frac{\\partial}{\\partial x}y\\left(x\\right)^{3} + x^{4} \\mathrm{D}_{1, 1}\\left(\\phi\\right)\\left(y\\left(x\\right), x\\right) - x^{3} \\mathrm{D}_{1}\\left(\\phi\\right)\\left(y\\left(x\\right), x\\right) - 4 \\, y\\left(x\\right)^{2} \\mathrm{D}_{0}\\left(\\phi\\right)\\left(y\\left(x\\right), x\\right) + 8 \\, y\\left(x\\right)^{2} \\mathrm{D}_{1}\\left(\\xi\\right)\\left(y\\left(x\\right), x\\right) + 8 \\, \\phi\\left(y\\left(x\\right), x\\right) y\\left(x\\right) - \\frac{16 \\, \\xi\\left(y\\left(x\\right), x\\right) y\\left(x\\right)^{2}}{x}$"
      ],
      "text/plain": [
       "-3*x^2*D[0](xi)(y(x), x)*diff(y(x), x)^3 + x^4*D[1, 1](phi)(y(x), x) - x^3*D[1](phi)(y(x), x) - 4*y(x)^2*D[0](phi)(y(x), x) + 8*y(x)^2*D[1](xi)(y(x), x) + 8*phi(y(x), x)*y(x) - 16*xi(y(x), x)*y(x)^2/x"
      ]
     },
     "metadata": {},
     "output_type": "display_data"
    },
    {
     "name": "stdout",
     "output_type": "stream",
     "text": [
      "Janet basis\n"
     ]
    },
    {
     "data": {
      "text/html": [
       "<html>\\(\\displaystyle \\phi\\left(y\\left(x\\right), x\\right)\\)</html>"
      ],
      "text/latex": [
       "$\\displaystyle \\phi\\left(y\\left(x\\right), x\\right)$"
      ],
      "text/plain": [
       "phi(y(x), x)"
      ]
     },
     "metadata": {},
     "output_type": "display_data"
    },
    {
     "data": {
      "text/html": [
       "<html>\\(\\displaystyle \\xi\\left(y\\left(x\\right), x\\right)\\)</html>"
      ],
      "text/latex": [
       "$\\displaystyle \\xi\\left(y\\left(x\\right), x\\right)$"
      ],
      "text/plain": [
       "xi(y(x), x)"
      ]
     },
     "metadata": {},
     "output_type": "display_data"
    }
   ],
   "source": [
    "# Schwarz, Example 5.10, p.215\n",
    "x = var('x')\n",
    "y = function(\"y\")\n",
    "d0 = y(x)\n",
    "d1 = diff(y(x), x)\n",
    "d2 = diff(d1, x)\n",
    "d3 = diff(d2, x)\n",
    "d4 = diff(d3, x)\n",
    "ode = x**4 * d2 - (x*d1)**2 -x**3*d1 + 4*d0**2\n",
    "ode.show()\n",
    "\n",
    "inf = overdeterminedSystemODE(ode, y, x)\n",
    "print(\".\"*25)\n",
    "for _ in inf:\n",
    "    _.show()\n",
    "print(\"Janet basis\")\n",
    "jb = Janet_Basis_from_ODE(ode, y, x)\n",
    "for _ in jb:\n",
    "    _.show()"
   ]
  },
  {
   "cell_type": "code",
   "execution_count": null,
   "id": "b966992a-02eb-4a35-87cd-b0f04ec2c036",
   "metadata": {},
   "outputs": [],
   "source": []
  }
 ],
 "metadata": {
  "kernelspec": {
   "display_name": "SageMath 9.6",
   "language": "sage",
   "name": "sagemath"
  },
  "language_info": {
   "codemirror_mode": {
    "name": "ipython",
    "version": 3
   },
   "file_extension": ".py",
   "mimetype": "text/x-python",
   "name": "python",
   "nbconvert_exporter": "python",
   "pygments_lexer": "ipython3",
   "version": "3.10.6"
  },
  "widgets": {
   "application/vnd.jupyter.widget-state+json": {
    "state": {},
    "version_major": 2,
    "version_minor": 0
   }
  }
 },
 "nbformat": 4,
 "nbformat_minor": 5
}
