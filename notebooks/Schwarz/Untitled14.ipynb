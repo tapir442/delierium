{
 "cells": [
  {
   "cell_type": "code",
   "execution_count": 1,
   "id": "43d8ba14-5200-4b7c-8c3a-fcdb3fd104d4",
   "metadata": {},
   "outputs": [
    {
     "ename": "IndentationError",
     "evalue": "expected an indented block after function definition on line 6 (2283567827.py, line 7)",
     "output_type": "error",
     "traceback": [
      "\u001b[0;36m  Cell \u001b[0;32mIn[1], line 7\u001b[0;36m\u001b[0m\n\u001b[0;31m    Integer(1)\u001b[0m\n\u001b[0m    ^\u001b[0m\n\u001b[0;31mIndentationError\u001b[0m\u001b[0;31m:\u001b[0m expected an indented block after function definition on line 6\n"
     ]
    }
   ],
   "source": [
    "import sys\n",
    "import argparse\n",
    "import madmom\n",
    "import numpy as np\n",
    "from scipy.ndimage.filters import maximum_filter\n",
    " spec = madmom.audio.spectrogram.Spectrogram(audio_path, num_channels=1)\n",
    "diff = np.diff(spec, axis=0) # calculate the difference\n",
    "pos_diff = np.maximum(0, diff) # keep only the positive differences\n",
    "sf = np.sum(pos_diff, axis=1) # sum everything to get the spectral flux\n",
    "sf = madmom.features.onsets.spectral_flux(spec)\n",
    "2. filt_spec = madmom.audio.spectrogram.FilteredSpectrogram(spec,\n",
    "filterbank=madmom.audio.filters.LogFilterbank, num_bands=24)\n",
    "3. log_spec = madmom.audio.spectrogram.LogarithmicSpectrogram(filt_spec, add=1)\n",
    "# Maximum filter size spreads over 3 frequency bins\n",
    "size = (1, 3)\n",
    "max_spec = maximum_filter(log_spec, size=size)\n",
    "diff = np.zeros_like(log_spec) # init the diff array\n",
    "# calculate the difference between the log. spec and the max. filtered version thereof\n",
    "4. diff[1:] = (log_spec[1:] - max_spec[: -1])\n",
    "# then continue as with the spectral flux, i.e. keep only the positive differences\n",
    "5. pos_diff = np.maximum(0, diff)\n",
    "6. superflux = np.sum(pos_diff, axis=1)\n",
    "# Generate x coordinates as a range from 0 to the length of the superflux array\n",
    "7. x_coords = np.arange(len(superflux))\n",
    "# Pair each x coordinate with its corresponding superflux value\n",
    "8. coordinates = list(zip(x_coords, superflux))\n",
    "# save onsets into a file:\n",
    "if output_path:\n",
    "with open(output_path, 'w') as file:\n",
    "prev = 0\n",
    "for x, y in coordinates:\n",
    "9.\n",
    " if y > certainty:\n",
    "10.\n",
    " if (x - prev) / 100 >= proximity:\n",
    "# print(f\"X: {x / 100}, Y: {prev / 100}, Z: {(x-prev)/100}\")\n",
    "file.write(str(x / 100) + '\\n')\n",
    "prev = x\n",
    "print(\"Saved to file:\", output_path)"
   ]
  },
  {
   "cell_type": "code",
   "execution_count": null,
   "id": "1cc43348-6c03-4146-ad7a-0b5dbbc61a3d",
   "metadata": {},
   "outputs": [],
   "source": []
  }
 ],
 "metadata": {
  "kernelspec": {
   "display_name": "SageMath 10.2",
   "language": "sage",
   "name": "sagemath"
  },
  "language_info": {
   "codemirror_mode": {
    "name": "ipython",
    "version": 3
   },
   "file_extension": ".py",
   "mimetype": "text/x-python",
   "name": "python",
   "nbconvert_exporter": "python",
   "pygments_lexer": "ipython3",
   "version": "3.11.7"
  }
 },
 "nbformat": 4,
 "nbformat_minor": 5
}
