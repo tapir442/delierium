{
 "cells": [
  {
   "cell_type": "code",
   "execution_count": 10,
   "id": "b2440ffd-cd8f-46a2-8512-286cd3082d49",
   "metadata": {},
   "outputs": [],
   "source": [
    "from sage.symbolic.expression import Expression\n",
    "from delierium.MatrixOrder import Context, Mlex, Mgrlex, Mgrevlex\n",
    "from IPython.display import Math\n",
    "from delierium.exception import DelieriumNotALinearPDE\n",
    "from dataclasses import dataclass\n",
    "from delierium.helpers import latexer, is_function, is_derivative\n",
    "from sage.symbolic.expression_conversions import ExpressionTreeWalker\n",
    "from IPython.core.debugger import set_trace\n",
    "import doctest\n",
    "from typing import Union, Any, Optional, TYPE_CHECKING, cast\n",
    "from functools import partial, wraps, cache, total_ordering\n",
    "from operator import mul\n",
    "from IPython.display import Math\n",
    "from collections import Counter\n",
    "from pprint import pprint"
   ]
  },
  {
   "cell_type": "code",
   "execution_count": null,
   "id": "507a44e8-8eca-408a-b3d0-023b1331b674",
   "metadata": {},
   "outputs": [],
   "source": [
    "\n",
    "def gen_dt(term, ctx):\n",
    "    pass"
   ]
  },
  {
   "cell_type": "code",
   "execution_count": null,
   "id": "16b147bb-6f75-41c4-86a0-7515e4b9a13d",
   "metadata": {},
   "outputs": [],
   "source": []
  },
  {
   "cell_type": "code",
   "execution_count": null,
   "id": "ef413b33-1778-483b-bd0e-dc2e89bda7b5",
   "metadata": {},
   "outputs": [],
   "source": []
  },
  {
   "cell_type": "code",
   "execution_count": null,
   "id": "20cca06c-c4ae-413d-9c2d-0621e8b5abe0",
   "metadata": {},
   "outputs": [],
   "source": []
  },
  {
   "cell_type": "code",
   "execution_count": null,
   "id": "a1b39102-8c07-427c-86a0-852a78e93593",
   "metadata": {},
   "outputs": [],
   "source": []
  },
  {
   "cell_type": "code",
   "execution_count": null,
   "id": "e2450363-d2ea-4d1c-b066-14a9efc48ade",
   "metadata": {},
   "outputs": [],
   "source": []
  }
 ],
 "metadata": {
  "kernelspec": {
   "display_name": "SageMath 10.2",
   "language": "sage",
   "name": "sagemath"
  },
  "language_info": {
   "codemirror_mode": {
    "name": "ipython",
    "version": 3
   },
   "file_extension": ".py",
   "mimetype": "text/x-python",
   "name": "python",
   "nbconvert_exporter": "python",
   "pygments_lexer": "ipython3",
   "version": "3.11.7"
  }
 },
 "nbformat": 4,
 "nbformat_minor": 5
}
