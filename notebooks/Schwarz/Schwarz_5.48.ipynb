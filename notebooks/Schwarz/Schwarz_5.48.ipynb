{
 "cells": [
  {
   "cell_type": "code",
   "execution_count": 13,
   "id": "ffc93a53-adb4-42f3-9124-9ca889d4e915",
   "metadata": {},
   "outputs": [
    {
     "data": {
      "text/latex": [
       "$\\displaystyle 2 x y_{x}^4 - x y y_{x}^2 y_{x, x} + 3 y y_{x}^3 - 2 y^2 y_{x} y_{x, x} - y^3 y_{x, x}/x + 3 y_{x}^2 y_{x, x} - 3 y y_{x, x}^2 + y y_{x} y_{x, x, x} - 3 y^3 y_{x}/x^2 - 2 y y_{x}^2/x + 15 y_{x}^3/x - 12 y y_{x} y_{x, x}/x + y^2 y_{x, x, x}/x - y^4/x^3 - 3 y y_{x}^2/x^2 - 3 y^2 y_{x, x}/x^2 - 9 y^2 y_{x}/x^3 - 3 y^3/x^4$"
      ],
      "text/plain": [
       "<IPython.core.display.Math object>"
      ]
     },
     "metadata": {},
     "output_type": "display_data"
    },
    {
     "name": "stdout",
     "output_type": "stream",
     "text": [
      "****************************************************************************************\n"
     ]
    },
    {
     "data": {
      "text/latex": [
       "$\\displaystyle phi$"
      ],
      "text/plain": [
       "<IPython.core.display.Math object>"
      ]
     },
     "metadata": {},
     "output_type": "display_data"
    },
    {
     "data": {
      "text/latex": [
       "$\\displaystyle xi$"
      ],
      "text/plain": [
       "<IPython.core.display.Math object>"
      ]
     },
     "metadata": {},
     "output_type": "display_data"
    }
   ],
   "source": [
    "from delierium.Infinitesimals import prolongationODE, infinitesimalsODE, Janet_Basis_from_ODE\n",
    "from IPython.display import Math\n",
    "from delierium.helpers import latexer\n",
    "x = var('x')\n",
    "y = function('y')\n",
    "\n",
    "d0 = y(x)\n",
    "d1 = diff(y(x), x)\n",
    "d2 = diff(y(x), x, x)\n",
    "d3 = diff(y(x), x, x, x)\n",
    "ode = d3 * d1 * d0 \\\n",
    "+ (d3 * d0**2) / x \\\n",
    "- 3 * d2 **2 * d0 \\\n",
    "- x * d2 * d1**2 * d0 \\\n",
    "+ 3* d2* d1**2 \\\n",
    "- 2* d2 *d1 * d0**2 \\\n",
    "- d2*d1*d0*12/x \\\n",
    "- (d2*d0**3)/x \\\n",
    "- (3*d2*d0**2)/(x**2)\\\n",
    "+ 2 * x * d1**4 \\\n",
    "+ 3*d1**3 * d0 \\\n",
    "+ (15*d1**3)/x \\\n",
    "- d1**2 * d0*+2 /x \\\n",
    "- 3*d1**2 * d0/x**2\\\n",
    "- (3*d1*d0**3)/x**2 \\\n",
    "- (9* d1*d0**2)/(x**3)\\\n",
    "- (d0**4)/x**3 \\\n",
    "- (3*d0**3)/x**4\n",
    "\n",
    "\n",
    "\n",
    "display(Math(latexer(ode)))\n",
    "jb = Janet_Basis_from_ODE(ode, y, x)\n",
    "print(\"*\"*88)\n",
    "for _ in jb:\n",
    "    display(Math(latexer(_)))"
   ]
  },
  {
   "cell_type": "markdown",
   "id": "8c22a71e-f19b-429f-97e9-99072db19368",
   "metadata": {},
   "source": [
    "seems to be completely wrong..."
   ]
  }
 ],
 "metadata": {
  "kernelspec": {
   "display_name": "SageMath 9.7",
   "language": "sage",
   "name": "sagemath"
  },
  "language_info": {
   "codemirror_mode": {
    "name": "ipython",
    "version": 3
   },
   "file_extension": ".py",
   "mimetype": "text/x-python",
   "name": "python",
   "nbconvert_exporter": "python",
   "pygments_lexer": "ipython3",
   "version": "3.10.8"
  },
  "widgets": {
   "application/vnd.jupyter.widget-state+json": {
    "state": {},
    "version_major": 2,
    "version_minor": 0
   }
  }
 },
 "nbformat": 4,
 "nbformat_minor": 5
}
