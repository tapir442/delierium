{
 "cells": [
  {
   "cell_type": "code",
   "execution_count": null,
   "id": "d68f7faf-5990-447f-ba39-5d5fdaf99e0f",
   "metadata": {
    "tags": []
   },
   "outputs": [
    {
     "data": {
      "text/latex": [
       "$\\displaystyle -x^4 y_{x}^2 + 4 x^2 y_{x, x} + 4 y$"
      ],
      "text/plain": [
       "<IPython.core.display.Math object>"
      ]
     },
     "metadata": {},
     "output_type": "display_data"
    },
    {
     "name": "stdout",
     "output_type": "stream",
     "text": [
      "(phi, xi) (Y, x)\n",
      "diff(xi(Y, x), Y, Y) diff(phi(Y, x), x, x)\n",
      "diff(phi(Y, x), x, x) diff(phi(Y, x), Y, x)\n",
      "diff(phi(Y, x), Y, x) diff(phi(Y, x), Y, Y)\n",
      "> \u001b[0;32m/home/tapir/research-disk/delierium/src/delierium/JanetBasis.py\u001b[0m(285)\u001b[0;36mReorder\u001b[0;34m()\u001b[0m\n",
      "\u001b[0;32m    283 \u001b[0;31m        \u001b[0mprint\u001b[0m\u001b[0;34m(\u001b[0m\u001b[0mk\u001b[0m\u001b[0;34m[\u001b[0m\u001b[0;36m0\u001b[0m\u001b[0;34m]\u001b[0m\u001b[0;34m.\u001b[0m\u001b[0mLder\u001b[0m\u001b[0;34m(\u001b[0m\u001b[0;34m)\u001b[0m\u001b[0;34m,\u001b[0m \u001b[0mk\u001b[0m\u001b[0;34m[\u001b[0m\u001b[0;36m1\u001b[0m\u001b[0;34m]\u001b[0m\u001b[0;34m.\u001b[0m\u001b[0mLder\u001b[0m\u001b[0;34m(\u001b[0m\u001b[0;34m)\u001b[0m\u001b[0;34m)\u001b[0m\u001b[0;34m\u001b[0m\u001b[0;34m\u001b[0m\u001b[0m\n",
      "\u001b[0m\u001b[0;32m    284 \u001b[0;31m    \u001b[0mset_trace\u001b[0m\u001b[0;34m(\u001b[0m\u001b[0;34m)\u001b[0m\u001b[0;34m\u001b[0m\u001b[0;34m\u001b[0m\u001b[0m\n",
      "\u001b[0m\u001b[0;32m--> 285 \u001b[0;31m    \u001b[0;32massert\u001b[0m \u001b[0mall\u001b[0m\u001b[0;34m(\u001b[0m\u001b[0mmap\u001b[0m\u001b[0;34m(\u001b[0m\u001b[0;32mlambda\u001b[0m \u001b[0ma\u001b[0m\u001b[0;34m:\u001b[0m \u001b[0ma\u001b[0m\u001b[0;34m[\u001b[0m\u001b[0;36m0\u001b[0m\u001b[0;34m]\u001b[0m\u001b[0;34m.\u001b[0m\u001b[0mLder\u001b[0m\u001b[0;34m(\u001b[0m\u001b[0;34m)\u001b[0m \u001b[0;34m<=\u001b[0m \u001b[0ma\u001b[0m\u001b[0;34m[\u001b[0m\u001b[0;36m1\u001b[0m\u001b[0;34m]\u001b[0m\u001b[0;34m.\u001b[0m\u001b[0mLder\u001b[0m\u001b[0;34m(\u001b[0m\u001b[0;34m)\u001b[0m\u001b[0;34m,\u001b[0m \u001b[0mpairwise\u001b[0m\u001b[0;34m(\u001b[0m\u001b[0ms\u001b[0m\u001b[0;34m)\u001b[0m\u001b[0;34m)\u001b[0m\u001b[0;34m)\u001b[0m\u001b[0;34m\u001b[0m\u001b[0;34m\u001b[0m\u001b[0m\n",
      "\u001b[0m\u001b[0;32m    286 \u001b[0;31m    \u001b[0;32mreturn\u001b[0m \u001b[0ms\u001b[0m\u001b[0;34m\u001b[0m\u001b[0;34m\u001b[0m\u001b[0m\n",
      "\u001b[0m\u001b[0;32m    287 \u001b[0;31m\u001b[0;34m\u001b[0m\u001b[0m\n",
      "\u001b[0m\n"
     ]
    },
    {
     "name": "stdin",
     "output_type": "stream",
     "text": [
      "ipdb>  pp s\n"
     ]
    },
    {
     "name": "stdout",
     "output_type": "stream",
     "text": [
      "[<delierium.JanetBasis._Differential_Polynomial object at 0x7f7d92d07150>,\n",
      " <delierium.JanetBasis._Differential_Polynomial object at 0x7f7d97c0b0d0>,\n",
      " <delierium.JanetBasis._Differential_Polynomial object at 0x7f7d92c8a410>,\n",
      " <delierium.JanetBasis._Differential_Polynomial object at 0x7f7d924506d0>]\n"
     ]
    },
    {
     "name": "stdin",
     "output_type": "stream",
     "text": [
      "ipdb>  for _ in pairwise(s): print(_)\n"
     ]
    },
    {
     "name": "stdout",
     "output_type": "stream",
     "text": [
      "(<delierium.JanetBasis._Differential_Polynomial object at 0x7f7d92d07150>, <delierium.JanetBasis._Differential_Polynomial object at 0x7f7d97c0b0d0>)\n",
      "(<delierium.JanetBasis._Differential_Polynomial object at 0x7f7d97c0b0d0>, <delierium.JanetBasis._Differential_Polynomial object at 0x7f7d92c8a410>)\n",
      "(<delierium.JanetBasis._Differential_Polynomial object at 0x7f7d92c8a410>, <delierium.JanetBasis._Differential_Polynomial object at 0x7f7d924506d0>)\n"
     ]
    },
    {
     "name": "stdin",
     "output_type": "stream",
     "text": [
      "ipdb>  for _ in pairwise(s): print(_[0], _[1])\n"
     ]
    },
    {
     "name": "stdout",
     "output_type": "stream",
     "text": [
      "diff(xi(Y, x), Y, Y) + (-1/2*x^2) * diff(xi(Y, x), Y), [], [] diff(phi(Y, x), x, x) + (-Y/x^2) * diff(phi(Y, x), Y) + (2*Y/x^2) * diff(xi(Y, x), x) + (x^(-2)) * phi(Y, x) + (-2*Y/x^3) * xi(Y, x), [], []\n",
      "diff(phi(Y, x), x, x) + (-Y/x^2) * diff(phi(Y, x), Y) + (2*Y/x^2) * diff(xi(Y, x), x) + (x^(-2)) * phi(Y, x) + (-2*Y/x^3) * xi(Y, x), [], [] diff(phi(Y, x), Y, x) + (-1/2) * diff(xi(Y, x), x, x) + (-1/4*x^2) * diff(phi(Y, x), x) + (3/2*Y/x^2) * diff(xi(Y, x), Y), [], []\n",
      "diff(phi(Y, x), Y, x) + (-1/2) * diff(xi(Y, x), x, x) + (-1/4*x^2) * diff(phi(Y, x), x) + (3/2*Y/x^2) * diff(xi(Y, x), Y), [], [] diff(phi(Y, x), Y, Y) + (-2) * diff(xi(Y, x), Y, x) + (-1/4*x^2) * diff(phi(Y, x), Y) + (-1/2*x) * xi(Y, x), [], []\n"
     ]
    },
    {
     "name": "stdin",
     "output_type": "stream",
     "text": [
      "ipdb>  for _ in pairwise(s): print(_)\n"
     ]
    },
    {
     "name": "stdout",
     "output_type": "stream",
     "text": [
      "(<delierium.JanetBasis._Differential_Polynomial object at 0x7f7d92d07150>, <delierium.JanetBasis._Differential_Polynomial object at 0x7f7d97c0b0d0>)\n",
      "(<delierium.JanetBasis._Differential_Polynomial object at 0x7f7d97c0b0d0>, <delierium.JanetBasis._Differential_Polynomial object at 0x7f7d92c8a410>)\n",
      "(<delierium.JanetBasis._Differential_Polynomial object at 0x7f7d92c8a410>, <delierium.JanetBasis._Differential_Polynomial object at 0x7f7d924506d0>)\n"
     ]
    },
    {
     "name": "stdin",
     "output_type": "stream",
     "text": [
      "ipdb>  for _ in pairwise(s): print(_[0]._p[0], _[1]._p[0])\n"
     ]
    },
    {
     "name": "stdout",
     "output_type": "stream",
     "text": [
      "diff(xi(Y, x), Y, Y) diff(phi(Y, x), x, x)\n",
      "diff(phi(Y, x), x, x) diff(phi(Y, x), Y, x)\n",
      "diff(phi(Y, x), Y, x) diff(phi(Y, x), Y, Y)\n"
     ]
    },
    {
     "name": "stdin",
     "output_type": "stream",
     "text": [
      "ipdb>  for _ in pairwise(s): print(bool(_[0]._p[0] < _[1]._p[0]))\n"
     ]
    },
    {
     "name": "stdout",
     "output_type": "stream",
     "text": [
      "*** AttributeError: '_Dterm' object has no attribute 'operands'\n"
     ]
    },
    {
     "name": "stdin",
     "output_type": "stream",
     "text": [
      "ipdb>  for _ in pairwise(s): print(bool(_[0]._p[0] < _[1]._p[0]))\n"
     ]
    },
    {
     "name": "stdout",
     "output_type": "stream",
     "text": [
      "*** AttributeError: '_Dterm' object has no attribute 'operands'\n"
     ]
    },
    {
     "name": "stdin",
     "output_type": "stream",
     "text": [
      "ipdb>  for _ in pairwise(s): print(bool(_[0]._p[0].__class__ , _[1]._p[0]))\n"
     ]
    },
    {
     "name": "stdout",
     "output_type": "stream",
     "text": [
      "*** TypeError: bool expected at most 1 argument, got 2\n"
     ]
    },
    {
     "name": "stdin",
     "output_type": "stream",
     "text": [
      "ipdb>  for _ in pairwise(s): print(_[0]._p[0].__class__ , _[1]._p[0]))\n"
     ]
    },
    {
     "name": "stdout",
     "output_type": "stream",
     "text": [
      "*** SyntaxError: unmatched ')'\n"
     ]
    },
    {
     "name": "stdin",
     "output_type": "stream",
     "text": [
      "ipdb>  for _ in pairwise(s): print(_[0]._p[0].__class__ , _[1]._p[0])\n"
     ]
    },
    {
     "name": "stdout",
     "output_type": "stream",
     "text": [
      "<class 'delierium.JanetBasis._Dterm'> diff(phi(Y, x), x, x)\n",
      "<class 'delierium.JanetBasis._Dterm'> diff(phi(Y, x), Y, x)\n",
      "<class 'delierium.JanetBasis._Dterm'> diff(phi(Y, x), Y, Y)\n"
     ]
    }
   ],
   "source": [
    "from delierium.Infinitesimals import prolongationODE, overdeterminedSystemODE, Janet_Basis_from_ODE\n",
    "from IPython.display import Math\n",
    "from delierium.helpers import latexer\n",
    "x = var('x')\n",
    "y = function('y')\n",
    "\n",
    "d0 = y(x)\n",
    "d1 = diff(y(x), x)\n",
    "d2 = diff(y(x), x, x)\n",
    "ode = 4*x**2 * d2 - x**4 * d1**2 + 4*d0\n",
    "n\n",
    "display(Math(latexer(ode)))\n",
    "jb = Janet_Basis_from_ODE(ode, y, x)\n",
    "print(\"*\"*88)\n",
    "for _ in jb:\n",
    "    display(Math(latexer(_)))"
   ]
  },
  {
   "cell_type": "code",
   "execution_count": null,
   "id": "d69ca0ba-6711-4a4a-bd2e-a678b04a93b4",
   "metadata": {},
   "outputs": [],
   "source": []
  }
 ],
 "metadata": {
  "kernelspec": {
   "display_name": "SageMath 10.0",
   "language": "sage",
   "name": "sagemath"
  },
  "language_info": {
   "codemirror_mode": {
    "name": "ipython",
    "version": 3
   },
   "file_extension": ".py",
   "mimetype": "text/x-python",
   "name": "python",
   "nbconvert_exporter": "python",
   "pygments_lexer": "ipython3",
   "version": "3.11.6"
  },
  "widgets": {
   "application/vnd.jupyter.widget-state+json": {
    "state": {},
    "version_major": 2,
    "version_minor": 0
   }
  }
 },
 "nbformat": 4,
 "nbformat_minor": 5
}
