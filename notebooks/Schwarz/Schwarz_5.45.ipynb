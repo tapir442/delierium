{
 "cells": [
  {
   "cell_type": "code",
   "execution_count": null,
   "id": "c9a40b49-b63f-474a-83e6-ae4a3e7a198e",
   "metadata": {},
   "outputs": [
    {
     "data": {
      "text/latex": [
       "$\\displaystyle -4 x y_{x}^5 - 16 x y_{x}^4 + 4 y y_{x}^4 - 24 x y_{x}^3 + 16 y y_{x}^3 - 16 x y_{x}^2 + 24 y y_{x}^2 - 3 x y_{x, x}^2 - 3 y y_{x, x}^2 + x y_{x} y_{x, x, x} + y y_{x} y_{x, x, x} - 4 x y_{x} + 16 y y_{x} + 3/2 y_{x, x}^2 + x y_{x, x, x} + y y_{x, x, x} - 1/2 y_{x} y_{x, x, x} + 4 y - 1/2 y_{x, x, x}$"
      ],
      "text/plain": [
       "<IPython.core.display.Math object>"
      ]
     },
     "metadata": {},
     "output_type": "display_data"
    },
    {
     "name": "stdout",
     "output_type": "stream",
     "text": [
      " \n",
      "*** Profile stats marshalled to file '/home/tapir/tmp/tmp4x5zpyq4'.\n",
      "Embedding SnakeViz in this document...\n"
     ]
    },
    {
     "data": {
      "text/html": [
       "\n",
       "<iframe id='snakeviz-bfdf20f0-c419-11ed-a643-9094e4f6e861' frameborder=0 seamless width='100%' height='1000'></iframe>\n",
       "<script>document.getElementById(\"snakeviz-bfdf20f0-c419-11ed-a643-9094e4f6e861\").setAttribute(\"src\", \"http://\" + document.location.hostname + \":8080/snakeviz/%2Fhome%2Ftapir%2Ftmp%2Ftmp4x5zpyq4\")</script>\n"
      ],
      "text/plain": [
       "<IPython.core.display.HTML object>"
      ]
     },
     "metadata": {},
     "output_type": "display_data"
    },
    {
     "data": {
      "text/latex": [
       "$\\displaystyle 15 x  \\xi_{y} + 15 y  \\xi_{y} - 15/2  \\xi_{y}$"
      ],
      "text/plain": [
       "<IPython.core.display.Math object>"
      ]
     },
     "metadata": {},
     "output_type": "display_data"
    },
    {
     "data": {
      "text/latex": [
       "$\\displaystyle -30 x^2  \\xi_{y} y_{x}^2/(2 x y_{x} + 2 y y_{x} + 2 x + 2 y - y_{x} - 1) - 60 x y  \\xi_{y} y_{x}^2/(2 x y_{x} + 2 y y_{x} + 2 x + 2 y - y_{x} - 1) - 30 y^2  \\xi_{y} y_{x}^2/(2 x y_{x} + 2 y y_{x} + 2 x + 2 y - y_{x} - 1) + 12 x^2  \\phi_{y} y_{x}/(2 x y_{x} + 2 y y_{x} + 2 x + 2 y - y_{x} - 1) + 24 x y  \\phi_{y} y_{x}/(2 x y_{x} + 2 y y_{x} + 2 x + 2 y - y_{x} - 1) + 12 y^2  \\phi_{y} y_{x}/(2 x y_{x} + 2 y y_{x} + 2 x + 2 y - y_{x} - 1) - 24 x^2  \\xi_{y} y_{x}/(2 x y_{x} + 2 y y_{x} + 2 x + 2 y - y_{x} - 1) - 48 x y  \\xi_{y} y_{x}/(2 x y_{x} + 2 y y_{x} + 2 x + 2 y - y_{x} - 1) - 24 y^2  \\xi_{y} y_{x}/(2 x y_{x} + 2 y y_{x} + 2 x + 2 y - y_{x} - 1) - 24 x^2  \\xi_{x} y_{x}/(2 x y_{x} + 2 y y_{x} + 2 x + 2 y - y_{x} - 1) - 48 x y  \\xi_{x} y_{x}/(2 x y_{x} + 2 y y_{x} + 2 x + 2 y - y_{x} - 1) - 24 y^2  \\xi_{x} y_{x}/(2 x y_{x} + 2 y y_{x} + 2 x + 2 y - y_{x} - 1) + 30 x  \\xi_{y} y_{x}^2/(2 x y_{x} + 2 y y_{x} + 2 x + 2 y - y_{x} - 1) + 30 y  \\xi_{y} y_{x}^2/(2 x y_{x} + 2 y y_{x} + 2 x + 2 y - y_{x} - 1) - 6 x  \\phi_{y} + 6 x^2  \\phi_{y}/(2 x y_{x} + 2 y y_{x} + 2 x + 2 y - y_{x} - 1) + 12 x y  \\phi_{y}/(2 x y_{x} + 2 y y_{x} + 2 x + 2 y - y_{x} - 1) - 6 y  \\phi_{y} + 6 y^2  \\phi_{y}/(2 x y_{x} + 2 y y_{x} + 2 x + 2 y - y_{x} - 1) + 6 x^2  \\phi_{x}/(2 x y_{x} + 2 y y_{x} + 2 x + 2 y - y_{x} - 1) + 12 x y  \\phi_{x}/(2 x y_{x} + 2 y y_{x} + 2 x + 2 y - y_{x} - 1) + 6 y^2  \\phi_{x}/(2 x y_{x} + 2 y y_{x} + 2 x + 2 y - y_{x} - 1) - 3 x  \\xi_{y} - 3 y  \\xi_{y} + 12 x  \\xi_{x} - 18 x^2  \\xi_{x}/(2 x y_{x} + 2 y y_{x} + 2 x + 2 y - y_{x} - 1) - 36 x y  \\xi_{x}/(2 x y_{x} + 2 y y_{x} + 2 x + 2 y - y_{x} - 1) + 12 y  \\xi_{x} - 18 y^2  \\xi_{x}/(2 x y_{x} + 2 y y_{x} + 2 x + 2 y - y_{x} - 1) + 6 x \\phi y_{x}/(2 x y_{x} + 2 y y_{x} + 2 x + 2 y - y_{x} - 1) + 6 x \\xi y_{x}/(2 x y_{x} + 2 y y_{x} + 2 x + 2 y - y_{x} - 1) + 6 \\phi y y_{x}/(2 x y_{x} + 2 y y_{x} + 2 x + 2 y - y_{x} - 1) + 6 \\xi y y_{x}/(2 x y_{x} + 2 y y_{x} + 2 x + 2 y - y_{x} - 1) - 12 x  \\phi_{y} y_{x}/(2 x y_{x} + 2 y y_{x} + 2 x + 2 y - y_{x} - 1) - 12 y  \\phi_{y} y_{x}/(2 x y_{x} + 2 y y_{x} + 2 x + 2 y - y_{x} - 1) + 24 x  \\xi_{y} y_{x}/(2 x y_{x} + 2 y y_{x} + 2 x + 2 y - y_{x} - 1) + 24 y  \\xi_{y} y_{x}/(2 x y_{x} + 2 y y_{x} + 2 x + 2 y - y_{x} - 1) + 24 x  \\xi_{x} y_{x}/(2 x y_{x} + 2 y y_{x} + 2 x + 2 y - y_{x} - 1) + 24 y  \\xi_{x} y_{x}/(2 x y_{x} + 2 y y_{x} + 2 x + 2 y - y_{x} - 1) - 15/2  \\xi_{y} y_{x}^2/(2 x y_{x} + 2 y y_{x} + 2 x + 2 y - y_{x} - 1) + 6 x \\phi/(2 x y_{x} + 2 y y_{x} + 2 x + 2 y - y_{x} - 1) + 6 x \\xi/(2 x y_{x} + 2 y y_{x} + 2 x + 2 y - y_{x} - 1) + 6 \\phi y/(2 x y_{x} + 2 y y_{x} + 2 x + 2 y - y_{x} - 1) + 6 \\xi y/(2 x y_{x} + 2 y y_{x} + 2 x + 2 y - y_{x} - 1) - 6 x  \\phi_{y}/(2 x y_{x} + 2 y y_{x} + 2 x + 2 y - y_{x} - 1) - 6 y  \\phi_{y}/(2 x y_{x} + 2 y y_{x} + 2 x + 2 y - y_{x} - 1) - 6 x  \\phi_{x}/(2 x y_{x} + 2 y y_{x} + 2 x + 2 y - y_{x} - 1) - 6 y  \\phi_{x}/(2 x y_{x} + 2 y y_{x} + 2 x + 2 y - y_{x} - 1) + 18 x  \\xi_{x}/(2 x y_{x} + 2 y y_{x} + 2 x + 2 y - y_{x} - 1) + 18 y  \\xi_{x}/(2 x y_{x} + 2 y y_{x} + 2 x + 2 y - y_{x} - 1) - 3 \\phi y_{x}/(2 x y_{x} + 2 y y_{x} + 2 x + 2 y - y_{x} - 1) - 3 \\xi y_{x}/(2 x y_{x} + 2 y y_{x} + 2 x + 2 y - y_{x} - 1) + 3  \\phi_{y} y_{x}/(2 x y_{x} + 2 y y_{x} + 2 x + 2 y - y_{x} - 1) - 6  \\xi_{y} y_{x}/(2 x y_{x} + 2 y y_{x} + 2 x + 2 y - y_{x} - 1) - 6  \\xi_{x} y_{x}/(2 x y_{x} + 2 y y_{x} + 2 x + 2 y - y_{x} - 1) - 3 \\phi/(2 x y_{x} + 2 y y_{x} + 2 x + 2 y - y_{x} - 1) - 3 \\xi/(2 x y_{x} + 2 y y_{x} + 2 x + 2 y - y_{x} - 1) + 3/2  \\phi_{y}/(2 x y_{x} + 2 y y_{x} + 2 x + 2 y - y_{x} - 1) + 3/2  \\phi_{x}/(2 x y_{x} + 2 y y_{x} + 2 x + 2 y - y_{x} - 1) - 9/2  \\xi_{x}/(2 x y_{x} + 2 y y_{x} + 2 x + 2 y - y_{x} - 1) - 3 \\phi - 3 \\xi + 3  \\phi_{y} + 3/2  \\xi_{y} - 6  \\xi_{x}$"
      ],
      "text/plain": [
       "<IPython.core.display.Math object>"
      ]
     },
     "metadata": {},
     "output_type": "display_data"
    },
    {
     "data": {
      "text/latex": [
       "$\\displaystyle -3 x  \\phi_{yy} - 3 y  \\phi_{yy} - 6 x  \\xi_{yy} - 6 y  \\xi_{yy} + 3 x  \\xi_{yx} + 3 y  \\xi_{yx} + 3/2  \\phi_{yy} + 3  \\xi_{yy} - 3/2  \\xi_{yx}$"
      ],
      "text/plain": [
       "<IPython.core.display.Math object>"
      ]
     },
     "metadata": {},
     "output_type": "display_data"
    },
    {
     "data": {
      "text/latex": [
       "$\\displaystyle 3 x  \\phi_{yy} + 3 y  \\phi_{yy} - 9 x  \\phi_{yx} - 9 y  \\phi_{yx} - 9 x  \\xi_{yx} - 9 y  \\xi_{yx} + 3 x  \\xi_{xx} + 3 y  \\xi_{xx} - 3/2  \\phi_{yy} + 9/2  \\phi_{yx} + 9/2  \\xi_{yx} - 3/2  \\xi_{xx}$"
      ],
      "text/plain": [
       "<IPython.core.display.Math object>"
      ]
     },
     "metadata": {},
     "output_type": "display_data"
    },
    {
     "data": {
      "text/latex": [
       "$\\displaystyle 3 x  \\phi_{yx} + 3 y  \\phi_{yx} - 6 x  \\phi_{xx} - 6 y  \\phi_{xx} - 3 x  \\xi_{xx} - 3 y  \\xi_{xx} - 3/2  \\phi_{yx} + 3  \\phi_{xx} + 3/2  \\xi_{xx}$"
      ],
      "text/plain": [
       "<IPython.core.display.Math object>"
      ]
     },
     "metadata": {},
     "output_type": "display_data"
    },
    {
     "data": {
      "text/latex": [
       "$\\displaystyle 16 x^2  \\phi_{y}/(2 x y_{x} + 2 y y_{x} + 2 x + 2 y - y_{x} - 1) + 16 x y  \\phi_{y}/(2 x y_{x} + 2 y y_{x} + 2 x + 2 y - y_{x} - 1) + 20 x  \\xi_{y} - 192 x^2  \\xi_{y}/(2 x y_{x} + 2 y y_{x} + 2 x + 2 y - y_{x} - 1) - 152 x y  \\xi_{y}/(2 x y_{x} + 2 y y_{x} + 2 x + 2 y - y_{x} - 1) + 40 y^2  \\xi_{y}/(2 x y_{x} + 2 y y_{x} + 2 x + 2 y - y_{x} - 1) - 32 x^2  \\xi_{x}/(2 x y_{x} + 2 y y_{x} + 2 x + 2 y - y_{x} - 1) - 32 x y  \\xi_{x}/(2 x y_{x} + 2 y y_{x} + 2 x + 2 y - y_{x} - 1) + 8 x \\phi/(2 x y_{x} + 2 y y_{x} + 2 x + 2 y - y_{x} - 1) + 8 x \\xi/(2 x y_{x} + 2 y y_{x} + 2 x + 2 y - y_{x} - 1) - 8 x  \\phi_{y}/(2 x y_{x} + 2 y y_{x} + 2 x + 2 y - y_{x} - 1) + 96 x  \\xi_{y}/(2 x y_{x} + 2 y y_{x} + 2 x + 2 y - y_{x} - 1) - 20 y  \\xi_{y}/(2 x y_{x} + 2 y y_{x} + 2 x + 2 y - y_{x} - 1) + 16 x  \\xi_{x}/(2 x y_{x} + 2 y y_{x} + 2 x + 2 y - y_{x} - 1)$"
      ],
      "text/plain": [
       "<IPython.core.display.Math object>"
      ]
     },
     "metadata": {},
     "output_type": "display_data"
    },
    {
     "data": {
      "text/latex": [
       "$\\displaystyle -20 x  \\phi_{y} + 72 x^2  \\phi_{y}/(2 x y_{x} + 2 y y_{x} + 2 x + 2 y - y_{x} - 1) + 56 x y  \\phi_{y}/(2 x y_{x} + 2 y y_{x} + 2 x + 2 y - y_{x} - 1) - 16 y^2  \\phi_{y}/(2 x y_{x} + 2 y y_{x} + 2 x + 2 y - y_{x} - 1) + 8 x^2  \\phi_{x}/(2 x y_{x} + 2 y y_{x} + 2 x + 2 y - y_{x} - 1) + 8 x y  \\phi_{x}/(2 x y_{x} + 2 y y_{x} + 2 x + 2 y - y_{x} - 1) + 64 x  \\xi_{y} - 368 x^2  \\xi_{y}/(2 x y_{x} + 2 y y_{x} + 2 x + 2 y - y_{x} - 1) - 176 x y  \\xi_{y}/(2 x y_{x} + 2 y y_{x} + 2 x + 2 y - y_{x} - 1) - 16 y  \\xi_{y} + 192 y^2  \\xi_{y}/(2 x y_{x} + 2 y y_{x} + 2 x + 2 y - y_{x} - 1) - x  \\xi_{yyy} - y  \\xi_{yyy} + 20 x  \\xi_{x} - 152 x^2  \\xi_{x}/(2 x y_{x} + 2 y y_{x} + 2 x + 2 y - y_{x} - 1) - 120 x y  \\xi_{x}/(2 x y_{x} + 2 y y_{x} + 2 x + 2 y - y_{x} - 1) + 32 y^2  \\xi_{x}/(2 x y_{x} + 2 y y_{x} + 2 x + 2 y - y_{x} - 1) + 40 x \\phi/(2 x y_{x} + 2 y y_{x} + 2 x + 2 y - y_{x} - 1) + 40 x \\xi/(2 x y_{x} + 2 y y_{x} + 2 x + 2 y - y_{x} - 1) - 8 \\phi y/(2 x y_{x} + 2 y y_{x} + 2 x + 2 y - y_{x} - 1) - 8 \\xi y/(2 x y_{x} + 2 y y_{x} + 2 x + 2 y - y_{x} - 1) - 36 x  \\phi_{y}/(2 x y_{x} + 2 y y_{x} + 2 x + 2 y - y_{x} - 1) + 8 y  \\phi_{y}/(2 x y_{x} + 2 y y_{x} + 2 x + 2 y - y_{x} - 1) - 4 x  \\phi_{x}/(2 x y_{x} + 2 y y_{x} + 2 x + 2 y - y_{x} - 1) + 184 x  \\xi_{y}/(2 x y_{x} + 2 y y_{x} + 2 x + 2 y - y_{x} - 1) - 96 y  \\xi_{y}/(2 x y_{x} + 2 y y_{x} + 2 x + 2 y - y_{x} - 1) + 76 x  \\xi_{x}/(2 x y_{x} + 2 y y_{x} + 2 x + 2 y - y_{x} - 1) - 16 y  \\xi_{x}/(2 x y_{x} + 2 y y_{x} + 2 x + 2 y - y_{x} - 1) - 4 \\xi + 1/2  \\xi_{yyy}$"
      ],
      "text/plain": [
       "<IPython.core.display.Math object>"
      ]
     },
     "metadata": {},
     "output_type": "display_data"
    },
    {
     "data": {
      "text/latex": [
       "$\\displaystyle -64 x  \\phi_{y} + 128 x^2  \\phi_{y}/(2 x y_{x} + 2 y y_{x} + 2 x + 2 y - y_{x} - 1) + 56 x y  \\phi_{y}/(2 x y_{x} + 2 y y_{x} + 2 x + 2 y - y_{x} - 1) + 16 y  \\phi_{y} - 72 y^2  \\phi_{y}/(2 x y_{x} + 2 y y_{x} + 2 x + 2 y - y_{x} - 1) + x  \\phi_{yyy} + y  \\phi_{yyy} - 20 x  \\phi_{x} + 32 x^2  \\phi_{x}/(2 x y_{x} + 2 y y_{x} + 2 x + 2 y - y_{x} - 1) + 24 x y  \\phi_{x}/(2 x y_{x} + 2 y y_{x} + 2 x + 2 y - y_{x} - 1) - 8 y^2  \\phi_{x}/(2 x y_{x} + 2 y y_{x} + 2 x + 2 y - y_{x} - 1) + 72 x  \\xi_{y} - 352 x^2  \\xi_{y}/(2 x y_{x} + 2 y y_{x} + 2 x + 2 y - y_{x} - 1) + 16 x y  \\xi_{y}/(2 x y_{x} + 2 y y_{x} + 2 x + 2 y - y_{x} - 1) - 48 y  \\xi_{y} + 368 y^2  \\xi_{y}/(2 x y_{x} + 2 y y_{x} + 2 x + 2 y - y_{x} - 1) - x  \\xi_{yyy} - y  \\xi_{yyy} - 3 x  \\xi_{yyx} - 3 y  \\xi_{yyx} + 64 x  \\xi_{x} - 288 x^2  \\xi_{x}/(2 x y_{x} + 2 y y_{x} + 2 x + 2 y - y_{x} - 1) - 136 x y  \\xi_{x}/(2 x y_{x} + 2 y y_{x} + 2 x + 2 y - y_{x} - 1) - 16 y  \\xi_{x} + 152 y^2  \\xi_{x}/(2 x y_{x} + 2 y y_{x} + 2 x + 2 y - y_{x} - 1) + 80 x \\phi/(2 x y_{x} + 2 y y_{x} + 2 x + 2 y - y_{x} - 1) + 80 x \\xi/(2 x y_{x} + 2 y y_{x} + 2 x + 2 y - y_{x} - 1) - 40 \\phi y/(2 x y_{x} + 2 y y_{x} + 2 x + 2 y - y_{x} - 1) - 40 \\xi y/(2 x y_{x} + 2 y y_{x} + 2 x + 2 y - y_{x} - 1) - 64 x  \\phi_{y}/(2 x y_{x} + 2 y y_{x} + 2 x + 2 y - y_{x} - 1) + 36 y  \\phi_{y}/(2 x y_{x} + 2 y y_{x} + 2 x + 2 y - y_{x} - 1) - 16 x  \\phi_{x}/(2 x y_{x} + 2 y y_{x} + 2 x + 2 y - y_{x} - 1) + 4 y  \\phi_{x}/(2 x y_{x} + 2 y y_{x} + 2 x + 2 y - y_{x} - 1) + 176 x  \\xi_{y}/(2 x y_{x} + 2 y y_{x} + 2 x + 2 y - y_{x} - 1) - 184 y  \\xi_{y}/(2 x y_{x} + 2 y y_{x} + 2 x + 2 y - y_{x} - 1) + 144 x  \\xi_{x}/(2 x y_{x} + 2 y y_{x} + 2 x + 2 y - y_{x} - 1) - 76 y  \\xi_{x}/(2 x y_{x} + 2 y y_{x} + 2 x + 2 y - y_{x} - 1) + 4 \\phi - 16 \\xi - 1/2  \\phi_{yyy} + 1/2  \\xi_{yyy} + 3/2  \\xi_{yyx}$"
      ],
      "text/plain": [
       "<IPython.core.display.Math object>"
      ]
     },
     "metadata": {},
     "output_type": "display_data"
    },
    {
     "data": {
      "text/latex": [
       "$\\displaystyle -72 x  \\phi_{y} + 112 x^2  \\phi_{y}/(2 x y_{x} + 2 y y_{x} + 2 x + 2 y - y_{x} - 1) - 16 x y  \\phi_{y}/(2 x y_{x} + 2 y y_{x} + 2 x + 2 y - y_{x} - 1) + 48 y  \\phi_{y} - 128 y^2  \\phi_{y}/(2 x y_{x} + 2 y y_{x} + 2 x + 2 y - y_{x} - 1) + x  \\phi_{yyy} + y  \\phi_{yyy} + 3 x  \\phi_{yyx} + 3 y  \\phi_{yyx} - 64 x  \\phi_{x} + 48 x^2  \\phi_{x}/(2 x y_{x} + 2 y y_{x} + 2 x + 2 y - y_{x} - 1) + 16 x y  \\phi_{x}/(2 x y_{x} + 2 y y_{x} + 2 x + 2 y - y_{x} - 1) + 16 y  \\phi_{x} - 32 y^2  \\phi_{x}/(2 x y_{x} + 2 y y_{x} + 2 x + 2 y - y_{x} - 1) + 32 x  \\xi_{y} - 168 x^2  \\xi_{y}/(2 x y_{x} + 2 y y_{x} + 2 x + 2 y - y_{x} - 1) + 184 x y  \\xi_{y}/(2 x y_{x} + 2 y y_{x} + 2 x + 2 y - y_{x} - 1) - 48 y  \\xi_{y} + 352 y^2  \\xi_{y}/(2 x y_{x} + 2 y y_{x} + 2 x + 2 y - y_{x} - 1) - 3 x  \\xi_{yyx} - 3 y  \\xi_{yyx} - 3 x  \\xi_{yxx} - 3 y  \\xi_{yxx} + 72 x  \\xi_{x} - 272 x^2  \\xi_{x}/(2 x y_{x} + 2 y y_{x} + 2 x + 2 y - y_{x} - 1) + 16 x y  \\xi_{x}/(2 x y_{x} + 2 y y_{x} + 2 x + 2 y - y_{x} - 1) - 48 y  \\xi_{x} + 288 y^2  \\xi_{x}/(2 x y_{x} + 2 y y_{x} + 2 x + 2 y - y_{x} - 1) + 80 x \\phi/(2 x y_{x} + 2 y y_{x} + 2 x + 2 y - y_{x} - 1) + 80 x \\xi/(2 x y_{x} + 2 y y_{x} + 2 x + 2 y - y_{x} - 1) - 80 \\phi y/(2 x y_{x} + 2 y y_{x} + 2 x + 2 y - y_{x} - 1) - 80 \\xi y/(2 x y_{x} + 2 y y_{x} + 2 x + 2 y - y_{x} - 1) - 56 x  \\phi_{y}/(2 x y_{x} + 2 y y_{x} + 2 x + 2 y - y_{x} - 1) + 64 y  \\phi_{y}/(2 x y_{x} + 2 y y_{x} + 2 x + 2 y - y_{x} - 1) - 24 x  \\phi_{x}/(2 x y_{x} + 2 y y_{x} + 2 x + 2 y - y_{x} - 1) + 16 y  \\phi_{x}/(2 x y_{x} + 2 y y_{x} + 2 x + 2 y - y_{x} - 1) + 84 x  \\xi_{y}/(2 x y_{x} + 2 y y_{x} + 2 x + 2 y - y_{x} - 1) - 176 y  \\xi_{y}/(2 x y_{x} + 2 y y_{x} + 2 x + 2 y - y_{x} - 1) + 136 x  \\xi_{x}/(2 x y_{x} + 2 y y_{x} + 2 x + 2 y - y_{x} - 1) - 144 y  \\xi_{x}/(2 x y_{x} + 2 y y_{x} + 2 x + 2 y - y_{x} - 1) + 16 \\phi - 24 \\xi - 1/2  \\phi_{yyy} - 3/2  \\phi_{yyx} + 3/2  \\xi_{yyx} + 3/2  \\xi_{yxx}$"
      ],
      "text/plain": [
       "<IPython.core.display.Math object>"
      ]
     },
     "metadata": {},
     "output_type": "display_data"
    },
    {
     "data": {
      "text/latex": [
       "$\\displaystyle -32 x  \\phi_{y} + 48 x^2  \\phi_{y}/(2 x y_{x} + 2 y y_{x} + 2 x + 2 y - y_{x} - 1) - 64 x y  \\phi_{y}/(2 x y_{x} + 2 y y_{x} + 2 x + 2 y - y_{x} - 1) + 48 y  \\phi_{y} - 112 y^2  \\phi_{y}/(2 x y_{x} + 2 y y_{x} + 2 x + 2 y - y_{x} - 1) + 3 x  \\phi_{yyx} + 3 y  \\phi_{yyx} + 3 x  \\phi_{yxx} + 3 y  \\phi_{yxx} - 72 x  \\phi_{x} + 32 x^2  \\phi_{x}/(2 x y_{x} + 2 y y_{x} + 2 x + 2 y - y_{x} - 1) - 16 x y  \\phi_{x}/(2 x y_{x} + 2 y y_{x} + 2 x + 2 y - y_{x} - 1) + 48 y  \\phi_{x} - 48 y^2  \\phi_{x}/(2 x y_{x} + 2 y y_{x} + 2 x + 2 y - y_{x} - 1) + 4 x  \\xi_{y} - 32 x^2  \\xi_{y}/(2 x y_{x} + 2 y y_{x} + 2 x + 2 y - y_{x} - 1) + 136 x y  \\xi_{y}/(2 x y_{x} + 2 y y_{x} + 2 x + 2 y - y_{x} - 1) - 16 y  \\xi_{y} + 168 y^2  \\xi_{y}/(2 x y_{x} + 2 y y_{x} + 2 x + 2 y - y_{x} - 1) - 3 x  \\xi_{yxx} - 3 y  \\xi_{yxx} + 32 x  \\xi_{x} - 128 x^2  \\xi_{x}/(2 x y_{x} + 2 y y_{x} + 2 x + 2 y - y_{x} - 1) + 144 x y  \\xi_{x}/(2 x y_{x} + 2 y y_{x} + 2 x + 2 y - y_{x} - 1) - 48 y  \\xi_{x} + 272 y^2  \\xi_{x}/(2 x y_{x} + 2 y y_{x} + 2 x + 2 y - y_{x} - 1) - x  \\xi_{xxx} - y  \\xi_{xxx} + 40 x \\phi/(2 x y_{x} + 2 y y_{x} + 2 x + 2 y - y_{x} - 1) + 40 x \\xi/(2 x y_{x} + 2 y y_{x} + 2 x + 2 y - y_{x} - 1) - 80 \\phi y/(2 x y_{x} + 2 y y_{x} + 2 x + 2 y - y_{x} - 1) - 80 \\xi y/(2 x y_{x} + 2 y y_{x} + 2 x + 2 y - y_{x} - 1) - 24 x  \\phi_{y}/(2 x y_{x} + 2 y y_{x} + 2 x + 2 y - y_{x} - 1) + 56 y  \\phi_{y}/(2 x y_{x} + 2 y y_{x} + 2 x + 2 y - y_{x} - 1) - 16 x  \\phi_{x}/(2 x y_{x} + 2 y y_{x} + 2 x + 2 y - y_{x} - 1) + 24 y  \\phi_{x}/(2 x y_{x} + 2 y y_{x} + 2 x + 2 y - y_{x} - 1) + 16 x  \\xi_{y}/(2 x y_{x} + 2 y y_{x} + 2 x + 2 y - y_{x} - 1) - 84 y  \\xi_{y}/(2 x y_{x} + 2 y y_{x} + 2 x + 2 y - y_{x} - 1) + 64 x  \\xi_{x}/(2 x y_{x} + 2 y y_{x} + 2 x + 2 y - y_{x} - 1) - 136 y  \\xi_{x}/(2 x y_{x} + 2 y y_{x} + 2 x + 2 y - y_{x} - 1) + 24 \\phi - 16 \\xi - 3/2  \\phi_{yyx} - 3/2  \\phi_{yxx} + 3/2  \\xi_{yxx} + 1/2  \\xi_{xxx}$"
      ],
      "text/plain": [
       "<IPython.core.display.Math object>"
      ]
     },
     "metadata": {},
     "output_type": "display_data"
    },
    {
     "data": {
      "text/latex": [
       "$\\displaystyle -4 x  \\phi_{y} + 8 x^2  \\phi_{y}/(2 x y_{x} + 2 y y_{x} + 2 x + 2 y - y_{x} - 1) - 40 x y  \\phi_{y}/(2 x y_{x} + 2 y y_{x} + 2 x + 2 y - y_{x} - 1) + 16 y  \\phi_{y} - 48 y^2  \\phi_{y}/(2 x y_{x} + 2 y y_{x} + 2 x + 2 y - y_{x} - 1) + 3 x  \\phi_{yxx} + 3 y  \\phi_{yxx} - 32 x  \\phi_{x} + 8 x^2  \\phi_{x}/(2 x y_{x} + 2 y y_{x} + 2 x + 2 y - y_{x} - 1) - 24 x y  \\phi_{x}/(2 x y_{x} + 2 y y_{x} + 2 x + 2 y - y_{x} - 1) + 48 y  \\phi_{x} - 32 y^2  \\phi_{x}/(2 x y_{x} + 2 y y_{x} + 2 x + 2 y - y_{x} - 1) + x  \\phi_{xxx} + y  \\phi_{xxx} + 32 x y  \\xi_{y}/(2 x y_{x} + 2 y y_{x} + 2 x + 2 y - y_{x} - 1) + 32 y^2  \\xi_{y}/(2 x y_{x} + 2 y y_{x} + 2 x + 2 y - y_{x} - 1) + 4 x  \\xi_{x} - 24 x^2  \\xi_{x}/(2 x y_{x} + 2 y y_{x} + 2 x + 2 y - y_{x} - 1) + 104 x y  \\xi_{x}/(2 x y_{x} + 2 y y_{x} + 2 x + 2 y - y_{x} - 1) - 16 y  \\xi_{x} + 128 y^2  \\xi_{x}/(2 x y_{x} + 2 y y_{x} + 2 x + 2 y - y_{x} - 1) - x  \\xi_{xxx} - y  \\xi_{xxx} + 8 x \\phi/(2 x y_{x} + 2 y y_{x} + 2 x + 2 y - y_{x} - 1) + 8 x \\xi/(2 x y_{x} + 2 y y_{x} + 2 x + 2 y - y_{x} - 1) - 40 \\phi y/(2 x y_{x} + 2 y y_{x} + 2 x + 2 y - y_{x} - 1) - 40 \\xi y/(2 x y_{x} + 2 y y_{x} + 2 x + 2 y - y_{x} - 1) - 4 x  \\phi_{y}/(2 x y_{x} + 2 y y_{x} + 2 x + 2 y - y_{x} - 1) + 24 y  \\phi_{y}/(2 x y_{x} + 2 y y_{x} + 2 x + 2 y - y_{x} - 1) - 4 x  \\phi_{x}/(2 x y_{x} + 2 y y_{x} + 2 x + 2 y - y_{x} - 1) + 16 y  \\phi_{x}/(2 x y_{x} + 2 y y_{x} + 2 x + 2 y - y_{x} - 1) - 16 y  \\xi_{y}/(2 x y_{x} + 2 y y_{x} + 2 x + 2 y - y_{x} - 1) + 12 x  \\xi_{x}/(2 x y_{x} + 2 y y_{x} + 2 x + 2 y - y_{x} - 1) - 64 y  \\xi_{x}/(2 x y_{x} + 2 y y_{x} + 2 x + 2 y - y_{x} - 1) + 16 \\phi - 4 \\xi - 3/2  \\phi_{yxx} - 1/2  \\phi_{xxx} + 1/2  \\xi_{xxx}$"
      ],
      "text/plain": [
       "<IPython.core.display.Math object>"
      ]
     },
     "metadata": {},
     "output_type": "display_data"
    },
    {
     "data": {
      "text/latex": [
       "$\\displaystyle -40 x^2  \\xi_{y} y_{x}^7/(2 x y_{x} + 2 y y_{x} + 2 x + 2 y - y_{x} - 1) - 40 x y  \\xi_{y} y_{x}^7/(2 x y_{x} + 2 y y_{x} + 2 x + 2 y - y_{x} - 1) + 20 x  \\xi_{y} y_{x}^7/(2 x y_{x} + 2 y y_{x} + 2 x + 2 y - y_{x} - 1) - 8 x y  \\phi_{y}/(2 x y_{x} + 2 y y_{x} + 2 x + 2 y - y_{x} - 1) - 8 y^2  \\phi_{y}/(2 x y_{x} + 2 y y_{x} + 2 x + 2 y - y_{x} - 1) - 4 x  \\phi_{x} - 8 x y  \\phi_{x}/(2 x y_{x} + 2 y y_{x} + 2 x + 2 y - y_{x} - 1) + 16 y  \\phi_{x} - 8 y^2  \\phi_{x}/(2 x y_{x} + 2 y y_{x} + 2 x + 2 y - y_{x} - 1) + x  \\phi_{xxx} + y  \\phi_{xxx} + 24 x y  \\xi_{x}/(2 x y_{x} + 2 y y_{x} + 2 x + 2 y - y_{x} - 1) + 24 y^2  \\xi_{x}/(2 x y_{x} + 2 y y_{x} + 2 x + 2 y - y_{x} - 1) - 8 \\phi y/(2 x y_{x} + 2 y y_{x} + 2 x + 2 y - y_{x} - 1) - 8 \\xi y/(2 x y_{x} + 2 y y_{x} + 2 x + 2 y - y_{x} - 1) + 4 y  \\phi_{y}/(2 x y_{x} + 2 y y_{x} + 2 x + 2 y - y_{x} - 1) + 4 y  \\phi_{x}/(2 x y_{x} + 2 y y_{x} + 2 x + 2 y - y_{x} - 1) - 12 y  \\xi_{x}/(2 x y_{x} + 2 y y_{x} + 2 x + 2 y - y_{x} - 1) + 4 \\phi - 1/2  \\phi_{xxx}$"
      ],
      "text/plain": [
       "<IPython.core.display.Math object>"
      ]
     },
     "metadata": {},
     "output_type": "display_data"
    },
    {
     "data": {
      "text/latex": [
       "$\\displaystyle -4 x y_{x}^5 - 16 x y_{x}^4 + 4 y y_{x}^4 - 24 x y_{x}^3 + 16 y y_{x}^3 - 16 x y_{x}^2 + 24 y y_{x}^2 - 3 x y_{x, x}^2 - 3 y y_{x, x}^2 + x y_{x} y_{x, x, x} + y y_{x} y_{x, x, x} - 4 x y_{x} + 16 y y_{x} + 3/2 y_{x, x}^2 + x y_{x, x, x} + y y_{x, x, x} - 1/2 y_{x} y_{x, x, x} + 4 y - 1/2 y_{x, x, x}$"
      ],
      "text/plain": [
       "<IPython.core.display.Math object>"
      ]
     },
     "metadata": {},
     "output_type": "display_data"
    }
   ],
   "source": [
    "from delierium.Infinitesimals import prolongationODE, overdeterminedSystemODE, Janet_Basis_from_ODE\n",
    "from IPython.display import Math\n",
    "from delierium.helpers import latexer\n",
    "x = var('x')\n",
    "y = function('y')\n",
    "\n",
    "d0 = y(x)\n",
    "d1 = diff(y(x), x)\n",
    "d2 = diff(y(x), x, x)\n",
    "d3 = diff(y(x), x, x, x)\n",
    "ode = d3*(d1+1)*(d0+x-1/2) \\\n",
    "- 3*(d2**2)*(d0+x-1/2) \\\n",
    "- 4*x*d1**5 \\\n",
    "+ (4*d1**4)*(d0-4*x)\\\n",
    "+(8*d1**3)*(2*d0-3*x)\\\n",
    "+(8*d1**2)*(3*d0-2*x)\\\n",
    "+4*d1*(4*d0-x)\\\n",
    "+4*d0\n",
    "\n",
    "display(Math(latexer(ode)))\n",
    "%load_ext snakeviz\n",
    "\n",
    "%snakeviz inf = overdeterminedSystemODE(ode, y, x)\n",
    "for _ in inf:\n",
    "    display(Math(latexer(_.expand())))\n",
    "\n",
    "\n",
    "display(Math(latexer(ode)))\n",
    "%snakeviz jb = Janet_Basis_from_ODE(ode, y, x)\n",
    "print(\"*\"*88)\n",
    "for _ in jb:\n",
    "    display(Math(latexer(_)))"
   ]
  },
  {
   "cell_type": "code",
   "execution_count": null,
   "id": "71359b4c-73af-4cbb-a8c0-f863dac00381",
   "metadata": {},
   "outputs": [],
   "source": []
  }
 ],
 "metadata": {
  "kernelspec": {
   "display_name": "SageMath 9.7",
   "language": "sage",
   "name": "sagemath"
  },
  "language_info": {
   "codemirror_mode": {
    "name": "ipython",
    "version": 3
   },
   "file_extension": ".py",
   "mimetype": "text/x-python",
   "name": "python",
   "nbconvert_exporter": "python",
   "pygments_lexer": "ipython3",
   "version": "3.10.8"
  },
  "widgets": {
   "application/vnd.jupyter.widget-state+json": {
    "state": {},
    "version_major": 2,
    "version_minor": 0
   }
  }
 },
 "nbformat": 4,
 "nbformat_minor": 5
}
