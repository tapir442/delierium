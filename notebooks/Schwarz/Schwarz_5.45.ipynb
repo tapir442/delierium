{
 "cells": [
  {
   "cell_type": "code",
   "execution_count": null,
   "id": "c9a40b49-b63f-474a-83e6-ae4a3e7a198e",
   "metadata": {},
   "outputs": [
    {
     "data": {
      "text/latex": [
       "$\\displaystyle -4 x y_{x}^5 - 16 x y_{x}^4 + 4 y y_{x}^4 - 24 x y_{x}^3 + 16 y y_{x}^3 - 16 x y_{x}^2 + 24 y y_{x}^2 - 3 x y_{x, x}^2 - 3 y y_{x, x}^2 + x y_{x} y_{x, x, x} + y y_{x} y_{x, x, x} - 4 x y_{x} + 16 y y_{x} + 3/2 y_{x, x}^2 + x y_{x, x, x} + y y_{x, x, x} - 1/2 y_{x} y_{x, x, x} + 4 y - 1/2 y_{x, x, x}$"
      ],
      "text/plain": [
       "<IPython.core.display.Math object>"
      ]
     },
     "metadata": {},
     "output_type": "display_data"
    }
   ],
   "source": [
    "from delierium.Infinitesimals import prolongationODE, infinitesimalsODE, Janet_Basis_from_ODE\n",
    "from IPython.display import Math\n",
    "from delierium.helpers import latexer\n",
    "x = var('x')\n",
    "y = function('y')\n",
    "\n",
    "d0 = y(x)\n",
    "d1 = diff(y(x), x)\n",
    "d2 = diff(y(x), x, x)\n",
    "d3 = diff(y(x), x, x, x)\n",
    "ode = d3*(d1+1)*(d0+x-1/2) \\\n",
    "- 3*(d2**2)*(d0+x-1/2) \\\n",
    "- 4*x*d1**5 \\\n",
    "+ (4*d1**4)*(d0-4*x)\\\n",
    "+(8*d1**3)*(2*d0-3*x)\\\n",
    "+(8*d1**2)*(3*d0-2*x)\\\n",
    "+4*d1*(4*d0-x)\\\n",
    "+4*d0\n",
    "\n",
    "\n",
    "%load_ext snakeviz\n",
    "\n",
    "display(Math(latexer(ode)))\n",
    "%snakeviz jb = Janet_Basis_from_ODE(ode, y, x)\n",
    "print(\"*\"*88)\n",
    "for _ in jb:\n",
    "    display(Math(latexer(_)))"
   ]
  },
  {
   "cell_type": "code",
   "execution_count": null,
   "id": "71359b4c-73af-4cbb-a8c0-f863dac00381",
   "metadata": {},
   "outputs": [],
   "source": []
  }
 ],
 "metadata": {
  "kernelspec": {
   "display_name": "SageMath 9.7",
   "language": "sage",
   "name": "sagemath"
  },
  "language_info": {
   "codemirror_mode": {
    "name": "ipython",
    "version": 3
   },
   "file_extension": ".py",
   "mimetype": "text/x-python",
   "name": "python",
   "nbconvert_exporter": "python",
   "pygments_lexer": "ipython3",
   "version": "3.10.8"
  },
  "widgets": {
   "application/vnd.jupyter.widget-state+json": {
    "state": {},
    "version_major": 2,
    "version_minor": 0
   }
  }
 },
 "nbformat": 4,
 "nbformat_minor": 5
}
