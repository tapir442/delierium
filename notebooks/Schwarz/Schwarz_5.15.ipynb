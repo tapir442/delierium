{
 "cells": [
  {
   "cell_type": "code",
   "execution_count": 1,
   "id": "78d083ba-865a-4005-b294-7afa7e63a810",
   "metadata": {
    "tags": []
   },
   "outputs": [
    {
     "data": {
      "text/latex": [
       "$\\displaystyle -2 x^6 y_{x}^3 + x^6 y y_{x} y_{x, x} + 2 x^5 y y_{x}^2 + y^5$"
      ],
      "text/plain": [
       "<IPython.core.display.Math object>"
      ]
     },
     "metadata": {},
     "output_type": "display_data"
    },
    {
     "name": "stdout",
     "output_type": "stream",
     "text": [
      "=====>e=-8*x^6*diff(xi(Y, x), Y)*diff(y(x), x)^4 - 2*Y^5*diff(phi(Y, x), Y) + 3*Y^5*diff(xi(Y, x), x) + 4*Y^4*phi(Y, x) - 6*Y^5*xi(Y, x)/x\n",
      "=====>d=diff(y(x), x)\n",
      " \n",
      "*** Profile stats marshalled to file '/tmp/tmpb_1pgxlo'.\n",
      "Embedding SnakeViz in this document...\n"
     ]
    },
    {
     "data": {
      "text/html": [
       "\n",
       "<iframe id='snakeviz-8e46e9bc-dace-11ed-85b7-9094e4f6e861' frameborder=0 seamless width='100%' height='1000'></iframe>\n",
       "<script>document.getElementById(\"snakeviz-8e46e9bc-dace-11ed-85b7-9094e4f6e861\").setAttribute(\"src\", \"http://\" + document.location.hostname + \":8080/snakeviz/%2Ftmp%2Ftmpb_1pgxlo\")</script>\n"
      ],
      "text/plain": [
       "<IPython.core.display.HTML object>"
      ]
     },
     "metadata": {},
     "output_type": "display_data"
    },
    {
     "name": "stdout",
     "output_type": "stream",
     "text": [
      "****************************************************************************************\n"
     ]
    },
    {
     "data": {
      "text/latex": [
       "$\\displaystyle  \\xi_{y}$"
      ],
      "text/plain": [
       "<IPython.core.display.Math object>"
      ]
     },
     "metadata": {},
     "output_type": "display_data"
    },
    {
     "data": {
      "text/latex": [
       "$\\displaystyle  \\phi_{x}$"
      ],
      "text/plain": [
       "<IPython.core.display.Math object>"
      ]
     },
     "metadata": {},
     "output_type": "display_data"
    },
    {
     "data": {
      "text/latex": [
       "$\\displaystyle 3 \\xi/x - 2 \\phi/y +  \\phi_{y} - 3/2  \\xi_{x}$"
      ],
      "text/plain": [
       "<IPython.core.display.Math object>"
      ]
     },
     "metadata": {},
     "output_type": "display_data"
    },
    {
     "data": {
      "text/latex": [
       "$\\displaystyle -2  \\xi_{x}/x + 2 \\xi/x^2 +  \\xi_{xx}$"
      ],
      "text/plain": [
       "<IPython.core.display.Math object>"
      ]
     },
     "metadata": {},
     "output_type": "display_data"
    },
    {
     "data": {
      "text/latex": [
       "$\\displaystyle  \\xi_{yy}$"
      ],
      "text/plain": [
       "<IPython.core.display.Math object>"
      ]
     },
     "metadata": {},
     "output_type": "display_data"
    }
   ],
   "source": [
    "from delierium.Infinitesimals import prolongationODE, overdeterminedSystemODE, Janet_Basis_from_ODE\n",
    "from IPython.display import Math\n",
    "from delierium.helpers import latexer\n",
    "x = var('x')\n",
    "y = function('y')\n",
    "\n",
    "d0 = y(x)\n",
    "d1 = diff(y(x), x)\n",
    "d2 = diff(y(x), x, x)\n",
    "ode = d2*d1*d0*x**6 \\\n",
    "    -2*d1**3 * x**6 \\\n",
    "    + 2*d1**2*d0*x**5\\\n",
    "    +d0**5\n",
    "\n",
    "%load_ext snakeviz\n",
    "\n",
    "display(Math(latexer(ode)))\n",
    "%snakeviz jb = Janet_Basis_from_ODE(ode, y, x)\n",
    "print(\"*\"*88)\n",
    "for _ in jb:\n",
    "    display(Math(latexer(_)))"
   ]
  },
  {
   "cell_type": "markdown",
   "id": "db6442eb-02a6-421d-b3ef-97c01610eea4",
   "metadata": {},
   "source": [
    "Ok, except the last term, which is obviously wrong"
   ]
  },
  {
   "cell_type": "code",
   "execution_count": 2,
   "id": "c3ab0a65-3277-4b31-af93-9fb1bbb2d0ae",
   "metadata": {
    "tags": []
   },
   "outputs": [
    {
     "data": {
      "text/latex": [
       "$\\displaystyle -y_{x}^4 - 12 y_{x}^3 - 54 y_{x}^2 + y_{x} y_{x, x} - 108 y_{x} + 2 y_{x, x} + 81$"
      ],
      "text/plain": [
       "<IPython.core.display.Math object>"
      ]
     },
     "metadata": {},
     "output_type": "display_data"
    },
    {
     "name": "stdout",
     "output_type": "stream",
     "text": [
      "=====>e=26*diff(phi(Y, x), Y)/(diff(y(x), x) + 2) + diff(phi(Y, x), x)/(diff(y(x), x) + 2) - 288*diff(xi(Y, x), Y)/(diff(y(x), x) + 2) - 40*diff(xi(Y, x), x)/(diff(y(x), x) + 2) - 4*diff(phi(Y, x), Y) + 36*diff(xi(Y, x), Y) - diff(xi(Y, x), Y, Y) + 4*diff(xi(Y, x), x)\n",
      "=====>d=diff(y(x), x)\n",
      "=====>e=132*diff(phi(Y, x), Y)/(diff(y(x), x) + 2) + 12*diff(phi(Y, x), x)/(diff(y(x), x) + 2) - 756*diff(xi(Y, x), Y)/(diff(y(x), x) + 2) - 210*diff(xi(Y, x), x)/(diff(y(x), x) + 2) - 36*diff(phi(Y, x), Y) + diff(phi(Y, x), Y, Y) - 4*diff(phi(Y, x), x) + 108*diff(xi(Y, x), Y) - 2*diff(xi(Y, x), Y, Y) - 2*diff(xi(Y, x), Y, x) + 36*diff(xi(Y, x), x)\n",
      "=====>d=diff(y(x), x)\n",
      "=====>e=324*diff(phi(Y, x), Y)/(diff(y(x), x) + 2) + 54*diff(phi(Y, x), x)/(diff(y(x), x) + 2) - 324*diff(xi(Y, x), Y)/(diff(y(x), x) + 2) - 540*diff(xi(Y, x), x)/(diff(y(x), x) + 2) - 108*diff(phi(Y, x), Y) + 2*diff(phi(Y, x), Y, Y) + 2*diff(phi(Y, x), Y, x) - 36*diff(phi(Y, x), x) + 108*diff(xi(Y, x), Y) - 4*diff(xi(Y, x), Y, x) + 108*diff(xi(Y, x), x) - diff(xi(Y, x), x, x)\n",
      "=====>d=diff(y(x), x)\n",
      "=====>e=54*diff(phi(Y, x), Y)/(diff(y(x), x) + 2) + 108*diff(phi(Y, x), x)/(diff(y(x), x) + 2) + 486*diff(xi(Y, x), Y)/(diff(y(x), x) + 2) - 189*diff(xi(Y, x), x)/(diff(y(x), x) + 2) - 108*diff(phi(Y, x), Y) + 4*diff(phi(Y, x), Y, x) - 108*diff(phi(Y, x), x) + diff(phi(Y, x), x, x) + 108*diff(xi(Y, x), x) - 2*diff(xi(Y, x), x, x)\n",
      "=====>d=diff(y(x), x)\n",
      "=====>e=-4*diff(xi(Y, x), Y)*diff(y(x), x)^6/(diff(y(x), x) + 2) + 2*diff(phi(Y, x), Y)*diff(y(x), x)^5/(diff(y(x), x) + 2) - 54*diff(xi(Y, x), Y)*diff(y(x), x)^5/(diff(y(x), x) + 2) - 3*diff(xi(Y, x), x)*diff(y(x), x)^5/(diff(y(x), x) + 2) - 162*diff(phi(Y, x), Y)/(diff(y(x), x) + 2) - 81*diff(phi(Y, x), x)/(diff(y(x), x) + 2) + 324*diff(xi(Y, x), x)/(diff(y(x), x) + 2) - 108*diff(phi(Y, x), x) + 2*diff(phi(Y, x), x, x)\n",
      "=====>d=diff(y(x), x)\n",
      " \n",
      "*** Profile stats marshalled to file '/tmp/tmpieghqdh_'.\n",
      "Embedding SnakeViz in this document...\n"
     ]
    },
    {
     "data": {
      "text/html": [
       "\n",
       "<iframe id='snakeviz-9ba079b6-dace-11ed-85b7-9094e4f6e861' frameborder=0 seamless width='100%' height='1000'></iframe>\n",
       "<script>document.getElementById(\"snakeviz-9ba079b6-dace-11ed-85b7-9094e4f6e861\").setAttribute(\"src\", \"http://\" + document.location.hostname + \":8080/snakeviz/%2Ftmp%2Ftmpieghqdh_\")</script>\n"
      ],
      "text/plain": [
       "<IPython.core.display.HTML object>"
      ]
     },
     "metadata": {},
     "output_type": "display_data"
    },
    {
     "name": "stdout",
     "output_type": "stream",
     "text": [
      "****************************************************************************************\n"
     ]
    },
    {
     "data": {
      "text/latex": [
       "$\\displaystyle  \\xi_{x}$"
      ],
      "text/plain": [
       "<IPython.core.display.Math object>"
      ]
     },
     "metadata": {},
     "output_type": "display_data"
    },
    {
     "data": {
      "text/latex": [
       "$\\displaystyle  \\xi_{y}$"
      ],
      "text/plain": [
       "<IPython.core.display.Math object>"
      ]
     },
     "metadata": {},
     "output_type": "display_data"
    },
    {
     "data": {
      "text/latex": [
       "$\\displaystyle  \\phi_{x}$"
      ],
      "text/plain": [
       "<IPython.core.display.Math object>"
      ]
     },
     "metadata": {},
     "output_type": "display_data"
    },
    {
     "data": {
      "text/latex": [
       "$\\displaystyle  \\phi_{y}$"
      ],
      "text/plain": [
       "<IPython.core.display.Math object>"
      ]
     },
     "metadata": {},
     "output_type": "display_data"
    }
   ],
   "source": [
    "ode = d2*d1 \\\n",
    "    + 2*d2 \\\n",
    "    - d1**4 \\\n",
    "    -12*d1**3 \\\n",
    "    -54*d1**2 \\\n",
    "    -108*d1 \\\n",
    "    + 81\n",
    "\n",
    "\n",
    "display(Math(latexer(ode)))\n",
    "%snakeviz jb = Janet_Basis_from_ODE(ode, y, x)\n",
    "print(\"*\"*88)\n",
    "for _ in jb:\n",
    "    display(Math(latexer(_)))"
   ]
  },
  {
   "cell_type": "code",
   "execution_count": null,
   "id": "0d2e9a50-ec22-493d-9f21-ba709ecf2d3a",
   "metadata": {},
   "outputs": [],
   "source": []
  }
 ],
 "metadata": {
  "kernelspec": {
   "display_name": "SageMath 9.8",
   "language": "sage",
   "name": "sagemath"
  },
  "language_info": {
   "codemirror_mode": {
    "name": "ipython",
    "version": 3
   },
   "file_extension": ".py",
   "mimetype": "text/x-python",
   "name": "python",
   "nbconvert_exporter": "python",
   "pygments_lexer": "ipython3",
   "version": "3.10.10"
  },
  "widgets": {
   "application/vnd.jupyter.widget-state+json": {
    "state": {},
    "version_major": 2,
    "version_minor": 0
   }
  }
 },
 "nbformat": 4,
 "nbformat_minor": 5
}
