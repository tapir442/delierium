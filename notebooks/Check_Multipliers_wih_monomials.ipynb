{
 "cells": [
  {
   "cell_type": "code",
   "execution_count": 1,
   "id": "2f1fa720-abaa-47cc-bcf8-4869287dfb21",
   "metadata": {},
   "outputs": [
    {
     "ename": "ImportError",
     "evalue": "cannot import name 'List' from 'collections.abc' (/home/tapir/mambaforge/envs/sage/lib/python3.11/collections/abc.py)",
     "output_type": "error",
     "traceback": [
      "\u001b[0;31m---------------------------------------------------------------------------\u001b[0m",
      "\u001b[0;31mImportError\u001b[0m                               Traceback (most recent call last)",
      "Cell \u001b[0;32mIn[1], line 1\u001b[0m\n\u001b[0;32m----> 1\u001b[0m \u001b[38;5;28;01mfrom\u001b[39;00m \u001b[38;5;21;01mdelierium\u001b[39;00m\u001b[38;5;21;01m.\u001b[39;00m\u001b[38;5;21;01mInfinitesimals\u001b[39;00m \u001b[38;5;28;01mimport\u001b[39;00m prolongationODE, overdeterminedSystemODE\n\u001b[1;32m      2\u001b[0m \u001b[38;5;28;01mfrom\u001b[39;00m \u001b[38;5;21;01mdelierium\u001b[39;00m\u001b[38;5;21;01m.\u001b[39;00m\u001b[38;5;21;01mhelpers\u001b[39;00m \u001b[38;5;28;01mimport\u001b[39;00m latexer\n\u001b[1;32m      3\u001b[0m \u001b[38;5;28;01mfrom\u001b[39;00m \u001b[38;5;21;01mdelierium\u001b[39;00m\u001b[38;5;21;01m.\u001b[39;00m\u001b[38;5;21;01mJanetBasis\u001b[39;00m \u001b[38;5;28;01mimport\u001b[39;00m Janet_Basis, vec_multipliers\n",
      "File \u001b[0;32m~/research-disk/delierium/src/delierium/Infinitesimals.py:21\u001b[0m\n\u001b[1;32m     19\u001b[0m \u001b[38;5;28;01mfrom\u001b[39;00m \u001b[38;5;21;01m.\u001b[39;00m\u001b[38;5;21;01mDerivativeOperators\u001b[39;00m \u001b[38;5;28;01mimport\u001b[39;00m FrechetD\n\u001b[1;32m     20\u001b[0m \u001b[38;5;28;01mfrom\u001b[39;00m \u001b[38;5;21;01m.\u001b[39;00m\u001b[38;5;21;01mhelpers\u001b[39;00m \u001b[38;5;28;01mimport\u001b[39;00m latexer, ExpressionTree\n\u001b[0;32m---> 21\u001b[0m \u001b[38;5;28;01mfrom\u001b[39;00m \u001b[38;5;21;01m.\u001b[39;00m\u001b[38;5;21;01mJanetBasis\u001b[39;00m \u001b[38;5;28;01mimport\u001b[39;00m Janet_Basis\n\u001b[1;32m     22\u001b[0m \u001b[38;5;28;01mfrom\u001b[39;00m \u001b[38;5;21;01mIPython\u001b[39;00m\u001b[38;5;21;01m.\u001b[39;00m\u001b[38;5;21;01mdisplay\u001b[39;00m \u001b[38;5;28;01mimport\u001b[39;00m Math\n\u001b[1;32m     24\u001b[0m \u001b[38;5;28;01mdef\u001b[39;00m \u001b[38;5;21mprolongationFunction\u001b[39m(f: \u001b[38;5;28mlist\u001b[39m, x: \u001b[38;5;28mlist\u001b[39m, order) \u001b[38;5;241m-\u001b[39m\u001b[38;5;241m>\u001b[39m \u001b[38;5;28mlist\u001b[39m:\n",
      "File \u001b[0;32m~/research-disk/delierium/src/delierium/JanetBasis.py:14\u001b[0m\n\u001b[1;32m     11\u001b[0m \u001b[38;5;28;01mtry\u001b[39;00m :\n\u001b[1;32m     12\u001b[0m     \u001b[38;5;28;01mfrom\u001b[39;00m \u001b[38;5;21;01mdelierium\u001b[39;00m\u001b[38;5;21;01m.\u001b[39;00m\u001b[38;5;21;01mhelpers\u001b[39;00m \u001b[38;5;28;01mimport\u001b[39;00m (adiff, eq, is_derivative, is_function,\n\u001b[1;32m     13\u001b[0m                                    latexer, order_of_derivative)\n\u001b[0;32m---> 14\u001b[0m     \u001b[38;5;28;01mfrom\u001b[39;00m \u001b[38;5;21;01mdelierium\u001b[39;00m\u001b[38;5;21;01m.\u001b[39;00m\u001b[38;5;21;01mInvolution\u001b[39;00m \u001b[38;5;28;01mimport\u001b[39;00m My_Multiplier\n\u001b[1;32m     15\u001b[0m     \u001b[38;5;28;01mfrom\u001b[39;00m \u001b[38;5;21;01mdelierium\u001b[39;00m\u001b[38;5;21;01m.\u001b[39;00m\u001b[38;5;21;01mMatrixOrder\u001b[39;00m \u001b[38;5;28;01mimport\u001b[39;00m Context, Mgrevlex, Mgrlex, higher, sorter\n\u001b[1;32m     16\u001b[0m \u001b[38;5;28;01mexcept\u001b[39;00m \u001b[38;5;167;01mModuleNotFoundError\u001b[39;00m:\n",
      "File \u001b[0;32m~/research-disk/delierium/src/delierium/Involution.py:12\u001b[0m\n\u001b[1;32m      1\u001b[0m \u001b[38;5;66;03m#!/usr/bin/env python3\u001b[39;00m\n\u001b[1;32m      2\u001b[0m \u001b[38;5;66;03m# -*- coding: utf-8 -*-\u001b[39;00m\n\u001b[1;32m      3\u001b[0m \u001b[38;5;124;03m\"\"\"\u001b[39;00m\n\u001b[1;32m      4\u001b[0m \u001b[38;5;124;03mCreated on Thu Nov 10 11:10:23 2021\u001b[39;00m\n\u001b[1;32m      5\u001b[0m \n\u001b[0;32m   (...)\u001b[0m\n\u001b[1;32m     10\u001b[0m \u001b[38;5;124;03mHolds everything for monomial involution stuff,like multipliers, divisions, etc.\u001b[39;00m\n\u001b[1;32m     11\u001b[0m \u001b[38;5;124;03m\"\"\"\u001b[39;00m\n\u001b[0;32m---> 12\u001b[0m \u001b[38;5;28;01mfrom\u001b[39;00m \u001b[38;5;21;01mcollections\u001b[39;00m\u001b[38;5;21;01m.\u001b[39;00m\u001b[38;5;21;01mabc\u001b[39;00m \u001b[38;5;28;01mimport\u001b[39;00m Iterable, List, Tuple, Set, Dict\n\u001b[1;32m     13\u001b[0m \u001b[38;5;28;01mfrom\u001b[39;00m \u001b[38;5;21;01mitertools\u001b[39;00m \u001b[38;5;28;01mimport\u001b[39;00m product\n\u001b[1;32m     16\u001b[0m \u001b[38;5;28;01mdef\u001b[39;00m \u001b[38;5;21mvec_degree\u001b[39m(v, m):\n",
      "\u001b[0;31mImportError\u001b[0m: cannot import name 'List' from 'collections.abc' (/home/tapir/mambaforge/envs/sage/lib/python3.11/collections/abc.py)"
     ]
    }
   ],
   "source": [
    "from delierium.Infinitesimals import prolongationODE, overdeterminedSystemODE\n",
    "from delierium.helpers import latexer\n",
    "from delierium.JanetBasis import Janet_Basis, vec_multipliers\n",
    "from delierium.MatrixOrder import Context\n",
    "from delierium.Involution import My_Multiplier\n",
    "from sage.all import *\n",
    "from IPython.core.debugger import set_trace\n",
    "from IPython.display import Math\n",
    "from random import shuffle"
   ]
  },
  {
   "cell_type": "code",
   "execution_count": null,
   "id": "3b9f4d8e-0ae4-4dc8-af32-7ffe18dfb532",
   "metadata": {},
   "outputs": [],
   "source": [
    "x1,x2,x3,x4,x5= var(\"x1 x2 x3 x4 x5\")"
   ]
  },
  {
   "cell_type": "code",
   "execution_count": null,
   "id": "7a73c1ee-6528-473c-b539-4afc01cefe34",
   "metadata": {},
   "outputs": [],
   "source": [
    "variables = (x3,x2,x1)"
   ]
  },
  {
   "cell_type": "code",
   "execution_count": null,
   "id": "7d8f1d3e-25f7-4d53-9f7a-31bc6410e4c4",
   "metadata": {},
   "outputs": [],
   "source": [
    "monoms=[x1**2*x2**2*x3**3,\n",
    "        x1*x2**2*x3**3,\n",
    "        x2**2*x3**3,\n",
    "        x1**3*x2*x3**3,\n",
    "        x1**2*x2*x3**3,\n",
    "        x1*x2*x3**3,\n",
    "        x2*x3**3,\n",
    "        x1**3*x3**3,\n",
    "        x1**3*x2*x3**2,\n",
    "        x1**2*x2*x3**2,\n",
    "        x1*x2*x3**2,\n",
    "        x2*x3**2,\n",
    "        x1**3*x2*x3,\n",
    "        x1**2*x2*x3,\n",
    "        x1*x2*x3,\n",
    "        x2*x3\n",
    "       ]"
   ]
  },
  {
   "cell_type": "code",
   "execution_count": null,
   "id": "3c1032d0-ba4d-4a1b-bc1f-9dfdf8457712",
   "metadata": {},
   "outputs": [],
   "source": [
    "shuffle(monoms)"
   ]
  },
  {
   "cell_type": "code",
   "execution_count": null,
   "id": "6d7e862c-edc7-4f18-847c-29a34562c5d1",
   "metadata": {},
   "outputs": [],
   "source": [
    "context=Context([], variables)"
   ]
  },
  {
   "cell_type": "code",
   "execution_count": null,
   "id": "0dae23dd-07ff-4857-a404-f4d070a6b5c3",
   "metadata": {},
   "outputs": [],
   "source": [
    "def monom_to_tuple(monom, context):\n",
    "    op, ops = monom.operator(),monom.operands()\n",
    "    l  = [0] *  len(context._independent)\n",
    "    if not op:\n",
    "        # single variable\n",
    "        l[context._independent.index(monom)] = 1\n",
    "    if op.__name__ == 'pow':\n",
    "        # \n",
    "        l[context._independent.index(ops[0])] = ops[1]\n",
    "    if op.__name__ != 'mul_vararg':\n",
    "        raise \"\"\n",
    "    for term in ops:\n",
    "        if not term.operator():\n",
    "            # variable without power\n",
    "            l[context._independent.index(term)] = 1\n",
    "        elif term.operator().__name__ == 'pow':\n",
    "            l[context._independent.index(term.operands()[0])] = term.operands()[1]\n",
    "        else:\n",
    "            print(\"Shit\")\n",
    "    l.reverse()\n",
    "    return l"
   ]
  },
  {
   "cell_type": "code",
   "execution_count": null,
   "id": "81c13b3d-79bd-475f-995f-2bb2d69ec384",
   "metadata": {},
   "outputs": [],
   "source": [
    "monom_to_tuple(x2**2*x1, context)"
   ]
  },
  {
   "cell_type": "code",
   "execution_count": null,
   "id": "a330f82d-1a0c-4453-856f-d957ff32ffdd",
   "metadata": {},
   "outputs": [],
   "source": [
    "gugu=list(map(lambda x: (x, monom_to_tuple(x, context)), monoms))"
   ]
  },
  {
   "cell_type": "code",
   "execution_count": null,
   "id": "46be34c1-4c7f-4896-ac12-3c0ed366f0f2",
   "metadata": {},
   "outputs": [],
   "source": [
    "gugu"
   ]
  },
  {
   "cell_type": "code",
   "execution_count": null,
   "id": "b5254016-b626-46c2-aede-f135fe1179a2",
   "metadata": {},
   "outputs": [],
   "source": [
    "mm=[_[1] for _ in gugu]"
   ]
  },
  {
   "cell_type": "code",
   "execution_count": null,
   "id": "4b087388-d597-4af0-b473-5a902f223b4e",
   "metadata": {},
   "outputs": [],
   "source": [
    "rr=My_Multiplier(mm)"
   ]
  },
  {
   "cell_type": "code",
   "execution_count": null,
   "id": "7307f4b6-6d3a-4682-8b09-8ec74e7887ac",
   "metadata": {},
   "outputs": [],
   "source": [
    "print(rr)"
   ]
  },
  {
   "cell_type": "code",
   "execution_count": null,
   "id": "954ac7e1-104c-4585-885b-69d04918a7c5",
   "metadata": {},
   "outputs": [],
   "source": [
    "def tuple_to_monomials(monom_dict,context):\n",
    "    result = []\n",
    "    from math import prod\n",
    "    for monom, mults in monom_dict.items():\n",
    "        l = len(monom)\n",
    "        print(f\"{monom=}, {mults=}, {context._independent}\")\n",
    "        for v in range(l):\n",
    "            print(context._independent[v]**monom[l-v-1])\n",
    "        result.append(\n",
    "            (prod([context._independent[v]**monom[l-v-1] for v in range(l)]),\n",
    "             set(context._independent[l-v-1] for v in mults)\n",
    "            )\n",
    "        )\n",
    "        print(f\"{result=}\")\n",
    "    return sorted(result,  key = lambda v: v[0])\n",
    "\n",
    "tuple_to_monomials(rr.mults,context)"
   ]
  },
  {
   "cell_type": "raw",
   "id": "ac4b94c8-477a-46d0-a208-f876f384132a",
   "metadata": {},
   "source": [
    "[\n",
    "(x2*x3^3, {x3}),  \n",
    "(x2*x3^2, {x2}),\n",
    "(x2*x3, {x2}),\n",
    "\n",
    "(x2^2*x3^3, {x3, x2}),\n",
    "\n",
    "(x1^3*x2*x3^3, {x3, x1}),\n",
    "(x1^3*x2*x3^2, {x2, x1}),\n",
    "(x1^3*x3^3, {x3, x1}),\n",
    "(x1^3*x2*x3, {x2, x1}),\n",
    "(x1^3*x3^3, {x3, x1}),\n",
    "\n",
    "(x1^2*x2^2*x3^3, {x3, x2, x1}),\n",
    "(x1^2*x2*x3^2, {x2}),\n",
    "(x1^2*x2*x3^3, {x3}),\n",
    "(x1^2*x2*x3, {x2}),\n",
    "\n",
    "(x1*x2*x3^2, {x2}),\n",
    "(x1*x2*x3^3, {x3}),\n",
    "(x1*x2^2*x3^3, {x3, x2}),\n",
    "(x1*x2*x3, {x2}),\n"
   ]
  },
  {
   "cell_type": "code",
   "execution_count": null,
   "id": "d4d67d52-d870-4ef6-9e7b-3471d09c47f1",
   "metadata": {},
   "outputs": [],
   "source": [
    "def monom_to_monom(monom, context):\n",
    "    op, ops = monom.operator(),monom.operands()\n",
    "    l  = [0] *  len(context._independent)\n",
    "    if not op:\n",
    "        # single variable\n",
    "        l[context._independent.index(monom)] = 1\n",
    "    if op.__name__ == 'pow':\n",
    "        # \n",
    "        l[context._independent.index(ops[0])] = ops[1]\n",
    "    if op.__name__ != 'mul_vararg':\n",
    "        raise \"\"\n",
    "    for term in ops:\n",
    "        if not term.operator():\n",
    "            # variable without power\n",
    "            l[context._independent.index(term)] = 1\n",
    "        elif term.operator().__name__ == 'pow':\n",
    "            l[context._independent.index(term.operands()[0])] = term.operands()[1]\n",
    "        else:\n",
    "            print(\"Shit\")\n",
    "    l.reverse()\n",
    "    return l"
   ]
  }
 ],
 "metadata": {
  "kernelspec": {
   "display_name": "SageMath 10.2",
   "language": "sage",
   "name": "sagemath"
  },
  "language_info": {
   "codemirror_mode": {
    "name": "ipython",
    "version": 3
   },
   "file_extension": ".py",
   "mimetype": "text/x-python",
   "name": "python",
   "nbconvert_exporter": "python",
   "pygments_lexer": "ipython3",
   "version": "3.11.6"
  }
 },
 "nbformat": 4,
 "nbformat_minor": 5
}
