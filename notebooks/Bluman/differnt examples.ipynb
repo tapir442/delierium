{
 "cells": [
  {
   "cell_type": "code",
   "execution_count": 1,
   "id": "b317a836-43fc-4582-9d46-b58d7445e134",
   "metadata": {},
   "outputs": [],
   "source": [
    "# examples from 'New Symmetries for Ordinary Differential Equations'\n",
    "from delierium.Infinitesimals import prolongationODE, overdeterminedSystemODE\n",
    "from delierium.helpers import latexer\n",
    "from sage.all import *\n",
    "from IPython.core.debugger import set_trace\n",
    "from IPython.display import Math"
   ]
  },
  {
   "cell_type": "code",
   "execution_count": 6,
   "id": "b03ab146-7c2d-49aa-9404-6fcd96cfa52b",
   "metadata": {},
   "outputs": [
    {
     "data": {
      "text/html": [
       "<html>\\(\\displaystyle 2 \\, \\mathrm{D}_{0}\\left(K\\right)\\left(u\\left(x\\right)\\right) \\frac{\\partial}{\\partial x}u\\left(x\\right)^{2} + x \\frac{\\partial}{\\partial x}u\\left(x\\right) + 2 \\, K\\left(u\\left(x\\right)\\right) \\frac{\\partial^{2}}{(\\partial x)^{2}}u\\left(x\\right)\\)</html>"
      ],
      "text/latex": [
       "$\\displaystyle 2 \\, \\mathrm{D}_{0}\\left(K\\right)\\left(u\\left(x\\right)\\right) \\frac{\\partial}{\\partial x}u\\left(x\\right)^{2} + x \\frac{\\partial}{\\partial x}u\\left(x\\right) + 2 \\, K\\left(u\\left(x\\right)\\right) \\frac{\\partial^{2}}{(\\partial x)^{2}}u\\left(x\\right)$"
      ],
      "text/plain": [
       "2*D[0](K)(u(x))*diff(u(x), x)^2 + x*diff(u(x), x) + 2*K(u(x))*diff(u(x), x, x)"
      ]
     },
     "metadata": {},
     "output_type": "display_data"
    }
   ],
   "source": [
    "u=function('u')\n",
    "x = var('x')\n",
    "K=function('K')\n",
    "\n",
    "ode = 2*diff(K(u(x))*diff(u(x), x), x)+ x * diff(u(x), x)\n",
    "ode.show()"
   ]
  },
  {
   "cell_type": "code",
   "execution_count": 7,
   "id": "345ce859-e387-40ec-904b-2727822a5575",
   "metadata": {},
   "outputs": [
    {
     "name": "stdout",
     "output_type": "stream",
     "text": [
      "overdetermined system:\n"
     ]
    },
    {
     "data": {
      "text/latex": [
       "$\\displaystyle -4 D[0](K)(u)  X_{u} - 2 K(u)  X_{uu}$"
      ],
      "text/plain": [
       "<IPython.core.display.Math object>"
      ]
     },
     "metadata": {},
     "output_type": "display_data"
    },
    {
     "data": {
      "text/latex": [
       "$\\displaystyle -2 Y D[0](K)(u)^2/K(u) + 2 Y D[0, 0](K)(u) + 2 x  X_{u} - 4 K(u)  X_{ux} + 2 D[0](K)(u)  Y_{u} + 2 K(u)  Y_{uu}$"
      ],
      "text/plain": [
       "<IPython.core.display.Math object>"
      ]
     },
     "metadata": {},
     "output_type": "display_data"
    },
    {
     "data": {
      "text/latex": [
       "$\\displaystyle -x Y D[0](K)(u)/K(u) + x  X_{x} - 2 K(u)  X_{xx} + 4 K(u)  Y_{ux} + 4 D[0](K)(u)  Y_{x} + X$"
      ],
      "text/plain": [
       "<IPython.core.display.Math object>"
      ]
     },
     "metadata": {},
     "output_type": "display_data"
    },
    {
     "data": {
      "text/latex": [
       "$\\displaystyle 6 D[0](K)(u)  X_{u} u_{x}^3 + x  Y_{x} + 2 K(u)  Y_{xx}$"
      ],
      "text/plain": [
       "<IPython.core.display.Math object>"
      ]
     },
     "metadata": {},
     "output_type": "display_data"
    }
   ],
   "source": [
    "infinitesimals=(function('X'), function('Y'))\n",
    "inf = overdeterminedSystemODE(ode, u, x, infinitesimals=infinitesimals)\n",
    "print(\"overdetermined system:\")\n",
    "for _ in inf:\n",
    "    display(Math(latexer(_)))"
   ]
  },
  {
   "cell_type": "code",
   "execution_count": 13,
   "id": "7a147d72-4f27-4448-86a5-eb003bad8e0c",
   "metadata": {},
   "outputs": [
    {
     "name": "stdout",
     "output_type": "stream",
     "text": [
      "overdetermined system:\n"
     ]
    },
    {
     "data": {
      "text/latex": [
       "$\\displaystyle - Xi_{yy}$"
      ],
      "text/plain": [
       "<IPython.core.display.Math object>"
      ]
     },
     "metadata": {},
     "output_type": "display_data"
    },
    {
     "data": {
      "text/latex": [
       "$\\displaystyle  Mu_{yy} - 2  Xi_{yx}$"
      ],
      "text/plain": [
       "<IPython.core.display.Math object>"
      ]
     },
     "metadata": {},
     "output_type": "display_data"
    },
    {
     "data": {
      "text/latex": [
       "$\\displaystyle 2  Mu_{yx} -  Xi_{xx}$"
      ],
      "text/plain": [
       "<IPython.core.display.Math object>"
      ]
     },
     "metadata": {},
     "output_type": "display_data"
    },
    {
     "data": {
      "text/latex": [
       "$\\displaystyle  Mu_{xx}$"
      ],
      "text/plain": [
       "<IPython.core.display.Math object>"
      ]
     },
     "metadata": {},
     "output_type": "display_data"
    }
   ],
   "source": [
    "x=var('x')\n",
    "y=function('y')\n",
    "ode =diff(y(x), x,x)\n",
    "infinitesimals=(function('Xi'), function('Mu'))\n",
    "inf = overdeterminedSystemODE(ode, y, x, infinitesimals=infinitesimals)\n",
    "print(\"overdetermined system:\")\n",
    "for _ in inf:\n",
    "    display(Math(latexer(_)))\n",
    "\n"
   ]
  },
  {
   "cell_type": "code",
   "execution_count": 14,
   "id": "bb412fb9-bb75-489e-a091-a701c714201e",
   "metadata": {},
   "outputs": [
    {
     "name": "stdout",
     "output_type": "stream",
     "text": [
      "overdetermined system:\n"
     ]
    },
    {
     "data": {
      "text/latex": [
       "$\\displaystyle -3  Xi_{y}$"
      ],
      "text/plain": [
       "<IPython.core.display.Math object>"
      ]
     },
     "metadata": {},
     "output_type": "display_data"
    },
    {
     "data": {
      "text/latex": [
       "$\\displaystyle -6  Xi_{yy}$"
      ],
      "text/plain": [
       "<IPython.core.display.Math object>"
      ]
     },
     "metadata": {},
     "output_type": "display_data"
    },
    {
     "data": {
      "text/latex": [
       "$\\displaystyle 3  Mu_{yy} - 9  Xi_{yx}$"
      ],
      "text/plain": [
       "<IPython.core.display.Math object>"
      ]
     },
     "metadata": {},
     "output_type": "display_data"
    },
    {
     "data": {
      "text/latex": [
       "$\\displaystyle 3  Mu_{yx} - 3  Xi_{xx}$"
      ],
      "text/plain": [
       "<IPython.core.display.Math object>"
      ]
     },
     "metadata": {},
     "output_type": "display_data"
    },
    {
     "data": {
      "text/latex": [
       "$\\displaystyle - Xi_{yyy}$"
      ],
      "text/plain": [
       "<IPython.core.display.Math object>"
      ]
     },
     "metadata": {},
     "output_type": "display_data"
    },
    {
     "data": {
      "text/latex": [
       "$\\displaystyle  Mu_{yyy} - 3  Xi_{yyx}$"
      ],
      "text/plain": [
       "<IPython.core.display.Math object>"
      ]
     },
     "metadata": {},
     "output_type": "display_data"
    },
    {
     "data": {
      "text/latex": [
       "$\\displaystyle 3  Mu_{yyx} - 3  Xi_{yxx}$"
      ],
      "text/plain": [
       "<IPython.core.display.Math object>"
      ]
     },
     "metadata": {},
     "output_type": "display_data"
    },
    {
     "data": {
      "text/latex": [
       "$\\displaystyle 3  Mu_{yxx} -  Xi_{xxx}$"
      ],
      "text/plain": [
       "<IPython.core.display.Math object>"
      ]
     },
     "metadata": {},
     "output_type": "display_data"
    },
    {
     "data": {
      "text/latex": [
       "$\\displaystyle  Mu_{xxx}$"
      ],
      "text/plain": [
       "<IPython.core.display.Math object>"
      ]
     },
     "metadata": {},
     "output_type": "display_data"
    }
   ],
   "source": [
    "x=var('x')\n",
    "y=function('y')\n",
    "ode =diff(y(x), x,x,x)\n",
    "infinitesimals=(function('Xi'), function('Mu'))\n",
    "inf = overdeterminedSystemODE(ode, y, x, infinitesimals=infinitesimals)\n",
    "print(\"overdetermined system:\")\n",
    "for _ in inf:\n",
    "    display(Math(latexer(_)))\n",
    "\n"
   ]
  },
  {
   "cell_type": "code",
   "execution_count": 15,
   "id": "b95b8dc2-89fd-46e3-aef3-17ab3db6752a",
   "metadata": {},
   "outputs": [
    {
     "name": "stdout",
     "output_type": "stream",
     "text": [
      "overdetermined system:\n"
     ]
    },
    {
     "data": {
      "text/latex": [
       "$\\displaystyle -3  Xi_{y}$"
      ],
      "text/plain": [
       "<IPython.core.display.Math object>"
      ]
     },
     "metadata": {},
     "output_type": "display_data"
    },
    {
     "data": {
      "text/latex": [
       "$\\displaystyle -6  Xi_{yy}$"
      ],
      "text/plain": [
       "<IPython.core.display.Math object>"
      ]
     },
     "metadata": {},
     "output_type": "display_data"
    },
    {
     "data": {
      "text/latex": [
       "$\\displaystyle 3  Mu_{yy} - 9  Xi_{yx}$"
      ],
      "text/plain": [
       "<IPython.core.display.Math object>"
      ]
     },
     "metadata": {},
     "output_type": "display_data"
    },
    {
     "data": {
      "text/latex": [
       "$\\displaystyle 3  Mu_{yx} - 3  Xi_{xx}$"
      ],
      "text/plain": [
       "<IPython.core.display.Math object>"
      ]
     },
     "metadata": {},
     "output_type": "display_data"
    },
    {
     "data": {
      "text/latex": [
       "$\\displaystyle - Xi_{yyy}$"
      ],
      "text/plain": [
       "<IPython.core.display.Math object>"
      ]
     },
     "metadata": {},
     "output_type": "display_data"
    },
    {
     "data": {
      "text/latex": [
       "$\\displaystyle  Mu_{yyy} - 3  Xi_{yyx}$"
      ],
      "text/plain": [
       "<IPython.core.display.Math object>"
      ]
     },
     "metadata": {},
     "output_type": "display_data"
    },
    {
     "data": {
      "text/latex": [
       "$\\displaystyle 3  Mu_{yyx} - 3  Xi_{yxx}$"
      ],
      "text/plain": [
       "<IPython.core.display.Math object>"
      ]
     },
     "metadata": {},
     "output_type": "display_data"
    },
    {
     "data": {
      "text/latex": [
       "$\\displaystyle 3  Mu_{yxx} - 4  Xi_{y} -  Xi_{xxx}$"
      ],
      "text/plain": [
       "<IPython.core.display.Math object>"
      ]
     },
     "metadata": {},
     "output_type": "display_data"
    },
    {
     "data": {
      "text/latex": [
       "$\\displaystyle  Mu_{y} +  Mu_{xxx} - 3  Xi_{x}$"
      ],
      "text/plain": [
       "<IPython.core.display.Math object>"
      ]
     },
     "metadata": {},
     "output_type": "display_data"
    }
   ],
   "source": [
    "# example from 'kumar: Solution of Third Order Non-Homogeneous Ordinary Differential Equations by Lie Symmetry Method'\n",
    "x=var('x')\n",
    "y=function('y')\n",
    "ode =diff(y(x), x,x,x)-1\n",
    "infinitesimals=(function('Xi'), function('Mu'))\n",
    "inf = overdeterminedSystemODE(ode, y, x, infinitesimals=infinitesimals)\n",
    "print(\"overdetermined system:\")\n",
    "for _ in inf:\n",
    "    display(Math(latexer(_)))\n"
   ]
  },
  {
   "cell_type": "code",
   "execution_count": null,
   "id": "043a30d8-ab32-47ff-8fda-a526786aafea",
   "metadata": {},
   "outputs": [],
   "source": []
  }
 ],
 "metadata": {
  "kernelspec": {
   "display_name": "SageMath 10.2",
   "language": "sage",
   "name": "sagemath"
  },
  "language_info": {
   "codemirror_mode": {
    "name": "ipython",
    "version": 3
   },
   "file_extension": ".py",
   "mimetype": "text/x-python",
   "name": "python",
   "nbconvert_exporter": "python",
   "pygments_lexer": "ipython3",
   "version": "3.11.10"
  }
 },
 "nbformat": 4,
 "nbformat_minor": 5
}
