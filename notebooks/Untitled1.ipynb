{
 "cells": [
  {
   "cell_type": "code",
   "execution_count": 1,
   "id": "1a338c0d-4802-4590-afc7-3975b0ba52d4",
   "metadata": {},
   "outputs": [
    {
     "data": {
      "text/plain": [
       "diff(f(x, y), x)"
      ]
     },
     "execution_count": 1,
     "metadata": {},
     "output_type": "execute_result"
    }
   ],
   "source": [
    "x, y = var(\"x y\")\n",
    "f = function('f')(x, y)\n",
    "\n",
    "diff(f, x)"
   ]
  },
  {
   "cell_type": "code",
   "execution_count": 6,
   "id": "43092ff7-0cfa-40c8-a4ed-a3f16218580b",
   "metadata": {},
   "outputs": [
    {
     "data": {
      "text/plain": [
       "diff(f(x, y), x)"
      ]
     },
     "execution_count": 6,
     "metadata": {},
     "output_type": "execute_result"
    }
   ],
   "source": [
    "diff(f,x, 1, y, 0)"
   ]
  },
  {
   "cell_type": "code",
   "execution_count": null,
   "id": "226361e8-9672-4e98-aa67-c28930946d23",
   "metadata": {},
   "outputs": [],
   "source": []
  }
 ],
 "metadata": {
  "kernelspec": {
   "display_name": "SageMath 10.0",
   "language": "sage",
   "name": "sagemath"
  },
  "language_info": {
   "codemirror_mode": {
    "name": "ipython",
    "version": 3
   },
   "file_extension": ".py",
   "mimetype": "text/x-python",
   "name": "python",
   "nbconvert_exporter": "python",
   "pygments_lexer": "ipython3",
   "version": "3.11.6"
  }
 },
 "nbformat": 4,
 "nbformat_minor": 5
}
