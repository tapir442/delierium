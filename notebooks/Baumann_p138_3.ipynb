{
 "cells": [
  {
   "cell_type": "code",
   "execution_count": 1,
   "id": "175d0851-8a9a-4292-a736-f2ed76803c76",
   "metadata": {},
   "outputs": [],
   "source": [
    "from delierium.Infinitesimals import prolongationODE, infinitesimalsODE,Janet_Basis_from_ODE\n",
    "from delierium.JanetBasis import Janet_Basis\n",
    "from delierium.MatrixOrder import Context\n",
    "from delierium.helpers import latexer\n",
    "from sage.misc.html import html\n",
    "from IPython.core.debugger import set_trace\n",
    "from IPython.display import Math\n",
    "%load_ext line_profiler\n",
    "%load_ext snakeviz"
   ]
  },
  {
   "cell_type": "code",
   "execution_count": 16,
   "id": "651e86d4-211e-4cc7-807d-0280534d8c82",
   "metadata": {},
   "outputs": [
    {
     "data": {
      "text/latex": [
       "$\\displaystyle -f(u, x, u_{x}) + u_{x, x}$"
      ],
      "text/plain": [
       "<IPython.core.display.Math object>"
      ]
     },
     "metadata": {},
     "output_type": "display_data"
    },
    {
     "data": {
      "text/html": [
       "<html>\\(\\displaystyle \\mathrm{D}_{2}\\left(f\\right)\\left(u\\left(x\\right), x, \\frac{\\partial}{\\partial x}u\\left(x\\right)\\right) \\frac{\\partial}{\\partial x}u\\left(x\\right)^{2} \\mathrm{D}_{0}\\left(\\xi\\right)\\left(u\\left(x\\right), x\\right) - \\frac{\\partial}{\\partial x}u\\left(x\\right)^{3} \\mathrm{D}_{0, 0}\\left(\\xi\\right)\\left(u\\left(x\\right), x\\right) - \\mathrm{D}_{2}\\left(f\\right)\\left(u\\left(x\\right), x, \\frac{\\partial}{\\partial x}u\\left(x\\right)\\right) \\mathrm{D}_{0}\\left(\\phi\\right)\\left(u\\left(x\\right), x\\right) \\frac{\\partial}{\\partial x}u\\left(x\\right) + \\mathrm{D}_{0, 0}\\left(\\phi\\right)\\left(u\\left(x\\right), x\\right) \\frac{\\partial}{\\partial x}u\\left(x\\right)^{2} - 3 \\, \\frac{\\partial}{\\partial x}u\\left(x\\right) \\frac{\\partial^{2}}{(\\partial x)^{2}}u\\left(x\\right) \\mathrm{D}_{0}\\left(\\xi\\right)\\left(u\\left(x\\right), x\\right) - 2 \\, \\frac{\\partial}{\\partial x}u\\left(x\\right)^{2} \\mathrm{D}_{0, 1}\\left(\\xi\\right)\\left(u\\left(x\\right), x\\right) + \\mathrm{D}_{2}\\left(f\\right)\\left(u\\left(x\\right), x, \\frac{\\partial}{\\partial x}u\\left(x\\right)\\right) \\frac{\\partial}{\\partial x}u\\left(x\\right) \\mathrm{D}_{1}\\left(\\xi\\right)\\left(u\\left(x\\right), x\\right) - \\phi\\left(u\\left(x\\right), x\\right) \\mathrm{D}_{0}\\left(f\\right)\\left(u\\left(x\\right), x, \\frac{\\partial}{\\partial x}u\\left(x\\right)\\right) - \\xi\\left(u\\left(x\\right), x\\right) \\mathrm{D}_{1}\\left(f\\right)\\left(u\\left(x\\right), x, \\frac{\\partial}{\\partial x}u\\left(x\\right)\\right) - \\mathrm{D}_{2}\\left(f\\right)\\left(u\\left(x\\right), x, \\frac{\\partial}{\\partial x}u\\left(x\\right)\\right) \\mathrm{D}_{1}\\left(\\phi\\right)\\left(u\\left(x\\right), x\\right) + 2 \\, \\mathrm{D}_{0, 1}\\left(\\phi\\right)\\left(u\\left(x\\right), x\\right) \\frac{\\partial}{\\partial x}u\\left(x\\right) + \\mathrm{D}_{0}\\left(\\phi\\right)\\left(u\\left(x\\right), x\\right) \\frac{\\partial^{2}}{(\\partial x)^{2}}u\\left(x\\right) - 2 \\, \\frac{\\partial^{2}}{(\\partial x)^{2}}u\\left(x\\right) \\mathrm{D}_{1}\\left(\\xi\\right)\\left(u\\left(x\\right), x\\right) - \\frac{\\partial}{\\partial x}u\\left(x\\right) \\mathrm{D}_{1, 1}\\left(\\xi\\right)\\left(u\\left(x\\right), x\\right) + \\mathrm{D}_{1, 1}\\left(\\phi\\right)\\left(u\\left(x\\right), x\\right)\\)</html>"
      ],
      "text/latex": [
       "$\\displaystyle \\mathrm{D}_{2}\\left(f\\right)\\left(u\\left(x\\right), x, \\frac{\\partial}{\\partial x}u\\left(x\\right)\\right) \\frac{\\partial}{\\partial x}u\\left(x\\right)^{2} \\mathrm{D}_{0}\\left(\\xi\\right)\\left(u\\left(x\\right), x\\right) - \\frac{\\partial}{\\partial x}u\\left(x\\right)^{3} \\mathrm{D}_{0, 0}\\left(\\xi\\right)\\left(u\\left(x\\right), x\\right) - \\mathrm{D}_{2}\\left(f\\right)\\left(u\\left(x\\right), x, \\frac{\\partial}{\\partial x}u\\left(x\\right)\\right) \\mathrm{D}_{0}\\left(\\phi\\right)\\left(u\\left(x\\right), x\\right) \\frac{\\partial}{\\partial x}u\\left(x\\right) + \\mathrm{D}_{0, 0}\\left(\\phi\\right)\\left(u\\left(x\\right), x\\right) \\frac{\\partial}{\\partial x}u\\left(x\\right)^{2} - 3 \\, \\frac{\\partial}{\\partial x}u\\left(x\\right) \\frac{\\partial^{2}}{(\\partial x)^{2}}u\\left(x\\right) \\mathrm{D}_{0}\\left(\\xi\\right)\\left(u\\left(x\\right), x\\right) - 2 \\, \\frac{\\partial}{\\partial x}u\\left(x\\right)^{2} \\mathrm{D}_{0, 1}\\left(\\xi\\right)\\left(u\\left(x\\right), x\\right) + \\mathrm{D}_{2}\\left(f\\right)\\left(u\\left(x\\right), x, \\frac{\\partial}{\\partial x}u\\left(x\\right)\\right) \\frac{\\partial}{\\partial x}u\\left(x\\right) \\mathrm{D}_{1}\\left(\\xi\\right)\\left(u\\left(x\\right), x\\right) - \\phi\\left(u\\left(x\\right), x\\right) \\mathrm{D}_{0}\\left(f\\right)\\left(u\\left(x\\right), x, \\frac{\\partial}{\\partial x}u\\left(x\\right)\\right) - \\xi\\left(u\\left(x\\right), x\\right) \\mathrm{D}_{1}\\left(f\\right)\\left(u\\left(x\\right), x, \\frac{\\partial}{\\partial x}u\\left(x\\right)\\right) - \\mathrm{D}_{2}\\left(f\\right)\\left(u\\left(x\\right), x, \\frac{\\partial}{\\partial x}u\\left(x\\right)\\right) \\mathrm{D}_{1}\\left(\\phi\\right)\\left(u\\left(x\\right), x\\right) + 2 \\, \\mathrm{D}_{0, 1}\\left(\\phi\\right)\\left(u\\left(x\\right), x\\right) \\frac{\\partial}{\\partial x}u\\left(x\\right) + \\mathrm{D}_{0}\\left(\\phi\\right)\\left(u\\left(x\\right), x\\right) \\frac{\\partial^{2}}{(\\partial x)^{2}}u\\left(x\\right) - 2 \\, \\frac{\\partial^{2}}{(\\partial x)^{2}}u\\left(x\\right) \\mathrm{D}_{1}\\left(\\xi\\right)\\left(u\\left(x\\right), x\\right) - \\frac{\\partial}{\\partial x}u\\left(x\\right) \\mathrm{D}_{1, 1}\\left(\\xi\\right)\\left(u\\left(x\\right), x\\right) + \\mathrm{D}_{1, 1}\\left(\\phi\\right)\\left(u\\left(x\\right), x\\right)$"
      ],
      "text/plain": [
       "D[2](f)(u(x), x, diff(u(x), x))*diff(u(x), x)^2*D[0](xi)(u(x), x) - diff(u(x), x)^3*D[0, 0](xi)(u(x), x) - D[2](f)(u(x), x, diff(u(x), x))*D[0](phi)(u(x), x)*diff(u(x), x) + D[0, 0](phi)(u(x), x)*diff(u(x), x)^2 - 3*diff(u(x), x)*diff(u(x), x, x)*D[0](xi)(u(x), x) - 2*diff(u(x), x)^2*D[0, 1](xi)(u(x), x) + D[2](f)(u(x), x, diff(u(x), x))*diff(u(x), x)*D[1](xi)(u(x), x) - phi(u(x), x)*D[0](f)(u(x), x, diff(u(x), x)) - xi(u(x), x)*D[1](f)(u(x), x, diff(u(x), x)) - D[2](f)(u(x), x, diff(u(x), x))*D[1](phi)(u(x), x) + 2*D[0, 1](phi)(u(x), x)*diff(u(x), x) + D[0](phi)(u(x), x)*diff(u(x), x, x) - 2*diff(u(x), x, x)*D[1](xi)(u(x), x) - diff(u(x), x)*D[1, 1](xi)(u(x), x) + D[1, 1](phi)(u(x), x)"
      ]
     },
     "metadata": {},
     "output_type": "display_data"
    },
    {
     "name": "stdout",
     "output_type": "stream",
     "text": [
      "====\n",
      "determining system:\n",
      "-D[0, 0](xi)(u(x), x)\n"
     ]
    },
    {
     "data": {
      "text/latex": [
       "$\\displaystyle - \\xi_{uu}$"
      ],
      "text/plain": [
       "<IPython.core.display.Math object>"
      ]
     },
     "metadata": {},
     "output_type": "display_data"
    },
    {
     "name": "stdout",
     "output_type": "stream",
     "text": [
      "D[2](f)(u(x), x, diff(u(x), x))*D[0](xi)(u(x), x) + D[0, 0](phi)(u(x), x) - 2*D[0, 1](xi)(u(x), x)\n"
     ]
    },
    {
     "ename": "ValueError",
     "evalue": "cannot add edge from 'FDerivativeOperator' to 'FDerivativeOperator' in graph without loops",
     "output_type": "error",
     "traceback": [
      "\u001b[0;31m---------------------------------------------------------------------------\u001b[0m",
      "\u001b[0;31mValueError\u001b[0m                                Traceback (most recent call last)",
      "Cell \u001b[0;32mIn[16], line 19\u001b[0m\n\u001b[1;32m     17\u001b[0m \u001b[38;5;28;01mfor\u001b[39;00m _ \u001b[38;5;129;01min\u001b[39;00m inf:\n\u001b[1;32m     18\u001b[0m     \u001b[38;5;28mprint\u001b[39m(_)\n\u001b[0;32m---> 19\u001b[0m     display(Math(\u001b[43mlatexer\u001b[49m\u001b[43m(\u001b[49m\u001b[43m_\u001b[49m\u001b[43m)\u001b[49m))\n",
      "File \u001b[0;32m/researches/delierium/delierium/helpers.py:299\u001b[0m, in \u001b[0;36mlatexer\u001b[0;34m(e)\u001b[0m\n\u001b[1;32m    296\u001b[0m r\u001b[38;5;241m=\u001b[39mre\u001b[38;5;241m.\u001b[39mcompile(\u001b[38;5;124mr\u001b[39m\u001b[38;5;124m\"\u001b[39m\u001b[38;5;132;01m%s\u001b[39;00m\u001b[38;5;124m\"\u001b[39m \u001b[38;5;241m%\u001b[39m pat)\n\u001b[1;32m    297\u001b[0m teststring\u001b[38;5;241m=\u001b[39m\u001b[38;5;28mstr\u001b[39m(e\u001b[38;5;241m.\u001b[39mexpand())\n\u001b[0;32m--> 299\u001b[0m graph       \u001b[38;5;241m=\u001b[39m \u001b[43mExpressionGraph\u001b[49m\u001b[43m(\u001b[49m\u001b[43me\u001b[49m\u001b[43m)\u001b[49m\n\u001b[1;32m    300\u001b[0m latexdict   \u001b[38;5;241m=\u001b[39m graph\u001b[38;5;241m.\u001b[39mlatex_names\n\u001b[1;32m    301\u001b[0m funcs_found \u001b[38;5;241m=\u001b[39m graph\u001b[38;5;241m.\u001b[39mfuncs_found\n",
      "File \u001b[0;32m/researches/delierium/delierium/helpers.py:236\u001b[0m, in \u001b[0;36mExpressionGraph.__init__\u001b[0;34m(self, expr)\u001b[0m\n\u001b[1;32m    234\u001b[0m \u001b[38;5;28mself\u001b[39m\u001b[38;5;241m.\u001b[39mlatex_names \u001b[38;5;241m=\u001b[39m {}\n\u001b[1;32m    235\u001b[0m \u001b[38;5;28mself\u001b[39m\u001b[38;5;241m.\u001b[39mfuncs_found \u001b[38;5;241m=\u001b[39m \u001b[38;5;28mset\u001b[39m()\n\u001b[0;32m--> 236\u001b[0m \u001b[38;5;28;43mself\u001b[39;49m\u001b[38;5;241;43m.\u001b[39;49m\u001b[43mgraph_expr\u001b[49m\u001b[43m(\u001b[49m\u001b[38;5;28;43mself\u001b[39;49m\u001b[38;5;241;43m.\u001b[39;49m\u001b[43mexpr\u001b[49m\u001b[43m)\u001b[49m\n",
      "File \u001b[0;32m/researches/delierium/delierium/helpers.py:286\u001b[0m, in \u001b[0;36mExpressionGraph.graph_expr\u001b[0;34m(self, expr)\u001b[0m\n\u001b[1;32m    284\u001b[0m \u001b[38;5;66;03m#print(f\"{expr.operands()=}\")\u001b[39;00m\n\u001b[1;32m    285\u001b[0m \u001b[38;5;28;01mfor\u001b[39;00m opnd \u001b[38;5;129;01min\u001b[39;00m expr\u001b[38;5;241m.\u001b[39moperands():\n\u001b[0;32m--> 286\u001b[0m     new_nodes \u001b[38;5;241m+\u001b[39m\u001b[38;5;241m=\u001b[39m [\u001b[38;5;28;43mself\u001b[39;49m\u001b[38;5;241;43m.\u001b[39;49m\u001b[43mgraph_expr\u001b[49m\u001b[43m(\u001b[49m\u001b[43mopnd\u001b[49m\u001b[43m)\u001b[49m]\n\u001b[1;32m    287\u001b[0m \u001b[38;5;28mself\u001b[39m\u001b[38;5;241m.\u001b[39mG\u001b[38;5;241m.\u001b[39madd_vertex(name)\n\u001b[1;32m    288\u001b[0m \u001b[38;5;28mself\u001b[39m\u001b[38;5;241m.\u001b[39mG\u001b[38;5;241m.\u001b[39madd_edges([(name, node) \u001b[38;5;28;01mfor\u001b[39;00m node \u001b[38;5;129;01min\u001b[39;00m new_nodes])\n",
      "File \u001b[0;32m/researches/delierium/delierium/helpers.py:286\u001b[0m, in \u001b[0;36mExpressionGraph.graph_expr\u001b[0;34m(self, expr)\u001b[0m\n\u001b[1;32m    284\u001b[0m \u001b[38;5;66;03m#print(f\"{expr.operands()=}\")\u001b[39;00m\n\u001b[1;32m    285\u001b[0m \u001b[38;5;28;01mfor\u001b[39;00m opnd \u001b[38;5;129;01min\u001b[39;00m expr\u001b[38;5;241m.\u001b[39moperands():\n\u001b[0;32m--> 286\u001b[0m     new_nodes \u001b[38;5;241m+\u001b[39m\u001b[38;5;241m=\u001b[39m [\u001b[38;5;28;43mself\u001b[39;49m\u001b[38;5;241;43m.\u001b[39;49m\u001b[43mgraph_expr\u001b[49m\u001b[43m(\u001b[49m\u001b[43mopnd\u001b[49m\u001b[43m)\u001b[49m]\n\u001b[1;32m    287\u001b[0m \u001b[38;5;28mself\u001b[39m\u001b[38;5;241m.\u001b[39mG\u001b[38;5;241m.\u001b[39madd_vertex(name)\n\u001b[1;32m    288\u001b[0m \u001b[38;5;28mself\u001b[39m\u001b[38;5;241m.\u001b[39mG\u001b[38;5;241m.\u001b[39madd_edges([(name, node) \u001b[38;5;28;01mfor\u001b[39;00m node \u001b[38;5;129;01min\u001b[39;00m new_nodes])\n",
      "File \u001b[0;32m/researches/delierium/delierium/helpers.py:288\u001b[0m, in \u001b[0;36mExpressionGraph.graph_expr\u001b[0;34m(self, expr)\u001b[0m\n\u001b[1;32m    286\u001b[0m     new_nodes \u001b[38;5;241m+\u001b[39m\u001b[38;5;241m=\u001b[39m [\u001b[38;5;28mself\u001b[39m\u001b[38;5;241m.\u001b[39mgraph_expr(opnd)]\n\u001b[1;32m    287\u001b[0m \u001b[38;5;28mself\u001b[39m\u001b[38;5;241m.\u001b[39mG\u001b[38;5;241m.\u001b[39madd_vertex(name)\n\u001b[0;32m--> 288\u001b[0m \u001b[38;5;28;43mself\u001b[39;49m\u001b[38;5;241;43m.\u001b[39;49m\u001b[43mG\u001b[49m\u001b[38;5;241;43m.\u001b[39;49m\u001b[43madd_edges\u001b[49m\u001b[43m(\u001b[49m\u001b[43m[\u001b[49m\u001b[43m(\u001b[49m\u001b[43mname\u001b[49m\u001b[43m,\u001b[49m\u001b[43m \u001b[49m\u001b[43mnode\u001b[49m\u001b[43m)\u001b[49m\u001b[43m \u001b[49m\u001b[38;5;28;43;01mfor\u001b[39;49;00m\u001b[43m \u001b[49m\u001b[43mnode\u001b[49m\u001b[43m \u001b[49m\u001b[38;5;129;43;01min\u001b[39;49;00m\u001b[43m \u001b[49m\u001b[43mnew_nodes\u001b[49m\u001b[43m]\u001b[49m\u001b[43m)\u001b[49m\n\u001b[1;32m    289\u001b[0m \u001b[38;5;28;01mreturn\u001b[39;00m name\n",
      "File \u001b[0;32m/researches/mambaforge/envs/sage/lib/python3.10/site-packages/sage/graphs/generic_graph.py:11469\u001b[0m, in \u001b[0;36mGenericGraph.add_edges\u001b[0;34m(self, edges, loops)\u001b[0m\n\u001b[1;32m  11467\u001b[0m \u001b[38;5;28;01mif\u001b[39;00m loops \u001b[38;5;129;01mis\u001b[39;00m \u001b[38;5;28;01mNone\u001b[39;00m:\n\u001b[1;32m  11468\u001b[0m     loops \u001b[38;5;241m=\u001b[39m \u001b[38;5;28mself\u001b[39m\u001b[38;5;241m.\u001b[39mallows_loops()\n\u001b[0;32m> 11469\u001b[0m \u001b[38;5;28;43mself\u001b[39;49m\u001b[38;5;241;43m.\u001b[39;49m\u001b[43m_backend\u001b[49m\u001b[38;5;241;43m.\u001b[39;49m\u001b[43madd_edges\u001b[49m\u001b[43m(\u001b[49m\u001b[43medges\u001b[49m\u001b[43m,\u001b[49m\u001b[43m \u001b[49m\u001b[38;5;28;43mself\u001b[39;49m\u001b[38;5;241;43m.\u001b[39;49m\u001b[43m_directed\u001b[49m\u001b[43m,\u001b[49m\u001b[43m \u001b[49m\u001b[43mremove_loops\u001b[49m\u001b[38;5;241;43m=\u001b[39;49m\u001b[38;5;129;43;01mnot\u001b[39;49;00m\u001b[43m \u001b[49m\u001b[43mloops\u001b[49m\u001b[43m)\u001b[49m\n",
      "File \u001b[0;32m/researches/mambaforge/envs/sage/lib/python3.10/site-packages/sage/graphs/base/c_graph.pyx:2357\u001b[0m, in \u001b[0;36msage.graphs.base.c_graph.CGraphBackend.add_edges (build/cythonized/sage/graphs/base/c_graph.cpp:16036)\u001b[0;34m()\u001b[0m\n\u001b[1;32m   2355\u001b[0m         if unlikely(remove_loops and u == v):\n\u001b[1;32m   2356\u001b[0m             continue\n\u001b[0;32m-> 2357\u001b[0m         self.add_edge(u, v, l, directed)\n\u001b[1;32m   2358\u001b[0m \n\u001b[1;32m   2359\u001b[0m cpdef add_edge(self, object u, object v, object l, bint directed):\n",
      "File \u001b[0;32m/researches/mambaforge/envs/sage/lib/python3.10/site-packages/sage/graphs/base/c_graph.pyx:2448\u001b[0m, in \u001b[0;36msage.graphs.base.c_graph.CGraphBackend.add_edge (build/cythonized/sage/graphs/base/c_graph.cpp:16432)\u001b[0;34m()\u001b[0m\n\u001b[1;32m   2446\u001b[0m \n\u001b[1;32m   2447\u001b[0m         if u_int == v_int and not self._loops:\n\u001b[0;32m-> 2448\u001b[0m             raise ValueError(f\"cannot add edge from {u!r} to {v!r} in graph without loops\")\n\u001b[1;32m   2449\u001b[0m \n\u001b[1;32m   2450\u001b[0m         if self._delete_edge_before_adding():\n",
      "\u001b[0;31mValueError\u001b[0m: cannot add edge from 'FDerivativeOperator' to 'FDerivativeOperator' in graph without loops"
     ]
    }
   ],
   "source": [
    "# Example 3, p.138\n",
    "x = var('x')\n",
    "u = function('u')\n",
    "f = function(\"f\")\n",
    "g = function(\"g\")\n",
    "ode5 = diff(u(x), x,x) - f(u(x), x, diff(u(x), x))\n",
    "display(Math(latexer(ode5)))\n",
    "inf = prolongationODE(ode5, u, x)\n",
    "inf[0].expand().show()\n",
    "# XXX: prolongation is wrong?\n",
    "# XXX: infinitesimals crashes\n",
    "# XXX: display is broken\n",
    "print(\"====\")\n",
    "#display(Math(latexer(inf[0])))\n",
    "inf = infinitesimalsODE(ode5, u, x)\n",
    "print(\"determining system:\")\n",
    "for _ in inf:\n",
    "    print(_)\n",
    "    display(Math(latexer(_)))"
   ]
  },
  {
   "cell_type": "code",
   "execution_count": null,
   "id": "d55fd42b-1ec7-49b6-a694-c39955f141e9",
   "metadata": {},
   "outputs": [],
   "source": []
  }
 ],
 "metadata": {
  "kernelspec": {
   "display_name": "SageMath 9.7",
   "language": "sage",
   "name": "sagemath"
  },
  "language_info": {
   "codemirror_mode": {
    "name": "ipython",
    "version": 3
   },
   "file_extension": ".py",
   "mimetype": "text/x-python",
   "name": "python",
   "nbconvert_exporter": "python",
   "pygments_lexer": "ipython3",
   "version": "3.10.8"
  },
  "widgets": {
   "application/vnd.jupyter.widget-state+json": {
    "state": {},
    "version_major": 2,
    "version_minor": 0
   }
  }
 },
 "nbformat": 4,
 "nbformat_minor": 5
}
