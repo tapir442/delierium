{
 "cells": [
  {
   "cell_type": "code",
   "execution_count": 1,
   "id": "545ab148",
   "metadata": {},
   "outputs": [],
   "source": [
    "from delierium.Infinitesimals import prolongationODE, infinitesimalsODE\n",
    "from delierium.JanetBasis import Janet_Basis\n",
    "from delierium.MatrixOrder import Context\n",
    "from delierium.helpers import latexer\n",
    "from sage.misc.html import html\n",
    "from IPython.core.debugger import set_trace\n",
    "from IPython.display import Math"
   ]
  },
  {
   "cell_type": "code",
   "execution_count": 2,
   "id": "09a4b34a",
   "metadata": {},
   "outputs": [],
   "source": [
    "x = var('x')\n",
    "y=function('y')"
   ]
  },
  {
   "cell_type": "code",
   "execution_count": 3,
   "id": "22b129e9",
   "metadata": {},
   "outputs": [],
   "source": [
    "ode=4*diff(y(x),x,x)*y(x) - 3* (diff(y(x),x)**2)-12*(y(x)**3)"
   ]
  },
  {
   "cell_type": "code",
   "execution_count": 4,
   "id": "5b7f1d33",
   "metadata": {},
   "outputs": [],
   "source": [
    "p=prolongationODE(ode, y, x)"
   ]
  },
  {
   "cell_type": "code",
   "execution_count": 5,
   "id": "97ac90fc",
   "metadata": {},
   "outputs": [
    {
     "data": {
      "text/latex": [
       "$\\displaystyle -4 y  \\xi_{yy} y_{x}^3 + 4 y  \\phi_{yy} y_{x}^2 - 8 y  \\xi_{yx} y_{x}^2 + 6  \\xi_{y} y_{x}^3 - 12 y  \\xi_{y} y_{x} y_{x x} - 36 \\phi y^2 + 8 y  \\phi_{yx} y_{x} - 4 y  \\xi_{xx} y_{x} - 6  \\phi_{y} y_{x}^2 + 6  \\xi_{x} y_{x}^2 + 4 y  \\phi_{y} y_{x x} - 8 y  \\xi_{x} y_{x x} + 4 y  \\phi_{xx} - 6  \\phi_{x} y_{x} + 4 \\phi y_{x x}$"
      ],
      "text/plain": [
       "<IPython.core.display.Math object>"
      ]
     },
     "metadata": {},
     "output_type": "display_data"
    }
   ],
   "source": [
    "for _p in p:\n",
    "    display(Math(latexer(_p)))\n"
   ]
  },
  {
   "cell_type": "code",
   "execution_count": 6,
   "id": "89de1c73",
   "metadata": {},
   "outputs": [],
   "source": [
    "def infinitesimalsODE (ode, dependent, independent):\n",
    "    prolongation = prolongationODE(ode, dependent, independent)[0].expand()\n",
    "    s1  = solve(ode==0, diff(dependent(independent),independent,independent))\n",
    "    ode1= prolongation.subs({s1[0].lhs() : s1[0].rhs()}).simplify()\n",
    "    #print((ode1))\n",
    "    # so far it is checked manually and with mathematica\n",
    "    l = [_ [0] for _ in ode1.coefficients(diff(dependent(independent), independent))]\n",
    "    # remove hardcoded xi, phi\n",
    "    return l"
   ]
  },
  {
   "cell_type": "code",
   "execution_count": 7,
   "id": "e524c658-6b1a-486e-8cb5-a6961261adc2",
   "metadata": {
    "tags": []
   },
   "outputs": [],
   "source": [
    "ode=4*diff(y(x),x,x)*y(x) - 3* diff(y(x),x)**2-12*y(x)**3\n",
    "inf = infinitesimalsODE(ode, y ,x)"
   ]
  },
  {
   "cell_type": "code",
   "execution_count": 8,
   "id": "4b97b763-d32d-46c6-b902-dbb0217a0e0f",
   "metadata": {},
   "outputs": [
    {
     "data": {
      "text/latex": [
       "$\\displaystyle 12 y^3  \\phi_{y} - 24 y^3  \\xi_{x} - 24 \\phi y^2 + 4 y  \\phi_{xx}$"
      ],
      "text/plain": [
       "<IPython.core.display.Math object>"
      ]
     },
     "metadata": {},
     "output_type": "display_data"
    },
    {
     "data": {
      "text/latex": [
       "$\\displaystyle -36 y^3  \\xi_{y} + 8 y  \\phi_{yx} - 4 y  \\xi_{xx} - 6  \\phi_{x}$"
      ],
      "text/plain": [
       "<IPython.core.display.Math object>"
      ]
     },
     "metadata": {},
     "output_type": "display_data"
    },
    {
     "data": {
      "text/latex": [
       "$\\displaystyle 4 y  \\phi_{yy} - 8 y  \\xi_{yx} + 3 \\phi/y - 3  \\phi_{y}$"
      ],
      "text/plain": [
       "<IPython.core.display.Math object>"
      ]
     },
     "metadata": {},
     "output_type": "display_data"
    },
    {
     "data": {
      "text/latex": [
       "$\\displaystyle -4 y  \\xi_{yy} - 3  \\xi_{y}$"
      ],
      "text/plain": [
       "<IPython.core.display.Math object>"
      ]
     },
     "metadata": {},
     "output_type": "display_data"
    }
   ],
   "source": [
    "for _ in inf:\n",
    "    display(Math(latexer(_)))"
   ]
  },
  {
   "cell_type": "code",
   "execution_count": 9,
   "id": "06996069-2d0b-415f-bb23-aa54fbf0ba5b",
   "metadata": {},
   "outputs": [
    {
     "data": {
      "text/latex": [
       "$\\displaystyle -y^3  \\phi_{y} + 2 y^3  \\xi_{x} + 3 \\phi y^2 + 1/3 y  \\phi_{x} +  \\phi_{xx}$"
      ],
      "text/plain": [
       "<IPython.core.display.Math object>"
      ]
     },
     "metadata": {},
     "output_type": "display_data"
    },
    {
     "data": {
      "text/latex": [
       "$\\displaystyle 3 y^3  \\xi_{y} + 1/3 y  \\xi_{x} + 1/3 \\phi + 2  \\phi_{yx} -  \\xi_{xx}$"
      ],
      "text/plain": [
       "<IPython.core.display.Math object>"
      ]
     },
     "metadata": {},
     "output_type": "display_data"
    },
    {
     "data": {
      "text/latex": [
       "$\\displaystyle 2/3 y  \\xi_{y} +  \\phi_{yy} - 2  \\xi_{yx}$"
      ],
      "text/plain": [
       "<IPython.core.display.Math object>"
      ]
     },
     "metadata": {},
     "output_type": "display_data"
    },
    {
     "data": {
      "text/latex": [
       "$\\displaystyle - \\xi_{yy}$"
      ],
      "text/plain": [
       "<IPython.core.display.Math object>"
      ]
     },
     "metadata": {},
     "output_type": "display_data"
    }
   ],
   "source": [
    "ode = diff(y(x),x,x)+(1/3)*y(x)*diff(y(x),x)+y(x)**3\n",
    "inf = infinitesimalsODE(ode, y ,x)\n",
    "for _ in inf:\n",
    "    display(Math(latexer(_)))"
   ]
  },
  {
   "cell_type": "code",
   "execution_count": 10,
   "id": "892e76c9-3867-45d9-a74f-f337229bf53a",
   "metadata": {},
   "outputs": [],
   "source": [
    "ode=diff(y(x),x,x)"
   ]
  },
  {
   "cell_type": "code",
   "execution_count": 11,
   "id": "34038f31-5026-4bf0-b72a-79aa5dc32d25",
   "metadata": {},
   "outputs": [
    {
     "data": {
      "text/latex": [
       "$\\displaystyle  \\phi_{xx}$"
      ],
      "text/plain": [
       "<IPython.core.display.Math object>"
      ]
     },
     "metadata": {},
     "output_type": "display_data"
    },
    {
     "data": {
      "text/latex": [
       "$\\displaystyle 2  \\phi_{yx} -  \\xi_{xx}$"
      ],
      "text/plain": [
       "<IPython.core.display.Math object>"
      ]
     },
     "metadata": {},
     "output_type": "display_data"
    },
    {
     "data": {
      "text/latex": [
       "$\\displaystyle  \\phi_{yy} - 2  \\xi_{yx}$"
      ],
      "text/plain": [
       "<IPython.core.display.Math object>"
      ]
     },
     "metadata": {},
     "output_type": "display_data"
    },
    {
     "data": {
      "text/latex": [
       "$\\displaystyle - \\xi_{yy}$"
      ],
      "text/plain": [
       "<IPython.core.display.Math object>"
      ]
     },
     "metadata": {},
     "output_type": "display_data"
    }
   ],
   "source": [
    "inf = infinitesimalsODE(ode, y ,x)\n",
    "for _ in inf:\n",
    "    display(Math(latexer(_)))"
   ]
  },
  {
   "cell_type": "code",
   "execution_count": 12,
   "id": "1e927c1d-983b-419d-a347-e07ced6c9682",
   "metadata": {},
   "outputs": [],
   "source": [
    "from delierium.helpers import latexer\n",
    "x,t = var('x t')\n",
    "u=function('u')(x,t)\n",
    "v=function('v')(x,t)\n",
    "ctx = Context([u,v],[x,t])\n",
    "jb = Janet_Basis([diff(v, t) - (u**2 +1)*diff(u, x)-u, diff(u,t)-diff(v,x)],[u,v],[x,t])"
   ]
  },
  {
   "cell_type": "code",
   "execution_count": 13,
   "id": "d7f71a02-596a-4053-b068-2857d2ebf5d5",
   "metadata": {},
   "outputs": [
    {
     "data": {
      "text/latex": [
       "$\\displaystyle u_{t}-v_{x}$"
      ],
      "text/plain": [
       "<IPython.core.display.Math object>"
      ]
     },
     "metadata": {},
     "output_type": "display_data"
    },
    {
     "data": {
      "text/latex": [
       "$\\displaystyle u_{x}-\\frac{1}{u^{2} + 1} v_{t} + \\frac{1}{u^{2} + 1} u$"
      ],
      "text/plain": [
       "<IPython.core.display.Math object>"
      ]
     },
     "metadata": {},
     "output_type": "display_data"
    },
    {
     "data": {
      "text/latex": [
       "$\\displaystyle v_{x x}-\\frac{1}{u^{2} + 1} v_{t t}-\\frac{2 \\, u^{2}}{u^{4} + 2 \\, u^{2} + 1} + \\frac{1}{u^{2} + 1} v_{x} + \\frac{2}{u^{4} + 2 \\, u^{2} + 1} u$"
      ],
      "text/plain": [
       "<IPython.core.display.Math object>"
      ]
     },
     "metadata": {},
     "output_type": "display_data"
    }
   ],
   "source": [
    "jb.show(rich=True)"
   ]
  },
  {
   "cell_type": "code",
   "execution_count": 14,
   "id": "588a9f26-8a9c-48d4-b998-b65892ea33ec",
   "metadata": {},
   "outputs": [],
   "source": [
    "# example 5.46\n",
    "from delierium.helpers import latexer\n",
    "from IPython.display import Math\n",
    "x = var('x')\n",
    "y = function('y')\n",
    "d3 = diff(y(x), x,3)\n",
    "d2 = diff(y(x), x,2)\n",
    "d1 = diff(y(x), x)\n",
    "d0 = y(x)\n",
    "ode = \\\n",
    "  d3 * d1 * d0 \\\n",
    "+ d3*(d0**2)/x \\\n",
    "- 3*d0*d2**2 \\\n",
    "- x *d2 * d1**2 * d0 \\\n",
    "+ 3*d2* d1**2 \\\n",
    "- 2*d2*d1*d0**2 \\\n",
    "- 12*d2*d1*d0/x \\\n",
    "- d2*d0**3/x \\\n",
    "- 3*d2*(d0**2)/(x**2) \\\n",
    "+ 2*x*d1**4 \\\n",
    "+ 3*d1**3*d0 \\\n",
    "+ 15*(d1**3)/x \\\n",
    "- ((d1*d0)**2)/x \\\n",
    "- (3* d0*d1**2)/(x**2) \\\n",
    "- (3/x**2)*d1*d0**3 \\\n",
    "- (9/x**3)*d1*d0**2\\\n",
    "- (d0**4)/(x**3) \\\n",
    "- (3/x**4)*d0**3\n"
   ]
  },
  {
   "cell_type": "code",
   "execution_count": 15,
   "id": "fcac2cef-5891-47b5-a9b4-6f332f26f908",
   "metadata": {},
   "outputs": [
    {
     "data": {
      "text/latex": [
       "$\\displaystyle 2 x y_{x}^4 - x y y_{x}^2 y_{x x} + 3 y y_{x}^3 - 2 y^2 y_{x} y_{x x} - y^2 y_{x}^2/x - y^3 y_{x x}/x + 3 y_{x}^2 y_{x x} - 3 y y_{x x}^2 + y y_{x} y_{x x x} - 3 y^3 y_{x}/x^2 + 15 y_{x}^3/x - 12 y y_{x} y_{x x}/x + y^2 y_{x x x}/x - y^4/x^3 - 3 y y_{x}^2/x^2 - 3 y^2 y_{x x}/x^2 - 9 y^2 y_{x}/x^3 - 3 y^3/x^4$"
      ],
      "text/plain": [
       "<IPython.core.display.Math object>"
      ]
     },
     "metadata": {},
     "output_type": "display_data"
    },
    {
     "name": "stdout",
     "output_type": "stream",
     "text": [
      ".....\n"
     ]
    },
    {
     "data": {
      "text/latex": [
       "$\\displaystyle 1/6 x^2 y  \\phi_{y} y_{x}^4 + 1/6 x y^2  \\xi_{y} y_{x}^4 + 1/3 x y^2  \\phi_{y} y_{x}^3 + 1/3 x^2 y  \\phi_{x} y_{x}^3 + 1/3 y^3  \\xi_{y} y_{x}^3 + 1/3 x y^2  \\xi_{x} y_{x}^3 + 1/6 x \\xi y y_{x}^4 + 1/2 x y  \\phi_{yy} y_{x}^4 + y^2  \\xi_{yy} y_{x}^4 - 1/2 x y  \\xi_{yx} y_{x}^4 + 10 x  \\xi_{y} y_{x}^5 + x y^2  \\phi_{x} y_{x}^2 + y^3  \\xi_{x} y_{x}^2 + 1/3 x \\phi y y_{x}^3 + 1/3 \\xi y^2 y_{x}^3 + 1/2 y^2  \\phi_{yy} y_{x}^3 + 3/2 x y  \\phi_{yx} y_{x}^3 + 2 y^3  \\xi_{yy} y_{x}^3/x + 1/2 y^2  \\xi_{yx} y_{x}^3 - 1/2 x y  \\xi_{xx} y_{x}^3 - 5 x  \\phi_{y} y_{x}^4 + 15 y  \\xi_{y} y_{x}^4 + 8 x  \\xi_{x} y_{x}^4 - 1/3 y^4  \\phi_{y} y_{x}/x + y^3  \\phi_{x} y_{x} - 1/3 y^5  \\xi_{y} y_{x}/x^2 + y^4  \\xi_{x} y_{x}/x + \\phi y^2 y_{x}^2 - 1/2 y^3  \\phi_{yy} y_{x}^2/x + 5/2 y^2  \\phi_{yx} y_{x}^2 + x y  \\phi_{xx} y_{x}^2 + y^4  \\xi_{yy} y_{x}^2/x^2 + 5/2 y^3  \\xi_{yx} y_{x}^2/x - 1/2 y^2  \\xi_{xx} y_{x}^2 - 5 y  \\phi_{y} y_{x}^3 - 2 x  \\phi_{x} y_{x}^3 - 2 y^2  \\xi_{y} y_{x}^3/x + 13 y  \\xi_{x} y_{x}^3 - 1/2 \\xi y_{x}^4 - 3/2 x \\phi y_{x}^4/y - 3/2  \\phi_{yy} y_{x}^4 - 3 y  \\xi_{yy} y_{x}^4/x + 3/2  \\xi_{yx} y_{x}^4 + 5 y  \\xi_{y} y_{x}^2 y_{x x x} - 1/6 y^5  \\phi_{y}/x^2 + 1/3 y^4  \\phi_{x}/x - 1/6 y^6  \\xi_{y}/x^3 + 1/3 y^5  \\xi_{x}/x^2 + \\phi y^3 y_{x}/x - 1/3 \\xi y^4 y_{x}/x^2 - 1/2 y^4  \\phi_{yy} y_{x}/x^2 + 1/2 y^3  \\phi_{yx} y_{x}/x + 2 y^2  \\phi_{xx} y_{x} + 3/2 y^4  \\xi_{yx} y_{x}/x^2 + 1/2 y^3  \\xi_{xx} y_{x}/x + 2 y^2  \\phi_{y} y_{x}^2/x + 3 y  \\phi_{x} y_{x}^2 - 13 y^3  \\xi_{y} y_{x}^2/x^2 + 4 y^2  \\xi_{x} y_{x}^2/x - 3 \\phi y_{x}^3 + 15/2 y  \\phi_{yy} y_{x}^3/x - 9/2  \\phi_{yx} y_{x}^3 + 12 y^2  \\xi_{yy} y_{x}^3/x^2 - 21/2 y  \\xi_{yx} y_{x}^3/x + 3/2  \\xi_{xx} y_{x}^3 + 3/2  \\phi_{y} y_{x}^4/y + 135/2  \\xi_{y} y_{x}^4/x - 2 y  \\phi_{y} y_{x} y_{x x x} + 4 y^2  \\xi_{y} y_{x} y_{x x x}/x + 4 y  \\xi_{x} y_{x} y_{x x x} + 1/3 \\phi y^4/x^2 - 1/6 \\xi y^5/x^3 - 1/2 y^4  \\phi_{yx}/x^2 + 1/2 y^4  \\xi_{xx}/x^2 + 3 y^3  \\phi_{y} y_{x}/x^2 + 8 y^2  \\phi_{x} y_{x}/x - 6 y^4  \\xi_{y} y_{x}/x^3 - 3 y^3  \\xi_{x} y_{x}/x^2 + 5 \\phi y y_{x}^2/x - 4 \\xi y^2 y_{x}^2/x^2 - 9/2 y^2  \\phi_{yy} y_{x}^2/x^2 + 39/2 y  \\phi_{yx} y_{x}^2/x - 3  \\phi_{xx} y_{x}^2 + 3 y^3  \\xi_{yy} y_{x}^2/x^3 + 33/2 y^2  \\xi_{yx} y_{x}^2/x^2 - 15/2 y  \\xi_{xx} y_{x}^2/x - 36  \\phi_{y} y_{x}^3/x + 3  \\phi_{x} y_{x}^3/y + 3 y  \\xi_{y} y_{x}^3/x^2 + 54  \\xi_{x} y_{x}^3/x - 3/2 \\phi y_{x}^4/y^2 - y^2  \\phi_{y} y_{x x x}/x + y  \\phi_{x} y_{x x x} - y^3  \\xi_{y} y_{x x x}/x^2 + y^2  \\xi_{x} y_{x x x}/x - \\phi y_{x} y_{x x x} + 1/6 sqrt(x^6 y^2 y_{x}^4 + 4 x^5 y^3 y_{x}^3 + 6 x^4 y^4 y_{x}^2 + 18 x^5 y y_{x}^4 + 4 x^3 y^5 y_{x} + 48 x^4 y^2 y_{x}^3 + x^2 y^6 + 36 x^3 y^3 y_{x}^2 + 9 x^4 y_{x}^4 + 12 x^4 y^2 y_{x} y_{x x x} + 108 x^3 y y_{x}^3 + 12 x^3 y^3 y_{x x x} - 6 x y^5 + 90 x^2 y^2 y_{x}^2 - 36 x y^3 y_{x} - 27 y^4)  \\phi_{y} y_{x}^2/x + 1/6 sqrt(x^6 y^2 y_{x}^4 + 4 x^5 y^3 y_{x}^3 + 6 x^4 y^4 y_{x}^2 + 18 x^5 y y_{x}^4 + 4 x^3 y^5 y_{x} + 48 x^4 y^2 y_{x}^3 + x^2 y^6 + 36 x^3 y^3 y_{x}^2 + 9 x^4 y_{x}^4 + 12 x^4 y^2 y_{x} y_{x x x} + 108 x^3 y y_{x}^3 + 12 x^3 y^3 y_{x x x} - 6 x y^5 + 90 x^2 y^2 y_{x}^2 - 36 x y^3 y_{x} - 27 y^4) y  \\xi_{y} y_{x}^2/x^2 + y^4  \\phi_{y}/x^3 + y^2  \\phi_{xxx}/x - 2 y^4  \\xi_{x}/x^3 + 9 \\phi y^2 y_{x}/x^2 - 6 \\xi y^3 y_{x}/x^3 - 3/2 y^3  \\phi_{yy} y_{x}/x^3 - 3/2 y^2  \\phi_{yx} y_{x}/x^2 + 12 y  \\phi_{xx} y_{x}/x + 9/2 y^3  \\xi_{yx} y_{x}/x^3 + 9/2 y^2  \\xi_{xx} y_{x}/x^2 + 6 y  \\phi_{y} y_{x}^2/x^2 - 18  \\phi_{x} y_{x}^2/x - 45 y^2  \\xi_{y} y_{x}^2/x^3 + 9 y  \\xi_{x} y_{x}^2/x^2 + 6 \\xi y_{x}^3/x^2 - 9 \\phi y_{x}^3/(x y) + \\phi y y_{x x x}/x - \\xi y^2 y_{x x x}/x^2 + 1/3 sqrt(x^6 y^2 y_{x}^4 + 4 x^5 y^3 y_{x}^3 + 6 x^4 y^4 y_{x}^2 + 18 x^5 y y_{x}^4 + 4 x^3 y^5 y_{x} + 48 x^4 y^2 y_{x}^3 + x^2 y^6 + 36 x^3 y^3 y_{x}^2 + 9 x^4 y_{x}^4 + 12 x^4 y^2 y_{x} y_{x x x} + 108 x^3 y y_{x}^3 + 12 x^3 y^3 y_{x x x} - 6 x y^5 + 90 x^2 y^2 y_{x}^2 - 36 x y^3 y_{x} - 27 y^4)  \\phi_{x} y_{x}/x + 1/3 sqrt(x^6 y^2 y_{x}^4 + 4 x^5 y^3 y_{x}^3 + 6 x^4 y^4 y_{x}^2 + 18 x^5 y y_{x}^4 + 4 x^3 y^5 y_{x} + 48 x^4 y^2 y_{x}^3 + x^2 y^6 + 36 x^3 y^3 y_{x}^2 + 9 x^4 y_{x}^4 + 12 x^4 y^2 y_{x} y_{x x x} + 108 x^3 y y_{x}^3 + 12 x^3 y^3 y_{x x x} - 6 x y^5 + 90 x^2 y^2 y_{x}^2 - 36 x y^3 y_{x} - 27 y^4) y  \\xi_{x} y_{x}/x^2 + 1/6 sqrt(x^6 y^2 y_{x}^4 + 4 x^5 y^3 y_{x}^3 + 6 x^4 y^4 y_{x}^2 + 18 x^5 y y_{x}^4 + 4 x^3 y^5 y_{x} + 48 x^4 y^2 y_{x}^3 + x^2 y^6 + 36 x^3 y^3 y_{x}^2 + 9 x^4 y_{x}^4 + 12 x^4 y^2 y_{x} y_{x x x} + 108 x^3 y y_{x}^3 + 12 x^3 y^3 y_{x x x} - 6 x y^5 + 90 x^2 y^2 y_{x}^2 - 36 x y^3 y_{x} - 27 y^4) \\xi y_{x}^2/x^2 + 1/2 sqrt(x^6 y^2 y_{x}^4 + 4 x^5 y^3 y_{x}^3 + 6 x^4 y^4 y_{x}^2 + 18 x^5 y y_{x}^4 + 4 x^3 y^5 y_{x} + 48 x^4 y^2 y_{x}^3 + x^2 y^6 + 36 x^3 y^3 y_{x}^2 + 9 x^4 y_{x}^4 + 12 x^4 y^2 y_{x} y_{x x x} + 108 x^3 y y_{x}^3 + 12 x^3 y^3 y_{x x x} - 6 x y^5 + 90 x^2 y^2 y_{x}^2 - 36 x y^3 y_{x} - 27 y^4)  \\phi_{yy} y_{x}^2/x^2 + sqrt(x^6 y^2 y_{x}^4 + 4 x^5 y^3 y_{x}^3 + 6 x^4 y^4 y_{x}^2 + 18 x^5 y y_{x}^4 + 4 x^3 y^5 y_{x} + 48 x^4 y^2 y_{x}^3 + x^2 y^6 + 36 x^3 y^3 y_{x}^2 + 9 x^4 y_{x}^4 + 12 x^4 y^2 y_{x} y_{x x x} + 108 x^3 y y_{x}^3 + 12 x^3 y^3 y_{x x x} - 6 x y^5 + 90 x^2 y^2 y_{x}^2 - 36 x y^3 y_{x} - 27 y^4) y  \\xi_{yy} y_{x}^2/x^3 - 1/2 sqrt(x^6 y^2 y_{x}^4 + 4 x^5 y^3 y_{x}^3 + 6 x^4 y^4 y_{x}^2 + 18 x^5 y y_{x}^4 + 4 x^3 y^5 y_{x} + 48 x^4 y^2 y_{x}^3 + x^2 y^6 + 36 x^3 y^3 y_{x}^2 + 9 x^4 y_{x}^4 + 12 x^4 y^2 y_{x} y_{x x x} + 108 x^3 y y_{x}^3 + 12 x^3 y^3 y_{x x x} - 6 x y^5 + 90 x^2 y^2 y_{x}^2 - 36 x y^3 y_{x} - 27 y^4)  \\xi_{yx} y_{x}^2/x^2 - 3/2 \\phi y^3/x^3 + 3/2 \\xi y^4/x^4 - 3/2 y^3  \\phi_{yx}/x^3 + 3/2 y^3  \\xi_{xx}/x^3 + 12 y^2  \\phi_{y} y_{x}/x^3 + 21 y  \\phi_{x} y_{x}/x^2 - 15 y^3  \\xi_{y} y_{x}/x^4 - 18 y^2  \\xi_{x} y_{x}/x^3 + 3 \\phi y_{x}^2/x^2 - 21 \\xi y y_{x}^2/x^3 - 1/6 sqrt(x^6 y^2 y_{x}^4 + 4 x^5 y^3 y_{x}^3 + 6 x^4 y^4 y_{x}^2 + 18 x^5 y y_{x}^4 + 4 x^3 y^5 y_{x} + 48 x^4 y^2 y_{x}^3 + x^2 y^6 + 36 x^3 y^3 y_{x}^2 + 9 x^4 y_{x}^4 + 12 x^4 y^2 y_{x} y_{x x x} + 108 x^3 y y_{x}^3 + 12 x^3 y^3 y_{x x x} - 6 x y^5 + 90 x^2 y^2 y_{x}^2 - 36 x y^3 y_{x} - 27 y^4) y^2  \\phi_{y}/x^3 + 1/3 sqrt(x^6 y^2 y_{x}^4 + 4 x^5 y^3 y_{x}^3 + 6 x^4 y^4 y_{x}^2 + 18 x^5 y y_{x}^4 + 4 x^3 y^5 y_{x} + 48 x^4 y^2 y_{x}^3 + x^2 y^6 + 36 x^3 y^3 y_{x}^2 + 9 x^4 y_{x}^4 + 12 x^4 y^2 y_{x} y_{x x x} + 108 x^3 y y_{x}^3 + 12 x^3 y^3 y_{x x x} - 6 x y^5 + 90 x^2 y^2 y_{x}^2 - 36 x y^3 y_{x} - 27 y^4) y  \\phi_{x}/x^2 - 1/6 sqrt(x^6 y^2 y_{x}^4 + 4 x^5 y^3 y_{x}^3 + 6 x^4 y^4 y_{x}^2 + 18 x^5 y y_{x}^4 + 4 x^3 y^5 y_{x} + 48 x^4 y^2 y_{x}^3 + x^2 y^6 + 36 x^3 y^3 y_{x}^2 + 9 x^4 y_{x}^4 + 12 x^4 y^2 y_{x} y_{x x x} + 108 x^3 y y_{x}^3 + 12 x^3 y^3 y_{x x x} - 6 x y^5 + 90 x^2 y^2 y_{x}^2 - 36 x y^3 y_{x} - 27 y^4) y^3  \\xi_{y}/x^4 + 1/3 sqrt(x^6 y^2 y_{x}^4 + 4 x^5 y^3 y_{x}^3 + 6 x^4 y^4 y_{x}^2 + 18 x^5 y y_{x}^4 + 4 x^3 y^5 y_{x} + 48 x^4 y^2 y_{x}^3 + x^2 y^6 + 36 x^3 y^3 y_{x}^2 + 9 x^4 y_{x}^4 + 12 x^4 y^2 y_{x} y_{x x x} + 108 x^3 y y_{x}^3 + 12 x^3 y^3 y_{x x x} - 6 x y^5 + 90 x^2 y^2 y_{x}^2 - 36 x y^3 y_{x} - 27 y^4) y^2  \\xi_{x}/x^3 + 1/3 sqrt(x^6 y^2 y_{x}^4 + 4 x^5 y^3 y_{x}^3 + 6 x^4 y^4 y_{x}^2 + 18 x^5 y y_{x}^4 + 4 x^3 y^5 y_{x} + 48 x^4 y^2 y_{x}^3 + x^2 y^6 + 36 x^3 y^3 y_{x}^2 + 9 x^4 y_{x}^4 + 12 x^4 y^2 y_{x} y_{x x x} + 108 x^3 y y_{x}^3 + 12 x^3 y^3 y_{x x x} - 6 x y^5 + 90 x^2 y^2 y_{x}^2 - 36 x y^3 y_{x} - 27 y^4) \\phi y_{x}/x^2 - 1/2 sqrt(x^6 y^2 y_{x}^4 + 4 x^5 y^3 y_{x}^3 + 6 x^4 y^4 y_{x}^2 + 18 x^5 y y_{x}^4 + 4 x^3 y^5 y_{x} + 48 x^4 y^2 y_{x}^3 + x^2 y^6 + 36 x^3 y^3 y_{x}^2 + 9 x^4 y_{x}^4 + 12 x^4 y^2 y_{x} y_{x x x} + 108 x^3 y y_{x}^3 + 12 x^3 y^3 y_{x x x} - 6 x y^5 + 90 x^2 y^2 y_{x}^2 - 36 x y^3 y_{x} - 27 y^4) y  \\phi_{yy} y_{x}/x^3 + 3/2 sqrt(x^6 y^2 y_{x}^4 + 4 x^5 y^3 y_{x}^3 + 6 x^4 y^4 y_{x}^2 + 18 x^5 y y_{x}^4 + 4 x^3 y^5 y_{x} + 48 x^4 y^2 y_{x}^3 + x^2 y^6 + 36 x^3 y^3 y_{x}^2 + 9 x^4 y_{x}^4 + 12 x^4 y^2 y_{x} y_{x x x} + 108 x^3 y y_{x}^3 + 12 x^3 y^3 y_{x x x} - 6 x y^5 + 90 x^2 y^2 y_{x}^2 - 36 x y^3 y_{x} - 27 y^4)  \\phi_{yx} y_{x}/x^2 + 3/2 sqrt(x^6 y^2 y_{x}^4 + 4 x^5 y^3 y_{x}^3 + 6 x^4 y^4 y_{x}^2 + 18 x^5 y y_{x}^4 + 4 x^3 y^5 y_{x} + 48 x^4 y^2 y_{x}^3 + x^2 y^6 + 36 x^3 y^3 y_{x}^2 + 9 x^4 y_{x}^4 + 12 x^4 y^2 y_{x} y_{x x x} + 108 x^3 y y_{x}^3 + 12 x^3 y^3 y_{x x x} - 6 x y^5 + 90 x^2 y^2 y_{x}^2 - 36 x y^3 y_{x} - 27 y^4) y  \\xi_{yx} y_{x}/x^3 - 1/2 sqrt(x^6 y^2 y_{x}^4 + 4 x^5 y^3 y_{x}^3 + 6 x^4 y^4 y_{x}^2 + 18 x^5 y y_{x}^4 + 4 x^3 y^5 y_{x} + 48 x^4 y^2 y_{x}^3 + x^2 y^6 + 36 x^3 y^3 y_{x}^2 + 9 x^4 y_{x}^4 + 12 x^4 y^2 y_{x} y_{x x x} + 108 x^3 y y_{x}^3 + 12 x^3 y^3 y_{x x x} - 6 x y^5 + 90 x^2 y^2 y_{x}^2 - 36 x y^3 y_{x} - 27 y^4)  \\xi_{xx} y_{x}/x^2 - 1/2 sqrt(x^6 y^2 y_{x}^4 + 4 x^5 y^3 y_{x}^3 + 6 x^4 y^4 y_{x}^2 + 18 x^5 y y_{x}^4 + 4 x^3 y^5 y_{x} + 48 x^4 y^2 y_{x}^3 + x^2 y^6 + 36 x^3 y^3 y_{x}^2 + 9 x^4 y_{x}^4 + 12 x^4 y^2 y_{x} y_{x x x} + 108 x^3 y y_{x}^3 + 12 x^3 y^3 y_{x x x} - 6 x y^5 + 90 x^2 y^2 y_{x}^2 - 36 x y^3 y_{x} - 27 y^4)  \\phi_{y} y_{x}^2/(x^2 y) + 5/2 sqrt(x^6 y^2 y_{x}^4 + 4 x^5 y^3 y_{x}^3 + 6 x^4 y^4 y_{x}^2 + 18 x^5 y y_{x}^4 + 4 x^3 y^5 y_{x} + 48 x^4 y^2 y_{x}^3 + x^2 y^6 + 36 x^3 y^3 y_{x}^2 + 9 x^4 y_{x}^4 + 12 x^4 y^2 y_{x} y_{x x x} + 108 x^3 y y_{x}^3 + 12 x^3 y^3 y_{x x x} - 6 x y^5 + 90 x^2 y^2 y_{x}^2 - 36 x y^3 y_{x} - 27 y^4)  \\xi_{y} y_{x}^2/x^3 + 9/2 y^3  \\phi_{y}/x^4 - 3 y^2  \\phi_{x}/x^3 + 3/2 y^4  \\xi_{y}/x^5 - 9 y^3  \\xi_{x}/x^4 + 15 \\phi y y_{x}/x^3 - 18 \\xi y^2 y_{x}/x^4 + 1/3 sqrt(x^6 y^2 y_{x}^4 + 4 x^5 y^3 y_{x}^3 + 6 x^4 y^4 y_{x}^2 + 18 x^5 y y_{x}^4 + 4 x^3 y^5 y_{x} + 48 x^4 y^2 y_{x}^3 + x^2 y^6 + 36 x^3 y^3 y_{x}^2 + 9 x^4 y_{x}^4 + 12 x^4 y^2 y_{x} y_{x x x} + 108 x^3 y y_{x}^3 + 12 x^3 y^3 y_{x x x} - 6 x y^5 + 90 x^2 y^2 y_{x}^2 - 36 x y^3 y_{x} - 27 y^4) \\phi y/x^3 - 1/6 sqrt(x^6 y^2 y_{x}^4 + 4 x^5 y^3 y_{x}^3 + 6 x^4 y^4 y_{x}^2 + 18 x^5 y y_{x}^4 + 4 x^3 y^5 y_{x} + 48 x^4 y^2 y_{x}^3 + x^2 y^6 + 36 x^3 y^3 y_{x}^2 + 9 x^4 y_{x}^4 + 12 x^4 y^2 y_{x} y_{x x x} + 108 x^3 y y_{x}^3 + 12 x^3 y^3 y_{x x x} - 6 x y^5 + 90 x^2 y^2 y_{x}^2 - 36 x y^3 y_{x} - 27 y^4) \\xi y^2/x^4 - 1/2 sqrt(x^6 y^2 y_{x}^4 + 4 x^5 y^3 y_{x}^3 + 6 x^4 y^4 y_{x}^2 + 18 x^5 y y_{x}^4 + 4 x^3 y^5 y_{x} + 48 x^4 y^2 y_{x}^3 + x^2 y^6 + 36 x^3 y^3 y_{x}^2 + 9 x^4 y_{x}^4 + 12 x^4 y^2 y_{x} y_{x x x} + 108 x^3 y y_{x}^3 + 12 x^3 y^3 y_{x x x} - 6 x y^5 + 90 x^2 y^2 y_{x}^2 - 36 x y^3 y_{x} - 27 y^4) y  \\phi_{yx}/x^3 + sqrt(x^6 y^2 y_{x}^4 + 4 x^5 y^3 y_{x}^3 + 6 x^4 y^4 y_{x}^2 + 18 x^5 y y_{x}^4 + 4 x^3 y^5 y_{x} + 48 x^4 y^2 y_{x}^3 + x^2 y^6 + 36 x^3 y^3 y_{x}^2 + 9 x^4 y_{x}^4 + 12 x^4 y^2 y_{x} y_{x x x} + 108 x^3 y y_{x}^3 + 12 x^3 y^3 y_{x x x} - 6 x y^5 + 90 x^2 y^2 y_{x}^2 - 36 x y^3 y_{x} - 27 y^4)  \\phi_{xx}/x^2 + 1/2 sqrt(x^6 y^2 y_{x}^4 + 4 x^5 y^3 y_{x}^3 + 6 x^4 y^4 y_{x}^2 + 18 x^5 y y_{x}^4 + 4 x^3 y^5 y_{x} + 48 x^4 y^2 y_{x}^3 + x^2 y^6 + 36 x^3 y^3 y_{x}^2 + 9 x^4 y_{x}^4 + 12 x^4 y^2 y_{x} y_{x x x} + 108 x^3 y y_{x}^3 + 12 x^3 y^3 y_{x x x} - 6 x y^5 + 90 x^2 y^2 y_{x}^2 - 36 x y^3 y_{x} - 27 y^4) y  \\xi_{xx}/x^3 - sqrt(x^6 y^2 y_{x}^4 + 4 x^5 y^3 y_{x}^3 + 6 x^4 y^4 y_{x}^2 + 18 x^5 y y_{x}^4 + 4 x^3 y^5 y_{x} + 48 x^4 y^2 y_{x}^3 + x^2 y^6 + 36 x^3 y^3 y_{x}^2 + 9 x^4 y_{x}^4 + 12 x^4 y^2 y_{x} y_{x x x} + 108 x^3 y y_{x}^3 + 12 x^3 y^3 y_{x x x} - 6 x y^5 + 90 x^2 y^2 y_{x}^2 - 36 x y^3 y_{x} - 27 y^4)  \\phi_{x} y_{x}/(x^2 y) - sqrt(x^6 y^2 y_{x}^4 + 4 x^5 y^3 y_{x}^3 + 6 x^4 y^4 y_{x}^2 + 18 x^5 y y_{x}^4 + 4 x^3 y^5 y_{x} + 48 x^4 y^2 y_{x}^3 + x^2 y^6 + 36 x^3 y^3 y_{x}^2 + 9 x^4 y_{x}^4 + 12 x^4 y^2 y_{x} y_{x x x} + 108 x^3 y y_{x}^3 + 12 x^3 y^3 y_{x x x} - 6 x y^5 + 90 x^2 y^2 y_{x}^2 - 36 x y^3 y_{x} - 27 y^4) y  \\xi_{y} y_{x}/x^4 + 2 sqrt(x^6 y^2 y_{x}^4 + 4 x^5 y^3 y_{x}^3 + 6 x^4 y^4 y_{x}^2 + 18 x^5 y y_{x}^4 + 4 x^3 y^5 y_{x} + 48 x^4 y^2 y_{x}^3 + x^2 y^6 + 36 x^3 y^3 y_{x}^2 + 9 x^4 y_{x}^4 + 12 x^4 y^2 y_{x} y_{x x x} + 108 x^3 y y_{x}^3 + 12 x^3 y^3 y_{x x x} - 6 x y^5 + 90 x^2 y^2 y_{x}^2 - 36 x y^3 y_{x} - 27 y^4)  \\xi_{x} y_{x}/x^3 + 1/2 sqrt(x^6 y^2 y_{x}^4 + 4 x^5 y^3 y_{x}^3 + 6 x^4 y^4 y_{x}^2 + 18 x^5 y y_{x}^4 + 4 x^3 y^5 y_{x} + 48 x^4 y^2 y_{x}^3 + x^2 y^6 + 36 x^3 y^3 y_{x}^2 + 9 x^4 y_{x}^4 + 12 x^4 y^2 y_{x} y_{x x x} + 108 x^3 y y_{x}^3 + 12 x^3 y^3 y_{x x x} - 6 x y^5 + 90 x^2 y^2 y_{x}^2 - 36 x y^3 y_{x} - 27 y^4) \\phi y_{x}^2/(x^2 y^2) - 9/2 \\phi y^2/x^4 + 9 \\xi y^3/x^5 - 1/2 sqrt(x^6 y^2 y_{x}^4 + 4 x^5 y^3 y_{x}^3 + 6 x^4 y^4 y_{x}^2 + 18 x^5 y y_{x}^4 + 4 x^3 y^5 y_{x} + 48 x^4 y^2 y_{x}^3 + x^2 y^6 + 36 x^3 y^3 y_{x}^2 + 9 x^4 y_{x}^4 + 12 x^4 y^2 y_{x} y_{x x x} + 108 x^3 y y_{x}^3 + 12 x^3 y^3 y_{x x x} - 6 x y^5 + 90 x^2 y^2 y_{x}^2 - 36 x y^3 y_{x} - 27 y^4) y  \\phi_{y}/x^4 + 2 sqrt(x^6 y^2 y_{x}^4 + 4 x^5 y^3 y_{x}^3 + 6 x^4 y^4 y_{x}^2 + 18 x^5 y y_{x}^4 + 4 x^3 y^5 y_{x} + 48 x^4 y^2 y_{x}^3 + x^2 y^6 + 36 x^3 y^3 y_{x}^2 + 9 x^4 y_{x}^4 + 12 x^4 y^2 y_{x} y_{x x x} + 108 x^3 y y_{x}^3 + 12 x^3 y^3 y_{x x x} - 6 x y^5 + 90 x^2 y^2 y_{x}^2 - 36 x y^3 y_{x} - 27 y^4)  \\phi_{x}/x^3 - 1/2 sqrt(x^6 y^2 y_{x}^4 + 4 x^5 y^3 y_{x}^3 + 6 x^4 y^4 y_{x}^2 + 18 x^5 y y_{x}^4 + 4 x^3 y^5 y_{x} + 48 x^4 y^2 y_{x}^3 + x^2 y^6 + 36 x^3 y^3 y_{x}^2 + 9 x^4 y_{x}^4 + 12 x^4 y^2 y_{x} y_{x x x} + 108 x^3 y y_{x}^3 + 12 x^3 y^3 y_{x x x} - 6 x y^5 + 90 x^2 y^2 y_{x}^2 - 36 x y^3 y_{x} - 27 y^4) y^2  \\xi_{y}/x^5 + sqrt(x^6 y^2 y_{x}^4 + 4 x^5 y^3 y_{x}^3 + 6 x^4 y^4 y_{x}^2 + 18 x^5 y y_{x}^4 + 4 x^3 y^5 y_{x} + 48 x^4 y^2 y_{x}^3 + x^2 y^6 + 36 x^3 y^3 y_{x}^2 + 9 x^4 y_{x}^4 + 12 x^4 y^2 y_{x} y_{x x x} + 108 x^3 y y_{x}^3 + 12 x^3 y^3 y_{x x x} - 6 x y^5 + 90 x^2 y^2 y_{x}^2 - 36 x y^3 y_{x} - 27 y^4) y  \\xi_{x}/x^4 - 2 sqrt(x^6 y^2 y_{x}^4 + 4 x^5 y^3 y_{x}^3 + 6 x^4 y^4 y_{x}^2 + 18 x^5 y y_{x}^4 + 4 x^3 y^5 y_{x} + 48 x^4 y^2 y_{x}^3 + x^2 y^6 + 36 x^3 y^3 y_{x}^2 + 9 x^4 y_{x}^4 + 12 x^4 y^2 y_{x} y_{x x x} + 108 x^3 y y_{x}^3 + 12 x^3 y^3 y_{x x x} - 6 x y^5 + 90 x^2 y^2 y_{x}^2 - 36 x y^3 y_{x} - 27 y^4) \\xi y_{x}/x^4 + 1/2 sqrt(x^6 y^2 y_{x}^4 + 4 x^5 y^3 y_{x}^3 + 6 x^4 y^4 y_{x}^2 + 18 x^5 y y_{x}^4 + 4 x^3 y^5 y_{x} + 48 x^4 y^2 y_{x}^3 + x^2 y^6 + 36 x^3 y^3 y_{x}^2 + 9 x^4 y_{x}^4 + 12 x^4 y^2 y_{x} y_{x x x} + 108 x^3 y y_{x}^3 + 12 x^3 y^3 y_{x x x} - 6 x y^5 + 90 x^2 y^2 y_{x}^2 - 36 x y^3 y_{x} - 27 y^4) \\phi/x^4 - sqrt(x^6 y^2 y_{x}^4 + 4 x^5 y^3 y_{x}^3 + 6 x^4 y^4 y_{x}^2 + 18 x^5 y y_{x}^4 + 4 x^3 y^5 y_{x} + 48 x^4 y^2 y_{x}^3 + x^2 y^6 + 36 x^3 y^3 y_{x}^2 + 9 x^4 y_{x}^4 + 12 x^4 y^2 y_{x} y_{x x x} + 108 x^3 y y_{x}^3 + 12 x^3 y^3 y_{x x x} - 6 x y^5 + 90 x^2 y^2 y_{x}^2 - 36 x y^3 y_{x} - 27 y^4) \\xi y/x^5$"
      ],
      "text/plain": [
       "<IPython.core.display.Math object>"
      ]
     },
     "metadata": {},
     "output_type": "display_data"
    },
    {
     "data": {
      "text/latex": [
       "$\\displaystyle -2 y^3  \\phi_{yx}/x - 2 y^2  \\phi_{xx} + y^3  \\xi_{xx}/x + 2 y  \\phi_{y} y_{x x x} - 4 y^2  \\xi_{y} y_{x x x}/x - 4 y  \\xi_{x} y_{x x x} - 3 y^3  \\phi_{y}/x^2 + 3 y^2  \\phi_{yxx}/x - 2 y^2  \\phi_{x}/x + y  \\phi_{xxx} + 3 y^3  \\xi_{x}/x^2 - y^2  \\xi_{xxx}/x + \\phi y_{x x x} - 9 \\phi y^2/x^2 + 6 \\xi y^3/x^3 - 6 y^2  \\phi_{yx}/x^2 - 12 y  \\phi_{xx}/x + 3 y^2  \\xi_{xx}/x^2 - 9 y^2  \\phi_{y}/x^3 - 6 y  \\phi_{x}/x^2 + 9 y^2  \\xi_{x}/x^3 - 18 \\phi y/x^3 + 27 \\xi y^2/x^4$"
      ],
      "text/plain": [
       "<IPython.core.display.Math object>"
      ]
     },
     "metadata": {},
     "output_type": "display_data"
    },
    {
     "data": {
      "text/latex": [
       "$\\displaystyle -y^3  \\phi_{yy}/x - 4 y^2  \\phi_{yx} - x y  \\phi_{xx} + 2 y^3  \\xi_{yx}/x + 2 y^2  \\xi_{xx} - 5 y  \\xi_{y} y_{x x x} - 2 y^2  \\phi_{y}/x + 3 y^2  \\phi_{yyx}/x + 3 y  \\phi_{yxx} + 9 y  \\phi_{x} + 3 y^3  \\xi_{y}/x^2 - 3 y^2  \\xi_{yxx}/x + 2 y^2  \\xi_{x}/x - y  \\xi_{xxx} - 2 \\phi y/x + \\xi y^2/x^2 - 3 y^2  \\phi_{yy}/x^2 - 24 y  \\phi_{yx}/x + 6 y^2  \\xi_{yx}/x^2 + 12 y  \\xi_{xx}/x - 6 y  \\phi_{y}/x^2 + 45  \\phi_{x}/x + 9 y^2  \\xi_{y}/x^3 + 6 y  \\xi_{x}/x^2 - 3 \\phi/x^2 + 6 \\xi y/x^3 + 3  \\phi_{xx}$"
      ],
      "text/plain": [
       "<IPython.core.display.Math object>"
      ]
     },
     "metadata": {},
     "output_type": "display_data"
    },
    {
     "data": {
      "text/latex": [
       "$\\displaystyle -2 y^2  \\phi_{yy} - 2 x y  \\phi_{yx} + y^3  \\xi_{yy}/x + 4 y^2  \\xi_{yx} + x y  \\xi_{xx} + 9 y  \\phi_{y} + y^2  \\phi_{yyy}/x + 3 y  \\phi_{yyx} + 8 x  \\phi_{x} + 2 y^2  \\xi_{y}/x - 3 y^2  \\xi_{yyx}/x - 3 y  \\xi_{yxx} - 9 y  \\xi_{x} - 12 y  \\phi_{yy}/x + 3 y^2  \\xi_{yy}/x^2 + 24 y  \\xi_{yx}/x + 45  \\phi_{y}/x + 6 y  \\xi_{y}/x^2 - 45  \\xi_{x}/x - 15 \\xi/x^2 + 3 \\phi + 6  \\phi_{yx} - 3  \\xi_{xx}$"
      ],
      "text/plain": [
       "<IPython.core.display.Math object>"
      ]
     },
     "metadata": {},
     "output_type": "display_data"
    },
    {
     "data": {
      "text/latex": [
       "$\\displaystyle -x y  \\phi_{yy} + 2 y^2  \\xi_{yy} + 2 x y  \\xi_{yx} + 8 x  \\phi_{y} + y  \\phi_{yyy} - 9 y  \\xi_{y} - y^2  \\xi_{yyy}/x - 3 y  \\xi_{yyx} - 8 x  \\xi_{x} + 12 y  \\xi_{yy}/x - 45  \\xi_{y}/x + 2 \\xi + 3  \\phi_{yy} - 6  \\xi_{yx}$"
      ],
      "text/plain": [
       "<IPython.core.display.Math object>"
      ]
     },
     "metadata": {},
     "output_type": "display_data"
    },
    {
     "data": {
      "text/latex": [
       "$\\displaystyle x y  \\xi_{yy} - 8 x  \\xi_{y} - y  \\xi_{yyy} - 3  \\xi_{yy}$"
      ],
      "text/plain": [
       "<IPython.core.display.Math object>"
      ]
     },
     "metadata": {},
     "output_type": "display_data"
    }
   ],
   "source": [
    "display(Math(latexer(ode)))\n",
    "inf = infinitesimalsODE(ode, y ,x)\n",
    "print(\".....\")\n",
    "for _ in inf:\n",
    "    display(Math(latexer(_)))"
   ]
  },
  {
   "cell_type": "code",
   "execution_count": null,
   "id": "69889d96-77ed-425d-93b0-22f39551caaf",
   "metadata": {},
   "outputs": [],
   "source": []
  }
 ],
 "metadata": {
  "kernelspec": {
   "display_name": "SageMath 9.6",
   "language": "sage",
   "name": "sagemath"
  },
  "language_info": {
   "codemirror_mode": {
    "name": "ipython",
    "version": 3
   },
   "file_extension": ".py",
   "mimetype": "text/x-python",
   "name": "python",
   "nbconvert_exporter": "python",
   "pygments_lexer": "ipython3",
   "version": "3.10.6"
  },
  "widgets": {
   "application/vnd.jupyter.widget-state+json": {
    "state": {},
    "version_major": 2,
    "version_minor": 0
   }
  }
 },
 "nbformat": 4,
 "nbformat_minor": 5
}
