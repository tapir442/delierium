{
 "cells": [
  {
   "cell_type": "code",
   "execution_count": 3,
   "id": "545ab148",
   "metadata": {},
   "outputs": [
    {
     "ename": "ImportError",
     "evalue": "attempted relative import with no known parent package",
     "output_type": "error",
     "traceback": [
      "\u001b[0;31m---------------------------------------------------------------------------\u001b[0m",
      "\u001b[0;31mImportError\u001b[0m                               Traceback (most recent call last)",
      "\u001b[0;32m~/tmp/ipykernel_31831/3709336916.py\u001b[0m in \u001b[0;36m<cell line: 4>\u001b[0;34m()\u001b[0m\n\u001b[1;32m      2\u001b[0m \u001b[0msys\u001b[0m\u001b[0;34m.\u001b[0m\u001b[0mpath\u001b[0m\u001b[0;34m.\u001b[0m\u001b[0minsert\u001b[0m\u001b[0;34m(\u001b[0m\u001b[0mInteger\u001b[0m\u001b[0;34m(\u001b[0m\u001b[0;36m0\u001b[0m\u001b[0;34m)\u001b[0m\u001b[0;34m,\u001b[0m \u001b[0mos\u001b[0m\u001b[0;34m.\u001b[0m\u001b[0mpath\u001b[0m\u001b[0;34m.\u001b[0m\u001b[0mabspath\u001b[0m\u001b[0;34m(\u001b[0m\u001b[0;34m\"..\"\u001b[0m\u001b[0;34m)\u001b[0m\u001b[0;34m)\u001b[0m\u001b[0;34m\u001b[0m\u001b[0;34m\u001b[0m\u001b[0m\n\u001b[1;32m      3\u001b[0m \u001b[0;34m\u001b[0m\u001b[0m\n\u001b[0;32m----> 4\u001b[0;31m \u001b[0;32mfrom\u001b[0m \u001b[0;34m.\u001b[0m\u001b[0;34m.\u001b[0m\u001b[0mdelierium\u001b[0m\u001b[0;34m.\u001b[0m\u001b[0mInfinitesimals\u001b[0m \u001b[0;32mimport\u001b[0m \u001b[0mprolongationODE\u001b[0m\u001b[0;34m\u001b[0m\u001b[0;34m\u001b[0m\u001b[0m\n\u001b[0m\u001b[1;32m      5\u001b[0m \u001b[0;32mfrom\u001b[0m \u001b[0;34m.\u001b[0m\u001b[0;34m.\u001b[0m\u001b[0mdelierium\u001b[0m\u001b[0;34m.\u001b[0m\u001b[0mJanetBasis\u001b[0m \u001b[0;32mimport\u001b[0m \u001b[0mJanet_Basis\u001b[0m\u001b[0;34m\u001b[0m\u001b[0;34m\u001b[0m\u001b[0m\n\u001b[1;32m      6\u001b[0m \u001b[0;32mfrom\u001b[0m \u001b[0;34m.\u001b[0m\u001b[0;34m.\u001b[0m\u001b[0mdelierium\u001b[0m\u001b[0;34m.\u001b[0m\u001b[0mMatrixOrder\u001b[0m \u001b[0;32mimport\u001b[0m \u001b[0mContext\u001b[0m\u001b[0;34m\u001b[0m\u001b[0;34m\u001b[0m\u001b[0m\n",
      "\u001b[0;31mImportError\u001b[0m: attempted relative import with no known parent package"
     ]
    }
   ],
   "source": [
    "import sys, os\n",
    "sys.path.insert(0, os.path.abspath(\"..\"))\n",
    "\n",
    "from ..delierium.Infinitesimals import prolongationODE\n",
    "from ..delierium.JanetBasis import Janet_Basis\n",
    "from ..delierium.MatrixOrder import Context\n",
    "from ..delierium.helpers import latexer\n",
    "from sage.misc.html import html\n",
    "from IPython.core.debugger import set_trace"
   ]
  },
  {
   "cell_type": "code",
   "execution_count": null,
   "id": "09a4b34a",
   "metadata": {},
   "outputs": [],
   "source": [
    "x = var('x')\n",
    "y=function('y')"
   ]
  },
  {
   "cell_type": "code",
   "execution_count": null,
   "id": "22b129e9",
   "metadata": {},
   "outputs": [],
   "source": [
    "ode=4*diff(y(x),x,x)*y(x) - 3* (diff(y(x),x)**2)-12*(y(x)**3)"
   ]
  },
  {
   "cell_type": "code",
   "execution_count": null,
   "id": "5b7f1d33",
   "metadata": {},
   "outputs": [],
   "source": [
    "p=prolongationODE(ode, y, x)"
   ]
  },
  {
   "cell_type": "code",
   "execution_count": null,
   "id": "97ac90fc",
   "metadata": {},
   "outputs": [],
   "source": [
    "for _p in p:\n",
    "    show(latexer(_p))"
   ]
  },
  {
   "cell_type": "code",
   "execution_count": null,
   "id": "89de1c73",
   "metadata": {},
   "outputs": [],
   "source": [
    "def infinitesimalsODE (ode, dependent, independent):\n",
    "    prolongation = prolongationODE(ode, dependent, independent)[0].expand()\n",
    "    s1  = solve(ode==0, diff(dependent(independent),independent,independent))\n",
    "    ode1= prolongation.subs({s1[0].lhs() : s1[0].rhs()}).simplify()\n",
    "    #print((ode1))\n",
    "    # so far it is checked manually and with mathematica\n",
    "    l = [_ [0] for _ in ode1.coefficients(diff(dependent(independent), independent))]\n",
    "    # remove hardcoded xi, phi\n",
    "    return l"
   ]
  },
  {
   "cell_type": "code",
   "execution_count": null,
   "id": "e524c658-6b1a-486e-8cb5-a6961261adc2",
   "metadata": {
    "tags": []
   },
   "outputs": [],
   "source": [
    "ode=4*diff(y(x),x,x)*y(x) - 3* diff(y(x),x)**2-12*y(x)**3\n",
    "inf = infinitesimalsODE(ode, y ,x)"
   ]
  },
  {
   "cell_type": "code",
   "execution_count": null,
   "id": "4b97b763-d32d-46c6-b902-dbb0217a0e0f",
   "metadata": {},
   "outputs": [],
   "source": [
    "for _ in inf:\n",
    "    show(latexer(_))"
   ]
  },
  {
   "cell_type": "code",
   "execution_count": null,
   "id": "06996069-2d0b-415f-bb23-aa54fbf0ba5b",
   "metadata": {},
   "outputs": [],
   "source": [
    "ode = diff(y(x),x,x)+3*y(x)*diff(y(x),x)+y(x)**3\n",
    "inf = infinitesimalsODE(ode, y ,x)\n",
    "for _ in inf:\n",
    "    show(latexer(_))"
   ]
  },
  {
   "cell_type": "code",
   "execution_count": null,
   "id": "892e76c9-3867-45d9-a74f-f337229bf53a",
   "metadata": {},
   "outputs": [],
   "source": [
    "ode=diff(y(x),x,x)"
   ]
  },
  {
   "cell_type": "code",
   "execution_count": null,
   "id": "34038f31-5026-4bf0-b72a-79aa5dc32d25",
   "metadata": {},
   "outputs": [],
   "source": [
    "inf = infinitesimalsODE(ode, y ,x)\n",
    "for _ in inf:\n",
    "    show(latexer(_))"
   ]
  },
  {
   "cell_type": "code",
   "execution_count": null,
   "id": "1e927c1d-983b-419d-a347-e07ced6c9682",
   "metadata": {},
   "outputs": [],
   "source": [
    "from delierium.helpers import latexer\n",
    "x,t = var('x t')\n",
    "u=function('u')(x,t)\n",
    "v=function('v')(x,t)\n",
    "ctx = Context([u,v],[x,t])\n",
    "jb = Janet_Basis([diff(v, t) - (u**2 +1)*diff(u, x)-u, diff(u,t)-diff(v,x)],[u,v],[x,t])\n",
    "for _ in jb.S:\n",
    "    show(latexer(_.expression()))"
   ]
  }
 ],
 "metadata": {
  "kernelspec": {
   "display_name": "SageMath 9.6",
   "language": "sage",
   "name": "sagemath"
  },
  "language_info": {
   "codemirror_mode": {
    "name": "ipython",
    "version": 3
   },
   "file_extension": ".py",
   "mimetype": "text/x-python",
   "name": "python",
   "nbconvert_exporter": "python",
   "pygments_lexer": "ipython3",
   "version": "3.10.6"
  },
  "widgets": {
   "application/vnd.jupyter.widget-state+json": {
    "state": {},
    "version_major": 2,
    "version_minor": 0
   }
  }
 },
 "nbformat": 4,
 "nbformat_minor": 5
}
