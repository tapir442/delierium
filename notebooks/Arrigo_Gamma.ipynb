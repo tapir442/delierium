{
 "cells": [
  {
   "cell_type": "code",
   "execution_count": 1,
   "id": "36624fda-c6b5-4178-8562-e67b710a902a",
   "metadata": {},
   "outputs": [],
   "source": [
    "from delierium.Infinitesimals import prolongationODE, infinitesimalsODE\n",
    "from delierium.JanetBasis import Janet_Basis\n",
    "from delierium.MatrixOrder import Context\n",
    "from delierium.helpers import latexer\n",
    "from sage.misc.html import html\n",
    "from IPython.core.debugger import set_trace\n",
    "from IPython.display import Math"
   ]
  },
  {
   "cell_type": "code",
   "execution_count": 2,
   "id": "d2d0af1a-bfcd-414b-a0e4-1bd37a7d6ed3",
   "metadata": {},
   "outputs": [],
   "source": [
    "def gamma (f):\n",
    "    X, Y = var('X Y')\n",
    "    \n",
    "\n",
    "x = var('x')\n",
    "y = function('y')\n",
    "\n",
    "ode = diff(y(x), x,x,x) + y(x)*diff(y(x),x,x)\n",
    "p = prolongationODE(ode, y,x)"
   ]
  },
  {
   "cell_type": "code",
   "execution_count": 3,
   "id": "98acc766-4bb0-45f4-b9e7-8599ffc3a27a",
   "metadata": {},
   "outputs": [
    {
     "data": {
      "text/plain": [
       "1"
      ]
     },
     "execution_count": 3,
     "metadata": {},
     "output_type": "execute_result"
    }
   ],
   "source": [
    "len(p)"
   ]
  },
  {
   "cell_type": "code",
   "execution_count": 4,
   "id": "31ff6c73-e707-4590-9731-ae8b51b1229b",
   "metadata": {},
   "outputs": [
    {
     "data": {
      "text/latex": [
       "$\\displaystyle -y  \\xi_{yy} y_{x}^3 -  \\xi_{yyy} y_{x}^4 + y  \\phi_{yy} y_{x}^2 - 2 y  \\xi_{yx} y_{x}^2 +  \\phi_{yyy} y_{x}^3 - 3  \\xi_{yyx} y_{x}^3 - 3 y  \\xi_{y} y_{x} y_{x x} - 6  \\xi_{yy} y_{x}^2 y_{x x} + 2 y  \\phi_{yx} y_{x} - y  \\xi_{xx} y_{x} + 3  \\phi_{yyx} y_{x}^2 - 3  \\xi_{yxx} y_{x}^2 + y  \\phi_{y} y_{x x} - 2 y  \\xi_{x} y_{x x} + 3  \\phi_{yy} y_{x} y_{x x} - 9  \\xi_{yx} y_{x} y_{x x} - 3  \\xi_{y} y_{x x}^2 - 4  \\xi_{y} y_{x} y_{x x x} + y  \\phi_{xx} + 3  \\phi_{yxx} y_{x} -  \\xi_{xxx} y_{x} + \\phi y_{x x} + 3  \\phi_{yx} y_{x x} - 3  \\xi_{xx} y_{x x} +  \\phi_{y} y_{x x x} - 3  \\xi_{x} y_{x x x} +  \\phi_{xxx}$"
      ],
      "text/plain": [
       "<IPython.core.display.Math object>"
      ]
     },
     "metadata": {},
     "output_type": "display_data"
    }
   ],
   "source": [
    "display(Math(latexer(p[0])))"
   ]
  },
  {
   "cell_type": "code",
   "execution_count": 5,
   "id": "d1f2ea7b-6555-4829-a389-9932b05452f1",
   "metadata": {},
   "outputs": [
    {
     "data": {
      "text/latex": [
       "$\\displaystyle -y  \\xi_{yy} y_{x}^3 -  \\xi_{yyy} y_{x}^4 + y  \\phi_{yy} y_{x}^2 - 2 y  \\xi_{yx} y_{x}^2 +  \\phi_{yyy} y_{x}^3 - 3  \\xi_{yyx} y_{x}^3 - 3 y  \\xi_{y} y_{x} y_{x x} - 6  \\xi_{yy} y_{x}^2 y_{x x} + 2 y  \\phi_{yx} y_{x} - y  \\xi_{xx} y_{x} + 3  \\phi_{yyx} y_{x}^2 - 3  \\xi_{yxx} y_{x}^2 + y  \\phi_{y} y_{x x} - 2 y  \\xi_{x} y_{x x} + 3  \\phi_{yy} y_{x} y_{x x} - 9  \\xi_{yx} y_{x} y_{x x} - 3  \\xi_{y} y_{x x}^2 - 4  \\xi_{y} y_{x} y_{x x x} + y  \\phi_{xx} + 3  \\phi_{yxx} y_{x} -  \\xi_{xxx} y_{x} + \\phi y_{x x} + 3  \\phi_{yx} y_{x x} - 3  \\xi_{xx} y_{x x} +  \\phi_{y} y_{x x x} - 3  \\xi_{x} y_{x x x} +  \\phi_{xxx}$"
      ],
      "text/plain": [
       "<IPython.core.display.Math object>"
      ]
     },
     "metadata": {},
     "output_type": "display_data"
    },
    {
     "name": "stdout",
     "output_type": "stream",
     "text": [
      "> \u001b[0;32m/researches/delierium/delierium/Infinitesimals.py\u001b[0m(129)\u001b[0;36minfinitesimalsODE\u001b[0;34m()\u001b[0m\n",
      "\u001b[0;32m    127 \u001b[0;31m    \u001b[0;31m# ToDo: find the highest order of derivative\u001b[0m\u001b[0;34m\u001b[0m\u001b[0;34m\u001b[0m\u001b[0m\n",
      "\u001b[0m\u001b[0;32m    128 \u001b[0;31m    \u001b[0mset_trace\u001b[0m\u001b[0;34m(\u001b[0m\u001b[0;34m)\u001b[0m\u001b[0;34m\u001b[0m\u001b[0;34m\u001b[0m\u001b[0m\n",
      "\u001b[0m\u001b[0;32m--> 129 \u001b[0;31m    \u001b[0ms1\u001b[0m  \u001b[0;34m=\u001b[0m \u001b[0msolve\u001b[0m\u001b[0;34m(\u001b[0m\u001b[0mode\u001b[0m\u001b[0;34m==\u001b[0m\u001b[0;36m0\u001b[0m\u001b[0;34m,\u001b[0m \u001b[0mdiff\u001b[0m\u001b[0;34m(\u001b[0m\u001b[0mdependent\u001b[0m\u001b[0;34m(\u001b[0m\u001b[0mindependent\u001b[0m\u001b[0;34m)\u001b[0m\u001b[0;34m,\u001b[0m\u001b[0mindependent\u001b[0m\u001b[0;34m,\u001b[0m \u001b[0;36m3\u001b[0m\u001b[0;34m)\u001b[0m\u001b[0;34m)\u001b[0m\u001b[0;34m\u001b[0m\u001b[0;34m\u001b[0m\u001b[0m\n",
      "\u001b[0m\u001b[0;32m    130 \u001b[0;31m    \u001b[0mode1\u001b[0m\u001b[0;34m=\u001b[0m \u001b[0mprolongation\u001b[0m\u001b[0;34m.\u001b[0m\u001b[0msubs\u001b[0m\u001b[0;34m(\u001b[0m\u001b[0;34m{\u001b[0m\u001b[0ms1\u001b[0m\u001b[0;34m[\u001b[0m\u001b[0;36m0\u001b[0m\u001b[0;34m]\u001b[0m\u001b[0;34m.\u001b[0m\u001b[0mlhs\u001b[0m\u001b[0;34m(\u001b[0m\u001b[0;34m)\u001b[0m \u001b[0;34m:\u001b[0m \u001b[0ms1\u001b[0m\u001b[0;34m[\u001b[0m\u001b[0;36m0\u001b[0m\u001b[0;34m]\u001b[0m\u001b[0;34m.\u001b[0m\u001b[0mrhs\u001b[0m\u001b[0;34m(\u001b[0m\u001b[0;34m)\u001b[0m\u001b[0;34m}\u001b[0m\u001b[0;34m)\u001b[0m\u001b[0;34m.\u001b[0m\u001b[0msimplify\u001b[0m\u001b[0;34m(\u001b[0m\u001b[0;34m)\u001b[0m\u001b[0;34m\u001b[0m\u001b[0;34m\u001b[0m\u001b[0m\n",
      "\u001b[0m\u001b[0;32m    131 \u001b[0;31m    \u001b[0mdisplay\u001b[0m\u001b[0;34m(\u001b[0m\u001b[0mMath\u001b[0m\u001b[0;34m(\u001b[0m\u001b[0mlatexer\u001b[0m\u001b[0;34m(\u001b[0m\u001b[0mode1\u001b[0m\u001b[0;34m)\u001b[0m\u001b[0;34m)\u001b[0m\u001b[0;34m)\u001b[0m\u001b[0;34m\u001b[0m\u001b[0;34m\u001b[0m\u001b[0m\n",
      "\u001b[0m\n"
     ]
    },
    {
     "name": "stdin",
     "output_type": "stream",
     "text": [
      "ipdb>  c\n"
     ]
    },
    {
     "data": {
      "text/latex": [
       "$\\displaystyle -y  \\xi_{yy} y_{x}^3 -  \\xi_{yyy} y_{x}^4 + y  \\phi_{yy} y_{x}^2 - 2 y  \\xi_{yx} y_{x}^2 +  \\phi_{yyy} y_{x}^3 - 3  \\xi_{yyx} y_{x}^3 + y  \\xi_{y} y_{x} y_{x x} - 6  \\xi_{yy} y_{x}^2 y_{x x} + 2 y  \\phi_{yx} y_{x} - y  \\xi_{xx} y_{x} + 3  \\phi_{yyx} y_{x}^2 - 3  \\xi_{yxx} y_{x}^2 + y  \\xi_{x} y_{x x} + 3  \\phi_{yy} y_{x} y_{x x} - 9  \\xi_{yx} y_{x} y_{x x} - 3  \\xi_{y} y_{x x}^2 + y  \\phi_{xx} + 3  \\phi_{yxx} y_{x} -  \\xi_{xxx} y_{x} + \\phi y_{x x} + 3  \\phi_{yx} y_{x x} - 3  \\xi_{xx} y_{x x} +  \\phi_{xxx}$"
      ],
      "text/plain": [
       "<IPython.core.display.Math object>"
      ]
     },
     "metadata": {},
     "output_type": "display_data"
    }
   ],
   "source": [
    "ode = diff(y(x), x,x,x) + y(x)*diff(y(x),x,x)\n",
    "i = infinitesimalsODE(ode, y,x)"
   ]
  },
  {
   "cell_type": "code",
   "execution_count": 6,
   "id": "6d3186e3-6dec-4b1a-a4ea-aa9ffc3fb6d1",
   "metadata": {},
   "outputs": [
    {
     "name": "stdout",
     "output_type": "stream",
     "text": [
      "[-y(x)*D[0, 0](xi)(y(x), x)*diff(y(x), x)^3 - D[0, 0, 0](xi)(y(x), x)*diff(y(x), x)^4 + y(x)*D[0, 0](phi)(y(x), x)*diff(y(x), x)^2 - 2*y(x)*D[0, 1](xi)(y(x), x)*diff(y(x), x)^2 + D[0, 0, 0](phi)(y(x), x)*diff(y(x), x)^3 - 3*D[0, 0, 1](xi)(y(x), x)*diff(y(x), x)^3 + y(x)*D[0](xi)(y(x), x)*diff(y(x), x)*diff(y(x), x, x) - 6*D[0, 0](xi)(y(x), x)*diff(y(x), x)^2*diff(y(x), x, x) + 2*y(x)*D[0, 1](phi)(y(x), x)*diff(y(x), x) - y(x)*D[1, 1](xi)(y(x), x)*diff(y(x), x) + 3*D[0, 0, 1](phi)(y(x), x)*diff(y(x), x)^2 - 3*D[0, 1, 1](xi)(y(x), x)*diff(y(x), x)^2 + y(x)*D[1](xi)(y(x), x)*diff(y(x), x, x) + 3*D[0, 0](phi)(y(x), x)*diff(y(x), x)*diff(y(x), x, x) - 9*D[0, 1](xi)(y(x), x)*diff(y(x), x)*diff(y(x), x, x) - 3*D[0](xi)(y(x), x)*diff(y(x), x, x)^2 + y(x)*D[1, 1](phi)(y(x), x) + 3*D[0, 1, 1](phi)(y(x), x)*diff(y(x), x) - D[1, 1, 1](xi)(y(x), x)*diff(y(x), x) + phi(y(x), x)*diff(y(x), x, x) + 3*D[0, 1](phi)(y(x), x)*diff(y(x), x, x) - 3*D[1, 1](xi)(y(x), x)*diff(y(x), x, x) + D[1, 1, 1](phi)(y(x), x)]\n"
     ]
    }
   ],
   "source": [
    "print(i)"
   ]
  },
  {
   "cell_type": "code",
   "execution_count": 7,
   "id": "dfa27602-f042-43e3-a629-73115d291ea4",
   "metadata": {},
   "outputs": [
    {
     "data": {
      "text/latex": [
       "$\\displaystyle -y  \\xi_{yy} y_{x}^3 -  \\xi_{yyy} y_{x}^4 + y  \\phi_{yy} y_{x}^2 - 2 y  \\xi_{yx} y_{x}^2 +  \\phi_{yyy} y_{x}^3 - 3  \\xi_{yyx} y_{x}^3 + y  \\xi_{y} y_{x} y_{x x} - 6  \\xi_{yy} y_{x}^2 y_{x x} + 2 y  \\phi_{yx} y_{x} - y  \\xi_{xx} y_{x} + 3  \\phi_{yyx} y_{x}^2 - 3  \\xi_{yxx} y_{x}^2 + y  \\xi_{x} y_{x x} + 3  \\phi_{yy} y_{x} y_{x x} - 9  \\xi_{yx} y_{x} y_{x x} - 3  \\xi_{y} y_{x x}^2 + y  \\phi_{xx} + 3  \\phi_{yxx} y_{x} -  \\xi_{xxx} y_{x} + \\phi y_{x x} + 3  \\phi_{yx} y_{x x} - 3  \\xi_{xx} y_{x x} +  \\phi_{xxx}$"
      ],
      "text/plain": [
       "<IPython.core.display.Math object>"
      ]
     },
     "metadata": {},
     "output_type": "display_data"
    }
   ],
   "source": [
    "i=i[0]\n",
    "display(Math(latexer(i)))"
   ]
  },
  {
   "cell_type": "code",
   "execution_count": null,
   "id": "419f28d5-f41f-41cc-b082-d5e1c4472964",
   "metadata": {},
   "outputs": [],
   "source": []
  }
 ],
 "metadata": {
  "kernelspec": {
   "display_name": "SageMath 9.6",
   "language": "sage",
   "name": "sagemath"
  },
  "language_info": {
   "codemirror_mode": {
    "name": "ipython",
    "version": 3
   },
   "file_extension": ".py",
   "mimetype": "text/x-python",
   "name": "python",
   "nbconvert_exporter": "python",
   "pygments_lexer": "ipython3",
   "version": "3.10.6"
  },
  "widgets": {
   "application/vnd.jupyter.widget-state+json": {
    "state": {},
    "version_major": 2,
    "version_minor": 0
   }
  }
 },
 "nbformat": 4,
 "nbformat_minor": 5
}
