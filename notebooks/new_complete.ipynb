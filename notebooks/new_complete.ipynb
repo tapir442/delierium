{
 "cells": [
  {
   "cell_type": "code",
   "execution_count": 1,
   "id": "a83f37a7-78f1-42a7-bdcc-ab4b1b8d35aa",
   "metadata": {},
   "outputs": [],
   "source": [
    "from delierium.Infinitesimals import prolongationODE, overdeterminedSystemODE\n",
    "from delierium.helpers import latexer\n",
    "from delierium.JanetBasis import Janet_Basis, complete,_Differential_Polynomial, vec_multipliers\n",
    "from delierium.MatrixOrder import Context\n",
    "from sage.all import *\n",
    "from IPython.core.debugger import set_trace\n",
    "from IPython.display import Math"
   ]
  },
  {
   "cell_type": "code",
   "execution_count": 6,
   "id": "329c098e-e509-424a-8bfe-7b90af7a7977",
   "metadata": {},
   "outputs": [
    {
     "name": "stdout",
     "output_type": "stream",
     "text": [
      "[0, 0, 0, 1, 1]\n",
      "[0, 0, 1, 0, 1]\n",
      "[0, 1, 0, 0, 1]\n",
      "[0, 0, 0, 2, 0]\n",
      "[0, 0, 1, 1, 0]\n",
      "[0, 0, 2, 0, 0]\n",
      "_multipliers=[3, 2, 1, 0], _nonmultipliers=[4], monom=[0, 0, 0, 1, 1]\n",
      "_multipliers=[2, 1, 0], _nonmultipliers=[3, 4], monom=[0, 0, 1, 0, 1]\n",
      "_multipliers=[1, 0], _nonmultipliers=[2, 3, 4], monom=[0, 1, 0, 0, 1]\n",
      "_multipliers=[3, 2, 1, 0], _nonmultipliers=[4], monom=[0, 0, 0, 2, 0]\n",
      "_multipliers=[2, 1, 0], _nonmultipliers=[3, 4], monom=[0, 0, 1, 1, 0]\n",
      "_multipliers=[2, 1, 0], _nonmultipliers=[3, 4], monom=[0, 0, 2, 0, 0]\n",
      "> \u001b[0;32m/tmp/ipykernel_40777/422974928.py\u001b[0m(28)\u001b[0;36mcomplete\u001b[0;34m()\u001b[0m\n",
      "\u001b[0;32m     26 \u001b[0;31m        \u001b[0mto_remove\u001b[0m \u001b[0;34m=\u001b[0m \u001b[0;34m[\u001b[0m\u001b[0;34m]\u001b[0m\u001b[0;34m\u001b[0m\u001b[0;34m\u001b[0m\u001b[0m\n",
      "\u001b[0m\u001b[0;32m     27 \u001b[0;31m        \u001b[0mset_trace\u001b[0m\u001b[0;34m(\u001b[0m\u001b[0;34m)\u001b[0m\u001b[0;34m\u001b[0m\u001b[0;34m\u001b[0m\u001b[0m\n",
      "\u001b[0m\u001b[0;32m---> 28 \u001b[0;31m        \u001b[0;32mfor\u001b[0m \u001b[0m_m0\u001b[0m \u001b[0;32min\u001b[0m \u001b[0mm0\u001b[0m\u001b[0;34m:\u001b[0m\u001b[0;34m\u001b[0m\u001b[0;34m\u001b[0m\u001b[0m\n",
      "\u001b[0m\u001b[0;32m     29 \u001b[0;31m            \u001b[0;31m# S3: check whether in class of any of the monomials\u001b[0m\u001b[0;34m\u001b[0m\u001b[0;34m\u001b[0m\u001b[0m\n",
      "\u001b[0m\u001b[0;32m     30 \u001b[0;31m            \u001b[0;32mfor\u001b[0m \u001b[0mmonomial\u001b[0m\u001b[0;34m,\u001b[0m \u001b[0mmultipliers\u001b[0m\u001b[0;34m,\u001b[0m \u001b[0mnonmultipliers\u001b[0m \u001b[0;32min\u001b[0m \u001b[0mmultiplier_collection\u001b[0m\u001b[0;34m:\u001b[0m\u001b[0;34m\u001b[0m\u001b[0;34m\u001b[0m\u001b[0m\n",
      "\u001b[0m\n"
     ]
    },
    {
     "name": "stdin",
     "output_type": "stream",
     "text": [
      "ipdb>  c\n"
     ]
    },
    {
     "name": "stdout",
     "output_type": "stream",
     "text": [
      "[0, 0, 0, 1, 1]\n",
      "[0, 0, 1, 0, 1]\n",
      "[0, 1, 0, 0, 1]\n",
      "[0, 0, 0, 2, 0]\n",
      "[0, 0, 1, 1, 0]\n",
      "[0, 0, 2, 0, 0]\n",
      "[0, 0, 0, 1, 2]\n",
      "[0, 0, 1, 0, 2]\n",
      "[0, 1, 0, 0, 2]\n",
      "_multipliers=[3, 2, 1, 0], _nonmultipliers=[4], monom=[0, 0, 0, 1, 1]\n",
      "_multipliers=[2, 1, 0], _nonmultipliers=[3, 4], monom=[0, 0, 1, 0, 1]\n",
      "_multipliers=[1, 0], _nonmultipliers=[2, 3, 4], monom=[0, 1, 0, 0, 1]\n",
      "_multipliers=[3, 2, 1, 0], _nonmultipliers=[4], monom=[0, 0, 0, 2, 0]\n",
      "_multipliers=[2, 1, 0], _nonmultipliers=[3, 4], monom=[0, 0, 1, 1, 0]\n",
      "_multipliers=[2, 1, 0], _nonmultipliers=[3, 4], monom=[0, 0, 2, 0, 0]\n",
      "_multipliers=[4, 3, 2, 1, 0], _nonmultipliers=[], monom=[0, 0, 0, 1, 2]\n",
      "_multipliers=[4, 2, 1, 0], _nonmultipliers=[3], monom=[0, 0, 1, 0, 2]\n",
      "_multipliers=[4, 1, 0], _nonmultipliers=[2, 3], monom=[0, 1, 0, 0, 2]\n",
      "> \u001b[0;32m/tmp/ipykernel_40777/422974928.py\u001b[0m(28)\u001b[0;36mcomplete\u001b[0;34m()\u001b[0m\n",
      "\u001b[0;32m     26 \u001b[0;31m        \u001b[0mto_remove\u001b[0m \u001b[0;34m=\u001b[0m \u001b[0;34m[\u001b[0m\u001b[0;34m]\u001b[0m\u001b[0;34m\u001b[0m\u001b[0;34m\u001b[0m\u001b[0m\n",
      "\u001b[0m\u001b[0;32m     27 \u001b[0;31m        \u001b[0mset_trace\u001b[0m\u001b[0;34m(\u001b[0m\u001b[0;34m)\u001b[0m\u001b[0;34m\u001b[0m\u001b[0;34m\u001b[0m\u001b[0m\n",
      "\u001b[0m\u001b[0;32m---> 28 \u001b[0;31m        \u001b[0;32mfor\u001b[0m \u001b[0m_m0\u001b[0m \u001b[0;32min\u001b[0m \u001b[0mm0\u001b[0m\u001b[0;34m:\u001b[0m\u001b[0;34m\u001b[0m\u001b[0;34m\u001b[0m\u001b[0m\n",
      "\u001b[0m\u001b[0;32m     29 \u001b[0;31m            \u001b[0;31m# S3: check whether in class of any of the monomials\u001b[0m\u001b[0;34m\u001b[0m\u001b[0;34m\u001b[0m\u001b[0m\n",
      "\u001b[0m\u001b[0;32m     30 \u001b[0;31m            \u001b[0;32mfor\u001b[0m \u001b[0mmonomial\u001b[0m\u001b[0;34m,\u001b[0m \u001b[0mmultipliers\u001b[0m\u001b[0;34m,\u001b[0m \u001b[0mnonmultipliers\u001b[0m \u001b[0;32min\u001b[0m \u001b[0mmultiplier_collection\u001b[0m\u001b[0;34m:\u001b[0m\u001b[0;34m\u001b[0m\u001b[0;34m\u001b[0m\u001b[0m\n",
      "\u001b[0m\n"
     ]
    },
    {
     "name": "stdin",
     "output_type": "stream",
     "text": [
      "ipdb>  c\n"
     ]
    },
    {
     "data": {
      "text/plain": [
       "[[0, 0, 0, 1, 1],\n",
       " [0, 0, 1, 0, 1],\n",
       " [0, 1, 0, 0, 1],\n",
       " [0, 0, 0, 2, 0],\n",
       " [0, 0, 1, 1, 0],\n",
       " [0, 0, 2, 0, 0],\n",
       " [0, 0, 0, 1, 2],\n",
       " [0, 0, 1, 0, 2],\n",
       " [0, 1, 0, 0, 2]]"
      ]
     },
     "execution_count": 6,
     "metadata": {},
     "output_type": "execute_result"
    }
   ],
   "source": [
    "def complete(S):\n",
    "    def map_old_to_new(v):\n",
    "        return v\n",
    "    result = S[:]\n",
    "    while 1:\n",
    "        for _ in result:\n",
    "            print(_)\n",
    "        monomials = result[:]\n",
    "        m0 = []\n",
    "        multiplier_collection = []\n",
    "        for monom in monomials:\n",
    "            # S1\n",
    "            _multipliers, _nonmultipliers = vec_multipliers(monom, monomials, [4,3,2,1,0])\n",
    "            print(f\"{_multipliers=}, {_nonmultipliers=}, {monom=}\")\n",
    "            multiplier_collection.append((monom, _multipliers, _nonmultipliers))\n",
    "        for monom, multipliers, nonmultipliers in multiplier_collection:\n",
    "            if not nonmultipliers:\n",
    "                m0.append((monom,[], multipliers))\n",
    "            else:\n",
    "                # todo: do we need subsets or is a multiplication by only one\n",
    "                # nonmultiplier one after the other enough ?\n",
    "                for n in nonmultipliers:\n",
    "                    _m0 = list(monom)\n",
    "                    _m0[n] += 1\n",
    "                    m0.append((_m0, n, multipliers))\n",
    "        to_remove = []\n",
    "        set_trace()\n",
    "        for _m0 in m0:\n",
    "            # S3: check whether in class of any of the monomials\n",
    "            for monomial, multipliers, nonmultipliers in multiplier_collection:\n",
    "                if all(_m0[0][x] >= monomial[x] for x in multipliers) and \\\n",
    "                   all(_m0[0][x] == monomial[x] for x in nonmultipliers):\n",
    "                    # this is in _m0's class\n",
    "                    to_remove.append(_m0)\n",
    "        for _to in to_remove:\n",
    "            try:\n",
    "                m0.remove(_to)\n",
    "            except:\n",
    "                pass\n",
    "        if not m0:\n",
    "            return result\n",
    "        result += [_[0] for _ in m0 if _[0] not in result]\n",
    "\n",
    "# Example 3.2.6 from Iohara/Malbos, p.24\n",
    "dp1 = [0,0,0,1,1]\n",
    "dp2 = [0,0,1,0,1]\n",
    "dp3 = [0,1,0,0,1]\n",
    "dp4 = [0,0,0,2,0]\n",
    "dp5 = [0,0,1,1,0]\n",
    "dp6 = [0,0,2,0,0]\n",
    "l = [_ for _ in [dp1, dp2,dp3,dp4,dp5,dp6]]\n",
    "complete(l)\n",
    "        "
   ]
  },
  {
   "cell_type": "code",
   "execution_count": null,
   "id": "bec99fd6-d2b3-4a3e-b83a-1cf43391b876",
   "metadata": {},
   "outputs": [],
   "source": []
  }
 ],
 "metadata": {
  "kernelspec": {
   "display_name": "SageMath 10.0",
   "language": "sage",
   "name": "sagemath"
  },
  "language_info": {
   "codemirror_mode": {
    "name": "ipython",
    "version": 3
   },
   "file_extension": ".py",
   "mimetype": "text/x-python",
   "name": "python",
   "nbconvert_exporter": "python",
   "pygments_lexer": "ipython3",
   "version": "3.11.6"
  }
 },
 "nbformat": 4,
 "nbformat_minor": 5
}
