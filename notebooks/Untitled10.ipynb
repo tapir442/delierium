{
 "cells": [
  {
   "cell_type": "code",
   "execution_count": 4,
   "id": "985efe37-3e76-40f5-9051-35342fe833e3",
   "metadata": {},
   "outputs": [
    {
     "name": "stdout",
     "output_type": "stream",
     "text": [
      "$1^2*$0*sin(x)\n",
      "True\n",
      "arctan(x^2)\n"
     ]
    }
   ],
   "source": [
    "x,y = var('x,y')\n",
    "w0 = SR.wild(0); w1 = SR.wild(1)\n",
    "pattern = sin(x)*w0*w1^2; print(pattern)\n",
    "f = atan(sin(x)*3*x^2); f\n",
    "print(f.has(pattern))\n",
    "print(f.subs(pattern == x^2))\n"
   ]
  },
  {
   "cell_type": "code",
   "execution_count": null,
   "id": "570cadba-9b56-42e4-8c9f-3657fdcec26e",
   "metadata": {},
   "outputs": [],
   "source": []
  }
 ],
 "metadata": {
  "kernelspec": {
   "display_name": "SageMath 10.2",
   "language": "sage",
   "name": "sagemath"
  },
  "language_info": {
   "codemirror_mode": {
    "name": "ipython",
    "version": 3
   },
   "file_extension": ".py",
   "mimetype": "text/x-python",
   "name": "python",
   "nbconvert_exporter": "python",
   "pygments_lexer": "ipython3",
   "version": "3.11.7"
  }
 },
 "nbformat": 4,
 "nbformat_minor": 5
}
