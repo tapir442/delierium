{
 "cells": [
  {
   "cell_type": "code",
   "execution_count": 3,
   "id": "f2f08a91-9be7-4816-b8c1-b2b1404ad882",
   "metadata": {},
   "outputs": [
    {
     "name": "stdout",
     "output_type": "stream",
     "text": [
      "Counter({'blue': 3, 'red': 2, 'yellow': 1})\n"
     ]
    }
   ],
   "source": [
    "from collections import Counter\n",
    "z = ['blue', 'red', 'blue', 'yellow', 'blue', 'red']\n",
    "c = Counter(z)\n",
    "print(c)"
   ]
  },
  {
   "cell_type": "code",
   "execution_count": 20,
   "id": "02dca2a8-3b17-4a26-b5ef-fd6ee50f34dc",
   "metadata": {},
   "outputs": [],
   "source": [
    "k=[_ for _  in c.items() if _[1] == 1]"
   ]
  },
  {
   "cell_type": "code",
   "execution_count": 21,
   "id": "4e0e73f6-5459-4b12-9681-02dc523d95d5",
   "metadata": {},
   "outputs": [
    {
     "data": {
      "text/plain": [
       "[('yellow', 1)]"
      ]
     },
     "execution_count": 21,
     "metadata": {},
     "output_type": "execute_result"
    }
   ],
   "source": [
    "k"
   ]
  },
  {
   "cell_type": "code",
   "execution_count": 15,
   "id": "c120b346-cc3d-4dc3-85e9-3dc783d20075",
   "metadata": {},
   "outputs": [
    {
     "name": "stdout",
     "output_type": "stream",
     "text": [
      "('blue', 3)\n",
      "('red', 2)\n",
      "('yellow', 1)\n"
     ]
    }
   ],
   "source": [
    "for _ in c.items():\n",
    "    print(_, _[0]"
   ]
  },
  {
   "cell_type": "code",
   "execution_count": null,
   "id": "cfe15928-d181-400f-829f-c273ca961b70",
   "metadata": {},
   "outputs": [],
   "source": []
  }
 ],
 "metadata": {
  "kernelspec": {
   "display_name": "Python 3 (ipykernel)",
   "language": "python",
   "name": "python3"
  },
  "language_info": {
   "codemirror_mode": {
    "name": "ipython",
    "version": 3
   },
   "file_extension": ".py",
   "mimetype": "text/x-python",
   "name": "python",
   "nbconvert_exporter": "python",
   "pygments_lexer": "ipython3",
   "version": "3.11.6"
  }
 },
 "nbformat": 4,
 "nbformat_minor": 5
}
