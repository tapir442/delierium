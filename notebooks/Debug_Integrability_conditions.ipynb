{
 "cells": [
  {
   "cell_type": "code",
   "execution_count": 1,
   "id": "19a82796-a686-4c41-b9b1-68cb20e5f64c",
   "metadata": {},
   "outputs": [],
   "source": [
    "from delierium.Infinitesimals import prolongationODE, overdeterminedSystemODE\n",
    "from delierium.helpers import latexer\n",
    "from delierium.JanetBasis import Janet_Basis, FindIntegrableConditions, _Differential_Polynomial\n",
    "from delierium.MatrixOrder import Context\n",
    "from sage.all import *\n",
    "from IPython.core.debugger import set_trace\n",
    "from IPython.display import Math"
   ]
  },
  {
   "cell_type": "code",
   "execution_count": 2,
   "id": "f0e0238c-c8d0-4d54-a22f-529fe4fd492d",
   "metadata": {},
   "outputs": [],
   "source": [
    "x, y = var(\"x  y\")\n",
    "w = function(\"w\")(x,y)\n",
    "z = function(\"z\")(x,y)\n",
    "ctx = Context([w, z], [x,y])\n",
    "dp = _Differential_Polynomial\n",
    "g1 = dp(diff(z, y, y) + diff(z,y)/(2*y),ctx)\n",
    "g2 = dp(diff(w, x, x) + 4*(y**2)*diff(w,y) - 8*(y**2)*diff(z, x) - 8*y*w, ctx)\n",
    "g3 = dp(diff(w, x, y) - diff(z, x, x)/2 - diff(w,x) /(2*y) - 6*y**2 * diff(z, y), ctx)\n",
    "g4 = dp(diff(w, y ,y) - 2* diff(z, x, y) - diff(w, y)/(2*y) + w / (2*y**2), ctx)\n",
    "g1.show()\n",
    "g2.show()\n",
    "g3.show()\n",
    "g4.show()\n",
    "#i1 = FindIntegrableConditions([g1], ctx)\n",
    "i2 = FindIntegrableConditions([g2, g3, g4], ctx)"
   ]
  },
  {
   "cell_type": "code",
   "execution_count": 3,
   "id": "8f4254dc-80d8-433a-9f6c-ead2c93685f3",
   "metadata": {},
   "outputs": [
    {
     "name": "stdout",
     "output_type": "stream",
     "text": [
      "[-4*y^2*diff(w(x, y), y, y) + 2*y^2*diff(z(x, y), x, y) + 16*y*diff(z(x, y), x) - 1/2*diff(w(x, y), x, x)/y + 8*w(x, y) - 1/2*diff(z(x, y), x, x, x), 6*y^2*diff(z(x, y), y, y) + 12*y*diff(z(x, y), y) - 3/2*diff(z(x, y), x, x, y)]\n"
     ]
    }
   ],
   "source": [
    "print(i2)"
   ]
  },
  {
   "cell_type": "code",
   "execution_count": null,
   "id": "47e66027-8a6d-4df9-a4d5-fdacb0e80bff",
   "metadata": {},
   "outputs": [],
   "source": []
  },
  {
   "cell_type": "code",
   "execution_count": null,
   "id": "3d99ec03-b84f-4039-9fdf-d5b9bae6159a",
   "metadata": {},
   "outputs": [],
   "source": []
  }
 ],
 "metadata": {
  "kernelspec": {
   "display_name": "SageMath 10.0",
   "language": "sage",
   "name": "sagemath"
  },
  "language_info": {
   "codemirror_mode": {
    "name": "ipython",
    "version": 3
   },
   "file_extension": ".py",
   "mimetype": "text/x-python",
   "name": "python",
   "nbconvert_exporter": "python",
   "pygments_lexer": "ipython3",
   "version": "3.11.6"
  }
 },
 "nbformat": 4,
 "nbformat_minor": 5
}
