{
 "cells": [
  {
   "cell_type": "code",
   "execution_count": 1,
   "id": "622a63ec-0319-4362-af57-c912f93296eb",
   "metadata": {},
   "outputs": [],
   "source": [
    "# kamke 1"
   ]
  },
  {
   "cell_type": "code",
   "execution_count": null,
   "id": "46d8ea95-db5b-4db8-af72-dfcd8331e441",
   "metadata": {},
   "outputs": [],
   "source": []
  }
 ],
 "metadata": {
  "kernelspec": {
   "display_name": "SageMath 10.2",
   "language": "sage",
   "name": "sagemath"
  },
  "language_info": {
   "codemirror_mode": {
    "name": "ipython",
    "version": 3
   },
   "file_extension": ".py",
   "mimetype": "text/x-python",
   "name": "python",
   "nbconvert_exporter": "python",
   "pygments_lexer": "ipython3",
   "version": "3.11.10"
  }
 },
 "nbformat": 4,
 "nbformat_minor": 5
}
