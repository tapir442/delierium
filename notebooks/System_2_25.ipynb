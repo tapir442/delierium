{
 "cells": [
  {
   "cell_type": "code",
   "execution_count": 1,
   "id": "b39e2f41-3eb2-447d-b7e3-ac83b0d9ee73",
   "metadata": {},
   "outputs": [],
   "source": [
    "from sage.all import *\n",
    "from delierium.MatrixOrder import Context, Mgrlex, Mgrevlex, Mlex\n",
    "from delierium.JanetBasis import Janet_Basis\n",
    "from delierium.helpers import latexer\n",
    "\n",
    "vars = var (\"x y\")\n",
    "z = function(\"z\")(*vars)\n",
    "w = function(\"w\")(*vars)\n",
    "# ctx: items are in descending order\n",
    "ctx_grevlex_g = Context((w,z), vars, Mgrevlex)\n",
    "ctx_grlex_g   = Context((w,z), vars, Mgrlex)\n",
    "ctx_lex_g     = Context((w,z), vars, Mlex)\n",
    "\n",
    "g1 = diff(z, y,y) + diff(z,y)/(2*y)\n",
    "g2 = diff(w,x,x) + 4*diff(w,y)*y**2 - 8*(y**2) * diff(z,x) - 8*w*y\n",
    "g3 = diff(w,x,y) - diff(z,x,x)/2 - diff(w,x)/(2*y) - 6* (y**2) * diff(z,y)\n",
    "g4 = diff(w,y,y) - 2*diff(z,x,y) - diff(w,y)/(2*y) + w/(2*y**2)\n",
    "\n",
    "system_2_25 = [g2,g3,g4,g1]"
   ]
  },
  {
   "cell_type": "code",
   "execution_count": 2,
   "id": "63f7f783-5626-4c8b-ac78-cb23421fddb3",
   "metadata": {},
   "outputs": [
    {
     "name": "stdout",
     "output_type": "stream",
     "text": [
      "This is where we start\n",
      "diff(z(x, y), y, y) + (1/2/y) * diff(z(x, y), y)\n",
      "diff(w(x, y), y, y) + (-2) * diff(z(x, y), x, y) + (-1/2/y) * diff(w(x, y), y) + (1/2/y^2) * w(x, y)\n",
      "diff(w(x, y), x, y) + (-1/2) * diff(z(x, y), x, x) + (-1/2/y) * diff(w(x, y), x) + (-6*y^2) * diff(z(x, y), y)\n",
      "diff(w(x, y), x, x) + (4*y^2) * diff(w(x, y), y) + (-8*y^2) * diff(z(x, y), x) + (-8*y) * w(x, y)\n"
     ]
    },
    {
     "data": {
      "text/html": [
       "<html>\\(\\displaystyle \\frac{\\partial^{2}}{(\\partial y)^{2}}z\\left(x, y\\right)\\)</html>"
      ],
      "text/latex": [
       "$\\displaystyle \\frac{\\partial^{2}}{(\\partial y)^{2}}z\\left(x, y\\right)$"
      ],
      "text/plain": [
       "diff(z(x, y), y, y)"
      ]
     },
     "metadata": {},
     "output_type": "display_data"
    },
    {
     "data": {
      "text/html": [
       "<html>\\(\\displaystyle \\frac{\\partial^{2}}{(\\partial y)^{2}}w\\left(x, y\\right)\\)</html>"
      ],
      "text/latex": [
       "$\\displaystyle \\frac{\\partial^{2}}{(\\partial y)^{2}}w\\left(x, y\\right)$"
      ],
      "text/plain": [
       "diff(w(x, y), y, y)"
      ]
     },
     "metadata": {},
     "output_type": "display_data"
    },
    {
     "data": {
      "text/html": [
       "<html>\\(\\displaystyle \\frac{\\partial^{2}}{\\partial x\\partial y}w\\left(x, y\\right)\\)</html>"
      ],
      "text/latex": [
       "$\\displaystyle \\frac{\\partial^{2}}{\\partial x\\partial y}w\\left(x, y\\right)$"
      ],
      "text/plain": [
       "diff(w(x, y), x, y)"
      ]
     },
     "metadata": {},
     "output_type": "display_data"
    },
    {
     "data": {
      "text/html": [
       "<html>\\(\\displaystyle \\frac{\\partial^{2}}{(\\partial x)^{2}}w\\left(x, y\\right)\\)</html>"
      ],
      "text/latex": [
       "$\\displaystyle \\frac{\\partial^{2}}{(\\partial x)^{2}}w\\left(x, y\\right)$"
      ],
      "text/plain": [
       "diff(w(x, y), x, x)"
      ]
     },
     "metadata": {},
     "output_type": "display_data"
    },
    {
     "name": "stdout",
     "output_type": "stream",
     "text": [
      "after autoreduce\n",
      "diff(z(x, y), y, y) + (1/2/y) * diff(z(x, y), y)\n",
      "diff(w(x, y), y, y) + (-2) * diff(z(x, y), x, y) + (-1/2/y) * diff(w(x, y), y) + (1/2/y^2) * w(x, y)\n",
      "diff(w(x, y), x, y) + (-1/2) * diff(z(x, y), x, x) + (-1/2/y) * diff(w(x, y), x) + (-6*y^2) * diff(z(x, y), y)\n",
      "diff(w(x, y), x, x) + (4*y^2) * diff(w(x, y), y) + (-8*y^2) * diff(z(x, y), x) + (-8*y) * w(x, y)\n"
     ]
    },
    {
     "data": {
      "text/html": [
       "<html>\\(\\displaystyle \\frac{\\partial^{2}}{(\\partial y)^{2}}z\\left(x, y\\right)\\)</html>"
      ],
      "text/latex": [
       "$\\displaystyle \\frac{\\partial^{2}}{(\\partial y)^{2}}z\\left(x, y\\right)$"
      ],
      "text/plain": [
       "diff(z(x, y), y, y)"
      ]
     },
     "metadata": {},
     "output_type": "display_data"
    },
    {
     "data": {
      "text/html": [
       "<html>\\(\\displaystyle \\frac{\\partial^{2}}{(\\partial y)^{2}}w\\left(x, y\\right)\\)</html>"
      ],
      "text/latex": [
       "$\\displaystyle \\frac{\\partial^{2}}{(\\partial y)^{2}}w\\left(x, y\\right)$"
      ],
      "text/plain": [
       "diff(w(x, y), y, y)"
      ]
     },
     "metadata": {},
     "output_type": "display_data"
    },
    {
     "data": {
      "text/html": [
       "<html>\\(\\displaystyle \\frac{\\partial^{2}}{\\partial x\\partial y}w\\left(x, y\\right)\\)</html>"
      ],
      "text/latex": [
       "$\\displaystyle \\frac{\\partial^{2}}{\\partial x\\partial y}w\\left(x, y\\right)$"
      ],
      "text/plain": [
       "diff(w(x, y), x, y)"
      ]
     },
     "metadata": {},
     "output_type": "display_data"
    },
    {
     "data": {
      "text/html": [
       "<html>\\(\\displaystyle \\frac{\\partial^{2}}{(\\partial x)^{2}}w\\left(x, y\\right)\\)</html>"
      ],
      "text/latex": [
       "$\\displaystyle \\frac{\\partial^{2}}{(\\partial x)^{2}}w\\left(x, y\\right)$"
      ],
      "text/plain": [
       "diff(w(x, y), x, x)"
      ]
     },
     "metadata": {},
     "output_type": "display_data"
    },
    {
     "name": "stdout",
     "output_type": "stream",
     "text": [
      "> \u001b[0;32m/researches/delierium/delierium/JanetBasis.py\u001b[0m(579)\u001b[0;36m__init__\u001b[0;34m()\u001b[0m\n",
      "\u001b[0;32m    577 \u001b[0;31m                \u001b[0m_\u001b[0m\u001b[0;34m.\u001b[0m\u001b[0mLder\u001b[0m\u001b[0;34m(\u001b[0m\u001b[0;34m)\u001b[0m\u001b[0;34m.\u001b[0m\u001b[0mshow\u001b[0m\u001b[0;34m(\u001b[0m\u001b[0;34m)\u001b[0m\u001b[0;34m\u001b[0m\u001b[0;34m\u001b[0m\u001b[0m\n",
      "\u001b[0m\u001b[0;32m    578 \u001b[0;31m            \u001b[0mset_trace\u001b[0m\u001b[0;34m(\u001b[0m\u001b[0;34m)\u001b[0m\u001b[0;34m\u001b[0m\u001b[0;34m\u001b[0m\u001b[0m\n",
      "\u001b[0m\u001b[0;32m--> 579 \u001b[0;31m            \u001b[0mself\u001b[0m\u001b[0;34m.\u001b[0m\u001b[0mS\u001b[0m \u001b[0;34m=\u001b[0m \u001b[0mCompleteSystem\u001b[0m\u001b[0;34m(\u001b[0m\u001b[0mself\u001b[0m\u001b[0;34m.\u001b[0m\u001b[0mS\u001b[0m\u001b[0;34m,\u001b[0m \u001b[0mcontext\u001b[0m\u001b[0;34m)\u001b[0m\u001b[0;34m\u001b[0m\u001b[0;34m\u001b[0m\u001b[0m\n",
      "\u001b[0m\u001b[0;32m    580 \u001b[0;31m            \u001b[0mprint\u001b[0m\u001b[0;34m(\u001b[0m\u001b[0;34m\"after complete system\"\u001b[0m\u001b[0;34m)\u001b[0m\u001b[0;34m\u001b[0m\u001b[0;34m\u001b[0m\u001b[0m\n",
      "\u001b[0m\u001b[0;32m    581 \u001b[0;31m            \u001b[0mself\u001b[0m\u001b[0;34m.\u001b[0m\u001b[0mshow\u001b[0m\u001b[0;34m(\u001b[0m\u001b[0;34m)\u001b[0m\u001b[0;34m\u001b[0m\u001b[0;34m\u001b[0m\u001b[0m\n",
      "\u001b[0m\n"
     ]
    },
    {
     "name": "stdin",
     "output_type": "stream",
     "text": [
      "ipdb>  c\n"
     ]
    },
    {
     "name": "stdout",
     "output_type": "stream",
     "text": [
      "after complete system\n",
      "diff(z(x, y), y, y) + (1/2/y) * diff(z(x, y), y)\n",
      "diff(w(x, y), y, y) + (-2) * diff(z(x, y), x, y) + (-1/2/y) * diff(w(x, y), y) + (1/2/y^2) * w(x, y)\n",
      "diff(w(x, y), x, y) + (-1/2) * diff(z(x, y), x, x) + (-1/2/y) * diff(w(x, y), x) + (-6*y^2) * diff(z(x, y), y)\n",
      "diff(w(x, y), x, x) + (4*y^2) * diff(w(x, y), y) + (-8*y^2) * diff(z(x, y), x) + (-8*y) * w(x, y)\n",
      "after integrability system\n",
      "diff(z(x, y), y, y) + (1/2/y) * diff(z(x, y), y)\n",
      "diff(w(x, y), y, y) + (-2) * diff(z(x, y), x, y) + (-1/2/y) * diff(w(x, y), y) + (1/2/y^2) * w(x, y)\n",
      "diff(w(x, y), x, y) + (-1/2) * diff(z(x, y), x, x) + (-1/2/y) * diff(w(x, y), x) + (-6*y^2) * diff(z(x, y), y)\n",
      "diff(w(x, y), x, x) + (4*y^2) * diff(w(x, y), y) + (-8*y^2) * diff(z(x, y), x) + (-8*y) * w(x, y)\n",
      "This is where we start\n",
      "diff(z(x, y), y, y) + (1/2/y) * diff(z(x, y), y)\n",
      "diff(w(x, y), y, y) + (-2) * diff(z(x, y), x, y) + (-1/2/y) * diff(w(x, y), y) + (1/2/y^2) * w(x, y)\n",
      "diff(w(x, y), x, y) + (-1/2) * diff(z(x, y), x, x) + (-1/2/y) * diff(w(x, y), x) + (-6*y^2) * diff(z(x, y), y)\n",
      "diff(w(x, y), x, x) + (4*y^2) * diff(w(x, y), y) + (-8*y^2) * diff(z(x, y), x) + (-8*y) * w(x, y)\n",
      "diff(z(x, y), x, x, y) + (-6*y) * diff(z(x, y), y)\n",
      "diff(z(x, y), x, x, x) + (12*y^2) * diff(z(x, y), x, y) + (-24*y) * diff(z(x, y), x) + (-12) * w(x, y)\n"
     ]
    },
    {
     "data": {
      "text/html": [
       "<html>\\(\\displaystyle \\frac{\\partial^{2}}{(\\partial y)^{2}}z\\left(x, y\\right)\\)</html>"
      ],
      "text/latex": [
       "$\\displaystyle \\frac{\\partial^{2}}{(\\partial y)^{2}}z\\left(x, y\\right)$"
      ],
      "text/plain": [
       "diff(z(x, y), y, y)"
      ]
     },
     "metadata": {},
     "output_type": "display_data"
    },
    {
     "data": {
      "text/html": [
       "<html>\\(\\displaystyle \\frac{\\partial^{2}}{(\\partial y)^{2}}w\\left(x, y\\right)\\)</html>"
      ],
      "text/latex": [
       "$\\displaystyle \\frac{\\partial^{2}}{(\\partial y)^{2}}w\\left(x, y\\right)$"
      ],
      "text/plain": [
       "diff(w(x, y), y, y)"
      ]
     },
     "metadata": {},
     "output_type": "display_data"
    },
    {
     "data": {
      "text/html": [
       "<html>\\(\\displaystyle \\frac{\\partial^{2}}{\\partial x\\partial y}w\\left(x, y\\right)\\)</html>"
      ],
      "text/latex": [
       "$\\displaystyle \\frac{\\partial^{2}}{\\partial x\\partial y}w\\left(x, y\\right)$"
      ],
      "text/plain": [
       "diff(w(x, y), x, y)"
      ]
     },
     "metadata": {},
     "output_type": "display_data"
    },
    {
     "data": {
      "text/html": [
       "<html>\\(\\displaystyle \\frac{\\partial^{2}}{(\\partial x)^{2}}w\\left(x, y\\right)\\)</html>"
      ],
      "text/latex": [
       "$\\displaystyle \\frac{\\partial^{2}}{(\\partial x)^{2}}w\\left(x, y\\right)$"
      ],
      "text/plain": [
       "diff(w(x, y), x, x)"
      ]
     },
     "metadata": {},
     "output_type": "display_data"
    },
    {
     "data": {
      "text/html": [
       "<html>\\(\\displaystyle \\frac{\\partial^{3}}{(\\partial x)^{2}\\partial y}z\\left(x, y\\right)\\)</html>"
      ],
      "text/latex": [
       "$\\displaystyle \\frac{\\partial^{3}}{(\\partial x)^{2}\\partial y}z\\left(x, y\\right)$"
      ],
      "text/plain": [
       "diff(z(x, y), x, x, y)"
      ]
     },
     "metadata": {},
     "output_type": "display_data"
    },
    {
     "data": {
      "text/html": [
       "<html>\\(\\displaystyle \\frac{\\partial^{3}}{(\\partial x)^{3}}z\\left(x, y\\right)\\)</html>"
      ],
      "text/latex": [
       "$\\displaystyle \\frac{\\partial^{3}}{(\\partial x)^{3}}z\\left(x, y\\right)$"
      ],
      "text/plain": [
       "diff(z(x, y), x, x, x)"
      ]
     },
     "metadata": {},
     "output_type": "display_data"
    },
    {
     "name": "stdout",
     "output_type": "stream",
     "text": [
      "after autoreduce\n",
      "diff(z(x, y), y, y) + (1/2/y) * diff(z(x, y), y)\n",
      "diff(w(x, y), y, y) + (-2) * diff(z(x, y), x, y) + (-1/2/y) * diff(w(x, y), y) + (1/2/y^2) * w(x, y)\n",
      "diff(w(x, y), x, y) + (-1/2) * diff(z(x, y), x, x) + (-1/2/y) * diff(w(x, y), x) + (-6*y^2) * diff(z(x, y), y)\n",
      "diff(w(x, y), x, x) + (4*y^2) * diff(w(x, y), y) + (-8*y^2) * diff(z(x, y), x) + (-8*y) * w(x, y)\n",
      "diff(z(x, y), x, x, y) + (-6*y) * diff(z(x, y), y)\n",
      "diff(z(x, y), x, x, x) + (12*y^2) * diff(z(x, y), x, y) + (-24*y) * diff(z(x, y), x) + (-12) * w(x, y)\n"
     ]
    },
    {
     "data": {
      "text/html": [
       "<html>\\(\\displaystyle \\frac{\\partial^{2}}{(\\partial y)^{2}}z\\left(x, y\\right)\\)</html>"
      ],
      "text/latex": [
       "$\\displaystyle \\frac{\\partial^{2}}{(\\partial y)^{2}}z\\left(x, y\\right)$"
      ],
      "text/plain": [
       "diff(z(x, y), y, y)"
      ]
     },
     "metadata": {},
     "output_type": "display_data"
    },
    {
     "data": {
      "text/html": [
       "<html>\\(\\displaystyle \\frac{\\partial^{2}}{(\\partial y)^{2}}w\\left(x, y\\right)\\)</html>"
      ],
      "text/latex": [
       "$\\displaystyle \\frac{\\partial^{2}}{(\\partial y)^{2}}w\\left(x, y\\right)$"
      ],
      "text/plain": [
       "diff(w(x, y), y, y)"
      ]
     },
     "metadata": {},
     "output_type": "display_data"
    },
    {
     "data": {
      "text/html": [
       "<html>\\(\\displaystyle \\frac{\\partial^{2}}{\\partial x\\partial y}w\\left(x, y\\right)\\)</html>"
      ],
      "text/latex": [
       "$\\displaystyle \\frac{\\partial^{2}}{\\partial x\\partial y}w\\left(x, y\\right)$"
      ],
      "text/plain": [
       "diff(w(x, y), x, y)"
      ]
     },
     "metadata": {},
     "output_type": "display_data"
    },
    {
     "data": {
      "text/html": [
       "<html>\\(\\displaystyle \\frac{\\partial^{2}}{(\\partial x)^{2}}w\\left(x, y\\right)\\)</html>"
      ],
      "text/latex": [
       "$\\displaystyle \\frac{\\partial^{2}}{(\\partial x)^{2}}w\\left(x, y\\right)$"
      ],
      "text/plain": [
       "diff(w(x, y), x, x)"
      ]
     },
     "metadata": {},
     "output_type": "display_data"
    },
    {
     "data": {
      "text/html": [
       "<html>\\(\\displaystyle \\frac{\\partial^{3}}{(\\partial x)^{2}\\partial y}z\\left(x, y\\right)\\)</html>"
      ],
      "text/latex": [
       "$\\displaystyle \\frac{\\partial^{3}}{(\\partial x)^{2}\\partial y}z\\left(x, y\\right)$"
      ],
      "text/plain": [
       "diff(z(x, y), x, x, y)"
      ]
     },
     "metadata": {},
     "output_type": "display_data"
    },
    {
     "data": {
      "text/html": [
       "<html>\\(\\displaystyle \\frac{\\partial^{3}}{(\\partial x)^{3}}z\\left(x, y\\right)\\)</html>"
      ],
      "text/latex": [
       "$\\displaystyle \\frac{\\partial^{3}}{(\\partial x)^{3}}z\\left(x, y\\right)$"
      ],
      "text/plain": [
       "diff(z(x, y), x, x, x)"
      ]
     },
     "metadata": {},
     "output_type": "display_data"
    },
    {
     "name": "stdout",
     "output_type": "stream",
     "text": [
      "> \u001b[0;32m/researches/delierium/delierium/JanetBasis.py\u001b[0m(579)\u001b[0;36m__init__\u001b[0;34m()\u001b[0m\n",
      "\u001b[0;32m    577 \u001b[0;31m                \u001b[0m_\u001b[0m\u001b[0;34m.\u001b[0m\u001b[0mLder\u001b[0m\u001b[0;34m(\u001b[0m\u001b[0;34m)\u001b[0m\u001b[0;34m.\u001b[0m\u001b[0mshow\u001b[0m\u001b[0;34m(\u001b[0m\u001b[0;34m)\u001b[0m\u001b[0;34m\u001b[0m\u001b[0;34m\u001b[0m\u001b[0m\n",
      "\u001b[0m\u001b[0;32m    578 \u001b[0;31m            \u001b[0mset_trace\u001b[0m\u001b[0;34m(\u001b[0m\u001b[0;34m)\u001b[0m\u001b[0;34m\u001b[0m\u001b[0;34m\u001b[0m\u001b[0m\n",
      "\u001b[0m\u001b[0;32m--> 579 \u001b[0;31m            \u001b[0mself\u001b[0m\u001b[0;34m.\u001b[0m\u001b[0mS\u001b[0m \u001b[0;34m=\u001b[0m \u001b[0mCompleteSystem\u001b[0m\u001b[0;34m(\u001b[0m\u001b[0mself\u001b[0m\u001b[0;34m.\u001b[0m\u001b[0mS\u001b[0m\u001b[0;34m,\u001b[0m \u001b[0mcontext\u001b[0m\u001b[0;34m)\u001b[0m\u001b[0;34m\u001b[0m\u001b[0;34m\u001b[0m\u001b[0m\n",
      "\u001b[0m\u001b[0;32m    580 \u001b[0;31m            \u001b[0mprint\u001b[0m\u001b[0;34m(\u001b[0m\u001b[0;34m\"after complete system\"\u001b[0m\u001b[0;34m)\u001b[0m\u001b[0;34m\u001b[0m\u001b[0;34m\u001b[0m\u001b[0m\n",
      "\u001b[0m\u001b[0;32m    581 \u001b[0;31m            \u001b[0mself\u001b[0m\u001b[0;34m.\u001b[0m\u001b[0mshow\u001b[0m\u001b[0;34m(\u001b[0m\u001b[0;34m)\u001b[0m\u001b[0;34m\u001b[0m\u001b[0;34m\u001b[0m\u001b[0m\n",
      "\u001b[0m\n"
     ]
    },
    {
     "name": "stdin",
     "output_type": "stream",
     "text": [
      "ipdb>  c\n"
     ]
    },
    {
     "name": "stdout",
     "output_type": "stream",
     "text": [
      "after complete system\n",
      "diff(z(x, y), y, y) + (1/2/y) * diff(z(x, y), y)\n",
      "diff(w(x, y), y, y) + (-2) * diff(z(x, y), x, y) + (-1/2/y) * diff(w(x, y), y) + (1/2/y^2) * w(x, y)\n",
      "diff(w(x, y), x, y) + (-1/2) * diff(z(x, y), x, x) + (-1/2/y) * diff(w(x, y), x) + (-6*y^2) * diff(z(x, y), y)\n",
      "diff(w(x, y), x, x) + (4*y^2) * diff(w(x, y), y) + (-8*y^2) * diff(z(x, y), x) + (-8*y) * w(x, y)\n",
      "diff(z(x, y), x, y, y) + (1/2/y) * diff(z(x, y), x, y)\n",
      "diff(z(x, y), x, x, y) + (-6*y) * diff(z(x, y), y)\n",
      "diff(z(x, y), x, x, x) + (12*y^2) * diff(z(x, y), x, y) + (-24*y) * diff(z(x, y), x) + (-12) * w(x, y)\n",
      "after integrability system\n",
      "diff(z(x, y), y, y) + (1/2/y) * diff(z(x, y), y)\n",
      "diff(w(x, y), y, y) + (-2) * diff(z(x, y), x, y) + (-1/2/y) * diff(w(x, y), y) + (1/2/y^2) * w(x, y)\n",
      "diff(w(x, y), x, y) + (-1/2) * diff(z(x, y), x, x) + (-1/2/y) * diff(w(x, y), x) + (-6*y^2) * diff(z(x, y), y)\n",
      "diff(w(x, y), x, x) + (4*y^2) * diff(w(x, y), y) + (-8*y^2) * diff(z(x, y), x) + (-8*y) * w(x, y)\n",
      "diff(z(x, y), x, y, y) + (1/2/y) * diff(z(x, y), x, y)\n",
      "diff(z(x, y), x, x, y) + (-6*y) * diff(z(x, y), y)\n",
      "diff(z(x, y), x, x, x) + (12*y^2) * diff(z(x, y), x, y) + (-24*y) * diff(z(x, y), x) + (-12) * w(x, y)\n",
      "This is where we start\n",
      "diff(z(x, y), y)\n",
      "diff(w(x, y), y) + (2) * diff(z(x, y), x)\n",
      "diff(z(x, y), y, y) + (1/2/y) * diff(z(x, y), y)\n",
      "diff(w(x, y), y, y) + (-2) * diff(z(x, y), x, y) + (-1/2/y) * diff(w(x, y), y) + (1/2/y^2) * w(x, y)\n",
      "diff(w(x, y), x, y) + (-1/2) * diff(z(x, y), x, x) + (-1/2/y) * diff(w(x, y), x) + (-6*y^2) * diff(z(x, y), y)\n",
      "diff(w(x, y), x, x) + (4*y^2) * diff(w(x, y), y) + (-8*y^2) * diff(z(x, y), x) + (-8*y) * w(x, y)\n",
      "diff(z(x, y), x, y, y) + (1/2/y) * diff(z(x, y), x, y)\n",
      "diff(z(x, y), x, x, y) + (-6*y) * diff(z(x, y), y)\n",
      "diff(z(x, y), x, x, x) + (12*y^2) * diff(z(x, y), x, y) + (-24*y) * diff(z(x, y), x) + (-12) * w(x, y)\n"
     ]
    },
    {
     "data": {
      "text/html": [
       "<html>\\(\\displaystyle \\frac{\\partial}{\\partial y}z\\left(x, y\\right)\\)</html>"
      ],
      "text/latex": [
       "$\\displaystyle \\frac{\\partial}{\\partial y}z\\left(x, y\\right)$"
      ],
      "text/plain": [
       "diff(z(x, y), y)"
      ]
     },
     "metadata": {},
     "output_type": "display_data"
    },
    {
     "data": {
      "text/html": [
       "<html>\\(\\displaystyle \\frac{\\partial}{\\partial y}w\\left(x, y\\right)\\)</html>"
      ],
      "text/latex": [
       "$\\displaystyle \\frac{\\partial}{\\partial y}w\\left(x, y\\right)$"
      ],
      "text/plain": [
       "diff(w(x, y), y)"
      ]
     },
     "metadata": {},
     "output_type": "display_data"
    },
    {
     "data": {
      "text/html": [
       "<html>\\(\\displaystyle \\frac{\\partial^{2}}{(\\partial y)^{2}}z\\left(x, y\\right)\\)</html>"
      ],
      "text/latex": [
       "$\\displaystyle \\frac{\\partial^{2}}{(\\partial y)^{2}}z\\left(x, y\\right)$"
      ],
      "text/plain": [
       "diff(z(x, y), y, y)"
      ]
     },
     "metadata": {},
     "output_type": "display_data"
    },
    {
     "data": {
      "text/html": [
       "<html>\\(\\displaystyle \\frac{\\partial^{2}}{(\\partial y)^{2}}w\\left(x, y\\right)\\)</html>"
      ],
      "text/latex": [
       "$\\displaystyle \\frac{\\partial^{2}}{(\\partial y)^{2}}w\\left(x, y\\right)$"
      ],
      "text/plain": [
       "diff(w(x, y), y, y)"
      ]
     },
     "metadata": {},
     "output_type": "display_data"
    },
    {
     "data": {
      "text/html": [
       "<html>\\(\\displaystyle \\frac{\\partial^{2}}{\\partial x\\partial y}w\\left(x, y\\right)\\)</html>"
      ],
      "text/latex": [
       "$\\displaystyle \\frac{\\partial^{2}}{\\partial x\\partial y}w\\left(x, y\\right)$"
      ],
      "text/plain": [
       "diff(w(x, y), x, y)"
      ]
     },
     "metadata": {},
     "output_type": "display_data"
    },
    {
     "data": {
      "text/html": [
       "<html>\\(\\displaystyle \\frac{\\partial^{2}}{(\\partial x)^{2}}w\\left(x, y\\right)\\)</html>"
      ],
      "text/latex": [
       "$\\displaystyle \\frac{\\partial^{2}}{(\\partial x)^{2}}w\\left(x, y\\right)$"
      ],
      "text/plain": [
       "diff(w(x, y), x, x)"
      ]
     },
     "metadata": {},
     "output_type": "display_data"
    },
    {
     "data": {
      "text/html": [
       "<html>\\(\\displaystyle \\frac{\\partial^{3}}{\\partial x(\\partial y)^{2}}z\\left(x, y\\right)\\)</html>"
      ],
      "text/latex": [
       "$\\displaystyle \\frac{\\partial^{3}}{\\partial x(\\partial y)^{2}}z\\left(x, y\\right)$"
      ],
      "text/plain": [
       "diff(z(x, y), x, y, y)"
      ]
     },
     "metadata": {},
     "output_type": "display_data"
    },
    {
     "data": {
      "text/html": [
       "<html>\\(\\displaystyle \\frac{\\partial^{3}}{(\\partial x)^{2}\\partial y}z\\left(x, y\\right)\\)</html>"
      ],
      "text/latex": [
       "$\\displaystyle \\frac{\\partial^{3}}{(\\partial x)^{2}\\partial y}z\\left(x, y\\right)$"
      ],
      "text/plain": [
       "diff(z(x, y), x, x, y)"
      ]
     },
     "metadata": {},
     "output_type": "display_data"
    },
    {
     "data": {
      "text/html": [
       "<html>\\(\\displaystyle \\frac{\\partial^{3}}{(\\partial x)^{3}}z\\left(x, y\\right)\\)</html>"
      ],
      "text/latex": [
       "$\\displaystyle \\frac{\\partial^{3}}{(\\partial x)^{3}}z\\left(x, y\\right)$"
      ],
      "text/plain": [
       "diff(z(x, y), x, x, x)"
      ]
     },
     "metadata": {},
     "output_type": "display_data"
    },
    {
     "name": "stdout",
     "output_type": "stream",
     "text": [
      "after autoreduce\n",
      "diff(z(x, y), y)\n",
      "diff(z(x, y), x) + (1/2/y) * w(x, y)\n",
      "diff(w(x, y), y) + (-1/y) * w(x, y)\n",
      "diff(w(x, y), x)\n"
     ]
    },
    {
     "data": {
      "text/html": [
       "<html>\\(\\displaystyle \\frac{\\partial}{\\partial y}z\\left(x, y\\right)\\)</html>"
      ],
      "text/latex": [
       "$\\displaystyle \\frac{\\partial}{\\partial y}z\\left(x, y\\right)$"
      ],
      "text/plain": [
       "diff(z(x, y), y)"
      ]
     },
     "metadata": {},
     "output_type": "display_data"
    },
    {
     "data": {
      "text/html": [
       "<html>\\(\\displaystyle \\frac{\\partial}{\\partial x}z\\left(x, y\\right)\\)</html>"
      ],
      "text/latex": [
       "$\\displaystyle \\frac{\\partial}{\\partial x}z\\left(x, y\\right)$"
      ],
      "text/plain": [
       "diff(z(x, y), x)"
      ]
     },
     "metadata": {},
     "output_type": "display_data"
    },
    {
     "data": {
      "text/html": [
       "<html>\\(\\displaystyle \\frac{\\partial}{\\partial y}w\\left(x, y\\right)\\)</html>"
      ],
      "text/latex": [
       "$\\displaystyle \\frac{\\partial}{\\partial y}w\\left(x, y\\right)$"
      ],
      "text/plain": [
       "diff(w(x, y), y)"
      ]
     },
     "metadata": {},
     "output_type": "display_data"
    },
    {
     "data": {
      "text/html": [
       "<html>\\(\\displaystyle \\frac{\\partial}{\\partial x}w\\left(x, y\\right)\\)</html>"
      ],
      "text/latex": [
       "$\\displaystyle \\frac{\\partial}{\\partial x}w\\left(x, y\\right)$"
      ],
      "text/plain": [
       "diff(w(x, y), x)"
      ]
     },
     "metadata": {},
     "output_type": "display_data"
    },
    {
     "name": "stdout",
     "output_type": "stream",
     "text": [
      "> \u001b[0;32m/researches/delierium/delierium/JanetBasis.py\u001b[0m(579)\u001b[0;36m__init__\u001b[0;34m()\u001b[0m\n",
      "\u001b[0;32m    577 \u001b[0;31m                \u001b[0m_\u001b[0m\u001b[0;34m.\u001b[0m\u001b[0mLder\u001b[0m\u001b[0;34m(\u001b[0m\u001b[0;34m)\u001b[0m\u001b[0;34m.\u001b[0m\u001b[0mshow\u001b[0m\u001b[0;34m(\u001b[0m\u001b[0;34m)\u001b[0m\u001b[0;34m\u001b[0m\u001b[0;34m\u001b[0m\u001b[0m\n",
      "\u001b[0m\u001b[0;32m    578 \u001b[0;31m            \u001b[0mset_trace\u001b[0m\u001b[0;34m(\u001b[0m\u001b[0;34m)\u001b[0m\u001b[0;34m\u001b[0m\u001b[0;34m\u001b[0m\u001b[0m\n",
      "\u001b[0m\u001b[0;32m--> 579 \u001b[0;31m            \u001b[0mself\u001b[0m\u001b[0;34m.\u001b[0m\u001b[0mS\u001b[0m \u001b[0;34m=\u001b[0m \u001b[0mCompleteSystem\u001b[0m\u001b[0;34m(\u001b[0m\u001b[0mself\u001b[0m\u001b[0;34m.\u001b[0m\u001b[0mS\u001b[0m\u001b[0;34m,\u001b[0m \u001b[0mcontext\u001b[0m\u001b[0;34m)\u001b[0m\u001b[0;34m\u001b[0m\u001b[0;34m\u001b[0m\u001b[0m\n",
      "\u001b[0m\u001b[0;32m    580 \u001b[0;31m            \u001b[0mprint\u001b[0m\u001b[0;34m(\u001b[0m\u001b[0;34m\"after complete system\"\u001b[0m\u001b[0;34m)\u001b[0m\u001b[0;34m\u001b[0m\u001b[0;34m\u001b[0m\u001b[0m\n",
      "\u001b[0m\u001b[0;32m    581 \u001b[0;31m            \u001b[0mself\u001b[0m\u001b[0;34m.\u001b[0m\u001b[0mshow\u001b[0m\u001b[0;34m(\u001b[0m\u001b[0;34m)\u001b[0m\u001b[0;34m\u001b[0m\u001b[0;34m\u001b[0m\u001b[0m\n",
      "\u001b[0m\n"
     ]
    },
    {
     "name": "stdin",
     "output_type": "stream",
     "text": [
      "ipdb>  c\n"
     ]
    },
    {
     "name": "stdout",
     "output_type": "stream",
     "text": [
      "after complete system\n",
      "diff(z(x, y), y)\n",
      "diff(z(x, y), x) + (1/2/y) * w(x, y)\n",
      "diff(w(x, y), y) + (-1/y) * w(x, y)\n",
      "diff(w(x, y), x)\n",
      "after integrability system\n",
      "diff(z(x, y), y)\n",
      "diff(z(x, y), x) + (1/2/y) * w(x, y)\n",
      "diff(w(x, y), y) + (-1/y) * w(x, y)\n",
      "diff(w(x, y), x)\n",
      "This is where we start\n",
      "diff(z(x, y), y)\n",
      "diff(z(x, y), x) + (1/2/y) * w(x, y)\n",
      "diff(w(x, y), y) + (-1/y) * w(x, y)\n",
      "diff(w(x, y), x)\n"
     ]
    },
    {
     "data": {
      "text/html": [
       "<html>\\(\\displaystyle \\frac{\\partial}{\\partial y}z\\left(x, y\\right)\\)</html>"
      ],
      "text/latex": [
       "$\\displaystyle \\frac{\\partial}{\\partial y}z\\left(x, y\\right)$"
      ],
      "text/plain": [
       "diff(z(x, y), y)"
      ]
     },
     "metadata": {},
     "output_type": "display_data"
    },
    {
     "data": {
      "text/html": [
       "<html>\\(\\displaystyle \\frac{\\partial}{\\partial x}z\\left(x, y\\right)\\)</html>"
      ],
      "text/latex": [
       "$\\displaystyle \\frac{\\partial}{\\partial x}z\\left(x, y\\right)$"
      ],
      "text/plain": [
       "diff(z(x, y), x)"
      ]
     },
     "metadata": {},
     "output_type": "display_data"
    },
    {
     "data": {
      "text/html": [
       "<html>\\(\\displaystyle \\frac{\\partial}{\\partial y}w\\left(x, y\\right)\\)</html>"
      ],
      "text/latex": [
       "$\\displaystyle \\frac{\\partial}{\\partial y}w\\left(x, y\\right)$"
      ],
      "text/plain": [
       "diff(w(x, y), y)"
      ]
     },
     "metadata": {},
     "output_type": "display_data"
    },
    {
     "data": {
      "text/html": [
       "<html>\\(\\displaystyle \\frac{\\partial}{\\partial x}w\\left(x, y\\right)\\)</html>"
      ],
      "text/latex": [
       "$\\displaystyle \\frac{\\partial}{\\partial x}w\\left(x, y\\right)$"
      ],
      "text/plain": [
       "diff(w(x, y), x)"
      ]
     },
     "metadata": {},
     "output_type": "display_data"
    },
    {
     "name": "stdout",
     "output_type": "stream",
     "text": [
      "after autoreduce\n",
      "diff(z(x, y), y)\n",
      "diff(z(x, y), x) + (1/2/y) * w(x, y)\n",
      "diff(w(x, y), y) + (-1/y) * w(x, y)\n",
      "diff(w(x, y), x)\n"
     ]
    },
    {
     "data": {
      "text/html": [
       "<html>\\(\\displaystyle \\frac{\\partial}{\\partial y}z\\left(x, y\\right)\\)</html>"
      ],
      "text/latex": [
       "$\\displaystyle \\frac{\\partial}{\\partial y}z\\left(x, y\\right)$"
      ],
      "text/plain": [
       "diff(z(x, y), y)"
      ]
     },
     "metadata": {},
     "output_type": "display_data"
    },
    {
     "data": {
      "text/html": [
       "<html>\\(\\displaystyle \\frac{\\partial}{\\partial x}z\\left(x, y\\right)\\)</html>"
      ],
      "text/latex": [
       "$\\displaystyle \\frac{\\partial}{\\partial x}z\\left(x, y\\right)$"
      ],
      "text/plain": [
       "diff(z(x, y), x)"
      ]
     },
     "metadata": {},
     "output_type": "display_data"
    },
    {
     "data": {
      "text/html": [
       "<html>\\(\\displaystyle \\frac{\\partial}{\\partial y}w\\left(x, y\\right)\\)</html>"
      ],
      "text/latex": [
       "$\\displaystyle \\frac{\\partial}{\\partial y}w\\left(x, y\\right)$"
      ],
      "text/plain": [
       "diff(w(x, y), y)"
      ]
     },
     "metadata": {},
     "output_type": "display_data"
    },
    {
     "data": {
      "text/html": [
       "<html>\\(\\displaystyle \\frac{\\partial}{\\partial x}w\\left(x, y\\right)\\)</html>"
      ],
      "text/latex": [
       "$\\displaystyle \\frac{\\partial}{\\partial x}w\\left(x, y\\right)$"
      ],
      "text/plain": [
       "diff(w(x, y), x)"
      ]
     },
     "metadata": {},
     "output_type": "display_data"
    },
    {
     "name": "stdout",
     "output_type": "stream",
     "text": [
      "> \u001b[0;32m/researches/delierium/delierium/JanetBasis.py\u001b[0m(579)\u001b[0;36m__init__\u001b[0;34m()\u001b[0m\n",
      "\u001b[0;32m    577 \u001b[0;31m                \u001b[0m_\u001b[0m\u001b[0;34m.\u001b[0m\u001b[0mLder\u001b[0m\u001b[0;34m(\u001b[0m\u001b[0;34m)\u001b[0m\u001b[0;34m.\u001b[0m\u001b[0mshow\u001b[0m\u001b[0;34m(\u001b[0m\u001b[0;34m)\u001b[0m\u001b[0;34m\u001b[0m\u001b[0;34m\u001b[0m\u001b[0m\n",
      "\u001b[0m\u001b[0;32m    578 \u001b[0;31m            \u001b[0mset_trace\u001b[0m\u001b[0;34m(\u001b[0m\u001b[0;34m)\u001b[0m\u001b[0;34m\u001b[0m\u001b[0;34m\u001b[0m\u001b[0m\n",
      "\u001b[0m\u001b[0;32m--> 579 \u001b[0;31m            \u001b[0mself\u001b[0m\u001b[0;34m.\u001b[0m\u001b[0mS\u001b[0m \u001b[0;34m=\u001b[0m \u001b[0mCompleteSystem\u001b[0m\u001b[0;34m(\u001b[0m\u001b[0mself\u001b[0m\u001b[0;34m.\u001b[0m\u001b[0mS\u001b[0m\u001b[0;34m,\u001b[0m \u001b[0mcontext\u001b[0m\u001b[0;34m)\u001b[0m\u001b[0;34m\u001b[0m\u001b[0;34m\u001b[0m\u001b[0m\n",
      "\u001b[0m\u001b[0;32m    580 \u001b[0;31m            \u001b[0mprint\u001b[0m\u001b[0;34m(\u001b[0m\u001b[0;34m\"after complete system\"\u001b[0m\u001b[0;34m)\u001b[0m\u001b[0;34m\u001b[0m\u001b[0;34m\u001b[0m\u001b[0m\n",
      "\u001b[0m\u001b[0;32m    581 \u001b[0;31m            \u001b[0mself\u001b[0m\u001b[0;34m.\u001b[0m\u001b[0mshow\u001b[0m\u001b[0;34m(\u001b[0m\u001b[0;34m)\u001b[0m\u001b[0;34m\u001b[0m\u001b[0;34m\u001b[0m\u001b[0m\n",
      "\u001b[0m\n"
     ]
    },
    {
     "name": "stdin",
     "output_type": "stream",
     "text": [
      "ipdb>  c\n"
     ]
    },
    {
     "name": "stdout",
     "output_type": "stream",
     "text": [
      "after complete system\n",
      "diff(z(x, y), y)\n",
      "diff(z(x, y), x) + (1/2/y) * w(x, y)\n",
      "diff(w(x, y), y) + (-1/y) * w(x, y)\n",
      "diff(w(x, y), x)\n",
      "after integrability system\n",
      "diff(z(x, y), y)\n",
      "diff(z(x, y), x) + (1/2/y) * w(x, y)\n",
      "diff(w(x, y), y) + (-1/y) * w(x, y)\n",
      "diff(w(x, y), x)\n"
     ]
    }
   ],
   "source": [
    "jb = Janet_Basis(system_2_25, [w,z], [x, y], Mgrevlex)\n"
   ]
  },
  {
   "cell_type": "code",
   "execution_count": 3,
   "id": "92234e90-a5fd-406e-add1-75793b640d9e",
   "metadata": {},
   "outputs": [
    {
     "data": {
      "text/latex": [
       "$\\displaystyle z_{y}$"
      ],
      "text/plain": [
       "<IPython.core.display.Math object>"
      ]
     },
     "metadata": {},
     "output_type": "display_data"
    },
    {
     "data": {
      "text/latex": [
       "$\\displaystyle z_{x} + \\frac{1}{2 \\, y} w$"
      ],
      "text/plain": [
       "<IPython.core.display.Math object>"
      ]
     },
     "metadata": {},
     "output_type": "display_data"
    },
    {
     "data": {
      "text/latex": [
       "$\\displaystyle w_{y}-\\frac{1}{y} w$"
      ],
      "text/plain": [
       "<IPython.core.display.Math object>"
      ]
     },
     "metadata": {},
     "output_type": "display_data"
    },
    {
     "data": {
      "text/latex": [
       "$\\displaystyle w_{x}$"
      ],
      "text/plain": [
       "<IPython.core.display.Math object>"
      ]
     },
     "metadata": {},
     "output_type": "display_data"
    },
    {
     "name": "stdout",
     "output_type": "stream",
     "text": [
      "diff(z(x, y), y)\n",
      "diff(z(x, y), x) + (1/2/y) * w(x, y)\n",
      "diff(w(x, y), y) + (-1/y) * w(x, y)\n",
      "diff(w(x, y), x)\n"
     ]
    }
   ],
   "source": [
    "jb.show(rich=1)\n",
    "jb.show(rich=0)"
   ]
  },
  {
   "cell_type": "code",
   "execution_count": null,
   "id": "900edc2a-aa03-4ce7-a0b2-2459065ecfcf",
   "metadata": {},
   "outputs": [],
   "source": []
  }
 ],
 "metadata": {
  "kernelspec": {
   "display_name": "SageMath 9.6",
   "language": "sage",
   "name": "sagemath"
  },
  "language_info": {
   "codemirror_mode": {
    "name": "ipython",
    "version": 3
   },
   "file_extension": ".py",
   "mimetype": "text/x-python",
   "name": "python",
   "nbconvert_exporter": "python",
   "pygments_lexer": "ipython3",
   "version": "3.10.6"
  },
  "widgets": {
   "application/vnd.jupyter.widget-state+json": {
    "state": {},
    "version_major": 2,
    "version_minor": 0
   }
  }
 },
 "nbformat": 4,
 "nbformat_minor": 5
}
