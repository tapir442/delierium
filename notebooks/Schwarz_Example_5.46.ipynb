{
 "cells": [
  {
   "cell_type": "code",
   "execution_count": 13,
   "id": "4565e803-f930-4496-84e0-7e0686f589c9",
   "metadata": {},
   "outputs": [
    {
     "data": {
      "text/plain": [
       "2*x*diff(y(x), x)^4 - x*y(x)*diff(y(x), x)^2*diff(y(x), x, x) - y(x)^2*diff(y(x), x)^2 + 3*y(x)*diff(y(x), x)^3 - 2*y(x)^2*diff(y(x), x)*diff(y(x), x, x) - y(x)^3*diff(y(x), x, x)/x + 3*diff(y(x), x)^2*diff(y(x), x, x) + 15*diff(y(x), x)^3/x - 3*diff(y(x), x)^4/x^2 - 12*y(x)*diff(y(x), x)*diff(y(x), x, x)/x - y(x)^4/x^3 - 3*y(x)*diff(y(x), x)^2/x^2 - 3*y(x)^2*diff(y(x), x, x)/x^2 - 9*y(x)^2*diff(y(x), x)/x^3 - 3*y(x)^3/x^4"
      ]
     },
     "execution_count": 13,
     "metadata": {},
     "output_type": "execute_result"
    }
   ],
   "source": [
    "from sage.all import *\n",
    "\n",
    "from delierium.MatrixOrder import Context, Mgrlex, Mgrevlex, Mlex\n",
    "from delierium.JanetBasis import Janet_Basis\n",
    "from delierium.helpers import latexer\n",
    "from IPython.display import Math\n",
    "\n",
    "x = var (\"x\")\n",
    "y = function(\"y\")(x)\n",
    "# ctx: items are in descending order\n",
    "\n",
    "d0 = y\n",
    "d1 = diff(y, x)\n",
    "d2 = diff(y, x, 2)\n",
    "d3 = diff(y, x, 3)\n",
    "eq = d3*d1*d0 \\\n",
    "+ d3*(0**2)/x \\\n",
    "- 3*(2**2)*d0\n",
    "- x*d2*(d1**2)*d0 \\\n",
    "+ 3*d2*d1**2 \\\n",
    "- 2*d2*d1*d0**2 \\\n",
    "- 12*d2*d1*d0/x \\\n",
    "- d2*(d0**3)/x \\\n",
    "- 3*d2*d0**2/x**2 \\\n",
    "+ 2*x*d1**4 \\\n",
    "+ 3*(d1**3)*d0 \\\n",
    "+ 15*d1**3/x - d1**2*d0**2 \\\n",
    "- 3*d1**2*d0/x**2 \\\n",
    "- 3*d1*d1**3/x**2 \\\n",
    "- 9*d1*d0**2/x**3 \\\n",
    "- d0**4/x**3 \\\n",
    "- 3*y**3/x**4"
   ]
  },
  {
   "cell_type": "code",
   "execution_count": null,
   "id": "61820ebc-9944-42e4-b863-ee74c7da5dc9",
   "metadata": {},
   "outputs": [],
   "source": []
  }
 ],
 "metadata": {
  "kernelspec": {
   "display_name": "SageMath 9.6",
   "language": "sage",
   "name": "sagemath"
  },
  "language_info": {
   "codemirror_mode": {
    "name": "ipython",
    "version": 3
   },
   "file_extension": ".py",
   "mimetype": "text/x-python",
   "name": "python",
   "nbconvert_exporter": "python",
   "pygments_lexer": "ipython3",
   "version": "3.10.6"
  },
  "widgets": {
   "application/vnd.jupyter.widget-state+json": {
    "state": {},
    "version_major": 2,
    "version_minor": 0
   }
  }
 },
 "nbformat": 4,
 "nbformat_minor": 5
}
