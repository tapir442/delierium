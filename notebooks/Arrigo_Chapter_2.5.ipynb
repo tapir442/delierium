{
 "cells": [
  {
   "cell_type": "code",
   "execution_count": 1,
   "id": "06586a72-a6ca-4ae7-89aa-088e9921896b",
   "metadata": {},
   "outputs": [],
   "source": [
    "from delierium.Infinitesimals import prolongationODE, infinitesimalsODE\n",
    "from delierium.JanetBasis import Janet_Basis\n",
    "from delierium.MatrixOrder import Context\n",
    "from delierium.helpers import latexer\n",
    "from sage.misc.html import html\n",
    "from IPython.core.debugger import set_trace\n",
    "from IPython.display import Math"
   ]
  },
  {
   "cell_type": "markdown",
   "id": "8539e81a-a78f-48ca-b791-fb7848b51613",
   "metadata": {},
   "source": [
    "# Example 2.17 (p. 44)"
   ]
  },
  {
   "cell_type": "code",
   "execution_count": 2,
   "id": "f59ec357-b3d6-4212-93c3-fcd79099d153",
   "metadata": {},
   "outputs": [
    {
     "data": {
      "text/latex": [
       "$\\displaystyle y_{x x}$"
      ],
      "text/plain": [
       "<IPython.core.display.Math object>"
      ]
     },
     "metadata": {},
     "output_type": "display_data"
    },
    {
     "data": {
      "text/latex": [
       "$\\displaystyle - \\xi_{yy} y_{x}^3 +  \\phi_{yy} y_{x}^2 - 2  \\xi_{yx} y_{x}^2 - 3  \\xi_{y} y_{x} y_{x x} + 2  \\phi_{yx} y_{x} -  \\xi_{xx} y_{x} +  \\phi_{y} y_{x x} - 2  \\xi_{x} y_{x x} +  \\phi_{xx}$"
      ],
      "text/plain": [
       "<IPython.core.display.Math object>"
      ]
     },
     "metadata": {},
     "output_type": "display_data"
    },
    {
     "name": "stdout",
     "output_type": "stream",
     "text": [
      "Now solving for highest variable\n"
     ]
    },
    {
     "data": {
      "text/latex": [
       "$\\displaystyle - \\xi_{yy} y_{x}^3 +  \\phi_{yy} y_{x}^2 - 2  \\xi_{yx} y_{x}^2 + 2  \\phi_{yx} y_{x} -  \\xi_{xx} y_{x} +  \\phi_{xx}$"
      ],
      "text/plain": [
       "<IPython.core.display.Math object>"
      ]
     },
     "metadata": {},
     "output_type": "display_data"
    },
    {
     "name": "stdout",
     "output_type": "stream",
     "text": [
      "determining system:\n"
     ]
    },
    {
     "data": {
      "text/latex": [
       "$\\displaystyle - \\xi_{yy}$"
      ],
      "text/plain": [
       "<IPython.core.display.Math object>"
      ]
     },
     "metadata": {},
     "output_type": "display_data"
    },
    {
     "data": {
      "text/latex": [
       "$\\displaystyle  \\phi_{yy} - 2  \\xi_{yx}$"
      ],
      "text/plain": [
       "<IPython.core.display.Math object>"
      ]
     },
     "metadata": {},
     "output_type": "display_data"
    },
    {
     "data": {
      "text/latex": [
       "$\\displaystyle 2  \\phi_{yx} -  \\xi_{xx}$"
      ],
      "text/plain": [
       "<IPython.core.display.Math object>"
      ]
     },
     "metadata": {},
     "output_type": "display_data"
    },
    {
     "data": {
      "text/latex": [
       "$\\displaystyle  \\phi_{xx}$"
      ],
      "text/plain": [
       "<IPython.core.display.Math object>"
      ]
     },
     "metadata": {},
     "output_type": "display_data"
    }
   ],
   "source": [
    "# Example 2.17\n",
    "x   = var('x')\n",
    "y   = function('y')\n",
    "ode = diff(y(x), x,x)\n",
    "display(Math(latexer(ode)))\n",
    "inf = infinitesimalsODE(ode, y, x)\n",
    "print(\"determining system:\")\n",
    "for _ in inf:\n",
    "    display(Math(latexer(_)))"
   ]
  },
  {
   "cell_type": "markdown",
   "id": "c4768402-79df-418e-99dd-a29a318ae13a",
   "metadata": {},
   "source": [
    "mapping Arrigo's $X$ to $\\xi$ and $Y$ to $\\phi$ shows the correct result (eqs. 2.92.\\*, except a meaningless minus in the last equation) for the overdetermined system."
   ]
  },
  {
   "cell_type": "markdown",
   "id": "e5b7e5f6-5654-41e6-b64a-8b9aa7498ade",
   "metadata": {},
   "source": [
    "# Example 2.18 (p. 46)"
   ]
  },
  {
   "cell_type": "code",
   "execution_count": 3,
   "id": "139053c3-b701-4a42-9975-16e7f5a1792b",
   "metadata": {},
   "outputs": [
    {
     "data": {
      "text/latex": [
       "$\\displaystyle x y^4 + y y_{x} + y_{x x}$"
      ],
      "text/plain": [
       "<IPython.core.display.Math object>"
      ]
     },
     "metadata": {},
     "output_type": "display_data"
    },
    {
     "data": {
      "text/latex": [
       "$\\displaystyle 4 x \\phi y^3 + \\xi y^4 - y  \\xi_{y} y_{x}^2 -  \\xi_{yy} y_{x}^3 + y  \\phi_{y} y_{x} - y  \\xi_{x} y_{x} +  \\phi_{yy} y_{x}^2 - 2  \\xi_{yx} y_{x}^2 - 3  \\xi_{y} y_{x} y_{x x} + y  \\phi_{x} + \\phi y_{x} + 2  \\phi_{yx} y_{x} -  \\xi_{xx} y_{x} +  \\phi_{y} y_{x x} - 2  \\xi_{x} y_{x x} +  \\phi_{xx}$"
      ],
      "text/plain": [
       "<IPython.core.display.Math object>"
      ]
     },
     "metadata": {},
     "output_type": "display_data"
    },
    {
     "name": "stdout",
     "output_type": "stream",
     "text": [
      "Now solving for highest variable\n"
     ]
    },
    {
     "data": {
      "text/latex": [
       "$\\displaystyle 3 x y^4  \\xi_{y} y_{x} - x y^4  \\phi_{y} + 2 x y^4  \\xi_{x} + 4 x \\phi y^3 + \\xi y^4 + 2 y  \\xi_{y} y_{x}^2 -  \\xi_{yy} y_{x}^3 + y  \\xi_{x} y_{x} +  \\phi_{yy} y_{x}^2 - 2  \\xi_{yx} y_{x}^2 + y  \\phi_{x} + \\phi y_{x} + 2  \\phi_{yx} y_{x} -  \\xi_{xx} y_{x} +  \\phi_{xx}$"
      ],
      "text/plain": [
       "<IPython.core.display.Math object>"
      ]
     },
     "metadata": {},
     "output_type": "display_data"
    },
    {
     "name": "stdout",
     "output_type": "stream",
     "text": [
      "determining system:\n"
     ]
    },
    {
     "data": {
      "text/latex": [
       "$\\displaystyle 3 x  \\xi_{y} y_{x} - x  \\phi_{y} + 2 x  \\xi_{x} + \\xi$"
      ],
      "text/plain": [
       "<IPython.core.display.Math object>"
      ]
     },
     "metadata": {},
     "output_type": "display_data"
    },
    {
     "data": {
      "text/latex": [
       "$\\displaystyle 4 x phi$"
      ],
      "text/plain": [
       "<IPython.core.display.Math object>"
      ]
     },
     "metadata": {},
     "output_type": "display_data"
    },
    {
     "data": {
      "text/latex": [
       "$\\displaystyle 2 y  \\xi_{y} +  \\phi_{yy} - 2  \\xi_{yx}$"
      ],
      "text/plain": [
       "<IPython.core.display.Math object>"
      ]
     },
     "metadata": {},
     "output_type": "display_data"
    },
    {
     "data": {
      "text/latex": [
       "$\\displaystyle - \\xi_{yy}$"
      ],
      "text/plain": [
       "<IPython.core.display.Math object>"
      ]
     },
     "metadata": {},
     "output_type": "display_data"
    },
    {
     "data": {
      "text/latex": [
       "$\\displaystyle y  \\xi_{x} + \\phi + 2  \\phi_{yx} -  \\xi_{xx}$"
      ],
      "text/plain": [
       "<IPython.core.display.Math object>"
      ]
     },
     "metadata": {},
     "output_type": "display_data"
    },
    {
     "data": {
      "text/latex": [
       "$\\displaystyle y  \\phi_{x} +  \\phi_{xx}$"
      ],
      "text/plain": [
       "<IPython.core.display.Math object>"
      ]
     },
     "metadata": {},
     "output_type": "display_data"
    }
   ],
   "source": [
    "# Example 2.18\n",
    "x   = var('x')\n",
    "y   = function('y')\n",
    "ode = diff(y(x), x,x) + y(x)*diff(y(x), x)+x*y(x)**4\n",
    "display(Math(latexer(ode)))\n",
    "inf = infinitesimalsODE(ode, y, x)\n",
    "print(\"determining system:\")\n",
    "for _ in inf:\n",
    "    display(Math(latexer(_)))"
   ]
  },
  {
   "cell_type": "markdown",
   "id": "5f6d65ba-bf49-4544-816d-b5b93b194e73",
   "metadata": {},
   "source": [
    "comparing with eqs 2.102.\\* shows the wrong results"
   ]
  },
  {
   "cell_type": "markdown",
   "id": "e2c4234c-1094-4e6d-92f4-39d3218402a2",
   "metadata": {},
   "source": [
    "# Example 2.19. (p.49)"
   ]
  },
  {
   "cell_type": "code",
   "execution_count": 4,
   "id": "19be09e7-16a1-46b5-9551-388d8294fe76",
   "metadata": {},
   "outputs": [
    {
     "data": {
      "text/latex": [
       "$\\displaystyle y^3 + 3 y y_{x} + y_{x x}$"
      ],
      "text/plain": [
       "<IPython.core.display.Math object>"
      ]
     },
     "metadata": {},
     "output_type": "display_data"
    },
    {
     "data": {
      "text/latex": [
       "$\\displaystyle -3 y  \\xi_{y} y_{x}^2 -  \\xi_{yy} y_{x}^3 + 3 \\phi y^2 + 3 y  \\phi_{y} y_{x} - 3 y  \\xi_{x} y_{x} +  \\phi_{yy} y_{x}^2 - 2  \\xi_{yx} y_{x}^2 - 3  \\xi_{y} y_{x} y_{x x} + 3 y  \\phi_{x} + 3 \\phi y_{x} + 2  \\phi_{yx} y_{x} -  \\xi_{xx} y_{x} +  \\phi_{y} y_{x x} - 2  \\xi_{x} y_{x x} +  \\phi_{xx}$"
      ],
      "text/plain": [
       "<IPython.core.display.Math object>"
      ]
     },
     "metadata": {},
     "output_type": "display_data"
    },
    {
     "name": "stdout",
     "output_type": "stream",
     "text": [
      "Now solving for highest variable\n"
     ]
    },
    {
     "data": {
      "text/latex": [
       "$\\displaystyle 3 y^3  \\xi_{y} y_{x} - y^3  \\phi_{y} + 2 y^3  \\xi_{x} + 6 y  \\xi_{y} y_{x}^2 -  \\xi_{yy} y_{x}^3 + 3 \\phi y^2 + 3 y  \\xi_{x} y_{x} +  \\phi_{yy} y_{x}^2 - 2  \\xi_{yx} y_{x}^2 + 3 y  \\phi_{x} + 3 \\phi y_{x} + 2  \\phi_{yx} y_{x} -  \\xi_{xx} y_{x} +  \\phi_{xx}$"
      ],
      "text/plain": [
       "<IPython.core.display.Math object>"
      ]
     },
     "metadata": {},
     "output_type": "display_data"
    },
    {
     "name": "stdout",
     "output_type": "stream",
     "text": [
      "determining system:\n"
     ]
    },
    {
     "data": {
      "text/latex": [
       "$\\displaystyle 3 phi$"
      ],
      "text/plain": [
       "<IPython.core.display.Math object>"
      ]
     },
     "metadata": {},
     "output_type": "display_data"
    },
    {
     "data": {
      "text/latex": [
       "$\\displaystyle - \\xi_{yy}$"
      ],
      "text/plain": [
       "<IPython.core.display.Math object>"
      ]
     },
     "metadata": {},
     "output_type": "display_data"
    },
    {
     "data": {
      "text/latex": [
       "$\\displaystyle 6 y  \\xi_{y} +  \\phi_{yy} - 2  \\xi_{yx}$"
      ],
      "text/plain": [
       "<IPython.core.display.Math object>"
      ]
     },
     "metadata": {},
     "output_type": "display_data"
    },
    {
     "data": {
      "text/latex": [
       "$\\displaystyle 3 y^3  \\xi_{y} + 3 y  \\xi_{x} + 3 \\phi + 2  \\phi_{yx} -  \\xi_{xx}$"
      ],
      "text/plain": [
       "<IPython.core.display.Math object>"
      ]
     },
     "metadata": {},
     "output_type": "display_data"
    },
    {
     "data": {
      "text/latex": [
       "$\\displaystyle -y^3  \\phi_{y} + 2 y^3  \\xi_{x} + 3 y  \\phi_{x} +  \\phi_{xx}$"
      ],
      "text/plain": [
       "<IPython.core.display.Math object>"
      ]
     },
     "metadata": {},
     "output_type": "display_data"
    }
   ],
   "source": [
    "# Example 2.19\n",
    "x   = var('x')\n",
    "y   = function('y')\n",
    "ode = diff(y(x), x,x) + 3*y(x)*diff(y(x), x)+ y(x)**3\n",
    "display(Math(latexer(ode)))\n",
    "inf = infinitesimalsODE(ode, y, x)\n",
    "print(\"determining system:\")\n",
    "for _ in inf:\n",
    "    display(Math(latexer(_)))"
   ]
  },
  {
   "cell_type": "markdown",
   "id": "2dc82d91-20ee-4f91-ac97-9e5098ebf711",
   "metadata": {},
   "source": [
    "comparing with eqs 2.119.\\* shows the wrong result for the overdetermined system"
   ]
  },
  {
   "cell_type": "markdown",
   "id": "38aa6ec9-e8cf-42df-b7f5-801e6928848a",
   "metadata": {},
   "source": []
  }
 ],
 "metadata": {
  "kernelspec": {
   "display_name": "SageMath 9.6",
   "language": "sage",
   "name": "sagemath"
  },
  "language_info": {
   "codemirror_mode": {
    "name": "ipython",
    "version": 3
   },
   "file_extension": ".py",
   "mimetype": "text/x-python",
   "name": "python",
   "nbconvert_exporter": "python",
   "pygments_lexer": "ipython3",
   "version": "3.10.6"
  },
  "widgets": {
   "application/vnd.jupyter.widget-state+json": {
    "state": {},
    "version_major": 2,
    "version_minor": 0
   }
  }
 },
 "nbformat": 4,
 "nbformat_minor": 5
}
