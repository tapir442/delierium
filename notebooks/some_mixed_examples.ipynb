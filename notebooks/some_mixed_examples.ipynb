{
 "cells": [
  {
   "cell_type": "code",
   "execution_count": 1,
   "id": "545ab148",
   "metadata": {},
   "outputs": [],
   "source": [
    "from delierium.Infinitesimals import prolongationODE, infinitesimalsODE, Janet_Basis_from_ODE\n",
    "from delierium.JanetBasis import Janet_Basis\n",
    "from delierium.helpers import is_derivative, order_of_derivative, eq\n",
    "from delierium.MatrixOrder import Context\n",
    "import functools\n",
    "from operator import mul\n",
    "from pprint import pprint"
   ]
  },
  {
   "cell_type": "code",
   "execution_count": null,
   "id": "2cbcfb5f-f8da-46c7-b44b-1ca511f92b7c",
   "metadata": {},
   "outputs": [],
   "source": [
    "# Schwarz, Example 5.2, p. 200\n",
    "x = var('x')\n",
    "y = function('y')\n",
    "ode = 4*diff(y(x),x,x)*y(x) - 3*diff(y(x), x)**2-12*y(x)**3\n",
    "inf = infinitesimalsODE(ode, y, x)\n",
    "print(\".\"*25)\n",
    "for _ in inf:\n",
    "    _.show()\n"
   ]
  },
  {
   "cell_type": "code",
   "execution_count": null,
   "id": "0a3a01f9-a828-462a-ad3c-b9566acdc8f7",
   "metadata": {},
   "outputs": [],
   "source": [
    "# Schwarz, Example 5.9, p.214\"\n",
    "x = var('x')\n",
    "y = function(\"y\")\n",
    "ode = 4*diff(y(x),x,x)*x**2 - (x**4) * diff(y(x), x)**2 + 4*y(x)\n",
    "inf = infinitesimalsODE(ode, y, x)\n",
    "print(\".\"*25)\n",
    "for _ in inf:\n",
    "    _.show()\n",
    "print(\"Janet basis\")\n",
    "jb = Janet_Basis_from_ODE(ode, y, x)\n",
    "for _ in jb:\n",
    "    _.show()\n"
   ]
  },
  {
   "cell_type": "code",
   "execution_count": null,
   "id": "5ba6d39b-7285-48c1-b280-685d2ffe26a6",
   "metadata": {},
   "outputs": [],
   "source": [
    "# Schwarz, Example 5.11, p 215\n",
    "ode = (x-diff(y(x), x))*diff(y(x), x,x) + 4 * diff(y(x), x)**2\n",
    "inf = infinitesimalsODE(ode, y, x)\n",
    "print(\".\"*25)\n",
    "for _ in inf:\n",
    "    _.show()\n",
    "print(\"Janet basis\")\n",
    "jb = Janet_Basis_from_ODE(ode, y, x)\n",
    "for _ in jb:\n",
    "    _.show()"
   ]
  },
  {
   "cell_type": "code",
   "execution_count": null,
   "id": "fd0a86a0-9968-4385-a86c-7d516b90892f",
   "metadata": {},
   "outputs": [],
   "source": [
    "# Arrigo, example 2.17\n",
    "ode = diff(y(x), x,x)\n",
    "inf = infinitesimalsODE(ode, y, x)\n",
    "print(\"========\")\n",
    "for _ in inf:\n",
    "    _.show()\n",
    "print(\"Janet basis\")\n",
    "jb = Janet_Basis_from_ODE(ode, y, x)\n",
    "for _ in jb:\n",
    "    _.show()    "
   ]
  },
  {
   "cell_type": "code",
   "execution_count": null,
   "id": "ddb2f057-bcac-437c-993d-e3b0f1dc5557",
   "metadata": {},
   "outputs": [],
   "source": [
    "ode2=4*diff(y(x),x,x)*y(x)**2 - 3* (x**2)*diff(y(x),x)*2-12*y(x)**3\n",
    "inf = infinitesimalsODE(ode2, y ,x)\n",
    "print(\"=======\")\n",
    "for _ in inf:\n",
    "    _.show()\n",
    "print(\"Janet basis\")\n",
    "jb = Janet_Basis_from_ODE(ode, y, x)\n",
    "for _ in jb:\n",
    "    _.show()"
   ]
  },
  {
   "cell_type": "code",
   "execution_count": null,
   "id": "1279dab5-7468-49a9-9abe-f936de8002f8",
   "metadata": {},
   "outputs": [],
   "source": [
    "ode3=diff(y(x),x,x) + y(x)*diff(y(x),x)+x*y(x)**4\n",
    "inf = infinitesimalsODE(ode3, y ,x)\n",
    "print(\"=========\")\n",
    "for _ in inf:\n",
    "    _.show()\n",
    "print(\"Janet basis\")\n",
    "jb = Janet_Basis_from_ODE(ode, y, x)\n",
    "for _ in jb:\n",
    "    _.show()"
   ]
  },
  {
   "cell_type": "code",
   "execution_count": null,
   "id": "bc3fa9f6-5fe6-4111-8805-71702826f3e8",
   "metadata": {
    "scrolled": true
   },
   "outputs": [],
   "source": [
    "##### Arrigo, Example 2.19, pp. 49\n",
    "x =  var(\"x\")\n",
    "y = function(\"y\")\n",
    "\n",
    "ode4=diff(y(x),x,x) + 3*y(x)*diff(y(x),x)+y(x)**3\n",
    "inf = infinitesimalsODE(ode4, y ,x)\n",
    "print(\"=========\")\n",
    "for _ in inf:\n",
    "    _.show()\n",
    "print(\"Janet basis\")\n",
    "jb = Janet_Basis_from_ODE(ode, y, x)\n",
    "for _ in jb:\n",
    "    _.show()"
   ]
  },
  {
   "cell_type": "code",
   "execution_count": null,
   "id": "8f548ab8-dab5-4e27-9038-04156b819924",
   "metadata": {},
   "outputs": [],
   "source": [
    "# Arrigo, Example 2.20\n",
    "ode5=diff(y(x),x,x,x) + y(x)*diff(y(x),x,x)\n",
    "inf = infinitesimalsODE(ode5, y ,x)\n",
    "print(\"=========\")\n",
    "for _ in inf:\n",
    "    _.show()\n",
    "print(\"Janet basis\")\n",
    "jb = Janet_Basis_from_ODE(ode, y, x)\n",
    "for _ in jb:\n",
    "    _.show()    "
   ]
  },
  {
   "cell_type": "code",
   "execution_count": null,
   "id": "4dfc808d-e37e-4536-9a57-bf7f195a5aef",
   "metadata": {},
   "outputs": [],
   "source": [
    "# Schwarz, Example 5.156 p. 217\n",
    "x = var('x')\n",
    "y = function('y')\n",
    "ode = diff(y(x),x,x)*y(x) \\\n",
    "    + diff(y(x),x,x)**2 \\\n",
    "    - diff(y(x),x)*y(x)/x \\\n",
    "    - 1/(2*x)  \\\n",
    "    - 2*x**2*exp(- (1+2*diff(y(x),x)*y(x))/(2*x))\n",
    "inf = infinitesimalsODE(ode, y, x)\n",
    "print(\".\"*25)\n",
    "for _ in inf:\n",
    "    _.show()\n",
    "print(\"Janet basis\")\n",
    "jb = Janet_Basis_from_ODE(ode, y, x)\n",
    "for _ in jb:\n",
    "    _.show()  \n",
    "             "
   ]
  },
  {
   "cell_type": "code",
   "execution_count": 7,
   "id": "148d37ac-ce44-46d9-8918-199168f3447f",
   "metadata": {},
   "outputs": [
    {
     "name": "stdout",
     "output_type": "stream",
     "text": [
      "-D[0, 0, 0, 0](xi)(y(x), x)*diff(y(x), x)^5 + D[0, 0, 0, 0](phi)(y(x), x)*diff(y(x), x)^4 - 4*D[0, 0, 0, 1](xi)(y(x), x)*diff(y(x), x)^4 + D[0, 0, 0](xi)(y(x), x)*diff(y(x), x)^5/y(x) - 10*D[0, 0, 0](xi)(y(x), x)*diff(y(x), x)^3*diff(y(x), x, x) + 4*D[0, 0, 0, 1](phi)(y(x), x)*diff(y(x), x)^3 - 6*D[0, 0, 1, 1](xi)(y(x), x)*diff(y(x), x)^3 - D[0, 0, 0](phi)(y(x), x)*diff(y(x), x)^4/y(x) + 3*D[0, 0, 1](xi)(y(x), x)*diff(y(x), x)^4/y(x) + 6*D[0, 0, 0](phi)(y(x), x)*diff(y(x), x)^2*diff(y(x), x, x) - 24*D[0, 0, 1](xi)(y(x), x)*diff(y(x), x)^2*diff(y(x), x, x) + 6*D[0, 0](xi)(y(x), x)*diff(y(x), x)^3*diff(y(x), x, x)/y(x) - 15*D[0, 0](xi)(y(x), x)*diff(y(x), x)*diff(y(x), x, x)^2 - 10*D[0, 0](xi)(y(x), x)*diff(y(x), x)^2*diff(y(x), x, x, x) + 6*D[0, 0, 1, 1](phi)(y(x), x)*diff(y(x), x)^2 - 4*D[0, 1, 1, 1](xi)(y(x), x)*diff(y(x), x)^2 - 3*D[0, 0, 1](phi)(y(x), x)*diff(y(x), x)^3/y(x) + 3*D[0, 1, 1](xi)(y(x), x)*diff(y(x), x)^3/y(x) + 12*D[0, 0, 1](phi)(y(x), x)*diff(y(x), x)*diff(y(x), x, x) - 18*D[0, 1, 1](xi)(y(x), x)*diff(y(x), x)*diff(y(x), x, x) - 3*D[0, 0](phi)(y(x), x)*diff(y(x), x)^2*diff(y(x), x, x)/y(x) + 9*D[0, 1](xi)(y(x), x)*diff(y(x), x)^2*diff(y(x), x, x)/y(x) + 3*D[0, 0](phi)(y(x), x)*diff(y(x), x, x)^2 - 12*D[0, 1](xi)(y(x), x)*diff(y(x), x, x)^2 + 3*D[0](xi)(y(x), x)*diff(y(x), x)*diff(y(x), x, x)^2/y(x) + 4*D[0, 0](phi)(y(x), x)*diff(y(x), x)*diff(y(x), x, x, x) - 16*D[0, 1](xi)(y(x), x)*diff(y(x), x)*diff(y(x), x, x, x) + 5*D[0](xi)(y(x), x)*diff(y(x), x)^2*diff(y(x), x, x, x)/y(x) - 10*D[0](xi)(y(x), x)*diff(y(x), x, x)*diff(y(x), x, x, x) - 5*D[0](xi)(y(x), x)*diff(y(x), x)*diff(y(x), x, x, x, x) + 4*D[0, 1, 1, 1](phi)(y(x), x)*diff(y(x), x) - D[1, 1, 1, 1](xi)(y(x), x)*diff(y(x), x) - 3*D[0, 1, 1](phi)(y(x), x)*diff(y(x), x)^2/y(x) + D[1, 1, 1](xi)(y(x), x)*diff(y(x), x)^2/y(x) + 6*D[0, 1, 1](phi)(y(x), x)*diff(y(x), x, x) - 4*D[1, 1, 1](xi)(y(x), x)*diff(y(x), x, x) - 3*D[0, 1](phi)(y(x), x)*diff(y(x), x)*diff(y(x), x, x)/y(x) + 3*D[1, 1](xi)(y(x), x)*diff(y(x), x)*diff(y(x), x, x)/y(x) + 4*D[0, 1](phi)(y(x), x)*diff(y(x), x, x, x) - 6*D[1, 1](xi)(y(x), x)*diff(y(x), x, x, x) - 2*D[0](phi)(y(x), x)*diff(y(x), x)*diff(y(x), x, x, x)/y(x) + 4*D[1](xi)(y(x), x)*diff(y(x), x)*diff(y(x), x, x, x)/y(x) + D[0](phi)(y(x), x)*diff(y(x), x, x, x, x) - 4*D[1](xi)(y(x), x)*diff(y(x), x, x, x, x) - D[1, 1, 1](phi)(y(x), x)*diff(y(x), x)/y(x) - D[1](phi)(y(x), x)*diff(y(x), x, x, x)/y(x) + phi(y(x), x)*diff(y(x), x)*diff(y(x), x, x, x)/y(x)^2 + D[1, 1, 1, 1](phi)(y(x), x)\n"
     ]
    },
    {
     "data": {
      "text/latex": [
       "$\\displaystyle - \\xi_{yyyy} y_{x}^5 +  \\phi_{yyyy} y_{x}^4 - 4  \\xi_{yyyx} y_{x}^4 +  \\xi_{yyy} y_{x}^5/y - 10  \\xi_{yyy} y_{x}^3 y_{x, x} + 4  \\phi_{yyyx} y_{x}^3 - 6  \\xi_{yyxx} y_{x}^3 -  \\phi_{yyy} y_{x}^4/y + 3  \\xi_{yyx} y_{x}^4/y + 6  \\phi_{yyy} y_{x}^2 y_{x, x} - 24  \\xi_{yyx} y_{x}^2 y_{x, x} + 6  \\xi_{yy} y_{x}^3 y_{x, x}/y - 15  \\xi_{yy} y_{x} y_{x, x}^2 - 10  \\xi_{yy} y_{x}^2 y_{x, x, x} + 6  \\phi_{yyxx} y_{x}^2 - 4  \\xi_{yxxx} y_{x}^2 - 3  \\phi_{yyx} y_{x}^3/y + 3  \\xi_{yxx} y_{x}^3/y + 12  \\phi_{yyx} y_{x} y_{x, x} - 18  \\xi_{yxx} y_{x} y_{x, x} - 3  \\phi_{yy} y_{x}^2 y_{x, x}/y + 9  \\xi_{yx} y_{x}^2 y_{x, x}/y + 3  \\phi_{yy} y_{x, x}^2 - 12  \\xi_{yx} y_{x, x}^2 + 3  \\xi_{y} y_{x} y_{x, x}^2/y + 4  \\phi_{yy} y_{x} y_{x, x, x} - 16  \\xi_{yx} y_{x} y_{x, x, x} + 5  \\xi_{y} y_{x}^2 y_{x, x, x}/y - 10  \\xi_{y} y_{x, x} y_{x, x, x} - 5  \\xi_{y} y_{x} y_{x, x, x, x} + 4  \\phi_{yxxx} y_{x} -  \\xi_{xxxx} y_{x} - 3  \\phi_{yxx} y_{x}^2/y +  \\xi_{xxx} y_{x}^2/y + 6  \\phi_{yxx} y_{x, x} - 4  \\xi_{xxx} y_{x, x} - 3  \\phi_{yx} y_{x} y_{x, x}/y + 3  \\xi_{xx} y_{x} y_{x, x}/y + 4  \\phi_{yx} y_{x, x, x} - 6  \\xi_{xx} y_{x, x, x} - 2  \\phi_{y} y_{x} y_{x, x, x}/y + 4  \\xi_{x} y_{x} y_{x, x, x}/y +  \\phi_{y} y_{x, x, x, x} - 4  \\xi_{x} y_{x, x, x, x} -  \\phi_{xxx} y_{x}/y -  \\phi_{x} y_{x, x, x}/y + \\phi y_{x} y_{x, x, x}/y^2 +  \\phi_{xxxx}$"
      ],
      "text/plain": [
       "<IPython.core.display.Math object>"
      ]
     },
     "metadata": {},
     "output_type": "display_data"
    },
    {
     "name": "stdout",
     "output_type": "stream",
     "text": [
      ".........................\n"
     ]
    },
    {
     "data": {
      "text/html": [
       "<html>\\(\\displaystyle -10 \\, \\mathrm{D}_{0}\\left(\\xi\\right)\\left(y\\left(x\\right), x\\right)\\)</html>"
      ],
      "text/latex": [
       "$\\displaystyle -10 \\, \\mathrm{D}_{0}\\left(\\xi\\right)\\left(y\\left(x\\right), x\\right)$"
      ],
      "text/plain": [
       "-10*D[0](xi)(y(x), x)"
      ]
     },
     "metadata": {},
     "output_type": "display_data"
    },
    {
     "data": {
      "text/html": [
       "<html>\\(\\displaystyle -10 \\, \\mathrm{D}_{0, 0}\\left(\\xi\\right)\\left(y\\left(x\\right), x\\right)\\)</html>"
      ],
      "text/latex": [
       "$\\displaystyle -10 \\, \\mathrm{D}_{0, 0}\\left(\\xi\\right)\\left(y\\left(x\\right), x\\right)$"
      ],
      "text/plain": [
       "-10*D[0, 0](xi)(y(x), x)"
      ]
     },
     "metadata": {},
     "output_type": "display_data"
    },
    {
     "data": {
      "text/html": [
       "<html>\\(\\displaystyle -\\frac{\\mathrm{D}_{0}\\left(\\phi\\right)\\left(y\\left(x\\right), x\\right)}{y\\left(x\\right)} + \\frac{\\phi\\left(y\\left(x\\right), x\\right)}{y\\left(x\\right)^{2}} + 4 \\, \\mathrm{D}_{0, 0}\\left(\\phi\\right)\\left(y\\left(x\\right), x\\right) - 16 \\, \\mathrm{D}_{0, 1}\\left(\\xi\\right)\\left(y\\left(x\\right), x\\right)\\)</html>"
      ],
      "text/latex": [
       "$\\displaystyle -\\frac{\\mathrm{D}_{0}\\left(\\phi\\right)\\left(y\\left(x\\right), x\\right)}{y\\left(x\\right)} + \\frac{\\phi\\left(y\\left(x\\right), x\\right)}{y\\left(x\\right)^{2}} + 4 \\, \\mathrm{D}_{0, 0}\\left(\\phi\\right)\\left(y\\left(x\\right), x\\right) - 16 \\, \\mathrm{D}_{0, 1}\\left(\\xi\\right)\\left(y\\left(x\\right), x\\right)$"
      ],
      "text/plain": [
       "-D[0](phi)(y(x), x)/y(x) + phi(y(x), x)/y(x)^2 + 4*D[0, 0](phi)(y(x), x) - 16*D[0, 1](xi)(y(x), x)"
      ]
     },
     "metadata": {},
     "output_type": "display_data"
    },
    {
     "data": {
      "text/html": [
       "<html>\\(\\displaystyle -\\frac{\\mathrm{D}_{1}\\left(\\phi\\right)\\left(y\\left(x\\right), x\\right)}{y\\left(x\\right)} + 4 \\, \\mathrm{D}_{0, 1}\\left(\\phi\\right)\\left(y\\left(x\\right), x\\right) - 6 \\, \\mathrm{D}_{1, 1}\\left(\\xi\\right)\\left(y\\left(x\\right), x\\right)\\)</html>"
      ],
      "text/latex": [
       "$\\displaystyle -\\frac{\\mathrm{D}_{1}\\left(\\phi\\right)\\left(y\\left(x\\right), x\\right)}{y\\left(x\\right)} + 4 \\, \\mathrm{D}_{0, 1}\\left(\\phi\\right)\\left(y\\left(x\\right), x\\right) - 6 \\, \\mathrm{D}_{1, 1}\\left(\\xi\\right)\\left(y\\left(x\\right), x\\right)$"
      ],
      "text/plain": [
       "-D[1](phi)(y(x), x)/y(x) + 4*D[0, 1](phi)(y(x), x) - 6*D[1, 1](xi)(y(x), x)"
      ]
     },
     "metadata": {},
     "output_type": "display_data"
    },
    {
     "data": {
      "text/html": [
       "<html>\\(\\displaystyle \\frac{3 \\, \\mathrm{D}_{0}\\left(\\xi\\right)\\left(y\\left(x\\right), x\\right)}{y\\left(x\\right)} - 15 \\, \\mathrm{D}_{0, 0}\\left(\\xi\\right)\\left(y\\left(x\\right), x\\right)\\)</html>"
      ],
      "text/latex": [
       "$\\displaystyle \\frac{3 \\, \\mathrm{D}_{0}\\left(\\xi\\right)\\left(y\\left(x\\right), x\\right)}{y\\left(x\\right)} - 15 \\, \\mathrm{D}_{0, 0}\\left(\\xi\\right)\\left(y\\left(x\\right), x\\right)$"
      ],
      "text/plain": [
       "3*D[0](xi)(y(x), x)/y(x) - 15*D[0, 0](xi)(y(x), x)"
      ]
     },
     "metadata": {},
     "output_type": "display_data"
    },
    {
     "data": {
      "text/html": [
       "<html>\\(\\displaystyle 3 \\, \\mathrm{D}_{0, 0}\\left(\\phi\\right)\\left(y\\left(x\\right), x\\right) - 12 \\, \\mathrm{D}_{0, 1}\\left(\\xi\\right)\\left(y\\left(x\\right), x\\right)\\)</html>"
      ],
      "text/latex": [
       "$\\displaystyle 3 \\, \\mathrm{D}_{0, 0}\\left(\\phi\\right)\\left(y\\left(x\\right), x\\right) - 12 \\, \\mathrm{D}_{0, 1}\\left(\\xi\\right)\\left(y\\left(x\\right), x\\right)$"
      ],
      "text/plain": [
       "3*D[0, 0](phi)(y(x), x) - 12*D[0, 1](xi)(y(x), x)"
      ]
     },
     "metadata": {},
     "output_type": "display_data"
    },
    {
     "data": {
      "text/html": [
       "<html>\\(\\displaystyle \\frac{6 \\, \\mathrm{D}_{0, 0}\\left(\\xi\\right)\\left(y\\left(x\\right), x\\right)}{y\\left(x\\right)} - 10 \\, \\mathrm{D}_{0, 0, 0}\\left(\\xi\\right)\\left(y\\left(x\\right), x\\right)\\)</html>"
      ],
      "text/latex": [
       "$\\displaystyle \\frac{6 \\, \\mathrm{D}_{0, 0}\\left(\\xi\\right)\\left(y\\left(x\\right), x\\right)}{y\\left(x\\right)} - 10 \\, \\mathrm{D}_{0, 0, 0}\\left(\\xi\\right)\\left(y\\left(x\\right), x\\right)$"
      ],
      "text/plain": [
       "6*D[0, 0](xi)(y(x), x)/y(x) - 10*D[0, 0, 0](xi)(y(x), x)"
      ]
     },
     "metadata": {},
     "output_type": "display_data"
    },
    {
     "data": {
      "text/html": [
       "<html>\\(\\displaystyle -\\frac{3 \\, \\mathrm{D}_{0, 0}\\left(\\phi\\right)\\left(y\\left(x\\right), x\\right)}{y\\left(x\\right)} + \\frac{9 \\, \\mathrm{D}_{0, 1}\\left(\\xi\\right)\\left(y\\left(x\\right), x\\right)}{y\\left(x\\right)} + 6 \\, \\mathrm{D}_{0, 0, 0}\\left(\\phi\\right)\\left(y\\left(x\\right), x\\right) - 24 \\, \\mathrm{D}_{0, 0, 1}\\left(\\xi\\right)\\left(y\\left(x\\right), x\\right)\\)</html>"
      ],
      "text/latex": [
       "$\\displaystyle -\\frac{3 \\, \\mathrm{D}_{0, 0}\\left(\\phi\\right)\\left(y\\left(x\\right), x\\right)}{y\\left(x\\right)} + \\frac{9 \\, \\mathrm{D}_{0, 1}\\left(\\xi\\right)\\left(y\\left(x\\right), x\\right)}{y\\left(x\\right)} + 6 \\, \\mathrm{D}_{0, 0, 0}\\left(\\phi\\right)\\left(y\\left(x\\right), x\\right) - 24 \\, \\mathrm{D}_{0, 0, 1}\\left(\\xi\\right)\\left(y\\left(x\\right), x\\right)$"
      ],
      "text/plain": [
       "-3*D[0, 0](phi)(y(x), x)/y(x) + 9*D[0, 1](xi)(y(x), x)/y(x) + 6*D[0, 0, 0](phi)(y(x), x) - 24*D[0, 0, 1](xi)(y(x), x)"
      ]
     },
     "metadata": {},
     "output_type": "display_data"
    },
    {
     "data": {
      "text/html": [
       "<html>\\(\\displaystyle -\\frac{3 \\, \\mathrm{D}_{0, 1}\\left(\\phi\\right)\\left(y\\left(x\\right), x\\right)}{y\\left(x\\right)} + \\frac{3 \\, \\mathrm{D}_{1, 1}\\left(\\xi\\right)\\left(y\\left(x\\right), x\\right)}{y\\left(x\\right)} + 12 \\, \\mathrm{D}_{0, 0, 1}\\left(\\phi\\right)\\left(y\\left(x\\right), x\\right) - 18 \\, \\mathrm{D}_{0, 1, 1}\\left(\\xi\\right)\\left(y\\left(x\\right), x\\right)\\)</html>"
      ],
      "text/latex": [
       "$\\displaystyle -\\frac{3 \\, \\mathrm{D}_{0, 1}\\left(\\phi\\right)\\left(y\\left(x\\right), x\\right)}{y\\left(x\\right)} + \\frac{3 \\, \\mathrm{D}_{1, 1}\\left(\\xi\\right)\\left(y\\left(x\\right), x\\right)}{y\\left(x\\right)} + 12 \\, \\mathrm{D}_{0, 0, 1}\\left(\\phi\\right)\\left(y\\left(x\\right), x\\right) - 18 \\, \\mathrm{D}_{0, 1, 1}\\left(\\xi\\right)\\left(y\\left(x\\right), x\\right)$"
      ],
      "text/plain": [
       "-3*D[0, 1](phi)(y(x), x)/y(x) + 3*D[1, 1](xi)(y(x), x)/y(x) + 12*D[0, 0, 1](phi)(y(x), x) - 18*D[0, 1, 1](xi)(y(x), x)"
      ]
     },
     "metadata": {},
     "output_type": "display_data"
    },
    {
     "data": {
      "text/html": [
       "<html>\\(\\displaystyle 6 \\, \\mathrm{D}_{0, 1, 1}\\left(\\phi\\right)\\left(y\\left(x\\right), x\\right) - 4 \\, \\mathrm{D}_{1, 1, 1}\\left(\\xi\\right)\\left(y\\left(x\\right), x\\right)\\)</html>"
      ],
      "text/latex": [
       "$\\displaystyle 6 \\, \\mathrm{D}_{0, 1, 1}\\left(\\phi\\right)\\left(y\\left(x\\right), x\\right) - 4 \\, \\mathrm{D}_{1, 1, 1}\\left(\\xi\\right)\\left(y\\left(x\\right), x\\right)$"
      ],
      "text/plain": [
       "6*D[0, 1, 1](phi)(y(x), x) - 4*D[1, 1, 1](xi)(y(x), x)"
      ]
     },
     "metadata": {},
     "output_type": "display_data"
    },
    {
     "data": {
      "text/html": [
       "<html>\\(\\displaystyle \\frac{\\mathrm{D}_{0, 0, 0}\\left(\\xi\\right)\\left(y\\left(x\\right), x\\right)}{y\\left(x\\right)} - \\mathrm{D}_{0, 0, 0, 0}\\left(\\xi\\right)\\left(y\\left(x\\right), x\\right)\\)</html>"
      ],
      "text/latex": [
       "$\\displaystyle \\frac{\\mathrm{D}_{0, 0, 0}\\left(\\xi\\right)\\left(y\\left(x\\right), x\\right)}{y\\left(x\\right)} - \\mathrm{D}_{0, 0, 0, 0}\\left(\\xi\\right)\\left(y\\left(x\\right), x\\right)$"
      ],
      "text/plain": [
       "D[0, 0, 0](xi)(y(x), x)/y(x) - D[0, 0, 0, 0](xi)(y(x), x)"
      ]
     },
     "metadata": {},
     "output_type": "display_data"
    },
    {
     "data": {
      "text/html": [
       "<html>\\(\\displaystyle -\\frac{\\mathrm{D}_{0, 0, 0}\\left(\\phi\\right)\\left(y\\left(x\\right), x\\right)}{y\\left(x\\right)} + \\frac{3 \\, \\mathrm{D}_{0, 0, 1}\\left(\\xi\\right)\\left(y\\left(x\\right), x\\right)}{y\\left(x\\right)} + \\mathrm{D}_{0, 0, 0, 0}\\left(\\phi\\right)\\left(y\\left(x\\right), x\\right) - 4 \\, \\mathrm{D}_{0, 0, 0, 1}\\left(\\xi\\right)\\left(y\\left(x\\right), x\\right)\\)</html>"
      ],
      "text/latex": [
       "$\\displaystyle -\\frac{\\mathrm{D}_{0, 0, 0}\\left(\\phi\\right)\\left(y\\left(x\\right), x\\right)}{y\\left(x\\right)} + \\frac{3 \\, \\mathrm{D}_{0, 0, 1}\\left(\\xi\\right)\\left(y\\left(x\\right), x\\right)}{y\\left(x\\right)} + \\mathrm{D}_{0, 0, 0, 0}\\left(\\phi\\right)\\left(y\\left(x\\right), x\\right) - 4 \\, \\mathrm{D}_{0, 0, 0, 1}\\left(\\xi\\right)\\left(y\\left(x\\right), x\\right)$"
      ],
      "text/plain": [
       "-D[0, 0, 0](phi)(y(x), x)/y(x) + 3*D[0, 0, 1](xi)(y(x), x)/y(x) + D[0, 0, 0, 0](phi)(y(x), x) - 4*D[0, 0, 0, 1](xi)(y(x), x)"
      ]
     },
     "metadata": {},
     "output_type": "display_data"
    },
    {
     "data": {
      "text/html": [
       "<html>\\(\\displaystyle -\\frac{3 \\, \\mathrm{D}_{0, 0, 1}\\left(\\phi\\right)\\left(y\\left(x\\right), x\\right)}{y\\left(x\\right)} + \\frac{3 \\, \\mathrm{D}_{0, 1, 1}\\left(\\xi\\right)\\left(y\\left(x\\right), x\\right)}{y\\left(x\\right)} + 4 \\, \\mathrm{D}_{0, 0, 0, 1}\\left(\\phi\\right)\\left(y\\left(x\\right), x\\right) - 6 \\, \\mathrm{D}_{0, 0, 1, 1}\\left(\\xi\\right)\\left(y\\left(x\\right), x\\right)\\)</html>"
      ],
      "text/latex": [
       "$\\displaystyle -\\frac{3 \\, \\mathrm{D}_{0, 0, 1}\\left(\\phi\\right)\\left(y\\left(x\\right), x\\right)}{y\\left(x\\right)} + \\frac{3 \\, \\mathrm{D}_{0, 1, 1}\\left(\\xi\\right)\\left(y\\left(x\\right), x\\right)}{y\\left(x\\right)} + 4 \\, \\mathrm{D}_{0, 0, 0, 1}\\left(\\phi\\right)\\left(y\\left(x\\right), x\\right) - 6 \\, \\mathrm{D}_{0, 0, 1, 1}\\left(\\xi\\right)\\left(y\\left(x\\right), x\\right)$"
      ],
      "text/plain": [
       "-3*D[0, 0, 1](phi)(y(x), x)/y(x) + 3*D[0, 1, 1](xi)(y(x), x)/y(x) + 4*D[0, 0, 0, 1](phi)(y(x), x) - 6*D[0, 0, 1, 1](xi)(y(x), x)"
      ]
     },
     "metadata": {},
     "output_type": "display_data"
    },
    {
     "data": {
      "text/html": [
       "<html>\\(\\displaystyle -\\frac{3 \\, \\mathrm{D}_{0, 1, 1}\\left(\\phi\\right)\\left(y\\left(x\\right), x\\right)}{y\\left(x\\right)} + \\frac{\\mathrm{D}_{1, 1, 1}\\left(\\xi\\right)\\left(y\\left(x\\right), x\\right)}{y\\left(x\\right)} + 6 \\, \\mathrm{D}_{0, 0, 1, 1}\\left(\\phi\\right)\\left(y\\left(x\\right), x\\right) - 4 \\, \\mathrm{D}_{0, 1, 1, 1}\\left(\\xi\\right)\\left(y\\left(x\\right), x\\right)\\)</html>"
      ],
      "text/latex": [
       "$\\displaystyle -\\frac{3 \\, \\mathrm{D}_{0, 1, 1}\\left(\\phi\\right)\\left(y\\left(x\\right), x\\right)}{y\\left(x\\right)} + \\frac{\\mathrm{D}_{1, 1, 1}\\left(\\xi\\right)\\left(y\\left(x\\right), x\\right)}{y\\left(x\\right)} + 6 \\, \\mathrm{D}_{0, 0, 1, 1}\\left(\\phi\\right)\\left(y\\left(x\\right), x\\right) - 4 \\, \\mathrm{D}_{0, 1, 1, 1}\\left(\\xi\\right)\\left(y\\left(x\\right), x\\right)$"
      ],
      "text/plain": [
       "-3*D[0, 1, 1](phi)(y(x), x)/y(x) + D[1, 1, 1](xi)(y(x), x)/y(x) + 6*D[0, 0, 1, 1](phi)(y(x), x) - 4*D[0, 1, 1, 1](xi)(y(x), x)"
      ]
     },
     "metadata": {},
     "output_type": "display_data"
    },
    {
     "data": {
      "text/html": [
       "<html>\\(\\displaystyle -\\frac{\\mathrm{D}_{1, 1, 1}\\left(\\phi\\right)\\left(y\\left(x\\right), x\\right)}{y\\left(x\\right)} + 4 \\, \\mathrm{D}_{0, 1, 1, 1}\\left(\\phi\\right)\\left(y\\left(x\\right), x\\right) - \\mathrm{D}_{1, 1, 1, 1}\\left(\\xi\\right)\\left(y\\left(x\\right), x\\right)\\)</html>"
      ],
      "text/latex": [
       "$\\displaystyle -\\frac{\\mathrm{D}_{1, 1, 1}\\left(\\phi\\right)\\left(y\\left(x\\right), x\\right)}{y\\left(x\\right)} + 4 \\, \\mathrm{D}_{0, 1, 1, 1}\\left(\\phi\\right)\\left(y\\left(x\\right), x\\right) - \\mathrm{D}_{1, 1, 1, 1}\\left(\\xi\\right)\\left(y\\left(x\\right), x\\right)$"
      ],
      "text/plain": [
       "-D[1, 1, 1](phi)(y(x), x)/y(x) + 4*D[0, 1, 1, 1](phi)(y(x), x) - D[1, 1, 1, 1](xi)(y(x), x)"
      ]
     },
     "metadata": {},
     "output_type": "display_data"
    },
    {
     "data": {
      "text/html": [
       "<html>\\(\\displaystyle \\mathrm{D}_{1, 1, 1, 1}\\left(\\phi\\right)\\left(y\\left(x\\right), x\\right)\\)</html>"
      ],
      "text/latex": [
       "$\\displaystyle \\mathrm{D}_{1, 1, 1, 1}\\left(\\phi\\right)\\left(y\\left(x\\right), x\\right)$"
      ],
      "text/plain": [
       "D[1, 1, 1, 1](phi)(y(x), x)"
      ]
     },
     "metadata": {},
     "output_type": "display_data"
    },
    {
     "name": "stdout",
     "output_type": "stream",
     "text": [
      "Janet basis\n",
      "-D[0, 0, 0, 0](xi)(y(x), x)*diff(y(x), x)^5 + D[0, 0, 0, 0](phi)(y(x), x)*diff(y(x), x)^4 - 4*D[0, 0, 0, 1](xi)(y(x), x)*diff(y(x), x)^4 + D[0, 0, 0](xi)(y(x), x)*diff(y(x), x)^5/y(x) - 10*D[0, 0, 0](xi)(y(x), x)*diff(y(x), x)^3*diff(y(x), x, x) + 4*D[0, 0, 0, 1](phi)(y(x), x)*diff(y(x), x)^3 - 6*D[0, 0, 1, 1](xi)(y(x), x)*diff(y(x), x)^3 - D[0, 0, 0](phi)(y(x), x)*diff(y(x), x)^4/y(x) + 3*D[0, 0, 1](xi)(y(x), x)*diff(y(x), x)^4/y(x) + 6*D[0, 0, 0](phi)(y(x), x)*diff(y(x), x)^2*diff(y(x), x, x) - 24*D[0, 0, 1](xi)(y(x), x)*diff(y(x), x)^2*diff(y(x), x, x) + 6*D[0, 0](xi)(y(x), x)*diff(y(x), x)^3*diff(y(x), x, x)/y(x) - 15*D[0, 0](xi)(y(x), x)*diff(y(x), x)*diff(y(x), x, x)^2 - 10*D[0, 0](xi)(y(x), x)*diff(y(x), x)^2*diff(y(x), x, x, x) + 6*D[0, 0, 1, 1](phi)(y(x), x)*diff(y(x), x)^2 - 4*D[0, 1, 1, 1](xi)(y(x), x)*diff(y(x), x)^2 - 3*D[0, 0, 1](phi)(y(x), x)*diff(y(x), x)^3/y(x) + 3*D[0, 1, 1](xi)(y(x), x)*diff(y(x), x)^3/y(x) + 12*D[0, 0, 1](phi)(y(x), x)*diff(y(x), x)*diff(y(x), x, x) - 18*D[0, 1, 1](xi)(y(x), x)*diff(y(x), x)*diff(y(x), x, x) - 3*D[0, 0](phi)(y(x), x)*diff(y(x), x)^2*diff(y(x), x, x)/y(x) + 9*D[0, 1](xi)(y(x), x)*diff(y(x), x)^2*diff(y(x), x, x)/y(x) + 3*D[0, 0](phi)(y(x), x)*diff(y(x), x, x)^2 - 12*D[0, 1](xi)(y(x), x)*diff(y(x), x, x)^2 + 3*D[0](xi)(y(x), x)*diff(y(x), x)*diff(y(x), x, x)^2/y(x) + 4*D[0, 0](phi)(y(x), x)*diff(y(x), x)*diff(y(x), x, x, x) - 16*D[0, 1](xi)(y(x), x)*diff(y(x), x)*diff(y(x), x, x, x) + 5*D[0](xi)(y(x), x)*diff(y(x), x)^2*diff(y(x), x, x, x)/y(x) - 10*D[0](xi)(y(x), x)*diff(y(x), x, x)*diff(y(x), x, x, x) - 5*D[0](xi)(y(x), x)*diff(y(x), x)*diff(y(x), x, x, x, x) + 4*D[0, 1, 1, 1](phi)(y(x), x)*diff(y(x), x) - D[1, 1, 1, 1](xi)(y(x), x)*diff(y(x), x) - 3*D[0, 1, 1](phi)(y(x), x)*diff(y(x), x)^2/y(x) + D[1, 1, 1](xi)(y(x), x)*diff(y(x), x)^2/y(x) + 6*D[0, 1, 1](phi)(y(x), x)*diff(y(x), x, x) - 4*D[1, 1, 1](xi)(y(x), x)*diff(y(x), x, x) - 3*D[0, 1](phi)(y(x), x)*diff(y(x), x)*diff(y(x), x, x)/y(x) + 3*D[1, 1](xi)(y(x), x)*diff(y(x), x)*diff(y(x), x, x)/y(x) + 4*D[0, 1](phi)(y(x), x)*diff(y(x), x, x, x) - 6*D[1, 1](xi)(y(x), x)*diff(y(x), x, x, x) - 2*D[0](phi)(y(x), x)*diff(y(x), x)*diff(y(x), x, x, x)/y(x) + 4*D[1](xi)(y(x), x)*diff(y(x), x)*diff(y(x), x, x, x)/y(x) + D[0](phi)(y(x), x)*diff(y(x), x, x, x, x) - 4*D[1](xi)(y(x), x)*diff(y(x), x, x, x, x) - D[1, 1, 1](phi)(y(x), x)*diff(y(x), x)/y(x) - D[1](phi)(y(x), x)*diff(y(x), x, x, x)/y(x) + phi(y(x), x)*diff(y(x), x)*diff(y(x), x, x, x)/y(x)^2 + D[1, 1, 1, 1](phi)(y(x), x)\n"
     ]
    },
    {
     "data": {
      "text/latex": [
       "$\\displaystyle - \\xi_{yyyy} y_{x}^5 +  \\phi_{yyyy} y_{x}^4 - 4  \\xi_{yyyx} y_{x}^4 +  \\xi_{yyy} y_{x}^5/y - 10  \\xi_{yyy} y_{x}^3 y_{x, x} + 4  \\phi_{yyyx} y_{x}^3 - 6  \\xi_{yyxx} y_{x}^3 -  \\phi_{yyy} y_{x}^4/y + 3  \\xi_{yyx} y_{x}^4/y + 6  \\phi_{yyy} y_{x}^2 y_{x, x} - 24  \\xi_{yyx} y_{x}^2 y_{x, x} + 6  \\xi_{yy} y_{x}^3 y_{x, x}/y - 15  \\xi_{yy} y_{x} y_{x, x}^2 - 10  \\xi_{yy} y_{x}^2 y_{x, x, x} + 6  \\phi_{yyxx} y_{x}^2 - 4  \\xi_{yxxx} y_{x}^2 - 3  \\phi_{yyx} y_{x}^3/y + 3  \\xi_{yxx} y_{x}^3/y + 12  \\phi_{yyx} y_{x} y_{x, x} - 18  \\xi_{yxx} y_{x} y_{x, x} - 3  \\phi_{yy} y_{x}^2 y_{x, x}/y + 9  \\xi_{yx} y_{x}^2 y_{x, x}/y + 3  \\phi_{yy} y_{x, x}^2 - 12  \\xi_{yx} y_{x, x}^2 + 3  \\xi_{y} y_{x} y_{x, x}^2/y + 4  \\phi_{yy} y_{x} y_{x, x, x} - 16  \\xi_{yx} y_{x} y_{x, x, x} + 5  \\xi_{y} y_{x}^2 y_{x, x, x}/y - 10  \\xi_{y} y_{x, x} y_{x, x, x} - 5  \\xi_{y} y_{x} y_{x, x, x, x} + 4  \\phi_{yxxx} y_{x} -  \\xi_{xxxx} y_{x} - 3  \\phi_{yxx} y_{x}^2/y +  \\xi_{xxx} y_{x}^2/y + 6  \\phi_{yxx} y_{x, x} - 4  \\xi_{xxx} y_{x, x} - 3  \\phi_{yx} y_{x} y_{x, x}/y + 3  \\xi_{xx} y_{x} y_{x, x}/y + 4  \\phi_{yx} y_{x, x, x} - 6  \\xi_{xx} y_{x, x, x} - 2  \\phi_{y} y_{x} y_{x, x, x}/y + 4  \\xi_{x} y_{x} y_{x, x, x}/y +  \\phi_{y} y_{x, x, x, x} - 4  \\xi_{x} y_{x, x, x, x} -  \\phi_{xxx} y_{x}/y -  \\phi_{x} y_{x, x, x}/y + \\phi y_{x} y_{x, x, x}/y^2 +  \\phi_{xxxx}$"
      ],
      "text/plain": [
       "<IPython.core.display.Math object>"
      ]
     },
     "metadata": {},
     "output_type": "display_data"
    },
    {
     "data": {
      "text/latex": [
       "$\\displaystyle  \\xi_{y}$"
      ],
      "text/plain": [
       "<IPython.core.display.Math object>"
      ]
     },
     "metadata": {},
     "output_type": "display_data"
    },
    {
     "data": {
      "text/latex": [
       "$\\displaystyle  \\phi_{x}$"
      ],
      "text/plain": [
       "<IPython.core.display.Math object>"
      ]
     },
     "metadata": {},
     "output_type": "display_data"
    },
    {
     "data": {
      "text/latex": [
       "$\\displaystyle -\\phi/y +  \\phi_{y}$"
      ],
      "text/plain": [
       "<IPython.core.display.Math object>"
      ]
     },
     "metadata": {},
     "output_type": "display_data"
    },
    {
     "data": {
      "text/latex": [
       "$\\displaystyle  \\xi_{xx}$"
      ],
      "text/plain": [
       "<IPython.core.display.Math object>"
      ]
     },
     "metadata": {},
     "output_type": "display_data"
    },
    {
     "data": {
      "text/latex": [
       "$\\displaystyle  \\xi_{yy}$"
      ],
      "text/plain": [
       "<IPython.core.display.Math object>"
      ]
     },
     "metadata": {},
     "output_type": "display_data"
    }
   ],
   "source": [
    "# https://www.researchgate.net/publication/334785151_Lie_symmetry_Analysis_Fourth_order_Nonlinear_ordinary_differential_Equation_as_a_case_study\n",
    "x = var('x')\n",
    "y = function('y')\n",
    "ode = diff(y(x), x, 4) - diff(y(x),x,x,x)*diff(y(x),x)/y(x)\n",
    "inf = infinitesimalsODE(ode, y, x)\n",
    "print(\".\"*25)\n",
    "for _ in inf:\n",
    "    _.show()\n",
    "print(\"Janet basis\")\n",
    "from IPython.display import Math\n",
    "from delierium.helpers import latexer\n",
    "jb = Janet_Basis_from_ODE(ode, y, x)\n",
    "for _ in jb:\n",
    "    display(Math(latexer(_)))"
   ]
  },
  {
   "cell_type": "code",
   "execution_count": 9,
   "id": "8ec3d5dc-90e6-4b2c-a10b-d225a44d6a82",
   "metadata": {},
   "outputs": [
    {
     "name": "stdout",
     "output_type": "stream",
     "text": [
      "-D[0, 0, 0, 0, 0](xi)(y(x), x)*diff(y(x), x)^6 + D[0, 0, 0, 0, 0](phi)(y(x), x)*diff(y(x), x)^5 - 5*D[0, 0, 0, 0, 1](xi)(y(x), x)*diff(y(x), x)^5 - 15*D[0, 0, 0, 0](xi)(y(x), x)*diff(y(x), x)^4*diff(y(x), x, x) + 5*D[0, 0, 0, 0, 1](phi)(y(x), x)*diff(y(x), x)^4 - 10*D[0, 0, 0, 1, 1](xi)(y(x), x)*diff(y(x), x)^4 + 10*D[0, 0, 0, 0](phi)(y(x), x)*diff(y(x), x)^3*diff(y(x), x, x) - 50*D[0, 0, 0, 1](xi)(y(x), x)*diff(y(x), x)^3*diff(y(x), x, x) + D[0, 0, 0](xi)(y(x), x)*diff(y(x), x)^4*diff(y(x), x, x)/y(x) - 45*D[0, 0, 0](xi)(y(x), x)*diff(y(x), x)^2*diff(y(x), x, x)^2 - 20*D[0, 0, 0](xi)(y(x), x)*diff(y(x), x)^3*diff(y(x), x, x, x) + 10*D[0, 0, 0, 1, 1](phi)(y(x), x)*diff(y(x), x)^3 - 10*D[0, 0, 1, 1, 1](xi)(y(x), x)*diff(y(x), x)^3 + 30*D[0, 0, 0, 1](phi)(y(x), x)*diff(y(x), x)^2*diff(y(x), x, x) - 60*D[0, 0, 1, 1](xi)(y(x), x)*diff(y(x), x)^2*diff(y(x), x, x) - D[0, 0, 0](phi)(y(x), x)*diff(y(x), x)^3*diff(y(x), x, x)/y(x) + 3*D[0, 0, 1](xi)(y(x), x)*diff(y(x), x)^3*diff(y(x), x, x)/y(x) + 15*D[0, 0, 0](phi)(y(x), x)*diff(y(x), x)*diff(y(x), x, x)^2 - 75*D[0, 0, 1](xi)(y(x), x)*diff(y(x), x)*diff(y(x), x, x)^2 + 6*D[0, 0](xi)(y(x), x)*diff(y(x), x)^2*diff(y(x), x, x)^2/y(x) - 15*D[0, 0](xi)(y(x), x)*diff(y(x), x, x)^3 + 10*D[0, 0, 0](phi)(y(x), x)*diff(y(x), x)^2*diff(y(x), x, x, x) - 50*D[0, 0, 1](xi)(y(x), x)*diff(y(x), x)^2*diff(y(x), x, x, x) + D[0, 0](xi)(y(x), x)*diff(y(x), x)^3*diff(y(x), x, x, x)/y(x) - 60*D[0, 0](xi)(y(x), x)*diff(y(x), x)*diff(y(x), x, x)*diff(y(x), x, x, x) - 15*D[0, 0](xi)(y(x), x)*diff(y(x), x)^2*diff(y(x), x, x, x, x) + 10*D[0, 0, 1, 1, 1](phi)(y(x), x)*diff(y(x), x)^2 - 5*D[0, 1, 1, 1, 1](xi)(y(x), x)*diff(y(x), x)^2 + 30*D[0, 0, 1, 1](phi)(y(x), x)*diff(y(x), x)*diff(y(x), x, x) - 30*D[0, 1, 1, 1](xi)(y(x), x)*diff(y(x), x)*diff(y(x), x, x) - 3*D[0, 0, 1](phi)(y(x), x)*diff(y(x), x)^2*diff(y(x), x, x)/y(x) + 3*D[0, 1, 1](xi)(y(x), x)*diff(y(x), x)^2*diff(y(x), x, x)/y(x) + 15*D[0, 0, 1](phi)(y(x), x)*diff(y(x), x, x)^2 - 30*D[0, 1, 1](xi)(y(x), x)*diff(y(x), x, x)^2 - 3*D[0, 0](phi)(y(x), x)*diff(y(x), x)*diff(y(x), x, x)^2/y(x) + 9*D[0, 1](xi)(y(x), x)*diff(y(x), x)*diff(y(x), x, x)^2/y(x) + 3*D[0](xi)(y(x), x)*diff(y(x), x, x)^3/y(x) + 20*D[0, 0, 1](phi)(y(x), x)*diff(y(x), x)*diff(y(x), x, x, x) - 40*D[0, 1, 1](xi)(y(x), x)*diff(y(x), x)*diff(y(x), x, x, x) - D[0, 0](phi)(y(x), x)*diff(y(x), x)^2*diff(y(x), x, x, x)/y(x) + 2*D[0, 1](xi)(y(x), x)*diff(y(x), x)^2*diff(y(x), x, x, x)/y(x) + 10*D[0, 0](phi)(y(x), x)*diff(y(x), x, x)*diff(y(x), x, x, x) - 50*D[0, 1](xi)(y(x), x)*diff(y(x), x, x)*diff(y(x), x, x, x) + 7*D[0](xi)(y(x), x)*diff(y(x), x)*diff(y(x), x, x)*diff(y(x), x, x, x)/y(x) - 10*D[0](xi)(y(x), x)*diff(y(x), x, x, x)^2 + 5*D[0, 0](phi)(y(x), x)*diff(y(x), x)*diff(y(x), x, x, x, x) - 25*D[0, 1](xi)(y(x), x)*diff(y(x), x)*diff(y(x), x, x, x, x) - 15*D[0](xi)(y(x), x)*diff(y(x), x, x)*diff(y(x), x, x, x, x) - 6*D[0](xi)(y(x), x)*diff(y(x), x)*diff(y(x), x, x, x, x, x) + 5*D[0, 1, 1, 1, 1](phi)(y(x), x)*diff(y(x), x) - D[1, 1, 1, 1, 1](xi)(y(x), x)*diff(y(x), x) + 10*D[0, 1, 1, 1](phi)(y(x), x)*diff(y(x), x, x) - 5*D[1, 1, 1, 1](xi)(y(x), x)*diff(y(x), x, x) - 3*D[0, 1, 1](phi)(y(x), x)*diff(y(x), x)*diff(y(x), x, x)/y(x) + D[1, 1, 1](xi)(y(x), x)*diff(y(x), x)*diff(y(x), x, x)/y(x) - 3*D[0, 1](phi)(y(x), x)*diff(y(x), x, x)^2/y(x) + 3*D[1, 1](xi)(y(x), x)*diff(y(x), x, x)^2/y(x) + 10*D[0, 1, 1](phi)(y(x), x)*diff(y(x), x, x, x) - 10*D[1, 1, 1](xi)(y(x), x)*diff(y(x), x, x, x) - 2*D[0, 1](phi)(y(x), x)*diff(y(x), x)*diff(y(x), x, x, x)/y(x) + D[1, 1](xi)(y(x), x)*diff(y(x), x)*diff(y(x), x, x, x)/y(x) - 2*D[0](phi)(y(x), x)*diff(y(x), x, x)*diff(y(x), x, x, x)/y(x) + 5*D[1](xi)(y(x), x)*diff(y(x), x, x)*diff(y(x), x, x, x)/y(x) + 5*D[0, 1](phi)(y(x), x)*diff(y(x), x, x, x, x) - 10*D[1, 1](xi)(y(x), x)*diff(y(x), x, x, x, x) + D[0](phi)(y(x), x)*diff(y(x), x, x, x, x, x) - 5*D[1](xi)(y(x), x)*diff(y(x), x, x, x, x, x) - D[1, 1, 1](phi)(y(x), x)*diff(y(x), x, x)/y(x) - D[1, 1](phi)(y(x), x)*diff(y(x), x, x, x)/y(x) + phi(y(x), x)*diff(y(x), x, x)*diff(y(x), x, x, x)/y(x)^2 + D[1, 1, 1, 1, 1](phi)(y(x), x)\n"
     ]
    },
    {
     "data": {
      "text/latex": [
       "$\\displaystyle - \\xi_{yyyyy} y_{x}^6 +  \\phi_{yyyyy} y_{x}^5 - 5  \\xi_{yyyyx} y_{x}^5 - 15  \\xi_{yyyy} y_{x}^4 y_{x, x} + 5  \\phi_{yyyyx} y_{x}^4 - 10  \\xi_{yyyxx} y_{x}^4 + 10  \\phi_{yyyy} y_{x}^3 y_{x, x} - 50  \\xi_{yyyx} y_{x}^3 y_{x, x} +  \\xi_{yyy} y_{x}^4 y_{x, x}/y - 45  \\xi_{yyy} y_{x}^2 y_{x, x}^2 - 20  \\xi_{yyy} y_{x}^3 y_{x, x, x} + 10  \\phi_{yyyxx} y_{x}^3 - 10  \\xi_{yyxxx} y_{x}^3 + 30  \\phi_{yyyx} y_{x}^2 y_{x, x} - 60  \\xi_{yyxx} y_{x}^2 y_{x, x} -  \\phi_{yyy} y_{x}^3 y_{x, x}/y + 3  \\xi_{yyx} y_{x}^3 y_{x, x}/y + 15  \\phi_{yyy} y_{x} y_{x, x}^2 - 75  \\xi_{yyx} y_{x} y_{x, x}^2 + 6  \\xi_{yy} y_{x}^2 y_{x, x}^2/y - 15  \\xi_{yy} y_{x, x}^3 + 10  \\phi_{yyy} y_{x}^2 y_{x, x, x} - 50  \\xi_{yyx} y_{x}^2 y_{x, x, x} +  \\xi_{yy} y_{x}^3 y_{x, x, x}/y - 60  \\xi_{yy} y_{x} y_{x, x} y_{x, x, x} - 15  \\xi_{yy} y_{x}^2 y_{x, x, x, x} + 10  \\phi_{yyxxx} y_{x}^2 - 5  \\xi_{yxxxx} y_{x}^2 + 30  \\phi_{yyxx} y_{x} y_{x, x} - 30  \\xi_{yxxx} y_{x} y_{x, x} - 3  \\phi_{yyx} y_{x}^2 y_{x, x}/y + 3  \\xi_{yxx} y_{x}^2 y_{x, x}/y + 15  \\phi_{yyx} y_{x, x}^2 - 30  \\xi_{yxx} y_{x, x}^2 - 3  \\phi_{yy} y_{x} y_{x, x}^2/y + 9  \\xi_{yx} y_{x} y_{x, x}^2/y + 3  \\xi_{y} y_{x, x}^3/y + 20  \\phi_{yyx} y_{x} y_{x, x, x} - 40  \\xi_{yxx} y_{x} y_{x, x, x} -  \\phi_{yy} y_{x}^2 y_{x, x, x}/y + 2  \\xi_{yx} y_{x}^2 y_{x, x, x}/y + 10  \\phi_{yy} y_{x, x} y_{x, x, x} - 50  \\xi_{yx} y_{x, x} y_{x, x, x} + 7  \\xi_{y} y_{x} y_{x, x} y_{x, x, x}/y - 10  \\xi_{y} y_{x, x, x}^2 + 5  \\phi_{yy} y_{x} y_{x, x, x, x} - 25  \\xi_{yx} y_{x} y_{x, x, x, x} - 15  \\xi_{y} y_{x, x} y_{x, x, x, x} - 6  \\xi_{y} y_{x} y_{x, x, x, x, x} + 5  \\phi_{yxxxx} y_{x} -  \\xi_{xxxxx} y_{x} + 10  \\phi_{yxxx} y_{x, x} - 5  \\xi_{xxxx} y_{x, x} - 3  \\phi_{yxx} y_{x} y_{x, x}/y +  \\xi_{xxx} y_{x} y_{x, x}/y - 3  \\phi_{yx} y_{x, x}^2/y + 3  \\xi_{xx} y_{x, x}^2/y + 10  \\phi_{yxx} y_{x, x, x} - 10  \\xi_{xxx} y_{x, x, x} - 2  \\phi_{yx} y_{x} y_{x, x, x}/y +  \\xi_{xx} y_{x} y_{x, x, x}/y - 2  \\phi_{y} y_{x, x} y_{x, x, x}/y + 5  \\xi_{x} y_{x, x} y_{x, x, x}/y + 5  \\phi_{yx} y_{x, x, x, x} - 10  \\xi_{xx} y_{x, x, x, x} +  \\phi_{y} y_{x, x, x, x, x} - 5  \\xi_{x} y_{x, x, x, x, x} -  \\phi_{xxx} y_{x, x}/y -  \\phi_{xx} y_{x, x, x}/y + \\phi y_{x, x} y_{x, x, x}/y^2 +  \\phi_{xxxxx}$"
      ],
      "text/plain": [
       "<IPython.core.display.Math object>"
      ]
     },
     "metadata": {},
     "output_type": "display_data"
    },
    {
     "name": "stdout",
     "output_type": "stream",
     "text": [
      ".........................\n"
     ]
    },
    {
     "data": {
      "text/html": [
       "<html>\\(\\displaystyle -15 \\, \\mathrm{D}_{0}\\left(\\xi\\right)\\left(y\\left(x\\right), x\\right)\\)</html>"
      ],
      "text/latex": [
       "$\\displaystyle -15 \\, \\mathrm{D}_{0}\\left(\\xi\\right)\\left(y\\left(x\\right), x\\right)$"
      ],
      "text/plain": [
       "-15*D[0](xi)(y(x), x)"
      ]
     },
     "metadata": {},
     "output_type": "display_data"
    },
    {
     "data": {
      "text/html": [
       "<html>\\(\\displaystyle -15 \\, \\mathrm{D}_{0, 0}\\left(\\xi\\right)\\left(y\\left(x\\right), x\\right)\\)</html>"
      ],
      "text/latex": [
       "$\\displaystyle -15 \\, \\mathrm{D}_{0, 0}\\left(\\xi\\right)\\left(y\\left(x\\right), x\\right)$"
      ],
      "text/plain": [
       "-15*D[0, 0](xi)(y(x), x)"
      ]
     },
     "metadata": {},
     "output_type": "display_data"
    },
    {
     "data": {
      "text/html": [
       "<html>\\(\\displaystyle 5 \\, \\mathrm{D}_{0, 0}\\left(\\phi\\right)\\left(y\\left(x\\right), x\\right) - 25 \\, \\mathrm{D}_{0, 1}\\left(\\xi\\right)\\left(y\\left(x\\right), x\\right)\\)</html>"
      ],
      "text/latex": [
       "$\\displaystyle 5 \\, \\mathrm{D}_{0, 0}\\left(\\phi\\right)\\left(y\\left(x\\right), x\\right) - 25 \\, \\mathrm{D}_{0, 1}\\left(\\xi\\right)\\left(y\\left(x\\right), x\\right)$"
      ],
      "text/plain": [
       "5*D[0, 0](phi)(y(x), x) - 25*D[0, 1](xi)(y(x), x)"
      ]
     },
     "metadata": {},
     "output_type": "display_data"
    },
    {
     "data": {
      "text/html": [
       "<html>\\(\\displaystyle 5 \\, \\mathrm{D}_{0, 1}\\left(\\phi\\right)\\left(y\\left(x\\right), x\\right) - 10 \\, \\mathrm{D}_{1, 1}\\left(\\xi\\right)\\left(y\\left(x\\right), x\\right)\\)</html>"
      ],
      "text/latex": [
       "$\\displaystyle 5 \\, \\mathrm{D}_{0, 1}\\left(\\phi\\right)\\left(y\\left(x\\right), x\\right) - 10 \\, \\mathrm{D}_{1, 1}\\left(\\xi\\right)\\left(y\\left(x\\right), x\\right)$"
      ],
      "text/plain": [
       "5*D[0, 1](phi)(y(x), x) - 10*D[1, 1](xi)(y(x), x)"
      ]
     },
     "metadata": {},
     "output_type": "display_data"
    },
    {
     "data": {
      "text/html": [
       "<html>\\(\\displaystyle -10 \\, \\mathrm{D}_{0}\\left(\\xi\\right)\\left(y\\left(x\\right), x\\right)\\)</html>"
      ],
      "text/latex": [
       "$\\displaystyle -10 \\, \\mathrm{D}_{0}\\left(\\xi\\right)\\left(y\\left(x\\right), x\\right)$"
      ],
      "text/plain": [
       "-10*D[0](xi)(y(x), x)"
      ]
     },
     "metadata": {},
     "output_type": "display_data"
    },
    {
     "data": {
      "text/html": [
       "<html>\\(\\displaystyle \\frac{\\mathrm{D}_{0}\\left(\\xi\\right)\\left(y\\left(x\\right), x\\right)}{y\\left(x\\right)} - 60 \\, \\mathrm{D}_{0, 0}\\left(\\xi\\right)\\left(y\\left(x\\right), x\\right)\\)</html>"
      ],
      "text/latex": [
       "$\\displaystyle \\frac{\\mathrm{D}_{0}\\left(\\xi\\right)\\left(y\\left(x\\right), x\\right)}{y\\left(x\\right)} - 60 \\, \\mathrm{D}_{0, 0}\\left(\\xi\\right)\\left(y\\left(x\\right), x\\right)$"
      ],
      "text/plain": [
       "D[0](xi)(y(x), x)/y(x) - 60*D[0, 0](xi)(y(x), x)"
      ]
     },
     "metadata": {},
     "output_type": "display_data"
    },
    {
     "data": {
      "text/html": [
       "<html>\\(\\displaystyle -\\frac{\\mathrm{D}_{0}\\left(\\phi\\right)\\left(y\\left(x\\right), x\\right)}{y\\left(x\\right)} + \\frac{\\phi\\left(y\\left(x\\right), x\\right)}{y\\left(x\\right)^{2}} + 10 \\, \\mathrm{D}_{0, 0}\\left(\\phi\\right)\\left(y\\left(x\\right), x\\right) - 50 \\, \\mathrm{D}_{0, 1}\\left(\\xi\\right)\\left(y\\left(x\\right), x\\right)\\)</html>"
      ],
      "text/latex": [
       "$\\displaystyle -\\frac{\\mathrm{D}_{0}\\left(\\phi\\right)\\left(y\\left(x\\right), x\\right)}{y\\left(x\\right)} + \\frac{\\phi\\left(y\\left(x\\right), x\\right)}{y\\left(x\\right)^{2}} + 10 \\, \\mathrm{D}_{0, 0}\\left(\\phi\\right)\\left(y\\left(x\\right), x\\right) - 50 \\, \\mathrm{D}_{0, 1}\\left(\\xi\\right)\\left(y\\left(x\\right), x\\right)$"
      ],
      "text/plain": [
       "-D[0](phi)(y(x), x)/y(x) + phi(y(x), x)/y(x)^2 + 10*D[0, 0](phi)(y(x), x) - 50*D[0, 1](xi)(y(x), x)"
      ]
     },
     "metadata": {},
     "output_type": "display_data"
    },
    {
     "data": {
      "text/html": [
       "<html>\\(\\displaystyle \\frac{\\mathrm{D}_{0, 0}\\left(\\xi\\right)\\left(y\\left(x\\right), x\\right)}{y\\left(x\\right)} - 20 \\, \\mathrm{D}_{0, 0, 0}\\left(\\xi\\right)\\left(y\\left(x\\right), x\\right)\\)</html>"
      ],
      "text/latex": [
       "$\\displaystyle \\frac{\\mathrm{D}_{0, 0}\\left(\\xi\\right)\\left(y\\left(x\\right), x\\right)}{y\\left(x\\right)} - 20 \\, \\mathrm{D}_{0, 0, 0}\\left(\\xi\\right)\\left(y\\left(x\\right), x\\right)$"
      ],
      "text/plain": [
       "D[0, 0](xi)(y(x), x)/y(x) - 20*D[0, 0, 0](xi)(y(x), x)"
      ]
     },
     "metadata": {},
     "output_type": "display_data"
    },
    {
     "data": {
      "text/html": [
       "<html>\\(\\displaystyle -\\frac{\\mathrm{D}_{0, 0}\\left(\\phi\\right)\\left(y\\left(x\\right), x\\right)}{y\\left(x\\right)} + \\frac{2 \\, \\mathrm{D}_{0, 1}\\left(\\xi\\right)\\left(y\\left(x\\right), x\\right)}{y\\left(x\\right)} + 10 \\, \\mathrm{D}_{0, 0, 0}\\left(\\phi\\right)\\left(y\\left(x\\right), x\\right) - 50 \\, \\mathrm{D}_{0, 0, 1}\\left(\\xi\\right)\\left(y\\left(x\\right), x\\right)\\)</html>"
      ],
      "text/latex": [
       "$\\displaystyle -\\frac{\\mathrm{D}_{0, 0}\\left(\\phi\\right)\\left(y\\left(x\\right), x\\right)}{y\\left(x\\right)} + \\frac{2 \\, \\mathrm{D}_{0, 1}\\left(\\xi\\right)\\left(y\\left(x\\right), x\\right)}{y\\left(x\\right)} + 10 \\, \\mathrm{D}_{0, 0, 0}\\left(\\phi\\right)\\left(y\\left(x\\right), x\\right) - 50 \\, \\mathrm{D}_{0, 0, 1}\\left(\\xi\\right)\\left(y\\left(x\\right), x\\right)$"
      ],
      "text/plain": [
       "-D[0, 0](phi)(y(x), x)/y(x) + 2*D[0, 1](xi)(y(x), x)/y(x) + 10*D[0, 0, 0](phi)(y(x), x) - 50*D[0, 0, 1](xi)(y(x), x)"
      ]
     },
     "metadata": {},
     "output_type": "display_data"
    },
    {
     "data": {
      "text/html": [
       "<html>\\(\\displaystyle -\\frac{2 \\, \\mathrm{D}_{0, 1}\\left(\\phi\\right)\\left(y\\left(x\\right), x\\right)}{y\\left(x\\right)} + \\frac{\\mathrm{D}_{1, 1}\\left(\\xi\\right)\\left(y\\left(x\\right), x\\right)}{y\\left(x\\right)} + 20 \\, \\mathrm{D}_{0, 0, 1}\\left(\\phi\\right)\\left(y\\left(x\\right), x\\right) - 40 \\, \\mathrm{D}_{0, 1, 1}\\left(\\xi\\right)\\left(y\\left(x\\right), x\\right)\\)</html>"
      ],
      "text/latex": [
       "$\\displaystyle -\\frac{2 \\, \\mathrm{D}_{0, 1}\\left(\\phi\\right)\\left(y\\left(x\\right), x\\right)}{y\\left(x\\right)} + \\frac{\\mathrm{D}_{1, 1}\\left(\\xi\\right)\\left(y\\left(x\\right), x\\right)}{y\\left(x\\right)} + 20 \\, \\mathrm{D}_{0, 0, 1}\\left(\\phi\\right)\\left(y\\left(x\\right), x\\right) - 40 \\, \\mathrm{D}_{0, 1, 1}\\left(\\xi\\right)\\left(y\\left(x\\right), x\\right)$"
      ],
      "text/plain": [
       "-2*D[0, 1](phi)(y(x), x)/y(x) + D[1, 1](xi)(y(x), x)/y(x) + 20*D[0, 0, 1](phi)(y(x), x) - 40*D[0, 1, 1](xi)(y(x), x)"
      ]
     },
     "metadata": {},
     "output_type": "display_data"
    },
    {
     "data": {
      "text/html": [
       "<html>\\(\\displaystyle -\\frac{\\mathrm{D}_{1, 1}\\left(\\phi\\right)\\left(y\\left(x\\right), x\\right)}{y\\left(x\\right)} + 10 \\, \\mathrm{D}_{0, 1, 1}\\left(\\phi\\right)\\left(y\\left(x\\right), x\\right) - 10 \\, \\mathrm{D}_{1, 1, 1}\\left(\\xi\\right)\\left(y\\left(x\\right), x\\right)\\)</html>"
      ],
      "text/latex": [
       "$\\displaystyle -\\frac{\\mathrm{D}_{1, 1}\\left(\\phi\\right)\\left(y\\left(x\\right), x\\right)}{y\\left(x\\right)} + 10 \\, \\mathrm{D}_{0, 1, 1}\\left(\\phi\\right)\\left(y\\left(x\\right), x\\right) - 10 \\, \\mathrm{D}_{1, 1, 1}\\left(\\xi\\right)\\left(y\\left(x\\right), x\\right)$"
      ],
      "text/plain": [
       "-D[1, 1](phi)(y(x), x)/y(x) + 10*D[0, 1, 1](phi)(y(x), x) - 10*D[1, 1, 1](xi)(y(x), x)"
      ]
     },
     "metadata": {},
     "output_type": "display_data"
    },
    {
     "data": {
      "text/html": [
       "<html>\\(\\displaystyle \\frac{3 \\, \\mathrm{D}_{0}\\left(\\xi\\right)\\left(y\\left(x\\right), x\\right)}{y\\left(x\\right)} - 15 \\, \\mathrm{D}_{0, 0}\\left(\\xi\\right)\\left(y\\left(x\\right), x\\right)\\)</html>"
      ],
      "text/latex": [
       "$\\displaystyle \\frac{3 \\, \\mathrm{D}_{0}\\left(\\xi\\right)\\left(y\\left(x\\right), x\\right)}{y\\left(x\\right)} - 15 \\, \\mathrm{D}_{0, 0}\\left(\\xi\\right)\\left(y\\left(x\\right), x\\right)$"
      ],
      "text/plain": [
       "3*D[0](xi)(y(x), x)/y(x) - 15*D[0, 0](xi)(y(x), x)"
      ]
     },
     "metadata": {},
     "output_type": "display_data"
    },
    {
     "data": {
      "text/html": [
       "<html>\\(\\displaystyle \\frac{6 \\, \\mathrm{D}_{0, 0}\\left(\\xi\\right)\\left(y\\left(x\\right), x\\right)}{y\\left(x\\right)} - 45 \\, \\mathrm{D}_{0, 0, 0}\\left(\\xi\\right)\\left(y\\left(x\\right), x\\right)\\)</html>"
      ],
      "text/latex": [
       "$\\displaystyle \\frac{6 \\, \\mathrm{D}_{0, 0}\\left(\\xi\\right)\\left(y\\left(x\\right), x\\right)}{y\\left(x\\right)} - 45 \\, \\mathrm{D}_{0, 0, 0}\\left(\\xi\\right)\\left(y\\left(x\\right), x\\right)$"
      ],
      "text/plain": [
       "6*D[0, 0](xi)(y(x), x)/y(x) - 45*D[0, 0, 0](xi)(y(x), x)"
      ]
     },
     "metadata": {},
     "output_type": "display_data"
    },
    {
     "data": {
      "text/html": [
       "<html>\\(\\displaystyle -\\frac{3 \\, \\mathrm{D}_{0, 0}\\left(\\phi\\right)\\left(y\\left(x\\right), x\\right)}{y\\left(x\\right)} + \\frac{9 \\, \\mathrm{D}_{0, 1}\\left(\\xi\\right)\\left(y\\left(x\\right), x\\right)}{y\\left(x\\right)} + 15 \\, \\mathrm{D}_{0, 0, 0}\\left(\\phi\\right)\\left(y\\left(x\\right), x\\right) - 75 \\, \\mathrm{D}_{0, 0, 1}\\left(\\xi\\right)\\left(y\\left(x\\right), x\\right)\\)</html>"
      ],
      "text/latex": [
       "$\\displaystyle -\\frac{3 \\, \\mathrm{D}_{0, 0}\\left(\\phi\\right)\\left(y\\left(x\\right), x\\right)}{y\\left(x\\right)} + \\frac{9 \\, \\mathrm{D}_{0, 1}\\left(\\xi\\right)\\left(y\\left(x\\right), x\\right)}{y\\left(x\\right)} + 15 \\, \\mathrm{D}_{0, 0, 0}\\left(\\phi\\right)\\left(y\\left(x\\right), x\\right) - 75 \\, \\mathrm{D}_{0, 0, 1}\\left(\\xi\\right)\\left(y\\left(x\\right), x\\right)$"
      ],
      "text/plain": [
       "-3*D[0, 0](phi)(y(x), x)/y(x) + 9*D[0, 1](xi)(y(x), x)/y(x) + 15*D[0, 0, 0](phi)(y(x), x) - 75*D[0, 0, 1](xi)(y(x), x)"
      ]
     },
     "metadata": {},
     "output_type": "display_data"
    },
    {
     "data": {
      "text/html": [
       "<html>\\(\\displaystyle -\\frac{3 \\, \\mathrm{D}_{0, 1}\\left(\\phi\\right)\\left(y\\left(x\\right), x\\right)}{y\\left(x\\right)} + \\frac{3 \\, \\mathrm{D}_{1, 1}\\left(\\xi\\right)\\left(y\\left(x\\right), x\\right)}{y\\left(x\\right)} + 15 \\, \\mathrm{D}_{0, 0, 1}\\left(\\phi\\right)\\left(y\\left(x\\right), x\\right) - 30 \\, \\mathrm{D}_{0, 1, 1}\\left(\\xi\\right)\\left(y\\left(x\\right), x\\right)\\)</html>"
      ],
      "text/latex": [
       "$\\displaystyle -\\frac{3 \\, \\mathrm{D}_{0, 1}\\left(\\phi\\right)\\left(y\\left(x\\right), x\\right)}{y\\left(x\\right)} + \\frac{3 \\, \\mathrm{D}_{1, 1}\\left(\\xi\\right)\\left(y\\left(x\\right), x\\right)}{y\\left(x\\right)} + 15 \\, \\mathrm{D}_{0, 0, 1}\\left(\\phi\\right)\\left(y\\left(x\\right), x\\right) - 30 \\, \\mathrm{D}_{0, 1, 1}\\left(\\xi\\right)\\left(y\\left(x\\right), x\\right)$"
      ],
      "text/plain": [
       "-3*D[0, 1](phi)(y(x), x)/y(x) + 3*D[1, 1](xi)(y(x), x)/y(x) + 15*D[0, 0, 1](phi)(y(x), x) - 30*D[0, 1, 1](xi)(y(x), x)"
      ]
     },
     "metadata": {},
     "output_type": "display_data"
    },
    {
     "data": {
      "text/html": [
       "<html>\\(\\displaystyle \\frac{\\mathrm{D}_{0, 0, 0}\\left(\\xi\\right)\\left(y\\left(x\\right), x\\right)}{y\\left(x\\right)} - 15 \\, \\mathrm{D}_{0, 0, 0, 0}\\left(\\xi\\right)\\left(y\\left(x\\right), x\\right)\\)</html>"
      ],
      "text/latex": [
       "$\\displaystyle \\frac{\\mathrm{D}_{0, 0, 0}\\left(\\xi\\right)\\left(y\\left(x\\right), x\\right)}{y\\left(x\\right)} - 15 \\, \\mathrm{D}_{0, 0, 0, 0}\\left(\\xi\\right)\\left(y\\left(x\\right), x\\right)$"
      ],
      "text/plain": [
       "D[0, 0, 0](xi)(y(x), x)/y(x) - 15*D[0, 0, 0, 0](xi)(y(x), x)"
      ]
     },
     "metadata": {},
     "output_type": "display_data"
    },
    {
     "data": {
      "text/html": [
       "<html>\\(\\displaystyle -\\frac{\\mathrm{D}_{0, 0, 0}\\left(\\phi\\right)\\left(y\\left(x\\right), x\\right)}{y\\left(x\\right)} + \\frac{3 \\, \\mathrm{D}_{0, 0, 1}\\left(\\xi\\right)\\left(y\\left(x\\right), x\\right)}{y\\left(x\\right)} + 10 \\, \\mathrm{D}_{0, 0, 0, 0}\\left(\\phi\\right)\\left(y\\left(x\\right), x\\right) - 50 \\, \\mathrm{D}_{0, 0, 0, 1}\\left(\\xi\\right)\\left(y\\left(x\\right), x\\right)\\)</html>"
      ],
      "text/latex": [
       "$\\displaystyle -\\frac{\\mathrm{D}_{0, 0, 0}\\left(\\phi\\right)\\left(y\\left(x\\right), x\\right)}{y\\left(x\\right)} + \\frac{3 \\, \\mathrm{D}_{0, 0, 1}\\left(\\xi\\right)\\left(y\\left(x\\right), x\\right)}{y\\left(x\\right)} + 10 \\, \\mathrm{D}_{0, 0, 0, 0}\\left(\\phi\\right)\\left(y\\left(x\\right), x\\right) - 50 \\, \\mathrm{D}_{0, 0, 0, 1}\\left(\\xi\\right)\\left(y\\left(x\\right), x\\right)$"
      ],
      "text/plain": [
       "-D[0, 0, 0](phi)(y(x), x)/y(x) + 3*D[0, 0, 1](xi)(y(x), x)/y(x) + 10*D[0, 0, 0, 0](phi)(y(x), x) - 50*D[0, 0, 0, 1](xi)(y(x), x)"
      ]
     },
     "metadata": {},
     "output_type": "display_data"
    },
    {
     "data": {
      "text/html": [
       "<html>\\(\\displaystyle -\\frac{3 \\, \\mathrm{D}_{0, 0, 1}\\left(\\phi\\right)\\left(y\\left(x\\right), x\\right)}{y\\left(x\\right)} + \\frac{3 \\, \\mathrm{D}_{0, 1, 1}\\left(\\xi\\right)\\left(y\\left(x\\right), x\\right)}{y\\left(x\\right)} + 30 \\, \\mathrm{D}_{0, 0, 0, 1}\\left(\\phi\\right)\\left(y\\left(x\\right), x\\right) - 60 \\, \\mathrm{D}_{0, 0, 1, 1}\\left(\\xi\\right)\\left(y\\left(x\\right), x\\right)\\)</html>"
      ],
      "text/latex": [
       "$\\displaystyle -\\frac{3 \\, \\mathrm{D}_{0, 0, 1}\\left(\\phi\\right)\\left(y\\left(x\\right), x\\right)}{y\\left(x\\right)} + \\frac{3 \\, \\mathrm{D}_{0, 1, 1}\\left(\\xi\\right)\\left(y\\left(x\\right), x\\right)}{y\\left(x\\right)} + 30 \\, \\mathrm{D}_{0, 0, 0, 1}\\left(\\phi\\right)\\left(y\\left(x\\right), x\\right) - 60 \\, \\mathrm{D}_{0, 0, 1, 1}\\left(\\xi\\right)\\left(y\\left(x\\right), x\\right)$"
      ],
      "text/plain": [
       "-3*D[0, 0, 1](phi)(y(x), x)/y(x) + 3*D[0, 1, 1](xi)(y(x), x)/y(x) + 30*D[0, 0, 0, 1](phi)(y(x), x) - 60*D[0, 0, 1, 1](xi)(y(x), x)"
      ]
     },
     "metadata": {},
     "output_type": "display_data"
    },
    {
     "data": {
      "text/html": [
       "<html>\\(\\displaystyle -\\frac{3 \\, \\mathrm{D}_{0, 1, 1}\\left(\\phi\\right)\\left(y\\left(x\\right), x\\right)}{y\\left(x\\right)} + \\frac{\\mathrm{D}_{1, 1, 1}\\left(\\xi\\right)\\left(y\\left(x\\right), x\\right)}{y\\left(x\\right)} + 30 \\, \\mathrm{D}_{0, 0, 1, 1}\\left(\\phi\\right)\\left(y\\left(x\\right), x\\right) - 30 \\, \\mathrm{D}_{0, 1, 1, 1}\\left(\\xi\\right)\\left(y\\left(x\\right), x\\right)\\)</html>"
      ],
      "text/latex": [
       "$\\displaystyle -\\frac{3 \\, \\mathrm{D}_{0, 1, 1}\\left(\\phi\\right)\\left(y\\left(x\\right), x\\right)}{y\\left(x\\right)} + \\frac{\\mathrm{D}_{1, 1, 1}\\left(\\xi\\right)\\left(y\\left(x\\right), x\\right)}{y\\left(x\\right)} + 30 \\, \\mathrm{D}_{0, 0, 1, 1}\\left(\\phi\\right)\\left(y\\left(x\\right), x\\right) - 30 \\, \\mathrm{D}_{0, 1, 1, 1}\\left(\\xi\\right)\\left(y\\left(x\\right), x\\right)$"
      ],
      "text/plain": [
       "-3*D[0, 1, 1](phi)(y(x), x)/y(x) + D[1, 1, 1](xi)(y(x), x)/y(x) + 30*D[0, 0, 1, 1](phi)(y(x), x) - 30*D[0, 1, 1, 1](xi)(y(x), x)"
      ]
     },
     "metadata": {},
     "output_type": "display_data"
    },
    {
     "data": {
      "text/html": [
       "<html>\\(\\displaystyle -\\frac{\\mathrm{D}_{1, 1, 1}\\left(\\phi\\right)\\left(y\\left(x\\right), x\\right)}{y\\left(x\\right)} + 10 \\, \\mathrm{D}_{0, 1, 1, 1}\\left(\\phi\\right)\\left(y\\left(x\\right), x\\right) - 5 \\, \\mathrm{D}_{1, 1, 1, 1}\\left(\\xi\\right)\\left(y\\left(x\\right), x\\right)\\)</html>"
      ],
      "text/latex": [
       "$\\displaystyle -\\frac{\\mathrm{D}_{1, 1, 1}\\left(\\phi\\right)\\left(y\\left(x\\right), x\\right)}{y\\left(x\\right)} + 10 \\, \\mathrm{D}_{0, 1, 1, 1}\\left(\\phi\\right)\\left(y\\left(x\\right), x\\right) - 5 \\, \\mathrm{D}_{1, 1, 1, 1}\\left(\\xi\\right)\\left(y\\left(x\\right), x\\right)$"
      ],
      "text/plain": [
       "-D[1, 1, 1](phi)(y(x), x)/y(x) + 10*D[0, 1, 1, 1](phi)(y(x), x) - 5*D[1, 1, 1, 1](xi)(y(x), x)"
      ]
     },
     "metadata": {},
     "output_type": "display_data"
    },
    {
     "data": {
      "text/html": [
       "<html>\\(\\displaystyle -\\mathrm{D}_{0, 0, 0, 0, 0}\\left(\\xi\\right)\\left(y\\left(x\\right), x\\right)\\)</html>"
      ],
      "text/latex": [
       "$\\displaystyle -\\mathrm{D}_{0, 0, 0, 0, 0}\\left(\\xi\\right)\\left(y\\left(x\\right), x\\right)$"
      ],
      "text/plain": [
       "-D[0, 0, 0, 0, 0](xi)(y(x), x)"
      ]
     },
     "metadata": {},
     "output_type": "display_data"
    },
    {
     "data": {
      "text/html": [
       "<html>\\(\\displaystyle \\mathrm{D}_{0, 0, 0, 0, 0}\\left(\\phi\\right)\\left(y\\left(x\\right), x\\right) - 5 \\, \\mathrm{D}_{0, 0, 0, 0, 1}\\left(\\xi\\right)\\left(y\\left(x\\right), x\\right)\\)</html>"
      ],
      "text/latex": [
       "$\\displaystyle \\mathrm{D}_{0, 0, 0, 0, 0}\\left(\\phi\\right)\\left(y\\left(x\\right), x\\right) - 5 \\, \\mathrm{D}_{0, 0, 0, 0, 1}\\left(\\xi\\right)\\left(y\\left(x\\right), x\\right)$"
      ],
      "text/plain": [
       "D[0, 0, 0, 0, 0](phi)(y(x), x) - 5*D[0, 0, 0, 0, 1](xi)(y(x), x)"
      ]
     },
     "metadata": {},
     "output_type": "display_data"
    },
    {
     "data": {
      "text/html": [
       "<html>\\(\\displaystyle 5 \\, \\mathrm{D}_{0, 0, 0, 0, 1}\\left(\\phi\\right)\\left(y\\left(x\\right), x\\right) - 10 \\, \\mathrm{D}_{0, 0, 0, 1, 1}\\left(\\xi\\right)\\left(y\\left(x\\right), x\\right)\\)</html>"
      ],
      "text/latex": [
       "$\\displaystyle 5 \\, \\mathrm{D}_{0, 0, 0, 0, 1}\\left(\\phi\\right)\\left(y\\left(x\\right), x\\right) - 10 \\, \\mathrm{D}_{0, 0, 0, 1, 1}\\left(\\xi\\right)\\left(y\\left(x\\right), x\\right)$"
      ],
      "text/plain": [
       "5*D[0, 0, 0, 0, 1](phi)(y(x), x) - 10*D[0, 0, 0, 1, 1](xi)(y(x), x)"
      ]
     },
     "metadata": {},
     "output_type": "display_data"
    },
    {
     "data": {
      "text/html": [
       "<html>\\(\\displaystyle 10 \\, \\mathrm{D}_{0, 0, 0, 1, 1}\\left(\\phi\\right)\\left(y\\left(x\\right), x\\right) - 10 \\, \\mathrm{D}_{0, 0, 1, 1, 1}\\left(\\xi\\right)\\left(y\\left(x\\right), x\\right)\\)</html>"
      ],
      "text/latex": [
       "$\\displaystyle 10 \\, \\mathrm{D}_{0, 0, 0, 1, 1}\\left(\\phi\\right)\\left(y\\left(x\\right), x\\right) - 10 \\, \\mathrm{D}_{0, 0, 1, 1, 1}\\left(\\xi\\right)\\left(y\\left(x\\right), x\\right)$"
      ],
      "text/plain": [
       "10*D[0, 0, 0, 1, 1](phi)(y(x), x) - 10*D[0, 0, 1, 1, 1](xi)(y(x), x)"
      ]
     },
     "metadata": {},
     "output_type": "display_data"
    },
    {
     "data": {
      "text/html": [
       "<html>\\(\\displaystyle 10 \\, \\mathrm{D}_{0, 0, 1, 1, 1}\\left(\\phi\\right)\\left(y\\left(x\\right), x\\right) - 5 \\, \\mathrm{D}_{0, 1, 1, 1, 1}\\left(\\xi\\right)\\left(y\\left(x\\right), x\\right)\\)</html>"
      ],
      "text/latex": [
       "$\\displaystyle 10 \\, \\mathrm{D}_{0, 0, 1, 1, 1}\\left(\\phi\\right)\\left(y\\left(x\\right), x\\right) - 5 \\, \\mathrm{D}_{0, 1, 1, 1, 1}\\left(\\xi\\right)\\left(y\\left(x\\right), x\\right)$"
      ],
      "text/plain": [
       "10*D[0, 0, 1, 1, 1](phi)(y(x), x) - 5*D[0, 1, 1, 1, 1](xi)(y(x), x)"
      ]
     },
     "metadata": {},
     "output_type": "display_data"
    },
    {
     "data": {
      "text/html": [
       "<html>\\(\\displaystyle 5 \\, \\mathrm{D}_{0, 1, 1, 1, 1}\\left(\\phi\\right)\\left(y\\left(x\\right), x\\right) - \\mathrm{D}_{1, 1, 1, 1, 1}\\left(\\xi\\right)\\left(y\\left(x\\right), x\\right)\\)</html>"
      ],
      "text/latex": [
       "$\\displaystyle 5 \\, \\mathrm{D}_{0, 1, 1, 1, 1}\\left(\\phi\\right)\\left(y\\left(x\\right), x\\right) - \\mathrm{D}_{1, 1, 1, 1, 1}\\left(\\xi\\right)\\left(y\\left(x\\right), x\\right)$"
      ],
      "text/plain": [
       "5*D[0, 1, 1, 1, 1](phi)(y(x), x) - D[1, 1, 1, 1, 1](xi)(y(x), x)"
      ]
     },
     "metadata": {},
     "output_type": "display_data"
    },
    {
     "data": {
      "text/html": [
       "<html>\\(\\displaystyle \\mathrm{D}_{1, 1, 1, 1, 1}\\left(\\phi\\right)\\left(y\\left(x\\right), x\\right)\\)</html>"
      ],
      "text/latex": [
       "$\\displaystyle \\mathrm{D}_{1, 1, 1, 1, 1}\\left(\\phi\\right)\\left(y\\left(x\\right), x\\right)$"
      ],
      "text/plain": [
       "D[1, 1, 1, 1, 1](phi)(y(x), x)"
      ]
     },
     "metadata": {},
     "output_type": "display_data"
    },
    {
     "name": "stdout",
     "output_type": "stream",
     "text": [
      "Janet basis\n",
      "-D[0, 0, 0, 0, 0](xi)(y(x), x)*diff(y(x), x)^6 + D[0, 0, 0, 0, 0](phi)(y(x), x)*diff(y(x), x)^5 - 5*D[0, 0, 0, 0, 1](xi)(y(x), x)*diff(y(x), x)^5 - 15*D[0, 0, 0, 0](xi)(y(x), x)*diff(y(x), x)^4*diff(y(x), x, x) + 5*D[0, 0, 0, 0, 1](phi)(y(x), x)*diff(y(x), x)^4 - 10*D[0, 0, 0, 1, 1](xi)(y(x), x)*diff(y(x), x)^4 + 10*D[0, 0, 0, 0](phi)(y(x), x)*diff(y(x), x)^3*diff(y(x), x, x) - 50*D[0, 0, 0, 1](xi)(y(x), x)*diff(y(x), x)^3*diff(y(x), x, x) + D[0, 0, 0](xi)(y(x), x)*diff(y(x), x)^4*diff(y(x), x, x)/y(x) - 45*D[0, 0, 0](xi)(y(x), x)*diff(y(x), x)^2*diff(y(x), x, x)^2 - 20*D[0, 0, 0](xi)(y(x), x)*diff(y(x), x)^3*diff(y(x), x, x, x) + 10*D[0, 0, 0, 1, 1](phi)(y(x), x)*diff(y(x), x)^3 - 10*D[0, 0, 1, 1, 1](xi)(y(x), x)*diff(y(x), x)^3 + 30*D[0, 0, 0, 1](phi)(y(x), x)*diff(y(x), x)^2*diff(y(x), x, x) - 60*D[0, 0, 1, 1](xi)(y(x), x)*diff(y(x), x)^2*diff(y(x), x, x) - D[0, 0, 0](phi)(y(x), x)*diff(y(x), x)^3*diff(y(x), x, x)/y(x) + 3*D[0, 0, 1](xi)(y(x), x)*diff(y(x), x)^3*diff(y(x), x, x)/y(x) + 15*D[0, 0, 0](phi)(y(x), x)*diff(y(x), x)*diff(y(x), x, x)^2 - 75*D[0, 0, 1](xi)(y(x), x)*diff(y(x), x)*diff(y(x), x, x)^2 + 6*D[0, 0](xi)(y(x), x)*diff(y(x), x)^2*diff(y(x), x, x)^2/y(x) - 15*D[0, 0](xi)(y(x), x)*diff(y(x), x, x)^3 + 10*D[0, 0, 0](phi)(y(x), x)*diff(y(x), x)^2*diff(y(x), x, x, x) - 50*D[0, 0, 1](xi)(y(x), x)*diff(y(x), x)^2*diff(y(x), x, x, x) + D[0, 0](xi)(y(x), x)*diff(y(x), x)^3*diff(y(x), x, x, x)/y(x) - 60*D[0, 0](xi)(y(x), x)*diff(y(x), x)*diff(y(x), x, x)*diff(y(x), x, x, x) - 15*D[0, 0](xi)(y(x), x)*diff(y(x), x)^2*diff(y(x), x, x, x, x) + 10*D[0, 0, 1, 1, 1](phi)(y(x), x)*diff(y(x), x)^2 - 5*D[0, 1, 1, 1, 1](xi)(y(x), x)*diff(y(x), x)^2 + 30*D[0, 0, 1, 1](phi)(y(x), x)*diff(y(x), x)*diff(y(x), x, x) - 30*D[0, 1, 1, 1](xi)(y(x), x)*diff(y(x), x)*diff(y(x), x, x) - 3*D[0, 0, 1](phi)(y(x), x)*diff(y(x), x)^2*diff(y(x), x, x)/y(x) + 3*D[0, 1, 1](xi)(y(x), x)*diff(y(x), x)^2*diff(y(x), x, x)/y(x) + 15*D[0, 0, 1](phi)(y(x), x)*diff(y(x), x, x)^2 - 30*D[0, 1, 1](xi)(y(x), x)*diff(y(x), x, x)^2 - 3*D[0, 0](phi)(y(x), x)*diff(y(x), x)*diff(y(x), x, x)^2/y(x) + 9*D[0, 1](xi)(y(x), x)*diff(y(x), x)*diff(y(x), x, x)^2/y(x) + 3*D[0](xi)(y(x), x)*diff(y(x), x, x)^3/y(x) + 20*D[0, 0, 1](phi)(y(x), x)*diff(y(x), x)*diff(y(x), x, x, x) - 40*D[0, 1, 1](xi)(y(x), x)*diff(y(x), x)*diff(y(x), x, x, x) - D[0, 0](phi)(y(x), x)*diff(y(x), x)^2*diff(y(x), x, x, x)/y(x) + 2*D[0, 1](xi)(y(x), x)*diff(y(x), x)^2*diff(y(x), x, x, x)/y(x) + 10*D[0, 0](phi)(y(x), x)*diff(y(x), x, x)*diff(y(x), x, x, x) - 50*D[0, 1](xi)(y(x), x)*diff(y(x), x, x)*diff(y(x), x, x, x) + 7*D[0](xi)(y(x), x)*diff(y(x), x)*diff(y(x), x, x)*diff(y(x), x, x, x)/y(x) - 10*D[0](xi)(y(x), x)*diff(y(x), x, x, x)^2 + 5*D[0, 0](phi)(y(x), x)*diff(y(x), x)*diff(y(x), x, x, x, x) - 25*D[0, 1](xi)(y(x), x)*diff(y(x), x)*diff(y(x), x, x, x, x) - 15*D[0](xi)(y(x), x)*diff(y(x), x, x)*diff(y(x), x, x, x, x) - 6*D[0](xi)(y(x), x)*diff(y(x), x)*diff(y(x), x, x, x, x, x) + 5*D[0, 1, 1, 1, 1](phi)(y(x), x)*diff(y(x), x) - D[1, 1, 1, 1, 1](xi)(y(x), x)*diff(y(x), x) + 10*D[0, 1, 1, 1](phi)(y(x), x)*diff(y(x), x, x) - 5*D[1, 1, 1, 1](xi)(y(x), x)*diff(y(x), x, x) - 3*D[0, 1, 1](phi)(y(x), x)*diff(y(x), x)*diff(y(x), x, x)/y(x) + D[1, 1, 1](xi)(y(x), x)*diff(y(x), x)*diff(y(x), x, x)/y(x) - 3*D[0, 1](phi)(y(x), x)*diff(y(x), x, x)^2/y(x) + 3*D[1, 1](xi)(y(x), x)*diff(y(x), x, x)^2/y(x) + 10*D[0, 1, 1](phi)(y(x), x)*diff(y(x), x, x, x) - 10*D[1, 1, 1](xi)(y(x), x)*diff(y(x), x, x, x) - 2*D[0, 1](phi)(y(x), x)*diff(y(x), x)*diff(y(x), x, x, x)/y(x) + D[1, 1](xi)(y(x), x)*diff(y(x), x)*diff(y(x), x, x, x)/y(x) - 2*D[0](phi)(y(x), x)*diff(y(x), x, x)*diff(y(x), x, x, x)/y(x) + 5*D[1](xi)(y(x), x)*diff(y(x), x, x)*diff(y(x), x, x, x)/y(x) + 5*D[0, 1](phi)(y(x), x)*diff(y(x), x, x, x, x) - 10*D[1, 1](xi)(y(x), x)*diff(y(x), x, x, x, x) + D[0](phi)(y(x), x)*diff(y(x), x, x, x, x, x) - 5*D[1](xi)(y(x), x)*diff(y(x), x, x, x, x, x) - D[1, 1, 1](phi)(y(x), x)*diff(y(x), x, x)/y(x) - D[1, 1](phi)(y(x), x)*diff(y(x), x, x, x)/y(x) + phi(y(x), x)*diff(y(x), x, x)*diff(y(x), x, x, x)/y(x)^2 + D[1, 1, 1, 1, 1](phi)(y(x), x)\n"
     ]
    },
    {
     "data": {
      "text/latex": [
       "$\\displaystyle - \\xi_{yyyyy} y_{x}^6 +  \\phi_{yyyyy} y_{x}^5 - 5  \\xi_{yyyyx} y_{x}^5 - 15  \\xi_{yyyy} y_{x}^4 y_{x, x} + 5  \\phi_{yyyyx} y_{x}^4 - 10  \\xi_{yyyxx} y_{x}^4 + 10  \\phi_{yyyy} y_{x}^3 y_{x, x} - 50  \\xi_{yyyx} y_{x}^3 y_{x, x} +  \\xi_{yyy} y_{x}^4 y_{x, x}/y - 45  \\xi_{yyy} y_{x}^2 y_{x, x}^2 - 20  \\xi_{yyy} y_{x}^3 y_{x, x, x} + 10  \\phi_{yyyxx} y_{x}^3 - 10  \\xi_{yyxxx} y_{x}^3 + 30  \\phi_{yyyx} y_{x}^2 y_{x, x} - 60  \\xi_{yyxx} y_{x}^2 y_{x, x} -  \\phi_{yyy} y_{x}^3 y_{x, x}/y + 3  \\xi_{yyx} y_{x}^3 y_{x, x}/y + 15  \\phi_{yyy} y_{x} y_{x, x}^2 - 75  \\xi_{yyx} y_{x} y_{x, x}^2 + 6  \\xi_{yy} y_{x}^2 y_{x, x}^2/y - 15  \\xi_{yy} y_{x, x}^3 + 10  \\phi_{yyy} y_{x}^2 y_{x, x, x} - 50  \\xi_{yyx} y_{x}^2 y_{x, x, x} +  \\xi_{yy} y_{x}^3 y_{x, x, x}/y - 60  \\xi_{yy} y_{x} y_{x, x} y_{x, x, x} - 15  \\xi_{yy} y_{x}^2 y_{x, x, x, x} + 10  \\phi_{yyxxx} y_{x}^2 - 5  \\xi_{yxxxx} y_{x}^2 + 30  \\phi_{yyxx} y_{x} y_{x, x} - 30  \\xi_{yxxx} y_{x} y_{x, x} - 3  \\phi_{yyx} y_{x}^2 y_{x, x}/y + 3  \\xi_{yxx} y_{x}^2 y_{x, x}/y + 15  \\phi_{yyx} y_{x, x}^2 - 30  \\xi_{yxx} y_{x, x}^2 - 3  \\phi_{yy} y_{x} y_{x, x}^2/y + 9  \\xi_{yx} y_{x} y_{x, x}^2/y + 3  \\xi_{y} y_{x, x}^3/y + 20  \\phi_{yyx} y_{x} y_{x, x, x} - 40  \\xi_{yxx} y_{x} y_{x, x, x} -  \\phi_{yy} y_{x}^2 y_{x, x, x}/y + 2  \\xi_{yx} y_{x}^2 y_{x, x, x}/y + 10  \\phi_{yy} y_{x, x} y_{x, x, x} - 50  \\xi_{yx} y_{x, x} y_{x, x, x} + 7  \\xi_{y} y_{x} y_{x, x} y_{x, x, x}/y - 10  \\xi_{y} y_{x, x, x}^2 + 5  \\phi_{yy} y_{x} y_{x, x, x, x} - 25  \\xi_{yx} y_{x} y_{x, x, x, x} - 15  \\xi_{y} y_{x, x} y_{x, x, x, x} - 6  \\xi_{y} y_{x} y_{x, x, x, x, x} + 5  \\phi_{yxxxx} y_{x} -  \\xi_{xxxxx} y_{x} + 10  \\phi_{yxxx} y_{x, x} - 5  \\xi_{xxxx} y_{x, x} - 3  \\phi_{yxx} y_{x} y_{x, x}/y +  \\xi_{xxx} y_{x} y_{x, x}/y - 3  \\phi_{yx} y_{x, x}^2/y + 3  \\xi_{xx} y_{x, x}^2/y + 10  \\phi_{yxx} y_{x, x, x} - 10  \\xi_{xxx} y_{x, x, x} - 2  \\phi_{yx} y_{x} y_{x, x, x}/y +  \\xi_{xx} y_{x} y_{x, x, x}/y - 2  \\phi_{y} y_{x, x} y_{x, x, x}/y + 5  \\xi_{x} y_{x, x} y_{x, x, x}/y + 5  \\phi_{yx} y_{x, x, x, x} - 10  \\xi_{xx} y_{x, x, x, x} +  \\phi_{y} y_{x, x, x, x, x} - 5  \\xi_{x} y_{x, x, x, x, x} -  \\phi_{xxx} y_{x, x}/y -  \\phi_{xx} y_{x, x, x}/y + \\phi y_{x, x} y_{x, x, x}/y^2 +  \\phi_{xxxxx}$"
      ],
      "text/plain": [
       "<IPython.core.display.Math object>"
      ]
     },
     "metadata": {},
     "output_type": "display_data"
    },
    {
     "data": {
      "text/latex": [
       "$\\displaystyle  \\xi_{y}$"
      ],
      "text/plain": [
       "<IPython.core.display.Math object>"
      ]
     },
     "metadata": {},
     "output_type": "display_data"
    },
    {
     "data": {
      "text/latex": [
       "$\\displaystyle  \\phi_{x}$"
      ],
      "text/plain": [
       "<IPython.core.display.Math object>"
      ]
     },
     "metadata": {},
     "output_type": "display_data"
    },
    {
     "data": {
      "text/latex": [
       "$\\displaystyle -\\phi/y +  \\phi_{y}$"
      ],
      "text/plain": [
       "<IPython.core.display.Math object>"
      ]
     },
     "metadata": {},
     "output_type": "display_data"
    },
    {
     "data": {
      "text/latex": [
       "$\\displaystyle  \\xi_{xx}$"
      ],
      "text/plain": [
       "<IPython.core.display.Math object>"
      ]
     },
     "metadata": {},
     "output_type": "display_data"
    },
    {
     "data": {
      "text/latex": [
       "$\\displaystyle  \\xi_{yy}$"
      ],
      "text/plain": [
       "<IPython.core.display.Math object>"
      ]
     },
     "metadata": {},
     "output_type": "display_data"
    }
   ],
   "source": [
    "# a variant of https://www.researchgate.net/publication/334785151_Lie_symmetry_Analysis_Fourth_order_Nonlinear_ordinary_differential_Equation_as_a_case_study\n",
    "x = var('x')\n",
    "y = function('y')\n",
    "ode = diff(y(x), x, 5) - diff(y(x),x,x,x)*diff(y(x),x,x)/y(x)\n",
    "inf = infinitesimalsODE(ode, y, x)\n",
    "print(\".\"*25)\n",
    "for _ in inf:\n",
    "    _.show()\n",
    "print(\"Janet basis\")\n",
    "from IPython.display import Math\n",
    "from delierium.helpers import latexer\n",
    "jb = Janet_Basis_from_ODE(ode, y, x)\n",
    "for _ in jb:\n",
    "    display(Math(latexer(_)))"
   ]
  },
  {
   "cell_type": "markdown",
   "id": "6696dc6e-6f69-4b5e-a6ef-c7daf3ccff0a",
   "metadata": {
    "tags": []
   },
   "source": [
    "critical: why is there xi_y and xy_yy in the Janet basis? Explore! We should, in addition, also have one parametric derivative lke for phi"
   ]
  }
 ],
 "metadata": {
  "kernelspec": {
   "display_name": "SageMath 9.6",
   "language": "sage",
   "name": "sagemath"
  },
  "language_info": {
   "codemirror_mode": {
    "name": "ipython",
    "version": 3
   },
   "file_extension": ".py",
   "mimetype": "text/x-python",
   "name": "python",
   "nbconvert_exporter": "python",
   "pygments_lexer": "ipython3",
   "version": "3.10.6"
  },
  "widgets": {
   "application/vnd.jupyter.widget-state+json": {
    "state": {},
    "version_major": 2,
    "version_minor": 0
   }
  }
 },
 "nbformat": 4,
 "nbformat_minor": 5
}
