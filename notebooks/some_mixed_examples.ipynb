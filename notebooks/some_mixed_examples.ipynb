{
 "cells": [
  {
   "cell_type": "code",
   "execution_count": 1,
   "id": "545ab148",
   "metadata": {},
   "outputs": [],
   "source": [
    "from delierium.Infinitesimals import prolongationODE, infinitesimalsODE, Janet_Basis_from_ODE\n",
    "from delierium.JanetBasis import Janet_Basis\n",
    "from delierium.helpers import is_derivative, order_of_derivative, eq\n",
    "from delierium.MatrixOrder import Context\n",
    "import functools\n",
    "from operator import mul\n",
    "from pprint import pprint"
   ]
  },
  {
   "cell_type": "code",
   "execution_count": 2,
   "id": "2cbcfb5f-f8da-46c7-b44b-1ca511f92b7c",
   "metadata": {},
   "outputs": [
    {
     "name": "stdout",
     "output_type": "stream",
     "text": [
      ".........................\n"
     ]
    },
    {
     "data": {
      "text/html": [
       "<html>\\(\\displaystyle -4 \\, y\\left(x\\right) \\mathrm{D}_{0, 0}\\left(\\xi\\right)\\left(y\\left(x\\right), x\\right) + 6 \\, \\mathrm{D}_{0}\\left(\\xi\\right)\\left(y\\left(x\\right), x\\right)\\)</html>"
      ],
      "text/latex": [
       "$\\displaystyle -4 \\, y\\left(x\\right) \\mathrm{D}_{0, 0}\\left(\\xi\\right)\\left(y\\left(x\\right), x\\right) + 6 \\, \\mathrm{D}_{0}\\left(\\xi\\right)\\left(y\\left(x\\right), x\\right)$"
      ],
      "text/plain": [
       "-4*y(x)*D[0, 0](xi)(y(x), x) + 6*D[0](xi)(y(x), x)"
      ]
     },
     "metadata": {},
     "output_type": "display_data"
    },
    {
     "data": {
      "text/html": [
       "<html>\\(\\displaystyle 4 \\, y\\left(x\\right) \\mathrm{D}_{0, 0}\\left(\\phi\\right)\\left(y\\left(x\\right), x\\right) - 8 \\, y\\left(x\\right) \\mathrm{D}_{0, 1}\\left(\\xi\\right)\\left(y\\left(x\\right), x\\right) + \\frac{3 \\, \\phi\\left(y\\left(x\\right), x\\right)}{y\\left(x\\right)} - 3 \\, \\mathrm{D}_{0}\\left(\\phi\\right)\\left(y\\left(x\\right), x\\right)\\)</html>"
      ],
      "text/latex": [
       "$\\displaystyle 4 \\, y\\left(x\\right) \\mathrm{D}_{0, 0}\\left(\\phi\\right)\\left(y\\left(x\\right), x\\right) - 8 \\, y\\left(x\\right) \\mathrm{D}_{0, 1}\\left(\\xi\\right)\\left(y\\left(x\\right), x\\right) + \\frac{3 \\, \\phi\\left(y\\left(x\\right), x\\right)}{y\\left(x\\right)} - 3 \\, \\mathrm{D}_{0}\\left(\\phi\\right)\\left(y\\left(x\\right), x\\right)$"
      ],
      "text/plain": [
       "4*y(x)*D[0, 0](phi)(y(x), x) - 8*y(x)*D[0, 1](xi)(y(x), x) + 3*phi(y(x), x)/y(x) - 3*D[0](phi)(y(x), x)"
      ]
     },
     "metadata": {},
     "output_type": "display_data"
    },
    {
     "data": {
      "text/html": [
       "<html>\\(\\displaystyle -36 \\, y\\left(x\\right)^{3} \\mathrm{D}_{0}\\left(\\xi\\right)\\left(y\\left(x\\right), x\\right) + 8 \\, y\\left(x\\right) \\mathrm{D}_{0, 1}\\left(\\phi\\right)\\left(y\\left(x\\right), x\\right) - 4 \\, y\\left(x\\right) \\mathrm{D}_{1, 1}\\left(\\xi\\right)\\left(y\\left(x\\right), x\\right) - 6 \\, \\mathrm{D}_{1}\\left(\\phi\\right)\\left(y\\left(x\\right), x\\right)\\)</html>"
      ],
      "text/latex": [
       "$\\displaystyle -36 \\, y\\left(x\\right)^{3} \\mathrm{D}_{0}\\left(\\xi\\right)\\left(y\\left(x\\right), x\\right) + 8 \\, y\\left(x\\right) \\mathrm{D}_{0, 1}\\left(\\phi\\right)\\left(y\\left(x\\right), x\\right) - 4 \\, y\\left(x\\right) \\mathrm{D}_{1, 1}\\left(\\xi\\right)\\left(y\\left(x\\right), x\\right) - 6 \\, \\mathrm{D}_{1}\\left(\\phi\\right)\\left(y\\left(x\\right), x\\right)$"
      ],
      "text/plain": [
       "-36*y(x)^3*D[0](xi)(y(x), x) + 8*y(x)*D[0, 1](phi)(y(x), x) - 4*y(x)*D[1, 1](xi)(y(x), x) - 6*D[1](phi)(y(x), x)"
      ]
     },
     "metadata": {},
     "output_type": "display_data"
    },
    {
     "data": {
      "text/html": [
       "<html>\\(\\displaystyle 12 \\, y\\left(x\\right)^{3} \\mathrm{D}_{0}\\left(\\phi\\right)\\left(y\\left(x\\right), x\\right) - 24 \\, y\\left(x\\right)^{3} \\mathrm{D}_{1}\\left(\\xi\\right)\\left(y\\left(x\\right), x\\right) - 9 \\, \\mathrm{D}_{0}\\left(\\xi\\right)\\left(y\\left(x\\right), x\\right) \\frac{\\partial}{\\partial x}y\\left(x\\right)^{3} - 24 \\, \\phi\\left(y\\left(x\\right), x\\right) y\\left(x\\right)^{2} + 4 \\, y\\left(x\\right) \\mathrm{D}_{1, 1}\\left(\\phi\\right)\\left(y\\left(x\\right), x\\right)\\)</html>"
      ],
      "text/latex": [
       "$\\displaystyle 12 \\, y\\left(x\\right)^{3} \\mathrm{D}_{0}\\left(\\phi\\right)\\left(y\\left(x\\right), x\\right) - 24 \\, y\\left(x\\right)^{3} \\mathrm{D}_{1}\\left(\\xi\\right)\\left(y\\left(x\\right), x\\right) - 9 \\, \\mathrm{D}_{0}\\left(\\xi\\right)\\left(y\\left(x\\right), x\\right) \\frac{\\partial}{\\partial x}y\\left(x\\right)^{3} - 24 \\, \\phi\\left(y\\left(x\\right), x\\right) y\\left(x\\right)^{2} + 4 \\, y\\left(x\\right) \\mathrm{D}_{1, 1}\\left(\\phi\\right)\\left(y\\left(x\\right), x\\right)$"
      ],
      "text/plain": [
       "12*y(x)^3*D[0](phi)(y(x), x) - 24*y(x)^3*D[1](xi)(y(x), x) - 9*D[0](xi)(y(x), x)*diff(y(x), x)^3 - 24*phi(y(x), x)*y(x)^2 + 4*y(x)*D[1, 1](phi)(y(x), x)"
      ]
     },
     "metadata": {},
     "output_type": "display_data"
    },
    {
     "name": "stdout",
     "output_type": "stream",
     "text": [
      "Janet basis\n"
     ]
    },
    {
     "data": {
      "text/html": [
       "<html>\\(\\displaystyle \\frac{\\phi\\left(y\\left(x\\right), x\\right)}{2 \\, y\\left(x\\right)} + \\mathrm{D}_{1}\\left(\\xi\\right)\\left(y\\left(x\\right), x\\right)\\)</html>"
      ],
      "text/latex": [
       "$\\displaystyle \\frac{\\phi\\left(y\\left(x\\right), x\\right)}{2 \\, y\\left(x\\right)} + \\mathrm{D}_{1}\\left(\\xi\\right)\\left(y\\left(x\\right), x\\right)$"
      ],
      "text/plain": [
       "1/2*phi(y(x), x)/y(x) + D[1](xi)(y(x), x)"
      ]
     },
     "metadata": {},
     "output_type": "display_data"
    },
    {
     "data": {
      "text/html": [
       "<html>\\(\\displaystyle \\mathrm{D}_{0}\\left(\\xi\\right)\\left(y\\left(x\\right), x\\right)\\)</html>"
      ],
      "text/latex": [
       "$\\displaystyle \\mathrm{D}_{0}\\left(\\xi\\right)\\left(y\\left(x\\right), x\\right)$"
      ],
      "text/plain": [
       "D[0](xi)(y(x), x)"
      ]
     },
     "metadata": {},
     "output_type": "display_data"
    },
    {
     "data": {
      "text/html": [
       "<html>\\(\\displaystyle \\mathrm{D}_{1}\\left(\\phi\\right)\\left(y\\left(x\\right), x\\right)\\)</html>"
      ],
      "text/latex": [
       "$\\displaystyle \\mathrm{D}_{1}\\left(\\phi\\right)\\left(y\\left(x\\right), x\\right)$"
      ],
      "text/plain": [
       "D[1](phi)(y(x), x)"
      ]
     },
     "metadata": {},
     "output_type": "display_data"
    },
    {
     "data": {
      "text/html": [
       "<html>\\(\\displaystyle -\\frac{\\phi\\left(y\\left(x\\right), x\\right)}{y\\left(x\\right)} + \\mathrm{D}_{0}\\left(\\phi\\right)\\left(y\\left(x\\right), x\\right)\\)</html>"
      ],
      "text/latex": [
       "$\\displaystyle -\\frac{\\phi\\left(y\\left(x\\right), x\\right)}{y\\left(x\\right)} + \\mathrm{D}_{0}\\left(\\phi\\right)\\left(y\\left(x\\right), x\\right)$"
      ],
      "text/plain": [
       "-phi(y(x), x)/y(x) + D[0](phi)(y(x), x)"
      ]
     },
     "metadata": {},
     "output_type": "display_data"
    }
   ],
   "source": [
    "# Schwarz, Example 5.2, p. 200\n",
    "x = var('x')\n",
    "y = function('y')\n",
    "ode = 4*diff(y(x),x,x)*y(x) - 3*diff(y(x), x)**2-12*y(x)**3\n",
    "inf = infinitesimalsODE(ode, y, x)\n",
    "print(\".\"*25)\n",
    "for _ in inf:\n",
    "    _.show()\n"
   ]
  },
  {
   "cell_type": "code",
   "execution_count": 5,
   "id": "0a3a01f9-a828-462a-ad3c-b9566acdc8f7",
   "metadata": {},
   "outputs": [
    {
     "name": "stdout",
     "output_type": "stream",
     "text": [
      ".........................\n"
     ]
    },
    {
     "data": {
      "text/html": [
       "<html>\\(\\displaystyle 2 \\, x^{4} \\mathrm{D}_{0}\\left(\\xi\\right)\\left(y\\left(x\\right), x\\right) - 4 \\, x^{2} \\mathrm{D}_{0, 0}\\left(\\xi\\right)\\left(y\\left(x\\right), x\\right)\\)</html>"
      ],
      "text/latex": [
       "$\\displaystyle 2 \\, x^{4} \\mathrm{D}_{0}\\left(\\xi\\right)\\left(y\\left(x\\right), x\\right) - 4 \\, x^{2} \\mathrm{D}_{0, 0}\\left(\\xi\\right)\\left(y\\left(x\\right), x\\right)$"
      ],
      "text/plain": [
       "2*x^4*D[0](xi)(y(x), x) - 4*x^2*D[0, 0](xi)(y(x), x)"
      ]
     },
     "metadata": {},
     "output_type": "display_data"
    },
    {
     "data": {
      "text/html": [
       "<html>\\(\\displaystyle -x^{4} \\mathrm{D}_{0}\\left(\\phi\\right)\\left(y\\left(x\\right), x\\right) - 2 \\, x^{3} \\xi\\left(y\\left(x\\right), x\\right) + 4 \\, x^{2} \\mathrm{D}_{0, 0}\\left(\\phi\\right)\\left(y\\left(x\\right), x\\right) - 8 \\, x^{2} \\mathrm{D}_{0, 1}\\left(\\xi\\right)\\left(y\\left(x\\right), x\\right)\\)</html>"
      ],
      "text/latex": [
       "$\\displaystyle -x^{4} \\mathrm{D}_{0}\\left(\\phi\\right)\\left(y\\left(x\\right), x\\right) - 2 \\, x^{3} \\xi\\left(y\\left(x\\right), x\\right) + 4 \\, x^{2} \\mathrm{D}_{0, 0}\\left(\\phi\\right)\\left(y\\left(x\\right), x\\right) - 8 \\, x^{2} \\mathrm{D}_{0, 1}\\left(\\xi\\right)\\left(y\\left(x\\right), x\\right)$"
      ],
      "text/plain": [
       "-x^4*D[0](phi)(y(x), x) - 2*x^3*xi(y(x), x) + 4*x^2*D[0, 0](phi)(y(x), x) - 8*x^2*D[0, 1](xi)(y(x), x)"
      ]
     },
     "metadata": {},
     "output_type": "display_data"
    },
    {
     "data": {
      "text/html": [
       "<html>\\(\\displaystyle -2 \\, x^{4} \\mathrm{D}_{1}\\left(\\phi\\right)\\left(y\\left(x\\right), x\\right) + 8 \\, x^{2} \\mathrm{D}_{0, 1}\\left(\\phi\\right)\\left(y\\left(x\\right), x\\right) - 4 \\, x^{2} \\mathrm{D}_{1, 1}\\left(\\xi\\right)\\left(y\\left(x\\right), x\\right) + 12 \\, y\\left(x\\right) \\mathrm{D}_{0}\\left(\\xi\\right)\\left(y\\left(x\\right), x\\right)\\)</html>"
      ],
      "text/latex": [
       "$\\displaystyle -2 \\, x^{4} \\mathrm{D}_{1}\\left(\\phi\\right)\\left(y\\left(x\\right), x\\right) + 8 \\, x^{2} \\mathrm{D}_{0, 1}\\left(\\phi\\right)\\left(y\\left(x\\right), x\\right) - 4 \\, x^{2} \\mathrm{D}_{1, 1}\\left(\\xi\\right)\\left(y\\left(x\\right), x\\right) + 12 \\, y\\left(x\\right) \\mathrm{D}_{0}\\left(\\xi\\right)\\left(y\\left(x\\right), x\\right)$"
      ],
      "text/plain": [
       "-2*x^4*D[1](phi)(y(x), x) + 8*x^2*D[0, 1](phi)(y(x), x) - 4*x^2*D[1, 1](xi)(y(x), x) + 12*y(x)*D[0](xi)(y(x), x)"
      ]
     },
     "metadata": {},
     "output_type": "display_data"
    },
    {
     "data": {
      "text/html": [
       "<html>\\(\\displaystyle -3 \\, x^{4} \\mathrm{D}_{0}\\left(\\xi\\right)\\left(y\\left(x\\right), x\\right) \\frac{\\partial}{\\partial x}y\\left(x\\right)^{3} + 4 \\, x^{2} \\mathrm{D}_{1, 1}\\left(\\phi\\right)\\left(y\\left(x\\right), x\\right) - 4 \\, y\\left(x\\right) \\mathrm{D}_{0}\\left(\\phi\\right)\\left(y\\left(x\\right), x\\right) + 8 \\, y\\left(x\\right) \\mathrm{D}_{1}\\left(\\xi\\right)\\left(y\\left(x\\right), x\\right) - \\frac{8 \\, \\xi\\left(y\\left(x\\right), x\\right) y\\left(x\\right)}{x} + 4 \\, \\phi\\left(y\\left(x\\right), x\\right)\\)</html>"
      ],
      "text/latex": [
       "$\\displaystyle -3 \\, x^{4} \\mathrm{D}_{0}\\left(\\xi\\right)\\left(y\\left(x\\right), x\\right) \\frac{\\partial}{\\partial x}y\\left(x\\right)^{3} + 4 \\, x^{2} \\mathrm{D}_{1, 1}\\left(\\phi\\right)\\left(y\\left(x\\right), x\\right) - 4 \\, y\\left(x\\right) \\mathrm{D}_{0}\\left(\\phi\\right)\\left(y\\left(x\\right), x\\right) + 8 \\, y\\left(x\\right) \\mathrm{D}_{1}\\left(\\xi\\right)\\left(y\\left(x\\right), x\\right) - \\frac{8 \\, \\xi\\left(y\\left(x\\right), x\\right) y\\left(x\\right)}{x} + 4 \\, \\phi\\left(y\\left(x\\right), x\\right)$"
      ],
      "text/plain": [
       "-3*x^4*D[0](xi)(y(x), x)*diff(y(x), x)^3 + 4*x^2*D[1, 1](phi)(y(x), x) - 4*y(x)*D[0](phi)(y(x), x) + 8*y(x)*D[1](xi)(y(x), x) - 8*xi(y(x), x)*y(x)/x + 4*phi(y(x), x)"
      ]
     },
     "metadata": {},
     "output_type": "display_data"
    },
    {
     "name": "stdout",
     "output_type": "stream",
     "text": [
      "Janet basis\n"
     ]
    },
    {
     "data": {
      "text/html": [
       "<html>\\(\\displaystyle \\phi\\left(y\\left(x\\right), x\\right)\\)</html>"
      ],
      "text/latex": [
       "$\\displaystyle \\phi\\left(y\\left(x\\right), x\\right)$"
      ],
      "text/plain": [
       "phi(y(x), x)"
      ]
     },
     "metadata": {},
     "output_type": "display_data"
    },
    {
     "data": {
      "text/html": [
       "<html>\\(\\displaystyle \\xi\\left(y\\left(x\\right), x\\right)\\)</html>"
      ],
      "text/latex": [
       "$\\displaystyle \\xi\\left(y\\left(x\\right), x\\right)$"
      ],
      "text/plain": [
       "xi(y(x), x)"
      ]
     },
     "metadata": {},
     "output_type": "display_data"
    }
   ],
   "source": [
    "# Schwarz, Example 5.9, p.214\"\n",
    "x = var('x')\n",
    "y = function(\"y\")\n",
    "ode = 4*diff(y(x),x,x)*x**2 - (x**4) * diff(y(x), x)**2 + 4*y(x)\n",
    "inf = infinitesimalsODE(ode, y, x)\n",
    "print(\".\"*25)\n",
    "for _ in inf:\n",
    "    _.show()\n",
    "print(\"Janet basis\")\n",
    "jb = Janet_Basis_from_ODE(ode, y, x)\n",
    "for _ in jb:\n",
    "    _.show()\n"
   ]
  },
  {
   "cell_type": "code",
   "execution_count": 7,
   "id": "5ba6d39b-7285-48c1-b280-685d2ffe26a6",
   "metadata": {},
   "outputs": [
    {
     "name": "stdout",
     "output_type": "stream",
     "text": [
      ".........................\n"
     ]
    },
    {
     "data": {
      "text/html": [
       "<html>\\(\\displaystyle -\\frac{16 \\, \\mathrm{D}_{0}\\left(\\xi\\right)\\left(y\\left(x\\right), x\\right)}{x - \\frac{\\partial}{\\partial x}y\\left(x\\right)} + \\mathrm{D}_{0, 0}\\left(\\xi\\right)\\left(y\\left(x\\right), x\\right)\\)</html>"
      ],
      "text/latex": [
       "$\\displaystyle -\\frac{16 \\, \\mathrm{D}_{0}\\left(\\xi\\right)\\left(y\\left(x\\right), x\\right)}{x - \\frac{\\partial}{\\partial x}y\\left(x\\right)} + \\mathrm{D}_{0, 0}\\left(\\xi\\right)\\left(y\\left(x\\right), x\\right)$"
      ],
      "text/plain": [
       "-16*D[0](xi)(y(x), x)/(x - diff(y(x), x)) + D[0, 0](xi)(y(x), x)"
      ]
     },
     "metadata": {},
     "output_type": "display_data"
    },
    {
     "name": "stdout",
     "output_type": "stream",
     "text": [
      "Janet basis\n"
     ]
    },
    {
     "data": {
      "text/html": [
       "<html>\\(\\displaystyle -x \\mathrm{D}_{0, 0}\\left(\\xi\\right)\\left(y\\left(x\\right), x\\right) + \\frac{12 \\, x \\mathrm{D}_{0}\\left(\\xi\\right)\\left(y\\left(x\\right), x\\right)}{x - \\frac{\\partial}{\\partial x}y\\left(x\\right)} + \\frac{8 \\, \\mathrm{D}_{0}\\left(\\phi\\right)\\left(y\\left(x\\right), x\\right)}{x - \\frac{\\partial}{\\partial x}y\\left(x\\right)} - \\frac{12 \\, \\mathrm{D}_{1}\\left(\\xi\\right)\\left(y\\left(x\\right), x\\right)}{x - \\frac{\\partial}{\\partial x}y\\left(x\\right)} - \\mathrm{D}_{0, 0}\\left(\\phi\\right)\\left(y\\left(x\\right), x\\right) - 8 \\, \\mathrm{D}_{0}\\left(\\xi\\right)\\left(y\\left(x\\right), x\\right) + 2 \\, \\mathrm{D}_{0, 1}\\left(\\xi\\right)\\left(y\\left(x\\right), x\\right)\\)</html>"
      ],
      "text/latex": [
       "$\\displaystyle -x \\mathrm{D}_{0, 0}\\left(\\xi\\right)\\left(y\\left(x\\right), x\\right) + \\frac{12 \\, x \\mathrm{D}_{0}\\left(\\xi\\right)\\left(y\\left(x\\right), x\\right)}{x - \\frac{\\partial}{\\partial x}y\\left(x\\right)} + \\frac{8 \\, \\mathrm{D}_{0}\\left(\\phi\\right)\\left(y\\left(x\\right), x\\right)}{x - \\frac{\\partial}{\\partial x}y\\left(x\\right)} - \\frac{12 \\, \\mathrm{D}_{1}\\left(\\xi\\right)\\left(y\\left(x\\right), x\\right)}{x - \\frac{\\partial}{\\partial x}y\\left(x\\right)} - \\mathrm{D}_{0, 0}\\left(\\phi\\right)\\left(y\\left(x\\right), x\\right) - 8 \\, \\mathrm{D}_{0}\\left(\\xi\\right)\\left(y\\left(x\\right), x\\right) + 2 \\, \\mathrm{D}_{0, 1}\\left(\\xi\\right)\\left(y\\left(x\\right), x\\right)$"
      ],
      "text/plain": [
       "-x*D[0, 0](xi)(y(x), x) + 12*x*D[0](xi)(y(x), x)/(x - diff(y(x), x)) + 8*D[0](phi)(y(x), x)/(x - diff(y(x), x)) - 12*D[1](xi)(y(x), x)/(x - diff(y(x), x)) - D[0, 0](phi)(y(x), x) - 8*D[0](xi)(y(x), x) + 2*D[0, 1](xi)(y(x), x)"
      ]
     },
     "metadata": {},
     "output_type": "display_data"
    },
    {
     "name": "stdout",
     "output_type": "stream",
     "text": [
      "Janet basis\n"
     ]
    },
    {
     "data": {
      "text/html": [
       "<html>\\(\\displaystyle x \\mathrm{D}_{0, 0}\\left(\\phi\\right)\\left(y\\left(x\\right), x\\right) - 2 \\, x \\mathrm{D}_{0, 1}\\left(\\xi\\right)\\left(y\\left(x\\right), x\\right) - \\frac{4 \\, x \\mathrm{D}_{0}\\left(\\phi\\right)\\left(y\\left(x\\right), x\\right)}{x - \\frac{\\partial}{\\partial x}y\\left(x\\right)} + \\frac{8 \\, x \\mathrm{D}_{1}\\left(\\xi\\right)\\left(y\\left(x\\right), x\\right)}{x - \\frac{\\partial}{\\partial x}y\\left(x\\right)} - \\frac{4 \\, \\xi\\left(y\\left(x\\right), x\\right)}{x - \\frac{\\partial}{\\partial x}y\\left(x\\right)} + \\frac{4 \\, \\mathrm{D}_{1}\\left(\\phi\\right)\\left(y\\left(x\\right), x\\right)}{x - \\frac{\\partial}{\\partial x}y\\left(x\\right)} + 8 \\, \\mathrm{D}_{0}\\left(\\phi\\right)\\left(y\\left(x\\right), x\\right) - 2 \\, \\mathrm{D}_{0, 1}\\left(\\phi\\right)\\left(y\\left(x\\right), x\\right) - 8 \\, \\mathrm{D}_{1}\\left(\\xi\\right)\\left(y\\left(x\\right), x\\right) + \\mathrm{D}_{1, 1}\\left(\\xi\\right)\\left(y\\left(x\\right), x\\right)\\)</html>"
      ],
      "text/latex": [
       "$\\displaystyle x \\mathrm{D}_{0, 0}\\left(\\phi\\right)\\left(y\\left(x\\right), x\\right) - 2 \\, x \\mathrm{D}_{0, 1}\\left(\\xi\\right)\\left(y\\left(x\\right), x\\right) - \\frac{4 \\, x \\mathrm{D}_{0}\\left(\\phi\\right)\\left(y\\left(x\\right), x\\right)}{x - \\frac{\\partial}{\\partial x}y\\left(x\\right)} + \\frac{8 \\, x \\mathrm{D}_{1}\\left(\\xi\\right)\\left(y\\left(x\\right), x\\right)}{x - \\frac{\\partial}{\\partial x}y\\left(x\\right)} - \\frac{4 \\, \\xi\\left(y\\left(x\\right), x\\right)}{x - \\frac{\\partial}{\\partial x}y\\left(x\\right)} + \\frac{4 \\, \\mathrm{D}_{1}\\left(\\phi\\right)\\left(y\\left(x\\right), x\\right)}{x - \\frac{\\partial}{\\partial x}y\\left(x\\right)} + 8 \\, \\mathrm{D}_{0}\\left(\\phi\\right)\\left(y\\left(x\\right), x\\right) - 2 \\, \\mathrm{D}_{0, 1}\\left(\\phi\\right)\\left(y\\left(x\\right), x\\right) - 8 \\, \\mathrm{D}_{1}\\left(\\xi\\right)\\left(y\\left(x\\right), x\\right) + \\mathrm{D}_{1, 1}\\left(\\xi\\right)\\left(y\\left(x\\right), x\\right)$"
      ],
      "text/plain": [
       "x*D[0, 0](phi)(y(x), x) - 2*x*D[0, 1](xi)(y(x), x) - 4*x*D[0](phi)(y(x), x)/(x - diff(y(x), x)) + 8*x*D[1](xi)(y(x), x)/(x - diff(y(x), x)) - 4*xi(y(x), x)/(x - diff(y(x), x)) + 4*D[1](phi)(y(x), x)/(x - diff(y(x), x)) + 8*D[0](phi)(y(x), x) - 2*D[0, 1](phi)(y(x), x) - 8*D[1](xi)(y(x), x) + D[1, 1](xi)(y(x), x)"
      ]
     },
     "metadata": {},
     "output_type": "display_data"
    },
    {
     "name": "stdout",
     "output_type": "stream",
     "text": [
      "Janet basis\n"
     ]
    },
    {
     "data": {
      "text/html": [
       "<html>\\(\\displaystyle 2 \\, x \\mathrm{D}_{0, 1}\\left(\\phi\\right)\\left(y\\left(x\\right), x\\right) - x \\mathrm{D}_{1, 1}\\left(\\xi\\right)\\left(y\\left(x\\right), x\\right) + 8 \\, \\mathrm{D}_{1}\\left(\\phi\\right)\\left(y\\left(x\\right), x\\right) - \\mathrm{D}_{1, 1}\\left(\\phi\\right)\\left(y\\left(x\\right), x\\right)\\)</html>"
      ],
      "text/latex": [
       "$\\displaystyle 2 \\, x \\mathrm{D}_{0, 1}\\left(\\phi\\right)\\left(y\\left(x\\right), x\\right) - x \\mathrm{D}_{1, 1}\\left(\\xi\\right)\\left(y\\left(x\\right), x\\right) + 8 \\, \\mathrm{D}_{1}\\left(\\phi\\right)\\left(y\\left(x\\right), x\\right) - \\mathrm{D}_{1, 1}\\left(\\phi\\right)\\left(y\\left(x\\right), x\\right)$"
      ],
      "text/plain": [
       "2*x*D[0, 1](phi)(y(x), x) - x*D[1, 1](xi)(y(x), x) + 8*D[1](phi)(y(x), x) - D[1, 1](phi)(y(x), x)"
      ]
     },
     "metadata": {},
     "output_type": "display_data"
    },
    {
     "name": "stdout",
     "output_type": "stream",
     "text": [
      "Janet basis\n"
     ]
    },
    {
     "data": {
      "text/html": [
       "<html>\\(\\displaystyle x \\mathrm{D}_{1, 1}\\left(\\phi\\right)\\left(y\\left(x\\right), x\\right)\\)</html>"
      ],
      "text/latex": [
       "$\\displaystyle x \\mathrm{D}_{1, 1}\\left(\\phi\\right)\\left(y\\left(x\\right), x\\right)$"
      ],
      "text/plain": [
       "x*D[1, 1](phi)(y(x), x)"
      ]
     },
     "metadata": {},
     "output_type": "display_data"
    },
    {
     "name": "stdout",
     "output_type": "stream",
     "text": [
      "Janet basis\n"
     ]
    },
    {
     "data": {
      "text/html": [
       "<html>\\(\\displaystyle -\\frac{\\xi\\left(y\\left(x\\right), x\\right)}{x} + \\mathrm{D}_{1}\\left(\\xi\\right)\\left(y\\left(x\\right), x\\right)\\)</html>"
      ],
      "text/latex": [
       "$\\displaystyle -\\frac{\\xi\\left(y\\left(x\\right), x\\right)}{x} + \\mathrm{D}_{1}\\left(\\xi\\right)\\left(y\\left(x\\right), x\\right)$"
      ],
      "text/plain": [
       "-xi(y(x), x)/x + D[1](xi)(y(x), x)"
      ]
     },
     "metadata": {},
     "output_type": "display_data"
    },
    {
     "data": {
      "text/html": [
       "<html>\\(\\displaystyle \\mathrm{D}_{0}\\left(\\xi\\right)\\left(y\\left(x\\right), x\\right)\\)</html>"
      ],
      "text/latex": [
       "$\\displaystyle \\mathrm{D}_{0}\\left(\\xi\\right)\\left(y\\left(x\\right), x\\right)$"
      ],
      "text/plain": [
       "D[0](xi)(y(x), x)"
      ]
     },
     "metadata": {},
     "output_type": "display_data"
    },
    {
     "data": {
      "text/html": [
       "<html>\\(\\displaystyle \\frac{4 \\, \\xi\\left(y\\left(x\\right), x\\right)}{x^{2} {\\left(\\frac{8}{x^{2}} + \\frac{1}{x^{3}}\\right)}} + \\mathrm{D}_{1}\\left(\\phi\\right)\\left(y\\left(x\\right), x\\right)\\)</html>"
      ],
      "text/latex": [
       "$\\displaystyle \\frac{4 \\, \\xi\\left(y\\left(x\\right), x\\right)}{x^{2} {\\left(\\frac{8}{x^{2}} + \\frac{1}{x^{3}}\\right)}} + \\mathrm{D}_{1}\\left(\\phi\\right)\\left(y\\left(x\\right), x\\right)$"
      ],
      "text/plain": [
       "4*xi(y(x), x)/(x^2*(8/x^2 + 1/x^3)) + D[1](phi)(y(x), x)"
      ]
     },
     "metadata": {},
     "output_type": "display_data"
    },
    {
     "data": {
      "text/html": [
       "<html>\\(\\displaystyle -\\frac{\\xi\\left(y\\left(x\\right), x\\right)}{3 \\, x} + \\mathrm{D}_{0}\\left(\\phi\\right)\\left(y\\left(x\\right), x\\right)\\)</html>"
      ],
      "text/latex": [
       "$\\displaystyle -\\frac{\\xi\\left(y\\left(x\\right), x\\right)}{3 \\, x} + \\mathrm{D}_{0}\\left(\\phi\\right)\\left(y\\left(x\\right), x\\right)$"
      ],
      "text/plain": [
       "-1/3*xi(y(x), x)/x + D[0](phi)(y(x), x)"
      ]
     },
     "metadata": {},
     "output_type": "display_data"
    }
   ],
   "source": [
    "# Schwarz, Example 5.11, p 215\n",
    "ode = (x-diff(y(x), x))*diff(y(x), x,x) + 4 * diff(y(x), x)**2\n",
    "inf = infinitesimalsODE(ode, y, x)\n",
    "print(\".\"*25)\n",
    "for _ in inf:\n",
    "    _.show()\n",
    "print(\"Janet basis\")\n",
    "jb = Janet_Basis_from_ODE(ode, y, x)\n",
    "for _ in jb:\n",
    "    _.show()"
   ]
  },
  {
   "cell_type": "code",
   "execution_count": 8,
   "id": "fd0a86a0-9968-4385-a86c-7d516b90892f",
   "metadata": {},
   "outputs": [
    {
     "name": "stdout",
     "output_type": "stream",
     "text": [
      "========\n"
     ]
    },
    {
     "data": {
      "text/html": [
       "<html>\\(\\displaystyle -\\mathrm{D}_{0, 0}\\left(\\xi\\right)\\left(y\\left(x\\right), x\\right)\\)</html>"
      ],
      "text/latex": [
       "$\\displaystyle -\\mathrm{D}_{0, 0}\\left(\\xi\\right)\\left(y\\left(x\\right), x\\right)$"
      ],
      "text/plain": [
       "-D[0, 0](xi)(y(x), x)"
      ]
     },
     "metadata": {},
     "output_type": "display_data"
    },
    {
     "data": {
      "text/html": [
       "<html>\\(\\displaystyle \\mathrm{D}_{0, 0}\\left(\\phi\\right)\\left(y\\left(x\\right), x\\right) - 2 \\, \\mathrm{D}_{0, 1}\\left(\\xi\\right)\\left(y\\left(x\\right), x\\right)\\)</html>"
      ],
      "text/latex": [
       "$\\displaystyle \\mathrm{D}_{0, 0}\\left(\\phi\\right)\\left(y\\left(x\\right), x\\right) - 2 \\, \\mathrm{D}_{0, 1}\\left(\\xi\\right)\\left(y\\left(x\\right), x\\right)$"
      ],
      "text/plain": [
       "D[0, 0](phi)(y(x), x) - 2*D[0, 1](xi)(y(x), x)"
      ]
     },
     "metadata": {},
     "output_type": "display_data"
    },
    {
     "data": {
      "text/html": [
       "<html>\\(\\displaystyle 2 \\, \\mathrm{D}_{0, 1}\\left(\\phi\\right)\\left(y\\left(x\\right), x\\right) - \\mathrm{D}_{1, 1}\\left(\\xi\\right)\\left(y\\left(x\\right), x\\right)\\)</html>"
      ],
      "text/latex": [
       "$\\displaystyle 2 \\, \\mathrm{D}_{0, 1}\\left(\\phi\\right)\\left(y\\left(x\\right), x\\right) - \\mathrm{D}_{1, 1}\\left(\\xi\\right)\\left(y\\left(x\\right), x\\right)$"
      ],
      "text/plain": [
       "2*D[0, 1](phi)(y(x), x) - D[1, 1](xi)(y(x), x)"
      ]
     },
     "metadata": {},
     "output_type": "display_data"
    },
    {
     "data": {
      "text/html": [
       "<html>\\(\\displaystyle \\mathrm{D}_{1, 1}\\left(\\phi\\right)\\left(y\\left(x\\right), x\\right)\\)</html>"
      ],
      "text/latex": [
       "$\\displaystyle \\mathrm{D}_{1, 1}\\left(\\phi\\right)\\left(y\\left(x\\right), x\\right)$"
      ],
      "text/plain": [
       "D[1, 1](phi)(y(x), x)"
      ]
     },
     "metadata": {},
     "output_type": "display_data"
    },
    {
     "name": "stdout",
     "output_type": "stream",
     "text": [
      "Janet basis\n"
     ]
    },
    {
     "data": {
      "text/html": [
       "<html>\\(\\displaystyle \\mathrm{D}_{0, 0}\\left(\\xi\\right)\\left(y\\left(x\\right), x\\right)\\)</html>"
      ],
      "text/latex": [
       "$\\displaystyle \\mathrm{D}_{0, 0}\\left(\\xi\\right)\\left(y\\left(x\\right), x\\right)$"
      ],
      "text/plain": [
       "D[0, 0](xi)(y(x), x)"
      ]
     },
     "metadata": {},
     "output_type": "display_data"
    },
    {
     "data": {
      "text/html": [
       "<html>\\(\\displaystyle \\mathrm{D}_{1, 1}\\left(\\phi\\right)\\left(y\\left(x\\right), x\\right)\\)</html>"
      ],
      "text/latex": [
       "$\\displaystyle \\mathrm{D}_{1, 1}\\left(\\phi\\right)\\left(y\\left(x\\right), x\\right)$"
      ],
      "text/plain": [
       "D[1, 1](phi)(y(x), x)"
      ]
     },
     "metadata": {},
     "output_type": "display_data"
    },
    {
     "data": {
      "text/html": [
       "<html>\\(\\displaystyle \\mathrm{D}_{0, 1}\\left(\\phi\\right)\\left(y\\left(x\\right), x\\right) - \\frac{1}{2} \\, \\mathrm{D}_{1, 1}\\left(\\xi\\right)\\left(y\\left(x\\right), x\\right)\\)</html>"
      ],
      "text/latex": [
       "$\\displaystyle \\mathrm{D}_{0, 1}\\left(\\phi\\right)\\left(y\\left(x\\right), x\\right) - \\frac{1}{2} \\, \\mathrm{D}_{1, 1}\\left(\\xi\\right)\\left(y\\left(x\\right), x\\right)$"
      ],
      "text/plain": [
       "D[0, 1](phi)(y(x), x) - 1/2*D[1, 1](xi)(y(x), x)"
      ]
     },
     "metadata": {},
     "output_type": "display_data"
    },
    {
     "data": {
      "text/html": [
       "<html>\\(\\displaystyle \\mathrm{D}_{0, 0}\\left(\\phi\\right)\\left(y\\left(x\\right), x\\right) - 2 \\, \\mathrm{D}_{0, 1}\\left(\\xi\\right)\\left(y\\left(x\\right), x\\right)\\)</html>"
      ],
      "text/latex": [
       "$\\displaystyle \\mathrm{D}_{0, 0}\\left(\\phi\\right)\\left(y\\left(x\\right), x\\right) - 2 \\, \\mathrm{D}_{0, 1}\\left(\\xi\\right)\\left(y\\left(x\\right), x\\right)$"
      ],
      "text/plain": [
       "D[0, 0](phi)(y(x), x) - 2*D[0, 1](xi)(y(x), x)"
      ]
     },
     "metadata": {},
     "output_type": "display_data"
    },
    {
     "data": {
      "text/html": [
       "<html>\\(\\displaystyle \\mathrm{D}_{1, 1, 1}\\left(\\xi\\right)\\left(y\\left(x\\right), x\\right)\\)</html>"
      ],
      "text/latex": [
       "$\\displaystyle \\mathrm{D}_{1, 1, 1}\\left(\\xi\\right)\\left(y\\left(x\\right), x\\right)$"
      ],
      "text/plain": [
       "D[1, 1, 1](xi)(y(x), x)"
      ]
     },
     "metadata": {},
     "output_type": "display_data"
    },
    {
     "data": {
      "text/html": [
       "<html>\\(\\displaystyle \\mathrm{D}_{0, 1, 1}\\left(\\xi\\right)\\left(y\\left(x\\right), x\\right)\\)</html>"
      ],
      "text/latex": [
       "$\\displaystyle \\mathrm{D}_{0, 1, 1}\\left(\\xi\\right)\\left(y\\left(x\\right), x\\right)$"
      ],
      "text/plain": [
       "D[0, 1, 1](xi)(y(x), x)"
      ]
     },
     "metadata": {},
     "output_type": "display_data"
    },
    {
     "data": {
      "text/html": [
       "<html>\\(\\displaystyle \\mathrm{D}_{0, 0, 0}\\left(\\xi\\right)\\left(y\\left(x\\right), x\\right)\\)</html>"
      ],
      "text/latex": [
       "$\\displaystyle \\mathrm{D}_{0, 0, 0}\\left(\\xi\\right)\\left(y\\left(x\\right), x\\right)$"
      ],
      "text/plain": [
       "D[0, 0, 0](xi)(y(x), x)"
      ]
     },
     "metadata": {},
     "output_type": "display_data"
    }
   ],
   "source": [
    "# Arrigo, example 2.17\n",
    "ode = diff(y(x), x,x)\n",
    "inf = infinitesimalsODE(ode, y, x)\n",
    "print(\"========\")\n",
    "for _ in inf:\n",
    "    _.show()\n",
    "print(\"Janet basis\")\n",
    "jb = Janet_Basis_from_ODE(ode, y, x)\n",
    "for _ in jb:\n",
    "    _.show()    "
   ]
  },
  {
   "cell_type": "code",
   "execution_count": 9,
   "id": "ddb2f057-bcac-437c-993d-e3b0f1dc5557",
   "metadata": {},
   "outputs": [
    {
     "name": "stdout",
     "output_type": "stream",
     "text": [
      "=======\n"
     ]
    },
    {
     "data": {
      "text/html": [
       "<html>\\(\\displaystyle -4 \\, y\\left(x\\right)^{2} \\mathrm{D}_{0, 0}\\left(\\xi\\right)\\left(y\\left(x\\right), x\\right)\\)</html>"
      ],
      "text/latex": [
       "$\\displaystyle -4 \\, y\\left(x\\right)^{2} \\mathrm{D}_{0, 0}\\left(\\xi\\right)\\left(y\\left(x\\right), x\\right)$"
      ],
      "text/plain": [
       "-4*y(x)^2*D[0, 0](xi)(y(x), x)"
      ]
     },
     "metadata": {},
     "output_type": "display_data"
    },
    {
     "data": {
      "text/html": [
       "<html>\\(\\displaystyle 4 \\, y\\left(x\\right)^{2} \\mathrm{D}_{0, 0}\\left(\\phi\\right)\\left(y\\left(x\\right), x\\right) - 12 \\, x^{2} \\mathrm{D}_{0}\\left(\\xi\\right)\\left(y\\left(x\\right), x\\right) - 8 \\, y\\left(x\\right)^{2} \\mathrm{D}_{0, 1}\\left(\\xi\\right)\\left(y\\left(x\\right), x\\right)\\)</html>"
      ],
      "text/latex": [
       "$\\displaystyle 4 \\, y\\left(x\\right)^{2} \\mathrm{D}_{0, 0}\\left(\\phi\\right)\\left(y\\left(x\\right), x\\right) - 12 \\, x^{2} \\mathrm{D}_{0}\\left(\\xi\\right)\\left(y\\left(x\\right), x\\right) - 8 \\, y\\left(x\\right)^{2} \\mathrm{D}_{0, 1}\\left(\\xi\\right)\\left(y\\left(x\\right), x\\right)$"
      ],
      "text/plain": [
       "4*y(x)^2*D[0, 0](phi)(y(x), x) - 12*x^2*D[0](xi)(y(x), x) - 8*y(x)^2*D[0, 1](xi)(y(x), x)"
      ]
     },
     "metadata": {},
     "output_type": "display_data"
    },
    {
     "data": {
      "text/html": [
       "<html>\\(\\displaystyle -36 \\, y\\left(x\\right)^{3} \\mathrm{D}_{0}\\left(\\xi\\right)\\left(y\\left(x\\right), x\\right) + 8 \\, y\\left(x\\right)^{2} \\mathrm{D}_{0, 1}\\left(\\phi\\right)\\left(y\\left(x\\right), x\\right) - 6 \\, x^{2} \\mathrm{D}_{1}\\left(\\xi\\right)\\left(y\\left(x\\right), x\\right) - 4 \\, y\\left(x\\right)^{2} \\mathrm{D}_{1, 1}\\left(\\xi\\right)\\left(y\\left(x\\right), x\\right) - 12 \\, x \\xi\\left(y\\left(x\\right), x\\right) + \\frac{12 \\, x^{2} \\phi\\left(y\\left(x\\right), x\\right)}{y\\left(x\\right)}\\)</html>"
      ],
      "text/latex": [
       "$\\displaystyle -36 \\, y\\left(x\\right)^{3} \\mathrm{D}_{0}\\left(\\xi\\right)\\left(y\\left(x\\right), x\\right) + 8 \\, y\\left(x\\right)^{2} \\mathrm{D}_{0, 1}\\left(\\phi\\right)\\left(y\\left(x\\right), x\\right) - 6 \\, x^{2} \\mathrm{D}_{1}\\left(\\xi\\right)\\left(y\\left(x\\right), x\\right) - 4 \\, y\\left(x\\right)^{2} \\mathrm{D}_{1, 1}\\left(\\xi\\right)\\left(y\\left(x\\right), x\\right) - 12 \\, x \\xi\\left(y\\left(x\\right), x\\right) + \\frac{12 \\, x^{2} \\phi\\left(y\\left(x\\right), x\\right)}{y\\left(x\\right)}$"
      ],
      "text/plain": [
       "-36*y(x)^3*D[0](xi)(y(x), x) + 8*y(x)^2*D[0, 1](phi)(y(x), x) - 6*x^2*D[1](xi)(y(x), x) - 4*y(x)^2*D[1, 1](xi)(y(x), x) - 12*x*xi(y(x), x) + 12*x^2*phi(y(x), x)/y(x)"
      ]
     },
     "metadata": {},
     "output_type": "display_data"
    },
    {
     "data": {
      "text/html": [
       "<html>\\(\\displaystyle 12 \\, y\\left(x\\right)^{3} \\mathrm{D}_{0}\\left(\\phi\\right)\\left(y\\left(x\\right), x\\right) - 24 \\, y\\left(x\\right)^{3} \\mathrm{D}_{1}\\left(\\xi\\right)\\left(y\\left(x\\right), x\\right) - 12 \\, \\phi\\left(y\\left(x\\right), x\\right) y\\left(x\\right)^{2} - 6 \\, x^{2} \\mathrm{D}_{1}\\left(\\phi\\right)\\left(y\\left(x\\right), x\\right) + 4 \\, y\\left(x\\right)^{2} \\mathrm{D}_{1, 1}\\left(\\phi\\right)\\left(y\\left(x\\right), x\\right)\\)</html>"
      ],
      "text/latex": [
       "$\\displaystyle 12 \\, y\\left(x\\right)^{3} \\mathrm{D}_{0}\\left(\\phi\\right)\\left(y\\left(x\\right), x\\right) - 24 \\, y\\left(x\\right)^{3} \\mathrm{D}_{1}\\left(\\xi\\right)\\left(y\\left(x\\right), x\\right) - 12 \\, \\phi\\left(y\\left(x\\right), x\\right) y\\left(x\\right)^{2} - 6 \\, x^{2} \\mathrm{D}_{1}\\left(\\phi\\right)\\left(y\\left(x\\right), x\\right) + 4 \\, y\\left(x\\right)^{2} \\mathrm{D}_{1, 1}\\left(\\phi\\right)\\left(y\\left(x\\right), x\\right)$"
      ],
      "text/plain": [
       "12*y(x)^3*D[0](phi)(y(x), x) - 24*y(x)^3*D[1](xi)(y(x), x) - 12*phi(y(x), x)*y(x)^2 - 6*x^2*D[1](phi)(y(x), x) + 4*y(x)^2*D[1, 1](phi)(y(x), x)"
      ]
     },
     "metadata": {},
     "output_type": "display_data"
    },
    {
     "name": "stdout",
     "output_type": "stream",
     "text": [
      "Janet basis\n"
     ]
    },
    {
     "data": {
      "text/html": [
       "<html>\\(\\displaystyle \\mathrm{D}_{0, 0}\\left(\\xi\\right)\\left(y\\left(x\\right), x\\right)\\)</html>"
      ],
      "text/latex": [
       "$\\displaystyle \\mathrm{D}_{0, 0}\\left(\\xi\\right)\\left(y\\left(x\\right), x\\right)$"
      ],
      "text/plain": [
       "D[0, 0](xi)(y(x), x)"
      ]
     },
     "metadata": {},
     "output_type": "display_data"
    },
    {
     "data": {
      "text/html": [
       "<html>\\(\\displaystyle \\mathrm{D}_{1, 1}\\left(\\phi\\right)\\left(y\\left(x\\right), x\\right)\\)</html>"
      ],
      "text/latex": [
       "$\\displaystyle \\mathrm{D}_{1, 1}\\left(\\phi\\right)\\left(y\\left(x\\right), x\\right)$"
      ],
      "text/plain": [
       "D[1, 1](phi)(y(x), x)"
      ]
     },
     "metadata": {},
     "output_type": "display_data"
    },
    {
     "data": {
      "text/html": [
       "<html>\\(\\displaystyle \\mathrm{D}_{0, 1}\\left(\\phi\\right)\\left(y\\left(x\\right), x\\right) - \\frac{1}{2} \\, \\mathrm{D}_{1, 1}\\left(\\xi\\right)\\left(y\\left(x\\right), x\\right)\\)</html>"
      ],
      "text/latex": [
       "$\\displaystyle \\mathrm{D}_{0, 1}\\left(\\phi\\right)\\left(y\\left(x\\right), x\\right) - \\frac{1}{2} \\, \\mathrm{D}_{1, 1}\\left(\\xi\\right)\\left(y\\left(x\\right), x\\right)$"
      ],
      "text/plain": [
       "D[0, 1](phi)(y(x), x) - 1/2*D[1, 1](xi)(y(x), x)"
      ]
     },
     "metadata": {},
     "output_type": "display_data"
    },
    {
     "data": {
      "text/html": [
       "<html>\\(\\displaystyle \\mathrm{D}_{0, 0}\\left(\\phi\\right)\\left(y\\left(x\\right), x\\right) - 2 \\, \\mathrm{D}_{0, 1}\\left(\\xi\\right)\\left(y\\left(x\\right), x\\right)\\)</html>"
      ],
      "text/latex": [
       "$\\displaystyle \\mathrm{D}_{0, 0}\\left(\\phi\\right)\\left(y\\left(x\\right), x\\right) - 2 \\, \\mathrm{D}_{0, 1}\\left(\\xi\\right)\\left(y\\left(x\\right), x\\right)$"
      ],
      "text/plain": [
       "D[0, 0](phi)(y(x), x) - 2*D[0, 1](xi)(y(x), x)"
      ]
     },
     "metadata": {},
     "output_type": "display_data"
    },
    {
     "data": {
      "text/html": [
       "<html>\\(\\displaystyle \\mathrm{D}_{1, 1, 1}\\left(\\xi\\right)\\left(y\\left(x\\right), x\\right)\\)</html>"
      ],
      "text/latex": [
       "$\\displaystyle \\mathrm{D}_{1, 1, 1}\\left(\\xi\\right)\\left(y\\left(x\\right), x\\right)$"
      ],
      "text/plain": [
       "D[1, 1, 1](xi)(y(x), x)"
      ]
     },
     "metadata": {},
     "output_type": "display_data"
    },
    {
     "data": {
      "text/html": [
       "<html>\\(\\displaystyle \\mathrm{D}_{0, 1, 1}\\left(\\xi\\right)\\left(y\\left(x\\right), x\\right)\\)</html>"
      ],
      "text/latex": [
       "$\\displaystyle \\mathrm{D}_{0, 1, 1}\\left(\\xi\\right)\\left(y\\left(x\\right), x\\right)$"
      ],
      "text/plain": [
       "D[0, 1, 1](xi)(y(x), x)"
      ]
     },
     "metadata": {},
     "output_type": "display_data"
    },
    {
     "data": {
      "text/html": [
       "<html>\\(\\displaystyle \\mathrm{D}_{0, 0, 0}\\left(\\xi\\right)\\left(y\\left(x\\right), x\\right)\\)</html>"
      ],
      "text/latex": [
       "$\\displaystyle \\mathrm{D}_{0, 0, 0}\\left(\\xi\\right)\\left(y\\left(x\\right), x\\right)$"
      ],
      "text/plain": [
       "D[0, 0, 0](xi)(y(x), x)"
      ]
     },
     "metadata": {},
     "output_type": "display_data"
    }
   ],
   "source": [
    "ode2=4*diff(y(x),x,x)*y(x)**2 - 3* (x**2)*diff(y(x),x)*2-12*y(x)**3\n",
    "inf = infinitesimalsODE(ode2, y ,x)\n",
    "print(\"=======\")\n",
    "for _ in inf:\n",
    "    _.show()\n",
    "print(\"Janet basis\")\n",
    "jb = Janet_Basis_from_ODE(ode, y, x)\n",
    "for _ in jb:\n",
    "    _.show()"
   ]
  },
  {
   "cell_type": "code",
   "execution_count": 10,
   "id": "1279dab5-7468-49a9-9abe-f936de8002f8",
   "metadata": {},
   "outputs": [
    {
     "name": "stdout",
     "output_type": "stream",
     "text": [
      "=========\n"
     ]
    },
    {
     "data": {
      "text/html": [
       "<html>\\(\\displaystyle -\\mathrm{D}_{0, 0}\\left(\\xi\\right)\\left(y\\left(x\\right), x\\right)\\)</html>"
      ],
      "text/latex": [
       "$\\displaystyle -\\mathrm{D}_{0, 0}\\left(\\xi\\right)\\left(y\\left(x\\right), x\\right)$"
      ],
      "text/plain": [
       "-D[0, 0](xi)(y(x), x)"
      ]
     },
     "metadata": {},
     "output_type": "display_data"
    },
    {
     "data": {
      "text/html": [
       "<html>\\(\\displaystyle 2 \\, y\\left(x\\right) \\mathrm{D}_{0}\\left(\\xi\\right)\\left(y\\left(x\\right), x\\right) + \\mathrm{D}_{0, 0}\\left(\\phi\\right)\\left(y\\left(x\\right), x\\right) - 2 \\, \\mathrm{D}_{0, 1}\\left(\\xi\\right)\\left(y\\left(x\\right), x\\right)\\)</html>"
      ],
      "text/latex": [
       "$\\displaystyle 2 \\, y\\left(x\\right) \\mathrm{D}_{0}\\left(\\xi\\right)\\left(y\\left(x\\right), x\\right) + \\mathrm{D}_{0, 0}\\left(\\phi\\right)\\left(y\\left(x\\right), x\\right) - 2 \\, \\mathrm{D}_{0, 1}\\left(\\xi\\right)\\left(y\\left(x\\right), x\\right)$"
      ],
      "text/plain": [
       "2*y(x)*D[0](xi)(y(x), x) + D[0, 0](phi)(y(x), x) - 2*D[0, 1](xi)(y(x), x)"
      ]
     },
     "metadata": {},
     "output_type": "display_data"
    },
    {
     "data": {
      "text/html": [
       "<html>\\(\\displaystyle 3 \\, x y\\left(x\\right)^{4} \\mathrm{D}_{0}\\left(\\xi\\right)\\left(y\\left(x\\right), x\\right) + y\\left(x\\right) \\mathrm{D}_{1}\\left(\\xi\\right)\\left(y\\left(x\\right), x\\right) + \\phi\\left(y\\left(x\\right), x\\right) + 2 \\, \\mathrm{D}_{0, 1}\\left(\\phi\\right)\\left(y\\left(x\\right), x\\right) - \\mathrm{D}_{1, 1}\\left(\\xi\\right)\\left(y\\left(x\\right), x\\right)\\)</html>"
      ],
      "text/latex": [
       "$\\displaystyle 3 \\, x y\\left(x\\right)^{4} \\mathrm{D}_{0}\\left(\\xi\\right)\\left(y\\left(x\\right), x\\right) + y\\left(x\\right) \\mathrm{D}_{1}\\left(\\xi\\right)\\left(y\\left(x\\right), x\\right) + \\phi\\left(y\\left(x\\right), x\\right) + 2 \\, \\mathrm{D}_{0, 1}\\left(\\phi\\right)\\left(y\\left(x\\right), x\\right) - \\mathrm{D}_{1, 1}\\left(\\xi\\right)\\left(y\\left(x\\right), x\\right)$"
      ],
      "text/plain": [
       "3*x*y(x)^4*D[0](xi)(y(x), x) + y(x)*D[1](xi)(y(x), x) + phi(y(x), x) + 2*D[0, 1](phi)(y(x), x) - D[1, 1](xi)(y(x), x)"
      ]
     },
     "metadata": {},
     "output_type": "display_data"
    },
    {
     "data": {
      "text/html": [
       "<html>\\(\\displaystyle -x y\\left(x\\right)^{4} \\mathrm{D}_{0}\\left(\\phi\\right)\\left(y\\left(x\\right), x\\right) + 2 \\, x y\\left(x\\right)^{4} \\mathrm{D}_{1}\\left(\\xi\\right)\\left(y\\left(x\\right), x\\right) + 4 \\, x \\phi\\left(y\\left(x\\right), x\\right) y\\left(x\\right)^{3} + \\xi\\left(y\\left(x\\right), x\\right) y\\left(x\\right)^{4} + y\\left(x\\right) \\mathrm{D}_{1}\\left(\\phi\\right)\\left(y\\left(x\\right), x\\right) + \\mathrm{D}_{1, 1}\\left(\\phi\\right)\\left(y\\left(x\\right), x\\right)\\)</html>"
      ],
      "text/latex": [
       "$\\displaystyle -x y\\left(x\\right)^{4} \\mathrm{D}_{0}\\left(\\phi\\right)\\left(y\\left(x\\right), x\\right) + 2 \\, x y\\left(x\\right)^{4} \\mathrm{D}_{1}\\left(\\xi\\right)\\left(y\\left(x\\right), x\\right) + 4 \\, x \\phi\\left(y\\left(x\\right), x\\right) y\\left(x\\right)^{3} + \\xi\\left(y\\left(x\\right), x\\right) y\\left(x\\right)^{4} + y\\left(x\\right) \\mathrm{D}_{1}\\left(\\phi\\right)\\left(y\\left(x\\right), x\\right) + \\mathrm{D}_{1, 1}\\left(\\phi\\right)\\left(y\\left(x\\right), x\\right)$"
      ],
      "text/plain": [
       "-x*y(x)^4*D[0](phi)(y(x), x) + 2*x*y(x)^4*D[1](xi)(y(x), x) + 4*x*phi(y(x), x)*y(x)^3 + xi(y(x), x)*y(x)^4 + y(x)*D[1](phi)(y(x), x) + D[1, 1](phi)(y(x), x)"
      ]
     },
     "metadata": {},
     "output_type": "display_data"
    },
    {
     "name": "stdout",
     "output_type": "stream",
     "text": [
      "Janet basis\n"
     ]
    },
    {
     "data": {
      "text/html": [
       "<html>\\(\\displaystyle \\mathrm{D}_{0, 0}\\left(\\xi\\right)\\left(y\\left(x\\right), x\\right)\\)</html>"
      ],
      "text/latex": [
       "$\\displaystyle \\mathrm{D}_{0, 0}\\left(\\xi\\right)\\left(y\\left(x\\right), x\\right)$"
      ],
      "text/plain": [
       "D[0, 0](xi)(y(x), x)"
      ]
     },
     "metadata": {},
     "output_type": "display_data"
    },
    {
     "data": {
      "text/html": [
       "<html>\\(\\displaystyle \\mathrm{D}_{1, 1}\\left(\\phi\\right)\\left(y\\left(x\\right), x\\right)\\)</html>"
      ],
      "text/latex": [
       "$\\displaystyle \\mathrm{D}_{1, 1}\\left(\\phi\\right)\\left(y\\left(x\\right), x\\right)$"
      ],
      "text/plain": [
       "D[1, 1](phi)(y(x), x)"
      ]
     },
     "metadata": {},
     "output_type": "display_data"
    },
    {
     "data": {
      "text/html": [
       "<html>\\(\\displaystyle \\mathrm{D}_{0, 1}\\left(\\phi\\right)\\left(y\\left(x\\right), x\\right) - \\frac{1}{2} \\, \\mathrm{D}_{1, 1}\\left(\\xi\\right)\\left(y\\left(x\\right), x\\right)\\)</html>"
      ],
      "text/latex": [
       "$\\displaystyle \\mathrm{D}_{0, 1}\\left(\\phi\\right)\\left(y\\left(x\\right), x\\right) - \\frac{1}{2} \\, \\mathrm{D}_{1, 1}\\left(\\xi\\right)\\left(y\\left(x\\right), x\\right)$"
      ],
      "text/plain": [
       "D[0, 1](phi)(y(x), x) - 1/2*D[1, 1](xi)(y(x), x)"
      ]
     },
     "metadata": {},
     "output_type": "display_data"
    },
    {
     "data": {
      "text/html": [
       "<html>\\(\\displaystyle \\mathrm{D}_{0, 0}\\left(\\phi\\right)\\left(y\\left(x\\right), x\\right) - 2 \\, \\mathrm{D}_{0, 1}\\left(\\xi\\right)\\left(y\\left(x\\right), x\\right)\\)</html>"
      ],
      "text/latex": [
       "$\\displaystyle \\mathrm{D}_{0, 0}\\left(\\phi\\right)\\left(y\\left(x\\right), x\\right) - 2 \\, \\mathrm{D}_{0, 1}\\left(\\xi\\right)\\left(y\\left(x\\right), x\\right)$"
      ],
      "text/plain": [
       "D[0, 0](phi)(y(x), x) - 2*D[0, 1](xi)(y(x), x)"
      ]
     },
     "metadata": {},
     "output_type": "display_data"
    },
    {
     "data": {
      "text/html": [
       "<html>\\(\\displaystyle \\mathrm{D}_{1, 1, 1}\\left(\\xi\\right)\\left(y\\left(x\\right), x\\right)\\)</html>"
      ],
      "text/latex": [
       "$\\displaystyle \\mathrm{D}_{1, 1, 1}\\left(\\xi\\right)\\left(y\\left(x\\right), x\\right)$"
      ],
      "text/plain": [
       "D[1, 1, 1](xi)(y(x), x)"
      ]
     },
     "metadata": {},
     "output_type": "display_data"
    },
    {
     "data": {
      "text/html": [
       "<html>\\(\\displaystyle \\mathrm{D}_{0, 1, 1}\\left(\\xi\\right)\\left(y\\left(x\\right), x\\right)\\)</html>"
      ],
      "text/latex": [
       "$\\displaystyle \\mathrm{D}_{0, 1, 1}\\left(\\xi\\right)\\left(y\\left(x\\right), x\\right)$"
      ],
      "text/plain": [
       "D[0, 1, 1](xi)(y(x), x)"
      ]
     },
     "metadata": {},
     "output_type": "display_data"
    },
    {
     "data": {
      "text/html": [
       "<html>\\(\\displaystyle \\mathrm{D}_{0, 0, 0}\\left(\\xi\\right)\\left(y\\left(x\\right), x\\right)\\)</html>"
      ],
      "text/latex": [
       "$\\displaystyle \\mathrm{D}_{0, 0, 0}\\left(\\xi\\right)\\left(y\\left(x\\right), x\\right)$"
      ],
      "text/plain": [
       "D[0, 0, 0](xi)(y(x), x)"
      ]
     },
     "metadata": {},
     "output_type": "display_data"
    }
   ],
   "source": [
    "ode3=diff(y(x),x,x) + y(x)*diff(y(x),x)+x*y(x)**4\n",
    "inf = infinitesimalsODE(ode3, y ,x)\n",
    "print(\"=========\")\n",
    "for _ in inf:\n",
    "    _.show()\n",
    "print(\"Janet basis\")\n",
    "jb = Janet_Basis_from_ODE(ode, y, x)\n",
    "for _ in jb:\n",
    "    _.show()"
   ]
  },
  {
   "cell_type": "code",
   "execution_count": 11,
   "id": "bc3fa9f6-5fe6-4111-8805-71702826f3e8",
   "metadata": {
    "scrolled": true
   },
   "outputs": [
    {
     "name": "stdout",
     "output_type": "stream",
     "text": [
      "=========\n"
     ]
    },
    {
     "data": {
      "text/html": [
       "<html>\\(\\displaystyle -\\mathrm{D}_{0, 0}\\left(\\xi\\right)\\left(y\\left(x\\right), x\\right)\\)</html>"
      ],
      "text/latex": [
       "$\\displaystyle -\\mathrm{D}_{0, 0}\\left(\\xi\\right)\\left(y\\left(x\\right), x\\right)$"
      ],
      "text/plain": [
       "-D[0, 0](xi)(y(x), x)"
      ]
     },
     "metadata": {},
     "output_type": "display_data"
    },
    {
     "data": {
      "text/html": [
       "<html>\\(\\displaystyle 6 \\, y\\left(x\\right) \\mathrm{D}_{0}\\left(\\xi\\right)\\left(y\\left(x\\right), x\\right) + \\mathrm{D}_{0, 0}\\left(\\phi\\right)\\left(y\\left(x\\right), x\\right) - 2 \\, \\mathrm{D}_{0, 1}\\left(\\xi\\right)\\left(y\\left(x\\right), x\\right)\\)</html>"
      ],
      "text/latex": [
       "$\\displaystyle 6 \\, y\\left(x\\right) \\mathrm{D}_{0}\\left(\\xi\\right)\\left(y\\left(x\\right), x\\right) + \\mathrm{D}_{0, 0}\\left(\\phi\\right)\\left(y\\left(x\\right), x\\right) - 2 \\, \\mathrm{D}_{0, 1}\\left(\\xi\\right)\\left(y\\left(x\\right), x\\right)$"
      ],
      "text/plain": [
       "6*y(x)*D[0](xi)(y(x), x) + D[0, 0](phi)(y(x), x) - 2*D[0, 1](xi)(y(x), x)"
      ]
     },
     "metadata": {},
     "output_type": "display_data"
    },
    {
     "data": {
      "text/html": [
       "<html>\\(\\displaystyle 3 \\, y\\left(x\\right)^{3} \\mathrm{D}_{0}\\left(\\xi\\right)\\left(y\\left(x\\right), x\\right) + 3 \\, y\\left(x\\right) \\mathrm{D}_{1}\\left(\\xi\\right)\\left(y\\left(x\\right), x\\right) + 3 \\, \\phi\\left(y\\left(x\\right), x\\right) + 2 \\, \\mathrm{D}_{0, 1}\\left(\\phi\\right)\\left(y\\left(x\\right), x\\right) - \\mathrm{D}_{1, 1}\\left(\\xi\\right)\\left(y\\left(x\\right), x\\right)\\)</html>"
      ],
      "text/latex": [
       "$\\displaystyle 3 \\, y\\left(x\\right)^{3} \\mathrm{D}_{0}\\left(\\xi\\right)\\left(y\\left(x\\right), x\\right) + 3 \\, y\\left(x\\right) \\mathrm{D}_{1}\\left(\\xi\\right)\\left(y\\left(x\\right), x\\right) + 3 \\, \\phi\\left(y\\left(x\\right), x\\right) + 2 \\, \\mathrm{D}_{0, 1}\\left(\\phi\\right)\\left(y\\left(x\\right), x\\right) - \\mathrm{D}_{1, 1}\\left(\\xi\\right)\\left(y\\left(x\\right), x\\right)$"
      ],
      "text/plain": [
       "3*y(x)^3*D[0](xi)(y(x), x) + 3*y(x)*D[1](xi)(y(x), x) + 3*phi(y(x), x) + 2*D[0, 1](phi)(y(x), x) - D[1, 1](xi)(y(x), x)"
      ]
     },
     "metadata": {},
     "output_type": "display_data"
    },
    {
     "data": {
      "text/html": [
       "<html>\\(\\displaystyle -y\\left(x\\right)^{3} \\mathrm{D}_{0}\\left(\\phi\\right)\\left(y\\left(x\\right), x\\right) + 2 \\, y\\left(x\\right)^{3} \\mathrm{D}_{1}\\left(\\xi\\right)\\left(y\\left(x\\right), x\\right) + 3 \\, \\phi\\left(y\\left(x\\right), x\\right) y\\left(x\\right)^{2} + 3 \\, y\\left(x\\right) \\mathrm{D}_{1}\\left(\\phi\\right)\\left(y\\left(x\\right), x\\right) + \\mathrm{D}_{1, 1}\\left(\\phi\\right)\\left(y\\left(x\\right), x\\right)\\)</html>"
      ],
      "text/latex": [
       "$\\displaystyle -y\\left(x\\right)^{3} \\mathrm{D}_{0}\\left(\\phi\\right)\\left(y\\left(x\\right), x\\right) + 2 \\, y\\left(x\\right)^{3} \\mathrm{D}_{1}\\left(\\xi\\right)\\left(y\\left(x\\right), x\\right) + 3 \\, \\phi\\left(y\\left(x\\right), x\\right) y\\left(x\\right)^{2} + 3 \\, y\\left(x\\right) \\mathrm{D}_{1}\\left(\\phi\\right)\\left(y\\left(x\\right), x\\right) + \\mathrm{D}_{1, 1}\\left(\\phi\\right)\\left(y\\left(x\\right), x\\right)$"
      ],
      "text/plain": [
       "-y(x)^3*D[0](phi)(y(x), x) + 2*y(x)^3*D[1](xi)(y(x), x) + 3*phi(y(x), x)*y(x)^2 + 3*y(x)*D[1](phi)(y(x), x) + D[1, 1](phi)(y(x), x)"
      ]
     },
     "metadata": {},
     "output_type": "display_data"
    },
    {
     "name": "stdout",
     "output_type": "stream",
     "text": [
      "Janet basis\n"
     ]
    },
    {
     "data": {
      "text/html": [
       "<html>\\(\\displaystyle \\mathrm{D}_{0, 0}\\left(\\xi\\right)\\left(y\\left(x\\right), x\\right)\\)</html>"
      ],
      "text/latex": [
       "$\\displaystyle \\mathrm{D}_{0, 0}\\left(\\xi\\right)\\left(y\\left(x\\right), x\\right)$"
      ],
      "text/plain": [
       "D[0, 0](xi)(y(x), x)"
      ]
     },
     "metadata": {},
     "output_type": "display_data"
    },
    {
     "data": {
      "text/html": [
       "<html>\\(\\displaystyle \\mathrm{D}_{1, 1}\\left(\\phi\\right)\\left(y\\left(x\\right), x\\right)\\)</html>"
      ],
      "text/latex": [
       "$\\displaystyle \\mathrm{D}_{1, 1}\\left(\\phi\\right)\\left(y\\left(x\\right), x\\right)$"
      ],
      "text/plain": [
       "D[1, 1](phi)(y(x), x)"
      ]
     },
     "metadata": {},
     "output_type": "display_data"
    },
    {
     "data": {
      "text/html": [
       "<html>\\(\\displaystyle \\mathrm{D}_{0, 1}\\left(\\phi\\right)\\left(y\\left(x\\right), x\\right) - \\frac{1}{2} \\, \\mathrm{D}_{1, 1}\\left(\\xi\\right)\\left(y\\left(x\\right), x\\right)\\)</html>"
      ],
      "text/latex": [
       "$\\displaystyle \\mathrm{D}_{0, 1}\\left(\\phi\\right)\\left(y\\left(x\\right), x\\right) - \\frac{1}{2} \\, \\mathrm{D}_{1, 1}\\left(\\xi\\right)\\left(y\\left(x\\right), x\\right)$"
      ],
      "text/plain": [
       "D[0, 1](phi)(y(x), x) - 1/2*D[1, 1](xi)(y(x), x)"
      ]
     },
     "metadata": {},
     "output_type": "display_data"
    },
    {
     "data": {
      "text/html": [
       "<html>\\(\\displaystyle \\mathrm{D}_{0, 0}\\left(\\phi\\right)\\left(y\\left(x\\right), x\\right) - 2 \\, \\mathrm{D}_{0, 1}\\left(\\xi\\right)\\left(y\\left(x\\right), x\\right)\\)</html>"
      ],
      "text/latex": [
       "$\\displaystyle \\mathrm{D}_{0, 0}\\left(\\phi\\right)\\left(y\\left(x\\right), x\\right) - 2 \\, \\mathrm{D}_{0, 1}\\left(\\xi\\right)\\left(y\\left(x\\right), x\\right)$"
      ],
      "text/plain": [
       "D[0, 0](phi)(y(x), x) - 2*D[0, 1](xi)(y(x), x)"
      ]
     },
     "metadata": {},
     "output_type": "display_data"
    },
    {
     "data": {
      "text/html": [
       "<html>\\(\\displaystyle \\mathrm{D}_{1, 1, 1}\\left(\\xi\\right)\\left(y\\left(x\\right), x\\right)\\)</html>"
      ],
      "text/latex": [
       "$\\displaystyle \\mathrm{D}_{1, 1, 1}\\left(\\xi\\right)\\left(y\\left(x\\right), x\\right)$"
      ],
      "text/plain": [
       "D[1, 1, 1](xi)(y(x), x)"
      ]
     },
     "metadata": {},
     "output_type": "display_data"
    },
    {
     "data": {
      "text/html": [
       "<html>\\(\\displaystyle \\mathrm{D}_{0, 1, 1}\\left(\\xi\\right)\\left(y\\left(x\\right), x\\right)\\)</html>"
      ],
      "text/latex": [
       "$\\displaystyle \\mathrm{D}_{0, 1, 1}\\left(\\xi\\right)\\left(y\\left(x\\right), x\\right)$"
      ],
      "text/plain": [
       "D[0, 1, 1](xi)(y(x), x)"
      ]
     },
     "metadata": {},
     "output_type": "display_data"
    },
    {
     "data": {
      "text/html": [
       "<html>\\(\\displaystyle \\mathrm{D}_{0, 0, 0}\\left(\\xi\\right)\\left(y\\left(x\\right), x\\right)\\)</html>"
      ],
      "text/latex": [
       "$\\displaystyle \\mathrm{D}_{0, 0, 0}\\left(\\xi\\right)\\left(y\\left(x\\right), x\\right)$"
      ],
      "text/plain": [
       "D[0, 0, 0](xi)(y(x), x)"
      ]
     },
     "metadata": {},
     "output_type": "display_data"
    }
   ],
   "source": [
    "##### Arrigo, Example 2.19, pp. 49\n",
    "x =  var(\"x\")\n",
    "y = function(\"y\")\n",
    "\n",
    "ode4=diff(y(x),x,x) + 3*y(x)*diff(y(x),x)+y(x)**3\n",
    "inf = infinitesimalsODE(ode4, y ,x)\n",
    "print(\"=========\")\n",
    "for _ in inf:\n",
    "    _.show()\n",
    "print(\"Janet basis\")\n",
    "jb = Janet_Basis_from_ODE(ode, y, x)\n",
    "for _ in jb:\n",
    "    _.show()"
   ]
  },
  {
   "cell_type": "code",
   "execution_count": 12,
   "id": "8f548ab8-dab5-4e27-9038-04156b819924",
   "metadata": {},
   "outputs": [
    {
     "name": "stdout",
     "output_type": "stream",
     "text": [
      "=========\n"
     ]
    },
    {
     "data": {
      "text/html": [
       "<html>\\(\\displaystyle -3 \\, \\mathrm{D}_{0}\\left(\\xi\\right)\\left(y\\left(x\\right), x\\right)\\)</html>"
      ],
      "text/latex": [
       "$\\displaystyle -3 \\, \\mathrm{D}_{0}\\left(\\xi\\right)\\left(y\\left(x\\right), x\\right)$"
      ],
      "text/plain": [
       "-3*D[0](xi)(y(x), x)"
      ]
     },
     "metadata": {},
     "output_type": "display_data"
    },
    {
     "data": {
      "text/html": [
       "<html>\\(\\displaystyle -6 \\, \\mathrm{D}_{0, 0}\\left(\\xi\\right)\\left(y\\left(x\\right), x\\right)\\)</html>"
      ],
      "text/latex": [
       "$\\displaystyle -6 \\, \\mathrm{D}_{0, 0}\\left(\\xi\\right)\\left(y\\left(x\\right), x\\right)$"
      ],
      "text/plain": [
       "-6*D[0, 0](xi)(y(x), x)"
      ]
     },
     "metadata": {},
     "output_type": "display_data"
    },
    {
     "data": {
      "text/html": [
       "<html>\\(\\displaystyle y\\left(x\\right) \\mathrm{D}_{0}\\left(\\xi\\right)\\left(y\\left(x\\right), x\\right) + 3 \\, \\mathrm{D}_{0, 0}\\left(\\phi\\right)\\left(y\\left(x\\right), x\\right) - 9 \\, \\mathrm{D}_{0, 1}\\left(\\xi\\right)\\left(y\\left(x\\right), x\\right)\\)</html>"
      ],
      "text/latex": [
       "$\\displaystyle y\\left(x\\right) \\mathrm{D}_{0}\\left(\\xi\\right)\\left(y\\left(x\\right), x\\right) + 3 \\, \\mathrm{D}_{0, 0}\\left(\\phi\\right)\\left(y\\left(x\\right), x\\right) - 9 \\, \\mathrm{D}_{0, 1}\\left(\\xi\\right)\\left(y\\left(x\\right), x\\right)$"
      ],
      "text/plain": [
       "y(x)*D[0](xi)(y(x), x) + 3*D[0, 0](phi)(y(x), x) - 9*D[0, 1](xi)(y(x), x)"
      ]
     },
     "metadata": {},
     "output_type": "display_data"
    },
    {
     "data": {
      "text/html": [
       "<html>\\(\\displaystyle y\\left(x\\right) \\mathrm{D}_{1}\\left(\\xi\\right)\\left(y\\left(x\\right), x\\right) + \\phi\\left(y\\left(x\\right), x\\right) + 3 \\, \\mathrm{D}_{0, 1}\\left(\\phi\\right)\\left(y\\left(x\\right), x\\right) - 3 \\, \\mathrm{D}_{1, 1}\\left(\\xi\\right)\\left(y\\left(x\\right), x\\right)\\)</html>"
      ],
      "text/latex": [
       "$\\displaystyle y\\left(x\\right) \\mathrm{D}_{1}\\left(\\xi\\right)\\left(y\\left(x\\right), x\\right) + \\phi\\left(y\\left(x\\right), x\\right) + 3 \\, \\mathrm{D}_{0, 1}\\left(\\phi\\right)\\left(y\\left(x\\right), x\\right) - 3 \\, \\mathrm{D}_{1, 1}\\left(\\xi\\right)\\left(y\\left(x\\right), x\\right)$"
      ],
      "text/plain": [
       "y(x)*D[1](xi)(y(x), x) + phi(y(x), x) + 3*D[0, 1](phi)(y(x), x) - 3*D[1, 1](xi)(y(x), x)"
      ]
     },
     "metadata": {},
     "output_type": "display_data"
    },
    {
     "data": {
      "text/html": [
       "<html>\\(\\displaystyle -\\mathrm{D}_{0, 0, 0}\\left(\\xi\\right)\\left(y\\left(x\\right), x\\right)\\)</html>"
      ],
      "text/latex": [
       "$\\displaystyle -\\mathrm{D}_{0, 0, 0}\\left(\\xi\\right)\\left(y\\left(x\\right), x\\right)$"
      ],
      "text/plain": [
       "-D[0, 0, 0](xi)(y(x), x)"
      ]
     },
     "metadata": {},
     "output_type": "display_data"
    },
    {
     "data": {
      "text/html": [
       "<html>\\(\\displaystyle -y\\left(x\\right) \\mathrm{D}_{0, 0}\\left(\\xi\\right)\\left(y\\left(x\\right), x\\right) + \\mathrm{D}_{0, 0, 0}\\left(\\phi\\right)\\left(y\\left(x\\right), x\\right) - 3 \\, \\mathrm{D}_{0, 0, 1}\\left(\\xi\\right)\\left(y\\left(x\\right), x\\right)\\)</html>"
      ],
      "text/latex": [
       "$\\displaystyle -y\\left(x\\right) \\mathrm{D}_{0, 0}\\left(\\xi\\right)\\left(y\\left(x\\right), x\\right) + \\mathrm{D}_{0, 0, 0}\\left(\\phi\\right)\\left(y\\left(x\\right), x\\right) - 3 \\, \\mathrm{D}_{0, 0, 1}\\left(\\xi\\right)\\left(y\\left(x\\right), x\\right)$"
      ],
      "text/plain": [
       "-y(x)*D[0, 0](xi)(y(x), x) + D[0, 0, 0](phi)(y(x), x) - 3*D[0, 0, 1](xi)(y(x), x)"
      ]
     },
     "metadata": {},
     "output_type": "display_data"
    },
    {
     "data": {
      "text/html": [
       "<html>\\(\\displaystyle y\\left(x\\right) \\mathrm{D}_{0, 0}\\left(\\phi\\right)\\left(y\\left(x\\right), x\\right) - 2 \\, y\\left(x\\right) \\mathrm{D}_{0, 1}\\left(\\xi\\right)\\left(y\\left(x\\right), x\\right) + 3 \\, \\mathrm{D}_{0, 0, 1}\\left(\\phi\\right)\\left(y\\left(x\\right), x\\right) - 3 \\, \\mathrm{D}_{0, 1, 1}\\left(\\xi\\right)\\left(y\\left(x\\right), x\\right)\\)</html>"
      ],
      "text/latex": [
       "$\\displaystyle y\\left(x\\right) \\mathrm{D}_{0, 0}\\left(\\phi\\right)\\left(y\\left(x\\right), x\\right) - 2 \\, y\\left(x\\right) \\mathrm{D}_{0, 1}\\left(\\xi\\right)\\left(y\\left(x\\right), x\\right) + 3 \\, \\mathrm{D}_{0, 0, 1}\\left(\\phi\\right)\\left(y\\left(x\\right), x\\right) - 3 \\, \\mathrm{D}_{0, 1, 1}\\left(\\xi\\right)\\left(y\\left(x\\right), x\\right)$"
      ],
      "text/plain": [
       "y(x)*D[0, 0](phi)(y(x), x) - 2*y(x)*D[0, 1](xi)(y(x), x) + 3*D[0, 0, 1](phi)(y(x), x) - 3*D[0, 1, 1](xi)(y(x), x)"
      ]
     },
     "metadata": {},
     "output_type": "display_data"
    },
    {
     "data": {
      "text/html": [
       "<html>\\(\\displaystyle 2 \\, y\\left(x\\right) \\mathrm{D}_{0, 1}\\left(\\phi\\right)\\left(y\\left(x\\right), x\\right) - y\\left(x\\right) \\mathrm{D}_{1, 1}\\left(\\xi\\right)\\left(y\\left(x\\right), x\\right) + 3 \\, \\mathrm{D}_{0, 1, 1}\\left(\\phi\\right)\\left(y\\left(x\\right), x\\right) - \\mathrm{D}_{1, 1, 1}\\left(\\xi\\right)\\left(y\\left(x\\right), x\\right)\\)</html>"
      ],
      "text/latex": [
       "$\\displaystyle 2 \\, y\\left(x\\right) \\mathrm{D}_{0, 1}\\left(\\phi\\right)\\left(y\\left(x\\right), x\\right) - y\\left(x\\right) \\mathrm{D}_{1, 1}\\left(\\xi\\right)\\left(y\\left(x\\right), x\\right) + 3 \\, \\mathrm{D}_{0, 1, 1}\\left(\\phi\\right)\\left(y\\left(x\\right), x\\right) - \\mathrm{D}_{1, 1, 1}\\left(\\xi\\right)\\left(y\\left(x\\right), x\\right)$"
      ],
      "text/plain": [
       "2*y(x)*D[0, 1](phi)(y(x), x) - y(x)*D[1, 1](xi)(y(x), x) + 3*D[0, 1, 1](phi)(y(x), x) - D[1, 1, 1](xi)(y(x), x)"
      ]
     },
     "metadata": {},
     "output_type": "display_data"
    },
    {
     "data": {
      "text/html": [
       "<html>\\(\\displaystyle y\\left(x\\right) \\mathrm{D}_{1, 1}\\left(\\phi\\right)\\left(y\\left(x\\right), x\\right) + \\mathrm{D}_{1, 1, 1}\\left(\\phi\\right)\\left(y\\left(x\\right), x\\right)\\)</html>"
      ],
      "text/latex": [
       "$\\displaystyle y\\left(x\\right) \\mathrm{D}_{1, 1}\\left(\\phi\\right)\\left(y\\left(x\\right), x\\right) + \\mathrm{D}_{1, 1, 1}\\left(\\phi\\right)\\left(y\\left(x\\right), x\\right)$"
      ],
      "text/plain": [
       "y(x)*D[1, 1](phi)(y(x), x) + D[1, 1, 1](phi)(y(x), x)"
      ]
     },
     "metadata": {},
     "output_type": "display_data"
    },
    {
     "name": "stdout",
     "output_type": "stream",
     "text": [
      "Janet basis\n"
     ]
    },
    {
     "data": {
      "text/html": [
       "<html>\\(\\displaystyle \\mathrm{D}_{0, 0}\\left(\\xi\\right)\\left(y\\left(x\\right), x\\right)\\)</html>"
      ],
      "text/latex": [
       "$\\displaystyle \\mathrm{D}_{0, 0}\\left(\\xi\\right)\\left(y\\left(x\\right), x\\right)$"
      ],
      "text/plain": [
       "D[0, 0](xi)(y(x), x)"
      ]
     },
     "metadata": {},
     "output_type": "display_data"
    },
    {
     "data": {
      "text/html": [
       "<html>\\(\\displaystyle \\mathrm{D}_{1, 1}\\left(\\phi\\right)\\left(y\\left(x\\right), x\\right)\\)</html>"
      ],
      "text/latex": [
       "$\\displaystyle \\mathrm{D}_{1, 1}\\left(\\phi\\right)\\left(y\\left(x\\right), x\\right)$"
      ],
      "text/plain": [
       "D[1, 1](phi)(y(x), x)"
      ]
     },
     "metadata": {},
     "output_type": "display_data"
    },
    {
     "data": {
      "text/html": [
       "<html>\\(\\displaystyle \\mathrm{D}_{0, 1}\\left(\\phi\\right)\\left(y\\left(x\\right), x\\right) - \\frac{1}{2} \\, \\mathrm{D}_{1, 1}\\left(\\xi\\right)\\left(y\\left(x\\right), x\\right)\\)</html>"
      ],
      "text/latex": [
       "$\\displaystyle \\mathrm{D}_{0, 1}\\left(\\phi\\right)\\left(y\\left(x\\right), x\\right) - \\frac{1}{2} \\, \\mathrm{D}_{1, 1}\\left(\\xi\\right)\\left(y\\left(x\\right), x\\right)$"
      ],
      "text/plain": [
       "D[0, 1](phi)(y(x), x) - 1/2*D[1, 1](xi)(y(x), x)"
      ]
     },
     "metadata": {},
     "output_type": "display_data"
    },
    {
     "data": {
      "text/html": [
       "<html>\\(\\displaystyle \\mathrm{D}_{0, 0}\\left(\\phi\\right)\\left(y\\left(x\\right), x\\right) - 2 \\, \\mathrm{D}_{0, 1}\\left(\\xi\\right)\\left(y\\left(x\\right), x\\right)\\)</html>"
      ],
      "text/latex": [
       "$\\displaystyle \\mathrm{D}_{0, 0}\\left(\\phi\\right)\\left(y\\left(x\\right), x\\right) - 2 \\, \\mathrm{D}_{0, 1}\\left(\\xi\\right)\\left(y\\left(x\\right), x\\right)$"
      ],
      "text/plain": [
       "D[0, 0](phi)(y(x), x) - 2*D[0, 1](xi)(y(x), x)"
      ]
     },
     "metadata": {},
     "output_type": "display_data"
    },
    {
     "data": {
      "text/html": [
       "<html>\\(\\displaystyle \\mathrm{D}_{1, 1, 1}\\left(\\xi\\right)\\left(y\\left(x\\right), x\\right)\\)</html>"
      ],
      "text/latex": [
       "$\\displaystyle \\mathrm{D}_{1, 1, 1}\\left(\\xi\\right)\\left(y\\left(x\\right), x\\right)$"
      ],
      "text/plain": [
       "D[1, 1, 1](xi)(y(x), x)"
      ]
     },
     "metadata": {},
     "output_type": "display_data"
    },
    {
     "data": {
      "text/html": [
       "<html>\\(\\displaystyle \\mathrm{D}_{0, 1, 1}\\left(\\xi\\right)\\left(y\\left(x\\right), x\\right)\\)</html>"
      ],
      "text/latex": [
       "$\\displaystyle \\mathrm{D}_{0, 1, 1}\\left(\\xi\\right)\\left(y\\left(x\\right), x\\right)$"
      ],
      "text/plain": [
       "D[0, 1, 1](xi)(y(x), x)"
      ]
     },
     "metadata": {},
     "output_type": "display_data"
    },
    {
     "data": {
      "text/html": [
       "<html>\\(\\displaystyle \\mathrm{D}_{0, 0, 0}\\left(\\xi\\right)\\left(y\\left(x\\right), x\\right)\\)</html>"
      ],
      "text/latex": [
       "$\\displaystyle \\mathrm{D}_{0, 0, 0}\\left(\\xi\\right)\\left(y\\left(x\\right), x\\right)$"
      ],
      "text/plain": [
       "D[0, 0, 0](xi)(y(x), x)"
      ]
     },
     "metadata": {},
     "output_type": "display_data"
    }
   ],
   "source": [
    "# Arrigo, Example 2.20\n",
    "ode5=diff(y(x),x,x,x) + y(x)*diff(y(x),x,x)\n",
    "inf = infinitesimalsODE(ode5, y ,x)\n",
    "print(\"=========\")\n",
    "for _ in inf:\n",
    "    _.show()\n",
    "print(\"Janet basis\")\n",
    "jb = Janet_Basis_from_ODE(ode, y, x)\n",
    "for _ in jb:\n",
    "    _.show()    "
   ]
  },
  {
   "cell_type": "code",
   "execution_count": 13,
   "id": "88aea1a9-fc63-4bdf-bea7-fad0d99be5fd",
   "metadata": {},
   "outputs": [
    {
     "data": {
      "text/html": [
       "<html>\\(\\displaystyle 4 \\, x^{6} \\frac{\\partial}{\\partial x}y\\left(x\\right)^{4} - 4 \\, {\\left(x^{2} y\\left(x\\right) - 2\\right)} x^{4} \\frac{\\partial}{\\partial x}y\\left(x\\right)^{2} \\frac{\\partial^{2}}{(\\partial x)^{2}}y\\left(x\\right) + 24 \\, x^{3} \\frac{\\partial}{\\partial x}y\\left(x\\right)^{3} + {\\left(x^{2} y\\left(x\\right) - 2\\right)}^{2} x^{2} \\frac{\\partial^{2}}{(\\partial x)^{2}}y\\left(x\\right)^{2} + 24 \\, x^{2} y\\left(x\\right) \\frac{\\partial}{\\partial x}y\\left(x\\right)^{2} + 24 \\, x y\\left(x\\right)^{2} \\frac{\\partial}{\\partial x}y\\left(x\\right) - 8 \\, {\\left(x^{2} y\\left(x\\right) - 2\\right)} x \\frac{\\partial}{\\partial x}y\\left(x\\right) \\frac{\\partial^{2}}{(\\partial x)^{2}}y\\left(x\\right) + 8 \\, y\\left(x\\right)^{3} + 16 \\, \\frac{\\partial}{\\partial x}y\\left(x\\right)^{2}\\)</html>"
      ],
      "text/latex": [
       "$\\displaystyle 4 \\, x^{6} \\frac{\\partial}{\\partial x}y\\left(x\\right)^{4} - 4 \\, {\\left(x^{2} y\\left(x\\right) - 2\\right)} x^{4} \\frac{\\partial}{\\partial x}y\\left(x\\right)^{2} \\frac{\\partial^{2}}{(\\partial x)^{2}}y\\left(x\\right) + 24 \\, x^{3} \\frac{\\partial}{\\partial x}y\\left(x\\right)^{3} + {\\left(x^{2} y\\left(x\\right) - 2\\right)}^{2} x^{2} \\frac{\\partial^{2}}{(\\partial x)^{2}}y\\left(x\\right)^{2} + 24 \\, x^{2} y\\left(x\\right) \\frac{\\partial}{\\partial x}y\\left(x\\right)^{2} + 24 \\, x y\\left(x\\right)^{2} \\frac{\\partial}{\\partial x}y\\left(x\\right) - 8 \\, {\\left(x^{2} y\\left(x\\right) - 2\\right)} x \\frac{\\partial}{\\partial x}y\\left(x\\right) \\frac{\\partial^{2}}{(\\partial x)^{2}}y\\left(x\\right) + 8 \\, y\\left(x\\right)^{3} + 16 \\, \\frac{\\partial}{\\partial x}y\\left(x\\right)^{2}$"
      ],
      "text/plain": [
       "4*x^6*diff(y(x), x)^4 - 4*(x^2*y(x) - 2)*x^4*diff(y(x), x)^2*diff(y(x), x, x) + 24*x^3*diff(y(x), x)^3 + (x^2*y(x) - 2)^2*x^2*diff(y(x), x, x)^2 + 24*x^2*y(x)*diff(y(x), x)^2 + 24*x*y(x)^2*diff(y(x), x) - 8*(x^2*y(x) - 2)*x*diff(y(x), x)*diff(y(x), x, x) + 8*y(x)^3 + 16*diff(y(x), x)^2"
      ]
     },
     "metadata": {},
     "output_type": "display_data"
    },
    {
     "name": "stdout",
     "output_type": "stream",
     "text": [
      ".........................\n"
     ]
    },
    {
     "data": {
      "text/html": [
       "<html>\\(\\displaystyle 4 \\, x^{6} y\\left(x\\right) \\mathrm{D}_{0, 0}\\left(\\xi\\right)\\left(y\\left(x\\right), x\\right) - 16 \\, x^{6} \\mathrm{D}_{0}\\left(\\xi\\right)\\left(y\\left(x\\right), x\\right) - 8 \\, x^{4} \\mathrm{D}_{0, 0}\\left(\\xi\\right)\\left(y\\left(x\\right), x\\right)\\)</html>"
      ],
      "text/latex": [
       "$\\displaystyle 4 \\, x^{6} y\\left(x\\right) \\mathrm{D}_{0, 0}\\left(\\xi\\right)\\left(y\\left(x\\right), x\\right) - 16 \\, x^{6} \\mathrm{D}_{0}\\left(\\xi\\right)\\left(y\\left(x\\right), x\\right) - 8 \\, x^{4} \\mathrm{D}_{0, 0}\\left(\\xi\\right)\\left(y\\left(x\\right), x\\right)$"
      ],
      "text/plain": [
       "4*x^6*y(x)*D[0, 0](xi)(y(x), x) - 16*x^6*D[0](xi)(y(x), x) - 8*x^4*D[0, 0](xi)(y(x), x)"
      ]
     },
     "metadata": {},
     "output_type": "display_data"
    },
    {
     "data": {
      "text/html": [
       "<html>\\(\\displaystyle \\frac{8 \\, x^{12} y\\left(x\\right)^{2} \\mathrm{D}_{0}\\left(\\phi\\right)\\left(y\\left(x\\right), x\\right)}{x^{6} y\\left(x\\right)^{2} - 4 \\, x^{4} y\\left(x\\right) + 4 \\, x^{2}} - \\frac{16 \\, x^{12} y\\left(x\\right)^{2} \\mathrm{D}_{1}\\left(\\xi\\right)\\left(y\\left(x\\right), x\\right)}{x^{6} y\\left(x\\right)^{2} - 4 \\, x^{4} y\\left(x\\right) + 4 \\, x^{2}} + \\frac{8 \\, x^{12} \\phi\\left(y\\left(x\\right), x\\right) y\\left(x\\right)}{x^{6} y\\left(x\\right)^{2} - 4 \\, x^{4} y\\left(x\\right) + 4 \\, x^{2}} + \\frac{24 \\, x^{11} \\xi\\left(y\\left(x\\right), x\\right) y\\left(x\\right)^{2}}{x^{6} y\\left(x\\right)^{2} - 4 \\, x^{4} y\\left(x\\right) + 4 \\, x^{2}} + \\frac{48 \\, \\sqrt{-2 \\, x \\frac{\\partial}{\\partial x}y\\left(x\\right) - 2 \\, y\\left(x\\right)} x^{10} y\\left(x\\right)^{2} \\mathrm{D}_{0}\\left(\\xi\\right)\\left(y\\left(x\\right), x\\right)}{x^{6} y\\left(x\\right)^{2} - 4 \\, x^{4} y\\left(x\\right) + 4 \\, x^{2}} - \\frac{32 \\, x^{10} y\\left(x\\right) \\mathrm{D}_{0}\\left(\\phi\\right)\\left(y\\left(x\\right), x\\right)}{x^{6} y\\left(x\\right)^{2} - 4 \\, x^{4} y\\left(x\\right) + 4 \\, x^{2}} + \\frac{4 \\, x^{9} y\\left(x\\right)^{2} \\mathrm{D}_{0, 0}\\left(\\phi\\right)\\left(y\\left(x\\right), x\\right)}{x^{3} y\\left(x\\right) - 2 \\, x} - \\frac{48 \\, x^{9} y\\left(x\\right)^{2} \\mathrm{D}_{0}\\left(\\xi\\right)\\left(y\\left(x\\right), x\\right)}{x^{6} y\\left(x\\right)^{2} - 4 \\, x^{4} y\\left(x\\right) + 4 \\, x^{2}} - \\frac{8 \\, x^{9} y\\left(x\\right)^{2} \\mathrm{D}_{0, 1}\\left(\\xi\\right)\\left(y\\left(x\\right), x\\right)}{x^{3} y\\left(x\\right) - 2 \\, x} + \\frac{64 \\, x^{10} y\\left(x\\right) \\mathrm{D}_{1}\\left(\\xi\\right)\\left(y\\left(x\\right), x\\right)}{x^{6} y\\left(x\\right)^{2} - 4 \\, x^{4} y\\left(x\\right) + 4 \\, x^{2}} - \\frac{16 \\, x^{10} \\phi\\left(y\\left(x\\right), x\\right)}{x^{6} y\\left(x\\right)^{2} - 4 \\, x^{4} y\\left(x\\right) + 4 \\, x^{2}} - \\frac{64 \\, x^{9} \\xi\\left(y\\left(x\\right), x\\right) y\\left(x\\right)}{x^{6} y\\left(x\\right)^{2} - 4 \\, x^{4} y\\left(x\\right) + 4 \\, x^{2}} - \\frac{24 \\, x^{9} y\\left(x\\right) \\mathrm{D}_{0}\\left(\\phi\\right)\\left(y\\left(x\\right), x\\right)}{x^{3} y\\left(x\\right) - 2 \\, x} + \\frac{32 \\, x^{9} y\\left(x\\right) \\mathrm{D}_{1}\\left(\\xi\\right)\\left(y\\left(x\\right), x\\right)}{x^{3} y\\left(x\\right) - 2 \\, x} - \\frac{192 \\, \\sqrt{-2 \\, x \\frac{\\partial}{\\partial x}y\\left(x\\right) - 2 \\, y\\left(x\\right)} x^{8} y\\left(x\\right) \\mathrm{D}_{0}\\left(\\xi\\right)\\left(y\\left(x\\right), x\\right)}{x^{6} y\\left(x\\right)^{2} - 4 \\, x^{4} y\\left(x\\right) + 4 \\, x^{2}} + \\frac{4 \\, \\sqrt{-2 \\, x \\frac{\\partial}{\\partial x}y\\left(x\\right) - 2 \\, y\\left(x\\right)} x^{7} y\\left(x\\right)^{2} \\mathrm{D}_{0, 0}\\left(\\xi\\right)\\left(y\\left(x\\right), x\\right)}{x^{3} y\\left(x\\right) - 2 \\, x} - \\frac{8 \\, x^{9} \\phi\\left(y\\left(x\\right), x\\right)}{x^{3} y\\left(x\\right) - 2 \\, x} - \\frac{48 \\, x^{8} \\xi\\left(y\\left(x\\right), x\\right) y\\left(x\\right)}{x^{3} y\\left(x\\right) - 2 \\, x} - \\frac{40 \\, \\sqrt{-2 \\, x \\frac{\\partial}{\\partial x}y\\left(x\\right) - 2 \\, y\\left(x\\right)} x^{7} y\\left(x\\right) \\mathrm{D}_{0}\\left(\\xi\\right)\\left(y\\left(x\\right), x\\right)}{x^{3} y\\left(x\\right) - 2 \\, x} + \\frac{32 \\, x^{8} \\mathrm{D}_{0}\\left(\\phi\\right)\\left(y\\left(x\\right), x\\right)}{x^{6} y\\left(x\\right)^{2} - 4 \\, x^{4} y\\left(x\\right) + 4 \\, x^{2}} - 4 \\, x^{6} y\\left(x\\right) \\mathrm{D}_{0, 0}\\left(\\phi\\right)\\left(y\\left(x\\right), x\\right) - \\frac{16 \\, x^{7} y\\left(x\\right) \\mathrm{D}_{0, 0}\\left(\\phi\\right)\\left(y\\left(x\\right), x\\right)}{x^{3} y\\left(x\\right) - 2 \\, x} + \\frac{192 \\, x^{7} y\\left(x\\right) \\mathrm{D}_{0}\\left(\\xi\\right)\\left(y\\left(x\\right), x\\right)}{x^{6} y\\left(x\\right)^{2} - 4 \\, x^{4} y\\left(x\\right) + 4 \\, x^{2}} - \\frac{8 \\, x^{6} y\\left(x\\right)^{2} \\mathrm{D}_{0, 0}\\left(\\xi\\right)\\left(y\\left(x\\right), x\\right)}{x^{3} y\\left(x\\right) - 2 \\, x} + 8 \\, x^{6} y\\left(x\\right) \\mathrm{D}_{0, 1}\\left(\\xi\\right)\\left(y\\left(x\\right), x\\right) + \\frac{32 \\, x^{7} y\\left(x\\right) \\mathrm{D}_{0, 1}\\left(\\xi\\right)\\left(y\\left(x\\right), x\\right)}{x^{3} y\\left(x\\right) - 2 \\, x} - \\frac{64 \\, x^{8} \\mathrm{D}_{1}\\left(\\xi\\right)\\left(y\\left(x\\right), x\\right)}{x^{6} y\\left(x\\right)^{2} - 4 \\, x^{4} y\\left(x\\right) + 4 \\, x^{2}} + \\frac{32 \\, x^{7} \\xi\\left(y\\left(x\\right), x\\right)}{x^{6} y\\left(x\\right)^{2} - 4 \\, x^{4} y\\left(x\\right) + 4 \\, x^{2}} + 16 \\, x^{6} \\mathrm{D}_{0}\\left(\\phi\\right)\\left(y\\left(x\\right), x\\right) + \\frac{48 \\, x^{7} \\mathrm{D}_{0}\\left(\\phi\\right)\\left(y\\left(x\\right), x\\right)}{x^{3} y\\left(x\\right) - 2 \\, x} + \\frac{144 \\, x^{6} y\\left(x\\right) \\mathrm{D}_{0}\\left(\\xi\\right)\\left(y\\left(x\\right), x\\right)}{x^{3} y\\left(x\\right) - 2 \\, x} - 16 \\, x^{6} \\mathrm{D}_{1}\\left(\\xi\\right)\\left(y\\left(x\\right), x\\right) - \\frac{64 \\, x^{7} \\mathrm{D}_{1}\\left(\\xi\\right)\\left(y\\left(x\\right), x\\right)}{x^{3} y\\left(x\\right) - 2 \\, x} + \\frac{192 \\, \\sqrt{-2 \\, x \\frac{\\partial}{\\partial x}y\\left(x\\right) - 2 \\, y\\left(x\\right)} x^{6} \\mathrm{D}_{0}\\left(\\xi\\right)\\left(y\\left(x\\right), x\\right)}{x^{6} y\\left(x\\right)^{2} - 4 \\, x^{4} y\\left(x\\right) + 4 \\, x^{2}} - \\frac{16 \\, \\sqrt{-2 \\, x \\frac{\\partial}{\\partial x}y\\left(x\\right) - 2 \\, y\\left(x\\right)} x^{5} y\\left(x\\right) \\mathrm{D}_{0, 0}\\left(\\xi\\right)\\left(y\\left(x\\right), x\\right)}{x^{3} y\\left(x\\right) - 2 \\, x} + 24 \\, x^{5} \\xi\\left(y\\left(x\\right), x\\right) + \\frac{64 \\, x^{6} \\xi\\left(y\\left(x\\right), x\\right)}{x^{3} y\\left(x\\right) - 2 \\, x} + \\frac{80 \\, \\sqrt{-2 \\, x \\frac{\\partial}{\\partial x}y\\left(x\\right) - 2 \\, y\\left(x\\right)} x^{5} \\mathrm{D}_{0}\\left(\\xi\\right)\\left(y\\left(x\\right), x\\right)}{x^{3} y\\left(x\\right) - 2 \\, x} + 8 \\, x^{4} \\mathrm{D}_{0, 0}\\left(\\phi\\right)\\left(y\\left(x\\right), x\\right) + \\frac{16 \\, x^{5} \\mathrm{D}_{0, 0}\\left(\\phi\\right)\\left(y\\left(x\\right), x\\right)}{x^{3} y\\left(x\\right) - 2 \\, x} - \\frac{192 \\, x^{5} \\mathrm{D}_{0}\\left(\\xi\\right)\\left(y\\left(x\\right), x\\right)}{x^{6} y\\left(x\\right)^{2} - 4 \\, x^{4} y\\left(x\\right) + 4 \\, x^{2}} + 8 \\, x^{3} y\\left(x\\right) \\mathrm{D}_{0, 0}\\left(\\xi\\right)\\left(y\\left(x\\right), x\\right) + \\frac{32 \\, x^{4} y\\left(x\\right) \\mathrm{D}_{0, 0}\\left(\\xi\\right)\\left(y\\left(x\\right), x\\right)}{x^{3} y\\left(x\\right) - 2 \\, x} - 16 \\, x^{4} \\mathrm{D}_{0, 1}\\left(\\xi\\right)\\left(y\\left(x\\right), x\\right) - \\frac{32 \\, x^{5} \\mathrm{D}_{0, 1}\\left(\\xi\\right)\\left(y\\left(x\\right), x\\right)}{x^{3} y\\left(x\\right) - 2 \\, x} - 72 \\, x^{3} \\mathrm{D}_{0}\\left(\\xi\\right)\\left(y\\left(x\\right), x\\right) - \\frac{288 \\, x^{4} \\mathrm{D}_{0}\\left(\\xi\\right)\\left(y\\left(x\\right), x\\right)}{x^{3} y\\left(x\\right) - 2 \\, x} + \\frac{16 \\, \\sqrt{-2 \\, x \\frac{\\partial}{\\partial x}y\\left(x\\right) - 2 \\, y\\left(x\\right)} x^{3} \\mathrm{D}_{0, 0}\\left(\\xi\\right)\\left(y\\left(x\\right), x\\right)}{x^{3} y\\left(x\\right) - 2 \\, x} - 16 \\, x \\mathrm{D}_{0, 0}\\left(\\xi\\right)\\left(y\\left(x\\right), x\\right) - \\frac{32 \\, x^{2} \\mathrm{D}_{0, 0}\\left(\\xi\\right)\\left(y\\left(x\\right), x\\right)}{x^{3} y\\left(x\\right) - 2 \\, x}\\)</html>"
      ],
      "text/latex": [
       "$\\displaystyle \\frac{8 \\, x^{12} y\\left(x\\right)^{2} \\mathrm{D}_{0}\\left(\\phi\\right)\\left(y\\left(x\\right), x\\right)}{x^{6} y\\left(x\\right)^{2} - 4 \\, x^{4} y\\left(x\\right) + 4 \\, x^{2}} - \\frac{16 \\, x^{12} y\\left(x\\right)^{2} \\mathrm{D}_{1}\\left(\\xi\\right)\\left(y\\left(x\\right), x\\right)}{x^{6} y\\left(x\\right)^{2} - 4 \\, x^{4} y\\left(x\\right) + 4 \\, x^{2}} + \\frac{8 \\, x^{12} \\phi\\left(y\\left(x\\right), x\\right) y\\left(x\\right)}{x^{6} y\\left(x\\right)^{2} - 4 \\, x^{4} y\\left(x\\right) + 4 \\, x^{2}} + \\frac{24 \\, x^{11} \\xi\\left(y\\left(x\\right), x\\right) y\\left(x\\right)^{2}}{x^{6} y\\left(x\\right)^{2} - 4 \\, x^{4} y\\left(x\\right) + 4 \\, x^{2}} + \\frac{48 \\, \\sqrt{-2 \\, x \\frac{\\partial}{\\partial x}y\\left(x\\right) - 2 \\, y\\left(x\\right)} x^{10} y\\left(x\\right)^{2} \\mathrm{D}_{0}\\left(\\xi\\right)\\left(y\\left(x\\right), x\\right)}{x^{6} y\\left(x\\right)^{2} - 4 \\, x^{4} y\\left(x\\right) + 4 \\, x^{2}} - \\frac{32 \\, x^{10} y\\left(x\\right) \\mathrm{D}_{0}\\left(\\phi\\right)\\left(y\\left(x\\right), x\\right)}{x^{6} y\\left(x\\right)^{2} - 4 \\, x^{4} y\\left(x\\right) + 4 \\, x^{2}} + \\frac{4 \\, x^{9} y\\left(x\\right)^{2} \\mathrm{D}_{0, 0}\\left(\\phi\\right)\\left(y\\left(x\\right), x\\right)}{x^{3} y\\left(x\\right) - 2 \\, x} - \\frac{48 \\, x^{9} y\\left(x\\right)^{2} \\mathrm{D}_{0}\\left(\\xi\\right)\\left(y\\left(x\\right), x\\right)}{x^{6} y\\left(x\\right)^{2} - 4 \\, x^{4} y\\left(x\\right) + 4 \\, x^{2}} - \\frac{8 \\, x^{9} y\\left(x\\right)^{2} \\mathrm{D}_{0, 1}\\left(\\xi\\right)\\left(y\\left(x\\right), x\\right)}{x^{3} y\\left(x\\right) - 2 \\, x} + \\frac{64 \\, x^{10} y\\left(x\\right) \\mathrm{D}_{1}\\left(\\xi\\right)\\left(y\\left(x\\right), x\\right)}{x^{6} y\\left(x\\right)^{2} - 4 \\, x^{4} y\\left(x\\right) + 4 \\, x^{2}} - \\frac{16 \\, x^{10} \\phi\\left(y\\left(x\\right), x\\right)}{x^{6} y\\left(x\\right)^{2} - 4 \\, x^{4} y\\left(x\\right) + 4 \\, x^{2}} - \\frac{64 \\, x^{9} \\xi\\left(y\\left(x\\right), x\\right) y\\left(x\\right)}{x^{6} y\\left(x\\right)^{2} - 4 \\, x^{4} y\\left(x\\right) + 4 \\, x^{2}} - \\frac{24 \\, x^{9} y\\left(x\\right) \\mathrm{D}_{0}\\left(\\phi\\right)\\left(y\\left(x\\right), x\\right)}{x^{3} y\\left(x\\right) - 2 \\, x} + \\frac{32 \\, x^{9} y\\left(x\\right) \\mathrm{D}_{1}\\left(\\xi\\right)\\left(y\\left(x\\right), x\\right)}{x^{3} y\\left(x\\right) - 2 \\, x} - \\frac{192 \\, \\sqrt{-2 \\, x \\frac{\\partial}{\\partial x}y\\left(x\\right) - 2 \\, y\\left(x\\right)} x^{8} y\\left(x\\right) \\mathrm{D}_{0}\\left(\\xi\\right)\\left(y\\left(x\\right), x\\right)}{x^{6} y\\left(x\\right)^{2} - 4 \\, x^{4} y\\left(x\\right) + 4 \\, x^{2}} + \\frac{4 \\, \\sqrt{-2 \\, x \\frac{\\partial}{\\partial x}y\\left(x\\right) - 2 \\, y\\left(x\\right)} x^{7} y\\left(x\\right)^{2} \\mathrm{D}_{0, 0}\\left(\\xi\\right)\\left(y\\left(x\\right), x\\right)}{x^{3} y\\left(x\\right) - 2 \\, x} - \\frac{8 \\, x^{9} \\phi\\left(y\\left(x\\right), x\\right)}{x^{3} y\\left(x\\right) - 2 \\, x} - \\frac{48 \\, x^{8} \\xi\\left(y\\left(x\\right), x\\right) y\\left(x\\right)}{x^{3} y\\left(x\\right) - 2 \\, x} - \\frac{40 \\, \\sqrt{-2 \\, x \\frac{\\partial}{\\partial x}y\\left(x\\right) - 2 \\, y\\left(x\\right)} x^{7} y\\left(x\\right) \\mathrm{D}_{0}\\left(\\xi\\right)\\left(y\\left(x\\right), x\\right)}{x^{3} y\\left(x\\right) - 2 \\, x} + \\frac{32 \\, x^{8} \\mathrm{D}_{0}\\left(\\phi\\right)\\left(y\\left(x\\right), x\\right)}{x^{6} y\\left(x\\right)^{2} - 4 \\, x^{4} y\\left(x\\right) + 4 \\, x^{2}} - 4 \\, x^{6} y\\left(x\\right) \\mathrm{D}_{0, 0}\\left(\\phi\\right)\\left(y\\left(x\\right), x\\right) - \\frac{16 \\, x^{7} y\\left(x\\right) \\mathrm{D}_{0, 0}\\left(\\phi\\right)\\left(y\\left(x\\right), x\\right)}{x^{3} y\\left(x\\right) - 2 \\, x} + \\frac{192 \\, x^{7} y\\left(x\\right) \\mathrm{D}_{0}\\left(\\xi\\right)\\left(y\\left(x\\right), x\\right)}{x^{6} y\\left(x\\right)^{2} - 4 \\, x^{4} y\\left(x\\right) + 4 \\, x^{2}} - \\frac{8 \\, x^{6} y\\left(x\\right)^{2} \\mathrm{D}_{0, 0}\\left(\\xi\\right)\\left(y\\left(x\\right), x\\right)}{x^{3} y\\left(x\\right) - 2 \\, x} + 8 \\, x^{6} y\\left(x\\right) \\mathrm{D}_{0, 1}\\left(\\xi\\right)\\left(y\\left(x\\right), x\\right) + \\frac{32 \\, x^{7} y\\left(x\\right) \\mathrm{D}_{0, 1}\\left(\\xi\\right)\\left(y\\left(x\\right), x\\right)}{x^{3} y\\left(x\\right) - 2 \\, x} - \\frac{64 \\, x^{8} \\mathrm{D}_{1}\\left(\\xi\\right)\\left(y\\left(x\\right), x\\right)}{x^{6} y\\left(x\\right)^{2} - 4 \\, x^{4} y\\left(x\\right) + 4 \\, x^{2}} + \\frac{32 \\, x^{7} \\xi\\left(y\\left(x\\right), x\\right)}{x^{6} y\\left(x\\right)^{2} - 4 \\, x^{4} y\\left(x\\right) + 4 \\, x^{2}} + 16 \\, x^{6} \\mathrm{D}_{0}\\left(\\phi\\right)\\left(y\\left(x\\right), x\\right) + \\frac{48 \\, x^{7} \\mathrm{D}_{0}\\left(\\phi\\right)\\left(y\\left(x\\right), x\\right)}{x^{3} y\\left(x\\right) - 2 \\, x} + \\frac{144 \\, x^{6} y\\left(x\\right) \\mathrm{D}_{0}\\left(\\xi\\right)\\left(y\\left(x\\right), x\\right)}{x^{3} y\\left(x\\right) - 2 \\, x} - 16 \\, x^{6} \\mathrm{D}_{1}\\left(\\xi\\right)\\left(y\\left(x\\right), x\\right) - \\frac{64 \\, x^{7} \\mathrm{D}_{1}\\left(\\xi\\right)\\left(y\\left(x\\right), x\\right)}{x^{3} y\\left(x\\right) - 2 \\, x} + \\frac{192 \\, \\sqrt{-2 \\, x \\frac{\\partial}{\\partial x}y\\left(x\\right) - 2 \\, y\\left(x\\right)} x^{6} \\mathrm{D}_{0}\\left(\\xi\\right)\\left(y\\left(x\\right), x\\right)}{x^{6} y\\left(x\\right)^{2} - 4 \\, x^{4} y\\left(x\\right) + 4 \\, x^{2}} - \\frac{16 \\, \\sqrt{-2 \\, x \\frac{\\partial}{\\partial x}y\\left(x\\right) - 2 \\, y\\left(x\\right)} x^{5} y\\left(x\\right) \\mathrm{D}_{0, 0}\\left(\\xi\\right)\\left(y\\left(x\\right), x\\right)}{x^{3} y\\left(x\\right) - 2 \\, x} + 24 \\, x^{5} \\xi\\left(y\\left(x\\right), x\\right) + \\frac{64 \\, x^{6} \\xi\\left(y\\left(x\\right), x\\right)}{x^{3} y\\left(x\\right) - 2 \\, x} + \\frac{80 \\, \\sqrt{-2 \\, x \\frac{\\partial}{\\partial x}y\\left(x\\right) - 2 \\, y\\left(x\\right)} x^{5} \\mathrm{D}_{0}\\left(\\xi\\right)\\left(y\\left(x\\right), x\\right)}{x^{3} y\\left(x\\right) - 2 \\, x} + 8 \\, x^{4} \\mathrm{D}_{0, 0}\\left(\\phi\\right)\\left(y\\left(x\\right), x\\right) + \\frac{16 \\, x^{5} \\mathrm{D}_{0, 0}\\left(\\phi\\right)\\left(y\\left(x\\right), x\\right)}{x^{3} y\\left(x\\right) - 2 \\, x} - \\frac{192 \\, x^{5} \\mathrm{D}_{0}\\left(\\xi\\right)\\left(y\\left(x\\right), x\\right)}{x^{6} y\\left(x\\right)^{2} - 4 \\, x^{4} y\\left(x\\right) + 4 \\, x^{2}} + 8 \\, x^{3} y\\left(x\\right) \\mathrm{D}_{0, 0}\\left(\\xi\\right)\\left(y\\left(x\\right), x\\right) + \\frac{32 \\, x^{4} y\\left(x\\right) \\mathrm{D}_{0, 0}\\left(\\xi\\right)\\left(y\\left(x\\right), x\\right)}{x^{3} y\\left(x\\right) - 2 \\, x} - 16 \\, x^{4} \\mathrm{D}_{0, 1}\\left(\\xi\\right)\\left(y\\left(x\\right), x\\right) - \\frac{32 \\, x^{5} \\mathrm{D}_{0, 1}\\left(\\xi\\right)\\left(y\\left(x\\right), x\\right)}{x^{3} y\\left(x\\right) - 2 \\, x} - 72 \\, x^{3} \\mathrm{D}_{0}\\left(\\xi\\right)\\left(y\\left(x\\right), x\\right) - \\frac{288 \\, x^{4} \\mathrm{D}_{0}\\left(\\xi\\right)\\left(y\\left(x\\right), x\\right)}{x^{3} y\\left(x\\right) - 2 \\, x} + \\frac{16 \\, \\sqrt{-2 \\, x \\frac{\\partial}{\\partial x}y\\left(x\\right) - 2 \\, y\\left(x\\right)} x^{3} \\mathrm{D}_{0, 0}\\left(\\xi\\right)\\left(y\\left(x\\right), x\\right)}{x^{3} y\\left(x\\right) - 2 \\, x} - 16 \\, x \\mathrm{D}_{0, 0}\\left(\\xi\\right)\\left(y\\left(x\\right), x\\right) - \\frac{32 \\, x^{2} \\mathrm{D}_{0, 0}\\left(\\xi\\right)\\left(y\\left(x\\right), x\\right)}{x^{3} y\\left(x\\right) - 2 \\, x}$"
      ],
      "text/plain": [
       "8*x^12*y(x)^2*D[0](phi)(y(x), x)/(x^6*y(x)^2 - 4*x^4*y(x) + 4*x^2) - 16*x^12*y(x)^2*D[1](xi)(y(x), x)/(x^6*y(x)^2 - 4*x^4*y(x) + 4*x^2) + 8*x^12*phi(y(x), x)*y(x)/(x^6*y(x)^2 - 4*x^4*y(x) + 4*x^2) + 24*x^11*xi(y(x), x)*y(x)^2/(x^6*y(x)^2 - 4*x^4*y(x) + 4*x^2) + 48*sqrt(-2*x*diff(y(x), x) - 2*y(x))*x^10*y(x)^2*D[0](xi)(y(x), x)/(x^6*y(x)^2 - 4*x^4*y(x) + 4*x^2) - 32*x^10*y(x)*D[0](phi)(y(x), x)/(x^6*y(x)^2 - 4*x^4*y(x) + 4*x^2) + 4*x^9*y(x)^2*D[0, 0](phi)(y(x), x)/(x^3*y(x) - 2*x) - 48*x^9*y(x)^2*D[0](xi)(y(x), x)/(x^6*y(x)^2 - 4*x^4*y(x) + 4*x^2) - 8*x^9*y(x)^2*D[0, 1](xi)(y(x), x)/(x^3*y(x) - 2*x) + 64*x^10*y(x)*D[1](xi)(y(x), x)/(x^6*y(x)^2 - 4*x^4*y(x) + 4*x^2) - 16*x^10*phi(y(x), x)/(x^6*y(x)^2 - 4*x^4*y(x) + 4*x^2) - 64*x^9*xi(y(x), x)*y(x)/(x^6*y(x)^2 - 4*x^4*y(x) + 4*x^2) - 24*x^9*y(x)*D[0](phi)(y(x), x)/(x^3*y(x) - 2*x) + 32*x^9*y(x)*D[1](xi)(y(x), x)/(x^3*y(x) - 2*x) - 192*sqrt(-2*x*diff(y(x), x) - 2*y(x))*x^8*y(x)*D[0](xi)(y(x), x)/(x^6*y(x)^2 - 4*x^4*y(x) + 4*x^2) + 4*sqrt(-2*x*diff(y(x), x) - 2*y(x))*x^7*y(x)^2*D[0, 0](xi)(y(x), x)/(x^3*y(x) - 2*x) - 8*x^9*phi(y(x), x)/(x^3*y(x) - 2*x) - 48*x^8*xi(y(x), x)*y(x)/(x^3*y(x) - 2*x) - 40*sqrt(-2*x*diff(y(x), x) - 2*y(x))*x^7*y(x)*D[0](xi)(y(x), x)/(x^3*y(x) - 2*x) + 32*x^8*D[0](phi)(y(x), x)/(x^6*y(x)^2 - 4*x^4*y(x) + 4*x^2) - 4*x^6*y(x)*D[0, 0](phi)(y(x), x) - 16*x^7*y(x)*D[0, 0](phi)(y(x), x)/(x^3*y(x) - 2*x) + 192*x^7*y(x)*D[0](xi)(y(x), x)/(x^6*y(x)^2 - 4*x^4*y(x) + 4*x^2) - 8*x^6*y(x)^2*D[0, 0](xi)(y(x), x)/(x^3*y(x) - 2*x) + 8*x^6*y(x)*D[0, 1](xi)(y(x), x) + 32*x^7*y(x)*D[0, 1](xi)(y(x), x)/(x^3*y(x) - 2*x) - 64*x^8*D[1](xi)(y(x), x)/(x^6*y(x)^2 - 4*x^4*y(x) + 4*x^2) + 32*x^7*xi(y(x), x)/(x^6*y(x)^2 - 4*x^4*y(x) + 4*x^2) + 16*x^6*D[0](phi)(y(x), x) + 48*x^7*D[0](phi)(y(x), x)/(x^3*y(x) - 2*x) + 144*x^6*y(x)*D[0](xi)(y(x), x)/(x^3*y(x) - 2*x) - 16*x^6*D[1](xi)(y(x), x) - 64*x^7*D[1](xi)(y(x), x)/(x^3*y(x) - 2*x) + 192*sqrt(-2*x*diff(y(x), x) - 2*y(x))*x^6*D[0](xi)(y(x), x)/(x^6*y(x)^2 - 4*x^4*y(x) + 4*x^2) - 16*sqrt(-2*x*diff(y(x), x) - 2*y(x))*x^5*y(x)*D[0, 0](xi)(y(x), x)/(x^3*y(x) - 2*x) + 24*x^5*xi(y(x), x) + 64*x^6*xi(y(x), x)/(x^3*y(x) - 2*x) + 80*sqrt(-2*x*diff(y(x), x) - 2*y(x))*x^5*D[0](xi)(y(x), x)/(x^3*y(x) - 2*x) + 8*x^4*D[0, 0](phi)(y(x), x) + 16*x^5*D[0, 0](phi)(y(x), x)/(x^3*y(x) - 2*x) - 192*x^5*D[0](xi)(y(x), x)/(x^6*y(x)^2 - 4*x^4*y(x) + 4*x^2) + 8*x^3*y(x)*D[0, 0](xi)(y(x), x) + 32*x^4*y(x)*D[0, 0](xi)(y(x), x)/(x^3*y(x) - 2*x) - 16*x^4*D[0, 1](xi)(y(x), x) - 32*x^5*D[0, 1](xi)(y(x), x)/(x^3*y(x) - 2*x) - 72*x^3*D[0](xi)(y(x), x) - 288*x^4*D[0](xi)(y(x), x)/(x^3*y(x) - 2*x) + 16*sqrt(-2*x*diff(y(x), x) - 2*y(x))*x^3*D[0, 0](xi)(y(x), x)/(x^3*y(x) - 2*x) - 16*x*D[0, 0](xi)(y(x), x) - 32*x^2*D[0, 0](xi)(y(x), x)/(x^3*y(x) - 2*x)"
      ]
     },
     "metadata": {},
     "output_type": "display_data"
    },
    {
     "data": {
      "text/html": [
       "<html>\\(\\displaystyle -\\frac{16 \\, \\sqrt{-2 \\, x \\frac{\\partial}{\\partial x}y\\left(x\\right) - 2 \\, y\\left(x\\right)} x^{10} y\\left(x\\right)^{2} \\mathrm{D}_{0}\\left(\\phi\\right)\\left(y\\left(x\\right), x\\right)}{x^{6} y\\left(x\\right)^{2} - 4 \\, x^{4} y\\left(x\\right) + 4 \\, x^{2}} + \\frac{48 \\, \\sqrt{-2 \\, x \\frac{\\partial}{\\partial x}y\\left(x\\right) - 2 \\, y\\left(x\\right)} x^{9} y\\left(x\\right)^{3} \\mathrm{D}_{0}\\left(\\xi\\right)\\left(y\\left(x\\right), x\\right)}{x^{6} y\\left(x\\right)^{2} - 4 \\, x^{4} y\\left(x\\right) + 4 \\, x^{2}} + \\frac{32 \\, \\sqrt{-2 \\, x \\frac{\\partial}{\\partial x}y\\left(x\\right) - 2 \\, y\\left(x\\right)} x^{10} y\\left(x\\right)^{2} \\mathrm{D}_{1}\\left(\\xi\\right)\\left(y\\left(x\\right), x\\right)}{x^{6} y\\left(x\\right)^{2} - 4 \\, x^{4} y\\left(x\\right) + 4 \\, x^{2}} - \\frac{16 \\, \\sqrt{-2 \\, x \\frac{\\partial}{\\partial x}y\\left(x\\right) - 2 \\, y\\left(x\\right)} x^{10} \\phi\\left(y\\left(x\\right), x\\right) y\\left(x\\right)}{x^{6} y\\left(x\\right)^{2} - 4 \\, x^{4} y\\left(x\\right) + 4 \\, x^{2}} - \\frac{48 \\, \\sqrt{-2 \\, x \\frac{\\partial}{\\partial x}y\\left(x\\right) - 2 \\, y\\left(x\\right)} x^{9} \\xi\\left(y\\left(x\\right), x\\right) y\\left(x\\right)^{2}}{x^{6} y\\left(x\\right)^{2} - 4 \\, x^{4} y\\left(x\\right) + 4 \\, x^{2}} + \\frac{16 \\, x^{9} y\\left(x\\right)^{2} \\mathrm{D}_{0}\\left(\\phi\\right)\\left(y\\left(x\\right), x\\right)}{x^{6} y\\left(x\\right)^{2} - 4 \\, x^{4} y\\left(x\\right) + 4 \\, x^{2}} + \\frac{8 \\, x^{9} y\\left(x\\right)^{2} \\mathrm{D}_{0, 1}\\left(\\phi\\right)\\left(y\\left(x\\right), x\\right)}{x^{3} y\\left(x\\right) - 2 \\, x} + \\frac{144 \\, x^{8} y\\left(x\\right)^{3} \\mathrm{D}_{0}\\left(\\xi\\right)\\left(y\\left(x\\right), x\\right)}{x^{6} y\\left(x\\right)^{2} - 4 \\, x^{4} y\\left(x\\right) + 4 \\, x^{2}} - \\frac{32 \\, x^{9} y\\left(x\\right)^{2} \\mathrm{D}_{1}\\left(\\xi\\right)\\left(y\\left(x\\right), x\\right)}{x^{6} y\\left(x\\right)^{2} - 4 \\, x^{4} y\\left(x\\right) + 4 \\, x^{2}} - \\frac{4 \\, x^{9} y\\left(x\\right)^{2} \\mathrm{D}_{1, 1}\\left(\\xi\\right)\\left(y\\left(x\\right), x\\right)}{x^{3} y\\left(x\\right) - 2 \\, x} + \\frac{16 \\, x^{9} \\phi\\left(y\\left(x\\right), x\\right) y\\left(x\\right)}{x^{6} y\\left(x\\right)^{2} - 4 \\, x^{4} y\\left(x\\right) + 4 \\, x^{2}} + \\frac{48 \\, x^{8} \\xi\\left(y\\left(x\\right), x\\right) y\\left(x\\right)^{2}}{x^{6} y\\left(x\\right)^{2} - 4 \\, x^{4} y\\left(x\\right) + 4 \\, x^{2}} - \\frac{16 \\, x^{9} y\\left(x\\right) \\mathrm{D}_{1}\\left(\\phi\\right)\\left(y\\left(x\\right), x\\right)}{x^{3} y\\left(x\\right) - 2 \\, x} + \\frac{64 \\, \\sqrt{-2 \\, x \\frac{\\partial}{\\partial x}y\\left(x\\right) - 2 \\, y\\left(x\\right)} x^{8} y\\left(x\\right) \\mathrm{D}_{0}\\left(\\phi\\right)\\left(y\\left(x\\right), x\\right)}{x^{6} y\\left(x\\right)^{2} - 4 \\, x^{4} y\\left(x\\right) + 4 \\, x^{2}} - \\frac{4 \\, \\sqrt{-2 \\, x \\frac{\\partial}{\\partial x}y\\left(x\\right) - 2 \\, y\\left(x\\right)} x^{7} y\\left(x\\right)^{2} \\mathrm{D}_{0, 0}\\left(\\phi\\right)\\left(y\\left(x\\right), x\\right)}{x^{3} y\\left(x\\right) - 2 \\, x} - \\frac{96 \\, \\sqrt{-2 \\, x \\frac{\\partial}{\\partial x}y\\left(x\\right) - 2 \\, y\\left(x\\right)} x^{7} y\\left(x\\right)^{2} \\mathrm{D}_{0}\\left(\\xi\\right)\\left(y\\left(x\\right), x\\right)}{x^{6} y\\left(x\\right)^{2} - 4 \\, x^{4} y\\left(x\\right) + 4 \\, x^{2}} + \\frac{4 \\, \\sqrt{-2 \\, x \\frac{\\partial}{\\partial x}y\\left(x\\right) - 2 \\, y\\left(x\\right)} x^{6} y\\left(x\\right)^{3} \\mathrm{D}_{0, 0}\\left(\\xi\\right)\\left(y\\left(x\\right), x\\right)}{x^{3} y\\left(x\\right) - 2 \\, x} + \\frac{8 \\, \\sqrt{-2 \\, x \\frac{\\partial}{\\partial x}y\\left(x\\right) - 2 \\, y\\left(x\\right)} x^{7} y\\left(x\\right)^{2} \\mathrm{D}_{0, 1}\\left(\\xi\\right)\\left(y\\left(x\\right), x\\right)}{x^{3} y\\left(x\\right) - 2 \\, x} - \\frac{128 \\, \\sqrt{-2 \\, x \\frac{\\partial}{\\partial x}y\\left(x\\right) - 2 \\, y\\left(x\\right)} x^{8} y\\left(x\\right) \\mathrm{D}_{1}\\left(\\xi\\right)\\left(y\\left(x\\right), x\\right)}{x^{6} y\\left(x\\right)^{2} - 4 \\, x^{4} y\\left(x\\right) + 4 \\, x^{2}} + \\frac{32 \\, \\sqrt{-2 \\, x \\frac{\\partial}{\\partial x}y\\left(x\\right) - 2 \\, y\\left(x\\right)} x^{8} \\phi\\left(y\\left(x\\right), x\\right)}{x^{6} y\\left(x\\right)^{2} - 4 \\, x^{4} y\\left(x\\right) + 4 \\, x^{2}} + \\frac{128 \\, \\sqrt{-2 \\, x \\frac{\\partial}{\\partial x}y\\left(x\\right) - 2 \\, y\\left(x\\right)} x^{7} \\xi\\left(y\\left(x\\right), x\\right) y\\left(x\\right)}{x^{6} y\\left(x\\right)^{2} - 4 \\, x^{4} y\\left(x\\right) + 4 \\, x^{2}} + \\frac{24 \\, \\sqrt{-2 \\, x \\frac{\\partial}{\\partial x}y\\left(x\\right) - 2 \\, y\\left(x\\right)} x^{7} y\\left(x\\right) \\mathrm{D}_{0}\\left(\\phi\\right)\\left(y\\left(x\\right), x\\right)}{x^{3} y\\left(x\\right) - 2 \\, x} - \\frac{40 \\, \\sqrt{-2 \\, x \\frac{\\partial}{\\partial x}y\\left(x\\right) - 2 \\, y\\left(x\\right)} x^{6} y\\left(x\\right)^{2} \\mathrm{D}_{0}\\left(\\xi\\right)\\left(y\\left(x\\right), x\\right)}{x^{3} y\\left(x\\right) - 2 \\, x} - \\frac{32 \\, \\sqrt{-2 \\, x \\frac{\\partial}{\\partial x}y\\left(x\\right) - 2 \\, y\\left(x\\right)} x^{7} y\\left(x\\right) \\mathrm{D}_{1}\\left(\\xi\\right)\\left(y\\left(x\\right), x\\right)}{x^{3} y\\left(x\\right) - 2 \\, x} - \\frac{64 \\, x^{7} y\\left(x\\right) \\mathrm{D}_{0}\\left(\\phi\\right)\\left(y\\left(x\\right), x\\right)}{x^{6} y\\left(x\\right)^{2} - 4 \\, x^{4} y\\left(x\\right) + 4 \\, x^{2}} + \\frac{8 \\, x^{6} y\\left(x\\right)^{2} \\mathrm{D}_{0, 0}\\left(\\phi\\right)\\left(y\\left(x\\right), x\\right)}{x^{3} y\\left(x\\right) - 2 \\, x} - 8 \\, x^{6} y\\left(x\\right) \\mathrm{D}_{0, 1}\\left(\\phi\\right)\\left(y\\left(x\\right), x\\right) - \\frac{32 \\, x^{7} y\\left(x\\right) \\mathrm{D}_{0, 1}\\left(\\phi\\right)\\left(y\\left(x\\right), x\\right)}{x^{3} y\\left(x\\right) - 2 \\, x} - \\frac{672 \\, x^{6} y\\left(x\\right)^{2} \\mathrm{D}_{0}\\left(\\xi\\right)\\left(y\\left(x\\right), x\\right)}{x^{6} y\\left(x\\right)^{2} - 4 \\, x^{4} y\\left(x\\right) + 4 \\, x^{2}} - \\frac{16 \\, x^{6} y\\left(x\\right)^{2} \\mathrm{D}_{0, 1}\\left(\\xi\\right)\\left(y\\left(x\\right), x\\right)}{x^{3} y\\left(x\\right) - 2 \\, x} + \\frac{128 \\, x^{7} y\\left(x\\right) \\mathrm{D}_{1}\\left(\\xi\\right)\\left(y\\left(x\\right), x\\right)}{x^{6} y\\left(x\\right)^{2} - 4 \\, x^{4} y\\left(x\\right) + 4 \\, x^{2}} + 4 \\, x^{6} y\\left(x\\right) \\mathrm{D}_{1, 1}\\left(\\xi\\right)\\left(y\\left(x\\right), x\\right) + \\frac{16 \\, x^{7} y\\left(x\\right) \\mathrm{D}_{1, 1}\\left(\\xi\\right)\\left(y\\left(x\\right), x\\right)}{x^{3} y\\left(x\\right) - 2 \\, x} + \\frac{8 \\, \\sqrt{-2 \\, x \\frac{\\partial}{\\partial x}y\\left(x\\right) - 2 \\, y\\left(x\\right)} x^{7} \\phi\\left(y\\left(x\\right), x\\right)}{x^{3} y\\left(x\\right) - 2 \\, x} + \\frac{48 \\, \\sqrt{-2 \\, x \\frac{\\partial}{\\partial x}y\\left(x\\right) - 2 \\, y\\left(x\\right)} x^{6} \\xi\\left(y\\left(x\\right), x\\right) y\\left(x\\right)}{x^{3} y\\left(x\\right) - 2 \\, x} - \\frac{32 \\, x^{7} \\phi\\left(y\\left(x\\right), x\\right)}{x^{6} y\\left(x\\right)^{2} - 4 \\, x^{4} y\\left(x\\right) + 4 \\, x^{2}} - \\frac{128 \\, x^{6} \\xi\\left(y\\left(x\\right), x\\right) y\\left(x\\right)}{x^{6} y\\left(x\\right)^{2} - 4 \\, x^{4} y\\left(x\\right) + 4 \\, x^{2}} - \\frac{80 \\, x^{6} y\\left(x\\right) \\mathrm{D}_{0}\\left(\\phi\\right)\\left(y\\left(x\\right), x\\right)}{x^{3} y\\left(x\\right) - 2 \\, x} + 16 \\, x^{6} \\mathrm{D}_{1}\\left(\\phi\\right)\\left(y\\left(x\\right), x\\right) + \\frac{32 \\, x^{7} \\mathrm{D}_{1}\\left(\\phi\\right)\\left(y\\left(x\\right), x\\right)}{x^{3} y\\left(x\\right) - 2 \\, x} + \\frac{112 \\, x^{6} y\\left(x\\right) \\mathrm{D}_{1}\\left(\\xi\\right)\\left(y\\left(x\\right), x\\right)}{x^{3} y\\left(x\\right) - 2 \\, x} - \\frac{64 \\, \\sqrt{-2 \\, x \\frac{\\partial}{\\partial x}y\\left(x\\right) - 2 \\, y\\left(x\\right)} x^{6} \\mathrm{D}_{0}\\left(\\phi\\right)\\left(y\\left(x\\right), x\\right)}{x^{6} y\\left(x\\right)^{2} - 4 \\, x^{4} y\\left(x\\right) + 4 \\, x^{2}} + \\frac{16 \\, \\sqrt{-2 \\, x \\frac{\\partial}{\\partial x}y\\left(x\\right) - 2 \\, y\\left(x\\right)} x^{5} y\\left(x\\right) \\mathrm{D}_{0, 0}\\left(\\phi\\right)\\left(y\\left(x\\right), x\\right)}{x^{3} y\\left(x\\right) - 2 \\, x} - \\frac{192 \\, \\sqrt{-2 \\, x \\frac{\\partial}{\\partial x}y\\left(x\\right) - 2 \\, y\\left(x\\right)} x^{5} y\\left(x\\right) \\mathrm{D}_{0}\\left(\\xi\\right)\\left(y\\left(x\\right), x\\right)}{x^{6} y\\left(x\\right)^{2} - 4 \\, x^{4} y\\left(x\\right) + 4 \\, x^{2}} - \\frac{16 \\, \\sqrt{-2 \\, x \\frac{\\partial}{\\partial x}y\\left(x\\right) - 2 \\, y\\left(x\\right)} x^{4} y\\left(x\\right)^{2} \\mathrm{D}_{0, 0}\\left(\\xi\\right)\\left(y\\left(x\\right), x\\right)}{x^{3} y\\left(x\\right) - 2 \\, x} - \\frac{32 \\, \\sqrt{-2 \\, x \\frac{\\partial}{\\partial x}y\\left(x\\right) - 2 \\, y\\left(x\\right)} x^{5} y\\left(x\\right) \\mathrm{D}_{0, 1}\\left(\\xi\\right)\\left(y\\left(x\\right), x\\right)}{x^{3} y\\left(x\\right) - 2 \\, x} + \\frac{128 \\, \\sqrt{-2 \\, x \\frac{\\partial}{\\partial x}y\\left(x\\right) - 2 \\, y\\left(x\\right)} x^{6} \\mathrm{D}_{1}\\left(\\xi\\right)\\left(y\\left(x\\right), x\\right)}{x^{6} y\\left(x\\right)^{2} - 4 \\, x^{4} y\\left(x\\right) + 4 \\, x^{2}} - \\frac{32 \\, x^{6} \\phi\\left(y\\left(x\\right), x\\right)}{x^{3} y\\left(x\\right) - 2 \\, x} - \\frac{144 \\, x^{5} \\xi\\left(y\\left(x\\right), x\\right) y\\left(x\\right)}{x^{3} y\\left(x\\right) - 2 \\, x} - \\frac{64 \\, \\sqrt{-2 \\, x \\frac{\\partial}{\\partial x}y\\left(x\\right) - 2 \\, y\\left(x\\right)} x^{5} \\xi\\left(y\\left(x\\right), x\\right)}{x^{6} y\\left(x\\right)^{2} - 4 \\, x^{4} y\\left(x\\right) + 4 \\, x^{2}} - \\frac{48 \\, \\sqrt{-2 \\, x \\frac{\\partial}{\\partial x}y\\left(x\\right) - 2 \\, y\\left(x\\right)} x^{5} \\mathrm{D}_{0}\\left(\\phi\\right)\\left(y\\left(x\\right), x\\right)}{x^{3} y\\left(x\\right) - 2 \\, x} + \\frac{16 \\, \\sqrt{-2 \\, x \\frac{\\partial}{\\partial x}y\\left(x\\right) - 2 \\, y\\left(x\\right)} x^{4} y\\left(x\\right) \\mathrm{D}_{0}\\left(\\xi\\right)\\left(y\\left(x\\right), x\\right)}{x^{3} y\\left(x\\right) - 2 \\, x} + \\frac{64 \\, \\sqrt{-2 \\, x \\frac{\\partial}{\\partial x}y\\left(x\\right) - 2 \\, y\\left(x\\right)} x^{5} \\mathrm{D}_{1}\\left(\\xi\\right)\\left(y\\left(x\\right), x\\right)}{x^{3} y\\left(x\\right) - 2 \\, x} + \\frac{64 \\, x^{5} \\mathrm{D}_{0}\\left(\\phi\\right)\\left(y\\left(x\\right), x\\right)}{x^{6} y\\left(x\\right)^{2} - 4 \\, x^{4} y\\left(x\\right) + 4 \\, x^{2}} - 8 \\, x^{3} y\\left(x\\right) \\mathrm{D}_{0, 0}\\left(\\phi\\right)\\left(y\\left(x\\right), x\\right) - \\frac{32 \\, x^{4} y\\left(x\\right) \\mathrm{D}_{0, 0}\\left(\\phi\\right)\\left(y\\left(x\\right), x\\right)}{x^{3} y\\left(x\\right) - 2 \\, x} + 16 \\, x^{4} \\mathrm{D}_{0, 1}\\left(\\phi\\right)\\left(y\\left(x\\right), x\\right) + \\frac{32 \\, x^{5} \\mathrm{D}_{0, 1}\\left(\\phi\\right)\\left(y\\left(x\\right), x\\right)}{x^{3} y\\left(x\\right) - 2 \\, x} + \\frac{960 \\, x^{4} y\\left(x\\right) \\mathrm{D}_{0}\\left(\\xi\\right)\\left(y\\left(x\\right), x\\right)}{x^{6} y\\left(x\\right)^{2} - 4 \\, x^{4} y\\left(x\\right) + 4 \\, x^{2}} + 16 \\, x^{3} y\\left(x\\right) \\mathrm{D}_{0, 1}\\left(\\xi\\right)\\left(y\\left(x\\right), x\\right) + \\frac{64 \\, x^{4} y\\left(x\\right) \\mathrm{D}_{0, 1}\\left(\\xi\\right)\\left(y\\left(x\\right), x\\right)}{x^{3} y\\left(x\\right) - 2 \\, x} - \\frac{128 \\, x^{5} \\mathrm{D}_{1}\\left(\\xi\\right)\\left(y\\left(x\\right), x\\right)}{x^{6} y\\left(x\\right)^{2} - 4 \\, x^{4} y\\left(x\\right) + 4 \\, x^{2}} - 8 \\, x^{4} \\mathrm{D}_{1, 1}\\left(\\xi\\right)\\left(y\\left(x\\right), x\\right) - \\frac{16 \\, x^{5} \\mathrm{D}_{1, 1}\\left(\\xi\\right)\\left(y\\left(x\\right), x\\right)}{x^{3} y\\left(x\\right) - 2 \\, x} - \\frac{64 \\, \\sqrt{-2 \\, x \\frac{\\partial}{\\partial x}y\\left(x\\right) - 2 \\, y\\left(x\\right)} x^{4} \\xi\\left(y\\left(x\\right), x\\right)}{x^{3} y\\left(x\\right) - 2 \\, x} + \\frac{64 \\, x^{4} \\xi\\left(y\\left(x\\right), x\\right)}{x^{6} y\\left(x\\right)^{2} - 4 \\, x^{4} y\\left(x\\right) + 4 \\, x^{2}} + 72 \\, x^{3} \\mathrm{D}_{0}\\left(\\phi\\right)\\left(y\\left(x\\right), x\\right) + \\frac{160 \\, x^{4} \\mathrm{D}_{0}\\left(\\phi\\right)\\left(y\\left(x\\right), x\\right)}{x^{3} y\\left(x\\right) - 2 \\, x} - 48 \\, x^{2} y\\left(x\\right) \\mathrm{D}_{0}\\left(\\xi\\right)\\left(y\\left(x\\right), x\\right) + \\frac{128 \\, x^{3} y\\left(x\\right) \\mathrm{D}_{0}\\left(\\xi\\right)\\left(y\\left(x\\right), x\\right)}{x^{3} y\\left(x\\right) - 2 \\, x} - 72 \\, x^{3} \\mathrm{D}_{1}\\left(\\xi\\right)\\left(y\\left(x\\right), x\\right) - \\frac{224 \\, x^{4} \\mathrm{D}_{1}\\left(\\xi\\right)\\left(y\\left(x\\right), x\\right)}{x^{3} y\\left(x\\right) - 2 \\, x} - \\frac{16 \\, \\sqrt{-2 \\, x \\frac{\\partial}{\\partial x}y\\left(x\\right) - 2 \\, y\\left(x\\right)} x^{3} \\mathrm{D}_{0, 0}\\left(\\phi\\right)\\left(y\\left(x\\right), x\\right)}{x^{3} y\\left(x\\right) - 2 \\, x} + \\frac{384 \\, \\sqrt{-2 \\, x \\frac{\\partial}{\\partial x}y\\left(x\\right) - 2 \\, y\\left(x\\right)} x^{3} \\mathrm{D}_{0}\\left(\\xi\\right)\\left(y\\left(x\\right), x\\right)}{x^{6} y\\left(x\\right)^{2} - 4 \\, x^{4} y\\left(x\\right) + 4 \\, x^{2}} + \\frac{16 \\, \\sqrt{-2 \\, x \\frac{\\partial}{\\partial x}y\\left(x\\right) - 2 \\, y\\left(x\\right)} x^{2} y\\left(x\\right) \\mathrm{D}_{0, 0}\\left(\\xi\\right)\\left(y\\left(x\\right), x\\right)}{x^{3} y\\left(x\\right) - 2 \\, x} + \\frac{32 \\, \\sqrt{-2 \\, x \\frac{\\partial}{\\partial x}y\\left(x\\right) - 2 \\, y\\left(x\\right)} x^{3} \\mathrm{D}_{0, 1}\\left(\\xi\\right)\\left(y\\left(x\\right), x\\right)}{x^{3} y\\left(x\\right) - 2 \\, x} + 72 \\, x^{2} \\xi\\left(y\\left(x\\right), x\\right) + \\frac{160 \\, x^{3} \\xi\\left(y\\left(x\\right), x\\right)}{x^{3} y\\left(x\\right) - 2 \\, x} + \\frac{128 \\, \\sqrt{-2 \\, x \\frac{\\partial}{\\partial x}y\\left(x\\right) - 2 \\, y\\left(x\\right)} x^{2} \\mathrm{D}_{0}\\left(\\xi\\right)\\left(y\\left(x\\right), x\\right)}{x^{3} y\\left(x\\right) - 2 \\, x} + 16 \\, x \\mathrm{D}_{0, 0}\\left(\\phi\\right)\\left(y\\left(x\\right), x\\right) + \\frac{32 \\, x^{2} \\mathrm{D}_{0, 0}\\left(\\phi\\right)\\left(y\\left(x\\right), x\\right)}{x^{3} y\\left(x\\right) - 2 \\, x} - \\frac{384 \\, x^{2} \\mathrm{D}_{0}\\left(\\xi\\right)\\left(y\\left(x\\right), x\\right)}{x^{6} y\\left(x\\right)^{2} - 4 \\, x^{4} y\\left(x\\right) + 4 \\, x^{2}} - 32 \\, x \\mathrm{D}_{0, 1}\\left(\\xi\\right)\\left(y\\left(x\\right), x\\right) - \\frac{64 \\, x^{2} \\mathrm{D}_{0, 1}\\left(\\xi\\right)\\left(y\\left(x\\right), x\\right)}{x^{3} y\\left(x\\right) - 2 \\, x} - \\frac{256 \\, x \\mathrm{D}_{0}\\left(\\xi\\right)\\left(y\\left(x\\right), x\\right)}{x^{3} y\\left(x\\right) - 2 \\, x} - 32 \\, \\mathrm{D}_{0}\\left(\\xi\\right)\\left(y\\left(x\\right), x\\right)\\)</html>"
      ],
      "text/latex": [
       "$\\displaystyle -\\frac{16 \\, \\sqrt{-2 \\, x \\frac{\\partial}{\\partial x}y\\left(x\\right) - 2 \\, y\\left(x\\right)} x^{10} y\\left(x\\right)^{2} \\mathrm{D}_{0}\\left(\\phi\\right)\\left(y\\left(x\\right), x\\right)}{x^{6} y\\left(x\\right)^{2} - 4 \\, x^{4} y\\left(x\\right) + 4 \\, x^{2}} + \\frac{48 \\, \\sqrt{-2 \\, x \\frac{\\partial}{\\partial x}y\\left(x\\right) - 2 \\, y\\left(x\\right)} x^{9} y\\left(x\\right)^{3} \\mathrm{D}_{0}\\left(\\xi\\right)\\left(y\\left(x\\right), x\\right)}{x^{6} y\\left(x\\right)^{2} - 4 \\, x^{4} y\\left(x\\right) + 4 \\, x^{2}} + \\frac{32 \\, \\sqrt{-2 \\, x \\frac{\\partial}{\\partial x}y\\left(x\\right) - 2 \\, y\\left(x\\right)} x^{10} y\\left(x\\right)^{2} \\mathrm{D}_{1}\\left(\\xi\\right)\\left(y\\left(x\\right), x\\right)}{x^{6} y\\left(x\\right)^{2} - 4 \\, x^{4} y\\left(x\\right) + 4 \\, x^{2}} - \\frac{16 \\, \\sqrt{-2 \\, x \\frac{\\partial}{\\partial x}y\\left(x\\right) - 2 \\, y\\left(x\\right)} x^{10} \\phi\\left(y\\left(x\\right), x\\right) y\\left(x\\right)}{x^{6} y\\left(x\\right)^{2} - 4 \\, x^{4} y\\left(x\\right) + 4 \\, x^{2}} - \\frac{48 \\, \\sqrt{-2 \\, x \\frac{\\partial}{\\partial x}y\\left(x\\right) - 2 \\, y\\left(x\\right)} x^{9} \\xi\\left(y\\left(x\\right), x\\right) y\\left(x\\right)^{2}}{x^{6} y\\left(x\\right)^{2} - 4 \\, x^{4} y\\left(x\\right) + 4 \\, x^{2}} + \\frac{16 \\, x^{9} y\\left(x\\right)^{2} \\mathrm{D}_{0}\\left(\\phi\\right)\\left(y\\left(x\\right), x\\right)}{x^{6} y\\left(x\\right)^{2} - 4 \\, x^{4} y\\left(x\\right) + 4 \\, x^{2}} + \\frac{8 \\, x^{9} y\\left(x\\right)^{2} \\mathrm{D}_{0, 1}\\left(\\phi\\right)\\left(y\\left(x\\right), x\\right)}{x^{3} y\\left(x\\right) - 2 \\, x} + \\frac{144 \\, x^{8} y\\left(x\\right)^{3} \\mathrm{D}_{0}\\left(\\xi\\right)\\left(y\\left(x\\right), x\\right)}{x^{6} y\\left(x\\right)^{2} - 4 \\, x^{4} y\\left(x\\right) + 4 \\, x^{2}} - \\frac{32 \\, x^{9} y\\left(x\\right)^{2} \\mathrm{D}_{1}\\left(\\xi\\right)\\left(y\\left(x\\right), x\\right)}{x^{6} y\\left(x\\right)^{2} - 4 \\, x^{4} y\\left(x\\right) + 4 \\, x^{2}} - \\frac{4 \\, x^{9} y\\left(x\\right)^{2} \\mathrm{D}_{1, 1}\\left(\\xi\\right)\\left(y\\left(x\\right), x\\right)}{x^{3} y\\left(x\\right) - 2 \\, x} + \\frac{16 \\, x^{9} \\phi\\left(y\\left(x\\right), x\\right) y\\left(x\\right)}{x^{6} y\\left(x\\right)^{2} - 4 \\, x^{4} y\\left(x\\right) + 4 \\, x^{2}} + \\frac{48 \\, x^{8} \\xi\\left(y\\left(x\\right), x\\right) y\\left(x\\right)^{2}}{x^{6} y\\left(x\\right)^{2} - 4 \\, x^{4} y\\left(x\\right) + 4 \\, x^{2}} - \\frac{16 \\, x^{9} y\\left(x\\right) \\mathrm{D}_{1}\\left(\\phi\\right)\\left(y\\left(x\\right), x\\right)}{x^{3} y\\left(x\\right) - 2 \\, x} + \\frac{64 \\, \\sqrt{-2 \\, x \\frac{\\partial}{\\partial x}y\\left(x\\right) - 2 \\, y\\left(x\\right)} x^{8} y\\left(x\\right) \\mathrm{D}_{0}\\left(\\phi\\right)\\left(y\\left(x\\right), x\\right)}{x^{6} y\\left(x\\right)^{2} - 4 \\, x^{4} y\\left(x\\right) + 4 \\, x^{2}} - \\frac{4 \\, \\sqrt{-2 \\, x \\frac{\\partial}{\\partial x}y\\left(x\\right) - 2 \\, y\\left(x\\right)} x^{7} y\\left(x\\right)^{2} \\mathrm{D}_{0, 0}\\left(\\phi\\right)\\left(y\\left(x\\right), x\\right)}{x^{3} y\\left(x\\right) - 2 \\, x} - \\frac{96 \\, \\sqrt{-2 \\, x \\frac{\\partial}{\\partial x}y\\left(x\\right) - 2 \\, y\\left(x\\right)} x^{7} y\\left(x\\right)^{2} \\mathrm{D}_{0}\\left(\\xi\\right)\\left(y\\left(x\\right), x\\right)}{x^{6} y\\left(x\\right)^{2} - 4 \\, x^{4} y\\left(x\\right) + 4 \\, x^{2}} + \\frac{4 \\, \\sqrt{-2 \\, x \\frac{\\partial}{\\partial x}y\\left(x\\right) - 2 \\, y\\left(x\\right)} x^{6} y\\left(x\\right)^{3} \\mathrm{D}_{0, 0}\\left(\\xi\\right)\\left(y\\left(x\\right), x\\right)}{x^{3} y\\left(x\\right) - 2 \\, x} + \\frac{8 \\, \\sqrt{-2 \\, x \\frac{\\partial}{\\partial x}y\\left(x\\right) - 2 \\, y\\left(x\\right)} x^{7} y\\left(x\\right)^{2} \\mathrm{D}_{0, 1}\\left(\\xi\\right)\\left(y\\left(x\\right), x\\right)}{x^{3} y\\left(x\\right) - 2 \\, x} - \\frac{128 \\, \\sqrt{-2 \\, x \\frac{\\partial}{\\partial x}y\\left(x\\right) - 2 \\, y\\left(x\\right)} x^{8} y\\left(x\\right) \\mathrm{D}_{1}\\left(\\xi\\right)\\left(y\\left(x\\right), x\\right)}{x^{6} y\\left(x\\right)^{2} - 4 \\, x^{4} y\\left(x\\right) + 4 \\, x^{2}} + \\frac{32 \\, \\sqrt{-2 \\, x \\frac{\\partial}{\\partial x}y\\left(x\\right) - 2 \\, y\\left(x\\right)} x^{8} \\phi\\left(y\\left(x\\right), x\\right)}{x^{6} y\\left(x\\right)^{2} - 4 \\, x^{4} y\\left(x\\right) + 4 \\, x^{2}} + \\frac{128 \\, \\sqrt{-2 \\, x \\frac{\\partial}{\\partial x}y\\left(x\\right) - 2 \\, y\\left(x\\right)} x^{7} \\xi\\left(y\\left(x\\right), x\\right) y\\left(x\\right)}{x^{6} y\\left(x\\right)^{2} - 4 \\, x^{4} y\\left(x\\right) + 4 \\, x^{2}} + \\frac{24 \\, \\sqrt{-2 \\, x \\frac{\\partial}{\\partial x}y\\left(x\\right) - 2 \\, y\\left(x\\right)} x^{7} y\\left(x\\right) \\mathrm{D}_{0}\\left(\\phi\\right)\\left(y\\left(x\\right), x\\right)}{x^{3} y\\left(x\\right) - 2 \\, x} - \\frac{40 \\, \\sqrt{-2 \\, x \\frac{\\partial}{\\partial x}y\\left(x\\right) - 2 \\, y\\left(x\\right)} x^{6} y\\left(x\\right)^{2} \\mathrm{D}_{0}\\left(\\xi\\right)\\left(y\\left(x\\right), x\\right)}{x^{3} y\\left(x\\right) - 2 \\, x} - \\frac{32 \\, \\sqrt{-2 \\, x \\frac{\\partial}{\\partial x}y\\left(x\\right) - 2 \\, y\\left(x\\right)} x^{7} y\\left(x\\right) \\mathrm{D}_{1}\\left(\\xi\\right)\\left(y\\left(x\\right), x\\right)}{x^{3} y\\left(x\\right) - 2 \\, x} - \\frac{64 \\, x^{7} y\\left(x\\right) \\mathrm{D}_{0}\\left(\\phi\\right)\\left(y\\left(x\\right), x\\right)}{x^{6} y\\left(x\\right)^{2} - 4 \\, x^{4} y\\left(x\\right) + 4 \\, x^{2}} + \\frac{8 \\, x^{6} y\\left(x\\right)^{2} \\mathrm{D}_{0, 0}\\left(\\phi\\right)\\left(y\\left(x\\right), x\\right)}{x^{3} y\\left(x\\right) - 2 \\, x} - 8 \\, x^{6} y\\left(x\\right) \\mathrm{D}_{0, 1}\\left(\\phi\\right)\\left(y\\left(x\\right), x\\right) - \\frac{32 \\, x^{7} y\\left(x\\right) \\mathrm{D}_{0, 1}\\left(\\phi\\right)\\left(y\\left(x\\right), x\\right)}{x^{3} y\\left(x\\right) - 2 \\, x} - \\frac{672 \\, x^{6} y\\left(x\\right)^{2} \\mathrm{D}_{0}\\left(\\xi\\right)\\left(y\\left(x\\right), x\\right)}{x^{6} y\\left(x\\right)^{2} - 4 \\, x^{4} y\\left(x\\right) + 4 \\, x^{2}} - \\frac{16 \\, x^{6} y\\left(x\\right)^{2} \\mathrm{D}_{0, 1}\\left(\\xi\\right)\\left(y\\left(x\\right), x\\right)}{x^{3} y\\left(x\\right) - 2 \\, x} + \\frac{128 \\, x^{7} y\\left(x\\right) \\mathrm{D}_{1}\\left(\\xi\\right)\\left(y\\left(x\\right), x\\right)}{x^{6} y\\left(x\\right)^{2} - 4 \\, x^{4} y\\left(x\\right) + 4 \\, x^{2}} + 4 \\, x^{6} y\\left(x\\right) \\mathrm{D}_{1, 1}\\left(\\xi\\right)\\left(y\\left(x\\right), x\\right) + \\frac{16 \\, x^{7} y\\left(x\\right) \\mathrm{D}_{1, 1}\\left(\\xi\\right)\\left(y\\left(x\\right), x\\right)}{x^{3} y\\left(x\\right) - 2 \\, x} + \\frac{8 \\, \\sqrt{-2 \\, x \\frac{\\partial}{\\partial x}y\\left(x\\right) - 2 \\, y\\left(x\\right)} x^{7} \\phi\\left(y\\left(x\\right), x\\right)}{x^{3} y\\left(x\\right) - 2 \\, x} + \\frac{48 \\, \\sqrt{-2 \\, x \\frac{\\partial}{\\partial x}y\\left(x\\right) - 2 \\, y\\left(x\\right)} x^{6} \\xi\\left(y\\left(x\\right), x\\right) y\\left(x\\right)}{x^{3} y\\left(x\\right) - 2 \\, x} - \\frac{32 \\, x^{7} \\phi\\left(y\\left(x\\right), x\\right)}{x^{6} y\\left(x\\right)^{2} - 4 \\, x^{4} y\\left(x\\right) + 4 \\, x^{2}} - \\frac{128 \\, x^{6} \\xi\\left(y\\left(x\\right), x\\right) y\\left(x\\right)}{x^{6} y\\left(x\\right)^{2} - 4 \\, x^{4} y\\left(x\\right) + 4 \\, x^{2}} - \\frac{80 \\, x^{6} y\\left(x\\right) \\mathrm{D}_{0}\\left(\\phi\\right)\\left(y\\left(x\\right), x\\right)}{x^{3} y\\left(x\\right) - 2 \\, x} + 16 \\, x^{6} \\mathrm{D}_{1}\\left(\\phi\\right)\\left(y\\left(x\\right), x\\right) + \\frac{32 \\, x^{7} \\mathrm{D}_{1}\\left(\\phi\\right)\\left(y\\left(x\\right), x\\right)}{x^{3} y\\left(x\\right) - 2 \\, x} + \\frac{112 \\, x^{6} y\\left(x\\right) \\mathrm{D}_{1}\\left(\\xi\\right)\\left(y\\left(x\\right), x\\right)}{x^{3} y\\left(x\\right) - 2 \\, x} - \\frac{64 \\, \\sqrt{-2 \\, x \\frac{\\partial}{\\partial x}y\\left(x\\right) - 2 \\, y\\left(x\\right)} x^{6} \\mathrm{D}_{0}\\left(\\phi\\right)\\left(y\\left(x\\right), x\\right)}{x^{6} y\\left(x\\right)^{2} - 4 \\, x^{4} y\\left(x\\right) + 4 \\, x^{2}} + \\frac{16 \\, \\sqrt{-2 \\, x \\frac{\\partial}{\\partial x}y\\left(x\\right) - 2 \\, y\\left(x\\right)} x^{5} y\\left(x\\right) \\mathrm{D}_{0, 0}\\left(\\phi\\right)\\left(y\\left(x\\right), x\\right)}{x^{3} y\\left(x\\right) - 2 \\, x} - \\frac{192 \\, \\sqrt{-2 \\, x \\frac{\\partial}{\\partial x}y\\left(x\\right) - 2 \\, y\\left(x\\right)} x^{5} y\\left(x\\right) \\mathrm{D}_{0}\\left(\\xi\\right)\\left(y\\left(x\\right), x\\right)}{x^{6} y\\left(x\\right)^{2} - 4 \\, x^{4} y\\left(x\\right) + 4 \\, x^{2}} - \\frac{16 \\, \\sqrt{-2 \\, x \\frac{\\partial}{\\partial x}y\\left(x\\right) - 2 \\, y\\left(x\\right)} x^{4} y\\left(x\\right)^{2} \\mathrm{D}_{0, 0}\\left(\\xi\\right)\\left(y\\left(x\\right), x\\right)}{x^{3} y\\left(x\\right) - 2 \\, x} - \\frac{32 \\, \\sqrt{-2 \\, x \\frac{\\partial}{\\partial x}y\\left(x\\right) - 2 \\, y\\left(x\\right)} x^{5} y\\left(x\\right) \\mathrm{D}_{0, 1}\\left(\\xi\\right)\\left(y\\left(x\\right), x\\right)}{x^{3} y\\left(x\\right) - 2 \\, x} + \\frac{128 \\, \\sqrt{-2 \\, x \\frac{\\partial}{\\partial x}y\\left(x\\right) - 2 \\, y\\left(x\\right)} x^{6} \\mathrm{D}_{1}\\left(\\xi\\right)\\left(y\\left(x\\right), x\\right)}{x^{6} y\\left(x\\right)^{2} - 4 \\, x^{4} y\\left(x\\right) + 4 \\, x^{2}} - \\frac{32 \\, x^{6} \\phi\\left(y\\left(x\\right), x\\right)}{x^{3} y\\left(x\\right) - 2 \\, x} - \\frac{144 \\, x^{5} \\xi\\left(y\\left(x\\right), x\\right) y\\left(x\\right)}{x^{3} y\\left(x\\right) - 2 \\, x} - \\frac{64 \\, \\sqrt{-2 \\, x \\frac{\\partial}{\\partial x}y\\left(x\\right) - 2 \\, y\\left(x\\right)} x^{5} \\xi\\left(y\\left(x\\right), x\\right)}{x^{6} y\\left(x\\right)^{2} - 4 \\, x^{4} y\\left(x\\right) + 4 \\, x^{2}} - \\frac{48 \\, \\sqrt{-2 \\, x \\frac{\\partial}{\\partial x}y\\left(x\\right) - 2 \\, y\\left(x\\right)} x^{5} \\mathrm{D}_{0}\\left(\\phi\\right)\\left(y\\left(x\\right), x\\right)}{x^{3} y\\left(x\\right) - 2 \\, x} + \\frac{16 \\, \\sqrt{-2 \\, x \\frac{\\partial}{\\partial x}y\\left(x\\right) - 2 \\, y\\left(x\\right)} x^{4} y\\left(x\\right) \\mathrm{D}_{0}\\left(\\xi\\right)\\left(y\\left(x\\right), x\\right)}{x^{3} y\\left(x\\right) - 2 \\, x} + \\frac{64 \\, \\sqrt{-2 \\, x \\frac{\\partial}{\\partial x}y\\left(x\\right) - 2 \\, y\\left(x\\right)} x^{5} \\mathrm{D}_{1}\\left(\\xi\\right)\\left(y\\left(x\\right), x\\right)}{x^{3} y\\left(x\\right) - 2 \\, x} + \\frac{64 \\, x^{5} \\mathrm{D}_{0}\\left(\\phi\\right)\\left(y\\left(x\\right), x\\right)}{x^{6} y\\left(x\\right)^{2} - 4 \\, x^{4} y\\left(x\\right) + 4 \\, x^{2}} - 8 \\, x^{3} y\\left(x\\right) \\mathrm{D}_{0, 0}\\left(\\phi\\right)\\left(y\\left(x\\right), x\\right) - \\frac{32 \\, x^{4} y\\left(x\\right) \\mathrm{D}_{0, 0}\\left(\\phi\\right)\\left(y\\left(x\\right), x\\right)}{x^{3} y\\left(x\\right) - 2 \\, x} + 16 \\, x^{4} \\mathrm{D}_{0, 1}\\left(\\phi\\right)\\left(y\\left(x\\right), x\\right) + \\frac{32 \\, x^{5} \\mathrm{D}_{0, 1}\\left(\\phi\\right)\\left(y\\left(x\\right), x\\right)}{x^{3} y\\left(x\\right) - 2 \\, x} + \\frac{960 \\, x^{4} y\\left(x\\right) \\mathrm{D}_{0}\\left(\\xi\\right)\\left(y\\left(x\\right), x\\right)}{x^{6} y\\left(x\\right)^{2} - 4 \\, x^{4} y\\left(x\\right) + 4 \\, x^{2}} + 16 \\, x^{3} y\\left(x\\right) \\mathrm{D}_{0, 1}\\left(\\xi\\right)\\left(y\\left(x\\right), x\\right) + \\frac{64 \\, x^{4} y\\left(x\\right) \\mathrm{D}_{0, 1}\\left(\\xi\\right)\\left(y\\left(x\\right), x\\right)}{x^{3} y\\left(x\\right) - 2 \\, x} - \\frac{128 \\, x^{5} \\mathrm{D}_{1}\\left(\\xi\\right)\\left(y\\left(x\\right), x\\right)}{x^{6} y\\left(x\\right)^{2} - 4 \\, x^{4} y\\left(x\\right) + 4 \\, x^{2}} - 8 \\, x^{4} \\mathrm{D}_{1, 1}\\left(\\xi\\right)\\left(y\\left(x\\right), x\\right) - \\frac{16 \\, x^{5} \\mathrm{D}_{1, 1}\\left(\\xi\\right)\\left(y\\left(x\\right), x\\right)}{x^{3} y\\left(x\\right) - 2 \\, x} - \\frac{64 \\, \\sqrt{-2 \\, x \\frac{\\partial}{\\partial x}y\\left(x\\right) - 2 \\, y\\left(x\\right)} x^{4} \\xi\\left(y\\left(x\\right), x\\right)}{x^{3} y\\left(x\\right) - 2 \\, x} + \\frac{64 \\, x^{4} \\xi\\left(y\\left(x\\right), x\\right)}{x^{6} y\\left(x\\right)^{2} - 4 \\, x^{4} y\\left(x\\right) + 4 \\, x^{2}} + 72 \\, x^{3} \\mathrm{D}_{0}\\left(\\phi\\right)\\left(y\\left(x\\right), x\\right) + \\frac{160 \\, x^{4} \\mathrm{D}_{0}\\left(\\phi\\right)\\left(y\\left(x\\right), x\\right)}{x^{3} y\\left(x\\right) - 2 \\, x} - 48 \\, x^{2} y\\left(x\\right) \\mathrm{D}_{0}\\left(\\xi\\right)\\left(y\\left(x\\right), x\\right) + \\frac{128 \\, x^{3} y\\left(x\\right) \\mathrm{D}_{0}\\left(\\xi\\right)\\left(y\\left(x\\right), x\\right)}{x^{3} y\\left(x\\right) - 2 \\, x} - 72 \\, x^{3} \\mathrm{D}_{1}\\left(\\xi\\right)\\left(y\\left(x\\right), x\\right) - \\frac{224 \\, x^{4} \\mathrm{D}_{1}\\left(\\xi\\right)\\left(y\\left(x\\right), x\\right)}{x^{3} y\\left(x\\right) - 2 \\, x} - \\frac{16 \\, \\sqrt{-2 \\, x \\frac{\\partial}{\\partial x}y\\left(x\\right) - 2 \\, y\\left(x\\right)} x^{3} \\mathrm{D}_{0, 0}\\left(\\phi\\right)\\left(y\\left(x\\right), x\\right)}{x^{3} y\\left(x\\right) - 2 \\, x} + \\frac{384 \\, \\sqrt{-2 \\, x \\frac{\\partial}{\\partial x}y\\left(x\\right) - 2 \\, y\\left(x\\right)} x^{3} \\mathrm{D}_{0}\\left(\\xi\\right)\\left(y\\left(x\\right), x\\right)}{x^{6} y\\left(x\\right)^{2} - 4 \\, x^{4} y\\left(x\\right) + 4 \\, x^{2}} + \\frac{16 \\, \\sqrt{-2 \\, x \\frac{\\partial}{\\partial x}y\\left(x\\right) - 2 \\, y\\left(x\\right)} x^{2} y\\left(x\\right) \\mathrm{D}_{0, 0}\\left(\\xi\\right)\\left(y\\left(x\\right), x\\right)}{x^{3} y\\left(x\\right) - 2 \\, x} + \\frac{32 \\, \\sqrt{-2 \\, x \\frac{\\partial}{\\partial x}y\\left(x\\right) - 2 \\, y\\left(x\\right)} x^{3} \\mathrm{D}_{0, 1}\\left(\\xi\\right)\\left(y\\left(x\\right), x\\right)}{x^{3} y\\left(x\\right) - 2 \\, x} + 72 \\, x^{2} \\xi\\left(y\\left(x\\right), x\\right) + \\frac{160 \\, x^{3} \\xi\\left(y\\left(x\\right), x\\right)}{x^{3} y\\left(x\\right) - 2 \\, x} + \\frac{128 \\, \\sqrt{-2 \\, x \\frac{\\partial}{\\partial x}y\\left(x\\right) - 2 \\, y\\left(x\\right)} x^{2} \\mathrm{D}_{0}\\left(\\xi\\right)\\left(y\\left(x\\right), x\\right)}{x^{3} y\\left(x\\right) - 2 \\, x} + 16 \\, x \\mathrm{D}_{0, 0}\\left(\\phi\\right)\\left(y\\left(x\\right), x\\right) + \\frac{32 \\, x^{2} \\mathrm{D}_{0, 0}\\left(\\phi\\right)\\left(y\\left(x\\right), x\\right)}{x^{3} y\\left(x\\right) - 2 \\, x} - \\frac{384 \\, x^{2} \\mathrm{D}_{0}\\left(\\xi\\right)\\left(y\\left(x\\right), x\\right)}{x^{6} y\\left(x\\right)^{2} - 4 \\, x^{4} y\\left(x\\right) + 4 \\, x^{2}} - 32 \\, x \\mathrm{D}_{0, 1}\\left(\\xi\\right)\\left(y\\left(x\\right), x\\right) - \\frac{64 \\, x^{2} \\mathrm{D}_{0, 1}\\left(\\xi\\right)\\left(y\\left(x\\right), x\\right)}{x^{3} y\\left(x\\right) - 2 \\, x} - \\frac{256 \\, x \\mathrm{D}_{0}\\left(\\xi\\right)\\left(y\\left(x\\right), x\\right)}{x^{3} y\\left(x\\right) - 2 \\, x} - 32 \\, \\mathrm{D}_{0}\\left(\\xi\\right)\\left(y\\left(x\\right), x\\right)$"
      ],
      "text/plain": [
       "-16*sqrt(-2*x*diff(y(x), x) - 2*y(x))*x^10*y(x)^2*D[0](phi)(y(x), x)/(x^6*y(x)^2 - 4*x^4*y(x) + 4*x^2) + 48*sqrt(-2*x*diff(y(x), x) - 2*y(x))*x^9*y(x)^3*D[0](xi)(y(x), x)/(x^6*y(x)^2 - 4*x^4*y(x) + 4*x^2) + 32*sqrt(-2*x*diff(y(x), x) - 2*y(x))*x^10*y(x)^2*D[1](xi)(y(x), x)/(x^6*y(x)^2 - 4*x^4*y(x) + 4*x^2) - 16*sqrt(-2*x*diff(y(x), x) - 2*y(x))*x^10*phi(y(x), x)*y(x)/(x^6*y(x)^2 - 4*x^4*y(x) + 4*x^2) - 48*sqrt(-2*x*diff(y(x), x) - 2*y(x))*x^9*xi(y(x), x)*y(x)^2/(x^6*y(x)^2 - 4*x^4*y(x) + 4*x^2) + 16*x^9*y(x)^2*D[0](phi)(y(x), x)/(x^6*y(x)^2 - 4*x^4*y(x) + 4*x^2) + 8*x^9*y(x)^2*D[0, 1](phi)(y(x), x)/(x^3*y(x) - 2*x) + 144*x^8*y(x)^3*D[0](xi)(y(x), x)/(x^6*y(x)^2 - 4*x^4*y(x) + 4*x^2) - 32*x^9*y(x)^2*D[1](xi)(y(x), x)/(x^6*y(x)^2 - 4*x^4*y(x) + 4*x^2) - 4*x^9*y(x)^2*D[1, 1](xi)(y(x), x)/(x^3*y(x) - 2*x) + 16*x^9*phi(y(x), x)*y(x)/(x^6*y(x)^2 - 4*x^4*y(x) + 4*x^2) + 48*x^8*xi(y(x), x)*y(x)^2/(x^6*y(x)^2 - 4*x^4*y(x) + 4*x^2) - 16*x^9*y(x)*D[1](phi)(y(x), x)/(x^3*y(x) - 2*x) + 64*sqrt(-2*x*diff(y(x), x) - 2*y(x))*x^8*y(x)*D[0](phi)(y(x), x)/(x^6*y(x)^2 - 4*x^4*y(x) + 4*x^2) - 4*sqrt(-2*x*diff(y(x), x) - 2*y(x))*x^7*y(x)^2*D[0, 0](phi)(y(x), x)/(x^3*y(x) - 2*x) - 96*sqrt(-2*x*diff(y(x), x) - 2*y(x))*x^7*y(x)^2*D[0](xi)(y(x), x)/(x^6*y(x)^2 - 4*x^4*y(x) + 4*x^2) + 4*sqrt(-2*x*diff(y(x), x) - 2*y(x))*x^6*y(x)^3*D[0, 0](xi)(y(x), x)/(x^3*y(x) - 2*x) + 8*sqrt(-2*x*diff(y(x), x) - 2*y(x))*x^7*y(x)^2*D[0, 1](xi)(y(x), x)/(x^3*y(x) - 2*x) - 128*sqrt(-2*x*diff(y(x), x) - 2*y(x))*x^8*y(x)*D[1](xi)(y(x), x)/(x^6*y(x)^2 - 4*x^4*y(x) + 4*x^2) + 32*sqrt(-2*x*diff(y(x), x) - 2*y(x))*x^8*phi(y(x), x)/(x^6*y(x)^2 - 4*x^4*y(x) + 4*x^2) + 128*sqrt(-2*x*diff(y(x), x) - 2*y(x))*x^7*xi(y(x), x)*y(x)/(x^6*y(x)^2 - 4*x^4*y(x) + 4*x^2) + 24*sqrt(-2*x*diff(y(x), x) - 2*y(x))*x^7*y(x)*D[0](phi)(y(x), x)/(x^3*y(x) - 2*x) - 40*sqrt(-2*x*diff(y(x), x) - 2*y(x))*x^6*y(x)^2*D[0](xi)(y(x), x)/(x^3*y(x) - 2*x) - 32*sqrt(-2*x*diff(y(x), x) - 2*y(x))*x^7*y(x)*D[1](xi)(y(x), x)/(x^3*y(x) - 2*x) - 64*x^7*y(x)*D[0](phi)(y(x), x)/(x^6*y(x)^2 - 4*x^4*y(x) + 4*x^2) + 8*x^6*y(x)^2*D[0, 0](phi)(y(x), x)/(x^3*y(x) - 2*x) - 8*x^6*y(x)*D[0, 1](phi)(y(x), x) - 32*x^7*y(x)*D[0, 1](phi)(y(x), x)/(x^3*y(x) - 2*x) - 672*x^6*y(x)^2*D[0](xi)(y(x), x)/(x^6*y(x)^2 - 4*x^4*y(x) + 4*x^2) - 16*x^6*y(x)^2*D[0, 1](xi)(y(x), x)/(x^3*y(x) - 2*x) + 128*x^7*y(x)*D[1](xi)(y(x), x)/(x^6*y(x)^2 - 4*x^4*y(x) + 4*x^2) + 4*x^6*y(x)*D[1, 1](xi)(y(x), x) + 16*x^7*y(x)*D[1, 1](xi)(y(x), x)/(x^3*y(x) - 2*x) + 8*sqrt(-2*x*diff(y(x), x) - 2*y(x))*x^7*phi(y(x), x)/(x^3*y(x) - 2*x) + 48*sqrt(-2*x*diff(y(x), x) - 2*y(x))*x^6*xi(y(x), x)*y(x)/(x^3*y(x) - 2*x) - 32*x^7*phi(y(x), x)/(x^6*y(x)^2 - 4*x^4*y(x) + 4*x^2) - 128*x^6*xi(y(x), x)*y(x)/(x^6*y(x)^2 - 4*x^4*y(x) + 4*x^2) - 80*x^6*y(x)*D[0](phi)(y(x), x)/(x^3*y(x) - 2*x) + 16*x^6*D[1](phi)(y(x), x) + 32*x^7*D[1](phi)(y(x), x)/(x^3*y(x) - 2*x) + 112*x^6*y(x)*D[1](xi)(y(x), x)/(x^3*y(x) - 2*x) - 64*sqrt(-2*x*diff(y(x), x) - 2*y(x))*x^6*D[0](phi)(y(x), x)/(x^6*y(x)^2 - 4*x^4*y(x) + 4*x^2) + 16*sqrt(-2*x*diff(y(x), x) - 2*y(x))*x^5*y(x)*D[0, 0](phi)(y(x), x)/(x^3*y(x) - 2*x) - 192*sqrt(-2*x*diff(y(x), x) - 2*y(x))*x^5*y(x)*D[0](xi)(y(x), x)/(x^6*y(x)^2 - 4*x^4*y(x) + 4*x^2) - 16*sqrt(-2*x*diff(y(x), x) - 2*y(x))*x^4*y(x)^2*D[0, 0](xi)(y(x), x)/(x^3*y(x) - 2*x) - 32*sqrt(-2*x*diff(y(x), x) - 2*y(x))*x^5*y(x)*D[0, 1](xi)(y(x), x)/(x^3*y(x) - 2*x) + 128*sqrt(-2*x*diff(y(x), x) - 2*y(x))*x^6*D[1](xi)(y(x), x)/(x^6*y(x)^2 - 4*x^4*y(x) + 4*x^2) - 32*x^6*phi(y(x), x)/(x^3*y(x) - 2*x) - 144*x^5*xi(y(x), x)*y(x)/(x^3*y(x) - 2*x) - 64*sqrt(-2*x*diff(y(x), x) - 2*y(x))*x^5*xi(y(x), x)/(x^6*y(x)^2 - 4*x^4*y(x) + 4*x^2) - 48*sqrt(-2*x*diff(y(x), x) - 2*y(x))*x^5*D[0](phi)(y(x), x)/(x^3*y(x) - 2*x) + 16*sqrt(-2*x*diff(y(x), x) - 2*y(x))*x^4*y(x)*D[0](xi)(y(x), x)/(x^3*y(x) - 2*x) + 64*sqrt(-2*x*diff(y(x), x) - 2*y(x))*x^5*D[1](xi)(y(x), x)/(x^3*y(x) - 2*x) + 64*x^5*D[0](phi)(y(x), x)/(x^6*y(x)^2 - 4*x^4*y(x) + 4*x^2) - 8*x^3*y(x)*D[0, 0](phi)(y(x), x) - 32*x^4*y(x)*D[0, 0](phi)(y(x), x)/(x^3*y(x) - 2*x) + 16*x^4*D[0, 1](phi)(y(x), x) + 32*x^5*D[0, 1](phi)(y(x), x)/(x^3*y(x) - 2*x) + 960*x^4*y(x)*D[0](xi)(y(x), x)/(x^6*y(x)^2 - 4*x^4*y(x) + 4*x^2) + 16*x^3*y(x)*D[0, 1](xi)(y(x), x) + 64*x^4*y(x)*D[0, 1](xi)(y(x), x)/(x^3*y(x) - 2*x) - 128*x^5*D[1](xi)(y(x), x)/(x^6*y(x)^2 - 4*x^4*y(x) + 4*x^2) - 8*x^4*D[1, 1](xi)(y(x), x) - 16*x^5*D[1, 1](xi)(y(x), x)/(x^3*y(x) - 2*x) - 64*sqrt(-2*x*diff(y(x), x) - 2*y(x))*x^4*xi(y(x), x)/(x^3*y(x) - 2*x) + 64*x^4*xi(y(x), x)/(x^6*y(x)^2 - 4*x^4*y(x) + 4*x^2) + 72*x^3*D[0](phi)(y(x), x) + 160*x^4*D[0](phi)(y(x), x)/(x^3*y(x) - 2*x) - 48*x^2*y(x)*D[0](xi)(y(x), x) + 128*x^3*y(x)*D[0](xi)(y(x), x)/(x^3*y(x) - 2*x) - 72*x^3*D[1](xi)(y(x), x) - 224*x^4*D[1](xi)(y(x), x)/(x^3*y(x) - 2*x) - 16*sqrt(-2*x*diff(y(x), x) - 2*y(x))*x^3*D[0, 0](phi)(y(x), x)/(x^3*y(x) - 2*x) + 384*sqrt(-2*x*diff(y(x), x) - 2*y(x))*x^3*D[0](xi)(y(x), x)/(x^6*y(x)^2 - 4*x^4*y(x) + 4*x^2) + 16*sqrt(-2*x*diff(y(x), x) - 2*y(x))*x^2*y(x)*D[0, 0](xi)(y(x), x)/(x^3*y(x) - 2*x) + 32*sqrt(-2*x*diff(y(x), x) - 2*y(x))*x^3*D[0, 1](xi)(y(x), x)/(x^3*y(x) - 2*x) + 72*x^2*xi(y(x), x) + 160*x^3*xi(y(x), x)/(x^3*y(x) - 2*x) + 128*sqrt(-2*x*diff(y(x), x) - 2*y(x))*x^2*D[0](xi)(y(x), x)/(x^3*y(x) - 2*x) + 16*x*D[0, 0](phi)(y(x), x) + 32*x^2*D[0, 0](phi)(y(x), x)/(x^3*y(x) - 2*x) - 384*x^2*D[0](xi)(y(x), x)/(x^6*y(x)^2 - 4*x^4*y(x) + 4*x^2) - 32*x*D[0, 1](xi)(y(x), x) - 64*x^2*D[0, 1](xi)(y(x), x)/(x^3*y(x) - 2*x) - 256*x*D[0](xi)(y(x), x)/(x^3*y(x) - 2*x) - 32*D[0](xi)(y(x), x)"
      ]
     },
     "metadata": {},
     "output_type": "display_data"
    },
    {
     "data": {
      "text/html": [
       "<html>\\(\\displaystyle -\\frac{16 \\, \\sqrt{-2 \\, x \\frac{\\partial}{\\partial x}y\\left(x\\right) - 2 \\, y\\left(x\\right)} x^{9} y\\left(x\\right)^{3} \\mathrm{D}_{0}\\left(\\phi\\right)\\left(y\\left(x\\right), x\\right)}{x^{6} y\\left(x\\right)^{2} - 4 \\, x^{4} y\\left(x\\right) + 4 \\, x^{2}} + \\frac{32 \\, \\sqrt{-2 \\, x \\frac{\\partial}{\\partial x}y\\left(x\\right) - 2 \\, y\\left(x\\right)} x^{9} y\\left(x\\right)^{3} \\mathrm{D}_{1}\\left(\\xi\\right)\\left(y\\left(x\\right), x\\right)}{x^{6} y\\left(x\\right)^{2} - 4 \\, x^{4} y\\left(x\\right) + 4 \\, x^{2}} - \\frac{16 \\, \\sqrt{-2 \\, x \\frac{\\partial}{\\partial x}y\\left(x\\right) - 2 \\, y\\left(x\\right)} x^{9} \\phi\\left(y\\left(x\\right), x\\right) y\\left(x\\right)^{2}}{x^{6} y\\left(x\\right)^{2} - 4 \\, x^{4} y\\left(x\\right) + 4 \\, x^{2}} - \\frac{48 \\, \\sqrt{-2 \\, x \\frac{\\partial}{\\partial x}y\\left(x\\right) - 2 \\, y\\left(x\\right)} x^{8} \\xi\\left(y\\left(x\\right), x\\right) y\\left(x\\right)^{3}}{x^{6} y\\left(x\\right)^{2} - 4 \\, x^{4} y\\left(x\\right) + 4 \\, x^{2}} - \\frac{48 \\, x^{8} y\\left(x\\right)^{3} \\mathrm{D}_{0}\\left(\\phi\\right)\\left(y\\left(x\\right), x\\right)}{x^{6} y\\left(x\\right)^{2} - 4 \\, x^{4} y\\left(x\\right) + 4 \\, x^{2}} + \\frac{4 \\, x^{9} y\\left(x\\right)^{2} \\mathrm{D}_{1, 1}\\left(\\phi\\right)\\left(y\\left(x\\right), x\\right)}{x^{3} y\\left(x\\right) - 2 \\, x} + \\frac{144 \\, x^{7} y\\left(x\\right)^{4} \\mathrm{D}_{0}\\left(\\xi\\right)\\left(y\\left(x\\right), x\\right)}{x^{6} y\\left(x\\right)^{2} - 4 \\, x^{4} y\\left(x\\right) + 4 \\, x^{2}} + \\frac{96 \\, x^{8} y\\left(x\\right)^{3} \\mathrm{D}_{1}\\left(\\xi\\right)\\left(y\\left(x\\right), x\\right)}{x^{6} y\\left(x\\right)^{2} - 4 \\, x^{4} y\\left(x\\right) + 4 \\, x^{2}} - \\frac{48 \\, x^{8} \\phi\\left(y\\left(x\\right), x\\right) y\\left(x\\right)^{2}}{x^{6} y\\left(x\\right)^{2} - 4 \\, x^{4} y\\left(x\\right) + 4 \\, x^{2}} - \\frac{144 \\, x^{7} \\xi\\left(y\\left(x\\right), x\\right) y\\left(x\\right)^{3}}{x^{6} y\\left(x\\right)^{2} - 4 \\, x^{4} y\\left(x\\right) + 4 \\, x^{2}} + \\frac{32 \\, \\sqrt{-2 \\, x \\frac{\\partial}{\\partial x}y\\left(x\\right) - 2 \\, y\\left(x\\right)} x^{7} y\\left(x\\right)^{2} \\mathrm{D}_{0}\\left(\\phi\\right)\\left(y\\left(x\\right), x\\right)}{x^{6} y\\left(x\\right)^{2} - 4 \\, x^{4} y\\left(x\\right) + 4 \\, x^{2}} - \\frac{4 \\, \\sqrt{-2 \\, x \\frac{\\partial}{\\partial x}y\\left(x\\right) - 2 \\, y\\left(x\\right)} x^{6} y\\left(x\\right)^{3} \\mathrm{D}_{0, 0}\\left(\\phi\\right)\\left(y\\left(x\\right), x\\right)}{x^{3} y\\left(x\\right) - 2 \\, x} - \\frac{8 \\, \\sqrt{-2 \\, x \\frac{\\partial}{\\partial x}y\\left(x\\right) - 2 \\, y\\left(x\\right)} x^{7} y\\left(x\\right)^{2} \\mathrm{D}_{0, 1}\\left(\\phi\\right)\\left(y\\left(x\\right), x\\right)}{x^{3} y\\left(x\\right) - 2 \\, x} + \\frac{96 \\, \\sqrt{-2 \\, x \\frac{\\partial}{\\partial x}y\\left(x\\right) - 2 \\, y\\left(x\\right)} x^{6} y\\left(x\\right)^{3} \\mathrm{D}_{0}\\left(\\xi\\right)\\left(y\\left(x\\right), x\\right)}{x^{6} y\\left(x\\right)^{2} - 4 \\, x^{4} y\\left(x\\right) + 4 \\, x^{2}} + \\frac{8 \\, \\sqrt{-2 \\, x \\frac{\\partial}{\\partial x}y\\left(x\\right) - 2 \\, y\\left(x\\right)} x^{6} y\\left(x\\right)^{3} \\mathrm{D}_{0, 1}\\left(\\xi\\right)\\left(y\\left(x\\right), x\\right)}{x^{3} y\\left(x\\right) - 2 \\, x} - \\frac{64 \\, \\sqrt{-2 \\, x \\frac{\\partial}{\\partial x}y\\left(x\\right) - 2 \\, y\\left(x\\right)} x^{7} y\\left(x\\right)^{2} \\mathrm{D}_{1}\\left(\\xi\\right)\\left(y\\left(x\\right), x\\right)}{x^{6} y\\left(x\\right)^{2} - 4 \\, x^{4} y\\left(x\\right) + 4 \\, x^{2}} + \\frac{4 \\, \\sqrt{-2 \\, x \\frac{\\partial}{\\partial x}y\\left(x\\right) - 2 \\, y\\left(x\\right)} x^{7} y\\left(x\\right)^{2} \\mathrm{D}_{1, 1}\\left(\\xi\\right)\\left(y\\left(x\\right), x\\right)}{x^{3} y\\left(x\\right) - 2 \\, x} + \\frac{32 \\, \\sqrt{-2 \\, x \\frac{\\partial}{\\partial x}y\\left(x\\right) - 2 \\, y\\left(x\\right)} x^{6} \\xi\\left(y\\left(x\\right), x\\right) y\\left(x\\right)^{2}}{x^{6} y\\left(x\\right)^{2} - 4 \\, x^{4} y\\left(x\\right) + 4 \\, x^{2}} + \\frac{24 \\, \\sqrt{-2 \\, x \\frac{\\partial}{\\partial x}y\\left(x\\right) - 2 \\, y\\left(x\\right)} x^{6} y\\left(x\\right)^{2} \\mathrm{D}_{0}\\left(\\phi\\right)\\left(y\\left(x\\right), x\\right)}{x^{3} y\\left(x\\right) - 2 \\, x} + \\frac{16 \\, \\sqrt{-2 \\, x \\frac{\\partial}{\\partial x}y\\left(x\\right) - 2 \\, y\\left(x\\right)} x^{7} y\\left(x\\right) \\mathrm{D}_{1}\\left(\\phi\\right)\\left(y\\left(x\\right), x\\right)}{x^{3} y\\left(x\\right) - 2 \\, x} - \\frac{32 \\, \\sqrt{-2 \\, x \\frac{\\partial}{\\partial x}y\\left(x\\right) - 2 \\, y\\left(x\\right)} x^{6} y\\left(x\\right)^{2} \\mathrm{D}_{1}\\left(\\xi\\right)\\left(y\\left(x\\right), x\\right)}{x^{3} y\\left(x\\right) - 2 \\, x} + \\frac{224 \\, x^{6} y\\left(x\\right)^{2} \\mathrm{D}_{0}\\left(\\phi\\right)\\left(y\\left(x\\right), x\\right)}{x^{6} y\\left(x\\right)^{2} - 4 \\, x^{4} y\\left(x\\right) + 4 \\, x^{2}} + \\frac{16 \\, x^{6} y\\left(x\\right)^{2} \\mathrm{D}_{0, 1}\\left(\\phi\\right)\\left(y\\left(x\\right), x\\right)}{x^{3} y\\left(x\\right) - 2 \\, x} - 4 \\, x^{6} y\\left(x\\right) \\mathrm{D}_{1, 1}\\left(\\phi\\right)\\left(y\\left(x\\right), x\\right) - \\frac{16 \\, x^{7} y\\left(x\\right) \\mathrm{D}_{1, 1}\\left(\\phi\\right)\\left(y\\left(x\\right), x\\right)}{x^{3} y\\left(x\\right) - 2 \\, x} - \\frac{576 \\, x^{5} y\\left(x\\right)^{3} \\mathrm{D}_{0}\\left(\\xi\\right)\\left(y\\left(x\\right), x\\right)}{x^{6} y\\left(x\\right)^{2} - 4 \\, x^{4} y\\left(x\\right) + 4 \\, x^{2}} - \\frac{448 \\, x^{6} y\\left(x\\right)^{2} \\mathrm{D}_{1}\\left(\\xi\\right)\\left(y\\left(x\\right), x\\right)}{x^{6} y\\left(x\\right)^{2} - 4 \\, x^{4} y\\left(x\\right) + 4 \\, x^{2}} - \\frac{8 \\, x^{6} y\\left(x\\right)^{2} \\mathrm{D}_{1, 1}\\left(\\xi\\right)\\left(y\\left(x\\right), x\\right)}{x^{3} y\\left(x\\right) - 2 \\, x} + \\frac{8 \\, \\sqrt{-2 \\, x \\frac{\\partial}{\\partial x}y\\left(x\\right) - 2 \\, y\\left(x\\right)} x^{6} \\phi\\left(y\\left(x\\right), x\\right) y\\left(x\\right)}{x^{3} y\\left(x\\right) - 2 \\, x} + \\frac{48 \\, \\sqrt{-2 \\, x \\frac{\\partial}{\\partial x}y\\left(x\\right) - 2 \\, y\\left(x\\right)} x^{5} \\xi\\left(y\\left(x\\right), x\\right) y\\left(x\\right)^{2}}{x^{3} y\\left(x\\right) - 2 \\, x} + \\frac{128 \\, x^{6} \\phi\\left(y\\left(x\\right), x\\right) y\\left(x\\right)}{x^{6} y\\left(x\\right)^{2} - 4 \\, x^{4} y\\left(x\\right) + 4 \\, x^{2}} + \\frac{480 \\, x^{5} \\xi\\left(y\\left(x\\right), x\\right) y\\left(x\\right)^{2}}{x^{6} y\\left(x\\right)^{2} - 4 \\, x^{4} y\\left(x\\right) + 4 \\, x^{2}} - \\frac{48 \\, x^{6} y\\left(x\\right) \\mathrm{D}_{1}\\left(\\phi\\right)\\left(y\\left(x\\right), x\\right)}{x^{3} y\\left(x\\right) - 2 \\, x} + \\frac{64 \\, \\sqrt{-2 \\, x \\frac{\\partial}{\\partial x}y\\left(x\\right) - 2 \\, y\\left(x\\right)} x^{5} y\\left(x\\right) \\mathrm{D}_{0}\\left(\\phi\\right)\\left(y\\left(x\\right), x\\right)}{x^{6} y\\left(x\\right)^{2} - 4 \\, x^{4} y\\left(x\\right) + 4 \\, x^{2}} + \\frac{16 \\, \\sqrt{-2 \\, x \\frac{\\partial}{\\partial x}y\\left(x\\right) - 2 \\, y\\left(x\\right)} x^{4} y\\left(x\\right)^{2} \\mathrm{D}_{0, 0}\\left(\\phi\\right)\\left(y\\left(x\\right), x\\right)}{x^{3} y\\left(x\\right) - 2 \\, x} + \\frac{32 \\, \\sqrt{-2 \\, x \\frac{\\partial}{\\partial x}y\\left(x\\right) - 2 \\, y\\left(x\\right)} x^{5} y\\left(x\\right) \\mathrm{D}_{0, 1}\\left(\\phi\\right)\\left(y\\left(x\\right), x\\right)}{x^{3} y\\left(x\\right) - 2 \\, x} - \\frac{384 \\, \\sqrt{-2 \\, x \\frac{\\partial}{\\partial x}y\\left(x\\right) - 2 \\, y\\left(x\\right)} x^{4} y\\left(x\\right)^{2} \\mathrm{D}_{0}\\left(\\xi\\right)\\left(y\\left(x\\right), x\\right)}{x^{6} y\\left(x\\right)^{2} - 4 \\, x^{4} y\\left(x\\right) + 4 \\, x^{2}} - \\frac{32 \\, \\sqrt{-2 \\, x \\frac{\\partial}{\\partial x}y\\left(x\\right) - 2 \\, y\\left(x\\right)} x^{4} y\\left(x\\right)^{2} \\mathrm{D}_{0, 1}\\left(\\xi\\right)\\left(y\\left(x\\right), x\\right)}{x^{3} y\\left(x\\right) - 2 \\, x} - \\frac{128 \\, \\sqrt{-2 \\, x \\frac{\\partial}{\\partial x}y\\left(x\\right) - 2 \\, y\\left(x\\right)} x^{5} y\\left(x\\right) \\mathrm{D}_{1}\\left(\\xi\\right)\\left(y\\left(x\\right), x\\right)}{x^{6} y\\left(x\\right)^{2} - 4 \\, x^{4} y\\left(x\\right) + 4 \\, x^{2}} - \\frac{16 \\, \\sqrt{-2 \\, x \\frac{\\partial}{\\partial x}y\\left(x\\right) - 2 \\, y\\left(x\\right)} x^{5} y\\left(x\\right) \\mathrm{D}_{1, 1}\\left(\\xi\\right)\\left(y\\left(x\\right), x\\right)}{x^{3} y\\left(x\\right) - 2 \\, x} + \\frac{64 \\, \\sqrt{-2 \\, x \\frac{\\partial}{\\partial x}y\\left(x\\right) - 2 \\, y\\left(x\\right)} x^{5} \\phi\\left(y\\left(x\\right), x\\right)}{x^{6} y\\left(x\\right)^{2} - 4 \\, x^{4} y\\left(x\\right) + 4 \\, x^{2}} + \\frac{192 \\, \\sqrt{-2 \\, x \\frac{\\partial}{\\partial x}y\\left(x\\right) - 2 \\, y\\left(x\\right)} x^{4} \\xi\\left(y\\left(x\\right), x\\right) y\\left(x\\right)}{x^{6} y\\left(x\\right)^{2} - 4 \\, x^{4} y\\left(x\\right) + 4 \\, x^{2}} - \\frac{16 \\, \\sqrt{-2 \\, x \\frac{\\partial}{\\partial x}y\\left(x\\right) - 2 \\, y\\left(x\\right)} x^{4} y\\left(x\\right) \\mathrm{D}_{0}\\left(\\phi\\right)\\left(y\\left(x\\right), x\\right)}{x^{3} y\\left(x\\right) - 2 \\, x} - \\frac{32 \\, \\sqrt{-2 \\, x \\frac{\\partial}{\\partial x}y\\left(x\\right) - 2 \\, y\\left(x\\right)} x^{5} \\mathrm{D}_{1}\\left(\\phi\\right)\\left(y\\left(x\\right), x\\right)}{x^{3} y\\left(x\\right) - 2 \\, x} - \\frac{64 \\, \\sqrt{-2 \\, x \\frac{\\partial}{\\partial x}y\\left(x\\right) - 2 \\, y\\left(x\\right)} x^{3} y\\left(x\\right)^{2} \\mathrm{D}_{0}\\left(\\xi\\right)\\left(y\\left(x\\right), x\\right)}{x^{3} y\\left(x\\right) - 2 \\, x} + \\frac{16 \\, \\sqrt{-2 \\, x \\frac{\\partial}{\\partial x}y\\left(x\\right) - 2 \\, y\\left(x\\right)} x^{4} y\\left(x\\right) \\mathrm{D}_{1}\\left(\\xi\\right)\\left(y\\left(x\\right), x\\right)}{x^{3} y\\left(x\\right) - 2 \\, x} - \\frac{320 \\, x^{4} y\\left(x\\right) \\mathrm{D}_{0}\\left(\\phi\\right)\\left(y\\left(x\\right), x\\right)}{x^{6} y\\left(x\\right)^{2} - 4 \\, x^{4} y\\left(x\\right) + 4 \\, x^{2}} - 16 \\, x^{3} y\\left(x\\right) \\mathrm{D}_{0, 1}\\left(\\phi\\right)\\left(y\\left(x\\right), x\\right) - \\frac{64 \\, x^{4} y\\left(x\\right) \\mathrm{D}_{0, 1}\\left(\\phi\\right)\\left(y\\left(x\\right), x\\right)}{x^{3} y\\left(x\\right) - 2 \\, x} + 8 \\, x^{4} \\mathrm{D}_{1, 1}\\left(\\phi\\right)\\left(y\\left(x\\right), x\\right) + \\frac{16 \\, x^{5} \\mathrm{D}_{1, 1}\\left(\\phi\\right)\\left(y\\left(x\\right), x\\right)}{x^{3} y\\left(x\\right) - 2 \\, x} + \\frac{576 \\, x^{3} y\\left(x\\right)^{2} \\mathrm{D}_{0}\\left(\\xi\\right)\\left(y\\left(x\\right), x\\right)}{x^{6} y\\left(x\\right)^{2} - 4 \\, x^{4} y\\left(x\\right) + 4 \\, x^{2}} + \\frac{640 \\, x^{4} y\\left(x\\right) \\mathrm{D}_{1}\\left(\\xi\\right)\\left(y\\left(x\\right), x\\right)}{x^{6} y\\left(x\\right)^{2} - 4 \\, x^{4} y\\left(x\\right) + 4 \\, x^{2}} + 8 \\, x^{3} y\\left(x\\right) \\mathrm{D}_{1, 1}\\left(\\xi\\right)\\left(y\\left(x\\right), x\\right) + \\frac{32 \\, x^{4} y\\left(x\\right) \\mathrm{D}_{1, 1}\\left(\\xi\\right)\\left(y\\left(x\\right), x\\right)}{x^{3} y\\left(x\\right) - 2 \\, x} + \\frac{16 \\, \\sqrt{-2 \\, x \\frac{\\partial}{\\partial x}y\\left(x\\right) - 2 \\, y\\left(x\\right)} x^{4} \\phi\\left(y\\left(x\\right), x\\right)}{x^{3} y\\left(x\\right) - 2 \\, x} - \\frac{16 \\, \\sqrt{-2 \\, x \\frac{\\partial}{\\partial x}y\\left(x\\right) - 2 \\, y\\left(x\\right)} x^{3} \\xi\\left(y\\left(x\\right), x\\right) y\\left(x\\right)}{x^{3} y\\left(x\\right) - 2 \\, x} - \\frac{64 \\, x^{4} \\phi\\left(y\\left(x\\right), x\\right)}{x^{6} y\\left(x\\right)^{2} - 4 \\, x^{4} y\\left(x\\right) + 4 \\, x^{2}} - \\frac{448 \\, x^{3} \\xi\\left(y\\left(x\\right), x\\right) y\\left(x\\right)}{x^{6} y\\left(x\\right)^{2} - 4 \\, x^{4} y\\left(x\\right) + 4 \\, x^{2}} + 48 \\, x^{2} y\\left(x\\right) \\mathrm{D}_{0}\\left(\\phi\\right)\\left(y\\left(x\\right), x\\right) - \\frac{64 \\, x^{3} y\\left(x\\right) \\mathrm{D}_{0}\\left(\\phi\\right)\\left(y\\left(x\\right), x\\right)}{x^{3} y\\left(x\\right) - 2 \\, x} + 72 \\, x^{3} \\mathrm{D}_{1}\\left(\\phi\\right)\\left(y\\left(x\\right), x\\right) + \\frac{96 \\, x^{4} \\mathrm{D}_{1}\\left(\\phi\\right)\\left(y\\left(x\\right), x\\right)}{x^{3} y\\left(x\\right) - 2 \\, x} - 24 \\, x y\\left(x\\right)^{2} \\mathrm{D}_{0}\\left(\\xi\\right)\\left(y\\left(x\\right), x\\right) - 48 \\, x^{2} y\\left(x\\right) \\mathrm{D}_{1}\\left(\\xi\\right)\\left(y\\left(x\\right), x\\right) + \\frac{96 \\, x^{3} y\\left(x\\right) \\mathrm{D}_{1}\\left(\\xi\\right)\\left(y\\left(x\\right), x\\right)}{x^{3} y\\left(x\\right) - 2 \\, x} - \\frac{128 \\, \\sqrt{-2 \\, x \\frac{\\partial}{\\partial x}y\\left(x\\right) - 2 \\, y\\left(x\\right)} x^{3} \\mathrm{D}_{0}\\left(\\phi\\right)\\left(y\\left(x\\right), x\\right)}{x^{6} y\\left(x\\right)^{2} - 4 \\, x^{4} y\\left(x\\right) + 4 \\, x^{2}} - \\frac{16 \\, \\sqrt{-2 \\, x \\frac{\\partial}{\\partial x}y\\left(x\\right) - 2 \\, y\\left(x\\right)} x^{2} y\\left(x\\right) \\mathrm{D}_{0, 0}\\left(\\phi\\right)\\left(y\\left(x\\right), x\\right)}{x^{3} y\\left(x\\right) - 2 \\, x} - \\frac{32 \\, \\sqrt{-2 \\, x \\frac{\\partial}{\\partial x}y\\left(x\\right) - 2 \\, y\\left(x\\right)} x^{3} \\mathrm{D}_{0, 1}\\left(\\phi\\right)\\left(y\\left(x\\right), x\\right)}{x^{3} y\\left(x\\right) - 2 \\, x} + \\frac{384 \\, \\sqrt{-2 \\, x \\frac{\\partial}{\\partial x}y\\left(x\\right) - 2 \\, y\\left(x\\right)} x^{2} y\\left(x\\right) \\mathrm{D}_{0}\\left(\\xi\\right)\\left(y\\left(x\\right), x\\right)}{x^{6} y\\left(x\\right)^{2} - 4 \\, x^{4} y\\left(x\\right) + 4 \\, x^{2}} + \\frac{32 \\, \\sqrt{-2 \\, x \\frac{\\partial}{\\partial x}y\\left(x\\right) - 2 \\, y\\left(x\\right)} x^{2} y\\left(x\\right) \\mathrm{D}_{0, 1}\\left(\\xi\\right)\\left(y\\left(x\\right), x\\right)}{x^{3} y\\left(x\\right) - 2 \\, x} + \\frac{256 \\, \\sqrt{-2 \\, x \\frac{\\partial}{\\partial x}y\\left(x\\right) - 2 \\, y\\left(x\\right)} x^{3} \\mathrm{D}_{1}\\left(\\xi\\right)\\left(y\\left(x\\right), x\\right)}{x^{6} y\\left(x\\right)^{2} - 4 \\, x^{4} y\\left(x\\right) + 4 \\, x^{2}} + \\frac{16 \\, \\sqrt{-2 \\, x \\frac{\\partial}{\\partial x}y\\left(x\\right) - 2 \\, y\\left(x\\right)} x^{3} \\mathrm{D}_{1, 1}\\left(\\xi\\right)\\left(y\\left(x\\right), x\\right)}{x^{3} y\\left(x\\right) - 2 \\, x} + 24 \\, x^{2} \\phi\\left(y\\left(x\\right), x\\right) - \\frac{32 \\, x^{3} \\phi\\left(y\\left(x\\right), x\\right)}{x^{3} y\\left(x\\right) - 2 \\, x} + 48 \\, x \\xi\\left(y\\left(x\\right), x\\right) y\\left(x\\right) - \\frac{96 \\, x^{2} \\xi\\left(y\\left(x\\right), x\\right) y\\left(x\\right)}{x^{3} y\\left(x\\right) - 2 \\, x} - \\frac{128 \\, \\sqrt{-2 \\, x \\frac{\\partial}{\\partial x}y\\left(x\\right) - 2 \\, y\\left(x\\right)} x^{2} \\xi\\left(y\\left(x\\right), x\\right)}{x^{6} y\\left(x\\right)^{2} - 4 \\, x^{4} y\\left(x\\right) + 4 \\, x^{2}} - \\frac{64 \\, \\sqrt{-2 \\, x \\frac{\\partial}{\\partial x}y\\left(x\\right) - 2 \\, y\\left(x\\right)} x^{2} \\mathrm{D}_{0}\\left(\\phi\\right)\\left(y\\left(x\\right), x\\right)}{x^{3} y\\left(x\\right) - 2 \\, x} + \\frac{128 \\, \\sqrt{-2 \\, x \\frac{\\partial}{\\partial x}y\\left(x\\right) - 2 \\, y\\left(x\\right)} x y\\left(x\\right) \\mathrm{D}_{0}\\left(\\xi\\right)\\left(y\\left(x\\right), x\\right)}{x^{3} y\\left(x\\right) - 2 \\, x} + \\frac{96 \\, \\sqrt{-2 \\, x \\frac{\\partial}{\\partial x}y\\left(x\\right) - 2 \\, y\\left(x\\right)} x^{2} \\mathrm{D}_{1}\\left(\\xi\\right)\\left(y\\left(x\\right), x\\right)}{x^{3} y\\left(x\\right) - 2 \\, x} + \\frac{128 \\, x^{2} \\mathrm{D}_{0}\\left(\\phi\\right)\\left(y\\left(x\\right), x\\right)}{x^{6} y\\left(x\\right)^{2} - 4 \\, x^{4} y\\left(x\\right) + 4 \\, x^{2}} + 32 \\, x \\mathrm{D}_{0, 1}\\left(\\phi\\right)\\left(y\\left(x\\right), x\\right) + \\frac{64 \\, x^{2} \\mathrm{D}_{0, 1}\\left(\\phi\\right)\\left(y\\left(x\\right), x\\right)}{x^{3} y\\left(x\\right) - 2 \\, x} - \\frac{256 \\, x^{2} \\mathrm{D}_{1}\\left(\\xi\\right)\\left(y\\left(x\\right), x\\right)}{x^{6} y\\left(x\\right)^{2} - 4 \\, x^{4} y\\left(x\\right) + 4 \\, x^{2}} - 16 \\, x \\mathrm{D}_{1, 1}\\left(\\xi\\right)\\left(y\\left(x\\right), x\\right) - \\frac{32 \\, x^{2} \\mathrm{D}_{1, 1}\\left(\\xi\\right)\\left(y\\left(x\\right), x\\right)}{x^{3} y\\left(x\\right) - 2 \\, x} - \\frac{32 \\, \\sqrt{-2 \\, x \\frac{\\partial}{\\partial x}y\\left(x\\right) - 2 \\, y\\left(x\\right)} x \\xi\\left(y\\left(x\\right), x\\right)}{x^{3} y\\left(x\\right) - 2 \\, x} + \\frac{128 \\, x \\xi\\left(y\\left(x\\right), x\\right)}{x^{6} y\\left(x\\right)^{2} - 4 \\, x^{4} y\\left(x\\right) + 4 \\, x^{2}} + \\frac{128 \\, x \\mathrm{D}_{0}\\left(\\phi\\right)\\left(y\\left(x\\right), x\\right)}{x^{3} y\\left(x\\right) - 2 \\, x} - \\frac{192 \\, x \\mathrm{D}_{1}\\left(\\xi\\right)\\left(y\\left(x\\right), x\\right)}{x^{3} y\\left(x\\right) - 2 \\, x} + \\frac{64 \\, \\xi\\left(y\\left(x\\right), x\\right)}{x^{3} y\\left(x\\right) - 2 \\, x} + 32 \\, \\mathrm{D}_{0}\\left(\\phi\\right)\\left(y\\left(x\\right), x\\right) - 32 \\, \\mathrm{D}_{1}\\left(\\xi\\right)\\left(y\\left(x\\right), x\\right)\\)</html>"
      ],
      "text/latex": [
       "$\\displaystyle -\\frac{16 \\, \\sqrt{-2 \\, x \\frac{\\partial}{\\partial x}y\\left(x\\right) - 2 \\, y\\left(x\\right)} x^{9} y\\left(x\\right)^{3} \\mathrm{D}_{0}\\left(\\phi\\right)\\left(y\\left(x\\right), x\\right)}{x^{6} y\\left(x\\right)^{2} - 4 \\, x^{4} y\\left(x\\right) + 4 \\, x^{2}} + \\frac{32 \\, \\sqrt{-2 \\, x \\frac{\\partial}{\\partial x}y\\left(x\\right) - 2 \\, y\\left(x\\right)} x^{9} y\\left(x\\right)^{3} \\mathrm{D}_{1}\\left(\\xi\\right)\\left(y\\left(x\\right), x\\right)}{x^{6} y\\left(x\\right)^{2} - 4 \\, x^{4} y\\left(x\\right) + 4 \\, x^{2}} - \\frac{16 \\, \\sqrt{-2 \\, x \\frac{\\partial}{\\partial x}y\\left(x\\right) - 2 \\, y\\left(x\\right)} x^{9} \\phi\\left(y\\left(x\\right), x\\right) y\\left(x\\right)^{2}}{x^{6} y\\left(x\\right)^{2} - 4 \\, x^{4} y\\left(x\\right) + 4 \\, x^{2}} - \\frac{48 \\, \\sqrt{-2 \\, x \\frac{\\partial}{\\partial x}y\\left(x\\right) - 2 \\, y\\left(x\\right)} x^{8} \\xi\\left(y\\left(x\\right), x\\right) y\\left(x\\right)^{3}}{x^{6} y\\left(x\\right)^{2} - 4 \\, x^{4} y\\left(x\\right) + 4 \\, x^{2}} - \\frac{48 \\, x^{8} y\\left(x\\right)^{3} \\mathrm{D}_{0}\\left(\\phi\\right)\\left(y\\left(x\\right), x\\right)}{x^{6} y\\left(x\\right)^{2} - 4 \\, x^{4} y\\left(x\\right) + 4 \\, x^{2}} + \\frac{4 \\, x^{9} y\\left(x\\right)^{2} \\mathrm{D}_{1, 1}\\left(\\phi\\right)\\left(y\\left(x\\right), x\\right)}{x^{3} y\\left(x\\right) - 2 \\, x} + \\frac{144 \\, x^{7} y\\left(x\\right)^{4} \\mathrm{D}_{0}\\left(\\xi\\right)\\left(y\\left(x\\right), x\\right)}{x^{6} y\\left(x\\right)^{2} - 4 \\, x^{4} y\\left(x\\right) + 4 \\, x^{2}} + \\frac{96 \\, x^{8} y\\left(x\\right)^{3} \\mathrm{D}_{1}\\left(\\xi\\right)\\left(y\\left(x\\right), x\\right)}{x^{6} y\\left(x\\right)^{2} - 4 \\, x^{4} y\\left(x\\right) + 4 \\, x^{2}} - \\frac{48 \\, x^{8} \\phi\\left(y\\left(x\\right), x\\right) y\\left(x\\right)^{2}}{x^{6} y\\left(x\\right)^{2} - 4 \\, x^{4} y\\left(x\\right) + 4 \\, x^{2}} - \\frac{144 \\, x^{7} \\xi\\left(y\\left(x\\right), x\\right) y\\left(x\\right)^{3}}{x^{6} y\\left(x\\right)^{2} - 4 \\, x^{4} y\\left(x\\right) + 4 \\, x^{2}} + \\frac{32 \\, \\sqrt{-2 \\, x \\frac{\\partial}{\\partial x}y\\left(x\\right) - 2 \\, y\\left(x\\right)} x^{7} y\\left(x\\right)^{2} \\mathrm{D}_{0}\\left(\\phi\\right)\\left(y\\left(x\\right), x\\right)}{x^{6} y\\left(x\\right)^{2} - 4 \\, x^{4} y\\left(x\\right) + 4 \\, x^{2}} - \\frac{4 \\, \\sqrt{-2 \\, x \\frac{\\partial}{\\partial x}y\\left(x\\right) - 2 \\, y\\left(x\\right)} x^{6} y\\left(x\\right)^{3} \\mathrm{D}_{0, 0}\\left(\\phi\\right)\\left(y\\left(x\\right), x\\right)}{x^{3} y\\left(x\\right) - 2 \\, x} - \\frac{8 \\, \\sqrt{-2 \\, x \\frac{\\partial}{\\partial x}y\\left(x\\right) - 2 \\, y\\left(x\\right)} x^{7} y\\left(x\\right)^{2} \\mathrm{D}_{0, 1}\\left(\\phi\\right)\\left(y\\left(x\\right), x\\right)}{x^{3} y\\left(x\\right) - 2 \\, x} + \\frac{96 \\, \\sqrt{-2 \\, x \\frac{\\partial}{\\partial x}y\\left(x\\right) - 2 \\, y\\left(x\\right)} x^{6} y\\left(x\\right)^{3} \\mathrm{D}_{0}\\left(\\xi\\right)\\left(y\\left(x\\right), x\\right)}{x^{6} y\\left(x\\right)^{2} - 4 \\, x^{4} y\\left(x\\right) + 4 \\, x^{2}} + \\frac{8 \\, \\sqrt{-2 \\, x \\frac{\\partial}{\\partial x}y\\left(x\\right) - 2 \\, y\\left(x\\right)} x^{6} y\\left(x\\right)^{3} \\mathrm{D}_{0, 1}\\left(\\xi\\right)\\left(y\\left(x\\right), x\\right)}{x^{3} y\\left(x\\right) - 2 \\, x} - \\frac{64 \\, \\sqrt{-2 \\, x \\frac{\\partial}{\\partial x}y\\left(x\\right) - 2 \\, y\\left(x\\right)} x^{7} y\\left(x\\right)^{2} \\mathrm{D}_{1}\\left(\\xi\\right)\\left(y\\left(x\\right), x\\right)}{x^{6} y\\left(x\\right)^{2} - 4 \\, x^{4} y\\left(x\\right) + 4 \\, x^{2}} + \\frac{4 \\, \\sqrt{-2 \\, x \\frac{\\partial}{\\partial x}y\\left(x\\right) - 2 \\, y\\left(x\\right)} x^{7} y\\left(x\\right)^{2} \\mathrm{D}_{1, 1}\\left(\\xi\\right)\\left(y\\left(x\\right), x\\right)}{x^{3} y\\left(x\\right) - 2 \\, x} + \\frac{32 \\, \\sqrt{-2 \\, x \\frac{\\partial}{\\partial x}y\\left(x\\right) - 2 \\, y\\left(x\\right)} x^{6} \\xi\\left(y\\left(x\\right), x\\right) y\\left(x\\right)^{2}}{x^{6} y\\left(x\\right)^{2} - 4 \\, x^{4} y\\left(x\\right) + 4 \\, x^{2}} + \\frac{24 \\, \\sqrt{-2 \\, x \\frac{\\partial}{\\partial x}y\\left(x\\right) - 2 \\, y\\left(x\\right)} x^{6} y\\left(x\\right)^{2} \\mathrm{D}_{0}\\left(\\phi\\right)\\left(y\\left(x\\right), x\\right)}{x^{3} y\\left(x\\right) - 2 \\, x} + \\frac{16 \\, \\sqrt{-2 \\, x \\frac{\\partial}{\\partial x}y\\left(x\\right) - 2 \\, y\\left(x\\right)} x^{7} y\\left(x\\right) \\mathrm{D}_{1}\\left(\\phi\\right)\\left(y\\left(x\\right), x\\right)}{x^{3} y\\left(x\\right) - 2 \\, x} - \\frac{32 \\, \\sqrt{-2 \\, x \\frac{\\partial}{\\partial x}y\\left(x\\right) - 2 \\, y\\left(x\\right)} x^{6} y\\left(x\\right)^{2} \\mathrm{D}_{1}\\left(\\xi\\right)\\left(y\\left(x\\right), x\\right)}{x^{3} y\\left(x\\right) - 2 \\, x} + \\frac{224 \\, x^{6} y\\left(x\\right)^{2} \\mathrm{D}_{0}\\left(\\phi\\right)\\left(y\\left(x\\right), x\\right)}{x^{6} y\\left(x\\right)^{2} - 4 \\, x^{4} y\\left(x\\right) + 4 \\, x^{2}} + \\frac{16 \\, x^{6} y\\left(x\\right)^{2} \\mathrm{D}_{0, 1}\\left(\\phi\\right)\\left(y\\left(x\\right), x\\right)}{x^{3} y\\left(x\\right) - 2 \\, x} - 4 \\, x^{6} y\\left(x\\right) \\mathrm{D}_{1, 1}\\left(\\phi\\right)\\left(y\\left(x\\right), x\\right) - \\frac{16 \\, x^{7} y\\left(x\\right) \\mathrm{D}_{1, 1}\\left(\\phi\\right)\\left(y\\left(x\\right), x\\right)}{x^{3} y\\left(x\\right) - 2 \\, x} - \\frac{576 \\, x^{5} y\\left(x\\right)^{3} \\mathrm{D}_{0}\\left(\\xi\\right)\\left(y\\left(x\\right), x\\right)}{x^{6} y\\left(x\\right)^{2} - 4 \\, x^{4} y\\left(x\\right) + 4 \\, x^{2}} - \\frac{448 \\, x^{6} y\\left(x\\right)^{2} \\mathrm{D}_{1}\\left(\\xi\\right)\\left(y\\left(x\\right), x\\right)}{x^{6} y\\left(x\\right)^{2} - 4 \\, x^{4} y\\left(x\\right) + 4 \\, x^{2}} - \\frac{8 \\, x^{6} y\\left(x\\right)^{2} \\mathrm{D}_{1, 1}\\left(\\xi\\right)\\left(y\\left(x\\right), x\\right)}{x^{3} y\\left(x\\right) - 2 \\, x} + \\frac{8 \\, \\sqrt{-2 \\, x \\frac{\\partial}{\\partial x}y\\left(x\\right) - 2 \\, y\\left(x\\right)} x^{6} \\phi\\left(y\\left(x\\right), x\\right) y\\left(x\\right)}{x^{3} y\\left(x\\right) - 2 \\, x} + \\frac{48 \\, \\sqrt{-2 \\, x \\frac{\\partial}{\\partial x}y\\left(x\\right) - 2 \\, y\\left(x\\right)} x^{5} \\xi\\left(y\\left(x\\right), x\\right) y\\left(x\\right)^{2}}{x^{3} y\\left(x\\right) - 2 \\, x} + \\frac{128 \\, x^{6} \\phi\\left(y\\left(x\\right), x\\right) y\\left(x\\right)}{x^{6} y\\left(x\\right)^{2} - 4 \\, x^{4} y\\left(x\\right) + 4 \\, x^{2}} + \\frac{480 \\, x^{5} \\xi\\left(y\\left(x\\right), x\\right) y\\left(x\\right)^{2}}{x^{6} y\\left(x\\right)^{2} - 4 \\, x^{4} y\\left(x\\right) + 4 \\, x^{2}} - \\frac{48 \\, x^{6} y\\left(x\\right) \\mathrm{D}_{1}\\left(\\phi\\right)\\left(y\\left(x\\right), x\\right)}{x^{3} y\\left(x\\right) - 2 \\, x} + \\frac{64 \\, \\sqrt{-2 \\, x \\frac{\\partial}{\\partial x}y\\left(x\\right) - 2 \\, y\\left(x\\right)} x^{5} y\\left(x\\right) \\mathrm{D}_{0}\\left(\\phi\\right)\\left(y\\left(x\\right), x\\right)}{x^{6} y\\left(x\\right)^{2} - 4 \\, x^{4} y\\left(x\\right) + 4 \\, x^{2}} + \\frac{16 \\, \\sqrt{-2 \\, x \\frac{\\partial}{\\partial x}y\\left(x\\right) - 2 \\, y\\left(x\\right)} x^{4} y\\left(x\\right)^{2} \\mathrm{D}_{0, 0}\\left(\\phi\\right)\\left(y\\left(x\\right), x\\right)}{x^{3} y\\left(x\\right) - 2 \\, x} + \\frac{32 \\, \\sqrt{-2 \\, x \\frac{\\partial}{\\partial x}y\\left(x\\right) - 2 \\, y\\left(x\\right)} x^{5} y\\left(x\\right) \\mathrm{D}_{0, 1}\\left(\\phi\\right)\\left(y\\left(x\\right), x\\right)}{x^{3} y\\left(x\\right) - 2 \\, x} - \\frac{384 \\, \\sqrt{-2 \\, x \\frac{\\partial}{\\partial x}y\\left(x\\right) - 2 \\, y\\left(x\\right)} x^{4} y\\left(x\\right)^{2} \\mathrm{D}_{0}\\left(\\xi\\right)\\left(y\\left(x\\right), x\\right)}{x^{6} y\\left(x\\right)^{2} - 4 \\, x^{4} y\\left(x\\right) + 4 \\, x^{2}} - \\frac{32 \\, \\sqrt{-2 \\, x \\frac{\\partial}{\\partial x}y\\left(x\\right) - 2 \\, y\\left(x\\right)} x^{4} y\\left(x\\right)^{2} \\mathrm{D}_{0, 1}\\left(\\xi\\right)\\left(y\\left(x\\right), x\\right)}{x^{3} y\\left(x\\right) - 2 \\, x} - \\frac{128 \\, \\sqrt{-2 \\, x \\frac{\\partial}{\\partial x}y\\left(x\\right) - 2 \\, y\\left(x\\right)} x^{5} y\\left(x\\right) \\mathrm{D}_{1}\\left(\\xi\\right)\\left(y\\left(x\\right), x\\right)}{x^{6} y\\left(x\\right)^{2} - 4 \\, x^{4} y\\left(x\\right) + 4 \\, x^{2}} - \\frac{16 \\, \\sqrt{-2 \\, x \\frac{\\partial}{\\partial x}y\\left(x\\right) - 2 \\, y\\left(x\\right)} x^{5} y\\left(x\\right) \\mathrm{D}_{1, 1}\\left(\\xi\\right)\\left(y\\left(x\\right), x\\right)}{x^{3} y\\left(x\\right) - 2 \\, x} + \\frac{64 \\, \\sqrt{-2 \\, x \\frac{\\partial}{\\partial x}y\\left(x\\right) - 2 \\, y\\left(x\\right)} x^{5} \\phi\\left(y\\left(x\\right), x\\right)}{x^{6} y\\left(x\\right)^{2} - 4 \\, x^{4} y\\left(x\\right) + 4 \\, x^{2}} + \\frac{192 \\, \\sqrt{-2 \\, x \\frac{\\partial}{\\partial x}y\\left(x\\right) - 2 \\, y\\left(x\\right)} x^{4} \\xi\\left(y\\left(x\\right), x\\right) y\\left(x\\right)}{x^{6} y\\left(x\\right)^{2} - 4 \\, x^{4} y\\left(x\\right) + 4 \\, x^{2}} - \\frac{16 \\, \\sqrt{-2 \\, x \\frac{\\partial}{\\partial x}y\\left(x\\right) - 2 \\, y\\left(x\\right)} x^{4} y\\left(x\\right) \\mathrm{D}_{0}\\left(\\phi\\right)\\left(y\\left(x\\right), x\\right)}{x^{3} y\\left(x\\right) - 2 \\, x} - \\frac{32 \\, \\sqrt{-2 \\, x \\frac{\\partial}{\\partial x}y\\left(x\\right) - 2 \\, y\\left(x\\right)} x^{5} \\mathrm{D}_{1}\\left(\\phi\\right)\\left(y\\left(x\\right), x\\right)}{x^{3} y\\left(x\\right) - 2 \\, x} - \\frac{64 \\, \\sqrt{-2 \\, x \\frac{\\partial}{\\partial x}y\\left(x\\right) - 2 \\, y\\left(x\\right)} x^{3} y\\left(x\\right)^{2} \\mathrm{D}_{0}\\left(\\xi\\right)\\left(y\\left(x\\right), x\\right)}{x^{3} y\\left(x\\right) - 2 \\, x} + \\frac{16 \\, \\sqrt{-2 \\, x \\frac{\\partial}{\\partial x}y\\left(x\\right) - 2 \\, y\\left(x\\right)} x^{4} y\\left(x\\right) \\mathrm{D}_{1}\\left(\\xi\\right)\\left(y\\left(x\\right), x\\right)}{x^{3} y\\left(x\\right) - 2 \\, x} - \\frac{320 \\, x^{4} y\\left(x\\right) \\mathrm{D}_{0}\\left(\\phi\\right)\\left(y\\left(x\\right), x\\right)}{x^{6} y\\left(x\\right)^{2} - 4 \\, x^{4} y\\left(x\\right) + 4 \\, x^{2}} - 16 \\, x^{3} y\\left(x\\right) \\mathrm{D}_{0, 1}\\left(\\phi\\right)\\left(y\\left(x\\right), x\\right) - \\frac{64 \\, x^{4} y\\left(x\\right) \\mathrm{D}_{0, 1}\\left(\\phi\\right)\\left(y\\left(x\\right), x\\right)}{x^{3} y\\left(x\\right) - 2 \\, x} + 8 \\, x^{4} \\mathrm{D}_{1, 1}\\left(\\phi\\right)\\left(y\\left(x\\right), x\\right) + \\frac{16 \\, x^{5} \\mathrm{D}_{1, 1}\\left(\\phi\\right)\\left(y\\left(x\\right), x\\right)}{x^{3} y\\left(x\\right) - 2 \\, x} + \\frac{576 \\, x^{3} y\\left(x\\right)^{2} \\mathrm{D}_{0}\\left(\\xi\\right)\\left(y\\left(x\\right), x\\right)}{x^{6} y\\left(x\\right)^{2} - 4 \\, x^{4} y\\left(x\\right) + 4 \\, x^{2}} + \\frac{640 \\, x^{4} y\\left(x\\right) \\mathrm{D}_{1}\\left(\\xi\\right)\\left(y\\left(x\\right), x\\right)}{x^{6} y\\left(x\\right)^{2} - 4 \\, x^{4} y\\left(x\\right) + 4 \\, x^{2}} + 8 \\, x^{3} y\\left(x\\right) \\mathrm{D}_{1, 1}\\left(\\xi\\right)\\left(y\\left(x\\right), x\\right) + \\frac{32 \\, x^{4} y\\left(x\\right) \\mathrm{D}_{1, 1}\\left(\\xi\\right)\\left(y\\left(x\\right), x\\right)}{x^{3} y\\left(x\\right) - 2 \\, x} + \\frac{16 \\, \\sqrt{-2 \\, x \\frac{\\partial}{\\partial x}y\\left(x\\right) - 2 \\, y\\left(x\\right)} x^{4} \\phi\\left(y\\left(x\\right), x\\right)}{x^{3} y\\left(x\\right) - 2 \\, x} - \\frac{16 \\, \\sqrt{-2 \\, x \\frac{\\partial}{\\partial x}y\\left(x\\right) - 2 \\, y\\left(x\\right)} x^{3} \\xi\\left(y\\left(x\\right), x\\right) y\\left(x\\right)}{x^{3} y\\left(x\\right) - 2 \\, x} - \\frac{64 \\, x^{4} \\phi\\left(y\\left(x\\right), x\\right)}{x^{6} y\\left(x\\right)^{2} - 4 \\, x^{4} y\\left(x\\right) + 4 \\, x^{2}} - \\frac{448 \\, x^{3} \\xi\\left(y\\left(x\\right), x\\right) y\\left(x\\right)}{x^{6} y\\left(x\\right)^{2} - 4 \\, x^{4} y\\left(x\\right) + 4 \\, x^{2}} + 48 \\, x^{2} y\\left(x\\right) \\mathrm{D}_{0}\\left(\\phi\\right)\\left(y\\left(x\\right), x\\right) - \\frac{64 \\, x^{3} y\\left(x\\right) \\mathrm{D}_{0}\\left(\\phi\\right)\\left(y\\left(x\\right), x\\right)}{x^{3} y\\left(x\\right) - 2 \\, x} + 72 \\, x^{3} \\mathrm{D}_{1}\\left(\\phi\\right)\\left(y\\left(x\\right), x\\right) + \\frac{96 \\, x^{4} \\mathrm{D}_{1}\\left(\\phi\\right)\\left(y\\left(x\\right), x\\right)}{x^{3} y\\left(x\\right) - 2 \\, x} - 24 \\, x y\\left(x\\right)^{2} \\mathrm{D}_{0}\\left(\\xi\\right)\\left(y\\left(x\\right), x\\right) - 48 \\, x^{2} y\\left(x\\right) \\mathrm{D}_{1}\\left(\\xi\\right)\\left(y\\left(x\\right), x\\right) + \\frac{96 \\, x^{3} y\\left(x\\right) \\mathrm{D}_{1}\\left(\\xi\\right)\\left(y\\left(x\\right), x\\right)}{x^{3} y\\left(x\\right) - 2 \\, x} - \\frac{128 \\, \\sqrt{-2 \\, x \\frac{\\partial}{\\partial x}y\\left(x\\right) - 2 \\, y\\left(x\\right)} x^{3} \\mathrm{D}_{0}\\left(\\phi\\right)\\left(y\\left(x\\right), x\\right)}{x^{6} y\\left(x\\right)^{2} - 4 \\, x^{4} y\\left(x\\right) + 4 \\, x^{2}} - \\frac{16 \\, \\sqrt{-2 \\, x \\frac{\\partial}{\\partial x}y\\left(x\\right) - 2 \\, y\\left(x\\right)} x^{2} y\\left(x\\right) \\mathrm{D}_{0, 0}\\left(\\phi\\right)\\left(y\\left(x\\right), x\\right)}{x^{3} y\\left(x\\right) - 2 \\, x} - \\frac{32 \\, \\sqrt{-2 \\, x \\frac{\\partial}{\\partial x}y\\left(x\\right) - 2 \\, y\\left(x\\right)} x^{3} \\mathrm{D}_{0, 1}\\left(\\phi\\right)\\left(y\\left(x\\right), x\\right)}{x^{3} y\\left(x\\right) - 2 \\, x} + \\frac{384 \\, \\sqrt{-2 \\, x \\frac{\\partial}{\\partial x}y\\left(x\\right) - 2 \\, y\\left(x\\right)} x^{2} y\\left(x\\right) \\mathrm{D}_{0}\\left(\\xi\\right)\\left(y\\left(x\\right), x\\right)}{x^{6} y\\left(x\\right)^{2} - 4 \\, x^{4} y\\left(x\\right) + 4 \\, x^{2}} + \\frac{32 \\, \\sqrt{-2 \\, x \\frac{\\partial}{\\partial x}y\\left(x\\right) - 2 \\, y\\left(x\\right)} x^{2} y\\left(x\\right) \\mathrm{D}_{0, 1}\\left(\\xi\\right)\\left(y\\left(x\\right), x\\right)}{x^{3} y\\left(x\\right) - 2 \\, x} + \\frac{256 \\, \\sqrt{-2 \\, x \\frac{\\partial}{\\partial x}y\\left(x\\right) - 2 \\, y\\left(x\\right)} x^{3} \\mathrm{D}_{1}\\left(\\xi\\right)\\left(y\\left(x\\right), x\\right)}{x^{6} y\\left(x\\right)^{2} - 4 \\, x^{4} y\\left(x\\right) + 4 \\, x^{2}} + \\frac{16 \\, \\sqrt{-2 \\, x \\frac{\\partial}{\\partial x}y\\left(x\\right) - 2 \\, y\\left(x\\right)} x^{3} \\mathrm{D}_{1, 1}\\left(\\xi\\right)\\left(y\\left(x\\right), x\\right)}{x^{3} y\\left(x\\right) - 2 \\, x} + 24 \\, x^{2} \\phi\\left(y\\left(x\\right), x\\right) - \\frac{32 \\, x^{3} \\phi\\left(y\\left(x\\right), x\\right)}{x^{3} y\\left(x\\right) - 2 \\, x} + 48 \\, x \\xi\\left(y\\left(x\\right), x\\right) y\\left(x\\right) - \\frac{96 \\, x^{2} \\xi\\left(y\\left(x\\right), x\\right) y\\left(x\\right)}{x^{3} y\\left(x\\right) - 2 \\, x} - \\frac{128 \\, \\sqrt{-2 \\, x \\frac{\\partial}{\\partial x}y\\left(x\\right) - 2 \\, y\\left(x\\right)} x^{2} \\xi\\left(y\\left(x\\right), x\\right)}{x^{6} y\\left(x\\right)^{2} - 4 \\, x^{4} y\\left(x\\right) + 4 \\, x^{2}} - \\frac{64 \\, \\sqrt{-2 \\, x \\frac{\\partial}{\\partial x}y\\left(x\\right) - 2 \\, y\\left(x\\right)} x^{2} \\mathrm{D}_{0}\\left(\\phi\\right)\\left(y\\left(x\\right), x\\right)}{x^{3} y\\left(x\\right) - 2 \\, x} + \\frac{128 \\, \\sqrt{-2 \\, x \\frac{\\partial}{\\partial x}y\\left(x\\right) - 2 \\, y\\left(x\\right)} x y\\left(x\\right) \\mathrm{D}_{0}\\left(\\xi\\right)\\left(y\\left(x\\right), x\\right)}{x^{3} y\\left(x\\right) - 2 \\, x} + \\frac{96 \\, \\sqrt{-2 \\, x \\frac{\\partial}{\\partial x}y\\left(x\\right) - 2 \\, y\\left(x\\right)} x^{2} \\mathrm{D}_{1}\\left(\\xi\\right)\\left(y\\left(x\\right), x\\right)}{x^{3} y\\left(x\\right) - 2 \\, x} + \\frac{128 \\, x^{2} \\mathrm{D}_{0}\\left(\\phi\\right)\\left(y\\left(x\\right), x\\right)}{x^{6} y\\left(x\\right)^{2} - 4 \\, x^{4} y\\left(x\\right) + 4 \\, x^{2}} + 32 \\, x \\mathrm{D}_{0, 1}\\left(\\phi\\right)\\left(y\\left(x\\right), x\\right) + \\frac{64 \\, x^{2} \\mathrm{D}_{0, 1}\\left(\\phi\\right)\\left(y\\left(x\\right), x\\right)}{x^{3} y\\left(x\\right) - 2 \\, x} - \\frac{256 \\, x^{2} \\mathrm{D}_{1}\\left(\\xi\\right)\\left(y\\left(x\\right), x\\right)}{x^{6} y\\left(x\\right)^{2} - 4 \\, x^{4} y\\left(x\\right) + 4 \\, x^{2}} - 16 \\, x \\mathrm{D}_{1, 1}\\left(\\xi\\right)\\left(y\\left(x\\right), x\\right) - \\frac{32 \\, x^{2} \\mathrm{D}_{1, 1}\\left(\\xi\\right)\\left(y\\left(x\\right), x\\right)}{x^{3} y\\left(x\\right) - 2 \\, x} - \\frac{32 \\, \\sqrt{-2 \\, x \\frac{\\partial}{\\partial x}y\\left(x\\right) - 2 \\, y\\left(x\\right)} x \\xi\\left(y\\left(x\\right), x\\right)}{x^{3} y\\left(x\\right) - 2 \\, x} + \\frac{128 \\, x \\xi\\left(y\\left(x\\right), x\\right)}{x^{6} y\\left(x\\right)^{2} - 4 \\, x^{4} y\\left(x\\right) + 4 \\, x^{2}} + \\frac{128 \\, x \\mathrm{D}_{0}\\left(\\phi\\right)\\left(y\\left(x\\right), x\\right)}{x^{3} y\\left(x\\right) - 2 \\, x} - \\frac{192 \\, x \\mathrm{D}_{1}\\left(\\xi\\right)\\left(y\\left(x\\right), x\\right)}{x^{3} y\\left(x\\right) - 2 \\, x} + \\frac{64 \\, \\xi\\left(y\\left(x\\right), x\\right)}{x^{3} y\\left(x\\right) - 2 \\, x} + 32 \\, \\mathrm{D}_{0}\\left(\\phi\\right)\\left(y\\left(x\\right), x\\right) - 32 \\, \\mathrm{D}_{1}\\left(\\xi\\right)\\left(y\\left(x\\right), x\\right)$"
      ],
      "text/plain": [
       "-16*sqrt(-2*x*diff(y(x), x) - 2*y(x))*x^9*y(x)^3*D[0](phi)(y(x), x)/(x^6*y(x)^2 - 4*x^4*y(x) + 4*x^2) + 32*sqrt(-2*x*diff(y(x), x) - 2*y(x))*x^9*y(x)^3*D[1](xi)(y(x), x)/(x^6*y(x)^2 - 4*x^4*y(x) + 4*x^2) - 16*sqrt(-2*x*diff(y(x), x) - 2*y(x))*x^9*phi(y(x), x)*y(x)^2/(x^6*y(x)^2 - 4*x^4*y(x) + 4*x^2) - 48*sqrt(-2*x*diff(y(x), x) - 2*y(x))*x^8*xi(y(x), x)*y(x)^3/(x^6*y(x)^2 - 4*x^4*y(x) + 4*x^2) - 48*x^8*y(x)^3*D[0](phi)(y(x), x)/(x^6*y(x)^2 - 4*x^4*y(x) + 4*x^2) + 4*x^9*y(x)^2*D[1, 1](phi)(y(x), x)/(x^3*y(x) - 2*x) + 144*x^7*y(x)^4*D[0](xi)(y(x), x)/(x^6*y(x)^2 - 4*x^4*y(x) + 4*x^2) + 96*x^8*y(x)^3*D[1](xi)(y(x), x)/(x^6*y(x)^2 - 4*x^4*y(x) + 4*x^2) - 48*x^8*phi(y(x), x)*y(x)^2/(x^6*y(x)^2 - 4*x^4*y(x) + 4*x^2) - 144*x^7*xi(y(x), x)*y(x)^3/(x^6*y(x)^2 - 4*x^4*y(x) + 4*x^2) + 32*sqrt(-2*x*diff(y(x), x) - 2*y(x))*x^7*y(x)^2*D[0](phi)(y(x), x)/(x^6*y(x)^2 - 4*x^4*y(x) + 4*x^2) - 4*sqrt(-2*x*diff(y(x), x) - 2*y(x))*x^6*y(x)^3*D[0, 0](phi)(y(x), x)/(x^3*y(x) - 2*x) - 8*sqrt(-2*x*diff(y(x), x) - 2*y(x))*x^7*y(x)^2*D[0, 1](phi)(y(x), x)/(x^3*y(x) - 2*x) + 96*sqrt(-2*x*diff(y(x), x) - 2*y(x))*x^6*y(x)^3*D[0](xi)(y(x), x)/(x^6*y(x)^2 - 4*x^4*y(x) + 4*x^2) + 8*sqrt(-2*x*diff(y(x), x) - 2*y(x))*x^6*y(x)^3*D[0, 1](xi)(y(x), x)/(x^3*y(x) - 2*x) - 64*sqrt(-2*x*diff(y(x), x) - 2*y(x))*x^7*y(x)^2*D[1](xi)(y(x), x)/(x^6*y(x)^2 - 4*x^4*y(x) + 4*x^2) + 4*sqrt(-2*x*diff(y(x), x) - 2*y(x))*x^7*y(x)^2*D[1, 1](xi)(y(x), x)/(x^3*y(x) - 2*x) + 32*sqrt(-2*x*diff(y(x), x) - 2*y(x))*x^6*xi(y(x), x)*y(x)^2/(x^6*y(x)^2 - 4*x^4*y(x) + 4*x^2) + 24*sqrt(-2*x*diff(y(x), x) - 2*y(x))*x^6*y(x)^2*D[0](phi)(y(x), x)/(x^3*y(x) - 2*x) + 16*sqrt(-2*x*diff(y(x), x) - 2*y(x))*x^7*y(x)*D[1](phi)(y(x), x)/(x^3*y(x) - 2*x) - 32*sqrt(-2*x*diff(y(x), x) - 2*y(x))*x^6*y(x)^2*D[1](xi)(y(x), x)/(x^3*y(x) - 2*x) + 224*x^6*y(x)^2*D[0](phi)(y(x), x)/(x^6*y(x)^2 - 4*x^4*y(x) + 4*x^2) + 16*x^6*y(x)^2*D[0, 1](phi)(y(x), x)/(x^3*y(x) - 2*x) - 4*x^6*y(x)*D[1, 1](phi)(y(x), x) - 16*x^7*y(x)*D[1, 1](phi)(y(x), x)/(x^3*y(x) - 2*x) - 576*x^5*y(x)^3*D[0](xi)(y(x), x)/(x^6*y(x)^2 - 4*x^4*y(x) + 4*x^2) - 448*x^6*y(x)^2*D[1](xi)(y(x), x)/(x^6*y(x)^2 - 4*x^4*y(x) + 4*x^2) - 8*x^6*y(x)^2*D[1, 1](xi)(y(x), x)/(x^3*y(x) - 2*x) + 8*sqrt(-2*x*diff(y(x), x) - 2*y(x))*x^6*phi(y(x), x)*y(x)/(x^3*y(x) - 2*x) + 48*sqrt(-2*x*diff(y(x), x) - 2*y(x))*x^5*xi(y(x), x)*y(x)^2/(x^3*y(x) - 2*x) + 128*x^6*phi(y(x), x)*y(x)/(x^6*y(x)^2 - 4*x^4*y(x) + 4*x^2) + 480*x^5*xi(y(x), x)*y(x)^2/(x^6*y(x)^2 - 4*x^4*y(x) + 4*x^2) - 48*x^6*y(x)*D[1](phi)(y(x), x)/(x^3*y(x) - 2*x) + 64*sqrt(-2*x*diff(y(x), x) - 2*y(x))*x^5*y(x)*D[0](phi)(y(x), x)/(x^6*y(x)^2 - 4*x^4*y(x) + 4*x^2) + 16*sqrt(-2*x*diff(y(x), x) - 2*y(x))*x^4*y(x)^2*D[0, 0](phi)(y(x), x)/(x^3*y(x) - 2*x) + 32*sqrt(-2*x*diff(y(x), x) - 2*y(x))*x^5*y(x)*D[0, 1](phi)(y(x), x)/(x^3*y(x) - 2*x) - 384*sqrt(-2*x*diff(y(x), x) - 2*y(x))*x^4*y(x)^2*D[0](xi)(y(x), x)/(x^6*y(x)^2 - 4*x^4*y(x) + 4*x^2) - 32*sqrt(-2*x*diff(y(x), x) - 2*y(x))*x^4*y(x)^2*D[0, 1](xi)(y(x), x)/(x^3*y(x) - 2*x) - 128*sqrt(-2*x*diff(y(x), x) - 2*y(x))*x^5*y(x)*D[1](xi)(y(x), x)/(x^6*y(x)^2 - 4*x^4*y(x) + 4*x^2) - 16*sqrt(-2*x*diff(y(x), x) - 2*y(x))*x^5*y(x)*D[1, 1](xi)(y(x), x)/(x^3*y(x) - 2*x) + 64*sqrt(-2*x*diff(y(x), x) - 2*y(x))*x^5*phi(y(x), x)/(x^6*y(x)^2 - 4*x^4*y(x) + 4*x^2) + 192*sqrt(-2*x*diff(y(x), x) - 2*y(x))*x^4*xi(y(x), x)*y(x)/(x^6*y(x)^2 - 4*x^4*y(x) + 4*x^2) - 16*sqrt(-2*x*diff(y(x), x) - 2*y(x))*x^4*y(x)*D[0](phi)(y(x), x)/(x^3*y(x) - 2*x) - 32*sqrt(-2*x*diff(y(x), x) - 2*y(x))*x^5*D[1](phi)(y(x), x)/(x^3*y(x) - 2*x) - 64*sqrt(-2*x*diff(y(x), x) - 2*y(x))*x^3*y(x)^2*D[0](xi)(y(x), x)/(x^3*y(x) - 2*x) + 16*sqrt(-2*x*diff(y(x), x) - 2*y(x))*x^4*y(x)*D[1](xi)(y(x), x)/(x^3*y(x) - 2*x) - 320*x^4*y(x)*D[0](phi)(y(x), x)/(x^6*y(x)^2 - 4*x^4*y(x) + 4*x^2) - 16*x^3*y(x)*D[0, 1](phi)(y(x), x) - 64*x^4*y(x)*D[0, 1](phi)(y(x), x)/(x^3*y(x) - 2*x) + 8*x^4*D[1, 1](phi)(y(x), x) + 16*x^5*D[1, 1](phi)(y(x), x)/(x^3*y(x) - 2*x) + 576*x^3*y(x)^2*D[0](xi)(y(x), x)/(x^6*y(x)^2 - 4*x^4*y(x) + 4*x^2) + 640*x^4*y(x)*D[1](xi)(y(x), x)/(x^6*y(x)^2 - 4*x^4*y(x) + 4*x^2) + 8*x^3*y(x)*D[1, 1](xi)(y(x), x) + 32*x^4*y(x)*D[1, 1](xi)(y(x), x)/(x^3*y(x) - 2*x) + 16*sqrt(-2*x*diff(y(x), x) - 2*y(x))*x^4*phi(y(x), x)/(x^3*y(x) - 2*x) - 16*sqrt(-2*x*diff(y(x), x) - 2*y(x))*x^3*xi(y(x), x)*y(x)/(x^3*y(x) - 2*x) - 64*x^4*phi(y(x), x)/(x^6*y(x)^2 - 4*x^4*y(x) + 4*x^2) - 448*x^3*xi(y(x), x)*y(x)/(x^6*y(x)^2 - 4*x^4*y(x) + 4*x^2) + 48*x^2*y(x)*D[0](phi)(y(x), x) - 64*x^3*y(x)*D[0](phi)(y(x), x)/(x^3*y(x) - 2*x) + 72*x^3*D[1](phi)(y(x), x) + 96*x^4*D[1](phi)(y(x), x)/(x^3*y(x) - 2*x) - 24*x*y(x)^2*D[0](xi)(y(x), x) - 48*x^2*y(x)*D[1](xi)(y(x), x) + 96*x^3*y(x)*D[1](xi)(y(x), x)/(x^3*y(x) - 2*x) - 128*sqrt(-2*x*diff(y(x), x) - 2*y(x))*x^3*D[0](phi)(y(x), x)/(x^6*y(x)^2 - 4*x^4*y(x) + 4*x^2) - 16*sqrt(-2*x*diff(y(x), x) - 2*y(x))*x^2*y(x)*D[0, 0](phi)(y(x), x)/(x^3*y(x) - 2*x) - 32*sqrt(-2*x*diff(y(x), x) - 2*y(x))*x^3*D[0, 1](phi)(y(x), x)/(x^3*y(x) - 2*x) + 384*sqrt(-2*x*diff(y(x), x) - 2*y(x))*x^2*y(x)*D[0](xi)(y(x), x)/(x^6*y(x)^2 - 4*x^4*y(x) + 4*x^2) + 32*sqrt(-2*x*diff(y(x), x) - 2*y(x))*x^2*y(x)*D[0, 1](xi)(y(x), x)/(x^3*y(x) - 2*x) + 256*sqrt(-2*x*diff(y(x), x) - 2*y(x))*x^3*D[1](xi)(y(x), x)/(x^6*y(x)^2 - 4*x^4*y(x) + 4*x^2) + 16*sqrt(-2*x*diff(y(x), x) - 2*y(x))*x^3*D[1, 1](xi)(y(x), x)/(x^3*y(x) - 2*x) + 24*x^2*phi(y(x), x) - 32*x^3*phi(y(x), x)/(x^3*y(x) - 2*x) + 48*x*xi(y(x), x)*y(x) - 96*x^2*xi(y(x), x)*y(x)/(x^3*y(x) - 2*x) - 128*sqrt(-2*x*diff(y(x), x) - 2*y(x))*x^2*xi(y(x), x)/(x^6*y(x)^2 - 4*x^4*y(x) + 4*x^2) - 64*sqrt(-2*x*diff(y(x), x) - 2*y(x))*x^2*D[0](phi)(y(x), x)/(x^3*y(x) - 2*x) + 128*sqrt(-2*x*diff(y(x), x) - 2*y(x))*x*y(x)*D[0](xi)(y(x), x)/(x^3*y(x) - 2*x) + 96*sqrt(-2*x*diff(y(x), x) - 2*y(x))*x^2*D[1](xi)(y(x), x)/(x^3*y(x) - 2*x) + 128*x^2*D[0](phi)(y(x), x)/(x^6*y(x)^2 - 4*x^4*y(x) + 4*x^2) + 32*x*D[0, 1](phi)(y(x), x) + 64*x^2*D[0, 1](phi)(y(x), x)/(x^3*y(x) - 2*x) - 256*x^2*D[1](xi)(y(x), x)/(x^6*y(x)^2 - 4*x^4*y(x) + 4*x^2) - 16*x*D[1, 1](xi)(y(x), x) - 32*x^2*D[1, 1](xi)(y(x), x)/(x^3*y(x) - 2*x) - 32*sqrt(-2*x*diff(y(x), x) - 2*y(x))*x*xi(y(x), x)/(x^3*y(x) - 2*x) + 128*x*xi(y(x), x)/(x^6*y(x)^2 - 4*x^4*y(x) + 4*x^2) + 128*x*D[0](phi)(y(x), x)/(x^3*y(x) - 2*x) - 192*x*D[1](xi)(y(x), x)/(x^3*y(x) - 2*x) + 64*xi(y(x), x)/(x^3*y(x) - 2*x) + 32*D[0](phi)(y(x), x) - 32*D[1](xi)(y(x), x)"
      ]
     },
     "metadata": {},
     "output_type": "display_data"
    },
    {
     "data": {
      "text/html": [
       "<html>\\(\\displaystyle -\\frac{48 \\, x^{7} y\\left(x\\right)^{4} \\mathrm{D}_{0}\\left(\\phi\\right)\\left(y\\left(x\\right), x\\right)}{x^{6} y\\left(x\\right)^{2} - 4 \\, x^{4} y\\left(x\\right) + 4 \\, x^{2}} + \\frac{48 \\, x^{6} y\\left(x\\right)^{5} \\mathrm{D}_{0}\\left(\\xi\\right)\\left(y\\left(x\\right), x\\right)}{x^{6} y\\left(x\\right)^{2} - 4 \\, x^{4} y\\left(x\\right) + 4 \\, x^{2}} + \\frac{96 \\, x^{7} y\\left(x\\right)^{4} \\mathrm{D}_{1}\\left(\\xi\\right)\\left(y\\left(x\\right), x\\right)}{x^{6} y\\left(x\\right)^{2} - 4 \\, x^{4} y\\left(x\\right) + 4 \\, x^{2}} - \\frac{48 \\, x^{7} \\phi\\left(y\\left(x\\right), x\\right) y\\left(x\\right)^{3}}{x^{6} y\\left(x\\right)^{2} - 4 \\, x^{4} y\\left(x\\right) + 4 \\, x^{2}} - \\frac{144 \\, x^{6} \\xi\\left(y\\left(x\\right), x\\right) y\\left(x\\right)^{4}}{x^{6} y\\left(x\\right)^{2} - 4 \\, x^{4} y\\left(x\\right) + 4 \\, x^{2}} - \\frac{32 \\, \\sqrt{-2 \\, x \\frac{\\partial}{\\partial x}y\\left(x\\right) - 2 \\, y\\left(x\\right)} x^{6} y\\left(x\\right)^{3} \\mathrm{D}_{0}\\left(\\phi\\right)\\left(y\\left(x\\right), x\\right)}{x^{6} y\\left(x\\right)^{2} - 4 \\, x^{4} y\\left(x\\right) + 4 \\, x^{2}} - \\frac{8 \\, \\sqrt{-2 \\, x \\frac{\\partial}{\\partial x}y\\left(x\\right) - 2 \\, y\\left(x\\right)} x^{6} y\\left(x\\right)^{3} \\mathrm{D}_{0, 1}\\left(\\phi\\right)\\left(y\\left(x\\right), x\\right)}{x^{3} y\\left(x\\right) - 2 \\, x} - \\frac{4 \\, \\sqrt{-2 \\, x \\frac{\\partial}{\\partial x}y\\left(x\\right) - 2 \\, y\\left(x\\right)} x^{7} y\\left(x\\right)^{2} \\mathrm{D}_{1, 1}\\left(\\phi\\right)\\left(y\\left(x\\right), x\\right)}{x^{3} y\\left(x\\right) - 2 \\, x} + \\frac{64 \\, \\sqrt{-2 \\, x \\frac{\\partial}{\\partial x}y\\left(x\\right) - 2 \\, y\\left(x\\right)} x^{6} y\\left(x\\right)^{3} \\mathrm{D}_{1}\\left(\\xi\\right)\\left(y\\left(x\\right), x\\right)}{x^{6} y\\left(x\\right)^{2} - 4 \\, x^{4} y\\left(x\\right) + 4 \\, x^{2}} + \\frac{4 \\, \\sqrt{-2 \\, x \\frac{\\partial}{\\partial x}y\\left(x\\right) - 2 \\, y\\left(x\\right)} x^{6} y\\left(x\\right)^{3} \\mathrm{D}_{1, 1}\\left(\\xi\\right)\\left(y\\left(x\\right), x\\right)}{x^{3} y\\left(x\\right) - 2 \\, x} - \\frac{32 \\, \\sqrt{-2 \\, x \\frac{\\partial}{\\partial x}y\\left(x\\right) - 2 \\, y\\left(x\\right)} x^{6} \\phi\\left(y\\left(x\\right), x\\right) y\\left(x\\right)^{2}}{x^{6} y\\left(x\\right)^{2} - 4 \\, x^{4} y\\left(x\\right) + 4 \\, x^{2}} - \\frac{96 \\, \\sqrt{-2 \\, x \\frac{\\partial}{\\partial x}y\\left(x\\right) - 2 \\, y\\left(x\\right)} x^{5} \\xi\\left(y\\left(x\\right), x\\right) y\\left(x\\right)^{3}}{x^{6} y\\left(x\\right)^{2} - 4 \\, x^{4} y\\left(x\\right) + 4 \\, x^{2}} + \\frac{16 \\, \\sqrt{-2 \\, x \\frac{\\partial}{\\partial x}y\\left(x\\right) - 2 \\, y\\left(x\\right)} x^{6} y\\left(x\\right)^{2} \\mathrm{D}_{1}\\left(\\phi\\right)\\left(y\\left(x\\right), x\\right)}{x^{3} y\\left(x\\right) - 2 \\, x} + \\frac{192 \\, x^{5} y\\left(x\\right)^{3} \\mathrm{D}_{0}\\left(\\phi\\right)\\left(y\\left(x\\right), x\\right)}{x^{6} y\\left(x\\right)^{2} - 4 \\, x^{4} y\\left(x\\right) + 4 \\, x^{2}} + \\frac{8 \\, x^{6} y\\left(x\\right)^{2} \\mathrm{D}_{1, 1}\\left(\\phi\\right)\\left(y\\left(x\\right), x\\right)}{x^{3} y\\left(x\\right) - 2 \\, x} - \\frac{192 \\, x^{4} y\\left(x\\right)^{4} \\mathrm{D}_{0}\\left(\\xi\\right)\\left(y\\left(x\\right), x\\right)}{x^{6} y\\left(x\\right)^{2} - 4 \\, x^{4} y\\left(x\\right) + 4 \\, x^{2}} - \\frac{384 \\, x^{5} y\\left(x\\right)^{3} \\mathrm{D}_{1}\\left(\\xi\\right)\\left(y\\left(x\\right), x\\right)}{x^{6} y\\left(x\\right)^{2} - 4 \\, x^{4} y\\left(x\\right) + 4 \\, x^{2}} + \\frac{96 \\, x^{5} \\phi\\left(y\\left(x\\right), x\\right) y\\left(x\\right)^{2}}{x^{6} y\\left(x\\right)^{2} - 4 \\, x^{4} y\\left(x\\right) + 4 \\, x^{2}} + \\frac{384 \\, x^{4} \\xi\\left(y\\left(x\\right), x\\right) y\\left(x\\right)^{3}}{x^{6} y\\left(x\\right)^{2} - 4 \\, x^{4} y\\left(x\\right) + 4 \\, x^{2}} + \\frac{128 \\, \\sqrt{-2 \\, x \\frac{\\partial}{\\partial x}y\\left(x\\right) - 2 \\, y\\left(x\\right)} x^{4} y\\left(x\\right)^{2} \\mathrm{D}_{0}\\left(\\phi\\right)\\left(y\\left(x\\right), x\\right)}{x^{6} y\\left(x\\right)^{2} - 4 \\, x^{4} y\\left(x\\right) + 4 \\, x^{2}} + \\frac{32 \\, \\sqrt{-2 \\, x \\frac{\\partial}{\\partial x}y\\left(x\\right) - 2 \\, y\\left(x\\right)} x^{4} y\\left(x\\right)^{2} \\mathrm{D}_{0, 1}\\left(\\phi\\right)\\left(y\\left(x\\right), x\\right)}{x^{3} y\\left(x\\right) - 2 \\, x} + \\frac{16 \\, \\sqrt{-2 \\, x \\frac{\\partial}{\\partial x}y\\left(x\\right) - 2 \\, y\\left(x\\right)} x^{5} y\\left(x\\right) \\mathrm{D}_{1, 1}\\left(\\phi\\right)\\left(y\\left(x\\right), x\\right)}{x^{3} y\\left(x\\right) - 2 \\, x} - \\frac{256 \\, \\sqrt{-2 \\, x \\frac{\\partial}{\\partial x}y\\left(x\\right) - 2 \\, y\\left(x\\right)} x^{4} y\\left(x\\right)^{2} \\mathrm{D}_{1}\\left(\\xi\\right)\\left(y\\left(x\\right), x\\right)}{x^{6} y\\left(x\\right)^{2} - 4 \\, x^{4} y\\left(x\\right) + 4 \\, x^{2}} - \\frac{16 \\, \\sqrt{-2 \\, x \\frac{\\partial}{\\partial x}y\\left(x\\right) - 2 \\, y\\left(x\\right)} x^{4} y\\left(x\\right)^{2} \\mathrm{D}_{1, 1}\\left(\\xi\\right)\\left(y\\left(x\\right), x\\right)}{x^{3} y\\left(x\\right) - 2 \\, x} + \\frac{64 \\, \\sqrt{-2 \\, x \\frac{\\partial}{\\partial x}y\\left(x\\right) - 2 \\, y\\left(x\\right)} x^{4} \\phi\\left(y\\left(x\\right), x\\right) y\\left(x\\right)}{x^{6} y\\left(x\\right)^{2} - 4 \\, x^{4} y\\left(x\\right) + 4 \\, x^{2}} + \\frac{256 \\, \\sqrt{-2 \\, x \\frac{\\partial}{\\partial x}y\\left(x\\right) - 2 \\, y\\left(x\\right)} x^{3} \\xi\\left(y\\left(x\\right), x\\right) y\\left(x\\right)^{2}}{x^{6} y\\left(x\\right)^{2} - 4 \\, x^{4} y\\left(x\\right) + 4 \\, x^{2}} + \\frac{32 \\, \\sqrt{-2 \\, x \\frac{\\partial}{\\partial x}y\\left(x\\right) - 2 \\, y\\left(x\\right)} x^{3} y\\left(x\\right)^{2} \\mathrm{D}_{0}\\left(\\phi\\right)\\left(y\\left(x\\right), x\\right)}{x^{3} y\\left(x\\right) - 2 \\, x} - \\frac{16 \\, \\sqrt{-2 \\, x \\frac{\\partial}{\\partial x}y\\left(x\\right) - 2 \\, y\\left(x\\right)} x^{4} y\\left(x\\right) \\mathrm{D}_{1}\\left(\\phi\\right)\\left(y\\left(x\\right), x\\right)}{x^{3} y\\left(x\\right) - 2 \\, x} - \\frac{48 \\, \\sqrt{-2 \\, x \\frac{\\partial}{\\partial x}y\\left(x\\right) - 2 \\, y\\left(x\\right)} x^{3} y\\left(x\\right)^{2} \\mathrm{D}_{1}\\left(\\xi\\right)\\left(y\\left(x\\right), x\\right)}{x^{3} y\\left(x\\right) - 2 \\, x} - \\frac{192 \\, x^{3} y\\left(x\\right)^{2} \\mathrm{D}_{0}\\left(\\phi\\right)\\left(y\\left(x\\right), x\\right)}{x^{6} y\\left(x\\right)^{2} - 4 \\, x^{4} y\\left(x\\right) + 4 \\, x^{2}} - 8 \\, x^{3} y\\left(x\\right) \\mathrm{D}_{1, 1}\\left(\\phi\\right)\\left(y\\left(x\\right), x\\right) - \\frac{32 \\, x^{4} y\\left(x\\right) \\mathrm{D}_{1, 1}\\left(\\phi\\right)\\left(y\\left(x\\right), x\\right)}{x^{3} y\\left(x\\right) - 2 \\, x} + \\frac{192 \\, x^{2} y\\left(x\\right)^{3} \\mathrm{D}_{0}\\left(\\xi\\right)\\left(y\\left(x\\right), x\\right)}{x^{6} y\\left(x\\right)^{2} - 4 \\, x^{4} y\\left(x\\right) + 4 \\, x^{2}} + \\frac{384 \\, x^{3} y\\left(x\\right)^{2} \\mathrm{D}_{1}\\left(\\xi\\right)\\left(y\\left(x\\right), x\\right)}{x^{6} y\\left(x\\right)^{2} - 4 \\, x^{4} y\\left(x\\right) + 4 \\, x^{2}} + \\frac{16 \\, \\sqrt{-2 \\, x \\frac{\\partial}{\\partial x}y\\left(x\\right) - 2 \\, y\\left(x\\right)} x^{3} \\phi\\left(y\\left(x\\right), x\\right) y\\left(x\\right)}{x^{3} y\\left(x\\right) - 2 \\, x} + \\frac{48 \\, \\sqrt{-2 \\, x \\frac{\\partial}{\\partial x}y\\left(x\\right) - 2 \\, y\\left(x\\right)} x^{2} \\xi\\left(y\\left(x\\right), x\\right) y\\left(x\\right)^{2}}{x^{3} y\\left(x\\right) - 2 \\, x} - \\frac{192 \\, x^{2} \\xi\\left(y\\left(x\\right), x\\right) y\\left(x\\right)^{2}}{x^{6} y\\left(x\\right)^{2} - 4 \\, x^{4} y\\left(x\\right) + 4 \\, x^{2}} + 24 \\, x y\\left(x\\right)^{2} \\mathrm{D}_{0}\\left(\\phi\\right)\\left(y\\left(x\\right), x\\right) + 48 \\, x^{2} y\\left(x\\right) \\mathrm{D}_{1}\\left(\\phi\\right)\\left(y\\left(x\\right), x\\right) - \\frac{32 \\, x^{3} y\\left(x\\right) \\mathrm{D}_{1}\\left(\\phi\\right)\\left(y\\left(x\\right), x\\right)}{x^{3} y\\left(x\\right) - 2 \\, x} - 24 \\, x y\\left(x\\right)^{2} \\mathrm{D}_{1}\\left(\\xi\\right)\\left(y\\left(x\\right), x\\right) - \\frac{128 \\, \\sqrt{-2 \\, x \\frac{\\partial}{\\partial x}y\\left(x\\right) - 2 \\, y\\left(x\\right)} x^{2} y\\left(x\\right) \\mathrm{D}_{0}\\left(\\phi\\right)\\left(y\\left(x\\right), x\\right)}{x^{6} y\\left(x\\right)^{2} - 4 \\, x^{4} y\\left(x\\right) + 4 \\, x^{2}} - \\frac{32 \\, \\sqrt{-2 \\, x \\frac{\\partial}{\\partial x}y\\left(x\\right) - 2 \\, y\\left(x\\right)} x^{2} y\\left(x\\right) \\mathrm{D}_{0, 1}\\left(\\phi\\right)\\left(y\\left(x\\right), x\\right)}{x^{3} y\\left(x\\right) - 2 \\, x} - \\frac{16 \\, \\sqrt{-2 \\, x \\frac{\\partial}{\\partial x}y\\left(x\\right) - 2 \\, y\\left(x\\right)} x^{3} \\mathrm{D}_{1, 1}\\left(\\phi\\right)\\left(y\\left(x\\right), x\\right)}{x^{3} y\\left(x\\right) - 2 \\, x} + \\frac{256 \\, \\sqrt{-2 \\, x \\frac{\\partial}{\\partial x}y\\left(x\\right) - 2 \\, y\\left(x\\right)} x^{2} y\\left(x\\right) \\mathrm{D}_{1}\\left(\\xi\\right)\\left(y\\left(x\\right), x\\right)}{x^{6} y\\left(x\\right)^{2} - 4 \\, x^{4} y\\left(x\\right) + 4 \\, x^{2}} + \\frac{16 \\, \\sqrt{-2 \\, x \\frac{\\partial}{\\partial x}y\\left(x\\right) - 2 \\, y\\left(x\\right)} x^{2} y\\left(x\\right) \\mathrm{D}_{1, 1}\\left(\\xi\\right)\\left(y\\left(x\\right), x\\right)}{x^{3} y\\left(x\\right) - 2 \\, x} + 48 \\, x \\phi\\left(y\\left(x\\right), x\\right) y\\left(x\\right) + 24 \\, \\xi\\left(y\\left(x\\right), x\\right) y\\left(x\\right)^{2} - \\frac{128 \\, \\sqrt{-2 \\, x \\frac{\\partial}{\\partial x}y\\left(x\\right) - 2 \\, y\\left(x\\right)} x \\xi\\left(y\\left(x\\right), x\\right) y\\left(x\\right)}{x^{6} y\\left(x\\right)^{2} - 4 \\, x^{4} y\\left(x\\right) + 4 \\, x^{2}} - \\frac{64 \\, \\sqrt{-2 \\, x \\frac{\\partial}{\\partial x}y\\left(x\\right) - 2 \\, y\\left(x\\right)} x y\\left(x\\right) \\mathrm{D}_{0}\\left(\\phi\\right)\\left(y\\left(x\\right), x\\right)}{x^{3} y\\left(x\\right) - 2 \\, x} - \\frac{32 \\, \\sqrt{-2 \\, x \\frac{\\partial}{\\partial x}y\\left(x\\right) - 2 \\, y\\left(x\\right)} x^{2} \\mathrm{D}_{1}\\left(\\phi\\right)\\left(y\\left(x\\right), x\\right)}{x^{3} y\\left(x\\right) - 2 \\, x} + \\frac{96 \\, \\sqrt{-2 \\, x \\frac{\\partial}{\\partial x}y\\left(x\\right) - 2 \\, y\\left(x\\right)} x y\\left(x\\right) \\mathrm{D}_{1}\\left(\\xi\\right)\\left(y\\left(x\\right), x\\right)}{x^{3} y\\left(x\\right) - 2 \\, x} + 16 \\, x \\mathrm{D}_{1, 1}\\left(\\phi\\right)\\left(y\\left(x\\right), x\\right) + \\frac{32 \\, x^{2} \\mathrm{D}_{1, 1}\\left(\\phi\\right)\\left(y\\left(x\\right), x\\right)}{x^{3} y\\left(x\\right) - 2 \\, x} - \\frac{32 \\, \\sqrt{-2 \\, x \\frac{\\partial}{\\partial x}y\\left(x\\right) - 2 \\, y\\left(x\\right)} \\xi\\left(y\\left(x\\right), x\\right) y\\left(x\\right)}{x^{3} y\\left(x\\right) - 2 \\, x} + \\frac{64 \\, x \\mathrm{D}_{1}\\left(\\phi\\right)\\left(y\\left(x\\right), x\\right)}{x^{3} y\\left(x\\right) - 2 \\, x} + 32 \\, \\mathrm{D}_{1}\\left(\\phi\\right)\\left(y\\left(x\\right), x\\right)\\)</html>"
      ],
      "text/latex": [
       "$\\displaystyle -\\frac{48 \\, x^{7} y\\left(x\\right)^{4} \\mathrm{D}_{0}\\left(\\phi\\right)\\left(y\\left(x\\right), x\\right)}{x^{6} y\\left(x\\right)^{2} - 4 \\, x^{4} y\\left(x\\right) + 4 \\, x^{2}} + \\frac{48 \\, x^{6} y\\left(x\\right)^{5} \\mathrm{D}_{0}\\left(\\xi\\right)\\left(y\\left(x\\right), x\\right)}{x^{6} y\\left(x\\right)^{2} - 4 \\, x^{4} y\\left(x\\right) + 4 \\, x^{2}} + \\frac{96 \\, x^{7} y\\left(x\\right)^{4} \\mathrm{D}_{1}\\left(\\xi\\right)\\left(y\\left(x\\right), x\\right)}{x^{6} y\\left(x\\right)^{2} - 4 \\, x^{4} y\\left(x\\right) + 4 \\, x^{2}} - \\frac{48 \\, x^{7} \\phi\\left(y\\left(x\\right), x\\right) y\\left(x\\right)^{3}}{x^{6} y\\left(x\\right)^{2} - 4 \\, x^{4} y\\left(x\\right) + 4 \\, x^{2}} - \\frac{144 \\, x^{6} \\xi\\left(y\\left(x\\right), x\\right) y\\left(x\\right)^{4}}{x^{6} y\\left(x\\right)^{2} - 4 \\, x^{4} y\\left(x\\right) + 4 \\, x^{2}} - \\frac{32 \\, \\sqrt{-2 \\, x \\frac{\\partial}{\\partial x}y\\left(x\\right) - 2 \\, y\\left(x\\right)} x^{6} y\\left(x\\right)^{3} \\mathrm{D}_{0}\\left(\\phi\\right)\\left(y\\left(x\\right), x\\right)}{x^{6} y\\left(x\\right)^{2} - 4 \\, x^{4} y\\left(x\\right) + 4 \\, x^{2}} - \\frac{8 \\, \\sqrt{-2 \\, x \\frac{\\partial}{\\partial x}y\\left(x\\right) - 2 \\, y\\left(x\\right)} x^{6} y\\left(x\\right)^{3} \\mathrm{D}_{0, 1}\\left(\\phi\\right)\\left(y\\left(x\\right), x\\right)}{x^{3} y\\left(x\\right) - 2 \\, x} - \\frac{4 \\, \\sqrt{-2 \\, x \\frac{\\partial}{\\partial x}y\\left(x\\right) - 2 \\, y\\left(x\\right)} x^{7} y\\left(x\\right)^{2} \\mathrm{D}_{1, 1}\\left(\\phi\\right)\\left(y\\left(x\\right), x\\right)}{x^{3} y\\left(x\\right) - 2 \\, x} + \\frac{64 \\, \\sqrt{-2 \\, x \\frac{\\partial}{\\partial x}y\\left(x\\right) - 2 \\, y\\left(x\\right)} x^{6} y\\left(x\\right)^{3} \\mathrm{D}_{1}\\left(\\xi\\right)\\left(y\\left(x\\right), x\\right)}{x^{6} y\\left(x\\right)^{2} - 4 \\, x^{4} y\\left(x\\right) + 4 \\, x^{2}} + \\frac{4 \\, \\sqrt{-2 \\, x \\frac{\\partial}{\\partial x}y\\left(x\\right) - 2 \\, y\\left(x\\right)} x^{6} y\\left(x\\right)^{3} \\mathrm{D}_{1, 1}\\left(\\xi\\right)\\left(y\\left(x\\right), x\\right)}{x^{3} y\\left(x\\right) - 2 \\, x} - \\frac{32 \\, \\sqrt{-2 \\, x \\frac{\\partial}{\\partial x}y\\left(x\\right) - 2 \\, y\\left(x\\right)} x^{6} \\phi\\left(y\\left(x\\right), x\\right) y\\left(x\\right)^{2}}{x^{6} y\\left(x\\right)^{2} - 4 \\, x^{4} y\\left(x\\right) + 4 \\, x^{2}} - \\frac{96 \\, \\sqrt{-2 \\, x \\frac{\\partial}{\\partial x}y\\left(x\\right) - 2 \\, y\\left(x\\right)} x^{5} \\xi\\left(y\\left(x\\right), x\\right) y\\left(x\\right)^{3}}{x^{6} y\\left(x\\right)^{2} - 4 \\, x^{4} y\\left(x\\right) + 4 \\, x^{2}} + \\frac{16 \\, \\sqrt{-2 \\, x \\frac{\\partial}{\\partial x}y\\left(x\\right) - 2 \\, y\\left(x\\right)} x^{6} y\\left(x\\right)^{2} \\mathrm{D}_{1}\\left(\\phi\\right)\\left(y\\left(x\\right), x\\right)}{x^{3} y\\left(x\\right) - 2 \\, x} + \\frac{192 \\, x^{5} y\\left(x\\right)^{3} \\mathrm{D}_{0}\\left(\\phi\\right)\\left(y\\left(x\\right), x\\right)}{x^{6} y\\left(x\\right)^{2} - 4 \\, x^{4} y\\left(x\\right) + 4 \\, x^{2}} + \\frac{8 \\, x^{6} y\\left(x\\right)^{2} \\mathrm{D}_{1, 1}\\left(\\phi\\right)\\left(y\\left(x\\right), x\\right)}{x^{3} y\\left(x\\right) - 2 \\, x} - \\frac{192 \\, x^{4} y\\left(x\\right)^{4} \\mathrm{D}_{0}\\left(\\xi\\right)\\left(y\\left(x\\right), x\\right)}{x^{6} y\\left(x\\right)^{2} - 4 \\, x^{4} y\\left(x\\right) + 4 \\, x^{2}} - \\frac{384 \\, x^{5} y\\left(x\\right)^{3} \\mathrm{D}_{1}\\left(\\xi\\right)\\left(y\\left(x\\right), x\\right)}{x^{6} y\\left(x\\right)^{2} - 4 \\, x^{4} y\\left(x\\right) + 4 \\, x^{2}} + \\frac{96 \\, x^{5} \\phi\\left(y\\left(x\\right), x\\right) y\\left(x\\right)^{2}}{x^{6} y\\left(x\\right)^{2} - 4 \\, x^{4} y\\left(x\\right) + 4 \\, x^{2}} + \\frac{384 \\, x^{4} \\xi\\left(y\\left(x\\right), x\\right) y\\left(x\\right)^{3}}{x^{6} y\\left(x\\right)^{2} - 4 \\, x^{4} y\\left(x\\right) + 4 \\, x^{2}} + \\frac{128 \\, \\sqrt{-2 \\, x \\frac{\\partial}{\\partial x}y\\left(x\\right) - 2 \\, y\\left(x\\right)} x^{4} y\\left(x\\right)^{2} \\mathrm{D}_{0}\\left(\\phi\\right)\\left(y\\left(x\\right), x\\right)}{x^{6} y\\left(x\\right)^{2} - 4 \\, x^{4} y\\left(x\\right) + 4 \\, x^{2}} + \\frac{32 \\, \\sqrt{-2 \\, x \\frac{\\partial}{\\partial x}y\\left(x\\right) - 2 \\, y\\left(x\\right)} x^{4} y\\left(x\\right)^{2} \\mathrm{D}_{0, 1}\\left(\\phi\\right)\\left(y\\left(x\\right), x\\right)}{x^{3} y\\left(x\\right) - 2 \\, x} + \\frac{16 \\, \\sqrt{-2 \\, x \\frac{\\partial}{\\partial x}y\\left(x\\right) - 2 \\, y\\left(x\\right)} x^{5} y\\left(x\\right) \\mathrm{D}_{1, 1}\\left(\\phi\\right)\\left(y\\left(x\\right), x\\right)}{x^{3} y\\left(x\\right) - 2 \\, x} - \\frac{256 \\, \\sqrt{-2 \\, x \\frac{\\partial}{\\partial x}y\\left(x\\right) - 2 \\, y\\left(x\\right)} x^{4} y\\left(x\\right)^{2} \\mathrm{D}_{1}\\left(\\xi\\right)\\left(y\\left(x\\right), x\\right)}{x^{6} y\\left(x\\right)^{2} - 4 \\, x^{4} y\\left(x\\right) + 4 \\, x^{2}} - \\frac{16 \\, \\sqrt{-2 \\, x \\frac{\\partial}{\\partial x}y\\left(x\\right) - 2 \\, y\\left(x\\right)} x^{4} y\\left(x\\right)^{2} \\mathrm{D}_{1, 1}\\left(\\xi\\right)\\left(y\\left(x\\right), x\\right)}{x^{3} y\\left(x\\right) - 2 \\, x} + \\frac{64 \\, \\sqrt{-2 \\, x \\frac{\\partial}{\\partial x}y\\left(x\\right) - 2 \\, y\\left(x\\right)} x^{4} \\phi\\left(y\\left(x\\right), x\\right) y\\left(x\\right)}{x^{6} y\\left(x\\right)^{2} - 4 \\, x^{4} y\\left(x\\right) + 4 \\, x^{2}} + \\frac{256 \\, \\sqrt{-2 \\, x \\frac{\\partial}{\\partial x}y\\left(x\\right) - 2 \\, y\\left(x\\right)} x^{3} \\xi\\left(y\\left(x\\right), x\\right) y\\left(x\\right)^{2}}{x^{6} y\\left(x\\right)^{2} - 4 \\, x^{4} y\\left(x\\right) + 4 \\, x^{2}} + \\frac{32 \\, \\sqrt{-2 \\, x \\frac{\\partial}{\\partial x}y\\left(x\\right) - 2 \\, y\\left(x\\right)} x^{3} y\\left(x\\right)^{2} \\mathrm{D}_{0}\\left(\\phi\\right)\\left(y\\left(x\\right), x\\right)}{x^{3} y\\left(x\\right) - 2 \\, x} - \\frac{16 \\, \\sqrt{-2 \\, x \\frac{\\partial}{\\partial x}y\\left(x\\right) - 2 \\, y\\left(x\\right)} x^{4} y\\left(x\\right) \\mathrm{D}_{1}\\left(\\phi\\right)\\left(y\\left(x\\right), x\\right)}{x^{3} y\\left(x\\right) - 2 \\, x} - \\frac{48 \\, \\sqrt{-2 \\, x \\frac{\\partial}{\\partial x}y\\left(x\\right) - 2 \\, y\\left(x\\right)} x^{3} y\\left(x\\right)^{2} \\mathrm{D}_{1}\\left(\\xi\\right)\\left(y\\left(x\\right), x\\right)}{x^{3} y\\left(x\\right) - 2 \\, x} - \\frac{192 \\, x^{3} y\\left(x\\right)^{2} \\mathrm{D}_{0}\\left(\\phi\\right)\\left(y\\left(x\\right), x\\right)}{x^{6} y\\left(x\\right)^{2} - 4 \\, x^{4} y\\left(x\\right) + 4 \\, x^{2}} - 8 \\, x^{3} y\\left(x\\right) \\mathrm{D}_{1, 1}\\left(\\phi\\right)\\left(y\\left(x\\right), x\\right) - \\frac{32 \\, x^{4} y\\left(x\\right) \\mathrm{D}_{1, 1}\\left(\\phi\\right)\\left(y\\left(x\\right), x\\right)}{x^{3} y\\left(x\\right) - 2 \\, x} + \\frac{192 \\, x^{2} y\\left(x\\right)^{3} \\mathrm{D}_{0}\\left(\\xi\\right)\\left(y\\left(x\\right), x\\right)}{x^{6} y\\left(x\\right)^{2} - 4 \\, x^{4} y\\left(x\\right) + 4 \\, x^{2}} + \\frac{384 \\, x^{3} y\\left(x\\right)^{2} \\mathrm{D}_{1}\\left(\\xi\\right)\\left(y\\left(x\\right), x\\right)}{x^{6} y\\left(x\\right)^{2} - 4 \\, x^{4} y\\left(x\\right) + 4 \\, x^{2}} + \\frac{16 \\, \\sqrt{-2 \\, x \\frac{\\partial}{\\partial x}y\\left(x\\right) - 2 \\, y\\left(x\\right)} x^{3} \\phi\\left(y\\left(x\\right), x\\right) y\\left(x\\right)}{x^{3} y\\left(x\\right) - 2 \\, x} + \\frac{48 \\, \\sqrt{-2 \\, x \\frac{\\partial}{\\partial x}y\\left(x\\right) - 2 \\, y\\left(x\\right)} x^{2} \\xi\\left(y\\left(x\\right), x\\right) y\\left(x\\right)^{2}}{x^{3} y\\left(x\\right) - 2 \\, x} - \\frac{192 \\, x^{2} \\xi\\left(y\\left(x\\right), x\\right) y\\left(x\\right)^{2}}{x^{6} y\\left(x\\right)^{2} - 4 \\, x^{4} y\\left(x\\right) + 4 \\, x^{2}} + 24 \\, x y\\left(x\\right)^{2} \\mathrm{D}_{0}\\left(\\phi\\right)\\left(y\\left(x\\right), x\\right) + 48 \\, x^{2} y\\left(x\\right) \\mathrm{D}_{1}\\left(\\phi\\right)\\left(y\\left(x\\right), x\\right) - \\frac{32 \\, x^{3} y\\left(x\\right) \\mathrm{D}_{1}\\left(\\phi\\right)\\left(y\\left(x\\right), x\\right)}{x^{3} y\\left(x\\right) - 2 \\, x} - 24 \\, x y\\left(x\\right)^{2} \\mathrm{D}_{1}\\left(\\xi\\right)\\left(y\\left(x\\right), x\\right) - \\frac{128 \\, \\sqrt{-2 \\, x \\frac{\\partial}{\\partial x}y\\left(x\\right) - 2 \\, y\\left(x\\right)} x^{2} y\\left(x\\right) \\mathrm{D}_{0}\\left(\\phi\\right)\\left(y\\left(x\\right), x\\right)}{x^{6} y\\left(x\\right)^{2} - 4 \\, x^{4} y\\left(x\\right) + 4 \\, x^{2}} - \\frac{32 \\, \\sqrt{-2 \\, x \\frac{\\partial}{\\partial x}y\\left(x\\right) - 2 \\, y\\left(x\\right)} x^{2} y\\left(x\\right) \\mathrm{D}_{0, 1}\\left(\\phi\\right)\\left(y\\left(x\\right), x\\right)}{x^{3} y\\left(x\\right) - 2 \\, x} - \\frac{16 \\, \\sqrt{-2 \\, x \\frac{\\partial}{\\partial x}y\\left(x\\right) - 2 \\, y\\left(x\\right)} x^{3} \\mathrm{D}_{1, 1}\\left(\\phi\\right)\\left(y\\left(x\\right), x\\right)}{x^{3} y\\left(x\\right) - 2 \\, x} + \\frac{256 \\, \\sqrt{-2 \\, x \\frac{\\partial}{\\partial x}y\\left(x\\right) - 2 \\, y\\left(x\\right)} x^{2} y\\left(x\\right) \\mathrm{D}_{1}\\left(\\xi\\right)\\left(y\\left(x\\right), x\\right)}{x^{6} y\\left(x\\right)^{2} - 4 \\, x^{4} y\\left(x\\right) + 4 \\, x^{2}} + \\frac{16 \\, \\sqrt{-2 \\, x \\frac{\\partial}{\\partial x}y\\left(x\\right) - 2 \\, y\\left(x\\right)} x^{2} y\\left(x\\right) \\mathrm{D}_{1, 1}\\left(\\xi\\right)\\left(y\\left(x\\right), x\\right)}{x^{3} y\\left(x\\right) - 2 \\, x} + 48 \\, x \\phi\\left(y\\left(x\\right), x\\right) y\\left(x\\right) + 24 \\, \\xi\\left(y\\left(x\\right), x\\right) y\\left(x\\right)^{2} - \\frac{128 \\, \\sqrt{-2 \\, x \\frac{\\partial}{\\partial x}y\\left(x\\right) - 2 \\, y\\left(x\\right)} x \\xi\\left(y\\left(x\\right), x\\right) y\\left(x\\right)}{x^{6} y\\left(x\\right)^{2} - 4 \\, x^{4} y\\left(x\\right) + 4 \\, x^{2}} - \\frac{64 \\, \\sqrt{-2 \\, x \\frac{\\partial}{\\partial x}y\\left(x\\right) - 2 \\, y\\left(x\\right)} x y\\left(x\\right) \\mathrm{D}_{0}\\left(\\phi\\right)\\left(y\\left(x\\right), x\\right)}{x^{3} y\\left(x\\right) - 2 \\, x} - \\frac{32 \\, \\sqrt{-2 \\, x \\frac{\\partial}{\\partial x}y\\left(x\\right) - 2 \\, y\\left(x\\right)} x^{2} \\mathrm{D}_{1}\\left(\\phi\\right)\\left(y\\left(x\\right), x\\right)}{x^{3} y\\left(x\\right) - 2 \\, x} + \\frac{96 \\, \\sqrt{-2 \\, x \\frac{\\partial}{\\partial x}y\\left(x\\right) - 2 \\, y\\left(x\\right)} x y\\left(x\\right) \\mathrm{D}_{1}\\left(\\xi\\right)\\left(y\\left(x\\right), x\\right)}{x^{3} y\\left(x\\right) - 2 \\, x} + 16 \\, x \\mathrm{D}_{1, 1}\\left(\\phi\\right)\\left(y\\left(x\\right), x\\right) + \\frac{32 \\, x^{2} \\mathrm{D}_{1, 1}\\left(\\phi\\right)\\left(y\\left(x\\right), x\\right)}{x^{3} y\\left(x\\right) - 2 \\, x} - \\frac{32 \\, \\sqrt{-2 \\, x \\frac{\\partial}{\\partial x}y\\left(x\\right) - 2 \\, y\\left(x\\right)} \\xi\\left(y\\left(x\\right), x\\right) y\\left(x\\right)}{x^{3} y\\left(x\\right) - 2 \\, x} + \\frac{64 \\, x \\mathrm{D}_{1}\\left(\\phi\\right)\\left(y\\left(x\\right), x\\right)}{x^{3} y\\left(x\\right) - 2 \\, x} + 32 \\, \\mathrm{D}_{1}\\left(\\phi\\right)\\left(y\\left(x\\right), x\\right)$"
      ],
      "text/plain": [
       "-48*x^7*y(x)^4*D[0](phi)(y(x), x)/(x^6*y(x)^2 - 4*x^4*y(x) + 4*x^2) + 48*x^6*y(x)^5*D[0](xi)(y(x), x)/(x^6*y(x)^2 - 4*x^4*y(x) + 4*x^2) + 96*x^7*y(x)^4*D[1](xi)(y(x), x)/(x^6*y(x)^2 - 4*x^4*y(x) + 4*x^2) - 48*x^7*phi(y(x), x)*y(x)^3/(x^6*y(x)^2 - 4*x^4*y(x) + 4*x^2) - 144*x^6*xi(y(x), x)*y(x)^4/(x^6*y(x)^2 - 4*x^4*y(x) + 4*x^2) - 32*sqrt(-2*x*diff(y(x), x) - 2*y(x))*x^6*y(x)^3*D[0](phi)(y(x), x)/(x^6*y(x)^2 - 4*x^4*y(x) + 4*x^2) - 8*sqrt(-2*x*diff(y(x), x) - 2*y(x))*x^6*y(x)^3*D[0, 1](phi)(y(x), x)/(x^3*y(x) - 2*x) - 4*sqrt(-2*x*diff(y(x), x) - 2*y(x))*x^7*y(x)^2*D[1, 1](phi)(y(x), x)/(x^3*y(x) - 2*x) + 64*sqrt(-2*x*diff(y(x), x) - 2*y(x))*x^6*y(x)^3*D[1](xi)(y(x), x)/(x^6*y(x)^2 - 4*x^4*y(x) + 4*x^2) + 4*sqrt(-2*x*diff(y(x), x) - 2*y(x))*x^6*y(x)^3*D[1, 1](xi)(y(x), x)/(x^3*y(x) - 2*x) - 32*sqrt(-2*x*diff(y(x), x) - 2*y(x))*x^6*phi(y(x), x)*y(x)^2/(x^6*y(x)^2 - 4*x^4*y(x) + 4*x^2) - 96*sqrt(-2*x*diff(y(x), x) - 2*y(x))*x^5*xi(y(x), x)*y(x)^3/(x^6*y(x)^2 - 4*x^4*y(x) + 4*x^2) + 16*sqrt(-2*x*diff(y(x), x) - 2*y(x))*x^6*y(x)^2*D[1](phi)(y(x), x)/(x^3*y(x) - 2*x) + 192*x^5*y(x)^3*D[0](phi)(y(x), x)/(x^6*y(x)^2 - 4*x^4*y(x) + 4*x^2) + 8*x^6*y(x)^2*D[1, 1](phi)(y(x), x)/(x^3*y(x) - 2*x) - 192*x^4*y(x)^4*D[0](xi)(y(x), x)/(x^6*y(x)^2 - 4*x^4*y(x) + 4*x^2) - 384*x^5*y(x)^3*D[1](xi)(y(x), x)/(x^6*y(x)^2 - 4*x^4*y(x) + 4*x^2) + 96*x^5*phi(y(x), x)*y(x)^2/(x^6*y(x)^2 - 4*x^4*y(x) + 4*x^2) + 384*x^4*xi(y(x), x)*y(x)^3/(x^6*y(x)^2 - 4*x^4*y(x) + 4*x^2) + 128*sqrt(-2*x*diff(y(x), x) - 2*y(x))*x^4*y(x)^2*D[0](phi)(y(x), x)/(x^6*y(x)^2 - 4*x^4*y(x) + 4*x^2) + 32*sqrt(-2*x*diff(y(x), x) - 2*y(x))*x^4*y(x)^2*D[0, 1](phi)(y(x), x)/(x^3*y(x) - 2*x) + 16*sqrt(-2*x*diff(y(x), x) - 2*y(x))*x^5*y(x)*D[1, 1](phi)(y(x), x)/(x^3*y(x) - 2*x) - 256*sqrt(-2*x*diff(y(x), x) - 2*y(x))*x^4*y(x)^2*D[1](xi)(y(x), x)/(x^6*y(x)^2 - 4*x^4*y(x) + 4*x^2) - 16*sqrt(-2*x*diff(y(x), x) - 2*y(x))*x^4*y(x)^2*D[1, 1](xi)(y(x), x)/(x^3*y(x) - 2*x) + 64*sqrt(-2*x*diff(y(x), x) - 2*y(x))*x^4*phi(y(x), x)*y(x)/(x^6*y(x)^2 - 4*x^4*y(x) + 4*x^2) + 256*sqrt(-2*x*diff(y(x), x) - 2*y(x))*x^3*xi(y(x), x)*y(x)^2/(x^6*y(x)^2 - 4*x^4*y(x) + 4*x^2) + 32*sqrt(-2*x*diff(y(x), x) - 2*y(x))*x^3*y(x)^2*D[0](phi)(y(x), x)/(x^3*y(x) - 2*x) - 16*sqrt(-2*x*diff(y(x), x) - 2*y(x))*x^4*y(x)*D[1](phi)(y(x), x)/(x^3*y(x) - 2*x) - 48*sqrt(-2*x*diff(y(x), x) - 2*y(x))*x^3*y(x)^2*D[1](xi)(y(x), x)/(x^3*y(x) - 2*x) - 192*x^3*y(x)^2*D[0](phi)(y(x), x)/(x^6*y(x)^2 - 4*x^4*y(x) + 4*x^2) - 8*x^3*y(x)*D[1, 1](phi)(y(x), x) - 32*x^4*y(x)*D[1, 1](phi)(y(x), x)/(x^3*y(x) - 2*x) + 192*x^2*y(x)^3*D[0](xi)(y(x), x)/(x^6*y(x)^2 - 4*x^4*y(x) + 4*x^2) + 384*x^3*y(x)^2*D[1](xi)(y(x), x)/(x^6*y(x)^2 - 4*x^4*y(x) + 4*x^2) + 16*sqrt(-2*x*diff(y(x), x) - 2*y(x))*x^3*phi(y(x), x)*y(x)/(x^3*y(x) - 2*x) + 48*sqrt(-2*x*diff(y(x), x) - 2*y(x))*x^2*xi(y(x), x)*y(x)^2/(x^3*y(x) - 2*x) - 192*x^2*xi(y(x), x)*y(x)^2/(x^6*y(x)^2 - 4*x^4*y(x) + 4*x^2) + 24*x*y(x)^2*D[0](phi)(y(x), x) + 48*x^2*y(x)*D[1](phi)(y(x), x) - 32*x^3*y(x)*D[1](phi)(y(x), x)/(x^3*y(x) - 2*x) - 24*x*y(x)^2*D[1](xi)(y(x), x) - 128*sqrt(-2*x*diff(y(x), x) - 2*y(x))*x^2*y(x)*D[0](phi)(y(x), x)/(x^6*y(x)^2 - 4*x^4*y(x) + 4*x^2) - 32*sqrt(-2*x*diff(y(x), x) - 2*y(x))*x^2*y(x)*D[0, 1](phi)(y(x), x)/(x^3*y(x) - 2*x) - 16*sqrt(-2*x*diff(y(x), x) - 2*y(x))*x^3*D[1, 1](phi)(y(x), x)/(x^3*y(x) - 2*x) + 256*sqrt(-2*x*diff(y(x), x) - 2*y(x))*x^2*y(x)*D[1](xi)(y(x), x)/(x^6*y(x)^2 - 4*x^4*y(x) + 4*x^2) + 16*sqrt(-2*x*diff(y(x), x) - 2*y(x))*x^2*y(x)*D[1, 1](xi)(y(x), x)/(x^3*y(x) - 2*x) + 48*x*phi(y(x), x)*y(x) + 24*xi(y(x), x)*y(x)^2 - 128*sqrt(-2*x*diff(y(x), x) - 2*y(x))*x*xi(y(x), x)*y(x)/(x^6*y(x)^2 - 4*x^4*y(x) + 4*x^2) - 64*sqrt(-2*x*diff(y(x), x) - 2*y(x))*x*y(x)*D[0](phi)(y(x), x)/(x^3*y(x) - 2*x) - 32*sqrt(-2*x*diff(y(x), x) - 2*y(x))*x^2*D[1](phi)(y(x), x)/(x^3*y(x) - 2*x) + 96*sqrt(-2*x*diff(y(x), x) - 2*y(x))*x*y(x)*D[1](xi)(y(x), x)/(x^3*y(x) - 2*x) + 16*x*D[1, 1](phi)(y(x), x) + 32*x^2*D[1, 1](phi)(y(x), x)/(x^3*y(x) - 2*x) - 32*sqrt(-2*x*diff(y(x), x) - 2*y(x))*xi(y(x), x)*y(x)/(x^3*y(x) - 2*x) + 64*x*D[1](phi)(y(x), x)/(x^3*y(x) - 2*x) + 32*D[1](phi)(y(x), x)"
      ]
     },
     "metadata": {},
     "output_type": "display_data"
    },
    {
     "data": {
      "text/html": [
       "<html>\\(\\displaystyle -\\frac{24 \\, x^{12} y\\left(x\\right)^{2} \\mathrm{D}_{0}\\left(\\xi\\right)\\left(y\\left(x\\right), x\\right) \\frac{\\partial}{\\partial x}y\\left(x\\right)^{5}}{x^{6} y\\left(x\\right)^{2} - 4 \\, x^{4} y\\left(x\\right) + 4 \\, x^{2}} + \\frac{96 \\, x^{10} y\\left(x\\right) \\mathrm{D}_{0}\\left(\\xi\\right)\\left(y\\left(x\\right), x\\right) \\frac{\\partial}{\\partial x}y\\left(x\\right)^{5}}{x^{6} y\\left(x\\right)^{2} - 4 \\, x^{4} y\\left(x\\right) + 4 \\, x^{2}} - \\frac{4 \\, x^{9} y\\left(x\\right)^{2} \\mathrm{D}_{0, 0}\\left(\\xi\\right)\\left(y\\left(x\\right), x\\right) \\frac{\\partial}{\\partial x}y\\left(x\\right)^{5}}{x^{3} y\\left(x\\right) - 2 \\, x} + \\frac{40 \\, x^{9} y\\left(x\\right) \\mathrm{D}_{0}\\left(\\xi\\right)\\left(y\\left(x\\right), x\\right) \\frac{\\partial}{\\partial x}y\\left(x\\right)^{5}}{x^{3} y\\left(x\\right) - 2 \\, x} - \\frac{96 \\, x^{8} \\mathrm{D}_{0}\\left(\\xi\\right)\\left(y\\left(x\\right), x\\right) \\frac{\\partial}{\\partial x}y\\left(x\\right)^{5}}{x^{6} y\\left(x\\right)^{2} - 4 \\, x^{4} y\\left(x\\right) + 4 \\, x^{2}} + \\frac{16 \\, x^{7} y\\left(x\\right) \\mathrm{D}_{0, 0}\\left(\\xi\\right)\\left(y\\left(x\\right), x\\right) \\frac{\\partial}{\\partial x}y\\left(x\\right)^{5}}{x^{3} y\\left(x\\right) - 2 \\, x} - \\frac{80 \\, x^{7} \\mathrm{D}_{0}\\left(\\xi\\right)\\left(y\\left(x\\right), x\\right) \\frac{\\partial}{\\partial x}y\\left(x\\right)^{5}}{x^{3} y\\left(x\\right) - 2 \\, x} - \\frac{16 \\, x^{6} y\\left(x\\right)^{5} \\mathrm{D}_{0}\\left(\\phi\\right)\\left(y\\left(x\\right), x\\right)}{x^{6} y\\left(x\\right)^{2} - 4 \\, x^{4} y\\left(x\\right) + 4 \\, x^{2}} + \\frac{32 \\, x^{6} y\\left(x\\right)^{5} \\mathrm{D}_{1}\\left(\\xi\\right)\\left(y\\left(x\\right), x\\right)}{x^{6} y\\left(x\\right)^{2} - 4 \\, x^{4} y\\left(x\\right) + 4 \\, x^{2}} - \\frac{16 \\, x^{6} \\phi\\left(y\\left(x\\right), x\\right) y\\left(x\\right)^{4}}{x^{6} y\\left(x\\right)^{2} - 4 \\, x^{4} y\\left(x\\right) + 4 \\, x^{2}} - \\frac{48 \\, x^{5} \\xi\\left(y\\left(x\\right), x\\right) y\\left(x\\right)^{5}}{x^{6} y\\left(x\\right)^{2} - 4 \\, x^{4} y\\left(x\\right) + 4 \\, x^{2}} - \\frac{16 \\, x^{5} \\mathrm{D}_{0, 0}\\left(\\xi\\right)\\left(y\\left(x\\right), x\\right) \\frac{\\partial}{\\partial x}y\\left(x\\right)^{5}}{x^{3} y\\left(x\\right) - 2 \\, x} - \\frac{4 \\, \\sqrt{-2 \\, x \\frac{\\partial}{\\partial x}y\\left(x\\right) - 2 \\, y\\left(x\\right)} x^{6} y\\left(x\\right)^{3} \\mathrm{D}_{1, 1}\\left(\\phi\\right)\\left(y\\left(x\\right), x\\right)}{x^{3} y\\left(x\\right) - 2 \\, x} + \\frac{64 \\, x^{4} y\\left(x\\right)^{4} \\mathrm{D}_{0}\\left(\\phi\\right)\\left(y\\left(x\\right), x\\right)}{x^{6} y\\left(x\\right)^{2} - 4 \\, x^{4} y\\left(x\\right) + 4 \\, x^{2}} - \\frac{128 \\, x^{4} y\\left(x\\right)^{4} \\mathrm{D}_{1}\\left(\\xi\\right)\\left(y\\left(x\\right), x\\right)}{x^{6} y\\left(x\\right)^{2} - 4 \\, x^{4} y\\left(x\\right) + 4 \\, x^{2}} + \\frac{32 \\, x^{4} \\phi\\left(y\\left(x\\right), x\\right) y\\left(x\\right)^{3}}{x^{6} y\\left(x\\right)^{2} - 4 \\, x^{4} y\\left(x\\right) + 4 \\, x^{2}} + \\frac{128 \\, x^{3} \\xi\\left(y\\left(x\\right), x\\right) y\\left(x\\right)^{4}}{x^{6} y\\left(x\\right)^{2} - 4 \\, x^{4} y\\left(x\\right) + 4 \\, x^{2}} + \\frac{16 \\, \\sqrt{-2 \\, x \\frac{\\partial}{\\partial x}y\\left(x\\right) - 2 \\, y\\left(x\\right)} x^{4} y\\left(x\\right)^{2} \\mathrm{D}_{1, 1}\\left(\\phi\\right)\\left(y\\left(x\\right), x\\right)}{x^{3} y\\left(x\\right) - 2 \\, x} + \\frac{16 \\, \\sqrt{-2 \\, x \\frac{\\partial}{\\partial x}y\\left(x\\right) - 2 \\, y\\left(x\\right)} x^{3} y\\left(x\\right)^{2} \\mathrm{D}_{1}\\left(\\phi\\right)\\left(y\\left(x\\right), x\\right)}{x^{3} y\\left(x\\right) - 2 \\, x} - \\frac{64 \\, x^{2} y\\left(x\\right)^{3} \\mathrm{D}_{0}\\left(\\phi\\right)\\left(y\\left(x\\right), x\\right)}{x^{6} y\\left(x\\right)^{2} - 4 \\, x^{4} y\\left(x\\right) + 4 \\, x^{2}} + \\frac{128 \\, x^{2} y\\left(x\\right)^{3} \\mathrm{D}_{1}\\left(\\xi\\right)\\left(y\\left(x\\right), x\\right)}{x^{6} y\\left(x\\right)^{2} - 4 \\, x^{4} y\\left(x\\right) + 4 \\, x^{2}} - \\frac{64 \\, x \\xi\\left(y\\left(x\\right), x\\right) y\\left(x\\right)^{3}}{x^{6} y\\left(x\\right)^{2} - 4 \\, x^{4} y\\left(x\\right) + 4 \\, x^{2}} + 24 \\, x y\\left(x\\right)^{2} \\mathrm{D}_{1}\\left(\\phi\\right)\\left(y\\left(x\\right), x\\right) - \\frac{16 \\, \\sqrt{-2 \\, x \\frac{\\partial}{\\partial x}y\\left(x\\right) - 2 \\, y\\left(x\\right)} x^{2} y\\left(x\\right) \\mathrm{D}_{1, 1}\\left(\\phi\\right)\\left(y\\left(x\\right), x\\right)}{x^{3} y\\left(x\\right) - 2 \\, x} + 24 \\, \\phi\\left(y\\left(x\\right), x\\right) y\\left(x\\right)^{2} - \\frac{32 \\, \\sqrt{-2 \\, x \\frac{\\partial}{\\partial x}y\\left(x\\right) - 2 \\, y\\left(x\\right)} x y\\left(x\\right) \\mathrm{D}_{1}\\left(\\phi\\right)\\left(y\\left(x\\right), x\\right)}{x^{3} y\\left(x\\right) - 2 \\, x}\\)</html>"
      ],
      "text/latex": [
       "$\\displaystyle -\\frac{24 \\, x^{12} y\\left(x\\right)^{2} \\mathrm{D}_{0}\\left(\\xi\\right)\\left(y\\left(x\\right), x\\right) \\frac{\\partial}{\\partial x}y\\left(x\\right)^{5}}{x^{6} y\\left(x\\right)^{2} - 4 \\, x^{4} y\\left(x\\right) + 4 \\, x^{2}} + \\frac{96 \\, x^{10} y\\left(x\\right) \\mathrm{D}_{0}\\left(\\xi\\right)\\left(y\\left(x\\right), x\\right) \\frac{\\partial}{\\partial x}y\\left(x\\right)^{5}}{x^{6} y\\left(x\\right)^{2} - 4 \\, x^{4} y\\left(x\\right) + 4 \\, x^{2}} - \\frac{4 \\, x^{9} y\\left(x\\right)^{2} \\mathrm{D}_{0, 0}\\left(\\xi\\right)\\left(y\\left(x\\right), x\\right) \\frac{\\partial}{\\partial x}y\\left(x\\right)^{5}}{x^{3} y\\left(x\\right) - 2 \\, x} + \\frac{40 \\, x^{9} y\\left(x\\right) \\mathrm{D}_{0}\\left(\\xi\\right)\\left(y\\left(x\\right), x\\right) \\frac{\\partial}{\\partial x}y\\left(x\\right)^{5}}{x^{3} y\\left(x\\right) - 2 \\, x} - \\frac{96 \\, x^{8} \\mathrm{D}_{0}\\left(\\xi\\right)\\left(y\\left(x\\right), x\\right) \\frac{\\partial}{\\partial x}y\\left(x\\right)^{5}}{x^{6} y\\left(x\\right)^{2} - 4 \\, x^{4} y\\left(x\\right) + 4 \\, x^{2}} + \\frac{16 \\, x^{7} y\\left(x\\right) \\mathrm{D}_{0, 0}\\left(\\xi\\right)\\left(y\\left(x\\right), x\\right) \\frac{\\partial}{\\partial x}y\\left(x\\right)^{5}}{x^{3} y\\left(x\\right) - 2 \\, x} - \\frac{80 \\, x^{7} \\mathrm{D}_{0}\\left(\\xi\\right)\\left(y\\left(x\\right), x\\right) \\frac{\\partial}{\\partial x}y\\left(x\\right)^{5}}{x^{3} y\\left(x\\right) - 2 \\, x} - \\frac{16 \\, x^{6} y\\left(x\\right)^{5} \\mathrm{D}_{0}\\left(\\phi\\right)\\left(y\\left(x\\right), x\\right)}{x^{6} y\\left(x\\right)^{2} - 4 \\, x^{4} y\\left(x\\right) + 4 \\, x^{2}} + \\frac{32 \\, x^{6} y\\left(x\\right)^{5} \\mathrm{D}_{1}\\left(\\xi\\right)\\left(y\\left(x\\right), x\\right)}{x^{6} y\\left(x\\right)^{2} - 4 \\, x^{4} y\\left(x\\right) + 4 \\, x^{2}} - \\frac{16 \\, x^{6} \\phi\\left(y\\left(x\\right), x\\right) y\\left(x\\right)^{4}}{x^{6} y\\left(x\\right)^{2} - 4 \\, x^{4} y\\left(x\\right) + 4 \\, x^{2}} - \\frac{48 \\, x^{5} \\xi\\left(y\\left(x\\right), x\\right) y\\left(x\\right)^{5}}{x^{6} y\\left(x\\right)^{2} - 4 \\, x^{4} y\\left(x\\right) + 4 \\, x^{2}} - \\frac{16 \\, x^{5} \\mathrm{D}_{0, 0}\\left(\\xi\\right)\\left(y\\left(x\\right), x\\right) \\frac{\\partial}{\\partial x}y\\left(x\\right)^{5}}{x^{3} y\\left(x\\right) - 2 \\, x} - \\frac{4 \\, \\sqrt{-2 \\, x \\frac{\\partial}{\\partial x}y\\left(x\\right) - 2 \\, y\\left(x\\right)} x^{6} y\\left(x\\right)^{3} \\mathrm{D}_{1, 1}\\left(\\phi\\right)\\left(y\\left(x\\right), x\\right)}{x^{3} y\\left(x\\right) - 2 \\, x} + \\frac{64 \\, x^{4} y\\left(x\\right)^{4} \\mathrm{D}_{0}\\left(\\phi\\right)\\left(y\\left(x\\right), x\\right)}{x^{6} y\\left(x\\right)^{2} - 4 \\, x^{4} y\\left(x\\right) + 4 \\, x^{2}} - \\frac{128 \\, x^{4} y\\left(x\\right)^{4} \\mathrm{D}_{1}\\left(\\xi\\right)\\left(y\\left(x\\right), x\\right)}{x^{6} y\\left(x\\right)^{2} - 4 \\, x^{4} y\\left(x\\right) + 4 \\, x^{2}} + \\frac{32 \\, x^{4} \\phi\\left(y\\left(x\\right), x\\right) y\\left(x\\right)^{3}}{x^{6} y\\left(x\\right)^{2} - 4 \\, x^{4} y\\left(x\\right) + 4 \\, x^{2}} + \\frac{128 \\, x^{3} \\xi\\left(y\\left(x\\right), x\\right) y\\left(x\\right)^{4}}{x^{6} y\\left(x\\right)^{2} - 4 \\, x^{4} y\\left(x\\right) + 4 \\, x^{2}} + \\frac{16 \\, \\sqrt{-2 \\, x \\frac{\\partial}{\\partial x}y\\left(x\\right) - 2 \\, y\\left(x\\right)} x^{4} y\\left(x\\right)^{2} \\mathrm{D}_{1, 1}\\left(\\phi\\right)\\left(y\\left(x\\right), x\\right)}{x^{3} y\\left(x\\right) - 2 \\, x} + \\frac{16 \\, \\sqrt{-2 \\, x \\frac{\\partial}{\\partial x}y\\left(x\\right) - 2 \\, y\\left(x\\right)} x^{3} y\\left(x\\right)^{2} \\mathrm{D}_{1}\\left(\\phi\\right)\\left(y\\left(x\\right), x\\right)}{x^{3} y\\left(x\\right) - 2 \\, x} - \\frac{64 \\, x^{2} y\\left(x\\right)^{3} \\mathrm{D}_{0}\\left(\\phi\\right)\\left(y\\left(x\\right), x\\right)}{x^{6} y\\left(x\\right)^{2} - 4 \\, x^{4} y\\left(x\\right) + 4 \\, x^{2}} + \\frac{128 \\, x^{2} y\\left(x\\right)^{3} \\mathrm{D}_{1}\\left(\\xi\\right)\\left(y\\left(x\\right), x\\right)}{x^{6} y\\left(x\\right)^{2} - 4 \\, x^{4} y\\left(x\\right) + 4 \\, x^{2}} - \\frac{64 \\, x \\xi\\left(y\\left(x\\right), x\\right) y\\left(x\\right)^{3}}{x^{6} y\\left(x\\right)^{2} - 4 \\, x^{4} y\\left(x\\right) + 4 \\, x^{2}} + 24 \\, x y\\left(x\\right)^{2} \\mathrm{D}_{1}\\left(\\phi\\right)\\left(y\\left(x\\right), x\\right) - \\frac{16 \\, \\sqrt{-2 \\, x \\frac{\\partial}{\\partial x}y\\left(x\\right) - 2 \\, y\\left(x\\right)} x^{2} y\\left(x\\right) \\mathrm{D}_{1, 1}\\left(\\phi\\right)\\left(y\\left(x\\right), x\\right)}{x^{3} y\\left(x\\right) - 2 \\, x} + 24 \\, \\phi\\left(y\\left(x\\right), x\\right) y\\left(x\\right)^{2} - \\frac{32 \\, \\sqrt{-2 \\, x \\frac{\\partial}{\\partial x}y\\left(x\\right) - 2 \\, y\\left(x\\right)} x y\\left(x\\right) \\mathrm{D}_{1}\\left(\\phi\\right)\\left(y\\left(x\\right), x\\right)}{x^{3} y\\left(x\\right) - 2 \\, x}$"
      ],
      "text/plain": [
       "-24*x^12*y(x)^2*D[0](xi)(y(x), x)*diff(y(x), x)^5/(x^6*y(x)^2 - 4*x^4*y(x) + 4*x^2) + 96*x^10*y(x)*D[0](xi)(y(x), x)*diff(y(x), x)^5/(x^6*y(x)^2 - 4*x^4*y(x) + 4*x^2) - 4*x^9*y(x)^2*D[0, 0](xi)(y(x), x)*diff(y(x), x)^5/(x^3*y(x) - 2*x) + 40*x^9*y(x)*D[0](xi)(y(x), x)*diff(y(x), x)^5/(x^3*y(x) - 2*x) - 96*x^8*D[0](xi)(y(x), x)*diff(y(x), x)^5/(x^6*y(x)^2 - 4*x^4*y(x) + 4*x^2) + 16*x^7*y(x)*D[0, 0](xi)(y(x), x)*diff(y(x), x)^5/(x^3*y(x) - 2*x) - 80*x^7*D[0](xi)(y(x), x)*diff(y(x), x)^5/(x^3*y(x) - 2*x) - 16*x^6*y(x)^5*D[0](phi)(y(x), x)/(x^6*y(x)^2 - 4*x^4*y(x) + 4*x^2) + 32*x^6*y(x)^5*D[1](xi)(y(x), x)/(x^6*y(x)^2 - 4*x^4*y(x) + 4*x^2) - 16*x^6*phi(y(x), x)*y(x)^4/(x^6*y(x)^2 - 4*x^4*y(x) + 4*x^2) - 48*x^5*xi(y(x), x)*y(x)^5/(x^6*y(x)^2 - 4*x^4*y(x) + 4*x^2) - 16*x^5*D[0, 0](xi)(y(x), x)*diff(y(x), x)^5/(x^3*y(x) - 2*x) - 4*sqrt(-2*x*diff(y(x), x) - 2*y(x))*x^6*y(x)^3*D[1, 1](phi)(y(x), x)/(x^3*y(x) - 2*x) + 64*x^4*y(x)^4*D[0](phi)(y(x), x)/(x^6*y(x)^2 - 4*x^4*y(x) + 4*x^2) - 128*x^4*y(x)^4*D[1](xi)(y(x), x)/(x^6*y(x)^2 - 4*x^4*y(x) + 4*x^2) + 32*x^4*phi(y(x), x)*y(x)^3/(x^6*y(x)^2 - 4*x^4*y(x) + 4*x^2) + 128*x^3*xi(y(x), x)*y(x)^4/(x^6*y(x)^2 - 4*x^4*y(x) + 4*x^2) + 16*sqrt(-2*x*diff(y(x), x) - 2*y(x))*x^4*y(x)^2*D[1, 1](phi)(y(x), x)/(x^3*y(x) - 2*x) + 16*sqrt(-2*x*diff(y(x), x) - 2*y(x))*x^3*y(x)^2*D[1](phi)(y(x), x)/(x^3*y(x) - 2*x) - 64*x^2*y(x)^3*D[0](phi)(y(x), x)/(x^6*y(x)^2 - 4*x^4*y(x) + 4*x^2) + 128*x^2*y(x)^3*D[1](xi)(y(x), x)/(x^6*y(x)^2 - 4*x^4*y(x) + 4*x^2) - 64*x*xi(y(x), x)*y(x)^3/(x^6*y(x)^2 - 4*x^4*y(x) + 4*x^2) + 24*x*y(x)^2*D[1](phi)(y(x), x) - 16*sqrt(-2*x*diff(y(x), x) - 2*y(x))*x^2*y(x)*D[1, 1](phi)(y(x), x)/(x^3*y(x) - 2*x) + 24*phi(y(x), x)*y(x)^2 - 32*sqrt(-2*x*diff(y(x), x) - 2*y(x))*x*y(x)*D[1](phi)(y(x), x)/(x^3*y(x) - 2*x)"
      ]
     },
     "metadata": {},
     "output_type": "display_data"
    },
    {
     "name": "stdout",
     "output_type": "stream",
     "text": [
      "Janet basis\n"
     ]
    },
    {
     "ename": "TypeError",
     "evalue": "ECL says: THROW: The catch RAT-ERR is undefined.",
     "output_type": "error",
     "traceback": [
      "\u001b[0;31m---------------------------------------------------------------------------\u001b[0m",
      "\u001b[0;31mRuntimeError\u001b[0m                              Traceback (most recent call last)",
      "\u001b[0;32m/researches/mambaforge/envs/sage/lib/python3.10/site-packages/sage/interfaces/interface.py\u001b[0m in \u001b[0;36m__init__\u001b[0;34m(self, parent, value, is_name, name)\u001b[0m\n\u001b[1;32m    731\u001b[0m             \u001b[0;32mtry\u001b[0m\u001b[0;34m:\u001b[0m\u001b[0;34m\u001b[0m\u001b[0;34m\u001b[0m\u001b[0m\n\u001b[0;32m--> 732\u001b[0;31m                 \u001b[0mself\u001b[0m\u001b[0;34m.\u001b[0m\u001b[0m_name\u001b[0m \u001b[0;34m=\u001b[0m \u001b[0mparent\u001b[0m\u001b[0;34m.\u001b[0m\u001b[0m_create\u001b[0m\u001b[0;34m(\u001b[0m\u001b[0mvalue\u001b[0m\u001b[0;34m,\u001b[0m \u001b[0mname\u001b[0m\u001b[0;34m=\u001b[0m\u001b[0mname\u001b[0m\u001b[0;34m)\u001b[0m\u001b[0;34m\u001b[0m\u001b[0;34m\u001b[0m\u001b[0m\n\u001b[0m\u001b[1;32m    733\u001b[0m             \u001b[0;32mexcept\u001b[0m \u001b[0;34m(\u001b[0m\u001b[0mTypeError\u001b[0m\u001b[0;34m,\u001b[0m \u001b[0mRuntimeError\u001b[0m\u001b[0;34m,\u001b[0m \u001b[0mValueError\u001b[0m\u001b[0;34m)\u001b[0m \u001b[0;32mas\u001b[0m \u001b[0mx\u001b[0m\u001b[0;34m:\u001b[0m\u001b[0;34m\u001b[0m\u001b[0;34m\u001b[0m\u001b[0m\n",
      "\u001b[0;32m/researches/mambaforge/envs/sage/lib/python3.10/site-packages/sage/interfaces/maxima_lib.py\u001b[0m in \u001b[0;36m_create\u001b[0;34m(self, value, name)\u001b[0m\n\u001b[1;32m    607\u001b[0m             \u001b[0;32melse\u001b[0m\u001b[0;34m:\u001b[0m\u001b[0;34m\u001b[0m\u001b[0;34m\u001b[0m\u001b[0m\n\u001b[0;32m--> 608\u001b[0;31m                 \u001b[0mself\u001b[0m\u001b[0;34m.\u001b[0m\u001b[0mset\u001b[0m\u001b[0;34m(\u001b[0m\u001b[0mname\u001b[0m\u001b[0;34m,\u001b[0m \u001b[0mvalue\u001b[0m\u001b[0;34m)\u001b[0m\u001b[0;34m\u001b[0m\u001b[0;34m\u001b[0m\u001b[0m\n\u001b[0m\u001b[1;32m    609\u001b[0m         \u001b[0;32mexcept\u001b[0m \u001b[0mRuntimeError\u001b[0m \u001b[0;32mas\u001b[0m \u001b[0merror\u001b[0m\u001b[0;34m:\u001b[0m\u001b[0;34m\u001b[0m\u001b[0;34m\u001b[0m\u001b[0m\n",
      "\u001b[0;32m/researches/mambaforge/envs/sage/lib/python3.10/site-packages/sage/interfaces/maxima_lib.py\u001b[0m in \u001b[0;36mset\u001b[0;34m(self, var, value)\u001b[0m\n\u001b[1;32m    515\u001b[0m         \u001b[0mcmd\u001b[0m \u001b[0;34m=\u001b[0m \u001b[0;34m'%s : %s$'\u001b[0m\u001b[0;34m%\u001b[0m\u001b[0;34m(\u001b[0m\u001b[0mvar\u001b[0m\u001b[0;34m,\u001b[0m \u001b[0mvalue\u001b[0m\u001b[0;34m.\u001b[0m\u001b[0mrstrip\u001b[0m\u001b[0;34m(\u001b[0m\u001b[0;34m';'\u001b[0m\u001b[0;34m)\u001b[0m\u001b[0;34m)\u001b[0m\u001b[0;34m\u001b[0m\u001b[0;34m\u001b[0m\u001b[0m\n\u001b[0;32m--> 516\u001b[0;31m         \u001b[0mself\u001b[0m\u001b[0;34m.\u001b[0m\u001b[0meval\u001b[0m\u001b[0;34m(\u001b[0m\u001b[0mcmd\u001b[0m\u001b[0;34m)\u001b[0m\u001b[0;34m\u001b[0m\u001b[0;34m\u001b[0m\u001b[0m\n\u001b[0m\u001b[1;32m    517\u001b[0m \u001b[0;34m\u001b[0m\u001b[0m\n",
      "\u001b[0;32m/researches/mambaforge/envs/sage/lib/python3.10/site-packages/sage/interfaces/maxima_lib.py\u001b[0m in \u001b[0;36m_eval_line\u001b[0;34m(self, line, locals, reformat, **kwds)\u001b[0m\n\u001b[1;32m    461\u001b[0m                 \u001b[0;32mif\u001b[0m \u001b[0mstatement\u001b[0m\u001b[0;34m:\u001b[0m\u001b[0;34m\u001b[0m\u001b[0;34m\u001b[0m\u001b[0m\n\u001b[0;32m--> 462\u001b[0;31m                     \u001b[0mmaxima_eval\u001b[0m\u001b[0;34m(\u001b[0m\u001b[0;34m\"#$%s$\"\u001b[0m \u001b[0;34m%\u001b[0m \u001b[0mstatement\u001b[0m\u001b[0;34m)\u001b[0m\u001b[0;34m\u001b[0m\u001b[0;34m\u001b[0m\u001b[0m\n\u001b[0m\u001b[1;32m    463\u001b[0m         \u001b[0;32mif\u001b[0m \u001b[0;32mnot\u001b[0m \u001b[0mreformat\u001b[0m\u001b[0;34m:\u001b[0m\u001b[0;34m\u001b[0m\u001b[0;34m\u001b[0m\u001b[0m\n",
      "\u001b[0;32m/researches/mambaforge/envs/sage/lib/python3.10/site-packages/sage/libs/ecl.pyx\u001b[0m in \u001b[0;36msage.libs.ecl.EclObject.__call__ (build/cythonized/sage/libs/ecl.c:8600)\u001b[0;34m()\u001b[0m\n\u001b[1;32m    837\u001b[0m         \u001b[0mlispargs\u001b[0m \u001b[0;34m=\u001b[0m \u001b[0mEclObject\u001b[0m\u001b[0;34m(\u001b[0m\u001b[0mlist\u001b[0m\u001b[0;34m(\u001b[0m\u001b[0margs\u001b[0m\u001b[0;34m)\u001b[0m\u001b[0;34m)\u001b[0m\u001b[0;34m\u001b[0m\u001b[0;34m\u001b[0m\u001b[0m\n\u001b[0;32m--> 838\u001b[0;31m         \u001b[0;32mreturn\u001b[0m \u001b[0mecl_wrap\u001b[0m\u001b[0;34m(\u001b[0m\u001b[0mecl_safe_apply\u001b[0m\u001b[0;34m(\u001b[0m\u001b[0mself\u001b[0m\u001b[0;34m.\u001b[0m\u001b[0mobj\u001b[0m\u001b[0;34m,\u001b[0m\u001b[0;34m(\u001b[0m\u001b[0;34m<\u001b[0m\u001b[0mEclObject\u001b[0m\u001b[0;34m>\u001b[0m\u001b[0mlispargs\u001b[0m\u001b[0;34m)\u001b[0m\u001b[0;34m.\u001b[0m\u001b[0mobj\u001b[0m\u001b[0;34m)\u001b[0m\u001b[0;34m)\u001b[0m\u001b[0;34m\u001b[0m\u001b[0;34m\u001b[0m\u001b[0m\n\u001b[0m\u001b[1;32m    839\u001b[0m \u001b[0;34m\u001b[0m\u001b[0m\n",
      "\u001b[0;32m/researches/mambaforge/envs/sage/lib/python3.10/site-packages/sage/libs/ecl.pyx\u001b[0m in \u001b[0;36msage.libs.ecl.ecl_safe_apply (build/cythonized/sage/libs/ecl.c:6142)\u001b[0;34m()\u001b[0m\n\u001b[1;32m    358\u001b[0m         \u001b[0;32melse\u001b[0m\u001b[0;34m:\u001b[0m\u001b[0;34m\u001b[0m\u001b[0;34m\u001b[0m\u001b[0m\n\u001b[0;32m--> 359\u001b[0;31m             \u001b[0;32mraise\u001b[0m \u001b[0mRuntimeError\u001b[0m\u001b[0;34m(\u001b[0m\u001b[0;34m\"ECL says: {}\"\u001b[0m\u001b[0;34m.\u001b[0m\u001b[0mformat\u001b[0m\u001b[0;34m(\u001b[0m\u001b[0mmessage\u001b[0m\u001b[0;34m)\u001b[0m\u001b[0;34m)\u001b[0m\u001b[0;34m\u001b[0m\u001b[0;34m\u001b[0m\u001b[0m\n\u001b[0m\u001b[1;32m    360\u001b[0m     \u001b[0;32melse\u001b[0m\u001b[0;34m:\u001b[0m\u001b[0;34m\u001b[0m\u001b[0;34m\u001b[0m\u001b[0m\n",
      "\u001b[0;31mRuntimeError\u001b[0m: ECL says: THROW: The catch RAT-ERR is undefined.",
      "\nDuring handling of the above exception, another exception occurred:\n",
      "\u001b[0;31mTypeError\u001b[0m                                 Traceback (most recent call last)",
      "\u001b[0;32m~/tmp/ipykernel_22347/294485016.py\u001b[0m in \u001b[0;36m<cell line: 11>\u001b[0;34m()\u001b[0m\n\u001b[1;32m      9\u001b[0m     \u001b[0m_\u001b[0m\u001b[0;34m.\u001b[0m\u001b[0mshow\u001b[0m\u001b[0;34m(\u001b[0m\u001b[0;34m)\u001b[0m\u001b[0;34m\u001b[0m\u001b[0;34m\u001b[0m\u001b[0m\n\u001b[1;32m     10\u001b[0m \u001b[0mprint\u001b[0m\u001b[0;34m(\u001b[0m\u001b[0;34m\"Janet basis\"\u001b[0m\u001b[0;34m)\u001b[0m\u001b[0;34m\u001b[0m\u001b[0;34m\u001b[0m\u001b[0m\n\u001b[0;32m---> 11\u001b[0;31m \u001b[0mjb\u001b[0m \u001b[0;34m=\u001b[0m \u001b[0mJanet_Basis_from_ODE\u001b[0m\u001b[0;34m(\u001b[0m\u001b[0mode\u001b[0m\u001b[0;34m,\u001b[0m \u001b[0my\u001b[0m\u001b[0;34m,\u001b[0m \u001b[0mx\u001b[0m\u001b[0;34m)\u001b[0m\u001b[0;34m\u001b[0m\u001b[0;34m\u001b[0m\u001b[0m\n\u001b[0m\u001b[1;32m     12\u001b[0m \u001b[0;32mfor\u001b[0m \u001b[0m_\u001b[0m \u001b[0;32min\u001b[0m \u001b[0mjb\u001b[0m\u001b[0;34m:\u001b[0m\u001b[0;34m\u001b[0m\u001b[0;34m\u001b[0m\u001b[0m\n\u001b[1;32m     13\u001b[0m     \u001b[0m_\u001b[0m\u001b[0;34m.\u001b[0m\u001b[0mshow\u001b[0m\u001b[0;34m(\u001b[0m\u001b[0;34m)\u001b[0m\u001b[0;34m\u001b[0m\u001b[0;34m\u001b[0m\u001b[0m\n",
      "\u001b[0;32m/researches/delierium/delierium/Infinitesimals.py\u001b[0m in \u001b[0;36mJanet_Basis_from_ODE\u001b[0;34m(ode, dependent, independent, order, *args, **kw)\u001b[0m\n\u001b[1;32m    249\u001b[0m             \u001b[0me\u001b[0m \u001b[0;34m=\u001b[0m \u001b[0me\u001b[0m\u001b[0;34m.\u001b[0m\u001b[0msubs\u001b[0m\u001b[0;34m(\u001b[0m\u001b[0;34m{\u001b[0m\u001b[0md\u001b[0m \u001b[0;34m:\u001b[0m \u001b[0;36m0\u001b[0m\u001b[0;34m}\u001b[0m\u001b[0;34m)\u001b[0m\u001b[0;34m\u001b[0m\u001b[0;34m\u001b[0m\u001b[0m\n\u001b[1;32m    250\u001b[0m         \u001b[0mintermediate_system\u001b[0m\u001b[0;34m.\u001b[0m\u001b[0mappend\u001b[0m\u001b[0;34m(\u001b[0m\u001b[0me\u001b[0m\u001b[0;34m)\u001b[0m\u001b[0;34m\u001b[0m\u001b[0;34m\u001b[0m\u001b[0m\n\u001b[0;32m--> 251\u001b[0;31m     \u001b[0mjanet\u001b[0m \u001b[0;34m=\u001b[0m \u001b[0mJanet_Basis\u001b[0m\u001b[0;34m(\u001b[0m\u001b[0mintermediate_system\u001b[0m\u001b[0;34m,\u001b[0m \u001b[0;34m[\u001b[0m\u001b[0mphi\u001b[0m\u001b[0;34m,\u001b[0m \u001b[0mxi\u001b[0m\u001b[0;34m]\u001b[0m\u001b[0;34m,\u001b[0m \u001b[0;34m[\u001b[0m\u001b[0mY\u001b[0m\u001b[0;34m,\u001b[0m \u001b[0mindependent\u001b[0m\u001b[0;34m]\u001b[0m\u001b[0;34m)\u001b[0m\u001b[0;34m\u001b[0m\u001b[0;34m\u001b[0m\u001b[0m\n\u001b[0m\u001b[1;32m    252\u001b[0m     \u001b[0mpols\u001b[0m \u001b[0;34m=\u001b[0m \u001b[0;34m[\u001b[0m\u001b[0;34m]\u001b[0m\u001b[0;34m\u001b[0m\u001b[0;34m\u001b[0m\u001b[0m\n\u001b[1;32m    253\u001b[0m     \u001b[0;32mfor\u001b[0m \u001b[0mi\u001b[0m \u001b[0;32min\u001b[0m \u001b[0mrange\u001b[0m\u001b[0;34m(\u001b[0m\u001b[0mlen\u001b[0m\u001b[0;34m(\u001b[0m\u001b[0mjanet\u001b[0m\u001b[0;34m.\u001b[0m\u001b[0mS\u001b[0m\u001b[0;34m)\u001b[0m\u001b[0;34m)\u001b[0m\u001b[0;34m:\u001b[0m\u001b[0;34m\u001b[0m\u001b[0;34m\u001b[0m\u001b[0m\n",
      "\u001b[0;32m/researches/delierium/delierium/JanetBasis.py\u001b[0m in \u001b[0;36m__init__\u001b[0;34m(self, S, dependent, independent, sort_order)\u001b[0m\n\u001b[1;32m    654\u001b[0m \u001b[0;31m#                _.Lder().show()\u001b[0m\u001b[0;34m\u001b[0m\u001b[0;34m\u001b[0m\u001b[0m\n\u001b[1;32m    655\u001b[0m             \u001b[0;31m#set_trace()\u001b[0m\u001b[0;34m\u001b[0m\u001b[0;34m\u001b[0m\u001b[0m\n\u001b[0;32m--> 656\u001b[0;31m             \u001b[0mself\u001b[0m\u001b[0;34m.\u001b[0m\u001b[0mS\u001b[0m \u001b[0;34m=\u001b[0m \u001b[0mAutoreduce\u001b[0m\u001b[0;34m(\u001b[0m\u001b[0mself\u001b[0m\u001b[0;34m.\u001b[0m\u001b[0mS\u001b[0m\u001b[0;34m,\u001b[0m \u001b[0mcontext\u001b[0m\u001b[0;34m)\u001b[0m\u001b[0;34m\u001b[0m\u001b[0;34m\u001b[0m\u001b[0m\n\u001b[0m\u001b[1;32m    657\u001b[0m  \u001b[0;31m#           print(\"after autoreduce\")\u001b[0m\u001b[0;34m\u001b[0m\u001b[0;34m\u001b[0m\u001b[0m\n\u001b[1;32m    658\u001b[0m  \u001b[0;31m#           self.show()\u001b[0m\u001b[0;34m\u001b[0m\u001b[0;34m\u001b[0m\u001b[0m\n",
      "\u001b[0;32m/researches/delierium/delierium/JanetBasis.py\u001b[0m in \u001b[0;36mAutoreduce\u001b[0;34m(S, context)\u001b[0m\n\u001b[1;32m    318\u001b[0m         \u001b[0mhave_reduced\u001b[0m \u001b[0;34m=\u001b[0m \u001b[0;32mFalse\u001b[0m\u001b[0;34m\u001b[0m\u001b[0;34m\u001b[0m\u001b[0m\n\u001b[1;32m    319\u001b[0m         \u001b[0;32mfor\u001b[0m \u001b[0m_r\u001b[0m \u001b[0;32min\u001b[0m \u001b[0mr\u001b[0m\u001b[0;34m:\u001b[0m\u001b[0;34m\u001b[0m\u001b[0;34m\u001b[0m\u001b[0m\n\u001b[0;32m--> 320\u001b[0;31m             \u001b[0mrnew\u001b[0m \u001b[0;34m=\u001b[0m \u001b[0mreduceS\u001b[0m\u001b[0;34m(\u001b[0m\u001b[0m_r\u001b[0m\u001b[0;34m,\u001b[0m \u001b[0m_p\u001b[0m\u001b[0;34m,\u001b[0m \u001b[0mcontext\u001b[0m\u001b[0;34m)\u001b[0m\u001b[0;34m\u001b[0m\u001b[0;34m\u001b[0m\u001b[0m\n\u001b[0m\u001b[1;32m    321\u001b[0m             \u001b[0mhave_reduced\u001b[0m \u001b[0;34m=\u001b[0m \u001b[0mhave_reduced\u001b[0m \u001b[0;32mor\u001b[0m \u001b[0mrnew\u001b[0m \u001b[0;34m!=\u001b[0m \u001b[0m_r\u001b[0m\u001b[0;34m\u001b[0m\u001b[0;34m\u001b[0m\u001b[0m\n\u001b[1;32m    322\u001b[0m             \u001b[0mnewdps\u001b[0m\u001b[0;34m.\u001b[0m\u001b[0mappend\u001b[0m\u001b[0;34m(\u001b[0m\u001b[0mrnew\u001b[0m\u001b[0;34m)\u001b[0m\u001b[0;34m\u001b[0m\u001b[0;34m\u001b[0m\u001b[0m\n",
      "\u001b[0;32m/researches/delierium/delierium/JanetBasis.py\u001b[0m in \u001b[0;36mreduceS\u001b[0;34m(e, S, context)\u001b[0m\n\u001b[1;32m    267\u001b[0m     \u001b[0;32mwhile\u001b[0m \u001b[0mreducing\u001b[0m\u001b[0;34m:\u001b[0m\u001b[0;34m\u001b[0m\u001b[0;34m\u001b[0m\u001b[0m\n\u001b[1;32m    268\u001b[0m         \u001b[0;32mfor\u001b[0m \u001b[0mdp\u001b[0m \u001b[0;32min\u001b[0m \u001b[0mgen\u001b[0m\u001b[0;34m:\u001b[0m\u001b[0;34m\u001b[0m\u001b[0;34m\u001b[0m\u001b[0m\n\u001b[0;32m--> 269\u001b[0;31m             \u001b[0menew\u001b[0m \u001b[0;34m=\u001b[0m \u001b[0mreduce\u001b[0m\u001b[0;34m(\u001b[0m\u001b[0me\u001b[0m\u001b[0;34m,\u001b[0m \u001b[0mdp\u001b[0m\u001b[0;34m,\u001b[0m \u001b[0mcontext\u001b[0m\u001b[0;34m)\u001b[0m\u001b[0;34m\u001b[0m\u001b[0;34m\u001b[0m\u001b[0m\n\u001b[0m\u001b[1;32m    270\u001b[0m             \u001b[0;31m# XXX check wheter we can repalce \"==\" by 'is'\u001b[0m\u001b[0;34m\u001b[0m\u001b[0;34m\u001b[0m\u001b[0m\n\u001b[1;32m    271\u001b[0m             \u001b[0;32mif\u001b[0m \u001b[0menew\u001b[0m \u001b[0;34m==\u001b[0m \u001b[0me\u001b[0m\u001b[0;34m:\u001b[0m\u001b[0;34m\u001b[0m\u001b[0;34m\u001b[0m\u001b[0m\n",
      "\u001b[0;32m/researches/delierium/delierium/JanetBasis.py\u001b[0m in \u001b[0;36mreduce\u001b[0;34m(e1, e2, context)\u001b[0m\n\u001b[1;32m    306\u001b[0m                     context)\n\u001b[1;32m    307\u001b[0m         \u001b[0;32mreturn\u001b[0m \u001b[0me1\u001b[0m\u001b[0;34m\u001b[0m\u001b[0;34m\u001b[0m\u001b[0m\n\u001b[0;32m--> 308\u001b[0;31m     \u001b[0;32mwhile\u001b[0m \u001b[0;32mnot\u001b[0m \u001b[0mbool\u001b[0m\u001b[0;34m(\u001b[0m\u001b[0;34m(\u001b[0m\u001b[0m_e1\u001b[0m \u001b[0;34m:=\u001b[0m \u001b[0m_reduce_inner\u001b[0m\u001b[0;34m(\u001b[0m\u001b[0me1\u001b[0m\u001b[0;34m,\u001b[0m \u001b[0me2\u001b[0m\u001b[0;34m)\u001b[0m\u001b[0;34m)\u001b[0m \u001b[0;34m==\u001b[0m \u001b[0me1\u001b[0m\u001b[0;34m)\u001b[0m\u001b[0;34m:\u001b[0m\u001b[0;34m\u001b[0m\u001b[0;34m\u001b[0m\u001b[0m\n\u001b[0m\u001b[1;32m    309\u001b[0m         \u001b[0me1\u001b[0m \u001b[0;34m=\u001b[0m \u001b[0m_e1\u001b[0m\u001b[0;34m\u001b[0m\u001b[0;34m\u001b[0m\u001b[0m\n\u001b[1;32m    310\u001b[0m     \u001b[0;32mreturn\u001b[0m \u001b[0m_e1\u001b[0m\u001b[0;34m\u001b[0m\u001b[0;34m\u001b[0m\u001b[0m\n",
      "\u001b[0;32m/researches/delierium/delierium/JanetBasis.py\u001b[0m in \u001b[0;36m_reduce_inner\u001b[0;34m(e1, e2)\u001b[0m\n\u001b[1;32m    295\u001b[0m             \u001b[0mdif\u001b[0m \u001b[0;34m=\u001b[0m \u001b[0;34m[\u001b[0m\u001b[0ma\u001b[0m\u001b[0;34m-\u001b[0m\u001b[0mb\u001b[0m \u001b[0;32mfor\u001b[0m \u001b[0ma\u001b[0m\u001b[0;34m,\u001b[0m \u001b[0mb\u001b[0m \u001b[0;32min\u001b[0m \u001b[0mzip\u001b[0m\u001b[0;34m(\u001b[0m\u001b[0me1_order\u001b[0m\u001b[0;34m,\u001b[0m \u001b[0me2_order\u001b[0m\u001b[0;34m)\u001b[0m\u001b[0;34m]\u001b[0m\u001b[0;34m\u001b[0m\u001b[0;34m\u001b[0m\u001b[0m\n\u001b[1;32m    296\u001b[0m             \u001b[0;32mif\u001b[0m \u001b[0mall\u001b[0m\u001b[0;34m(\u001b[0m\u001b[0mmap\u001b[0m\u001b[0;34m(\u001b[0m\u001b[0;32mlambda\u001b[0m \u001b[0mh\u001b[0m\u001b[0;34m:\u001b[0m \u001b[0mh\u001b[0m \u001b[0;34m==\u001b[0m \u001b[0;36m0\u001b[0m\u001b[0;34m,\u001b[0m \u001b[0mdif\u001b[0m\u001b[0;34m)\u001b[0m\u001b[0;34m)\u001b[0m\u001b[0;34m:\u001b[0m\u001b[0;34m\u001b[0m\u001b[0;34m\u001b[0m\u001b[0m\n\u001b[0;32m--> 297\u001b[0;31m                 return _Differential_Polynomial(\n\u001b[0m\u001b[1;32m    298\u001b[0m                     e1.expression() - e2.expression() * c, context)\n\u001b[1;32m    299\u001b[0m             \u001b[0;32mif\u001b[0m \u001b[0mall\u001b[0m\u001b[0;34m(\u001b[0m\u001b[0mmap\u001b[0m\u001b[0;34m(\u001b[0m\u001b[0;32mlambda\u001b[0m \u001b[0mh\u001b[0m\u001b[0;34m:\u001b[0m \u001b[0mh\u001b[0m \u001b[0;34m>=\u001b[0m \u001b[0;36m0\u001b[0m\u001b[0;34m,\u001b[0m \u001b[0mdif\u001b[0m\u001b[0;34m)\u001b[0m\u001b[0;34m)\u001b[0m\u001b[0;34m:\u001b[0m\u001b[0;34m\u001b[0m\u001b[0;34m\u001b[0m\u001b[0m\n",
      "\u001b[0;32m/researches/delierium/delierium/JanetBasis.py\u001b[0m in \u001b[0;36m__init__\u001b[0;34m(self, e, context)\u001b[0m\n\u001b[1;32m    132\u001b[0m         \u001b[0mself\u001b[0m\u001b[0;34m.\u001b[0m\u001b[0m_context\u001b[0m \u001b[0;34m=\u001b[0m \u001b[0mcontext\u001b[0m\u001b[0;34m\u001b[0m\u001b[0;34m\u001b[0m\u001b[0m\n\u001b[1;32m    133\u001b[0m         \u001b[0mself\u001b[0m\u001b[0;34m.\u001b[0m\u001b[0m_p\u001b[0m \u001b[0;34m=\u001b[0m \u001b[0;34m[\u001b[0m\u001b[0;34m]\u001b[0m\u001b[0;34m\u001b[0m\u001b[0;34m\u001b[0m\u001b[0m\n\u001b[0;32m--> 134\u001b[0;31m         \u001b[0;32mif\u001b[0m \u001b[0;32mnot\u001b[0m \u001b[0meq\u001b[0m\u001b[0;34m(\u001b[0m\u001b[0;36m0\u001b[0m\u001b[0;34m,\u001b[0m \u001b[0me\u001b[0m\u001b[0;34m)\u001b[0m\u001b[0;34m:\u001b[0m\u001b[0;34m\u001b[0m\u001b[0;34m\u001b[0m\u001b[0m\n\u001b[0m\u001b[1;32m    135\u001b[0m             \u001b[0mself\u001b[0m\u001b[0;34m.\u001b[0m\u001b[0m_init\u001b[0m\u001b[0;34m(\u001b[0m\u001b[0me\u001b[0m\u001b[0;34m.\u001b[0m\u001b[0mexpand\u001b[0m\u001b[0;34m(\u001b[0m\u001b[0;34m)\u001b[0m\u001b[0;34m)\u001b[0m\u001b[0;34m\u001b[0m\u001b[0;34m\u001b[0m\u001b[0m\n\u001b[1;32m    136\u001b[0m     \u001b[0;32mdef\u001b[0m \u001b[0m_init\u001b[0m\u001b[0;34m(\u001b[0m\u001b[0mself\u001b[0m\u001b[0;34m,\u001b[0m \u001b[0me\u001b[0m\u001b[0;34m)\u001b[0m\u001b[0;34m:\u001b[0m\u001b[0;34m\u001b[0m\u001b[0;34m\u001b[0m\u001b[0m\n",
      "\u001b[0;32m/researches/delierium/delierium/helpers.py\u001b[0m in \u001b[0;36meq\u001b[0;34m(d1, d2)\u001b[0m\n\u001b[1;32m     23\u001b[0m     \u001b[0;36m70\u001b[0m \u001b[0;34m%\u001b[0m \u001b[0mof\u001b[0m \u001b[0mthe\u001b[0m \u001b[0mtime\u001b[0m \u001b[0;32mis\u001b[0m \u001b[0mspent\u001b[0m \u001b[0mhere\u001b[0m\u001b[0;31m!\u001b[0m\u001b[0;34m\u001b[0m\u001b[0;34m\u001b[0m\u001b[0m\n\u001b[1;32m     24\u001b[0m     '''\n\u001b[0;32m---> 25\u001b[0;31m     \u001b[0;32mreturn\u001b[0m \u001b[0mbool\u001b[0m\u001b[0;34m(\u001b[0m\u001b[0md1\u001b[0m \u001b[0;34m==\u001b[0m \u001b[0md2\u001b[0m\u001b[0;34m)\u001b[0m\u001b[0;34m\u001b[0m\u001b[0;34m\u001b[0m\u001b[0m\n\u001b[0m\u001b[1;32m     26\u001b[0m \u001b[0;34m\u001b[0m\u001b[0m\n\u001b[1;32m     27\u001b[0m \u001b[0;34m\u001b[0m\u001b[0m\n",
      "\u001b[0;32m/researches/mambaforge/envs/sage/lib/python3.10/site-packages/sage/symbolic/expression.pyx\u001b[0m in \u001b[0;36msage.symbolic.expression.Expression.__bool__ (build/cythonized/sage/symbolic/expression.cpp:48725)\u001b[0;34m()\u001b[0m\n\u001b[1;32m   3495\u001b[0m                 \u001b[0;32mif\u001b[0m \u001b[0mres\u001b[0m \u001b[0;32min\u001b[0m \u001b[0;34m(\u001b[0m\u001b[0;32mTrue\u001b[0m\u001b[0;34m,\u001b[0m \u001b[0;32mFalse\u001b[0m\u001b[0;34m)\u001b[0m\u001b[0;34m:\u001b[0m\u001b[0;34m\u001b[0m\u001b[0;34m\u001b[0m\u001b[0m\n\u001b[1;32m   3496\u001b[0m                     \u001b[0;32mreturn\u001b[0m \u001b[0mres\u001b[0m\u001b[0;34m\u001b[0m\u001b[0;34m\u001b[0m\u001b[0m\n\u001b[0;32m-> 3497\u001b[0;31m                 \u001b[0mres\u001b[0m \u001b[0;34m=\u001b[0m \u001b[0mself\u001b[0m\u001b[0;34m.\u001b[0m\u001b[0moperator\u001b[0m\u001b[0;34m(\u001b[0m\u001b[0;34m)\u001b[0m\u001b[0;34m(\u001b[0m\u001b[0;34m(\u001b[0m\u001b[0mself\u001b[0m\u001b[0;34m.\u001b[0m\u001b[0mlhs\u001b[0m\u001b[0;34m(\u001b[0m\u001b[0;34m)\u001b[0m\u001b[0;34m-\u001b[0m\u001b[0mself\u001b[0m\u001b[0;34m.\u001b[0m\u001b[0mrhs\u001b[0m\u001b[0;34m(\u001b[0m\u001b[0;34m)\u001b[0m\u001b[0;34m)\u001b[0m\u001b[0;34m.\u001b[0m\u001b[0msimplify_full\u001b[0m\u001b[0;34m(\u001b[0m\u001b[0;34m)\u001b[0m\u001b[0;34m,\u001b[0m \u001b[0;36m0\u001b[0m\u001b[0;34m)\u001b[0m\u001b[0;34m.\u001b[0m\u001b[0mtest_relation\u001b[0m\u001b[0;34m(\u001b[0m\u001b[0;34m)\u001b[0m\u001b[0;34m\u001b[0m\u001b[0;34m\u001b[0m\u001b[0m\n\u001b[0m\u001b[1;32m   3498\u001b[0m                 \u001b[0;32mif\u001b[0m \u001b[0mres\u001b[0m \u001b[0;32min\u001b[0m \u001b[0;34m(\u001b[0m\u001b[0;32mTrue\u001b[0m\u001b[0;34m,\u001b[0m \u001b[0;32mFalse\u001b[0m\u001b[0;34m)\u001b[0m\u001b[0;34m:\u001b[0m\u001b[0;34m\u001b[0m\u001b[0;34m\u001b[0m\u001b[0m\n\u001b[1;32m   3499\u001b[0m                     \u001b[0;32mreturn\u001b[0m \u001b[0mres\u001b[0m\u001b[0;34m\u001b[0m\u001b[0;34m\u001b[0m\u001b[0m\n",
      "\u001b[0;32m/researches/mambaforge/envs/sage/lib/python3.10/site-packages/sage/symbolic/expression.pyx\u001b[0m in \u001b[0;36msage.symbolic.expression.Expression.simplify_full (build/cythonized/sage/symbolic/expression.cpp:81867)\u001b[0;34m()\u001b[0m\n\u001b[1;32m  10694\u001b[0m         \u001b[0mx\u001b[0m \u001b[0;34m=\u001b[0m \u001b[0mx\u001b[0m\u001b[0;34m.\u001b[0m\u001b[0msimplify_factorial\u001b[0m\u001b[0;34m(\u001b[0m\u001b[0;34m)\u001b[0m\u001b[0;34m\u001b[0m\u001b[0;34m\u001b[0m\u001b[0m\n\u001b[1;32m  10695\u001b[0m         \u001b[0mx\u001b[0m \u001b[0;34m=\u001b[0m \u001b[0mx\u001b[0m\u001b[0;34m.\u001b[0m\u001b[0msimplify_rectform\u001b[0m\u001b[0;34m(\u001b[0m\u001b[0;34m)\u001b[0m\u001b[0;34m\u001b[0m\u001b[0;34m\u001b[0m\u001b[0m\n\u001b[0;32m> 10696\u001b[0;31m         \u001b[0mx\u001b[0m \u001b[0;34m=\u001b[0m \u001b[0mx\u001b[0m\u001b[0;34m.\u001b[0m\u001b[0msimplify_trig\u001b[0m\u001b[0;34m(\u001b[0m\u001b[0;34m)\u001b[0m\u001b[0;34m\u001b[0m\u001b[0;34m\u001b[0m\u001b[0m\n\u001b[0m\u001b[1;32m  10697\u001b[0m         \u001b[0mx\u001b[0m \u001b[0;34m=\u001b[0m \u001b[0mx\u001b[0m\u001b[0;34m.\u001b[0m\u001b[0msimplify_rational\u001b[0m\u001b[0;34m(\u001b[0m\u001b[0;34m)\u001b[0m\u001b[0;34m\u001b[0m\u001b[0;34m\u001b[0m\u001b[0m\n\u001b[1;32m  10698\u001b[0m         \u001b[0mx\u001b[0m \u001b[0;34m=\u001b[0m \u001b[0mx\u001b[0m\u001b[0;34m.\u001b[0m\u001b[0mexpand_sum\u001b[0m\u001b[0;34m(\u001b[0m\u001b[0;34m)\u001b[0m\u001b[0;34m\u001b[0m\u001b[0;34m\u001b[0m\u001b[0m\n",
      "\u001b[0;32m/researches/mambaforge/envs/sage/lib/python3.10/site-packages/sage/symbolic/expression.pyx\u001b[0m in \u001b[0;36msage.symbolic.expression.Expression.simplify_trig (build/cythonized/sage/symbolic/expression.cpp:84146)\u001b[0;34m()\u001b[0m\n\u001b[1;32m  11010\u001b[0m         \u001b[0;31m# right otherwise!\u001b[0m\u001b[0;34m\u001b[0m\u001b[0;34m\u001b[0m\u001b[0m\n\u001b[1;32m  11011\u001b[0m         \u001b[0;32mif\u001b[0m \u001b[0mexpand\u001b[0m\u001b[0;34m:\u001b[0m\u001b[0;34m\u001b[0m\u001b[0;34m\u001b[0m\u001b[0m\n\u001b[0;32m> 11012\u001b[0;31m             \u001b[0;32mreturn\u001b[0m \u001b[0mself\u001b[0m\u001b[0;34m.\u001b[0m\u001b[0mparent\u001b[0m\u001b[0;34m(\u001b[0m\u001b[0;34m)\u001b[0m\u001b[0;34m(\u001b[0m\u001b[0mself\u001b[0m\u001b[0;34m.\u001b[0m\u001b[0m_maxima_\u001b[0m\u001b[0;34m(\u001b[0m\u001b[0;34m)\u001b[0m\u001b[0;34m.\u001b[0m\u001b[0mtrigexpand\u001b[0m\u001b[0;34m(\u001b[0m\u001b[0;34m)\u001b[0m\u001b[0;34m.\u001b[0m\u001b[0mtrigsimp\u001b[0m\u001b[0;34m(\u001b[0m\u001b[0;34m)\u001b[0m\u001b[0;34m)\u001b[0m\u001b[0;34m\u001b[0m\u001b[0;34m\u001b[0m\u001b[0m\n\u001b[0m\u001b[1;32m  11013\u001b[0m         \u001b[0;32melse\u001b[0m\u001b[0;34m:\u001b[0m\u001b[0;34m\u001b[0m\u001b[0;34m\u001b[0m\u001b[0m\n\u001b[1;32m  11014\u001b[0m             \u001b[0;32mreturn\u001b[0m \u001b[0mself\u001b[0m\u001b[0;34m.\u001b[0m\u001b[0mparent\u001b[0m\u001b[0;34m(\u001b[0m\u001b[0;34m)\u001b[0m\u001b[0;34m(\u001b[0m\u001b[0mself\u001b[0m\u001b[0;34m.\u001b[0m\u001b[0m_maxima_\u001b[0m\u001b[0;34m(\u001b[0m\u001b[0;34m)\u001b[0m\u001b[0;34m.\u001b[0m\u001b[0mtrigsimp\u001b[0m\u001b[0;34m(\u001b[0m\u001b[0;34m)\u001b[0m\u001b[0;34m)\u001b[0m\u001b[0;34m\u001b[0m\u001b[0;34m\u001b[0m\u001b[0m\n",
      "\u001b[0;32m/researches/mambaforge/envs/sage/lib/python3.10/site-packages/sage/interfaces/interface.py\u001b[0m in \u001b[0;36m__call__\u001b[0;34m(self, *args, **kwds)\u001b[0m\n\u001b[1;32m    691\u001b[0m \u001b[0;34m\u001b[0m\u001b[0m\n\u001b[1;32m    692\u001b[0m     \u001b[0;32mdef\u001b[0m \u001b[0m__call__\u001b[0m\u001b[0;34m(\u001b[0m\u001b[0mself\u001b[0m\u001b[0;34m,\u001b[0m \u001b[0;34m*\u001b[0m\u001b[0margs\u001b[0m\u001b[0;34m,\u001b[0m \u001b[0;34m**\u001b[0m\u001b[0mkwds\u001b[0m\u001b[0;34m)\u001b[0m\u001b[0;34m:\u001b[0m\u001b[0;34m\u001b[0m\u001b[0;34m\u001b[0m\u001b[0m\n\u001b[0;32m--> 693\u001b[0;31m         \u001b[0;32mreturn\u001b[0m \u001b[0mself\u001b[0m\u001b[0;34m.\u001b[0m\u001b[0m_obj\u001b[0m\u001b[0;34m.\u001b[0m\u001b[0mparent\u001b[0m\u001b[0;34m(\u001b[0m\u001b[0;34m)\u001b[0m\u001b[0;34m.\u001b[0m\u001b[0mfunction_call\u001b[0m\u001b[0;34m(\u001b[0m\u001b[0mself\u001b[0m\u001b[0;34m.\u001b[0m\u001b[0m_name\u001b[0m\u001b[0;34m,\u001b[0m \u001b[0;34m[\u001b[0m\u001b[0mself\u001b[0m\u001b[0;34m.\u001b[0m\u001b[0m_obj\u001b[0m\u001b[0;34m]\u001b[0m \u001b[0;34m+\u001b[0m \u001b[0mlist\u001b[0m\u001b[0;34m(\u001b[0m\u001b[0margs\u001b[0m\u001b[0;34m)\u001b[0m\u001b[0;34m,\u001b[0m \u001b[0mkwds\u001b[0m\u001b[0;34m)\u001b[0m\u001b[0;34m\u001b[0m\u001b[0;34m\u001b[0m\u001b[0m\n\u001b[0m\u001b[1;32m    694\u001b[0m \u001b[0;34m\u001b[0m\u001b[0m\n\u001b[1;32m    695\u001b[0m     \u001b[0;32mdef\u001b[0m \u001b[0mhelp\u001b[0m\u001b[0;34m(\u001b[0m\u001b[0mself\u001b[0m\u001b[0;34m)\u001b[0m\u001b[0;34m:\u001b[0m\u001b[0;34m\u001b[0m\u001b[0;34m\u001b[0m\u001b[0m\n",
      "\u001b[0;32m/researches/mambaforge/envs/sage/lib/python3.10/site-packages/sage/interfaces/interface.py\u001b[0m in \u001b[0;36mfunction_call\u001b[0;34m(self, function, args, kwds)\u001b[0m\n\u001b[1;32m    611\u001b[0m                                        \u001b[0;34m[\u001b[0m\u001b[0ms\u001b[0m\u001b[0;34m.\u001b[0m\u001b[0mname\u001b[0m\u001b[0;34m(\u001b[0m\u001b[0;34m)\u001b[0m \u001b[0;32mfor\u001b[0m \u001b[0ms\u001b[0m \u001b[0;32min\u001b[0m \u001b[0margs\u001b[0m\u001b[0;34m]\u001b[0m\u001b[0;34m,\u001b[0m\u001b[0;34m\u001b[0m\u001b[0;34m\u001b[0m\u001b[0m\n\u001b[1;32m    612\u001b[0m                                        ['%s=%s'%(key,value.name()) for key, value in kwds.items()])\n\u001b[0;32m--> 613\u001b[0;31m         \u001b[0;32mreturn\u001b[0m \u001b[0mself\u001b[0m\u001b[0;34m.\u001b[0m\u001b[0mnew\u001b[0m\u001b[0;34m(\u001b[0m\u001b[0ms\u001b[0m\u001b[0;34m)\u001b[0m\u001b[0;34m\u001b[0m\u001b[0;34m\u001b[0m\u001b[0m\n\u001b[0m\u001b[1;32m    614\u001b[0m \u001b[0;34m\u001b[0m\u001b[0m\n\u001b[1;32m    615\u001b[0m     \u001b[0;32mdef\u001b[0m \u001b[0m_function_call_string\u001b[0m\u001b[0;34m(\u001b[0m\u001b[0mself\u001b[0m\u001b[0;34m,\u001b[0m \u001b[0mfunction\u001b[0m\u001b[0;34m,\u001b[0m \u001b[0margs\u001b[0m\u001b[0;34m,\u001b[0m \u001b[0mkwds\u001b[0m\u001b[0;34m)\u001b[0m\u001b[0;34m:\u001b[0m\u001b[0;34m\u001b[0m\u001b[0;34m\u001b[0m\u001b[0m\n",
      "\u001b[0;32m/researches/mambaforge/envs/sage/lib/python3.10/site-packages/sage/interfaces/interface.py\u001b[0m in \u001b[0;36mnew\u001b[0;34m(self, code)\u001b[0m\n\u001b[1;32m    380\u001b[0m \u001b[0;34m\u001b[0m\u001b[0m\n\u001b[1;32m    381\u001b[0m     \u001b[0;32mdef\u001b[0m \u001b[0mnew\u001b[0m\u001b[0;34m(\u001b[0m\u001b[0mself\u001b[0m\u001b[0;34m,\u001b[0m \u001b[0mcode\u001b[0m\u001b[0;34m)\u001b[0m\u001b[0;34m:\u001b[0m\u001b[0;34m\u001b[0m\u001b[0;34m\u001b[0m\u001b[0m\n\u001b[0;32m--> 382\u001b[0;31m         \u001b[0;32mreturn\u001b[0m \u001b[0mself\u001b[0m\u001b[0;34m(\u001b[0m\u001b[0mcode\u001b[0m\u001b[0;34m)\u001b[0m\u001b[0;34m\u001b[0m\u001b[0;34m\u001b[0m\u001b[0m\n\u001b[0m\u001b[1;32m    383\u001b[0m \u001b[0;34m\u001b[0m\u001b[0m\n\u001b[1;32m    384\u001b[0m     \u001b[0;31m###################################################################\u001b[0m\u001b[0;34m\u001b[0m\u001b[0;34m\u001b[0m\u001b[0m\n",
      "\u001b[0;32m/researches/mambaforge/envs/sage/lib/python3.10/site-packages/sage/interfaces/interface.py\u001b[0m in \u001b[0;36m__call__\u001b[0;34m(self, x, name)\u001b[0m\n\u001b[1;32m    293\u001b[0m \u001b[0;34m\u001b[0m\u001b[0m\n\u001b[1;32m    294\u001b[0m         \u001b[0;32mif\u001b[0m \u001b[0misinstance\u001b[0m\u001b[0;34m(\u001b[0m\u001b[0mx\u001b[0m\u001b[0;34m,\u001b[0m \u001b[0mstr\u001b[0m\u001b[0;34m)\u001b[0m\u001b[0;34m:\u001b[0m\u001b[0;34m\u001b[0m\u001b[0;34m\u001b[0m\u001b[0m\n\u001b[0;32m--> 295\u001b[0;31m             \u001b[0;32mreturn\u001b[0m \u001b[0mcls\u001b[0m\u001b[0;34m(\u001b[0m\u001b[0mself\u001b[0m\u001b[0;34m,\u001b[0m \u001b[0mx\u001b[0m\u001b[0;34m,\u001b[0m \u001b[0mname\u001b[0m\u001b[0;34m=\u001b[0m\u001b[0mname\u001b[0m\u001b[0;34m)\u001b[0m\u001b[0;34m\u001b[0m\u001b[0;34m\u001b[0m\u001b[0m\n\u001b[0m\u001b[1;32m    296\u001b[0m         \u001b[0;32mtry\u001b[0m\u001b[0;34m:\u001b[0m\u001b[0;34m\u001b[0m\u001b[0;34m\u001b[0m\u001b[0m\n\u001b[1;32m    297\u001b[0m             \u001b[0;31m# Special methods do not and should not have an option to\u001b[0m\u001b[0;34m\u001b[0m\u001b[0;34m\u001b[0m\u001b[0m\n",
      "\u001b[0;32m/researches/mambaforge/envs/sage/lib/python3.10/site-packages/sage/interfaces/interface.py\u001b[0m in \u001b[0;36m__init__\u001b[0;34m(self, parent, value, is_name, name)\u001b[0m\n\u001b[1;32m    732\u001b[0m                 \u001b[0mself\u001b[0m\u001b[0;34m.\u001b[0m\u001b[0m_name\u001b[0m \u001b[0;34m=\u001b[0m \u001b[0mparent\u001b[0m\u001b[0;34m.\u001b[0m\u001b[0m_create\u001b[0m\u001b[0;34m(\u001b[0m\u001b[0mvalue\u001b[0m\u001b[0;34m,\u001b[0m \u001b[0mname\u001b[0m\u001b[0;34m=\u001b[0m\u001b[0mname\u001b[0m\u001b[0;34m)\u001b[0m\u001b[0;34m\u001b[0m\u001b[0;34m\u001b[0m\u001b[0m\n\u001b[1;32m    733\u001b[0m             \u001b[0;32mexcept\u001b[0m \u001b[0;34m(\u001b[0m\u001b[0mTypeError\u001b[0m\u001b[0;34m,\u001b[0m \u001b[0mRuntimeError\u001b[0m\u001b[0;34m,\u001b[0m \u001b[0mValueError\u001b[0m\u001b[0;34m)\u001b[0m \u001b[0;32mas\u001b[0m \u001b[0mx\u001b[0m\u001b[0;34m:\u001b[0m\u001b[0;34m\u001b[0m\u001b[0;34m\u001b[0m\u001b[0m\n\u001b[0;32m--> 734\u001b[0;31m                 \u001b[0;32mraise\u001b[0m \u001b[0mTypeError\u001b[0m\u001b[0;34m(\u001b[0m\u001b[0mx\u001b[0m\u001b[0;34m)\u001b[0m\u001b[0;34m\u001b[0m\u001b[0;34m\u001b[0m\u001b[0m\n\u001b[0m\u001b[1;32m    735\u001b[0m \u001b[0;34m\u001b[0m\u001b[0m\n\u001b[1;32m    736\u001b[0m     \u001b[0;32mdef\u001b[0m \u001b[0m_latex_\u001b[0m\u001b[0;34m(\u001b[0m\u001b[0mself\u001b[0m\u001b[0;34m)\u001b[0m\u001b[0;34m:\u001b[0m\u001b[0;34m\u001b[0m\u001b[0;34m\u001b[0m\u001b[0m\n",
      "\u001b[0;31mTypeError\u001b[0m: ECL says: THROW: The catch RAT-ERR is undefined."
     ]
    }
   ],
   "source": [
    "# Schwarz, Example 5.13, p. 215\n",
    "x   = var('x')\n",
    "y   = function(\"y\")\n",
    "ode = (x**2)*((y(x)*(x**2)-2)**2) * diff(y(x),x,x)**2 \\\n",
    "      - 4*(x**4)*(x**2*y(x)-2)*diff(y(x), x,x)*diff(y(x),x)**2 \\\n",
    "      - 8*x*(x**2*y(x)-2)*diff(y(x), x,x)*diff(y(x),x) \\\n",
    "      + 4*x**6*diff(y(x),x)**4 \\\n",
    "      + 24 * x**3 * diff(y(x),x) **3 \\\n",
    "      + 24*x**2*diff(y(x),x)**2*y(x) \\\n",
    "      + 16*diff(y(x),x)**2 \\\n",
    "      + 24*x*diff(y(x),x)*y(x)**2 \\\n",
    "      + 8*y(x)**3\n",
    "ode.show()\n",
    "inf = infinitesimalsODE(ode, y, x)\n",
    "print(\".\"*25)\n",
    "for _ in inf:\n",
    "    _.show()\n",
    "print(\"Janet basis\")\n",
    "jb = Janet_Basis_from_ODE(ode, y, x)\n",
    "for _ in jb:\n",
    "    _.show()"
   ]
  },
  {
   "cell_type": "code",
   "execution_count": null,
   "id": "4dfc808d-e37e-4536-9a57-bf7f195a5aef",
   "metadata": {},
   "outputs": [],
   "source": []
  }
 ],
 "metadata": {
  "kernelspec": {
   "display_name": "SageMath 9.6",
   "language": "sage",
   "name": "sagemath"
  },
  "language_info": {
   "codemirror_mode": {
    "name": "ipython",
    "version": 3
   },
   "file_extension": ".py",
   "mimetype": "text/x-python",
   "name": "python",
   "nbconvert_exporter": "python",
   "pygments_lexer": "ipython3",
   "version": "3.10.6"
  },
  "widgets": {
   "application/vnd.jupyter.widget-state+json": {
    "state": {},
    "version_major": 2,
    "version_minor": 0
   }
  }
 },
 "nbformat": 4,
 "nbformat_minor": 5
}
