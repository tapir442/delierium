{
 "cells": [
  {
   "cell_type": "code",
   "execution_count": 1,
   "id": "545ab148",
   "metadata": {
    "tags": []
   },
   "outputs": [],
   "source": [
    "from delierium.Infinitesimals import prolongationODE, overdeterminedSystemODE, Janet_Basis_from_ODE\n",
    "from delierium.JanetBasis import Janet_Basis\n",
    "from delierium.helpers import is_derivative, order_of_derivative, eq\n",
    "from delierium.MatrixOrder import Context\n",
    "import functools\n",
    "from operator import mul\n",
    "from pprint import pprint"
   ]
  },
  {
   "cell_type": "code",
   "execution_count": 2,
   "id": "2cbcfb5f-f8da-46c7-b44b-1ca511f92b7c",
   "metadata": {},
   "outputs": [
    {
     "name": "stdout",
     "output_type": "stream",
     "text": [
      ".........................\n"
     ]
    },
    {
     "data": {
      "text/html": [
       "<html>\\(\\displaystyle -4 \\, y\\left(x\\right) \\mathrm{D}_{0, 0}\\left(\\xi\\right)\\left(y\\left(x\\right), x\\right) + 6 \\, \\mathrm{D}_{0}\\left(\\xi\\right)\\left(y\\left(x\\right), x\\right)\\)</html>"
      ],
      "text/latex": [
       "$\\displaystyle -4 \\, y\\left(x\\right) \\mathrm{D}_{0, 0}\\left(\\xi\\right)\\left(y\\left(x\\right), x\\right) + 6 \\, \\mathrm{D}_{0}\\left(\\xi\\right)\\left(y\\left(x\\right), x\\right)$"
      ],
      "text/plain": [
       "-4*y(x)*D[0, 0](xi)(y(x), x) + 6*D[0](xi)(y(x), x)"
      ]
     },
     "metadata": {},
     "output_type": "display_data"
    },
    {
     "data": {
      "text/html": [
       "<html>\\(\\displaystyle 4 \\, y\\left(x\\right) \\mathrm{D}_{0, 0}\\left(\\phi\\right)\\left(y\\left(x\\right), x\\right) - 8 \\, y\\left(x\\right) \\mathrm{D}_{0, 1}\\left(\\xi\\right)\\left(y\\left(x\\right), x\\right) + \\frac{3 \\, \\phi\\left(y\\left(x\\right), x\\right)}{y\\left(x\\right)} - 3 \\, \\mathrm{D}_{0}\\left(\\phi\\right)\\left(y\\left(x\\right), x\\right)\\)</html>"
      ],
      "text/latex": [
       "$\\displaystyle 4 \\, y\\left(x\\right) \\mathrm{D}_{0, 0}\\left(\\phi\\right)\\left(y\\left(x\\right), x\\right) - 8 \\, y\\left(x\\right) \\mathrm{D}_{0, 1}\\left(\\xi\\right)\\left(y\\left(x\\right), x\\right) + \\frac{3 \\, \\phi\\left(y\\left(x\\right), x\\right)}{y\\left(x\\right)} - 3 \\, \\mathrm{D}_{0}\\left(\\phi\\right)\\left(y\\left(x\\right), x\\right)$"
      ],
      "text/plain": [
       "4*y(x)*D[0, 0](phi)(y(x), x) - 8*y(x)*D[0, 1](xi)(y(x), x) + 3*phi(y(x), x)/y(x) - 3*D[0](phi)(y(x), x)"
      ]
     },
     "metadata": {},
     "output_type": "display_data"
    },
    {
     "data": {
      "text/html": [
       "<html>\\(\\displaystyle -36 \\, y\\left(x\\right)^{3} \\mathrm{D}_{0}\\left(\\xi\\right)\\left(y\\left(x\\right), x\\right) + 8 \\, y\\left(x\\right) \\mathrm{D}_{0, 1}\\left(\\phi\\right)\\left(y\\left(x\\right), x\\right) - 4 \\, y\\left(x\\right) \\mathrm{D}_{1, 1}\\left(\\xi\\right)\\left(y\\left(x\\right), x\\right) - 6 \\, \\mathrm{D}_{1}\\left(\\phi\\right)\\left(y\\left(x\\right), x\\right)\\)</html>"
      ],
      "text/latex": [
       "$\\displaystyle -36 \\, y\\left(x\\right)^{3} \\mathrm{D}_{0}\\left(\\xi\\right)\\left(y\\left(x\\right), x\\right) + 8 \\, y\\left(x\\right) \\mathrm{D}_{0, 1}\\left(\\phi\\right)\\left(y\\left(x\\right), x\\right) - 4 \\, y\\left(x\\right) \\mathrm{D}_{1, 1}\\left(\\xi\\right)\\left(y\\left(x\\right), x\\right) - 6 \\, \\mathrm{D}_{1}\\left(\\phi\\right)\\left(y\\left(x\\right), x\\right)$"
      ],
      "text/plain": [
       "-36*y(x)^3*D[0](xi)(y(x), x) + 8*y(x)*D[0, 1](phi)(y(x), x) - 4*y(x)*D[1, 1](xi)(y(x), x) - 6*D[1](phi)(y(x), x)"
      ]
     },
     "metadata": {},
     "output_type": "display_data"
    },
    {
     "data": {
      "text/html": [
       "<html>\\(\\displaystyle 12 \\, y\\left(x\\right)^{3} \\mathrm{D}_{0}\\left(\\phi\\right)\\left(y\\left(x\\right), x\\right) - 24 \\, y\\left(x\\right)^{3} \\mathrm{D}_{1}\\left(\\xi\\right)\\left(y\\left(x\\right), x\\right) - 9 \\, \\mathrm{D}_{0}\\left(\\xi\\right)\\left(y\\left(x\\right), x\\right) \\frac{\\partial}{\\partial x}y\\left(x\\right)^{3} - 24 \\, \\phi\\left(y\\left(x\\right), x\\right) y\\left(x\\right)^{2} + 4 \\, y\\left(x\\right) \\mathrm{D}_{1, 1}\\left(\\phi\\right)\\left(y\\left(x\\right), x\\right)\\)</html>"
      ],
      "text/latex": [
       "$\\displaystyle 12 \\, y\\left(x\\right)^{3} \\mathrm{D}_{0}\\left(\\phi\\right)\\left(y\\left(x\\right), x\\right) - 24 \\, y\\left(x\\right)^{3} \\mathrm{D}_{1}\\left(\\xi\\right)\\left(y\\left(x\\right), x\\right) - 9 \\, \\mathrm{D}_{0}\\left(\\xi\\right)\\left(y\\left(x\\right), x\\right) \\frac{\\partial}{\\partial x}y\\left(x\\right)^{3} - 24 \\, \\phi\\left(y\\left(x\\right), x\\right) y\\left(x\\right)^{2} + 4 \\, y\\left(x\\right) \\mathrm{D}_{1, 1}\\left(\\phi\\right)\\left(y\\left(x\\right), x\\right)$"
      ],
      "text/plain": [
       "12*y(x)^3*D[0](phi)(y(x), x) - 24*y(x)^3*D[1](xi)(y(x), x) - 9*D[0](xi)(y(x), x)*diff(y(x), x)^3 - 24*phi(y(x), x)*y(x)^2 + 4*y(x)*D[1, 1](phi)(y(x), x)"
      ]
     },
     "metadata": {},
     "output_type": "display_data"
    }
   ],
   "source": [
    "# Schwarz, Example 5.2, p. 200\n",
    "x = var('x')\n",
    "y = function('y')\n",
    "ode = 4*diff(y(x),x,x)*y(x) - 3*diff(y(x), x)**2-12*y(x)**3\n",
    "inf = overdeterminedSystemODE(ode, y, x)\n",
    "print(\".\"*25)\n",
    "for _ in inf:\n",
    "    _.show()\n"
   ]
  },
  {
   "cell_type": "code",
   "execution_count": null,
   "id": "0a3a01f9-a828-462a-ad3c-b9566acdc8f7",
   "metadata": {},
   "outputs": [
    {
     "name": "stdout",
     "output_type": "stream",
     "text": [
      ".........................\n"
     ]
    },
    {
     "data": {
      "text/html": [
       "<html>\\(\\displaystyle 2 \\, x^{4} \\mathrm{D}_{0}\\left(\\xi\\right)\\left(y\\left(x\\right), x\\right) - 4 \\, x^{2} \\mathrm{D}_{0, 0}\\left(\\xi\\right)\\left(y\\left(x\\right), x\\right)\\)</html>"
      ],
      "text/latex": [
       "$\\displaystyle 2 \\, x^{4} \\mathrm{D}_{0}\\left(\\xi\\right)\\left(y\\left(x\\right), x\\right) - 4 \\, x^{2} \\mathrm{D}_{0, 0}\\left(\\xi\\right)\\left(y\\left(x\\right), x\\right)$"
      ],
      "text/plain": [
       "2*x^4*D[0](xi)(y(x), x) - 4*x^2*D[0, 0](xi)(y(x), x)"
      ]
     },
     "metadata": {},
     "output_type": "display_data"
    },
    {
     "data": {
      "text/html": [
       "<html>\\(\\displaystyle -x^{4} \\mathrm{D}_{0}\\left(\\phi\\right)\\left(y\\left(x\\right), x\\right) - 2 \\, x^{3} \\xi\\left(y\\left(x\\right), x\\right) + 4 \\, x^{2} \\mathrm{D}_{0, 0}\\left(\\phi\\right)\\left(y\\left(x\\right), x\\right) - 8 \\, x^{2} \\mathrm{D}_{0, 1}\\left(\\xi\\right)\\left(y\\left(x\\right), x\\right)\\)</html>"
      ],
      "text/latex": [
       "$\\displaystyle -x^{4} \\mathrm{D}_{0}\\left(\\phi\\right)\\left(y\\left(x\\right), x\\right) - 2 \\, x^{3} \\xi\\left(y\\left(x\\right), x\\right) + 4 \\, x^{2} \\mathrm{D}_{0, 0}\\left(\\phi\\right)\\left(y\\left(x\\right), x\\right) - 8 \\, x^{2} \\mathrm{D}_{0, 1}\\left(\\xi\\right)\\left(y\\left(x\\right), x\\right)$"
      ],
      "text/plain": [
       "-x^4*D[0](phi)(y(x), x) - 2*x^3*xi(y(x), x) + 4*x^2*D[0, 0](phi)(y(x), x) - 8*x^2*D[0, 1](xi)(y(x), x)"
      ]
     },
     "metadata": {},
     "output_type": "display_data"
    },
    {
     "data": {
      "text/html": [
       "<html>\\(\\displaystyle -2 \\, x^{4} \\mathrm{D}_{1}\\left(\\phi\\right)\\left(y\\left(x\\right), x\\right) + 8 \\, x^{2} \\mathrm{D}_{0, 1}\\left(\\phi\\right)\\left(y\\left(x\\right), x\\right) - 4 \\, x^{2} \\mathrm{D}_{1, 1}\\left(\\xi\\right)\\left(y\\left(x\\right), x\\right) + 12 \\, y\\left(x\\right) \\mathrm{D}_{0}\\left(\\xi\\right)\\left(y\\left(x\\right), x\\right)\\)</html>"
      ],
      "text/latex": [
       "$\\displaystyle -2 \\, x^{4} \\mathrm{D}_{1}\\left(\\phi\\right)\\left(y\\left(x\\right), x\\right) + 8 \\, x^{2} \\mathrm{D}_{0, 1}\\left(\\phi\\right)\\left(y\\left(x\\right), x\\right) - 4 \\, x^{2} \\mathrm{D}_{1, 1}\\left(\\xi\\right)\\left(y\\left(x\\right), x\\right) + 12 \\, y\\left(x\\right) \\mathrm{D}_{0}\\left(\\xi\\right)\\left(y\\left(x\\right), x\\right)$"
      ],
      "text/plain": [
       "-2*x^4*D[1](phi)(y(x), x) + 8*x^2*D[0, 1](phi)(y(x), x) - 4*x^2*D[1, 1](xi)(y(x), x) + 12*y(x)*D[0](xi)(y(x), x)"
      ]
     },
     "metadata": {},
     "output_type": "display_data"
    },
    {
     "data": {
      "text/html": [
       "<html>\\(\\displaystyle -3 \\, x^{4} \\mathrm{D}_{0}\\left(\\xi\\right)\\left(y\\left(x\\right), x\\right) \\frac{\\partial}{\\partial x}y\\left(x\\right)^{3} + 4 \\, x^{2} \\mathrm{D}_{1, 1}\\left(\\phi\\right)\\left(y\\left(x\\right), x\\right) - 4 \\, y\\left(x\\right) \\mathrm{D}_{0}\\left(\\phi\\right)\\left(y\\left(x\\right), x\\right) + 8 \\, y\\left(x\\right) \\mathrm{D}_{1}\\left(\\xi\\right)\\left(y\\left(x\\right), x\\right) - \\frac{8 \\, \\xi\\left(y\\left(x\\right), x\\right) y\\left(x\\right)}{x} + 4 \\, \\phi\\left(y\\left(x\\right), x\\right)\\)</html>"
      ],
      "text/latex": [
       "$\\displaystyle -3 \\, x^{4} \\mathrm{D}_{0}\\left(\\xi\\right)\\left(y\\left(x\\right), x\\right) \\frac{\\partial}{\\partial x}y\\left(x\\right)^{3} + 4 \\, x^{2} \\mathrm{D}_{1, 1}\\left(\\phi\\right)\\left(y\\left(x\\right), x\\right) - 4 \\, y\\left(x\\right) \\mathrm{D}_{0}\\left(\\phi\\right)\\left(y\\left(x\\right), x\\right) + 8 \\, y\\left(x\\right) \\mathrm{D}_{1}\\left(\\xi\\right)\\left(y\\left(x\\right), x\\right) - \\frac{8 \\, \\xi\\left(y\\left(x\\right), x\\right) y\\left(x\\right)}{x} + 4 \\, \\phi\\left(y\\left(x\\right), x\\right)$"
      ],
      "text/plain": [
       "-3*x^4*D[0](xi)(y(x), x)*diff(y(x), x)^3 + 4*x^2*D[1, 1](phi)(y(x), x) - 4*y(x)*D[0](phi)(y(x), x) + 8*y(x)*D[1](xi)(y(x), x) - 8*xi(y(x), x)*y(x)/x + 4*phi(y(x), x)"
      ]
     },
     "metadata": {},
     "output_type": "display_data"
    },
    {
     "name": "stdout",
     "output_type": "stream",
     "text": [
      "Janet basis\n"
     ]
    },
    {
     "ename": "KeyboardInterrupt",
     "evalue": "",
     "output_type": "error",
     "traceback": [
      "\u001b[0;31m---------------------------------------------------------------------------\u001b[0m",
      "\u001b[0;31mKeyboardInterrupt\u001b[0m                         Traceback (most recent call last)",
      "\u001b[0;32m/researches/mambaforge/envs/sage/lib/python3.10/importlib/_bootstrap.py\u001b[0m in \u001b[0;36mparent\u001b[0;34m(self)\u001b[0m\n",
      "\u001b[0;32m/researches/mambaforge/envs/sage/lib/python3.10/site-packages/sage/rings/complex_interval.pyx\u001b[0m in \u001b[0;36msage.rings.complex_interval.ComplexIntervalFieldElement.__hash__ (build/cythonized/sage/rings/complex_interval.c:4765)\u001b[0;34m()\u001b[0m\n\u001b[1;32m    174\u001b[0m             \u001b[0;32mTrue\u001b[0m\u001b[0;34m\u001b[0m\u001b[0;34m\u001b[0m\u001b[0m\n\u001b[1;32m    175\u001b[0m         \"\"\"\n\u001b[0;32m--> 176\u001b[0;31m         \u001b[0;32mreturn\u001b[0m \u001b[0mhash\u001b[0m\u001b[0;34m(\u001b[0m\u001b[0mself\u001b[0m\u001b[0;34m.\u001b[0m\u001b[0mstr\u001b[0m\u001b[0;34m(\u001b[0m\u001b[0;34m)\u001b[0m\u001b[0;34m)\u001b[0m\u001b[0;34m\u001b[0m\u001b[0;34m\u001b[0m\u001b[0m\n\u001b[0m\u001b[1;32m    177\u001b[0m \u001b[0;34m\u001b[0m\u001b[0m\n\u001b[1;32m    178\u001b[0m     \u001b[0;32mdef\u001b[0m \u001b[0m__getitem__\u001b[0m\u001b[0;34m(\u001b[0m\u001b[0mself\u001b[0m\u001b[0;34m,\u001b[0m \u001b[0mi\u001b[0m\u001b[0;34m)\u001b[0m\u001b[0;34m:\u001b[0m\u001b[0;34m\u001b[0m\u001b[0;34m\u001b[0m\u001b[0m\n",
      "\u001b[0;32m/researches/mambaforge/envs/sage/lib/python3.10/site-packages/sage/rings/complex_interval.pyx\u001b[0m in \u001b[0;36msage.rings.complex_interval.ComplexIntervalFieldElement.str (build/cythonized/sage/rings/complex_interval.c:5278)\u001b[0;34m()\u001b[0m\n\u001b[1;32m    241\u001b[0m         \u001b[0ms\u001b[0m \u001b[0;34m=\u001b[0m \u001b[0;34m\"\"\u001b[0m\u001b[0;34m\u001b[0m\u001b[0;34m\u001b[0m\u001b[0m\n\u001b[1;32m    242\u001b[0m         \u001b[0;32mif\u001b[0m \u001b[0;32mnot\u001b[0m \u001b[0mself\u001b[0m\u001b[0;34m.\u001b[0m\u001b[0mreal\u001b[0m\u001b[0;34m(\u001b[0m\u001b[0;34m)\u001b[0m\u001b[0;34m.\u001b[0m\u001b[0mis_zero\u001b[0m\u001b[0;34m(\u001b[0m\u001b[0;34m)\u001b[0m\u001b[0;34m:\u001b[0m\u001b[0;34m\u001b[0m\u001b[0;34m\u001b[0m\u001b[0m\n\u001b[0;32m--> 243\u001b[0;31m             \u001b[0ms\u001b[0m \u001b[0;34m=\u001b[0m \u001b[0mself\u001b[0m\u001b[0;34m.\u001b[0m\u001b[0mreal\u001b[0m\u001b[0;34m(\u001b[0m\u001b[0;34m)\u001b[0m\u001b[0;34m.\u001b[0m\u001b[0mstr\u001b[0m\u001b[0;34m(\u001b[0m\u001b[0mbase\u001b[0m\u001b[0;34m=\u001b[0m\u001b[0mbase\u001b[0m\u001b[0;34m,\u001b[0m \u001b[0mstyle\u001b[0m\u001b[0;34m=\u001b[0m\u001b[0mstyle\u001b[0m\u001b[0;34m)\u001b[0m\u001b[0;34m\u001b[0m\u001b[0;34m\u001b[0m\u001b[0m\n\u001b[0m\u001b[1;32m    244\u001b[0m         \u001b[0;32mif\u001b[0m \u001b[0;32mnot\u001b[0m \u001b[0mself\u001b[0m\u001b[0;34m.\u001b[0m\u001b[0mimag\u001b[0m\u001b[0;34m(\u001b[0m\u001b[0;34m)\u001b[0m\u001b[0;34m.\u001b[0m\u001b[0mis_zero\u001b[0m\u001b[0;34m(\u001b[0m\u001b[0;34m)\u001b[0m\u001b[0;34m:\u001b[0m\u001b[0;34m\u001b[0m\u001b[0;34m\u001b[0m\u001b[0m\n\u001b[1;32m    245\u001b[0m             \u001b[0my\u001b[0m  \u001b[0;34m=\u001b[0m  \u001b[0mself\u001b[0m\u001b[0;34m.\u001b[0m\u001b[0mimag\u001b[0m\u001b[0;34m(\u001b[0m\u001b[0;34m)\u001b[0m\u001b[0;34m\u001b[0m\u001b[0;34m\u001b[0m\u001b[0m\n",
      "\u001b[0;32m/researches/mambaforge/envs/sage/lib/python3.10/site-packages/sage/rings/real_mpfi.pyx\u001b[0m in \u001b[0;36msage.rings.real_mpfi.RealIntervalFieldElement.str (build/cythonized/sage/rings/real_mpfi.c:11918)\u001b[0;34m()\u001b[0m\n\u001b[1;32m   1690\u001b[0m             \u001b[0;32melse\u001b[0m\u001b[0;34m:\u001b[0m\u001b[0;34m\u001b[0m\u001b[0;34m\u001b[0m\u001b[0m\n\u001b[1;32m   1691\u001b[0m                 \u001b[0mprefer_sci\u001b[0m \u001b[0;34m=\u001b[0m \u001b[0;32mFalse\u001b[0m\u001b[0;34m\u001b[0m\u001b[0;34m\u001b[0m\u001b[0m\n\u001b[0;32m-> 1692\u001b[0;31m             \u001b[0;32mreturn\u001b[0m \u001b[0mself\u001b[0m\u001b[0;34m.\u001b[0m\u001b[0m_str_question_style\u001b[0m\u001b[0;34m(\u001b[0m\u001b[0mbase\u001b[0m\u001b[0;34m,\u001b[0m \u001b[0merror_digits\u001b[0m\u001b[0;34m,\u001b[0m \u001b[0me\u001b[0m\u001b[0;34m,\u001b[0m \u001b[0mprefer_sci\u001b[0m\u001b[0;34m)\u001b[0m\u001b[0;34m\u001b[0m\u001b[0;34m\u001b[0m\u001b[0m\n\u001b[0m\u001b[1;32m   1693\u001b[0m \u001b[0;34m\u001b[0m\u001b[0m\n\u001b[1;32m   1694\u001b[0m         \u001b[0;32melse\u001b[0m\u001b[0;34m:\u001b[0m\u001b[0;34m\u001b[0m\u001b[0;34m\u001b[0m\u001b[0m\n",
      "\u001b[0;32m/researches/mambaforge/envs/sage/lib/python3.10/site-packages/sage/rings/real_mpfi.pyx\u001b[0m in \u001b[0;36msage.rings.real_mpfi.RealIntervalFieldElement._str_question_style (build/cythonized/sage/rings/real_mpfi.c:12505)\u001b[0;34m()\u001b[0m\n\u001b[1;32m   1923\u001b[0m         \u001b[0mcdef\u001b[0m \u001b[0mmpz_t\u001b[0m \u001b[0mupper_mpz\u001b[0m\u001b[0;34m\u001b[0m\u001b[0;34m\u001b[0m\u001b[0m\n\u001b[1;32m   1924\u001b[0m \u001b[0;34m\u001b[0m\u001b[0m\n\u001b[0;32m-> 1925\u001b[0;31m         \u001b[0msig_on\u001b[0m\u001b[0;34m(\u001b[0m\u001b[0;34m)\u001b[0m\u001b[0;34m\u001b[0m\u001b[0;34m\u001b[0m\u001b[0m\n\u001b[0m\u001b[1;32m   1926\u001b[0m         lower_s = mpfr_get_str(<char*>0, &lower_expo, base, 0,\n\u001b[1;32m   1927\u001b[0m                                 &self.value.left, MPFR_RNDD)\n",
      "\u001b[0;31mKeyboardInterrupt\u001b[0m: "
     ]
    },
    {
     "name": "stderr",
     "output_type": "stream",
     "text": [
      "Exception ignored in: 'sage.symbolic.expression.py_is_exact'\n",
      "Traceback (most recent call last):\n",
      "  File \"<frozen importlib._bootstrap>\", line 408, in parent\n",
      "  File \"sage/rings/complex_interval.pyx\", line 176, in sage.rings.complex_interval.ComplexIntervalFieldElement.__hash__ (build/cythonized/sage/rings/complex_interval.c:4765)\n",
      "  File \"sage/rings/complex_interval.pyx\", line 243, in sage.rings.complex_interval.ComplexIntervalFieldElement.str (build/cythonized/sage/rings/complex_interval.c:5278)\n",
      "  File \"sage/rings/real_mpfi.pyx\", line 1692, in sage.rings.real_mpfi.RealIntervalFieldElement.str (build/cythonized/sage/rings/real_mpfi.c:11918)\n",
      "  File \"sage/rings/real_mpfi.pyx\", line 1925, in sage.rings.real_mpfi.RealIntervalFieldElement._str_question_style (build/cythonized/sage/rings/real_mpfi.c:12505)\n",
      "KeyboardInterrupt: \n"
     ]
    },
    {
     "ename": "SystemError",
     "evalue": "<cyfunction python_check_interrupt at 0x7f865e5ecd40> returned a result with an exception set",
     "output_type": "error",
     "traceback": [
      "\u001b[0;31m---------------------------------------------------------------------------\u001b[0m",
      "\u001b[0;31mKeyboardInterrupt\u001b[0m                         Traceback (most recent call last)",
      "\u001b[0;32m/researches/mambaforge/envs/sage/lib/python3.10/site-packages/sage/rings/complex_interval.pyx\u001b[0m in \u001b[0;36msage.rings.complex_interval.ComplexIntervalFieldElement.__hash__ (build/cythonized/sage/rings/complex_interval.c:4765)\u001b[0;34m()\u001b[0m\n\u001b[1;32m    175\u001b[0m         \"\"\"\n\u001b[0;32m--> 176\u001b[0;31m         \u001b[0;32mreturn\u001b[0m \u001b[0mhash\u001b[0m\u001b[0;34m(\u001b[0m\u001b[0mself\u001b[0m\u001b[0;34m.\u001b[0m\u001b[0mstr\u001b[0m\u001b[0;34m(\u001b[0m\u001b[0;34m)\u001b[0m\u001b[0;34m)\u001b[0m\u001b[0;34m\u001b[0m\u001b[0;34m\u001b[0m\u001b[0m\n\u001b[0m\u001b[1;32m    177\u001b[0m \u001b[0;34m\u001b[0m\u001b[0m\n",
      "\u001b[0;32m/researches/mambaforge/envs/sage/lib/python3.10/site-packages/sage/rings/complex_interval.pyx\u001b[0m in \u001b[0;36msage.rings.complex_interval.ComplexIntervalFieldElement.str (build/cythonized/sage/rings/complex_interval.c:5278)\u001b[0;34m()\u001b[0m\n\u001b[1;32m    242\u001b[0m         \u001b[0;32mif\u001b[0m \u001b[0;32mnot\u001b[0m \u001b[0mself\u001b[0m\u001b[0;34m.\u001b[0m\u001b[0mreal\u001b[0m\u001b[0;34m(\u001b[0m\u001b[0;34m)\u001b[0m\u001b[0;34m.\u001b[0m\u001b[0mis_zero\u001b[0m\u001b[0;34m(\u001b[0m\u001b[0;34m)\u001b[0m\u001b[0;34m:\u001b[0m\u001b[0;34m\u001b[0m\u001b[0;34m\u001b[0m\u001b[0m\n\u001b[0;32m--> 243\u001b[0;31m             \u001b[0ms\u001b[0m \u001b[0;34m=\u001b[0m \u001b[0mself\u001b[0m\u001b[0;34m.\u001b[0m\u001b[0mreal\u001b[0m\u001b[0;34m(\u001b[0m\u001b[0;34m)\u001b[0m\u001b[0;34m.\u001b[0m\u001b[0mstr\u001b[0m\u001b[0;34m(\u001b[0m\u001b[0mbase\u001b[0m\u001b[0;34m=\u001b[0m\u001b[0mbase\u001b[0m\u001b[0;34m,\u001b[0m \u001b[0mstyle\u001b[0m\u001b[0;34m=\u001b[0m\u001b[0mstyle\u001b[0m\u001b[0;34m)\u001b[0m\u001b[0;34m\u001b[0m\u001b[0;34m\u001b[0m\u001b[0m\n\u001b[0m\u001b[1;32m    244\u001b[0m         \u001b[0;32mif\u001b[0m \u001b[0;32mnot\u001b[0m \u001b[0mself\u001b[0m\u001b[0;34m.\u001b[0m\u001b[0mimag\u001b[0m\u001b[0;34m(\u001b[0m\u001b[0;34m)\u001b[0m\u001b[0;34m.\u001b[0m\u001b[0mis_zero\u001b[0m\u001b[0;34m(\u001b[0m\u001b[0;34m)\u001b[0m\u001b[0;34m:\u001b[0m\u001b[0;34m\u001b[0m\u001b[0;34m\u001b[0m\u001b[0m\n",
      "\u001b[0;32m/researches/mambaforge/envs/sage/lib/python3.10/site-packages/sage/rings/real_mpfi.pyx\u001b[0m in \u001b[0;36msage.rings.real_mpfi.RealIntervalFieldElement.str (build/cythonized/sage/rings/real_mpfi.c:11918)\u001b[0;34m()\u001b[0m\n\u001b[1;32m   1691\u001b[0m                 \u001b[0mprefer_sci\u001b[0m \u001b[0;34m=\u001b[0m \u001b[0;32mFalse\u001b[0m\u001b[0;34m\u001b[0m\u001b[0;34m\u001b[0m\u001b[0m\n\u001b[0;32m-> 1692\u001b[0;31m             \u001b[0;32mreturn\u001b[0m \u001b[0mself\u001b[0m\u001b[0;34m.\u001b[0m\u001b[0m_str_question_style\u001b[0m\u001b[0;34m(\u001b[0m\u001b[0mbase\u001b[0m\u001b[0;34m,\u001b[0m \u001b[0merror_digits\u001b[0m\u001b[0;34m,\u001b[0m \u001b[0me\u001b[0m\u001b[0;34m,\u001b[0m \u001b[0mprefer_sci\u001b[0m\u001b[0;34m)\u001b[0m\u001b[0;34m\u001b[0m\u001b[0;34m\u001b[0m\u001b[0m\n\u001b[0m\u001b[1;32m   1693\u001b[0m \u001b[0;34m\u001b[0m\u001b[0m\n",
      "\u001b[0;32m/researches/mambaforge/envs/sage/lib/python3.10/site-packages/sage/rings/real_mpfi.pyx\u001b[0m in \u001b[0;36msage.rings.real_mpfi.RealIntervalFieldElement._str_question_style (build/cythonized/sage/rings/real_mpfi.c:12505)\u001b[0;34m()\u001b[0m\n\u001b[1;32m   1924\u001b[0m \u001b[0;34m\u001b[0m\u001b[0m\n\u001b[0;32m-> 1925\u001b[0;31m         \u001b[0msig_on\u001b[0m\u001b[0;34m(\u001b[0m\u001b[0;34m)\u001b[0m\u001b[0;34m\u001b[0m\u001b[0;34m\u001b[0m\u001b[0m\n\u001b[0m\u001b[1;32m   1926\u001b[0m         lower_s = mpfr_get_str(<char*>0, &lower_expo, base, 0,\n",
      "\u001b[0;31mKeyboardInterrupt\u001b[0m: ",
      "\nThe above exception was the direct cause of the following exception:\n",
      "\u001b[0;31mSystemError\u001b[0m                               Traceback (most recent call last)",
      "\u001b[0;32m/researches/mambaforge/envs/sage/lib/python3.10/importlib/_bootstrap.py\u001b[0m in \u001b[0;36mparent\u001b[0;34m(self)\u001b[0m\n",
      "\u001b[0;31mSystemError\u001b[0m: <cyfunction python_check_interrupt at 0x7f865e5ecd40> returned a result with an exception set"
     ]
    },
    {
     "name": "stderr",
     "output_type": "stream",
     "text": [
      "Exception ignored in: 'sage.symbolic.expression.py_is_exact'\n",
      "Traceback (most recent call last):\n",
      "  File \"<frozen importlib._bootstrap>\", line 404, in parent\n",
      "SystemError: <cyfunction python_check_interrupt at 0x7f865e5ecd40> returned a result with an exception set\n"
     ]
    },
    {
     "ename": "KeyboardInterrupt",
     "evalue": "",
     "output_type": "error",
     "traceback": [
      "\u001b[0;31m---------------------------------------------------------------------------\u001b[0m",
      "\u001b[0;31mKeyboardInterrupt\u001b[0m                         Traceback (most recent call last)",
      "\u001b[0;32m/researches/mambaforge/envs/sage/lib/python3.10/site-packages/sage/rings/complex_interval.pyx\u001b[0m in \u001b[0;36msage.rings.complex_interval.ComplexIntervalFieldElement.__hash__ (build/cythonized/sage/rings/complex_interval.c:4765)\u001b[0;34m()\u001b[0m\n\u001b[1;32m    174\u001b[0m             \u001b[0;32mTrue\u001b[0m\u001b[0;34m\u001b[0m\u001b[0;34m\u001b[0m\u001b[0m\n\u001b[1;32m    175\u001b[0m         \"\"\"\n\u001b[0;32m--> 176\u001b[0;31m         \u001b[0;32mreturn\u001b[0m \u001b[0mhash\u001b[0m\u001b[0;34m(\u001b[0m\u001b[0mself\u001b[0m\u001b[0;34m.\u001b[0m\u001b[0mstr\u001b[0m\u001b[0;34m(\u001b[0m\u001b[0;34m)\u001b[0m\u001b[0;34m)\u001b[0m\u001b[0;34m\u001b[0m\u001b[0;34m\u001b[0m\u001b[0m\n\u001b[0m\u001b[1;32m    177\u001b[0m \u001b[0;34m\u001b[0m\u001b[0m\n\u001b[1;32m    178\u001b[0m     \u001b[0;32mdef\u001b[0m \u001b[0m__getitem__\u001b[0m\u001b[0;34m(\u001b[0m\u001b[0mself\u001b[0m\u001b[0;34m,\u001b[0m \u001b[0mi\u001b[0m\u001b[0;34m)\u001b[0m\u001b[0;34m:\u001b[0m\u001b[0;34m\u001b[0m\u001b[0;34m\u001b[0m\u001b[0m\n",
      "\u001b[0;32m/researches/mambaforge/envs/sage/lib/python3.10/site-packages/sage/rings/complex_interval.pyx\u001b[0m in \u001b[0;36msage.rings.complex_interval.ComplexIntervalFieldElement.str (build/cythonized/sage/rings/complex_interval.c:5278)\u001b[0;34m()\u001b[0m\n\u001b[1;32m    241\u001b[0m         \u001b[0ms\u001b[0m \u001b[0;34m=\u001b[0m \u001b[0;34m\"\"\u001b[0m\u001b[0;34m\u001b[0m\u001b[0;34m\u001b[0m\u001b[0m\n\u001b[1;32m    242\u001b[0m         \u001b[0;32mif\u001b[0m \u001b[0;32mnot\u001b[0m \u001b[0mself\u001b[0m\u001b[0;34m.\u001b[0m\u001b[0mreal\u001b[0m\u001b[0;34m(\u001b[0m\u001b[0;34m)\u001b[0m\u001b[0;34m.\u001b[0m\u001b[0mis_zero\u001b[0m\u001b[0;34m(\u001b[0m\u001b[0;34m)\u001b[0m\u001b[0;34m:\u001b[0m\u001b[0;34m\u001b[0m\u001b[0;34m\u001b[0m\u001b[0m\n\u001b[0;32m--> 243\u001b[0;31m             \u001b[0ms\u001b[0m \u001b[0;34m=\u001b[0m \u001b[0mself\u001b[0m\u001b[0;34m.\u001b[0m\u001b[0mreal\u001b[0m\u001b[0;34m(\u001b[0m\u001b[0;34m)\u001b[0m\u001b[0;34m.\u001b[0m\u001b[0mstr\u001b[0m\u001b[0;34m(\u001b[0m\u001b[0mbase\u001b[0m\u001b[0;34m=\u001b[0m\u001b[0mbase\u001b[0m\u001b[0;34m,\u001b[0m \u001b[0mstyle\u001b[0m\u001b[0;34m=\u001b[0m\u001b[0mstyle\u001b[0m\u001b[0;34m)\u001b[0m\u001b[0;34m\u001b[0m\u001b[0;34m\u001b[0m\u001b[0m\n\u001b[0m\u001b[1;32m    244\u001b[0m         \u001b[0;32mif\u001b[0m \u001b[0;32mnot\u001b[0m \u001b[0mself\u001b[0m\u001b[0;34m.\u001b[0m\u001b[0mimag\u001b[0m\u001b[0;34m(\u001b[0m\u001b[0;34m)\u001b[0m\u001b[0;34m.\u001b[0m\u001b[0mis_zero\u001b[0m\u001b[0;34m(\u001b[0m\u001b[0;34m)\u001b[0m\u001b[0;34m:\u001b[0m\u001b[0;34m\u001b[0m\u001b[0;34m\u001b[0m\u001b[0m\n\u001b[1;32m    245\u001b[0m             \u001b[0my\u001b[0m  \u001b[0;34m=\u001b[0m  \u001b[0mself\u001b[0m\u001b[0;34m.\u001b[0m\u001b[0mimag\u001b[0m\u001b[0;34m(\u001b[0m\u001b[0;34m)\u001b[0m\u001b[0;34m\u001b[0m\u001b[0;34m\u001b[0m\u001b[0m\n",
      "\u001b[0;32m/researches/mambaforge/envs/sage/lib/python3.10/site-packages/sage/rings/real_mpfi.pyx\u001b[0m in \u001b[0;36msage.rings.real_mpfi.RealIntervalFieldElement.str (build/cythonized/sage/rings/real_mpfi.c:11918)\u001b[0;34m()\u001b[0m\n\u001b[1;32m   1690\u001b[0m             \u001b[0;32melse\u001b[0m\u001b[0;34m:\u001b[0m\u001b[0;34m\u001b[0m\u001b[0;34m\u001b[0m\u001b[0m\n\u001b[1;32m   1691\u001b[0m                 \u001b[0mprefer_sci\u001b[0m \u001b[0;34m=\u001b[0m \u001b[0;32mFalse\u001b[0m\u001b[0;34m\u001b[0m\u001b[0;34m\u001b[0m\u001b[0m\n\u001b[0;32m-> 1692\u001b[0;31m             \u001b[0;32mreturn\u001b[0m \u001b[0mself\u001b[0m\u001b[0;34m.\u001b[0m\u001b[0m_str_question_style\u001b[0m\u001b[0;34m(\u001b[0m\u001b[0mbase\u001b[0m\u001b[0;34m,\u001b[0m \u001b[0merror_digits\u001b[0m\u001b[0;34m,\u001b[0m \u001b[0me\u001b[0m\u001b[0;34m,\u001b[0m \u001b[0mprefer_sci\u001b[0m\u001b[0;34m)\u001b[0m\u001b[0;34m\u001b[0m\u001b[0;34m\u001b[0m\u001b[0m\n\u001b[0m\u001b[1;32m   1693\u001b[0m \u001b[0;34m\u001b[0m\u001b[0m\n\u001b[1;32m   1694\u001b[0m         \u001b[0;32melse\u001b[0m\u001b[0;34m:\u001b[0m\u001b[0;34m\u001b[0m\u001b[0;34m\u001b[0m\u001b[0m\n",
      "\u001b[0;32m/researches/mambaforge/envs/sage/lib/python3.10/site-packages/sage/rings/real_mpfi.pyx\u001b[0m in \u001b[0;36msage.rings.real_mpfi.RealIntervalFieldElement._str_question_style (build/cythonized/sage/rings/real_mpfi.c:12505)\u001b[0;34m()\u001b[0m\n\u001b[1;32m   1923\u001b[0m         \u001b[0mcdef\u001b[0m \u001b[0mmpz_t\u001b[0m \u001b[0mupper_mpz\u001b[0m\u001b[0;34m\u001b[0m\u001b[0;34m\u001b[0m\u001b[0m\n\u001b[1;32m   1924\u001b[0m \u001b[0;34m\u001b[0m\u001b[0m\n\u001b[0;32m-> 1925\u001b[0;31m         \u001b[0msig_on\u001b[0m\u001b[0;34m(\u001b[0m\u001b[0;34m)\u001b[0m\u001b[0;34m\u001b[0m\u001b[0;34m\u001b[0m\u001b[0m\n\u001b[0m\u001b[1;32m   1926\u001b[0m         lower_s = mpfr_get_str(<char*>0, &lower_expo, base, 0,\n\u001b[1;32m   1927\u001b[0m                                 &self.value.left, MPFR_RNDD)\n",
      "\u001b[0;31mKeyboardInterrupt\u001b[0m: "
     ]
    },
    {
     "name": "stderr",
     "output_type": "stream",
     "text": [
      "Exception ignored in: 'sage.symbolic.expression.py_is_real'\n",
      "Traceback (most recent call last):\n",
      "  File \"sage/rings/complex_interval.pyx\", line 176, in sage.rings.complex_interval.ComplexIntervalFieldElement.__hash__ (build/cythonized/sage/rings/complex_interval.c:4765)\n",
      "  File \"sage/rings/complex_interval.pyx\", line 243, in sage.rings.complex_interval.ComplexIntervalFieldElement.str (build/cythonized/sage/rings/complex_interval.c:5278)\n",
      "  File \"sage/rings/real_mpfi.pyx\", line 1692, in sage.rings.real_mpfi.RealIntervalFieldElement.str (build/cythonized/sage/rings/real_mpfi.c:11918)\n",
      "  File \"sage/rings/real_mpfi.pyx\", line 1925, in sage.rings.real_mpfi.RealIntervalFieldElement._str_question_style (build/cythonized/sage/rings/real_mpfi.c:12505)\n",
      "KeyboardInterrupt: \n"
     ]
    }
   ],
   "source": [
    "# Schwarz, Example 5.9, p.214\"\n",
    "x = var('x')\n",
    "y = function(\"y\")\n",
    "ode = 4*diff(y(x),x,x)*x**2 - (x**4) * diff(y(x), x)**2 + 4*y(x)\n",
    "inf = overdeterminedSystemODE(ode, y, x)\n",
    "print(\".\"*25)\n",
    "for _ in inf:\n",
    "    _.show()\n",
    "print(\"Janet basis\")\n",
    "jb = Janet_Basis_from_ODE(ode, y, x)\n",
    "for _ in jb:\n",
    "    _.show()\n"
   ]
  },
  {
   "cell_type": "code",
   "execution_count": null,
   "id": "5ba6d39b-7285-48c1-b280-685d2ffe26a6",
   "metadata": {},
   "outputs": [],
   "source": [
    "# Schwarz, Example 5.11, p 215\n",
    "ode = (x-diff(y(x), x))*diff(y(x), x,x) + 4 * diff(y(x), x)**2\n",
    "inf = overdeterminedSystemODE(ode, y, x)\n",
    "print(\".\"*25)\n",
    "for _ in inf:\n",
    "    _.show()\n",
    "print(\"Janet basis\")\n",
    "jb = Janet_Basis_from_ODE(ode, y, x)\n",
    "for _ in jb:\n",
    "    _.show()"
   ]
  },
  {
   "cell_type": "code",
   "execution_count": null,
   "id": "fd0a86a0-9968-4385-a86c-7d516b90892f",
   "metadata": {},
   "outputs": [],
   "source": [
    "# Arrigo, example 2.17\n",
    "ode = diff(y(x), x,x)\n",
    "inf = overdeterminedSystemODE(ode, y, x)\n",
    "print(\"========\")\n",
    "for _ in inf:\n",
    "    _.show()\n",
    "print(\"Janet basis\")\n",
    "jb = Janet_Basis_from_ODE(ode, y, x)\n",
    "for _ in jb:\n",
    "    _.show()    "
   ]
  },
  {
   "cell_type": "code",
   "execution_count": null,
   "id": "ddb2f057-bcac-437c-993d-e3b0f1dc5557",
   "metadata": {},
   "outputs": [],
   "source": [
    "ode2=4*diff(y(x),x,x)*y(x)**2 - 3* (x**2)*diff(y(x),x)*2-12*y(x)**3\n",
    "inf = overdeterminedSystemODE(ode2, y ,x)\n",
    "print(\"=======\")\n",
    "for _ in inf:\n",
    "    _.show()\n",
    "print(\"Janet basis\")\n",
    "jb = Janet_Basis_from_ODE(ode, y, x)\n",
    "for _ in jb:\n",
    "    _.show()"
   ]
  },
  {
   "cell_type": "code",
   "execution_count": null,
   "id": "1279dab5-7468-49a9-9abe-f936de8002f8",
   "metadata": {},
   "outputs": [],
   "source": [
    "ode3=diff(y(x),x,x) + y(x)*diff(y(x),x)+x*y(x)**4\n",
    "inf = overdeterminedSystemODE(ode3, y ,x)\n",
    "print(\"=========\")\n",
    "for _ in inf:\n",
    "    _.show()\n",
    "print(\"Janet basis\")\n",
    "jb = Janet_Basis_from_ODE(ode, y, x)\n",
    "for _ in jb:\n",
    "    _.show()"
   ]
  },
  {
   "cell_type": "code",
   "execution_count": null,
   "id": "bc3fa9f6-5fe6-4111-8805-71702826f3e8",
   "metadata": {
    "scrolled": true
   },
   "outputs": [],
   "source": [
    "##### Arrigo, Example 2.19, pp. 49\n",
    "x =  var(\"x\")\n",
    "y = function(\"y\")\n",
    "\n",
    "ode4=diff(y(x),x,x) + 3*y(x)*diff(y(x),x)+y(x)**3\n",
    "inf = overdeterminedSystemODE(ode4, y ,x)\n",
    "print(\"=========\")\n",
    "for _ in inf:\n",
    "    _.show()\n",
    "print(\"Janet basis\")\n",
    "jb = Janet_Basis_from_ODE(ode, y, x)\n",
    "for _ in jb:\n",
    "    _.show()"
   ]
  },
  {
   "cell_type": "code",
   "execution_count": null,
   "id": "8f548ab8-dab5-4e27-9038-04156b819924",
   "metadata": {},
   "outputs": [],
   "source": [
    "# Arrigo, Example 2.20\n",
    "ode5=diff(y(x),x,x,x) + y(x)*diff(y(x),x,x)\n",
    "inf = overdeterminedSystemODE(ode5, y ,x)\n",
    "print(\"=========\")\n",
    "for _ in inf:\n",
    "    _.show()\n",
    "print(\"Janet basis\")\n",
    "jb = Janet_Basis_from_ODE(ode, y, x)\n",
    "for _ in jb:\n",
    "    _.show()    "
   ]
  },
  {
   "cell_type": "code",
   "execution_count": null,
   "id": "4dfc808d-e37e-4536-9a57-bf7f195a5aef",
   "metadata": {},
   "outputs": [],
   "source": [
    "# Schwarz, Example 5.156 p. 217\n",
    "x = var('x')\n",
    "y = function('y')\n",
    "ode = diff(y(x),x,x)*y(x) \\\n",
    "    + diff(y(x),x,x)**2 \\\n",
    "    - diff(y(x),x)*y(x)/x \\\n",
    "    - 1/(2*x)  \\\n",
    "    - 2*x**2*exp(- (1+2*diff(y(x),x)*y(x))/(2*x))\n",
    "inf = overdeterminedSystemODE(ode, y, x)\n",
    "print(\".\"*25)\n",
    "for _ in inf:\n",
    "    _.show()\n",
    "print(\"Janet basis\")\n",
    "jb = Janet_Basis_from_ODE(ode, y, x)\n",
    "for _ in jb:\n",
    "    _.show()  \n",
    "             "
   ]
  },
  {
   "cell_type": "code",
   "execution_count": null,
   "id": "148d37ac-ce44-46d9-8918-199168f3447f",
   "metadata": {},
   "outputs": [],
   "source": [
    "# https://www.researchgate.net/publication/334785151_Lie_symmetry_Analysis_Fourth_order_Nonlinear_ordinary_differential_Equation_as_a_case_study\n",
    "x = var('x')\n",
    "y = function('y')\n",
    "ode = diff(y(x), x, 4) - diff(y(x),x,x,x)*diff(y(x),x)/y(x)\n",
    "inf = overdeterminedSystemODE(ode, y, x)\n",
    "print(\".\"*25)\n",
    "for _ in inf:\n",
    "    _.show()\n",
    "print(\"Janet basis\")\n",
    "from IPython.display import Math\n",
    "from delierium.helpers import latexer\n",
    "jb = Janet_Basis_from_ODE(ode, y, x)\n",
    "for _ in jb:\n",
    "    display(Math(latexer(_)))"
   ]
  },
  {
   "cell_type": "code",
   "execution_count": null,
   "id": "8ec3d5dc-90e6-4b2c-a10b-d225a44d6a82",
   "metadata": {},
   "outputs": [],
   "source": [
    "# a variant of https://www.researchgate.net/publication/334785151_Lie_symmetry_Analysis_Fourth_order_Nonlinear_ordinary_differential_Equation_as_a_case_study\n",
    "x = var('x')\n",
    "y = function('y')\n",
    "ode = diff(y(x), x, 5) - diff(y(x),x,x,x)*diff(y(x),x,x)/y(x)\n",
    "inf = overdeterminedSystemODE(ode, y, x)\n",
    "print(\".\"*25)\n",
    "for _ in inf:\n",
    "    _.show()\n",
    "print(\"Janet basis\")\n",
    "from IPython.display import Math\n",
    "from delierium.helpers import latexer\n",
    "jb = Janet_Basis_from_ODE(ode, y, x)\n",
    "for _ in jb:\n",
    "    display(Math(latexer(_)))"
   ]
  },
  {
   "cell_type": "markdown",
   "id": "6696dc6e-6f69-4b5e-a6ef-c7daf3ccff0a",
   "metadata": {
    "tags": []
   },
   "source": [
    "critical: why is there xi_y and xy_yy in the Janet basis? Explore! We should, in addition, also have one parametric derivative lke for phi"
   ]
  },
  {
   "cell_type": "code",
   "execution_count": null,
   "id": "48d0b00d-d5a6-4772-864c-bdbe8911f349",
   "metadata": {},
   "outputs": [],
   "source": [
    "x = var('x')\n",
    "y = function('y')\n",
    "ode = diff(y(x), x, 8) - diff(y(x),x,x,x)\n",
    "inf = overdeterminedSystemODE(ode, y, x)\n",
    "print(\".\"*25)\n",
    "for _ in inf:\n",
    "    _.show()\n",
    "print(\"Janet basis\")\n",
    "from IPython.display import Math\n",
    "from delierium.helpers import latexer\n",
    "jb = Janet_Basis_from_ODE(ode, y, x)\n",
    "for _ in jb:\n",
    "    display(Math(latexer(_)))"
   ]
  },
  {
   "cell_type": "code",
   "execution_count": null,
   "id": "f2e55d4f-e4b8-45b7-b4f3-837b2b87046a",
   "metadata": {},
   "outputs": [],
   "source": []
  }
 ],
 "metadata": {
  "kernelspec": {
   "display_name": "SageMath 9.8",
   "language": "sage",
   "name": "sagemath"
  },
  "language_info": {
   "codemirror_mode": {
    "name": "ipython",
    "version": 3
   },
   "file_extension": ".py",
   "mimetype": "text/x-python",
   "name": "python",
   "nbconvert_exporter": "python",
   "pygments_lexer": "ipython3",
   "version": "3.9.16"
  },
  "widgets": {
   "application/vnd.jupyter.widget-state+json": {
    "state": {},
    "version_major": 2,
    "version_minor": 0
   }
  }
 },
 "nbformat": 4,
 "nbformat_minor": 5
}
