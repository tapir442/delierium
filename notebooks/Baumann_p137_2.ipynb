{
 "cells": [
  {
   "cell_type": "code",
   "execution_count": 1,
   "id": "bf71fccb-702e-4019-838a-24ef9afb3f31",
   "metadata": {},
   "outputs": [],
   "source": [
    "from delierium.Infinitesimals import prolongationODE, infinitesimalsODE,Janet_Basis_from_ODE\n",
    "from delierium.JanetBasis import Janet_Basis\n",
    "from delierium.MatrixOrder import Context\n",
    "from delierium.helpers import latexer\n",
    "from sage.misc.html import html\n",
    "from IPython.core.debugger import set_trace\n",
    "from IPython.display import Math\n",
    "%load_ext line_profiler\n",
    "%load_ext snakeviz"
   ]
  },
  {
   "cell_type": "code",
   "execution_count": null,
   "id": "bbfd06a7-d53a-43e2-aff1-4188fc511efd",
   "metadata": {},
   "outputs": [
    {
     "data": {
      "text/latex": [
       "$\\displaystyle -f g(u) + u_{x}$"
      ],
      "text/plain": [
       "<IPython.core.display.Math object>"
      ]
     },
     "metadata": {},
     "output_type": "display_data"
    },
    {
     "data": {
      "text/latex": [
       "$\\displaystyle -g(u) \\xi f_{x} - f \\phi D[0](g)(u) - u_{x}^2  \\xi_{u} +  \\phi_{u} u_{x} - u_{x}  \\xi_{x} +  \\phi_{x}$"
      ],
      "text/plain": [
       "<IPython.core.display.Math object>"
      ]
     },
     "metadata": {},
     "output_type": "display_data"
    },
    {
     "name": "stdout",
     "output_type": "stream",
     "text": [
      "> \u001b[0;32m/researches/delierium/delierium/Infinitesimals.py\u001b[0m(188)\u001b[0;36minfinitesimalsODE\u001b[0;34m()\u001b[0m\n",
      "\u001b[0;32m    186 \u001b[0;31m        \u001b[0;31m# looped over from highest_order^highest_power to lowest_order^lowest_power\u001b[0m\u001b[0;34m\u001b[0m\u001b[0;34m\u001b[0m\u001b[0m\n",
      "\u001b[0m\u001b[0;32m    187 \u001b[0;31m        \u001b[0;31m# to factor out the derivatives to get the determining equations\u001b[0m\u001b[0;34m\u001b[0m\u001b[0;34m\u001b[0m\u001b[0m\n",
      "\u001b[0m\u001b[0;32m--> 188 \u001b[0;31m        \u001b[0mpowercollector\u001b[0m \u001b[0;34m=\u001b[0m \u001b[0;34m[\u001b[0m\u001b[0;36m0\u001b[0m\u001b[0;34m]\u001b[0m\u001b[0;34m*\u001b[0m\u001b[0;34m(\u001b[0m\u001b[0morder\u001b[0m\u001b[0;34m-\u001b[0m\u001b[0;36m1\u001b[0m\u001b[0;34m)\u001b[0m\u001b[0;34m\u001b[0m\u001b[0;34m\u001b[0m\u001b[0m\n",
      "\u001b[0m\u001b[0;32m    189 \u001b[0;31m        \u001b[0mv\u001b[0m \u001b[0;34m=\u001b[0m \u001b[0mnode\u001b[0m\u001b[0;34m.\u001b[0m\u001b[0mvalue\u001b[0m\u001b[0;34m\u001b[0m\u001b[0;34m\u001b[0m\u001b[0m\n",
      "\u001b[0m\u001b[0;32m    190 \u001b[0;31m        \u001b[0;32mif\u001b[0m \u001b[0mv\u001b[0m\u001b[0;34m.\u001b[0m\u001b[0moperator\u001b[0m\u001b[0;34m(\u001b[0m\u001b[0;34m)\u001b[0m \u001b[0;34m==\u001b[0m \u001b[0msage\u001b[0m\u001b[0;34m.\u001b[0m\u001b[0msymbolic\u001b[0m\u001b[0;34m.\u001b[0m\u001b[0moperators\u001b[0m\u001b[0;34m.\u001b[0m\u001b[0madd_vararg\u001b[0m\u001b[0;34m:\u001b[0m\u001b[0;34m\u001b[0m\u001b[0;34m\u001b[0m\u001b[0m\n",
      "\u001b[0m\n"
     ]
    },
    {
     "name": "stdin",
     "output_type": "stream",
     "text": [
      "ipdb>  pp locals()\n"
     ]
    },
    {
     "name": "stdout",
     "output_type": "stream",
     "text": [
      "{'all_this_stuff': set(),\n",
      " 'args': (),\n",
      " 'dependent': u,\n",
      " 'e': -f(x)^2*g(u(x))^2*D[0](xi)(u(x), x) - g(u(x))*xi(u(x), x)*diff(f(x), x) - f(x)*phi(u(x), x)*D[0](g)(u(x)) + f(x)*g(u(x))*D[0](phi)(u(x), x) - f(x)*g(u(x))*D[1](xi)(u(x), x) + D[1](phi)(u(x), x),\n",
      " 'equations': [],\n",
      " 'independent': x,\n",
      " 'kw': {},\n",
      " 'l': [-f(x)^2*g(u(x))^2*D[0](xi)(u(x), x) - g(u(x))*xi(u(x), x)*diff(f(x), x) - f(x)*phi(u(x), x)*D[0](g)(u(x)) + f(x)*g(u(x))*D[0](phi)(u(x), x) - f(x)*g(u(x))*D[1](xi)(u(x), x) + D[1](phi)(u(x), x)],\n",
      " 'mine': [diff(u(x), x)],\n",
      " 'node': Node('/-f(x)^2*g(u(x))^2*D[0](xi)(u(x), x) - g(u(x))*xi(u(x), x)*diff(f(x), x) - f(x)*phi(u(x), x)*D[0](g)(u(x)) + f(x)*g(u(x))*D[0](phi)(u(x), x) - f(x)*g(u(x))*D[1](xi)(u(x), x) + D[1](phi)(u(x), x)', latex='-f\\\\left(x\\\\right)^{2} g\\\\left(u\\\\left(x\\\\right)\\\\right)^{2} \\\\mathrm{D}_{0}\\\\left(\\\\xi\\\\right)\\\\left(u\\\\left(x\\\\right), x\\\\right) - g\\\\left(u\\\\left(x\\\\right)\\\\right) \\\\xi\\\\left(u\\\\left(x\\\\right), x\\\\right) \\\\frac{\\\\partial}{\\\\partial x}f\\\\left(x\\\\right) - f\\\\left(x\\\\right) \\\\phi\\\\left(u\\\\left(x\\\\right), x\\\\right) \\\\mathrm{D}_{0}\\\\left(g\\\\right)\\\\left(u\\\\left(x\\\\right)\\\\right) + f\\\\left(x\\\\right) g\\\\left(u\\\\left(x\\\\right)\\\\right) \\\\mathrm{D}_{0}\\\\left(\\\\phi\\\\right)\\\\left(u\\\\left(x\\\\right), x\\\\right) - f\\\\left(x\\\\right) g\\\\left(u\\\\left(x\\\\right)\\\\right) \\\\mathrm{D}_{1}\\\\left(\\\\xi\\\\right)\\\\left(u\\\\left(x\\\\right), x\\\\right) + \\\\mathrm{D}_{1}\\\\left(\\\\phi\\\\right)\\\\left(u\\\\left(x\\\\right), x\\\\right)', operator=<function add_vararg at 0x7f867e007910>, value=-f(x)^2*g(u(x))^2*D[0](xi)(u(x), x) - g(u(x))*xi(u(x), x)*diff(f(x), x) - f(x)*phi(u(x), x)*D[0](g)(u(x)) + f(x)*g(u(x))*D[0](phi)(u(x), x) - f(x)*g(u(x))*D[1](xi)(u(x), x) + D[1](phi)(u(x), x)),\n",
      " 'ode': -f(x)*g(u(x)) + diff(u(x), x),\n",
      " 'ode1': -f(x)^2*g(u(x))^2*D[0](xi)(u(x), x) - g(u(x))*xi(u(x), x)*diff(f(x), x) - f(x)*phi(u(x), x)*D[0](g)(u(x)) + f(x)*g(u(x))*D[0](phi)(u(x), x) - f(x)*g(u(x))*D[1](xi)(u(x), x) + D[1](phi)(u(x), x),\n",
      " 'order': 1,\n",
      " 'prolongation': -g(u(x))*xi(u(x), x)*diff(f(x), x) - f(x)*phi(u(x), x)*D[0](g)(u(x)) - diff(u(x), x)^2*D[0](xi)(u(x), x) + D[0](phi)(u(x), x)*diff(u(x), x) - diff(u(x), x)*D[1](xi)(u(x), x) + D[1](phi)(u(x), x),\n",
      " 's1': [diff(u(x), x) == f(x)*g(u(x))],\n",
      " 'tree': <delierium.helpers.ExpressionTree object at 0x7f867d6da3b0>}\n"
     ]
    },
    {
     "name": "stdin",
     "output_type": "stream",
     "text": [
      "ipdb>  e.show()\n"
     ]
    },
    {
     "data": {
      "text/html": [
       "<html>\\(\\displaystyle -f\\left(x\\right)^{2} g\\left(u\\left(x\\right)\\right)^{2} \\mathrm{D}_{0}\\left(\\xi\\right)\\left(u\\left(x\\right), x\\right) - g\\left(u\\left(x\\right)\\right) \\xi\\left(u\\left(x\\right), x\\right) \\frac{\\partial}{\\partial x}f\\left(x\\right) - f\\left(x\\right) \\phi\\left(u\\left(x\\right), x\\right) \\mathrm{D}_{0}\\left(g\\right)\\left(u\\left(x\\right)\\right) + f\\left(x\\right) g\\left(u\\left(x\\right)\\right) \\mathrm{D}_{0}\\left(\\phi\\right)\\left(u\\left(x\\right), x\\right) - f\\left(x\\right) g\\left(u\\left(x\\right)\\right) \\mathrm{D}_{1}\\left(\\xi\\right)\\left(u\\left(x\\right), x\\right) + \\mathrm{D}_{1}\\left(\\phi\\right)\\left(u\\left(x\\right), x\\right)\\)</html>"
      ],
      "text/latex": [
       "$\\displaystyle -f\\left(x\\right)^{2} g\\left(u\\left(x\\right)\\right)^{2} \\mathrm{D}_{0}\\left(\\xi\\right)\\left(u\\left(x\\right), x\\right) - g\\left(u\\left(x\\right)\\right) \\xi\\left(u\\left(x\\right), x\\right) \\frac{\\partial}{\\partial x}f\\left(x\\right) - f\\left(x\\right) \\phi\\left(u\\left(x\\right), x\\right) \\mathrm{D}_{0}\\left(g\\right)\\left(u\\left(x\\right)\\right) + f\\left(x\\right) g\\left(u\\left(x\\right)\\right) \\mathrm{D}_{0}\\left(\\phi\\right)\\left(u\\left(x\\right), x\\right) - f\\left(x\\right) g\\left(u\\left(x\\right)\\right) \\mathrm{D}_{1}\\left(\\xi\\right)\\left(u\\left(x\\right), x\\right) + \\mathrm{D}_{1}\\left(\\phi\\right)\\left(u\\left(x\\right), x\\right)$"
      ],
      "text/plain": [
       "-f(x)^2*g(u(x))^2*D[0](xi)(u(x), x) - g(u(x))*xi(u(x), x)*diff(f(x), x) - f(x)*phi(u(x), x)*D[0](g)(u(x)) + f(x)*g(u(x))*D[0](phi)(u(x), x) - f(x)*g(u(x))*D[1](xi)(u(x), x) + D[1](phi)(u(x), x)"
      ]
     },
     "metadata": {},
     "output_type": "display_data"
    },
    {
     "name": "stdin",
     "output_type": "stream",
     "text": [
      "ipdb>  dir(tree)\n"
     ]
    },
    {
     "name": "stdout",
     "output_type": "stream",
     "text": [
      "['__class__', '__delattr__', '__dict__', '__dir__', '__doc__', '__eq__', '__format__', '__ge__', '__getattribute__', '__gt__', '__hash__', '__init__', '__init_subclass__', '__le__', '__lt__', '__module__', '__ne__', '__new__', '__reduce__', '__reduce_ex__', '__repr__', '__setattr__', '__sizeof__', '__str__', '__subclasshook__', '__weakref__', '_expand', 'diffs', 'funcs', 'gschisti', 'latex', 'latex_names', 'powers', 'root']\n"
     ]
    },
    {
     "name": "stdin",
     "output_type": "stream",
     "text": [
      "ipdb>  pp dir(tree.root)\n"
     ]
    },
    {
     "name": "stdout",
     "output_type": "stream",
     "text": [
      "['_NodeMixin__attach',\n",
      " '_NodeMixin__check_children',\n",
      " '_NodeMixin__check_loop',\n",
      " '_NodeMixin__children',\n",
      " '_NodeMixin__children_or_empty',\n",
      " '_NodeMixin__detach',\n",
      " '__class__',\n",
      " '__delattr__',\n",
      " '__dict__',\n",
      " '__dir__',\n",
      " '__doc__',\n",
      " '__eq__',\n",
      " '__format__',\n",
      " '__ge__',\n",
      " '__getattribute__',\n",
      " '__gt__',\n",
      " '__hash__',\n",
      " '__init__',\n",
      " '__init_subclass__',\n",
      " '__le__',\n",
      " '__lt__',\n",
      " '__module__',\n",
      " '__ne__',\n",
      " '__new__',\n",
      " '__reduce__',\n",
      " '__reduce_ex__',\n",
      " '__repr__',\n",
      " '__setattr__',\n",
      " '__sizeof__',\n",
      " '__str__',\n",
      " '__subclasshook__',\n",
      " '__weakref__',\n",
      " '_path',\n",
      " '_post_attach',\n",
      " '_post_attach_children',\n",
      " '_post_detach',\n",
      " '_post_detach_children',\n",
      " '_pre_attach',\n",
      " '_pre_attach_children',\n",
      " '_pre_detach',\n",
      " '_pre_detach_children',\n",
      " 'ancestors',\n",
      " 'anchestors',\n",
      " 'children',\n",
      " 'depth',\n",
      " 'descendants',\n",
      " 'height',\n",
      " 'is_leaf',\n",
      " 'is_root',\n",
      " 'iter_path_reverse',\n",
      " 'latex',\n",
      " 'leaves',\n",
      " 'name',\n",
      " 'operator',\n",
      " 'parent',\n",
      " 'path',\n",
      " 'root',\n",
      " 'separator',\n",
      " 'siblings',\n",
      " 'value']\n"
     ]
    },
    {
     "name": "stdin",
     "output_type": "stream",
     "text": [
      "ipdb>  print(tree.root)\n"
     ]
    },
    {
     "name": "stdout",
     "output_type": "stream",
     "text": [
      "Node('/-f(x)^2*g(u(x))^2*D[0](xi)(u(x), x) - g(u(x))*xi(u(x), x)*diff(f(x), x) - f(x)*phi(u(x), x)*D[0](g)(u(x)) + f(x)*g(u(x))*D[0](phi)(u(x), x) - f(x)*g(u(x))*D[1](xi)(u(x), x) + D[1](phi)(u(x), x)', latex='-f\\\\left(x\\\\right)^{2} g\\\\left(u\\\\left(x\\\\right)\\\\right)^{2} \\\\mathrm{D}_{0}\\\\left(\\\\xi\\\\right)\\\\left(u\\\\left(x\\\\right), x\\\\right) - g\\\\left(u\\\\left(x\\\\right)\\\\right) \\\\xi\\\\left(u\\\\left(x\\\\right), x\\\\right) \\\\frac{\\\\partial}{\\\\partial x}f\\\\left(x\\\\right) - f\\\\left(x\\\\right) \\\\phi\\\\left(u\\\\left(x\\\\right), x\\\\right) \\\\mathrm{D}_{0}\\\\left(g\\\\right)\\\\left(u\\\\left(x\\\\right)\\\\right) + f\\\\left(x\\\\right) g\\\\left(u\\\\left(x\\\\right)\\\\right) \\\\mathrm{D}_{0}\\\\left(\\\\phi\\\\right)\\\\left(u\\\\left(x\\\\right), x\\\\right) - f\\\\left(x\\\\right) g\\\\left(u\\\\left(x\\\\right)\\\\right) \\\\mathrm{D}_{1}\\\\left(\\\\xi\\\\right)\\\\left(u\\\\left(x\\\\right), x\\\\right) + \\\\mathrm{D}_{1}\\\\left(\\\\phi\\\\right)\\\\left(u\\\\left(x\\\\right), x\\\\right)', operator=<function add_vararg at 0x7f867e007910>, value=-f(x)^2*g(u(x))^2*D[0](xi)(u(x), x) - g(u(x))*xi(u(x), x)*diff(f(x), x) - f(x)*phi(u(x), x)*D[0](g)(u(x)) + f(x)*g(u(x))*D[0](phi)(u(x), x) - f(x)*g(u(x))*D[1](xi)(u(x), x) + D[1](phi)(u(x), x))\n"
     ]
    },
    {
     "name": "stdin",
     "output_type": "stream",
     "text": [
      "ipdb>  \n"
     ]
    },
    {
     "name": "stdout",
     "output_type": "stream",
     "text": [
      "Node('/-f(x)^2*g(u(x))^2*D[0](xi)(u(x), x) - g(u(x))*xi(u(x), x)*diff(f(x), x) - f(x)*phi(u(x), x)*D[0](g)(u(x)) + f(x)*g(u(x))*D[0](phi)(u(x), x) - f(x)*g(u(x))*D[1](xi)(u(x), x) + D[1](phi)(u(x), x)', latex='-f\\\\left(x\\\\right)^{2} g\\\\left(u\\\\left(x\\\\right)\\\\right)^{2} \\\\mathrm{D}_{0}\\\\left(\\\\xi\\\\right)\\\\left(u\\\\left(x\\\\right), x\\\\right) - g\\\\left(u\\\\left(x\\\\right)\\\\right) \\\\xi\\\\left(u\\\\left(x\\\\right), x\\\\right) \\\\frac{\\\\partial}{\\\\partial x}f\\\\left(x\\\\right) - f\\\\left(x\\\\right) \\\\phi\\\\left(u\\\\left(x\\\\right), x\\\\right) \\\\mathrm{D}_{0}\\\\left(g\\\\right)\\\\left(u\\\\left(x\\\\right)\\\\right) + f\\\\left(x\\\\right) g\\\\left(u\\\\left(x\\\\right)\\\\right) \\\\mathrm{D}_{0}\\\\left(\\\\phi\\\\right)\\\\left(u\\\\left(x\\\\right), x\\\\right) - f\\\\left(x\\\\right) g\\\\left(u\\\\left(x\\\\right)\\\\right) \\\\mathrm{D}_{1}\\\\left(\\\\xi\\\\right)\\\\left(u\\\\left(x\\\\right), x\\\\right) + \\\\mathrm{D}_{1}\\\\left(\\\\phi\\\\right)\\\\left(u\\\\left(x\\\\right), x\\\\right)', operator=<function add_vararg at 0x7f867e007910>, value=-f(x)^2*g(u(x))^2*D[0](xi)(u(x), x) - g(u(x))*xi(u(x), x)*diff(f(x), x) - f(x)*phi(u(x), x)*D[0](g)(u(x)) + f(x)*g(u(x))*D[0](phi)(u(x), x) - f(x)*g(u(x))*D[1](xi)(u(x), x) + D[1](phi)(u(x), x))\n"
     ]
    },
    {
     "name": "stdin",
     "output_type": "stream",
     "text": [
      "ipdb>  \n"
     ]
    },
    {
     "name": "stdout",
     "output_type": "stream",
     "text": [
      "Node('/-f(x)^2*g(u(x))^2*D[0](xi)(u(x), x) - g(u(x))*xi(u(x), x)*diff(f(x), x) - f(x)*phi(u(x), x)*D[0](g)(u(x)) + f(x)*g(u(x))*D[0](phi)(u(x), x) - f(x)*g(u(x))*D[1](xi)(u(x), x) + D[1](phi)(u(x), x)', latex='-f\\\\left(x\\\\right)^{2} g\\\\left(u\\\\left(x\\\\right)\\\\right)^{2} \\\\mathrm{D}_{0}\\\\left(\\\\xi\\\\right)\\\\left(u\\\\left(x\\\\right), x\\\\right) - g\\\\left(u\\\\left(x\\\\right)\\\\right) \\\\xi\\\\left(u\\\\left(x\\\\right), x\\\\right) \\\\frac{\\\\partial}{\\\\partial x}f\\\\left(x\\\\right) - f\\\\left(x\\\\right) \\\\phi\\\\left(u\\\\left(x\\\\right), x\\\\right) \\\\mathrm{D}_{0}\\\\left(g\\\\right)\\\\left(u\\\\left(x\\\\right)\\\\right) + f\\\\left(x\\\\right) g\\\\left(u\\\\left(x\\\\right)\\\\right) \\\\mathrm{D}_{0}\\\\left(\\\\phi\\\\right)\\\\left(u\\\\left(x\\\\right), x\\\\right) - f\\\\left(x\\\\right) g\\\\left(u\\\\left(x\\\\right)\\\\right) \\\\mathrm{D}_{1}\\\\left(\\\\xi\\\\right)\\\\left(u\\\\left(x\\\\right), x\\\\right) + \\\\mathrm{D}_{1}\\\\left(\\\\phi\\\\right)\\\\left(u\\\\left(x\\\\right), x\\\\right)', operator=<function add_vararg at 0x7f867e007910>, value=-f(x)^2*g(u(x))^2*D[0](xi)(u(x), x) - g(u(x))*xi(u(x), x)*diff(f(x), x) - f(x)*phi(u(x), x)*D[0](g)(u(x)) + f(x)*g(u(x))*D[0](phi)(u(x), x) - f(x)*g(u(x))*D[1](xi)(u(x), x) + D[1](phi)(u(x), x))\n"
     ]
    },
    {
     "name": "stdin",
     "output_type": "stream",
     "text": [
      "ipdb>  tree.root.show()\n"
     ]
    },
    {
     "name": "stdout",
     "output_type": "stream",
     "text": [
      "*** AttributeError: 'Node' object has no attribute 'show'\n"
     ]
    },
    {
     "name": "stdin",
     "output_type": "stream",
     "text": [
      "ipdb>  e.show()\n"
     ]
    },
    {
     "data": {
      "text/html": [
       "<html>\\(\\displaystyle -f\\left(x\\right)^{2} g\\left(u\\left(x\\right)\\right)^{2} \\mathrm{D}_{0}\\left(\\xi\\right)\\left(u\\left(x\\right), x\\right) - g\\left(u\\left(x\\right)\\right) \\xi\\left(u\\left(x\\right), x\\right) \\frac{\\partial}{\\partial x}f\\left(x\\right) - f\\left(x\\right) \\phi\\left(u\\left(x\\right), x\\right) \\mathrm{D}_{0}\\left(g\\right)\\left(u\\left(x\\right)\\right) + f\\left(x\\right) g\\left(u\\left(x\\right)\\right) \\mathrm{D}_{0}\\left(\\phi\\right)\\left(u\\left(x\\right), x\\right) - f\\left(x\\right) g\\left(u\\left(x\\right)\\right) \\mathrm{D}_{1}\\left(\\xi\\right)\\left(u\\left(x\\right), x\\right) + \\mathrm{D}_{1}\\left(\\phi\\right)\\left(u\\left(x\\right), x\\right)\\)</html>"
      ],
      "text/latex": [
       "$\\displaystyle -f\\left(x\\right)^{2} g\\left(u\\left(x\\right)\\right)^{2} \\mathrm{D}_{0}\\left(\\xi\\right)\\left(u\\left(x\\right), x\\right) - g\\left(u\\left(x\\right)\\right) \\xi\\left(u\\left(x\\right), x\\right) \\frac{\\partial}{\\partial x}f\\left(x\\right) - f\\left(x\\right) \\phi\\left(u\\left(x\\right), x\\right) \\mathrm{D}_{0}\\left(g\\right)\\left(u\\left(x\\right)\\right) + f\\left(x\\right) g\\left(u\\left(x\\right)\\right) \\mathrm{D}_{0}\\left(\\phi\\right)\\left(u\\left(x\\right), x\\right) - f\\left(x\\right) g\\left(u\\left(x\\right)\\right) \\mathrm{D}_{1}\\left(\\xi\\right)\\left(u\\left(x\\right), x\\right) + \\mathrm{D}_{1}\\left(\\phi\\right)\\left(u\\left(x\\right), x\\right)$"
      ],
      "text/plain": [
       "-f(x)^2*g(u(x))^2*D[0](xi)(u(x), x) - g(u(x))*xi(u(x), x)*diff(f(x), x) - f(x)*phi(u(x), x)*D[0](g)(u(x)) + f(x)*g(u(x))*D[0](phi)(u(x), x) - f(x)*g(u(x))*D[1](xi)(u(x), x) + D[1](phi)(u(x), x)"
      ]
     },
     "metadata": {},
     "output_type": "display_data"
    },
    {
     "name": "stdin",
     "output_type": "stream",
     "text": [
      "ipdb>  n\n"
     ]
    },
    {
     "name": "stdout",
     "output_type": "stream",
     "text": [
      "> \u001b[0;32m/researches/delierium/delierium/Infinitesimals.py\u001b[0m(189)\u001b[0;36minfinitesimalsODE\u001b[0;34m()\u001b[0m\n",
      "\u001b[0;32m    187 \u001b[0;31m        \u001b[0;31m# to factor out the derivatives to get the determining equations\u001b[0m\u001b[0;34m\u001b[0m\u001b[0;34m\u001b[0m\u001b[0m\n",
      "\u001b[0m\u001b[0;32m    188 \u001b[0;31m        \u001b[0mpowercollector\u001b[0m \u001b[0;34m=\u001b[0m \u001b[0;34m[\u001b[0m\u001b[0;36m0\u001b[0m\u001b[0;34m]\u001b[0m\u001b[0;34m*\u001b[0m\u001b[0;34m(\u001b[0m\u001b[0morder\u001b[0m\u001b[0;34m-\u001b[0m\u001b[0;36m1\u001b[0m\u001b[0;34m)\u001b[0m\u001b[0;34m\u001b[0m\u001b[0;34m\u001b[0m\u001b[0m\n",
      "\u001b[0m\u001b[0;32m--> 189 \u001b[0;31m        \u001b[0mv\u001b[0m \u001b[0;34m=\u001b[0m \u001b[0mnode\u001b[0m\u001b[0;34m.\u001b[0m\u001b[0mvalue\u001b[0m\u001b[0;34m\u001b[0m\u001b[0;34m\u001b[0m\u001b[0m\n",
      "\u001b[0m\u001b[0;32m    190 \u001b[0;31m        \u001b[0;32mif\u001b[0m \u001b[0mv\u001b[0m\u001b[0;34m.\u001b[0m\u001b[0moperator\u001b[0m\u001b[0;34m(\u001b[0m\u001b[0;34m)\u001b[0m \u001b[0;34m==\u001b[0m \u001b[0msage\u001b[0m\u001b[0;34m.\u001b[0m\u001b[0msymbolic\u001b[0m\u001b[0;34m.\u001b[0m\u001b[0moperators\u001b[0m\u001b[0;34m.\u001b[0m\u001b[0madd_vararg\u001b[0m\u001b[0;34m:\u001b[0m\u001b[0;34m\u001b[0m\u001b[0;34m\u001b[0m\u001b[0m\n",
      "\u001b[0m\u001b[0;32m    191 \u001b[0;31m            \u001b[0;32mcontinue\u001b[0m\u001b[0;34m\u001b[0m\u001b[0;34m\u001b[0m\u001b[0m\n",
      "\u001b[0m\n"
     ]
    },
    {
     "name": "stdin",
     "output_type": "stream",
     "text": [
      "ipdb>  pp order\n"
     ]
    },
    {
     "name": "stdout",
     "output_type": "stream",
     "text": [
      "1\n"
     ]
    }
   ],
   "source": [
    "# Example 2, p.137\n",
    "x = var('x')\n",
    "u = function('u')\n",
    "f = function(\"f\")\n",
    "g = function(\"g\")\n",
    "ode = diff(u(x), x) - g(u(x))*f(x)\n",
    "display(Math(latexer(ode)))\n",
    "inf = prolongationODE(ode, u, x)\n",
    "# XXX: prolongation is wrong\n",
    "# XXX: infinitesimals crashes. But we have oreder 1. So no infinitesimal computable\n",
    "# XXX: display is broken\n",
    "display(Math(latexer(inf[0])))\n",
    "inf = infinitesimalsODE(ode, u, x)\n",
    "print(\"determining system:\")\n",
    "for _ in inf:\n",
    "    display(Math(latexer(_)))"
   ]
  },
  {
   "cell_type": "code",
   "execution_count": null,
   "id": "727f9f69-b99f-4f24-b310-979bba8710ea",
   "metadata": {},
   "outputs": [],
   "source": []
  }
 ],
 "metadata": {
  "kernelspec": {
   "display_name": "SageMath 9.7",
   "language": "sage",
   "name": "sagemath"
  },
  "language_info": {
   "codemirror_mode": {
    "name": "ipython",
    "version": 3
   },
   "file_extension": ".py",
   "mimetype": "text/x-python",
   "name": "python",
   "nbconvert_exporter": "python",
   "pygments_lexer": "ipython3",
   "version": "3.10.8"
  },
  "widgets": {
   "application/vnd.jupyter.widget-state+json": {
    "state": {},
    "version_major": 2,
    "version_minor": 0
   }
  }
 },
 "nbformat": 4,
 "nbformat_minor": 5
}
