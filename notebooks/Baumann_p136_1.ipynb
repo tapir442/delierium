{
 "cells": [
  {
   "cell_type": "code",
   "execution_count": 1,
   "id": "7e695652-8e2c-4438-8f42-e3fd8d71ed86",
   "metadata": {},
   "outputs": [],
   "source": [
    "from delierium.Infinitesimals import prolongationODE, infinitesimalsODE,Janet_Basis_from_ODE\n",
    "from delierium.JanetBasis import Janet_Basis\n",
    "from delierium.MatrixOrder import Context\n",
    "from delierium.helpers import latexer\n",
    "from sage.misc.html import html\n",
    "from IPython.core.debugger import set_trace\n",
    "from IPython.display import Math\n",
    "%load_ext line_profiler\n",
    "%load_ext snakeviz"
   ]
  },
  {
   "cell_type": "code",
   "execution_count": 2,
   "id": "029b9b5e-7385-46cf-8fba-31fc48173358",
   "metadata": {},
   "outputs": [],
   "source": [
    "#def show(expr):\n",
    " #   from sage.symbolic.function import Function\n",
    " #   set_trace()\n",
    " #   functions = expr.atoms(Function)\n",
    "#    reps = {}\n",
    "\n",
    "    #for fun in functions:\n",
    "     #   # Consider the case that some functions won't have the name\n",
    "  #      # attribute e.g. Abs of an elementary function\n",
    "  #      try:            \n",
    "  #          reps[fun] = Symbol(fun.name) # Otherwise functions with greek symbols aren't replaced\n",
    "  #      except AttributeError:\n",
    "  #          continue\n",
    "\n",
    "    #dreps = [(deriv, Symbol(deriv.expr.subs(reps).name + \"_{,\" + \n",
    "    #                        ''.join(par.name for par in deriv.variables) + \"}\"))  \\\n",
    "   #          for deriv in expr.atoms(Derivative)]\n",
    "\n",
    "   # # Ensure that higher order derivatives are replaced first, then lower ones. \n",
    "    # Otherwise you get d/dr w_r instead of w_rr\n",
    "   # dreps.sort(key=lambda x: len(x[0].variables), reverse=True)\n",
    "    #output = expr.subs(dreps).subs(reps)\n",
    "\n",
    "    #display(output)"
   ]
  },
  {
   "cell_type": "code",
   "execution_count": 3,
   "id": "d8c9819f-2b8b-4490-95dd-3361e500086d",
   "metadata": {},
   "outputs": [
    {
     "data": {
      "text/latex": [
       "$\\displaystyle -F + u_{x}$"
      ],
      "text/plain": [
       "<IPython.core.display.Math object>"
      ]
     },
     "metadata": {},
     "output_type": "display_data"
    },
    {
     "data": {
      "text/latex": [
       "$\\displaystyle -u_{x}^2  \\xi_{u} - \\phi  F_{u} - \\xi  F_{x} +  \\phi_{u} u_{x} - u_{x}  \\xi_{x} +  \\phi_{x}$"
      ],
      "text/plain": [
       "<IPython.core.display.Math object>"
      ]
     },
     "metadata": {},
     "output_type": "display_data"
    },
    {
     "data": {
      "text/html": [
       "<html>\\(\\displaystyle \\xi\\left(u\\left(x\\right), x\\right) \\mathrm{D}_{0}\\left(F\\right)\\left(u\\left(x\\right), x\\right) \\frac{\\partial}{\\partial x}u\\left(x\\right) - \\frac{\\partial}{\\partial x}u\\left(x\\right)^{2} \\mathrm{D}_{0}\\left(\\xi\\right)\\left(u\\left(x\\right), x\\right) - {\\left(\\mathrm{D}_{0}\\left(F\\right)\\left(u\\left(x\\right), x\\right) \\frac{\\partial}{\\partial x}u\\left(x\\right) + \\mathrm{D}_{1}\\left(F\\right)\\left(u\\left(x\\right), x\\right) - \\frac{\\partial^{2}}{(\\partial x)^{2}}u\\left(x\\right)\\right)} \\xi\\left(u\\left(x\\right), x\\right) - \\phi\\left(u\\left(x\\right), x\\right) \\mathrm{D}_{0}\\left(F\\right)\\left(u\\left(x\\right), x\\right) + \\mathrm{D}_{0}\\left(\\phi\\right)\\left(u\\left(x\\right), x\\right) \\frac{\\partial}{\\partial x}u\\left(x\\right) - \\xi\\left(u\\left(x\\right), x\\right) \\frac{\\partial^{2}}{(\\partial x)^{2}}u\\left(x\\right) - \\frac{\\partial}{\\partial x}u\\left(x\\right) \\mathrm{D}_{1}\\left(\\xi\\right)\\left(u\\left(x\\right), x\\right) + \\mathrm{D}_{1}\\left(\\phi\\right)\\left(u\\left(x\\right), x\\right)\\)</html>"
      ],
      "text/latex": [
       "$\\displaystyle \\xi\\left(u\\left(x\\right), x\\right) \\mathrm{D}_{0}\\left(F\\right)\\left(u\\left(x\\right), x\\right) \\frac{\\partial}{\\partial x}u\\left(x\\right) - \\frac{\\partial}{\\partial x}u\\left(x\\right)^{2} \\mathrm{D}_{0}\\left(\\xi\\right)\\left(u\\left(x\\right), x\\right) - {\\left(\\mathrm{D}_{0}\\left(F\\right)\\left(u\\left(x\\right), x\\right) \\frac{\\partial}{\\partial x}u\\left(x\\right) + \\mathrm{D}_{1}\\left(F\\right)\\left(u\\left(x\\right), x\\right) - \\frac{\\partial^{2}}{(\\partial x)^{2}}u\\left(x\\right)\\right)} \\xi\\left(u\\left(x\\right), x\\right) - \\phi\\left(u\\left(x\\right), x\\right) \\mathrm{D}_{0}\\left(F\\right)\\left(u\\left(x\\right), x\\right) + \\mathrm{D}_{0}\\left(\\phi\\right)\\left(u\\left(x\\right), x\\right) \\frac{\\partial}{\\partial x}u\\left(x\\right) - \\xi\\left(u\\left(x\\right), x\\right) \\frac{\\partial^{2}}{(\\partial x)^{2}}u\\left(x\\right) - \\frac{\\partial}{\\partial x}u\\left(x\\right) \\mathrm{D}_{1}\\left(\\xi\\right)\\left(u\\left(x\\right), x\\right) + \\mathrm{D}_{1}\\left(\\phi\\right)\\left(u\\left(x\\right), x\\right)$"
      ],
      "text/plain": [
       "xi(u(x), x)*D[0](F)(u(x), x)*diff(u(x), x) - diff(u(x), x)^2*D[0](xi)(u(x), x) - (D[0](F)(u(x), x)*diff(u(x), x) + D[1](F)(u(x), x) - diff(u(x), x, x))*xi(u(x), x) - phi(u(x), x)*D[0](F)(u(x), x) + D[0](phi)(u(x), x)*diff(u(x), x) - xi(u(x), x)*diff(u(x), x, x) - diff(u(x), x)*D[1](xi)(u(x), x) + D[1](phi)(u(x), x)"
      ]
     },
     "metadata": {},
     "output_type": "display_data"
    },
    {
     "name": "stdout",
     "output_type": "stream",
     "text": [
      "Order 1 ODEs have no meaningful infinitesimals\n",
      "determining system:\n"
     ]
    }
   ],
   "source": [
    "# Example 1, p.136\n",
    "x   = var('x')\n",
    "u   = function('u')\n",
    "F   = function(\"F\")\n",
    "ode = diff(u(x), x) - F(u(x), x)\n",
    "display(Math(latexer(ode)))\n",
    "inf = prolongationODE(ode, u, x)\n",
    "display(Math(latexer(inf[0])))\n",
    "show(inf[0])\n",
    "#%snakeviz \n",
    "inf = infinitesimalsODE(ode, u, x)\n",
    "print(\"determining system:\")\n",
    "for _ in inf:\n",
    "    display(Math(latexer(_)))"
   ]
  },
  {
   "cell_type": "code",
   "execution_count": null,
   "id": "35cb93be-64ca-457f-91e4-1e1a1a11abaf",
   "metadata": {},
   "outputs": [],
   "source": []
  }
 ],
 "metadata": {
  "kernelspec": {
   "display_name": "SageMath 9.7",
   "language": "sage",
   "name": "sagemath"
  },
  "language_info": {
   "codemirror_mode": {
    "name": "ipython",
    "version": 3
   },
   "file_extension": ".py",
   "mimetype": "text/x-python",
   "name": "python",
   "nbconvert_exporter": "python",
   "pygments_lexer": "ipython3",
   "version": "3.10.8"
  },
  "widgets": {
   "application/vnd.jupyter.widget-state+json": {
    "state": {},
    "version_major": 2,
    "version_minor": 0
   }
  }
 },
 "nbformat": 4,
 "nbformat_minor": 5
}
