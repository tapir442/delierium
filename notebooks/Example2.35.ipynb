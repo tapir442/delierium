{
 "cells": [
  {
   "cell_type": "code",
   "execution_count": null,
   "id": "e412785d-8658-4730-bcdb-047446d74b83",
   "metadata": {},
   "outputs": [],
   "source": []
  },
  {
   "cell_type": "code",
   "execution_count": 1,
   "id": "36f9acb5-1d91-4381-aa31-1555158148df",
   "metadata": {},
   "outputs": [],
   "source": [
    "from delierium.Infinitesimals import prolongationODE, overdeterminedSystemODE\n",
    "from delierium.helpers import latexer\n",
    "from delierium.JanetBasis import Janet_Basis, _Differential_Polynomial, reduceS\n",
    "from delierium.MatrixOrder import Context\n",
    "from sage.all import *\n",
    "from IPython.core.debugger import set_trace\n",
    "from IPython.display import Math"
   ]
  },
  {
   "cell_type": "code",
   "execution_count": 2,
   "id": "92de32e7-9905-43ab-be19-017319e43454",
   "metadata": {},
   "outputs": [
    {
     "name": "stdout",
     "output_type": "stream",
     "text": [
      "diff(z(x, y), x) + (-1/4*x/((x^2 + y)*y) + x^2/(y^2*(x/((x^2 + y)*y) - 2))) * diff(z(x, y), y) + (1/2/y) * w(x, y)\n"
     ]
    }
   ],
   "source": [
    "# Example 2.35\n",
    "x, y = var(\"x y\")\n",
    "z = function(\"z\")(x,y)\n",
    "w = function(\"w\")(x,y)\n",
    "ctx = Context([w, z], [x,y])\n",
    "f4 = _Differential_Polynomial(\\\n",
    "      diff(w, x,  y) \\\n",
    "    + diff(z, x, y) \\\n",
    "    + diff(w, y)/(2*y) \\\n",
    "    - diff(w, x)/y \\\n",
    "    + x*diff(z, y)/y \\\n",
    "    - w/(2*y**2), ctx)\n",
    "f1 = _Differential_Polynomial(diff(w,y) + x*diff(z,y)/(2*y*(x**2 +y)) - w/y, ctx)\n",
    "f2 = _Differential_Polynomial(diff(z,x, y) + y*diff(w,y)/x + 2*y*diff(z, x)/x, ctx)\n",
    "print(reduceS(f4, [f1, f2], ctx))"
   ]
  },
  {
   "cell_type": "code",
   "execution_count": 3,
   "id": "5e6ac234-5457-4208-8b51-97959671001e",
   "metadata": {},
   "outputs": [],
   "source": [
    "denominator = (x*(y*4*x**5 + 8*(x**3)*(y**2) -x**3 + 2*(x*y)**2 + 2*x**2*y + 4*x*y**3 -2*x*y+2*y**3-2*y**2))\n",
    "ex = diff(z, y) \\\n",
    "    - diff(z, x)*(4*(y*2*x**2 - x +2*y**2)*(x**2+y)*y**2)/denominator \\\n",
    "    - w * (y*2*x**2 - x +2*y**2)*(x**2+y)*y/ denominator"
   ]
  },
  {
   "cell_type": "code",
   "execution_count": 4,
   "id": "bf31144c-5c65-4cb9-a97d-5d014f13d177",
   "metadata": {},
   "outputs": [
    {
     "data": {
      "text/plain": [
       "(4*x^5*y + 8*x^3*y^2 + 2*x^2*y^2 + 4*x*y^3 - x^3 + 2*x^2*y + 2*y^3 - 2*x*y - 2*y^2)*x"
      ]
     },
     "execution_count": 4,
     "metadata": {},
     "output_type": "execute_result"
    }
   ],
   "source": [
    "denominator.simplify_factorial()"
   ]
  },
  {
   "cell_type": "code",
   "execution_count": 5,
   "id": "b66375d3-c90c-4ab5-bee9-3234bd9bc69b",
   "metadata": {},
   "outputs": [
    {
     "data": {
      "text/plain": [
       "2*x^2/(y^2*(x/((x^2 + y)*y) - 2))"
      ]
     },
     "execution_count": 5,
     "metadata": {},
     "output_type": "execute_result"
    }
   ],
   "source": [
    "(2*x^2/(y^2*(x/((x^2 + y)*y) - 2))).expand()"
   ]
  },
  {
   "cell_type": "code",
   "execution_count": null,
   "id": "7a25251a-9503-42b2-8e49-97a49febd1bb",
   "metadata": {},
   "outputs": [],
   "source": []
  }
 ],
 "metadata": {
  "kernelspec": {
   "display_name": "SageMath 10.0",
   "language": "sage",
   "name": "sagemath"
  },
  "language_info": {
   "codemirror_mode": {
    "name": "ipython",
    "version": 3
   },
   "file_extension": ".py",
   "mimetype": "text/x-python",
   "name": "python",
   "nbconvert_exporter": "python",
   "pygments_lexer": "ipython3",
   "version": "3.11.6"
  }
 },
 "nbformat": 4,
 "nbformat_minor": 5
}
