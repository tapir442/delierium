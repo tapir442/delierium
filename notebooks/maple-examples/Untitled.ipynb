{
 "cells": [
  {
   "cell_type": "code",
   "execution_count": 1,
   "id": "daf3fb55-06c8-4f24-9b66-d2e87f95abfd",
   "metadata": {},
   "outputs": [],
   "source": [
    "# from https://www.maplesoft.com/support/help/Maple/view.aspx?path=DEtools/symgen"
   ]
  },
  {
   "cell_type": "code",
   "execution_count": 3,
   "id": "5cd1f29d-079c-4f00-8bf2-26a09e94df33",
   "metadata": {},
   "outputs": [],
   "source": [
    "from delierium.Infinitesimals import prolongationODE, overdeterminedSystemODE\n",
    "from delierium.helpers import latexer\n",
    "from delierium.JanetBasis import Janet_Basis, vec_multipliers\n",
    "from delierium.MatrixOrder import Context\n",
    "from sage.all import *\n",
    "from IPython.core.debugger import set_trace\n",
    "from IPython.display import Math"
   ]
  },
  {
   "cell_type": "code",
   "execution_count": 4,
   "id": "29971ff3-990d-426a-a99c-b9d528c0cb1a",
   "metadata": {},
   "outputs": [],
   "source": [
    "y = function('y')\n",
    "x = var('x')\n",
    "ode1 = x*diff(y(x), x) - y(x) * (x*ln(x**2/y(x)+2))"
   ]
  },
  {
   "cell_type": "code",
   "execution_count": 5,
   "id": "10b3d3b7-815b-4333-90d0-5b00ee8de44e",
   "metadata": {},
   "outputs": [
    {
     "name": "stdout",
     "output_type": "stream",
     "text": [
      "Order 1 ODEs have no meaningful infinitesimals\n"
     ]
    }
   ],
   "source": [
    "sym=overdeterminedSystemODE(ode1, y, x)"
   ]
  },
  {
   "cell_type": "code",
   "execution_count": null,
   "id": "fa9a17aa-3590-4a4f-b0f0-64122125732b",
   "metadata": {},
   "outputs": [],
   "source": []
  }
 ],
 "metadata": {
  "kernelspec": {
   "display_name": "SageMath 10.2",
   "language": "sage",
   "name": "sagemath"
  },
  "language_info": {
   "codemirror_mode": {
    "name": "ipython",
    "version": 3
   },
   "file_extension": ".py",
   "mimetype": "text/x-python",
   "name": "python",
   "nbconvert_exporter": "python",
   "pygments_lexer": "ipython3",
   "version": "3.11.7"
  }
 },
 "nbformat": 4,
 "nbformat_minor": 5
}
