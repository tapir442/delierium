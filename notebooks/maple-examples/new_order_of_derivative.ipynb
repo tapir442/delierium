{
 "cells": [
  {
   "cell_type": "code",
   "execution_count": 1,
   "id": "044f239d-52c6-4320-912d-014a2195ee62",
   "metadata": {},
   "outputs": [],
   "source": [
    "from delierium.Infinitesimals import prolongationODE, overdeterminedSystemODE\n",
    "from delierium.helpers import latexer, order_of_derivative, is_derivative\n",
    "from delierium.JanetBasis import Janet_Basis, vec_multipliers\n",
    "from delierium.MatrixOrder import Context\n",
    "from sage.all import *\n",
    "from IPython.core.debugger import set_trace\n",
    "from IPython.display import Math"
   ]
  },
  {
   "cell_type": "code",
   "execution_count": 5,
   "id": "dadf0bc3-1c13-43b5-b584-71d89eda5494",
   "metadata": {},
   "outputs": [],
   "source": [
    "x,y, a, b = var('x y a b')\n",
    "vars = x,y, b, a\n",
    "f = function(\"f\")(*vars)\n",
    "g = function(\"g\")(*vars)\n",
    "\n",
    "def order_of_derivative(e, context, required_len=0):\n",
    "    '''Returns the vector of the orders of a derivative respect to its variables\n",
    "\n",
    "    >>> x,y,z = var (\"x,y,z\")\n",
    "    >>> f = function(\"f\")(x,y,z)\n",
    "    >>> d = diff(f, x,x,y,z,z,z)\n",
    "    >>> from delierium.helpers import order_of_derivative\n",
    "    >>> order_of_derivative (d)\n",
    "    ([2, 1, 3], f)\n",
    "    '''\n",
    "    res = [0] * max((len(e.variables()), required_len))        \n",
    "    if not is_derivative(e):\n",
    "        return res    \n",
    "    opr = e.operator()\n",
    "    for variable in e.variables():\n",
    "        i = context._independent.index(variable)\n",
    "        res[i] = opr.parameter_set().count(i)\n",
    "    return (res, opr.function())\n"
   ]
  },
  {
   "cell_type": "code",
   "execution_count": 6,
   "id": "b17fea1a-c1f2-4fab-80e9-3f192dc3c56a",
   "metadata": {},
   "outputs": [],
   "source": [
    "ctx = Context([g,f], (x,y,a,b))\n",
    "\n",
    "v = diff(f, x,x,x,y,y,y,y,a,b,b)"
   ]
  },
  {
   "cell_type": "code",
   "execution_count": 7,
   "id": "e2d1f1c7-4129-459f-88e4-5c365790e120",
   "metadata": {},
   "outputs": [
    {
     "data": {
      "text/plain": [
       "([3, 4, 2, 1], f)"
      ]
     },
     "execution_count": 7,
     "metadata": {},
     "output_type": "execute_result"
    }
   ],
   "source": [
    "order_of_derivative(v,ctx)"
   ]
  },
  {
   "cell_type": "code",
   "execution_count": null,
   "id": "b0b3ca36-91f3-4d23-bddd-28dd0f094c23",
   "metadata": {},
   "outputs": [],
   "source": []
  },
  {
   "cell_type": "code",
   "execution_count": null,
   "id": "502cd437-0b48-4fd7-9237-42b44d13a22e",
   "metadata": {},
   "outputs": [],
   "source": []
  }
 ],
 "metadata": {
  "kernelspec": {
   "display_name": "SageMath 10.2",
   "language": "sage",
   "name": "sagemath"
  },
  "language_info": {
   "codemirror_mode": {
    "name": "ipython",
    "version": 3
   },
   "file_extension": ".py",
   "mimetype": "text/x-python",
   "name": "python",
   "nbconvert_exporter": "python",
   "pygments_lexer": "ipython3",
   "version": "3.11.7"
  }
 },
 "nbformat": 4,
 "nbformat_minor": 5
}
