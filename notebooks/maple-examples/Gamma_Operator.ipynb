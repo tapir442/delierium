{
 "cells": [
  {
   "cell_type": "code",
   "execution_count": 1,
   "id": "f301b088-d5c6-4c89-8946-3ddc665282fd",
   "metadata": {},
   "outputs": [],
   "source": [
    "from IPython.core.debugger import set_trace\n",
    "def op(func, n_max=1, X=None, Y=None, level=1):\n",
    "    variables = func.variables()\n",
    "    if not X:\n",
    "        X = function('X')(*variables)\n",
    "        Y = function('Y')(*variables)\n",
    "    output = X*diff(func, variables[0])+Y*diff(func, variables[1])\n",
    "    if level == n_max:\n",
    "        return output\n",
    "    else:\n",
    "        return op(output, n_max, X, Y, level+1)\n"
   ]
  },
  {
   "cell_type": "code",
   "execution_count": 2,
   "id": "2445e3f0-6615-4d38-9128-7359bc5ea43d",
   "metadata": {},
   "outputs": [],
   "source": [
    "x,y=var('x y')\n",
    "f=function('f')(x,y)"
   ]
  },
  {
   "cell_type": "code",
   "execution_count": 3,
   "id": "a3f85afa-e392-4bba-b6a5-097733883db0",
   "metadata": {},
   "outputs": [],
   "source": [
    "o1=op(f, 1)\n"
   ]
  },
  {
   "cell_type": "code",
   "execution_count": null,
   "id": "93953125-e179-4e5d-9b15-805fae176539",
   "metadata": {},
   "outputs": [],
   "source": []
  },
  {
   "cell_type": "code",
   "execution_count": 4,
   "id": "b422b8fe-291e-4166-8bef-1ef4f20b10b2",
   "metadata": {},
   "outputs": [],
   "source": [
    "f=function('f')(x,y)"
   ]
  },
  {
   "cell_type": "code",
   "execution_count": 11,
   "id": "5e433d86-90fd-4ec7-b90f-5f4ccf2459ea",
   "metadata": {},
   "outputs": [],
   "source": [
    "oo=op(f, 2)"
   ]
  },
  {
   "cell_type": "code",
   "execution_count": 12,
   "id": "eb8e3aac-ab8e-450c-badf-5ec4de3b57ca",
   "metadata": {},
   "outputs": [
    {
     "name": "stdout",
     "output_type": "stream",
     "text": [
      "(diff(X(x, y), x)*diff(f(x, y), x) + X(x, y)*diff(f(x, y), x, x) + Y(x, y)*diff(f(x, y), x, y) + diff(Y(x, y), x)*diff(f(x, y), y))*X(x, y) + (diff(X(x, y), y)*diff(f(x, y), x) + X(x, y)*diff(f(x, y), x, y) + diff(Y(x, y), y)*diff(f(x, y), y) + Y(x, y)*diff(f(x, y), y, y))*Y(x, y)\n"
     ]
    }
   ],
   "source": [
    "from pprint import pprint\n",
    "pprint(oo)"
   ]
  },
  {
   "cell_type": "code",
   "execution_count": 13,
   "id": "b3134bb6-6fe7-426b-943c-8177da8b52a5",
   "metadata": {},
   "outputs": [
    {
     "data": {
      "text/html": [
       "<html>\\(\\displaystyle X\\left(x, y\\right)^{2} \\frac{\\partial^{2}}{(\\partial x)^{2}}f\\left(x, y\\right) + 2 \\, X\\left(x, y\\right) Y\\left(x, y\\right) \\frac{\\partial^{2}}{\\partial x\\partial y}f\\left(x, y\\right) + X\\left(x, y\\right) \\frac{\\partial}{\\partial x}Y\\left(x, y\\right) \\frac{\\partial}{\\partial y}f\\left(x, y\\right) + Y\\left(x, y\\right) \\frac{\\partial}{\\partial y}Y\\left(x, y\\right) \\frac{\\partial}{\\partial y}f\\left(x, y\\right) + Y\\left(x, y\\right)^{2} \\frac{\\partial^{2}}{(\\partial y)^{2}}f\\left(x, y\\right) + {\\left(X\\left(x, y\\right) \\frac{\\partial}{\\partial x}X\\left(x, y\\right) + Y\\left(x, y\\right) \\frac{\\partial}{\\partial y}X\\left(x, y\\right)\\right)} \\frac{\\partial}{\\partial x}f\\left(x, y\\right)\\)</html>"
      ],
      "text/latex": [
       "$\\displaystyle X\\left(x, y\\right)^{2} \\frac{\\partial^{2}}{(\\partial x)^{2}}f\\left(x, y\\right) + 2 \\, X\\left(x, y\\right) Y\\left(x, y\\right) \\frac{\\partial^{2}}{\\partial x\\partial y}f\\left(x, y\\right) + X\\left(x, y\\right) \\frac{\\partial}{\\partial x}Y\\left(x, y\\right) \\frac{\\partial}{\\partial y}f\\left(x, y\\right) + Y\\left(x, y\\right) \\frac{\\partial}{\\partial y}Y\\left(x, y\\right) \\frac{\\partial}{\\partial y}f\\left(x, y\\right) + Y\\left(x, y\\right)^{2} \\frac{\\partial^{2}}{(\\partial y)^{2}}f\\left(x, y\\right) + {\\left(X\\left(x, y\\right) \\frac{\\partial}{\\partial x}X\\left(x, y\\right) + Y\\left(x, y\\right) \\frac{\\partial}{\\partial y}X\\left(x, y\\right)\\right)} \\frac{\\partial}{\\partial x}f\\left(x, y\\right)$"
      ],
      "text/plain": [
       "X(x, y)^2*diff(f(x, y), x, x) + 2*X(x, y)*Y(x, y)*diff(f(x, y), x, y) + X(x, y)*diff(Y(x, y), x)*diff(f(x, y), y) + Y(x, y)*diff(Y(x, y), y)*diff(f(x, y), y) + Y(x, y)^2*diff(f(x, y), y, y) + (X(x, y)*diff(X(x, y), x) + Y(x, y)*diff(X(x, y), y))*diff(f(x, y), x)"
      ]
     },
     "metadata": {},
     "output_type": "display_data"
    }
   ],
   "source": [
    "oo.collect(diff(f, x)).show()"
   ]
  },
  {
   "cell_type": "code",
   "execution_count": null,
   "id": "528dbac5-dcee-4fa5-a231-d73c74d08484",
   "metadata": {},
   "outputs": [],
   "source": []
  }
 ],
 "metadata": {
  "kernelspec": {
   "display_name": "SageMath 10.2",
   "language": "sage",
   "name": "sagemath"
  },
  "language_info": {
   "codemirror_mode": {
    "name": "ipython",
    "version": 3
   },
   "file_extension": ".py",
   "mimetype": "text/x-python",
   "name": "python",
   "nbconvert_exporter": "python",
   "pygments_lexer": "ipython3",
   "version": "3.11.7"
  }
 },
 "nbformat": 4,
 "nbformat_minor": 5
}
