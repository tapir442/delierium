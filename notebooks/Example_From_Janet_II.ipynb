{
 "cells": [
  {
   "cell_type": "code",
   "execution_count": 1,
   "id": "d0422317-e42a-47e7-9b06-7c2e1089ad01",
   "metadata": {},
   "outputs": [],
   "source": [
    "from delierium.Infinitesimals import prolongationODE, overdeterminedSystemODE\n",
    "from delierium.helpers import latexer\n",
    "from delierium.JanetBasis import Janet_Basis, vec_multipliers\n",
    "from delierium.MatrixOrder import Context\n",
    "from sage.all import *\n",
    "from IPython.core.debugger import set_trace\n",
    "from IPython.display import Math"
   ]
  },
  {
   "cell_type": "raw",
   "id": "d803dbd9-195b-4e17-88f3-5dbec8375345",
   "metadata": {},
   "source": [
    "The MAPLE Package \\Janet\":\n",
    "II. Linear Partial Di erential Equations\n",
    "Yuri A. Blinkov1 ? , Carlos F. Cid2 ?? , Vladimir P. Gerdt3 ? ? ? , Wilhelm Plesken2 y, and Daniel\n",
    "Robertz2 z"
   ]
  },
  {
   "cell_type": "code",
   "execution_count": 2,
   "id": "ee0066ec-3fdd-4569-b09e-ce1bade12255",
   "metadata": {},
   "outputs": [],
   "source": [
    "x, y = var('x y')"
   ]
  },
  {
   "cell_type": "code",
   "execution_count": 3,
   "id": "1caab27e-de39-4c3c-a2a3-9a9688177ef8",
   "metadata": {},
   "outputs": [],
   "source": [
    "u=function('u')(x,y)\n",
    "v=function('v')(x,y)"
   ]
  },
  {
   "cell_type": "code",
   "execution_count": 4,
   "id": "7c506758-3ea9-4b02-8bb2-ec535bd4c26b",
   "metadata": {},
   "outputs": [],
   "source": [
    "s=[diff(u,x)-diff(v,y), diff(u,y)+diff(v,x),diff(u,y,3)]"
   ]
  },
  {
   "cell_type": "code",
   "execution_count": 5,
   "id": "a93d3f88-9067-476c-9886-b752ebce325d",
   "metadata": {},
   "outputs": [
    {
     "name": "stdout",
     "output_type": "stream",
     "text": [
      "****************************************************************************************\n",
      "This is where we start, loop=1\n",
      "diff(u(x, y), y) + diff(v(x, y), x), [], []\n",
      "diff(u(x, y), x) + (-1) * diff(v(x, y), y), [], []\n",
      "diff(u(x, y), y, y, y), [], []\n",
      "after autoreduce\n",
      "diff(u(x, y), y) + diff(v(x, y), x), [], []\n",
      "diff(u(x, y), x) + (-1) * diff(v(x, y), y), [], []\n",
      "diff(v(x, y), x, y, y), [], []\n",
      "after complete system\n",
      "diff(u(x, y), y) + diff(v(x, y), x), [x, y], []\n",
      "diff(u(x, y), x) + (-1) * diff(v(x, y), y), [x], [y]\n",
      "diff(v(x, y), x, y, y), [], []\n",
      "This are the conditions\n",
      "[-diff(v(x, y), x, x) - diff(v(x, y), y, y)]\n",
      "diff(u(x, y), y)\n",
      "diff(u(x, y), x)\n",
      "diff(v(x, y), x, x)\n",
      "diff(v(x, y), x, y, y)\n",
      "****************************************************************************************\n",
      "This is where we start, loop=2\n",
      "diff(u(x, y), y) + diff(v(x, y), x), [x, y], []\n",
      "diff(u(x, y), x) + (-1) * diff(v(x, y), y), [x], [y]\n",
      "diff(v(x, y), x, x) + diff(v(x, y), y, y), [], []\n",
      "diff(v(x, y), x, y, y), [], []\n",
      "after autoreduce\n",
      "diff(u(x, y), y) + diff(v(x, y), x), [x, y], []\n",
      "diff(u(x, y), x) + (-1) * diff(v(x, y), y), [x], [y]\n",
      "diff(v(x, y), x, x) + diff(v(x, y), y, y), [], []\n",
      "diff(v(x, y), x, y, y), [], []\n",
      "after complete system\n",
      "diff(u(x, y), y) + diff(v(x, y), x), [x, y], []\n",
      "diff(u(x, y), x) + (-1) * diff(v(x, y), y), [x], [y]\n",
      "diff(v(x, y), x, x) + diff(v(x, y), y, y), [x], [y]\n",
      "diff(v(x, y), x, y, y), [x, y], []\n",
      "diff(v(x, y), x, x, y) + diff(v(x, y), y, y, y), [x], [y]\n",
      "This are the conditions\n",
      "[-diff(v(x, y), x, x) - diff(v(x, y), y, y), diff(v(x, y), y, y, y, y)]\n",
      "diff(u(x, y), y)\n",
      "diff(u(x, y), x)\n",
      "diff(v(x, y), x, x)\n",
      "diff(v(x, y), x, y, y)\n",
      "diff(v(x, y), x, x, y)\n",
      "diff(v(x, y), y, y, y, y)\n",
      "****************************************************************************************\n",
      "This is where we start, loop=3\n",
      "diff(u(x, y), y) + diff(v(x, y), x), [x, y], []\n",
      "diff(u(x, y), x) + (-1) * diff(v(x, y), y), [x], [y]\n",
      "diff(v(x, y), x, x) + diff(v(x, y), y, y), [x], [y]\n",
      "diff(v(x, y), x, y, y), [x, y], []\n",
      "diff(v(x, y), x, x, y) + diff(v(x, y), y, y, y), [x], [y]\n",
      "diff(v(x, y), y, y, y, y), [], []\n",
      "after autoreduce\n",
      "diff(u(x, y), y) + diff(v(x, y), x), [x, y], []\n",
      "diff(u(x, y), x) + (-1) * diff(v(x, y), y), [x], [y]\n",
      "diff(v(x, y), x, x) + diff(v(x, y), y, y), [x], [y]\n",
      "diff(v(x, y), x, y, y), [x, y], []\n",
      "diff(v(x, y), y, y, y, y), [], []\n",
      "after complete system\n",
      "diff(u(x, y), y) + diff(v(x, y), x), [x, y], []\n",
      "diff(u(x, y), x) + (-1) * diff(v(x, y), y), [x], [y]\n",
      "diff(v(x, y), x, x) + diff(v(x, y), y, y), [x], [y]\n",
      "diff(v(x, y), x, y, y), [x], [y]\n",
      "diff(v(x, y), x, x, y) + diff(v(x, y), y, y, y), [x], [y]\n",
      "diff(v(x, y), y, y, y, y), [x, y], []\n",
      "diff(v(x, y), x, y, y, y), [x], [y]\n",
      "This are the conditions\n",
      "[-diff(v(x, y), x, x) - diff(v(x, y), y, y), diff(v(x, y), y, y, y, y), 0]\n",
      "diff(u(x, y), y)\n",
      "diff(u(x, y), x)\n",
      "diff(v(x, y), x, x)\n",
      "diff(v(x, y), x, y, y)\n",
      "diff(v(x, y), x, x, y)\n",
      "diff(v(x, y), y, y, y, y)\n",
      "diff(v(x, y), x, y, y, y)\n",
      "****************************************************************************************\n",
      "This is where we start, loop=4\n",
      "diff(u(x, y), y) + diff(v(x, y), x), [x, y], []\n",
      "diff(u(x, y), x) + (-1) * diff(v(x, y), y), [x], [y]\n",
      "diff(v(x, y), x, x) + diff(v(x, y), y, y), [x], [y]\n",
      "diff(v(x, y), x, y, y), [x], [y]\n",
      "diff(v(x, y), x, x, y) + diff(v(x, y), y, y, y), [x], [y]\n",
      "diff(v(x, y), y, y, y, y), [x, y], []\n",
      "diff(v(x, y), x, y, y, y), [x], [y]\n",
      "after autoreduce\n",
      "diff(u(x, y), y) + diff(v(x, y), x), [x, y], []\n",
      "diff(u(x, y), x) + (-1) * diff(v(x, y), y), [x], [y]\n",
      "diff(v(x, y), x, x) + diff(v(x, y), y, y), [x], [y]\n",
      "diff(v(x, y), x, y, y), [x], [y]\n",
      "diff(v(x, y), y, y, y, y), [x, y], []\n",
      "after complete system\n",
      "diff(u(x, y), y) + diff(v(x, y), x), [x, y], []\n",
      "diff(u(x, y), x) + (-1) * diff(v(x, y), y), [x], [y]\n",
      "diff(v(x, y), x, x) + diff(v(x, y), y, y), [x], [y]\n",
      "diff(v(x, y), x, y, y), [x], [y]\n",
      "diff(v(x, y), x, x, y) + diff(v(x, y), y, y, y), [x], [y]\n",
      "diff(v(x, y), y, y, y, y), [x, y], []\n",
      "diff(v(x, y), x, y, y, y), [x], [y]\n",
      "This are the conditions\n",
      "[-diff(v(x, y), x, x) - diff(v(x, y), y, y), diff(v(x, y), y, y, y, y), 0]\n",
      "diff(u(x, y), y)\n",
      "diff(u(x, y), x)\n",
      "diff(v(x, y), x, x)\n",
      "diff(v(x, y), x, y, y)\n",
      "diff(v(x, y), x, x, y)\n",
      "diff(v(x, y), y, y, y, y)\n",
      "diff(v(x, y), x, y, y, y)\n"
     ]
    }
   ],
   "source": [
    "# this sort order loops forever\n",
    "#jb=Janet_Basis(s,(u,v), (y,x))\n",
    "# this sort order works, but with wrong(?) result\n",
    "jb=Janet_Basis(s,(u,v), (x,y))"
   ]
  },
  {
   "cell_type": "code",
   "execution_count": 6,
   "id": "b15421a9-354e-4227-953e-f395de1354f0",
   "metadata": {},
   "outputs": [
    {
     "name": "stdout",
     "output_type": "stream",
     "text": [
      "diff(u(x, y), y) + diff(v(x, y), x), [x, y], []\n",
      "diff(u(x, y), x) + (-1) * diff(v(x, y), y), [x], [y]\n",
      "diff(v(x, y), x, x) + diff(v(x, y), y, y), [x], [y]\n",
      "diff(v(x, y), x, y, y), [x], [y]\n",
      "diff(v(x, y), x, x, y) + diff(v(x, y), y, y, y), [x], [y]\n",
      "diff(v(x, y), y, y, y, y), [x, y], []\n",
      "diff(v(x, y), x, y, y, y), [x], [y]\n"
     ]
    }
   ],
   "source": [
    "jb.show()"
   ]
  },
  {
   "cell_type": "code",
   "execution_count": 7,
   "id": "8fb97ec6-f136-4475-b260-769a349c54dd",
   "metadata": {},
   "outputs": [
    {
     "name": "stdout",
     "output_type": "stream",
     "text": [
      "{0, 1}\n",
      "{0}\n",
      "{0}\n",
      "{0}\n",
      "{0}\n",
      "{0, 1}\n",
      "{0}\n"
     ]
    }
   ],
   "source": [
    "for _ in jb.S:\n",
    "    print(_.multipliers)"
   ]
  },
  {
   "cell_type": "code",
   "execution_count": null,
   "id": "ff7182a5-199f-4b7c-9ed3-8d40fd2a0b59",
   "metadata": {},
   "outputs": [],
   "source": []
  },
  {
   "cell_type": "code",
   "execution_count": null,
   "id": "f4f13f3b-2937-45d3-8bdc-c1dd48b8016b",
   "metadata": {
    "editable": true,
    "slideshow": {
     "slide_type": ""
    },
    "tags": []
   },
   "outputs": [],
   "source": []
  }
 ],
 "metadata": {
  "kernelspec": {
   "display_name": "SageMath 10.0",
   "language": "sage",
   "name": "sagemath"
  },
  "language_info": {
   "codemirror_mode": {
    "name": "ipython",
    "version": 3
   },
   "file_extension": ".py",
   "mimetype": "text/x-python",
   "name": "python",
   "nbconvert_exporter": "python",
   "pygments_lexer": "ipython3",
   "version": "3.11.6"
  }
 },
 "nbformat": 4,
 "nbformat_minor": 5
}
