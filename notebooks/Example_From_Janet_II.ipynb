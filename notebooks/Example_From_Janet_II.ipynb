{
 "cells": [
  {
   "cell_type": "code",
   "execution_count": 1,
   "id": "d0422317-e42a-47e7-9b06-7c2e1089ad01",
   "metadata": {},
   "outputs": [],
   "source": [
    "from delierium.Infinitesimals import prolongationODE, overdeterminedSystemODE\n",
    "from delierium.helpers import latexer\n",
    "from delierium.JanetBasis import Janet_Basis\n",
    "from delierium.MatrixOrder import Context\n",
    "from sage.all import *\n",
    "from IPython.core.debugger import set_trace\n",
    "from IPython.display import Math"
   ]
  },
  {
   "cell_type": "raw",
   "id": "d803dbd9-195b-4e17-88f3-5dbec8375345",
   "metadata": {},
   "source": [
    "The MAPLE Package \\Janet\":\n",
    "II. Linear Partial Di erential Equations\n",
    "Yuri A. Blinkov1 ? , Carlos F. Cid2 ?? , Vladimir P. Gerdt3 ? ? ? , Wilhelm Plesken2 y, and Daniel\n",
    "Robertz2 z"
   ]
  },
  {
   "cell_type": "code",
   "execution_count": 2,
   "id": "ee0066ec-3fdd-4569-b09e-ce1bade12255",
   "metadata": {},
   "outputs": [],
   "source": [
    "x, y = var('x y')"
   ]
  },
  {
   "cell_type": "code",
   "execution_count": 3,
   "id": "1caab27e-de39-4c3c-a2a3-9a9688177ef8",
   "metadata": {},
   "outputs": [],
   "source": [
    "u=function('u')(x,y)\n",
    "v=function('v')(x,y)"
   ]
  },
  {
   "cell_type": "code",
   "execution_count": 4,
   "id": "7c506758-3ea9-4b02-8bb2-ec535bd4c26b",
   "metadata": {},
   "outputs": [],
   "source": [
    "s=[diff(u,x)-diff(v,y), diff(u,y)+diff(v,x),diff(u,y,3)]"
   ]
  },
  {
   "cell_type": "code",
   "execution_count": 5,
   "id": "a93d3f88-9067-476c-9886-b752ebce325d",
   "metadata": {},
   "outputs": [
    {
     "name": "stdout",
     "output_type": "stream",
     "text": [
      "********************** here we start **********************\n",
      "diff(u(x, y), y) + diff(v(x, y), x)\n",
      "diff(u(x, y), x) + (-1) * diff(v(x, y), y)\n",
      "diff(u(x, y), y, y, y)\n",
      "> \u001b[0;32m/home/tapir/workspace/delierium/src/delierium/JanetBasis.py\u001b[0m(648)\u001b[0;36m__init__\u001b[0;34m()\u001b[0m\n",
      "\u001b[0;32m    646 \u001b[0;31m            \u001b[0mprint\u001b[0m\u001b[0;34m(\u001b[0m\u001b[0m_\u001b[0m\u001b[0;34m)\u001b[0m\u001b[0;34m\u001b[0m\u001b[0;34m\u001b[0m\u001b[0m\n",
      "\u001b[0m\u001b[0;32m    647 \u001b[0;31m        \u001b[0;32mimport\u001b[0m \u001b[0mpdb\u001b[0m\u001b[0;34m;\u001b[0m \u001b[0mpdb\u001b[0m\u001b[0;34m.\u001b[0m\u001b[0mset_trace\u001b[0m\u001b[0;34m(\u001b[0m\u001b[0;34m)\u001b[0m\u001b[0;34m\u001b[0m\u001b[0;34m\u001b[0m\u001b[0m\n",
      "\u001b[0m\u001b[0;32m--> 648 \u001b[0;31m        \u001b[0;32mwhile\u001b[0m \u001b[0;36m1\u001b[0m\u001b[0;34m:\u001b[0m\u001b[0;34m\u001b[0m\u001b[0;34m\u001b[0m\u001b[0m\n",
      "\u001b[0m\u001b[0;32m    649 \u001b[0;31m            \u001b[0;32mif\u001b[0m \u001b[0mold\u001b[0m \u001b[0;34m==\u001b[0m \u001b[0mself\u001b[0m\u001b[0;34m.\u001b[0m\u001b[0mS\u001b[0m\u001b[0;34m:\u001b[0m\u001b[0;34m\u001b[0m\u001b[0;34m\u001b[0m\u001b[0m\n",
      "\u001b[0m\u001b[0;32m    650 \u001b[0;31m                \u001b[0;31m# no change since last run\u001b[0m\u001b[0;34m\u001b[0m\u001b[0;34m\u001b[0m\u001b[0m\n",
      "\u001b[0m\n"
     ]
    },
    {
     "name": "stdin",
     "output_type": "stream",
     "text": [
      "ipdb>  c\n"
     ]
    },
    {
     "name": "stdout",
     "output_type": "stream",
     "text": [
      "********************** after autoreduce **********************\n",
      "diff(u(x, y), y) + diff(v(x, y), x)\n",
      "diff(u(x, y), x) + (-1) * diff(v(x, y), y)\n",
      "diff(v(x, y), x, y, y)\n",
      "********************** after complete system **********************\n",
      "diff(u(x, y), y) + diff(v(x, y), x)\n",
      "diff(u(x, y), x) + (-1) * diff(v(x, y), y)\n",
      "diff(v(x, y), x, y, y)\n",
      "********************** after conditions **********************\n",
      "diff(u(x, y), y) + diff(v(x, y), x)\n",
      "diff(u(x, y), x) + (-1) * diff(v(x, y), y)\n",
      "diff(v(x, y), x, y, y)\n",
      "cond: diff(v(x, y), x, x) + diff(v(x, y), y, y)\n",
      "********************** after reduced 2 **********************\n",
      "======  NO REDUCTION =====\n"
     ]
    }
   ],
   "source": [
    "# this sort order loops forever\n",
    "#jb=Janet_Basis(s,(u,v), (y,x))\n",
    "# this sort order works, but with wrong(?) result\n",
    "jb=Janet_Basis(s,(u,v), (x,y))"
   ]
  },
  {
   "cell_type": "code",
   "execution_count": null,
   "id": "b15421a9-354e-4227-953e-f395de1354f0",
   "metadata": {},
   "outputs": [
    {
     "name": "stdout",
     "output_type": "stream",
     "text": [
      "********************** here we start **********************\n",
      "diff(u(x, y), y) + diff(v(x, y), x)\n",
      "diff(u(x, y), x) + (-1) * diff(v(x, y), y)\n",
      "diff(u(x, y), y, y, y)\n",
      "> \u001b[0;32m/home/tapir/workspace/delierium/src/delierium/JanetBasis.py\u001b[0m(648)\u001b[0;36m__init__\u001b[0;34m()\u001b[0m\n",
      "\u001b[0;32m    646 \u001b[0;31m            \u001b[0mprint\u001b[0m\u001b[0;34m(\u001b[0m\u001b[0m_\u001b[0m\u001b[0;34m)\u001b[0m\u001b[0;34m\u001b[0m\u001b[0;34m\u001b[0m\u001b[0m\n",
      "\u001b[0m\u001b[0;32m    647 \u001b[0;31m        \u001b[0;32mimport\u001b[0m \u001b[0mpdb\u001b[0m\u001b[0;34m;\u001b[0m \u001b[0mpdb\u001b[0m\u001b[0;34m.\u001b[0m\u001b[0mset_trace\u001b[0m\u001b[0;34m(\u001b[0m\u001b[0;34m)\u001b[0m\u001b[0;34m\u001b[0m\u001b[0;34m\u001b[0m\u001b[0m\n",
      "\u001b[0m\u001b[0;32m--> 648 \u001b[0;31m        \u001b[0;32mwhile\u001b[0m \u001b[0;36m1\u001b[0m\u001b[0;34m:\u001b[0m\u001b[0;34m\u001b[0m\u001b[0;34m\u001b[0m\u001b[0m\n",
      "\u001b[0m\u001b[0;32m    649 \u001b[0;31m            \u001b[0;32mif\u001b[0m \u001b[0mold\u001b[0m \u001b[0;34m==\u001b[0m \u001b[0mself\u001b[0m\u001b[0;34m.\u001b[0m\u001b[0mS\u001b[0m\u001b[0;34m:\u001b[0m\u001b[0;34m\u001b[0m\u001b[0;34m\u001b[0m\u001b[0m\n",
      "\u001b[0m\u001b[0;32m    650 \u001b[0;31m                \u001b[0;31m# no change since last run\u001b[0m\u001b[0;34m\u001b[0m\u001b[0;34m\u001b[0m\u001b[0m\n",
      "\u001b[0m\n"
     ]
    },
    {
     "name": "stdin",
     "output_type": "stream",
     "text": [
      "ipdb>  n\n"
     ]
    },
    {
     "name": "stdout",
     "output_type": "stream",
     "text": [
      "> \u001b[0;32m/home/tapir/workspace/delierium/src/delierium/JanetBasis.py\u001b[0m(649)\u001b[0;36m__init__\u001b[0;34m()\u001b[0m\n",
      "\u001b[0;32m    647 \u001b[0;31m        \u001b[0;32mimport\u001b[0m \u001b[0mpdb\u001b[0m\u001b[0;34m;\u001b[0m \u001b[0mpdb\u001b[0m\u001b[0;34m.\u001b[0m\u001b[0mset_trace\u001b[0m\u001b[0;34m(\u001b[0m\u001b[0;34m)\u001b[0m\u001b[0;34m\u001b[0m\u001b[0;34m\u001b[0m\u001b[0m\n",
      "\u001b[0m\u001b[0;32m    648 \u001b[0;31m        \u001b[0;32mwhile\u001b[0m \u001b[0;36m1\u001b[0m\u001b[0;34m:\u001b[0m\u001b[0;34m\u001b[0m\u001b[0;34m\u001b[0m\u001b[0m\n",
      "\u001b[0m\u001b[0;32m--> 649 \u001b[0;31m            \u001b[0;32mif\u001b[0m \u001b[0mold\u001b[0m \u001b[0;34m==\u001b[0m \u001b[0mself\u001b[0m\u001b[0;34m.\u001b[0m\u001b[0mS\u001b[0m\u001b[0;34m:\u001b[0m\u001b[0;34m\u001b[0m\u001b[0;34m\u001b[0m\u001b[0m\n",
      "\u001b[0m\u001b[0;32m    650 \u001b[0;31m                \u001b[0;31m# no change since last run\u001b[0m\u001b[0;34m\u001b[0m\u001b[0;34m\u001b[0m\u001b[0m\n",
      "\u001b[0m\u001b[0;32m    651 \u001b[0;31m                \u001b[0mprint\u001b[0m \u001b[0;34m(\u001b[0m\u001b[0;34m\"***** finished *****\"\u001b[0m\u001b[0;34m)\u001b[0m\u001b[0;34m\u001b[0m\u001b[0;34m\u001b[0m\u001b[0m\n",
      "\u001b[0m\n"
     ]
    },
    {
     "name": "stdin",
     "output_type": "stream",
     "text": [
      "ipdb>  n\n"
     ]
    },
    {
     "name": "stdout",
     "output_type": "stream",
     "text": [
      "> \u001b[0;32m/home/tapir/workspace/delierium/src/delierium/JanetBasis.py\u001b[0m(653)\u001b[0;36m__init__\u001b[0;34m()\u001b[0m\n",
      "\u001b[0;32m    651 \u001b[0;31m                \u001b[0mprint\u001b[0m \u001b[0;34m(\u001b[0m\u001b[0;34m\"***** finished *****\"\u001b[0m\u001b[0;34m)\u001b[0m\u001b[0;34m\u001b[0m\u001b[0;34m\u001b[0m\u001b[0m\n",
      "\u001b[0m\u001b[0;32m    652 \u001b[0;31m                \u001b[0;32mreturn\u001b[0m\u001b[0;34m\u001b[0m\u001b[0;34m\u001b[0m\u001b[0m\n",
      "\u001b[0m\u001b[0;32m--> 653 \u001b[0;31m            \u001b[0mold\u001b[0m \u001b[0;34m=\u001b[0m \u001b[0mself\u001b[0m\u001b[0;34m.\u001b[0m\u001b[0mS\u001b[0m\u001b[0;34m[\u001b[0m\u001b[0;34m:\u001b[0m\u001b[0;34m]\u001b[0m\u001b[0;34m\u001b[0m\u001b[0;34m\u001b[0m\u001b[0m\n",
      "\u001b[0m\u001b[0;32m    654 \u001b[0;31m            \u001b[0mself\u001b[0m\u001b[0;34m.\u001b[0m\u001b[0mS\u001b[0m \u001b[0;34m=\u001b[0m \u001b[0mAutoreduce\u001b[0m\u001b[0;34m(\u001b[0m\u001b[0mself\u001b[0m\u001b[0;34m.\u001b[0m\u001b[0mS\u001b[0m\u001b[0;34m,\u001b[0m \u001b[0mcontext\u001b[0m\u001b[0;34m)\u001b[0m\u001b[0;34m\u001b[0m\u001b[0;34m\u001b[0m\u001b[0m\n",
      "\u001b[0m\u001b[0;32m    655 \u001b[0;31m            \u001b[0mprint\u001b[0m\u001b[0;34m(\u001b[0m\u001b[0;34m\"*\"\u001b[0m\u001b[0;34m*\u001b[0m\u001b[0;36m22\u001b[0m\u001b[0;34m,\u001b[0m \u001b[0;34m\"after autoreduce\"\u001b[0m\u001b[0;34m,\u001b[0m \u001b[0;34m\"*\"\u001b[0m\u001b[0;34m*\u001b[0m\u001b[0;36m22\u001b[0m\u001b[0;34m)\u001b[0m\u001b[0;34m\u001b[0m\u001b[0;34m\u001b[0m\u001b[0m\n",
      "\u001b[0m\n"
     ]
    },
    {
     "name": "stdin",
     "output_type": "stream",
     "text": [
      "ipdb>  n\n"
     ]
    },
    {
     "name": "stdout",
     "output_type": "stream",
     "text": [
      "> \u001b[0;32m/home/tapir/workspace/delierium/src/delierium/JanetBasis.py\u001b[0m(654)\u001b[0;36m__init__\u001b[0;34m()\u001b[0m\n",
      "\u001b[0;32m    652 \u001b[0;31m                \u001b[0;32mreturn\u001b[0m\u001b[0;34m\u001b[0m\u001b[0;34m\u001b[0m\u001b[0m\n",
      "\u001b[0m\u001b[0;32m    653 \u001b[0;31m            \u001b[0mold\u001b[0m \u001b[0;34m=\u001b[0m \u001b[0mself\u001b[0m\u001b[0;34m.\u001b[0m\u001b[0mS\u001b[0m\u001b[0;34m[\u001b[0m\u001b[0;34m:\u001b[0m\u001b[0;34m]\u001b[0m\u001b[0;34m\u001b[0m\u001b[0;34m\u001b[0m\u001b[0m\n",
      "\u001b[0m\u001b[0;32m--> 654 \u001b[0;31m            \u001b[0mself\u001b[0m\u001b[0;34m.\u001b[0m\u001b[0mS\u001b[0m \u001b[0;34m=\u001b[0m \u001b[0mAutoreduce\u001b[0m\u001b[0;34m(\u001b[0m\u001b[0mself\u001b[0m\u001b[0;34m.\u001b[0m\u001b[0mS\u001b[0m\u001b[0;34m,\u001b[0m \u001b[0mcontext\u001b[0m\u001b[0;34m)\u001b[0m\u001b[0;34m\u001b[0m\u001b[0;34m\u001b[0m\u001b[0m\n",
      "\u001b[0m\u001b[0;32m    655 \u001b[0;31m            \u001b[0mprint\u001b[0m\u001b[0;34m(\u001b[0m\u001b[0;34m\"*\"\u001b[0m\u001b[0;34m*\u001b[0m\u001b[0;36m22\u001b[0m\u001b[0;34m,\u001b[0m \u001b[0;34m\"after autoreduce\"\u001b[0m\u001b[0;34m,\u001b[0m \u001b[0;34m\"*\"\u001b[0m\u001b[0;34m*\u001b[0m\u001b[0;36m22\u001b[0m\u001b[0;34m)\u001b[0m\u001b[0;34m\u001b[0m\u001b[0;34m\u001b[0m\u001b[0m\n",
      "\u001b[0m\u001b[0;32m    656 \u001b[0;31m            \u001b[0;32mfor\u001b[0m \u001b[0m_\u001b[0m \u001b[0;32min\u001b[0m \u001b[0mself\u001b[0m\u001b[0;34m.\u001b[0m\u001b[0mS\u001b[0m\u001b[0;34m:\u001b[0m\u001b[0;34m\u001b[0m\u001b[0;34m\u001b[0m\u001b[0m\n",
      "\u001b[0m\n"
     ]
    },
    {
     "name": "stdin",
     "output_type": "stream",
     "text": [
      "ipdb>  s\n"
     ]
    },
    {
     "name": "stdout",
     "output_type": "stream",
     "text": [
      "--Call--\n",
      "> \u001b[0;32m/home/tapir/workspace/delierium/src/delierium/JanetBasis.py\u001b[0m(307)\u001b[0;36mAutoreduce\u001b[0;34m()\u001b[0m\n",
      "\u001b[0;32m    305 \u001b[0;31m    \u001b[0;32mreturn\u001b[0m \u001b[0m_e1\u001b[0m\u001b[0;34m\u001b[0m\u001b[0;34m\u001b[0m\u001b[0m\n",
      "\u001b[0m\u001b[0;32m    306 \u001b[0;31m\u001b[0;34m\u001b[0m\u001b[0m\n",
      "\u001b[0m\u001b[0;32m--> 307 \u001b[0;31m\u001b[0;32mdef\u001b[0m \u001b[0mAutoreduce\u001b[0m\u001b[0;34m(\u001b[0m\u001b[0mS\u001b[0m\u001b[0;34m,\u001b[0m \u001b[0mcontext\u001b[0m\u001b[0;34m)\u001b[0m\u001b[0;34m:\u001b[0m\u001b[0;34m\u001b[0m\u001b[0;34m\u001b[0m\u001b[0m\n",
      "\u001b[0m\u001b[0;32m    308 \u001b[0;31m    \u001b[0mdps\u001b[0m \u001b[0;34m=\u001b[0m \u001b[0mlist\u001b[0m\u001b[0;34m(\u001b[0m\u001b[0mS\u001b[0m\u001b[0;34m)\u001b[0m\u001b[0;34m\u001b[0m\u001b[0;34m\u001b[0m\u001b[0m\n",
      "\u001b[0m\u001b[0;32m    309 \u001b[0;31m    \u001b[0mi\u001b[0m \u001b[0;34m=\u001b[0m \u001b[0;36m0\u001b[0m\u001b[0;34m\u001b[0m\u001b[0;34m\u001b[0m\u001b[0m\n",
      "\u001b[0m\n"
     ]
    },
    {
     "name": "stdin",
     "output_type": "stream",
     "text": [
      "ipdb>  n\n"
     ]
    },
    {
     "name": "stdout",
     "output_type": "stream",
     "text": [
      "> \u001b[0;32m/home/tapir/workspace/delierium/src/delierium/JanetBasis.py\u001b[0m(308)\u001b[0;36mAutoreduce\u001b[0;34m()\u001b[0m\n",
      "\u001b[0;32m    306 \u001b[0;31m\u001b[0;34m\u001b[0m\u001b[0m\n",
      "\u001b[0m\u001b[0;32m    307 \u001b[0;31m\u001b[0;32mdef\u001b[0m \u001b[0mAutoreduce\u001b[0m\u001b[0;34m(\u001b[0m\u001b[0mS\u001b[0m\u001b[0;34m,\u001b[0m \u001b[0mcontext\u001b[0m\u001b[0;34m)\u001b[0m\u001b[0;34m:\u001b[0m\u001b[0;34m\u001b[0m\u001b[0;34m\u001b[0m\u001b[0m\n",
      "\u001b[0m\u001b[0;32m--> 308 \u001b[0;31m    \u001b[0mdps\u001b[0m \u001b[0;34m=\u001b[0m \u001b[0mlist\u001b[0m\u001b[0;34m(\u001b[0m\u001b[0mS\u001b[0m\u001b[0;34m)\u001b[0m\u001b[0;34m\u001b[0m\u001b[0;34m\u001b[0m\u001b[0m\n",
      "\u001b[0m\u001b[0;32m    309 \u001b[0;31m    \u001b[0mi\u001b[0m \u001b[0;34m=\u001b[0m \u001b[0;36m0\u001b[0m\u001b[0;34m\u001b[0m\u001b[0;34m\u001b[0m\u001b[0m\n",
      "\u001b[0m\u001b[0;32m    310 \u001b[0;31m    \u001b[0m_p\u001b[0m\u001b[0;34m,\u001b[0m \u001b[0mr\u001b[0m \u001b[0;34m=\u001b[0m \u001b[0mdps\u001b[0m\u001b[0;34m[\u001b[0m\u001b[0;34m:\u001b[0m\u001b[0mi\u001b[0m\u001b[0;34m+\u001b[0m\u001b[0;36m1\u001b[0m\u001b[0;34m]\u001b[0m\u001b[0;34m,\u001b[0m \u001b[0mdps\u001b[0m\u001b[0;34m[\u001b[0m\u001b[0mi\u001b[0m\u001b[0;34m+\u001b[0m\u001b[0;36m1\u001b[0m\u001b[0;34m:\u001b[0m\u001b[0;34m]\u001b[0m\u001b[0;34m\u001b[0m\u001b[0;34m\u001b[0m\u001b[0m\n",
      "\u001b[0m\n"
     ]
    },
    {
     "name": "stdin",
     "output_type": "stream",
     "text": [
      "ipdb>  n\n"
     ]
    },
    {
     "name": "stdout",
     "output_type": "stream",
     "text": [
      "> \u001b[0;32m/home/tapir/workspace/delierium/src/delierium/JanetBasis.py\u001b[0m(309)\u001b[0;36mAutoreduce\u001b[0;34m()\u001b[0m\n",
      "\u001b[0;32m    307 \u001b[0;31m\u001b[0;32mdef\u001b[0m \u001b[0mAutoreduce\u001b[0m\u001b[0;34m(\u001b[0m\u001b[0mS\u001b[0m\u001b[0;34m,\u001b[0m \u001b[0mcontext\u001b[0m\u001b[0;34m)\u001b[0m\u001b[0;34m:\u001b[0m\u001b[0;34m\u001b[0m\u001b[0;34m\u001b[0m\u001b[0m\n",
      "\u001b[0m\u001b[0;32m    308 \u001b[0;31m    \u001b[0mdps\u001b[0m \u001b[0;34m=\u001b[0m \u001b[0mlist\u001b[0m\u001b[0;34m(\u001b[0m\u001b[0mS\u001b[0m\u001b[0;34m)\u001b[0m\u001b[0;34m\u001b[0m\u001b[0;34m\u001b[0m\u001b[0m\n",
      "\u001b[0m\u001b[0;32m--> 309 \u001b[0;31m    \u001b[0mi\u001b[0m \u001b[0;34m=\u001b[0m \u001b[0;36m0\u001b[0m\u001b[0;34m\u001b[0m\u001b[0;34m\u001b[0m\u001b[0m\n",
      "\u001b[0m\u001b[0;32m    310 \u001b[0;31m    \u001b[0m_p\u001b[0m\u001b[0;34m,\u001b[0m \u001b[0mr\u001b[0m \u001b[0;34m=\u001b[0m \u001b[0mdps\u001b[0m\u001b[0;34m[\u001b[0m\u001b[0;34m:\u001b[0m\u001b[0mi\u001b[0m\u001b[0;34m+\u001b[0m\u001b[0;36m1\u001b[0m\u001b[0;34m]\u001b[0m\u001b[0;34m,\u001b[0m \u001b[0mdps\u001b[0m\u001b[0;34m[\u001b[0m\u001b[0mi\u001b[0m\u001b[0;34m+\u001b[0m\u001b[0;36m1\u001b[0m\u001b[0;34m:\u001b[0m\u001b[0;34m]\u001b[0m\u001b[0;34m\u001b[0m\u001b[0;34m\u001b[0m\u001b[0m\n",
      "\u001b[0m\u001b[0;32m    311 \u001b[0;31m    \u001b[0;32mwhile\u001b[0m \u001b[0mr\u001b[0m\u001b[0;34m:\u001b[0m\u001b[0;34m\u001b[0m\u001b[0;34m\u001b[0m\u001b[0m\n",
      "\u001b[0m\n"
     ]
    },
    {
     "name": "stdin",
     "output_type": "stream",
     "text": [
      "ipdb>  n\n"
     ]
    },
    {
     "name": "stdout",
     "output_type": "stream",
     "text": [
      "> \u001b[0;32m/home/tapir/workspace/delierium/src/delierium/JanetBasis.py\u001b[0m(310)\u001b[0;36mAutoreduce\u001b[0;34m()\u001b[0m\n",
      "\u001b[0;32m    308 \u001b[0;31m    \u001b[0mdps\u001b[0m \u001b[0;34m=\u001b[0m \u001b[0mlist\u001b[0m\u001b[0;34m(\u001b[0m\u001b[0mS\u001b[0m\u001b[0;34m)\u001b[0m\u001b[0;34m\u001b[0m\u001b[0;34m\u001b[0m\u001b[0m\n",
      "\u001b[0m\u001b[0;32m    309 \u001b[0;31m    \u001b[0mi\u001b[0m \u001b[0;34m=\u001b[0m \u001b[0;36m0\u001b[0m\u001b[0;34m\u001b[0m\u001b[0;34m\u001b[0m\u001b[0m\n",
      "\u001b[0m\u001b[0;32m--> 310 \u001b[0;31m    \u001b[0m_p\u001b[0m\u001b[0;34m,\u001b[0m \u001b[0mr\u001b[0m \u001b[0;34m=\u001b[0m \u001b[0mdps\u001b[0m\u001b[0;34m[\u001b[0m\u001b[0;34m:\u001b[0m\u001b[0mi\u001b[0m\u001b[0;34m+\u001b[0m\u001b[0;36m1\u001b[0m\u001b[0;34m]\u001b[0m\u001b[0;34m,\u001b[0m \u001b[0mdps\u001b[0m\u001b[0;34m[\u001b[0m\u001b[0mi\u001b[0m\u001b[0;34m+\u001b[0m\u001b[0;36m1\u001b[0m\u001b[0;34m:\u001b[0m\u001b[0;34m]\u001b[0m\u001b[0;34m\u001b[0m\u001b[0;34m\u001b[0m\u001b[0m\n",
      "\u001b[0m\u001b[0;32m    311 \u001b[0;31m    \u001b[0;32mwhile\u001b[0m \u001b[0mr\u001b[0m\u001b[0;34m:\u001b[0m\u001b[0;34m\u001b[0m\u001b[0;34m\u001b[0m\u001b[0m\n",
      "\u001b[0m\u001b[0;32m    312 \u001b[0;31m        \u001b[0mnewdps\u001b[0m \u001b[0;34m=\u001b[0m \u001b[0;34m[\u001b[0m\u001b[0;34m]\u001b[0m\u001b[0;34m\u001b[0m\u001b[0;34m\u001b[0m\u001b[0m\n",
      "\u001b[0m\n"
     ]
    },
    {
     "name": "stdin",
     "output_type": "stream",
     "text": [
      "ipdb>  n\n"
     ]
    },
    {
     "name": "stdout",
     "output_type": "stream",
     "text": [
      "> \u001b[0;32m/home/tapir/workspace/delierium/src/delierium/JanetBasis.py\u001b[0m(311)\u001b[0;36mAutoreduce\u001b[0;34m()\u001b[0m\n",
      "\u001b[0;32m    309 \u001b[0;31m    \u001b[0mi\u001b[0m \u001b[0;34m=\u001b[0m \u001b[0;36m0\u001b[0m\u001b[0;34m\u001b[0m\u001b[0;34m\u001b[0m\u001b[0m\n",
      "\u001b[0m\u001b[0;32m    310 \u001b[0;31m    \u001b[0m_p\u001b[0m\u001b[0;34m,\u001b[0m \u001b[0mr\u001b[0m \u001b[0;34m=\u001b[0m \u001b[0mdps\u001b[0m\u001b[0;34m[\u001b[0m\u001b[0;34m:\u001b[0m\u001b[0mi\u001b[0m\u001b[0;34m+\u001b[0m\u001b[0;36m1\u001b[0m\u001b[0;34m]\u001b[0m\u001b[0;34m,\u001b[0m \u001b[0mdps\u001b[0m\u001b[0;34m[\u001b[0m\u001b[0mi\u001b[0m\u001b[0;34m+\u001b[0m\u001b[0;36m1\u001b[0m\u001b[0;34m:\u001b[0m\u001b[0;34m]\u001b[0m\u001b[0;34m\u001b[0m\u001b[0;34m\u001b[0m\u001b[0m\n",
      "\u001b[0m\u001b[0;32m--> 311 \u001b[0;31m    \u001b[0;32mwhile\u001b[0m \u001b[0mr\u001b[0m\u001b[0;34m:\u001b[0m\u001b[0;34m\u001b[0m\u001b[0;34m\u001b[0m\u001b[0m\n",
      "\u001b[0m\u001b[0;32m    312 \u001b[0;31m        \u001b[0mnewdps\u001b[0m \u001b[0;34m=\u001b[0m \u001b[0;34m[\u001b[0m\u001b[0;34m]\u001b[0m\u001b[0;34m\u001b[0m\u001b[0;34m\u001b[0m\u001b[0m\n",
      "\u001b[0m\u001b[0;32m    313 \u001b[0;31m        \u001b[0mhave_reduced\u001b[0m \u001b[0;34m=\u001b[0m \u001b[0;32mFalse\u001b[0m\u001b[0;34m\u001b[0m\u001b[0;34m\u001b[0m\u001b[0m\n",
      "\u001b[0m\n"
     ]
    },
    {
     "name": "stdin",
     "output_type": "stream",
     "text": [
      "ipdb>  n\n"
     ]
    },
    {
     "name": "stdout",
     "output_type": "stream",
     "text": [
      "> \u001b[0;32m/home/tapir/workspace/delierium/src/delierium/JanetBasis.py\u001b[0m(312)\u001b[0;36mAutoreduce\u001b[0;34m()\u001b[0m\n",
      "\u001b[0;32m    310 \u001b[0;31m    \u001b[0m_p\u001b[0m\u001b[0;34m,\u001b[0m \u001b[0mr\u001b[0m \u001b[0;34m=\u001b[0m \u001b[0mdps\u001b[0m\u001b[0;34m[\u001b[0m\u001b[0;34m:\u001b[0m\u001b[0mi\u001b[0m\u001b[0;34m+\u001b[0m\u001b[0;36m1\u001b[0m\u001b[0;34m]\u001b[0m\u001b[0;34m,\u001b[0m \u001b[0mdps\u001b[0m\u001b[0;34m[\u001b[0m\u001b[0mi\u001b[0m\u001b[0;34m+\u001b[0m\u001b[0;36m1\u001b[0m\u001b[0;34m:\u001b[0m\u001b[0;34m]\u001b[0m\u001b[0;34m\u001b[0m\u001b[0;34m\u001b[0m\u001b[0m\n",
      "\u001b[0m\u001b[0;32m    311 \u001b[0;31m    \u001b[0;32mwhile\u001b[0m \u001b[0mr\u001b[0m\u001b[0;34m:\u001b[0m\u001b[0;34m\u001b[0m\u001b[0;34m\u001b[0m\u001b[0m\n",
      "\u001b[0m\u001b[0;32m--> 312 \u001b[0;31m        \u001b[0mnewdps\u001b[0m \u001b[0;34m=\u001b[0m \u001b[0;34m[\u001b[0m\u001b[0;34m]\u001b[0m\u001b[0;34m\u001b[0m\u001b[0;34m\u001b[0m\u001b[0m\n",
      "\u001b[0m\u001b[0;32m    313 \u001b[0;31m        \u001b[0mhave_reduced\u001b[0m \u001b[0;34m=\u001b[0m \u001b[0;32mFalse\u001b[0m\u001b[0;34m\u001b[0m\u001b[0;34m\u001b[0m\u001b[0m\n",
      "\u001b[0m\u001b[0;32m    314 \u001b[0;31m        \u001b[0;32mfor\u001b[0m \u001b[0m_r\u001b[0m \u001b[0;32min\u001b[0m \u001b[0mr\u001b[0m\u001b[0;34m:\u001b[0m\u001b[0;34m\u001b[0m\u001b[0;34m\u001b[0m\u001b[0m\n",
      "\u001b[0m\n"
     ]
    },
    {
     "name": "stdin",
     "output_type": "stream",
     "text": [
      "ipdb>  n\n"
     ]
    },
    {
     "name": "stdout",
     "output_type": "stream",
     "text": [
      "> \u001b[0;32m/home/tapir/workspace/delierium/src/delierium/JanetBasis.py\u001b[0m(313)\u001b[0;36mAutoreduce\u001b[0;34m()\u001b[0m\n",
      "\u001b[0;32m    311 \u001b[0;31m    \u001b[0;32mwhile\u001b[0m \u001b[0mr\u001b[0m\u001b[0;34m:\u001b[0m\u001b[0;34m\u001b[0m\u001b[0;34m\u001b[0m\u001b[0m\n",
      "\u001b[0m\u001b[0;32m    312 \u001b[0;31m        \u001b[0mnewdps\u001b[0m \u001b[0;34m=\u001b[0m \u001b[0;34m[\u001b[0m\u001b[0;34m]\u001b[0m\u001b[0;34m\u001b[0m\u001b[0;34m\u001b[0m\u001b[0m\n",
      "\u001b[0m\u001b[0;32m--> 313 \u001b[0;31m        \u001b[0mhave_reduced\u001b[0m \u001b[0;34m=\u001b[0m \u001b[0;32mFalse\u001b[0m\u001b[0;34m\u001b[0m\u001b[0;34m\u001b[0m\u001b[0m\n",
      "\u001b[0m\u001b[0;32m    314 \u001b[0;31m        \u001b[0;32mfor\u001b[0m \u001b[0m_r\u001b[0m \u001b[0;32min\u001b[0m \u001b[0mr\u001b[0m\u001b[0;34m:\u001b[0m\u001b[0;34m\u001b[0m\u001b[0;34m\u001b[0m\u001b[0m\n",
      "\u001b[0m\u001b[0;32m    315 \u001b[0;31m            \u001b[0mrnew\u001b[0m \u001b[0;34m=\u001b[0m \u001b[0mreduceS\u001b[0m\u001b[0;34m(\u001b[0m\u001b[0m_r\u001b[0m\u001b[0;34m,\u001b[0m \u001b[0m_p\u001b[0m\u001b[0;34m,\u001b[0m \u001b[0mcontext\u001b[0m\u001b[0;34m)\u001b[0m\u001b[0;34m\u001b[0m\u001b[0;34m\u001b[0m\u001b[0m\n",
      "\u001b[0m\n"
     ]
    },
    {
     "name": "stdin",
     "output_type": "stream",
     "text": [
      "ipdb>  n\n"
     ]
    },
    {
     "name": "stdout",
     "output_type": "stream",
     "text": [
      "> \u001b[0;32m/home/tapir/workspace/delierium/src/delierium/JanetBasis.py\u001b[0m(314)\u001b[0;36mAutoreduce\u001b[0;34m()\u001b[0m\n",
      "\u001b[0;32m    312 \u001b[0;31m        \u001b[0mnewdps\u001b[0m \u001b[0;34m=\u001b[0m \u001b[0;34m[\u001b[0m\u001b[0;34m]\u001b[0m\u001b[0;34m\u001b[0m\u001b[0;34m\u001b[0m\u001b[0m\n",
      "\u001b[0m\u001b[0;32m    313 \u001b[0;31m        \u001b[0mhave_reduced\u001b[0m \u001b[0;34m=\u001b[0m \u001b[0;32mFalse\u001b[0m\u001b[0;34m\u001b[0m\u001b[0;34m\u001b[0m\u001b[0m\n",
      "\u001b[0m\u001b[0;32m--> 314 \u001b[0;31m        \u001b[0;32mfor\u001b[0m \u001b[0m_r\u001b[0m \u001b[0;32min\u001b[0m \u001b[0mr\u001b[0m\u001b[0;34m:\u001b[0m\u001b[0;34m\u001b[0m\u001b[0;34m\u001b[0m\u001b[0m\n",
      "\u001b[0m\u001b[0;32m    315 \u001b[0;31m            \u001b[0mrnew\u001b[0m \u001b[0;34m=\u001b[0m \u001b[0mreduceS\u001b[0m\u001b[0;34m(\u001b[0m\u001b[0m_r\u001b[0m\u001b[0;34m,\u001b[0m \u001b[0m_p\u001b[0m\u001b[0;34m,\u001b[0m \u001b[0mcontext\u001b[0m\u001b[0;34m)\u001b[0m\u001b[0;34m\u001b[0m\u001b[0;34m\u001b[0m\u001b[0m\n",
      "\u001b[0m\u001b[0;32m    316 \u001b[0;31m            \u001b[0mhave_reduced\u001b[0m \u001b[0;34m=\u001b[0m \u001b[0mhave_reduced\u001b[0m \u001b[0;32mor\u001b[0m \u001b[0mrnew\u001b[0m \u001b[0;34m!=\u001b[0m \u001b[0m_r\u001b[0m\u001b[0;34m\u001b[0m\u001b[0;34m\u001b[0m\u001b[0m\n",
      "\u001b[0m\n"
     ]
    },
    {
     "name": "stdin",
     "output_type": "stream",
     "text": [
      "ipdb>  n\n"
     ]
    },
    {
     "name": "stdout",
     "output_type": "stream",
     "text": [
      "> \u001b[0;32m/home/tapir/workspace/delierium/src/delierium/JanetBasis.py\u001b[0m(315)\u001b[0;36mAutoreduce\u001b[0;34m()\u001b[0m\n",
      "\u001b[0;32m    313 \u001b[0;31m        \u001b[0mhave_reduced\u001b[0m \u001b[0;34m=\u001b[0m \u001b[0;32mFalse\u001b[0m\u001b[0;34m\u001b[0m\u001b[0;34m\u001b[0m\u001b[0m\n",
      "\u001b[0m\u001b[0;32m    314 \u001b[0;31m        \u001b[0;32mfor\u001b[0m \u001b[0m_r\u001b[0m \u001b[0;32min\u001b[0m \u001b[0mr\u001b[0m\u001b[0;34m:\u001b[0m\u001b[0;34m\u001b[0m\u001b[0;34m\u001b[0m\u001b[0m\n",
      "\u001b[0m\u001b[0;32m--> 315 \u001b[0;31m            \u001b[0mrnew\u001b[0m \u001b[0;34m=\u001b[0m \u001b[0mreduceS\u001b[0m\u001b[0;34m(\u001b[0m\u001b[0m_r\u001b[0m\u001b[0;34m,\u001b[0m \u001b[0m_p\u001b[0m\u001b[0;34m,\u001b[0m \u001b[0mcontext\u001b[0m\u001b[0;34m)\u001b[0m\u001b[0;34m\u001b[0m\u001b[0;34m\u001b[0m\u001b[0m\n",
      "\u001b[0m\u001b[0;32m    316 \u001b[0;31m            \u001b[0mhave_reduced\u001b[0m \u001b[0;34m=\u001b[0m \u001b[0mhave_reduced\u001b[0m \u001b[0;32mor\u001b[0m \u001b[0mrnew\u001b[0m \u001b[0;34m!=\u001b[0m \u001b[0m_r\u001b[0m\u001b[0;34m\u001b[0m\u001b[0;34m\u001b[0m\u001b[0m\n",
      "\u001b[0m\u001b[0;32m    317 \u001b[0;31m            \u001b[0mnewdps\u001b[0m\u001b[0;34m.\u001b[0m\u001b[0mappend\u001b[0m\u001b[0;34m(\u001b[0m\u001b[0mrnew\u001b[0m\u001b[0;34m)\u001b[0m\u001b[0;34m\u001b[0m\u001b[0;34m\u001b[0m\u001b[0m\n",
      "\u001b[0m\n"
     ]
    },
    {
     "name": "stdin",
     "output_type": "stream",
     "text": [
      "ipdb>  n\n"
     ]
    },
    {
     "name": "stdout",
     "output_type": "stream",
     "text": [
      "> \u001b[0;32m/home/tapir/workspace/delierium/src/delierium/JanetBasis.py\u001b[0m(316)\u001b[0;36mAutoreduce\u001b[0;34m()\u001b[0m\n",
      "\u001b[0;32m    314 \u001b[0;31m        \u001b[0;32mfor\u001b[0m \u001b[0m_r\u001b[0m \u001b[0;32min\u001b[0m \u001b[0mr\u001b[0m\u001b[0;34m:\u001b[0m\u001b[0;34m\u001b[0m\u001b[0;34m\u001b[0m\u001b[0m\n",
      "\u001b[0m\u001b[0;32m    315 \u001b[0;31m            \u001b[0mrnew\u001b[0m \u001b[0;34m=\u001b[0m \u001b[0mreduceS\u001b[0m\u001b[0;34m(\u001b[0m\u001b[0m_r\u001b[0m\u001b[0;34m,\u001b[0m \u001b[0m_p\u001b[0m\u001b[0;34m,\u001b[0m \u001b[0mcontext\u001b[0m\u001b[0;34m)\u001b[0m\u001b[0;34m\u001b[0m\u001b[0;34m\u001b[0m\u001b[0m\n",
      "\u001b[0m\u001b[0;32m--> 316 \u001b[0;31m            \u001b[0mhave_reduced\u001b[0m \u001b[0;34m=\u001b[0m \u001b[0mhave_reduced\u001b[0m \u001b[0;32mor\u001b[0m \u001b[0mrnew\u001b[0m \u001b[0;34m!=\u001b[0m \u001b[0m_r\u001b[0m\u001b[0;34m\u001b[0m\u001b[0;34m\u001b[0m\u001b[0m\n",
      "\u001b[0m\u001b[0;32m    317 \u001b[0;31m            \u001b[0mnewdps\u001b[0m\u001b[0;34m.\u001b[0m\u001b[0mappend\u001b[0m\u001b[0;34m(\u001b[0m\u001b[0mrnew\u001b[0m\u001b[0;34m)\u001b[0m\u001b[0;34m\u001b[0m\u001b[0;34m\u001b[0m\u001b[0m\n",
      "\u001b[0m\u001b[0;32m    318 \u001b[0;31m        \u001b[0mdps\u001b[0m \u001b[0;34m=\u001b[0m \u001b[0mReorder\u001b[0m\u001b[0;34m(\u001b[0m\u001b[0m_p\u001b[0m \u001b[0;34m+\u001b[0m \u001b[0;34m[\u001b[0m\u001b[0m_\u001b[0m \u001b[0;32mfor\u001b[0m \u001b[0m_\u001b[0m \u001b[0;32min\u001b[0m \u001b[0mnewdps\u001b[0m \u001b[0;32mif\u001b[0m \u001b[0m_\u001b[0m \u001b[0;32mnot\u001b[0m \u001b[0;32min\u001b[0m \u001b[0m_p\u001b[0m\u001b[0;34m]\u001b[0m\u001b[0;34m,\u001b[0m \u001b[0mcontext\u001b[0m\u001b[0;34m,\u001b[0m \u001b[0mascending\u001b[0m\u001b[0;34m=\u001b[0m\u001b[0;32mTrue\u001b[0m\u001b[0;34m)\u001b[0m\u001b[0;34m\u001b[0m\u001b[0;34m\u001b[0m\u001b[0m\n",
      "\u001b[0m\n"
     ]
    },
    {
     "name": "stdin",
     "output_type": "stream",
     "text": [
      "ipdb>  n\n"
     ]
    },
    {
     "name": "stdout",
     "output_type": "stream",
     "text": [
      "> \u001b[0;32m/home/tapir/workspace/delierium/src/delierium/JanetBasis.py\u001b[0m(317)\u001b[0;36mAutoreduce\u001b[0;34m()\u001b[0m\n",
      "\u001b[0;32m    315 \u001b[0;31m            \u001b[0mrnew\u001b[0m \u001b[0;34m=\u001b[0m \u001b[0mreduceS\u001b[0m\u001b[0;34m(\u001b[0m\u001b[0m_r\u001b[0m\u001b[0;34m,\u001b[0m \u001b[0m_p\u001b[0m\u001b[0;34m,\u001b[0m \u001b[0mcontext\u001b[0m\u001b[0;34m)\u001b[0m\u001b[0;34m\u001b[0m\u001b[0;34m\u001b[0m\u001b[0m\n",
      "\u001b[0m\u001b[0;32m    316 \u001b[0;31m            \u001b[0mhave_reduced\u001b[0m \u001b[0;34m=\u001b[0m \u001b[0mhave_reduced\u001b[0m \u001b[0;32mor\u001b[0m \u001b[0mrnew\u001b[0m \u001b[0;34m!=\u001b[0m \u001b[0m_r\u001b[0m\u001b[0;34m\u001b[0m\u001b[0;34m\u001b[0m\u001b[0m\n",
      "\u001b[0m\u001b[0;32m--> 317 \u001b[0;31m            \u001b[0mnewdps\u001b[0m\u001b[0;34m.\u001b[0m\u001b[0mappend\u001b[0m\u001b[0;34m(\u001b[0m\u001b[0mrnew\u001b[0m\u001b[0;34m)\u001b[0m\u001b[0;34m\u001b[0m\u001b[0;34m\u001b[0m\u001b[0m\n",
      "\u001b[0m\u001b[0;32m    318 \u001b[0;31m        \u001b[0mdps\u001b[0m \u001b[0;34m=\u001b[0m \u001b[0mReorder\u001b[0m\u001b[0;34m(\u001b[0m\u001b[0m_p\u001b[0m \u001b[0;34m+\u001b[0m \u001b[0;34m[\u001b[0m\u001b[0m_\u001b[0m \u001b[0;32mfor\u001b[0m \u001b[0m_\u001b[0m \u001b[0;32min\u001b[0m \u001b[0mnewdps\u001b[0m \u001b[0;32mif\u001b[0m \u001b[0m_\u001b[0m \u001b[0;32mnot\u001b[0m \u001b[0;32min\u001b[0m \u001b[0m_p\u001b[0m\u001b[0;34m]\u001b[0m\u001b[0;34m,\u001b[0m \u001b[0mcontext\u001b[0m\u001b[0;34m,\u001b[0m \u001b[0mascending\u001b[0m\u001b[0;34m=\u001b[0m\u001b[0;32mTrue\u001b[0m\u001b[0;34m)\u001b[0m\u001b[0;34m\u001b[0m\u001b[0;34m\u001b[0m\u001b[0m\n",
      "\u001b[0m\u001b[0;32m    319 \u001b[0;31m        \u001b[0mi\u001b[0m \u001b[0;34m=\u001b[0m \u001b[0;36m0\u001b[0m \u001b[0;32mif\u001b[0m \u001b[0mhave_reduced\u001b[0m \u001b[0;32melse\u001b[0m \u001b[0mi\u001b[0m \u001b[0;34m+\u001b[0m \u001b[0;36m1\u001b[0m\u001b[0;34m\u001b[0m\u001b[0;34m\u001b[0m\u001b[0m\n",
      "\u001b[0m\n"
     ]
    },
    {
     "name": "stdin",
     "output_type": "stream",
     "text": [
      "ipdb>  n\n"
     ]
    },
    {
     "name": "stdout",
     "output_type": "stream",
     "text": [
      "> \u001b[0;32m/home/tapir/workspace/delierium/src/delierium/JanetBasis.py\u001b[0m(314)\u001b[0;36mAutoreduce\u001b[0;34m()\u001b[0m\n",
      "\u001b[0;32m    312 \u001b[0;31m        \u001b[0mnewdps\u001b[0m \u001b[0;34m=\u001b[0m \u001b[0;34m[\u001b[0m\u001b[0;34m]\u001b[0m\u001b[0;34m\u001b[0m\u001b[0;34m\u001b[0m\u001b[0m\n",
      "\u001b[0m\u001b[0;32m    313 \u001b[0;31m        \u001b[0mhave_reduced\u001b[0m \u001b[0;34m=\u001b[0m \u001b[0;32mFalse\u001b[0m\u001b[0;34m\u001b[0m\u001b[0;34m\u001b[0m\u001b[0m\n",
      "\u001b[0m\u001b[0;32m--> 314 \u001b[0;31m        \u001b[0;32mfor\u001b[0m \u001b[0m_r\u001b[0m \u001b[0;32min\u001b[0m \u001b[0mr\u001b[0m\u001b[0;34m:\u001b[0m\u001b[0;34m\u001b[0m\u001b[0;34m\u001b[0m\u001b[0m\n",
      "\u001b[0m\u001b[0;32m    315 \u001b[0;31m            \u001b[0mrnew\u001b[0m \u001b[0;34m=\u001b[0m \u001b[0mreduceS\u001b[0m\u001b[0;34m(\u001b[0m\u001b[0m_r\u001b[0m\u001b[0;34m,\u001b[0m \u001b[0m_p\u001b[0m\u001b[0;34m,\u001b[0m \u001b[0mcontext\u001b[0m\u001b[0;34m)\u001b[0m\u001b[0;34m\u001b[0m\u001b[0;34m\u001b[0m\u001b[0m\n",
      "\u001b[0m\u001b[0;32m    316 \u001b[0;31m            \u001b[0mhave_reduced\u001b[0m \u001b[0;34m=\u001b[0m \u001b[0mhave_reduced\u001b[0m \u001b[0;32mor\u001b[0m \u001b[0mrnew\u001b[0m \u001b[0;34m!=\u001b[0m \u001b[0m_r\u001b[0m\u001b[0;34m\u001b[0m\u001b[0;34m\u001b[0m\u001b[0m\n",
      "\u001b[0m\n"
     ]
    },
    {
     "name": "stdin",
     "output_type": "stream",
     "text": [
      "ipdb>  n\n"
     ]
    },
    {
     "name": "stdout",
     "output_type": "stream",
     "text": [
      "> \u001b[0;32m/home/tapir/workspace/delierium/src/delierium/JanetBasis.py\u001b[0m(315)\u001b[0;36mAutoreduce\u001b[0;34m()\u001b[0m\n",
      "\u001b[0;32m    313 \u001b[0;31m        \u001b[0mhave_reduced\u001b[0m \u001b[0;34m=\u001b[0m \u001b[0;32mFalse\u001b[0m\u001b[0;34m\u001b[0m\u001b[0;34m\u001b[0m\u001b[0m\n",
      "\u001b[0m\u001b[0;32m    314 \u001b[0;31m        \u001b[0;32mfor\u001b[0m \u001b[0m_r\u001b[0m \u001b[0;32min\u001b[0m \u001b[0mr\u001b[0m\u001b[0;34m:\u001b[0m\u001b[0;34m\u001b[0m\u001b[0;34m\u001b[0m\u001b[0m\n",
      "\u001b[0m\u001b[0;32m--> 315 \u001b[0;31m            \u001b[0mrnew\u001b[0m \u001b[0;34m=\u001b[0m \u001b[0mreduceS\u001b[0m\u001b[0;34m(\u001b[0m\u001b[0m_r\u001b[0m\u001b[0;34m,\u001b[0m \u001b[0m_p\u001b[0m\u001b[0;34m,\u001b[0m \u001b[0mcontext\u001b[0m\u001b[0;34m)\u001b[0m\u001b[0;34m\u001b[0m\u001b[0;34m\u001b[0m\u001b[0m\n",
      "\u001b[0m\u001b[0;32m    316 \u001b[0;31m            \u001b[0mhave_reduced\u001b[0m \u001b[0;34m=\u001b[0m \u001b[0mhave_reduced\u001b[0m \u001b[0;32mor\u001b[0m \u001b[0mrnew\u001b[0m \u001b[0;34m!=\u001b[0m \u001b[0m_r\u001b[0m\u001b[0;34m\u001b[0m\u001b[0;34m\u001b[0m\u001b[0m\n",
      "\u001b[0m\u001b[0;32m    317 \u001b[0;31m            \u001b[0mnewdps\u001b[0m\u001b[0;34m.\u001b[0m\u001b[0mappend\u001b[0m\u001b[0;34m(\u001b[0m\u001b[0mrnew\u001b[0m\u001b[0;34m)\u001b[0m\u001b[0;34m\u001b[0m\u001b[0;34m\u001b[0m\u001b[0m\n",
      "\u001b[0m\n"
     ]
    },
    {
     "name": "stdin",
     "output_type": "stream",
     "text": [
      "ipdb>  n\n"
     ]
    },
    {
     "name": "stdout",
     "output_type": "stream",
     "text": [
      "> \u001b[0;32m/home/tapir/workspace/delierium/src/delierium/JanetBasis.py\u001b[0m(316)\u001b[0;36mAutoreduce\u001b[0;34m()\u001b[0m\n",
      "\u001b[0;32m    314 \u001b[0;31m        \u001b[0;32mfor\u001b[0m \u001b[0m_r\u001b[0m \u001b[0;32min\u001b[0m \u001b[0mr\u001b[0m\u001b[0;34m:\u001b[0m\u001b[0;34m\u001b[0m\u001b[0;34m\u001b[0m\u001b[0m\n",
      "\u001b[0m\u001b[0;32m    315 \u001b[0;31m            \u001b[0mrnew\u001b[0m \u001b[0;34m=\u001b[0m \u001b[0mreduceS\u001b[0m\u001b[0;34m(\u001b[0m\u001b[0m_r\u001b[0m\u001b[0;34m,\u001b[0m \u001b[0m_p\u001b[0m\u001b[0;34m,\u001b[0m \u001b[0mcontext\u001b[0m\u001b[0;34m)\u001b[0m\u001b[0;34m\u001b[0m\u001b[0;34m\u001b[0m\u001b[0m\n",
      "\u001b[0m\u001b[0;32m--> 316 \u001b[0;31m            \u001b[0mhave_reduced\u001b[0m \u001b[0;34m=\u001b[0m \u001b[0mhave_reduced\u001b[0m \u001b[0;32mor\u001b[0m \u001b[0mrnew\u001b[0m \u001b[0;34m!=\u001b[0m \u001b[0m_r\u001b[0m\u001b[0;34m\u001b[0m\u001b[0;34m\u001b[0m\u001b[0m\n",
      "\u001b[0m\u001b[0;32m    317 \u001b[0;31m            \u001b[0mnewdps\u001b[0m\u001b[0;34m.\u001b[0m\u001b[0mappend\u001b[0m\u001b[0;34m(\u001b[0m\u001b[0mrnew\u001b[0m\u001b[0;34m)\u001b[0m\u001b[0;34m\u001b[0m\u001b[0;34m\u001b[0m\u001b[0m\n",
      "\u001b[0m\u001b[0;32m    318 \u001b[0;31m        \u001b[0mdps\u001b[0m \u001b[0;34m=\u001b[0m \u001b[0mReorder\u001b[0m\u001b[0;34m(\u001b[0m\u001b[0m_p\u001b[0m \u001b[0;34m+\u001b[0m \u001b[0;34m[\u001b[0m\u001b[0m_\u001b[0m \u001b[0;32mfor\u001b[0m \u001b[0m_\u001b[0m \u001b[0;32min\u001b[0m \u001b[0mnewdps\u001b[0m \u001b[0;32mif\u001b[0m \u001b[0m_\u001b[0m \u001b[0;32mnot\u001b[0m \u001b[0;32min\u001b[0m \u001b[0m_p\u001b[0m\u001b[0;34m]\u001b[0m\u001b[0;34m,\u001b[0m \u001b[0mcontext\u001b[0m\u001b[0;34m,\u001b[0m \u001b[0mascending\u001b[0m\u001b[0;34m=\u001b[0m\u001b[0;32mTrue\u001b[0m\u001b[0;34m)\u001b[0m\u001b[0;34m\u001b[0m\u001b[0;34m\u001b[0m\u001b[0m\n",
      "\u001b[0m\n"
     ]
    },
    {
     "name": "stdin",
     "output_type": "stream",
     "text": [
      "ipdb>  n\n"
     ]
    },
    {
     "name": "stdout",
     "output_type": "stream",
     "text": [
      "> \u001b[0;32m/home/tapir/workspace/delierium/src/delierium/JanetBasis.py\u001b[0m(317)\u001b[0;36mAutoreduce\u001b[0;34m()\u001b[0m\n",
      "\u001b[0;32m    315 \u001b[0;31m            \u001b[0mrnew\u001b[0m \u001b[0;34m=\u001b[0m \u001b[0mreduceS\u001b[0m\u001b[0;34m(\u001b[0m\u001b[0m_r\u001b[0m\u001b[0;34m,\u001b[0m \u001b[0m_p\u001b[0m\u001b[0;34m,\u001b[0m \u001b[0mcontext\u001b[0m\u001b[0;34m)\u001b[0m\u001b[0;34m\u001b[0m\u001b[0;34m\u001b[0m\u001b[0m\n",
      "\u001b[0m\u001b[0;32m    316 \u001b[0;31m            \u001b[0mhave_reduced\u001b[0m \u001b[0;34m=\u001b[0m \u001b[0mhave_reduced\u001b[0m \u001b[0;32mor\u001b[0m \u001b[0mrnew\u001b[0m \u001b[0;34m!=\u001b[0m \u001b[0m_r\u001b[0m\u001b[0;34m\u001b[0m\u001b[0;34m\u001b[0m\u001b[0m\n",
      "\u001b[0m\u001b[0;32m--> 317 \u001b[0;31m            \u001b[0mnewdps\u001b[0m\u001b[0;34m.\u001b[0m\u001b[0mappend\u001b[0m\u001b[0;34m(\u001b[0m\u001b[0mrnew\u001b[0m\u001b[0;34m)\u001b[0m\u001b[0;34m\u001b[0m\u001b[0;34m\u001b[0m\u001b[0m\n",
      "\u001b[0m\u001b[0;32m    318 \u001b[0;31m        \u001b[0mdps\u001b[0m \u001b[0;34m=\u001b[0m \u001b[0mReorder\u001b[0m\u001b[0;34m(\u001b[0m\u001b[0m_p\u001b[0m \u001b[0;34m+\u001b[0m \u001b[0;34m[\u001b[0m\u001b[0m_\u001b[0m \u001b[0;32mfor\u001b[0m \u001b[0m_\u001b[0m \u001b[0;32min\u001b[0m \u001b[0mnewdps\u001b[0m \u001b[0;32mif\u001b[0m \u001b[0m_\u001b[0m \u001b[0;32mnot\u001b[0m \u001b[0;32min\u001b[0m \u001b[0m_p\u001b[0m\u001b[0;34m]\u001b[0m\u001b[0;34m,\u001b[0m \u001b[0mcontext\u001b[0m\u001b[0;34m,\u001b[0m \u001b[0mascending\u001b[0m\u001b[0;34m=\u001b[0m\u001b[0;32mTrue\u001b[0m\u001b[0;34m)\u001b[0m\u001b[0;34m\u001b[0m\u001b[0;34m\u001b[0m\u001b[0m\n",
      "\u001b[0m\u001b[0;32m    319 \u001b[0;31m        \u001b[0mi\u001b[0m \u001b[0;34m=\u001b[0m \u001b[0;36m0\u001b[0m \u001b[0;32mif\u001b[0m \u001b[0mhave_reduced\u001b[0m \u001b[0;32melse\u001b[0m \u001b[0mi\u001b[0m \u001b[0;34m+\u001b[0m \u001b[0;36m1\u001b[0m\u001b[0;34m\u001b[0m\u001b[0;34m\u001b[0m\u001b[0m\n",
      "\u001b[0m\n"
     ]
    },
    {
     "name": "stdin",
     "output_type": "stream",
     "text": [
      "ipdb>  n\n"
     ]
    },
    {
     "name": "stdout",
     "output_type": "stream",
     "text": [
      "> \u001b[0;32m/home/tapir/workspace/delierium/src/delierium/JanetBasis.py\u001b[0m(314)\u001b[0;36mAutoreduce\u001b[0;34m()\u001b[0m\n",
      "\u001b[0;32m    312 \u001b[0;31m        \u001b[0mnewdps\u001b[0m \u001b[0;34m=\u001b[0m \u001b[0;34m[\u001b[0m\u001b[0;34m]\u001b[0m\u001b[0;34m\u001b[0m\u001b[0;34m\u001b[0m\u001b[0m\n",
      "\u001b[0m\u001b[0;32m    313 \u001b[0;31m        \u001b[0mhave_reduced\u001b[0m \u001b[0;34m=\u001b[0m \u001b[0;32mFalse\u001b[0m\u001b[0;34m\u001b[0m\u001b[0;34m\u001b[0m\u001b[0m\n",
      "\u001b[0m\u001b[0;32m--> 314 \u001b[0;31m        \u001b[0;32mfor\u001b[0m \u001b[0m_r\u001b[0m \u001b[0;32min\u001b[0m \u001b[0mr\u001b[0m\u001b[0;34m:\u001b[0m\u001b[0;34m\u001b[0m\u001b[0;34m\u001b[0m\u001b[0m\n",
      "\u001b[0m\u001b[0;32m    315 \u001b[0;31m            \u001b[0mrnew\u001b[0m \u001b[0;34m=\u001b[0m \u001b[0mreduceS\u001b[0m\u001b[0;34m(\u001b[0m\u001b[0m_r\u001b[0m\u001b[0;34m,\u001b[0m \u001b[0m_p\u001b[0m\u001b[0;34m,\u001b[0m \u001b[0mcontext\u001b[0m\u001b[0;34m)\u001b[0m\u001b[0;34m\u001b[0m\u001b[0;34m\u001b[0m\u001b[0m\n",
      "\u001b[0m\u001b[0;32m    316 \u001b[0;31m            \u001b[0mhave_reduced\u001b[0m \u001b[0;34m=\u001b[0m \u001b[0mhave_reduced\u001b[0m \u001b[0;32mor\u001b[0m \u001b[0mrnew\u001b[0m \u001b[0;34m!=\u001b[0m \u001b[0m_r\u001b[0m\u001b[0;34m\u001b[0m\u001b[0;34m\u001b[0m\u001b[0m\n",
      "\u001b[0m\n"
     ]
    },
    {
     "name": "stdin",
     "output_type": "stream",
     "text": [
      "ipdb>  n\n"
     ]
    },
    {
     "name": "stdout",
     "output_type": "stream",
     "text": [
      "> \u001b[0;32m/home/tapir/workspace/delierium/src/delierium/JanetBasis.py\u001b[0m(318)\u001b[0;36mAutoreduce\u001b[0;34m()\u001b[0m\n",
      "\u001b[0;32m    316 \u001b[0;31m            \u001b[0mhave_reduced\u001b[0m \u001b[0;34m=\u001b[0m \u001b[0mhave_reduced\u001b[0m \u001b[0;32mor\u001b[0m \u001b[0mrnew\u001b[0m \u001b[0;34m!=\u001b[0m \u001b[0m_r\u001b[0m\u001b[0;34m\u001b[0m\u001b[0;34m\u001b[0m\u001b[0m\n",
      "\u001b[0m\u001b[0;32m    317 \u001b[0;31m            \u001b[0mnewdps\u001b[0m\u001b[0;34m.\u001b[0m\u001b[0mappend\u001b[0m\u001b[0;34m(\u001b[0m\u001b[0mrnew\u001b[0m\u001b[0;34m)\u001b[0m\u001b[0;34m\u001b[0m\u001b[0;34m\u001b[0m\u001b[0m\n",
      "\u001b[0m\u001b[0;32m--> 318 \u001b[0;31m        \u001b[0mdps\u001b[0m \u001b[0;34m=\u001b[0m \u001b[0mReorder\u001b[0m\u001b[0;34m(\u001b[0m\u001b[0m_p\u001b[0m \u001b[0;34m+\u001b[0m \u001b[0;34m[\u001b[0m\u001b[0m_\u001b[0m \u001b[0;32mfor\u001b[0m \u001b[0m_\u001b[0m \u001b[0;32min\u001b[0m \u001b[0mnewdps\u001b[0m \u001b[0;32mif\u001b[0m \u001b[0m_\u001b[0m \u001b[0;32mnot\u001b[0m \u001b[0;32min\u001b[0m \u001b[0m_p\u001b[0m\u001b[0;34m]\u001b[0m\u001b[0;34m,\u001b[0m \u001b[0mcontext\u001b[0m\u001b[0;34m,\u001b[0m \u001b[0mascending\u001b[0m\u001b[0;34m=\u001b[0m\u001b[0;32mTrue\u001b[0m\u001b[0;34m)\u001b[0m\u001b[0;34m\u001b[0m\u001b[0;34m\u001b[0m\u001b[0m\n",
      "\u001b[0m\u001b[0;32m    319 \u001b[0;31m        \u001b[0mi\u001b[0m \u001b[0;34m=\u001b[0m \u001b[0;36m0\u001b[0m \u001b[0;32mif\u001b[0m \u001b[0mhave_reduced\u001b[0m \u001b[0;32melse\u001b[0m \u001b[0mi\u001b[0m \u001b[0;34m+\u001b[0m \u001b[0;36m1\u001b[0m\u001b[0;34m\u001b[0m\u001b[0;34m\u001b[0m\u001b[0m\n",
      "\u001b[0m\u001b[0;32m    320 \u001b[0;31m        \u001b[0m_p\u001b[0m\u001b[0;34m,\u001b[0m \u001b[0mr\u001b[0m \u001b[0;34m=\u001b[0m \u001b[0mdps\u001b[0m\u001b[0;34m[\u001b[0m\u001b[0;34m:\u001b[0m\u001b[0mi\u001b[0m\u001b[0;34m+\u001b[0m\u001b[0;36m1\u001b[0m\u001b[0;34m]\u001b[0m\u001b[0;34m,\u001b[0m \u001b[0mdps\u001b[0m\u001b[0;34m[\u001b[0m\u001b[0mi\u001b[0m\u001b[0;34m+\u001b[0m\u001b[0;36m1\u001b[0m\u001b[0;34m:\u001b[0m\u001b[0;34m]\u001b[0m\u001b[0;34m\u001b[0m\u001b[0;34m\u001b[0m\u001b[0m\n",
      "\u001b[0m\n"
     ]
    },
    {
     "name": "stdin",
     "output_type": "stream",
     "text": [
      "ipdb>  pp locals()\n"
     ]
    },
    {
     "name": "stdout",
     "output_type": "stream",
     "text": [
      "{'S': [<delierium.JanetBasis._Differential_Polynomial object at 0x7f8bfbfcbe10>,\n",
      "       <delierium.JanetBasis._Differential_Polynomial object at 0x7f8bfd128c90>,\n",
      "       <delierium.JanetBasis._Differential_Polynomial object at 0x7f8bfc37e210>],\n",
      " '_p': [<delierium.JanetBasis._Differential_Polynomial object at 0x7f8bfbfcbe10>],\n",
      " '_r': <delierium.JanetBasis._Differential_Polynomial object at 0x7f8bfc37e210>,\n",
      " 'context': <delierium.MatrixOrder.Context object at 0x7f8bfc819b50>,\n",
      " 'dps': [<delierium.JanetBasis._Differential_Polynomial object at 0x7f8bfbfcbe10>,\n",
      "         <delierium.JanetBasis._Differential_Polynomial object at 0x7f8bfd128c90>,\n",
      "         <delierium.JanetBasis._Differential_Polynomial object at 0x7f8bfc37e210>],\n",
      " 'have_reduced': True,\n",
      " 'i': 0,\n",
      " 'newdps': [<delierium.JanetBasis._Differential_Polynomial object at 0x7f8bfd128c90>,\n",
      "            <delierium.JanetBasis._Differential_Polynomial object at 0x7f8bfc6a3250>],\n",
      " 'r': [<delierium.JanetBasis._Differential_Polynomial object at 0x7f8bfd128c90>,\n",
      "       <delierium.JanetBasis._Differential_Polynomial object at 0x7f8bfc37e210>],\n",
      " 'rnew': <delierium.JanetBasis._Differential_Polynomial object at 0x7f8bfc6a3250>}\n"
     ]
    },
    {
     "name": "stdin",
     "output_type": "stream",
     "text": [
      "ipdb>  for x in newdps: print(x)\n"
     ]
    },
    {
     "name": "stdout",
     "output_type": "stream",
     "text": [
      "diff(u(x, y), x) + (-1) * diff(v(x, y), y)\n",
      "diff(u(x, y), x, x, y) + (-3) * diff(u(x, y), y, y, y) + diff(v(x, y), x, x, x) + (-2) * diff(v(x, y), x, y, y)\n"
     ]
    }
   ],
   "source": [
    "jb=Janet_Basis(s,(u,v), (y,x))"
   ]
  },
  {
   "cell_type": "code",
   "execution_count": null,
   "id": "8fb97ec6-f136-4475-b260-769a349c54dd",
   "metadata": {},
   "outputs": [],
   "source": []
  }
 ],
 "metadata": {
  "kernelspec": {
   "display_name": "SageMath 10.0",
   "language": "sage",
   "name": "sagemath"
  },
  "language_info": {
   "codemirror_mode": {
    "name": "ipython",
    "version": 3
   },
   "file_extension": ".py",
   "mimetype": "text/x-python",
   "name": "python",
   "nbconvert_exporter": "python",
   "pygments_lexer": "ipython3",
   "version": "3.11.4"
  }
 },
 "nbformat": 4,
 "nbformat_minor": 5
}
