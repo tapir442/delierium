{
 "cells": [
  {
   "cell_type": "code",
   "execution_count": 1,
   "id": "d0422317-e42a-47e7-9b06-7c2e1089ad01",
   "metadata": {},
   "outputs": [],
   "source": [
    "from delierium.Infinitesimals import prolongationODE, overdeterminedSystemODE\n",
    "from delierium.helpers import latexer\n",
    "from delierium.JanetBasis import Janet_Basis, vec_multipliers\n",
    "from delierium.MatrixOrder import Context\n",
    "from sage.all import *\n",
    "from IPython.core.debugger import set_trace\n",
    "from IPython.display import Math"
   ]
  },
  {
   "cell_type": "raw",
   "id": "d803dbd9-195b-4e17-88f3-5dbec8375345",
   "metadata": {},
   "source": [
    "The MAPLE Package \\Janet\":\n",
    "II. Linear Partial Di erential Equations\n",
    "Yuri A. Blinkov1 ? , Carlos F. Cid2 ?? , Vladimir P. Gerdt3 ? ? ? , Wilhelm Plesken2 y, and Daniel\n",
    "Robertz2 z"
   ]
  },
  {
   "cell_type": "code",
   "execution_count": 2,
   "id": "ee0066ec-3fdd-4569-b09e-ce1bade12255",
   "metadata": {},
   "outputs": [],
   "source": [
    "x, y = var('x y')"
   ]
  },
  {
   "cell_type": "code",
   "execution_count": 3,
   "id": "1caab27e-de39-4c3c-a2a3-9a9688177ef8",
   "metadata": {},
   "outputs": [],
   "source": [
    "u=function('u')(x,y)\n",
    "v=function('v')(x,y)"
   ]
  },
  {
   "cell_type": "code",
   "execution_count": 4,
   "id": "7c506758-3ea9-4b02-8bb2-ec535bd4c26b",
   "metadata": {},
   "outputs": [],
   "source": [
    "s=[diff(u,x)-diff(v,y), diff(u,y)+diff(v,x),diff(u,y,3)]"
   ]
  },
  {
   "cell_type": "code",
   "execution_count": 5,
   "id": "a93d3f88-9067-476c-9886-b752ebce325d",
   "metadata": {},
   "outputs": [
    {
     "name": "stdout",
     "output_type": "stream",
     "text": [
      "(u, v) (x, y)\n",
      "diff(u(x, y), y) diff(u(x, y), x)\n",
      "diff(u(x, y), x) diff(u(x, y), y, y, y)\n"
     ]
    },
    {
     "ename": "AssertionError",
     "evalue": "",
     "output_type": "error",
     "traceback": [
      "\u001b[0;31m---------------------------------------------------------------------------\u001b[0m",
      "\u001b[0;31mAssertionError\u001b[0m                            Traceback (most recent call last)",
      "Cell \u001b[0;32mIn[5], line 4\u001b[0m\n\u001b[1;32m      1\u001b[0m \u001b[38;5;66;03m# this sort order loops forever\u001b[39;00m\n\u001b[1;32m      2\u001b[0m \u001b[38;5;66;03m#jb=Janet_Basis(s,(u,v), (y,x))\u001b[39;00m\n\u001b[1;32m      3\u001b[0m \u001b[38;5;66;03m# this sort order works, but with wrong(?) result\u001b[39;00m\n\u001b[0;32m----> 4\u001b[0m jb\u001b[38;5;241m=\u001b[39m\u001b[43mJanet_Basis\u001b[49m\u001b[43m(\u001b[49m\u001b[43ms\u001b[49m\u001b[43m,\u001b[49m\u001b[43m(\u001b[49m\u001b[43mu\u001b[49m\u001b[43m,\u001b[49m\u001b[43mv\u001b[49m\u001b[43m)\u001b[49m\u001b[43m,\u001b[49m\u001b[43m \u001b[49m\u001b[43m(\u001b[49m\u001b[43mx\u001b[49m\u001b[43m,\u001b[49m\u001b[43my\u001b[49m\u001b[43m)\u001b[49m\u001b[43m)\u001b[49m\n",
      "File \u001b[0;32m~/research-disk/delierium/src/delierium/JanetBasis.py:907\u001b[0m, in \u001b[0;36mJanet_Basis.__init__\u001b[0;34m(self, S, dependent, independent, sort_order)\u001b[0m\n\u001b[1;32m    905\u001b[0m     \u001b[38;5;28mself\u001b[39m\u001b[38;5;241m.\u001b[39mS \u001b[38;5;241m=\u001b[39m S[:]\n\u001b[1;32m    906\u001b[0m old \u001b[38;5;241m=\u001b[39m []\n\u001b[0;32m--> 907\u001b[0m \u001b[38;5;28mself\u001b[39m\u001b[38;5;241m.\u001b[39mS \u001b[38;5;241m=\u001b[39m \u001b[43mReorder\u001b[49m\u001b[43m(\u001b[49m\u001b[43m[\u001b[49m\u001b[43m_Differential_Polynomial\u001b[49m\u001b[43m(\u001b[49m\u001b[43ms\u001b[49m\u001b[43m,\u001b[49m\u001b[43m \u001b[49m\u001b[43mcontext\u001b[49m\u001b[43m)\u001b[49m\u001b[43m \u001b[49m\u001b[38;5;28;43;01mfor\u001b[39;49;00m\u001b[43m \u001b[49m\u001b[43ms\u001b[49m\u001b[43m \u001b[49m\u001b[38;5;129;43;01min\u001b[39;49;00m\u001b[43m \u001b[49m\u001b[38;5;28;43mself\u001b[39;49m\u001b[38;5;241;43m.\u001b[39;49m\u001b[43mS\u001b[49m\u001b[43m]\u001b[49m\u001b[43m,\u001b[49m\u001b[43m \u001b[49m\u001b[43mcontext\u001b[49m\u001b[43m,\u001b[49m\u001b[43m \u001b[49m\u001b[43mascending\u001b[49m\u001b[43m \u001b[49m\u001b[38;5;241;43m=\u001b[39;49m\u001b[43m \u001b[49m\u001b[38;5;28;43;01mTrue\u001b[39;49;00m\u001b[43m)\u001b[49m\n\u001b[1;32m    908\u001b[0m loop \u001b[38;5;241m=\u001b[39m \u001b[38;5;241m0\u001b[39m\n\u001b[1;32m    909\u001b[0m \u001b[38;5;28;01mwhile\u001b[39;00m \u001b[38;5;241m1\u001b[39m:\n\u001b[1;32m    910\u001b[0m     \u001b[38;5;66;03m# XXX try 'is'instead of '=='\u001b[39;00m\n",
      "File \u001b[0;32m~/research-disk/delierium/src/delierium/JanetBasis.py:343\u001b[0m, in \u001b[0;36mReorder\u001b[0;34m(S, context, ascending)\u001b[0m\n\u001b[1;32m    341\u001b[0m \u001b[38;5;28;01mfor\u001b[39;00m k \u001b[38;5;129;01min\u001b[39;00m pairwise(s):\n\u001b[1;32m    342\u001b[0m     \u001b[38;5;28mprint\u001b[39m(k[\u001b[38;5;241m0\u001b[39m]\u001b[38;5;241m.\u001b[39mLder(), k[\u001b[38;5;241m1\u001b[39m]\u001b[38;5;241m.\u001b[39mLder())\n\u001b[0;32m--> 343\u001b[0m \u001b[38;5;28;01massert\u001b[39;00m \u001b[38;5;28mall\u001b[39m(\u001b[38;5;28mmap\u001b[39m(\u001b[38;5;28;01mlambda\u001b[39;00m a: a[\u001b[38;5;241m0\u001b[39m]\u001b[38;5;241m.\u001b[39mLder() \u001b[38;5;241m<\u001b[39m\u001b[38;5;241m=\u001b[39m a[\u001b[38;5;241m1\u001b[39m]\u001b[38;5;241m.\u001b[39mLder(), pairwise(s)))\n\u001b[1;32m    344\u001b[0m \u001b[38;5;28;01mreturn\u001b[39;00m s\n",
      "\u001b[0;31mAssertionError\u001b[0m: "
     ]
    }
   ],
   "source": [
    "# this sort order loops forever\n",
    "#jb=Janet_Basis(s,(u,v), (y,x))\n",
    "# this sort order works, but with wrong(?) result\n",
    "jb=Janet_Basis(s,(u,v), (x,y))"
   ]
  },
  {
   "cell_type": "code",
   "execution_count": null,
   "id": "b15421a9-354e-4227-953e-f395de1354f0",
   "metadata": {},
   "outputs": [],
   "source": [
    "jb.show()"
   ]
  },
  {
   "cell_type": "code",
   "execution_count": null,
   "id": "8fb97ec6-f136-4475-b260-769a349c54dd",
   "metadata": {},
   "outputs": [],
   "source": [
    "for _ in jb.S:\n",
    "    print(_.multipliers)"
   ]
  },
  {
   "cell_type": "code",
   "execution_count": null,
   "id": "ff7182a5-199f-4b7c-9ed3-8d40fd2a0b59",
   "metadata": {},
   "outputs": [],
   "source": []
  },
  {
   "cell_type": "code",
   "execution_count": null,
   "id": "f4f13f3b-2937-45d3-8bdc-c1dd48b8016b",
   "metadata": {
    "editable": true,
    "slideshow": {
     "slide_type": ""
    },
    "tags": []
   },
   "outputs": [],
   "source": []
  }
 ],
 "metadata": {
  "kernelspec": {
   "display_name": "SageMath 10.0",
   "language": "sage",
   "name": "sagemath"
  },
  "language_info": {
   "codemirror_mode": {
    "name": "ipython",
    "version": 3
   },
   "file_extension": ".py",
   "mimetype": "text/x-python",
   "name": "python",
   "nbconvert_exporter": "python",
   "pygments_lexer": "ipython3",
   "version": "3.11.6"
  }
 },
 "nbformat": 4,
 "nbformat_minor": 5
}
