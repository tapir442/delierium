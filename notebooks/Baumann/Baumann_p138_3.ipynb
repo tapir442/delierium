{
 "cells": [
  {
   "cell_type": "code",
   "execution_count": null,
   "id": "e1bf9cdf-f7b6-4f64-85e0-8c882bd1f387",
   "metadata": {},
   "outputs": [],
   "source": [
    "from delierium.Infinitesimals import prolongationODE, infinitesimalsODE,Janet_Basis_from_ODE\n",
    "from delierium.JanetBasis import Janet_Basis\n",
    "from delierium.MatrixOrder import Context\n",
    "from delierium.helpers import latexer\n",
    "from sage.misc.html import html\n",
    "from IPython.core.debugger import set_trace\n",
    "from IPython.display import Math\n",
    "%load_ext line_profiler\n",
    "%load_ext snakeviz"
   ]
  },
  {
   "cell_type": "code",
   "execution_count": null,
   "id": "ccc540e7-38fb-42a5-8fed-fb622ca3420b",
   "metadata": {},
   "outputs": [],
   "source": [
    "# Example 2, p.138\n",
    "x = var('x')\n",
    "u = function('u')\n",
    "F = function(\"F\")\n",
    "ode5 = diff(u(x), x, x) - F(x, u(x), diff(u(x), x))\n",
    "display(Math(latexer(ode5)))\n",
    "inf = prolongationODE(ode5, u, x)\n",
    "inf[0].show()\n",
    "# XXX: prolongation is wrong\n",
    "# XXX: infinitesimals crashes. But we have oreder 1. So no infinitesimal computable\n",
    "# XXX: display is broken\n",
    "s = solve(ode5==0, diff(u(x), x))\n",
    "print(s)\n",
    "\n",
    "display(Math(latexer(inf[0])))\n",
    "inf = infinitesimalsODE(ode5, u, x)\n",
    "print(\"determining system:\")\n",
    "for _ in inf:\n",
    "    display(Math(latexer(_)))"
   ]
  },
  {
   "cell_type": "code",
   "execution_count": null,
   "id": "2ec99dfc-ff53-4768-b799-af14e0a08738",
   "metadata": {},
   "outputs": [],
   "source": []
  }
 ],
 "metadata": {
  "kernelspec": {
   "display_name": "SageMath 9.6",
   "language": "sage",
   "name": "sagemath"
  },
  "language_info": {
   "codemirror_mode": {
    "name": "ipython",
    "version": 3
   },
   "file_extension": ".py",
   "mimetype": "text/x-python",
   "name": "python",
   "nbconvert_exporter": "python",
   "pygments_lexer": "ipython3",
   "version": "3.10.8"
  },
  "widgets": {
   "application/vnd.jupyter.widget-state+json": {
    "state": {},
    "version_major": 2,
    "version_minor": 0
   }
  }
 },
 "nbformat": 4,
 "nbformat_minor": 5
}
