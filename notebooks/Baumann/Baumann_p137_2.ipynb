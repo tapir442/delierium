{
 "cells": [
  {
   "cell_type": "code",
   "execution_count": 2,
   "id": "bf71fccb-702e-4019-838a-24ef9afb3f31",
   "metadata": {},
   "outputs": [
    {
     "name": "stdout",
     "output_type": "stream",
     "text": [
      "The line_profiler extension is already loaded. To reload it, use:\n",
      "  %reload_ext line_profiler\n",
      "The snakeviz extension is already loaded. To reload it, use:\n",
      "  %reload_ext snakeviz\n"
     ]
    }
   ],
   "source": [
    "from delierium.Infinitesimals import prolongationODE, infinitesimalsODE,Janet_Basis_from_ODE\n",
    "from delierium.JanetBasis import Janet_Basis\n",
    "from delierium.MatrixOrder import Context\n",
    "from delierium.helpers import latexer\n",
    "from sage.misc.html import html\n",
    "from IPython.core.debugger import set_trace\n",
    "from IPython.display import Math\n",
    "%load_ext line_profiler\n",
    "%load_ext snakeviz"
   ]
  },
  {
   "cell_type": "code",
   "execution_count": 3,
   "id": "bbfd06a7-d53a-43e2-aff1-4188fc511efd",
   "metadata": {},
   "outputs": [
    {
     "data": {
      "text/latex": [
       "$\\displaystyle -f g(u) + u_{x}$"
      ],
      "text/plain": [
       "<IPython.core.display.Math object>"
      ]
     },
     "metadata": {},
     "output_type": "display_data"
    },
    {
     "name": "stdout",
     "output_type": "stream",
     "text": [
      "[\n",
      "diff(u(x), x) == f(x)*g(u(x))\n",
      "]\n"
     ]
    },
    {
     "data": {
      "text/latex": [
       "$\\displaystyle -g(u) \\xi f_{x} - f \\phi D[0](g)(u) - u_{x}^2  \\xi_{u} +  \\phi_{u} u_{x} - u_{x}  \\xi_{x} +  \\phi_{x}$"
      ],
      "text/plain": [
       "<IPython.core.display.Math object>"
      ]
     },
     "metadata": {},
     "output_type": "display_data"
    }
   ],
   "source": [
    "# Example 2, p.137\n",
    "x = var('x')\n",
    "u = function('u')\n",
    "f = function(\"f\")\n",
    "g = function(\"g\")\n",
    "ode = diff(u(x), x) - g(u(x))*f(x)\n",
    "display(Math(latexer(ode)))\n",
    "inf = prolongationODE(ode, u, x)\n",
    "s = solve(ode, diff(u(x), x))\n",
    "print(s)\n",
    "# XXX: prolongation is wrong\n",
    "# XXX: infinitesimals crashes. But we have oreder 1. So no infinitesimal computable\n",
    "# XXX: display is broken\n",
    "display(Math(latexer(inf[0])))\n",
    "#inf = infinitesimalsODE(ode, u, x)\n",
    "#print(\"determining system:\")#\n",
    "#for _ in inf:\n",
    "#    display(Math(latexer(_)))"
   ]
  },
  {
   "cell_type": "code",
   "execution_count": 4,
   "id": "727f9f69-b99f-4f24-b310-979bba8710ea",
   "metadata": {},
   "outputs": [],
   "source": [
    "i=inf[0]"
   ]
  },
  {
   "cell_type": "code",
   "execution_count": 5,
   "id": "deb258bf-b41d-46f2-8ca9-9339aa3a1d2d",
   "metadata": {},
   "outputs": [],
   "source": [
    "k=i.subs({s[0].lhs():s[0].rhs()})"
   ]
  },
  {
   "cell_type": "code",
   "execution_count": 6,
   "id": "ee2bc236-1c94-439e-b86a-325601f3f4ca",
   "metadata": {},
   "outputs": [
    {
     "name": "stdout",
     "output_type": "stream",
     "text": [
      "f(x)^2*g(u(x))*xi(u(x), x)*D[0](g)(u(x)) - f(x)^2*g(u(x))^2*D[0](xi)(u(x), x) - f(x)*phi(u(x), x)*D[0](g)(u(x)) + f(x)*g(u(x))*D[0](phi)(u(x), x) - f(x)*g(u(x))*D[1](xi)(u(x), x) - (f(x)^2*g(u(x))*D[0](g)(u(x)) + g(u(x))*diff(f(x), x) - diff(u(x), x, x))*xi(u(x), x) - xi(u(x), x)*diff(u(x), x, x) + D[1](phi)(u(x), x)\n"
     ]
    }
   ],
   "source": [
    "print(k)"
   ]
  },
  {
   "cell_type": "code",
   "execution_count": 7,
   "id": "8a19dbe9-5c84-4e1e-938c-d00392f20336",
   "metadata": {},
   "outputs": [
    {
     "data": {
      "text/html": [
       "<html>\\(\\displaystyle -f\\left(x\\right)^{2} g\\left(u\\left(x\\right)\\right)^{2} \\mathrm{D}_{0}\\left(\\xi\\right)\\left(u\\left(x\\right), x\\right) - g\\left(u\\left(x\\right)\\right) \\xi\\left(u\\left(x\\right), x\\right) \\frac{\\partial}{\\partial x}f\\left(x\\right) - f\\left(x\\right) \\phi\\left(u\\left(x\\right), x\\right) \\mathrm{D}_{0}\\left(g\\right)\\left(u\\left(x\\right)\\right) + f\\left(x\\right) g\\left(u\\left(x\\right)\\right) \\mathrm{D}_{0}\\left(\\phi\\right)\\left(u\\left(x\\right), x\\right) - f\\left(x\\right) g\\left(u\\left(x\\right)\\right) \\mathrm{D}_{1}\\left(\\xi\\right)\\left(u\\left(x\\right), x\\right) + \\mathrm{D}_{1}\\left(\\phi\\right)\\left(u\\left(x\\right), x\\right)\\)</html>"
      ],
      "text/latex": [
       "$\\displaystyle -f\\left(x\\right)^{2} g\\left(u\\left(x\\right)\\right)^{2} \\mathrm{D}_{0}\\left(\\xi\\right)\\left(u\\left(x\\right), x\\right) - g\\left(u\\left(x\\right)\\right) \\xi\\left(u\\left(x\\right), x\\right) \\frac{\\partial}{\\partial x}f\\left(x\\right) - f\\left(x\\right) \\phi\\left(u\\left(x\\right), x\\right) \\mathrm{D}_{0}\\left(g\\right)\\left(u\\left(x\\right)\\right) + f\\left(x\\right) g\\left(u\\left(x\\right)\\right) \\mathrm{D}_{0}\\left(\\phi\\right)\\left(u\\left(x\\right), x\\right) - f\\left(x\\right) g\\left(u\\left(x\\right)\\right) \\mathrm{D}_{1}\\left(\\xi\\right)\\left(u\\left(x\\right), x\\right) + \\mathrm{D}_{1}\\left(\\phi\\right)\\left(u\\left(x\\right), x\\right)$"
      ],
      "text/plain": [
       "-f(x)^2*g(u(x))^2*D[0](xi)(u(x), x) - g(u(x))*xi(u(x), x)*diff(f(x), x) - f(x)*phi(u(x), x)*D[0](g)(u(x)) + f(x)*g(u(x))*D[0](phi)(u(x), x) - f(x)*g(u(x))*D[1](xi)(u(x), x) + D[1](phi)(u(x), x)"
      ]
     },
     "metadata": {},
     "output_type": "display_data"
    }
   ],
   "source": [
    "k.expand().show()"
   ]
  },
  {
   "cell_type": "code",
   "execution_count": 8,
   "id": "886c42b7-a87f-49f2-89a8-c1e93bea090c",
   "metadata": {},
   "outputs": [
    {
     "data": {
      "text/latex": [
       "$\\displaystyle -f^2 g(u)^2  \\xi_{u} - g(u) \\xi f_{x} - f \\phi D[0](g)(u) + f g(u)  \\phi_{u} - f g(u)  \\xi_{x} +  \\phi_{x}$"
      ],
      "text/plain": [
       "<IPython.core.display.Math object>"
      ]
     },
     "metadata": {},
     "output_type": "display_data"
    }
   ],
   "source": [
    "display(Math(latexer(k)))"
   ]
  },
  {
   "cell_type": "code",
   "execution_count": null,
   "id": "cb40060c-4bc6-426d-955c-98cbcf8b03a4",
   "metadata": {},
   "outputs": [],
   "source": []
  }
 ],
 "metadata": {
  "kernelspec": {
   "display_name": "SageMath 9.7",
   "language": "sage",
   "name": "sagemath"
  },
  "language_info": {
   "codemirror_mode": {
    "name": "ipython",
    "version": 3
   },
   "file_extension": ".py",
   "mimetype": "text/x-python",
   "name": "python",
   "nbconvert_exporter": "python",
   "pygments_lexer": "ipython3",
   "version": "3.10.8"
  },
  "widgets": {
   "application/vnd.jupyter.widget-state+json": {
    "state": {},
    "version_major": 2,
    "version_minor": 0
   }
  }
 },
 "nbformat": 4,
 "nbformat_minor": 5
}
