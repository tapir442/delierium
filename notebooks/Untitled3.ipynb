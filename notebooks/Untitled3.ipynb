{
 "cells": [
  {
   "cell_type": "code",
   "execution_count": 6,
   "id": "5b0f1069-ac69-433f-8b6c-d31ddbc107da",
   "metadata": {},
   "outputs": [],
   "source": [
    "t1 = lambda x: lambda s, t: s + t - x"
   ]
  },
  {
   "cell_type": "code",
   "execution_count": 7,
   "id": "9722b5bc-4c1b-4bef-b8c1-d7cb7466056c",
   "metadata": {},
   "outputs": [
    {
     "data": {
      "text/plain": [
       "1"
      ]
     },
     "execution_count": 7,
     "metadata": {},
     "output_type": "execute_result"
    }
   ],
   "source": [
    "t1(4)(2,3)"
   ]
  },
  {
   "cell_type": "code",
   "execution_count": 29,
   "id": "1d8cea78-a523-4aca-9f1b-a23c69ae15d1",
   "metadata": {},
   "outputs": [],
   "source": [
    "t1 = lambda x, y: lambda x, y: x -y if x > y else lambda x, y: x*y"
   ]
  },
  {
   "cell_type": "code",
   "execution_count": 30,
   "id": "366b8a77-f65d-4663-8ee8-238b6410e8a8",
   "metadata": {},
   "outputs": [
    {
     "data": {
      "text/plain": [
       "7"
      ]
     },
     "execution_count": 30,
     "metadata": {},
     "output_type": "execute_result"
    }
   ],
   "source": [
    "t1(2,3)(8,1)"
   ]
  },
  {
   "cell_type": "code",
   "execution_count": null,
   "id": "1b1f3505-27eb-4c09-b80f-ca77cafb9e94",
   "metadata": {},
   "outputs": [],
   "source": []
  }
 ],
 "metadata": {
  "kernelspec": {
   "display_name": "SageMath 10.0",
   "language": "sage",
   "name": "sagemath"
  },
  "language_info": {
   "codemirror_mode": {
    "name": "ipython",
    "version": 3
   },
   "file_extension": ".py",
   "mimetype": "text/x-python",
   "name": "python",
   "nbconvert_exporter": "python",
   "pygments_lexer": "ipython3",
   "version": "3.11.6"
  }
 },
 "nbformat": 4,
 "nbformat_minor": 5
}
