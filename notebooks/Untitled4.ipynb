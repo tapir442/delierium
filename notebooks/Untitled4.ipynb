{
 "cells": [
  {
   "cell_type": "code",
   "execution_count": 1,
   "id": "3fede400-7714-4e9a-83bc-cb5e78353292",
   "metadata": {},
   "outputs": [],
   "source": [
    "def fizzbuzz(n):\n",
    "    return ('Fizz'*(n%3==0) + 'Buzz'*(n%5==0)) or str(n)\n",
    "    "
   ]
  },
  {
   "cell_type": "code",
   "execution_count": 2,
   "id": "702d5489-754c-4d02-8c95-5669659111d1",
   "metadata": {},
   "outputs": [
    {
     "data": {
      "text/plain": [
       "'19'"
      ]
     },
     "execution_count": 2,
     "metadata": {},
     "output_type": "execute_result"
    }
   ],
   "source": [
    "fizzbuzz(19)"
   ]
  },
  {
   "cell_type": "code",
   "execution_count": 3,
   "id": "bd897847-e01b-4fff-b42c-8d9be3e16347",
   "metadata": {},
   "outputs": [],
   "source": [
    "def fizzbuzz2(n):\n",
    "    if n % 3 == 0:\n",
    "        if n % 5 == 0:\n",
    "            return \"FizzBuzz\"\n",
    "        else:\n",
    "            return \"Fizz\"\n",
    "    elif n % 5 == 0:\n",
    "        return \"Buzz\"\n",
    "    else:\n",
    "        return str(n)"
   ]
  },
  {
   "cell_type": "code",
   "execution_count": 4,
   "id": "800ed9c1-b912-47cb-bb08-5984b0aa5277",
   "metadata": {},
   "outputs": [],
   "source": [
    "def fizzbuzz4(n):\n",
    "    if n % 5 == 0:\n",
    "        if n % 3 == 0:\n",
    "            return \"FizzBuzz\"\n",
    "        else:\n",
    "            return \"Buzz\"\n",
    "    elif n % 3 == 0:\n",
    "        return \"Fizz\"\n",
    "    else:\n",
    "        return str(n)"
   ]
  },
  {
   "cell_type": "code",
   "execution_count": 5,
   "id": "cc48ff1b-0913-4e0b-a6d2-7834739877ca",
   "metadata": {},
   "outputs": [],
   "source": [
    "def fizzbuzz5(n):\n",
    "    match (n % 3 == 0, n % 5 == 0):\n",
    "        case (True, True): return 'FizzBuzz'\n",
    "        case (True, False): return 'Fizz'\n",
    "        case (False, True): return 'Buzz'\n",
    "        case (_, _): return str(n)    \n",
    "def fizzbuzz6(n):\n",
    "    match (n % 3, n % 5):\n",
    "        case (0, 0): return 'FizzBuzz'\n",
    "        case (0, _): return 'Fizz'\n",
    "        case (_, 0): return 'Buzz'\n",
    "        case (_, _): return str(n) "
   ]
  },
  {
   "cell_type": "code",
   "execution_count": 9,
   "id": "7ff844fc-dcec-4597-8f51-29746b111563",
   "metadata": {},
   "outputs": [
    {
     "name": "stdout",
     "output_type": "stream",
     "text": [
      "('Buzz', '19', 'FizzBuzz', 'FizzBuzz', 'Fizz')\n",
      "('Buzz', '19', 'FizzBuzz', 'FizzBuzz', 'Fizz')\n"
     ]
    }
   ],
   "source": [
    "a=fizzbuzz5(20), fizzbuzz5(19), fizzbuzz5(15), fizzbuzz5(0), fizzbuzz5(3)\n",
    "b=fizzbuzz6(20), fizzbuzz6(19), fizzbuzz6(15), fizzbuzz6(0), fizzbuzz6(3)\n",
    "print(a)\n",
    "print(b)"
   ]
  },
  {
   "cell_type": "code",
   "execution_count": 15,
   "id": "4bd0ae5d-df3a-4d88-a82e-1ea1f8711c50",
   "metadata": {},
   "outputs": [
    {
     "name": "stdout",
     "output_type": "stream",
     "text": [
      "0.5238261222839355\n",
      "0.2756311893463135\n",
      "0.31562066078186035\n",
      "0.2682371139526367\n",
      "0.5341436862945557\n",
      "0.4446685314178467\n"
     ]
    }
   ],
   "source": [
    "import time\n",
    "start = time.time()\n",
    "for i in range(1000000):\n",
    "    fizzbuzz(i)\n",
    "print(time.time() - start)\n",
    "start = time.time()\n",
    "for i in range(1000000):\n",
    "    fizzbuzz2(i)\n",
    "print(time.time() - start)    \n",
    "start = time.time()\n",
    "for i in range(1000000):\n",
    "    fizzbuzz3(i)    \n",
    "print(time.time() - start)\n",
    "start = time.time()\n",
    "for i in range(1000000):\n",
    "    fizzbuzz4(i)    \n",
    "print(time.time() - start)\n",
    "start = time.time()\n",
    "for i in range(1000000):\n",
    "    fizzbuzz5(i)    \n",
    "print(time.time() - start)\n",
    "start = time.time()\n",
    "for i in range(1000000):\n",
    "    fizzbuzz6(i)    \n",
    "print(time.time() - start)"
   ]
  },
  {
   "cell_type": "code",
   "execution_count": 10,
   "id": "455ebe9f-0207-43e6-944c-07a084084323",
   "metadata": {},
   "outputs": [],
   "source": [
    "def fizzbuzz3(n):\n",
    "    r  = \"\"\n",
    "    if n % 3 == 0:\n",
    "        r = 'Fizz'\n",
    "    if n % 5 == 0:\n",
    "        r+= 'Buzz'\n",
    "    if r:\n",
    "        return r\n",
    "    return str(n)"
   ]
  },
  {
   "cell_type": "code",
   "execution_count": null,
   "id": "93039d38-83ac-4650-ae07-3c76ea8e6ced",
   "metadata": {},
   "outputs": [],
   "source": [
    "fizzbuzz3(30)"
   ]
  },
  {
   "cell_type": "code",
   "execution_count": 17,
   "id": "7a747ac0-20dc-4cfa-b675-c690cbb1b815",
   "metadata": {},
   "outputs": [],
   "source": [
    "import dis"
   ]
  },
  {
   "cell_type": "code",
   "execution_count": 18,
   "id": "2a8b24f9-57f4-43a4-bca8-bbfa318655a7",
   "metadata": {},
   "outputs": [
    {
     "name": "stdout",
     "output_type": "stream",
     "text": [
      "  1           0 RESUME                   0\n",
      "\n",
      "  2           2 LOAD_FAST                0 (n)\n",
      "              4 LOAD_CONST               1 (3)\n",
      "              6 BINARY_OP                6 (%)\n",
      "             10 LOAD_CONST               2 (0)\n",
      "             12 COMPARE_OP               2 (==)\n",
      "             18 LOAD_FAST                0 (n)\n",
      "             20 LOAD_CONST               3 (5)\n",
      "             22 BINARY_OP                6 (%)\n",
      "             26 LOAD_CONST               2 (0)\n",
      "             28 COMPARE_OP               2 (==)\n",
      "             34 BUILD_TUPLE              2\n",
      "\n",
      "  3          36 COPY                     1\n",
      "             38 MATCH_SEQUENCE\n",
      "             40 POP_JUMP_FORWARD_IF_FALSE    17 (to 76)\n",
      "             42 GET_LEN\n",
      "             44 LOAD_CONST               4 (2)\n",
      "             46 COMPARE_OP               2 (==)\n",
      "             52 POP_JUMP_FORWARD_IF_FALSE    11 (to 76)\n",
      "             54 UNPACK_SEQUENCE          2\n",
      "             58 LOAD_CONST               5 (True)\n",
      "             60 IS_OP                    0\n",
      "             62 POP_JUMP_FORWARD_IF_FALSE     6 (to 76)\n",
      "             64 LOAD_CONST               5 (True)\n",
      "             66 IS_OP                    0\n",
      "             68 POP_JUMP_FORWARD_IF_FALSE     4 (to 78)\n",
      "             70 POP_TOP\n",
      "             72 LOAD_CONST               6 ('FizzBuzz')\n",
      "             74 RETURN_VALUE\n",
      "        >>   76 POP_TOP\n",
      "\n",
      "  4     >>   78 COPY                     1\n",
      "             80 MATCH_SEQUENCE\n",
      "             82 POP_JUMP_FORWARD_IF_FALSE    17 (to 118)\n",
      "             84 GET_LEN\n",
      "             86 LOAD_CONST               4 (2)\n",
      "             88 COMPARE_OP               2 (==)\n",
      "             94 POP_JUMP_FORWARD_IF_FALSE    11 (to 118)\n",
      "             96 UNPACK_SEQUENCE          2\n",
      "            100 LOAD_CONST               5 (True)\n",
      "            102 IS_OP                    0\n",
      "            104 POP_JUMP_FORWARD_IF_FALSE     6 (to 118)\n",
      "            106 LOAD_CONST               7 (False)\n",
      "            108 IS_OP                    0\n",
      "            110 POP_JUMP_FORWARD_IF_FALSE     4 (to 120)\n",
      "            112 POP_TOP\n",
      "            114 LOAD_CONST               8 ('Fizz')\n",
      "            116 RETURN_VALUE\n",
      "        >>  118 POP_TOP\n",
      "\n",
      "  5     >>  120 COPY                     1\n",
      "            122 MATCH_SEQUENCE\n",
      "            124 POP_JUMP_FORWARD_IF_FALSE    17 (to 160)\n",
      "            126 GET_LEN\n",
      "            128 LOAD_CONST               4 (2)\n",
      "            130 COMPARE_OP               2 (==)\n",
      "            136 POP_JUMP_FORWARD_IF_FALSE    11 (to 160)\n",
      "            138 UNPACK_SEQUENCE          2\n",
      "            142 LOAD_CONST               7 (False)\n",
      "            144 IS_OP                    0\n",
      "            146 POP_JUMP_FORWARD_IF_FALSE     6 (to 160)\n",
      "            148 LOAD_CONST               5 (True)\n",
      "            150 IS_OP                    0\n",
      "            152 POP_JUMP_FORWARD_IF_FALSE     4 (to 162)\n",
      "            154 POP_TOP\n",
      "            156 LOAD_CONST               9 ('Buzz')\n",
      "            158 RETURN_VALUE\n",
      "        >>  160 POP_TOP\n",
      "\n",
      "  6     >>  162 MATCH_SEQUENCE\n",
      "            164 POP_JUMP_FORWARD_IF_FALSE    22 (to 210)\n",
      "            166 GET_LEN\n",
      "            168 LOAD_CONST               4 (2)\n",
      "            170 COMPARE_OP               2 (==)\n",
      "            176 POP_JUMP_FORWARD_IF_FALSE    16 (to 210)\n",
      "            178 POP_TOP\n",
      "            180 LOAD_GLOBAL              1 (NULL + str)\n",
      "            192 LOAD_FAST                0 (n)\n",
      "            194 PRECALL                  1\n",
      "            198 CALL                     1\n",
      "            208 RETURN_VALUE\n",
      "        >>  210 POP_TOP\n",
      "            212 LOAD_CONST               0 (None)\n",
      "            214 RETURN_VALUE\n"
     ]
    }
   ],
   "source": [
    "dis.dis(fizzbuzz5)"
   ]
  },
  {
   "cell_type": "code",
   "execution_count": 19,
   "id": "62c57464-996a-4819-b1d3-fd2a138e6483",
   "metadata": {},
   "outputs": [
    {
     "name": "stdout",
     "output_type": "stream",
     "text": [
      "  7           0 RESUME                   0\n",
      "\n",
      "  8           2 LOAD_FAST                0 (n)\n",
      "              4 LOAD_CONST               1 (3)\n",
      "              6 BINARY_OP                6 (%)\n",
      "             10 LOAD_FAST                0 (n)\n",
      "             12 LOAD_CONST               2 (5)\n",
      "             14 BINARY_OP                6 (%)\n",
      "             18 BUILD_TUPLE              2\n",
      "\n",
      "  9          20 COPY                     1\n",
      "             22 MATCH_SEQUENCE\n",
      "             24 POP_JUMP_FORWARD_IF_FALSE    21 (to 68)\n",
      "             26 GET_LEN\n",
      "             28 LOAD_CONST               3 (2)\n",
      "             30 COMPARE_OP               2 (==)\n",
      "             36 POP_JUMP_FORWARD_IF_FALSE    15 (to 68)\n",
      "             38 UNPACK_SEQUENCE          2\n",
      "             42 LOAD_CONST               4 (0)\n",
      "             44 COMPARE_OP               2 (==)\n",
      "             50 POP_JUMP_FORWARD_IF_FALSE     8 (to 68)\n",
      "             52 LOAD_CONST               4 (0)\n",
      "             54 COMPARE_OP               2 (==)\n",
      "             60 POP_JUMP_FORWARD_IF_FALSE     4 (to 70)\n",
      "             62 POP_TOP\n",
      "             64 LOAD_CONST               5 ('FizzBuzz')\n",
      "             66 RETURN_VALUE\n",
      "        >>   68 POP_TOP\n",
      "\n",
      " 10     >>   70 COPY                     1\n",
      "             72 MATCH_SEQUENCE\n",
      "             74 POP_JUMP_FORWARD_IF_FALSE    17 (to 110)\n",
      "             76 GET_LEN\n",
      "             78 LOAD_CONST               3 (2)\n",
      "             80 COMPARE_OP               2 (==)\n",
      "             86 POP_JUMP_FORWARD_IF_FALSE    11 (to 110)\n",
      "             88 UNPACK_SEQUENCE          2\n",
      "             92 LOAD_CONST               4 (0)\n",
      "             94 COMPARE_OP               2 (==)\n",
      "            100 POP_JUMP_FORWARD_IF_FALSE     4 (to 110)\n",
      "            102 POP_TOP\n",
      "            104 POP_TOP\n",
      "            106 LOAD_CONST               6 ('Fizz')\n",
      "            108 RETURN_VALUE\n",
      "        >>  110 POP_TOP\n",
      "\n",
      " 11         112 COPY                     1\n",
      "            114 MATCH_SEQUENCE\n",
      "            116 POP_JUMP_FORWARD_IF_FALSE    17 (to 152)\n",
      "            118 GET_LEN\n",
      "            120 LOAD_CONST               3 (2)\n",
      "            122 COMPARE_OP               2 (==)\n",
      "            128 POP_JUMP_FORWARD_IF_FALSE    11 (to 152)\n",
      "            130 UNPACK_SEQUENCE          2\n",
      "            134 POP_TOP\n",
      "            136 LOAD_CONST               4 (0)\n",
      "            138 COMPARE_OP               2 (==)\n",
      "            144 POP_JUMP_FORWARD_IF_FALSE     4 (to 154)\n",
      "            146 POP_TOP\n",
      "            148 LOAD_CONST               7 ('Buzz')\n",
      "            150 RETURN_VALUE\n",
      "        >>  152 POP_TOP\n",
      "\n",
      " 12     >>  154 MATCH_SEQUENCE\n",
      "            156 POP_JUMP_FORWARD_IF_FALSE    22 (to 202)\n",
      "            158 GET_LEN\n",
      "            160 LOAD_CONST               3 (2)\n",
      "            162 COMPARE_OP               2 (==)\n",
      "            168 POP_JUMP_FORWARD_IF_FALSE    16 (to 202)\n",
      "            170 POP_TOP\n",
      "            172 LOAD_GLOBAL              1 (NULL + str)\n",
      "            184 LOAD_FAST                0 (n)\n",
      "            186 PRECALL                  1\n",
      "            190 CALL                     1\n",
      "            200 RETURN_VALUE\n",
      "        >>  202 POP_TOP\n",
      "            204 LOAD_CONST               0 (None)\n",
      "            206 RETURN_VALUE\n"
     ]
    }
   ],
   "source": [
    "dis.dis(fizzbuzz6)"
   ]
  },
  {
   "cell_type": "code",
   "execution_count": 32,
   "id": "f76212d5-af33-414d-b8fc-fb9712840f41",
   "metadata": {},
   "outputs": [],
   "source": [
    "def add1(a,b):\n",
    "    if a == 0:\n",
    "        return b\n",
    "    else:\n",
    "        return add1 (a-1, b+1)\n",
    "def add2(a,b):\n",
    "    if a == 0:\n",
    "        return b\n",
    "    return add2 (a-1, b+1)\n",
    "def add3(a,b):\n",
    "    if a > 0:\n",
    "        return add3 (a-1, b+1)\n",
    "    else:\n",
    "        return b\n",
    "def add4(a,b):\n",
    "    if a > 0:\n",
    "        return add4 (a-1, b+1)\n",
    "    return b\n"
   ]
  },
  {
   "cell_type": "code",
   "execution_count": 27,
   "id": "c1ff2461-ed79-49b7-8c94-df3bbc34a139",
   "metadata": {},
   "outputs": [
    {
     "name": "stdout",
     "output_type": "stream",
     "text": [
      "  1           0 RESUME                   0\n",
      "\n",
      "  2           2 LOAD_FAST                0 (a)\n",
      "              4 LOAD_CONST               1 (0)\n",
      "              6 COMPARE_OP               2 (==)\n",
      "             12 POP_JUMP_FORWARD_IF_FALSE     2 (to 18)\n",
      "\n",
      "  3          14 LOAD_FAST                1 (b)\n",
      "             16 RETURN_VALUE\n",
      "\n",
      "  5     >>   18 LOAD_GLOBAL              1 (NULL + add1)\n",
      "             30 LOAD_FAST                0 (a)\n",
      "             32 LOAD_CONST               2 (1)\n",
      "             34 BINARY_OP               10 (-)\n",
      "             38 LOAD_FAST                1 (b)\n",
      "             40 LOAD_CONST               2 (1)\n",
      "             42 BINARY_OP                0 (+)\n",
      "             46 PRECALL                  2\n",
      "             50 CALL                     2\n",
      "             60 RETURN_VALUE\n"
     ]
    }
   ],
   "source": [
    "dis.dis(add1)"
   ]
  },
  {
   "cell_type": "code",
   "execution_count": 28,
   "id": "4ce0e561-fc3e-4e2a-a4c7-2ef273c152a0",
   "metadata": {},
   "outputs": [
    {
     "name": "stdout",
     "output_type": "stream",
     "text": [
      "  6           0 RESUME                   0\n",
      "\n",
      "  7           2 LOAD_FAST                0 (a)\n",
      "              4 LOAD_CONST               1 (0)\n",
      "              6 COMPARE_OP               2 (==)\n",
      "             12 POP_JUMP_FORWARD_IF_FALSE     2 (to 18)\n",
      "\n",
      "  8          14 LOAD_FAST                1 (b)\n",
      "             16 RETURN_VALUE\n",
      "\n",
      "  9     >>   18 LOAD_GLOBAL              1 (NULL + add2)\n",
      "             30 LOAD_FAST                0 (a)\n",
      "             32 LOAD_CONST               2 (1)\n",
      "             34 BINARY_OP               10 (-)\n",
      "             38 LOAD_FAST                1 (b)\n",
      "             40 LOAD_CONST               2 (1)\n",
      "             42 BINARY_OP                0 (+)\n",
      "             46 PRECALL                  2\n",
      "             50 CALL                     2\n",
      "             60 RETURN_VALUE\n"
     ]
    }
   ],
   "source": [
    "dis.dis(add2)"
   ]
  },
  {
   "cell_type": "code",
   "execution_count": 29,
   "id": "720105d7-a944-4229-bf34-89197927adb8",
   "metadata": {},
   "outputs": [
    {
     "name": "stdout",
     "output_type": "stream",
     "text": [
      "24.37286686897278\n",
      "23.96540093421936\n",
      "23.676061153411865\n",
      "23.702624082565308\n"
     ]
    }
   ],
   "source": [
    "start=time.time()\n",
    "for i in range(100000):\n",
    "    add1(1000,2000)\n",
    "print(time.time() - start)\n",
    "start=time.time()\n",
    "for i in range(100000):\n",
    "    add2(1000,2000)\n",
    "print (time.time() - start)\n",
    "start=time.time()\n",
    "for i in range(100000):\n",
    "    add3(1000,2000)\n",
    "print (time.time() - start)\n",
    "start=time.time()\n",
    "for i in range(100000):\n",
    "    add4(1000,2000)\n",
    "print (time.time() - start)\n",
    "    "
   ]
  },
  {
   "cell_type": "code",
   "execution_count": 33,
   "id": "00138742-41e5-4795-9d24-9e9e1b5afd93",
   "metadata": {},
   "outputs": [
    {
     "name": "stdout",
     "output_type": "stream",
     "text": [
      " 15           0 RESUME                   0\n",
      "\n",
      " 16           2 LOAD_FAST                0 (a)\n",
      "              4 LOAD_CONST               1 (0)\n",
      "              6 COMPARE_OP               4 (>)\n",
      "             12 POP_JUMP_FORWARD_IF_FALSE    22 (to 58)\n",
      "\n",
      " 17          14 LOAD_GLOBAL              1 (NULL + add4)\n",
      "             26 LOAD_FAST                0 (a)\n",
      "             28 LOAD_CONST               2 (1)\n",
      "             30 BINARY_OP               10 (-)\n",
      "             34 LOAD_FAST                1 (b)\n",
      "             36 LOAD_CONST               2 (1)\n",
      "             38 BINARY_OP                0 (+)\n",
      "             42 PRECALL                  2\n",
      "             46 CALL                     2\n",
      "             56 RETURN_VALUE\n",
      "\n",
      " 18     >>   58 LOAD_FAST                1 (b)\n",
      "             60 RETURN_VALUE\n"
     ]
    }
   ],
   "source": [
    "dis.dis(add4)"
   ]
  },
  {
   "cell_type": "code",
   "execution_count": 34,
   "id": "0260c8f2-dae2-4a53-ba46-792c1390c473",
   "metadata": {},
   "outputs": [
    {
     "name": "stdout",
     "output_type": "stream",
     "text": [
      "  6           0 RESUME                   0\n",
      "\n",
      "  7           2 LOAD_FAST                0 (a)\n",
      "              4 LOAD_CONST               1 (0)\n",
      "              6 COMPARE_OP               2 (==)\n",
      "             12 POP_JUMP_FORWARD_IF_FALSE     2 (to 18)\n",
      "\n",
      "  8          14 LOAD_FAST                1 (b)\n",
      "             16 RETURN_VALUE\n",
      "\n",
      "  9     >>   18 LOAD_GLOBAL              1 (NULL + add2)\n",
      "             30 LOAD_FAST                0 (a)\n",
      "             32 LOAD_CONST               2 (1)\n",
      "             34 BINARY_OP               10 (-)\n",
      "             38 LOAD_FAST                1 (b)\n",
      "             40 LOAD_CONST               2 (1)\n",
      "             42 BINARY_OP                0 (+)\n",
      "             46 PRECALL                  2\n",
      "             50 CALL                     2\n",
      "             60 RETURN_VALUE\n"
     ]
    }
   ],
   "source": [
    "dis.dis(add2)"
   ]
  },
  {
   "cell_type": "code",
   "execution_count": null,
   "id": "4fc88b70-1899-472c-b716-618be94dfb65",
   "metadata": {},
   "outputs": [],
   "source": []
  }
 ],
 "metadata": {
  "kernelspec": {
   "display_name": "Python 3 (ipykernel)",
   "language": "python",
   "name": "python3"
  },
  "language_info": {
   "codemirror_mode": {
    "name": "ipython",
    "version": 3
   },
   "file_extension": ".py",
   "mimetype": "text/x-python",
   "name": "python",
   "nbconvert_exporter": "python",
   "pygments_lexer": "ipython3",
   "version": "3.11.6"
  }
 },
 "nbformat": 4,
 "nbformat_minor": 5
}
