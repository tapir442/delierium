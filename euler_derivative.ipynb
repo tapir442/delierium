{
 "cells": [
  {
   "cell_type": "code",
   "execution_count": 1,
   "id": "bf7cd286",
   "metadata": {},
   "outputs": [],
   "source": [
    "%display latex\n",
    "from pprint import pprint\n",
    "from collections.abc import Iterable\n",
    "from pylie.pylie import highest_order_of_derivative, order_of_derivative"
   ]
  },
  {
   "cell_type": "markdown",
   "id": "eac3a79d",
   "metadata": {},
   "source": [
    "https://ask.sagemath.org/question/7929/computing-variational-derivatives/\n",
    "\n",
    "looks as this my become more difficult\n",
    "\n",
    "https://ask.sagemath.org/question/8435/how-do-i-perform-a-change-of-variables-for-a-pde/\n",
    "\n",
    "https://doc.sagemath.org/html/en/reference/manifolds/sage/manifolds/utilities.html (for total order?)\n",
    "\n",
    "https://trac.sagemath.org/ticket/17445\n",
    "\n",
    "https://ask.sagemath.org/question/34243/detecting-highest-order-derivative-of-a-function-in-an-equation/\n",
    "\n",
    "https://shocksolution.com/2012/03/06/partial-derivative-notation-in-sage/\n",
    "\n"
   ]
  }
 ],
 "metadata": {
  "kernelspec": {
   "display_name": "SageMath 9.2",
   "language": "sage",
   "name": "sagemath"
  },
  "language_info": {
   "codemirror_mode": {
    "name": "ipython",
    "version": 3
   },
   "file_extension": ".py",
   "mimetype": "text/x-python",
   "name": "python",
   "nbconvert_exporter": "python",
   "pygments_lexer": "ipython3",
   "version": "3.9.2"
  }
 },
 "nbformat": 4,
 "nbformat_minor": 5
}
