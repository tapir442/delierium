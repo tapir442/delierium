{
 "cells": [
  {
   "cell_type": "code",
   "execution_count": 1,
   "id": "abf4298f",
   "metadata": {},
   "outputs": [
    {
     "name": "stdout",
     "output_type": "stream",
     "text": [
      "['MatrixOrder',\n",
      " '__builtins__',\n",
      " '__cached__',\n",
      " '__doc__',\n",
      " '__file__',\n",
      " '__loader__',\n",
      " '__name__',\n",
      " '__package__',\n",
      " '__path__',\n",
      " '__spec__',\n",
      " 'pylie']\n"
     ]
    }
   ],
   "source": [
    "%display latex\n",
    "import pylie.pylie, pylie.MatrixOrder, pylie.JanetBasis\n",
    "from collections.abc import Iterable\n",
    "import functools\n",
    "from operator import mul, sub\n",
    "from pprint import pprint"
   ]
  },
  {
   "cell_type": "code",
   "execution_count": 2,
   "id": "5b26e187",
   "metadata": {},
   "outputs": [],
   "source": [
    "x,y,t = var(\" x y t\")"
   ]
  },
  {
   "cell_type": "code",
   "execution_count": 3,
   "id": "801ae91a",
   "metadata": {},
   "outputs": [],
   "source": [
    "z = function(\"z\")(x,y,t)\n",
    "w = function(\"w\")(x,y,t)"
   ]
  },
  {
   "cell_type": "code",
   "execution_count": 4,
   "id": "3ec04b27",
   "metadata": {},
   "outputs": [],
   "source": [
    "ctx_lex     = pylie.MatrixOrder.Context((w,z), (x,y,t))\n",
    "ctx_grlex   = pylie.MatrixOrder.Context((w,z), (x,y,t), pylie.MatrixOrder.Mgrlex)\n",
    "ctx_grevlex = pylie.MatrixOrder.Context((w,z), (x,y,t), pylie.MatrixOrder.Mgrevlex)"
   ]
  },
  {
   "cell_type": "code",
   "execution_count": 5,
   "id": "11a443da",
   "metadata": {},
   "outputs": [
    {
     "data": {
      "text/html": [
       "<html><script type=\"math/tex; mode=display\">\\newcommand{\\Bold}[1]{\\mathbf{#1}}\\left[x, y, t\\right]</script></html>"
      ],
      "text/latex": [
       "\\begin{math}\n",
       "\\newcommand{\\Bold}[1]{\\mathbf{#1}}\\left[x, y, t\\right]\n",
       "\\end{math}"
      ],
      "text/plain": [
       "[x, y, t]"
      ]
     },
     "execution_count": 5,
     "metadata": {},
     "output_type": "execute_result"
    }
   ],
   "source": [
    "z.operands ()"
   ]
  },
  {
   "cell_type": "code",
   "execution_count": 6,
   "id": "21d1851e",
   "metadata": {},
   "outputs": [
    {
     "data": {
      "text/html": [
       "<html><script type=\"math/tex; mode=display\">\\newcommand{\\Bold}[1]{\\mathbf{#1}}\\verb|<class|\\phantom{\\verb!x!}\\verb|'sage.symbolic.function_factory.function_factory.<locals>.NewSymbolicFunction'>|</script></html>"
      ],
      "text/latex": [
       "\\begin{math}\n",
       "\\newcommand{\\Bold}[1]{\\mathbf{#1}}\\verb|<class|\\phantom{\\verb!x!}\\verb|'sage.symbolic.function_factory.function_factory.<locals>.NewSymbolicFunction'>|\n",
       "\\end{math}"
      ],
      "text/plain": [
       "<class 'sage.symbolic.function_factory.function_factory.<locals>.NewSymbolicFunction'>"
      ]
     },
     "execution_count": 6,
     "metadata": {},
     "output_type": "execute_result"
    }
   ],
   "source": [
    "z.operator().__class__"
   ]
  },
  {
   "cell_type": "code",
   "execution_count": 7,
   "id": "712a223c",
   "metadata": {},
   "outputs": [
    {
     "data": {
      "text/html": [
       "<html><script type=\"math/tex; mode=display\">\\newcommand{\\Bold}[1]{\\mathbf{#1}}x</script></html>"
      ],
      "text/latex": [
       "\\begin{math}\n",
       "\\newcommand{\\Bold}[1]{\\mathbf{#1}}x\n",
       "\\end{math}"
      ],
      "text/plain": [
       "x"
      ]
     },
     "execution_count": 7,
     "metadata": {},
     "output_type": "execute_result"
    }
   ],
   "source": [
    "x"
   ]
  },
  {
   "cell_type": "code",
   "execution_count": 8,
   "id": "fb7327a5",
   "metadata": {},
   "outputs": [
    {
     "data": {
      "text/html": [
       "<html><script type=\"math/tex; mode=display\">\\newcommand{\\Bold}[1]{\\mathbf{#1}}\\verb|<class|\\phantom{\\verb!x!}\\verb|'NoneType'>|</script></html>"
      ],
      "text/latex": [
       "\\begin{math}\n",
       "\\newcommand{\\Bold}[1]{\\mathbf{#1}}\\verb|<class|\\phantom{\\verb!x!}\\verb|'NoneType'>|\n",
       "\\end{math}"
      ],
      "text/plain": [
       "<class 'NoneType'>"
      ]
     },
     "execution_count": 8,
     "metadata": {},
     "output_type": "execute_result"
    }
   ],
   "source": [
    "x.operator().__class__"
   ]
  },
  {
   "cell_type": "code",
   "execution_count": 9,
   "id": "9f268355",
   "metadata": {},
   "outputs": [],
   "source": [
    "z_=diff(z, x)"
   ]
  },
  {
   "cell_type": "code",
   "execution_count": 10,
   "id": "7414e54a",
   "metadata": {},
   "outputs": [
    {
     "data": {
      "text/html": [
       "<html><script type=\"math/tex; mode=display\">\\newcommand{\\Bold}[1]{\\mathbf{#1}}\\verb|<class|\\phantom{\\verb!x!}\\verb|'sage.symbolic.operators.FDerivativeOperator'>|</script></html>"
      ],
      "text/latex": [
       "\\begin{math}\n",
       "\\newcommand{\\Bold}[1]{\\mathbf{#1}}\\verb|<class|\\phantom{\\verb!x!}\\verb|'sage.symbolic.operators.FDerivativeOperator'>|\n",
       "\\end{math}"
      ],
      "text/plain": [
       "<class 'sage.symbolic.operators.FDerivativeOperator'>"
      ]
     },
     "execution_count": 10,
     "metadata": {},
     "output_type": "execute_result"
    }
   ],
   "source": [
    "z_.operator().__class__"
   ]
  },
  {
   "cell_type": "code",
   "execution_count": 11,
   "id": "dca982d6",
   "metadata": {},
   "outputs": [],
   "source": [
    "dt = pylie.JanetBasis.DTerm"
   ]
  },
  {
   "cell_type": "code",
   "execution_count": 12,
   "id": "fd972c14",
   "metadata": {},
   "outputs": [
    {
     "data": {
      "text/html": [
       "<html><script type=\"math/tex; mode=display\">\\newcommand{\\Bold}[1]{\\mathbf{#1}}\\mathrm{True}</script></html>"
      ],
      "text/latex": [
       "\\begin{math}\n",
       "\\newcommand{\\Bold}[1]{\\mathbf{#1}}\\mathrm{True}\n",
       "\\end{math}"
      ],
      "text/plain": [
       "True"
      ]
     },
     "execution_count": 12,
     "metadata": {},
     "output_type": "execute_result"
    }
   ],
   "source": [
    "dt (diff(w, x) , ctx_lex) < dt (z_, ctx_lex)"
   ]
  },
  {
   "cell_type": "code",
   "execution_count": 13,
   "id": "4a1d9cfb",
   "metadata": {},
   "outputs": [
    {
     "data": {
      "text/html": [
       "<html><script type=\"math/tex; mode=display\">\\newcommand{\\Bold}[1]{\\mathbf{#1}}\\mathrm{False}</script></html>"
      ],
      "text/latex": [
       "\\begin{math}\n",
       "\\newcommand{\\Bold}[1]{\\mathbf{#1}}\\mathrm{False}\n",
       "\\end{math}"
      ],
      "text/plain": [
       "False"
      ]
     },
     "execution_count": 13,
     "metadata": {},
     "output_type": "execute_result"
    }
   ],
   "source": [
    "pylie.pylie.is_derivative(z)"
   ]
  },
  {
   "cell_type": "code",
   "execution_count": 14,
   "id": "63b6d80f",
   "metadata": {},
   "outputs": [
    {
     "data": {
      "text/html": [
       "<html><script type=\"math/tex; mode=display\">\\newcommand{\\Bold}[1]{\\mathbf{#1}}\\mathrm{False}</script></html>"
      ],
      "text/latex": [
       "\\begin{math}\n",
       "\\newcommand{\\Bold}[1]{\\mathbf{#1}}\\mathrm{False}\n",
       "\\end{math}"
      ],
      "text/plain": [
       "False"
      ]
     },
     "execution_count": 14,
     "metadata": {},
     "output_type": "execute_result"
    }
   ],
   "source": [
    "pylie.pylie.is_derivative(x)"
   ]
  },
  {
   "cell_type": "code",
   "execution_count": 15,
   "id": "f5e1d02e",
   "metadata": {},
   "outputs": [
    {
     "data": {
      "text/html": [
       "<html><script type=\"math/tex; mode=display\">\\newcommand{\\Bold}[1]{\\mathbf{#1}}\\mathrm{True}</script></html>"
      ],
      "text/latex": [
       "\\begin{math}\n",
       "\\newcommand{\\Bold}[1]{\\mathbf{#1}}\\mathrm{True}\n",
       "\\end{math}"
      ],
      "text/plain": [
       "True"
      ]
     },
     "execution_count": 15,
     "metadata": {},
     "output_type": "execute_result"
    }
   ],
   "source": [
    "pylie.pylie.is_derivative(z_)"
   ]
  },
  {
   "cell_type": "code",
   "execution_count": 16,
   "id": "bf8ea161",
   "metadata": {},
   "outputs": [
    {
     "data": {
      "text/html": [
       "<html><script type=\"math/tex; mode=display\">\\newcommand{\\Bold}[1]{\\mathbf{#1}}\\mathrm{True}</script></html>"
      ],
      "text/latex": [
       "\\begin{math}\n",
       "\\newcommand{\\Bold}[1]{\\mathbf{#1}}\\mathrm{True}\n",
       "\\end{math}"
      ],
      "text/plain": [
       "True"
      ]
     },
     "execution_count": 16,
     "metadata": {},
     "output_type": "execute_result"
    }
   ],
   "source": [
    "pylie.pylie.is_function(z)"
   ]
  },
  {
   "cell_type": "code",
   "execution_count": 17,
   "id": "89f427b6",
   "metadata": {},
   "outputs": [
    {
     "data": {
      "text/html": [
       "<html><script type=\"math/tex; mode=display\">\\newcommand{\\Bold}[1]{\\mathbf{#1}}\\mathrm{False}</script></html>"
      ],
      "text/latex": [
       "\\begin{math}\n",
       "\\newcommand{\\Bold}[1]{\\mathbf{#1}}\\mathrm{False}\n",
       "\\end{math}"
      ],
      "text/plain": [
       "False"
      ]
     },
     "execution_count": 17,
     "metadata": {},
     "output_type": "execute_result"
    }
   ],
   "source": [
    "pylie.pylie.is_function(x)"
   ]
  },
  {
   "cell_type": "code",
   "execution_count": 18,
   "id": "9b6fce6d",
   "metadata": {},
   "outputs": [
    {
     "data": {
      "text/html": [
       "<html><script type=\"math/tex; mode=display\">\\newcommand{\\Bold}[1]{\\mathbf{#1}}\\mathrm{False}</script></html>"
      ],
      "text/latex": [
       "\\begin{math}\n",
       "\\newcommand{\\Bold}[1]{\\mathbf{#1}}\\mathrm{False}\n",
       "\\end{math}"
      ],
      "text/plain": [
       "False"
      ]
     },
     "execution_count": 18,
     "metadata": {},
     "output_type": "execute_result"
    }
   ],
   "source": [
    "pylie.pylie.is_function(z_)"
   ]
  },
  {
   "cell_type": "code",
   "execution_count": null,
   "id": "00ce62d9",
   "metadata": {},
   "outputs": [],
   "source": []
  }
 ],
 "metadata": {
  "kernelspec": {
   "display_name": "SageMath 9.2",
   "language": "sage",
   "name": "sagemath"
  },
  "language_info": {
   "codemirror_mode": {
    "name": "ipython",
    "version": 3
   },
   "file_extension": ".py",
   "mimetype": "text/x-python",
   "name": "python",
   "nbconvert_exporter": "python",
   "pygments_lexer": "ipython3",
   "version": "3.9.2"
  }
 },
 "nbformat": 4,
 "nbformat_minor": 5
}
