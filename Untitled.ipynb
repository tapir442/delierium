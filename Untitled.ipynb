{
 "cells": [
  {
   "cell_type": "code",
   "execution_count": 1,
   "id": "b73b68d8",
   "metadata": {},
   "outputs": [
    {
     "name": "stdout",
     "output_type": "stream",
     "text": [
      "['MatrixOrder',\n",
      " '__builtins__',\n",
      " '__cached__',\n",
      " '__doc__',\n",
      " '__file__',\n",
      " '__loader__',\n",
      " '__name__',\n",
      " '__package__',\n",
      " '__path__',\n",
      " '__spec__',\n",
      " 'pylie']\n"
     ]
    }
   ],
   "source": [
    "%display latex\n",
    "import pylie.pylie, pylie.MatrixOrder, pylie.JanetBasis\n",
    "from collections.abc import Iterable\n",
    "import functools\n",
    "from operator import mul, sub\n",
    "from pprint import pprint"
   ]
  },
  {
   "cell_type": "code",
   "execution_count": 2,
   "id": "9821952b",
   "metadata": {},
   "outputs": [],
   "source": [
    "x,y,t = var(\" x y t\")"
   ]
  },
  {
   "cell_type": "code",
   "execution_count": 3,
   "id": "ea3c7073",
   "metadata": {},
   "outputs": [],
   "source": [
    "z = function(\"z\")(x,y,t)\n",
    "w = function(\"w\")(x,y,t)"
   ]
  },
  {
   "cell_type": "code",
   "execution_count": 4,
   "id": "f593794b",
   "metadata": {},
   "outputs": [],
   "source": [
    "ctx_lex     = pylie.MatrixOrder.Context((w,z), (x,y,t))\n",
    "ctx_grlex   = pylie.MatrixOrder.Context((w,z), (x,y,t), pylie.MatrixOrder.Mgrlex)\n",
    "ctx_grevlex = pylie.MatrixOrder.Context((w,z), (x,y,t), pylie.MatrixOrder.Mgrevlex)"
   ]
  },
  {
   "cell_type": "code",
   "execution_count": 5,
   "id": "2294494b",
   "metadata": {},
   "outputs": [
    {
     "data": {
      "text/html": [
       "<html><script type=\"math/tex; mode=display\">\\newcommand{\\Bold}[1]{\\mathbf{#1}}\\left[x, y, t\\right]</script></html>"
      ],
      "text/latex": [
       "\\begin{math}\n",
       "\\newcommand{\\Bold}[1]{\\mathbf{#1}}\\left[x, y, t\\right]\n",
       "\\end{math}"
      ],
      "text/plain": [
       "[x, y, t]"
      ]
     },
     "execution_count": 5,
     "metadata": {},
     "output_type": "execute_result"
    }
   ],
   "source": [
    "z.operands ()"
   ]
  },
  {
   "cell_type": "code",
   "execution_count": 6,
   "id": "a1ffacf8",
   "metadata": {},
   "outputs": [
    {
     "data": {
      "text/html": [
       "<html><script type=\"math/tex; mode=display\">\\newcommand{\\Bold}[1]{\\mathbf{#1}}\\verb|<class|\\phantom{\\verb!x!}\\verb|'sage.symbolic.function_factory.function_factory.<locals>.NewSymbolicFunction'>|</script></html>"
      ],
      "text/latex": [
       "\\begin{math}\n",
       "\\newcommand{\\Bold}[1]{\\mathbf{#1}}\\verb|<class|\\phantom{\\verb!x!}\\verb|'sage.symbolic.function_factory.function_factory.<locals>.NewSymbolicFunction'>|\n",
       "\\end{math}"
      ],
      "text/plain": [
       "<class 'sage.symbolic.function_factory.function_factory.<locals>.NewSymbolicFunction'>"
      ]
     },
     "execution_count": 6,
     "metadata": {},
     "output_type": "execute_result"
    }
   ],
   "source": [
    "z.operator().__class__"
   ]
  },
  {
   "cell_type": "code",
   "execution_count": 7,
   "id": "2a8fd5c6",
   "metadata": {},
   "outputs": [
    {
     "data": {
      "text/html": [
       "<html><script type=\"math/tex; mode=display\">\\newcommand{\\Bold}[1]{\\mathbf{#1}}x</script></html>"
      ],
      "text/latex": [
       "\\begin{math}\n",
       "\\newcommand{\\Bold}[1]{\\mathbf{#1}}x\n",
       "\\end{math}"
      ],
      "text/plain": [
       "x"
      ]
     },
     "execution_count": 7,
     "metadata": {},
     "output_type": "execute_result"
    }
   ],
   "source": [
    "x"
   ]
  },
  {
   "cell_type": "code",
   "execution_count": 8,
   "id": "24967364",
   "metadata": {},
   "outputs": [
    {
     "data": {
      "text/html": [
       "<html><script type=\"math/tex; mode=display\">\\newcommand{\\Bold}[1]{\\mathbf{#1}}\\verb|<class|\\phantom{\\verb!x!}\\verb|'NoneType'>|</script></html>"
      ],
      "text/latex": [
       "\\begin{math}\n",
       "\\newcommand{\\Bold}[1]{\\mathbf{#1}}\\verb|<class|\\phantom{\\verb!x!}\\verb|'NoneType'>|\n",
       "\\end{math}"
      ],
      "text/plain": [
       "<class 'NoneType'>"
      ]
     },
     "execution_count": 8,
     "metadata": {},
     "output_type": "execute_result"
    }
   ],
   "source": [
    "x.operator().__class__"
   ]
  },
  {
   "cell_type": "code",
   "execution_count": 9,
   "id": "e2feb574",
   "metadata": {},
   "outputs": [],
   "source": [
    "z_=diff(z, x)"
   ]
  },
  {
   "cell_type": "code",
   "execution_count": 10,
   "id": "1dc31e15",
   "metadata": {},
   "outputs": [
    {
     "data": {
      "text/html": [
       "<html><script type=\"math/tex; mode=display\">\\newcommand{\\Bold}[1]{\\mathbf{#1}}\\verb|<class|\\phantom{\\verb!x!}\\verb|'sage.symbolic.operators.FDerivativeOperator'>|</script></html>"
      ],
      "text/latex": [
       "\\begin{math}\n",
       "\\newcommand{\\Bold}[1]{\\mathbf{#1}}\\verb|<class|\\phantom{\\verb!x!}\\verb|'sage.symbolic.operators.FDerivativeOperator'>|\n",
       "\\end{math}"
      ],
      "text/plain": [
       "<class 'sage.symbolic.operators.FDerivativeOperator'>"
      ]
     },
     "execution_count": 10,
     "metadata": {},
     "output_type": "execute_result"
    }
   ],
   "source": [
    "z_.operator().__class__"
   ]
  },
  {
   "cell_type": "code",
   "execution_count": 11,
   "id": "e61b1a8c",
   "metadata": {},
   "outputs": [],
   "source": [
    "dt = pylie.JanetBasis.DTerm"
   ]
  },
  {
   "cell_type": "code",
   "execution_count": 12,
   "id": "41608f8b",
   "metadata": {},
   "outputs": [
    {
     "data": {
      "text/html": [
       "<html><script type=\"math/tex; mode=display\">\\newcommand{\\Bold}[1]{\\mathbf{#1}}\\mathrm{True}</script></html>"
      ],
      "text/latex": [
       "\\begin{math}\n",
       "\\newcommand{\\Bold}[1]{\\mathbf{#1}}\\mathrm{True}\n",
       "\\end{math}"
      ],
      "text/plain": [
       "True"
      ]
     },
     "execution_count": 12,
     "metadata": {},
     "output_type": "execute_result"
    }
   ],
   "source": [
    "dt (diff(w, x) , ctx_lex) < dt (z_, ctx_lex)"
   ]
  },
  {
   "cell_type": "code",
   "execution_count": 13,
   "id": "c687ffca",
   "metadata": {},
   "outputs": [
    {
     "data": {
      "text/html": [
       "<html><script type=\"math/tex; mode=display\">\\newcommand{\\Bold}[1]{\\mathbf{#1}}\\mathrm{False}</script></html>"
      ],
      "text/latex": [
       "\\begin{math}\n",
       "\\newcommand{\\Bold}[1]{\\mathbf{#1}}\\mathrm{False}\n",
       "\\end{math}"
      ],
      "text/plain": [
       "False"
      ]
     },
     "execution_count": 13,
     "metadata": {},
     "output_type": "execute_result"
    }
   ],
   "source": [
    "pylie.pylie.is_derivative(z)"
   ]
  },
  {
   "cell_type": "code",
   "execution_count": 14,
   "id": "800bb77c",
   "metadata": {},
   "outputs": [
    {
     "data": {
      "text/html": [
       "<html><script type=\"math/tex; mode=display\">\\newcommand{\\Bold}[1]{\\mathbf{#1}}\\mathrm{False}</script></html>"
      ],
      "text/latex": [
       "\\begin{math}\n",
       "\\newcommand{\\Bold}[1]{\\mathbf{#1}}\\mathrm{False}\n",
       "\\end{math}"
      ],
      "text/plain": [
       "False"
      ]
     },
     "execution_count": 14,
     "metadata": {},
     "output_type": "execute_result"
    }
   ],
   "source": [
    "pylie.pylie.is_derivative(x)"
   ]
  },
  {
   "cell_type": "code",
   "execution_count": 15,
   "id": "df2328b8",
   "metadata": {},
   "outputs": [
    {
     "data": {
      "text/html": [
       "<html><script type=\"math/tex; mode=display\">\\newcommand{\\Bold}[1]{\\mathbf{#1}}\\mathrm{True}</script></html>"
      ],
      "text/latex": [
       "\\begin{math}\n",
       "\\newcommand{\\Bold}[1]{\\mathbf{#1}}\\mathrm{True}\n",
       "\\end{math}"
      ],
      "text/plain": [
       "True"
      ]
     },
     "execution_count": 15,
     "metadata": {},
     "output_type": "execute_result"
    }
   ],
   "source": [
    "pylie.pylie.is_derivative(z_)"
   ]
  },
  {
   "cell_type": "code",
   "execution_count": 16,
   "id": "8587534e",
   "metadata": {},
   "outputs": [
    {
     "data": {
      "text/html": [
       "<html><script type=\"math/tex; mode=display\">\\newcommand{\\Bold}[1]{\\mathbf{#1}}\\mathrm{True}</script></html>"
      ],
      "text/latex": [
       "\\begin{math}\n",
       "\\newcommand{\\Bold}[1]{\\mathbf{#1}}\\mathrm{True}\n",
       "\\end{math}"
      ],
      "text/plain": [
       "True"
      ]
     },
     "execution_count": 16,
     "metadata": {},
     "output_type": "execute_result"
    }
   ],
   "source": [
    "pylie.pylie.is_function(z)"
   ]
  },
  {
   "cell_type": "code",
   "execution_count": 17,
   "id": "1b5ac88b",
   "metadata": {},
   "outputs": [
    {
     "data": {
      "text/html": [
       "<html><script type=\"math/tex; mode=display\">\\newcommand{\\Bold}[1]{\\mathbf{#1}}\\mathrm{False}</script></html>"
      ],
      "text/latex": [
       "\\begin{math}\n",
       "\\newcommand{\\Bold}[1]{\\mathbf{#1}}\\mathrm{False}\n",
       "\\end{math}"
      ],
      "text/plain": [
       "False"
      ]
     },
     "execution_count": 17,
     "metadata": {},
     "output_type": "execute_result"
    }
   ],
   "source": [
    "pylie.pylie.is_function(x)"
   ]
  },
  {
   "cell_type": "code",
   "execution_count": 18,
   "id": "627c2406",
   "metadata": {},
   "outputs": [
    {
     "data": {
      "text/html": [
       "<html><script type=\"math/tex; mode=display\">\\newcommand{\\Bold}[1]{\\mathbf{#1}}\\mathrm{False}</script></html>"
      ],
      "text/latex": [
       "\\begin{math}\n",
       "\\newcommand{\\Bold}[1]{\\mathbf{#1}}\\mathrm{False}\n",
       "\\end{math}"
      ],
      "text/plain": [
       "False"
      ]
     },
     "execution_count": 18,
     "metadata": {},
     "output_type": "execute_result"
    }
   ],
   "source": [
    "pylie.pylie.is_function(z_)"
   ]
  },
  {
   "cell_type": "code",
   "execution_count": null,
   "id": "13d8f80f",
   "metadata": {},
   "outputs": [],
   "source": []
  }
 ],
 "metadata": {
  "kernelspec": {
   "display_name": "SageMath 9.0",
   "language": "sage",
   "name": "sagemath"
  },
  "language_info": {
   "codemirror_mode": {
    "name": "ipython",
    "version": 3
   },
   "file_extension": ".py",
   "mimetype": "text/x-python",
   "name": "python",
   "nbconvert_exporter": "python",
   "pygments_lexer": "ipython3",
   "version": "3.9.2"
  }
 },
 "nbformat": 4,
 "nbformat_minor": 5
}
