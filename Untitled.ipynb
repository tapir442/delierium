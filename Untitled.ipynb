{
 "cells": [
  {
   "cell_type": "code",
   "execution_count": 23,
   "id": "af148e24",
   "metadata": {},
   "outputs": [],
   "source": [
    "var (\"t x\")\n",
    "_v  = function (\"v\")(x,t)\n",
    "_u  = function (\"u\")(x,t)\n",
    "_w1 = function (\"w1\")(x,t)\n",
    "_w2 = function (\"w2\")(x,t)\n",
    "eqsys = [diff(v(x,t), x) - u(x,t), diff (v(x,t), t) - diff(u(x,t), x)/(u(x,t)**2)]"
   ]
  },
  {
   "cell_type": "code",
   "execution_count": 39,
   "id": "b25f9d8d",
   "metadata": {},
   "outputs": [
    {
     "name": "stdout",
     "output_type": "stream",
     "text": [
      "-(eps*diff(w1(x, t), x) + diff(u(x, t), x))/(eps*w1(x, t) + u(x, t))^2 + diff(v(x, t), t)\n",
      "2*(eps*diff(w1(x, t), x) + diff(u(x, t), x))*w1(x, t)/(eps*w1(x, t) + u(x, t))^3 - diff(w1(x, t), x)/(eps*w1(x, t) + u(x, t))^2\n"
     ]
    }
   ],
   "source": [
    "eps = var (\"eps\")\n",
    "g(x,t,eps) = u(x,t) + eps * w1(x,t)\n",
    "r = eqsys[1].substitute_function(u, g)\n",
    "print(r)\n",
    "\n",
    "r = diff(r, eps)\n",
    "print (r)"
   ]
  },
  {
   "cell_type": "code",
   "execution_count": 40,
   "id": "991300b4",
   "metadata": {},
   "outputs": [],
   "source": [
    "r = r.subs({eps:0})"
   ]
  },
  {
   "cell_type": "code",
   "execution_count": 41,
   "id": "ced67855",
   "metadata": {},
   "outputs": [
    {
     "name": "stdout",
     "output_type": "stream",
     "text": [
      "2*w1(x, t)*diff(u(x, t), x)/u(x, t)^3 - diff(w1(x, t), x)/u(x, t)^2\n"
     ]
    }
   ],
   "source": [
    "print (r)"
   ]
  },
  {
   "cell_type": "code",
   "execution_count": 2,
   "id": "3ba789bb",
   "metadata": {},
   "outputs": [],
   "source": [
    "var (\"x y\")\n",
    "f = function(\"f\")(x,y)"
   ]
  },
  {
   "cell_type": "code",
   "execution_count": 7,
   "id": "4c81b470",
   "metadata": {},
   "outputs": [],
   "source": [
    "e = diff(f, x)*(x*2)*y^2"
   ]
  },
  {
   "cell_type": "code",
   "execution_count": 8,
   "id": "fa4aa840",
   "metadata": {},
   "outputs": [
    {
     "data": {
      "text/plain": [
       "2*x*y^2*diff(f(x, y), x)"
      ]
     },
     "execution_count": 8,
     "metadata": {},
     "output_type": "execute_result"
    }
   ],
   "source": [
    "e"
   ]
  },
  {
   "cell_type": "code",
   "execution_count": 9,
   "id": "88b63a78",
   "metadata": {},
   "outputs": [
    {
     "data": {
      "text/plain": [
       "[x, y^2, diff(f(x, y), x), 2]"
      ]
     },
     "execution_count": 9,
     "metadata": {},
     "output_type": "execute_result"
    }
   ],
   "source": [
    "e.operands()"
   ]
  },
  {
   "cell_type": "code",
   "execution_count": 12,
   "id": "ea4353ad",
   "metadata": {},
   "outputs": [
    {
     "name": "stdout",
     "output_type": "stream",
     "text": [
      "<class 'sage.symbolic.expression.Expression'> x\n",
      "<class 'sage.symbolic.expression.Expression'> y^2\n",
      "      <class 'sage.symbolic.expression.Expression'> y\n",
      "      <class 'sage.symbolic.expression.Expression'> 2\n",
      "<class 'sage.symbolic.expression.Expression'> diff(f(x, y), x)\n",
      "      <class 'sage.symbolic.expression.Expression'> x\n",
      "      <class 'sage.symbolic.expression.Expression'> y\n",
      "<class 'sage.symbolic.expression.Expression'> 2\n"
     ]
    }
   ],
   "source": [
    "for _e in e.operands():\n",
    "    print (_e.__class__, _e)\n",
    "    for __e in _e.operands():\n",
    "        print (\"     \", __e.__class__, __e)"
   ]
  },
  {
   "cell_type": "code",
   "execution_count": 13,
   "id": "1c8417bb",
   "metadata": {},
   "outputs": [],
   "source": [
    "import pylie"
   ]
  },
  {
   "cell_type": "code",
   "execution_count": 14,
   "id": "2f85f23d",
   "metadata": {},
   "outputs": [
    {
     "ename": "AttributeError",
     "evalue": "module 'pylie' has no attribute 'order_of_derivative'",
     "output_type": "error",
     "traceback": [
      "\u001b[0;31m---------------------------------------------------------------------------\u001b[0m",
      "\u001b[0;31mAttributeError\u001b[0m                            Traceback (most recent call last)",
      "\u001b[0;32m<ipython-input-14-bb6dc0837c64>\u001b[0m in \u001b[0;36m<module>\u001b[0;34m\u001b[0m\n\u001b[0;32m----> 1\u001b[0;31m \u001b[0mpylie\u001b[0m\u001b[0;34m.\u001b[0m\u001b[0morder_of_derivative\u001b[0m\u001b[0;34m(\u001b[0m\u001b[0;34m)\u001b[0m\u001b[0;34m\u001b[0m\u001b[0;34m\u001b[0m\u001b[0m\n\u001b[0m",
      "\u001b[0;31mAttributeError\u001b[0m: module 'pylie' has no attribute 'order_of_derivative'"
     ]
    }
   ],
   "source": [
    "pylie.order_of_derivative()"
   ]
  },
  {
   "cell_type": "code",
   "execution_count": 15,
   "id": "16c08b83",
   "metadata": {},
   "outputs": [],
   "source": [
    "from pylie import pylie"
   ]
  },
  {
   "cell_type": "code",
   "execution_count": 17,
   "id": "3dcfe457",
   "metadata": {},
   "outputs": [
    {
     "data": {
      "text/plain": [
       "[0, 0]"
      ]
     },
     "execution_count": 17,
     "metadata": {},
     "output_type": "execute_result"
    }
   ],
   "source": [
    "pylie.order_of_derivative(e)"
   ]
  },
  {
   "cell_type": "code",
   "execution_count": 18,
   "id": "e6b1356f",
   "metadata": {},
   "outputs": [
    {
     "name": "stdout",
     "output_type": "stream",
     "text": [
      "x [0]\n",
      "y^2 [0]\n",
      "diff(f(x, y), x) [1, 0]\n",
      "2 []\n"
     ]
    }
   ],
   "source": [
    "for _ in e.operands():\n",
    "    print (_, pylie.order_of_derivative(_))"
   ]
  },
  {
   "cell_type": "code",
   "execution_count": 1,
   "id": "cbbc4421",
   "metadata": {},
   "outputs": [
    {
     "ename": "AttributeError",
     "evalue": "'sage.rings.integer.Integer' object has no attribute 'operator'",
     "output_type": "error",
     "traceback": [
      "\u001b[0;31m---------------------------------------------------------------------------\u001b[0m",
      "\u001b[0;31mAttributeError\u001b[0m                            Traceback (most recent call last)",
      "\u001b[0;32m<ipython-input-1-33cedabaab74>\u001b[0m in \u001b[0;36m<module>\u001b[0;34m\u001b[0m\n\u001b[0;32m----> 1\u001b[0;31m \u001b[0mInteger\u001b[0m\u001b[0;34m(\u001b[0m\u001b[0;36m1\u001b[0m\u001b[0;34m)\u001b[0m\u001b[0;34m.\u001b[0m\u001b[0moperator\u001b[0m\u001b[0;34m(\u001b[0m\u001b[0;34m)\u001b[0m\u001b[0;34m\u001b[0m\u001b[0;34m\u001b[0m\u001b[0m\n\u001b[0m",
      "\u001b[0;32m~/anaconda3/lib/python3.7/site-packages/sage/structure/element.pyx\u001b[0m in \u001b[0;36msage.structure.element.Element.__getattr__ (build/cythonized/sage/structure/element.c:4701)\u001b[0;34m()\u001b[0m\n\u001b[1;32m    491\u001b[0m             \u001b[0mAttributeError\u001b[0m\u001b[0;34m:\u001b[0m \u001b[0;34m'LeftZeroSemigroup_with_category.element_class'\u001b[0m \u001b[0mobject\u001b[0m \u001b[0mhas\u001b[0m \u001b[0mno\u001b[0m \u001b[0mattribute\u001b[0m \u001b[0;34m'blah_blah'\u001b[0m\u001b[0;34m\u001b[0m\u001b[0;34m\u001b[0m\u001b[0m\n\u001b[1;32m    492\u001b[0m         \"\"\"\n\u001b[0;32m--> 493\u001b[0;31m         \u001b[0;32mreturn\u001b[0m \u001b[0mself\u001b[0m\u001b[0;34m.\u001b[0m\u001b[0mgetattr_from_category\u001b[0m\u001b[0;34m(\u001b[0m\u001b[0mname\u001b[0m\u001b[0;34m)\u001b[0m\u001b[0;34m\u001b[0m\u001b[0;34m\u001b[0m\u001b[0m\n\u001b[0m\u001b[1;32m    494\u001b[0m \u001b[0;34m\u001b[0m\u001b[0m\n\u001b[1;32m    495\u001b[0m     \u001b[0mcdef\u001b[0m \u001b[0mgetattr_from_category\u001b[0m\u001b[0;34m(\u001b[0m\u001b[0mself\u001b[0m\u001b[0;34m,\u001b[0m \u001b[0mname\u001b[0m\u001b[0;34m)\u001b[0m\u001b[0;34m:\u001b[0m\u001b[0;34m\u001b[0m\u001b[0;34m\u001b[0m\u001b[0m\n",
      "\u001b[0;32m~/anaconda3/lib/python3.7/site-packages/sage/structure/element.pyx\u001b[0m in \u001b[0;36msage.structure.element.Element.getattr_from_category (build/cythonized/sage/structure/element.c:4813)\u001b[0;34m()\u001b[0m\n\u001b[1;32m    504\u001b[0m         \u001b[0;32melse\u001b[0m\u001b[0;34m:\u001b[0m\u001b[0;34m\u001b[0m\u001b[0;34m\u001b[0m\u001b[0m\n\u001b[1;32m    505\u001b[0m             \u001b[0mcls\u001b[0m \u001b[0;34m=\u001b[0m \u001b[0mP\u001b[0m\u001b[0;34m.\u001b[0m\u001b[0m_abstract_element_class\u001b[0m\u001b[0;34m\u001b[0m\u001b[0;34m\u001b[0m\u001b[0m\n\u001b[0;32m--> 506\u001b[0;31m         \u001b[0;32mreturn\u001b[0m \u001b[0mgetattr_from_other_class\u001b[0m\u001b[0;34m(\u001b[0m\u001b[0mself\u001b[0m\u001b[0;34m,\u001b[0m \u001b[0mcls\u001b[0m\u001b[0;34m,\u001b[0m \u001b[0mname\u001b[0m\u001b[0;34m)\u001b[0m\u001b[0;34m\u001b[0m\u001b[0;34m\u001b[0m\u001b[0m\n\u001b[0m\u001b[1;32m    507\u001b[0m \u001b[0;34m\u001b[0m\u001b[0m\n\u001b[1;32m    508\u001b[0m     \u001b[0;32mdef\u001b[0m \u001b[0m__dir__\u001b[0m\u001b[0;34m(\u001b[0m\u001b[0mself\u001b[0m\u001b[0;34m)\u001b[0m\u001b[0;34m:\u001b[0m\u001b[0;34m\u001b[0m\u001b[0;34m\u001b[0m\u001b[0m\n",
      "\u001b[0;32m~/anaconda3/lib/python3.7/site-packages/sage/cpython/getattr.pyx\u001b[0m in \u001b[0;36msage.cpython.getattr.getattr_from_other_class (build/cythonized/sage/cpython/getattr.c:2619)\u001b[0;34m()\u001b[0m\n\u001b[1;32m    370\u001b[0m         \u001b[0mdummy_error_message\u001b[0m\u001b[0;34m.\u001b[0m\u001b[0mcls\u001b[0m \u001b[0;34m=\u001b[0m \u001b[0mtype\u001b[0m\u001b[0;34m(\u001b[0m\u001b[0mself\u001b[0m\u001b[0;34m)\u001b[0m\u001b[0;34m\u001b[0m\u001b[0;34m\u001b[0m\u001b[0m\n\u001b[1;32m    371\u001b[0m         \u001b[0mdummy_error_message\u001b[0m\u001b[0;34m.\u001b[0m\u001b[0mname\u001b[0m \u001b[0;34m=\u001b[0m \u001b[0mname\u001b[0m\u001b[0;34m\u001b[0m\u001b[0;34m\u001b[0m\u001b[0m\n\u001b[0;32m--> 372\u001b[0;31m         \u001b[0;32mraise\u001b[0m \u001b[0mAttributeError\u001b[0m\u001b[0;34m(\u001b[0m\u001b[0mdummy_error_message\u001b[0m\u001b[0;34m)\u001b[0m\u001b[0;34m\u001b[0m\u001b[0;34m\u001b[0m\u001b[0m\n\u001b[0m\u001b[1;32m    373\u001b[0m     \u001b[0mattribute\u001b[0m \u001b[0;34m=\u001b[0m \u001b[0;34m<\u001b[0m\u001b[0mobject\u001b[0m\u001b[0;34m>\u001b[0m\u001b[0mattr\u001b[0m\u001b[0;34m\u001b[0m\u001b[0;34m\u001b[0m\u001b[0m\n\u001b[1;32m    374\u001b[0m     \u001b[0;31m# Check for a descriptor (__get__ in Python)\u001b[0m\u001b[0;34m\u001b[0m\u001b[0;34m\u001b[0m\u001b[0;34m\u001b[0m\u001b[0m\n",
      "\u001b[0;31mAttributeError\u001b[0m: 'sage.rings.integer.Integer' object has no attribute 'operator'"
     ]
    }
   ],
   "source": [
    "1.operator()"
   ]
  },
  {
   "cell_type": "code",
   "execution_count": null,
   "id": "9e51ce96",
   "metadata": {},
   "outputs": [],
   "source": []
  }
 ],
 "metadata": {
  "kernelspec": {
   "display_name": "SageMath 9.0",
   "language": "sage",
   "name": "sagemath"
  },
  "language_info": {
   "codemirror_mode": {
    "name": "ipython",
    "version": 3
   },
   "file_extension": ".py",
   "mimetype": "text/x-python",
   "name": "python",
   "nbconvert_exporter": "python",
   "pygments_lexer": "ipython3",
   "version": "3.7.6"
  }
 },
 "nbformat": 4,
 "nbformat_minor": 5
}
