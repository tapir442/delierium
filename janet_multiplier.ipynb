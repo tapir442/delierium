{
 "cells": [
  {
   "cell_type": "raw",
   "id": "ccc48926",
   "metadata": {},
   "source": [
    "#####Janet Division\n",
    "Janet:=proc(u,U,Vars)\n",
    "local nn,m,d,L,i,j,dd,V,v,Mult;\n",
    "#option trace;\n",
    "if degree(u)=0 then RETURN(Vars); fi;\n",
    "nn:=nops(Vars);\n",
    "m:=nops(U);\n",
    "d:=[seq(max(seq(degree(U[j],Vars[i]),j=1..m)),i=1..nn)];\n",
    "Mult:=NULL;\n",
    "    if degree(u,Vars[1])=d[1] then\n",
    "       Mult:=Mult,Vars[1];\n",
    "    fi:\n",
    "for j from 2 to nn do\n",
    "    \tdd:=[seq(degree(u,Vars[l]),l=1..j-1)];\n",
    "    \tV:=NULL:\n",
    "    \tfor v in U do\n",
    "    \t    if [seq(degree(v,Vars[l]),l=1..j-1)]=dd then\n",
    "\t       V:=V,v:\n",
    "\t    fi:\n",
    "\tod:\n",
    "\tif degree(Vars[j],u)=max(seq(degree(Vars[j], v), v in [V])) then\n",
    "\t   Mult:=Mult,Vars[j];\n",
    "\tfi:\n",
    "od:\n",
    "RETURN([Mult]);\n",
    "end:"
   ]
  },
  {
   "cell_type": "code",
   "execution_count": 6,
   "id": "8b018fd1",
   "metadata": {},
   "outputs": [],
   "source": [
    "%display latex\n",
    "from delierium import *\n",
    "from pprint import pprint \n",
    "from collections.abc import Iterable\n",
    "import functools\n",
    "from operator import mul, sub\n",
    "from pprint import pprint\n",
    "from IPython.core.debugger import set_trace"
   ]
  },
  {
   "cell_type": "code",
   "execution_count": 21,
   "id": "a12b3547",
   "metadata": {},
   "outputs": [
    {
     "name": "stdout",
     "output_type": "stream",
     "text": [
      "<class 'sage.symbolic.expression.Expression'>\n"
     ]
    }
   ],
   "source": [
    "var (\"x1 x2 x3\")\n",
    "print (x1.__class__)\n",
    "m = ((x1**2)*(x2**2)*(x3**3), (x1**3)*(x3**3), (x1**3)*x2*x3, x2*x3)"
   ]
  },
  {
   "cell_type": "code",
   "execution_count": 35,
   "id": "4a2c1e74",
   "metadata": {},
   "outputs": [
    {
     "name": "stdout",
     "output_type": "stream",
     "text": [
      "x1^2*x2^2*x3^3 :: ([x3, x2, x1], set())\n",
      "x1^3*x3^3 :: ([x3, x1], {x2})\n",
      "x1^3*x2*x3 :: ([x2, x1], {x3})\n",
      "x2*x3 :: ([x2], {x3, x1})\n"
     ]
    }
   ],
   "source": [
    "print(m [0], \"::\", multipliers (m[0], m, (x3,x2,x1)))\n",
    "print(m [1], \"::\", multipliers (m[1], m, (x3,x2,x1)))\n",
    "print(m [2], \"::\", multipliers (m[2], m, (x3,x2,x1)))\n",
    "print(m [3], \"::\", multipliers (m[3], m, (x3,x2,x1)))"
   ]
  },
  {
   "cell_type": "code",
   "execution_count": 36,
   "id": "7616c14b",
   "metadata": {},
   "outputs": [
    {
     "name": "stdout",
     "output_type": "stream",
     "text": [
      "(2, 2, 3) :: ([2, 1, 0], set())\n",
      "(3, 0, 3) :: ([2, 0], {1})\n",
      "(3, 1, 1) :: ([1, 0], {2})\n",
      "(0, 1, 1) :: ([1], {0, 2})\n"
     ]
    }
   ],
   "source": [
    "m = ((2,2,3), (3,0,3), (3,1,1), (0,1,1))\n",
    "print(m [0], \"::\", vec_multipliers (m[0], m, (2,1,0)))\n",
    "print(m [1], \"::\", vec_multipliers (m[1], m, (2,1,0)))\n",
    "print(m [2], \"::\", vec_multipliers (m[2], m, (2,1,0)))\n",
    "print(m [3], \"::\", vec_multipliers (m[3], m, (2,1,0)))"
   ]
  },
  {
   "cell_type": "code",
   "execution_count": 37,
   "id": "c94eab01",
   "metadata": {},
   "outputs": [],
   "source": [
    "ctx = Context([], [x3,x2,x1], Mgrevlex)"
   ]
  },
  {
   "cell_type": "code",
   "execution_count": 38,
   "id": "f089a097",
   "metadata": {},
   "outputs": [],
   "source": [
    "# now for completion\n",
    "s1=[m[0], m[1]]\n",
    "s2=[m[2], m[3]]\n",
    "inter = []\n",
    "for _m in s1:\n",
    "    mul, nonmul = vec_multipliers (_m, m, (2,1,0))\n",
    "    for nm in nonmul:\n",
    "        hungi = list(_m)\n",
    "        hungi[nm] += 1\n",
    "        inter.append(tuple(hungi))\n",
    "s1.extend(inter)\n",
    "inter = []\n",
    "for _m in s2:\n",
    "    mul, nonmul = vec_multipliers (_m, m, (2,1,0))\n",
    "    for nm in nonmul:\n",
    "        hungi = list(_m)\n",
    "        hungi[nm] += 1\n",
    "        inter.append(tuple(hungi))\n",
    "s2.extend(inter)"
   ]
  },
  {
   "cell_type": "code",
   "execution_count": 39,
   "id": "4f73e75b",
   "metadata": {},
   "outputs": [
    {
     "data": {
      "text/html": [
       "<html><script type=\"math/tex; mode=display\">\\newcommand{\\Bold}[1]{\\mathbf{#1}}\\left[\\left(2, 2, 3\\right), \\left(3, 0, 3\\right), \\left(3, 1, 3\\right)\\right]</script></html>"
      ],
      "text/latex": [
       "\\begin{math}\n",
       "\\newcommand{\\Bold}[1]{\\mathbf{#1}}\\left[\\left(2, 2, 3\\right), \\left(3, 0, 3\\right), \\left(3, 1, 3\\right)\\right]\n",
       "\\end{math}"
      ],
      "text/plain": [
       "[(2, 2, 3), (3, 0, 3), (3, 1, 3)]"
      ]
     },
     "execution_count": 39,
     "metadata": {},
     "output_type": "execute_result"
    }
   ],
   "source": [
    "s1"
   ]
  },
  {
   "cell_type": "code",
   "execution_count": 40,
   "id": "8e926bc7",
   "metadata": {},
   "outputs": [
    {
     "data": {
      "text/html": [
       "<html><script type=\"math/tex; mode=display\">\\newcommand{\\Bold}[1]{\\mathbf{#1}}\\left[\\left(2, 2, 3\\right), \\left(3, 0, 3\\right), \\left(3, 1, 3\\right)\\right]</script></html>"
      ],
      "text/latex": [
       "\\begin{math}\n",
       "\\newcommand{\\Bold}[1]{\\mathbf{#1}}\\left[\\left(2, 2, 3\\right), \\left(3, 0, 3\\right), \\left(3, 1, 3\\right)\\right]\n",
       "\\end{math}"
      ],
      "text/plain": [
       "[(2, 2, 3), (3, 0, 3), (3, 1, 3)]"
      ]
     },
     "execution_count": 40,
     "metadata": {},
     "output_type": "execute_result"
    }
   ],
   "source": [
    "ss1 = Reorder (s1,ctx, ascending = False); ss1"
   ]
  },
  {
   "cell_type": "code",
   "execution_count": 41,
   "id": "f66d3a7b",
   "metadata": {},
   "outputs": [
    {
     "data": {
      "text/html": [
       "<html><script type=\"math/tex; mode=display\">\\newcommand{\\Bold}[1]{\\mathbf{#1}}\\left[\\left(3, 1, 1\\right), \\left(0, 1, 1\\right), \\left(3, 1, 2\\right), \\left(1, 1, 1\\right), \\left(0, 1, 2\\right)\\right]</script></html>"
      ],
      "text/latex": [
       "\\begin{math}\n",
       "\\newcommand{\\Bold}[1]{\\mathbf{#1}}\\left[\\left(3, 1, 1\\right), \\left(0, 1, 1\\right), \\left(3, 1, 2\\right), \\left(1, 1, 1\\right), \\left(0, 1, 2\\right)\\right]\n",
       "\\end{math}"
      ],
      "text/plain": [
       "[(3, 1, 1), (0, 1, 1), (3, 1, 2), (1, 1, 1), (0, 1, 2)]"
      ]
     },
     "execution_count": 41,
     "metadata": {},
     "output_type": "execute_result"
    }
   ],
   "source": [
    "s2"
   ]
  },
  {
   "cell_type": "code",
   "execution_count": 42,
   "id": "abd1fbf2",
   "metadata": {},
   "outputs": [],
   "source": [
    "ss2 = Reorder (s2,ctx, ascending = False)"
   ]
  },
  {
   "cell_type": "code",
   "execution_count": 43,
   "id": "130061e6",
   "metadata": {},
   "outputs": [
    {
     "name": "stdout",
     "output_type": "stream",
     "text": [
      "[(0, 1, 1), (0, 1, 2), (1, 1, 1), (3, 1, 1), (3, 1, 2)]\n"
     ]
    }
   ],
   "source": [
    "print (ss2)"
   ]
  },
  {
   "cell_type": "code",
   "execution_count": null,
   "id": "eaabc77f",
   "metadata": {},
   "outputs": [],
   "source": []
  },
  {
   "cell_type": "code",
   "execution_count": 44,
   "id": "56d1013c",
   "metadata": {},
   "outputs": [],
   "source": [
    "ctx_lex = Context ([], (x1,x2,x3))\n",
    "ctx_grlex = Context ([], (x1,x2,x3),Mgrlex)\n",
    "ctx_grevlex = Context ([], (x1,x2,x3),Mgrevlex)"
   ]
  },
  {
   "cell_type": "code",
   "execution_count": 45,
   "id": "917a3427",
   "metadata": {},
   "outputs": [
    {
     "data": {
      "text/html": [
       "<html><script type=\"math/tex; mode=display\">\\newcommand{\\Bold}[1]{\\mathbf{#1}}\\left(\\left(2, 2, 3\\right), \\left(3, 0, 3\\right), \\left(3, 1, 1\\right), \\left(0, 1, 1\\right)\\right)</script></html>"
      ],
      "text/latex": [
       "\\begin{math}\n",
       "\\newcommand{\\Bold}[1]{\\mathbf{#1}}\\left(\\left(2, 2, 3\\right), \\left(3, 0, 3\\right), \\left(3, 1, 1\\right), \\left(0, 1, 1\\right)\\right)\n",
       "\\end{math}"
      ],
      "text/plain": [
       "((2, 2, 3), (3, 0, 3), (3, 1, 1), (0, 1, 1))"
      ]
     },
     "execution_count": 45,
     "metadata": {},
     "output_type": "execute_result"
    }
   ],
   "source": [
    "m"
   ]
  },
  {
   "cell_type": "code",
   "execution_count": 46,
   "id": "b0d55e2d",
   "metadata": {},
   "outputs": [
    {
     "name": "stdout",
     "output_type": "stream",
     "text": [
      "[(0, 1, 1), (2, 2, 3), (3, 0, 3), (3, 1, 1)]\n"
     ]
    }
   ],
   "source": [
    "print (Reorder (m, ctx_lex))"
   ]
  },
  {
   "cell_type": "code",
   "execution_count": 47,
   "id": "74efc10c",
   "metadata": {},
   "outputs": [
    {
     "name": "stdout",
     "output_type": "stream",
     "text": [
      "[(0, 1, 1), (2, 2, 3), (3, 0, 3), (3, 1, 1)]\n"
     ]
    }
   ],
   "source": [
    "print (Reorder (m, ctx_grlex))"
   ]
  },
  {
   "cell_type": "code",
   "execution_count": 48,
   "id": "b527b214",
   "metadata": {},
   "outputs": [
    {
     "name": "stdout",
     "output_type": "stream",
     "text": [
      "[(0, 1, 1), (2, 2, 3), (3, 0, 3), (3, 1, 1)]\n"
     ]
    }
   ],
   "source": [
    "print (Reorder (m, ctx_grevlex))"
   ]
  },
  {
   "cell_type": "code",
   "execution_count": 49,
   "id": "4738ff33",
   "metadata": {},
   "outputs": [],
   "source": [
    "lulu = Mgrevlex ((), (1,2,3))"
   ]
  },
  {
   "cell_type": "code",
   "execution_count": 50,
   "id": "5b47aa70",
   "metadata": {},
   "outputs": [
    {
     "name": "stdout",
     "output_type": "stream",
     "text": [
      "[ 1  1  1]\n",
      "[ 0  0  0]\n",
      "[ 0  0 -1]\n",
      "[ 0 -1  0]\n",
      "[-1  0  0]\n"
     ]
    }
   ],
   "source": [
    "print(lulu)"
   ]
  },
  {
   "cell_type": "code",
   "execution_count": 51,
   "id": "b206cfc6",
   "metadata": {},
   "outputs": [],
   "source": [
    "grev = [[1,1,1], [0,0,-1],[0,-1,0]]"
   ]
  },
  {
   "cell_type": "code",
   "execution_count": 52,
   "id": "33b19c3f",
   "metadata": {},
   "outputs": [],
   "source": [
    "lulu = Mgrlex ((), (1,2,3))"
   ]
  },
  {
   "cell_type": "code",
   "execution_count": 53,
   "id": "a556abcc",
   "metadata": {},
   "outputs": [
    {
     "name": "stdout",
     "output_type": "stream",
     "text": [
      "[1 1 1]\n",
      "[0 0 0]\n",
      "[1 0 0]\n",
      "[0 1 0]\n",
      "[0 0 1]\n"
     ]
    }
   ],
   "source": [
    "print(lulu)"
   ]
  },
  {
   "cell_type": "code",
   "execution_count": 54,
   "id": "59ca3e72",
   "metadata": {},
   "outputs": [],
   "source": [
    "gr = [[1,1,1], [0,1,0],[1,0,0]]"
   ]
  },
  {
   "cell_type": "code",
   "execution_count": 55,
   "id": "08d92ce5",
   "metadata": {},
   "outputs": [
    {
     "data": {
      "text/html": [
       "<html><script type=\"math/tex; mode=display\">\\newcommand{\\Bold}[1]{\\mathbf{#1}}\\left[\\left[1, 1, 1\\right], \\left[0, 1, 0\\right], \\left[1, 0, 0\\right]\\right]</script></html>"
      ],
      "text/latex": [
       "\\begin{math}\n",
       "\\newcommand{\\Bold}[1]{\\mathbf{#1}}\\left[\\left[1, 1, 1\\right], \\left[0, 1, 0\\right], \\left[1, 0, 0\\right]\\right]\n",
       "\\end{math}"
      ],
      "text/plain": [
       "[[1, 1, 1], [0, 1, 0], [1, 0, 0]]"
      ]
     },
     "execution_count": 55,
     "metadata": {},
     "output_type": "execute_result"
    }
   ],
   "source": [
    "\n",
    "gr"
   ]
  },
  {
   "cell_type": "code",
   "execution_count": 56,
   "id": "167f5b33",
   "metadata": {},
   "outputs": [],
   "source": [
    "var ('x y z t')\n",
    "ctx1 = Context ([], (x,y,z,t)) \n",
    "ctx2 = Context ([], (x,y,z,t), Mgrlex)\n",
    "ctx3 = Context ([], (x,y,z,t), Mgrevlex)"
   ]
  },
  {
   "cell_type": "code",
   "execution_count": 57,
   "id": "6b22d06a",
   "metadata": {},
   "outputs": [
    {
     "data": {
      "text/html": [
       "<html><script type=\"math/tex; mode=display\">\\newcommand{\\Bold}[1]{\\mathbf{#1}}\\verb|<delierium.JanetBasis.Differential_Vector|\\phantom{\\verb!x!}\\verb|object|\\phantom{\\verb!x!}\\verb|at|\\phantom{\\verb!x!}\\verb|0x7f7a8f8f6610>|</script></html>"
      ],
      "text/latex": [
       "\\begin{math}\n",
       "\\newcommand{\\Bold}[1]{\\mathbf{#1}}\\verb|<delierium.JanetBasis.Differential_Vector|\\phantom{\\verb!x!}\\verb|object|\\phantom{\\verb!x!}\\verb|at|\\phantom{\\verb!x!}\\verb|0x7f7a8f8f6610>|\n",
       "\\end{math}"
      ],
      "text/plain": [
       "<delierium.JanetBasis.Differential_Vector object at 0x7f7a8f8f6610>"
      ]
     },
     "execution_count": 57,
     "metadata": {},
     "output_type": "execute_result"
    }
   ],
   "source": [
    "Differential_Vector ((0,0,0,0), ctx = ctx1)"
   ]
  },
  {
   "cell_type": "code",
   "execution_count": 58,
   "id": "0d13c40b",
   "metadata": {},
   "outputs": [],
   "source": [
    "a1 = Differential_Vector ((0,0,0,0), ctx = ctx2)\n",
    "a2 = Differential_Vector ((0,1,0,0), ctx = ctx2)"
   ]
  },
  {
   "cell_type": "code",
   "execution_count": 59,
   "id": "7212c35e",
   "metadata": {},
   "outputs": [
    {
     "data": {
      "text/html": [
       "<html><script type=\"math/tex; mode=display\">\\newcommand{\\Bold}[1]{\\mathbf{#1}}\\verb|<delierium.JanetBasis.Differential_Vector|\\phantom{\\verb!x!}\\verb|object|\\phantom{\\verb!x!}\\verb|at|\\phantom{\\verb!x!}\\verb|0x7f7a8f81e350>|</script></html>"
      ],
      "text/latex": [
       "\\begin{math}\n",
       "\\newcommand{\\Bold}[1]{\\mathbf{#1}}\\verb|<delierium.JanetBasis.Differential_Vector|\\phantom{\\verb!x!}\\verb|object|\\phantom{\\verb!x!}\\verb|at|\\phantom{\\verb!x!}\\verb|0x7f7a8f81e350>|\n",
       "\\end{math}"
      ],
      "text/plain": [
       "<delierium.JanetBasis.Differential_Vector object at 0x7f7a8f81e350>"
      ]
     },
     "execution_count": 59,
     "metadata": {},
     "output_type": "execute_result"
    }
   ],
   "source": [
    "Differential_Vector ((0,0,0,0), ctx = ctx3)"
   ]
  },
  {
   "cell_type": "code",
   "execution_count": 60,
   "id": "006d0e81",
   "metadata": {},
   "outputs": [
    {
     "data": {
      "text/html": [
       "<html><script type=\"math/tex; mode=display\">\\newcommand{\\Bold}[1]{\\mathbf{#1}}\\mathrm{False}</script></html>"
      ],
      "text/latex": [
       "\\begin{math}\n",
       "\\newcommand{\\Bold}[1]{\\mathbf{#1}}\\mathrm{False}\n",
       "\\end{math}"
      ],
      "text/plain": [
       "False"
      ]
     },
     "execution_count": 60,
     "metadata": {},
     "output_type": "execute_result"
    }
   ],
   "source": [
    "a1<a2"
   ]
  },
  {
   "cell_type": "code",
   "execution_count": 61,
   "id": "c0b75da1",
   "metadata": {
    "tags": []
   },
   "outputs": [
    {
     "name": "stdout",
     "output_type": "stream",
     "text": [
      "[(3, 1, 1), (3, 0, 3), (2, 2, 3), (0, 1, 1)]\n"
     ]
    }
   ],
   "source": [
    "m1 = sorted(map (lambda _ : Differential_Vector(_, ctx1), ((2, 2 ,3), (3, 0, 3), (3,1,1), (0,1,1))))\n",
    "print ([_._e for _ in m1])"
   ]
  },
  {
   "cell_type": "code",
   "execution_count": null,
   "id": "09ca420b",
   "metadata": {},
   "outputs": [],
   "source": []
  },
  {
   "cell_type": "code",
   "execution_count": 62,
   "id": "69e57c19",
   "metadata": {},
   "outputs": [
    {
     "name": "stdout",
     "output_type": "stream",
     "text": [
      "[(0, 1, 1), (3, 1, 1), (3, 0, 3), (2, 2, 3)]\n"
     ]
    }
   ],
   "source": [
    "m2 = reversed(sorted(map (lambda _ : Differential_Vector(_, ctx2), ((2, 2 ,3), (3, 0, 3), (3,1,1), (0,1,1)))))\n",
    "print ([_._e for _ in m2])"
   ]
  },
  {
   "cell_type": "code",
   "execution_count": 63,
   "id": "309b5985",
   "metadata": {},
   "outputs": [
    {
     "name": "stdout",
     "output_type": "stream",
     "text": [
      "[(2, 2, 3), (3, 0, 3), (3, 1, 1), (0, 1, 1)]\n"
     ]
    }
   ],
   "source": [
    "m3 = sorted(map (lambda _ : Differential_Vector(_, ctx3), ((2, 2 ,3), (3, 0, 3), (3,1,1), (0,1,1))))\n",
    "print ([_._e for _ in m3])"
   ]
  },
  {
   "cell_type": "code",
   "execution_count": 64,
   "id": "0ae474f1",
   "metadata": {},
   "outputs": [
    {
     "ename": "AttributeError",
     "evalue": "'tuple' object has no attribute 'Lder'",
     "output_type": "error",
     "traceback": [
      "\u001b[0;31m---------------------------------------------------------------------------\u001b[0m",
      "\u001b[0;31mAttributeError\u001b[0m                            Traceback (most recent call last)",
      "\u001b[0;32m<ipython-input-64-84c6d620d396>\u001b[0m in \u001b[0;36m<module>\u001b[0;34m\u001b[0m\n\u001b[0;32m----> 1\u001b[0;31m \u001b[0mprint\u001b[0m\u001b[0;34m(\u001b[0m\u001b[0mcomplete\u001b[0m \u001b[0;34m(\u001b[0m\u001b[0;34m[\u001b[0m\u001b[0;34m(\u001b[0m\u001b[0mInteger\u001b[0m\u001b[0;34m(\u001b[0m\u001b[0;36m2\u001b[0m\u001b[0;34m)\u001b[0m\u001b[0;34m,\u001b[0m \u001b[0mInteger\u001b[0m\u001b[0;34m(\u001b[0m\u001b[0;36m2\u001b[0m\u001b[0;34m)\u001b[0m \u001b[0;34m,\u001b[0m\u001b[0mInteger\u001b[0m\u001b[0;34m(\u001b[0m\u001b[0;36m3\u001b[0m\u001b[0;34m)\u001b[0m\u001b[0;34m)\u001b[0m\u001b[0;34m,\u001b[0m \u001b[0;34m(\u001b[0m\u001b[0mInteger\u001b[0m\u001b[0;34m(\u001b[0m\u001b[0;36m3\u001b[0m\u001b[0;34m)\u001b[0m\u001b[0;34m,\u001b[0m \u001b[0mInteger\u001b[0m\u001b[0;34m(\u001b[0m\u001b[0;36m0\u001b[0m\u001b[0;34m)\u001b[0m\u001b[0;34m,\u001b[0m \u001b[0mInteger\u001b[0m\u001b[0;34m(\u001b[0m\u001b[0;36m3\u001b[0m\u001b[0;34m)\u001b[0m\u001b[0;34m)\u001b[0m\u001b[0;34m,\u001b[0m \u001b[0;34m(\u001b[0m\u001b[0mInteger\u001b[0m\u001b[0;34m(\u001b[0m\u001b[0;36m3\u001b[0m\u001b[0;34m)\u001b[0m\u001b[0;34m,\u001b[0m\u001b[0mInteger\u001b[0m\u001b[0;34m(\u001b[0m\u001b[0;36m1\u001b[0m\u001b[0;34m)\u001b[0m\u001b[0;34m,\u001b[0m\u001b[0mInteger\u001b[0m\u001b[0;34m(\u001b[0m\u001b[0;36m1\u001b[0m\u001b[0;34m)\u001b[0m\u001b[0;34m)\u001b[0m\u001b[0;34m,\u001b[0m \u001b[0;34m(\u001b[0m\u001b[0mInteger\u001b[0m\u001b[0;34m(\u001b[0m\u001b[0;36m0\u001b[0m\u001b[0;34m)\u001b[0m\u001b[0;34m,\u001b[0m\u001b[0mInteger\u001b[0m\u001b[0;34m(\u001b[0m\u001b[0;36m1\u001b[0m\u001b[0;34m)\u001b[0m\u001b[0;34m,\u001b[0m\u001b[0mInteger\u001b[0m\u001b[0;34m(\u001b[0m\u001b[0;36m1\u001b[0m\u001b[0;34m)\u001b[0m\u001b[0;34m)\u001b[0m\u001b[0;34m]\u001b[0m\u001b[0;34m,\u001b[0m \u001b[0mctx_grevlex\u001b[0m\u001b[0;34m)\u001b[0m\u001b[0;34m)\u001b[0m\u001b[0;34m\u001b[0m\u001b[0;34m\u001b[0m\u001b[0m\n\u001b[0m",
      "\u001b[0;32m~/Documents/researches/delierium/delierium/JanetBasis.py\u001b[0m in \u001b[0;36mcomplete\u001b[0;34m(l, ctx)\u001b[0m\n\u001b[1;32m    429\u001b[0m \u001b[0;34m\u001b[0m\u001b[0m\n\u001b[1;32m    430\u001b[0m \u001b[0;32mdef\u001b[0m \u001b[0mcomplete\u001b[0m\u001b[0;34m(\u001b[0m\u001b[0ml\u001b[0m\u001b[0;34m,\u001b[0m \u001b[0mctx\u001b[0m\u001b[0;34m)\u001b[0m\u001b[0;34m:\u001b[0m\u001b[0;34m\u001b[0m\u001b[0;34m\u001b[0m\u001b[0m\n\u001b[0;32m--> 431\u001b[0;31m     \u001b[0mleading_derivatives\u001b[0m \u001b[0;34m=\u001b[0m \u001b[0;34m[\u001b[0m\u001b[0mderivative_to_vec\u001b[0m\u001b[0;34m(\u001b[0m\u001b[0m_\u001b[0m\u001b[0;34m.\u001b[0m\u001b[0mLder\u001b[0m\u001b[0;34m(\u001b[0m\u001b[0;34m)\u001b[0m\u001b[0;34m,\u001b[0m \u001b[0mctx\u001b[0m\u001b[0;34m)\u001b[0m \u001b[0;32mfor\u001b[0m \u001b[0m_\u001b[0m \u001b[0;32min\u001b[0m \u001b[0ml\u001b[0m\u001b[0;34m]\u001b[0m\u001b[0;34m\u001b[0m\u001b[0;34m\u001b[0m\u001b[0m\n\u001b[0m\u001b[1;32m    432\u001b[0m     \u001b[0msort_order\u001b[0m          \u001b[0;34m=\u001b[0m \u001b[0mtuple\u001b[0m\u001b[0;34m(\u001b[0m\u001b[0mreversed\u001b[0m\u001b[0;34m(\u001b[0m\u001b[0;34m[\u001b[0m\u001b[0mi\u001b[0m \u001b[0;32mfor\u001b[0m \u001b[0mi\u001b[0m \u001b[0;32min\u001b[0m \u001b[0mrange\u001b[0m\u001b[0;34m(\u001b[0m\u001b[0mlen\u001b[0m\u001b[0;34m(\u001b[0m\u001b[0mctx\u001b[0m\u001b[0;34m.\u001b[0m\u001b[0m_independent\u001b[0m\u001b[0;34m)\u001b[0m\u001b[0;34m)\u001b[0m\u001b[0;34m]\u001b[0m\u001b[0;34m)\u001b[0m\u001b[0;34m)\u001b[0m\u001b[0;34m\u001b[0m\u001b[0;34m\u001b[0m\u001b[0m\n\u001b[1;32m    433\u001b[0m     \u001b[0mm0\u001b[0m                  \u001b[0;34m=\u001b[0m \u001b[0;34m[\u001b[0m\u001b[0;34m]\u001b[0m\u001b[0;34m\u001b[0m\u001b[0;34m\u001b[0m\u001b[0m\n",
      "\u001b[0;32m~/Documents/researches/delierium/delierium/JanetBasis.py\u001b[0m in \u001b[0;36m<listcomp>\u001b[0;34m(.0)\u001b[0m\n\u001b[1;32m    429\u001b[0m \u001b[0;34m\u001b[0m\u001b[0m\n\u001b[1;32m    430\u001b[0m \u001b[0;32mdef\u001b[0m \u001b[0mcomplete\u001b[0m\u001b[0;34m(\u001b[0m\u001b[0ml\u001b[0m\u001b[0;34m,\u001b[0m \u001b[0mctx\u001b[0m\u001b[0;34m)\u001b[0m\u001b[0;34m:\u001b[0m\u001b[0;34m\u001b[0m\u001b[0;34m\u001b[0m\u001b[0m\n\u001b[0;32m--> 431\u001b[0;31m     \u001b[0mleading_derivatives\u001b[0m \u001b[0;34m=\u001b[0m \u001b[0;34m[\u001b[0m\u001b[0mderivative_to_vec\u001b[0m\u001b[0;34m(\u001b[0m\u001b[0m_\u001b[0m\u001b[0;34m.\u001b[0m\u001b[0mLder\u001b[0m\u001b[0;34m(\u001b[0m\u001b[0;34m)\u001b[0m\u001b[0;34m,\u001b[0m \u001b[0mctx\u001b[0m\u001b[0;34m)\u001b[0m \u001b[0;32mfor\u001b[0m \u001b[0m_\u001b[0m \u001b[0;32min\u001b[0m \u001b[0ml\u001b[0m\u001b[0;34m]\u001b[0m\u001b[0;34m\u001b[0m\u001b[0;34m\u001b[0m\u001b[0m\n\u001b[0m\u001b[1;32m    432\u001b[0m     \u001b[0msort_order\u001b[0m          \u001b[0;34m=\u001b[0m \u001b[0mtuple\u001b[0m\u001b[0;34m(\u001b[0m\u001b[0mreversed\u001b[0m\u001b[0;34m(\u001b[0m\u001b[0;34m[\u001b[0m\u001b[0mi\u001b[0m \u001b[0;32mfor\u001b[0m \u001b[0mi\u001b[0m \u001b[0;32min\u001b[0m \u001b[0mrange\u001b[0m\u001b[0;34m(\u001b[0m\u001b[0mlen\u001b[0m\u001b[0;34m(\u001b[0m\u001b[0mctx\u001b[0m\u001b[0;34m.\u001b[0m\u001b[0m_independent\u001b[0m\u001b[0;34m)\u001b[0m\u001b[0;34m)\u001b[0m\u001b[0;34m]\u001b[0m\u001b[0;34m)\u001b[0m\u001b[0;34m)\u001b[0m\u001b[0;34m\u001b[0m\u001b[0;34m\u001b[0m\u001b[0m\n\u001b[1;32m    433\u001b[0m     \u001b[0mm0\u001b[0m                  \u001b[0;34m=\u001b[0m \u001b[0;34m[\u001b[0m\u001b[0;34m]\u001b[0m\u001b[0;34m\u001b[0m\u001b[0;34m\u001b[0m\u001b[0m\n",
      "\u001b[0;31mAttributeError\u001b[0m: 'tuple' object has no attribute 'Lder'"
     ]
    }
   ],
   "source": [
    "print(complete ([(2, 2 ,3), (3, 0, 3), (3,1,1), (0,1,1)], ctx_grevlex))"
   ]
  },
  {
   "cell_type": "code",
   "execution_count": null,
   "id": "1baf6ec2",
   "metadata": {},
   "outputs": [],
   "source": [
    "print(complete ([(2, 2 ,3), (3, 0, 3), (3,1,1), (0,1,1)], ctx_grlex))"
   ]
  },
  {
   "cell_type": "code",
   "execution_count": null,
   "id": "8a17f6d6",
   "metadata": {},
   "outputs": [],
   "source": [
    "def integrability_condition(e1:Differential_Polynomial, e2:Differential_Polynomial):\n",
    "    pass"
   ]
  },
  {
   "cell_type": "code",
   "execution_count": null,
   "id": "831d472d",
   "metadata": {},
   "outputs": [],
   "source": []
  }
 ],
 "metadata": {
  "kernelspec": {
   "display_name": "SageMath 9.2",
   "language": "sage",
   "name": "sagemath"
  },
  "language_info": {
   "codemirror_mode": {
    "name": "ipython",
    "version": 3
   },
   "file_extension": ".py",
   "mimetype": "text/x-python",
   "name": "python",
   "nbconvert_exporter": "python",
   "pygments_lexer": "ipython3",
   "version": "3.7.6"
  },
  "widgets": {
   "application/vnd.jupyter.widget-state+json": {
    "state": {},
    "version_major": 2,
    "version_minor": 0
   }
  }
 },
 "nbformat": 4,
 "nbformat_minor": 5
}
