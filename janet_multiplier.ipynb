{
 "cells": [
  {
   "cell_type": "raw",
   "id": "44f792a3",
   "metadata": {},
   "source": [
    "#####Janet Division\n",
    "Janet:=proc(u,U,Vars)\n",
    "local nn,m,d,L,i,j,dd,V,v,Mult;\n",
    "#option trace;\n",
    "if degree(u)=0 then RETURN(Vars); fi;\n",
    "nn:=nops(Vars);\n",
    "m:=nops(U);\n",
    "d:=[seq(max(seq(degree(U[j],Vars[i]),j=1..m)),i=1..nn)];\n",
    "Mult:=NULL;\n",
    "    if degree(u,Vars[1])=d[1] then\n",
    "       Mult:=Mult,Vars[1];\n",
    "    fi:\n",
    "for j from 2 to nn do\n",
    "    \tdd:=[seq(degree(u,Vars[l]),l=1..j-1)];\n",
    "    \tV:=NULL:\n",
    "    \tfor v in U do\n",
    "    \t    if [seq(degree(v,Vars[l]),l=1..j-1)]=dd then\n",
    "\t       V:=V,v:\n",
    "\t    fi:\n",
    "\tod:\n",
    "\tif degree(Vars[j],u)=max(seq(degree(Vars[j], v), v in [V])) then\n",
    "\t   Mult:=Mult,Vars[j];\n",
    "\tfi:\n",
    "od:\n",
    "RETURN([Mult]);\n",
    "end:"
   ]
  },
  {
   "cell_type": "code",
   "execution_count": 1,
   "id": "5b9044c7",
   "metadata": {},
   "outputs": [],
   "source": [
    "%display latex\n",
    "from pylie import *\n",
    "from pprint import pprint \n",
    "from collections.abc import Iterable\n",
    "import functools\n",
    "from operator import mul, sub\n",
    "from pprint import pprint\n",
    "from IPython.core.debugger import set_trace"
   ]
  },
  {
   "cell_type": "code",
   "execution_count": 2,
   "id": "6a332be9",
   "metadata": {},
   "outputs": [
    {
     "name": "stdout",
     "output_type": "stream",
     "text": [
      "<class 'sage.symbolic.expression.Expression'>\n"
     ]
    }
   ],
   "source": [
    "var (\"x1 x2 x3\")\n",
    "print (x1.__class__)\n",
    "m = ((x1**2)*(x2**2)*(x3**3), (x1**3)*(x3**3), (x1**3)*x2*x3, x2*x3)"
   ]
  },
  {
   "cell_type": "code",
   "execution_count": 3,
   "id": "9e53fb08",
   "metadata": {},
   "outputs": [
    {
     "name": "stdout",
     "output_type": "stream",
     "text": [
      "x1^2*x2^2*x3^3 :: [x3, x2, x1]\n",
      "x1^3*x3^3 :: [x3, x1]\n",
      "x1^3*x2*x3 :: [x2, x1]\n",
      "x2*x3 :: [x2]\n"
     ]
    }
   ],
   "source": [
    "print(m [0], \"::\", multipliers (m[0], m, (x3,x2,x1)))\n",
    "print(m [1], \"::\", multipliers (m[1], m, (x3,x2,x1)))\n",
    "print(m [2], \"::\", multipliers (m[2], m, (x3,x2,x1)))\n",
    "print(m [3], \"::\", multipliers (m[3], m, (x3,x2,x1)))"
   ]
  },
  {
   "cell_type": "code",
   "execution_count": 4,
   "id": "1c2035ed",
   "metadata": {},
   "outputs": [
    {
     "name": "stdout",
     "output_type": "stream",
     "text": [
      "(2, 2, 3) :: ([2, 1, 0], set())\n",
      "(3, 0, 3) :: ([2, 0], {1})\n",
      "(3, 1, 1) :: ([1, 0], {2})\n",
      "(0, 1, 1) :: ([1], {0, 2})\n"
     ]
    }
   ],
   "source": [
    "m = ((2,2,3), (3,0,3), (3,1,1), (0,1,1))\n",
    "print(m [0], \"::\", vec_multipliers (m[0], m, (2,1,0)))\n",
    "print(m [1], \"::\", vec_multipliers (m[1], m, (2,1,0)))\n",
    "print(m [2], \"::\", vec_multipliers (m[2], m, (2,1,0)))\n",
    "print(m [3], \"::\", vec_multipliers (m[3], m, (2,1,0)))"
   ]
  },
  {
   "cell_type": "code",
   "execution_count": 5,
   "id": "a34ee05d",
   "metadata": {},
   "outputs": [],
   "source": [
    "ctx = Context([], [x3,x2,x1], Mgrevlex)"
   ]
  },
  {
   "cell_type": "code",
   "execution_count": 6,
   "id": "3d9b6e86",
   "metadata": {},
   "outputs": [],
   "source": [
    "# now for completion\n",
    "s1=[m[0], m[1]]\n",
    "s2=[m[2], m[3]]\n",
    "inter = []\n",
    "for _m in s1:\n",
    "    mul, nonmul = vec_multipliers (_m, m, (2,1,0))\n",
    "    for nm in nonmul:\n",
    "        hungi = list(_m)\n",
    "        hungi[nm] += 1\n",
    "        inter.append(tuple(hungi))\n",
    "s1.extend(inter)\n",
    "inter = []\n",
    "for _m in s2:\n",
    "    mul, nonmul = vec_multipliers (_m, m, (2,1,0))\n",
    "    for nm in nonmul:\n",
    "        hungi = list(_m)\n",
    "        hungi[nm] += 1\n",
    "        inter.append(tuple(hungi))\n",
    "s2.extend(inter)"
   ]
  },
  {
   "cell_type": "code",
   "execution_count": 7,
   "id": "a1f70288",
   "metadata": {},
   "outputs": [
    {
     "data": {
      "text/html": [
       "<html><script type=\"math/tex; mode=display\">\\newcommand{\\Bold}[1]{\\mathbf{#1}}\\left[\\left(2, 2, 3\\right), \\left(3, 0, 3\\right), \\left(3, 1, 3\\right)\\right]</script></html>"
      ],
      "text/latex": [
       "$$\\newcommand{\\Bold}[1]{\\mathbf{#1}}\\left[\\left(2, 2, 3\\right), \\left(3, 0, 3\\right), \\left(3, 1, 3\\right)\\right]$$"
      ],
      "text/plain": [
       "[(2, 2, 3), (3, 0, 3), (3, 1, 3)]"
      ]
     },
     "execution_count": 7,
     "metadata": {},
     "output_type": "execute_result"
    }
   ],
   "source": [
    "s1"
   ]
  },
  {
   "cell_type": "code",
   "execution_count": 8,
   "id": "5923603b",
   "metadata": {},
   "outputs": [
    {
     "data": {
      "text/html": [
       "<html><script type=\"math/tex; mode=display\">\\newcommand{\\Bold}[1]{\\mathbf{#1}}\\left[\\left(2, 2, 3\\right), \\left(3, 0, 3\\right), \\left(3, 1, 3\\right)\\right]</script></html>"
      ],
      "text/latex": [
       "$$\\newcommand{\\Bold}[1]{\\mathbf{#1}}\\left[\\left(2, 2, 3\\right), \\left(3, 0, 3\\right), \\left(3, 1, 3\\right)\\right]$$"
      ],
      "text/plain": [
       "[(2, 2, 3), (3, 0, 3), (3, 1, 3)]"
      ]
     },
     "execution_count": 8,
     "metadata": {},
     "output_type": "execute_result"
    }
   ],
   "source": [
    "ss1 = Reorder (s1,ctx, ascending = False); ss1"
   ]
  },
  {
   "cell_type": "code",
   "execution_count": 9,
   "id": "ad209b86",
   "metadata": {},
   "outputs": [
    {
     "data": {
      "text/html": [
       "<html><script type=\"math/tex; mode=display\">\\newcommand{\\Bold}[1]{\\mathbf{#1}}\\left[\\left(3, 1, 1\\right), \\left(0, 1, 1\\right), \\left(3, 1, 2\\right), \\left(1, 1, 1\\right), \\left(0, 1, 2\\right)\\right]</script></html>"
      ],
      "text/latex": [
       "$$\\newcommand{\\Bold}[1]{\\mathbf{#1}}\\left[\\left(3, 1, 1\\right), \\left(0, 1, 1\\right), \\left(3, 1, 2\\right), \\left(1, 1, 1\\right), \\left(0, 1, 2\\right)\\right]$$"
      ],
      "text/plain": [
       "[(3, 1, 1), (0, 1, 1), (3, 1, 2), (1, 1, 1), (0, 1, 2)]"
      ]
     },
     "execution_count": 9,
     "metadata": {},
     "output_type": "execute_result"
    }
   ],
   "source": [
    "s2"
   ]
  },
  {
   "cell_type": "code",
   "execution_count": 10,
   "id": "e2fd2f14",
   "metadata": {},
   "outputs": [],
   "source": [
    "ss2 = Reorder (s2,ctx, ascending = False)"
   ]
  },
  {
   "cell_type": "code",
   "execution_count": 11,
   "id": "6ae4df41",
   "metadata": {},
   "outputs": [
    {
     "name": "stdout",
     "output_type": "stream",
     "text": [
      "[(0, 1, 1), (0, 1, 2), (1, 1, 1), (3, 1, 1), (3, 1, 2)]\n"
     ]
    }
   ],
   "source": [
    "print (ss2)"
   ]
  },
  {
   "cell_type": "code",
   "execution_count": null,
   "id": "364eb713",
   "metadata": {},
   "outputs": [],
   "source": []
  },
  {
   "cell_type": "code",
   "execution_count": 12,
   "id": "343c5b65",
   "metadata": {},
   "outputs": [],
   "source": [
    "ctx_lex = Context ([], (x1,x2,x3))\n",
    "ctx_grlex = Context ([], (x1,x2,x3),Mgrlex)\n",
    "ctx_grevlex = Context ([], (x1,x2,x3),Mgrevlex)"
   ]
  },
  {
   "cell_type": "code",
   "execution_count": 13,
   "id": "4649c657",
   "metadata": {},
   "outputs": [
    {
     "data": {
      "text/html": [
       "<html><script type=\"math/tex; mode=display\">\\newcommand{\\Bold}[1]{\\mathbf{#1}}\\left(\\left(2, 2, 3\\right), \\left(3, 0, 3\\right), \\left(3, 1, 1\\right), \\left(0, 1, 1\\right)\\right)</script></html>"
      ],
      "text/latex": [
       "$$\\newcommand{\\Bold}[1]{\\mathbf{#1}}\\left(\\left(2, 2, 3\\right), \\left(3, 0, 3\\right), \\left(3, 1, 1\\right), \\left(0, 1, 1\\right)\\right)$$"
      ],
      "text/plain": [
       "((2, 2, 3), (3, 0, 3), (3, 1, 1), (0, 1, 1))"
      ]
     },
     "execution_count": 13,
     "metadata": {},
     "output_type": "execute_result"
    }
   ],
   "source": [
    "m"
   ]
  },
  {
   "cell_type": "code",
   "execution_count": 14,
   "id": "a688c12d",
   "metadata": {},
   "outputs": [
    {
     "name": "stdout",
     "output_type": "stream",
     "text": [
      "[(0, 1, 1), (2, 2, 3), (3, 0, 3), (3, 1, 1)]\n"
     ]
    }
   ],
   "source": [
    "print (Reorder (m, ctx_lex))"
   ]
  },
  {
   "cell_type": "code",
   "execution_count": 15,
   "id": "75b40be3",
   "metadata": {},
   "outputs": [
    {
     "name": "stdout",
     "output_type": "stream",
     "text": [
      "[(0, 1, 1), (2, 2, 3), (3, 0, 3), (3, 1, 1)]\n"
     ]
    }
   ],
   "source": [
    "print (Reorder (m, ctx_grlex))"
   ]
  },
  {
   "cell_type": "code",
   "execution_count": 16,
   "id": "f6adcab9",
   "metadata": {},
   "outputs": [
    {
     "name": "stdout",
     "output_type": "stream",
     "text": [
      "[(0, 1, 1), (2, 2, 3), (3, 0, 3), (3, 1, 1)]\n"
     ]
    }
   ],
   "source": [
    "print (Reorder (m, ctx_grevlex))"
   ]
  },
  {
   "cell_type": "code",
   "execution_count": 17,
   "id": "dda4b2cc",
   "metadata": {},
   "outputs": [],
   "source": [
    "lulu = Mgrevlex ((), (1,2,3))"
   ]
  },
  {
   "cell_type": "code",
   "execution_count": 18,
   "id": "9af6bcac",
   "metadata": {},
   "outputs": [
    {
     "name": "stdout",
     "output_type": "stream",
     "text": [
      "[ 1  1  1]\n",
      "[ 0  0  0]\n",
      "[ 0  0 -1]\n",
      "[ 0 -1  0]\n",
      "[-1  0  0]\n"
     ]
    }
   ],
   "source": [
    "print(lulu)"
   ]
  },
  {
   "cell_type": "code",
   "execution_count": 19,
   "id": "1d007e02",
   "metadata": {},
   "outputs": [],
   "source": [
    "grev = [[1,1,1], [0,0,-1],[0,-1,0]]"
   ]
  },
  {
   "cell_type": "code",
   "execution_count": 20,
   "id": "e3c0499d",
   "metadata": {},
   "outputs": [],
   "source": [
    "lulu = Mgrlex ((), (1,2,3))"
   ]
  },
  {
   "cell_type": "code",
   "execution_count": 21,
   "id": "92e9faeb",
   "metadata": {},
   "outputs": [
    {
     "name": "stdout",
     "output_type": "stream",
     "text": [
      "[1 1 1]\n",
      "[0 0 0]\n",
      "[1 0 0]\n",
      "[0 1 0]\n",
      "[0 0 1]\n"
     ]
    }
   ],
   "source": [
    "print(lulu)"
   ]
  },
  {
   "cell_type": "code",
   "execution_count": 22,
   "id": "ecb32fd5",
   "metadata": {},
   "outputs": [],
   "source": [
    "gr = [[1,1,1], [0,1,0],[1,0,0]]"
   ]
  },
  {
   "cell_type": "code",
   "execution_count": 23,
   "id": "93359c45",
   "metadata": {},
   "outputs": [
    {
     "data": {
      "text/html": [
       "<html><script type=\"math/tex; mode=display\">\\newcommand{\\Bold}[1]{\\mathbf{#1}}\\left[\\left[1, 1, 1\\right], \\left[0, 1, 0\\right], \\left[1, 0, 0\\right]\\right]</script></html>"
      ],
      "text/latex": [
       "$$\\newcommand{\\Bold}[1]{\\mathbf{#1}}\\left[\\left[1, 1, 1\\right], \\left[0, 1, 0\\right], \\left[1, 0, 0\\right]\\right]$$"
      ],
      "text/plain": [
       "[[1, 1, 1], [0, 1, 0], [1, 0, 0]]"
      ]
     },
     "execution_count": 23,
     "metadata": {},
     "output_type": "execute_result"
    }
   ],
   "source": [
    "gr"
   ]
  },
  {
   "cell_type": "code",
   "execution_count": 24,
   "id": "f49b1364",
   "metadata": {},
   "outputs": [],
   "source": [
    "var ('x y z t')\n",
    "ctx1 = Context ([], (x,y,z,t)) \n",
    "ctx2 = Context ([], (x,y,z,t), Mgrlex)\n",
    "ctx3 = Context ([], (x,y,z,t), Mgrevlex)"
   ]
  },
  {
   "cell_type": "code",
   "execution_count": 25,
   "id": "96295686",
   "metadata": {},
   "outputs": [
    {
     "data": {
      "text/html": [
       "<html><script type=\"math/tex; mode=display\">\\newcommand{\\Bold}[1]{\\mathbf{#1}}\\verb|<pylie.JanetBasis.Differential_Vector|\\phantom{\\verb!x!}\\verb|object|\\phantom{\\verb!x!}\\verb|at|\\phantom{\\verb!x!}\\verb|0x7fd3211169a0>|</script></html>"
      ],
      "text/latex": [
       "$$\\newcommand{\\Bold}[1]{\\mathbf{#1}}\\verb|<pylie.JanetBasis.Differential_Vector|\\phantom{\\verb!x!}\\verb|object|\\phantom{\\verb!x!}\\verb|at|\\phantom{\\verb!x!}\\verb|0x7fd3211169a0>|$$"
      ],
      "text/plain": [
       "<pylie.JanetBasis.Differential_Vector object at 0x7fd3211169a0>"
      ]
     },
     "execution_count": 25,
     "metadata": {},
     "output_type": "execute_result"
    }
   ],
   "source": [
    "Differential_Vector ((0,0,0,0), ctx = ctx1)"
   ]
  },
  {
   "cell_type": "code",
   "execution_count": 26,
   "id": "4c08813d",
   "metadata": {},
   "outputs": [],
   "source": [
    "a1 = Differential_Vector ((0,0,0,0), ctx = ctx2)\n",
    "a2 = Differential_Vector ((0,1,0,0), ctx = ctx2)"
   ]
  },
  {
   "cell_type": "code",
   "execution_count": 27,
   "id": "e2cc055d",
   "metadata": {},
   "outputs": [
    {
     "data": {
      "text/html": [
       "<html><script type=\"math/tex; mode=display\">\\newcommand{\\Bold}[1]{\\mathbf{#1}}\\verb|<pylie.JanetBasis.Differential_Vector|\\phantom{\\verb!x!}\\verb|object|\\phantom{\\verb!x!}\\verb|at|\\phantom{\\verb!x!}\\verb|0x7fd321bdd8e0>|</script></html>"
      ],
      "text/latex": [
       "$$\\newcommand{\\Bold}[1]{\\mathbf{#1}}\\verb|<pylie.JanetBasis.Differential_Vector|\\phantom{\\verb!x!}\\verb|object|\\phantom{\\verb!x!}\\verb|at|\\phantom{\\verb!x!}\\verb|0x7fd321bdd8e0>|$$"
      ],
      "text/plain": [
       "<pylie.JanetBasis.Differential_Vector object at 0x7fd321bdd8e0>"
      ]
     },
     "execution_count": 27,
     "metadata": {},
     "output_type": "execute_result"
    }
   ],
   "source": [
    "Differential_Vector ((0,0,0,0), ctx = ctx3)"
   ]
  },
  {
   "cell_type": "code",
   "execution_count": 28,
   "id": "8438a695",
   "metadata": {},
   "outputs": [
    {
     "data": {
      "text/html": [
       "<html><script type=\"math/tex; mode=display\">\\newcommand{\\Bold}[1]{\\mathbf{#1}}\\mathrm{False}</script></html>"
      ],
      "text/latex": [
       "$$\\newcommand{\\Bold}[1]{\\mathbf{#1}}\\mathrm{False}$$"
      ],
      "text/plain": [
       "False"
      ]
     },
     "execution_count": 28,
     "metadata": {},
     "output_type": "execute_result"
    }
   ],
   "source": [
    "a1<a2"
   ]
  },
  {
   "cell_type": "code",
   "execution_count": 29,
   "id": "14076317",
   "metadata": {
    "tags": []
   },
   "outputs": [
    {
     "name": "stdout",
     "output_type": "stream",
     "text": [
      "[(3, 1, 1), (3, 0, 3), (2, 2, 3), (0, 1, 1)]\n"
     ]
    }
   ],
   "source": [
    "m1 = sorted(map (lambda _ : Differential_Vector(_, ctx1), ((2, 2 ,3), (3, 0, 3), (3,1,1), (0,1,1))))\n",
    "print ([_._e for _ in m1])"
   ]
  },
  {
   "cell_type": "code",
   "execution_count": null,
   "id": "cdb8d473",
   "metadata": {},
   "outputs": [],
   "source": []
  },
  {
   "cell_type": "code",
   "execution_count": 30,
   "id": "b745ea78",
   "metadata": {},
   "outputs": [
    {
     "name": "stdout",
     "output_type": "stream",
     "text": [
      "[(0, 1, 1), (3, 1, 1), (3, 0, 3), (2, 2, 3)]\n"
     ]
    }
   ],
   "source": [
    "m2 = reversed(sorted(map (lambda _ : Differential_Vector(_, ctx2), ((2, 2 ,3), (3, 0, 3), (3,1,1), (0,1,1)))))\n",
    "print ([_._e for _ in m2])"
   ]
  },
  {
   "cell_type": "code",
   "execution_count": 31,
   "id": "0c3e7c0f",
   "metadata": {},
   "outputs": [
    {
     "name": "stdout",
     "output_type": "stream",
     "text": [
      "[(2, 2, 3), (3, 0, 3), (3, 1, 1), (0, 1, 1)]\n"
     ]
    }
   ],
   "source": [
    "m3 = sorted(map (lambda _ : Differential_Vector(_, ctx3), ((2, 2 ,3), (3, 0, 3), (3,1,1), (0,1,1))))\n",
    "print ([_._e for _ in m3])"
   ]
  },
  {
   "cell_type": "code",
   "execution_count": 32,
   "id": "f6c1c51b",
   "metadata": {},
   "outputs": [
    {
     "ename": "NameError",
     "evalue": "name 'complete' is not defined",
     "output_type": "error",
     "traceback": [
      "\u001b[0;31m---------------------------------------------------------------------------\u001b[0m",
      "\u001b[0;31mNameError\u001b[0m                                 Traceback (most recent call last)",
      "\u001b[0;32m<ipython-input-32-84c6d620d396>\u001b[0m in \u001b[0;36m<module>\u001b[0;34m\u001b[0m\n\u001b[0;32m----> 1\u001b[0;31m \u001b[0mprint\u001b[0m\u001b[0;34m(\u001b[0m\u001b[0mcomplete\u001b[0m \u001b[0;34m(\u001b[0m\u001b[0;34m[\u001b[0m\u001b[0;34m(\u001b[0m\u001b[0mInteger\u001b[0m\u001b[0;34m(\u001b[0m\u001b[0;36m2\u001b[0m\u001b[0;34m)\u001b[0m\u001b[0;34m,\u001b[0m \u001b[0mInteger\u001b[0m\u001b[0;34m(\u001b[0m\u001b[0;36m2\u001b[0m\u001b[0;34m)\u001b[0m \u001b[0;34m,\u001b[0m\u001b[0mInteger\u001b[0m\u001b[0;34m(\u001b[0m\u001b[0;36m3\u001b[0m\u001b[0;34m)\u001b[0m\u001b[0;34m)\u001b[0m\u001b[0;34m,\u001b[0m \u001b[0;34m(\u001b[0m\u001b[0mInteger\u001b[0m\u001b[0;34m(\u001b[0m\u001b[0;36m3\u001b[0m\u001b[0;34m)\u001b[0m\u001b[0;34m,\u001b[0m \u001b[0mInteger\u001b[0m\u001b[0;34m(\u001b[0m\u001b[0;36m0\u001b[0m\u001b[0;34m)\u001b[0m\u001b[0;34m,\u001b[0m \u001b[0mInteger\u001b[0m\u001b[0;34m(\u001b[0m\u001b[0;36m3\u001b[0m\u001b[0;34m)\u001b[0m\u001b[0;34m)\u001b[0m\u001b[0;34m,\u001b[0m \u001b[0;34m(\u001b[0m\u001b[0mInteger\u001b[0m\u001b[0;34m(\u001b[0m\u001b[0;36m3\u001b[0m\u001b[0;34m)\u001b[0m\u001b[0;34m,\u001b[0m\u001b[0mInteger\u001b[0m\u001b[0;34m(\u001b[0m\u001b[0;36m1\u001b[0m\u001b[0;34m)\u001b[0m\u001b[0;34m,\u001b[0m\u001b[0mInteger\u001b[0m\u001b[0;34m(\u001b[0m\u001b[0;36m1\u001b[0m\u001b[0;34m)\u001b[0m\u001b[0;34m)\u001b[0m\u001b[0;34m,\u001b[0m \u001b[0;34m(\u001b[0m\u001b[0mInteger\u001b[0m\u001b[0;34m(\u001b[0m\u001b[0;36m0\u001b[0m\u001b[0;34m)\u001b[0m\u001b[0;34m,\u001b[0m\u001b[0mInteger\u001b[0m\u001b[0;34m(\u001b[0m\u001b[0;36m1\u001b[0m\u001b[0;34m)\u001b[0m\u001b[0;34m,\u001b[0m\u001b[0mInteger\u001b[0m\u001b[0;34m(\u001b[0m\u001b[0;36m1\u001b[0m\u001b[0;34m)\u001b[0m\u001b[0;34m)\u001b[0m\u001b[0;34m]\u001b[0m\u001b[0;34m,\u001b[0m \u001b[0mctx_grevlex\u001b[0m\u001b[0;34m)\u001b[0m\u001b[0;34m)\u001b[0m\u001b[0;34m\u001b[0m\u001b[0;34m\u001b[0m\u001b[0m\n\u001b[0m",
      "\u001b[0;31mNameError\u001b[0m: name 'complete' is not defined"
     ]
    }
   ],
   "source": [
    "print(complete ([(2, 2 ,3), (3, 0, 3), (3,1,1), (0,1,1)], ctx_grevlex))"
   ]
  },
  {
   "cell_type": "code",
   "execution_count": null,
   "id": "3454adeb",
   "metadata": {},
   "outputs": [],
   "source": [
    "print(complete ([(2, 2 ,3), (3, 0, 3), (3,1,1), (0,1,1)], ctx_grlex))"
   ]
  },
  {
   "cell_type": "code",
   "execution_count": null,
   "id": "26eaf883",
   "metadata": {},
   "outputs": [],
   "source": [
    "def integrability_condition(e1:Differential_Polynomial, e2:Differential_Polynomial):\n",
    "    pass"
   ]
  },
  {
   "cell_type": "code",
   "execution_count": null,
   "id": "4d5c7854",
   "metadata": {},
   "outputs": [],
   "source": []
  }
 ],
 "metadata": {
  "kernelspec": {
   "display_name": "SageMath 9.2",
   "language": "sage",
   "name": "sagemath"
  },
  "language_info": {
   "codemirror_mode": {
    "name": "ipython",
    "version": 3
   },
   "file_extension": ".py",
   "mimetype": "text/x-python",
   "name": "python",
   "nbconvert_exporter": "python",
   "pygments_lexer": "ipython3",
   "version": "3.7.6"
  },
  "widgets": {
   "application/vnd.jupyter.widget-state+json": {
    "state": {},
    "version_major": 2,
    "version_minor": 0
   }
  }
 },
 "nbformat": 4,
 "nbformat_minor": 5
}
