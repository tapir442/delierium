{
 "cells": [
  {
   "cell_type": "raw",
   "id": "961a5edd",
   "metadata": {},
   "source": [
    "#####Janet Division\n",
    "Janet:=proc(u,U,Vars)\n",
    "local nn,m,d,L,i,j,dd,V,v,Mult;\n",
    "#option trace;\n",
    "if degree(u)=0 then RETURN(Vars); fi;\n",
    "nn:=nops(Vars);\n",
    "m:=nops(U);\n",
    "d:=[seq(max(seq(degree(U[j],Vars[i]),j=1..m)),i=1..nn)];\n",
    "Mult:=NULL;\n",
    "    if degree(u,Vars[1])=d[1] then\n",
    "       Mult:=Mult,Vars[1];\n",
    "    fi:\n",
    "for j from 2 to nn do\n",
    "    \tdd:=[seq(degree(u,Vars[l]),l=1..j-1)];\n",
    "    \tV:=NULL:\n",
    "    \tfor v in U do\n",
    "    \t    if [seq(degree(v,Vars[l]),l=1..j-1)]=dd then\n",
    "\t       V:=V,v:\n",
    "\t    fi:\n",
    "\tod:\n",
    "\tif degree(Vars[j],u)=max(seq(degree(Vars[j], v), v in [V])) then\n",
    "\t   Mult:=Mult,Vars[j];\n",
    "\tfi:\n",
    "od:\n",
    "RETURN([Mult]);\n",
    "end:"
   ]
  },
  {
   "cell_type": "code",
   "execution_count": 1,
   "id": "9d5d2d2d",
   "metadata": {},
   "outputs": [],
   "source": [
    "%display latex\n",
    "from pylie import *\n",
    "from pprint import pprint \n",
    "from collections.abc import Iterable\n",
    "import functools\n",
    "from operator import mul, sub\n",
    "from pprint import pprint\n",
    "from IPython.core.debugger import set_trace"
   ]
  },
  {
   "cell_type": "code",
   "execution_count": 2,
   "id": "7dc35a22",
   "metadata": {},
   "outputs": [
    {
     "name": "stdout",
     "output_type": "stream",
     "text": [
      "<class 'sage.symbolic.expression.Expression'>\n"
     ]
    }
   ],
   "source": [
    "var (\"x1 x2 x3\")\n",
    "print (x1.__class__)\n",
    "m = ((x1**2)*(x2**2)*(x3**3), (x1**3)*(x3**3), (x1**3)*x2*x3, x2*x3)"
   ]
  },
  {
   "cell_type": "code",
   "execution_count": 3,
   "id": "2b7c3a72",
   "metadata": {},
   "outputs": [
    {
     "name": "stdout",
     "output_type": "stream",
     "text": [
      "x1^2*x2^2*x3^3 :: [x3, x2, x1]\n",
      "x1^3*x3^3 :: [x3, x1]\n",
      "x1^3*x2*x3 :: [x2, x1]\n",
      "x2*x3 :: [x2]\n"
     ]
    }
   ],
   "source": [
    "print(m [0], \"::\", multipliers (m[0], m, (x3,x2,x1)))\n",
    "print(m [1], \"::\", multipliers (m[1], m, (x3,x2,x1)))\n",
    "print(m [2], \"::\", multipliers (m[2], m, (x3,x2,x1)))\n",
    "print(m [3], \"::\", multipliers (m[3], m, (x3,x2,x1)))"
   ]
  },
  {
   "cell_type": "code",
   "execution_count": 4,
   "id": "8a4bbf58-7b64-4009-b7f4-d1c510994870",
   "metadata": {},
   "outputs": [
    {
     "name": "stdout",
     "output_type": "stream",
     "text": [
      "(2, 2, 3) :: ([2, 1, 0], set())\n",
      "(3, 0, 3) :: ([2, 0], {1})\n",
      "(3, 1, 1) :: ([1, 0], {2})\n",
      "(0, 1, 1) :: ([1], {0, 2})\n"
     ]
    }
   ],
   "source": [
    "m = ((2,2,3), (3,0,3), (3,1,1), (0,1,1))\n",
    "print(m [0], \"::\", vec_multipliers (m[0], m, (2,1,0)))\n",
    "print(m [1], \"::\", vec_multipliers (m[1], m, (2,1,0)))\n",
    "print(m [2], \"::\", vec_multipliers (m[2], m, (2,1,0)))\n",
    "print(m [3], \"::\", vec_multipliers (m[3], m, (2,1,0)))"
   ]
  },
  {
   "cell_type": "code",
   "execution_count": 5,
   "id": "8f1d927d-284b-49ee-9d0b-6f90010b9159",
   "metadata": {},
   "outputs": [],
   "source": [
    "ctx = Context([], [x3,x2,x1], Mgrevlex)"
   ]
  },
  {
   "cell_type": "code",
   "execution_count": 6,
   "id": "dbd8594f-b5f7-48b0-ad48-aee5ba8b5fd0",
   "metadata": {},
   "outputs": [],
   "source": [
    "# now for completion\n",
    "s1=[m[0], m[1]]\n",
    "s2=[m[2], m[3]]\n",
    "inter = []\n",
    "for _m in s1:\n",
    "    mul, nonmul = vec_multipliers (_m, m, (2,1,0))\n",
    "    for nm in nonmul:\n",
    "        hungi = list(_m)\n",
    "        hungi[nm] += 1\n",
    "        inter.append(tuple(hungi))\n",
    "s1.extend(inter)\n",
    "inter = []\n",
    "for _m in s2:\n",
    "    mul, nonmul = vec_multipliers (_m, m, (2,1,0))\n",
    "    for nm in nonmul:\n",
    "        hungi = list(_m)\n",
    "        hungi[nm] += 1\n",
    "        inter.append(tuple(hungi))\n",
    "s2.extend(inter)"
   ]
  },
  {
   "cell_type": "code",
   "execution_count": 7,
   "id": "8e217028-30ce-4ff1-bce0-3d4cedceaf91",
   "metadata": {},
   "outputs": [
    {
     "data": {
      "text/html": [
       "<html><script type=\"math/tex; mode=display\">\\newcommand{\\Bold}[1]{\\mathbf{#1}}\\left[\\left(2, 2, 3\\right), \\left(3, 0, 3\\right), \\left(3, 1, 3\\right)\\right]</script></html>"
      ],
      "text/latex": [
       "$$\\newcommand{\\Bold}[1]{\\mathbf{#1}}\\left[\\left(2, 2, 3\\right), \\left(3, 0, 3\\right), \\left(3, 1, 3\\right)\\right]$$"
      ],
      "text/plain": [
       "[(2, 2, 3), (3, 0, 3), (3, 1, 3)]"
      ]
     },
     "execution_count": 7,
     "metadata": {},
     "output_type": "execute_result"
    }
   ],
   "source": [
    "s1"
   ]
  },
  {
   "cell_type": "code",
   "execution_count": 8,
   "id": "4709eb9f-5ca3-46e7-addf-2d17cd9acb42",
   "metadata": {},
   "outputs": [
    {
     "data": {
      "text/html": [
       "<html><script type=\"math/tex; mode=display\">\\newcommand{\\Bold}[1]{\\mathbf{#1}}\\left[\\left(2, 2, 3\\right), \\left(3, 0, 3\\right), \\left(3, 1, 3\\right)\\right]</script></html>"
      ],
      "text/latex": [
       "$$\\newcommand{\\Bold}[1]{\\mathbf{#1}}\\left[\\left(2, 2, 3\\right), \\left(3, 0, 3\\right), \\left(3, 1, 3\\right)\\right]$$"
      ],
      "text/plain": [
       "[(2, 2, 3), (3, 0, 3), (3, 1, 3)]"
      ]
     },
     "execution_count": 8,
     "metadata": {},
     "output_type": "execute_result"
    }
   ],
   "source": [
    "ss1 = Reorder (s1,ctx, ascending = False); ss1"
   ]
  },
  {
   "cell_type": "code",
   "execution_count": 9,
   "id": "bccc500a-968b-4446-b86e-3424f2ee9a63",
   "metadata": {},
   "outputs": [
    {
     "data": {
      "text/html": [
       "<html><script type=\"math/tex; mode=display\">\\newcommand{\\Bold}[1]{\\mathbf{#1}}\\left[\\left(3, 1, 1\\right), \\left(0, 1, 1\\right), \\left(3, 1, 2\\right), \\left(1, 1, 1\\right), \\left(0, 1, 2\\right)\\right]</script></html>"
      ],
      "text/latex": [
       "$$\\newcommand{\\Bold}[1]{\\mathbf{#1}}\\left[\\left(3, 1, 1\\right), \\left(0, 1, 1\\right), \\left(3, 1, 2\\right), \\left(1, 1, 1\\right), \\left(0, 1, 2\\right)\\right]$$"
      ],
      "text/plain": [
       "[(3, 1, 1), (0, 1, 1), (3, 1, 2), (1, 1, 1), (0, 1, 2)]"
      ]
     },
     "execution_count": 9,
     "metadata": {},
     "output_type": "execute_result"
    }
   ],
   "source": [
    "s2"
   ]
  },
  {
   "cell_type": "code",
   "execution_count": 10,
   "id": "e9958f3f-a2e3-43f0-bc0c-9b0221c5d2ae",
   "metadata": {},
   "outputs": [],
   "source": [
    "ss2 = Reorder (s2,ctx, ascending = False)"
   ]
  },
  {
   "cell_type": "code",
   "execution_count": 11,
   "id": "942114dd-6d45-4db7-b842-71ee23d85127",
   "metadata": {},
   "outputs": [
    {
     "name": "stdout",
     "output_type": "stream",
     "text": [
      "[(0, 1, 1), (0, 1, 2), (1, 1, 1), (3, 1, 1), (3, 1, 2)]\n"
     ]
    }
   ],
   "source": [
    "print (ss2)"
   ]
  },
  {
   "cell_type": "code",
   "execution_count": null,
   "id": "c634fd1b-2e6a-4a0c-993a-665f526662f0",
   "metadata": {},
   "outputs": [],
   "source": []
  },
  {
   "cell_type": "code",
   "execution_count": 12,
   "id": "cd2ca562-05ae-4d35-8b18-4bcf5a8f9d39",
   "metadata": {},
   "outputs": [],
   "source": [
    "ctx_lex = Context ([], (x1,x2,x3))\n",
    "ctx_grlex = Context ([], (x1,x2,x3),Mgrlex)\n",
    "ctx_grevlex = Context ([], (x1,x2,x3),Mgrevlex)"
   ]
  },
  {
   "cell_type": "code",
   "execution_count": 13,
   "id": "99eddf54-e3ef-4389-89c6-d527764b051b",
   "metadata": {},
   "outputs": [
    {
     "data": {
      "text/html": [
       "<html><script type=\"math/tex; mode=display\">\\newcommand{\\Bold}[1]{\\mathbf{#1}}\\left(\\left(2, 2, 3\\right), \\left(3, 0, 3\\right), \\left(3, 1, 1\\right), \\left(0, 1, 1\\right)\\right)</script></html>"
      ],
      "text/latex": [
       "$$\\newcommand{\\Bold}[1]{\\mathbf{#1}}\\left(\\left(2, 2, 3\\right), \\left(3, 0, 3\\right), \\left(3, 1, 1\\right), \\left(0, 1, 1\\right)\\right)$$"
      ],
      "text/plain": [
       "((2, 2, 3), (3, 0, 3), (3, 1, 1), (0, 1, 1))"
      ]
     },
     "execution_count": 13,
     "metadata": {},
     "output_type": "execute_result"
    }
   ],
   "source": [
    "m"
   ]
  },
  {
   "cell_type": "code",
   "execution_count": 14,
   "id": "c0f77152-ae91-4196-959e-238e6eb7f03b",
   "metadata": {},
   "outputs": [
    {
     "name": "stdout",
     "output_type": "stream",
     "text": [
      "[(0, 1, 1), (2, 2, 3), (3, 0, 3), (3, 1, 1)]\n"
     ]
    }
   ],
   "source": [
    "print (Reorder (m, ctx_lex))"
   ]
  },
  {
   "cell_type": "code",
   "execution_count": 15,
   "id": "03114d66-781d-418b-9e9f-3b076509cfae",
   "metadata": {},
   "outputs": [
    {
     "name": "stdout",
     "output_type": "stream",
     "text": [
      "[(0, 1, 1), (2, 2, 3), (3, 0, 3), (3, 1, 1)]\n"
     ]
    }
   ],
   "source": [
    "print (Reorder (m, ctx_grlex))"
   ]
  },
  {
   "cell_type": "code",
   "execution_count": 16,
   "id": "e6ade379-d51a-4c3a-98bc-3c164a32b115",
   "metadata": {},
   "outputs": [
    {
     "name": "stdout",
     "output_type": "stream",
     "text": [
      "[(0, 1, 1), (2, 2, 3), (3, 0, 3), (3, 1, 1)]\n"
     ]
    }
   ],
   "source": [
    "print (Reorder (m, ctx_grevlex))"
   ]
  },
  {
   "cell_type": "code",
   "execution_count": 17,
   "id": "7835584b-6c62-4eab-b680-b92b4cf297c3",
   "metadata": {},
   "outputs": [],
   "source": [
    "lulu = Mgrevlex ((), (1,2,3))"
   ]
  },
  {
   "cell_type": "code",
   "execution_count": 18,
   "id": "62d45101-5dc3-4f39-a400-546adb1cd51d",
   "metadata": {},
   "outputs": [
    {
     "name": "stdout",
     "output_type": "stream",
     "text": [
      "[ 1  1  1]\n",
      "[ 0  0  0]\n",
      "[ 0  0 -1]\n",
      "[ 0 -1  0]\n",
      "[-1  0  0]\n"
     ]
    }
   ],
   "source": [
    "print(lulu)"
   ]
  },
  {
   "cell_type": "code",
   "execution_count": 19,
   "id": "1b2a1b1d-1073-4715-a114-0213fbe54db3",
   "metadata": {},
   "outputs": [],
   "source": [
    "grev = [[1,1,1], [0,0,-1],[0,-1,0]]"
   ]
  },
  {
   "cell_type": "code",
   "execution_count": 20,
   "id": "801a44df-ee56-4d2b-825f-7217e1fe0aad",
   "metadata": {},
   "outputs": [],
   "source": [
    "lulu = Mgrlex ((), (1,2,3))"
   ]
  },
  {
   "cell_type": "code",
   "execution_count": 21,
   "id": "f4818011-7579-4d03-b607-cc0e90572f40",
   "metadata": {},
   "outputs": [
    {
     "name": "stdout",
     "output_type": "stream",
     "text": [
      "[1 1 1]\n",
      "[0 0 0]\n",
      "[1 0 0]\n",
      "[0 1 0]\n",
      "[0 0 1]\n"
     ]
    }
   ],
   "source": [
    "print(lulu)"
   ]
  },
  {
   "cell_type": "code",
   "execution_count": 22,
   "id": "71e1e4a0-88b3-4336-a180-e2a3078d1ebe",
   "metadata": {},
   "outputs": [],
   "source": [
    "gr = [[1,1,1], [0,1,0],[1,0,0]]"
   ]
  },
  {
   "cell_type": "code",
   "execution_count": 23,
   "id": "ac945e0c-5747-4ddc-b72b-54e6f97a65b0",
   "metadata": {},
   "outputs": [
    {
     "data": {
      "text/html": [
       "<html><script type=\"math/tex; mode=display\">\\newcommand{\\Bold}[1]{\\mathbf{#1}}\\left[\\left[1, 1, 1\\right], \\left[0, 1, 0\\right], \\left[1, 0, 0\\right]\\right]</script></html>"
      ],
      "text/latex": [
       "$$\\newcommand{\\Bold}[1]{\\mathbf{#1}}\\left[\\left[1, 1, 1\\right], \\left[0, 1, 0\\right], \\left[1, 0, 0\\right]\\right]$$"
      ],
      "text/plain": [
       "[[1, 1, 1], [0, 1, 0], [1, 0, 0]]"
      ]
     },
     "execution_count": 23,
     "metadata": {},
     "output_type": "execute_result"
    }
   ],
   "source": [
    "gr"
   ]
  },
  {
   "cell_type": "code",
   "execution_count": 24,
   "id": "f561561d-0e35-403b-b20f-5a20152791f4",
   "metadata": {},
   "outputs": [],
   "source": [
    "class Differential_Vector:\n",
    "    def __init__ (self,e, ctx):\n",
    "        self._e = self.obj = e\n",
    "        if ctx._weight == Mlex:\n",
    "            M = matrix.identity(len(self._e))\n",
    "        elif ctx._weight == Mgrlex:\n",
    "            M = matrix (len(self._e))\n",
    "            for i in range(len(self._e)):\n",
    "                M [0, i] = 1\n",
    "            for i in range (len(self._e) - 1):\n",
    "                M [i+1, i] = 1\n",
    "        elif ctx._weight == Mgrevlex:\n",
    "            M = matrix (len(self._e))\n",
    "            for i in range(len(self._e)):\n",
    "                M [0, i] = 1\n",
    "            for i in range (1,len(self._e)):\n",
    "                M [len(self._e)-i, i] = -1\n",
    "        self.M = M\n",
    "    def mycmp (self, a, b):\n",
    "        a = self.M*vector(a)\n",
    "        b = self.M*vector(b)\n",
    "        v = [_a - _b for _a,_b in zip (a, b)]\n",
    "        for _ in v:\n",
    "            if _ < 0:\n",
    "                return -1\n",
    "            if _ > 0:\n",
    "                return 1\n",
    "        return 0\n",
    "    def __lt__(self, other):\n",
    "        return self.mycmp(self.obj, other.obj) < 0\n",
    "    def __gt__(self, other):\n",
    "        return self.mycmp(self.obj, other.obj) > 0\n",
    "    def __eq__(self, other):\n",
    "        return self.mycmp(self.obj, other.obj) == 0\n",
    "    def __le__(self, other):\n",
    "        return self.mycmp(self.obj, other.obj) <= 0\n",
    "    def __ge__(self, other):\n",
    "        return self.mycmp(self.obj, other.obj) >= 0\n",
    "    def __ne__(self, other):\n",
    "        return self.mycmp(self.obj, other.obj) != 0\n",
    "        "
   ]
  },
  {
   "cell_type": "code",
   "execution_count": 25,
   "id": "fd814cb5-a3a5-4b62-909c-895260668e81",
   "metadata": {},
   "outputs": [],
   "source": [
    "var ('x y z t')\n",
    "ctx1 = Context ([], (x,y,z,t)) \n",
    "ctx2 = Context ([], (x,y,z,t), Mgrlex)\n",
    "ctx3 = Context ([], (x,y,z,t), Mgrevlex)"
   ]
  },
  {
   "cell_type": "code",
   "execution_count": 26,
   "id": "896e2fed-0bcc-4da2-a261-856492b2b736",
   "metadata": {},
   "outputs": [
    {
     "data": {
      "text/html": [
       "<html><script type=\"math/tex; mode=display\">\\newcommand{\\Bold}[1]{\\mathbf{#1}}\\verb|<__main__.Differential_Vector|\\phantom{\\verb!x!}\\verb|object|\\phantom{\\verb!x!}\\verb|at|\\phantom{\\verb!x!}\\verb|0x7f47a99b78e0>|</script></html>"
      ],
      "text/latex": [
       "$$\\newcommand{\\Bold}[1]{\\mathbf{#1}}\\verb|<__main__.Differential_Vector|\\phantom{\\verb!x!}\\verb|object|\\phantom{\\verb!x!}\\verb|at|\\phantom{\\verb!x!}\\verb|0x7f47a99b78e0>|$$"
      ],
      "text/plain": [
       "<__main__.Differential_Vector object at 0x7f47a99b78e0>"
      ]
     },
     "execution_count": 26,
     "metadata": {},
     "output_type": "execute_result"
    }
   ],
   "source": [
    "Differential_Vector ((0,0,0,0), ctx = ctx1)"
   ]
  },
  {
   "cell_type": "code",
   "execution_count": 27,
   "id": "6cf2fa71-3bf3-4c77-a10e-044b8c8f1ab4",
   "metadata": {},
   "outputs": [],
   "source": [
    "a1 = Differential_Vector ((0,0,0,0), ctx = ctx2)\n",
    "a2 = Differential_Vector ((0,1,0,0), ctx = ctx2)"
   ]
  },
  {
   "cell_type": "code",
   "execution_count": 28,
   "id": "b63dbc61-d86c-4f98-89cc-4722282eb93e",
   "metadata": {},
   "outputs": [
    {
     "data": {
      "text/html": [
       "<html><script type=\"math/tex; mode=display\">\\newcommand{\\Bold}[1]{\\mathbf{#1}}\\verb|<__main__.Differential_Vector|\\phantom{\\verb!x!}\\verb|object|\\phantom{\\verb!x!}\\verb|at|\\phantom{\\verb!x!}\\verb|0x7f47a7a57f70>|</script></html>"
      ],
      "text/latex": [
       "$$\\newcommand{\\Bold}[1]{\\mathbf{#1}}\\verb|<__main__.Differential_Vector|\\phantom{\\verb!x!}\\verb|object|\\phantom{\\verb!x!}\\verb|at|\\phantom{\\verb!x!}\\verb|0x7f47a7a57f70>|$$"
      ],
      "text/plain": [
       "<__main__.Differential_Vector object at 0x7f47a7a57f70>"
      ]
     },
     "execution_count": 28,
     "metadata": {},
     "output_type": "execute_result"
    }
   ],
   "source": [
    "Differential_Vector ((0,0,0,0), ctx = ctx3)"
   ]
  },
  {
   "cell_type": "code",
   "execution_count": 29,
   "id": "a915f274-4bd8-42ba-981a-eb37b6a06a2f",
   "metadata": {},
   "outputs": [
    {
     "data": {
      "text/html": [
       "<html><script type=\"math/tex; mode=display\">\\newcommand{\\Bold}[1]{\\mathbf{#1}}\\mathrm{True}</script></html>"
      ],
      "text/latex": [
       "$$\\newcommand{\\Bold}[1]{\\mathbf{#1}}\\mathrm{True}$$"
      ],
      "text/plain": [
       "True"
      ]
     },
     "execution_count": 29,
     "metadata": {},
     "output_type": "execute_result"
    }
   ],
   "source": [
    "a1<a2"
   ]
  },
  {
   "cell_type": "code",
   "execution_count": 30,
   "id": "eb499cf2-282c-44c9-bd4e-b1e8dfa9296e",
   "metadata": {},
   "outputs": [
    {
     "name": "stdout",
     "output_type": "stream",
     "text": [
      "[(0, 1, 1), (2, 2, 3), (3, 0, 3), (3, 1, 1)]\n"
     ]
    }
   ],
   "source": [
    "m1 = sorted(map (lambda _ : Differential_Vector(_, ctx1), ((2, 2 ,3), (3, 0, 3), (3,1,1), (0,1,1))))\n",
    "print ([_._e for _ in m1])"
   ]
  },
  {
   "cell_type": "code",
   "execution_count": null,
   "id": "71a2dc99-a67d-4f54-897e-71894b2ef62d",
   "metadata": {},
   "outputs": [],
   "source": []
  },
  {
   "cell_type": "code",
   "execution_count": 31,
   "id": "d24dfb42-94ac-4ff8-b4a4-44c0a5aea27b",
   "metadata": {},
   "outputs": [
    {
     "name": "stdout",
     "output_type": "stream",
     "text": [
      "[(2, 2, 3), (3, 0, 3), (3, 1, 1), (0, 1, 1)]\n"
     ]
    }
   ],
   "source": [
    "m2 = reversed(sorted(map (lambda _ : Differential_Vector(_, ctx2), ((2, 2 ,3), (3, 0, 3), (3,1,1), (0,1,1)))))\n",
    "print ([_._e for _ in m2])"
   ]
  },
  {
   "cell_type": "code",
   "execution_count": 32,
   "id": "ca011a9a-fdad-4bfa-aee2-ed8e20e0dc3d",
   "metadata": {},
   "outputs": [
    {
     "name": "stdout",
     "output_type": "stream",
     "text": [
      "[(2, 2, 3), (3, 0, 3), (3, 1, 1), (0, 1, 1)]\n"
     ]
    }
   ],
   "source": [
    "m3 = reversed(sorted(map (lambda _ : Differential_Vector(_, ctx3), ((2, 2 ,3), (3, 0, 3), (3,1,1), (0,1,1)))))\n",
    "print ([_._e for _ in m3])"
   ]
  },
  {
   "cell_type": "code",
   "execution_count": 33,
   "id": "43e392a0-9915-4013-88ff-c8a47629294e",
   "metadata": {},
   "outputs": [],
   "source": [
    "def in_class (r, mclass, M, vars):\n",
    "    ''''''\n",
    "    mult, nonmult = vec_multipliers (mclass, M , vars)\n",
    "    return all (vec_degree (x, r) >= vec_degree (x, mclass) for x in mult)  and \\\n",
    "        all (vec_degree(x, r) == vec_degree (x, mclass) for x in nonmult)\n",
    "\n",
    "M0=[]\n",
    "for _s2 in sorted(s2):\n",
    "    for _m in m:\n",
    "        if not in_class (_s2, _m, m, (0,1,2) ):\n",
    "            M0.append (_s2)\n",
    "M0=list(set(M0))    "
   ]
  },
  {
   "cell_type": "code",
   "execution_count": 34,
   "id": "977beef7-7434-45a2-87d6-50ff61ac53fd",
   "metadata": {},
   "outputs": [],
   "source": [
    "s2=M0"
   ]
  },
  {
   "cell_type": "code",
   "execution_count": 35,
   "id": "0d92da23-0391-436e-abc6-8e49666357a5",
   "metadata": {},
   "outputs": [
    {
     "data": {
      "text/html": [
       "<html><script type=\"math/tex; mode=display\">\\newcommand{\\Bold}[1]{\\mathbf{#1}}\\left[\\left(3, 1, 2\\right), \\left(0, 1, 2\\right), \\left(1, 1, 1\\right), \\left(3, 1, 1\\right), \\left(0, 1, 1\\right)\\right]</script></html>"
      ],
      "text/latex": [
       "$$\\newcommand{\\Bold}[1]{\\mathbf{#1}}\\left[\\left(3, 1, 2\\right), \\left(0, 1, 2\\right), \\left(1, 1, 1\\right), \\left(3, 1, 1\\right), \\left(0, 1, 1\\right)\\right]$$"
      ],
      "text/plain": [
       "[(3, 1, 2), (0, 1, 2), (1, 1, 1), (3, 1, 1), (0, 1, 1)]"
      ]
     },
     "execution_count": 35,
     "metadata": {},
     "output_type": "execute_result"
    }
   ],
   "source": [
    "s2"
   ]
  },
  {
   "cell_type": "code",
   "execution_count": 65,
   "id": "a5504ee5-cd14-4bea-88fb-303b1f76a861",
   "metadata": {},
   "outputs": [],
   "source": [
    "def complete (l):\n",
    "    while True:\n",
    "        m0 = []\n",
    "        for m in l :\n",
    "            _, nonmult = vec_multipliers (m , l , (2,1,0))\n",
    "            for nm in nonmult:\n",
    "                _m = list(m)\n",
    "                _m [nm] += 1\n",
    "                if tuple (_m) == (3,2,3):\n",
    "                    set_trace ()\n",
    "                if not any (in_class (tuple(_m), v, l, (2,1,0)) for v in m):\n",
    "                    m0.append (tuple(_m))\n",
    "        if set(m0) == set() or set(m0) == set(l):\n",
    "            return l\n",
    "        l.extend (m0)\n",
    "        l = reversed(sorted(map (lambda _ : Differential_Vector(_, ctx3), list(set(l)))))\n",
    "        l = [_._e for _ in l]                \n",
    "        print (l)\n",
    "            \n",
    "            "
   ]
  },
  {
   "cell_type": "code",
   "execution_count": null,
   "id": "2b14f101-80c9-47f2-b61d-3f4b9f8ecb75",
   "metadata": {},
   "outputs": [
    {
     "name": "stdout",
     "output_type": "stream",
     "text": [
      "[(3, 1, 3), (2, 2, 3), (3, 1, 2), (3, 0, 3), (3, 1, 1), (1, 1, 1), (0, 1, 2), (0, 1, 1)]\n",
      "> \u001b[0;32m<ipython-input-65-6597d6772dc5>\u001b[0m(11)\u001b[0;36mcomplete\u001b[0;34m()\u001b[0m\n",
      "\u001b[0;32m      9 \u001b[0;31m                \u001b[0;32mif\u001b[0m \u001b[0mtuple\u001b[0m \u001b[0;34m(\u001b[0m\u001b[0m_m\u001b[0m\u001b[0;34m)\u001b[0m \u001b[0;34m==\u001b[0m \u001b[0;34m(\u001b[0m\u001b[0mInteger\u001b[0m\u001b[0;34m(\u001b[0m\u001b[0;36m3\u001b[0m\u001b[0;34m)\u001b[0m\u001b[0;34m,\u001b[0m\u001b[0mInteger\u001b[0m\u001b[0;34m(\u001b[0m\u001b[0;36m2\u001b[0m\u001b[0;34m)\u001b[0m\u001b[0;34m,\u001b[0m\u001b[0mInteger\u001b[0m\u001b[0;34m(\u001b[0m\u001b[0;36m3\u001b[0m\u001b[0;34m)\u001b[0m\u001b[0;34m)\u001b[0m\u001b[0;34m:\u001b[0m\u001b[0;34m\u001b[0m\u001b[0;34m\u001b[0m\u001b[0m\n",
      "\u001b[0m\u001b[0;32m     10 \u001b[0;31m                    \u001b[0mset_trace\u001b[0m \u001b[0;34m(\u001b[0m\u001b[0;34m)\u001b[0m\u001b[0;34m\u001b[0m\u001b[0;34m\u001b[0m\u001b[0m\n",
      "\u001b[0m\u001b[0;32m---> 11 \u001b[0;31m                \u001b[0;32mif\u001b[0m \u001b[0;32mnot\u001b[0m \u001b[0min_class\u001b[0m \u001b[0;34m(\u001b[0m\u001b[0mtuple\u001b[0m\u001b[0;34m(\u001b[0m\u001b[0m_m\u001b[0m\u001b[0;34m)\u001b[0m\u001b[0;34m,\u001b[0m \u001b[0mm\u001b[0m\u001b[0;34m,\u001b[0m \u001b[0ml\u001b[0m\u001b[0;34m,\u001b[0m \u001b[0;34m(\u001b[0m\u001b[0mInteger\u001b[0m\u001b[0;34m(\u001b[0m\u001b[0;36m2\u001b[0m\u001b[0;34m)\u001b[0m\u001b[0;34m,\u001b[0m\u001b[0mInteger\u001b[0m\u001b[0;34m(\u001b[0m\u001b[0;36m1\u001b[0m\u001b[0;34m)\u001b[0m\u001b[0;34m,\u001b[0m\u001b[0mInteger\u001b[0m\u001b[0;34m(\u001b[0m\u001b[0;36m0\u001b[0m\u001b[0;34m)\u001b[0m\u001b[0;34m)\u001b[0m\u001b[0;34m)\u001b[0m\u001b[0;34m:\u001b[0m\u001b[0;34m\u001b[0m\u001b[0;34m\u001b[0m\u001b[0m\n",
      "\u001b[0m\u001b[0;32m     12 \u001b[0;31m                    \u001b[0mm0\u001b[0m\u001b[0;34m.\u001b[0m\u001b[0mappend\u001b[0m \u001b[0;34m(\u001b[0m\u001b[0mtuple\u001b[0m\u001b[0;34m(\u001b[0m\u001b[0m_m\u001b[0m\u001b[0;34m)\u001b[0m\u001b[0;34m)\u001b[0m\u001b[0;34m\u001b[0m\u001b[0;34m\u001b[0m\u001b[0m\n",
      "\u001b[0m\u001b[0;32m     13 \u001b[0;31m        \u001b[0;32mif\u001b[0m \u001b[0mset\u001b[0m\u001b[0;34m(\u001b[0m\u001b[0mm0\u001b[0m\u001b[0;34m)\u001b[0m \u001b[0;34m==\u001b[0m \u001b[0mset\u001b[0m\u001b[0;34m(\u001b[0m\u001b[0;34m)\u001b[0m \u001b[0;32mor\u001b[0m \u001b[0mset\u001b[0m\u001b[0;34m(\u001b[0m\u001b[0mm0\u001b[0m\u001b[0;34m)\u001b[0m \u001b[0;34m==\u001b[0m \u001b[0mset\u001b[0m\u001b[0;34m(\u001b[0m\u001b[0ml\u001b[0m\u001b[0;34m)\u001b[0m\u001b[0;34m:\u001b[0m\u001b[0;34m\u001b[0m\u001b[0;34m\u001b[0m\u001b[0m\n",
      "\u001b[0m\n"
     ]
    },
    {
     "name": "stdin",
     "output_type": "stream",
     "text": [
      "ipdb>  pp m\n"
     ]
    },
    {
     "name": "stdout",
     "output_type": "stream",
     "text": [
      "(3, 1, 3)\n"
     ]
    },
    {
     "name": "stdin",
     "output_type": "stream",
     "text": [
      "ipdb>  c\n"
     ]
    },
    {
     "name": "stdout",
     "output_type": "stream",
     "text": [
      "[(3, 2, 3), (3, 1, 3), (2, 2, 3), (3, 1, 2), (3, 0, 3), (3, 1, 1), (2, 1, 1), (1, 1, 2), (0, 1, 3), (1, 1, 1), (0, 1, 2), (0, 1, 1)]\n",
      "> \u001b[0;32m<ipython-input-65-6597d6772dc5>\u001b[0m(10)\u001b[0;36mcomplete\u001b[0;34m()\u001b[0m\n",
      "\u001b[0;32m      8 \u001b[0;31m                \u001b[0m_m\u001b[0m \u001b[0;34m[\u001b[0m\u001b[0mnm\u001b[0m\u001b[0;34m]\u001b[0m \u001b[0;34m+=\u001b[0m \u001b[0mInteger\u001b[0m\u001b[0;34m(\u001b[0m\u001b[0;36m1\u001b[0m\u001b[0;34m)\u001b[0m\u001b[0;34m\u001b[0m\u001b[0;34m\u001b[0m\u001b[0m\n",
      "\u001b[0m\u001b[0;32m      9 \u001b[0;31m                \u001b[0;32mif\u001b[0m \u001b[0mtuple\u001b[0m \u001b[0;34m(\u001b[0m\u001b[0m_m\u001b[0m\u001b[0;34m)\u001b[0m \u001b[0;34m==\u001b[0m \u001b[0;34m(\u001b[0m\u001b[0mInteger\u001b[0m\u001b[0;34m(\u001b[0m\u001b[0;36m3\u001b[0m\u001b[0;34m)\u001b[0m\u001b[0;34m,\u001b[0m\u001b[0mInteger\u001b[0m\u001b[0;34m(\u001b[0m\u001b[0;36m2\u001b[0m\u001b[0;34m)\u001b[0m\u001b[0;34m,\u001b[0m\u001b[0mInteger\u001b[0m\u001b[0;34m(\u001b[0m\u001b[0;36m3\u001b[0m\u001b[0;34m)\u001b[0m\u001b[0;34m)\u001b[0m\u001b[0;34m:\u001b[0m\u001b[0;34m\u001b[0m\u001b[0;34m\u001b[0m\u001b[0m\n",
      "\u001b[0m\u001b[0;32m---> 10 \u001b[0;31m                    \u001b[0mset_trace\u001b[0m \u001b[0;34m(\u001b[0m\u001b[0;34m)\u001b[0m\u001b[0;34m\u001b[0m\u001b[0;34m\u001b[0m\u001b[0m\n",
      "\u001b[0m\u001b[0;32m     11 \u001b[0;31m                \u001b[0;32mif\u001b[0m \u001b[0;32mnot\u001b[0m \u001b[0min_class\u001b[0m \u001b[0;34m(\u001b[0m\u001b[0mtuple\u001b[0m\u001b[0;34m(\u001b[0m\u001b[0m_m\u001b[0m\u001b[0;34m)\u001b[0m\u001b[0;34m,\u001b[0m \u001b[0mm\u001b[0m\u001b[0;34m,\u001b[0m \u001b[0ml\u001b[0m\u001b[0;34m,\u001b[0m \u001b[0;34m(\u001b[0m\u001b[0mInteger\u001b[0m\u001b[0;34m(\u001b[0m\u001b[0;36m2\u001b[0m\u001b[0;34m)\u001b[0m\u001b[0;34m,\u001b[0m\u001b[0mInteger\u001b[0m\u001b[0;34m(\u001b[0m\u001b[0;36m1\u001b[0m\u001b[0;34m)\u001b[0m\u001b[0;34m,\u001b[0m\u001b[0mInteger\u001b[0m\u001b[0;34m(\u001b[0m\u001b[0;36m0\u001b[0m\u001b[0;34m)\u001b[0m\u001b[0;34m)\u001b[0m\u001b[0;34m)\u001b[0m\u001b[0;34m:\u001b[0m\u001b[0;34m\u001b[0m\u001b[0;34m\u001b[0m\u001b[0m\n",
      "\u001b[0m\u001b[0;32m     12 \u001b[0;31m                    \u001b[0mm0\u001b[0m\u001b[0;34m.\u001b[0m\u001b[0mappend\u001b[0m \u001b[0;34m(\u001b[0m\u001b[0mtuple\u001b[0m\u001b[0;34m(\u001b[0m\u001b[0m_m\u001b[0m\u001b[0;34m)\u001b[0m\u001b[0;34m)\u001b[0m\u001b[0;34m\u001b[0m\u001b[0;34m\u001b[0m\u001b[0m\n",
      "\u001b[0m\n"
     ]
    },
    {
     "name": "stdin",
     "output_type": "stream",
     "text": [
      "ipdb>  pp m\n"
     ]
    },
    {
     "name": "stdout",
     "output_type": "stream",
     "text": [
      "(3, 1, 3)\n"
     ]
    },
    {
     "name": "stdin",
     "output_type": "stream",
     "text": [
      "ipdb>  c\n"
     ]
    },
    {
     "name": "stdout",
     "output_type": "stream",
     "text": [
      "> \u001b[0;32m<ipython-input-65-6597d6772dc5>\u001b[0m(11)\u001b[0;36mcomplete\u001b[0;34m()\u001b[0m\n",
      "\u001b[0;32m      9 \u001b[0;31m                \u001b[0;32mif\u001b[0m \u001b[0mtuple\u001b[0m \u001b[0;34m(\u001b[0m\u001b[0m_m\u001b[0m\u001b[0;34m)\u001b[0m \u001b[0;34m==\u001b[0m \u001b[0;34m(\u001b[0m\u001b[0mInteger\u001b[0m\u001b[0;34m(\u001b[0m\u001b[0;36m3\u001b[0m\u001b[0;34m)\u001b[0m\u001b[0;34m,\u001b[0m\u001b[0mInteger\u001b[0m\u001b[0;34m(\u001b[0m\u001b[0;36m2\u001b[0m\u001b[0;34m)\u001b[0m\u001b[0;34m,\u001b[0m\u001b[0mInteger\u001b[0m\u001b[0;34m(\u001b[0m\u001b[0;36m3\u001b[0m\u001b[0;34m)\u001b[0m\u001b[0;34m)\u001b[0m\u001b[0;34m:\u001b[0m\u001b[0;34m\u001b[0m\u001b[0;34m\u001b[0m\u001b[0m\n",
      "\u001b[0m\u001b[0;32m     10 \u001b[0;31m                    \u001b[0mset_trace\u001b[0m \u001b[0;34m(\u001b[0m\u001b[0;34m)\u001b[0m\u001b[0;34m\u001b[0m\u001b[0;34m\u001b[0m\u001b[0m\n",
      "\u001b[0m\u001b[0;32m---> 11 \u001b[0;31m                \u001b[0;32mif\u001b[0m \u001b[0;32mnot\u001b[0m \u001b[0min_class\u001b[0m \u001b[0;34m(\u001b[0m\u001b[0mtuple\u001b[0m\u001b[0;34m(\u001b[0m\u001b[0m_m\u001b[0m\u001b[0;34m)\u001b[0m\u001b[0;34m,\u001b[0m \u001b[0mm\u001b[0m\u001b[0;34m,\u001b[0m \u001b[0ml\u001b[0m\u001b[0;34m,\u001b[0m \u001b[0;34m(\u001b[0m\u001b[0mInteger\u001b[0m\u001b[0;34m(\u001b[0m\u001b[0;36m2\u001b[0m\u001b[0;34m)\u001b[0m\u001b[0;34m,\u001b[0m\u001b[0mInteger\u001b[0m\u001b[0;34m(\u001b[0m\u001b[0;36m1\u001b[0m\u001b[0;34m)\u001b[0m\u001b[0;34m,\u001b[0m\u001b[0mInteger\u001b[0m\u001b[0;34m(\u001b[0m\u001b[0;36m0\u001b[0m\u001b[0;34m)\u001b[0m\u001b[0;34m)\u001b[0m\u001b[0;34m)\u001b[0m\u001b[0;34m:\u001b[0m\u001b[0;34m\u001b[0m\u001b[0;34m\u001b[0m\u001b[0m\n",
      "\u001b[0m\u001b[0;32m     12 \u001b[0;31m                    \u001b[0mm0\u001b[0m\u001b[0;34m.\u001b[0m\u001b[0mappend\u001b[0m \u001b[0;34m(\u001b[0m\u001b[0mtuple\u001b[0m\u001b[0;34m(\u001b[0m\u001b[0m_m\u001b[0m\u001b[0;34m)\u001b[0m\u001b[0;34m)\u001b[0m\u001b[0;34m\u001b[0m\u001b[0;34m\u001b[0m\u001b[0m\n",
      "\u001b[0m\u001b[0;32m     13 \u001b[0;31m        \u001b[0;32mif\u001b[0m \u001b[0mset\u001b[0m\u001b[0;34m(\u001b[0m\u001b[0mm0\u001b[0m\u001b[0;34m)\u001b[0m \u001b[0;34m==\u001b[0m \u001b[0mset\u001b[0m\u001b[0;34m(\u001b[0m\u001b[0;34m)\u001b[0m \u001b[0;32mor\u001b[0m \u001b[0mset\u001b[0m\u001b[0;34m(\u001b[0m\u001b[0mm0\u001b[0m\u001b[0;34m)\u001b[0m \u001b[0;34m==\u001b[0m \u001b[0mset\u001b[0m\u001b[0;34m(\u001b[0m\u001b[0ml\u001b[0m\u001b[0;34m)\u001b[0m\u001b[0;34m:\u001b[0m\u001b[0;34m\u001b[0m\u001b[0;34m\u001b[0m\u001b[0m\n",
      "\u001b[0m\n"
     ]
    },
    {
     "name": "stdin",
     "output_type": "stream",
     "text": [
      "ipdb>  pp m\n"
     ]
    },
    {
     "name": "stdout",
     "output_type": "stream",
     "text": [
      "(2, 2, 3)\n"
     ]
    },
    {
     "name": "stdin",
     "output_type": "stream",
     "text": [
      "ipdb>  s\n"
     ]
    },
    {
     "name": "stdout",
     "output_type": "stream",
     "text": [
      "--Call--\n",
      "> \u001b[0;32m<ipython-input-33-c24c2aec5d3e>\u001b[0m(1)\u001b[0;36min_class\u001b[0;34m()\u001b[0m\n",
      "\u001b[0;32m----> 1 \u001b[0;31m\u001b[0;32mdef\u001b[0m \u001b[0min_class\u001b[0m \u001b[0;34m(\u001b[0m\u001b[0mr\u001b[0m\u001b[0;34m,\u001b[0m \u001b[0mmclass\u001b[0m\u001b[0;34m,\u001b[0m \u001b[0mM\u001b[0m\u001b[0;34m,\u001b[0m \u001b[0mvars\u001b[0m\u001b[0;34m)\u001b[0m\u001b[0;34m:\u001b[0m\u001b[0;34m\u001b[0m\u001b[0;34m\u001b[0m\u001b[0m\n",
      "\u001b[0m\u001b[0;32m      2 \u001b[0;31m    \u001b[0;34m''''''\u001b[0m\u001b[0;34m\u001b[0m\u001b[0;34m\u001b[0m\u001b[0m\n",
      "\u001b[0m\u001b[0;32m      3 \u001b[0;31m    \u001b[0mmult\u001b[0m\u001b[0;34m,\u001b[0m \u001b[0mnonmult\u001b[0m \u001b[0;34m=\u001b[0m \u001b[0mvec_multipliers\u001b[0m \u001b[0;34m(\u001b[0m\u001b[0mmclass\u001b[0m\u001b[0;34m,\u001b[0m \u001b[0mM\u001b[0m \u001b[0;34m,\u001b[0m \u001b[0mvars\u001b[0m\u001b[0;34m)\u001b[0m\u001b[0;34m\u001b[0m\u001b[0;34m\u001b[0m\u001b[0m\n",
      "\u001b[0m\u001b[0;32m      4 \u001b[0;31m    \u001b[0;32mreturn\u001b[0m \u001b[0mall\u001b[0m \u001b[0;34m(\u001b[0m\u001b[0mvec_degree\u001b[0m \u001b[0;34m(\u001b[0m\u001b[0mx\u001b[0m\u001b[0;34m,\u001b[0m \u001b[0mr\u001b[0m\u001b[0;34m)\u001b[0m \u001b[0;34m>=\u001b[0m \u001b[0mvec_degree\u001b[0m \u001b[0;34m(\u001b[0m\u001b[0mx\u001b[0m\u001b[0;34m,\u001b[0m \u001b[0mmclass\u001b[0m\u001b[0;34m)\u001b[0m \u001b[0;32mfor\u001b[0m \u001b[0mx\u001b[0m \u001b[0;32min\u001b[0m \u001b[0mmult\u001b[0m\u001b[0;34m)\u001b[0m  \u001b[0;32mand\u001b[0m         \u001b[0mall\u001b[0m \u001b[0;34m(\u001b[0m\u001b[0mvec_degree\u001b[0m\u001b[0;34m(\u001b[0m\u001b[0mx\u001b[0m\u001b[0;34m,\u001b[0m \u001b[0mr\u001b[0m\u001b[0;34m)\u001b[0m \u001b[0;34m==\u001b[0m \u001b[0mvec_degree\u001b[0m \u001b[0;34m(\u001b[0m\u001b[0mx\u001b[0m\u001b[0;34m,\u001b[0m \u001b[0mmclass\u001b[0m\u001b[0;34m)\u001b[0m \u001b[0;32mfor\u001b[0m \u001b[0mx\u001b[0m \u001b[0;32min\u001b[0m \u001b[0mnonmult\u001b[0m\u001b[0;34m)\u001b[0m\u001b[0;34m\u001b[0m\u001b[0;34m\u001b[0m\u001b[0m\n",
      "\u001b[0m\u001b[0;32m      5 \u001b[0;31m\u001b[0;34m\u001b[0m\u001b[0m\n",
      "\u001b[0m\n"
     ]
    }
   ],
   "source": [
    "complete ([(2, 2 ,3), (3, 0, 3), (3,1,1), (0,1,1)])"
   ]
  },
  {
   "cell_type": "code",
   "execution_count": null,
   "id": "5b4bf3f4-6409-48d7-ab81-949c3b32d4bf",
   "metadata": {},
   "outputs": [],
   "source": []
  }
 ],
 "metadata": {
  "kernelspec": {
   "display_name": "SageMath 9.3",
   "language": "sage",
   "name": "sagemath"
  },
  "language_info": {
   "codemirror_mode": {
    "name": "ipython",
    "version": 3
   },
   "file_extension": ".py",
   "mimetype": "text/x-python",
   "name": "python",
   "nbconvert_exporter": "python",
   "pygments_lexer": "ipython3",
   "version": "3.8.10"
  }
 },
 "nbformat": 4,
 "nbformat_minor": 5
}
