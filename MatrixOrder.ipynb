{
 "cells": [
  {
   "cell_type": "code",
   "execution_count": 24,
   "id": "378252cc",
   "metadata": {},
   "outputs": [],
   "source": [
    "%display latex\n",
    "from pprint import pprint\n",
    "from pylie.MatrixOrder import *\n",
    "#pprint(dir(MO))"
   ]
  },
  {
   "cell_type": "code",
   "execution_count": 25,
   "id": "45640092",
   "metadata": {},
   "outputs": [],
   "source": [
    "var (\"x y z t\")\n",
    "u=function(\"u\")(x,y,z,t)\n",
    "w=function(\"w\")(x,y,z,t)"
   ]
  },
  {
   "cell_type": "code",
   "execution_count": 26,
   "id": "ef933d8a",
   "metadata": {},
   "outputs": [
    {
     "data": {
      "text/html": [
       "<html><script type=\"math/tex; mode=display\">\\newcommand{\\Bold}[1]{\\mathbf{#1}}\\left(\\begin{array}{rrrrrr}\n",
       "0 & 0 & 0 & 0 & 2 & 1 \\\\\n",
       "1 & 0 & 0 & 0 & 0 & 0 \\\\\n",
       "0 & 1 & 0 & 0 & 0 & 0 \\\\\n",
       "0 & 0 & 1 & 0 & 0 & 0 \\\\\n",
       "0 & 0 & 0 & 1 & 0 & 0\n",
       "\\end{array}\\right)</script></html>"
      ],
      "text/latex": [
       "\\begin{math}\n",
       "\\newcommand{\\Bold}[1]{\\mathbf{#1}}\\left(\\begin{array}{rrrrrr}\n",
       "0 & 0 & 0 & 0 & 2 & 1 \\\\\n",
       "1 & 0 & 0 & 0 & 0 & 0 \\\\\n",
       "0 & 1 & 0 & 0 & 0 & 0 \\\\\n",
       "0 & 0 & 1 & 0 & 0 & 0 \\\\\n",
       "0 & 0 & 0 & 1 & 0 & 0\n",
       "\\end{array}\\right)\n",
       "\\end{math}"
      ],
      "text/plain": [
       "[0 0 0 0 2 1]\n",
       "[1 0 0 0 0 0]\n",
       "[0 1 0 0 0 0]\n",
       "[0 0 1 0 0 0]\n",
       "[0 0 0 1 0 0]"
      ]
     },
     "execution_count": 26,
     "metadata": {},
     "output_type": "execute_result"
    }
   ],
   "source": [
    "Mlex((u,w),(x,y,z,t))"
   ]
  },
  {
   "cell_type": "code",
   "execution_count": 27,
   "id": "5a78b42f",
   "metadata": {},
   "outputs": [
    {
     "data": {
      "text/html": [
       "<html><script type=\"math/tex; mode=display\">\\newcommand{\\Bold}[1]{\\mathbf{#1}}\\left(\\begin{array}{rrrrrr}\n",
       "1 & 1 & 1 & 1 & 0 & 0 \\\\\n",
       "0 & 0 & 0 & 0 & 2 & 1 \\\\\n",
       "1 & 0 & 0 & 0 & 0 & 0 \\\\\n",
       "0 & 1 & 0 & 0 & 0 & 0 \\\\\n",
       "0 & 0 & 1 & 0 & 0 & 0 \\\\\n",
       "0 & 0 & 0 & 1 & 0 & 0\n",
       "\\end{array}\\right)</script></html>"
      ],
      "text/latex": [
       "\\begin{math}\n",
       "\\newcommand{\\Bold}[1]{\\mathbf{#1}}\\left(\\begin{array}{rrrrrr}\n",
       "1 & 1 & 1 & 1 & 0 & 0 \\\\\n",
       "0 & 0 & 0 & 0 & 2 & 1 \\\\\n",
       "1 & 0 & 0 & 0 & 0 & 0 \\\\\n",
       "0 & 1 & 0 & 0 & 0 & 0 \\\\\n",
       "0 & 0 & 1 & 0 & 0 & 0 \\\\\n",
       "0 & 0 & 0 & 1 & 0 & 0\n",
       "\\end{array}\\right)\n",
       "\\end{math}"
      ],
      "text/plain": [
       "[1 1 1 1 0 0]\n",
       "[0 0 0 0 2 1]\n",
       "[1 0 0 0 0 0]\n",
       "[0 1 0 0 0 0]\n",
       "[0 0 1 0 0 0]\n",
       "[0 0 0 1 0 0]"
      ]
     },
     "execution_count": 27,
     "metadata": {},
     "output_type": "execute_result"
    }
   ],
   "source": [
    "Mgrlex((u,w), (x,y,z,t))"
   ]
  },
  {
   "cell_type": "code",
   "execution_count": 28,
   "id": "abb3e14a",
   "metadata": {},
   "outputs": [
    {
     "data": {
      "text/html": [
       "<html><script type=\"math/tex; mode=display\">\\newcommand{\\Bold}[1]{\\mathbf{#1}}\\left(\\begin{array}{rrrrrr}\n",
       "1 & 1 & 1 & 1 & 0 & 0 \\\\\n",
       "0 & 0 & 0 & 0 & 2 & 1 \\\\\n",
       "0 & 0 & 0 & -1 & 0 & 0 \\\\\n",
       "0 & 0 & -1 & 0 & 0 & 0 \\\\\n",
       "0 & -1 & 0 & 0 & 0 & 0 \\\\\n",
       "-1 & 0 & 0 & 0 & 0 & 0\n",
       "\\end{array}\\right)</script></html>"
      ],
      "text/latex": [
       "\\begin{math}\n",
       "\\newcommand{\\Bold}[1]{\\mathbf{#1}}\\left(\\begin{array}{rrrrrr}\n",
       "1 & 1 & 1 & 1 & 0 & 0 \\\\\n",
       "0 & 0 & 0 & 0 & 2 & 1 \\\\\n",
       "0 & 0 & 0 & -1 & 0 & 0 \\\\\n",
       "0 & 0 & -1 & 0 & 0 & 0 \\\\\n",
       "0 & -1 & 0 & 0 & 0 & 0 \\\\\n",
       "-1 & 0 & 0 & 0 & 0 & 0\n",
       "\\end{array}\\right)\n",
       "\\end{math}"
      ],
      "text/plain": [
       "[ 1  1  1  1  0  0]\n",
       "[ 0  0  0  0  2  1]\n",
       "[ 0  0  0 -1  0  0]\n",
       "[ 0  0 -1  0  0  0]\n",
       "[ 0 -1  0  0  0  0]\n",
       "[-1  0  0  0  0  0]"
      ]
     },
     "execution_count": 28,
     "metadata": {},
     "output_type": "execute_result"
    }
   ],
   "source": [
    "Mgrevlex((u,w), (x,y,z,t))"
   ]
  },
  {
   "cell_type": "code",
   "execution_count": 29,
   "id": "838a836b",
   "metadata": {},
   "outputs": [],
   "source": [
    "d1 = diff(u, x, x, z, t)"
   ]
  },
  {
   "cell_type": "code",
   "execution_count": 30,
   "id": "f0467fbd",
   "metadata": {},
   "outputs": [],
   "source": [
    "d2 = diff(u, x, z,t)"
   ]
  },
  {
   "cell_type": "code",
   "execution_count": 31,
   "id": "5c68cd7b",
   "metadata": {},
   "outputs": [
    {
     "data": {
      "text/html": [
       "<html><script type=\"math/tex; mode=display\">\\newcommand{\\Bold}[1]{\\mathbf{#1}}\\frac{\\partial^{4}}{(\\partial x)^{2}\\partial z\\partial t}u\\left(x, y, z, t\\right)</script></html>"
      ],
      "text/latex": [
       "\\begin{math}\n",
       "\\newcommand{\\Bold}[1]{\\mathbf{#1}}\\frac{\\partial^{4}}{(\\partial x)^{2}\\partial z\\partial t}u\\left(x, y, z, t\\right)\n",
       "\\end{math}"
      ],
      "text/plain": [
       "diff(u(x, y, z, t), x, x, z, t)"
      ]
     },
     "execution_count": 31,
     "metadata": {},
     "output_type": "execute_result"
    }
   ],
   "source": [
    "d1"
   ]
  },
  {
   "cell_type": "code",
   "execution_count": 32,
   "id": "e301ebd8",
   "metadata": {},
   "outputs": [
    {
     "data": {
      "text/html": [
       "<html><script type=\"math/tex; mode=display\">\\newcommand{\\Bold}[1]{\\mathbf{#1}}\\frac{\\partial^{3}}{\\partial x\\partial z\\partial t}u\\left(x, y, z, t\\right)</script></html>"
      ],
      "text/latex": [
       "\\begin{math}\n",
       "\\newcommand{\\Bold}[1]{\\mathbf{#1}}\\frac{\\partial^{3}}{\\partial x\\partial z\\partial t}u\\left(x, y, z, t\\right)\n",
       "\\end{math}"
      ],
      "text/plain": [
       "diff(u(x, y, z, t), x, z, t)"
      ]
     },
     "execution_count": 32,
     "metadata": {},
     "output_type": "execute_result"
    }
   ],
   "source": [
    "d2"
   ]
  },
  {
   "cell_type": "code",
   "execution_count": null,
   "id": "eb52aa0d",
   "metadata": {},
   "outputs": [],
   "source": [
    "\n",
    "\n",
    "        "
   ]
  },
  {
   "cell_type": "code",
   "execution_count": 33,
   "id": "41c60dd5",
   "metadata": {},
   "outputs": [
    {
     "data": {
      "text/html": [
       "<html><script type=\"math/tex; mode=display\">\\newcommand{\\Bold}[1]{\\mathbf{#1}}\\mathrm{True}</script></html>"
      ],
      "text/latex": [
       "\\begin{math}\n",
       "\\newcommand{\\Bold}[1]{\\mathbf{#1}}\\mathrm{True}\n",
       "\\end{math}"
      ],
      "text/plain": [
       "True"
      ]
     },
     "execution_count": 33,
     "metadata": {},
     "output_type": "execute_result"
    }
   ],
   "source": [
    "higher(d1,d2, Mlex, (u,),(x,y,z,t))"
   ]
  },
  {
   "cell_type": "code",
   "execution_count": 34,
   "id": "34a44cf2",
   "metadata": {},
   "outputs": [
    {
     "data": {
      "text/html": [
       "<html><script type=\"math/tex; mode=display\">\\newcommand{\\Bold}[1]{\\mathbf{#1}}\\mathrm{True}</script></html>"
      ],
      "text/latex": [
       "\\begin{math}\n",
       "\\newcommand{\\Bold}[1]{\\mathbf{#1}}\\mathrm{True}\n",
       "\\end{math}"
      ],
      "text/plain": [
       "True"
      ]
     },
     "execution_count": 34,
     "metadata": {},
     "output_type": "execute_result"
    }
   ],
   "source": [
    "higher(d1,d2,Mgrlex, (u,),(x,y,z,t))"
   ]
  },
  {
   "cell_type": "code",
   "execution_count": 35,
   "id": "c2208314",
   "metadata": {},
   "outputs": [
    {
     "data": {
      "text/html": [
       "<html><script type=\"math/tex; mode=display\">\\newcommand{\\Bold}[1]{\\mathbf{#1}}\\mathrm{False}</script></html>"
      ],
      "text/latex": [
       "\\begin{math}\n",
       "\\newcommand{\\Bold}[1]{\\mathbf{#1}}\\mathrm{False}\n",
       "\\end{math}"
      ],
      "text/plain": [
       "False"
      ]
     },
     "execution_count": 35,
     "metadata": {},
     "output_type": "execute_result"
    }
   ],
   "source": [
    "higher(u,d2,Mgrevlex, (u,),(x,y,z,t))"
   ]
  },
  {
   "cell_type": "markdown",
   "id": "8c2d9c67",
   "metadata": {},
   "source": [
    "### Example 2.31"
   ]
  },
  {
   "cell_type": "code",
   "execution_count": 36,
   "id": "8cca2d3d",
   "metadata": {},
   "outputs": [],
   "source": [
    "var(\"x y\")\n",
    "w = function (\"w\")(x,y)\n",
    "z = function (\"z\")(x,y)\n",
    "l1 = [z, diff(z, y), diff(z, x), diff (w, x, y), diff(z, x, x), diff(z, y,y),\n",
    "      w, diff(w, y), diff(w, x), diff (z, x, y), diff(w, x, x), diff(w, y,2)\n",
    "     ]"
   ]
  },
  {
   "cell_type": "code",
   "execution_count": 37,
   "id": "72d059ed",
   "metadata": {},
   "outputs": [],
   "source": [
    "\n",
    "\n",
    "from functools import cmp_to_key\n",
    "s=sorted(l1, key=cmp_to_key(lambda item1, item2: sorter (item1, item2, Mgrlex, (w,z), (x,y))))\n",
    "# works like a charm!\n"
   ]
  },
  {
   "cell_type": "code",
   "execution_count": 38,
   "id": "9c03a833",
   "metadata": {},
   "outputs": [
    {
     "data": {
      "text/html": [
       "<html><script type=\"math/tex; mode=display\">\\newcommand{\\Bold}[1]{\\mathbf{#1}}\\left[\\frac{\\partial^{2}}{(\\partial x)^{2}}w\\left(x, y\\right), \\frac{\\partial^{2}}{\\partial x\\partial y}w\\left(x, y\\right), \\frac{\\partial^{2}}{(\\partial y)^{2}}w\\left(x, y\\right), \\frac{\\partial^{2}}{(\\partial x)^{2}}z\\left(x, y\\right), \\frac{\\partial^{2}}{\\partial x\\partial y}z\\left(x, y\\right), \\frac{\\partial^{2}}{(\\partial y)^{2}}z\\left(x, y\\right), \\frac{\\partial}{\\partial x}w\\left(x, y\\right), \\frac{\\partial}{\\partial y}w\\left(x, y\\right), \\frac{\\partial}{\\partial x}z\\left(x, y\\right), \\frac{\\partial}{\\partial y}z\\left(x, y\\right), w\\left(x, y\\right), z\\left(x, y\\right)\\right]</script></html>"
      ],
      "text/latex": [
       "\\begin{math}\n",
       "\\newcommand{\\Bold}[1]{\\mathbf{#1}}\\left[\\frac{\\partial^{2}}{(\\partial x)^{2}}w\\left(x, y\\right), \\frac{\\partial^{2}}{\\partial x\\partial y}w\\left(x, y\\right), \\frac{\\partial^{2}}{(\\partial y)^{2}}w\\left(x, y\\right), \\frac{\\partial^{2}}{(\\partial x)^{2}}z\\left(x, y\\right), \\frac{\\partial^{2}}{\\partial x\\partial y}z\\left(x, y\\right), \\frac{\\partial^{2}}{(\\partial y)^{2}}z\\left(x, y\\right), \\frac{\\partial}{\\partial x}w\\left(x, y\\right), \\frac{\\partial}{\\partial y}w\\left(x, y\\right), \\frac{\\partial}{\\partial x}z\\left(x, y\\right), \\frac{\\partial}{\\partial y}z\\left(x, y\\right), w\\left(x, y\\right), z\\left(x, y\\right)\\right]\n",
       "\\end{math}"
      ],
      "text/plain": [
       "[diff(w(x, y), x, x),\n",
       " diff(w(x, y), x, y),\n",
       " diff(w(x, y), y, y),\n",
       " diff(z(x, y), x, x),\n",
       " diff(z(x, y), x, y),\n",
       " diff(z(x, y), y, y),\n",
       " diff(w(x, y), x),\n",
       " diff(w(x, y), y),\n",
       " diff(z(x, y), x),\n",
       " diff(z(x, y), y),\n",
       " w(x, y),\n",
       " z(x, y)]"
      ]
     },
     "execution_count": 38,
     "metadata": {},
     "output_type": "execute_result"
    }
   ],
   "source": [
    "s"
   ]
  },
  {
   "cell_type": "code",
   "execution_count": 39,
   "id": "0d2ff10d",
   "metadata": {},
   "outputs": [],
   "source": [
    "s=sorted(l1, key=cmp_to_key(lambda item1, item2: sorter (item1, item2, Mgrevlex, (w,z), (x,y))))"
   ]
  },
  {
   "cell_type": "code",
   "execution_count": 40,
   "id": "3651c88c",
   "metadata": {},
   "outputs": [
    {
     "data": {
      "text/html": [
       "<html><script type=\"math/tex; mode=display\">\\newcommand{\\Bold}[1]{\\mathbf{#1}}\\left[\\frac{\\partial^{2}}{(\\partial x)^{2}}w\\left(x, y\\right), \\frac{\\partial^{2}}{\\partial x\\partial y}w\\left(x, y\\right), \\frac{\\partial^{2}}{(\\partial y)^{2}}w\\left(x, y\\right), \\frac{\\partial^{2}}{(\\partial x)^{2}}z\\left(x, y\\right), \\frac{\\partial^{2}}{\\partial x\\partial y}z\\left(x, y\\right), \\frac{\\partial^{2}}{(\\partial y)^{2}}z\\left(x, y\\right), \\frac{\\partial}{\\partial x}w\\left(x, y\\right), \\frac{\\partial}{\\partial y}w\\left(x, y\\right), \\frac{\\partial}{\\partial x}z\\left(x, y\\right), \\frac{\\partial}{\\partial y}z\\left(x, y\\right), w\\left(x, y\\right), z\\left(x, y\\right)\\right]</script></html>"
      ],
      "text/latex": [
       "\\begin{math}\n",
       "\\newcommand{\\Bold}[1]{\\mathbf{#1}}\\left[\\frac{\\partial^{2}}{(\\partial x)^{2}}w\\left(x, y\\right), \\frac{\\partial^{2}}{\\partial x\\partial y}w\\left(x, y\\right), \\frac{\\partial^{2}}{(\\partial y)^{2}}w\\left(x, y\\right), \\frac{\\partial^{2}}{(\\partial x)^{2}}z\\left(x, y\\right), \\frac{\\partial^{2}}{\\partial x\\partial y}z\\left(x, y\\right), \\frac{\\partial^{2}}{(\\partial y)^{2}}z\\left(x, y\\right), \\frac{\\partial}{\\partial x}w\\left(x, y\\right), \\frac{\\partial}{\\partial y}w\\left(x, y\\right), \\frac{\\partial}{\\partial x}z\\left(x, y\\right), \\frac{\\partial}{\\partial y}z\\left(x, y\\right), w\\left(x, y\\right), z\\left(x, y\\right)\\right]\n",
       "\\end{math}"
      ],
      "text/plain": [
       "[diff(w(x, y), x, x),\n",
       " diff(w(x, y), x, y),\n",
       " diff(w(x, y), y, y),\n",
       " diff(z(x, y), x, x),\n",
       " diff(z(x, y), x, y),\n",
       " diff(z(x, y), y, y),\n",
       " diff(w(x, y), x),\n",
       " diff(w(x, y), y),\n",
       " diff(z(x, y), x),\n",
       " diff(z(x, y), y),\n",
       " w(x, y),\n",
       " z(x, y)]"
      ]
     },
     "execution_count": 40,
     "metadata": {},
     "output_type": "execute_result"
    }
   ],
   "source": [
    "s"
   ]
  },
  {
   "cell_type": "code",
   "execution_count": 41,
   "id": "6caf2c00",
   "metadata": {},
   "outputs": [],
   "source": [
    "# investigate: why is Mgrevlex = Mgrlex in that case ?"
   ]
  },
  {
   "cell_type": "code",
   "execution_count": 42,
   "id": "78eaf1b9",
   "metadata": {},
   "outputs": [],
   "source": [
    "s=sorted(l1, key=cmp_to_key(lambda item1, item2: sorter (item1, item2,Mlex, (w,z), (x,y))))"
   ]
  },
  {
   "cell_type": "code",
   "execution_count": 43,
   "id": "ab0a772e",
   "metadata": {},
   "outputs": [
    {
     "data": {
      "text/html": [
       "<html><script type=\"math/tex; mode=display\">\\newcommand{\\Bold}[1]{\\mathbf{#1}}\\left[\\frac{\\partial^{2}}{(\\partial x)^{2}}w\\left(x, y\\right), \\frac{\\partial^{2}}{\\partial x\\partial y}w\\left(x, y\\right), \\frac{\\partial}{\\partial x}w\\left(x, y\\right), \\frac{\\partial^{2}}{(\\partial y)^{2}}w\\left(x, y\\right), \\frac{\\partial}{\\partial y}w\\left(x, y\\right), w\\left(x, y\\right), \\frac{\\partial^{2}}{(\\partial x)^{2}}z\\left(x, y\\right), \\frac{\\partial^{2}}{\\partial x\\partial y}z\\left(x, y\\right), \\frac{\\partial}{\\partial x}z\\left(x, y\\right), \\frac{\\partial^{2}}{(\\partial y)^{2}}z\\left(x, y\\right), \\frac{\\partial}{\\partial y}z\\left(x, y\\right), z\\left(x, y\\right)\\right]</script></html>"
      ],
      "text/latex": [
       "\\begin{math}\n",
       "\\newcommand{\\Bold}[1]{\\mathbf{#1}}\\left[\\frac{\\partial^{2}}{(\\partial x)^{2}}w\\left(x, y\\right), \\frac{\\partial^{2}}{\\partial x\\partial y}w\\left(x, y\\right), \\frac{\\partial}{\\partial x}w\\left(x, y\\right), \\frac{\\partial^{2}}{(\\partial y)^{2}}w\\left(x, y\\right), \\frac{\\partial}{\\partial y}w\\left(x, y\\right), w\\left(x, y\\right), \\frac{\\partial^{2}}{(\\partial x)^{2}}z\\left(x, y\\right), \\frac{\\partial^{2}}{\\partial x\\partial y}z\\left(x, y\\right), \\frac{\\partial}{\\partial x}z\\left(x, y\\right), \\frac{\\partial^{2}}{(\\partial y)^{2}}z\\left(x, y\\right), \\frac{\\partial}{\\partial y}z\\left(x, y\\right), z\\left(x, y\\right)\\right]\n",
       "\\end{math}"
      ],
      "text/plain": [
       "[diff(w(x, y), x, x),\n",
       " diff(w(x, y), x, y),\n",
       " diff(w(x, y), x),\n",
       " diff(w(x, y), y, y),\n",
       " diff(w(x, y), y),\n",
       " w(x, y),\n",
       " diff(z(x, y), x, x),\n",
       " diff(z(x, y), x, y),\n",
       " diff(z(x, y), x),\n",
       " diff(z(x, y), y, y),\n",
       " diff(z(x, y), y),\n",
       " z(x, y)]"
      ]
     },
     "execution_count": 43,
     "metadata": {},
     "output_type": "execute_result"
    }
   ],
   "source": [
    "s"
   ]
  },
  {
   "cell_type": "code",
   "execution_count": null,
   "id": "94b6b662",
   "metadata": {},
   "outputs": [],
   "source": []
  },
  {
   "cell_type": "code",
   "execution_count": 46,
   "id": "c9e055a6",
   "metadata": {},
   "outputs": [],
   "source": [
    "# now for a long example\n",
    "var(\"x y z t\")\n",
    "f1 = function (\"f1\")(x,y, z, t)\n",
    "f2 = function (\"f2\")(x,y, z,t)\n",
    "f3 = function (\"f3\")(x,y, z,t)\n",
    "f4 = function (\"f4\")(x,y, z,t)\n",
    "\n",
    "l2 = [f1, f2, f3, f4, \n",
    "      diff(f1, x), diff(f2, x), diff (f3, x), diff (f4, x),\n",
    "      diff(f1, y), diff(f2, y), diff (f3, y), diff (f4, y),\n",
    "      diff(f1, z), diff(f2, z), diff (f3, z), diff (f4, z),\n",
    "      diff(f1, t), diff(f2, t), diff (f3, t), diff (f4, t),\n",
    "      diff(f1, x, 2), diff(f2, x, 2), diff (f3, x, 2), diff (f4, x, 2),\n",
    "      diff(f1, y, 2), diff(f2, y, 2), diff (f3, y, 2), diff (f4, y, 2),\n",
    "      diff(f1, z, 2), diff(f2, z, 2), diff (f3, z, 2), diff (f4, z, 2),\n",
    "      diff(f1, t, 2), diff(f2, t, 2), diff (f3, t, 2), diff (f4, t, 2),\n",
    "      diff(f1, x, 3), diff(f2, x, 3), diff (f3, x, 3), diff (f4, x, 3),\n",
    "      diff(f1, y, 3), diff(f2, y, 3), diff (f3, y, 3), diff (f4, y, 3),\n",
    "      diff(f1, z, 3), diff(f2, z, 3), diff (f3, z, 3), diff (f4, z, 3),\n",
    "      diff(f1, t, 3), diff(f2, t, 3), diff (f3, t, 3), diff (f4, t, 3),\n",
    "      diff(f1, x, 2,t), diff(f2, x, 2,t), diff (f3, x, 2,t), diff (f4, x, 2,t),\n",
    "      diff(f1, y, 2,t), diff(f2, y, 2,t), diff (f3, y, 2,t), diff (f4, y, 2,t),\n",
    "      diff(f1, z, 2,t), diff(f2, z, 2,t), diff (f3, z, 2,t), diff (f4, z, 2,t),\n",
    "      diff(f1, t, 2,t), diff(f2, t, 2,t), diff (f3, t, 2,t), diff (f4, t, 2,t)\n",
    "     ]"
   ]
  },
  {
   "cell_type": "code",
   "execution_count": 47,
   "id": "8a7c6a91",
   "metadata": {},
   "outputs": [
    {
     "name": "stdout",
     "output_type": "stream",
     "text": [
      " "
     ]
    },
    {
     "data": {
      "text/plain": [
       "         5020791 function calls (4672164 primitive calls) in 27.605 seconds\n",
       "\n",
       "   Ordered by: internal time\n",
       "\n",
       "   ncalls  tottime  percall  cumtime  percall filename:lineno(function)\n",
       "    51840    8.928    0.000   10.664    0.000 maxima_lib.py:412(_eval_line)\n",
       "260496/27216    3.103    0.000    3.315    0.000 complex_interval_field.py:425(__call__)\n",
       "      324    2.824    0.009   13.767    0.042 MatrixOrder.py:52(higher)\n",
       "      328    2.797    0.009   27.603    0.084 MatrixOrder.py:74(sorter)\n",
       "   414720    1.233    0.000    1.512    0.000 {method 'random_element' of 'sage.rings.real_mpfi.RealIntervalField_class' objects}\n",
       "    11016    1.011    0.000    1.645    0.000 maxima_lib.py:274(max_to_string)\n",
       "     2592    0.968    0.000    1.215    0.000 complexity_measures.py:9(string_length)\n",
       "     5832    0.716    0.000    1.474    0.000 {method 'parse_sequence' of 'sage.misc.parser.Parser' objects}\n",
       "    11016    0.634    0.000    0.634    0.000 {method 'python' of 'sage.libs.ecl.EclObject' objects}\n",
       "   752976    0.594    0.000    0.594    0.000 sets_cat.py:974(_element_constructor_from_element_class)\n",
       "    13438    0.344    0.000    0.344    0.000 {method 'derivative' of 'sage.symbolic.expression.Expression' objects}\n",
       "    17496    0.324    0.000    0.324    0.000 {built-in method sage.libs.ecl.ecl_eval}\n",
       "   207360    0.275    0.000    1.788    0.000 complex_interval_field.py:584(random_element)\n",
       "     5832    0.231    0.000    3.594    0.001 calculus.py:2024(symbolic_expression_from_maxima_string)\n",
       "110326/7776    0.230    0.000    1.488    0.000 expression_conversions.py:155(__call__)\n",
       "    67712    0.178    0.000    0.494    0.000 {built-in method builtins.repr}\n",
       "    74484    0.172    0.000    0.172    0.000 {sage.symbolic.ring.var}\n",
       "    11700    0.141    0.000    1.059    0.000 expression_conversions.py:488(derivative)\n",
       "    31460    0.109    0.000    0.124    0.000 interface.py:419(_relation_symbols)\n",
       "    30812    0.107    0.000    0.837    0.000 {method '_maxima_init_' of 'sage.structure.sage_object.SageObject' objects}\n",
       "   106438    0.094    0.000    0.118    0.000 {method 'operator' of 'sage.symbolic.expression.Expression' objects}\n",
       "    38204    0.092    0.000    0.092    0.000 {method 'operands' of 'sage.symbolic.expression.Expression' objects}\n",
       "   110326    0.086    0.000    0.086    0.000 {method 'pyobject' of 'sage.symbolic.expression.Expression' objects}\n",
       "    65120    0.079    0.000    0.270    0.000 expression_conversions.py:414(symbol)\n",
       "    13438    0.072    0.000    0.419    0.000 calculus.py:1873(dummy_diff)\n",
       "    15188    0.072    0.000    0.072    0.000 calculus.py:2428(<lambda>)\n",
       "    40952    0.070    0.000    0.088    0.000 {method 'sub' of 're.Pattern' objects}\n",
       "    31460    0.065    0.000    0.198    0.000 expression_conversions.py:395(__init__)\n",
       "    11728    0.062    0.000    0.065    0.000 polynomial_ring.py:312(_element_constructor_)\n",
       "    17496    0.060    0.000    2.568    0.000 interface.py:982(__del__)\n",
       "    23328    0.058    0.000    5.651    0.000 maxima_lib.py:492(set)\n",
       "   213548    0.057    0.000    0.057    0.000 {built-in method builtins.isinstance}\n",
       "   103680    0.056    0.000    0.056    0.000 complex_interval_field.py:558(characteristic)\n",
       "    12960    0.056    0.000    0.451    0.000 expression_conversions.py:628(composition)\n",
       "    17496    0.053    0.000    5.496    0.000 interface.py:251(__call__)\n",
       "     5832    0.053    0.000    0.053    0.000 {method 'search' of 're.Pattern' objects}\n",
       "    17496    0.053    0.000    2.481    0.000 maxima_lib.py:516(clear)\n",
       "    11664    0.052    0.000    0.052    0.000 {method 'copy' of 'dict' objects}\n",
       "     1944    0.048    0.000    1.055    0.001 {method '_maxima_' of 'sage.symbolic.expression.Expression' objects}\n",
       "     9720    0.044    0.000    3.021    0.000 interface.py:587(function_call)\n",
       "    75780    0.043    0.000    0.215    0.000 calculus.py:2401(_find_Mvar)\n",
       "    17496    0.042    0.000    5.430    0.000 interface.py:706(__init__)\n",
       "     5832    0.041    0.000    3.639    0.001 maxima_abstract.py:1206(_sage_)\n",
       "      648    0.041    0.000    1.319    0.002 {method 'simplify_factorial' of 'sage.symbolic.expression.Expression' objects}\n",
       "    22680    0.036    0.000    0.043    0.000 interface.py:603(_function_call_string)\n",
       "    17496    0.035    0.000    0.039    0.000 interface.py:491(_next_var_name)\n",
       "    17496    0.033    0.000    5.388    0.000 maxima_lib.py:562(_create)\n",
       "      648    0.033    0.000    8.707    0.013 relation.py:365(test_relation_maxima)\n",
       "   103680    0.032    0.000    0.032    0.000 {method 'find' of 'str' objects}\n",
       "   277594    0.031    0.000    0.031    0.000 {method 'group' of 're.Match' objects}\n",
       "    11700    0.031    0.000    0.292    0.000 expression_conversions.py:610(<listcomp>)\n",
       "      648    0.030    0.000    1.435    0.002 {method 'simplify_rational' of 'sage.symbolic.expression.Expression' objects}\n",
       "     9720    0.030    0.000    0.039    0.000 interface.py:534(_convert_args_kwds)\n",
       "      648    0.030    0.000    2.018    0.003 {method 'simplify_trig' of 'sage.symbolic.expression.Expression' objects}\n",
       "    10368    0.029    0.000    0.045    0.000 interface.py:1200(__getattr__)\n",
       "   108892    0.029    0.000    0.029    0.000 interface.py:96(name)\n",
       "    34014    0.028    0.000    0.052    0.000 calculus.py:2313(_find_func)\n",
       "11664/5832    0.027    0.000    1.238    0.000 expression_conversions.py:625(<listcomp>)\n",
       "    11664    0.026    0.000    0.026    0.000 {method 'findall' of 're.Pattern' objects}\n",
       "    51840    0.025    0.000    0.028    0.000 maxima_lib.py:463(<listcomp>)\n",
       "    33048    0.025    0.000    0.032    0.000 interface.py:967(_check_valid)\n",
       "11664/5832    0.025    0.000    1.281    0.000 expression_conversions.py:615(arithmetic)\n",
       "    12960    0.025    0.000    0.313    0.000 expression_conversions.py:648(<listcomp>)\n",
       "    99180    0.023    0.000    0.023    0.000 {method 'join' of 'str' objects}\n",
       "     9720    0.022    0.000    3.045    0.000 interface.py:679(__call__)\n",
       "    51840    0.021    0.000    0.021    0.000 {method 'split' of 'str' objects}\n",
       "    34371    0.021    0.000    0.021    0.000 {built-in method builtins.getattr}\n",
       "    11728    0.019    0.000    0.092    0.000 polynomial_ring_constructor.py:677(_single_variate)\n",
       "      972    0.019    0.000    0.065    0.000 {sage.modules.free_module_element.vector}\n",
       "    11664    0.018    0.000    0.018    0.000 re.py:325(_subx)\n",
       "    33268    0.017    0.000    0.017    0.000 {built-in method builtins.hasattr}\n",
       "    23456    0.017    0.000    0.023    0.000 re.py:289(_compile)\n",
       "    23456    0.016    0.000    0.063    0.000 re.py:203(sub)\n",
       "    58500    0.016    0.000    0.023    0.000 expression_conversions.py:592(<genexpr>)\n",
       "    13455    0.015    0.000    0.024    0.000 operators.py:71(__init__)\n",
       "    11700    0.015    0.000    0.037    0.000 {built-in method builtins.all}\n",
       "    78958    0.014    0.000    0.014    0.000 {built-in method builtins.len}\n",
       "    80352    0.013    0.000    0.013    0.000 {method 'parent' of 'sage.structure.element.Element' objects}\n",
       "      648    0.013    0.000    1.968    0.003 {method 'simplify_rectform' of 'sage.symbolic.expression.Expression' objects}\n",
       "     1944    0.013    0.000    0.302    0.000 interface.py:1152(_repr_)\n",
       "    43306    0.013    0.000    0.013    0.000 {method 'get' of 'dict' objects}\n",
       "    12960    0.012    0.000    0.015    0.000 function_factory.py:58(_maxima_init_)\n",
       "      217    0.012    0.000    0.046    0.000 polynomial_ring.py:235(__init__)\n",
       "      648    0.011    0.000    0.024    0.000 sequence.py:78(Sequence)\n",
       "     5832    0.011    0.000    0.040    0.000 expression_conversions.py:434(pyobject)\n",
       "     9720    0.010    0.000    0.014    0.000 interface.py:599(<listcomp>)\n",
       "     2592    0.009    0.000    0.316    0.000 interface.py:1094(__repr__)\n",
       "    13455    0.009    0.000    0.009    0.000 operators.py:82(<listcomp>)\n",
       "    17496    0.009    0.000    0.009    0.000 {method 'replace' of 'str' objects}\n",
       "     5832    0.009    0.000    0.009    0.000 {method 'finditer' of 're.Pattern' objects}\n",
       "  651/434    0.009    0.000    0.024    0.000 homset.py:84(Hom)\n",
       "    11728    0.009    0.000    0.017    0.000 polynomial_ring_constructor.py:667(_get_from_cache)\n",
       "    11728    0.009    0.000    0.009    0.000 {method 'get' of 'sage.misc.weak_dict.WeakValueDictionary' objects}\n",
       "     1296    0.008    0.000    1.861    0.001 maxima_wrapper.py:18(__call__)\n",
       "      217    0.008    0.000    0.027    0.000 polynomial_ring.py:658(_coerce_map_from_base_ring)\n",
       "     9720    0.008    0.000    2.899    0.000 interface.py:369(new)\n",
       "    51840    0.008    0.000    0.008    0.000 complex_interval_field.py:253(is_exact)\n",
       "     4536    0.008    0.000    0.743    0.000 maxima_lib.py:542(get)\n",
       "     4536    0.007    0.000    2.269    0.001 maxima_abstract.py:1265(_symbolic_)\n",
       "    46800    0.007    0.000    0.007    0.000 {sage.symbolic.ring.is_SymbolicVariable}\n",
       "      972    0.007    0.000    0.013    0.000 free_module.py:1063(_element_constructor_)\n",
       "    15552    0.007    0.000    0.007    0.000 interface.py:1370(name)\n",
       "    25272    0.006    0.000    0.006    0.000 {method 'rstrip' of 'str' objects}\n",
       "      434    0.006    0.000    0.007    0.000 homset.py:583(__init__)\n",
       "     2592    0.006    0.000    0.467    0.000 maxima_abstract.py:1430(str)\n",
       "     9720    0.006    0.000    0.006    0.000 interface.py:564(_check_valid_function_name)\n",
       "      972    0.006    0.000    0.007    0.000 free_module.py:271(FreeModule)\n",
       "     9720    0.005    0.000    0.005    0.000 interface.py:672(__init__)\n",
       "    11728    0.005    0.000    0.005    0.000 number_field.py:5569(gen)\n",
       "     1296    0.005    0.000    0.724    0.001 maxima_wrapper.py:68(__getattr__)\n",
       "     5184    0.005    0.000    0.005    0.000 {built-in method sage.structure.coerce.py_scalar_to_element}\n",
       "    31460    0.005    0.000    0.005    0.000 maxima_abstract.py:506(_equality_symbol)\n",
       "     1296    0.004    0.000    0.042    0.000 {method '_algebraic_' of 'sage.symbolic.expression.Expression' objects}\n",
       "     1296    0.004    0.000    0.004    0.000 expression_conversions.py:1001(__init__)\n",
       "    15620    0.004    0.000    0.004    0.000 {method 'count' of 'list' objects}\n",
       "    19440    0.004    0.000    0.004    0.000 {method 'items' of 'dict' objects}\n",
       "    31460    0.004    0.000    0.004    0.000 interface.py:410(_lessthan_symbol)\n",
       "    11728    0.003    0.000    0.003    0.000 rational_field.py:256(_repr_option)\n",
       "    31460    0.003    0.000    0.003    0.000 maxima_abstract.py:525(_inequality_symbol)\n",
       "    31460    0.003    0.000    0.003    0.000 interface.py:413(_greaterthan_symbol)\n",
       "     1296    0.003    0.000    0.038    0.000 expression_conversions.py:1186(algebraic)\n",
       "    17496    0.003    0.000    0.003    0.000 maxima_lib.py:631(_object_class)\n",
       " 1106/648    0.003    0.000    0.018    0.000 expression_conversions.py:1031(arithmetic)\n",
       "     1296    0.003    0.000    0.047    0.000 qqbar.py:1478(_element_constructor_)\n",
       "      648    0.003    0.000    0.003    0.000 sequence.py:401(__init__)\n",
       "    11700    0.003    0.000    0.003    0.000 operators.py:134(function)\n",
       "      648    0.003    0.000    0.128    0.000 expression_conversions.py:459(relation)\n",
       "      648    0.003    0.000    0.012    0.000 pylie.py:20(order_of_derivative)\n",
       "    14040    0.003    0.000    0.003    0.000 operators.py:160(parameter_set)\n",
       "     5184    0.003    0.000    0.004    0.000 sequence.py:500(__getitem__)\n",
       "      324    0.003    0.000    0.004    0.000 category.py:419(__classcall__)\n",
       "    12960    0.003    0.000    0.003    0.000 {method 'name' of 'sage.symbolic.function.Function' objects}\n",
       "    12312    0.002    0.000    0.002    0.000 {method 'strip' of 'str' objects}\n",
       "      434    0.002    0.000    0.002    0.000 {method 'has_coerce_map_from' of 'sage.structure.parent.Parent' objects}\n",
       "      217    0.002    0.000    0.002    0.000 polynomial_ring.py:1175(gen)\n",
       "     1296    0.002    0.000    1.380    0.001 interface.py:1073(sage)\n",
       "      434    0.002    0.000    0.006    0.000 rational_field.py:343(_coerce_map_from_)\n",
       "      651    0.002    0.000    0.002    0.000 dynamic_class.py:129(dynamic_class)\n",
       "     8424    0.002    0.000    0.002    0.000 maxima_lib.py:647(_function_element_class)\n",
       "      648    0.002    0.000    0.007    0.000 sequence.py:239(<listcomp>)\n",
       "     9720    0.002    0.000    0.002    0.000 interface.py:600(<listcomp>)\n",
       "      217    0.002    0.000    0.008    0.000 rings.py:383(_Hom_)\n",
       "     3689    0.002    0.000    0.003    0.000 weakref.py:345(__new__)\n",
       "      217    0.002    0.000    0.048    0.000 polynomial_ring.py:1668(__init__)\n",
       "     3472    0.002    0.000    0.002    0.000 weakref.py:350(__init__)\n",
       "      585    0.002    0.000    0.002    0.000 pylie.py:25(<listcomp>)\n",
       "     1299    0.002    0.000    0.002    0.000 <frozen importlib._bootstrap>:1033(_handle_fromlist)\n",
       " 1106/648    0.002    0.000    0.012    0.000 {built-in method _functools.reduce}\n",
       "      217    0.002    0.000    0.052    0.000 polynomial_ring.py:1958(__init__)\n",
       "     1296    0.001    0.000    0.001    0.000 {method 'left_hand_side' of 'sage.symbolic.expression.Expression' objects}\n",
       "     1296    0.001    0.000    0.001    0.000 maxima_wrapper.py:35(__init__)\n",
       "      972    0.001    0.000    0.001    0.000 free_module.py:201(create_key)\n",
       "     3689    0.001    0.000    0.001    0.000 {built-in method __new__ of type object at 0x562df3110300}\n",
       "      217    0.001    0.000    0.031    0.000 unital_algebras.py:71(__init_extra__)\n",
       "     1170    0.001    0.000    0.001    0.000 expression_conversions.py:342(derivative)\n",
       "      648    0.001    0.000    0.001    0.000 assumptions.py:718(assumptions)\n",
       "      217    0.001    0.000    0.006    0.000 {method 'coerce_map_from' of 'sage.structure.parent.Parent' objects}\n",
       "      328    0.001    0.000   27.605    0.084 <string>:1(<lambda>)\n",
       "      217    0.001    0.000    0.051    0.000 polynomial_ring.py:1787(__init__)\n",
       "     4536    0.001    0.000    0.001    0.000 {built-in method sage.structure.element.canonical_coercion}\n",
       "      324    0.001    0.000    0.001    0.000 free_module.py:4698(__hash__)\n",
       "     3240    0.001    0.000    0.001    0.000 {method 'is_trivial_zero' of 'sage.symbolic.expression.Expression' objects}\n",
       "      217    0.001    0.000    0.007    0.000 polynomial_ring.py:684(_coerce_map_from_)\n",
       "      217    0.001    0.000    0.001    0.000 polynomial_singular_interface.py:355(can_convert_to_singular)\n",
       "      217    0.001    0.000    0.006    0.000 homset.py:40(RingHomset)\n",
       "      434    0.001    0.000    0.001    0.000 polynomial_ring_constructor.py:672(_save_in_cache)\n",
       "      217    0.001    0.000    0.001    0.000 {method 'register_coercion' of 'sage.structure.parent.Parent' objects}\n",
       "      868    0.001    0.000    0.001    0.000 copy.py:66(copy)\n",
       "      217    0.001    0.000    0.002    0.000 {method '_populate_coercion_lists_' of 'sage.structure.parent.Parent' objects}\n",
       "       63    0.001    0.000    0.001    0.000 {method 'variables' of 'sage.symbolic.expression.Expression' objects}\n",
       "      126    0.001    0.000    0.001    0.000 expression_conversions.py:1079(composition)\n",
       "     1296    0.001    0.000    0.001    0.000 {method 'right_hand_side' of 'sage.symbolic.expression.Expression' objects}\n",
       "      651    0.001    0.000    0.001    0.000 <frozen importlib._bootstrap>:398(parent)\n",
       "     3888    0.001    0.000    0.001    0.000 {method 'append' of 'list' objects}\n",
       "     5184    0.001    0.000    0.001    0.000 {function Sequence_generic.__getitem__ at 0x7f90201b6700}\n",
       "      324    0.001    0.000    0.001    0.000 free_module.py:2455(zero_vector)\n",
       "      217    0.001    0.000    0.001    0.000 polynomial_ring.py:474(_implementation_names)\n",
       "      217    0.000    0.000    0.001    0.000 {method '_make_weak_references' of 'sage.categories.map.Map' objects}\n",
       "      865    0.000    0.000    0.001    0.000 quotient_ring.py:321(is_QuotientRing)\n",
       "      217    0.000    0.000    0.001    0.000 rings.py:334(is_zero)\n",
       "      217    0.000    0.000    0.004    0.000 homset.py:1232(__init__)\n",
       "      865    0.000    0.000    0.000    0.000 {sage.rings.polynomial.multi_polynomial_ring_base.is_MPolynomialRing}\n",
       "     1296    0.000    0.000    0.000    0.000 {method 'start' of 're.Match' objects}\n",
       "      217    0.000    0.000    0.001    0.000 category.py:3053(is_subcategory)\n",
       "      651    0.000    0.000    0.000    0.000 {method 'rpartition' of 'str' objects}\n",
       "        1    0.000    0.000   27.605   27.605 {built-in method builtins.sorted}\n",
       "      217    0.000    0.000    0.000    0.000 magmas.py:817(__init_extra__)\n",
       "      217    0.000    0.000    0.004    0.000 homset.py:71(__init__)\n",
       "      217    0.000    0.000    0.000    0.000 polynomial_ring.py:1226(is_exact)\n",
       "     1626    0.000    0.000    0.000    0.000 {method 'base_ring' of 'sage.structure.category_object.CategoryObject' objects}\n",
       "      648    0.000    0.000    0.000    0.000 free_module.py:2050(coordinate_ring)\n",
       "      972    0.000    0.000    0.000    0.000 free_module.py:1962(degree)\n",
       "      217    0.000    0.000    0.000    0.000 integer_mod_ring.py:242(is_IntegerModRing)\n",
       "      434    0.000    0.000    0.000    0.000 homset.py:1173(domain)\n",
       "     1296    0.000    0.000    0.000    0.000 {method 'end' of 're.Match' objects}\n",
       "      648    0.000    0.000    0.000    0.000 sequence.py:702(universe)\n",
       "      217    0.000    0.000    0.000    0.000 category.py:648(_subcategory_hook_)\n",
       "      868    0.000    0.000    0.000    0.000 homset.py:748(homset_category)\n",
       "      434    0.000    0.000    0.000    0.000 {sage.rings.finite_rings.finite_field_base.is_FiniteField}\n",
       "      648    0.000    0.000    0.000    0.000 {built-in method sage.structure.element.parent}\n",
       "      865    0.000    0.000    0.000    0.000 {method 'is_exact' of 'sage.rings.ring.Ring' objects}\n",
       "      217    0.000    0.000    0.000    0.000 defaults.py:27(variable_names)\n",
       "      217    0.000    0.000    0.000    0.000 additive_magmas.py:207(__init_extra__)\n",
       "      217    0.000    0.000    0.000    0.000 {built-in method builtins.issubclass}\n",
       "      217    0.000    0.000    0.000    0.000 polynomial_ring.py:1919(_implementation_names_impl)\n",
       "      324    0.000    0.000    0.000    0.000 {built-in method builtins.hash}\n",
       "      217    0.000    0.000    0.000    0.000 {method 'is_field' of 'sage.rings.ring.Field' objects}\n",
       "      651    0.000    0.000    0.000    0.000 {method 'category' of 'sage.rings.ring.Ring' objects}\n",
       "      651    0.000    0.000    0.000    0.000 {method 'copy' of 'list' objects}\n",
       "        1    0.000    0.000   27.605   27.605 {built-in method builtins.exec}\n",
       "      324    0.000    0.000    0.000    0.000 free_module.py:2385(rank)\n",
       "      217    0.000    0.000    0.000    0.000 rational_field.py:1554(is_RationalField)\n",
       "      217    0.000    0.000    0.000    0.000 polynomial_ring.py:186(is_PolynomialRing)\n",
       "      434    0.000    0.000    0.000    0.000 polynomial_ring.py:1307(ngens)\n",
       "      434    0.000    0.000    0.000    0.000 homset.py:1188(codomain)\n",
       "      217    0.000    0.000    0.000    0.000 {method 'one' of 'sage.rings.ring.Ring' objects}\n",
       "      217    0.000    0.000    0.000    0.000 {method '_is_coercion_cached' of 'sage.structure.parent.Parent' objects}\n",
       "      217    0.000    0.000    0.000    0.000 copy.py:107(_copy_immutable)\n",
       "      217    0.000    0.000    0.000    0.000 {method 'zero' of 'sage.rings.ring.Ring' objects}\n",
       "        1    0.000    0.000   27.605   27.605 <string>:1(<module>)\n",
       "        1    0.000    0.000    0.000    0.000 {built-in method _functools.cmp_to_key}\n",
       "        1    0.000    0.000    0.000    0.000 {method 'disable' of '_lsprof.Profiler' objects}"
      ]
     },
     "metadata": {},
     "output_type": "display_data"
    }
   ],
   "source": [
    "%prun s=sorted(l2, key=cmp_to_key(lambda item1, item2: sorter (item1, item2, Mlex, (f1,f2,f3,f4), (x,y,z,t))))"
   ]
  },
  {
   "cell_type": "code",
   "execution_count": 23,
   "id": "5bd5b710",
   "metadata": {},
   "outputs": [
    {
     "data": {
      "text/html": [
       "<html><script type=\"math/tex; mode=display\">\\newcommand{\\Bold}[1]{\\mathbf{#1}}\\left[\\frac{\\partial^{3}}{(\\partial x)^{3}}f_{1}\\left(x, y, z, t\\right), \\frac{\\partial^{3}}{(\\partial x)^{2}\\partial t}f_{1}\\left(x, y, z, t\\right), \\frac{\\partial^{2}}{(\\partial x)^{2}}f_{1}\\left(x, y, z, t\\right), \\frac{\\partial}{\\partial x}f_{1}\\left(x, y, z, t\\right), \\frac{\\partial^{3}}{(\\partial y)^{3}}f_{1}\\left(x, y, z, t\\right), \\frac{\\partial^{3}}{(\\partial y)^{2}\\partial t}f_{1}\\left(x, y, z, t\\right), \\frac{\\partial^{2}}{(\\partial y)^{2}}f_{1}\\left(x, y, z, t\\right), \\frac{\\partial}{\\partial y}f_{1}\\left(x, y, z, t\\right), \\frac{\\partial^{3}}{(\\partial z)^{3}}f_{1}\\left(x, y, z, t\\right), \\frac{\\partial^{3}}{(\\partial z)^{2}\\partial t}f_{1}\\left(x, y, z, t\\right), \\frac{\\partial^{2}}{(\\partial z)^{2}}f_{1}\\left(x, y, z, t\\right), \\frac{\\partial}{\\partial z}f_{1}\\left(x, y, z, t\\right), \\frac{\\partial^{3}}{(\\partial t)^{3}}f_{1}\\left(x, y, z, t\\right), \\frac{\\partial^{3}}{(\\partial t)^{3}}f_{1}\\left(x, y, z, t\\right), \\frac{\\partial^{2}}{(\\partial t)^{2}}f_{1}\\left(x, y, z, t\\right), \\frac{\\partial}{\\partial t}f_{1}\\left(x, y, z, t\\right), f_{1}\\left(x, y, z, t\\right), \\frac{\\partial^{3}}{(\\partial x)^{3}}f_{2}\\left(x, y, z, t\\right), \\frac{\\partial^{3}}{(\\partial x)^{2}\\partial t}f_{2}\\left(x, y, z, t\\right), \\frac{\\partial^{2}}{(\\partial x)^{2}}f_{2}\\left(x, y, z, t\\right), \\frac{\\partial}{\\partial x}f_{2}\\left(x, y, z, t\\right), \\frac{\\partial^{3}}{(\\partial y)^{3}}f_{2}\\left(x, y, z, t\\right), \\frac{\\partial^{3}}{(\\partial y)^{2}\\partial t}f_{2}\\left(x, y, z, t\\right), \\frac{\\partial^{2}}{(\\partial y)^{2}}f_{2}\\left(x, y, z, t\\right), \\frac{\\partial}{\\partial y}f_{2}\\left(x, y, z, t\\right), \\frac{\\partial^{3}}{(\\partial z)^{3}}f_{2}\\left(x, y, z, t\\right), \\frac{\\partial^{3}}{(\\partial z)^{2}\\partial t}f_{2}\\left(x, y, z, t\\right), \\frac{\\partial^{2}}{(\\partial z)^{2}}f_{2}\\left(x, y, z, t\\right), \\frac{\\partial}{\\partial z}f_{2}\\left(x, y, z, t\\right), \\frac{\\partial^{3}}{(\\partial t)^{3}}f_{2}\\left(x, y, z, t\\right), \\frac{\\partial^{3}}{(\\partial t)^{3}}f_{2}\\left(x, y, z, t\\right), \\frac{\\partial^{2}}{(\\partial t)^{2}}f_{2}\\left(x, y, z, t\\right), \\frac{\\partial}{\\partial t}f_{2}\\left(x, y, z, t\\right), f_{2}\\left(x, y, z, t\\right), \\frac{\\partial^{3}}{(\\partial x)^{3}}f_{3}\\left(x, y, z, t\\right), \\frac{\\partial^{3}}{(\\partial x)^{2}\\partial t}f_{3}\\left(x, y, z, t\\right), \\frac{\\partial^{2}}{(\\partial x)^{2}}f_{3}\\left(x, y, z, t\\right), \\frac{\\partial}{\\partial x}f_{3}\\left(x, y, z, t\\right), \\frac{\\partial^{3}}{(\\partial y)^{3}}f_{3}\\left(x, y, z, t\\right), \\frac{\\partial^{3}}{(\\partial y)^{2}\\partial t}f_{3}\\left(x, y, z, t\\right), \\frac{\\partial^{2}}{(\\partial y)^{2}}f_{3}\\left(x, y, z, t\\right), \\frac{\\partial}{\\partial y}f_{3}\\left(x, y, z, t\\right), \\frac{\\partial^{3}}{(\\partial z)^{3}}f_{3}\\left(x, y, z, t\\right), \\frac{\\partial^{3}}{(\\partial z)^{2}\\partial t}f_{3}\\left(x, y, z, t\\right), \\frac{\\partial^{2}}{(\\partial z)^{2}}f_{3}\\left(x, y, z, t\\right), \\frac{\\partial}{\\partial z}f_{3}\\left(x, y, z, t\\right), \\frac{\\partial^{3}}{(\\partial t)^{3}}f_{3}\\left(x, y, z, t\\right), \\frac{\\partial^{3}}{(\\partial t)^{3}}f_{3}\\left(x, y, z, t\\right), \\frac{\\partial^{2}}{(\\partial t)^{2}}f_{3}\\left(x, y, z, t\\right), \\frac{\\partial}{\\partial t}f_{3}\\left(x, y, z, t\\right), f_{3}\\left(x, y, z, t\\right), \\frac{\\partial^{3}}{(\\partial x)^{3}}f_{4}\\left(x, y, z, t\\right), \\frac{\\partial^{3}}{(\\partial x)^{2}\\partial t}f_{4}\\left(x, y, z, t\\right), \\frac{\\partial^{2}}{(\\partial x)^{2}}f_{4}\\left(x, y, z, t\\right), \\frac{\\partial}{\\partial x}f_{4}\\left(x, y, z, t\\right), \\frac{\\partial^{3}}{(\\partial y)^{3}}f_{4}\\left(x, y, z, t\\right), \\frac{\\partial^{3}}{(\\partial y)^{2}\\partial t}f_{4}\\left(x, y, z, t\\right), \\frac{\\partial^{2}}{(\\partial y)^{2}}f_{4}\\left(x, y, z, t\\right), \\frac{\\partial}{\\partial y}f_{4}\\left(x, y, z, t\\right), \\frac{\\partial^{3}}{(\\partial z)^{3}}f_{4}\\left(x, y, z, t\\right), \\frac{\\partial^{3}}{(\\partial z)^{2}\\partial t}f_{4}\\left(x, y, z, t\\right), \\frac{\\partial^{2}}{(\\partial z)^{2}}f_{4}\\left(x, y, z, t\\right), \\frac{\\partial}{\\partial z}f_{4}\\left(x, y, z, t\\right), \\frac{\\partial^{3}}{(\\partial t)^{3}}f_{4}\\left(x, y, z, t\\right), \\frac{\\partial^{3}}{(\\partial t)^{3}}f_{4}\\left(x, y, z, t\\right), \\frac{\\partial^{2}}{(\\partial t)^{2}}f_{4}\\left(x, y, z, t\\right), \\frac{\\partial}{\\partial t}f_{4}\\left(x, y, z, t\\right), f_{4}\\left(x, y, z, t\\right)\\right]</script></html>"
      ],
      "text/latex": [
       "\\begin{math}\n",
       "\\newcommand{\\Bold}[1]{\\mathbf{#1}}\\left[\\frac{\\partial^{3}}{(\\partial x)^{3}}f_{1}\\left(x, y, z, t\\right), \\frac{\\partial^{3}}{(\\partial x)^{2}\\partial t}f_{1}\\left(x, y, z, t\\right), \\frac{\\partial^{2}}{(\\partial x)^{2}}f_{1}\\left(x, y, z, t\\right), \\frac{\\partial}{\\partial x}f_{1}\\left(x, y, z, t\\right), \\frac{\\partial^{3}}{(\\partial y)^{3}}f_{1}\\left(x, y, z, t\\right), \\frac{\\partial^{3}}{(\\partial y)^{2}\\partial t}f_{1}\\left(x, y, z, t\\right), \\frac{\\partial^{2}}{(\\partial y)^{2}}f_{1}\\left(x, y, z, t\\right), \\frac{\\partial}{\\partial y}f_{1}\\left(x, y, z, t\\right), \\frac{\\partial^{3}}{(\\partial z)^{3}}f_{1}\\left(x, y, z, t\\right), \\frac{\\partial^{3}}{(\\partial z)^{2}\\partial t}f_{1}\\left(x, y, z, t\\right), \\frac{\\partial^{2}}{(\\partial z)^{2}}f_{1}\\left(x, y, z, t\\right), \\frac{\\partial}{\\partial z}f_{1}\\left(x, y, z, t\\right), \\frac{\\partial^{3}}{(\\partial t)^{3}}f_{1}\\left(x, y, z, t\\right), \\frac{\\partial^{3}}{(\\partial t)^{3}}f_{1}\\left(x, y, z, t\\right), \\frac{\\partial^{2}}{(\\partial t)^{2}}f_{1}\\left(x, y, z, t\\right), \\frac{\\partial}{\\partial t}f_{1}\\left(x, y, z, t\\right), f_{1}\\left(x, y, z, t\\right), \\frac{\\partial^{3}}{(\\partial x)^{3}}f_{2}\\left(x, y, z, t\\right), \\frac{\\partial^{3}}{(\\partial x)^{2}\\partial t}f_{2}\\left(x, y, z, t\\right), \\frac{\\partial^{2}}{(\\partial x)^{2}}f_{2}\\left(x, y, z, t\\right), \\frac{\\partial}{\\partial x}f_{2}\\left(x, y, z, t\\right), \\frac{\\partial^{3}}{(\\partial y)^{3}}f_{2}\\left(x, y, z, t\\right), \\frac{\\partial^{3}}{(\\partial y)^{2}\\partial t}f_{2}\\left(x, y, z, t\\right), \\frac{\\partial^{2}}{(\\partial y)^{2}}f_{2}\\left(x, y, z, t\\right), \\frac{\\partial}{\\partial y}f_{2}\\left(x, y, z, t\\right), \\frac{\\partial^{3}}{(\\partial z)^{3}}f_{2}\\left(x, y, z, t\\right), \\frac{\\partial^{3}}{(\\partial z)^{2}\\partial t}f_{2}\\left(x, y, z, t\\right), \\frac{\\partial^{2}}{(\\partial z)^{2}}f_{2}\\left(x, y, z, t\\right), \\frac{\\partial}{\\partial z}f_{2}\\left(x, y, z, t\\right), \\frac{\\partial^{3}}{(\\partial t)^{3}}f_{2}\\left(x, y, z, t\\right), \\frac{\\partial^{3}}{(\\partial t)^{3}}f_{2}\\left(x, y, z, t\\right), \\frac{\\partial^{2}}{(\\partial t)^{2}}f_{2}\\left(x, y, z, t\\right), \\frac{\\partial}{\\partial t}f_{2}\\left(x, y, z, t\\right), f_{2}\\left(x, y, z, t\\right), \\frac{\\partial^{3}}{(\\partial x)^{3}}f_{3}\\left(x, y, z, t\\right), \\frac{\\partial^{3}}{(\\partial x)^{2}\\partial t}f_{3}\\left(x, y, z, t\\right), \\frac{\\partial^{2}}{(\\partial x)^{2}}f_{3}\\left(x, y, z, t\\right), \\frac{\\partial}{\\partial x}f_{3}\\left(x, y, z, t\\right), \\frac{\\partial^{3}}{(\\partial y)^{3}}f_{3}\\left(x, y, z, t\\right), \\frac{\\partial^{3}}{(\\partial y)^{2}\\partial t}f_{3}\\left(x, y, z, t\\right), \\frac{\\partial^{2}}{(\\partial y)^{2}}f_{3}\\left(x, y, z, t\\right), \\frac{\\partial}{\\partial y}f_{3}\\left(x, y, z, t\\right), \\frac{\\partial^{3}}{(\\partial z)^{3}}f_{3}\\left(x, y, z, t\\right), \\frac{\\partial^{3}}{(\\partial z)^{2}\\partial t}f_{3}\\left(x, y, z, t\\right), \\frac{\\partial^{2}}{(\\partial z)^{2}}f_{3}\\left(x, y, z, t\\right), \\frac{\\partial}{\\partial z}f_{3}\\left(x, y, z, t\\right), \\frac{\\partial^{3}}{(\\partial t)^{3}}f_{3}\\left(x, y, z, t\\right), \\frac{\\partial^{3}}{(\\partial t)^{3}}f_{3}\\left(x, y, z, t\\right), \\frac{\\partial^{2}}{(\\partial t)^{2}}f_{3}\\left(x, y, z, t\\right), \\frac{\\partial}{\\partial t}f_{3}\\left(x, y, z, t\\right), f_{3}\\left(x, y, z, t\\right), \\frac{\\partial^{3}}{(\\partial x)^{3}}f_{4}\\left(x, y, z, t\\right), \\frac{\\partial^{3}}{(\\partial x)^{2}\\partial t}f_{4}\\left(x, y, z, t\\right), \\frac{\\partial^{2}}{(\\partial x)^{2}}f_{4}\\left(x, y, z, t\\right), \\frac{\\partial}{\\partial x}f_{4}\\left(x, y, z, t\\right), \\frac{\\partial^{3}}{(\\partial y)^{3}}f_{4}\\left(x, y, z, t\\right), \\frac{\\partial^{3}}{(\\partial y)^{2}\\partial t}f_{4}\\left(x, y, z, t\\right), \\frac{\\partial^{2}}{(\\partial y)^{2}}f_{4}\\left(x, y, z, t\\right), \\frac{\\partial}{\\partial y}f_{4}\\left(x, y, z, t\\right), \\frac{\\partial^{3}}{(\\partial z)^{3}}f_{4}\\left(x, y, z, t\\right), \\frac{\\partial^{3}}{(\\partial z)^{2}\\partial t}f_{4}\\left(x, y, z, t\\right), \\frac{\\partial^{2}}{(\\partial z)^{2}}f_{4}\\left(x, y, z, t\\right), \\frac{\\partial}{\\partial z}f_{4}\\left(x, y, z, t\\right), \\frac{\\partial^{3}}{(\\partial t)^{3}}f_{4}\\left(x, y, z, t\\right), \\frac{\\partial^{3}}{(\\partial t)^{3}}f_{4}\\left(x, y, z, t\\right), \\frac{\\partial^{2}}{(\\partial t)^{2}}f_{4}\\left(x, y, z, t\\right), \\frac{\\partial}{\\partial t}f_{4}\\left(x, y, z, t\\right), f_{4}\\left(x, y, z, t\\right)\\right]\n",
       "\\end{math}"
      ],
      "text/plain": [
       "[diff(f1(x, y, z, t), x, x, x),\n",
       " diff(f1(x, y, z, t), x, x, t),\n",
       " diff(f1(x, y, z, t), x, x),\n",
       " diff(f1(x, y, z, t), x),\n",
       " diff(f1(x, y, z, t), y, y, y),\n",
       " diff(f1(x, y, z, t), y, y, t),\n",
       " diff(f1(x, y, z, t), y, y),\n",
       " diff(f1(x, y, z, t), y),\n",
       " diff(f1(x, y, z, t), z, z, z),\n",
       " diff(f1(x, y, z, t), z, z, t),\n",
       " diff(f1(x, y, z, t), z, z),\n",
       " diff(f1(x, y, z, t), z),\n",
       " diff(f1(x, y, z, t), t, t, t),\n",
       " diff(f1(x, y, z, t), t, t, t),\n",
       " diff(f1(x, y, z, t), t, t),\n",
       " diff(f1(x, y, z, t), t),\n",
       " f1(x, y, z, t),\n",
       " diff(f2(x, y, z, t), x, x, x),\n",
       " diff(f2(x, y, z, t), x, x, t),\n",
       " diff(f2(x, y, z, t), x, x),\n",
       " diff(f2(x, y, z, t), x),\n",
       " diff(f2(x, y, z, t), y, y, y),\n",
       " diff(f2(x, y, z, t), y, y, t),\n",
       " diff(f2(x, y, z, t), y, y),\n",
       " diff(f2(x, y, z, t), y),\n",
       " diff(f2(x, y, z, t), z, z, z),\n",
       " diff(f2(x, y, z, t), z, z, t),\n",
       " diff(f2(x, y, z, t), z, z),\n",
       " diff(f2(x, y, z, t), z),\n",
       " diff(f2(x, y, z, t), t, t, t),\n",
       " diff(f2(x, y, z, t), t, t, t),\n",
       " diff(f2(x, y, z, t), t, t),\n",
       " diff(f2(x, y, z, t), t),\n",
       " f2(x, y, z, t),\n",
       " diff(f3(x, y, z, t), x, x, x),\n",
       " diff(f3(x, y, z, t), x, x, t),\n",
       " diff(f3(x, y, z, t), x, x),\n",
       " diff(f3(x, y, z, t), x),\n",
       " diff(f3(x, y, z, t), y, y, y),\n",
       " diff(f3(x, y, z, t), y, y, t),\n",
       " diff(f3(x, y, z, t), y, y),\n",
       " diff(f3(x, y, z, t), y),\n",
       " diff(f3(x, y, z, t), z, z, z),\n",
       " diff(f3(x, y, z, t), z, z, t),\n",
       " diff(f3(x, y, z, t), z, z),\n",
       " diff(f3(x, y, z, t), z),\n",
       " diff(f3(x, y, z, t), t, t, t),\n",
       " diff(f3(x, y, z, t), t, t, t),\n",
       " diff(f3(x, y, z, t), t, t),\n",
       " diff(f3(x, y, z, t), t),\n",
       " f3(x, y, z, t),\n",
       " diff(f4(x, y, z, t), x, x, x),\n",
       " diff(f4(x, y, z, t), x, x, t),\n",
       " diff(f4(x, y, z, t), x, x),\n",
       " diff(f4(x, y, z, t), x),\n",
       " diff(f4(x, y, z, t), y, y, y),\n",
       " diff(f4(x, y, z, t), y, y, t),\n",
       " diff(f4(x, y, z, t), y, y),\n",
       " diff(f4(x, y, z, t), y),\n",
       " diff(f4(x, y, z, t), z, z, z),\n",
       " diff(f4(x, y, z, t), z, z, t),\n",
       " diff(f4(x, y, z, t), z, z),\n",
       " diff(f4(x, y, z, t), z),\n",
       " diff(f4(x, y, z, t), t, t, t),\n",
       " diff(f4(x, y, z, t), t, t, t),\n",
       " diff(f4(x, y, z, t), t, t),\n",
       " diff(f4(x, y, z, t), t),\n",
       " f4(x, y, z, t)]"
      ]
     },
     "execution_count": 23,
     "metadata": {},
     "output_type": "execute_result"
    }
   ],
   "source": [
    "s"
   ]
  },
  {
   "cell_type": "code",
   "execution_count": null,
   "id": "3a313138",
   "metadata": {},
   "outputs": [],
   "source": []
  }
 ],
 "metadata": {
  "kernelspec": {
   "display_name": "SageMath 9.0",
   "language": "sage",
   "name": "sagemath"
  },
  "language_info": {
   "codemirror_mode": {
    "name": "ipython",
    "version": 3
   },
   "file_extension": ".py",
   "mimetype": "text/x-python",
   "name": "python",
   "nbconvert_exporter": "python",
   "pygments_lexer": "ipython3",
   "version": "3.8.10"
  }
 },
 "nbformat": 4,
 "nbformat_minor": 5
}
