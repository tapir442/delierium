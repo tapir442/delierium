{
 "cells": [
  {
   "cell_type": "code",
   "execution_count": 1,
   "id": "545ab148",
   "metadata": {},
   "outputs": [],
   "source": [
    "from delierium.Infinitesimals import prolongationODE\n",
    "from delierium.JanetBasis import Janet_Basis"
   ]
  },
  {
   "cell_type": "code",
   "execution_count": 2,
   "id": "09a4b34a",
   "metadata": {},
   "outputs": [],
   "source": [
    "x = var('x')\n",
    "y=function('y')"
   ]
  },
  {
   "cell_type": "code",
   "execution_count": 3,
   "id": "22b129e9",
   "metadata": {},
   "outputs": [],
   "source": [
    "ode=4*diff(y(x),x,x)*y(x) - 3* (diff(y(x),x)**2)-12*(y(x)**3)"
   ]
  },
  {
   "cell_type": "code",
   "execution_count": 4,
   "id": "5b7f1d33",
   "metadata": {},
   "outputs": [],
   "source": [
    "p=prolongationODE(ode, y, x)[0].expand()"
   ]
  },
  {
   "cell_type": "code",
   "execution_count": 5,
   "id": "97ac90fc",
   "metadata": {},
   "outputs": [
    {
     "data": {
      "text/html": [
       "<html>\\(\\displaystyle -4 \\, y\\left(x\\right) \\mathrm{D}_{0, 0}\\left(\\xi\\right)\\left(y\\left(x\\right), x\\right) \\frac{\\partial}{\\partial x}y\\left(x\\right)^{3}\\)</html>"
      ],
      "text/latex": [
       "$\\displaystyle -4 \\, y\\left(x\\right) \\mathrm{D}_{0, 0}\\left(\\xi\\right)\\left(y\\left(x\\right), x\\right) \\frac{\\partial}{\\partial x}y\\left(x\\right)^{3}$"
      ],
      "text/plain": [
       "-4*y(x)*D[0, 0](xi)(y(x), x)*diff(y(x), x)^3"
      ]
     },
     "metadata": {},
     "output_type": "display_data"
    },
    {
     "data": {
      "text/html": [
       "<html>\\(\\displaystyle 4 \\, y\\left(x\\right) \\mathrm{D}_{0, 0}\\left(\\phi\\right)\\left(y\\left(x\\right), x\\right) \\frac{\\partial}{\\partial x}y\\left(x\\right)^{2}\\)</html>"
      ],
      "text/latex": [
       "$\\displaystyle 4 \\, y\\left(x\\right) \\mathrm{D}_{0, 0}\\left(\\phi\\right)\\left(y\\left(x\\right), x\\right) \\frac{\\partial}{\\partial x}y\\left(x\\right)^{2}$"
      ],
      "text/plain": [
       "4*y(x)*D[0, 0](phi)(y(x), x)*diff(y(x), x)^2"
      ]
     },
     "metadata": {},
     "output_type": "display_data"
    },
    {
     "data": {
      "text/html": [
       "<html>\\(\\displaystyle -8 \\, y\\left(x\\right) \\mathrm{D}_{0, 1}\\left(\\xi\\right)\\left(y\\left(x\\right), x\\right) \\frac{\\partial}{\\partial x}y\\left(x\\right)^{2}\\)</html>"
      ],
      "text/latex": [
       "$\\displaystyle -8 \\, y\\left(x\\right) \\mathrm{D}_{0, 1}\\left(\\xi\\right)\\left(y\\left(x\\right), x\\right) \\frac{\\partial}{\\partial x}y\\left(x\\right)^{2}$"
      ],
      "text/plain": [
       "-8*y(x)*D[0, 1](xi)(y(x), x)*diff(y(x), x)^2"
      ]
     },
     "metadata": {},
     "output_type": "display_data"
    },
    {
     "data": {
      "text/html": [
       "<html>\\(\\displaystyle 6 \\, \\mathrm{D}_{0}\\left(\\xi\\right)\\left(y\\left(x\\right), x\\right) \\frac{\\partial}{\\partial x}y\\left(x\\right)^{3}\\)</html>"
      ],
      "text/latex": [
       "$\\displaystyle 6 \\, \\mathrm{D}_{0}\\left(\\xi\\right)\\left(y\\left(x\\right), x\\right) \\frac{\\partial}{\\partial x}y\\left(x\\right)^{3}$"
      ],
      "text/plain": [
       "6*D[0](xi)(y(x), x)*diff(y(x), x)^3"
      ]
     },
     "metadata": {},
     "output_type": "display_data"
    },
    {
     "data": {
      "text/html": [
       "<html>\\(\\displaystyle -12 \\, y\\left(x\\right) \\mathrm{D}_{0}\\left(\\xi\\right)\\left(y\\left(x\\right), x\\right) \\frac{\\partial}{\\partial x}y\\left(x\\right) \\frac{\\partial^{2}}{(\\partial x)^{2}}y\\left(x\\right)\\)</html>"
      ],
      "text/latex": [
       "$\\displaystyle -12 \\, y\\left(x\\right) \\mathrm{D}_{0}\\left(\\xi\\right)\\left(y\\left(x\\right), x\\right) \\frac{\\partial}{\\partial x}y\\left(x\\right) \\frac{\\partial^{2}}{(\\partial x)^{2}}y\\left(x\\right)$"
      ],
      "text/plain": [
       "-12*y(x)*D[0](xi)(y(x), x)*diff(y(x), x)*diff(y(x), x, x)"
      ]
     },
     "metadata": {},
     "output_type": "display_data"
    },
    {
     "data": {
      "text/html": [
       "<html>\\(\\displaystyle -36 \\, \\phi\\left(y\\left(x\\right), x\\right) y\\left(x\\right)^{2}\\)</html>"
      ],
      "text/latex": [
       "$\\displaystyle -36 \\, \\phi\\left(y\\left(x\\right), x\\right) y\\left(x\\right)^{2}$"
      ],
      "text/plain": [
       "-36*phi(y(x), x)*y(x)^2"
      ]
     },
     "metadata": {},
     "output_type": "display_data"
    },
    {
     "data": {
      "text/html": [
       "<html>\\(\\displaystyle 8 \\, y\\left(x\\right) \\mathrm{D}_{0, 1}\\left(\\phi\\right)\\left(y\\left(x\\right), x\\right) \\frac{\\partial}{\\partial x}y\\left(x\\right)\\)</html>"
      ],
      "text/latex": [
       "$\\displaystyle 8 \\, y\\left(x\\right) \\mathrm{D}_{0, 1}\\left(\\phi\\right)\\left(y\\left(x\\right), x\\right) \\frac{\\partial}{\\partial x}y\\left(x\\right)$"
      ],
      "text/plain": [
       "8*y(x)*D[0, 1](phi)(y(x), x)*diff(y(x), x)"
      ]
     },
     "metadata": {},
     "output_type": "display_data"
    },
    {
     "data": {
      "text/html": [
       "<html>\\(\\displaystyle -4 \\, y\\left(x\\right) \\mathrm{D}_{1, 1}\\left(\\xi\\right)\\left(y\\left(x\\right), x\\right) \\frac{\\partial}{\\partial x}y\\left(x\\right)\\)</html>"
      ],
      "text/latex": [
       "$\\displaystyle -4 \\, y\\left(x\\right) \\mathrm{D}_{1, 1}\\left(\\xi\\right)\\left(y\\left(x\\right), x\\right) \\frac{\\partial}{\\partial x}y\\left(x\\right)$"
      ],
      "text/plain": [
       "-4*y(x)*D[1, 1](xi)(y(x), x)*diff(y(x), x)"
      ]
     },
     "metadata": {},
     "output_type": "display_data"
    },
    {
     "data": {
      "text/html": [
       "<html>\\(\\displaystyle -6 \\, \\mathrm{D}_{0}\\left(\\phi\\right)\\left(y\\left(x\\right), x\\right) \\frac{\\partial}{\\partial x}y\\left(x\\right)^{2}\\)</html>"
      ],
      "text/latex": [
       "$\\displaystyle -6 \\, \\mathrm{D}_{0}\\left(\\phi\\right)\\left(y\\left(x\\right), x\\right) \\frac{\\partial}{\\partial x}y\\left(x\\right)^{2}$"
      ],
      "text/plain": [
       "-6*D[0](phi)(y(x), x)*diff(y(x), x)^2"
      ]
     },
     "metadata": {},
     "output_type": "display_data"
    },
    {
     "data": {
      "text/html": [
       "<html>\\(\\displaystyle 6 \\, \\mathrm{D}_{1}\\left(\\xi\\right)\\left(y\\left(x\\right), x\\right) \\frac{\\partial}{\\partial x}y\\left(x\\right)^{2}\\)</html>"
      ],
      "text/latex": [
       "$\\displaystyle 6 \\, \\mathrm{D}_{1}\\left(\\xi\\right)\\left(y\\left(x\\right), x\\right) \\frac{\\partial}{\\partial x}y\\left(x\\right)^{2}$"
      ],
      "text/plain": [
       "6*D[1](xi)(y(x), x)*diff(y(x), x)^2"
      ]
     },
     "metadata": {},
     "output_type": "display_data"
    },
    {
     "data": {
      "text/html": [
       "<html>\\(\\displaystyle 4 \\, y\\left(x\\right) \\mathrm{D}_{0}\\left(\\phi\\right)\\left(y\\left(x\\right), x\\right) \\frac{\\partial^{2}}{(\\partial x)^{2}}y\\left(x\\right)\\)</html>"
      ],
      "text/latex": [
       "$\\displaystyle 4 \\, y\\left(x\\right) \\mathrm{D}_{0}\\left(\\phi\\right)\\left(y\\left(x\\right), x\\right) \\frac{\\partial^{2}}{(\\partial x)^{2}}y\\left(x\\right)$"
      ],
      "text/plain": [
       "4*y(x)*D[0](phi)(y(x), x)*diff(y(x), x, x)"
      ]
     },
     "metadata": {},
     "output_type": "display_data"
    },
    {
     "data": {
      "text/html": [
       "<html>\\(\\displaystyle -8 \\, y\\left(x\\right) \\mathrm{D}_{1}\\left(\\xi\\right)\\left(y\\left(x\\right), x\\right) \\frac{\\partial^{2}}{(\\partial x)^{2}}y\\left(x\\right)\\)</html>"
      ],
      "text/latex": [
       "$\\displaystyle -8 \\, y\\left(x\\right) \\mathrm{D}_{1}\\left(\\xi\\right)\\left(y\\left(x\\right), x\\right) \\frac{\\partial^{2}}{(\\partial x)^{2}}y\\left(x\\right)$"
      ],
      "text/plain": [
       "-8*y(x)*D[1](xi)(y(x), x)*diff(y(x), x, x)"
      ]
     },
     "metadata": {},
     "output_type": "display_data"
    },
    {
     "data": {
      "text/html": [
       "<html>\\(\\displaystyle 4 \\, y\\left(x\\right) \\mathrm{D}_{1, 1}\\left(\\phi\\right)\\left(y\\left(x\\right), x\\right)\\)</html>"
      ],
      "text/latex": [
       "$\\displaystyle 4 \\, y\\left(x\\right) \\mathrm{D}_{1, 1}\\left(\\phi\\right)\\left(y\\left(x\\right), x\\right)$"
      ],
      "text/plain": [
       "4*y(x)*D[1, 1](phi)(y(x), x)"
      ]
     },
     "metadata": {},
     "output_type": "display_data"
    },
    {
     "data": {
      "text/html": [
       "<html>\\(\\displaystyle -6 \\, \\mathrm{D}_{1}\\left(\\phi\\right)\\left(y\\left(x\\right), x\\right) \\frac{\\partial}{\\partial x}y\\left(x\\right)\\)</html>"
      ],
      "text/latex": [
       "$\\displaystyle -6 \\, \\mathrm{D}_{1}\\left(\\phi\\right)\\left(y\\left(x\\right), x\\right) \\frac{\\partial}{\\partial x}y\\left(x\\right)$"
      ],
      "text/plain": [
       "-6*D[1](phi)(y(x), x)*diff(y(x), x)"
      ]
     },
     "metadata": {},
     "output_type": "display_data"
    },
    {
     "data": {
      "text/html": [
       "<html>\\(\\displaystyle 4 \\, \\phi\\left(y\\left(x\\right), x\\right) \\frac{\\partial^{2}}{(\\partial x)^{2}}y\\left(x\\right)\\)</html>"
      ],
      "text/latex": [
       "$\\displaystyle 4 \\, \\phi\\left(y\\left(x\\right), x\\right) \\frac{\\partial^{2}}{(\\partial x)^{2}}y\\left(x\\right)$"
      ],
      "text/plain": [
       "4*phi(y(x), x)*diff(y(x), x, x)"
      ]
     },
     "metadata": {},
     "output_type": "display_data"
    }
   ],
   "source": [
    "for _ in p.operands():\n",
    "    _.show()"
   ]
  },
  {
   "cell_type": "code",
   "execution_count": 6,
   "id": "c4d6d230",
   "metadata": {},
   "outputs": [],
   "source": [
    "s1=solve(ode==0, diff(y(x),x,x))"
   ]
  },
  {
   "cell_type": "code",
   "execution_count": 7,
   "id": "ae36230a",
   "metadata": {},
   "outputs": [
    {
     "data": {
      "text/html": [
       "<html>\\(\\displaystyle \\frac{\\partial^{2}}{(\\partial x)^{2}}y\\left(x\\right) = \\frac{3 \\, {\\left(4 \\, y\\left(x\\right)^{3} + \\frac{\\partial}{\\partial x}y\\left(x\\right)^{2}\\right)}}{4 \\, y\\left(x\\right)}\\)</html>"
      ],
      "text/latex": [
       "$\\displaystyle \\frac{\\partial^{2}}{(\\partial x)^{2}}y\\left(x\\right) = \\frac{3 \\, {\\left(4 \\, y\\left(x\\right)^{3} + \\frac{\\partial}{\\partial x}y\\left(x\\right)^{2}\\right)}}{4 \\, y\\left(x\\right)}$"
      ],
      "text/plain": [
       "diff(y(x), x, x) == 3/4*(4*y(x)^3 + diff(y(x), x)^2)/y(x)"
      ]
     },
     "metadata": {},
     "output_type": "display_data"
    },
    {
     "data": {
      "text/html": [
       "<html>\\(\\displaystyle \\frac{\\partial^{2}}{(\\partial x)^{2}}y\\left(x\\right)\\)</html>"
      ],
      "text/latex": [
       "$\\displaystyle \\frac{\\partial^{2}}{(\\partial x)^{2}}y\\left(x\\right)$"
      ],
      "text/plain": [
       "diff(y(x), x, x)"
      ]
     },
     "metadata": {},
     "output_type": "display_data"
    },
    {
     "data": {
      "text/html": [
       "<html>\\(\\displaystyle \\frac{3 \\, {\\left(4 \\, y\\left(x\\right)^{3} + \\frac{\\partial}{\\partial x}y\\left(x\\right)^{2}\\right)}}{4 \\, y\\left(x\\right)}\\)</html>"
      ],
      "text/latex": [
       "$\\displaystyle \\frac{3 \\, {\\left(4 \\, y\\left(x\\right)^{3} + \\frac{\\partial}{\\partial x}y\\left(x\\right)^{2}\\right)}}{4 \\, y\\left(x\\right)}$"
      ],
      "text/plain": [
       "3/4*(4*y(x)^3 + diff(y(x), x)^2)/y(x)"
      ]
     },
     "metadata": {},
     "output_type": "display_data"
    }
   ],
   "source": [
    "s1=s1[0];s1.show();s1.lhs().show();s1.rhs().show()"
   ]
  },
  {
   "cell_type": "code",
   "execution_count": 8,
   "id": "f9036d72",
   "metadata": {},
   "outputs": [],
   "source": [
    "ode1=p.subs({s1.lhs() : s1.rhs()}).simplify()"
   ]
  },
  {
   "cell_type": "code",
   "execution_count": 9,
   "id": "9c868a24",
   "metadata": {},
   "outputs": [
    {
     "data": {
      "text/html": [
       "<html>\\(\\displaystyle -36 \\, y\\left(x\\right)^{3} \\mathrm{D}_{0}\\left(\\xi\\right)\\left(y\\left(x\\right), x\\right) \\frac{\\partial}{\\partial x}y\\left(x\\right) - 4 \\, y\\left(x\\right) \\mathrm{D}_{0, 0}\\left(\\xi\\right)\\left(y\\left(x\\right), x\\right) \\frac{\\partial}{\\partial x}y\\left(x\\right)^{3} + 12 \\, y\\left(x\\right)^{3} \\mathrm{D}_{0}\\left(\\phi\\right)\\left(y\\left(x\\right), x\\right) - 24 \\, y\\left(x\\right)^{3} \\mathrm{D}_{1}\\left(\\xi\\right)\\left(y\\left(x\\right), x\\right) + 4 \\, y\\left(x\\right) \\mathrm{D}_{0, 0}\\left(\\phi\\right)\\left(y\\left(x\\right), x\\right) \\frac{\\partial}{\\partial x}y\\left(x\\right)^{2} - 8 \\, y\\left(x\\right) \\mathrm{D}_{0, 1}\\left(\\xi\\right)\\left(y\\left(x\\right), x\\right) \\frac{\\partial}{\\partial x}y\\left(x\\right)^{2} - 3 \\, \\mathrm{D}_{0}\\left(\\xi\\right)\\left(y\\left(x\\right), x\\right) \\frac{\\partial}{\\partial x}y\\left(x\\right)^{3} - 24 \\, \\phi\\left(y\\left(x\\right), x\\right) y\\left(x\\right)^{2} + 8 \\, y\\left(x\\right) \\mathrm{D}_{0, 1}\\left(\\phi\\right)\\left(y\\left(x\\right), x\\right) \\frac{\\partial}{\\partial x}y\\left(x\\right) - 4 \\, y\\left(x\\right) \\mathrm{D}_{1, 1}\\left(\\xi\\right)\\left(y\\left(x\\right), x\\right) \\frac{\\partial}{\\partial x}y\\left(x\\right) - 3 \\, \\mathrm{D}_{0}\\left(\\phi\\right)\\left(y\\left(x\\right), x\\right) \\frac{\\partial}{\\partial x}y\\left(x\\right)^{2} + 4 \\, y\\left(x\\right) \\mathrm{D}_{1, 1}\\left(\\phi\\right)\\left(y\\left(x\\right), x\\right) - 6 \\, \\mathrm{D}_{1}\\left(\\phi\\right)\\left(y\\left(x\\right), x\\right) \\frac{\\partial}{\\partial x}y\\left(x\\right) + \\frac{3 \\, \\phi\\left(y\\left(x\\right), x\\right) \\frac{\\partial}{\\partial x}y\\left(x\\right)^{2}}{y\\left(x\\right)}\\)</html>"
      ],
      "text/latex": [
       "$\\displaystyle -36 \\, y\\left(x\\right)^{3} \\mathrm{D}_{0}\\left(\\xi\\right)\\left(y\\left(x\\right), x\\right) \\frac{\\partial}{\\partial x}y\\left(x\\right) - 4 \\, y\\left(x\\right) \\mathrm{D}_{0, 0}\\left(\\xi\\right)\\left(y\\left(x\\right), x\\right) \\frac{\\partial}{\\partial x}y\\left(x\\right)^{3} + 12 \\, y\\left(x\\right)^{3} \\mathrm{D}_{0}\\left(\\phi\\right)\\left(y\\left(x\\right), x\\right) - 24 \\, y\\left(x\\right)^{3} \\mathrm{D}_{1}\\left(\\xi\\right)\\left(y\\left(x\\right), x\\right) + 4 \\, y\\left(x\\right) \\mathrm{D}_{0, 0}\\left(\\phi\\right)\\left(y\\left(x\\right), x\\right) \\frac{\\partial}{\\partial x}y\\left(x\\right)^{2} - 8 \\, y\\left(x\\right) \\mathrm{D}_{0, 1}\\left(\\xi\\right)\\left(y\\left(x\\right), x\\right) \\frac{\\partial}{\\partial x}y\\left(x\\right)^{2} - 3 \\, \\mathrm{D}_{0}\\left(\\xi\\right)\\left(y\\left(x\\right), x\\right) \\frac{\\partial}{\\partial x}y\\left(x\\right)^{3} - 24 \\, \\phi\\left(y\\left(x\\right), x\\right) y\\left(x\\right)^{2} + 8 \\, y\\left(x\\right) \\mathrm{D}_{0, 1}\\left(\\phi\\right)\\left(y\\left(x\\right), x\\right) \\frac{\\partial}{\\partial x}y\\left(x\\right) - 4 \\, y\\left(x\\right) \\mathrm{D}_{1, 1}\\left(\\xi\\right)\\left(y\\left(x\\right), x\\right) \\frac{\\partial}{\\partial x}y\\left(x\\right) - 3 \\, \\mathrm{D}_{0}\\left(\\phi\\right)\\left(y\\left(x\\right), x\\right) \\frac{\\partial}{\\partial x}y\\left(x\\right)^{2} + 4 \\, y\\left(x\\right) \\mathrm{D}_{1, 1}\\left(\\phi\\right)\\left(y\\left(x\\right), x\\right) - 6 \\, \\mathrm{D}_{1}\\left(\\phi\\right)\\left(y\\left(x\\right), x\\right) \\frac{\\partial}{\\partial x}y\\left(x\\right) + \\frac{3 \\, \\phi\\left(y\\left(x\\right), x\\right) \\frac{\\partial}{\\partial x}y\\left(x\\right)^{2}}{y\\left(x\\right)}$"
      ],
      "text/plain": [
       "-36*y(x)^3*D[0](xi)(y(x), x)*diff(y(x), x) - 4*y(x)*D[0, 0](xi)(y(x), x)*diff(y(x), x)^3 + 12*y(x)^3*D[0](phi)(y(x), x) - 24*y(x)^3*D[1](xi)(y(x), x) + 4*y(x)*D[0, 0](phi)(y(x), x)*diff(y(x), x)^2 - 8*y(x)*D[0, 1](xi)(y(x), x)*diff(y(x), x)^2 - 3*D[0](xi)(y(x), x)*diff(y(x), x)^3 - 24*phi(y(x), x)*y(x)^2 + 8*y(x)*D[0, 1](phi)(y(x), x)*diff(y(x), x) - 4*y(x)*D[1, 1](xi)(y(x), x)*diff(y(x), x) - 3*D[0](phi)(y(x), x)*diff(y(x), x)^2 + 4*y(x)*D[1, 1](phi)(y(x), x) - 6*D[1](phi)(y(x), x)*diff(y(x), x) + 3*phi(y(x), x)*diff(y(x), x)^2/y(x)"
      ]
     },
     "metadata": {},
     "output_type": "display_data"
    }
   ],
   "source": [
    "ode1.expand().show()"
   ]
  },
  {
   "cell_type": "code",
   "execution_count": 10,
   "id": "e0ecd722",
   "metadata": {},
   "outputs": [
    {
     "data": {
      "text/html": [
       "<html>\\(\\displaystyle -36 \\, y\\left(x\\right)^{3} \\mathrm{D}_{0}\\left(\\xi\\right)\\left(y\\left(x\\right), x\\right) \\frac{\\partial}{\\partial x}y\\left(x\\right) + 12 \\, y\\left(x\\right)^{3} \\mathrm{D}_{0}\\left(\\phi\\right)\\left(y\\left(x\\right), x\\right) - 24 \\, y\\left(x\\right)^{3} \\mathrm{D}_{1}\\left(\\xi\\right)\\left(y\\left(x\\right), x\\right) + 4 \\, y\\left(x\\right) \\mathrm{D}_{0, 0}\\left(\\phi\\right)\\left(y\\left(x\\right), x\\right) \\frac{\\partial}{\\partial x}y\\left(x\\right)^{2} - 8 \\, y\\left(x\\right) \\mathrm{D}_{0, 1}\\left(\\xi\\right)\\left(y\\left(x\\right), x\\right) \\frac{\\partial}{\\partial x}y\\left(x\\right)^{2} - {\\left(4 \\, y\\left(x\\right) \\mathrm{D}_{0, 0}\\left(\\xi\\right)\\left(y\\left(x\\right), x\\right) + 3 \\, \\mathrm{D}_{0}\\left(\\xi\\right)\\left(y\\left(x\\right), x\\right)\\right)} \\frac{\\partial}{\\partial x}y\\left(x\\right)^{3} - 24 \\, \\phi\\left(y\\left(x\\right), x\\right) y\\left(x\\right)^{2} + 8 \\, y\\left(x\\right) \\mathrm{D}_{0, 1}\\left(\\phi\\right)\\left(y\\left(x\\right), x\\right) \\frac{\\partial}{\\partial x}y\\left(x\\right) - 4 \\, y\\left(x\\right) \\mathrm{D}_{1, 1}\\left(\\xi\\right)\\left(y\\left(x\\right), x\\right) \\frac{\\partial}{\\partial x}y\\left(x\\right) - 3 \\, \\mathrm{D}_{0}\\left(\\phi\\right)\\left(y\\left(x\\right), x\\right) \\frac{\\partial}{\\partial x}y\\left(x\\right)^{2} + 4 \\, y\\left(x\\right) \\mathrm{D}_{1, 1}\\left(\\phi\\right)\\left(y\\left(x\\right), x\\right) - 6 \\, \\mathrm{D}_{1}\\left(\\phi\\right)\\left(y\\left(x\\right), x\\right) \\frac{\\partial}{\\partial x}y\\left(x\\right) + \\frac{3 \\, \\phi\\left(y\\left(x\\right), x\\right) \\frac{\\partial}{\\partial x}y\\left(x\\right)^{2}}{y\\left(x\\right)}\\)</html>"
      ],
      "text/latex": [
       "$\\displaystyle -36 \\, y\\left(x\\right)^{3} \\mathrm{D}_{0}\\left(\\xi\\right)\\left(y\\left(x\\right), x\\right) \\frac{\\partial}{\\partial x}y\\left(x\\right) + 12 \\, y\\left(x\\right)^{3} \\mathrm{D}_{0}\\left(\\phi\\right)\\left(y\\left(x\\right), x\\right) - 24 \\, y\\left(x\\right)^{3} \\mathrm{D}_{1}\\left(\\xi\\right)\\left(y\\left(x\\right), x\\right) + 4 \\, y\\left(x\\right) \\mathrm{D}_{0, 0}\\left(\\phi\\right)\\left(y\\left(x\\right), x\\right) \\frac{\\partial}{\\partial x}y\\left(x\\right)^{2} - 8 \\, y\\left(x\\right) \\mathrm{D}_{0, 1}\\left(\\xi\\right)\\left(y\\left(x\\right), x\\right) \\frac{\\partial}{\\partial x}y\\left(x\\right)^{2} - {\\left(4 \\, y\\left(x\\right) \\mathrm{D}_{0, 0}\\left(\\xi\\right)\\left(y\\left(x\\right), x\\right) + 3 \\, \\mathrm{D}_{0}\\left(\\xi\\right)\\left(y\\left(x\\right), x\\right)\\right)} \\frac{\\partial}{\\partial x}y\\left(x\\right)^{3} - 24 \\, \\phi\\left(y\\left(x\\right), x\\right) y\\left(x\\right)^{2} + 8 \\, y\\left(x\\right) \\mathrm{D}_{0, 1}\\left(\\phi\\right)\\left(y\\left(x\\right), x\\right) \\frac{\\partial}{\\partial x}y\\left(x\\right) - 4 \\, y\\left(x\\right) \\mathrm{D}_{1, 1}\\left(\\xi\\right)\\left(y\\left(x\\right), x\\right) \\frac{\\partial}{\\partial x}y\\left(x\\right) - 3 \\, \\mathrm{D}_{0}\\left(\\phi\\right)\\left(y\\left(x\\right), x\\right) \\frac{\\partial}{\\partial x}y\\left(x\\right)^{2} + 4 \\, y\\left(x\\right) \\mathrm{D}_{1, 1}\\left(\\phi\\right)\\left(y\\left(x\\right), x\\right) - 6 \\, \\mathrm{D}_{1}\\left(\\phi\\right)\\left(y\\left(x\\right), x\\right) \\frac{\\partial}{\\partial x}y\\left(x\\right) + \\frac{3 \\, \\phi\\left(y\\left(x\\right), x\\right) \\frac{\\partial}{\\partial x}y\\left(x\\right)^{2}}{y\\left(x\\right)}$"
      ],
      "text/plain": [
       "-36*y(x)^3*D[0](xi)(y(x), x)*diff(y(x), x) + 12*y(x)^3*D[0](phi)(y(x), x) - 24*y(x)^3*D[1](xi)(y(x), x) + 4*y(x)*D[0, 0](phi)(y(x), x)*diff(y(x), x)^2 - 8*y(x)*D[0, 1](xi)(y(x), x)*diff(y(x), x)^2 - (4*y(x)*D[0, 0](xi)(y(x), x) + 3*D[0](xi)(y(x), x))*diff(y(x), x)^3 - 24*phi(y(x), x)*y(x)^2 + 8*y(x)*D[0, 1](phi)(y(x), x)*diff(y(x), x) - 4*y(x)*D[1, 1](xi)(y(x), x)*diff(y(x), x) - 3*D[0](phi)(y(x), x)*diff(y(x), x)^2 + 4*y(x)*D[1, 1](phi)(y(x), x) - 6*D[1](phi)(y(x), x)*diff(y(x), x) + 3*phi(y(x), x)*diff(y(x), x)^2/y(x)"
      ]
     },
     "metadata": {},
     "output_type": "display_data"
    }
   ],
   "source": [
    "r1=ode1.expand().collect(diff(y(x),x)**3);r1.show()"
   ]
  },
  {
   "cell_type": "code",
   "execution_count": 11,
   "id": "1c50132f",
   "metadata": {},
   "outputs": [
    {
     "data": {
      "text/html": [
       "<html>\\(\\displaystyle -36 \\, y\\left(x\\right)^{3} \\mathrm{D}_{0}\\left(\\xi\\right)\\left(y\\left(x\\right), x\\right) \\frac{\\partial}{\\partial x}y\\left(x\\right) + 12 \\, y\\left(x\\right)^{3} \\mathrm{D}_{0}\\left(\\phi\\right)\\left(y\\left(x\\right), x\\right) - 24 \\, y\\left(x\\right)^{3} \\mathrm{D}_{1}\\left(\\xi\\right)\\left(y\\left(x\\right), x\\right) - {\\left(4 \\, y\\left(x\\right) \\mathrm{D}_{0, 0}\\left(\\xi\\right)\\left(y\\left(x\\right), x\\right) + 3 \\, \\mathrm{D}_{0}\\left(\\xi\\right)\\left(y\\left(x\\right), x\\right)\\right)} \\frac{\\partial}{\\partial x}y\\left(x\\right)^{3} - 24 \\, \\phi\\left(y\\left(x\\right), x\\right) y\\left(x\\right)^{2} + 8 \\, y\\left(x\\right) \\mathrm{D}_{0, 1}\\left(\\phi\\right)\\left(y\\left(x\\right), x\\right) \\frac{\\partial}{\\partial x}y\\left(x\\right) - 4 \\, y\\left(x\\right) \\mathrm{D}_{1, 1}\\left(\\xi\\right)\\left(y\\left(x\\right), x\\right) \\frac{\\partial}{\\partial x}y\\left(x\\right) + {\\left(4 \\, y\\left(x\\right) \\mathrm{D}_{0, 0}\\left(\\phi\\right)\\left(y\\left(x\\right), x\\right) - 8 \\, y\\left(x\\right) \\mathrm{D}_{0, 1}\\left(\\xi\\right)\\left(y\\left(x\\right), x\\right) + \\frac{3 \\, \\phi\\left(y\\left(x\\right), x\\right)}{y\\left(x\\right)} - 3 \\, \\mathrm{D}_{0}\\left(\\phi\\right)\\left(y\\left(x\\right), x\\right)\\right)} \\frac{\\partial}{\\partial x}y\\left(x\\right)^{2} + 4 \\, y\\left(x\\right) \\mathrm{D}_{1, 1}\\left(\\phi\\right)\\left(y\\left(x\\right), x\\right) - 6 \\, \\mathrm{D}_{1}\\left(\\phi\\right)\\left(y\\left(x\\right), x\\right) \\frac{\\partial}{\\partial x}y\\left(x\\right)\\)</html>"
      ],
      "text/latex": [
       "$\\displaystyle -36 \\, y\\left(x\\right)^{3} \\mathrm{D}_{0}\\left(\\xi\\right)\\left(y\\left(x\\right), x\\right) \\frac{\\partial}{\\partial x}y\\left(x\\right) + 12 \\, y\\left(x\\right)^{3} \\mathrm{D}_{0}\\left(\\phi\\right)\\left(y\\left(x\\right), x\\right) - 24 \\, y\\left(x\\right)^{3} \\mathrm{D}_{1}\\left(\\xi\\right)\\left(y\\left(x\\right), x\\right) - {\\left(4 \\, y\\left(x\\right) \\mathrm{D}_{0, 0}\\left(\\xi\\right)\\left(y\\left(x\\right), x\\right) + 3 \\, \\mathrm{D}_{0}\\left(\\xi\\right)\\left(y\\left(x\\right), x\\right)\\right)} \\frac{\\partial}{\\partial x}y\\left(x\\right)^{3} - 24 \\, \\phi\\left(y\\left(x\\right), x\\right) y\\left(x\\right)^{2} + 8 \\, y\\left(x\\right) \\mathrm{D}_{0, 1}\\left(\\phi\\right)\\left(y\\left(x\\right), x\\right) \\frac{\\partial}{\\partial x}y\\left(x\\right) - 4 \\, y\\left(x\\right) \\mathrm{D}_{1, 1}\\left(\\xi\\right)\\left(y\\left(x\\right), x\\right) \\frac{\\partial}{\\partial x}y\\left(x\\right) + {\\left(4 \\, y\\left(x\\right) \\mathrm{D}_{0, 0}\\left(\\phi\\right)\\left(y\\left(x\\right), x\\right) - 8 \\, y\\left(x\\right) \\mathrm{D}_{0, 1}\\left(\\xi\\right)\\left(y\\left(x\\right), x\\right) + \\frac{3 \\, \\phi\\left(y\\left(x\\right), x\\right)}{y\\left(x\\right)} - 3 \\, \\mathrm{D}_{0}\\left(\\phi\\right)\\left(y\\left(x\\right), x\\right)\\right)} \\frac{\\partial}{\\partial x}y\\left(x\\right)^{2} + 4 \\, y\\left(x\\right) \\mathrm{D}_{1, 1}\\left(\\phi\\right)\\left(y\\left(x\\right), x\\right) - 6 \\, \\mathrm{D}_{1}\\left(\\phi\\right)\\left(y\\left(x\\right), x\\right) \\frac{\\partial}{\\partial x}y\\left(x\\right)$"
      ],
      "text/plain": [
       "-36*y(x)^3*D[0](xi)(y(x), x)*diff(y(x), x) + 12*y(x)^3*D[0](phi)(y(x), x) - 24*y(x)^3*D[1](xi)(y(x), x) - (4*y(x)*D[0, 0](xi)(y(x), x) + 3*D[0](xi)(y(x), x))*diff(y(x), x)^3 - 24*phi(y(x), x)*y(x)^2 + 8*y(x)*D[0, 1](phi)(y(x), x)*diff(y(x), x) - 4*y(x)*D[1, 1](xi)(y(x), x)*diff(y(x), x) + (4*y(x)*D[0, 0](phi)(y(x), x) - 8*y(x)*D[0, 1](xi)(y(x), x) + 3*phi(y(x), x)/y(x) - 3*D[0](phi)(y(x), x))*diff(y(x), x)^2 + 4*y(x)*D[1, 1](phi)(y(x), x) - 6*D[1](phi)(y(x), x)*diff(y(x), x)"
      ]
     },
     "metadata": {},
     "output_type": "display_data"
    }
   ],
   "source": [
    "r2=r1.collect(diff(y(x),x)**2);r2.show()"
   ]
  },
  {
   "cell_type": "code",
   "execution_count": 12,
   "id": "8cf44482",
   "metadata": {},
   "outputs": [
    {
     "data": {
      "text/html": [
       "<html>\\(\\displaystyle 12 \\, y\\left(x\\right)^{3} \\mathrm{D}_{0}\\left(\\phi\\right)\\left(y\\left(x\\right), x\\right) - 24 \\, y\\left(x\\right)^{3} \\mathrm{D}_{1}\\left(\\xi\\right)\\left(y\\left(x\\right), x\\right) - {\\left(4 \\, y\\left(x\\right) \\mathrm{D}_{0, 0}\\left(\\xi\\right)\\left(y\\left(x\\right), x\\right) + 3 \\, \\mathrm{D}_{0}\\left(\\xi\\right)\\left(y\\left(x\\right), x\\right)\\right)} \\frac{\\partial}{\\partial x}y\\left(x\\right)^{3} - 24 \\, \\phi\\left(y\\left(x\\right), x\\right) y\\left(x\\right)^{2} + {\\left(4 \\, y\\left(x\\right) \\mathrm{D}_{0, 0}\\left(\\phi\\right)\\left(y\\left(x\\right), x\\right) - 8 \\, y\\left(x\\right) \\mathrm{D}_{0, 1}\\left(\\xi\\right)\\left(y\\left(x\\right), x\\right) + \\frac{3 \\, \\phi\\left(y\\left(x\\right), x\\right)}{y\\left(x\\right)} - 3 \\, \\mathrm{D}_{0}\\left(\\phi\\right)\\left(y\\left(x\\right), x\\right)\\right)} \\frac{\\partial}{\\partial x}y\\left(x\\right)^{2} + 4 \\, y\\left(x\\right) \\mathrm{D}_{1, 1}\\left(\\phi\\right)\\left(y\\left(x\\right), x\\right) - 2 \\, {\\left(18 \\, y\\left(x\\right)^{3} \\mathrm{D}_{0}\\left(\\xi\\right)\\left(y\\left(x\\right), x\\right) - 4 \\, y\\left(x\\right) \\mathrm{D}_{0, 1}\\left(\\phi\\right)\\left(y\\left(x\\right), x\\right) + 2 \\, y\\left(x\\right) \\mathrm{D}_{1, 1}\\left(\\xi\\right)\\left(y\\left(x\\right), x\\right) + 3 \\, \\mathrm{D}_{1}\\left(\\phi\\right)\\left(y\\left(x\\right), x\\right)\\right)} \\frac{\\partial}{\\partial x}y\\left(x\\right)\\)</html>"
      ],
      "text/latex": [
       "$\\displaystyle 12 \\, y\\left(x\\right)^{3} \\mathrm{D}_{0}\\left(\\phi\\right)\\left(y\\left(x\\right), x\\right) - 24 \\, y\\left(x\\right)^{3} \\mathrm{D}_{1}\\left(\\xi\\right)\\left(y\\left(x\\right), x\\right) - {\\left(4 \\, y\\left(x\\right) \\mathrm{D}_{0, 0}\\left(\\xi\\right)\\left(y\\left(x\\right), x\\right) + 3 \\, \\mathrm{D}_{0}\\left(\\xi\\right)\\left(y\\left(x\\right), x\\right)\\right)} \\frac{\\partial}{\\partial x}y\\left(x\\right)^{3} - 24 \\, \\phi\\left(y\\left(x\\right), x\\right) y\\left(x\\right)^{2} + {\\left(4 \\, y\\left(x\\right) \\mathrm{D}_{0, 0}\\left(\\phi\\right)\\left(y\\left(x\\right), x\\right) - 8 \\, y\\left(x\\right) \\mathrm{D}_{0, 1}\\left(\\xi\\right)\\left(y\\left(x\\right), x\\right) + \\frac{3 \\, \\phi\\left(y\\left(x\\right), x\\right)}{y\\left(x\\right)} - 3 \\, \\mathrm{D}_{0}\\left(\\phi\\right)\\left(y\\left(x\\right), x\\right)\\right)} \\frac{\\partial}{\\partial x}y\\left(x\\right)^{2} + 4 \\, y\\left(x\\right) \\mathrm{D}_{1, 1}\\left(\\phi\\right)\\left(y\\left(x\\right), x\\right) - 2 \\, {\\left(18 \\, y\\left(x\\right)^{3} \\mathrm{D}_{0}\\left(\\xi\\right)\\left(y\\left(x\\right), x\\right) - 4 \\, y\\left(x\\right) \\mathrm{D}_{0, 1}\\left(\\phi\\right)\\left(y\\left(x\\right), x\\right) + 2 \\, y\\left(x\\right) \\mathrm{D}_{1, 1}\\left(\\xi\\right)\\left(y\\left(x\\right), x\\right) + 3 \\, \\mathrm{D}_{1}\\left(\\phi\\right)\\left(y\\left(x\\right), x\\right)\\right)} \\frac{\\partial}{\\partial x}y\\left(x\\right)$"
      ],
      "text/plain": [
       "12*y(x)^3*D[0](phi)(y(x), x) - 24*y(x)^3*D[1](xi)(y(x), x) - (4*y(x)*D[0, 0](xi)(y(x), x) + 3*D[0](xi)(y(x), x))*diff(y(x), x)^3 - 24*phi(y(x), x)*y(x)^2 + (4*y(x)*D[0, 0](phi)(y(x), x) - 8*y(x)*D[0, 1](xi)(y(x), x) + 3*phi(y(x), x)/y(x) - 3*D[0](phi)(y(x), x))*diff(y(x), x)^2 + 4*y(x)*D[1, 1](phi)(y(x), x) - 2*(18*y(x)^3*D[0](xi)(y(x), x) - 4*y(x)*D[0, 1](phi)(y(x), x) + 2*y(x)*D[1, 1](xi)(y(x), x) + 3*D[1](phi)(y(x), x))*diff(y(x), x)"
      ]
     },
     "metadata": {},
     "output_type": "display_data"
    }
   ],
   "source": [
    "r3=r2.collect(diff(y(x),x)); r3.show()"
   ]
  },
  {
   "cell_type": "code",
   "execution_count": 13,
   "id": "cd845ac0",
   "metadata": {
    "scrolled": true
   },
   "outputs": [
    {
     "data": {
      "text/html": [
       "<html>\\(\\displaystyle -36 \\, y\\left(x\\right)^{3} \\mathrm{D}_{0}\\left(\\xi\\right)\\left(y\\left(x\\right), x\\right) \\frac{\\partial}{\\partial x}y\\left(x\\right) - 4 \\, y\\left(x\\right) \\mathrm{D}_{0, 0}\\left(\\xi\\right)\\left(y\\left(x\\right), x\\right) \\frac{\\partial}{\\partial x}y\\left(x\\right)^{3} + 12 \\, y\\left(x\\right)^{3} \\mathrm{D}_{0}\\left(\\phi\\right)\\left(y\\left(x\\right), x\\right) - 24 \\, y\\left(x\\right)^{3} \\mathrm{D}_{1}\\left(\\xi\\right)\\left(y\\left(x\\right), x\\right) + 4 \\, y\\left(x\\right) \\mathrm{D}_{0, 0}\\left(\\phi\\right)\\left(y\\left(x\\right), x\\right) \\frac{\\partial}{\\partial x}y\\left(x\\right)^{2} - 8 \\, y\\left(x\\right) \\mathrm{D}_{0, 1}\\left(\\xi\\right)\\left(y\\left(x\\right), x\\right) \\frac{\\partial}{\\partial x}y\\left(x\\right)^{2} - 3 \\, \\mathrm{D}_{0}\\left(\\xi\\right)\\left(y\\left(x\\right), x\\right) \\frac{\\partial}{\\partial x}y\\left(x\\right)^{3} - 24 \\, \\phi\\left(y\\left(x\\right), x\\right) y\\left(x\\right)^{2} + 8 \\, y\\left(x\\right) \\mathrm{D}_{0, 1}\\left(\\phi\\right)\\left(y\\left(x\\right), x\\right) \\frac{\\partial}{\\partial x}y\\left(x\\right) - 4 \\, y\\left(x\\right) \\mathrm{D}_{1, 1}\\left(\\xi\\right)\\left(y\\left(x\\right), x\\right) \\frac{\\partial}{\\partial x}y\\left(x\\right) - 3 \\, \\mathrm{D}_{0}\\left(\\phi\\right)\\left(y\\left(x\\right), x\\right) \\frac{\\partial}{\\partial x}y\\left(x\\right)^{2} + 4 \\, y\\left(x\\right) \\mathrm{D}_{1, 1}\\left(\\phi\\right)\\left(y\\left(x\\right), x\\right) - 6 \\, \\mathrm{D}_{1}\\left(\\phi\\right)\\left(y\\left(x\\right), x\\right) \\frac{\\partial}{\\partial x}y\\left(x\\right) + \\frac{3 \\, \\phi\\left(y\\left(x\\right), x\\right) \\frac{\\partial}{\\partial x}y\\left(x\\right)^{2}}{y\\left(x\\right)}\\)</html>"
      ],
      "text/latex": [
       "$\\displaystyle -36 \\, y\\left(x\\right)^{3} \\mathrm{D}_{0}\\left(\\xi\\right)\\left(y\\left(x\\right), x\\right) \\frac{\\partial}{\\partial x}y\\left(x\\right) - 4 \\, y\\left(x\\right) \\mathrm{D}_{0, 0}\\left(\\xi\\right)\\left(y\\left(x\\right), x\\right) \\frac{\\partial}{\\partial x}y\\left(x\\right)^{3} + 12 \\, y\\left(x\\right)^{3} \\mathrm{D}_{0}\\left(\\phi\\right)\\left(y\\left(x\\right), x\\right) - 24 \\, y\\left(x\\right)^{3} \\mathrm{D}_{1}\\left(\\xi\\right)\\left(y\\left(x\\right), x\\right) + 4 \\, y\\left(x\\right) \\mathrm{D}_{0, 0}\\left(\\phi\\right)\\left(y\\left(x\\right), x\\right) \\frac{\\partial}{\\partial x}y\\left(x\\right)^{2} - 8 \\, y\\left(x\\right) \\mathrm{D}_{0, 1}\\left(\\xi\\right)\\left(y\\left(x\\right), x\\right) \\frac{\\partial}{\\partial x}y\\left(x\\right)^{2} - 3 \\, \\mathrm{D}_{0}\\left(\\xi\\right)\\left(y\\left(x\\right), x\\right) \\frac{\\partial}{\\partial x}y\\left(x\\right)^{3} - 24 \\, \\phi\\left(y\\left(x\\right), x\\right) y\\left(x\\right)^{2} + 8 \\, y\\left(x\\right) \\mathrm{D}_{0, 1}\\left(\\phi\\right)\\left(y\\left(x\\right), x\\right) \\frac{\\partial}{\\partial x}y\\left(x\\right) - 4 \\, y\\left(x\\right) \\mathrm{D}_{1, 1}\\left(\\xi\\right)\\left(y\\left(x\\right), x\\right) \\frac{\\partial}{\\partial x}y\\left(x\\right) - 3 \\, \\mathrm{D}_{0}\\left(\\phi\\right)\\left(y\\left(x\\right), x\\right) \\frac{\\partial}{\\partial x}y\\left(x\\right)^{2} + 4 \\, y\\left(x\\right) \\mathrm{D}_{1, 1}\\left(\\phi\\right)\\left(y\\left(x\\right), x\\right) - 6 \\, \\mathrm{D}_{1}\\left(\\phi\\right)\\left(y\\left(x\\right), x\\right) \\frac{\\partial}{\\partial x}y\\left(x\\right) + \\frac{3 \\, \\phi\\left(y\\left(x\\right), x\\right) \\frac{\\partial}{\\partial x}y\\left(x\\right)^{2}}{y\\left(x\\right)}$"
      ],
      "text/plain": [
       "-36*y(x)^3*D[0](xi)(y(x), x)*diff(y(x), x) - 4*y(x)*D[0, 0](xi)(y(x), x)*diff(y(x), x)^3 + 12*y(x)^3*D[0](phi)(y(x), x) - 24*y(x)^3*D[1](xi)(y(x), x) + 4*y(x)*D[0, 0](phi)(y(x), x)*diff(y(x), x)^2 - 8*y(x)*D[0, 1](xi)(y(x), x)*diff(y(x), x)^2 - 3*D[0](xi)(y(x), x)*diff(y(x), x)^3 - 24*phi(y(x), x)*y(x)^2 + 8*y(x)*D[0, 1](phi)(y(x), x)*diff(y(x), x) - 4*y(x)*D[1, 1](xi)(y(x), x)*diff(y(x), x) - 3*D[0](phi)(y(x), x)*diff(y(x), x)^2 + 4*y(x)*D[1, 1](phi)(y(x), x) - 6*D[1](phi)(y(x), x)*diff(y(x), x) + 3*phi(y(x), x)*diff(y(x), x)^2/y(x)"
      ]
     },
     "metadata": {},
     "output_type": "display_data"
    }
   ],
   "source": [
    "r4=r3.collect(y(x)); r4.show()"
   ]
  },
  {
   "cell_type": "code",
   "execution_count": 14,
   "id": "89de1c73",
   "metadata": {},
   "outputs": [],
   "source": [
    "from IPython.core.debugger import set_trace\n",
    "function('xi phi')\n",
    "def infinitesimalsODE (ode, dependent, independent):\n",
    "    prolongation = prolongationODE(ode, dependent, independent)[0].expand()\n",
    "    s1  = solve(ode==0, diff(dependent(independent),independent,independent))\n",
    "    ode1= prolongation.subs({s1[0].lhs() : s1[0].rhs()}).simplify()\n",
    "    # so far it is checked manually and with mathematica\n",
    "    l = [_ [0] for _ in ode1.coefficients(diff(dependent(independent), independent))]\n",
    "    # remove hardcoded xi, phi\n",
    "    janet = Janet_Basis(l, [xi, phi], [x, y])\n",
    "    return janet"
   ]
  },
  {
   "cell_type": "code",
   "execution_count": 15,
   "id": "e524c658-6b1a-486e-8cb5-a6961261adc2",
   "metadata": {
    "tags": []
   },
   "outputs": [],
   "source": [
    "ode=4*diff(y(x),x,x)*y(x) - 3* diff(y(x),x)**2-12*y(x)**3\n",
    "inf = infinitesimalsODE(ode, y ,x)"
   ]
  },
  {
   "cell_type": "code",
   "execution_count": null,
   "id": "bb3e29b4-aae9-4f4d-a7d9-e3b11538b29b",
   "metadata": {},
   "outputs": [],
   "source": []
  }
 ],
 "metadata": {
  "kernelspec": {
   "display_name": "SageMath 9.6",
   "language": "sage",
   "name": "sagemath"
  },
  "language_info": {
   "codemirror_mode": {
    "name": "ipython",
    "version": 3
   },
   "file_extension": ".py",
   "mimetype": "text/x-python",
   "name": "python",
   "nbconvert_exporter": "python",
   "pygments_lexer": "ipython3",
   "version": "3.10.6"
  },
  "widgets": {
   "application/vnd.jupyter.widget-state+json": {
    "state": {},
    "version_major": 2,
    "version_minor": 0
   }
  }
 },
 "nbformat": 4,
 "nbformat_minor": 5
}
