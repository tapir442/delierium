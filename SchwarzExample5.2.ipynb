{
 "cells": [
  {
   "cell_type": "code",
   "execution_count": 1,
   "id": "545ab148",
   "metadata": {},
   "outputs": [],
   "source": [
    "from delierium.Infinitesimals import prolongationODE\n",
    "from delierium.JanetBasis import Janet_Basis\n",
    "from delierium.MatrixOrder import Context\n",
    "from delierium.helpers import latexer\n",
    "from sage.misc.html import html"
   ]
  },
  {
   "cell_type": "code",
   "execution_count": 2,
   "id": "09a4b34a",
   "metadata": {},
   "outputs": [],
   "source": [
    "x = var('x')\n",
    "y=function('y')"
   ]
  },
  {
   "cell_type": "code",
   "execution_count": 3,
   "id": "22b129e9",
   "metadata": {},
   "outputs": [],
   "source": [
    "ode=4*diff(y(x),x,x)*y(x) - 3* (diff(y(x),x)**2)-12*(y(x)**3)"
   ]
  },
  {
   "cell_type": "code",
   "execution_count": 4,
   "id": "5b7f1d33",
   "metadata": {},
   "outputs": [],
   "source": [
    "p=prolongationODE(ode, y, x)"
   ]
  },
  {
   "cell_type": "code",
   "execution_count": 5,
   "id": "97ac90fc",
   "metadata": {},
   "outputs": [
    {
     "name": "stdout",
     "output_type": "stream",
     "text": [
      "-4*y(x)*D[0, 0](xi)(y(x), x)*diff(y(x), x)^3 + 36*xi(y(x), x)*y(x)^2*diff(y(x), x) + 4*y(x)*D[0, 0](phi)(y(x), x)*diff(y(x), x)^2 - 8*y(x)*D[0, 1](xi)(y(x), x)*diff(y(x), x)^2 + 6*D[0](xi)(y(x), x)*diff(y(x), x)^3 - 12*y(x)*D[0](xi)(y(x), x)*diff(y(x), x)*diff(y(x), x, x) - 36*phi(y(x), x)*y(x)^2 + 8*y(x)*D[0, 1](phi)(y(x), x)*diff(y(x), x) - 4*y(x)*D[1, 1](xi)(y(x), x)*diff(y(x), x) - 6*D[0](phi)(y(x), x)*diff(y(x), x)^2 + 6*D[1](xi)(y(x), x)*diff(y(x), x)^2 + 4*y(x)*D[0](phi)(y(x), x)*diff(y(x), x, x) - 8*y(x)*D[1](xi)(y(x), x)*diff(y(x), x, x) + 2*xi(y(x), x)*diff(y(x), x)*diff(y(x), x, x) - 4*xi(y(x), x)*y(x)*diff(y(x), x, x, x) - 2*(18*y(x)^2*diff(y(x), x) + diff(y(x), x)*diff(y(x), x, x) - 2*y(x)*diff(y(x), x, x, x))*xi(y(x), x) + 4*y(x)*D[1, 1](phi)(y(x), x) - 6*D[1](phi)(y(x), x)*diff(y(x), x) + 4*phi(y(x), x)*diff(y(x), x, x)\n"
     ]
    },
    {
     "data": {
      "text/html": [
       "\\(-4 y  \\xi_{yy} y_{x}^3 + 4 y  \\phi_{yy} y_{x}^2 - 8 y  \\xi_{yx} y_{x}^2 + 6  \\xi_{y} y_{x}^3 - 12 y  \\xi_{y} y_{x} y_{x x} - 36 \\phi(y, x) y^2 + 8 y  \\phi_{yx} y_{x} - 4 y  \\xi_{xx} y_{x} - 6  \\phi_{y} y_{x}^2 + 6  \\xi_{x} y_{x}^2 + 4 y  \\phi_{y} y_{x x} - 8 y  \\xi_{x} y_{x x} + 4 y  \\phi_{xx} - 6  \\phi_{x} y_{x} + 4 \\phi(y, x) y_{x x}\\)"
      ],
      "text/plain": [
       "\\(-4 y  \\xi_{yy} y_{x}^3 + 4 y  \\phi_{yy} y_{x}^2 - 8 y  \\xi_{yx} y_{x}^2 + 6  \\xi_{y} y_{x}^3 - 12 y  \\xi_{y} y_{x} y_{x x} - 36 \\phi(y, x) y^2 + 8 y  \\phi_{yx} y_{x} - 4 y  \\xi_{xx} y_{x} - 6  \\phi_{y} y_{x}^2 + 6  \\xi_{x} y_{x}^2 + 4 y  \\phi_{y} y_{x x} - 8 y  \\xi_{x} y_{x x} + 4 y  \\phi_{xx} - 6  \\phi_{x} y_{x} + 4 \\phi(y, x) y_{x x}\\)"
      ]
     },
     "metadata": {},
     "output_type": "display_data"
    }
   ],
   "source": [
    "for _p in p:\n",
    "    show(latexer(_p))"
   ]
  },
  {
   "cell_type": "code",
   "execution_count": 6,
   "id": "89de1c73",
   "metadata": {},
   "outputs": [],
   "source": [
    "def infinitesimalsODE (ode, dependent, independent):\n",
    "    prolongation = prolongationODE(ode, dependent, independent)[0].expand()\n",
    "    for _p in [prolongation]:\n",
    "        show(latexer(_p))\n",
    "    s1  = solve(ode==0, diff(dependent(independent),independent,independent))\n",
    "    ode1= prolongation.subs({s1[0].lhs() : s1[0].rhs()}).simplify()\n",
    "    #print((ode1))\n",
    "    # so far it is checked manually and with mathematica\n",
    "    l = [_ [0] for _ in ode1.coefficients(diff(dependent(independent), independent))]\n",
    "    # remove hardcoded xi, phi\n",
    "    return l"
   ]
  },
  {
   "cell_type": "code",
   "execution_count": 7,
   "id": "e524c658-6b1a-486e-8cb5-a6961261adc2",
   "metadata": {
    "tags": []
   },
   "outputs": [
    {
     "name": "stdout",
     "output_type": "stream",
     "text": [
      "-4*y(x)*D[0, 0](xi)(y(x), x)*diff(y(x), x)^3 + 4*y(x)*D[0, 0](phi)(y(x), x)*diff(y(x), x)^2 - 8*y(x)*D[0, 1](xi)(y(x), x)*diff(y(x), x)^2 + 6*D[0](xi)(y(x), x)*diff(y(x), x)^3 - 12*y(x)*D[0](xi)(y(x), x)*diff(y(x), x)*diff(y(x), x, x) - 36*phi(y(x), x)*y(x)^2 + 8*y(x)*D[0, 1](phi)(y(x), x)*diff(y(x), x) - 4*y(x)*D[1, 1](xi)(y(x), x)*diff(y(x), x) - 6*D[0](phi)(y(x), x)*diff(y(x), x)^2 + 6*D[1](xi)(y(x), x)*diff(y(x), x)^2 + 4*y(x)*D[0](phi)(y(x), x)*diff(y(x), x, x) - 8*y(x)*D[1](xi)(y(x), x)*diff(y(x), x, x) + 4*y(x)*D[1, 1](phi)(y(x), x) - 6*D[1](phi)(y(x), x)*diff(y(x), x) + 4*phi(y(x), x)*diff(y(x), x, x)\n"
     ]
    },
    {
     "data": {
      "text/html": [
       "\\(-4 y  \\xi_{yy} y_{x}^3 + 4 y  \\phi_{yy} y_{x}^2 - 8 y  \\xi_{yx} y_{x}^2 + 6  \\xi_{y} y_{x}^3 - 12 y  \\xi_{y} y_{x} y_{x x} - 36 \\phi(y, x) y^2 + 8 y  \\phi_{yx} y_{x} - 4 y  \\xi_{xx} y_{x} - 6  \\phi_{y} y_{x}^2 + 6  \\xi_{x} y_{x}^2 + 4 y  \\phi_{y} y_{x x} - 8 y  \\xi_{x} y_{x x} + 4 y  \\phi_{xx} - 6  \\phi_{x} y_{x} + 4 \\phi(y, x) y_{x x}\\)"
      ],
      "text/plain": [
       "\\(-4 y  \\xi_{yy} y_{x}^3 + 4 y  \\phi_{yy} y_{x}^2 - 8 y  \\xi_{yx} y_{x}^2 + 6  \\xi_{y} y_{x}^3 - 12 y  \\xi_{y} y_{x} y_{x x} - 36 \\phi(y, x) y^2 + 8 y  \\phi_{yx} y_{x} - 4 y  \\xi_{xx} y_{x} - 6  \\phi_{y} y_{x}^2 + 6  \\xi_{x} y_{x}^2 + 4 y  \\phi_{y} y_{x x} - 8 y  \\xi_{x} y_{x x} + 4 y  \\phi_{xx} - 6  \\phi_{x} y_{x} + 4 \\phi(y, x) y_{x x}\\)"
      ]
     },
     "metadata": {},
     "output_type": "display_data"
    }
   ],
   "source": [
    "ode=4*diff(y(x),x,x)*y(x) - 3* diff(y(x),x)**2-12*y(x)**3\n",
    "inf = infinitesimalsODE(ode, y ,x)"
   ]
  },
  {
   "cell_type": "code",
   "execution_count": 8,
   "id": "4b97b763-d32d-46c6-b902-dbb0217a0e0f",
   "metadata": {},
   "outputs": [
    {
     "name": "stdout",
     "output_type": "stream",
     "text": [
      "12*y(x)^3*D[0](phi)(y(x), x) - 24*y(x)^3*D[1](xi)(y(x), x) - 24*phi(y(x), x)*y(x)^2 + 4*y(x)*D[1, 1](phi)(y(x), x)\n"
     ]
    },
    {
     "data": {
      "text/html": [
       "\\(12 y^3  \\phi_{y} - 24 y^3  \\xi_{x} - 24 \\phi(y, x) y^2 + 4 y  \\phi_{xx}\\)"
      ],
      "text/plain": [
       "\\(12 y^3  \\phi_{y} - 24 y^3  \\xi_{x} - 24 \\phi(y, x) y^2 + 4 y  \\phi_{xx}\\)"
      ]
     },
     "metadata": {},
     "output_type": "display_data"
    },
    {
     "name": "stdout",
     "output_type": "stream",
     "text": [
      "-36*y(x)^3*D[0](xi)(y(x), x) + 8*y(x)*D[0, 1](phi)(y(x), x) - 4*y(x)*D[1, 1](xi)(y(x), x) - 6*D[1](phi)(y(x), x)\n"
     ]
    },
    {
     "data": {
      "text/html": [
       "\\(-36 y^3  \\xi_{y} + 8 y  \\phi_{yx} - 4 y  \\xi_{xx} - 6  \\phi_{x}\\)"
      ],
      "text/plain": [
       "\\(-36 y^3  \\xi_{y} + 8 y  \\phi_{yx} - 4 y  \\xi_{xx} - 6  \\phi_{x}\\)"
      ]
     },
     "metadata": {},
     "output_type": "display_data"
    },
    {
     "name": "stdout",
     "output_type": "stream",
     "text": [
      "4*y(x)*D[0, 0](phi)(y(x), x) - 8*y(x)*D[0, 1](xi)(y(x), x) + 3*phi(y(x), x)/y(x) - 3*D[0](phi)(y(x), x)\n"
     ]
    },
    {
     "data": {
      "text/html": [
       "\\(4 y  \\phi_{yy} - 8 y  \\xi_{yx} + 3 \\phi(y, x)/y - 3  \\phi_{y}\\)"
      ],
      "text/plain": [
       "\\(4 y  \\phi_{yy} - 8 y  \\xi_{yx} + 3 \\phi(y, x)/y - 3  \\phi_{y}\\)"
      ]
     },
     "metadata": {},
     "output_type": "display_data"
    },
    {
     "name": "stdout",
     "output_type": "stream",
     "text": [
      "-4*y(x)*D[0, 0](xi)(y(x), x) - 3*D[0](xi)(y(x), x)\n"
     ]
    },
    {
     "data": {
      "text/html": [
       "\\(-4 y  \\xi_{yy} - 3  \\xi_{y}\\)"
      ],
      "text/plain": [
       "\\(-4 y  \\xi_{yy} - 3  \\xi_{y}\\)"
      ]
     },
     "metadata": {},
     "output_type": "display_data"
    }
   ],
   "source": [
    "for _ in inf:\n",
    "    show(latexer(_, [y]))"
   ]
  },
  {
   "cell_type": "code",
   "execution_count": 9,
   "id": "06996069-2d0b-415f-bb23-aa54fbf0ba5b",
   "metadata": {},
   "outputs": [
    {
     "name": "stdout",
     "output_type": "stream",
     "text": [
      "-3*y(x)*D[0](xi)(y(x), x)*diff(y(x), x)^2 - D[0, 0](xi)(y(x), x)*diff(y(x), x)^3 + 3*phi(y(x), x)*y(x)^2 + 3*y(x)*D[0](phi)(y(x), x)*diff(y(x), x) - 3*y(x)*D[1](xi)(y(x), x)*diff(y(x), x) + D[0, 0](phi)(y(x), x)*diff(y(x), x)^2 - 2*D[0, 1](xi)(y(x), x)*diff(y(x), x)^2 - 3*D[0](xi)(y(x), x)*diff(y(x), x)*diff(y(x), x, x) + 3*y(x)*D[1](phi)(y(x), x) + 3*phi(y(x), x)*diff(y(x), x) + 2*D[0, 1](phi)(y(x), x)*diff(y(x), x) - D[1, 1](xi)(y(x), x)*diff(y(x), x) + D[0](phi)(y(x), x)*diff(y(x), x, x) - 2*D[1](xi)(y(x), x)*diff(y(x), x, x) + D[1, 1](phi)(y(x), x)\n"
     ]
    },
    {
     "data": {
      "text/html": [
       "\\(-3 y  \\xi_{y} y_{x}^2 -  \\xi_{yy} y_{x}^3 + 3 \\phi(y, x) y^2 + 3 y  \\phi_{y} y_{x} - 3 y  \\xi_{x} y_{x} +  \\phi_{yy} y_{x}^2 - 2  \\xi_{yx} y_{x}^2 - 3  \\xi_{y} y_{x} y_{x x} + 3 y  \\phi_{x} + 3 \\phi(y, x) y_{x} + 2  \\phi_{yx} y_{x} -  \\xi_{xx} y_{x} +  \\phi_{y} y_{x x} - 2  \\xi_{x} y_{x x} +  \\phi_{xx}\\)"
      ],
      "text/plain": [
       "\\(-3 y  \\xi_{y} y_{x}^2 -  \\xi_{yy} y_{x}^3 + 3 \\phi(y, x) y^2 + 3 y  \\phi_{y} y_{x} - 3 y  \\xi_{x} y_{x} +  \\phi_{yy} y_{x}^2 - 2  \\xi_{yx} y_{x}^2 - 3  \\xi_{y} y_{x} y_{x x} + 3 y  \\phi_{x} + 3 \\phi(y, x) y_{x} + 2  \\phi_{yx} y_{x} -  \\xi_{xx} y_{x} +  \\phi_{y} y_{x x} - 2  \\xi_{x} y_{x x} +  \\phi_{xx}\\)"
      ]
     },
     "metadata": {},
     "output_type": "display_data"
    },
    {
     "name": "stdout",
     "output_type": "stream",
     "text": [
      "-y(x)^3*D[0](phi)(y(x), x) + 2*y(x)^3*D[1](xi)(y(x), x) + 3*phi(y(x), x)*y(x)^2 + 3*y(x)*D[1](phi)(y(x), x) + D[1, 1](phi)(y(x), x)\n"
     ]
    },
    {
     "data": {
      "text/html": [
       "\\(-y^3  \\phi_{y} + 2 y^3  \\xi_{x} + 3 \\phi(y, x) y^2 + 3 y  \\phi_{x} +  \\phi_{xx}\\)"
      ],
      "text/plain": [
       "\\(-y^3  \\phi_{y} + 2 y^3  \\xi_{x} + 3 \\phi(y, x) y^2 + 3 y  \\phi_{x} +  \\phi_{xx}\\)"
      ]
     },
     "metadata": {},
     "output_type": "display_data"
    },
    {
     "name": "stdout",
     "output_type": "stream",
     "text": [
      "3*y(x)^3*D[0](xi)(y(x), x) + 3*y(x)*D[1](xi)(y(x), x) + 3*phi(y(x), x) + 2*D[0, 1](phi)(y(x), x) - D[1, 1](xi)(y(x), x)\n"
     ]
    },
    {
     "data": {
      "text/html": [
       "\\(3 y^3  \\xi_{y} + 3 y  \\xi_{x} + 3 \\phi(y, x) + 2  \\phi_{yx} -  \\xi_{xx}\\)"
      ],
      "text/plain": [
       "\\(3 y^3  \\xi_{y} + 3 y  \\xi_{x} + 3 \\phi(y, x) + 2  \\phi_{yx} -  \\xi_{xx}\\)"
      ]
     },
     "metadata": {},
     "output_type": "display_data"
    },
    {
     "name": "stdout",
     "output_type": "stream",
     "text": [
      "6*y(x)*D[0](xi)(y(x), x) + D[0, 0](phi)(y(x), x) - 2*D[0, 1](xi)(y(x), x)\n"
     ]
    },
    {
     "data": {
      "text/html": [
       "\\(6 y  \\xi_{y} +  \\phi_{yy} - 2  \\xi_{yx}\\)"
      ],
      "text/plain": [
       "\\(6 y  \\xi_{y} +  \\phi_{yy} - 2  \\xi_{yx}\\)"
      ]
     },
     "metadata": {},
     "output_type": "display_data"
    },
    {
     "name": "stdout",
     "output_type": "stream",
     "text": [
      "-D[0, 0](xi)(y(x), x)\n"
     ]
    },
    {
     "data": {
      "text/html": [
       "\\(- \\xi_{yy}\\)"
      ],
      "text/plain": [
       "\\(- \\xi_{yy}\\)"
      ]
     },
     "metadata": {},
     "output_type": "display_data"
    }
   ],
   "source": [
    "ode = diff(y(x),x,x)+3*y(x)*diff(y(x),x)+y(x)**3\n",
    "inf = infinitesimalsODE(ode, y ,x)\n",
    "for _ in inf:\n",
    "    show(latexer(_))"
   ]
  },
  {
   "cell_type": "code",
   "execution_count": 10,
   "id": "892e76c9-3867-45d9-a74f-f337229bf53a",
   "metadata": {},
   "outputs": [],
   "source": [
    "ode=diff(y(x),x,x)"
   ]
  },
  {
   "cell_type": "code",
   "execution_count": 11,
   "id": "34038f31-5026-4bf0-b72a-79aa5dc32d25",
   "metadata": {},
   "outputs": [
    {
     "name": "stdout",
     "output_type": "stream",
     "text": [
      "-D[0, 0](xi)(y(x), x)*diff(y(x), x)^3 + D[0, 0](phi)(y(x), x)*diff(y(x), x)^2 - 2*D[0, 1](xi)(y(x), x)*diff(y(x), x)^2 - 3*D[0](xi)(y(x), x)*diff(y(x), x)*diff(y(x), x, x) + 2*D[0, 1](phi)(y(x), x)*diff(y(x), x) - D[1, 1](xi)(y(x), x)*diff(y(x), x) + D[0](phi)(y(x), x)*diff(y(x), x, x) - 2*D[1](xi)(y(x), x)*diff(y(x), x, x) + D[1, 1](phi)(y(x), x)\n"
     ]
    },
    {
     "data": {
      "text/html": [
       "\\(- \\xi_{yy} y_{x}^3 +  \\phi_{yy} y_{x}^2 - 2  \\xi_{yx} y_{x}^2 - 3  \\xi_{y} y_{x} y_{x x} + 2  \\phi_{yx} y_{x} -  \\xi_{xx} y_{x} +  \\phi_{y} y_{x x} - 2  \\xi_{x} y_{x x} +  \\phi_{xx}\\)"
      ],
      "text/plain": [
       "\\(- \\xi_{yy} y_{x}^3 +  \\phi_{yy} y_{x}^2 - 2  \\xi_{yx} y_{x}^2 - 3  \\xi_{y} y_{x} y_{x x} + 2  \\phi_{yx} y_{x} -  \\xi_{xx} y_{x} +  \\phi_{y} y_{x x} - 2  \\xi_{x} y_{x x} +  \\phi_{xx}\\)"
      ]
     },
     "metadata": {},
     "output_type": "display_data"
    },
    {
     "name": "stdout",
     "output_type": "stream",
     "text": [
      "D[1, 1](phi)(y(x), x)\n"
     ]
    },
    {
     "data": {
      "text/html": [
       "\\( \\phi_{xx}\\)"
      ],
      "text/plain": [
       "\\( \\phi_{xx}\\)"
      ]
     },
     "metadata": {},
     "output_type": "display_data"
    },
    {
     "name": "stdout",
     "output_type": "stream",
     "text": [
      "2*D[0, 1](phi)(y(x), x) - D[1, 1](xi)(y(x), x)\n"
     ]
    },
    {
     "data": {
      "text/html": [
       "\\(2  \\phi_{yx} -  \\xi_{xx}\\)"
      ],
      "text/plain": [
       "\\(2  \\phi_{yx} -  \\xi_{xx}\\)"
      ]
     },
     "metadata": {},
     "output_type": "display_data"
    },
    {
     "name": "stdout",
     "output_type": "stream",
     "text": [
      "D[0, 0](phi)(y(x), x) - 2*D[0, 1](xi)(y(x), x)\n"
     ]
    },
    {
     "data": {
      "text/html": [
       "\\( \\phi_{yy} - 2  \\xi_{yx}\\)"
      ],
      "text/plain": [
       "\\( \\phi_{yy} - 2  \\xi_{yx}\\)"
      ]
     },
     "metadata": {},
     "output_type": "display_data"
    },
    {
     "name": "stdout",
     "output_type": "stream",
     "text": [
      "-D[0, 0](xi)(y(x), x)\n"
     ]
    },
    {
     "data": {
      "text/html": [
       "\\(- \\xi_{yy}\\)"
      ],
      "text/plain": [
       "\\(- \\xi_{yy}\\)"
      ]
     },
     "metadata": {},
     "output_type": "display_data"
    }
   ],
   "source": [
    "inf = infinitesimalsODE(ode, y ,x)\n",
    "for _ in inf:\n",
    "    show(latexer(_))"
   ]
  },
  {
   "cell_type": "code",
   "execution_count": 12,
   "id": "9b916bde-a700-4946-ad17-31466124f82a",
   "metadata": {},
   "outputs": [],
   "source": [
    "x,t = var('x t')\n",
    "u=function('u')(x,t)\n",
    "v=function('v')(x,t)\n",
    "ctx = Context([u,v],[x,t])\n",
    "jb = Janet_Basis([diff(v, t) - (u**2 +1)*diff(u, x)-u, diff(u,t)-diff(v,x)],[u,v],[x,t])"
   ]
  },
  {
   "cell_type": "code",
   "execution_count": 13,
   "id": "598263e5-bdfc-4036-b550-e67699d45046",
   "metadata": {},
   "outputs": [
    {
     "data": {
      "text/plain": [
       "<delierium.JanetBasis.Janet_Basis object at 0x7f35dfa24cd0>"
      ]
     },
     "execution_count": 13,
     "metadata": {},
     "output_type": "execute_result"
    }
   ],
   "source": [
    "jb"
   ]
  },
  {
   "cell_type": "code",
   "execution_count": 14,
   "id": "337779b3-45ac-4ea4-bfb5-7093dbdafc4b",
   "metadata": {},
   "outputs": [
    {
     "data": {
      "text/plain": [
       "[<delierium.JanetBasis._Differential_Polynomial object at 0x7f35dfa25270>,\n",
       " <delierium.JanetBasis._Differential_Polynomial object at 0x7f35daf8f550>,\n",
       " <delierium.JanetBasis._Differential_Polynomial object at 0x7f35dafb4760>]"
      ]
     },
     "execution_count": 14,
     "metadata": {},
     "output_type": "execute_result"
    }
   ],
   "source": [
    "jb.S"
   ]
  },
  {
   "cell_type": "code",
   "execution_count": 15,
   "id": "1e927c1d-983b-419d-a347-e07ced6c9682",
   "metadata": {},
   "outputs": [
    {
     "data": {
      "text/html": [
       "<html>\\(\\displaystyle \\frac{\\partial}{\\partial t}u\\left(x, t\\right) - \\frac{\\partial}{\\partial x}v\\left(x, t\\right)\\)</html>"
      ],
      "text/latex": [
       "$\\displaystyle \\frac{\\partial}{\\partial t}u\\left(x, t\\right) - \\frac{\\partial}{\\partial x}v\\left(x, t\\right)$"
      ],
      "text/plain": [
       "diff(u(x, t), t) - diff(v(x, t), x)"
      ]
     },
     "metadata": {},
     "output_type": "display_data"
    },
    {
     "name": "stdout",
     "output_type": "stream",
     "text": [
      "diff(u(x, t), t) - diff(v(x, t), x)\n"
     ]
    },
    {
     "data": {
      "text/html": [
       "\\(u_{t} - v_{x}\\)"
      ],
      "text/plain": [
       "\\(u_{t} - v_{x}\\)"
      ]
     },
     "metadata": {},
     "output_type": "display_data"
    },
    {
     "data": {
      "text/html": [
       "<html>\\(\\displaystyle \\frac{u\\left(x, t\\right)}{u\\left(x, t\\right)^{2} + 1} - \\frac{\\frac{\\partial}{\\partial t}v\\left(x, t\\right)}{u\\left(x, t\\right)^{2} + 1} + \\frac{\\partial}{\\partial x}u\\left(x, t\\right)\\)</html>"
      ],
      "text/latex": [
       "$\\displaystyle \\frac{u\\left(x, t\\right)}{u\\left(x, t\\right)^{2} + 1} - \\frac{\\frac{\\partial}{\\partial t}v\\left(x, t\\right)}{u\\left(x, t\\right)^{2} + 1} + \\frac{\\partial}{\\partial x}u\\left(x, t\\right)$"
      ],
      "text/plain": [
       "u(x, t)/(u(x, t)^2 + 1) - diff(v(x, t), t)/(u(x, t)^2 + 1) + diff(u(x, t), x)"
      ]
     },
     "metadata": {},
     "output_type": "display_data"
    },
    {
     "name": "stdout",
     "output_type": "stream",
     "text": [
      "u(x, t)/(u(x, t)^2 + 1) - diff(v(x, t), t)/(u(x, t)^2 + 1) + diff(u(x, t), x)\n"
     ]
    },
    {
     "data": {
      "text/html": [
       "\\(u/(u^2 + 1) - v_{t}/(u^2 + 1) + u_{x}\\)"
      ],
      "text/plain": [
       "\\(u/(u^2 + 1) - v_{t}/(u^2 + 1) + u_{x}\\)"
      ]
     },
     "metadata": {},
     "output_type": "display_data"
    },
    {
     "data": {
      "text/html": [
       "<html>\\(\\displaystyle -\\frac{2 \\, u\\left(x, t\\right)^{2} \\frac{\\partial}{\\partial x}v\\left(x, t\\right)}{u\\left(x, t\\right)^{4} + 2 \\, u\\left(x, t\\right)^{2} + 1} + \\frac{2 \\, u\\left(x, t\\right)}{u\\left(x, t\\right)^{4} + 2 \\, u\\left(x, t\\right)^{2} + 1} - \\frac{\\frac{\\partial^{2}}{(\\partial t)^{2}}v\\left(x, t\\right)}{u\\left(x, t\\right)^{2} + 1} + \\frac{\\partial^{2}}{(\\partial x)^{2}}v\\left(x, t\\right)\\)</html>"
      ],
      "text/latex": [
       "$\\displaystyle -\\frac{2 \\, u\\left(x, t\\right)^{2} \\frac{\\partial}{\\partial x}v\\left(x, t\\right)}{u\\left(x, t\\right)^{4} + 2 \\, u\\left(x, t\\right)^{2} + 1} + \\frac{2 \\, u\\left(x, t\\right)}{u\\left(x, t\\right)^{4} + 2 \\, u\\left(x, t\\right)^{2} + 1} - \\frac{\\frac{\\partial^{2}}{(\\partial t)^{2}}v\\left(x, t\\right)}{u\\left(x, t\\right)^{2} + 1} + \\frac{\\partial^{2}}{(\\partial x)^{2}}v\\left(x, t\\right)$"
      ],
      "text/plain": [
       "-2*u(x, t)^2*diff(v(x, t), x)/(u(x, t)^4 + 2*u(x, t)^2 + 1) + 2*u(x, t)/(u(x, t)^4 + 2*u(x, t)^2 + 1) - diff(v(x, t), t, t)/(u(x, t)^2 + 1) + diff(v(x, t), x, x)"
      ]
     },
     "metadata": {},
     "output_type": "display_data"
    },
    {
     "name": "stdout",
     "output_type": "stream",
     "text": [
      "-2*u(x, t)^2*diff(v(x, t), x)/(u(x, t)^4 + 2*u(x, t)^2 + 1) + 2*u(x, t)/(u(x, t)^4 + 2*u(x, t)^2 + 1) - diff(v(x, t), t, t)/(u(x, t)^2 + 1) + diff(v(x, t), x, x)\n"
     ]
    },
    {
     "data": {
      "text/html": [
       "\\(-2 u(x, t)^2 v_{x}/(u(x, t)^4 + 2 u(x, t)^2 + 1) + 2 u(x, t)/(u(x, t)^4 + 2 u(x, t)^2 + 1) - v_{t t}/(u(x, t)^2 + 1) + v_{x x}\\)"
      ],
      "text/plain": [
       "\\(-2 u(x, t)^2 v_{x}/(u(x, t)^4 + 2 u(x, t)^2 + 1) + 2 u(x, t)/(u(x, t)^4 + 2 u(x, t)^2 + 1) - v_{t t}/(u(x, t)^2 + 1) + v_{x x}\\)"
      ]
     },
     "metadata": {},
     "output_type": "display_data"
    }
   ],
   "source": [
    "from delierium.helpers import latexer\n",
    "for _ in jb.S:\n",
    "    show(_.expression())\n",
    "    show(latexer(_.expression()))"
   ]
  },
  {
   "cell_type": "raw",
   "id": "7c6dfb97-fa63-4ad8-bb8a-7bd1764f2ec8",
   "metadata": {},
   "source": [
    "# there is something to do with the latexer"
   ]
  },
  {
   "cell_type": "code",
   "execution_count": 16,
   "id": "1bcecac6-5835-45aa-bace-143d5918e59d",
   "metadata": {},
   "outputs": [],
   "source": [
    "from sage.symbolic.expression_conversions import ExpressionTreeWalker"
   ]
  },
  {
   "cell_type": "code",
   "execution_count": 17,
   "id": "377bee2f-a536-4866-bcab-fa3a9e60fc88",
   "metadata": {},
   "outputs": [
    {
     "data": {
      "text/plain": [
       "[-4*y(x)*D[0, 0](xi)(y(x), x)*diff(y(x), x)^3 + 36*xi(y(x), x)*y(x)^2*diff(y(x), x) + 4*y(x)*D[0, 0](phi)(y(x), x)*diff(y(x), x)^2 - 8*y(x)*D[0, 1](xi)(y(x), x)*diff(y(x), x)^2 + 6*D[0](xi)(y(x), x)*diff(y(x), x)^3 - 12*y(x)*D[0](xi)(y(x), x)*diff(y(x), x)*diff(y(x), x, x) - 36*phi(y(x), x)*y(x)^2 + 8*y(x)*D[0, 1](phi)(y(x), x)*diff(y(x), x) - 4*y(x)*D[1, 1](xi)(y(x), x)*diff(y(x), x) - 6*D[0](phi)(y(x), x)*diff(y(x), x)^2 + 6*D[1](xi)(y(x), x)*diff(y(x), x)^2 + 4*y(x)*D[0](phi)(y(x), x)*diff(y(x), x, x) - 8*y(x)*D[1](xi)(y(x), x)*diff(y(x), x, x) + 2*xi(y(x), x)*diff(y(x), x)*diff(y(x), x, x) - 4*xi(y(x), x)*y(x)*diff(y(x), x, x, x) - 2*(18*y(x)^2*diff(y(x), x) + diff(y(x), x)*diff(y(x), x, x) - 2*y(x)*diff(y(x), x, x, x))*xi(y(x), x) + 4*y(x)*D[1, 1](phi)(y(x), x) - 6*D[1](phi)(y(x), x)*diff(y(x), x) + 4*phi(y(x), x)*diff(y(x), x, x)]"
      ]
     },
     "execution_count": 17,
     "metadata": {},
     "output_type": "execute_result"
    }
   ],
   "source": [
    "p"
   ]
  },
  {
   "cell_type": "code",
   "execution_count": null,
   "id": "a2421ff2-5ff5-4242-9700-fa0d96bf2a85",
   "metadata": {},
   "outputs": [],
   "source": []
  }
 ],
 "metadata": {
  "kernelspec": {
   "display_name": "SageMath 9.6",
   "language": "sage",
   "name": "sagemath"
  },
  "language_info": {
   "codemirror_mode": {
    "name": "ipython",
    "version": 3
   },
   "file_extension": ".py",
   "mimetype": "text/x-python",
   "name": "python",
   "nbconvert_exporter": "python",
   "pygments_lexer": "ipython3",
   "version": "3.10.6"
  },
  "widgets": {
   "application/vnd.jupyter.widget-state+json": {
    "state": {},
    "version_major": 2,
    "version_minor": 0
   }
  }
 },
 "nbformat": 4,
 "nbformat_minor": 5
}
