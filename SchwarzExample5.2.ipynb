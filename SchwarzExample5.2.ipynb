{
 "cells": [
  {
   "cell_type": "code",
   "execution_count": 1,
   "id": "545ab148",
   "metadata": {},
   "outputs": [],
   "source": [
    "from delierium.Infinitesimals import prolongationODE\n",
    "from delierium.JanetBasis import Janet_Basis\n",
    "from delierium.MatrixOrder import Context\n",
    "from delierium.helpers import latexer\n",
    "from sage.misc.html import html\n",
    "from IPython.core.debugger import set_trace\n"
   ]
  },
  {
   "cell_type": "code",
   "execution_count": 2,
   "id": "09a4b34a",
   "metadata": {},
   "outputs": [],
   "source": [
    "x = var('x')\n",
    "y=function('y')"
   ]
  },
  {
   "cell_type": "code",
   "execution_count": 3,
   "id": "22b129e9",
   "metadata": {},
   "outputs": [],
   "source": [
    "ode=4*diff(y(x),x,x)*y(x) - 3* (diff(y(x),x)**2)-12*(y(x)**3)"
   ]
  },
  {
   "cell_type": "code",
   "execution_count": 4,
   "id": "5b7f1d33",
   "metadata": {},
   "outputs": [],
   "source": [
    "p=prolongationODE(ode, y, x)"
   ]
  },
  {
   "cell_type": "code",
   "execution_count": 5,
   "id": "97ac90fc",
   "metadata": {},
   "outputs": [
    {
     "data": {
      "text/html": [
       "\\(-4 y  \\xi_{yy} y_{x}^3 + 4 y  \\phi_{yy} y_{x}^2 - 8 y  \\xi_{yx} y_{x}^2 + 6  \\xi_{y} y_{x}^3 - 12 y  \\xi_{y} y_{x} y_{x x} - 36 \\phi(y, x) y^2 + 8 y  \\phi_{yx} y_{x} - 4 y  \\xi_{xx} y_{x} - 6  \\phi_{y} y_{x}^2 + 6  \\xi_{x} y_{x}^2 + 4 y  \\phi_{y} y_{x x} - 8 y  \\xi_{x} y_{x x} + 4 y  \\phi_{xx} - 6  \\phi_{x} y_{x} + 4 \\phi(y, x) y_{x x}\\)"
      ],
      "text/plain": [
       "\\(-4 y  \\xi_{yy} y_{x}^3 + 4 y  \\phi_{yy} y_{x}^2 - 8 y  \\xi_{yx} y_{x}^2 + 6  \\xi_{y} y_{x}^3 - 12 y  \\xi_{y} y_{x} y_{x x} - 36 \\phi(y, x) y^2 + 8 y  \\phi_{yx} y_{x} - 4 y  \\xi_{xx} y_{x} - 6  \\phi_{y} y_{x}^2 + 6  \\xi_{x} y_{x}^2 + 4 y  \\phi_{y} y_{x x} - 8 y  \\xi_{x} y_{x x} + 4 y  \\phi_{xx} - 6  \\phi_{x} y_{x} + 4 \\phi(y, x) y_{x x}\\)"
      ]
     },
     "metadata": {},
     "output_type": "display_data"
    }
   ],
   "source": [
    "for _p in p:\n",
    "    show(latexer(_p))"
   ]
  },
  {
   "cell_type": "code",
   "execution_count": 6,
   "id": "89de1c73",
   "metadata": {},
   "outputs": [],
   "source": [
    "def infinitesimalsODE (ode, dependent, independent):\n",
    "    prolongation = prolongationODE(ode, dependent, independent)[0].expand()\n",
    "    s1  = solve(ode==0, diff(dependent(independent),independent,independent))\n",
    "    ode1= prolongation.subs({s1[0].lhs() : s1[0].rhs()}).simplify()\n",
    "    #print((ode1))\n",
    "    # so far it is checked manually and with mathematica\n",
    "    l = [_ [0] for _ in ode1.coefficients(diff(dependent(independent), independent))]\n",
    "    # remove hardcoded xi, phi\n",
    "    return l"
   ]
  },
  {
   "cell_type": "code",
   "execution_count": 7,
   "id": "e524c658-6b1a-486e-8cb5-a6961261adc2",
   "metadata": {
    "tags": []
   },
   "outputs": [],
   "source": [
    "ode=4*diff(y(x),x,x)*y(x) - 3* diff(y(x),x)**2-12*y(x)**3\n",
    "inf = infinitesimalsODE(ode, y ,x)"
   ]
  },
  {
   "cell_type": "code",
   "execution_count": 8,
   "id": "4b97b763-d32d-46c6-b902-dbb0217a0e0f",
   "metadata": {},
   "outputs": [
    {
     "data": {
      "text/html": [
       "\\(12 y^3  \\phi_{y} - 24 y^3  \\xi_{x} - 24 \\phi(y, x) y^2 + 4 y  \\phi_{xx}\\)"
      ],
      "text/plain": [
       "\\(12 y^3  \\phi_{y} - 24 y^3  \\xi_{x} - 24 \\phi(y, x) y^2 + 4 y  \\phi_{xx}\\)"
      ]
     },
     "metadata": {},
     "output_type": "display_data"
    },
    {
     "data": {
      "text/html": [
       "\\(-36 y^3  \\xi_{y} + 8 y  \\phi_{yx} - 4 y  \\xi_{xx} - 6  \\phi_{x}\\)"
      ],
      "text/plain": [
       "\\(-36 y^3  \\xi_{y} + 8 y  \\phi_{yx} - 4 y  \\xi_{xx} - 6  \\phi_{x}\\)"
      ]
     },
     "metadata": {},
     "output_type": "display_data"
    },
    {
     "data": {
      "text/html": [
       "\\(4 y  \\phi_{yy} - 8 y  \\xi_{yx} + 3 \\phi(y, x)/y - 3  \\phi_{y}\\)"
      ],
      "text/plain": [
       "\\(4 y  \\phi_{yy} - 8 y  \\xi_{yx} + 3 \\phi(y, x)/y - 3  \\phi_{y}\\)"
      ]
     },
     "metadata": {},
     "output_type": "display_data"
    },
    {
     "data": {
      "text/html": [
       "\\(-4 y  \\xi_{yy} - 3  \\xi_{y}\\)"
      ],
      "text/plain": [
       "\\(-4 y  \\xi_{yy} - 3  \\xi_{y}\\)"
      ]
     },
     "metadata": {},
     "output_type": "display_data"
    }
   ],
   "source": [
    "for _ in inf:\n",
    "    show(latexer(_))"
   ]
  },
  {
   "cell_type": "code",
   "execution_count": 9,
   "id": "06996069-2d0b-415f-bb23-aa54fbf0ba5b",
   "metadata": {},
   "outputs": [
    {
     "data": {
      "text/html": [
       "\\(-y^3  \\phi_{y} + 2 y^3  \\xi_{x} + 3 \\phi(y, x) y^2 + 3 y  \\phi_{x} +  \\phi_{xx}\\)"
      ],
      "text/plain": [
       "\\(-y^3  \\phi_{y} + 2 y^3  \\xi_{x} + 3 \\phi(y, x) y^2 + 3 y  \\phi_{x} +  \\phi_{xx}\\)"
      ]
     },
     "metadata": {},
     "output_type": "display_data"
    },
    {
     "data": {
      "text/html": [
       "\\(3 y^3  \\xi_{y} + 3 y  \\xi_{x} + 3 \\phi(y, x) + 2  \\phi_{yx} -  \\xi_{xx}\\)"
      ],
      "text/plain": [
       "\\(3 y^3  \\xi_{y} + 3 y  \\xi_{x} + 3 \\phi(y, x) + 2  \\phi_{yx} -  \\xi_{xx}\\)"
      ]
     },
     "metadata": {},
     "output_type": "display_data"
    },
    {
     "data": {
      "text/html": [
       "\\(6 y  \\xi_{y} +  \\phi_{yy} - 2  \\xi_{yx}\\)"
      ],
      "text/plain": [
       "\\(6 y  \\xi_{y} +  \\phi_{yy} - 2  \\xi_{yx}\\)"
      ]
     },
     "metadata": {},
     "output_type": "display_data"
    },
    {
     "data": {
      "text/html": [
       "\\(- \\xi_{yy}\\)"
      ],
      "text/plain": [
       "\\(- \\xi_{yy}\\)"
      ]
     },
     "metadata": {},
     "output_type": "display_data"
    }
   ],
   "source": [
    "ode = diff(y(x),x,x)+3*y(x)*diff(y(x),x)+y(x)**3\n",
    "inf = infinitesimalsODE(ode, y ,x)\n",
    "for _ in inf:\n",
    "    show(latexer(_))"
   ]
  },
  {
   "cell_type": "code",
   "execution_count": 10,
   "id": "892e76c9-3867-45d9-a74f-f337229bf53a",
   "metadata": {},
   "outputs": [],
   "source": [
    "ode=diff(y(x),x,x)"
   ]
  },
  {
   "cell_type": "code",
   "execution_count": 11,
   "id": "34038f31-5026-4bf0-b72a-79aa5dc32d25",
   "metadata": {},
   "outputs": [
    {
     "data": {
      "text/html": [
       "\\( \\phi_{xx}\\)"
      ],
      "text/plain": [
       "\\( \\phi_{xx}\\)"
      ]
     },
     "metadata": {},
     "output_type": "display_data"
    },
    {
     "data": {
      "text/html": [
       "\\(2  \\phi_{yx} -  \\xi_{xx}\\)"
      ],
      "text/plain": [
       "\\(2  \\phi_{yx} -  \\xi_{xx}\\)"
      ]
     },
     "metadata": {},
     "output_type": "display_data"
    },
    {
     "data": {
      "text/html": [
       "\\( \\phi_{yy} - 2  \\xi_{yx}\\)"
      ],
      "text/plain": [
       "\\( \\phi_{yy} - 2  \\xi_{yx}\\)"
      ]
     },
     "metadata": {},
     "output_type": "display_data"
    },
    {
     "data": {
      "text/html": [
       "\\(- \\xi_{yy}\\)"
      ],
      "text/plain": [
       "\\(- \\xi_{yy}\\)"
      ]
     },
     "metadata": {},
     "output_type": "display_data"
    }
   ],
   "source": [
    "inf = infinitesimalsODE(ode, y ,x)\n",
    "for _ in inf:\n",
    "    show(latexer(_))"
   ]
  },
  {
   "cell_type": "code",
   "execution_count": 15,
   "id": "1e927c1d-983b-419d-a347-e07ced6c9682",
   "metadata": {},
   "outputs": [
    {
     "data": {
      "text/html": [
       "\\(u_{t} - v_{x}\\)"
      ],
      "text/plain": [
       "\\(u_{t} - v_{x}\\)"
      ]
     },
     "metadata": {},
     "output_type": "display_data"
    },
    {
     "data": {
      "text/html": [
       "\\(u/(u^2 + 1) - v_{t}/(u^2 + 1) + u_{x}\\)"
      ],
      "text/plain": [
       "\\(u/(u^2 + 1) - v_{t}/(u^2 + 1) + u_{x}\\)"
      ]
     },
     "metadata": {},
     "output_type": "display_data"
    },
    {
     "data": {
      "text/html": [
       "\\(-2 u^2 v_{x}/(u^4 + 2 u^2 + 1) + 2 u/(u^4 + 2 u^2 + 1) - v_{t t}/(u^2 + 1) + v_{x x}\\)"
      ],
      "text/plain": [
       "\\(-2 u^2 v_{x}/(u^4 + 2 u^2 + 1) + 2 u/(u^4 + 2 u^2 + 1) - v_{t t}/(u^2 + 1) + v_{x x}\\)"
      ]
     },
     "metadata": {},
     "output_type": "display_data"
    }
   ],
   "source": [
    "from delierium.helpers import latexer\n",
    "x,t = var('x t')\n",
    "u=function('u')(x,t)\n",
    "v=function('v')(x,t)\n",
    "ctx = Context([u,v],[x,t])\n",
    "jb = Janet_Basis([diff(v, t) - (u**2 +1)*diff(u, x)-u, diff(u,t)-diff(v,x)],[u,v],[x,t])\n",
    "for _ in jb.S:\n",
    "    show(latexer(_.expression()))"
   ]
  }
 ],
 "metadata": {
  "kernelspec": {
   "display_name": "SageMath 9.6",
   "language": "sage",
   "name": "sagemath"
  },
  "language_info": {
   "codemirror_mode": {
    "name": "ipython",
    "version": 3
   },
   "file_extension": ".py",
   "mimetype": "text/x-python",
   "name": "python",
   "nbconvert_exporter": "python",
   "pygments_lexer": "ipython3",
   "version": "3.10.6"
  },
  "widgets": {
   "application/vnd.jupyter.widget-state+json": {
    "state": {},
    "version_major": 2,
    "version_minor": 0
   }
  }
 },
 "nbformat": 4,
 "nbformat_minor": 5
}
