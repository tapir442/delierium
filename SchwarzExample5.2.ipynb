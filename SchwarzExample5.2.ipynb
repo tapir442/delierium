{
 "cells": [
  {
   "cell_type": "code",
   "execution_count": 1,
   "id": "545ab148",
   "metadata": {},
   "outputs": [
    {
     "ename": "ModuleNotFoundError",
     "evalue": "No module named 'DerivativeOperators'",
     "output_type": "error",
     "traceback": [
      "\u001b[0;31m---------------------------------------------------------------------------\u001b[0m",
      "\u001b[0;31mImportError\u001b[0m                               Traceback (most recent call last)",
      "\u001b[0;32m/researches/delierium/delierium/Infinitesimals.py\u001b[0m in \u001b[0;36m<module>\u001b[0;34m\u001b[0m\n\u001b[1;32m     16\u001b[0m     \u001b[0;32mfrom\u001b[0m \u001b[0mdelierium\u001b[0m\u001b[0;34m.\u001b[0m\u001b[0mDerivativeOperators\u001b[0m \u001b[0;32mimport\u001b[0m \u001b[0mFrechetD\u001b[0m\u001b[0;34m\u001b[0m\u001b[0;34m\u001b[0m\u001b[0m\n\u001b[0;32m---> 17\u001b[0;31m     \u001b[0;32mfrom\u001b[0m \u001b[0mdelierium\u001b[0m\u001b[0;34m.\u001b[0m\u001b[0mJanetBasis\u001b[0m \u001b[0;32mimport\u001b[0m \u001b[0m_Differential_Expression\u001b[0m\u001b[0;34m\u001b[0m\u001b[0;34m\u001b[0m\u001b[0m\n\u001b[0m\u001b[1;32m     18\u001b[0m \u001b[0;32mexcept\u001b[0m \u001b[0mImportError\u001b[0m\u001b[0;34m:\u001b[0m\u001b[0;34m\u001b[0m\u001b[0;34m\u001b[0m\u001b[0m\n",
      "\u001b[0;31mImportError\u001b[0m: cannot import name '_Differential_Expression' from 'delierium.JanetBasis' (/researches/delierium/delierium/JanetBasis.py)",
      "\nDuring handling of the above exception, another exception occurred:\n",
      "\u001b[0;31mModuleNotFoundError\u001b[0m                       Traceback (most recent call last)",
      "\u001b[0;32m~/tmp/ipykernel_17691/675131785.py\u001b[0m in \u001b[0;36m<cell line: 1>\u001b[0;34m()\u001b[0m\n\u001b[0;32m----> 1\u001b[0;31m \u001b[0;32mfrom\u001b[0m \u001b[0mdelierium\u001b[0m\u001b[0;34m.\u001b[0m\u001b[0mInfinitesimals\u001b[0m \u001b[0;32mimport\u001b[0m \u001b[0mprolongationODE\u001b[0m\u001b[0;34m\u001b[0m\u001b[0;34m\u001b[0m\u001b[0m\n\u001b[0m\u001b[1;32m      2\u001b[0m \u001b[0;32mfrom\u001b[0m \u001b[0mdelierium\u001b[0m\u001b[0;34m.\u001b[0m\u001b[0mJanetBasis\u001b[0m \u001b[0;32mimport\u001b[0m \u001b[0mJanet_Basis\u001b[0m\u001b[0;34m\u001b[0m\u001b[0;34m\u001b[0m\u001b[0m\n",
      "\u001b[0;32m/researches/delierium/delierium/Infinitesimals.py\u001b[0m in \u001b[0;36m<module>\u001b[0;34m\u001b[0m\n\u001b[1;32m     17\u001b[0m     \u001b[0;32mfrom\u001b[0m \u001b[0mdelierium\u001b[0m\u001b[0;34m.\u001b[0m\u001b[0mJanetBasis\u001b[0m \u001b[0;32mimport\u001b[0m \u001b[0m_Differential_Expression\u001b[0m\u001b[0;34m\u001b[0m\u001b[0;34m\u001b[0m\u001b[0m\n\u001b[1;32m     18\u001b[0m \u001b[0;32mexcept\u001b[0m \u001b[0mImportError\u001b[0m\u001b[0;34m:\u001b[0m\u001b[0;34m\u001b[0m\u001b[0;34m\u001b[0m\u001b[0m\n\u001b[0;32m---> 19\u001b[0;31m     \u001b[0;32mfrom\u001b[0m \u001b[0mDerivativeOperators\u001b[0m \u001b[0;32mimport\u001b[0m \u001b[0mFrechetD\u001b[0m\u001b[0;34m\u001b[0m\u001b[0;34m\u001b[0m\u001b[0m\n\u001b[0m\u001b[1;32m     20\u001b[0m     \u001b[0;32mfrom\u001b[0m \u001b[0mJanetBasis\u001b[0m \u001b[0;32mimport\u001b[0m \u001b[0m_Differential_Expression\u001b[0m\u001b[0;34m\u001b[0m\u001b[0;34m\u001b[0m\u001b[0m\n\u001b[1;32m     21\u001b[0m \u001b[0;34m\u001b[0m\u001b[0m\n",
      "\u001b[0;31mModuleNotFoundError\u001b[0m: No module named 'DerivativeOperators'"
     ]
    }
   ],
   "source": [
    "from delierium.Infinitesimals import prolongationODE\n",
    "from delierium.JanetBasis import Janet_Basis"
   ]
  },
  {
   "cell_type": "code",
   "execution_count": null,
   "id": "09a4b34a",
   "metadata": {},
   "outputs": [],
   "source": [
    "x = var('x')\n",
    "y=function('y')"
   ]
  },
  {
   "cell_type": "code",
   "execution_count": null,
   "id": "22b129e9",
   "metadata": {},
   "outputs": [],
   "source": [
    "ode=4*diff(y(x),x,x)*y(x) - 3* (diff(y(x),x)**2)-12*(y(x)**3)"
   ]
  },
  {
   "cell_type": "code",
   "execution_count": null,
   "id": "5b7f1d33",
   "metadata": {},
   "outputs": [],
   "source": [
    "p=prolongationODE(ode, y, x)[0].expand()"
   ]
  },
  {
   "cell_type": "code",
   "execution_count": null,
   "id": "97ac90fc",
   "metadata": {},
   "outputs": [],
   "source": [
    "for _ in p.operands():\n",
    "    _.show(rich=True)"
   ]
  },
  {
   "cell_type": "code",
   "execution_count": null,
   "id": "c4d6d230",
   "metadata": {},
   "outputs": [],
   "source": [
    "s1=solve(ode==0, diff(y(x),x,x))"
   ]
  },
  {
   "cell_type": "code",
   "execution_count": null,
   "id": "ae36230a",
   "metadata": {},
   "outputs": [],
   "source": [
    "s1=s1[0];s1.show();s1.lhs().show();s1.rhs().show()"
   ]
  },
  {
   "cell_type": "code",
   "execution_count": null,
   "id": "f9036d72",
   "metadata": {},
   "outputs": [],
   "source": [
    "ode1=p.subs({s1.lhs() : s1.rhs()}).simplify()"
   ]
  },
  {
   "cell_type": "code",
   "execution_count": null,
   "id": "9c868a24",
   "metadata": {},
   "outputs": [],
   "source": [
    "ode1.expand().show()"
   ]
  },
  {
   "cell_type": "code",
   "execution_count": null,
   "id": "e0ecd722",
   "metadata": {},
   "outputs": [],
   "source": [
    "r1=ode1.expand().collect(diff(y(x),x)**3);r1.show()"
   ]
  },
  {
   "cell_type": "code",
   "execution_count": null,
   "id": "1c50132f",
   "metadata": {},
   "outputs": [],
   "source": [
    "r2=r1.collect(diff(y(x),x)**2);r2.show()"
   ]
  },
  {
   "cell_type": "code",
   "execution_count": null,
   "id": "8cf44482",
   "metadata": {},
   "outputs": [],
   "source": [
    "r3=r2.collect(diff(y(x),x)); r3.show()"
   ]
  },
  {
   "cell_type": "code",
   "execution_count": null,
   "id": "cd845ac0",
   "metadata": {
    "scrolled": true
   },
   "outputs": [],
   "source": [
    "r4=r3.collect(y(x)); r4.show()"
   ]
  },
  {
   "cell_type": "code",
   "execution_count": null,
   "id": "89de1c73",
   "metadata": {},
   "outputs": [],
   "source": [
    "from IPython.core.debugger import set_trace\n",
    "function('xi phi')\n",
    "def infinitesimalsODE (ode, dependent, independent):\n",
    "    prolongation = prolongationODE(ode, dependent, independent)[0].expand()\n",
    "    s1  = solve(ode==0, diff(dependent(independent),independent,independent))\n",
    "    ode1= prolongation.subs({s1[0].lhs() : s1[0].rhs()}).simplify()\n",
    "    # so far it is checked manually and with mathematica\n",
    "    l = [_ [0] for _ in ode1.coefficients(diff(dependent(independent), independent))]\n",
    "    # remove hardcoded xi, phi\n",
    "    janet = Janet_Basis(l, [xi, phi], [x, y])\n",
    "    return janet"
   ]
  },
  {
   "cell_type": "code",
   "execution_count": null,
   "id": "e524c658-6b1a-486e-8cb5-a6961261adc2",
   "metadata": {
    "tags": []
   },
   "outputs": [],
   "source": [
    "ode=4*diff(y(x),x,x)*y(x) - 3* diff(y(x),x)**2-12*y(x)**3\n",
    "inf = infinitesimalsODE(ode, y ,x)"
   ]
  },
  {
   "cell_type": "code",
   "execution_count": null,
   "id": "bb3e29b4-aae9-4f4d-a7d9-e3b11538b29b",
   "metadata": {},
   "outputs": [],
   "source": []
  }
 ],
 "metadata": {
  "kernelspec": {
   "display_name": "SageMath 9.6",
   "language": "sage",
   "name": "sagemath"
  },
  "language_info": {
   "codemirror_mode": {
    "name": "ipython",
    "version": 3
   },
   "file_extension": ".py",
   "mimetype": "text/x-python",
   "name": "python",
   "nbconvert_exporter": "python",
   "pygments_lexer": "ipython3",
   "version": "3.10.6"
  },
  "widgets": {
   "application/vnd.jupyter.widget-state+json": {
    "state": {},
    "version_major": 2,
    "version_minor": 0
   }
  }
 },
 "nbformat": 4,
 "nbformat_minor": 5
}
