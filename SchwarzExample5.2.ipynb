{
 "cells": [
  {
   "cell_type": "code",
   "execution_count": 1,
   "id": "545ab148",
   "metadata": {},
   "outputs": [],
   "source": [
    "from delierium.Infinitesimals import prolongationODE\n",
    "from delierium.JanetBasis import Janet_Basis"
   ]
  },
  {
   "cell_type": "code",
   "execution_count": 4,
   "id": "89de1c73",
   "metadata": {},
   "outputs": [],
   "source": [
    "from IPython.core.debugger import set_trace\n",
    "function('xi phi')\n",
    "def infinitesimalsODE (ode, dependent, independent):\n",
    "    prolongation = prolongationODE(ode, dependent, independent)[0].expand()\n",
    "    s1                 = solve(ode==0, diff(dependent(independent),independent,independent))\n",
    "    determining_system = prolongation.subs({s1[0].lhs() : s1[0].rhs()}).simplify()\n",
    "    # so far it is checked manually and with mathematica\n",
    "    determining_system = \\\n",
    "        [_ [0] for _ in determining_system.coefficients(diff(dependent(independent), independent))]\n",
    "    # remove hardcoded xi, phi\n",
    "    for _ in determining_system:\n",
    "        _.show()\n",
    "    #set_trace()\n",
    "    janet = Janet_Basis(determining_system, [phi, xi], [dependent, independent])\n",
    "    return janet"
   ]
  },
  {
   "cell_type": "code",
   "execution_count": 5,
   "id": "e524c658-6b1a-486e-8cb5-a6961261adc2",
   "metadata": {
    "tags": []
   },
   "outputs": [
    {
     "data": {
      "text/html": [
       "<html>\\[\\newcommand{\\Bold}[1]{\\mathbf{#1}}12 \\, y\\left(x\\right)^{3} \\mathrm{D}_{0}\\left(\\phi\\right)\\left(y\\left(x\\right), x\\right) - 24 \\, y\\left(x\\right)^{3} \\mathrm{D}_{1}\\left(\\xi\\right)\\left(y\\left(x\\right), x\\right) - 24 \\, \\phi\\left(y\\left(x\\right), x\\right) y\\left(x\\right)^{2} + 4 \\, y\\left(x\\right) \\mathrm{D}_{1, 1}\\left(\\phi\\right)\\left(y\\left(x\\right), x\\right)\\]</html>"
      ],
      "text/latex": [
       "$$\\newcommand{\\Bold}[1]{\\mathbf{#1}}12 \\, y\\left(x\\right)^{3} \\mathrm{D}_{0}\\left(\\phi\\right)\\left(y\\left(x\\right), x\\right) - 24 \\, y\\left(x\\right)^{3} \\mathrm{D}_{1}\\left(\\xi\\right)\\left(y\\left(x\\right), x\\right) - 24 \\, \\phi\\left(y\\left(x\\right), x\\right) y\\left(x\\right)^{2} + 4 \\, y\\left(x\\right) \\mathrm{D}_{1, 1}\\left(\\phi\\right)\\left(y\\left(x\\right), x\\right)$$"
      ],
      "text/plain": [
       "12*y(x)^3*D[0](phi)(y(x), x) - 24*y(x)^3*D[1](xi)(y(x), x) - 24*phi(y(x), x)*y(x)^2 + 4*y(x)*D[1, 1](phi)(y(x), x)"
      ]
     },
     "metadata": {},
     "output_type": "display_data"
    },
    {
     "data": {
      "text/html": [
       "<html>\\[\\newcommand{\\Bold}[1]{\\mathbf{#1}}-36 \\, y\\left(x\\right)^{3} \\mathrm{D}_{0}\\left(\\xi\\right)\\left(y\\left(x\\right), x\\right) + 8 \\, y\\left(x\\right) \\mathrm{D}_{0, 1}\\left(\\phi\\right)\\left(y\\left(x\\right), x\\right) - 4 \\, y\\left(x\\right) \\mathrm{D}_{1, 1}\\left(\\xi\\right)\\left(y\\left(x\\right), x\\right) - 6 \\, \\mathrm{D}_{1}\\left(\\phi\\right)\\left(y\\left(x\\right), x\\right)\\]</html>"
      ],
      "text/latex": [
       "$$\\newcommand{\\Bold}[1]{\\mathbf{#1}}-36 \\, y\\left(x\\right)^{3} \\mathrm{D}_{0}\\left(\\xi\\right)\\left(y\\left(x\\right), x\\right) + 8 \\, y\\left(x\\right) \\mathrm{D}_{0, 1}\\left(\\phi\\right)\\left(y\\left(x\\right), x\\right) - 4 \\, y\\left(x\\right) \\mathrm{D}_{1, 1}\\left(\\xi\\right)\\left(y\\left(x\\right), x\\right) - 6 \\, \\mathrm{D}_{1}\\left(\\phi\\right)\\left(y\\left(x\\right), x\\right)$$"
      ],
      "text/plain": [
       "-36*y(x)^3*D[0](xi)(y(x), x) + 8*y(x)*D[0, 1](phi)(y(x), x) - 4*y(x)*D[1, 1](xi)(y(x), x) - 6*D[1](phi)(y(x), x)"
      ]
     },
     "metadata": {},
     "output_type": "display_data"
    },
    {
     "data": {
      "text/html": [
       "<html>\\[\\newcommand{\\Bold}[1]{\\mathbf{#1}}4 \\, y\\left(x\\right) \\mathrm{D}_{0, 0}\\left(\\phi\\right)\\left(y\\left(x\\right), x\\right) - 8 \\, y\\left(x\\right) \\mathrm{D}_{0, 1}\\left(\\xi\\right)\\left(y\\left(x\\right), x\\right) + \\frac{3 \\, \\phi\\left(y\\left(x\\right), x\\right)}{y\\left(x\\right)} - 3 \\, \\mathrm{D}_{0}\\left(\\phi\\right)\\left(y\\left(x\\right), x\\right)\\]</html>"
      ],
      "text/latex": [
       "$$\\newcommand{\\Bold}[1]{\\mathbf{#1}}4 \\, y\\left(x\\right) \\mathrm{D}_{0, 0}\\left(\\phi\\right)\\left(y\\left(x\\right), x\\right) - 8 \\, y\\left(x\\right) \\mathrm{D}_{0, 1}\\left(\\xi\\right)\\left(y\\left(x\\right), x\\right) + \\frac{3 \\, \\phi\\left(y\\left(x\\right), x\\right)}{y\\left(x\\right)} - 3 \\, \\mathrm{D}_{0}\\left(\\phi\\right)\\left(y\\left(x\\right), x\\right)$$"
      ],
      "text/plain": [
       "4*y(x)*D[0, 0](phi)(y(x), x) - 8*y(x)*D[0, 1](xi)(y(x), x) + 3*phi(y(x), x)/y(x) - 3*D[0](phi)(y(x), x)"
      ]
     },
     "metadata": {},
     "output_type": "display_data"
    },
    {
     "data": {
      "text/html": [
       "<html>\\[\\newcommand{\\Bold}[1]{\\mathbf{#1}}-4 \\, y\\left(x\\right) \\mathrm{D}_{0, 0}\\left(\\xi\\right)\\left(y\\left(x\\right), x\\right) - 3 \\, \\mathrm{D}_{0}\\left(\\xi\\right)\\left(y\\left(x\\right), x\\right)\\]</html>"
      ],
      "text/latex": [
       "$$\\newcommand{\\Bold}[1]{\\mathbf{#1}}-4 \\, y\\left(x\\right) \\mathrm{D}_{0, 0}\\left(\\xi\\right)\\left(y\\left(x\\right), x\\right) - 3 \\, \\mathrm{D}_{0}\\left(\\xi\\right)\\left(y\\left(x\\right), x\\right)$$"
      ],
      "text/plain": [
       "-4*y(x)*D[0, 0](xi)(y(x), x) - 3*D[0](xi)(y(x), x)"
      ]
     },
     "metadata": {},
     "output_type": "display_data"
    }
   ],
   "source": [
    "x = var('x')\n",
    "y = function(\"y\")\n",
    "ode1=4*diff(y(x),x,x)*y(x) - 3* diff(y(x),x)**2-12*y(x)**3\n",
    "inf = infinitesimalsODE(ode1, y ,x)"
   ]
  },
  {
   "cell_type": "code",
   "execution_count": 6,
   "id": "c782a939-7af9-4cfb-8635-4e1877cdc38e",
   "metadata": {},
   "outputs": [
    {
     "data": {
      "text/html": [
       "<html>\\[\\newcommand{\\Bold}[1]{\\mathbf{#1}}-\\frac{3 \\, \\mathrm{D}_{0}\\left(\\phi\\right)\\left(y\\left(x\\right), x\\right)}{4 \\, y\\left(x\\right)} + \\frac{3 \\, \\phi\\left(y\\left(x\\right), x\\right)}{4 \\, y\\left(x\\right)^{2}} + \\mathrm{D}_{0, 0}\\left(\\phi\\right)\\left(y\\left(x\\right), x\\right) - 2 \\, \\mathrm{D}_{0, 1}\\left(\\xi\\right)\\left(y\\left(x\\right), x\\right)\\]</html>"
      ],
      "text/latex": [
       "$$\\newcommand{\\Bold}[1]{\\mathbf{#1}}-\\frac{3 \\, \\mathrm{D}_{0}\\left(\\phi\\right)\\left(y\\left(x\\right), x\\right)}{4 \\, y\\left(x\\right)} + \\frac{3 \\, \\phi\\left(y\\left(x\\right), x\\right)}{4 \\, y\\left(x\\right)^{2}} + \\mathrm{D}_{0, 0}\\left(\\phi\\right)\\left(y\\left(x\\right), x\\right) - 2 \\, \\mathrm{D}_{0, 1}\\left(\\xi\\right)\\left(y\\left(x\\right), x\\right)$$"
      ],
      "text/plain": [
       "-3/4*D[0](phi)(y(x), x)/y(x) + 3/4*phi(y(x), x)/y(x)^2 + D[0, 0](phi)(y(x), x) - 2*D[0, 1](xi)(y(x), x)"
      ]
     },
     "metadata": {},
     "output_type": "display_data"
    },
    {
     "data": {
      "text/html": [
       "<html>\\[\\newcommand{\\Bold}[1]{\\mathbf{#1}}\\mathrm{D}_{0, 0}\\left(\\phi\\right)\\left(y\\left(x\\right), x\\right)\\]</html>"
      ],
      "text/latex": [
       "$$\\newcommand{\\Bold}[1]{\\mathbf{#1}}\\mathrm{D}_{0, 0}\\left(\\phi\\right)\\left(y\\left(x\\right), x\\right)$$"
      ],
      "text/plain": [
       "D[0, 0](phi)(y(x), x)"
      ]
     },
     "metadata": {},
     "output_type": "display_data"
    },
    {
     "data": {
      "text/html": [
       "<html>\\[\\newcommand{\\Bold}[1]{\\mathbf{#1}}-\\frac{9}{2} \\, y\\left(x\\right)^{2} \\mathrm{D}_{0}\\left(\\xi\\right)\\left(y\\left(x\\right), x\\right) - \\frac{3 \\, \\mathrm{D}_{1}\\left(\\phi\\right)\\left(y\\left(x\\right), x\\right)}{4 \\, y\\left(x\\right)} + \\mathrm{D}_{0, 1}\\left(\\phi\\right)\\left(y\\left(x\\right), x\\right) - \\frac{1}{2} \\, \\mathrm{D}_{1, 1}\\left(\\xi\\right)\\left(y\\left(x\\right), x\\right)\\]</html>"
      ],
      "text/latex": [
       "$$\\newcommand{\\Bold}[1]{\\mathbf{#1}}-\\frac{9}{2} \\, y\\left(x\\right)^{2} \\mathrm{D}_{0}\\left(\\xi\\right)\\left(y\\left(x\\right), x\\right) - \\frac{3 \\, \\mathrm{D}_{1}\\left(\\phi\\right)\\left(y\\left(x\\right), x\\right)}{4 \\, y\\left(x\\right)} + \\mathrm{D}_{0, 1}\\left(\\phi\\right)\\left(y\\left(x\\right), x\\right) - \\frac{1}{2} \\, \\mathrm{D}_{1, 1}\\left(\\xi\\right)\\left(y\\left(x\\right), x\\right)$$"
      ],
      "text/plain": [
       "-9/2*y(x)^2*D[0](xi)(y(x), x) - 3/4*D[1](phi)(y(x), x)/y(x) + D[0, 1](phi)(y(x), x) - 1/2*D[1, 1](xi)(y(x), x)"
      ]
     },
     "metadata": {},
     "output_type": "display_data"
    },
    {
     "data": {
      "text/html": [
       "<html>\\[\\newcommand{\\Bold}[1]{\\mathbf{#1}}\\mathrm{D}_{0, 1}\\left(\\phi\\right)\\left(y\\left(x\\right), x\\right)\\]</html>"
      ],
      "text/latex": [
       "$$\\newcommand{\\Bold}[1]{\\mathbf{#1}}\\mathrm{D}_{0, 1}\\left(\\phi\\right)\\left(y\\left(x\\right), x\\right)$$"
      ],
      "text/plain": [
       "D[0, 1](phi)(y(x), x)"
      ]
     },
     "metadata": {},
     "output_type": "display_data"
    },
    {
     "data": {
      "text/html": [
       "<html>\\[\\newcommand{\\Bold}[1]{\\mathbf{#1}}3 \\, y\\left(x\\right)^{2} \\mathrm{D}_{0}\\left(\\phi\\right)\\left(y\\left(x\\right), x\\right) - 6 \\, y\\left(x\\right)^{2} \\mathrm{D}_{1}\\left(\\xi\\right)\\left(y\\left(x\\right), x\\right) - 6 \\, \\phi\\left(y\\left(x\\right), x\\right) y\\left(x\\right) + \\mathrm{D}_{1, 1}\\left(\\phi\\right)\\left(y\\left(x\\right), x\\right)\\]</html>"
      ],
      "text/latex": [
       "$$\\newcommand{\\Bold}[1]{\\mathbf{#1}}3 \\, y\\left(x\\right)^{2} \\mathrm{D}_{0}\\left(\\phi\\right)\\left(y\\left(x\\right), x\\right) - 6 \\, y\\left(x\\right)^{2} \\mathrm{D}_{1}\\left(\\xi\\right)\\left(y\\left(x\\right), x\\right) - 6 \\, \\phi\\left(y\\left(x\\right), x\\right) y\\left(x\\right) + \\mathrm{D}_{1, 1}\\left(\\phi\\right)\\left(y\\left(x\\right), x\\right)$$"
      ],
      "text/plain": [
       "3*y(x)^2*D[0](phi)(y(x), x) - 6*y(x)^2*D[1](xi)(y(x), x) - 6*phi(y(x), x)*y(x) + D[1, 1](phi)(y(x), x)"
      ]
     },
     "metadata": {},
     "output_type": "display_data"
    },
    {
     "data": {
      "text/html": [
       "<html>\\[\\newcommand{\\Bold}[1]{\\mathbf{#1}}\\mathrm{D}_{1, 1}\\left(\\phi\\right)\\left(y\\left(x\\right), x\\right)\\]</html>"
      ],
      "text/latex": [
       "$$\\newcommand{\\Bold}[1]{\\mathbf{#1}}\\mathrm{D}_{1, 1}\\left(\\phi\\right)\\left(y\\left(x\\right), x\\right)$$"
      ],
      "text/plain": [
       "D[1, 1](phi)(y(x), x)"
      ]
     },
     "metadata": {},
     "output_type": "display_data"
    },
    {
     "data": {
      "text/html": [
       "<html>\\[\\newcommand{\\Bold}[1]{\\mathbf{#1}}\\frac{3 \\, \\mathrm{D}_{0}\\left(\\xi\\right)\\left(y\\left(x\\right), x\\right)}{4 \\, y\\left(x\\right)} + \\mathrm{D}_{0, 0}\\left(\\xi\\right)\\left(y\\left(x\\right), x\\right)\\]</html>"
      ],
      "text/latex": [
       "$$\\newcommand{\\Bold}[1]{\\mathbf{#1}}\\frac{3 \\, \\mathrm{D}_{0}\\left(\\xi\\right)\\left(y\\left(x\\right), x\\right)}{4 \\, y\\left(x\\right)} + \\mathrm{D}_{0, 0}\\left(\\xi\\right)\\left(y\\left(x\\right), x\\right)$$"
      ],
      "text/plain": [
       "3/4*D[0](xi)(y(x), x)/y(x) + D[0, 0](xi)(y(x), x)"
      ]
     },
     "metadata": {},
     "output_type": "display_data"
    },
    {
     "data": {
      "text/html": [
       "<html>\\[\\newcommand{\\Bold}[1]{\\mathbf{#1}}\\mathrm{D}_{0, 0}\\left(\\xi\\right)\\left(y\\left(x\\right), x\\right)\\]</html>"
      ],
      "text/latex": [
       "$$\\newcommand{\\Bold}[1]{\\mathbf{#1}}\\mathrm{D}_{0, 0}\\left(\\xi\\right)\\left(y\\left(x\\right), x\\right)$$"
      ],
      "text/plain": [
       "D[0, 0](xi)(y(x), x)"
      ]
     },
     "metadata": {},
     "output_type": "display_data"
    }
   ],
   "source": [
    "for _ in inf.S:\n",
    "    _.show()\n",
    "    _.Lder().show()"
   ]
  },
  {
   "cell_type": "code",
   "execution_count": 8,
   "id": "ddb2f057-bcac-437c-993d-e3b0f1dc5557",
   "metadata": {},
   "outputs": [
    {
     "data": {
      "text/html": [
       "<html>\\[\\newcommand{\\Bold}[1]{\\mathbf{#1}}12 \\, y\\left(x\\right)^{3} \\mathrm{D}_{0}\\left(\\phi\\right)\\left(y\\left(x\\right), x\\right) - 24 \\, y\\left(x\\right)^{3} \\mathrm{D}_{1}\\left(\\xi\\right)\\left(y\\left(x\\right), x\\right) - 12 \\, \\phi\\left(y\\left(x\\right), x\\right) y\\left(x\\right)^{2} - 6 \\, x^{2} \\mathrm{D}_{1}\\left(\\phi\\right)\\left(y\\left(x\\right), x\\right) + 4 \\, y\\left(x\\right)^{2} \\mathrm{D}_{1, 1}\\left(\\phi\\right)\\left(y\\left(x\\right), x\\right)\\]</html>"
      ],
      "text/latex": [
       "$$\\newcommand{\\Bold}[1]{\\mathbf{#1}}12 \\, y\\left(x\\right)^{3} \\mathrm{D}_{0}\\left(\\phi\\right)\\left(y\\left(x\\right), x\\right) - 24 \\, y\\left(x\\right)^{3} \\mathrm{D}_{1}\\left(\\xi\\right)\\left(y\\left(x\\right), x\\right) - 12 \\, \\phi\\left(y\\left(x\\right), x\\right) y\\left(x\\right)^{2} - 6 \\, x^{2} \\mathrm{D}_{1}\\left(\\phi\\right)\\left(y\\left(x\\right), x\\right) + 4 \\, y\\left(x\\right)^{2} \\mathrm{D}_{1, 1}\\left(\\phi\\right)\\left(y\\left(x\\right), x\\right)$$"
      ],
      "text/plain": [
       "12*y(x)^3*D[0](phi)(y(x), x) - 24*y(x)^3*D[1](xi)(y(x), x) - 12*phi(y(x), x)*y(x)^2 - 6*x^2*D[1](phi)(y(x), x) + 4*y(x)^2*D[1, 1](phi)(y(x), x)"
      ]
     },
     "metadata": {},
     "output_type": "display_data"
    },
    {
     "data": {
      "text/html": [
       "<html>\\[\\newcommand{\\Bold}[1]{\\mathbf{#1}}-36 \\, y\\left(x\\right)^{3} \\mathrm{D}_{0}\\left(\\xi\\right)\\left(y\\left(x\\right), x\\right) + 8 \\, y\\left(x\\right)^{2} \\mathrm{D}_{0, 1}\\left(\\phi\\right)\\left(y\\left(x\\right), x\\right) - 6 \\, x^{2} \\mathrm{D}_{1}\\left(\\xi\\right)\\left(y\\left(x\\right), x\\right) - 4 \\, y\\left(x\\right)^{2} \\mathrm{D}_{1, 1}\\left(\\xi\\right)\\left(y\\left(x\\right), x\\right) - 12 \\, x \\xi\\left(y\\left(x\\right), x\\right) + \\frac{12 \\, x^{2} \\phi\\left(y\\left(x\\right), x\\right)}{y\\left(x\\right)}\\]</html>"
      ],
      "text/latex": [
       "$$\\newcommand{\\Bold}[1]{\\mathbf{#1}}-36 \\, y\\left(x\\right)^{3} \\mathrm{D}_{0}\\left(\\xi\\right)\\left(y\\left(x\\right), x\\right) + 8 \\, y\\left(x\\right)^{2} \\mathrm{D}_{0, 1}\\left(\\phi\\right)\\left(y\\left(x\\right), x\\right) - 6 \\, x^{2} \\mathrm{D}_{1}\\left(\\xi\\right)\\left(y\\left(x\\right), x\\right) - 4 \\, y\\left(x\\right)^{2} \\mathrm{D}_{1, 1}\\left(\\xi\\right)\\left(y\\left(x\\right), x\\right) - 12 \\, x \\xi\\left(y\\left(x\\right), x\\right) + \\frac{12 \\, x^{2} \\phi\\left(y\\left(x\\right), x\\right)}{y\\left(x\\right)}$$"
      ],
      "text/plain": [
       "-36*y(x)^3*D[0](xi)(y(x), x) + 8*y(x)^2*D[0, 1](phi)(y(x), x) - 6*x^2*D[1](xi)(y(x), x) - 4*y(x)^2*D[1, 1](xi)(y(x), x) - 12*x*xi(y(x), x) + 12*x^2*phi(y(x), x)/y(x)"
      ]
     },
     "metadata": {},
     "output_type": "display_data"
    },
    {
     "data": {
      "text/html": [
       "<html>\\[\\newcommand{\\Bold}[1]{\\mathbf{#1}}4 \\, y\\left(x\\right)^{2} \\mathrm{D}_{0, 0}\\left(\\phi\\right)\\left(y\\left(x\\right), x\\right) - 12 \\, x^{2} \\mathrm{D}_{0}\\left(\\xi\\right)\\left(y\\left(x\\right), x\\right) - 8 \\, y\\left(x\\right)^{2} \\mathrm{D}_{0, 1}\\left(\\xi\\right)\\left(y\\left(x\\right), x\\right)\\]</html>"
      ],
      "text/latex": [
       "$$\\newcommand{\\Bold}[1]{\\mathbf{#1}}4 \\, y\\left(x\\right)^{2} \\mathrm{D}_{0, 0}\\left(\\phi\\right)\\left(y\\left(x\\right), x\\right) - 12 \\, x^{2} \\mathrm{D}_{0}\\left(\\xi\\right)\\left(y\\left(x\\right), x\\right) - 8 \\, y\\left(x\\right)^{2} \\mathrm{D}_{0, 1}\\left(\\xi\\right)\\left(y\\left(x\\right), x\\right)$$"
      ],
      "text/plain": [
       "4*y(x)^2*D[0, 0](phi)(y(x), x) - 12*x^2*D[0](xi)(y(x), x) - 8*y(x)^2*D[0, 1](xi)(y(x), x)"
      ]
     },
     "metadata": {},
     "output_type": "display_data"
    },
    {
     "data": {
      "text/html": [
       "<html>\\[\\newcommand{\\Bold}[1]{\\mathbf{#1}}-4 \\, y\\left(x\\right)^{2} \\mathrm{D}_{0, 0}\\left(\\xi\\right)\\left(y\\left(x\\right), x\\right)\\]</html>"
      ],
      "text/latex": [
       "$$\\newcommand{\\Bold}[1]{\\mathbf{#1}}-4 \\, y\\left(x\\right)^{2} \\mathrm{D}_{0, 0}\\left(\\xi\\right)\\left(y\\left(x\\right), x\\right)$$"
      ],
      "text/plain": [
       "-4*y(x)^2*D[0, 0](xi)(y(x), x)"
      ]
     },
     "metadata": {},
     "output_type": "display_data"
    },
    {
     "name": "stdout",
     "output_type": "stream",
     "text": [
      "=======\n"
     ]
    },
    {
     "data": {
      "text/html": [
       "<html>\\[\\newcommand{\\Bold}[1]{\\mathbf{#1}}-\\frac{3 \\, x^{2} \\mathrm{D}_{0}\\left(\\xi\\right)\\left(y\\left(x\\right), x\\right)}{y\\left(x\\right)^{2}} + \\mathrm{D}_{0, 0}\\left(\\phi\\right)\\left(y\\left(x\\right), x\\right) - 2 \\, \\mathrm{D}_{0, 1}\\left(\\xi\\right)\\left(y\\left(x\\right), x\\right)\\]</html>"
      ],
      "text/latex": [
       "$$\\newcommand{\\Bold}[1]{\\mathbf{#1}}-\\frac{3 \\, x^{2} \\mathrm{D}_{0}\\left(\\xi\\right)\\left(y\\left(x\\right), x\\right)}{y\\left(x\\right)^{2}} + \\mathrm{D}_{0, 0}\\left(\\phi\\right)\\left(y\\left(x\\right), x\\right) - 2 \\, \\mathrm{D}_{0, 1}\\left(\\xi\\right)\\left(y\\left(x\\right), x\\right)$$"
      ],
      "text/plain": [
       "-3*x^2*D[0](xi)(y(x), x)/y(x)^2 + D[0, 0](phi)(y(x), x) - 2*D[0, 1](xi)(y(x), x)"
      ]
     },
     "metadata": {},
     "output_type": "display_data"
    },
    {
     "data": {
      "text/html": [
       "<html>\\[\\newcommand{\\Bold}[1]{\\mathbf{#1}}\\mathrm{D}_{0, 0}\\left(\\phi\\right)\\left(y\\left(x\\right), x\\right)\\]</html>"
      ],
      "text/latex": [
       "$$\\newcommand{\\Bold}[1]{\\mathbf{#1}}\\mathrm{D}_{0, 0}\\left(\\phi\\right)\\left(y\\left(x\\right), x\\right)$$"
      ],
      "text/plain": [
       "D[0, 0](phi)(y(x), x)"
      ]
     },
     "metadata": {},
     "output_type": "display_data"
    },
    {
     "data": {
      "text/html": [
       "<html>\\[\\newcommand{\\Bold}[1]{\\mathbf{#1}}-\\frac{9}{2} \\, y\\left(x\\right) \\mathrm{D}_{0}\\left(\\xi\\right)\\left(y\\left(x\\right), x\\right) - \\frac{3 \\, x^{2} \\mathrm{D}_{1}\\left(\\xi\\right)\\left(y\\left(x\\right), x\\right)}{4 \\, y\\left(x\\right)^{2}} + \\frac{3 \\, x^{2} \\phi\\left(y\\left(x\\right), x\\right)}{2 \\, y\\left(x\\right)^{3}} - \\frac{3 \\, x \\xi\\left(y\\left(x\\right), x\\right)}{2 \\, y\\left(x\\right)^{2}} + \\mathrm{D}_{0, 1}\\left(\\phi\\right)\\left(y\\left(x\\right), x\\right) - \\frac{1}{2} \\, \\mathrm{D}_{1, 1}\\left(\\xi\\right)\\left(y\\left(x\\right), x\\right)\\]</html>"
      ],
      "text/latex": [
       "$$\\newcommand{\\Bold}[1]{\\mathbf{#1}}-\\frac{9}{2} \\, y\\left(x\\right) \\mathrm{D}_{0}\\left(\\xi\\right)\\left(y\\left(x\\right), x\\right) - \\frac{3 \\, x^{2} \\mathrm{D}_{1}\\left(\\xi\\right)\\left(y\\left(x\\right), x\\right)}{4 \\, y\\left(x\\right)^{2}} + \\frac{3 \\, x^{2} \\phi\\left(y\\left(x\\right), x\\right)}{2 \\, y\\left(x\\right)^{3}} - \\frac{3 \\, x \\xi\\left(y\\left(x\\right), x\\right)}{2 \\, y\\left(x\\right)^{2}} + \\mathrm{D}_{0, 1}\\left(\\phi\\right)\\left(y\\left(x\\right), x\\right) - \\frac{1}{2} \\, \\mathrm{D}_{1, 1}\\left(\\xi\\right)\\left(y\\left(x\\right), x\\right)$$"
      ],
      "text/plain": [
       "-9/2*y(x)*D[0](xi)(y(x), x) - 3/4*x^2*D[1](xi)(y(x), x)/y(x)^2 + 3/2*x^2*phi(y(x), x)/y(x)^3 - 3/2*x*xi(y(x), x)/y(x)^2 + D[0, 1](phi)(y(x), x) - 1/2*D[1, 1](xi)(y(x), x)"
      ]
     },
     "metadata": {},
     "output_type": "display_data"
    },
    {
     "data": {
      "text/html": [
       "<html>\\[\\newcommand{\\Bold}[1]{\\mathbf{#1}}\\mathrm{D}_{0, 1}\\left(\\phi\\right)\\left(y\\left(x\\right), x\\right)\\]</html>"
      ],
      "text/latex": [
       "$$\\newcommand{\\Bold}[1]{\\mathbf{#1}}\\mathrm{D}_{0, 1}\\left(\\phi\\right)\\left(y\\left(x\\right), x\\right)$$"
      ],
      "text/plain": [
       "D[0, 1](phi)(y(x), x)"
      ]
     },
     "metadata": {},
     "output_type": "display_data"
    },
    {
     "data": {
      "text/html": [
       "<html>\\[\\newcommand{\\Bold}[1]{\\mathbf{#1}}3 \\, y\\left(x\\right) \\mathrm{D}_{0}\\left(\\phi\\right)\\left(y\\left(x\\right), x\\right) - 6 \\, y\\left(x\\right) \\mathrm{D}_{1}\\left(\\xi\\right)\\left(y\\left(x\\right), x\\right) - \\frac{3 \\, x^{2} \\mathrm{D}_{1}\\left(\\phi\\right)\\left(y\\left(x\\right), x\\right)}{2 \\, y\\left(x\\right)^{2}} - 3 \\, \\phi\\left(y\\left(x\\right), x\\right) + \\mathrm{D}_{1, 1}\\left(\\phi\\right)\\left(y\\left(x\\right), x\\right)\\]</html>"
      ],
      "text/latex": [
       "$$\\newcommand{\\Bold}[1]{\\mathbf{#1}}3 \\, y\\left(x\\right) \\mathrm{D}_{0}\\left(\\phi\\right)\\left(y\\left(x\\right), x\\right) - 6 \\, y\\left(x\\right) \\mathrm{D}_{1}\\left(\\xi\\right)\\left(y\\left(x\\right), x\\right) - \\frac{3 \\, x^{2} \\mathrm{D}_{1}\\left(\\phi\\right)\\left(y\\left(x\\right), x\\right)}{2 \\, y\\left(x\\right)^{2}} - 3 \\, \\phi\\left(y\\left(x\\right), x\\right) + \\mathrm{D}_{1, 1}\\left(\\phi\\right)\\left(y\\left(x\\right), x\\right)$$"
      ],
      "text/plain": [
       "3*y(x)*D[0](phi)(y(x), x) - 6*y(x)*D[1](xi)(y(x), x) - 3/2*x^2*D[1](phi)(y(x), x)/y(x)^2 - 3*phi(y(x), x) + D[1, 1](phi)(y(x), x)"
      ]
     },
     "metadata": {},
     "output_type": "display_data"
    },
    {
     "data": {
      "text/html": [
       "<html>\\[\\newcommand{\\Bold}[1]{\\mathbf{#1}}\\mathrm{D}_{1, 1}\\left(\\phi\\right)\\left(y\\left(x\\right), x\\right)\\]</html>"
      ],
      "text/latex": [
       "$$\\newcommand{\\Bold}[1]{\\mathbf{#1}}\\mathrm{D}_{1, 1}\\left(\\phi\\right)\\left(y\\left(x\\right), x\\right)$$"
      ],
      "text/plain": [
       "D[1, 1](phi)(y(x), x)"
      ]
     },
     "metadata": {},
     "output_type": "display_data"
    },
    {
     "data": {
      "text/html": [
       "<html>\\[\\newcommand{\\Bold}[1]{\\mathbf{#1}}\\mathrm{D}_{0, 0}\\left(\\xi\\right)\\left(y\\left(x\\right), x\\right)\\]</html>"
      ],
      "text/latex": [
       "$$\\newcommand{\\Bold}[1]{\\mathbf{#1}}\\mathrm{D}_{0, 0}\\left(\\xi\\right)\\left(y\\left(x\\right), x\\right)$$"
      ],
      "text/plain": [
       "D[0, 0](xi)(y(x), x)"
      ]
     },
     "metadata": {},
     "output_type": "display_data"
    },
    {
     "data": {
      "text/html": [
       "<html>\\[\\newcommand{\\Bold}[1]{\\mathbf{#1}}\\mathrm{D}_{0, 0}\\left(\\xi\\right)\\left(y\\left(x\\right), x\\right)\\]</html>"
      ],
      "text/latex": [
       "$$\\newcommand{\\Bold}[1]{\\mathbf{#1}}\\mathrm{D}_{0, 0}\\left(\\xi\\right)\\left(y\\left(x\\right), x\\right)$$"
      ],
      "text/plain": [
       "D[0, 0](xi)(y(x), x)"
      ]
     },
     "metadata": {},
     "output_type": "display_data"
    }
   ],
   "source": [
    "ode2=4*diff(y(x),x,x)*y(x)**2 - 3* (x**2)*diff(y(x),x)*2-12*y(x)**3\n",
    "inf = infinitesimalsODE(ode2, y ,x)\n",
    "print(\"=======\")\n",
    "for _ in inf.S:\n",
    "    _.show()\n",
    "    _.Lder().show()"
   ]
  },
  {
   "cell_type": "code",
   "execution_count": 10,
   "id": "1279dab5-7468-49a9-9abe-f936de8002f8",
   "metadata": {},
   "outputs": [
    {
     "data": {
      "text/html": [
       "<html>\\[\\newcommand{\\Bold}[1]{\\mathbf{#1}}-x y\\left(x\\right)^{4} \\mathrm{D}_{0}\\left(\\phi\\right)\\left(y\\left(x\\right), x\\right) + 2 \\, x y\\left(x\\right)^{4} \\mathrm{D}_{1}\\left(\\xi\\right)\\left(y\\left(x\\right), x\\right) + 4 \\, x \\phi\\left(y\\left(x\\right), x\\right) y\\left(x\\right)^{3} + \\xi\\left(y\\left(x\\right), x\\right) y\\left(x\\right)^{4} + y\\left(x\\right) \\mathrm{D}_{1}\\left(\\phi\\right)\\left(y\\left(x\\right), x\\right) + \\mathrm{D}_{1, 1}\\left(\\phi\\right)\\left(y\\left(x\\right), x\\right)\\]</html>"
      ],
      "text/latex": [
       "$$\\newcommand{\\Bold}[1]{\\mathbf{#1}}-x y\\left(x\\right)^{4} \\mathrm{D}_{0}\\left(\\phi\\right)\\left(y\\left(x\\right), x\\right) + 2 \\, x y\\left(x\\right)^{4} \\mathrm{D}_{1}\\left(\\xi\\right)\\left(y\\left(x\\right), x\\right) + 4 \\, x \\phi\\left(y\\left(x\\right), x\\right) y\\left(x\\right)^{3} + \\xi\\left(y\\left(x\\right), x\\right) y\\left(x\\right)^{4} + y\\left(x\\right) \\mathrm{D}_{1}\\left(\\phi\\right)\\left(y\\left(x\\right), x\\right) + \\mathrm{D}_{1, 1}\\left(\\phi\\right)\\left(y\\left(x\\right), x\\right)$$"
      ],
      "text/plain": [
       "-x*y(x)^4*D[0](phi)(y(x), x) + 2*x*y(x)^4*D[1](xi)(y(x), x) + 4*x*phi(y(x), x)*y(x)^3 + xi(y(x), x)*y(x)^4 + y(x)*D[1](phi)(y(x), x) + D[1, 1](phi)(y(x), x)"
      ]
     },
     "metadata": {},
     "output_type": "display_data"
    },
    {
     "data": {
      "text/html": [
       "<html>\\[\\newcommand{\\Bold}[1]{\\mathbf{#1}}3 \\, x y\\left(x\\right)^{4} \\mathrm{D}_{0}\\left(\\xi\\right)\\left(y\\left(x\\right), x\\right) + y\\left(x\\right) \\mathrm{D}_{1}\\left(\\xi\\right)\\left(y\\left(x\\right), x\\right) + \\phi\\left(y\\left(x\\right), x\\right) + 2 \\, \\mathrm{D}_{0, 1}\\left(\\phi\\right)\\left(y\\left(x\\right), x\\right) - \\mathrm{D}_{1, 1}\\left(\\xi\\right)\\left(y\\left(x\\right), x\\right)\\]</html>"
      ],
      "text/latex": [
       "$$\\newcommand{\\Bold}[1]{\\mathbf{#1}}3 \\, x y\\left(x\\right)^{4} \\mathrm{D}_{0}\\left(\\xi\\right)\\left(y\\left(x\\right), x\\right) + y\\left(x\\right) \\mathrm{D}_{1}\\left(\\xi\\right)\\left(y\\left(x\\right), x\\right) + \\phi\\left(y\\left(x\\right), x\\right) + 2 \\, \\mathrm{D}_{0, 1}\\left(\\phi\\right)\\left(y\\left(x\\right), x\\right) - \\mathrm{D}_{1, 1}\\left(\\xi\\right)\\left(y\\left(x\\right), x\\right)$$"
      ],
      "text/plain": [
       "3*x*y(x)^4*D[0](xi)(y(x), x) + y(x)*D[1](xi)(y(x), x) + phi(y(x), x) + 2*D[0, 1](phi)(y(x), x) - D[1, 1](xi)(y(x), x)"
      ]
     },
     "metadata": {},
     "output_type": "display_data"
    },
    {
     "data": {
      "text/html": [
       "<html>\\[\\newcommand{\\Bold}[1]{\\mathbf{#1}}2 \\, y\\left(x\\right) \\mathrm{D}_{0}\\left(\\xi\\right)\\left(y\\left(x\\right), x\\right) + \\mathrm{D}_{0, 0}\\left(\\phi\\right)\\left(y\\left(x\\right), x\\right) - 2 \\, \\mathrm{D}_{0, 1}\\left(\\xi\\right)\\left(y\\left(x\\right), x\\right)\\]</html>"
      ],
      "text/latex": [
       "$$\\newcommand{\\Bold}[1]{\\mathbf{#1}}2 \\, y\\left(x\\right) \\mathrm{D}_{0}\\left(\\xi\\right)\\left(y\\left(x\\right), x\\right) + \\mathrm{D}_{0, 0}\\left(\\phi\\right)\\left(y\\left(x\\right), x\\right) - 2 \\, \\mathrm{D}_{0, 1}\\left(\\xi\\right)\\left(y\\left(x\\right), x\\right)$$"
      ],
      "text/plain": [
       "2*y(x)*D[0](xi)(y(x), x) + D[0, 0](phi)(y(x), x) - 2*D[0, 1](xi)(y(x), x)"
      ]
     },
     "metadata": {},
     "output_type": "display_data"
    },
    {
     "data": {
      "text/html": [
       "<html>\\[\\newcommand{\\Bold}[1]{\\mathbf{#1}}-\\mathrm{D}_{0, 0}\\left(\\xi\\right)\\left(y\\left(x\\right), x\\right)\\]</html>"
      ],
      "text/latex": [
       "$$\\newcommand{\\Bold}[1]{\\mathbf{#1}}-\\mathrm{D}_{0, 0}\\left(\\xi\\right)\\left(y\\left(x\\right), x\\right)$$"
      ],
      "text/plain": [
       "-D[0, 0](xi)(y(x), x)"
      ]
     },
     "metadata": {},
     "output_type": "display_data"
    },
    {
     "name": "stdout",
     "output_type": "stream",
     "text": [
      "=========\n"
     ]
    },
    {
     "data": {
      "text/html": [
       "<html>\\[\\newcommand{\\Bold}[1]{\\mathbf{#1}}2 \\, y\\left(x\\right) \\mathrm{D}_{0}\\left(\\xi\\right)\\left(y\\left(x\\right), x\\right) + \\mathrm{D}_{0, 0}\\left(\\phi\\right)\\left(y\\left(x\\right), x\\right) - 2 \\, \\mathrm{D}_{0, 1}\\left(\\xi\\right)\\left(y\\left(x\\right), x\\right)\\]</html>"
      ],
      "text/latex": [
       "$$\\newcommand{\\Bold}[1]{\\mathbf{#1}}2 \\, y\\left(x\\right) \\mathrm{D}_{0}\\left(\\xi\\right)\\left(y\\left(x\\right), x\\right) + \\mathrm{D}_{0, 0}\\left(\\phi\\right)\\left(y\\left(x\\right), x\\right) - 2 \\, \\mathrm{D}_{0, 1}\\left(\\xi\\right)\\left(y\\left(x\\right), x\\right)$$"
      ],
      "text/plain": [
       "2*y(x)*D[0](xi)(y(x), x) + D[0, 0](phi)(y(x), x) - 2*D[0, 1](xi)(y(x), x)"
      ]
     },
     "metadata": {},
     "output_type": "display_data"
    },
    {
     "data": {
      "text/html": [
       "<html>\\[\\newcommand{\\Bold}[1]{\\mathbf{#1}}\\mathrm{D}_{0, 0}\\left(\\phi\\right)\\left(y\\left(x\\right), x\\right)\\]</html>"
      ],
      "text/latex": [
       "$$\\newcommand{\\Bold}[1]{\\mathbf{#1}}\\mathrm{D}_{0, 0}\\left(\\phi\\right)\\left(y\\left(x\\right), x\\right)$$"
      ],
      "text/plain": [
       "D[0, 0](phi)(y(x), x)"
      ]
     },
     "metadata": {},
     "output_type": "display_data"
    },
    {
     "data": {
      "text/html": [
       "<html>\\[\\newcommand{\\Bold}[1]{\\mathbf{#1}}\\frac{3}{2} \\, x y\\left(x\\right)^{4} \\mathrm{D}_{0}\\left(\\xi\\right)\\left(y\\left(x\\right), x\\right) + \\frac{1}{2} \\, y\\left(x\\right) \\mathrm{D}_{1}\\left(\\xi\\right)\\left(y\\left(x\\right), x\\right) + \\frac{1}{2} \\, \\phi\\left(y\\left(x\\right), x\\right) + \\mathrm{D}_{0, 1}\\left(\\phi\\right)\\left(y\\left(x\\right), x\\right) - \\frac{1}{2} \\, \\mathrm{D}_{1, 1}\\left(\\xi\\right)\\left(y\\left(x\\right), x\\right)\\]</html>"
      ],
      "text/latex": [
       "$$\\newcommand{\\Bold}[1]{\\mathbf{#1}}\\frac{3}{2} \\, x y\\left(x\\right)^{4} \\mathrm{D}_{0}\\left(\\xi\\right)\\left(y\\left(x\\right), x\\right) + \\frac{1}{2} \\, y\\left(x\\right) \\mathrm{D}_{1}\\left(\\xi\\right)\\left(y\\left(x\\right), x\\right) + \\frac{1}{2} \\, \\phi\\left(y\\left(x\\right), x\\right) + \\mathrm{D}_{0, 1}\\left(\\phi\\right)\\left(y\\left(x\\right), x\\right) - \\frac{1}{2} \\, \\mathrm{D}_{1, 1}\\left(\\xi\\right)\\left(y\\left(x\\right), x\\right)$$"
      ],
      "text/plain": [
       "3/2*x*y(x)^4*D[0](xi)(y(x), x) + 1/2*y(x)*D[1](xi)(y(x), x) + 1/2*phi(y(x), x) + D[0, 1](phi)(y(x), x) - 1/2*D[1, 1](xi)(y(x), x)"
      ]
     },
     "metadata": {},
     "output_type": "display_data"
    },
    {
     "data": {
      "text/html": [
       "<html>\\[\\newcommand{\\Bold}[1]{\\mathbf{#1}}\\mathrm{D}_{0, 1}\\left(\\phi\\right)\\left(y\\left(x\\right), x\\right)\\]</html>"
      ],
      "text/latex": [
       "$$\\newcommand{\\Bold}[1]{\\mathbf{#1}}\\mathrm{D}_{0, 1}\\left(\\phi\\right)\\left(y\\left(x\\right), x\\right)$$"
      ],
      "text/plain": [
       "D[0, 1](phi)(y(x), x)"
      ]
     },
     "metadata": {},
     "output_type": "display_data"
    },
    {
     "data": {
      "text/html": [
       "<html>\\[\\newcommand{\\Bold}[1]{\\mathbf{#1}}-x y\\left(x\\right)^{4} \\mathrm{D}_{0}\\left(\\phi\\right)\\left(y\\left(x\\right), x\\right) + 2 \\, x y\\left(x\\right)^{4} \\mathrm{D}_{1}\\left(\\xi\\right)\\left(y\\left(x\\right), x\\right) + 4 \\, x \\phi\\left(y\\left(x\\right), x\\right) y\\left(x\\right)^{3} + \\xi\\left(y\\left(x\\right), x\\right) y\\left(x\\right)^{4} + y\\left(x\\right) \\mathrm{D}_{1}\\left(\\phi\\right)\\left(y\\left(x\\right), x\\right) + \\mathrm{D}_{1, 1}\\left(\\phi\\right)\\left(y\\left(x\\right), x\\right)\\]</html>"
      ],
      "text/latex": [
       "$$\\newcommand{\\Bold}[1]{\\mathbf{#1}}-x y\\left(x\\right)^{4} \\mathrm{D}_{0}\\left(\\phi\\right)\\left(y\\left(x\\right), x\\right) + 2 \\, x y\\left(x\\right)^{4} \\mathrm{D}_{1}\\left(\\xi\\right)\\left(y\\left(x\\right), x\\right) + 4 \\, x \\phi\\left(y\\left(x\\right), x\\right) y\\left(x\\right)^{3} + \\xi\\left(y\\left(x\\right), x\\right) y\\left(x\\right)^{4} + y\\left(x\\right) \\mathrm{D}_{1}\\left(\\phi\\right)\\left(y\\left(x\\right), x\\right) + \\mathrm{D}_{1, 1}\\left(\\phi\\right)\\left(y\\left(x\\right), x\\right)$$"
      ],
      "text/plain": [
       "-x*y(x)^4*D[0](phi)(y(x), x) + 2*x*y(x)^4*D[1](xi)(y(x), x) + 4*x*phi(y(x), x)*y(x)^3 + xi(y(x), x)*y(x)^4 + y(x)*D[1](phi)(y(x), x) + D[1, 1](phi)(y(x), x)"
      ]
     },
     "metadata": {},
     "output_type": "display_data"
    },
    {
     "data": {
      "text/html": [
       "<html>\\[\\newcommand{\\Bold}[1]{\\mathbf{#1}}\\mathrm{D}_{1, 1}\\left(\\phi\\right)\\left(y\\left(x\\right), x\\right)\\]</html>"
      ],
      "text/latex": [
       "$$\\newcommand{\\Bold}[1]{\\mathbf{#1}}\\mathrm{D}_{1, 1}\\left(\\phi\\right)\\left(y\\left(x\\right), x\\right)$$"
      ],
      "text/plain": [
       "D[1, 1](phi)(y(x), x)"
      ]
     },
     "metadata": {},
     "output_type": "display_data"
    },
    {
     "data": {
      "text/html": [
       "<html>\\[\\newcommand{\\Bold}[1]{\\mathbf{#1}}\\mathrm{D}_{0, 0}\\left(\\xi\\right)\\left(y\\left(x\\right), x\\right)\\]</html>"
      ],
      "text/latex": [
       "$$\\newcommand{\\Bold}[1]{\\mathbf{#1}}\\mathrm{D}_{0, 0}\\left(\\xi\\right)\\left(y\\left(x\\right), x\\right)$$"
      ],
      "text/plain": [
       "D[0, 0](xi)(y(x), x)"
      ]
     },
     "metadata": {},
     "output_type": "display_data"
    },
    {
     "data": {
      "text/html": [
       "<html>\\[\\newcommand{\\Bold}[1]{\\mathbf{#1}}\\mathrm{D}_{0, 0}\\left(\\xi\\right)\\left(y\\left(x\\right), x\\right)\\]</html>"
      ],
      "text/latex": [
       "$$\\newcommand{\\Bold}[1]{\\mathbf{#1}}\\mathrm{D}_{0, 0}\\left(\\xi\\right)\\left(y\\left(x\\right), x\\right)$$"
      ],
      "text/plain": [
       "D[0, 0](xi)(y(x), x)"
      ]
     },
     "metadata": {},
     "output_type": "display_data"
    }
   ],
   "source": [
    "ode3=diff(y(x),x,x) + y(x)*diff(y(x),x)+x*y(x)**4\n",
    "inf = infinitesimalsODE(ode3, y ,x)\n",
    "print(\"=========\")\n",
    "for _ in inf.S:\n",
    "    _.show()\n",
    "    _.Lder().show()"
   ]
  },
  {
   "cell_type": "code",
   "execution_count": 11,
   "id": "4d13316f-d3e8-41c4-b0b0-3335201f8e83",
   "metadata": {},
   "outputs": [
    {
     "data": {
      "text/html": [
       "<html>\\[\\newcommand{\\Bold}[1]{\\mathbf{#1}}-y\\left(x\\right)^{3} \\mathrm{D}_{0}\\left(\\phi\\right)\\left(y\\left(x\\right), x\\right) + 2 \\, y\\left(x\\right)^{3} \\mathrm{D}_{1}\\left(\\xi\\right)\\left(y\\left(x\\right), x\\right) + 3 \\, \\phi\\left(y\\left(x\\right), x\\right) y\\left(x\\right)^{2} + 3 \\, y\\left(x\\right) \\mathrm{D}_{1}\\left(\\phi\\right)\\left(y\\left(x\\right), x\\right) + \\mathrm{D}_{1, 1}\\left(\\phi\\right)\\left(y\\left(x\\right), x\\right)\\]</html>"
      ],
      "text/latex": [
       "$$\\newcommand{\\Bold}[1]{\\mathbf{#1}}-y\\left(x\\right)^{3} \\mathrm{D}_{0}\\left(\\phi\\right)\\left(y\\left(x\\right), x\\right) + 2 \\, y\\left(x\\right)^{3} \\mathrm{D}_{1}\\left(\\xi\\right)\\left(y\\left(x\\right), x\\right) + 3 \\, \\phi\\left(y\\left(x\\right), x\\right) y\\left(x\\right)^{2} + 3 \\, y\\left(x\\right) \\mathrm{D}_{1}\\left(\\phi\\right)\\left(y\\left(x\\right), x\\right) + \\mathrm{D}_{1, 1}\\left(\\phi\\right)\\left(y\\left(x\\right), x\\right)$$"
      ],
      "text/plain": [
       "-y(x)^3*D[0](phi)(y(x), x) + 2*y(x)^3*D[1](xi)(y(x), x) + 3*phi(y(x), x)*y(x)^2 + 3*y(x)*D[1](phi)(y(x), x) + D[1, 1](phi)(y(x), x)"
      ]
     },
     "metadata": {},
     "output_type": "display_data"
    },
    {
     "data": {
      "text/html": [
       "<html>\\[\\newcommand{\\Bold}[1]{\\mathbf{#1}}3 \\, y\\left(x\\right)^{3} \\mathrm{D}_{0}\\left(\\xi\\right)\\left(y\\left(x\\right), x\\right) + 3 \\, y\\left(x\\right) \\mathrm{D}_{1}\\left(\\xi\\right)\\left(y\\left(x\\right), x\\right) + 3 \\, \\phi\\left(y\\left(x\\right), x\\right) + 2 \\, \\mathrm{D}_{0, 1}\\left(\\phi\\right)\\left(y\\left(x\\right), x\\right) - \\mathrm{D}_{1, 1}\\left(\\xi\\right)\\left(y\\left(x\\right), x\\right)\\]</html>"
      ],
      "text/latex": [
       "$$\\newcommand{\\Bold}[1]{\\mathbf{#1}}3 \\, y\\left(x\\right)^{3} \\mathrm{D}_{0}\\left(\\xi\\right)\\left(y\\left(x\\right), x\\right) + 3 \\, y\\left(x\\right) \\mathrm{D}_{1}\\left(\\xi\\right)\\left(y\\left(x\\right), x\\right) + 3 \\, \\phi\\left(y\\left(x\\right), x\\right) + 2 \\, \\mathrm{D}_{0, 1}\\left(\\phi\\right)\\left(y\\left(x\\right), x\\right) - \\mathrm{D}_{1, 1}\\left(\\xi\\right)\\left(y\\left(x\\right), x\\right)$$"
      ],
      "text/plain": [
       "3*y(x)^3*D[0](xi)(y(x), x) + 3*y(x)*D[1](xi)(y(x), x) + 3*phi(y(x), x) + 2*D[0, 1](phi)(y(x), x) - D[1, 1](xi)(y(x), x)"
      ]
     },
     "metadata": {},
     "output_type": "display_data"
    },
    {
     "data": {
      "text/html": [
       "<html>\\[\\newcommand{\\Bold}[1]{\\mathbf{#1}}6 \\, y\\left(x\\right) \\mathrm{D}_{0}\\left(\\xi\\right)\\left(y\\left(x\\right), x\\right) + \\mathrm{D}_{0, 0}\\left(\\phi\\right)\\left(y\\left(x\\right), x\\right) - 2 \\, \\mathrm{D}_{0, 1}\\left(\\xi\\right)\\left(y\\left(x\\right), x\\right)\\]</html>"
      ],
      "text/latex": [
       "$$\\newcommand{\\Bold}[1]{\\mathbf{#1}}6 \\, y\\left(x\\right) \\mathrm{D}_{0}\\left(\\xi\\right)\\left(y\\left(x\\right), x\\right) + \\mathrm{D}_{0, 0}\\left(\\phi\\right)\\left(y\\left(x\\right), x\\right) - 2 \\, \\mathrm{D}_{0, 1}\\left(\\xi\\right)\\left(y\\left(x\\right), x\\right)$$"
      ],
      "text/plain": [
       "6*y(x)*D[0](xi)(y(x), x) + D[0, 0](phi)(y(x), x) - 2*D[0, 1](xi)(y(x), x)"
      ]
     },
     "metadata": {},
     "output_type": "display_data"
    },
    {
     "data": {
      "text/html": [
       "<html>\\[\\newcommand{\\Bold}[1]{\\mathbf{#1}}-\\mathrm{D}_{0, 0}\\left(\\xi\\right)\\left(y\\left(x\\right), x\\right)\\]</html>"
      ],
      "text/latex": [
       "$$\\newcommand{\\Bold}[1]{\\mathbf{#1}}-\\mathrm{D}_{0, 0}\\left(\\xi\\right)\\left(y\\left(x\\right), x\\right)$$"
      ],
      "text/plain": [
       "-D[0, 0](xi)(y(x), x)"
      ]
     },
     "metadata": {},
     "output_type": "display_data"
    },
    {
     "name": "stdout",
     "output_type": "stream",
     "text": [
      "=========\n"
     ]
    },
    {
     "data": {
      "text/html": [
       "<html>\\[\\newcommand{\\Bold}[1]{\\mathbf{#1}}6 \\, y\\left(x\\right) \\mathrm{D}_{0}\\left(\\xi\\right)\\left(y\\left(x\\right), x\\right) + \\mathrm{D}_{0, 0}\\left(\\phi\\right)\\left(y\\left(x\\right), x\\right) - 2 \\, \\mathrm{D}_{0, 1}\\left(\\xi\\right)\\left(y\\left(x\\right), x\\right)\\]</html>"
      ],
      "text/latex": [
       "$$\\newcommand{\\Bold}[1]{\\mathbf{#1}}6 \\, y\\left(x\\right) \\mathrm{D}_{0}\\left(\\xi\\right)\\left(y\\left(x\\right), x\\right) + \\mathrm{D}_{0, 0}\\left(\\phi\\right)\\left(y\\left(x\\right), x\\right) - 2 \\, \\mathrm{D}_{0, 1}\\left(\\xi\\right)\\left(y\\left(x\\right), x\\right)$$"
      ],
      "text/plain": [
       "6*y(x)*D[0](xi)(y(x), x) + D[0, 0](phi)(y(x), x) - 2*D[0, 1](xi)(y(x), x)"
      ]
     },
     "metadata": {},
     "output_type": "display_data"
    },
    {
     "data": {
      "text/html": [
       "<html>\\[\\newcommand{\\Bold}[1]{\\mathbf{#1}}\\mathrm{D}_{0, 0}\\left(\\phi\\right)\\left(y\\left(x\\right), x\\right)\\]</html>"
      ],
      "text/latex": [
       "$$\\newcommand{\\Bold}[1]{\\mathbf{#1}}\\mathrm{D}_{0, 0}\\left(\\phi\\right)\\left(y\\left(x\\right), x\\right)$$"
      ],
      "text/plain": [
       "D[0, 0](phi)(y(x), x)"
      ]
     },
     "metadata": {},
     "output_type": "display_data"
    },
    {
     "data": {
      "text/html": [
       "<html>\\[\\newcommand{\\Bold}[1]{\\mathbf{#1}}\\frac{3}{2} \\, y\\left(x\\right)^{3} \\mathrm{D}_{0}\\left(\\xi\\right)\\left(y\\left(x\\right), x\\right) + \\frac{3}{2} \\, y\\left(x\\right) \\mathrm{D}_{1}\\left(\\xi\\right)\\left(y\\left(x\\right), x\\right) + \\frac{3}{2} \\, \\phi\\left(y\\left(x\\right), x\\right) + \\mathrm{D}_{0, 1}\\left(\\phi\\right)\\left(y\\left(x\\right), x\\right) - \\frac{1}{2} \\, \\mathrm{D}_{1, 1}\\left(\\xi\\right)\\left(y\\left(x\\right), x\\right)\\]</html>"
      ],
      "text/latex": [
       "$$\\newcommand{\\Bold}[1]{\\mathbf{#1}}\\frac{3}{2} \\, y\\left(x\\right)^{3} \\mathrm{D}_{0}\\left(\\xi\\right)\\left(y\\left(x\\right), x\\right) + \\frac{3}{2} \\, y\\left(x\\right) \\mathrm{D}_{1}\\left(\\xi\\right)\\left(y\\left(x\\right), x\\right) + \\frac{3}{2} \\, \\phi\\left(y\\left(x\\right), x\\right) + \\mathrm{D}_{0, 1}\\left(\\phi\\right)\\left(y\\left(x\\right), x\\right) - \\frac{1}{2} \\, \\mathrm{D}_{1, 1}\\left(\\xi\\right)\\left(y\\left(x\\right), x\\right)$$"
      ],
      "text/plain": [
       "3/2*y(x)^3*D[0](xi)(y(x), x) + 3/2*y(x)*D[1](xi)(y(x), x) + 3/2*phi(y(x), x) + D[0, 1](phi)(y(x), x) - 1/2*D[1, 1](xi)(y(x), x)"
      ]
     },
     "metadata": {},
     "output_type": "display_data"
    },
    {
     "data": {
      "text/html": [
       "<html>\\[\\newcommand{\\Bold}[1]{\\mathbf{#1}}\\mathrm{D}_{0, 1}\\left(\\phi\\right)\\left(y\\left(x\\right), x\\right)\\]</html>"
      ],
      "text/latex": [
       "$$\\newcommand{\\Bold}[1]{\\mathbf{#1}}\\mathrm{D}_{0, 1}\\left(\\phi\\right)\\left(y\\left(x\\right), x\\right)$$"
      ],
      "text/plain": [
       "D[0, 1](phi)(y(x), x)"
      ]
     },
     "metadata": {},
     "output_type": "display_data"
    },
    {
     "data": {
      "text/html": [
       "<html>\\[\\newcommand{\\Bold}[1]{\\mathbf{#1}}-y\\left(x\\right)^{3} \\mathrm{D}_{0}\\left(\\phi\\right)\\left(y\\left(x\\right), x\\right) + 2 \\, y\\left(x\\right)^{3} \\mathrm{D}_{1}\\left(\\xi\\right)\\left(y\\left(x\\right), x\\right) + 3 \\, \\phi\\left(y\\left(x\\right), x\\right) y\\left(x\\right)^{2} + 3 \\, y\\left(x\\right) \\mathrm{D}_{1}\\left(\\phi\\right)\\left(y\\left(x\\right), x\\right) + \\mathrm{D}_{1, 1}\\left(\\phi\\right)\\left(y\\left(x\\right), x\\right)\\]</html>"
      ],
      "text/latex": [
       "$$\\newcommand{\\Bold}[1]{\\mathbf{#1}}-y\\left(x\\right)^{3} \\mathrm{D}_{0}\\left(\\phi\\right)\\left(y\\left(x\\right), x\\right) + 2 \\, y\\left(x\\right)^{3} \\mathrm{D}_{1}\\left(\\xi\\right)\\left(y\\left(x\\right), x\\right) + 3 \\, \\phi\\left(y\\left(x\\right), x\\right) y\\left(x\\right)^{2} + 3 \\, y\\left(x\\right) \\mathrm{D}_{1}\\left(\\phi\\right)\\left(y\\left(x\\right), x\\right) + \\mathrm{D}_{1, 1}\\left(\\phi\\right)\\left(y\\left(x\\right), x\\right)$$"
      ],
      "text/plain": [
       "-y(x)^3*D[0](phi)(y(x), x) + 2*y(x)^3*D[1](xi)(y(x), x) + 3*phi(y(x), x)*y(x)^2 + 3*y(x)*D[1](phi)(y(x), x) + D[1, 1](phi)(y(x), x)"
      ]
     },
     "metadata": {},
     "output_type": "display_data"
    },
    {
     "data": {
      "text/html": [
       "<html>\\[\\newcommand{\\Bold}[1]{\\mathbf{#1}}\\mathrm{D}_{1, 1}\\left(\\phi\\right)\\left(y\\left(x\\right), x\\right)\\]</html>"
      ],
      "text/latex": [
       "$$\\newcommand{\\Bold}[1]{\\mathbf{#1}}\\mathrm{D}_{1, 1}\\left(\\phi\\right)\\left(y\\left(x\\right), x\\right)$$"
      ],
      "text/plain": [
       "D[1, 1](phi)(y(x), x)"
      ]
     },
     "metadata": {},
     "output_type": "display_data"
    },
    {
     "data": {
      "text/html": [
       "<html>\\[\\newcommand{\\Bold}[1]{\\mathbf{#1}}\\mathrm{D}_{0, 0}\\left(\\xi\\right)\\left(y\\left(x\\right), x\\right)\\]</html>"
      ],
      "text/latex": [
       "$$\\newcommand{\\Bold}[1]{\\mathbf{#1}}\\mathrm{D}_{0, 0}\\left(\\xi\\right)\\left(y\\left(x\\right), x\\right)$$"
      ],
      "text/plain": [
       "D[0, 0](xi)(y(x), x)"
      ]
     },
     "metadata": {},
     "output_type": "display_data"
    },
    {
     "data": {
      "text/html": [
       "<html>\\[\\newcommand{\\Bold}[1]{\\mathbf{#1}}\\mathrm{D}_{0, 0}\\left(\\xi\\right)\\left(y\\left(x\\right), x\\right)\\]</html>"
      ],
      "text/latex": [
       "$$\\newcommand{\\Bold}[1]{\\mathbf{#1}}\\mathrm{D}_{0, 0}\\left(\\xi\\right)\\left(y\\left(x\\right), x\\right)$$"
      ],
      "text/plain": [
       "D[0, 0](xi)(y(x), x)"
      ]
     },
     "metadata": {},
     "output_type": "display_data"
    }
   ],
   "source": [
    "ode4=diff(y(x),x,x) + 3*y(x)*diff(y(x),x)+y(x)**3\n",
    "inf = infinitesimalsODE(ode4, y ,x)\n",
    "print(\"=========\")\n",
    "for _ in inf.S:\n",
    "    _.show()\n",
    "    _.Lder().show()"
   ]
  },
  {
   "cell_type": "code",
   "execution_count": 12,
   "id": "20d9a7d0-49cb-49a4-aa76-da1910781773",
   "metadata": {},
   "outputs": [
    {
     "data": {
      "text/html": [
       "<html>\\[\\newcommand{\\Bold}[1]{\\mathbf{#1}}y\\left(x\\right) \\mathrm{D}_{1, 1}\\left(\\phi\\right)\\left(y\\left(x\\right), x\\right) - \\mathrm{D}_{1}\\left(\\xi\\right)\\left(y\\left(x\\right), x\\right) \\frac{\\partial^{3}}{(\\partial x)^{3}}y\\left(x\\right) - \\frac{\\phi\\left(y\\left(x\\right), x\\right) \\frac{\\partial^{3}}{(\\partial x)^{3}}y\\left(x\\right)}{y\\left(x\\right)} - \\frac{3 \\, \\mathrm{D}_{0, 1}\\left(\\phi\\right)\\left(y\\left(x\\right), x\\right) \\frac{\\partial^{3}}{(\\partial x)^{3}}y\\left(x\\right)}{y\\left(x\\right)} + \\frac{3 \\, \\mathrm{D}_{1, 1}\\left(\\xi\\right)\\left(y\\left(x\\right), x\\right) \\frac{\\partial^{3}}{(\\partial x)^{3}}y\\left(x\\right)}{y\\left(x\\right)} - \\frac{3 \\, \\mathrm{D}_{0}\\left(\\xi\\right)\\left(y\\left(x\\right), x\\right) \\frac{\\partial^{3}}{(\\partial x)^{3}}y\\left(x\\right)^{2}}{y\\left(x\\right)^{2}} + \\mathrm{D}_{1, 1, 1}\\left(\\phi\\right)\\left(y\\left(x\\right), x\\right)\\]</html>"
      ],
      "text/latex": [
       "$$\\newcommand{\\Bold}[1]{\\mathbf{#1}}y\\left(x\\right) \\mathrm{D}_{1, 1}\\left(\\phi\\right)\\left(y\\left(x\\right), x\\right) - \\mathrm{D}_{1}\\left(\\xi\\right)\\left(y\\left(x\\right), x\\right) \\frac{\\partial^{3}}{(\\partial x)^{3}}y\\left(x\\right) - \\frac{\\phi\\left(y\\left(x\\right), x\\right) \\frac{\\partial^{3}}{(\\partial x)^{3}}y\\left(x\\right)}{y\\left(x\\right)} - \\frac{3 \\, \\mathrm{D}_{0, 1}\\left(\\phi\\right)\\left(y\\left(x\\right), x\\right) \\frac{\\partial^{3}}{(\\partial x)^{3}}y\\left(x\\right)}{y\\left(x\\right)} + \\frac{3 \\, \\mathrm{D}_{1, 1}\\left(\\xi\\right)\\left(y\\left(x\\right), x\\right) \\frac{\\partial^{3}}{(\\partial x)^{3}}y\\left(x\\right)}{y\\left(x\\right)} - \\frac{3 \\, \\mathrm{D}_{0}\\left(\\xi\\right)\\left(y\\left(x\\right), x\\right) \\frac{\\partial^{3}}{(\\partial x)^{3}}y\\left(x\\right)^{2}}{y\\left(x\\right)^{2}} + \\mathrm{D}_{1, 1, 1}\\left(\\phi\\right)\\left(y\\left(x\\right), x\\right)$$"
      ],
      "text/plain": [
       "y(x)*D[1, 1](phi)(y(x), x) - D[1](xi)(y(x), x)*diff(y(x), x, x, x) - phi(y(x), x)*diff(y(x), x, x, x)/y(x) - 3*D[0, 1](phi)(y(x), x)*diff(y(x), x, x, x)/y(x) + 3*D[1, 1](xi)(y(x), x)*diff(y(x), x, x, x)/y(x) - 3*D[0](xi)(y(x), x)*diff(y(x), x, x, x)^2/y(x)^2 + D[1, 1, 1](phi)(y(x), x)"
      ]
     },
     "metadata": {},
     "output_type": "display_data"
    },
    {
     "data": {
      "text/html": [
       "<html>\\[\\newcommand{\\Bold}[1]{\\mathbf{#1}}2 \\, y\\left(x\\right) \\mathrm{D}_{0, 1}\\left(\\phi\\right)\\left(y\\left(x\\right), x\\right) - y\\left(x\\right) \\mathrm{D}_{1, 1}\\left(\\xi\\right)\\left(y\\left(x\\right), x\\right) - \\mathrm{D}_{0}\\left(\\xi\\right)\\left(y\\left(x\\right), x\\right) \\frac{\\partial^{3}}{(\\partial x)^{3}}y\\left(x\\right) - \\frac{3 \\, \\mathrm{D}_{0, 0}\\left(\\phi\\right)\\left(y\\left(x\\right), x\\right) \\frac{\\partial^{3}}{(\\partial x)^{3}}y\\left(x\\right)}{y\\left(x\\right)} + \\frac{9 \\, \\mathrm{D}_{0, 1}\\left(\\xi\\right)\\left(y\\left(x\\right), x\\right) \\frac{\\partial^{3}}{(\\partial x)^{3}}y\\left(x\\right)}{y\\left(x\\right)} + 3 \\, \\mathrm{D}_{0, 1, 1}\\left(\\phi\\right)\\left(y\\left(x\\right), x\\right) - \\mathrm{D}_{1, 1, 1}\\left(\\xi\\right)\\left(y\\left(x\\right), x\\right)\\]</html>"
      ],
      "text/latex": [
       "$$\\newcommand{\\Bold}[1]{\\mathbf{#1}}2 \\, y\\left(x\\right) \\mathrm{D}_{0, 1}\\left(\\phi\\right)\\left(y\\left(x\\right), x\\right) - y\\left(x\\right) \\mathrm{D}_{1, 1}\\left(\\xi\\right)\\left(y\\left(x\\right), x\\right) - \\mathrm{D}_{0}\\left(\\xi\\right)\\left(y\\left(x\\right), x\\right) \\frac{\\partial^{3}}{(\\partial x)^{3}}y\\left(x\\right) - \\frac{3 \\, \\mathrm{D}_{0, 0}\\left(\\phi\\right)\\left(y\\left(x\\right), x\\right) \\frac{\\partial^{3}}{(\\partial x)^{3}}y\\left(x\\right)}{y\\left(x\\right)} + \\frac{9 \\, \\mathrm{D}_{0, 1}\\left(\\xi\\right)\\left(y\\left(x\\right), x\\right) \\frac{\\partial^{3}}{(\\partial x)^{3}}y\\left(x\\right)}{y\\left(x\\right)} + 3 \\, \\mathrm{D}_{0, 1, 1}\\left(\\phi\\right)\\left(y\\left(x\\right), x\\right) - \\mathrm{D}_{1, 1, 1}\\left(\\xi\\right)\\left(y\\left(x\\right), x\\right)$$"
      ],
      "text/plain": [
       "2*y(x)*D[0, 1](phi)(y(x), x) - y(x)*D[1, 1](xi)(y(x), x) - D[0](xi)(y(x), x)*diff(y(x), x, x, x) - 3*D[0, 0](phi)(y(x), x)*diff(y(x), x, x, x)/y(x) + 9*D[0, 1](xi)(y(x), x)*diff(y(x), x, x, x)/y(x) + 3*D[0, 1, 1](phi)(y(x), x) - D[1, 1, 1](xi)(y(x), x)"
      ]
     },
     "metadata": {},
     "output_type": "display_data"
    },
    {
     "data": {
      "text/html": [
       "<html>\\[\\newcommand{\\Bold}[1]{\\mathbf{#1}}y\\left(x\\right) \\mathrm{D}_{0, 0}\\left(\\phi\\right)\\left(y\\left(x\\right), x\\right) - 2 \\, y\\left(x\\right) \\mathrm{D}_{0, 1}\\left(\\xi\\right)\\left(y\\left(x\\right), x\\right) + \\frac{6 \\, \\mathrm{D}_{0, 0}\\left(\\xi\\right)\\left(y\\left(x\\right), x\\right) \\frac{\\partial^{3}}{(\\partial x)^{3}}y\\left(x\\right)}{y\\left(x\\right)} + 3 \\, \\mathrm{D}_{0, 0, 1}\\left(\\phi\\right)\\left(y\\left(x\\right), x\\right) - 3 \\, \\mathrm{D}_{0, 1, 1}\\left(\\xi\\right)\\left(y\\left(x\\right), x\\right)\\]</html>"
      ],
      "text/latex": [
       "$$\\newcommand{\\Bold}[1]{\\mathbf{#1}}y\\left(x\\right) \\mathrm{D}_{0, 0}\\left(\\phi\\right)\\left(y\\left(x\\right), x\\right) - 2 \\, y\\left(x\\right) \\mathrm{D}_{0, 1}\\left(\\xi\\right)\\left(y\\left(x\\right), x\\right) + \\frac{6 \\, \\mathrm{D}_{0, 0}\\left(\\xi\\right)\\left(y\\left(x\\right), x\\right) \\frac{\\partial^{3}}{(\\partial x)^{3}}y\\left(x\\right)}{y\\left(x\\right)} + 3 \\, \\mathrm{D}_{0, 0, 1}\\left(\\phi\\right)\\left(y\\left(x\\right), x\\right) - 3 \\, \\mathrm{D}_{0, 1, 1}\\left(\\xi\\right)\\left(y\\left(x\\right), x\\right)$$"
      ],
      "text/plain": [
       "y(x)*D[0, 0](phi)(y(x), x) - 2*y(x)*D[0, 1](xi)(y(x), x) + 6*D[0, 0](xi)(y(x), x)*diff(y(x), x, x, x)/y(x) + 3*D[0, 0, 1](phi)(y(x), x) - 3*D[0, 1, 1](xi)(y(x), x)"
      ]
     },
     "metadata": {},
     "output_type": "display_data"
    },
    {
     "data": {
      "text/html": [
       "<html>\\[\\newcommand{\\Bold}[1]{\\mathbf{#1}}-y\\left(x\\right) \\mathrm{D}_{0, 0}\\left(\\xi\\right)\\left(y\\left(x\\right), x\\right) + \\mathrm{D}_{0, 0, 0}\\left(\\phi\\right)\\left(y\\left(x\\right), x\\right) - 3 \\, \\mathrm{D}_{0, 0, 1}\\left(\\xi\\right)\\left(y\\left(x\\right), x\\right)\\]</html>"
      ],
      "text/latex": [
       "$$\\newcommand{\\Bold}[1]{\\mathbf{#1}}-y\\left(x\\right) \\mathrm{D}_{0, 0}\\left(\\xi\\right)\\left(y\\left(x\\right), x\\right) + \\mathrm{D}_{0, 0, 0}\\left(\\phi\\right)\\left(y\\left(x\\right), x\\right) - 3 \\, \\mathrm{D}_{0, 0, 1}\\left(\\xi\\right)\\left(y\\left(x\\right), x\\right)$$"
      ],
      "text/plain": [
       "-y(x)*D[0, 0](xi)(y(x), x) + D[0, 0, 0](phi)(y(x), x) - 3*D[0, 0, 1](xi)(y(x), x)"
      ]
     },
     "metadata": {},
     "output_type": "display_data"
    },
    {
     "data": {
      "text/html": [
       "<html>\\[\\newcommand{\\Bold}[1]{\\mathbf{#1}}-\\mathrm{D}_{0, 0, 0}\\left(\\xi\\right)\\left(y\\left(x\\right), x\\right)\\]</html>"
      ],
      "text/latex": [
       "$$\\newcommand{\\Bold}[1]{\\mathbf{#1}}-\\mathrm{D}_{0, 0, 0}\\left(\\xi\\right)\\left(y\\left(x\\right), x\\right)$$"
      ],
      "text/plain": [
       "-D[0, 0, 0](xi)(y(x), x)"
      ]
     },
     "metadata": {},
     "output_type": "display_data"
    },
    {
     "name": "stdout",
     "output_type": "stream",
     "text": [
      "=========\n"
     ]
    },
    {
     "data": {
      "text/html": [
       "<html>\\[\\newcommand{\\Bold}[1]{\\mathbf{#1}}-y\\left(x\\right) \\mathrm{D}_{0, 0}\\left(\\xi\\right)\\left(y\\left(x\\right), x\\right) + \\mathrm{D}_{0, 0, 0}\\left(\\phi\\right)\\left(y\\left(x\\right), x\\right) - 3 \\, \\mathrm{D}_{0, 0, 1}\\left(\\xi\\right)\\left(y\\left(x\\right), x\\right)\\]</html>"
      ],
      "text/latex": [
       "$$\\newcommand{\\Bold}[1]{\\mathbf{#1}}-y\\left(x\\right) \\mathrm{D}_{0, 0}\\left(\\xi\\right)\\left(y\\left(x\\right), x\\right) + \\mathrm{D}_{0, 0, 0}\\left(\\phi\\right)\\left(y\\left(x\\right), x\\right) - 3 \\, \\mathrm{D}_{0, 0, 1}\\left(\\xi\\right)\\left(y\\left(x\\right), x\\right)$$"
      ],
      "text/plain": [
       "-y(x)*D[0, 0](xi)(y(x), x) + D[0, 0, 0](phi)(y(x), x) - 3*D[0, 0, 1](xi)(y(x), x)"
      ]
     },
     "metadata": {},
     "output_type": "display_data"
    },
    {
     "data": {
      "text/html": [
       "<html>\\[\\newcommand{\\Bold}[1]{\\mathbf{#1}}\\mathrm{D}_{0, 0, 0}\\left(\\phi\\right)\\left(y\\left(x\\right), x\\right)\\]</html>"
      ],
      "text/latex": [
       "$$\\newcommand{\\Bold}[1]{\\mathbf{#1}}\\mathrm{D}_{0, 0, 0}\\left(\\phi\\right)\\left(y\\left(x\\right), x\\right)$$"
      ],
      "text/plain": [
       "D[0, 0, 0](phi)(y(x), x)"
      ]
     },
     "metadata": {},
     "output_type": "display_data"
    },
    {
     "data": {
      "text/html": [
       "<html>\\[\\newcommand{\\Bold}[1]{\\mathbf{#1}}\\frac{1}{3} \\, y\\left(x\\right) \\mathrm{D}_{0, 0}\\left(\\phi\\right)\\left(y\\left(x\\right), x\\right) - \\frac{2}{3} \\, y\\left(x\\right) \\mathrm{D}_{0, 1}\\left(\\xi\\right)\\left(y\\left(x\\right), x\\right) + \\frac{2 \\, \\mathrm{D}_{0, 0}\\left(\\xi\\right)\\left(y\\left(x\\right), x\\right)}{y\\left(x\\right)} + \\mathrm{D}_{0, 0, 1}\\left(\\phi\\right)\\left(y\\left(x\\right), x\\right) - \\mathrm{D}_{0, 1, 1}\\left(\\xi\\right)\\left(y\\left(x\\right), x\\right)\\]</html>"
      ],
      "text/latex": [
       "$$\\newcommand{\\Bold}[1]{\\mathbf{#1}}\\frac{1}{3} \\, y\\left(x\\right) \\mathrm{D}_{0, 0}\\left(\\phi\\right)\\left(y\\left(x\\right), x\\right) - \\frac{2}{3} \\, y\\left(x\\right) \\mathrm{D}_{0, 1}\\left(\\xi\\right)\\left(y\\left(x\\right), x\\right) + \\frac{2 \\, \\mathrm{D}_{0, 0}\\left(\\xi\\right)\\left(y\\left(x\\right), x\\right)}{y\\left(x\\right)} + \\mathrm{D}_{0, 0, 1}\\left(\\phi\\right)\\left(y\\left(x\\right), x\\right) - \\mathrm{D}_{0, 1, 1}\\left(\\xi\\right)\\left(y\\left(x\\right), x\\right)$$"
      ],
      "text/plain": [
       "1/3*y(x)*D[0, 0](phi)(y(x), x) - 2/3*y(x)*D[0, 1](xi)(y(x), x) + 2*D[0, 0](xi)(y(x), x)/y(x) + D[0, 0, 1](phi)(y(x), x) - D[0, 1, 1](xi)(y(x), x)"
      ]
     },
     "metadata": {},
     "output_type": "display_data"
    },
    {
     "data": {
      "text/html": [
       "<html>\\[\\newcommand{\\Bold}[1]{\\mathbf{#1}}\\mathrm{D}_{0, 0, 1}\\left(\\phi\\right)\\left(y\\left(x\\right), x\\right)\\]</html>"
      ],
      "text/latex": [
       "$$\\newcommand{\\Bold}[1]{\\mathbf{#1}}\\mathrm{D}_{0, 0, 1}\\left(\\phi\\right)\\left(y\\left(x\\right), x\\right)$$"
      ],
      "text/plain": [
       "D[0, 0, 1](phi)(y(x), x)"
      ]
     },
     "metadata": {},
     "output_type": "display_data"
    },
    {
     "data": {
      "text/html": [
       "<html>\\[\\newcommand{\\Bold}[1]{\\mathbf{#1}}\\frac{2}{3} \\, y\\left(x\\right) \\mathrm{D}_{0, 1}\\left(\\phi\\right)\\left(y\\left(x\\right), x\\right) - \\frac{1}{3} \\, y\\left(x\\right) \\mathrm{D}_{1, 1}\\left(\\xi\\right)\\left(y\\left(x\\right), x\\right) - \\frac{\\mathrm{D}_{0, 0}\\left(\\phi\\right)\\left(y\\left(x\\right), x\\right)}{y\\left(x\\right)} + \\frac{3 \\, \\mathrm{D}_{0, 1}\\left(\\xi\\right)\\left(y\\left(x\\right), x\\right)}{y\\left(x\\right)} + \\mathrm{D}_{0, 1, 1}\\left(\\phi\\right)\\left(y\\left(x\\right), x\\right) - \\frac{1}{3} \\, \\mathrm{D}_{0}\\left(\\xi\\right)\\left(y\\left(x\\right), x\\right) - \\frac{1}{3} \\, \\mathrm{D}_{1, 1, 1}\\left(\\xi\\right)\\left(y\\left(x\\right), x\\right)\\]</html>"
      ],
      "text/latex": [
       "$$\\newcommand{\\Bold}[1]{\\mathbf{#1}}\\frac{2}{3} \\, y\\left(x\\right) \\mathrm{D}_{0, 1}\\left(\\phi\\right)\\left(y\\left(x\\right), x\\right) - \\frac{1}{3} \\, y\\left(x\\right) \\mathrm{D}_{1, 1}\\left(\\xi\\right)\\left(y\\left(x\\right), x\\right) - \\frac{\\mathrm{D}_{0, 0}\\left(\\phi\\right)\\left(y\\left(x\\right), x\\right)}{y\\left(x\\right)} + \\frac{3 \\, \\mathrm{D}_{0, 1}\\left(\\xi\\right)\\left(y\\left(x\\right), x\\right)}{y\\left(x\\right)} + \\mathrm{D}_{0, 1, 1}\\left(\\phi\\right)\\left(y\\left(x\\right), x\\right) - \\frac{1}{3} \\, \\mathrm{D}_{0}\\left(\\xi\\right)\\left(y\\left(x\\right), x\\right) - \\frac{1}{3} \\, \\mathrm{D}_{1, 1, 1}\\left(\\xi\\right)\\left(y\\left(x\\right), x\\right)$$"
      ],
      "text/plain": [
       "2/3*y(x)*D[0, 1](phi)(y(x), x) - 1/3*y(x)*D[1, 1](xi)(y(x), x) - D[0, 0](phi)(y(x), x)/y(x) + 3*D[0, 1](xi)(y(x), x)/y(x) + D[0, 1, 1](phi)(y(x), x) - 1/3*D[0](xi)(y(x), x) - 1/3*D[1, 1, 1](xi)(y(x), x)"
      ]
     },
     "metadata": {},
     "output_type": "display_data"
    },
    {
     "data": {
      "text/html": [
       "<html>\\[\\newcommand{\\Bold}[1]{\\mathbf{#1}}\\mathrm{D}_{0, 1, 1}\\left(\\phi\\right)\\left(y\\left(x\\right), x\\right)\\]</html>"
      ],
      "text/latex": [
       "$$\\newcommand{\\Bold}[1]{\\mathbf{#1}}\\mathrm{D}_{0, 1, 1}\\left(\\phi\\right)\\left(y\\left(x\\right), x\\right)$$"
      ],
      "text/plain": [
       "D[0, 1, 1](phi)(y(x), x)"
      ]
     },
     "metadata": {},
     "output_type": "display_data"
    },
    {
     "data": {
      "text/html": [
       "<html>\\[\\newcommand{\\Bold}[1]{\\mathbf{#1}}y\\left(x\\right) \\mathrm{D}_{1, 1}\\left(\\phi\\right)\\left(y\\left(x\\right), x\\right) - \\frac{3 \\, \\mathrm{D}_{0}\\left(\\xi\\right)\\left(y\\left(x\\right), x\\right) \\frac{\\partial^{3}}{(\\partial x)^{3}}y\\left(x\\right)^{2}}{y\\left(x\\right)^{2}} - \\frac{\\phi\\left(y\\left(x\\right), x\\right)}{y\\left(x\\right)} - \\frac{3 \\, \\mathrm{D}_{0, 1}\\left(\\phi\\right)\\left(y\\left(x\\right), x\\right)}{y\\left(x\\right)} + \\frac{3 \\, \\mathrm{D}_{1, 1}\\left(\\xi\\right)\\left(y\\left(x\\right), x\\right)}{y\\left(x\\right)} + \\mathrm{D}_{1, 1, 1}\\left(\\phi\\right)\\left(y\\left(x\\right), x\\right) - \\mathrm{D}_{1}\\left(\\xi\\right)\\left(y\\left(x\\right), x\\right)\\]</html>"
      ],
      "text/latex": [
       "$$\\newcommand{\\Bold}[1]{\\mathbf{#1}}y\\left(x\\right) \\mathrm{D}_{1, 1}\\left(\\phi\\right)\\left(y\\left(x\\right), x\\right) - \\frac{3 \\, \\mathrm{D}_{0}\\left(\\xi\\right)\\left(y\\left(x\\right), x\\right) \\frac{\\partial^{3}}{(\\partial x)^{3}}y\\left(x\\right)^{2}}{y\\left(x\\right)^{2}} - \\frac{\\phi\\left(y\\left(x\\right), x\\right)}{y\\left(x\\right)} - \\frac{3 \\, \\mathrm{D}_{0, 1}\\left(\\phi\\right)\\left(y\\left(x\\right), x\\right)}{y\\left(x\\right)} + \\frac{3 \\, \\mathrm{D}_{1, 1}\\left(\\xi\\right)\\left(y\\left(x\\right), x\\right)}{y\\left(x\\right)} + \\mathrm{D}_{1, 1, 1}\\left(\\phi\\right)\\left(y\\left(x\\right), x\\right) - \\mathrm{D}_{1}\\left(\\xi\\right)\\left(y\\left(x\\right), x\\right)$$"
      ],
      "text/plain": [
       "y(x)*D[1, 1](phi)(y(x), x) - 3*D[0](xi)(y(x), x)*diff(y(x), x, x, x)^2/y(x)^2 - phi(y(x), x)/y(x) - 3*D[0, 1](phi)(y(x), x)/y(x) + 3*D[1, 1](xi)(y(x), x)/y(x) + D[1, 1, 1](phi)(y(x), x) - D[1](xi)(y(x), x)"
      ]
     },
     "metadata": {},
     "output_type": "display_data"
    },
    {
     "data": {
      "text/html": [
       "<html>\\[\\newcommand{\\Bold}[1]{\\mathbf{#1}}\\mathrm{D}_{1, 1, 1}\\left(\\phi\\right)\\left(y\\left(x\\right), x\\right)\\]</html>"
      ],
      "text/latex": [
       "$$\\newcommand{\\Bold}[1]{\\mathbf{#1}}\\mathrm{D}_{1, 1, 1}\\left(\\phi\\right)\\left(y\\left(x\\right), x\\right)$$"
      ],
      "text/plain": [
       "D[1, 1, 1](phi)(y(x), x)"
      ]
     },
     "metadata": {},
     "output_type": "display_data"
    },
    {
     "data": {
      "text/html": [
       "<html>\\[\\newcommand{\\Bold}[1]{\\mathbf{#1}}\\mathrm{D}_{0, 0, 0}\\left(\\xi\\right)\\left(y\\left(x\\right), x\\right)\\]</html>"
      ],
      "text/latex": [
       "$$\\newcommand{\\Bold}[1]{\\mathbf{#1}}\\mathrm{D}_{0, 0, 0}\\left(\\xi\\right)\\left(y\\left(x\\right), x\\right)$$"
      ],
      "text/plain": [
       "D[0, 0, 0](xi)(y(x), x)"
      ]
     },
     "metadata": {},
     "output_type": "display_data"
    },
    {
     "data": {
      "text/html": [
       "<html>\\[\\newcommand{\\Bold}[1]{\\mathbf{#1}}\\mathrm{D}_{0, 0, 0}\\left(\\xi\\right)\\left(y\\left(x\\right), x\\right)\\]</html>"
      ],
      "text/latex": [
       "$$\\newcommand{\\Bold}[1]{\\mathbf{#1}}\\mathrm{D}_{0, 0, 0}\\left(\\xi\\right)\\left(y\\left(x\\right), x\\right)$$"
      ],
      "text/plain": [
       "D[0, 0, 0](xi)(y(x), x)"
      ]
     },
     "metadata": {},
     "output_type": "display_data"
    }
   ],
   "source": [
    "ode5=diff(y(x),x,x,x) + y(x)*diff(y(x),x,x)\n",
    "inf = infinitesimalsODE(ode5, y ,x)\n",
    "print(\"=========\")\n",
    "for _ in inf.S:\n",
    "    _.show()\n",
    "    _.Lder().show()"
   ]
  },
  {
   "cell_type": "code",
   "execution_count": null,
   "id": "7a45243c-aa67-4cfb-b207-638dcb22eff7",
   "metadata": {},
   "outputs": [],
   "source": []
  }
 ],
 "metadata": {
  "kernelspec": {
   "display_name": "SageMath 9.4",
   "language": "sage",
   "name": "sagemath"
  },
  "language_info": {
   "codemirror_mode": {
    "name": "ipython",
    "version": 3
   },
   "file_extension": ".py",
   "mimetype": "text/x-python",
   "name": "python",
   "nbconvert_exporter": "python",
   "pygments_lexer": "ipython3",
   "version": "3.9.9"
  },
  "widgets": {
   "application/vnd.jupyter.widget-state+json": {
    "state": {},
    "version_major": 2,
    "version_minor": 0
   }
  }
 },
 "nbformat": 4,
 "nbformat_minor": 5
}
