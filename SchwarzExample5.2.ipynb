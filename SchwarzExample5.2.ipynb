{
 "cells": [
  {
   "cell_type": "code",
   "execution_count": 1,
   "id": "545ab148",
   "metadata": {},
   "outputs": [],
   "source": [
    "from delierium.Infinitesimals import prolongationODE\n",
    "from delierium.JanetBasis import Janet_Basis"
   ]
  },
  {
   "cell_type": "code",
   "execution_count": 2,
   "id": "09a4b34a",
   "metadata": {},
   "outputs": [],
   "source": [
    "x = var('x')\n",
    "y=function('y')"
   ]
  },
  {
   "cell_type": "code",
   "execution_count": 3,
   "id": "22b129e9",
   "metadata": {},
   "outputs": [],
   "source": [
    "ode=4*diff(y(x),x,x)*y(x) - 3* (diff(y(x),x)**2)-12*(y(x)**3)"
   ]
  },
  {
   "cell_type": "code",
   "execution_count": 5,
   "id": "5b7f1d33",
   "metadata": {},
   "outputs": [],
   "source": [
    "p=prolongationODE(ode, y, x)"
   ]
  },
  {
   "cell_type": "code",
   "execution_count": 6,
   "id": "97ac90fc",
   "metadata": {},
   "outputs": [
    {
     "ename": "AttributeError",
     "evalue": "'list' object has no attribute 'operands'",
     "output_type": "error",
     "traceback": [
      "\u001b[0;31m---------------------------------------------------------------------------\u001b[0m",
      "\u001b[0;31mAttributeError\u001b[0m                            Traceback (most recent call last)",
      "\u001b[0;32m~/tmp/ipykernel_18040/88663411.py\u001b[0m in \u001b[0;36m<cell line: 1>\u001b[0;34m()\u001b[0m\n\u001b[0;32m----> 1\u001b[0;31m \u001b[0;32mfor\u001b[0m \u001b[0m_\u001b[0m \u001b[0;32min\u001b[0m \u001b[0mp\u001b[0m\u001b[0;34m.\u001b[0m\u001b[0moperands\u001b[0m\u001b[0;34m(\u001b[0m\u001b[0;34m)\u001b[0m\u001b[0;34m:\u001b[0m\u001b[0;34m\u001b[0m\u001b[0;34m\u001b[0m\u001b[0m\n\u001b[0m\u001b[1;32m      2\u001b[0m     \u001b[0m_\u001b[0m\u001b[0;34m.\u001b[0m\u001b[0mshow\u001b[0m\u001b[0;34m(\u001b[0m\u001b[0mrich\u001b[0m\u001b[0;34m=\u001b[0m\u001b[0;32mTrue\u001b[0m\u001b[0;34m)\u001b[0m\u001b[0;34m\u001b[0m\u001b[0;34m\u001b[0m\u001b[0m\n",
      "\u001b[0;31mAttributeError\u001b[0m: 'list' object has no attribute 'operands'"
     ]
    }
   ],
   "source": [
    "for _ in p.operands():\n",
    "    _.show(rich=True)"
   ]
  },
  {
   "cell_type": "code",
   "execution_count": 11,
   "id": "376757e9-585d-4e1e-b0ed-8669f4804f1c",
   "metadata": {},
   "outputs": [
    {
     "name": "stdout",
     "output_type": "stream",
     "text": [
      "{'_expression': -4*y(x)*D[0, 0](xi)(y(x), x)*diff(y(x), x)^3 + 36*xi(y(x), x)*y(x)^2*diff(y(x), x) + 4*y(x)*D[0, 0](phi)(y(x), x)*diff(y(x), x)^2 - 8*y(x)*D[0, 1](xi)(y(x), x)*diff(y(x), x)^2 + 6*D[0](xi)(y(x), x)*diff(y(x), x)^3 - 12*y(x)*D[0](xi)(y(x), x)*diff(y(x), x)*diff(y(x), x, x) - 36*phi(y(x), x)*y(x)^2 + 8*y(x)*D[0, 1](phi)(y(x), x)*diff(y(x), x) - 4*y(x)*D[1, 1](xi)(y(x), x)*diff(y(x), x) - 6*D[0](phi)(y(x), x)*diff(y(x), x)^2 + 6*D[1](xi)(y(x), x)*diff(y(x), x)^2 + 4*y(x)*D[0](phi)(y(x), x)*diff(y(x), x, x) - 8*y(x)*D[1](xi)(y(x), x)*diff(y(x), x, x) + 2*xi(y(x), x)*diff(y(x), x)*diff(y(x), x, x) - 4*xi(y(x), x)*y(x)*diff(y(x), x, x, x) - 2*(18*y(x)^2*diff(y(x), x) + diff(y(x), x)*diff(y(x), x, x) - 2*y(x)*diff(y(x), x, x, x))*xi(y(x), x) + 4*y(x)*D[1, 1](phi)(y(x), x) - 6*D[1](phi)(y(x), x)*diff(y(x), x) + 4*phi(y(x), x)*diff(y(x), x, x)}\n"
     ]
    }
   ],
   "source": [
    "print(p[0].__dict__)"
   ]
  },
  {
   "cell_type": "code",
   "execution_count": null,
   "id": "c4d6d230",
   "metadata": {},
   "outputs": [],
   "source": []
  },
  {
   "cell_type": "code",
   "execution_count": null,
   "id": "ae36230a",
   "metadata": {},
   "outputs": [],
   "source": [
    "s1=s1[0];s1.show();s1.lhs().show();s1.rhs().show()"
   ]
  },
  {
   "cell_type": "code",
   "execution_count": null,
   "id": "f9036d72",
   "metadata": {},
   "outputs": [],
   "source": [
    "ode1=p.subs({s1.lhs() : s1.rhs()}).simplify()"
   ]
  },
  {
   "cell_type": "code",
   "execution_count": null,
   "id": "9c868a24",
   "metadata": {},
   "outputs": [],
   "source": [
    "ode1.expand().show()"
   ]
  },
  {
   "cell_type": "code",
   "execution_count": null,
   "id": "e0ecd722",
   "metadata": {},
   "outputs": [],
   "source": [
    "r1=ode1.expand().collect(diff(y(x),x)**3);r1.show()"
   ]
  },
  {
   "cell_type": "code",
   "execution_count": null,
   "id": "1c50132f",
   "metadata": {},
   "outputs": [],
   "source": [
    "r2=r1.collect(diff(y(x),x)**2);r2.show()"
   ]
  },
  {
   "cell_type": "code",
   "execution_count": null,
   "id": "8cf44482",
   "metadata": {},
   "outputs": [],
   "source": [
    "r3=r2.collect(diff(y(x),x)); r3.show()"
   ]
  },
  {
   "cell_type": "code",
   "execution_count": null,
   "id": "cd845ac0",
   "metadata": {
    "scrolled": true
   },
   "outputs": [],
   "source": [
    "r4=r3.collect(y(x)); r4.show()"
   ]
  },
  {
   "cell_type": "code",
   "execution_count": null,
   "id": "89de1c73",
   "metadata": {},
   "outputs": [],
   "source": [
    "from IPython.core.debugger import set_trace\n",
    "function('xi phi')\n",
    "def infinitesimalsODE (ode, dependent, independent):\n",
    "    prolongation = prolongationODE(ode, dependent, independent)[0].expand()\n",
    "    s1  = solve(ode==0, diff(dependent(independent),independent,independent))\n",
    "    ode1= prolongation.subs({s1[0].lhs() : s1[0].rhs()}).simplify()\n",
    "    # so far it is checked manually and with mathematica\n",
    "    l = [_ [0] for _ in ode1.coefficients(diff(dependent(independent), independent))]\n",
    "    # remove hardcoded xi, phi\n",
    "    janet = Janet_Basis(l, [xi, phi], [x, y])\n",
    "    return janet"
   ]
  },
  {
   "cell_type": "code",
   "execution_count": null,
   "id": "e524c658-6b1a-486e-8cb5-a6961261adc2",
   "metadata": {
    "tags": []
   },
   "outputs": [],
   "source": [
    "ode=4*diff(y(x),x,x)*y(x) - 3* diff(y(x),x)**2-12*y(x)**3\n",
    "inf = infinitesimalsODE(ode, y ,x)"
   ]
  },
  {
   "cell_type": "code",
   "execution_count": null,
   "id": "bb3e29b4-aae9-4f4d-a7d9-e3b11538b29b",
   "metadata": {},
   "outputs": [],
   "source": []
  }
 ],
 "metadata": {
  "kernelspec": {
   "display_name": "SageMath 9.6",
   "language": "sage",
   "name": "sagemath"
  },
  "language_info": {
   "codemirror_mode": {
    "name": "ipython",
    "version": 3
   },
   "file_extension": ".py",
   "mimetype": "text/x-python",
   "name": "python",
   "nbconvert_exporter": "python",
   "pygments_lexer": "ipython3",
   "version": "3.10.6"
  },
  "widgets": {
   "application/vnd.jupyter.widget-state+json": {
    "state": {},
    "version_major": 2,
    "version_minor": 0
   }
  }
 },
 "nbformat": 4,
 "nbformat_minor": 5
}
