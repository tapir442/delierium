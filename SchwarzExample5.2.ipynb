{
 "cells": [
  {
   "cell_type": "code",
   "execution_count": 1,
   "id": "545ab148",
   "metadata": {},
   "outputs": [],
   "source": [
    "from delierium.Infinitesimals import prolongationODE\n",
    "from delierium.JanetBasis import Janet_Basis\n",
    "from delierium.helpers import is_derivative, order_of_derivative\n",
    "from delierium.MatrixOrder import Context\n",
    "import functools\n",
    "from operator import mul\n",
    "from pprint import pprint"
   ]
  },
  {
   "cell_type": "code",
   "execution_count": 2,
   "id": "89de1c73",
   "metadata": {},
   "outputs": [],
   "source": [
    "x = var('x')\n",
    "y = function(\"y\")\n",
    "from IPython.core.debugger import set_trace\n",
    "function('xi phi')\n",
    "def order_of_ode(ode, dependent, independent):\n",
    "    # XXX write tests\n",
    "    m = 0\n",
    "    if is_derivative(ode):\n",
    "        m = max(order_of_derivative(ode)[0], m)\n",
    "    elif ode.operator().__name__ == 'mul_vararg':\n",
    "        for i in ode.operands():\n",
    "            if is_derivative(i):\n",
    "                m = max(m, order_of_derivative(i)[0])\n",
    "    elif ode.operator().__name__ == 'add_vararg':\n",
    "        for i in ode.operands():\n",
    "            if is_derivative(i):\n",
    "                m = max(m, order_of_derivative(i)[0])\n",
    "            else:\n",
    "                for j in i.operands():\n",
    "                    if is_derivative(j):\n",
    "                        m = max(m, order_of_derivative(j)[0])\n",
    "    return m\n",
    "    \n",
    "def infinitesimalsODE (ode, dependent, independent):\n",
    "    order = order_of_ode (ode, dependent, independent)\n",
    "    prolongation = prolongationODE(ode, dependent, independent)[0].expand()\n",
    "    # XXX: get correct order of ode\n",
    "    s1                 = solve(ode==0, diff(dependent(independent),independent, order))\n",
    "    determining_system = prolongation.subs({s1[0].lhs() : s1[0].rhs()}).simplify().expand()\n",
    "    # so far it is checked manually and with mathematica\n",
    "    #set_trace()\n",
    "    all_derivative_monomials = set()\n",
    "    for term in determining_system.operands():\n",
    "        collector = 1\n",
    "        for o in term.operands():\n",
    "            if hasattr(o.operator(), \"__name__\") and (o.operator().__name__ == 'pow'):\n",
    "                base, exponent = o.operands()\n",
    "                if is_derivative(base) and base.operator().function() == dependent:\n",
    "                    collector *= o\n",
    "            elif is_derivative(o) and o.operator().function() == dependent:\n",
    "                collector *= o\n",
    "            else:\n",
    "                pass\n",
    "        if collector != 1:\n",
    "            all_derivative_monomials.add(collector)\n",
    "    class mon:\n",
    "        # helper class just\n",
    "        def __init__ (self, it):\n",
    "            self._it = it\n",
    "        def __lt__ (self, other):\n",
    "            if is_derivative(self._it) and is_derivative(other._it):\n",
    "                return order_of_derivative(self._it)[0] < order_of_derivative(other._it)[0]\n",
    "            elif is_derivative(self._it) and other._it.operator().__name__ in ['mul_vararg', 'pow']:\n",
    "                return True\n",
    "            elif is_derivative(other._it) and self._it.operator().__name__ in ['mul_vararg', 'pow']:\n",
    "                return False\n",
    "            elif self._it.operator().__name__ == 'pow' == other._it.operator().__name__ :\n",
    "                if self._it.operands()[0] == other._it.operands()[0]:\n",
    "                    return self._it.operands()[1] < other._it.operands()[1]\n",
    "                else:                \n",
    "                    return self._it.operands()[1] < other._it.operands()[1]\n",
    "            elif self._it.operator().__name__ == 'pow' and other._it.operator().__name__ == 'mul_vararg':\n",
    "                return True\n",
    "            elif self._it.operator().__name__ == 'mul_vararg' and other._it.operator().__name__ == 'pow':\n",
    "                return False\n",
    "            elif 'mul_vararg' == self._it.operator().__name__ == other._it.operator().__name__ :\n",
    "                if len(self._it.operands()) < len(other._it.operands()):\n",
    "                    return False\n",
    "                elif len(self._it.operands()) > len(other._it.operands()):\n",
    "                    return True\n",
    "                else:\n",
    "                    s = self._it.operands()\n",
    "                    o = other._it.operands()\n",
    "                    s.sort()\n",
    "                    o.sort()\n",
    "                    for _s, _o in zip(s, o):\n",
    "                        if is_derivative(_s) and is_derivative(_o):\n",
    "                            if order_of_derivative(_s)[0] < order_of_derivative(_o)[0]:\n",
    "                                return True\n",
    "                            else:\n",
    "                                return False\n",
    "                        elif is_derivative(_s) and not is_derivative(_o):\n",
    "                            return True\n",
    "                        elif is_derivative(_o) and not is_derivative(_s):\n",
    "                            return False\n",
    "                        elif _s.operator().__name__ == 'pow' == _o.operator().__name__:\n",
    "                            left  = _s.operands()\n",
    "                            right = _o.operands()\n",
    "                            set_trace()\n",
    "                            pass\n",
    "                        else:\n",
    "                            set_trace()\n",
    "                            pass\n",
    "            else:\n",
    "                print(\"Shithole\")\n",
    "                return True\n",
    "    derivative_monomials = [_ for _ in reversed(sorted([mon(_) for _ in all_derivative_monomials]))]\n",
    "    _det = []\n",
    "    for monomial in derivative_monomials:\n",
    "        monomial = monomial._it\n",
    "        if is_derivative(monomial) or monomial.operator().__name__ == 'pow':\n",
    "            _v = set([monomial])\n",
    "        else:\n",
    "            _v = set(monomial.operands())\n",
    "        coeffsum = 0\n",
    "        for _coll in determining_system.operands():\n",
    "            if _coll == monomial:\n",
    "                coeffsum += 1\n",
    "            else:\n",
    "                factors = set(_coll.operands())\n",
    "                if _v.issubset(factors):\n",
    "                    coeffsum += functools.reduce(mul, factors - _v, 1)\n",
    "        if coeffsum:\n",
    "            _det.append(coeffsum)\n",
    "        determining_system = (determining_system - coeffsum * monomial).expand()\n",
    "        \n",
    "    # append remaining terms which have no derivatives (\"the constant term\")\n",
    "    _det.append(determining_system)\n",
    "    determining_system = _det\n",
    "    print (\"this is my determining system\")\n",
    "    for _ in determining_system:\n",
    "        _.show()\n",
    "    \n",
    "    #set_trace()\n",
    "    X, Y = var('X Y')\n",
    "    for i in range(len(determining_system)):\n",
    "        determining_system[i] = determining_system[i].subs({dependent(independent) : Y})\n",
    "        determining_system[i] = determining_system[i].subs({diff(dependent(independent), independent) : 0})\n",
    "    # toDo: repair ASAP\n",
    "    janet = Janet_Basis(determining_system, [xi, phi], [Y, independent])\n",
    "    pols = []\n",
    "    for i in range(len(janet.S)):\n",
    "        pols.append(janet.S[i].expression().subs({Y : dependent(independent)}))\n",
    "    return pols"
   ]
  },
  {
   "cell_type": "code",
   "execution_count": 3,
   "id": "2cbcfb5f-f8da-46c7-b44b-1ca511f92b7c",
   "metadata": {},
   "outputs": [
    {
     "name": "stderr",
     "output_type": "stream",
     "text": [
      "/researches/mambaforge/envs/sage/lib/python3.9/site-packages/sage/symbolic/expression_conversions.py:2347: DeprecationWarning: Substitution using function-call syntax and unnamed arguments is deprecated and will be removed from a future release of Sage; you can use named arguments instead, like EXPR(x=..., y=...)\n",
      "See http://trac.sagemath.org/5930 for details.\n",
      "  return self.new(*[self(_) for _ in ex.operands()])\n",
      "/researches/mambaforge/envs/sage/lib/python3.9/site-packages/sage/symbolic/operators.py:121: DeprecationWarning: Substitution using function-call syntax and unnamed arguments is deprecated and will be removed from a future release of Sage; you can use named arguments instead, like EXPR(x=..., y=...)\n",
      "See http://trac.sagemath.org/5930 for details.\n",
      "  return self._f(*args).diff(*vars)\n"
     ]
    },
    {
     "name": "stdout",
     "output_type": "stream",
     "text": [
      "this is my determining system\n"
     ]
    },
    {
     "data": {
      "text/html": [
       "<html>\\[\\newcommand{\\Bold}[1]{\\mathbf{#1}}-4 \\, y\\left(x\\right) \\mathrm{D}_{0, 0}\\left(\\xi\\right)\\left(y\\left(x\\right), x\\right) - 3 \\, \\mathrm{D}_{0}\\left(\\xi\\right)\\left(y\\left(x\\right), x\\right)\\]</html>"
      ],
      "text/latex": [
       "$$\\newcommand{\\Bold}[1]{\\mathbf{#1}}-4 \\, y\\left(x\\right) \\mathrm{D}_{0, 0}\\left(\\xi\\right)\\left(y\\left(x\\right), x\\right) - 3 \\, \\mathrm{D}_{0}\\left(\\xi\\right)\\left(y\\left(x\\right), x\\right)$$"
      ],
      "text/plain": [
       "-4*y(x)*D[0, 0](xi)(y(x), x) - 3*D[0](xi)(y(x), x)"
      ]
     },
     "metadata": {},
     "output_type": "display_data"
    },
    {
     "data": {
      "text/html": [
       "<html>\\[\\newcommand{\\Bold}[1]{\\mathbf{#1}}4 \\, y\\left(x\\right) \\mathrm{D}_{0, 0}\\left(\\phi\\right)\\left(y\\left(x\\right), x\\right) - 8 \\, y\\left(x\\right) \\mathrm{D}_{0, 1}\\left(\\xi\\right)\\left(y\\left(x\\right), x\\right) + \\frac{3 \\, \\phi\\left(y\\left(x\\right), x\\right)}{y\\left(x\\right)} - 3 \\, \\mathrm{D}_{0}\\left(\\phi\\right)\\left(y\\left(x\\right), x\\right)\\]</html>"
      ],
      "text/latex": [
       "$$\\newcommand{\\Bold}[1]{\\mathbf{#1}}4 \\, y\\left(x\\right) \\mathrm{D}_{0, 0}\\left(\\phi\\right)\\left(y\\left(x\\right), x\\right) - 8 \\, y\\left(x\\right) \\mathrm{D}_{0, 1}\\left(\\xi\\right)\\left(y\\left(x\\right), x\\right) + \\frac{3 \\, \\phi\\left(y\\left(x\\right), x\\right)}{y\\left(x\\right)} - 3 \\, \\mathrm{D}_{0}\\left(\\phi\\right)\\left(y\\left(x\\right), x\\right)$$"
      ],
      "text/plain": [
       "4*y(x)*D[0, 0](phi)(y(x), x) - 8*y(x)*D[0, 1](xi)(y(x), x) + 3*phi(y(x), x)/y(x) - 3*D[0](phi)(y(x), x)"
      ]
     },
     "metadata": {},
     "output_type": "display_data"
    },
    {
     "data": {
      "text/html": [
       "<html>\\[\\newcommand{\\Bold}[1]{\\mathbf{#1}}-36 \\, y\\left(x\\right)^{3} \\mathrm{D}_{0}\\left(\\xi\\right)\\left(y\\left(x\\right), x\\right) + 8 \\, y\\left(x\\right) \\mathrm{D}_{0, 1}\\left(\\phi\\right)\\left(y\\left(x\\right), x\\right) - 4 \\, y\\left(x\\right) \\mathrm{D}_{1, 1}\\left(\\xi\\right)\\left(y\\left(x\\right), x\\right) - 6 \\, \\mathrm{D}_{1}\\left(\\phi\\right)\\left(y\\left(x\\right), x\\right)\\]</html>"
      ],
      "text/latex": [
       "$$\\newcommand{\\Bold}[1]{\\mathbf{#1}}-36 \\, y\\left(x\\right)^{3} \\mathrm{D}_{0}\\left(\\xi\\right)\\left(y\\left(x\\right), x\\right) + 8 \\, y\\left(x\\right) \\mathrm{D}_{0, 1}\\left(\\phi\\right)\\left(y\\left(x\\right), x\\right) - 4 \\, y\\left(x\\right) \\mathrm{D}_{1, 1}\\left(\\xi\\right)\\left(y\\left(x\\right), x\\right) - 6 \\, \\mathrm{D}_{1}\\left(\\phi\\right)\\left(y\\left(x\\right), x\\right)$$"
      ],
      "text/plain": [
       "-36*y(x)^3*D[0](xi)(y(x), x) + 8*y(x)*D[0, 1](phi)(y(x), x) - 4*y(x)*D[1, 1](xi)(y(x), x) - 6*D[1](phi)(y(x), x)"
      ]
     },
     "metadata": {},
     "output_type": "display_data"
    },
    {
     "data": {
      "text/html": [
       "<html>\\[\\newcommand{\\Bold}[1]{\\mathbf{#1}}12 \\, y\\left(x\\right)^{3} \\mathrm{D}_{0}\\left(\\phi\\right)\\left(y\\left(x\\right), x\\right) - 24 \\, y\\left(x\\right)^{3} \\mathrm{D}_{1}\\left(\\xi\\right)\\left(y\\left(x\\right), x\\right) - 24 \\, \\phi\\left(y\\left(x\\right), x\\right) y\\left(x\\right)^{2} + 4 \\, y\\left(x\\right) \\mathrm{D}_{1, 1}\\left(\\phi\\right)\\left(y\\left(x\\right), x\\right)\\]</html>"
      ],
      "text/latex": [
       "$$\\newcommand{\\Bold}[1]{\\mathbf{#1}}12 \\, y\\left(x\\right)^{3} \\mathrm{D}_{0}\\left(\\phi\\right)\\left(y\\left(x\\right), x\\right) - 24 \\, y\\left(x\\right)^{3} \\mathrm{D}_{1}\\left(\\xi\\right)\\left(y\\left(x\\right), x\\right) - 24 \\, \\phi\\left(y\\left(x\\right), x\\right) y\\left(x\\right)^{2} + 4 \\, y\\left(x\\right) \\mathrm{D}_{1, 1}\\left(\\phi\\right)\\left(y\\left(x\\right), x\\right)$$"
      ],
      "text/plain": [
       "12*y(x)^3*D[0](phi)(y(x), x) - 24*y(x)^3*D[1](xi)(y(x), x) - 24*phi(y(x), x)*y(x)^2 + 4*y(x)*D[1, 1](phi)(y(x), x)"
      ]
     },
     "metadata": {},
     "output_type": "display_data"
    },
    {
     "name": "stdout",
     "output_type": "stream",
     "text": [
      "This is where we start\n"
     ]
    },
    {
     "data": {
      "text/html": [
       "<html>\\[\\newcommand{\\Bold}[1]{\\mathbf{#1}}3 \\, Y^{2} \\frac{\\partial}{\\partial Y}\\phi\\left(Y, x\\right) - 6 \\, Y^{2} \\frac{\\partial}{\\partial x}\\xi\\left(Y, x\\right) - 6 \\, Y \\phi\\left(Y, x\\right) + \\frac{\\partial^{2}}{(\\partial x)^{2}}\\phi\\left(Y, x\\right)\\]</html>"
      ],
      "text/latex": [
       "$$\\newcommand{\\Bold}[1]{\\mathbf{#1}}3 \\, Y^{2} \\frac{\\partial}{\\partial Y}\\phi\\left(Y, x\\right) - 6 \\, Y^{2} \\frac{\\partial}{\\partial x}\\xi\\left(Y, x\\right) - 6 \\, Y \\phi\\left(Y, x\\right) + \\frac{\\partial^{2}}{(\\partial x)^{2}}\\phi\\left(Y, x\\right)$$"
      ],
      "text/plain": [
       "3*Y^2*diff(phi(Y, x), Y) - 6*Y^2*diff(xi(Y, x), x) - 6*Y*phi(Y, x) + diff(phi(Y, x), x, x)"
      ]
     },
     "metadata": {},
     "output_type": "display_data"
    },
    {
     "data": {
      "text/html": [
       "<html>\\[\\newcommand{\\Bold}[1]{\\mathbf{#1}}9 \\, Y^{2} \\frac{\\partial}{\\partial Y}\\xi\\left(Y, x\\right) + \\frac{3 \\, \\frac{\\partial}{\\partial x}\\phi\\left(Y, x\\right)}{2 \\, Y} - 2 \\, \\frac{\\partial^{2}}{\\partial Y\\partial x}\\phi\\left(Y, x\\right) + \\frac{\\partial^{2}}{(\\partial x)^{2}}\\xi\\left(Y, x\\right)\\]</html>"
      ],
      "text/latex": [
       "$$\\newcommand{\\Bold}[1]{\\mathbf{#1}}9 \\, Y^{2} \\frac{\\partial}{\\partial Y}\\xi\\left(Y, x\\right) + \\frac{3 \\, \\frac{\\partial}{\\partial x}\\phi\\left(Y, x\\right)}{2 \\, Y} - 2 \\, \\frac{\\partial^{2}}{\\partial Y\\partial x}\\phi\\left(Y, x\\right) + \\frac{\\partial^{2}}{(\\partial x)^{2}}\\xi\\left(Y, x\\right)$$"
      ],
      "text/plain": [
       "9*Y^2*diff(xi(Y, x), Y) + 3/2*diff(phi(Y, x), x)/Y - 2*diff(phi(Y, x), Y, x) + diff(xi(Y, x), x, x)"
      ]
     },
     "metadata": {},
     "output_type": "display_data"
    },
    {
     "data": {
      "text/html": [
       "<html>\\[\\newcommand{\\Bold}[1]{\\mathbf{#1}}\\frac{3 \\, \\frac{\\partial}{\\partial Y}\\phi\\left(Y, x\\right)}{8 \\, Y} - \\frac{3 \\, \\phi\\left(Y, x\\right)}{8 \\, Y^{2}} - \\frac{1}{2} \\, \\frac{\\partial^{2}}{(\\partial Y)^{2}}\\phi\\left(Y, x\\right) + \\frac{\\partial^{2}}{\\partial Y\\partial x}\\xi\\left(Y, x\\right)\\]</html>"
      ],
      "text/latex": [
       "$$\\newcommand{\\Bold}[1]{\\mathbf{#1}}\\frac{3 \\, \\frac{\\partial}{\\partial Y}\\phi\\left(Y, x\\right)}{8 \\, Y} - \\frac{3 \\, \\phi\\left(Y, x\\right)}{8 \\, Y^{2}} - \\frac{1}{2} \\, \\frac{\\partial^{2}}{(\\partial Y)^{2}}\\phi\\left(Y, x\\right) + \\frac{\\partial^{2}}{\\partial Y\\partial x}\\xi\\left(Y, x\\right)$$"
      ],
      "text/plain": [
       "3/8*diff(phi(Y, x), Y)/Y - 3/8*phi(Y, x)/Y^2 - 1/2*diff(phi(Y, x), Y, Y) + diff(xi(Y, x), Y, x)"
      ]
     },
     "metadata": {},
     "output_type": "display_data"
    },
    {
     "data": {
      "text/html": [
       "<html>\\[\\newcommand{\\Bold}[1]{\\mathbf{#1}}\\frac{3 \\, \\frac{\\partial}{\\partial Y}\\xi\\left(Y, x\\right)}{4 \\, Y} + \\frac{\\partial^{2}}{(\\partial Y)^{2}}\\xi\\left(Y, x\\right)\\]</html>"
      ],
      "text/latex": [
       "$$\\newcommand{\\Bold}[1]{\\mathbf{#1}}\\frac{3 \\, \\frac{\\partial}{\\partial Y}\\xi\\left(Y, x\\right)}{4 \\, Y} + \\frac{\\partial^{2}}{(\\partial Y)^{2}}\\xi\\left(Y, x\\right)$$"
      ],
      "text/plain": [
       "3/4*diff(xi(Y, x), Y)/Y + diff(xi(Y, x), Y, Y)"
      ]
     },
     "metadata": {},
     "output_type": "display_data"
    },
    {
     "data": {
      "text/html": [
       "<html>\\[\\newcommand{\\Bold}[1]{\\mathbf{#1}}\\frac{\\partial^{2}}{(\\partial x)^{2}}\\phi\\left(Y, x\\right)\\]</html>"
      ],
      "text/latex": [
       "$$\\newcommand{\\Bold}[1]{\\mathbf{#1}}\\frac{\\partial^{2}}{(\\partial x)^{2}}\\phi\\left(Y, x\\right)$$"
      ],
      "text/plain": [
       "diff(phi(Y, x), x, x)"
      ]
     },
     "metadata": {},
     "output_type": "display_data"
    },
    {
     "data": {
      "text/html": [
       "<html>\\[\\newcommand{\\Bold}[1]{\\mathbf{#1}}\\frac{\\partial^{2}}{(\\partial x)^{2}}\\xi\\left(Y, x\\right)\\]</html>"
      ],
      "text/latex": [
       "$$\\newcommand{\\Bold}[1]{\\mathbf{#1}}\\frac{\\partial^{2}}{(\\partial x)^{2}}\\xi\\left(Y, x\\right)$$"
      ],
      "text/plain": [
       "diff(xi(Y, x), x, x)"
      ]
     },
     "metadata": {},
     "output_type": "display_data"
    },
    {
     "data": {
      "text/html": [
       "<html>\\[\\newcommand{\\Bold}[1]{\\mathbf{#1}}\\frac{\\partial^{2}}{\\partial Y\\partial x}\\xi\\left(Y, x\\right)\\]</html>"
      ],
      "text/latex": [
       "$$\\newcommand{\\Bold}[1]{\\mathbf{#1}}\\frac{\\partial^{2}}{\\partial Y\\partial x}\\xi\\left(Y, x\\right)$$"
      ],
      "text/plain": [
       "diff(xi(Y, x), Y, x)"
      ]
     },
     "metadata": {},
     "output_type": "display_data"
    },
    {
     "data": {
      "text/html": [
       "<html>\\[\\newcommand{\\Bold}[1]{\\mathbf{#1}}\\frac{\\partial^{2}}{(\\partial Y)^{2}}\\xi\\left(Y, x\\right)\\]</html>"
      ],
      "text/latex": [
       "$$\\newcommand{\\Bold}[1]{\\mathbf{#1}}\\frac{\\partial^{2}}{(\\partial Y)^{2}}\\xi\\left(Y, x\\right)$$"
      ],
      "text/plain": [
       "diff(xi(Y, x), Y, Y)"
      ]
     },
     "metadata": {},
     "output_type": "display_data"
    },
    {
     "name": "stdout",
     "output_type": "stream",
     "text": [
      "after autoreduce\n"
     ]
    },
    {
     "data": {
      "text/html": [
       "<html>\\[\\newcommand{\\Bold}[1]{\\mathbf{#1}}3 \\, Y^{2} \\frac{\\partial}{\\partial Y}\\phi\\left(Y, x\\right) - 6 \\, Y^{2} \\frac{\\partial}{\\partial x}\\xi\\left(Y, x\\right) - 6 \\, Y \\phi\\left(Y, x\\right) + \\frac{\\partial^{2}}{(\\partial x)^{2}}\\phi\\left(Y, x\\right)\\]</html>"
      ],
      "text/latex": [
       "$$\\newcommand{\\Bold}[1]{\\mathbf{#1}}3 \\, Y^{2} \\frac{\\partial}{\\partial Y}\\phi\\left(Y, x\\right) - 6 \\, Y^{2} \\frac{\\partial}{\\partial x}\\xi\\left(Y, x\\right) - 6 \\, Y \\phi\\left(Y, x\\right) + \\frac{\\partial^{2}}{(\\partial x)^{2}}\\phi\\left(Y, x\\right)$$"
      ],
      "text/plain": [
       "3*Y^2*diff(phi(Y, x), Y) - 6*Y^2*diff(xi(Y, x), x) - 6*Y*phi(Y, x) + diff(phi(Y, x), x, x)"
      ]
     },
     "metadata": {},
     "output_type": "display_data"
    },
    {
     "data": {
      "text/html": [
       "<html>\\[\\newcommand{\\Bold}[1]{\\mathbf{#1}}9 \\, Y^{2} \\frac{\\partial}{\\partial Y}\\xi\\left(Y, x\\right) + \\frac{3 \\, \\frac{\\partial}{\\partial x}\\phi\\left(Y, x\\right)}{2 \\, Y} - 2 \\, \\frac{\\partial^{2}}{\\partial Y\\partial x}\\phi\\left(Y, x\\right) + \\frac{\\partial^{2}}{(\\partial x)^{2}}\\xi\\left(Y, x\\right)\\]</html>"
      ],
      "text/latex": [
       "$$\\newcommand{\\Bold}[1]{\\mathbf{#1}}9 \\, Y^{2} \\frac{\\partial}{\\partial Y}\\xi\\left(Y, x\\right) + \\frac{3 \\, \\frac{\\partial}{\\partial x}\\phi\\left(Y, x\\right)}{2 \\, Y} - 2 \\, \\frac{\\partial^{2}}{\\partial Y\\partial x}\\phi\\left(Y, x\\right) + \\frac{\\partial^{2}}{(\\partial x)^{2}}\\xi\\left(Y, x\\right)$$"
      ],
      "text/plain": [
       "9*Y^2*diff(xi(Y, x), Y) + 3/2*diff(phi(Y, x), x)/Y - 2*diff(phi(Y, x), Y, x) + diff(xi(Y, x), x, x)"
      ]
     },
     "metadata": {},
     "output_type": "display_data"
    },
    {
     "data": {
      "text/html": [
       "<html>\\[\\newcommand{\\Bold}[1]{\\mathbf{#1}}\\frac{3 \\, \\frac{\\partial}{\\partial Y}\\phi\\left(Y, x\\right)}{8 \\, Y} - \\frac{3 \\, \\phi\\left(Y, x\\right)}{8 \\, Y^{2}} - \\frac{1}{2} \\, \\frac{\\partial^{2}}{(\\partial Y)^{2}}\\phi\\left(Y, x\\right) + \\frac{\\partial^{2}}{\\partial Y\\partial x}\\xi\\left(Y, x\\right)\\]</html>"
      ],
      "text/latex": [
       "$$\\newcommand{\\Bold}[1]{\\mathbf{#1}}\\frac{3 \\, \\frac{\\partial}{\\partial Y}\\phi\\left(Y, x\\right)}{8 \\, Y} - \\frac{3 \\, \\phi\\left(Y, x\\right)}{8 \\, Y^{2}} - \\frac{1}{2} \\, \\frac{\\partial^{2}}{(\\partial Y)^{2}}\\phi\\left(Y, x\\right) + \\frac{\\partial^{2}}{\\partial Y\\partial x}\\xi\\left(Y, x\\right)$$"
      ],
      "text/plain": [
       "3/8*diff(phi(Y, x), Y)/Y - 3/8*phi(Y, x)/Y^2 - 1/2*diff(phi(Y, x), Y, Y) + diff(xi(Y, x), Y, x)"
      ]
     },
     "metadata": {},
     "output_type": "display_data"
    },
    {
     "data": {
      "text/html": [
       "<html>\\[\\newcommand{\\Bold}[1]{\\mathbf{#1}}\\frac{3 \\, \\frac{\\partial}{\\partial Y}\\xi\\left(Y, x\\right)}{4 \\, Y} + \\frac{\\partial^{2}}{(\\partial Y)^{2}}\\xi\\left(Y, x\\right)\\]</html>"
      ],
      "text/latex": [
       "$$\\newcommand{\\Bold}[1]{\\mathbf{#1}}\\frac{3 \\, \\frac{\\partial}{\\partial Y}\\xi\\left(Y, x\\right)}{4 \\, Y} + \\frac{\\partial^{2}}{(\\partial Y)^{2}}\\xi\\left(Y, x\\right)$$"
      ],
      "text/plain": [
       "3/4*diff(xi(Y, x), Y)/Y + diff(xi(Y, x), Y, Y)"
      ]
     },
     "metadata": {},
     "output_type": "display_data"
    },
    {
     "data": {
      "text/html": [
       "<html>\\[\\newcommand{\\Bold}[1]{\\mathbf{#1}}\\frac{\\partial^{2}}{(\\partial x)^{2}}\\phi\\left(Y, x\\right)\\]</html>"
      ],
      "text/latex": [
       "$$\\newcommand{\\Bold}[1]{\\mathbf{#1}}\\frac{\\partial^{2}}{(\\partial x)^{2}}\\phi\\left(Y, x\\right)$$"
      ],
      "text/plain": [
       "diff(phi(Y, x), x, x)"
      ]
     },
     "metadata": {},
     "output_type": "display_data"
    },
    {
     "data": {
      "text/html": [
       "<html>\\[\\newcommand{\\Bold}[1]{\\mathbf{#1}}\\frac{\\partial^{2}}{(\\partial x)^{2}}\\xi\\left(Y, x\\right)\\]</html>"
      ],
      "text/latex": [
       "$$\\newcommand{\\Bold}[1]{\\mathbf{#1}}\\frac{\\partial^{2}}{(\\partial x)^{2}}\\xi\\left(Y, x\\right)$$"
      ],
      "text/plain": [
       "diff(xi(Y, x), x, x)"
      ]
     },
     "metadata": {},
     "output_type": "display_data"
    },
    {
     "data": {
      "text/html": [
       "<html>\\[\\newcommand{\\Bold}[1]{\\mathbf{#1}}\\frac{\\partial^{2}}{\\partial Y\\partial x}\\xi\\left(Y, x\\right)\\]</html>"
      ],
      "text/latex": [
       "$$\\newcommand{\\Bold}[1]{\\mathbf{#1}}\\frac{\\partial^{2}}{\\partial Y\\partial x}\\xi\\left(Y, x\\right)$$"
      ],
      "text/plain": [
       "diff(xi(Y, x), Y, x)"
      ]
     },
     "metadata": {},
     "output_type": "display_data"
    },
    {
     "data": {
      "text/html": [
       "<html>\\[\\newcommand{\\Bold}[1]{\\mathbf{#1}}\\frac{\\partial^{2}}{(\\partial Y)^{2}}\\xi\\left(Y, x\\right)\\]</html>"
      ],
      "text/latex": [
       "$$\\newcommand{\\Bold}[1]{\\mathbf{#1}}\\frac{\\partial^{2}}{(\\partial Y)^{2}}\\xi\\left(Y, x\\right)$$"
      ],
      "text/plain": [
       "diff(xi(Y, x), Y, Y)"
      ]
     },
     "metadata": {},
     "output_type": "display_data"
    },
    {
     "name": "stdout",
     "output_type": "stream",
     "text": [
      "after complete system\n"
     ]
    },
    {
     "data": {
      "text/html": [
       "<html>\\[\\newcommand{\\Bold}[1]{\\mathbf{#1}}3 \\, Y^{2} \\frac{\\partial}{\\partial Y}\\phi\\left(Y, x\\right) - 6 \\, Y^{2} \\frac{\\partial}{\\partial x}\\xi\\left(Y, x\\right) - 6 \\, Y \\phi\\left(Y, x\\right) + \\frac{\\partial^{2}}{(\\partial x)^{2}}\\phi\\left(Y, x\\right)\\]</html>"
      ],
      "text/latex": [
       "$$\\newcommand{\\Bold}[1]{\\mathbf{#1}}3 \\, Y^{2} \\frac{\\partial}{\\partial Y}\\phi\\left(Y, x\\right) - 6 \\, Y^{2} \\frac{\\partial}{\\partial x}\\xi\\left(Y, x\\right) - 6 \\, Y \\phi\\left(Y, x\\right) + \\frac{\\partial^{2}}{(\\partial x)^{2}}\\phi\\left(Y, x\\right)$$"
      ],
      "text/plain": [
       "3*Y^2*diff(phi(Y, x), Y) - 6*Y^2*diff(xi(Y, x), x) - 6*Y*phi(Y, x) + diff(phi(Y, x), x, x)"
      ]
     },
     "metadata": {},
     "output_type": "display_data"
    },
    {
     "data": {
      "text/html": [
       "<html>\\[\\newcommand{\\Bold}[1]{\\mathbf{#1}}9 \\, Y^{2} \\frac{\\partial}{\\partial Y}\\xi\\left(Y, x\\right) + \\frac{3 \\, \\frac{\\partial}{\\partial x}\\phi\\left(Y, x\\right)}{2 \\, Y} - 2 \\, \\frac{\\partial^{2}}{\\partial Y\\partial x}\\phi\\left(Y, x\\right) + \\frac{\\partial^{2}}{(\\partial x)^{2}}\\xi\\left(Y, x\\right)\\]</html>"
      ],
      "text/latex": [
       "$$\\newcommand{\\Bold}[1]{\\mathbf{#1}}9 \\, Y^{2} \\frac{\\partial}{\\partial Y}\\xi\\left(Y, x\\right) + \\frac{3 \\, \\frac{\\partial}{\\partial x}\\phi\\left(Y, x\\right)}{2 \\, Y} - 2 \\, \\frac{\\partial^{2}}{\\partial Y\\partial x}\\phi\\left(Y, x\\right) + \\frac{\\partial^{2}}{(\\partial x)^{2}}\\xi\\left(Y, x\\right)$$"
      ],
      "text/plain": [
       "9*Y^2*diff(xi(Y, x), Y) + 3/2*diff(phi(Y, x), x)/Y - 2*diff(phi(Y, x), Y, x) + diff(xi(Y, x), x, x)"
      ]
     },
     "metadata": {},
     "output_type": "display_data"
    },
    {
     "data": {
      "text/html": [
       "<html>\\[\\newcommand{\\Bold}[1]{\\mathbf{#1}}\\frac{3 \\, \\frac{\\partial}{\\partial Y}\\phi\\left(Y, x\\right)}{8 \\, Y} - \\frac{3 \\, \\phi\\left(Y, x\\right)}{8 \\, Y^{2}} - \\frac{1}{2} \\, \\frac{\\partial^{2}}{(\\partial Y)^{2}}\\phi\\left(Y, x\\right) + \\frac{\\partial^{2}}{\\partial Y\\partial x}\\xi\\left(Y, x\\right)\\]</html>"
      ],
      "text/latex": [
       "$$\\newcommand{\\Bold}[1]{\\mathbf{#1}}\\frac{3 \\, \\frac{\\partial}{\\partial Y}\\phi\\left(Y, x\\right)}{8 \\, Y} - \\frac{3 \\, \\phi\\left(Y, x\\right)}{8 \\, Y^{2}} - \\frac{1}{2} \\, \\frac{\\partial^{2}}{(\\partial Y)^{2}}\\phi\\left(Y, x\\right) + \\frac{\\partial^{2}}{\\partial Y\\partial x}\\xi\\left(Y, x\\right)$$"
      ],
      "text/plain": [
       "3/8*diff(phi(Y, x), Y)/Y - 3/8*phi(Y, x)/Y^2 - 1/2*diff(phi(Y, x), Y, Y) + diff(xi(Y, x), Y, x)"
      ]
     },
     "metadata": {},
     "output_type": "display_data"
    },
    {
     "data": {
      "text/html": [
       "<html>\\[\\newcommand{\\Bold}[1]{\\mathbf{#1}}\\frac{3 \\, \\frac{\\partial}{\\partial Y}\\xi\\left(Y, x\\right)}{4 \\, Y} + \\frac{\\partial^{2}}{(\\partial Y)^{2}}\\xi\\left(Y, x\\right)\\]</html>"
      ],
      "text/latex": [
       "$$\\newcommand{\\Bold}[1]{\\mathbf{#1}}\\frac{3 \\, \\frac{\\partial}{\\partial Y}\\xi\\left(Y, x\\right)}{4 \\, Y} + \\frac{\\partial^{2}}{(\\partial Y)^{2}}\\xi\\left(Y, x\\right)$$"
      ],
      "text/plain": [
       "3/4*diff(xi(Y, x), Y)/Y + diff(xi(Y, x), Y, Y)"
      ]
     },
     "metadata": {},
     "output_type": "display_data"
    },
    {
     "name": "stdout",
     "output_type": "stream",
     "text": [
      "After conditions\n"
     ]
    },
    {
     "data": {
      "text/html": [
       "<html>\\[\\newcommand{\\Bold}[1]{\\mathbf{#1}}3 \\, Y^{2} \\frac{\\partial}{\\partial Y}\\phi\\left(Y, x\\right) - 6 \\, Y^{2} \\frac{\\partial}{\\partial x}\\xi\\left(Y, x\\right) - 6 \\, Y \\phi\\left(Y, x\\right) + \\frac{\\partial^{2}}{(\\partial x)^{2}}\\phi\\left(Y, x\\right)\\]</html>"
      ],
      "text/latex": [
       "$$\\newcommand{\\Bold}[1]{\\mathbf{#1}}3 \\, Y^{2} \\frac{\\partial}{\\partial Y}\\phi\\left(Y, x\\right) - 6 \\, Y^{2} \\frac{\\partial}{\\partial x}\\xi\\left(Y, x\\right) - 6 \\, Y \\phi\\left(Y, x\\right) + \\frac{\\partial^{2}}{(\\partial x)^{2}}\\phi\\left(Y, x\\right)$$"
      ],
      "text/plain": [
       "3*Y^2*diff(phi(Y, x), Y) - 6*Y^2*diff(xi(Y, x), x) - 6*Y*phi(Y, x) + diff(phi(Y, x), x, x)"
      ]
     },
     "metadata": {},
     "output_type": "display_data"
    },
    {
     "data": {
      "text/html": [
       "<html>\\[\\newcommand{\\Bold}[1]{\\mathbf{#1}}9 \\, Y^{2} \\frac{\\partial}{\\partial Y}\\xi\\left(Y, x\\right) + \\frac{3 \\, \\frac{\\partial}{\\partial x}\\phi\\left(Y, x\\right)}{2 \\, Y} - 2 \\, \\frac{\\partial^{2}}{\\partial Y\\partial x}\\phi\\left(Y, x\\right) + \\frac{\\partial^{2}}{(\\partial x)^{2}}\\xi\\left(Y, x\\right)\\]</html>"
      ],
      "text/latex": [
       "$$\\newcommand{\\Bold}[1]{\\mathbf{#1}}9 \\, Y^{2} \\frac{\\partial}{\\partial Y}\\xi\\left(Y, x\\right) + \\frac{3 \\, \\frac{\\partial}{\\partial x}\\phi\\left(Y, x\\right)}{2 \\, Y} - 2 \\, \\frac{\\partial^{2}}{\\partial Y\\partial x}\\phi\\left(Y, x\\right) + \\frac{\\partial^{2}}{(\\partial x)^{2}}\\xi\\left(Y, x\\right)$$"
      ],
      "text/plain": [
       "9*Y^2*diff(xi(Y, x), Y) + 3/2*diff(phi(Y, x), x)/Y - 2*diff(phi(Y, x), Y, x) + diff(xi(Y, x), x, x)"
      ]
     },
     "metadata": {},
     "output_type": "display_data"
    },
    {
     "data": {
      "text/html": [
       "<html>\\[\\newcommand{\\Bold}[1]{\\mathbf{#1}}\\frac{3 \\, \\frac{\\partial}{\\partial Y}\\phi\\left(Y, x\\right)}{8 \\, Y} - \\frac{3 \\, \\phi\\left(Y, x\\right)}{8 \\, Y^{2}} - \\frac{1}{2} \\, \\frac{\\partial^{2}}{(\\partial Y)^{2}}\\phi\\left(Y, x\\right) + \\frac{\\partial^{2}}{\\partial Y\\partial x}\\xi\\left(Y, x\\right)\\]</html>"
      ],
      "text/latex": [
       "$$\\newcommand{\\Bold}[1]{\\mathbf{#1}}\\frac{3 \\, \\frac{\\partial}{\\partial Y}\\phi\\left(Y, x\\right)}{8 \\, Y} - \\frac{3 \\, \\phi\\left(Y, x\\right)}{8 \\, Y^{2}} - \\frac{1}{2} \\, \\frac{\\partial^{2}}{(\\partial Y)^{2}}\\phi\\left(Y, x\\right) + \\frac{\\partial^{2}}{\\partial Y\\partial x}\\xi\\left(Y, x\\right)$$"
      ],
      "text/plain": [
       "3/8*diff(phi(Y, x), Y)/Y - 3/8*phi(Y, x)/Y^2 - 1/2*diff(phi(Y, x), Y, Y) + diff(xi(Y, x), Y, x)"
      ]
     },
     "metadata": {},
     "output_type": "display_data"
    },
    {
     "data": {
      "text/html": [
       "<html>\\[\\newcommand{\\Bold}[1]{\\mathbf{#1}}\\frac{3 \\, \\frac{\\partial}{\\partial Y}\\xi\\left(Y, x\\right)}{4 \\, Y} + \\frac{\\partial^{2}}{(\\partial Y)^{2}}\\xi\\left(Y, x\\right)\\]</html>"
      ],
      "text/latex": [
       "$$\\newcommand{\\Bold}[1]{\\mathbf{#1}}\\frac{3 \\, \\frac{\\partial}{\\partial Y}\\xi\\left(Y, x\\right)}{4 \\, Y} + \\frac{\\partial^{2}}{(\\partial Y)^{2}}\\xi\\left(Y, x\\right)$$"
      ],
      "text/plain": [
       "3/4*diff(xi(Y, x), Y)/Y + diff(xi(Y, x), Y, Y)"
      ]
     },
     "metadata": {},
     "output_type": "display_data"
    },
    {
     "name": "stdout",
     "output_type": "stream",
     "text": [
      "This is where we start\n"
     ]
    },
    {
     "data": {
      "text/html": [
       "<html>\\[\\newcommand{\\Bold}[1]{\\mathbf{#1}}3 \\, Y^{2} \\frac{\\partial}{\\partial Y}\\phi\\left(Y, x\\right) - 6 \\, Y^{2} \\frac{\\partial}{\\partial x}\\xi\\left(Y, x\\right) - 6 \\, Y \\phi\\left(Y, x\\right) + \\frac{\\partial^{2}}{(\\partial x)^{2}}\\phi\\left(Y, x\\right)\\]</html>"
      ],
      "text/latex": [
       "$$\\newcommand{\\Bold}[1]{\\mathbf{#1}}3 \\, Y^{2} \\frac{\\partial}{\\partial Y}\\phi\\left(Y, x\\right) - 6 \\, Y^{2} \\frac{\\partial}{\\partial x}\\xi\\left(Y, x\\right) - 6 \\, Y \\phi\\left(Y, x\\right) + \\frac{\\partial^{2}}{(\\partial x)^{2}}\\phi\\left(Y, x\\right)$$"
      ],
      "text/plain": [
       "3*Y^2*diff(phi(Y, x), Y) - 6*Y^2*diff(xi(Y, x), x) - 6*Y*phi(Y, x) + diff(phi(Y, x), x, x)"
      ]
     },
     "metadata": {},
     "output_type": "display_data"
    },
    {
     "data": {
      "text/html": [
       "<html>\\[\\newcommand{\\Bold}[1]{\\mathbf{#1}}9 \\, Y^{2} \\frac{\\partial}{\\partial Y}\\xi\\left(Y, x\\right) + \\frac{3 \\, \\frac{\\partial}{\\partial x}\\phi\\left(Y, x\\right)}{2 \\, Y} - 2 \\, \\frac{\\partial^{2}}{\\partial Y\\partial x}\\phi\\left(Y, x\\right) + \\frac{\\partial^{2}}{(\\partial x)^{2}}\\xi\\left(Y, x\\right)\\]</html>"
      ],
      "text/latex": [
       "$$\\newcommand{\\Bold}[1]{\\mathbf{#1}}9 \\, Y^{2} \\frac{\\partial}{\\partial Y}\\xi\\left(Y, x\\right) + \\frac{3 \\, \\frac{\\partial}{\\partial x}\\phi\\left(Y, x\\right)}{2 \\, Y} - 2 \\, \\frac{\\partial^{2}}{\\partial Y\\partial x}\\phi\\left(Y, x\\right) + \\frac{\\partial^{2}}{(\\partial x)^{2}}\\xi\\left(Y, x\\right)$$"
      ],
      "text/plain": [
       "9*Y^2*diff(xi(Y, x), Y) + 3/2*diff(phi(Y, x), x)/Y - 2*diff(phi(Y, x), Y, x) + diff(xi(Y, x), x, x)"
      ]
     },
     "metadata": {},
     "output_type": "display_data"
    },
    {
     "data": {
      "text/html": [
       "<html>\\[\\newcommand{\\Bold}[1]{\\mathbf{#1}}\\frac{3 \\, \\frac{\\partial}{\\partial Y}\\phi\\left(Y, x\\right)}{8 \\, Y} - \\frac{3 \\, \\phi\\left(Y, x\\right)}{8 \\, Y^{2}} - \\frac{1}{2} \\, \\frac{\\partial^{2}}{(\\partial Y)^{2}}\\phi\\left(Y, x\\right) + \\frac{\\partial^{2}}{\\partial Y\\partial x}\\xi\\left(Y, x\\right)\\]</html>"
      ],
      "text/latex": [
       "$$\\newcommand{\\Bold}[1]{\\mathbf{#1}}\\frac{3 \\, \\frac{\\partial}{\\partial Y}\\phi\\left(Y, x\\right)}{8 \\, Y} - \\frac{3 \\, \\phi\\left(Y, x\\right)}{8 \\, Y^{2}} - \\frac{1}{2} \\, \\frac{\\partial^{2}}{(\\partial Y)^{2}}\\phi\\left(Y, x\\right) + \\frac{\\partial^{2}}{\\partial Y\\partial x}\\xi\\left(Y, x\\right)$$"
      ],
      "text/plain": [
       "3/8*diff(phi(Y, x), Y)/Y - 3/8*phi(Y, x)/Y^2 - 1/2*diff(phi(Y, x), Y, Y) + diff(xi(Y, x), Y, x)"
      ]
     },
     "metadata": {},
     "output_type": "display_data"
    },
    {
     "data": {
      "text/html": [
       "<html>\\[\\newcommand{\\Bold}[1]{\\mathbf{#1}}\\frac{3 \\, \\frac{\\partial}{\\partial Y}\\xi\\left(Y, x\\right)}{4 \\, Y} + \\frac{\\partial^{2}}{(\\partial Y)^{2}}\\xi\\left(Y, x\\right)\\]</html>"
      ],
      "text/latex": [
       "$$\\newcommand{\\Bold}[1]{\\mathbf{#1}}\\frac{3 \\, \\frac{\\partial}{\\partial Y}\\xi\\left(Y, x\\right)}{4 \\, Y} + \\frac{\\partial^{2}}{(\\partial Y)^{2}}\\xi\\left(Y, x\\right)$$"
      ],
      "text/plain": [
       "3/4*diff(xi(Y, x), Y)/Y + diff(xi(Y, x), Y, Y)"
      ]
     },
     "metadata": {},
     "output_type": "display_data"
    },
    {
     "data": {
      "text/html": [
       "<html>\\[\\newcommand{\\Bold}[1]{\\mathbf{#1}}-\\frac{15}{2} \\, Y \\frac{\\partial}{\\partial Y}\\xi\\left(Y, x\\right) - \\frac{3 \\, \\frac{\\partial^{2}}{\\partial Y\\partial x}\\phi\\left(Y, x\\right)}{4 \\, Y} + \\frac{3 \\, \\frac{\\partial}{\\partial x}\\phi\\left(Y, x\\right)}{4 \\, Y^{2}} + \\frac{\\partial^{3}}{(\\partial Y)^{2}\\partial x}\\phi\\left(Y, x\\right)\\]</html>"
      ],
      "text/latex": [
       "$$\\newcommand{\\Bold}[1]{\\mathbf{#1}}-\\frac{15}{2} \\, Y \\frac{\\partial}{\\partial Y}\\xi\\left(Y, x\\right) - \\frac{3 \\, \\frac{\\partial^{2}}{\\partial Y\\partial x}\\phi\\left(Y, x\\right)}{4 \\, Y} + \\frac{3 \\, \\frac{\\partial}{\\partial x}\\phi\\left(Y, x\\right)}{4 \\, Y^{2}} + \\frac{\\partial^{3}}{(\\partial Y)^{2}\\partial x}\\phi\\left(Y, x\\right)$$"
      ],
      "text/plain": [
       "-15/2*Y*diff(xi(Y, x), Y) - 3/4*diff(phi(Y, x), Y, x)/Y + 3/4*diff(phi(Y, x), x)/Y^2 + diff(phi(Y, x), Y, Y, x)"
      ]
     },
     "metadata": {},
     "output_type": "display_data"
    },
    {
     "data": {
      "text/html": [
       "<html>\\[\\newcommand{\\Bold}[1]{\\mathbf{#1}}\\frac{15 \\, \\frac{\\partial}{\\partial Y}\\phi\\left(Y, x\\right)}{16 \\, Y^{2}} - \\frac{15 \\, \\phi\\left(Y, x\\right)}{16 \\, Y^{3}} + \\frac{\\partial^{3}}{(\\partial Y)^{3}}\\phi\\left(Y, x\\right)\\]</html>"
      ],
      "text/latex": [
       "$$\\newcommand{\\Bold}[1]{\\mathbf{#1}}\\frac{15 \\, \\frac{\\partial}{\\partial Y}\\phi\\left(Y, x\\right)}{16 \\, Y^{2}} - \\frac{15 \\, \\phi\\left(Y, x\\right)}{16 \\, Y^{3}} + \\frac{\\partial^{3}}{(\\partial Y)^{3}}\\phi\\left(Y, x\\right)$$"
      ],
      "text/plain": [
       "15/16*diff(phi(Y, x), Y)/Y^2 - 15/16*phi(Y, x)/Y^3 + diff(phi(Y, x), Y, Y, Y)"
      ]
     },
     "metadata": {},
     "output_type": "display_data"
    },
    {
     "data": {
      "text/html": [
       "<html>\\[\\newcommand{\\Bold}[1]{\\mathbf{#1}}\\frac{\\partial^{2}}{(\\partial x)^{2}}\\phi\\left(Y, x\\right)\\]</html>"
      ],
      "text/latex": [
       "$$\\newcommand{\\Bold}[1]{\\mathbf{#1}}\\frac{\\partial^{2}}{(\\partial x)^{2}}\\phi\\left(Y, x\\right)$$"
      ],
      "text/plain": [
       "diff(phi(Y, x), x, x)"
      ]
     },
     "metadata": {},
     "output_type": "display_data"
    },
    {
     "data": {
      "text/html": [
       "<html>\\[\\newcommand{\\Bold}[1]{\\mathbf{#1}}\\frac{\\partial^{2}}{(\\partial x)^{2}}\\xi\\left(Y, x\\right)\\]</html>"
      ],
      "text/latex": [
       "$$\\newcommand{\\Bold}[1]{\\mathbf{#1}}\\frac{\\partial^{2}}{(\\partial x)^{2}}\\xi\\left(Y, x\\right)$$"
      ],
      "text/plain": [
       "diff(xi(Y, x), x, x)"
      ]
     },
     "metadata": {},
     "output_type": "display_data"
    },
    {
     "data": {
      "text/html": [
       "<html>\\[\\newcommand{\\Bold}[1]{\\mathbf{#1}}\\frac{\\partial^{2}}{\\partial Y\\partial x}\\xi\\left(Y, x\\right)\\]</html>"
      ],
      "text/latex": [
       "$$\\newcommand{\\Bold}[1]{\\mathbf{#1}}\\frac{\\partial^{2}}{\\partial Y\\partial x}\\xi\\left(Y, x\\right)$$"
      ],
      "text/plain": [
       "diff(xi(Y, x), Y, x)"
      ]
     },
     "metadata": {},
     "output_type": "display_data"
    },
    {
     "data": {
      "text/html": [
       "<html>\\[\\newcommand{\\Bold}[1]{\\mathbf{#1}}\\frac{\\partial^{2}}{(\\partial Y)^{2}}\\xi\\left(Y, x\\right)\\]</html>"
      ],
      "text/latex": [
       "$$\\newcommand{\\Bold}[1]{\\mathbf{#1}}\\frac{\\partial^{2}}{(\\partial Y)^{2}}\\xi\\left(Y, x\\right)$$"
      ],
      "text/plain": [
       "diff(xi(Y, x), Y, Y)"
      ]
     },
     "metadata": {},
     "output_type": "display_data"
    },
    {
     "data": {
      "text/html": [
       "<html>\\[\\newcommand{\\Bold}[1]{\\mathbf{#1}}\\frac{\\partial^{3}}{(\\partial Y)^{2}\\partial x}\\phi\\left(Y, x\\right)\\]</html>"
      ],
      "text/latex": [
       "$$\\newcommand{\\Bold}[1]{\\mathbf{#1}}\\frac{\\partial^{3}}{(\\partial Y)^{2}\\partial x}\\phi\\left(Y, x\\right)$$"
      ],
      "text/plain": [
       "diff(phi(Y, x), Y, Y, x)"
      ]
     },
     "metadata": {},
     "output_type": "display_data"
    },
    {
     "data": {
      "text/html": [
       "<html>\\[\\newcommand{\\Bold}[1]{\\mathbf{#1}}\\frac{\\partial^{3}}{(\\partial Y)^{3}}\\phi\\left(Y, x\\right)\\]</html>"
      ],
      "text/latex": [
       "$$\\newcommand{\\Bold}[1]{\\mathbf{#1}}\\frac{\\partial^{3}}{(\\partial Y)^{3}}\\phi\\left(Y, x\\right)$$"
      ],
      "text/plain": [
       "diff(phi(Y, x), Y, Y, Y)"
      ]
     },
     "metadata": {},
     "output_type": "display_data"
    },
    {
     "name": "stdout",
     "output_type": "stream",
     "text": [
      "after autoreduce\n"
     ]
    },
    {
     "data": {
      "text/html": [
       "<html>\\[\\newcommand{\\Bold}[1]{\\mathbf{#1}}3 \\, Y^{2} \\frac{\\partial}{\\partial Y}\\phi\\left(Y, x\\right) - 6 \\, Y^{2} \\frac{\\partial}{\\partial x}\\xi\\left(Y, x\\right) - 6 \\, Y \\phi\\left(Y, x\\right) + \\frac{\\partial^{2}}{(\\partial x)^{2}}\\phi\\left(Y, x\\right)\\]</html>"
      ],
      "text/latex": [
       "$$\\newcommand{\\Bold}[1]{\\mathbf{#1}}3 \\, Y^{2} \\frac{\\partial}{\\partial Y}\\phi\\left(Y, x\\right) - 6 \\, Y^{2} \\frac{\\partial}{\\partial x}\\xi\\left(Y, x\\right) - 6 \\, Y \\phi\\left(Y, x\\right) + \\frac{\\partial^{2}}{(\\partial x)^{2}}\\phi\\left(Y, x\\right)$$"
      ],
      "text/plain": [
       "3*Y^2*diff(phi(Y, x), Y) - 6*Y^2*diff(xi(Y, x), x) - 6*Y*phi(Y, x) + diff(phi(Y, x), x, x)"
      ]
     },
     "metadata": {},
     "output_type": "display_data"
    },
    {
     "data": {
      "text/html": [
       "<html>\\[\\newcommand{\\Bold}[1]{\\mathbf{#1}}9 \\, Y^{2} \\frac{\\partial}{\\partial Y}\\xi\\left(Y, x\\right) + \\frac{3 \\, \\frac{\\partial}{\\partial x}\\phi\\left(Y, x\\right)}{2 \\, Y} - 2 \\, \\frac{\\partial^{2}}{\\partial Y\\partial x}\\phi\\left(Y, x\\right) + \\frac{\\partial^{2}}{(\\partial x)^{2}}\\xi\\left(Y, x\\right)\\]</html>"
      ],
      "text/latex": [
       "$$\\newcommand{\\Bold}[1]{\\mathbf{#1}}9 \\, Y^{2} \\frac{\\partial}{\\partial Y}\\xi\\left(Y, x\\right) + \\frac{3 \\, \\frac{\\partial}{\\partial x}\\phi\\left(Y, x\\right)}{2 \\, Y} - 2 \\, \\frac{\\partial^{2}}{\\partial Y\\partial x}\\phi\\left(Y, x\\right) + \\frac{\\partial^{2}}{(\\partial x)^{2}}\\xi\\left(Y, x\\right)$$"
      ],
      "text/plain": [
       "9*Y^2*diff(xi(Y, x), Y) + 3/2*diff(phi(Y, x), x)/Y - 2*diff(phi(Y, x), Y, x) + diff(xi(Y, x), x, x)"
      ]
     },
     "metadata": {},
     "output_type": "display_data"
    },
    {
     "data": {
      "text/html": [
       "<html>\\[\\newcommand{\\Bold}[1]{\\mathbf{#1}}\\frac{3 \\, \\frac{\\partial}{\\partial Y}\\phi\\left(Y, x\\right)}{8 \\, Y} - \\frac{3 \\, \\phi\\left(Y, x\\right)}{8 \\, Y^{2}} - \\frac{1}{2} \\, \\frac{\\partial^{2}}{(\\partial Y)^{2}}\\phi\\left(Y, x\\right) + \\frac{\\partial^{2}}{\\partial Y\\partial x}\\xi\\left(Y, x\\right)\\]</html>"
      ],
      "text/latex": [
       "$$\\newcommand{\\Bold}[1]{\\mathbf{#1}}\\frac{3 \\, \\frac{\\partial}{\\partial Y}\\phi\\left(Y, x\\right)}{8 \\, Y} - \\frac{3 \\, \\phi\\left(Y, x\\right)}{8 \\, Y^{2}} - \\frac{1}{2} \\, \\frac{\\partial^{2}}{(\\partial Y)^{2}}\\phi\\left(Y, x\\right) + \\frac{\\partial^{2}}{\\partial Y\\partial x}\\xi\\left(Y, x\\right)$$"
      ],
      "text/plain": [
       "3/8*diff(phi(Y, x), Y)/Y - 3/8*phi(Y, x)/Y^2 - 1/2*diff(phi(Y, x), Y, Y) + diff(xi(Y, x), Y, x)"
      ]
     },
     "metadata": {},
     "output_type": "display_data"
    },
    {
     "data": {
      "text/html": [
       "<html>\\[\\newcommand{\\Bold}[1]{\\mathbf{#1}}\\frac{3 \\, \\frac{\\partial}{\\partial Y}\\xi\\left(Y, x\\right)}{4 \\, Y} + \\frac{\\partial^{2}}{(\\partial Y)^{2}}\\xi\\left(Y, x\\right)\\]</html>"
      ],
      "text/latex": [
       "$$\\newcommand{\\Bold}[1]{\\mathbf{#1}}\\frac{3 \\, \\frac{\\partial}{\\partial Y}\\xi\\left(Y, x\\right)}{4 \\, Y} + \\frac{\\partial^{2}}{(\\partial Y)^{2}}\\xi\\left(Y, x\\right)$$"
      ],
      "text/plain": [
       "3/4*diff(xi(Y, x), Y)/Y + diff(xi(Y, x), Y, Y)"
      ]
     },
     "metadata": {},
     "output_type": "display_data"
    },
    {
     "data": {
      "text/html": [
       "<html>\\[\\newcommand{\\Bold}[1]{\\mathbf{#1}}-\\frac{15}{2} \\, Y \\frac{\\partial}{\\partial Y}\\xi\\left(Y, x\\right) - \\frac{3 \\, \\frac{\\partial^{2}}{\\partial Y\\partial x}\\phi\\left(Y, x\\right)}{4 \\, Y} + \\frac{3 \\, \\frac{\\partial}{\\partial x}\\phi\\left(Y, x\\right)}{4 \\, Y^{2}} + \\frac{\\partial^{3}}{(\\partial Y)^{2}\\partial x}\\phi\\left(Y, x\\right)\\]</html>"
      ],
      "text/latex": [
       "$$\\newcommand{\\Bold}[1]{\\mathbf{#1}}-\\frac{15}{2} \\, Y \\frac{\\partial}{\\partial Y}\\xi\\left(Y, x\\right) - \\frac{3 \\, \\frac{\\partial^{2}}{\\partial Y\\partial x}\\phi\\left(Y, x\\right)}{4 \\, Y} + \\frac{3 \\, \\frac{\\partial}{\\partial x}\\phi\\left(Y, x\\right)}{4 \\, Y^{2}} + \\frac{\\partial^{3}}{(\\partial Y)^{2}\\partial x}\\phi\\left(Y, x\\right)$$"
      ],
      "text/plain": [
       "-15/2*Y*diff(xi(Y, x), Y) - 3/4*diff(phi(Y, x), Y, x)/Y + 3/4*diff(phi(Y, x), x)/Y^2 + diff(phi(Y, x), Y, Y, x)"
      ]
     },
     "metadata": {},
     "output_type": "display_data"
    },
    {
     "data": {
      "text/html": [
       "<html>\\[\\newcommand{\\Bold}[1]{\\mathbf{#1}}\\frac{15 \\, \\frac{\\partial}{\\partial Y}\\phi\\left(Y, x\\right)}{16 \\, Y^{2}} - \\frac{15 \\, \\phi\\left(Y, x\\right)}{16 \\, Y^{3}} + \\frac{\\partial^{3}}{(\\partial Y)^{3}}\\phi\\left(Y, x\\right)\\]</html>"
      ],
      "text/latex": [
       "$$\\newcommand{\\Bold}[1]{\\mathbf{#1}}\\frac{15 \\, \\frac{\\partial}{\\partial Y}\\phi\\left(Y, x\\right)}{16 \\, Y^{2}} - \\frac{15 \\, \\phi\\left(Y, x\\right)}{16 \\, Y^{3}} + \\frac{\\partial^{3}}{(\\partial Y)^{3}}\\phi\\left(Y, x\\right)$$"
      ],
      "text/plain": [
       "15/16*diff(phi(Y, x), Y)/Y^2 - 15/16*phi(Y, x)/Y^3 + diff(phi(Y, x), Y, Y, Y)"
      ]
     },
     "metadata": {},
     "output_type": "display_data"
    },
    {
     "data": {
      "text/html": [
       "<html>\\[\\newcommand{\\Bold}[1]{\\mathbf{#1}}\\frac{\\partial^{2}}{(\\partial x)^{2}}\\phi\\left(Y, x\\right)\\]</html>"
      ],
      "text/latex": [
       "$$\\newcommand{\\Bold}[1]{\\mathbf{#1}}\\frac{\\partial^{2}}{(\\partial x)^{2}}\\phi\\left(Y, x\\right)$$"
      ],
      "text/plain": [
       "diff(phi(Y, x), x, x)"
      ]
     },
     "metadata": {},
     "output_type": "display_data"
    },
    {
     "data": {
      "text/html": [
       "<html>\\[\\newcommand{\\Bold}[1]{\\mathbf{#1}}\\frac{\\partial^{2}}{(\\partial x)^{2}}\\xi\\left(Y, x\\right)\\]</html>"
      ],
      "text/latex": [
       "$$\\newcommand{\\Bold}[1]{\\mathbf{#1}}\\frac{\\partial^{2}}{(\\partial x)^{2}}\\xi\\left(Y, x\\right)$$"
      ],
      "text/plain": [
       "diff(xi(Y, x), x, x)"
      ]
     },
     "metadata": {},
     "output_type": "display_data"
    },
    {
     "data": {
      "text/html": [
       "<html>\\[\\newcommand{\\Bold}[1]{\\mathbf{#1}}\\frac{\\partial^{2}}{\\partial Y\\partial x}\\xi\\left(Y, x\\right)\\]</html>"
      ],
      "text/latex": [
       "$$\\newcommand{\\Bold}[1]{\\mathbf{#1}}\\frac{\\partial^{2}}{\\partial Y\\partial x}\\xi\\left(Y, x\\right)$$"
      ],
      "text/plain": [
       "diff(xi(Y, x), Y, x)"
      ]
     },
     "metadata": {},
     "output_type": "display_data"
    },
    {
     "data": {
      "text/html": [
       "<html>\\[\\newcommand{\\Bold}[1]{\\mathbf{#1}}\\frac{\\partial^{2}}{(\\partial Y)^{2}}\\xi\\left(Y, x\\right)\\]</html>"
      ],
      "text/latex": [
       "$$\\newcommand{\\Bold}[1]{\\mathbf{#1}}\\frac{\\partial^{2}}{(\\partial Y)^{2}}\\xi\\left(Y, x\\right)$$"
      ],
      "text/plain": [
       "diff(xi(Y, x), Y, Y)"
      ]
     },
     "metadata": {},
     "output_type": "display_data"
    },
    {
     "data": {
      "text/html": [
       "<html>\\[\\newcommand{\\Bold}[1]{\\mathbf{#1}}\\frac{\\partial^{3}}{(\\partial Y)^{2}\\partial x}\\phi\\left(Y, x\\right)\\]</html>"
      ],
      "text/latex": [
       "$$\\newcommand{\\Bold}[1]{\\mathbf{#1}}\\frac{\\partial^{3}}{(\\partial Y)^{2}\\partial x}\\phi\\left(Y, x\\right)$$"
      ],
      "text/plain": [
       "diff(phi(Y, x), Y, Y, x)"
      ]
     },
     "metadata": {},
     "output_type": "display_data"
    },
    {
     "data": {
      "text/html": [
       "<html>\\[\\newcommand{\\Bold}[1]{\\mathbf{#1}}\\frac{\\partial^{3}}{(\\partial Y)^{3}}\\phi\\left(Y, x\\right)\\]</html>"
      ],
      "text/latex": [
       "$$\\newcommand{\\Bold}[1]{\\mathbf{#1}}\\frac{\\partial^{3}}{(\\partial Y)^{3}}\\phi\\left(Y, x\\right)$$"
      ],
      "text/plain": [
       "diff(phi(Y, x), Y, Y, Y)"
      ]
     },
     "metadata": {},
     "output_type": "display_data"
    },
    {
     "name": "stdout",
     "output_type": "stream",
     "text": [
      "after complete system\n"
     ]
    },
    {
     "data": {
      "text/html": [
       "<html>\\[\\newcommand{\\Bold}[1]{\\mathbf{#1}}3 \\, Y^{2} \\frac{\\partial}{\\partial Y}\\phi\\left(Y, x\\right) - 6 \\, Y^{2} \\frac{\\partial}{\\partial x}\\xi\\left(Y, x\\right) - 6 \\, Y \\phi\\left(Y, x\\right) + \\frac{\\partial^{2}}{(\\partial x)^{2}}\\phi\\left(Y, x\\right)\\]</html>"
      ],
      "text/latex": [
       "$$\\newcommand{\\Bold}[1]{\\mathbf{#1}}3 \\, Y^{2} \\frac{\\partial}{\\partial Y}\\phi\\left(Y, x\\right) - 6 \\, Y^{2} \\frac{\\partial}{\\partial x}\\xi\\left(Y, x\\right) - 6 \\, Y \\phi\\left(Y, x\\right) + \\frac{\\partial^{2}}{(\\partial x)^{2}}\\phi\\left(Y, x\\right)$$"
      ],
      "text/plain": [
       "3*Y^2*diff(phi(Y, x), Y) - 6*Y^2*diff(xi(Y, x), x) - 6*Y*phi(Y, x) + diff(phi(Y, x), x, x)"
      ]
     },
     "metadata": {},
     "output_type": "display_data"
    },
    {
     "data": {
      "text/html": [
       "<html>\\[\\newcommand{\\Bold}[1]{\\mathbf{#1}}9 \\, Y^{2} \\frac{\\partial}{\\partial Y}\\xi\\left(Y, x\\right) + \\frac{3 \\, \\frac{\\partial}{\\partial x}\\phi\\left(Y, x\\right)}{2 \\, Y} - 2 \\, \\frac{\\partial^{2}}{\\partial Y\\partial x}\\phi\\left(Y, x\\right) + \\frac{\\partial^{2}}{(\\partial x)^{2}}\\xi\\left(Y, x\\right)\\]</html>"
      ],
      "text/latex": [
       "$$\\newcommand{\\Bold}[1]{\\mathbf{#1}}9 \\, Y^{2} \\frac{\\partial}{\\partial Y}\\xi\\left(Y, x\\right) + \\frac{3 \\, \\frac{\\partial}{\\partial x}\\phi\\left(Y, x\\right)}{2 \\, Y} - 2 \\, \\frac{\\partial^{2}}{\\partial Y\\partial x}\\phi\\left(Y, x\\right) + \\frac{\\partial^{2}}{(\\partial x)^{2}}\\xi\\left(Y, x\\right)$$"
      ],
      "text/plain": [
       "9*Y^2*diff(xi(Y, x), Y) + 3/2*diff(phi(Y, x), x)/Y - 2*diff(phi(Y, x), Y, x) + diff(xi(Y, x), x, x)"
      ]
     },
     "metadata": {},
     "output_type": "display_data"
    },
    {
     "data": {
      "text/html": [
       "<html>\\[\\newcommand{\\Bold}[1]{\\mathbf{#1}}\\frac{3 \\, \\frac{\\partial}{\\partial Y}\\phi\\left(Y, x\\right)}{8 \\, Y} - \\frac{3 \\, \\phi\\left(Y, x\\right)}{8 \\, Y^{2}} - \\frac{1}{2} \\, \\frac{\\partial^{2}}{(\\partial Y)^{2}}\\phi\\left(Y, x\\right) + \\frac{\\partial^{2}}{\\partial Y\\partial x}\\xi\\left(Y, x\\right)\\]</html>"
      ],
      "text/latex": [
       "$$\\newcommand{\\Bold}[1]{\\mathbf{#1}}\\frac{3 \\, \\frac{\\partial}{\\partial Y}\\phi\\left(Y, x\\right)}{8 \\, Y} - \\frac{3 \\, \\phi\\left(Y, x\\right)}{8 \\, Y^{2}} - \\frac{1}{2} \\, \\frac{\\partial^{2}}{(\\partial Y)^{2}}\\phi\\left(Y, x\\right) + \\frac{\\partial^{2}}{\\partial Y\\partial x}\\xi\\left(Y, x\\right)$$"
      ],
      "text/plain": [
       "3/8*diff(phi(Y, x), Y)/Y - 3/8*phi(Y, x)/Y^2 - 1/2*diff(phi(Y, x), Y, Y) + diff(xi(Y, x), Y, x)"
      ]
     },
     "metadata": {},
     "output_type": "display_data"
    },
    {
     "data": {
      "text/html": [
       "<html>\\[\\newcommand{\\Bold}[1]{\\mathbf{#1}}\\frac{3 \\, \\frac{\\partial}{\\partial Y}\\xi\\left(Y, x\\right)}{4 \\, Y} + \\frac{\\partial^{2}}{(\\partial Y)^{2}}\\xi\\left(Y, x\\right)\\]</html>"
      ],
      "text/latex": [
       "$$\\newcommand{\\Bold}[1]{\\mathbf{#1}}\\frac{3 \\, \\frac{\\partial}{\\partial Y}\\xi\\left(Y, x\\right)}{4 \\, Y} + \\frac{\\partial^{2}}{(\\partial Y)^{2}}\\xi\\left(Y, x\\right)$$"
      ],
      "text/plain": [
       "3/4*diff(xi(Y, x), Y)/Y + diff(xi(Y, x), Y, Y)"
      ]
     },
     "metadata": {},
     "output_type": "display_data"
    },
    {
     "data": {
      "text/html": [
       "<html>\\[\\newcommand{\\Bold}[1]{\\mathbf{#1}}3 \\, Y^{2} \\frac{\\partial^{2}}{(\\partial Y)^{2}}\\phi\\left(Y, x\\right) - 6 \\, Y^{2} \\frac{\\partial^{2}}{\\partial Y\\partial x}\\xi\\left(Y, x\\right) - 12 \\, Y \\frac{\\partial}{\\partial x}\\xi\\left(Y, x\\right) - 6 \\, \\phi\\left(Y, x\\right) + \\frac{\\partial^{3}}{\\partial Y(\\partial x)^{2}}\\phi\\left(Y, x\\right)\\]</html>"
      ],
      "text/latex": [
       "$$\\newcommand{\\Bold}[1]{\\mathbf{#1}}3 \\, Y^{2} \\frac{\\partial^{2}}{(\\partial Y)^{2}}\\phi\\left(Y, x\\right) - 6 \\, Y^{2} \\frac{\\partial^{2}}{\\partial Y\\partial x}\\xi\\left(Y, x\\right) - 12 \\, Y \\frac{\\partial}{\\partial x}\\xi\\left(Y, x\\right) - 6 \\, \\phi\\left(Y, x\\right) + \\frac{\\partial^{3}}{\\partial Y(\\partial x)^{2}}\\phi\\left(Y, x\\right)$$"
      ],
      "text/plain": [
       "3*Y^2*diff(phi(Y, x), Y, Y) - 6*Y^2*diff(xi(Y, x), Y, x) - 12*Y*diff(xi(Y, x), x) - 6*phi(Y, x) + diff(phi(Y, x), Y, x, x)"
      ]
     },
     "metadata": {},
     "output_type": "display_data"
    },
    {
     "data": {
      "text/html": [
       "<html>\\[\\newcommand{\\Bold}[1]{\\mathbf{#1}}-\\frac{15}{2} \\, Y \\frac{\\partial}{\\partial Y}\\xi\\left(Y, x\\right) - \\frac{3 \\, \\frac{\\partial^{2}}{\\partial Y\\partial x}\\phi\\left(Y, x\\right)}{4 \\, Y} + \\frac{3 \\, \\frac{\\partial}{\\partial x}\\phi\\left(Y, x\\right)}{4 \\, Y^{2}} + \\frac{\\partial^{3}}{(\\partial Y)^{2}\\partial x}\\phi\\left(Y, x\\right)\\]</html>"
      ],
      "text/latex": [
       "$$\\newcommand{\\Bold}[1]{\\mathbf{#1}}-\\frac{15}{2} \\, Y \\frac{\\partial}{\\partial Y}\\xi\\left(Y, x\\right) - \\frac{3 \\, \\frac{\\partial^{2}}{\\partial Y\\partial x}\\phi\\left(Y, x\\right)}{4 \\, Y} + \\frac{3 \\, \\frac{\\partial}{\\partial x}\\phi\\left(Y, x\\right)}{4 \\, Y^{2}} + \\frac{\\partial^{3}}{(\\partial Y)^{2}\\partial x}\\phi\\left(Y, x\\right)$$"
      ],
      "text/plain": [
       "-15/2*Y*diff(xi(Y, x), Y) - 3/4*diff(phi(Y, x), Y, x)/Y + 3/4*diff(phi(Y, x), x)/Y^2 + diff(phi(Y, x), Y, Y, x)"
      ]
     },
     "metadata": {},
     "output_type": "display_data"
    },
    {
     "data": {
      "text/html": [
       "<html>\\[\\newcommand{\\Bold}[1]{\\mathbf{#1}}\\frac{15 \\, \\frac{\\partial}{\\partial Y}\\phi\\left(Y, x\\right)}{16 \\, Y^{2}} - \\frac{15 \\, \\phi\\left(Y, x\\right)}{16 \\, Y^{3}} + \\frac{\\partial^{3}}{(\\partial Y)^{3}}\\phi\\left(Y, x\\right)\\]</html>"
      ],
      "text/latex": [
       "$$\\newcommand{\\Bold}[1]{\\mathbf{#1}}\\frac{15 \\, \\frac{\\partial}{\\partial Y}\\phi\\left(Y, x\\right)}{16 \\, Y^{2}} - \\frac{15 \\, \\phi\\left(Y, x\\right)}{16 \\, Y^{3}} + \\frac{\\partial^{3}}{(\\partial Y)^{3}}\\phi\\left(Y, x\\right)$$"
      ],
      "text/plain": [
       "15/16*diff(phi(Y, x), Y)/Y^2 - 15/16*phi(Y, x)/Y^3 + diff(phi(Y, x), Y, Y, Y)"
      ]
     },
     "metadata": {},
     "output_type": "display_data"
    },
    {
     "name": "stdout",
     "output_type": "stream",
     "text": [
      "After conditions\n"
     ]
    },
    {
     "data": {
      "text/html": [
       "<html>\\[\\newcommand{\\Bold}[1]{\\mathbf{#1}}3 \\, Y^{2} \\frac{\\partial}{\\partial Y}\\phi\\left(Y, x\\right) - 6 \\, Y^{2} \\frac{\\partial}{\\partial x}\\xi\\left(Y, x\\right) - 6 \\, Y \\phi\\left(Y, x\\right) + \\frac{\\partial^{2}}{(\\partial x)^{2}}\\phi\\left(Y, x\\right)\\]</html>"
      ],
      "text/latex": [
       "$$\\newcommand{\\Bold}[1]{\\mathbf{#1}}3 \\, Y^{2} \\frac{\\partial}{\\partial Y}\\phi\\left(Y, x\\right) - 6 \\, Y^{2} \\frac{\\partial}{\\partial x}\\xi\\left(Y, x\\right) - 6 \\, Y \\phi\\left(Y, x\\right) + \\frac{\\partial^{2}}{(\\partial x)^{2}}\\phi\\left(Y, x\\right)$$"
      ],
      "text/plain": [
       "3*Y^2*diff(phi(Y, x), Y) - 6*Y^2*diff(xi(Y, x), x) - 6*Y*phi(Y, x) + diff(phi(Y, x), x, x)"
      ]
     },
     "metadata": {},
     "output_type": "display_data"
    },
    {
     "data": {
      "text/html": [
       "<html>\\[\\newcommand{\\Bold}[1]{\\mathbf{#1}}9 \\, Y^{2} \\frac{\\partial}{\\partial Y}\\xi\\left(Y, x\\right) + \\frac{3 \\, \\frac{\\partial}{\\partial x}\\phi\\left(Y, x\\right)}{2 \\, Y} - 2 \\, \\frac{\\partial^{2}}{\\partial Y\\partial x}\\phi\\left(Y, x\\right) + \\frac{\\partial^{2}}{(\\partial x)^{2}}\\xi\\left(Y, x\\right)\\]</html>"
      ],
      "text/latex": [
       "$$\\newcommand{\\Bold}[1]{\\mathbf{#1}}9 \\, Y^{2} \\frac{\\partial}{\\partial Y}\\xi\\left(Y, x\\right) + \\frac{3 \\, \\frac{\\partial}{\\partial x}\\phi\\left(Y, x\\right)}{2 \\, Y} - 2 \\, \\frac{\\partial^{2}}{\\partial Y\\partial x}\\phi\\left(Y, x\\right) + \\frac{\\partial^{2}}{(\\partial x)^{2}}\\xi\\left(Y, x\\right)$$"
      ],
      "text/plain": [
       "9*Y^2*diff(xi(Y, x), Y) + 3/2*diff(phi(Y, x), x)/Y - 2*diff(phi(Y, x), Y, x) + diff(xi(Y, x), x, x)"
      ]
     },
     "metadata": {},
     "output_type": "display_data"
    },
    {
     "data": {
      "text/html": [
       "<html>\\[\\newcommand{\\Bold}[1]{\\mathbf{#1}}\\frac{3 \\, \\frac{\\partial}{\\partial Y}\\phi\\left(Y, x\\right)}{8 \\, Y} - \\frac{3 \\, \\phi\\left(Y, x\\right)}{8 \\, Y^{2}} - \\frac{1}{2} \\, \\frac{\\partial^{2}}{(\\partial Y)^{2}}\\phi\\left(Y, x\\right) + \\frac{\\partial^{2}}{\\partial Y\\partial x}\\xi\\left(Y, x\\right)\\]</html>"
      ],
      "text/latex": [
       "$$\\newcommand{\\Bold}[1]{\\mathbf{#1}}\\frac{3 \\, \\frac{\\partial}{\\partial Y}\\phi\\left(Y, x\\right)}{8 \\, Y} - \\frac{3 \\, \\phi\\left(Y, x\\right)}{8 \\, Y^{2}} - \\frac{1}{2} \\, \\frac{\\partial^{2}}{(\\partial Y)^{2}}\\phi\\left(Y, x\\right) + \\frac{\\partial^{2}}{\\partial Y\\partial x}\\xi\\left(Y, x\\right)$$"
      ],
      "text/plain": [
       "3/8*diff(phi(Y, x), Y)/Y - 3/8*phi(Y, x)/Y^2 - 1/2*diff(phi(Y, x), Y, Y) + diff(xi(Y, x), Y, x)"
      ]
     },
     "metadata": {},
     "output_type": "display_data"
    },
    {
     "data": {
      "text/html": [
       "<html>\\[\\newcommand{\\Bold}[1]{\\mathbf{#1}}\\frac{3 \\, \\frac{\\partial}{\\partial Y}\\xi\\left(Y, x\\right)}{4 \\, Y} + \\frac{\\partial^{2}}{(\\partial Y)^{2}}\\xi\\left(Y, x\\right)\\]</html>"
      ],
      "text/latex": [
       "$$\\newcommand{\\Bold}[1]{\\mathbf{#1}}\\frac{3 \\, \\frac{\\partial}{\\partial Y}\\xi\\left(Y, x\\right)}{4 \\, Y} + \\frac{\\partial^{2}}{(\\partial Y)^{2}}\\xi\\left(Y, x\\right)$$"
      ],
      "text/plain": [
       "3/4*diff(xi(Y, x), Y)/Y + diff(xi(Y, x), Y, Y)"
      ]
     },
     "metadata": {},
     "output_type": "display_data"
    },
    {
     "data": {
      "text/html": [
       "<html>\\[\\newcommand{\\Bold}[1]{\\mathbf{#1}}3 \\, Y^{2} \\frac{\\partial^{2}}{(\\partial Y)^{2}}\\phi\\left(Y, x\\right) - 6 \\, Y^{2} \\frac{\\partial^{2}}{\\partial Y\\partial x}\\xi\\left(Y, x\\right) - 12 \\, Y \\frac{\\partial}{\\partial x}\\xi\\left(Y, x\\right) - 6 \\, \\phi\\left(Y, x\\right) + \\frac{\\partial^{3}}{\\partial Y(\\partial x)^{2}}\\phi\\left(Y, x\\right)\\]</html>"
      ],
      "text/latex": [
       "$$\\newcommand{\\Bold}[1]{\\mathbf{#1}}3 \\, Y^{2} \\frac{\\partial^{2}}{(\\partial Y)^{2}}\\phi\\left(Y, x\\right) - 6 \\, Y^{2} \\frac{\\partial^{2}}{\\partial Y\\partial x}\\xi\\left(Y, x\\right) - 12 \\, Y \\frac{\\partial}{\\partial x}\\xi\\left(Y, x\\right) - 6 \\, \\phi\\left(Y, x\\right) + \\frac{\\partial^{3}}{\\partial Y(\\partial x)^{2}}\\phi\\left(Y, x\\right)$$"
      ],
      "text/plain": [
       "3*Y^2*diff(phi(Y, x), Y, Y) - 6*Y^2*diff(xi(Y, x), Y, x) - 12*Y*diff(xi(Y, x), x) - 6*phi(Y, x) + diff(phi(Y, x), Y, x, x)"
      ]
     },
     "metadata": {},
     "output_type": "display_data"
    },
    {
     "data": {
      "text/html": [
       "<html>\\[\\newcommand{\\Bold}[1]{\\mathbf{#1}}-\\frac{15}{2} \\, Y \\frac{\\partial}{\\partial Y}\\xi\\left(Y, x\\right) - \\frac{3 \\, \\frac{\\partial^{2}}{\\partial Y\\partial x}\\phi\\left(Y, x\\right)}{4 \\, Y} + \\frac{3 \\, \\frac{\\partial}{\\partial x}\\phi\\left(Y, x\\right)}{4 \\, Y^{2}} + \\frac{\\partial^{3}}{(\\partial Y)^{2}\\partial x}\\phi\\left(Y, x\\right)\\]</html>"
      ],
      "text/latex": [
       "$$\\newcommand{\\Bold}[1]{\\mathbf{#1}}-\\frac{15}{2} \\, Y \\frac{\\partial}{\\partial Y}\\xi\\left(Y, x\\right) - \\frac{3 \\, \\frac{\\partial^{2}}{\\partial Y\\partial x}\\phi\\left(Y, x\\right)}{4 \\, Y} + \\frac{3 \\, \\frac{\\partial}{\\partial x}\\phi\\left(Y, x\\right)}{4 \\, Y^{2}} + \\frac{\\partial^{3}}{(\\partial Y)^{2}\\partial x}\\phi\\left(Y, x\\right)$$"
      ],
      "text/plain": [
       "-15/2*Y*diff(xi(Y, x), Y) - 3/4*diff(phi(Y, x), Y, x)/Y + 3/4*diff(phi(Y, x), x)/Y^2 + diff(phi(Y, x), Y, Y, x)"
      ]
     },
     "metadata": {},
     "output_type": "display_data"
    },
    {
     "data": {
      "text/html": [
       "<html>\\[\\newcommand{\\Bold}[1]{\\mathbf{#1}}\\frac{15 \\, \\frac{\\partial}{\\partial Y}\\phi\\left(Y, x\\right)}{16 \\, Y^{2}} - \\frac{15 \\, \\phi\\left(Y, x\\right)}{16 \\, Y^{3}} + \\frac{\\partial^{3}}{(\\partial Y)^{3}}\\phi\\left(Y, x\\right)\\]</html>"
      ],
      "text/latex": [
       "$$\\newcommand{\\Bold}[1]{\\mathbf{#1}}\\frac{15 \\, \\frac{\\partial}{\\partial Y}\\phi\\left(Y, x\\right)}{16 \\, Y^{2}} - \\frac{15 \\, \\phi\\left(Y, x\\right)}{16 \\, Y^{3}} + \\frac{\\partial^{3}}{(\\partial Y)^{3}}\\phi\\left(Y, x\\right)$$"
      ],
      "text/plain": [
       "15/16*diff(phi(Y, x), Y)/Y^2 - 15/16*phi(Y, x)/Y^3 + diff(phi(Y, x), Y, Y, Y)"
      ]
     },
     "metadata": {},
     "output_type": "display_data"
    },
    {
     "name": "stdout",
     "output_type": "stream",
     "text": [
      "This is where we start\n"
     ]
    },
    {
     "data": {
      "text/html": [
       "<html>\\[\\newcommand{\\Bold}[1]{\\mathbf{#1}}\\frac{1}{2} \\, \\frac{\\partial}{\\partial Y}\\phi\\left(Y, x\\right) + \\frac{\\partial}{\\partial x}\\xi\\left(Y, x\\right)\\]</html>"
      ],
      "text/latex": [
       "$$\\newcommand{\\Bold}[1]{\\mathbf{#1}}\\frac{1}{2} \\, \\frac{\\partial}{\\partial Y}\\phi\\left(Y, x\\right) + \\frac{\\partial}{\\partial x}\\xi\\left(Y, x\\right)$$"
      ],
      "text/plain": [
       "1/2*diff(phi(Y, x), Y) + diff(xi(Y, x), x)"
      ]
     },
     "metadata": {},
     "output_type": "display_data"
    },
    {
     "data": {
      "text/html": [
       "<html>\\[\\newcommand{\\Bold}[1]{\\mathbf{#1}}\\frac{\\partial}{\\partial Y}\\xi\\left(Y, x\\right)\\]</html>"
      ],
      "text/latex": [
       "$$\\newcommand{\\Bold}[1]{\\mathbf{#1}}\\frac{\\partial}{\\partial Y}\\xi\\left(Y, x\\right)$$"
      ],
      "text/plain": [
       "diff(xi(Y, x), Y)"
      ]
     },
     "metadata": {},
     "output_type": "display_data"
    },
    {
     "data": {
      "text/html": [
       "<html>\\[\\newcommand{\\Bold}[1]{\\mathbf{#1}}3 \\, Y^{2} \\frac{\\partial}{\\partial Y}\\phi\\left(Y, x\\right) - 6 \\, Y^{2} \\frac{\\partial}{\\partial x}\\xi\\left(Y, x\\right) - 6 \\, Y \\phi\\left(Y, x\\right) + \\frac{\\partial^{2}}{(\\partial x)^{2}}\\phi\\left(Y, x\\right)\\]</html>"
      ],
      "text/latex": [
       "$$\\newcommand{\\Bold}[1]{\\mathbf{#1}}3 \\, Y^{2} \\frac{\\partial}{\\partial Y}\\phi\\left(Y, x\\right) - 6 \\, Y^{2} \\frac{\\partial}{\\partial x}\\xi\\left(Y, x\\right) - 6 \\, Y \\phi\\left(Y, x\\right) + \\frac{\\partial^{2}}{(\\partial x)^{2}}\\phi\\left(Y, x\\right)$$"
      ],
      "text/plain": [
       "3*Y^2*diff(phi(Y, x), Y) - 6*Y^2*diff(xi(Y, x), x) - 6*Y*phi(Y, x) + diff(phi(Y, x), x, x)"
      ]
     },
     "metadata": {},
     "output_type": "display_data"
    },
    {
     "data": {
      "text/html": [
       "<html>\\[\\newcommand{\\Bold}[1]{\\mathbf{#1}}9 \\, Y^{2} \\frac{\\partial}{\\partial Y}\\xi\\left(Y, x\\right) + \\frac{3 \\, \\frac{\\partial}{\\partial x}\\phi\\left(Y, x\\right)}{2 \\, Y} - 2 \\, \\frac{\\partial^{2}}{\\partial Y\\partial x}\\phi\\left(Y, x\\right) + \\frac{\\partial^{2}}{(\\partial x)^{2}}\\xi\\left(Y, x\\right)\\]</html>"
      ],
      "text/latex": [
       "$$\\newcommand{\\Bold}[1]{\\mathbf{#1}}9 \\, Y^{2} \\frac{\\partial}{\\partial Y}\\xi\\left(Y, x\\right) + \\frac{3 \\, \\frac{\\partial}{\\partial x}\\phi\\left(Y, x\\right)}{2 \\, Y} - 2 \\, \\frac{\\partial^{2}}{\\partial Y\\partial x}\\phi\\left(Y, x\\right) + \\frac{\\partial^{2}}{(\\partial x)^{2}}\\xi\\left(Y, x\\right)$$"
      ],
      "text/plain": [
       "9*Y^2*diff(xi(Y, x), Y) + 3/2*diff(phi(Y, x), x)/Y - 2*diff(phi(Y, x), Y, x) + diff(xi(Y, x), x, x)"
      ]
     },
     "metadata": {},
     "output_type": "display_data"
    },
    {
     "data": {
      "text/html": [
       "<html>\\[\\newcommand{\\Bold}[1]{\\mathbf{#1}}\\frac{3 \\, \\frac{\\partial}{\\partial Y}\\phi\\left(Y, x\\right)}{8 \\, Y} - \\frac{3 \\, \\phi\\left(Y, x\\right)}{8 \\, Y^{2}} - \\frac{1}{2} \\, \\frac{\\partial^{2}}{(\\partial Y)^{2}}\\phi\\left(Y, x\\right) + \\frac{\\partial^{2}}{\\partial Y\\partial x}\\xi\\left(Y, x\\right)\\]</html>"
      ],
      "text/latex": [
       "$$\\newcommand{\\Bold}[1]{\\mathbf{#1}}\\frac{3 \\, \\frac{\\partial}{\\partial Y}\\phi\\left(Y, x\\right)}{8 \\, Y} - \\frac{3 \\, \\phi\\left(Y, x\\right)}{8 \\, Y^{2}} - \\frac{1}{2} \\, \\frac{\\partial^{2}}{(\\partial Y)^{2}}\\phi\\left(Y, x\\right) + \\frac{\\partial^{2}}{\\partial Y\\partial x}\\xi\\left(Y, x\\right)$$"
      ],
      "text/plain": [
       "3/8*diff(phi(Y, x), Y)/Y - 3/8*phi(Y, x)/Y^2 - 1/2*diff(phi(Y, x), Y, Y) + diff(xi(Y, x), Y, x)"
      ]
     },
     "metadata": {},
     "output_type": "display_data"
    },
    {
     "data": {
      "text/html": [
       "<html>\\[\\newcommand{\\Bold}[1]{\\mathbf{#1}}\\frac{3 \\, \\frac{\\partial}{\\partial Y}\\xi\\left(Y, x\\right)}{4 \\, Y} + \\frac{\\partial^{2}}{(\\partial Y)^{2}}\\xi\\left(Y, x\\right)\\]</html>"
      ],
      "text/latex": [
       "$$\\newcommand{\\Bold}[1]{\\mathbf{#1}}\\frac{3 \\, \\frac{\\partial}{\\partial Y}\\xi\\left(Y, x\\right)}{4 \\, Y} + \\frac{\\partial^{2}}{(\\partial Y)^{2}}\\xi\\left(Y, x\\right)$$"
      ],
      "text/plain": [
       "3/4*diff(xi(Y, x), Y)/Y + diff(xi(Y, x), Y, Y)"
      ]
     },
     "metadata": {},
     "output_type": "display_data"
    },
    {
     "data": {
      "text/html": [
       "<html>\\[\\newcommand{\\Bold}[1]{\\mathbf{#1}}3 \\, Y^{2} \\frac{\\partial^{2}}{(\\partial Y)^{2}}\\phi\\left(Y, x\\right) - 6 \\, Y^{2} \\frac{\\partial^{2}}{\\partial Y\\partial x}\\xi\\left(Y, x\\right) - 12 \\, Y \\frac{\\partial}{\\partial x}\\xi\\left(Y, x\\right) - 6 \\, \\phi\\left(Y, x\\right) + \\frac{\\partial^{3}}{\\partial Y(\\partial x)^{2}}\\phi\\left(Y, x\\right)\\]</html>"
      ],
      "text/latex": [
       "$$\\newcommand{\\Bold}[1]{\\mathbf{#1}}3 \\, Y^{2} \\frac{\\partial^{2}}{(\\partial Y)^{2}}\\phi\\left(Y, x\\right) - 6 \\, Y^{2} \\frac{\\partial^{2}}{\\partial Y\\partial x}\\xi\\left(Y, x\\right) - 12 \\, Y \\frac{\\partial}{\\partial x}\\xi\\left(Y, x\\right) - 6 \\, \\phi\\left(Y, x\\right) + \\frac{\\partial^{3}}{\\partial Y(\\partial x)^{2}}\\phi\\left(Y, x\\right)$$"
      ],
      "text/plain": [
       "3*Y^2*diff(phi(Y, x), Y, Y) - 6*Y^2*diff(xi(Y, x), Y, x) - 12*Y*diff(xi(Y, x), x) - 6*phi(Y, x) + diff(phi(Y, x), Y, x, x)"
      ]
     },
     "metadata": {},
     "output_type": "display_data"
    },
    {
     "data": {
      "text/html": [
       "<html>\\[\\newcommand{\\Bold}[1]{\\mathbf{#1}}-\\frac{15}{2} \\, Y \\frac{\\partial}{\\partial Y}\\xi\\left(Y, x\\right) - \\frac{3 \\, \\frac{\\partial^{2}}{\\partial Y\\partial x}\\phi\\left(Y, x\\right)}{4 \\, Y} + \\frac{3 \\, \\frac{\\partial}{\\partial x}\\phi\\left(Y, x\\right)}{4 \\, Y^{2}} + \\frac{\\partial^{3}}{(\\partial Y)^{2}\\partial x}\\phi\\left(Y, x\\right)\\]</html>"
      ],
      "text/latex": [
       "$$\\newcommand{\\Bold}[1]{\\mathbf{#1}}-\\frac{15}{2} \\, Y \\frac{\\partial}{\\partial Y}\\xi\\left(Y, x\\right) - \\frac{3 \\, \\frac{\\partial^{2}}{\\partial Y\\partial x}\\phi\\left(Y, x\\right)}{4 \\, Y} + \\frac{3 \\, \\frac{\\partial}{\\partial x}\\phi\\left(Y, x\\right)}{4 \\, Y^{2}} + \\frac{\\partial^{3}}{(\\partial Y)^{2}\\partial x}\\phi\\left(Y, x\\right)$$"
      ],
      "text/plain": [
       "-15/2*Y*diff(xi(Y, x), Y) - 3/4*diff(phi(Y, x), Y, x)/Y + 3/4*diff(phi(Y, x), x)/Y^2 + diff(phi(Y, x), Y, Y, x)"
      ]
     },
     "metadata": {},
     "output_type": "display_data"
    },
    {
     "data": {
      "text/html": [
       "<html>\\[\\newcommand{\\Bold}[1]{\\mathbf{#1}}\\frac{15 \\, \\frac{\\partial}{\\partial Y}\\phi\\left(Y, x\\right)}{16 \\, Y^{2}} - \\frac{15 \\, \\phi\\left(Y, x\\right)}{16 \\, Y^{3}} + \\frac{\\partial^{3}}{(\\partial Y)^{3}}\\phi\\left(Y, x\\right)\\]</html>"
      ],
      "text/latex": [
       "$$\\newcommand{\\Bold}[1]{\\mathbf{#1}}\\frac{15 \\, \\frac{\\partial}{\\partial Y}\\phi\\left(Y, x\\right)}{16 \\, Y^{2}} - \\frac{15 \\, \\phi\\left(Y, x\\right)}{16 \\, Y^{3}} + \\frac{\\partial^{3}}{(\\partial Y)^{3}}\\phi\\left(Y, x\\right)$$"
      ],
      "text/plain": [
       "15/16*diff(phi(Y, x), Y)/Y^2 - 15/16*phi(Y, x)/Y^3 + diff(phi(Y, x), Y, Y, Y)"
      ]
     },
     "metadata": {},
     "output_type": "display_data"
    },
    {
     "data": {
      "text/html": [
       "<html>\\[\\newcommand{\\Bold}[1]{\\mathbf{#1}}\\frac{\\partial}{\\partial x}\\xi\\left(Y, x\\right)\\]</html>"
      ],
      "text/latex": [
       "$$\\newcommand{\\Bold}[1]{\\mathbf{#1}}\\frac{\\partial}{\\partial x}\\xi\\left(Y, x\\right)$$"
      ],
      "text/plain": [
       "diff(xi(Y, x), x)"
      ]
     },
     "metadata": {},
     "output_type": "display_data"
    },
    {
     "data": {
      "text/html": [
       "<html>\\[\\newcommand{\\Bold}[1]{\\mathbf{#1}}\\frac{\\partial}{\\partial Y}\\xi\\left(Y, x\\right)\\]</html>"
      ],
      "text/latex": [
       "$$\\newcommand{\\Bold}[1]{\\mathbf{#1}}\\frac{\\partial}{\\partial Y}\\xi\\left(Y, x\\right)$$"
      ],
      "text/plain": [
       "diff(xi(Y, x), Y)"
      ]
     },
     "metadata": {},
     "output_type": "display_data"
    },
    {
     "data": {
      "text/html": [
       "<html>\\[\\newcommand{\\Bold}[1]{\\mathbf{#1}}\\frac{\\partial^{2}}{(\\partial x)^{2}}\\phi\\left(Y, x\\right)\\]</html>"
      ],
      "text/latex": [
       "$$\\newcommand{\\Bold}[1]{\\mathbf{#1}}\\frac{\\partial^{2}}{(\\partial x)^{2}}\\phi\\left(Y, x\\right)$$"
      ],
      "text/plain": [
       "diff(phi(Y, x), x, x)"
      ]
     },
     "metadata": {},
     "output_type": "display_data"
    },
    {
     "data": {
      "text/html": [
       "<html>\\[\\newcommand{\\Bold}[1]{\\mathbf{#1}}\\frac{\\partial^{2}}{(\\partial x)^{2}}\\xi\\left(Y, x\\right)\\]</html>"
      ],
      "text/latex": [
       "$$\\newcommand{\\Bold}[1]{\\mathbf{#1}}\\frac{\\partial^{2}}{(\\partial x)^{2}}\\xi\\left(Y, x\\right)$$"
      ],
      "text/plain": [
       "diff(xi(Y, x), x, x)"
      ]
     },
     "metadata": {},
     "output_type": "display_data"
    },
    {
     "data": {
      "text/html": [
       "<html>\\[\\newcommand{\\Bold}[1]{\\mathbf{#1}}\\frac{\\partial^{2}}{\\partial Y\\partial x}\\xi\\left(Y, x\\right)\\]</html>"
      ],
      "text/latex": [
       "$$\\newcommand{\\Bold}[1]{\\mathbf{#1}}\\frac{\\partial^{2}}{\\partial Y\\partial x}\\xi\\left(Y, x\\right)$$"
      ],
      "text/plain": [
       "diff(xi(Y, x), Y, x)"
      ]
     },
     "metadata": {},
     "output_type": "display_data"
    },
    {
     "data": {
      "text/html": [
       "<html>\\[\\newcommand{\\Bold}[1]{\\mathbf{#1}}\\frac{\\partial^{2}}{(\\partial Y)^{2}}\\xi\\left(Y, x\\right)\\]</html>"
      ],
      "text/latex": [
       "$$\\newcommand{\\Bold}[1]{\\mathbf{#1}}\\frac{\\partial^{2}}{(\\partial Y)^{2}}\\xi\\left(Y, x\\right)$$"
      ],
      "text/plain": [
       "diff(xi(Y, x), Y, Y)"
      ]
     },
     "metadata": {},
     "output_type": "display_data"
    },
    {
     "data": {
      "text/html": [
       "<html>\\[\\newcommand{\\Bold}[1]{\\mathbf{#1}}\\frac{\\partial^{3}}{\\partial Y(\\partial x)^{2}}\\phi\\left(Y, x\\right)\\]</html>"
      ],
      "text/latex": [
       "$$\\newcommand{\\Bold}[1]{\\mathbf{#1}}\\frac{\\partial^{3}}{\\partial Y(\\partial x)^{2}}\\phi\\left(Y, x\\right)$$"
      ],
      "text/plain": [
       "diff(phi(Y, x), Y, x, x)"
      ]
     },
     "metadata": {},
     "output_type": "display_data"
    },
    {
     "data": {
      "text/html": [
       "<html>\\[\\newcommand{\\Bold}[1]{\\mathbf{#1}}\\frac{\\partial^{3}}{(\\partial Y)^{2}\\partial x}\\phi\\left(Y, x\\right)\\]</html>"
      ],
      "text/latex": [
       "$$\\newcommand{\\Bold}[1]{\\mathbf{#1}}\\frac{\\partial^{3}}{(\\partial Y)^{2}\\partial x}\\phi\\left(Y, x\\right)$$"
      ],
      "text/plain": [
       "diff(phi(Y, x), Y, Y, x)"
      ]
     },
     "metadata": {},
     "output_type": "display_data"
    },
    {
     "data": {
      "text/html": [
       "<html>\\[\\newcommand{\\Bold}[1]{\\mathbf{#1}}\\frac{\\partial^{3}}{(\\partial Y)^{3}}\\phi\\left(Y, x\\right)\\]</html>"
      ],
      "text/latex": [
       "$$\\newcommand{\\Bold}[1]{\\mathbf{#1}}\\frac{\\partial^{3}}{(\\partial Y)^{3}}\\phi\\left(Y, x\\right)$$"
      ],
      "text/plain": [
       "diff(phi(Y, x), Y, Y, Y)"
      ]
     },
     "metadata": {},
     "output_type": "display_data"
    },
    {
     "name": "stdout",
     "output_type": "stream",
     "text": [
      "after autoreduce\n"
     ]
    },
    {
     "data": {
      "text/html": [
       "<html>\\[\\newcommand{\\Bold}[1]{\\mathbf{#1}}\\frac{\\partial}{\\partial x}\\phi\\left(Y, x\\right)\\]</html>"
      ],
      "text/latex": [
       "$$\\newcommand{\\Bold}[1]{\\mathbf{#1}}\\frac{\\partial}{\\partial x}\\phi\\left(Y, x\\right)$$"
      ],
      "text/plain": [
       "diff(phi(Y, x), x)"
      ]
     },
     "metadata": {},
     "output_type": "display_data"
    },
    {
     "data": {
      "text/html": [
       "<html>\\[\\newcommand{\\Bold}[1]{\\mathbf{#1}}-\\frac{\\phi\\left(Y, x\\right)}{Y} + \\frac{\\partial}{\\partial Y}\\phi\\left(Y, x\\right)\\]</html>"
      ],
      "text/latex": [
       "$$\\newcommand{\\Bold}[1]{\\mathbf{#1}}-\\frac{\\phi\\left(Y, x\\right)}{Y} + \\frac{\\partial}{\\partial Y}\\phi\\left(Y, x\\right)$$"
      ],
      "text/plain": [
       "-phi(Y, x)/Y + diff(phi(Y, x), Y)"
      ]
     },
     "metadata": {},
     "output_type": "display_data"
    },
    {
     "data": {
      "text/html": [
       "<html>\\[\\newcommand{\\Bold}[1]{\\mathbf{#1}}\\frac{\\phi\\left(Y, x\\right)}{2 \\, Y} + \\frac{\\partial}{\\partial x}\\xi\\left(Y, x\\right)\\]</html>"
      ],
      "text/latex": [
       "$$\\newcommand{\\Bold}[1]{\\mathbf{#1}}\\frac{\\phi\\left(Y, x\\right)}{2 \\, Y} + \\frac{\\partial}{\\partial x}\\xi\\left(Y, x\\right)$$"
      ],
      "text/plain": [
       "1/2*phi(Y, x)/Y + diff(xi(Y, x), x)"
      ]
     },
     "metadata": {},
     "output_type": "display_data"
    },
    {
     "data": {
      "text/html": [
       "<html>\\[\\newcommand{\\Bold}[1]{\\mathbf{#1}}\\frac{\\partial}{\\partial Y}\\xi\\left(Y, x\\right)\\]</html>"
      ],
      "text/latex": [
       "$$\\newcommand{\\Bold}[1]{\\mathbf{#1}}\\frac{\\partial}{\\partial Y}\\xi\\left(Y, x\\right)$$"
      ],
      "text/plain": [
       "diff(xi(Y, x), Y)"
      ]
     },
     "metadata": {},
     "output_type": "display_data"
    },
    {
     "data": {
      "text/html": [
       "<html>\\[\\newcommand{\\Bold}[1]{\\mathbf{#1}}\\frac{\\partial}{\\partial x}\\phi\\left(Y, x\\right)\\]</html>"
      ],
      "text/latex": [
       "$$\\newcommand{\\Bold}[1]{\\mathbf{#1}}\\frac{\\partial}{\\partial x}\\phi\\left(Y, x\\right)$$"
      ],
      "text/plain": [
       "diff(phi(Y, x), x)"
      ]
     },
     "metadata": {},
     "output_type": "display_data"
    },
    {
     "data": {
      "text/html": [
       "<html>\\[\\newcommand{\\Bold}[1]{\\mathbf{#1}}\\frac{\\partial}{\\partial Y}\\phi\\left(Y, x\\right)\\]</html>"
      ],
      "text/latex": [
       "$$\\newcommand{\\Bold}[1]{\\mathbf{#1}}\\frac{\\partial}{\\partial Y}\\phi\\left(Y, x\\right)$$"
      ],
      "text/plain": [
       "diff(phi(Y, x), Y)"
      ]
     },
     "metadata": {},
     "output_type": "display_data"
    },
    {
     "data": {
      "text/html": [
       "<html>\\[\\newcommand{\\Bold}[1]{\\mathbf{#1}}\\frac{\\partial}{\\partial x}\\xi\\left(Y, x\\right)\\]</html>"
      ],
      "text/latex": [
       "$$\\newcommand{\\Bold}[1]{\\mathbf{#1}}\\frac{\\partial}{\\partial x}\\xi\\left(Y, x\\right)$$"
      ],
      "text/plain": [
       "diff(xi(Y, x), x)"
      ]
     },
     "metadata": {},
     "output_type": "display_data"
    },
    {
     "data": {
      "text/html": [
       "<html>\\[\\newcommand{\\Bold}[1]{\\mathbf{#1}}\\frac{\\partial}{\\partial Y}\\xi\\left(Y, x\\right)\\]</html>"
      ],
      "text/latex": [
       "$$\\newcommand{\\Bold}[1]{\\mathbf{#1}}\\frac{\\partial}{\\partial Y}\\xi\\left(Y, x\\right)$$"
      ],
      "text/plain": [
       "diff(xi(Y, x), Y)"
      ]
     },
     "metadata": {},
     "output_type": "display_data"
    },
    {
     "name": "stdout",
     "output_type": "stream",
     "text": [
      "after complete system\n"
     ]
    },
    {
     "data": {
      "text/html": [
       "<html>\\[\\newcommand{\\Bold}[1]{\\mathbf{#1}}\\frac{\\partial}{\\partial x}\\phi\\left(Y, x\\right)\\]</html>"
      ],
      "text/latex": [
       "$$\\newcommand{\\Bold}[1]{\\mathbf{#1}}\\frac{\\partial}{\\partial x}\\phi\\left(Y, x\\right)$$"
      ],
      "text/plain": [
       "diff(phi(Y, x), x)"
      ]
     },
     "metadata": {},
     "output_type": "display_data"
    },
    {
     "data": {
      "text/html": [
       "<html>\\[\\newcommand{\\Bold}[1]{\\mathbf{#1}}-\\frac{\\phi\\left(Y, x\\right)}{Y} + \\frac{\\partial}{\\partial Y}\\phi\\left(Y, x\\right)\\]</html>"
      ],
      "text/latex": [
       "$$\\newcommand{\\Bold}[1]{\\mathbf{#1}}-\\frac{\\phi\\left(Y, x\\right)}{Y} + \\frac{\\partial}{\\partial Y}\\phi\\left(Y, x\\right)$$"
      ],
      "text/plain": [
       "-phi(Y, x)/Y + diff(phi(Y, x), Y)"
      ]
     },
     "metadata": {},
     "output_type": "display_data"
    },
    {
     "data": {
      "text/html": [
       "<html>\\[\\newcommand{\\Bold}[1]{\\mathbf{#1}}\\frac{\\phi\\left(Y, x\\right)}{2 \\, Y} + \\frac{\\partial}{\\partial x}\\xi\\left(Y, x\\right)\\]</html>"
      ],
      "text/latex": [
       "$$\\newcommand{\\Bold}[1]{\\mathbf{#1}}\\frac{\\phi\\left(Y, x\\right)}{2 \\, Y} + \\frac{\\partial}{\\partial x}\\xi\\left(Y, x\\right)$$"
      ],
      "text/plain": [
       "1/2*phi(Y, x)/Y + diff(xi(Y, x), x)"
      ]
     },
     "metadata": {},
     "output_type": "display_data"
    },
    {
     "data": {
      "text/html": [
       "<html>\\[\\newcommand{\\Bold}[1]{\\mathbf{#1}}\\frac{\\partial}{\\partial Y}\\xi\\left(Y, x\\right)\\]</html>"
      ],
      "text/latex": [
       "$$\\newcommand{\\Bold}[1]{\\mathbf{#1}}\\frac{\\partial}{\\partial Y}\\xi\\left(Y, x\\right)$$"
      ],
      "text/plain": [
       "diff(xi(Y, x), Y)"
      ]
     },
     "metadata": {},
     "output_type": "display_data"
    },
    {
     "name": "stdout",
     "output_type": "stream",
     "text": [
      "After conditions\n"
     ]
    },
    {
     "data": {
      "text/html": [
       "<html>\\[\\newcommand{\\Bold}[1]{\\mathbf{#1}}\\frac{\\partial}{\\partial x}\\phi\\left(Y, x\\right)\\]</html>"
      ],
      "text/latex": [
       "$$\\newcommand{\\Bold}[1]{\\mathbf{#1}}\\frac{\\partial}{\\partial x}\\phi\\left(Y, x\\right)$$"
      ],
      "text/plain": [
       "diff(phi(Y, x), x)"
      ]
     },
     "metadata": {},
     "output_type": "display_data"
    },
    {
     "data": {
      "text/html": [
       "<html>\\[\\newcommand{\\Bold}[1]{\\mathbf{#1}}-\\frac{\\phi\\left(Y, x\\right)}{Y} + \\frac{\\partial}{\\partial Y}\\phi\\left(Y, x\\right)\\]</html>"
      ],
      "text/latex": [
       "$$\\newcommand{\\Bold}[1]{\\mathbf{#1}}-\\frac{\\phi\\left(Y, x\\right)}{Y} + \\frac{\\partial}{\\partial Y}\\phi\\left(Y, x\\right)$$"
      ],
      "text/plain": [
       "-phi(Y, x)/Y + diff(phi(Y, x), Y)"
      ]
     },
     "metadata": {},
     "output_type": "display_data"
    },
    {
     "data": {
      "text/html": [
       "<html>\\[\\newcommand{\\Bold}[1]{\\mathbf{#1}}\\frac{\\phi\\left(Y, x\\right)}{2 \\, Y} + \\frac{\\partial}{\\partial x}\\xi\\left(Y, x\\right)\\]</html>"
      ],
      "text/latex": [
       "$$\\newcommand{\\Bold}[1]{\\mathbf{#1}}\\frac{\\phi\\left(Y, x\\right)}{2 \\, Y} + \\frac{\\partial}{\\partial x}\\xi\\left(Y, x\\right)$$"
      ],
      "text/plain": [
       "1/2*phi(Y, x)/Y + diff(xi(Y, x), x)"
      ]
     },
     "metadata": {},
     "output_type": "display_data"
    },
    {
     "data": {
      "text/html": [
       "<html>\\[\\newcommand{\\Bold}[1]{\\mathbf{#1}}\\frac{\\partial}{\\partial Y}\\xi\\left(Y, x\\right)\\]</html>"
      ],
      "text/latex": [
       "$$\\newcommand{\\Bold}[1]{\\mathbf{#1}}\\frac{\\partial}{\\partial Y}\\xi\\left(Y, x\\right)$$"
      ],
      "text/plain": [
       "diff(xi(Y, x), Y)"
      ]
     },
     "metadata": {},
     "output_type": "display_data"
    },
    {
     "name": "stdout",
     "output_type": "stream",
     "text": [
      "This is where we start\n"
     ]
    },
    {
     "data": {
      "text/html": [
       "<html>\\[\\newcommand{\\Bold}[1]{\\mathbf{#1}}\\frac{\\partial}{\\partial x}\\phi\\left(Y, x\\right)\\]</html>"
      ],
      "text/latex": [
       "$$\\newcommand{\\Bold}[1]{\\mathbf{#1}}\\frac{\\partial}{\\partial x}\\phi\\left(Y, x\\right)$$"
      ],
      "text/plain": [
       "diff(phi(Y, x), x)"
      ]
     },
     "metadata": {},
     "output_type": "display_data"
    },
    {
     "data": {
      "text/html": [
       "<html>\\[\\newcommand{\\Bold}[1]{\\mathbf{#1}}-\\frac{\\phi\\left(Y, x\\right)}{Y} + \\frac{\\partial}{\\partial Y}\\phi\\left(Y, x\\right)\\]</html>"
      ],
      "text/latex": [
       "$$\\newcommand{\\Bold}[1]{\\mathbf{#1}}-\\frac{\\phi\\left(Y, x\\right)}{Y} + \\frac{\\partial}{\\partial Y}\\phi\\left(Y, x\\right)$$"
      ],
      "text/plain": [
       "-phi(Y, x)/Y + diff(phi(Y, x), Y)"
      ]
     },
     "metadata": {},
     "output_type": "display_data"
    },
    {
     "data": {
      "text/html": [
       "<html>\\[\\newcommand{\\Bold}[1]{\\mathbf{#1}}\\frac{\\phi\\left(Y, x\\right)}{2 \\, Y} + \\frac{\\partial}{\\partial x}\\xi\\left(Y, x\\right)\\]</html>"
      ],
      "text/latex": [
       "$$\\newcommand{\\Bold}[1]{\\mathbf{#1}}\\frac{\\phi\\left(Y, x\\right)}{2 \\, Y} + \\frac{\\partial}{\\partial x}\\xi\\left(Y, x\\right)$$"
      ],
      "text/plain": [
       "1/2*phi(Y, x)/Y + diff(xi(Y, x), x)"
      ]
     },
     "metadata": {},
     "output_type": "display_data"
    },
    {
     "data": {
      "text/html": [
       "<html>\\[\\newcommand{\\Bold}[1]{\\mathbf{#1}}\\frac{\\partial}{\\partial Y}\\xi\\left(Y, x\\right)\\]</html>"
      ],
      "text/latex": [
       "$$\\newcommand{\\Bold}[1]{\\mathbf{#1}}\\frac{\\partial}{\\partial Y}\\xi\\left(Y, x\\right)$$"
      ],
      "text/plain": [
       "diff(xi(Y, x), Y)"
      ]
     },
     "metadata": {},
     "output_type": "display_data"
    },
    {
     "data": {
      "text/html": [
       "<html>\\[\\newcommand{\\Bold}[1]{\\mathbf{#1}}\\frac{\\partial}{\\partial x}\\phi\\left(Y, x\\right)\\]</html>"
      ],
      "text/latex": [
       "$$\\newcommand{\\Bold}[1]{\\mathbf{#1}}\\frac{\\partial}{\\partial x}\\phi\\left(Y, x\\right)$$"
      ],
      "text/plain": [
       "diff(phi(Y, x), x)"
      ]
     },
     "metadata": {},
     "output_type": "display_data"
    },
    {
     "data": {
      "text/html": [
       "<html>\\[\\newcommand{\\Bold}[1]{\\mathbf{#1}}\\frac{\\partial}{\\partial Y}\\phi\\left(Y, x\\right)\\]</html>"
      ],
      "text/latex": [
       "$$\\newcommand{\\Bold}[1]{\\mathbf{#1}}\\frac{\\partial}{\\partial Y}\\phi\\left(Y, x\\right)$$"
      ],
      "text/plain": [
       "diff(phi(Y, x), Y)"
      ]
     },
     "metadata": {},
     "output_type": "display_data"
    },
    {
     "data": {
      "text/html": [
       "<html>\\[\\newcommand{\\Bold}[1]{\\mathbf{#1}}\\frac{\\partial}{\\partial x}\\xi\\left(Y, x\\right)\\]</html>"
      ],
      "text/latex": [
       "$$\\newcommand{\\Bold}[1]{\\mathbf{#1}}\\frac{\\partial}{\\partial x}\\xi\\left(Y, x\\right)$$"
      ],
      "text/plain": [
       "diff(xi(Y, x), x)"
      ]
     },
     "metadata": {},
     "output_type": "display_data"
    },
    {
     "data": {
      "text/html": [
       "<html>\\[\\newcommand{\\Bold}[1]{\\mathbf{#1}}\\frac{\\partial}{\\partial Y}\\xi\\left(Y, x\\right)\\]</html>"
      ],
      "text/latex": [
       "$$\\newcommand{\\Bold}[1]{\\mathbf{#1}}\\frac{\\partial}{\\partial Y}\\xi\\left(Y, x\\right)$$"
      ],
      "text/plain": [
       "diff(xi(Y, x), Y)"
      ]
     },
     "metadata": {},
     "output_type": "display_data"
    },
    {
     "name": "stdout",
     "output_type": "stream",
     "text": [
      "after autoreduce\n"
     ]
    },
    {
     "data": {
      "text/html": [
       "<html>\\[\\newcommand{\\Bold}[1]{\\mathbf{#1}}\\frac{\\partial}{\\partial x}\\phi\\left(Y, x\\right)\\]</html>"
      ],
      "text/latex": [
       "$$\\newcommand{\\Bold}[1]{\\mathbf{#1}}\\frac{\\partial}{\\partial x}\\phi\\left(Y, x\\right)$$"
      ],
      "text/plain": [
       "diff(phi(Y, x), x)"
      ]
     },
     "metadata": {},
     "output_type": "display_data"
    },
    {
     "data": {
      "text/html": [
       "<html>\\[\\newcommand{\\Bold}[1]{\\mathbf{#1}}-\\frac{\\phi\\left(Y, x\\right)}{Y} + \\frac{\\partial}{\\partial Y}\\phi\\left(Y, x\\right)\\]</html>"
      ],
      "text/latex": [
       "$$\\newcommand{\\Bold}[1]{\\mathbf{#1}}-\\frac{\\phi\\left(Y, x\\right)}{Y} + \\frac{\\partial}{\\partial Y}\\phi\\left(Y, x\\right)$$"
      ],
      "text/plain": [
       "-phi(Y, x)/Y + diff(phi(Y, x), Y)"
      ]
     },
     "metadata": {},
     "output_type": "display_data"
    },
    {
     "data": {
      "text/html": [
       "<html>\\[\\newcommand{\\Bold}[1]{\\mathbf{#1}}\\frac{\\phi\\left(Y, x\\right)}{2 \\, Y} + \\frac{\\partial}{\\partial x}\\xi\\left(Y, x\\right)\\]</html>"
      ],
      "text/latex": [
       "$$\\newcommand{\\Bold}[1]{\\mathbf{#1}}\\frac{\\phi\\left(Y, x\\right)}{2 \\, Y} + \\frac{\\partial}{\\partial x}\\xi\\left(Y, x\\right)$$"
      ],
      "text/plain": [
       "1/2*phi(Y, x)/Y + diff(xi(Y, x), x)"
      ]
     },
     "metadata": {},
     "output_type": "display_data"
    },
    {
     "data": {
      "text/html": [
       "<html>\\[\\newcommand{\\Bold}[1]{\\mathbf{#1}}\\frac{\\partial}{\\partial Y}\\xi\\left(Y, x\\right)\\]</html>"
      ],
      "text/latex": [
       "$$\\newcommand{\\Bold}[1]{\\mathbf{#1}}\\frac{\\partial}{\\partial Y}\\xi\\left(Y, x\\right)$$"
      ],
      "text/plain": [
       "diff(xi(Y, x), Y)"
      ]
     },
     "metadata": {},
     "output_type": "display_data"
    },
    {
     "data": {
      "text/html": [
       "<html>\\[\\newcommand{\\Bold}[1]{\\mathbf{#1}}\\frac{\\partial}{\\partial x}\\phi\\left(Y, x\\right)\\]</html>"
      ],
      "text/latex": [
       "$$\\newcommand{\\Bold}[1]{\\mathbf{#1}}\\frac{\\partial}{\\partial x}\\phi\\left(Y, x\\right)$$"
      ],
      "text/plain": [
       "diff(phi(Y, x), x)"
      ]
     },
     "metadata": {},
     "output_type": "display_data"
    },
    {
     "data": {
      "text/html": [
       "<html>\\[\\newcommand{\\Bold}[1]{\\mathbf{#1}}\\frac{\\partial}{\\partial Y}\\phi\\left(Y, x\\right)\\]</html>"
      ],
      "text/latex": [
       "$$\\newcommand{\\Bold}[1]{\\mathbf{#1}}\\frac{\\partial}{\\partial Y}\\phi\\left(Y, x\\right)$$"
      ],
      "text/plain": [
       "diff(phi(Y, x), Y)"
      ]
     },
     "metadata": {},
     "output_type": "display_data"
    },
    {
     "data": {
      "text/html": [
       "<html>\\[\\newcommand{\\Bold}[1]{\\mathbf{#1}}\\frac{\\partial}{\\partial x}\\xi\\left(Y, x\\right)\\]</html>"
      ],
      "text/latex": [
       "$$\\newcommand{\\Bold}[1]{\\mathbf{#1}}\\frac{\\partial}{\\partial x}\\xi\\left(Y, x\\right)$$"
      ],
      "text/plain": [
       "diff(xi(Y, x), x)"
      ]
     },
     "metadata": {},
     "output_type": "display_data"
    },
    {
     "data": {
      "text/html": [
       "<html>\\[\\newcommand{\\Bold}[1]{\\mathbf{#1}}\\frac{\\partial}{\\partial Y}\\xi\\left(Y, x\\right)\\]</html>"
      ],
      "text/latex": [
       "$$\\newcommand{\\Bold}[1]{\\mathbf{#1}}\\frac{\\partial}{\\partial Y}\\xi\\left(Y, x\\right)$$"
      ],
      "text/plain": [
       "diff(xi(Y, x), Y)"
      ]
     },
     "metadata": {},
     "output_type": "display_data"
    },
    {
     "name": "stdout",
     "output_type": "stream",
     "text": [
      "after complete system\n"
     ]
    },
    {
     "data": {
      "text/html": [
       "<html>\\[\\newcommand{\\Bold}[1]{\\mathbf{#1}}\\frac{\\partial}{\\partial x}\\phi\\left(Y, x\\right)\\]</html>"
      ],
      "text/latex": [
       "$$\\newcommand{\\Bold}[1]{\\mathbf{#1}}\\frac{\\partial}{\\partial x}\\phi\\left(Y, x\\right)$$"
      ],
      "text/plain": [
       "diff(phi(Y, x), x)"
      ]
     },
     "metadata": {},
     "output_type": "display_data"
    },
    {
     "data": {
      "text/html": [
       "<html>\\[\\newcommand{\\Bold}[1]{\\mathbf{#1}}-\\frac{\\phi\\left(Y, x\\right)}{Y} + \\frac{\\partial}{\\partial Y}\\phi\\left(Y, x\\right)\\]</html>"
      ],
      "text/latex": [
       "$$\\newcommand{\\Bold}[1]{\\mathbf{#1}}-\\frac{\\phi\\left(Y, x\\right)}{Y} + \\frac{\\partial}{\\partial Y}\\phi\\left(Y, x\\right)$$"
      ],
      "text/plain": [
       "-phi(Y, x)/Y + diff(phi(Y, x), Y)"
      ]
     },
     "metadata": {},
     "output_type": "display_data"
    },
    {
     "data": {
      "text/html": [
       "<html>\\[\\newcommand{\\Bold}[1]{\\mathbf{#1}}\\frac{\\phi\\left(Y, x\\right)}{2 \\, Y} + \\frac{\\partial}{\\partial x}\\xi\\left(Y, x\\right)\\]</html>"
      ],
      "text/latex": [
       "$$\\newcommand{\\Bold}[1]{\\mathbf{#1}}\\frac{\\phi\\left(Y, x\\right)}{2 \\, Y} + \\frac{\\partial}{\\partial x}\\xi\\left(Y, x\\right)$$"
      ],
      "text/plain": [
       "1/2*phi(Y, x)/Y + diff(xi(Y, x), x)"
      ]
     },
     "metadata": {},
     "output_type": "display_data"
    },
    {
     "data": {
      "text/html": [
       "<html>\\[\\newcommand{\\Bold}[1]{\\mathbf{#1}}\\frac{\\partial}{\\partial Y}\\xi\\left(Y, x\\right)\\]</html>"
      ],
      "text/latex": [
       "$$\\newcommand{\\Bold}[1]{\\mathbf{#1}}\\frac{\\partial}{\\partial Y}\\xi\\left(Y, x\\right)$$"
      ],
      "text/plain": [
       "diff(xi(Y, x), Y)"
      ]
     },
     "metadata": {},
     "output_type": "display_data"
    },
    {
     "name": "stdout",
     "output_type": "stream",
     "text": [
      "After conditions\n"
     ]
    },
    {
     "data": {
      "text/html": [
       "<html>\\[\\newcommand{\\Bold}[1]{\\mathbf{#1}}\\frac{\\partial}{\\partial x}\\phi\\left(Y, x\\right)\\]</html>"
      ],
      "text/latex": [
       "$$\\newcommand{\\Bold}[1]{\\mathbf{#1}}\\frac{\\partial}{\\partial x}\\phi\\left(Y, x\\right)$$"
      ],
      "text/plain": [
       "diff(phi(Y, x), x)"
      ]
     },
     "metadata": {},
     "output_type": "display_data"
    },
    {
     "data": {
      "text/html": [
       "<html>\\[\\newcommand{\\Bold}[1]{\\mathbf{#1}}-\\frac{\\phi\\left(Y, x\\right)}{Y} + \\frac{\\partial}{\\partial Y}\\phi\\left(Y, x\\right)\\]</html>"
      ],
      "text/latex": [
       "$$\\newcommand{\\Bold}[1]{\\mathbf{#1}}-\\frac{\\phi\\left(Y, x\\right)}{Y} + \\frac{\\partial}{\\partial Y}\\phi\\left(Y, x\\right)$$"
      ],
      "text/plain": [
       "-phi(Y, x)/Y + diff(phi(Y, x), Y)"
      ]
     },
     "metadata": {},
     "output_type": "display_data"
    },
    {
     "data": {
      "text/html": [
       "<html>\\[\\newcommand{\\Bold}[1]{\\mathbf{#1}}\\frac{\\phi\\left(Y, x\\right)}{2 \\, Y} + \\frac{\\partial}{\\partial x}\\xi\\left(Y, x\\right)\\]</html>"
      ],
      "text/latex": [
       "$$\\newcommand{\\Bold}[1]{\\mathbf{#1}}\\frac{\\phi\\left(Y, x\\right)}{2 \\, Y} + \\frac{\\partial}{\\partial x}\\xi\\left(Y, x\\right)$$"
      ],
      "text/plain": [
       "1/2*phi(Y, x)/Y + diff(xi(Y, x), x)"
      ]
     },
     "metadata": {},
     "output_type": "display_data"
    },
    {
     "data": {
      "text/html": [
       "<html>\\[\\newcommand{\\Bold}[1]{\\mathbf{#1}}\\frac{\\partial}{\\partial Y}\\xi\\left(Y, x\\right)\\]</html>"
      ],
      "text/latex": [
       "$$\\newcommand{\\Bold}[1]{\\mathbf{#1}}\\frac{\\partial}{\\partial Y}\\xi\\left(Y, x\\right)$$"
      ],
      "text/plain": [
       "diff(xi(Y, x), Y)"
      ]
     },
     "metadata": {},
     "output_type": "display_data"
    },
    {
     "name": "stdout",
     "output_type": "stream",
     "text": [
      ".........................\n"
     ]
    },
    {
     "data": {
      "text/html": [
       "<html>\\[\\newcommand{\\Bold}[1]{\\mathbf{#1}}\\mathrm{D}_{1}\\left(\\phi\\right)\\left(y\\left(x\\right), x\\right)\\]</html>"
      ],
      "text/latex": [
       "$$\\newcommand{\\Bold}[1]{\\mathbf{#1}}\\mathrm{D}_{1}\\left(\\phi\\right)\\left(y\\left(x\\right), x\\right)$$"
      ],
      "text/plain": [
       "D[1](phi)(y(x), x)"
      ]
     },
     "metadata": {},
     "output_type": "display_data"
    },
    {
     "data": {
      "text/html": [
       "<html>\\[\\newcommand{\\Bold}[1]{\\mathbf{#1}}-\\frac{\\phi\\left(y\\left(x\\right), x\\right)}{y\\left(x\\right)} + \\mathrm{D}_{0}\\left(\\phi\\right)\\left(y\\left(x\\right), x\\right)\\]</html>"
      ],
      "text/latex": [
       "$$\\newcommand{\\Bold}[1]{\\mathbf{#1}}-\\frac{\\phi\\left(y\\left(x\\right), x\\right)}{y\\left(x\\right)} + \\mathrm{D}_{0}\\left(\\phi\\right)\\left(y\\left(x\\right), x\\right)$$"
      ],
      "text/plain": [
       "-phi(y(x), x)/y(x) + D[0](phi)(y(x), x)"
      ]
     },
     "metadata": {},
     "output_type": "display_data"
    },
    {
     "data": {
      "text/html": [
       "<html>\\[\\newcommand{\\Bold}[1]{\\mathbf{#1}}\\frac{\\phi\\left(y\\left(x\\right), x\\right)}{2 \\, y\\left(x\\right)} + \\mathrm{D}_{1}\\left(\\xi\\right)\\left(y\\left(x\\right), x\\right)\\]</html>"
      ],
      "text/latex": [
       "$$\\newcommand{\\Bold}[1]{\\mathbf{#1}}\\frac{\\phi\\left(y\\left(x\\right), x\\right)}{2 \\, y\\left(x\\right)} + \\mathrm{D}_{1}\\left(\\xi\\right)\\left(y\\left(x\\right), x\\right)$$"
      ],
      "text/plain": [
       "1/2*phi(y(x), x)/y(x) + D[1](xi)(y(x), x)"
      ]
     },
     "metadata": {},
     "output_type": "display_data"
    },
    {
     "data": {
      "text/html": [
       "<html>\\[\\newcommand{\\Bold}[1]{\\mathbf{#1}}\\mathrm{D}_{0}\\left(\\xi\\right)\\left(y\\left(x\\right), x\\right)\\]</html>"
      ],
      "text/latex": [
       "$$\\newcommand{\\Bold}[1]{\\mathbf{#1}}\\mathrm{D}_{0}\\left(\\xi\\right)\\left(y\\left(x\\right), x\\right)$$"
      ],
      "text/plain": [
       "D[0](xi)(y(x), x)"
      ]
     },
     "metadata": {},
     "output_type": "display_data"
    }
   ],
   "source": [
    "# Schwarz, Example 5.2, p. 200\n",
    "x = var('x')\n",
    "y = function(\"y\")\n",
    "ode = 4*diff(y(x),x,x)*y(x) - 3*diff(y(x), x)**2-12*y(x)**3\n",
    "inf = infinitesimalsODE(ode, y, x)\n",
    "print(\".\"*25)\n",
    "for _ in inf:\n",
    "    _.show()"
   ]
  },
  {
   "cell_type": "code",
   "execution_count": 4,
   "id": "0a3a01f9-a828-462a-ad3c-b9566acdc8f7",
   "metadata": {},
   "outputs": [
    {
     "name": "stderr",
     "output_type": "stream",
     "text": [
      "/researches/mambaforge/envs/sage/lib/python3.9/site-packages/sage/symbolic/operators.py:121: DeprecationWarning: Substitution using function-call syntax and unnamed arguments is deprecated and will be removed from a future release of Sage; you can use named arguments instead, like EXPR(x=..., y=...)\n",
      "See http://trac.sagemath.org/5930 for details.\n",
      "  return self._f(*args).diff(*vars)\n",
      "/researches/mambaforge/envs/sage/lib/python3.9/site-packages/sage/symbolic/expression_conversions.py:2347: DeprecationWarning: Substitution using function-call syntax and unnamed arguments is deprecated and will be removed from a future release of Sage; you can use named arguments instead, like EXPR(x=..., y=...)\n",
      "See http://trac.sagemath.org/5930 for details.\n",
      "  return self.new(*[self(_) for _ in ex.operands()])\n"
     ]
    },
    {
     "name": "stdout",
     "output_type": "stream",
     "text": [
      "this is my determining system\n"
     ]
    },
    {
     "data": {
      "text/html": [
       "<html>\\[\\newcommand{\\Bold}[1]{\\mathbf{#1}}x^{4} \\mathrm{D}_{0}\\left(\\xi\\right)\\left(y\\left(x\\right), x\\right) - 4 \\, x^{2} \\mathrm{D}_{0, 0}\\left(\\xi\\right)\\left(y\\left(x\\right), x\\right)\\]</html>"
      ],
      "text/latex": [
       "$$\\newcommand{\\Bold}[1]{\\mathbf{#1}}x^{4} \\mathrm{D}_{0}\\left(\\xi\\right)\\left(y\\left(x\\right), x\\right) - 4 \\, x^{2} \\mathrm{D}_{0, 0}\\left(\\xi\\right)\\left(y\\left(x\\right), x\\right)$$"
      ],
      "text/plain": [
       "x^4*D[0](xi)(y(x), x) - 4*x^2*D[0, 0](xi)(y(x), x)"
      ]
     },
     "metadata": {},
     "output_type": "display_data"
    },
    {
     "data": {
      "text/html": [
       "<html>\\[\\newcommand{\\Bold}[1]{\\mathbf{#1}}x^{4} \\mathrm{D}_{0}\\left(\\phi\\right)\\left(y\\left(x\\right), x\\right) + 2 \\, x^{3} \\xi\\left(y\\left(x\\right), x\\right) + 4 \\, x^{2} \\mathrm{D}_{0, 0}\\left(\\phi\\right)\\left(y\\left(x\\right), x\\right) - 8 \\, x^{2} \\mathrm{D}_{0, 1}\\left(\\xi\\right)\\left(y\\left(x\\right), x\\right)\\]</html>"
      ],
      "text/latex": [
       "$$\\newcommand{\\Bold}[1]{\\mathbf{#1}}x^{4} \\mathrm{D}_{0}\\left(\\phi\\right)\\left(y\\left(x\\right), x\\right) + 2 \\, x^{3} \\xi\\left(y\\left(x\\right), x\\right) + 4 \\, x^{2} \\mathrm{D}_{0, 0}\\left(\\phi\\right)\\left(y\\left(x\\right), x\\right) - 8 \\, x^{2} \\mathrm{D}_{0, 1}\\left(\\xi\\right)\\left(y\\left(x\\right), x\\right)$$"
      ],
      "text/plain": [
       "x^4*D[0](phi)(y(x), x) + 2*x^3*xi(y(x), x) + 4*x^2*D[0, 0](phi)(y(x), x) - 8*x^2*D[0, 1](xi)(y(x), x)"
      ]
     },
     "metadata": {},
     "output_type": "display_data"
    },
    {
     "data": {
      "text/html": [
       "<html>\\[\\newcommand{\\Bold}[1]{\\mathbf{#1}}2 \\, x^{4} \\mathrm{D}_{1}\\left(\\phi\\right)\\left(y\\left(x\\right), x\\right) + 8 \\, x^{2} \\mathrm{D}_{0, 1}\\left(\\phi\\right)\\left(y\\left(x\\right), x\\right) - 4 \\, x^{2} \\mathrm{D}_{1, 1}\\left(\\xi\\right)\\left(y\\left(x\\right), x\\right) + 12 \\, y\\left(x\\right) \\mathrm{D}_{0}\\left(\\xi\\right)\\left(y\\left(x\\right), x\\right)\\]</html>"
      ],
      "text/latex": [
       "$$\\newcommand{\\Bold}[1]{\\mathbf{#1}}2 \\, x^{4} \\mathrm{D}_{1}\\left(\\phi\\right)\\left(y\\left(x\\right), x\\right) + 8 \\, x^{2} \\mathrm{D}_{0, 1}\\left(\\phi\\right)\\left(y\\left(x\\right), x\\right) - 4 \\, x^{2} \\mathrm{D}_{1, 1}\\left(\\xi\\right)\\left(y\\left(x\\right), x\\right) + 12 \\, y\\left(x\\right) \\mathrm{D}_{0}\\left(\\xi\\right)\\left(y\\left(x\\right), x\\right)$$"
      ],
      "text/plain": [
       "2*x^4*D[1](phi)(y(x), x) + 8*x^2*D[0, 1](phi)(y(x), x) - 4*x^2*D[1, 1](xi)(y(x), x) + 12*y(x)*D[0](xi)(y(x), x)"
      ]
     },
     "metadata": {},
     "output_type": "display_data"
    },
    {
     "data": {
      "text/html": [
       "<html>\\[\\newcommand{\\Bold}[1]{\\mathbf{#1}}4 \\, x^{2} \\mathrm{D}_{1, 1}\\left(\\phi\\right)\\left(y\\left(x\\right), x\\right) - 4 \\, y\\left(x\\right) \\mathrm{D}_{0}\\left(\\phi\\right)\\left(y\\left(x\\right), x\\right) + 8 \\, y\\left(x\\right) \\mathrm{D}_{1}\\left(\\xi\\right)\\left(y\\left(x\\right), x\\right) - \\frac{8 \\, \\xi\\left(y\\left(x\\right), x\\right) y\\left(x\\right)}{x} + 4 \\, \\phi\\left(y\\left(x\\right), x\\right)\\]</html>"
      ],
      "text/latex": [
       "$$\\newcommand{\\Bold}[1]{\\mathbf{#1}}4 \\, x^{2} \\mathrm{D}_{1, 1}\\left(\\phi\\right)\\left(y\\left(x\\right), x\\right) - 4 \\, y\\left(x\\right) \\mathrm{D}_{0}\\left(\\phi\\right)\\left(y\\left(x\\right), x\\right) + 8 \\, y\\left(x\\right) \\mathrm{D}_{1}\\left(\\xi\\right)\\left(y\\left(x\\right), x\\right) - \\frac{8 \\, \\xi\\left(y\\left(x\\right), x\\right) y\\left(x\\right)}{x} + 4 \\, \\phi\\left(y\\left(x\\right), x\\right)$$"
      ],
      "text/plain": [
       "4*x^2*D[1, 1](phi)(y(x), x) - 4*y(x)*D[0](phi)(y(x), x) + 8*y(x)*D[1](xi)(y(x), x) - 8*xi(y(x), x)*y(x)/x + 4*phi(y(x), x)"
      ]
     },
     "metadata": {},
     "output_type": "display_data"
    },
    {
     "name": "stdout",
     "output_type": "stream",
     "text": [
      "This is where we start\n"
     ]
    },
    {
     "data": {
      "text/html": [
       "<html>\\[\\newcommand{\\Bold}[1]{\\mathbf{#1}}-\\frac{Y \\frac{\\partial}{\\partial Y}\\phi\\left(Y, x\\right)}{x^{2}} + \\frac{2 \\, Y \\frac{\\partial}{\\partial x}\\xi\\left(Y, x\\right)}{x^{2}} + \\frac{\\phi\\left(Y, x\\right)}{x^{2}} - \\frac{2 \\, Y \\xi\\left(Y, x\\right)}{x^{3}} + \\frac{\\partial^{2}}{(\\partial x)^{2}}\\phi\\left(Y, x\\right)\\]</html>"
      ],
      "text/latex": [
       "$$\\newcommand{\\Bold}[1]{\\mathbf{#1}}-\\frac{Y \\frac{\\partial}{\\partial Y}\\phi\\left(Y, x\\right)}{x^{2}} + \\frac{2 \\, Y \\frac{\\partial}{\\partial x}\\xi\\left(Y, x\\right)}{x^{2}} + \\frac{\\phi\\left(Y, x\\right)}{x^{2}} - \\frac{2 \\, Y \\xi\\left(Y, x\\right)}{x^{3}} + \\frac{\\partial^{2}}{(\\partial x)^{2}}\\phi\\left(Y, x\\right)$$"
      ],
      "text/plain": [
       "-Y*diff(phi(Y, x), Y)/x^2 + 2*Y*diff(xi(Y, x), x)/x^2 + phi(Y, x)/x^2 - 2*Y*xi(Y, x)/x^3 + diff(phi(Y, x), x, x)"
      ]
     },
     "metadata": {},
     "output_type": "display_data"
    },
    {
     "data": {
      "text/html": [
       "<html>\\[\\newcommand{\\Bold}[1]{\\mathbf{#1}}-\\frac{1}{2} \\, x^{2} \\frac{\\partial}{\\partial x}\\phi\\left(Y, x\\right) - \\frac{3 \\, Y \\frac{\\partial}{\\partial Y}\\xi\\left(Y, x\\right)}{x^{2}} - 2 \\, \\frac{\\partial^{2}}{\\partial Y\\partial x}\\phi\\left(Y, x\\right) + \\frac{\\partial^{2}}{(\\partial x)^{2}}\\xi\\left(Y, x\\right)\\]</html>"
      ],
      "text/latex": [
       "$$\\newcommand{\\Bold}[1]{\\mathbf{#1}}-\\frac{1}{2} \\, x^{2} \\frac{\\partial}{\\partial x}\\phi\\left(Y, x\\right) - \\frac{3 \\, Y \\frac{\\partial}{\\partial Y}\\xi\\left(Y, x\\right)}{x^{2}} - 2 \\, \\frac{\\partial^{2}}{\\partial Y\\partial x}\\phi\\left(Y, x\\right) + \\frac{\\partial^{2}}{(\\partial x)^{2}}\\xi\\left(Y, x\\right)$$"
      ],
      "text/plain": [
       "-1/2*x^2*diff(phi(Y, x), x) - 3*Y*diff(xi(Y, x), Y)/x^2 - 2*diff(phi(Y, x), Y, x) + diff(xi(Y, x), x, x)"
      ]
     },
     "metadata": {},
     "output_type": "display_data"
    },
    {
     "data": {
      "text/html": [
       "<html>\\[\\newcommand{\\Bold}[1]{\\mathbf{#1}}-\\frac{1}{8} \\, x^{2} \\frac{\\partial}{\\partial Y}\\phi\\left(Y, x\\right) - \\frac{1}{4} \\, x \\xi\\left(Y, x\\right) - \\frac{1}{2} \\, \\frac{\\partial^{2}}{(\\partial Y)^{2}}\\phi\\left(Y, x\\right) + \\frac{\\partial^{2}}{\\partial Y\\partial x}\\xi\\left(Y, x\\right)\\]</html>"
      ],
      "text/latex": [
       "$$\\newcommand{\\Bold}[1]{\\mathbf{#1}}-\\frac{1}{8} \\, x^{2} \\frac{\\partial}{\\partial Y}\\phi\\left(Y, x\\right) - \\frac{1}{4} \\, x \\xi\\left(Y, x\\right) - \\frac{1}{2} \\, \\frac{\\partial^{2}}{(\\partial Y)^{2}}\\phi\\left(Y, x\\right) + \\frac{\\partial^{2}}{\\partial Y\\partial x}\\xi\\left(Y, x\\right)$$"
      ],
      "text/plain": [
       "-1/8*x^2*diff(phi(Y, x), Y) - 1/4*x*xi(Y, x) - 1/2*diff(phi(Y, x), Y, Y) + diff(xi(Y, x), Y, x)"
      ]
     },
     "metadata": {},
     "output_type": "display_data"
    },
    {
     "data": {
      "text/html": [
       "<html>\\[\\newcommand{\\Bold}[1]{\\mathbf{#1}}-\\frac{1}{4} \\, x^{2} \\frac{\\partial}{\\partial Y}\\xi\\left(Y, x\\right) + \\frac{\\partial^{2}}{(\\partial Y)^{2}}\\xi\\left(Y, x\\right)\\]</html>"
      ],
      "text/latex": [
       "$$\\newcommand{\\Bold}[1]{\\mathbf{#1}}-\\frac{1}{4} \\, x^{2} \\frac{\\partial}{\\partial Y}\\xi\\left(Y, x\\right) + \\frac{\\partial^{2}}{(\\partial Y)^{2}}\\xi\\left(Y, x\\right)$$"
      ],
      "text/plain": [
       "-1/4*x^2*diff(xi(Y, x), Y) + diff(xi(Y, x), Y, Y)"
      ]
     },
     "metadata": {},
     "output_type": "display_data"
    },
    {
     "data": {
      "text/html": [
       "<html>\\[\\newcommand{\\Bold}[1]{\\mathbf{#1}}\\frac{\\partial^{2}}{(\\partial x)^{2}}\\phi\\left(Y, x\\right)\\]</html>"
      ],
      "text/latex": [
       "$$\\newcommand{\\Bold}[1]{\\mathbf{#1}}\\frac{\\partial^{2}}{(\\partial x)^{2}}\\phi\\left(Y, x\\right)$$"
      ],
      "text/plain": [
       "diff(phi(Y, x), x, x)"
      ]
     },
     "metadata": {},
     "output_type": "display_data"
    },
    {
     "data": {
      "text/html": [
       "<html>\\[\\newcommand{\\Bold}[1]{\\mathbf{#1}}\\frac{\\partial^{2}}{(\\partial x)^{2}}\\xi\\left(Y, x\\right)\\]</html>"
      ],
      "text/latex": [
       "$$\\newcommand{\\Bold}[1]{\\mathbf{#1}}\\frac{\\partial^{2}}{(\\partial x)^{2}}\\xi\\left(Y, x\\right)$$"
      ],
      "text/plain": [
       "diff(xi(Y, x), x, x)"
      ]
     },
     "metadata": {},
     "output_type": "display_data"
    },
    {
     "data": {
      "text/html": [
       "<html>\\[\\newcommand{\\Bold}[1]{\\mathbf{#1}}\\frac{\\partial^{2}}{\\partial Y\\partial x}\\xi\\left(Y, x\\right)\\]</html>"
      ],
      "text/latex": [
       "$$\\newcommand{\\Bold}[1]{\\mathbf{#1}}\\frac{\\partial^{2}}{\\partial Y\\partial x}\\xi\\left(Y, x\\right)$$"
      ],
      "text/plain": [
       "diff(xi(Y, x), Y, x)"
      ]
     },
     "metadata": {},
     "output_type": "display_data"
    },
    {
     "data": {
      "text/html": [
       "<html>\\[\\newcommand{\\Bold}[1]{\\mathbf{#1}}\\frac{\\partial^{2}}{(\\partial Y)^{2}}\\xi\\left(Y, x\\right)\\]</html>"
      ],
      "text/latex": [
       "$$\\newcommand{\\Bold}[1]{\\mathbf{#1}}\\frac{\\partial^{2}}{(\\partial Y)^{2}}\\xi\\left(Y, x\\right)$$"
      ],
      "text/plain": [
       "diff(xi(Y, x), Y, Y)"
      ]
     },
     "metadata": {},
     "output_type": "display_data"
    },
    {
     "name": "stdout",
     "output_type": "stream",
     "text": [
      "after autoreduce\n"
     ]
    },
    {
     "data": {
      "text/html": [
       "<html>\\[\\newcommand{\\Bold}[1]{\\mathbf{#1}}-\\frac{Y \\frac{\\partial}{\\partial Y}\\phi\\left(Y, x\\right)}{x^{2}} + \\frac{2 \\, Y \\frac{\\partial}{\\partial x}\\xi\\left(Y, x\\right)}{x^{2}} + \\frac{\\phi\\left(Y, x\\right)}{x^{2}} - \\frac{2 \\, Y \\xi\\left(Y, x\\right)}{x^{3}} + \\frac{\\partial^{2}}{(\\partial x)^{2}}\\phi\\left(Y, x\\right)\\]</html>"
      ],
      "text/latex": [
       "$$\\newcommand{\\Bold}[1]{\\mathbf{#1}}-\\frac{Y \\frac{\\partial}{\\partial Y}\\phi\\left(Y, x\\right)}{x^{2}} + \\frac{2 \\, Y \\frac{\\partial}{\\partial x}\\xi\\left(Y, x\\right)}{x^{2}} + \\frac{\\phi\\left(Y, x\\right)}{x^{2}} - \\frac{2 \\, Y \\xi\\left(Y, x\\right)}{x^{3}} + \\frac{\\partial^{2}}{(\\partial x)^{2}}\\phi\\left(Y, x\\right)$$"
      ],
      "text/plain": [
       "-Y*diff(phi(Y, x), Y)/x^2 + 2*Y*diff(xi(Y, x), x)/x^2 + phi(Y, x)/x^2 - 2*Y*xi(Y, x)/x^3 + diff(phi(Y, x), x, x)"
      ]
     },
     "metadata": {},
     "output_type": "display_data"
    },
    {
     "data": {
      "text/html": [
       "<html>\\[\\newcommand{\\Bold}[1]{\\mathbf{#1}}-\\frac{1}{2} \\, x^{2} \\frac{\\partial}{\\partial x}\\phi\\left(Y, x\\right) - \\frac{3 \\, Y \\frac{\\partial}{\\partial Y}\\xi\\left(Y, x\\right)}{x^{2}} - 2 \\, \\frac{\\partial^{2}}{\\partial Y\\partial x}\\phi\\left(Y, x\\right) + \\frac{\\partial^{2}}{(\\partial x)^{2}}\\xi\\left(Y, x\\right)\\]</html>"
      ],
      "text/latex": [
       "$$\\newcommand{\\Bold}[1]{\\mathbf{#1}}-\\frac{1}{2} \\, x^{2} \\frac{\\partial}{\\partial x}\\phi\\left(Y, x\\right) - \\frac{3 \\, Y \\frac{\\partial}{\\partial Y}\\xi\\left(Y, x\\right)}{x^{2}} - 2 \\, \\frac{\\partial^{2}}{\\partial Y\\partial x}\\phi\\left(Y, x\\right) + \\frac{\\partial^{2}}{(\\partial x)^{2}}\\xi\\left(Y, x\\right)$$"
      ],
      "text/plain": [
       "-1/2*x^2*diff(phi(Y, x), x) - 3*Y*diff(xi(Y, x), Y)/x^2 - 2*diff(phi(Y, x), Y, x) + diff(xi(Y, x), x, x)"
      ]
     },
     "metadata": {},
     "output_type": "display_data"
    },
    {
     "data": {
      "text/html": [
       "<html>\\[\\newcommand{\\Bold}[1]{\\mathbf{#1}}-\\frac{1}{8} \\, x^{2} \\frac{\\partial}{\\partial Y}\\phi\\left(Y, x\\right) - \\frac{1}{4} \\, x \\xi\\left(Y, x\\right) - \\frac{1}{2} \\, \\frac{\\partial^{2}}{(\\partial Y)^{2}}\\phi\\left(Y, x\\right) + \\frac{\\partial^{2}}{\\partial Y\\partial x}\\xi\\left(Y, x\\right)\\]</html>"
      ],
      "text/latex": [
       "$$\\newcommand{\\Bold}[1]{\\mathbf{#1}}-\\frac{1}{8} \\, x^{2} \\frac{\\partial}{\\partial Y}\\phi\\left(Y, x\\right) - \\frac{1}{4} \\, x \\xi\\left(Y, x\\right) - \\frac{1}{2} \\, \\frac{\\partial^{2}}{(\\partial Y)^{2}}\\phi\\left(Y, x\\right) + \\frac{\\partial^{2}}{\\partial Y\\partial x}\\xi\\left(Y, x\\right)$$"
      ],
      "text/plain": [
       "-1/8*x^2*diff(phi(Y, x), Y) - 1/4*x*xi(Y, x) - 1/2*diff(phi(Y, x), Y, Y) + diff(xi(Y, x), Y, x)"
      ]
     },
     "metadata": {},
     "output_type": "display_data"
    },
    {
     "data": {
      "text/html": [
       "<html>\\[\\newcommand{\\Bold}[1]{\\mathbf{#1}}-\\frac{1}{4} \\, x^{2} \\frac{\\partial}{\\partial Y}\\xi\\left(Y, x\\right) + \\frac{\\partial^{2}}{(\\partial Y)^{2}}\\xi\\left(Y, x\\right)\\]</html>"
      ],
      "text/latex": [
       "$$\\newcommand{\\Bold}[1]{\\mathbf{#1}}-\\frac{1}{4} \\, x^{2} \\frac{\\partial}{\\partial Y}\\xi\\left(Y, x\\right) + \\frac{\\partial^{2}}{(\\partial Y)^{2}}\\xi\\left(Y, x\\right)$$"
      ],
      "text/plain": [
       "-1/4*x^2*diff(xi(Y, x), Y) + diff(xi(Y, x), Y, Y)"
      ]
     },
     "metadata": {},
     "output_type": "display_data"
    },
    {
     "data": {
      "text/html": [
       "<html>\\[\\newcommand{\\Bold}[1]{\\mathbf{#1}}\\frac{\\partial^{2}}{(\\partial x)^{2}}\\phi\\left(Y, x\\right)\\]</html>"
      ],
      "text/latex": [
       "$$\\newcommand{\\Bold}[1]{\\mathbf{#1}}\\frac{\\partial^{2}}{(\\partial x)^{2}}\\phi\\left(Y, x\\right)$$"
      ],
      "text/plain": [
       "diff(phi(Y, x), x, x)"
      ]
     },
     "metadata": {},
     "output_type": "display_data"
    },
    {
     "data": {
      "text/html": [
       "<html>\\[\\newcommand{\\Bold}[1]{\\mathbf{#1}}\\frac{\\partial^{2}}{(\\partial x)^{2}}\\xi\\left(Y, x\\right)\\]</html>"
      ],
      "text/latex": [
       "$$\\newcommand{\\Bold}[1]{\\mathbf{#1}}\\frac{\\partial^{2}}{(\\partial x)^{2}}\\xi\\left(Y, x\\right)$$"
      ],
      "text/plain": [
       "diff(xi(Y, x), x, x)"
      ]
     },
     "metadata": {},
     "output_type": "display_data"
    },
    {
     "data": {
      "text/html": [
       "<html>\\[\\newcommand{\\Bold}[1]{\\mathbf{#1}}\\frac{\\partial^{2}}{\\partial Y\\partial x}\\xi\\left(Y, x\\right)\\]</html>"
      ],
      "text/latex": [
       "$$\\newcommand{\\Bold}[1]{\\mathbf{#1}}\\frac{\\partial^{2}}{\\partial Y\\partial x}\\xi\\left(Y, x\\right)$$"
      ],
      "text/plain": [
       "diff(xi(Y, x), Y, x)"
      ]
     },
     "metadata": {},
     "output_type": "display_data"
    },
    {
     "data": {
      "text/html": [
       "<html>\\[\\newcommand{\\Bold}[1]{\\mathbf{#1}}\\frac{\\partial^{2}}{(\\partial Y)^{2}}\\xi\\left(Y, x\\right)\\]</html>"
      ],
      "text/latex": [
       "$$\\newcommand{\\Bold}[1]{\\mathbf{#1}}\\frac{\\partial^{2}}{(\\partial Y)^{2}}\\xi\\left(Y, x\\right)$$"
      ],
      "text/plain": [
       "diff(xi(Y, x), Y, Y)"
      ]
     },
     "metadata": {},
     "output_type": "display_data"
    },
    {
     "name": "stdout",
     "output_type": "stream",
     "text": [
      "after complete system\n"
     ]
    },
    {
     "data": {
      "text/html": [
       "<html>\\[\\newcommand{\\Bold}[1]{\\mathbf{#1}}-\\frac{Y \\frac{\\partial}{\\partial Y}\\phi\\left(Y, x\\right)}{x^{2}} + \\frac{2 \\, Y \\frac{\\partial}{\\partial x}\\xi\\left(Y, x\\right)}{x^{2}} + \\frac{\\phi\\left(Y, x\\right)}{x^{2}} - \\frac{2 \\, Y \\xi\\left(Y, x\\right)}{x^{3}} + \\frac{\\partial^{2}}{(\\partial x)^{2}}\\phi\\left(Y, x\\right)\\]</html>"
      ],
      "text/latex": [
       "$$\\newcommand{\\Bold}[1]{\\mathbf{#1}}-\\frac{Y \\frac{\\partial}{\\partial Y}\\phi\\left(Y, x\\right)}{x^{2}} + \\frac{2 \\, Y \\frac{\\partial}{\\partial x}\\xi\\left(Y, x\\right)}{x^{2}} + \\frac{\\phi\\left(Y, x\\right)}{x^{2}} - \\frac{2 \\, Y \\xi\\left(Y, x\\right)}{x^{3}} + \\frac{\\partial^{2}}{(\\partial x)^{2}}\\phi\\left(Y, x\\right)$$"
      ],
      "text/plain": [
       "-Y*diff(phi(Y, x), Y)/x^2 + 2*Y*diff(xi(Y, x), x)/x^2 + phi(Y, x)/x^2 - 2*Y*xi(Y, x)/x^3 + diff(phi(Y, x), x, x)"
      ]
     },
     "metadata": {},
     "output_type": "display_data"
    },
    {
     "data": {
      "text/html": [
       "<html>\\[\\newcommand{\\Bold}[1]{\\mathbf{#1}}-\\frac{1}{2} \\, x^{2} \\frac{\\partial}{\\partial x}\\phi\\left(Y, x\\right) - \\frac{3 \\, Y \\frac{\\partial}{\\partial Y}\\xi\\left(Y, x\\right)}{x^{2}} - 2 \\, \\frac{\\partial^{2}}{\\partial Y\\partial x}\\phi\\left(Y, x\\right) + \\frac{\\partial^{2}}{(\\partial x)^{2}}\\xi\\left(Y, x\\right)\\]</html>"
      ],
      "text/latex": [
       "$$\\newcommand{\\Bold}[1]{\\mathbf{#1}}-\\frac{1}{2} \\, x^{2} \\frac{\\partial}{\\partial x}\\phi\\left(Y, x\\right) - \\frac{3 \\, Y \\frac{\\partial}{\\partial Y}\\xi\\left(Y, x\\right)}{x^{2}} - 2 \\, \\frac{\\partial^{2}}{\\partial Y\\partial x}\\phi\\left(Y, x\\right) + \\frac{\\partial^{2}}{(\\partial x)^{2}}\\xi\\left(Y, x\\right)$$"
      ],
      "text/plain": [
       "-1/2*x^2*diff(phi(Y, x), x) - 3*Y*diff(xi(Y, x), Y)/x^2 - 2*diff(phi(Y, x), Y, x) + diff(xi(Y, x), x, x)"
      ]
     },
     "metadata": {},
     "output_type": "display_data"
    },
    {
     "data": {
      "text/html": [
       "<html>\\[\\newcommand{\\Bold}[1]{\\mathbf{#1}}-\\frac{1}{8} \\, x^{2} \\frac{\\partial}{\\partial Y}\\phi\\left(Y, x\\right) - \\frac{1}{4} \\, x \\xi\\left(Y, x\\right) - \\frac{1}{2} \\, \\frac{\\partial^{2}}{(\\partial Y)^{2}}\\phi\\left(Y, x\\right) + \\frac{\\partial^{2}}{\\partial Y\\partial x}\\xi\\left(Y, x\\right)\\]</html>"
      ],
      "text/latex": [
       "$$\\newcommand{\\Bold}[1]{\\mathbf{#1}}-\\frac{1}{8} \\, x^{2} \\frac{\\partial}{\\partial Y}\\phi\\left(Y, x\\right) - \\frac{1}{4} \\, x \\xi\\left(Y, x\\right) - \\frac{1}{2} \\, \\frac{\\partial^{2}}{(\\partial Y)^{2}}\\phi\\left(Y, x\\right) + \\frac{\\partial^{2}}{\\partial Y\\partial x}\\xi\\left(Y, x\\right)$$"
      ],
      "text/plain": [
       "-1/8*x^2*diff(phi(Y, x), Y) - 1/4*x*xi(Y, x) - 1/2*diff(phi(Y, x), Y, Y) + diff(xi(Y, x), Y, x)"
      ]
     },
     "metadata": {},
     "output_type": "display_data"
    },
    {
     "data": {
      "text/html": [
       "<html>\\[\\newcommand{\\Bold}[1]{\\mathbf{#1}}-\\frac{1}{4} \\, x^{2} \\frac{\\partial}{\\partial Y}\\xi\\left(Y, x\\right) + \\frac{\\partial^{2}}{(\\partial Y)^{2}}\\xi\\left(Y, x\\right)\\]</html>"
      ],
      "text/latex": [
       "$$\\newcommand{\\Bold}[1]{\\mathbf{#1}}-\\frac{1}{4} \\, x^{2} \\frac{\\partial}{\\partial Y}\\xi\\left(Y, x\\right) + \\frac{\\partial^{2}}{(\\partial Y)^{2}}\\xi\\left(Y, x\\right)$$"
      ],
      "text/plain": [
       "-1/4*x^2*diff(xi(Y, x), Y) + diff(xi(Y, x), Y, Y)"
      ]
     },
     "metadata": {},
     "output_type": "display_data"
    },
    {
     "name": "stdout",
     "output_type": "stream",
     "text": [
      "After conditions\n"
     ]
    },
    {
     "data": {
      "text/html": [
       "<html>\\[\\newcommand{\\Bold}[1]{\\mathbf{#1}}-\\frac{Y \\frac{\\partial}{\\partial Y}\\phi\\left(Y, x\\right)}{x^{2}} + \\frac{2 \\, Y \\frac{\\partial}{\\partial x}\\xi\\left(Y, x\\right)}{x^{2}} + \\frac{\\phi\\left(Y, x\\right)}{x^{2}} - \\frac{2 \\, Y \\xi\\left(Y, x\\right)}{x^{3}} + \\frac{\\partial^{2}}{(\\partial x)^{2}}\\phi\\left(Y, x\\right)\\]</html>"
      ],
      "text/latex": [
       "$$\\newcommand{\\Bold}[1]{\\mathbf{#1}}-\\frac{Y \\frac{\\partial}{\\partial Y}\\phi\\left(Y, x\\right)}{x^{2}} + \\frac{2 \\, Y \\frac{\\partial}{\\partial x}\\xi\\left(Y, x\\right)}{x^{2}} + \\frac{\\phi\\left(Y, x\\right)}{x^{2}} - \\frac{2 \\, Y \\xi\\left(Y, x\\right)}{x^{3}} + \\frac{\\partial^{2}}{(\\partial x)^{2}}\\phi\\left(Y, x\\right)$$"
      ],
      "text/plain": [
       "-Y*diff(phi(Y, x), Y)/x^2 + 2*Y*diff(xi(Y, x), x)/x^2 + phi(Y, x)/x^2 - 2*Y*xi(Y, x)/x^3 + diff(phi(Y, x), x, x)"
      ]
     },
     "metadata": {},
     "output_type": "display_data"
    },
    {
     "data": {
      "text/html": [
       "<html>\\[\\newcommand{\\Bold}[1]{\\mathbf{#1}}-\\frac{1}{2} \\, x^{2} \\frac{\\partial}{\\partial x}\\phi\\left(Y, x\\right) - \\frac{3 \\, Y \\frac{\\partial}{\\partial Y}\\xi\\left(Y, x\\right)}{x^{2}} - 2 \\, \\frac{\\partial^{2}}{\\partial Y\\partial x}\\phi\\left(Y, x\\right) + \\frac{\\partial^{2}}{(\\partial x)^{2}}\\xi\\left(Y, x\\right)\\]</html>"
      ],
      "text/latex": [
       "$$\\newcommand{\\Bold}[1]{\\mathbf{#1}}-\\frac{1}{2} \\, x^{2} \\frac{\\partial}{\\partial x}\\phi\\left(Y, x\\right) - \\frac{3 \\, Y \\frac{\\partial}{\\partial Y}\\xi\\left(Y, x\\right)}{x^{2}} - 2 \\, \\frac{\\partial^{2}}{\\partial Y\\partial x}\\phi\\left(Y, x\\right) + \\frac{\\partial^{2}}{(\\partial x)^{2}}\\xi\\left(Y, x\\right)$$"
      ],
      "text/plain": [
       "-1/2*x^2*diff(phi(Y, x), x) - 3*Y*diff(xi(Y, x), Y)/x^2 - 2*diff(phi(Y, x), Y, x) + diff(xi(Y, x), x, x)"
      ]
     },
     "metadata": {},
     "output_type": "display_data"
    },
    {
     "data": {
      "text/html": [
       "<html>\\[\\newcommand{\\Bold}[1]{\\mathbf{#1}}-\\frac{1}{8} \\, x^{2} \\frac{\\partial}{\\partial Y}\\phi\\left(Y, x\\right) - \\frac{1}{4} \\, x \\xi\\left(Y, x\\right) - \\frac{1}{2} \\, \\frac{\\partial^{2}}{(\\partial Y)^{2}}\\phi\\left(Y, x\\right) + \\frac{\\partial^{2}}{\\partial Y\\partial x}\\xi\\left(Y, x\\right)\\]</html>"
      ],
      "text/latex": [
       "$$\\newcommand{\\Bold}[1]{\\mathbf{#1}}-\\frac{1}{8} \\, x^{2} \\frac{\\partial}{\\partial Y}\\phi\\left(Y, x\\right) - \\frac{1}{4} \\, x \\xi\\left(Y, x\\right) - \\frac{1}{2} \\, \\frac{\\partial^{2}}{(\\partial Y)^{2}}\\phi\\left(Y, x\\right) + \\frac{\\partial^{2}}{\\partial Y\\partial x}\\xi\\left(Y, x\\right)$$"
      ],
      "text/plain": [
       "-1/8*x^2*diff(phi(Y, x), Y) - 1/4*x*xi(Y, x) - 1/2*diff(phi(Y, x), Y, Y) + diff(xi(Y, x), Y, x)"
      ]
     },
     "metadata": {},
     "output_type": "display_data"
    },
    {
     "data": {
      "text/html": [
       "<html>\\[\\newcommand{\\Bold}[1]{\\mathbf{#1}}-\\frac{1}{4} \\, x^{2} \\frac{\\partial}{\\partial Y}\\xi\\left(Y, x\\right) + \\frac{\\partial^{2}}{(\\partial Y)^{2}}\\xi\\left(Y, x\\right)\\]</html>"
      ],
      "text/latex": [
       "$$\\newcommand{\\Bold}[1]{\\mathbf{#1}}-\\frac{1}{4} \\, x^{2} \\frac{\\partial}{\\partial Y}\\xi\\left(Y, x\\right) + \\frac{\\partial^{2}}{(\\partial Y)^{2}}\\xi\\left(Y, x\\right)$$"
      ],
      "text/plain": [
       "-1/4*x^2*diff(xi(Y, x), Y) + diff(xi(Y, x), Y, Y)"
      ]
     },
     "metadata": {},
     "output_type": "display_data"
    },
    {
     "name": "stdout",
     "output_type": "stream",
     "text": [
      "This is where we start\n"
     ]
    },
    {
     "data": {
      "text/html": [
       "<html>\\[\\newcommand{\\Bold}[1]{\\mathbf{#1}}-\\frac{Y \\frac{\\partial}{\\partial Y}\\phi\\left(Y, x\\right)}{x^{2}} + \\frac{2 \\, Y \\frac{\\partial}{\\partial x}\\xi\\left(Y, x\\right)}{x^{2}} + \\frac{\\phi\\left(Y, x\\right)}{x^{2}} - \\frac{2 \\, Y \\xi\\left(Y, x\\right)}{x^{3}} + \\frac{\\partial^{2}}{(\\partial x)^{2}}\\phi\\left(Y, x\\right)\\]</html>"
      ],
      "text/latex": [
       "$$\\newcommand{\\Bold}[1]{\\mathbf{#1}}-\\frac{Y \\frac{\\partial}{\\partial Y}\\phi\\left(Y, x\\right)}{x^{2}} + \\frac{2 \\, Y \\frac{\\partial}{\\partial x}\\xi\\left(Y, x\\right)}{x^{2}} + \\frac{\\phi\\left(Y, x\\right)}{x^{2}} - \\frac{2 \\, Y \\xi\\left(Y, x\\right)}{x^{3}} + \\frac{\\partial^{2}}{(\\partial x)^{2}}\\phi\\left(Y, x\\right)$$"
      ],
      "text/plain": [
       "-Y*diff(phi(Y, x), Y)/x^2 + 2*Y*diff(xi(Y, x), x)/x^2 + phi(Y, x)/x^2 - 2*Y*xi(Y, x)/x^3 + diff(phi(Y, x), x, x)"
      ]
     },
     "metadata": {},
     "output_type": "display_data"
    },
    {
     "data": {
      "text/html": [
       "<html>\\[\\newcommand{\\Bold}[1]{\\mathbf{#1}}-\\frac{1}{2} \\, x^{2} \\frac{\\partial}{\\partial x}\\phi\\left(Y, x\\right) - \\frac{3 \\, Y \\frac{\\partial}{\\partial Y}\\xi\\left(Y, x\\right)}{x^{2}} - 2 \\, \\frac{\\partial^{2}}{\\partial Y\\partial x}\\phi\\left(Y, x\\right) + \\frac{\\partial^{2}}{(\\partial x)^{2}}\\xi\\left(Y, x\\right)\\]</html>"
      ],
      "text/latex": [
       "$$\\newcommand{\\Bold}[1]{\\mathbf{#1}}-\\frac{1}{2} \\, x^{2} \\frac{\\partial}{\\partial x}\\phi\\left(Y, x\\right) - \\frac{3 \\, Y \\frac{\\partial}{\\partial Y}\\xi\\left(Y, x\\right)}{x^{2}} - 2 \\, \\frac{\\partial^{2}}{\\partial Y\\partial x}\\phi\\left(Y, x\\right) + \\frac{\\partial^{2}}{(\\partial x)^{2}}\\xi\\left(Y, x\\right)$$"
      ],
      "text/plain": [
       "-1/2*x^2*diff(phi(Y, x), x) - 3*Y*diff(xi(Y, x), Y)/x^2 - 2*diff(phi(Y, x), Y, x) + diff(xi(Y, x), x, x)"
      ]
     },
     "metadata": {},
     "output_type": "display_data"
    },
    {
     "data": {
      "text/html": [
       "<html>\\[\\newcommand{\\Bold}[1]{\\mathbf{#1}}-\\frac{1}{8} \\, x^{2} \\frac{\\partial}{\\partial Y}\\phi\\left(Y, x\\right) - \\frac{1}{4} \\, x \\xi\\left(Y, x\\right) - \\frac{1}{2} \\, \\frac{\\partial^{2}}{(\\partial Y)^{2}}\\phi\\left(Y, x\\right) + \\frac{\\partial^{2}}{\\partial Y\\partial x}\\xi\\left(Y, x\\right)\\]</html>"
      ],
      "text/latex": [
       "$$\\newcommand{\\Bold}[1]{\\mathbf{#1}}-\\frac{1}{8} \\, x^{2} \\frac{\\partial}{\\partial Y}\\phi\\left(Y, x\\right) - \\frac{1}{4} \\, x \\xi\\left(Y, x\\right) - \\frac{1}{2} \\, \\frac{\\partial^{2}}{(\\partial Y)^{2}}\\phi\\left(Y, x\\right) + \\frac{\\partial^{2}}{\\partial Y\\partial x}\\xi\\left(Y, x\\right)$$"
      ],
      "text/plain": [
       "-1/8*x^2*diff(phi(Y, x), Y) - 1/4*x*xi(Y, x) - 1/2*diff(phi(Y, x), Y, Y) + diff(xi(Y, x), Y, x)"
      ]
     },
     "metadata": {},
     "output_type": "display_data"
    },
    {
     "data": {
      "text/html": [
       "<html>\\[\\newcommand{\\Bold}[1]{\\mathbf{#1}}-\\frac{1}{4} \\, x^{2} \\frac{\\partial}{\\partial Y}\\xi\\left(Y, x\\right) + \\frac{\\partial^{2}}{(\\partial Y)^{2}}\\xi\\left(Y, x\\right)\\]</html>"
      ],
      "text/latex": [
       "$$\\newcommand{\\Bold}[1]{\\mathbf{#1}}-\\frac{1}{4} \\, x^{2} \\frac{\\partial}{\\partial Y}\\xi\\left(Y, x\\right) + \\frac{\\partial^{2}}{(\\partial Y)^{2}}\\xi\\left(Y, x\\right)$$"
      ],
      "text/plain": [
       "-1/4*x^2*diff(xi(Y, x), Y) + diff(xi(Y, x), Y, Y)"
      ]
     },
     "metadata": {},
     "output_type": "display_data"
    },
    {
     "data": {
      "text/html": [
       "<html>\\[\\newcommand{\\Bold}[1]{\\mathbf{#1}}\\frac{1}{4} \\, x^{2} \\frac{\\partial^{2}}{\\partial Y\\partial x}\\phi\\left(Y, x\\right) - \\frac{1}{6} \\, x \\frac{\\partial}{\\partial Y}\\phi\\left(Y, x\\right) + \\frac{1}{2} \\, Y \\frac{\\partial}{\\partial Y}\\xi\\left(Y, x\\right) - \\frac{1}{6} \\, x \\frac{\\partial}{\\partial x}\\xi\\left(Y, x\\right) - \\frac{1}{6} \\, \\xi\\left(Y, x\\right) + \\frac{\\partial^{3}}{(\\partial Y)^{2}\\partial x}\\phi\\left(Y, x\\right)\\]</html>"
      ],
      "text/latex": [
       "$$\\newcommand{\\Bold}[1]{\\mathbf{#1}}\\frac{1}{4} \\, x^{2} \\frac{\\partial^{2}}{\\partial Y\\partial x}\\phi\\left(Y, x\\right) - \\frac{1}{6} \\, x \\frac{\\partial}{\\partial Y}\\phi\\left(Y, x\\right) + \\frac{1}{2} \\, Y \\frac{\\partial}{\\partial Y}\\xi\\left(Y, x\\right) - \\frac{1}{6} \\, x \\frac{\\partial}{\\partial x}\\xi\\left(Y, x\\right) - \\frac{1}{6} \\, \\xi\\left(Y, x\\right) + \\frac{\\partial^{3}}{(\\partial Y)^{2}\\partial x}\\phi\\left(Y, x\\right)$$"
      ],
      "text/plain": [
       "1/4*x^2*diff(phi(Y, x), Y, x) - 1/6*x*diff(phi(Y, x), Y) + 1/2*Y*diff(xi(Y, x), Y) - 1/6*x*diff(xi(Y, x), x) - 1/6*xi(Y, x) + diff(phi(Y, x), Y, Y, x)"
      ]
     },
     "metadata": {},
     "output_type": "display_data"
    },
    {
     "data": {
      "text/html": [
       "<html>\\[\\newcommand{\\Bold}[1]{\\mathbf{#1}}-\\frac{1}{16} \\, x^{4} \\frac{\\partial}{\\partial Y}\\phi\\left(Y, x\\right) - \\frac{1}{8} \\, x^{3} \\xi\\left(Y, x\\right) - \\frac{1}{2} \\, x \\frac{\\partial}{\\partial Y}\\xi\\left(Y, x\\right) + \\frac{\\partial^{3}}{(\\partial Y)^{3}}\\phi\\left(Y, x\\right)\\]</html>"
      ],
      "text/latex": [
       "$$\\newcommand{\\Bold}[1]{\\mathbf{#1}}-\\frac{1}{16} \\, x^{4} \\frac{\\partial}{\\partial Y}\\phi\\left(Y, x\\right) - \\frac{1}{8} \\, x^{3} \\xi\\left(Y, x\\right) - \\frac{1}{2} \\, x \\frac{\\partial}{\\partial Y}\\xi\\left(Y, x\\right) + \\frac{\\partial^{3}}{(\\partial Y)^{3}}\\phi\\left(Y, x\\right)$$"
      ],
      "text/plain": [
       "-1/16*x^4*diff(phi(Y, x), Y) - 1/8*x^3*xi(Y, x) - 1/2*x*diff(xi(Y, x), Y) + diff(phi(Y, x), Y, Y, Y)"
      ]
     },
     "metadata": {},
     "output_type": "display_data"
    },
    {
     "data": {
      "text/html": [
       "<html>\\[\\newcommand{\\Bold}[1]{\\mathbf{#1}}\\frac{\\partial^{2}}{(\\partial x)^{2}}\\phi\\left(Y, x\\right)\\]</html>"
      ],
      "text/latex": [
       "$$\\newcommand{\\Bold}[1]{\\mathbf{#1}}\\frac{\\partial^{2}}{(\\partial x)^{2}}\\phi\\left(Y, x\\right)$$"
      ],
      "text/plain": [
       "diff(phi(Y, x), x, x)"
      ]
     },
     "metadata": {},
     "output_type": "display_data"
    },
    {
     "data": {
      "text/html": [
       "<html>\\[\\newcommand{\\Bold}[1]{\\mathbf{#1}}\\frac{\\partial^{2}}{(\\partial x)^{2}}\\xi\\left(Y, x\\right)\\]</html>"
      ],
      "text/latex": [
       "$$\\newcommand{\\Bold}[1]{\\mathbf{#1}}\\frac{\\partial^{2}}{(\\partial x)^{2}}\\xi\\left(Y, x\\right)$$"
      ],
      "text/plain": [
       "diff(xi(Y, x), x, x)"
      ]
     },
     "metadata": {},
     "output_type": "display_data"
    },
    {
     "data": {
      "text/html": [
       "<html>\\[\\newcommand{\\Bold}[1]{\\mathbf{#1}}\\frac{\\partial^{2}}{\\partial Y\\partial x}\\xi\\left(Y, x\\right)\\]</html>"
      ],
      "text/latex": [
       "$$\\newcommand{\\Bold}[1]{\\mathbf{#1}}\\frac{\\partial^{2}}{\\partial Y\\partial x}\\xi\\left(Y, x\\right)$$"
      ],
      "text/plain": [
       "diff(xi(Y, x), Y, x)"
      ]
     },
     "metadata": {},
     "output_type": "display_data"
    },
    {
     "data": {
      "text/html": [
       "<html>\\[\\newcommand{\\Bold}[1]{\\mathbf{#1}}\\frac{\\partial^{2}}{(\\partial Y)^{2}}\\xi\\left(Y, x\\right)\\]</html>"
      ],
      "text/latex": [
       "$$\\newcommand{\\Bold}[1]{\\mathbf{#1}}\\frac{\\partial^{2}}{(\\partial Y)^{2}}\\xi\\left(Y, x\\right)$$"
      ],
      "text/plain": [
       "diff(xi(Y, x), Y, Y)"
      ]
     },
     "metadata": {},
     "output_type": "display_data"
    },
    {
     "data": {
      "text/html": [
       "<html>\\[\\newcommand{\\Bold}[1]{\\mathbf{#1}}\\frac{\\partial^{3}}{(\\partial Y)^{2}\\partial x}\\phi\\left(Y, x\\right)\\]</html>"
      ],
      "text/latex": [
       "$$\\newcommand{\\Bold}[1]{\\mathbf{#1}}\\frac{\\partial^{3}}{(\\partial Y)^{2}\\partial x}\\phi\\left(Y, x\\right)$$"
      ],
      "text/plain": [
       "diff(phi(Y, x), Y, Y, x)"
      ]
     },
     "metadata": {},
     "output_type": "display_data"
    },
    {
     "data": {
      "text/html": [
       "<html>\\[\\newcommand{\\Bold}[1]{\\mathbf{#1}}\\frac{\\partial^{3}}{(\\partial Y)^{3}}\\phi\\left(Y, x\\right)\\]</html>"
      ],
      "text/latex": [
       "$$\\newcommand{\\Bold}[1]{\\mathbf{#1}}\\frac{\\partial^{3}}{(\\partial Y)^{3}}\\phi\\left(Y, x\\right)$$"
      ],
      "text/plain": [
       "diff(phi(Y, x), Y, Y, Y)"
      ]
     },
     "metadata": {},
     "output_type": "display_data"
    },
    {
     "name": "stdout",
     "output_type": "stream",
     "text": [
      "after autoreduce\n"
     ]
    },
    {
     "data": {
      "text/html": [
       "<html>\\[\\newcommand{\\Bold}[1]{\\mathbf{#1}}-\\frac{Y \\frac{\\partial}{\\partial Y}\\phi\\left(Y, x\\right)}{x^{2}} + \\frac{2 \\, Y \\frac{\\partial}{\\partial x}\\xi\\left(Y, x\\right)}{x^{2}} + \\frac{\\phi\\left(Y, x\\right)}{x^{2}} - \\frac{2 \\, Y \\xi\\left(Y, x\\right)}{x^{3}} + \\frac{\\partial^{2}}{(\\partial x)^{2}}\\phi\\left(Y, x\\right)\\]</html>"
      ],
      "text/latex": [
       "$$\\newcommand{\\Bold}[1]{\\mathbf{#1}}-\\frac{Y \\frac{\\partial}{\\partial Y}\\phi\\left(Y, x\\right)}{x^{2}} + \\frac{2 \\, Y \\frac{\\partial}{\\partial x}\\xi\\left(Y, x\\right)}{x^{2}} + \\frac{\\phi\\left(Y, x\\right)}{x^{2}} - \\frac{2 \\, Y \\xi\\left(Y, x\\right)}{x^{3}} + \\frac{\\partial^{2}}{(\\partial x)^{2}}\\phi\\left(Y, x\\right)$$"
      ],
      "text/plain": [
       "-Y*diff(phi(Y, x), Y)/x^2 + 2*Y*diff(xi(Y, x), x)/x^2 + phi(Y, x)/x^2 - 2*Y*xi(Y, x)/x^3 + diff(phi(Y, x), x, x)"
      ]
     },
     "metadata": {},
     "output_type": "display_data"
    },
    {
     "data": {
      "text/html": [
       "<html>\\[\\newcommand{\\Bold}[1]{\\mathbf{#1}}-\\frac{1}{2} \\, x^{2} \\frac{\\partial}{\\partial x}\\phi\\left(Y, x\\right) - \\frac{3 \\, Y \\frac{\\partial}{\\partial Y}\\xi\\left(Y, x\\right)}{x^{2}} - 2 \\, \\frac{\\partial^{2}}{\\partial Y\\partial x}\\phi\\left(Y, x\\right) + \\frac{\\partial^{2}}{(\\partial x)^{2}}\\xi\\left(Y, x\\right)\\]</html>"
      ],
      "text/latex": [
       "$$\\newcommand{\\Bold}[1]{\\mathbf{#1}}-\\frac{1}{2} \\, x^{2} \\frac{\\partial}{\\partial x}\\phi\\left(Y, x\\right) - \\frac{3 \\, Y \\frac{\\partial}{\\partial Y}\\xi\\left(Y, x\\right)}{x^{2}} - 2 \\, \\frac{\\partial^{2}}{\\partial Y\\partial x}\\phi\\left(Y, x\\right) + \\frac{\\partial^{2}}{(\\partial x)^{2}}\\xi\\left(Y, x\\right)$$"
      ],
      "text/plain": [
       "-1/2*x^2*diff(phi(Y, x), x) - 3*Y*diff(xi(Y, x), Y)/x^2 - 2*diff(phi(Y, x), Y, x) + diff(xi(Y, x), x, x)"
      ]
     },
     "metadata": {},
     "output_type": "display_data"
    },
    {
     "data": {
      "text/html": [
       "<html>\\[\\newcommand{\\Bold}[1]{\\mathbf{#1}}-\\frac{1}{8} \\, x^{2} \\frac{\\partial}{\\partial Y}\\phi\\left(Y, x\\right) - \\frac{1}{4} \\, x \\xi\\left(Y, x\\right) - \\frac{1}{2} \\, \\frac{\\partial^{2}}{(\\partial Y)^{2}}\\phi\\left(Y, x\\right) + \\frac{\\partial^{2}}{\\partial Y\\partial x}\\xi\\left(Y, x\\right)\\]</html>"
      ],
      "text/latex": [
       "$$\\newcommand{\\Bold}[1]{\\mathbf{#1}}-\\frac{1}{8} \\, x^{2} \\frac{\\partial}{\\partial Y}\\phi\\left(Y, x\\right) - \\frac{1}{4} \\, x \\xi\\left(Y, x\\right) - \\frac{1}{2} \\, \\frac{\\partial^{2}}{(\\partial Y)^{2}}\\phi\\left(Y, x\\right) + \\frac{\\partial^{2}}{\\partial Y\\partial x}\\xi\\left(Y, x\\right)$$"
      ],
      "text/plain": [
       "-1/8*x^2*diff(phi(Y, x), Y) - 1/4*x*xi(Y, x) - 1/2*diff(phi(Y, x), Y, Y) + diff(xi(Y, x), Y, x)"
      ]
     },
     "metadata": {},
     "output_type": "display_data"
    },
    {
     "data": {
      "text/html": [
       "<html>\\[\\newcommand{\\Bold}[1]{\\mathbf{#1}}-\\frac{1}{4} \\, x^{2} \\frac{\\partial}{\\partial Y}\\xi\\left(Y, x\\right) + \\frac{\\partial^{2}}{(\\partial Y)^{2}}\\xi\\left(Y, x\\right)\\]</html>"
      ],
      "text/latex": [
       "$$\\newcommand{\\Bold}[1]{\\mathbf{#1}}-\\frac{1}{4} \\, x^{2} \\frac{\\partial}{\\partial Y}\\xi\\left(Y, x\\right) + \\frac{\\partial^{2}}{(\\partial Y)^{2}}\\xi\\left(Y, x\\right)$$"
      ],
      "text/plain": [
       "-1/4*x^2*diff(xi(Y, x), Y) + diff(xi(Y, x), Y, Y)"
      ]
     },
     "metadata": {},
     "output_type": "display_data"
    },
    {
     "data": {
      "text/html": [
       "<html>\\[\\newcommand{\\Bold}[1]{\\mathbf{#1}}\\frac{1}{4} \\, x^{2} \\frac{\\partial^{2}}{\\partial Y\\partial x}\\phi\\left(Y, x\\right) - \\frac{1}{6} \\, x \\frac{\\partial}{\\partial Y}\\phi\\left(Y, x\\right) + \\frac{1}{2} \\, Y \\frac{\\partial}{\\partial Y}\\xi\\left(Y, x\\right) - \\frac{1}{6} \\, x \\frac{\\partial}{\\partial x}\\xi\\left(Y, x\\right) - \\frac{1}{6} \\, \\xi\\left(Y, x\\right) + \\frac{\\partial^{3}}{(\\partial Y)^{2}\\partial x}\\phi\\left(Y, x\\right)\\]</html>"
      ],
      "text/latex": [
       "$$\\newcommand{\\Bold}[1]{\\mathbf{#1}}\\frac{1}{4} \\, x^{2} \\frac{\\partial^{2}}{\\partial Y\\partial x}\\phi\\left(Y, x\\right) - \\frac{1}{6} \\, x \\frac{\\partial}{\\partial Y}\\phi\\left(Y, x\\right) + \\frac{1}{2} \\, Y \\frac{\\partial}{\\partial Y}\\xi\\left(Y, x\\right) - \\frac{1}{6} \\, x \\frac{\\partial}{\\partial x}\\xi\\left(Y, x\\right) - \\frac{1}{6} \\, \\xi\\left(Y, x\\right) + \\frac{\\partial^{3}}{(\\partial Y)^{2}\\partial x}\\phi\\left(Y, x\\right)$$"
      ],
      "text/plain": [
       "1/4*x^2*diff(phi(Y, x), Y, x) - 1/6*x*diff(phi(Y, x), Y) + 1/2*Y*diff(xi(Y, x), Y) - 1/6*x*diff(xi(Y, x), x) - 1/6*xi(Y, x) + diff(phi(Y, x), Y, Y, x)"
      ]
     },
     "metadata": {},
     "output_type": "display_data"
    },
    {
     "data": {
      "text/html": [
       "<html>\\[\\newcommand{\\Bold}[1]{\\mathbf{#1}}-\\frac{1}{16} \\, x^{4} \\frac{\\partial}{\\partial Y}\\phi\\left(Y, x\\right) - \\frac{1}{8} \\, x^{3} \\xi\\left(Y, x\\right) - \\frac{1}{2} \\, x \\frac{\\partial}{\\partial Y}\\xi\\left(Y, x\\right) + \\frac{\\partial^{3}}{(\\partial Y)^{3}}\\phi\\left(Y, x\\right)\\]</html>"
      ],
      "text/latex": [
       "$$\\newcommand{\\Bold}[1]{\\mathbf{#1}}-\\frac{1}{16} \\, x^{4} \\frac{\\partial}{\\partial Y}\\phi\\left(Y, x\\right) - \\frac{1}{8} \\, x^{3} \\xi\\left(Y, x\\right) - \\frac{1}{2} \\, x \\frac{\\partial}{\\partial Y}\\xi\\left(Y, x\\right) + \\frac{\\partial^{3}}{(\\partial Y)^{3}}\\phi\\left(Y, x\\right)$$"
      ],
      "text/plain": [
       "-1/16*x^4*diff(phi(Y, x), Y) - 1/8*x^3*xi(Y, x) - 1/2*x*diff(xi(Y, x), Y) + diff(phi(Y, x), Y, Y, Y)"
      ]
     },
     "metadata": {},
     "output_type": "display_data"
    },
    {
     "data": {
      "text/html": [
       "<html>\\[\\newcommand{\\Bold}[1]{\\mathbf{#1}}\\frac{\\partial^{2}}{(\\partial x)^{2}}\\phi\\left(Y, x\\right)\\]</html>"
      ],
      "text/latex": [
       "$$\\newcommand{\\Bold}[1]{\\mathbf{#1}}\\frac{\\partial^{2}}{(\\partial x)^{2}}\\phi\\left(Y, x\\right)$$"
      ],
      "text/plain": [
       "diff(phi(Y, x), x, x)"
      ]
     },
     "metadata": {},
     "output_type": "display_data"
    },
    {
     "data": {
      "text/html": [
       "<html>\\[\\newcommand{\\Bold}[1]{\\mathbf{#1}}\\frac{\\partial^{2}}{(\\partial x)^{2}}\\xi\\left(Y, x\\right)\\]</html>"
      ],
      "text/latex": [
       "$$\\newcommand{\\Bold}[1]{\\mathbf{#1}}\\frac{\\partial^{2}}{(\\partial x)^{2}}\\xi\\left(Y, x\\right)$$"
      ],
      "text/plain": [
       "diff(xi(Y, x), x, x)"
      ]
     },
     "metadata": {},
     "output_type": "display_data"
    },
    {
     "data": {
      "text/html": [
       "<html>\\[\\newcommand{\\Bold}[1]{\\mathbf{#1}}\\frac{\\partial^{2}}{\\partial Y\\partial x}\\xi\\left(Y, x\\right)\\]</html>"
      ],
      "text/latex": [
       "$$\\newcommand{\\Bold}[1]{\\mathbf{#1}}\\frac{\\partial^{2}}{\\partial Y\\partial x}\\xi\\left(Y, x\\right)$$"
      ],
      "text/plain": [
       "diff(xi(Y, x), Y, x)"
      ]
     },
     "metadata": {},
     "output_type": "display_data"
    },
    {
     "data": {
      "text/html": [
       "<html>\\[\\newcommand{\\Bold}[1]{\\mathbf{#1}}\\frac{\\partial^{2}}{(\\partial Y)^{2}}\\xi\\left(Y, x\\right)\\]</html>"
      ],
      "text/latex": [
       "$$\\newcommand{\\Bold}[1]{\\mathbf{#1}}\\frac{\\partial^{2}}{(\\partial Y)^{2}}\\xi\\left(Y, x\\right)$$"
      ],
      "text/plain": [
       "diff(xi(Y, x), Y, Y)"
      ]
     },
     "metadata": {},
     "output_type": "display_data"
    },
    {
     "data": {
      "text/html": [
       "<html>\\[\\newcommand{\\Bold}[1]{\\mathbf{#1}}\\frac{\\partial^{3}}{(\\partial Y)^{2}\\partial x}\\phi\\left(Y, x\\right)\\]</html>"
      ],
      "text/latex": [
       "$$\\newcommand{\\Bold}[1]{\\mathbf{#1}}\\frac{\\partial^{3}}{(\\partial Y)^{2}\\partial x}\\phi\\left(Y, x\\right)$$"
      ],
      "text/plain": [
       "diff(phi(Y, x), Y, Y, x)"
      ]
     },
     "metadata": {},
     "output_type": "display_data"
    },
    {
     "data": {
      "text/html": [
       "<html>\\[\\newcommand{\\Bold}[1]{\\mathbf{#1}}\\frac{\\partial^{3}}{(\\partial Y)^{3}}\\phi\\left(Y, x\\right)\\]</html>"
      ],
      "text/latex": [
       "$$\\newcommand{\\Bold}[1]{\\mathbf{#1}}\\frac{\\partial^{3}}{(\\partial Y)^{3}}\\phi\\left(Y, x\\right)$$"
      ],
      "text/plain": [
       "diff(phi(Y, x), Y, Y, Y)"
      ]
     },
     "metadata": {},
     "output_type": "display_data"
    },
    {
     "name": "stdout",
     "output_type": "stream",
     "text": [
      "after complete system\n"
     ]
    },
    {
     "data": {
      "text/html": [
       "<html>\\[\\newcommand{\\Bold}[1]{\\mathbf{#1}}-\\frac{Y \\frac{\\partial}{\\partial Y}\\phi\\left(Y, x\\right)}{x^{2}} + \\frac{2 \\, Y \\frac{\\partial}{\\partial x}\\xi\\left(Y, x\\right)}{x^{2}} + \\frac{\\phi\\left(Y, x\\right)}{x^{2}} - \\frac{2 \\, Y \\xi\\left(Y, x\\right)}{x^{3}} + \\frac{\\partial^{2}}{(\\partial x)^{2}}\\phi\\left(Y, x\\right)\\]</html>"
      ],
      "text/latex": [
       "$$\\newcommand{\\Bold}[1]{\\mathbf{#1}}-\\frac{Y \\frac{\\partial}{\\partial Y}\\phi\\left(Y, x\\right)}{x^{2}} + \\frac{2 \\, Y \\frac{\\partial}{\\partial x}\\xi\\left(Y, x\\right)}{x^{2}} + \\frac{\\phi\\left(Y, x\\right)}{x^{2}} - \\frac{2 \\, Y \\xi\\left(Y, x\\right)}{x^{3}} + \\frac{\\partial^{2}}{(\\partial x)^{2}}\\phi\\left(Y, x\\right)$$"
      ],
      "text/plain": [
       "-Y*diff(phi(Y, x), Y)/x^2 + 2*Y*diff(xi(Y, x), x)/x^2 + phi(Y, x)/x^2 - 2*Y*xi(Y, x)/x^3 + diff(phi(Y, x), x, x)"
      ]
     },
     "metadata": {},
     "output_type": "display_data"
    },
    {
     "data": {
      "text/html": [
       "<html>\\[\\newcommand{\\Bold}[1]{\\mathbf{#1}}-\\frac{1}{2} \\, x^{2} \\frac{\\partial}{\\partial x}\\phi\\left(Y, x\\right) - \\frac{3 \\, Y \\frac{\\partial}{\\partial Y}\\xi\\left(Y, x\\right)}{x^{2}} - 2 \\, \\frac{\\partial^{2}}{\\partial Y\\partial x}\\phi\\left(Y, x\\right) + \\frac{\\partial^{2}}{(\\partial x)^{2}}\\xi\\left(Y, x\\right)\\]</html>"
      ],
      "text/latex": [
       "$$\\newcommand{\\Bold}[1]{\\mathbf{#1}}-\\frac{1}{2} \\, x^{2} \\frac{\\partial}{\\partial x}\\phi\\left(Y, x\\right) - \\frac{3 \\, Y \\frac{\\partial}{\\partial Y}\\xi\\left(Y, x\\right)}{x^{2}} - 2 \\, \\frac{\\partial^{2}}{\\partial Y\\partial x}\\phi\\left(Y, x\\right) + \\frac{\\partial^{2}}{(\\partial x)^{2}}\\xi\\left(Y, x\\right)$$"
      ],
      "text/plain": [
       "-1/2*x^2*diff(phi(Y, x), x) - 3*Y*diff(xi(Y, x), Y)/x^2 - 2*diff(phi(Y, x), Y, x) + diff(xi(Y, x), x, x)"
      ]
     },
     "metadata": {},
     "output_type": "display_data"
    },
    {
     "data": {
      "text/html": [
       "<html>\\[\\newcommand{\\Bold}[1]{\\mathbf{#1}}-\\frac{1}{8} \\, x^{2} \\frac{\\partial}{\\partial Y}\\phi\\left(Y, x\\right) - \\frac{1}{4} \\, x \\xi\\left(Y, x\\right) - \\frac{1}{2} \\, \\frac{\\partial^{2}}{(\\partial Y)^{2}}\\phi\\left(Y, x\\right) + \\frac{\\partial^{2}}{\\partial Y\\partial x}\\xi\\left(Y, x\\right)\\]</html>"
      ],
      "text/latex": [
       "$$\\newcommand{\\Bold}[1]{\\mathbf{#1}}-\\frac{1}{8} \\, x^{2} \\frac{\\partial}{\\partial Y}\\phi\\left(Y, x\\right) - \\frac{1}{4} \\, x \\xi\\left(Y, x\\right) - \\frac{1}{2} \\, \\frac{\\partial^{2}}{(\\partial Y)^{2}}\\phi\\left(Y, x\\right) + \\frac{\\partial^{2}}{\\partial Y\\partial x}\\xi\\left(Y, x\\right)$$"
      ],
      "text/plain": [
       "-1/8*x^2*diff(phi(Y, x), Y) - 1/4*x*xi(Y, x) - 1/2*diff(phi(Y, x), Y, Y) + diff(xi(Y, x), Y, x)"
      ]
     },
     "metadata": {},
     "output_type": "display_data"
    },
    {
     "data": {
      "text/html": [
       "<html>\\[\\newcommand{\\Bold}[1]{\\mathbf{#1}}-\\frac{1}{4} \\, x^{2} \\frac{\\partial}{\\partial Y}\\xi\\left(Y, x\\right) + \\frac{\\partial^{2}}{(\\partial Y)^{2}}\\xi\\left(Y, x\\right)\\]</html>"
      ],
      "text/latex": [
       "$$\\newcommand{\\Bold}[1]{\\mathbf{#1}}-\\frac{1}{4} \\, x^{2} \\frac{\\partial}{\\partial Y}\\xi\\left(Y, x\\right) + \\frac{\\partial^{2}}{(\\partial Y)^{2}}\\xi\\left(Y, x\\right)$$"
      ],
      "text/plain": [
       "-1/4*x^2*diff(xi(Y, x), Y) + diff(xi(Y, x), Y, Y)"
      ]
     },
     "metadata": {},
     "output_type": "display_data"
    },
    {
     "data": {
      "text/html": [
       "<html>\\[\\newcommand{\\Bold}[1]{\\mathbf{#1}}-\\frac{Y \\frac{\\partial^{2}}{(\\partial Y)^{2}}\\phi\\left(Y, x\\right)}{x^{2}} + \\frac{2 \\, Y \\frac{\\partial^{2}}{\\partial Y\\partial x}\\xi\\left(Y, x\\right)}{x^{2}} - \\frac{2 \\, Y \\frac{\\partial}{\\partial Y}\\xi\\left(Y, x\\right)}{x^{3}} + \\frac{2 \\, \\frac{\\partial}{\\partial x}\\xi\\left(Y, x\\right)}{x^{2}} - \\frac{2 \\, \\xi\\left(Y, x\\right)}{x^{3}} + \\frac{\\partial^{3}}{\\partial Y(\\partial x)^{2}}\\phi\\left(Y, x\\right)\\]</html>"
      ],
      "text/latex": [
       "$$\\newcommand{\\Bold}[1]{\\mathbf{#1}}-\\frac{Y \\frac{\\partial^{2}}{(\\partial Y)^{2}}\\phi\\left(Y, x\\right)}{x^{2}} + \\frac{2 \\, Y \\frac{\\partial^{2}}{\\partial Y\\partial x}\\xi\\left(Y, x\\right)}{x^{2}} - \\frac{2 \\, Y \\frac{\\partial}{\\partial Y}\\xi\\left(Y, x\\right)}{x^{3}} + \\frac{2 \\, \\frac{\\partial}{\\partial x}\\xi\\left(Y, x\\right)}{x^{2}} - \\frac{2 \\, \\xi\\left(Y, x\\right)}{x^{3}} + \\frac{\\partial^{3}}{\\partial Y(\\partial x)^{2}}\\phi\\left(Y, x\\right)$$"
      ],
      "text/plain": [
       "-Y*diff(phi(Y, x), Y, Y)/x^2 + 2*Y*diff(xi(Y, x), Y, x)/x^2 - 2*Y*diff(xi(Y, x), Y)/x^3 + 2*diff(xi(Y, x), x)/x^2 - 2*xi(Y, x)/x^3 + diff(phi(Y, x), Y, x, x)"
      ]
     },
     "metadata": {},
     "output_type": "display_data"
    },
    {
     "data": {
      "text/html": [
       "<html>\\[\\newcommand{\\Bold}[1]{\\mathbf{#1}}\\frac{1}{4} \\, x^{2} \\frac{\\partial^{2}}{\\partial Y\\partial x}\\phi\\left(Y, x\\right) - \\frac{1}{6} \\, x \\frac{\\partial}{\\partial Y}\\phi\\left(Y, x\\right) + \\frac{1}{2} \\, Y \\frac{\\partial}{\\partial Y}\\xi\\left(Y, x\\right) - \\frac{1}{6} \\, x \\frac{\\partial}{\\partial x}\\xi\\left(Y, x\\right) - \\frac{1}{6} \\, \\xi\\left(Y, x\\right) + \\frac{\\partial^{3}}{(\\partial Y)^{2}\\partial x}\\phi\\left(Y, x\\right)\\]</html>"
      ],
      "text/latex": [
       "$$\\newcommand{\\Bold}[1]{\\mathbf{#1}}\\frac{1}{4} \\, x^{2} \\frac{\\partial^{2}}{\\partial Y\\partial x}\\phi\\left(Y, x\\right) - \\frac{1}{6} \\, x \\frac{\\partial}{\\partial Y}\\phi\\left(Y, x\\right) + \\frac{1}{2} \\, Y \\frac{\\partial}{\\partial Y}\\xi\\left(Y, x\\right) - \\frac{1}{6} \\, x \\frac{\\partial}{\\partial x}\\xi\\left(Y, x\\right) - \\frac{1}{6} \\, \\xi\\left(Y, x\\right) + \\frac{\\partial^{3}}{(\\partial Y)^{2}\\partial x}\\phi\\left(Y, x\\right)$$"
      ],
      "text/plain": [
       "1/4*x^2*diff(phi(Y, x), Y, x) - 1/6*x*diff(phi(Y, x), Y) + 1/2*Y*diff(xi(Y, x), Y) - 1/6*x*diff(xi(Y, x), x) - 1/6*xi(Y, x) + diff(phi(Y, x), Y, Y, x)"
      ]
     },
     "metadata": {},
     "output_type": "display_data"
    },
    {
     "data": {
      "text/html": [
       "<html>\\[\\newcommand{\\Bold}[1]{\\mathbf{#1}}-\\frac{1}{16} \\, x^{4} \\frac{\\partial}{\\partial Y}\\phi\\left(Y, x\\right) - \\frac{1}{8} \\, x^{3} \\xi\\left(Y, x\\right) - \\frac{1}{2} \\, x \\frac{\\partial}{\\partial Y}\\xi\\left(Y, x\\right) + \\frac{\\partial^{3}}{(\\partial Y)^{3}}\\phi\\left(Y, x\\right)\\]</html>"
      ],
      "text/latex": [
       "$$\\newcommand{\\Bold}[1]{\\mathbf{#1}}-\\frac{1}{16} \\, x^{4} \\frac{\\partial}{\\partial Y}\\phi\\left(Y, x\\right) - \\frac{1}{8} \\, x^{3} \\xi\\left(Y, x\\right) - \\frac{1}{2} \\, x \\frac{\\partial}{\\partial Y}\\xi\\left(Y, x\\right) + \\frac{\\partial^{3}}{(\\partial Y)^{3}}\\phi\\left(Y, x\\right)$$"
      ],
      "text/plain": [
       "-1/16*x^4*diff(phi(Y, x), Y) - 1/8*x^3*xi(Y, x) - 1/2*x*diff(xi(Y, x), Y) + diff(phi(Y, x), Y, Y, Y)"
      ]
     },
     "metadata": {},
     "output_type": "display_data"
    },
    {
     "name": "stdout",
     "output_type": "stream",
     "text": [
      "After conditions\n"
     ]
    },
    {
     "data": {
      "text/html": [
       "<html>\\[\\newcommand{\\Bold}[1]{\\mathbf{#1}}-\\frac{Y \\frac{\\partial}{\\partial Y}\\phi\\left(Y, x\\right)}{x^{2}} + \\frac{2 \\, Y \\frac{\\partial}{\\partial x}\\xi\\left(Y, x\\right)}{x^{2}} + \\frac{\\phi\\left(Y, x\\right)}{x^{2}} - \\frac{2 \\, Y \\xi\\left(Y, x\\right)}{x^{3}} + \\frac{\\partial^{2}}{(\\partial x)^{2}}\\phi\\left(Y, x\\right)\\]</html>"
      ],
      "text/latex": [
       "$$\\newcommand{\\Bold}[1]{\\mathbf{#1}}-\\frac{Y \\frac{\\partial}{\\partial Y}\\phi\\left(Y, x\\right)}{x^{2}} + \\frac{2 \\, Y \\frac{\\partial}{\\partial x}\\xi\\left(Y, x\\right)}{x^{2}} + \\frac{\\phi\\left(Y, x\\right)}{x^{2}} - \\frac{2 \\, Y \\xi\\left(Y, x\\right)}{x^{3}} + \\frac{\\partial^{2}}{(\\partial x)^{2}}\\phi\\left(Y, x\\right)$$"
      ],
      "text/plain": [
       "-Y*diff(phi(Y, x), Y)/x^2 + 2*Y*diff(xi(Y, x), x)/x^2 + phi(Y, x)/x^2 - 2*Y*xi(Y, x)/x^3 + diff(phi(Y, x), x, x)"
      ]
     },
     "metadata": {},
     "output_type": "display_data"
    },
    {
     "data": {
      "text/html": [
       "<html>\\[\\newcommand{\\Bold}[1]{\\mathbf{#1}}-\\frac{1}{2} \\, x^{2} \\frac{\\partial}{\\partial x}\\phi\\left(Y, x\\right) - \\frac{3 \\, Y \\frac{\\partial}{\\partial Y}\\xi\\left(Y, x\\right)}{x^{2}} - 2 \\, \\frac{\\partial^{2}}{\\partial Y\\partial x}\\phi\\left(Y, x\\right) + \\frac{\\partial^{2}}{(\\partial x)^{2}}\\xi\\left(Y, x\\right)\\]</html>"
      ],
      "text/latex": [
       "$$\\newcommand{\\Bold}[1]{\\mathbf{#1}}-\\frac{1}{2} \\, x^{2} \\frac{\\partial}{\\partial x}\\phi\\left(Y, x\\right) - \\frac{3 \\, Y \\frac{\\partial}{\\partial Y}\\xi\\left(Y, x\\right)}{x^{2}} - 2 \\, \\frac{\\partial^{2}}{\\partial Y\\partial x}\\phi\\left(Y, x\\right) + \\frac{\\partial^{2}}{(\\partial x)^{2}}\\xi\\left(Y, x\\right)$$"
      ],
      "text/plain": [
       "-1/2*x^2*diff(phi(Y, x), x) - 3*Y*diff(xi(Y, x), Y)/x^2 - 2*diff(phi(Y, x), Y, x) + diff(xi(Y, x), x, x)"
      ]
     },
     "metadata": {},
     "output_type": "display_data"
    },
    {
     "data": {
      "text/html": [
       "<html>\\[\\newcommand{\\Bold}[1]{\\mathbf{#1}}-\\frac{1}{8} \\, x^{2} \\frac{\\partial}{\\partial Y}\\phi\\left(Y, x\\right) - \\frac{1}{4} \\, x \\xi\\left(Y, x\\right) - \\frac{1}{2} \\, \\frac{\\partial^{2}}{(\\partial Y)^{2}}\\phi\\left(Y, x\\right) + \\frac{\\partial^{2}}{\\partial Y\\partial x}\\xi\\left(Y, x\\right)\\]</html>"
      ],
      "text/latex": [
       "$$\\newcommand{\\Bold}[1]{\\mathbf{#1}}-\\frac{1}{8} \\, x^{2} \\frac{\\partial}{\\partial Y}\\phi\\left(Y, x\\right) - \\frac{1}{4} \\, x \\xi\\left(Y, x\\right) - \\frac{1}{2} \\, \\frac{\\partial^{2}}{(\\partial Y)^{2}}\\phi\\left(Y, x\\right) + \\frac{\\partial^{2}}{\\partial Y\\partial x}\\xi\\left(Y, x\\right)$$"
      ],
      "text/plain": [
       "-1/8*x^2*diff(phi(Y, x), Y) - 1/4*x*xi(Y, x) - 1/2*diff(phi(Y, x), Y, Y) + diff(xi(Y, x), Y, x)"
      ]
     },
     "metadata": {},
     "output_type": "display_data"
    },
    {
     "data": {
      "text/html": [
       "<html>\\[\\newcommand{\\Bold}[1]{\\mathbf{#1}}-\\frac{1}{4} \\, x^{2} \\frac{\\partial}{\\partial Y}\\xi\\left(Y, x\\right) + \\frac{\\partial^{2}}{(\\partial Y)^{2}}\\xi\\left(Y, x\\right)\\]</html>"
      ],
      "text/latex": [
       "$$\\newcommand{\\Bold}[1]{\\mathbf{#1}}-\\frac{1}{4} \\, x^{2} \\frac{\\partial}{\\partial Y}\\xi\\left(Y, x\\right) + \\frac{\\partial^{2}}{(\\partial Y)^{2}}\\xi\\left(Y, x\\right)$$"
      ],
      "text/plain": [
       "-1/4*x^2*diff(xi(Y, x), Y) + diff(xi(Y, x), Y, Y)"
      ]
     },
     "metadata": {},
     "output_type": "display_data"
    },
    {
     "data": {
      "text/html": [
       "<html>\\[\\newcommand{\\Bold}[1]{\\mathbf{#1}}-\\frac{Y \\frac{\\partial^{2}}{(\\partial Y)^{2}}\\phi\\left(Y, x\\right)}{x^{2}} + \\frac{2 \\, Y \\frac{\\partial^{2}}{\\partial Y\\partial x}\\xi\\left(Y, x\\right)}{x^{2}} - \\frac{2 \\, Y \\frac{\\partial}{\\partial Y}\\xi\\left(Y, x\\right)}{x^{3}} + \\frac{2 \\, \\frac{\\partial}{\\partial x}\\xi\\left(Y, x\\right)}{x^{2}} - \\frac{2 \\, \\xi\\left(Y, x\\right)}{x^{3}} + \\frac{\\partial^{3}}{\\partial Y(\\partial x)^{2}}\\phi\\left(Y, x\\right)\\]</html>"
      ],
      "text/latex": [
       "$$\\newcommand{\\Bold}[1]{\\mathbf{#1}}-\\frac{Y \\frac{\\partial^{2}}{(\\partial Y)^{2}}\\phi\\left(Y, x\\right)}{x^{2}} + \\frac{2 \\, Y \\frac{\\partial^{2}}{\\partial Y\\partial x}\\xi\\left(Y, x\\right)}{x^{2}} - \\frac{2 \\, Y \\frac{\\partial}{\\partial Y}\\xi\\left(Y, x\\right)}{x^{3}} + \\frac{2 \\, \\frac{\\partial}{\\partial x}\\xi\\left(Y, x\\right)}{x^{2}} - \\frac{2 \\, \\xi\\left(Y, x\\right)}{x^{3}} + \\frac{\\partial^{3}}{\\partial Y(\\partial x)^{2}}\\phi\\left(Y, x\\right)$$"
      ],
      "text/plain": [
       "-Y*diff(phi(Y, x), Y, Y)/x^2 + 2*Y*diff(xi(Y, x), Y, x)/x^2 - 2*Y*diff(xi(Y, x), Y)/x^3 + 2*diff(xi(Y, x), x)/x^2 - 2*xi(Y, x)/x^3 + diff(phi(Y, x), Y, x, x)"
      ]
     },
     "metadata": {},
     "output_type": "display_data"
    },
    {
     "data": {
      "text/html": [
       "<html>\\[\\newcommand{\\Bold}[1]{\\mathbf{#1}}\\frac{1}{4} \\, x^{2} \\frac{\\partial^{2}}{\\partial Y\\partial x}\\phi\\left(Y, x\\right) - \\frac{1}{6} \\, x \\frac{\\partial}{\\partial Y}\\phi\\left(Y, x\\right) + \\frac{1}{2} \\, Y \\frac{\\partial}{\\partial Y}\\xi\\left(Y, x\\right) - \\frac{1}{6} \\, x \\frac{\\partial}{\\partial x}\\xi\\left(Y, x\\right) - \\frac{1}{6} \\, \\xi\\left(Y, x\\right) + \\frac{\\partial^{3}}{(\\partial Y)^{2}\\partial x}\\phi\\left(Y, x\\right)\\]</html>"
      ],
      "text/latex": [
       "$$\\newcommand{\\Bold}[1]{\\mathbf{#1}}\\frac{1}{4} \\, x^{2} \\frac{\\partial^{2}}{\\partial Y\\partial x}\\phi\\left(Y, x\\right) - \\frac{1}{6} \\, x \\frac{\\partial}{\\partial Y}\\phi\\left(Y, x\\right) + \\frac{1}{2} \\, Y \\frac{\\partial}{\\partial Y}\\xi\\left(Y, x\\right) - \\frac{1}{6} \\, x \\frac{\\partial}{\\partial x}\\xi\\left(Y, x\\right) - \\frac{1}{6} \\, \\xi\\left(Y, x\\right) + \\frac{\\partial^{3}}{(\\partial Y)^{2}\\partial x}\\phi\\left(Y, x\\right)$$"
      ],
      "text/plain": [
       "1/4*x^2*diff(phi(Y, x), Y, x) - 1/6*x*diff(phi(Y, x), Y) + 1/2*Y*diff(xi(Y, x), Y) - 1/6*x*diff(xi(Y, x), x) - 1/6*xi(Y, x) + diff(phi(Y, x), Y, Y, x)"
      ]
     },
     "metadata": {},
     "output_type": "display_data"
    },
    {
     "data": {
      "text/html": [
       "<html>\\[\\newcommand{\\Bold}[1]{\\mathbf{#1}}-\\frac{1}{16} \\, x^{4} \\frac{\\partial}{\\partial Y}\\phi\\left(Y, x\\right) - \\frac{1}{8} \\, x^{3} \\xi\\left(Y, x\\right) - \\frac{1}{2} \\, x \\frac{\\partial}{\\partial Y}\\xi\\left(Y, x\\right) + \\frac{\\partial^{3}}{(\\partial Y)^{3}}\\phi\\left(Y, x\\right)\\]</html>"
      ],
      "text/latex": [
       "$$\\newcommand{\\Bold}[1]{\\mathbf{#1}}-\\frac{1}{16} \\, x^{4} \\frac{\\partial}{\\partial Y}\\phi\\left(Y, x\\right) - \\frac{1}{8} \\, x^{3} \\xi\\left(Y, x\\right) - \\frac{1}{2} \\, x \\frac{\\partial}{\\partial Y}\\xi\\left(Y, x\\right) + \\frac{\\partial^{3}}{(\\partial Y)^{3}}\\phi\\left(Y, x\\right)$$"
      ],
      "text/plain": [
       "-1/16*x^4*diff(phi(Y, x), Y) - 1/8*x^3*xi(Y, x) - 1/2*x*diff(xi(Y, x), Y) + diff(phi(Y, x), Y, Y, Y)"
      ]
     },
     "metadata": {},
     "output_type": "display_data"
    },
    {
     "name": "stdout",
     "output_type": "stream",
     "text": [
      "This is where we start\n"
     ]
    },
    {
     "data": {
      "text/html": [
       "<html>\\[\\newcommand{\\Bold}[1]{\\mathbf{#1}}\\frac{3 \\, \\xi\\left(Y, x\\right)}{x} + 2 \\, \\frac{\\partial}{\\partial Y}\\phi\\left(Y, x\\right) + \\frac{\\partial}{\\partial x}\\xi\\left(Y, x\\right)\\]</html>"
      ],
      "text/latex": [
       "$$\\newcommand{\\Bold}[1]{\\mathbf{#1}}\\frac{3 \\, \\xi\\left(Y, x\\right)}{x} + 2 \\, \\frac{\\partial}{\\partial Y}\\phi\\left(Y, x\\right) + \\frac{\\partial}{\\partial x}\\xi\\left(Y, x\\right)$$"
      ],
      "text/plain": [
       "3*xi(Y, x)/x + 2*diff(phi(Y, x), Y) + diff(xi(Y, x), x)"
      ]
     },
     "metadata": {},
     "output_type": "display_data"
    },
    {
     "data": {
      "text/html": [
       "<html>\\[\\newcommand{\\Bold}[1]{\\mathbf{#1}}-\\frac{Y \\frac{\\partial}{\\partial Y}\\phi\\left(Y, x\\right)}{x^{2}} + \\frac{2 \\, Y \\frac{\\partial}{\\partial x}\\xi\\left(Y, x\\right)}{x^{2}} + \\frac{\\phi\\left(Y, x\\right)}{x^{2}} - \\frac{2 \\, Y \\xi\\left(Y, x\\right)}{x^{3}} + \\frac{\\partial^{2}}{(\\partial x)^{2}}\\phi\\left(Y, x\\right)\\]</html>"
      ],
      "text/latex": [
       "$$\\newcommand{\\Bold}[1]{\\mathbf{#1}}-\\frac{Y \\frac{\\partial}{\\partial Y}\\phi\\left(Y, x\\right)}{x^{2}} + \\frac{2 \\, Y \\frac{\\partial}{\\partial x}\\xi\\left(Y, x\\right)}{x^{2}} + \\frac{\\phi\\left(Y, x\\right)}{x^{2}} - \\frac{2 \\, Y \\xi\\left(Y, x\\right)}{x^{3}} + \\frac{\\partial^{2}}{(\\partial x)^{2}}\\phi\\left(Y, x\\right)$$"
      ],
      "text/plain": [
       "-Y*diff(phi(Y, x), Y)/x^2 + 2*Y*diff(xi(Y, x), x)/x^2 + phi(Y, x)/x^2 - 2*Y*xi(Y, x)/x^3 + diff(phi(Y, x), x, x)"
      ]
     },
     "metadata": {},
     "output_type": "display_data"
    },
    {
     "data": {
      "text/html": [
       "<html>\\[\\newcommand{\\Bold}[1]{\\mathbf{#1}}\\frac{1}{24} \\, x^{5} \\frac{\\partial}{\\partial x}\\phi\\left(Y, x\\right) + \\frac{1}{3} \\, x^{2} \\frac{\\partial}{\\partial Y}\\phi\\left(Y, x\\right) + \\frac{5}{12} \\, x^{2} \\frac{\\partial}{\\partial x}\\xi\\left(Y, x\\right) + \\frac{1}{4} \\, x \\xi\\left(Y, x\\right) + \\frac{\\partial^{2}}{(\\partial Y)^{2}}\\phi\\left(Y, x\\right)\\]</html>"
      ],
      "text/latex": [
       "$$\\newcommand{\\Bold}[1]{\\mathbf{#1}}\\frac{1}{24} \\, x^{5} \\frac{\\partial}{\\partial x}\\phi\\left(Y, x\\right) + \\frac{1}{3} \\, x^{2} \\frac{\\partial}{\\partial Y}\\phi\\left(Y, x\\right) + \\frac{5}{12} \\, x^{2} \\frac{\\partial}{\\partial x}\\xi\\left(Y, x\\right) + \\frac{1}{4} \\, x \\xi\\left(Y, x\\right) + \\frac{\\partial^{2}}{(\\partial Y)^{2}}\\phi\\left(Y, x\\right)$$"
      ],
      "text/plain": [
       "1/24*x^5*diff(phi(Y, x), x) + 1/3*x^2*diff(phi(Y, x), Y) + 5/12*x^2*diff(xi(Y, x), x) + 1/4*x*xi(Y, x) + diff(phi(Y, x), Y, Y)"
      ]
     },
     "metadata": {},
     "output_type": "display_data"
    },
    {
     "data": {
      "text/html": [
       "<html>\\[\\newcommand{\\Bold}[1]{\\mathbf{#1}}-\\frac{1}{2} \\, x^{2} \\frac{\\partial}{\\partial x}\\phi\\left(Y, x\\right) - \\frac{3 \\, Y \\frac{\\partial}{\\partial Y}\\xi\\left(Y, x\\right)}{x^{2}} - 2 \\, \\frac{\\partial^{2}}{\\partial Y\\partial x}\\phi\\left(Y, x\\right) + \\frac{\\partial^{2}}{(\\partial x)^{2}}\\xi\\left(Y, x\\right)\\]</html>"
      ],
      "text/latex": [
       "$$\\newcommand{\\Bold}[1]{\\mathbf{#1}}-\\frac{1}{2} \\, x^{2} \\frac{\\partial}{\\partial x}\\phi\\left(Y, x\\right) - \\frac{3 \\, Y \\frac{\\partial}{\\partial Y}\\xi\\left(Y, x\\right)}{x^{2}} - 2 \\, \\frac{\\partial^{2}}{\\partial Y\\partial x}\\phi\\left(Y, x\\right) + \\frac{\\partial^{2}}{(\\partial x)^{2}}\\xi\\left(Y, x\\right)$$"
      ],
      "text/plain": [
       "-1/2*x^2*diff(phi(Y, x), x) - 3*Y*diff(xi(Y, x), Y)/x^2 - 2*diff(phi(Y, x), Y, x) + diff(xi(Y, x), x, x)"
      ]
     },
     "metadata": {},
     "output_type": "display_data"
    },
    {
     "data": {
      "text/html": [
       "<html>\\[\\newcommand{\\Bold}[1]{\\mathbf{#1}}-\\frac{1}{8} \\, x^{2} \\frac{\\partial}{\\partial Y}\\phi\\left(Y, x\\right) - \\frac{1}{4} \\, x \\xi\\left(Y, x\\right) - \\frac{1}{2} \\, \\frac{\\partial^{2}}{(\\partial Y)^{2}}\\phi\\left(Y, x\\right) + \\frac{\\partial^{2}}{\\partial Y\\partial x}\\xi\\left(Y, x\\right)\\]</html>"
      ],
      "text/latex": [
       "$$\\newcommand{\\Bold}[1]{\\mathbf{#1}}-\\frac{1}{8} \\, x^{2} \\frac{\\partial}{\\partial Y}\\phi\\left(Y, x\\right) - \\frac{1}{4} \\, x \\xi\\left(Y, x\\right) - \\frac{1}{2} \\, \\frac{\\partial^{2}}{(\\partial Y)^{2}}\\phi\\left(Y, x\\right) + \\frac{\\partial^{2}}{\\partial Y\\partial x}\\xi\\left(Y, x\\right)$$"
      ],
      "text/plain": [
       "-1/8*x^2*diff(phi(Y, x), Y) - 1/4*x*xi(Y, x) - 1/2*diff(phi(Y, x), Y, Y) + diff(xi(Y, x), Y, x)"
      ]
     },
     "metadata": {},
     "output_type": "display_data"
    },
    {
     "data": {
      "text/html": [
       "<html>\\[\\newcommand{\\Bold}[1]{\\mathbf{#1}}-\\frac{1}{4} \\, x^{2} \\frac{\\partial}{\\partial Y}\\xi\\left(Y, x\\right) + \\frac{\\partial^{2}}{(\\partial Y)^{2}}\\xi\\left(Y, x\\right)\\]</html>"
      ],
      "text/latex": [
       "$$\\newcommand{\\Bold}[1]{\\mathbf{#1}}-\\frac{1}{4} \\, x^{2} \\frac{\\partial}{\\partial Y}\\xi\\left(Y, x\\right) + \\frac{\\partial^{2}}{(\\partial Y)^{2}}\\xi\\left(Y, x\\right)$$"
      ],
      "text/plain": [
       "-1/4*x^2*diff(xi(Y, x), Y) + diff(xi(Y, x), Y, Y)"
      ]
     },
     "metadata": {},
     "output_type": "display_data"
    },
    {
     "data": {
      "text/html": [
       "<html>\\[\\newcommand{\\Bold}[1]{\\mathbf{#1}}-\\frac{Y \\frac{\\partial^{2}}{(\\partial Y)^{2}}\\phi\\left(Y, x\\right)}{x^{2}} + \\frac{2 \\, Y \\frac{\\partial^{2}}{\\partial Y\\partial x}\\xi\\left(Y, x\\right)}{x^{2}} - \\frac{2 \\, Y \\frac{\\partial}{\\partial Y}\\xi\\left(Y, x\\right)}{x^{3}} + \\frac{2 \\, \\frac{\\partial}{\\partial x}\\xi\\left(Y, x\\right)}{x^{2}} - \\frac{2 \\, \\xi\\left(Y, x\\right)}{x^{3}} + \\frac{\\partial^{3}}{\\partial Y(\\partial x)^{2}}\\phi\\left(Y, x\\right)\\]</html>"
      ],
      "text/latex": [
       "$$\\newcommand{\\Bold}[1]{\\mathbf{#1}}-\\frac{Y \\frac{\\partial^{2}}{(\\partial Y)^{2}}\\phi\\left(Y, x\\right)}{x^{2}} + \\frac{2 \\, Y \\frac{\\partial^{2}}{\\partial Y\\partial x}\\xi\\left(Y, x\\right)}{x^{2}} - \\frac{2 \\, Y \\frac{\\partial}{\\partial Y}\\xi\\left(Y, x\\right)}{x^{3}} + \\frac{2 \\, \\frac{\\partial}{\\partial x}\\xi\\left(Y, x\\right)}{x^{2}} - \\frac{2 \\, \\xi\\left(Y, x\\right)}{x^{3}} + \\frac{\\partial^{3}}{\\partial Y(\\partial x)^{2}}\\phi\\left(Y, x\\right)$$"
      ],
      "text/plain": [
       "-Y*diff(phi(Y, x), Y, Y)/x^2 + 2*Y*diff(xi(Y, x), Y, x)/x^2 - 2*Y*diff(xi(Y, x), Y)/x^3 + 2*diff(xi(Y, x), x)/x^2 - 2*xi(Y, x)/x^3 + diff(phi(Y, x), Y, x, x)"
      ]
     },
     "metadata": {},
     "output_type": "display_data"
    },
    {
     "data": {
      "text/html": [
       "<html>\\[\\newcommand{\\Bold}[1]{\\mathbf{#1}}\\frac{1}{4} \\, x^{2} \\frac{\\partial^{2}}{\\partial Y\\partial x}\\phi\\left(Y, x\\right) - \\frac{1}{6} \\, x \\frac{\\partial}{\\partial Y}\\phi\\left(Y, x\\right) + \\frac{1}{2} \\, Y \\frac{\\partial}{\\partial Y}\\xi\\left(Y, x\\right) - \\frac{1}{6} \\, x \\frac{\\partial}{\\partial x}\\xi\\left(Y, x\\right) - \\frac{1}{6} \\, \\xi\\left(Y, x\\right) + \\frac{\\partial^{3}}{(\\partial Y)^{2}\\partial x}\\phi\\left(Y, x\\right)\\]</html>"
      ],
      "text/latex": [
       "$$\\newcommand{\\Bold}[1]{\\mathbf{#1}}\\frac{1}{4} \\, x^{2} \\frac{\\partial^{2}}{\\partial Y\\partial x}\\phi\\left(Y, x\\right) - \\frac{1}{6} \\, x \\frac{\\partial}{\\partial Y}\\phi\\left(Y, x\\right) + \\frac{1}{2} \\, Y \\frac{\\partial}{\\partial Y}\\xi\\left(Y, x\\right) - \\frac{1}{6} \\, x \\frac{\\partial}{\\partial x}\\xi\\left(Y, x\\right) - \\frac{1}{6} \\, \\xi\\left(Y, x\\right) + \\frac{\\partial^{3}}{(\\partial Y)^{2}\\partial x}\\phi\\left(Y, x\\right)$$"
      ],
      "text/plain": [
       "1/4*x^2*diff(phi(Y, x), Y, x) - 1/6*x*diff(phi(Y, x), Y) + 1/2*Y*diff(xi(Y, x), Y) - 1/6*x*diff(xi(Y, x), x) - 1/6*xi(Y, x) + diff(phi(Y, x), Y, Y, x)"
      ]
     },
     "metadata": {},
     "output_type": "display_data"
    },
    {
     "data": {
      "text/html": [
       "<html>\\[\\newcommand{\\Bold}[1]{\\mathbf{#1}}-\\frac{1}{16} \\, x^{4} \\frac{\\partial}{\\partial Y}\\phi\\left(Y, x\\right) - \\frac{1}{8} \\, x^{3} \\xi\\left(Y, x\\right) - \\frac{1}{2} \\, x \\frac{\\partial}{\\partial Y}\\xi\\left(Y, x\\right) + \\frac{\\partial^{3}}{(\\partial Y)^{3}}\\phi\\left(Y, x\\right)\\]</html>"
      ],
      "text/latex": [
       "$$\\newcommand{\\Bold}[1]{\\mathbf{#1}}-\\frac{1}{16} \\, x^{4} \\frac{\\partial}{\\partial Y}\\phi\\left(Y, x\\right) - \\frac{1}{8} \\, x^{3} \\xi\\left(Y, x\\right) - \\frac{1}{2} \\, x \\frac{\\partial}{\\partial Y}\\xi\\left(Y, x\\right) + \\frac{\\partial^{3}}{(\\partial Y)^{3}}\\phi\\left(Y, x\\right)$$"
      ],
      "text/plain": [
       "-1/16*x^4*diff(phi(Y, x), Y) - 1/8*x^3*xi(Y, x) - 1/2*x*diff(xi(Y, x), Y) + diff(phi(Y, x), Y, Y, Y)"
      ]
     },
     "metadata": {},
     "output_type": "display_data"
    },
    {
     "data": {
      "text/html": [
       "<html>\\[\\newcommand{\\Bold}[1]{\\mathbf{#1}}\\frac{\\partial}{\\partial x}\\xi\\left(Y, x\\right)\\]</html>"
      ],
      "text/latex": [
       "$$\\newcommand{\\Bold}[1]{\\mathbf{#1}}\\frac{\\partial}{\\partial x}\\xi\\left(Y, x\\right)$$"
      ],
      "text/plain": [
       "diff(xi(Y, x), x)"
      ]
     },
     "metadata": {},
     "output_type": "display_data"
    },
    {
     "data": {
      "text/html": [
       "<html>\\[\\newcommand{\\Bold}[1]{\\mathbf{#1}}\\frac{\\partial^{2}}{(\\partial x)^{2}}\\phi\\left(Y, x\\right)\\]</html>"
      ],
      "text/latex": [
       "$$\\newcommand{\\Bold}[1]{\\mathbf{#1}}\\frac{\\partial^{2}}{(\\partial x)^{2}}\\phi\\left(Y, x\\right)$$"
      ],
      "text/plain": [
       "diff(phi(Y, x), x, x)"
      ]
     },
     "metadata": {},
     "output_type": "display_data"
    },
    {
     "data": {
      "text/html": [
       "<html>\\[\\newcommand{\\Bold}[1]{\\mathbf{#1}}\\frac{\\partial^{2}}{(\\partial Y)^{2}}\\phi\\left(Y, x\\right)\\]</html>"
      ],
      "text/latex": [
       "$$\\newcommand{\\Bold}[1]{\\mathbf{#1}}\\frac{\\partial^{2}}{(\\partial Y)^{2}}\\phi\\left(Y, x\\right)$$"
      ],
      "text/plain": [
       "diff(phi(Y, x), Y, Y)"
      ]
     },
     "metadata": {},
     "output_type": "display_data"
    },
    {
     "data": {
      "text/html": [
       "<html>\\[\\newcommand{\\Bold}[1]{\\mathbf{#1}}\\frac{\\partial^{2}}{(\\partial x)^{2}}\\xi\\left(Y, x\\right)\\]</html>"
      ],
      "text/latex": [
       "$$\\newcommand{\\Bold}[1]{\\mathbf{#1}}\\frac{\\partial^{2}}{(\\partial x)^{2}}\\xi\\left(Y, x\\right)$$"
      ],
      "text/plain": [
       "diff(xi(Y, x), x, x)"
      ]
     },
     "metadata": {},
     "output_type": "display_data"
    },
    {
     "data": {
      "text/html": [
       "<html>\\[\\newcommand{\\Bold}[1]{\\mathbf{#1}}\\frac{\\partial^{2}}{\\partial Y\\partial x}\\xi\\left(Y, x\\right)\\]</html>"
      ],
      "text/latex": [
       "$$\\newcommand{\\Bold}[1]{\\mathbf{#1}}\\frac{\\partial^{2}}{\\partial Y\\partial x}\\xi\\left(Y, x\\right)$$"
      ],
      "text/plain": [
       "diff(xi(Y, x), Y, x)"
      ]
     },
     "metadata": {},
     "output_type": "display_data"
    },
    {
     "data": {
      "text/html": [
       "<html>\\[\\newcommand{\\Bold}[1]{\\mathbf{#1}}\\frac{\\partial^{2}}{(\\partial Y)^{2}}\\xi\\left(Y, x\\right)\\]</html>"
      ],
      "text/latex": [
       "$$\\newcommand{\\Bold}[1]{\\mathbf{#1}}\\frac{\\partial^{2}}{(\\partial Y)^{2}}\\xi\\left(Y, x\\right)$$"
      ],
      "text/plain": [
       "diff(xi(Y, x), Y, Y)"
      ]
     },
     "metadata": {},
     "output_type": "display_data"
    },
    {
     "data": {
      "text/html": [
       "<html>\\[\\newcommand{\\Bold}[1]{\\mathbf{#1}}\\frac{\\partial^{3}}{\\partial Y(\\partial x)^{2}}\\phi\\left(Y, x\\right)\\]</html>"
      ],
      "text/latex": [
       "$$\\newcommand{\\Bold}[1]{\\mathbf{#1}}\\frac{\\partial^{3}}{\\partial Y(\\partial x)^{2}}\\phi\\left(Y, x\\right)$$"
      ],
      "text/plain": [
       "diff(phi(Y, x), Y, x, x)"
      ]
     },
     "metadata": {},
     "output_type": "display_data"
    },
    {
     "data": {
      "text/html": [
       "<html>\\[\\newcommand{\\Bold}[1]{\\mathbf{#1}}\\frac{\\partial^{3}}{(\\partial Y)^{2}\\partial x}\\phi\\left(Y, x\\right)\\]</html>"
      ],
      "text/latex": [
       "$$\\newcommand{\\Bold}[1]{\\mathbf{#1}}\\frac{\\partial^{3}}{(\\partial Y)^{2}\\partial x}\\phi\\left(Y, x\\right)$$"
      ],
      "text/plain": [
       "diff(phi(Y, x), Y, Y, x)"
      ]
     },
     "metadata": {},
     "output_type": "display_data"
    },
    {
     "data": {
      "text/html": [
       "<html>\\[\\newcommand{\\Bold}[1]{\\mathbf{#1}}\\frac{\\partial^{3}}{(\\partial Y)^{3}}\\phi\\left(Y, x\\right)\\]</html>"
      ],
      "text/latex": [
       "$$\\newcommand{\\Bold}[1]{\\mathbf{#1}}\\frac{\\partial^{3}}{(\\partial Y)^{3}}\\phi\\left(Y, x\\right)$$"
      ],
      "text/plain": [
       "diff(phi(Y, x), Y, Y, Y)"
      ]
     },
     "metadata": {},
     "output_type": "display_data"
    },
    {
     "ename": "ValueError",
     "evalue": "tuple.index(x): x not in tuple",
     "output_type": "error",
     "traceback": [
      "\u001b[0;31m---------------------------------------------------------------------------\u001b[0m",
      "\u001b[0;31mValueError\u001b[0m                                Traceback (most recent call last)",
      "\u001b[0;32m<ipython-input-4-fca7b540909d>\u001b[0m in \u001b[0;36m<module>\u001b[0;34m\u001b[0m\n\u001b[1;32m      3\u001b[0m \u001b[0my\u001b[0m \u001b[0;34m=\u001b[0m \u001b[0mfunction\u001b[0m\u001b[0;34m(\u001b[0m\u001b[0;34m\"y\"\u001b[0m\u001b[0;34m)\u001b[0m\u001b[0;34m\u001b[0m\u001b[0;34m\u001b[0m\u001b[0m\n\u001b[1;32m      4\u001b[0m \u001b[0mode\u001b[0m \u001b[0;34m=\u001b[0m \u001b[0mInteger\u001b[0m\u001b[0;34m(\u001b[0m\u001b[0;36m4\u001b[0m\u001b[0;34m)\u001b[0m\u001b[0;34m*\u001b[0m\u001b[0mdiff\u001b[0m\u001b[0;34m(\u001b[0m\u001b[0my\u001b[0m\u001b[0;34m(\u001b[0m\u001b[0mx\u001b[0m\u001b[0;34m)\u001b[0m\u001b[0;34m,\u001b[0m\u001b[0mx\u001b[0m\u001b[0;34m,\u001b[0m\u001b[0mx\u001b[0m\u001b[0;34m)\u001b[0m\u001b[0;34m*\u001b[0m\u001b[0mx\u001b[0m\u001b[0;34m**\u001b[0m\u001b[0mInteger\u001b[0m\u001b[0;34m(\u001b[0m\u001b[0;36m2\u001b[0m\u001b[0;34m)\u001b[0m \u001b[0;34m+\u001b[0m \u001b[0;34m(\u001b[0m\u001b[0mx\u001b[0m\u001b[0;34m**\u001b[0m\u001b[0mInteger\u001b[0m\u001b[0;34m(\u001b[0m\u001b[0;36m4\u001b[0m\u001b[0;34m)\u001b[0m\u001b[0;34m)\u001b[0m \u001b[0;34m*\u001b[0m \u001b[0mdiff\u001b[0m\u001b[0;34m(\u001b[0m\u001b[0my\u001b[0m\u001b[0;34m(\u001b[0m\u001b[0mx\u001b[0m\u001b[0;34m)\u001b[0m\u001b[0;34m,\u001b[0m \u001b[0mx\u001b[0m\u001b[0;34m)\u001b[0m\u001b[0;34m**\u001b[0m\u001b[0mInteger\u001b[0m\u001b[0;34m(\u001b[0m\u001b[0;36m2\u001b[0m\u001b[0;34m)\u001b[0m \u001b[0;34m+\u001b[0m \u001b[0mInteger\u001b[0m\u001b[0;34m(\u001b[0m\u001b[0;36m4\u001b[0m\u001b[0;34m)\u001b[0m\u001b[0;34m*\u001b[0m\u001b[0my\u001b[0m\u001b[0;34m(\u001b[0m\u001b[0mx\u001b[0m\u001b[0;34m)\u001b[0m\u001b[0;34m\u001b[0m\u001b[0;34m\u001b[0m\u001b[0m\n\u001b[0;32m----> 5\u001b[0;31m \u001b[0minf\u001b[0m \u001b[0;34m=\u001b[0m \u001b[0minfinitesimalsODE\u001b[0m\u001b[0;34m(\u001b[0m\u001b[0mode\u001b[0m\u001b[0;34m,\u001b[0m \u001b[0my\u001b[0m\u001b[0;34m,\u001b[0m \u001b[0mx\u001b[0m\u001b[0;34m)\u001b[0m\u001b[0;34m\u001b[0m\u001b[0;34m\u001b[0m\u001b[0m\n\u001b[0m\u001b[1;32m      6\u001b[0m \u001b[0mprint\u001b[0m\u001b[0;34m(\u001b[0m\u001b[0;34m\".\"\u001b[0m\u001b[0;34m*\u001b[0m\u001b[0mInteger\u001b[0m\u001b[0;34m(\u001b[0m\u001b[0;36m25\u001b[0m\u001b[0;34m)\u001b[0m\u001b[0;34m)\u001b[0m\u001b[0;34m\u001b[0m\u001b[0;34m\u001b[0m\u001b[0m\n\u001b[1;32m      7\u001b[0m \u001b[0;32mfor\u001b[0m \u001b[0m_\u001b[0m \u001b[0;32min\u001b[0m \u001b[0minf\u001b[0m\u001b[0;34m:\u001b[0m\u001b[0;34m\u001b[0m\u001b[0;34m\u001b[0m\u001b[0m\n",
      "\u001b[0;32m<ipython-input-2-832359e7dcb6>\u001b[0m in \u001b[0;36minfinitesimalsODE\u001b[0;34m(ode, dependent, independent)\u001b[0m\n\u001b[1;32m    128\u001b[0m         \u001b[0mdetermining_system\u001b[0m\u001b[0;34m[\u001b[0m\u001b[0mi\u001b[0m\u001b[0;34m]\u001b[0m \u001b[0;34m=\u001b[0m \u001b[0mdetermining_system\u001b[0m\u001b[0;34m[\u001b[0m\u001b[0mi\u001b[0m\u001b[0;34m]\u001b[0m\u001b[0;34m.\u001b[0m\u001b[0msubs\u001b[0m\u001b[0;34m(\u001b[0m\u001b[0;34m{\u001b[0m\u001b[0mdiff\u001b[0m\u001b[0;34m(\u001b[0m\u001b[0mdependent\u001b[0m\u001b[0;34m(\u001b[0m\u001b[0mindependent\u001b[0m\u001b[0;34m)\u001b[0m\u001b[0;34m,\u001b[0m \u001b[0mindependent\u001b[0m\u001b[0;34m)\u001b[0m \u001b[0;34m:\u001b[0m \u001b[0mInteger\u001b[0m\u001b[0;34m(\u001b[0m\u001b[0;36m0\u001b[0m\u001b[0;34m)\u001b[0m\u001b[0;34m}\u001b[0m\u001b[0;34m)\u001b[0m\u001b[0;34m\u001b[0m\u001b[0;34m\u001b[0m\u001b[0m\n\u001b[1;32m    129\u001b[0m     \u001b[0;31m# toDo: repair ASAP\u001b[0m\u001b[0;34m\u001b[0m\u001b[0;34m\u001b[0m\u001b[0m\n\u001b[0;32m--> 130\u001b[0;31m     \u001b[0mjanet\u001b[0m \u001b[0;34m=\u001b[0m \u001b[0mJanet_Basis\u001b[0m\u001b[0;34m(\u001b[0m\u001b[0mdetermining_system\u001b[0m\u001b[0;34m,\u001b[0m \u001b[0;34m[\u001b[0m\u001b[0mxi\u001b[0m\u001b[0;34m,\u001b[0m \u001b[0mphi\u001b[0m\u001b[0;34m]\u001b[0m\u001b[0;34m,\u001b[0m \u001b[0;34m[\u001b[0m\u001b[0mY\u001b[0m\u001b[0;34m,\u001b[0m \u001b[0mindependent\u001b[0m\u001b[0;34m]\u001b[0m\u001b[0;34m)\u001b[0m\u001b[0;34m\u001b[0m\u001b[0;34m\u001b[0m\u001b[0m\n\u001b[0m\u001b[1;32m    131\u001b[0m     \u001b[0mpols\u001b[0m \u001b[0;34m=\u001b[0m \u001b[0;34m[\u001b[0m\u001b[0;34m]\u001b[0m\u001b[0;34m\u001b[0m\u001b[0;34m\u001b[0m\u001b[0m\n\u001b[1;32m    132\u001b[0m     \u001b[0;32mfor\u001b[0m \u001b[0mi\u001b[0m \u001b[0;32min\u001b[0m \u001b[0mrange\u001b[0m\u001b[0;34m(\u001b[0m\u001b[0mlen\u001b[0m\u001b[0;34m(\u001b[0m\u001b[0mjanet\u001b[0m\u001b[0;34m.\u001b[0m\u001b[0mS\u001b[0m\u001b[0;34m)\u001b[0m\u001b[0;34m)\u001b[0m\u001b[0;34m:\u001b[0m\u001b[0;34m\u001b[0m\u001b[0;34m\u001b[0m\u001b[0m\n",
      "\u001b[0;32m/researches/delierium/delierium/JanetBasis.py\u001b[0m in \u001b[0;36m__init__\u001b[0;34m(self, S, dependent, independent, sort_order)\u001b[0m\n\u001b[1;32m    625\u001b[0m                 \u001b[0m_\u001b[0m\u001b[0;34m.\u001b[0m\u001b[0mLder\u001b[0m\u001b[0;34m(\u001b[0m\u001b[0;34m)\u001b[0m\u001b[0;34m.\u001b[0m\u001b[0mshow\u001b[0m\u001b[0;34m(\u001b[0m\u001b[0;34m)\u001b[0m\u001b[0;34m\u001b[0m\u001b[0;34m\u001b[0m\u001b[0m\n\u001b[1;32m    626\u001b[0m             \u001b[0;31m# set_trace()\u001b[0m\u001b[0;34m\u001b[0m\u001b[0;34m\u001b[0m\u001b[0m\n\u001b[0;32m--> 627\u001b[0;31m             \u001b[0mself\u001b[0m\u001b[0;34m.\u001b[0m\u001b[0mS\u001b[0m \u001b[0;34m=\u001b[0m \u001b[0mAutoreduce\u001b[0m\u001b[0;34m(\u001b[0m\u001b[0mself\u001b[0m\u001b[0;34m.\u001b[0m\u001b[0mS\u001b[0m\u001b[0;34m,\u001b[0m \u001b[0mcontext\u001b[0m\u001b[0;34m)\u001b[0m\u001b[0;34m\u001b[0m\u001b[0;34m\u001b[0m\u001b[0m\n\u001b[0m\u001b[1;32m    628\u001b[0m             \u001b[0mprint\u001b[0m\u001b[0;34m(\u001b[0m\u001b[0;34m\"after autoreduce\"\u001b[0m\u001b[0;34m)\u001b[0m\u001b[0;34m\u001b[0m\u001b[0;34m\u001b[0m\u001b[0m\n\u001b[1;32m    629\u001b[0m             \u001b[0mself\u001b[0m\u001b[0;34m.\u001b[0m\u001b[0mshow\u001b[0m\u001b[0;34m(\u001b[0m\u001b[0;34m)\u001b[0m\u001b[0;34m\u001b[0m\u001b[0;34m\u001b[0m\u001b[0m\n",
      "\u001b[0;32m/researches/delierium/delierium/JanetBasis.py\u001b[0m in \u001b[0;36mAutoreduce\u001b[0;34m(S, context)\u001b[0m\n\u001b[1;32m    301\u001b[0m             \u001b[0mhave_reduced\u001b[0m \u001b[0;34m=\u001b[0m \u001b[0mhave_reduced\u001b[0m \u001b[0;32mor\u001b[0m \u001b[0mrnew\u001b[0m \u001b[0;34m!=\u001b[0m \u001b[0m_r\u001b[0m\u001b[0;34m\u001b[0m\u001b[0;34m\u001b[0m\u001b[0m\n\u001b[1;32m    302\u001b[0m             \u001b[0mnewdps\u001b[0m\u001b[0;34m.\u001b[0m\u001b[0mappend\u001b[0m\u001b[0;34m(\u001b[0m\u001b[0mrnew\u001b[0m\u001b[0;34m)\u001b[0m\u001b[0;34m\u001b[0m\u001b[0;34m\u001b[0m\u001b[0m\n\u001b[0;32m--> 303\u001b[0;31m         \u001b[0mdps\u001b[0m \u001b[0;34m=\u001b[0m \u001b[0mReorder\u001b[0m\u001b[0;34m(\u001b[0m\u001b[0m_p\u001b[0m \u001b[0;34m+\u001b[0m \u001b[0;34m[\u001b[0m\u001b[0m_\u001b[0m \u001b[0;32mfor\u001b[0m \u001b[0m_\u001b[0m  \u001b[0;32min\u001b[0m \u001b[0mnewdps\u001b[0m \u001b[0;32mif\u001b[0m \u001b[0m_\u001b[0m \u001b[0;32mnot\u001b[0m \u001b[0;32min\u001b[0m \u001b[0m_p\u001b[0m\u001b[0;34m]\u001b[0m\u001b[0;34m,\u001b[0m \u001b[0mcontext\u001b[0m\u001b[0;34m,\u001b[0m \u001b[0mascending\u001b[0m \u001b[0;34m=\u001b[0m \u001b[0;32mTrue\u001b[0m\u001b[0;34m)\u001b[0m\u001b[0;34m\u001b[0m\u001b[0;34m\u001b[0m\u001b[0m\n\u001b[0m\u001b[1;32m    304\u001b[0m         \u001b[0;32mif\u001b[0m \u001b[0;32mnot\u001b[0m \u001b[0mhave_reduced\u001b[0m\u001b[0;34m:\u001b[0m\u001b[0;34m\u001b[0m\u001b[0;34m\u001b[0m\u001b[0m\n\u001b[1;32m    305\u001b[0m             \u001b[0;31m# no reduction done\u001b[0m\u001b[0;34m\u001b[0m\u001b[0;34m\u001b[0m\u001b[0m\n",
      "\u001b[0;32m/researches/delierium/delierium/JanetBasis.py\u001b[0m in \u001b[0;36mReorder\u001b[0;34m(S, context, ascending)\u001b[0m\n\u001b[1;32m    219\u001b[0m \u001b[0;31m# ToDo: Janet_Basis as class as this object has properties like rank, order ...\u001b[0m\u001b[0;34m\u001b[0m\u001b[0;34m\u001b[0m\u001b[0m\n\u001b[1;32m    220\u001b[0m \u001b[0;32mdef\u001b[0m \u001b[0mReorder\u001b[0m\u001b[0;34m(\u001b[0m\u001b[0mS\u001b[0m\u001b[0;34m,\u001b[0m \u001b[0mcontext\u001b[0m\u001b[0;34m,\u001b[0m \u001b[0mascending\u001b[0m \u001b[0;34m=\u001b[0m \u001b[0;32mFalse\u001b[0m\u001b[0;34m)\u001b[0m\u001b[0;34m:\u001b[0m\u001b[0;34m\u001b[0m\u001b[0;34m\u001b[0m\u001b[0m\n\u001b[0;32m--> 221\u001b[0;31m     return sorted(S, key=functools.cmp_to_key(\n\u001b[0m\u001b[1;32m    222\u001b[0m         \u001b[0;32mlambda\u001b[0m \u001b[0mitem1\u001b[0m\u001b[0;34m,\u001b[0m \u001b[0mitem2\u001b[0m\u001b[0;34m:\u001b[0m\u001b[0;34m\u001b[0m\u001b[0;34m\u001b[0m\u001b[0m\n\u001b[1;32m    223\u001b[0m             sorter(item1.Lder(), item2.Lder(), context)),\n",
      "\u001b[0;32m/researches/delierium/delierium/JanetBasis.py\u001b[0m in \u001b[0;36m<lambda>\u001b[0;34m(item1, item2)\u001b[0m\n\u001b[1;32m    221\u001b[0m     return sorted(S, key=functools.cmp_to_key(\n\u001b[1;32m    222\u001b[0m         \u001b[0;32mlambda\u001b[0m \u001b[0mitem1\u001b[0m\u001b[0;34m,\u001b[0m \u001b[0mitem2\u001b[0m\u001b[0;34m:\u001b[0m\u001b[0;34m\u001b[0m\u001b[0;34m\u001b[0m\u001b[0m\n\u001b[0;32m--> 223\u001b[0;31m             sorter(item1.Lder(), item2.Lder(), context)),\n\u001b[0m\u001b[1;32m    224\u001b[0m         reverse=not ascending)\n\u001b[1;32m    225\u001b[0m \u001b[0;34m\u001b[0m\u001b[0m\n",
      "\u001b[0;32m/researches/delierium/delierium/MatrixOrder.py\u001b[0m in \u001b[0;36msorter\u001b[0;34m(d1, d2, context)\u001b[0m\n\u001b[1;32m    186\u001b[0m     \u001b[0;32mif\u001b[0m \u001b[0meq\u001b[0m\u001b[0;34m(\u001b[0m\u001b[0md1\u001b[0m\u001b[0;34m,\u001b[0m \u001b[0md2\u001b[0m\u001b[0;34m)\u001b[0m\u001b[0;34m:\u001b[0m\u001b[0;34m\u001b[0m\u001b[0;34m\u001b[0m\u001b[0m\n\u001b[1;32m    187\u001b[0m         \u001b[0;32mreturn\u001b[0m \u001b[0;36m1\u001b[0m\u001b[0;34m\u001b[0m\u001b[0;34m\u001b[0m\u001b[0m\n\u001b[0;32m--> 188\u001b[0;31m     \u001b[0;32mif\u001b[0m \u001b[0mhigher\u001b[0m\u001b[0;34m(\u001b[0m\u001b[0md1\u001b[0m\u001b[0;34m,\u001b[0m \u001b[0md2\u001b[0m\u001b[0;34m,\u001b[0m \u001b[0mcontext\u001b[0m\u001b[0;34m)\u001b[0m\u001b[0;34m:\u001b[0m\u001b[0;34m\u001b[0m\u001b[0;34m\u001b[0m\u001b[0m\n\u001b[0m\u001b[1;32m    189\u001b[0m         \u001b[0;32mreturn\u001b[0m \u001b[0;36m1\u001b[0m\u001b[0;34m\u001b[0m\u001b[0;34m\u001b[0m\u001b[0m\n\u001b[1;32m    190\u001b[0m     \u001b[0;32mreturn\u001b[0m \u001b[0;34m-\u001b[0m\u001b[0;36m1\u001b[0m\u001b[0;34m\u001b[0m\u001b[0;34m\u001b[0m\u001b[0m\n",
      "\u001b[0;32m/researches/delierium/delierium/MatrixOrder.py\u001b[0m in \u001b[0;36mhigher\u001b[0;34m(d1, d2, context)\u001b[0m\n\u001b[1;32m    139\u001b[0m         \u001b[0miv\u001b[0m \u001b[0;34m[\u001b[0m\u001b[0midx\u001b[0m\u001b[0;34m(\u001b[0m\u001b[0md\u001b[0m\u001b[0;34m)\u001b[0m\u001b[0;34m]\u001b[0m \u001b[0;34m+=\u001b[0m \u001b[0;36m1\u001b[0m\u001b[0;34m\u001b[0m\u001b[0;34m\u001b[0m\u001b[0m\n\u001b[1;32m    140\u001b[0m         \u001b[0;32mreturn\u001b[0m \u001b[0mvector\u001b[0m\u001b[0;34m(\u001b[0m\u001b[0morder_of_derivative\u001b[0m\u001b[0;34m(\u001b[0m\u001b[0md\u001b[0m\u001b[0;34m,\u001b[0m \u001b[0mlen\u001b[0m\u001b[0;34m(\u001b[0m\u001b[0mcontext\u001b[0m\u001b[0;34m.\u001b[0m\u001b[0m_independent\u001b[0m\u001b[0;34m)\u001b[0m\u001b[0;34m)\u001b[0m \u001b[0;34m+\u001b[0m \u001b[0miv\u001b[0m\u001b[0;34m)\u001b[0m\u001b[0;34m\u001b[0m\u001b[0;34m\u001b[0m\u001b[0m\n\u001b[0;32m--> 141\u001b[0;31m     \u001b[0mi1\u001b[0m \u001b[0;34m=\u001b[0m \u001b[0mget_derivative_vector\u001b[0m\u001b[0;34m(\u001b[0m\u001b[0md1\u001b[0m\u001b[0;34m)\u001b[0m\u001b[0;34m\u001b[0m\u001b[0;34m\u001b[0m\u001b[0m\n\u001b[0m\u001b[1;32m    142\u001b[0m     \u001b[0mi2\u001b[0m \u001b[0;34m=\u001b[0m \u001b[0mget_derivative_vector\u001b[0m\u001b[0;34m(\u001b[0m\u001b[0md2\u001b[0m\u001b[0;34m)\u001b[0m\u001b[0;34m\u001b[0m\u001b[0;34m\u001b[0m\u001b[0m\n\u001b[1;32m    143\u001b[0m     \u001b[0mr\u001b[0m \u001b[0;34m=\u001b[0m \u001b[0mcontext\u001b[0m\u001b[0;34m.\u001b[0m\u001b[0m_weight\u001b[0m \u001b[0;34m*\u001b[0m \u001b[0mvector\u001b[0m\u001b[0;34m(\u001b[0m\u001b[0mi1\u001b[0m\u001b[0;34m-\u001b[0m\u001b[0mi2\u001b[0m\u001b[0;34m)\u001b[0m\u001b[0;34m\u001b[0m\u001b[0;34m\u001b[0m\u001b[0m\n",
      "\u001b[0;32m/researches/delierium/delierium/MatrixOrder.py\u001b[0m in \u001b[0;36mget_derivative_vector\u001b[0;34m(d)\u001b[0m\n\u001b[1;32m    137\u001b[0m     \u001b[0;32mdef\u001b[0m \u001b[0mget_derivative_vector\u001b[0m\u001b[0;34m(\u001b[0m\u001b[0md\u001b[0m\u001b[0;34m)\u001b[0m\u001b[0;34m:\u001b[0m\u001b[0;34m\u001b[0m\u001b[0;34m\u001b[0m\u001b[0m\n\u001b[1;32m    138\u001b[0m         \u001b[0miv\u001b[0m \u001b[0;34m=\u001b[0m \u001b[0;34m[\u001b[0m\u001b[0;36m0\u001b[0m\u001b[0;34m]\u001b[0m\u001b[0;34m*\u001b[0m\u001b[0mlen\u001b[0m\u001b[0;34m(\u001b[0m\u001b[0mcontext\u001b[0m\u001b[0;34m.\u001b[0m\u001b[0m_dependent\u001b[0m\u001b[0;34m)\u001b[0m\u001b[0;34m\u001b[0m\u001b[0;34m\u001b[0m\u001b[0m\n\u001b[0;32m--> 139\u001b[0;31m         \u001b[0miv\u001b[0m \u001b[0;34m[\u001b[0m\u001b[0midx\u001b[0m\u001b[0;34m(\u001b[0m\u001b[0md\u001b[0m\u001b[0;34m)\u001b[0m\u001b[0;34m]\u001b[0m \u001b[0;34m+=\u001b[0m \u001b[0;36m1\u001b[0m\u001b[0;34m\u001b[0m\u001b[0;34m\u001b[0m\u001b[0m\n\u001b[0m\u001b[1;32m    140\u001b[0m         \u001b[0;32mreturn\u001b[0m \u001b[0mvector\u001b[0m\u001b[0;34m(\u001b[0m\u001b[0morder_of_derivative\u001b[0m\u001b[0;34m(\u001b[0m\u001b[0md\u001b[0m\u001b[0;34m,\u001b[0m \u001b[0mlen\u001b[0m\u001b[0;34m(\u001b[0m\u001b[0mcontext\u001b[0m\u001b[0;34m.\u001b[0m\u001b[0m_independent\u001b[0m\u001b[0;34m)\u001b[0m\u001b[0;34m)\u001b[0m \u001b[0;34m+\u001b[0m \u001b[0miv\u001b[0m\u001b[0;34m)\u001b[0m\u001b[0;34m\u001b[0m\u001b[0;34m\u001b[0m\u001b[0m\n\u001b[1;32m    141\u001b[0m     \u001b[0mi1\u001b[0m \u001b[0;34m=\u001b[0m \u001b[0mget_derivative_vector\u001b[0m\u001b[0;34m(\u001b[0m\u001b[0md1\u001b[0m\u001b[0;34m)\u001b[0m\u001b[0;34m\u001b[0m\u001b[0;34m\u001b[0m\u001b[0m\n",
      "\u001b[0;32m/researches/delierium/delierium/MatrixOrder.py\u001b[0m in \u001b[0;36midx\u001b[0;34m(d)\u001b[0m\n\u001b[1;32m    133\u001b[0m     \u001b[0;32mdef\u001b[0m \u001b[0midx\u001b[0m\u001b[0;34m(\u001b[0m\u001b[0md\u001b[0m\u001b[0;34m)\u001b[0m\u001b[0;34m:\u001b[0m\u001b[0;34m\u001b[0m\u001b[0;34m\u001b[0m\u001b[0m\n\u001b[1;32m    134\u001b[0m         \u001b[0;31m# faster than functools.cache\u001b[0m\u001b[0;34m\u001b[0m\u001b[0;34m\u001b[0m\u001b[0m\n\u001b[0;32m--> 135\u001b[0;31m         \u001b[0;32mreturn\u001b[0m \u001b[0mcontext\u001b[0m\u001b[0;34m.\u001b[0m\u001b[0m_dependent\u001b[0m\u001b[0;34m.\u001b[0m\u001b[0mindex\u001b[0m\u001b[0;34m(\u001b[0m\u001b[0manalyze_dterm\u001b[0m\u001b[0;34m(\u001b[0m\u001b[0md\u001b[0m\u001b[0;34m)\u001b[0m\u001b[0;34m)\u001b[0m\u001b[0;34m\u001b[0m\u001b[0;34m\u001b[0m\u001b[0m\n\u001b[0m\u001b[1;32m    136\u001b[0m     \u001b[0;34m@\u001b[0m\u001b[0mfunctools\u001b[0m\u001b[0;34m.\u001b[0m\u001b[0mcache\u001b[0m\u001b[0;34m\u001b[0m\u001b[0;34m\u001b[0m\u001b[0m\n\u001b[1;32m    137\u001b[0m     \u001b[0;32mdef\u001b[0m \u001b[0mget_derivative_vector\u001b[0m\u001b[0;34m(\u001b[0m\u001b[0md\u001b[0m\u001b[0;34m)\u001b[0m\u001b[0;34m:\u001b[0m\u001b[0;34m\u001b[0m\u001b[0;34m\u001b[0m\u001b[0m\n",
      "\u001b[0;31mValueError\u001b[0m: tuple.index(x): x not in tuple"
     ]
    }
   ],
   "source": [
    "# Schwarz, Example 5.9, p.214\",\n",
    "x = var('x')\n",
    "y = function(\"y\")\n",
    "ode = 4*diff(y(x),x,x)*x**2 + (x**4) * diff(y(x), x)**2 + 4*y(x)\n",
    "inf = infinitesimalsODE(ode, y, x)\n",
    "print(\".\"*25)\n",
    "for _ in inf:\n",
    "    _.show()"
   ]
  },
  {
   "cell_type": "code",
   "execution_count": null,
   "id": "5ba6d39b-7285-48c1-b280-685d2ffe26a6",
   "metadata": {},
   "outputs": [],
   "source": [
    "# Schwarz, Example 5.11, p 215\n",
    "ode = (x-diff(y(x), x))*diff(y(x), x,x) - 4 * diff(y(x), x)**2\n",
    "inf = infinitesimalsODE(ode, y, x)\n",
    "print(\".\"*25)\n",
    "for _ in inf:\n",
    "    _.show()"
   ]
  },
  {
   "cell_type": "code",
   "execution_count": null,
   "id": "c782a939-7af9-4cfb-8635-4e1877cdc38e",
   "metadata": {},
   "outputs": [],
   "source": [
    "for _ in inf:\n",
    "    _.show()"
   ]
  },
  {
   "cell_type": "code",
   "execution_count": null,
   "id": "fd0a86a0-9968-4385-a86c-7d516b90892f",
   "metadata": {},
   "outputs": [],
   "source": [
    "# Arrigo, example 2.17\n",
    "ode = diff(y(x), x,x)\n",
    "inf = infinitesimalsODE(ode, y, x)\n",
    "print(\"========\")\n",
    "for _ in inf:\n",
    "    _.show()"
   ]
  },
  {
   "cell_type": "code",
   "execution_count": null,
   "id": "ddb2f057-bcac-437c-993d-e3b0f1dc5557",
   "metadata": {},
   "outputs": [],
   "source": [
    "ode2=4*diff(y(x),x,x)*y(x)**2 - 3* (x**2)*diff(y(x),x)*2-12*y(x)**3\n",
    "inf = infinitesimalsODE(ode2, y ,x)\n",
    "print(\"=======\")\n",
    "for _ in inf:\n",
    "    _.show()"
   ]
  },
  {
   "cell_type": "code",
   "execution_count": null,
   "id": "1279dab5-7468-49a9-9abe-f936de8002f8",
   "metadata": {},
   "outputs": [],
   "source": [
    "ode3=diff(y(x),x,x) + y(x)*diff(y(x),x)+x*y(x)**4\n",
    "inf = infinitesimalsODE(ode3, y ,x)\n",
    "print(\"=========\")\n",
    "for _ in inf:\n",
    "    _.show()"
   ]
  },
  {
   "cell_type": "code",
   "execution_count": null,
   "id": "f42bc8a4-e32d-43cc-96ab-1458929b4f78",
   "metadata": {},
   "outputs": [],
   "source": [
    "            print (\"A\"*99)\n",
    "            print (potential_funcs[0], zip(potential_funcs[0], e2_order))\n",
    "#xi = function('xi')\n",
    "#phi = function('phi')\n",
    "#x, y = var(\"x,y\")#\n",
    "#ctx = Context([xi, phi], [y,x])\n",
    "#m = [-diff(xi(y,x), y,y),\n",
    "#                  2*y*diff(xi(y,x), y) + diff(phi(y,x), y,y) - 2*diff(xi(y,x), x,y),\n",
    "#                  3*x*(y**4)*diff(xi(y,x), y) + y*diff(xi(x,y),x) + phi(y,x) + 2*diff(phi(y,x),x) - diff(xi(y,x),x,x),\n",
    "#                  -x*(y**4)*diff(phi(y,x),y) + 2*x*(y**4)*diff(xi(y,x), x)+4*x*phi(y,x) * (y**3) + xi(y,x)*(y**4)+y*diff(phi(y,x),x)+diff(phi(y,x),x,x) \n",
    "#                 ]            print (\"A\"*99)\n",
    "            print (potential_funcs[0], zip(potential_funcs[0], e2_order))\n",
    "\n",
    "#for _ in m:\n",
    "#    _.show()\n",
    "#jj = Janet_Basis(m, ctx._dependent, ctx._independent)\n",
    "#jj.show()"
   ]
  },
  {
   "cell_type": "code",
   "execution_count": null,
   "id": "bc3fa9f6-5fe6-4111-8805-71702826f3e8",
   "metadata": {
    "scrolled": true
   },
   "outputs": [],
   "source": [
    "##### Arrigo, Example 2.19, pp. 49\n",
    "x =  var(\"x\")\n",
    "y = function(\"y\")\n",
    "\n",
    "ode4=diff(y(x),x,x) + 3*y(x)*diff(y(x),x)+y(x)**3\n",
    "inf = infinitesimalsODE(ode4, y ,x)\n",
    "print(\"=========\")\n",
    "for _ in inf:\n",
    "    _.show()"
   ]
  },
  {
   "cell_type": "code",
   "execution_count": null,
   "id": "8f548ab8-dab5-4e27-9038-04156b819924",
   "metadata": {},
   "outputs": [],
   "source": [
    "# Arrigo, Example 2.20\n",
    "ode5=diff(y(x),x,x,x) + y(x)*diff(y(x),x,x)\n",
    "inf = infinitesimalsODE(ode5, y ,x)\n",
    "print(\"=========\")\n",
    "for _ in inf:\n",
    "    _.show()"
   ]
  }
 ],
 "metadata": {
  "kernelspec": {
   "display_name": "SageMath 9.4",
   "language": "sage",
   "name": "sagemath"
  },
  "language_info": {
   "codemirror_mode": {
    "name": "ipython",
    "version": 3
   },
   "file_extension": ".py",
   "mimetype": "text/x-python",
   "name": "python",
   "nbconvert_exporter": "python",
   "pygments_lexer": "ipython3",
   "version": "3.9.9"
  },
  "widgets": {
   "application/vnd.jupyter.widget-state+json": {
    "state": {},
    "version_major": 2,
    "version_minor": 0
   }
  }
 },
 "nbformat": 4,
 "nbformat_minor": 5
}
