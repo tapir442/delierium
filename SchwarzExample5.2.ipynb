{
 "cells": [
  {
   "cell_type": "code",
   "execution_count": 1,
   "id": "545ab148",
   "metadata": {},
   "outputs": [],
   "source": [
    "from delierium.Infinitesimals import prolongationODE\n",
    "from delierium.JanetBasis import Janet_Basis\n",
    "from delierium.helpers import latexer\n",
    "from sage.misc.html import html"
   ]
  },
  {
   "cell_type": "code",
   "execution_count": 2,
   "id": "09a4b34a",
   "metadata": {},
   "outputs": [],
   "source": [
    "x = var('x')\n",
    "y=function('y')"
   ]
  },
  {
   "cell_type": "code",
   "execution_count": 3,
   "id": "22b129e9",
   "metadata": {},
   "outputs": [],
   "source": [
    "ode=4*diff(y(x),x,x)*y(x) - 3* (diff(y(x),x)**2)-12*(y(x)**3)"
   ]
  },
  {
   "cell_type": "code",
   "execution_count": 4,
   "id": "5b7f1d33",
   "metadata": {},
   "outputs": [],
   "source": [
    "p=prolongationODE(ode, y, x)"
   ]
  },
  {
   "cell_type": "code",
   "execution_count": 5,
   "id": "97ac90fc",
   "metadata": {},
   "outputs": [
    {
     "data": {
      "text/html": [
       "<p>\\(-4 y \\xi_{yy} y_{x}^3+4 y \\phi_{yy} y_{x}^2-8 y \\xi_{yx} y_{x}^2+6 \\xi_{y} y_{x}^3-12 y \\xi_{y} y_{x} y_{xx}-36 \\phi y+8 y \\phi_{yx} y_{x}-4 y \\xi_{xx} y_{x}-6 \\phi_{y} y_{x}^2+6 \\xi_{x} y_{x}^2+4 y \\phi_{y} y_{xx}-8 y \\xi_{x} y_{xx}+4 y \\phi_{xx}-6 \\phi_{x} y_{x}+4 \\phi y_{xx}\\)</p>"
      ],
      "text/plain": [
       "<p>\\(-4 y \\xi_{yy} y_{x}^3+4 y \\phi_{yy} y_{x}^2-8 y \\xi_{yx} y_{x}^2+6 \\xi_{y} y_{x}^3-12 y \\xi_{y} y_{x} y_{xx}-36 \\phi y+8 y \\phi_{yx} y_{x}-4 y \\xi_{xx} y_{x}-6 \\phi_{y} y_{x}^2+6 \\xi_{x} y_{x}^2+4 y \\phi_{y} y_{xx}-8 y \\xi_{x} y_{xx}+4 y \\phi_{xx}-6 \\phi_{x} y_{x}+4 \\phi y_{xx}\\)</p>"
      ]
     },
     "metadata": {},
     "output_type": "display_data"
    }
   ],
   "source": [
    "for _p in p:\n",
    "    show(latexer(_p))"
   ]
  },
  {
   "cell_type": "code",
   "execution_count": null,
   "id": "89de1c73",
   "metadata": {},
   "outputs": [],
   "source": [
    "from IPython.core.debugger import set_trace\n",
    "function('xi phi')\n",
    "def infinitesimalsODE (ode, dependent, independent):\n",
    "    prolongation = prolongationODE(ode, dependent, independent)[0].expand()\n",
    "    s1  = solve(ode==0, diff(dependent(independent),independent,independent))\n",
    "    ode1= prolongation.subs({s1[0].lhs() : s1[0].rhs()}).simplify()\n",
    "    # so far it is checked manually and with mathematica\n",
    "    l = [_ [0] for _ in ode1.coefficients(diff(dependent(independent), independent))]\n",
    "    # remove hardcoded xi, phi\n",
    "    janet = Janet_Basis(l, [xi, phi], [x, y])\n",
    "    return janet"
   ]
  },
  {
   "cell_type": "code",
   "execution_count": null,
   "id": "e524c658-6b1a-486e-8cb5-a6961261adc2",
   "metadata": {
    "tags": []
   },
   "outputs": [],
   "source": [
    "ode=4*diff(y(x),x,x)*y(x) - 3* diff(y(x),x)**2-12*y(x)**3\n",
    "inf = infinitesimalsODE(ode, y ,x)"
   ]
  },
  {
   "cell_type": "code",
   "execution_count": null,
   "id": "bb3e29b4-aae9-4f4d-a7d9-e3b11538b29b",
   "metadata": {},
   "outputs": [],
   "source": []
  }
 ],
 "metadata": {
  "kernelspec": {
   "display_name": "SageMath 9.6",
   "language": "sage",
   "name": "sagemath"
  },
  "language_info": {
   "codemirror_mode": {
    "name": "ipython",
    "version": 3
   },
   "file_extension": ".py",
   "mimetype": "text/x-python",
   "name": "python",
   "nbconvert_exporter": "python",
   "pygments_lexer": "ipython3",
   "version": "3.10.6"
  },
  "widgets": {
   "application/vnd.jupyter.widget-state+json": {
    "state": {},
    "version_major": 2,
    "version_minor": 0
   }
  }
 },
 "nbformat": 4,
 "nbformat_minor": 5
}
