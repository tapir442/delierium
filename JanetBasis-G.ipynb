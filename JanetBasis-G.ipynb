{
 "cells": [
  {
   "cell_type": "code",
   "execution_count": 1,
   "metadata": {},
   "outputs": [
    {
     "ename": "SyntaxError",
     "evalue": "invalid syntax (JanetBasis.py, line 461)",
     "output_type": "error",
     "traceback": [
      "Traceback \u001b[0;36m(most recent call last)\u001b[0m:\n",
      "  File \u001b[1;32m\"/opt/SageMath/local/lib/python3.9/site-packages/IPython/core/interactiveshell.py\"\u001b[0m, line \u001b[1;32m3343\u001b[0m, in \u001b[1;35mrun_code\u001b[0m\n    exec(code_obj, self.user_global_ns, self.user_ns)\n",
      "  File \u001b[1;32m\"<ipython-input-1-19b8dec60369>\"\u001b[0m, line \u001b[1;32m2\u001b[0m, in \u001b[1;35m<module>\u001b[0m\n    from delierium import *\n",
      "\u001b[0;36m  File \u001b[0;32m\"/home/tapir/Documents/researches/delierium/delierium/__init__.py\"\u001b[0;36m, line \u001b[0;32m3\u001b[0;36m, in \u001b[0;35m<module>\u001b[0;36m\u001b[0m\n\u001b[0;31m    from .JanetBasis import DTerm, Differential_Polynomial, Autoreduce, Reorder, multipliers, vec_multipliers, degree, vec_degree, \\\u001b[0m\n",
      "\u001b[0;36m  File \u001b[0;32m\"/home/tapir/Documents/researches/delierium/delierium/JanetBasis.py\"\u001b[0;36m, line \u001b[0;32m461\u001b[0m\n\u001b[0;31m    if not any (in_class (tuple(_m), v, mult, nonmult):\u001b[0m\n\u001b[0m                                                      ^\u001b[0m\n\u001b[0;31mSyntaxError\u001b[0m\u001b[0;31m:\u001b[0m invalid syntax\n"
     ]
    }
   ],
   "source": [
    "%display latex\n",
    "from delierium import *\n",
    "from pprint import pprint \n",
    "from collections.abc import Iterable\n",
    "import functools\n",
    "from operator import mul, sub\n",
    "from IPython.core.debugger import set_trace\n",
    "import itertools"
   ]
  },
  {
   "cell_type": "code",
   "execution_count": null,
   "metadata": {},
   "outputs": [],
   "source": [
    "def FindIntegrableConditions(S, context):\n",
    "    leading_derivatives = [order_of_derivative(_l.Lder()) for _l in S]\n",
    "    for e1, e2 in itertools.product(S, repeat = 2):\n",
    "        # XXX follows same logic as Complete: campare if Lfunct is the same else ignore\n",
    "        print (\"LLLLLLLLLLLLLLLLLLLLLLLLLLLLLLLLLLLLLLLL\")\n",
    "        e1.show()\n",
    "        e2.show()\n",
    "        #set_trace()\n",
    "        if bool(e1 == e2):\n",
    "            continue\n",
    "        e1_mult, e1_nonmult = vec_multipliers(order_of_derivative(e1.Lder()),leading_derivatives, sorted(context._independent, reverse = true))\n",
    "        e2_mult, e2_nonmult = vec_multipliers(order_of_derivative(e2.Lder()),leading_derivatives, sorted(context._independent, reverse = true))\n",
    "        print (e1, e1_mult, e1_nonmult)\n",
    "        print (e2, e2_mult, e2_nonmult)\n",
    "    return S"
   ]
  },
  {
   "cell_type": "code",
   "execution_count": null,
   "metadata": {},
   "outputs": [],
   "source": [
    "def ReduceIntegrabilityConditions(S, context):\n",
    "    return S"
   ]
  },
  {
   "cell_type": "code",
   "execution_count": null,
   "metadata": {},
   "outputs": [],
   "source": [
    "var (\"x y\")\n",
    "z = function(\"z\")(x,y)\n",
    "w = function(\"w\")(x,y)\n",
    "# ctx: items are in descending order ?\n",
    "ctx = Context((w,z), (x,y), Mgrlex)\n",
    "%load_ext snakeviz"
   ]
  },
  {
   "cell_type": "code",
   "execution_count": null,
   "metadata": {},
   "outputs": [],
   "source": [
    "class Janet_Basis:\n",
    "    def __init__ (self, S, context):\n",
    "        if not isinstance(S, Iterable):\n",
    "            # bad criterion\n",
    "            S = [S]\n",
    "        self._init(S, context)\n",
    "    def _init (self, S, context):\n",
    "        S = Reorder([Differential_Polynomial(s, context) for s in S], context, ascending = True)\n",
    "        while 1:\n",
    "            S = Autoreduce (S, context)   \n",
    "            #print (\"******************   Autoreduce ****************************************\")\n",
    "            #for _ in S:\n",
    "            #    _.show()  \n",
    "            set_trace ()\n",
    "            S = CompleteSystem(S, context)\n",
    "            #print (\"******************   completesystem ****************************************\")\n",
    "            #for _ in S:\n",
    "            #    _.show()            \n",
    "            S = FindIntegrableConditions(S, context)\n",
    "            #print (\"******************   FindIntegr ****************************************\")\n",
    "            #for _ in S:\n",
    "            #    _.show()            \n",
    "            S = c = ReduceIntegrabilityConditions(S, context)\n",
    "            #print (\"******************   ReduceIntegr ****************************************\")\n",
    "            #for _ in S:\n",
    "            #    _.show()            \n",
    "            if not c or all ([_ == 0 for _ in c]):\n",
    "                self._S = S\n",
    "                return\n",
    "            S += c\n",
    "            S = Reorder (S, context)\n",
    "            self._S = S[:]        \n",
    "            return \n",
    "            \n",
    "    def show(self):\n",
    "        for _ in self._S:\n",
    "            _.show()"
   ]
  },
  {
   "cell_type": "code",
   "execution_count": null,
   "metadata": {},
   "outputs": [],
   "source": [
    "g1=diff(z,y,y)+diff(z,y)/(2*y)\n",
    "g2=diff(w,x,x)+(4*y**2)*diff(w,y)-(8*y**2)*diff(z,x)-8*y*w\n",
    "g3=diff(w,x,y)-diff(z,x,x)/2-diff(w,x)/(2*y)-diff(z,y)*6*y**2\n",
    "g4=diff(w,y,y)-2*diff(z,x,y)-diff(w,y)/(2*y)-w/(2*y**2)"
   ]
  },
  {
   "cell_type": "code",
   "execution_count": null,
   "metadata": {},
   "outputs": [],
   "source": [
    "#%%snakeviz\n",
    "c2=Janet_Basis ([g1,g2,g3,g4], ctx)"
   ]
  },
  {
   "cell_type": "code",
   "execution_count": null,
   "metadata": {},
   "outputs": [],
   "source": []
  },
  {
   "cell_type": "code",
   "execution_count": null,
   "metadata": {},
   "outputs": [],
   "source": []
  },
  {
   "cell_type": "code",
   "execution_count": null,
   "metadata": {},
   "outputs": [],
   "source": []
  }
 ],
 "metadata": {
  "kernelspec": {
   "display_name": "SageMath 9.4",
   "language": "sage",
   "name": "sagemath"
  },
  "language_info": {
   "codemirror_mode": {
    "name": "ipython",
    "version": 3
   },
   "file_extension": ".py",
   "mimetype": "text/x-python",
   "name": "python",
   "nbconvert_exporter": "python",
   "pygments_lexer": "ipython3",
   "version": "3.9.5"
  },
  "toc-autonumbering": true,
  "toc-showcode": true,
  "toc-showmarkdowntxt": true,
  "toc-showtags": false
 },
 "nbformat": 4,
 "nbformat_minor": 5
}
