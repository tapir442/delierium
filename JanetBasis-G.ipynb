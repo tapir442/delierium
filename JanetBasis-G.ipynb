{
 "cells": [
  {
   "cell_type": "code",
   "execution_count": 1,
   "metadata": {},
   "outputs": [],
   "source": [
    "%display latex\n",
    "from delierium import *\n",
    "from pprint import pprint \n",
    "from collections.abc import Iterable\n",
    "import functools\n",
    "from operator import mul, sub\n",
    "from IPython.core.debugger import set_trace\n",
    "import itertools"
   ]
  },
  {
   "cell_type": "code",
   "execution_count": 2,
   "metadata": {},
   "outputs": [],
   "source": [
    "def FindIntegrableConditions(S, context):\n",
    "    leading_derivatives = [_l.Lder() for _l in S]\n",
    "    for e1, e2 in itertools.product(S, repeat = 2):\n",
    "        if bool(e1 == e2):\n",
    "            continue\n",
    "        e1_mult, e1_nonmult = multipliers(e1.Lder(),leading_derivatives, sorted(context._independent, reverse = true))\n",
    "        e2_mult, e2_nonmult = multipliers(e2.Lder(),leading_derivatives, sorted(context._independent, reverse = true))\n",
    "        print (e1, e1_mult, e1_nonmult)\n",
    "        print (e2, e2_mult, e2_nonmult)\n",
    "    return S"
   ]
  },
  {
   "cell_type": "code",
   "execution_count": 3,
   "metadata": {},
   "outputs": [],
   "source": [
    "def ReduceIntegrabilityConditions(S, context):\n",
    "    return S"
   ]
  },
  {
   "cell_type": "code",
   "execution_count": 4,
   "metadata": {},
   "outputs": [],
   "source": [
    "var (\"x y\")\n",
    "z = function(\"z\")(x,y)\n",
    "w = function(\"w\")(x,y)\n",
    "# ctx: items are in descending order ?\n",
    "ctx = Context((w,z), (x,y), Mgrlex)"
   ]
  },
  {
   "cell_type": "code",
   "execution_count": 5,
   "metadata": {},
   "outputs": [],
   "source": [
    "class Janet_Basis:\n",
    "    def __init__ (self, S, context):\n",
    "        if not isinstance(S, Iterable):\n",
    "            # bad criterion\n",
    "            S = [S]\n",
    "        self._init(S, context)\n",
    "    def _init (self, S, context):\n",
    "        S = Reorder([Differential_Polynomial(s, context) for s in S], context, ascending = True)\n",
    "        while 1:\n",
    "            S = Autoreduce (S, context)   \n",
    "            print (\"******************   Autoreduce ****************************************\")\n",
    "            for _ in S:\n",
    "                _.show()  \n",
    "            set_trace ()\n",
    "            S = CompleteSystem(S, context)\n",
    "            print (\"******************   completesystem ****************************************\")\n",
    "            for _ in S:\n",
    "                _.show()            \n",
    "            S = FindIntegrableConditions(S, context)\n",
    "            print (\"******************   FindIntegr ****************************************\")\n",
    "            for _ in S:\n",
    "                _.show()            \n",
    "            S = c = ReduceIntegrabilityConditions(S, context)\n",
    "            print (\"******************   ReduceIntegr ****************************************\")\n",
    "            for _ in S:\n",
    "                _.show()            \n",
    "            if not c or all ([_ == 0 for _ in c]):\n",
    "                self._S = S\n",
    "                return\n",
    "            S += c\n",
    "            S = Reorder (S, context)\n",
    "            self._S = S[:]        \n",
    "            return \n",
    "            \n",
    "    def show(self):\n",
    "        for _ in self._S:\n",
    "            _.show()"
   ]
  },
  {
   "cell_type": "code",
   "execution_count": 6,
   "metadata": {},
   "outputs": [],
   "source": [
    "g1=diff(z,y,y)+diff(z,y)/(2*y)\n",
    "g2=diff(w,x,x)+(4*y**2)*diff(w,y)-(8*y**2)*diff(z,x)-8*y*w\n",
    "g3=diff(w,x,y)-diff(z,x,x)/2-diff(w,x)/(2*y)-diff(z,y)*6*y**2\n",
    "g4=diff(w,y,y)-2*diff(z,x,y)-diff(w,y)/(2*y)-w/(2*y**2)"
   ]
  },
  {
   "cell_type": "code",
   "execution_count": 7,
   "metadata": {},
   "outputs": [
    {
     "name": "stdout",
     "output_type": "stream",
     "text": [
      "******************   Autoreduce ****************************************\n"
     ]
    },
    {
     "data": {
      "text/html": [
       "<html>\\[\\newcommand{\\Bold}[1]{\\mathbf{#1}}\\frac{\\frac{\\partial}{\\partial y}z\\left(x, y\\right)}{2 \\, y} + \\frac{\\partial^{2}}{(\\partial y)^{2}}z\\left(x, y\\right)\\]</html>"
      ],
      "text/latex": [
       "$$\\newcommand{\\Bold}[1]{\\mathbf{#1}}\\frac{\\frac{\\partial}{\\partial y}z\\left(x, y\\right)}{2 \\, y} + \\frac{\\partial^{2}}{(\\partial y)^{2}}z\\left(x, y\\right)$$"
      ],
      "text/plain": [
       "1/2*diff(z(x, y), y)/y + diff(z(x, y), y, y)"
      ]
     },
     "metadata": {},
     "output_type": "display_data"
    },
    {
     "data": {
      "text/html": [
       "<html>\\[\\newcommand{\\Bold}[1]{\\mathbf{#1}}-\\frac{\\frac{\\partial}{\\partial y}w\\left(x, y\\right)}{2 \\, y} - \\frac{w\\left(x, y\\right)}{2 \\, y^{2}} + \\frac{\\partial^{2}}{(\\partial y)^{2}}w\\left(x, y\\right) - 2 \\, \\frac{\\partial^{2}}{\\partial x\\partial y}z\\left(x, y\\right)\\]</html>"
      ],
      "text/latex": [
       "$$\\newcommand{\\Bold}[1]{\\mathbf{#1}}-\\frac{\\frac{\\partial}{\\partial y}w\\left(x, y\\right)}{2 \\, y} - \\frac{w\\left(x, y\\right)}{2 \\, y^{2}} + \\frac{\\partial^{2}}{(\\partial y)^{2}}w\\left(x, y\\right) - 2 \\, \\frac{\\partial^{2}}{\\partial x\\partial y}z\\left(x, y\\right)$$"
      ],
      "text/plain": [
       "-1/2*diff(w(x, y), y)/y - 1/2*w(x, y)/y^2 + diff(w(x, y), y, y) - 2*diff(z(x, y), x, y)"
      ]
     },
     "metadata": {},
     "output_type": "display_data"
    },
    {
     "data": {
      "text/html": [
       "<html>\\[\\newcommand{\\Bold}[1]{\\mathbf{#1}}-6 \\, y^{2} \\frac{\\partial}{\\partial y}z\\left(x, y\\right) - \\frac{\\frac{\\partial}{\\partial x}w\\left(x, y\\right)}{2 \\, y} + \\frac{\\partial^{2}}{\\partial x\\partial y}w\\left(x, y\\right) - \\frac{1}{2} \\, \\frac{\\partial^{2}}{(\\partial x)^{2}}z\\left(x, y\\right)\\]</html>"
      ],
      "text/latex": [
       "$$\\newcommand{\\Bold}[1]{\\mathbf{#1}}-6 \\, y^{2} \\frac{\\partial}{\\partial y}z\\left(x, y\\right) - \\frac{\\frac{\\partial}{\\partial x}w\\left(x, y\\right)}{2 \\, y} + \\frac{\\partial^{2}}{\\partial x\\partial y}w\\left(x, y\\right) - \\frac{1}{2} \\, \\frac{\\partial^{2}}{(\\partial x)^{2}}z\\left(x, y\\right)$$"
      ],
      "text/plain": [
       "-6*y^2*diff(z(x, y), y) - 1/2*diff(w(x, y), x)/y + diff(w(x, y), x, y) - 1/2*diff(z(x, y), x, x)"
      ]
     },
     "metadata": {},
     "output_type": "display_data"
    },
    {
     "data": {
      "text/html": [
       "<html>\\[\\newcommand{\\Bold}[1]{\\mathbf{#1}}4 \\, y^{2} \\frac{\\partial}{\\partial y}w\\left(x, y\\right) - 8 \\, y^{2} \\frac{\\partial}{\\partial x}z\\left(x, y\\right) - 8 \\, y w\\left(x, y\\right) + \\frac{\\partial^{2}}{(\\partial x)^{2}}w\\left(x, y\\right)\\]</html>"
      ],
      "text/latex": [
       "$$\\newcommand{\\Bold}[1]{\\mathbf{#1}}4 \\, y^{2} \\frac{\\partial}{\\partial y}w\\left(x, y\\right) - 8 \\, y^{2} \\frac{\\partial}{\\partial x}z\\left(x, y\\right) - 8 \\, y w\\left(x, y\\right) + \\frac{\\partial^{2}}{(\\partial x)^{2}}w\\left(x, y\\right)$$"
      ],
      "text/plain": [
       "4*y^2*diff(w(x, y), y) - 8*y^2*diff(z(x, y), x) - 8*y*w(x, y) + diff(w(x, y), x, x)"
      ]
     },
     "metadata": {},
     "output_type": "display_data"
    },
    {
     "name": "stdout",
     "output_type": "stream",
     "text": [
      "> \u001b[0;32m<ipython-input-5-701fb689faa6>\u001b[0m(15)\u001b[0;36m_init\u001b[0;34m()\u001b[0m\n",
      "\u001b[0;32m     13 \u001b[0;31m                \u001b[0m_\u001b[0m\u001b[0;34m.\u001b[0m\u001b[0mshow\u001b[0m\u001b[0;34m(\u001b[0m\u001b[0;34m)\u001b[0m\u001b[0;34m\u001b[0m\u001b[0;34m\u001b[0m\u001b[0m\n",
      "\u001b[0m\u001b[0;32m     14 \u001b[0;31m            \u001b[0mset_trace\u001b[0m \u001b[0;34m(\u001b[0m\u001b[0;34m)\u001b[0m\u001b[0;34m\u001b[0m\u001b[0;34m\u001b[0m\u001b[0m\n",
      "\u001b[0m\u001b[0;32m---> 15 \u001b[0;31m            \u001b[0mS\u001b[0m \u001b[0;34m=\u001b[0m \u001b[0mCompleteSystem\u001b[0m\u001b[0;34m(\u001b[0m\u001b[0mS\u001b[0m\u001b[0;34m,\u001b[0m \u001b[0mcontext\u001b[0m\u001b[0;34m)\u001b[0m\u001b[0;34m\u001b[0m\u001b[0;34m\u001b[0m\u001b[0m\n",
      "\u001b[0m\u001b[0;32m     16 \u001b[0;31m            \u001b[0mprint\u001b[0m \u001b[0;34m(\u001b[0m\u001b[0;34m\"******************   completesystem ****************************************\"\u001b[0m\u001b[0;34m)\u001b[0m\u001b[0;34m\u001b[0m\u001b[0;34m\u001b[0m\u001b[0m\n",
      "\u001b[0m\u001b[0;32m     17 \u001b[0;31m            \u001b[0;32mfor\u001b[0m \u001b[0m_\u001b[0m \u001b[0;32min\u001b[0m \u001b[0mS\u001b[0m\u001b[0;34m:\u001b[0m\u001b[0;34m\u001b[0m\u001b[0;34m\u001b[0m\u001b[0m\n",
      "\u001b[0m\n"
     ]
    },
    {
     "name": "stdin",
     "output_type": "stream",
     "text": [
      "ipdb>  c\n"
     ]
    },
    {
     "name": "stdout",
     "output_type": "stream",
     "text": [
      "S1: Separation\n",
      "S2: complete  z\n",
      "S2: complete  w\n",
      "> \u001b[0;32m/home/tapir/Documents/researches/delierium/delierium/JanetBasis.py\u001b[0m(481)\u001b[0;36mcomplete\u001b[0;34m()\u001b[0m\n",
      "\u001b[0;32m    479 \u001b[0;31m    \u001b[0mm0\u001b[0m                  \u001b[0;34m=\u001b[0m \u001b[0;34m[\u001b[0m\u001b[0;34m]\u001b[0m\u001b[0;34m\u001b[0m\u001b[0;34m\u001b[0m\u001b[0m\n",
      "\u001b[0m\u001b[0;32m    480 \u001b[0;31m    \u001b[0mset_trace\u001b[0m\u001b[0;34m(\u001b[0m\u001b[0;34m)\u001b[0m\u001b[0;34m\u001b[0m\u001b[0;34m\u001b[0m\u001b[0m\n",
      "\u001b[0m\u001b[0;32m--> 481 \u001b[0;31m    \u001b[0;32mfor\u001b[0m \u001b[0mm\u001b[0m\u001b[0;34m,\u001b[0m \u001b[0mmonomial\u001b[0m \u001b[0;32min\u001b[0m \u001b[0mzip\u001b[0m\u001b[0;34m(\u001b[0m\u001b[0mleading_derivatives\u001b[0m\u001b[0;34m,\u001b[0m \u001b[0ml\u001b[0m\u001b[0;34m)\u001b[0m\u001b[0;34m:\u001b[0m\u001b[0;34m\u001b[0m\u001b[0;34m\u001b[0m\u001b[0m\n",
      "\u001b[0m\u001b[0;32m    482 \u001b[0;31m        \u001b[0m_\u001b[0m\u001b[0;34m,\u001b[0m \u001b[0mnonmult\u001b[0m \u001b[0;34m=\u001b[0m \u001b[0mvec_multipliers\u001b[0m\u001b[0;34m(\u001b[0m\u001b[0mm\u001b[0m\u001b[0;34m,\u001b[0m \u001b[0mleading_derivatives\u001b[0m\u001b[0;34m,\u001b[0m \u001b[0msort_order\u001b[0m\u001b[0;34m)\u001b[0m\u001b[0;34m\u001b[0m\u001b[0;34m\u001b[0m\u001b[0m\n",
      "\u001b[0m\u001b[0;32m    483 \u001b[0;31m        \u001b[0;32mfor\u001b[0m \u001b[0mnm\u001b[0m \u001b[0;32min\u001b[0m \u001b[0mnonmult\u001b[0m\u001b[0;34m:\u001b[0m\u001b[0;34m\u001b[0m\u001b[0;34m\u001b[0m\u001b[0m\n",
      "\u001b[0m\n"
     ]
    },
    {
     "name": "stdin",
     "output_type": "stream",
     "text": [
      "ipdb>  n\n"
     ]
    },
    {
     "name": "stdout",
     "output_type": "stream",
     "text": [
      "> \u001b[0;32m/home/tapir/Documents/researches/delierium/delierium/JanetBasis.py\u001b[0m(482)\u001b[0;36mcomplete\u001b[0;34m()\u001b[0m\n",
      "\u001b[0;32m    480 \u001b[0;31m    \u001b[0mset_trace\u001b[0m\u001b[0;34m(\u001b[0m\u001b[0;34m)\u001b[0m\u001b[0;34m\u001b[0m\u001b[0;34m\u001b[0m\u001b[0m\n",
      "\u001b[0m\u001b[0;32m    481 \u001b[0;31m    \u001b[0;32mfor\u001b[0m \u001b[0mm\u001b[0m\u001b[0;34m,\u001b[0m \u001b[0mmonomial\u001b[0m \u001b[0;32min\u001b[0m \u001b[0mzip\u001b[0m\u001b[0;34m(\u001b[0m\u001b[0mleading_derivatives\u001b[0m\u001b[0;34m,\u001b[0m \u001b[0ml\u001b[0m\u001b[0;34m)\u001b[0m\u001b[0;34m:\u001b[0m\u001b[0;34m\u001b[0m\u001b[0;34m\u001b[0m\u001b[0m\n",
      "\u001b[0m\u001b[0;32m--> 482 \u001b[0;31m        \u001b[0m_\u001b[0m\u001b[0;34m,\u001b[0m \u001b[0mnonmult\u001b[0m \u001b[0;34m=\u001b[0m \u001b[0mvec_multipliers\u001b[0m\u001b[0;34m(\u001b[0m\u001b[0mm\u001b[0m\u001b[0;34m,\u001b[0m \u001b[0mleading_derivatives\u001b[0m\u001b[0;34m,\u001b[0m \u001b[0msort_order\u001b[0m\u001b[0;34m)\u001b[0m\u001b[0;34m\u001b[0m\u001b[0;34m\u001b[0m\u001b[0m\n",
      "\u001b[0m\u001b[0;32m    483 \u001b[0;31m        \u001b[0;32mfor\u001b[0m \u001b[0mnm\u001b[0m \u001b[0;32min\u001b[0m \u001b[0mnonmult\u001b[0m\u001b[0;34m:\u001b[0m\u001b[0;34m\u001b[0m\u001b[0;34m\u001b[0m\u001b[0m\n",
      "\u001b[0m\u001b[0;32m    484 \u001b[0;31m            \u001b[0m_m\u001b[0m \u001b[0;34m=\u001b[0m \u001b[0mlist\u001b[0m\u001b[0;34m(\u001b[0m\u001b[0mm\u001b[0m\u001b[0;34m)\u001b[0m\u001b[0;34m\u001b[0m\u001b[0;34m\u001b[0m\u001b[0m\n",
      "\u001b[0m\n"
     ]
    },
    {
     "name": "stdin",
     "output_type": "stream",
     "text": [
      "ipdb>  n\n"
     ]
    },
    {
     "name": "stdout",
     "output_type": "stream",
     "text": [
      "> \u001b[0;32m/home/tapir/Documents/researches/delierium/delierium/JanetBasis.py\u001b[0m(483)\u001b[0;36mcomplete\u001b[0;34m()\u001b[0m\n",
      "\u001b[0;32m    481 \u001b[0;31m    \u001b[0;32mfor\u001b[0m \u001b[0mm\u001b[0m\u001b[0;34m,\u001b[0m \u001b[0mmonomial\u001b[0m \u001b[0;32min\u001b[0m \u001b[0mzip\u001b[0m\u001b[0;34m(\u001b[0m\u001b[0mleading_derivatives\u001b[0m\u001b[0;34m,\u001b[0m \u001b[0ml\u001b[0m\u001b[0;34m)\u001b[0m\u001b[0;34m:\u001b[0m\u001b[0;34m\u001b[0m\u001b[0;34m\u001b[0m\u001b[0m\n",
      "\u001b[0m\u001b[0;32m    482 \u001b[0;31m        \u001b[0m_\u001b[0m\u001b[0;34m,\u001b[0m \u001b[0mnonmult\u001b[0m \u001b[0;34m=\u001b[0m \u001b[0mvec_multipliers\u001b[0m\u001b[0;34m(\u001b[0m\u001b[0mm\u001b[0m\u001b[0;34m,\u001b[0m \u001b[0mleading_derivatives\u001b[0m\u001b[0;34m,\u001b[0m \u001b[0msort_order\u001b[0m\u001b[0;34m)\u001b[0m\u001b[0;34m\u001b[0m\u001b[0;34m\u001b[0m\u001b[0m\n",
      "\u001b[0m\u001b[0;32m--> 483 \u001b[0;31m        \u001b[0;32mfor\u001b[0m \u001b[0mnm\u001b[0m \u001b[0;32min\u001b[0m \u001b[0mnonmult\u001b[0m\u001b[0;34m:\u001b[0m\u001b[0;34m\u001b[0m\u001b[0;34m\u001b[0m\u001b[0m\n",
      "\u001b[0m\u001b[0;32m    484 \u001b[0;31m            \u001b[0m_m\u001b[0m \u001b[0;34m=\u001b[0m \u001b[0mlist\u001b[0m\u001b[0;34m(\u001b[0m\u001b[0mm\u001b[0m\u001b[0;34m)\u001b[0m\u001b[0;34m\u001b[0m\u001b[0;34m\u001b[0m\u001b[0m\n",
      "\u001b[0m\u001b[0;32m    485 \u001b[0;31m            \u001b[0m_m\u001b[0m\u001b[0;34m[\u001b[0m\u001b[0mnm\u001b[0m\u001b[0;34m]\u001b[0m \u001b[0;34m+=\u001b[0m \u001b[0;36m1\u001b[0m\u001b[0;34m\u001b[0m\u001b[0;34m\u001b[0m\u001b[0m\n",
      "\u001b[0m\n"
     ]
    },
    {
     "name": "stdin",
     "output_type": "stream",
     "text": [
      "ipdb>  pp m, monomial\n"
     ]
    },
    {
     "name": "stdout",
     "output_type": "stream",
     "text": [
      "([0, 2],\n",
      " <delierium.JanetBasis.Differential_Polynomial object at 0x7f7805581e20>)\n"
     ]
    },
    {
     "name": "stdin",
     "output_type": "stream",
     "text": [
      "ipdb>  n\n"
     ]
    },
    {
     "name": "stdout",
     "output_type": "stream",
     "text": [
      "> \u001b[0;32m/home/tapir/Documents/researches/delierium/delierium/JanetBasis.py\u001b[0m(490)\u001b[0;36mcomplete\u001b[0;34m()\u001b[0m\n",
      "\u001b[0;32m    488 \u001b[0;31m                \u001b[0mm0\u001b[0m\u001b[0;34m.\u001b[0m\u001b[0mappend\u001b[0m\u001b[0;34m(\u001b[0m\u001b[0mdiff\u001b[0m\u001b[0;34m(\u001b[0m\u001b[0mmonomial\u001b[0m\u001b[0;34m,\u001b[0m \u001b[0mctx\u001b[0m\u001b[0;34m.\u001b[0m\u001b[0m_independent\u001b[0m\u001b[0;34m[\u001b[0m\u001b[0mnm\u001b[0m\u001b[0;34m]\u001b[0m\u001b[0;34m)\u001b[0m\u001b[0;34m)\u001b[0m\u001b[0;34m\u001b[0m\u001b[0;34m\u001b[0m\u001b[0m\n",
      "\u001b[0m\u001b[0;32m    489 \u001b[0;31m\u001b[0;34m\u001b[0m\u001b[0m\n",
      "\u001b[0m\u001b[0;32m--> 490 \u001b[0;31m        \u001b[0;32mif\u001b[0m \u001b[0mset\u001b[0m\u001b[0;34m(\u001b[0m\u001b[0mm0\u001b[0m\u001b[0;34m)\u001b[0m \u001b[0;34m==\u001b[0m \u001b[0mset\u001b[0m\u001b[0;34m(\u001b[0m\u001b[0;34m)\u001b[0m\u001b[0;34m:\u001b[0m\u001b[0;34m\u001b[0m\u001b[0;34m\u001b[0m\u001b[0m\n",
      "\u001b[0m\u001b[0;32m    491 \u001b[0;31m            \u001b[0;32mreturn\u001b[0m \u001b[0ml\u001b[0m\u001b[0;34m\u001b[0m\u001b[0;34m\u001b[0m\u001b[0m\n",
      "\u001b[0m\u001b[0;32m    492 \u001b[0;31m        \u001b[0ml\u001b[0m\u001b[0;34m.\u001b[0m\u001b[0mextend\u001b[0m\u001b[0;34m(\u001b[0m\u001b[0mm0\u001b[0m\u001b[0;34m)\u001b[0m\u001b[0;34m\u001b[0m\u001b[0;34m\u001b[0m\u001b[0m\n",
      "\u001b[0m\n"
     ]
    },
    {
     "name": "stdin",
     "output_type": "stream",
     "text": [
      "ipdb>  n\n"
     ]
    },
    {
     "name": "stdout",
     "output_type": "stream",
     "text": [
      "> \u001b[0;32m/home/tapir/Documents/researches/delierium/delierium/JanetBasis.py\u001b[0m(491)\u001b[0;36mcomplete\u001b[0;34m()\u001b[0m\n",
      "\u001b[0;32m    489 \u001b[0;31m\u001b[0;34m\u001b[0m\u001b[0m\n",
      "\u001b[0m\u001b[0;32m    490 \u001b[0;31m        \u001b[0;32mif\u001b[0m \u001b[0mset\u001b[0m\u001b[0;34m(\u001b[0m\u001b[0mm0\u001b[0m\u001b[0;34m)\u001b[0m \u001b[0;34m==\u001b[0m \u001b[0mset\u001b[0m\u001b[0;34m(\u001b[0m\u001b[0;34m)\u001b[0m\u001b[0;34m:\u001b[0m\u001b[0;34m\u001b[0m\u001b[0;34m\u001b[0m\u001b[0m\n",
      "\u001b[0m\u001b[0;32m--> 491 \u001b[0;31m            \u001b[0;32mreturn\u001b[0m \u001b[0ml\u001b[0m\u001b[0;34m\u001b[0m\u001b[0;34m\u001b[0m\u001b[0m\n",
      "\u001b[0m\u001b[0;32m    492 \u001b[0;31m        \u001b[0ml\u001b[0m\u001b[0;34m.\u001b[0m\u001b[0mextend\u001b[0m\u001b[0;34m(\u001b[0m\u001b[0mm0\u001b[0m\u001b[0;34m)\u001b[0m\u001b[0;34m\u001b[0m\u001b[0;34m\u001b[0m\u001b[0m\n",
      "\u001b[0m\u001b[0;32m    493 \u001b[0;31m        l = reversed(\n",
      "\u001b[0m\n"
     ]
    },
    {
     "name": "stdin",
     "output_type": "stream",
     "text": [
      "ipdb>  pp m0. l\n"
     ]
    },
    {
     "name": "stdout",
     "output_type": "stream",
     "text": [
      "*** AttributeError: 'list' object has no attribute 'l'\n"
     ]
    },
    {
     "name": "stdin",
     "output_type": "stream",
     "text": [
      "ipdb>  c\n"
     ]
    },
    {
     "name": "stdout",
     "output_type": "stream",
     "text": [
      "******************   completesystem ****************************************\n"
     ]
    },
    {
     "data": {
      "text/html": [
       "<html>\\[\\newcommand{\\Bold}[1]{\\mathbf{#1}}\\frac{\\frac{\\partial}{\\partial y}z\\left(x, y\\right)}{2 \\, y} + \\frac{\\partial^{2}}{(\\partial y)^{2}}z\\left(x, y\\right)\\]</html>"
      ],
      "text/latex": [
       "$$\\newcommand{\\Bold}[1]{\\mathbf{#1}}\\frac{\\frac{\\partial}{\\partial y}z\\left(x, y\\right)}{2 \\, y} + \\frac{\\partial^{2}}{(\\partial y)^{2}}z\\left(x, y\\right)$$"
      ],
      "text/plain": [
       "1/2*diff(z(x, y), y)/y + diff(z(x, y), y, y)"
      ]
     },
     "metadata": {},
     "output_type": "display_data"
    },
    {
     "data": {
      "text/html": [
       "<html>\\[\\newcommand{\\Bold}[1]{\\mathbf{#1}}-\\frac{\\frac{\\partial}{\\partial y}w\\left(x, y\\right)}{2 \\, y} - \\frac{w\\left(x, y\\right)}{2 \\, y^{2}} + \\frac{\\partial^{2}}{(\\partial y)^{2}}w\\left(x, y\\right) - 2 \\, \\frac{\\partial^{2}}{\\partial x\\partial y}z\\left(x, y\\right)\\]</html>"
      ],
      "text/latex": [
       "$$\\newcommand{\\Bold}[1]{\\mathbf{#1}}-\\frac{\\frac{\\partial}{\\partial y}w\\left(x, y\\right)}{2 \\, y} - \\frac{w\\left(x, y\\right)}{2 \\, y^{2}} + \\frac{\\partial^{2}}{(\\partial y)^{2}}w\\left(x, y\\right) - 2 \\, \\frac{\\partial^{2}}{\\partial x\\partial y}z\\left(x, y\\right)$$"
      ],
      "text/plain": [
       "-1/2*diff(w(x, y), y)/y - 1/2*w(x, y)/y^2 + diff(w(x, y), y, y) - 2*diff(z(x, y), x, y)"
      ]
     },
     "metadata": {},
     "output_type": "display_data"
    },
    {
     "data": {
      "text/html": [
       "<html>\\[\\newcommand{\\Bold}[1]{\\mathbf{#1}}-6 \\, y^{2} \\frac{\\partial}{\\partial y}z\\left(x, y\\right) - \\frac{\\frac{\\partial}{\\partial x}w\\left(x, y\\right)}{2 \\, y} + \\frac{\\partial^{2}}{\\partial x\\partial y}w\\left(x, y\\right) - \\frac{1}{2} \\, \\frac{\\partial^{2}}{(\\partial x)^{2}}z\\left(x, y\\right)\\]</html>"
      ],
      "text/latex": [
       "$$\\newcommand{\\Bold}[1]{\\mathbf{#1}}-6 \\, y^{2} \\frac{\\partial}{\\partial y}z\\left(x, y\\right) - \\frac{\\frac{\\partial}{\\partial x}w\\left(x, y\\right)}{2 \\, y} + \\frac{\\partial^{2}}{\\partial x\\partial y}w\\left(x, y\\right) - \\frac{1}{2} \\, \\frac{\\partial^{2}}{(\\partial x)^{2}}z\\left(x, y\\right)$$"
      ],
      "text/plain": [
       "-6*y^2*diff(z(x, y), y) - 1/2*diff(w(x, y), x)/y + diff(w(x, y), x, y) - 1/2*diff(z(x, y), x, x)"
      ]
     },
     "metadata": {},
     "output_type": "display_data"
    },
    {
     "data": {
      "text/html": [
       "<html>\\[\\newcommand{\\Bold}[1]{\\mathbf{#1}}4 \\, y^{2} \\frac{\\partial}{\\partial y}w\\left(x, y\\right) - 8 \\, y^{2} \\frac{\\partial}{\\partial x}z\\left(x, y\\right) - 8 \\, y w\\left(x, y\\right) + \\frac{\\partial^{2}}{(\\partial x)^{2}}w\\left(x, y\\right)\\]</html>"
      ],
      "text/latex": [
       "$$\\newcommand{\\Bold}[1]{\\mathbf{#1}}4 \\, y^{2} \\frac{\\partial}{\\partial y}w\\left(x, y\\right) - 8 \\, y^{2} \\frac{\\partial}{\\partial x}z\\left(x, y\\right) - 8 \\, y w\\left(x, y\\right) + \\frac{\\partial^{2}}{(\\partial x)^{2}}w\\left(x, y\\right)$$"
      ],
      "text/plain": [
       "4*y^2*diff(w(x, y), y) - 8*y^2*diff(z(x, y), x) - 8*y*w(x, y) + diff(w(x, y), x, x)"
      ]
     },
     "metadata": {},
     "output_type": "display_data"
    },
    {
     "name": "stdout",
     "output_type": "stream",
     "text": [
      "<delierium.JanetBasis.Differential_Polynomial object at 0x7f7806723640> {y, x} set()\n",
      "<delierium.JanetBasis.Differential_Polynomial object at 0x7f7805581e20> {y, x} set()\n",
      "<delierium.JanetBasis.Differential_Polynomial object at 0x7f7806723640> {y, x} set()\n",
      "<delierium.JanetBasis.Differential_Polynomial object at 0x7f7805590430> {y, x} set()\n",
      "<delierium.JanetBasis.Differential_Polynomial object at 0x7f7806723640> {y, x} set()\n",
      "<delierium.JanetBasis.Differential_Polynomial object at 0x7f780556ec70> {y, x} set()\n",
      "<delierium.JanetBasis.Differential_Polynomial object at 0x7f7805581e20> {y, x} set()\n",
      "<delierium.JanetBasis.Differential_Polynomial object at 0x7f7806723640> {y, x} set()\n",
      "<delierium.JanetBasis.Differential_Polynomial object at 0x7f7805581e20> {y, x} set()\n",
      "<delierium.JanetBasis.Differential_Polynomial object at 0x7f7805590430> {y, x} set()\n",
      "<delierium.JanetBasis.Differential_Polynomial object at 0x7f7805581e20> {y, x} set()\n",
      "<delierium.JanetBasis.Differential_Polynomial object at 0x7f780556ec70> {y, x} set()\n",
      "<delierium.JanetBasis.Differential_Polynomial object at 0x7f7805590430> {y, x} set()\n",
      "<delierium.JanetBasis.Differential_Polynomial object at 0x7f7806723640> {y, x} set()\n",
      "<delierium.JanetBasis.Differential_Polynomial object at 0x7f7805590430> {y, x} set()\n",
      "<delierium.JanetBasis.Differential_Polynomial object at 0x7f7805581e20> {y, x} set()\n",
      "<delierium.JanetBasis.Differential_Polynomial object at 0x7f7805590430> {y, x} set()\n",
      "<delierium.JanetBasis.Differential_Polynomial object at 0x7f780556ec70> {y, x} set()\n",
      "<delierium.JanetBasis.Differential_Polynomial object at 0x7f780556ec70> {y, x} set()\n",
      "<delierium.JanetBasis.Differential_Polynomial object at 0x7f7806723640> {y, x} set()\n",
      "<delierium.JanetBasis.Differential_Polynomial object at 0x7f780556ec70> {y, x} set()\n",
      "<delierium.JanetBasis.Differential_Polynomial object at 0x7f7805581e20> {y, x} set()\n",
      "<delierium.JanetBasis.Differential_Polynomial object at 0x7f780556ec70> {y, x} set()\n",
      "<delierium.JanetBasis.Differential_Polynomial object at 0x7f7805590430> {y, x} set()\n",
      "******************   FindIntegr ****************************************\n"
     ]
    },
    {
     "data": {
      "text/html": [
       "<html>\\[\\newcommand{\\Bold}[1]{\\mathbf{#1}}\\frac{\\frac{\\partial}{\\partial y}z\\left(x, y\\right)}{2 \\, y} + \\frac{\\partial^{2}}{(\\partial y)^{2}}z\\left(x, y\\right)\\]</html>"
      ],
      "text/latex": [
       "$$\\newcommand{\\Bold}[1]{\\mathbf{#1}}\\frac{\\frac{\\partial}{\\partial y}z\\left(x, y\\right)}{2 \\, y} + \\frac{\\partial^{2}}{(\\partial y)^{2}}z\\left(x, y\\right)$$"
      ],
      "text/plain": [
       "1/2*diff(z(x, y), y)/y + diff(z(x, y), y, y)"
      ]
     },
     "metadata": {},
     "output_type": "display_data"
    },
    {
     "data": {
      "text/html": [
       "<html>\\[\\newcommand{\\Bold}[1]{\\mathbf{#1}}-\\frac{\\frac{\\partial}{\\partial y}w\\left(x, y\\right)}{2 \\, y} - \\frac{w\\left(x, y\\right)}{2 \\, y^{2}} + \\frac{\\partial^{2}}{(\\partial y)^{2}}w\\left(x, y\\right) - 2 \\, \\frac{\\partial^{2}}{\\partial x\\partial y}z\\left(x, y\\right)\\]</html>"
      ],
      "text/latex": [
       "$$\\newcommand{\\Bold}[1]{\\mathbf{#1}}-\\frac{\\frac{\\partial}{\\partial y}w\\left(x, y\\right)}{2 \\, y} - \\frac{w\\left(x, y\\right)}{2 \\, y^{2}} + \\frac{\\partial^{2}}{(\\partial y)^{2}}w\\left(x, y\\right) - 2 \\, \\frac{\\partial^{2}}{\\partial x\\partial y}z\\left(x, y\\right)$$"
      ],
      "text/plain": [
       "-1/2*diff(w(x, y), y)/y - 1/2*w(x, y)/y^2 + diff(w(x, y), y, y) - 2*diff(z(x, y), x, y)"
      ]
     },
     "metadata": {},
     "output_type": "display_data"
    },
    {
     "data": {
      "text/html": [
       "<html>\\[\\newcommand{\\Bold}[1]{\\mathbf{#1}}-6 \\, y^{2} \\frac{\\partial}{\\partial y}z\\left(x, y\\right) - \\frac{\\frac{\\partial}{\\partial x}w\\left(x, y\\right)}{2 \\, y} + \\frac{\\partial^{2}}{\\partial x\\partial y}w\\left(x, y\\right) - \\frac{1}{2} \\, \\frac{\\partial^{2}}{(\\partial x)^{2}}z\\left(x, y\\right)\\]</html>"
      ],
      "text/latex": [
       "$$\\newcommand{\\Bold}[1]{\\mathbf{#1}}-6 \\, y^{2} \\frac{\\partial}{\\partial y}z\\left(x, y\\right) - \\frac{\\frac{\\partial}{\\partial x}w\\left(x, y\\right)}{2 \\, y} + \\frac{\\partial^{2}}{\\partial x\\partial y}w\\left(x, y\\right) - \\frac{1}{2} \\, \\frac{\\partial^{2}}{(\\partial x)^{2}}z\\left(x, y\\right)$$"
      ],
      "text/plain": [
       "-6*y^2*diff(z(x, y), y) - 1/2*diff(w(x, y), x)/y + diff(w(x, y), x, y) - 1/2*diff(z(x, y), x, x)"
      ]
     },
     "metadata": {},
     "output_type": "display_data"
    },
    {
     "data": {
      "text/html": [
       "<html>\\[\\newcommand{\\Bold}[1]{\\mathbf{#1}}4 \\, y^{2} \\frac{\\partial}{\\partial y}w\\left(x, y\\right) - 8 \\, y^{2} \\frac{\\partial}{\\partial x}z\\left(x, y\\right) - 8 \\, y w\\left(x, y\\right) + \\frac{\\partial^{2}}{(\\partial x)^{2}}w\\left(x, y\\right)\\]</html>"
      ],
      "text/latex": [
       "$$\\newcommand{\\Bold}[1]{\\mathbf{#1}}4 \\, y^{2} \\frac{\\partial}{\\partial y}w\\left(x, y\\right) - 8 \\, y^{2} \\frac{\\partial}{\\partial x}z\\left(x, y\\right) - 8 \\, y w\\left(x, y\\right) + \\frac{\\partial^{2}}{(\\partial x)^{2}}w\\left(x, y\\right)$$"
      ],
      "text/plain": [
       "4*y^2*diff(w(x, y), y) - 8*y^2*diff(z(x, y), x) - 8*y*w(x, y) + diff(w(x, y), x, x)"
      ]
     },
     "metadata": {},
     "output_type": "display_data"
    },
    {
     "name": "stdout",
     "output_type": "stream",
     "text": [
      "******************   ReduceIntegr ****************************************\n"
     ]
    },
    {
     "data": {
      "text/html": [
       "<html>\\[\\newcommand{\\Bold}[1]{\\mathbf{#1}}\\frac{\\frac{\\partial}{\\partial y}z\\left(x, y\\right)}{2 \\, y} + \\frac{\\partial^{2}}{(\\partial y)^{2}}z\\left(x, y\\right)\\]</html>"
      ],
      "text/latex": [
       "$$\\newcommand{\\Bold}[1]{\\mathbf{#1}}\\frac{\\frac{\\partial}{\\partial y}z\\left(x, y\\right)}{2 \\, y} + \\frac{\\partial^{2}}{(\\partial y)^{2}}z\\left(x, y\\right)$$"
      ],
      "text/plain": [
       "1/2*diff(z(x, y), y)/y + diff(z(x, y), y, y)"
      ]
     },
     "metadata": {},
     "output_type": "display_data"
    },
    {
     "data": {
      "text/html": [
       "<html>\\[\\newcommand{\\Bold}[1]{\\mathbf{#1}}-\\frac{\\frac{\\partial}{\\partial y}w\\left(x, y\\right)}{2 \\, y} - \\frac{w\\left(x, y\\right)}{2 \\, y^{2}} + \\frac{\\partial^{2}}{(\\partial y)^{2}}w\\left(x, y\\right) - 2 \\, \\frac{\\partial^{2}}{\\partial x\\partial y}z\\left(x, y\\right)\\]</html>"
      ],
      "text/latex": [
       "$$\\newcommand{\\Bold}[1]{\\mathbf{#1}}-\\frac{\\frac{\\partial}{\\partial y}w\\left(x, y\\right)}{2 \\, y} - \\frac{w\\left(x, y\\right)}{2 \\, y^{2}} + \\frac{\\partial^{2}}{(\\partial y)^{2}}w\\left(x, y\\right) - 2 \\, \\frac{\\partial^{2}}{\\partial x\\partial y}z\\left(x, y\\right)$$"
      ],
      "text/plain": [
       "-1/2*diff(w(x, y), y)/y - 1/2*w(x, y)/y^2 + diff(w(x, y), y, y) - 2*diff(z(x, y), x, y)"
      ]
     },
     "metadata": {},
     "output_type": "display_data"
    },
    {
     "data": {
      "text/html": [
       "<html>\\[\\newcommand{\\Bold}[1]{\\mathbf{#1}}-6 \\, y^{2} \\frac{\\partial}{\\partial y}z\\left(x, y\\right) - \\frac{\\frac{\\partial}{\\partial x}w\\left(x, y\\right)}{2 \\, y} + \\frac{\\partial^{2}}{\\partial x\\partial y}w\\left(x, y\\right) - \\frac{1}{2} \\, \\frac{\\partial^{2}}{(\\partial x)^{2}}z\\left(x, y\\right)\\]</html>"
      ],
      "text/latex": [
       "$$\\newcommand{\\Bold}[1]{\\mathbf{#1}}-6 \\, y^{2} \\frac{\\partial}{\\partial y}z\\left(x, y\\right) - \\frac{\\frac{\\partial}{\\partial x}w\\left(x, y\\right)}{2 \\, y} + \\frac{\\partial^{2}}{\\partial x\\partial y}w\\left(x, y\\right) - \\frac{1}{2} \\, \\frac{\\partial^{2}}{(\\partial x)^{2}}z\\left(x, y\\right)$$"
      ],
      "text/plain": [
       "-6*y^2*diff(z(x, y), y) - 1/2*diff(w(x, y), x)/y + diff(w(x, y), x, y) - 1/2*diff(z(x, y), x, x)"
      ]
     },
     "metadata": {},
     "output_type": "display_data"
    },
    {
     "data": {
      "text/html": [
       "<html>\\[\\newcommand{\\Bold}[1]{\\mathbf{#1}}4 \\, y^{2} \\frac{\\partial}{\\partial y}w\\left(x, y\\right) - 8 \\, y^{2} \\frac{\\partial}{\\partial x}z\\left(x, y\\right) - 8 \\, y w\\left(x, y\\right) + \\frac{\\partial^{2}}{(\\partial x)^{2}}w\\left(x, y\\right)\\]</html>"
      ],
      "text/latex": [
       "$$\\newcommand{\\Bold}[1]{\\mathbf{#1}}4 \\, y^{2} \\frac{\\partial}{\\partial y}w\\left(x, y\\right) - 8 \\, y^{2} \\frac{\\partial}{\\partial x}z\\left(x, y\\right) - 8 \\, y w\\left(x, y\\right) + \\frac{\\partial^{2}}{(\\partial x)^{2}}w\\left(x, y\\right)$$"
      ],
      "text/plain": [
       "4*y^2*diff(w(x, y), y) - 8*y^2*diff(z(x, y), x) - 8*y*w(x, y) + diff(w(x, y), x, x)"
      ]
     },
     "metadata": {},
     "output_type": "display_data"
    }
   ],
   "source": [
    "c2=Janet_Basis ([g1,g2,g3,g4], ctx)"
   ]
  },
  {
   "cell_type": "code",
   "execution_count": null,
   "metadata": {},
   "outputs": [],
   "source": []
  },
  {
   "cell_type": "code",
   "execution_count": null,
   "metadata": {},
   "outputs": [],
   "source": []
  },
  {
   "cell_type": "code",
   "execution_count": null,
   "metadata": {},
   "outputs": [],
   "source": []
  }
 ],
 "metadata": {
  "kernelspec": {
   "display_name": "SageMath 9.4",
   "language": "sage",
   "name": "sagemath"
  },
  "language_info": {
   "codemirror_mode": {
    "name": "ipython",
    "version": 3
   },
   "file_extension": ".py",
   "mimetype": "text/x-python",
   "name": "python",
   "nbconvert_exporter": "python",
   "pygments_lexer": "ipython3",
   "version": "3.9.5"
  },
  "toc-autonumbering": true,
  "toc-showcode": true,
  "toc-showmarkdowntxt": true,
  "toc-showtags": false
 },
 "nbformat": 4,
 "nbformat_minor": 5
}
