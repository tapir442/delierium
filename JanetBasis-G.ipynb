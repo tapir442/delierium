{
 "cells": [
  {
   "cell_type": "code",
   "execution_count": 2,
   "id": "483e5166",
   "metadata": {},
   "outputs": [],
   "source": [
    "%display latex\n",
    "from delierium import *\n",
    "from pprint import pprint \n",
    "from collections.abc import Iterable\n",
    "import functools\n",
    "from operator import mul, sub\n",
    "from IPython.core.debugger import set_trace\n",
    "import itertools"
   ]
  },
  {
   "cell_type": "code",
   "execution_count": 22,
   "id": "8c507cac",
   "metadata": {},
   "outputs": [],
   "source": [
    "def FindIntegrableConditions(S, context):\n",
    "    leading_derivatives = [_l.Lder() for _l in S]\n",
    "    for e1, e2 in itertools.product(S, repeat = 2):\n",
    "        if bool(e1 == e2):\n",
    "            continue\n",
    "        e1_mult, e1_nonmult = multipliers(e1.Lder(),leading_derivatives, sorted(context._independent, reverse = true))\n",
    "        e2_mult, e2_nonmult = multipliers(e2.Lder(),leading_derivatives, sorted(context._independent, reverse = true))\n",
    "        print (e1, e1_mult, e1_nonmult)\n",
    "        print (e2, e2_mult, e2_nonmult)\n",
    "    return S"
   ]
  },
  {
   "cell_type": "code",
   "execution_count": 15,
   "id": "5e4159b0",
   "metadata": {},
   "outputs": [],
   "source": [
    "def ReduceIntegrabilityConditions(S, context):\n",
    "    return S"
   ]
  },
  {
   "cell_type": "code",
   "execution_count": 16,
   "id": "b7048af8",
   "metadata": {},
   "outputs": [],
   "source": [
    "var (\"x y\")\n",
    "z = function(\"z\")(x,y)\n",
    "w = function(\"w\")(x,y)\n",
    "# ctx: items are in descending order ?\n",
    "ctx = Context((w,z), (x,y), Mgrlex)"
   ]
  },
  {
   "cell_type": "code",
   "execution_count": 23,
   "id": "a2630c46",
   "metadata": {},
   "outputs": [],
   "source": [
    "class Janet_Basis:\n",
    "    def __init__ (self, S, context):\n",
    "        if not isinstance(S, Iterable):\n",
    "            # bad criterion\n",
    "            S = [S]\n",
    "        self._init(S, context)\n",
    "    def _init (self, S, context):\n",
    "        S = Reorder([Differential_Polynomial(s, context) for s in S], context, ascending = True)\n",
    "        while 1:\n",
    "            S = Autoreduce (S, context)   \n",
    "            print (\"******************   Autoreduce ****************************************\")\n",
    "            for _ in S:\n",
    "                _.show()            \n",
    "            S = CompleteSystem(S, context)\n",
    "            print (\"******************   completesystem ****************************************\")\n",
    "            for _ in S:\n",
    "                _.show()            \n",
    "            S = FindIntegrableConditions(S, context)\n",
    "            print (\"******************   FindIntegr ****************************************\")\n",
    "            for _ in S:\n",
    "                _.show()            \n",
    "            S = c = ReduceIntegrabilityConditions(S, context)\n",
    "            print (\"******************   ReduceIntegr ****************************************\")\n",
    "            for _ in S:\n",
    "                _.show()            \n",
    "            if not c or all ([_ == 0 for _ in c]):\n",
    "                self._S = S\n",
    "                return\n",
    "            S += c\n",
    "            S = Reorder (S, context)\n",
    "            self._S = S[:]        \n",
    "            return \n",
    "            \n",
    "    def show(self):\n",
    "        for _ in self._S:\n",
    "            _.show()"
   ]
  },
  {
   "cell_type": "code",
   "execution_count": 24,
   "id": "d03945f5",
   "metadata": {},
   "outputs": [],
   "source": [
    "g1=diff(z,y,y)+diff(z,y)/(2*y)\n",
    "g2=diff(w,x,x)+(4*y**2)*diff(w,y)-(8*y**2)*diff(z,x)-8*y*w\n",
    "g3=diff(w,x,y)-diff(z,x,x)/2-diff(w,x)/(2*y)-diff(z,y)*6*y**2\n",
    "g4=diff(w,y,y)-2*diff(z,x,y)-diff(w,y)/(2*y)-w/(2*y**2)"
   ]
  },
  {
   "cell_type": "code",
   "execution_count": 25,
   "id": "bc2860bb",
   "metadata": {},
   "outputs": [
    {
     "name": "stdout",
     "output_type": "stream",
     "text": [
      "******************   Autoreduce ****************************************\n"
     ]
    },
    {
     "data": {
      "text/html": [
       "<html><script type=\"math/tex; mode=display\">\\newcommand{\\Bold}[1]{\\mathbf{#1}}\\frac{\\frac{\\partial}{\\partial y}z\\left(x, y\\right)}{2 \\, y} + \\frac{\\partial^{2}}{(\\partial y)^{2}}z\\left(x, y\\right)</script></html>"
      ],
      "text/latex": [
       "\\begin{math}\n",
       "\\newcommand{\\Bold}[1]{\\mathbf{#1}}\\frac{\\frac{\\partial}{\\partial y}z\\left(x, y\\right)}{2 \\, y} + \\frac{\\partial^{2}}{(\\partial y)^{2}}z\\left(x, y\\right)\n",
       "\\end{math}"
      ],
      "text/plain": [
       "1/2*diff(z(x, y), y)/y + diff(z(x, y), y, y)"
      ]
     },
     "metadata": {},
     "output_type": "display_data"
    },
    {
     "data": {
      "text/html": [
       "<html><script type=\"math/tex; mode=display\">\\newcommand{\\Bold}[1]{\\mathbf{#1}}-\\frac{\\frac{\\partial}{\\partial y}w\\left(x, y\\right)}{2 \\, y} - \\frac{w\\left(x, y\\right)}{2 \\, y^{2}} + \\frac{\\partial^{2}}{(\\partial y)^{2}}w\\left(x, y\\right) - 2 \\, \\frac{\\partial^{2}}{\\partial x\\partial y}z\\left(x, y\\right)</script></html>"
      ],
      "text/latex": [
       "\\begin{math}\n",
       "\\newcommand{\\Bold}[1]{\\mathbf{#1}}-\\frac{\\frac{\\partial}{\\partial y}w\\left(x, y\\right)}{2 \\, y} - \\frac{w\\left(x, y\\right)}{2 \\, y^{2}} + \\frac{\\partial^{2}}{(\\partial y)^{2}}w\\left(x, y\\right) - 2 \\, \\frac{\\partial^{2}}{\\partial x\\partial y}z\\left(x, y\\right)\n",
       "\\end{math}"
      ],
      "text/plain": [
       "-1/2*diff(w(x, y), y)/y - 1/2*w(x, y)/y^2 + diff(w(x, y), y, y) - 2*diff(z(x, y), x, y)"
      ]
     },
     "metadata": {},
     "output_type": "display_data"
    },
    {
     "data": {
      "text/html": [
       "<html><script type=\"math/tex; mode=display\">\\newcommand{\\Bold}[1]{\\mathbf{#1}}-6 \\, y^{2} \\frac{\\partial}{\\partial y}z\\left(x, y\\right) - \\frac{\\frac{\\partial}{\\partial x}w\\left(x, y\\right)}{2 \\, y} + \\frac{\\partial^{2}}{\\partial x\\partial y}w\\left(x, y\\right) - \\frac{1}{2} \\, \\frac{\\partial^{2}}{(\\partial x)^{2}}z\\left(x, y\\right)</script></html>"
      ],
      "text/latex": [
       "\\begin{math}\n",
       "\\newcommand{\\Bold}[1]{\\mathbf{#1}}-6 \\, y^{2} \\frac{\\partial}{\\partial y}z\\left(x, y\\right) - \\frac{\\frac{\\partial}{\\partial x}w\\left(x, y\\right)}{2 \\, y} + \\frac{\\partial^{2}}{\\partial x\\partial y}w\\left(x, y\\right) - \\frac{1}{2} \\, \\frac{\\partial^{2}}{(\\partial x)^{2}}z\\left(x, y\\right)\n",
       "\\end{math}"
      ],
      "text/plain": [
       "-6*y^2*diff(z(x, y), y) - 1/2*diff(w(x, y), x)/y + diff(w(x, y), x, y) - 1/2*diff(z(x, y), x, x)"
      ]
     },
     "metadata": {},
     "output_type": "display_data"
    },
    {
     "data": {
      "text/html": [
       "<html><script type=\"math/tex; mode=display\">\\newcommand{\\Bold}[1]{\\mathbf{#1}}4 \\, y^{2} \\frac{\\partial}{\\partial y}w\\left(x, y\\right) - 8 \\, y^{2} \\frac{\\partial}{\\partial x}z\\left(x, y\\right) - 8 \\, y w\\left(x, y\\right) + \\frac{\\partial^{2}}{(\\partial x)^{2}}w\\left(x, y\\right)</script></html>"
      ],
      "text/latex": [
       "\\begin{math}\n",
       "\\newcommand{\\Bold}[1]{\\mathbf{#1}}4 \\, y^{2} \\frac{\\partial}{\\partial y}w\\left(x, y\\right) - 8 \\, y^{2} \\frac{\\partial}{\\partial x}z\\left(x, y\\right) - 8 \\, y w\\left(x, y\\right) + \\frac{\\partial^{2}}{(\\partial x)^{2}}w\\left(x, y\\right)\n",
       "\\end{math}"
      ],
      "text/plain": [
       "4*y^2*diff(w(x, y), y) - 8*y^2*diff(z(x, y), x) - 8*y*w(x, y) + diff(w(x, y), x, x)"
      ]
     },
     "metadata": {},
     "output_type": "display_data"
    },
    {
     "name": "stdout",
     "output_type": "stream",
     "text": [
      "******************   completesystem ****************************************\n"
     ]
    },
    {
     "data": {
      "text/html": [
       "<html><script type=\"math/tex; mode=display\">\\newcommand{\\Bold}[1]{\\mathbf{#1}}\\frac{\\frac{\\partial}{\\partial y}z\\left(x, y\\right)}{2 \\, y} + \\frac{\\partial^{2}}{(\\partial y)^{2}}z\\left(x, y\\right)</script></html>"
      ],
      "text/latex": [
       "\\begin{math}\n",
       "\\newcommand{\\Bold}[1]{\\mathbf{#1}}\\frac{\\frac{\\partial}{\\partial y}z\\left(x, y\\right)}{2 \\, y} + \\frac{\\partial^{2}}{(\\partial y)^{2}}z\\left(x, y\\right)\n",
       "\\end{math}"
      ],
      "text/plain": [
       "1/2*diff(z(x, y), y)/y + diff(z(x, y), y, y)"
      ]
     },
     "metadata": {},
     "output_type": "display_data"
    },
    {
     "data": {
      "text/html": [
       "<html><script type=\"math/tex; mode=display\">\\newcommand{\\Bold}[1]{\\mathbf{#1}}-\\frac{\\frac{\\partial}{\\partial y}w\\left(x, y\\right)}{2 \\, y} - \\frac{w\\left(x, y\\right)}{2 \\, y^{2}} + \\frac{\\partial^{2}}{(\\partial y)^{2}}w\\left(x, y\\right) - 2 \\, \\frac{\\partial^{2}}{\\partial x\\partial y}z\\left(x, y\\right)</script></html>"
      ],
      "text/latex": [
       "\\begin{math}\n",
       "\\newcommand{\\Bold}[1]{\\mathbf{#1}}-\\frac{\\frac{\\partial}{\\partial y}w\\left(x, y\\right)}{2 \\, y} - \\frac{w\\left(x, y\\right)}{2 \\, y^{2}} + \\frac{\\partial^{2}}{(\\partial y)^{2}}w\\left(x, y\\right) - 2 \\, \\frac{\\partial^{2}}{\\partial x\\partial y}z\\left(x, y\\right)\n",
       "\\end{math}"
      ],
      "text/plain": [
       "-1/2*diff(w(x, y), y)/y - 1/2*w(x, y)/y^2 + diff(w(x, y), y, y) - 2*diff(z(x, y), x, y)"
      ]
     },
     "metadata": {},
     "output_type": "display_data"
    },
    {
     "data": {
      "text/html": [
       "<html><script type=\"math/tex; mode=display\">\\newcommand{\\Bold}[1]{\\mathbf{#1}}-6 \\, y^{2} \\frac{\\partial}{\\partial y}z\\left(x, y\\right) - \\frac{\\frac{\\partial}{\\partial x}w\\left(x, y\\right)}{2 \\, y} + \\frac{\\partial^{2}}{\\partial x\\partial y}w\\left(x, y\\right) - \\frac{1}{2} \\, \\frac{\\partial^{2}}{(\\partial x)^{2}}z\\left(x, y\\right)</script></html>"
      ],
      "text/latex": [
       "\\begin{math}\n",
       "\\newcommand{\\Bold}[1]{\\mathbf{#1}}-6 \\, y^{2} \\frac{\\partial}{\\partial y}z\\left(x, y\\right) - \\frac{\\frac{\\partial}{\\partial x}w\\left(x, y\\right)}{2 \\, y} + \\frac{\\partial^{2}}{\\partial x\\partial y}w\\left(x, y\\right) - \\frac{1}{2} \\, \\frac{\\partial^{2}}{(\\partial x)^{2}}z\\left(x, y\\right)\n",
       "\\end{math}"
      ],
      "text/plain": [
       "-6*y^2*diff(z(x, y), y) - 1/2*diff(w(x, y), x)/y + diff(w(x, y), x, y) - 1/2*diff(z(x, y), x, x)"
      ]
     },
     "metadata": {},
     "output_type": "display_data"
    },
    {
     "data": {
      "text/html": [
       "<html><script type=\"math/tex; mode=display\">\\newcommand{\\Bold}[1]{\\mathbf{#1}}4 \\, y^{2} \\frac{\\partial}{\\partial y}w\\left(x, y\\right) - 8 \\, y^{2} \\frac{\\partial}{\\partial x}z\\left(x, y\\right) - 8 \\, y w\\left(x, y\\right) + \\frac{\\partial^{2}}{(\\partial x)^{2}}w\\left(x, y\\right)</script></html>"
      ],
      "text/latex": [
       "\\begin{math}\n",
       "\\newcommand{\\Bold}[1]{\\mathbf{#1}}4 \\, y^{2} \\frac{\\partial}{\\partial y}w\\left(x, y\\right) - 8 \\, y^{2} \\frac{\\partial}{\\partial x}z\\left(x, y\\right) - 8 \\, y w\\left(x, y\\right) + \\frac{\\partial^{2}}{(\\partial x)^{2}}w\\left(x, y\\right)\n",
       "\\end{math}"
      ],
      "text/plain": [
       "4*y^2*diff(w(x, y), y) - 8*y^2*diff(z(x, y), x) - 8*y*w(x, y) + diff(w(x, y), x, x)"
      ]
     },
     "metadata": {},
     "output_type": "display_data"
    },
    {
     "name": "stdout",
     "output_type": "stream",
     "text": [
      "<delierium.JanetBasis.Differential_Polynomial object at 0x7f0335f939d0> [x, y] set()\n",
      "<delierium.JanetBasis.Differential_Polynomial object at 0x7f033d488e90> [x, y] set()\n",
      "<delierium.JanetBasis.Differential_Polynomial object at 0x7f0335f939d0> [x, y] set()\n",
      "<delierium.JanetBasis.Differential_Polynomial object at 0x7f033d4da190> [x, y] set()\n",
      "<delierium.JanetBasis.Differential_Polynomial object at 0x7f0335f939d0> [x, y] set()\n",
      "<delierium.JanetBasis.Differential_Polynomial object at 0x7f0346ba9210> [x, y] set()\n",
      "<delierium.JanetBasis.Differential_Polynomial object at 0x7f033d488e90> [x, y] set()\n",
      "<delierium.JanetBasis.Differential_Polynomial object at 0x7f0335f939d0> [x, y] set()\n",
      "<delierium.JanetBasis.Differential_Polynomial object at 0x7f033d488e90> [x, y] set()\n",
      "<delierium.JanetBasis.Differential_Polynomial object at 0x7f033d4da190> [x, y] set()\n",
      "<delierium.JanetBasis.Differential_Polynomial object at 0x7f033d488e90> [x, y] set()\n",
      "<delierium.JanetBasis.Differential_Polynomial object at 0x7f0346ba9210> [x, y] set()\n",
      "<delierium.JanetBasis.Differential_Polynomial object at 0x7f033d4da190> [x, y] set()\n",
      "<delierium.JanetBasis.Differential_Polynomial object at 0x7f0335f939d0> [x, y] set()\n",
      "<delierium.JanetBasis.Differential_Polynomial object at 0x7f033d4da190> [x, y] set()\n",
      "<delierium.JanetBasis.Differential_Polynomial object at 0x7f033d488e90> [x, y] set()\n",
      "<delierium.JanetBasis.Differential_Polynomial object at 0x7f033d4da190> [x, y] set()\n",
      "<delierium.JanetBasis.Differential_Polynomial object at 0x7f0346ba9210> [x, y] set()\n",
      "<delierium.JanetBasis.Differential_Polynomial object at 0x7f0346ba9210> [x, y] set()\n",
      "<delierium.JanetBasis.Differential_Polynomial object at 0x7f0335f939d0> [x, y] set()\n",
      "<delierium.JanetBasis.Differential_Polynomial object at 0x7f0346ba9210> [x, y] set()\n",
      "<delierium.JanetBasis.Differential_Polynomial object at 0x7f033d488e90> [x, y] set()\n",
      "<delierium.JanetBasis.Differential_Polynomial object at 0x7f0346ba9210> [x, y] set()\n",
      "<delierium.JanetBasis.Differential_Polynomial object at 0x7f033d4da190> [x, y] set()\n",
      "******************   FindIntegr ****************************************\n"
     ]
    },
    {
     "data": {
      "text/html": [
       "<html><script type=\"math/tex; mode=display\">\\newcommand{\\Bold}[1]{\\mathbf{#1}}\\frac{\\frac{\\partial}{\\partial y}z\\left(x, y\\right)}{2 \\, y} + \\frac{\\partial^{2}}{(\\partial y)^{2}}z\\left(x, y\\right)</script></html>"
      ],
      "text/latex": [
       "\\begin{math}\n",
       "\\newcommand{\\Bold}[1]{\\mathbf{#1}}\\frac{\\frac{\\partial}{\\partial y}z\\left(x, y\\right)}{2 \\, y} + \\frac{\\partial^{2}}{(\\partial y)^{2}}z\\left(x, y\\right)\n",
       "\\end{math}"
      ],
      "text/plain": [
       "1/2*diff(z(x, y), y)/y + diff(z(x, y), y, y)"
      ]
     },
     "metadata": {},
     "output_type": "display_data"
    },
    {
     "data": {
      "text/html": [
       "<html><script type=\"math/tex; mode=display\">\\newcommand{\\Bold}[1]{\\mathbf{#1}}-\\frac{\\frac{\\partial}{\\partial y}w\\left(x, y\\right)}{2 \\, y} - \\frac{w\\left(x, y\\right)}{2 \\, y^{2}} + \\frac{\\partial^{2}}{(\\partial y)^{2}}w\\left(x, y\\right) - 2 \\, \\frac{\\partial^{2}}{\\partial x\\partial y}z\\left(x, y\\right)</script></html>"
      ],
      "text/latex": [
       "\\begin{math}\n",
       "\\newcommand{\\Bold}[1]{\\mathbf{#1}}-\\frac{\\frac{\\partial}{\\partial y}w\\left(x, y\\right)}{2 \\, y} - \\frac{w\\left(x, y\\right)}{2 \\, y^{2}} + \\frac{\\partial^{2}}{(\\partial y)^{2}}w\\left(x, y\\right) - 2 \\, \\frac{\\partial^{2}}{\\partial x\\partial y}z\\left(x, y\\right)\n",
       "\\end{math}"
      ],
      "text/plain": [
       "-1/2*diff(w(x, y), y)/y - 1/2*w(x, y)/y^2 + diff(w(x, y), y, y) - 2*diff(z(x, y), x, y)"
      ]
     },
     "metadata": {},
     "output_type": "display_data"
    },
    {
     "data": {
      "text/html": [
       "<html><script type=\"math/tex; mode=display\">\\newcommand{\\Bold}[1]{\\mathbf{#1}}-6 \\, y^{2} \\frac{\\partial}{\\partial y}z\\left(x, y\\right) - \\frac{\\frac{\\partial}{\\partial x}w\\left(x, y\\right)}{2 \\, y} + \\frac{\\partial^{2}}{\\partial x\\partial y}w\\left(x, y\\right) - \\frac{1}{2} \\, \\frac{\\partial^{2}}{(\\partial x)^{2}}z\\left(x, y\\right)</script></html>"
      ],
      "text/latex": [
       "\\begin{math}\n",
       "\\newcommand{\\Bold}[1]{\\mathbf{#1}}-6 \\, y^{2} \\frac{\\partial}{\\partial y}z\\left(x, y\\right) - \\frac{\\frac{\\partial}{\\partial x}w\\left(x, y\\right)}{2 \\, y} + \\frac{\\partial^{2}}{\\partial x\\partial y}w\\left(x, y\\right) - \\frac{1}{2} \\, \\frac{\\partial^{2}}{(\\partial x)^{2}}z\\left(x, y\\right)\n",
       "\\end{math}"
      ],
      "text/plain": [
       "-6*y^2*diff(z(x, y), y) - 1/2*diff(w(x, y), x)/y + diff(w(x, y), x, y) - 1/2*diff(z(x, y), x, x)"
      ]
     },
     "metadata": {},
     "output_type": "display_data"
    },
    {
     "data": {
      "text/html": [
       "<html><script type=\"math/tex; mode=display\">\\newcommand{\\Bold}[1]{\\mathbf{#1}}4 \\, y^{2} \\frac{\\partial}{\\partial y}w\\left(x, y\\right) - 8 \\, y^{2} \\frac{\\partial}{\\partial x}z\\left(x, y\\right) - 8 \\, y w\\left(x, y\\right) + \\frac{\\partial^{2}}{(\\partial x)^{2}}w\\left(x, y\\right)</script></html>"
      ],
      "text/latex": [
       "\\begin{math}\n",
       "\\newcommand{\\Bold}[1]{\\mathbf{#1}}4 \\, y^{2} \\frac{\\partial}{\\partial y}w\\left(x, y\\right) - 8 \\, y^{2} \\frac{\\partial}{\\partial x}z\\left(x, y\\right) - 8 \\, y w\\left(x, y\\right) + \\frac{\\partial^{2}}{(\\partial x)^{2}}w\\left(x, y\\right)\n",
       "\\end{math}"
      ],
      "text/plain": [
       "4*y^2*diff(w(x, y), y) - 8*y^2*diff(z(x, y), x) - 8*y*w(x, y) + diff(w(x, y), x, x)"
      ]
     },
     "metadata": {},
     "output_type": "display_data"
    },
    {
     "name": "stdout",
     "output_type": "stream",
     "text": [
      "******************   ReduceIntegr ****************************************\n"
     ]
    },
    {
     "data": {
      "text/html": [
       "<html><script type=\"math/tex; mode=display\">\\newcommand{\\Bold}[1]{\\mathbf{#1}}\\frac{\\frac{\\partial}{\\partial y}z\\left(x, y\\right)}{2 \\, y} + \\frac{\\partial^{2}}{(\\partial y)^{2}}z\\left(x, y\\right)</script></html>"
      ],
      "text/latex": [
       "\\begin{math}\n",
       "\\newcommand{\\Bold}[1]{\\mathbf{#1}}\\frac{\\frac{\\partial}{\\partial y}z\\left(x, y\\right)}{2 \\, y} + \\frac{\\partial^{2}}{(\\partial y)^{2}}z\\left(x, y\\right)\n",
       "\\end{math}"
      ],
      "text/plain": [
       "1/2*diff(z(x, y), y)/y + diff(z(x, y), y, y)"
      ]
     },
     "metadata": {},
     "output_type": "display_data"
    },
    {
     "data": {
      "text/html": [
       "<html><script type=\"math/tex; mode=display\">\\newcommand{\\Bold}[1]{\\mathbf{#1}}-\\frac{\\frac{\\partial}{\\partial y}w\\left(x, y\\right)}{2 \\, y} - \\frac{w\\left(x, y\\right)}{2 \\, y^{2}} + \\frac{\\partial^{2}}{(\\partial y)^{2}}w\\left(x, y\\right) - 2 \\, \\frac{\\partial^{2}}{\\partial x\\partial y}z\\left(x, y\\right)</script></html>"
      ],
      "text/latex": [
       "\\begin{math}\n",
       "\\newcommand{\\Bold}[1]{\\mathbf{#1}}-\\frac{\\frac{\\partial}{\\partial y}w\\left(x, y\\right)}{2 \\, y} - \\frac{w\\left(x, y\\right)}{2 \\, y^{2}} + \\frac{\\partial^{2}}{(\\partial y)^{2}}w\\left(x, y\\right) - 2 \\, \\frac{\\partial^{2}}{\\partial x\\partial y}z\\left(x, y\\right)\n",
       "\\end{math}"
      ],
      "text/plain": [
       "-1/2*diff(w(x, y), y)/y - 1/2*w(x, y)/y^2 + diff(w(x, y), y, y) - 2*diff(z(x, y), x, y)"
      ]
     },
     "metadata": {},
     "output_type": "display_data"
    },
    {
     "data": {
      "text/html": [
       "<html><script type=\"math/tex; mode=display\">\\newcommand{\\Bold}[1]{\\mathbf{#1}}-6 \\, y^{2} \\frac{\\partial}{\\partial y}z\\left(x, y\\right) - \\frac{\\frac{\\partial}{\\partial x}w\\left(x, y\\right)}{2 \\, y} + \\frac{\\partial^{2}}{\\partial x\\partial y}w\\left(x, y\\right) - \\frac{1}{2} \\, \\frac{\\partial^{2}}{(\\partial x)^{2}}z\\left(x, y\\right)</script></html>"
      ],
      "text/latex": [
       "\\begin{math}\n",
       "\\newcommand{\\Bold}[1]{\\mathbf{#1}}-6 \\, y^{2} \\frac{\\partial}{\\partial y}z\\left(x, y\\right) - \\frac{\\frac{\\partial}{\\partial x}w\\left(x, y\\right)}{2 \\, y} + \\frac{\\partial^{2}}{\\partial x\\partial y}w\\left(x, y\\right) - \\frac{1}{2} \\, \\frac{\\partial^{2}}{(\\partial x)^{2}}z\\left(x, y\\right)\n",
       "\\end{math}"
      ],
      "text/plain": [
       "-6*y^2*diff(z(x, y), y) - 1/2*diff(w(x, y), x)/y + diff(w(x, y), x, y) - 1/2*diff(z(x, y), x, x)"
      ]
     },
     "metadata": {},
     "output_type": "display_data"
    },
    {
     "data": {
      "text/html": [
       "<html><script type=\"math/tex; mode=display\">\\newcommand{\\Bold}[1]{\\mathbf{#1}}4 \\, y^{2} \\frac{\\partial}{\\partial y}w\\left(x, y\\right) - 8 \\, y^{2} \\frac{\\partial}{\\partial x}z\\left(x, y\\right) - 8 \\, y w\\left(x, y\\right) + \\frac{\\partial^{2}}{(\\partial x)^{2}}w\\left(x, y\\right)</script></html>"
      ],
      "text/latex": [
       "\\begin{math}\n",
       "\\newcommand{\\Bold}[1]{\\mathbf{#1}}4 \\, y^{2} \\frac{\\partial}{\\partial y}w\\left(x, y\\right) - 8 \\, y^{2} \\frac{\\partial}{\\partial x}z\\left(x, y\\right) - 8 \\, y w\\left(x, y\\right) + \\frac{\\partial^{2}}{(\\partial x)^{2}}w\\left(x, y\\right)\n",
       "\\end{math}"
      ],
      "text/plain": [
       "4*y^2*diff(w(x, y), y) - 8*y^2*diff(z(x, y), x) - 8*y*w(x, y) + diff(w(x, y), x, x)"
      ]
     },
     "metadata": {},
     "output_type": "display_data"
    }
   ],
   "source": [
    "c2=Janet_Basis ([g1,g2,g3,g4], ctx)"
   ]
  },
  {
   "cell_type": "code",
   "execution_count": null,
   "id": "5fae6c52",
   "metadata": {},
   "outputs": [],
   "source": [
    "c2.show()"
   ]
  },
  {
   "cell_type": "code",
   "execution_count": null,
   "id": "70b16b27",
   "metadata": {},
   "outputs": [],
   "source": []
  }
 ],
 "metadata": {
  "kernelspec": {
   "display_name": "SageMath 9.2",
   "language": "sage",
   "name": "sagemath"
  },
  "language_info": {
   "codemirror_mode": {
    "name": "ipython",
    "version": 3
   },
   "file_extension": ".py",
   "mimetype": "text/x-python",
   "name": "python",
   "nbconvert_exporter": "python",
   "pygments_lexer": "ipython3",
   "version": "3.7.6"
  },
  "toc-autonumbering": true,
  "toc-showcode": true,
  "toc-showmarkdowntxt": true,
  "toc-showtags": false
 },
 "nbformat": 4,
 "nbformat_minor": 5
}
