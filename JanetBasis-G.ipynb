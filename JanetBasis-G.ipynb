{
 "cells": [
  {
   "cell_type": "code",
   "execution_count": 1,
   "metadata": {},
   "outputs": [],
   "source": [
    "%display latex\n",
    "from delierium import *\n",
    "from pprint import pprint \n",
    "from collections.abc import Iterable\n",
    "import functools\n",
    "from operator import mul, sub\n",
    "from IPython.core.debugger import set_trace\n",
    "import itertools"
   ]
  },
  {
   "cell_type": "code",
   "execution_count": 2,
   "metadata": {},
   "outputs": [],
   "source": [
    "def FindIntegrableConditions(S, context):\n",
    "    leading_derivatives = [_l.Lder() for _l in S]\n",
    "    for e1, e2 in itertools.product(S, repeat = 2):\n",
    "        if bool(e1 == e2):\n",
    "            continue\n",
    "        e1_mult, e1_nonmult = multipliers(e1.Lder(),leading_derivatives, sorted(context._independent, reverse = true))\n",
    "        e2_mult, e2_nonmult = multipliers(e2.Lder(),leading_derivatives, sorted(context._independent, reverse = true))\n",
    "        print (e1, e1_mult, e1_nonmult)\n",
    "        print (e2, e2_mult, e2_nonmult)\n",
    "    return S"
   ]
  },
  {
   "cell_type": "code",
   "execution_count": 3,
   "metadata": {},
   "outputs": [],
   "source": [
    "def ReduceIntegrabilityConditions(S, context):\n",
    "    return S"
   ]
  },
  {
   "cell_type": "code",
   "execution_count": 4,
   "metadata": {},
   "outputs": [],
   "source": [
    "var (\"x y\")\n",
    "z = function(\"z\")(x,y)\n",
    "w = function(\"w\")(x,y)\n",
    "# ctx: items are in descending order ?\n",
    "ctx = Context((w,z), (x,y), Mgrlex)"
   ]
  },
  {
   "cell_type": "code",
   "execution_count": 5,
   "metadata": {},
   "outputs": [],
   "source": [
    "class Janet_Basis:\n",
    "    def __init__ (self, S, context):\n",
    "        if not isinstance(S, Iterable):\n",
    "            # bad criterion\n",
    "            S = [S]\n",
    "        self._init(S, context)\n",
    "    def _init (self, S, context):\n",
    "        S = Reorder([Differential_Polynomial(s, context) for s in S], context, ascending = True)\n",
    "        while 1:\n",
    "            S = Autoreduce (S, context)   \n",
    "            print (\"******************   Autoreduce ****************************************\")\n",
    "            for _ in S:\n",
    "                _.show()  \n",
    "            set_trace ()\n",
    "            S = CompleteSystem(S, context)\n",
    "            print (\"******************   completesystem ****************************************\")\n",
    "            for _ in S:\n",
    "                _.show()            \n",
    "            S = FindIntegrableConditions(S, context)\n",
    "            print (\"******************   FindIntegr ****************************************\")\n",
    "            for _ in S:\n",
    "                _.show()            \n",
    "            S = c = ReduceIntegrabilityConditions(S, context)\n",
    "            print (\"******************   ReduceIntegr ****************************************\")\n",
    "            for _ in S:\n",
    "                _.show()            \n",
    "            if not c or all ([_ == 0 for _ in c]):\n",
    "                self._S = S\n",
    "                return\n",
    "            S += c\n",
    "            S = Reorder (S, context)\n",
    "            self._S = S[:]        \n",
    "            return \n",
    "            \n",
    "    def show(self):\n",
    "        for _ in self._S:\n",
    "            _.show()"
   ]
  },
  {
   "cell_type": "code",
   "execution_count": 6,
   "metadata": {},
   "outputs": [],
   "source": [
    "g1=diff(z,y,y)+diff(z,y)/(2*y)\n",
    "g2=diff(w,x,x)+(4*y**2)*diff(w,y)-(8*y**2)*diff(z,x)-8*y*w\n",
    "g3=diff(w,x,y)-diff(z,x,x)/2-diff(w,x)/(2*y)-diff(z,y)*6*y**2\n",
    "g4=diff(w,y,y)-2*diff(z,x,y)-diff(w,y)/(2*y)-w/(2*y**2)"
   ]
  },
  {
   "cell_type": "code",
   "execution_count": null,
   "metadata": {},
   "outputs": [
    {
     "name": "stdout",
     "output_type": "stream",
     "text": [
      "******************   Autoreduce ****************************************\n"
     ]
    },
    {
     "data": {
      "text/html": [
       "<html>\\[\\newcommand{\\Bold}[1]{\\mathbf{#1}}\\frac{\\frac{\\partial}{\\partial y}z\\left(x, y\\right)}{2 \\, y} + \\frac{\\partial^{2}}{(\\partial y)^{2}}z\\left(x, y\\right)\\]</html>"
      ],
      "text/latex": [
       "$$\\newcommand{\\Bold}[1]{\\mathbf{#1}}\\frac{\\frac{\\partial}{\\partial y}z\\left(x, y\\right)}{2 \\, y} + \\frac{\\partial^{2}}{(\\partial y)^{2}}z\\left(x, y\\right)$$"
      ],
      "text/plain": [
       "1/2*diff(z(x, y), y)/y + diff(z(x, y), y, y)"
      ]
     },
     "metadata": {},
     "output_type": "display_data"
    },
    {
     "data": {
      "text/html": [
       "<html>\\[\\newcommand{\\Bold}[1]{\\mathbf{#1}}-\\frac{\\frac{\\partial}{\\partial y}w\\left(x, y\\right)}{2 \\, y} - \\frac{w\\left(x, y\\right)}{2 \\, y^{2}} + \\frac{\\partial^{2}}{(\\partial y)^{2}}w\\left(x, y\\right) - 2 \\, \\frac{\\partial^{2}}{\\partial x\\partial y}z\\left(x, y\\right)\\]</html>"
      ],
      "text/latex": [
       "$$\\newcommand{\\Bold}[1]{\\mathbf{#1}}-\\frac{\\frac{\\partial}{\\partial y}w\\left(x, y\\right)}{2 \\, y} - \\frac{w\\left(x, y\\right)}{2 \\, y^{2}} + \\frac{\\partial^{2}}{(\\partial y)^{2}}w\\left(x, y\\right) - 2 \\, \\frac{\\partial^{2}}{\\partial x\\partial y}z\\left(x, y\\right)$$"
      ],
      "text/plain": [
       "-1/2*diff(w(x, y), y)/y - 1/2*w(x, y)/y^2 + diff(w(x, y), y, y) - 2*diff(z(x, y), x, y)"
      ]
     },
     "metadata": {},
     "output_type": "display_data"
    },
    {
     "data": {
      "text/html": [
       "<html>\\[\\newcommand{\\Bold}[1]{\\mathbf{#1}}-6 \\, y^{2} \\frac{\\partial}{\\partial y}z\\left(x, y\\right) - \\frac{\\frac{\\partial}{\\partial x}w\\left(x, y\\right)}{2 \\, y} + \\frac{\\partial^{2}}{\\partial x\\partial y}w\\left(x, y\\right) - \\frac{1}{2} \\, \\frac{\\partial^{2}}{(\\partial x)^{2}}z\\left(x, y\\right)\\]</html>"
      ],
      "text/latex": [
       "$$\\newcommand{\\Bold}[1]{\\mathbf{#1}}-6 \\, y^{2} \\frac{\\partial}{\\partial y}z\\left(x, y\\right) - \\frac{\\frac{\\partial}{\\partial x}w\\left(x, y\\right)}{2 \\, y} + \\frac{\\partial^{2}}{\\partial x\\partial y}w\\left(x, y\\right) - \\frac{1}{2} \\, \\frac{\\partial^{2}}{(\\partial x)^{2}}z\\left(x, y\\right)$$"
      ],
      "text/plain": [
       "-6*y^2*diff(z(x, y), y) - 1/2*diff(w(x, y), x)/y + diff(w(x, y), x, y) - 1/2*diff(z(x, y), x, x)"
      ]
     },
     "metadata": {},
     "output_type": "display_data"
    },
    {
     "data": {
      "text/html": [
       "<html>\\[\\newcommand{\\Bold}[1]{\\mathbf{#1}}4 \\, y^{2} \\frac{\\partial}{\\partial y}w\\left(x, y\\right) - 8 \\, y^{2} \\frac{\\partial}{\\partial x}z\\left(x, y\\right) - 8 \\, y w\\left(x, y\\right) + \\frac{\\partial^{2}}{(\\partial x)^{2}}w\\left(x, y\\right)\\]</html>"
      ],
      "text/latex": [
       "$$\\newcommand{\\Bold}[1]{\\mathbf{#1}}4 \\, y^{2} \\frac{\\partial}{\\partial y}w\\left(x, y\\right) - 8 \\, y^{2} \\frac{\\partial}{\\partial x}z\\left(x, y\\right) - 8 \\, y w\\left(x, y\\right) + \\frac{\\partial^{2}}{(\\partial x)^{2}}w\\left(x, y\\right)$$"
      ],
      "text/plain": [
       "4*y^2*diff(w(x, y), y) - 8*y^2*diff(z(x, y), x) - 8*y*w(x, y) + diff(w(x, y), x, x)"
      ]
     },
     "metadata": {},
     "output_type": "display_data"
    },
    {
     "name": "stdout",
     "output_type": "stream",
     "text": [
      "> \u001b[0;32m<ipython-input-5-701fb689faa6>\u001b[0m(15)\u001b[0;36m_init\u001b[0;34m()\u001b[0m\n",
      "\u001b[0;32m     13 \u001b[0;31m                \u001b[0m_\u001b[0m\u001b[0;34m.\u001b[0m\u001b[0mshow\u001b[0m\u001b[0;34m(\u001b[0m\u001b[0;34m)\u001b[0m\u001b[0;34m\u001b[0m\u001b[0;34m\u001b[0m\u001b[0m\n",
      "\u001b[0m\u001b[0;32m     14 \u001b[0;31m            \u001b[0mset_trace\u001b[0m \u001b[0;34m(\u001b[0m\u001b[0;34m)\u001b[0m\u001b[0;34m\u001b[0m\u001b[0;34m\u001b[0m\u001b[0m\n",
      "\u001b[0m\u001b[0;32m---> 15 \u001b[0;31m            \u001b[0mS\u001b[0m \u001b[0;34m=\u001b[0m \u001b[0mCompleteSystem\u001b[0m\u001b[0;34m(\u001b[0m\u001b[0mS\u001b[0m\u001b[0;34m,\u001b[0m \u001b[0mcontext\u001b[0m\u001b[0;34m)\u001b[0m\u001b[0;34m\u001b[0m\u001b[0;34m\u001b[0m\u001b[0m\n",
      "\u001b[0m\u001b[0;32m     16 \u001b[0;31m            \u001b[0mprint\u001b[0m \u001b[0;34m(\u001b[0m\u001b[0;34m\"******************   completesystem ****************************************\"\u001b[0m\u001b[0;34m)\u001b[0m\u001b[0;34m\u001b[0m\u001b[0;34m\u001b[0m\u001b[0m\n",
      "\u001b[0m\u001b[0;32m     17 \u001b[0;31m            \u001b[0;32mfor\u001b[0m \u001b[0m_\u001b[0m \u001b[0;32min\u001b[0m \u001b[0mS\u001b[0m\u001b[0;34m:\u001b[0m\u001b[0;34m\u001b[0m\u001b[0;34m\u001b[0m\u001b[0m\n",
      "\u001b[0m\n",
      "--KeyboardInterrupt--\n",
      "--KeyboardInterrupt--\n"
     ]
    }
   ],
   "source": [
    "c2=Janet_Basis ([g1,g2,g3,g4], ctx)"
   ]
  },
  {
   "cell_type": "code",
   "execution_count": null,
   "metadata": {},
   "outputs": [],
   "source": [
    "c2.show()"
   ]
  },
  {
   "cell_type": "code",
   "execution_count": 2,
   "metadata": {},
   "outputs": [
    {
     "data": {
      "text/plain": [
       "(7^(n + 1) - 1)/(7^n - 1)"
      ]
     },
     "execution_count": 2,
     "metadata": {},
     "output_type": "execute_result"
    }
   ],
   "source": [
    "n = var(\"n\")\n",
    "(7**(n+1) - 1)/(7**n - 1).expand()"
   ]
  },
  {
   "cell_type": "code",
   "execution_count": 4,
   "metadata": {},
   "outputs": [
    {
     "data": {
      "text/plain": [
       "-7^(n + 1) + 7*7^n - 6"
      ]
     },
     "execution_count": 4,
     "metadata": {},
     "output_type": "execute_result"
    }
   ],
   "source": [
    "(7**n - 1)*7 - (7**(n+1)-1)"
   ]
  },
  {
   "cell_type": "code",
   "execution_count": 9,
   "metadata": {},
   "outputs": [
    {
     "ename": "AttributeError",
     "evalue": "'sage.symbolic.expression.Expression' object has no attribute 'expandall'",
     "output_type": "error",
     "traceback": [
      "\u001b[0;31m---------------------------------------------------------------------------\u001b[0m",
      "\u001b[0;31mAttributeError\u001b[0m                            Traceback (most recent call last)",
      "\u001b[0;32m<ipython-input-9-693619eb0757>\u001b[0m in \u001b[0;36m<module>\u001b[0;34m\u001b[0m\n\u001b[0;32m----> 1\u001b[0;31m \u001b[0;34m(\u001b[0m\u001b[0mInteger\u001b[0m\u001b[0;34m(\u001b[0m\u001b[0;36m7\u001b[0m\u001b[0;34m)\u001b[0m\u001b[0;34m**\u001b[0m\u001b[0;34m(\u001b[0m\u001b[0mn\u001b[0m\u001b[0;34m+\u001b[0m\u001b[0mInteger\u001b[0m\u001b[0;34m(\u001b[0m\u001b[0;36m1\u001b[0m\u001b[0;34m)\u001b[0m\u001b[0;34m)\u001b[0m\u001b[0;34m-\u001b[0m\u001b[0mInteger\u001b[0m\u001b[0;34m(\u001b[0m\u001b[0;36m1\u001b[0m\u001b[0;34m)\u001b[0m\u001b[0;34m)\u001b[0m\u001b[0;34m.\u001b[0m\u001b[0mexpandall\u001b[0m\u001b[0;34m(\u001b[0m\u001b[0;34m)\u001b[0m\u001b[0;34m\u001b[0m\u001b[0;34m\u001b[0m\u001b[0m\n\u001b[0m",
      "\u001b[0;32m/opt/SageMath/local/lib/python3.9/site-packages/sage/structure/element.pyx\u001b[0m in \u001b[0;36msage.structure.element.Element.__getattr__ (build/cythonized/sage/structure/element.c:4708)\u001b[0;34m()\u001b[0m\n\u001b[1;32m    491\u001b[0m             \u001b[0mAttributeError\u001b[0m\u001b[0;34m:\u001b[0m \u001b[0;34m'LeftZeroSemigroup_with_category.element_class'\u001b[0m \u001b[0mobject\u001b[0m \u001b[0mhas\u001b[0m \u001b[0mno\u001b[0m \u001b[0mattribute\u001b[0m \u001b[0;34m'blah_blah'\u001b[0m\u001b[0;34m\u001b[0m\u001b[0;34m\u001b[0m\u001b[0m\n\u001b[1;32m    492\u001b[0m         \"\"\"\n\u001b[0;32m--> 493\u001b[0;31m         \u001b[0;32mreturn\u001b[0m \u001b[0mself\u001b[0m\u001b[0;34m.\u001b[0m\u001b[0mgetattr_from_category\u001b[0m\u001b[0;34m(\u001b[0m\u001b[0mname\u001b[0m\u001b[0;34m)\u001b[0m\u001b[0;34m\u001b[0m\u001b[0;34m\u001b[0m\u001b[0m\n\u001b[0m\u001b[1;32m    494\u001b[0m \u001b[0;34m\u001b[0m\u001b[0m\n\u001b[1;32m    495\u001b[0m     \u001b[0mcdef\u001b[0m \u001b[0mgetattr_from_category\u001b[0m\u001b[0;34m(\u001b[0m\u001b[0mself\u001b[0m\u001b[0;34m,\u001b[0m \u001b[0mname\u001b[0m\u001b[0;34m)\u001b[0m\u001b[0;34m:\u001b[0m\u001b[0;34m\u001b[0m\u001b[0;34m\u001b[0m\u001b[0m\n",
      "\u001b[0;32m/opt/SageMath/local/lib/python3.9/site-packages/sage/structure/element.pyx\u001b[0m in \u001b[0;36msage.structure.element.Element.getattr_from_category (build/cythonized/sage/structure/element.c:4820)\u001b[0;34m()\u001b[0m\n\u001b[1;32m    504\u001b[0m         \u001b[0;32melse\u001b[0m\u001b[0;34m:\u001b[0m\u001b[0;34m\u001b[0m\u001b[0;34m\u001b[0m\u001b[0m\n\u001b[1;32m    505\u001b[0m             \u001b[0mcls\u001b[0m \u001b[0;34m=\u001b[0m \u001b[0mP\u001b[0m\u001b[0;34m.\u001b[0m\u001b[0m_abstract_element_class\u001b[0m\u001b[0;34m\u001b[0m\u001b[0;34m\u001b[0m\u001b[0m\n\u001b[0;32m--> 506\u001b[0;31m         \u001b[0;32mreturn\u001b[0m \u001b[0mgetattr_from_other_class\u001b[0m\u001b[0;34m(\u001b[0m\u001b[0mself\u001b[0m\u001b[0;34m,\u001b[0m \u001b[0mcls\u001b[0m\u001b[0;34m,\u001b[0m \u001b[0mname\u001b[0m\u001b[0;34m)\u001b[0m\u001b[0;34m\u001b[0m\u001b[0;34m\u001b[0m\u001b[0m\n\u001b[0m\u001b[1;32m    507\u001b[0m \u001b[0;34m\u001b[0m\u001b[0m\n\u001b[1;32m    508\u001b[0m     \u001b[0;32mdef\u001b[0m \u001b[0m__dir__\u001b[0m\u001b[0;34m(\u001b[0m\u001b[0mself\u001b[0m\u001b[0;34m)\u001b[0m\u001b[0;34m:\u001b[0m\u001b[0;34m\u001b[0m\u001b[0;34m\u001b[0m\u001b[0m\n",
      "\u001b[0;32m/opt/SageMath/local/lib/python3.9/site-packages/sage/cpython/getattr.pyx\u001b[0m in \u001b[0;36msage.cpython.getattr.getattr_from_other_class (build/cythonized/sage/cpython/getattr.c:2618)\u001b[0;34m()\u001b[0m\n\u001b[1;32m    370\u001b[0m         \u001b[0mdummy_error_message\u001b[0m\u001b[0;34m.\u001b[0m\u001b[0mcls\u001b[0m \u001b[0;34m=\u001b[0m \u001b[0mtype\u001b[0m\u001b[0;34m(\u001b[0m\u001b[0mself\u001b[0m\u001b[0;34m)\u001b[0m\u001b[0;34m\u001b[0m\u001b[0;34m\u001b[0m\u001b[0m\n\u001b[1;32m    371\u001b[0m         \u001b[0mdummy_error_message\u001b[0m\u001b[0;34m.\u001b[0m\u001b[0mname\u001b[0m \u001b[0;34m=\u001b[0m \u001b[0mname\u001b[0m\u001b[0;34m\u001b[0m\u001b[0;34m\u001b[0m\u001b[0m\n\u001b[0;32m--> 372\u001b[0;31m         \u001b[0;32mraise\u001b[0m \u001b[0mAttributeError\u001b[0m\u001b[0;34m(\u001b[0m\u001b[0mdummy_error_message\u001b[0m\u001b[0;34m)\u001b[0m\u001b[0;34m\u001b[0m\u001b[0;34m\u001b[0m\u001b[0m\n\u001b[0m\u001b[1;32m    373\u001b[0m     \u001b[0mattribute\u001b[0m \u001b[0;34m=\u001b[0m \u001b[0;34m<\u001b[0m\u001b[0mobject\u001b[0m\u001b[0;34m>\u001b[0m\u001b[0mattr\u001b[0m\u001b[0;34m\u001b[0m\u001b[0;34m\u001b[0m\u001b[0m\n\u001b[1;32m    374\u001b[0m     \u001b[0;31m# Check for a descriptor (__get__ in Python)\u001b[0m\u001b[0;34m\u001b[0m\u001b[0;34m\u001b[0m\u001b[0;34m\u001b[0m\u001b[0m\n",
      "\u001b[0;31mAttributeError\u001b[0m: 'sage.symbolic.expression.Expression' object has no attribute 'expandall'"
     ]
    }
   ],
   "source": [
    "(7**(n+1)-1).expandall()"
   ]
  },
  {
   "cell_type": "code",
   "execution_count": 10,
   "metadata": {},
   "outputs": [
    {
     "data": {
      "text/plain": [
       "1"
      ]
     },
     "execution_count": 10,
     "metadata": {},
     "output_type": "execute_result"
    }
   ],
   "source": [
    "gcd((7**(n+1) - 1), (7**n - 1))"
   ]
  },
  {
   "cell_type": "code",
   "execution_count": 11,
   "metadata": {},
   "outputs": [],
   "source": [
    "m=var(\"m\")"
   ]
  },
  {
   "cell_type": "code",
   "execution_count": 14,
   "metadata": {},
   "outputs": [
    {
     "data": {
      "text/plain": [
       "27*m^3 + 54*m^2 + 33*m + 6"
      ]
     },
     "execution_count": 14,
     "metadata": {},
     "output_type": "execute_result"
    }
   ],
   "source": [
    "((3*m+2)**3 - 3*m - 2).expand()"
   ]
  },
  {
   "cell_type": "code",
   "execution_count": 15,
   "metadata": {},
   "outputs": [],
   "source": [
    "mm=function(\"mm\")(x)"
   ]
  },
  {
   "cell_type": "code",
   "execution_count": 16,
   "metadata": {},
   "outputs": [
    {
     "data": {
      "text/plain": [
       "<class 'sage.symbolic.expression.Expression'>"
      ]
     },
     "execution_count": 16,
     "metadata": {},
     "output_type": "execute_result"
    }
   ],
   "source": [
    "mm.__class__"
   ]
  },
  {
   "cell_type": "code",
   "execution_count": 18,
   "metadata": {},
   "outputs": [
    {
     "name": "stdout",
     "output_type": "stream",
     "text": [
      "Help on built-in function function in module sage.calculus.var:\n",
      "\n",
      "function(...)\n",
      "    function(s, **kwds)\n",
      "    File: sage/calculus/var.pyx (starting at line 133)\n",
      "    \n",
      "        Create a formal symbolic function with the name *s*.\n",
      "    \n",
      "        INPUT:\n",
      "    \n",
      "        - ``nargs=0`` - number of arguments the function accepts, defaults to\n",
      "          variable number of arguments, or 0\n",
      "        - ``latex_name`` - name used when printing in latex mode\n",
      "        - ``conversions`` - a dictionary specifying names of this function in\n",
      "          other systems, this is used by the interfaces internally during conversion\n",
      "        - ``eval_func`` - method used for automatic evaluation\n",
      "        - ``evalf_func`` - method used for numeric evaluation\n",
      "        - ``evalf_params_first`` - bool to indicate if parameters should be\n",
      "          evaluated numerically before calling the custom evalf function\n",
      "        - ``conjugate_func`` - method used for complex conjugation\n",
      "        - ``real_part_func`` - method used when taking real parts\n",
      "        - ``imag_part_func`` - method used when taking imaginary parts\n",
      "        - ``derivative_func`` - method to be used for (partial) derivation\n",
      "          This method should take a keyword argument deriv_param specifying\n",
      "          the index of the argument to differentiate w.r.t\n",
      "        - ``tderivative_func`` - method to be used for derivatives\n",
      "        - ``power_func`` - method used when taking powers\n",
      "          This method should take a keyword argument power_param specifying\n",
      "          the exponent\n",
      "        - ``series_func`` - method used for series expansion\n",
      "          This method should expect keyword arguments\n",
      "          - ``order`` - order for the expansion to be computed\n",
      "          - ``var`` - variable to expand w.r.t.\n",
      "          - ``at`` - expand at this value\n",
      "        - ``print_func`` - method for custom printing\n",
      "        - ``print_latex_func`` - method for custom printing in latex mode\n",
      "    \n",
      "        Note that custom methods must be instance methods, i.e., expect the instance\n",
      "        of the symbolic function as the first argument.\n",
      "    \n",
      "        .. NOTE::\n",
      "    \n",
      "            The new function is both returned and automatically injected\n",
      "            into the global namespace.  If you use this function in library\n",
      "            code, it is better to use sage.symbolic.function_factory.function,\n",
      "            since it will not touch the global namespace.\n",
      "    \n",
      "        EXAMPLES:\n",
      "    \n",
      "        We create a formal function called supersin ::\n",
      "    \n",
      "            sage: function('supersin')\n",
      "            supersin\n",
      "    \n",
      "        We can immediately use supersin in symbolic expressions::\n",
      "    \n",
      "            sage: y, z, A = var('y z A')\n",
      "            sage: supersin(y+z) + A^3\n",
      "            A^3 + supersin(y + z)\n",
      "    \n",
      "        We can define other functions in terms of supersin::\n",
      "    \n",
      "            sage: g(x,y) = supersin(x)^2 + sin(y/2)\n",
      "            sage: g\n",
      "            (x, y) |--> supersin(x)^2 + sin(1/2*y)\n",
      "            sage: g.diff(y)\n",
      "            (x, y) |--> 1/2*cos(1/2*y)\n",
      "            sage: k = g.diff(x); k\n",
      "            (x, y) |--> 2*supersin(x)*diff(supersin(x), x)\n",
      "    \n",
      "        We create a formal function of one variable, write down\n",
      "        an expression that involves first and second derivatives,\n",
      "        and extract off coefficients::\n",
      "    \n",
      "            sage: r, kappa = var('r,kappa')\n",
      "            sage: psi = function('psi', nargs=1)(r); psi\n",
      "            psi(r)\n",
      "            sage: g = 1/r^2*(2*r*psi.derivative(r,1) + r^2*psi.derivative(r,2)); g\n",
      "            (r^2*diff(psi(r), r, r) + 2*r*diff(psi(r), r))/r^2\n",
      "            sage: g.expand()\n",
      "            2*diff(psi(r), r)/r + diff(psi(r), r, r)\n",
      "            sage: g.coefficient(psi.derivative(r,2))\n",
      "            1\n",
      "            sage: g.coefficient(psi.derivative(r,1))\n",
      "            2/r\n",
      "    \n",
      "        Custom typesetting of symbolic functions in LaTeX, either using latex_name\n",
      "        keyword::\n",
      "    \n",
      "            sage: function('riemann', latex_name=\"\\\\mathcal{R}\")\n",
      "            riemann\n",
      "            sage: latex(riemann(x))\n",
      "            \\mathcal{R}\\left(x\\right)\n",
      "    \n",
      "        or passing a custom callable function that returns a latex expression::\n",
      "    \n",
      "            sage: mu,nu = var('mu,nu')\n",
      "            sage: def my_latex_print(self, *args): return \"\\\\psi_{%s}\"%(', '.join(map(latex, args)))\n",
      "            sage: function('psi', print_latex_func=my_latex_print)\n",
      "            psi\n",
      "            sage: latex(psi(mu,nu))\n",
      "            \\psi_{\\mu, \\nu}\n",
      "    \n",
      "        Defining custom methods for automatic or numeric evaluation, derivation,\n",
      "        conjugation, etc. is supported::\n",
      "    \n",
      "            sage: def ev(self, x): return 2*x\n",
      "            sage: foo = function(\"foo\", nargs=1, eval_func=ev)\n",
      "            sage: foo(x)\n",
      "            2*x\n",
      "            sage: foo = function(\"foo\", nargs=1, eval_func=lambda self, x: 5)\n",
      "            sage: foo(x)\n",
      "            5\n",
      "            sage: def ef(self, x): pass\n",
      "            sage: bar = function(\"bar\", nargs=1, eval_func=ef)\n",
      "            sage: bar(x)\n",
      "            bar(x)\n",
      "    \n",
      "            sage: def evalf_f(self, x, parent=None, algorithm=None): return 6\n",
      "            sage: foo = function(\"foo\", nargs=1, evalf_func=evalf_f)\n",
      "            sage: foo(x)\n",
      "            foo(x)\n",
      "            sage: foo(x).n()\n",
      "            6\n",
      "    \n",
      "            sage: foo = function(\"foo\", nargs=1, conjugate_func=ev)\n",
      "            sage: foo(x).conjugate()\n",
      "            2*x\n",
      "    \n",
      "            sage: def deriv(self, *args,**kwds): print(\"{} {}\".format(args, kwds)); return args[kwds['diff_param']]^2\n",
      "            sage: foo = function(\"foo\", nargs=2, derivative_func=deriv)\n",
      "            sage: foo(x,y).derivative(y)\n",
      "            (x, y) {'diff_param': 1}\n",
      "            y^2\n",
      "    \n",
      "            sage: def pow(self, x, power_param=None): print(\"{} {}\".format(x, power_param)); return x*power_param\n",
      "            sage: foo = function(\"foo\", nargs=1, power_func=pow)\n",
      "            sage: foo(y)^(x+y)\n",
      "            y x + y\n",
      "            (x + y)*y\n",
      "    \n",
      "            sage: from pprint import pformat\n",
      "            sage: def expand(self, *args, **kwds):\n",
      "            ....:     print(\"{} {}\".format(args, pformat(kwds)))\n",
      "            ....:     return sum(args[0]^i for i in range(kwds['order']))\n",
      "            sage: foo = function(\"foo\", nargs=1, series_func=expand)\n",
      "            sage: foo(y).series(y, 5)\n",
      "            (y,) {'at': 0, 'options': 0, 'order': 5, 'var': y}\n",
      "            y^4 + y^3 + y^2 + y + 1\n",
      "    \n",
      "            sage: def my_print(self, *args):\n",
      "            ....:     return \"my args are: \" + ', '.join(map(repr, args))\n",
      "            sage: foo = function('t', nargs=2, print_func=my_print)\n",
      "            sage: foo(x,y^z)\n",
      "            my args are: x, y^z\n",
      "    \n",
      "            sage: latex(foo(x,y^z))\n",
      "            t\\left(x, y^{z}\\right)\n",
      "            sage: foo = function('t', nargs=2, print_latex_func=my_print)\n",
      "            sage: foo(x,y^z)\n",
      "            t(x, y^z)\n",
      "            sage: latex(foo(x,y^z))\n",
      "            my args are: x, y^z\n",
      "            sage: foo = function('t', nargs=2, latex_name='foo')\n",
      "            sage: latex(foo(x,y^z))\n",
      "            foo\\left(x, y^{z}\\right)\n",
      "    \n",
      "        Chain rule::\n",
      "    \n",
      "            sage: def print_args(self, *args, **kwds): print(\"args: {}\".format(args)); print(\"kwds: {}\".format(kwds)); return args[0]\n",
      "            sage: foo = function('t', nargs=2, tderivative_func=print_args)\n",
      "            sage: foo(x,x).derivative(x)\n",
      "            args: (x, x)\n",
      "            kwds: {'diff_param': x}\n",
      "            x\n",
      "            sage: foo = function('t', nargs=2, derivative_func=print_args)\n",
      "            sage: foo(x,x).derivative(x)\n",
      "            args: (x, x)\n",
      "            kwds: {'diff_param': 0}\n",
      "            args: (x, x)\n",
      "            kwds: {'diff_param': 1}\n",
      "            2*x\n",
      "    \n",
      "        Since Sage 4.0, basic arithmetic with unevaluated functions is no\n",
      "        longer supported::\n",
      "    \n",
      "            sage: x = var('x')\n",
      "            sage: f = function('f')\n",
      "            sage: 2*f\n",
      "            Traceback (most recent call last):\n",
      "            ...\n",
      "            TypeError: unsupported operand parent(s) for *: 'Integer Ring' and '<class 'sage.symbolic.function_factory...NewSymbolicFunction'>'\n",
      "    \n",
      "        You now need to evaluate the function in order to do the arithmetic::\n",
      "    \n",
      "            sage: 2*f(x)\n",
      "            2*f(x)\n",
      "    \n",
      "        Since Sage 4.0, you need to use :meth:`substitute_function` to\n",
      "        replace all occurrences of a function with another::\n",
      "    \n",
      "            sage: var('a, b')\n",
      "            (a, b)\n",
      "            sage: cr = function('cr')\n",
      "            sage: f = cr(a)\n",
      "            sage: g = f.diff(a).integral(b)\n",
      "            sage: g\n",
      "            b*diff(cr(a), a)\n",
      "            sage: g.substitute_function(cr, cos)\n",
      "            -b*sin(a)\n",
      "    \n",
      "            sage: g.substitute_function(cr, (sin(x) + cos(x)).function(x))\n",
      "            b*(cos(a) - sin(a))\n",
      "    \n",
      "        TESTS:\n",
      "    \n",
      "        Make sure that :trac:`15860` is fixed and whitespaces are removed::\n",
      "        \n",
      "            sage: function('A, B')\n",
      "            (A, B)\n",
      "            sage: B\n",
      "            B\n",
      "\n"
     ]
    }
   ],
   "source": [
    "help(function)"
   ]
  },
  {
   "cell_type": "code",
   "execution_count": null,
   "metadata": {},
   "outputs": [],
   "source": []
  }
 ],
 "metadata": {
  "kernelspec": {
   "display_name": "SageMath 9.4",
   "language": "sage",
   "name": "sagemath"
  },
  "language_info": {
   "codemirror_mode": {
    "name": "ipython",
    "version": 3
   },
   "file_extension": ".py",
   "mimetype": "text/x-python",
   "name": "python",
   "nbconvert_exporter": "python",
   "pygments_lexer": "ipython3",
   "version": "3.9.5"
  },
  "toc-autonumbering": true,
  "toc-showcode": true,
  "toc-showmarkdowntxt": true,
  "toc-showtags": false
 },
 "nbformat": 4,
 "nbformat_minor": 5
}
