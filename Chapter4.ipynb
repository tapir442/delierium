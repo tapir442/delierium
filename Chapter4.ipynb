{
 "cells": [
  {
   "cell_type": "code",
   "execution_count": 4,
   "id": "a6c4d585",
   "metadata": {},
   "outputs": [],
   "source": [
    "%display latex\n",
    "from pprint import pprint\n",
    "from collections.abc import Iterable"
   ]
  },
  {
   "cell_type": "code",
   "execution_count": 5,
   "id": "cbcf51f6",
   "metadata": {},
   "outputs": [
    {
     "data": {
      "text/html": [
       "<html><script type=\"math/tex; mode=display\">\\newcommand{\\Bold}[1]{\\mathbf{#1}}\\left[{(X\\left(x, u, 0\\right))} + {(\\mathrm{D}_{2}\\left(X\\right)\\left(x, u, 0\\right))} \\mathit{eps} + \\mathcal{O}\\left(\\mathit{eps}^{2}\\right), {(U\\left(x, u, 0\\right))} + {(\\mathrm{D}_{2}\\left(U\\right)\\left(x, u, 0\\right))} \\mathit{eps} + \\mathcal{O}\\left(\\mathit{eps}^{2}\\right)\\right]</script></html>"
      ],
      "text/latex": [
       "\\begin{math}\n",
       "\\newcommand{\\Bold}[1]{\\mathbf{#1}}\\left[{(X\\left(x, u, 0\\right))} + {(\\mathrm{D}_{2}\\left(X\\right)\\left(x, u, 0\\right))} \\mathit{eps} + \\mathcal{O}\\left(\\mathit{eps}^{2}\\right), {(U\\left(x, u, 0\\right))} + {(\\mathrm{D}_{2}\\left(U\\right)\\left(x, u, 0\\right))} \\mathit{eps} + \\mathcal{O}\\left(\\mathit{eps}^{2}\\right)\\right]\n",
       "\\end{math}"
      ],
      "text/plain": [
       "[(X(x, u, 0)) + (D[2](X)(x, u, 0))*eps + Order(eps^2),\n",
       " (U(x, u, 0)) + (D[2](U)(x, u, 0))*eps + Order(eps^2)]"
      ]
     },
     "execution_count": 5,
     "metadata": {},
     "output_type": "execute_result"
    }
   ],
   "source": [
    "var (\"x u eps\")\n",
    "X=function('X')(x, u, eps)\n",
    "U=function('U')(x, u, eps)\n",
    "infinitesimalTrafo = [_.series(eps==0, 2) for _ in (X,U)]; infinitesimalTrafo"
   ]
  },
  {
   "cell_type": "code",
   "execution_count": null,
   "id": "da5f7d3d",
   "metadata": {},
   "outputs": [],
   "source": []
  }
 ],
 "metadata": {
  "kernelspec": {
   "display_name": "SageMath 9.2",
   "language": "sage",
   "name": "sagemath"
  },
  "language_info": {
   "codemirror_mode": {
    "name": "ipython",
    "version": 3
   },
   "file_extension": ".py",
   "mimetype": "text/x-python",
   "name": "python",
   "nbconvert_exporter": "python",
   "pygments_lexer": "ipython3",
   "version": "3.9.2"
  }
 },
 "nbformat": 4,
 "nbformat_minor": 5
}
