{
 "cells": [
  {
   "cell_type": "code",
   "execution_count": 5,
   "id": "65c19f92",
   "metadata": {},
   "outputs": [
    {
     "name": "stdout",
     "output_type": "stream",
     "text": [
      "(w, x, y, z, lambda_0, lambda_1)\n"
     ]
    }
   ],
   "source": [
    "# Problem data\n",
    "# Arguments of the function to optimize and nullity constraints to satisfy\n",
    "Args = var(\"w, x, y, z\")\n",
    "\n",
    "# Function to optimize (here a symbolic expression)\n",
    "F = (4*x + 4*y + 9*z - 2*w)\n",
    "\n",
    "# Constraints (here, symbolic expressions to nullify)\n",
    "G = (2*x + 2*y + z + w)\n",
    "H = (x^2 + y^2 + z - 4)\n",
    "\n",
    "# Problem setup: tuple of constraints -- expressed in\n",
    "# a way that does not depend on the particular problem\n",
    "C = (G, H)\n",
    "# Solution\n",
    "# (Vector) function of constraints\n",
    "psi = vector(C).function(*Args)\n",
    "\n",
    "# Vector of Lagrange multipliers\n",
    "Lambda = vector([var(\"lambda_{}\".format(u)) for u in range(len(C))])\n",
    "\n",
    "# Function to optimize\n",
    "phi = F.function(*Args)\n",
    "\n",
    "# Lagrangian arguments\n",
    "ArgsL = Args + tuple(Lambda)\n",
    "\n",
    "print (ArgsL)\n",
    "\n",
    "# Lagrangian function\n",
    "L = (phi + Lambda.dot_product(psi)).function(*ArgsL)\n",
    "\n",
    "# Its differential (vector)\n",
    "dL = L.diff()(*ArgsL)\n",
    "\n",
    "# Solution(s) nullifying this differential :\n",
    "Sol = solve(list(dL), ArgsL, solution_dict=True)\n",
    "\n",
    "# Extremal value\n",
    "Max = F.subs(Sol)"
   ]
  },
  {
   "cell_type": "code",
   "execution_count": 3,
   "id": "6166d98a",
   "metadata": {},
   "outputs": [
    {
     "data": {
      "text/plain": [
       "[{w: -628/121, x: 4/11, y: 4/11, z: 452/121, lambda_0: 2, lambda_1: -11}]"
      ]
     },
     "execution_count": 3,
     "metadata": {},
     "output_type": "execute_result"
    }
   ],
   "source": [
    "Sol"
   ]
  },
  {
   "cell_type": "code",
   "execution_count": 4,
   "id": "4a267d07",
   "metadata": {},
   "outputs": [
    {
     "data": {
      "text/plain": [
       "516/11"
      ]
     },
     "execution_count": 4,
     "metadata": {},
     "output_type": "execute_result"
    }
   ],
   "source": [
    "Max"
   ]
  },
  {
   "cell_type": "code",
   "execution_count": null,
   "id": "9d5faabc",
   "metadata": {},
   "outputs": [],
   "source": []
  }
 ],
 "metadata": {
  "kernelspec": {
   "display_name": "SageMath 9.2",
   "language": "sage",
   "name": "sagemath"
  },
  "language_info": {
   "codemirror_mode": {
    "name": "ipython",
    "version": 3
   },
   "file_extension": ".py",
   "mimetype": "text/x-python",
   "name": "python",
   "nbconvert_exporter": "python",
   "pygments_lexer": "ipython3",
   "version": "3.7.6"
  }
 },
 "nbformat": 4,
 "nbformat_minor": 5
}
