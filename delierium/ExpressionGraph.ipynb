{
 "cells": [
  {
   "cell_type": "code",
   "execution_count": 28,
   "id": "6c57fd7f-c45c-42bf-8a91-2ac170d9923a",
   "metadata": {},
   "outputs": [],
   "source": [
    "from anytree import Node, RenderTree, AnyNode, NodeMixin, PreOrderIter\n",
    "import sage.all\n",
    "import functools\n",
    "from sage.calculus.var import var, function\n",
    "from sage.calculus.functional import diff\n",
    "from sage.symbolic.operators import FDerivativeOperator\n",
    "from functools import reduce\n",
    "from operator import __mul__\n",
    "import more_itertools\n",
    "import re\n",
    "from sage.misc.html import html\n",
    "from IPython.core.debugger import set_trace\n",
    "import sage.symbolic.operators\n",
    "from sage.graphs.graph import Graph\n",
    "from sage.symbolic.expression import Expression\n",
    "from IPython.display import Math\n",
    "from sage.all import *\n",
    "from delierium.helpers import latexer"
   ]
  },
  {
   "cell_type": "code",
   "execution_count": 37,
   "id": "d3c7c0c2-072e-402a-a496-d428f3924564",
   "metadata": {},
   "outputs": [],
   "source": [
    "class ExpressionGraph:\n",
    "    '''simple internal helper class\n",
    "    analyzes the expression as a tree and stores the latex expression\n",
    "    for each subexpression\n",
    "    stolen from https://ask.sagemath.org/question/58145/tree-representing-an-expression/\n",
    "    and adapted accordingly, quick 'n dirty\n",
    "    '''\n",
    "    def __init__(self, expr):\n",
    "        self.root = None\n",
    "        self.latex_names = {}        \n",
    "        self._expand(expr, self.root)\n",
    "    def _expand(self, e, parent):            \n",
    "        try:\n",
    "            opr = e.operator()\n",
    "        except AttributeError:  # e.g. if expr is an integer\n",
    "            opr = None       \n",
    "        l = \"\"\n",
    "        if opr:\n",
    "            if \"FDerivativeOperator\" in opr.__class__.__name__:\n",
    "                l = \"%s_{%s}\" % (opr.function()._latex_(), \",\".join([str(_) for _ in e.operands()]))\n",
    "            elif \"NewSymbolicFunction\" in opr.__class__.__name__:\n",
    "                l = opr._latex_()\n",
    "            else:\n",
    "                try:\n",
    "                    l = e._latex_()\n",
    "                except AttributeError:\n",
    "                    l = \"\"\n",
    "        try:\n",
    "            self.latex_names[str(opr)] = opr._latex_()\n",
    "        except AttributeError:\n",
    "            self.latex_names[str(e)] = e._latex_()\n",
    "            \n",
    "        n = Node(str(e), value = e, operator = opr, parent = parent, latex = l)\n",
    "        self.root = n if self.root is None else self.root\n",
    "        \n",
    "        if opr is not None:\n",
    "            try:\n",
    "                ops = e.operands()\n",
    "            except AttributeError:  # can that really happen?\n",
    "                ops = []\n",
    "            for o in ops:\n",
    "                self._expand(o, n)\n",
    "                "
   ]
  },
  {
   "cell_type": "code",
   "execution_count": 38,
   "id": "aabba982-a0c6-49a8-806c-4363c4d392eb",
   "metadata": {},
   "outputs": [],
   "source": [
    "x, y= var('x y')\n",
    "u = function('u')\n",
    "v = function('v')\n",
    "\n",
    "ex = diff(u(x), x, x) + 5*diff(u(x), x,x,x,x) - u(x)**3 + ((diff(v(x,y),x,y,x,y)*diff(u(x),x))**3)/v(x,y)**2\n",
    "g = ExpressionGraph(ex)\n"
   ]
  },
  {
   "cell_type": "code",
   "execution_count": 25,
   "id": "29aa45ad-0e4e-46d9-a737-09ca09c2be3b",
   "metadata": {},
   "outputs": [
    {
     "name": "stdout",
     "output_type": "stream",
     "text": [
      "Node('/diff(u(x), x)^3*diff(v(x, y), x, x, y, y)^3/v(x, y)^2 - u(x)^3 + diff(u(x), x, x) + 5*diff(u(x), x, x, x, x)', latex='\\\\frac{\\\\frac{\\\\partial}{\\\\partial x}u\\\\left(x\\\\right)^{3} \\\\frac{\\\\partial^{4}}{(\\\\partial x)^{2}(\\\\partial y)^{2}}v\\\\left(x, y\\\\right)^{3}}{v\\\\left(x, y\\\\right)^{2}} - u\\\\left(x\\\\right)^{3} + \\\\frac{\\\\partial^{2}}{(\\\\partial x)^{2}}u\\\\left(x\\\\right) + 5 \\\\, \\\\frac{\\\\partial^{4}}{(\\\\partial x)^{4}}u\\\\left(x\\\\right)', operator=<function add_vararg at 0x7fa64aa0d5a0>, value=diff(u(x), x)^3*diff(v(x, y), x, x, y, y)^3/v(x, y)^2 - u(x)^3 + diff(u(x), x, x) + 5*diff(u(x), x, x, x, x))\n",
      "├── Node('/diff(u(x), x)^3*diff(v(x, y), x, x, y, y)^3/v(x, y)^2 - u(x)^3 + diff(u(x), x, x) + 5*diff(u(x), x, x, x, x)/diff(u(x), x)^3*diff(v(x, y), x, x, y, y)^3/v(x, y)^2', latex='\\\\frac{\\\\frac{\\\\partial}{\\\\partial x}u\\\\left(x\\\\right)^{3} \\\\frac{\\\\partial^{4}}{(\\\\partial x)^{2}(\\\\partial y)^{2}}v\\\\left(x, y\\\\right)^{3}}{v\\\\left(x, y\\\\right)^{2}}', operator=<function mul_vararg at 0x7fa64aa42a70>, value=diff(u(x), x)^3*diff(v(x, y), x, x, y, y)^3/v(x, y)^2)\n",
      "│   ├── Node('/diff(u(x), x)^3*diff(v(x, y), x, x, y, y)^3/v(x, y)^2 - u(x)^3 + diff(u(x), x, x) + 5*diff(u(x), x, x, x, x)/diff(u(x), x)^3*diff(v(x, y), x, x, y, y)^3/v(x, y)^2/v(x, y)^(-2)', latex='\\\\frac{1}{v\\\\left(x, y\\\\right)^{2}}', operator=<built-in function pow>, value=v(x, y)^(-2))\n",
      "│   │   ├── Node('/diff(u(x), x)^3*diff(v(x, y), x, x, y, y)^3/v(x, y)^2 - u(x)^3 + diff(u(x), x, x) + 5*diff(u(x), x, x, x, x)/diff(u(x), x)^3*diff(v(x, y), x, x, y, y)^3/v(x, y)^2/v(x, y)^(-2)/v(x, y)', latex='v', operator=v, value=v(x, y))\n",
      "│   │   │   ├── Node('/diff(u(x), x)^3*diff(v(x, y), x, x, y, y)^3/v(x, y)^2 - u(x)^3 + diff(u(x), x, x) + 5*diff(u(x), x, x, x, x)/diff(u(x), x)^3*diff(v(x, y), x, x, y, y)^3/v(x, y)^2/v(x, y)^(-2)/v(x, y)/x', latex='', operator=None, value=x)\n",
      "│   │   │   └── Node('/diff(u(x), x)^3*diff(v(x, y), x, x, y, y)^3/v(x, y)^2 - u(x)^3 + diff(u(x), x, x) + 5*diff(u(x), x, x, x, x)/diff(u(x), x)^3*diff(v(x, y), x, x, y, y)^3/v(x, y)^2/v(x, y)^(-2)/v(x, y)/y', latex='', operator=None, value=y)\n",
      "│   │   └── Node('/diff(u(x), x)^3*diff(v(x, y), x, x, y, y)^3/v(x, y)^2 - u(x)^3 + diff(u(x), x, x) + 5*diff(u(x), x, x, x, x)/diff(u(x), x)^3*diff(v(x, y), x, x, y, y)^3/v(x, y)^2/v(x, y)^(-2)/-2', latex='', operator=None, value=-2)\n",
      "│   ├── Node('/diff(u(x), x)^3*diff(v(x, y), x, x, y, y)^3/v(x, y)^2 - u(x)^3 + diff(u(x), x, x) + 5*diff(u(x), x, x, x, x)/diff(u(x), x)^3*diff(v(x, y), x, x, y, y)^3/v(x, y)^2/diff(u(x), x)^3', latex='\\\\frac{\\\\partial}{\\\\partial x}u\\\\left(x\\\\right)^{3}', operator=<built-in function pow>, value=diff(u(x), x)^3)\n",
      "│   │   ├── Node('/diff(u(x), x)^3*diff(v(x, y), x, x, y, y)^3/v(x, y)^2 - u(x)^3 + diff(u(x), x, x) + 5*diff(u(x), x, x, x, x)/diff(u(x), x)^3*diff(v(x, y), x, x, y, y)^3/v(x, y)^2/diff(u(x), x)^3/diff(u(x), x)', latex='u_{x}', operator=D[0](u), value=diff(u(x), x))\n",
      "│   │   │   └── Node('/diff(u(x), x)^3*diff(v(x, y), x, x, y, y)^3/v(x, y)^2 - u(x)^3 + diff(u(x), x, x) + 5*diff(u(x), x, x, x, x)/diff(u(x), x)^3*diff(v(x, y), x, x, y, y)^3/v(x, y)^2/diff(u(x), x)^3/diff(u(x), x)/x', latex='', operator=None, value=x)\n",
      "│   │   └── Node('/diff(u(x), x)^3*diff(v(x, y), x, x, y, y)^3/v(x, y)^2 - u(x)^3 + diff(u(x), x, x) + 5*diff(u(x), x, x, x, x)/diff(u(x), x)^3*diff(v(x, y), x, x, y, y)^3/v(x, y)^2/diff(u(x), x)^3/3', latex='', operator=None, value=3)\n",
      "│   └── Node('/diff(u(x), x)^3*diff(v(x, y), x, x, y, y)^3/v(x, y)^2 - u(x)^3 + diff(u(x), x, x) + 5*diff(u(x), x, x, x, x)/diff(u(x), x)^3*diff(v(x, y), x, x, y, y)^3/v(x, y)^2/diff(v(x, y), x, x, y, y)^3', latex='\\\\frac{\\\\partial^{4}}{(\\\\partial x)^{2}(\\\\partial y)^{2}}v\\\\left(x, y\\\\right)^{3}', operator=<built-in function pow>, value=diff(v(x, y), x, x, y, y)^3)\n",
      "│       ├── Node('/diff(u(x), x)^3*diff(v(x, y), x, x, y, y)^3/v(x, y)^2 - u(x)^3 + diff(u(x), x, x) + 5*diff(u(x), x, x, x, x)/diff(u(x), x)^3*diff(v(x, y), x, x, y, y)^3/v(x, y)^2/diff(v(x, y), x, x, y, y)^3/diff(v(x, y), x, x, y, y)', latex='v_{x,y}', operator=D[0, 0, 1, 1](v), value=diff(v(x, y), x, x, y, y))\n",
      "│       │   ├── Node('/diff(u(x), x)^3*diff(v(x, y), x, x, y, y)^3/v(x, y)^2 - u(x)^3 + diff(u(x), x, x) + 5*diff(u(x), x, x, x, x)/diff(u(x), x)^3*diff(v(x, y), x, x, y, y)^3/v(x, y)^2/diff(v(x, y), x, x, y, y)^3/diff(v(x, y), x, x, y, y)/x', latex='', operator=None, value=x)\n",
      "│       │   └── Node('/diff(u(x), x)^3*diff(v(x, y), x, x, y, y)^3/v(x, y)^2 - u(x)^3 + diff(u(x), x, x) + 5*diff(u(x), x, x, x, x)/diff(u(x), x)^3*diff(v(x, y), x, x, y, y)^3/v(x, y)^2/diff(v(x, y), x, x, y, y)^3/diff(v(x, y), x, x, y, y)/y', latex='', operator=None, value=y)\n",
      "│       └── Node('/diff(u(x), x)^3*diff(v(x, y), x, x, y, y)^3/v(x, y)^2 - u(x)^3 + diff(u(x), x, x) + 5*diff(u(x), x, x, x, x)/diff(u(x), x)^3*diff(v(x, y), x, x, y, y)^3/v(x, y)^2/diff(v(x, y), x, x, y, y)^3/3', latex='', operator=None, value=3)\n",
      "├── Node('/diff(u(x), x)^3*diff(v(x, y), x, x, y, y)^3/v(x, y)^2 - u(x)^3 + diff(u(x), x, x) + 5*diff(u(x), x, x, x, x)/-u(x)^3', latex='-u\\\\left(x\\\\right)^{3}', operator=<function mul_vararg at 0x7fa64aa42a70>, value=-u(x)^3)\n",
      "│   ├── Node('/diff(u(x), x)^3*diff(v(x, y), x, x, y, y)^3/v(x, y)^2 - u(x)^3 + diff(u(x), x, x) + 5*diff(u(x), x, x, x, x)/-u(x)^3/u(x)^3', latex='u\\\\left(x\\\\right)^{3}', operator=<built-in function pow>, value=u(x)^3)\n",
      "│   │   ├── Node('/diff(u(x), x)^3*diff(v(x, y), x, x, y, y)^3/v(x, y)^2 - u(x)^3 + diff(u(x), x, x) + 5*diff(u(x), x, x, x, x)/-u(x)^3/u(x)^3/u(x)', latex='u', operator=u, value=u(x))\n",
      "│   │   │   └── Node('/diff(u(x), x)^3*diff(v(x, y), x, x, y, y)^3/v(x, y)^2 - u(x)^3 + diff(u(x), x, x) + 5*diff(u(x), x, x, x, x)/-u(x)^3/u(x)^3/u(x)/x', latex='', operator=None, value=x)\n",
      "│   │   └── Node('/diff(u(x), x)^3*diff(v(x, y), x, x, y, y)^3/v(x, y)^2 - u(x)^3 + diff(u(x), x, x) + 5*diff(u(x), x, x, x, x)/-u(x)^3/u(x)^3/3', latex='', operator=None, value=3)\n",
      "│   └── Node('/diff(u(x), x)^3*diff(v(x, y), x, x, y, y)^3/v(x, y)^2 - u(x)^3 + diff(u(x), x, x) + 5*diff(u(x), x, x, x, x)/-u(x)^3/-1', latex='', operator=None, value=-1)\n",
      "├── Node('/diff(u(x), x)^3*diff(v(x, y), x, x, y, y)^3/v(x, y)^2 - u(x)^3 + diff(u(x), x, x) + 5*diff(u(x), x, x, x, x)/diff(u(x), x, x)', latex='u_{x}', operator=D[0, 0](u), value=diff(u(x), x, x))\n",
      "│   └── Node('/diff(u(x), x)^3*diff(v(x, y), x, x, y, y)^3/v(x, y)^2 - u(x)^3 + diff(u(x), x, x) + 5*diff(u(x), x, x, x, x)/diff(u(x), x, x)/x', latex='', operator=None, value=x)\n",
      "└── Node('/diff(u(x), x)^3*diff(v(x, y), x, x, y, y)^3/v(x, y)^2 - u(x)^3 + diff(u(x), x, x) + 5*diff(u(x), x, x, x, x)/5*diff(u(x), x, x, x, x)', latex='5 \\\\, \\\\frac{\\\\partial^{4}}{(\\\\partial x)^{4}}u\\\\left(x\\\\right)', operator=<function mul_vararg at 0x7fa64aa42a70>, value=5*diff(u(x), x, x, x, x))\n",
      "    ├── Node('/diff(u(x), x)^3*diff(v(x, y), x, x, y, y)^3/v(x, y)^2 - u(x)^3 + diff(u(x), x, x) + 5*diff(u(x), x, x, x, x)/5*diff(u(x), x, x, x, x)/diff(u(x), x, x, x, x)', latex='u_{x}', operator=D[0, 0, 0, 0](u), value=diff(u(x), x, x, x, x))\n",
      "    │   └── Node('/diff(u(x), x)^3*diff(v(x, y), x, x, y, y)^3/v(x, y)^2 - u(x)^3 + diff(u(x), x, x) + 5*diff(u(x), x, x, x, x)/5*diff(u(x), x, x, x, x)/diff(u(x), x, x, x, x)/x', latex='', operator=None, value=x)\n",
      "    └── Node('/diff(u(x), x)^3*diff(v(x, y), x, x, y, y)^3/v(x, y)^2 - u(x)^3 + diff(u(x), x, x) + 5*diff(u(x), x, x, x, x)/5*diff(u(x), x, x, x, x)/5', latex='', operator=None, value=5)\n"
     ]
    }
   ],
   "source": [
    "print(RenderTree(g.root))\n",
    "diffs  = [node for node in PreOrderIter(g.root) if node.value.operator().__class__ == FDerivativeOperator]\n",
    "funcs  = [node for node in PreOrderIter(g.root) if node.value.operator().__class__.__name__ == 'NewSymbolicFunction']\n",
    "powers = [node for node in PreOrderIter(g.root) if str(node.value.operator()) == '<built-in function pow>']\n",
    "latex  = [(node.value, node.latex) for node in PreOrderIter(g.root)]"
   ]
  },
  {
   "cell_type": "code",
   "execution_count": 41,
   "id": "bd72bc6a-41b2-4069-939e-3c52a3a7a411",
   "metadata": {},
   "outputs": [
    {
     "data": {
      "text/plain": [
       "{'diff(u(x), x)^3*diff(v(x, y), x, x, y, y)^3/v(x, y)^2 - u(x)^3 + diff(u(x), x, x) + 5*diff(u(x), x, x, x, x)': '\\\\frac{\\\\frac{\\\\partial}{\\\\partial x}u\\\\left(x\\\\right)^{3} \\\\frac{\\\\partial^{4}}{(\\\\partial x)^{2}(\\\\partial y)^{2}}v\\\\left(x, y\\\\right)^{3}}{v\\\\left(x, y\\\\right)^{2}} - u\\\\left(x\\\\right)^{3} + \\\\frac{\\\\partial^{2}}{(\\\\partial x)^{2}}u\\\\left(x\\\\right) + 5 \\\\, \\\\frac{\\\\partial^{4}}{(\\\\partial x)^{4}}u\\\\left(x\\\\right)',\n",
       " 'diff(u(x), x)^3*diff(v(x, y), x, x, y, y)^3/v(x, y)^2': '\\\\frac{\\\\frac{\\\\partial}{\\\\partial x}u\\\\left(x\\\\right)^{3} \\\\frac{\\\\partial^{4}}{(\\\\partial x)^{2}(\\\\partial y)^{2}}v\\\\left(x, y\\\\right)^{3}}{v\\\\left(x, y\\\\right)^{2}}',\n",
       " 'v(x, y)^(-2)': '\\\\frac{1}{v\\\\left(x, y\\\\right)^{2}}',\n",
       " 'v': 'v',\n",
       " 'x': 'x',\n",
       " 'y': 'y',\n",
       " '-2': '-2',\n",
       " 'diff(u(x), x)^3': '\\\\frac{\\\\partial}{\\\\partial x}u\\\\left(x\\\\right)^{3}',\n",
       " 'diff(u(x), x)': '\\\\frac{\\\\partial}{\\\\partial x}u\\\\left(x\\\\right)',\n",
       " '3': '3',\n",
       " 'diff(v(x, y), x, x, y, y)^3': '\\\\frac{\\\\partial^{4}}{(\\\\partial x)^{2}(\\\\partial y)^{2}}v\\\\left(x, y\\\\right)^{3}',\n",
       " 'diff(v(x, y), x, x, y, y)': '\\\\frac{\\\\partial^{4}}{(\\\\partial x)^{2}(\\\\partial y)^{2}}v\\\\left(x, y\\\\right)',\n",
       " '-u(x)^3': '-u\\\\left(x\\\\right)^{3}',\n",
       " 'u(x)^3': 'u\\\\left(x\\\\right)^{3}',\n",
       " 'u': 'u',\n",
       " '-1': '-1',\n",
       " 'diff(u(x), x, x)': '\\\\frac{\\\\partial^{2}}{(\\\\partial x)^{2}}u\\\\left(x\\\\right)',\n",
       " '5*diff(u(x), x, x, x, x)': '5 \\\\, \\\\frac{\\\\partial^{4}}{(\\\\partial x)^{4}}u\\\\left(x\\\\right)',\n",
       " 'diff(u(x), x, x, x, x)': '\\\\frac{\\\\partial^{4}}{(\\\\partial x)^{4}}u\\\\left(x\\\\right)',\n",
       " '5': '5'}"
      ]
     },
     "execution_count": 41,
     "metadata": {},
     "output_type": "execute_result"
    }
   ],
   "source": [
    "g.latex_names\n",
    "#for _l in latex:\n",
    "#    pretty_print(f\"{_l[0]=}, {_l[1]=}\")"
   ]
  },
  {
   "cell_type": "code",
   "execution_count": 7,
   "id": "b01677f4-c6b6-4754-b8db-5d4d70437918",
   "metadata": {},
   "outputs": [],
   "source": [
    "nums = [_.value for _ in powers[0].children if _.operator is None]"
   ]
  },
  {
   "cell_type": "code",
   "execution_count": 8,
   "id": "4bf12505-3354-4dc9-850f-0f16e360fb44",
   "metadata": {},
   "outputs": [
    {
     "data": {
      "text/plain": [
       "[-2]"
      ]
     },
     "execution_count": 8,
     "metadata": {},
     "output_type": "execute_result"
    }
   ],
   "source": [
    "nums"
   ]
  },
  {
   "cell_type": "code",
   "execution_count": null,
   "id": "90b16fdd-50d6-4877-bf7a-9e0603469ecf",
   "metadata": {},
   "outputs": [],
   "source": [
    "diffs[7].name"
   ]
  },
  {
   "cell_type": "code",
   "execution_count": null,
   "id": "bedee399-b09b-41cc-859b-d27b95707229",
   "metadata": {},
   "outputs": [],
   "source": [
    "diffs[7].operator"
   ]
  },
  {
   "cell_type": "code",
   "execution_count": null,
   "id": "79f8ed36-3b80-445b-8dca-c62fd95c954d",
   "metadata": {},
   "outputs": [],
   "source": [
    "diffs[7].value"
   ]
  },
  {
   "cell_type": "code",
   "execution_count": null,
   "id": "7a183318-5dfa-4331-a25b-4d6fccb89797",
   "metadata": {},
   "outputs": [],
   "source": [
    "diffs[7].value.operator().__class__"
   ]
  },
  {
   "cell_type": "code",
   "execution_count": null,
   "id": "454f9c5d-c36c-4cec-9391-a15e5082f0b4",
   "metadata": {},
   "outputs": [],
   "source": [
    "powers"
   ]
  },
  {
   "cell_type": "code",
   "execution_count": null,
   "id": "bab5e765-8c7c-451c-b0e3-b11ddc354f46",
   "metadata": {},
   "outputs": [],
   "source": []
  }
 ],
 "metadata": {
  "kernelspec": {
   "display_name": "SageMath 9.6",
   "language": "sage",
   "name": "sagemath"
  },
  "language_info": {
   "codemirror_mode": {
    "name": "ipython",
    "version": 3
   },
   "file_extension": ".py",
   "mimetype": "text/x-python",
   "name": "python",
   "nbconvert_exporter": "python",
   "pygments_lexer": "ipython3",
   "version": "3.10.6"
  },
  "widgets": {
   "application/vnd.jupyter.widget-state+json": {
    "state": {},
    "version_major": 2,
    "version_minor": 0
   }
  }
 },
 "nbformat": 4,
 "nbformat_minor": 5
}
