{
 "cells": [
  {
   "cell_type": "code",
   "execution_count": 1,
   "id": "b95a9b65",
   "metadata": {},
   "outputs": [],
   "source": [
    "%display latex\n",
    "from pylie import *\n",
    "from collections.abc import Iterable\n",
    "import functools\n",
    "from operator import mul, sub\n",
    "from pprint import pprint\n",
    "from IPython.core.debugger import set_trace\n"
   ]
  },
  {
   "cell_type": "code",
   "execution_count": 2,
   "id": "b8bbc902",
   "metadata": {},
   "outputs": [],
   "source": [
    "def reduce(e1: Differential_Polynomial,e2: Differential_Polynomial, context:Context)->Differential_Polynomial:\n",
    "    assert e2.is_monic()\n",
    "    def _order (der):\n",
    "        if der != 1:\n",
    "            return pylie.order_of_derivative(der)\n",
    "        else :\n",
    "            return [0]*len(context._independent)\n",
    "    def func(e):    \n",
    "        try:\n",
    "            return e.operator().function()\n",
    "        except AttributeError:\n",
    "            return e.operator()      \n",
    "    print (\"--------------------------------------- entering reduce\")    \n",
    "    #set_trace()\n",
    "    ld = e2.Lder()\n",
    "    e2_order = _order (ld)    \n",
    "    while True:\n",
    "        for t in e1._p:\n",
    "            reduction_found = False\n",
    "            d = t._d\n",
    "            c = t._coeff\n",
    "            #t.show()\n",
    "            #ld.show()\n",
    "            if func(ld) != func(d):\n",
    "                break\n",
    "            e1_order = _order (d)\n",
    "            dif = []\n",
    "            for a, b in zip (e1_order, e2_order):\n",
    "                dif += [a - b]\n",
    "            if all (map (lambda h: h == 0, dif)) :                \n",
    "                e1 = e1 - e2 * c                       \n",
    "                return e1\n",
    "            if all (map (lambda h: h >= 0, dif)):         \n",
    "                variables_to_diff = []\n",
    "                for i in range (len(context._independent)):\n",
    "                    if dif [i] != 0:\n",
    "                        variables_to_diff.extend ([context._independent[i]]*abs(dif[i]))      \n",
    "                #set_trace ()\n",
    "                s  = sum([c * _._coeff * diff(_._d,  *variables_to_diff) for _ in e2._p])\n",
    "                s  = Differential_Polynomial (s, context)\n",
    "                s.show()\n",
    "                #set_trace()\n",
    "                e1 = e1 - s\n",
    "                return e1\n",
    "            print (\"no reduction\")\n",
    "        if not reduction_found:\n",
    "            return e1        \n",
    "    return e1"
   ]
  },
  {
   "cell_type": "code",
   "execution_count": null,
   "id": "80dee09c",
   "metadata": {},
   "outputs": [],
   "source": []
  },
  {
   "cell_type": "code",
   "execution_count": null,
   "id": "c83f2448",
   "metadata": {},
   "outputs": [],
   "source": []
  },
  {
   "cell_type": "code",
   "execution_count": 3,
   "id": "902b1402",
   "metadata": {},
   "outputs": [],
   "source": [
    "#indeterminates = (x, y) = var(\"x y\")\n",
    "#R=PolynomialRing(QQ, indeterminates)\n",
    "#z  = function (\"z\")(*indeterminates)\n",
    "#ctx = Context((z,), indeterminates)\n",
    "#print(\"*\"*70)\n",
    "#e1 = diff(z,y)-x**2/y**2*diff(z,x)-(x-y)*z(x,y)/y**2\n",
    "#e1_dp = Differential_Polynomial (e1, ctx)\n",
    "#print (e1_dp)\n",
    "#print(\"*\"*70)\n",
    "#f1 = diff(z, x) + z(x,y)/x\n",
    "#f1_dp = Differential_Polynomial (f1, ctx)\n",
    "#f1_dp.is_monic()\n",
    "#print (f1_dp)\n",
    "#print(\"*\"*70)\n",
    "#f2 = diff(z, y) + z(x,y)/y\n",
    "#f2_dp = Differential_Polynomial (f2, ctx)\n",
    "#print (f2_dp)\n",
    "#r1 = reduce (e1_dp, f1_dp, ctx)\n",
    "#r1\n",
    "#r1._orig\n",
    "#r2 = reduce (r1, f2_dp, ctx)"
   ]
  },
  {
   "cell_type": "code",
   "execution_count": 4,
   "id": "4b12db97",
   "metadata": {},
   "outputs": [],
   "source": [
    "def Lfunc(e):\n",
    "    return e"
   ]
  },
  {
   "cell_type": "code",
   "execution_count": 5,
   "id": "724b4eb3",
   "metadata": {},
   "outputs": [],
   "source": [
    "def Lcml(e):\n",
    "    '''Least common left multiply, p.23'''\n",
    "    return 0"
   ]
  },
  {
   "cell_type": "code",
   "execution_count": 6,
   "id": "82f73c99",
   "metadata": {},
   "outputs": [],
   "source": [
    "def Lcm(e):\n",
    "    return 0"
   ]
  },
  {
   "cell_type": "code",
   "execution_count": 7,
   "id": "f4e04a39",
   "metadata": {},
   "outputs": [],
   "source": [
    "def CompleteSystem(S, context):\n",
    "    return S"
   ]
  },
  {
   "cell_type": "code",
   "execution_count": 8,
   "id": "b591d10f",
   "metadata": {},
   "outputs": [],
   "source": [
    "def FindIntegrableConditions(S, context):\n",
    "    return S"
   ]
  },
  {
   "cell_type": "code",
   "execution_count": 9,
   "id": "4dff76b1",
   "metadata": {},
   "outputs": [],
   "source": [
    "def ReduceIntegrabilityConditions(S, context):\n",
    "    return S"
   ]
  },
  {
   "cell_type": "code",
   "execution_count": 10,
   "id": "86589c72",
   "metadata": {},
   "outputs": [],
   "source": [
    "\n",
    "def Reorder (S, context, ascending = False):\n",
    "    res=sorted(S)\n",
    "    if ascending :\n",
    "        res.reverse()\n",
    "    return res"
   ]
  },
  {
   "cell_type": "code",
   "execution_count": 11,
   "id": "5802ab02",
   "metadata": {},
   "outputs": [
    {
     "data": {
      "text/html": [
       "<html><script type=\"math/tex; mode=display\">\\newcommand{\\Bold}[1]{\\mathbf{#1}}-\\frac{w\\left(x, y\\right)}{y} + \\frac{x \\frac{\\partial}{\\partial y}z\\left(x, y\\right)}{2 \\, {\\left(x^{2} + y\\right)} y} + \\frac{\\partial}{\\partial y}w\\left(x, y\\right)</script></html>"
      ],
      "text/latex": [
       "\\begin{math}\n",
       "\\newcommand{\\Bold}[1]{\\mathbf{#1}}-\\frac{w\\left(x, y\\right)}{y} + \\frac{x \\frac{\\partial}{\\partial y}z\\left(x, y\\right)}{2 \\, {\\left(x^{2} + y\\right)} y} + \\frac{\\partial}{\\partial y}w\\left(x, y\\right)\n",
       "\\end{math}"
      ],
      "text/plain": [
       "-w(x, y)/y + 1/2*x*diff(z(x, y), y)/((x^2 + y)*y) + diff(w(x, y), y)"
      ]
     },
     "metadata": {},
     "output_type": "display_data"
    }
   ],
   "source": [
    "var (\"x y\")\n",
    "z = function(\"z\")(x,y)\n",
    "w = function(\"w\")(x,y)\n",
    "ctx = Context((w,z), (x,y), MatrixOrder.Mgrlex)\n",
    "f1 =diff(w, y) + x*diff(z,y)/(2*y*(x**2+y)) - w(x,y)/y\n",
    "f1.show()"
   ]
  },
  {
   "cell_type": "code",
   "execution_count": 12,
   "id": "676de94b",
   "metadata": {},
   "outputs": [
    {
     "data": {
      "text/html": [
       "<html><script type=\"math/tex; mode=display\">\\newcommand{\\Bold}[1]{\\mathbf{#1}}\\frac{y \\frac{\\partial}{\\partial y}w\\left(x, y\\right)}{x} + \\frac{2 \\, y \\frac{\\partial}{\\partial x}z\\left(x, y\\right)}{x} + \\frac{\\partial^{2}}{\\partial x\\partial y}z\\left(x, y\\right)</script></html>"
      ],
      "text/latex": [
       "\\begin{math}\n",
       "\\newcommand{\\Bold}[1]{\\mathbf{#1}}\\frac{y \\frac{\\partial}{\\partial y}w\\left(x, y\\right)}{x} + \\frac{2 \\, y \\frac{\\partial}{\\partial x}z\\left(x, y\\right)}{x} + \\frac{\\partial^{2}}{\\partial x\\partial y}z\\left(x, y\\right)\n",
       "\\end{math}"
      ],
      "text/plain": [
       "y*diff(w(x, y), y)/x + 2*y*diff(z(x, y), x)/x + diff(z(x, y), x, y)"
      ]
     },
     "metadata": {},
     "output_type": "display_data"
    }
   ],
   "source": [
    "f2=diff(z,x,y) + y*diff(w,y)/x + 2*y*diff(z, x)/x\n",
    "f2.show()"
   ]
  },
  {
   "cell_type": "code",
   "execution_count": 13,
   "id": "124bd159",
   "metadata": {},
   "outputs": [
    {
     "data": {
      "text/html": [
       "<html><script type=\"math/tex; mode=display\">\\newcommand{\\Bold}[1]{\\mathbf{#1}}-\\frac{2 \\, x \\frac{\\partial^{2}}{(\\partial x)^{2}}z\\left(x, y\\right)}{y} - \\frac{x \\frac{\\partial}{\\partial x}w\\left(x, y\\right)}{y^{2}} + \\frac{\\partial^{2}}{\\partial x\\partial y}w\\left(x, y\\right)</script></html>"
      ],
      "text/latex": [
       "\\begin{math}\n",
       "\\newcommand{\\Bold}[1]{\\mathbf{#1}}-\\frac{2 \\, x \\frac{\\partial^{2}}{(\\partial x)^{2}}z\\left(x, y\\right)}{y} - \\frac{x \\frac{\\partial}{\\partial x}w\\left(x, y\\right)}{y^{2}} + \\frac{\\partial^{2}}{\\partial x\\partial y}w\\left(x, y\\right)\n",
       "\\end{math}"
      ],
      "text/plain": [
       "-2*x*diff(z(x, y), x, x)/y - x*diff(w(x, y), x)/y^2 + diff(w(x, y), x, y)"
      ]
     },
     "metadata": {},
     "output_type": "display_data"
    }
   ],
   "source": [
    "f3 = diff(w, x,y) - 2*x*diff(z, x,2)/y - x*diff(w,x)/y**2\n",
    "f3.show()"
   ]
  },
  {
   "cell_type": "code",
   "execution_count": 14,
   "id": "42ea9f83",
   "metadata": {},
   "outputs": [
    {
     "data": {
      "text/html": [
       "<html><script type=\"math/tex; mode=display\">\\newcommand{\\Bold}[1]{\\mathbf{#1}}\\frac{x \\frac{\\partial}{\\partial y}z\\left(x, y\\right)}{y} - \\frac{\\frac{\\partial}{\\partial x}w\\left(x, y\\right)}{y} + \\frac{\\frac{\\partial}{\\partial y}w\\left(x, y\\right)}{2 \\, y} - \\frac{w\\left(x, y\\right)}{2 \\, y^{2}} + \\frac{\\partial^{2}}{\\partial x\\partial y}w\\left(x, y\\right) + \\frac{\\partial^{2}}{\\partial x\\partial y}z\\left(x, y\\right)</script></html>"
      ],
      "text/latex": [
       "\\begin{math}\n",
       "\\newcommand{\\Bold}[1]{\\mathbf{#1}}\\frac{x \\frac{\\partial}{\\partial y}z\\left(x, y\\right)}{y} - \\frac{\\frac{\\partial}{\\partial x}w\\left(x, y\\right)}{y} + \\frac{\\frac{\\partial}{\\partial y}w\\left(x, y\\right)}{2 \\, y} - \\frac{w\\left(x, y\\right)}{2 \\, y^{2}} + \\frac{\\partial^{2}}{\\partial x\\partial y}w\\left(x, y\\right) + \\frac{\\partial^{2}}{\\partial x\\partial y}z\\left(x, y\\right)\n",
       "\\end{math}"
      ],
      "text/plain": [
       "x*diff(z(x, y), y)/y - diff(w(x, y), x)/y + 1/2*diff(w(x, y), y)/y - 1/2*w(x, y)/y^2 + diff(w(x, y), x, y) + diff(z(x, y), x, y)"
      ]
     },
     "metadata": {},
     "output_type": "display_data"
    }
   ],
   "source": [
    "f4 = diff(w, x,y) + diff(z, x,y) + diff(w, y)/(2*y) - diff(w,x)/y + x* diff(z, y)/y - w(x,y)/(2*y**2)\n",
    "f4.show()"
   ]
  },
  {
   "cell_type": "code",
   "execution_count": 15,
   "id": "4a46c480",
   "metadata": {},
   "outputs": [
    {
     "data": {
      "text/html": [
       "<html><script type=\"math/tex; mode=display\">\\newcommand{\\Bold}[1]{\\mathbf{#1}}-\\frac{\\frac{\\partial}{\\partial y}w\\left(x, y\\right)}{y} + \\frac{w\\left(x, y\\right)}{y^{2}} + \\frac{\\partial^{2}}{(\\partial y)^{2}}w\\left(x, y\\right) + \\frac{\\partial^{2}}{\\partial x\\partial y}z\\left(x, y\\right)</script></html>"
      ],
      "text/latex": [
       "\\begin{math}\n",
       "\\newcommand{\\Bold}[1]{\\mathbf{#1}}-\\frac{\\frac{\\partial}{\\partial y}w\\left(x, y\\right)}{y} + \\frac{w\\left(x, y\\right)}{y^{2}} + \\frac{\\partial^{2}}{(\\partial y)^{2}}w\\left(x, y\\right) + \\frac{\\partial^{2}}{\\partial x\\partial y}z\\left(x, y\\right)\n",
       "\\end{math}"
      ],
      "text/plain": [
       "-diff(w(x, y), y)/y + w(x, y)/y^2 + diff(w(x, y), y, y) + diff(z(x, y), x, y)"
      ]
     },
     "metadata": {},
     "output_type": "display_data"
    }
   ],
   "source": [
    "f5 =diff(w,y,y) + diff(z,x,y) - diff(w, y)/y + w(x,y)/(y**2)\n",
    "f5.show()"
   ]
  },
  {
   "cell_type": "code",
   "execution_count": 16,
   "id": "b1b00780",
   "metadata": {},
   "outputs": [],
   "source": [
    "def Autoreduce(S, context):  \n",
    "    i = 0\n",
    "    while True:\n",
    "        p = S[i]\n",
    "        r = S[i+1:]\n",
    "        if not r:\n",
    "            S = Reorder(S, context,True)\n",
    "            return S[:]    \n",
    "        print (\"=====================================================\", len(r))\n",
    "        if len(r) == 3:\n",
    "            set_trace()\n",
    "        have_reduced = False\n",
    "        #set_trace()\n",
    "        checkidx = i+1\n",
    "        for _r in r:\n",
    "            #print (\"Try to reduce {} with {}\".format(S[checkidx], S[i].Lder()))\n",
    "            res = reduce (_r, p, context)\n",
    "            if res != _r:\n",
    "                have_reduced = True                \n",
    "            S[checkidx] = res\n",
    "            checkidx += 1\n",
    "        #print(\"This is the new System before reorder\")   \n",
    "        #for _ in S:          \n",
    "        #    _.show()\n",
    "        S = Reorder(S, context, ascending = True)\n",
    "        print(\"This is the new System........\")\n",
    "        for _ in S:          \n",
    "            _.show()\n",
    "        if not have_reduced:\n",
    "            # no reduction done\n",
    "            i += 1        \n",
    "        else:\n",
    "            i = 0\n",
    "            "
   ]
  },
  {
   "cell_type": "code",
   "execution_count": 17,
   "id": "7f2f4042",
   "metadata": {},
   "outputs": [],
   "source": [
    "def JanetBasis(S, context):\n",
    "    \"\"\"List of homogenous PDE's + order context\"\"\"\n",
    "    if not isinstance(S, Iterable):\n",
    "        # bad criterion\n",
    "        S = [S]\n",
    "    S = [Differential_Polynomial(s, context) for s in S]\n",
    "    for _ in S:\n",
    "        _.show()\n",
    "    print (\"....................................\")\n",
    "    S = Reorder(S, context, ascending = True)\n",
    "    for _ in S:\n",
    "        _.show()\n",
    "    while 1:\n",
    "        S = Autoreduce (S, context)\n",
    "        #S = CompleteSystem (S, context)\n",
    "        #f = FindIntegrableConditions(S, context)\n",
    "        #c = ReduceIntegrabilityConditions(S, context)\n",
    "        #if all ([_ == 0 for _ in c]) or not c:\n",
    "        #    return S\n",
    "        #S += c\n",
    "        #S = Reorder (S, context)\n",
    "        return S[:]"
   ]
  },
  {
   "cell_type": "raw",
   "id": "10c92c8b",
   "metadata": {},
   "source": []
  },
  {
   "cell_type": "code",
   "execution_count": null,
   "id": "3b127dac",
   "metadata": {},
   "outputs": [
    {
     "data": {
      "text/html": [
       "<html><script type=\"math/tex; mode=display\">\\newcommand{\\Bold}[1]{\\mathbf{#1}}-\\frac{2 \\, x \\frac{\\partial^{2}}{(\\partial x)^{2}}z\\left(x, y\\right)}{y} - \\frac{x \\frac{\\partial}{\\partial x}w\\left(x, y\\right)}{y^{2}} + \\frac{\\partial^{2}}{\\partial x\\partial y}w\\left(x, y\\right)</script></html>"
      ],
      "text/latex": [
       "\\begin{math}\n",
       "\\newcommand{\\Bold}[1]{\\mathbf{#1}}-\\frac{2 \\, x \\frac{\\partial^{2}}{(\\partial x)^{2}}z\\left(x, y\\right)}{y} - \\frac{x \\frac{\\partial}{\\partial x}w\\left(x, y\\right)}{y^{2}} + \\frac{\\partial^{2}}{\\partial x\\partial y}w\\left(x, y\\right)\n",
       "\\end{math}"
      ],
      "text/plain": [
       "-2*x*diff(z(x, y), x, x)/y - x*diff(w(x, y), x)/y^2 + diff(w(x, y), x, y)"
      ]
     },
     "metadata": {},
     "output_type": "display_data"
    },
    {
     "data": {
      "text/html": [
       "<html><script type=\"math/tex; mode=display\">\\newcommand{\\Bold}[1]{\\mathbf{#1}}\\frac{x \\frac{\\partial}{\\partial y}z\\left(x, y\\right)}{2 \\, {\\left(x^{2} y + y^{2}\\right)}} - \\frac{w\\left(x, y\\right)}{y} + \\frac{\\partial}{\\partial y}w\\left(x, y\\right)</script></html>"
      ],
      "text/latex": [
       "\\begin{math}\n",
       "\\newcommand{\\Bold}[1]{\\mathbf{#1}}\\frac{x \\frac{\\partial}{\\partial y}z\\left(x, y\\right)}{2 \\, {\\left(x^{2} y + y^{2}\\right)}} - \\frac{w\\left(x, y\\right)}{y} + \\frac{\\partial}{\\partial y}w\\left(x, y\\right)\n",
       "\\end{math}"
      ],
      "text/plain": [
       "1/2*x*diff(z(x, y), y)/(x^2*y + y^2) - w(x, y)/y + diff(w(x, y), y)"
      ]
     },
     "metadata": {},
     "output_type": "display_data"
    },
    {
     "data": {
      "text/html": [
       "<html><script type=\"math/tex; mode=display\">\\newcommand{\\Bold}[1]{\\mathbf{#1}}-\\frac{\\frac{\\partial}{\\partial y}w\\left(x, y\\right)}{y} + \\frac{w\\left(x, y\\right)}{y^{2}} + \\frac{\\partial^{2}}{(\\partial y)^{2}}w\\left(x, y\\right) + \\frac{\\partial^{2}}{\\partial x\\partial y}z\\left(x, y\\right)</script></html>"
      ],
      "text/latex": [
       "\\begin{math}\n",
       "\\newcommand{\\Bold}[1]{\\mathbf{#1}}-\\frac{\\frac{\\partial}{\\partial y}w\\left(x, y\\right)}{y} + \\frac{w\\left(x, y\\right)}{y^{2}} + \\frac{\\partial^{2}}{(\\partial y)^{2}}w\\left(x, y\\right) + \\frac{\\partial^{2}}{\\partial x\\partial y}z\\left(x, y\\right)\n",
       "\\end{math}"
      ],
      "text/plain": [
       "-diff(w(x, y), y)/y + w(x, y)/y^2 + diff(w(x, y), y, y) + diff(z(x, y), x, y)"
      ]
     },
     "metadata": {},
     "output_type": "display_data"
    },
    {
     "data": {
      "text/html": [
       "<html><script type=\"math/tex; mode=display\">\\newcommand{\\Bold}[1]{\\mathbf{#1}}\\frac{y \\frac{\\partial}{\\partial y}w\\left(x, y\\right)}{x} + \\frac{2 \\, y \\frac{\\partial}{\\partial x}z\\left(x, y\\right)}{x} + \\frac{\\partial^{2}}{\\partial x\\partial y}z\\left(x, y\\right)</script></html>"
      ],
      "text/latex": [
       "\\begin{math}\n",
       "\\newcommand{\\Bold}[1]{\\mathbf{#1}}\\frac{y \\frac{\\partial}{\\partial y}w\\left(x, y\\right)}{x} + \\frac{2 \\, y \\frac{\\partial}{\\partial x}z\\left(x, y\\right)}{x} + \\frac{\\partial^{2}}{\\partial x\\partial y}z\\left(x, y\\right)\n",
       "\\end{math}"
      ],
      "text/plain": [
       "y*diff(w(x, y), y)/x + 2*y*diff(z(x, y), x)/x + diff(z(x, y), x, y)"
      ]
     },
     "metadata": {},
     "output_type": "display_data"
    },
    {
     "data": {
      "text/html": [
       "<html><script type=\"math/tex; mode=display\">\\newcommand{\\Bold}[1]{\\mathbf{#1}}\\frac{x \\frac{\\partial}{\\partial y}z\\left(x, y\\right)}{y} - \\frac{\\frac{\\partial}{\\partial x}w\\left(x, y\\right)}{y} + \\frac{\\frac{\\partial}{\\partial y}w\\left(x, y\\right)}{2 \\, y} - \\frac{w\\left(x, y\\right)}{2 \\, y^{2}} + \\frac{\\partial^{2}}{\\partial x\\partial y}w\\left(x, y\\right) + \\frac{\\partial^{2}}{\\partial x\\partial y}z\\left(x, y\\right)</script></html>"
      ],
      "text/latex": [
       "\\begin{math}\n",
       "\\newcommand{\\Bold}[1]{\\mathbf{#1}}\\frac{x \\frac{\\partial}{\\partial y}z\\left(x, y\\right)}{y} - \\frac{\\frac{\\partial}{\\partial x}w\\left(x, y\\right)}{y} + \\frac{\\frac{\\partial}{\\partial y}w\\left(x, y\\right)}{2 \\, y} - \\frac{w\\left(x, y\\right)}{2 \\, y^{2}} + \\frac{\\partial^{2}}{\\partial x\\partial y}w\\left(x, y\\right) + \\frac{\\partial^{2}}{\\partial x\\partial y}z\\left(x, y\\right)\n",
       "\\end{math}"
      ],
      "text/plain": [
       "x*diff(z(x, y), y)/y - diff(w(x, y), x)/y + 1/2*diff(w(x, y), y)/y - 1/2*w(x, y)/y^2 + diff(w(x, y), x, y) + diff(z(x, y), x, y)"
      ]
     },
     "metadata": {},
     "output_type": "display_data"
    },
    {
     "name": "stdout",
     "output_type": "stream",
     "text": [
      "....................................\n"
     ]
    },
    {
     "data": {
      "text/html": [
       "<html><script type=\"math/tex; mode=display\">\\newcommand{\\Bold}[1]{\\mathbf{#1}}\\frac{x \\frac{\\partial}{\\partial y}z\\left(x, y\\right)}{2 \\, {\\left(x^{2} y + y^{2}\\right)}} - \\frac{w\\left(x, y\\right)}{y} + \\frac{\\partial}{\\partial y}w\\left(x, y\\right)</script></html>"
      ],
      "text/latex": [
       "\\begin{math}\n",
       "\\newcommand{\\Bold}[1]{\\mathbf{#1}}\\frac{x \\frac{\\partial}{\\partial y}z\\left(x, y\\right)}{2 \\, {\\left(x^{2} y + y^{2}\\right)}} - \\frac{w\\left(x, y\\right)}{y} + \\frac{\\partial}{\\partial y}w\\left(x, y\\right)\n",
       "\\end{math}"
      ],
      "text/plain": [
       "1/2*x*diff(z(x, y), y)/(x^2*y + y^2) - w(x, y)/y + diff(w(x, y), y)"
      ]
     },
     "metadata": {},
     "output_type": "display_data"
    },
    {
     "data": {
      "text/html": [
       "<html><script type=\"math/tex; mode=display\">\\newcommand{\\Bold}[1]{\\mathbf{#1}}\\frac{y \\frac{\\partial}{\\partial y}w\\left(x, y\\right)}{x} + \\frac{2 \\, y \\frac{\\partial}{\\partial x}z\\left(x, y\\right)}{x} + \\frac{\\partial^{2}}{\\partial x\\partial y}z\\left(x, y\\right)</script></html>"
      ],
      "text/latex": [
       "\\begin{math}\n",
       "\\newcommand{\\Bold}[1]{\\mathbf{#1}}\\frac{y \\frac{\\partial}{\\partial y}w\\left(x, y\\right)}{x} + \\frac{2 \\, y \\frac{\\partial}{\\partial x}z\\left(x, y\\right)}{x} + \\frac{\\partial^{2}}{\\partial x\\partial y}z\\left(x, y\\right)\n",
       "\\end{math}"
      ],
      "text/plain": [
       "y*diff(w(x, y), y)/x + 2*y*diff(z(x, y), x)/x + diff(z(x, y), x, y)"
      ]
     },
     "metadata": {},
     "output_type": "display_data"
    },
    {
     "data": {
      "text/html": [
       "<html><script type=\"math/tex; mode=display\">\\newcommand{\\Bold}[1]{\\mathbf{#1}}-\\frac{\\frac{\\partial}{\\partial y}w\\left(x, y\\right)}{y} + \\frac{w\\left(x, y\\right)}{y^{2}} + \\frac{\\partial^{2}}{(\\partial y)^{2}}w\\left(x, y\\right) + \\frac{\\partial^{2}}{\\partial x\\partial y}z\\left(x, y\\right)</script></html>"
      ],
      "text/latex": [
       "\\begin{math}\n",
       "\\newcommand{\\Bold}[1]{\\mathbf{#1}}-\\frac{\\frac{\\partial}{\\partial y}w\\left(x, y\\right)}{y} + \\frac{w\\left(x, y\\right)}{y^{2}} + \\frac{\\partial^{2}}{(\\partial y)^{2}}w\\left(x, y\\right) + \\frac{\\partial^{2}}{\\partial x\\partial y}z\\left(x, y\\right)\n",
       "\\end{math}"
      ],
      "text/plain": [
       "-diff(w(x, y), y)/y + w(x, y)/y^2 + diff(w(x, y), y, y) + diff(z(x, y), x, y)"
      ]
     },
     "metadata": {},
     "output_type": "display_data"
    },
    {
     "data": {
      "text/html": [
       "<html><script type=\"math/tex; mode=display\">\\newcommand{\\Bold}[1]{\\mathbf{#1}}\\frac{x \\frac{\\partial}{\\partial y}z\\left(x, y\\right)}{y} - \\frac{\\frac{\\partial}{\\partial x}w\\left(x, y\\right)}{y} + \\frac{\\frac{\\partial}{\\partial y}w\\left(x, y\\right)}{2 \\, y} - \\frac{w\\left(x, y\\right)}{2 \\, y^{2}} + \\frac{\\partial^{2}}{\\partial x\\partial y}w\\left(x, y\\right) + \\frac{\\partial^{2}}{\\partial x\\partial y}z\\left(x, y\\right)</script></html>"
      ],
      "text/latex": [
       "\\begin{math}\n",
       "\\newcommand{\\Bold}[1]{\\mathbf{#1}}\\frac{x \\frac{\\partial}{\\partial y}z\\left(x, y\\right)}{y} - \\frac{\\frac{\\partial}{\\partial x}w\\left(x, y\\right)}{y} + \\frac{\\frac{\\partial}{\\partial y}w\\left(x, y\\right)}{2 \\, y} - \\frac{w\\left(x, y\\right)}{2 \\, y^{2}} + \\frac{\\partial^{2}}{\\partial x\\partial y}w\\left(x, y\\right) + \\frac{\\partial^{2}}{\\partial x\\partial y}z\\left(x, y\\right)\n",
       "\\end{math}"
      ],
      "text/plain": [
       "x*diff(z(x, y), y)/y - diff(w(x, y), x)/y + 1/2*diff(w(x, y), y)/y - 1/2*w(x, y)/y^2 + diff(w(x, y), x, y) + diff(z(x, y), x, y)"
      ]
     },
     "metadata": {},
     "output_type": "display_data"
    },
    {
     "data": {
      "text/html": [
       "<html><script type=\"math/tex; mode=display\">\\newcommand{\\Bold}[1]{\\mathbf{#1}}-\\frac{2 \\, x \\frac{\\partial^{2}}{(\\partial x)^{2}}z\\left(x, y\\right)}{y} - \\frac{x \\frac{\\partial}{\\partial x}w\\left(x, y\\right)}{y^{2}} + \\frac{\\partial^{2}}{\\partial x\\partial y}w\\left(x, y\\right)</script></html>"
      ],
      "text/latex": [
       "\\begin{math}\n",
       "\\newcommand{\\Bold}[1]{\\mathbf{#1}}-\\frac{2 \\, x \\frac{\\partial^{2}}{(\\partial x)^{2}}z\\left(x, y\\right)}{y} - \\frac{x \\frac{\\partial}{\\partial x}w\\left(x, y\\right)}{y^{2}} + \\frac{\\partial^{2}}{\\partial x\\partial y}w\\left(x, y\\right)\n",
       "\\end{math}"
      ],
      "text/plain": [
       "-2*x*diff(z(x, y), x, x)/y - x*diff(w(x, y), x)/y^2 + diff(w(x, y), x, y)"
      ]
     },
     "metadata": {},
     "output_type": "display_data"
    },
    {
     "name": "stdout",
     "output_type": "stream",
     "text": [
      "===================================================== 4\n",
      "--------------------------------------- entering reduce\n",
      "--------------------------------------- entering reduce\n"
     ]
    },
    {
     "data": {
      "text/html": [
       "<html><script type=\"math/tex; mode=display\">\\newcommand{\\Bold}[1]{\\mathbf{#1}}\\frac{x \\frac{\\partial^{2}}{(\\partial y)^{2}}z\\left(x, y\\right)}{2 \\, {\\left(x^{2} y + y^{2}\\right)}} - \\frac{\\frac{\\partial}{\\partial y}w\\left(x, y\\right)}{y} + \\frac{\\partial^{2}}{(\\partial y)^{2}}w\\left(x, y\\right)</script></html>"
      ],
      "text/latex": [
       "\\begin{math}\n",
       "\\newcommand{\\Bold}[1]{\\mathbf{#1}}\\frac{x \\frac{\\partial^{2}}{(\\partial y)^{2}}z\\left(x, y\\right)}{2 \\, {\\left(x^{2} y + y^{2}\\right)}} - \\frac{\\frac{\\partial}{\\partial y}w\\left(x, y\\right)}{y} + \\frac{\\partial^{2}}{(\\partial y)^{2}}w\\left(x, y\\right)\n",
       "\\end{math}"
      ],
      "text/plain": [
       "1/2*x*diff(z(x, y), y, y)/(x^2*y + y^2) - diff(w(x, y), y)/y + diff(w(x, y), y, y)"
      ]
     },
     "metadata": {},
     "output_type": "display_data"
    },
    {
     "name": "stdout",
     "output_type": "stream",
     "text": [
      "--------------------------------------- entering reduce\n"
     ]
    },
    {
     "data": {
      "text/html": [
       "<html><script type=\"math/tex; mode=display\">\\newcommand{\\Bold}[1]{\\mathbf{#1}}\\frac{x \\frac{\\partial^{2}}{\\partial x\\partial y}z\\left(x, y\\right)}{2 \\, {\\left(x^{2} y + y^{2}\\right)}} - \\frac{\\frac{\\partial}{\\partial x}w\\left(x, y\\right)}{y} + \\frac{\\partial^{2}}{\\partial x\\partial y}w\\left(x, y\\right)</script></html>"
      ],
      "text/latex": [
       "\\begin{math}\n",
       "\\newcommand{\\Bold}[1]{\\mathbf{#1}}\\frac{x \\frac{\\partial^{2}}{\\partial x\\partial y}z\\left(x, y\\right)}{2 \\, {\\left(x^{2} y + y^{2}\\right)}} - \\frac{\\frac{\\partial}{\\partial x}w\\left(x, y\\right)}{y} + \\frac{\\partial^{2}}{\\partial x\\partial y}w\\left(x, y\\right)\n",
       "\\end{math}"
      ],
      "text/plain": [
       "1/2*x*diff(z(x, y), x, y)/(x^2*y + y^2) - diff(w(x, y), x)/y + diff(w(x, y), x, y)"
      ]
     },
     "metadata": {},
     "output_type": "display_data"
    },
    {
     "name": "stdout",
     "output_type": "stream",
     "text": [
      "--------------------------------------- entering reduce\n"
     ]
    },
    {
     "data": {
      "text/html": [
       "<html><script type=\"math/tex; mode=display\">\\newcommand{\\Bold}[1]{\\mathbf{#1}}\\frac{x \\frac{\\partial^{2}}{\\partial x\\partial y}z\\left(x, y\\right)}{2 \\, {\\left(x^{2} y + y^{2}\\right)}} - \\frac{\\frac{\\partial}{\\partial x}w\\left(x, y\\right)}{y} + \\frac{\\partial^{2}}{\\partial x\\partial y}w\\left(x, y\\right)</script></html>"
      ],
      "text/latex": [
       "\\begin{math}\n",
       "\\newcommand{\\Bold}[1]{\\mathbf{#1}}\\frac{x \\frac{\\partial^{2}}{\\partial x\\partial y}z\\left(x, y\\right)}{2 \\, {\\left(x^{2} y + y^{2}\\right)}} - \\frac{\\frac{\\partial}{\\partial x}w\\left(x, y\\right)}{y} + \\frac{\\partial^{2}}{\\partial x\\partial y}w\\left(x, y\\right)\n",
       "\\end{math}"
      ],
      "text/plain": [
       "1/2*x*diff(z(x, y), x, y)/(x^2*y + y^2) - diff(w(x, y), x)/y + diff(w(x, y), x, y)"
      ]
     },
     "metadata": {},
     "output_type": "display_data"
    },
    {
     "name": "stdout",
     "output_type": "stream",
     "text": [
      "This is the new System........\n"
     ]
    },
    {
     "data": {
      "text/html": [
       "<html><script type=\"math/tex; mode=display\">\\newcommand{\\Bold}[1]{\\mathbf{#1}}\\frac{x \\frac{\\partial}{\\partial y}z\\left(x, y\\right)}{2 \\, {\\left(x^{2} y + y^{2}\\right)}} - \\frac{w\\left(x, y\\right)}{y} + \\frac{\\partial}{\\partial y}w\\left(x, y\\right)</script></html>"
      ],
      "text/latex": [
       "\\begin{math}\n",
       "\\newcommand{\\Bold}[1]{\\mathbf{#1}}\\frac{x \\frac{\\partial}{\\partial y}z\\left(x, y\\right)}{2 \\, {\\left(x^{2} y + y^{2}\\right)}} - \\frac{w\\left(x, y\\right)}{y} + \\frac{\\partial}{\\partial y}w\\left(x, y\\right)\n",
       "\\end{math}"
      ],
      "text/plain": [
       "1/2*x*diff(z(x, y), y)/(x^2*y + y^2) - w(x, y)/y + diff(w(x, y), y)"
      ]
     },
     "metadata": {},
     "output_type": "display_data"
    },
    {
     "data": {
      "text/html": [
       "<html><script type=\"math/tex; mode=display\">\\newcommand{\\Bold}[1]{\\mathbf{#1}}-\\frac{{\\left(x^{2} + y\\right)} w\\left(x, y\\right)}{2 \\, x^{2} y^{2} + 2 \\, y^{3} - x y} + \\frac{{\\left(x^{2} + y\\right)} \\frac{\\partial}{\\partial y}w\\left(x, y\\right)}{2 \\, x^{2} y + 2 \\, y^{2} - x} + \\frac{2 \\, {\\left(x^{3} + x y\\right)} \\frac{\\partial}{\\partial y}z\\left(x, y\\right)}{2 \\, x^{2} y + 2 \\, y^{2} - x} + \\frac{\\partial^{2}}{\\partial x\\partial y}z\\left(x, y\\right)</script></html>"
      ],
      "text/latex": [
       "\\begin{math}\n",
       "\\newcommand{\\Bold}[1]{\\mathbf{#1}}-\\frac{{\\left(x^{2} + y\\right)} w\\left(x, y\\right)}{2 \\, x^{2} y^{2} + 2 \\, y^{3} - x y} + \\frac{{\\left(x^{2} + y\\right)} \\frac{\\partial}{\\partial y}w\\left(x, y\\right)}{2 \\, x^{2} y + 2 \\, y^{2} - x} + \\frac{2 \\, {\\left(x^{3} + x y\\right)} \\frac{\\partial}{\\partial y}z\\left(x, y\\right)}{2 \\, x^{2} y + 2 \\, y^{2} - x} + \\frac{\\partial^{2}}{\\partial x\\partial y}z\\left(x, y\\right)\n",
       "\\end{math}"
      ],
      "text/plain": [
       "-(x^2 + y)*w(x, y)/(2*x^2*y^2 + 2*y^3 - x*y) + (x^2 + y)*diff(w(x, y), y)/(2*x^2*y + 2*y^2 - x) + 2*(x^3 + x*y)*diff(z(x, y), y)/(2*x^2*y + 2*y^2 - x) + diff(z(x, y), x, y)"
      ]
     },
     "metadata": {},
     "output_type": "display_data"
    },
    {
     "data": {
      "text/html": [
       "<html><script type=\"math/tex; mode=display\">\\newcommand{\\Bold}[1]{\\mathbf{#1}}-\\frac{x \\frac{\\partial^{2}}{(\\partial y)^{2}}z\\left(x, y\\right)}{2 \\, {\\left(x^{2} y + y^{2}\\right)}} + \\frac{w\\left(x, y\\right)}{y^{2}} + \\frac{\\partial^{2}}{\\partial x\\partial y}z\\left(x, y\\right)</script></html>"
      ],
      "text/latex": [
       "\\begin{math}\n",
       "\\newcommand{\\Bold}[1]{\\mathbf{#1}}-\\frac{x \\frac{\\partial^{2}}{(\\partial y)^{2}}z\\left(x, y\\right)}{2 \\, {\\left(x^{2} y + y^{2}\\right)}} + \\frac{w\\left(x, y\\right)}{y^{2}} + \\frac{\\partial^{2}}{\\partial x\\partial y}z\\left(x, y\\right)\n",
       "\\end{math}"
      ],
      "text/plain": [
       "-1/2*x*diff(z(x, y), y, y)/(x^2*y + y^2) + w(x, y)/y^2 + diff(z(x, y), x, y)"
      ]
     },
     "metadata": {},
     "output_type": "display_data"
    },
    {
     "data": {
      "text/html": [
       "<html><script type=\"math/tex; mode=display\">\\newcommand{\\Bold}[1]{\\mathbf{#1}}\\frac{y \\frac{\\partial}{\\partial y}w\\left(x, y\\right)}{x} + \\frac{2 \\, y \\frac{\\partial}{\\partial x}z\\left(x, y\\right)}{x} + \\frac{\\partial^{2}}{\\partial x\\partial y}z\\left(x, y\\right)</script></html>"
      ],
      "text/latex": [
       "\\begin{math}\n",
       "\\newcommand{\\Bold}[1]{\\mathbf{#1}}\\frac{y \\frac{\\partial}{\\partial y}w\\left(x, y\\right)}{x} + \\frac{2 \\, y \\frac{\\partial}{\\partial x}z\\left(x, y\\right)}{x} + \\frac{\\partial^{2}}{\\partial x\\partial y}z\\left(x, y\\right)\n",
       "\\end{math}"
      ],
      "text/plain": [
       "y*diff(w(x, y), y)/x + 2*y*diff(z(x, y), x)/x + diff(z(x, y), x, y)"
      ]
     },
     "metadata": {},
     "output_type": "display_data"
    },
    {
     "data": {
      "text/html": [
       "<html><script type=\"math/tex; mode=display\">\\newcommand{\\Bold}[1]{\\mathbf{#1}}\\frac{{\\left(x - y\\right)} \\frac{\\partial}{\\partial x}w\\left(x, y\\right)}{2 \\, x y} + \\frac{\\frac{\\partial^{2}}{\\partial x\\partial y}z\\left(x, y\\right)}{4 \\, {\\left(x^{2} + y\\right)}} + \\frac{\\partial^{2}}{(\\partial x)^{2}}z\\left(x, y\\right)</script></html>"
      ],
      "text/latex": [
       "\\begin{math}\n",
       "\\newcommand{\\Bold}[1]{\\mathbf{#1}}\\frac{{\\left(x - y\\right)} \\frac{\\partial}{\\partial x}w\\left(x, y\\right)}{2 \\, x y} + \\frac{\\frac{\\partial^{2}}{\\partial x\\partial y}z\\left(x, y\\right)}{4 \\, {\\left(x^{2} + y\\right)}} + \\frac{\\partial^{2}}{(\\partial x)^{2}}z\\left(x, y\\right)\n",
       "\\end{math}"
      ],
      "text/plain": [
       "1/2*(x - y)*diff(w(x, y), x)/(x*y) + 1/4*diff(z(x, y), x, y)/(x^2 + y) + diff(z(x, y), x, x)"
      ]
     },
     "metadata": {},
     "output_type": "display_data"
    },
    {
     "name": "stdout",
     "output_type": "stream",
     "text": [
      "===================================================== 4\n",
      "--------------------------------------- entering reduce\n",
      "--------------------------------------- entering reduce\n",
      "--------------------------------------- entering reduce\n",
      "--------------------------------------- entering reduce\n",
      "This is the new System........\n"
     ]
    },
    {
     "data": {
      "text/html": [
       "<html><script type=\"math/tex; mode=display\">\\newcommand{\\Bold}[1]{\\mathbf{#1}}\\frac{x \\frac{\\partial}{\\partial y}z\\left(x, y\\right)}{2 \\, {\\left(x^{2} y + y^{2}\\right)}} - \\frac{w\\left(x, y\\right)}{y} + \\frac{\\partial}{\\partial y}w\\left(x, y\\right)</script></html>"
      ],
      "text/latex": [
       "\\begin{math}\n",
       "\\newcommand{\\Bold}[1]{\\mathbf{#1}}\\frac{x \\frac{\\partial}{\\partial y}z\\left(x, y\\right)}{2 \\, {\\left(x^{2} y + y^{2}\\right)}} - \\frac{w\\left(x, y\\right)}{y} + \\frac{\\partial}{\\partial y}w\\left(x, y\\right)\n",
       "\\end{math}"
      ],
      "text/plain": [
       "1/2*x*diff(z(x, y), y)/(x^2*y + y^2) - w(x, y)/y + diff(w(x, y), y)"
      ]
     },
     "metadata": {},
     "output_type": "display_data"
    },
    {
     "data": {
      "text/html": [
       "<html><script type=\"math/tex; mode=display\">\\newcommand{\\Bold}[1]{\\mathbf{#1}}\\frac{y \\frac{\\partial}{\\partial y}w\\left(x, y\\right)}{x} + \\frac{2 \\, y \\frac{\\partial}{\\partial x}z\\left(x, y\\right)}{x} + \\frac{\\partial^{2}}{\\partial x\\partial y}z\\left(x, y\\right)</script></html>"
      ],
      "text/latex": [
       "\\begin{math}\n",
       "\\newcommand{\\Bold}[1]{\\mathbf{#1}}\\frac{y \\frac{\\partial}{\\partial y}w\\left(x, y\\right)}{x} + \\frac{2 \\, y \\frac{\\partial}{\\partial x}z\\left(x, y\\right)}{x} + \\frac{\\partial^{2}}{\\partial x\\partial y}z\\left(x, y\\right)\n",
       "\\end{math}"
      ],
      "text/plain": [
       "y*diff(w(x, y), y)/x + 2*y*diff(z(x, y), x)/x + diff(z(x, y), x, y)"
      ]
     },
     "metadata": {},
     "output_type": "display_data"
    },
    {
     "data": {
      "text/html": [
       "<html><script type=\"math/tex; mode=display\">\\newcommand{\\Bold}[1]{\\mathbf{#1}}-\\frac{x \\frac{\\partial^{2}}{(\\partial y)^{2}}z\\left(x, y\\right)}{2 \\, {\\left(x^{2} y + y^{2}\\right)}} + \\frac{w\\left(x, y\\right)}{y^{2}} + \\frac{\\partial^{2}}{\\partial x\\partial y}z\\left(x, y\\right)</script></html>"
      ],
      "text/latex": [
       "\\begin{math}\n",
       "\\newcommand{\\Bold}[1]{\\mathbf{#1}}-\\frac{x \\frac{\\partial^{2}}{(\\partial y)^{2}}z\\left(x, y\\right)}{2 \\, {\\left(x^{2} y + y^{2}\\right)}} + \\frac{w\\left(x, y\\right)}{y^{2}} + \\frac{\\partial^{2}}{\\partial x\\partial y}z\\left(x, y\\right)\n",
       "\\end{math}"
      ],
      "text/plain": [
       "-1/2*x*diff(z(x, y), y, y)/(x^2*y + y^2) + w(x, y)/y^2 + diff(z(x, y), x, y)"
      ]
     },
     "metadata": {},
     "output_type": "display_data"
    },
    {
     "data": {
      "text/html": [
       "<html><script type=\"math/tex; mode=display\">\\newcommand{\\Bold}[1]{\\mathbf{#1}}-\\frac{{\\left(x^{2} + y\\right)} w\\left(x, y\\right)}{2 \\, x^{2} y^{2} + 2 \\, y^{3} - x y} + \\frac{{\\left(x^{2} + y\\right)} \\frac{\\partial}{\\partial y}w\\left(x, y\\right)}{2 \\, x^{2} y + 2 \\, y^{2} - x} + \\frac{2 \\, {\\left(x^{3} + x y\\right)} \\frac{\\partial}{\\partial y}z\\left(x, y\\right)}{2 \\, x^{2} y + 2 \\, y^{2} - x} + \\frac{\\partial^{2}}{\\partial x\\partial y}z\\left(x, y\\right)</script></html>"
      ],
      "text/latex": [
       "\\begin{math}\n",
       "\\newcommand{\\Bold}[1]{\\mathbf{#1}}-\\frac{{\\left(x^{2} + y\\right)} w\\left(x, y\\right)}{2 \\, x^{2} y^{2} + 2 \\, y^{3} - x y} + \\frac{{\\left(x^{2} + y\\right)} \\frac{\\partial}{\\partial y}w\\left(x, y\\right)}{2 \\, x^{2} y + 2 \\, y^{2} - x} + \\frac{2 \\, {\\left(x^{3} + x y\\right)} \\frac{\\partial}{\\partial y}z\\left(x, y\\right)}{2 \\, x^{2} y + 2 \\, y^{2} - x} + \\frac{\\partial^{2}}{\\partial x\\partial y}z\\left(x, y\\right)\n",
       "\\end{math}"
      ],
      "text/plain": [
       "-(x^2 + y)*w(x, y)/(2*x^2*y^2 + 2*y^3 - x*y) + (x^2 + y)*diff(w(x, y), y)/(2*x^2*y + 2*y^2 - x) + 2*(x^3 + x*y)*diff(z(x, y), y)/(2*x^2*y + 2*y^2 - x) + diff(z(x, y), x, y)"
      ]
     },
     "metadata": {},
     "output_type": "display_data"
    },
    {
     "data": {
      "text/html": [
       "<html><script type=\"math/tex; mode=display\">\\newcommand{\\Bold}[1]{\\mathbf{#1}}\\frac{{\\left(x - y\\right)} \\frac{\\partial}{\\partial x}w\\left(x, y\\right)}{2 \\, x y} + \\frac{\\frac{\\partial^{2}}{\\partial x\\partial y}z\\left(x, y\\right)}{4 \\, {\\left(x^{2} + y\\right)}} + \\frac{\\partial^{2}}{(\\partial x)^{2}}z\\left(x, y\\right)</script></html>"
      ],
      "text/latex": [
       "\\begin{math}\n",
       "\\newcommand{\\Bold}[1]{\\mathbf{#1}}\\frac{{\\left(x - y\\right)} \\frac{\\partial}{\\partial x}w\\left(x, y\\right)}{2 \\, x y} + \\frac{\\frac{\\partial^{2}}{\\partial x\\partial y}z\\left(x, y\\right)}{4 \\, {\\left(x^{2} + y\\right)}} + \\frac{\\partial^{2}}{(\\partial x)^{2}}z\\left(x, y\\right)\n",
       "\\end{math}"
      ],
      "text/plain": [
       "1/2*(x - y)*diff(w(x, y), x)/(x*y) + 1/4*diff(z(x, y), x, y)/(x^2 + y) + diff(z(x, y), x, x)"
      ]
     },
     "metadata": {},
     "output_type": "display_data"
    },
    {
     "name": "stdout",
     "output_type": "stream",
     "text": [
      "===================================================== 3\n",
      "> \u001b[0;32m<ipython-input-16-f640c8c307c8>\u001b[0m(12)\u001b[0;36mAutoreduce\u001b[0;34m()\u001b[0m\n",
      "\u001b[0;32m     10 \u001b[0;31m        \u001b[0;32mif\u001b[0m \u001b[0mlen\u001b[0m\u001b[0;34m(\u001b[0m\u001b[0mr\u001b[0m\u001b[0;34m)\u001b[0m \u001b[0;34m==\u001b[0m \u001b[0mInteger\u001b[0m\u001b[0;34m(\u001b[0m\u001b[0;36m3\u001b[0m\u001b[0;34m)\u001b[0m\u001b[0;34m:\u001b[0m\u001b[0;34m\u001b[0m\u001b[0;34m\u001b[0m\u001b[0m\n",
      "\u001b[0m\u001b[0;32m     11 \u001b[0;31m            \u001b[0mset_trace\u001b[0m\u001b[0;34m(\u001b[0m\u001b[0;34m)\u001b[0m\u001b[0;34m\u001b[0m\u001b[0;34m\u001b[0m\u001b[0m\n",
      "\u001b[0m\u001b[0;32m---> 12 \u001b[0;31m        \u001b[0mhave_reduced\u001b[0m \u001b[0;34m=\u001b[0m \u001b[0;32mFalse\u001b[0m\u001b[0;34m\u001b[0m\u001b[0;34m\u001b[0m\u001b[0m\n",
      "\u001b[0m\u001b[0;32m     13 \u001b[0;31m        \u001b[0;31m#set_trace()\u001b[0m\u001b[0;34m\u001b[0m\u001b[0;34m\u001b[0m\u001b[0;34m\u001b[0m\u001b[0m\n",
      "\u001b[0m\u001b[0;32m     14 \u001b[0;31m        \u001b[0mcheckidx\u001b[0m \u001b[0;34m=\u001b[0m \u001b[0mi\u001b[0m\u001b[0;34m+\u001b[0m\u001b[0mInteger\u001b[0m\u001b[0;34m(\u001b[0m\u001b[0;36m1\u001b[0m\u001b[0;34m)\u001b[0m\u001b[0;34m\u001b[0m\u001b[0;34m\u001b[0m\u001b[0m\n",
      "\u001b[0m\n"
     ]
    },
    {
     "name": "stdin",
     "output_type": "stream",
     "text": [
      "ipdb>  c\n"
     ]
    },
    {
     "name": "stdout",
     "output_type": "stream",
     "text": [
      "--------------------------------------- entering reduce\n",
      "--------------------------------------- entering reduce\n",
      "--------------------------------------- entering reduce\n",
      "no reduction\n",
      "This is the new System........\n"
     ]
    },
    {
     "data": {
      "text/html": [
       "<html><script type=\"math/tex; mode=display\">\\newcommand{\\Bold}[1]{\\mathbf{#1}}\\frac{{\\left(x^{3} + x y\\right)} w\\left(x, y\\right)}{2 \\, x^{2} y^{3} - x^{3} y + 2 \\, y^{4} - 2 \\, x y^{2}} + \\frac{2 \\, {\\left(2 \\, x^{2} y^{2} + 2 \\, y^{3} - x y\\right)} \\frac{\\partial}{\\partial x}z\\left(x, y\\right)}{2 \\, x^{2} y^{2} - x^{3} + 2 \\, y^{3} - 2 \\, x y} - \\frac{2 \\, {\\left(x^{4} + x^{2} y\\right)} \\frac{\\partial}{\\partial y}z\\left(x, y\\right)}{2 \\, x^{2} y^{2} - x^{3} + 2 \\, y^{3} - 2 \\, x y} + \\frac{\\partial}{\\partial y}w\\left(x, y\\right)</script></html>"
      ],
      "text/latex": [
       "\\begin{math}\n",
       "\\newcommand{\\Bold}[1]{\\mathbf{#1}}\\frac{{\\left(x^{3} + x y\\right)} w\\left(x, y\\right)}{2 \\, x^{2} y^{3} - x^{3} y + 2 \\, y^{4} - 2 \\, x y^{2}} + \\frac{2 \\, {\\left(2 \\, x^{2} y^{2} + 2 \\, y^{3} - x y\\right)} \\frac{\\partial}{\\partial x}z\\left(x, y\\right)}{2 \\, x^{2} y^{2} - x^{3} + 2 \\, y^{3} - 2 \\, x y} - \\frac{2 \\, {\\left(x^{4} + x^{2} y\\right)} \\frac{\\partial}{\\partial y}z\\left(x, y\\right)}{2 \\, x^{2} y^{2} - x^{3} + 2 \\, y^{3} - 2 \\, x y} + \\frac{\\partial}{\\partial y}w\\left(x, y\\right)\n",
       "\\end{math}"
      ],
      "text/plain": [
       "(x^3 + x*y)*w(x, y)/(2*x^2*y^3 - x^3*y + 2*y^4 - 2*x*y^2) + 2*(2*x^2*y^2 + 2*y^3 - x*y)*diff(z(x, y), x)/(2*x^2*y^2 - x^3 + 2*y^3 - 2*x*y) - 2*(x^4 + x^2*y)*diff(z(x, y), y)/(2*x^2*y^2 - x^3 + 2*y^3 - 2*x*y) + diff(w(x, y), y)"
      ]
     },
     "metadata": {},
     "output_type": "display_data"
    },
    {
     "data": {
      "text/html": [
       "<html><script type=\"math/tex; mode=display\">\\newcommand{\\Bold}[1]{\\mathbf{#1}}\\frac{x \\frac{\\partial}{\\partial y}z\\left(x, y\\right)}{2 \\, {\\left(x^{2} y + y^{2}\\right)}} - \\frac{w\\left(x, y\\right)}{y} + \\frac{\\partial}{\\partial y}w\\left(x, y\\right)</script></html>"
      ],
      "text/latex": [
       "\\begin{math}\n",
       "\\newcommand{\\Bold}[1]{\\mathbf{#1}}\\frac{x \\frac{\\partial}{\\partial y}z\\left(x, y\\right)}{2 \\, {\\left(x^{2} y + y^{2}\\right)}} - \\frac{w\\left(x, y\\right)}{y} + \\frac{\\partial}{\\partial y}w\\left(x, y\\right)\n",
       "\\end{math}"
      ],
      "text/plain": [
       "1/2*x*diff(z(x, y), y)/(x^2*y + y^2) - w(x, y)/y + diff(w(x, y), y)"
      ]
     },
     "metadata": {},
     "output_type": "display_data"
    },
    {
     "data": {
      "text/html": [
       "<html><script type=\"math/tex; mode=display\">\\newcommand{\\Bold}[1]{\\mathbf{#1}}-\\frac{2 \\, {\\left(x^{2} + y\\right)} w\\left(x, y\\right)}{x y} + \\frac{2 \\, {\\left(x^{2} y^{2} + y^{3}\\right)} \\frac{\\partial}{\\partial y}w\\left(x, y\\right)}{x^{2}} + \\frac{4 \\, {\\left(x^{2} y^{2} + y^{3}\\right)} \\frac{\\partial}{\\partial x}z\\left(x, y\\right)}{x^{2}} + \\frac{\\partial^{2}}{(\\partial y)^{2}}z\\left(x, y\\right)</script></html>"
      ],
      "text/latex": [
       "\\begin{math}\n",
       "\\newcommand{\\Bold}[1]{\\mathbf{#1}}-\\frac{2 \\, {\\left(x^{2} + y\\right)} w\\left(x, y\\right)}{x y} + \\frac{2 \\, {\\left(x^{2} y^{2} + y^{3}\\right)} \\frac{\\partial}{\\partial y}w\\left(x, y\\right)}{x^{2}} + \\frac{4 \\, {\\left(x^{2} y^{2} + y^{3}\\right)} \\frac{\\partial}{\\partial x}z\\left(x, y\\right)}{x^{2}} + \\frac{\\partial^{2}}{(\\partial y)^{2}}z\\left(x, y\\right)\n",
       "\\end{math}"
      ],
      "text/plain": [
       "-2*(x^2 + y)*w(x, y)/(x*y) + 2*(x^2*y^2 + y^3)*diff(w(x, y), y)/x^2 + 4*(x^2*y^2 + y^3)*diff(z(x, y), x)/x^2 + diff(z(x, y), y, y)"
      ]
     },
     "metadata": {},
     "output_type": "display_data"
    },
    {
     "data": {
      "text/html": [
       "<html><script type=\"math/tex; mode=display\">\\newcommand{\\Bold}[1]{\\mathbf{#1}}\\frac{y \\frac{\\partial}{\\partial y}w\\left(x, y\\right)}{x} + \\frac{2 \\, y \\frac{\\partial}{\\partial x}z\\left(x, y\\right)}{x} + \\frac{\\partial^{2}}{\\partial x\\partial y}z\\left(x, y\\right)</script></html>"
      ],
      "text/latex": [
       "\\begin{math}\n",
       "\\newcommand{\\Bold}[1]{\\mathbf{#1}}\\frac{y \\frac{\\partial}{\\partial y}w\\left(x, y\\right)}{x} + \\frac{2 \\, y \\frac{\\partial}{\\partial x}z\\left(x, y\\right)}{x} + \\frac{\\partial^{2}}{\\partial x\\partial y}z\\left(x, y\\right)\n",
       "\\end{math}"
      ],
      "text/plain": [
       "y*diff(w(x, y), y)/x + 2*y*diff(z(x, y), x)/x + diff(z(x, y), x, y)"
      ]
     },
     "metadata": {},
     "output_type": "display_data"
    },
    {
     "data": {
      "text/html": [
       "<html><script type=\"math/tex; mode=display\">\\newcommand{\\Bold}[1]{\\mathbf{#1}}-\\frac{y \\frac{\\partial}{\\partial y}w\\left(x, y\\right)}{x} - \\frac{2 \\, y \\frac{\\partial}{\\partial x}z\\left(x, y\\right)}{x} - \\frac{{\\left(4 \\, x^{2} + 4 \\, y - 1\\right)} \\frac{\\partial^{2}}{\\partial x\\partial y}z\\left(x, y\\right)}{4 \\, {\\left(x^{2} + y\\right)}} + \\frac{{\\left(x - y\\right)} \\frac{\\partial}{\\partial x}w\\left(x, y\\right)}{2 \\, x y} + \\frac{\\partial^{2}}{(\\partial x)^{2}}z\\left(x, y\\right)</script></html>"
      ],
      "text/latex": [
       "\\begin{math}\n",
       "\\newcommand{\\Bold}[1]{\\mathbf{#1}}-\\frac{y \\frac{\\partial}{\\partial y}w\\left(x, y\\right)}{x} - \\frac{2 \\, y \\frac{\\partial}{\\partial x}z\\left(x, y\\right)}{x} - \\frac{{\\left(4 \\, x^{2} + 4 \\, y - 1\\right)} \\frac{\\partial^{2}}{\\partial x\\partial y}z\\left(x, y\\right)}{4 \\, {\\left(x^{2} + y\\right)}} + \\frac{{\\left(x - y\\right)} \\frac{\\partial}{\\partial x}w\\left(x, y\\right)}{2 \\, x y} + \\frac{\\partial^{2}}{(\\partial x)^{2}}z\\left(x, y\\right)\n",
       "\\end{math}"
      ],
      "text/plain": [
       "-y*diff(w(x, y), y)/x - 2*y*diff(z(x, y), x)/x - 1/4*(4*x^2 + 4*y - 1)*diff(z(x, y), x, y)/(x^2 + y) + 1/2*(x - y)*diff(w(x, y), x)/(x*y) + diff(z(x, y), x, x)"
      ]
     },
     "metadata": {},
     "output_type": "display_data"
    },
    {
     "name": "stdout",
     "output_type": "stream",
     "text": [
      "===================================================== 4\n",
      "--------------------------------------- entering reduce\n",
      "--------------------------------------- entering reduce\n",
      "--------------------------------------- entering reduce\n",
      "--------------------------------------- entering reduce\n",
      "This is the new System........\n"
     ]
    },
    {
     "data": {
      "text/html": [
       "<html><script type=\"math/tex; mode=display\">\\newcommand{\\Bold}[1]{\\mathbf{#1}}\\frac{{\\left(x^{4} - 2 \\, {\\left(2 \\, x^{2} + x\\right)} y^{3} - 2 \\, {\\left(4 \\, x^{4} + x^{3}\\right)} y^{2} - 2 \\, {\\left(2 \\, x^{6} - x^{2}\\right)} y\\right)} \\frac{\\partial}{\\partial y}z\\left(x, y\\right)}{4 \\, {\\left(4 \\, x^{2} y^{4} - x^{3} y^{2} + 2 \\, y^{5} + {\\left(2 \\, x^{4} - x\\right)} y^{3}\\right)}} + \\frac{w\\left(x, y\\right)}{2 \\, y} + \\frac{\\partial}{\\partial x}z\\left(x, y\\right)</script></html>"
      ],
      "text/latex": [
       "\\begin{math}\n",
       "\\newcommand{\\Bold}[1]{\\mathbf{#1}}\\frac{{\\left(x^{4} - 2 \\, {\\left(2 \\, x^{2} + x\\right)} y^{3} - 2 \\, {\\left(4 \\, x^{4} + x^{3}\\right)} y^{2} - 2 \\, {\\left(2 \\, x^{6} - x^{2}\\right)} y\\right)} \\frac{\\partial}{\\partial y}z\\left(x, y\\right)}{4 \\, {\\left(4 \\, x^{2} y^{4} - x^{3} y^{2} + 2 \\, y^{5} + {\\left(2 \\, x^{4} - x\\right)} y^{3}\\right)}} + \\frac{w\\left(x, y\\right)}{2 \\, y} + \\frac{\\partial}{\\partial x}z\\left(x, y\\right)\n",
       "\\end{math}"
      ],
      "text/plain": [
       "1/4*(x^4 - 2*(2*x^2 + x)*y^3 - 2*(4*x^4 + x^3)*y^2 - 2*(2*x^6 - x^2)*y)*diff(z(x, y), y)/(4*x^2*y^4 - x^3*y^2 + 2*y^5 + (2*x^4 - x)*y^3) + 1/2*w(x, y)/y + diff(z(x, y), x)"
      ]
     },
     "metadata": {},
     "output_type": "display_data"
    },
    {
     "data": {
      "text/html": [
       "<html><script type=\"math/tex; mode=display\">\\newcommand{\\Bold}[1]{\\mathbf{#1}}\\frac{{\\left(x^{3} + x y\\right)} w\\left(x, y\\right)}{2 \\, x^{2} y^{3} - x^{3} y + 2 \\, y^{4} - 2 \\, x y^{2}} + \\frac{2 \\, {\\left(2 \\, x^{2} y^{2} + 2 \\, y^{3} - x y\\right)} \\frac{\\partial}{\\partial x}z\\left(x, y\\right)}{2 \\, x^{2} y^{2} - x^{3} + 2 \\, y^{3} - 2 \\, x y} - \\frac{2 \\, {\\left(x^{4} + x^{2} y\\right)} \\frac{\\partial}{\\partial y}z\\left(x, y\\right)}{2 \\, x^{2} y^{2} - x^{3} + 2 \\, y^{3} - 2 \\, x y} + \\frac{\\partial}{\\partial y}w\\left(x, y\\right)</script></html>"
      ],
      "text/latex": [
       "\\begin{math}\n",
       "\\newcommand{\\Bold}[1]{\\mathbf{#1}}\\frac{{\\left(x^{3} + x y\\right)} w\\left(x, y\\right)}{2 \\, x^{2} y^{3} - x^{3} y + 2 \\, y^{4} - 2 \\, x y^{2}} + \\frac{2 \\, {\\left(2 \\, x^{2} y^{2} + 2 \\, y^{3} - x y\\right)} \\frac{\\partial}{\\partial x}z\\left(x, y\\right)}{2 \\, x^{2} y^{2} - x^{3} + 2 \\, y^{3} - 2 \\, x y} - \\frac{2 \\, {\\left(x^{4} + x^{2} y\\right)} \\frac{\\partial}{\\partial y}z\\left(x, y\\right)}{2 \\, x^{2} y^{2} - x^{3} + 2 \\, y^{3} - 2 \\, x y} + \\frac{\\partial}{\\partial y}w\\left(x, y\\right)\n",
       "\\end{math}"
      ],
      "text/plain": [
       "(x^3 + x*y)*w(x, y)/(2*x^2*y^3 - x^3*y + 2*y^4 - 2*x*y^2) + 2*(2*x^2*y^2 + 2*y^3 - x*y)*diff(z(x, y), x)/(2*x^2*y^2 - x^3 + 2*y^3 - 2*x*y) - 2*(x^4 + x^2*y)*diff(z(x, y), y)/(2*x^2*y^2 - x^3 + 2*y^3 - 2*x*y) + diff(w(x, y), y)"
      ]
     },
     "metadata": {},
     "output_type": "display_data"
    },
    {
     "data": {
      "text/html": [
       "<html><script type=\"math/tex; mode=display\">\\newcommand{\\Bold}[1]{\\mathbf{#1}}-\\frac{2 \\, {\\left(x^{2} + y\\right)} w\\left(x, y\\right)}{x y} + \\frac{2 \\, {\\left(x^{2} y^{2} + y^{3}\\right)} \\frac{\\partial}{\\partial y}w\\left(x, y\\right)}{x^{2}} + \\frac{4 \\, {\\left(x^{2} y^{2} + y^{3}\\right)} \\frac{\\partial}{\\partial x}z\\left(x, y\\right)}{x^{2}} + \\frac{\\partial^{2}}{(\\partial y)^{2}}z\\left(x, y\\right)</script></html>"
      ],
      "text/latex": [
       "\\begin{math}\n",
       "\\newcommand{\\Bold}[1]{\\mathbf{#1}}-\\frac{2 \\, {\\left(x^{2} + y\\right)} w\\left(x, y\\right)}{x y} + \\frac{2 \\, {\\left(x^{2} y^{2} + y^{3}\\right)} \\frac{\\partial}{\\partial y}w\\left(x, y\\right)}{x^{2}} + \\frac{4 \\, {\\left(x^{2} y^{2} + y^{3}\\right)} \\frac{\\partial}{\\partial x}z\\left(x, y\\right)}{x^{2}} + \\frac{\\partial^{2}}{(\\partial y)^{2}}z\\left(x, y\\right)\n",
       "\\end{math}"
      ],
      "text/plain": [
       "-2*(x^2 + y)*w(x, y)/(x*y) + 2*(x^2*y^2 + y^3)*diff(w(x, y), y)/x^2 + 4*(x^2*y^2 + y^3)*diff(z(x, y), x)/x^2 + diff(z(x, y), y, y)"
      ]
     },
     "metadata": {},
     "output_type": "display_data"
    },
    {
     "data": {
      "text/html": [
       "<html><script type=\"math/tex; mode=display\">\\newcommand{\\Bold}[1]{\\mathbf{#1}}\\frac{y \\frac{\\partial}{\\partial y}w\\left(x, y\\right)}{x} + \\frac{2 \\, y \\frac{\\partial}{\\partial x}z\\left(x, y\\right)}{x} + \\frac{\\partial^{2}}{\\partial x\\partial y}z\\left(x, y\\right)</script></html>"
      ],
      "text/latex": [
       "\\begin{math}\n",
       "\\newcommand{\\Bold}[1]{\\mathbf{#1}}\\frac{y \\frac{\\partial}{\\partial y}w\\left(x, y\\right)}{x} + \\frac{2 \\, y \\frac{\\partial}{\\partial x}z\\left(x, y\\right)}{x} + \\frac{\\partial^{2}}{\\partial x\\partial y}z\\left(x, y\\right)\n",
       "\\end{math}"
      ],
      "text/plain": [
       "y*diff(w(x, y), y)/x + 2*y*diff(z(x, y), x)/x + diff(z(x, y), x, y)"
      ]
     },
     "metadata": {},
     "output_type": "display_data"
    },
    {
     "data": {
      "text/html": [
       "<html><script type=\"math/tex; mode=display\">\\newcommand{\\Bold}[1]{\\mathbf{#1}}-\\frac{y \\frac{\\partial}{\\partial y}w\\left(x, y\\right)}{x} - \\frac{2 \\, y \\frac{\\partial}{\\partial x}z\\left(x, y\\right)}{x} - \\frac{{\\left(4 \\, x^{2} + 4 \\, y - 1\\right)} \\frac{\\partial^{2}}{\\partial x\\partial y}z\\left(x, y\\right)}{4 \\, {\\left(x^{2} + y\\right)}} + \\frac{{\\left(x - y\\right)} \\frac{\\partial}{\\partial x}w\\left(x, y\\right)}{2 \\, x y} + \\frac{\\partial^{2}}{(\\partial x)^{2}}z\\left(x, y\\right)</script></html>"
      ],
      "text/latex": [
       "\\begin{math}\n",
       "\\newcommand{\\Bold}[1]{\\mathbf{#1}}-\\frac{y \\frac{\\partial}{\\partial y}w\\left(x, y\\right)}{x} - \\frac{2 \\, y \\frac{\\partial}{\\partial x}z\\left(x, y\\right)}{x} - \\frac{{\\left(4 \\, x^{2} + 4 \\, y - 1\\right)} \\frac{\\partial^{2}}{\\partial x\\partial y}z\\left(x, y\\right)}{4 \\, {\\left(x^{2} + y\\right)}} + \\frac{{\\left(x - y\\right)} \\frac{\\partial}{\\partial x}w\\left(x, y\\right)}{2 \\, x y} + \\frac{\\partial^{2}}{(\\partial x)^{2}}z\\left(x, y\\right)\n",
       "\\end{math}"
      ],
      "text/plain": [
       "-y*diff(w(x, y), y)/x - 2*y*diff(z(x, y), x)/x - 1/4*(4*x^2 + 4*y - 1)*diff(z(x, y), x, y)/(x^2 + y) + 1/2*(x - y)*diff(w(x, y), x)/(x*y) + diff(z(x, y), x, x)"
      ]
     },
     "metadata": {},
     "output_type": "display_data"
    },
    {
     "name": "stdout",
     "output_type": "stream",
     "text": [
      "===================================================== 4\n",
      "--------------------------------------- entering reduce\n",
      "--------------------------------------- entering reduce\n",
      "no reduction\n",
      "--------------------------------------- entering reduce\n"
     ]
    },
    {
     "data": {
      "text/html": [
       "<html><script type=\"math/tex; mode=display\">\\newcommand{\\Bold}[1]{\\mathbf{#1}}\\frac{{\\left(x^{4} - 2 \\, {\\left(2 \\, x^{2} + x\\right)} y^{3} - 2 \\, {\\left(4 \\, x^{4} + x^{3}\\right)} y^{2} - 2 \\, {\\left(2 \\, x^{6} - x^{2}\\right)} y\\right)} \\frac{\\partial^{2}}{(\\partial y)^{2}}z\\left(x, y\\right)}{4 \\, {\\left(4 \\, x^{2} y^{4} - x^{3} y^{2} + 2 \\, y^{5} + {\\left(2 \\, x^{4} - x\\right)} y^{3}\\right)}} + \\frac{\\frac{\\partial}{\\partial y}w\\left(x, y\\right)}{2 \\, y} + \\frac{\\partial^{2}}{\\partial x\\partial y}z\\left(x, y\\right)</script></html>"
      ],
      "text/latex": [
       "\\begin{math}\n",
       "\\newcommand{\\Bold}[1]{\\mathbf{#1}}\\frac{{\\left(x^{4} - 2 \\, {\\left(2 \\, x^{2} + x\\right)} y^{3} - 2 \\, {\\left(4 \\, x^{4} + x^{3}\\right)} y^{2} - 2 \\, {\\left(2 \\, x^{6} - x^{2}\\right)} y\\right)} \\frac{\\partial^{2}}{(\\partial y)^{2}}z\\left(x, y\\right)}{4 \\, {\\left(4 \\, x^{2} y^{4} - x^{3} y^{2} + 2 \\, y^{5} + {\\left(2 \\, x^{4} - x\\right)} y^{3}\\right)}} + \\frac{\\frac{\\partial}{\\partial y}w\\left(x, y\\right)}{2 \\, y} + \\frac{\\partial^{2}}{\\partial x\\partial y}z\\left(x, y\\right)\n",
       "\\end{math}"
      ],
      "text/plain": [
       "1/4*(x^4 - 2*(2*x^2 + x)*y^3 - 2*(4*x^4 + x^3)*y^2 - 2*(2*x^6 - x^2)*y)*diff(z(x, y), y, y)/(4*x^2*y^4 - x^3*y^2 + 2*y^5 + (2*x^4 - x)*y^3) + 1/2*diff(w(x, y), y)/y + diff(z(x, y), x, y)"
      ]
     },
     "metadata": {},
     "output_type": "display_data"
    },
    {
     "name": "stdout",
     "output_type": "stream",
     "text": [
      "--------------------------------------- entering reduce\n"
     ]
    },
    {
     "data": {
      "text/html": [
       "<html><script type=\"math/tex; mode=display\">\\newcommand{\\Bold}[1]{\\mathbf{#1}}\\frac{{\\left(x^{4} - 2 \\, {\\left(2 \\, x^{2} + x\\right)} y^{3} - 2 \\, {\\left(4 \\, x^{4} + x^{3}\\right)} y^{2} - 2 \\, {\\left(2 \\, x^{6} - x^{2}\\right)} y\\right)} \\frac{\\partial^{2}}{\\partial x\\partial y}z\\left(x, y\\right)}{4 \\, {\\left(4 \\, x^{2} y^{4} - x^{3} y^{2} + 2 \\, y^{5} + {\\left(2 \\, x^{4} - x\\right)} y^{3}\\right)}} + \\frac{\\frac{\\partial}{\\partial x}w\\left(x, y\\right)}{2 \\, y} + \\frac{\\partial^{2}}{(\\partial x)^{2}}z\\left(x, y\\right)</script></html>"
      ],
      "text/latex": [
       "\\begin{math}\n",
       "\\newcommand{\\Bold}[1]{\\mathbf{#1}}\\frac{{\\left(x^{4} - 2 \\, {\\left(2 \\, x^{2} + x\\right)} y^{3} - 2 \\, {\\left(4 \\, x^{4} + x^{3}\\right)} y^{2} - 2 \\, {\\left(2 \\, x^{6} - x^{2}\\right)} y\\right)} \\frac{\\partial^{2}}{\\partial x\\partial y}z\\left(x, y\\right)}{4 \\, {\\left(4 \\, x^{2} y^{4} - x^{3} y^{2} + 2 \\, y^{5} + {\\left(2 \\, x^{4} - x\\right)} y^{3}\\right)}} + \\frac{\\frac{\\partial}{\\partial x}w\\left(x, y\\right)}{2 \\, y} + \\frac{\\partial^{2}}{(\\partial x)^{2}}z\\left(x, y\\right)\n",
       "\\end{math}"
      ],
      "text/plain": [
       "1/4*(x^4 - 2*(2*x^2 + x)*y^3 - 2*(4*x^4 + x^3)*y^2 - 2*(2*x^6 - x^2)*y)*diff(z(x, y), x, y)/(4*x^2*y^4 - x^3*y^2 + 2*y^5 + (2*x^4 - x)*y^3) + 1/2*diff(w(x, y), x)/y + diff(z(x, y), x, x)"
      ]
     },
     "metadata": {},
     "output_type": "display_data"
    },
    {
     "name": "stdout",
     "output_type": "stream",
     "text": [
      "This is the new System........\n"
     ]
    },
    {
     "data": {
      "text/html": [
       "<html><script type=\"math/tex; mode=display\">\\newcommand{\\Bold}[1]{\\mathbf{#1}}\\frac{{\\left(x^{4} - 2 \\, {\\left(2 \\, x^{2} + x\\right)} y^{3} - 2 \\, {\\left(4 \\, x^{4} + x^{3}\\right)} y^{2} - 2 \\, {\\left(2 \\, x^{6} - x^{2}\\right)} y\\right)} \\frac{\\partial}{\\partial y}z\\left(x, y\\right)}{4 \\, {\\left(4 \\, x^{2} y^{4} - x^{3} y^{2} + 2 \\, y^{5} + {\\left(2 \\, x^{4} - x\\right)} y^{3}\\right)}} + \\frac{w\\left(x, y\\right)}{2 \\, y} + \\frac{\\partial}{\\partial x}z\\left(x, y\\right)</script></html>"
      ],
      "text/latex": [
       "\\begin{math}\n",
       "\\newcommand{\\Bold}[1]{\\mathbf{#1}}\\frac{{\\left(x^{4} - 2 \\, {\\left(2 \\, x^{2} + x\\right)} y^{3} - 2 \\, {\\left(4 \\, x^{4} + x^{3}\\right)} y^{2} - 2 \\, {\\left(2 \\, x^{6} - x^{2}\\right)} y\\right)} \\frac{\\partial}{\\partial y}z\\left(x, y\\right)}{4 \\, {\\left(4 \\, x^{2} y^{4} - x^{3} y^{2} + 2 \\, y^{5} + {\\left(2 \\, x^{4} - x\\right)} y^{3}\\right)}} + \\frac{w\\left(x, y\\right)}{2 \\, y} + \\frac{\\partial}{\\partial x}z\\left(x, y\\right)\n",
       "\\end{math}"
      ],
      "text/plain": [
       "1/4*(x^4 - 2*(2*x^2 + x)*y^3 - 2*(4*x^4 + x^3)*y^2 - 2*(2*x^6 - x^2)*y)*diff(z(x, y), y)/(4*x^2*y^4 - x^3*y^2 + 2*y^5 + (2*x^4 - x)*y^3) + 1/2*w(x, y)/y + diff(z(x, y), x)"
      ]
     },
     "metadata": {},
     "output_type": "display_data"
    },
    {
     "data": {
      "text/html": [
       "<html><script type=\"math/tex; mode=display\">\\newcommand{\\Bold}[1]{\\mathbf{#1}}\\frac{{\\left(x^{3} + x y\\right)} w\\left(x, y\\right)}{2 \\, x^{2} y^{3} - x^{3} y + 2 \\, y^{4} - 2 \\, x y^{2}} + \\frac{2 \\, {\\left(2 \\, x^{2} y^{2} + 2 \\, y^{3} - x y\\right)} \\frac{\\partial}{\\partial x}z\\left(x, y\\right)}{2 \\, x^{2} y^{2} - x^{3} + 2 \\, y^{3} - 2 \\, x y} - \\frac{2 \\, {\\left(x^{4} + x^{2} y\\right)} \\frac{\\partial}{\\partial y}z\\left(x, y\\right)}{2 \\, x^{2} y^{2} - x^{3} + 2 \\, y^{3} - 2 \\, x y} + \\frac{\\partial}{\\partial y}w\\left(x, y\\right)</script></html>"
      ],
      "text/latex": [
       "\\begin{math}\n",
       "\\newcommand{\\Bold}[1]{\\mathbf{#1}}\\frac{{\\left(x^{3} + x y\\right)} w\\left(x, y\\right)}{2 \\, x^{2} y^{3} - x^{3} y + 2 \\, y^{4} - 2 \\, x y^{2}} + \\frac{2 \\, {\\left(2 \\, x^{2} y^{2} + 2 \\, y^{3} - x y\\right)} \\frac{\\partial}{\\partial x}z\\left(x, y\\right)}{2 \\, x^{2} y^{2} - x^{3} + 2 \\, y^{3} - 2 \\, x y} - \\frac{2 \\, {\\left(x^{4} + x^{2} y\\right)} \\frac{\\partial}{\\partial y}z\\left(x, y\\right)}{2 \\, x^{2} y^{2} - x^{3} + 2 \\, y^{3} - 2 \\, x y} + \\frac{\\partial}{\\partial y}w\\left(x, y\\right)\n",
       "\\end{math}"
      ],
      "text/plain": [
       "(x^3 + x*y)*w(x, y)/(2*x^2*y^3 - x^3*y + 2*y^4 - 2*x*y^2) + 2*(2*x^2*y^2 + 2*y^3 - x*y)*diff(z(x, y), x)/(2*x^2*y^2 - x^3 + 2*y^3 - 2*x*y) - 2*(x^4 + x^2*y)*diff(z(x, y), y)/(2*x^2*y^2 - x^3 + 2*y^3 - 2*x*y) + diff(w(x, y), y)"
      ]
     },
     "metadata": {},
     "output_type": "display_data"
    },
    {
     "data": {
      "text/html": [
       "<html><script type=\"math/tex; mode=display\">\\newcommand{\\Bold}[1]{\\mathbf{#1}}-\\frac{2 \\, {\\left(8 \\, x^{2} y^{5} - 6 \\, x^{3} y^{3} + 4 \\, y^{6} + x^{4} y + 4 \\, {\\left(x^{4} - x\\right)} y^{4} - {\\left(2 \\, x^{5} - x^{2}\\right)} y^{2}\\right)} \\frac{\\partial}{\\partial y}w\\left(x, y\\right)}{x^{5} - 2 \\, {\\left(2 \\, x^{3} + x^{2}\\right)} y^{3} - 2 \\, {\\left(4 \\, x^{5} + x^{4}\\right)} y^{2} - 2 \\, {\\left(2 \\, x^{7} - x^{3}\\right)} y} - \\frac{8 \\, {\\left(4 \\, x^{2} y^{5} - x^{3} y^{3} + 2 \\, y^{6} + {\\left(2 \\, x^{4} - x\\right)} y^{4}\\right)} \\frac{\\partial}{\\partial x}z\\left(x, y\\right)}{x^{5} - 2 \\, {\\left(2 \\, x^{3} + x^{2}\\right)} y^{3} - 2 \\, {\\left(4 \\, x^{5} + x^{4}\\right)} y^{2} - 2 \\, {\\left(2 \\, x^{7} - x^{3}\\right)} y} + \\frac{\\partial^{2}}{(\\partial y)^{2}}z\\left(x, y\\right)</script></html>"
      ],
      "text/latex": [
       "\\begin{math}\n",
       "\\newcommand{\\Bold}[1]{\\mathbf{#1}}-\\frac{2 \\, {\\left(8 \\, x^{2} y^{5} - 6 \\, x^{3} y^{3} + 4 \\, y^{6} + x^{4} y + 4 \\, {\\left(x^{4} - x\\right)} y^{4} - {\\left(2 \\, x^{5} - x^{2}\\right)} y^{2}\\right)} \\frac{\\partial}{\\partial y}w\\left(x, y\\right)}{x^{5} - 2 \\, {\\left(2 \\, x^{3} + x^{2}\\right)} y^{3} - 2 \\, {\\left(4 \\, x^{5} + x^{4}\\right)} y^{2} - 2 \\, {\\left(2 \\, x^{7} - x^{3}\\right)} y} - \\frac{8 \\, {\\left(4 \\, x^{2} y^{5} - x^{3} y^{3} + 2 \\, y^{6} + {\\left(2 \\, x^{4} - x\\right)} y^{4}\\right)} \\frac{\\partial}{\\partial x}z\\left(x, y\\right)}{x^{5} - 2 \\, {\\left(2 \\, x^{3} + x^{2}\\right)} y^{3} - 2 \\, {\\left(4 \\, x^{5} + x^{4}\\right)} y^{2} - 2 \\, {\\left(2 \\, x^{7} - x^{3}\\right)} y} + \\frac{\\partial^{2}}{(\\partial y)^{2}}z\\left(x, y\\right)\n",
       "\\end{math}"
      ],
      "text/plain": [
       "-2*(8*x^2*y^5 - 6*x^3*y^3 + 4*y^6 + x^4*y + 4*(x^4 - x)*y^4 - (2*x^5 - x^2)*y^2)*diff(w(x, y), y)/(x^5 - 2*(2*x^3 + x^2)*y^3 - 2*(4*x^5 + x^4)*y^2 - 2*(2*x^7 - x^3)*y) - 8*(4*x^2*y^5 - x^3*y^3 + 2*y^6 + (2*x^4 - x)*y^4)*diff(z(x, y), x)/(x^5 - 2*(2*x^3 + x^2)*y^3 - 2*(4*x^5 + x^4)*y^2 - 2*(2*x^7 - x^3)*y) + diff(z(x, y), y, y)"
      ]
     },
     "metadata": {},
     "output_type": "display_data"
    },
    {
     "data": {
      "text/html": [
       "<html><script type=\"math/tex; mode=display\">\\newcommand{\\Bold}[1]{\\mathbf{#1}}-\\frac{2 \\, {\\left(x^{2} + y\\right)} w\\left(x, y\\right)}{x y} + \\frac{2 \\, {\\left(x^{2} y^{2} + y^{3}\\right)} \\frac{\\partial}{\\partial y}w\\left(x, y\\right)}{x^{2}} + \\frac{4 \\, {\\left(x^{2} y^{2} + y^{3}\\right)} \\frac{\\partial}{\\partial x}z\\left(x, y\\right)}{x^{2}} + \\frac{\\partial^{2}}{(\\partial y)^{2}}z\\left(x, y\\right)</script></html>"
      ],
      "text/latex": [
       "\\begin{math}\n",
       "\\newcommand{\\Bold}[1]{\\mathbf{#1}}-\\frac{2 \\, {\\left(x^{2} + y\\right)} w\\left(x, y\\right)}{x y} + \\frac{2 \\, {\\left(x^{2} y^{2} + y^{3}\\right)} \\frac{\\partial}{\\partial y}w\\left(x, y\\right)}{x^{2}} + \\frac{4 \\, {\\left(x^{2} y^{2} + y^{3}\\right)} \\frac{\\partial}{\\partial x}z\\left(x, y\\right)}{x^{2}} + \\frac{\\partial^{2}}{(\\partial y)^{2}}z\\left(x, y\\right)\n",
       "\\end{math}"
      ],
      "text/plain": [
       "-2*(x^2 + y)*w(x, y)/(x*y) + 2*(x^2*y^2 + y^3)*diff(w(x, y), y)/x^2 + 4*(x^2*y^2 + y^3)*diff(z(x, y), x)/x^2 + diff(z(x, y), y, y)"
      ]
     },
     "metadata": {},
     "output_type": "display_data"
    },
    {
     "data": {
      "text/html": [
       "<html><script type=\"math/tex; mode=display\">\\newcommand{\\Bold}[1]{\\mathbf{#1}}\\frac{2 \\, {\\left(4 \\, x^{2} y^{4} - x^{3} y^{2} + 2 \\, y^{5} + {\\left(2 \\, x^{4} - x\\right)} y^{3}\\right)} \\frac{\\partial}{\\partial x}w\\left(x, y\\right)}{8 \\, x y^{5} + x^{5} + 2 \\, {\\left(8 \\, x^{3} - x\\right)} y^{4} + 2 \\, {\\left(4 \\, x^{5} - 3 \\, x^{3} - 3 \\, x^{2}\\right)} y^{3} - {\\left(8 \\, x^{5} + 6 \\, x^{4} - x^{2}\\right)} y^{2} - 2 \\, {\\left(2 \\, x^{7} - x^{3}\\right)} y} + \\frac{4 \\, {\\left(4 \\, x^{2} y^{5} - x^{3} y^{3} + 2 \\, y^{6} + {\\left(2 \\, x^{4} - x\\right)} y^{4}\\right)} \\frac{\\partial}{\\partial y}w\\left(x, y\\right)}{8 \\, x y^{5} + x^{5} + 2 \\, {\\left(8 \\, x^{3} - x\\right)} y^{4} + 2 \\, {\\left(4 \\, x^{5} - 3 \\, x^{3} - 3 \\, x^{2}\\right)} y^{3} - {\\left(8 \\, x^{5} + 6 \\, x^{4} - x^{2}\\right)} y^{2} - 2 \\, {\\left(2 \\, x^{7} - x^{3}\\right)} y} + \\frac{8 \\, {\\left(4 \\, x^{2} y^{5} - x^{3} y^{3} + 2 \\, y^{6} + {\\left(2 \\, x^{4} - x\\right)} y^{4}\\right)} \\frac{\\partial}{\\partial x}z\\left(x, y\\right)}{8 \\, x y^{5} + x^{5} + 2 \\, {\\left(8 \\, x^{3} - x\\right)} y^{4} + 2 \\, {\\left(4 \\, x^{5} - 3 \\, x^{3} - 3 \\, x^{2}\\right)} y^{3} - {\\left(8 \\, x^{5} + 6 \\, x^{4} - x^{2}\\right)} y^{2} - 2 \\, {\\left(2 \\, x^{7} - x^{3}\\right)} y} + \\frac{\\partial^{2}}{\\partial x\\partial y}z\\left(x, y\\right)</script></html>"
      ],
      "text/latex": [
       "\\begin{math}\n",
       "\\newcommand{\\Bold}[1]{\\mathbf{#1}}\\frac{2 \\, {\\left(4 \\, x^{2} y^{4} - x^{3} y^{2} + 2 \\, y^{5} + {\\left(2 \\, x^{4} - x\\right)} y^{3}\\right)} \\frac{\\partial}{\\partial x}w\\left(x, y\\right)}{8 \\, x y^{5} + x^{5} + 2 \\, {\\left(8 \\, x^{3} - x\\right)} y^{4} + 2 \\, {\\left(4 \\, x^{5} - 3 \\, x^{3} - 3 \\, x^{2}\\right)} y^{3} - {\\left(8 \\, x^{5} + 6 \\, x^{4} - x^{2}\\right)} y^{2} - 2 \\, {\\left(2 \\, x^{7} - x^{3}\\right)} y} + \\frac{4 \\, {\\left(4 \\, x^{2} y^{5} - x^{3} y^{3} + 2 \\, y^{6} + {\\left(2 \\, x^{4} - x\\right)} y^{4}\\right)} \\frac{\\partial}{\\partial y}w\\left(x, y\\right)}{8 \\, x y^{5} + x^{5} + 2 \\, {\\left(8 \\, x^{3} - x\\right)} y^{4} + 2 \\, {\\left(4 \\, x^{5} - 3 \\, x^{3} - 3 \\, x^{2}\\right)} y^{3} - {\\left(8 \\, x^{5} + 6 \\, x^{4} - x^{2}\\right)} y^{2} - 2 \\, {\\left(2 \\, x^{7} - x^{3}\\right)} y} + \\frac{8 \\, {\\left(4 \\, x^{2} y^{5} - x^{3} y^{3} + 2 \\, y^{6} + {\\left(2 \\, x^{4} - x\\right)} y^{4}\\right)} \\frac{\\partial}{\\partial x}z\\left(x, y\\right)}{8 \\, x y^{5} + x^{5} + 2 \\, {\\left(8 \\, x^{3} - x\\right)} y^{4} + 2 \\, {\\left(4 \\, x^{5} - 3 \\, x^{3} - 3 \\, x^{2}\\right)} y^{3} - {\\left(8 \\, x^{5} + 6 \\, x^{4} - x^{2}\\right)} y^{2} - 2 \\, {\\left(2 \\, x^{7} - x^{3}\\right)} y} + \\frac{\\partial^{2}}{\\partial x\\partial y}z\\left(x, y\\right)\n",
       "\\end{math}"
      ],
      "text/plain": [
       "2*(4*x^2*y^4 - x^3*y^2 + 2*y^5 + (2*x^4 - x)*y^3)*diff(w(x, y), x)/(8*x*y^5 + x^5 + 2*(8*x^3 - x)*y^4 + 2*(4*x^5 - 3*x^3 - 3*x^2)*y^3 - (8*x^5 + 6*x^4 - x^2)*y^2 - 2*(2*x^7 - x^3)*y) + 4*(4*x^2*y^5 - x^3*y^3 + 2*y^6 + (2*x^4 - x)*y^4)*diff(w(x, y), y)/(8*x*y^5 + x^5 + 2*(8*x^3 - x)*y^4 + 2*(4*x^5 - 3*x^3 - 3*x^2)*y^3 - (8*x^5 + 6*x^4 - x^2)*y^2 - 2*(2*x^7 - x^3)*y) + 8*(4*x^2*y^5 - x^3*y^3 + 2*y^6 + (2*x^4 - x)*y^4)*diff(z(x, y), x)/(8*x*y^5 + x^5 + 2*(8*x^3 - x)*y^4 + 2*(4*x^5 - 3*x^3 - 3*x^2)*y^3 - (8*x^5 + 6*x^4 - x^2)*y^2 - 2*(2*x^7 - x^3)*y) + diff(z(x, y), x, y)"
      ]
     },
     "metadata": {},
     "output_type": "display_data"
    },
    {
     "name": "stdout",
     "output_type": "stream",
     "text": [
      "===================================================== 4\n",
      "--------------------------------------- entering reduce\n",
      "--------------------------------------- entering reduce\n",
      "no reduction\n",
      "--------------------------------------- entering reduce\n",
      "no reduction\n",
      "--------------------------------------- entering reduce\n"
     ]
    },
    {
     "data": {
      "text/html": [
       "<html><script type=\"math/tex; mode=display\">\\newcommand{\\Bold}[1]{\\mathbf{#1}}\\frac{{\\left(x^{4} - 2 \\, {\\left(2 \\, x^{2} + x\\right)} y^{3} - 2 \\, {\\left(4 \\, x^{4} + x^{3}\\right)} y^{2} - 2 \\, {\\left(2 \\, x^{6} - x^{2}\\right)} y\\right)} \\frac{\\partial^{2}}{(\\partial y)^{2}}z\\left(x, y\\right)}{4 \\, {\\left(4 \\, x^{2} y^{4} - x^{3} y^{2} + 2 \\, y^{5} + {\\left(2 \\, x^{4} - x\\right)} y^{3}\\right)}} + \\frac{\\frac{\\partial}{\\partial y}w\\left(x, y\\right)}{2 \\, y} + \\frac{\\partial^{2}}{\\partial x\\partial y}z\\left(x, y\\right)</script></html>"
      ],
      "text/latex": [
       "\\begin{math}\n",
       "\\newcommand{\\Bold}[1]{\\mathbf{#1}}\\frac{{\\left(x^{4} - 2 \\, {\\left(2 \\, x^{2} + x\\right)} y^{3} - 2 \\, {\\left(4 \\, x^{4} + x^{3}\\right)} y^{2} - 2 \\, {\\left(2 \\, x^{6} - x^{2}\\right)} y\\right)} \\frac{\\partial^{2}}{(\\partial y)^{2}}z\\left(x, y\\right)}{4 \\, {\\left(4 \\, x^{2} y^{4} - x^{3} y^{2} + 2 \\, y^{5} + {\\left(2 \\, x^{4} - x\\right)} y^{3}\\right)}} + \\frac{\\frac{\\partial}{\\partial y}w\\left(x, y\\right)}{2 \\, y} + \\frac{\\partial^{2}}{\\partial x\\partial y}z\\left(x, y\\right)\n",
       "\\end{math}"
      ],
      "text/plain": [
       "1/4*(x^4 - 2*(2*x^2 + x)*y^3 - 2*(4*x^4 + x^3)*y^2 - 2*(2*x^6 - x^2)*y)*diff(z(x, y), y, y)/(4*x^2*y^4 - x^3*y^2 + 2*y^5 + (2*x^4 - x)*y^3) + 1/2*diff(w(x, y), y)/y + diff(z(x, y), x, y)"
      ]
     },
     "metadata": {},
     "output_type": "display_data"
    },
    {
     "name": "stdout",
     "output_type": "stream",
     "text": [
      "This is the new System........\n"
     ]
    },
    {
     "data": {
      "text/html": [
       "<html><script type=\"math/tex; mode=display\">\\newcommand{\\Bold}[1]{\\mathbf{#1}}\\frac{{\\left(x^{4} - 2 \\, {\\left(2 \\, x^{2} + x\\right)} y^{3} - 2 \\, {\\left(4 \\, x^{4} + x^{3}\\right)} y^{2} - 2 \\, {\\left(2 \\, x^{6} - x^{2}\\right)} y\\right)} \\frac{\\partial}{\\partial y}z\\left(x, y\\right)}{4 \\, {\\left(4 \\, x^{2} y^{4} - x^{3} y^{2} + 2 \\, y^{5} + {\\left(2 \\, x^{4} - x\\right)} y^{3}\\right)}} + \\frac{w\\left(x, y\\right)}{2 \\, y} + \\frac{\\partial}{\\partial x}z\\left(x, y\\right)</script></html>"
      ],
      "text/latex": [
       "\\begin{math}\n",
       "\\newcommand{\\Bold}[1]{\\mathbf{#1}}\\frac{{\\left(x^{4} - 2 \\, {\\left(2 \\, x^{2} + x\\right)} y^{3} - 2 \\, {\\left(4 \\, x^{4} + x^{3}\\right)} y^{2} - 2 \\, {\\left(2 \\, x^{6} - x^{2}\\right)} y\\right)} \\frac{\\partial}{\\partial y}z\\left(x, y\\right)}{4 \\, {\\left(4 \\, x^{2} y^{4} - x^{3} y^{2} + 2 \\, y^{5} + {\\left(2 \\, x^{4} - x\\right)} y^{3}\\right)}} + \\frac{w\\left(x, y\\right)}{2 \\, y} + \\frac{\\partial}{\\partial x}z\\left(x, y\\right)\n",
       "\\end{math}"
      ],
      "text/plain": [
       "1/4*(x^4 - 2*(2*x^2 + x)*y^3 - 2*(4*x^4 + x^3)*y^2 - 2*(2*x^6 - x^2)*y)*diff(z(x, y), y)/(4*x^2*y^4 - x^3*y^2 + 2*y^5 + (2*x^4 - x)*y^3) + 1/2*w(x, y)/y + diff(z(x, y), x)"
      ]
     },
     "metadata": {},
     "output_type": "display_data"
    },
    {
     "data": {
      "text/html": [
       "<html><script type=\"math/tex; mode=display\">\\newcommand{\\Bold}[1]{\\mathbf{#1}}\\frac{{\\left(x^{3} + x y\\right)} w\\left(x, y\\right)}{2 \\, x^{2} y^{3} - x^{3} y + 2 \\, y^{4} - 2 \\, x y^{2}} + \\frac{2 \\, {\\left(2 \\, x^{2} y^{2} + 2 \\, y^{3} - x y\\right)} \\frac{\\partial}{\\partial x}z\\left(x, y\\right)}{2 \\, x^{2} y^{2} - x^{3} + 2 \\, y^{3} - 2 \\, x y} - \\frac{2 \\, {\\left(x^{4} + x^{2} y\\right)} \\frac{\\partial}{\\partial y}z\\left(x, y\\right)}{2 \\, x^{2} y^{2} - x^{3} + 2 \\, y^{3} - 2 \\, x y} + \\frac{\\partial}{\\partial y}w\\left(x, y\\right)</script></html>"
      ],
      "text/latex": [
       "\\begin{math}\n",
       "\\newcommand{\\Bold}[1]{\\mathbf{#1}}\\frac{{\\left(x^{3} + x y\\right)} w\\left(x, y\\right)}{2 \\, x^{2} y^{3} - x^{3} y + 2 \\, y^{4} - 2 \\, x y^{2}} + \\frac{2 \\, {\\left(2 \\, x^{2} y^{2} + 2 \\, y^{3} - x y\\right)} \\frac{\\partial}{\\partial x}z\\left(x, y\\right)}{2 \\, x^{2} y^{2} - x^{3} + 2 \\, y^{3} - 2 \\, x y} - \\frac{2 \\, {\\left(x^{4} + x^{2} y\\right)} \\frac{\\partial}{\\partial y}z\\left(x, y\\right)}{2 \\, x^{2} y^{2} - x^{3} + 2 \\, y^{3} - 2 \\, x y} + \\frac{\\partial}{\\partial y}w\\left(x, y\\right)\n",
       "\\end{math}"
      ],
      "text/plain": [
       "(x^3 + x*y)*w(x, y)/(2*x^2*y^3 - x^3*y + 2*y^4 - 2*x*y^2) + 2*(2*x^2*y^2 + 2*y^3 - x*y)*diff(z(x, y), x)/(2*x^2*y^2 - x^3 + 2*y^3 - 2*x*y) - 2*(x^4 + x^2*y)*diff(z(x, y), y)/(2*x^2*y^2 - x^3 + 2*y^3 - 2*x*y) + diff(w(x, y), y)"
      ]
     },
     "metadata": {},
     "output_type": "display_data"
    },
    {
     "data": {
      "text/html": [
       "<html><script type=\"math/tex; mode=display\">\\newcommand{\\Bold}[1]{\\mathbf{#1}}-\\frac{8 \\, {\\left(16 \\, x^{2} y^{9} + x^{6} y^{4} + 4 \\, y^{10} + 4 \\, {\\left(6 \\, x^{4} - x\\right)} y^{8} + 4 \\, {\\left(4 \\, x^{6} - 3 \\, x^{3}\\right)} y^{7} + {\\left(4 \\, x^{8} - 12 \\, x^{5} + x^{2}\\right)} y^{6} - 2 \\, {\\left(2 \\, x^{7} - x^{4}\\right)} y^{5}\\right)} \\frac{\\partial}{\\partial x}w\\left(x, y\\right)}{x^{9} - 16 \\, {\\left(2 \\, x^{3} + x^{2}\\right)} y^{8} - 4 \\, {\\left(32 \\, x^{5} + 12 \\, x^{4} - 2 \\, x^{3} - x^{2}\\right)} y^{7} - 4 \\, {\\left(48 \\, x^{7} + 12 \\, x^{6} - 10 \\, x^{5} - 10 \\, x^{4} - 7 \\, x^{3}\\right)} y^{6} - 2 \\, {\\left(64 \\, x^{9} + 8 \\, x^{8} - 44 \\, x^{7} - 50 \\, x^{6} - 32 \\, x^{5} + 2 \\, x^{4} + 3 \\, x^{3}\\right)} y^{5} - 4 \\, {\\left(8 \\, x^{11} - 26 \\, x^{9} - 24 \\, x^{8} - 11 \\, x^{7} + 2 \\, x^{6} + 6 \\, x^{5} + 4 \\, x^{4}\\right)} y^{4} + 2 \\, {\\left(32 \\, x^{11} + 16 \\, x^{10} + 4 \\, x^{9} - 2 \\, x^{8} - 21 \\, x^{7} - 12 \\, x^{6} + x^{4}\\right)} y^{3} + {\\left(16 \\, x^{13} - 32 \\, x^{9} - 8 \\, x^{8} + x^{6} + 4 \\, x^{5}\\right)} y^{2} - 4 \\, {\\left(2 \\, x^{11} - x^{7}\\right)} y} - \\frac{2 \\, {\\left(128 \\, x^{2} y^{10} + 32 \\, y^{11} + 48 \\, {\\left(4 \\, x^{4} - x\\right)} y^{9} + x^{8} y + 4 \\, {\\left(32 \\, x^{6} - 40 \\, x^{3} + x\\right)} y^{8} + 4 \\, {\\left(8 \\, x^{8} - 48 \\, x^{5} + 5 \\, x^{3} + 7 \\, x^{2}\\right)} y^{7} - 4 \\, {\\left(24 \\, x^{7} - 11 \\, x^{5} - 19 \\, x^{4} + x^{2}\\right)} y^{6} - 2 \\, {\\left(8 \\, x^{9} - 26 \\, x^{7} - 34 \\, x^{6} + 6 \\, x^{4} + 5 \\, x^{3}\\right)} y^{5} + {\\left(32 \\, x^{9} + 20 \\, x^{8} - 16 \\, x^{6} - 22 \\, x^{5} + x^{3}\\right)} y^{4} + {\\left(8 \\, x^{11} - 12 \\, x^{8} - 14 \\, x^{7} + x^{5} + 2 \\, x^{4}\\right)} y^{3} - {\\left(4 \\, x^{10} + 2 \\, x^{9} - 3 \\, x^{6}\\right)} y^{2}\\right)} \\frac{\\partial}{\\partial y}w\\left(x, y\\right)}{x^{9} - 16 \\, {\\left(2 \\, x^{3} + x^{2}\\right)} y^{8} - 4 \\, {\\left(32 \\, x^{5} + 12 \\, x^{4} - 2 \\, x^{3} - x^{2}\\right)} y^{7} - 4 \\, {\\left(48 \\, x^{7} + 12 \\, x^{6} - 10 \\, x^{5} - 10 \\, x^{4} - 7 \\, x^{3}\\right)} y^{6} - 2 \\, {\\left(64 \\, x^{9} + 8 \\, x^{8} - 44 \\, x^{7} - 50 \\, x^{6} - 32 \\, x^{5} + 2 \\, x^{4} + 3 \\, x^{3}\\right)} y^{5} - 4 \\, {\\left(8 \\, x^{11} - 26 \\, x^{9} - 24 \\, x^{8} - 11 \\, x^{7} + 2 \\, x^{6} + 6 \\, x^{5} + 4 \\, x^{4}\\right)} y^{4} + 2 \\, {\\left(32 \\, x^{11} + 16 \\, x^{10} + 4 \\, x^{9} - 2 \\, x^{8} - 21 \\, x^{7} - 12 \\, x^{6} + x^{4}\\right)} y^{3} + {\\left(16 \\, x^{13} - 32 \\, x^{9} - 8 \\, x^{8} + x^{6} + 4 \\, x^{5}\\right)} y^{2} - 4 \\, {\\left(2 \\, x^{11} - x^{7}\\right)} y} - \\frac{32 \\, {\\left(16 \\, x^{2} y^{10} + x^{6} y^{5} + 4 \\, y^{11} + 4 \\, {\\left(6 \\, x^{4} - x\\right)} y^{9} + 4 \\, {\\left(4 \\, x^{6} - 3 \\, x^{3}\\right)} y^{8} + {\\left(4 \\, x^{8} - 12 \\, x^{5} + x^{2}\\right)} y^{7} - 2 \\, {\\left(2 \\, x^{7} - x^{4}\\right)} y^{6}\\right)} \\frac{\\partial}{\\partial x}z\\left(x, y\\right)}{x^{9} - 16 \\, {\\left(2 \\, x^{3} + x^{2}\\right)} y^{8} - 4 \\, {\\left(32 \\, x^{5} + 12 \\, x^{4} - 2 \\, x^{3} - x^{2}\\right)} y^{7} - 4 \\, {\\left(48 \\, x^{7} + 12 \\, x^{6} - 10 \\, x^{5} - 10 \\, x^{4} - 7 \\, x^{3}\\right)} y^{6} - 2 \\, {\\left(64 \\, x^{9} + 8 \\, x^{8} - 44 \\, x^{7} - 50 \\, x^{6} - 32 \\, x^{5} + 2 \\, x^{4} + 3 \\, x^{3}\\right)} y^{5} - 4 \\, {\\left(8 \\, x^{11} - 26 \\, x^{9} - 24 \\, x^{8} - 11 \\, x^{7} + 2 \\, x^{6} + 6 \\, x^{5} + 4 \\, x^{4}\\right)} y^{4} + 2 \\, {\\left(32 \\, x^{11} + 16 \\, x^{10} + 4 \\, x^{9} - 2 \\, x^{8} - 21 \\, x^{7} - 12 \\, x^{6} + x^{4}\\right)} y^{3} + {\\left(16 \\, x^{13} - 32 \\, x^{9} - 8 \\, x^{8} + x^{6} + 4 \\, x^{5}\\right)} y^{2} - 4 \\, {\\left(2 \\, x^{11} - x^{7}\\right)} y} + \\frac{\\partial^{2}}{(\\partial y)^{2}}z\\left(x, y\\right)</script></html>"
      ],
      "text/latex": [
       "\\begin{math}\n",
       "\\newcommand{\\Bold}[1]{\\mathbf{#1}}-\\frac{8 \\, {\\left(16 \\, x^{2} y^{9} + x^{6} y^{4} + 4 \\, y^{10} + 4 \\, {\\left(6 \\, x^{4} - x\\right)} y^{8} + 4 \\, {\\left(4 \\, x^{6} - 3 \\, x^{3}\\right)} y^{7} + {\\left(4 \\, x^{8} - 12 \\, x^{5} + x^{2}\\right)} y^{6} - 2 \\, {\\left(2 \\, x^{7} - x^{4}\\right)} y^{5}\\right)} \\frac{\\partial}{\\partial x}w\\left(x, y\\right)}{x^{9} - 16 \\, {\\left(2 \\, x^{3} + x^{2}\\right)} y^{8} - 4 \\, {\\left(32 \\, x^{5} + 12 \\, x^{4} - 2 \\, x^{3} - x^{2}\\right)} y^{7} - 4 \\, {\\left(48 \\, x^{7} + 12 \\, x^{6} - 10 \\, x^{5} - 10 \\, x^{4} - 7 \\, x^{3}\\right)} y^{6} - 2 \\, {\\left(64 \\, x^{9} + 8 \\, x^{8} - 44 \\, x^{7} - 50 \\, x^{6} - 32 \\, x^{5} + 2 \\, x^{4} + 3 \\, x^{3}\\right)} y^{5} - 4 \\, {\\left(8 \\, x^{11} - 26 \\, x^{9} - 24 \\, x^{8} - 11 \\, x^{7} + 2 \\, x^{6} + 6 \\, x^{5} + 4 \\, x^{4}\\right)} y^{4} + 2 \\, {\\left(32 \\, x^{11} + 16 \\, x^{10} + 4 \\, x^{9} - 2 \\, x^{8} - 21 \\, x^{7} - 12 \\, x^{6} + x^{4}\\right)} y^{3} + {\\left(16 \\, x^{13} - 32 \\, x^{9} - 8 \\, x^{8} + x^{6} + 4 \\, x^{5}\\right)} y^{2} - 4 \\, {\\left(2 \\, x^{11} - x^{7}\\right)} y} - \\frac{2 \\, {\\left(128 \\, x^{2} y^{10} + 32 \\, y^{11} + 48 \\, {\\left(4 \\, x^{4} - x\\right)} y^{9} + x^{8} y + 4 \\, {\\left(32 \\, x^{6} - 40 \\, x^{3} + x\\right)} y^{8} + 4 \\, {\\left(8 \\, x^{8} - 48 \\, x^{5} + 5 \\, x^{3} + 7 \\, x^{2}\\right)} y^{7} - 4 \\, {\\left(24 \\, x^{7} - 11 \\, x^{5} - 19 \\, x^{4} + x^{2}\\right)} y^{6} - 2 \\, {\\left(8 \\, x^{9} - 26 \\, x^{7} - 34 \\, x^{6} + 6 \\, x^{4} + 5 \\, x^{3}\\right)} y^{5} + {\\left(32 \\, x^{9} + 20 \\, x^{8} - 16 \\, x^{6} - 22 \\, x^{5} + x^{3}\\right)} y^{4} + {\\left(8 \\, x^{11} - 12 \\, x^{8} - 14 \\, x^{7} + x^{5} + 2 \\, x^{4}\\right)} y^{3} - {\\left(4 \\, x^{10} + 2 \\, x^{9} - 3 \\, x^{6}\\right)} y^{2}\\right)} \\frac{\\partial}{\\partial y}w\\left(x, y\\right)}{x^{9} - 16 \\, {\\left(2 \\, x^{3} + x^{2}\\right)} y^{8} - 4 \\, {\\left(32 \\, x^{5} + 12 \\, x^{4} - 2 \\, x^{3} - x^{2}\\right)} y^{7} - 4 \\, {\\left(48 \\, x^{7} + 12 \\, x^{6} - 10 \\, x^{5} - 10 \\, x^{4} - 7 \\, x^{3}\\right)} y^{6} - 2 \\, {\\left(64 \\, x^{9} + 8 \\, x^{8} - 44 \\, x^{7} - 50 \\, x^{6} - 32 \\, x^{5} + 2 \\, x^{4} + 3 \\, x^{3}\\right)} y^{5} - 4 \\, {\\left(8 \\, x^{11} - 26 \\, x^{9} - 24 \\, x^{8} - 11 \\, x^{7} + 2 \\, x^{6} + 6 \\, x^{5} + 4 \\, x^{4}\\right)} y^{4} + 2 \\, {\\left(32 \\, x^{11} + 16 \\, x^{10} + 4 \\, x^{9} - 2 \\, x^{8} - 21 \\, x^{7} - 12 \\, x^{6} + x^{4}\\right)} y^{3} + {\\left(16 \\, x^{13} - 32 \\, x^{9} - 8 \\, x^{8} + x^{6} + 4 \\, x^{5}\\right)} y^{2} - 4 \\, {\\left(2 \\, x^{11} - x^{7}\\right)} y} - \\frac{32 \\, {\\left(16 \\, x^{2} y^{10} + x^{6} y^{5} + 4 \\, y^{11} + 4 \\, {\\left(6 \\, x^{4} - x\\right)} y^{9} + 4 \\, {\\left(4 \\, x^{6} - 3 \\, x^{3}\\right)} y^{8} + {\\left(4 \\, x^{8} - 12 \\, x^{5} + x^{2}\\right)} y^{7} - 2 \\, {\\left(2 \\, x^{7} - x^{4}\\right)} y^{6}\\right)} \\frac{\\partial}{\\partial x}z\\left(x, y\\right)}{x^{9} - 16 \\, {\\left(2 \\, x^{3} + x^{2}\\right)} y^{8} - 4 \\, {\\left(32 \\, x^{5} + 12 \\, x^{4} - 2 \\, x^{3} - x^{2}\\right)} y^{7} - 4 \\, {\\left(48 \\, x^{7} + 12 \\, x^{6} - 10 \\, x^{5} - 10 \\, x^{4} - 7 \\, x^{3}\\right)} y^{6} - 2 \\, {\\left(64 \\, x^{9} + 8 \\, x^{8} - 44 \\, x^{7} - 50 \\, x^{6} - 32 \\, x^{5} + 2 \\, x^{4} + 3 \\, x^{3}\\right)} y^{5} - 4 \\, {\\left(8 \\, x^{11} - 26 \\, x^{9} - 24 \\, x^{8} - 11 \\, x^{7} + 2 \\, x^{6} + 6 \\, x^{5} + 4 \\, x^{4}\\right)} y^{4} + 2 \\, {\\left(32 \\, x^{11} + 16 \\, x^{10} + 4 \\, x^{9} - 2 \\, x^{8} - 21 \\, x^{7} - 12 \\, x^{6} + x^{4}\\right)} y^{3} + {\\left(16 \\, x^{13} - 32 \\, x^{9} - 8 \\, x^{8} + x^{6} + 4 \\, x^{5}\\right)} y^{2} - 4 \\, {\\left(2 \\, x^{11} - x^{7}\\right)} y} + \\frac{\\partial^{2}}{(\\partial y)^{2}}z\\left(x, y\\right)\n",
       "\\end{math}"
      ],
      "text/plain": [
       "-8*(16*x^2*y^9 + x^6*y^4 + 4*y^10 + 4*(6*x^4 - x)*y^8 + 4*(4*x^6 - 3*x^3)*y^7 + (4*x^8 - 12*x^5 + x^2)*y^6 - 2*(2*x^7 - x^4)*y^5)*diff(w(x, y), x)/(x^9 - 16*(2*x^3 + x^2)*y^8 - 4*(32*x^5 + 12*x^4 - 2*x^3 - x^2)*y^7 - 4*(48*x^7 + 12*x^6 - 10*x^5 - 10*x^4 - 7*x^3)*y^6 - 2*(64*x^9 + 8*x^8 - 44*x^7 - 50*x^6 - 32*x^5 + 2*x^4 + 3*x^3)*y^5 - 4*(8*x^11 - 26*x^9 - 24*x^8 - 11*x^7 + 2*x^6 + 6*x^5 + 4*x^4)*y^4 + 2*(32*x^11 + 16*x^10 + 4*x^9 - 2*x^8 - 21*x^7 - 12*x^6 + x^4)*y^3 + (16*x^13 - 32*x^9 - 8*x^8 + x^6 + 4*x^5)*y^2 - 4*(2*x^11 - x^7)*y) - 2*(128*x^2*y^10 + 32*y^11 + 48*(4*x^4 - x)*y^9 + x^8*y + 4*(32*x^6 - 40*x^3 + x)*y^8 + 4*(8*x^8 - 48*x^5 + 5*x^3 + 7*x^2)*y^7 - 4*(24*x^7 - 11*x^5 - 19*x^4 + x^2)*y^6 - 2*(8*x^9 - 26*x^7 - 34*x^6 + 6*x^4 + 5*x^3)*y^5 + (32*x^9 + 20*x^8 - 16*x^6 - 22*x^5 + x^3)*y^4 + (8*x^11 - 12*x^8 - 14*x^7 + x^5 + 2*x^4)*y^3 - (4*x^10 + 2*x^9 - 3*x^6)*y^2)*diff(w(x, y), y)/(x^9 - 16*(2*x^3 + x^2)*y^8 - 4*(32*x^5 + 12*x^4 - 2*x^3 - x^2)*y^7 - 4*(48*x^7 + 12*x^6 - 10*x^5 - 10*x^4 - 7*x^3)*y^6 - 2*(64*x^9 + 8*x^8 - 44*x^7 - 50*x^6 - 32*x^5 + 2*x^4 + 3*x^3)*y^5 - 4*(8*x^11 - 26*x^9 - 24*x^8 - 11*x^7 + 2*x^6 + 6*x^5 + 4*x^4)*y^4 + 2*(32*x^11 + 16*x^10 + 4*x^9 - 2*x^8 - 21*x^7 - 12*x^6 + x^4)*y^3 + (16*x^13 - 32*x^9 - 8*x^8 + x^6 + 4*x^5)*y^2 - 4*(2*x^11 - x^7)*y) - 32*(16*x^2*y^10 + x^6*y^5 + 4*y^11 + 4*(6*x^4 - x)*y^9 + 4*(4*x^6 - 3*x^3)*y^8 + (4*x^8 - 12*x^5 + x^2)*y^7 - 2*(2*x^7 - x^4)*y^6)*diff(z(x, y), x)/(x^9 - 16*(2*x^3 + x^2)*y^8 - 4*(32*x^5 + 12*x^4 - 2*x^3 - x^2)*y^7 - 4*(48*x^7 + 12*x^6 - 10*x^5 - 10*x^4 - 7*x^3)*y^6 - 2*(64*x^9 + 8*x^8 - 44*x^7 - 50*x^6 - 32*x^5 + 2*x^4 + 3*x^3)*y^5 - 4*(8*x^11 - 26*x^9 - 24*x^8 - 11*x^7 + 2*x^6 + 6*x^5 + 4*x^4)*y^4 + 2*(32*x^11 + 16*x^10 + 4*x^9 - 2*x^8 - 21*x^7 - 12*x^6 + x^4)*y^3 + (16*x^13 - 32*x^9 - 8*x^8 + x^6 + 4*x^5)*y^2 - 4*(2*x^11 - x^7)*y) + diff(z(x, y), y, y)"
      ]
     },
     "metadata": {},
     "output_type": "display_data"
    },
    {
     "data": {
      "text/html": [
       "<html><script type=\"math/tex; mode=display\">\\newcommand{\\Bold}[1]{\\mathbf{#1}}-\\frac{2 \\, {\\left(x^{2} + y\\right)} w\\left(x, y\\right)}{x y} + \\frac{2 \\, {\\left(x^{2} y^{2} + y^{3}\\right)} \\frac{\\partial}{\\partial y}w\\left(x, y\\right)}{x^{2}} + \\frac{4 \\, {\\left(x^{2} y^{2} + y^{3}\\right)} \\frac{\\partial}{\\partial x}z\\left(x, y\\right)}{x^{2}} + \\frac{\\partial^{2}}{(\\partial y)^{2}}z\\left(x, y\\right)</script></html>"
      ],
      "text/latex": [
       "\\begin{math}\n",
       "\\newcommand{\\Bold}[1]{\\mathbf{#1}}-\\frac{2 \\, {\\left(x^{2} + y\\right)} w\\left(x, y\\right)}{x y} + \\frac{2 \\, {\\left(x^{2} y^{2} + y^{3}\\right)} \\frac{\\partial}{\\partial y}w\\left(x, y\\right)}{x^{2}} + \\frac{4 \\, {\\left(x^{2} y^{2} + y^{3}\\right)} \\frac{\\partial}{\\partial x}z\\left(x, y\\right)}{x^{2}} + \\frac{\\partial^{2}}{(\\partial y)^{2}}z\\left(x, y\\right)\n",
       "\\end{math}"
      ],
      "text/plain": [
       "-2*(x^2 + y)*w(x, y)/(x*y) + 2*(x^2*y^2 + y^3)*diff(w(x, y), y)/x^2 + 4*(x^2*y^2 + y^3)*diff(z(x, y), x)/x^2 + diff(z(x, y), y, y)"
      ]
     },
     "metadata": {},
     "output_type": "display_data"
    },
    {
     "data": {
      "text/html": [
       "<html><script type=\"math/tex; mode=display\">\\newcommand{\\Bold}[1]{\\mathbf{#1}}-\\frac{2 \\, {\\left(8 \\, x^{2} y^{5} - 6 \\, x^{3} y^{3} + 4 \\, y^{6} + x^{4} y + 4 \\, {\\left(x^{4} - x\\right)} y^{4} - {\\left(2 \\, x^{5} - x^{2}\\right)} y^{2}\\right)} \\frac{\\partial}{\\partial y}w\\left(x, y\\right)}{x^{5} - 2 \\, {\\left(2 \\, x^{3} + x^{2}\\right)} y^{3} - 2 \\, {\\left(4 \\, x^{5} + x^{4}\\right)} y^{2} - 2 \\, {\\left(2 \\, x^{7} - x^{3}\\right)} y} - \\frac{8 \\, {\\left(4 \\, x^{2} y^{5} - x^{3} y^{3} + 2 \\, y^{6} + {\\left(2 \\, x^{4} - x\\right)} y^{4}\\right)} \\frac{\\partial}{\\partial x}z\\left(x, y\\right)}{x^{5} - 2 \\, {\\left(2 \\, x^{3} + x^{2}\\right)} y^{3} - 2 \\, {\\left(4 \\, x^{5} + x^{4}\\right)} y^{2} - 2 \\, {\\left(2 \\, x^{7} - x^{3}\\right)} y} + \\frac{\\partial^{2}}{(\\partial y)^{2}}z\\left(x, y\\right)</script></html>"
      ],
      "text/latex": [
       "\\begin{math}\n",
       "\\newcommand{\\Bold}[1]{\\mathbf{#1}}-\\frac{2 \\, {\\left(8 \\, x^{2} y^{5} - 6 \\, x^{3} y^{3} + 4 \\, y^{6} + x^{4} y + 4 \\, {\\left(x^{4} - x\\right)} y^{4} - {\\left(2 \\, x^{5} - x^{2}\\right)} y^{2}\\right)} \\frac{\\partial}{\\partial y}w\\left(x, y\\right)}{x^{5} - 2 \\, {\\left(2 \\, x^{3} + x^{2}\\right)} y^{3} - 2 \\, {\\left(4 \\, x^{5} + x^{4}\\right)} y^{2} - 2 \\, {\\left(2 \\, x^{7} - x^{3}\\right)} y} - \\frac{8 \\, {\\left(4 \\, x^{2} y^{5} - x^{3} y^{3} + 2 \\, y^{6} + {\\left(2 \\, x^{4} - x\\right)} y^{4}\\right)} \\frac{\\partial}{\\partial x}z\\left(x, y\\right)}{x^{5} - 2 \\, {\\left(2 \\, x^{3} + x^{2}\\right)} y^{3} - 2 \\, {\\left(4 \\, x^{5} + x^{4}\\right)} y^{2} - 2 \\, {\\left(2 \\, x^{7} - x^{3}\\right)} y} + \\frac{\\partial^{2}}{(\\partial y)^{2}}z\\left(x, y\\right)\n",
       "\\end{math}"
      ],
      "text/plain": [
       "-2*(8*x^2*y^5 - 6*x^3*y^3 + 4*y^6 + x^4*y + 4*(x^4 - x)*y^4 - (2*x^5 - x^2)*y^2)*diff(w(x, y), y)/(x^5 - 2*(2*x^3 + x^2)*y^3 - 2*(4*x^5 + x^4)*y^2 - 2*(2*x^7 - x^3)*y) - 8*(4*x^2*y^5 - x^3*y^3 + 2*y^6 + (2*x^4 - x)*y^4)*diff(z(x, y), x)/(x^5 - 2*(2*x^3 + x^2)*y^3 - 2*(4*x^5 + x^4)*y^2 - 2*(2*x^7 - x^3)*y) + diff(z(x, y), y, y)"
      ]
     },
     "metadata": {},
     "output_type": "display_data"
    },
    {
     "name": "stdout",
     "output_type": "stream",
     "text": [
      "===================================================== 4\n",
      "--------------------------------------- entering reduce\n",
      "--------------------------------------- entering reduce\n",
      "no reduction\n",
      "--------------------------------------- entering reduce\n",
      "no reduction\n",
      "--------------------------------------- entering reduce\n",
      "no reduction\n",
      "This is the new System........\n"
     ]
    },
    {
     "data": {
      "text/html": [
       "<html><script type=\"math/tex; mode=display\">\\newcommand{\\Bold}[1]{\\mathbf{#1}}\\frac{{\\left(x^{4} - 2 \\, {\\left(2 \\, x^{2} + x\\right)} y^{3} - 2 \\, {\\left(4 \\, x^{4} + x^{3}\\right)} y^{2} - 2 \\, {\\left(2 \\, x^{6} - x^{2}\\right)} y\\right)} \\frac{\\partial}{\\partial y}z\\left(x, y\\right)}{4 \\, {\\left(4 \\, x^{2} y^{4} - x^{3} y^{2} + 2 \\, y^{5} + {\\left(2 \\, x^{4} - x\\right)} y^{3}\\right)}} + \\frac{w\\left(x, y\\right)}{2 \\, y} + \\frac{\\partial}{\\partial x}z\\left(x, y\\right)</script></html>"
      ],
      "text/latex": [
       "\\begin{math}\n",
       "\\newcommand{\\Bold}[1]{\\mathbf{#1}}\\frac{{\\left(x^{4} - 2 \\, {\\left(2 \\, x^{2} + x\\right)} y^{3} - 2 \\, {\\left(4 \\, x^{4} + x^{3}\\right)} y^{2} - 2 \\, {\\left(2 \\, x^{6} - x^{2}\\right)} y\\right)} \\frac{\\partial}{\\partial y}z\\left(x, y\\right)}{4 \\, {\\left(4 \\, x^{2} y^{4} - x^{3} y^{2} + 2 \\, y^{5} + {\\left(2 \\, x^{4} - x\\right)} y^{3}\\right)}} + \\frac{w\\left(x, y\\right)}{2 \\, y} + \\frac{\\partial}{\\partial x}z\\left(x, y\\right)\n",
       "\\end{math}"
      ],
      "text/plain": [
       "1/4*(x^4 - 2*(2*x^2 + x)*y^3 - 2*(4*x^4 + x^3)*y^2 - 2*(2*x^6 - x^2)*y)*diff(z(x, y), y)/(4*x^2*y^4 - x^3*y^2 + 2*y^5 + (2*x^4 - x)*y^3) + 1/2*w(x, y)/y + diff(z(x, y), x)"
      ]
     },
     "metadata": {},
     "output_type": "display_data"
    },
    {
     "data": {
      "text/html": [
       "<html><script type=\"math/tex; mode=display\">\\newcommand{\\Bold}[1]{\\mathbf{#1}}\\frac{{\\left(x^{3} + x y\\right)} w\\left(x, y\\right)}{2 \\, x^{2} y^{3} - x^{3} y + 2 \\, y^{4} - 2 \\, x y^{2}} + \\frac{2 \\, {\\left(2 \\, x^{2} y^{2} + 2 \\, y^{3} - x y\\right)} \\frac{\\partial}{\\partial x}z\\left(x, y\\right)}{2 \\, x^{2} y^{2} - x^{3} + 2 \\, y^{3} - 2 \\, x y} - \\frac{2 \\, {\\left(x^{4} + x^{2} y\\right)} \\frac{\\partial}{\\partial y}z\\left(x, y\\right)}{2 \\, x^{2} y^{2} - x^{3} + 2 \\, y^{3} - 2 \\, x y} + \\frac{\\partial}{\\partial y}w\\left(x, y\\right)</script></html>"
      ],
      "text/latex": [
       "\\begin{math}\n",
       "\\newcommand{\\Bold}[1]{\\mathbf{#1}}\\frac{{\\left(x^{3} + x y\\right)} w\\left(x, y\\right)}{2 \\, x^{2} y^{3} - x^{3} y + 2 \\, y^{4} - 2 \\, x y^{2}} + \\frac{2 \\, {\\left(2 \\, x^{2} y^{2} + 2 \\, y^{3} - x y\\right)} \\frac{\\partial}{\\partial x}z\\left(x, y\\right)}{2 \\, x^{2} y^{2} - x^{3} + 2 \\, y^{3} - 2 \\, x y} - \\frac{2 \\, {\\left(x^{4} + x^{2} y\\right)} \\frac{\\partial}{\\partial y}z\\left(x, y\\right)}{2 \\, x^{2} y^{2} - x^{3} + 2 \\, y^{3} - 2 \\, x y} + \\frac{\\partial}{\\partial y}w\\left(x, y\\right)\n",
       "\\end{math}"
      ],
      "text/plain": [
       "(x^3 + x*y)*w(x, y)/(2*x^2*y^3 - x^3*y + 2*y^4 - 2*x*y^2) + 2*(2*x^2*y^2 + 2*y^3 - x*y)*diff(z(x, y), x)/(2*x^2*y^2 - x^3 + 2*y^3 - 2*x*y) - 2*(x^4 + x^2*y)*diff(z(x, y), y)/(2*x^2*y^2 - x^3 + 2*y^3 - 2*x*y) + diff(w(x, y), y)"
      ]
     },
     "metadata": {},
     "output_type": "display_data"
    },
    {
     "data": {
      "text/html": [
       "<html><script type=\"math/tex; mode=display\">\\newcommand{\\Bold}[1]{\\mathbf{#1}}-\\frac{2 \\, {\\left(8 \\, x^{2} y^{5} - 6 \\, x^{3} y^{3} + 4 \\, y^{6} + x^{4} y + 4 \\, {\\left(x^{4} - x\\right)} y^{4} - {\\left(2 \\, x^{5} - x^{2}\\right)} y^{2}\\right)} \\frac{\\partial}{\\partial y}w\\left(x, y\\right)}{x^{5} - 2 \\, {\\left(2 \\, x^{3} + x^{2}\\right)} y^{3} - 2 \\, {\\left(4 \\, x^{5} + x^{4}\\right)} y^{2} - 2 \\, {\\left(2 \\, x^{7} - x^{3}\\right)} y} - \\frac{8 \\, {\\left(4 \\, x^{2} y^{5} - x^{3} y^{3} + 2 \\, y^{6} + {\\left(2 \\, x^{4} - x\\right)} y^{4}\\right)} \\frac{\\partial}{\\partial x}z\\left(x, y\\right)}{x^{5} - 2 \\, {\\left(2 \\, x^{3} + x^{2}\\right)} y^{3} - 2 \\, {\\left(4 \\, x^{5} + x^{4}\\right)} y^{2} - 2 \\, {\\left(2 \\, x^{7} - x^{3}\\right)} y} + \\frac{\\partial^{2}}{(\\partial y)^{2}}z\\left(x, y\\right)</script></html>"
      ],
      "text/latex": [
       "\\begin{math}\n",
       "\\newcommand{\\Bold}[1]{\\mathbf{#1}}-\\frac{2 \\, {\\left(8 \\, x^{2} y^{5} - 6 \\, x^{3} y^{3} + 4 \\, y^{6} + x^{4} y + 4 \\, {\\left(x^{4} - x\\right)} y^{4} - {\\left(2 \\, x^{5} - x^{2}\\right)} y^{2}\\right)} \\frac{\\partial}{\\partial y}w\\left(x, y\\right)}{x^{5} - 2 \\, {\\left(2 \\, x^{3} + x^{2}\\right)} y^{3} - 2 \\, {\\left(4 \\, x^{5} + x^{4}\\right)} y^{2} - 2 \\, {\\left(2 \\, x^{7} - x^{3}\\right)} y} - \\frac{8 \\, {\\left(4 \\, x^{2} y^{5} - x^{3} y^{3} + 2 \\, y^{6} + {\\left(2 \\, x^{4} - x\\right)} y^{4}\\right)} \\frac{\\partial}{\\partial x}z\\left(x, y\\right)}{x^{5} - 2 \\, {\\left(2 \\, x^{3} + x^{2}\\right)} y^{3} - 2 \\, {\\left(4 \\, x^{5} + x^{4}\\right)} y^{2} - 2 \\, {\\left(2 \\, x^{7} - x^{3}\\right)} y} + \\frac{\\partial^{2}}{(\\partial y)^{2}}z\\left(x, y\\right)\n",
       "\\end{math}"
      ],
      "text/plain": [
       "-2*(8*x^2*y^5 - 6*x^3*y^3 + 4*y^6 + x^4*y + 4*(x^4 - x)*y^4 - (2*x^5 - x^2)*y^2)*diff(w(x, y), y)/(x^5 - 2*(2*x^3 + x^2)*y^3 - 2*(4*x^5 + x^4)*y^2 - 2*(2*x^7 - x^3)*y) - 8*(4*x^2*y^5 - x^3*y^3 + 2*y^6 + (2*x^4 - x)*y^4)*diff(z(x, y), x)/(x^5 - 2*(2*x^3 + x^2)*y^3 - 2*(4*x^5 + x^4)*y^2 - 2*(2*x^7 - x^3)*y) + diff(z(x, y), y, y)"
      ]
     },
     "metadata": {},
     "output_type": "display_data"
    },
    {
     "data": {
      "text/html": [
       "<html><script type=\"math/tex; mode=display\">\\newcommand{\\Bold}[1]{\\mathbf{#1}}-\\frac{2 \\, {\\left(x^{2} + y\\right)} w\\left(x, y\\right)}{x y} + \\frac{2 \\, {\\left(x^{2} y^{2} + y^{3}\\right)} \\frac{\\partial}{\\partial y}w\\left(x, y\\right)}{x^{2}} + \\frac{4 \\, {\\left(x^{2} y^{2} + y^{3}\\right)} \\frac{\\partial}{\\partial x}z\\left(x, y\\right)}{x^{2}} + \\frac{\\partial^{2}}{(\\partial y)^{2}}z\\left(x, y\\right)</script></html>"
      ],
      "text/latex": [
       "\\begin{math}\n",
       "\\newcommand{\\Bold}[1]{\\mathbf{#1}}-\\frac{2 \\, {\\left(x^{2} + y\\right)} w\\left(x, y\\right)}{x y} + \\frac{2 \\, {\\left(x^{2} y^{2} + y^{3}\\right)} \\frac{\\partial}{\\partial y}w\\left(x, y\\right)}{x^{2}} + \\frac{4 \\, {\\left(x^{2} y^{2} + y^{3}\\right)} \\frac{\\partial}{\\partial x}z\\left(x, y\\right)}{x^{2}} + \\frac{\\partial^{2}}{(\\partial y)^{2}}z\\left(x, y\\right)\n",
       "\\end{math}"
      ],
      "text/plain": [
       "-2*(x^2 + y)*w(x, y)/(x*y) + 2*(x^2*y^2 + y^3)*diff(w(x, y), y)/x^2 + 4*(x^2*y^2 + y^3)*diff(z(x, y), x)/x^2 + diff(z(x, y), y, y)"
      ]
     },
     "metadata": {},
     "output_type": "display_data"
    },
    {
     "data": {
      "text/html": [
       "<html><script type=\"math/tex; mode=display\">\\newcommand{\\Bold}[1]{\\mathbf{#1}}-\\frac{8 \\, {\\left(16 \\, x^{2} y^{9} + x^{6} y^{4} + 4 \\, y^{10} + 4 \\, {\\left(6 \\, x^{4} - x\\right)} y^{8} + 4 \\, {\\left(4 \\, x^{6} - 3 \\, x^{3}\\right)} y^{7} + {\\left(4 \\, x^{8} - 12 \\, x^{5} + x^{2}\\right)} y^{6} - 2 \\, {\\left(2 \\, x^{7} - x^{4}\\right)} y^{5}\\right)} \\frac{\\partial}{\\partial x}w\\left(x, y\\right)}{x^{9} - 16 \\, {\\left(2 \\, x^{3} + x^{2}\\right)} y^{8} - 4 \\, {\\left(32 \\, x^{5} + 12 \\, x^{4} - 2 \\, x^{3} - x^{2}\\right)} y^{7} - 4 \\, {\\left(48 \\, x^{7} + 12 \\, x^{6} - 10 \\, x^{5} - 10 \\, x^{4} - 7 \\, x^{3}\\right)} y^{6} - 2 \\, {\\left(64 \\, x^{9} + 8 \\, x^{8} - 44 \\, x^{7} - 50 \\, x^{6} - 32 \\, x^{5} + 2 \\, x^{4} + 3 \\, x^{3}\\right)} y^{5} - 4 \\, {\\left(8 \\, x^{11} - 26 \\, x^{9} - 24 \\, x^{8} - 11 \\, x^{7} + 2 \\, x^{6} + 6 \\, x^{5} + 4 \\, x^{4}\\right)} y^{4} + 2 \\, {\\left(32 \\, x^{11} + 16 \\, x^{10} + 4 \\, x^{9} - 2 \\, x^{8} - 21 \\, x^{7} - 12 \\, x^{6} + x^{4}\\right)} y^{3} + {\\left(16 \\, x^{13} - 32 \\, x^{9} - 8 \\, x^{8} + x^{6} + 4 \\, x^{5}\\right)} y^{2} - 4 \\, {\\left(2 \\, x^{11} - x^{7}\\right)} y} - \\frac{2 \\, {\\left(128 \\, x^{2} y^{10} + 32 \\, y^{11} + 48 \\, {\\left(4 \\, x^{4} - x\\right)} y^{9} + x^{8} y + 4 \\, {\\left(32 \\, x^{6} - 40 \\, x^{3} + x\\right)} y^{8} + 4 \\, {\\left(8 \\, x^{8} - 48 \\, x^{5} + 5 \\, x^{3} + 7 \\, x^{2}\\right)} y^{7} - 4 \\, {\\left(24 \\, x^{7} - 11 \\, x^{5} - 19 \\, x^{4} + x^{2}\\right)} y^{6} - 2 \\, {\\left(8 \\, x^{9} - 26 \\, x^{7} - 34 \\, x^{6} + 6 \\, x^{4} + 5 \\, x^{3}\\right)} y^{5} + {\\left(32 \\, x^{9} + 20 \\, x^{8} - 16 \\, x^{6} - 22 \\, x^{5} + x^{3}\\right)} y^{4} + {\\left(8 \\, x^{11} - 12 \\, x^{8} - 14 \\, x^{7} + x^{5} + 2 \\, x^{4}\\right)} y^{3} - {\\left(4 \\, x^{10} + 2 \\, x^{9} - 3 \\, x^{6}\\right)} y^{2}\\right)} \\frac{\\partial}{\\partial y}w\\left(x, y\\right)}{x^{9} - 16 \\, {\\left(2 \\, x^{3} + x^{2}\\right)} y^{8} - 4 \\, {\\left(32 \\, x^{5} + 12 \\, x^{4} - 2 \\, x^{3} - x^{2}\\right)} y^{7} - 4 \\, {\\left(48 \\, x^{7} + 12 \\, x^{6} - 10 \\, x^{5} - 10 \\, x^{4} - 7 \\, x^{3}\\right)} y^{6} - 2 \\, {\\left(64 \\, x^{9} + 8 \\, x^{8} - 44 \\, x^{7} - 50 \\, x^{6} - 32 \\, x^{5} + 2 \\, x^{4} + 3 \\, x^{3}\\right)} y^{5} - 4 \\, {\\left(8 \\, x^{11} - 26 \\, x^{9} - 24 \\, x^{8} - 11 \\, x^{7} + 2 \\, x^{6} + 6 \\, x^{5} + 4 \\, x^{4}\\right)} y^{4} + 2 \\, {\\left(32 \\, x^{11} + 16 \\, x^{10} + 4 \\, x^{9} - 2 \\, x^{8} - 21 \\, x^{7} - 12 \\, x^{6} + x^{4}\\right)} y^{3} + {\\left(16 \\, x^{13} - 32 \\, x^{9} - 8 \\, x^{8} + x^{6} + 4 \\, x^{5}\\right)} y^{2} - 4 \\, {\\left(2 \\, x^{11} - x^{7}\\right)} y} - \\frac{32 \\, {\\left(16 \\, x^{2} y^{10} + x^{6} y^{5} + 4 \\, y^{11} + 4 \\, {\\left(6 \\, x^{4} - x\\right)} y^{9} + 4 \\, {\\left(4 \\, x^{6} - 3 \\, x^{3}\\right)} y^{8} + {\\left(4 \\, x^{8} - 12 \\, x^{5} + x^{2}\\right)} y^{7} - 2 \\, {\\left(2 \\, x^{7} - x^{4}\\right)} y^{6}\\right)} \\frac{\\partial}{\\partial x}z\\left(x, y\\right)}{x^{9} - 16 \\, {\\left(2 \\, x^{3} + x^{2}\\right)} y^{8} - 4 \\, {\\left(32 \\, x^{5} + 12 \\, x^{4} - 2 \\, x^{3} - x^{2}\\right)} y^{7} - 4 \\, {\\left(48 \\, x^{7} + 12 \\, x^{6} - 10 \\, x^{5} - 10 \\, x^{4} - 7 \\, x^{3}\\right)} y^{6} - 2 \\, {\\left(64 \\, x^{9} + 8 \\, x^{8} - 44 \\, x^{7} - 50 \\, x^{6} - 32 \\, x^{5} + 2 \\, x^{4} + 3 \\, x^{3}\\right)} y^{5} - 4 \\, {\\left(8 \\, x^{11} - 26 \\, x^{9} - 24 \\, x^{8} - 11 \\, x^{7} + 2 \\, x^{6} + 6 \\, x^{5} + 4 \\, x^{4}\\right)} y^{4} + 2 \\, {\\left(32 \\, x^{11} + 16 \\, x^{10} + 4 \\, x^{9} - 2 \\, x^{8} - 21 \\, x^{7} - 12 \\, x^{6} + x^{4}\\right)} y^{3} + {\\left(16 \\, x^{13} - 32 \\, x^{9} - 8 \\, x^{8} + x^{6} + 4 \\, x^{5}\\right)} y^{2} - 4 \\, {\\left(2 \\, x^{11} - x^{7}\\right)} y} + \\frac{\\partial^{2}}{(\\partial y)^{2}}z\\left(x, y\\right)</script></html>"
      ],
      "text/latex": [
       "\\begin{math}\n",
       "\\newcommand{\\Bold}[1]{\\mathbf{#1}}-\\frac{8 \\, {\\left(16 \\, x^{2} y^{9} + x^{6} y^{4} + 4 \\, y^{10} + 4 \\, {\\left(6 \\, x^{4} - x\\right)} y^{8} + 4 \\, {\\left(4 \\, x^{6} - 3 \\, x^{3}\\right)} y^{7} + {\\left(4 \\, x^{8} - 12 \\, x^{5} + x^{2}\\right)} y^{6} - 2 \\, {\\left(2 \\, x^{7} - x^{4}\\right)} y^{5}\\right)} \\frac{\\partial}{\\partial x}w\\left(x, y\\right)}{x^{9} - 16 \\, {\\left(2 \\, x^{3} + x^{2}\\right)} y^{8} - 4 \\, {\\left(32 \\, x^{5} + 12 \\, x^{4} - 2 \\, x^{3} - x^{2}\\right)} y^{7} - 4 \\, {\\left(48 \\, x^{7} + 12 \\, x^{6} - 10 \\, x^{5} - 10 \\, x^{4} - 7 \\, x^{3}\\right)} y^{6} - 2 \\, {\\left(64 \\, x^{9} + 8 \\, x^{8} - 44 \\, x^{7} - 50 \\, x^{6} - 32 \\, x^{5} + 2 \\, x^{4} + 3 \\, x^{3}\\right)} y^{5} - 4 \\, {\\left(8 \\, x^{11} - 26 \\, x^{9} - 24 \\, x^{8} - 11 \\, x^{7} + 2 \\, x^{6} + 6 \\, x^{5} + 4 \\, x^{4}\\right)} y^{4} + 2 \\, {\\left(32 \\, x^{11} + 16 \\, x^{10} + 4 \\, x^{9} - 2 \\, x^{8} - 21 \\, x^{7} - 12 \\, x^{6} + x^{4}\\right)} y^{3} + {\\left(16 \\, x^{13} - 32 \\, x^{9} - 8 \\, x^{8} + x^{6} + 4 \\, x^{5}\\right)} y^{2} - 4 \\, {\\left(2 \\, x^{11} - x^{7}\\right)} y} - \\frac{2 \\, {\\left(128 \\, x^{2} y^{10} + 32 \\, y^{11} + 48 \\, {\\left(4 \\, x^{4} - x\\right)} y^{9} + x^{8} y + 4 \\, {\\left(32 \\, x^{6} - 40 \\, x^{3} + x\\right)} y^{8} + 4 \\, {\\left(8 \\, x^{8} - 48 \\, x^{5} + 5 \\, x^{3} + 7 \\, x^{2}\\right)} y^{7} - 4 \\, {\\left(24 \\, x^{7} - 11 \\, x^{5} - 19 \\, x^{4} + x^{2}\\right)} y^{6} - 2 \\, {\\left(8 \\, x^{9} - 26 \\, x^{7} - 34 \\, x^{6} + 6 \\, x^{4} + 5 \\, x^{3}\\right)} y^{5} + {\\left(32 \\, x^{9} + 20 \\, x^{8} - 16 \\, x^{6} - 22 \\, x^{5} + x^{3}\\right)} y^{4} + {\\left(8 \\, x^{11} - 12 \\, x^{8} - 14 \\, x^{7} + x^{5} + 2 \\, x^{4}\\right)} y^{3} - {\\left(4 \\, x^{10} + 2 \\, x^{9} - 3 \\, x^{6}\\right)} y^{2}\\right)} \\frac{\\partial}{\\partial y}w\\left(x, y\\right)}{x^{9} - 16 \\, {\\left(2 \\, x^{3} + x^{2}\\right)} y^{8} - 4 \\, {\\left(32 \\, x^{5} + 12 \\, x^{4} - 2 \\, x^{3} - x^{2}\\right)} y^{7} - 4 \\, {\\left(48 \\, x^{7} + 12 \\, x^{6} - 10 \\, x^{5} - 10 \\, x^{4} - 7 \\, x^{3}\\right)} y^{6} - 2 \\, {\\left(64 \\, x^{9} + 8 \\, x^{8} - 44 \\, x^{7} - 50 \\, x^{6} - 32 \\, x^{5} + 2 \\, x^{4} + 3 \\, x^{3}\\right)} y^{5} - 4 \\, {\\left(8 \\, x^{11} - 26 \\, x^{9} - 24 \\, x^{8} - 11 \\, x^{7} + 2 \\, x^{6} + 6 \\, x^{5} + 4 \\, x^{4}\\right)} y^{4} + 2 \\, {\\left(32 \\, x^{11} + 16 \\, x^{10} + 4 \\, x^{9} - 2 \\, x^{8} - 21 \\, x^{7} - 12 \\, x^{6} + x^{4}\\right)} y^{3} + {\\left(16 \\, x^{13} - 32 \\, x^{9} - 8 \\, x^{8} + x^{6} + 4 \\, x^{5}\\right)} y^{2} - 4 \\, {\\left(2 \\, x^{11} - x^{7}\\right)} y} - \\frac{32 \\, {\\left(16 \\, x^{2} y^{10} + x^{6} y^{5} + 4 \\, y^{11} + 4 \\, {\\left(6 \\, x^{4} - x\\right)} y^{9} + 4 \\, {\\left(4 \\, x^{6} - 3 \\, x^{3}\\right)} y^{8} + {\\left(4 \\, x^{8} - 12 \\, x^{5} + x^{2}\\right)} y^{7} - 2 \\, {\\left(2 \\, x^{7} - x^{4}\\right)} y^{6}\\right)} \\frac{\\partial}{\\partial x}z\\left(x, y\\right)}{x^{9} - 16 \\, {\\left(2 \\, x^{3} + x^{2}\\right)} y^{8} - 4 \\, {\\left(32 \\, x^{5} + 12 \\, x^{4} - 2 \\, x^{3} - x^{2}\\right)} y^{7} - 4 \\, {\\left(48 \\, x^{7} + 12 \\, x^{6} - 10 \\, x^{5} - 10 \\, x^{4} - 7 \\, x^{3}\\right)} y^{6} - 2 \\, {\\left(64 \\, x^{9} + 8 \\, x^{8} - 44 \\, x^{7} - 50 \\, x^{6} - 32 \\, x^{5} + 2 \\, x^{4} + 3 \\, x^{3}\\right)} y^{5} - 4 \\, {\\left(8 \\, x^{11} - 26 \\, x^{9} - 24 \\, x^{8} - 11 \\, x^{7} + 2 \\, x^{6} + 6 \\, x^{5} + 4 \\, x^{4}\\right)} y^{4} + 2 \\, {\\left(32 \\, x^{11} + 16 \\, x^{10} + 4 \\, x^{9} - 2 \\, x^{8} - 21 \\, x^{7} - 12 \\, x^{6} + x^{4}\\right)} y^{3} + {\\left(16 \\, x^{13} - 32 \\, x^{9} - 8 \\, x^{8} + x^{6} + 4 \\, x^{5}\\right)} y^{2} - 4 \\, {\\left(2 \\, x^{11} - x^{7}\\right)} y} + \\frac{\\partial^{2}}{(\\partial y)^{2}}z\\left(x, y\\right)\n",
       "\\end{math}"
      ],
      "text/plain": [
       "-8*(16*x^2*y^9 + x^6*y^4 + 4*y^10 + 4*(6*x^4 - x)*y^8 + 4*(4*x^6 - 3*x^3)*y^7 + (4*x^8 - 12*x^5 + x^2)*y^6 - 2*(2*x^7 - x^4)*y^5)*diff(w(x, y), x)/(x^9 - 16*(2*x^3 + x^2)*y^8 - 4*(32*x^5 + 12*x^4 - 2*x^3 - x^2)*y^7 - 4*(48*x^7 + 12*x^6 - 10*x^5 - 10*x^4 - 7*x^3)*y^6 - 2*(64*x^9 + 8*x^8 - 44*x^7 - 50*x^6 - 32*x^5 + 2*x^4 + 3*x^3)*y^5 - 4*(8*x^11 - 26*x^9 - 24*x^8 - 11*x^7 + 2*x^6 + 6*x^5 + 4*x^4)*y^4 + 2*(32*x^11 + 16*x^10 + 4*x^9 - 2*x^8 - 21*x^7 - 12*x^6 + x^4)*y^3 + (16*x^13 - 32*x^9 - 8*x^8 + x^6 + 4*x^5)*y^2 - 4*(2*x^11 - x^7)*y) - 2*(128*x^2*y^10 + 32*y^11 + 48*(4*x^4 - x)*y^9 + x^8*y + 4*(32*x^6 - 40*x^3 + x)*y^8 + 4*(8*x^8 - 48*x^5 + 5*x^3 + 7*x^2)*y^7 - 4*(24*x^7 - 11*x^5 - 19*x^4 + x^2)*y^6 - 2*(8*x^9 - 26*x^7 - 34*x^6 + 6*x^4 + 5*x^3)*y^5 + (32*x^9 + 20*x^8 - 16*x^6 - 22*x^5 + x^3)*y^4 + (8*x^11 - 12*x^8 - 14*x^7 + x^5 + 2*x^4)*y^3 - (4*x^10 + 2*x^9 - 3*x^6)*y^2)*diff(w(x, y), y)/(x^9 - 16*(2*x^3 + x^2)*y^8 - 4*(32*x^5 + 12*x^4 - 2*x^3 - x^2)*y^7 - 4*(48*x^7 + 12*x^6 - 10*x^5 - 10*x^4 - 7*x^3)*y^6 - 2*(64*x^9 + 8*x^8 - 44*x^7 - 50*x^6 - 32*x^5 + 2*x^4 + 3*x^3)*y^5 - 4*(8*x^11 - 26*x^9 - 24*x^8 - 11*x^7 + 2*x^6 + 6*x^5 + 4*x^4)*y^4 + 2*(32*x^11 + 16*x^10 + 4*x^9 - 2*x^8 - 21*x^7 - 12*x^6 + x^4)*y^3 + (16*x^13 - 32*x^9 - 8*x^8 + x^6 + 4*x^5)*y^2 - 4*(2*x^11 - x^7)*y) - 32*(16*x^2*y^10 + x^6*y^5 + 4*y^11 + 4*(6*x^4 - x)*y^9 + 4*(4*x^6 - 3*x^3)*y^8 + (4*x^8 - 12*x^5 + x^2)*y^7 - 2*(2*x^7 - x^4)*y^6)*diff(z(x, y), x)/(x^9 - 16*(2*x^3 + x^2)*y^8 - 4*(32*x^5 + 12*x^4 - 2*x^3 - x^2)*y^7 - 4*(48*x^7 + 12*x^6 - 10*x^5 - 10*x^4 - 7*x^3)*y^6 - 2*(64*x^9 + 8*x^8 - 44*x^7 - 50*x^6 - 32*x^5 + 2*x^4 + 3*x^3)*y^5 - 4*(8*x^11 - 26*x^9 - 24*x^8 - 11*x^7 + 2*x^6 + 6*x^5 + 4*x^4)*y^4 + 2*(32*x^11 + 16*x^10 + 4*x^9 - 2*x^8 - 21*x^7 - 12*x^6 + x^4)*y^3 + (16*x^13 - 32*x^9 - 8*x^8 + x^6 + 4*x^5)*y^2 - 4*(2*x^11 - x^7)*y) + diff(z(x, y), y, y)"
      ]
     },
     "metadata": {},
     "output_type": "display_data"
    },
    {
     "name": "stdout",
     "output_type": "stream",
     "text": [
      "===================================================== 3\n",
      "> \u001b[0;32m<ipython-input-16-f640c8c307c8>\u001b[0m(11)\u001b[0;36mAutoreduce\u001b[0;34m()\u001b[0m\n",
      "\u001b[0;32m      9 \u001b[0;31m        \u001b[0mprint\u001b[0m \u001b[0;34m(\u001b[0m\u001b[0;34m\"=====================================================\"\u001b[0m\u001b[0;34m,\u001b[0m \u001b[0mlen\u001b[0m\u001b[0;34m(\u001b[0m\u001b[0mr\u001b[0m\u001b[0;34m)\u001b[0m\u001b[0;34m)\u001b[0m\u001b[0;34m\u001b[0m\u001b[0;34m\u001b[0m\u001b[0m\n",
      "\u001b[0m\u001b[0;32m     10 \u001b[0;31m        \u001b[0;32mif\u001b[0m \u001b[0mlen\u001b[0m\u001b[0;34m(\u001b[0m\u001b[0mr\u001b[0m\u001b[0;34m)\u001b[0m \u001b[0;34m==\u001b[0m \u001b[0mInteger\u001b[0m\u001b[0;34m(\u001b[0m\u001b[0;36m3\u001b[0m\u001b[0;34m)\u001b[0m\u001b[0;34m:\u001b[0m\u001b[0;34m\u001b[0m\u001b[0;34m\u001b[0m\u001b[0m\n",
      "\u001b[0m\u001b[0;32m---> 11 \u001b[0;31m            \u001b[0mset_trace\u001b[0m\u001b[0;34m(\u001b[0m\u001b[0;34m)\u001b[0m\u001b[0;34m\u001b[0m\u001b[0;34m\u001b[0m\u001b[0m\n",
      "\u001b[0m\u001b[0;32m     12 \u001b[0;31m        \u001b[0mhave_reduced\u001b[0m \u001b[0;34m=\u001b[0m \u001b[0;32mFalse\u001b[0m\u001b[0;34m\u001b[0m\u001b[0;34m\u001b[0m\u001b[0m\n",
      "\u001b[0m\u001b[0;32m     13 \u001b[0;31m        \u001b[0;31m#set_trace()\u001b[0m\u001b[0;34m\u001b[0m\u001b[0;34m\u001b[0m\u001b[0;34m\u001b[0m\u001b[0m\n",
      "\u001b[0m\n"
     ]
    },
    {
     "name": "stdin",
     "output_type": "stream",
     "text": [
      "ipdb>  c\n"
     ]
    },
    {
     "name": "stdout",
     "output_type": "stream",
     "text": [
      "--------------------------------------- entering reduce\n",
      "--------------------------------------- entering reduce\n",
      "--------------------------------------- entering reduce\n",
      "This is the new System........\n"
     ]
    },
    {
     "data": {
      "text/html": [
       "<html><script type=\"math/tex; mode=display\">\\newcommand{\\Bold}[1]{\\mathbf{#1}}\\frac{{\\left(x^{4} - 2 \\, {\\left(2 \\, x^{2} + x\\right)} y^{3} - 2 \\, {\\left(4 \\, x^{4} + x^{3}\\right)} y^{2} - 2 \\, {\\left(2 \\, x^{6} - x^{2}\\right)} y\\right)} \\frac{\\partial}{\\partial y}z\\left(x, y\\right)}{4 \\, {\\left(4 \\, x^{2} y^{4} - x^{3} y^{2} + 2 \\, y^{5} + {\\left(2 \\, x^{4} - x\\right)} y^{3}\\right)}} + \\frac{w\\left(x, y\\right)}{2 \\, y} + \\frac{\\partial}{\\partial x}z\\left(x, y\\right)</script></html>"
      ],
      "text/latex": [
       "\\begin{math}\n",
       "\\newcommand{\\Bold}[1]{\\mathbf{#1}}\\frac{{\\left(x^{4} - 2 \\, {\\left(2 \\, x^{2} + x\\right)} y^{3} - 2 \\, {\\left(4 \\, x^{4} + x^{3}\\right)} y^{2} - 2 \\, {\\left(2 \\, x^{6} - x^{2}\\right)} y\\right)} \\frac{\\partial}{\\partial y}z\\left(x, y\\right)}{4 \\, {\\left(4 \\, x^{2} y^{4} - x^{3} y^{2} + 2 \\, y^{5} + {\\left(2 \\, x^{4} - x\\right)} y^{3}\\right)}} + \\frac{w\\left(x, y\\right)}{2 \\, y} + \\frac{\\partial}{\\partial x}z\\left(x, y\\right)\n",
       "\\end{math}"
      ],
      "text/plain": [
       "1/4*(x^4 - 2*(2*x^2 + x)*y^3 - 2*(4*x^4 + x^3)*y^2 - 2*(2*x^6 - x^2)*y)*diff(z(x, y), y)/(4*x^2*y^4 - x^3*y^2 + 2*y^5 + (2*x^4 - x)*y^3) + 1/2*w(x, y)/y + diff(z(x, y), x)"
      ]
     },
     "metadata": {},
     "output_type": "display_data"
    },
    {
     "data": {
      "text/html": [
       "<html><script type=\"math/tex; mode=display\">\\newcommand{\\Bold}[1]{\\mathbf{#1}}\\frac{{\\left(x^{3} + x y\\right)} w\\left(x, y\\right)}{2 \\, x^{2} y^{3} - x^{3} y + 2 \\, y^{4} - 2 \\, x y^{2}} + \\frac{2 \\, {\\left(2 \\, x^{2} y^{2} + 2 \\, y^{3} - x y\\right)} \\frac{\\partial}{\\partial x}z\\left(x, y\\right)}{2 \\, x^{2} y^{2} - x^{3} + 2 \\, y^{3} - 2 \\, x y} - \\frac{2 \\, {\\left(x^{4} + x^{2} y\\right)} \\frac{\\partial}{\\partial y}z\\left(x, y\\right)}{2 \\, x^{2} y^{2} - x^{3} + 2 \\, y^{3} - 2 \\, x y} + \\frac{\\partial}{\\partial y}w\\left(x, y\\right)</script></html>"
      ],
      "text/latex": [
       "\\begin{math}\n",
       "\\newcommand{\\Bold}[1]{\\mathbf{#1}}\\frac{{\\left(x^{3} + x y\\right)} w\\left(x, y\\right)}{2 \\, x^{2} y^{3} - x^{3} y + 2 \\, y^{4} - 2 \\, x y^{2}} + \\frac{2 \\, {\\left(2 \\, x^{2} y^{2} + 2 \\, y^{3} - x y\\right)} \\frac{\\partial}{\\partial x}z\\left(x, y\\right)}{2 \\, x^{2} y^{2} - x^{3} + 2 \\, y^{3} - 2 \\, x y} - \\frac{2 \\, {\\left(x^{4} + x^{2} y\\right)} \\frac{\\partial}{\\partial y}z\\left(x, y\\right)}{2 \\, x^{2} y^{2} - x^{3} + 2 \\, y^{3} - 2 \\, x y} + \\frac{\\partial}{\\partial y}w\\left(x, y\\right)\n",
       "\\end{math}"
      ],
      "text/plain": [
       "(x^3 + x*y)*w(x, y)/(2*x^2*y^3 - x^3*y + 2*y^4 - 2*x*y^2) + 2*(2*x^2*y^2 + 2*y^3 - x*y)*diff(z(x, y), x)/(2*x^2*y^2 - x^3 + 2*y^3 - 2*x*y) - 2*(x^4 + x^2*y)*diff(z(x, y), y)/(2*x^2*y^2 - x^3 + 2*y^3 - 2*x*y) + diff(w(x, y), y)"
      ]
     },
     "metadata": {},
     "output_type": "display_data"
    },
    {
     "data": {
      "text/html": [
       "<html><script type=\"math/tex; mode=display\">\\newcommand{\\Bold}[1]{\\mathbf{#1}}-\\frac{8 \\, {\\left(16 \\, x^{2} y^{9} + x^{6} y^{4} + 4 \\, y^{10} + 4 \\, {\\left(6 \\, x^{4} - x\\right)} y^{8} + 4 \\, {\\left(4 \\, x^{6} - 3 \\, x^{3}\\right)} y^{7} + {\\left(4 \\, x^{8} - 12 \\, x^{5} + x^{2}\\right)} y^{6} - 2 \\, {\\left(2 \\, x^{7} - x^{4}\\right)} y^{5}\\right)} \\frac{\\partial}{\\partial x}w\\left(x, y\\right)}{x^{9} - 16 \\, {\\left(2 \\, x^{3} + x^{2}\\right)} y^{8} - 4 \\, {\\left(32 \\, x^{5} + 12 \\, x^{4} - 2 \\, x^{3} - x^{2}\\right)} y^{7} - 4 \\, {\\left(48 \\, x^{7} + 12 \\, x^{6} - 10 \\, x^{5} - 10 \\, x^{4} - 7 \\, x^{3}\\right)} y^{6} - 2 \\, {\\left(64 \\, x^{9} + 8 \\, x^{8} - 44 \\, x^{7} - 50 \\, x^{6} - 32 \\, x^{5} + 2 \\, x^{4} + 3 \\, x^{3}\\right)} y^{5} - 4 \\, {\\left(8 \\, x^{11} - 26 \\, x^{9} - 24 \\, x^{8} - 11 \\, x^{7} + 2 \\, x^{6} + 6 \\, x^{5} + 4 \\, x^{4}\\right)} y^{4} + 2 \\, {\\left(32 \\, x^{11} + 16 \\, x^{10} + 4 \\, x^{9} - 2 \\, x^{8} - 21 \\, x^{7} - 12 \\, x^{6} + x^{4}\\right)} y^{3} + {\\left(16 \\, x^{13} - 32 \\, x^{9} - 8 \\, x^{8} + x^{6} + 4 \\, x^{5}\\right)} y^{2} - 4 \\, {\\left(2 \\, x^{11} - x^{7}\\right)} y} - \\frac{2 \\, {\\left(128 \\, x^{2} y^{10} + 32 \\, y^{11} + 48 \\, {\\left(4 \\, x^{4} - x\\right)} y^{9} + x^{8} y + 4 \\, {\\left(32 \\, x^{6} - 40 \\, x^{3} + x\\right)} y^{8} + 4 \\, {\\left(8 \\, x^{8} - 48 \\, x^{5} + 5 \\, x^{3} + 7 \\, x^{2}\\right)} y^{7} - 4 \\, {\\left(24 \\, x^{7} - 11 \\, x^{5} - 19 \\, x^{4} + x^{2}\\right)} y^{6} - 2 \\, {\\left(8 \\, x^{9} - 26 \\, x^{7} - 34 \\, x^{6} + 6 \\, x^{4} + 5 \\, x^{3}\\right)} y^{5} + {\\left(32 \\, x^{9} + 20 \\, x^{8} - 16 \\, x^{6} - 22 \\, x^{5} + x^{3}\\right)} y^{4} + {\\left(8 \\, x^{11} - 12 \\, x^{8} - 14 \\, x^{7} + x^{5} + 2 \\, x^{4}\\right)} y^{3} - {\\left(4 \\, x^{10} + 2 \\, x^{9} - 3 \\, x^{6}\\right)} y^{2}\\right)} \\frac{\\partial}{\\partial y}w\\left(x, y\\right)}{x^{9} - 16 \\, {\\left(2 \\, x^{3} + x^{2}\\right)} y^{8} - 4 \\, {\\left(32 \\, x^{5} + 12 \\, x^{4} - 2 \\, x^{3} - x^{2}\\right)} y^{7} - 4 \\, {\\left(48 \\, x^{7} + 12 \\, x^{6} - 10 \\, x^{5} - 10 \\, x^{4} - 7 \\, x^{3}\\right)} y^{6} - 2 \\, {\\left(64 \\, x^{9} + 8 \\, x^{8} - 44 \\, x^{7} - 50 \\, x^{6} - 32 \\, x^{5} + 2 \\, x^{4} + 3 \\, x^{3}\\right)} y^{5} - 4 \\, {\\left(8 \\, x^{11} - 26 \\, x^{9} - 24 \\, x^{8} - 11 \\, x^{7} + 2 \\, x^{6} + 6 \\, x^{5} + 4 \\, x^{4}\\right)} y^{4} + 2 \\, {\\left(32 \\, x^{11} + 16 \\, x^{10} + 4 \\, x^{9} - 2 \\, x^{8} - 21 \\, x^{7} - 12 \\, x^{6} + x^{4}\\right)} y^{3} + {\\left(16 \\, x^{13} - 32 \\, x^{9} - 8 \\, x^{8} + x^{6} + 4 \\, x^{5}\\right)} y^{2} - 4 \\, {\\left(2 \\, x^{11} - x^{7}\\right)} y} - \\frac{32 \\, {\\left(16 \\, x^{2} y^{10} + x^{6} y^{5} + 4 \\, y^{11} + 4 \\, {\\left(6 \\, x^{4} - x\\right)} y^{9} + 4 \\, {\\left(4 \\, x^{6} - 3 \\, x^{3}\\right)} y^{8} + {\\left(4 \\, x^{8} - 12 \\, x^{5} + x^{2}\\right)} y^{7} - 2 \\, {\\left(2 \\, x^{7} - x^{4}\\right)} y^{6}\\right)} \\frac{\\partial}{\\partial x}z\\left(x, y\\right)}{x^{9} - 16 \\, {\\left(2 \\, x^{3} + x^{2}\\right)} y^{8} - 4 \\, {\\left(32 \\, x^{5} + 12 \\, x^{4} - 2 \\, x^{3} - x^{2}\\right)} y^{7} - 4 \\, {\\left(48 \\, x^{7} + 12 \\, x^{6} - 10 \\, x^{5} - 10 \\, x^{4} - 7 \\, x^{3}\\right)} y^{6} - 2 \\, {\\left(64 \\, x^{9} + 8 \\, x^{8} - 44 \\, x^{7} - 50 \\, x^{6} - 32 \\, x^{5} + 2 \\, x^{4} + 3 \\, x^{3}\\right)} y^{5} - 4 \\, {\\left(8 \\, x^{11} - 26 \\, x^{9} - 24 \\, x^{8} - 11 \\, x^{7} + 2 \\, x^{6} + 6 \\, x^{5} + 4 \\, x^{4}\\right)} y^{4} + 2 \\, {\\left(32 \\, x^{11} + 16 \\, x^{10} + 4 \\, x^{9} - 2 \\, x^{8} - 21 \\, x^{7} - 12 \\, x^{6} + x^{4}\\right)} y^{3} + {\\left(16 \\, x^{13} - 32 \\, x^{9} - 8 \\, x^{8} + x^{6} + 4 \\, x^{5}\\right)} y^{2} - 4 \\, {\\left(2 \\, x^{11} - x^{7}\\right)} y} + \\frac{\\partial^{2}}{(\\partial y)^{2}}z\\left(x, y\\right)</script></html>"
      ],
      "text/latex": [
       "\\begin{math}\n",
       "\\newcommand{\\Bold}[1]{\\mathbf{#1}}-\\frac{8 \\, {\\left(16 \\, x^{2} y^{9} + x^{6} y^{4} + 4 \\, y^{10} + 4 \\, {\\left(6 \\, x^{4} - x\\right)} y^{8} + 4 \\, {\\left(4 \\, x^{6} - 3 \\, x^{3}\\right)} y^{7} + {\\left(4 \\, x^{8} - 12 \\, x^{5} + x^{2}\\right)} y^{6} - 2 \\, {\\left(2 \\, x^{7} - x^{4}\\right)} y^{5}\\right)} \\frac{\\partial}{\\partial x}w\\left(x, y\\right)}{x^{9} - 16 \\, {\\left(2 \\, x^{3} + x^{2}\\right)} y^{8} - 4 \\, {\\left(32 \\, x^{5} + 12 \\, x^{4} - 2 \\, x^{3} - x^{2}\\right)} y^{7} - 4 \\, {\\left(48 \\, x^{7} + 12 \\, x^{6} - 10 \\, x^{5} - 10 \\, x^{4} - 7 \\, x^{3}\\right)} y^{6} - 2 \\, {\\left(64 \\, x^{9} + 8 \\, x^{8} - 44 \\, x^{7} - 50 \\, x^{6} - 32 \\, x^{5} + 2 \\, x^{4} + 3 \\, x^{3}\\right)} y^{5} - 4 \\, {\\left(8 \\, x^{11} - 26 \\, x^{9} - 24 \\, x^{8} - 11 \\, x^{7} + 2 \\, x^{6} + 6 \\, x^{5} + 4 \\, x^{4}\\right)} y^{4} + 2 \\, {\\left(32 \\, x^{11} + 16 \\, x^{10} + 4 \\, x^{9} - 2 \\, x^{8} - 21 \\, x^{7} - 12 \\, x^{6} + x^{4}\\right)} y^{3} + {\\left(16 \\, x^{13} - 32 \\, x^{9} - 8 \\, x^{8} + x^{6} + 4 \\, x^{5}\\right)} y^{2} - 4 \\, {\\left(2 \\, x^{11} - x^{7}\\right)} y} - \\frac{2 \\, {\\left(128 \\, x^{2} y^{10} + 32 \\, y^{11} + 48 \\, {\\left(4 \\, x^{4} - x\\right)} y^{9} + x^{8} y + 4 \\, {\\left(32 \\, x^{6} - 40 \\, x^{3} + x\\right)} y^{8} + 4 \\, {\\left(8 \\, x^{8} - 48 \\, x^{5} + 5 \\, x^{3} + 7 \\, x^{2}\\right)} y^{7} - 4 \\, {\\left(24 \\, x^{7} - 11 \\, x^{5} - 19 \\, x^{4} + x^{2}\\right)} y^{6} - 2 \\, {\\left(8 \\, x^{9} - 26 \\, x^{7} - 34 \\, x^{6} + 6 \\, x^{4} + 5 \\, x^{3}\\right)} y^{5} + {\\left(32 \\, x^{9} + 20 \\, x^{8} - 16 \\, x^{6} - 22 \\, x^{5} + x^{3}\\right)} y^{4} + {\\left(8 \\, x^{11} - 12 \\, x^{8} - 14 \\, x^{7} + x^{5} + 2 \\, x^{4}\\right)} y^{3} - {\\left(4 \\, x^{10} + 2 \\, x^{9} - 3 \\, x^{6}\\right)} y^{2}\\right)} \\frac{\\partial}{\\partial y}w\\left(x, y\\right)}{x^{9} - 16 \\, {\\left(2 \\, x^{3} + x^{2}\\right)} y^{8} - 4 \\, {\\left(32 \\, x^{5} + 12 \\, x^{4} - 2 \\, x^{3} - x^{2}\\right)} y^{7} - 4 \\, {\\left(48 \\, x^{7} + 12 \\, x^{6} - 10 \\, x^{5} - 10 \\, x^{4} - 7 \\, x^{3}\\right)} y^{6} - 2 \\, {\\left(64 \\, x^{9} + 8 \\, x^{8} - 44 \\, x^{7} - 50 \\, x^{6} - 32 \\, x^{5} + 2 \\, x^{4} + 3 \\, x^{3}\\right)} y^{5} - 4 \\, {\\left(8 \\, x^{11} - 26 \\, x^{9} - 24 \\, x^{8} - 11 \\, x^{7} + 2 \\, x^{6} + 6 \\, x^{5} + 4 \\, x^{4}\\right)} y^{4} + 2 \\, {\\left(32 \\, x^{11} + 16 \\, x^{10} + 4 \\, x^{9} - 2 \\, x^{8} - 21 \\, x^{7} - 12 \\, x^{6} + x^{4}\\right)} y^{3} + {\\left(16 \\, x^{13} - 32 \\, x^{9} - 8 \\, x^{8} + x^{6} + 4 \\, x^{5}\\right)} y^{2} - 4 \\, {\\left(2 \\, x^{11} - x^{7}\\right)} y} - \\frac{32 \\, {\\left(16 \\, x^{2} y^{10} + x^{6} y^{5} + 4 \\, y^{11} + 4 \\, {\\left(6 \\, x^{4} - x\\right)} y^{9} + 4 \\, {\\left(4 \\, x^{6} - 3 \\, x^{3}\\right)} y^{8} + {\\left(4 \\, x^{8} - 12 \\, x^{5} + x^{2}\\right)} y^{7} - 2 \\, {\\left(2 \\, x^{7} - x^{4}\\right)} y^{6}\\right)} \\frac{\\partial}{\\partial x}z\\left(x, y\\right)}{x^{9} - 16 \\, {\\left(2 \\, x^{3} + x^{2}\\right)} y^{8} - 4 \\, {\\left(32 \\, x^{5} + 12 \\, x^{4} - 2 \\, x^{3} - x^{2}\\right)} y^{7} - 4 \\, {\\left(48 \\, x^{7} + 12 \\, x^{6} - 10 \\, x^{5} - 10 \\, x^{4} - 7 \\, x^{3}\\right)} y^{6} - 2 \\, {\\left(64 \\, x^{9} + 8 \\, x^{8} - 44 \\, x^{7} - 50 \\, x^{6} - 32 \\, x^{5} + 2 \\, x^{4} + 3 \\, x^{3}\\right)} y^{5} - 4 \\, {\\left(8 \\, x^{11} - 26 \\, x^{9} - 24 \\, x^{8} - 11 \\, x^{7} + 2 \\, x^{6} + 6 \\, x^{5} + 4 \\, x^{4}\\right)} y^{4} + 2 \\, {\\left(32 \\, x^{11} + 16 \\, x^{10} + 4 \\, x^{9} - 2 \\, x^{8} - 21 \\, x^{7} - 12 \\, x^{6} + x^{4}\\right)} y^{3} + {\\left(16 \\, x^{13} - 32 \\, x^{9} - 8 \\, x^{8} + x^{6} + 4 \\, x^{5}\\right)} y^{2} - 4 \\, {\\left(2 \\, x^{11} - x^{7}\\right)} y} + \\frac{\\partial^{2}}{(\\partial y)^{2}}z\\left(x, y\\right)\n",
       "\\end{math}"
      ],
      "text/plain": [
       "-8*(16*x^2*y^9 + x^6*y^4 + 4*y^10 + 4*(6*x^4 - x)*y^8 + 4*(4*x^6 - 3*x^3)*y^7 + (4*x^8 - 12*x^5 + x^2)*y^6 - 2*(2*x^7 - x^4)*y^5)*diff(w(x, y), x)/(x^9 - 16*(2*x^3 + x^2)*y^8 - 4*(32*x^5 + 12*x^4 - 2*x^3 - x^2)*y^7 - 4*(48*x^7 + 12*x^6 - 10*x^5 - 10*x^4 - 7*x^3)*y^6 - 2*(64*x^9 + 8*x^8 - 44*x^7 - 50*x^6 - 32*x^5 + 2*x^4 + 3*x^3)*y^5 - 4*(8*x^11 - 26*x^9 - 24*x^8 - 11*x^7 + 2*x^6 + 6*x^5 + 4*x^4)*y^4 + 2*(32*x^11 + 16*x^10 + 4*x^9 - 2*x^8 - 21*x^7 - 12*x^6 + x^4)*y^3 + (16*x^13 - 32*x^9 - 8*x^8 + x^6 + 4*x^5)*y^2 - 4*(2*x^11 - x^7)*y) - 2*(128*x^2*y^10 + 32*y^11 + 48*(4*x^4 - x)*y^9 + x^8*y + 4*(32*x^6 - 40*x^3 + x)*y^8 + 4*(8*x^8 - 48*x^5 + 5*x^3 + 7*x^2)*y^7 - 4*(24*x^7 - 11*x^5 - 19*x^4 + x^2)*y^6 - 2*(8*x^9 - 26*x^7 - 34*x^6 + 6*x^4 + 5*x^3)*y^5 + (32*x^9 + 20*x^8 - 16*x^6 - 22*x^5 + x^3)*y^4 + (8*x^11 - 12*x^8 - 14*x^7 + x^5 + 2*x^4)*y^3 - (4*x^10 + 2*x^9 - 3*x^6)*y^2)*diff(w(x, y), y)/(x^9 - 16*(2*x^3 + x^2)*y^8 - 4*(32*x^5 + 12*x^4 - 2*x^3 - x^2)*y^7 - 4*(48*x^7 + 12*x^6 - 10*x^5 - 10*x^4 - 7*x^3)*y^6 - 2*(64*x^9 + 8*x^8 - 44*x^7 - 50*x^6 - 32*x^5 + 2*x^4 + 3*x^3)*y^5 - 4*(8*x^11 - 26*x^9 - 24*x^8 - 11*x^7 + 2*x^6 + 6*x^5 + 4*x^4)*y^4 + 2*(32*x^11 + 16*x^10 + 4*x^9 - 2*x^8 - 21*x^7 - 12*x^6 + x^4)*y^3 + (16*x^13 - 32*x^9 - 8*x^8 + x^6 + 4*x^5)*y^2 - 4*(2*x^11 - x^7)*y) - 32*(16*x^2*y^10 + x^6*y^5 + 4*y^11 + 4*(6*x^4 - x)*y^9 + 4*(4*x^6 - 3*x^3)*y^8 + (4*x^8 - 12*x^5 + x^2)*y^7 - 2*(2*x^7 - x^4)*y^6)*diff(z(x, y), x)/(x^9 - 16*(2*x^3 + x^2)*y^8 - 4*(32*x^5 + 12*x^4 - 2*x^3 - x^2)*y^7 - 4*(48*x^7 + 12*x^6 - 10*x^5 - 10*x^4 - 7*x^3)*y^6 - 2*(64*x^9 + 8*x^8 - 44*x^7 - 50*x^6 - 32*x^5 + 2*x^4 + 3*x^3)*y^5 - 4*(8*x^11 - 26*x^9 - 24*x^8 - 11*x^7 + 2*x^6 + 6*x^5 + 4*x^4)*y^4 + 2*(32*x^11 + 16*x^10 + 4*x^9 - 2*x^8 - 21*x^7 - 12*x^6 + x^4)*y^3 + (16*x^13 - 32*x^9 - 8*x^8 + x^6 + 4*x^5)*y^2 - 4*(2*x^11 - x^7)*y) + diff(z(x, y), y, y)"
      ]
     },
     "metadata": {},
     "output_type": "display_data"
    },
    {
     "data": {
      "text/html": [
       "<html><script type=\"math/tex; mode=display\">\\newcommand{\\Bold}[1]{\\mathbf{#1}}-\\frac{2 \\, {\\left(x^{2} + y\\right)} w\\left(x, y\\right)}{x y} + \\frac{2 \\, {\\left(x^{2} y^{2} + y^{3}\\right)} \\frac{\\partial}{\\partial y}w\\left(x, y\\right)}{x^{2}} + \\frac{4 \\, {\\left(x^{2} y^{2} + y^{3}\\right)} \\frac{\\partial}{\\partial x}z\\left(x, y\\right)}{x^{2}} + \\frac{\\partial^{2}}{(\\partial y)^{2}}z\\left(x, y\\right)</script></html>"
      ],
      "text/latex": [
       "\\begin{math}\n",
       "\\newcommand{\\Bold}[1]{\\mathbf{#1}}-\\frac{2 \\, {\\left(x^{2} + y\\right)} w\\left(x, y\\right)}{x y} + \\frac{2 \\, {\\left(x^{2} y^{2} + y^{3}\\right)} \\frac{\\partial}{\\partial y}w\\left(x, y\\right)}{x^{2}} + \\frac{4 \\, {\\left(x^{2} y^{2} + y^{3}\\right)} \\frac{\\partial}{\\partial x}z\\left(x, y\\right)}{x^{2}} + \\frac{\\partial^{2}}{(\\partial y)^{2}}z\\left(x, y\\right)\n",
       "\\end{math}"
      ],
      "text/plain": [
       "-2*(x^2 + y)*w(x, y)/(x*y) + 2*(x^2*y^2 + y^3)*diff(w(x, y), y)/x^2 + 4*(x^2*y^2 + y^3)*diff(z(x, y), x)/x^2 + diff(z(x, y), y, y)"
      ]
     },
     "metadata": {},
     "output_type": "display_data"
    },
    {
     "data": {
      "text/html": [
       "<html><script type=\"math/tex; mode=display\">\\newcommand{\\Bold}[1]{\\mathbf{#1}}-\\frac{2 \\, {\\left(8 \\, x^{2} y^{5} - 6 \\, x^{3} y^{3} + 4 \\, y^{6} + x^{4} y + 4 \\, {\\left(x^{4} - x\\right)} y^{4} - {\\left(2 \\, x^{5} - x^{2}\\right)} y^{2}\\right)} \\frac{\\partial}{\\partial y}w\\left(x, y\\right)}{x^{5} - 2 \\, {\\left(2 \\, x^{3} + x^{2}\\right)} y^{3} - 2 \\, {\\left(4 \\, x^{5} + x^{4}\\right)} y^{2} - 2 \\, {\\left(2 \\, x^{7} - x^{3}\\right)} y} - \\frac{8 \\, {\\left(4 \\, x^{2} y^{5} - x^{3} y^{3} + 2 \\, y^{6} + {\\left(2 \\, x^{4} - x\\right)} y^{4}\\right)} \\frac{\\partial}{\\partial x}z\\left(x, y\\right)}{x^{5} - 2 \\, {\\left(2 \\, x^{3} + x^{2}\\right)} y^{3} - 2 \\, {\\left(4 \\, x^{5} + x^{4}\\right)} y^{2} - 2 \\, {\\left(2 \\, x^{7} - x^{3}\\right)} y} + \\frac{\\partial^{2}}{(\\partial y)^{2}}z\\left(x, y\\right)</script></html>"
      ],
      "text/latex": [
       "\\begin{math}\n",
       "\\newcommand{\\Bold}[1]{\\mathbf{#1}}-\\frac{2 \\, {\\left(8 \\, x^{2} y^{5} - 6 \\, x^{3} y^{3} + 4 \\, y^{6} + x^{4} y + 4 \\, {\\left(x^{4} - x\\right)} y^{4} - {\\left(2 \\, x^{5} - x^{2}\\right)} y^{2}\\right)} \\frac{\\partial}{\\partial y}w\\left(x, y\\right)}{x^{5} - 2 \\, {\\left(2 \\, x^{3} + x^{2}\\right)} y^{3} - 2 \\, {\\left(4 \\, x^{5} + x^{4}\\right)} y^{2} - 2 \\, {\\left(2 \\, x^{7} - x^{3}\\right)} y} - \\frac{8 \\, {\\left(4 \\, x^{2} y^{5} - x^{3} y^{3} + 2 \\, y^{6} + {\\left(2 \\, x^{4} - x\\right)} y^{4}\\right)} \\frac{\\partial}{\\partial x}z\\left(x, y\\right)}{x^{5} - 2 \\, {\\left(2 \\, x^{3} + x^{2}\\right)} y^{3} - 2 \\, {\\left(4 \\, x^{5} + x^{4}\\right)} y^{2} - 2 \\, {\\left(2 \\, x^{7} - x^{3}\\right)} y} + \\frac{\\partial^{2}}{(\\partial y)^{2}}z\\left(x, y\\right)\n",
       "\\end{math}"
      ],
      "text/plain": [
       "-2*(8*x^2*y^5 - 6*x^3*y^3 + 4*y^6 + x^4*y + 4*(x^4 - x)*y^4 - (2*x^5 - x^2)*y^2)*diff(w(x, y), y)/(x^5 - 2*(2*x^3 + x^2)*y^3 - 2*(4*x^5 + x^4)*y^2 - 2*(2*x^7 - x^3)*y) - 8*(4*x^2*y^5 - x^3*y^3 + 2*y^6 + (2*x^4 - x)*y^4)*diff(z(x, y), x)/(x^5 - 2*(2*x^3 + x^2)*y^3 - 2*(4*x^5 + x^4)*y^2 - 2*(2*x^7 - x^3)*y) + diff(z(x, y), y, y)"
      ]
     },
     "metadata": {},
     "output_type": "display_data"
    },
    {
     "name": "stdout",
     "output_type": "stream",
     "text": [
      "===================================================== 2\n",
      "--------------------------------------- entering reduce\n",
      "--------------------------------------- entering reduce\n",
      "This is the new System........\n"
     ]
    },
    {
     "data": {
      "text/html": [
       "<html><script type=\"math/tex; mode=display\">\\newcommand{\\Bold}[1]{\\mathbf{#1}}\\frac{{\\left(x^{4} - 2 \\, {\\left(2 \\, x^{2} + x\\right)} y^{3} - 2 \\, {\\left(4 \\, x^{4} + x^{3}\\right)} y^{2} - 2 \\, {\\left(2 \\, x^{6} - x^{2}\\right)} y\\right)} \\frac{\\partial}{\\partial y}z\\left(x, y\\right)}{4 \\, {\\left(4 \\, x^{2} y^{4} - x^{3} y^{2} + 2 \\, y^{5} + {\\left(2 \\, x^{4} - x\\right)} y^{3}\\right)}} + \\frac{w\\left(x, y\\right)}{2 \\, y} + \\frac{\\partial}{\\partial x}z\\left(x, y\\right)</script></html>"
      ],
      "text/latex": [
       "\\begin{math}\n",
       "\\newcommand{\\Bold}[1]{\\mathbf{#1}}\\frac{{\\left(x^{4} - 2 \\, {\\left(2 \\, x^{2} + x\\right)} y^{3} - 2 \\, {\\left(4 \\, x^{4} + x^{3}\\right)} y^{2} - 2 \\, {\\left(2 \\, x^{6} - x^{2}\\right)} y\\right)} \\frac{\\partial}{\\partial y}z\\left(x, y\\right)}{4 \\, {\\left(4 \\, x^{2} y^{4} - x^{3} y^{2} + 2 \\, y^{5} + {\\left(2 \\, x^{4} - x\\right)} y^{3}\\right)}} + \\frac{w\\left(x, y\\right)}{2 \\, y} + \\frac{\\partial}{\\partial x}z\\left(x, y\\right)\n",
       "\\end{math}"
      ],
      "text/plain": [
       "1/4*(x^4 - 2*(2*x^2 + x)*y^3 - 2*(4*x^4 + x^3)*y^2 - 2*(2*x^6 - x^2)*y)*diff(z(x, y), y)/(4*x^2*y^4 - x^3*y^2 + 2*y^5 + (2*x^4 - x)*y^3) + 1/2*w(x, y)/y + diff(z(x, y), x)"
      ]
     },
     "metadata": {},
     "output_type": "display_data"
    },
    {
     "data": {
      "text/html": [
       "<html><script type=\"math/tex; mode=display\">\\newcommand{\\Bold}[1]{\\mathbf{#1}}\\frac{{\\left(x^{3} + x y\\right)} w\\left(x, y\\right)}{2 \\, x^{2} y^{3} - x^{3} y + 2 \\, y^{4} - 2 \\, x y^{2}} + \\frac{2 \\, {\\left(2 \\, x^{2} y^{2} + 2 \\, y^{3} - x y\\right)} \\frac{\\partial}{\\partial x}z\\left(x, y\\right)}{2 \\, x^{2} y^{2} - x^{3} + 2 \\, y^{3} - 2 \\, x y} - \\frac{2 \\, {\\left(x^{4} + x^{2} y\\right)} \\frac{\\partial}{\\partial y}z\\left(x, y\\right)}{2 \\, x^{2} y^{2} - x^{3} + 2 \\, y^{3} - 2 \\, x y} + \\frac{\\partial}{\\partial y}w\\left(x, y\\right)</script></html>"
      ],
      "text/latex": [
       "\\begin{math}\n",
       "\\newcommand{\\Bold}[1]{\\mathbf{#1}}\\frac{{\\left(x^{3} + x y\\right)} w\\left(x, y\\right)}{2 \\, x^{2} y^{3} - x^{3} y + 2 \\, y^{4} - 2 \\, x y^{2}} + \\frac{2 \\, {\\left(2 \\, x^{2} y^{2} + 2 \\, y^{3} - x y\\right)} \\frac{\\partial}{\\partial x}z\\left(x, y\\right)}{2 \\, x^{2} y^{2} - x^{3} + 2 \\, y^{3} - 2 \\, x y} - \\frac{2 \\, {\\left(x^{4} + x^{2} y\\right)} \\frac{\\partial}{\\partial y}z\\left(x, y\\right)}{2 \\, x^{2} y^{2} - x^{3} + 2 \\, y^{3} - 2 \\, x y} + \\frac{\\partial}{\\partial y}w\\left(x, y\\right)\n",
       "\\end{math}"
      ],
      "text/plain": [
       "(x^3 + x*y)*w(x, y)/(2*x^2*y^3 - x^3*y + 2*y^4 - 2*x*y^2) + 2*(2*x^2*y^2 + 2*y^3 - x*y)*diff(z(x, y), x)/(2*x^2*y^2 - x^3 + 2*y^3 - 2*x*y) - 2*(x^4 + x^2*y)*diff(z(x, y), y)/(2*x^2*y^2 - x^3 + 2*y^3 - 2*x*y) + diff(w(x, y), y)"
      ]
     },
     "metadata": {},
     "output_type": "display_data"
    },
    {
     "data": {
      "text/html": [
       "<html><script type=\"math/tex; mode=display\">\\newcommand{\\Bold}[1]{\\mathbf{#1}}-\\frac{{\\left(x^{4} - 2 \\, {\\left(3 \\, x^{2} + x\\right)} y^{3} - 2 \\, y^{4} - {\\left(8 \\, x^{4} + 2 \\, x^{3} - x\\right)} y^{2} - 2 \\, {\\left(2 \\, x^{6} - x^{2}\\right)} y\\right)} \\frac{\\partial}{\\partial y}w\\left(x, y\\right)}{2 \\, {\\left(4 \\, x^{2} y^{3} - x^{3} y + 2 \\, y^{4} + {\\left(2 \\, x^{4} - x\\right)} y^{2}\\right)}} - \\frac{{\\left(x^{4} - 2 \\, {\\left(3 \\, x^{2} + x\\right)} y^{3} - 2 \\, y^{4} - {\\left(8 \\, x^{4} + 2 \\, x^{3} - x\\right)} y^{2} - 2 \\, {\\left(2 \\, x^{6} - x^{2}\\right)} y\\right)} \\frac{\\partial}{\\partial x}z\\left(x, y\\right)}{4 \\, x^{2} y^{3} - x^{3} y + 2 \\, y^{4} + {\\left(2 \\, x^{4} - x\\right)} y^{2}} + \\frac{\\partial}{\\partial x}w\\left(x, y\\right)</script></html>"
      ],
      "text/latex": [
       "\\begin{math}\n",
       "\\newcommand{\\Bold}[1]{\\mathbf{#1}}-\\frac{{\\left(x^{4} - 2 \\, {\\left(3 \\, x^{2} + x\\right)} y^{3} - 2 \\, y^{4} - {\\left(8 \\, x^{4} + 2 \\, x^{3} - x\\right)} y^{2} - 2 \\, {\\left(2 \\, x^{6} - x^{2}\\right)} y\\right)} \\frac{\\partial}{\\partial y}w\\left(x, y\\right)}{2 \\, {\\left(4 \\, x^{2} y^{3} - x^{3} y + 2 \\, y^{4} + {\\left(2 \\, x^{4} - x\\right)} y^{2}\\right)}} - \\frac{{\\left(x^{4} - 2 \\, {\\left(3 \\, x^{2} + x\\right)} y^{3} - 2 \\, y^{4} - {\\left(8 \\, x^{4} + 2 \\, x^{3} - x\\right)} y^{2} - 2 \\, {\\left(2 \\, x^{6} - x^{2}\\right)} y\\right)} \\frac{\\partial}{\\partial x}z\\left(x, y\\right)}{4 \\, x^{2} y^{3} - x^{3} y + 2 \\, y^{4} + {\\left(2 \\, x^{4} - x\\right)} y^{2}} + \\frac{\\partial}{\\partial x}w\\left(x, y\\right)\n",
       "\\end{math}"
      ],
      "text/plain": [
       "-1/2*(x^4 - 2*(3*x^2 + x)*y^3 - 2*y^4 - (8*x^4 + 2*x^3 - x)*y^2 - 2*(2*x^6 - x^2)*y)*diff(w(x, y), y)/(4*x^2*y^3 - x^3*y + 2*y^4 + (2*x^4 - x)*y^2) - (x^4 - 2*(3*x^2 + x)*y^3 - 2*y^4 - (8*x^4 + 2*x^3 - x)*y^2 - 2*(2*x^6 - x^2)*y)*diff(z(x, y), x)/(4*x^2*y^3 - x^3*y + 2*y^4 + (2*x^4 - x)*y^2) + diff(w(x, y), x)"
      ]
     },
     "metadata": {},
     "output_type": "display_data"
    },
    {
     "data": {
      "text/html": [
       "<html><script type=\"math/tex; mode=display\">\\newcommand{\\Bold}[1]{\\mathbf{#1}}\\frac{{\\left(16 \\, {\\left(2 \\, x^{2} + x\\right)} y^{8} - x^{8} + 4 \\, {\\left(32 \\, x^{4} + 12 \\, x^{3} - 2 \\, x^{2} - x\\right)} y^{7} + 4 \\, {\\left(48 \\, x^{6} + 12 \\, x^{5} - 10 \\, x^{4} - 10 \\, x^{3} - 7 \\, x^{2}\\right)} y^{6} + 2 \\, {\\left(64 \\, x^{8} + 8 \\, x^{7} - 44 \\, x^{6} - 50 \\, x^{5} - 32 \\, x^{4} + 2 \\, x^{3} + 3 \\, x^{2}\\right)} y^{5} + 4 \\, {\\left(8 \\, x^{10} - 26 \\, x^{8} - 24 \\, x^{7} - 11 \\, x^{6} + 2 \\, x^{5} + 6 \\, x^{4} + 4 \\, x^{3}\\right)} y^{4} - 2 \\, {\\left(32 \\, x^{10} + 16 \\, x^{9} + 4 \\, x^{8} - 2 \\, x^{7} - 21 \\, x^{6} - 12 \\, x^{5} + x^{3}\\right)} y^{3} - {\\left(16 \\, x^{12} - 32 \\, x^{8} - 8 \\, x^{7} + x^{5} + 4 \\, x^{4}\\right)} y^{2} + 4 \\, {\\left(2 \\, x^{10} - x^{6}\\right)} y\\right)} w\\left(x, y\\right)}{4 \\, {\\left(12 \\, x^{2} y^{9} + 4 \\, y^{10} + x^{4} y^{5} + 4 \\, {\\left(3 \\, x^{4} - x\\right)} y^{8} + 4 \\, {\\left(x^{6} - 2 \\, x^{3}\\right)} y^{7} - {\\left(4 \\, x^{5} - x^{2}\\right)} y^{6}\\right)}} - \\frac{{\\left(16 \\, {\\left(2 \\, x - 1\\right)} y^{9} + 4 \\, {\\left(32 \\, x^{3} - 12 \\, x^{2} - 2 \\, x - 1\\right)} y^{8} + 4 \\, {\\left(48 \\, x^{5} - 12 \\, x^{4} - 10 \\, x^{3} - 10 \\, x^{2} + 5 \\, x\\right)} y^{7} + 2 \\, {\\left(64 \\, x^{7} - 8 \\, x^{6} - 44 \\, x^{5} - 50 \\, x^{4} + 24 \\, x^{3} + 2 \\, x^{2} + x\\right)} y^{6} - x^{6} + 4 \\, {\\left(8 \\, x^{9} - 26 \\, x^{7} - 24 \\, x^{6} + 9 \\, x^{5} + 2 \\, x^{4} + 2 \\, x^{3} - 3 \\, x^{2}\\right)} y^{5} - 2 \\, {\\left(32 \\, x^{9} + 16 \\, x^{8} - 4 \\, x^{7} - 2 \\, x^{6} - 7 \\, x^{5} + 12 \\, x^{4} - x^{2}\\right)} y^{4} - {\\left(16 \\, x^{11} - 8 \\, x^{7} + 12 \\, x^{6} - 7 \\, x^{4} - 6 \\, x^{3}\\right)} y^{3} + {\\left(8 \\, x^{6} + 8 \\, x^{5} - x^{3}\\right)} y^{2} + {\\left(4 \\, x^{8} + x^{7} - 2 \\, x^{4}\\right)} y\\right)} \\frac{\\partial}{\\partial y}w\\left(x, y\\right)}{4 \\, {\\left(12 \\, x^{2} y^{7} + 4 \\, y^{8} + x^{4} y^{3} + 4 \\, {\\left(3 \\, x^{4} - x\\right)} y^{6} + 4 \\, {\\left(x^{6} - 2 \\, x^{3}\\right)} y^{5} - {\\left(4 \\, x^{5} - x^{2}\\right)} y^{4}\\right)}} - \\frac{{\\left(16 \\, {\\left(2 \\, x - 1\\right)} y^{8} + 4 \\, {\\left(32 \\, x^{3} - 12 \\, x^{2} - 2 \\, x - 1\\right)} y^{7} - x^{7} + 4 \\, {\\left(48 \\, x^{5} - 12 \\, x^{4} - 10 \\, x^{3} - 10 \\, x^{2} + x\\right)} y^{6} + 2 \\, {\\left(64 \\, x^{7} - 8 \\, x^{6} - 44 \\, x^{5} - 50 \\, x^{4} + 2 \\, x^{2} + 3 \\, x\\right)} y^{5} + 4 \\, {\\left(8 \\, x^{9} - 26 \\, x^{7} - 24 \\, x^{6} - 3 \\, x^{5} + 2 \\, x^{4} + 6 \\, x^{3} + 2 \\, x^{2}\\right)} y^{4} - 2 \\, {\\left(32 \\, x^{9} + 16 \\, x^{8} + 4 \\, x^{7} - 2 \\, x^{6} - 21 \\, x^{5} - 8 \\, x^{4} + x^{2}\\right)} y^{3} - {\\left(16 \\, x^{11} - 32 \\, x^{7} - 8 \\, x^{6} + x^{4} + 4 \\, x^{3}\\right)} y^{2} + 4 \\, {\\left(2 \\, x^{9} - x^{5}\\right)} y\\right)} \\frac{\\partial}{\\partial x}z\\left(x, y\\right)}{2 \\, {\\left(12 \\, x^{2} y^{6} + 4 \\, y^{7} + x^{4} y^{2} + 4 \\, {\\left(3 \\, x^{4} - x\\right)} y^{5} + 4 \\, {\\left(x^{6} - 2 \\, x^{3}\\right)} y^{4} - {\\left(4 \\, x^{5} - x^{2}\\right)} y^{3}\\right)}} + \\frac{\\partial}{\\partial x}w\\left(x, y\\right)</script></html>"
      ],
      "text/latex": [
       "\\begin{math}\n",
       "\\newcommand{\\Bold}[1]{\\mathbf{#1}}\\frac{{\\left(16 \\, {\\left(2 \\, x^{2} + x\\right)} y^{8} - x^{8} + 4 \\, {\\left(32 \\, x^{4} + 12 \\, x^{3} - 2 \\, x^{2} - x\\right)} y^{7} + 4 \\, {\\left(48 \\, x^{6} + 12 \\, x^{5} - 10 \\, x^{4} - 10 \\, x^{3} - 7 \\, x^{2}\\right)} y^{6} + 2 \\, {\\left(64 \\, x^{8} + 8 \\, x^{7} - 44 \\, x^{6} - 50 \\, x^{5} - 32 \\, x^{4} + 2 \\, x^{3} + 3 \\, x^{2}\\right)} y^{5} + 4 \\, {\\left(8 \\, x^{10} - 26 \\, x^{8} - 24 \\, x^{7} - 11 \\, x^{6} + 2 \\, x^{5} + 6 \\, x^{4} + 4 \\, x^{3}\\right)} y^{4} - 2 \\, {\\left(32 \\, x^{10} + 16 \\, x^{9} + 4 \\, x^{8} - 2 \\, x^{7} - 21 \\, x^{6} - 12 \\, x^{5} + x^{3}\\right)} y^{3} - {\\left(16 \\, x^{12} - 32 \\, x^{8} - 8 \\, x^{7} + x^{5} + 4 \\, x^{4}\\right)} y^{2} + 4 \\, {\\left(2 \\, x^{10} - x^{6}\\right)} y\\right)} w\\left(x, y\\right)}{4 \\, {\\left(12 \\, x^{2} y^{9} + 4 \\, y^{10} + x^{4} y^{5} + 4 \\, {\\left(3 \\, x^{4} - x\\right)} y^{8} + 4 \\, {\\left(x^{6} - 2 \\, x^{3}\\right)} y^{7} - {\\left(4 \\, x^{5} - x^{2}\\right)} y^{6}\\right)}} - \\frac{{\\left(16 \\, {\\left(2 \\, x - 1\\right)} y^{9} + 4 \\, {\\left(32 \\, x^{3} - 12 \\, x^{2} - 2 \\, x - 1\\right)} y^{8} + 4 \\, {\\left(48 \\, x^{5} - 12 \\, x^{4} - 10 \\, x^{3} - 10 \\, x^{2} + 5 \\, x\\right)} y^{7} + 2 \\, {\\left(64 \\, x^{7} - 8 \\, x^{6} - 44 \\, x^{5} - 50 \\, x^{4} + 24 \\, x^{3} + 2 \\, x^{2} + x\\right)} y^{6} - x^{6} + 4 \\, {\\left(8 \\, x^{9} - 26 \\, x^{7} - 24 \\, x^{6} + 9 \\, x^{5} + 2 \\, x^{4} + 2 \\, x^{3} - 3 \\, x^{2}\\right)} y^{5} - 2 \\, {\\left(32 \\, x^{9} + 16 \\, x^{8} - 4 \\, x^{7} - 2 \\, x^{6} - 7 \\, x^{5} + 12 \\, x^{4} - x^{2}\\right)} y^{4} - {\\left(16 \\, x^{11} - 8 \\, x^{7} + 12 \\, x^{6} - 7 \\, x^{4} - 6 \\, x^{3}\\right)} y^{3} + {\\left(8 \\, x^{6} + 8 \\, x^{5} - x^{3}\\right)} y^{2} + {\\left(4 \\, x^{8} + x^{7} - 2 \\, x^{4}\\right)} y\\right)} \\frac{\\partial}{\\partial y}w\\left(x, y\\right)}{4 \\, {\\left(12 \\, x^{2} y^{7} + 4 \\, y^{8} + x^{4} y^{3} + 4 \\, {\\left(3 \\, x^{4} - x\\right)} y^{6} + 4 \\, {\\left(x^{6} - 2 \\, x^{3}\\right)} y^{5} - {\\left(4 \\, x^{5} - x^{2}\\right)} y^{4}\\right)}} - \\frac{{\\left(16 \\, {\\left(2 \\, x - 1\\right)} y^{8} + 4 \\, {\\left(32 \\, x^{3} - 12 \\, x^{2} - 2 \\, x - 1\\right)} y^{7} - x^{7} + 4 \\, {\\left(48 \\, x^{5} - 12 \\, x^{4} - 10 \\, x^{3} - 10 \\, x^{2} + x\\right)} y^{6} + 2 \\, {\\left(64 \\, x^{7} - 8 \\, x^{6} - 44 \\, x^{5} - 50 \\, x^{4} + 2 \\, x^{2} + 3 \\, x\\right)} y^{5} + 4 \\, {\\left(8 \\, x^{9} - 26 \\, x^{7} - 24 \\, x^{6} - 3 \\, x^{5} + 2 \\, x^{4} + 6 \\, x^{3} + 2 \\, x^{2}\\right)} y^{4} - 2 \\, {\\left(32 \\, x^{9} + 16 \\, x^{8} + 4 \\, x^{7} - 2 \\, x^{6} - 21 \\, x^{5} - 8 \\, x^{4} + x^{2}\\right)} y^{3} - {\\left(16 \\, x^{11} - 32 \\, x^{7} - 8 \\, x^{6} + x^{4} + 4 \\, x^{3}\\right)} y^{2} + 4 \\, {\\left(2 \\, x^{9} - x^{5}\\right)} y\\right)} \\frac{\\partial}{\\partial x}z\\left(x, y\\right)}{2 \\, {\\left(12 \\, x^{2} y^{6} + 4 \\, y^{7} + x^{4} y^{2} + 4 \\, {\\left(3 \\, x^{4} - x\\right)} y^{5} + 4 \\, {\\left(x^{6} - 2 \\, x^{3}\\right)} y^{4} - {\\left(4 \\, x^{5} - x^{2}\\right)} y^{3}\\right)}} + \\frac{\\partial}{\\partial x}w\\left(x, y\\right)\n",
       "\\end{math}"
      ],
      "text/plain": [
       "1/4*(16*(2*x^2 + x)*y^8 - x^8 + 4*(32*x^4 + 12*x^3 - 2*x^2 - x)*y^7 + 4*(48*x^6 + 12*x^5 - 10*x^4 - 10*x^3 - 7*x^2)*y^6 + 2*(64*x^8 + 8*x^7 - 44*x^6 - 50*x^5 - 32*x^4 + 2*x^3 + 3*x^2)*y^5 + 4*(8*x^10 - 26*x^8 - 24*x^7 - 11*x^6 + 2*x^5 + 6*x^4 + 4*x^3)*y^4 - 2*(32*x^10 + 16*x^9 + 4*x^8 - 2*x^7 - 21*x^6 - 12*x^5 + x^3)*y^3 - (16*x^12 - 32*x^8 - 8*x^7 + x^5 + 4*x^4)*y^2 + 4*(2*x^10 - x^6)*y)*w(x, y)/(12*x^2*y^9 + 4*y^10 + x^4*y^5 + 4*(3*x^4 - x)*y^8 + 4*(x^6 - 2*x^3)*y^7 - (4*x^5 - x^2)*y^6) - 1/4*(16*(2*x - 1)*y^9 + 4*(32*x^3 - 12*x^2 - 2*x - 1)*y^8 + 4*(48*x^5 - 12*x^4 - 10*x^3 - 10*x^2 + 5*x)*y^7 + 2*(64*x^7 - 8*x^6 - 44*x^5 - 50*x^4 + 24*x^3 + 2*x^2 + x)*y^6 - x^6 + 4*(8*x^9 - 26*x^7 - 24*x^6 + 9*x^5 + 2*x^4 + 2*x^3 - 3*x^2)*y^5 - 2*(32*x^9 + 16*x^8 - 4*x^7 - 2*x^6 - 7*x^5 + 12*x^4 - x^2)*y^4 - (16*x^11 - 8*x^7 + 12*x^6 - 7*x^4 - 6*x^3)*y^3 + (8*x^6 + 8*x^5 - x^3)*y^2 + (4*x^8 + x^7 - 2*x^4)*y)*diff(w(x, y), y)/(12*x^2*y^7 + 4*y^8 + x^4*y^3 + 4*(3*x^4 - x)*y^6 + 4*(x^6 - 2*x^3)*y^5 - (4*x^5 - x^2)*y^4) - 1/2*(16*(2*x - 1)*y^8 + 4*(32*x^3 - 12*x^2 - 2*x - 1)*y^7 - x^7 + 4*(48*x^5 - 12*x^4 - 10*x^3 - 10*x^2 + x)*y^6 + 2*(64*x^7 - 8*x^6 - 44*x^5 - 50*x^4 + 2*x^2 + 3*x)*y^5 + 4*(8*x^9 - 26*x^7 - 24*x^6 - 3*x^5 + 2*x^4 + 6*x^3 + 2*x^2)*y^4 - 2*(32*x^9 + 16*x^8 + 4*x^7 - 2*x^6 - 21*x^5 - 8*x^4 + x^2)*y^3 - (16*x^11 - 32*x^7 - 8*x^6 + x^4 + 4*x^3)*y^2 + 4*(2*x^9 - x^5)*y)*diff(z(x, y), x)/(12*x^2*y^6 + 4*y^7 + x^4*y^2 + 4*(3*x^4 - x)*y^5 + 4*(x^6 - 2*x^3)*y^4 - (4*x^5 - x^2)*y^3) + diff(w(x, y), x)"
      ]
     },
     "metadata": {},
     "output_type": "display_data"
    },
    {
     "data": {
      "text/html": [
       "<html><script type=\"math/tex; mode=display\">\\newcommand{\\Bold}[1]{\\mathbf{#1}}-\\frac{8 \\, {\\left(16 \\, x^{2} y^{9} + x^{6} y^{4} + 4 \\, y^{10} + 4 \\, {\\left(6 \\, x^{4} - x\\right)} y^{8} + 4 \\, {\\left(4 \\, x^{6} - 3 \\, x^{3}\\right)} y^{7} + {\\left(4 \\, x^{8} - 12 \\, x^{5} + x^{2}\\right)} y^{6} - 2 \\, {\\left(2 \\, x^{7} - x^{4}\\right)} y^{5}\\right)} \\frac{\\partial}{\\partial x}w\\left(x, y\\right)}{x^{9} - 16 \\, {\\left(2 \\, x^{3} + x^{2}\\right)} y^{8} - 4 \\, {\\left(32 \\, x^{5} + 12 \\, x^{4} - 2 \\, x^{3} - x^{2}\\right)} y^{7} - 4 \\, {\\left(48 \\, x^{7} + 12 \\, x^{6} - 10 \\, x^{5} - 10 \\, x^{4} - 7 \\, x^{3}\\right)} y^{6} - 2 \\, {\\left(64 \\, x^{9} + 8 \\, x^{8} - 44 \\, x^{7} - 50 \\, x^{6} - 32 \\, x^{5} + 2 \\, x^{4} + 3 \\, x^{3}\\right)} y^{5} - 4 \\, {\\left(8 \\, x^{11} - 26 \\, x^{9} - 24 \\, x^{8} - 11 \\, x^{7} + 2 \\, x^{6} + 6 \\, x^{5} + 4 \\, x^{4}\\right)} y^{4} + 2 \\, {\\left(32 \\, x^{11} + 16 \\, x^{10} + 4 \\, x^{9} - 2 \\, x^{8} - 21 \\, x^{7} - 12 \\, x^{6} + x^{4}\\right)} y^{3} + {\\left(16 \\, x^{13} - 32 \\, x^{9} - 8 \\, x^{8} + x^{6} + 4 \\, x^{5}\\right)} y^{2} - 4 \\, {\\left(2 \\, x^{11} - x^{7}\\right)} y} - \\frac{2 \\, {\\left(128 \\, x^{2} y^{10} + 32 \\, y^{11} + 48 \\, {\\left(4 \\, x^{4} - x\\right)} y^{9} + x^{8} y + 4 \\, {\\left(32 \\, x^{6} - 40 \\, x^{3} + x\\right)} y^{8} + 4 \\, {\\left(8 \\, x^{8} - 48 \\, x^{5} + 5 \\, x^{3} + 7 \\, x^{2}\\right)} y^{7} - 4 \\, {\\left(24 \\, x^{7} - 11 \\, x^{5} - 19 \\, x^{4} + x^{2}\\right)} y^{6} - 2 \\, {\\left(8 \\, x^{9} - 26 \\, x^{7} - 34 \\, x^{6} + 6 \\, x^{4} + 5 \\, x^{3}\\right)} y^{5} + {\\left(32 \\, x^{9} + 20 \\, x^{8} - 16 \\, x^{6} - 22 \\, x^{5} + x^{3}\\right)} y^{4} + {\\left(8 \\, x^{11} - 12 \\, x^{8} - 14 \\, x^{7} + x^{5} + 2 \\, x^{4}\\right)} y^{3} - {\\left(4 \\, x^{10} + 2 \\, x^{9} - 3 \\, x^{6}\\right)} y^{2}\\right)} \\frac{\\partial}{\\partial y}w\\left(x, y\\right)}{x^{9} - 16 \\, {\\left(2 \\, x^{3} + x^{2}\\right)} y^{8} - 4 \\, {\\left(32 \\, x^{5} + 12 \\, x^{4} - 2 \\, x^{3} - x^{2}\\right)} y^{7} - 4 \\, {\\left(48 \\, x^{7} + 12 \\, x^{6} - 10 \\, x^{5} - 10 \\, x^{4} - 7 \\, x^{3}\\right)} y^{6} - 2 \\, {\\left(64 \\, x^{9} + 8 \\, x^{8} - 44 \\, x^{7} - 50 \\, x^{6} - 32 \\, x^{5} + 2 \\, x^{4} + 3 \\, x^{3}\\right)} y^{5} - 4 \\, {\\left(8 \\, x^{11} - 26 \\, x^{9} - 24 \\, x^{8} - 11 \\, x^{7} + 2 \\, x^{6} + 6 \\, x^{5} + 4 \\, x^{4}\\right)} y^{4} + 2 \\, {\\left(32 \\, x^{11} + 16 \\, x^{10} + 4 \\, x^{9} - 2 \\, x^{8} - 21 \\, x^{7} - 12 \\, x^{6} + x^{4}\\right)} y^{3} + {\\left(16 \\, x^{13} - 32 \\, x^{9} - 8 \\, x^{8} + x^{6} + 4 \\, x^{5}\\right)} y^{2} - 4 \\, {\\left(2 \\, x^{11} - x^{7}\\right)} y} - \\frac{32 \\, {\\left(16 \\, x^{2} y^{10} + x^{6} y^{5} + 4 \\, y^{11} + 4 \\, {\\left(6 \\, x^{4} - x\\right)} y^{9} + 4 \\, {\\left(4 \\, x^{6} - 3 \\, x^{3}\\right)} y^{8} + {\\left(4 \\, x^{8} - 12 \\, x^{5} + x^{2}\\right)} y^{7} - 2 \\, {\\left(2 \\, x^{7} - x^{4}\\right)} y^{6}\\right)} \\frac{\\partial}{\\partial x}z\\left(x, y\\right)}{x^{9} - 16 \\, {\\left(2 \\, x^{3} + x^{2}\\right)} y^{8} - 4 \\, {\\left(32 \\, x^{5} + 12 \\, x^{4} - 2 \\, x^{3} - x^{2}\\right)} y^{7} - 4 \\, {\\left(48 \\, x^{7} + 12 \\, x^{6} - 10 \\, x^{5} - 10 \\, x^{4} - 7 \\, x^{3}\\right)} y^{6} - 2 \\, {\\left(64 \\, x^{9} + 8 \\, x^{8} - 44 \\, x^{7} - 50 \\, x^{6} - 32 \\, x^{5} + 2 \\, x^{4} + 3 \\, x^{3}\\right)} y^{5} - 4 \\, {\\left(8 \\, x^{11} - 26 \\, x^{9} - 24 \\, x^{8} - 11 \\, x^{7} + 2 \\, x^{6} + 6 \\, x^{5} + 4 \\, x^{4}\\right)} y^{4} + 2 \\, {\\left(32 \\, x^{11} + 16 \\, x^{10} + 4 \\, x^{9} - 2 \\, x^{8} - 21 \\, x^{7} - 12 \\, x^{6} + x^{4}\\right)} y^{3} + {\\left(16 \\, x^{13} - 32 \\, x^{9} - 8 \\, x^{8} + x^{6} + 4 \\, x^{5}\\right)} y^{2} - 4 \\, {\\left(2 \\, x^{11} - x^{7}\\right)} y} + \\frac{\\partial^{2}}{(\\partial y)^{2}}z\\left(x, y\\right)</script></html>"
      ],
      "text/latex": [
       "\\begin{math}\n",
       "\\newcommand{\\Bold}[1]{\\mathbf{#1}}-\\frac{8 \\, {\\left(16 \\, x^{2} y^{9} + x^{6} y^{4} + 4 \\, y^{10} + 4 \\, {\\left(6 \\, x^{4} - x\\right)} y^{8} + 4 \\, {\\left(4 \\, x^{6} - 3 \\, x^{3}\\right)} y^{7} + {\\left(4 \\, x^{8} - 12 \\, x^{5} + x^{2}\\right)} y^{6} - 2 \\, {\\left(2 \\, x^{7} - x^{4}\\right)} y^{5}\\right)} \\frac{\\partial}{\\partial x}w\\left(x, y\\right)}{x^{9} - 16 \\, {\\left(2 \\, x^{3} + x^{2}\\right)} y^{8} - 4 \\, {\\left(32 \\, x^{5} + 12 \\, x^{4} - 2 \\, x^{3} - x^{2}\\right)} y^{7} - 4 \\, {\\left(48 \\, x^{7} + 12 \\, x^{6} - 10 \\, x^{5} - 10 \\, x^{4} - 7 \\, x^{3}\\right)} y^{6} - 2 \\, {\\left(64 \\, x^{9} + 8 \\, x^{8} - 44 \\, x^{7} - 50 \\, x^{6} - 32 \\, x^{5} + 2 \\, x^{4} + 3 \\, x^{3}\\right)} y^{5} - 4 \\, {\\left(8 \\, x^{11} - 26 \\, x^{9} - 24 \\, x^{8} - 11 \\, x^{7} + 2 \\, x^{6} + 6 \\, x^{5} + 4 \\, x^{4}\\right)} y^{4} + 2 \\, {\\left(32 \\, x^{11} + 16 \\, x^{10} + 4 \\, x^{9} - 2 \\, x^{8} - 21 \\, x^{7} - 12 \\, x^{6} + x^{4}\\right)} y^{3} + {\\left(16 \\, x^{13} - 32 \\, x^{9} - 8 \\, x^{8} + x^{6} + 4 \\, x^{5}\\right)} y^{2} - 4 \\, {\\left(2 \\, x^{11} - x^{7}\\right)} y} - \\frac{2 \\, {\\left(128 \\, x^{2} y^{10} + 32 \\, y^{11} + 48 \\, {\\left(4 \\, x^{4} - x\\right)} y^{9} + x^{8} y + 4 \\, {\\left(32 \\, x^{6} - 40 \\, x^{3} + x\\right)} y^{8} + 4 \\, {\\left(8 \\, x^{8} - 48 \\, x^{5} + 5 \\, x^{3} + 7 \\, x^{2}\\right)} y^{7} - 4 \\, {\\left(24 \\, x^{7} - 11 \\, x^{5} - 19 \\, x^{4} + x^{2}\\right)} y^{6} - 2 \\, {\\left(8 \\, x^{9} - 26 \\, x^{7} - 34 \\, x^{6} + 6 \\, x^{4} + 5 \\, x^{3}\\right)} y^{5} + {\\left(32 \\, x^{9} + 20 \\, x^{8} - 16 \\, x^{6} - 22 \\, x^{5} + x^{3}\\right)} y^{4} + {\\left(8 \\, x^{11} - 12 \\, x^{8} - 14 \\, x^{7} + x^{5} + 2 \\, x^{4}\\right)} y^{3} - {\\left(4 \\, x^{10} + 2 \\, x^{9} - 3 \\, x^{6}\\right)} y^{2}\\right)} \\frac{\\partial}{\\partial y}w\\left(x, y\\right)}{x^{9} - 16 \\, {\\left(2 \\, x^{3} + x^{2}\\right)} y^{8} - 4 \\, {\\left(32 \\, x^{5} + 12 \\, x^{4} - 2 \\, x^{3} - x^{2}\\right)} y^{7} - 4 \\, {\\left(48 \\, x^{7} + 12 \\, x^{6} - 10 \\, x^{5} - 10 \\, x^{4} - 7 \\, x^{3}\\right)} y^{6} - 2 \\, {\\left(64 \\, x^{9} + 8 \\, x^{8} - 44 \\, x^{7} - 50 \\, x^{6} - 32 \\, x^{5} + 2 \\, x^{4} + 3 \\, x^{3}\\right)} y^{5} - 4 \\, {\\left(8 \\, x^{11} - 26 \\, x^{9} - 24 \\, x^{8} - 11 \\, x^{7} + 2 \\, x^{6} + 6 \\, x^{5} + 4 \\, x^{4}\\right)} y^{4} + 2 \\, {\\left(32 \\, x^{11} + 16 \\, x^{10} + 4 \\, x^{9} - 2 \\, x^{8} - 21 \\, x^{7} - 12 \\, x^{6} + x^{4}\\right)} y^{3} + {\\left(16 \\, x^{13} - 32 \\, x^{9} - 8 \\, x^{8} + x^{6} + 4 \\, x^{5}\\right)} y^{2} - 4 \\, {\\left(2 \\, x^{11} - x^{7}\\right)} y} - \\frac{32 \\, {\\left(16 \\, x^{2} y^{10} + x^{6} y^{5} + 4 \\, y^{11} + 4 \\, {\\left(6 \\, x^{4} - x\\right)} y^{9} + 4 \\, {\\left(4 \\, x^{6} - 3 \\, x^{3}\\right)} y^{8} + {\\left(4 \\, x^{8} - 12 \\, x^{5} + x^{2}\\right)} y^{7} - 2 \\, {\\left(2 \\, x^{7} - x^{4}\\right)} y^{6}\\right)} \\frac{\\partial}{\\partial x}z\\left(x, y\\right)}{x^{9} - 16 \\, {\\left(2 \\, x^{3} + x^{2}\\right)} y^{8} - 4 \\, {\\left(32 \\, x^{5} + 12 \\, x^{4} - 2 \\, x^{3} - x^{2}\\right)} y^{7} - 4 \\, {\\left(48 \\, x^{7} + 12 \\, x^{6} - 10 \\, x^{5} - 10 \\, x^{4} - 7 \\, x^{3}\\right)} y^{6} - 2 \\, {\\left(64 \\, x^{9} + 8 \\, x^{8} - 44 \\, x^{7} - 50 \\, x^{6} - 32 \\, x^{5} + 2 \\, x^{4} + 3 \\, x^{3}\\right)} y^{5} - 4 \\, {\\left(8 \\, x^{11} - 26 \\, x^{9} - 24 \\, x^{8} - 11 \\, x^{7} + 2 \\, x^{6} + 6 \\, x^{5} + 4 \\, x^{4}\\right)} y^{4} + 2 \\, {\\left(32 \\, x^{11} + 16 \\, x^{10} + 4 \\, x^{9} - 2 \\, x^{8} - 21 \\, x^{7} - 12 \\, x^{6} + x^{4}\\right)} y^{3} + {\\left(16 \\, x^{13} - 32 \\, x^{9} - 8 \\, x^{8} + x^{6} + 4 \\, x^{5}\\right)} y^{2} - 4 \\, {\\left(2 \\, x^{11} - x^{7}\\right)} y} + \\frac{\\partial^{2}}{(\\partial y)^{2}}z\\left(x, y\\right)\n",
       "\\end{math}"
      ],
      "text/plain": [
       "-8*(16*x^2*y^9 + x^6*y^4 + 4*y^10 + 4*(6*x^4 - x)*y^8 + 4*(4*x^6 - 3*x^3)*y^7 + (4*x^8 - 12*x^5 + x^2)*y^6 - 2*(2*x^7 - x^4)*y^5)*diff(w(x, y), x)/(x^9 - 16*(2*x^3 + x^2)*y^8 - 4*(32*x^5 + 12*x^4 - 2*x^3 - x^2)*y^7 - 4*(48*x^7 + 12*x^6 - 10*x^5 - 10*x^4 - 7*x^3)*y^6 - 2*(64*x^9 + 8*x^8 - 44*x^7 - 50*x^6 - 32*x^5 + 2*x^4 + 3*x^3)*y^5 - 4*(8*x^11 - 26*x^9 - 24*x^8 - 11*x^7 + 2*x^6 + 6*x^5 + 4*x^4)*y^4 + 2*(32*x^11 + 16*x^10 + 4*x^9 - 2*x^8 - 21*x^7 - 12*x^6 + x^4)*y^3 + (16*x^13 - 32*x^9 - 8*x^8 + x^6 + 4*x^5)*y^2 - 4*(2*x^11 - x^7)*y) - 2*(128*x^2*y^10 + 32*y^11 + 48*(4*x^4 - x)*y^9 + x^8*y + 4*(32*x^6 - 40*x^3 + x)*y^8 + 4*(8*x^8 - 48*x^5 + 5*x^3 + 7*x^2)*y^7 - 4*(24*x^7 - 11*x^5 - 19*x^4 + x^2)*y^6 - 2*(8*x^9 - 26*x^7 - 34*x^6 + 6*x^4 + 5*x^3)*y^5 + (32*x^9 + 20*x^8 - 16*x^6 - 22*x^5 + x^3)*y^4 + (8*x^11 - 12*x^8 - 14*x^7 + x^5 + 2*x^4)*y^3 - (4*x^10 + 2*x^9 - 3*x^6)*y^2)*diff(w(x, y), y)/(x^9 - 16*(2*x^3 + x^2)*y^8 - 4*(32*x^5 + 12*x^4 - 2*x^3 - x^2)*y^7 - 4*(48*x^7 + 12*x^6 - 10*x^5 - 10*x^4 - 7*x^3)*y^6 - 2*(64*x^9 + 8*x^8 - 44*x^7 - 50*x^6 - 32*x^5 + 2*x^4 + 3*x^3)*y^5 - 4*(8*x^11 - 26*x^9 - 24*x^8 - 11*x^7 + 2*x^6 + 6*x^5 + 4*x^4)*y^4 + 2*(32*x^11 + 16*x^10 + 4*x^9 - 2*x^8 - 21*x^7 - 12*x^6 + x^4)*y^3 + (16*x^13 - 32*x^9 - 8*x^8 + x^6 + 4*x^5)*y^2 - 4*(2*x^11 - x^7)*y) - 32*(16*x^2*y^10 + x^6*y^5 + 4*y^11 + 4*(6*x^4 - x)*y^9 + 4*(4*x^6 - 3*x^3)*y^8 + (4*x^8 - 12*x^5 + x^2)*y^7 - 2*(2*x^7 - x^4)*y^6)*diff(z(x, y), x)/(x^9 - 16*(2*x^3 + x^2)*y^8 - 4*(32*x^5 + 12*x^4 - 2*x^3 - x^2)*y^7 - 4*(48*x^7 + 12*x^6 - 10*x^5 - 10*x^4 - 7*x^3)*y^6 - 2*(64*x^9 + 8*x^8 - 44*x^7 - 50*x^6 - 32*x^5 + 2*x^4 + 3*x^3)*y^5 - 4*(8*x^11 - 26*x^9 - 24*x^8 - 11*x^7 + 2*x^6 + 6*x^5 + 4*x^4)*y^4 + 2*(32*x^11 + 16*x^10 + 4*x^9 - 2*x^8 - 21*x^7 - 12*x^6 + x^4)*y^3 + (16*x^13 - 32*x^9 - 8*x^8 + x^6 + 4*x^5)*y^2 - 4*(2*x^11 - x^7)*y) + diff(z(x, y), y, y)"
      ]
     },
     "metadata": {},
     "output_type": "display_data"
    },
    {
     "name": "stdout",
     "output_type": "stream",
     "text": [
      "===================================================== 4\n",
      "--------------------------------------- entering reduce\n",
      "--------------------------------------- entering reduce\n",
      "--------------------------------------- entering reduce\n",
      "--------------------------------------- entering reduce\n",
      "no reduction\n",
      "This is the new System........\n"
     ]
    },
    {
     "data": {
      "text/html": [
       "<html><script type=\"math/tex; mode=display\">\\newcommand{\\Bold}[1]{\\mathbf{#1}}\\frac{{\\left(x^{4} - 2 \\, {\\left(2 \\, x^{2} + x\\right)} y^{3} - 2 \\, {\\left(4 \\, x^{4} + x^{3}\\right)} y^{2} - 2 \\, {\\left(2 \\, x^{6} - x^{2}\\right)} y\\right)} \\frac{\\partial}{\\partial y}z\\left(x, y\\right)}{4 \\, {\\left(4 \\, x^{2} y^{4} - x^{3} y^{2} + 2 \\, y^{5} + {\\left(2 \\, x^{4} - x\\right)} y^{3}\\right)}} + \\frac{w\\left(x, y\\right)}{2 \\, y} + \\frac{\\partial}{\\partial x}z\\left(x, y\\right)</script></html>"
      ],
      "text/latex": [
       "\\begin{math}\n",
       "\\newcommand{\\Bold}[1]{\\mathbf{#1}}\\frac{{\\left(x^{4} - 2 \\, {\\left(2 \\, x^{2} + x\\right)} y^{3} - 2 \\, {\\left(4 \\, x^{4} + x^{3}\\right)} y^{2} - 2 \\, {\\left(2 \\, x^{6} - x^{2}\\right)} y\\right)} \\frac{\\partial}{\\partial y}z\\left(x, y\\right)}{4 \\, {\\left(4 \\, x^{2} y^{4} - x^{3} y^{2} + 2 \\, y^{5} + {\\left(2 \\, x^{4} - x\\right)} y^{3}\\right)}} + \\frac{w\\left(x, y\\right)}{2 \\, y} + \\frac{\\partial}{\\partial x}z\\left(x, y\\right)\n",
       "\\end{math}"
      ],
      "text/plain": [
       "1/4*(x^4 - 2*(2*x^2 + x)*y^3 - 2*(4*x^4 + x^3)*y^2 - 2*(2*x^6 - x^2)*y)*diff(z(x, y), y)/(4*x^2*y^4 - x^3*y^2 + 2*y^5 + (2*x^4 - x)*y^3) + 1/2*w(x, y)/y + diff(z(x, y), x)"
      ]
     },
     "metadata": {},
     "output_type": "display_data"
    },
    {
     "data": {
      "text/html": [
       "<html><script type=\"math/tex; mode=display\">\\newcommand{\\Bold}[1]{\\mathbf{#1}}\\frac{{\\left(x^{3} + x y\\right)} w\\left(x, y\\right)}{2 \\, x^{2} y^{3} - x^{3} y + 2 \\, y^{4} - 2 \\, x y^{2}} + \\frac{2 \\, {\\left(2 \\, x^{2} y^{2} + 2 \\, y^{3} - x y\\right)} \\frac{\\partial}{\\partial x}z\\left(x, y\\right)}{2 \\, x^{2} y^{2} - x^{3} + 2 \\, y^{3} - 2 \\, x y} - \\frac{2 \\, {\\left(x^{4} + x^{2} y\\right)} \\frac{\\partial}{\\partial y}z\\left(x, y\\right)}{2 \\, x^{2} y^{2} - x^{3} + 2 \\, y^{3} - 2 \\, x y} + \\frac{\\partial}{\\partial y}w\\left(x, y\\right)</script></html>"
      ],
      "text/latex": [
       "\\begin{math}\n",
       "\\newcommand{\\Bold}[1]{\\mathbf{#1}}\\frac{{\\left(x^{3} + x y\\right)} w\\left(x, y\\right)}{2 \\, x^{2} y^{3} - x^{3} y + 2 \\, y^{4} - 2 \\, x y^{2}} + \\frac{2 \\, {\\left(2 \\, x^{2} y^{2} + 2 \\, y^{3} - x y\\right)} \\frac{\\partial}{\\partial x}z\\left(x, y\\right)}{2 \\, x^{2} y^{2} - x^{3} + 2 \\, y^{3} - 2 \\, x y} - \\frac{2 \\, {\\left(x^{4} + x^{2} y\\right)} \\frac{\\partial}{\\partial y}z\\left(x, y\\right)}{2 \\, x^{2} y^{2} - x^{3} + 2 \\, y^{3} - 2 \\, x y} + \\frac{\\partial}{\\partial y}w\\left(x, y\\right)\n",
       "\\end{math}"
      ],
      "text/plain": [
       "(x^3 + x*y)*w(x, y)/(2*x^2*y^3 - x^3*y + 2*y^4 - 2*x*y^2) + 2*(2*x^2*y^2 + 2*y^3 - x*y)*diff(z(x, y), x)/(2*x^2*y^2 - x^3 + 2*y^3 - 2*x*y) - 2*(x^4 + x^2*y)*diff(z(x, y), y)/(2*x^2*y^2 - x^3 + 2*y^3 - 2*x*y) + diff(w(x, y), y)"
      ]
     },
     "metadata": {},
     "output_type": "display_data"
    },
    {
     "data": {
      "text/html": [
       "<html><script type=\"math/tex; mode=display\">\\newcommand{\\Bold}[1]{\\mathbf{#1}}\\frac{{\\left(16 \\, {\\left(2 \\, x^{2} + x\\right)} y^{8} - x^{8} + 4 \\, {\\left(32 \\, x^{4} + 12 \\, x^{3} - 2 \\, x^{2} - x\\right)} y^{7} + 4 \\, {\\left(48 \\, x^{6} + 12 \\, x^{5} - 10 \\, x^{4} - 10 \\, x^{3} - 7 \\, x^{2}\\right)} y^{6} + 2 \\, {\\left(64 \\, x^{8} + 8 \\, x^{7} - 44 \\, x^{6} - 50 \\, x^{5} - 32 \\, x^{4} + 2 \\, x^{3} + 3 \\, x^{2}\\right)} y^{5} + 4 \\, {\\left(8 \\, x^{10} - 26 \\, x^{8} - 24 \\, x^{7} - 11 \\, x^{6} + 2 \\, x^{5} + 6 \\, x^{4} + 4 \\, x^{3}\\right)} y^{4} - 2 \\, {\\left(32 \\, x^{10} + 16 \\, x^{9} + 4 \\, x^{8} - 2 \\, x^{7} - 21 \\, x^{6} - 12 \\, x^{5} + x^{3}\\right)} y^{3} - {\\left(16 \\, x^{12} - 32 \\, x^{8} - 8 \\, x^{7} + x^{5} + 4 \\, x^{4}\\right)} y^{2} + 4 \\, {\\left(2 \\, x^{10} - x^{6}\\right)} y\\right)} w\\left(x, y\\right)}{4 \\, {\\left(12 \\, x^{2} y^{9} + 4 \\, y^{10} + x^{4} y^{5} + 4 \\, {\\left(3 \\, x^{4} - x\\right)} y^{8} + 4 \\, {\\left(x^{6} - 2 \\, x^{3}\\right)} y^{7} - {\\left(4 \\, x^{5} - x^{2}\\right)} y^{6}\\right)}} - \\frac{{\\left(16 \\, {\\left(2 \\, x - 1\\right)} y^{9} + 4 \\, {\\left(32 \\, x^{3} - 12 \\, x^{2} - 2 \\, x - 1\\right)} y^{8} + 4 \\, {\\left(48 \\, x^{5} - 12 \\, x^{4} - 10 \\, x^{3} - 10 \\, x^{2} + 5 \\, x\\right)} y^{7} + 2 \\, {\\left(64 \\, x^{7} - 8 \\, x^{6} - 44 \\, x^{5} - 50 \\, x^{4} + 24 \\, x^{3} + 2 \\, x^{2} + x\\right)} y^{6} - x^{6} + 4 \\, {\\left(8 \\, x^{9} - 26 \\, x^{7} - 24 \\, x^{6} + 9 \\, x^{5} + 2 \\, x^{4} + 2 \\, x^{3} - 3 \\, x^{2}\\right)} y^{5} - 2 \\, {\\left(32 \\, x^{9} + 16 \\, x^{8} - 4 \\, x^{7} - 2 \\, x^{6} - 7 \\, x^{5} + 12 \\, x^{4} - x^{2}\\right)} y^{4} - {\\left(16 \\, x^{11} - 8 \\, x^{7} + 12 \\, x^{6} - 7 \\, x^{4} - 6 \\, x^{3}\\right)} y^{3} + {\\left(8 \\, x^{6} + 8 \\, x^{5} - x^{3}\\right)} y^{2} + {\\left(4 \\, x^{8} + x^{7} - 2 \\, x^{4}\\right)} y\\right)} \\frac{\\partial}{\\partial y}w\\left(x, y\\right)}{4 \\, {\\left(12 \\, x^{2} y^{7} + 4 \\, y^{8} + x^{4} y^{3} + 4 \\, {\\left(3 \\, x^{4} - x\\right)} y^{6} + 4 \\, {\\left(x^{6} - 2 \\, x^{3}\\right)} y^{5} - {\\left(4 \\, x^{5} - x^{2}\\right)} y^{4}\\right)}} - \\frac{{\\left(16 \\, {\\left(2 \\, x - 1\\right)} y^{8} + 4 \\, {\\left(32 \\, x^{3} - 12 \\, x^{2} - 2 \\, x - 1\\right)} y^{7} - x^{7} + 4 \\, {\\left(48 \\, x^{5} - 12 \\, x^{4} - 10 \\, x^{3} - 10 \\, x^{2} + x\\right)} y^{6} + 2 \\, {\\left(64 \\, x^{7} - 8 \\, x^{6} - 44 \\, x^{5} - 50 \\, x^{4} + 2 \\, x^{2} + 3 \\, x\\right)} y^{5} + 4 \\, {\\left(8 \\, x^{9} - 26 \\, x^{7} - 24 \\, x^{6} - 3 \\, x^{5} + 2 \\, x^{4} + 6 \\, x^{3} + 2 \\, x^{2}\\right)} y^{4} - 2 \\, {\\left(32 \\, x^{9} + 16 \\, x^{8} + 4 \\, x^{7} - 2 \\, x^{6} - 21 \\, x^{5} - 8 \\, x^{4} + x^{2}\\right)} y^{3} - {\\left(16 \\, x^{11} - 32 \\, x^{7} - 8 \\, x^{6} + x^{4} + 4 \\, x^{3}\\right)} y^{2} + 4 \\, {\\left(2 \\, x^{9} - x^{5}\\right)} y\\right)} \\frac{\\partial}{\\partial x}z\\left(x, y\\right)}{2 \\, {\\left(12 \\, x^{2} y^{6} + 4 \\, y^{7} + x^{4} y^{2} + 4 \\, {\\left(3 \\, x^{4} - x\\right)} y^{5} + 4 \\, {\\left(x^{6} - 2 \\, x^{3}\\right)} y^{4} - {\\left(4 \\, x^{5} - x^{2}\\right)} y^{3}\\right)}} + \\frac{\\partial}{\\partial x}w\\left(x, y\\right)</script></html>"
      ],
      "text/latex": [
       "\\begin{math}\n",
       "\\newcommand{\\Bold}[1]{\\mathbf{#1}}\\frac{{\\left(16 \\, {\\left(2 \\, x^{2} + x\\right)} y^{8} - x^{8} + 4 \\, {\\left(32 \\, x^{4} + 12 \\, x^{3} - 2 \\, x^{2} - x\\right)} y^{7} + 4 \\, {\\left(48 \\, x^{6} + 12 \\, x^{5} - 10 \\, x^{4} - 10 \\, x^{3} - 7 \\, x^{2}\\right)} y^{6} + 2 \\, {\\left(64 \\, x^{8} + 8 \\, x^{7} - 44 \\, x^{6} - 50 \\, x^{5} - 32 \\, x^{4} + 2 \\, x^{3} + 3 \\, x^{2}\\right)} y^{5} + 4 \\, {\\left(8 \\, x^{10} - 26 \\, x^{8} - 24 \\, x^{7} - 11 \\, x^{6} + 2 \\, x^{5} + 6 \\, x^{4} + 4 \\, x^{3}\\right)} y^{4} - 2 \\, {\\left(32 \\, x^{10} + 16 \\, x^{9} + 4 \\, x^{8} - 2 \\, x^{7} - 21 \\, x^{6} - 12 \\, x^{5} + x^{3}\\right)} y^{3} - {\\left(16 \\, x^{12} - 32 \\, x^{8} - 8 \\, x^{7} + x^{5} + 4 \\, x^{4}\\right)} y^{2} + 4 \\, {\\left(2 \\, x^{10} - x^{6}\\right)} y\\right)} w\\left(x, y\\right)}{4 \\, {\\left(12 \\, x^{2} y^{9} + 4 \\, y^{10} + x^{4} y^{5} + 4 \\, {\\left(3 \\, x^{4} - x\\right)} y^{8} + 4 \\, {\\left(x^{6} - 2 \\, x^{3}\\right)} y^{7} - {\\left(4 \\, x^{5} - x^{2}\\right)} y^{6}\\right)}} - \\frac{{\\left(16 \\, {\\left(2 \\, x - 1\\right)} y^{9} + 4 \\, {\\left(32 \\, x^{3} - 12 \\, x^{2} - 2 \\, x - 1\\right)} y^{8} + 4 \\, {\\left(48 \\, x^{5} - 12 \\, x^{4} - 10 \\, x^{3} - 10 \\, x^{2} + 5 \\, x\\right)} y^{7} + 2 \\, {\\left(64 \\, x^{7} - 8 \\, x^{6} - 44 \\, x^{5} - 50 \\, x^{4} + 24 \\, x^{3} + 2 \\, x^{2} + x\\right)} y^{6} - x^{6} + 4 \\, {\\left(8 \\, x^{9} - 26 \\, x^{7} - 24 \\, x^{6} + 9 \\, x^{5} + 2 \\, x^{4} + 2 \\, x^{3} - 3 \\, x^{2}\\right)} y^{5} - 2 \\, {\\left(32 \\, x^{9} + 16 \\, x^{8} - 4 \\, x^{7} - 2 \\, x^{6} - 7 \\, x^{5} + 12 \\, x^{4} - x^{2}\\right)} y^{4} - {\\left(16 \\, x^{11} - 8 \\, x^{7} + 12 \\, x^{6} - 7 \\, x^{4} - 6 \\, x^{3}\\right)} y^{3} + {\\left(8 \\, x^{6} + 8 \\, x^{5} - x^{3}\\right)} y^{2} + {\\left(4 \\, x^{8} + x^{7} - 2 \\, x^{4}\\right)} y\\right)} \\frac{\\partial}{\\partial y}w\\left(x, y\\right)}{4 \\, {\\left(12 \\, x^{2} y^{7} + 4 \\, y^{8} + x^{4} y^{3} + 4 \\, {\\left(3 \\, x^{4} - x\\right)} y^{6} + 4 \\, {\\left(x^{6} - 2 \\, x^{3}\\right)} y^{5} - {\\left(4 \\, x^{5} - x^{2}\\right)} y^{4}\\right)}} - \\frac{{\\left(16 \\, {\\left(2 \\, x - 1\\right)} y^{8} + 4 \\, {\\left(32 \\, x^{3} - 12 \\, x^{2} - 2 \\, x - 1\\right)} y^{7} - x^{7} + 4 \\, {\\left(48 \\, x^{5} - 12 \\, x^{4} - 10 \\, x^{3} - 10 \\, x^{2} + x\\right)} y^{6} + 2 \\, {\\left(64 \\, x^{7} - 8 \\, x^{6} - 44 \\, x^{5} - 50 \\, x^{4} + 2 \\, x^{2} + 3 \\, x\\right)} y^{5} + 4 \\, {\\left(8 \\, x^{9} - 26 \\, x^{7} - 24 \\, x^{6} - 3 \\, x^{5} + 2 \\, x^{4} + 6 \\, x^{3} + 2 \\, x^{2}\\right)} y^{4} - 2 \\, {\\left(32 \\, x^{9} + 16 \\, x^{8} + 4 \\, x^{7} - 2 \\, x^{6} - 21 \\, x^{5} - 8 \\, x^{4} + x^{2}\\right)} y^{3} - {\\left(16 \\, x^{11} - 32 \\, x^{7} - 8 \\, x^{6} + x^{4} + 4 \\, x^{3}\\right)} y^{2} + 4 \\, {\\left(2 \\, x^{9} - x^{5}\\right)} y\\right)} \\frac{\\partial}{\\partial x}z\\left(x, y\\right)}{2 \\, {\\left(12 \\, x^{2} y^{6} + 4 \\, y^{7} + x^{4} y^{2} + 4 \\, {\\left(3 \\, x^{4} - x\\right)} y^{5} + 4 \\, {\\left(x^{6} - 2 \\, x^{3}\\right)} y^{4} - {\\left(4 \\, x^{5} - x^{2}\\right)} y^{3}\\right)}} + \\frac{\\partial}{\\partial x}w\\left(x, y\\right)\n",
       "\\end{math}"
      ],
      "text/plain": [
       "1/4*(16*(2*x^2 + x)*y^8 - x^8 + 4*(32*x^4 + 12*x^3 - 2*x^2 - x)*y^7 + 4*(48*x^6 + 12*x^5 - 10*x^4 - 10*x^3 - 7*x^2)*y^6 + 2*(64*x^8 + 8*x^7 - 44*x^6 - 50*x^5 - 32*x^4 + 2*x^3 + 3*x^2)*y^5 + 4*(8*x^10 - 26*x^8 - 24*x^7 - 11*x^6 + 2*x^5 + 6*x^4 + 4*x^3)*y^4 - 2*(32*x^10 + 16*x^9 + 4*x^8 - 2*x^7 - 21*x^6 - 12*x^5 + x^3)*y^3 - (16*x^12 - 32*x^8 - 8*x^7 + x^5 + 4*x^4)*y^2 + 4*(2*x^10 - x^6)*y)*w(x, y)/(12*x^2*y^9 + 4*y^10 + x^4*y^5 + 4*(3*x^4 - x)*y^8 + 4*(x^6 - 2*x^3)*y^7 - (4*x^5 - x^2)*y^6) - 1/4*(16*(2*x - 1)*y^9 + 4*(32*x^3 - 12*x^2 - 2*x - 1)*y^8 + 4*(48*x^5 - 12*x^4 - 10*x^3 - 10*x^2 + 5*x)*y^7 + 2*(64*x^7 - 8*x^6 - 44*x^5 - 50*x^4 + 24*x^3 + 2*x^2 + x)*y^6 - x^6 + 4*(8*x^9 - 26*x^7 - 24*x^6 + 9*x^5 + 2*x^4 + 2*x^3 - 3*x^2)*y^5 - 2*(32*x^9 + 16*x^8 - 4*x^7 - 2*x^6 - 7*x^5 + 12*x^4 - x^2)*y^4 - (16*x^11 - 8*x^7 + 12*x^6 - 7*x^4 - 6*x^3)*y^3 + (8*x^6 + 8*x^5 - x^3)*y^2 + (4*x^8 + x^7 - 2*x^4)*y)*diff(w(x, y), y)/(12*x^2*y^7 + 4*y^8 + x^4*y^3 + 4*(3*x^4 - x)*y^6 + 4*(x^6 - 2*x^3)*y^5 - (4*x^5 - x^2)*y^4) - 1/2*(16*(2*x - 1)*y^8 + 4*(32*x^3 - 12*x^2 - 2*x - 1)*y^7 - x^7 + 4*(48*x^5 - 12*x^4 - 10*x^3 - 10*x^2 + x)*y^6 + 2*(64*x^7 - 8*x^6 - 44*x^5 - 50*x^4 + 2*x^2 + 3*x)*y^5 + 4*(8*x^9 - 26*x^7 - 24*x^6 - 3*x^5 + 2*x^4 + 6*x^3 + 2*x^2)*y^4 - 2*(32*x^9 + 16*x^8 + 4*x^7 - 2*x^6 - 21*x^5 - 8*x^4 + x^2)*y^3 - (16*x^11 - 32*x^7 - 8*x^6 + x^4 + 4*x^3)*y^2 + 4*(2*x^9 - x^5)*y)*diff(z(x, y), x)/(12*x^2*y^6 + 4*y^7 + x^4*y^2 + 4*(3*x^4 - x)*y^5 + 4*(x^6 - 2*x^3)*y^4 - (4*x^5 - x^2)*y^3) + diff(w(x, y), x)"
      ]
     },
     "metadata": {},
     "output_type": "display_data"
    },
    {
     "data": {
      "text/html": [
       "<html><script type=\"math/tex; mode=display\">\\newcommand{\\Bold}[1]{\\mathbf{#1}}-\\frac{{\\left(x^{4} - 2 \\, {\\left(3 \\, x^{2} + x\\right)} y^{3} - 2 \\, y^{4} - {\\left(8 \\, x^{4} + 2 \\, x^{3} - x\\right)} y^{2} - 2 \\, {\\left(2 \\, x^{6} - x^{2}\\right)} y\\right)} \\frac{\\partial}{\\partial y}w\\left(x, y\\right)}{2 \\, {\\left(4 \\, x^{2} y^{3} - x^{3} y + 2 \\, y^{4} + {\\left(2 \\, x^{4} - x\\right)} y^{2}\\right)}} - \\frac{{\\left(x^{4} - 2 \\, {\\left(3 \\, x^{2} + x\\right)} y^{3} - 2 \\, y^{4} - {\\left(8 \\, x^{4} + 2 \\, x^{3} - x\\right)} y^{2} - 2 \\, {\\left(2 \\, x^{6} - x^{2}\\right)} y\\right)} \\frac{\\partial}{\\partial x}z\\left(x, y\\right)}{4 \\, x^{2} y^{3} - x^{3} y + 2 \\, y^{4} + {\\left(2 \\, x^{4} - x\\right)} y^{2}} + \\frac{\\partial}{\\partial x}w\\left(x, y\\right)</script></html>"
      ],
      "text/latex": [
       "\\begin{math}\n",
       "\\newcommand{\\Bold}[1]{\\mathbf{#1}}-\\frac{{\\left(x^{4} - 2 \\, {\\left(3 \\, x^{2} + x\\right)} y^{3} - 2 \\, y^{4} - {\\left(8 \\, x^{4} + 2 \\, x^{3} - x\\right)} y^{2} - 2 \\, {\\left(2 \\, x^{6} - x^{2}\\right)} y\\right)} \\frac{\\partial}{\\partial y}w\\left(x, y\\right)}{2 \\, {\\left(4 \\, x^{2} y^{3} - x^{3} y + 2 \\, y^{4} + {\\left(2 \\, x^{4} - x\\right)} y^{2}\\right)}} - \\frac{{\\left(x^{4} - 2 \\, {\\left(3 \\, x^{2} + x\\right)} y^{3} - 2 \\, y^{4} - {\\left(8 \\, x^{4} + 2 \\, x^{3} - x\\right)} y^{2} - 2 \\, {\\left(2 \\, x^{6} - x^{2}\\right)} y\\right)} \\frac{\\partial}{\\partial x}z\\left(x, y\\right)}{4 \\, x^{2} y^{3} - x^{3} y + 2 \\, y^{4} + {\\left(2 \\, x^{4} - x\\right)} y^{2}} + \\frac{\\partial}{\\partial x}w\\left(x, y\\right)\n",
       "\\end{math}"
      ],
      "text/plain": [
       "-1/2*(x^4 - 2*(3*x^2 + x)*y^3 - 2*y^4 - (8*x^4 + 2*x^3 - x)*y^2 - 2*(2*x^6 - x^2)*y)*diff(w(x, y), y)/(4*x^2*y^3 - x^3*y + 2*y^4 + (2*x^4 - x)*y^2) - (x^4 - 2*(3*x^2 + x)*y^3 - 2*y^4 - (8*x^4 + 2*x^3 - x)*y^2 - 2*(2*x^6 - x^2)*y)*diff(z(x, y), x)/(4*x^2*y^3 - x^3*y + 2*y^4 + (2*x^4 - x)*y^2) + diff(w(x, y), x)"
      ]
     },
     "metadata": {},
     "output_type": "display_data"
    },
    {
     "data": {
      "text/html": [
       "<html><script type=\"math/tex; mode=display\">\\newcommand{\\Bold}[1]{\\mathbf{#1}}-\\frac{8 \\, {\\left(16 \\, x^{2} y^{9} + x^{6} y^{4} + 4 \\, y^{10} + 4 \\, {\\left(6 \\, x^{4} - x\\right)} y^{8} + 4 \\, {\\left(4 \\, x^{6} - 3 \\, x^{3}\\right)} y^{7} + {\\left(4 \\, x^{8} - 12 \\, x^{5} + x^{2}\\right)} y^{6} - 2 \\, {\\left(2 \\, x^{7} - x^{4}\\right)} y^{5}\\right)} \\frac{\\partial}{\\partial x}w\\left(x, y\\right)}{x^{9} - 16 \\, {\\left(2 \\, x^{3} + x^{2}\\right)} y^{8} - 4 \\, {\\left(32 \\, x^{5} + 12 \\, x^{4} - 2 \\, x^{3} - x^{2}\\right)} y^{7} - 4 \\, {\\left(48 \\, x^{7} + 12 \\, x^{6} - 10 \\, x^{5} - 10 \\, x^{4} - 7 \\, x^{3}\\right)} y^{6} - 2 \\, {\\left(64 \\, x^{9} + 8 \\, x^{8} - 44 \\, x^{7} - 50 \\, x^{6} - 32 \\, x^{5} + 2 \\, x^{4} + 3 \\, x^{3}\\right)} y^{5} - 4 \\, {\\left(8 \\, x^{11} - 26 \\, x^{9} - 24 \\, x^{8} - 11 \\, x^{7} + 2 \\, x^{6} + 6 \\, x^{5} + 4 \\, x^{4}\\right)} y^{4} + 2 \\, {\\left(32 \\, x^{11} + 16 \\, x^{10} + 4 \\, x^{9} - 2 \\, x^{8} - 21 \\, x^{7} - 12 \\, x^{6} + x^{4}\\right)} y^{3} + {\\left(16 \\, x^{13} - 32 \\, x^{9} - 8 \\, x^{8} + x^{6} + 4 \\, x^{5}\\right)} y^{2} - 4 \\, {\\left(2 \\, x^{11} - x^{7}\\right)} y} - \\frac{2 \\, {\\left(128 \\, x^{2} y^{10} + 32 \\, y^{11} + 48 \\, {\\left(4 \\, x^{4} - x\\right)} y^{9} + x^{8} y + 4 \\, {\\left(32 \\, x^{6} - 40 \\, x^{3} + x\\right)} y^{8} + 4 \\, {\\left(8 \\, x^{8} - 48 \\, x^{5} + 5 \\, x^{3} + 7 \\, x^{2}\\right)} y^{7} - 4 \\, {\\left(24 \\, x^{7} - 11 \\, x^{5} - 19 \\, x^{4} + x^{2}\\right)} y^{6} - 2 \\, {\\left(8 \\, x^{9} - 26 \\, x^{7} - 34 \\, x^{6} + 6 \\, x^{4} + 5 \\, x^{3}\\right)} y^{5} + {\\left(32 \\, x^{9} + 20 \\, x^{8} - 16 \\, x^{6} - 22 \\, x^{5} + x^{3}\\right)} y^{4} + {\\left(8 \\, x^{11} - 12 \\, x^{8} - 14 \\, x^{7} + x^{5} + 2 \\, x^{4}\\right)} y^{3} - {\\left(4 \\, x^{10} + 2 \\, x^{9} - 3 \\, x^{6}\\right)} y^{2}\\right)} \\frac{\\partial}{\\partial y}w\\left(x, y\\right)}{x^{9} - 16 \\, {\\left(2 \\, x^{3} + x^{2}\\right)} y^{8} - 4 \\, {\\left(32 \\, x^{5} + 12 \\, x^{4} - 2 \\, x^{3} - x^{2}\\right)} y^{7} - 4 \\, {\\left(48 \\, x^{7} + 12 \\, x^{6} - 10 \\, x^{5} - 10 \\, x^{4} - 7 \\, x^{3}\\right)} y^{6} - 2 \\, {\\left(64 \\, x^{9} + 8 \\, x^{8} - 44 \\, x^{7} - 50 \\, x^{6} - 32 \\, x^{5} + 2 \\, x^{4} + 3 \\, x^{3}\\right)} y^{5} - 4 \\, {\\left(8 \\, x^{11} - 26 \\, x^{9} - 24 \\, x^{8} - 11 \\, x^{7} + 2 \\, x^{6} + 6 \\, x^{5} + 4 \\, x^{4}\\right)} y^{4} + 2 \\, {\\left(32 \\, x^{11} + 16 \\, x^{10} + 4 \\, x^{9} - 2 \\, x^{8} - 21 \\, x^{7} - 12 \\, x^{6} + x^{4}\\right)} y^{3} + {\\left(16 \\, x^{13} - 32 \\, x^{9} - 8 \\, x^{8} + x^{6} + 4 \\, x^{5}\\right)} y^{2} - 4 \\, {\\left(2 \\, x^{11} - x^{7}\\right)} y} - \\frac{32 \\, {\\left(16 \\, x^{2} y^{10} + x^{6} y^{5} + 4 \\, y^{11} + 4 \\, {\\left(6 \\, x^{4} - x\\right)} y^{9} + 4 \\, {\\left(4 \\, x^{6} - 3 \\, x^{3}\\right)} y^{8} + {\\left(4 \\, x^{8} - 12 \\, x^{5} + x^{2}\\right)} y^{7} - 2 \\, {\\left(2 \\, x^{7} - x^{4}\\right)} y^{6}\\right)} \\frac{\\partial}{\\partial x}z\\left(x, y\\right)}{x^{9} - 16 \\, {\\left(2 \\, x^{3} + x^{2}\\right)} y^{8} - 4 \\, {\\left(32 \\, x^{5} + 12 \\, x^{4} - 2 \\, x^{3} - x^{2}\\right)} y^{7} - 4 \\, {\\left(48 \\, x^{7} + 12 \\, x^{6} - 10 \\, x^{5} - 10 \\, x^{4} - 7 \\, x^{3}\\right)} y^{6} - 2 \\, {\\left(64 \\, x^{9} + 8 \\, x^{8} - 44 \\, x^{7} - 50 \\, x^{6} - 32 \\, x^{5} + 2 \\, x^{4} + 3 \\, x^{3}\\right)} y^{5} - 4 \\, {\\left(8 \\, x^{11} - 26 \\, x^{9} - 24 \\, x^{8} - 11 \\, x^{7} + 2 \\, x^{6} + 6 \\, x^{5} + 4 \\, x^{4}\\right)} y^{4} + 2 \\, {\\left(32 \\, x^{11} + 16 \\, x^{10} + 4 \\, x^{9} - 2 \\, x^{8} - 21 \\, x^{7} - 12 \\, x^{6} + x^{4}\\right)} y^{3} + {\\left(16 \\, x^{13} - 32 \\, x^{9} - 8 \\, x^{8} + x^{6} + 4 \\, x^{5}\\right)} y^{2} - 4 \\, {\\left(2 \\, x^{11} - x^{7}\\right)} y} + \\frac{\\partial^{2}}{(\\partial y)^{2}}z\\left(x, y\\right)</script></html>"
      ],
      "text/latex": [
       "\\begin{math}\n",
       "\\newcommand{\\Bold}[1]{\\mathbf{#1}}-\\frac{8 \\, {\\left(16 \\, x^{2} y^{9} + x^{6} y^{4} + 4 \\, y^{10} + 4 \\, {\\left(6 \\, x^{4} - x\\right)} y^{8} + 4 \\, {\\left(4 \\, x^{6} - 3 \\, x^{3}\\right)} y^{7} + {\\left(4 \\, x^{8} - 12 \\, x^{5} + x^{2}\\right)} y^{6} - 2 \\, {\\left(2 \\, x^{7} - x^{4}\\right)} y^{5}\\right)} \\frac{\\partial}{\\partial x}w\\left(x, y\\right)}{x^{9} - 16 \\, {\\left(2 \\, x^{3} + x^{2}\\right)} y^{8} - 4 \\, {\\left(32 \\, x^{5} + 12 \\, x^{4} - 2 \\, x^{3} - x^{2}\\right)} y^{7} - 4 \\, {\\left(48 \\, x^{7} + 12 \\, x^{6} - 10 \\, x^{5} - 10 \\, x^{4} - 7 \\, x^{3}\\right)} y^{6} - 2 \\, {\\left(64 \\, x^{9} + 8 \\, x^{8} - 44 \\, x^{7} - 50 \\, x^{6} - 32 \\, x^{5} + 2 \\, x^{4} + 3 \\, x^{3}\\right)} y^{5} - 4 \\, {\\left(8 \\, x^{11} - 26 \\, x^{9} - 24 \\, x^{8} - 11 \\, x^{7} + 2 \\, x^{6} + 6 \\, x^{5} + 4 \\, x^{4}\\right)} y^{4} + 2 \\, {\\left(32 \\, x^{11} + 16 \\, x^{10} + 4 \\, x^{9} - 2 \\, x^{8} - 21 \\, x^{7} - 12 \\, x^{6} + x^{4}\\right)} y^{3} + {\\left(16 \\, x^{13} - 32 \\, x^{9} - 8 \\, x^{8} + x^{6} + 4 \\, x^{5}\\right)} y^{2} - 4 \\, {\\left(2 \\, x^{11} - x^{7}\\right)} y} - \\frac{2 \\, {\\left(128 \\, x^{2} y^{10} + 32 \\, y^{11} + 48 \\, {\\left(4 \\, x^{4} - x\\right)} y^{9} + x^{8} y + 4 \\, {\\left(32 \\, x^{6} - 40 \\, x^{3} + x\\right)} y^{8} + 4 \\, {\\left(8 \\, x^{8} - 48 \\, x^{5} + 5 \\, x^{3} + 7 \\, x^{2}\\right)} y^{7} - 4 \\, {\\left(24 \\, x^{7} - 11 \\, x^{5} - 19 \\, x^{4} + x^{2}\\right)} y^{6} - 2 \\, {\\left(8 \\, x^{9} - 26 \\, x^{7} - 34 \\, x^{6} + 6 \\, x^{4} + 5 \\, x^{3}\\right)} y^{5} + {\\left(32 \\, x^{9} + 20 \\, x^{8} - 16 \\, x^{6} - 22 \\, x^{5} + x^{3}\\right)} y^{4} + {\\left(8 \\, x^{11} - 12 \\, x^{8} - 14 \\, x^{7} + x^{5} + 2 \\, x^{4}\\right)} y^{3} - {\\left(4 \\, x^{10} + 2 \\, x^{9} - 3 \\, x^{6}\\right)} y^{2}\\right)} \\frac{\\partial}{\\partial y}w\\left(x, y\\right)}{x^{9} - 16 \\, {\\left(2 \\, x^{3} + x^{2}\\right)} y^{8} - 4 \\, {\\left(32 \\, x^{5} + 12 \\, x^{4} - 2 \\, x^{3} - x^{2}\\right)} y^{7} - 4 \\, {\\left(48 \\, x^{7} + 12 \\, x^{6} - 10 \\, x^{5} - 10 \\, x^{4} - 7 \\, x^{3}\\right)} y^{6} - 2 \\, {\\left(64 \\, x^{9} + 8 \\, x^{8} - 44 \\, x^{7} - 50 \\, x^{6} - 32 \\, x^{5} + 2 \\, x^{4} + 3 \\, x^{3}\\right)} y^{5} - 4 \\, {\\left(8 \\, x^{11} - 26 \\, x^{9} - 24 \\, x^{8} - 11 \\, x^{7} + 2 \\, x^{6} + 6 \\, x^{5} + 4 \\, x^{4}\\right)} y^{4} + 2 \\, {\\left(32 \\, x^{11} + 16 \\, x^{10} + 4 \\, x^{9} - 2 \\, x^{8} - 21 \\, x^{7} - 12 \\, x^{6} + x^{4}\\right)} y^{3} + {\\left(16 \\, x^{13} - 32 \\, x^{9} - 8 \\, x^{8} + x^{6} + 4 \\, x^{5}\\right)} y^{2} - 4 \\, {\\left(2 \\, x^{11} - x^{7}\\right)} y} - \\frac{32 \\, {\\left(16 \\, x^{2} y^{10} + x^{6} y^{5} + 4 \\, y^{11} + 4 \\, {\\left(6 \\, x^{4} - x\\right)} y^{9} + 4 \\, {\\left(4 \\, x^{6} - 3 \\, x^{3}\\right)} y^{8} + {\\left(4 \\, x^{8} - 12 \\, x^{5} + x^{2}\\right)} y^{7} - 2 \\, {\\left(2 \\, x^{7} - x^{4}\\right)} y^{6}\\right)} \\frac{\\partial}{\\partial x}z\\left(x, y\\right)}{x^{9} - 16 \\, {\\left(2 \\, x^{3} + x^{2}\\right)} y^{8} - 4 \\, {\\left(32 \\, x^{5} + 12 \\, x^{4} - 2 \\, x^{3} - x^{2}\\right)} y^{7} - 4 \\, {\\left(48 \\, x^{7} + 12 \\, x^{6} - 10 \\, x^{5} - 10 \\, x^{4} - 7 \\, x^{3}\\right)} y^{6} - 2 \\, {\\left(64 \\, x^{9} + 8 \\, x^{8} - 44 \\, x^{7} - 50 \\, x^{6} - 32 \\, x^{5} + 2 \\, x^{4} + 3 \\, x^{3}\\right)} y^{5} - 4 \\, {\\left(8 \\, x^{11} - 26 \\, x^{9} - 24 \\, x^{8} - 11 \\, x^{7} + 2 \\, x^{6} + 6 \\, x^{5} + 4 \\, x^{4}\\right)} y^{4} + 2 \\, {\\left(32 \\, x^{11} + 16 \\, x^{10} + 4 \\, x^{9} - 2 \\, x^{8} - 21 \\, x^{7} - 12 \\, x^{6} + x^{4}\\right)} y^{3} + {\\left(16 \\, x^{13} - 32 \\, x^{9} - 8 \\, x^{8} + x^{6} + 4 \\, x^{5}\\right)} y^{2} - 4 \\, {\\left(2 \\, x^{11} - x^{7}\\right)} y} + \\frac{\\partial^{2}}{(\\partial y)^{2}}z\\left(x, y\\right)\n",
       "\\end{math}"
      ],
      "text/plain": [
       "-8*(16*x^2*y^9 + x^6*y^4 + 4*y^10 + 4*(6*x^4 - x)*y^8 + 4*(4*x^6 - 3*x^3)*y^7 + (4*x^8 - 12*x^5 + x^2)*y^6 - 2*(2*x^7 - x^4)*y^5)*diff(w(x, y), x)/(x^9 - 16*(2*x^3 + x^2)*y^8 - 4*(32*x^5 + 12*x^4 - 2*x^3 - x^2)*y^7 - 4*(48*x^7 + 12*x^6 - 10*x^5 - 10*x^4 - 7*x^3)*y^6 - 2*(64*x^9 + 8*x^8 - 44*x^7 - 50*x^6 - 32*x^5 + 2*x^4 + 3*x^3)*y^5 - 4*(8*x^11 - 26*x^9 - 24*x^8 - 11*x^7 + 2*x^6 + 6*x^5 + 4*x^4)*y^4 + 2*(32*x^11 + 16*x^10 + 4*x^9 - 2*x^8 - 21*x^7 - 12*x^6 + x^4)*y^3 + (16*x^13 - 32*x^9 - 8*x^8 + x^6 + 4*x^5)*y^2 - 4*(2*x^11 - x^7)*y) - 2*(128*x^2*y^10 + 32*y^11 + 48*(4*x^4 - x)*y^9 + x^8*y + 4*(32*x^6 - 40*x^3 + x)*y^8 + 4*(8*x^8 - 48*x^5 + 5*x^3 + 7*x^2)*y^7 - 4*(24*x^7 - 11*x^5 - 19*x^4 + x^2)*y^6 - 2*(8*x^9 - 26*x^7 - 34*x^6 + 6*x^4 + 5*x^3)*y^5 + (32*x^9 + 20*x^8 - 16*x^6 - 22*x^5 + x^3)*y^4 + (8*x^11 - 12*x^8 - 14*x^7 + x^5 + 2*x^4)*y^3 - (4*x^10 + 2*x^9 - 3*x^6)*y^2)*diff(w(x, y), y)/(x^9 - 16*(2*x^3 + x^2)*y^8 - 4*(32*x^5 + 12*x^4 - 2*x^3 - x^2)*y^7 - 4*(48*x^7 + 12*x^6 - 10*x^5 - 10*x^4 - 7*x^3)*y^6 - 2*(64*x^9 + 8*x^8 - 44*x^7 - 50*x^6 - 32*x^5 + 2*x^4 + 3*x^3)*y^5 - 4*(8*x^11 - 26*x^9 - 24*x^8 - 11*x^7 + 2*x^6 + 6*x^5 + 4*x^4)*y^4 + 2*(32*x^11 + 16*x^10 + 4*x^9 - 2*x^8 - 21*x^7 - 12*x^6 + x^4)*y^3 + (16*x^13 - 32*x^9 - 8*x^8 + x^6 + 4*x^5)*y^2 - 4*(2*x^11 - x^7)*y) - 32*(16*x^2*y^10 + x^6*y^5 + 4*y^11 + 4*(6*x^4 - x)*y^9 + 4*(4*x^6 - 3*x^3)*y^8 + (4*x^8 - 12*x^5 + x^2)*y^7 - 2*(2*x^7 - x^4)*y^6)*diff(z(x, y), x)/(x^9 - 16*(2*x^3 + x^2)*y^8 - 4*(32*x^5 + 12*x^4 - 2*x^3 - x^2)*y^7 - 4*(48*x^7 + 12*x^6 - 10*x^5 - 10*x^4 - 7*x^3)*y^6 - 2*(64*x^9 + 8*x^8 - 44*x^7 - 50*x^6 - 32*x^5 + 2*x^4 + 3*x^3)*y^5 - 4*(8*x^11 - 26*x^9 - 24*x^8 - 11*x^7 + 2*x^6 + 6*x^5 + 4*x^4)*y^4 + 2*(32*x^11 + 16*x^10 + 4*x^9 - 2*x^8 - 21*x^7 - 12*x^6 + x^4)*y^3 + (16*x^13 - 32*x^9 - 8*x^8 + x^6 + 4*x^5)*y^2 - 4*(2*x^11 - x^7)*y) + diff(z(x, y), y, y)"
      ]
     },
     "metadata": {},
     "output_type": "display_data"
    },
    {
     "name": "stdout",
     "output_type": "stream",
     "text": [
      "===================================================== 3\n",
      "> \u001b[0;32m<ipython-input-16-f640c8c307c8>\u001b[0m(12)\u001b[0;36mAutoreduce\u001b[0;34m()\u001b[0m\n",
      "\u001b[0;32m     10 \u001b[0;31m        \u001b[0;32mif\u001b[0m \u001b[0mlen\u001b[0m\u001b[0;34m(\u001b[0m\u001b[0mr\u001b[0m\u001b[0;34m)\u001b[0m \u001b[0;34m==\u001b[0m \u001b[0mInteger\u001b[0m\u001b[0;34m(\u001b[0m\u001b[0;36m3\u001b[0m\u001b[0;34m)\u001b[0m\u001b[0;34m:\u001b[0m\u001b[0;34m\u001b[0m\u001b[0;34m\u001b[0m\u001b[0m\n",
      "\u001b[0m\u001b[0;32m     11 \u001b[0;31m            \u001b[0mset_trace\u001b[0m\u001b[0;34m(\u001b[0m\u001b[0;34m)\u001b[0m\u001b[0;34m\u001b[0m\u001b[0;34m\u001b[0m\u001b[0m\n",
      "\u001b[0m\u001b[0;32m---> 12 \u001b[0;31m        \u001b[0mhave_reduced\u001b[0m \u001b[0;34m=\u001b[0m \u001b[0;32mFalse\u001b[0m\u001b[0;34m\u001b[0m\u001b[0;34m\u001b[0m\u001b[0m\n",
      "\u001b[0m\u001b[0;32m     13 \u001b[0;31m        \u001b[0;31m#set_trace()\u001b[0m\u001b[0;34m\u001b[0m\u001b[0;34m\u001b[0m\u001b[0;34m\u001b[0m\u001b[0m\n",
      "\u001b[0m\u001b[0;32m     14 \u001b[0;31m        \u001b[0mcheckidx\u001b[0m \u001b[0;34m=\u001b[0m \u001b[0mi\u001b[0m\u001b[0;34m+\u001b[0m\u001b[0mInteger\u001b[0m\u001b[0;34m(\u001b[0m\u001b[0;36m1\u001b[0m\u001b[0;34m)\u001b[0m\u001b[0;34m\u001b[0m\u001b[0;34m\u001b[0m\u001b[0m\n",
      "\u001b[0m\n"
     ]
    }
   ],
   "source": [
    "checkS=JanetBasis([f3,f1,f5, f2,f4], ctx)"
   ]
  },
  {
   "cell_type": "code",
   "execution_count": null,
   "id": "cfbce62b",
   "metadata": {},
   "outputs": [],
   "source": []
  },
  {
   "cell_type": "code",
   "execution_count": null,
   "id": "faba5a67",
   "metadata": {},
   "outputs": [],
   "source": []
  },
  {
   "cell_type": "code",
   "execution_count": null,
   "id": "16c7e271",
   "metadata": {},
   "outputs": [],
   "source": [
    "for _ in checkS:\n",
    "    _._orig.show()"
   ]
  },
  {
   "cell_type": "code",
   "execution_count": null,
   "id": "7fa9f2f9",
   "metadata": {},
   "outputs": [],
   "source": [
    "g1 = Differential_Polynomial (diff(z,y,y) + diff(z,y)/(2*y), ctx)\n",
    "g1._orig"
   ]
  },
  {
   "cell_type": "code",
   "execution_count": null,
   "id": "7ff81f5c",
   "metadata": {},
   "outputs": [],
   "source": [
    "g2 = Differential_Polynomial(diff(w,x,x) + 4*y*y*diff(w,y) - 8*y*y*diff(z, x) - 8*y*w(x,y), ctx)\n",
    "g2._orig"
   ]
  },
  {
   "cell_type": "code",
   "execution_count": null,
   "id": "f05c7424",
   "metadata": {},
   "outputs": [],
   "source": [
    "g3 = Differential_Polynomial(diff(w,x,y) - diff(z,x,x)/2 - diff(w,x)/(2*y) - 6*y**2*diff(z,y), ctx)\n",
    "g3._orig"
   ]
  },
  {
   "cell_type": "code",
   "execution_count": null,
   "id": "8b8ba750",
   "metadata": {},
   "outputs": [],
   "source": [
    "g4 = Differential_Polynomial(diff(w,y,y) - 2*diff(z,x,y)- diff(w,y)/(2*y) + w(x,y)/(2*y**2), ctx)\n",
    "g4._orig"
   ]
  },
  {
   "cell_type": "code",
   "execution_count": null,
   "id": "7a480d3c",
   "metadata": {},
   "outputs": [],
   "source": [
    "f1._orig"
   ]
  },
  {
   "cell_type": "code",
   "execution_count": null,
   "id": "10f20cad",
   "metadata": {},
   "outputs": [],
   "source": [
    "f4._orig"
   ]
  },
  {
   "cell_type": "code",
   "execution_count": null,
   "id": "9e33c88a",
   "metadata": {},
   "outputs": [],
   "source": [
    "print(f4.Lder(), f1.Lder())"
   ]
  },
  {
   "cell_type": "code",
   "execution_count": null,
   "id": "4a320f96",
   "metadata": {},
   "outputs": [],
   "source": [
    "f4a = reduce(f4, f1, ctx)"
   ]
  },
  {
   "cell_type": "code",
   "execution_count": null,
   "id": "f25fed71",
   "metadata": {},
   "outputs": [],
   "source": [
    "for _ in f4a._p:\n",
    "   print (_)"
   ]
  },
  {
   "cell_type": "code",
   "execution_count": null,
   "id": "0fe13ea1",
   "metadata": {},
   "outputs": [],
   "source": [
    "f4a._orig"
   ]
  },
  {
   "cell_type": "code",
   "execution_count": null,
   "id": "31713e3c",
   "metadata": {},
   "outputs": [],
   "source": [
    "wuwu=f4a._p[-1]._coeff.operands()[0]*f4a._p[-1]._coeff.operands()[1].expand().simplify_full()"
   ]
  },
  {
   "cell_type": "code",
   "execution_count": null,
   "id": "d5c16ecc",
   "metadata": {},
   "outputs": [],
   "source": [
    "f4b = reduce(f4a, f1, ctx)"
   ]
  },
  {
   "cell_type": "code",
   "execution_count": null,
   "id": "db2a42c7",
   "metadata": {},
   "outputs": [],
   "source": [
    "f4b._orig"
   ]
  },
  {
   "cell_type": "code",
   "execution_count": null,
   "id": "69af47c8",
   "metadata": {},
   "outputs": [],
   "source": [
    "functools.reduce(operator.mul, f4b._p[1]._coeff.operands()).expand().simplify_full()"
   ]
  },
  {
   "cell_type": "code",
   "execution_count": null,
   "id": "b117aa3a",
   "metadata": {},
   "outputs": [],
   "source": [
    "f4c = reduce(f4b, f2, ctx)"
   ]
  },
  {
   "cell_type": "code",
   "execution_count": null,
   "id": "18a128ae",
   "metadata": {},
   "outputs": [],
   "source": [
    "f4c._p[2]._coeff.expand().simplify_full()"
   ]
  },
  {
   "cell_type": "code",
   "execution_count": null,
   "id": "0d465ba1",
   "metadata": {},
   "outputs": [],
   "source": [
    "f4d = reduce (f4c, f1, ctx)"
   ]
  },
  {
   "cell_type": "code",
   "execution_count": null,
   "id": "4d7eb069",
   "metadata": {},
   "outputs": [],
   "source": [
    "f4d._p[1]._coeff.expand().simplify_full()"
   ]
  },
  {
   "cell_type": "code",
   "execution_count": null,
   "id": "42ca39f2",
   "metadata": {},
   "outputs": [],
   "source": [
    "f4d._p[0]._d"
   ]
  },
  {
   "cell_type": "code",
   "execution_count": null,
   "id": "99f19fed",
   "metadata": {},
   "outputs": [],
   "source": [
    "wuwu.collect(y)\n",
    "# correct according Example 2.35"
   ]
  },
  {
   "cell_type": "code",
   "execution_count": null,
   "id": "05f45ae9",
   "metadata": {},
   "outputs": [],
   "source": [
    "wuwu=f4a._p[-2]._coeff"
   ]
  },
  {
   "cell_type": "code",
   "execution_count": null,
   "id": "2682bb58",
   "metadata": {},
   "outputs": [],
   "source": [
    "wuwu"
   ]
  },
  {
   "cell_type": "code",
   "execution_count": null,
   "id": "0cd27e7b",
   "metadata": {},
   "outputs": [],
   "source": [
    "wuwu=f4a._p[-2]._coeff.operands()"
   ]
  },
  {
   "cell_type": "code",
   "execution_count": null,
   "id": "5f9823ef",
   "metadata": {},
   "outputs": [],
   "source": [
    "wuwu"
   ]
  },
  {
   "cell_type": "code",
   "execution_count": null,
   "id": "506ee1a9",
   "metadata": {},
   "outputs": [],
   "source": [
    "wawa=wuwu[0]*wuwu[1]"
   ]
  },
  {
   "cell_type": "code",
   "execution_count": null,
   "id": "cdb991b0",
   "metadata": {},
   "outputs": [],
   "source": [
    "wawa.expand().simplify_full()"
   ]
  },
  {
   "cell_type": "code",
   "execution_count": null,
   "id": "7a3011a8",
   "metadata": {},
   "outputs": [],
   "source": [
    "# wawa is a"
   ]
  },
  {
   "cell_type": "code",
   "execution_count": null,
   "id": "eae8a205",
   "metadata": {},
   "outputs": [],
   "source": [
    "f1._orig.show()"
   ]
  },
  {
   "cell_type": "code",
   "execution_count": null,
   "id": "f7bc2508",
   "metadata": {},
   "outputs": [],
   "source": [
    "f2._orig.show()"
   ]
  },
  {
   "cell_type": "code",
   "execution_count": null,
   "id": "c9fd10d7",
   "metadata": {},
   "outputs": [],
   "source": [
    "f3._orig.show()"
   ]
  },
  {
   "cell_type": "code",
   "execution_count": null,
   "id": "0cc66c4e",
   "metadata": {},
   "outputs": [],
   "source": [
    "f4._orig.show()"
   ]
  },
  {
   "cell_type": "code",
   "execution_count": null,
   "id": "7f6d2486",
   "metadata": {},
   "outputs": [],
   "source": [
    " f5._orig.show()"
   ]
  },
  {
   "cell_type": "code",
   "execution_count": null,
   "id": "ed1f3a00",
   "metadata": {},
   "outputs": [],
   "source": [
    "f5a=(f5._orig - (-1/y)*f1._orig).expand().simplify(); f5a.show()"
   ]
  },
  {
   "cell_type": "code",
   "execution_count": null,
   "id": "ab98d58b",
   "metadata": {},
   "outputs": [],
   "source": [
    "f2a=(f2._orig - (y/x)* f1._orig).expand().collect(diff(z,y)); f2a.show()"
   ]
  },
  {
   "cell_type": "code",
   "execution_count": null,
   "id": "7ea7eb88",
   "metadata": {},
   "outputs": [],
   "source": [
    "(f4._orig - diff(f1._orig, x)).expand().collect(diff(z, y)).show()"
   ]
  },
  {
   "cell_type": "code",
   "execution_count": null,
   "id": "467f1bff",
   "metadata": {},
   "outputs": [],
   "source": []
  }
 ],
 "metadata": {
  "kernelspec": {
   "display_name": "SageMath 9.2",
   "language": "sage",
   "name": "sagemath"
  },
  "language_info": {
   "codemirror_mode": {
    "name": "ipython",
    "version": 3
   },
   "file_extension": ".py",
   "mimetype": "text/x-python",
   "name": "python",
   "nbconvert_exporter": "python",
   "pygments_lexer": "ipython3",
   "version": "3.9.2"
  }
 },
 "nbformat": 4,
 "nbformat_minor": 5
}
