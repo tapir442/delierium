%display latex
from delierium import *
from pprint import pprint
from collections.abc import Iterable
import functools
from operator import mul, sub
from IPython.core.debugger import set_trace
def Lfunc(e):
    return e
def Lcml(e):
    '''Least common left multiply, p.23'''
    return 0
def Lcm(e):
    return 0
def FindIntegrableConditions(S, context):
    return S
def ReduceIntegrabilityConditions(S, context):
    return S
var ("x y")
z = function("z")(x,y)
w = function("w")(x,y)
# ctx: items are in descending order
ctx = Context((w,z), (x,y), Mgrlex)
f1 =diff(w, y) + x*diff(z,y)/(2*y*(x**2+y)) - w/y
f1.show()
f2=diff(z,x,y) + y*diff(w,y)/x + 2*y*diff(z, x)/x
f2.show()
f3 = diff(w, x,y) - 2*x*diff(z, x,2)/y - x*diff(w,x)/y**2
f3.show()
f4 = diff(w, x,y) + diff(z, x,y) + diff(w, y)/(2*y) - diff(w,x)/y + x* diff(z, y)/y - w/(2*y**2)
f5 =diff(w,y,y) + diff(z,x,y) - diff(w, y)/y + w/(y**2)
f5.show()
f1dp=Differential_Polynomial(f1, context=ctx)
f2dp=Differential_Polynomial(f2, context=ctx)
f3dp=Differential_Polynomial(f3, context=ctx)
f4dp=Differential_Polynomial(f4, context=ctx)
f5dp=Differential_Polynomial(f5, context=ctx)
class Janet_Basis:
    def __init__ (self, S, context):
    """List of homogenous PDE's + order context"""
        self.S = S
        if not isinstance(self.S, Iterable):
            # bad criterion
            self.S = [self.S]
            self.S = Reorder([Differential_Polynomial(s, context) for s in self.S], context, ascending = True)
            self.S = Autoreduce (self.S, context)
            #self.S = CompleteSystem(self.S, context)
            #self.S = FindIntegrableConditions(self.S, context)
            #self.S = ReduceIntegrabilityConditions(self.S, context)
            #if all ([_ == 0 for _ in c]) or not c:
            #    return S\n",
            #S += c\n",
            self.S = Reorder (self.S, context)
        def rank(self):
            return 0
        def order(self):
            return 0"
checkS=Janet_Basis([f3,f1,f5, f2,f4], ctx)
for _ in checkS.S:,
    _.show()
