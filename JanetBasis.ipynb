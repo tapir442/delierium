{
 "cells": [
  {
   "cell_type": "code",
   "execution_count": 1,
   "id": "4c72ba98",
   "metadata": {},
   "outputs": [],
   "source": [
    "%display latex\n",
    "from pylie import *\n",
    "from collections.abc import Iterable\n",
    "import functools\n",
    "from operator import mul, sub\n",
    "from pprint import pprint\n",
    "from IPython.core.debugger import set_trace"
   ]
  },
  {
   "cell_type": "code",
   "execution_count": 2,
   "id": "6035e144",
   "metadata": {},
   "outputs": [],
   "source": [
    "def reduce(e1: Differential_Polynomial,e2: Differential_Polynomial, context:Context)->Differential_Polynomial:\n",
    "    assert e2.is_monic()\n",
    "    def _order (der):\n",
    "        if der != 1:\n",
    "            return pylie.order_of_derivative(der)\n",
    "        else :\n",
    "            return [0]*len(context._independent)\n",
    "    def func(e):    \n",
    "        try:\n",
    "            return e.operator().function()\n",
    "        except AttributeError:\n",
    "            return e.operator()      \n",
    "    print (\"--------------------------------------- entering reduce\")    \n",
    "    #set_trace()\n",
    "    ld = e2.Lder()\n",
    "    e2_order = _order (ld)    \n",
    "    while True:\n",
    "        for t in e1._p:\n",
    "            reduction_found = False\n",
    "            d = t._d\n",
    "            c = t._coeff\n",
    "            print (\"--------------------------------------- term to reduce\")\n",
    "            t.show()\n",
    "            print (\"--------------------------------------- leading derivative\")\n",
    "            ld.show()\n",
    "            if func(ld) != func(d):\n",
    "                continue\n",
    "            e1_order = _order (d)\n",
    "            dif = []\n",
    "            for a, b in zip (e1_order, e2_order):\n",
    "                dif += [a - b]\n",
    "            if all (map (lambda h: h == 0, dif)) :                \n",
    "                e1 = e1 - e2 * c  \n",
    "                return Differential_Polynomial (e1.expression(), context)\n",
    "            if all (map (lambda h: h >= 0, dif)):         \n",
    "                variables_to_diff = []\n",
    "                for i in range (len(context._independent)):\n",
    "                    if dif [i] != 0:\n",
    "                        variables_to_diff.extend ([context._independent[i]]*abs(dif[i]))      \n",
    "                #set_trace ()\n",
    "                s  = sum([c * _._coeff * diff(_._d,  *variables_to_diff) for _ in e2._p])\n",
    "                s  = Differential_Polynomial (s, context)\n",
    "                s.show()\n",
    "                #set_trace()\n",
    "                e1 = e1 - s\n",
    "                return e1\n",
    "            print (\"no reduction\")\n",
    "        if not reduction_found:\n",
    "            return e1        \n",
    "    return e1"
   ]
  },
  {
   "cell_type": "code",
   "execution_count": 3,
   "id": "1c64bff0",
   "metadata": {},
   "outputs": [],
   "source": [
    "#indeterminates = (x, y) = var(\"x y\")\n",
    "#R=PolynomialRing(QQ, indeterminates)\n",
    "#z  = function (\"z\")(*indeterminates)\n",
    "#ctx = Context((z,), indeterminates)\n",
    "#print(\"*\"*70)\n",
    "#e1 = diff(z,y)-x**2/y**2*diff(z,x)-(x-y)*z(x,y)/y**2\n",
    "#e1_dp = Differential_Polynomial (e1, ctx)\n",
    "#print (e1_dp)\n",
    "#print(\"*\"*70)\n",
    "#f1 = diff(z, x) + z(x,y)/x\n",
    "#f1_dp = Differential_Polynomial (f1, ctx)\n",
    "#f1_dp.is_monic()\n",
    "#print (f1_dp)\n",
    "#print(\"*\"*70)\n",
    "#f2 = diff(z, y) + z(x,y)/y\n",
    "#f2_dp = Differential_Polynomial (f2, ctx)\n",
    "#print (f2_dp)\n",
    "#r1 = reduce (e1_dp, f1_dp, ctx)\n",
    "#r1\n",
    "#r1._orig\n",
    "#r2 = reduce (r1, f2_dp, ctx)"
   ]
  },
  {
   "cell_type": "code",
   "execution_count": 4,
   "id": "b9877a4d",
   "metadata": {},
   "outputs": [],
   "source": [
    "def Lfunc(e):\n",
    "    return e"
   ]
  },
  {
   "cell_type": "code",
   "execution_count": 5,
   "id": "cef198c3",
   "metadata": {},
   "outputs": [],
   "source": [
    "def Lcml(e):\n",
    "    '''Least common left multiply, p.23'''\n",
    "    return 0"
   ]
  },
  {
   "cell_type": "code",
   "execution_count": 6,
   "id": "9bc8c3f8",
   "metadata": {},
   "outputs": [],
   "source": [
    "def Lcm(e):\n",
    "    return 0"
   ]
  },
  {
   "cell_type": "code",
   "execution_count": 7,
   "id": "5223b32c",
   "metadata": {},
   "outputs": [],
   "source": [
    "def CompleteSystem(S, context):\n",
    "    return S"
   ]
  },
  {
   "cell_type": "code",
   "execution_count": 8,
   "id": "437ae503",
   "metadata": {},
   "outputs": [],
   "source": [
    "def FindIntegrableConditions(S, context):\n",
    "    return S"
   ]
  },
  {
   "cell_type": "code",
   "execution_count": 9,
   "id": "5a606439",
   "metadata": {},
   "outputs": [],
   "source": [
    "def ReduceIntegrabilityConditions(S, context):\n",
    "    return S"
   ]
  },
  {
   "cell_type": "code",
   "execution_count": 10,
   "id": "38d8999b",
   "metadata": {},
   "outputs": [],
   "source": [
    "\n",
    "def Reorder (S, context, ascending = False):\n",
    "    res=sorted(S)\n",
    "    if ascending :\n",
    "        res.reverse()\n",
    "    return res"
   ]
  },
  {
   "cell_type": "code",
   "execution_count": 11,
   "id": "ccd1d634",
   "metadata": {},
   "outputs": [
    {
     "data": {
      "text/html": [
       "<html><script type=\"math/tex; mode=display\">\\newcommand{\\Bold}[1]{\\mathbf{#1}}-\\frac{w\\left(x, y\\right)}{y} + \\frac{x \\frac{\\partial}{\\partial y}z\\left(x, y\\right)}{2 \\, {\\left(x^{2} + y\\right)} y} + \\frac{\\partial}{\\partial y}w\\left(x, y\\right)</script></html>"
      ],
      "text/latex": [
       "\\begin{math}\n",
       "\\newcommand{\\Bold}[1]{\\mathbf{#1}}-\\frac{w\\left(x, y\\right)}{y} + \\frac{x \\frac{\\partial}{\\partial y}z\\left(x, y\\right)}{2 \\, {\\left(x^{2} + y\\right)} y} + \\frac{\\partial}{\\partial y}w\\left(x, y\\right)\n",
       "\\end{math}"
      ],
      "text/plain": [
       "-w(x, y)/y + 1/2*x*diff(z(x, y), y)/((x^2 + y)*y) + diff(w(x, y), y)"
      ]
     },
     "metadata": {},
     "output_type": "display_data"
    }
   ],
   "source": [
    "var (\"x y\")\n",
    "z = function(\"z\")(x,y)\n",
    "w = function(\"w\")(x,y)\n",
    "ctx = Context((w,z), (x,y), MatrixOrder.Mgrlex)\n",
    "f1 =diff(w, y) + x*diff(z,y)/(2*y*(x**2+y)) - w(x,y)/y\n",
    "f1.show()"
   ]
  },
  {
   "cell_type": "code",
   "execution_count": 12,
   "id": "79190cbb",
   "metadata": {},
   "outputs": [
    {
     "data": {
      "text/html": [
       "<html><script type=\"math/tex; mode=display\">\\newcommand{\\Bold}[1]{\\mathbf{#1}}\\frac{y \\frac{\\partial}{\\partial y}w\\left(x, y\\right)}{x} + \\frac{2 \\, y \\frac{\\partial}{\\partial x}z\\left(x, y\\right)}{x} + \\frac{\\partial^{2}}{\\partial x\\partial y}z\\left(x, y\\right)</script></html>"
      ],
      "text/latex": [
       "\\begin{math}\n",
       "\\newcommand{\\Bold}[1]{\\mathbf{#1}}\\frac{y \\frac{\\partial}{\\partial y}w\\left(x, y\\right)}{x} + \\frac{2 \\, y \\frac{\\partial}{\\partial x}z\\left(x, y\\right)}{x} + \\frac{\\partial^{2}}{\\partial x\\partial y}z\\left(x, y\\right)\n",
       "\\end{math}"
      ],
      "text/plain": [
       "y*diff(w(x, y), y)/x + 2*y*diff(z(x, y), x)/x + diff(z(x, y), x, y)"
      ]
     },
     "metadata": {},
     "output_type": "display_data"
    }
   ],
   "source": [
    "f2=diff(z,x,y) + y*diff(w,y)/x + 2*y*diff(z, x)/x\n",
    "f2.show()"
   ]
  },
  {
   "cell_type": "code",
   "execution_count": 13,
   "id": "0b7a6b4e",
   "metadata": {},
   "outputs": [
    {
     "data": {
      "text/html": [
       "<html><script type=\"math/tex; mode=display\">\\newcommand{\\Bold}[1]{\\mathbf{#1}}-\\frac{2 \\, x \\frac{\\partial^{2}}{(\\partial x)^{2}}z\\left(x, y\\right)}{y} - \\frac{x \\frac{\\partial}{\\partial x}w\\left(x, y\\right)}{y^{2}} + \\frac{\\partial^{2}}{\\partial x\\partial y}w\\left(x, y\\right)</script></html>"
      ],
      "text/latex": [
       "\\begin{math}\n",
       "\\newcommand{\\Bold}[1]{\\mathbf{#1}}-\\frac{2 \\, x \\frac{\\partial^{2}}{(\\partial x)^{2}}z\\left(x, y\\right)}{y} - \\frac{x \\frac{\\partial}{\\partial x}w\\left(x, y\\right)}{y^{2}} + \\frac{\\partial^{2}}{\\partial x\\partial y}w\\left(x, y\\right)\n",
       "\\end{math}"
      ],
      "text/plain": [
       "-2*x*diff(z(x, y), x, x)/y - x*diff(w(x, y), x)/y^2 + diff(w(x, y), x, y)"
      ]
     },
     "metadata": {},
     "output_type": "display_data"
    }
   ],
   "source": [
    "f3 = diff(w, x,y) - 2*x*diff(z, x,2)/y - x*diff(w,x)/y**2\n",
    "f3.show()"
   ]
  },
  {
   "cell_type": "code",
   "execution_count": 14,
   "id": "f4b017c3",
   "metadata": {},
   "outputs": [
    {
     "data": {
      "text/html": [
       "<html><script type=\"math/tex; mode=display\">\\newcommand{\\Bold}[1]{\\mathbf{#1}}\\frac{x \\frac{\\partial}{\\partial y}z\\left(x, y\\right)}{y} - \\frac{\\frac{\\partial}{\\partial x}w\\left(x, y\\right)}{y} + \\frac{\\frac{\\partial}{\\partial y}w\\left(x, y\\right)}{2 \\, y} - \\frac{w\\left(x, y\\right)}{2 \\, y^{2}} + \\frac{\\partial^{2}}{\\partial x\\partial y}w\\left(x, y\\right) + \\frac{\\partial^{2}}{\\partial x\\partial y}z\\left(x, y\\right)</script></html>"
      ],
      "text/latex": [
       "\\begin{math}\n",
       "\\newcommand{\\Bold}[1]{\\mathbf{#1}}\\frac{x \\frac{\\partial}{\\partial y}z\\left(x, y\\right)}{y} - \\frac{\\frac{\\partial}{\\partial x}w\\left(x, y\\right)}{y} + \\frac{\\frac{\\partial}{\\partial y}w\\left(x, y\\right)}{2 \\, y} - \\frac{w\\left(x, y\\right)}{2 \\, y^{2}} + \\frac{\\partial^{2}}{\\partial x\\partial y}w\\left(x, y\\right) + \\frac{\\partial^{2}}{\\partial x\\partial y}z\\left(x, y\\right)\n",
       "\\end{math}"
      ],
      "text/plain": [
       "x*diff(z(x, y), y)/y - diff(w(x, y), x)/y + 1/2*diff(w(x, y), y)/y - 1/2*w(x, y)/y^2 + diff(w(x, y), x, y) + diff(z(x, y), x, y)"
      ]
     },
     "metadata": {},
     "output_type": "display_data"
    }
   ],
   "source": [
    "f4 = diff(w, x,y) + diff(z, x,y) + diff(w, y)/(2*y) - diff(w,x)/y + x* diff(z, y)/y - w(x,y)/(2*y**2)\n",
    "f4.show()"
   ]
  },
  {
   "cell_type": "code",
   "execution_count": 15,
   "id": "6a2f0d5d",
   "metadata": {},
   "outputs": [
    {
     "data": {
      "text/html": [
       "<html><script type=\"math/tex; mode=display\">\\newcommand{\\Bold}[1]{\\mathbf{#1}}-\\frac{\\frac{\\partial}{\\partial y}w\\left(x, y\\right)}{y} + \\frac{w\\left(x, y\\right)}{y^{2}} + \\frac{\\partial^{2}}{(\\partial y)^{2}}w\\left(x, y\\right) + \\frac{\\partial^{2}}{\\partial x\\partial y}z\\left(x, y\\right)</script></html>"
      ],
      "text/latex": [
       "\\begin{math}\n",
       "\\newcommand{\\Bold}[1]{\\mathbf{#1}}-\\frac{\\frac{\\partial}{\\partial y}w\\left(x, y\\right)}{y} + \\frac{w\\left(x, y\\right)}{y^{2}} + \\frac{\\partial^{2}}{(\\partial y)^{2}}w\\left(x, y\\right) + \\frac{\\partial^{2}}{\\partial x\\partial y}z\\left(x, y\\right)\n",
       "\\end{math}"
      ],
      "text/plain": [
       "-diff(w(x, y), y)/y + w(x, y)/y^2 + diff(w(x, y), y, y) + diff(z(x, y), x, y)"
      ]
     },
     "metadata": {},
     "output_type": "display_data"
    }
   ],
   "source": [
    "f5 =diff(w,y,y) + diff(z,x,y) - diff(w, y)/y + w(x,y)/(y**2)\n",
    "f5.show()"
   ]
  },
  {
   "cell_type": "code",
   "execution_count": 16,
   "id": "2648cc92",
   "metadata": {},
   "outputs": [],
   "source": [
    "def Autoreduce(S, context):  \n",
    "    i = 0\n",
    "    while True:\n",
    "        p = S[i]\n",
    "        r = S[i+1:]\n",
    "        if not r:\n",
    "            S = Reorder(S, context,True)\n",
    "            return S[:]    \n",
    "        print (\"=====================================================\", len(r))\n",
    "        #if len(r) == 3:\n",
    "        #    set_trace()\n",
    "        have_reduced = False\n",
    "        #set_trace()\n",
    "        checkidx = i+1\n",
    "        for _r in r:\n",
    "            #print (\"Try to reduce {} with {}\".format(S[checkidx], S[i].Lder()))\n",
    "            res = reduce (_r, p, context)\n",
    "            if res != _r:\n",
    "                have_reduced = True                \n",
    "            S[checkidx] = res\n",
    "            checkidx += 1\n",
    "        #print(\"This is the new System before reorder\")   \n",
    "        #for _ in S:          \n",
    "        #    _.show()\n",
    "        S = Reorder(S, context, ascending = True)\n",
    "        print(\"This is the new System........\")\n",
    "        for _ in S:          \n",
    "            _.show()\n",
    "        if not have_reduced:\n",
    "            # no reduction done\n",
    "            i += 1        \n",
    "        else:\n",
    "            i = 0\n",
    "            "
   ]
  },
  {
   "cell_type": "code",
   "execution_count": 17,
   "id": "7fe62138",
   "metadata": {},
   "outputs": [],
   "source": [
    "def JanetBasis(S, context):\n",
    "    \"\"\"List of homogenous PDE's + order context\"\"\"\n",
    "    if not isinstance(S, Iterable):\n",
    "        # bad criterion\n",
    "        S = [S]\n",
    "    S = [Differential_Polynomial(s, context) for s in S]\n",
    "    for _ in S:\n",
    "        _.show()\n",
    "    print (\"....................................\")\n",
    "    S = Reorder(S, context, ascending = True)\n",
    "    for _ in S:\n",
    "        _.show()\n",
    "    while 1:\n",
    "        S = Autoreduce (S, context)\n",
    "        #S = CompleteSystem (S, context)\n",
    "        #f = FindIntegrableConditions(S, context)\n",
    "        #c = ReduceIntegrabilityConditions(S, context)\n",
    "        #if all ([_ == 0 for _ in c]) or not c:\n",
    "        #    return S\n",
    "        #S += c\n",
    "        #S = Reorder (S, context)\n",
    "        return S[:]"
   ]
  },
  {
   "cell_type": "code",
   "execution_count": 18,
   "id": "e1502f74",
   "metadata": {},
   "outputs": [
    {
     "data": {
      "text/html": [
       "<html><script type=\"math/tex; mode=display\">\\newcommand{\\Bold}[1]{\\mathbf{#1}}-\\frac{2 \\, x \\frac{\\partial^{2}}{(\\partial x)^{2}}z\\left(x, y\\right)}{y} - \\frac{x \\frac{\\partial}{\\partial x}w\\left(x, y\\right)}{y^{2}} + \\frac{\\partial^{2}}{\\partial x\\partial y}w\\left(x, y\\right)</script></html>"
      ],
      "text/latex": [
       "\\begin{math}\n",
       "\\newcommand{\\Bold}[1]{\\mathbf{#1}}-\\frac{2 \\, x \\frac{\\partial^{2}}{(\\partial x)^{2}}z\\left(x, y\\right)}{y} - \\frac{x \\frac{\\partial}{\\partial x}w\\left(x, y\\right)}{y^{2}} + \\frac{\\partial^{2}}{\\partial x\\partial y}w\\left(x, y\\right)\n",
       "\\end{math}"
      ],
      "text/plain": [
       "-2*x*diff(z(x, y), x, x)/y - x*diff(w(x, y), x)/y^2 + diff(w(x, y), x, y)"
      ]
     },
     "metadata": {},
     "output_type": "display_data"
    },
    {
     "data": {
      "text/html": [
       "<html><script type=\"math/tex; mode=display\">\\newcommand{\\Bold}[1]{\\mathbf{#1}}\\frac{x \\frac{\\partial}{\\partial y}z\\left(x, y\\right)}{2 \\, {\\left(x^{2} y + y^{2}\\right)}} - \\frac{w\\left(x, y\\right)}{y} + \\frac{\\partial}{\\partial y}w\\left(x, y\\right)</script></html>"
      ],
      "text/latex": [
       "\\begin{math}\n",
       "\\newcommand{\\Bold}[1]{\\mathbf{#1}}\\frac{x \\frac{\\partial}{\\partial y}z\\left(x, y\\right)}{2 \\, {\\left(x^{2} y + y^{2}\\right)}} - \\frac{w\\left(x, y\\right)}{y} + \\frac{\\partial}{\\partial y}w\\left(x, y\\right)\n",
       "\\end{math}"
      ],
      "text/plain": [
       "1/2*x*diff(z(x, y), y)/(x^2*y + y^2) - w(x, y)/y + diff(w(x, y), y)"
      ]
     },
     "metadata": {},
     "output_type": "display_data"
    },
    {
     "data": {
      "text/html": [
       "<html><script type=\"math/tex; mode=display\">\\newcommand{\\Bold}[1]{\\mathbf{#1}}-\\frac{\\frac{\\partial}{\\partial y}w\\left(x, y\\right)}{y} + \\frac{w\\left(x, y\\right)}{y^{2}} + \\frac{\\partial^{2}}{(\\partial y)^{2}}w\\left(x, y\\right) + \\frac{\\partial^{2}}{\\partial x\\partial y}z\\left(x, y\\right)</script></html>"
      ],
      "text/latex": [
       "\\begin{math}\n",
       "\\newcommand{\\Bold}[1]{\\mathbf{#1}}-\\frac{\\frac{\\partial}{\\partial y}w\\left(x, y\\right)}{y} + \\frac{w\\left(x, y\\right)}{y^{2}} + \\frac{\\partial^{2}}{(\\partial y)^{2}}w\\left(x, y\\right) + \\frac{\\partial^{2}}{\\partial x\\partial y}z\\left(x, y\\right)\n",
       "\\end{math}"
      ],
      "text/plain": [
       "-diff(w(x, y), y)/y + w(x, y)/y^2 + diff(w(x, y), y, y) + diff(z(x, y), x, y)"
      ]
     },
     "metadata": {},
     "output_type": "display_data"
    },
    {
     "data": {
      "text/html": [
       "<html><script type=\"math/tex; mode=display\">\\newcommand{\\Bold}[1]{\\mathbf{#1}}\\frac{y \\frac{\\partial}{\\partial y}w\\left(x, y\\right)}{x} + \\frac{2 \\, y \\frac{\\partial}{\\partial x}z\\left(x, y\\right)}{x} + \\frac{\\partial^{2}}{\\partial x\\partial y}z\\left(x, y\\right)</script></html>"
      ],
      "text/latex": [
       "\\begin{math}\n",
       "\\newcommand{\\Bold}[1]{\\mathbf{#1}}\\frac{y \\frac{\\partial}{\\partial y}w\\left(x, y\\right)}{x} + \\frac{2 \\, y \\frac{\\partial}{\\partial x}z\\left(x, y\\right)}{x} + \\frac{\\partial^{2}}{\\partial x\\partial y}z\\left(x, y\\right)\n",
       "\\end{math}"
      ],
      "text/plain": [
       "y*diff(w(x, y), y)/x + 2*y*diff(z(x, y), x)/x + diff(z(x, y), x, y)"
      ]
     },
     "metadata": {},
     "output_type": "display_data"
    },
    {
     "data": {
      "text/html": [
       "<html><script type=\"math/tex; mode=display\">\\newcommand{\\Bold}[1]{\\mathbf{#1}}\\frac{x \\frac{\\partial}{\\partial y}z\\left(x, y\\right)}{y} - \\frac{\\frac{\\partial}{\\partial x}w\\left(x, y\\right)}{y} + \\frac{\\frac{\\partial}{\\partial y}w\\left(x, y\\right)}{2 \\, y} - \\frac{w\\left(x, y\\right)}{2 \\, y^{2}} + \\frac{\\partial^{2}}{\\partial x\\partial y}w\\left(x, y\\right) + \\frac{\\partial^{2}}{\\partial x\\partial y}z\\left(x, y\\right)</script></html>"
      ],
      "text/latex": [
       "\\begin{math}\n",
       "\\newcommand{\\Bold}[1]{\\mathbf{#1}}\\frac{x \\frac{\\partial}{\\partial y}z\\left(x, y\\right)}{y} - \\frac{\\frac{\\partial}{\\partial x}w\\left(x, y\\right)}{y} + \\frac{\\frac{\\partial}{\\partial y}w\\left(x, y\\right)}{2 \\, y} - \\frac{w\\left(x, y\\right)}{2 \\, y^{2}} + \\frac{\\partial^{2}}{\\partial x\\partial y}w\\left(x, y\\right) + \\frac{\\partial^{2}}{\\partial x\\partial y}z\\left(x, y\\right)\n",
       "\\end{math}"
      ],
      "text/plain": [
       "x*diff(z(x, y), y)/y - diff(w(x, y), x)/y + 1/2*diff(w(x, y), y)/y - 1/2*w(x, y)/y^2 + diff(w(x, y), x, y) + diff(z(x, y), x, y)"
      ]
     },
     "metadata": {},
     "output_type": "display_data"
    },
    {
     "name": "stdout",
     "output_type": "stream",
     "text": [
      "....................................\n"
     ]
    },
    {
     "data": {
      "text/html": [
       "<html><script type=\"math/tex; mode=display\">\\newcommand{\\Bold}[1]{\\mathbf{#1}}\\frac{x \\frac{\\partial}{\\partial y}z\\left(x, y\\right)}{2 \\, {\\left(x^{2} y + y^{2}\\right)}} - \\frac{w\\left(x, y\\right)}{y} + \\frac{\\partial}{\\partial y}w\\left(x, y\\right)</script></html>"
      ],
      "text/latex": [
       "\\begin{math}\n",
       "\\newcommand{\\Bold}[1]{\\mathbf{#1}}\\frac{x \\frac{\\partial}{\\partial y}z\\left(x, y\\right)}{2 \\, {\\left(x^{2} y + y^{2}\\right)}} - \\frac{w\\left(x, y\\right)}{y} + \\frac{\\partial}{\\partial y}w\\left(x, y\\right)\n",
       "\\end{math}"
      ],
      "text/plain": [
       "1/2*x*diff(z(x, y), y)/(x^2*y + y^2) - w(x, y)/y + diff(w(x, y), y)"
      ]
     },
     "metadata": {},
     "output_type": "display_data"
    },
    {
     "data": {
      "text/html": [
       "<html><script type=\"math/tex; mode=display\">\\newcommand{\\Bold}[1]{\\mathbf{#1}}\\frac{y \\frac{\\partial}{\\partial y}w\\left(x, y\\right)}{x} + \\frac{2 \\, y \\frac{\\partial}{\\partial x}z\\left(x, y\\right)}{x} + \\frac{\\partial^{2}}{\\partial x\\partial y}z\\left(x, y\\right)</script></html>"
      ],
      "text/latex": [
       "\\begin{math}\n",
       "\\newcommand{\\Bold}[1]{\\mathbf{#1}}\\frac{y \\frac{\\partial}{\\partial y}w\\left(x, y\\right)}{x} + \\frac{2 \\, y \\frac{\\partial}{\\partial x}z\\left(x, y\\right)}{x} + \\frac{\\partial^{2}}{\\partial x\\partial y}z\\left(x, y\\right)\n",
       "\\end{math}"
      ],
      "text/plain": [
       "y*diff(w(x, y), y)/x + 2*y*diff(z(x, y), x)/x + diff(z(x, y), x, y)"
      ]
     },
     "metadata": {},
     "output_type": "display_data"
    },
    {
     "data": {
      "text/html": [
       "<html><script type=\"math/tex; mode=display\">\\newcommand{\\Bold}[1]{\\mathbf{#1}}-\\frac{\\frac{\\partial}{\\partial y}w\\left(x, y\\right)}{y} + \\frac{w\\left(x, y\\right)}{y^{2}} + \\frac{\\partial^{2}}{(\\partial y)^{2}}w\\left(x, y\\right) + \\frac{\\partial^{2}}{\\partial x\\partial y}z\\left(x, y\\right)</script></html>"
      ],
      "text/latex": [
       "\\begin{math}\n",
       "\\newcommand{\\Bold}[1]{\\mathbf{#1}}-\\frac{\\frac{\\partial}{\\partial y}w\\left(x, y\\right)}{y} + \\frac{w\\left(x, y\\right)}{y^{2}} + \\frac{\\partial^{2}}{(\\partial y)^{2}}w\\left(x, y\\right) + \\frac{\\partial^{2}}{\\partial x\\partial y}z\\left(x, y\\right)\n",
       "\\end{math}"
      ],
      "text/plain": [
       "-diff(w(x, y), y)/y + w(x, y)/y^2 + diff(w(x, y), y, y) + diff(z(x, y), x, y)"
      ]
     },
     "metadata": {},
     "output_type": "display_data"
    },
    {
     "data": {
      "text/html": [
       "<html><script type=\"math/tex; mode=display\">\\newcommand{\\Bold}[1]{\\mathbf{#1}}\\frac{x \\frac{\\partial}{\\partial y}z\\left(x, y\\right)}{y} - \\frac{\\frac{\\partial}{\\partial x}w\\left(x, y\\right)}{y} + \\frac{\\frac{\\partial}{\\partial y}w\\left(x, y\\right)}{2 \\, y} - \\frac{w\\left(x, y\\right)}{2 \\, y^{2}} + \\frac{\\partial^{2}}{\\partial x\\partial y}w\\left(x, y\\right) + \\frac{\\partial^{2}}{\\partial x\\partial y}z\\left(x, y\\right)</script></html>"
      ],
      "text/latex": [
       "\\begin{math}\n",
       "\\newcommand{\\Bold}[1]{\\mathbf{#1}}\\frac{x \\frac{\\partial}{\\partial y}z\\left(x, y\\right)}{y} - \\frac{\\frac{\\partial}{\\partial x}w\\left(x, y\\right)}{y} + \\frac{\\frac{\\partial}{\\partial y}w\\left(x, y\\right)}{2 \\, y} - \\frac{w\\left(x, y\\right)}{2 \\, y^{2}} + \\frac{\\partial^{2}}{\\partial x\\partial y}w\\left(x, y\\right) + \\frac{\\partial^{2}}{\\partial x\\partial y}z\\left(x, y\\right)\n",
       "\\end{math}"
      ],
      "text/plain": [
       "x*diff(z(x, y), y)/y - diff(w(x, y), x)/y + 1/2*diff(w(x, y), y)/y - 1/2*w(x, y)/y^2 + diff(w(x, y), x, y) + diff(z(x, y), x, y)"
      ]
     },
     "metadata": {},
     "output_type": "display_data"
    },
    {
     "data": {
      "text/html": [
       "<html><script type=\"math/tex; mode=display\">\\newcommand{\\Bold}[1]{\\mathbf{#1}}-\\frac{2 \\, x \\frac{\\partial^{2}}{(\\partial x)^{2}}z\\left(x, y\\right)}{y} - \\frac{x \\frac{\\partial}{\\partial x}w\\left(x, y\\right)}{y^{2}} + \\frac{\\partial^{2}}{\\partial x\\partial y}w\\left(x, y\\right)</script></html>"
      ],
      "text/latex": [
       "\\begin{math}\n",
       "\\newcommand{\\Bold}[1]{\\mathbf{#1}}-\\frac{2 \\, x \\frac{\\partial^{2}}{(\\partial x)^{2}}z\\left(x, y\\right)}{y} - \\frac{x \\frac{\\partial}{\\partial x}w\\left(x, y\\right)}{y^{2}} + \\frac{\\partial^{2}}{\\partial x\\partial y}w\\left(x, y\\right)\n",
       "\\end{math}"
      ],
      "text/plain": [
       "-2*x*diff(z(x, y), x, x)/y - x*diff(w(x, y), x)/y^2 + diff(w(x, y), x, y)"
      ]
     },
     "metadata": {},
     "output_type": "display_data"
    },
    {
     "name": "stdout",
     "output_type": "stream",
     "text": [
      "===================================================== 4\n",
      "--------------------------------------- entering reduce\n",
      "--------------------------------------- term to reduce\n"
     ]
    },
    {
     "data": {
      "text/html": [
       "<html><script type=\"math/tex; mode=display\">\\newcommand{\\Bold}[1]{\\mathbf{#1}}\\frac{\\partial^{2}}{\\partial x\\partial y}z\\left(x, y\\right)</script></html>"
      ],
      "text/latex": [
       "\\begin{math}\n",
       "\\newcommand{\\Bold}[1]{\\mathbf{#1}}\\frac{\\partial^{2}}{\\partial x\\partial y}z\\left(x, y\\right)\n",
       "\\end{math}"
      ],
      "text/plain": [
       "diff(z(x, y), x, y)"
      ]
     },
     "metadata": {},
     "output_type": "display_data"
    },
    {
     "name": "stdout",
     "output_type": "stream",
     "text": [
      "--------------------------------------- leading derivative\n"
     ]
    },
    {
     "data": {
      "text/html": [
       "<html><script type=\"math/tex; mode=display\">\\newcommand{\\Bold}[1]{\\mathbf{#1}}\\frac{\\partial}{\\partial y}w\\left(x, y\\right)</script></html>"
      ],
      "text/latex": [
       "\\begin{math}\n",
       "\\newcommand{\\Bold}[1]{\\mathbf{#1}}\\frac{\\partial}{\\partial y}w\\left(x, y\\right)\n",
       "\\end{math}"
      ],
      "text/plain": [
       "diff(w(x, y), y)"
      ]
     },
     "metadata": {},
     "output_type": "display_data"
    },
    {
     "name": "stdout",
     "output_type": "stream",
     "text": [
      "--------------------------------------- term to reduce\n"
     ]
    },
    {
     "data": {
      "text/html": [
       "<html><script type=\"math/tex; mode=display\">\\newcommand{\\Bold}[1]{\\mathbf{#1}}\\frac{y \\frac{\\partial}{\\partial y}w\\left(x, y\\right)}{x}</script></html>"
      ],
      "text/latex": [
       "\\begin{math}\n",
       "\\newcommand{\\Bold}[1]{\\mathbf{#1}}\\frac{y \\frac{\\partial}{\\partial y}w\\left(x, y\\right)}{x}\n",
       "\\end{math}"
      ],
      "text/plain": [
       "y*diff(w(x, y), y)/x"
      ]
     },
     "metadata": {},
     "output_type": "display_data"
    },
    {
     "name": "stdout",
     "output_type": "stream",
     "text": [
      "--------------------------------------- leading derivative\n"
     ]
    },
    {
     "data": {
      "text/html": [
       "<html><script type=\"math/tex; mode=display\">\\newcommand{\\Bold}[1]{\\mathbf{#1}}\\frac{\\partial}{\\partial y}w\\left(x, y\\right)</script></html>"
      ],
      "text/latex": [
       "\\begin{math}\n",
       "\\newcommand{\\Bold}[1]{\\mathbf{#1}}\\frac{\\partial}{\\partial y}w\\left(x, y\\right)\n",
       "\\end{math}"
      ],
      "text/plain": [
       "diff(w(x, y), y)"
      ]
     },
     "metadata": {},
     "output_type": "display_data"
    },
    {
     "ename": "AttributeError",
     "evalue": "'Differential_Polynomial' object has no attribute 'value'",
     "output_type": "error",
     "traceback": [
      "\u001b[0;31m---------------------------------------------------------------------------\u001b[0m",
      "\u001b[0;31mAttributeError\u001b[0m                            Traceback (most recent call last)",
      "\u001b[0;32m<ipython-input-18-fe5b7f62fecc>\u001b[0m in \u001b[0;36m<module>\u001b[0;34m\u001b[0m\n\u001b[0;32m----> 1\u001b[0;31m \u001b[0mcheckS\u001b[0m\u001b[0;34m=\u001b[0m\u001b[0mJanetBasis\u001b[0m\u001b[0;34m(\u001b[0m\u001b[0;34m[\u001b[0m\u001b[0mf3\u001b[0m\u001b[0;34m,\u001b[0m\u001b[0mf1\u001b[0m\u001b[0;34m,\u001b[0m\u001b[0mf5\u001b[0m\u001b[0;34m,\u001b[0m \u001b[0mf2\u001b[0m\u001b[0;34m,\u001b[0m\u001b[0mf4\u001b[0m\u001b[0;34m]\u001b[0m\u001b[0;34m,\u001b[0m \u001b[0mctx\u001b[0m\u001b[0;34m)\u001b[0m\u001b[0;34m\u001b[0m\u001b[0;34m\u001b[0m\u001b[0m\n\u001b[0m",
      "\u001b[0;32m<ipython-input-17-89eb792f9dcf>\u001b[0m in \u001b[0;36mJanetBasis\u001b[0;34m(S, context)\u001b[0m\n\u001b[1;32m     12\u001b[0m         \u001b[0m_\u001b[0m\u001b[0;34m.\u001b[0m\u001b[0mshow\u001b[0m\u001b[0;34m(\u001b[0m\u001b[0;34m)\u001b[0m\u001b[0;34m\u001b[0m\u001b[0;34m\u001b[0m\u001b[0m\n\u001b[1;32m     13\u001b[0m     \u001b[0;32mwhile\u001b[0m \u001b[0mInteger\u001b[0m\u001b[0;34m(\u001b[0m\u001b[0;36m1\u001b[0m\u001b[0;34m)\u001b[0m\u001b[0;34m:\u001b[0m\u001b[0;34m\u001b[0m\u001b[0;34m\u001b[0m\u001b[0m\n\u001b[0;32m---> 14\u001b[0;31m         \u001b[0mS\u001b[0m \u001b[0;34m=\u001b[0m \u001b[0mAutoreduce\u001b[0m \u001b[0;34m(\u001b[0m\u001b[0mS\u001b[0m\u001b[0;34m,\u001b[0m \u001b[0mcontext\u001b[0m\u001b[0;34m)\u001b[0m\u001b[0;34m\u001b[0m\u001b[0;34m\u001b[0m\u001b[0m\n\u001b[0m\u001b[1;32m     15\u001b[0m         \u001b[0;31m#S = CompleteSystem (S, context)\u001b[0m\u001b[0;34m\u001b[0m\u001b[0;34m\u001b[0m\u001b[0;34m\u001b[0m\u001b[0m\n\u001b[1;32m     16\u001b[0m         \u001b[0;31m#f = FindIntegrableConditions(S, context)\u001b[0m\u001b[0;34m\u001b[0m\u001b[0;34m\u001b[0m\u001b[0;34m\u001b[0m\u001b[0m\n",
      "\u001b[0;32m<ipython-input-16-f0efbf815025>\u001b[0m in \u001b[0;36mAutoreduce\u001b[0;34m(S, context)\u001b[0m\n\u001b[1;32m     15\u001b[0m         \u001b[0;32mfor\u001b[0m \u001b[0m_r\u001b[0m \u001b[0;32min\u001b[0m \u001b[0mr\u001b[0m\u001b[0;34m:\u001b[0m\u001b[0;34m\u001b[0m\u001b[0;34m\u001b[0m\u001b[0m\n\u001b[1;32m     16\u001b[0m             \u001b[0;31m#print (\"Try to reduce {} with {}\".format(S[checkidx], S[i].Lder()))\u001b[0m\u001b[0;34m\u001b[0m\u001b[0;34m\u001b[0m\u001b[0;34m\u001b[0m\u001b[0m\n\u001b[0;32m---> 17\u001b[0;31m             \u001b[0mres\u001b[0m \u001b[0;34m=\u001b[0m \u001b[0mreduce\u001b[0m \u001b[0;34m(\u001b[0m\u001b[0m_r\u001b[0m\u001b[0;34m,\u001b[0m \u001b[0mp\u001b[0m\u001b[0;34m,\u001b[0m \u001b[0mcontext\u001b[0m\u001b[0;34m)\u001b[0m\u001b[0;34m\u001b[0m\u001b[0;34m\u001b[0m\u001b[0m\n\u001b[0m\u001b[1;32m     18\u001b[0m             \u001b[0;32mif\u001b[0m \u001b[0mres\u001b[0m \u001b[0;34m!=\u001b[0m \u001b[0m_r\u001b[0m\u001b[0;34m:\u001b[0m\u001b[0;34m\u001b[0m\u001b[0;34m\u001b[0m\u001b[0m\n\u001b[1;32m     19\u001b[0m                 \u001b[0mhave_reduced\u001b[0m \u001b[0;34m=\u001b[0m \u001b[0;32mTrue\u001b[0m\u001b[0;34m\u001b[0m\u001b[0;34m\u001b[0m\u001b[0m\n",
      "\u001b[0;32m<ipython-input-2-8042d25b3d55>\u001b[0m in \u001b[0;36mreduce\u001b[0;34m(e1, e2, context)\u001b[0m\n\u001b[1;32m     32\u001b[0m             \u001b[0;32mif\u001b[0m \u001b[0mall\u001b[0m \u001b[0;34m(\u001b[0m\u001b[0mmap\u001b[0m \u001b[0;34m(\u001b[0m\u001b[0;32mlambda\u001b[0m \u001b[0mh\u001b[0m\u001b[0;34m:\u001b[0m \u001b[0mh\u001b[0m \u001b[0;34m==\u001b[0m \u001b[0mInteger\u001b[0m\u001b[0;34m(\u001b[0m\u001b[0;36m0\u001b[0m\u001b[0;34m)\u001b[0m\u001b[0;34m,\u001b[0m \u001b[0mdif\u001b[0m\u001b[0;34m)\u001b[0m\u001b[0;34m)\u001b[0m \u001b[0;34m:\u001b[0m\u001b[0;34m\u001b[0m\u001b[0;34m\u001b[0m\u001b[0m\n\u001b[1;32m     33\u001b[0m                 \u001b[0me1\u001b[0m \u001b[0;34m=\u001b[0m \u001b[0me1\u001b[0m \u001b[0;34m-\u001b[0m \u001b[0me2\u001b[0m \u001b[0;34m*\u001b[0m \u001b[0mc\u001b[0m\u001b[0;34m\u001b[0m\u001b[0;34m\u001b[0m\u001b[0m\n\u001b[0;32m---> 34\u001b[0;31m                 \u001b[0;32mreturn\u001b[0m \u001b[0mDifferential_Polynomial\u001b[0m \u001b[0;34m(\u001b[0m\u001b[0me1\u001b[0m\u001b[0;34m.\u001b[0m\u001b[0mvalue\u001b[0m\u001b[0;34m(\u001b[0m\u001b[0;34m)\u001b[0m\u001b[0;34m,\u001b[0m \u001b[0mcontext\u001b[0m\u001b[0;34m)\u001b[0m\u001b[0;34m\u001b[0m\u001b[0;34m\u001b[0m\u001b[0m\n\u001b[0m\u001b[1;32m     35\u001b[0m             \u001b[0;32mif\u001b[0m \u001b[0mall\u001b[0m \u001b[0;34m(\u001b[0m\u001b[0mmap\u001b[0m \u001b[0;34m(\u001b[0m\u001b[0;32mlambda\u001b[0m \u001b[0mh\u001b[0m\u001b[0;34m:\u001b[0m \u001b[0mh\u001b[0m \u001b[0;34m>=\u001b[0m \u001b[0mInteger\u001b[0m\u001b[0;34m(\u001b[0m\u001b[0;36m0\u001b[0m\u001b[0;34m)\u001b[0m\u001b[0;34m,\u001b[0m \u001b[0mdif\u001b[0m\u001b[0;34m)\u001b[0m\u001b[0;34m)\u001b[0m\u001b[0;34m:\u001b[0m\u001b[0;34m\u001b[0m\u001b[0;34m\u001b[0m\u001b[0m\n\u001b[1;32m     36\u001b[0m                 \u001b[0mvariables_to_diff\u001b[0m \u001b[0;34m=\u001b[0m \u001b[0;34m[\u001b[0m\u001b[0;34m]\u001b[0m\u001b[0;34m\u001b[0m\u001b[0;34m\u001b[0m\u001b[0m\n",
      "\u001b[0;31mAttributeError\u001b[0m: 'Differential_Polynomial' object has no attribute 'value'"
     ]
    }
   ],
   "source": [
    "checkS=JanetBasis([f3,f1,f5, f2,f4], ctx)"
   ]
  },
  {
   "cell_type": "code",
   "execution_count": null,
   "id": "62ae5aa8",
   "metadata": {},
   "outputs": [],
   "source": []
  },
  {
   "cell_type": "code",
   "execution_count": null,
   "id": "44ee9c0e",
   "metadata": {},
   "outputs": [],
   "source": []
  },
  {
   "cell_type": "code",
   "execution_count": null,
   "id": "e105cb86",
   "metadata": {},
   "outputs": [],
   "source": [
    "for _ in checkS:\n",
    "    _.show()"
   ]
  },
  {
   "cell_type": "code",
   "execution_count": null,
   "id": "46ed2f33",
   "metadata": {},
   "outputs": [],
   "source": [
    "g1 = Differential_Polynomial (diff(z,y,y) + diff(z,y)/(2*y), ctx)"
   ]
  },
  {
   "cell_type": "code",
   "execution_count": null,
   "id": "afc0a9c0",
   "metadata": {},
   "outputs": [],
   "source": [
    "g2 = Differential_Polynomial(diff(w,x,x) + 4*y*y*diff(w,y) - 8*y*y*diff(z, x) - 8*y*w(x,y), ctx)"
   ]
  },
  {
   "cell_type": "code",
   "execution_count": null,
   "id": "f6857679",
   "metadata": {},
   "outputs": [],
   "source": [
    "g3 = Differential_Polynomial(diff(w,x,y) - diff(z,x,x)/2 - diff(w,x)/(2*y) - 6*y**2*diff(z,y), ctx)"
   ]
  },
  {
   "cell_type": "code",
   "execution_count": null,
   "id": "baf35d37",
   "metadata": {},
   "outputs": [],
   "source": [
    "g4 = Differential_Polynomial(diff(w,y,y) - 2*diff(z,x,y)- diff(w,y)/(2*y) + w(x,y)/(2*y**2), ctx)"
   ]
  }
 ],
 "metadata": {
  "kernelspec": {
   "display_name": "SageMath 9.2",
   "language": "sage",
   "name": "sagemath"
  },
  "language_info": {
   "codemirror_mode": {
    "name": "ipython",
    "version": 3
   },
   "file_extension": ".py",
   "mimetype": "text/x-python",
   "name": "python",
   "nbconvert_exporter": "python",
   "pygments_lexer": "ipython3",
   "version": "3.9.2"
  }
 },
 "nbformat": 4,
 "nbformat_minor": 5
}
