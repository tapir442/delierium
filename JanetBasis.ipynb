{
 "cells": [
  {
   "cell_type": "code",
   "execution_count": 2,
   "id": "193b97d5",
   "metadata": {},
   "outputs": [
    {
     "name": "stdout",
     "output_type": "stream",
     "text": [
      "['MatrixOrder',\n",
      " '__builtins__',\n",
      " '__cached__',\n",
      " '__doc__',\n",
      " '__file__',\n",
      " '__loader__',\n",
      " '__name__',\n",
      " '__package__',\n",
      " '__path__',\n",
      " '__spec__',\n",
      " 'pylie']\n"
     ]
    }
   ],
   "source": [
    "%display latex\n",
    "from pylie.pylie import *\n",
    "from pylie.MatrixOrder import *\n",
    "from pylie.JanetBasis import * \n",
    "from collections.abc import Iterable\n",
    "import functools\n",
    "from operator import mul, sub\n",
    "from pprint import pprint"
   ]
  },
  {
   "cell_type": "code",
   "execution_count": 3,
   "id": "a45b5c99",
   "metadata": {},
   "outputs": [],
   "source": [
    "def reduce(e1: Differential_Polynomial,e2: Differential_Polynomial, context:Context)->Differential_Polynomial:\n",
    "    # XXX except only function names in context list\n",
    "    assert e2.is_monic()\n",
    "    for t, d, c, in zip (e1.terms(), e1.derivatives(), e1.coefficients()):\n",
    "        ld = e2.Lder()\n",
    "        def _order (der):\n",
    "            if der != 1:\n",
    "                return pylie.order_of_derivative(der)\n",
    "            else :\n",
    "                return [0]*len(context._independent)\n",
    "        e2_order = _order (ld)\n",
    "        e1_order = _order (d)\n",
    "        dif = []\n",
    "        for a, b in zip (e1_order, e2_order):\n",
    "            dif += [a - b]\n",
    "        try:\n",
    "            if ld.operator().function() != d.operator().function():\n",
    "                continue\n",
    "        except AttributeError:\n",
    "            continue            \n",
    "        if all (map (lambda h: h == 0, dif)) :\n",
    "            # XXX: do we need that in homogenous environmeent?\n",
    "            inter = sum(_ for _ in e1.terms()) - c * sum (_ for _ in e2.terms())\n",
    "            dp = Differential_Polynomial(inter.simplify_full().expand(), context)\n",
    "            assert dp.is_monic()\n",
    "            return dp\n",
    "        elif  all (map (lambda h: h >= 0, dif)):\n",
    "            print (\"PPPPPPPPPPPPPPPPPPPPPPPPPPPPPPPPPPPPPPPPPPP\")\n",
    "            # get variables which shuld be differentiate\n",
    "            variables_to_diff = []\n",
    "            for i in range (len(context._independent)):\n",
    "                if dif [i] != 0:\n",
    "                    variables_to_diff.extend ([context._independent[i]]*abs(dif[i]))\n",
    "            print (\"Vorher\", variables_to_diff)\n",
    "            print (\"reduce {} with {}\".format(e1.Lder(), e2.Lder()))\n",
    "            print (\"e1:\", e1.Lterm())\n",
    "            print (\"e2:\", e2.Lterm())\n",
    "            e1._orig.show()\n",
    "            e2._orig.show()\n",
    "            print (\"after derivation................\")\n",
    "            diff(e2._orig, *variables_to_diff).show()\n",
    "            e3 = e1._orig - c * diff(e2._orig, *variables_to_diff)\n",
    "            e3.show()\n",
    "            dp =  Differential_Polynomial (e3, context)\n",
    "            print (\"e3:\", dp.Lterm())            \n",
    "            #for _ in dp._p:\n",
    "            #    print (\":3\", _._d, _._coeff)            \n",
    "            return dp\n",
    "        else:\n",
    "            print (\"no reduction?\")\n",
    "            pass\n",
    "    return e1"
   ]
  },
  {
   "cell_type": "code",
   "execution_count": 4,
   "id": "d38277c2",
   "metadata": {},
   "outputs": [
    {
     "name": "stdout",
     "output_type": "stream",
     "text": [
      "**********************************************************************\n"
     ]
    },
    {
     "ename": "AttributeError",
     "evalue": "module 'pylie' has no attribute 'is_derivative'",
     "output_type": "error",
     "traceback": [
      "\u001b[0;31m---------------------------------------------------------------------------\u001b[0m",
      "\u001b[0;31mAttributeError\u001b[0m                            Traceback (most recent call last)",
      "\u001b[0;32m<ipython-input-4-3f169fbf5c2a>\u001b[0m in \u001b[0;36m<module>\u001b[0;34m\u001b[0m\n\u001b[1;32m      4\u001b[0m \u001b[0mprint\u001b[0m\u001b[0;34m(\u001b[0m\u001b[0;34m\"*\"\u001b[0m\u001b[0;34m*\u001b[0m\u001b[0mInteger\u001b[0m\u001b[0;34m(\u001b[0m\u001b[0;36m70\u001b[0m\u001b[0;34m)\u001b[0m\u001b[0;34m)\u001b[0m\u001b[0;34m\u001b[0m\u001b[0;34m\u001b[0m\u001b[0m\n\u001b[1;32m      5\u001b[0m \u001b[0me1\u001b[0m \u001b[0;34m=\u001b[0m \u001b[0mdiff\u001b[0m\u001b[0;34m(\u001b[0m\u001b[0mz\u001b[0m\u001b[0;34m,\u001b[0m\u001b[0my\u001b[0m\u001b[0;34m)\u001b[0m\u001b[0;34m-\u001b[0m\u001b[0mx\u001b[0m\u001b[0;34m**\u001b[0m\u001b[0mInteger\u001b[0m\u001b[0;34m(\u001b[0m\u001b[0;36m2\u001b[0m\u001b[0;34m)\u001b[0m\u001b[0;34m/\u001b[0m\u001b[0my\u001b[0m\u001b[0;34m**\u001b[0m\u001b[0mInteger\u001b[0m\u001b[0;34m(\u001b[0m\u001b[0;36m2\u001b[0m\u001b[0;34m)\u001b[0m\u001b[0;34m*\u001b[0m\u001b[0mdiff\u001b[0m\u001b[0;34m(\u001b[0m\u001b[0mz\u001b[0m\u001b[0;34m,\u001b[0m\u001b[0mx\u001b[0m\u001b[0;34m)\u001b[0m\u001b[0;34m-\u001b[0m\u001b[0;34m(\u001b[0m\u001b[0mx\u001b[0m\u001b[0;34m-\u001b[0m\u001b[0my\u001b[0m\u001b[0;34m)\u001b[0m\u001b[0;34m*\u001b[0m\u001b[0mz\u001b[0m\u001b[0;34m(\u001b[0m\u001b[0mx\u001b[0m\u001b[0;34m,\u001b[0m\u001b[0my\u001b[0m\u001b[0;34m)\u001b[0m\u001b[0;34m/\u001b[0m\u001b[0my\u001b[0m\u001b[0;34m**\u001b[0m\u001b[0mInteger\u001b[0m\u001b[0;34m(\u001b[0m\u001b[0;36m2\u001b[0m\u001b[0;34m)\u001b[0m\u001b[0;34m\u001b[0m\u001b[0;34m\u001b[0m\u001b[0m\n\u001b[0;32m----> 6\u001b[0;31m \u001b[0me1_dp\u001b[0m \u001b[0;34m=\u001b[0m \u001b[0mDifferential_Polynomial\u001b[0m \u001b[0;34m(\u001b[0m\u001b[0me1\u001b[0m\u001b[0;34m,\u001b[0m \u001b[0mctx\u001b[0m\u001b[0;34m)\u001b[0m\u001b[0;34m\u001b[0m\u001b[0;34m\u001b[0m\u001b[0m\n\u001b[0m\u001b[1;32m      7\u001b[0m \u001b[0mprint\u001b[0m \u001b[0;34m(\u001b[0m\u001b[0me1_dp\u001b[0m\u001b[0;34m)\u001b[0m\u001b[0;34m\u001b[0m\u001b[0;34m\u001b[0m\u001b[0m\n\u001b[1;32m      8\u001b[0m \u001b[0mprint\u001b[0m\u001b[0;34m(\u001b[0m\u001b[0;34m\"*\"\u001b[0m\u001b[0;34m*\u001b[0m\u001b[0mInteger\u001b[0m\u001b[0;34m(\u001b[0m\u001b[0;36m70\u001b[0m\u001b[0;34m)\u001b[0m\u001b[0;34m)\u001b[0m\u001b[0;34m\u001b[0m\u001b[0;34m\u001b[0m\u001b[0m\n",
      "\u001b[0;32m~/Dokumente/pylie/pylie/JanetBasis.py\u001b[0m in \u001b[0;36m__init__\u001b[0;34m(self, e, context)\u001b[0m\n\u001b[1;32m     58\u001b[0m         \u001b[0mself\u001b[0m\u001b[0;34m.\u001b[0m\u001b[0m_orig\u001b[0m    \u001b[0;34m=\u001b[0m \u001b[0me\u001b[0m\u001b[0;34m\u001b[0m\u001b[0;34m\u001b[0m\u001b[0m\n\u001b[1;32m     59\u001b[0m         \u001b[0mself\u001b[0m\u001b[0;34m.\u001b[0m\u001b[0m_context\u001b[0m \u001b[0;34m=\u001b[0m \u001b[0mcontext\u001b[0m\u001b[0;34m\u001b[0m\u001b[0;34m\u001b[0m\u001b[0m\n\u001b[0;32m---> 60\u001b[0;31m         \u001b[0mself\u001b[0m\u001b[0;34m.\u001b[0m\u001b[0m_init\u001b[0m\u001b[0;34m(\u001b[0m\u001b[0;34m)\u001b[0m\u001b[0;34m\u001b[0m\u001b[0;34m\u001b[0m\u001b[0m\n\u001b[0m\u001b[1;32m     61\u001b[0m \u001b[0;34m\u001b[0m\u001b[0m\n\u001b[1;32m     62\u001b[0m     \u001b[0;32mdef\u001b[0m \u001b[0m_init\u001b[0m\u001b[0;34m(\u001b[0m\u001b[0mself\u001b[0m\u001b[0;34m)\u001b[0m\u001b[0;34m:\u001b[0m\u001b[0;34m\u001b[0m\u001b[0;34m\u001b[0m\u001b[0m\n",
      "\u001b[0;32m~/Dokumente/pylie/pylie/JanetBasis.py\u001b[0m in \u001b[0;36m_init\u001b[0;34m(self)\u001b[0m\n\u001b[1;32m     63\u001b[0m         \u001b[0mres\u001b[0m \u001b[0;34m=\u001b[0m \u001b[0;34m[\u001b[0m\u001b[0;34m]\u001b[0m\u001b[0;34m\u001b[0m\u001b[0;34m\u001b[0m\u001b[0m\n\u001b[1;32m     64\u001b[0m         \u001b[0me\u001b[0m \u001b[0;34m=\u001b[0m \u001b[0mself\u001b[0m\u001b[0;34m.\u001b[0m\u001b[0m_orig\u001b[0m\u001b[0;34m\u001b[0m\u001b[0;34m\u001b[0m\u001b[0m\n\u001b[0;32m---> 65\u001b[0;31m         \u001b[0;32mif\u001b[0m \u001b[0mpylie\u001b[0m\u001b[0;34m.\u001b[0m\u001b[0mis_derivative\u001b[0m\u001b[0;34m(\u001b[0m\u001b[0me\u001b[0m\u001b[0;34m)\u001b[0m \u001b[0;32mor\u001b[0m \u001b[0mpylie\u001b[0m\u001b[0;34m.\u001b[0m\u001b[0mis_function\u001b[0m\u001b[0;34m(\u001b[0m\u001b[0me\u001b[0m\u001b[0;34m)\u001b[0m\u001b[0;34m:\u001b[0m\u001b[0;34m\u001b[0m\u001b[0;34m\u001b[0m\u001b[0m\n\u001b[0m\u001b[1;32m     66\u001b[0m             \u001b[0mres\u001b[0m \u001b[0;34m=\u001b[0m \u001b[0;34m[\u001b[0m\u001b[0mDTerm\u001b[0m\u001b[0;34m(\u001b[0m\u001b[0mself\u001b[0m\u001b[0;34m.\u001b[0m\u001b[0m_orig\u001b[0m\u001b[0;34m,\u001b[0m \u001b[0mself\u001b[0m\u001b[0;34m.\u001b[0m\u001b[0m_context\u001b[0m\u001b[0;34m)\u001b[0m\u001b[0;34m]\u001b[0m\u001b[0;34m\u001b[0m\u001b[0;34m\u001b[0m\u001b[0m\n\u001b[1;32m     67\u001b[0m         \u001b[0;32melse\u001b[0m\u001b[0;34m:\u001b[0m\u001b[0;34m\u001b[0m\u001b[0;34m\u001b[0m\u001b[0m\n",
      "\u001b[0;31mAttributeError\u001b[0m: module 'pylie' has no attribute 'is_derivative'"
     ]
    }
   ],
   "source": [
    "var(\"x y\")\n",
    "z  = function (\"z\")(x,y)\n",
    "ctx = Context((z,), (x,y))\n",
    "print(\"*\"*70)\n",
    "e1 = diff(z,y)-x^2/y^2*diff(z,x)-(x-y)*z(x,y)/y^2\n",
    "e1_dp = Differential_Polynomial (e1, ctx)\n",
    "print (e1_dp)\n",
    "print(\"*\"*70)\n",
    "f1 = diff(z, x) + z(x,y)/x\n",
    "f1_dp = Differential_Polynomial (f1, ctx)\n",
    "f1_dp.is_monic()\n",
    "print (f1_dp)\n",
    "print(\"*\"*70)\n",
    "f2 = diff(z, y) + z(x,y)/y\n",
    "f2_dp = Differential_Polynomial (f2, ctx)\n",
    "print (f2_dp)"
   ]
  },
  {
   "cell_type": "code",
   "execution_count": 5,
   "id": "10b534b2",
   "metadata": {},
   "outputs": [
    {
     "ename": "NameError",
     "evalue": "name 'e1_dp' is not defined",
     "output_type": "error",
     "traceback": [
      "\u001b[0;31m---------------------------------------------------------------------------\u001b[0m",
      "\u001b[0;31mNameError\u001b[0m                                 Traceback (most recent call last)",
      "\u001b[0;32m<ipython-input-5-6faf50221dea>\u001b[0m in \u001b[0;36m<module>\u001b[0;34m\u001b[0m\n\u001b[0;32m----> 1\u001b[0;31m \u001b[0mr1\u001b[0m \u001b[0;34m=\u001b[0m \u001b[0mreduce\u001b[0m \u001b[0;34m(\u001b[0m\u001b[0me1_dp\u001b[0m\u001b[0;34m,\u001b[0m \u001b[0mf1_dp\u001b[0m\u001b[0;34m,\u001b[0m \u001b[0mctx\u001b[0m\u001b[0;34m)\u001b[0m\u001b[0;34m\u001b[0m\u001b[0;34m\u001b[0m\u001b[0m\n\u001b[0m",
      "\u001b[0;31mNameError\u001b[0m: name 'e1_dp' is not defined"
     ]
    }
   ],
   "source": [
    "r1 = reduce (e1_dp, f1_dp, ctx)"
   ]
  },
  {
   "cell_type": "code",
   "execution_count": 6,
   "id": "bb23cbc3",
   "metadata": {},
   "outputs": [
    {
     "ename": "NameError",
     "evalue": "name 'r1' is not defined",
     "output_type": "error",
     "traceback": [
      "\u001b[0;31m---------------------------------------------------------------------------\u001b[0m",
      "\u001b[0;31mNameError\u001b[0m                                 Traceback (most recent call last)",
      "\u001b[0;32m<ipython-input-6-d502f2d87627>\u001b[0m in \u001b[0;36m<module>\u001b[0;34m\u001b[0m\n\u001b[0;32m----> 1\u001b[0;31m \u001b[0mr1\u001b[0m\u001b[0;34m\u001b[0m\u001b[0;34m\u001b[0m\u001b[0m\n\u001b[0m",
      "\u001b[0;31mNameError\u001b[0m: name 'r1' is not defined"
     ]
    }
   ],
   "source": [
    "r1"
   ]
  },
  {
   "cell_type": "code",
   "execution_count": 7,
   "id": "3f8ee24f",
   "metadata": {},
   "outputs": [
    {
     "ename": "NameError",
     "evalue": "name 'r1' is not defined",
     "output_type": "error",
     "traceback": [
      "\u001b[0;31m---------------------------------------------------------------------------\u001b[0m",
      "\u001b[0;31mNameError\u001b[0m                                 Traceback (most recent call last)",
      "\u001b[0;32m<ipython-input-7-6b9682765a81>\u001b[0m in \u001b[0;36m<module>\u001b[0;34m\u001b[0m\n\u001b[0;32m----> 1\u001b[0;31m \u001b[0mr1\u001b[0m\u001b[0;34m.\u001b[0m\u001b[0m_orig\u001b[0m\u001b[0;34m\u001b[0m\u001b[0;34m\u001b[0m\u001b[0m\n\u001b[0m",
      "\u001b[0;31mNameError\u001b[0m: name 'r1' is not defined"
     ]
    }
   ],
   "source": [
    "r1._orig"
   ]
  },
  {
   "cell_type": "code",
   "execution_count": 8,
   "id": "9fce5216",
   "metadata": {},
   "outputs": [
    {
     "ename": "NameError",
     "evalue": "name 'r1' is not defined",
     "output_type": "error",
     "traceback": [
      "\u001b[0;31m---------------------------------------------------------------------------\u001b[0m",
      "\u001b[0;31mNameError\u001b[0m                                 Traceback (most recent call last)",
      "\u001b[0;32m<ipython-input-8-8aa7ff90aaa1>\u001b[0m in \u001b[0;36m<module>\u001b[0;34m\u001b[0m\n\u001b[0;32m----> 1\u001b[0;31m \u001b[0mr1\u001b[0m\u001b[0;34m.\u001b[0m\u001b[0m_p\u001b[0m\u001b[0;34m\u001b[0m\u001b[0;34m\u001b[0m\u001b[0m\n\u001b[0m",
      "\u001b[0;31mNameError\u001b[0m: name 'r1' is not defined"
     ]
    }
   ],
   "source": [
    "r1._p"
   ]
  },
  {
   "cell_type": "code",
   "execution_count": 9,
   "id": "7b2c1afc",
   "metadata": {},
   "outputs": [
    {
     "ename": "NameError",
     "evalue": "name 'f2_dp' is not defined",
     "output_type": "error",
     "traceback": [
      "\u001b[0;31m---------------------------------------------------------------------------\u001b[0m",
      "\u001b[0;31mNameError\u001b[0m                                 Traceback (most recent call last)",
      "\u001b[0;32m<ipython-input-9-c94460c247be>\u001b[0m in \u001b[0;36m<module>\u001b[0;34m\u001b[0m\n\u001b[0;32m----> 1\u001b[0;31m \u001b[0mf2_dp\u001b[0m\u001b[0;34m.\u001b[0m\u001b[0m_p\u001b[0m\u001b[0;34m\u001b[0m\u001b[0;34m\u001b[0m\u001b[0m\n\u001b[0m",
      "\u001b[0;31mNameError\u001b[0m: name 'f2_dp' is not defined"
     ]
    }
   ],
   "source": [
    "f2_dp._p"
   ]
  },
  {
   "cell_type": "code",
   "execution_count": null,
   "id": "ddb1a096",
   "metadata": {},
   "outputs": [],
   "source": [
    "r2 = reduce (r1, f2_dp, ctx)"
   ]
  },
  {
   "cell_type": "code",
   "execution_count": null,
   "id": "7a419421",
   "metadata": {},
   "outputs": [],
   "source": [
    "r2"
   ]
  },
  {
   "cell_type": "code",
   "execution_count": null,
   "id": "6d9f076d",
   "metadata": {},
   "outputs": [],
   "source": [
    "def Lfunc(e):\n",
    "    return e"
   ]
  },
  {
   "cell_type": "code",
   "execution_count": null,
   "id": "4a729240",
   "metadata": {},
   "outputs": [],
   "source": [
    "def Lcml(e):\n",
    "    '''Least common left multiply, p.23'''\n",
    "    return 0"
   ]
  },
  {
   "cell_type": "code",
   "execution_count": null,
   "id": "d8690839",
   "metadata": {},
   "outputs": [],
   "source": [
    "def Lcm(e):\n",
    "    return 0"
   ]
  },
  {
   "cell_type": "code",
   "execution_count": null,
   "id": "20a51dad",
   "metadata": {},
   "outputs": [],
   "source": [
    "def CompleteSystem(S, context):\n",
    "    return S"
   ]
  },
  {
   "cell_type": "code",
   "execution_count": null,
   "id": "dc28a51d",
   "metadata": {},
   "outputs": [],
   "source": [
    "def FindIntegrableConditions(S, context):\n",
    "    return S"
   ]
  },
  {
   "cell_type": "code",
   "execution_count": null,
   "id": "cf67dda8",
   "metadata": {},
   "outputs": [],
   "source": [
    "def ReduceIntegrabilityConditions(S, context):\n",
    "    return S"
   ]
  },
  {
   "cell_type": "code",
   "execution_count": null,
   "id": "e1fdfda6",
   "metadata": {},
   "outputs": [],
   "source": [
    "def Reorder (S, context):\n",
    "    res=sorted(S, \n",
    "            key=functools.cmp_to_key(\n",
    "                 lambda item1, item2: \n",
    "                                MatrixOrder.sorter (item1.Lder(), item2.Lder() , context._weight, \n",
    "                                                    tuple(context._dependent), \n",
    "                                                    tuple(context._independent)\n",
    "                                                   )\n",
    "                       )\n",
    "                      )\n",
    "    return res"
   ]
  },
  {
   "cell_type": "code",
   "execution_count": null,
   "id": "e6699f73",
   "metadata": {},
   "outputs": [],
   "source": [
    "var (\"x y\")\n",
    "z = function(\"z\")(x,y)\n",
    "w = function(\"w\")(x,y)\n",
    "ctx = Context((w,z), (x,y), MatrixOrder.Mgrlex)\n",
    "f1 = Differential_Polynomial(diff(w, y) + x*diff(z,y)/(2*y*(x**2+y)) - w(x,y)/y, ctx)\n",
    "f1._orig"
   ]
  },
  {
   "cell_type": "code",
   "execution_count": null,
   "id": "103a7083",
   "metadata": {},
   "outputs": [],
   "source": [
    "f2=Differential_Polynomial(diff(z,x,y) + y*diff(w,y)/x + 2*y*diff(z, x)/x,ctx)\n",
    "f2._orig"
   ]
  },
  {
   "cell_type": "code",
   "execution_count": null,
   "id": "fc640fc4",
   "metadata": {},
   "outputs": [],
   "source": [
    "f3 = Differential_Polynomial(diff(w, x,y) - 2*x*diff(z, x,2)/y - x*diff(w,x)/y**2 ,ctx)\n",
    "f3._orig"
   ]
  },
  {
   "cell_type": "code",
   "execution_count": null,
   "id": "a559a45c",
   "metadata": {},
   "outputs": [],
   "source": [
    "f4 = Differential_Polynomial(diff(w, x,y) + diff(z, x,y) + diff(w, y)/(2*y) - diff(w,x)/y + x* diff(z, y)/y - w(x,y)/(2*y**2), ctx)\n",
    "f4._orig\n",
    "f4._p"
   ]
  },
  {
   "cell_type": "code",
   "execution_count": null,
   "id": "10864262",
   "metadata": {},
   "outputs": [],
   "source": [
    "f5 = Differential_Polynomial(diff(w,y,y) + diff(z,x,y) - diff(w, y)/y + w(x,y)/y**2, ctx)\n",
    "f5._orig"
   ]
  },
  {
   "cell_type": "code",
   "execution_count": null,
   "id": "bd3b2dda",
   "metadata": {},
   "outputs": [],
   "source": [
    "def Autoreduce(S, context):  \n",
    "    i = 0\n",
    "    while True:\n",
    "        p = S[i]\n",
    "        r = S[i+1:]\n",
    "        if not r:\n",
    "            S = Reorder(S, context)\n",
    "            return S[:]            \n",
    "        have_reduced = False\n",
    "        checkidx = i+1\n",
    "        for _r in r:\n",
    "            print (\"Try to reduce p{} with r{}\".format(i, checkidx))\n",
    "            res = reduce (p, _r, context)\n",
    "            if res._orig != p._orig:\n",
    "                print (\"have reduced!\")\n",
    "                res._orig.show()\n",
    "                have_reduced = True                \n",
    "            S[i] = res\n",
    "            checkidx += 1\n",
    "        S = Reorder(S, context)\n",
    "        print(\"This is the new System........\")\n",
    "        for _ in S:\n",
    "            _._orig.show()\n",
    "        if not have_reduced:\n",
    "            i += 1        \n",
    "        else:\n",
    "            i = 0\n",
    "            "
   ]
  },
  {
   "cell_type": "code",
   "execution_count": null,
   "id": "3c6cb048",
   "metadata": {},
   "outputs": [],
   "source": [
    "def JanetBasis(S, context):\n",
    "    \"\"\"List of homogenous PDE's + order context\"\"\"\n",
    "    if not isinstance(S, Iterable):\n",
    "        # bad criterion\n",
    "        S = [S]\n",
    "    S = [Differential_Polynomial(s, context) for s in S]\n",
    "    S = Reorder(S, context)\n",
    "    while 1:\n",
    "        S = Autoreduce (S, context)\n",
    "        #S = CompleteSystem (S, context)\n",
    "        #f = FindIntegrableConditions(S, context)\n",
    "        #c = ReduceIntegrabilityConditions(S, context)\n",
    "        #if all ([_ == 0 for _ in c]) or not c:\n",
    "        #    return S\n",
    "        #S += c\n",
    "        #S = Reorder (S, context)\n",
    "        return S[:]"
   ]
  },
  {
   "cell_type": "code",
   "execution_count": null,
   "id": "0b59e63d",
   "metadata": {},
   "outputs": [],
   "source": [
    "checkS=JanetBasis([f3._orig,f1._orig,f5._orig, f2._orig,f4._orig], ctx)"
   ]
  },
  {
   "cell_type": "code",
   "execution_count": null,
   "id": "6f20e96e",
   "metadata": {},
   "outputs": [],
   "source": [
    "for i in (f1._orig, f2._orig,f3._orig, f4._orig,f5._orig):\n",
    "    i.show()"
   ]
  },
  {
   "cell_type": "code",
   "execution_count": null,
   "id": "302787cf",
   "metadata": {},
   "outputs": [],
   "source": [
    "for _ in checkS:\n",
    "    _._orig.show()"
   ]
  },
  {
   "cell_type": "code",
   "execution_count": null,
   "id": "003eb113",
   "metadata": {},
   "outputs": [],
   "source": [
    "g1 = Differential_Polynomial (diff(z,y,y) + diff(z,y)/(2*y), ctx)\n",
    "g1._orig"
   ]
  },
  {
   "cell_type": "code",
   "execution_count": null,
   "id": "30551add",
   "metadata": {},
   "outputs": [],
   "source": [
    "g2 = Differential_Polynomial(diff(w,x,x) + 4*y*y*diff(w,y) - 8*y*y*diff(z, x) - 8*y*w(x,y), ctx)\n",
    "g2._orig"
   ]
  },
  {
   "cell_type": "code",
   "execution_count": null,
   "id": "c7138844",
   "metadata": {},
   "outputs": [],
   "source": [
    "g3 = Differential_Polynomial(diff(w,x,y) - diff(z,x,x)/2 - diff(w,x)/(2*y) - 6*y**2*diff(z,y), ctx)\n",
    "g3._orig"
   ]
  },
  {
   "cell_type": "code",
   "execution_count": null,
   "id": "816f7037",
   "metadata": {},
   "outputs": [],
   "source": [
    "g4 = Differential_Polynomial(diff(w,y,y) - 2*diff(z,x,y)- diff(w,y)/(2*y) + w(x,y)/(2*y**2), ctx)\n",
    "g4._orig"
   ]
  },
  {
   "cell_type": "code",
   "execution_count": null,
   "id": "777659fd",
   "metadata": {},
   "outputs": [],
   "source": [
    "f1._orig"
   ]
  },
  {
   "cell_type": "code",
   "execution_count": null,
   "id": "986ae6a7",
   "metadata": {},
   "outputs": [],
   "source": [
    "f4._orig"
   ]
  },
  {
   "cell_type": "code",
   "execution_count": null,
   "id": "a37ecfcd",
   "metadata": {},
   "outputs": [],
   "source": [
    "print(f4.Lder(), f1.Lder())"
   ]
  },
  {
   "cell_type": "code",
   "execution_count": null,
   "id": "118579a3",
   "metadata": {},
   "outputs": [],
   "source": [
    "f4a = reduce(f4, f1, ctx)"
   ]
  },
  {
   "cell_type": "code",
   "execution_count": null,
   "id": "d55a8ff8",
   "metadata": {},
   "outputs": [],
   "source": [
    "for _ in f4a._p:\n",
    "   print (_)"
   ]
  },
  {
   "cell_type": "code",
   "execution_count": null,
   "id": "899884d3",
   "metadata": {},
   "outputs": [],
   "source": [
    "f4a._orig"
   ]
  },
  {
   "cell_type": "code",
   "execution_count": null,
   "id": "90f67efb",
   "metadata": {},
   "outputs": [],
   "source": [
    "wuwu=f4a._p[-1]._coeff.operands()[0]*f4a._p[-1]._coeff.operands()[1].expand().simplify_full()"
   ]
  },
  {
   "cell_type": "code",
   "execution_count": null,
   "id": "596e99fc",
   "metadata": {},
   "outputs": [],
   "source": [
    "f4b = reduce(f4a, f1, ctx)"
   ]
  },
  {
   "cell_type": "code",
   "execution_count": null,
   "id": "09e6f0e9",
   "metadata": {},
   "outputs": [],
   "source": [
    "f4b._orig"
   ]
  },
  {
   "cell_type": "code",
   "execution_count": null,
   "id": "b4a03552",
   "metadata": {},
   "outputs": [],
   "source": [
    "functools.reduce(operator.mul, f4b._p[1]._coeff.operands()).expand().simplify_full()"
   ]
  },
  {
   "cell_type": "code",
   "execution_count": null,
   "id": "61fcc1bb",
   "metadata": {},
   "outputs": [],
   "source": [
    "f4c = reduce(f4b, f2, ctx)"
   ]
  },
  {
   "cell_type": "code",
   "execution_count": null,
   "id": "6c999f45",
   "metadata": {},
   "outputs": [],
   "source": [
    "f4c._p[2]._coeff.expand().simplify_full()"
   ]
  },
  {
   "cell_type": "code",
   "execution_count": null,
   "id": "db5dbafa",
   "metadata": {},
   "outputs": [],
   "source": [
    "f4d = reduce (f4c, f1, ctx)"
   ]
  },
  {
   "cell_type": "code",
   "execution_count": null,
   "id": "d5f77b74",
   "metadata": {},
   "outputs": [],
   "source": [
    "f4d._p[1]._coeff.expand().simplify_full()"
   ]
  },
  {
   "cell_type": "code",
   "execution_count": null,
   "id": "2426800d",
   "metadata": {},
   "outputs": [],
   "source": [
    "f4d._p[0]._d"
   ]
  },
  {
   "cell_type": "code",
   "execution_count": null,
   "id": "5e854647",
   "metadata": {},
   "outputs": [],
   "source": [
    "wuwu.collect(y)\n",
    "# correct according Example 2.35"
   ]
  },
  {
   "cell_type": "code",
   "execution_count": null,
   "id": "02248e04",
   "metadata": {},
   "outputs": [],
   "source": [
    "wuwu=f4a._p[-2]._coeff"
   ]
  },
  {
   "cell_type": "code",
   "execution_count": null,
   "id": "e7d8caa2",
   "metadata": {},
   "outputs": [],
   "source": [
    "wuwu"
   ]
  },
  {
   "cell_type": "code",
   "execution_count": null,
   "id": "249ebdcc",
   "metadata": {},
   "outputs": [],
   "source": [
    "wuwu=f4a._p[-2]._coeff.operands()"
   ]
  },
  {
   "cell_type": "code",
   "execution_count": null,
   "id": "a04cb3d8",
   "metadata": {},
   "outputs": [],
   "source": [
    "wuwu"
   ]
  },
  {
   "cell_type": "code",
   "execution_count": null,
   "id": "1a090ef8",
   "metadata": {},
   "outputs": [],
   "source": [
    "wawa=wuwu[0]*wuwu[1]"
   ]
  },
  {
   "cell_type": "code",
   "execution_count": null,
   "id": "c57eda36",
   "metadata": {},
   "outputs": [],
   "source": [
    "wawa.expand().simplify_full()"
   ]
  },
  {
   "cell_type": "code",
   "execution_count": null,
   "id": "0b4663c9",
   "metadata": {},
   "outputs": [],
   "source": [
    "# wawa is a"
   ]
  },
  {
   "cell_type": "code",
   "execution_count": null,
   "id": "094801b9",
   "metadata": {},
   "outputs": [],
   "source": []
  }
 ],
 "metadata": {
  "kernelspec": {
   "display_name": "SageMath 9.2",
   "language": "sage",
   "name": "sagemath"
  },
  "language_info": {
   "codemirror_mode": {
    "name": "ipython",
    "version": 3
   },
   "file_extension": ".py",
   "mimetype": "text/x-python",
   "name": "python",
   "nbconvert_exporter": "python",
   "pygments_lexer": "ipython3",
   "version": "3.9.2"
  }
 },
 "nbformat": 4,
 "nbformat_minor": 5
}
