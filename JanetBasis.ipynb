{
 "cells": [
  {
   "cell_type": "code",
   "execution_count": 1,
   "id": "f8bcf749",
   "metadata": {},
   "outputs": [],
   "source": [
    "%display latex\n",
    "from sage.delierium import *\n",
    "from pprint import pprint \n",
    "from collections.abc import Iterable\n",
    "import functools\n",
    "from operator import mul, sub\n",
    "from IPython.core.debugger import set_trace\n",
    "import itertools"
   ]
  },
  {
   "cell_type": "code",
   "execution_count": 2,
   "id": "c82d979e",
   "metadata": {},
   "outputs": [],
   "source": [
    "def FindIntegrableConditions(S, context):\n",
    "    l = [_l.Lder() for _l in S]\n",
    "    for e1, e2 in itertools.product(S, repeat = 2):\n",
    "        if bool(e1 == e2):\n",
    "            continue\n",
    "        e1_mult, e1_nonmult = multipliers(e1.Lder(),l, context._independent)\n",
    "        e2_mult, e2_nonmult = multipliers(e2.Lder(),l, context._independent)\n",
    "        print (e1, e1_mult, e1_nonmult)\n",
    "        print (e2, e2_mult, e2_nonmult)\n",
    "    return S"
   ]
  },
  {
   "cell_type": "code",
   "execution_count": 3,
   "id": "9c66c904",
   "metadata": {},
   "outputs": [],
   "source": [
    "def ReduceIntegrabilityConditions(S, context):\n",
    "    return S"
   ]
  },
  {
   "cell_type": "code",
   "execution_count": 4,
   "id": "b4c3a4f5",
   "metadata": {},
   "outputs": [
    {
     "data": {
      "text/html": [
       "<html><script type=\"math/tex; mode=display\">\\newcommand{\\Bold}[1]{\\mathbf{#1}}-\\frac{w\\left(x, y\\right)}{y} + \\frac{x \\frac{\\partial}{\\partial y}z\\left(x, y\\right)}{2 \\, {\\left(x^{2} + y\\right)} y} + \\frac{\\partial}{\\partial y}w\\left(x, y\\right)</script></html>"
      ],
      "text/latex": [
       "\\begin{math}\n",
       "\\newcommand{\\Bold}[1]{\\mathbf{#1}}-\\frac{w\\left(x, y\\right)}{y} + \\frac{x \\frac{\\partial}{\\partial y}z\\left(x, y\\right)}{2 \\, {\\left(x^{2} + y\\right)} y} + \\frac{\\partial}{\\partial y}w\\left(x, y\\right)\n",
       "\\end{math}"
      ],
      "text/plain": [
       "-w(x, y)/y + 1/2*x*diff(z(x, y), y)/((x^2 + y)*y) + diff(w(x, y), y)"
      ]
     },
     "metadata": {},
     "output_type": "display_data"
    }
   ],
   "source": [
    "var (\"x y\")\n",
    "z = function(\"z\")(x,y)\n",
    "w = function(\"w\")(x,y)\n",
    "# ctx: items are in descending order ?\n",
    "ctx = Context((w,z), (x,y), Mgrlex)\n",
    "f1 =diff(w, y) + x*diff(z,y)/(2*y*(x**2+y)) - w(x,y)/y\n",
    "f1.show()"
   ]
  },
  {
   "cell_type": "code",
   "execution_count": 5,
   "id": "14b820eb",
   "metadata": {},
   "outputs": [
    {
     "data": {
      "text/html": [
       "<html><script type=\"math/tex; mode=display\">\\newcommand{\\Bold}[1]{\\mathbf{#1}}\\frac{y \\frac{\\partial}{\\partial y}w\\left(x, y\\right)}{x} + \\frac{2 \\, y \\frac{\\partial}{\\partial x}z\\left(x, y\\right)}{x} + \\frac{\\partial^{2}}{\\partial x\\partial y}z\\left(x, y\\right)</script></html>"
      ],
      "text/latex": [
       "\\begin{math}\n",
       "\\newcommand{\\Bold}[1]{\\mathbf{#1}}\\frac{y \\frac{\\partial}{\\partial y}w\\left(x, y\\right)}{x} + \\frac{2 \\, y \\frac{\\partial}{\\partial x}z\\left(x, y\\right)}{x} + \\frac{\\partial^{2}}{\\partial x\\partial y}z\\left(x, y\\right)\n",
       "\\end{math}"
      ],
      "text/plain": [
       "y*diff(w(x, y), y)/x + 2*y*diff(z(x, y), x)/x + diff(z(x, y), x, y)"
      ]
     },
     "metadata": {},
     "output_type": "display_data"
    }
   ],
   "source": [
    "f2=diff(z,x,y) + y*diff(w,y)/x + 2*y*diff(z, x)/x\n",
    "f2.show()"
   ]
  },
  {
   "cell_type": "code",
   "execution_count": 6,
   "id": "a30c813f",
   "metadata": {},
   "outputs": [
    {
     "data": {
      "text/html": [
       "<html><script type=\"math/tex; mode=display\">\\newcommand{\\Bold}[1]{\\mathbf{#1}}-\\frac{2 \\, x \\frac{\\partial^{2}}{(\\partial x)^{2}}z\\left(x, y\\right)}{y} - \\frac{x \\frac{\\partial}{\\partial x}w\\left(x, y\\right)}{y^{2}} + \\frac{\\partial^{2}}{\\partial x\\partial y}w\\left(x, y\\right)</script></html>"
      ],
      "text/latex": [
       "\\begin{math}\n",
       "\\newcommand{\\Bold}[1]{\\mathbf{#1}}-\\frac{2 \\, x \\frac{\\partial^{2}}{(\\partial x)^{2}}z\\left(x, y\\right)}{y} - \\frac{x \\frac{\\partial}{\\partial x}w\\left(x, y\\right)}{y^{2}} + \\frac{\\partial^{2}}{\\partial x\\partial y}w\\left(x, y\\right)\n",
       "\\end{math}"
      ],
      "text/plain": [
       "-2*x*diff(z(x, y), x, x)/y - x*diff(w(x, y), x)/y^2 + diff(w(x, y), x, y)"
      ]
     },
     "metadata": {},
     "output_type": "display_data"
    }
   ],
   "source": [
    "f3 = diff(w, x,y) - 2*x*diff(z, x,2)/y - x*diff(w,x)/y**2\n",
    "f3.show()"
   ]
  },
  {
   "cell_type": "code",
   "execution_count": 7,
   "id": "1112eb4f",
   "metadata": {},
   "outputs": [
    {
     "data": {
      "text/html": [
       "<html><script type=\"math/tex; mode=display\">\\newcommand{\\Bold}[1]{\\mathbf{#1}}\\frac{x \\frac{\\partial}{\\partial y}z\\left(x, y\\right)}{y} - \\frac{\\frac{\\partial}{\\partial x}w\\left(x, y\\right)}{y} + \\frac{\\frac{\\partial}{\\partial y}w\\left(x, y\\right)}{2 \\, y} - \\frac{w\\left(x, y\\right)}{2 \\, y^{2}} + \\frac{\\partial^{2}}{\\partial x\\partial y}w\\left(x, y\\right) + \\frac{\\partial^{2}}{\\partial x\\partial y}z\\left(x, y\\right)</script></html>"
      ],
      "text/latex": [
       "\\begin{math}\n",
       "\\newcommand{\\Bold}[1]{\\mathbf{#1}}\\frac{x \\frac{\\partial}{\\partial y}z\\left(x, y\\right)}{y} - \\frac{\\frac{\\partial}{\\partial x}w\\left(x, y\\right)}{y} + \\frac{\\frac{\\partial}{\\partial y}w\\left(x, y\\right)}{2 \\, y} - \\frac{w\\left(x, y\\right)}{2 \\, y^{2}} + \\frac{\\partial^{2}}{\\partial x\\partial y}w\\left(x, y\\right) + \\frac{\\partial^{2}}{\\partial x\\partial y}z\\left(x, y\\right)\n",
       "\\end{math}"
      ],
      "text/plain": [
       "x*diff(z(x, y), y)/y - diff(w(x, y), x)/y + 1/2*diff(w(x, y), y)/y - 1/2*w(x, y)/y^2 + diff(w(x, y), x, y) + diff(z(x, y), x, y)"
      ]
     },
     "metadata": {},
     "output_type": "display_data"
    }
   ],
   "source": [
    "f4 = diff(w, x,y) + diff(z, x,y) + diff(w, y)/(2*y) - diff(w,x)/y + x* diff(z, y)/y - w(x,y)/(2*y**2)\n",
    "f4.show()"
   ]
  },
  {
   "cell_type": "code",
   "execution_count": 8,
   "id": "8f915c22",
   "metadata": {},
   "outputs": [
    {
     "data": {
      "text/html": [
       "<html><script type=\"math/tex; mode=display\">\\newcommand{\\Bold}[1]{\\mathbf{#1}}-\\frac{\\frac{\\partial}{\\partial y}w\\left(x, y\\right)}{y} + \\frac{w\\left(x, y\\right)}{y^{2}} + \\frac{\\partial^{2}}{(\\partial y)^{2}}w\\left(x, y\\right) + \\frac{\\partial^{2}}{\\partial x\\partial y}z\\left(x, y\\right)</script></html>"
      ],
      "text/latex": [
       "\\begin{math}\n",
       "\\newcommand{\\Bold}[1]{\\mathbf{#1}}-\\frac{\\frac{\\partial}{\\partial y}w\\left(x, y\\right)}{y} + \\frac{w\\left(x, y\\right)}{y^{2}} + \\frac{\\partial^{2}}{(\\partial y)^{2}}w\\left(x, y\\right) + \\frac{\\partial^{2}}{\\partial x\\partial y}z\\left(x, y\\right)\n",
       "\\end{math}"
      ],
      "text/plain": [
       "-diff(w(x, y), y)/y + w(x, y)/y^2 + diff(w(x, y), y, y) + diff(z(x, y), x, y)"
      ]
     },
     "metadata": {},
     "output_type": "display_data"
    }
   ],
   "source": [
    "f5 =diff(w,y,y) + diff(z,x,y) - diff(w, y)/y + w(x,y)/(y**2)\n",
    "f5.show()"
   ]
  },
  {
   "cell_type": "code",
   "execution_count": 9,
   "id": "39ccdd5b",
   "metadata": {},
   "outputs": [],
   "source": [
    "#f2a=f2-(y*f1/x);f2a.expand().show()"
   ]
  },
  {
   "cell_type": "code",
   "execution_count": 10,
   "id": "d154beb6",
   "metadata": {},
   "outputs": [],
   "source": [
    "f1dp=Differential_Polynomial(f1, context=ctx)\n",
    "f2dp=Differential_Polynomial(f2, context=ctx)\n",
    "f3dp=Differential_Polynomial(f3, context=ctx)\n",
    "f4dp=Differential_Polynomial(f4, context=ctx)\n",
    "f5dp=Differential_Polynomial(f5, context=ctx)"
   ]
  },
  {
   "cell_type": "code",
   "execution_count": 11,
   "id": "93b06f5a",
   "metadata": {},
   "outputs": [],
   "source": [
    "class Janet_Basis:\n",
    "    def __init__ (self, S, context):\n",
    "        #self._S = JanetBasis(S,context)\n",
    "        if not isinstance(S, Iterable):\n",
    "            # bad criterion\n",
    "            S = [S]\n",
    "        self._init(S, context)\n",
    "    def _init (self, S, context):\n",
    "        S = Reorder([Differential_Polynomial(s, context) for s in S], context, ascending = True)\n",
    "        while 1:\n",
    "            S = Autoreduce (S, context)   \n",
    "            print (\"******************   Autoreduce ****************************************\")\n",
    "            for _ in S:\n",
    "                print (_._p)\n",
    "                _.show()            \n",
    "            S = CompleteSystem(S, context)\n",
    "            print (\"******************   completesystem ****************************************\")\n",
    "            for _ in S:\n",
    "                _.show()            \n",
    "            S = FindIntegrableConditions(S, context)\n",
    "            print (\"******************   FindIntegr ****************************************\")\n",
    "            for _ in S:\n",
    "                _.show()            \n",
    "            S = c = ReduceIntegrabilityConditions(S, context)\n",
    "            print (\"******************   ReduceIntegr ****************************************\")\n",
    "            for _ in S:\n",
    "                _.show()            \n",
    "            if not c or all ([_ == 0 for _ in c]):\n",
    "                self._S = S\n",
    "                return\n",
    "            S += c\n",
    "            S = Reorder (S, context)\n",
    "            self._S = S[:]        \n",
    "            return \n",
    "            \n",
    "    def show(self):\n",
    "        for _ in self._S:\n",
    "            _.show()"
   ]
  },
  {
   "cell_type": "code",
   "execution_count": 12,
   "id": "42adaf52",
   "metadata": {},
   "outputs": [
    {
     "name": "stdout",
     "output_type": "stream",
     "text": [
      "******************   Autoreduce ****************************************\n",
      "[<delierium.JanetBasis.DTerm object at 0x7f660124c490>]\n"
     ]
    },
    {
     "data": {
      "text/html": [
       "<html><script type=\"math/tex; mode=display\">\\newcommand{\\Bold}[1]{\\mathbf{#1}}\\frac{\\partial}{\\partial y}z\\left(x, y\\right)</script></html>"
      ],
      "text/latex": [
       "\\begin{math}\n",
       "\\newcommand{\\Bold}[1]{\\mathbf{#1}}\\frac{\\partial}{\\partial y}z\\left(x, y\\right)\n",
       "\\end{math}"
      ],
      "text/plain": [
       "diff(z(x, y), y)"
      ]
     },
     "metadata": {},
     "output_type": "display_data"
    },
    {
     "name": "stdout",
     "output_type": "stream",
     "text": [
      "[<delierium.JanetBasis.DTerm object at 0x7f6609864e50>, <delierium.JanetBasis.DTerm object at 0x7f6601264050>]\n"
     ]
    },
    {
     "data": {
      "text/html": [
       "<html><script type=\"math/tex; mode=display\">\\newcommand{\\Bold}[1]{\\mathbf{#1}}\\frac{w\\left(x, y\\right)}{2 \\, y} + \\frac{\\partial}{\\partial x}z\\left(x, y\\right)</script></html>"
      ],
      "text/latex": [
       "\\begin{math}\n",
       "\\newcommand{\\Bold}[1]{\\mathbf{#1}}\\frac{w\\left(x, y\\right)}{2 \\, y} + \\frac{\\partial}{\\partial x}z\\left(x, y\\right)\n",
       "\\end{math}"
      ],
      "text/plain": [
       "1/2*w(x, y)/y + diff(z(x, y), x)"
      ]
     },
     "metadata": {},
     "output_type": "display_data"
    },
    {
     "name": "stdout",
     "output_type": "stream",
     "text": [
      "[<delierium.JanetBasis.DTerm object at 0x7f660356cc90>, <delierium.JanetBasis.DTerm object at 0x7f660356cbd0>]\n"
     ]
    },
    {
     "data": {
      "text/html": [
       "<html><script type=\"math/tex; mode=display\">\\newcommand{\\Bold}[1]{\\mathbf{#1}}-\\frac{w\\left(x, y\\right)}{y} + \\frac{\\partial}{\\partial y}w\\left(x, y\\right)</script></html>"
      ],
      "text/latex": [
       "\\begin{math}\n",
       "\\newcommand{\\Bold}[1]{\\mathbf{#1}}-\\frac{w\\left(x, y\\right)}{y} + \\frac{\\partial}{\\partial y}w\\left(x, y\\right)\n",
       "\\end{math}"
      ],
      "text/plain": [
       "-w(x, y)/y + diff(w(x, y), y)"
      ]
     },
     "metadata": {},
     "output_type": "display_data"
    },
    {
     "name": "stdout",
     "output_type": "stream",
     "text": [
      "[<delierium.JanetBasis.DTerm object at 0x7f660356ca10>]\n"
     ]
    },
    {
     "data": {
      "text/html": [
       "<html><script type=\"math/tex; mode=display\">\\newcommand{\\Bold}[1]{\\mathbf{#1}}\\frac{\\partial}{\\partial x}w\\left(x, y\\right)</script></html>"
      ],
      "text/latex": [
       "\\begin{math}\n",
       "\\newcommand{\\Bold}[1]{\\mathbf{#1}}\\frac{\\partial}{\\partial x}w\\left(x, y\\right)\n",
       "\\end{math}"
      ],
      "text/plain": [
       "diff(w(x, y), x)"
      ]
     },
     "metadata": {},
     "output_type": "display_data"
    },
    {
     "name": "stdout",
     "output_type": "stream",
     "text": [
      "******************   completesystem ****************************************\n"
     ]
    },
    {
     "data": {
      "text/html": [
       "<html><script type=\"math/tex; mode=display\">\\newcommand{\\Bold}[1]{\\mathbf{#1}}\\frac{\\partial}{\\partial y}z\\left(x, y\\right)</script></html>"
      ],
      "text/latex": [
       "\\begin{math}\n",
       "\\newcommand{\\Bold}[1]{\\mathbf{#1}}\\frac{\\partial}{\\partial y}z\\left(x, y\\right)\n",
       "\\end{math}"
      ],
      "text/plain": [
       "diff(z(x, y), y)"
      ]
     },
     "metadata": {},
     "output_type": "display_data"
    },
    {
     "data": {
      "text/html": [
       "<html><script type=\"math/tex; mode=display\">\\newcommand{\\Bold}[1]{\\mathbf{#1}}\\frac{w\\left(x, y\\right)}{2 \\, y} + \\frac{\\partial}{\\partial x}z\\left(x, y\\right)</script></html>"
      ],
      "text/latex": [
       "\\begin{math}\n",
       "\\newcommand{\\Bold}[1]{\\mathbf{#1}}\\frac{w\\left(x, y\\right)}{2 \\, y} + \\frac{\\partial}{\\partial x}z\\left(x, y\\right)\n",
       "\\end{math}"
      ],
      "text/plain": [
       "1/2*w(x, y)/y + diff(z(x, y), x)"
      ]
     },
     "metadata": {},
     "output_type": "display_data"
    },
    {
     "data": {
      "text/html": [
       "<html><script type=\"math/tex; mode=display\">\\newcommand{\\Bold}[1]{\\mathbf{#1}}-\\frac{w\\left(x, y\\right)}{y} + \\frac{\\partial}{\\partial y}w\\left(x, y\\right)</script></html>"
      ],
      "text/latex": [
       "\\begin{math}\n",
       "\\newcommand{\\Bold}[1]{\\mathbf{#1}}-\\frac{w\\left(x, y\\right)}{y} + \\frac{\\partial}{\\partial y}w\\left(x, y\\right)\n",
       "\\end{math}"
      ],
      "text/plain": [
       "-w(x, y)/y + diff(w(x, y), y)"
      ]
     },
     "metadata": {},
     "output_type": "display_data"
    },
    {
     "data": {
      "text/html": [
       "<html><script type=\"math/tex; mode=display\">\\newcommand{\\Bold}[1]{\\mathbf{#1}}\\frac{\\partial}{\\partial x}w\\left(x, y\\right)</script></html>"
      ],
      "text/latex": [
       "\\begin{math}\n",
       "\\newcommand{\\Bold}[1]{\\mathbf{#1}}\\frac{\\partial}{\\partial x}w\\left(x, y\\right)\n",
       "\\end{math}"
      ],
      "text/plain": [
       "diff(w(x, y), x)"
      ]
     },
     "metadata": {},
     "output_type": "display_data"
    },
    {
     "name": "stdout",
     "output_type": "stream",
     "text": [
      "<delierium.JanetBasis.Differential_Polynomial object at 0x7f660356cb90> [x, y] set()\n",
      "<delierium.JanetBasis.Differential_Polynomial object at 0x7f660356c4d0> [x, y] set()\n",
      "<delierium.JanetBasis.Differential_Polynomial object at 0x7f660356cb90> [x, y] set()\n",
      "<delierium.JanetBasis.Differential_Polynomial object at 0x7f660356c690> [x, y] set()\n",
      "<delierium.JanetBasis.Differential_Polynomial object at 0x7f660356cb90> [x, y] set()\n",
      "<delierium.JanetBasis.Differential_Polynomial object at 0x7f660356c7d0> [x, y] set()\n",
      "<delierium.JanetBasis.Differential_Polynomial object at 0x7f660356c4d0> [x, y] set()\n",
      "<delierium.JanetBasis.Differential_Polynomial object at 0x7f660356cb90> [x, y] set()\n",
      "<delierium.JanetBasis.Differential_Polynomial object at 0x7f660356c4d0> [x, y] set()\n",
      "<delierium.JanetBasis.Differential_Polynomial object at 0x7f660356c690> [x, y] set()\n",
      "<delierium.JanetBasis.Differential_Polynomial object at 0x7f660356c4d0> [x, y] set()\n",
      "<delierium.JanetBasis.Differential_Polynomial object at 0x7f660356c7d0> [x, y] set()\n",
      "<delierium.JanetBasis.Differential_Polynomial object at 0x7f660356c690> [x, y] set()\n",
      "<delierium.JanetBasis.Differential_Polynomial object at 0x7f660356cb90> [x, y] set()\n",
      "<delierium.JanetBasis.Differential_Polynomial object at 0x7f660356c690> [x, y] set()\n",
      "<delierium.JanetBasis.Differential_Polynomial object at 0x7f660356c4d0> [x, y] set()\n",
      "<delierium.JanetBasis.Differential_Polynomial object at 0x7f660356c690> [x, y] set()\n",
      "<delierium.JanetBasis.Differential_Polynomial object at 0x7f660356c7d0> [x, y] set()\n",
      "<delierium.JanetBasis.Differential_Polynomial object at 0x7f660356c7d0> [x, y] set()\n",
      "<delierium.JanetBasis.Differential_Polynomial object at 0x7f660356cb90> [x, y] set()\n",
      "<delierium.JanetBasis.Differential_Polynomial object at 0x7f660356c7d0> [x, y] set()\n",
      "<delierium.JanetBasis.Differential_Polynomial object at 0x7f660356c4d0> [x, y] set()\n",
      "<delierium.JanetBasis.Differential_Polynomial object at 0x7f660356c7d0> [x, y] set()\n",
      "<delierium.JanetBasis.Differential_Polynomial object at 0x7f660356c690> [x, y] set()\n",
      "******************   FindIntegr ****************************************\n"
     ]
    },
    {
     "data": {
      "text/html": [
       "<html><script type=\"math/tex; mode=display\">\\newcommand{\\Bold}[1]{\\mathbf{#1}}\\frac{\\partial}{\\partial y}z\\left(x, y\\right)</script></html>"
      ],
      "text/latex": [
       "\\begin{math}\n",
       "\\newcommand{\\Bold}[1]{\\mathbf{#1}}\\frac{\\partial}{\\partial y}z\\left(x, y\\right)\n",
       "\\end{math}"
      ],
      "text/plain": [
       "diff(z(x, y), y)"
      ]
     },
     "metadata": {},
     "output_type": "display_data"
    },
    {
     "data": {
      "text/html": [
       "<html><script type=\"math/tex; mode=display\">\\newcommand{\\Bold}[1]{\\mathbf{#1}}\\frac{w\\left(x, y\\right)}{2 \\, y} + \\frac{\\partial}{\\partial x}z\\left(x, y\\right)</script></html>"
      ],
      "text/latex": [
       "\\begin{math}\n",
       "\\newcommand{\\Bold}[1]{\\mathbf{#1}}\\frac{w\\left(x, y\\right)}{2 \\, y} + \\frac{\\partial}{\\partial x}z\\left(x, y\\right)\n",
       "\\end{math}"
      ],
      "text/plain": [
       "1/2*w(x, y)/y + diff(z(x, y), x)"
      ]
     },
     "metadata": {},
     "output_type": "display_data"
    },
    {
     "data": {
      "text/html": [
       "<html><script type=\"math/tex; mode=display\">\\newcommand{\\Bold}[1]{\\mathbf{#1}}-\\frac{w\\left(x, y\\right)}{y} + \\frac{\\partial}{\\partial y}w\\left(x, y\\right)</script></html>"
      ],
      "text/latex": [
       "\\begin{math}\n",
       "\\newcommand{\\Bold}[1]{\\mathbf{#1}}-\\frac{w\\left(x, y\\right)}{y} + \\frac{\\partial}{\\partial y}w\\left(x, y\\right)\n",
       "\\end{math}"
      ],
      "text/plain": [
       "-w(x, y)/y + diff(w(x, y), y)"
      ]
     },
     "metadata": {},
     "output_type": "display_data"
    },
    {
     "data": {
      "text/html": [
       "<html><script type=\"math/tex; mode=display\">\\newcommand{\\Bold}[1]{\\mathbf{#1}}\\frac{\\partial}{\\partial x}w\\left(x, y\\right)</script></html>"
      ],
      "text/latex": [
       "\\begin{math}\n",
       "\\newcommand{\\Bold}[1]{\\mathbf{#1}}\\frac{\\partial}{\\partial x}w\\left(x, y\\right)\n",
       "\\end{math}"
      ],
      "text/plain": [
       "diff(w(x, y), x)"
      ]
     },
     "metadata": {},
     "output_type": "display_data"
    },
    {
     "name": "stdout",
     "output_type": "stream",
     "text": [
      "******************   ReduceIntegr ****************************************\n"
     ]
    },
    {
     "data": {
      "text/html": [
       "<html><script type=\"math/tex; mode=display\">\\newcommand{\\Bold}[1]{\\mathbf{#1}}\\frac{\\partial}{\\partial y}z\\left(x, y\\right)</script></html>"
      ],
      "text/latex": [
       "\\begin{math}\n",
       "\\newcommand{\\Bold}[1]{\\mathbf{#1}}\\frac{\\partial}{\\partial y}z\\left(x, y\\right)\n",
       "\\end{math}"
      ],
      "text/plain": [
       "diff(z(x, y), y)"
      ]
     },
     "metadata": {},
     "output_type": "display_data"
    },
    {
     "data": {
      "text/html": [
       "<html><script type=\"math/tex; mode=display\">\\newcommand{\\Bold}[1]{\\mathbf{#1}}\\frac{w\\left(x, y\\right)}{2 \\, y} + \\frac{\\partial}{\\partial x}z\\left(x, y\\right)</script></html>"
      ],
      "text/latex": [
       "\\begin{math}\n",
       "\\newcommand{\\Bold}[1]{\\mathbf{#1}}\\frac{w\\left(x, y\\right)}{2 \\, y} + \\frac{\\partial}{\\partial x}z\\left(x, y\\right)\n",
       "\\end{math}"
      ],
      "text/plain": [
       "1/2*w(x, y)/y + diff(z(x, y), x)"
      ]
     },
     "metadata": {},
     "output_type": "display_data"
    },
    {
     "data": {
      "text/html": [
       "<html><script type=\"math/tex; mode=display\">\\newcommand{\\Bold}[1]{\\mathbf{#1}}-\\frac{w\\left(x, y\\right)}{y} + \\frac{\\partial}{\\partial y}w\\left(x, y\\right)</script></html>"
      ],
      "text/latex": [
       "\\begin{math}\n",
       "\\newcommand{\\Bold}[1]{\\mathbf{#1}}-\\frac{w\\left(x, y\\right)}{y} + \\frac{\\partial}{\\partial y}w\\left(x, y\\right)\n",
       "\\end{math}"
      ],
      "text/plain": [
       "-w(x, y)/y + diff(w(x, y), y)"
      ]
     },
     "metadata": {},
     "output_type": "display_data"
    },
    {
     "data": {
      "text/html": [
       "<html><script type=\"math/tex; mode=display\">\\newcommand{\\Bold}[1]{\\mathbf{#1}}\\frac{\\partial}{\\partial x}w\\left(x, y\\right)</script></html>"
      ],
      "text/latex": [
       "\\begin{math}\n",
       "\\newcommand{\\Bold}[1]{\\mathbf{#1}}\\frac{\\partial}{\\partial x}w\\left(x, y\\right)\n",
       "\\end{math}"
      ],
      "text/plain": [
       "diff(w(x, y), x)"
      ]
     },
     "metadata": {},
     "output_type": "display_data"
    }
   ],
   "source": [
    "checkS1=Janet_Basis([f3,f1,f5, f2,f4], ctx)"
   ]
  },
  {
   "cell_type": "code",
   "execution_count": 13,
   "id": "8fbe610a",
   "metadata": {},
   "outputs": [
    {
     "data": {
      "text/html": [
       "<html><script type=\"math/tex; mode=display\">\\newcommand{\\Bold}[1]{\\mathbf{#1}}\\frac{\\partial}{\\partial x}w\\left(x, y\\right)</script></html>"
      ],
      "text/latex": [
       "\\begin{math}\n",
       "\\newcommand{\\Bold}[1]{\\mathbf{#1}}\\frac{\\partial}{\\partial x}w\\left(x, y\\right)\n",
       "\\end{math}"
      ],
      "text/plain": [
       "diff(w(x, y), x)"
      ]
     },
     "metadata": {},
     "output_type": "display_data"
    },
    {
     "data": {
      "text/html": [
       "<html><script type=\"math/tex; mode=display\">\\newcommand{\\Bold}[1]{\\mathbf{#1}}\\frac{\\partial}{\\partial x}w\\left(x, y\\right)</script></html>"
      ],
      "text/latex": [
       "\\begin{math}\n",
       "\\newcommand{\\Bold}[1]{\\mathbf{#1}}\\frac{\\partial}{\\partial x}w\\left(x, y\\right)\n",
       "\\end{math}"
      ],
      "text/plain": [
       "diff(w(x, y), x)"
      ]
     },
     "metadata": {},
     "output_type": "display_data"
    },
    {
     "data": {
      "text/html": [
       "<html><script type=\"math/tex; mode=display\">\\newcommand{\\Bold}[1]{\\mathbf{#1}}-\\frac{w\\left(x, y\\right)}{y} + \\frac{\\partial}{\\partial y}w\\left(x, y\\right)</script></html>"
      ],
      "text/latex": [
       "\\begin{math}\n",
       "\\newcommand{\\Bold}[1]{\\mathbf{#1}}-\\frac{w\\left(x, y\\right)}{y} + \\frac{\\partial}{\\partial y}w\\left(x, y\\right)\n",
       "\\end{math}"
      ],
      "text/plain": [
       "-w(x, y)/y + diff(w(x, y), y)"
      ]
     },
     "metadata": {},
     "output_type": "display_data"
    },
    {
     "data": {
      "text/html": [
       "<html><script type=\"math/tex; mode=display\">\\newcommand{\\Bold}[1]{\\mathbf{#1}}-\\frac{w\\left(x, y\\right)}{y} + \\frac{\\partial}{\\partial y}w\\left(x, y\\right)</script></html>"
      ],
      "text/latex": [
       "\\begin{math}\n",
       "\\newcommand{\\Bold}[1]{\\mathbf{#1}}-\\frac{w\\left(x, y\\right)}{y} + \\frac{\\partial}{\\partial y}w\\left(x, y\\right)\n",
       "\\end{math}"
      ],
      "text/plain": [
       "-w(x, y)/y + diff(w(x, y), y)"
      ]
     },
     "metadata": {},
     "output_type": "display_data"
    },
    {
     "data": {
      "text/html": [
       "<html><script type=\"math/tex; mode=display\">\\newcommand{\\Bold}[1]{\\mathbf{#1}}\\frac{w\\left(x, y\\right)}{2 \\, y} + \\frac{\\partial}{\\partial x}z\\left(x, y\\right)</script></html>"
      ],
      "text/latex": [
       "\\begin{math}\n",
       "\\newcommand{\\Bold}[1]{\\mathbf{#1}}\\frac{w\\left(x, y\\right)}{2 \\, y} + \\frac{\\partial}{\\partial x}z\\left(x, y\\right)\n",
       "\\end{math}"
      ],
      "text/plain": [
       "1/2*w(x, y)/y + diff(z(x, y), x)"
      ]
     },
     "metadata": {},
     "output_type": "display_data"
    },
    {
     "data": {
      "text/html": [
       "<html><script type=\"math/tex; mode=display\">\\newcommand{\\Bold}[1]{\\mathbf{#1}}\\frac{w\\left(x, y\\right)}{2 \\, y} + \\frac{\\partial}{\\partial x}z\\left(x, y\\right)</script></html>"
      ],
      "text/latex": [
       "\\begin{math}\n",
       "\\newcommand{\\Bold}[1]{\\mathbf{#1}}\\frac{w\\left(x, y\\right)}{2 \\, y} + \\frac{\\partial}{\\partial x}z\\left(x, y\\right)\n",
       "\\end{math}"
      ],
      "text/plain": [
       "1/2*w(x, y)/y + diff(z(x, y), x)"
      ]
     },
     "metadata": {},
     "output_type": "display_data"
    },
    {
     "data": {
      "text/html": [
       "<html><script type=\"math/tex; mode=display\">\\newcommand{\\Bold}[1]{\\mathbf{#1}}\\frac{\\partial}{\\partial y}z\\left(x, y\\right)</script></html>"
      ],
      "text/latex": [
       "\\begin{math}\n",
       "\\newcommand{\\Bold}[1]{\\mathbf{#1}}\\frac{\\partial}{\\partial y}z\\left(x, y\\right)\n",
       "\\end{math}"
      ],
      "text/plain": [
       "diff(z(x, y), y)"
      ]
     },
     "metadata": {},
     "output_type": "display_data"
    },
    {
     "data": {
      "text/html": [
       "<html><script type=\"math/tex; mode=display\">\\newcommand{\\Bold}[1]{\\mathbf{#1}}\\frac{\\partial}{\\partial y}z\\left(x, y\\right)</script></html>"
      ],
      "text/latex": [
       "\\begin{math}\n",
       "\\newcommand{\\Bold}[1]{\\mathbf{#1}}\\frac{\\partial}{\\partial y}z\\left(x, y\\right)\n",
       "\\end{math}"
      ],
      "text/plain": [
       "diff(z(x, y), y)"
      ]
     },
     "metadata": {},
     "output_type": "display_data"
    }
   ],
   "source": [
    "checkS1.show()"
   ]
  },
  {
   "cell_type": "code",
   "execution_count": 14,
   "id": "41f7b7ba",
   "metadata": {},
   "outputs": [],
   "source": [
    "g1=diff(z,y,y)+diff(z,y)/(2*y)\n",
    "g2=diff(w,x,x)+(4*y**2)*diff(w,y)-(8*y**2)*diff(z,x)-8*y*w\n",
    "g3=diff(w,x,y)-diff(z,x,x)/2-diff(w,x)/(2*y)-diff(z,y)*6*y**2\n",
    "g4=diff(w,y,y)-2*diff(z,x,y)-diff(w,y)/(2*y)-w/(2*y**2)"
   ]
  },
  {
   "cell_type": "code",
   "execution_count": 15,
   "id": "16030d5d",
   "metadata": {},
   "outputs": [
    {
     "name": "stdout",
     "output_type": "stream",
     "text": [
      "******************   Autoreduce ****************************************\n",
      "[<delierium.JanetBasis.DTerm object at 0x7f66030206d0>, <delierium.JanetBasis.DTerm object at 0x7f6603020750>]\n"
     ]
    },
    {
     "data": {
      "text/html": [
       "<html><script type=\"math/tex; mode=display\">\\newcommand{\\Bold}[1]{\\mathbf{#1}}\\frac{\\frac{\\partial}{\\partial y}z\\left(x, y\\right)}{2 \\, y} + \\frac{\\partial^{2}}{(\\partial y)^{2}}z\\left(x, y\\right)</script></html>"
      ],
      "text/latex": [
       "\\begin{math}\n",
       "\\newcommand{\\Bold}[1]{\\mathbf{#1}}\\frac{\\frac{\\partial}{\\partial y}z\\left(x, y\\right)}{2 \\, y} + \\frac{\\partial^{2}}{(\\partial y)^{2}}z\\left(x, y\\right)\n",
       "\\end{math}"
      ],
      "text/plain": [
       "1/2*diff(z(x, y), y)/y + diff(z(x, y), y, y)"
      ]
     },
     "metadata": {},
     "output_type": "display_data"
    },
    {
     "name": "stdout",
     "output_type": "stream",
     "text": [
      "[<delierium.JanetBasis.DTerm object at 0x7f6601278ed0>, <delierium.JanetBasis.DTerm object at 0x7f6603020410>, <delierium.JanetBasis.DTerm object at 0x7f6601278990>, <delierium.JanetBasis.DTerm object at 0x7f6601278550>]\n"
     ]
    },
    {
     "data": {
      "text/html": [
       "<html><script type=\"math/tex; mode=display\">\\newcommand{\\Bold}[1]{\\mathbf{#1}}-\\frac{\\frac{\\partial}{\\partial y}w\\left(x, y\\right)}{2 \\, y} - \\frac{w\\left(x, y\\right)}{2 \\, y^{2}} + \\frac{\\partial^{2}}{(\\partial y)^{2}}w\\left(x, y\\right) - 2 \\, \\frac{\\partial^{2}}{\\partial x\\partial y}z\\left(x, y\\right)</script></html>"
      ],
      "text/latex": [
       "\\begin{math}\n",
       "\\newcommand{\\Bold}[1]{\\mathbf{#1}}-\\frac{\\frac{\\partial}{\\partial y}w\\left(x, y\\right)}{2 \\, y} - \\frac{w\\left(x, y\\right)}{2 \\, y^{2}} + \\frac{\\partial^{2}}{(\\partial y)^{2}}w\\left(x, y\\right) - 2 \\, \\frac{\\partial^{2}}{\\partial x\\partial y}z\\left(x, y\\right)\n",
       "\\end{math}"
      ],
      "text/plain": [
       "-1/2*diff(w(x, y), y)/y - 1/2*w(x, y)/y^2 + diff(w(x, y), y, y) - 2*diff(z(x, y), x, y)"
      ]
     },
     "metadata": {},
     "output_type": "display_data"
    },
    {
     "name": "stdout",
     "output_type": "stream",
     "text": [
      "[<delierium.JanetBasis.DTerm object at 0x7f6601278390>, <delierium.JanetBasis.DTerm object at 0x7f6609869e10>, <delierium.JanetBasis.DTerm object at 0x7f6601278c50>, <delierium.JanetBasis.DTerm object at 0x7f6601278f90>]\n"
     ]
    },
    {
     "data": {
      "text/html": [
       "<html><script type=\"math/tex; mode=display\">\\newcommand{\\Bold}[1]{\\mathbf{#1}}-6 \\, y^{2} \\frac{\\partial}{\\partial y}z\\left(x, y\\right) - \\frac{\\frac{\\partial}{\\partial x}w\\left(x, y\\right)}{2 \\, y} + \\frac{\\partial^{2}}{\\partial x\\partial y}w\\left(x, y\\right) - \\frac{1}{2} \\, \\frac{\\partial^{2}}{(\\partial x)^{2}}z\\left(x, y\\right)</script></html>"
      ],
      "text/latex": [
       "\\begin{math}\n",
       "\\newcommand{\\Bold}[1]{\\mathbf{#1}}-6 \\, y^{2} \\frac{\\partial}{\\partial y}z\\left(x, y\\right) - \\frac{\\frac{\\partial}{\\partial x}w\\left(x, y\\right)}{2 \\, y} + \\frac{\\partial^{2}}{\\partial x\\partial y}w\\left(x, y\\right) - \\frac{1}{2} \\, \\frac{\\partial^{2}}{(\\partial x)^{2}}z\\left(x, y\\right)\n",
       "\\end{math}"
      ],
      "text/plain": [
       "-6*y^2*diff(z(x, y), y) - 1/2*diff(w(x, y), x)/y + diff(w(x, y), x, y) - 1/2*diff(z(x, y), x, x)"
      ]
     },
     "metadata": {},
     "output_type": "display_data"
    },
    {
     "name": "stdout",
     "output_type": "stream",
     "text": [
      "[<delierium.JanetBasis.DTerm object at 0x7f660356cb50>, <delierium.JanetBasis.DTerm object at 0x7f660356ce90>, <delierium.JanetBasis.DTerm object at 0x7f660356c490>, <delierium.JanetBasis.DTerm object at 0x7f660356c2d0>]\n"
     ]
    },
    {
     "data": {
      "text/html": [
       "<html><script type=\"math/tex; mode=display\">\\newcommand{\\Bold}[1]{\\mathbf{#1}}4 \\, y^{2} \\frac{\\partial}{\\partial y}w\\left(x, y\\right) - 8 \\, y^{2} \\frac{\\partial}{\\partial x}z\\left(x, y\\right) - 8 \\, y w\\left(x, y\\right) + \\frac{\\partial^{2}}{(\\partial x)^{2}}w\\left(x, y\\right)</script></html>"
      ],
      "text/latex": [
       "\\begin{math}\n",
       "\\newcommand{\\Bold}[1]{\\mathbf{#1}}4 \\, y^{2} \\frac{\\partial}{\\partial y}w\\left(x, y\\right) - 8 \\, y^{2} \\frac{\\partial}{\\partial x}z\\left(x, y\\right) - 8 \\, y w\\left(x, y\\right) + \\frac{\\partial^{2}}{(\\partial x)^{2}}w\\left(x, y\\right)\n",
       "\\end{math}"
      ],
      "text/plain": [
       "4*y^2*diff(w(x, y), y) - 8*y^2*diff(z(x, y), x) - 8*y*w(x, y) + diff(w(x, y), x, x)"
      ]
     },
     "metadata": {},
     "output_type": "display_data"
    },
    {
     "name": "stdout",
     "output_type": "stream",
     "text": [
      "******************   completesystem ****************************************\n"
     ]
    },
    {
     "data": {
      "text/html": [
       "<html><script type=\"math/tex; mode=display\">\\newcommand{\\Bold}[1]{\\mathbf{#1}}\\frac{\\frac{\\partial}{\\partial y}z\\left(x, y\\right)}{2 \\, y} + \\frac{\\partial^{2}}{(\\partial y)^{2}}z\\left(x, y\\right)</script></html>"
      ],
      "text/latex": [
       "\\begin{math}\n",
       "\\newcommand{\\Bold}[1]{\\mathbf{#1}}\\frac{\\frac{\\partial}{\\partial y}z\\left(x, y\\right)}{2 \\, y} + \\frac{\\partial^{2}}{(\\partial y)^{2}}z\\left(x, y\\right)\n",
       "\\end{math}"
      ],
      "text/plain": [
       "1/2*diff(z(x, y), y)/y + diff(z(x, y), y, y)"
      ]
     },
     "metadata": {},
     "output_type": "display_data"
    },
    {
     "data": {
      "text/html": [
       "<html><script type=\"math/tex; mode=display\">\\newcommand{\\Bold}[1]{\\mathbf{#1}}-\\frac{\\frac{\\partial}{\\partial y}w\\left(x, y\\right)}{2 \\, y} - \\frac{w\\left(x, y\\right)}{2 \\, y^{2}} + \\frac{\\partial^{2}}{(\\partial y)^{2}}w\\left(x, y\\right) - 2 \\, \\frac{\\partial^{2}}{\\partial x\\partial y}z\\left(x, y\\right)</script></html>"
      ],
      "text/latex": [
       "\\begin{math}\n",
       "\\newcommand{\\Bold}[1]{\\mathbf{#1}}-\\frac{\\frac{\\partial}{\\partial y}w\\left(x, y\\right)}{2 \\, y} - \\frac{w\\left(x, y\\right)}{2 \\, y^{2}} + \\frac{\\partial^{2}}{(\\partial y)^{2}}w\\left(x, y\\right) - 2 \\, \\frac{\\partial^{2}}{\\partial x\\partial y}z\\left(x, y\\right)\n",
       "\\end{math}"
      ],
      "text/plain": [
       "-1/2*diff(w(x, y), y)/y - 1/2*w(x, y)/y^2 + diff(w(x, y), y, y) - 2*diff(z(x, y), x, y)"
      ]
     },
     "metadata": {},
     "output_type": "display_data"
    },
    {
     "data": {
      "text/html": [
       "<html><script type=\"math/tex; mode=display\">\\newcommand{\\Bold}[1]{\\mathbf{#1}}-6 \\, y^{2} \\frac{\\partial}{\\partial y}z\\left(x, y\\right) - \\frac{\\frac{\\partial}{\\partial x}w\\left(x, y\\right)}{2 \\, y} + \\frac{\\partial^{2}}{\\partial x\\partial y}w\\left(x, y\\right) - \\frac{1}{2} \\, \\frac{\\partial^{2}}{(\\partial x)^{2}}z\\left(x, y\\right)</script></html>"
      ],
      "text/latex": [
       "\\begin{math}\n",
       "\\newcommand{\\Bold}[1]{\\mathbf{#1}}-6 \\, y^{2} \\frac{\\partial}{\\partial y}z\\left(x, y\\right) - \\frac{\\frac{\\partial}{\\partial x}w\\left(x, y\\right)}{2 \\, y} + \\frac{\\partial^{2}}{\\partial x\\partial y}w\\left(x, y\\right) - \\frac{1}{2} \\, \\frac{\\partial^{2}}{(\\partial x)^{2}}z\\left(x, y\\right)\n",
       "\\end{math}"
      ],
      "text/plain": [
       "-6*y^2*diff(z(x, y), y) - 1/2*diff(w(x, y), x)/y + diff(w(x, y), x, y) - 1/2*diff(z(x, y), x, x)"
      ]
     },
     "metadata": {},
     "output_type": "display_data"
    },
    {
     "data": {
      "text/html": [
       "<html><script type=\"math/tex; mode=display\">\\newcommand{\\Bold}[1]{\\mathbf{#1}}4 \\, y^{2} \\frac{\\partial}{\\partial y}w\\left(x, y\\right) - 8 \\, y^{2} \\frac{\\partial}{\\partial x}z\\left(x, y\\right) - 8 \\, y w\\left(x, y\\right) + \\frac{\\partial^{2}}{(\\partial x)^{2}}w\\left(x, y\\right)</script></html>"
      ],
      "text/latex": [
       "\\begin{math}\n",
       "\\newcommand{\\Bold}[1]{\\mathbf{#1}}4 \\, y^{2} \\frac{\\partial}{\\partial y}w\\left(x, y\\right) - 8 \\, y^{2} \\frac{\\partial}{\\partial x}z\\left(x, y\\right) - 8 \\, y w\\left(x, y\\right) + \\frac{\\partial^{2}}{(\\partial x)^{2}}w\\left(x, y\\right)\n",
       "\\end{math}"
      ],
      "text/plain": [
       "4*y^2*diff(w(x, y), y) - 8*y^2*diff(z(x, y), x) - 8*y*w(x, y) + diff(w(x, y), x, x)"
      ]
     },
     "metadata": {},
     "output_type": "display_data"
    },
    {
     "name": "stdout",
     "output_type": "stream",
     "text": [
      "<delierium.JanetBasis.Differential_Polynomial object at 0x7f6603020cd0> [x, y] set()\n",
      "<delierium.JanetBasis.Differential_Polynomial object at 0x7f660857eb50> [x, y] set()\n",
      "<delierium.JanetBasis.Differential_Polynomial object at 0x7f6603020cd0> [x, y] set()\n",
      "<delierium.JanetBasis.Differential_Polynomial object at 0x7f6609869d90> [x, y] set()\n",
      "<delierium.JanetBasis.Differential_Polynomial object at 0x7f6603020cd0> [x, y] set()\n",
      "<delierium.JanetBasis.Differential_Polynomial object at 0x7f6609869090> [x, y] set()\n",
      "<delierium.JanetBasis.Differential_Polynomial object at 0x7f660857eb50> [x, y] set()\n",
      "<delierium.JanetBasis.Differential_Polynomial object at 0x7f6603020cd0> [x, y] set()\n",
      "<delierium.JanetBasis.Differential_Polynomial object at 0x7f660857eb50> [x, y] set()\n",
      "<delierium.JanetBasis.Differential_Polynomial object at 0x7f6609869d90> [x, y] set()\n",
      "<delierium.JanetBasis.Differential_Polynomial object at 0x7f660857eb50> [x, y] set()\n",
      "<delierium.JanetBasis.Differential_Polynomial object at 0x7f6609869090> [x, y] set()\n",
      "<delierium.JanetBasis.Differential_Polynomial object at 0x7f6609869d90> [x, y] set()\n",
      "<delierium.JanetBasis.Differential_Polynomial object at 0x7f6603020cd0> [x, y] set()\n",
      "<delierium.JanetBasis.Differential_Polynomial object at 0x7f6609869d90> [x, y] set()\n",
      "<delierium.JanetBasis.Differential_Polynomial object at 0x7f660857eb50> [x, y] set()\n",
      "<delierium.JanetBasis.Differential_Polynomial object at 0x7f6609869d90> [x, y] set()\n",
      "<delierium.JanetBasis.Differential_Polynomial object at 0x7f6609869090> [x, y] set()\n",
      "<delierium.JanetBasis.Differential_Polynomial object at 0x7f6609869090> [x, y] set()\n",
      "<delierium.JanetBasis.Differential_Polynomial object at 0x7f6603020cd0> [x, y] set()\n",
      "<delierium.JanetBasis.Differential_Polynomial object at 0x7f6609869090> [x, y] set()\n",
      "<delierium.JanetBasis.Differential_Polynomial object at 0x7f660857eb50> [x, y] set()\n",
      "<delierium.JanetBasis.Differential_Polynomial object at 0x7f6609869090> [x, y] set()\n",
      "<delierium.JanetBasis.Differential_Polynomial object at 0x7f6609869d90> [x, y] set()\n",
      "******************   FindIntegr ****************************************\n"
     ]
    },
    {
     "data": {
      "text/html": [
       "<html><script type=\"math/tex; mode=display\">\\newcommand{\\Bold}[1]{\\mathbf{#1}}\\frac{\\frac{\\partial}{\\partial y}z\\left(x, y\\right)}{2 \\, y} + \\frac{\\partial^{2}}{(\\partial y)^{2}}z\\left(x, y\\right)</script></html>"
      ],
      "text/latex": [
       "\\begin{math}\n",
       "\\newcommand{\\Bold}[1]{\\mathbf{#1}}\\frac{\\frac{\\partial}{\\partial y}z\\left(x, y\\right)}{2 \\, y} + \\frac{\\partial^{2}}{(\\partial y)^{2}}z\\left(x, y\\right)\n",
       "\\end{math}"
      ],
      "text/plain": [
       "1/2*diff(z(x, y), y)/y + diff(z(x, y), y, y)"
      ]
     },
     "metadata": {},
     "output_type": "display_data"
    },
    {
     "data": {
      "text/html": [
       "<html><script type=\"math/tex; mode=display\">\\newcommand{\\Bold}[1]{\\mathbf{#1}}-\\frac{\\frac{\\partial}{\\partial y}w\\left(x, y\\right)}{2 \\, y} - \\frac{w\\left(x, y\\right)}{2 \\, y^{2}} + \\frac{\\partial^{2}}{(\\partial y)^{2}}w\\left(x, y\\right) - 2 \\, \\frac{\\partial^{2}}{\\partial x\\partial y}z\\left(x, y\\right)</script></html>"
      ],
      "text/latex": [
       "\\begin{math}\n",
       "\\newcommand{\\Bold}[1]{\\mathbf{#1}}-\\frac{\\frac{\\partial}{\\partial y}w\\left(x, y\\right)}{2 \\, y} - \\frac{w\\left(x, y\\right)}{2 \\, y^{2}} + \\frac{\\partial^{2}}{(\\partial y)^{2}}w\\left(x, y\\right) - 2 \\, \\frac{\\partial^{2}}{\\partial x\\partial y}z\\left(x, y\\right)\n",
       "\\end{math}"
      ],
      "text/plain": [
       "-1/2*diff(w(x, y), y)/y - 1/2*w(x, y)/y^2 + diff(w(x, y), y, y) - 2*diff(z(x, y), x, y)"
      ]
     },
     "metadata": {},
     "output_type": "display_data"
    },
    {
     "data": {
      "text/html": [
       "<html><script type=\"math/tex; mode=display\">\\newcommand{\\Bold}[1]{\\mathbf{#1}}-6 \\, y^{2} \\frac{\\partial}{\\partial y}z\\left(x, y\\right) - \\frac{\\frac{\\partial}{\\partial x}w\\left(x, y\\right)}{2 \\, y} + \\frac{\\partial^{2}}{\\partial x\\partial y}w\\left(x, y\\right) - \\frac{1}{2} \\, \\frac{\\partial^{2}}{(\\partial x)^{2}}z\\left(x, y\\right)</script></html>"
      ],
      "text/latex": [
       "\\begin{math}\n",
       "\\newcommand{\\Bold}[1]{\\mathbf{#1}}-6 \\, y^{2} \\frac{\\partial}{\\partial y}z\\left(x, y\\right) - \\frac{\\frac{\\partial}{\\partial x}w\\left(x, y\\right)}{2 \\, y} + \\frac{\\partial^{2}}{\\partial x\\partial y}w\\left(x, y\\right) - \\frac{1}{2} \\, \\frac{\\partial^{2}}{(\\partial x)^{2}}z\\left(x, y\\right)\n",
       "\\end{math}"
      ],
      "text/plain": [
       "-6*y^2*diff(z(x, y), y) - 1/2*diff(w(x, y), x)/y + diff(w(x, y), x, y) - 1/2*diff(z(x, y), x, x)"
      ]
     },
     "metadata": {},
     "output_type": "display_data"
    },
    {
     "data": {
      "text/html": [
       "<html><script type=\"math/tex; mode=display\">\\newcommand{\\Bold}[1]{\\mathbf{#1}}4 \\, y^{2} \\frac{\\partial}{\\partial y}w\\left(x, y\\right) - 8 \\, y^{2} \\frac{\\partial}{\\partial x}z\\left(x, y\\right) - 8 \\, y w\\left(x, y\\right) + \\frac{\\partial^{2}}{(\\partial x)^{2}}w\\left(x, y\\right)</script></html>"
      ],
      "text/latex": [
       "\\begin{math}\n",
       "\\newcommand{\\Bold}[1]{\\mathbf{#1}}4 \\, y^{2} \\frac{\\partial}{\\partial y}w\\left(x, y\\right) - 8 \\, y^{2} \\frac{\\partial}{\\partial x}z\\left(x, y\\right) - 8 \\, y w\\left(x, y\\right) + \\frac{\\partial^{2}}{(\\partial x)^{2}}w\\left(x, y\\right)\n",
       "\\end{math}"
      ],
      "text/plain": [
       "4*y^2*diff(w(x, y), y) - 8*y^2*diff(z(x, y), x) - 8*y*w(x, y) + diff(w(x, y), x, x)"
      ]
     },
     "metadata": {},
     "output_type": "display_data"
    },
    {
     "name": "stdout",
     "output_type": "stream",
     "text": [
      "******************   ReduceIntegr ****************************************\n"
     ]
    },
    {
     "data": {
      "text/html": [
       "<html><script type=\"math/tex; mode=display\">\\newcommand{\\Bold}[1]{\\mathbf{#1}}\\frac{\\frac{\\partial}{\\partial y}z\\left(x, y\\right)}{2 \\, y} + \\frac{\\partial^{2}}{(\\partial y)^{2}}z\\left(x, y\\right)</script></html>"
      ],
      "text/latex": [
       "\\begin{math}\n",
       "\\newcommand{\\Bold}[1]{\\mathbf{#1}}\\frac{\\frac{\\partial}{\\partial y}z\\left(x, y\\right)}{2 \\, y} + \\frac{\\partial^{2}}{(\\partial y)^{2}}z\\left(x, y\\right)\n",
       "\\end{math}"
      ],
      "text/plain": [
       "1/2*diff(z(x, y), y)/y + diff(z(x, y), y, y)"
      ]
     },
     "metadata": {},
     "output_type": "display_data"
    },
    {
     "data": {
      "text/html": [
       "<html><script type=\"math/tex; mode=display\">\\newcommand{\\Bold}[1]{\\mathbf{#1}}-\\frac{\\frac{\\partial}{\\partial y}w\\left(x, y\\right)}{2 \\, y} - \\frac{w\\left(x, y\\right)}{2 \\, y^{2}} + \\frac{\\partial^{2}}{(\\partial y)^{2}}w\\left(x, y\\right) - 2 \\, \\frac{\\partial^{2}}{\\partial x\\partial y}z\\left(x, y\\right)</script></html>"
      ],
      "text/latex": [
       "\\begin{math}\n",
       "\\newcommand{\\Bold}[1]{\\mathbf{#1}}-\\frac{\\frac{\\partial}{\\partial y}w\\left(x, y\\right)}{2 \\, y} - \\frac{w\\left(x, y\\right)}{2 \\, y^{2}} + \\frac{\\partial^{2}}{(\\partial y)^{2}}w\\left(x, y\\right) - 2 \\, \\frac{\\partial^{2}}{\\partial x\\partial y}z\\left(x, y\\right)\n",
       "\\end{math}"
      ],
      "text/plain": [
       "-1/2*diff(w(x, y), y)/y - 1/2*w(x, y)/y^2 + diff(w(x, y), y, y) - 2*diff(z(x, y), x, y)"
      ]
     },
     "metadata": {},
     "output_type": "display_data"
    },
    {
     "data": {
      "text/html": [
       "<html><script type=\"math/tex; mode=display\">\\newcommand{\\Bold}[1]{\\mathbf{#1}}-6 \\, y^{2} \\frac{\\partial}{\\partial y}z\\left(x, y\\right) - \\frac{\\frac{\\partial}{\\partial x}w\\left(x, y\\right)}{2 \\, y} + \\frac{\\partial^{2}}{\\partial x\\partial y}w\\left(x, y\\right) - \\frac{1}{2} \\, \\frac{\\partial^{2}}{(\\partial x)^{2}}z\\left(x, y\\right)</script></html>"
      ],
      "text/latex": [
       "\\begin{math}\n",
       "\\newcommand{\\Bold}[1]{\\mathbf{#1}}-6 \\, y^{2} \\frac{\\partial}{\\partial y}z\\left(x, y\\right) - \\frac{\\frac{\\partial}{\\partial x}w\\left(x, y\\right)}{2 \\, y} + \\frac{\\partial^{2}}{\\partial x\\partial y}w\\left(x, y\\right) - \\frac{1}{2} \\, \\frac{\\partial^{2}}{(\\partial x)^{2}}z\\left(x, y\\right)\n",
       "\\end{math}"
      ],
      "text/plain": [
       "-6*y^2*diff(z(x, y), y) - 1/2*diff(w(x, y), x)/y + diff(w(x, y), x, y) - 1/2*diff(z(x, y), x, x)"
      ]
     },
     "metadata": {},
     "output_type": "display_data"
    },
    {
     "data": {
      "text/html": [
       "<html><script type=\"math/tex; mode=display\">\\newcommand{\\Bold}[1]{\\mathbf{#1}}4 \\, y^{2} \\frac{\\partial}{\\partial y}w\\left(x, y\\right) - 8 \\, y^{2} \\frac{\\partial}{\\partial x}z\\left(x, y\\right) - 8 \\, y w\\left(x, y\\right) + \\frac{\\partial^{2}}{(\\partial x)^{2}}w\\left(x, y\\right)</script></html>"
      ],
      "text/latex": [
       "\\begin{math}\n",
       "\\newcommand{\\Bold}[1]{\\mathbf{#1}}4 \\, y^{2} \\frac{\\partial}{\\partial y}w\\left(x, y\\right) - 8 \\, y^{2} \\frac{\\partial}{\\partial x}z\\left(x, y\\right) - 8 \\, y w\\left(x, y\\right) + \\frac{\\partial^{2}}{(\\partial x)^{2}}w\\left(x, y\\right)\n",
       "\\end{math}"
      ],
      "text/plain": [
       "4*y^2*diff(w(x, y), y) - 8*y^2*diff(z(x, y), x) - 8*y*w(x, y) + diff(w(x, y), x, x)"
      ]
     },
     "metadata": {},
     "output_type": "display_data"
    }
   ],
   "source": [
    "c2=Janet_Basis ([g1,g2,g3,g4], ctx)"
   ]
  },
  {
   "cell_type": "code",
   "execution_count": 16,
   "id": "a3f83faf",
   "metadata": {},
   "outputs": [
    {
     "data": {
      "text/html": [
       "<html><script type=\"math/tex; mode=display\">\\newcommand{\\Bold}[1]{\\mathbf{#1}}4 \\, y^{2} \\frac{\\partial}{\\partial y}w\\left(x, y\\right) - 8 \\, y^{2} \\frac{\\partial}{\\partial x}z\\left(x, y\\right) - 8 \\, y w\\left(x, y\\right) + \\frac{\\partial^{2}}{(\\partial x)^{2}}w\\left(x, y\\right)</script></html>"
      ],
      "text/latex": [
       "\\begin{math}\n",
       "\\newcommand{\\Bold}[1]{\\mathbf{#1}}4 \\, y^{2} \\frac{\\partial}{\\partial y}w\\left(x, y\\right) - 8 \\, y^{2} \\frac{\\partial}{\\partial x}z\\left(x, y\\right) - 8 \\, y w\\left(x, y\\right) + \\frac{\\partial^{2}}{(\\partial x)^{2}}w\\left(x, y\\right)\n",
       "\\end{math}"
      ],
      "text/plain": [
       "4*y^2*diff(w(x, y), y) - 8*y^2*diff(z(x, y), x) - 8*y*w(x, y) + diff(w(x, y), x, x)"
      ]
     },
     "metadata": {},
     "output_type": "display_data"
    },
    {
     "data": {
      "text/html": [
       "<html><script type=\"math/tex; mode=display\">\\newcommand{\\Bold}[1]{\\mathbf{#1}}4 \\, y^{2} \\frac{\\partial}{\\partial y}w\\left(x, y\\right) - 8 \\, y^{2} \\frac{\\partial}{\\partial x}z\\left(x, y\\right) - 8 \\, y w\\left(x, y\\right) + \\frac{\\partial^{2}}{(\\partial x)^{2}}w\\left(x, y\\right)</script></html>"
      ],
      "text/latex": [
       "\\begin{math}\n",
       "\\newcommand{\\Bold}[1]{\\mathbf{#1}}4 \\, y^{2} \\frac{\\partial}{\\partial y}w\\left(x, y\\right) - 8 \\, y^{2} \\frac{\\partial}{\\partial x}z\\left(x, y\\right) - 8 \\, y w\\left(x, y\\right) + \\frac{\\partial^{2}}{(\\partial x)^{2}}w\\left(x, y\\right)\n",
       "\\end{math}"
      ],
      "text/plain": [
       "4*y^2*diff(w(x, y), y) - 8*y^2*diff(z(x, y), x) - 8*y*w(x, y) + diff(w(x, y), x, x)"
      ]
     },
     "metadata": {},
     "output_type": "display_data"
    },
    {
     "data": {
      "text/html": [
       "<html><script type=\"math/tex; mode=display\">\\newcommand{\\Bold}[1]{\\mathbf{#1}}-6 \\, y^{2} \\frac{\\partial}{\\partial y}z\\left(x, y\\right) - \\frac{\\frac{\\partial}{\\partial x}w\\left(x, y\\right)}{2 \\, y} + \\frac{\\partial^{2}}{\\partial x\\partial y}w\\left(x, y\\right) - \\frac{1}{2} \\, \\frac{\\partial^{2}}{(\\partial x)^{2}}z\\left(x, y\\right)</script></html>"
      ],
      "text/latex": [
       "\\begin{math}\n",
       "\\newcommand{\\Bold}[1]{\\mathbf{#1}}-6 \\, y^{2} \\frac{\\partial}{\\partial y}z\\left(x, y\\right) - \\frac{\\frac{\\partial}{\\partial x}w\\left(x, y\\right)}{2 \\, y} + \\frac{\\partial^{2}}{\\partial x\\partial y}w\\left(x, y\\right) - \\frac{1}{2} \\, \\frac{\\partial^{2}}{(\\partial x)^{2}}z\\left(x, y\\right)\n",
       "\\end{math}"
      ],
      "text/plain": [
       "-6*y^2*diff(z(x, y), y) - 1/2*diff(w(x, y), x)/y + diff(w(x, y), x, y) - 1/2*diff(z(x, y), x, x)"
      ]
     },
     "metadata": {},
     "output_type": "display_data"
    },
    {
     "data": {
      "text/html": [
       "<html><script type=\"math/tex; mode=display\">\\newcommand{\\Bold}[1]{\\mathbf{#1}}-6 \\, y^{2} \\frac{\\partial}{\\partial y}z\\left(x, y\\right) - \\frac{\\frac{\\partial}{\\partial x}w\\left(x, y\\right)}{2 \\, y} + \\frac{\\partial^{2}}{\\partial x\\partial y}w\\left(x, y\\right) - \\frac{1}{2} \\, \\frac{\\partial^{2}}{(\\partial x)^{2}}z\\left(x, y\\right)</script></html>"
      ],
      "text/latex": [
       "\\begin{math}\n",
       "\\newcommand{\\Bold}[1]{\\mathbf{#1}}-6 \\, y^{2} \\frac{\\partial}{\\partial y}z\\left(x, y\\right) - \\frac{\\frac{\\partial}{\\partial x}w\\left(x, y\\right)}{2 \\, y} + \\frac{\\partial^{2}}{\\partial x\\partial y}w\\left(x, y\\right) - \\frac{1}{2} \\, \\frac{\\partial^{2}}{(\\partial x)^{2}}z\\left(x, y\\right)\n",
       "\\end{math}"
      ],
      "text/plain": [
       "-6*y^2*diff(z(x, y), y) - 1/2*diff(w(x, y), x)/y + diff(w(x, y), x, y) - 1/2*diff(z(x, y), x, x)"
      ]
     },
     "metadata": {},
     "output_type": "display_data"
    },
    {
     "data": {
      "text/html": [
       "<html><script type=\"math/tex; mode=display\">\\newcommand{\\Bold}[1]{\\mathbf{#1}}-\\frac{\\frac{\\partial}{\\partial y}w\\left(x, y\\right)}{2 \\, y} - \\frac{w\\left(x, y\\right)}{2 \\, y^{2}} + \\frac{\\partial^{2}}{(\\partial y)^{2}}w\\left(x, y\\right) - 2 \\, \\frac{\\partial^{2}}{\\partial x\\partial y}z\\left(x, y\\right)</script></html>"
      ],
      "text/latex": [
       "\\begin{math}\n",
       "\\newcommand{\\Bold}[1]{\\mathbf{#1}}-\\frac{\\frac{\\partial}{\\partial y}w\\left(x, y\\right)}{2 \\, y} - \\frac{w\\left(x, y\\right)}{2 \\, y^{2}} + \\frac{\\partial^{2}}{(\\partial y)^{2}}w\\left(x, y\\right) - 2 \\, \\frac{\\partial^{2}}{\\partial x\\partial y}z\\left(x, y\\right)\n",
       "\\end{math}"
      ],
      "text/plain": [
       "-1/2*diff(w(x, y), y)/y - 1/2*w(x, y)/y^2 + diff(w(x, y), y, y) - 2*diff(z(x, y), x, y)"
      ]
     },
     "metadata": {},
     "output_type": "display_data"
    },
    {
     "data": {
      "text/html": [
       "<html><script type=\"math/tex; mode=display\">\\newcommand{\\Bold}[1]{\\mathbf{#1}}-\\frac{\\frac{\\partial}{\\partial y}w\\left(x, y\\right)}{2 \\, y} - \\frac{w\\left(x, y\\right)}{2 \\, y^{2}} + \\frac{\\partial^{2}}{(\\partial y)^{2}}w\\left(x, y\\right) - 2 \\, \\frac{\\partial^{2}}{\\partial x\\partial y}z\\left(x, y\\right)</script></html>"
      ],
      "text/latex": [
       "\\begin{math}\n",
       "\\newcommand{\\Bold}[1]{\\mathbf{#1}}-\\frac{\\frac{\\partial}{\\partial y}w\\left(x, y\\right)}{2 \\, y} - \\frac{w\\left(x, y\\right)}{2 \\, y^{2}} + \\frac{\\partial^{2}}{(\\partial y)^{2}}w\\left(x, y\\right) - 2 \\, \\frac{\\partial^{2}}{\\partial x\\partial y}z\\left(x, y\\right)\n",
       "\\end{math}"
      ],
      "text/plain": [
       "-1/2*diff(w(x, y), y)/y - 1/2*w(x, y)/y^2 + diff(w(x, y), y, y) - 2*diff(z(x, y), x, y)"
      ]
     },
     "metadata": {},
     "output_type": "display_data"
    },
    {
     "data": {
      "text/html": [
       "<html><script type=\"math/tex; mode=display\">\\newcommand{\\Bold}[1]{\\mathbf{#1}}\\frac{\\frac{\\partial}{\\partial y}z\\left(x, y\\right)}{2 \\, y} + \\frac{\\partial^{2}}{(\\partial y)^{2}}z\\left(x, y\\right)</script></html>"
      ],
      "text/latex": [
       "\\begin{math}\n",
       "\\newcommand{\\Bold}[1]{\\mathbf{#1}}\\frac{\\frac{\\partial}{\\partial y}z\\left(x, y\\right)}{2 \\, y} + \\frac{\\partial^{2}}{(\\partial y)^{2}}z\\left(x, y\\right)\n",
       "\\end{math}"
      ],
      "text/plain": [
       "1/2*diff(z(x, y), y)/y + diff(z(x, y), y, y)"
      ]
     },
     "metadata": {},
     "output_type": "display_data"
    },
    {
     "data": {
      "text/html": [
       "<html><script type=\"math/tex; mode=display\">\\newcommand{\\Bold}[1]{\\mathbf{#1}}\\frac{\\frac{\\partial}{\\partial y}z\\left(x, y\\right)}{2 \\, y} + \\frac{\\partial^{2}}{(\\partial y)^{2}}z\\left(x, y\\right)</script></html>"
      ],
      "text/latex": [
       "\\begin{math}\n",
       "\\newcommand{\\Bold}[1]{\\mathbf{#1}}\\frac{\\frac{\\partial}{\\partial y}z\\left(x, y\\right)}{2 \\, y} + \\frac{\\partial^{2}}{(\\partial y)^{2}}z\\left(x, y\\right)\n",
       "\\end{math}"
      ],
      "text/plain": [
       "1/2*diff(z(x, y), y)/y + diff(z(x, y), y, y)"
      ]
     },
     "metadata": {},
     "output_type": "display_data"
    }
   ],
   "source": [
    "c2.show()"
   ]
  },
  {
   "cell_type": "code",
   "execution_count": null,
   "id": "a5b26f6e",
   "metadata": {},
   "outputs": [],
   "source": []
  }
 ],
 "metadata": {
  "kernelspec": {
   "display_name": "SageMath 9.2",
   "language": "sage",
   "name": "sagemath"
  },
  "language_info": {
   "codemirror_mode": {
    "name": "ipython",
    "version": 3
   },
   "file_extension": ".py",
   "mimetype": "text/x-python",
   "name": "python",
   "nbconvert_exporter": "python",
   "pygments_lexer": "ipython3",
   "version": "3.9.4"
  },
  "toc-autonumbering": true,
  "toc-showcode": true,
  "toc-showmarkdowntxt": true,
  "toc-showtags": false
 },
 "nbformat": 4,
 "nbformat_minor": 5
}
