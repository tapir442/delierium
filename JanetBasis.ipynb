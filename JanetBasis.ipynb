{
 "cells": [
  {
   "cell_type": "code",
   "execution_count": 1,
   "id": "d339f0d6",
   "metadata": {},
   "outputs": [],
   "source": [
    "%display latex\n",
    "from pylie import *\n",
    "from collections.abc import Iterable\n",
    "import functools\n",
    "from operator import mul, sub\n",
    "from pprint import pprint\n",
    "from IPython.core.debugger import set_trace\n"
   ]
  },
  {
   "cell_type": "code",
   "execution_count": 2,
   "id": "d5d55441-fac5-49a6-9c3c-3e605210f3d1",
   "metadata": {},
   "outputs": [],
   "source": [
    "def reduce(e1: Differential_Polynomial,e2: Differential_Polynomial, context:Context)->Differential_Polynomial:\n",
    "    assert e2.is_monic()\n",
    "    def _order (der):\n",
    "        if der != 1:\n",
    "            return pylie.order_of_derivative(der)\n",
    "        else :\n",
    "            return [0]*len(context._independent)\n",
    "    def func(e):    \n",
    "        try:\n",
    "            return e.operator().function()\n",
    "        except AttributeError:\n",
    "            return e.operator()      \n",
    "    print (\"--------------------------------------- entering reduce\")    \n",
    "#set_trace()\n",
    "    ld = e2.Lder()\n",
    "    e2_order = _order (ld)    \n",
    "    while True:\n",
    "        for t in e1._p:\n",
    "            reduction_found = False\n",
    "            d = t._d\n",
    "            c = t._coeff\n",
    "            if func(ld) != func(d):\n",
    "                continue\n",
    "            e1_order = _order (d)\n",
    "            dif = []\n",
    "            for a, b in zip (e1_order, e2_order):\n",
    "                dif += [a - b]\n",
    "            if all (map (lambda h: h == 0, dif)) :\n",
    "                ds = set([_._d for _ in e1._p +  e2._p])\n",
    "     #           set_trace()                \n",
    "      #          e1._orig.collect(ld).show()\n",
    "       #         e2._orig.collect(ld).show()\n",
    "        #        (c * e2._orig).collect(ld).show()\n",
    "                e3 = e1._orig - c * e2._orig\n",
    "          #      e3.collect(ld).show()\n",
    "                for _ds in ds:\n",
    "                    e3 = e3.collect(_ds)\n",
    "                e1 = Differential_Polynomial(e3, context)\n",
    "                reduction_found = True\n",
    "                break\n",
    "            if all (map (lambda h: h >= 0, dif)):\n",
    "                variables_to_diff = []\n",
    "                for i in range (len(context._independent)):\n",
    "                    if dif [i] != 0:\n",
    "                        variables_to_diff.extend ([context._independent[i]]*abs(dif[i]))\n",
    "                ds = set([_._d for _ in e1._p + e2._p] +  [diff(_._d , *variables_to_diff) for _ in e2._p])\n",
    "                #set_trace()\n",
    "                e3 = e1._orig - c * diff(e2._orig, *variables_to_diff)\n",
    "                for _ds in ds:\n",
    "                    e3 = e3.collect(_ds)   \n",
    "                e1 =  Differential_Polynomial (e3, context)\n",
    "                reduction_found = True\n",
    "                break\n",
    "            print (\"no reduction\")\n",
    "        if not reduction_found:\n",
    "            return e1        "
   ]
  },
  {
   "cell_type": "code",
   "execution_count": null,
   "id": "5f77b1ae-a445-45b6-99e8-f0bd0468dd64",
   "metadata": {},
   "outputs": [],
   "source": []
  },
  {
   "cell_type": "code",
   "execution_count": 3,
   "id": "e5209678",
   "metadata": {},
   "outputs": [],
   "source": [
    "#indeterminates = (x, y) = var(\"x y\")\n",
    "#R=PolynomialRing(QQ, indeterminates)\n",
    "#z  = function (\"z\")(*indeterminates)\n",
    "#ctx = Context((z,), indeterminates)\n",
    "#print(\"*\"*70)\n",
    "#e1 = diff(z,y)-x**2/y**2*diff(z,x)-(x-y)*z(x,y)/y**2\n",
    "#e1_dp = Differential_Polynomial (e1, ctx)\n",
    "#print (e1_dp)\n",
    "#print(\"*\"*70)\n",
    "#f1 = diff(z, x) + z(x,y)/x\n",
    "#f1_dp = Differential_Polynomial (f1, ctx)\n",
    "#f1_dp.is_monic()\n",
    "#print (f1_dp)\n",
    "#print(\"*\"*70)\n",
    "#f2 = diff(z, y) + z(x,y)/y\n",
    "#f2_dp = Differential_Polynomial (f2, ctx)\n",
    "#print (f2_dp)\n",
    "#r1 = reduce (e1_dp, f1_dp, ctx)\n",
    "#r1\n",
    "#r1._orig\n",
    "#r2 = reduce (r1, f2_dp, ctx)"
   ]
  },
  {
   "cell_type": "code",
   "execution_count": 4,
   "id": "f498f661",
   "metadata": {},
   "outputs": [],
   "source": [
    "def Lfunc(e):\n",
    "    return e"
   ]
  },
  {
   "cell_type": "code",
   "execution_count": 5,
   "id": "21aadf5c",
   "metadata": {},
   "outputs": [],
   "source": [
    "def Lcml(e):\n",
    "    '''Least common left multiply, p.23'''\n",
    "    return 0"
   ]
  },
  {
   "cell_type": "code",
   "execution_count": 6,
   "id": "e43020b1",
   "metadata": {},
   "outputs": [],
   "source": [
    "def Lcm(e):\n",
    "    return 0"
   ]
  },
  {
   "cell_type": "code",
   "execution_count": 7,
   "id": "8538e4fd",
   "metadata": {},
   "outputs": [],
   "source": [
    "def CompleteSystem(S, context):\n",
    "    return S"
   ]
  },
  {
   "cell_type": "code",
   "execution_count": 8,
   "id": "c83bb230",
   "metadata": {},
   "outputs": [],
   "source": [
    "def FindIntegrableConditions(S, context):\n",
    "    return S"
   ]
  },
  {
   "cell_type": "code",
   "execution_count": 9,
   "id": "7b71ccac",
   "metadata": {},
   "outputs": [],
   "source": [
    "def ReduceIntegrabilityConditions(S, context):\n",
    "    return S"
   ]
  },
  {
   "cell_type": "code",
   "execution_count": 10,
   "id": "93444407",
   "metadata": {},
   "outputs": [],
   "source": [
    "\n",
    "def Reorder (S, context, ascending = False):\n",
    "    res=sorted(S)\n",
    "    if ascending :\n",
    "        res.reverse()\n",
    "    return res"
   ]
  },
  {
   "cell_type": "code",
   "execution_count": 11,
   "id": "1ea23a27",
   "metadata": {},
   "outputs": [
    {
     "data": {
      "text/html": [
       "<html><script type=\"math/tex; mode=display\">\\newcommand{\\Bold}[1]{\\mathbf{#1}}-\\frac{w\\left(x, y\\right)}{y} + \\frac{x \\frac{\\partial}{\\partial y}z\\left(x, y\\right)}{2 \\, {\\left(x^{2} + y\\right)} y} + \\frac{\\partial}{\\partial y}w\\left(x, y\\right)</script></html>"
      ],
      "text/latex": [
       "\\begin{math}\n",
       "\\newcommand{\\Bold}[1]{\\mathbf{#1}}-\\frac{w\\left(x, y\\right)}{y} + \\frac{x \\frac{\\partial}{\\partial y}z\\left(x, y\\right)}{2 \\, {\\left(x^{2} + y\\right)} y} + \\frac{\\partial}{\\partial y}w\\left(x, y\\right)\n",
       "\\end{math}"
      ],
      "text/plain": [
       "-w(x, y)/y + 1/2*x*diff(z(x, y), y)/((x^2 + y)*y) + diff(w(x, y), y)"
      ]
     },
     "execution_count": 11,
     "metadata": {},
     "output_type": "execute_result"
    }
   ],
   "source": [
    "var (\"x y\")\n",
    "z = function(\"z\")(x,y)\n",
    "w = function(\"w\")(x,y)\n",
    "ctx = Context((w,z), (x,y), MatrixOrder.Mgrlex)\n",
    "f1 = Differential_Polynomial(diff(w, y) + x*diff(z,y)/(2*y*(x**2+y)) - w(x,y)/y, ctx)\n",
    "f1._orig"
   ]
  },
  {
   "cell_type": "code",
   "execution_count": 12,
   "id": "454f352e",
   "metadata": {},
   "outputs": [
    {
     "data": {
      "text/html": [
       "<html><script type=\"math/tex; mode=display\">\\newcommand{\\Bold}[1]{\\mathbf{#1}}\\frac{y \\frac{\\partial}{\\partial y}w\\left(x, y\\right)}{x} + \\frac{2 \\, y \\frac{\\partial}{\\partial x}z\\left(x, y\\right)}{x} + \\frac{\\partial^{2}}{\\partial x\\partial y}z\\left(x, y\\right)</script></html>"
      ],
      "text/latex": [
       "\\begin{math}\n",
       "\\newcommand{\\Bold}[1]{\\mathbf{#1}}\\frac{y \\frac{\\partial}{\\partial y}w\\left(x, y\\right)}{x} + \\frac{2 \\, y \\frac{\\partial}{\\partial x}z\\left(x, y\\right)}{x} + \\frac{\\partial^{2}}{\\partial x\\partial y}z\\left(x, y\\right)\n",
       "\\end{math}"
      ],
      "text/plain": [
       "y*diff(w(x, y), y)/x + 2*y*diff(z(x, y), x)/x + diff(z(x, y), x, y)"
      ]
     },
     "execution_count": 12,
     "metadata": {},
     "output_type": "execute_result"
    }
   ],
   "source": [
    "f2=Differential_Polynomial(diff(z,x,y) + y*diff(w,y)/x + 2*y*diff(z, x)/x,ctx)\n",
    "f2._orig"
   ]
  },
  {
   "cell_type": "code",
   "execution_count": 13,
   "id": "51c7eb59",
   "metadata": {},
   "outputs": [
    {
     "data": {
      "text/html": [
       "<html><script type=\"math/tex; mode=display\">\\newcommand{\\Bold}[1]{\\mathbf{#1}}-\\frac{2 \\, x \\frac{\\partial^{2}}{(\\partial x)^{2}}z\\left(x, y\\right)}{y} - \\frac{x \\frac{\\partial}{\\partial x}w\\left(x, y\\right)}{y^{2}} + \\frac{\\partial^{2}}{\\partial x\\partial y}w\\left(x, y\\right)</script></html>"
      ],
      "text/latex": [
       "\\begin{math}\n",
       "\\newcommand{\\Bold}[1]{\\mathbf{#1}}-\\frac{2 \\, x \\frac{\\partial^{2}}{(\\partial x)^{2}}z\\left(x, y\\right)}{y} - \\frac{x \\frac{\\partial}{\\partial x}w\\left(x, y\\right)}{y^{2}} + \\frac{\\partial^{2}}{\\partial x\\partial y}w\\left(x, y\\right)\n",
       "\\end{math}"
      ],
      "text/plain": [
       "-2*x*diff(z(x, y), x, x)/y - x*diff(w(x, y), x)/y^2 + diff(w(x, y), x, y)"
      ]
     },
     "execution_count": 13,
     "metadata": {},
     "output_type": "execute_result"
    }
   ],
   "source": [
    "f3 = Differential_Polynomial(diff(w, x,y) - 2*x*diff(z, x,2)/y - x*diff(w,x)/y**2 ,ctx)\n",
    "f3._orig"
   ]
  },
  {
   "cell_type": "code",
   "execution_count": 14,
   "id": "a312e9cc",
   "metadata": {},
   "outputs": [
    {
     "data": {
      "text/html": [
       "<html><script type=\"math/tex; mode=display\">\\newcommand{\\Bold}[1]{\\mathbf{#1}}\\left[\\verb|1|\\phantom{\\verb!x!}\\verb|*|\\phantom{\\verb!x!}\\verb|diff(w(x,|\\phantom{\\verb!x!}\\verb|y),|\\phantom{\\verb!x!}\\verb|x,|\\phantom{\\verb!x!}\\verb|y)|, \\verb|1|\\phantom{\\verb!x!}\\verb|*|\\phantom{\\verb!x!}\\verb|diff(z(x,|\\phantom{\\verb!x!}\\verb|y),|\\phantom{\\verb!x!}\\verb|x,|\\phantom{\\verb!x!}\\verb|y)|, \\verb|-1/y|\\phantom{\\verb!x!}\\verb|*|\\phantom{\\verb!x!}\\verb|diff(w(x,|\\phantom{\\verb!x!}\\verb|y),|\\phantom{\\verb!x!}\\verb|x)|, \\verb|1/2/y|\\phantom{\\verb!x!}\\verb|*|\\phantom{\\verb!x!}\\verb|diff(w(x,|\\phantom{\\verb!x!}\\verb|y),|\\phantom{\\verb!x!}\\verb|y)|, \\verb|x/y|\\phantom{\\verb!x!}\\verb|*|\\phantom{\\verb!x!}\\verb|diff(z(x,|\\phantom{\\verb!x!}\\verb|y),|\\phantom{\\verb!x!}\\verb|y)|, \\verb|-1/2/y^2|\\phantom{\\verb!x!}\\verb|*|\\phantom{\\verb!x!}\\verb|w(x,|\\phantom{\\verb!x!}\\verb|y)|\\right]</script></html>"
      ],
      "text/latex": [
       "\\begin{math}\n",
       "\\newcommand{\\Bold}[1]{\\mathbf{#1}}\\left[\\verb|1|\\phantom{\\verb!x!}\\verb|*|\\phantom{\\verb!x!}\\verb|diff(w(x,|\\phantom{\\verb!x!}\\verb|y),|\\phantom{\\verb!x!}\\verb|x,|\\phantom{\\verb!x!}\\verb|y)|, \\verb|1|\\phantom{\\verb!x!}\\verb|*|\\phantom{\\verb!x!}\\verb|diff(z(x,|\\phantom{\\verb!x!}\\verb|y),|\\phantom{\\verb!x!}\\verb|x,|\\phantom{\\verb!x!}\\verb|y)|, \\verb|-1/y|\\phantom{\\verb!x!}\\verb|*|\\phantom{\\verb!x!}\\verb|diff(w(x,|\\phantom{\\verb!x!}\\verb|y),|\\phantom{\\verb!x!}\\verb|x)|, \\verb|1/2/y|\\phantom{\\verb!x!}\\verb|*|\\phantom{\\verb!x!}\\verb|diff(w(x,|\\phantom{\\verb!x!}\\verb|y),|\\phantom{\\verb!x!}\\verb|y)|, \\verb|x/y|\\phantom{\\verb!x!}\\verb|*|\\phantom{\\verb!x!}\\verb|diff(z(x,|\\phantom{\\verb!x!}\\verb|y),|\\phantom{\\verb!x!}\\verb|y)|, \\verb|-1/2/y^2|\\phantom{\\verb!x!}\\verb|*|\\phantom{\\verb!x!}\\verb|w(x,|\\phantom{\\verb!x!}\\verb|y)|\\right]\n",
       "\\end{math}"
      ],
      "text/plain": [
       "[<pylie.JanetBasis.DTerm object at 0x7f2a01ebf310>,\n",
       " <pylie.JanetBasis.DTerm object at 0x7f2a02721730>,\n",
       " <pylie.JanetBasis.DTerm object at 0x7f2a01ebf910>,\n",
       " <pylie.JanetBasis.DTerm object at 0x7f2a01ebf5b0>,\n",
       " <pylie.JanetBasis.DTerm object at 0x7f2a01eb6610>,\n",
       " <pylie.JanetBasis.DTerm object at 0x7f29fbf73e80>]"
      ]
     },
     "execution_count": 14,
     "metadata": {},
     "output_type": "execute_result"
    }
   ],
   "source": [
    "f4 = Differential_Polynomial(diff(w, x,y) + diff(z, x,y) + diff(w, y)/(2*y) - diff(w,x)/y + x* diff(z, y)/y - w(x,y)/(2*y**2), ctx)\n",
    "f4._orig\n",
    "f4._p"
   ]
  },
  {
   "cell_type": "code",
   "execution_count": 15,
   "id": "cb52db85",
   "metadata": {},
   "outputs": [
    {
     "data": {
      "text/html": [
       "<html><script type=\"math/tex; mode=display\">\\newcommand{\\Bold}[1]{\\mathbf{#1}}-\\frac{\\frac{\\partial}{\\partial y}w\\left(x, y\\right)}{y} + \\frac{w\\left(x, y\\right)}{y^{2}} + \\frac{\\partial^{2}}{(\\partial y)^{2}}w\\left(x, y\\right) + \\frac{\\partial^{2}}{\\partial x\\partial y}z\\left(x, y\\right)</script></html>"
      ],
      "text/latex": [
       "\\begin{math}\n",
       "\\newcommand{\\Bold}[1]{\\mathbf{#1}}-\\frac{\\frac{\\partial}{\\partial y}w\\left(x, y\\right)}{y} + \\frac{w\\left(x, y\\right)}{y^{2}} + \\frac{\\partial^{2}}{(\\partial y)^{2}}w\\left(x, y\\right) + \\frac{\\partial^{2}}{\\partial x\\partial y}z\\left(x, y\\right)\n",
       "\\end{math}"
      ],
      "text/plain": [
       "-diff(w(x, y), y)/y + w(x, y)/y^2 + diff(w(x, y), y, y) + diff(z(x, y), x, y)"
      ]
     },
     "execution_count": 15,
     "metadata": {},
     "output_type": "execute_result"
    }
   ],
   "source": [
    "f5 = Differential_Polynomial(diff(w,y,y) + diff(z,x,y) - diff(w, y)/y + w(x,y)/(y**2), ctx)\n",
    "f5._orig"
   ]
  },
  {
   "cell_type": "code",
   "execution_count": 16,
   "id": "e12d906c-1661-495f-b120-da230b88c9bd",
   "metadata": {},
   "outputs": [],
   "source": [
    "def Autoreduce(S, context):  \n",
    "    i = 0\n",
    "    while True:\n",
    "        p = S[i]\n",
    "        #print (\"While\")\n",
    "        #p._orig.show()  \n",
    "        r = S[i+1:]\n",
    "        if not r:\n",
    "            S = Reorder(S, context,True)\n",
    "            return S[:]    \n",
    "        #r[0]._orig.show()\n",
    "        have_reduced = False\n",
    "        checkidx = i+1\n",
    "        for _r in r:\n",
    "            #print (\"Try to reduce {} with {}\".format(S[checkidx], S[i].Lder()))\n",
    "            res = reduce (_r, p, context)\n",
    "            if res._orig != _r._orig:\n",
    "                #print (\"have reduced!\")\n",
    "                #res._orig.show()\n",
    "                #for gurki in res._p:\n",
    "                #    print ((gurki._coeff *gurki._d).collect (gurki._d))\n",
    "                have_reduced = True                \n",
    "            S[checkidx] = res\n",
    "            checkidx += 1\n",
    "        print(\"This is the new System before reorder\")   \n",
    "        for _ in S:          \n",
    "            _.show()\n",
    "        S = Reorder(S, context, ascending = True)\n",
    "        print(\"This is the new System........\")\n",
    "        for _ in S:          \n",
    "            _.show()\n",
    "        if not have_reduced:\n",
    "            # no reduction done\n",
    "            i += 1        \n",
    "        else:\n",
    "            i = 0\n",
    "            "
   ]
  },
  {
   "cell_type": "code",
   "execution_count": 17,
   "id": "41327fb6",
   "metadata": {},
   "outputs": [],
   "source": [
    "def JanetBasis(S, context):\n",
    "    \"\"\"List of homogenous PDE's + order context\"\"\"\n",
    "    if not isinstance(S, Iterable):\n",
    "        # bad criterion\n",
    "        S = [S]\n",
    "    S = [Differential_Polynomial(s, context) for s in S]\n",
    "    for _ in S:\n",
    "        _.show()\n",
    "    print (\"....................................\")\n",
    "    S = Reorder(S, context, ascending = True)\n",
    "    for _ in S:\n",
    "        _.show()\n",
    "    while 1:\n",
    "        S = Autoreduce (S, context)\n",
    "        #S = CompleteSystem (S, context)\n",
    "        #f = FindIntegrableConditions(S, context)\n",
    "        #c = ReduceIntegrabilityConditions(S, context)\n",
    "        #if all ([_ == 0 for _ in c]) or not c:\n",
    "        #    return S\n",
    "        #S += c\n",
    "        #S = Reorder (S, context)\n",
    "        return S[:]"
   ]
  },
  {
   "cell_type": "code",
   "execution_count": null,
   "id": "107a5737-0bbe-49bc-aa25-82353c8e4eae",
   "metadata": {},
   "outputs": [
    {
     "data": {
      "text/html": [
       "<html><script type=\"math/tex; mode=display\">\\newcommand{\\Bold}[1]{\\mathbf{#1}}-\\frac{2 \\, x \\frac{\\partial^{2}}{(\\partial x)^{2}}z\\left(x, y\\right)}{y} - \\frac{x \\frac{\\partial}{\\partial x}w\\left(x, y\\right)}{y^{2}} + \\frac{\\partial^{2}}{\\partial x\\partial y}w\\left(x, y\\right)</script></html>"
      ],
      "text/latex": [
       "\\begin{math}\n",
       "\\newcommand{\\Bold}[1]{\\mathbf{#1}}-\\frac{2 \\, x \\frac{\\partial^{2}}{(\\partial x)^{2}}z\\left(x, y\\right)}{y} - \\frac{x \\frac{\\partial}{\\partial x}w\\left(x, y\\right)}{y^{2}} + \\frac{\\partial^{2}}{\\partial x\\partial y}w\\left(x, y\\right)\n",
       "\\end{math}"
      ],
      "text/plain": [
       "-2*x*diff(z(x, y), x, x)/y - x*diff(w(x, y), x)/y^2 + diff(w(x, y), x, y)"
      ]
     },
     "metadata": {},
     "output_type": "display_data"
    },
    {
     "data": {
      "text/html": [
       "<html><script type=\"math/tex; mode=display\">\\newcommand{\\Bold}[1]{\\mathbf{#1}}\\frac{x \\frac{\\partial}{\\partial y}z\\left(x, y\\right)}{2 \\, {\\left(x^{2} y + y^{2}\\right)}} - \\frac{w\\left(x, y\\right)}{y} + \\frac{\\partial}{\\partial y}w\\left(x, y\\right)</script></html>"
      ],
      "text/latex": [
       "\\begin{math}\n",
       "\\newcommand{\\Bold}[1]{\\mathbf{#1}}\\frac{x \\frac{\\partial}{\\partial y}z\\left(x, y\\right)}{2 \\, {\\left(x^{2} y + y^{2}\\right)}} - \\frac{w\\left(x, y\\right)}{y} + \\frac{\\partial}{\\partial y}w\\left(x, y\\right)\n",
       "\\end{math}"
      ],
      "text/plain": [
       "1/2*x*diff(z(x, y), y)/(x^2*y + y^2) - w(x, y)/y + diff(w(x, y), y)"
      ]
     },
     "metadata": {},
     "output_type": "display_data"
    },
    {
     "data": {
      "text/html": [
       "<html><script type=\"math/tex; mode=display\">\\newcommand{\\Bold}[1]{\\mathbf{#1}}-\\frac{\\frac{\\partial}{\\partial y}w\\left(x, y\\right)}{y} + \\frac{w\\left(x, y\\right)}{y^{2}} + \\frac{\\partial^{2}}{(\\partial y)^{2}}w\\left(x, y\\right) + \\frac{\\partial^{2}}{\\partial x\\partial y}z\\left(x, y\\right)</script></html>"
      ],
      "text/latex": [
       "\\begin{math}\n",
       "\\newcommand{\\Bold}[1]{\\mathbf{#1}}-\\frac{\\frac{\\partial}{\\partial y}w\\left(x, y\\right)}{y} + \\frac{w\\left(x, y\\right)}{y^{2}} + \\frac{\\partial^{2}}{(\\partial y)^{2}}w\\left(x, y\\right) + \\frac{\\partial^{2}}{\\partial x\\partial y}z\\left(x, y\\right)\n",
       "\\end{math}"
      ],
      "text/plain": [
       "-diff(w(x, y), y)/y + w(x, y)/y^2 + diff(w(x, y), y, y) + diff(z(x, y), x, y)"
      ]
     },
     "metadata": {},
     "output_type": "display_data"
    },
    {
     "data": {
      "text/html": [
       "<html><script type=\"math/tex; mode=display\">\\newcommand{\\Bold}[1]{\\mathbf{#1}}\\frac{y \\frac{\\partial}{\\partial y}w\\left(x, y\\right)}{x} + \\frac{2 \\, y \\frac{\\partial}{\\partial x}z\\left(x, y\\right)}{x} + \\frac{\\partial^{2}}{\\partial x\\partial y}z\\left(x, y\\right)</script></html>"
      ],
      "text/latex": [
       "\\begin{math}\n",
       "\\newcommand{\\Bold}[1]{\\mathbf{#1}}\\frac{y \\frac{\\partial}{\\partial y}w\\left(x, y\\right)}{x} + \\frac{2 \\, y \\frac{\\partial}{\\partial x}z\\left(x, y\\right)}{x} + \\frac{\\partial^{2}}{\\partial x\\partial y}z\\left(x, y\\right)\n",
       "\\end{math}"
      ],
      "text/plain": [
       "y*diff(w(x, y), y)/x + 2*y*diff(z(x, y), x)/x + diff(z(x, y), x, y)"
      ]
     },
     "metadata": {},
     "output_type": "display_data"
    },
    {
     "data": {
      "text/html": [
       "<html><script type=\"math/tex; mode=display\">\\newcommand{\\Bold}[1]{\\mathbf{#1}}\\frac{x \\frac{\\partial}{\\partial y}z\\left(x, y\\right)}{y} - \\frac{\\frac{\\partial}{\\partial x}w\\left(x, y\\right)}{y} + \\frac{\\frac{\\partial}{\\partial y}w\\left(x, y\\right)}{2 \\, y} - \\frac{w\\left(x, y\\right)}{2 \\, y^{2}} + \\frac{\\partial^{2}}{\\partial x\\partial y}w\\left(x, y\\right) + \\frac{\\partial^{2}}{\\partial x\\partial y}z\\left(x, y\\right)</script></html>"
      ],
      "text/latex": [
       "\\begin{math}\n",
       "\\newcommand{\\Bold}[1]{\\mathbf{#1}}\\frac{x \\frac{\\partial}{\\partial y}z\\left(x, y\\right)}{y} - \\frac{\\frac{\\partial}{\\partial x}w\\left(x, y\\right)}{y} + \\frac{\\frac{\\partial}{\\partial y}w\\left(x, y\\right)}{2 \\, y} - \\frac{w\\left(x, y\\right)}{2 \\, y^{2}} + \\frac{\\partial^{2}}{\\partial x\\partial y}w\\left(x, y\\right) + \\frac{\\partial^{2}}{\\partial x\\partial y}z\\left(x, y\\right)\n",
       "\\end{math}"
      ],
      "text/plain": [
       "x*diff(z(x, y), y)/y - diff(w(x, y), x)/y + 1/2*diff(w(x, y), y)/y - 1/2*w(x, y)/y^2 + diff(w(x, y), x, y) + diff(z(x, y), x, y)"
      ]
     },
     "metadata": {},
     "output_type": "display_data"
    },
    {
     "name": "stdout",
     "output_type": "stream",
     "text": [
      "....................................\n"
     ]
    },
    {
     "data": {
      "text/html": [
       "<html><script type=\"math/tex; mode=display\">\\newcommand{\\Bold}[1]{\\mathbf{#1}}\\frac{x \\frac{\\partial}{\\partial y}z\\left(x, y\\right)}{2 \\, {\\left(x^{2} y + y^{2}\\right)}} - \\frac{w\\left(x, y\\right)}{y} + \\frac{\\partial}{\\partial y}w\\left(x, y\\right)</script></html>"
      ],
      "text/latex": [
       "\\begin{math}\n",
       "\\newcommand{\\Bold}[1]{\\mathbf{#1}}\\frac{x \\frac{\\partial}{\\partial y}z\\left(x, y\\right)}{2 \\, {\\left(x^{2} y + y^{2}\\right)}} - \\frac{w\\left(x, y\\right)}{y} + \\frac{\\partial}{\\partial y}w\\left(x, y\\right)\n",
       "\\end{math}"
      ],
      "text/plain": [
       "1/2*x*diff(z(x, y), y)/(x^2*y + y^2) - w(x, y)/y + diff(w(x, y), y)"
      ]
     },
     "metadata": {},
     "output_type": "display_data"
    },
    {
     "data": {
      "text/html": [
       "<html><script type=\"math/tex; mode=display\">\\newcommand{\\Bold}[1]{\\mathbf{#1}}\\frac{y \\frac{\\partial}{\\partial y}w\\left(x, y\\right)}{x} + \\frac{2 \\, y \\frac{\\partial}{\\partial x}z\\left(x, y\\right)}{x} + \\frac{\\partial^{2}}{\\partial x\\partial y}z\\left(x, y\\right)</script></html>"
      ],
      "text/latex": [
       "\\begin{math}\n",
       "\\newcommand{\\Bold}[1]{\\mathbf{#1}}\\frac{y \\frac{\\partial}{\\partial y}w\\left(x, y\\right)}{x} + \\frac{2 \\, y \\frac{\\partial}{\\partial x}z\\left(x, y\\right)}{x} + \\frac{\\partial^{2}}{\\partial x\\partial y}z\\left(x, y\\right)\n",
       "\\end{math}"
      ],
      "text/plain": [
       "y*diff(w(x, y), y)/x + 2*y*diff(z(x, y), x)/x + diff(z(x, y), x, y)"
      ]
     },
     "metadata": {},
     "output_type": "display_data"
    },
    {
     "data": {
      "text/html": [
       "<html><script type=\"math/tex; mode=display\">\\newcommand{\\Bold}[1]{\\mathbf{#1}}-\\frac{\\frac{\\partial}{\\partial y}w\\left(x, y\\right)}{y} + \\frac{w\\left(x, y\\right)}{y^{2}} + \\frac{\\partial^{2}}{(\\partial y)^{2}}w\\left(x, y\\right) + \\frac{\\partial^{2}}{\\partial x\\partial y}z\\left(x, y\\right)</script></html>"
      ],
      "text/latex": [
       "\\begin{math}\n",
       "\\newcommand{\\Bold}[1]{\\mathbf{#1}}-\\frac{\\frac{\\partial}{\\partial y}w\\left(x, y\\right)}{y} + \\frac{w\\left(x, y\\right)}{y^{2}} + \\frac{\\partial^{2}}{(\\partial y)^{2}}w\\left(x, y\\right) + \\frac{\\partial^{2}}{\\partial x\\partial y}z\\left(x, y\\right)\n",
       "\\end{math}"
      ],
      "text/plain": [
       "-diff(w(x, y), y)/y + w(x, y)/y^2 + diff(w(x, y), y, y) + diff(z(x, y), x, y)"
      ]
     },
     "metadata": {},
     "output_type": "display_data"
    },
    {
     "data": {
      "text/html": [
       "<html><script type=\"math/tex; mode=display\">\\newcommand{\\Bold}[1]{\\mathbf{#1}}\\frac{x \\frac{\\partial}{\\partial y}z\\left(x, y\\right)}{y} - \\frac{\\frac{\\partial}{\\partial x}w\\left(x, y\\right)}{y} + \\frac{\\frac{\\partial}{\\partial y}w\\left(x, y\\right)}{2 \\, y} - \\frac{w\\left(x, y\\right)}{2 \\, y^{2}} + \\frac{\\partial^{2}}{\\partial x\\partial y}w\\left(x, y\\right) + \\frac{\\partial^{2}}{\\partial x\\partial y}z\\left(x, y\\right)</script></html>"
      ],
      "text/latex": [
       "\\begin{math}\n",
       "\\newcommand{\\Bold}[1]{\\mathbf{#1}}\\frac{x \\frac{\\partial}{\\partial y}z\\left(x, y\\right)}{y} - \\frac{\\frac{\\partial}{\\partial x}w\\left(x, y\\right)}{y} + \\frac{\\frac{\\partial}{\\partial y}w\\left(x, y\\right)}{2 \\, y} - \\frac{w\\left(x, y\\right)}{2 \\, y^{2}} + \\frac{\\partial^{2}}{\\partial x\\partial y}w\\left(x, y\\right) + \\frac{\\partial^{2}}{\\partial x\\partial y}z\\left(x, y\\right)\n",
       "\\end{math}"
      ],
      "text/plain": [
       "x*diff(z(x, y), y)/y - diff(w(x, y), x)/y + 1/2*diff(w(x, y), y)/y - 1/2*w(x, y)/y^2 + diff(w(x, y), x, y) + diff(z(x, y), x, y)"
      ]
     },
     "metadata": {},
     "output_type": "display_data"
    },
    {
     "data": {
      "text/html": [
       "<html><script type=\"math/tex; mode=display\">\\newcommand{\\Bold}[1]{\\mathbf{#1}}-\\frac{2 \\, x \\frac{\\partial^{2}}{(\\partial x)^{2}}z\\left(x, y\\right)}{y} - \\frac{x \\frac{\\partial}{\\partial x}w\\left(x, y\\right)}{y^{2}} + \\frac{\\partial^{2}}{\\partial x\\partial y}w\\left(x, y\\right)</script></html>"
      ],
      "text/latex": [
       "\\begin{math}\n",
       "\\newcommand{\\Bold}[1]{\\mathbf{#1}}-\\frac{2 \\, x \\frac{\\partial^{2}}{(\\partial x)^{2}}z\\left(x, y\\right)}{y} - \\frac{x \\frac{\\partial}{\\partial x}w\\left(x, y\\right)}{y^{2}} + \\frac{\\partial^{2}}{\\partial x\\partial y}w\\left(x, y\\right)\n",
       "\\end{math}"
      ],
      "text/plain": [
       "-2*x*diff(z(x, y), x, x)/y - x*diff(w(x, y), x)/y^2 + diff(w(x, y), x, y)"
      ]
     },
     "metadata": {},
     "output_type": "display_data"
    },
    {
     "name": "stdout",
     "output_type": "stream",
     "text": [
      "--------------------------------------- entering reduce\n",
      "no reduction\n",
      "--------------------------------------- entering reduce\n",
      "--------------------------------------- entering reduce\n",
      "--------------------------------------- entering reduce\n",
      "no reduction\n",
      "This is the new System before reorder\n"
     ]
    },
    {
     "data": {
      "text/html": [
       "<html><script type=\"math/tex; mode=display\">\\newcommand{\\Bold}[1]{\\mathbf{#1}}\\frac{x \\frac{\\partial}{\\partial y}z\\left(x, y\\right)}{2 \\, {\\left(x^{2} y + y^{2}\\right)}} - \\frac{w\\left(x, y\\right)}{y} + \\frac{\\partial}{\\partial y}w\\left(x, y\\right)</script></html>"
      ],
      "text/latex": [
       "\\begin{math}\n",
       "\\newcommand{\\Bold}[1]{\\mathbf{#1}}\\frac{x \\frac{\\partial}{\\partial y}z\\left(x, y\\right)}{2 \\, {\\left(x^{2} y + y^{2}\\right)}} - \\frac{w\\left(x, y\\right)}{y} + \\frac{\\partial}{\\partial y}w\\left(x, y\\right)\n",
       "\\end{math}"
      ],
      "text/plain": [
       "1/2*x*diff(z(x, y), y)/(x^2*y + y^2) - w(x, y)/y + diff(w(x, y), y)"
      ]
     },
     "metadata": {},
     "output_type": "display_data"
    },
    {
     "data": {
      "text/html": [
       "<html><script type=\"math/tex; mode=display\">\\newcommand{\\Bold}[1]{\\mathbf{#1}}\\frac{2 \\, y \\frac{\\partial}{\\partial x}z\\left(x, y\\right)}{x} + \\frac{w\\left(x, y\\right)}{x} - \\frac{\\frac{\\partial}{\\partial y}z\\left(x, y\\right)}{2 \\, {\\left(x^{2} + y\\right)}} + \\frac{\\partial^{2}}{\\partial x\\partial y}z\\left(x, y\\right)</script></html>"
      ],
      "text/latex": [
       "\\begin{math}\n",
       "\\newcommand{\\Bold}[1]{\\mathbf{#1}}\\frac{2 \\, y \\frac{\\partial}{\\partial x}z\\left(x, y\\right)}{x} + \\frac{w\\left(x, y\\right)}{x} - \\frac{\\frac{\\partial}{\\partial y}z\\left(x, y\\right)}{2 \\, {\\left(x^{2} + y\\right)}} + \\frac{\\partial^{2}}{\\partial x\\partial y}z\\left(x, y\\right)\n",
       "\\end{math}"
      ],
      "text/plain": [
       "2*y*diff(z(x, y), x)/x + w(x, y)/x - 1/2*diff(z(x, y), y)/(x^2 + y) + diff(z(x, y), x, y)"
      ]
     },
     "metadata": {},
     "output_type": "display_data"
    },
    {
     "data": {
      "text/html": [
       "<html><script type=\"math/tex; mode=display\">\\newcommand{\\Bold}[1]{\\mathbf{#1}}\\frac{{\\left(x^{3} + 2 \\, x y\\right)} \\frac{\\partial}{\\partial y}z\\left(x, y\\right)}{2 \\, {\\left(x^{4} y^{2} + 2 \\, x^{2} y^{3} + y^{4}\\right)}} - \\frac{x \\frac{\\partial^{2}}{(\\partial y)^{2}}z\\left(x, y\\right)}{2 \\, {\\left(x^{2} y + y^{2}\\right)}} + \\frac{\\partial^{2}}{\\partial x\\partial y}z\\left(x, y\\right)</script></html>"
      ],
      "text/latex": [
       "\\begin{math}\n",
       "\\newcommand{\\Bold}[1]{\\mathbf{#1}}\\frac{{\\left(x^{3} + 2 \\, x y\\right)} \\frac{\\partial}{\\partial y}z\\left(x, y\\right)}{2 \\, {\\left(x^{4} y^{2} + 2 \\, x^{2} y^{3} + y^{4}\\right)}} - \\frac{x \\frac{\\partial^{2}}{(\\partial y)^{2}}z\\left(x, y\\right)}{2 \\, {\\left(x^{2} y + y^{2}\\right)}} + \\frac{\\partial^{2}}{\\partial x\\partial y}z\\left(x, y\\right)\n",
       "\\end{math}"
      ],
      "text/plain": [
       "1/2*(x^3 + 2*x*y)*diff(z(x, y), y)/(x^4*y^2 + 2*x^2*y^3 + y^4) - 1/2*x*diff(z(x, y), y, y)/(x^2*y + y^2) + diff(z(x, y), x, y)"
      ]
     },
     "metadata": {},
     "output_type": "display_data"
    },
    {
     "data": {
      "text/html": [
       "<html><script type=\"math/tex; mode=display\">\\newcommand{\\Bold}[1]{\\mathbf{#1}}\\frac{{\\left(4 \\, x y^{3} - x^{3} + 2 \\, {\\left(4 \\, x^{3} - 1\\right)} y^{2} + {\\left(4 \\, x^{5} + 2 \\, x^{2} - x\\right)} y\\right)} \\frac{\\partial}{\\partial y}z\\left(x, y\\right)}{2 \\, {\\left(4 \\, x^{2} y^{3} - x^{3} y + 2 \\, y^{4} + {\\left(2 \\, x^{4} - x\\right)} y^{2}\\right)}} + \\frac{\\partial^{2}}{\\partial x\\partial y}z\\left(x, y\\right)</script></html>"
      ],
      "text/latex": [
       "\\begin{math}\n",
       "\\newcommand{\\Bold}[1]{\\mathbf{#1}}\\frac{{\\left(4 \\, x y^{3} - x^{3} + 2 \\, {\\left(4 \\, x^{3} - 1\\right)} y^{2} + {\\left(4 \\, x^{5} + 2 \\, x^{2} - x\\right)} y\\right)} \\frac{\\partial}{\\partial y}z\\left(x, y\\right)}{2 \\, {\\left(4 \\, x^{2} y^{3} - x^{3} y + 2 \\, y^{4} + {\\left(2 \\, x^{4} - x\\right)} y^{2}\\right)}} + \\frac{\\partial^{2}}{\\partial x\\partial y}z\\left(x, y\\right)\n",
       "\\end{math}"
      ],
      "text/plain": [
       "1/2*(4*x*y^3 - x^3 + 2*(4*x^3 - 1)*y^2 + (4*x^5 + 2*x^2 - x)*y)*diff(z(x, y), y)/(4*x^2*y^3 - x^3*y + 2*y^4 + (2*x^4 - x)*y^2) + diff(z(x, y), x, y)"
      ]
     },
     "metadata": {},
     "output_type": "display_data"
    },
    {
     "data": {
      "text/html": [
       "<html><script type=\"math/tex; mode=display\">\\newcommand{\\Bold}[1]{\\mathbf{#1}}-\\frac{{\\left(x^{2} - y\\right)} \\frac{\\partial}{\\partial y}z\\left(x, y\\right)}{4 \\, {\\left(x^{5} + 2 \\, x^{3} y + x y^{2}\\right)}} + \\frac{{\\left(x - y\\right)} \\frac{\\partial}{\\partial x}w\\left(x, y\\right)}{2 \\, x y} + \\frac{\\frac{\\partial^{2}}{\\partial x\\partial y}z\\left(x, y\\right)}{4 \\, {\\left(x^{2} + y\\right)}} + \\frac{\\partial^{2}}{(\\partial x)^{2}}z\\left(x, y\\right)</script></html>"
      ],
      "text/latex": [
       "\\begin{math}\n",
       "\\newcommand{\\Bold}[1]{\\mathbf{#1}}-\\frac{{\\left(x^{2} - y\\right)} \\frac{\\partial}{\\partial y}z\\left(x, y\\right)}{4 \\, {\\left(x^{5} + 2 \\, x^{3} y + x y^{2}\\right)}} + \\frac{{\\left(x - y\\right)} \\frac{\\partial}{\\partial x}w\\left(x, y\\right)}{2 \\, x y} + \\frac{\\frac{\\partial^{2}}{\\partial x\\partial y}z\\left(x, y\\right)}{4 \\, {\\left(x^{2} + y\\right)}} + \\frac{\\partial^{2}}{(\\partial x)^{2}}z\\left(x, y\\right)\n",
       "\\end{math}"
      ],
      "text/plain": [
       "-1/4*(x^2 - y)*diff(z(x, y), y)/(x^5 + 2*x^3*y + x*y^2) + 1/2*(x - y)*diff(w(x, y), x)/(x*y) + 1/4*diff(z(x, y), x, y)/(x^2 + y) + diff(z(x, y), x, x)"
      ]
     },
     "metadata": {},
     "output_type": "display_data"
    },
    {
     "name": "stdout",
     "output_type": "stream",
     "text": [
      "This is the new System........\n"
     ]
    },
    {
     "data": {
      "text/html": [
       "<html><script type=\"math/tex; mode=display\">\\newcommand{\\Bold}[1]{\\mathbf{#1}}\\frac{x \\frac{\\partial}{\\partial y}z\\left(x, y\\right)}{2 \\, {\\left(x^{2} y + y^{2}\\right)}} - \\frac{w\\left(x, y\\right)}{y} + \\frac{\\partial}{\\partial y}w\\left(x, y\\right)</script></html>"
      ],
      "text/latex": [
       "\\begin{math}\n",
       "\\newcommand{\\Bold}[1]{\\mathbf{#1}}\\frac{x \\frac{\\partial}{\\partial y}z\\left(x, y\\right)}{2 \\, {\\left(x^{2} y + y^{2}\\right)}} - \\frac{w\\left(x, y\\right)}{y} + \\frac{\\partial}{\\partial y}w\\left(x, y\\right)\n",
       "\\end{math}"
      ],
      "text/plain": [
       "1/2*x*diff(z(x, y), y)/(x^2*y + y^2) - w(x, y)/y + diff(w(x, y), y)"
      ]
     },
     "metadata": {},
     "output_type": "display_data"
    },
    {
     "data": {
      "text/html": [
       "<html><script type=\"math/tex; mode=display\">\\newcommand{\\Bold}[1]{\\mathbf{#1}}\\frac{{\\left(4 \\, x y^{3} - x^{3} + 2 \\, {\\left(4 \\, x^{3} - 1\\right)} y^{2} + {\\left(4 \\, x^{5} + 2 \\, x^{2} - x\\right)} y\\right)} \\frac{\\partial}{\\partial y}z\\left(x, y\\right)}{2 \\, {\\left(4 \\, x^{2} y^{3} - x^{3} y + 2 \\, y^{4} + {\\left(2 \\, x^{4} - x\\right)} y^{2}\\right)}} + \\frac{\\partial^{2}}{\\partial x\\partial y}z\\left(x, y\\right)</script></html>"
      ],
      "text/latex": [
       "\\begin{math}\n",
       "\\newcommand{\\Bold}[1]{\\mathbf{#1}}\\frac{{\\left(4 \\, x y^{3} - x^{3} + 2 \\, {\\left(4 \\, x^{3} - 1\\right)} y^{2} + {\\left(4 \\, x^{5} + 2 \\, x^{2} - x\\right)} y\\right)} \\frac{\\partial}{\\partial y}z\\left(x, y\\right)}{2 \\, {\\left(4 \\, x^{2} y^{3} - x^{3} y + 2 \\, y^{4} + {\\left(2 \\, x^{4} - x\\right)} y^{2}\\right)}} + \\frac{\\partial^{2}}{\\partial x\\partial y}z\\left(x, y\\right)\n",
       "\\end{math}"
      ],
      "text/plain": [
       "1/2*(4*x*y^3 - x^3 + 2*(4*x^3 - 1)*y^2 + (4*x^5 + 2*x^2 - x)*y)*diff(z(x, y), y)/(4*x^2*y^3 - x^3*y + 2*y^4 + (2*x^4 - x)*y^2) + diff(z(x, y), x, y)"
      ]
     },
     "metadata": {},
     "output_type": "display_data"
    },
    {
     "data": {
      "text/html": [
       "<html><script type=\"math/tex; mode=display\">\\newcommand{\\Bold}[1]{\\mathbf{#1}}\\frac{{\\left(x^{3} + 2 \\, x y\\right)} \\frac{\\partial}{\\partial y}z\\left(x, y\\right)}{2 \\, {\\left(x^{4} y^{2} + 2 \\, x^{2} y^{3} + y^{4}\\right)}} - \\frac{x \\frac{\\partial^{2}}{(\\partial y)^{2}}z\\left(x, y\\right)}{2 \\, {\\left(x^{2} y + y^{2}\\right)}} + \\frac{\\partial^{2}}{\\partial x\\partial y}z\\left(x, y\\right)</script></html>"
      ],
      "text/latex": [
       "\\begin{math}\n",
       "\\newcommand{\\Bold}[1]{\\mathbf{#1}}\\frac{{\\left(x^{3} + 2 \\, x y\\right)} \\frac{\\partial}{\\partial y}z\\left(x, y\\right)}{2 \\, {\\left(x^{4} y^{2} + 2 \\, x^{2} y^{3} + y^{4}\\right)}} - \\frac{x \\frac{\\partial^{2}}{(\\partial y)^{2}}z\\left(x, y\\right)}{2 \\, {\\left(x^{2} y + y^{2}\\right)}} + \\frac{\\partial^{2}}{\\partial x\\partial y}z\\left(x, y\\right)\n",
       "\\end{math}"
      ],
      "text/plain": [
       "1/2*(x^3 + 2*x*y)*diff(z(x, y), y)/(x^4*y^2 + 2*x^2*y^3 + y^4) - 1/2*x*diff(z(x, y), y, y)/(x^2*y + y^2) + diff(z(x, y), x, y)"
      ]
     },
     "metadata": {},
     "output_type": "display_data"
    },
    {
     "data": {
      "text/html": [
       "<html><script type=\"math/tex; mode=display\">\\newcommand{\\Bold}[1]{\\mathbf{#1}}\\frac{2 \\, y \\frac{\\partial}{\\partial x}z\\left(x, y\\right)}{x} + \\frac{w\\left(x, y\\right)}{x} - \\frac{\\frac{\\partial}{\\partial y}z\\left(x, y\\right)}{2 \\, {\\left(x^{2} + y\\right)}} + \\frac{\\partial^{2}}{\\partial x\\partial y}z\\left(x, y\\right)</script></html>"
      ],
      "text/latex": [
       "\\begin{math}\n",
       "\\newcommand{\\Bold}[1]{\\mathbf{#1}}\\frac{2 \\, y \\frac{\\partial}{\\partial x}z\\left(x, y\\right)}{x} + \\frac{w\\left(x, y\\right)}{x} - \\frac{\\frac{\\partial}{\\partial y}z\\left(x, y\\right)}{2 \\, {\\left(x^{2} + y\\right)}} + \\frac{\\partial^{2}}{\\partial x\\partial y}z\\left(x, y\\right)\n",
       "\\end{math}"
      ],
      "text/plain": [
       "2*y*diff(z(x, y), x)/x + w(x, y)/x - 1/2*diff(z(x, y), y)/(x^2 + y) + diff(z(x, y), x, y)"
      ]
     },
     "metadata": {},
     "output_type": "display_data"
    },
    {
     "data": {
      "text/html": [
       "<html><script type=\"math/tex; mode=display\">\\newcommand{\\Bold}[1]{\\mathbf{#1}}-\\frac{{\\left(x^{2} - y\\right)} \\frac{\\partial}{\\partial y}z\\left(x, y\\right)}{4 \\, {\\left(x^{5} + 2 \\, x^{3} y + x y^{2}\\right)}} + \\frac{{\\left(x - y\\right)} \\frac{\\partial}{\\partial x}w\\left(x, y\\right)}{2 \\, x y} + \\frac{\\frac{\\partial^{2}}{\\partial x\\partial y}z\\left(x, y\\right)}{4 \\, {\\left(x^{2} + y\\right)}} + \\frac{\\partial^{2}}{(\\partial x)^{2}}z\\left(x, y\\right)</script></html>"
      ],
      "text/latex": [
       "\\begin{math}\n",
       "\\newcommand{\\Bold}[1]{\\mathbf{#1}}-\\frac{{\\left(x^{2} - y\\right)} \\frac{\\partial}{\\partial y}z\\left(x, y\\right)}{4 \\, {\\left(x^{5} + 2 \\, x^{3} y + x y^{2}\\right)}} + \\frac{{\\left(x - y\\right)} \\frac{\\partial}{\\partial x}w\\left(x, y\\right)}{2 \\, x y} + \\frac{\\frac{\\partial^{2}}{\\partial x\\partial y}z\\left(x, y\\right)}{4 \\, {\\left(x^{2} + y\\right)}} + \\frac{\\partial^{2}}{(\\partial x)^{2}}z\\left(x, y\\right)\n",
       "\\end{math}"
      ],
      "text/plain": [
       "-1/4*(x^2 - y)*diff(z(x, y), y)/(x^5 + 2*x^3*y + x*y^2) + 1/2*(x - y)*diff(w(x, y), x)/(x*y) + 1/4*diff(z(x, y), x, y)/(x^2 + y) + diff(z(x, y), x, x)"
      ]
     },
     "metadata": {},
     "output_type": "display_data"
    },
    {
     "name": "stdout",
     "output_type": "stream",
     "text": [
      "--------------------------------------- entering reduce\n",
      "--------------------------------------- entering reduce\n",
      "--------------------------------------- entering reduce\n",
      "no reduction\n",
      "--------------------------------------- entering reduce\n",
      "no reduction\n",
      "This is the new System before reorder\n"
     ]
    },
    {
     "data": {
      "text/html": [
       "<html><script type=\"math/tex; mode=display\">\\newcommand{\\Bold}[1]{\\mathbf{#1}}\\frac{x \\frac{\\partial}{\\partial y}z\\left(x, y\\right)}{2 \\, {\\left(x^{2} y + y^{2}\\right)}} - \\frac{w\\left(x, y\\right)}{y} + \\frac{\\partial}{\\partial y}w\\left(x, y\\right)</script></html>"
      ],
      "text/latex": [
       "\\begin{math}\n",
       "\\newcommand{\\Bold}[1]{\\mathbf{#1}}\\frac{x \\frac{\\partial}{\\partial y}z\\left(x, y\\right)}{2 \\, {\\left(x^{2} y + y^{2}\\right)}} - \\frac{w\\left(x, y\\right)}{y} + \\frac{\\partial}{\\partial y}w\\left(x, y\\right)\n",
       "\\end{math}"
      ],
      "text/plain": [
       "1/2*x*diff(z(x, y), y)/(x^2*y + y^2) - w(x, y)/y + diff(w(x, y), y)"
      ]
     },
     "metadata": {},
     "output_type": "display_data"
    },
    {
     "data": {
      "text/html": [
       "<html><script type=\"math/tex; mode=display\">\\newcommand{\\Bold}[1]{\\mathbf{#1}}\\frac{{\\left(4 \\, x y^{3} - x^{3} + 2 \\, {\\left(4 \\, x^{3} - 1\\right)} y^{2} + {\\left(4 \\, x^{5} + 2 \\, x^{2} - x\\right)} y\\right)} \\frac{\\partial}{\\partial y}z\\left(x, y\\right)}{2 \\, {\\left(4 \\, x^{2} y^{3} - x^{3} y + 2 \\, y^{4} + {\\left(2 \\, x^{4} - x\\right)} y^{2}\\right)}} + \\frac{\\partial^{2}}{\\partial x\\partial y}z\\left(x, y\\right)</script></html>"
      ],
      "text/latex": [
       "\\begin{math}\n",
       "\\newcommand{\\Bold}[1]{\\mathbf{#1}}\\frac{{\\left(4 \\, x y^{3} - x^{3} + 2 \\, {\\left(4 \\, x^{3} - 1\\right)} y^{2} + {\\left(4 \\, x^{5} + 2 \\, x^{2} - x\\right)} y\\right)} \\frac{\\partial}{\\partial y}z\\left(x, y\\right)}{2 \\, {\\left(4 \\, x^{2} y^{3} - x^{3} y + 2 \\, y^{4} + {\\left(2 \\, x^{4} - x\\right)} y^{2}\\right)}} + \\frac{\\partial^{2}}{\\partial x\\partial y}z\\left(x, y\\right)\n",
       "\\end{math}"
      ],
      "text/plain": [
       "1/2*(4*x*y^3 - x^3 + 2*(4*x^3 - 1)*y^2 + (4*x^5 + 2*x^2 - x)*y)*diff(z(x, y), y)/(4*x^2*y^3 - x^3*y + 2*y^4 + (2*x^4 - x)*y^2) + diff(z(x, y), x, y)"
      ]
     },
     "metadata": {},
     "output_type": "display_data"
    },
    {
     "data": {
      "text/html": [
       "<html><script type=\"math/tex; mode=display\">\\newcommand{\\Bold}[1]{\\mathbf{#1}}\\frac{{\\left(x^{3} + 2 \\, x y\\right)} \\frac{\\partial}{\\partial y}z\\left(x, y\\right)}{2 \\, {\\left(x^{4} y^{2} + 2 \\, x^{2} y^{3} + y^{4}\\right)}} - \\frac{x \\frac{\\partial^{2}}{(\\partial y)^{2}}z\\left(x, y\\right)}{2 \\, {\\left(x^{2} y + y^{2}\\right)}} + \\frac{\\partial^{2}}{\\partial x\\partial y}z\\left(x, y\\right)</script></html>"
      ],
      "text/latex": [
       "\\begin{math}\n",
       "\\newcommand{\\Bold}[1]{\\mathbf{#1}}\\frac{{\\left(x^{3} + 2 \\, x y\\right)} \\frac{\\partial}{\\partial y}z\\left(x, y\\right)}{2 \\, {\\left(x^{4} y^{2} + 2 \\, x^{2} y^{3} + y^{4}\\right)}} - \\frac{x \\frac{\\partial^{2}}{(\\partial y)^{2}}z\\left(x, y\\right)}{2 \\, {\\left(x^{2} y + y^{2}\\right)}} + \\frac{\\partial^{2}}{\\partial x\\partial y}z\\left(x, y\\right)\n",
       "\\end{math}"
      ],
      "text/plain": [
       "1/2*(x^3 + 2*x*y)*diff(z(x, y), y)/(x^4*y^2 + 2*x^2*y^3 + y^4) - 1/2*x*diff(z(x, y), y, y)/(x^2*y + y^2) + diff(z(x, y), x, y)"
      ]
     },
     "metadata": {},
     "output_type": "display_data"
    },
    {
     "data": {
      "text/html": [
       "<html><script type=\"math/tex; mode=display\">\\newcommand{\\Bold}[1]{\\mathbf{#1}}\\frac{2 \\, y \\frac{\\partial}{\\partial x}z\\left(x, y\\right)}{x} + \\frac{w\\left(x, y\\right)}{x} - \\frac{\\frac{\\partial}{\\partial y}z\\left(x, y\\right)}{2 \\, {\\left(x^{2} + y\\right)}} + \\frac{\\partial^{2}}{\\partial x\\partial y}z\\left(x, y\\right)</script></html>"
      ],
      "text/latex": [
       "\\begin{math}\n",
       "\\newcommand{\\Bold}[1]{\\mathbf{#1}}\\frac{2 \\, y \\frac{\\partial}{\\partial x}z\\left(x, y\\right)}{x} + \\frac{w\\left(x, y\\right)}{x} - \\frac{\\frac{\\partial}{\\partial y}z\\left(x, y\\right)}{2 \\, {\\left(x^{2} + y\\right)}} + \\frac{\\partial^{2}}{\\partial x\\partial y}z\\left(x, y\\right)\n",
       "\\end{math}"
      ],
      "text/plain": [
       "2*y*diff(z(x, y), x)/x + w(x, y)/x - 1/2*diff(z(x, y), y)/(x^2 + y) + diff(z(x, y), x, y)"
      ]
     },
     "metadata": {},
     "output_type": "display_data"
    },
    {
     "data": {
      "text/html": [
       "<html><script type=\"math/tex; mode=display\">\\newcommand{\\Bold}[1]{\\mathbf{#1}}-\\frac{{\\left(x^{2} - y\\right)} \\frac{\\partial}{\\partial y}z\\left(x, y\\right)}{4 \\, {\\left(x^{5} + 2 \\, x^{3} y + x y^{2}\\right)}} + \\frac{{\\left(x - y\\right)} \\frac{\\partial}{\\partial x}w\\left(x, y\\right)}{2 \\, x y} + \\frac{\\frac{\\partial^{2}}{\\partial x\\partial y}z\\left(x, y\\right)}{4 \\, {\\left(x^{2} + y\\right)}} + \\frac{\\partial^{2}}{(\\partial x)^{2}}z\\left(x, y\\right)</script></html>"
      ],
      "text/latex": [
       "\\begin{math}\n",
       "\\newcommand{\\Bold}[1]{\\mathbf{#1}}-\\frac{{\\left(x^{2} - y\\right)} \\frac{\\partial}{\\partial y}z\\left(x, y\\right)}{4 \\, {\\left(x^{5} + 2 \\, x^{3} y + x y^{2}\\right)}} + \\frac{{\\left(x - y\\right)} \\frac{\\partial}{\\partial x}w\\left(x, y\\right)}{2 \\, x y} + \\frac{\\frac{\\partial^{2}}{\\partial x\\partial y}z\\left(x, y\\right)}{4 \\, {\\left(x^{2} + y\\right)}} + \\frac{\\partial^{2}}{(\\partial x)^{2}}z\\left(x, y\\right)\n",
       "\\end{math}"
      ],
      "text/plain": [
       "-1/4*(x^2 - y)*diff(z(x, y), y)/(x^5 + 2*x^3*y + x*y^2) + 1/2*(x - y)*diff(w(x, y), x)/(x*y) + 1/4*diff(z(x, y), x, y)/(x^2 + y) + diff(z(x, y), x, x)"
      ]
     },
     "metadata": {},
     "output_type": "display_data"
    },
    {
     "name": "stdout",
     "output_type": "stream",
     "text": [
      "This is the new System........\n"
     ]
    },
    {
     "data": {
      "text/html": [
       "<html><script type=\"math/tex; mode=display\">\\newcommand{\\Bold}[1]{\\mathbf{#1}}\\frac{x \\frac{\\partial}{\\partial y}z\\left(x, y\\right)}{2 \\, {\\left(x^{2} y + y^{2}\\right)}} - \\frac{w\\left(x, y\\right)}{y} + \\frac{\\partial}{\\partial y}w\\left(x, y\\right)</script></html>"
      ],
      "text/latex": [
       "\\begin{math}\n",
       "\\newcommand{\\Bold}[1]{\\mathbf{#1}}\\frac{x \\frac{\\partial}{\\partial y}z\\left(x, y\\right)}{2 \\, {\\left(x^{2} y + y^{2}\\right)}} - \\frac{w\\left(x, y\\right)}{y} + \\frac{\\partial}{\\partial y}w\\left(x, y\\right)\n",
       "\\end{math}"
      ],
      "text/plain": [
       "1/2*x*diff(z(x, y), y)/(x^2*y + y^2) - w(x, y)/y + diff(w(x, y), y)"
      ]
     },
     "metadata": {},
     "output_type": "display_data"
    },
    {
     "data": {
      "text/html": [
       "<html><script type=\"math/tex; mode=display\">\\newcommand{\\Bold}[1]{\\mathbf{#1}}\\frac{2 \\, y \\frac{\\partial}{\\partial x}z\\left(x, y\\right)}{x} + \\frac{w\\left(x, y\\right)}{x} - \\frac{\\frac{\\partial}{\\partial y}z\\left(x, y\\right)}{2 \\, {\\left(x^{2} + y\\right)}} + \\frac{\\partial^{2}}{\\partial x\\partial y}z\\left(x, y\\right)</script></html>"
      ],
      "text/latex": [
       "\\begin{math}\n",
       "\\newcommand{\\Bold}[1]{\\mathbf{#1}}\\frac{2 \\, y \\frac{\\partial}{\\partial x}z\\left(x, y\\right)}{x} + \\frac{w\\left(x, y\\right)}{x} - \\frac{\\frac{\\partial}{\\partial y}z\\left(x, y\\right)}{2 \\, {\\left(x^{2} + y\\right)}} + \\frac{\\partial^{2}}{\\partial x\\partial y}z\\left(x, y\\right)\n",
       "\\end{math}"
      ],
      "text/plain": [
       "2*y*diff(z(x, y), x)/x + w(x, y)/x - 1/2*diff(z(x, y), y)/(x^2 + y) + diff(z(x, y), x, y)"
      ]
     },
     "metadata": {},
     "output_type": "display_data"
    },
    {
     "data": {
      "text/html": [
       "<html><script type=\"math/tex; mode=display\">\\newcommand{\\Bold}[1]{\\mathbf{#1}}\\frac{{\\left(x^{3} + 2 \\, x y\\right)} \\frac{\\partial}{\\partial y}z\\left(x, y\\right)}{2 \\, {\\left(x^{4} y^{2} + 2 \\, x^{2} y^{3} + y^{4}\\right)}} - \\frac{x \\frac{\\partial^{2}}{(\\partial y)^{2}}z\\left(x, y\\right)}{2 \\, {\\left(x^{2} y + y^{2}\\right)}} + \\frac{\\partial^{2}}{\\partial x\\partial y}z\\left(x, y\\right)</script></html>"
      ],
      "text/latex": [
       "\\begin{math}\n",
       "\\newcommand{\\Bold}[1]{\\mathbf{#1}}\\frac{{\\left(x^{3} + 2 \\, x y\\right)} \\frac{\\partial}{\\partial y}z\\left(x, y\\right)}{2 \\, {\\left(x^{4} y^{2} + 2 \\, x^{2} y^{3} + y^{4}\\right)}} - \\frac{x \\frac{\\partial^{2}}{(\\partial y)^{2}}z\\left(x, y\\right)}{2 \\, {\\left(x^{2} y + y^{2}\\right)}} + \\frac{\\partial^{2}}{\\partial x\\partial y}z\\left(x, y\\right)\n",
       "\\end{math}"
      ],
      "text/plain": [
       "1/2*(x^3 + 2*x*y)*diff(z(x, y), y)/(x^4*y^2 + 2*x^2*y^3 + y^4) - 1/2*x*diff(z(x, y), y, y)/(x^2*y + y^2) + diff(z(x, y), x, y)"
      ]
     },
     "metadata": {},
     "output_type": "display_data"
    },
    {
     "data": {
      "text/html": [
       "<html><script type=\"math/tex; mode=display\">\\newcommand{\\Bold}[1]{\\mathbf{#1}}\\frac{{\\left(4 \\, x y^{3} - x^{3} + 2 \\, {\\left(4 \\, x^{3} - 1\\right)} y^{2} + {\\left(4 \\, x^{5} + 2 \\, x^{2} - x\\right)} y\\right)} \\frac{\\partial}{\\partial y}z\\left(x, y\\right)}{2 \\, {\\left(4 \\, x^{2} y^{3} - x^{3} y + 2 \\, y^{4} + {\\left(2 \\, x^{4} - x\\right)} y^{2}\\right)}} + \\frac{\\partial^{2}}{\\partial x\\partial y}z\\left(x, y\\right)</script></html>"
      ],
      "text/latex": [
       "\\begin{math}\n",
       "\\newcommand{\\Bold}[1]{\\mathbf{#1}}\\frac{{\\left(4 \\, x y^{3} - x^{3} + 2 \\, {\\left(4 \\, x^{3} - 1\\right)} y^{2} + {\\left(4 \\, x^{5} + 2 \\, x^{2} - x\\right)} y\\right)} \\frac{\\partial}{\\partial y}z\\left(x, y\\right)}{2 \\, {\\left(4 \\, x^{2} y^{3} - x^{3} y + 2 \\, y^{4} + {\\left(2 \\, x^{4} - x\\right)} y^{2}\\right)}} + \\frac{\\partial^{2}}{\\partial x\\partial y}z\\left(x, y\\right)\n",
       "\\end{math}"
      ],
      "text/plain": [
       "1/2*(4*x*y^3 - x^3 + 2*(4*x^3 - 1)*y^2 + (4*x^5 + 2*x^2 - x)*y)*diff(z(x, y), y)/(4*x^2*y^3 - x^3*y + 2*y^4 + (2*x^4 - x)*y^2) + diff(z(x, y), x, y)"
      ]
     },
     "metadata": {},
     "output_type": "display_data"
    },
    {
     "data": {
      "text/html": [
       "<html><script type=\"math/tex; mode=display\">\\newcommand{\\Bold}[1]{\\mathbf{#1}}-\\frac{{\\left(x^{2} - y\\right)} \\frac{\\partial}{\\partial y}z\\left(x, y\\right)}{4 \\, {\\left(x^{5} + 2 \\, x^{3} y + x y^{2}\\right)}} + \\frac{{\\left(x - y\\right)} \\frac{\\partial}{\\partial x}w\\left(x, y\\right)}{2 \\, x y} + \\frac{\\frac{\\partial^{2}}{\\partial x\\partial y}z\\left(x, y\\right)}{4 \\, {\\left(x^{2} + y\\right)}} + \\frac{\\partial^{2}}{(\\partial x)^{2}}z\\left(x, y\\right)</script></html>"
      ],
      "text/latex": [
       "\\begin{math}\n",
       "\\newcommand{\\Bold}[1]{\\mathbf{#1}}-\\frac{{\\left(x^{2} - y\\right)} \\frac{\\partial}{\\partial y}z\\left(x, y\\right)}{4 \\, {\\left(x^{5} + 2 \\, x^{3} y + x y^{2}\\right)}} + \\frac{{\\left(x - y\\right)} \\frac{\\partial}{\\partial x}w\\left(x, y\\right)}{2 \\, x y} + \\frac{\\frac{\\partial^{2}}{\\partial x\\partial y}z\\left(x, y\\right)}{4 \\, {\\left(x^{2} + y\\right)}} + \\frac{\\partial^{2}}{(\\partial x)^{2}}z\\left(x, y\\right)\n",
       "\\end{math}"
      ],
      "text/plain": [
       "-1/4*(x^2 - y)*diff(z(x, y), y)/(x^5 + 2*x^3*y + x*y^2) + 1/2*(x - y)*diff(w(x, y), x)/(x*y) + 1/4*diff(z(x, y), x, y)/(x^2 + y) + diff(z(x, y), x, x)"
      ]
     },
     "metadata": {},
     "output_type": "display_data"
    },
    {
     "name": "stdout",
     "output_type": "stream",
     "text": [
      "--------------------------------------- entering reduce\n",
      "no reduction\n",
      "no reduction\n",
      "no reduction\n",
      "--------------------------------------- entering reduce\n",
      "no reduction\n",
      "no reduction\n",
      "--------------------------------------- entering reduce\n",
      "no reduction\n",
      "no reduction\n",
      "no reduction\n",
      "no reduction\n",
      "This is the new System before reorder\n"
     ]
    },
    {
     "data": {
      "text/html": [
       "<html><script type=\"math/tex; mode=display\">\\newcommand{\\Bold}[1]{\\mathbf{#1}}\\frac{x \\frac{\\partial}{\\partial y}z\\left(x, y\\right)}{2 \\, {\\left(x^{2} y + y^{2}\\right)}} - \\frac{w\\left(x, y\\right)}{y} + \\frac{\\partial}{\\partial y}w\\left(x, y\\right)</script></html>"
      ],
      "text/latex": [
       "\\begin{math}\n",
       "\\newcommand{\\Bold}[1]{\\mathbf{#1}}\\frac{x \\frac{\\partial}{\\partial y}z\\left(x, y\\right)}{2 \\, {\\left(x^{2} y + y^{2}\\right)}} - \\frac{w\\left(x, y\\right)}{y} + \\frac{\\partial}{\\partial y}w\\left(x, y\\right)\n",
       "\\end{math}"
      ],
      "text/plain": [
       "1/2*x*diff(z(x, y), y)/(x^2*y + y^2) - w(x, y)/y + diff(w(x, y), y)"
      ]
     },
     "metadata": {},
     "output_type": "display_data"
    },
    {
     "data": {
      "text/html": [
       "<html><script type=\"math/tex; mode=display\">\\newcommand{\\Bold}[1]{\\mathbf{#1}}\\frac{2 \\, y \\frac{\\partial}{\\partial x}z\\left(x, y\\right)}{x} + \\frac{w\\left(x, y\\right)}{x} - \\frac{\\frac{\\partial}{\\partial y}z\\left(x, y\\right)}{2 \\, {\\left(x^{2} + y\\right)}} + \\frac{\\partial^{2}}{\\partial x\\partial y}z\\left(x, y\\right)</script></html>"
      ],
      "text/latex": [
       "\\begin{math}\n",
       "\\newcommand{\\Bold}[1]{\\mathbf{#1}}\\frac{2 \\, y \\frac{\\partial}{\\partial x}z\\left(x, y\\right)}{x} + \\frac{w\\left(x, y\\right)}{x} - \\frac{\\frac{\\partial}{\\partial y}z\\left(x, y\\right)}{2 \\, {\\left(x^{2} + y\\right)}} + \\frac{\\partial^{2}}{\\partial x\\partial y}z\\left(x, y\\right)\n",
       "\\end{math}"
      ],
      "text/plain": [
       "2*y*diff(z(x, y), x)/x + w(x, y)/x - 1/2*diff(z(x, y), y)/(x^2 + y) + diff(z(x, y), x, y)"
      ]
     },
     "metadata": {},
     "output_type": "display_data"
    },
    {
     "data": {
      "text/html": [
       "<html><script type=\"math/tex; mode=display\">\\newcommand{\\Bold}[1]{\\mathbf{#1}}-\\frac{{\\left(x^{2} y^{2} + x^{3} + y^{3} + 2 \\, x y\\right)} \\frac{\\partial}{\\partial y}z\\left(x, y\\right)}{x^{3} y + x y^{2}} + \\frac{2 \\, {\\left(x^{2} y + y^{2}\\right)} w\\left(x, y\\right)}{x^{2}} + \\frac{4 \\, {\\left(x^{2} y^{2} + y^{3}\\right)} \\frac{\\partial}{\\partial x}z\\left(x, y\\right)}{x^{2}} + \\frac{\\partial^{2}}{(\\partial y)^{2}}z\\left(x, y\\right)</script></html>"
      ],
      "text/latex": [
       "\\begin{math}\n",
       "\\newcommand{\\Bold}[1]{\\mathbf{#1}}-\\frac{{\\left(x^{2} y^{2} + x^{3} + y^{3} + 2 \\, x y\\right)} \\frac{\\partial}{\\partial y}z\\left(x, y\\right)}{x^{3} y + x y^{2}} + \\frac{2 \\, {\\left(x^{2} y + y^{2}\\right)} w\\left(x, y\\right)}{x^{2}} + \\frac{4 \\, {\\left(x^{2} y^{2} + y^{3}\\right)} \\frac{\\partial}{\\partial x}z\\left(x, y\\right)}{x^{2}} + \\frac{\\partial^{2}}{(\\partial y)^{2}}z\\left(x, y\\right)\n",
       "\\end{math}"
      ],
      "text/plain": [
       "-(x^2*y^2 + x^3 + y^3 + 2*x*y)*diff(z(x, y), y)/(x^3*y + x*y^2) + 2*(x^2*y + y^2)*w(x, y)/x^2 + 4*(x^2*y^2 + y^3)*diff(z(x, y), x)/x^2 + diff(z(x, y), y, y)"
      ]
     },
     "metadata": {},
     "output_type": "display_data"
    },
    {
     "data": {
      "text/html": [
       "<html><script type=\"math/tex; mode=display\">\\newcommand{\\Bold}[1]{\\mathbf{#1}}\\frac{{\\left(x^{4} - 2 \\, {\\left(2 \\, x^{2} + x\\right)} y^{3} - 2 \\, {\\left(4 \\, x^{4} + x^{3} - x\\right)} y^{2} - 2 \\, {\\left(2 \\, x^{6} + x^{3} - x^{2}\\right)} y\\right)} \\frac{\\partial}{\\partial y}z\\left(x, y\\right)}{4 \\, {\\left(4 \\, x^{2} y^{4} - x^{3} y^{2} + 2 \\, y^{5} + {\\left(2 \\, x^{4} - x\\right)} y^{3}\\right)}} + \\frac{w\\left(x, y\\right)}{2 \\, y} + \\frac{\\partial}{\\partial x}z\\left(x, y\\right)</script></html>"
      ],
      "text/latex": [
       "\\begin{math}\n",
       "\\newcommand{\\Bold}[1]{\\mathbf{#1}}\\frac{{\\left(x^{4} - 2 \\, {\\left(2 \\, x^{2} + x\\right)} y^{3} - 2 \\, {\\left(4 \\, x^{4} + x^{3} - x\\right)} y^{2} - 2 \\, {\\left(2 \\, x^{6} + x^{3} - x^{2}\\right)} y\\right)} \\frac{\\partial}{\\partial y}z\\left(x, y\\right)}{4 \\, {\\left(4 \\, x^{2} y^{4} - x^{3} y^{2} + 2 \\, y^{5} + {\\left(2 \\, x^{4} - x\\right)} y^{3}\\right)}} + \\frac{w\\left(x, y\\right)}{2 \\, y} + \\frac{\\partial}{\\partial x}z\\left(x, y\\right)\n",
       "\\end{math}"
      ],
      "text/plain": [
       "1/4*(x^4 - 2*(2*x^2 + x)*y^3 - 2*(4*x^4 + x^3 - x)*y^2 - 2*(2*x^6 + x^3 - x^2)*y)*diff(z(x, y), y)/(4*x^2*y^4 - x^3*y^2 + 2*y^5 + (2*x^4 - x)*y^3) + 1/2*w(x, y)/y + diff(z(x, y), x)"
      ]
     },
     "metadata": {},
     "output_type": "display_data"
    },
    {
     "data": {
      "text/html": [
       "<html><script type=\"math/tex; mode=display\">\\newcommand{\\Bold}[1]{\\mathbf{#1}}-\\frac{y \\frac{\\partial}{\\partial x}z\\left(x, y\\right)}{2 \\, {\\left(x^{3} + x y\\right)}} - \\frac{{\\left(2 \\, x^{2} - x - 2 \\, y\\right)} \\frac{\\partial}{\\partial y}z\\left(x, y\\right)}{8 \\, {\\left(x^{5} + 2 \\, x^{3} y + x y^{2}\\right)}} - \\frac{w\\left(x, y\\right)}{4 \\, {\\left(x^{3} + x y\\right)}} + \\frac{{\\left(x - y\\right)} \\frac{\\partial}{\\partial x}w\\left(x, y\\right)}{2 \\, x y} + \\frac{\\partial^{2}}{(\\partial x)^{2}}z\\left(x, y\\right)</script></html>"
      ],
      "text/latex": [
       "\\begin{math}\n",
       "\\newcommand{\\Bold}[1]{\\mathbf{#1}}-\\frac{y \\frac{\\partial}{\\partial x}z\\left(x, y\\right)}{2 \\, {\\left(x^{3} + x y\\right)}} - \\frac{{\\left(2 \\, x^{2} - x - 2 \\, y\\right)} \\frac{\\partial}{\\partial y}z\\left(x, y\\right)}{8 \\, {\\left(x^{5} + 2 \\, x^{3} y + x y^{2}\\right)}} - \\frac{w\\left(x, y\\right)}{4 \\, {\\left(x^{3} + x y\\right)}} + \\frac{{\\left(x - y\\right)} \\frac{\\partial}{\\partial x}w\\left(x, y\\right)}{2 \\, x y} + \\frac{\\partial^{2}}{(\\partial x)^{2}}z\\left(x, y\\right)\n",
       "\\end{math}"
      ],
      "text/plain": [
       "-1/2*y*diff(z(x, y), x)/(x^3 + x*y) - 1/8*(2*x^2 - x - 2*y)*diff(z(x, y), y)/(x^5 + 2*x^3*y + x*y^2) - 1/4*w(x, y)/(x^3 + x*y) + 1/2*(x - y)*diff(w(x, y), x)/(x*y) + diff(z(x, y), x, x)"
      ]
     },
     "metadata": {},
     "output_type": "display_data"
    },
    {
     "name": "stdout",
     "output_type": "stream",
     "text": [
      "This is the new System........\n"
     ]
    },
    {
     "data": {
      "text/html": [
       "<html><script type=\"math/tex; mode=display\">\\newcommand{\\Bold}[1]{\\mathbf{#1}}\\frac{{\\left(x^{4} - 2 \\, {\\left(2 \\, x^{2} + x\\right)} y^{3} - 2 \\, {\\left(4 \\, x^{4} + x^{3} - x\\right)} y^{2} - 2 \\, {\\left(2 \\, x^{6} + x^{3} - x^{2}\\right)} y\\right)} \\frac{\\partial}{\\partial y}z\\left(x, y\\right)}{4 \\, {\\left(4 \\, x^{2} y^{4} - x^{3} y^{2} + 2 \\, y^{5} + {\\left(2 \\, x^{4} - x\\right)} y^{3}\\right)}} + \\frac{w\\left(x, y\\right)}{2 \\, y} + \\frac{\\partial}{\\partial x}z\\left(x, y\\right)</script></html>"
      ],
      "text/latex": [
       "\\begin{math}\n",
       "\\newcommand{\\Bold}[1]{\\mathbf{#1}}\\frac{{\\left(x^{4} - 2 \\, {\\left(2 \\, x^{2} + x\\right)} y^{3} - 2 \\, {\\left(4 \\, x^{4} + x^{3} - x\\right)} y^{2} - 2 \\, {\\left(2 \\, x^{6} + x^{3} - x^{2}\\right)} y\\right)} \\frac{\\partial}{\\partial y}z\\left(x, y\\right)}{4 \\, {\\left(4 \\, x^{2} y^{4} - x^{3} y^{2} + 2 \\, y^{5} + {\\left(2 \\, x^{4} - x\\right)} y^{3}\\right)}} + \\frac{w\\left(x, y\\right)}{2 \\, y} + \\frac{\\partial}{\\partial x}z\\left(x, y\\right)\n",
       "\\end{math}"
      ],
      "text/plain": [
       "1/4*(x^4 - 2*(2*x^2 + x)*y^3 - 2*(4*x^4 + x^3 - x)*y^2 - 2*(2*x^6 + x^3 - x^2)*y)*diff(z(x, y), y)/(4*x^2*y^4 - x^3*y^2 + 2*y^5 + (2*x^4 - x)*y^3) + 1/2*w(x, y)/y + diff(z(x, y), x)"
      ]
     },
     "metadata": {},
     "output_type": "display_data"
    },
    {
     "data": {
      "text/html": [
       "<html><script type=\"math/tex; mode=display\">\\newcommand{\\Bold}[1]{\\mathbf{#1}}\\frac{x \\frac{\\partial}{\\partial y}z\\left(x, y\\right)}{2 \\, {\\left(x^{2} y + y^{2}\\right)}} - \\frac{w\\left(x, y\\right)}{y} + \\frac{\\partial}{\\partial y}w\\left(x, y\\right)</script></html>"
      ],
      "text/latex": [
       "\\begin{math}\n",
       "\\newcommand{\\Bold}[1]{\\mathbf{#1}}\\frac{x \\frac{\\partial}{\\partial y}z\\left(x, y\\right)}{2 \\, {\\left(x^{2} y + y^{2}\\right)}} - \\frac{w\\left(x, y\\right)}{y} + \\frac{\\partial}{\\partial y}w\\left(x, y\\right)\n",
       "\\end{math}"
      ],
      "text/plain": [
       "1/2*x*diff(z(x, y), y)/(x^2*y + y^2) - w(x, y)/y + diff(w(x, y), y)"
      ]
     },
     "metadata": {},
     "output_type": "display_data"
    },
    {
     "data": {
      "text/html": [
       "<html><script type=\"math/tex; mode=display\">\\newcommand{\\Bold}[1]{\\mathbf{#1}}-\\frac{{\\left(x^{2} y^{2} + x^{3} + y^{3} + 2 \\, x y\\right)} \\frac{\\partial}{\\partial y}z\\left(x, y\\right)}{x^{3} y + x y^{2}} + \\frac{2 \\, {\\left(x^{2} y + y^{2}\\right)} w\\left(x, y\\right)}{x^{2}} + \\frac{4 \\, {\\left(x^{2} y^{2} + y^{3}\\right)} \\frac{\\partial}{\\partial x}z\\left(x, y\\right)}{x^{2}} + \\frac{\\partial^{2}}{(\\partial y)^{2}}z\\left(x, y\\right)</script></html>"
      ],
      "text/latex": [
       "\\begin{math}\n",
       "\\newcommand{\\Bold}[1]{\\mathbf{#1}}-\\frac{{\\left(x^{2} y^{2} + x^{3} + y^{3} + 2 \\, x y\\right)} \\frac{\\partial}{\\partial y}z\\left(x, y\\right)}{x^{3} y + x y^{2}} + \\frac{2 \\, {\\left(x^{2} y + y^{2}\\right)} w\\left(x, y\\right)}{x^{2}} + \\frac{4 \\, {\\left(x^{2} y^{2} + y^{3}\\right)} \\frac{\\partial}{\\partial x}z\\left(x, y\\right)}{x^{2}} + \\frac{\\partial^{2}}{(\\partial y)^{2}}z\\left(x, y\\right)\n",
       "\\end{math}"
      ],
      "text/plain": [
       "-(x^2*y^2 + x^3 + y^3 + 2*x*y)*diff(z(x, y), y)/(x^3*y + x*y^2) + 2*(x^2*y + y^2)*w(x, y)/x^2 + 4*(x^2*y^2 + y^3)*diff(z(x, y), x)/x^2 + diff(z(x, y), y, y)"
      ]
     },
     "metadata": {},
     "output_type": "display_data"
    },
    {
     "data": {
      "text/html": [
       "<html><script type=\"math/tex; mode=display\">\\newcommand{\\Bold}[1]{\\mathbf{#1}}\\frac{2 \\, y \\frac{\\partial}{\\partial x}z\\left(x, y\\right)}{x} + \\frac{w\\left(x, y\\right)}{x} - \\frac{\\frac{\\partial}{\\partial y}z\\left(x, y\\right)}{2 \\, {\\left(x^{2} + y\\right)}} + \\frac{\\partial^{2}}{\\partial x\\partial y}z\\left(x, y\\right)</script></html>"
      ],
      "text/latex": [
       "\\begin{math}\n",
       "\\newcommand{\\Bold}[1]{\\mathbf{#1}}\\frac{2 \\, y \\frac{\\partial}{\\partial x}z\\left(x, y\\right)}{x} + \\frac{w\\left(x, y\\right)}{x} - \\frac{\\frac{\\partial}{\\partial y}z\\left(x, y\\right)}{2 \\, {\\left(x^{2} + y\\right)}} + \\frac{\\partial^{2}}{\\partial x\\partial y}z\\left(x, y\\right)\n",
       "\\end{math}"
      ],
      "text/plain": [
       "2*y*diff(z(x, y), x)/x + w(x, y)/x - 1/2*diff(z(x, y), y)/(x^2 + y) + diff(z(x, y), x, y)"
      ]
     },
     "metadata": {},
     "output_type": "display_data"
    },
    {
     "data": {
      "text/html": [
       "<html><script type=\"math/tex; mode=display\">\\newcommand{\\Bold}[1]{\\mathbf{#1}}-\\frac{y \\frac{\\partial}{\\partial x}z\\left(x, y\\right)}{2 \\, {\\left(x^{3} + x y\\right)}} - \\frac{{\\left(2 \\, x^{2} - x - 2 \\, y\\right)} \\frac{\\partial}{\\partial y}z\\left(x, y\\right)}{8 \\, {\\left(x^{5} + 2 \\, x^{3} y + x y^{2}\\right)}} - \\frac{w\\left(x, y\\right)}{4 \\, {\\left(x^{3} + x y\\right)}} + \\frac{{\\left(x - y\\right)} \\frac{\\partial}{\\partial x}w\\left(x, y\\right)}{2 \\, x y} + \\frac{\\partial^{2}}{(\\partial x)^{2}}z\\left(x, y\\right)</script></html>"
      ],
      "text/latex": [
       "\\begin{math}\n",
       "\\newcommand{\\Bold}[1]{\\mathbf{#1}}-\\frac{y \\frac{\\partial}{\\partial x}z\\left(x, y\\right)}{2 \\, {\\left(x^{3} + x y\\right)}} - \\frac{{\\left(2 \\, x^{2} - x - 2 \\, y\\right)} \\frac{\\partial}{\\partial y}z\\left(x, y\\right)}{8 \\, {\\left(x^{5} + 2 \\, x^{3} y + x y^{2}\\right)}} - \\frac{w\\left(x, y\\right)}{4 \\, {\\left(x^{3} + x y\\right)}} + \\frac{{\\left(x - y\\right)} \\frac{\\partial}{\\partial x}w\\left(x, y\\right)}{2 \\, x y} + \\frac{\\partial^{2}}{(\\partial x)^{2}}z\\left(x, y\\right)\n",
       "\\end{math}"
      ],
      "text/plain": [
       "-1/2*y*diff(z(x, y), x)/(x^3 + x*y) - 1/8*(2*x^2 - x - 2*y)*diff(z(x, y), y)/(x^5 + 2*x^3*y + x*y^2) - 1/4*w(x, y)/(x^3 + x*y) + 1/2*(x - y)*diff(w(x, y), x)/(x*y) + diff(z(x, y), x, x)"
      ]
     },
     "metadata": {},
     "output_type": "display_data"
    },
    {
     "name": "stdout",
     "output_type": "stream",
     "text": [
      "--------------------------------------- entering reduce\n",
      "no reduction\n",
      "--------------------------------------- entering reduce\n",
      "no reduction\n"
     ]
    },
    {
     "name": "stderr",
     "output_type": "stream",
     "text": [
      "Exception ignored in: <function InterfaceElement.__del__ at 0x7f2a0f083430>\n",
      "Traceback (most recent call last):\n",
      "  File \"/home/tapir/anaconda3/envs/sage/lib/python3.9/site-packages/sage/interfaces/interface.py\", line 990, in __del__\n",
      "    P.clear(self._name)\n",
      "  File \"/home/tapir/anaconda3/envs/sage/lib/python3.9/site-packages/sage/interfaces/maxima_lib.py\", line 537, in clear\n",
      "    self.eval('kill(%s)$'%var)\n",
      "  File \"/home/tapir/anaconda3/envs/sage/lib/python3.9/site-packages/sage/interfaces/maxima_lib.py\", line 460, in _eval_line\n",
      "    maxima_eval(\"#$%s$\" % statement)\n",
      "  File \"sage/libs/ecl.pyx\", line 852, in sage.libs.ecl.EclObject.__call__ (build/cythonized/sage/libs/ecl.c:8598)\n",
      "  File \"sage/libs/ecl.pyx\", line 365, in sage.libs.ecl.ecl_safe_apply (build/cythonized/sage/libs/ecl.c:5896)\n",
      "RuntimeError: ECL says: Console interrupt.\n"
     ]
    }
   ],
   "source": [
    "checkS=JanetBasis([f3._orig,f1._orig,f5._orig, f2._orig,f4._orig], ctx)"
   ]
  },
  {
   "cell_type": "code",
   "execution_count": null,
   "id": "8bb99cf1-3b76-4dfe-892d-efcbf340e8c4",
   "metadata": {},
   "outputs": [],
   "source": [
    "    "
   ]
  },
  {
   "cell_type": "code",
   "execution_count": null,
   "id": "49774ae1-6232-4651-8b30-32771b6ee774",
   "metadata": {},
   "outputs": [],
   "source": []
  },
  {
   "cell_type": "code",
   "execution_count": null,
   "id": "55fc76f2-c7bf-4f69-82a1-c3c8be848bee",
   "metadata": {},
   "outputs": [],
   "source": []
  },
  {
   "cell_type": "code",
   "execution_count": null,
   "id": "35facf97",
   "metadata": {},
   "outputs": [],
   "source": [
    "for i in (f1._orig, f2._orig,f3._orig, f4._orig,f5._orig):\n",
    "    i.show()"
   ]
  },
  {
   "cell_type": "code",
   "execution_count": null,
   "id": "7ea79b2b",
   "metadata": {},
   "outputs": [],
   "source": [
    "for _ in checkS:\n",
    "    _._orig.show()"
   ]
  },
  {
   "cell_type": "code",
   "execution_count": null,
   "id": "e7d61b3e",
   "metadata": {},
   "outputs": [],
   "source": [
    "g1 = Differential_Polynomial (diff(z,y,y) + diff(z,y)/(2*y), ctx)\n",
    "g1._orig"
   ]
  },
  {
   "cell_type": "code",
   "execution_count": null,
   "id": "214d1562",
   "metadata": {},
   "outputs": [],
   "source": [
    "g2 = Differential_Polynomial(diff(w,x,x) + 4*y*y*diff(w,y) - 8*y*y*diff(z, x) - 8*y*w(x,y), ctx)\n",
    "g2._orig"
   ]
  },
  {
   "cell_type": "code",
   "execution_count": null,
   "id": "c15c9206",
   "metadata": {},
   "outputs": [],
   "source": [
    "g3 = Differential_Polynomial(diff(w,x,y) - diff(z,x,x)/2 - diff(w,x)/(2*y) - 6*y**2*diff(z,y), ctx)\n",
    "g3._orig"
   ]
  },
  {
   "cell_type": "code",
   "execution_count": null,
   "id": "e93a20a1",
   "metadata": {},
   "outputs": [],
   "source": [
    "g4 = Differential_Polynomial(diff(w,y,y) - 2*diff(z,x,y)- diff(w,y)/(2*y) + w(x,y)/(2*y**2), ctx)\n",
    "g4._orig"
   ]
  },
  {
   "cell_type": "code",
   "execution_count": null,
   "id": "d169e126",
   "metadata": {},
   "outputs": [],
   "source": [
    "f1._orig"
   ]
  },
  {
   "cell_type": "code",
   "execution_count": null,
   "id": "e257aed5",
   "metadata": {},
   "outputs": [],
   "source": [
    "f4._orig"
   ]
  },
  {
   "cell_type": "code",
   "execution_count": null,
   "id": "af607e49",
   "metadata": {},
   "outputs": [],
   "source": [
    "print(f4.Lder(), f1.Lder())"
   ]
  },
  {
   "cell_type": "code",
   "execution_count": null,
   "id": "1613193f",
   "metadata": {},
   "outputs": [],
   "source": [
    "f4a = reduce(f4, f1, ctx)"
   ]
  },
  {
   "cell_type": "code",
   "execution_count": null,
   "id": "203cd96e",
   "metadata": {},
   "outputs": [],
   "source": [
    "for _ in f4a._p:\n",
    "   print (_)"
   ]
  },
  {
   "cell_type": "code",
   "execution_count": null,
   "id": "2e2fb9ad",
   "metadata": {},
   "outputs": [],
   "source": [
    "f4a._orig"
   ]
  },
  {
   "cell_type": "code",
   "execution_count": null,
   "id": "8ff8d778",
   "metadata": {},
   "outputs": [],
   "source": [
    "wuwu=f4a._p[-1]._coeff.operands()[0]*f4a._p[-1]._coeff.operands()[1].expand().simplify_full()"
   ]
  },
  {
   "cell_type": "code",
   "execution_count": null,
   "id": "cacb969c",
   "metadata": {},
   "outputs": [],
   "source": [
    "f4b = reduce(f4a, f1, ctx)"
   ]
  },
  {
   "cell_type": "code",
   "execution_count": null,
   "id": "e6e09177",
   "metadata": {},
   "outputs": [],
   "source": [
    "f4b._orig"
   ]
  },
  {
   "cell_type": "code",
   "execution_count": null,
   "id": "823eae17",
   "metadata": {},
   "outputs": [],
   "source": [
    "functools.reduce(operator.mul, f4b._p[1]._coeff.operands()).expand().simplify_full()"
   ]
  },
  {
   "cell_type": "code",
   "execution_count": null,
   "id": "bd475a1b",
   "metadata": {},
   "outputs": [],
   "source": [
    "f4c = reduce(f4b, f2, ctx)"
   ]
  },
  {
   "cell_type": "code",
   "execution_count": null,
   "id": "a6c71ab2",
   "metadata": {},
   "outputs": [],
   "source": [
    "f4c._p[2]._coeff.expand().simplify_full()"
   ]
  },
  {
   "cell_type": "code",
   "execution_count": null,
   "id": "3cd9d445",
   "metadata": {},
   "outputs": [],
   "source": [
    "f4d = reduce (f4c, f1, ctx)"
   ]
  },
  {
   "cell_type": "code",
   "execution_count": null,
   "id": "6aea99e4",
   "metadata": {},
   "outputs": [],
   "source": [
    "f4d._p[1]._coeff.expand().simplify_full()"
   ]
  },
  {
   "cell_type": "code",
   "execution_count": null,
   "id": "0161386d",
   "metadata": {},
   "outputs": [],
   "source": [
    "f4d._p[0]._d"
   ]
  },
  {
   "cell_type": "code",
   "execution_count": null,
   "id": "c1f10f2f",
   "metadata": {},
   "outputs": [],
   "source": [
    "wuwu.collect(y)\n",
    "# correct according Example 2.35"
   ]
  },
  {
   "cell_type": "code",
   "execution_count": null,
   "id": "6910f718",
   "metadata": {},
   "outputs": [],
   "source": [
    "wuwu=f4a._p[-2]._coeff"
   ]
  },
  {
   "cell_type": "code",
   "execution_count": null,
   "id": "54550153",
   "metadata": {},
   "outputs": [],
   "source": [
    "wuwu"
   ]
  },
  {
   "cell_type": "code",
   "execution_count": null,
   "id": "62115d81",
   "metadata": {},
   "outputs": [],
   "source": [
    "wuwu=f4a._p[-2]._coeff.operands()"
   ]
  },
  {
   "cell_type": "code",
   "execution_count": null,
   "id": "50a9bc0f",
   "metadata": {},
   "outputs": [],
   "source": [
    "wuwu"
   ]
  },
  {
   "cell_type": "code",
   "execution_count": null,
   "id": "00af9607",
   "metadata": {},
   "outputs": [],
   "source": [
    "wawa=wuwu[0]*wuwu[1]"
   ]
  },
  {
   "cell_type": "code",
   "execution_count": null,
   "id": "9a6af8b9",
   "metadata": {},
   "outputs": [],
   "source": [
    "wawa.expand().simplify_full()"
   ]
  },
  {
   "cell_type": "code",
   "execution_count": null,
   "id": "51b9211f",
   "metadata": {},
   "outputs": [],
   "source": [
    "# wawa is a"
   ]
  },
  {
   "cell_type": "code",
   "execution_count": null,
   "id": "b66b4817",
   "metadata": {},
   "outputs": [],
   "source": [
    "f1._orig.show()"
   ]
  },
  {
   "cell_type": "code",
   "execution_count": null,
   "id": "faabc252-b500-495c-9f78-70ce1341af04",
   "metadata": {},
   "outputs": [],
   "source": [
    "f2._orig.show()"
   ]
  },
  {
   "cell_type": "code",
   "execution_count": null,
   "id": "d5c88bfe-7386-4cca-b0b7-fb54d88ec78c",
   "metadata": {},
   "outputs": [],
   "source": [
    "f3._orig.show()"
   ]
  },
  {
   "cell_type": "code",
   "execution_count": null,
   "id": "4839e09d-4f1d-492f-a4ad-f7574a13ac49",
   "metadata": {},
   "outputs": [],
   "source": [
    "f4._orig.show()"
   ]
  },
  {
   "cell_type": "code",
   "execution_count": null,
   "id": "97e87e10-c2ea-4459-ac46-d9c97182afe1",
   "metadata": {},
   "outputs": [],
   "source": [
    " f5._orig.show()"
   ]
  },
  {
   "cell_type": "code",
   "execution_count": null,
   "id": "d90b267a-d306-47b1-a7ef-08ef38b5f9a6",
   "metadata": {},
   "outputs": [],
   "source": [
    "f5a=(f5._orig - (-1/y)*f1._orig).expand().simplify(); f5a.show()"
   ]
  },
  {
   "cell_type": "code",
   "execution_count": null,
   "id": "e6677f99-b02e-4a54-9b90-2a613957e057",
   "metadata": {},
   "outputs": [],
   "source": [
    "f2a=(f2._orig - (y/x)* f1._orig).expand().collect(diff(z,y)); f2a.show()"
   ]
  },
  {
   "cell_type": "code",
   "execution_count": null,
   "id": "747bed3f-3da1-49ac-b4cc-5dfd5292ddc0",
   "metadata": {},
   "outputs": [],
   "source": [
    "(f4._orig - diff(f1._orig, x)).expand().collect(diff(z, y)).show()"
   ]
  },
  {
   "cell_type": "code",
   "execution_count": null,
   "id": "893c343a-b149-43cb-9664-7f3658395a66",
   "metadata": {},
   "outputs": [],
   "source": []
  }
 ],
 "metadata": {
  "kernelspec": {
   "display_name": "SageMath 9.2",
   "language": "sage",
   "name": "sagemath"
  },
  "language_info": {
   "codemirror_mode": {
    "name": "ipython",
    "version": 3
   },
   "file_extension": ".py",
   "mimetype": "text/x-python",
   "name": "python",
   "nbconvert_exporter": "python",
   "pygments_lexer": "ipython3",
   "version": "3.9.4"
  }
 },
 "nbformat": 4,
 "nbformat_minor": 5
}
