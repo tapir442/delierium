{
 "cells": [
  {
   "cell_type": "code",
   "execution_count": 1,
   "id": "6003cd40",
   "metadata": {},
   "outputs": [],
   "source": [
    "%display latex\n",
    "from pylie import *\n",
    "from collections.abc import Iterable\n",
    "import functools\n",
    "from operator import mul, sub\n",
    "from pprint import pprint"
   ]
  },
  {
   "cell_type": "code",
   "execution_count": 2,
   "id": "02404888",
   "metadata": {},
   "outputs": [],
   "source": [
    "def reduce(e1: Differential_Polynomial,e2: Differential_Polynomial, context:Context)->Differential_Polynomial:\n",
    "    # XXX except only function names in context list\n",
    "    assert e2.is_monic()\n",
    "    def _order (der):\n",
    "        if der != 1:\n",
    "            return pylie.order_of_derivative(der)\n",
    "        else :\n",
    "            return [0]*len(context._independent)\n",
    "    print (\"--------------------------------------- entering reduce\")\n",
    "    e1._orig.show()\n",
    "    e2._orig.show()\n",
    "    ld = e2.Lder()\n",
    "    e2_order = _order (ld)    \n",
    "    for t, d, c, in zip (e1.terms(), e1.derivatives(), e1.coefficients()):\n",
    "        e1_order = _order (d)\n",
    "        dif = []\n",
    "        for a, b in zip (e1_order, e2_order):\n",
    "            dif += [a - b]\n",
    "        try:\n",
    "            if ld.operator().function() != d.operator().function():\n",
    "                continue\n",
    "        except AttributeError:\n",
    "            continue            \n",
    "        if all (map (lambda h: h == 0, dif)) :\n",
    "            # XXX: do we need that in homogenous environmeent?\n",
    "            e3 = sum(_ for _ in e1.terms()) - c * sum (_ for _ in e2.terms())\n",
    "            dp = Differential_Polynomial(e3, context)\n",
    "            assert dp.is_monic()\n",
    "            return dp\n",
    "        elif  all (map (lambda h: h >= 0, dif)):\n",
    "            print (\"PPPPPPPPPPPPPPPPPPPPPPPPPPPPPPPPPPPPPPPPPPP\")\n",
    "            print (\"PPPPPPPPPPPPPPPPPPPPPPPPPPPPPPPPPPPPPPPPPPP\")\n",
    "            print (\"PPPPPPPPPPPPPPPPPPPPPPPPPPPPPPPPPPPPPPPPPPP\")\n",
    "            # get variables which shuld be differentiate\n",
    "            variables_to_diff = []\n",
    "            for i in range (len(context._independent)):\n",
    "                if dif [i] != 0:\n",
    "                    variables_to_diff.extend ([context._independent[i]]*abs(dif[i]))\n",
    "            print (\"Vorher\", variables_to_diff)\n",
    "            print (\"reduce {} with {}\".format(e1.Lder(), e2.Lder()))\n",
    "            print (\"e1:\", e1.Lterm())\n",
    "            print (\"e2:\", e2.Lterm())\n",
    "            e1._orig.show()\n",
    "            e2._orig.show()\n",
    "            print (\"after derivation................\")\n",
    "            diff(e2._orig, *variables_to_diff).show()\n",
    "            e3 = e1._orig - c * diff(e2._orig, *variables_to_diff)\n",
    "            print (\"computation done 1\")\n",
    "            e3.show()\n",
    "            dp =  Differential_Polynomial (e3, context)\n",
    "            #print (\"e3:\", dp.Lterm())            \n",
    "            #dp._orig.show()\n",
    "            #    print (\":3\", _._d, _._coeff)            \n",
    "            return dp\n",
    "        else:\n",
    "            print (\"no reduction?\")\n",
    "            pass\n",
    "    return e1"
   ]
  },
  {
   "cell_type": "code",
   "execution_count": 3,
   "id": "cb402ac0",
   "metadata": {},
   "outputs": [
    {
     "name": "stdout",
     "output_type": "stream",
     "text": [
      "**********************************************************************\n"
     ]
    }
   ],
   "source": [
    "#indeterminates = (x, y) = var(\"x y\")\n",
    "#R=PolynomialRing(QQ, indeterminates)\n",
    "#z  = function (\"z\")(*indeterminates)\n",
    "#ctx = Context((z,), indeterminates)\n",
    "#print(\"*\"*70)\n",
    "#e1 = diff(z,y)-x**2/y**2*diff(z,x)-(x-y)*z(x,y)/y**2\n",
    "#e1_dp = Differential_Polynomial (e1, ctx)\n",
    "#print (e1_dp)\n",
    "#print(\"*\"*70)\n",
    "#f1 = diff(z, x) + z(x,y)/x\n",
    "#f1_dp = Differential_Polynomial (f1, ctx)\n",
    "#f1_dp.is_monic()\n",
    "#print (f1_dp)\n",
    "print(\"*\"*70)\n",
    "#f2 = diff(z, y) + z(x,y)/y\n",
    "#f2_dp = Differential_Polynomial (f2, ctx)\n",
    "#print (f2_dp)\n",
    "#r1 = reduce (e1_dp, f1_dp, ctx)\n",
    "#r1\n",
    "#r1._orig\n",
    "#r2 = reduce (r1, f2_dp, ctx)"
   ]
  },
  {
   "cell_type": "code",
   "execution_count": 4,
   "id": "e729f320",
   "metadata": {},
   "outputs": [],
   "source": [
    "def Lfunc(e):\n",
    "    return e"
   ]
  },
  {
   "cell_type": "code",
   "execution_count": 5,
   "id": "ae120d04",
   "metadata": {},
   "outputs": [],
   "source": [
    "def Lcml(e):\n",
    "    '''Least common left multiply, p.23'''\n",
    "    return 0"
   ]
  },
  {
   "cell_type": "code",
   "execution_count": 6,
   "id": "1f8b7383",
   "metadata": {},
   "outputs": [],
   "source": [
    "def Lcm(e):\n",
    "    return 0"
   ]
  },
  {
   "cell_type": "code",
   "execution_count": 7,
   "id": "886507c5",
   "metadata": {},
   "outputs": [],
   "source": [
    "def CompleteSystem(S, context):\n",
    "    return S"
   ]
  },
  {
   "cell_type": "code",
   "execution_count": 8,
   "id": "5dd38fc1",
   "metadata": {},
   "outputs": [],
   "source": [
    "def FindIntegrableConditions(S, context):\n",
    "    return S"
   ]
  },
  {
   "cell_type": "code",
   "execution_count": 9,
   "id": "fde23cae",
   "metadata": {},
   "outputs": [],
   "source": [
    "def ReduceIntegrabilityConditions(S, context):\n",
    "    return S"
   ]
  },
  {
   "cell_type": "code",
   "execution_count": 10,
   "id": "c88931cd",
   "metadata": {},
   "outputs": [],
   "source": [
    "def Reorder (S, context, ascending = False):\n",
    "    res=sorted(S)\n",
    "    if ascending :\n",
    "        res.reverse()\n",
    "    return res"
   ]
  },
  {
   "cell_type": "code",
   "execution_count": 11,
   "id": "89c9eb92",
   "metadata": {},
   "outputs": [
    {
     "data": {
      "text/html": [
       "<html><script type=\"math/tex; mode=display\">\\newcommand{\\Bold}[1]{\\mathbf{#1}}-\\frac{w\\left(x, y\\right)}{y} + \\frac{x \\frac{\\partial}{\\partial y}z\\left(x, y\\right)}{2 \\, {\\left(x^{2} + y\\right)} y} + \\frac{\\partial}{\\partial y}w\\left(x, y\\right)</script></html>"
      ],
      "text/latex": [
       "\\begin{math}\n",
       "\\newcommand{\\Bold}[1]{\\mathbf{#1}}-\\frac{w\\left(x, y\\right)}{y} + \\frac{x \\frac{\\partial}{\\partial y}z\\left(x, y\\right)}{2 \\, {\\left(x^{2} + y\\right)} y} + \\frac{\\partial}{\\partial y}w\\left(x, y\\right)\n",
       "\\end{math}"
      ],
      "text/plain": [
       "-w(x, y)/y + 1/2*x*diff(z(x, y), y)/((x^2 + y)*y) + diff(w(x, y), y)"
      ]
     },
     "execution_count": 11,
     "metadata": {},
     "output_type": "execute_result"
    }
   ],
   "source": [
    "var (\"x y\")\n",
    "z = function(\"z\")(x,y)\n",
    "w = function(\"w\")(x,y)\n",
    "ctx = Context((w,z), (x,y), MatrixOrder.Mgrlex)\n",
    "f1 = Differential_Polynomial(diff(w, y) + x*diff(z,y)/(2*y*(x**2+y)) - w(x,y)/y, ctx)\n",
    "f1._orig"
   ]
  },
  {
   "cell_type": "code",
   "execution_count": 12,
   "id": "4f8a561c",
   "metadata": {},
   "outputs": [
    {
     "data": {
      "text/html": [
       "<html><script type=\"math/tex; mode=display\">\\newcommand{\\Bold}[1]{\\mathbf{#1}}\\frac{y \\frac{\\partial}{\\partial y}w\\left(x, y\\right)}{x} + \\frac{2 \\, y \\frac{\\partial}{\\partial x}z\\left(x, y\\right)}{x} + \\frac{\\partial^{2}}{\\partial x\\partial y}z\\left(x, y\\right)</script></html>"
      ],
      "text/latex": [
       "\\begin{math}\n",
       "\\newcommand{\\Bold}[1]{\\mathbf{#1}}\\frac{y \\frac{\\partial}{\\partial y}w\\left(x, y\\right)}{x} + \\frac{2 \\, y \\frac{\\partial}{\\partial x}z\\left(x, y\\right)}{x} + \\frac{\\partial^{2}}{\\partial x\\partial y}z\\left(x, y\\right)\n",
       "\\end{math}"
      ],
      "text/plain": [
       "y*diff(w(x, y), y)/x + 2*y*diff(z(x, y), x)/x + diff(z(x, y), x, y)"
      ]
     },
     "execution_count": 12,
     "metadata": {},
     "output_type": "execute_result"
    }
   ],
   "source": [
    "f2=Differential_Polynomial(diff(z,x,y) + y*diff(w,y)/x + 2*y*diff(z, x)/x,ctx)\n",
    "f2._orig"
   ]
  },
  {
   "cell_type": "code",
   "execution_count": 13,
   "id": "2a7ea54f",
   "metadata": {},
   "outputs": [
    {
     "data": {
      "text/html": [
       "<html><script type=\"math/tex; mode=display\">\\newcommand{\\Bold}[1]{\\mathbf{#1}}-\\frac{2 \\, x \\frac{\\partial^{2}}{(\\partial x)^{2}}z\\left(x, y\\right)}{y} - \\frac{x \\frac{\\partial}{\\partial x}w\\left(x, y\\right)}{y^{2}} + \\frac{\\partial^{2}}{\\partial x\\partial y}w\\left(x, y\\right)</script></html>"
      ],
      "text/latex": [
       "\\begin{math}\n",
       "\\newcommand{\\Bold}[1]{\\mathbf{#1}}-\\frac{2 \\, x \\frac{\\partial^{2}}{(\\partial x)^{2}}z\\left(x, y\\right)}{y} - \\frac{x \\frac{\\partial}{\\partial x}w\\left(x, y\\right)}{y^{2}} + \\frac{\\partial^{2}}{\\partial x\\partial y}w\\left(x, y\\right)\n",
       "\\end{math}"
      ],
      "text/plain": [
       "-2*x*diff(z(x, y), x, x)/y - x*diff(w(x, y), x)/y^2 + diff(w(x, y), x, y)"
      ]
     },
     "execution_count": 13,
     "metadata": {},
     "output_type": "execute_result"
    }
   ],
   "source": [
    "f3 = Differential_Polynomial(diff(w, x,y) - 2*x*diff(z, x,2)/y - x*diff(w,x)/y**2 ,ctx)\n",
    "f3._orig"
   ]
  },
  {
   "cell_type": "code",
   "execution_count": 14,
   "id": "e9c03dcc",
   "metadata": {},
   "outputs": [
    {
     "data": {
      "text/html": [
       "<html><script type=\"math/tex; mode=display\">\\newcommand{\\Bold}[1]{\\mathbf{#1}}\\left[\\verb|1|\\phantom{\\verb!x!}\\verb|*|\\phantom{\\verb!x!}\\verb|diff(w(x,|\\phantom{\\verb!x!}\\verb|y),|\\phantom{\\verb!x!}\\verb|x,|\\phantom{\\verb!x!}\\verb|y)|, \\verb|1|\\phantom{\\verb!x!}\\verb|*|\\phantom{\\verb!x!}\\verb|diff(z(x,|\\phantom{\\verb!x!}\\verb|y),|\\phantom{\\verb!x!}\\verb|x,|\\phantom{\\verb!x!}\\verb|y)|, \\verb|-1/y|\\phantom{\\verb!x!}\\verb|*|\\phantom{\\verb!x!}\\verb|diff(w(x,|\\phantom{\\verb!x!}\\verb|y),|\\phantom{\\verb!x!}\\verb|x)|, \\verb|1/2/y|\\phantom{\\verb!x!}\\verb|*|\\phantom{\\verb!x!}\\verb|diff(w(x,|\\phantom{\\verb!x!}\\verb|y),|\\phantom{\\verb!x!}\\verb|y)|, \\verb|x/y|\\phantom{\\verb!x!}\\verb|*|\\phantom{\\verb!x!}\\verb|diff(z(x,|\\phantom{\\verb!x!}\\verb|y),|\\phantom{\\verb!x!}\\verb|y)|, \\verb|-1/2*w(x,|\\phantom{\\verb!x!}\\verb|y)/y^2|\\phantom{\\verb!x!}\\verb|*|\\phantom{\\verb!x!}\\verb|1|\\right]</script></html>"
      ],
      "text/latex": [
       "\\begin{math}\n",
       "\\newcommand{\\Bold}[1]{\\mathbf{#1}}\\left[\\verb|1|\\phantom{\\verb!x!}\\verb|*|\\phantom{\\verb!x!}\\verb|diff(w(x,|\\phantom{\\verb!x!}\\verb|y),|\\phantom{\\verb!x!}\\verb|x,|\\phantom{\\verb!x!}\\verb|y)|, \\verb|1|\\phantom{\\verb!x!}\\verb|*|\\phantom{\\verb!x!}\\verb|diff(z(x,|\\phantom{\\verb!x!}\\verb|y),|\\phantom{\\verb!x!}\\verb|x,|\\phantom{\\verb!x!}\\verb|y)|, \\verb|-1/y|\\phantom{\\verb!x!}\\verb|*|\\phantom{\\verb!x!}\\verb|diff(w(x,|\\phantom{\\verb!x!}\\verb|y),|\\phantom{\\verb!x!}\\verb|x)|, \\verb|1/2/y|\\phantom{\\verb!x!}\\verb|*|\\phantom{\\verb!x!}\\verb|diff(w(x,|\\phantom{\\verb!x!}\\verb|y),|\\phantom{\\verb!x!}\\verb|y)|, \\verb|x/y|\\phantom{\\verb!x!}\\verb|*|\\phantom{\\verb!x!}\\verb|diff(z(x,|\\phantom{\\verb!x!}\\verb|y),|\\phantom{\\verb!x!}\\verb|y)|, \\verb|-1/2*w(x,|\\phantom{\\verb!x!}\\verb|y)/y^2|\\phantom{\\verb!x!}\\verb|*|\\phantom{\\verb!x!}\\verb|1|\\right]\n",
       "\\end{math}"
      ],
      "text/plain": [
       "[<pylie.JanetBasis.DTerm object at 0x7f1a6fcc7220>,\n",
       " <pylie.JanetBasis.DTerm object at 0x7f1a69e211f0>,\n",
       " <pylie.JanetBasis.DTerm object at 0x7f1a6fcc7580>,\n",
       " <pylie.JanetBasis.DTerm object at 0x7f1a6a89d400>,\n",
       " <pylie.JanetBasis.DTerm object at 0x7f1a69cfeac0>,\n",
       " <pylie.JanetBasis.DTerm object at 0x7f1a6a89d250>]"
      ]
     },
     "execution_count": 14,
     "metadata": {},
     "output_type": "execute_result"
    }
   ],
   "source": [
    "f4 = Differential_Polynomial(diff(w, x,y) + diff(z, x,y) + diff(w, y)/(2*y) - diff(w,x)/y + x* diff(z, y)/y - w(x,y)/(2*y**2), ctx)\n",
    "f4._orig\n",
    "f4._p"
   ]
  },
  {
   "cell_type": "code",
   "execution_count": 15,
   "id": "6bee4579",
   "metadata": {},
   "outputs": [
    {
     "data": {
      "text/html": [
       "<html><script type=\"math/tex; mode=display\">\\newcommand{\\Bold}[1]{\\mathbf{#1}}-\\frac{\\frac{\\partial}{\\partial y}w\\left(x, y\\right)}{y} + \\frac{w\\left(x, y\\right)}{y^{2}} + \\frac{\\partial^{2}}{(\\partial y)^{2}}w\\left(x, y\\right) + \\frac{\\partial^{2}}{\\partial x\\partial y}z\\left(x, y\\right)</script></html>"
      ],
      "text/latex": [
       "\\begin{math}\n",
       "\\newcommand{\\Bold}[1]{\\mathbf{#1}}-\\frac{\\frac{\\partial}{\\partial y}w\\left(x, y\\right)}{y} + \\frac{w\\left(x, y\\right)}{y^{2}} + \\frac{\\partial^{2}}{(\\partial y)^{2}}w\\left(x, y\\right) + \\frac{\\partial^{2}}{\\partial x\\partial y}z\\left(x, y\\right)\n",
       "\\end{math}"
      ],
      "text/plain": [
       "-diff(w(x, y), y)/y + w(x, y)/y^2 + diff(w(x, y), y, y) + diff(z(x, y), x, y)"
      ]
     },
     "execution_count": 15,
     "metadata": {},
     "output_type": "execute_result"
    }
   ],
   "source": [
    "f5 = Differential_Polynomial(diff(w,y,y) + diff(z,x,y) - diff(w, y)/y + w(x,y)/y**2, ctx)\n",
    "f5._orig"
   ]
  },
  {
   "cell_type": "code",
   "execution_count": 16,
   "id": "1806564c",
   "metadata": {},
   "outputs": [],
   "source": [
    "def Autoreduce(S, context):  \n",
    "    i = 0\n",
    "    while True:\n",
    "        p = S[i]\n",
    "        print (\"While\")\n",
    "        p._orig.show()  \n",
    "        r = S[i+1:]\n",
    "        if not r:\n",
    "            S = Reorder(S, context,True)\n",
    "            return S[:]    \n",
    "        r[0]._orig.show()\n",
    "        have_reduced = False\n",
    "        checkidx = i+1\n",
    "        for _r in r:\n",
    "            print (\"Try to reduce r{} with r{}\".format(checkidx, i))\n",
    "            res = reduce (_r, p, context)\n",
    "            if res._orig != _r._orig:\n",
    "                print (\"have reduced!\")\n",
    "                res._orig.show()\n",
    "                for gurki in res._p:\n",
    "                    print (gurki)\n",
    "                have_reduced = True                \n",
    "            S[checkidx] = res\n",
    "            checkidx += 1\n",
    "        S = Reorder(S, context, ascending = True)\n",
    "        print(\"This is the new System........\")\n",
    "        for _ in S:\n",
    "            _._orig.show()\n",
    "        if not have_reduced:\n",
    "            # no reduction done\n",
    "            i += 1        \n",
    "        else:\n",
    "            i = 0\n",
    "            "
   ]
  },
  {
   "cell_type": "code",
   "execution_count": 17,
   "id": "ffdb3bf3",
   "metadata": {},
   "outputs": [],
   "source": [
    "def JanetBasis(S, context):\n",
    "    \"\"\"List of homogenous PDE's + order context\"\"\"\n",
    "    if not isinstance(S, Iterable):\n",
    "        # bad criterion\n",
    "        S = [S]\n",
    "    S = [Differential_Polynomial(s, context) for s in S]\n",
    "    S = Reorder(S, context, ascending = True)\n",
    "    for _ in S:\n",
    "        _._orig.show()\n",
    "    while 1:\n",
    "        S = Autoreduce (S, context)\n",
    "        #S = CompleteSystem (S, context)\n",
    "        #f = FindIntegrableConditions(S, context)\n",
    "        #c = ReduceIntegrabilityConditions(S, context)\n",
    "        #if all ([_ == 0 for _ in c]) or not c:\n",
    "        #    return S\n",
    "        #S += c\n",
    "        #S = Reorder (S, context)\n",
    "        return S[:]"
   ]
  },
  {
   "cell_type": "code",
   "execution_count": null,
   "id": "7510ca71",
   "metadata": {},
   "outputs": [
    {
     "data": {
      "text/html": [
       "<html><script type=\"math/tex; mode=display\">\\newcommand{\\Bold}[1]{\\mathbf{#1}}-\\frac{w\\left(x, y\\right)}{y} + \\frac{x \\frac{\\partial}{\\partial y}z\\left(x, y\\right)}{2 \\, {\\left(x^{2} + y\\right)} y} + \\frac{\\partial}{\\partial y}w\\left(x, y\\right)</script></html>"
      ],
      "text/latex": [
       "\\begin{math}\n",
       "\\newcommand{\\Bold}[1]{\\mathbf{#1}}-\\frac{w\\left(x, y\\right)}{y} + \\frac{x \\frac{\\partial}{\\partial y}z\\left(x, y\\right)}{2 \\, {\\left(x^{2} + y\\right)} y} + \\frac{\\partial}{\\partial y}w\\left(x, y\\right)\n",
       "\\end{math}"
      ],
      "text/plain": [
       "-w(x, y)/y + 1/2*x*diff(z(x, y), y)/((x^2 + y)*y) + diff(w(x, y), y)"
      ]
     },
     "metadata": {},
     "output_type": "display_data"
    },
    {
     "data": {
      "text/html": [
       "<html><script type=\"math/tex; mode=display\">\\newcommand{\\Bold}[1]{\\mathbf{#1}}\\frac{y \\frac{\\partial}{\\partial y}w\\left(x, y\\right)}{x} + \\frac{2 \\, y \\frac{\\partial}{\\partial x}z\\left(x, y\\right)}{x} + \\frac{\\partial^{2}}{\\partial x\\partial y}z\\left(x, y\\right)</script></html>"
      ],
      "text/latex": [
       "\\begin{math}\n",
       "\\newcommand{\\Bold}[1]{\\mathbf{#1}}\\frac{y \\frac{\\partial}{\\partial y}w\\left(x, y\\right)}{x} + \\frac{2 \\, y \\frac{\\partial}{\\partial x}z\\left(x, y\\right)}{x} + \\frac{\\partial^{2}}{\\partial x\\partial y}z\\left(x, y\\right)\n",
       "\\end{math}"
      ],
      "text/plain": [
       "y*diff(w(x, y), y)/x + 2*y*diff(z(x, y), x)/x + diff(z(x, y), x, y)"
      ]
     },
     "metadata": {},
     "output_type": "display_data"
    },
    {
     "data": {
      "text/html": [
       "<html><script type=\"math/tex; mode=display\">\\newcommand{\\Bold}[1]{\\mathbf{#1}}-\\frac{\\frac{\\partial}{\\partial y}w\\left(x, y\\right)}{y} + \\frac{w\\left(x, y\\right)}{y^{2}} + \\frac{\\partial^{2}}{(\\partial y)^{2}}w\\left(x, y\\right) + \\frac{\\partial^{2}}{\\partial x\\partial y}z\\left(x, y\\right)</script></html>"
      ],
      "text/latex": [
       "\\begin{math}\n",
       "\\newcommand{\\Bold}[1]{\\mathbf{#1}}-\\frac{\\frac{\\partial}{\\partial y}w\\left(x, y\\right)}{y} + \\frac{w\\left(x, y\\right)}{y^{2}} + \\frac{\\partial^{2}}{(\\partial y)^{2}}w\\left(x, y\\right) + \\frac{\\partial^{2}}{\\partial x\\partial y}z\\left(x, y\\right)\n",
       "\\end{math}"
      ],
      "text/plain": [
       "-diff(w(x, y), y)/y + w(x, y)/y^2 + diff(w(x, y), y, y) + diff(z(x, y), x, y)"
      ]
     },
     "metadata": {},
     "output_type": "display_data"
    },
    {
     "data": {
      "text/html": [
       "<html><script type=\"math/tex; mode=display\">\\newcommand{\\Bold}[1]{\\mathbf{#1}}\\frac{x \\frac{\\partial}{\\partial y}z\\left(x, y\\right)}{y} - \\frac{\\frac{\\partial}{\\partial x}w\\left(x, y\\right)}{y} + \\frac{\\frac{\\partial}{\\partial y}w\\left(x, y\\right)}{2 \\, y} - \\frac{w\\left(x, y\\right)}{2 \\, y^{2}} + \\frac{\\partial^{2}}{\\partial x\\partial y}w\\left(x, y\\right) + \\frac{\\partial^{2}}{\\partial x\\partial y}z\\left(x, y\\right)</script></html>"
      ],
      "text/latex": [
       "\\begin{math}\n",
       "\\newcommand{\\Bold}[1]{\\mathbf{#1}}\\frac{x \\frac{\\partial}{\\partial y}z\\left(x, y\\right)}{y} - \\frac{\\frac{\\partial}{\\partial x}w\\left(x, y\\right)}{y} + \\frac{\\frac{\\partial}{\\partial y}w\\left(x, y\\right)}{2 \\, y} - \\frac{w\\left(x, y\\right)}{2 \\, y^{2}} + \\frac{\\partial^{2}}{\\partial x\\partial y}w\\left(x, y\\right) + \\frac{\\partial^{2}}{\\partial x\\partial y}z\\left(x, y\\right)\n",
       "\\end{math}"
      ],
      "text/plain": [
       "x*diff(z(x, y), y)/y - diff(w(x, y), x)/y + 1/2*diff(w(x, y), y)/y - 1/2*w(x, y)/y^2 + diff(w(x, y), x, y) + diff(z(x, y), x, y)"
      ]
     },
     "metadata": {},
     "output_type": "display_data"
    },
    {
     "data": {
      "text/html": [
       "<html><script type=\"math/tex; mode=display\">\\newcommand{\\Bold}[1]{\\mathbf{#1}}-\\frac{2 \\, x \\frac{\\partial^{2}}{(\\partial x)^{2}}z\\left(x, y\\right)}{y} - \\frac{x \\frac{\\partial}{\\partial x}w\\left(x, y\\right)}{y^{2}} + \\frac{\\partial^{2}}{\\partial x\\partial y}w\\left(x, y\\right)</script></html>"
      ],
      "text/latex": [
       "\\begin{math}\n",
       "\\newcommand{\\Bold}[1]{\\mathbf{#1}}-\\frac{2 \\, x \\frac{\\partial^{2}}{(\\partial x)^{2}}z\\left(x, y\\right)}{y} - \\frac{x \\frac{\\partial}{\\partial x}w\\left(x, y\\right)}{y^{2}} + \\frac{\\partial^{2}}{\\partial x\\partial y}w\\left(x, y\\right)\n",
       "\\end{math}"
      ],
      "text/plain": [
       "-2*x*diff(z(x, y), x, x)/y - x*diff(w(x, y), x)/y^2 + diff(w(x, y), x, y)"
      ]
     },
     "metadata": {},
     "output_type": "display_data"
    },
    {
     "name": "stdout",
     "output_type": "stream",
     "text": [
      "While\n"
     ]
    },
    {
     "data": {
      "text/html": [
       "<html><script type=\"math/tex; mode=display\">\\newcommand{\\Bold}[1]{\\mathbf{#1}}-\\frac{w\\left(x, y\\right)}{y} + \\frac{x \\frac{\\partial}{\\partial y}z\\left(x, y\\right)}{2 \\, {\\left(x^{2} + y\\right)} y} + \\frac{\\partial}{\\partial y}w\\left(x, y\\right)</script></html>"
      ],
      "text/latex": [
       "\\begin{math}\n",
       "\\newcommand{\\Bold}[1]{\\mathbf{#1}}-\\frac{w\\left(x, y\\right)}{y} + \\frac{x \\frac{\\partial}{\\partial y}z\\left(x, y\\right)}{2 \\, {\\left(x^{2} + y\\right)} y} + \\frac{\\partial}{\\partial y}w\\left(x, y\\right)\n",
       "\\end{math}"
      ],
      "text/plain": [
       "-w(x, y)/y + 1/2*x*diff(z(x, y), y)/((x^2 + y)*y) + diff(w(x, y), y)"
      ]
     },
     "metadata": {},
     "output_type": "display_data"
    },
    {
     "data": {
      "text/html": [
       "<html><script type=\"math/tex; mode=display\">\\newcommand{\\Bold}[1]{\\mathbf{#1}}\\frac{y \\frac{\\partial}{\\partial y}w\\left(x, y\\right)}{x} + \\frac{2 \\, y \\frac{\\partial}{\\partial x}z\\left(x, y\\right)}{x} + \\frac{\\partial^{2}}{\\partial x\\partial y}z\\left(x, y\\right)</script></html>"
      ],
      "text/latex": [
       "\\begin{math}\n",
       "\\newcommand{\\Bold}[1]{\\mathbf{#1}}\\frac{y \\frac{\\partial}{\\partial y}w\\left(x, y\\right)}{x} + \\frac{2 \\, y \\frac{\\partial}{\\partial x}z\\left(x, y\\right)}{x} + \\frac{\\partial^{2}}{\\partial x\\partial y}z\\left(x, y\\right)\n",
       "\\end{math}"
      ],
      "text/plain": [
       "y*diff(w(x, y), y)/x + 2*y*diff(z(x, y), x)/x + diff(z(x, y), x, y)"
      ]
     },
     "metadata": {},
     "output_type": "display_data"
    },
    {
     "name": "stdout",
     "output_type": "stream",
     "text": [
      "Try to reduce r1 with r0\n",
      "--------------------------------------- entering reduce\n"
     ]
    },
    {
     "data": {
      "text/html": [
       "<html><script type=\"math/tex; mode=display\">\\newcommand{\\Bold}[1]{\\mathbf{#1}}\\frac{y \\frac{\\partial}{\\partial y}w\\left(x, y\\right)}{x} + \\frac{2 \\, y \\frac{\\partial}{\\partial x}z\\left(x, y\\right)}{x} + \\frac{\\partial^{2}}{\\partial x\\partial y}z\\left(x, y\\right)</script></html>"
      ],
      "text/latex": [
       "\\begin{math}\n",
       "\\newcommand{\\Bold}[1]{\\mathbf{#1}}\\frac{y \\frac{\\partial}{\\partial y}w\\left(x, y\\right)}{x} + \\frac{2 \\, y \\frac{\\partial}{\\partial x}z\\left(x, y\\right)}{x} + \\frac{\\partial^{2}}{\\partial x\\partial y}z\\left(x, y\\right)\n",
       "\\end{math}"
      ],
      "text/plain": [
       "y*diff(w(x, y), y)/x + 2*y*diff(z(x, y), x)/x + diff(z(x, y), x, y)"
      ]
     },
     "metadata": {},
     "output_type": "display_data"
    },
    {
     "data": {
      "text/html": [
       "<html><script type=\"math/tex; mode=display\">\\newcommand{\\Bold}[1]{\\mathbf{#1}}-\\frac{w\\left(x, y\\right)}{y} + \\frac{x \\frac{\\partial}{\\partial y}z\\left(x, y\\right)}{2 \\, {\\left(x^{2} + y\\right)} y} + \\frac{\\partial}{\\partial y}w\\left(x, y\\right)</script></html>"
      ],
      "text/latex": [
       "\\begin{math}\n",
       "\\newcommand{\\Bold}[1]{\\mathbf{#1}}-\\frac{w\\left(x, y\\right)}{y} + \\frac{x \\frac{\\partial}{\\partial y}z\\left(x, y\\right)}{2 \\, {\\left(x^{2} + y\\right)} y} + \\frac{\\partial}{\\partial y}w\\left(x, y\\right)\n",
       "\\end{math}"
      ],
      "text/plain": [
       "-w(x, y)/y + 1/2*x*diff(z(x, y), y)/((x^2 + y)*y) + diff(w(x, y), y)"
      ]
     },
     "metadata": {},
     "output_type": "display_data"
    },
    {
     "name": "stdout",
     "output_type": "stream",
     "text": [
      "have reduced!\n"
     ]
    },
    {
     "data": {
      "text/html": [
       "<html><script type=\"math/tex; mode=display\">\\newcommand{\\Bold}[1]{\\mathbf{#1}}-\\frac{y {\\left(\\frac{x \\frac{\\partial}{\\partial y}z\\left(x, y\\right)}{x^{2} y + y^{2}} - \\frac{2 \\, w\\left(x, y\\right)}{y} + 2 \\, \\frac{\\partial}{\\partial y}w\\left(x, y\\right)\\right)}}{2 \\, x} + \\frac{y \\frac{\\partial}{\\partial y}w\\left(x, y\\right)}{x} + \\frac{2 \\, y \\frac{\\partial}{\\partial x}z\\left(x, y\\right)}{x} + \\frac{\\partial^{2}}{\\partial x\\partial y}z\\left(x, y\\right)</script></html>"
      ],
      "text/latex": [
       "\\begin{math}\n",
       "\\newcommand{\\Bold}[1]{\\mathbf{#1}}-\\frac{y {\\left(\\frac{x \\frac{\\partial}{\\partial y}z\\left(x, y\\right)}{x^{2} y + y^{2}} - \\frac{2 \\, w\\left(x, y\\right)}{y} + 2 \\, \\frac{\\partial}{\\partial y}w\\left(x, y\\right)\\right)}}{2 \\, x} + \\frac{y \\frac{\\partial}{\\partial y}w\\left(x, y\\right)}{x} + \\frac{2 \\, y \\frac{\\partial}{\\partial x}z\\left(x, y\\right)}{x} + \\frac{\\partial^{2}}{\\partial x\\partial y}z\\left(x, y\\right)\n",
       "\\end{math}"
      ],
      "text/plain": [
       "-1/2*y*(x*diff(z(x, y), y)/(x^2*y + y^2) - 2*w(x, y)/y + 2*diff(w(x, y), y))/x + y*diff(w(x, y), y)/x + 2*y*diff(z(x, y), x)/x + diff(z(x, y), x, y)"
      ]
     },
     "metadata": {},
     "output_type": "display_data"
    },
    {
     "name": "stdout",
     "output_type": "stream",
     "text": [
      "1 * diff(z(x, y), x, y)\n",
      "y/x * diff(w(x, y), y)\n",
      "2*y/x * diff(z(x, y), x)\n",
      "1/2*(2*x^2*w(x, y) - 2*y^2*diff(w(x, y), y) - 2*(x^2*diff(w(x, y), y) - w(x, y))*y - x*diff(z(x, y), y))/(x^3 + x*y) * 1\n",
      "Try to reduce r2 with r0\n",
      "--------------------------------------- entering reduce\n"
     ]
    },
    {
     "data": {
      "text/html": [
       "<html><script type=\"math/tex; mode=display\">\\newcommand{\\Bold}[1]{\\mathbf{#1}}-\\frac{\\frac{\\partial}{\\partial y}w\\left(x, y\\right)}{y} + \\frac{w\\left(x, y\\right)}{y^{2}} + \\frac{\\partial^{2}}{(\\partial y)^{2}}w\\left(x, y\\right) + \\frac{\\partial^{2}}{\\partial x\\partial y}z\\left(x, y\\right)</script></html>"
      ],
      "text/latex": [
       "\\begin{math}\n",
       "\\newcommand{\\Bold}[1]{\\mathbf{#1}}-\\frac{\\frac{\\partial}{\\partial y}w\\left(x, y\\right)}{y} + \\frac{w\\left(x, y\\right)}{y^{2}} + \\frac{\\partial^{2}}{(\\partial y)^{2}}w\\left(x, y\\right) + \\frac{\\partial^{2}}{\\partial x\\partial y}z\\left(x, y\\right)\n",
       "\\end{math}"
      ],
      "text/plain": [
       "-diff(w(x, y), y)/y + w(x, y)/y^2 + diff(w(x, y), y, y) + diff(z(x, y), x, y)"
      ]
     },
     "metadata": {},
     "output_type": "display_data"
    },
    {
     "data": {
      "text/html": [
       "<html><script type=\"math/tex; mode=display\">\\newcommand{\\Bold}[1]{\\mathbf{#1}}-\\frac{w\\left(x, y\\right)}{y} + \\frac{x \\frac{\\partial}{\\partial y}z\\left(x, y\\right)}{2 \\, {\\left(x^{2} + y\\right)} y} + \\frac{\\partial}{\\partial y}w\\left(x, y\\right)</script></html>"
      ],
      "text/latex": [
       "\\begin{math}\n",
       "\\newcommand{\\Bold}[1]{\\mathbf{#1}}-\\frac{w\\left(x, y\\right)}{y} + \\frac{x \\frac{\\partial}{\\partial y}z\\left(x, y\\right)}{2 \\, {\\left(x^{2} + y\\right)} y} + \\frac{\\partial}{\\partial y}w\\left(x, y\\right)\n",
       "\\end{math}"
      ],
      "text/plain": [
       "-w(x, y)/y + 1/2*x*diff(z(x, y), y)/((x^2 + y)*y) + diff(w(x, y), y)"
      ]
     },
     "metadata": {},
     "output_type": "display_data"
    },
    {
     "name": "stdout",
     "output_type": "stream",
     "text": [
      "PPPPPPPPPPPPPPPPPPPPPPPPPPPPPPPPPPPPPPPPPPP\n",
      "PPPPPPPPPPPPPPPPPPPPPPPPPPPPPPPPPPPPPPPPPPP\n",
      "PPPPPPPPPPPPPPPPPPPPPPPPPPPPPPPPPPPPPPPPPPP\n",
      "Vorher [y]\n",
      "reduce diff(w(x, y), y, y) with diff(w(x, y), y)\n",
      "e1: diff(w(x, y), y, y)\n",
      "e2: diff(w(x, y), y)\n"
     ]
    },
    {
     "data": {
      "text/html": [
       "<html><script type=\"math/tex; mode=display\">\\newcommand{\\Bold}[1]{\\mathbf{#1}}-\\frac{\\frac{\\partial}{\\partial y}w\\left(x, y\\right)}{y} + \\frac{w\\left(x, y\\right)}{y^{2}} + \\frac{\\partial^{2}}{(\\partial y)^{2}}w\\left(x, y\\right) + \\frac{\\partial^{2}}{\\partial x\\partial y}z\\left(x, y\\right)</script></html>"
      ],
      "text/latex": [
       "\\begin{math}\n",
       "\\newcommand{\\Bold}[1]{\\mathbf{#1}}-\\frac{\\frac{\\partial}{\\partial y}w\\left(x, y\\right)}{y} + \\frac{w\\left(x, y\\right)}{y^{2}} + \\frac{\\partial^{2}}{(\\partial y)^{2}}w\\left(x, y\\right) + \\frac{\\partial^{2}}{\\partial x\\partial y}z\\left(x, y\\right)\n",
       "\\end{math}"
      ],
      "text/plain": [
       "-diff(w(x, y), y)/y + w(x, y)/y^2 + diff(w(x, y), y, y) + diff(z(x, y), x, y)"
      ]
     },
     "metadata": {},
     "output_type": "display_data"
    },
    {
     "data": {
      "text/html": [
       "<html><script type=\"math/tex; mode=display\">\\newcommand{\\Bold}[1]{\\mathbf{#1}}-\\frac{w\\left(x, y\\right)}{y} + \\frac{x \\frac{\\partial}{\\partial y}z\\left(x, y\\right)}{2 \\, {\\left(x^{2} + y\\right)} y} + \\frac{\\partial}{\\partial y}w\\left(x, y\\right)</script></html>"
      ],
      "text/latex": [
       "\\begin{math}\n",
       "\\newcommand{\\Bold}[1]{\\mathbf{#1}}-\\frac{w\\left(x, y\\right)}{y} + \\frac{x \\frac{\\partial}{\\partial y}z\\left(x, y\\right)}{2 \\, {\\left(x^{2} + y\\right)} y} + \\frac{\\partial}{\\partial y}w\\left(x, y\\right)\n",
       "\\end{math}"
      ],
      "text/plain": [
       "-w(x, y)/y + 1/2*x*diff(z(x, y), y)/((x^2 + y)*y) + diff(w(x, y), y)"
      ]
     },
     "metadata": {},
     "output_type": "display_data"
    },
    {
     "name": "stdout",
     "output_type": "stream",
     "text": [
      "after derivation................\n"
     ]
    },
    {
     "data": {
      "text/html": [
       "<html><script type=\"math/tex; mode=display\">\\newcommand{\\Bold}[1]{\\mathbf{#1}}-\\frac{\\frac{\\partial}{\\partial y}w\\left(x, y\\right)}{y} + \\frac{x \\frac{\\partial^{2}}{(\\partial y)^{2}}z\\left(x, y\\right)}{2 \\, {\\left(x^{2} + y\\right)} y} + \\frac{w\\left(x, y\\right)}{y^{2}} - \\frac{x \\frac{\\partial}{\\partial y}z\\left(x, y\\right)}{2 \\, {\\left(x^{2} + y\\right)} y^{2}} - \\frac{x \\frac{\\partial}{\\partial y}z\\left(x, y\\right)}{2 \\, {\\left(x^{2} + y\\right)}^{2} y} + \\frac{\\partial^{2}}{(\\partial y)^{2}}w\\left(x, y\\right)</script></html>"
      ],
      "text/latex": [
       "\\begin{math}\n",
       "\\newcommand{\\Bold}[1]{\\mathbf{#1}}-\\frac{\\frac{\\partial}{\\partial y}w\\left(x, y\\right)}{y} + \\frac{x \\frac{\\partial^{2}}{(\\partial y)^{2}}z\\left(x, y\\right)}{2 \\, {\\left(x^{2} + y\\right)} y} + \\frac{w\\left(x, y\\right)}{y^{2}} - \\frac{x \\frac{\\partial}{\\partial y}z\\left(x, y\\right)}{2 \\, {\\left(x^{2} + y\\right)} y^{2}} - \\frac{x \\frac{\\partial}{\\partial y}z\\left(x, y\\right)}{2 \\, {\\left(x^{2} + y\\right)}^{2} y} + \\frac{\\partial^{2}}{(\\partial y)^{2}}w\\left(x, y\\right)\n",
       "\\end{math}"
      ],
      "text/plain": [
       "-diff(w(x, y), y)/y + 1/2*x*diff(z(x, y), y, y)/((x^2 + y)*y) + w(x, y)/y^2 - 1/2*x*diff(z(x, y), y)/((x^2 + y)*y^2) - 1/2*x*diff(z(x, y), y)/((x^2 + y)^2*y) + diff(w(x, y), y, y)"
      ]
     },
     "metadata": {},
     "output_type": "display_data"
    },
    {
     "name": "stdout",
     "output_type": "stream",
     "text": [
      "computation done 1\n"
     ]
    },
    {
     "data": {
      "text/html": [
       "<html><script type=\"math/tex; mode=display\">\\newcommand{\\Bold}[1]{\\mathbf{#1}}-\\frac{x \\frac{\\partial^{2}}{(\\partial y)^{2}}z\\left(x, y\\right)}{2 \\, {\\left(x^{2} + y\\right)} y} + \\frac{x \\frac{\\partial}{\\partial y}z\\left(x, y\\right)}{2 \\, {\\left(x^{2} + y\\right)} y^{2}} + \\frac{x \\frac{\\partial}{\\partial y}z\\left(x, y\\right)}{2 \\, {\\left(x^{2} + y\\right)}^{2} y} + \\frac{\\partial^{2}}{\\partial x\\partial y}z\\left(x, y\\right)</script></html>"
      ],
      "text/latex": [
       "\\begin{math}\n",
       "\\newcommand{\\Bold}[1]{\\mathbf{#1}}-\\frac{x \\frac{\\partial^{2}}{(\\partial y)^{2}}z\\left(x, y\\right)}{2 \\, {\\left(x^{2} + y\\right)} y} + \\frac{x \\frac{\\partial}{\\partial y}z\\left(x, y\\right)}{2 \\, {\\left(x^{2} + y\\right)} y^{2}} + \\frac{x \\frac{\\partial}{\\partial y}z\\left(x, y\\right)}{2 \\, {\\left(x^{2} + y\\right)}^{2} y} + \\frac{\\partial^{2}}{\\partial x\\partial y}z\\left(x, y\\right)\n",
       "\\end{math}"
      ],
      "text/plain": [
       "-1/2*x*diff(z(x, y), y, y)/((x^2 + y)*y) + 1/2*x*diff(z(x, y), y)/((x^2 + y)*y^2) + 1/2*x*diff(z(x, y), y)/((x^2 + y)^2*y) + diff(z(x, y), x, y)"
      ]
     },
     "metadata": {},
     "output_type": "display_data"
    },
    {
     "name": "stdout",
     "output_type": "stream",
     "text": [
      "have reduced!\n"
     ]
    },
    {
     "data": {
      "text/html": [
       "<html><script type=\"math/tex; mode=display\">\\newcommand{\\Bold}[1]{\\mathbf{#1}}-\\frac{x \\frac{\\partial^{2}}{(\\partial y)^{2}}z\\left(x, y\\right)}{2 \\, {\\left(x^{2} + y\\right)} y} + \\frac{x \\frac{\\partial}{\\partial y}z\\left(x, y\\right)}{2 \\, {\\left(x^{2} + y\\right)} y^{2}} + \\frac{x \\frac{\\partial}{\\partial y}z\\left(x, y\\right)}{2 \\, {\\left(x^{2} + y\\right)}^{2} y} + \\frac{\\partial^{2}}{\\partial x\\partial y}z\\left(x, y\\right)</script></html>"
      ],
      "text/latex": [
       "\\begin{math}\n",
       "\\newcommand{\\Bold}[1]{\\mathbf{#1}}-\\frac{x \\frac{\\partial^{2}}{(\\partial y)^{2}}z\\left(x, y\\right)}{2 \\, {\\left(x^{2} + y\\right)} y} + \\frac{x \\frac{\\partial}{\\partial y}z\\left(x, y\\right)}{2 \\, {\\left(x^{2} + y\\right)} y^{2}} + \\frac{x \\frac{\\partial}{\\partial y}z\\left(x, y\\right)}{2 \\, {\\left(x^{2} + y\\right)}^{2} y} + \\frac{\\partial^{2}}{\\partial x\\partial y}z\\left(x, y\\right)\n",
       "\\end{math}"
      ],
      "text/plain": [
       "-1/2*x*diff(z(x, y), y, y)/((x^2 + y)*y) + 1/2*x*diff(z(x, y), y)/((x^2 + y)*y^2) + 1/2*x*diff(z(x, y), y)/((x^2 + y)^2*y) + diff(z(x, y), x, y)"
      ]
     },
     "metadata": {},
     "output_type": "display_data"
    },
    {
     "name": "stdout",
     "output_type": "stream",
     "text": [
      "1 * diff(z(x, y), x, y)\n",
      "-1/2*x/(x^2*y + y^2) * diff(z(x, y), y, y)\n",
      "1/2*(x^3*diff(z(x, y), y) + 2*x*y*diff(z(x, y), y))/(x^4*y^2 + 2*x^2*y^3 + y^4) * 1\n",
      "Try to reduce r3 with r0\n",
      "--------------------------------------- entering reduce\n"
     ]
    },
    {
     "data": {
      "text/html": [
       "<html><script type=\"math/tex; mode=display\">\\newcommand{\\Bold}[1]{\\mathbf{#1}}\\frac{x \\frac{\\partial}{\\partial y}z\\left(x, y\\right)}{y} - \\frac{\\frac{\\partial}{\\partial x}w\\left(x, y\\right)}{y} + \\frac{\\frac{\\partial}{\\partial y}w\\left(x, y\\right)}{2 \\, y} - \\frac{w\\left(x, y\\right)}{2 \\, y^{2}} + \\frac{\\partial^{2}}{\\partial x\\partial y}w\\left(x, y\\right) + \\frac{\\partial^{2}}{\\partial x\\partial y}z\\left(x, y\\right)</script></html>"
      ],
      "text/latex": [
       "\\begin{math}\n",
       "\\newcommand{\\Bold}[1]{\\mathbf{#1}}\\frac{x \\frac{\\partial}{\\partial y}z\\left(x, y\\right)}{y} - \\frac{\\frac{\\partial}{\\partial x}w\\left(x, y\\right)}{y} + \\frac{\\frac{\\partial}{\\partial y}w\\left(x, y\\right)}{2 \\, y} - \\frac{w\\left(x, y\\right)}{2 \\, y^{2}} + \\frac{\\partial^{2}}{\\partial x\\partial y}w\\left(x, y\\right) + \\frac{\\partial^{2}}{\\partial x\\partial y}z\\left(x, y\\right)\n",
       "\\end{math}"
      ],
      "text/plain": [
       "x*diff(z(x, y), y)/y - diff(w(x, y), x)/y + 1/2*diff(w(x, y), y)/y - 1/2*w(x, y)/y^2 + diff(w(x, y), x, y) + diff(z(x, y), x, y)"
      ]
     },
     "metadata": {},
     "output_type": "display_data"
    },
    {
     "data": {
      "text/html": [
       "<html><script type=\"math/tex; mode=display\">\\newcommand{\\Bold}[1]{\\mathbf{#1}}-\\frac{w\\left(x, y\\right)}{y} + \\frac{x \\frac{\\partial}{\\partial y}z\\left(x, y\\right)}{2 \\, {\\left(x^{2} + y\\right)} y} + \\frac{\\partial}{\\partial y}w\\left(x, y\\right)</script></html>"
      ],
      "text/latex": [
       "\\begin{math}\n",
       "\\newcommand{\\Bold}[1]{\\mathbf{#1}}-\\frac{w\\left(x, y\\right)}{y} + \\frac{x \\frac{\\partial}{\\partial y}z\\left(x, y\\right)}{2 \\, {\\left(x^{2} + y\\right)} y} + \\frac{\\partial}{\\partial y}w\\left(x, y\\right)\n",
       "\\end{math}"
      ],
      "text/plain": [
       "-w(x, y)/y + 1/2*x*diff(z(x, y), y)/((x^2 + y)*y) + diff(w(x, y), y)"
      ]
     },
     "metadata": {},
     "output_type": "display_data"
    },
    {
     "name": "stdout",
     "output_type": "stream",
     "text": [
      "PPPPPPPPPPPPPPPPPPPPPPPPPPPPPPPPPPPPPPPPPPP\n",
      "PPPPPPPPPPPPPPPPPPPPPPPPPPPPPPPPPPPPPPPPPPP\n",
      "PPPPPPPPPPPPPPPPPPPPPPPPPPPPPPPPPPPPPPPPPPP\n",
      "Vorher [x]\n",
      "reduce diff(w(x, y), x, y) with diff(w(x, y), y)\n",
      "e1: diff(w(x, y), x, y)\n",
      "e2: diff(w(x, y), y)\n"
     ]
    },
    {
     "data": {
      "text/html": [
       "<html><script type=\"math/tex; mode=display\">\\newcommand{\\Bold}[1]{\\mathbf{#1}}\\frac{x \\frac{\\partial}{\\partial y}z\\left(x, y\\right)}{y} - \\frac{\\frac{\\partial}{\\partial x}w\\left(x, y\\right)}{y} + \\frac{\\frac{\\partial}{\\partial y}w\\left(x, y\\right)}{2 \\, y} - \\frac{w\\left(x, y\\right)}{2 \\, y^{2}} + \\frac{\\partial^{2}}{\\partial x\\partial y}w\\left(x, y\\right) + \\frac{\\partial^{2}}{\\partial x\\partial y}z\\left(x, y\\right)</script></html>"
      ],
      "text/latex": [
       "\\begin{math}\n",
       "\\newcommand{\\Bold}[1]{\\mathbf{#1}}\\frac{x \\frac{\\partial}{\\partial y}z\\left(x, y\\right)}{y} - \\frac{\\frac{\\partial}{\\partial x}w\\left(x, y\\right)}{y} + \\frac{\\frac{\\partial}{\\partial y}w\\left(x, y\\right)}{2 \\, y} - \\frac{w\\left(x, y\\right)}{2 \\, y^{2}} + \\frac{\\partial^{2}}{\\partial x\\partial y}w\\left(x, y\\right) + \\frac{\\partial^{2}}{\\partial x\\partial y}z\\left(x, y\\right)\n",
       "\\end{math}"
      ],
      "text/plain": [
       "x*diff(z(x, y), y)/y - diff(w(x, y), x)/y + 1/2*diff(w(x, y), y)/y - 1/2*w(x, y)/y^2 + diff(w(x, y), x, y) + diff(z(x, y), x, y)"
      ]
     },
     "metadata": {},
     "output_type": "display_data"
    },
    {
     "data": {
      "text/html": [
       "<html><script type=\"math/tex; mode=display\">\\newcommand{\\Bold}[1]{\\mathbf{#1}}-\\frac{w\\left(x, y\\right)}{y} + \\frac{x \\frac{\\partial}{\\partial y}z\\left(x, y\\right)}{2 \\, {\\left(x^{2} + y\\right)} y} + \\frac{\\partial}{\\partial y}w\\left(x, y\\right)</script></html>"
      ],
      "text/latex": [
       "\\begin{math}\n",
       "\\newcommand{\\Bold}[1]{\\mathbf{#1}}-\\frac{w\\left(x, y\\right)}{y} + \\frac{x \\frac{\\partial}{\\partial y}z\\left(x, y\\right)}{2 \\, {\\left(x^{2} + y\\right)} y} + \\frac{\\partial}{\\partial y}w\\left(x, y\\right)\n",
       "\\end{math}"
      ],
      "text/plain": [
       "-w(x, y)/y + 1/2*x*diff(z(x, y), y)/((x^2 + y)*y) + diff(w(x, y), y)"
      ]
     },
     "metadata": {},
     "output_type": "display_data"
    },
    {
     "name": "stdout",
     "output_type": "stream",
     "text": [
      "after derivation................\n"
     ]
    },
    {
     "data": {
      "text/html": [
       "<html><script type=\"math/tex; mode=display\">\\newcommand{\\Bold}[1]{\\mathbf{#1}}-\\frac{\\frac{\\partial}{\\partial x}w\\left(x, y\\right)}{y} + \\frac{x \\frac{\\partial^{2}}{\\partial x\\partial y}z\\left(x, y\\right)}{2 \\, {\\left(x^{2} + y\\right)} y} - \\frac{x^{2} \\frac{\\partial}{\\partial y}z\\left(x, y\\right)}{{\\left(x^{2} + y\\right)}^{2} y} + \\frac{\\frac{\\partial}{\\partial y}z\\left(x, y\\right)}{2 \\, {\\left(x^{2} + y\\right)} y} + \\frac{\\partial^{2}}{\\partial x\\partial y}w\\left(x, y\\right)</script></html>"
      ],
      "text/latex": [
       "\\begin{math}\n",
       "\\newcommand{\\Bold}[1]{\\mathbf{#1}}-\\frac{\\frac{\\partial}{\\partial x}w\\left(x, y\\right)}{y} + \\frac{x \\frac{\\partial^{2}}{\\partial x\\partial y}z\\left(x, y\\right)}{2 \\, {\\left(x^{2} + y\\right)} y} - \\frac{x^{2} \\frac{\\partial}{\\partial y}z\\left(x, y\\right)}{{\\left(x^{2} + y\\right)}^{2} y} + \\frac{\\frac{\\partial}{\\partial y}z\\left(x, y\\right)}{2 \\, {\\left(x^{2} + y\\right)} y} + \\frac{\\partial^{2}}{\\partial x\\partial y}w\\left(x, y\\right)\n",
       "\\end{math}"
      ],
      "text/plain": [
       "-diff(w(x, y), x)/y + 1/2*x*diff(z(x, y), x, y)/((x^2 + y)*y) - x^2*diff(z(x, y), y)/((x^2 + y)^2*y) + 1/2*diff(z(x, y), y)/((x^2 + y)*y) + diff(w(x, y), x, y)"
      ]
     },
     "metadata": {},
     "output_type": "display_data"
    },
    {
     "name": "stdout",
     "output_type": "stream",
     "text": [
      "computation done 1\n"
     ]
    },
    {
     "data": {
      "text/html": [
       "<html><script type=\"math/tex; mode=display\">\\newcommand{\\Bold}[1]{\\mathbf{#1}}\\frac{x \\frac{\\partial}{\\partial y}z\\left(x, y\\right)}{y} + \\frac{\\frac{\\partial}{\\partial y}w\\left(x, y\\right)}{2 \\, y} - \\frac{x \\frac{\\partial^{2}}{\\partial x\\partial y}z\\left(x, y\\right)}{2 \\, {\\left(x^{2} + y\\right)} y} + \\frac{x^{2} \\frac{\\partial}{\\partial y}z\\left(x, y\\right)}{{\\left(x^{2} + y\\right)}^{2} y} - \\frac{w\\left(x, y\\right)}{2 \\, y^{2}} - \\frac{\\frac{\\partial}{\\partial y}z\\left(x, y\\right)}{2 \\, {\\left(x^{2} + y\\right)} y} + \\frac{\\partial^{2}}{\\partial x\\partial y}z\\left(x, y\\right)</script></html>"
      ],
      "text/latex": [
       "\\begin{math}\n",
       "\\newcommand{\\Bold}[1]{\\mathbf{#1}}\\frac{x \\frac{\\partial}{\\partial y}z\\left(x, y\\right)}{y} + \\frac{\\frac{\\partial}{\\partial y}w\\left(x, y\\right)}{2 \\, y} - \\frac{x \\frac{\\partial^{2}}{\\partial x\\partial y}z\\left(x, y\\right)}{2 \\, {\\left(x^{2} + y\\right)} y} + \\frac{x^{2} \\frac{\\partial}{\\partial y}z\\left(x, y\\right)}{{\\left(x^{2} + y\\right)}^{2} y} - \\frac{w\\left(x, y\\right)}{2 \\, y^{2}} - \\frac{\\frac{\\partial}{\\partial y}z\\left(x, y\\right)}{2 \\, {\\left(x^{2} + y\\right)} y} + \\frac{\\partial^{2}}{\\partial x\\partial y}z\\left(x, y\\right)\n",
       "\\end{math}"
      ],
      "text/plain": [
       "x*diff(z(x, y), y)/y + 1/2*diff(w(x, y), y)/y - 1/2*x*diff(z(x, y), x, y)/((x^2 + y)*y) + x^2*diff(z(x, y), y)/((x^2 + y)^2*y) - 1/2*w(x, y)/y^2 - 1/2*diff(z(x, y), y)/((x^2 + y)*y) + diff(z(x, y), x, y)"
      ]
     },
     "metadata": {},
     "output_type": "display_data"
    },
    {
     "name": "stdout",
     "output_type": "stream",
     "text": [
      "have reduced!\n"
     ]
    },
    {
     "data": {
      "text/html": [
       "<html><script type=\"math/tex; mode=display\">\\newcommand{\\Bold}[1]{\\mathbf{#1}}\\frac{x \\frac{\\partial}{\\partial y}z\\left(x, y\\right)}{y} + \\frac{\\frac{\\partial}{\\partial y}w\\left(x, y\\right)}{2 \\, y} - \\frac{x \\frac{\\partial^{2}}{\\partial x\\partial y}z\\left(x, y\\right)}{2 \\, {\\left(x^{2} + y\\right)} y} + \\frac{x^{2} \\frac{\\partial}{\\partial y}z\\left(x, y\\right)}{{\\left(x^{2} + y\\right)}^{2} y} - \\frac{w\\left(x, y\\right)}{2 \\, y^{2}} - \\frac{\\frac{\\partial}{\\partial y}z\\left(x, y\\right)}{2 \\, {\\left(x^{2} + y\\right)} y} + \\frac{\\partial^{2}}{\\partial x\\partial y}z\\left(x, y\\right)</script></html>"
      ],
      "text/latex": [
       "\\begin{math}\n",
       "\\newcommand{\\Bold}[1]{\\mathbf{#1}}\\frac{x \\frac{\\partial}{\\partial y}z\\left(x, y\\right)}{y} + \\frac{\\frac{\\partial}{\\partial y}w\\left(x, y\\right)}{2 \\, y} - \\frac{x \\frac{\\partial^{2}}{\\partial x\\partial y}z\\left(x, y\\right)}{2 \\, {\\left(x^{2} + y\\right)} y} + \\frac{x^{2} \\frac{\\partial}{\\partial y}z\\left(x, y\\right)}{{\\left(x^{2} + y\\right)}^{2} y} - \\frac{w\\left(x, y\\right)}{2 \\, y^{2}} - \\frac{\\frac{\\partial}{\\partial y}z\\left(x, y\\right)}{2 \\, {\\left(x^{2} + y\\right)} y} + \\frac{\\partial^{2}}{\\partial x\\partial y}z\\left(x, y\\right)\n",
       "\\end{math}"
      ],
      "text/plain": [
       "x*diff(z(x, y), y)/y + 1/2*diff(w(x, y), y)/y - 1/2*x*diff(z(x, y), x, y)/((x^2 + y)*y) + x^2*diff(z(x, y), y)/((x^2 + y)^2*y) - 1/2*w(x, y)/y^2 - 1/2*diff(z(x, y), y)/((x^2 + y)*y) + diff(z(x, y), x, y)"
      ]
     },
     "metadata": {},
     "output_type": "display_data"
    },
    {
     "name": "stdout",
     "output_type": "stream",
     "text": [
      "1 * diff(z(x, y), x, y)\n",
      "(x^2*diff(w(x, y), y) + y*diff(w(x, y), y))/(2*x^2*y + 2*y^2 - x) * 1\n",
      "(2*x*y^2*diff(z(x, y), y) + (4*x^3 - 1)*y*diff(z(x, y), y) + (2*x^5 + x^2)*diff(z(x, y), y))/(4*x^2*y^2 - x^3 + 2*y^3 + (2*x^4 - x)*y) * 1\n",
      "-(x^2*w(x, y) + y*w(x, y))/(2*x^2*y^2 + 2*y^3 - x*y) * 1\n",
      "Try to reduce r4 with r0\n",
      "--------------------------------------- entering reduce\n"
     ]
    },
    {
     "data": {
      "text/html": [
       "<html><script type=\"math/tex; mode=display\">\\newcommand{\\Bold}[1]{\\mathbf{#1}}-\\frac{2 \\, x \\frac{\\partial^{2}}{(\\partial x)^{2}}z\\left(x, y\\right)}{y} - \\frac{x \\frac{\\partial}{\\partial x}w\\left(x, y\\right)}{y^{2}} + \\frac{\\partial^{2}}{\\partial x\\partial y}w\\left(x, y\\right)</script></html>"
      ],
      "text/latex": [
       "\\begin{math}\n",
       "\\newcommand{\\Bold}[1]{\\mathbf{#1}}-\\frac{2 \\, x \\frac{\\partial^{2}}{(\\partial x)^{2}}z\\left(x, y\\right)}{y} - \\frac{x \\frac{\\partial}{\\partial x}w\\left(x, y\\right)}{y^{2}} + \\frac{\\partial^{2}}{\\partial x\\partial y}w\\left(x, y\\right)\n",
       "\\end{math}"
      ],
      "text/plain": [
       "-2*x*diff(z(x, y), x, x)/y - x*diff(w(x, y), x)/y^2 + diff(w(x, y), x, y)"
      ]
     },
     "metadata": {},
     "output_type": "display_data"
    },
    {
     "data": {
      "text/html": [
       "<html><script type=\"math/tex; mode=display\">\\newcommand{\\Bold}[1]{\\mathbf{#1}}-\\frac{w\\left(x, y\\right)}{y} + \\frac{x \\frac{\\partial}{\\partial y}z\\left(x, y\\right)}{2 \\, {\\left(x^{2} + y\\right)} y} + \\frac{\\partial}{\\partial y}w\\left(x, y\\right)</script></html>"
      ],
      "text/latex": [
       "\\begin{math}\n",
       "\\newcommand{\\Bold}[1]{\\mathbf{#1}}-\\frac{w\\left(x, y\\right)}{y} + \\frac{x \\frac{\\partial}{\\partial y}z\\left(x, y\\right)}{2 \\, {\\left(x^{2} + y\\right)} y} + \\frac{\\partial}{\\partial y}w\\left(x, y\\right)\n",
       "\\end{math}"
      ],
      "text/plain": [
       "-w(x, y)/y + 1/2*x*diff(z(x, y), y)/((x^2 + y)*y) + diff(w(x, y), y)"
      ]
     },
     "metadata": {},
     "output_type": "display_data"
    },
    {
     "name": "stdout",
     "output_type": "stream",
     "text": [
      "PPPPPPPPPPPPPPPPPPPPPPPPPPPPPPPPPPPPPPPPPPP\n",
      "PPPPPPPPPPPPPPPPPPPPPPPPPPPPPPPPPPPPPPPPPPP\n",
      "PPPPPPPPPPPPPPPPPPPPPPPPPPPPPPPPPPPPPPPPPPP\n",
      "Vorher [x]\n",
      "reduce diff(w(x, y), x, y) with diff(w(x, y), y)\n",
      "e1: diff(w(x, y), x, y)\n",
      "e2: diff(w(x, y), y)\n"
     ]
    },
    {
     "data": {
      "text/html": [
       "<html><script type=\"math/tex; mode=display\">\\newcommand{\\Bold}[1]{\\mathbf{#1}}-\\frac{2 \\, x \\frac{\\partial^{2}}{(\\partial x)^{2}}z\\left(x, y\\right)}{y} - \\frac{x \\frac{\\partial}{\\partial x}w\\left(x, y\\right)}{y^{2}} + \\frac{\\partial^{2}}{\\partial x\\partial y}w\\left(x, y\\right)</script></html>"
      ],
      "text/latex": [
       "\\begin{math}\n",
       "\\newcommand{\\Bold}[1]{\\mathbf{#1}}-\\frac{2 \\, x \\frac{\\partial^{2}}{(\\partial x)^{2}}z\\left(x, y\\right)}{y} - \\frac{x \\frac{\\partial}{\\partial x}w\\left(x, y\\right)}{y^{2}} + \\frac{\\partial^{2}}{\\partial x\\partial y}w\\left(x, y\\right)\n",
       "\\end{math}"
      ],
      "text/plain": [
       "-2*x*diff(z(x, y), x, x)/y - x*diff(w(x, y), x)/y^2 + diff(w(x, y), x, y)"
      ]
     },
     "metadata": {},
     "output_type": "display_data"
    },
    {
     "data": {
      "text/html": [
       "<html><script type=\"math/tex; mode=display\">\\newcommand{\\Bold}[1]{\\mathbf{#1}}-\\frac{w\\left(x, y\\right)}{y} + \\frac{x \\frac{\\partial}{\\partial y}z\\left(x, y\\right)}{2 \\, {\\left(x^{2} + y\\right)} y} + \\frac{\\partial}{\\partial y}w\\left(x, y\\right)</script></html>"
      ],
      "text/latex": [
       "\\begin{math}\n",
       "\\newcommand{\\Bold}[1]{\\mathbf{#1}}-\\frac{w\\left(x, y\\right)}{y} + \\frac{x \\frac{\\partial}{\\partial y}z\\left(x, y\\right)}{2 \\, {\\left(x^{2} + y\\right)} y} + \\frac{\\partial}{\\partial y}w\\left(x, y\\right)\n",
       "\\end{math}"
      ],
      "text/plain": [
       "-w(x, y)/y + 1/2*x*diff(z(x, y), y)/((x^2 + y)*y) + diff(w(x, y), y)"
      ]
     },
     "metadata": {},
     "output_type": "display_data"
    },
    {
     "name": "stdout",
     "output_type": "stream",
     "text": [
      "after derivation................\n"
     ]
    },
    {
     "data": {
      "text/html": [
       "<html><script type=\"math/tex; mode=display\">\\newcommand{\\Bold}[1]{\\mathbf{#1}}-\\frac{\\frac{\\partial}{\\partial x}w\\left(x, y\\right)}{y} + \\frac{x \\frac{\\partial^{2}}{\\partial x\\partial y}z\\left(x, y\\right)}{2 \\, {\\left(x^{2} + y\\right)} y} - \\frac{x^{2} \\frac{\\partial}{\\partial y}z\\left(x, y\\right)}{{\\left(x^{2} + y\\right)}^{2} y} + \\frac{\\frac{\\partial}{\\partial y}z\\left(x, y\\right)}{2 \\, {\\left(x^{2} + y\\right)} y} + \\frac{\\partial^{2}}{\\partial x\\partial y}w\\left(x, y\\right)</script></html>"
      ],
      "text/latex": [
       "\\begin{math}\n",
       "\\newcommand{\\Bold}[1]{\\mathbf{#1}}-\\frac{\\frac{\\partial}{\\partial x}w\\left(x, y\\right)}{y} + \\frac{x \\frac{\\partial^{2}}{\\partial x\\partial y}z\\left(x, y\\right)}{2 \\, {\\left(x^{2} + y\\right)} y} - \\frac{x^{2} \\frac{\\partial}{\\partial y}z\\left(x, y\\right)}{{\\left(x^{2} + y\\right)}^{2} y} + \\frac{\\frac{\\partial}{\\partial y}z\\left(x, y\\right)}{2 \\, {\\left(x^{2} + y\\right)} y} + \\frac{\\partial^{2}}{\\partial x\\partial y}w\\left(x, y\\right)\n",
       "\\end{math}"
      ],
      "text/plain": [
       "-diff(w(x, y), x)/y + 1/2*x*diff(z(x, y), x, y)/((x^2 + y)*y) - x^2*diff(z(x, y), y)/((x^2 + y)^2*y) + 1/2*diff(z(x, y), y)/((x^2 + y)*y) + diff(w(x, y), x, y)"
      ]
     },
     "metadata": {},
     "output_type": "display_data"
    },
    {
     "name": "stdout",
     "output_type": "stream",
     "text": [
      "computation done 1\n"
     ]
    },
    {
     "data": {
      "text/html": [
       "<html><script type=\"math/tex; mode=display\">\\newcommand{\\Bold}[1]{\\mathbf{#1}}-\\frac{2 \\, x \\frac{\\partial^{2}}{(\\partial x)^{2}}z\\left(x, y\\right)}{y} - \\frac{x \\frac{\\partial}{\\partial x}w\\left(x, y\\right)}{y^{2}} + \\frac{\\frac{\\partial}{\\partial x}w\\left(x, y\\right)}{y} - \\frac{x \\frac{\\partial^{2}}{\\partial x\\partial y}z\\left(x, y\\right)}{2 \\, {\\left(x^{2} + y\\right)} y} + \\frac{x^{2} \\frac{\\partial}{\\partial y}z\\left(x, y\\right)}{{\\left(x^{2} + y\\right)}^{2} y} - \\frac{\\frac{\\partial}{\\partial y}z\\left(x, y\\right)}{2 \\, {\\left(x^{2} + y\\right)} y}</script></html>"
      ],
      "text/latex": [
       "\\begin{math}\n",
       "\\newcommand{\\Bold}[1]{\\mathbf{#1}}-\\frac{2 \\, x \\frac{\\partial^{2}}{(\\partial x)^{2}}z\\left(x, y\\right)}{y} - \\frac{x \\frac{\\partial}{\\partial x}w\\left(x, y\\right)}{y^{2}} + \\frac{\\frac{\\partial}{\\partial x}w\\left(x, y\\right)}{y} - \\frac{x \\frac{\\partial^{2}}{\\partial x\\partial y}z\\left(x, y\\right)}{2 \\, {\\left(x^{2} + y\\right)} y} + \\frac{x^{2} \\frac{\\partial}{\\partial y}z\\left(x, y\\right)}{{\\left(x^{2} + y\\right)}^{2} y} - \\frac{\\frac{\\partial}{\\partial y}z\\left(x, y\\right)}{2 \\, {\\left(x^{2} + y\\right)} y}\n",
       "\\end{math}"
      ],
      "text/plain": [
       "-2*x*diff(z(x, y), x, x)/y - x*diff(w(x, y), x)/y^2 + diff(w(x, y), x)/y - 1/2*x*diff(z(x, y), x, y)/((x^2 + y)*y) + x^2*diff(z(x, y), y)/((x^2 + y)^2*y) - 1/2*diff(z(x, y), y)/((x^2 + y)*y)"
      ]
     },
     "metadata": {},
     "output_type": "display_data"
    },
    {
     "name": "stdout",
     "output_type": "stream",
     "text": [
      "have reduced!\n"
     ]
    },
    {
     "data": {
      "text/html": [
       "<html><script type=\"math/tex; mode=display\">\\newcommand{\\Bold}[1]{\\mathbf{#1}}-\\frac{2 \\, x \\frac{\\partial^{2}}{(\\partial x)^{2}}z\\left(x, y\\right)}{y} - \\frac{x \\frac{\\partial}{\\partial x}w\\left(x, y\\right)}{y^{2}} + \\frac{\\frac{\\partial}{\\partial x}w\\left(x, y\\right)}{y} - \\frac{x \\frac{\\partial^{2}}{\\partial x\\partial y}z\\left(x, y\\right)}{2 \\, {\\left(x^{2} + y\\right)} y} + \\frac{x^{2} \\frac{\\partial}{\\partial y}z\\left(x, y\\right)}{{\\left(x^{2} + y\\right)}^{2} y} - \\frac{\\frac{\\partial}{\\partial y}z\\left(x, y\\right)}{2 \\, {\\left(x^{2} + y\\right)} y}</script></html>"
      ],
      "text/latex": [
       "\\begin{math}\n",
       "\\newcommand{\\Bold}[1]{\\mathbf{#1}}-\\frac{2 \\, x \\frac{\\partial^{2}}{(\\partial x)^{2}}z\\left(x, y\\right)}{y} - \\frac{x \\frac{\\partial}{\\partial x}w\\left(x, y\\right)}{y^{2}} + \\frac{\\frac{\\partial}{\\partial x}w\\left(x, y\\right)}{y} - \\frac{x \\frac{\\partial^{2}}{\\partial x\\partial y}z\\left(x, y\\right)}{2 \\, {\\left(x^{2} + y\\right)} y} + \\frac{x^{2} \\frac{\\partial}{\\partial y}z\\left(x, y\\right)}{{\\left(x^{2} + y\\right)}^{2} y} - \\frac{\\frac{\\partial}{\\partial y}z\\left(x, y\\right)}{2 \\, {\\left(x^{2} + y\\right)} y}\n",
       "\\end{math}"
      ],
      "text/plain": [
       "-2*x*diff(z(x, y), x, x)/y - x*diff(w(x, y), x)/y^2 + diff(w(x, y), x)/y - 1/2*x*diff(z(x, y), x, y)/((x^2 + y)*y) + x^2*diff(z(x, y), y)/((x^2 + y)^2*y) - 1/2*diff(z(x, y), y)/((x^2 + y)*y)"
      ]
     },
     "metadata": {},
     "output_type": "display_data"
    },
    {
     "name": "stdout",
     "output_type": "stream",
     "text": [
      "1 * diff(z(x, y), x, x)\n",
      "1/4/(x^2 + y) * diff(z(x, y), x, y)\n",
      "1/2*(x*diff(w(x, y), x) - y*diff(w(x, y), x))/(x*y) * 1\n",
      "-1/4*(x^2*diff(z(x, y), y) - y*diff(z(x, y), y))/(x^5 + 2*x^3*y + x*y^2) * 1\n",
      "This is the new System........\n"
     ]
    },
    {
     "data": {
      "text/html": [
       "<html><script type=\"math/tex; mode=display\">\\newcommand{\\Bold}[1]{\\mathbf{#1}}-\\frac{w\\left(x, y\\right)}{y} + \\frac{x \\frac{\\partial}{\\partial y}z\\left(x, y\\right)}{2 \\, {\\left(x^{2} + y\\right)} y} + \\frac{\\partial}{\\partial y}w\\left(x, y\\right)</script></html>"
      ],
      "text/latex": [
       "\\begin{math}\n",
       "\\newcommand{\\Bold}[1]{\\mathbf{#1}}-\\frac{w\\left(x, y\\right)}{y} + \\frac{x \\frac{\\partial}{\\partial y}z\\left(x, y\\right)}{2 \\, {\\left(x^{2} + y\\right)} y} + \\frac{\\partial}{\\partial y}w\\left(x, y\\right)\n",
       "\\end{math}"
      ],
      "text/plain": [
       "-w(x, y)/y + 1/2*x*diff(z(x, y), y)/((x^2 + y)*y) + diff(w(x, y), y)"
      ]
     },
     "metadata": {},
     "output_type": "display_data"
    },
    {
     "data": {
      "text/html": [
       "<html><script type=\"math/tex; mode=display\">\\newcommand{\\Bold}[1]{\\mathbf{#1}}\\frac{x \\frac{\\partial}{\\partial y}z\\left(x, y\\right)}{y} + \\frac{\\frac{\\partial}{\\partial y}w\\left(x, y\\right)}{2 \\, y} - \\frac{x \\frac{\\partial^{2}}{\\partial x\\partial y}z\\left(x, y\\right)}{2 \\, {\\left(x^{2} + y\\right)} y} + \\frac{x^{2} \\frac{\\partial}{\\partial y}z\\left(x, y\\right)}{{\\left(x^{2} + y\\right)}^{2} y} - \\frac{w\\left(x, y\\right)}{2 \\, y^{2}} - \\frac{\\frac{\\partial}{\\partial y}z\\left(x, y\\right)}{2 \\, {\\left(x^{2} + y\\right)} y} + \\frac{\\partial^{2}}{\\partial x\\partial y}z\\left(x, y\\right)</script></html>"
      ],
      "text/latex": [
       "\\begin{math}\n",
       "\\newcommand{\\Bold}[1]{\\mathbf{#1}}\\frac{x \\frac{\\partial}{\\partial y}z\\left(x, y\\right)}{y} + \\frac{\\frac{\\partial}{\\partial y}w\\left(x, y\\right)}{2 \\, y} - \\frac{x \\frac{\\partial^{2}}{\\partial x\\partial y}z\\left(x, y\\right)}{2 \\, {\\left(x^{2} + y\\right)} y} + \\frac{x^{2} \\frac{\\partial}{\\partial y}z\\left(x, y\\right)}{{\\left(x^{2} + y\\right)}^{2} y} - \\frac{w\\left(x, y\\right)}{2 \\, y^{2}} - \\frac{\\frac{\\partial}{\\partial y}z\\left(x, y\\right)}{2 \\, {\\left(x^{2} + y\\right)} y} + \\frac{\\partial^{2}}{\\partial x\\partial y}z\\left(x, y\\right)\n",
       "\\end{math}"
      ],
      "text/plain": [
       "x*diff(z(x, y), y)/y + 1/2*diff(w(x, y), y)/y - 1/2*x*diff(z(x, y), x, y)/((x^2 + y)*y) + x^2*diff(z(x, y), y)/((x^2 + y)^2*y) - 1/2*w(x, y)/y^2 - 1/2*diff(z(x, y), y)/((x^2 + y)*y) + diff(z(x, y), x, y)"
      ]
     },
     "metadata": {},
     "output_type": "display_data"
    },
    {
     "data": {
      "text/html": [
       "<html><script type=\"math/tex; mode=display\">\\newcommand{\\Bold}[1]{\\mathbf{#1}}-\\frac{x \\frac{\\partial^{2}}{(\\partial y)^{2}}z\\left(x, y\\right)}{2 \\, {\\left(x^{2} + y\\right)} y} + \\frac{x \\frac{\\partial}{\\partial y}z\\left(x, y\\right)}{2 \\, {\\left(x^{2} + y\\right)} y^{2}} + \\frac{x \\frac{\\partial}{\\partial y}z\\left(x, y\\right)}{2 \\, {\\left(x^{2} + y\\right)}^{2} y} + \\frac{\\partial^{2}}{\\partial x\\partial y}z\\left(x, y\\right)</script></html>"
      ],
      "text/latex": [
       "\\begin{math}\n",
       "\\newcommand{\\Bold}[1]{\\mathbf{#1}}-\\frac{x \\frac{\\partial^{2}}{(\\partial y)^{2}}z\\left(x, y\\right)}{2 \\, {\\left(x^{2} + y\\right)} y} + \\frac{x \\frac{\\partial}{\\partial y}z\\left(x, y\\right)}{2 \\, {\\left(x^{2} + y\\right)} y^{2}} + \\frac{x \\frac{\\partial}{\\partial y}z\\left(x, y\\right)}{2 \\, {\\left(x^{2} + y\\right)}^{2} y} + \\frac{\\partial^{2}}{\\partial x\\partial y}z\\left(x, y\\right)\n",
       "\\end{math}"
      ],
      "text/plain": [
       "-1/2*x*diff(z(x, y), y, y)/((x^2 + y)*y) + 1/2*x*diff(z(x, y), y)/((x^2 + y)*y^2) + 1/2*x*diff(z(x, y), y)/((x^2 + y)^2*y) + diff(z(x, y), x, y)"
      ]
     },
     "metadata": {},
     "output_type": "display_data"
    },
    {
     "data": {
      "text/html": [
       "<html><script type=\"math/tex; mode=display\">\\newcommand{\\Bold}[1]{\\mathbf{#1}}-\\frac{y {\\left(\\frac{x \\frac{\\partial}{\\partial y}z\\left(x, y\\right)}{x^{2} y + y^{2}} - \\frac{2 \\, w\\left(x, y\\right)}{y} + 2 \\, \\frac{\\partial}{\\partial y}w\\left(x, y\\right)\\right)}}{2 \\, x} + \\frac{y \\frac{\\partial}{\\partial y}w\\left(x, y\\right)}{x} + \\frac{2 \\, y \\frac{\\partial}{\\partial x}z\\left(x, y\\right)}{x} + \\frac{\\partial^{2}}{\\partial x\\partial y}z\\left(x, y\\right)</script></html>"
      ],
      "text/latex": [
       "\\begin{math}\n",
       "\\newcommand{\\Bold}[1]{\\mathbf{#1}}-\\frac{y {\\left(\\frac{x \\frac{\\partial}{\\partial y}z\\left(x, y\\right)}{x^{2} y + y^{2}} - \\frac{2 \\, w\\left(x, y\\right)}{y} + 2 \\, \\frac{\\partial}{\\partial y}w\\left(x, y\\right)\\right)}}{2 \\, x} + \\frac{y \\frac{\\partial}{\\partial y}w\\left(x, y\\right)}{x} + \\frac{2 \\, y \\frac{\\partial}{\\partial x}z\\left(x, y\\right)}{x} + \\frac{\\partial^{2}}{\\partial x\\partial y}z\\left(x, y\\right)\n",
       "\\end{math}"
      ],
      "text/plain": [
       "-1/2*y*(x*diff(z(x, y), y)/(x^2*y + y^2) - 2*w(x, y)/y + 2*diff(w(x, y), y))/x + y*diff(w(x, y), y)/x + 2*y*diff(z(x, y), x)/x + diff(z(x, y), x, y)"
      ]
     },
     "metadata": {},
     "output_type": "display_data"
    },
    {
     "data": {
      "text/html": [
       "<html><script type=\"math/tex; mode=display\">\\newcommand{\\Bold}[1]{\\mathbf{#1}}-\\frac{2 \\, x \\frac{\\partial^{2}}{(\\partial x)^{2}}z\\left(x, y\\right)}{y} - \\frac{x \\frac{\\partial}{\\partial x}w\\left(x, y\\right)}{y^{2}} + \\frac{\\frac{\\partial}{\\partial x}w\\left(x, y\\right)}{y} - \\frac{x \\frac{\\partial^{2}}{\\partial x\\partial y}z\\left(x, y\\right)}{2 \\, {\\left(x^{2} + y\\right)} y} + \\frac{x^{2} \\frac{\\partial}{\\partial y}z\\left(x, y\\right)}{{\\left(x^{2} + y\\right)}^{2} y} - \\frac{\\frac{\\partial}{\\partial y}z\\left(x, y\\right)}{2 \\, {\\left(x^{2} + y\\right)} y}</script></html>"
      ],
      "text/latex": [
       "\\begin{math}\n",
       "\\newcommand{\\Bold}[1]{\\mathbf{#1}}-\\frac{2 \\, x \\frac{\\partial^{2}}{(\\partial x)^{2}}z\\left(x, y\\right)}{y} - \\frac{x \\frac{\\partial}{\\partial x}w\\left(x, y\\right)}{y^{2}} + \\frac{\\frac{\\partial}{\\partial x}w\\left(x, y\\right)}{y} - \\frac{x \\frac{\\partial^{2}}{\\partial x\\partial y}z\\left(x, y\\right)}{2 \\, {\\left(x^{2} + y\\right)} y} + \\frac{x^{2} \\frac{\\partial}{\\partial y}z\\left(x, y\\right)}{{\\left(x^{2} + y\\right)}^{2} y} - \\frac{\\frac{\\partial}{\\partial y}z\\left(x, y\\right)}{2 \\, {\\left(x^{2} + y\\right)} y}\n",
       "\\end{math}"
      ],
      "text/plain": [
       "-2*x*diff(z(x, y), x, x)/y - x*diff(w(x, y), x)/y^2 + diff(w(x, y), x)/y - 1/2*x*diff(z(x, y), x, y)/((x^2 + y)*y) + x^2*diff(z(x, y), y)/((x^2 + y)^2*y) - 1/2*diff(z(x, y), y)/((x^2 + y)*y)"
      ]
     },
     "metadata": {},
     "output_type": "display_data"
    },
    {
     "name": "stdout",
     "output_type": "stream",
     "text": [
      "While\n"
     ]
    },
    {
     "data": {
      "text/html": [
       "<html><script type=\"math/tex; mode=display\">\\newcommand{\\Bold}[1]{\\mathbf{#1}}-\\frac{w\\left(x, y\\right)}{y} + \\frac{x \\frac{\\partial}{\\partial y}z\\left(x, y\\right)}{2 \\, {\\left(x^{2} + y\\right)} y} + \\frac{\\partial}{\\partial y}w\\left(x, y\\right)</script></html>"
      ],
      "text/latex": [
       "\\begin{math}\n",
       "\\newcommand{\\Bold}[1]{\\mathbf{#1}}-\\frac{w\\left(x, y\\right)}{y} + \\frac{x \\frac{\\partial}{\\partial y}z\\left(x, y\\right)}{2 \\, {\\left(x^{2} + y\\right)} y} + \\frac{\\partial}{\\partial y}w\\left(x, y\\right)\n",
       "\\end{math}"
      ],
      "text/plain": [
       "-w(x, y)/y + 1/2*x*diff(z(x, y), y)/((x^2 + y)*y) + diff(w(x, y), y)"
      ]
     },
     "metadata": {},
     "output_type": "display_data"
    },
    {
     "data": {
      "text/html": [
       "<html><script type=\"math/tex; mode=display\">\\newcommand{\\Bold}[1]{\\mathbf{#1}}\\frac{x \\frac{\\partial}{\\partial y}z\\left(x, y\\right)}{y} + \\frac{\\frac{\\partial}{\\partial y}w\\left(x, y\\right)}{2 \\, y} - \\frac{x \\frac{\\partial^{2}}{\\partial x\\partial y}z\\left(x, y\\right)}{2 \\, {\\left(x^{2} + y\\right)} y} + \\frac{x^{2} \\frac{\\partial}{\\partial y}z\\left(x, y\\right)}{{\\left(x^{2} + y\\right)}^{2} y} - \\frac{w\\left(x, y\\right)}{2 \\, y^{2}} - \\frac{\\frac{\\partial}{\\partial y}z\\left(x, y\\right)}{2 \\, {\\left(x^{2} + y\\right)} y} + \\frac{\\partial^{2}}{\\partial x\\partial y}z\\left(x, y\\right)</script></html>"
      ],
      "text/latex": [
       "\\begin{math}\n",
       "\\newcommand{\\Bold}[1]{\\mathbf{#1}}\\frac{x \\frac{\\partial}{\\partial y}z\\left(x, y\\right)}{y} + \\frac{\\frac{\\partial}{\\partial y}w\\left(x, y\\right)}{2 \\, y} - \\frac{x \\frac{\\partial^{2}}{\\partial x\\partial y}z\\left(x, y\\right)}{2 \\, {\\left(x^{2} + y\\right)} y} + \\frac{x^{2} \\frac{\\partial}{\\partial y}z\\left(x, y\\right)}{{\\left(x^{2} + y\\right)}^{2} y} - \\frac{w\\left(x, y\\right)}{2 \\, y^{2}} - \\frac{\\frac{\\partial}{\\partial y}z\\left(x, y\\right)}{2 \\, {\\left(x^{2} + y\\right)} y} + \\frac{\\partial^{2}}{\\partial x\\partial y}z\\left(x, y\\right)\n",
       "\\end{math}"
      ],
      "text/plain": [
       "x*diff(z(x, y), y)/y + 1/2*diff(w(x, y), y)/y - 1/2*x*diff(z(x, y), x, y)/((x^2 + y)*y) + x^2*diff(z(x, y), y)/((x^2 + y)^2*y) - 1/2*w(x, y)/y^2 - 1/2*diff(z(x, y), y)/((x^2 + y)*y) + diff(z(x, y), x, y)"
      ]
     },
     "metadata": {},
     "output_type": "display_data"
    },
    {
     "name": "stdout",
     "output_type": "stream",
     "text": [
      "Try to reduce r1 with r0\n",
      "--------------------------------------- entering reduce\n"
     ]
    },
    {
     "data": {
      "text/html": [
       "<html><script type=\"math/tex; mode=display\">\\newcommand{\\Bold}[1]{\\mathbf{#1}}\\frac{x \\frac{\\partial}{\\partial y}z\\left(x, y\\right)}{y} + \\frac{\\frac{\\partial}{\\partial y}w\\left(x, y\\right)}{2 \\, y} - \\frac{x \\frac{\\partial^{2}}{\\partial x\\partial y}z\\left(x, y\\right)}{2 \\, {\\left(x^{2} + y\\right)} y} + \\frac{x^{2} \\frac{\\partial}{\\partial y}z\\left(x, y\\right)}{{\\left(x^{2} + y\\right)}^{2} y} - \\frac{w\\left(x, y\\right)}{2 \\, y^{2}} - \\frac{\\frac{\\partial}{\\partial y}z\\left(x, y\\right)}{2 \\, {\\left(x^{2} + y\\right)} y} + \\frac{\\partial^{2}}{\\partial x\\partial y}z\\left(x, y\\right)</script></html>"
      ],
      "text/latex": [
       "\\begin{math}\n",
       "\\newcommand{\\Bold}[1]{\\mathbf{#1}}\\frac{x \\frac{\\partial}{\\partial y}z\\left(x, y\\right)}{y} + \\frac{\\frac{\\partial}{\\partial y}w\\left(x, y\\right)}{2 \\, y} - \\frac{x \\frac{\\partial^{2}}{\\partial x\\partial y}z\\left(x, y\\right)}{2 \\, {\\left(x^{2} + y\\right)} y} + \\frac{x^{2} \\frac{\\partial}{\\partial y}z\\left(x, y\\right)}{{\\left(x^{2} + y\\right)}^{2} y} - \\frac{w\\left(x, y\\right)}{2 \\, y^{2}} - \\frac{\\frac{\\partial}{\\partial y}z\\left(x, y\\right)}{2 \\, {\\left(x^{2} + y\\right)} y} + \\frac{\\partial^{2}}{\\partial x\\partial y}z\\left(x, y\\right)\n",
       "\\end{math}"
      ],
      "text/plain": [
       "x*diff(z(x, y), y)/y + 1/2*diff(w(x, y), y)/y - 1/2*x*diff(z(x, y), x, y)/((x^2 + y)*y) + x^2*diff(z(x, y), y)/((x^2 + y)^2*y) - 1/2*w(x, y)/y^2 - 1/2*diff(z(x, y), y)/((x^2 + y)*y) + diff(z(x, y), x, y)"
      ]
     },
     "metadata": {},
     "output_type": "display_data"
    },
    {
     "data": {
      "text/html": [
       "<html><script type=\"math/tex; mode=display\">\\newcommand{\\Bold}[1]{\\mathbf{#1}}-\\frac{w\\left(x, y\\right)}{y} + \\frac{x \\frac{\\partial}{\\partial y}z\\left(x, y\\right)}{2 \\, {\\left(x^{2} + y\\right)} y} + \\frac{\\partial}{\\partial y}w\\left(x, y\\right)</script></html>"
      ],
      "text/latex": [
       "\\begin{math}\n",
       "\\newcommand{\\Bold}[1]{\\mathbf{#1}}-\\frac{w\\left(x, y\\right)}{y} + \\frac{x \\frac{\\partial}{\\partial y}z\\left(x, y\\right)}{2 \\, {\\left(x^{2} + y\\right)} y} + \\frac{\\partial}{\\partial y}w\\left(x, y\\right)\n",
       "\\end{math}"
      ],
      "text/plain": [
       "-w(x, y)/y + 1/2*x*diff(z(x, y), y)/((x^2 + y)*y) + diff(w(x, y), y)"
      ]
     },
     "metadata": {},
     "output_type": "display_data"
    },
    {
     "name": "stdout",
     "output_type": "stream",
     "text": [
      "Try to reduce r2 with r0\n",
      "--------------------------------------- entering reduce\n"
     ]
    },
    {
     "data": {
      "text/html": [
       "<html><script type=\"math/tex; mode=display\">\\newcommand{\\Bold}[1]{\\mathbf{#1}}-\\frac{x \\frac{\\partial^{2}}{(\\partial y)^{2}}z\\left(x, y\\right)}{2 \\, {\\left(x^{2} + y\\right)} y} + \\frac{x \\frac{\\partial}{\\partial y}z\\left(x, y\\right)}{2 \\, {\\left(x^{2} + y\\right)} y^{2}} + \\frac{x \\frac{\\partial}{\\partial y}z\\left(x, y\\right)}{2 \\, {\\left(x^{2} + y\\right)}^{2} y} + \\frac{\\partial^{2}}{\\partial x\\partial y}z\\left(x, y\\right)</script></html>"
      ],
      "text/latex": [
       "\\begin{math}\n",
       "\\newcommand{\\Bold}[1]{\\mathbf{#1}}-\\frac{x \\frac{\\partial^{2}}{(\\partial y)^{2}}z\\left(x, y\\right)}{2 \\, {\\left(x^{2} + y\\right)} y} + \\frac{x \\frac{\\partial}{\\partial y}z\\left(x, y\\right)}{2 \\, {\\left(x^{2} + y\\right)} y^{2}} + \\frac{x \\frac{\\partial}{\\partial y}z\\left(x, y\\right)}{2 \\, {\\left(x^{2} + y\\right)}^{2} y} + \\frac{\\partial^{2}}{\\partial x\\partial y}z\\left(x, y\\right)\n",
       "\\end{math}"
      ],
      "text/plain": [
       "-1/2*x*diff(z(x, y), y, y)/((x^2 + y)*y) + 1/2*x*diff(z(x, y), y)/((x^2 + y)*y^2) + 1/2*x*diff(z(x, y), y)/((x^2 + y)^2*y) + diff(z(x, y), x, y)"
      ]
     },
     "metadata": {},
     "output_type": "display_data"
    },
    {
     "data": {
      "text/html": [
       "<html><script type=\"math/tex; mode=display\">\\newcommand{\\Bold}[1]{\\mathbf{#1}}-\\frac{w\\left(x, y\\right)}{y} + \\frac{x \\frac{\\partial}{\\partial y}z\\left(x, y\\right)}{2 \\, {\\left(x^{2} + y\\right)} y} + \\frac{\\partial}{\\partial y}w\\left(x, y\\right)</script></html>"
      ],
      "text/latex": [
       "\\begin{math}\n",
       "\\newcommand{\\Bold}[1]{\\mathbf{#1}}-\\frac{w\\left(x, y\\right)}{y} + \\frac{x \\frac{\\partial}{\\partial y}z\\left(x, y\\right)}{2 \\, {\\left(x^{2} + y\\right)} y} + \\frac{\\partial}{\\partial y}w\\left(x, y\\right)\n",
       "\\end{math}"
      ],
      "text/plain": [
       "-w(x, y)/y + 1/2*x*diff(z(x, y), y)/((x^2 + y)*y) + diff(w(x, y), y)"
      ]
     },
     "metadata": {},
     "output_type": "display_data"
    },
    {
     "name": "stdout",
     "output_type": "stream",
     "text": [
      "Try to reduce r3 with r0\n",
      "--------------------------------------- entering reduce\n"
     ]
    },
    {
     "data": {
      "text/html": [
       "<html><script type=\"math/tex; mode=display\">\\newcommand{\\Bold}[1]{\\mathbf{#1}}-\\frac{y {\\left(\\frac{x \\frac{\\partial}{\\partial y}z\\left(x, y\\right)}{x^{2} y + y^{2}} - \\frac{2 \\, w\\left(x, y\\right)}{y} + 2 \\, \\frac{\\partial}{\\partial y}w\\left(x, y\\right)\\right)}}{2 \\, x} + \\frac{y \\frac{\\partial}{\\partial y}w\\left(x, y\\right)}{x} + \\frac{2 \\, y \\frac{\\partial}{\\partial x}z\\left(x, y\\right)}{x} + \\frac{\\partial^{2}}{\\partial x\\partial y}z\\left(x, y\\right)</script></html>"
      ],
      "text/latex": [
       "\\begin{math}\n",
       "\\newcommand{\\Bold}[1]{\\mathbf{#1}}-\\frac{y {\\left(\\frac{x \\frac{\\partial}{\\partial y}z\\left(x, y\\right)}{x^{2} y + y^{2}} - \\frac{2 \\, w\\left(x, y\\right)}{y} + 2 \\, \\frac{\\partial}{\\partial y}w\\left(x, y\\right)\\right)}}{2 \\, x} + \\frac{y \\frac{\\partial}{\\partial y}w\\left(x, y\\right)}{x} + \\frac{2 \\, y \\frac{\\partial}{\\partial x}z\\left(x, y\\right)}{x} + \\frac{\\partial^{2}}{\\partial x\\partial y}z\\left(x, y\\right)\n",
       "\\end{math}"
      ],
      "text/plain": [
       "-1/2*y*(x*diff(z(x, y), y)/(x^2*y + y^2) - 2*w(x, y)/y + 2*diff(w(x, y), y))/x + y*diff(w(x, y), y)/x + 2*y*diff(z(x, y), x)/x + diff(z(x, y), x, y)"
      ]
     },
     "metadata": {},
     "output_type": "display_data"
    },
    {
     "data": {
      "text/html": [
       "<html><script type=\"math/tex; mode=display\">\\newcommand{\\Bold}[1]{\\mathbf{#1}}-\\frac{w\\left(x, y\\right)}{y} + \\frac{x \\frac{\\partial}{\\partial y}z\\left(x, y\\right)}{2 \\, {\\left(x^{2} + y\\right)} y} + \\frac{\\partial}{\\partial y}w\\left(x, y\\right)</script></html>"
      ],
      "text/latex": [
       "\\begin{math}\n",
       "\\newcommand{\\Bold}[1]{\\mathbf{#1}}-\\frac{w\\left(x, y\\right)}{y} + \\frac{x \\frac{\\partial}{\\partial y}z\\left(x, y\\right)}{2 \\, {\\left(x^{2} + y\\right)} y} + \\frac{\\partial}{\\partial y}w\\left(x, y\\right)\n",
       "\\end{math}"
      ],
      "text/plain": [
       "-w(x, y)/y + 1/2*x*diff(z(x, y), y)/((x^2 + y)*y) + diff(w(x, y), y)"
      ]
     },
     "metadata": {},
     "output_type": "display_data"
    },
    {
     "name": "stdout",
     "output_type": "stream",
     "text": [
      "have reduced!\n"
     ]
    },
    {
     "data": {
      "text/html": [
       "<html><script type=\"math/tex; mode=display\">\\newcommand{\\Bold}[1]{\\mathbf{#1}}-\\frac{y {\\left(\\frac{x \\frac{\\partial}{\\partial y}z\\left(x, y\\right)}{x^{2} y + y^{2}} - \\frac{2 \\, w\\left(x, y\\right)}{y} + 2 \\, \\frac{\\partial}{\\partial y}w\\left(x, y\\right)\\right)}}{2 \\, x} + \\frac{y \\frac{\\partial}{\\partial y}w\\left(x, y\\right)}{x} + \\frac{2 \\, y \\frac{\\partial}{\\partial x}z\\left(x, y\\right)}{x} + \\frac{2 \\, x^{2} w\\left(x, y\\right) - 2 \\, y^{2} \\frac{\\partial}{\\partial y}w\\left(x, y\\right) - 2 \\, {\\left(x^{2} \\frac{\\partial}{\\partial y}w\\left(x, y\\right) - w\\left(x, y\\right)\\right)} y - x \\frac{\\partial}{\\partial y}z\\left(x, y\\right)}{2 \\, {\\left(x^{3} + x y\\right)}} + \\frac{\\partial^{2}}{\\partial x\\partial y}z\\left(x, y\\right)</script></html>"
      ],
      "text/latex": [
       "\\begin{math}\n",
       "\\newcommand{\\Bold}[1]{\\mathbf{#1}}-\\frac{y {\\left(\\frac{x \\frac{\\partial}{\\partial y}z\\left(x, y\\right)}{x^{2} y + y^{2}} - \\frac{2 \\, w\\left(x, y\\right)}{y} + 2 \\, \\frac{\\partial}{\\partial y}w\\left(x, y\\right)\\right)}}{2 \\, x} + \\frac{y \\frac{\\partial}{\\partial y}w\\left(x, y\\right)}{x} + \\frac{2 \\, y \\frac{\\partial}{\\partial x}z\\left(x, y\\right)}{x} + \\frac{2 \\, x^{2} w\\left(x, y\\right) - 2 \\, y^{2} \\frac{\\partial}{\\partial y}w\\left(x, y\\right) - 2 \\, {\\left(x^{2} \\frac{\\partial}{\\partial y}w\\left(x, y\\right) - w\\left(x, y\\right)\\right)} y - x \\frac{\\partial}{\\partial y}z\\left(x, y\\right)}{2 \\, {\\left(x^{3} + x y\\right)}} + \\frac{\\partial^{2}}{\\partial x\\partial y}z\\left(x, y\\right)\n",
       "\\end{math}"
      ],
      "text/plain": [
       "-1/2*y*(x*diff(z(x, y), y)/(x^2*y + y^2) - 2*w(x, y)/y + 2*diff(w(x, y), y))/x + y*diff(w(x, y), y)/x + 2*y*diff(z(x, y), x)/x + 1/2*(2*x^2*w(x, y) - 2*y^2*diff(w(x, y), y) - 2*(x^2*diff(w(x, y), y) - w(x, y))*y - x*diff(z(x, y), y))/(x^3 + x*y) + diff(z(x, y), x, y)"
      ]
     },
     "metadata": {},
     "output_type": "display_data"
    },
    {
     "name": "stdout",
     "output_type": "stream",
     "text": [
      "1 * diff(z(x, y), x, y)\n",
      "y/x * diff(w(x, y), y)\n",
      "2*y/x * diff(z(x, y), x)\n",
      "(2*x^2*w(x, y) - 2*y^2*diff(w(x, y), y) - 2*(x^2*diff(w(x, y), y) - w(x, y))*y - x*diff(z(x, y), y))/(x^3 + x*y) * 1\n",
      "Try to reduce r4 with r0\n",
      "--------------------------------------- entering reduce\n"
     ]
    },
    {
     "data": {
      "text/html": [
       "<html><script type=\"math/tex; mode=display\">\\newcommand{\\Bold}[1]{\\mathbf{#1}}-\\frac{2 \\, x \\frac{\\partial^{2}}{(\\partial x)^{2}}z\\left(x, y\\right)}{y} - \\frac{x \\frac{\\partial}{\\partial x}w\\left(x, y\\right)}{y^{2}} + \\frac{\\frac{\\partial}{\\partial x}w\\left(x, y\\right)}{y} - \\frac{x \\frac{\\partial^{2}}{\\partial x\\partial y}z\\left(x, y\\right)}{2 \\, {\\left(x^{2} + y\\right)} y} + \\frac{x^{2} \\frac{\\partial}{\\partial y}z\\left(x, y\\right)}{{\\left(x^{2} + y\\right)}^{2} y} - \\frac{\\frac{\\partial}{\\partial y}z\\left(x, y\\right)}{2 \\, {\\left(x^{2} + y\\right)} y}</script></html>"
      ],
      "text/latex": [
       "\\begin{math}\n",
       "\\newcommand{\\Bold}[1]{\\mathbf{#1}}-\\frac{2 \\, x \\frac{\\partial^{2}}{(\\partial x)^{2}}z\\left(x, y\\right)}{y} - \\frac{x \\frac{\\partial}{\\partial x}w\\left(x, y\\right)}{y^{2}} + \\frac{\\frac{\\partial}{\\partial x}w\\left(x, y\\right)}{y} - \\frac{x \\frac{\\partial^{2}}{\\partial x\\partial y}z\\left(x, y\\right)}{2 \\, {\\left(x^{2} + y\\right)} y} + \\frac{x^{2} \\frac{\\partial}{\\partial y}z\\left(x, y\\right)}{{\\left(x^{2} + y\\right)}^{2} y} - \\frac{\\frac{\\partial}{\\partial y}z\\left(x, y\\right)}{2 \\, {\\left(x^{2} + y\\right)} y}\n",
       "\\end{math}"
      ],
      "text/plain": [
       "-2*x*diff(z(x, y), x, x)/y - x*diff(w(x, y), x)/y^2 + diff(w(x, y), x)/y - 1/2*x*diff(z(x, y), x, y)/((x^2 + y)*y) + x^2*diff(z(x, y), y)/((x^2 + y)^2*y) - 1/2*diff(z(x, y), y)/((x^2 + y)*y)"
      ]
     },
     "metadata": {},
     "output_type": "display_data"
    },
    {
     "data": {
      "text/html": [
       "<html><script type=\"math/tex; mode=display\">\\newcommand{\\Bold}[1]{\\mathbf{#1}}-\\frac{w\\left(x, y\\right)}{y} + \\frac{x \\frac{\\partial}{\\partial y}z\\left(x, y\\right)}{2 \\, {\\left(x^{2} + y\\right)} y} + \\frac{\\partial}{\\partial y}w\\left(x, y\\right)</script></html>"
      ],
      "text/latex": [
       "\\begin{math}\n",
       "\\newcommand{\\Bold}[1]{\\mathbf{#1}}-\\frac{w\\left(x, y\\right)}{y} + \\frac{x \\frac{\\partial}{\\partial y}z\\left(x, y\\right)}{2 \\, {\\left(x^{2} + y\\right)} y} + \\frac{\\partial}{\\partial y}w\\left(x, y\\right)\n",
       "\\end{math}"
      ],
      "text/plain": [
       "-w(x, y)/y + 1/2*x*diff(z(x, y), y)/((x^2 + y)*y) + diff(w(x, y), y)"
      ]
     },
     "metadata": {},
     "output_type": "display_data"
    },
    {
     "name": "stdout",
     "output_type": "stream",
     "text": [
      "This is the new System........\n"
     ]
    },
    {
     "data": {
      "text/html": [
       "<html><script type=\"math/tex; mode=display\">\\newcommand{\\Bold}[1]{\\mathbf{#1}}-\\frac{w\\left(x, y\\right)}{y} + \\frac{x \\frac{\\partial}{\\partial y}z\\left(x, y\\right)}{2 \\, {\\left(x^{2} + y\\right)} y} + \\frac{\\partial}{\\partial y}w\\left(x, y\\right)</script></html>"
      ],
      "text/latex": [
       "\\begin{math}\n",
       "\\newcommand{\\Bold}[1]{\\mathbf{#1}}-\\frac{w\\left(x, y\\right)}{y} + \\frac{x \\frac{\\partial}{\\partial y}z\\left(x, y\\right)}{2 \\, {\\left(x^{2} + y\\right)} y} + \\frac{\\partial}{\\partial y}w\\left(x, y\\right)\n",
       "\\end{math}"
      ],
      "text/plain": [
       "-w(x, y)/y + 1/2*x*diff(z(x, y), y)/((x^2 + y)*y) + diff(w(x, y), y)"
      ]
     },
     "metadata": {},
     "output_type": "display_data"
    },
    {
     "data": {
      "text/html": [
       "<html><script type=\"math/tex; mode=display\">\\newcommand{\\Bold}[1]{\\mathbf{#1}}-\\frac{y {\\left(\\frac{x \\frac{\\partial}{\\partial y}z\\left(x, y\\right)}{x^{2} y + y^{2}} - \\frac{2 \\, w\\left(x, y\\right)}{y} + 2 \\, \\frac{\\partial}{\\partial y}w\\left(x, y\\right)\\right)}}{2 \\, x} + \\frac{y \\frac{\\partial}{\\partial y}w\\left(x, y\\right)}{x} + \\frac{2 \\, y \\frac{\\partial}{\\partial x}z\\left(x, y\\right)}{x} + \\frac{2 \\, x^{2} w\\left(x, y\\right) - 2 \\, y^{2} \\frac{\\partial}{\\partial y}w\\left(x, y\\right) - 2 \\, {\\left(x^{2} \\frac{\\partial}{\\partial y}w\\left(x, y\\right) - w\\left(x, y\\right)\\right)} y - x \\frac{\\partial}{\\partial y}z\\left(x, y\\right)}{2 \\, {\\left(x^{3} + x y\\right)}} + \\frac{\\partial^{2}}{\\partial x\\partial y}z\\left(x, y\\right)</script></html>"
      ],
      "text/latex": [
       "\\begin{math}\n",
       "\\newcommand{\\Bold}[1]{\\mathbf{#1}}-\\frac{y {\\left(\\frac{x \\frac{\\partial}{\\partial y}z\\left(x, y\\right)}{x^{2} y + y^{2}} - \\frac{2 \\, w\\left(x, y\\right)}{y} + 2 \\, \\frac{\\partial}{\\partial y}w\\left(x, y\\right)\\right)}}{2 \\, x} + \\frac{y \\frac{\\partial}{\\partial y}w\\left(x, y\\right)}{x} + \\frac{2 \\, y \\frac{\\partial}{\\partial x}z\\left(x, y\\right)}{x} + \\frac{2 \\, x^{2} w\\left(x, y\\right) - 2 \\, y^{2} \\frac{\\partial}{\\partial y}w\\left(x, y\\right) - 2 \\, {\\left(x^{2} \\frac{\\partial}{\\partial y}w\\left(x, y\\right) - w\\left(x, y\\right)\\right)} y - x \\frac{\\partial}{\\partial y}z\\left(x, y\\right)}{2 \\, {\\left(x^{3} + x y\\right)}} + \\frac{\\partial^{2}}{\\partial x\\partial y}z\\left(x, y\\right)\n",
       "\\end{math}"
      ],
      "text/plain": [
       "-1/2*y*(x*diff(z(x, y), y)/(x^2*y + y^2) - 2*w(x, y)/y + 2*diff(w(x, y), y))/x + y*diff(w(x, y), y)/x + 2*y*diff(z(x, y), x)/x + 1/2*(2*x^2*w(x, y) - 2*y^2*diff(w(x, y), y) - 2*(x^2*diff(w(x, y), y) - w(x, y))*y - x*diff(z(x, y), y))/(x^3 + x*y) + diff(z(x, y), x, y)"
      ]
     },
     "metadata": {},
     "output_type": "display_data"
    },
    {
     "data": {
      "text/html": [
       "<html><script type=\"math/tex; mode=display\">\\newcommand{\\Bold}[1]{\\mathbf{#1}}-\\frac{x \\frac{\\partial^{2}}{(\\partial y)^{2}}z\\left(x, y\\right)}{2 \\, {\\left(x^{2} + y\\right)} y} + \\frac{x \\frac{\\partial}{\\partial y}z\\left(x, y\\right)}{2 \\, {\\left(x^{2} + y\\right)} y^{2}} + \\frac{x \\frac{\\partial}{\\partial y}z\\left(x, y\\right)}{2 \\, {\\left(x^{2} + y\\right)}^{2} y} + \\frac{\\partial^{2}}{\\partial x\\partial y}z\\left(x, y\\right)</script></html>"
      ],
      "text/latex": [
       "\\begin{math}\n",
       "\\newcommand{\\Bold}[1]{\\mathbf{#1}}-\\frac{x \\frac{\\partial^{2}}{(\\partial y)^{2}}z\\left(x, y\\right)}{2 \\, {\\left(x^{2} + y\\right)} y} + \\frac{x \\frac{\\partial}{\\partial y}z\\left(x, y\\right)}{2 \\, {\\left(x^{2} + y\\right)} y^{2}} + \\frac{x \\frac{\\partial}{\\partial y}z\\left(x, y\\right)}{2 \\, {\\left(x^{2} + y\\right)}^{2} y} + \\frac{\\partial^{2}}{\\partial x\\partial y}z\\left(x, y\\right)\n",
       "\\end{math}"
      ],
      "text/plain": [
       "-1/2*x*diff(z(x, y), y, y)/((x^2 + y)*y) + 1/2*x*diff(z(x, y), y)/((x^2 + y)*y^2) + 1/2*x*diff(z(x, y), y)/((x^2 + y)^2*y) + diff(z(x, y), x, y)"
      ]
     },
     "metadata": {},
     "output_type": "display_data"
    },
    {
     "data": {
      "text/html": [
       "<html><script type=\"math/tex; mode=display\">\\newcommand{\\Bold}[1]{\\mathbf{#1}}\\frac{x \\frac{\\partial}{\\partial y}z\\left(x, y\\right)}{y} + \\frac{\\frac{\\partial}{\\partial y}w\\left(x, y\\right)}{2 \\, y} - \\frac{x \\frac{\\partial^{2}}{\\partial x\\partial y}z\\left(x, y\\right)}{2 \\, {\\left(x^{2} + y\\right)} y} + \\frac{x^{2} \\frac{\\partial}{\\partial y}z\\left(x, y\\right)}{{\\left(x^{2} + y\\right)}^{2} y} - \\frac{w\\left(x, y\\right)}{2 \\, y^{2}} - \\frac{\\frac{\\partial}{\\partial y}z\\left(x, y\\right)}{2 \\, {\\left(x^{2} + y\\right)} y} + \\frac{\\partial^{2}}{\\partial x\\partial y}z\\left(x, y\\right)</script></html>"
      ],
      "text/latex": [
       "\\begin{math}\n",
       "\\newcommand{\\Bold}[1]{\\mathbf{#1}}\\frac{x \\frac{\\partial}{\\partial y}z\\left(x, y\\right)}{y} + \\frac{\\frac{\\partial}{\\partial y}w\\left(x, y\\right)}{2 \\, y} - \\frac{x \\frac{\\partial^{2}}{\\partial x\\partial y}z\\left(x, y\\right)}{2 \\, {\\left(x^{2} + y\\right)} y} + \\frac{x^{2} \\frac{\\partial}{\\partial y}z\\left(x, y\\right)}{{\\left(x^{2} + y\\right)}^{2} y} - \\frac{w\\left(x, y\\right)}{2 \\, y^{2}} - \\frac{\\frac{\\partial}{\\partial y}z\\left(x, y\\right)}{2 \\, {\\left(x^{2} + y\\right)} y} + \\frac{\\partial^{2}}{\\partial x\\partial y}z\\left(x, y\\right)\n",
       "\\end{math}"
      ],
      "text/plain": [
       "x*diff(z(x, y), y)/y + 1/2*diff(w(x, y), y)/y - 1/2*x*diff(z(x, y), x, y)/((x^2 + y)*y) + x^2*diff(z(x, y), y)/((x^2 + y)^2*y) - 1/2*w(x, y)/y^2 - 1/2*diff(z(x, y), y)/((x^2 + y)*y) + diff(z(x, y), x, y)"
      ]
     },
     "metadata": {},
     "output_type": "display_data"
    },
    {
     "data": {
      "text/html": [
       "<html><script type=\"math/tex; mode=display\">\\newcommand{\\Bold}[1]{\\mathbf{#1}}-\\frac{2 \\, x \\frac{\\partial^{2}}{(\\partial x)^{2}}z\\left(x, y\\right)}{y} - \\frac{x \\frac{\\partial}{\\partial x}w\\left(x, y\\right)}{y^{2}} + \\frac{\\frac{\\partial}{\\partial x}w\\left(x, y\\right)}{y} - \\frac{x \\frac{\\partial^{2}}{\\partial x\\partial y}z\\left(x, y\\right)}{2 \\, {\\left(x^{2} + y\\right)} y} + \\frac{x^{2} \\frac{\\partial}{\\partial y}z\\left(x, y\\right)}{{\\left(x^{2} + y\\right)}^{2} y} - \\frac{\\frac{\\partial}{\\partial y}z\\left(x, y\\right)}{2 \\, {\\left(x^{2} + y\\right)} y}</script></html>"
      ],
      "text/latex": [
       "\\begin{math}\n",
       "\\newcommand{\\Bold}[1]{\\mathbf{#1}}-\\frac{2 \\, x \\frac{\\partial^{2}}{(\\partial x)^{2}}z\\left(x, y\\right)}{y} - \\frac{x \\frac{\\partial}{\\partial x}w\\left(x, y\\right)}{y^{2}} + \\frac{\\frac{\\partial}{\\partial x}w\\left(x, y\\right)}{y} - \\frac{x \\frac{\\partial^{2}}{\\partial x\\partial y}z\\left(x, y\\right)}{2 \\, {\\left(x^{2} + y\\right)} y} + \\frac{x^{2} \\frac{\\partial}{\\partial y}z\\left(x, y\\right)}{{\\left(x^{2} + y\\right)}^{2} y} - \\frac{\\frac{\\partial}{\\partial y}z\\left(x, y\\right)}{2 \\, {\\left(x^{2} + y\\right)} y}\n",
       "\\end{math}"
      ],
      "text/plain": [
       "-2*x*diff(z(x, y), x, x)/y - x*diff(w(x, y), x)/y^2 + diff(w(x, y), x)/y - 1/2*x*diff(z(x, y), x, y)/((x^2 + y)*y) + x^2*diff(z(x, y), y)/((x^2 + y)^2*y) - 1/2*diff(z(x, y), y)/((x^2 + y)*y)"
      ]
     },
     "metadata": {},
     "output_type": "display_data"
    },
    {
     "name": "stdout",
     "output_type": "stream",
     "text": [
      "While\n"
     ]
    },
    {
     "data": {
      "text/html": [
       "<html><script type=\"math/tex; mode=display\">\\newcommand{\\Bold}[1]{\\mathbf{#1}}-\\frac{w\\left(x, y\\right)}{y} + \\frac{x \\frac{\\partial}{\\partial y}z\\left(x, y\\right)}{2 \\, {\\left(x^{2} + y\\right)} y} + \\frac{\\partial}{\\partial y}w\\left(x, y\\right)</script></html>"
      ],
      "text/latex": [
       "\\begin{math}\n",
       "\\newcommand{\\Bold}[1]{\\mathbf{#1}}-\\frac{w\\left(x, y\\right)}{y} + \\frac{x \\frac{\\partial}{\\partial y}z\\left(x, y\\right)}{2 \\, {\\left(x^{2} + y\\right)} y} + \\frac{\\partial}{\\partial y}w\\left(x, y\\right)\n",
       "\\end{math}"
      ],
      "text/plain": [
       "-w(x, y)/y + 1/2*x*diff(z(x, y), y)/((x^2 + y)*y) + diff(w(x, y), y)"
      ]
     },
     "metadata": {},
     "output_type": "display_data"
    },
    {
     "data": {
      "text/html": [
       "<html><script type=\"math/tex; mode=display\">\\newcommand{\\Bold}[1]{\\mathbf{#1}}-\\frac{y {\\left(\\frac{x \\frac{\\partial}{\\partial y}z\\left(x, y\\right)}{x^{2} y + y^{2}} - \\frac{2 \\, w\\left(x, y\\right)}{y} + 2 \\, \\frac{\\partial}{\\partial y}w\\left(x, y\\right)\\right)}}{2 \\, x} + \\frac{y \\frac{\\partial}{\\partial y}w\\left(x, y\\right)}{x} + \\frac{2 \\, y \\frac{\\partial}{\\partial x}z\\left(x, y\\right)}{x} + \\frac{2 \\, x^{2} w\\left(x, y\\right) - 2 \\, y^{2} \\frac{\\partial}{\\partial y}w\\left(x, y\\right) - 2 \\, {\\left(x^{2} \\frac{\\partial}{\\partial y}w\\left(x, y\\right) - w\\left(x, y\\right)\\right)} y - x \\frac{\\partial}{\\partial y}z\\left(x, y\\right)}{2 \\, {\\left(x^{3} + x y\\right)}} + \\frac{\\partial^{2}}{\\partial x\\partial y}z\\left(x, y\\right)</script></html>"
      ],
      "text/latex": [
       "\\begin{math}\n",
       "\\newcommand{\\Bold}[1]{\\mathbf{#1}}-\\frac{y {\\left(\\frac{x \\frac{\\partial}{\\partial y}z\\left(x, y\\right)}{x^{2} y + y^{2}} - \\frac{2 \\, w\\left(x, y\\right)}{y} + 2 \\, \\frac{\\partial}{\\partial y}w\\left(x, y\\right)\\right)}}{2 \\, x} + \\frac{y \\frac{\\partial}{\\partial y}w\\left(x, y\\right)}{x} + \\frac{2 \\, y \\frac{\\partial}{\\partial x}z\\left(x, y\\right)}{x} + \\frac{2 \\, x^{2} w\\left(x, y\\right) - 2 \\, y^{2} \\frac{\\partial}{\\partial y}w\\left(x, y\\right) - 2 \\, {\\left(x^{2} \\frac{\\partial}{\\partial y}w\\left(x, y\\right) - w\\left(x, y\\right)\\right)} y - x \\frac{\\partial}{\\partial y}z\\left(x, y\\right)}{2 \\, {\\left(x^{3} + x y\\right)}} + \\frac{\\partial^{2}}{\\partial x\\partial y}z\\left(x, y\\right)\n",
       "\\end{math}"
      ],
      "text/plain": [
       "-1/2*y*(x*diff(z(x, y), y)/(x^2*y + y^2) - 2*w(x, y)/y + 2*diff(w(x, y), y))/x + y*diff(w(x, y), y)/x + 2*y*diff(z(x, y), x)/x + 1/2*(2*x^2*w(x, y) - 2*y^2*diff(w(x, y), y) - 2*(x^2*diff(w(x, y), y) - w(x, y))*y - x*diff(z(x, y), y))/(x^3 + x*y) + diff(z(x, y), x, y)"
      ]
     },
     "metadata": {},
     "output_type": "display_data"
    },
    {
     "name": "stdout",
     "output_type": "stream",
     "text": [
      "Try to reduce r1 with r0\n",
      "--------------------------------------- entering reduce\n"
     ]
    },
    {
     "data": {
      "text/html": [
       "<html><script type=\"math/tex; mode=display\">\\newcommand{\\Bold}[1]{\\mathbf{#1}}-\\frac{y {\\left(\\frac{x \\frac{\\partial}{\\partial y}z\\left(x, y\\right)}{x^{2} y + y^{2}} - \\frac{2 \\, w\\left(x, y\\right)}{y} + 2 \\, \\frac{\\partial}{\\partial y}w\\left(x, y\\right)\\right)}}{2 \\, x} + \\frac{y \\frac{\\partial}{\\partial y}w\\left(x, y\\right)}{x} + \\frac{2 \\, y \\frac{\\partial}{\\partial x}z\\left(x, y\\right)}{x} + \\frac{2 \\, x^{2} w\\left(x, y\\right) - 2 \\, y^{2} \\frac{\\partial}{\\partial y}w\\left(x, y\\right) - 2 \\, {\\left(x^{2} \\frac{\\partial}{\\partial y}w\\left(x, y\\right) - w\\left(x, y\\right)\\right)} y - x \\frac{\\partial}{\\partial y}z\\left(x, y\\right)}{2 \\, {\\left(x^{3} + x y\\right)}} + \\frac{\\partial^{2}}{\\partial x\\partial y}z\\left(x, y\\right)</script></html>"
      ],
      "text/latex": [
       "\\begin{math}\n",
       "\\newcommand{\\Bold}[1]{\\mathbf{#1}}-\\frac{y {\\left(\\frac{x \\frac{\\partial}{\\partial y}z\\left(x, y\\right)}{x^{2} y + y^{2}} - \\frac{2 \\, w\\left(x, y\\right)}{y} + 2 \\, \\frac{\\partial}{\\partial y}w\\left(x, y\\right)\\right)}}{2 \\, x} + \\frac{y \\frac{\\partial}{\\partial y}w\\left(x, y\\right)}{x} + \\frac{2 \\, y \\frac{\\partial}{\\partial x}z\\left(x, y\\right)}{x} + \\frac{2 \\, x^{2} w\\left(x, y\\right) - 2 \\, y^{2} \\frac{\\partial}{\\partial y}w\\left(x, y\\right) - 2 \\, {\\left(x^{2} \\frac{\\partial}{\\partial y}w\\left(x, y\\right) - w\\left(x, y\\right)\\right)} y - x \\frac{\\partial}{\\partial y}z\\left(x, y\\right)}{2 \\, {\\left(x^{3} + x y\\right)}} + \\frac{\\partial^{2}}{\\partial x\\partial y}z\\left(x, y\\right)\n",
       "\\end{math}"
      ],
      "text/plain": [
       "-1/2*y*(x*diff(z(x, y), y)/(x^2*y + y^2) - 2*w(x, y)/y + 2*diff(w(x, y), y))/x + y*diff(w(x, y), y)/x + 2*y*diff(z(x, y), x)/x + 1/2*(2*x^2*w(x, y) - 2*y^2*diff(w(x, y), y) - 2*(x^2*diff(w(x, y), y) - w(x, y))*y - x*diff(z(x, y), y))/(x^3 + x*y) + diff(z(x, y), x, y)"
      ]
     },
     "metadata": {},
     "output_type": "display_data"
    },
    {
     "data": {
      "text/html": [
       "<html><script type=\"math/tex; mode=display\">\\newcommand{\\Bold}[1]{\\mathbf{#1}}-\\frac{w\\left(x, y\\right)}{y} + \\frac{x \\frac{\\partial}{\\partial y}z\\left(x, y\\right)}{2 \\, {\\left(x^{2} + y\\right)} y} + \\frac{\\partial}{\\partial y}w\\left(x, y\\right)</script></html>"
      ],
      "text/latex": [
       "\\begin{math}\n",
       "\\newcommand{\\Bold}[1]{\\mathbf{#1}}-\\frac{w\\left(x, y\\right)}{y} + \\frac{x \\frac{\\partial}{\\partial y}z\\left(x, y\\right)}{2 \\, {\\left(x^{2} + y\\right)} y} + \\frac{\\partial}{\\partial y}w\\left(x, y\\right)\n",
       "\\end{math}"
      ],
      "text/plain": [
       "-w(x, y)/y + 1/2*x*diff(z(x, y), y)/((x^2 + y)*y) + diff(w(x, y), y)"
      ]
     },
     "metadata": {},
     "output_type": "display_data"
    },
    {
     "name": "stdout",
     "output_type": "stream",
     "text": [
      "have reduced!\n"
     ]
    },
    {
     "data": {
      "text/html": [
       "<html><script type=\"math/tex; mode=display\">\\newcommand{\\Bold}[1]{\\mathbf{#1}}-\\frac{y {\\left(\\frac{x \\frac{\\partial}{\\partial y}z\\left(x, y\\right)}{x^{2} y + y^{2}} - \\frac{2 \\, w\\left(x, y\\right)}{y} + 2 \\, \\frac{\\partial}{\\partial y}w\\left(x, y\\right)\\right)}}{2 \\, x} + \\frac{y \\frac{\\partial}{\\partial y}w\\left(x, y\\right)}{x} + \\frac{2 \\, y \\frac{\\partial}{\\partial x}z\\left(x, y\\right)}{x} + \\frac{2 \\, x^{2} w\\left(x, y\\right) - 2 \\, y^{2} \\frac{\\partial}{\\partial y}w\\left(x, y\\right) - 2 \\, {\\left(x^{2} \\frac{\\partial}{\\partial y}w\\left(x, y\\right) - w\\left(x, y\\right)\\right)} y - x \\frac{\\partial}{\\partial y}z\\left(x, y\\right)}{x^{3} + x y} + \\frac{\\partial^{2}}{\\partial x\\partial y}z\\left(x, y\\right)</script></html>"
      ],
      "text/latex": [
       "\\begin{math}\n",
       "\\newcommand{\\Bold}[1]{\\mathbf{#1}}-\\frac{y {\\left(\\frac{x \\frac{\\partial}{\\partial y}z\\left(x, y\\right)}{x^{2} y + y^{2}} - \\frac{2 \\, w\\left(x, y\\right)}{y} + 2 \\, \\frac{\\partial}{\\partial y}w\\left(x, y\\right)\\right)}}{2 \\, x} + \\frac{y \\frac{\\partial}{\\partial y}w\\left(x, y\\right)}{x} + \\frac{2 \\, y \\frac{\\partial}{\\partial x}z\\left(x, y\\right)}{x} + \\frac{2 \\, x^{2} w\\left(x, y\\right) - 2 \\, y^{2} \\frac{\\partial}{\\partial y}w\\left(x, y\\right) - 2 \\, {\\left(x^{2} \\frac{\\partial}{\\partial y}w\\left(x, y\\right) - w\\left(x, y\\right)\\right)} y - x \\frac{\\partial}{\\partial y}z\\left(x, y\\right)}{x^{3} + x y} + \\frac{\\partial^{2}}{\\partial x\\partial y}z\\left(x, y\\right)\n",
       "\\end{math}"
      ],
      "text/plain": [
       "-1/2*y*(x*diff(z(x, y), y)/(x^2*y + y^2) - 2*w(x, y)/y + 2*diff(w(x, y), y))/x + y*diff(w(x, y), y)/x + 2*y*diff(z(x, y), x)/x + (2*x^2*w(x, y) - 2*y^2*diff(w(x, y), y) - 2*(x^2*diff(w(x, y), y) - w(x, y))*y - x*diff(z(x, y), y))/(x^3 + x*y) + diff(z(x, y), x, y)"
      ]
     },
     "metadata": {},
     "output_type": "display_data"
    },
    {
     "name": "stdout",
     "output_type": "stream",
     "text": [
      "1 * diff(z(x, y), x, y)\n",
      "y/x * diff(w(x, y), y)\n",
      "2*y/x * diff(z(x, y), x)\n",
      "3/2*(2*x^2*w(x, y) - 2*y^2*diff(w(x, y), y) - 2*(x^2*diff(w(x, y), y) - w(x, y))*y - x*diff(z(x, y), y))/(x^3 + x*y) * 1\n",
      "Try to reduce r2 with r0\n",
      "--------------------------------------- entering reduce\n"
     ]
    },
    {
     "data": {
      "text/html": [
       "<html><script type=\"math/tex; mode=display\">\\newcommand{\\Bold}[1]{\\mathbf{#1}}-\\frac{x \\frac{\\partial^{2}}{(\\partial y)^{2}}z\\left(x, y\\right)}{2 \\, {\\left(x^{2} + y\\right)} y} + \\frac{x \\frac{\\partial}{\\partial y}z\\left(x, y\\right)}{2 \\, {\\left(x^{2} + y\\right)} y^{2}} + \\frac{x \\frac{\\partial}{\\partial y}z\\left(x, y\\right)}{2 \\, {\\left(x^{2} + y\\right)}^{2} y} + \\frac{\\partial^{2}}{\\partial x\\partial y}z\\left(x, y\\right)</script></html>"
      ],
      "text/latex": [
       "\\begin{math}\n",
       "\\newcommand{\\Bold}[1]{\\mathbf{#1}}-\\frac{x \\frac{\\partial^{2}}{(\\partial y)^{2}}z\\left(x, y\\right)}{2 \\, {\\left(x^{2} + y\\right)} y} + \\frac{x \\frac{\\partial}{\\partial y}z\\left(x, y\\right)}{2 \\, {\\left(x^{2} + y\\right)} y^{2}} + \\frac{x \\frac{\\partial}{\\partial y}z\\left(x, y\\right)}{2 \\, {\\left(x^{2} + y\\right)}^{2} y} + \\frac{\\partial^{2}}{\\partial x\\partial y}z\\left(x, y\\right)\n",
       "\\end{math}"
      ],
      "text/plain": [
       "-1/2*x*diff(z(x, y), y, y)/((x^2 + y)*y) + 1/2*x*diff(z(x, y), y)/((x^2 + y)*y^2) + 1/2*x*diff(z(x, y), y)/((x^2 + y)^2*y) + diff(z(x, y), x, y)"
      ]
     },
     "metadata": {},
     "output_type": "display_data"
    },
    {
     "data": {
      "text/html": [
       "<html><script type=\"math/tex; mode=display\">\\newcommand{\\Bold}[1]{\\mathbf{#1}}-\\frac{w\\left(x, y\\right)}{y} + \\frac{x \\frac{\\partial}{\\partial y}z\\left(x, y\\right)}{2 \\, {\\left(x^{2} + y\\right)} y} + \\frac{\\partial}{\\partial y}w\\left(x, y\\right)</script></html>"
      ],
      "text/latex": [
       "\\begin{math}\n",
       "\\newcommand{\\Bold}[1]{\\mathbf{#1}}-\\frac{w\\left(x, y\\right)}{y} + \\frac{x \\frac{\\partial}{\\partial y}z\\left(x, y\\right)}{2 \\, {\\left(x^{2} + y\\right)} y} + \\frac{\\partial}{\\partial y}w\\left(x, y\\right)\n",
       "\\end{math}"
      ],
      "text/plain": [
       "-w(x, y)/y + 1/2*x*diff(z(x, y), y)/((x^2 + y)*y) + diff(w(x, y), y)"
      ]
     },
     "metadata": {},
     "output_type": "display_data"
    },
    {
     "name": "stdout",
     "output_type": "stream",
     "text": [
      "Try to reduce r3 with r0\n",
      "--------------------------------------- entering reduce\n"
     ]
    },
    {
     "data": {
      "text/html": [
       "<html><script type=\"math/tex; mode=display\">\\newcommand{\\Bold}[1]{\\mathbf{#1}}\\frac{x \\frac{\\partial}{\\partial y}z\\left(x, y\\right)}{y} + \\frac{\\frac{\\partial}{\\partial y}w\\left(x, y\\right)}{2 \\, y} - \\frac{x \\frac{\\partial^{2}}{\\partial x\\partial y}z\\left(x, y\\right)}{2 \\, {\\left(x^{2} + y\\right)} y} + \\frac{x^{2} \\frac{\\partial}{\\partial y}z\\left(x, y\\right)}{{\\left(x^{2} + y\\right)}^{2} y} - \\frac{w\\left(x, y\\right)}{2 \\, y^{2}} - \\frac{\\frac{\\partial}{\\partial y}z\\left(x, y\\right)}{2 \\, {\\left(x^{2} + y\\right)} y} + \\frac{\\partial^{2}}{\\partial x\\partial y}z\\left(x, y\\right)</script></html>"
      ],
      "text/latex": [
       "\\begin{math}\n",
       "\\newcommand{\\Bold}[1]{\\mathbf{#1}}\\frac{x \\frac{\\partial}{\\partial y}z\\left(x, y\\right)}{y} + \\frac{\\frac{\\partial}{\\partial y}w\\left(x, y\\right)}{2 \\, y} - \\frac{x \\frac{\\partial^{2}}{\\partial x\\partial y}z\\left(x, y\\right)}{2 \\, {\\left(x^{2} + y\\right)} y} + \\frac{x^{2} \\frac{\\partial}{\\partial y}z\\left(x, y\\right)}{{\\left(x^{2} + y\\right)}^{2} y} - \\frac{w\\left(x, y\\right)}{2 \\, y^{2}} - \\frac{\\frac{\\partial}{\\partial y}z\\left(x, y\\right)}{2 \\, {\\left(x^{2} + y\\right)} y} + \\frac{\\partial^{2}}{\\partial x\\partial y}z\\left(x, y\\right)\n",
       "\\end{math}"
      ],
      "text/plain": [
       "x*diff(z(x, y), y)/y + 1/2*diff(w(x, y), y)/y - 1/2*x*diff(z(x, y), x, y)/((x^2 + y)*y) + x^2*diff(z(x, y), y)/((x^2 + y)^2*y) - 1/2*w(x, y)/y^2 - 1/2*diff(z(x, y), y)/((x^2 + y)*y) + diff(z(x, y), x, y)"
      ]
     },
     "metadata": {},
     "output_type": "display_data"
    },
    {
     "data": {
      "text/html": [
       "<html><script type=\"math/tex; mode=display\">\\newcommand{\\Bold}[1]{\\mathbf{#1}}-\\frac{w\\left(x, y\\right)}{y} + \\frac{x \\frac{\\partial}{\\partial y}z\\left(x, y\\right)}{2 \\, {\\left(x^{2} + y\\right)} y} + \\frac{\\partial}{\\partial y}w\\left(x, y\\right)</script></html>"
      ],
      "text/latex": [
       "\\begin{math}\n",
       "\\newcommand{\\Bold}[1]{\\mathbf{#1}}-\\frac{w\\left(x, y\\right)}{y} + \\frac{x \\frac{\\partial}{\\partial y}z\\left(x, y\\right)}{2 \\, {\\left(x^{2} + y\\right)} y} + \\frac{\\partial}{\\partial y}w\\left(x, y\\right)\n",
       "\\end{math}"
      ],
      "text/plain": [
       "-w(x, y)/y + 1/2*x*diff(z(x, y), y)/((x^2 + y)*y) + diff(w(x, y), y)"
      ]
     },
     "metadata": {},
     "output_type": "display_data"
    },
    {
     "name": "stdout",
     "output_type": "stream",
     "text": [
      "Try to reduce r4 with r0\n",
      "--------------------------------------- entering reduce\n"
     ]
    },
    {
     "data": {
      "text/html": [
       "<html><script type=\"math/tex; mode=display\">\\newcommand{\\Bold}[1]{\\mathbf{#1}}-\\frac{2 \\, x \\frac{\\partial^{2}}{(\\partial x)^{2}}z\\left(x, y\\right)}{y} - \\frac{x \\frac{\\partial}{\\partial x}w\\left(x, y\\right)}{y^{2}} + \\frac{\\frac{\\partial}{\\partial x}w\\left(x, y\\right)}{y} - \\frac{x \\frac{\\partial^{2}}{\\partial x\\partial y}z\\left(x, y\\right)}{2 \\, {\\left(x^{2} + y\\right)} y} + \\frac{x^{2} \\frac{\\partial}{\\partial y}z\\left(x, y\\right)}{{\\left(x^{2} + y\\right)}^{2} y} - \\frac{\\frac{\\partial}{\\partial y}z\\left(x, y\\right)}{2 \\, {\\left(x^{2} + y\\right)} y}</script></html>"
      ],
      "text/latex": [
       "\\begin{math}\n",
       "\\newcommand{\\Bold}[1]{\\mathbf{#1}}-\\frac{2 \\, x \\frac{\\partial^{2}}{(\\partial x)^{2}}z\\left(x, y\\right)}{y} - \\frac{x \\frac{\\partial}{\\partial x}w\\left(x, y\\right)}{y^{2}} + \\frac{\\frac{\\partial}{\\partial x}w\\left(x, y\\right)}{y} - \\frac{x \\frac{\\partial^{2}}{\\partial x\\partial y}z\\left(x, y\\right)}{2 \\, {\\left(x^{2} + y\\right)} y} + \\frac{x^{2} \\frac{\\partial}{\\partial y}z\\left(x, y\\right)}{{\\left(x^{2} + y\\right)}^{2} y} - \\frac{\\frac{\\partial}{\\partial y}z\\left(x, y\\right)}{2 \\, {\\left(x^{2} + y\\right)} y}\n",
       "\\end{math}"
      ],
      "text/plain": [
       "-2*x*diff(z(x, y), x, x)/y - x*diff(w(x, y), x)/y^2 + diff(w(x, y), x)/y - 1/2*x*diff(z(x, y), x, y)/((x^2 + y)*y) + x^2*diff(z(x, y), y)/((x^2 + y)^2*y) - 1/2*diff(z(x, y), y)/((x^2 + y)*y)"
      ]
     },
     "metadata": {},
     "output_type": "display_data"
    },
    {
     "data": {
      "text/html": [
       "<html><script type=\"math/tex; mode=display\">\\newcommand{\\Bold}[1]{\\mathbf{#1}}-\\frac{w\\left(x, y\\right)}{y} + \\frac{x \\frac{\\partial}{\\partial y}z\\left(x, y\\right)}{2 \\, {\\left(x^{2} + y\\right)} y} + \\frac{\\partial}{\\partial y}w\\left(x, y\\right)</script></html>"
      ],
      "text/latex": [
       "\\begin{math}\n",
       "\\newcommand{\\Bold}[1]{\\mathbf{#1}}-\\frac{w\\left(x, y\\right)}{y} + \\frac{x \\frac{\\partial}{\\partial y}z\\left(x, y\\right)}{2 \\, {\\left(x^{2} + y\\right)} y} + \\frac{\\partial}{\\partial y}w\\left(x, y\\right)\n",
       "\\end{math}"
      ],
      "text/plain": [
       "-w(x, y)/y + 1/2*x*diff(z(x, y), y)/((x^2 + y)*y) + diff(w(x, y), y)"
      ]
     },
     "metadata": {},
     "output_type": "display_data"
    },
    {
     "name": "stdout",
     "output_type": "stream",
     "text": [
      "This is the new System........\n"
     ]
    },
    {
     "data": {
      "text/html": [
       "<html><script type=\"math/tex; mode=display\">\\newcommand{\\Bold}[1]{\\mathbf{#1}}-\\frac{w\\left(x, y\\right)}{y} + \\frac{x \\frac{\\partial}{\\partial y}z\\left(x, y\\right)}{2 \\, {\\left(x^{2} + y\\right)} y} + \\frac{\\partial}{\\partial y}w\\left(x, y\\right)</script></html>"
      ],
      "text/latex": [
       "\\begin{math}\n",
       "\\newcommand{\\Bold}[1]{\\mathbf{#1}}-\\frac{w\\left(x, y\\right)}{y} + \\frac{x \\frac{\\partial}{\\partial y}z\\left(x, y\\right)}{2 \\, {\\left(x^{2} + y\\right)} y} + \\frac{\\partial}{\\partial y}w\\left(x, y\\right)\n",
       "\\end{math}"
      ],
      "text/plain": [
       "-w(x, y)/y + 1/2*x*diff(z(x, y), y)/((x^2 + y)*y) + diff(w(x, y), y)"
      ]
     },
     "metadata": {},
     "output_type": "display_data"
    },
    {
     "data": {
      "text/html": [
       "<html><script type=\"math/tex; mode=display\">\\newcommand{\\Bold}[1]{\\mathbf{#1}}\\frac{x \\frac{\\partial}{\\partial y}z\\left(x, y\\right)}{y} + \\frac{\\frac{\\partial}{\\partial y}w\\left(x, y\\right)}{2 \\, y} - \\frac{x \\frac{\\partial^{2}}{\\partial x\\partial y}z\\left(x, y\\right)}{2 \\, {\\left(x^{2} + y\\right)} y} + \\frac{x^{2} \\frac{\\partial}{\\partial y}z\\left(x, y\\right)}{{\\left(x^{2} + y\\right)}^{2} y} - \\frac{w\\left(x, y\\right)}{2 \\, y^{2}} - \\frac{\\frac{\\partial}{\\partial y}z\\left(x, y\\right)}{2 \\, {\\left(x^{2} + y\\right)} y} + \\frac{\\partial^{2}}{\\partial x\\partial y}z\\left(x, y\\right)</script></html>"
      ],
      "text/latex": [
       "\\begin{math}\n",
       "\\newcommand{\\Bold}[1]{\\mathbf{#1}}\\frac{x \\frac{\\partial}{\\partial y}z\\left(x, y\\right)}{y} + \\frac{\\frac{\\partial}{\\partial y}w\\left(x, y\\right)}{2 \\, y} - \\frac{x \\frac{\\partial^{2}}{\\partial x\\partial y}z\\left(x, y\\right)}{2 \\, {\\left(x^{2} + y\\right)} y} + \\frac{x^{2} \\frac{\\partial}{\\partial y}z\\left(x, y\\right)}{{\\left(x^{2} + y\\right)}^{2} y} - \\frac{w\\left(x, y\\right)}{2 \\, y^{2}} - \\frac{\\frac{\\partial}{\\partial y}z\\left(x, y\\right)}{2 \\, {\\left(x^{2} + y\\right)} y} + \\frac{\\partial^{2}}{\\partial x\\partial y}z\\left(x, y\\right)\n",
       "\\end{math}"
      ],
      "text/plain": [
       "x*diff(z(x, y), y)/y + 1/2*diff(w(x, y), y)/y - 1/2*x*diff(z(x, y), x, y)/((x^2 + y)*y) + x^2*diff(z(x, y), y)/((x^2 + y)^2*y) - 1/2*w(x, y)/y^2 - 1/2*diff(z(x, y), y)/((x^2 + y)*y) + diff(z(x, y), x, y)"
      ]
     },
     "metadata": {},
     "output_type": "display_data"
    },
    {
     "data": {
      "text/html": [
       "<html><script type=\"math/tex; mode=display\">\\newcommand{\\Bold}[1]{\\mathbf{#1}}-\\frac{x \\frac{\\partial^{2}}{(\\partial y)^{2}}z\\left(x, y\\right)}{2 \\, {\\left(x^{2} + y\\right)} y} + \\frac{x \\frac{\\partial}{\\partial y}z\\left(x, y\\right)}{2 \\, {\\left(x^{2} + y\\right)} y^{2}} + \\frac{x \\frac{\\partial}{\\partial y}z\\left(x, y\\right)}{2 \\, {\\left(x^{2} + y\\right)}^{2} y} + \\frac{\\partial^{2}}{\\partial x\\partial y}z\\left(x, y\\right)</script></html>"
      ],
      "text/latex": [
       "\\begin{math}\n",
       "\\newcommand{\\Bold}[1]{\\mathbf{#1}}-\\frac{x \\frac{\\partial^{2}}{(\\partial y)^{2}}z\\left(x, y\\right)}{2 \\, {\\left(x^{2} + y\\right)} y} + \\frac{x \\frac{\\partial}{\\partial y}z\\left(x, y\\right)}{2 \\, {\\left(x^{2} + y\\right)} y^{2}} + \\frac{x \\frac{\\partial}{\\partial y}z\\left(x, y\\right)}{2 \\, {\\left(x^{2} + y\\right)}^{2} y} + \\frac{\\partial^{2}}{\\partial x\\partial y}z\\left(x, y\\right)\n",
       "\\end{math}"
      ],
      "text/plain": [
       "-1/2*x*diff(z(x, y), y, y)/((x^2 + y)*y) + 1/2*x*diff(z(x, y), y)/((x^2 + y)*y^2) + 1/2*x*diff(z(x, y), y)/((x^2 + y)^2*y) + diff(z(x, y), x, y)"
      ]
     },
     "metadata": {},
     "output_type": "display_data"
    },
    {
     "data": {
      "text/html": [
       "<html><script type=\"math/tex; mode=display\">\\newcommand{\\Bold}[1]{\\mathbf{#1}}-\\frac{y {\\left(\\frac{x \\frac{\\partial}{\\partial y}z\\left(x, y\\right)}{x^{2} y + y^{2}} - \\frac{2 \\, w\\left(x, y\\right)}{y} + 2 \\, \\frac{\\partial}{\\partial y}w\\left(x, y\\right)\\right)}}{2 \\, x} + \\frac{y \\frac{\\partial}{\\partial y}w\\left(x, y\\right)}{x} + \\frac{2 \\, y \\frac{\\partial}{\\partial x}z\\left(x, y\\right)}{x} + \\frac{2 \\, x^{2} w\\left(x, y\\right) - 2 \\, y^{2} \\frac{\\partial}{\\partial y}w\\left(x, y\\right) - 2 \\, {\\left(x^{2} \\frac{\\partial}{\\partial y}w\\left(x, y\\right) - w\\left(x, y\\right)\\right)} y - x \\frac{\\partial}{\\partial y}z\\left(x, y\\right)}{x^{3} + x y} + \\frac{\\partial^{2}}{\\partial x\\partial y}z\\left(x, y\\right)</script></html>"
      ],
      "text/latex": [
       "\\begin{math}\n",
       "\\newcommand{\\Bold}[1]{\\mathbf{#1}}-\\frac{y {\\left(\\frac{x \\frac{\\partial}{\\partial y}z\\left(x, y\\right)}{x^{2} y + y^{2}} - \\frac{2 \\, w\\left(x, y\\right)}{y} + 2 \\, \\frac{\\partial}{\\partial y}w\\left(x, y\\right)\\right)}}{2 \\, x} + \\frac{y \\frac{\\partial}{\\partial y}w\\left(x, y\\right)}{x} + \\frac{2 \\, y \\frac{\\partial}{\\partial x}z\\left(x, y\\right)}{x} + \\frac{2 \\, x^{2} w\\left(x, y\\right) - 2 \\, y^{2} \\frac{\\partial}{\\partial y}w\\left(x, y\\right) - 2 \\, {\\left(x^{2} \\frac{\\partial}{\\partial y}w\\left(x, y\\right) - w\\left(x, y\\right)\\right)} y - x \\frac{\\partial}{\\partial y}z\\left(x, y\\right)}{x^{3} + x y} + \\frac{\\partial^{2}}{\\partial x\\partial y}z\\left(x, y\\right)\n",
       "\\end{math}"
      ],
      "text/plain": [
       "-1/2*y*(x*diff(z(x, y), y)/(x^2*y + y^2) - 2*w(x, y)/y + 2*diff(w(x, y), y))/x + y*diff(w(x, y), y)/x + 2*y*diff(z(x, y), x)/x + (2*x^2*w(x, y) - 2*y^2*diff(w(x, y), y) - 2*(x^2*diff(w(x, y), y) - w(x, y))*y - x*diff(z(x, y), y))/(x^3 + x*y) + diff(z(x, y), x, y)"
      ]
     },
     "metadata": {},
     "output_type": "display_data"
    },
    {
     "data": {
      "text/html": [
       "<html><script type=\"math/tex; mode=display\">\\newcommand{\\Bold}[1]{\\mathbf{#1}}-\\frac{2 \\, x \\frac{\\partial^{2}}{(\\partial x)^{2}}z\\left(x, y\\right)}{y} - \\frac{x \\frac{\\partial}{\\partial x}w\\left(x, y\\right)}{y^{2}} + \\frac{\\frac{\\partial}{\\partial x}w\\left(x, y\\right)}{y} - \\frac{x \\frac{\\partial^{2}}{\\partial x\\partial y}z\\left(x, y\\right)}{2 \\, {\\left(x^{2} + y\\right)} y} + \\frac{x^{2} \\frac{\\partial}{\\partial y}z\\left(x, y\\right)}{{\\left(x^{2} + y\\right)}^{2} y} - \\frac{\\frac{\\partial}{\\partial y}z\\left(x, y\\right)}{2 \\, {\\left(x^{2} + y\\right)} y}</script></html>"
      ],
      "text/latex": [
       "\\begin{math}\n",
       "\\newcommand{\\Bold}[1]{\\mathbf{#1}}-\\frac{2 \\, x \\frac{\\partial^{2}}{(\\partial x)^{2}}z\\left(x, y\\right)}{y} - \\frac{x \\frac{\\partial}{\\partial x}w\\left(x, y\\right)}{y^{2}} + \\frac{\\frac{\\partial}{\\partial x}w\\left(x, y\\right)}{y} - \\frac{x \\frac{\\partial^{2}}{\\partial x\\partial y}z\\left(x, y\\right)}{2 \\, {\\left(x^{2} + y\\right)} y} + \\frac{x^{2} \\frac{\\partial}{\\partial y}z\\left(x, y\\right)}{{\\left(x^{2} + y\\right)}^{2} y} - \\frac{\\frac{\\partial}{\\partial y}z\\left(x, y\\right)}{2 \\, {\\left(x^{2} + y\\right)} y}\n",
       "\\end{math}"
      ],
      "text/plain": [
       "-2*x*diff(z(x, y), x, x)/y - x*diff(w(x, y), x)/y^2 + diff(w(x, y), x)/y - 1/2*x*diff(z(x, y), x, y)/((x^2 + y)*y) + x^2*diff(z(x, y), y)/((x^2 + y)^2*y) - 1/2*diff(z(x, y), y)/((x^2 + y)*y)"
      ]
     },
     "metadata": {},
     "output_type": "display_data"
    },
    {
     "name": "stdout",
     "output_type": "stream",
     "text": [
      "While\n"
     ]
    },
    {
     "data": {
      "text/html": [
       "<html><script type=\"math/tex; mode=display\">\\newcommand{\\Bold}[1]{\\mathbf{#1}}-\\frac{w\\left(x, y\\right)}{y} + \\frac{x \\frac{\\partial}{\\partial y}z\\left(x, y\\right)}{2 \\, {\\left(x^{2} + y\\right)} y} + \\frac{\\partial}{\\partial y}w\\left(x, y\\right)</script></html>"
      ],
      "text/latex": [
       "\\begin{math}\n",
       "\\newcommand{\\Bold}[1]{\\mathbf{#1}}-\\frac{w\\left(x, y\\right)}{y} + \\frac{x \\frac{\\partial}{\\partial y}z\\left(x, y\\right)}{2 \\, {\\left(x^{2} + y\\right)} y} + \\frac{\\partial}{\\partial y}w\\left(x, y\\right)\n",
       "\\end{math}"
      ],
      "text/plain": [
       "-w(x, y)/y + 1/2*x*diff(z(x, y), y)/((x^2 + y)*y) + diff(w(x, y), y)"
      ]
     },
     "metadata": {},
     "output_type": "display_data"
    },
    {
     "data": {
      "text/html": [
       "<html><script type=\"math/tex; mode=display\">\\newcommand{\\Bold}[1]{\\mathbf{#1}}\\frac{x \\frac{\\partial}{\\partial y}z\\left(x, y\\right)}{y} + \\frac{\\frac{\\partial}{\\partial y}w\\left(x, y\\right)}{2 \\, y} - \\frac{x \\frac{\\partial^{2}}{\\partial x\\partial y}z\\left(x, y\\right)}{2 \\, {\\left(x^{2} + y\\right)} y} + \\frac{x^{2} \\frac{\\partial}{\\partial y}z\\left(x, y\\right)}{{\\left(x^{2} + y\\right)}^{2} y} - \\frac{w\\left(x, y\\right)}{2 \\, y^{2}} - \\frac{\\frac{\\partial}{\\partial y}z\\left(x, y\\right)}{2 \\, {\\left(x^{2} + y\\right)} y} + \\frac{\\partial^{2}}{\\partial x\\partial y}z\\left(x, y\\right)</script></html>"
      ],
      "text/latex": [
       "\\begin{math}\n",
       "\\newcommand{\\Bold}[1]{\\mathbf{#1}}\\frac{x \\frac{\\partial}{\\partial y}z\\left(x, y\\right)}{y} + \\frac{\\frac{\\partial}{\\partial y}w\\left(x, y\\right)}{2 \\, y} - \\frac{x \\frac{\\partial^{2}}{\\partial x\\partial y}z\\left(x, y\\right)}{2 \\, {\\left(x^{2} + y\\right)} y} + \\frac{x^{2} \\frac{\\partial}{\\partial y}z\\left(x, y\\right)}{{\\left(x^{2} + y\\right)}^{2} y} - \\frac{w\\left(x, y\\right)}{2 \\, y^{2}} - \\frac{\\frac{\\partial}{\\partial y}z\\left(x, y\\right)}{2 \\, {\\left(x^{2} + y\\right)} y} + \\frac{\\partial^{2}}{\\partial x\\partial y}z\\left(x, y\\right)\n",
       "\\end{math}"
      ],
      "text/plain": [
       "x*diff(z(x, y), y)/y + 1/2*diff(w(x, y), y)/y - 1/2*x*diff(z(x, y), x, y)/((x^2 + y)*y) + x^2*diff(z(x, y), y)/((x^2 + y)^2*y) - 1/2*w(x, y)/y^2 - 1/2*diff(z(x, y), y)/((x^2 + y)*y) + diff(z(x, y), x, y)"
      ]
     },
     "metadata": {},
     "output_type": "display_data"
    },
    {
     "name": "stdout",
     "output_type": "stream",
     "text": [
      "Try to reduce r1 with r0\n",
      "--------------------------------------- entering reduce\n"
     ]
    },
    {
     "data": {
      "text/html": [
       "<html><script type=\"math/tex; mode=display\">\\newcommand{\\Bold}[1]{\\mathbf{#1}}\\frac{x \\frac{\\partial}{\\partial y}z\\left(x, y\\right)}{y} + \\frac{\\frac{\\partial}{\\partial y}w\\left(x, y\\right)}{2 \\, y} - \\frac{x \\frac{\\partial^{2}}{\\partial x\\partial y}z\\left(x, y\\right)}{2 \\, {\\left(x^{2} + y\\right)} y} + \\frac{x^{2} \\frac{\\partial}{\\partial y}z\\left(x, y\\right)}{{\\left(x^{2} + y\\right)}^{2} y} - \\frac{w\\left(x, y\\right)}{2 \\, y^{2}} - \\frac{\\frac{\\partial}{\\partial y}z\\left(x, y\\right)}{2 \\, {\\left(x^{2} + y\\right)} y} + \\frac{\\partial^{2}}{\\partial x\\partial y}z\\left(x, y\\right)</script></html>"
      ],
      "text/latex": [
       "\\begin{math}\n",
       "\\newcommand{\\Bold}[1]{\\mathbf{#1}}\\frac{x \\frac{\\partial}{\\partial y}z\\left(x, y\\right)}{y} + \\frac{\\frac{\\partial}{\\partial y}w\\left(x, y\\right)}{2 \\, y} - \\frac{x \\frac{\\partial^{2}}{\\partial x\\partial y}z\\left(x, y\\right)}{2 \\, {\\left(x^{2} + y\\right)} y} + \\frac{x^{2} \\frac{\\partial}{\\partial y}z\\left(x, y\\right)}{{\\left(x^{2} + y\\right)}^{2} y} - \\frac{w\\left(x, y\\right)}{2 \\, y^{2}} - \\frac{\\frac{\\partial}{\\partial y}z\\left(x, y\\right)}{2 \\, {\\left(x^{2} + y\\right)} y} + \\frac{\\partial^{2}}{\\partial x\\partial y}z\\left(x, y\\right)\n",
       "\\end{math}"
      ],
      "text/plain": [
       "x*diff(z(x, y), y)/y + 1/2*diff(w(x, y), y)/y - 1/2*x*diff(z(x, y), x, y)/((x^2 + y)*y) + x^2*diff(z(x, y), y)/((x^2 + y)^2*y) - 1/2*w(x, y)/y^2 - 1/2*diff(z(x, y), y)/((x^2 + y)*y) + diff(z(x, y), x, y)"
      ]
     },
     "metadata": {},
     "output_type": "display_data"
    },
    {
     "data": {
      "text/html": [
       "<html><script type=\"math/tex; mode=display\">\\newcommand{\\Bold}[1]{\\mathbf{#1}}-\\frac{w\\left(x, y\\right)}{y} + \\frac{x \\frac{\\partial}{\\partial y}z\\left(x, y\\right)}{2 \\, {\\left(x^{2} + y\\right)} y} + \\frac{\\partial}{\\partial y}w\\left(x, y\\right)</script></html>"
      ],
      "text/latex": [
       "\\begin{math}\n",
       "\\newcommand{\\Bold}[1]{\\mathbf{#1}}-\\frac{w\\left(x, y\\right)}{y} + \\frac{x \\frac{\\partial}{\\partial y}z\\left(x, y\\right)}{2 \\, {\\left(x^{2} + y\\right)} y} + \\frac{\\partial}{\\partial y}w\\left(x, y\\right)\n",
       "\\end{math}"
      ],
      "text/plain": [
       "-w(x, y)/y + 1/2*x*diff(z(x, y), y)/((x^2 + y)*y) + diff(w(x, y), y)"
      ]
     },
     "metadata": {},
     "output_type": "display_data"
    },
    {
     "name": "stdout",
     "output_type": "stream",
     "text": [
      "Try to reduce r2 with r0\n",
      "--------------------------------------- entering reduce\n"
     ]
    },
    {
     "data": {
      "text/html": [
       "<html><script type=\"math/tex; mode=display\">\\newcommand{\\Bold}[1]{\\mathbf{#1}}-\\frac{x \\frac{\\partial^{2}}{(\\partial y)^{2}}z\\left(x, y\\right)}{2 \\, {\\left(x^{2} + y\\right)} y} + \\frac{x \\frac{\\partial}{\\partial y}z\\left(x, y\\right)}{2 \\, {\\left(x^{2} + y\\right)} y^{2}} + \\frac{x \\frac{\\partial}{\\partial y}z\\left(x, y\\right)}{2 \\, {\\left(x^{2} + y\\right)}^{2} y} + \\frac{\\partial^{2}}{\\partial x\\partial y}z\\left(x, y\\right)</script></html>"
      ],
      "text/latex": [
       "\\begin{math}\n",
       "\\newcommand{\\Bold}[1]{\\mathbf{#1}}-\\frac{x \\frac{\\partial^{2}}{(\\partial y)^{2}}z\\left(x, y\\right)}{2 \\, {\\left(x^{2} + y\\right)} y} + \\frac{x \\frac{\\partial}{\\partial y}z\\left(x, y\\right)}{2 \\, {\\left(x^{2} + y\\right)} y^{2}} + \\frac{x \\frac{\\partial}{\\partial y}z\\left(x, y\\right)}{2 \\, {\\left(x^{2} + y\\right)}^{2} y} + \\frac{\\partial^{2}}{\\partial x\\partial y}z\\left(x, y\\right)\n",
       "\\end{math}"
      ],
      "text/plain": [
       "-1/2*x*diff(z(x, y), y, y)/((x^2 + y)*y) + 1/2*x*diff(z(x, y), y)/((x^2 + y)*y^2) + 1/2*x*diff(z(x, y), y)/((x^2 + y)^2*y) + diff(z(x, y), x, y)"
      ]
     },
     "metadata": {},
     "output_type": "display_data"
    },
    {
     "data": {
      "text/html": [
       "<html><script type=\"math/tex; mode=display\">\\newcommand{\\Bold}[1]{\\mathbf{#1}}-\\frac{w\\left(x, y\\right)}{y} + \\frac{x \\frac{\\partial}{\\partial y}z\\left(x, y\\right)}{2 \\, {\\left(x^{2} + y\\right)} y} + \\frac{\\partial}{\\partial y}w\\left(x, y\\right)</script></html>"
      ],
      "text/latex": [
       "\\begin{math}\n",
       "\\newcommand{\\Bold}[1]{\\mathbf{#1}}-\\frac{w\\left(x, y\\right)}{y} + \\frac{x \\frac{\\partial}{\\partial y}z\\left(x, y\\right)}{2 \\, {\\left(x^{2} + y\\right)} y} + \\frac{\\partial}{\\partial y}w\\left(x, y\\right)\n",
       "\\end{math}"
      ],
      "text/plain": [
       "-w(x, y)/y + 1/2*x*diff(z(x, y), y)/((x^2 + y)*y) + diff(w(x, y), y)"
      ]
     },
     "metadata": {},
     "output_type": "display_data"
    },
    {
     "name": "stdout",
     "output_type": "stream",
     "text": [
      "Try to reduce r3 with r0\n",
      "--------------------------------------- entering reduce\n"
     ]
    },
    {
     "data": {
      "text/html": [
       "<html><script type=\"math/tex; mode=display\">\\newcommand{\\Bold}[1]{\\mathbf{#1}}-\\frac{y {\\left(\\frac{x \\frac{\\partial}{\\partial y}z\\left(x, y\\right)}{x^{2} y + y^{2}} - \\frac{2 \\, w\\left(x, y\\right)}{y} + 2 \\, \\frac{\\partial}{\\partial y}w\\left(x, y\\right)\\right)}}{2 \\, x} + \\frac{y \\frac{\\partial}{\\partial y}w\\left(x, y\\right)}{x} + \\frac{2 \\, y \\frac{\\partial}{\\partial x}z\\left(x, y\\right)}{x} + \\frac{2 \\, x^{2} w\\left(x, y\\right) - 2 \\, y^{2} \\frac{\\partial}{\\partial y}w\\left(x, y\\right) - 2 \\, {\\left(x^{2} \\frac{\\partial}{\\partial y}w\\left(x, y\\right) - w\\left(x, y\\right)\\right)} y - x \\frac{\\partial}{\\partial y}z\\left(x, y\\right)}{x^{3} + x y} + \\frac{\\partial^{2}}{\\partial x\\partial y}z\\left(x, y\\right)</script></html>"
      ],
      "text/latex": [
       "\\begin{math}\n",
       "\\newcommand{\\Bold}[1]{\\mathbf{#1}}-\\frac{y {\\left(\\frac{x \\frac{\\partial}{\\partial y}z\\left(x, y\\right)}{x^{2} y + y^{2}} - \\frac{2 \\, w\\left(x, y\\right)}{y} + 2 \\, \\frac{\\partial}{\\partial y}w\\left(x, y\\right)\\right)}}{2 \\, x} + \\frac{y \\frac{\\partial}{\\partial y}w\\left(x, y\\right)}{x} + \\frac{2 \\, y \\frac{\\partial}{\\partial x}z\\left(x, y\\right)}{x} + \\frac{2 \\, x^{2} w\\left(x, y\\right) - 2 \\, y^{2} \\frac{\\partial}{\\partial y}w\\left(x, y\\right) - 2 \\, {\\left(x^{2} \\frac{\\partial}{\\partial y}w\\left(x, y\\right) - w\\left(x, y\\right)\\right)} y - x \\frac{\\partial}{\\partial y}z\\left(x, y\\right)}{x^{3} + x y} + \\frac{\\partial^{2}}{\\partial x\\partial y}z\\left(x, y\\right)\n",
       "\\end{math}"
      ],
      "text/plain": [
       "-1/2*y*(x*diff(z(x, y), y)/(x^2*y + y^2) - 2*w(x, y)/y + 2*diff(w(x, y), y))/x + y*diff(w(x, y), y)/x + 2*y*diff(z(x, y), x)/x + (2*x^2*w(x, y) - 2*y^2*diff(w(x, y), y) - 2*(x^2*diff(w(x, y), y) - w(x, y))*y - x*diff(z(x, y), y))/(x^3 + x*y) + diff(z(x, y), x, y)"
      ]
     },
     "metadata": {},
     "output_type": "display_data"
    },
    {
     "data": {
      "text/html": [
       "<html><script type=\"math/tex; mode=display\">\\newcommand{\\Bold}[1]{\\mathbf{#1}}-\\frac{w\\left(x, y\\right)}{y} + \\frac{x \\frac{\\partial}{\\partial y}z\\left(x, y\\right)}{2 \\, {\\left(x^{2} + y\\right)} y} + \\frac{\\partial}{\\partial y}w\\left(x, y\\right)</script></html>"
      ],
      "text/latex": [
       "\\begin{math}\n",
       "\\newcommand{\\Bold}[1]{\\mathbf{#1}}-\\frac{w\\left(x, y\\right)}{y} + \\frac{x \\frac{\\partial}{\\partial y}z\\left(x, y\\right)}{2 \\, {\\left(x^{2} + y\\right)} y} + \\frac{\\partial}{\\partial y}w\\left(x, y\\right)\n",
       "\\end{math}"
      ],
      "text/plain": [
       "-w(x, y)/y + 1/2*x*diff(z(x, y), y)/((x^2 + y)*y) + diff(w(x, y), y)"
      ]
     },
     "metadata": {},
     "output_type": "display_data"
    },
    {
     "name": "stdout",
     "output_type": "stream",
     "text": [
      "have reduced!\n"
     ]
    },
    {
     "data": {
      "text/html": [
       "<html><script type=\"math/tex; mode=display\">\\newcommand{\\Bold}[1]{\\mathbf{#1}}-\\frac{y {\\left(\\frac{x \\frac{\\partial}{\\partial y}z\\left(x, y\\right)}{x^{2} y + y^{2}} - \\frac{2 \\, w\\left(x, y\\right)}{y} + 2 \\, \\frac{\\partial}{\\partial y}w\\left(x, y\\right)\\right)}}{2 \\, x} + \\frac{y \\frac{\\partial}{\\partial y}w\\left(x, y\\right)}{x} + \\frac{2 \\, y \\frac{\\partial}{\\partial x}z\\left(x, y\\right)}{x} + \\frac{3 \\, {\\left(2 \\, x^{2} w\\left(x, y\\right) - 2 \\, y^{2} \\frac{\\partial}{\\partial y}w\\left(x, y\\right) - 2 \\, {\\left(x^{2} \\frac{\\partial}{\\partial y}w\\left(x, y\\right) - w\\left(x, y\\right)\\right)} y - x \\frac{\\partial}{\\partial y}z\\left(x, y\\right)\\right)}}{2 \\, {\\left(x^{3} + x y\\right)}} + \\frac{\\partial^{2}}{\\partial x\\partial y}z\\left(x, y\\right)</script></html>"
      ],
      "text/latex": [
       "\\begin{math}\n",
       "\\newcommand{\\Bold}[1]{\\mathbf{#1}}-\\frac{y {\\left(\\frac{x \\frac{\\partial}{\\partial y}z\\left(x, y\\right)}{x^{2} y + y^{2}} - \\frac{2 \\, w\\left(x, y\\right)}{y} + 2 \\, \\frac{\\partial}{\\partial y}w\\left(x, y\\right)\\right)}}{2 \\, x} + \\frac{y \\frac{\\partial}{\\partial y}w\\left(x, y\\right)}{x} + \\frac{2 \\, y \\frac{\\partial}{\\partial x}z\\left(x, y\\right)}{x} + \\frac{3 \\, {\\left(2 \\, x^{2} w\\left(x, y\\right) - 2 \\, y^{2} \\frac{\\partial}{\\partial y}w\\left(x, y\\right) - 2 \\, {\\left(x^{2} \\frac{\\partial}{\\partial y}w\\left(x, y\\right) - w\\left(x, y\\right)\\right)} y - x \\frac{\\partial}{\\partial y}z\\left(x, y\\right)\\right)}}{2 \\, {\\left(x^{3} + x y\\right)}} + \\frac{\\partial^{2}}{\\partial x\\partial y}z\\left(x, y\\right)\n",
       "\\end{math}"
      ],
      "text/plain": [
       "-1/2*y*(x*diff(z(x, y), y)/(x^2*y + y^2) - 2*w(x, y)/y + 2*diff(w(x, y), y))/x + y*diff(w(x, y), y)/x + 2*y*diff(z(x, y), x)/x + 3/2*(2*x^2*w(x, y) - 2*y^2*diff(w(x, y), y) - 2*(x^2*diff(w(x, y), y) - w(x, y))*y - x*diff(z(x, y), y))/(x^3 + x*y) + diff(z(x, y), x, y)"
      ]
     },
     "metadata": {},
     "output_type": "display_data"
    },
    {
     "name": "stdout",
     "output_type": "stream",
     "text": [
      "1 * diff(z(x, y), x, y)\n",
      "y/x * diff(w(x, y), y)\n",
      "2*y/x * diff(z(x, y), x)\n",
      "2*(2*x^2*w(x, y) - 2*y^2*diff(w(x, y), y) - 2*(x^2*diff(w(x, y), y) - w(x, y))*y - x*diff(z(x, y), y))/(x^3 + x*y) * 1\n",
      "Try to reduce r4 with r0\n",
      "--------------------------------------- entering reduce\n"
     ]
    },
    {
     "data": {
      "text/html": [
       "<html><script type=\"math/tex; mode=display\">\\newcommand{\\Bold}[1]{\\mathbf{#1}}-\\frac{2 \\, x \\frac{\\partial^{2}}{(\\partial x)^{2}}z\\left(x, y\\right)}{y} - \\frac{x \\frac{\\partial}{\\partial x}w\\left(x, y\\right)}{y^{2}} + \\frac{\\frac{\\partial}{\\partial x}w\\left(x, y\\right)}{y} - \\frac{x \\frac{\\partial^{2}}{\\partial x\\partial y}z\\left(x, y\\right)}{2 \\, {\\left(x^{2} + y\\right)} y} + \\frac{x^{2} \\frac{\\partial}{\\partial y}z\\left(x, y\\right)}{{\\left(x^{2} + y\\right)}^{2} y} - \\frac{\\frac{\\partial}{\\partial y}z\\left(x, y\\right)}{2 \\, {\\left(x^{2} + y\\right)} y}</script></html>"
      ],
      "text/latex": [
       "\\begin{math}\n",
       "\\newcommand{\\Bold}[1]{\\mathbf{#1}}-\\frac{2 \\, x \\frac{\\partial^{2}}{(\\partial x)^{2}}z\\left(x, y\\right)}{y} - \\frac{x \\frac{\\partial}{\\partial x}w\\left(x, y\\right)}{y^{2}} + \\frac{\\frac{\\partial}{\\partial x}w\\left(x, y\\right)}{y} - \\frac{x \\frac{\\partial^{2}}{\\partial x\\partial y}z\\left(x, y\\right)}{2 \\, {\\left(x^{2} + y\\right)} y} + \\frac{x^{2} \\frac{\\partial}{\\partial y}z\\left(x, y\\right)}{{\\left(x^{2} + y\\right)}^{2} y} - \\frac{\\frac{\\partial}{\\partial y}z\\left(x, y\\right)}{2 \\, {\\left(x^{2} + y\\right)} y}\n",
       "\\end{math}"
      ],
      "text/plain": [
       "-2*x*diff(z(x, y), x, x)/y - x*diff(w(x, y), x)/y^2 + diff(w(x, y), x)/y - 1/2*x*diff(z(x, y), x, y)/((x^2 + y)*y) + x^2*diff(z(x, y), y)/((x^2 + y)^2*y) - 1/2*diff(z(x, y), y)/((x^2 + y)*y)"
      ]
     },
     "metadata": {},
     "output_type": "display_data"
    },
    {
     "data": {
      "text/html": [
       "<html><script type=\"math/tex; mode=display\">\\newcommand{\\Bold}[1]{\\mathbf{#1}}-\\frac{w\\left(x, y\\right)}{y} + \\frac{x \\frac{\\partial}{\\partial y}z\\left(x, y\\right)}{2 \\, {\\left(x^{2} + y\\right)} y} + \\frac{\\partial}{\\partial y}w\\left(x, y\\right)</script></html>"
      ],
      "text/latex": [
       "\\begin{math}\n",
       "\\newcommand{\\Bold}[1]{\\mathbf{#1}}-\\frac{w\\left(x, y\\right)}{y} + \\frac{x \\frac{\\partial}{\\partial y}z\\left(x, y\\right)}{2 \\, {\\left(x^{2} + y\\right)} y} + \\frac{\\partial}{\\partial y}w\\left(x, y\\right)\n",
       "\\end{math}"
      ],
      "text/plain": [
       "-w(x, y)/y + 1/2*x*diff(z(x, y), y)/((x^2 + y)*y) + diff(w(x, y), y)"
      ]
     },
     "metadata": {},
     "output_type": "display_data"
    },
    {
     "name": "stdout",
     "output_type": "stream",
     "text": [
      "This is the new System........\n"
     ]
    },
    {
     "data": {
      "text/html": [
       "<html><script type=\"math/tex; mode=display\">\\newcommand{\\Bold}[1]{\\mathbf{#1}}-\\frac{w\\left(x, y\\right)}{y} + \\frac{x \\frac{\\partial}{\\partial y}z\\left(x, y\\right)}{2 \\, {\\left(x^{2} + y\\right)} y} + \\frac{\\partial}{\\partial y}w\\left(x, y\\right)</script></html>"
      ],
      "text/latex": [
       "\\begin{math}\n",
       "\\newcommand{\\Bold}[1]{\\mathbf{#1}}-\\frac{w\\left(x, y\\right)}{y} + \\frac{x \\frac{\\partial}{\\partial y}z\\left(x, y\\right)}{2 \\, {\\left(x^{2} + y\\right)} y} + \\frac{\\partial}{\\partial y}w\\left(x, y\\right)\n",
       "\\end{math}"
      ],
      "text/plain": [
       "-w(x, y)/y + 1/2*x*diff(z(x, y), y)/((x^2 + y)*y) + diff(w(x, y), y)"
      ]
     },
     "metadata": {},
     "output_type": "display_data"
    },
    {
     "data": {
      "text/html": [
       "<html><script type=\"math/tex; mode=display\">\\newcommand{\\Bold}[1]{\\mathbf{#1}}-\\frac{y {\\left(\\frac{x \\frac{\\partial}{\\partial y}z\\left(x, y\\right)}{x^{2} y + y^{2}} - \\frac{2 \\, w\\left(x, y\\right)}{y} + 2 \\, \\frac{\\partial}{\\partial y}w\\left(x, y\\right)\\right)}}{2 \\, x} + \\frac{y \\frac{\\partial}{\\partial y}w\\left(x, y\\right)}{x} + \\frac{2 \\, y \\frac{\\partial}{\\partial x}z\\left(x, y\\right)}{x} + \\frac{3 \\, {\\left(2 \\, x^{2} w\\left(x, y\\right) - 2 \\, y^{2} \\frac{\\partial}{\\partial y}w\\left(x, y\\right) - 2 \\, {\\left(x^{2} \\frac{\\partial}{\\partial y}w\\left(x, y\\right) - w\\left(x, y\\right)\\right)} y - x \\frac{\\partial}{\\partial y}z\\left(x, y\\right)\\right)}}{2 \\, {\\left(x^{3} + x y\\right)}} + \\frac{\\partial^{2}}{\\partial x\\partial y}z\\left(x, y\\right)</script></html>"
      ],
      "text/latex": [
       "\\begin{math}\n",
       "\\newcommand{\\Bold}[1]{\\mathbf{#1}}-\\frac{y {\\left(\\frac{x \\frac{\\partial}{\\partial y}z\\left(x, y\\right)}{x^{2} y + y^{2}} - \\frac{2 \\, w\\left(x, y\\right)}{y} + 2 \\, \\frac{\\partial}{\\partial y}w\\left(x, y\\right)\\right)}}{2 \\, x} + \\frac{y \\frac{\\partial}{\\partial y}w\\left(x, y\\right)}{x} + \\frac{2 \\, y \\frac{\\partial}{\\partial x}z\\left(x, y\\right)}{x} + \\frac{3 \\, {\\left(2 \\, x^{2} w\\left(x, y\\right) - 2 \\, y^{2} \\frac{\\partial}{\\partial y}w\\left(x, y\\right) - 2 \\, {\\left(x^{2} \\frac{\\partial}{\\partial y}w\\left(x, y\\right) - w\\left(x, y\\right)\\right)} y - x \\frac{\\partial}{\\partial y}z\\left(x, y\\right)\\right)}}{2 \\, {\\left(x^{3} + x y\\right)}} + \\frac{\\partial^{2}}{\\partial x\\partial y}z\\left(x, y\\right)\n",
       "\\end{math}"
      ],
      "text/plain": [
       "-1/2*y*(x*diff(z(x, y), y)/(x^2*y + y^2) - 2*w(x, y)/y + 2*diff(w(x, y), y))/x + y*diff(w(x, y), y)/x + 2*y*diff(z(x, y), x)/x + 3/2*(2*x^2*w(x, y) - 2*y^2*diff(w(x, y), y) - 2*(x^2*diff(w(x, y), y) - w(x, y))*y - x*diff(z(x, y), y))/(x^3 + x*y) + diff(z(x, y), x, y)"
      ]
     },
     "metadata": {},
     "output_type": "display_data"
    },
    {
     "data": {
      "text/html": [
       "<html><script type=\"math/tex; mode=display\">\\newcommand{\\Bold}[1]{\\mathbf{#1}}-\\frac{x \\frac{\\partial^{2}}{(\\partial y)^{2}}z\\left(x, y\\right)}{2 \\, {\\left(x^{2} + y\\right)} y} + \\frac{x \\frac{\\partial}{\\partial y}z\\left(x, y\\right)}{2 \\, {\\left(x^{2} + y\\right)} y^{2}} + \\frac{x \\frac{\\partial}{\\partial y}z\\left(x, y\\right)}{2 \\, {\\left(x^{2} + y\\right)}^{2} y} + \\frac{\\partial^{2}}{\\partial x\\partial y}z\\left(x, y\\right)</script></html>"
      ],
      "text/latex": [
       "\\begin{math}\n",
       "\\newcommand{\\Bold}[1]{\\mathbf{#1}}-\\frac{x \\frac{\\partial^{2}}{(\\partial y)^{2}}z\\left(x, y\\right)}{2 \\, {\\left(x^{2} + y\\right)} y} + \\frac{x \\frac{\\partial}{\\partial y}z\\left(x, y\\right)}{2 \\, {\\left(x^{2} + y\\right)} y^{2}} + \\frac{x \\frac{\\partial}{\\partial y}z\\left(x, y\\right)}{2 \\, {\\left(x^{2} + y\\right)}^{2} y} + \\frac{\\partial^{2}}{\\partial x\\partial y}z\\left(x, y\\right)\n",
       "\\end{math}"
      ],
      "text/plain": [
       "-1/2*x*diff(z(x, y), y, y)/((x^2 + y)*y) + 1/2*x*diff(z(x, y), y)/((x^2 + y)*y^2) + 1/2*x*diff(z(x, y), y)/((x^2 + y)^2*y) + diff(z(x, y), x, y)"
      ]
     },
     "metadata": {},
     "output_type": "display_data"
    },
    {
     "data": {
      "text/html": [
       "<html><script type=\"math/tex; mode=display\">\\newcommand{\\Bold}[1]{\\mathbf{#1}}\\frac{x \\frac{\\partial}{\\partial y}z\\left(x, y\\right)}{y} + \\frac{\\frac{\\partial}{\\partial y}w\\left(x, y\\right)}{2 \\, y} - \\frac{x \\frac{\\partial^{2}}{\\partial x\\partial y}z\\left(x, y\\right)}{2 \\, {\\left(x^{2} + y\\right)} y} + \\frac{x^{2} \\frac{\\partial}{\\partial y}z\\left(x, y\\right)}{{\\left(x^{2} + y\\right)}^{2} y} - \\frac{w\\left(x, y\\right)}{2 \\, y^{2}} - \\frac{\\frac{\\partial}{\\partial y}z\\left(x, y\\right)}{2 \\, {\\left(x^{2} + y\\right)} y} + \\frac{\\partial^{2}}{\\partial x\\partial y}z\\left(x, y\\right)</script></html>"
      ],
      "text/latex": [
       "\\begin{math}\n",
       "\\newcommand{\\Bold}[1]{\\mathbf{#1}}\\frac{x \\frac{\\partial}{\\partial y}z\\left(x, y\\right)}{y} + \\frac{\\frac{\\partial}{\\partial y}w\\left(x, y\\right)}{2 \\, y} - \\frac{x \\frac{\\partial^{2}}{\\partial x\\partial y}z\\left(x, y\\right)}{2 \\, {\\left(x^{2} + y\\right)} y} + \\frac{x^{2} \\frac{\\partial}{\\partial y}z\\left(x, y\\right)}{{\\left(x^{2} + y\\right)}^{2} y} - \\frac{w\\left(x, y\\right)}{2 \\, y^{2}} - \\frac{\\frac{\\partial}{\\partial y}z\\left(x, y\\right)}{2 \\, {\\left(x^{2} + y\\right)} y} + \\frac{\\partial^{2}}{\\partial x\\partial y}z\\left(x, y\\right)\n",
       "\\end{math}"
      ],
      "text/plain": [
       "x*diff(z(x, y), y)/y + 1/2*diff(w(x, y), y)/y - 1/2*x*diff(z(x, y), x, y)/((x^2 + y)*y) + x^2*diff(z(x, y), y)/((x^2 + y)^2*y) - 1/2*w(x, y)/y^2 - 1/2*diff(z(x, y), y)/((x^2 + y)*y) + diff(z(x, y), x, y)"
      ]
     },
     "metadata": {},
     "output_type": "display_data"
    },
    {
     "data": {
      "text/html": [
       "<html><script type=\"math/tex; mode=display\">\\newcommand{\\Bold}[1]{\\mathbf{#1}}-\\frac{2 \\, x \\frac{\\partial^{2}}{(\\partial x)^{2}}z\\left(x, y\\right)}{y} - \\frac{x \\frac{\\partial}{\\partial x}w\\left(x, y\\right)}{y^{2}} + \\frac{\\frac{\\partial}{\\partial x}w\\left(x, y\\right)}{y} - \\frac{x \\frac{\\partial^{2}}{\\partial x\\partial y}z\\left(x, y\\right)}{2 \\, {\\left(x^{2} + y\\right)} y} + \\frac{x^{2} \\frac{\\partial}{\\partial y}z\\left(x, y\\right)}{{\\left(x^{2} + y\\right)}^{2} y} - \\frac{\\frac{\\partial}{\\partial y}z\\left(x, y\\right)}{2 \\, {\\left(x^{2} + y\\right)} y}</script></html>"
      ],
      "text/latex": [
       "\\begin{math}\n",
       "\\newcommand{\\Bold}[1]{\\mathbf{#1}}-\\frac{2 \\, x \\frac{\\partial^{2}}{(\\partial x)^{2}}z\\left(x, y\\right)}{y} - \\frac{x \\frac{\\partial}{\\partial x}w\\left(x, y\\right)}{y^{2}} + \\frac{\\frac{\\partial}{\\partial x}w\\left(x, y\\right)}{y} - \\frac{x \\frac{\\partial^{2}}{\\partial x\\partial y}z\\left(x, y\\right)}{2 \\, {\\left(x^{2} + y\\right)} y} + \\frac{x^{2} \\frac{\\partial}{\\partial y}z\\left(x, y\\right)}{{\\left(x^{2} + y\\right)}^{2} y} - \\frac{\\frac{\\partial}{\\partial y}z\\left(x, y\\right)}{2 \\, {\\left(x^{2} + y\\right)} y}\n",
       "\\end{math}"
      ],
      "text/plain": [
       "-2*x*diff(z(x, y), x, x)/y - x*diff(w(x, y), x)/y^2 + diff(w(x, y), x)/y - 1/2*x*diff(z(x, y), x, y)/((x^2 + y)*y) + x^2*diff(z(x, y), y)/((x^2 + y)^2*y) - 1/2*diff(z(x, y), y)/((x^2 + y)*y)"
      ]
     },
     "metadata": {},
     "output_type": "display_data"
    },
    {
     "name": "stdout",
     "output_type": "stream",
     "text": [
      "While\n"
     ]
    },
    {
     "data": {
      "text/html": [
       "<html><script type=\"math/tex; mode=display\">\\newcommand{\\Bold}[1]{\\mathbf{#1}}-\\frac{w\\left(x, y\\right)}{y} + \\frac{x \\frac{\\partial}{\\partial y}z\\left(x, y\\right)}{2 \\, {\\left(x^{2} + y\\right)} y} + \\frac{\\partial}{\\partial y}w\\left(x, y\\right)</script></html>"
      ],
      "text/latex": [
       "\\begin{math}\n",
       "\\newcommand{\\Bold}[1]{\\mathbf{#1}}-\\frac{w\\left(x, y\\right)}{y} + \\frac{x \\frac{\\partial}{\\partial y}z\\left(x, y\\right)}{2 \\, {\\left(x^{2} + y\\right)} y} + \\frac{\\partial}{\\partial y}w\\left(x, y\\right)\n",
       "\\end{math}"
      ],
      "text/plain": [
       "-w(x, y)/y + 1/2*x*diff(z(x, y), y)/((x^2 + y)*y) + diff(w(x, y), y)"
      ]
     },
     "metadata": {},
     "output_type": "display_data"
    },
    {
     "data": {
      "text/html": [
       "<html><script type=\"math/tex; mode=display\">\\newcommand{\\Bold}[1]{\\mathbf{#1}}-\\frac{y {\\left(\\frac{x \\frac{\\partial}{\\partial y}z\\left(x, y\\right)}{x^{2} y + y^{2}} - \\frac{2 \\, w\\left(x, y\\right)}{y} + 2 \\, \\frac{\\partial}{\\partial y}w\\left(x, y\\right)\\right)}}{2 \\, x} + \\frac{y \\frac{\\partial}{\\partial y}w\\left(x, y\\right)}{x} + \\frac{2 \\, y \\frac{\\partial}{\\partial x}z\\left(x, y\\right)}{x} + \\frac{3 \\, {\\left(2 \\, x^{2} w\\left(x, y\\right) - 2 \\, y^{2} \\frac{\\partial}{\\partial y}w\\left(x, y\\right) - 2 \\, {\\left(x^{2} \\frac{\\partial}{\\partial y}w\\left(x, y\\right) - w\\left(x, y\\right)\\right)} y - x \\frac{\\partial}{\\partial y}z\\left(x, y\\right)\\right)}}{2 \\, {\\left(x^{3} + x y\\right)}} + \\frac{\\partial^{2}}{\\partial x\\partial y}z\\left(x, y\\right)</script></html>"
      ],
      "text/latex": [
       "\\begin{math}\n",
       "\\newcommand{\\Bold}[1]{\\mathbf{#1}}-\\frac{y {\\left(\\frac{x \\frac{\\partial}{\\partial y}z\\left(x, y\\right)}{x^{2} y + y^{2}} - \\frac{2 \\, w\\left(x, y\\right)}{y} + 2 \\, \\frac{\\partial}{\\partial y}w\\left(x, y\\right)\\right)}}{2 \\, x} + \\frac{y \\frac{\\partial}{\\partial y}w\\left(x, y\\right)}{x} + \\frac{2 \\, y \\frac{\\partial}{\\partial x}z\\left(x, y\\right)}{x} + \\frac{3 \\, {\\left(2 \\, x^{2} w\\left(x, y\\right) - 2 \\, y^{2} \\frac{\\partial}{\\partial y}w\\left(x, y\\right) - 2 \\, {\\left(x^{2} \\frac{\\partial}{\\partial y}w\\left(x, y\\right) - w\\left(x, y\\right)\\right)} y - x \\frac{\\partial}{\\partial y}z\\left(x, y\\right)\\right)}}{2 \\, {\\left(x^{3} + x y\\right)}} + \\frac{\\partial^{2}}{\\partial x\\partial y}z\\left(x, y\\right)\n",
       "\\end{math}"
      ],
      "text/plain": [
       "-1/2*y*(x*diff(z(x, y), y)/(x^2*y + y^2) - 2*w(x, y)/y + 2*diff(w(x, y), y))/x + y*diff(w(x, y), y)/x + 2*y*diff(z(x, y), x)/x + 3/2*(2*x^2*w(x, y) - 2*y^2*diff(w(x, y), y) - 2*(x^2*diff(w(x, y), y) - w(x, y))*y - x*diff(z(x, y), y))/(x^3 + x*y) + diff(z(x, y), x, y)"
      ]
     },
     "metadata": {},
     "output_type": "display_data"
    },
    {
     "name": "stdout",
     "output_type": "stream",
     "text": [
      "Try to reduce r1 with r0\n",
      "--------------------------------------- entering reduce\n"
     ]
    },
    {
     "data": {
      "text/html": [
       "<html><script type=\"math/tex; mode=display\">\\newcommand{\\Bold}[1]{\\mathbf{#1}}-\\frac{y {\\left(\\frac{x \\frac{\\partial}{\\partial y}z\\left(x, y\\right)}{x^{2} y + y^{2}} - \\frac{2 \\, w\\left(x, y\\right)}{y} + 2 \\, \\frac{\\partial}{\\partial y}w\\left(x, y\\right)\\right)}}{2 \\, x} + \\frac{y \\frac{\\partial}{\\partial y}w\\left(x, y\\right)}{x} + \\frac{2 \\, y \\frac{\\partial}{\\partial x}z\\left(x, y\\right)}{x} + \\frac{3 \\, {\\left(2 \\, x^{2} w\\left(x, y\\right) - 2 \\, y^{2} \\frac{\\partial}{\\partial y}w\\left(x, y\\right) - 2 \\, {\\left(x^{2} \\frac{\\partial}{\\partial y}w\\left(x, y\\right) - w\\left(x, y\\right)\\right)} y - x \\frac{\\partial}{\\partial y}z\\left(x, y\\right)\\right)}}{2 \\, {\\left(x^{3} + x y\\right)}} + \\frac{\\partial^{2}}{\\partial x\\partial y}z\\left(x, y\\right)</script></html>"
      ],
      "text/latex": [
       "\\begin{math}\n",
       "\\newcommand{\\Bold}[1]{\\mathbf{#1}}-\\frac{y {\\left(\\frac{x \\frac{\\partial}{\\partial y}z\\left(x, y\\right)}{x^{2} y + y^{2}} - \\frac{2 \\, w\\left(x, y\\right)}{y} + 2 \\, \\frac{\\partial}{\\partial y}w\\left(x, y\\right)\\right)}}{2 \\, x} + \\frac{y \\frac{\\partial}{\\partial y}w\\left(x, y\\right)}{x} + \\frac{2 \\, y \\frac{\\partial}{\\partial x}z\\left(x, y\\right)}{x} + \\frac{3 \\, {\\left(2 \\, x^{2} w\\left(x, y\\right) - 2 \\, y^{2} \\frac{\\partial}{\\partial y}w\\left(x, y\\right) - 2 \\, {\\left(x^{2} \\frac{\\partial}{\\partial y}w\\left(x, y\\right) - w\\left(x, y\\right)\\right)} y - x \\frac{\\partial}{\\partial y}z\\left(x, y\\right)\\right)}}{2 \\, {\\left(x^{3} + x y\\right)}} + \\frac{\\partial^{2}}{\\partial x\\partial y}z\\left(x, y\\right)\n",
       "\\end{math}"
      ],
      "text/plain": [
       "-1/2*y*(x*diff(z(x, y), y)/(x^2*y + y^2) - 2*w(x, y)/y + 2*diff(w(x, y), y))/x + y*diff(w(x, y), y)/x + 2*y*diff(z(x, y), x)/x + 3/2*(2*x^2*w(x, y) - 2*y^2*diff(w(x, y), y) - 2*(x^2*diff(w(x, y), y) - w(x, y))*y - x*diff(z(x, y), y))/(x^3 + x*y) + diff(z(x, y), x, y)"
      ]
     },
     "metadata": {},
     "output_type": "display_data"
    },
    {
     "data": {
      "text/html": [
       "<html><script type=\"math/tex; mode=display\">\\newcommand{\\Bold}[1]{\\mathbf{#1}}-\\frac{w\\left(x, y\\right)}{y} + \\frac{x \\frac{\\partial}{\\partial y}z\\left(x, y\\right)}{2 \\, {\\left(x^{2} + y\\right)} y} + \\frac{\\partial}{\\partial y}w\\left(x, y\\right)</script></html>"
      ],
      "text/latex": [
       "\\begin{math}\n",
       "\\newcommand{\\Bold}[1]{\\mathbf{#1}}-\\frac{w\\left(x, y\\right)}{y} + \\frac{x \\frac{\\partial}{\\partial y}z\\left(x, y\\right)}{2 \\, {\\left(x^{2} + y\\right)} y} + \\frac{\\partial}{\\partial y}w\\left(x, y\\right)\n",
       "\\end{math}"
      ],
      "text/plain": [
       "-w(x, y)/y + 1/2*x*diff(z(x, y), y)/((x^2 + y)*y) + diff(w(x, y), y)"
      ]
     },
     "metadata": {},
     "output_type": "display_data"
    },
    {
     "name": "stdout",
     "output_type": "stream",
     "text": [
      "have reduced!\n"
     ]
    },
    {
     "data": {
      "text/html": [
       "<html><script type=\"math/tex; mode=display\">\\newcommand{\\Bold}[1]{\\mathbf{#1}}-\\frac{y {\\left(\\frac{x \\frac{\\partial}{\\partial y}z\\left(x, y\\right)}{x^{2} y + y^{2}} - \\frac{2 \\, w\\left(x, y\\right)}{y} + 2 \\, \\frac{\\partial}{\\partial y}w\\left(x, y\\right)\\right)}}{2 \\, x} + \\frac{y \\frac{\\partial}{\\partial y}w\\left(x, y\\right)}{x} + \\frac{2 \\, y \\frac{\\partial}{\\partial x}z\\left(x, y\\right)}{x} + \\frac{2 \\, {\\left(2 \\, x^{2} w\\left(x, y\\right) - 2 \\, y^{2} \\frac{\\partial}{\\partial y}w\\left(x, y\\right) - 2 \\, {\\left(x^{2} \\frac{\\partial}{\\partial y}w\\left(x, y\\right) - w\\left(x, y\\right)\\right)} y - x \\frac{\\partial}{\\partial y}z\\left(x, y\\right)\\right)}}{x^{3} + x y} + \\frac{\\partial^{2}}{\\partial x\\partial y}z\\left(x, y\\right)</script></html>"
      ],
      "text/latex": [
       "\\begin{math}\n",
       "\\newcommand{\\Bold}[1]{\\mathbf{#1}}-\\frac{y {\\left(\\frac{x \\frac{\\partial}{\\partial y}z\\left(x, y\\right)}{x^{2} y + y^{2}} - \\frac{2 \\, w\\left(x, y\\right)}{y} + 2 \\, \\frac{\\partial}{\\partial y}w\\left(x, y\\right)\\right)}}{2 \\, x} + \\frac{y \\frac{\\partial}{\\partial y}w\\left(x, y\\right)}{x} + \\frac{2 \\, y \\frac{\\partial}{\\partial x}z\\left(x, y\\right)}{x} + \\frac{2 \\, {\\left(2 \\, x^{2} w\\left(x, y\\right) - 2 \\, y^{2} \\frac{\\partial}{\\partial y}w\\left(x, y\\right) - 2 \\, {\\left(x^{2} \\frac{\\partial}{\\partial y}w\\left(x, y\\right) - w\\left(x, y\\right)\\right)} y - x \\frac{\\partial}{\\partial y}z\\left(x, y\\right)\\right)}}{x^{3} + x y} + \\frac{\\partial^{2}}{\\partial x\\partial y}z\\left(x, y\\right)\n",
       "\\end{math}"
      ],
      "text/plain": [
       "-1/2*y*(x*diff(z(x, y), y)/(x^2*y + y^2) - 2*w(x, y)/y + 2*diff(w(x, y), y))/x + y*diff(w(x, y), y)/x + 2*y*diff(z(x, y), x)/x + 2*(2*x^2*w(x, y) - 2*y^2*diff(w(x, y), y) - 2*(x^2*diff(w(x, y), y) - w(x, y))*y - x*diff(z(x, y), y))/(x^3 + x*y) + diff(z(x, y), x, y)"
      ]
     },
     "metadata": {},
     "output_type": "display_data"
    },
    {
     "name": "stdout",
     "output_type": "stream",
     "text": [
      "1 * diff(z(x, y), x, y)\n",
      "y/x * diff(w(x, y), y)\n",
      "2*y/x * diff(z(x, y), x)\n",
      "5/2*(2*x^2*w(x, y) - 2*y^2*diff(w(x, y), y) - 2*(x^2*diff(w(x, y), y) - w(x, y))*y - x*diff(z(x, y), y))/(x^3 + x*y) * 1\n",
      "Try to reduce r2 with r0\n",
      "--------------------------------------- entering reduce\n"
     ]
    },
    {
     "data": {
      "text/html": [
       "<html><script type=\"math/tex; mode=display\">\\newcommand{\\Bold}[1]{\\mathbf{#1}}-\\frac{x \\frac{\\partial^{2}}{(\\partial y)^{2}}z\\left(x, y\\right)}{2 \\, {\\left(x^{2} + y\\right)} y} + \\frac{x \\frac{\\partial}{\\partial y}z\\left(x, y\\right)}{2 \\, {\\left(x^{2} + y\\right)} y^{2}} + \\frac{x \\frac{\\partial}{\\partial y}z\\left(x, y\\right)}{2 \\, {\\left(x^{2} + y\\right)}^{2} y} + \\frac{\\partial^{2}}{\\partial x\\partial y}z\\left(x, y\\right)</script></html>"
      ],
      "text/latex": [
       "\\begin{math}\n",
       "\\newcommand{\\Bold}[1]{\\mathbf{#1}}-\\frac{x \\frac{\\partial^{2}}{(\\partial y)^{2}}z\\left(x, y\\right)}{2 \\, {\\left(x^{2} + y\\right)} y} + \\frac{x \\frac{\\partial}{\\partial y}z\\left(x, y\\right)}{2 \\, {\\left(x^{2} + y\\right)} y^{2}} + \\frac{x \\frac{\\partial}{\\partial y}z\\left(x, y\\right)}{2 \\, {\\left(x^{2} + y\\right)}^{2} y} + \\frac{\\partial^{2}}{\\partial x\\partial y}z\\left(x, y\\right)\n",
       "\\end{math}"
      ],
      "text/plain": [
       "-1/2*x*diff(z(x, y), y, y)/((x^2 + y)*y) + 1/2*x*diff(z(x, y), y)/((x^2 + y)*y^2) + 1/2*x*diff(z(x, y), y)/((x^2 + y)^2*y) + diff(z(x, y), x, y)"
      ]
     },
     "metadata": {},
     "output_type": "display_data"
    },
    {
     "data": {
      "text/html": [
       "<html><script type=\"math/tex; mode=display\">\\newcommand{\\Bold}[1]{\\mathbf{#1}}-\\frac{w\\left(x, y\\right)}{y} + \\frac{x \\frac{\\partial}{\\partial y}z\\left(x, y\\right)}{2 \\, {\\left(x^{2} + y\\right)} y} + \\frac{\\partial}{\\partial y}w\\left(x, y\\right)</script></html>"
      ],
      "text/latex": [
       "\\begin{math}\n",
       "\\newcommand{\\Bold}[1]{\\mathbf{#1}}-\\frac{w\\left(x, y\\right)}{y} + \\frac{x \\frac{\\partial}{\\partial y}z\\left(x, y\\right)}{2 \\, {\\left(x^{2} + y\\right)} y} + \\frac{\\partial}{\\partial y}w\\left(x, y\\right)\n",
       "\\end{math}"
      ],
      "text/plain": [
       "-w(x, y)/y + 1/2*x*diff(z(x, y), y)/((x^2 + y)*y) + diff(w(x, y), y)"
      ]
     },
     "metadata": {},
     "output_type": "display_data"
    },
    {
     "name": "stdout",
     "output_type": "stream",
     "text": [
      "Try to reduce r3 with r0\n",
      "--------------------------------------- entering reduce\n"
     ]
    },
    {
     "data": {
      "text/html": [
       "<html><script type=\"math/tex; mode=display\">\\newcommand{\\Bold}[1]{\\mathbf{#1}}\\frac{x \\frac{\\partial}{\\partial y}z\\left(x, y\\right)}{y} + \\frac{\\frac{\\partial}{\\partial y}w\\left(x, y\\right)}{2 \\, y} - \\frac{x \\frac{\\partial^{2}}{\\partial x\\partial y}z\\left(x, y\\right)}{2 \\, {\\left(x^{2} + y\\right)} y} + \\frac{x^{2} \\frac{\\partial}{\\partial y}z\\left(x, y\\right)}{{\\left(x^{2} + y\\right)}^{2} y} - \\frac{w\\left(x, y\\right)}{2 \\, y^{2}} - \\frac{\\frac{\\partial}{\\partial y}z\\left(x, y\\right)}{2 \\, {\\left(x^{2} + y\\right)} y} + \\frac{\\partial^{2}}{\\partial x\\partial y}z\\left(x, y\\right)</script></html>"
      ],
      "text/latex": [
       "\\begin{math}\n",
       "\\newcommand{\\Bold}[1]{\\mathbf{#1}}\\frac{x \\frac{\\partial}{\\partial y}z\\left(x, y\\right)}{y} + \\frac{\\frac{\\partial}{\\partial y}w\\left(x, y\\right)}{2 \\, y} - \\frac{x \\frac{\\partial^{2}}{\\partial x\\partial y}z\\left(x, y\\right)}{2 \\, {\\left(x^{2} + y\\right)} y} + \\frac{x^{2} \\frac{\\partial}{\\partial y}z\\left(x, y\\right)}{{\\left(x^{2} + y\\right)}^{2} y} - \\frac{w\\left(x, y\\right)}{2 \\, y^{2}} - \\frac{\\frac{\\partial}{\\partial y}z\\left(x, y\\right)}{2 \\, {\\left(x^{2} + y\\right)} y} + \\frac{\\partial^{2}}{\\partial x\\partial y}z\\left(x, y\\right)\n",
       "\\end{math}"
      ],
      "text/plain": [
       "x*diff(z(x, y), y)/y + 1/2*diff(w(x, y), y)/y - 1/2*x*diff(z(x, y), x, y)/((x^2 + y)*y) + x^2*diff(z(x, y), y)/((x^2 + y)^2*y) - 1/2*w(x, y)/y^2 - 1/2*diff(z(x, y), y)/((x^2 + y)*y) + diff(z(x, y), x, y)"
      ]
     },
     "metadata": {},
     "output_type": "display_data"
    },
    {
     "data": {
      "text/html": [
       "<html><script type=\"math/tex; mode=display\">\\newcommand{\\Bold}[1]{\\mathbf{#1}}-\\frac{w\\left(x, y\\right)}{y} + \\frac{x \\frac{\\partial}{\\partial y}z\\left(x, y\\right)}{2 \\, {\\left(x^{2} + y\\right)} y} + \\frac{\\partial}{\\partial y}w\\left(x, y\\right)</script></html>"
      ],
      "text/latex": [
       "\\begin{math}\n",
       "\\newcommand{\\Bold}[1]{\\mathbf{#1}}-\\frac{w\\left(x, y\\right)}{y} + \\frac{x \\frac{\\partial}{\\partial y}z\\left(x, y\\right)}{2 \\, {\\left(x^{2} + y\\right)} y} + \\frac{\\partial}{\\partial y}w\\left(x, y\\right)\n",
       "\\end{math}"
      ],
      "text/plain": [
       "-w(x, y)/y + 1/2*x*diff(z(x, y), y)/((x^2 + y)*y) + diff(w(x, y), y)"
      ]
     },
     "metadata": {},
     "output_type": "display_data"
    },
    {
     "name": "stdout",
     "output_type": "stream",
     "text": [
      "Try to reduce r4 with r0\n",
      "--------------------------------------- entering reduce\n"
     ]
    },
    {
     "data": {
      "text/html": [
       "<html><script type=\"math/tex; mode=display\">\\newcommand{\\Bold}[1]{\\mathbf{#1}}-\\frac{2 \\, x \\frac{\\partial^{2}}{(\\partial x)^{2}}z\\left(x, y\\right)}{y} - \\frac{x \\frac{\\partial}{\\partial x}w\\left(x, y\\right)}{y^{2}} + \\frac{\\frac{\\partial}{\\partial x}w\\left(x, y\\right)}{y} - \\frac{x \\frac{\\partial^{2}}{\\partial x\\partial y}z\\left(x, y\\right)}{2 \\, {\\left(x^{2} + y\\right)} y} + \\frac{x^{2} \\frac{\\partial}{\\partial y}z\\left(x, y\\right)}{{\\left(x^{2} + y\\right)}^{2} y} - \\frac{\\frac{\\partial}{\\partial y}z\\left(x, y\\right)}{2 \\, {\\left(x^{2} + y\\right)} y}</script></html>"
      ],
      "text/latex": [
       "\\begin{math}\n",
       "\\newcommand{\\Bold}[1]{\\mathbf{#1}}-\\frac{2 \\, x \\frac{\\partial^{2}}{(\\partial x)^{2}}z\\left(x, y\\right)}{y} - \\frac{x \\frac{\\partial}{\\partial x}w\\left(x, y\\right)}{y^{2}} + \\frac{\\frac{\\partial}{\\partial x}w\\left(x, y\\right)}{y} - \\frac{x \\frac{\\partial^{2}}{\\partial x\\partial y}z\\left(x, y\\right)}{2 \\, {\\left(x^{2} + y\\right)} y} + \\frac{x^{2} \\frac{\\partial}{\\partial y}z\\left(x, y\\right)}{{\\left(x^{2} + y\\right)}^{2} y} - \\frac{\\frac{\\partial}{\\partial y}z\\left(x, y\\right)}{2 \\, {\\left(x^{2} + y\\right)} y}\n",
       "\\end{math}"
      ],
      "text/plain": [
       "-2*x*diff(z(x, y), x, x)/y - x*diff(w(x, y), x)/y^2 + diff(w(x, y), x)/y - 1/2*x*diff(z(x, y), x, y)/((x^2 + y)*y) + x^2*diff(z(x, y), y)/((x^2 + y)^2*y) - 1/2*diff(z(x, y), y)/((x^2 + y)*y)"
      ]
     },
     "metadata": {},
     "output_type": "display_data"
    },
    {
     "data": {
      "text/html": [
       "<html><script type=\"math/tex; mode=display\">\\newcommand{\\Bold}[1]{\\mathbf{#1}}-\\frac{w\\left(x, y\\right)}{y} + \\frac{x \\frac{\\partial}{\\partial y}z\\left(x, y\\right)}{2 \\, {\\left(x^{2} + y\\right)} y} + \\frac{\\partial}{\\partial y}w\\left(x, y\\right)</script></html>"
      ],
      "text/latex": [
       "\\begin{math}\n",
       "\\newcommand{\\Bold}[1]{\\mathbf{#1}}-\\frac{w\\left(x, y\\right)}{y} + \\frac{x \\frac{\\partial}{\\partial y}z\\left(x, y\\right)}{2 \\, {\\left(x^{2} + y\\right)} y} + \\frac{\\partial}{\\partial y}w\\left(x, y\\right)\n",
       "\\end{math}"
      ],
      "text/plain": [
       "-w(x, y)/y + 1/2*x*diff(z(x, y), y)/((x^2 + y)*y) + diff(w(x, y), y)"
      ]
     },
     "metadata": {},
     "output_type": "display_data"
    },
    {
     "name": "stdout",
     "output_type": "stream",
     "text": [
      "This is the new System........\n"
     ]
    },
    {
     "data": {
      "text/html": [
       "<html><script type=\"math/tex; mode=display\">\\newcommand{\\Bold}[1]{\\mathbf{#1}}-\\frac{w\\left(x, y\\right)}{y} + \\frac{x \\frac{\\partial}{\\partial y}z\\left(x, y\\right)}{2 \\, {\\left(x^{2} + y\\right)} y} + \\frac{\\partial}{\\partial y}w\\left(x, y\\right)</script></html>"
      ],
      "text/latex": [
       "\\begin{math}\n",
       "\\newcommand{\\Bold}[1]{\\mathbf{#1}}-\\frac{w\\left(x, y\\right)}{y} + \\frac{x \\frac{\\partial}{\\partial y}z\\left(x, y\\right)}{2 \\, {\\left(x^{2} + y\\right)} y} + \\frac{\\partial}{\\partial y}w\\left(x, y\\right)\n",
       "\\end{math}"
      ],
      "text/plain": [
       "-w(x, y)/y + 1/2*x*diff(z(x, y), y)/((x^2 + y)*y) + diff(w(x, y), y)"
      ]
     },
     "metadata": {},
     "output_type": "display_data"
    },
    {
     "data": {
      "text/html": [
       "<html><script type=\"math/tex; mode=display\">\\newcommand{\\Bold}[1]{\\mathbf{#1}}\\frac{x \\frac{\\partial}{\\partial y}z\\left(x, y\\right)}{y} + \\frac{\\frac{\\partial}{\\partial y}w\\left(x, y\\right)}{2 \\, y} - \\frac{x \\frac{\\partial^{2}}{\\partial x\\partial y}z\\left(x, y\\right)}{2 \\, {\\left(x^{2} + y\\right)} y} + \\frac{x^{2} \\frac{\\partial}{\\partial y}z\\left(x, y\\right)}{{\\left(x^{2} + y\\right)}^{2} y} - \\frac{w\\left(x, y\\right)}{2 \\, y^{2}} - \\frac{\\frac{\\partial}{\\partial y}z\\left(x, y\\right)}{2 \\, {\\left(x^{2} + y\\right)} y} + \\frac{\\partial^{2}}{\\partial x\\partial y}z\\left(x, y\\right)</script></html>"
      ],
      "text/latex": [
       "\\begin{math}\n",
       "\\newcommand{\\Bold}[1]{\\mathbf{#1}}\\frac{x \\frac{\\partial}{\\partial y}z\\left(x, y\\right)}{y} + \\frac{\\frac{\\partial}{\\partial y}w\\left(x, y\\right)}{2 \\, y} - \\frac{x \\frac{\\partial^{2}}{\\partial x\\partial y}z\\left(x, y\\right)}{2 \\, {\\left(x^{2} + y\\right)} y} + \\frac{x^{2} \\frac{\\partial}{\\partial y}z\\left(x, y\\right)}{{\\left(x^{2} + y\\right)}^{2} y} - \\frac{w\\left(x, y\\right)}{2 \\, y^{2}} - \\frac{\\frac{\\partial}{\\partial y}z\\left(x, y\\right)}{2 \\, {\\left(x^{2} + y\\right)} y} + \\frac{\\partial^{2}}{\\partial x\\partial y}z\\left(x, y\\right)\n",
       "\\end{math}"
      ],
      "text/plain": [
       "x*diff(z(x, y), y)/y + 1/2*diff(w(x, y), y)/y - 1/2*x*diff(z(x, y), x, y)/((x^2 + y)*y) + x^2*diff(z(x, y), y)/((x^2 + y)^2*y) - 1/2*w(x, y)/y^2 - 1/2*diff(z(x, y), y)/((x^2 + y)*y) + diff(z(x, y), x, y)"
      ]
     },
     "metadata": {},
     "output_type": "display_data"
    },
    {
     "data": {
      "text/html": [
       "<html><script type=\"math/tex; mode=display\">\\newcommand{\\Bold}[1]{\\mathbf{#1}}-\\frac{x \\frac{\\partial^{2}}{(\\partial y)^{2}}z\\left(x, y\\right)}{2 \\, {\\left(x^{2} + y\\right)} y} + \\frac{x \\frac{\\partial}{\\partial y}z\\left(x, y\\right)}{2 \\, {\\left(x^{2} + y\\right)} y^{2}} + \\frac{x \\frac{\\partial}{\\partial y}z\\left(x, y\\right)}{2 \\, {\\left(x^{2} + y\\right)}^{2} y} + \\frac{\\partial^{2}}{\\partial x\\partial y}z\\left(x, y\\right)</script></html>"
      ],
      "text/latex": [
       "\\begin{math}\n",
       "\\newcommand{\\Bold}[1]{\\mathbf{#1}}-\\frac{x \\frac{\\partial^{2}}{(\\partial y)^{2}}z\\left(x, y\\right)}{2 \\, {\\left(x^{2} + y\\right)} y} + \\frac{x \\frac{\\partial}{\\partial y}z\\left(x, y\\right)}{2 \\, {\\left(x^{2} + y\\right)} y^{2}} + \\frac{x \\frac{\\partial}{\\partial y}z\\left(x, y\\right)}{2 \\, {\\left(x^{2} + y\\right)}^{2} y} + \\frac{\\partial^{2}}{\\partial x\\partial y}z\\left(x, y\\right)\n",
       "\\end{math}"
      ],
      "text/plain": [
       "-1/2*x*diff(z(x, y), y, y)/((x^2 + y)*y) + 1/2*x*diff(z(x, y), y)/((x^2 + y)*y^2) + 1/2*x*diff(z(x, y), y)/((x^2 + y)^2*y) + diff(z(x, y), x, y)"
      ]
     },
     "metadata": {},
     "output_type": "display_data"
    },
    {
     "data": {
      "text/html": [
       "<html><script type=\"math/tex; mode=display\">\\newcommand{\\Bold}[1]{\\mathbf{#1}}-\\frac{y {\\left(\\frac{x \\frac{\\partial}{\\partial y}z\\left(x, y\\right)}{x^{2} y + y^{2}} - \\frac{2 \\, w\\left(x, y\\right)}{y} + 2 \\, \\frac{\\partial}{\\partial y}w\\left(x, y\\right)\\right)}}{2 \\, x} + \\frac{y \\frac{\\partial}{\\partial y}w\\left(x, y\\right)}{x} + \\frac{2 \\, y \\frac{\\partial}{\\partial x}z\\left(x, y\\right)}{x} + \\frac{2 \\, {\\left(2 \\, x^{2} w\\left(x, y\\right) - 2 \\, y^{2} \\frac{\\partial}{\\partial y}w\\left(x, y\\right) - 2 \\, {\\left(x^{2} \\frac{\\partial}{\\partial y}w\\left(x, y\\right) - w\\left(x, y\\right)\\right)} y - x \\frac{\\partial}{\\partial y}z\\left(x, y\\right)\\right)}}{x^{3} + x y} + \\frac{\\partial^{2}}{\\partial x\\partial y}z\\left(x, y\\right)</script></html>"
      ],
      "text/latex": [
       "\\begin{math}\n",
       "\\newcommand{\\Bold}[1]{\\mathbf{#1}}-\\frac{y {\\left(\\frac{x \\frac{\\partial}{\\partial y}z\\left(x, y\\right)}{x^{2} y + y^{2}} - \\frac{2 \\, w\\left(x, y\\right)}{y} + 2 \\, \\frac{\\partial}{\\partial y}w\\left(x, y\\right)\\right)}}{2 \\, x} + \\frac{y \\frac{\\partial}{\\partial y}w\\left(x, y\\right)}{x} + \\frac{2 \\, y \\frac{\\partial}{\\partial x}z\\left(x, y\\right)}{x} + \\frac{2 \\, {\\left(2 \\, x^{2} w\\left(x, y\\right) - 2 \\, y^{2} \\frac{\\partial}{\\partial y}w\\left(x, y\\right) - 2 \\, {\\left(x^{2} \\frac{\\partial}{\\partial y}w\\left(x, y\\right) - w\\left(x, y\\right)\\right)} y - x \\frac{\\partial}{\\partial y}z\\left(x, y\\right)\\right)}}{x^{3} + x y} + \\frac{\\partial^{2}}{\\partial x\\partial y}z\\left(x, y\\right)\n",
       "\\end{math}"
      ],
      "text/plain": [
       "-1/2*y*(x*diff(z(x, y), y)/(x^2*y + y^2) - 2*w(x, y)/y + 2*diff(w(x, y), y))/x + y*diff(w(x, y), y)/x + 2*y*diff(z(x, y), x)/x + 2*(2*x^2*w(x, y) - 2*y^2*diff(w(x, y), y) - 2*(x^2*diff(w(x, y), y) - w(x, y))*y - x*diff(z(x, y), y))/(x^3 + x*y) + diff(z(x, y), x, y)"
      ]
     },
     "metadata": {},
     "output_type": "display_data"
    },
    {
     "data": {
      "text/html": [
       "<html><script type=\"math/tex; mode=display\">\\newcommand{\\Bold}[1]{\\mathbf{#1}}-\\frac{2 \\, x \\frac{\\partial^{2}}{(\\partial x)^{2}}z\\left(x, y\\right)}{y} - \\frac{x \\frac{\\partial}{\\partial x}w\\left(x, y\\right)}{y^{2}} + \\frac{\\frac{\\partial}{\\partial x}w\\left(x, y\\right)}{y} - \\frac{x \\frac{\\partial^{2}}{\\partial x\\partial y}z\\left(x, y\\right)}{2 \\, {\\left(x^{2} + y\\right)} y} + \\frac{x^{2} \\frac{\\partial}{\\partial y}z\\left(x, y\\right)}{{\\left(x^{2} + y\\right)}^{2} y} - \\frac{\\frac{\\partial}{\\partial y}z\\left(x, y\\right)}{2 \\, {\\left(x^{2} + y\\right)} y}</script></html>"
      ],
      "text/latex": [
       "\\begin{math}\n",
       "\\newcommand{\\Bold}[1]{\\mathbf{#1}}-\\frac{2 \\, x \\frac{\\partial^{2}}{(\\partial x)^{2}}z\\left(x, y\\right)}{y} - \\frac{x \\frac{\\partial}{\\partial x}w\\left(x, y\\right)}{y^{2}} + \\frac{\\frac{\\partial}{\\partial x}w\\left(x, y\\right)}{y} - \\frac{x \\frac{\\partial^{2}}{\\partial x\\partial y}z\\left(x, y\\right)}{2 \\, {\\left(x^{2} + y\\right)} y} + \\frac{x^{2} \\frac{\\partial}{\\partial y}z\\left(x, y\\right)}{{\\left(x^{2} + y\\right)}^{2} y} - \\frac{\\frac{\\partial}{\\partial y}z\\left(x, y\\right)}{2 \\, {\\left(x^{2} + y\\right)} y}\n",
       "\\end{math}"
      ],
      "text/plain": [
       "-2*x*diff(z(x, y), x, x)/y - x*diff(w(x, y), x)/y^2 + diff(w(x, y), x)/y - 1/2*x*diff(z(x, y), x, y)/((x^2 + y)*y) + x^2*diff(z(x, y), y)/((x^2 + y)^2*y) - 1/2*diff(z(x, y), y)/((x^2 + y)*y)"
      ]
     },
     "metadata": {},
     "output_type": "display_data"
    },
    {
     "name": "stdout",
     "output_type": "stream",
     "text": [
      "While\n"
     ]
    },
    {
     "data": {
      "text/html": [
       "<html><script type=\"math/tex; mode=display\">\\newcommand{\\Bold}[1]{\\mathbf{#1}}-\\frac{w\\left(x, y\\right)}{y} + \\frac{x \\frac{\\partial}{\\partial y}z\\left(x, y\\right)}{2 \\, {\\left(x^{2} + y\\right)} y} + \\frac{\\partial}{\\partial y}w\\left(x, y\\right)</script></html>"
      ],
      "text/latex": [
       "\\begin{math}\n",
       "\\newcommand{\\Bold}[1]{\\mathbf{#1}}-\\frac{w\\left(x, y\\right)}{y} + \\frac{x \\frac{\\partial}{\\partial y}z\\left(x, y\\right)}{2 \\, {\\left(x^{2} + y\\right)} y} + \\frac{\\partial}{\\partial y}w\\left(x, y\\right)\n",
       "\\end{math}"
      ],
      "text/plain": [
       "-w(x, y)/y + 1/2*x*diff(z(x, y), y)/((x^2 + y)*y) + diff(w(x, y), y)"
      ]
     },
     "metadata": {},
     "output_type": "display_data"
    },
    {
     "data": {
      "text/html": [
       "<html><script type=\"math/tex; mode=display\">\\newcommand{\\Bold}[1]{\\mathbf{#1}}\\frac{x \\frac{\\partial}{\\partial y}z\\left(x, y\\right)}{y} + \\frac{\\frac{\\partial}{\\partial y}w\\left(x, y\\right)}{2 \\, y} - \\frac{x \\frac{\\partial^{2}}{\\partial x\\partial y}z\\left(x, y\\right)}{2 \\, {\\left(x^{2} + y\\right)} y} + \\frac{x^{2} \\frac{\\partial}{\\partial y}z\\left(x, y\\right)}{{\\left(x^{2} + y\\right)}^{2} y} - \\frac{w\\left(x, y\\right)}{2 \\, y^{2}} - \\frac{\\frac{\\partial}{\\partial y}z\\left(x, y\\right)}{2 \\, {\\left(x^{2} + y\\right)} y} + \\frac{\\partial^{2}}{\\partial x\\partial y}z\\left(x, y\\right)</script></html>"
      ],
      "text/latex": [
       "\\begin{math}\n",
       "\\newcommand{\\Bold}[1]{\\mathbf{#1}}\\frac{x \\frac{\\partial}{\\partial y}z\\left(x, y\\right)}{y} + \\frac{\\frac{\\partial}{\\partial y}w\\left(x, y\\right)}{2 \\, y} - \\frac{x \\frac{\\partial^{2}}{\\partial x\\partial y}z\\left(x, y\\right)}{2 \\, {\\left(x^{2} + y\\right)} y} + \\frac{x^{2} \\frac{\\partial}{\\partial y}z\\left(x, y\\right)}{{\\left(x^{2} + y\\right)}^{2} y} - \\frac{w\\left(x, y\\right)}{2 \\, y^{2}} - \\frac{\\frac{\\partial}{\\partial y}z\\left(x, y\\right)}{2 \\, {\\left(x^{2} + y\\right)} y} + \\frac{\\partial^{2}}{\\partial x\\partial y}z\\left(x, y\\right)\n",
       "\\end{math}"
      ],
      "text/plain": [
       "x*diff(z(x, y), y)/y + 1/2*diff(w(x, y), y)/y - 1/2*x*diff(z(x, y), x, y)/((x^2 + y)*y) + x^2*diff(z(x, y), y)/((x^2 + y)^2*y) - 1/2*w(x, y)/y^2 - 1/2*diff(z(x, y), y)/((x^2 + y)*y) + diff(z(x, y), x, y)"
      ]
     },
     "metadata": {},
     "output_type": "display_data"
    },
    {
     "name": "stdout",
     "output_type": "stream",
     "text": [
      "Try to reduce r1 with r0\n",
      "--------------------------------------- entering reduce\n"
     ]
    },
    {
     "data": {
      "text/html": [
       "<html><script type=\"math/tex; mode=display\">\\newcommand{\\Bold}[1]{\\mathbf{#1}}\\frac{x \\frac{\\partial}{\\partial y}z\\left(x, y\\right)}{y} + \\frac{\\frac{\\partial}{\\partial y}w\\left(x, y\\right)}{2 \\, y} - \\frac{x \\frac{\\partial^{2}}{\\partial x\\partial y}z\\left(x, y\\right)}{2 \\, {\\left(x^{2} + y\\right)} y} + \\frac{x^{2} \\frac{\\partial}{\\partial y}z\\left(x, y\\right)}{{\\left(x^{2} + y\\right)}^{2} y} - \\frac{w\\left(x, y\\right)}{2 \\, y^{2}} - \\frac{\\frac{\\partial}{\\partial y}z\\left(x, y\\right)}{2 \\, {\\left(x^{2} + y\\right)} y} + \\frac{\\partial^{2}}{\\partial x\\partial y}z\\left(x, y\\right)</script></html>"
      ],
      "text/latex": [
       "\\begin{math}\n",
       "\\newcommand{\\Bold}[1]{\\mathbf{#1}}\\frac{x \\frac{\\partial}{\\partial y}z\\left(x, y\\right)}{y} + \\frac{\\frac{\\partial}{\\partial y}w\\left(x, y\\right)}{2 \\, y} - \\frac{x \\frac{\\partial^{2}}{\\partial x\\partial y}z\\left(x, y\\right)}{2 \\, {\\left(x^{2} + y\\right)} y} + \\frac{x^{2} \\frac{\\partial}{\\partial y}z\\left(x, y\\right)}{{\\left(x^{2} + y\\right)}^{2} y} - \\frac{w\\left(x, y\\right)}{2 \\, y^{2}} - \\frac{\\frac{\\partial}{\\partial y}z\\left(x, y\\right)}{2 \\, {\\left(x^{2} + y\\right)} y} + \\frac{\\partial^{2}}{\\partial x\\partial y}z\\left(x, y\\right)\n",
       "\\end{math}"
      ],
      "text/plain": [
       "x*diff(z(x, y), y)/y + 1/2*diff(w(x, y), y)/y - 1/2*x*diff(z(x, y), x, y)/((x^2 + y)*y) + x^2*diff(z(x, y), y)/((x^2 + y)^2*y) - 1/2*w(x, y)/y^2 - 1/2*diff(z(x, y), y)/((x^2 + y)*y) + diff(z(x, y), x, y)"
      ]
     },
     "metadata": {},
     "output_type": "display_data"
    },
    {
     "data": {
      "text/html": [
       "<html><script type=\"math/tex; mode=display\">\\newcommand{\\Bold}[1]{\\mathbf{#1}}-\\frac{w\\left(x, y\\right)}{y} + \\frac{x \\frac{\\partial}{\\partial y}z\\left(x, y\\right)}{2 \\, {\\left(x^{2} + y\\right)} y} + \\frac{\\partial}{\\partial y}w\\left(x, y\\right)</script></html>"
      ],
      "text/latex": [
       "\\begin{math}\n",
       "\\newcommand{\\Bold}[1]{\\mathbf{#1}}-\\frac{w\\left(x, y\\right)}{y} + \\frac{x \\frac{\\partial}{\\partial y}z\\left(x, y\\right)}{2 \\, {\\left(x^{2} + y\\right)} y} + \\frac{\\partial}{\\partial y}w\\left(x, y\\right)\n",
       "\\end{math}"
      ],
      "text/plain": [
       "-w(x, y)/y + 1/2*x*diff(z(x, y), y)/((x^2 + y)*y) + diff(w(x, y), y)"
      ]
     },
     "metadata": {},
     "output_type": "display_data"
    },
    {
     "name": "stdout",
     "output_type": "stream",
     "text": [
      "Try to reduce r2 with r0\n",
      "--------------------------------------- entering reduce\n"
     ]
    },
    {
     "data": {
      "text/html": [
       "<html><script type=\"math/tex; mode=display\">\\newcommand{\\Bold}[1]{\\mathbf{#1}}-\\frac{x \\frac{\\partial^{2}}{(\\partial y)^{2}}z\\left(x, y\\right)}{2 \\, {\\left(x^{2} + y\\right)} y} + \\frac{x \\frac{\\partial}{\\partial y}z\\left(x, y\\right)}{2 \\, {\\left(x^{2} + y\\right)} y^{2}} + \\frac{x \\frac{\\partial}{\\partial y}z\\left(x, y\\right)}{2 \\, {\\left(x^{2} + y\\right)}^{2} y} + \\frac{\\partial^{2}}{\\partial x\\partial y}z\\left(x, y\\right)</script></html>"
      ],
      "text/latex": [
       "\\begin{math}\n",
       "\\newcommand{\\Bold}[1]{\\mathbf{#1}}-\\frac{x \\frac{\\partial^{2}}{(\\partial y)^{2}}z\\left(x, y\\right)}{2 \\, {\\left(x^{2} + y\\right)} y} + \\frac{x \\frac{\\partial}{\\partial y}z\\left(x, y\\right)}{2 \\, {\\left(x^{2} + y\\right)} y^{2}} + \\frac{x \\frac{\\partial}{\\partial y}z\\left(x, y\\right)}{2 \\, {\\left(x^{2} + y\\right)}^{2} y} + \\frac{\\partial^{2}}{\\partial x\\partial y}z\\left(x, y\\right)\n",
       "\\end{math}"
      ],
      "text/plain": [
       "-1/2*x*diff(z(x, y), y, y)/((x^2 + y)*y) + 1/2*x*diff(z(x, y), y)/((x^2 + y)*y^2) + 1/2*x*diff(z(x, y), y)/((x^2 + y)^2*y) + diff(z(x, y), x, y)"
      ]
     },
     "metadata": {},
     "output_type": "display_data"
    },
    {
     "data": {
      "text/html": [
       "<html><script type=\"math/tex; mode=display\">\\newcommand{\\Bold}[1]{\\mathbf{#1}}-\\frac{w\\left(x, y\\right)}{y} + \\frac{x \\frac{\\partial}{\\partial y}z\\left(x, y\\right)}{2 \\, {\\left(x^{2} + y\\right)} y} + \\frac{\\partial}{\\partial y}w\\left(x, y\\right)</script></html>"
      ],
      "text/latex": [
       "\\begin{math}\n",
       "\\newcommand{\\Bold}[1]{\\mathbf{#1}}-\\frac{w\\left(x, y\\right)}{y} + \\frac{x \\frac{\\partial}{\\partial y}z\\left(x, y\\right)}{2 \\, {\\left(x^{2} + y\\right)} y} + \\frac{\\partial}{\\partial y}w\\left(x, y\\right)\n",
       "\\end{math}"
      ],
      "text/plain": [
       "-w(x, y)/y + 1/2*x*diff(z(x, y), y)/((x^2 + y)*y) + diff(w(x, y), y)"
      ]
     },
     "metadata": {},
     "output_type": "display_data"
    },
    {
     "name": "stdout",
     "output_type": "stream",
     "text": [
      "Try to reduce r3 with r0\n",
      "--------------------------------------- entering reduce\n"
     ]
    },
    {
     "data": {
      "text/html": [
       "<html><script type=\"math/tex; mode=display\">\\newcommand{\\Bold}[1]{\\mathbf{#1}}-\\frac{y {\\left(\\frac{x \\frac{\\partial}{\\partial y}z\\left(x, y\\right)}{x^{2} y + y^{2}} - \\frac{2 \\, w\\left(x, y\\right)}{y} + 2 \\, \\frac{\\partial}{\\partial y}w\\left(x, y\\right)\\right)}}{2 \\, x} + \\frac{y \\frac{\\partial}{\\partial y}w\\left(x, y\\right)}{x} + \\frac{2 \\, y \\frac{\\partial}{\\partial x}z\\left(x, y\\right)}{x} + \\frac{2 \\, {\\left(2 \\, x^{2} w\\left(x, y\\right) - 2 \\, y^{2} \\frac{\\partial}{\\partial y}w\\left(x, y\\right) - 2 \\, {\\left(x^{2} \\frac{\\partial}{\\partial y}w\\left(x, y\\right) - w\\left(x, y\\right)\\right)} y - x \\frac{\\partial}{\\partial y}z\\left(x, y\\right)\\right)}}{x^{3} + x y} + \\frac{\\partial^{2}}{\\partial x\\partial y}z\\left(x, y\\right)</script></html>"
      ],
      "text/latex": [
       "\\begin{math}\n",
       "\\newcommand{\\Bold}[1]{\\mathbf{#1}}-\\frac{y {\\left(\\frac{x \\frac{\\partial}{\\partial y}z\\left(x, y\\right)}{x^{2} y + y^{2}} - \\frac{2 \\, w\\left(x, y\\right)}{y} + 2 \\, \\frac{\\partial}{\\partial y}w\\left(x, y\\right)\\right)}}{2 \\, x} + \\frac{y \\frac{\\partial}{\\partial y}w\\left(x, y\\right)}{x} + \\frac{2 \\, y \\frac{\\partial}{\\partial x}z\\left(x, y\\right)}{x} + \\frac{2 \\, {\\left(2 \\, x^{2} w\\left(x, y\\right) - 2 \\, y^{2} \\frac{\\partial}{\\partial y}w\\left(x, y\\right) - 2 \\, {\\left(x^{2} \\frac{\\partial}{\\partial y}w\\left(x, y\\right) - w\\left(x, y\\right)\\right)} y - x \\frac{\\partial}{\\partial y}z\\left(x, y\\right)\\right)}}{x^{3} + x y} + \\frac{\\partial^{2}}{\\partial x\\partial y}z\\left(x, y\\right)\n",
       "\\end{math}"
      ],
      "text/plain": [
       "-1/2*y*(x*diff(z(x, y), y)/(x^2*y + y^2) - 2*w(x, y)/y + 2*diff(w(x, y), y))/x + y*diff(w(x, y), y)/x + 2*y*diff(z(x, y), x)/x + 2*(2*x^2*w(x, y) - 2*y^2*diff(w(x, y), y) - 2*(x^2*diff(w(x, y), y) - w(x, y))*y - x*diff(z(x, y), y))/(x^3 + x*y) + diff(z(x, y), x, y)"
      ]
     },
     "metadata": {},
     "output_type": "display_data"
    },
    {
     "data": {
      "text/html": [
       "<html><script type=\"math/tex; mode=display\">\\newcommand{\\Bold}[1]{\\mathbf{#1}}-\\frac{w\\left(x, y\\right)}{y} + \\frac{x \\frac{\\partial}{\\partial y}z\\left(x, y\\right)}{2 \\, {\\left(x^{2} + y\\right)} y} + \\frac{\\partial}{\\partial y}w\\left(x, y\\right)</script></html>"
      ],
      "text/latex": [
       "\\begin{math}\n",
       "\\newcommand{\\Bold}[1]{\\mathbf{#1}}-\\frac{w\\left(x, y\\right)}{y} + \\frac{x \\frac{\\partial}{\\partial y}z\\left(x, y\\right)}{2 \\, {\\left(x^{2} + y\\right)} y} + \\frac{\\partial}{\\partial y}w\\left(x, y\\right)\n",
       "\\end{math}"
      ],
      "text/plain": [
       "-w(x, y)/y + 1/2*x*diff(z(x, y), y)/((x^2 + y)*y) + diff(w(x, y), y)"
      ]
     },
     "metadata": {},
     "output_type": "display_data"
    },
    {
     "name": "stdout",
     "output_type": "stream",
     "text": [
      "have reduced!\n"
     ]
    },
    {
     "data": {
      "text/html": [
       "<html><script type=\"math/tex; mode=display\">\\newcommand{\\Bold}[1]{\\mathbf{#1}}-\\frac{y {\\left(\\frac{x \\frac{\\partial}{\\partial y}z\\left(x, y\\right)}{x^{2} y + y^{2}} - \\frac{2 \\, w\\left(x, y\\right)}{y} + 2 \\, \\frac{\\partial}{\\partial y}w\\left(x, y\\right)\\right)}}{2 \\, x} + \\frac{y \\frac{\\partial}{\\partial y}w\\left(x, y\\right)}{x} + \\frac{2 \\, y \\frac{\\partial}{\\partial x}z\\left(x, y\\right)}{x} + \\frac{5 \\, {\\left(2 \\, x^{2} w\\left(x, y\\right) - 2 \\, y^{2} \\frac{\\partial}{\\partial y}w\\left(x, y\\right) - 2 \\, {\\left(x^{2} \\frac{\\partial}{\\partial y}w\\left(x, y\\right) - w\\left(x, y\\right)\\right)} y - x \\frac{\\partial}{\\partial y}z\\left(x, y\\right)\\right)}}{2 \\, {\\left(x^{3} + x y\\right)}} + \\frac{\\partial^{2}}{\\partial x\\partial y}z\\left(x, y\\right)</script></html>"
      ],
      "text/latex": [
       "\\begin{math}\n",
       "\\newcommand{\\Bold}[1]{\\mathbf{#1}}-\\frac{y {\\left(\\frac{x \\frac{\\partial}{\\partial y}z\\left(x, y\\right)}{x^{2} y + y^{2}} - \\frac{2 \\, w\\left(x, y\\right)}{y} + 2 \\, \\frac{\\partial}{\\partial y}w\\left(x, y\\right)\\right)}}{2 \\, x} + \\frac{y \\frac{\\partial}{\\partial y}w\\left(x, y\\right)}{x} + \\frac{2 \\, y \\frac{\\partial}{\\partial x}z\\left(x, y\\right)}{x} + \\frac{5 \\, {\\left(2 \\, x^{2} w\\left(x, y\\right) - 2 \\, y^{2} \\frac{\\partial}{\\partial y}w\\left(x, y\\right) - 2 \\, {\\left(x^{2} \\frac{\\partial}{\\partial y}w\\left(x, y\\right) - w\\left(x, y\\right)\\right)} y - x \\frac{\\partial}{\\partial y}z\\left(x, y\\right)\\right)}}{2 \\, {\\left(x^{3} + x y\\right)}} + \\frac{\\partial^{2}}{\\partial x\\partial y}z\\left(x, y\\right)\n",
       "\\end{math}"
      ],
      "text/plain": [
       "-1/2*y*(x*diff(z(x, y), y)/(x^2*y + y^2) - 2*w(x, y)/y + 2*diff(w(x, y), y))/x + y*diff(w(x, y), y)/x + 2*y*diff(z(x, y), x)/x + 5/2*(2*x^2*w(x, y) - 2*y^2*diff(w(x, y), y) - 2*(x^2*diff(w(x, y), y) - w(x, y))*y - x*diff(z(x, y), y))/(x^3 + x*y) + diff(z(x, y), x, y)"
      ]
     },
     "metadata": {},
     "output_type": "display_data"
    },
    {
     "name": "stdout",
     "output_type": "stream",
     "text": [
      "1 * diff(z(x, y), x, y)\n",
      "y/x * diff(w(x, y), y)\n",
      "2*y/x * diff(z(x, y), x)\n",
      "3*(2*x^2*w(x, y) - 2*y^2*diff(w(x, y), y) - 2*(x^2*diff(w(x, y), y) - w(x, y))*y - x*diff(z(x, y), y))/(x^3 + x*y) * 1\n",
      "Try to reduce r4 with r0\n",
      "--------------------------------------- entering reduce\n"
     ]
    },
    {
     "data": {
      "text/html": [
       "<html><script type=\"math/tex; mode=display\">\\newcommand{\\Bold}[1]{\\mathbf{#1}}-\\frac{2 \\, x \\frac{\\partial^{2}}{(\\partial x)^{2}}z\\left(x, y\\right)}{y} - \\frac{x \\frac{\\partial}{\\partial x}w\\left(x, y\\right)}{y^{2}} + \\frac{\\frac{\\partial}{\\partial x}w\\left(x, y\\right)}{y} - \\frac{x \\frac{\\partial^{2}}{\\partial x\\partial y}z\\left(x, y\\right)}{2 \\, {\\left(x^{2} + y\\right)} y} + \\frac{x^{2} \\frac{\\partial}{\\partial y}z\\left(x, y\\right)}{{\\left(x^{2} + y\\right)}^{2} y} - \\frac{\\frac{\\partial}{\\partial y}z\\left(x, y\\right)}{2 \\, {\\left(x^{2} + y\\right)} y}</script></html>"
      ],
      "text/latex": [
       "\\begin{math}\n",
       "\\newcommand{\\Bold}[1]{\\mathbf{#1}}-\\frac{2 \\, x \\frac{\\partial^{2}}{(\\partial x)^{2}}z\\left(x, y\\right)}{y} - \\frac{x \\frac{\\partial}{\\partial x}w\\left(x, y\\right)}{y^{2}} + \\frac{\\frac{\\partial}{\\partial x}w\\left(x, y\\right)}{y} - \\frac{x \\frac{\\partial^{2}}{\\partial x\\partial y}z\\left(x, y\\right)}{2 \\, {\\left(x^{2} + y\\right)} y} + \\frac{x^{2} \\frac{\\partial}{\\partial y}z\\left(x, y\\right)}{{\\left(x^{2} + y\\right)}^{2} y} - \\frac{\\frac{\\partial}{\\partial y}z\\left(x, y\\right)}{2 \\, {\\left(x^{2} + y\\right)} y}\n",
       "\\end{math}"
      ],
      "text/plain": [
       "-2*x*diff(z(x, y), x, x)/y - x*diff(w(x, y), x)/y^2 + diff(w(x, y), x)/y - 1/2*x*diff(z(x, y), x, y)/((x^2 + y)*y) + x^2*diff(z(x, y), y)/((x^2 + y)^2*y) - 1/2*diff(z(x, y), y)/((x^2 + y)*y)"
      ]
     },
     "metadata": {},
     "output_type": "display_data"
    },
    {
     "data": {
      "text/html": [
       "<html><script type=\"math/tex; mode=display\">\\newcommand{\\Bold}[1]{\\mathbf{#1}}-\\frac{w\\left(x, y\\right)}{y} + \\frac{x \\frac{\\partial}{\\partial y}z\\left(x, y\\right)}{2 \\, {\\left(x^{2} + y\\right)} y} + \\frac{\\partial}{\\partial y}w\\left(x, y\\right)</script></html>"
      ],
      "text/latex": [
       "\\begin{math}\n",
       "\\newcommand{\\Bold}[1]{\\mathbf{#1}}-\\frac{w\\left(x, y\\right)}{y} + \\frac{x \\frac{\\partial}{\\partial y}z\\left(x, y\\right)}{2 \\, {\\left(x^{2} + y\\right)} y} + \\frac{\\partial}{\\partial y}w\\left(x, y\\right)\n",
       "\\end{math}"
      ],
      "text/plain": [
       "-w(x, y)/y + 1/2*x*diff(z(x, y), y)/((x^2 + y)*y) + diff(w(x, y), y)"
      ]
     },
     "metadata": {},
     "output_type": "display_data"
    },
    {
     "name": "stdout",
     "output_type": "stream",
     "text": [
      "This is the new System........\n"
     ]
    },
    {
     "data": {
      "text/html": [
       "<html><script type=\"math/tex; mode=display\">\\newcommand{\\Bold}[1]{\\mathbf{#1}}-\\frac{w\\left(x, y\\right)}{y} + \\frac{x \\frac{\\partial}{\\partial y}z\\left(x, y\\right)}{2 \\, {\\left(x^{2} + y\\right)} y} + \\frac{\\partial}{\\partial y}w\\left(x, y\\right)</script></html>"
      ],
      "text/latex": [
       "\\begin{math}\n",
       "\\newcommand{\\Bold}[1]{\\mathbf{#1}}-\\frac{w\\left(x, y\\right)}{y} + \\frac{x \\frac{\\partial}{\\partial y}z\\left(x, y\\right)}{2 \\, {\\left(x^{2} + y\\right)} y} + \\frac{\\partial}{\\partial y}w\\left(x, y\\right)\n",
       "\\end{math}"
      ],
      "text/plain": [
       "-w(x, y)/y + 1/2*x*diff(z(x, y), y)/((x^2 + y)*y) + diff(w(x, y), y)"
      ]
     },
     "metadata": {},
     "output_type": "display_data"
    },
    {
     "data": {
      "text/html": [
       "<html><script type=\"math/tex; mode=display\">\\newcommand{\\Bold}[1]{\\mathbf{#1}}-\\frac{y {\\left(\\frac{x \\frac{\\partial}{\\partial y}z\\left(x, y\\right)}{x^{2} y + y^{2}} - \\frac{2 \\, w\\left(x, y\\right)}{y} + 2 \\, \\frac{\\partial}{\\partial y}w\\left(x, y\\right)\\right)}}{2 \\, x} + \\frac{y \\frac{\\partial}{\\partial y}w\\left(x, y\\right)}{x} + \\frac{2 \\, y \\frac{\\partial}{\\partial x}z\\left(x, y\\right)}{x} + \\frac{5 \\, {\\left(2 \\, x^{2} w\\left(x, y\\right) - 2 \\, y^{2} \\frac{\\partial}{\\partial y}w\\left(x, y\\right) - 2 \\, {\\left(x^{2} \\frac{\\partial}{\\partial y}w\\left(x, y\\right) - w\\left(x, y\\right)\\right)} y - x \\frac{\\partial}{\\partial y}z\\left(x, y\\right)\\right)}}{2 \\, {\\left(x^{3} + x y\\right)}} + \\frac{\\partial^{2}}{\\partial x\\partial y}z\\left(x, y\\right)</script></html>"
      ],
      "text/latex": [
       "\\begin{math}\n",
       "\\newcommand{\\Bold}[1]{\\mathbf{#1}}-\\frac{y {\\left(\\frac{x \\frac{\\partial}{\\partial y}z\\left(x, y\\right)}{x^{2} y + y^{2}} - \\frac{2 \\, w\\left(x, y\\right)}{y} + 2 \\, \\frac{\\partial}{\\partial y}w\\left(x, y\\right)\\right)}}{2 \\, x} + \\frac{y \\frac{\\partial}{\\partial y}w\\left(x, y\\right)}{x} + \\frac{2 \\, y \\frac{\\partial}{\\partial x}z\\left(x, y\\right)}{x} + \\frac{5 \\, {\\left(2 \\, x^{2} w\\left(x, y\\right) - 2 \\, y^{2} \\frac{\\partial}{\\partial y}w\\left(x, y\\right) - 2 \\, {\\left(x^{2} \\frac{\\partial}{\\partial y}w\\left(x, y\\right) - w\\left(x, y\\right)\\right)} y - x \\frac{\\partial}{\\partial y}z\\left(x, y\\right)\\right)}}{2 \\, {\\left(x^{3} + x y\\right)}} + \\frac{\\partial^{2}}{\\partial x\\partial y}z\\left(x, y\\right)\n",
       "\\end{math}"
      ],
      "text/plain": [
       "-1/2*y*(x*diff(z(x, y), y)/(x^2*y + y^2) - 2*w(x, y)/y + 2*diff(w(x, y), y))/x + y*diff(w(x, y), y)/x + 2*y*diff(z(x, y), x)/x + 5/2*(2*x^2*w(x, y) - 2*y^2*diff(w(x, y), y) - 2*(x^2*diff(w(x, y), y) - w(x, y))*y - x*diff(z(x, y), y))/(x^3 + x*y) + diff(z(x, y), x, y)"
      ]
     },
     "metadata": {},
     "output_type": "display_data"
    },
    {
     "data": {
      "text/html": [
       "<html><script type=\"math/tex; mode=display\">\\newcommand{\\Bold}[1]{\\mathbf{#1}}-\\frac{x \\frac{\\partial^{2}}{(\\partial y)^{2}}z\\left(x, y\\right)}{2 \\, {\\left(x^{2} + y\\right)} y} + \\frac{x \\frac{\\partial}{\\partial y}z\\left(x, y\\right)}{2 \\, {\\left(x^{2} + y\\right)} y^{2}} + \\frac{x \\frac{\\partial}{\\partial y}z\\left(x, y\\right)}{2 \\, {\\left(x^{2} + y\\right)}^{2} y} + \\frac{\\partial^{2}}{\\partial x\\partial y}z\\left(x, y\\right)</script></html>"
      ],
      "text/latex": [
       "\\begin{math}\n",
       "\\newcommand{\\Bold}[1]{\\mathbf{#1}}-\\frac{x \\frac{\\partial^{2}}{(\\partial y)^{2}}z\\left(x, y\\right)}{2 \\, {\\left(x^{2} + y\\right)} y} + \\frac{x \\frac{\\partial}{\\partial y}z\\left(x, y\\right)}{2 \\, {\\left(x^{2} + y\\right)} y^{2}} + \\frac{x \\frac{\\partial}{\\partial y}z\\left(x, y\\right)}{2 \\, {\\left(x^{2} + y\\right)}^{2} y} + \\frac{\\partial^{2}}{\\partial x\\partial y}z\\left(x, y\\right)\n",
       "\\end{math}"
      ],
      "text/plain": [
       "-1/2*x*diff(z(x, y), y, y)/((x^2 + y)*y) + 1/2*x*diff(z(x, y), y)/((x^2 + y)*y^2) + 1/2*x*diff(z(x, y), y)/((x^2 + y)^2*y) + diff(z(x, y), x, y)"
      ]
     },
     "metadata": {},
     "output_type": "display_data"
    },
    {
     "data": {
      "text/html": [
       "<html><script type=\"math/tex; mode=display\">\\newcommand{\\Bold}[1]{\\mathbf{#1}}\\frac{x \\frac{\\partial}{\\partial y}z\\left(x, y\\right)}{y} + \\frac{\\frac{\\partial}{\\partial y}w\\left(x, y\\right)}{2 \\, y} - \\frac{x \\frac{\\partial^{2}}{\\partial x\\partial y}z\\left(x, y\\right)}{2 \\, {\\left(x^{2} + y\\right)} y} + \\frac{x^{2} \\frac{\\partial}{\\partial y}z\\left(x, y\\right)}{{\\left(x^{2} + y\\right)}^{2} y} - \\frac{w\\left(x, y\\right)}{2 \\, y^{2}} - \\frac{\\frac{\\partial}{\\partial y}z\\left(x, y\\right)}{2 \\, {\\left(x^{2} + y\\right)} y} + \\frac{\\partial^{2}}{\\partial x\\partial y}z\\left(x, y\\right)</script></html>"
      ],
      "text/latex": [
       "\\begin{math}\n",
       "\\newcommand{\\Bold}[1]{\\mathbf{#1}}\\frac{x \\frac{\\partial}{\\partial y}z\\left(x, y\\right)}{y} + \\frac{\\frac{\\partial}{\\partial y}w\\left(x, y\\right)}{2 \\, y} - \\frac{x \\frac{\\partial^{2}}{\\partial x\\partial y}z\\left(x, y\\right)}{2 \\, {\\left(x^{2} + y\\right)} y} + \\frac{x^{2} \\frac{\\partial}{\\partial y}z\\left(x, y\\right)}{{\\left(x^{2} + y\\right)}^{2} y} - \\frac{w\\left(x, y\\right)}{2 \\, y^{2}} - \\frac{\\frac{\\partial}{\\partial y}z\\left(x, y\\right)}{2 \\, {\\left(x^{2} + y\\right)} y} + \\frac{\\partial^{2}}{\\partial x\\partial y}z\\left(x, y\\right)\n",
       "\\end{math}"
      ],
      "text/plain": [
       "x*diff(z(x, y), y)/y + 1/2*diff(w(x, y), y)/y - 1/2*x*diff(z(x, y), x, y)/((x^2 + y)*y) + x^2*diff(z(x, y), y)/((x^2 + y)^2*y) - 1/2*w(x, y)/y^2 - 1/2*diff(z(x, y), y)/((x^2 + y)*y) + diff(z(x, y), x, y)"
      ]
     },
     "metadata": {},
     "output_type": "display_data"
    },
    {
     "data": {
      "text/html": [
       "<html><script type=\"math/tex; mode=display\">\\newcommand{\\Bold}[1]{\\mathbf{#1}}-\\frac{2 \\, x \\frac{\\partial^{2}}{(\\partial x)^{2}}z\\left(x, y\\right)}{y} - \\frac{x \\frac{\\partial}{\\partial x}w\\left(x, y\\right)}{y^{2}} + \\frac{\\frac{\\partial}{\\partial x}w\\left(x, y\\right)}{y} - \\frac{x \\frac{\\partial^{2}}{\\partial x\\partial y}z\\left(x, y\\right)}{2 \\, {\\left(x^{2} + y\\right)} y} + \\frac{x^{2} \\frac{\\partial}{\\partial y}z\\left(x, y\\right)}{{\\left(x^{2} + y\\right)}^{2} y} - \\frac{\\frac{\\partial}{\\partial y}z\\left(x, y\\right)}{2 \\, {\\left(x^{2} + y\\right)} y}</script></html>"
      ],
      "text/latex": [
       "\\begin{math}\n",
       "\\newcommand{\\Bold}[1]{\\mathbf{#1}}-\\frac{2 \\, x \\frac{\\partial^{2}}{(\\partial x)^{2}}z\\left(x, y\\right)}{y} - \\frac{x \\frac{\\partial}{\\partial x}w\\left(x, y\\right)}{y^{2}} + \\frac{\\frac{\\partial}{\\partial x}w\\left(x, y\\right)}{y} - \\frac{x \\frac{\\partial^{2}}{\\partial x\\partial y}z\\left(x, y\\right)}{2 \\, {\\left(x^{2} + y\\right)} y} + \\frac{x^{2} \\frac{\\partial}{\\partial y}z\\left(x, y\\right)}{{\\left(x^{2} + y\\right)}^{2} y} - \\frac{\\frac{\\partial}{\\partial y}z\\left(x, y\\right)}{2 \\, {\\left(x^{2} + y\\right)} y}\n",
       "\\end{math}"
      ],
      "text/plain": [
       "-2*x*diff(z(x, y), x, x)/y - x*diff(w(x, y), x)/y^2 + diff(w(x, y), x)/y - 1/2*x*diff(z(x, y), x, y)/((x^2 + y)*y) + x^2*diff(z(x, y), y)/((x^2 + y)^2*y) - 1/2*diff(z(x, y), y)/((x^2 + y)*y)"
      ]
     },
     "metadata": {},
     "output_type": "display_data"
    },
    {
     "name": "stdout",
     "output_type": "stream",
     "text": [
      "While\n"
     ]
    },
    {
     "data": {
      "text/html": [
       "<html><script type=\"math/tex; mode=display\">\\newcommand{\\Bold}[1]{\\mathbf{#1}}-\\frac{w\\left(x, y\\right)}{y} + \\frac{x \\frac{\\partial}{\\partial y}z\\left(x, y\\right)}{2 \\, {\\left(x^{2} + y\\right)} y} + \\frac{\\partial}{\\partial y}w\\left(x, y\\right)</script></html>"
      ],
      "text/latex": [
       "\\begin{math}\n",
       "\\newcommand{\\Bold}[1]{\\mathbf{#1}}-\\frac{w\\left(x, y\\right)}{y} + \\frac{x \\frac{\\partial}{\\partial y}z\\left(x, y\\right)}{2 \\, {\\left(x^{2} + y\\right)} y} + \\frac{\\partial}{\\partial y}w\\left(x, y\\right)\n",
       "\\end{math}"
      ],
      "text/plain": [
       "-w(x, y)/y + 1/2*x*diff(z(x, y), y)/((x^2 + y)*y) + diff(w(x, y), y)"
      ]
     },
     "metadata": {},
     "output_type": "display_data"
    },
    {
     "data": {
      "text/html": [
       "<html><script type=\"math/tex; mode=display\">\\newcommand{\\Bold}[1]{\\mathbf{#1}}-\\frac{y {\\left(\\frac{x \\frac{\\partial}{\\partial y}z\\left(x, y\\right)}{x^{2} y + y^{2}} - \\frac{2 \\, w\\left(x, y\\right)}{y} + 2 \\, \\frac{\\partial}{\\partial y}w\\left(x, y\\right)\\right)}}{2 \\, x} + \\frac{y \\frac{\\partial}{\\partial y}w\\left(x, y\\right)}{x} + \\frac{2 \\, y \\frac{\\partial}{\\partial x}z\\left(x, y\\right)}{x} + \\frac{5 \\, {\\left(2 \\, x^{2} w\\left(x, y\\right) - 2 \\, y^{2} \\frac{\\partial}{\\partial y}w\\left(x, y\\right) - 2 \\, {\\left(x^{2} \\frac{\\partial}{\\partial y}w\\left(x, y\\right) - w\\left(x, y\\right)\\right)} y - x \\frac{\\partial}{\\partial y}z\\left(x, y\\right)\\right)}}{2 \\, {\\left(x^{3} + x y\\right)}} + \\frac{\\partial^{2}}{\\partial x\\partial y}z\\left(x, y\\right)</script></html>"
      ],
      "text/latex": [
       "\\begin{math}\n",
       "\\newcommand{\\Bold}[1]{\\mathbf{#1}}-\\frac{y {\\left(\\frac{x \\frac{\\partial}{\\partial y}z\\left(x, y\\right)}{x^{2} y + y^{2}} - \\frac{2 \\, w\\left(x, y\\right)}{y} + 2 \\, \\frac{\\partial}{\\partial y}w\\left(x, y\\right)\\right)}}{2 \\, x} + \\frac{y \\frac{\\partial}{\\partial y}w\\left(x, y\\right)}{x} + \\frac{2 \\, y \\frac{\\partial}{\\partial x}z\\left(x, y\\right)}{x} + \\frac{5 \\, {\\left(2 \\, x^{2} w\\left(x, y\\right) - 2 \\, y^{2} \\frac{\\partial}{\\partial y}w\\left(x, y\\right) - 2 \\, {\\left(x^{2} \\frac{\\partial}{\\partial y}w\\left(x, y\\right) - w\\left(x, y\\right)\\right)} y - x \\frac{\\partial}{\\partial y}z\\left(x, y\\right)\\right)}}{2 \\, {\\left(x^{3} + x y\\right)}} + \\frac{\\partial^{2}}{\\partial x\\partial y}z\\left(x, y\\right)\n",
       "\\end{math}"
      ],
      "text/plain": [
       "-1/2*y*(x*diff(z(x, y), y)/(x^2*y + y^2) - 2*w(x, y)/y + 2*diff(w(x, y), y))/x + y*diff(w(x, y), y)/x + 2*y*diff(z(x, y), x)/x + 5/2*(2*x^2*w(x, y) - 2*y^2*diff(w(x, y), y) - 2*(x^2*diff(w(x, y), y) - w(x, y))*y - x*diff(z(x, y), y))/(x^3 + x*y) + diff(z(x, y), x, y)"
      ]
     },
     "metadata": {},
     "output_type": "display_data"
    },
    {
     "name": "stdout",
     "output_type": "stream",
     "text": [
      "Try to reduce r1 with r0\n",
      "--------------------------------------- entering reduce\n"
     ]
    },
    {
     "data": {
      "text/html": [
       "<html><script type=\"math/tex; mode=display\">\\newcommand{\\Bold}[1]{\\mathbf{#1}}-\\frac{y {\\left(\\frac{x \\frac{\\partial}{\\partial y}z\\left(x, y\\right)}{x^{2} y + y^{2}} - \\frac{2 \\, w\\left(x, y\\right)}{y} + 2 \\, \\frac{\\partial}{\\partial y}w\\left(x, y\\right)\\right)}}{2 \\, x} + \\frac{y \\frac{\\partial}{\\partial y}w\\left(x, y\\right)}{x} + \\frac{2 \\, y \\frac{\\partial}{\\partial x}z\\left(x, y\\right)}{x} + \\frac{5 \\, {\\left(2 \\, x^{2} w\\left(x, y\\right) - 2 \\, y^{2} \\frac{\\partial}{\\partial y}w\\left(x, y\\right) - 2 \\, {\\left(x^{2} \\frac{\\partial}{\\partial y}w\\left(x, y\\right) - w\\left(x, y\\right)\\right)} y - x \\frac{\\partial}{\\partial y}z\\left(x, y\\right)\\right)}}{2 \\, {\\left(x^{3} + x y\\right)}} + \\frac{\\partial^{2}}{\\partial x\\partial y}z\\left(x, y\\right)</script></html>"
      ],
      "text/latex": [
       "\\begin{math}\n",
       "\\newcommand{\\Bold}[1]{\\mathbf{#1}}-\\frac{y {\\left(\\frac{x \\frac{\\partial}{\\partial y}z\\left(x, y\\right)}{x^{2} y + y^{2}} - \\frac{2 \\, w\\left(x, y\\right)}{y} + 2 \\, \\frac{\\partial}{\\partial y}w\\left(x, y\\right)\\right)}}{2 \\, x} + \\frac{y \\frac{\\partial}{\\partial y}w\\left(x, y\\right)}{x} + \\frac{2 \\, y \\frac{\\partial}{\\partial x}z\\left(x, y\\right)}{x} + \\frac{5 \\, {\\left(2 \\, x^{2} w\\left(x, y\\right) - 2 \\, y^{2} \\frac{\\partial}{\\partial y}w\\left(x, y\\right) - 2 \\, {\\left(x^{2} \\frac{\\partial}{\\partial y}w\\left(x, y\\right) - w\\left(x, y\\right)\\right)} y - x \\frac{\\partial}{\\partial y}z\\left(x, y\\right)\\right)}}{2 \\, {\\left(x^{3} + x y\\right)}} + \\frac{\\partial^{2}}{\\partial x\\partial y}z\\left(x, y\\right)\n",
       "\\end{math}"
      ],
      "text/plain": [
       "-1/2*y*(x*diff(z(x, y), y)/(x^2*y + y^2) - 2*w(x, y)/y + 2*diff(w(x, y), y))/x + y*diff(w(x, y), y)/x + 2*y*diff(z(x, y), x)/x + 5/2*(2*x^2*w(x, y) - 2*y^2*diff(w(x, y), y) - 2*(x^2*diff(w(x, y), y) - w(x, y))*y - x*diff(z(x, y), y))/(x^3 + x*y) + diff(z(x, y), x, y)"
      ]
     },
     "metadata": {},
     "output_type": "display_data"
    },
    {
     "data": {
      "text/html": [
       "<html><script type=\"math/tex; mode=display\">\\newcommand{\\Bold}[1]{\\mathbf{#1}}-\\frac{w\\left(x, y\\right)}{y} + \\frac{x \\frac{\\partial}{\\partial y}z\\left(x, y\\right)}{2 \\, {\\left(x^{2} + y\\right)} y} + \\frac{\\partial}{\\partial y}w\\left(x, y\\right)</script></html>"
      ],
      "text/latex": [
       "\\begin{math}\n",
       "\\newcommand{\\Bold}[1]{\\mathbf{#1}}-\\frac{w\\left(x, y\\right)}{y} + \\frac{x \\frac{\\partial}{\\partial y}z\\left(x, y\\right)}{2 \\, {\\left(x^{2} + y\\right)} y} + \\frac{\\partial}{\\partial y}w\\left(x, y\\right)\n",
       "\\end{math}"
      ],
      "text/plain": [
       "-w(x, y)/y + 1/2*x*diff(z(x, y), y)/((x^2 + y)*y) + diff(w(x, y), y)"
      ]
     },
     "metadata": {},
     "output_type": "display_data"
    },
    {
     "name": "stdout",
     "output_type": "stream",
     "text": [
      "have reduced!\n"
     ]
    },
    {
     "data": {
      "text/html": [
       "<html><script type=\"math/tex; mode=display\">\\newcommand{\\Bold}[1]{\\mathbf{#1}}-\\frac{y {\\left(\\frac{x \\frac{\\partial}{\\partial y}z\\left(x, y\\right)}{x^{2} y + y^{2}} - \\frac{2 \\, w\\left(x, y\\right)}{y} + 2 \\, \\frac{\\partial}{\\partial y}w\\left(x, y\\right)\\right)}}{2 \\, x} + \\frac{y \\frac{\\partial}{\\partial y}w\\left(x, y\\right)}{x} + \\frac{2 \\, y \\frac{\\partial}{\\partial x}z\\left(x, y\\right)}{x} + \\frac{3 \\, {\\left(2 \\, x^{2} w\\left(x, y\\right) - 2 \\, y^{2} \\frac{\\partial}{\\partial y}w\\left(x, y\\right) - 2 \\, {\\left(x^{2} \\frac{\\partial}{\\partial y}w\\left(x, y\\right) - w\\left(x, y\\right)\\right)} y - x \\frac{\\partial}{\\partial y}z\\left(x, y\\right)\\right)}}{x^{3} + x y} + \\frac{\\partial^{2}}{\\partial x\\partial y}z\\left(x, y\\right)</script></html>"
      ],
      "text/latex": [
       "\\begin{math}\n",
       "\\newcommand{\\Bold}[1]{\\mathbf{#1}}-\\frac{y {\\left(\\frac{x \\frac{\\partial}{\\partial y}z\\left(x, y\\right)}{x^{2} y + y^{2}} - \\frac{2 \\, w\\left(x, y\\right)}{y} + 2 \\, \\frac{\\partial}{\\partial y}w\\left(x, y\\right)\\right)}}{2 \\, x} + \\frac{y \\frac{\\partial}{\\partial y}w\\left(x, y\\right)}{x} + \\frac{2 \\, y \\frac{\\partial}{\\partial x}z\\left(x, y\\right)}{x} + \\frac{3 \\, {\\left(2 \\, x^{2} w\\left(x, y\\right) - 2 \\, y^{2} \\frac{\\partial}{\\partial y}w\\left(x, y\\right) - 2 \\, {\\left(x^{2} \\frac{\\partial}{\\partial y}w\\left(x, y\\right) - w\\left(x, y\\right)\\right)} y - x \\frac{\\partial}{\\partial y}z\\left(x, y\\right)\\right)}}{x^{3} + x y} + \\frac{\\partial^{2}}{\\partial x\\partial y}z\\left(x, y\\right)\n",
       "\\end{math}"
      ],
      "text/plain": [
       "-1/2*y*(x*diff(z(x, y), y)/(x^2*y + y^2) - 2*w(x, y)/y + 2*diff(w(x, y), y))/x + y*diff(w(x, y), y)/x + 2*y*diff(z(x, y), x)/x + 3*(2*x^2*w(x, y) - 2*y^2*diff(w(x, y), y) - 2*(x^2*diff(w(x, y), y) - w(x, y))*y - x*diff(z(x, y), y))/(x^3 + x*y) + diff(z(x, y), x, y)"
      ]
     },
     "metadata": {},
     "output_type": "display_data"
    },
    {
     "name": "stdout",
     "output_type": "stream",
     "text": [
      "1 * diff(z(x, y), x, y)\n",
      "y/x * diff(w(x, y), y)\n",
      "2*y/x * diff(z(x, y), x)\n",
      "7/2*(2*x^2*w(x, y) - 2*y^2*diff(w(x, y), y) - 2*(x^2*diff(w(x, y), y) - w(x, y))*y - x*diff(z(x, y), y))/(x^3 + x*y) * 1\n",
      "Try to reduce r2 with r0\n",
      "--------------------------------------- entering reduce\n"
     ]
    },
    {
     "data": {
      "text/html": [
       "<html><script type=\"math/tex; mode=display\">\\newcommand{\\Bold}[1]{\\mathbf{#1}}-\\frac{x \\frac{\\partial^{2}}{(\\partial y)^{2}}z\\left(x, y\\right)}{2 \\, {\\left(x^{2} + y\\right)} y} + \\frac{x \\frac{\\partial}{\\partial y}z\\left(x, y\\right)}{2 \\, {\\left(x^{2} + y\\right)} y^{2}} + \\frac{x \\frac{\\partial}{\\partial y}z\\left(x, y\\right)}{2 \\, {\\left(x^{2} + y\\right)}^{2} y} + \\frac{\\partial^{2}}{\\partial x\\partial y}z\\left(x, y\\right)</script></html>"
      ],
      "text/latex": [
       "\\begin{math}\n",
       "\\newcommand{\\Bold}[1]{\\mathbf{#1}}-\\frac{x \\frac{\\partial^{2}}{(\\partial y)^{2}}z\\left(x, y\\right)}{2 \\, {\\left(x^{2} + y\\right)} y} + \\frac{x \\frac{\\partial}{\\partial y}z\\left(x, y\\right)}{2 \\, {\\left(x^{2} + y\\right)} y^{2}} + \\frac{x \\frac{\\partial}{\\partial y}z\\left(x, y\\right)}{2 \\, {\\left(x^{2} + y\\right)}^{2} y} + \\frac{\\partial^{2}}{\\partial x\\partial y}z\\left(x, y\\right)\n",
       "\\end{math}"
      ],
      "text/plain": [
       "-1/2*x*diff(z(x, y), y, y)/((x^2 + y)*y) + 1/2*x*diff(z(x, y), y)/((x^2 + y)*y^2) + 1/2*x*diff(z(x, y), y)/((x^2 + y)^2*y) + diff(z(x, y), x, y)"
      ]
     },
     "metadata": {},
     "output_type": "display_data"
    },
    {
     "data": {
      "text/html": [
       "<html><script type=\"math/tex; mode=display\">\\newcommand{\\Bold}[1]{\\mathbf{#1}}-\\frac{w\\left(x, y\\right)}{y} + \\frac{x \\frac{\\partial}{\\partial y}z\\left(x, y\\right)}{2 \\, {\\left(x^{2} + y\\right)} y} + \\frac{\\partial}{\\partial y}w\\left(x, y\\right)</script></html>"
      ],
      "text/latex": [
       "\\begin{math}\n",
       "\\newcommand{\\Bold}[1]{\\mathbf{#1}}-\\frac{w\\left(x, y\\right)}{y} + \\frac{x \\frac{\\partial}{\\partial y}z\\left(x, y\\right)}{2 \\, {\\left(x^{2} + y\\right)} y} + \\frac{\\partial}{\\partial y}w\\left(x, y\\right)\n",
       "\\end{math}"
      ],
      "text/plain": [
       "-w(x, y)/y + 1/2*x*diff(z(x, y), y)/((x^2 + y)*y) + diff(w(x, y), y)"
      ]
     },
     "metadata": {},
     "output_type": "display_data"
    },
    {
     "name": "stdout",
     "output_type": "stream",
     "text": [
      "Try to reduce r3 with r0\n",
      "--------------------------------------- entering reduce\n"
     ]
    },
    {
     "data": {
      "text/html": [
       "<html><script type=\"math/tex; mode=display\">\\newcommand{\\Bold}[1]{\\mathbf{#1}}\\frac{x \\frac{\\partial}{\\partial y}z\\left(x, y\\right)}{y} + \\frac{\\frac{\\partial}{\\partial y}w\\left(x, y\\right)}{2 \\, y} - \\frac{x \\frac{\\partial^{2}}{\\partial x\\partial y}z\\left(x, y\\right)}{2 \\, {\\left(x^{2} + y\\right)} y} + \\frac{x^{2} \\frac{\\partial}{\\partial y}z\\left(x, y\\right)}{{\\left(x^{2} + y\\right)}^{2} y} - \\frac{w\\left(x, y\\right)}{2 \\, y^{2}} - \\frac{\\frac{\\partial}{\\partial y}z\\left(x, y\\right)}{2 \\, {\\left(x^{2} + y\\right)} y} + \\frac{\\partial^{2}}{\\partial x\\partial y}z\\left(x, y\\right)</script></html>"
      ],
      "text/latex": [
       "\\begin{math}\n",
       "\\newcommand{\\Bold}[1]{\\mathbf{#1}}\\frac{x \\frac{\\partial}{\\partial y}z\\left(x, y\\right)}{y} + \\frac{\\frac{\\partial}{\\partial y}w\\left(x, y\\right)}{2 \\, y} - \\frac{x \\frac{\\partial^{2}}{\\partial x\\partial y}z\\left(x, y\\right)}{2 \\, {\\left(x^{2} + y\\right)} y} + \\frac{x^{2} \\frac{\\partial}{\\partial y}z\\left(x, y\\right)}{{\\left(x^{2} + y\\right)}^{2} y} - \\frac{w\\left(x, y\\right)}{2 \\, y^{2}} - \\frac{\\frac{\\partial}{\\partial y}z\\left(x, y\\right)}{2 \\, {\\left(x^{2} + y\\right)} y} + \\frac{\\partial^{2}}{\\partial x\\partial y}z\\left(x, y\\right)\n",
       "\\end{math}"
      ],
      "text/plain": [
       "x*diff(z(x, y), y)/y + 1/2*diff(w(x, y), y)/y - 1/2*x*diff(z(x, y), x, y)/((x^2 + y)*y) + x^2*diff(z(x, y), y)/((x^2 + y)^2*y) - 1/2*w(x, y)/y^2 - 1/2*diff(z(x, y), y)/((x^2 + y)*y) + diff(z(x, y), x, y)"
      ]
     },
     "metadata": {},
     "output_type": "display_data"
    },
    {
     "data": {
      "text/html": [
       "<html><script type=\"math/tex; mode=display\">\\newcommand{\\Bold}[1]{\\mathbf{#1}}-\\frac{w\\left(x, y\\right)}{y} + \\frac{x \\frac{\\partial}{\\partial y}z\\left(x, y\\right)}{2 \\, {\\left(x^{2} + y\\right)} y} + \\frac{\\partial}{\\partial y}w\\left(x, y\\right)</script></html>"
      ],
      "text/latex": [
       "\\begin{math}\n",
       "\\newcommand{\\Bold}[1]{\\mathbf{#1}}-\\frac{w\\left(x, y\\right)}{y} + \\frac{x \\frac{\\partial}{\\partial y}z\\left(x, y\\right)}{2 \\, {\\left(x^{2} + y\\right)} y} + \\frac{\\partial}{\\partial y}w\\left(x, y\\right)\n",
       "\\end{math}"
      ],
      "text/plain": [
       "-w(x, y)/y + 1/2*x*diff(z(x, y), y)/((x^2 + y)*y) + diff(w(x, y), y)"
      ]
     },
     "metadata": {},
     "output_type": "display_data"
    },
    {
     "name": "stdout",
     "output_type": "stream",
     "text": [
      "Try to reduce r4 with r0\n",
      "--------------------------------------- entering reduce\n"
     ]
    },
    {
     "data": {
      "text/html": [
       "<html><script type=\"math/tex; mode=display\">\\newcommand{\\Bold}[1]{\\mathbf{#1}}-\\frac{2 \\, x \\frac{\\partial^{2}}{(\\partial x)^{2}}z\\left(x, y\\right)}{y} - \\frac{x \\frac{\\partial}{\\partial x}w\\left(x, y\\right)}{y^{2}} + \\frac{\\frac{\\partial}{\\partial x}w\\left(x, y\\right)}{y} - \\frac{x \\frac{\\partial^{2}}{\\partial x\\partial y}z\\left(x, y\\right)}{2 \\, {\\left(x^{2} + y\\right)} y} + \\frac{x^{2} \\frac{\\partial}{\\partial y}z\\left(x, y\\right)}{{\\left(x^{2} + y\\right)}^{2} y} - \\frac{\\frac{\\partial}{\\partial y}z\\left(x, y\\right)}{2 \\, {\\left(x^{2} + y\\right)} y}</script></html>"
      ],
      "text/latex": [
       "\\begin{math}\n",
       "\\newcommand{\\Bold}[1]{\\mathbf{#1}}-\\frac{2 \\, x \\frac{\\partial^{2}}{(\\partial x)^{2}}z\\left(x, y\\right)}{y} - \\frac{x \\frac{\\partial}{\\partial x}w\\left(x, y\\right)}{y^{2}} + \\frac{\\frac{\\partial}{\\partial x}w\\left(x, y\\right)}{y} - \\frac{x \\frac{\\partial^{2}}{\\partial x\\partial y}z\\left(x, y\\right)}{2 \\, {\\left(x^{2} + y\\right)} y} + \\frac{x^{2} \\frac{\\partial}{\\partial y}z\\left(x, y\\right)}{{\\left(x^{2} + y\\right)}^{2} y} - \\frac{\\frac{\\partial}{\\partial y}z\\left(x, y\\right)}{2 \\, {\\left(x^{2} + y\\right)} y}\n",
       "\\end{math}"
      ],
      "text/plain": [
       "-2*x*diff(z(x, y), x, x)/y - x*diff(w(x, y), x)/y^2 + diff(w(x, y), x)/y - 1/2*x*diff(z(x, y), x, y)/((x^2 + y)*y) + x^2*diff(z(x, y), y)/((x^2 + y)^2*y) - 1/2*diff(z(x, y), y)/((x^2 + y)*y)"
      ]
     },
     "metadata": {},
     "output_type": "display_data"
    },
    {
     "data": {
      "text/html": [
       "<html><script type=\"math/tex; mode=display\">\\newcommand{\\Bold}[1]{\\mathbf{#1}}-\\frac{w\\left(x, y\\right)}{y} + \\frac{x \\frac{\\partial}{\\partial y}z\\left(x, y\\right)}{2 \\, {\\left(x^{2} + y\\right)} y} + \\frac{\\partial}{\\partial y}w\\left(x, y\\right)</script></html>"
      ],
      "text/latex": [
       "\\begin{math}\n",
       "\\newcommand{\\Bold}[1]{\\mathbf{#1}}-\\frac{w\\left(x, y\\right)}{y} + \\frac{x \\frac{\\partial}{\\partial y}z\\left(x, y\\right)}{2 \\, {\\left(x^{2} + y\\right)} y} + \\frac{\\partial}{\\partial y}w\\left(x, y\\right)\n",
       "\\end{math}"
      ],
      "text/plain": [
       "-w(x, y)/y + 1/2*x*diff(z(x, y), y)/((x^2 + y)*y) + diff(w(x, y), y)"
      ]
     },
     "metadata": {},
     "output_type": "display_data"
    },
    {
     "name": "stdout",
     "output_type": "stream",
     "text": [
      "This is the new System........\n"
     ]
    },
    {
     "data": {
      "text/html": [
       "<html><script type=\"math/tex; mode=display\">\\newcommand{\\Bold}[1]{\\mathbf{#1}}-\\frac{w\\left(x, y\\right)}{y} + \\frac{x \\frac{\\partial}{\\partial y}z\\left(x, y\\right)}{2 \\, {\\left(x^{2} + y\\right)} y} + \\frac{\\partial}{\\partial y}w\\left(x, y\\right)</script></html>"
      ],
      "text/latex": [
       "\\begin{math}\n",
       "\\newcommand{\\Bold}[1]{\\mathbf{#1}}-\\frac{w\\left(x, y\\right)}{y} + \\frac{x \\frac{\\partial}{\\partial y}z\\left(x, y\\right)}{2 \\, {\\left(x^{2} + y\\right)} y} + \\frac{\\partial}{\\partial y}w\\left(x, y\\right)\n",
       "\\end{math}"
      ],
      "text/plain": [
       "-w(x, y)/y + 1/2*x*diff(z(x, y), y)/((x^2 + y)*y) + diff(w(x, y), y)"
      ]
     },
     "metadata": {},
     "output_type": "display_data"
    },
    {
     "data": {
      "text/html": [
       "<html><script type=\"math/tex; mode=display\">\\newcommand{\\Bold}[1]{\\mathbf{#1}}\\frac{x \\frac{\\partial}{\\partial y}z\\left(x, y\\right)}{y} + \\frac{\\frac{\\partial}{\\partial y}w\\left(x, y\\right)}{2 \\, y} - \\frac{x \\frac{\\partial^{2}}{\\partial x\\partial y}z\\left(x, y\\right)}{2 \\, {\\left(x^{2} + y\\right)} y} + \\frac{x^{2} \\frac{\\partial}{\\partial y}z\\left(x, y\\right)}{{\\left(x^{2} + y\\right)}^{2} y} - \\frac{w\\left(x, y\\right)}{2 \\, y^{2}} - \\frac{\\frac{\\partial}{\\partial y}z\\left(x, y\\right)}{2 \\, {\\left(x^{2} + y\\right)} y} + \\frac{\\partial^{2}}{\\partial x\\partial y}z\\left(x, y\\right)</script></html>"
      ],
      "text/latex": [
       "\\begin{math}\n",
       "\\newcommand{\\Bold}[1]{\\mathbf{#1}}\\frac{x \\frac{\\partial}{\\partial y}z\\left(x, y\\right)}{y} + \\frac{\\frac{\\partial}{\\partial y}w\\left(x, y\\right)}{2 \\, y} - \\frac{x \\frac{\\partial^{2}}{\\partial x\\partial y}z\\left(x, y\\right)}{2 \\, {\\left(x^{2} + y\\right)} y} + \\frac{x^{2} \\frac{\\partial}{\\partial y}z\\left(x, y\\right)}{{\\left(x^{2} + y\\right)}^{2} y} - \\frac{w\\left(x, y\\right)}{2 \\, y^{2}} - \\frac{\\frac{\\partial}{\\partial y}z\\left(x, y\\right)}{2 \\, {\\left(x^{2} + y\\right)} y} + \\frac{\\partial^{2}}{\\partial x\\partial y}z\\left(x, y\\right)\n",
       "\\end{math}"
      ],
      "text/plain": [
       "x*diff(z(x, y), y)/y + 1/2*diff(w(x, y), y)/y - 1/2*x*diff(z(x, y), x, y)/((x^2 + y)*y) + x^2*diff(z(x, y), y)/((x^2 + y)^2*y) - 1/2*w(x, y)/y^2 - 1/2*diff(z(x, y), y)/((x^2 + y)*y) + diff(z(x, y), x, y)"
      ]
     },
     "metadata": {},
     "output_type": "display_data"
    },
    {
     "data": {
      "text/html": [
       "<html><script type=\"math/tex; mode=display\">\\newcommand{\\Bold}[1]{\\mathbf{#1}}-\\frac{x \\frac{\\partial^{2}}{(\\partial y)^{2}}z\\left(x, y\\right)}{2 \\, {\\left(x^{2} + y\\right)} y} + \\frac{x \\frac{\\partial}{\\partial y}z\\left(x, y\\right)}{2 \\, {\\left(x^{2} + y\\right)} y^{2}} + \\frac{x \\frac{\\partial}{\\partial y}z\\left(x, y\\right)}{2 \\, {\\left(x^{2} + y\\right)}^{2} y} + \\frac{\\partial^{2}}{\\partial x\\partial y}z\\left(x, y\\right)</script></html>"
      ],
      "text/latex": [
       "\\begin{math}\n",
       "\\newcommand{\\Bold}[1]{\\mathbf{#1}}-\\frac{x \\frac{\\partial^{2}}{(\\partial y)^{2}}z\\left(x, y\\right)}{2 \\, {\\left(x^{2} + y\\right)} y} + \\frac{x \\frac{\\partial}{\\partial y}z\\left(x, y\\right)}{2 \\, {\\left(x^{2} + y\\right)} y^{2}} + \\frac{x \\frac{\\partial}{\\partial y}z\\left(x, y\\right)}{2 \\, {\\left(x^{2} + y\\right)}^{2} y} + \\frac{\\partial^{2}}{\\partial x\\partial y}z\\left(x, y\\right)\n",
       "\\end{math}"
      ],
      "text/plain": [
       "-1/2*x*diff(z(x, y), y, y)/((x^2 + y)*y) + 1/2*x*diff(z(x, y), y)/((x^2 + y)*y^2) + 1/2*x*diff(z(x, y), y)/((x^2 + y)^2*y) + diff(z(x, y), x, y)"
      ]
     },
     "metadata": {},
     "output_type": "display_data"
    },
    {
     "data": {
      "text/html": [
       "<html><script type=\"math/tex; mode=display\">\\newcommand{\\Bold}[1]{\\mathbf{#1}}-\\frac{y {\\left(\\frac{x \\frac{\\partial}{\\partial y}z\\left(x, y\\right)}{x^{2} y + y^{2}} - \\frac{2 \\, w\\left(x, y\\right)}{y} + 2 \\, \\frac{\\partial}{\\partial y}w\\left(x, y\\right)\\right)}}{2 \\, x} + \\frac{y \\frac{\\partial}{\\partial y}w\\left(x, y\\right)}{x} + \\frac{2 \\, y \\frac{\\partial}{\\partial x}z\\left(x, y\\right)}{x} + \\frac{3 \\, {\\left(2 \\, x^{2} w\\left(x, y\\right) - 2 \\, y^{2} \\frac{\\partial}{\\partial y}w\\left(x, y\\right) - 2 \\, {\\left(x^{2} \\frac{\\partial}{\\partial y}w\\left(x, y\\right) - w\\left(x, y\\right)\\right)} y - x \\frac{\\partial}{\\partial y}z\\left(x, y\\right)\\right)}}{x^{3} + x y} + \\frac{\\partial^{2}}{\\partial x\\partial y}z\\left(x, y\\right)</script></html>"
      ],
      "text/latex": [
       "\\begin{math}\n",
       "\\newcommand{\\Bold}[1]{\\mathbf{#1}}-\\frac{y {\\left(\\frac{x \\frac{\\partial}{\\partial y}z\\left(x, y\\right)}{x^{2} y + y^{2}} - \\frac{2 \\, w\\left(x, y\\right)}{y} + 2 \\, \\frac{\\partial}{\\partial y}w\\left(x, y\\right)\\right)}}{2 \\, x} + \\frac{y \\frac{\\partial}{\\partial y}w\\left(x, y\\right)}{x} + \\frac{2 \\, y \\frac{\\partial}{\\partial x}z\\left(x, y\\right)}{x} + \\frac{3 \\, {\\left(2 \\, x^{2} w\\left(x, y\\right) - 2 \\, y^{2} \\frac{\\partial}{\\partial y}w\\left(x, y\\right) - 2 \\, {\\left(x^{2} \\frac{\\partial}{\\partial y}w\\left(x, y\\right) - w\\left(x, y\\right)\\right)} y - x \\frac{\\partial}{\\partial y}z\\left(x, y\\right)\\right)}}{x^{3} + x y} + \\frac{\\partial^{2}}{\\partial x\\partial y}z\\left(x, y\\right)\n",
       "\\end{math}"
      ],
      "text/plain": [
       "-1/2*y*(x*diff(z(x, y), y)/(x^2*y + y^2) - 2*w(x, y)/y + 2*diff(w(x, y), y))/x + y*diff(w(x, y), y)/x + 2*y*diff(z(x, y), x)/x + 3*(2*x^2*w(x, y) - 2*y^2*diff(w(x, y), y) - 2*(x^2*diff(w(x, y), y) - w(x, y))*y - x*diff(z(x, y), y))/(x^3 + x*y) + diff(z(x, y), x, y)"
      ]
     },
     "metadata": {},
     "output_type": "display_data"
    },
    {
     "data": {
      "text/html": [
       "<html><script type=\"math/tex; mode=display\">\\newcommand{\\Bold}[1]{\\mathbf{#1}}-\\frac{2 \\, x \\frac{\\partial^{2}}{(\\partial x)^{2}}z\\left(x, y\\right)}{y} - \\frac{x \\frac{\\partial}{\\partial x}w\\left(x, y\\right)}{y^{2}} + \\frac{\\frac{\\partial}{\\partial x}w\\left(x, y\\right)}{y} - \\frac{x \\frac{\\partial^{2}}{\\partial x\\partial y}z\\left(x, y\\right)}{2 \\, {\\left(x^{2} + y\\right)} y} + \\frac{x^{2} \\frac{\\partial}{\\partial y}z\\left(x, y\\right)}{{\\left(x^{2} + y\\right)}^{2} y} - \\frac{\\frac{\\partial}{\\partial y}z\\left(x, y\\right)}{2 \\, {\\left(x^{2} + y\\right)} y}</script></html>"
      ],
      "text/latex": [
       "\\begin{math}\n",
       "\\newcommand{\\Bold}[1]{\\mathbf{#1}}-\\frac{2 \\, x \\frac{\\partial^{2}}{(\\partial x)^{2}}z\\left(x, y\\right)}{y} - \\frac{x \\frac{\\partial}{\\partial x}w\\left(x, y\\right)}{y^{2}} + \\frac{\\frac{\\partial}{\\partial x}w\\left(x, y\\right)}{y} - \\frac{x \\frac{\\partial^{2}}{\\partial x\\partial y}z\\left(x, y\\right)}{2 \\, {\\left(x^{2} + y\\right)} y} + \\frac{x^{2} \\frac{\\partial}{\\partial y}z\\left(x, y\\right)}{{\\left(x^{2} + y\\right)}^{2} y} - \\frac{\\frac{\\partial}{\\partial y}z\\left(x, y\\right)}{2 \\, {\\left(x^{2} + y\\right)} y}\n",
       "\\end{math}"
      ],
      "text/plain": [
       "-2*x*diff(z(x, y), x, x)/y - x*diff(w(x, y), x)/y^2 + diff(w(x, y), x)/y - 1/2*x*diff(z(x, y), x, y)/((x^2 + y)*y) + x^2*diff(z(x, y), y)/((x^2 + y)^2*y) - 1/2*diff(z(x, y), y)/((x^2 + y)*y)"
      ]
     },
     "metadata": {},
     "output_type": "display_data"
    },
    {
     "name": "stdout",
     "output_type": "stream",
     "text": [
      "While\n"
     ]
    },
    {
     "data": {
      "text/html": [
       "<html><script type=\"math/tex; mode=display\">\\newcommand{\\Bold}[1]{\\mathbf{#1}}-\\frac{w\\left(x, y\\right)}{y} + \\frac{x \\frac{\\partial}{\\partial y}z\\left(x, y\\right)}{2 \\, {\\left(x^{2} + y\\right)} y} + \\frac{\\partial}{\\partial y}w\\left(x, y\\right)</script></html>"
      ],
      "text/latex": [
       "\\begin{math}\n",
       "\\newcommand{\\Bold}[1]{\\mathbf{#1}}-\\frac{w\\left(x, y\\right)}{y} + \\frac{x \\frac{\\partial}{\\partial y}z\\left(x, y\\right)}{2 \\, {\\left(x^{2} + y\\right)} y} + \\frac{\\partial}{\\partial y}w\\left(x, y\\right)\n",
       "\\end{math}"
      ],
      "text/plain": [
       "-w(x, y)/y + 1/2*x*diff(z(x, y), y)/((x^2 + y)*y) + diff(w(x, y), y)"
      ]
     },
     "metadata": {},
     "output_type": "display_data"
    },
    {
     "data": {
      "text/html": [
       "<html><script type=\"math/tex; mode=display\">\\newcommand{\\Bold}[1]{\\mathbf{#1}}\\frac{x \\frac{\\partial}{\\partial y}z\\left(x, y\\right)}{y} + \\frac{\\frac{\\partial}{\\partial y}w\\left(x, y\\right)}{2 \\, y} - \\frac{x \\frac{\\partial^{2}}{\\partial x\\partial y}z\\left(x, y\\right)}{2 \\, {\\left(x^{2} + y\\right)} y} + \\frac{x^{2} \\frac{\\partial}{\\partial y}z\\left(x, y\\right)}{{\\left(x^{2} + y\\right)}^{2} y} - \\frac{w\\left(x, y\\right)}{2 \\, y^{2}} - \\frac{\\frac{\\partial}{\\partial y}z\\left(x, y\\right)}{2 \\, {\\left(x^{2} + y\\right)} y} + \\frac{\\partial^{2}}{\\partial x\\partial y}z\\left(x, y\\right)</script></html>"
      ],
      "text/latex": [
       "\\begin{math}\n",
       "\\newcommand{\\Bold}[1]{\\mathbf{#1}}\\frac{x \\frac{\\partial}{\\partial y}z\\left(x, y\\right)}{y} + \\frac{\\frac{\\partial}{\\partial y}w\\left(x, y\\right)}{2 \\, y} - \\frac{x \\frac{\\partial^{2}}{\\partial x\\partial y}z\\left(x, y\\right)}{2 \\, {\\left(x^{2} + y\\right)} y} + \\frac{x^{2} \\frac{\\partial}{\\partial y}z\\left(x, y\\right)}{{\\left(x^{2} + y\\right)}^{2} y} - \\frac{w\\left(x, y\\right)}{2 \\, y^{2}} - \\frac{\\frac{\\partial}{\\partial y}z\\left(x, y\\right)}{2 \\, {\\left(x^{2} + y\\right)} y} + \\frac{\\partial^{2}}{\\partial x\\partial y}z\\left(x, y\\right)\n",
       "\\end{math}"
      ],
      "text/plain": [
       "x*diff(z(x, y), y)/y + 1/2*diff(w(x, y), y)/y - 1/2*x*diff(z(x, y), x, y)/((x^2 + y)*y) + x^2*diff(z(x, y), y)/((x^2 + y)^2*y) - 1/2*w(x, y)/y^2 - 1/2*diff(z(x, y), y)/((x^2 + y)*y) + diff(z(x, y), x, y)"
      ]
     },
     "metadata": {},
     "output_type": "display_data"
    },
    {
     "name": "stdout",
     "output_type": "stream",
     "text": [
      "Try to reduce r1 with r0\n",
      "--------------------------------------- entering reduce\n"
     ]
    },
    {
     "data": {
      "text/html": [
       "<html><script type=\"math/tex; mode=display\">\\newcommand{\\Bold}[1]{\\mathbf{#1}}\\frac{x \\frac{\\partial}{\\partial y}z\\left(x, y\\right)}{y} + \\frac{\\frac{\\partial}{\\partial y}w\\left(x, y\\right)}{2 \\, y} - \\frac{x \\frac{\\partial^{2}}{\\partial x\\partial y}z\\left(x, y\\right)}{2 \\, {\\left(x^{2} + y\\right)} y} + \\frac{x^{2} \\frac{\\partial}{\\partial y}z\\left(x, y\\right)}{{\\left(x^{2} + y\\right)}^{2} y} - \\frac{w\\left(x, y\\right)}{2 \\, y^{2}} - \\frac{\\frac{\\partial}{\\partial y}z\\left(x, y\\right)}{2 \\, {\\left(x^{2} + y\\right)} y} + \\frac{\\partial^{2}}{\\partial x\\partial y}z\\left(x, y\\right)</script></html>"
      ],
      "text/latex": [
       "\\begin{math}\n",
       "\\newcommand{\\Bold}[1]{\\mathbf{#1}}\\frac{x \\frac{\\partial}{\\partial y}z\\left(x, y\\right)}{y} + \\frac{\\frac{\\partial}{\\partial y}w\\left(x, y\\right)}{2 \\, y} - \\frac{x \\frac{\\partial^{2}}{\\partial x\\partial y}z\\left(x, y\\right)}{2 \\, {\\left(x^{2} + y\\right)} y} + \\frac{x^{2} \\frac{\\partial}{\\partial y}z\\left(x, y\\right)}{{\\left(x^{2} + y\\right)}^{2} y} - \\frac{w\\left(x, y\\right)}{2 \\, y^{2}} - \\frac{\\frac{\\partial}{\\partial y}z\\left(x, y\\right)}{2 \\, {\\left(x^{2} + y\\right)} y} + \\frac{\\partial^{2}}{\\partial x\\partial y}z\\left(x, y\\right)\n",
       "\\end{math}"
      ],
      "text/plain": [
       "x*diff(z(x, y), y)/y + 1/2*diff(w(x, y), y)/y - 1/2*x*diff(z(x, y), x, y)/((x^2 + y)*y) + x^2*diff(z(x, y), y)/((x^2 + y)^2*y) - 1/2*w(x, y)/y^2 - 1/2*diff(z(x, y), y)/((x^2 + y)*y) + diff(z(x, y), x, y)"
      ]
     },
     "metadata": {},
     "output_type": "display_data"
    },
    {
     "data": {
      "text/html": [
       "<html><script type=\"math/tex; mode=display\">\\newcommand{\\Bold}[1]{\\mathbf{#1}}-\\frac{w\\left(x, y\\right)}{y} + \\frac{x \\frac{\\partial}{\\partial y}z\\left(x, y\\right)}{2 \\, {\\left(x^{2} + y\\right)} y} + \\frac{\\partial}{\\partial y}w\\left(x, y\\right)</script></html>"
      ],
      "text/latex": [
       "\\begin{math}\n",
       "\\newcommand{\\Bold}[1]{\\mathbf{#1}}-\\frac{w\\left(x, y\\right)}{y} + \\frac{x \\frac{\\partial}{\\partial y}z\\left(x, y\\right)}{2 \\, {\\left(x^{2} + y\\right)} y} + \\frac{\\partial}{\\partial y}w\\left(x, y\\right)\n",
       "\\end{math}"
      ],
      "text/plain": [
       "-w(x, y)/y + 1/2*x*diff(z(x, y), y)/((x^2 + y)*y) + diff(w(x, y), y)"
      ]
     },
     "metadata": {},
     "output_type": "display_data"
    },
    {
     "name": "stdout",
     "output_type": "stream",
     "text": [
      "Try to reduce r2 with r0\n",
      "--------------------------------------- entering reduce\n"
     ]
    },
    {
     "data": {
      "text/html": [
       "<html><script type=\"math/tex; mode=display\">\\newcommand{\\Bold}[1]{\\mathbf{#1}}-\\frac{x \\frac{\\partial^{2}}{(\\partial y)^{2}}z\\left(x, y\\right)}{2 \\, {\\left(x^{2} + y\\right)} y} + \\frac{x \\frac{\\partial}{\\partial y}z\\left(x, y\\right)}{2 \\, {\\left(x^{2} + y\\right)} y^{2}} + \\frac{x \\frac{\\partial}{\\partial y}z\\left(x, y\\right)}{2 \\, {\\left(x^{2} + y\\right)}^{2} y} + \\frac{\\partial^{2}}{\\partial x\\partial y}z\\left(x, y\\right)</script></html>"
      ],
      "text/latex": [
       "\\begin{math}\n",
       "\\newcommand{\\Bold}[1]{\\mathbf{#1}}-\\frac{x \\frac{\\partial^{2}}{(\\partial y)^{2}}z\\left(x, y\\right)}{2 \\, {\\left(x^{2} + y\\right)} y} + \\frac{x \\frac{\\partial}{\\partial y}z\\left(x, y\\right)}{2 \\, {\\left(x^{2} + y\\right)} y^{2}} + \\frac{x \\frac{\\partial}{\\partial y}z\\left(x, y\\right)}{2 \\, {\\left(x^{2} + y\\right)}^{2} y} + \\frac{\\partial^{2}}{\\partial x\\partial y}z\\left(x, y\\right)\n",
       "\\end{math}"
      ],
      "text/plain": [
       "-1/2*x*diff(z(x, y), y, y)/((x^2 + y)*y) + 1/2*x*diff(z(x, y), y)/((x^2 + y)*y^2) + 1/2*x*diff(z(x, y), y)/((x^2 + y)^2*y) + diff(z(x, y), x, y)"
      ]
     },
     "metadata": {},
     "output_type": "display_data"
    },
    {
     "data": {
      "text/html": [
       "<html><script type=\"math/tex; mode=display\">\\newcommand{\\Bold}[1]{\\mathbf{#1}}-\\frac{w\\left(x, y\\right)}{y} + \\frac{x \\frac{\\partial}{\\partial y}z\\left(x, y\\right)}{2 \\, {\\left(x^{2} + y\\right)} y} + \\frac{\\partial}{\\partial y}w\\left(x, y\\right)</script></html>"
      ],
      "text/latex": [
       "\\begin{math}\n",
       "\\newcommand{\\Bold}[1]{\\mathbf{#1}}-\\frac{w\\left(x, y\\right)}{y} + \\frac{x \\frac{\\partial}{\\partial y}z\\left(x, y\\right)}{2 \\, {\\left(x^{2} + y\\right)} y} + \\frac{\\partial}{\\partial y}w\\left(x, y\\right)\n",
       "\\end{math}"
      ],
      "text/plain": [
       "-w(x, y)/y + 1/2*x*diff(z(x, y), y)/((x^2 + y)*y) + diff(w(x, y), y)"
      ]
     },
     "metadata": {},
     "output_type": "display_data"
    },
    {
     "name": "stdout",
     "output_type": "stream",
     "text": [
      "Try to reduce r3 with r0\n",
      "--------------------------------------- entering reduce\n"
     ]
    },
    {
     "data": {
      "text/html": [
       "<html><script type=\"math/tex; mode=display\">\\newcommand{\\Bold}[1]{\\mathbf{#1}}-\\frac{y {\\left(\\frac{x \\frac{\\partial}{\\partial y}z\\left(x, y\\right)}{x^{2} y + y^{2}} - \\frac{2 \\, w\\left(x, y\\right)}{y} + 2 \\, \\frac{\\partial}{\\partial y}w\\left(x, y\\right)\\right)}}{2 \\, x} + \\frac{y \\frac{\\partial}{\\partial y}w\\left(x, y\\right)}{x} + \\frac{2 \\, y \\frac{\\partial}{\\partial x}z\\left(x, y\\right)}{x} + \\frac{3 \\, {\\left(2 \\, x^{2} w\\left(x, y\\right) - 2 \\, y^{2} \\frac{\\partial}{\\partial y}w\\left(x, y\\right) - 2 \\, {\\left(x^{2} \\frac{\\partial}{\\partial y}w\\left(x, y\\right) - w\\left(x, y\\right)\\right)} y - x \\frac{\\partial}{\\partial y}z\\left(x, y\\right)\\right)}}{x^{3} + x y} + \\frac{\\partial^{2}}{\\partial x\\partial y}z\\left(x, y\\right)</script></html>"
      ],
      "text/latex": [
       "\\begin{math}\n",
       "\\newcommand{\\Bold}[1]{\\mathbf{#1}}-\\frac{y {\\left(\\frac{x \\frac{\\partial}{\\partial y}z\\left(x, y\\right)}{x^{2} y + y^{2}} - \\frac{2 \\, w\\left(x, y\\right)}{y} + 2 \\, \\frac{\\partial}{\\partial y}w\\left(x, y\\right)\\right)}}{2 \\, x} + \\frac{y \\frac{\\partial}{\\partial y}w\\left(x, y\\right)}{x} + \\frac{2 \\, y \\frac{\\partial}{\\partial x}z\\left(x, y\\right)}{x} + \\frac{3 \\, {\\left(2 \\, x^{2} w\\left(x, y\\right) - 2 \\, y^{2} \\frac{\\partial}{\\partial y}w\\left(x, y\\right) - 2 \\, {\\left(x^{2} \\frac{\\partial}{\\partial y}w\\left(x, y\\right) - w\\left(x, y\\right)\\right)} y - x \\frac{\\partial}{\\partial y}z\\left(x, y\\right)\\right)}}{x^{3} + x y} + \\frac{\\partial^{2}}{\\partial x\\partial y}z\\left(x, y\\right)\n",
       "\\end{math}"
      ],
      "text/plain": [
       "-1/2*y*(x*diff(z(x, y), y)/(x^2*y + y^2) - 2*w(x, y)/y + 2*diff(w(x, y), y))/x + y*diff(w(x, y), y)/x + 2*y*diff(z(x, y), x)/x + 3*(2*x^2*w(x, y) - 2*y^2*diff(w(x, y), y) - 2*(x^2*diff(w(x, y), y) - w(x, y))*y - x*diff(z(x, y), y))/(x^3 + x*y) + diff(z(x, y), x, y)"
      ]
     },
     "metadata": {},
     "output_type": "display_data"
    },
    {
     "data": {
      "text/html": [
       "<html><script type=\"math/tex; mode=display\">\\newcommand{\\Bold}[1]{\\mathbf{#1}}-\\frac{w\\left(x, y\\right)}{y} + \\frac{x \\frac{\\partial}{\\partial y}z\\left(x, y\\right)}{2 \\, {\\left(x^{2} + y\\right)} y} + \\frac{\\partial}{\\partial y}w\\left(x, y\\right)</script></html>"
      ],
      "text/latex": [
       "\\begin{math}\n",
       "\\newcommand{\\Bold}[1]{\\mathbf{#1}}-\\frac{w\\left(x, y\\right)}{y} + \\frac{x \\frac{\\partial}{\\partial y}z\\left(x, y\\right)}{2 \\, {\\left(x^{2} + y\\right)} y} + \\frac{\\partial}{\\partial y}w\\left(x, y\\right)\n",
       "\\end{math}"
      ],
      "text/plain": [
       "-w(x, y)/y + 1/2*x*diff(z(x, y), y)/((x^2 + y)*y) + diff(w(x, y), y)"
      ]
     },
     "metadata": {},
     "output_type": "display_data"
    },
    {
     "name": "stdout",
     "output_type": "stream",
     "text": [
      "have reduced!\n"
     ]
    },
    {
     "data": {
      "text/html": [
       "<html><script type=\"math/tex; mode=display\">\\newcommand{\\Bold}[1]{\\mathbf{#1}}-\\frac{y {\\left(\\frac{x \\frac{\\partial}{\\partial y}z\\left(x, y\\right)}{x^{2} y + y^{2}} - \\frac{2 \\, w\\left(x, y\\right)}{y} + 2 \\, \\frac{\\partial}{\\partial y}w\\left(x, y\\right)\\right)}}{2 \\, x} + \\frac{y \\frac{\\partial}{\\partial y}w\\left(x, y\\right)}{x} + \\frac{2 \\, y \\frac{\\partial}{\\partial x}z\\left(x, y\\right)}{x} + \\frac{7 \\, {\\left(2 \\, x^{2} w\\left(x, y\\right) - 2 \\, y^{2} \\frac{\\partial}{\\partial y}w\\left(x, y\\right) - 2 \\, {\\left(x^{2} \\frac{\\partial}{\\partial y}w\\left(x, y\\right) - w\\left(x, y\\right)\\right)} y - x \\frac{\\partial}{\\partial y}z\\left(x, y\\right)\\right)}}{2 \\, {\\left(x^{3} + x y\\right)}} + \\frac{\\partial^{2}}{\\partial x\\partial y}z\\left(x, y\\right)</script></html>"
      ],
      "text/latex": [
       "\\begin{math}\n",
       "\\newcommand{\\Bold}[1]{\\mathbf{#1}}-\\frac{y {\\left(\\frac{x \\frac{\\partial}{\\partial y}z\\left(x, y\\right)}{x^{2} y + y^{2}} - \\frac{2 \\, w\\left(x, y\\right)}{y} + 2 \\, \\frac{\\partial}{\\partial y}w\\left(x, y\\right)\\right)}}{2 \\, x} + \\frac{y \\frac{\\partial}{\\partial y}w\\left(x, y\\right)}{x} + \\frac{2 \\, y \\frac{\\partial}{\\partial x}z\\left(x, y\\right)}{x} + \\frac{7 \\, {\\left(2 \\, x^{2} w\\left(x, y\\right) - 2 \\, y^{2} \\frac{\\partial}{\\partial y}w\\left(x, y\\right) - 2 \\, {\\left(x^{2} \\frac{\\partial}{\\partial y}w\\left(x, y\\right) - w\\left(x, y\\right)\\right)} y - x \\frac{\\partial}{\\partial y}z\\left(x, y\\right)\\right)}}{2 \\, {\\left(x^{3} + x y\\right)}} + \\frac{\\partial^{2}}{\\partial x\\partial y}z\\left(x, y\\right)\n",
       "\\end{math}"
      ],
      "text/plain": [
       "-1/2*y*(x*diff(z(x, y), y)/(x^2*y + y^2) - 2*w(x, y)/y + 2*diff(w(x, y), y))/x + y*diff(w(x, y), y)/x + 2*y*diff(z(x, y), x)/x + 7/2*(2*x^2*w(x, y) - 2*y^2*diff(w(x, y), y) - 2*(x^2*diff(w(x, y), y) - w(x, y))*y - x*diff(z(x, y), y))/(x^3 + x*y) + diff(z(x, y), x, y)"
      ]
     },
     "metadata": {},
     "output_type": "display_data"
    },
    {
     "name": "stdout",
     "output_type": "stream",
     "text": [
      "1 * diff(z(x, y), x, y)\n",
      "y/x * diff(w(x, y), y)\n",
      "2*y/x * diff(z(x, y), x)\n",
      "4*(2*x^2*w(x, y) - 2*y^2*diff(w(x, y), y) - 2*(x^2*diff(w(x, y), y) - w(x, y))*y - x*diff(z(x, y), y))/(x^3 + x*y) * 1\n",
      "Try to reduce r4 with r0\n",
      "--------------------------------------- entering reduce\n"
     ]
    },
    {
     "data": {
      "text/html": [
       "<html><script type=\"math/tex; mode=display\">\\newcommand{\\Bold}[1]{\\mathbf{#1}}-\\frac{2 \\, x \\frac{\\partial^{2}}{(\\partial x)^{2}}z\\left(x, y\\right)}{y} - \\frac{x \\frac{\\partial}{\\partial x}w\\left(x, y\\right)}{y^{2}} + \\frac{\\frac{\\partial}{\\partial x}w\\left(x, y\\right)}{y} - \\frac{x \\frac{\\partial^{2}}{\\partial x\\partial y}z\\left(x, y\\right)}{2 \\, {\\left(x^{2} + y\\right)} y} + \\frac{x^{2} \\frac{\\partial}{\\partial y}z\\left(x, y\\right)}{{\\left(x^{2} + y\\right)}^{2} y} - \\frac{\\frac{\\partial}{\\partial y}z\\left(x, y\\right)}{2 \\, {\\left(x^{2} + y\\right)} y}</script></html>"
      ],
      "text/latex": [
       "\\begin{math}\n",
       "\\newcommand{\\Bold}[1]{\\mathbf{#1}}-\\frac{2 \\, x \\frac{\\partial^{2}}{(\\partial x)^{2}}z\\left(x, y\\right)}{y} - \\frac{x \\frac{\\partial}{\\partial x}w\\left(x, y\\right)}{y^{2}} + \\frac{\\frac{\\partial}{\\partial x}w\\left(x, y\\right)}{y} - \\frac{x \\frac{\\partial^{2}}{\\partial x\\partial y}z\\left(x, y\\right)}{2 \\, {\\left(x^{2} + y\\right)} y} + \\frac{x^{2} \\frac{\\partial}{\\partial y}z\\left(x, y\\right)}{{\\left(x^{2} + y\\right)}^{2} y} - \\frac{\\frac{\\partial}{\\partial y}z\\left(x, y\\right)}{2 \\, {\\left(x^{2} + y\\right)} y}\n",
       "\\end{math}"
      ],
      "text/plain": [
       "-2*x*diff(z(x, y), x, x)/y - x*diff(w(x, y), x)/y^2 + diff(w(x, y), x)/y - 1/2*x*diff(z(x, y), x, y)/((x^2 + y)*y) + x^2*diff(z(x, y), y)/((x^2 + y)^2*y) - 1/2*diff(z(x, y), y)/((x^2 + y)*y)"
      ]
     },
     "metadata": {},
     "output_type": "display_data"
    },
    {
     "data": {
      "text/html": [
       "<html><script type=\"math/tex; mode=display\">\\newcommand{\\Bold}[1]{\\mathbf{#1}}-\\frac{w\\left(x, y\\right)}{y} + \\frac{x \\frac{\\partial}{\\partial y}z\\left(x, y\\right)}{2 \\, {\\left(x^{2} + y\\right)} y} + \\frac{\\partial}{\\partial y}w\\left(x, y\\right)</script></html>"
      ],
      "text/latex": [
       "\\begin{math}\n",
       "\\newcommand{\\Bold}[1]{\\mathbf{#1}}-\\frac{w\\left(x, y\\right)}{y} + \\frac{x \\frac{\\partial}{\\partial y}z\\left(x, y\\right)}{2 \\, {\\left(x^{2} + y\\right)} y} + \\frac{\\partial}{\\partial y}w\\left(x, y\\right)\n",
       "\\end{math}"
      ],
      "text/plain": [
       "-w(x, y)/y + 1/2*x*diff(z(x, y), y)/((x^2 + y)*y) + diff(w(x, y), y)"
      ]
     },
     "metadata": {},
     "output_type": "display_data"
    },
    {
     "name": "stdout",
     "output_type": "stream",
     "text": [
      "This is the new System........\n"
     ]
    },
    {
     "data": {
      "text/html": [
       "<html><script type=\"math/tex; mode=display\">\\newcommand{\\Bold}[1]{\\mathbf{#1}}-\\frac{w\\left(x, y\\right)}{y} + \\frac{x \\frac{\\partial}{\\partial y}z\\left(x, y\\right)}{2 \\, {\\left(x^{2} + y\\right)} y} + \\frac{\\partial}{\\partial y}w\\left(x, y\\right)</script></html>"
      ],
      "text/latex": [
       "\\begin{math}\n",
       "\\newcommand{\\Bold}[1]{\\mathbf{#1}}-\\frac{w\\left(x, y\\right)}{y} + \\frac{x \\frac{\\partial}{\\partial y}z\\left(x, y\\right)}{2 \\, {\\left(x^{2} + y\\right)} y} + \\frac{\\partial}{\\partial y}w\\left(x, y\\right)\n",
       "\\end{math}"
      ],
      "text/plain": [
       "-w(x, y)/y + 1/2*x*diff(z(x, y), y)/((x^2 + y)*y) + diff(w(x, y), y)"
      ]
     },
     "metadata": {},
     "output_type": "display_data"
    },
    {
     "data": {
      "text/html": [
       "<html><script type=\"math/tex; mode=display\">\\newcommand{\\Bold}[1]{\\mathbf{#1}}-\\frac{y {\\left(\\frac{x \\frac{\\partial}{\\partial y}z\\left(x, y\\right)}{x^{2} y + y^{2}} - \\frac{2 \\, w\\left(x, y\\right)}{y} + 2 \\, \\frac{\\partial}{\\partial y}w\\left(x, y\\right)\\right)}}{2 \\, x} + \\frac{y \\frac{\\partial}{\\partial y}w\\left(x, y\\right)}{x} + \\frac{2 \\, y \\frac{\\partial}{\\partial x}z\\left(x, y\\right)}{x} + \\frac{7 \\, {\\left(2 \\, x^{2} w\\left(x, y\\right) - 2 \\, y^{2} \\frac{\\partial}{\\partial y}w\\left(x, y\\right) - 2 \\, {\\left(x^{2} \\frac{\\partial}{\\partial y}w\\left(x, y\\right) - w\\left(x, y\\right)\\right)} y - x \\frac{\\partial}{\\partial y}z\\left(x, y\\right)\\right)}}{2 \\, {\\left(x^{3} + x y\\right)}} + \\frac{\\partial^{2}}{\\partial x\\partial y}z\\left(x, y\\right)</script></html>"
      ],
      "text/latex": [
       "\\begin{math}\n",
       "\\newcommand{\\Bold}[1]{\\mathbf{#1}}-\\frac{y {\\left(\\frac{x \\frac{\\partial}{\\partial y}z\\left(x, y\\right)}{x^{2} y + y^{2}} - \\frac{2 \\, w\\left(x, y\\right)}{y} + 2 \\, \\frac{\\partial}{\\partial y}w\\left(x, y\\right)\\right)}}{2 \\, x} + \\frac{y \\frac{\\partial}{\\partial y}w\\left(x, y\\right)}{x} + \\frac{2 \\, y \\frac{\\partial}{\\partial x}z\\left(x, y\\right)}{x} + \\frac{7 \\, {\\left(2 \\, x^{2} w\\left(x, y\\right) - 2 \\, y^{2} \\frac{\\partial}{\\partial y}w\\left(x, y\\right) - 2 \\, {\\left(x^{2} \\frac{\\partial}{\\partial y}w\\left(x, y\\right) - w\\left(x, y\\right)\\right)} y - x \\frac{\\partial}{\\partial y}z\\left(x, y\\right)\\right)}}{2 \\, {\\left(x^{3} + x y\\right)}} + \\frac{\\partial^{2}}{\\partial x\\partial y}z\\left(x, y\\right)\n",
       "\\end{math}"
      ],
      "text/plain": [
       "-1/2*y*(x*diff(z(x, y), y)/(x^2*y + y^2) - 2*w(x, y)/y + 2*diff(w(x, y), y))/x + y*diff(w(x, y), y)/x + 2*y*diff(z(x, y), x)/x + 7/2*(2*x^2*w(x, y) - 2*y^2*diff(w(x, y), y) - 2*(x^2*diff(w(x, y), y) - w(x, y))*y - x*diff(z(x, y), y))/(x^3 + x*y) + diff(z(x, y), x, y)"
      ]
     },
     "metadata": {},
     "output_type": "display_data"
    },
    {
     "data": {
      "text/html": [
       "<html><script type=\"math/tex; mode=display\">\\newcommand{\\Bold}[1]{\\mathbf{#1}}-\\frac{x \\frac{\\partial^{2}}{(\\partial y)^{2}}z\\left(x, y\\right)}{2 \\, {\\left(x^{2} + y\\right)} y} + \\frac{x \\frac{\\partial}{\\partial y}z\\left(x, y\\right)}{2 \\, {\\left(x^{2} + y\\right)} y^{2}} + \\frac{x \\frac{\\partial}{\\partial y}z\\left(x, y\\right)}{2 \\, {\\left(x^{2} + y\\right)}^{2} y} + \\frac{\\partial^{2}}{\\partial x\\partial y}z\\left(x, y\\right)</script></html>"
      ],
      "text/latex": [
       "\\begin{math}\n",
       "\\newcommand{\\Bold}[1]{\\mathbf{#1}}-\\frac{x \\frac{\\partial^{2}}{(\\partial y)^{2}}z\\left(x, y\\right)}{2 \\, {\\left(x^{2} + y\\right)} y} + \\frac{x \\frac{\\partial}{\\partial y}z\\left(x, y\\right)}{2 \\, {\\left(x^{2} + y\\right)} y^{2}} + \\frac{x \\frac{\\partial}{\\partial y}z\\left(x, y\\right)}{2 \\, {\\left(x^{2} + y\\right)}^{2} y} + \\frac{\\partial^{2}}{\\partial x\\partial y}z\\left(x, y\\right)\n",
       "\\end{math}"
      ],
      "text/plain": [
       "-1/2*x*diff(z(x, y), y, y)/((x^2 + y)*y) + 1/2*x*diff(z(x, y), y)/((x^2 + y)*y^2) + 1/2*x*diff(z(x, y), y)/((x^2 + y)^2*y) + diff(z(x, y), x, y)"
      ]
     },
     "metadata": {},
     "output_type": "display_data"
    },
    {
     "data": {
      "text/html": [
       "<html><script type=\"math/tex; mode=display\">\\newcommand{\\Bold}[1]{\\mathbf{#1}}\\frac{x \\frac{\\partial}{\\partial y}z\\left(x, y\\right)}{y} + \\frac{\\frac{\\partial}{\\partial y}w\\left(x, y\\right)}{2 \\, y} - \\frac{x \\frac{\\partial^{2}}{\\partial x\\partial y}z\\left(x, y\\right)}{2 \\, {\\left(x^{2} + y\\right)} y} + \\frac{x^{2} \\frac{\\partial}{\\partial y}z\\left(x, y\\right)}{{\\left(x^{2} + y\\right)}^{2} y} - \\frac{w\\left(x, y\\right)}{2 \\, y^{2}} - \\frac{\\frac{\\partial}{\\partial y}z\\left(x, y\\right)}{2 \\, {\\left(x^{2} + y\\right)} y} + \\frac{\\partial^{2}}{\\partial x\\partial y}z\\left(x, y\\right)</script></html>"
      ],
      "text/latex": [
       "\\begin{math}\n",
       "\\newcommand{\\Bold}[1]{\\mathbf{#1}}\\frac{x \\frac{\\partial}{\\partial y}z\\left(x, y\\right)}{y} + \\frac{\\frac{\\partial}{\\partial y}w\\left(x, y\\right)}{2 \\, y} - \\frac{x \\frac{\\partial^{2}}{\\partial x\\partial y}z\\left(x, y\\right)}{2 \\, {\\left(x^{2} + y\\right)} y} + \\frac{x^{2} \\frac{\\partial}{\\partial y}z\\left(x, y\\right)}{{\\left(x^{2} + y\\right)}^{2} y} - \\frac{w\\left(x, y\\right)}{2 \\, y^{2}} - \\frac{\\frac{\\partial}{\\partial y}z\\left(x, y\\right)}{2 \\, {\\left(x^{2} + y\\right)} y} + \\frac{\\partial^{2}}{\\partial x\\partial y}z\\left(x, y\\right)\n",
       "\\end{math}"
      ],
      "text/plain": [
       "x*diff(z(x, y), y)/y + 1/2*diff(w(x, y), y)/y - 1/2*x*diff(z(x, y), x, y)/((x^2 + y)*y) + x^2*diff(z(x, y), y)/((x^2 + y)^2*y) - 1/2*w(x, y)/y^2 - 1/2*diff(z(x, y), y)/((x^2 + y)*y) + diff(z(x, y), x, y)"
      ]
     },
     "metadata": {},
     "output_type": "display_data"
    },
    {
     "data": {
      "text/html": [
       "<html><script type=\"math/tex; mode=display\">\\newcommand{\\Bold}[1]{\\mathbf{#1}}-\\frac{2 \\, x \\frac{\\partial^{2}}{(\\partial x)^{2}}z\\left(x, y\\right)}{y} - \\frac{x \\frac{\\partial}{\\partial x}w\\left(x, y\\right)}{y^{2}} + \\frac{\\frac{\\partial}{\\partial x}w\\left(x, y\\right)}{y} - \\frac{x \\frac{\\partial^{2}}{\\partial x\\partial y}z\\left(x, y\\right)}{2 \\, {\\left(x^{2} + y\\right)} y} + \\frac{x^{2} \\frac{\\partial}{\\partial y}z\\left(x, y\\right)}{{\\left(x^{2} + y\\right)}^{2} y} - \\frac{\\frac{\\partial}{\\partial y}z\\left(x, y\\right)}{2 \\, {\\left(x^{2} + y\\right)} y}</script></html>"
      ],
      "text/latex": [
       "\\begin{math}\n",
       "\\newcommand{\\Bold}[1]{\\mathbf{#1}}-\\frac{2 \\, x \\frac{\\partial^{2}}{(\\partial x)^{2}}z\\left(x, y\\right)}{y} - \\frac{x \\frac{\\partial}{\\partial x}w\\left(x, y\\right)}{y^{2}} + \\frac{\\frac{\\partial}{\\partial x}w\\left(x, y\\right)}{y} - \\frac{x \\frac{\\partial^{2}}{\\partial x\\partial y}z\\left(x, y\\right)}{2 \\, {\\left(x^{2} + y\\right)} y} + \\frac{x^{2} \\frac{\\partial}{\\partial y}z\\left(x, y\\right)}{{\\left(x^{2} + y\\right)}^{2} y} - \\frac{\\frac{\\partial}{\\partial y}z\\left(x, y\\right)}{2 \\, {\\left(x^{2} + y\\right)} y}\n",
       "\\end{math}"
      ],
      "text/plain": [
       "-2*x*diff(z(x, y), x, x)/y - x*diff(w(x, y), x)/y^2 + diff(w(x, y), x)/y - 1/2*x*diff(z(x, y), x, y)/((x^2 + y)*y) + x^2*diff(z(x, y), y)/((x^2 + y)^2*y) - 1/2*diff(z(x, y), y)/((x^2 + y)*y)"
      ]
     },
     "metadata": {},
     "output_type": "display_data"
    },
    {
     "name": "stdout",
     "output_type": "stream",
     "text": [
      "While\n"
     ]
    },
    {
     "data": {
      "text/html": [
       "<html><script type=\"math/tex; mode=display\">\\newcommand{\\Bold}[1]{\\mathbf{#1}}-\\frac{w\\left(x, y\\right)}{y} + \\frac{x \\frac{\\partial}{\\partial y}z\\left(x, y\\right)}{2 \\, {\\left(x^{2} + y\\right)} y} + \\frac{\\partial}{\\partial y}w\\left(x, y\\right)</script></html>"
      ],
      "text/latex": [
       "\\begin{math}\n",
       "\\newcommand{\\Bold}[1]{\\mathbf{#1}}-\\frac{w\\left(x, y\\right)}{y} + \\frac{x \\frac{\\partial}{\\partial y}z\\left(x, y\\right)}{2 \\, {\\left(x^{2} + y\\right)} y} + \\frac{\\partial}{\\partial y}w\\left(x, y\\right)\n",
       "\\end{math}"
      ],
      "text/plain": [
       "-w(x, y)/y + 1/2*x*diff(z(x, y), y)/((x^2 + y)*y) + diff(w(x, y), y)"
      ]
     },
     "metadata": {},
     "output_type": "display_data"
    },
    {
     "data": {
      "text/html": [
       "<html><script type=\"math/tex; mode=display\">\\newcommand{\\Bold}[1]{\\mathbf{#1}}-\\frac{y {\\left(\\frac{x \\frac{\\partial}{\\partial y}z\\left(x, y\\right)}{x^{2} y + y^{2}} - \\frac{2 \\, w\\left(x, y\\right)}{y} + 2 \\, \\frac{\\partial}{\\partial y}w\\left(x, y\\right)\\right)}}{2 \\, x} + \\frac{y \\frac{\\partial}{\\partial y}w\\left(x, y\\right)}{x} + \\frac{2 \\, y \\frac{\\partial}{\\partial x}z\\left(x, y\\right)}{x} + \\frac{7 \\, {\\left(2 \\, x^{2} w\\left(x, y\\right) - 2 \\, y^{2} \\frac{\\partial}{\\partial y}w\\left(x, y\\right) - 2 \\, {\\left(x^{2} \\frac{\\partial}{\\partial y}w\\left(x, y\\right) - w\\left(x, y\\right)\\right)} y - x \\frac{\\partial}{\\partial y}z\\left(x, y\\right)\\right)}}{2 \\, {\\left(x^{3} + x y\\right)}} + \\frac{\\partial^{2}}{\\partial x\\partial y}z\\left(x, y\\right)</script></html>"
      ],
      "text/latex": [
       "\\begin{math}\n",
       "\\newcommand{\\Bold}[1]{\\mathbf{#1}}-\\frac{y {\\left(\\frac{x \\frac{\\partial}{\\partial y}z\\left(x, y\\right)}{x^{2} y + y^{2}} - \\frac{2 \\, w\\left(x, y\\right)}{y} + 2 \\, \\frac{\\partial}{\\partial y}w\\left(x, y\\right)\\right)}}{2 \\, x} + \\frac{y \\frac{\\partial}{\\partial y}w\\left(x, y\\right)}{x} + \\frac{2 \\, y \\frac{\\partial}{\\partial x}z\\left(x, y\\right)}{x} + \\frac{7 \\, {\\left(2 \\, x^{2} w\\left(x, y\\right) - 2 \\, y^{2} \\frac{\\partial}{\\partial y}w\\left(x, y\\right) - 2 \\, {\\left(x^{2} \\frac{\\partial}{\\partial y}w\\left(x, y\\right) - w\\left(x, y\\right)\\right)} y - x \\frac{\\partial}{\\partial y}z\\left(x, y\\right)\\right)}}{2 \\, {\\left(x^{3} + x y\\right)}} + \\frac{\\partial^{2}}{\\partial x\\partial y}z\\left(x, y\\right)\n",
       "\\end{math}"
      ],
      "text/plain": [
       "-1/2*y*(x*diff(z(x, y), y)/(x^2*y + y^2) - 2*w(x, y)/y + 2*diff(w(x, y), y))/x + y*diff(w(x, y), y)/x + 2*y*diff(z(x, y), x)/x + 7/2*(2*x^2*w(x, y) - 2*y^2*diff(w(x, y), y) - 2*(x^2*diff(w(x, y), y) - w(x, y))*y - x*diff(z(x, y), y))/(x^3 + x*y) + diff(z(x, y), x, y)"
      ]
     },
     "metadata": {},
     "output_type": "display_data"
    },
    {
     "name": "stdout",
     "output_type": "stream",
     "text": [
      "Try to reduce r1 with r0\n",
      "--------------------------------------- entering reduce\n"
     ]
    },
    {
     "data": {
      "text/html": [
       "<html><script type=\"math/tex; mode=display\">\\newcommand{\\Bold}[1]{\\mathbf{#1}}-\\frac{y {\\left(\\frac{x \\frac{\\partial}{\\partial y}z\\left(x, y\\right)}{x^{2} y + y^{2}} - \\frac{2 \\, w\\left(x, y\\right)}{y} + 2 \\, \\frac{\\partial}{\\partial y}w\\left(x, y\\right)\\right)}}{2 \\, x} + \\frac{y \\frac{\\partial}{\\partial y}w\\left(x, y\\right)}{x} + \\frac{2 \\, y \\frac{\\partial}{\\partial x}z\\left(x, y\\right)}{x} + \\frac{7 \\, {\\left(2 \\, x^{2} w\\left(x, y\\right) - 2 \\, y^{2} \\frac{\\partial}{\\partial y}w\\left(x, y\\right) - 2 \\, {\\left(x^{2} \\frac{\\partial}{\\partial y}w\\left(x, y\\right) - w\\left(x, y\\right)\\right)} y - x \\frac{\\partial}{\\partial y}z\\left(x, y\\right)\\right)}}{2 \\, {\\left(x^{3} + x y\\right)}} + \\frac{\\partial^{2}}{\\partial x\\partial y}z\\left(x, y\\right)</script></html>"
      ],
      "text/latex": [
       "\\begin{math}\n",
       "\\newcommand{\\Bold}[1]{\\mathbf{#1}}-\\frac{y {\\left(\\frac{x \\frac{\\partial}{\\partial y}z\\left(x, y\\right)}{x^{2} y + y^{2}} - \\frac{2 \\, w\\left(x, y\\right)}{y} + 2 \\, \\frac{\\partial}{\\partial y}w\\left(x, y\\right)\\right)}}{2 \\, x} + \\frac{y \\frac{\\partial}{\\partial y}w\\left(x, y\\right)}{x} + \\frac{2 \\, y \\frac{\\partial}{\\partial x}z\\left(x, y\\right)}{x} + \\frac{7 \\, {\\left(2 \\, x^{2} w\\left(x, y\\right) - 2 \\, y^{2} \\frac{\\partial}{\\partial y}w\\left(x, y\\right) - 2 \\, {\\left(x^{2} \\frac{\\partial}{\\partial y}w\\left(x, y\\right) - w\\left(x, y\\right)\\right)} y - x \\frac{\\partial}{\\partial y}z\\left(x, y\\right)\\right)}}{2 \\, {\\left(x^{3} + x y\\right)}} + \\frac{\\partial^{2}}{\\partial x\\partial y}z\\left(x, y\\right)\n",
       "\\end{math}"
      ],
      "text/plain": [
       "-1/2*y*(x*diff(z(x, y), y)/(x^2*y + y^2) - 2*w(x, y)/y + 2*diff(w(x, y), y))/x + y*diff(w(x, y), y)/x + 2*y*diff(z(x, y), x)/x + 7/2*(2*x^2*w(x, y) - 2*y^2*diff(w(x, y), y) - 2*(x^2*diff(w(x, y), y) - w(x, y))*y - x*diff(z(x, y), y))/(x^3 + x*y) + diff(z(x, y), x, y)"
      ]
     },
     "metadata": {},
     "output_type": "display_data"
    },
    {
     "data": {
      "text/html": [
       "<html><script type=\"math/tex; mode=display\">\\newcommand{\\Bold}[1]{\\mathbf{#1}}-\\frac{w\\left(x, y\\right)}{y} + \\frac{x \\frac{\\partial}{\\partial y}z\\left(x, y\\right)}{2 \\, {\\left(x^{2} + y\\right)} y} + \\frac{\\partial}{\\partial y}w\\left(x, y\\right)</script></html>"
      ],
      "text/latex": [
       "\\begin{math}\n",
       "\\newcommand{\\Bold}[1]{\\mathbf{#1}}-\\frac{w\\left(x, y\\right)}{y} + \\frac{x \\frac{\\partial}{\\partial y}z\\left(x, y\\right)}{2 \\, {\\left(x^{2} + y\\right)} y} + \\frac{\\partial}{\\partial y}w\\left(x, y\\right)\n",
       "\\end{math}"
      ],
      "text/plain": [
       "-w(x, y)/y + 1/2*x*diff(z(x, y), y)/((x^2 + y)*y) + diff(w(x, y), y)"
      ]
     },
     "metadata": {},
     "output_type": "display_data"
    },
    {
     "name": "stdout",
     "output_type": "stream",
     "text": [
      "have reduced!\n"
     ]
    },
    {
     "data": {
      "text/html": [
       "<html><script type=\"math/tex; mode=display\">\\newcommand{\\Bold}[1]{\\mathbf{#1}}-\\frac{y {\\left(\\frac{x \\frac{\\partial}{\\partial y}z\\left(x, y\\right)}{x^{2} y + y^{2}} - \\frac{2 \\, w\\left(x, y\\right)}{y} + 2 \\, \\frac{\\partial}{\\partial y}w\\left(x, y\\right)\\right)}}{2 \\, x} + \\frac{y \\frac{\\partial}{\\partial y}w\\left(x, y\\right)}{x} + \\frac{2 \\, y \\frac{\\partial}{\\partial x}z\\left(x, y\\right)}{x} + \\frac{4 \\, {\\left(2 \\, x^{2} w\\left(x, y\\right) - 2 \\, y^{2} \\frac{\\partial}{\\partial y}w\\left(x, y\\right) - 2 \\, {\\left(x^{2} \\frac{\\partial}{\\partial y}w\\left(x, y\\right) - w\\left(x, y\\right)\\right)} y - x \\frac{\\partial}{\\partial y}z\\left(x, y\\right)\\right)}}{x^{3} + x y} + \\frac{\\partial^{2}}{\\partial x\\partial y}z\\left(x, y\\right)</script></html>"
      ],
      "text/latex": [
       "\\begin{math}\n",
       "\\newcommand{\\Bold}[1]{\\mathbf{#1}}-\\frac{y {\\left(\\frac{x \\frac{\\partial}{\\partial y}z\\left(x, y\\right)}{x^{2} y + y^{2}} - \\frac{2 \\, w\\left(x, y\\right)}{y} + 2 \\, \\frac{\\partial}{\\partial y}w\\left(x, y\\right)\\right)}}{2 \\, x} + \\frac{y \\frac{\\partial}{\\partial y}w\\left(x, y\\right)}{x} + \\frac{2 \\, y \\frac{\\partial}{\\partial x}z\\left(x, y\\right)}{x} + \\frac{4 \\, {\\left(2 \\, x^{2} w\\left(x, y\\right) - 2 \\, y^{2} \\frac{\\partial}{\\partial y}w\\left(x, y\\right) - 2 \\, {\\left(x^{2} \\frac{\\partial}{\\partial y}w\\left(x, y\\right) - w\\left(x, y\\right)\\right)} y - x \\frac{\\partial}{\\partial y}z\\left(x, y\\right)\\right)}}{x^{3} + x y} + \\frac{\\partial^{2}}{\\partial x\\partial y}z\\left(x, y\\right)\n",
       "\\end{math}"
      ],
      "text/plain": [
       "-1/2*y*(x*diff(z(x, y), y)/(x^2*y + y^2) - 2*w(x, y)/y + 2*diff(w(x, y), y))/x + y*diff(w(x, y), y)/x + 2*y*diff(z(x, y), x)/x + 4*(2*x^2*w(x, y) - 2*y^2*diff(w(x, y), y) - 2*(x^2*diff(w(x, y), y) - w(x, y))*y - x*diff(z(x, y), y))/(x^3 + x*y) + diff(z(x, y), x, y)"
      ]
     },
     "metadata": {},
     "output_type": "display_data"
    },
    {
     "name": "stdout",
     "output_type": "stream",
     "text": [
      "1 * diff(z(x, y), x, y)\n",
      "y/x * diff(w(x, y), y)\n",
      "2*y/x * diff(z(x, y), x)\n",
      "9/2*(2*x^2*w(x, y) - 2*y^2*diff(w(x, y), y) - 2*(x^2*diff(w(x, y), y) - w(x, y))*y - x*diff(z(x, y), y))/(x^3 + x*y) * 1\n",
      "Try to reduce r2 with r0\n",
      "--------------------------------------- entering reduce\n"
     ]
    },
    {
     "data": {
      "text/html": [
       "<html><script type=\"math/tex; mode=display\">\\newcommand{\\Bold}[1]{\\mathbf{#1}}-\\frac{x \\frac{\\partial^{2}}{(\\partial y)^{2}}z\\left(x, y\\right)}{2 \\, {\\left(x^{2} + y\\right)} y} + \\frac{x \\frac{\\partial}{\\partial y}z\\left(x, y\\right)}{2 \\, {\\left(x^{2} + y\\right)} y^{2}} + \\frac{x \\frac{\\partial}{\\partial y}z\\left(x, y\\right)}{2 \\, {\\left(x^{2} + y\\right)}^{2} y} + \\frac{\\partial^{2}}{\\partial x\\partial y}z\\left(x, y\\right)</script></html>"
      ],
      "text/latex": [
       "\\begin{math}\n",
       "\\newcommand{\\Bold}[1]{\\mathbf{#1}}-\\frac{x \\frac{\\partial^{2}}{(\\partial y)^{2}}z\\left(x, y\\right)}{2 \\, {\\left(x^{2} + y\\right)} y} + \\frac{x \\frac{\\partial}{\\partial y}z\\left(x, y\\right)}{2 \\, {\\left(x^{2} + y\\right)} y^{2}} + \\frac{x \\frac{\\partial}{\\partial y}z\\left(x, y\\right)}{2 \\, {\\left(x^{2} + y\\right)}^{2} y} + \\frac{\\partial^{2}}{\\partial x\\partial y}z\\left(x, y\\right)\n",
       "\\end{math}"
      ],
      "text/plain": [
       "-1/2*x*diff(z(x, y), y, y)/((x^2 + y)*y) + 1/2*x*diff(z(x, y), y)/((x^2 + y)*y^2) + 1/2*x*diff(z(x, y), y)/((x^2 + y)^2*y) + diff(z(x, y), x, y)"
      ]
     },
     "metadata": {},
     "output_type": "display_data"
    },
    {
     "data": {
      "text/html": [
       "<html><script type=\"math/tex; mode=display\">\\newcommand{\\Bold}[1]{\\mathbf{#1}}-\\frac{w\\left(x, y\\right)}{y} + \\frac{x \\frac{\\partial}{\\partial y}z\\left(x, y\\right)}{2 \\, {\\left(x^{2} + y\\right)} y} + \\frac{\\partial}{\\partial y}w\\left(x, y\\right)</script></html>"
      ],
      "text/latex": [
       "\\begin{math}\n",
       "\\newcommand{\\Bold}[1]{\\mathbf{#1}}-\\frac{w\\left(x, y\\right)}{y} + \\frac{x \\frac{\\partial}{\\partial y}z\\left(x, y\\right)}{2 \\, {\\left(x^{2} + y\\right)} y} + \\frac{\\partial}{\\partial y}w\\left(x, y\\right)\n",
       "\\end{math}"
      ],
      "text/plain": [
       "-w(x, y)/y + 1/2*x*diff(z(x, y), y)/((x^2 + y)*y) + diff(w(x, y), y)"
      ]
     },
     "metadata": {},
     "output_type": "display_data"
    },
    {
     "name": "stdout",
     "output_type": "stream",
     "text": [
      "Try to reduce r3 with r0\n",
      "--------------------------------------- entering reduce\n"
     ]
    },
    {
     "data": {
      "text/html": [
       "<html><script type=\"math/tex; mode=display\">\\newcommand{\\Bold}[1]{\\mathbf{#1}}\\frac{x \\frac{\\partial}{\\partial y}z\\left(x, y\\right)}{y} + \\frac{\\frac{\\partial}{\\partial y}w\\left(x, y\\right)}{2 \\, y} - \\frac{x \\frac{\\partial^{2}}{\\partial x\\partial y}z\\left(x, y\\right)}{2 \\, {\\left(x^{2} + y\\right)} y} + \\frac{x^{2} \\frac{\\partial}{\\partial y}z\\left(x, y\\right)}{{\\left(x^{2} + y\\right)}^{2} y} - \\frac{w\\left(x, y\\right)}{2 \\, y^{2}} - \\frac{\\frac{\\partial}{\\partial y}z\\left(x, y\\right)}{2 \\, {\\left(x^{2} + y\\right)} y} + \\frac{\\partial^{2}}{\\partial x\\partial y}z\\left(x, y\\right)</script></html>"
      ],
      "text/latex": [
       "\\begin{math}\n",
       "\\newcommand{\\Bold}[1]{\\mathbf{#1}}\\frac{x \\frac{\\partial}{\\partial y}z\\left(x, y\\right)}{y} + \\frac{\\frac{\\partial}{\\partial y}w\\left(x, y\\right)}{2 \\, y} - \\frac{x \\frac{\\partial^{2}}{\\partial x\\partial y}z\\left(x, y\\right)}{2 \\, {\\left(x^{2} + y\\right)} y} + \\frac{x^{2} \\frac{\\partial}{\\partial y}z\\left(x, y\\right)}{{\\left(x^{2} + y\\right)}^{2} y} - \\frac{w\\left(x, y\\right)}{2 \\, y^{2}} - \\frac{\\frac{\\partial}{\\partial y}z\\left(x, y\\right)}{2 \\, {\\left(x^{2} + y\\right)} y} + \\frac{\\partial^{2}}{\\partial x\\partial y}z\\left(x, y\\right)\n",
       "\\end{math}"
      ],
      "text/plain": [
       "x*diff(z(x, y), y)/y + 1/2*diff(w(x, y), y)/y - 1/2*x*diff(z(x, y), x, y)/((x^2 + y)*y) + x^2*diff(z(x, y), y)/((x^2 + y)^2*y) - 1/2*w(x, y)/y^2 - 1/2*diff(z(x, y), y)/((x^2 + y)*y) + diff(z(x, y), x, y)"
      ]
     },
     "metadata": {},
     "output_type": "display_data"
    },
    {
     "data": {
      "text/html": [
       "<html><script type=\"math/tex; mode=display\">\\newcommand{\\Bold}[1]{\\mathbf{#1}}-\\frac{w\\left(x, y\\right)}{y} + \\frac{x \\frac{\\partial}{\\partial y}z\\left(x, y\\right)}{2 \\, {\\left(x^{2} + y\\right)} y} + \\frac{\\partial}{\\partial y}w\\left(x, y\\right)</script></html>"
      ],
      "text/latex": [
       "\\begin{math}\n",
       "\\newcommand{\\Bold}[1]{\\mathbf{#1}}-\\frac{w\\left(x, y\\right)}{y} + \\frac{x \\frac{\\partial}{\\partial y}z\\left(x, y\\right)}{2 \\, {\\left(x^{2} + y\\right)} y} + \\frac{\\partial}{\\partial y}w\\left(x, y\\right)\n",
       "\\end{math}"
      ],
      "text/plain": [
       "-w(x, y)/y + 1/2*x*diff(z(x, y), y)/((x^2 + y)*y) + diff(w(x, y), y)"
      ]
     },
     "metadata": {},
     "output_type": "display_data"
    },
    {
     "name": "stdout",
     "output_type": "stream",
     "text": [
      "Try to reduce r4 with r0\n",
      "--------------------------------------- entering reduce\n"
     ]
    },
    {
     "data": {
      "text/html": [
       "<html><script type=\"math/tex; mode=display\">\\newcommand{\\Bold}[1]{\\mathbf{#1}}-\\frac{2 \\, x \\frac{\\partial^{2}}{(\\partial x)^{2}}z\\left(x, y\\right)}{y} - \\frac{x \\frac{\\partial}{\\partial x}w\\left(x, y\\right)}{y^{2}} + \\frac{\\frac{\\partial}{\\partial x}w\\left(x, y\\right)}{y} - \\frac{x \\frac{\\partial^{2}}{\\partial x\\partial y}z\\left(x, y\\right)}{2 \\, {\\left(x^{2} + y\\right)} y} + \\frac{x^{2} \\frac{\\partial}{\\partial y}z\\left(x, y\\right)}{{\\left(x^{2} + y\\right)}^{2} y} - \\frac{\\frac{\\partial}{\\partial y}z\\left(x, y\\right)}{2 \\, {\\left(x^{2} + y\\right)} y}</script></html>"
      ],
      "text/latex": [
       "\\begin{math}\n",
       "\\newcommand{\\Bold}[1]{\\mathbf{#1}}-\\frac{2 \\, x \\frac{\\partial^{2}}{(\\partial x)^{2}}z\\left(x, y\\right)}{y} - \\frac{x \\frac{\\partial}{\\partial x}w\\left(x, y\\right)}{y^{2}} + \\frac{\\frac{\\partial}{\\partial x}w\\left(x, y\\right)}{y} - \\frac{x \\frac{\\partial^{2}}{\\partial x\\partial y}z\\left(x, y\\right)}{2 \\, {\\left(x^{2} + y\\right)} y} + \\frac{x^{2} \\frac{\\partial}{\\partial y}z\\left(x, y\\right)}{{\\left(x^{2} + y\\right)}^{2} y} - \\frac{\\frac{\\partial}{\\partial y}z\\left(x, y\\right)}{2 \\, {\\left(x^{2} + y\\right)} y}\n",
       "\\end{math}"
      ],
      "text/plain": [
       "-2*x*diff(z(x, y), x, x)/y - x*diff(w(x, y), x)/y^2 + diff(w(x, y), x)/y - 1/2*x*diff(z(x, y), x, y)/((x^2 + y)*y) + x^2*diff(z(x, y), y)/((x^2 + y)^2*y) - 1/2*diff(z(x, y), y)/((x^2 + y)*y)"
      ]
     },
     "metadata": {},
     "output_type": "display_data"
    },
    {
     "data": {
      "text/html": [
       "<html><script type=\"math/tex; mode=display\">\\newcommand{\\Bold}[1]{\\mathbf{#1}}-\\frac{w\\left(x, y\\right)}{y} + \\frac{x \\frac{\\partial}{\\partial y}z\\left(x, y\\right)}{2 \\, {\\left(x^{2} + y\\right)} y} + \\frac{\\partial}{\\partial y}w\\left(x, y\\right)</script></html>"
      ],
      "text/latex": [
       "\\begin{math}\n",
       "\\newcommand{\\Bold}[1]{\\mathbf{#1}}-\\frac{w\\left(x, y\\right)}{y} + \\frac{x \\frac{\\partial}{\\partial y}z\\left(x, y\\right)}{2 \\, {\\left(x^{2} + y\\right)} y} + \\frac{\\partial}{\\partial y}w\\left(x, y\\right)\n",
       "\\end{math}"
      ],
      "text/plain": [
       "-w(x, y)/y + 1/2*x*diff(z(x, y), y)/((x^2 + y)*y) + diff(w(x, y), y)"
      ]
     },
     "metadata": {},
     "output_type": "display_data"
    },
    {
     "name": "stdout",
     "output_type": "stream",
     "text": [
      "This is the new System........\n"
     ]
    },
    {
     "data": {
      "text/html": [
       "<html><script type=\"math/tex; mode=display\">\\newcommand{\\Bold}[1]{\\mathbf{#1}}-\\frac{w\\left(x, y\\right)}{y} + \\frac{x \\frac{\\partial}{\\partial y}z\\left(x, y\\right)}{2 \\, {\\left(x^{2} + y\\right)} y} + \\frac{\\partial}{\\partial y}w\\left(x, y\\right)</script></html>"
      ],
      "text/latex": [
       "\\begin{math}\n",
       "\\newcommand{\\Bold}[1]{\\mathbf{#1}}-\\frac{w\\left(x, y\\right)}{y} + \\frac{x \\frac{\\partial}{\\partial y}z\\left(x, y\\right)}{2 \\, {\\left(x^{2} + y\\right)} y} + \\frac{\\partial}{\\partial y}w\\left(x, y\\right)\n",
       "\\end{math}"
      ],
      "text/plain": [
       "-w(x, y)/y + 1/2*x*diff(z(x, y), y)/((x^2 + y)*y) + diff(w(x, y), y)"
      ]
     },
     "metadata": {},
     "output_type": "display_data"
    },
    {
     "data": {
      "text/html": [
       "<html><script type=\"math/tex; mode=display\">\\newcommand{\\Bold}[1]{\\mathbf{#1}}\\frac{x \\frac{\\partial}{\\partial y}z\\left(x, y\\right)}{y} + \\frac{\\frac{\\partial}{\\partial y}w\\left(x, y\\right)}{2 \\, y} - \\frac{x \\frac{\\partial^{2}}{\\partial x\\partial y}z\\left(x, y\\right)}{2 \\, {\\left(x^{2} + y\\right)} y} + \\frac{x^{2} \\frac{\\partial}{\\partial y}z\\left(x, y\\right)}{{\\left(x^{2} + y\\right)}^{2} y} - \\frac{w\\left(x, y\\right)}{2 \\, y^{2}} - \\frac{\\frac{\\partial}{\\partial y}z\\left(x, y\\right)}{2 \\, {\\left(x^{2} + y\\right)} y} + \\frac{\\partial^{2}}{\\partial x\\partial y}z\\left(x, y\\right)</script></html>"
      ],
      "text/latex": [
       "\\begin{math}\n",
       "\\newcommand{\\Bold}[1]{\\mathbf{#1}}\\frac{x \\frac{\\partial}{\\partial y}z\\left(x, y\\right)}{y} + \\frac{\\frac{\\partial}{\\partial y}w\\left(x, y\\right)}{2 \\, y} - \\frac{x \\frac{\\partial^{2}}{\\partial x\\partial y}z\\left(x, y\\right)}{2 \\, {\\left(x^{2} + y\\right)} y} + \\frac{x^{2} \\frac{\\partial}{\\partial y}z\\left(x, y\\right)}{{\\left(x^{2} + y\\right)}^{2} y} - \\frac{w\\left(x, y\\right)}{2 \\, y^{2}} - \\frac{\\frac{\\partial}{\\partial y}z\\left(x, y\\right)}{2 \\, {\\left(x^{2} + y\\right)} y} + \\frac{\\partial^{2}}{\\partial x\\partial y}z\\left(x, y\\right)\n",
       "\\end{math}"
      ],
      "text/plain": [
       "x*diff(z(x, y), y)/y + 1/2*diff(w(x, y), y)/y - 1/2*x*diff(z(x, y), x, y)/((x^2 + y)*y) + x^2*diff(z(x, y), y)/((x^2 + y)^2*y) - 1/2*w(x, y)/y^2 - 1/2*diff(z(x, y), y)/((x^2 + y)*y) + diff(z(x, y), x, y)"
      ]
     },
     "metadata": {},
     "output_type": "display_data"
    },
    {
     "data": {
      "text/html": [
       "<html><script type=\"math/tex; mode=display\">\\newcommand{\\Bold}[1]{\\mathbf{#1}}-\\frac{x \\frac{\\partial^{2}}{(\\partial y)^{2}}z\\left(x, y\\right)}{2 \\, {\\left(x^{2} + y\\right)} y} + \\frac{x \\frac{\\partial}{\\partial y}z\\left(x, y\\right)}{2 \\, {\\left(x^{2} + y\\right)} y^{2}} + \\frac{x \\frac{\\partial}{\\partial y}z\\left(x, y\\right)}{2 \\, {\\left(x^{2} + y\\right)}^{2} y} + \\frac{\\partial^{2}}{\\partial x\\partial y}z\\left(x, y\\right)</script></html>"
      ],
      "text/latex": [
       "\\begin{math}\n",
       "\\newcommand{\\Bold}[1]{\\mathbf{#1}}-\\frac{x \\frac{\\partial^{2}}{(\\partial y)^{2}}z\\left(x, y\\right)}{2 \\, {\\left(x^{2} + y\\right)} y} + \\frac{x \\frac{\\partial}{\\partial y}z\\left(x, y\\right)}{2 \\, {\\left(x^{2} + y\\right)} y^{2}} + \\frac{x \\frac{\\partial}{\\partial y}z\\left(x, y\\right)}{2 \\, {\\left(x^{2} + y\\right)}^{2} y} + \\frac{\\partial^{2}}{\\partial x\\partial y}z\\left(x, y\\right)\n",
       "\\end{math}"
      ],
      "text/plain": [
       "-1/2*x*diff(z(x, y), y, y)/((x^2 + y)*y) + 1/2*x*diff(z(x, y), y)/((x^2 + y)*y^2) + 1/2*x*diff(z(x, y), y)/((x^2 + y)^2*y) + diff(z(x, y), x, y)"
      ]
     },
     "metadata": {},
     "output_type": "display_data"
    },
    {
     "data": {
      "text/html": [
       "<html><script type=\"math/tex; mode=display\">\\newcommand{\\Bold}[1]{\\mathbf{#1}}-\\frac{y {\\left(\\frac{x \\frac{\\partial}{\\partial y}z\\left(x, y\\right)}{x^{2} y + y^{2}} - \\frac{2 \\, w\\left(x, y\\right)}{y} + 2 \\, \\frac{\\partial}{\\partial y}w\\left(x, y\\right)\\right)}}{2 \\, x} + \\frac{y \\frac{\\partial}{\\partial y}w\\left(x, y\\right)}{x} + \\frac{2 \\, y \\frac{\\partial}{\\partial x}z\\left(x, y\\right)}{x} + \\frac{4 \\, {\\left(2 \\, x^{2} w\\left(x, y\\right) - 2 \\, y^{2} \\frac{\\partial}{\\partial y}w\\left(x, y\\right) - 2 \\, {\\left(x^{2} \\frac{\\partial}{\\partial y}w\\left(x, y\\right) - w\\left(x, y\\right)\\right)} y - x \\frac{\\partial}{\\partial y}z\\left(x, y\\right)\\right)}}{x^{3} + x y} + \\frac{\\partial^{2}}{\\partial x\\partial y}z\\left(x, y\\right)</script></html>"
      ],
      "text/latex": [
       "\\begin{math}\n",
       "\\newcommand{\\Bold}[1]{\\mathbf{#1}}-\\frac{y {\\left(\\frac{x \\frac{\\partial}{\\partial y}z\\left(x, y\\right)}{x^{2} y + y^{2}} - \\frac{2 \\, w\\left(x, y\\right)}{y} + 2 \\, \\frac{\\partial}{\\partial y}w\\left(x, y\\right)\\right)}}{2 \\, x} + \\frac{y \\frac{\\partial}{\\partial y}w\\left(x, y\\right)}{x} + \\frac{2 \\, y \\frac{\\partial}{\\partial x}z\\left(x, y\\right)}{x} + \\frac{4 \\, {\\left(2 \\, x^{2} w\\left(x, y\\right) - 2 \\, y^{2} \\frac{\\partial}{\\partial y}w\\left(x, y\\right) - 2 \\, {\\left(x^{2} \\frac{\\partial}{\\partial y}w\\left(x, y\\right) - w\\left(x, y\\right)\\right)} y - x \\frac{\\partial}{\\partial y}z\\left(x, y\\right)\\right)}}{x^{3} + x y} + \\frac{\\partial^{2}}{\\partial x\\partial y}z\\left(x, y\\right)\n",
       "\\end{math}"
      ],
      "text/plain": [
       "-1/2*y*(x*diff(z(x, y), y)/(x^2*y + y^2) - 2*w(x, y)/y + 2*diff(w(x, y), y))/x + y*diff(w(x, y), y)/x + 2*y*diff(z(x, y), x)/x + 4*(2*x^2*w(x, y) - 2*y^2*diff(w(x, y), y) - 2*(x^2*diff(w(x, y), y) - w(x, y))*y - x*diff(z(x, y), y))/(x^3 + x*y) + diff(z(x, y), x, y)"
      ]
     },
     "metadata": {},
     "output_type": "display_data"
    },
    {
     "data": {
      "text/html": [
       "<html><script type=\"math/tex; mode=display\">\\newcommand{\\Bold}[1]{\\mathbf{#1}}-\\frac{2 \\, x \\frac{\\partial^{2}}{(\\partial x)^{2}}z\\left(x, y\\right)}{y} - \\frac{x \\frac{\\partial}{\\partial x}w\\left(x, y\\right)}{y^{2}} + \\frac{\\frac{\\partial}{\\partial x}w\\left(x, y\\right)}{y} - \\frac{x \\frac{\\partial^{2}}{\\partial x\\partial y}z\\left(x, y\\right)}{2 \\, {\\left(x^{2} + y\\right)} y} + \\frac{x^{2} \\frac{\\partial}{\\partial y}z\\left(x, y\\right)}{{\\left(x^{2} + y\\right)}^{2} y} - \\frac{\\frac{\\partial}{\\partial y}z\\left(x, y\\right)}{2 \\, {\\left(x^{2} + y\\right)} y}</script></html>"
      ],
      "text/latex": [
       "\\begin{math}\n",
       "\\newcommand{\\Bold}[1]{\\mathbf{#1}}-\\frac{2 \\, x \\frac{\\partial^{2}}{(\\partial x)^{2}}z\\left(x, y\\right)}{y} - \\frac{x \\frac{\\partial}{\\partial x}w\\left(x, y\\right)}{y^{2}} + \\frac{\\frac{\\partial}{\\partial x}w\\left(x, y\\right)}{y} - \\frac{x \\frac{\\partial^{2}}{\\partial x\\partial y}z\\left(x, y\\right)}{2 \\, {\\left(x^{2} + y\\right)} y} + \\frac{x^{2} \\frac{\\partial}{\\partial y}z\\left(x, y\\right)}{{\\left(x^{2} + y\\right)}^{2} y} - \\frac{\\frac{\\partial}{\\partial y}z\\left(x, y\\right)}{2 \\, {\\left(x^{2} + y\\right)} y}\n",
       "\\end{math}"
      ],
      "text/plain": [
       "-2*x*diff(z(x, y), x, x)/y - x*diff(w(x, y), x)/y^2 + diff(w(x, y), x)/y - 1/2*x*diff(z(x, y), x, y)/((x^2 + y)*y) + x^2*diff(z(x, y), y)/((x^2 + y)^2*y) - 1/2*diff(z(x, y), y)/((x^2 + y)*y)"
      ]
     },
     "metadata": {},
     "output_type": "display_data"
    },
    {
     "name": "stdout",
     "output_type": "stream",
     "text": [
      "While\n"
     ]
    },
    {
     "data": {
      "text/html": [
       "<html><script type=\"math/tex; mode=display\">\\newcommand{\\Bold}[1]{\\mathbf{#1}}-\\frac{w\\left(x, y\\right)}{y} + \\frac{x \\frac{\\partial}{\\partial y}z\\left(x, y\\right)}{2 \\, {\\left(x^{2} + y\\right)} y} + \\frac{\\partial}{\\partial y}w\\left(x, y\\right)</script></html>"
      ],
      "text/latex": [
       "\\begin{math}\n",
       "\\newcommand{\\Bold}[1]{\\mathbf{#1}}-\\frac{w\\left(x, y\\right)}{y} + \\frac{x \\frac{\\partial}{\\partial y}z\\left(x, y\\right)}{2 \\, {\\left(x^{2} + y\\right)} y} + \\frac{\\partial}{\\partial y}w\\left(x, y\\right)\n",
       "\\end{math}"
      ],
      "text/plain": [
       "-w(x, y)/y + 1/2*x*diff(z(x, y), y)/((x^2 + y)*y) + diff(w(x, y), y)"
      ]
     },
     "metadata": {},
     "output_type": "display_data"
    },
    {
     "data": {
      "text/html": [
       "<html><script type=\"math/tex; mode=display\">\\newcommand{\\Bold}[1]{\\mathbf{#1}}\\frac{x \\frac{\\partial}{\\partial y}z\\left(x, y\\right)}{y} + \\frac{\\frac{\\partial}{\\partial y}w\\left(x, y\\right)}{2 \\, y} - \\frac{x \\frac{\\partial^{2}}{\\partial x\\partial y}z\\left(x, y\\right)}{2 \\, {\\left(x^{2} + y\\right)} y} + \\frac{x^{2} \\frac{\\partial}{\\partial y}z\\left(x, y\\right)}{{\\left(x^{2} + y\\right)}^{2} y} - \\frac{w\\left(x, y\\right)}{2 \\, y^{2}} - \\frac{\\frac{\\partial}{\\partial y}z\\left(x, y\\right)}{2 \\, {\\left(x^{2} + y\\right)} y} + \\frac{\\partial^{2}}{\\partial x\\partial y}z\\left(x, y\\right)</script></html>"
      ],
      "text/latex": [
       "\\begin{math}\n",
       "\\newcommand{\\Bold}[1]{\\mathbf{#1}}\\frac{x \\frac{\\partial}{\\partial y}z\\left(x, y\\right)}{y} + \\frac{\\frac{\\partial}{\\partial y}w\\left(x, y\\right)}{2 \\, y} - \\frac{x \\frac{\\partial^{2}}{\\partial x\\partial y}z\\left(x, y\\right)}{2 \\, {\\left(x^{2} + y\\right)} y} + \\frac{x^{2} \\frac{\\partial}{\\partial y}z\\left(x, y\\right)}{{\\left(x^{2} + y\\right)}^{2} y} - \\frac{w\\left(x, y\\right)}{2 \\, y^{2}} - \\frac{\\frac{\\partial}{\\partial y}z\\left(x, y\\right)}{2 \\, {\\left(x^{2} + y\\right)} y} + \\frac{\\partial^{2}}{\\partial x\\partial y}z\\left(x, y\\right)\n",
       "\\end{math}"
      ],
      "text/plain": [
       "x*diff(z(x, y), y)/y + 1/2*diff(w(x, y), y)/y - 1/2*x*diff(z(x, y), x, y)/((x^2 + y)*y) + x^2*diff(z(x, y), y)/((x^2 + y)^2*y) - 1/2*w(x, y)/y^2 - 1/2*diff(z(x, y), y)/((x^2 + y)*y) + diff(z(x, y), x, y)"
      ]
     },
     "metadata": {},
     "output_type": "display_data"
    },
    {
     "name": "stdout",
     "output_type": "stream",
     "text": [
      "Try to reduce r1 with r0\n",
      "--------------------------------------- entering reduce\n"
     ]
    },
    {
     "data": {
      "text/html": [
       "<html><script type=\"math/tex; mode=display\">\\newcommand{\\Bold}[1]{\\mathbf{#1}}\\frac{x \\frac{\\partial}{\\partial y}z\\left(x, y\\right)}{y} + \\frac{\\frac{\\partial}{\\partial y}w\\left(x, y\\right)}{2 \\, y} - \\frac{x \\frac{\\partial^{2}}{\\partial x\\partial y}z\\left(x, y\\right)}{2 \\, {\\left(x^{2} + y\\right)} y} + \\frac{x^{2} \\frac{\\partial}{\\partial y}z\\left(x, y\\right)}{{\\left(x^{2} + y\\right)}^{2} y} - \\frac{w\\left(x, y\\right)}{2 \\, y^{2}} - \\frac{\\frac{\\partial}{\\partial y}z\\left(x, y\\right)}{2 \\, {\\left(x^{2} + y\\right)} y} + \\frac{\\partial^{2}}{\\partial x\\partial y}z\\left(x, y\\right)</script></html>"
      ],
      "text/latex": [
       "\\begin{math}\n",
       "\\newcommand{\\Bold}[1]{\\mathbf{#1}}\\frac{x \\frac{\\partial}{\\partial y}z\\left(x, y\\right)}{y} + \\frac{\\frac{\\partial}{\\partial y}w\\left(x, y\\right)}{2 \\, y} - \\frac{x \\frac{\\partial^{2}}{\\partial x\\partial y}z\\left(x, y\\right)}{2 \\, {\\left(x^{2} + y\\right)} y} + \\frac{x^{2} \\frac{\\partial}{\\partial y}z\\left(x, y\\right)}{{\\left(x^{2} + y\\right)}^{2} y} - \\frac{w\\left(x, y\\right)}{2 \\, y^{2}} - \\frac{\\frac{\\partial}{\\partial y}z\\left(x, y\\right)}{2 \\, {\\left(x^{2} + y\\right)} y} + \\frac{\\partial^{2}}{\\partial x\\partial y}z\\left(x, y\\right)\n",
       "\\end{math}"
      ],
      "text/plain": [
       "x*diff(z(x, y), y)/y + 1/2*diff(w(x, y), y)/y - 1/2*x*diff(z(x, y), x, y)/((x^2 + y)*y) + x^2*diff(z(x, y), y)/((x^2 + y)^2*y) - 1/2*w(x, y)/y^2 - 1/2*diff(z(x, y), y)/((x^2 + y)*y) + diff(z(x, y), x, y)"
      ]
     },
     "metadata": {},
     "output_type": "display_data"
    },
    {
     "data": {
      "text/html": [
       "<html><script type=\"math/tex; mode=display\">\\newcommand{\\Bold}[1]{\\mathbf{#1}}-\\frac{w\\left(x, y\\right)}{y} + \\frac{x \\frac{\\partial}{\\partial y}z\\left(x, y\\right)}{2 \\, {\\left(x^{2} + y\\right)} y} + \\frac{\\partial}{\\partial y}w\\left(x, y\\right)</script></html>"
      ],
      "text/latex": [
       "\\begin{math}\n",
       "\\newcommand{\\Bold}[1]{\\mathbf{#1}}-\\frac{w\\left(x, y\\right)}{y} + \\frac{x \\frac{\\partial}{\\partial y}z\\left(x, y\\right)}{2 \\, {\\left(x^{2} + y\\right)} y} + \\frac{\\partial}{\\partial y}w\\left(x, y\\right)\n",
       "\\end{math}"
      ],
      "text/plain": [
       "-w(x, y)/y + 1/2*x*diff(z(x, y), y)/((x^2 + y)*y) + diff(w(x, y), y)"
      ]
     },
     "metadata": {},
     "output_type": "display_data"
    },
    {
     "name": "stdout",
     "output_type": "stream",
     "text": [
      "Try to reduce r2 with r0\n",
      "--------------------------------------- entering reduce\n"
     ]
    },
    {
     "data": {
      "text/html": [
       "<html><script type=\"math/tex; mode=display\">\\newcommand{\\Bold}[1]{\\mathbf{#1}}-\\frac{x \\frac{\\partial^{2}}{(\\partial y)^{2}}z\\left(x, y\\right)}{2 \\, {\\left(x^{2} + y\\right)} y} + \\frac{x \\frac{\\partial}{\\partial y}z\\left(x, y\\right)}{2 \\, {\\left(x^{2} + y\\right)} y^{2}} + \\frac{x \\frac{\\partial}{\\partial y}z\\left(x, y\\right)}{2 \\, {\\left(x^{2} + y\\right)}^{2} y} + \\frac{\\partial^{2}}{\\partial x\\partial y}z\\left(x, y\\right)</script></html>"
      ],
      "text/latex": [
       "\\begin{math}\n",
       "\\newcommand{\\Bold}[1]{\\mathbf{#1}}-\\frac{x \\frac{\\partial^{2}}{(\\partial y)^{2}}z\\left(x, y\\right)}{2 \\, {\\left(x^{2} + y\\right)} y} + \\frac{x \\frac{\\partial}{\\partial y}z\\left(x, y\\right)}{2 \\, {\\left(x^{2} + y\\right)} y^{2}} + \\frac{x \\frac{\\partial}{\\partial y}z\\left(x, y\\right)}{2 \\, {\\left(x^{2} + y\\right)}^{2} y} + \\frac{\\partial^{2}}{\\partial x\\partial y}z\\left(x, y\\right)\n",
       "\\end{math}"
      ],
      "text/plain": [
       "-1/2*x*diff(z(x, y), y, y)/((x^2 + y)*y) + 1/2*x*diff(z(x, y), y)/((x^2 + y)*y^2) + 1/2*x*diff(z(x, y), y)/((x^2 + y)^2*y) + diff(z(x, y), x, y)"
      ]
     },
     "metadata": {},
     "output_type": "display_data"
    },
    {
     "data": {
      "text/html": [
       "<html><script type=\"math/tex; mode=display\">\\newcommand{\\Bold}[1]{\\mathbf{#1}}-\\frac{w\\left(x, y\\right)}{y} + \\frac{x \\frac{\\partial}{\\partial y}z\\left(x, y\\right)}{2 \\, {\\left(x^{2} + y\\right)} y} + \\frac{\\partial}{\\partial y}w\\left(x, y\\right)</script></html>"
      ],
      "text/latex": [
       "\\begin{math}\n",
       "\\newcommand{\\Bold}[1]{\\mathbf{#1}}-\\frac{w\\left(x, y\\right)}{y} + \\frac{x \\frac{\\partial}{\\partial y}z\\left(x, y\\right)}{2 \\, {\\left(x^{2} + y\\right)} y} + \\frac{\\partial}{\\partial y}w\\left(x, y\\right)\n",
       "\\end{math}"
      ],
      "text/plain": [
       "-w(x, y)/y + 1/2*x*diff(z(x, y), y)/((x^2 + y)*y) + diff(w(x, y), y)"
      ]
     },
     "metadata": {},
     "output_type": "display_data"
    },
    {
     "name": "stdout",
     "output_type": "stream",
     "text": [
      "Try to reduce r3 with r0\n",
      "--------------------------------------- entering reduce\n"
     ]
    },
    {
     "data": {
      "text/html": [
       "<html><script type=\"math/tex; mode=display\">\\newcommand{\\Bold}[1]{\\mathbf{#1}}-\\frac{y {\\left(\\frac{x \\frac{\\partial}{\\partial y}z\\left(x, y\\right)}{x^{2} y + y^{2}} - \\frac{2 \\, w\\left(x, y\\right)}{y} + 2 \\, \\frac{\\partial}{\\partial y}w\\left(x, y\\right)\\right)}}{2 \\, x} + \\frac{y \\frac{\\partial}{\\partial y}w\\left(x, y\\right)}{x} + \\frac{2 \\, y \\frac{\\partial}{\\partial x}z\\left(x, y\\right)}{x} + \\frac{4 \\, {\\left(2 \\, x^{2} w\\left(x, y\\right) - 2 \\, y^{2} \\frac{\\partial}{\\partial y}w\\left(x, y\\right) - 2 \\, {\\left(x^{2} \\frac{\\partial}{\\partial y}w\\left(x, y\\right) - w\\left(x, y\\right)\\right)} y - x \\frac{\\partial}{\\partial y}z\\left(x, y\\right)\\right)}}{x^{3} + x y} + \\frac{\\partial^{2}}{\\partial x\\partial y}z\\left(x, y\\right)</script></html>"
      ],
      "text/latex": [
       "\\begin{math}\n",
       "\\newcommand{\\Bold}[1]{\\mathbf{#1}}-\\frac{y {\\left(\\frac{x \\frac{\\partial}{\\partial y}z\\left(x, y\\right)}{x^{2} y + y^{2}} - \\frac{2 \\, w\\left(x, y\\right)}{y} + 2 \\, \\frac{\\partial}{\\partial y}w\\left(x, y\\right)\\right)}}{2 \\, x} + \\frac{y \\frac{\\partial}{\\partial y}w\\left(x, y\\right)}{x} + \\frac{2 \\, y \\frac{\\partial}{\\partial x}z\\left(x, y\\right)}{x} + \\frac{4 \\, {\\left(2 \\, x^{2} w\\left(x, y\\right) - 2 \\, y^{2} \\frac{\\partial}{\\partial y}w\\left(x, y\\right) - 2 \\, {\\left(x^{2} \\frac{\\partial}{\\partial y}w\\left(x, y\\right) - w\\left(x, y\\right)\\right)} y - x \\frac{\\partial}{\\partial y}z\\left(x, y\\right)\\right)}}{x^{3} + x y} + \\frac{\\partial^{2}}{\\partial x\\partial y}z\\left(x, y\\right)\n",
       "\\end{math}"
      ],
      "text/plain": [
       "-1/2*y*(x*diff(z(x, y), y)/(x^2*y + y^2) - 2*w(x, y)/y + 2*diff(w(x, y), y))/x + y*diff(w(x, y), y)/x + 2*y*diff(z(x, y), x)/x + 4*(2*x^2*w(x, y) - 2*y^2*diff(w(x, y), y) - 2*(x^2*diff(w(x, y), y) - w(x, y))*y - x*diff(z(x, y), y))/(x^3 + x*y) + diff(z(x, y), x, y)"
      ]
     },
     "metadata": {},
     "output_type": "display_data"
    },
    {
     "data": {
      "text/html": [
       "<html><script type=\"math/tex; mode=display\">\\newcommand{\\Bold}[1]{\\mathbf{#1}}-\\frac{w\\left(x, y\\right)}{y} + \\frac{x \\frac{\\partial}{\\partial y}z\\left(x, y\\right)}{2 \\, {\\left(x^{2} + y\\right)} y} + \\frac{\\partial}{\\partial y}w\\left(x, y\\right)</script></html>"
      ],
      "text/latex": [
       "\\begin{math}\n",
       "\\newcommand{\\Bold}[1]{\\mathbf{#1}}-\\frac{w\\left(x, y\\right)}{y} + \\frac{x \\frac{\\partial}{\\partial y}z\\left(x, y\\right)}{2 \\, {\\left(x^{2} + y\\right)} y} + \\frac{\\partial}{\\partial y}w\\left(x, y\\right)\n",
       "\\end{math}"
      ],
      "text/plain": [
       "-w(x, y)/y + 1/2*x*diff(z(x, y), y)/((x^2 + y)*y) + diff(w(x, y), y)"
      ]
     },
     "metadata": {},
     "output_type": "display_data"
    },
    {
     "name": "stdout",
     "output_type": "stream",
     "text": [
      "have reduced!\n"
     ]
    },
    {
     "data": {
      "text/html": [
       "<html><script type=\"math/tex; mode=display\">\\newcommand{\\Bold}[1]{\\mathbf{#1}}-\\frac{y {\\left(\\frac{x \\frac{\\partial}{\\partial y}z\\left(x, y\\right)}{x^{2} y + y^{2}} - \\frac{2 \\, w\\left(x, y\\right)}{y} + 2 \\, \\frac{\\partial}{\\partial y}w\\left(x, y\\right)\\right)}}{2 \\, x} + \\frac{y \\frac{\\partial}{\\partial y}w\\left(x, y\\right)}{x} + \\frac{2 \\, y \\frac{\\partial}{\\partial x}z\\left(x, y\\right)}{x} + \\frac{9 \\, {\\left(2 \\, x^{2} w\\left(x, y\\right) - 2 \\, y^{2} \\frac{\\partial}{\\partial y}w\\left(x, y\\right) - 2 \\, {\\left(x^{2} \\frac{\\partial}{\\partial y}w\\left(x, y\\right) - w\\left(x, y\\right)\\right)} y - x \\frac{\\partial}{\\partial y}z\\left(x, y\\right)\\right)}}{2 \\, {\\left(x^{3} + x y\\right)}} + \\frac{\\partial^{2}}{\\partial x\\partial y}z\\left(x, y\\right)</script></html>"
      ],
      "text/latex": [
       "\\begin{math}\n",
       "\\newcommand{\\Bold}[1]{\\mathbf{#1}}-\\frac{y {\\left(\\frac{x \\frac{\\partial}{\\partial y}z\\left(x, y\\right)}{x^{2} y + y^{2}} - \\frac{2 \\, w\\left(x, y\\right)}{y} + 2 \\, \\frac{\\partial}{\\partial y}w\\left(x, y\\right)\\right)}}{2 \\, x} + \\frac{y \\frac{\\partial}{\\partial y}w\\left(x, y\\right)}{x} + \\frac{2 \\, y \\frac{\\partial}{\\partial x}z\\left(x, y\\right)}{x} + \\frac{9 \\, {\\left(2 \\, x^{2} w\\left(x, y\\right) - 2 \\, y^{2} \\frac{\\partial}{\\partial y}w\\left(x, y\\right) - 2 \\, {\\left(x^{2} \\frac{\\partial}{\\partial y}w\\left(x, y\\right) - w\\left(x, y\\right)\\right)} y - x \\frac{\\partial}{\\partial y}z\\left(x, y\\right)\\right)}}{2 \\, {\\left(x^{3} + x y\\right)}} + \\frac{\\partial^{2}}{\\partial x\\partial y}z\\left(x, y\\right)\n",
       "\\end{math}"
      ],
      "text/plain": [
       "-1/2*y*(x*diff(z(x, y), y)/(x^2*y + y^2) - 2*w(x, y)/y + 2*diff(w(x, y), y))/x + y*diff(w(x, y), y)/x + 2*y*diff(z(x, y), x)/x + 9/2*(2*x^2*w(x, y) - 2*y^2*diff(w(x, y), y) - 2*(x^2*diff(w(x, y), y) - w(x, y))*y - x*diff(z(x, y), y))/(x^3 + x*y) + diff(z(x, y), x, y)"
      ]
     },
     "metadata": {},
     "output_type": "display_data"
    },
    {
     "name": "stdout",
     "output_type": "stream",
     "text": [
      "1 * diff(z(x, y), x, y)\n",
      "y/x * diff(w(x, y), y)\n",
      "2*y/x * diff(z(x, y), x)\n",
      "5*(2*x^2*w(x, y) - 2*y^2*diff(w(x, y), y) - 2*(x^2*diff(w(x, y), y) - w(x, y))*y - x*diff(z(x, y), y))/(x^3 + x*y) * 1\n",
      "Try to reduce r4 with r0\n",
      "--------------------------------------- entering reduce\n"
     ]
    },
    {
     "data": {
      "text/html": [
       "<html><script type=\"math/tex; mode=display\">\\newcommand{\\Bold}[1]{\\mathbf{#1}}-\\frac{2 \\, x \\frac{\\partial^{2}}{(\\partial x)^{2}}z\\left(x, y\\right)}{y} - \\frac{x \\frac{\\partial}{\\partial x}w\\left(x, y\\right)}{y^{2}} + \\frac{\\frac{\\partial}{\\partial x}w\\left(x, y\\right)}{y} - \\frac{x \\frac{\\partial^{2}}{\\partial x\\partial y}z\\left(x, y\\right)}{2 \\, {\\left(x^{2} + y\\right)} y} + \\frac{x^{2} \\frac{\\partial}{\\partial y}z\\left(x, y\\right)}{{\\left(x^{2} + y\\right)}^{2} y} - \\frac{\\frac{\\partial}{\\partial y}z\\left(x, y\\right)}{2 \\, {\\left(x^{2} + y\\right)} y}</script></html>"
      ],
      "text/latex": [
       "\\begin{math}\n",
       "\\newcommand{\\Bold}[1]{\\mathbf{#1}}-\\frac{2 \\, x \\frac{\\partial^{2}}{(\\partial x)^{2}}z\\left(x, y\\right)}{y} - \\frac{x \\frac{\\partial}{\\partial x}w\\left(x, y\\right)}{y^{2}} + \\frac{\\frac{\\partial}{\\partial x}w\\left(x, y\\right)}{y} - \\frac{x \\frac{\\partial^{2}}{\\partial x\\partial y}z\\left(x, y\\right)}{2 \\, {\\left(x^{2} + y\\right)} y} + \\frac{x^{2} \\frac{\\partial}{\\partial y}z\\left(x, y\\right)}{{\\left(x^{2} + y\\right)}^{2} y} - \\frac{\\frac{\\partial}{\\partial y}z\\left(x, y\\right)}{2 \\, {\\left(x^{2} + y\\right)} y}\n",
       "\\end{math}"
      ],
      "text/plain": [
       "-2*x*diff(z(x, y), x, x)/y - x*diff(w(x, y), x)/y^2 + diff(w(x, y), x)/y - 1/2*x*diff(z(x, y), x, y)/((x^2 + y)*y) + x^2*diff(z(x, y), y)/((x^2 + y)^2*y) - 1/2*diff(z(x, y), y)/((x^2 + y)*y)"
      ]
     },
     "metadata": {},
     "output_type": "display_data"
    },
    {
     "data": {
      "text/html": [
       "<html><script type=\"math/tex; mode=display\">\\newcommand{\\Bold}[1]{\\mathbf{#1}}-\\frac{w\\left(x, y\\right)}{y} + \\frac{x \\frac{\\partial}{\\partial y}z\\left(x, y\\right)}{2 \\, {\\left(x^{2} + y\\right)} y} + \\frac{\\partial}{\\partial y}w\\left(x, y\\right)</script></html>"
      ],
      "text/latex": [
       "\\begin{math}\n",
       "\\newcommand{\\Bold}[1]{\\mathbf{#1}}-\\frac{w\\left(x, y\\right)}{y} + \\frac{x \\frac{\\partial}{\\partial y}z\\left(x, y\\right)}{2 \\, {\\left(x^{2} + y\\right)} y} + \\frac{\\partial}{\\partial y}w\\left(x, y\\right)\n",
       "\\end{math}"
      ],
      "text/plain": [
       "-w(x, y)/y + 1/2*x*diff(z(x, y), y)/((x^2 + y)*y) + diff(w(x, y), y)"
      ]
     },
     "metadata": {},
     "output_type": "display_data"
    },
    {
     "name": "stdout",
     "output_type": "stream",
     "text": [
      "This is the new System........\n"
     ]
    },
    {
     "data": {
      "text/html": [
       "<html><script type=\"math/tex; mode=display\">\\newcommand{\\Bold}[1]{\\mathbf{#1}}-\\frac{w\\left(x, y\\right)}{y} + \\frac{x \\frac{\\partial}{\\partial y}z\\left(x, y\\right)}{2 \\, {\\left(x^{2} + y\\right)} y} + \\frac{\\partial}{\\partial y}w\\left(x, y\\right)</script></html>"
      ],
      "text/latex": [
       "\\begin{math}\n",
       "\\newcommand{\\Bold}[1]{\\mathbf{#1}}-\\frac{w\\left(x, y\\right)}{y} + \\frac{x \\frac{\\partial}{\\partial y}z\\left(x, y\\right)}{2 \\, {\\left(x^{2} + y\\right)} y} + \\frac{\\partial}{\\partial y}w\\left(x, y\\right)\n",
       "\\end{math}"
      ],
      "text/plain": [
       "-w(x, y)/y + 1/2*x*diff(z(x, y), y)/((x^2 + y)*y) + diff(w(x, y), y)"
      ]
     },
     "metadata": {},
     "output_type": "display_data"
    },
    {
     "data": {
      "text/html": [
       "<html><script type=\"math/tex; mode=display\">\\newcommand{\\Bold}[1]{\\mathbf{#1}}-\\frac{y {\\left(\\frac{x \\frac{\\partial}{\\partial y}z\\left(x, y\\right)}{x^{2} y + y^{2}} - \\frac{2 \\, w\\left(x, y\\right)}{y} + 2 \\, \\frac{\\partial}{\\partial y}w\\left(x, y\\right)\\right)}}{2 \\, x} + \\frac{y \\frac{\\partial}{\\partial y}w\\left(x, y\\right)}{x} + \\frac{2 \\, y \\frac{\\partial}{\\partial x}z\\left(x, y\\right)}{x} + \\frac{9 \\, {\\left(2 \\, x^{2} w\\left(x, y\\right) - 2 \\, y^{2} \\frac{\\partial}{\\partial y}w\\left(x, y\\right) - 2 \\, {\\left(x^{2} \\frac{\\partial}{\\partial y}w\\left(x, y\\right) - w\\left(x, y\\right)\\right)} y - x \\frac{\\partial}{\\partial y}z\\left(x, y\\right)\\right)}}{2 \\, {\\left(x^{3} + x y\\right)}} + \\frac{\\partial^{2}}{\\partial x\\partial y}z\\left(x, y\\right)</script></html>"
      ],
      "text/latex": [
       "\\begin{math}\n",
       "\\newcommand{\\Bold}[1]{\\mathbf{#1}}-\\frac{y {\\left(\\frac{x \\frac{\\partial}{\\partial y}z\\left(x, y\\right)}{x^{2} y + y^{2}} - \\frac{2 \\, w\\left(x, y\\right)}{y} + 2 \\, \\frac{\\partial}{\\partial y}w\\left(x, y\\right)\\right)}}{2 \\, x} + \\frac{y \\frac{\\partial}{\\partial y}w\\left(x, y\\right)}{x} + \\frac{2 \\, y \\frac{\\partial}{\\partial x}z\\left(x, y\\right)}{x} + \\frac{9 \\, {\\left(2 \\, x^{2} w\\left(x, y\\right) - 2 \\, y^{2} \\frac{\\partial}{\\partial y}w\\left(x, y\\right) - 2 \\, {\\left(x^{2} \\frac{\\partial}{\\partial y}w\\left(x, y\\right) - w\\left(x, y\\right)\\right)} y - x \\frac{\\partial}{\\partial y}z\\left(x, y\\right)\\right)}}{2 \\, {\\left(x^{3} + x y\\right)}} + \\frac{\\partial^{2}}{\\partial x\\partial y}z\\left(x, y\\right)\n",
       "\\end{math}"
      ],
      "text/plain": [
       "-1/2*y*(x*diff(z(x, y), y)/(x^2*y + y^2) - 2*w(x, y)/y + 2*diff(w(x, y), y))/x + y*diff(w(x, y), y)/x + 2*y*diff(z(x, y), x)/x + 9/2*(2*x^2*w(x, y) - 2*y^2*diff(w(x, y), y) - 2*(x^2*diff(w(x, y), y) - w(x, y))*y - x*diff(z(x, y), y))/(x^3 + x*y) + diff(z(x, y), x, y)"
      ]
     },
     "metadata": {},
     "output_type": "display_data"
    },
    {
     "data": {
      "text/html": [
       "<html><script type=\"math/tex; mode=display\">\\newcommand{\\Bold}[1]{\\mathbf{#1}}-\\frac{x \\frac{\\partial^{2}}{(\\partial y)^{2}}z\\left(x, y\\right)}{2 \\, {\\left(x^{2} + y\\right)} y} + \\frac{x \\frac{\\partial}{\\partial y}z\\left(x, y\\right)}{2 \\, {\\left(x^{2} + y\\right)} y^{2}} + \\frac{x \\frac{\\partial}{\\partial y}z\\left(x, y\\right)}{2 \\, {\\left(x^{2} + y\\right)}^{2} y} + \\frac{\\partial^{2}}{\\partial x\\partial y}z\\left(x, y\\right)</script></html>"
      ],
      "text/latex": [
       "\\begin{math}\n",
       "\\newcommand{\\Bold}[1]{\\mathbf{#1}}-\\frac{x \\frac{\\partial^{2}}{(\\partial y)^{2}}z\\left(x, y\\right)}{2 \\, {\\left(x^{2} + y\\right)} y} + \\frac{x \\frac{\\partial}{\\partial y}z\\left(x, y\\right)}{2 \\, {\\left(x^{2} + y\\right)} y^{2}} + \\frac{x \\frac{\\partial}{\\partial y}z\\left(x, y\\right)}{2 \\, {\\left(x^{2} + y\\right)}^{2} y} + \\frac{\\partial^{2}}{\\partial x\\partial y}z\\left(x, y\\right)\n",
       "\\end{math}"
      ],
      "text/plain": [
       "-1/2*x*diff(z(x, y), y, y)/((x^2 + y)*y) + 1/2*x*diff(z(x, y), y)/((x^2 + y)*y^2) + 1/2*x*diff(z(x, y), y)/((x^2 + y)^2*y) + diff(z(x, y), x, y)"
      ]
     },
     "metadata": {},
     "output_type": "display_data"
    },
    {
     "data": {
      "text/html": [
       "<html><script type=\"math/tex; mode=display\">\\newcommand{\\Bold}[1]{\\mathbf{#1}}\\frac{x \\frac{\\partial}{\\partial y}z\\left(x, y\\right)}{y} + \\frac{\\frac{\\partial}{\\partial y}w\\left(x, y\\right)}{2 \\, y} - \\frac{x \\frac{\\partial^{2}}{\\partial x\\partial y}z\\left(x, y\\right)}{2 \\, {\\left(x^{2} + y\\right)} y} + \\frac{x^{2} \\frac{\\partial}{\\partial y}z\\left(x, y\\right)}{{\\left(x^{2} + y\\right)}^{2} y} - \\frac{w\\left(x, y\\right)}{2 \\, y^{2}} - \\frac{\\frac{\\partial}{\\partial y}z\\left(x, y\\right)}{2 \\, {\\left(x^{2} + y\\right)} y} + \\frac{\\partial^{2}}{\\partial x\\partial y}z\\left(x, y\\right)</script></html>"
      ],
      "text/latex": [
       "\\begin{math}\n",
       "\\newcommand{\\Bold}[1]{\\mathbf{#1}}\\frac{x \\frac{\\partial}{\\partial y}z\\left(x, y\\right)}{y} + \\frac{\\frac{\\partial}{\\partial y}w\\left(x, y\\right)}{2 \\, y} - \\frac{x \\frac{\\partial^{2}}{\\partial x\\partial y}z\\left(x, y\\right)}{2 \\, {\\left(x^{2} + y\\right)} y} + \\frac{x^{2} \\frac{\\partial}{\\partial y}z\\left(x, y\\right)}{{\\left(x^{2} + y\\right)}^{2} y} - \\frac{w\\left(x, y\\right)}{2 \\, y^{2}} - \\frac{\\frac{\\partial}{\\partial y}z\\left(x, y\\right)}{2 \\, {\\left(x^{2} + y\\right)} y} + \\frac{\\partial^{2}}{\\partial x\\partial y}z\\left(x, y\\right)\n",
       "\\end{math}"
      ],
      "text/plain": [
       "x*diff(z(x, y), y)/y + 1/2*diff(w(x, y), y)/y - 1/2*x*diff(z(x, y), x, y)/((x^2 + y)*y) + x^2*diff(z(x, y), y)/((x^2 + y)^2*y) - 1/2*w(x, y)/y^2 - 1/2*diff(z(x, y), y)/((x^2 + y)*y) + diff(z(x, y), x, y)"
      ]
     },
     "metadata": {},
     "output_type": "display_data"
    },
    {
     "data": {
      "text/html": [
       "<html><script type=\"math/tex; mode=display\">\\newcommand{\\Bold}[1]{\\mathbf{#1}}-\\frac{2 \\, x \\frac{\\partial^{2}}{(\\partial x)^{2}}z\\left(x, y\\right)}{y} - \\frac{x \\frac{\\partial}{\\partial x}w\\left(x, y\\right)}{y^{2}} + \\frac{\\frac{\\partial}{\\partial x}w\\left(x, y\\right)}{y} - \\frac{x \\frac{\\partial^{2}}{\\partial x\\partial y}z\\left(x, y\\right)}{2 \\, {\\left(x^{2} + y\\right)} y} + \\frac{x^{2} \\frac{\\partial}{\\partial y}z\\left(x, y\\right)}{{\\left(x^{2} + y\\right)}^{2} y} - \\frac{\\frac{\\partial}{\\partial y}z\\left(x, y\\right)}{2 \\, {\\left(x^{2} + y\\right)} y}</script></html>"
      ],
      "text/latex": [
       "\\begin{math}\n",
       "\\newcommand{\\Bold}[1]{\\mathbf{#1}}-\\frac{2 \\, x \\frac{\\partial^{2}}{(\\partial x)^{2}}z\\left(x, y\\right)}{y} - \\frac{x \\frac{\\partial}{\\partial x}w\\left(x, y\\right)}{y^{2}} + \\frac{\\frac{\\partial}{\\partial x}w\\left(x, y\\right)}{y} - \\frac{x \\frac{\\partial^{2}}{\\partial x\\partial y}z\\left(x, y\\right)}{2 \\, {\\left(x^{2} + y\\right)} y} + \\frac{x^{2} \\frac{\\partial}{\\partial y}z\\left(x, y\\right)}{{\\left(x^{2} + y\\right)}^{2} y} - \\frac{\\frac{\\partial}{\\partial y}z\\left(x, y\\right)}{2 \\, {\\left(x^{2} + y\\right)} y}\n",
       "\\end{math}"
      ],
      "text/plain": [
       "-2*x*diff(z(x, y), x, x)/y - x*diff(w(x, y), x)/y^2 + diff(w(x, y), x)/y - 1/2*x*diff(z(x, y), x, y)/((x^2 + y)*y) + x^2*diff(z(x, y), y)/((x^2 + y)^2*y) - 1/2*diff(z(x, y), y)/((x^2 + y)*y)"
      ]
     },
     "metadata": {},
     "output_type": "display_data"
    },
    {
     "name": "stdout",
     "output_type": "stream",
     "text": [
      "While\n"
     ]
    },
    {
     "data": {
      "text/html": [
       "<html><script type=\"math/tex; mode=display\">\\newcommand{\\Bold}[1]{\\mathbf{#1}}-\\frac{w\\left(x, y\\right)}{y} + \\frac{x \\frac{\\partial}{\\partial y}z\\left(x, y\\right)}{2 \\, {\\left(x^{2} + y\\right)} y} + \\frac{\\partial}{\\partial y}w\\left(x, y\\right)</script></html>"
      ],
      "text/latex": [
       "\\begin{math}\n",
       "\\newcommand{\\Bold}[1]{\\mathbf{#1}}-\\frac{w\\left(x, y\\right)}{y} + \\frac{x \\frac{\\partial}{\\partial y}z\\left(x, y\\right)}{2 \\, {\\left(x^{2} + y\\right)} y} + \\frac{\\partial}{\\partial y}w\\left(x, y\\right)\n",
       "\\end{math}"
      ],
      "text/plain": [
       "-w(x, y)/y + 1/2*x*diff(z(x, y), y)/((x^2 + y)*y) + diff(w(x, y), y)"
      ]
     },
     "metadata": {},
     "output_type": "display_data"
    },
    {
     "data": {
      "text/html": [
       "<html><script type=\"math/tex; mode=display\">\\newcommand{\\Bold}[1]{\\mathbf{#1}}-\\frac{y {\\left(\\frac{x \\frac{\\partial}{\\partial y}z\\left(x, y\\right)}{x^{2} y + y^{2}} - \\frac{2 \\, w\\left(x, y\\right)}{y} + 2 \\, \\frac{\\partial}{\\partial y}w\\left(x, y\\right)\\right)}}{2 \\, x} + \\frac{y \\frac{\\partial}{\\partial y}w\\left(x, y\\right)}{x} + \\frac{2 \\, y \\frac{\\partial}{\\partial x}z\\left(x, y\\right)}{x} + \\frac{9 \\, {\\left(2 \\, x^{2} w\\left(x, y\\right) - 2 \\, y^{2} \\frac{\\partial}{\\partial y}w\\left(x, y\\right) - 2 \\, {\\left(x^{2} \\frac{\\partial}{\\partial y}w\\left(x, y\\right) - w\\left(x, y\\right)\\right)} y - x \\frac{\\partial}{\\partial y}z\\left(x, y\\right)\\right)}}{2 \\, {\\left(x^{3} + x y\\right)}} + \\frac{\\partial^{2}}{\\partial x\\partial y}z\\left(x, y\\right)</script></html>"
      ],
      "text/latex": [
       "\\begin{math}\n",
       "\\newcommand{\\Bold}[1]{\\mathbf{#1}}-\\frac{y {\\left(\\frac{x \\frac{\\partial}{\\partial y}z\\left(x, y\\right)}{x^{2} y + y^{2}} - \\frac{2 \\, w\\left(x, y\\right)}{y} + 2 \\, \\frac{\\partial}{\\partial y}w\\left(x, y\\right)\\right)}}{2 \\, x} + \\frac{y \\frac{\\partial}{\\partial y}w\\left(x, y\\right)}{x} + \\frac{2 \\, y \\frac{\\partial}{\\partial x}z\\left(x, y\\right)}{x} + \\frac{9 \\, {\\left(2 \\, x^{2} w\\left(x, y\\right) - 2 \\, y^{2} \\frac{\\partial}{\\partial y}w\\left(x, y\\right) - 2 \\, {\\left(x^{2} \\frac{\\partial}{\\partial y}w\\left(x, y\\right) - w\\left(x, y\\right)\\right)} y - x \\frac{\\partial}{\\partial y}z\\left(x, y\\right)\\right)}}{2 \\, {\\left(x^{3} + x y\\right)}} + \\frac{\\partial^{2}}{\\partial x\\partial y}z\\left(x, y\\right)\n",
       "\\end{math}"
      ],
      "text/plain": [
       "-1/2*y*(x*diff(z(x, y), y)/(x^2*y + y^2) - 2*w(x, y)/y + 2*diff(w(x, y), y))/x + y*diff(w(x, y), y)/x + 2*y*diff(z(x, y), x)/x + 9/2*(2*x^2*w(x, y) - 2*y^2*diff(w(x, y), y) - 2*(x^2*diff(w(x, y), y) - w(x, y))*y - x*diff(z(x, y), y))/(x^3 + x*y) + diff(z(x, y), x, y)"
      ]
     },
     "metadata": {},
     "output_type": "display_data"
    },
    {
     "name": "stdout",
     "output_type": "stream",
     "text": [
      "Try to reduce r1 with r0\n",
      "--------------------------------------- entering reduce\n"
     ]
    },
    {
     "data": {
      "text/html": [
       "<html><script type=\"math/tex; mode=display\">\\newcommand{\\Bold}[1]{\\mathbf{#1}}-\\frac{y {\\left(\\frac{x \\frac{\\partial}{\\partial y}z\\left(x, y\\right)}{x^{2} y + y^{2}} - \\frac{2 \\, w\\left(x, y\\right)}{y} + 2 \\, \\frac{\\partial}{\\partial y}w\\left(x, y\\right)\\right)}}{2 \\, x} + \\frac{y \\frac{\\partial}{\\partial y}w\\left(x, y\\right)}{x} + \\frac{2 \\, y \\frac{\\partial}{\\partial x}z\\left(x, y\\right)}{x} + \\frac{9 \\, {\\left(2 \\, x^{2} w\\left(x, y\\right) - 2 \\, y^{2} \\frac{\\partial}{\\partial y}w\\left(x, y\\right) - 2 \\, {\\left(x^{2} \\frac{\\partial}{\\partial y}w\\left(x, y\\right) - w\\left(x, y\\right)\\right)} y - x \\frac{\\partial}{\\partial y}z\\left(x, y\\right)\\right)}}{2 \\, {\\left(x^{3} + x y\\right)}} + \\frac{\\partial^{2}}{\\partial x\\partial y}z\\left(x, y\\right)</script></html>"
      ],
      "text/latex": [
       "\\begin{math}\n",
       "\\newcommand{\\Bold}[1]{\\mathbf{#1}}-\\frac{y {\\left(\\frac{x \\frac{\\partial}{\\partial y}z\\left(x, y\\right)}{x^{2} y + y^{2}} - \\frac{2 \\, w\\left(x, y\\right)}{y} + 2 \\, \\frac{\\partial}{\\partial y}w\\left(x, y\\right)\\right)}}{2 \\, x} + \\frac{y \\frac{\\partial}{\\partial y}w\\left(x, y\\right)}{x} + \\frac{2 \\, y \\frac{\\partial}{\\partial x}z\\left(x, y\\right)}{x} + \\frac{9 \\, {\\left(2 \\, x^{2} w\\left(x, y\\right) - 2 \\, y^{2} \\frac{\\partial}{\\partial y}w\\left(x, y\\right) - 2 \\, {\\left(x^{2} \\frac{\\partial}{\\partial y}w\\left(x, y\\right) - w\\left(x, y\\right)\\right)} y - x \\frac{\\partial}{\\partial y}z\\left(x, y\\right)\\right)}}{2 \\, {\\left(x^{3} + x y\\right)}} + \\frac{\\partial^{2}}{\\partial x\\partial y}z\\left(x, y\\right)\n",
       "\\end{math}"
      ],
      "text/plain": [
       "-1/2*y*(x*diff(z(x, y), y)/(x^2*y + y^2) - 2*w(x, y)/y + 2*diff(w(x, y), y))/x + y*diff(w(x, y), y)/x + 2*y*diff(z(x, y), x)/x + 9/2*(2*x^2*w(x, y) - 2*y^2*diff(w(x, y), y) - 2*(x^2*diff(w(x, y), y) - w(x, y))*y - x*diff(z(x, y), y))/(x^3 + x*y) + diff(z(x, y), x, y)"
      ]
     },
     "metadata": {},
     "output_type": "display_data"
    },
    {
     "data": {
      "text/html": [
       "<html><script type=\"math/tex; mode=display\">\\newcommand{\\Bold}[1]{\\mathbf{#1}}-\\frac{w\\left(x, y\\right)}{y} + \\frac{x \\frac{\\partial}{\\partial y}z\\left(x, y\\right)}{2 \\, {\\left(x^{2} + y\\right)} y} + \\frac{\\partial}{\\partial y}w\\left(x, y\\right)</script></html>"
      ],
      "text/latex": [
       "\\begin{math}\n",
       "\\newcommand{\\Bold}[1]{\\mathbf{#1}}-\\frac{w\\left(x, y\\right)}{y} + \\frac{x \\frac{\\partial}{\\partial y}z\\left(x, y\\right)}{2 \\, {\\left(x^{2} + y\\right)} y} + \\frac{\\partial}{\\partial y}w\\left(x, y\\right)\n",
       "\\end{math}"
      ],
      "text/plain": [
       "-w(x, y)/y + 1/2*x*diff(z(x, y), y)/((x^2 + y)*y) + diff(w(x, y), y)"
      ]
     },
     "metadata": {},
     "output_type": "display_data"
    },
    {
     "name": "stdout",
     "output_type": "stream",
     "text": [
      "have reduced!\n"
     ]
    },
    {
     "data": {
      "text/html": [
       "<html><script type=\"math/tex; mode=display\">\\newcommand{\\Bold}[1]{\\mathbf{#1}}-\\frac{y {\\left(\\frac{x \\frac{\\partial}{\\partial y}z\\left(x, y\\right)}{x^{2} y + y^{2}} - \\frac{2 \\, w\\left(x, y\\right)}{y} + 2 \\, \\frac{\\partial}{\\partial y}w\\left(x, y\\right)\\right)}}{2 \\, x} + \\frac{y \\frac{\\partial}{\\partial y}w\\left(x, y\\right)}{x} + \\frac{2 \\, y \\frac{\\partial}{\\partial x}z\\left(x, y\\right)}{x} + \\frac{5 \\, {\\left(2 \\, x^{2} w\\left(x, y\\right) - 2 \\, y^{2} \\frac{\\partial}{\\partial y}w\\left(x, y\\right) - 2 \\, {\\left(x^{2} \\frac{\\partial}{\\partial y}w\\left(x, y\\right) - w\\left(x, y\\right)\\right)} y - x \\frac{\\partial}{\\partial y}z\\left(x, y\\right)\\right)}}{x^{3} + x y} + \\frac{\\partial^{2}}{\\partial x\\partial y}z\\left(x, y\\right)</script></html>"
      ],
      "text/latex": [
       "\\begin{math}\n",
       "\\newcommand{\\Bold}[1]{\\mathbf{#1}}-\\frac{y {\\left(\\frac{x \\frac{\\partial}{\\partial y}z\\left(x, y\\right)}{x^{2} y + y^{2}} - \\frac{2 \\, w\\left(x, y\\right)}{y} + 2 \\, \\frac{\\partial}{\\partial y}w\\left(x, y\\right)\\right)}}{2 \\, x} + \\frac{y \\frac{\\partial}{\\partial y}w\\left(x, y\\right)}{x} + \\frac{2 \\, y \\frac{\\partial}{\\partial x}z\\left(x, y\\right)}{x} + \\frac{5 \\, {\\left(2 \\, x^{2} w\\left(x, y\\right) - 2 \\, y^{2} \\frac{\\partial}{\\partial y}w\\left(x, y\\right) - 2 \\, {\\left(x^{2} \\frac{\\partial}{\\partial y}w\\left(x, y\\right) - w\\left(x, y\\right)\\right)} y - x \\frac{\\partial}{\\partial y}z\\left(x, y\\right)\\right)}}{x^{3} + x y} + \\frac{\\partial^{2}}{\\partial x\\partial y}z\\left(x, y\\right)\n",
       "\\end{math}"
      ],
      "text/plain": [
       "-1/2*y*(x*diff(z(x, y), y)/(x^2*y + y^2) - 2*w(x, y)/y + 2*diff(w(x, y), y))/x + y*diff(w(x, y), y)/x + 2*y*diff(z(x, y), x)/x + 5*(2*x^2*w(x, y) - 2*y^2*diff(w(x, y), y) - 2*(x^2*diff(w(x, y), y) - w(x, y))*y - x*diff(z(x, y), y))/(x^3 + x*y) + diff(z(x, y), x, y)"
      ]
     },
     "metadata": {},
     "output_type": "display_data"
    },
    {
     "name": "stdout",
     "output_type": "stream",
     "text": [
      "1 * diff(z(x, y), x, y)\n",
      "y/x * diff(w(x, y), y)\n",
      "2*y/x * diff(z(x, y), x)\n",
      "11/2*(2*x^2*w(x, y) - 2*y^2*diff(w(x, y), y) - 2*(x^2*diff(w(x, y), y) - w(x, y))*y - x*diff(z(x, y), y))/(x^3 + x*y) * 1\n",
      "Try to reduce r2 with r0\n",
      "--------------------------------------- entering reduce\n"
     ]
    },
    {
     "data": {
      "text/html": [
       "<html><script type=\"math/tex; mode=display\">\\newcommand{\\Bold}[1]{\\mathbf{#1}}-\\frac{x \\frac{\\partial^{2}}{(\\partial y)^{2}}z\\left(x, y\\right)}{2 \\, {\\left(x^{2} + y\\right)} y} + \\frac{x \\frac{\\partial}{\\partial y}z\\left(x, y\\right)}{2 \\, {\\left(x^{2} + y\\right)} y^{2}} + \\frac{x \\frac{\\partial}{\\partial y}z\\left(x, y\\right)}{2 \\, {\\left(x^{2} + y\\right)}^{2} y} + \\frac{\\partial^{2}}{\\partial x\\partial y}z\\left(x, y\\right)</script></html>"
      ],
      "text/latex": [
       "\\begin{math}\n",
       "\\newcommand{\\Bold}[1]{\\mathbf{#1}}-\\frac{x \\frac{\\partial^{2}}{(\\partial y)^{2}}z\\left(x, y\\right)}{2 \\, {\\left(x^{2} + y\\right)} y} + \\frac{x \\frac{\\partial}{\\partial y}z\\left(x, y\\right)}{2 \\, {\\left(x^{2} + y\\right)} y^{2}} + \\frac{x \\frac{\\partial}{\\partial y}z\\left(x, y\\right)}{2 \\, {\\left(x^{2} + y\\right)}^{2} y} + \\frac{\\partial^{2}}{\\partial x\\partial y}z\\left(x, y\\right)\n",
       "\\end{math}"
      ],
      "text/plain": [
       "-1/2*x*diff(z(x, y), y, y)/((x^2 + y)*y) + 1/2*x*diff(z(x, y), y)/((x^2 + y)*y^2) + 1/2*x*diff(z(x, y), y)/((x^2 + y)^2*y) + diff(z(x, y), x, y)"
      ]
     },
     "metadata": {},
     "output_type": "display_data"
    },
    {
     "data": {
      "text/html": [
       "<html><script type=\"math/tex; mode=display\">\\newcommand{\\Bold}[1]{\\mathbf{#1}}-\\frac{w\\left(x, y\\right)}{y} + \\frac{x \\frac{\\partial}{\\partial y}z\\left(x, y\\right)}{2 \\, {\\left(x^{2} + y\\right)} y} + \\frac{\\partial}{\\partial y}w\\left(x, y\\right)</script></html>"
      ],
      "text/latex": [
       "\\begin{math}\n",
       "\\newcommand{\\Bold}[1]{\\mathbf{#1}}-\\frac{w\\left(x, y\\right)}{y} + \\frac{x \\frac{\\partial}{\\partial y}z\\left(x, y\\right)}{2 \\, {\\left(x^{2} + y\\right)} y} + \\frac{\\partial}{\\partial y}w\\left(x, y\\right)\n",
       "\\end{math}"
      ],
      "text/plain": [
       "-w(x, y)/y + 1/2*x*diff(z(x, y), y)/((x^2 + y)*y) + diff(w(x, y), y)"
      ]
     },
     "metadata": {},
     "output_type": "display_data"
    },
    {
     "name": "stdout",
     "output_type": "stream",
     "text": [
      "Try to reduce r3 with r0\n",
      "--------------------------------------- entering reduce\n"
     ]
    },
    {
     "data": {
      "text/html": [
       "<html><script type=\"math/tex; mode=display\">\\newcommand{\\Bold}[1]{\\mathbf{#1}}\\frac{x \\frac{\\partial}{\\partial y}z\\left(x, y\\right)}{y} + \\frac{\\frac{\\partial}{\\partial y}w\\left(x, y\\right)}{2 \\, y} - \\frac{x \\frac{\\partial^{2}}{\\partial x\\partial y}z\\left(x, y\\right)}{2 \\, {\\left(x^{2} + y\\right)} y} + \\frac{x^{2} \\frac{\\partial}{\\partial y}z\\left(x, y\\right)}{{\\left(x^{2} + y\\right)}^{2} y} - \\frac{w\\left(x, y\\right)}{2 \\, y^{2}} - \\frac{\\frac{\\partial}{\\partial y}z\\left(x, y\\right)}{2 \\, {\\left(x^{2} + y\\right)} y} + \\frac{\\partial^{2}}{\\partial x\\partial y}z\\left(x, y\\right)</script></html>"
      ],
      "text/latex": [
       "\\begin{math}\n",
       "\\newcommand{\\Bold}[1]{\\mathbf{#1}}\\frac{x \\frac{\\partial}{\\partial y}z\\left(x, y\\right)}{y} + \\frac{\\frac{\\partial}{\\partial y}w\\left(x, y\\right)}{2 \\, y} - \\frac{x \\frac{\\partial^{2}}{\\partial x\\partial y}z\\left(x, y\\right)}{2 \\, {\\left(x^{2} + y\\right)} y} + \\frac{x^{2} \\frac{\\partial}{\\partial y}z\\left(x, y\\right)}{{\\left(x^{2} + y\\right)}^{2} y} - \\frac{w\\left(x, y\\right)}{2 \\, y^{2}} - \\frac{\\frac{\\partial}{\\partial y}z\\left(x, y\\right)}{2 \\, {\\left(x^{2} + y\\right)} y} + \\frac{\\partial^{2}}{\\partial x\\partial y}z\\left(x, y\\right)\n",
       "\\end{math}"
      ],
      "text/plain": [
       "x*diff(z(x, y), y)/y + 1/2*diff(w(x, y), y)/y - 1/2*x*diff(z(x, y), x, y)/((x^2 + y)*y) + x^2*diff(z(x, y), y)/((x^2 + y)^2*y) - 1/2*w(x, y)/y^2 - 1/2*diff(z(x, y), y)/((x^2 + y)*y) + diff(z(x, y), x, y)"
      ]
     },
     "metadata": {},
     "output_type": "display_data"
    },
    {
     "data": {
      "text/html": [
       "<html><script type=\"math/tex; mode=display\">\\newcommand{\\Bold}[1]{\\mathbf{#1}}-\\frac{w\\left(x, y\\right)}{y} + \\frac{x \\frac{\\partial}{\\partial y}z\\left(x, y\\right)}{2 \\, {\\left(x^{2} + y\\right)} y} + \\frac{\\partial}{\\partial y}w\\left(x, y\\right)</script></html>"
      ],
      "text/latex": [
       "\\begin{math}\n",
       "\\newcommand{\\Bold}[1]{\\mathbf{#1}}-\\frac{w\\left(x, y\\right)}{y} + \\frac{x \\frac{\\partial}{\\partial y}z\\left(x, y\\right)}{2 \\, {\\left(x^{2} + y\\right)} y} + \\frac{\\partial}{\\partial y}w\\left(x, y\\right)\n",
       "\\end{math}"
      ],
      "text/plain": [
       "-w(x, y)/y + 1/2*x*diff(z(x, y), y)/((x^2 + y)*y) + diff(w(x, y), y)"
      ]
     },
     "metadata": {},
     "output_type": "display_data"
    },
    {
     "name": "stdout",
     "output_type": "stream",
     "text": [
      "Try to reduce r4 with r0\n",
      "--------------------------------------- entering reduce\n"
     ]
    },
    {
     "data": {
      "text/html": [
       "<html><script type=\"math/tex; mode=display\">\\newcommand{\\Bold}[1]{\\mathbf{#1}}-\\frac{2 \\, x \\frac{\\partial^{2}}{(\\partial x)^{2}}z\\left(x, y\\right)}{y} - \\frac{x \\frac{\\partial}{\\partial x}w\\left(x, y\\right)}{y^{2}} + \\frac{\\frac{\\partial}{\\partial x}w\\left(x, y\\right)}{y} - \\frac{x \\frac{\\partial^{2}}{\\partial x\\partial y}z\\left(x, y\\right)}{2 \\, {\\left(x^{2} + y\\right)} y} + \\frac{x^{2} \\frac{\\partial}{\\partial y}z\\left(x, y\\right)}{{\\left(x^{2} + y\\right)}^{2} y} - \\frac{\\frac{\\partial}{\\partial y}z\\left(x, y\\right)}{2 \\, {\\left(x^{2} + y\\right)} y}</script></html>"
      ],
      "text/latex": [
       "\\begin{math}\n",
       "\\newcommand{\\Bold}[1]{\\mathbf{#1}}-\\frac{2 \\, x \\frac{\\partial^{2}}{(\\partial x)^{2}}z\\left(x, y\\right)}{y} - \\frac{x \\frac{\\partial}{\\partial x}w\\left(x, y\\right)}{y^{2}} + \\frac{\\frac{\\partial}{\\partial x}w\\left(x, y\\right)}{y} - \\frac{x \\frac{\\partial^{2}}{\\partial x\\partial y}z\\left(x, y\\right)}{2 \\, {\\left(x^{2} + y\\right)} y} + \\frac{x^{2} \\frac{\\partial}{\\partial y}z\\left(x, y\\right)}{{\\left(x^{2} + y\\right)}^{2} y} - \\frac{\\frac{\\partial}{\\partial y}z\\left(x, y\\right)}{2 \\, {\\left(x^{2} + y\\right)} y}\n",
       "\\end{math}"
      ],
      "text/plain": [
       "-2*x*diff(z(x, y), x, x)/y - x*diff(w(x, y), x)/y^2 + diff(w(x, y), x)/y - 1/2*x*diff(z(x, y), x, y)/((x^2 + y)*y) + x^2*diff(z(x, y), y)/((x^2 + y)^2*y) - 1/2*diff(z(x, y), y)/((x^2 + y)*y)"
      ]
     },
     "metadata": {},
     "output_type": "display_data"
    },
    {
     "data": {
      "text/html": [
       "<html><script type=\"math/tex; mode=display\">\\newcommand{\\Bold}[1]{\\mathbf{#1}}-\\frac{w\\left(x, y\\right)}{y} + \\frac{x \\frac{\\partial}{\\partial y}z\\left(x, y\\right)}{2 \\, {\\left(x^{2} + y\\right)} y} + \\frac{\\partial}{\\partial y}w\\left(x, y\\right)</script></html>"
      ],
      "text/latex": [
       "\\begin{math}\n",
       "\\newcommand{\\Bold}[1]{\\mathbf{#1}}-\\frac{w\\left(x, y\\right)}{y} + \\frac{x \\frac{\\partial}{\\partial y}z\\left(x, y\\right)}{2 \\, {\\left(x^{2} + y\\right)} y} + \\frac{\\partial}{\\partial y}w\\left(x, y\\right)\n",
       "\\end{math}"
      ],
      "text/plain": [
       "-w(x, y)/y + 1/2*x*diff(z(x, y), y)/((x^2 + y)*y) + diff(w(x, y), y)"
      ]
     },
     "metadata": {},
     "output_type": "display_data"
    },
    {
     "name": "stdout",
     "output_type": "stream",
     "text": [
      "This is the new System........\n"
     ]
    },
    {
     "data": {
      "text/html": [
       "<html><script type=\"math/tex; mode=display\">\\newcommand{\\Bold}[1]{\\mathbf{#1}}-\\frac{w\\left(x, y\\right)}{y} + \\frac{x \\frac{\\partial}{\\partial y}z\\left(x, y\\right)}{2 \\, {\\left(x^{2} + y\\right)} y} + \\frac{\\partial}{\\partial y}w\\left(x, y\\right)</script></html>"
      ],
      "text/latex": [
       "\\begin{math}\n",
       "\\newcommand{\\Bold}[1]{\\mathbf{#1}}-\\frac{w\\left(x, y\\right)}{y} + \\frac{x \\frac{\\partial}{\\partial y}z\\left(x, y\\right)}{2 \\, {\\left(x^{2} + y\\right)} y} + \\frac{\\partial}{\\partial y}w\\left(x, y\\right)\n",
       "\\end{math}"
      ],
      "text/plain": [
       "-w(x, y)/y + 1/2*x*diff(z(x, y), y)/((x^2 + y)*y) + diff(w(x, y), y)"
      ]
     },
     "metadata": {},
     "output_type": "display_data"
    },
    {
     "data": {
      "text/html": [
       "<html><script type=\"math/tex; mode=display\">\\newcommand{\\Bold}[1]{\\mathbf{#1}}\\frac{x \\frac{\\partial}{\\partial y}z\\left(x, y\\right)}{y} + \\frac{\\frac{\\partial}{\\partial y}w\\left(x, y\\right)}{2 \\, y} - \\frac{x \\frac{\\partial^{2}}{\\partial x\\partial y}z\\left(x, y\\right)}{2 \\, {\\left(x^{2} + y\\right)} y} + \\frac{x^{2} \\frac{\\partial}{\\partial y}z\\left(x, y\\right)}{{\\left(x^{2} + y\\right)}^{2} y} - \\frac{w\\left(x, y\\right)}{2 \\, y^{2}} - \\frac{\\frac{\\partial}{\\partial y}z\\left(x, y\\right)}{2 \\, {\\left(x^{2} + y\\right)} y} + \\frac{\\partial^{2}}{\\partial x\\partial y}z\\left(x, y\\right)</script></html>"
      ],
      "text/latex": [
       "\\begin{math}\n",
       "\\newcommand{\\Bold}[1]{\\mathbf{#1}}\\frac{x \\frac{\\partial}{\\partial y}z\\left(x, y\\right)}{y} + \\frac{\\frac{\\partial}{\\partial y}w\\left(x, y\\right)}{2 \\, y} - \\frac{x \\frac{\\partial^{2}}{\\partial x\\partial y}z\\left(x, y\\right)}{2 \\, {\\left(x^{2} + y\\right)} y} + \\frac{x^{2} \\frac{\\partial}{\\partial y}z\\left(x, y\\right)}{{\\left(x^{2} + y\\right)}^{2} y} - \\frac{w\\left(x, y\\right)}{2 \\, y^{2}} - \\frac{\\frac{\\partial}{\\partial y}z\\left(x, y\\right)}{2 \\, {\\left(x^{2} + y\\right)} y} + \\frac{\\partial^{2}}{\\partial x\\partial y}z\\left(x, y\\right)\n",
       "\\end{math}"
      ],
      "text/plain": [
       "x*diff(z(x, y), y)/y + 1/2*diff(w(x, y), y)/y - 1/2*x*diff(z(x, y), x, y)/((x^2 + y)*y) + x^2*diff(z(x, y), y)/((x^2 + y)^2*y) - 1/2*w(x, y)/y^2 - 1/2*diff(z(x, y), y)/((x^2 + y)*y) + diff(z(x, y), x, y)"
      ]
     },
     "metadata": {},
     "output_type": "display_data"
    },
    {
     "data": {
      "text/html": [
       "<html><script type=\"math/tex; mode=display\">\\newcommand{\\Bold}[1]{\\mathbf{#1}}-\\frac{x \\frac{\\partial^{2}}{(\\partial y)^{2}}z\\left(x, y\\right)}{2 \\, {\\left(x^{2} + y\\right)} y} + \\frac{x \\frac{\\partial}{\\partial y}z\\left(x, y\\right)}{2 \\, {\\left(x^{2} + y\\right)} y^{2}} + \\frac{x \\frac{\\partial}{\\partial y}z\\left(x, y\\right)}{2 \\, {\\left(x^{2} + y\\right)}^{2} y} + \\frac{\\partial^{2}}{\\partial x\\partial y}z\\left(x, y\\right)</script></html>"
      ],
      "text/latex": [
       "\\begin{math}\n",
       "\\newcommand{\\Bold}[1]{\\mathbf{#1}}-\\frac{x \\frac{\\partial^{2}}{(\\partial y)^{2}}z\\left(x, y\\right)}{2 \\, {\\left(x^{2} + y\\right)} y} + \\frac{x \\frac{\\partial}{\\partial y}z\\left(x, y\\right)}{2 \\, {\\left(x^{2} + y\\right)} y^{2}} + \\frac{x \\frac{\\partial}{\\partial y}z\\left(x, y\\right)}{2 \\, {\\left(x^{2} + y\\right)}^{2} y} + \\frac{\\partial^{2}}{\\partial x\\partial y}z\\left(x, y\\right)\n",
       "\\end{math}"
      ],
      "text/plain": [
       "-1/2*x*diff(z(x, y), y, y)/((x^2 + y)*y) + 1/2*x*diff(z(x, y), y)/((x^2 + y)*y^2) + 1/2*x*diff(z(x, y), y)/((x^2 + y)^2*y) + diff(z(x, y), x, y)"
      ]
     },
     "metadata": {},
     "output_type": "display_data"
    },
    {
     "data": {
      "text/html": [
       "<html><script type=\"math/tex; mode=display\">\\newcommand{\\Bold}[1]{\\mathbf{#1}}-\\frac{y {\\left(\\frac{x \\frac{\\partial}{\\partial y}z\\left(x, y\\right)}{x^{2} y + y^{2}} - \\frac{2 \\, w\\left(x, y\\right)}{y} + 2 \\, \\frac{\\partial}{\\partial y}w\\left(x, y\\right)\\right)}}{2 \\, x} + \\frac{y \\frac{\\partial}{\\partial y}w\\left(x, y\\right)}{x} + \\frac{2 \\, y \\frac{\\partial}{\\partial x}z\\left(x, y\\right)}{x} + \\frac{5 \\, {\\left(2 \\, x^{2} w\\left(x, y\\right) - 2 \\, y^{2} \\frac{\\partial}{\\partial y}w\\left(x, y\\right) - 2 \\, {\\left(x^{2} \\frac{\\partial}{\\partial y}w\\left(x, y\\right) - w\\left(x, y\\right)\\right)} y - x \\frac{\\partial}{\\partial y}z\\left(x, y\\right)\\right)}}{x^{3} + x y} + \\frac{\\partial^{2}}{\\partial x\\partial y}z\\left(x, y\\right)</script></html>"
      ],
      "text/latex": [
       "\\begin{math}\n",
       "\\newcommand{\\Bold}[1]{\\mathbf{#1}}-\\frac{y {\\left(\\frac{x \\frac{\\partial}{\\partial y}z\\left(x, y\\right)}{x^{2} y + y^{2}} - \\frac{2 \\, w\\left(x, y\\right)}{y} + 2 \\, \\frac{\\partial}{\\partial y}w\\left(x, y\\right)\\right)}}{2 \\, x} + \\frac{y \\frac{\\partial}{\\partial y}w\\left(x, y\\right)}{x} + \\frac{2 \\, y \\frac{\\partial}{\\partial x}z\\left(x, y\\right)}{x} + \\frac{5 \\, {\\left(2 \\, x^{2} w\\left(x, y\\right) - 2 \\, y^{2} \\frac{\\partial}{\\partial y}w\\left(x, y\\right) - 2 \\, {\\left(x^{2} \\frac{\\partial}{\\partial y}w\\left(x, y\\right) - w\\left(x, y\\right)\\right)} y - x \\frac{\\partial}{\\partial y}z\\left(x, y\\right)\\right)}}{x^{3} + x y} + \\frac{\\partial^{2}}{\\partial x\\partial y}z\\left(x, y\\right)\n",
       "\\end{math}"
      ],
      "text/plain": [
       "-1/2*y*(x*diff(z(x, y), y)/(x^2*y + y^2) - 2*w(x, y)/y + 2*diff(w(x, y), y))/x + y*diff(w(x, y), y)/x + 2*y*diff(z(x, y), x)/x + 5*(2*x^2*w(x, y) - 2*y^2*diff(w(x, y), y) - 2*(x^2*diff(w(x, y), y) - w(x, y))*y - x*diff(z(x, y), y))/(x^3 + x*y) + diff(z(x, y), x, y)"
      ]
     },
     "metadata": {},
     "output_type": "display_data"
    },
    {
     "data": {
      "text/html": [
       "<html><script type=\"math/tex; mode=display\">\\newcommand{\\Bold}[1]{\\mathbf{#1}}-\\frac{2 \\, x \\frac{\\partial^{2}}{(\\partial x)^{2}}z\\left(x, y\\right)}{y} - \\frac{x \\frac{\\partial}{\\partial x}w\\left(x, y\\right)}{y^{2}} + \\frac{\\frac{\\partial}{\\partial x}w\\left(x, y\\right)}{y} - \\frac{x \\frac{\\partial^{2}}{\\partial x\\partial y}z\\left(x, y\\right)}{2 \\, {\\left(x^{2} + y\\right)} y} + \\frac{x^{2} \\frac{\\partial}{\\partial y}z\\left(x, y\\right)}{{\\left(x^{2} + y\\right)}^{2} y} - \\frac{\\frac{\\partial}{\\partial y}z\\left(x, y\\right)}{2 \\, {\\left(x^{2} + y\\right)} y}</script></html>"
      ],
      "text/latex": [
       "\\begin{math}\n",
       "\\newcommand{\\Bold}[1]{\\mathbf{#1}}-\\frac{2 \\, x \\frac{\\partial^{2}}{(\\partial x)^{2}}z\\left(x, y\\right)}{y} - \\frac{x \\frac{\\partial}{\\partial x}w\\left(x, y\\right)}{y^{2}} + \\frac{\\frac{\\partial}{\\partial x}w\\left(x, y\\right)}{y} - \\frac{x \\frac{\\partial^{2}}{\\partial x\\partial y}z\\left(x, y\\right)}{2 \\, {\\left(x^{2} + y\\right)} y} + \\frac{x^{2} \\frac{\\partial}{\\partial y}z\\left(x, y\\right)}{{\\left(x^{2} + y\\right)}^{2} y} - \\frac{\\frac{\\partial}{\\partial y}z\\left(x, y\\right)}{2 \\, {\\left(x^{2} + y\\right)} y}\n",
       "\\end{math}"
      ],
      "text/plain": [
       "-2*x*diff(z(x, y), x, x)/y - x*diff(w(x, y), x)/y^2 + diff(w(x, y), x)/y - 1/2*x*diff(z(x, y), x, y)/((x^2 + y)*y) + x^2*diff(z(x, y), y)/((x^2 + y)^2*y) - 1/2*diff(z(x, y), y)/((x^2 + y)*y)"
      ]
     },
     "metadata": {},
     "output_type": "display_data"
    },
    {
     "name": "stdout",
     "output_type": "stream",
     "text": [
      "While\n"
     ]
    },
    {
     "data": {
      "text/html": [
       "<html><script type=\"math/tex; mode=display\">\\newcommand{\\Bold}[1]{\\mathbf{#1}}-\\frac{w\\left(x, y\\right)}{y} + \\frac{x \\frac{\\partial}{\\partial y}z\\left(x, y\\right)}{2 \\, {\\left(x^{2} + y\\right)} y} + \\frac{\\partial}{\\partial y}w\\left(x, y\\right)</script></html>"
      ],
      "text/latex": [
       "\\begin{math}\n",
       "\\newcommand{\\Bold}[1]{\\mathbf{#1}}-\\frac{w\\left(x, y\\right)}{y} + \\frac{x \\frac{\\partial}{\\partial y}z\\left(x, y\\right)}{2 \\, {\\left(x^{2} + y\\right)} y} + \\frac{\\partial}{\\partial y}w\\left(x, y\\right)\n",
       "\\end{math}"
      ],
      "text/plain": [
       "-w(x, y)/y + 1/2*x*diff(z(x, y), y)/((x^2 + y)*y) + diff(w(x, y), y)"
      ]
     },
     "metadata": {},
     "output_type": "display_data"
    },
    {
     "data": {
      "text/html": [
       "<html><script type=\"math/tex; mode=display\">\\newcommand{\\Bold}[1]{\\mathbf{#1}}\\frac{x \\frac{\\partial}{\\partial y}z\\left(x, y\\right)}{y} + \\frac{\\frac{\\partial}{\\partial y}w\\left(x, y\\right)}{2 \\, y} - \\frac{x \\frac{\\partial^{2}}{\\partial x\\partial y}z\\left(x, y\\right)}{2 \\, {\\left(x^{2} + y\\right)} y} + \\frac{x^{2} \\frac{\\partial}{\\partial y}z\\left(x, y\\right)}{{\\left(x^{2} + y\\right)}^{2} y} - \\frac{w\\left(x, y\\right)}{2 \\, y^{2}} - \\frac{\\frac{\\partial}{\\partial y}z\\left(x, y\\right)}{2 \\, {\\left(x^{2} + y\\right)} y} + \\frac{\\partial^{2}}{\\partial x\\partial y}z\\left(x, y\\right)</script></html>"
      ],
      "text/latex": [
       "\\begin{math}\n",
       "\\newcommand{\\Bold}[1]{\\mathbf{#1}}\\frac{x \\frac{\\partial}{\\partial y}z\\left(x, y\\right)}{y} + \\frac{\\frac{\\partial}{\\partial y}w\\left(x, y\\right)}{2 \\, y} - \\frac{x \\frac{\\partial^{2}}{\\partial x\\partial y}z\\left(x, y\\right)}{2 \\, {\\left(x^{2} + y\\right)} y} + \\frac{x^{2} \\frac{\\partial}{\\partial y}z\\left(x, y\\right)}{{\\left(x^{2} + y\\right)}^{2} y} - \\frac{w\\left(x, y\\right)}{2 \\, y^{2}} - \\frac{\\frac{\\partial}{\\partial y}z\\left(x, y\\right)}{2 \\, {\\left(x^{2} + y\\right)} y} + \\frac{\\partial^{2}}{\\partial x\\partial y}z\\left(x, y\\right)\n",
       "\\end{math}"
      ],
      "text/plain": [
       "x*diff(z(x, y), y)/y + 1/2*diff(w(x, y), y)/y - 1/2*x*diff(z(x, y), x, y)/((x^2 + y)*y) + x^2*diff(z(x, y), y)/((x^2 + y)^2*y) - 1/2*w(x, y)/y^2 - 1/2*diff(z(x, y), y)/((x^2 + y)*y) + diff(z(x, y), x, y)"
      ]
     },
     "metadata": {},
     "output_type": "display_data"
    },
    {
     "name": "stdout",
     "output_type": "stream",
     "text": [
      "Try to reduce r1 with r0\n",
      "--------------------------------------- entering reduce\n"
     ]
    },
    {
     "data": {
      "text/html": [
       "<html><script type=\"math/tex; mode=display\">\\newcommand{\\Bold}[1]{\\mathbf{#1}}\\frac{x \\frac{\\partial}{\\partial y}z\\left(x, y\\right)}{y} + \\frac{\\frac{\\partial}{\\partial y}w\\left(x, y\\right)}{2 \\, y} - \\frac{x \\frac{\\partial^{2}}{\\partial x\\partial y}z\\left(x, y\\right)}{2 \\, {\\left(x^{2} + y\\right)} y} + \\frac{x^{2} \\frac{\\partial}{\\partial y}z\\left(x, y\\right)}{{\\left(x^{2} + y\\right)}^{2} y} - \\frac{w\\left(x, y\\right)}{2 \\, y^{2}} - \\frac{\\frac{\\partial}{\\partial y}z\\left(x, y\\right)}{2 \\, {\\left(x^{2} + y\\right)} y} + \\frac{\\partial^{2}}{\\partial x\\partial y}z\\left(x, y\\right)</script></html>"
      ],
      "text/latex": [
       "\\begin{math}\n",
       "\\newcommand{\\Bold}[1]{\\mathbf{#1}}\\frac{x \\frac{\\partial}{\\partial y}z\\left(x, y\\right)}{y} + \\frac{\\frac{\\partial}{\\partial y}w\\left(x, y\\right)}{2 \\, y} - \\frac{x \\frac{\\partial^{2}}{\\partial x\\partial y}z\\left(x, y\\right)}{2 \\, {\\left(x^{2} + y\\right)} y} + \\frac{x^{2} \\frac{\\partial}{\\partial y}z\\left(x, y\\right)}{{\\left(x^{2} + y\\right)}^{2} y} - \\frac{w\\left(x, y\\right)}{2 \\, y^{2}} - \\frac{\\frac{\\partial}{\\partial y}z\\left(x, y\\right)}{2 \\, {\\left(x^{2} + y\\right)} y} + \\frac{\\partial^{2}}{\\partial x\\partial y}z\\left(x, y\\right)\n",
       "\\end{math}"
      ],
      "text/plain": [
       "x*diff(z(x, y), y)/y + 1/2*diff(w(x, y), y)/y - 1/2*x*diff(z(x, y), x, y)/((x^2 + y)*y) + x^2*diff(z(x, y), y)/((x^2 + y)^2*y) - 1/2*w(x, y)/y^2 - 1/2*diff(z(x, y), y)/((x^2 + y)*y) + diff(z(x, y), x, y)"
      ]
     },
     "metadata": {},
     "output_type": "display_data"
    },
    {
     "data": {
      "text/html": [
       "<html><script type=\"math/tex; mode=display\">\\newcommand{\\Bold}[1]{\\mathbf{#1}}-\\frac{w\\left(x, y\\right)}{y} + \\frac{x \\frac{\\partial}{\\partial y}z\\left(x, y\\right)}{2 \\, {\\left(x^{2} + y\\right)} y} + \\frac{\\partial}{\\partial y}w\\left(x, y\\right)</script></html>"
      ],
      "text/latex": [
       "\\begin{math}\n",
       "\\newcommand{\\Bold}[1]{\\mathbf{#1}}-\\frac{w\\left(x, y\\right)}{y} + \\frac{x \\frac{\\partial}{\\partial y}z\\left(x, y\\right)}{2 \\, {\\left(x^{2} + y\\right)} y} + \\frac{\\partial}{\\partial y}w\\left(x, y\\right)\n",
       "\\end{math}"
      ],
      "text/plain": [
       "-w(x, y)/y + 1/2*x*diff(z(x, y), y)/((x^2 + y)*y) + diff(w(x, y), y)"
      ]
     },
     "metadata": {},
     "output_type": "display_data"
    },
    {
     "name": "stdout",
     "output_type": "stream",
     "text": [
      "Try to reduce r2 with r0\n",
      "--------------------------------------- entering reduce\n"
     ]
    },
    {
     "data": {
      "text/html": [
       "<html><script type=\"math/tex; mode=display\">\\newcommand{\\Bold}[1]{\\mathbf{#1}}-\\frac{x \\frac{\\partial^{2}}{(\\partial y)^{2}}z\\left(x, y\\right)}{2 \\, {\\left(x^{2} + y\\right)} y} + \\frac{x \\frac{\\partial}{\\partial y}z\\left(x, y\\right)}{2 \\, {\\left(x^{2} + y\\right)} y^{2}} + \\frac{x \\frac{\\partial}{\\partial y}z\\left(x, y\\right)}{2 \\, {\\left(x^{2} + y\\right)}^{2} y} + \\frac{\\partial^{2}}{\\partial x\\partial y}z\\left(x, y\\right)</script></html>"
      ],
      "text/latex": [
       "\\begin{math}\n",
       "\\newcommand{\\Bold}[1]{\\mathbf{#1}}-\\frac{x \\frac{\\partial^{2}}{(\\partial y)^{2}}z\\left(x, y\\right)}{2 \\, {\\left(x^{2} + y\\right)} y} + \\frac{x \\frac{\\partial}{\\partial y}z\\left(x, y\\right)}{2 \\, {\\left(x^{2} + y\\right)} y^{2}} + \\frac{x \\frac{\\partial}{\\partial y}z\\left(x, y\\right)}{2 \\, {\\left(x^{2} + y\\right)}^{2} y} + \\frac{\\partial^{2}}{\\partial x\\partial y}z\\left(x, y\\right)\n",
       "\\end{math}"
      ],
      "text/plain": [
       "-1/2*x*diff(z(x, y), y, y)/((x^2 + y)*y) + 1/2*x*diff(z(x, y), y)/((x^2 + y)*y^2) + 1/2*x*diff(z(x, y), y)/((x^2 + y)^2*y) + diff(z(x, y), x, y)"
      ]
     },
     "metadata": {},
     "output_type": "display_data"
    },
    {
     "data": {
      "text/html": [
       "<html><script type=\"math/tex; mode=display\">\\newcommand{\\Bold}[1]{\\mathbf{#1}}-\\frac{w\\left(x, y\\right)}{y} + \\frac{x \\frac{\\partial}{\\partial y}z\\left(x, y\\right)}{2 \\, {\\left(x^{2} + y\\right)} y} + \\frac{\\partial}{\\partial y}w\\left(x, y\\right)</script></html>"
      ],
      "text/latex": [
       "\\begin{math}\n",
       "\\newcommand{\\Bold}[1]{\\mathbf{#1}}-\\frac{w\\left(x, y\\right)}{y} + \\frac{x \\frac{\\partial}{\\partial y}z\\left(x, y\\right)}{2 \\, {\\left(x^{2} + y\\right)} y} + \\frac{\\partial}{\\partial y}w\\left(x, y\\right)\n",
       "\\end{math}"
      ],
      "text/plain": [
       "-w(x, y)/y + 1/2*x*diff(z(x, y), y)/((x^2 + y)*y) + diff(w(x, y), y)"
      ]
     },
     "metadata": {},
     "output_type": "display_data"
    },
    {
     "name": "stdout",
     "output_type": "stream",
     "text": [
      "Try to reduce r3 with r0\n",
      "--------------------------------------- entering reduce\n"
     ]
    },
    {
     "data": {
      "text/html": [
       "<html><script type=\"math/tex; mode=display\">\\newcommand{\\Bold}[1]{\\mathbf{#1}}-\\frac{y {\\left(\\frac{x \\frac{\\partial}{\\partial y}z\\left(x, y\\right)}{x^{2} y + y^{2}} - \\frac{2 \\, w\\left(x, y\\right)}{y} + 2 \\, \\frac{\\partial}{\\partial y}w\\left(x, y\\right)\\right)}}{2 \\, x} + \\frac{y \\frac{\\partial}{\\partial y}w\\left(x, y\\right)}{x} + \\frac{2 \\, y \\frac{\\partial}{\\partial x}z\\left(x, y\\right)}{x} + \\frac{5 \\, {\\left(2 \\, x^{2} w\\left(x, y\\right) - 2 \\, y^{2} \\frac{\\partial}{\\partial y}w\\left(x, y\\right) - 2 \\, {\\left(x^{2} \\frac{\\partial}{\\partial y}w\\left(x, y\\right) - w\\left(x, y\\right)\\right)} y - x \\frac{\\partial}{\\partial y}z\\left(x, y\\right)\\right)}}{x^{3} + x y} + \\frac{\\partial^{2}}{\\partial x\\partial y}z\\left(x, y\\right)</script></html>"
      ],
      "text/latex": [
       "\\begin{math}\n",
       "\\newcommand{\\Bold}[1]{\\mathbf{#1}}-\\frac{y {\\left(\\frac{x \\frac{\\partial}{\\partial y}z\\left(x, y\\right)}{x^{2} y + y^{2}} - \\frac{2 \\, w\\left(x, y\\right)}{y} + 2 \\, \\frac{\\partial}{\\partial y}w\\left(x, y\\right)\\right)}}{2 \\, x} + \\frac{y \\frac{\\partial}{\\partial y}w\\left(x, y\\right)}{x} + \\frac{2 \\, y \\frac{\\partial}{\\partial x}z\\left(x, y\\right)}{x} + \\frac{5 \\, {\\left(2 \\, x^{2} w\\left(x, y\\right) - 2 \\, y^{2} \\frac{\\partial}{\\partial y}w\\left(x, y\\right) - 2 \\, {\\left(x^{2} \\frac{\\partial}{\\partial y}w\\left(x, y\\right) - w\\left(x, y\\right)\\right)} y - x \\frac{\\partial}{\\partial y}z\\left(x, y\\right)\\right)}}{x^{3} + x y} + \\frac{\\partial^{2}}{\\partial x\\partial y}z\\left(x, y\\right)\n",
       "\\end{math}"
      ],
      "text/plain": [
       "-1/2*y*(x*diff(z(x, y), y)/(x^2*y + y^2) - 2*w(x, y)/y + 2*diff(w(x, y), y))/x + y*diff(w(x, y), y)/x + 2*y*diff(z(x, y), x)/x + 5*(2*x^2*w(x, y) - 2*y^2*diff(w(x, y), y) - 2*(x^2*diff(w(x, y), y) - w(x, y))*y - x*diff(z(x, y), y))/(x^3 + x*y) + diff(z(x, y), x, y)"
      ]
     },
     "metadata": {},
     "output_type": "display_data"
    },
    {
     "data": {
      "text/html": [
       "<html><script type=\"math/tex; mode=display\">\\newcommand{\\Bold}[1]{\\mathbf{#1}}-\\frac{w\\left(x, y\\right)}{y} + \\frac{x \\frac{\\partial}{\\partial y}z\\left(x, y\\right)}{2 \\, {\\left(x^{2} + y\\right)} y} + \\frac{\\partial}{\\partial y}w\\left(x, y\\right)</script></html>"
      ],
      "text/latex": [
       "\\begin{math}\n",
       "\\newcommand{\\Bold}[1]{\\mathbf{#1}}-\\frac{w\\left(x, y\\right)}{y} + \\frac{x \\frac{\\partial}{\\partial y}z\\left(x, y\\right)}{2 \\, {\\left(x^{2} + y\\right)} y} + \\frac{\\partial}{\\partial y}w\\left(x, y\\right)\n",
       "\\end{math}"
      ],
      "text/plain": [
       "-w(x, y)/y + 1/2*x*diff(z(x, y), y)/((x^2 + y)*y) + diff(w(x, y), y)"
      ]
     },
     "metadata": {},
     "output_type": "display_data"
    },
    {
     "name": "stdout",
     "output_type": "stream",
     "text": [
      "have reduced!\n"
     ]
    },
    {
     "data": {
      "text/html": [
       "<html><script type=\"math/tex; mode=display\">\\newcommand{\\Bold}[1]{\\mathbf{#1}}-\\frac{y {\\left(\\frac{x \\frac{\\partial}{\\partial y}z\\left(x, y\\right)}{x^{2} y + y^{2}} - \\frac{2 \\, w\\left(x, y\\right)}{y} + 2 \\, \\frac{\\partial}{\\partial y}w\\left(x, y\\right)\\right)}}{2 \\, x} + \\frac{y \\frac{\\partial}{\\partial y}w\\left(x, y\\right)}{x} + \\frac{2 \\, y \\frac{\\partial}{\\partial x}z\\left(x, y\\right)}{x} + \\frac{11 \\, {\\left(2 \\, x^{2} w\\left(x, y\\right) - 2 \\, y^{2} \\frac{\\partial}{\\partial y}w\\left(x, y\\right) - 2 \\, {\\left(x^{2} \\frac{\\partial}{\\partial y}w\\left(x, y\\right) - w\\left(x, y\\right)\\right)} y - x \\frac{\\partial}{\\partial y}z\\left(x, y\\right)\\right)}}{2 \\, {\\left(x^{3} + x y\\right)}} + \\frac{\\partial^{2}}{\\partial x\\partial y}z\\left(x, y\\right)</script></html>"
      ],
      "text/latex": [
       "\\begin{math}\n",
       "\\newcommand{\\Bold}[1]{\\mathbf{#1}}-\\frac{y {\\left(\\frac{x \\frac{\\partial}{\\partial y}z\\left(x, y\\right)}{x^{2} y + y^{2}} - \\frac{2 \\, w\\left(x, y\\right)}{y} + 2 \\, \\frac{\\partial}{\\partial y}w\\left(x, y\\right)\\right)}}{2 \\, x} + \\frac{y \\frac{\\partial}{\\partial y}w\\left(x, y\\right)}{x} + \\frac{2 \\, y \\frac{\\partial}{\\partial x}z\\left(x, y\\right)}{x} + \\frac{11 \\, {\\left(2 \\, x^{2} w\\left(x, y\\right) - 2 \\, y^{2} \\frac{\\partial}{\\partial y}w\\left(x, y\\right) - 2 \\, {\\left(x^{2} \\frac{\\partial}{\\partial y}w\\left(x, y\\right) - w\\left(x, y\\right)\\right)} y - x \\frac{\\partial}{\\partial y}z\\left(x, y\\right)\\right)}}{2 \\, {\\left(x^{3} + x y\\right)}} + \\frac{\\partial^{2}}{\\partial x\\partial y}z\\left(x, y\\right)\n",
       "\\end{math}"
      ],
      "text/plain": [
       "-1/2*y*(x*diff(z(x, y), y)/(x^2*y + y^2) - 2*w(x, y)/y + 2*diff(w(x, y), y))/x + y*diff(w(x, y), y)/x + 2*y*diff(z(x, y), x)/x + 11/2*(2*x^2*w(x, y) - 2*y^2*diff(w(x, y), y) - 2*(x^2*diff(w(x, y), y) - w(x, y))*y - x*diff(z(x, y), y))/(x^3 + x*y) + diff(z(x, y), x, y)"
      ]
     },
     "metadata": {},
     "output_type": "display_data"
    },
    {
     "name": "stdout",
     "output_type": "stream",
     "text": [
      "1 * diff(z(x, y), x, y)\n",
      "y/x * diff(w(x, y), y)\n",
      "2*y/x * diff(z(x, y), x)\n",
      "6*(2*x^2*w(x, y) - 2*y^2*diff(w(x, y), y) - 2*(x^2*diff(w(x, y), y) - w(x, y))*y - x*diff(z(x, y), y))/(x^3 + x*y) * 1\n",
      "Try to reduce r4 with r0\n",
      "--------------------------------------- entering reduce\n"
     ]
    },
    {
     "data": {
      "text/html": [
       "<html><script type=\"math/tex; mode=display\">\\newcommand{\\Bold}[1]{\\mathbf{#1}}-\\frac{2 \\, x \\frac{\\partial^{2}}{(\\partial x)^{2}}z\\left(x, y\\right)}{y} - \\frac{x \\frac{\\partial}{\\partial x}w\\left(x, y\\right)}{y^{2}} + \\frac{\\frac{\\partial}{\\partial x}w\\left(x, y\\right)}{y} - \\frac{x \\frac{\\partial^{2}}{\\partial x\\partial y}z\\left(x, y\\right)}{2 \\, {\\left(x^{2} + y\\right)} y} + \\frac{x^{2} \\frac{\\partial}{\\partial y}z\\left(x, y\\right)}{{\\left(x^{2} + y\\right)}^{2} y} - \\frac{\\frac{\\partial}{\\partial y}z\\left(x, y\\right)}{2 \\, {\\left(x^{2} + y\\right)} y}</script></html>"
      ],
      "text/latex": [
       "\\begin{math}\n",
       "\\newcommand{\\Bold}[1]{\\mathbf{#1}}-\\frac{2 \\, x \\frac{\\partial^{2}}{(\\partial x)^{2}}z\\left(x, y\\right)}{y} - \\frac{x \\frac{\\partial}{\\partial x}w\\left(x, y\\right)}{y^{2}} + \\frac{\\frac{\\partial}{\\partial x}w\\left(x, y\\right)}{y} - \\frac{x \\frac{\\partial^{2}}{\\partial x\\partial y}z\\left(x, y\\right)}{2 \\, {\\left(x^{2} + y\\right)} y} + \\frac{x^{2} \\frac{\\partial}{\\partial y}z\\left(x, y\\right)}{{\\left(x^{2} + y\\right)}^{2} y} - \\frac{\\frac{\\partial}{\\partial y}z\\left(x, y\\right)}{2 \\, {\\left(x^{2} + y\\right)} y}\n",
       "\\end{math}"
      ],
      "text/plain": [
       "-2*x*diff(z(x, y), x, x)/y - x*diff(w(x, y), x)/y^2 + diff(w(x, y), x)/y - 1/2*x*diff(z(x, y), x, y)/((x^2 + y)*y) + x^2*diff(z(x, y), y)/((x^2 + y)^2*y) - 1/2*diff(z(x, y), y)/((x^2 + y)*y)"
      ]
     },
     "metadata": {},
     "output_type": "display_data"
    },
    {
     "data": {
      "text/html": [
       "<html><script type=\"math/tex; mode=display\">\\newcommand{\\Bold}[1]{\\mathbf{#1}}-\\frac{w\\left(x, y\\right)}{y} + \\frac{x \\frac{\\partial}{\\partial y}z\\left(x, y\\right)}{2 \\, {\\left(x^{2} + y\\right)} y} + \\frac{\\partial}{\\partial y}w\\left(x, y\\right)</script></html>"
      ],
      "text/latex": [
       "\\begin{math}\n",
       "\\newcommand{\\Bold}[1]{\\mathbf{#1}}-\\frac{w\\left(x, y\\right)}{y} + \\frac{x \\frac{\\partial}{\\partial y}z\\left(x, y\\right)}{2 \\, {\\left(x^{2} + y\\right)} y} + \\frac{\\partial}{\\partial y}w\\left(x, y\\right)\n",
       "\\end{math}"
      ],
      "text/plain": [
       "-w(x, y)/y + 1/2*x*diff(z(x, y), y)/((x^2 + y)*y) + diff(w(x, y), y)"
      ]
     },
     "metadata": {},
     "output_type": "display_data"
    },
    {
     "name": "stdout",
     "output_type": "stream",
     "text": [
      "This is the new System........\n"
     ]
    },
    {
     "data": {
      "text/html": [
       "<html><script type=\"math/tex; mode=display\">\\newcommand{\\Bold}[1]{\\mathbf{#1}}-\\frac{w\\left(x, y\\right)}{y} + \\frac{x \\frac{\\partial}{\\partial y}z\\left(x, y\\right)}{2 \\, {\\left(x^{2} + y\\right)} y} + \\frac{\\partial}{\\partial y}w\\left(x, y\\right)</script></html>"
      ],
      "text/latex": [
       "\\begin{math}\n",
       "\\newcommand{\\Bold}[1]{\\mathbf{#1}}-\\frac{w\\left(x, y\\right)}{y} + \\frac{x \\frac{\\partial}{\\partial y}z\\left(x, y\\right)}{2 \\, {\\left(x^{2} + y\\right)} y} + \\frac{\\partial}{\\partial y}w\\left(x, y\\right)\n",
       "\\end{math}"
      ],
      "text/plain": [
       "-w(x, y)/y + 1/2*x*diff(z(x, y), y)/((x^2 + y)*y) + diff(w(x, y), y)"
      ]
     },
     "metadata": {},
     "output_type": "display_data"
    },
    {
     "data": {
      "text/html": [
       "<html><script type=\"math/tex; mode=display\">\\newcommand{\\Bold}[1]{\\mathbf{#1}}-\\frac{y {\\left(\\frac{x \\frac{\\partial}{\\partial y}z\\left(x, y\\right)}{x^{2} y + y^{2}} - \\frac{2 \\, w\\left(x, y\\right)}{y} + 2 \\, \\frac{\\partial}{\\partial y}w\\left(x, y\\right)\\right)}}{2 \\, x} + \\frac{y \\frac{\\partial}{\\partial y}w\\left(x, y\\right)}{x} + \\frac{2 \\, y \\frac{\\partial}{\\partial x}z\\left(x, y\\right)}{x} + \\frac{11 \\, {\\left(2 \\, x^{2} w\\left(x, y\\right) - 2 \\, y^{2} \\frac{\\partial}{\\partial y}w\\left(x, y\\right) - 2 \\, {\\left(x^{2} \\frac{\\partial}{\\partial y}w\\left(x, y\\right) - w\\left(x, y\\right)\\right)} y - x \\frac{\\partial}{\\partial y}z\\left(x, y\\right)\\right)}}{2 \\, {\\left(x^{3} + x y\\right)}} + \\frac{\\partial^{2}}{\\partial x\\partial y}z\\left(x, y\\right)</script></html>"
      ],
      "text/latex": [
       "\\begin{math}\n",
       "\\newcommand{\\Bold}[1]{\\mathbf{#1}}-\\frac{y {\\left(\\frac{x \\frac{\\partial}{\\partial y}z\\left(x, y\\right)}{x^{2} y + y^{2}} - \\frac{2 \\, w\\left(x, y\\right)}{y} + 2 \\, \\frac{\\partial}{\\partial y}w\\left(x, y\\right)\\right)}}{2 \\, x} + \\frac{y \\frac{\\partial}{\\partial y}w\\left(x, y\\right)}{x} + \\frac{2 \\, y \\frac{\\partial}{\\partial x}z\\left(x, y\\right)}{x} + \\frac{11 \\, {\\left(2 \\, x^{2} w\\left(x, y\\right) - 2 \\, y^{2} \\frac{\\partial}{\\partial y}w\\left(x, y\\right) - 2 \\, {\\left(x^{2} \\frac{\\partial}{\\partial y}w\\left(x, y\\right) - w\\left(x, y\\right)\\right)} y - x \\frac{\\partial}{\\partial y}z\\left(x, y\\right)\\right)}}{2 \\, {\\left(x^{3} + x y\\right)}} + \\frac{\\partial^{2}}{\\partial x\\partial y}z\\left(x, y\\right)\n",
       "\\end{math}"
      ],
      "text/plain": [
       "-1/2*y*(x*diff(z(x, y), y)/(x^2*y + y^2) - 2*w(x, y)/y + 2*diff(w(x, y), y))/x + y*diff(w(x, y), y)/x + 2*y*diff(z(x, y), x)/x + 11/2*(2*x^2*w(x, y) - 2*y^2*diff(w(x, y), y) - 2*(x^2*diff(w(x, y), y) - w(x, y))*y - x*diff(z(x, y), y))/(x^3 + x*y) + diff(z(x, y), x, y)"
      ]
     },
     "metadata": {},
     "output_type": "display_data"
    },
    {
     "data": {
      "text/html": [
       "<html><script type=\"math/tex; mode=display\">\\newcommand{\\Bold}[1]{\\mathbf{#1}}-\\frac{x \\frac{\\partial^{2}}{(\\partial y)^{2}}z\\left(x, y\\right)}{2 \\, {\\left(x^{2} + y\\right)} y} + \\frac{x \\frac{\\partial}{\\partial y}z\\left(x, y\\right)}{2 \\, {\\left(x^{2} + y\\right)} y^{2}} + \\frac{x \\frac{\\partial}{\\partial y}z\\left(x, y\\right)}{2 \\, {\\left(x^{2} + y\\right)}^{2} y} + \\frac{\\partial^{2}}{\\partial x\\partial y}z\\left(x, y\\right)</script></html>"
      ],
      "text/latex": [
       "\\begin{math}\n",
       "\\newcommand{\\Bold}[1]{\\mathbf{#1}}-\\frac{x \\frac{\\partial^{2}}{(\\partial y)^{2}}z\\left(x, y\\right)}{2 \\, {\\left(x^{2} + y\\right)} y} + \\frac{x \\frac{\\partial}{\\partial y}z\\left(x, y\\right)}{2 \\, {\\left(x^{2} + y\\right)} y^{2}} + \\frac{x \\frac{\\partial}{\\partial y}z\\left(x, y\\right)}{2 \\, {\\left(x^{2} + y\\right)}^{2} y} + \\frac{\\partial^{2}}{\\partial x\\partial y}z\\left(x, y\\right)\n",
       "\\end{math}"
      ],
      "text/plain": [
       "-1/2*x*diff(z(x, y), y, y)/((x^2 + y)*y) + 1/2*x*diff(z(x, y), y)/((x^2 + y)*y^2) + 1/2*x*diff(z(x, y), y)/((x^2 + y)^2*y) + diff(z(x, y), x, y)"
      ]
     },
     "metadata": {},
     "output_type": "display_data"
    },
    {
     "data": {
      "text/html": [
       "<html><script type=\"math/tex; mode=display\">\\newcommand{\\Bold}[1]{\\mathbf{#1}}\\frac{x \\frac{\\partial}{\\partial y}z\\left(x, y\\right)}{y} + \\frac{\\frac{\\partial}{\\partial y}w\\left(x, y\\right)}{2 \\, y} - \\frac{x \\frac{\\partial^{2}}{\\partial x\\partial y}z\\left(x, y\\right)}{2 \\, {\\left(x^{2} + y\\right)} y} + \\frac{x^{2} \\frac{\\partial}{\\partial y}z\\left(x, y\\right)}{{\\left(x^{2} + y\\right)}^{2} y} - \\frac{w\\left(x, y\\right)}{2 \\, y^{2}} - \\frac{\\frac{\\partial}{\\partial y}z\\left(x, y\\right)}{2 \\, {\\left(x^{2} + y\\right)} y} + \\frac{\\partial^{2}}{\\partial x\\partial y}z\\left(x, y\\right)</script></html>"
      ],
      "text/latex": [
       "\\begin{math}\n",
       "\\newcommand{\\Bold}[1]{\\mathbf{#1}}\\frac{x \\frac{\\partial}{\\partial y}z\\left(x, y\\right)}{y} + \\frac{\\frac{\\partial}{\\partial y}w\\left(x, y\\right)}{2 \\, y} - \\frac{x \\frac{\\partial^{2}}{\\partial x\\partial y}z\\left(x, y\\right)}{2 \\, {\\left(x^{2} + y\\right)} y} + \\frac{x^{2} \\frac{\\partial}{\\partial y}z\\left(x, y\\right)}{{\\left(x^{2} + y\\right)}^{2} y} - \\frac{w\\left(x, y\\right)}{2 \\, y^{2}} - \\frac{\\frac{\\partial}{\\partial y}z\\left(x, y\\right)}{2 \\, {\\left(x^{2} + y\\right)} y} + \\frac{\\partial^{2}}{\\partial x\\partial y}z\\left(x, y\\right)\n",
       "\\end{math}"
      ],
      "text/plain": [
       "x*diff(z(x, y), y)/y + 1/2*diff(w(x, y), y)/y - 1/2*x*diff(z(x, y), x, y)/((x^2 + y)*y) + x^2*diff(z(x, y), y)/((x^2 + y)^2*y) - 1/2*w(x, y)/y^2 - 1/2*diff(z(x, y), y)/((x^2 + y)*y) + diff(z(x, y), x, y)"
      ]
     },
     "metadata": {},
     "output_type": "display_data"
    },
    {
     "data": {
      "text/html": [
       "<html><script type=\"math/tex; mode=display\">\\newcommand{\\Bold}[1]{\\mathbf{#1}}-\\frac{2 \\, x \\frac{\\partial^{2}}{(\\partial x)^{2}}z\\left(x, y\\right)}{y} - \\frac{x \\frac{\\partial}{\\partial x}w\\left(x, y\\right)}{y^{2}} + \\frac{\\frac{\\partial}{\\partial x}w\\left(x, y\\right)}{y} - \\frac{x \\frac{\\partial^{2}}{\\partial x\\partial y}z\\left(x, y\\right)}{2 \\, {\\left(x^{2} + y\\right)} y} + \\frac{x^{2} \\frac{\\partial}{\\partial y}z\\left(x, y\\right)}{{\\left(x^{2} + y\\right)}^{2} y} - \\frac{\\frac{\\partial}{\\partial y}z\\left(x, y\\right)}{2 \\, {\\left(x^{2} + y\\right)} y}</script></html>"
      ],
      "text/latex": [
       "\\begin{math}\n",
       "\\newcommand{\\Bold}[1]{\\mathbf{#1}}-\\frac{2 \\, x \\frac{\\partial^{2}}{(\\partial x)^{2}}z\\left(x, y\\right)}{y} - \\frac{x \\frac{\\partial}{\\partial x}w\\left(x, y\\right)}{y^{2}} + \\frac{\\frac{\\partial}{\\partial x}w\\left(x, y\\right)}{y} - \\frac{x \\frac{\\partial^{2}}{\\partial x\\partial y}z\\left(x, y\\right)}{2 \\, {\\left(x^{2} + y\\right)} y} + \\frac{x^{2} \\frac{\\partial}{\\partial y}z\\left(x, y\\right)}{{\\left(x^{2} + y\\right)}^{2} y} - \\frac{\\frac{\\partial}{\\partial y}z\\left(x, y\\right)}{2 \\, {\\left(x^{2} + y\\right)} y}\n",
       "\\end{math}"
      ],
      "text/plain": [
       "-2*x*diff(z(x, y), x, x)/y - x*diff(w(x, y), x)/y^2 + diff(w(x, y), x)/y - 1/2*x*diff(z(x, y), x, y)/((x^2 + y)*y) + x^2*diff(z(x, y), y)/((x^2 + y)^2*y) - 1/2*diff(z(x, y), y)/((x^2 + y)*y)"
      ]
     },
     "metadata": {},
     "output_type": "display_data"
    },
    {
     "name": "stdout",
     "output_type": "stream",
     "text": [
      "While\n"
     ]
    },
    {
     "data": {
      "text/html": [
       "<html><script type=\"math/tex; mode=display\">\\newcommand{\\Bold}[1]{\\mathbf{#1}}-\\frac{w\\left(x, y\\right)}{y} + \\frac{x \\frac{\\partial}{\\partial y}z\\left(x, y\\right)}{2 \\, {\\left(x^{2} + y\\right)} y} + \\frac{\\partial}{\\partial y}w\\left(x, y\\right)</script></html>"
      ],
      "text/latex": [
       "\\begin{math}\n",
       "\\newcommand{\\Bold}[1]{\\mathbf{#1}}-\\frac{w\\left(x, y\\right)}{y} + \\frac{x \\frac{\\partial}{\\partial y}z\\left(x, y\\right)}{2 \\, {\\left(x^{2} + y\\right)} y} + \\frac{\\partial}{\\partial y}w\\left(x, y\\right)\n",
       "\\end{math}"
      ],
      "text/plain": [
       "-w(x, y)/y + 1/2*x*diff(z(x, y), y)/((x^2 + y)*y) + diff(w(x, y), y)"
      ]
     },
     "metadata": {},
     "output_type": "display_data"
    },
    {
     "data": {
      "text/html": [
       "<html><script type=\"math/tex; mode=display\">\\newcommand{\\Bold}[1]{\\mathbf{#1}}-\\frac{y {\\left(\\frac{x \\frac{\\partial}{\\partial y}z\\left(x, y\\right)}{x^{2} y + y^{2}} - \\frac{2 \\, w\\left(x, y\\right)}{y} + 2 \\, \\frac{\\partial}{\\partial y}w\\left(x, y\\right)\\right)}}{2 \\, x} + \\frac{y \\frac{\\partial}{\\partial y}w\\left(x, y\\right)}{x} + \\frac{2 \\, y \\frac{\\partial}{\\partial x}z\\left(x, y\\right)}{x} + \\frac{11 \\, {\\left(2 \\, x^{2} w\\left(x, y\\right) - 2 \\, y^{2} \\frac{\\partial}{\\partial y}w\\left(x, y\\right) - 2 \\, {\\left(x^{2} \\frac{\\partial}{\\partial y}w\\left(x, y\\right) - w\\left(x, y\\right)\\right)} y - x \\frac{\\partial}{\\partial y}z\\left(x, y\\right)\\right)}}{2 \\, {\\left(x^{3} + x y\\right)}} + \\frac{\\partial^{2}}{\\partial x\\partial y}z\\left(x, y\\right)</script></html>"
      ],
      "text/latex": [
       "\\begin{math}\n",
       "\\newcommand{\\Bold}[1]{\\mathbf{#1}}-\\frac{y {\\left(\\frac{x \\frac{\\partial}{\\partial y}z\\left(x, y\\right)}{x^{2} y + y^{2}} - \\frac{2 \\, w\\left(x, y\\right)}{y} + 2 \\, \\frac{\\partial}{\\partial y}w\\left(x, y\\right)\\right)}}{2 \\, x} + \\frac{y \\frac{\\partial}{\\partial y}w\\left(x, y\\right)}{x} + \\frac{2 \\, y \\frac{\\partial}{\\partial x}z\\left(x, y\\right)}{x} + \\frac{11 \\, {\\left(2 \\, x^{2} w\\left(x, y\\right) - 2 \\, y^{2} \\frac{\\partial}{\\partial y}w\\left(x, y\\right) - 2 \\, {\\left(x^{2} \\frac{\\partial}{\\partial y}w\\left(x, y\\right) - w\\left(x, y\\right)\\right)} y - x \\frac{\\partial}{\\partial y}z\\left(x, y\\right)\\right)}}{2 \\, {\\left(x^{3} + x y\\right)}} + \\frac{\\partial^{2}}{\\partial x\\partial y}z\\left(x, y\\right)\n",
       "\\end{math}"
      ],
      "text/plain": [
       "-1/2*y*(x*diff(z(x, y), y)/(x^2*y + y^2) - 2*w(x, y)/y + 2*diff(w(x, y), y))/x + y*diff(w(x, y), y)/x + 2*y*diff(z(x, y), x)/x + 11/2*(2*x^2*w(x, y) - 2*y^2*diff(w(x, y), y) - 2*(x^2*diff(w(x, y), y) - w(x, y))*y - x*diff(z(x, y), y))/(x^3 + x*y) + diff(z(x, y), x, y)"
      ]
     },
     "metadata": {},
     "output_type": "display_data"
    },
    {
     "name": "stdout",
     "output_type": "stream",
     "text": [
      "Try to reduce r1 with r0\n",
      "--------------------------------------- entering reduce\n"
     ]
    },
    {
     "data": {
      "text/html": [
       "<html><script type=\"math/tex; mode=display\">\\newcommand{\\Bold}[1]{\\mathbf{#1}}-\\frac{y {\\left(\\frac{x \\frac{\\partial}{\\partial y}z\\left(x, y\\right)}{x^{2} y + y^{2}} - \\frac{2 \\, w\\left(x, y\\right)}{y} + 2 \\, \\frac{\\partial}{\\partial y}w\\left(x, y\\right)\\right)}}{2 \\, x} + \\frac{y \\frac{\\partial}{\\partial y}w\\left(x, y\\right)}{x} + \\frac{2 \\, y \\frac{\\partial}{\\partial x}z\\left(x, y\\right)}{x} + \\frac{11 \\, {\\left(2 \\, x^{2} w\\left(x, y\\right) - 2 \\, y^{2} \\frac{\\partial}{\\partial y}w\\left(x, y\\right) - 2 \\, {\\left(x^{2} \\frac{\\partial}{\\partial y}w\\left(x, y\\right) - w\\left(x, y\\right)\\right)} y - x \\frac{\\partial}{\\partial y}z\\left(x, y\\right)\\right)}}{2 \\, {\\left(x^{3} + x y\\right)}} + \\frac{\\partial^{2}}{\\partial x\\partial y}z\\left(x, y\\right)</script></html>"
      ],
      "text/latex": [
       "\\begin{math}\n",
       "\\newcommand{\\Bold}[1]{\\mathbf{#1}}-\\frac{y {\\left(\\frac{x \\frac{\\partial}{\\partial y}z\\left(x, y\\right)}{x^{2} y + y^{2}} - \\frac{2 \\, w\\left(x, y\\right)}{y} + 2 \\, \\frac{\\partial}{\\partial y}w\\left(x, y\\right)\\right)}}{2 \\, x} + \\frac{y \\frac{\\partial}{\\partial y}w\\left(x, y\\right)}{x} + \\frac{2 \\, y \\frac{\\partial}{\\partial x}z\\left(x, y\\right)}{x} + \\frac{11 \\, {\\left(2 \\, x^{2} w\\left(x, y\\right) - 2 \\, y^{2} \\frac{\\partial}{\\partial y}w\\left(x, y\\right) - 2 \\, {\\left(x^{2} \\frac{\\partial}{\\partial y}w\\left(x, y\\right) - w\\left(x, y\\right)\\right)} y - x \\frac{\\partial}{\\partial y}z\\left(x, y\\right)\\right)}}{2 \\, {\\left(x^{3} + x y\\right)}} + \\frac{\\partial^{2}}{\\partial x\\partial y}z\\left(x, y\\right)\n",
       "\\end{math}"
      ],
      "text/plain": [
       "-1/2*y*(x*diff(z(x, y), y)/(x^2*y + y^2) - 2*w(x, y)/y + 2*diff(w(x, y), y))/x + y*diff(w(x, y), y)/x + 2*y*diff(z(x, y), x)/x + 11/2*(2*x^2*w(x, y) - 2*y^2*diff(w(x, y), y) - 2*(x^2*diff(w(x, y), y) - w(x, y))*y - x*diff(z(x, y), y))/(x^3 + x*y) + diff(z(x, y), x, y)"
      ]
     },
     "metadata": {},
     "output_type": "display_data"
    },
    {
     "data": {
      "text/html": [
       "<html><script type=\"math/tex; mode=display\">\\newcommand{\\Bold}[1]{\\mathbf{#1}}-\\frac{w\\left(x, y\\right)}{y} + \\frac{x \\frac{\\partial}{\\partial y}z\\left(x, y\\right)}{2 \\, {\\left(x^{2} + y\\right)} y} + \\frac{\\partial}{\\partial y}w\\left(x, y\\right)</script></html>"
      ],
      "text/latex": [
       "\\begin{math}\n",
       "\\newcommand{\\Bold}[1]{\\mathbf{#1}}-\\frac{w\\left(x, y\\right)}{y} + \\frac{x \\frac{\\partial}{\\partial y}z\\left(x, y\\right)}{2 \\, {\\left(x^{2} + y\\right)} y} + \\frac{\\partial}{\\partial y}w\\left(x, y\\right)\n",
       "\\end{math}"
      ],
      "text/plain": [
       "-w(x, y)/y + 1/2*x*diff(z(x, y), y)/((x^2 + y)*y) + diff(w(x, y), y)"
      ]
     },
     "metadata": {},
     "output_type": "display_data"
    },
    {
     "name": "stdout",
     "output_type": "stream",
     "text": [
      "have reduced!\n"
     ]
    },
    {
     "data": {
      "text/html": [
       "<html><script type=\"math/tex; mode=display\">\\newcommand{\\Bold}[1]{\\mathbf{#1}}-\\frac{y {\\left(\\frac{x \\frac{\\partial}{\\partial y}z\\left(x, y\\right)}{x^{2} y + y^{2}} - \\frac{2 \\, w\\left(x, y\\right)}{y} + 2 \\, \\frac{\\partial}{\\partial y}w\\left(x, y\\right)\\right)}}{2 \\, x} + \\frac{y \\frac{\\partial}{\\partial y}w\\left(x, y\\right)}{x} + \\frac{2 \\, y \\frac{\\partial}{\\partial x}z\\left(x, y\\right)}{x} + \\frac{6 \\, {\\left(2 \\, x^{2} w\\left(x, y\\right) - 2 \\, y^{2} \\frac{\\partial}{\\partial y}w\\left(x, y\\right) - 2 \\, {\\left(x^{2} \\frac{\\partial}{\\partial y}w\\left(x, y\\right) - w\\left(x, y\\right)\\right)} y - x \\frac{\\partial}{\\partial y}z\\left(x, y\\right)\\right)}}{x^{3} + x y} + \\frac{\\partial^{2}}{\\partial x\\partial y}z\\left(x, y\\right)</script></html>"
      ],
      "text/latex": [
       "\\begin{math}\n",
       "\\newcommand{\\Bold}[1]{\\mathbf{#1}}-\\frac{y {\\left(\\frac{x \\frac{\\partial}{\\partial y}z\\left(x, y\\right)}{x^{2} y + y^{2}} - \\frac{2 \\, w\\left(x, y\\right)}{y} + 2 \\, \\frac{\\partial}{\\partial y}w\\left(x, y\\right)\\right)}}{2 \\, x} + \\frac{y \\frac{\\partial}{\\partial y}w\\left(x, y\\right)}{x} + \\frac{2 \\, y \\frac{\\partial}{\\partial x}z\\left(x, y\\right)}{x} + \\frac{6 \\, {\\left(2 \\, x^{2} w\\left(x, y\\right) - 2 \\, y^{2} \\frac{\\partial}{\\partial y}w\\left(x, y\\right) - 2 \\, {\\left(x^{2} \\frac{\\partial}{\\partial y}w\\left(x, y\\right) - w\\left(x, y\\right)\\right)} y - x \\frac{\\partial}{\\partial y}z\\left(x, y\\right)\\right)}}{x^{3} + x y} + \\frac{\\partial^{2}}{\\partial x\\partial y}z\\left(x, y\\right)\n",
       "\\end{math}"
      ],
      "text/plain": [
       "-1/2*y*(x*diff(z(x, y), y)/(x^2*y + y^2) - 2*w(x, y)/y + 2*diff(w(x, y), y))/x + y*diff(w(x, y), y)/x + 2*y*diff(z(x, y), x)/x + 6*(2*x^2*w(x, y) - 2*y^2*diff(w(x, y), y) - 2*(x^2*diff(w(x, y), y) - w(x, y))*y - x*diff(z(x, y), y))/(x^3 + x*y) + diff(z(x, y), x, y)"
      ]
     },
     "metadata": {},
     "output_type": "display_data"
    },
    {
     "name": "stdout",
     "output_type": "stream",
     "text": [
      "1 * diff(z(x, y), x, y)\n",
      "y/x * diff(w(x, y), y)\n",
      "2*y/x * diff(z(x, y), x)\n",
      "13/2*(2*x^2*w(x, y) - 2*y^2*diff(w(x, y), y) - 2*(x^2*diff(w(x, y), y) - w(x, y))*y - x*diff(z(x, y), y))/(x^3 + x*y) * 1\n",
      "Try to reduce r2 with r0\n",
      "--------------------------------------- entering reduce\n"
     ]
    },
    {
     "data": {
      "text/html": [
       "<html><script type=\"math/tex; mode=display\">\\newcommand{\\Bold}[1]{\\mathbf{#1}}-\\frac{x \\frac{\\partial^{2}}{(\\partial y)^{2}}z\\left(x, y\\right)}{2 \\, {\\left(x^{2} + y\\right)} y} + \\frac{x \\frac{\\partial}{\\partial y}z\\left(x, y\\right)}{2 \\, {\\left(x^{2} + y\\right)} y^{2}} + \\frac{x \\frac{\\partial}{\\partial y}z\\left(x, y\\right)}{2 \\, {\\left(x^{2} + y\\right)}^{2} y} + \\frac{\\partial^{2}}{\\partial x\\partial y}z\\left(x, y\\right)</script></html>"
      ],
      "text/latex": [
       "\\begin{math}\n",
       "\\newcommand{\\Bold}[1]{\\mathbf{#1}}-\\frac{x \\frac{\\partial^{2}}{(\\partial y)^{2}}z\\left(x, y\\right)}{2 \\, {\\left(x^{2} + y\\right)} y} + \\frac{x \\frac{\\partial}{\\partial y}z\\left(x, y\\right)}{2 \\, {\\left(x^{2} + y\\right)} y^{2}} + \\frac{x \\frac{\\partial}{\\partial y}z\\left(x, y\\right)}{2 \\, {\\left(x^{2} + y\\right)}^{2} y} + \\frac{\\partial^{2}}{\\partial x\\partial y}z\\left(x, y\\right)\n",
       "\\end{math}"
      ],
      "text/plain": [
       "-1/2*x*diff(z(x, y), y, y)/((x^2 + y)*y) + 1/2*x*diff(z(x, y), y)/((x^2 + y)*y^2) + 1/2*x*diff(z(x, y), y)/((x^2 + y)^2*y) + diff(z(x, y), x, y)"
      ]
     },
     "metadata": {},
     "output_type": "display_data"
    },
    {
     "data": {
      "text/html": [
       "<html><script type=\"math/tex; mode=display\">\\newcommand{\\Bold}[1]{\\mathbf{#1}}-\\frac{w\\left(x, y\\right)}{y} + \\frac{x \\frac{\\partial}{\\partial y}z\\left(x, y\\right)}{2 \\, {\\left(x^{2} + y\\right)} y} + \\frac{\\partial}{\\partial y}w\\left(x, y\\right)</script></html>"
      ],
      "text/latex": [
       "\\begin{math}\n",
       "\\newcommand{\\Bold}[1]{\\mathbf{#1}}-\\frac{w\\left(x, y\\right)}{y} + \\frac{x \\frac{\\partial}{\\partial y}z\\left(x, y\\right)}{2 \\, {\\left(x^{2} + y\\right)} y} + \\frac{\\partial}{\\partial y}w\\left(x, y\\right)\n",
       "\\end{math}"
      ],
      "text/plain": [
       "-w(x, y)/y + 1/2*x*diff(z(x, y), y)/((x^2 + y)*y) + diff(w(x, y), y)"
      ]
     },
     "metadata": {},
     "output_type": "display_data"
    },
    {
     "name": "stdout",
     "output_type": "stream",
     "text": [
      "Try to reduce r3 with r0\n",
      "--------------------------------------- entering reduce\n"
     ]
    },
    {
     "data": {
      "text/html": [
       "<html><script type=\"math/tex; mode=display\">\\newcommand{\\Bold}[1]{\\mathbf{#1}}\\frac{x \\frac{\\partial}{\\partial y}z\\left(x, y\\right)}{y} + \\frac{\\frac{\\partial}{\\partial y}w\\left(x, y\\right)}{2 \\, y} - \\frac{x \\frac{\\partial^{2}}{\\partial x\\partial y}z\\left(x, y\\right)}{2 \\, {\\left(x^{2} + y\\right)} y} + \\frac{x^{2} \\frac{\\partial}{\\partial y}z\\left(x, y\\right)}{{\\left(x^{2} + y\\right)}^{2} y} - \\frac{w\\left(x, y\\right)}{2 \\, y^{2}} - \\frac{\\frac{\\partial}{\\partial y}z\\left(x, y\\right)}{2 \\, {\\left(x^{2} + y\\right)} y} + \\frac{\\partial^{2}}{\\partial x\\partial y}z\\left(x, y\\right)</script></html>"
      ],
      "text/latex": [
       "\\begin{math}\n",
       "\\newcommand{\\Bold}[1]{\\mathbf{#1}}\\frac{x \\frac{\\partial}{\\partial y}z\\left(x, y\\right)}{y} + \\frac{\\frac{\\partial}{\\partial y}w\\left(x, y\\right)}{2 \\, y} - \\frac{x \\frac{\\partial^{2}}{\\partial x\\partial y}z\\left(x, y\\right)}{2 \\, {\\left(x^{2} + y\\right)} y} + \\frac{x^{2} \\frac{\\partial}{\\partial y}z\\left(x, y\\right)}{{\\left(x^{2} + y\\right)}^{2} y} - \\frac{w\\left(x, y\\right)}{2 \\, y^{2}} - \\frac{\\frac{\\partial}{\\partial y}z\\left(x, y\\right)}{2 \\, {\\left(x^{2} + y\\right)} y} + \\frac{\\partial^{2}}{\\partial x\\partial y}z\\left(x, y\\right)\n",
       "\\end{math}"
      ],
      "text/plain": [
       "x*diff(z(x, y), y)/y + 1/2*diff(w(x, y), y)/y - 1/2*x*diff(z(x, y), x, y)/((x^2 + y)*y) + x^2*diff(z(x, y), y)/((x^2 + y)^2*y) - 1/2*w(x, y)/y^2 - 1/2*diff(z(x, y), y)/((x^2 + y)*y) + diff(z(x, y), x, y)"
      ]
     },
     "metadata": {},
     "output_type": "display_data"
    },
    {
     "data": {
      "text/html": [
       "<html><script type=\"math/tex; mode=display\">\\newcommand{\\Bold}[1]{\\mathbf{#1}}-\\frac{w\\left(x, y\\right)}{y} + \\frac{x \\frac{\\partial}{\\partial y}z\\left(x, y\\right)}{2 \\, {\\left(x^{2} + y\\right)} y} + \\frac{\\partial}{\\partial y}w\\left(x, y\\right)</script></html>"
      ],
      "text/latex": [
       "\\begin{math}\n",
       "\\newcommand{\\Bold}[1]{\\mathbf{#1}}-\\frac{w\\left(x, y\\right)}{y} + \\frac{x \\frac{\\partial}{\\partial y}z\\left(x, y\\right)}{2 \\, {\\left(x^{2} + y\\right)} y} + \\frac{\\partial}{\\partial y}w\\left(x, y\\right)\n",
       "\\end{math}"
      ],
      "text/plain": [
       "-w(x, y)/y + 1/2*x*diff(z(x, y), y)/((x^2 + y)*y) + diff(w(x, y), y)"
      ]
     },
     "metadata": {},
     "output_type": "display_data"
    },
    {
     "name": "stdout",
     "output_type": "stream",
     "text": [
      "Try to reduce r4 with r0\n",
      "--------------------------------------- entering reduce\n"
     ]
    },
    {
     "data": {
      "text/html": [
       "<html><script type=\"math/tex; mode=display\">\\newcommand{\\Bold}[1]{\\mathbf{#1}}-\\frac{2 \\, x \\frac{\\partial^{2}}{(\\partial x)^{2}}z\\left(x, y\\right)}{y} - \\frac{x \\frac{\\partial}{\\partial x}w\\left(x, y\\right)}{y^{2}} + \\frac{\\frac{\\partial}{\\partial x}w\\left(x, y\\right)}{y} - \\frac{x \\frac{\\partial^{2}}{\\partial x\\partial y}z\\left(x, y\\right)}{2 \\, {\\left(x^{2} + y\\right)} y} + \\frac{x^{2} \\frac{\\partial}{\\partial y}z\\left(x, y\\right)}{{\\left(x^{2} + y\\right)}^{2} y} - \\frac{\\frac{\\partial}{\\partial y}z\\left(x, y\\right)}{2 \\, {\\left(x^{2} + y\\right)} y}</script></html>"
      ],
      "text/latex": [
       "\\begin{math}\n",
       "\\newcommand{\\Bold}[1]{\\mathbf{#1}}-\\frac{2 \\, x \\frac{\\partial^{2}}{(\\partial x)^{2}}z\\left(x, y\\right)}{y} - \\frac{x \\frac{\\partial}{\\partial x}w\\left(x, y\\right)}{y^{2}} + \\frac{\\frac{\\partial}{\\partial x}w\\left(x, y\\right)}{y} - \\frac{x \\frac{\\partial^{2}}{\\partial x\\partial y}z\\left(x, y\\right)}{2 \\, {\\left(x^{2} + y\\right)} y} + \\frac{x^{2} \\frac{\\partial}{\\partial y}z\\left(x, y\\right)}{{\\left(x^{2} + y\\right)}^{2} y} - \\frac{\\frac{\\partial}{\\partial y}z\\left(x, y\\right)}{2 \\, {\\left(x^{2} + y\\right)} y}\n",
       "\\end{math}"
      ],
      "text/plain": [
       "-2*x*diff(z(x, y), x, x)/y - x*diff(w(x, y), x)/y^2 + diff(w(x, y), x)/y - 1/2*x*diff(z(x, y), x, y)/((x^2 + y)*y) + x^2*diff(z(x, y), y)/((x^2 + y)^2*y) - 1/2*diff(z(x, y), y)/((x^2 + y)*y)"
      ]
     },
     "metadata": {},
     "output_type": "display_data"
    },
    {
     "data": {
      "text/html": [
       "<html><script type=\"math/tex; mode=display\">\\newcommand{\\Bold}[1]{\\mathbf{#1}}-\\frac{w\\left(x, y\\right)}{y} + \\frac{x \\frac{\\partial}{\\partial y}z\\left(x, y\\right)}{2 \\, {\\left(x^{2} + y\\right)} y} + \\frac{\\partial}{\\partial y}w\\left(x, y\\right)</script></html>"
      ],
      "text/latex": [
       "\\begin{math}\n",
       "\\newcommand{\\Bold}[1]{\\mathbf{#1}}-\\frac{w\\left(x, y\\right)}{y} + \\frac{x \\frac{\\partial}{\\partial y}z\\left(x, y\\right)}{2 \\, {\\left(x^{2} + y\\right)} y} + \\frac{\\partial}{\\partial y}w\\left(x, y\\right)\n",
       "\\end{math}"
      ],
      "text/plain": [
       "-w(x, y)/y + 1/2*x*diff(z(x, y), y)/((x^2 + y)*y) + diff(w(x, y), y)"
      ]
     },
     "metadata": {},
     "output_type": "display_data"
    },
    {
     "name": "stdout",
     "output_type": "stream",
     "text": [
      "This is the new System........\n"
     ]
    },
    {
     "data": {
      "text/html": [
       "<html><script type=\"math/tex; mode=display\">\\newcommand{\\Bold}[1]{\\mathbf{#1}}-\\frac{w\\left(x, y\\right)}{y} + \\frac{x \\frac{\\partial}{\\partial y}z\\left(x, y\\right)}{2 \\, {\\left(x^{2} + y\\right)} y} + \\frac{\\partial}{\\partial y}w\\left(x, y\\right)</script></html>"
      ],
      "text/latex": [
       "\\begin{math}\n",
       "\\newcommand{\\Bold}[1]{\\mathbf{#1}}-\\frac{w\\left(x, y\\right)}{y} + \\frac{x \\frac{\\partial}{\\partial y}z\\left(x, y\\right)}{2 \\, {\\left(x^{2} + y\\right)} y} + \\frac{\\partial}{\\partial y}w\\left(x, y\\right)\n",
       "\\end{math}"
      ],
      "text/plain": [
       "-w(x, y)/y + 1/2*x*diff(z(x, y), y)/((x^2 + y)*y) + diff(w(x, y), y)"
      ]
     },
     "metadata": {},
     "output_type": "display_data"
    },
    {
     "data": {
      "text/html": [
       "<html><script type=\"math/tex; mode=display\">\\newcommand{\\Bold}[1]{\\mathbf{#1}}\\frac{x \\frac{\\partial}{\\partial y}z\\left(x, y\\right)}{y} + \\frac{\\frac{\\partial}{\\partial y}w\\left(x, y\\right)}{2 \\, y} - \\frac{x \\frac{\\partial^{2}}{\\partial x\\partial y}z\\left(x, y\\right)}{2 \\, {\\left(x^{2} + y\\right)} y} + \\frac{x^{2} \\frac{\\partial}{\\partial y}z\\left(x, y\\right)}{{\\left(x^{2} + y\\right)}^{2} y} - \\frac{w\\left(x, y\\right)}{2 \\, y^{2}} - \\frac{\\frac{\\partial}{\\partial y}z\\left(x, y\\right)}{2 \\, {\\left(x^{2} + y\\right)} y} + \\frac{\\partial^{2}}{\\partial x\\partial y}z\\left(x, y\\right)</script></html>"
      ],
      "text/latex": [
       "\\begin{math}\n",
       "\\newcommand{\\Bold}[1]{\\mathbf{#1}}\\frac{x \\frac{\\partial}{\\partial y}z\\left(x, y\\right)}{y} + \\frac{\\frac{\\partial}{\\partial y}w\\left(x, y\\right)}{2 \\, y} - \\frac{x \\frac{\\partial^{2}}{\\partial x\\partial y}z\\left(x, y\\right)}{2 \\, {\\left(x^{2} + y\\right)} y} + \\frac{x^{2} \\frac{\\partial}{\\partial y}z\\left(x, y\\right)}{{\\left(x^{2} + y\\right)}^{2} y} - \\frac{w\\left(x, y\\right)}{2 \\, y^{2}} - \\frac{\\frac{\\partial}{\\partial y}z\\left(x, y\\right)}{2 \\, {\\left(x^{2} + y\\right)} y} + \\frac{\\partial^{2}}{\\partial x\\partial y}z\\left(x, y\\right)\n",
       "\\end{math}"
      ],
      "text/plain": [
       "x*diff(z(x, y), y)/y + 1/2*diff(w(x, y), y)/y - 1/2*x*diff(z(x, y), x, y)/((x^2 + y)*y) + x^2*diff(z(x, y), y)/((x^2 + y)^2*y) - 1/2*w(x, y)/y^2 - 1/2*diff(z(x, y), y)/((x^2 + y)*y) + diff(z(x, y), x, y)"
      ]
     },
     "metadata": {},
     "output_type": "display_data"
    },
    {
     "data": {
      "text/html": [
       "<html><script type=\"math/tex; mode=display\">\\newcommand{\\Bold}[1]{\\mathbf{#1}}-\\frac{x \\frac{\\partial^{2}}{(\\partial y)^{2}}z\\left(x, y\\right)}{2 \\, {\\left(x^{2} + y\\right)} y} + \\frac{x \\frac{\\partial}{\\partial y}z\\left(x, y\\right)}{2 \\, {\\left(x^{2} + y\\right)} y^{2}} + \\frac{x \\frac{\\partial}{\\partial y}z\\left(x, y\\right)}{2 \\, {\\left(x^{2} + y\\right)}^{2} y} + \\frac{\\partial^{2}}{\\partial x\\partial y}z\\left(x, y\\right)</script></html>"
      ],
      "text/latex": [
       "\\begin{math}\n",
       "\\newcommand{\\Bold}[1]{\\mathbf{#1}}-\\frac{x \\frac{\\partial^{2}}{(\\partial y)^{2}}z\\left(x, y\\right)}{2 \\, {\\left(x^{2} + y\\right)} y} + \\frac{x \\frac{\\partial}{\\partial y}z\\left(x, y\\right)}{2 \\, {\\left(x^{2} + y\\right)} y^{2}} + \\frac{x \\frac{\\partial}{\\partial y}z\\left(x, y\\right)}{2 \\, {\\left(x^{2} + y\\right)}^{2} y} + \\frac{\\partial^{2}}{\\partial x\\partial y}z\\left(x, y\\right)\n",
       "\\end{math}"
      ],
      "text/plain": [
       "-1/2*x*diff(z(x, y), y, y)/((x^2 + y)*y) + 1/2*x*diff(z(x, y), y)/((x^2 + y)*y^2) + 1/2*x*diff(z(x, y), y)/((x^2 + y)^2*y) + diff(z(x, y), x, y)"
      ]
     },
     "metadata": {},
     "output_type": "display_data"
    },
    {
     "data": {
      "text/html": [
       "<html><script type=\"math/tex; mode=display\">\\newcommand{\\Bold}[1]{\\mathbf{#1}}-\\frac{y {\\left(\\frac{x \\frac{\\partial}{\\partial y}z\\left(x, y\\right)}{x^{2} y + y^{2}} - \\frac{2 \\, w\\left(x, y\\right)}{y} + 2 \\, \\frac{\\partial}{\\partial y}w\\left(x, y\\right)\\right)}}{2 \\, x} + \\frac{y \\frac{\\partial}{\\partial y}w\\left(x, y\\right)}{x} + \\frac{2 \\, y \\frac{\\partial}{\\partial x}z\\left(x, y\\right)}{x} + \\frac{6 \\, {\\left(2 \\, x^{2} w\\left(x, y\\right) - 2 \\, y^{2} \\frac{\\partial}{\\partial y}w\\left(x, y\\right) - 2 \\, {\\left(x^{2} \\frac{\\partial}{\\partial y}w\\left(x, y\\right) - w\\left(x, y\\right)\\right)} y - x \\frac{\\partial}{\\partial y}z\\left(x, y\\right)\\right)}}{x^{3} + x y} + \\frac{\\partial^{2}}{\\partial x\\partial y}z\\left(x, y\\right)</script></html>"
      ],
      "text/latex": [
       "\\begin{math}\n",
       "\\newcommand{\\Bold}[1]{\\mathbf{#1}}-\\frac{y {\\left(\\frac{x \\frac{\\partial}{\\partial y}z\\left(x, y\\right)}{x^{2} y + y^{2}} - \\frac{2 \\, w\\left(x, y\\right)}{y} + 2 \\, \\frac{\\partial}{\\partial y}w\\left(x, y\\right)\\right)}}{2 \\, x} + \\frac{y \\frac{\\partial}{\\partial y}w\\left(x, y\\right)}{x} + \\frac{2 \\, y \\frac{\\partial}{\\partial x}z\\left(x, y\\right)}{x} + \\frac{6 \\, {\\left(2 \\, x^{2} w\\left(x, y\\right) - 2 \\, y^{2} \\frac{\\partial}{\\partial y}w\\left(x, y\\right) - 2 \\, {\\left(x^{2} \\frac{\\partial}{\\partial y}w\\left(x, y\\right) - w\\left(x, y\\right)\\right)} y - x \\frac{\\partial}{\\partial y}z\\left(x, y\\right)\\right)}}{x^{3} + x y} + \\frac{\\partial^{2}}{\\partial x\\partial y}z\\left(x, y\\right)\n",
       "\\end{math}"
      ],
      "text/plain": [
       "-1/2*y*(x*diff(z(x, y), y)/(x^2*y + y^2) - 2*w(x, y)/y + 2*diff(w(x, y), y))/x + y*diff(w(x, y), y)/x + 2*y*diff(z(x, y), x)/x + 6*(2*x^2*w(x, y) - 2*y^2*diff(w(x, y), y) - 2*(x^2*diff(w(x, y), y) - w(x, y))*y - x*diff(z(x, y), y))/(x^3 + x*y) + diff(z(x, y), x, y)"
      ]
     },
     "metadata": {},
     "output_type": "display_data"
    },
    {
     "data": {
      "text/html": [
       "<html><script type=\"math/tex; mode=display\">\\newcommand{\\Bold}[1]{\\mathbf{#1}}-\\frac{2 \\, x \\frac{\\partial^{2}}{(\\partial x)^{2}}z\\left(x, y\\right)}{y} - \\frac{x \\frac{\\partial}{\\partial x}w\\left(x, y\\right)}{y^{2}} + \\frac{\\frac{\\partial}{\\partial x}w\\left(x, y\\right)}{y} - \\frac{x \\frac{\\partial^{2}}{\\partial x\\partial y}z\\left(x, y\\right)}{2 \\, {\\left(x^{2} + y\\right)} y} + \\frac{x^{2} \\frac{\\partial}{\\partial y}z\\left(x, y\\right)}{{\\left(x^{2} + y\\right)}^{2} y} - \\frac{\\frac{\\partial}{\\partial y}z\\left(x, y\\right)}{2 \\, {\\left(x^{2} + y\\right)} y}</script></html>"
      ],
      "text/latex": [
       "\\begin{math}\n",
       "\\newcommand{\\Bold}[1]{\\mathbf{#1}}-\\frac{2 \\, x \\frac{\\partial^{2}}{(\\partial x)^{2}}z\\left(x, y\\right)}{y} - \\frac{x \\frac{\\partial}{\\partial x}w\\left(x, y\\right)}{y^{2}} + \\frac{\\frac{\\partial}{\\partial x}w\\left(x, y\\right)}{y} - \\frac{x \\frac{\\partial^{2}}{\\partial x\\partial y}z\\left(x, y\\right)}{2 \\, {\\left(x^{2} + y\\right)} y} + \\frac{x^{2} \\frac{\\partial}{\\partial y}z\\left(x, y\\right)}{{\\left(x^{2} + y\\right)}^{2} y} - \\frac{\\frac{\\partial}{\\partial y}z\\left(x, y\\right)}{2 \\, {\\left(x^{2} + y\\right)} y}\n",
       "\\end{math}"
      ],
      "text/plain": [
       "-2*x*diff(z(x, y), x, x)/y - x*diff(w(x, y), x)/y^2 + diff(w(x, y), x)/y - 1/2*x*diff(z(x, y), x, y)/((x^2 + y)*y) + x^2*diff(z(x, y), y)/((x^2 + y)^2*y) - 1/2*diff(z(x, y), y)/((x^2 + y)*y)"
      ]
     },
     "metadata": {},
     "output_type": "display_data"
    },
    {
     "name": "stdout",
     "output_type": "stream",
     "text": [
      "While\n"
     ]
    },
    {
     "data": {
      "text/html": [
       "<html><script type=\"math/tex; mode=display\">\\newcommand{\\Bold}[1]{\\mathbf{#1}}-\\frac{w\\left(x, y\\right)}{y} + \\frac{x \\frac{\\partial}{\\partial y}z\\left(x, y\\right)}{2 \\, {\\left(x^{2} + y\\right)} y} + \\frac{\\partial}{\\partial y}w\\left(x, y\\right)</script></html>"
      ],
      "text/latex": [
       "\\begin{math}\n",
       "\\newcommand{\\Bold}[1]{\\mathbf{#1}}-\\frac{w\\left(x, y\\right)}{y} + \\frac{x \\frac{\\partial}{\\partial y}z\\left(x, y\\right)}{2 \\, {\\left(x^{2} + y\\right)} y} + \\frac{\\partial}{\\partial y}w\\left(x, y\\right)\n",
       "\\end{math}"
      ],
      "text/plain": [
       "-w(x, y)/y + 1/2*x*diff(z(x, y), y)/((x^2 + y)*y) + diff(w(x, y), y)"
      ]
     },
     "metadata": {},
     "output_type": "display_data"
    },
    {
     "data": {
      "text/html": [
       "<html><script type=\"math/tex; mode=display\">\\newcommand{\\Bold}[1]{\\mathbf{#1}}\\frac{x \\frac{\\partial}{\\partial y}z\\left(x, y\\right)}{y} + \\frac{\\frac{\\partial}{\\partial y}w\\left(x, y\\right)}{2 \\, y} - \\frac{x \\frac{\\partial^{2}}{\\partial x\\partial y}z\\left(x, y\\right)}{2 \\, {\\left(x^{2} + y\\right)} y} + \\frac{x^{2} \\frac{\\partial}{\\partial y}z\\left(x, y\\right)}{{\\left(x^{2} + y\\right)}^{2} y} - \\frac{w\\left(x, y\\right)}{2 \\, y^{2}} - \\frac{\\frac{\\partial}{\\partial y}z\\left(x, y\\right)}{2 \\, {\\left(x^{2} + y\\right)} y} + \\frac{\\partial^{2}}{\\partial x\\partial y}z\\left(x, y\\right)</script></html>"
      ],
      "text/latex": [
       "\\begin{math}\n",
       "\\newcommand{\\Bold}[1]{\\mathbf{#1}}\\frac{x \\frac{\\partial}{\\partial y}z\\left(x, y\\right)}{y} + \\frac{\\frac{\\partial}{\\partial y}w\\left(x, y\\right)}{2 \\, y} - \\frac{x \\frac{\\partial^{2}}{\\partial x\\partial y}z\\left(x, y\\right)}{2 \\, {\\left(x^{2} + y\\right)} y} + \\frac{x^{2} \\frac{\\partial}{\\partial y}z\\left(x, y\\right)}{{\\left(x^{2} + y\\right)}^{2} y} - \\frac{w\\left(x, y\\right)}{2 \\, y^{2}} - \\frac{\\frac{\\partial}{\\partial y}z\\left(x, y\\right)}{2 \\, {\\left(x^{2} + y\\right)} y} + \\frac{\\partial^{2}}{\\partial x\\partial y}z\\left(x, y\\right)\n",
       "\\end{math}"
      ],
      "text/plain": [
       "x*diff(z(x, y), y)/y + 1/2*diff(w(x, y), y)/y - 1/2*x*diff(z(x, y), x, y)/((x^2 + y)*y) + x^2*diff(z(x, y), y)/((x^2 + y)^2*y) - 1/2*w(x, y)/y^2 - 1/2*diff(z(x, y), y)/((x^2 + y)*y) + diff(z(x, y), x, y)"
      ]
     },
     "metadata": {},
     "output_type": "display_data"
    },
    {
     "name": "stdout",
     "output_type": "stream",
     "text": [
      "Try to reduce r1 with r0\n",
      "--------------------------------------- entering reduce\n"
     ]
    },
    {
     "data": {
      "text/html": [
       "<html><script type=\"math/tex; mode=display\">\\newcommand{\\Bold}[1]{\\mathbf{#1}}\\frac{x \\frac{\\partial}{\\partial y}z\\left(x, y\\right)}{y} + \\frac{\\frac{\\partial}{\\partial y}w\\left(x, y\\right)}{2 \\, y} - \\frac{x \\frac{\\partial^{2}}{\\partial x\\partial y}z\\left(x, y\\right)}{2 \\, {\\left(x^{2} + y\\right)} y} + \\frac{x^{2} \\frac{\\partial}{\\partial y}z\\left(x, y\\right)}{{\\left(x^{2} + y\\right)}^{2} y} - \\frac{w\\left(x, y\\right)}{2 \\, y^{2}} - \\frac{\\frac{\\partial}{\\partial y}z\\left(x, y\\right)}{2 \\, {\\left(x^{2} + y\\right)} y} + \\frac{\\partial^{2}}{\\partial x\\partial y}z\\left(x, y\\right)</script></html>"
      ],
      "text/latex": [
       "\\begin{math}\n",
       "\\newcommand{\\Bold}[1]{\\mathbf{#1}}\\frac{x \\frac{\\partial}{\\partial y}z\\left(x, y\\right)}{y} + \\frac{\\frac{\\partial}{\\partial y}w\\left(x, y\\right)}{2 \\, y} - \\frac{x \\frac{\\partial^{2}}{\\partial x\\partial y}z\\left(x, y\\right)}{2 \\, {\\left(x^{2} + y\\right)} y} + \\frac{x^{2} \\frac{\\partial}{\\partial y}z\\left(x, y\\right)}{{\\left(x^{2} + y\\right)}^{2} y} - \\frac{w\\left(x, y\\right)}{2 \\, y^{2}} - \\frac{\\frac{\\partial}{\\partial y}z\\left(x, y\\right)}{2 \\, {\\left(x^{2} + y\\right)} y} + \\frac{\\partial^{2}}{\\partial x\\partial y}z\\left(x, y\\right)\n",
       "\\end{math}"
      ],
      "text/plain": [
       "x*diff(z(x, y), y)/y + 1/2*diff(w(x, y), y)/y - 1/2*x*diff(z(x, y), x, y)/((x^2 + y)*y) + x^2*diff(z(x, y), y)/((x^2 + y)^2*y) - 1/2*w(x, y)/y^2 - 1/2*diff(z(x, y), y)/((x^2 + y)*y) + diff(z(x, y), x, y)"
      ]
     },
     "metadata": {},
     "output_type": "display_data"
    },
    {
     "data": {
      "text/html": [
       "<html><script type=\"math/tex; mode=display\">\\newcommand{\\Bold}[1]{\\mathbf{#1}}-\\frac{w\\left(x, y\\right)}{y} + \\frac{x \\frac{\\partial}{\\partial y}z\\left(x, y\\right)}{2 \\, {\\left(x^{2} + y\\right)} y} + \\frac{\\partial}{\\partial y}w\\left(x, y\\right)</script></html>"
      ],
      "text/latex": [
       "\\begin{math}\n",
       "\\newcommand{\\Bold}[1]{\\mathbf{#1}}-\\frac{w\\left(x, y\\right)}{y} + \\frac{x \\frac{\\partial}{\\partial y}z\\left(x, y\\right)}{2 \\, {\\left(x^{2} + y\\right)} y} + \\frac{\\partial}{\\partial y}w\\left(x, y\\right)\n",
       "\\end{math}"
      ],
      "text/plain": [
       "-w(x, y)/y + 1/2*x*diff(z(x, y), y)/((x^2 + y)*y) + diff(w(x, y), y)"
      ]
     },
     "metadata": {},
     "output_type": "display_data"
    },
    {
     "name": "stdout",
     "output_type": "stream",
     "text": [
      "Try to reduce r2 with r0\n",
      "--------------------------------------- entering reduce\n"
     ]
    },
    {
     "data": {
      "text/html": [
       "<html><script type=\"math/tex; mode=display\">\\newcommand{\\Bold}[1]{\\mathbf{#1}}-\\frac{x \\frac{\\partial^{2}}{(\\partial y)^{2}}z\\left(x, y\\right)}{2 \\, {\\left(x^{2} + y\\right)} y} + \\frac{x \\frac{\\partial}{\\partial y}z\\left(x, y\\right)}{2 \\, {\\left(x^{2} + y\\right)} y^{2}} + \\frac{x \\frac{\\partial}{\\partial y}z\\left(x, y\\right)}{2 \\, {\\left(x^{2} + y\\right)}^{2} y} + \\frac{\\partial^{2}}{\\partial x\\partial y}z\\left(x, y\\right)</script></html>"
      ],
      "text/latex": [
       "\\begin{math}\n",
       "\\newcommand{\\Bold}[1]{\\mathbf{#1}}-\\frac{x \\frac{\\partial^{2}}{(\\partial y)^{2}}z\\left(x, y\\right)}{2 \\, {\\left(x^{2} + y\\right)} y} + \\frac{x \\frac{\\partial}{\\partial y}z\\left(x, y\\right)}{2 \\, {\\left(x^{2} + y\\right)} y^{2}} + \\frac{x \\frac{\\partial}{\\partial y}z\\left(x, y\\right)}{2 \\, {\\left(x^{2} + y\\right)}^{2} y} + \\frac{\\partial^{2}}{\\partial x\\partial y}z\\left(x, y\\right)\n",
       "\\end{math}"
      ],
      "text/plain": [
       "-1/2*x*diff(z(x, y), y, y)/((x^2 + y)*y) + 1/2*x*diff(z(x, y), y)/((x^2 + y)*y^2) + 1/2*x*diff(z(x, y), y)/((x^2 + y)^2*y) + diff(z(x, y), x, y)"
      ]
     },
     "metadata": {},
     "output_type": "display_data"
    },
    {
     "data": {
      "text/html": [
       "<html><script type=\"math/tex; mode=display\">\\newcommand{\\Bold}[1]{\\mathbf{#1}}-\\frac{w\\left(x, y\\right)}{y} + \\frac{x \\frac{\\partial}{\\partial y}z\\left(x, y\\right)}{2 \\, {\\left(x^{2} + y\\right)} y} + \\frac{\\partial}{\\partial y}w\\left(x, y\\right)</script></html>"
      ],
      "text/latex": [
       "\\begin{math}\n",
       "\\newcommand{\\Bold}[1]{\\mathbf{#1}}-\\frac{w\\left(x, y\\right)}{y} + \\frac{x \\frac{\\partial}{\\partial y}z\\left(x, y\\right)}{2 \\, {\\left(x^{2} + y\\right)} y} + \\frac{\\partial}{\\partial y}w\\left(x, y\\right)\n",
       "\\end{math}"
      ],
      "text/plain": [
       "-w(x, y)/y + 1/2*x*diff(z(x, y), y)/((x^2 + y)*y) + diff(w(x, y), y)"
      ]
     },
     "metadata": {},
     "output_type": "display_data"
    },
    {
     "name": "stdout",
     "output_type": "stream",
     "text": [
      "Try to reduce r3 with r0\n",
      "--------------------------------------- entering reduce\n"
     ]
    },
    {
     "data": {
      "text/html": [
       "<html><script type=\"math/tex; mode=display\">\\newcommand{\\Bold}[1]{\\mathbf{#1}}-\\frac{y {\\left(\\frac{x \\frac{\\partial}{\\partial y}z\\left(x, y\\right)}{x^{2} y + y^{2}} - \\frac{2 \\, w\\left(x, y\\right)}{y} + 2 \\, \\frac{\\partial}{\\partial y}w\\left(x, y\\right)\\right)}}{2 \\, x} + \\frac{y \\frac{\\partial}{\\partial y}w\\left(x, y\\right)}{x} + \\frac{2 \\, y \\frac{\\partial}{\\partial x}z\\left(x, y\\right)}{x} + \\frac{6 \\, {\\left(2 \\, x^{2} w\\left(x, y\\right) - 2 \\, y^{2} \\frac{\\partial}{\\partial y}w\\left(x, y\\right) - 2 \\, {\\left(x^{2} \\frac{\\partial}{\\partial y}w\\left(x, y\\right) - w\\left(x, y\\right)\\right)} y - x \\frac{\\partial}{\\partial y}z\\left(x, y\\right)\\right)}}{x^{3} + x y} + \\frac{\\partial^{2}}{\\partial x\\partial y}z\\left(x, y\\right)</script></html>"
      ],
      "text/latex": [
       "\\begin{math}\n",
       "\\newcommand{\\Bold}[1]{\\mathbf{#1}}-\\frac{y {\\left(\\frac{x \\frac{\\partial}{\\partial y}z\\left(x, y\\right)}{x^{2} y + y^{2}} - \\frac{2 \\, w\\left(x, y\\right)}{y} + 2 \\, \\frac{\\partial}{\\partial y}w\\left(x, y\\right)\\right)}}{2 \\, x} + \\frac{y \\frac{\\partial}{\\partial y}w\\left(x, y\\right)}{x} + \\frac{2 \\, y \\frac{\\partial}{\\partial x}z\\left(x, y\\right)}{x} + \\frac{6 \\, {\\left(2 \\, x^{2} w\\left(x, y\\right) - 2 \\, y^{2} \\frac{\\partial}{\\partial y}w\\left(x, y\\right) - 2 \\, {\\left(x^{2} \\frac{\\partial}{\\partial y}w\\left(x, y\\right) - w\\left(x, y\\right)\\right)} y - x \\frac{\\partial}{\\partial y}z\\left(x, y\\right)\\right)}}{x^{3} + x y} + \\frac{\\partial^{2}}{\\partial x\\partial y}z\\left(x, y\\right)\n",
       "\\end{math}"
      ],
      "text/plain": [
       "-1/2*y*(x*diff(z(x, y), y)/(x^2*y + y^2) - 2*w(x, y)/y + 2*diff(w(x, y), y))/x + y*diff(w(x, y), y)/x + 2*y*diff(z(x, y), x)/x + 6*(2*x^2*w(x, y) - 2*y^2*diff(w(x, y), y) - 2*(x^2*diff(w(x, y), y) - w(x, y))*y - x*diff(z(x, y), y))/(x^3 + x*y) + diff(z(x, y), x, y)"
      ]
     },
     "metadata": {},
     "output_type": "display_data"
    },
    {
     "data": {
      "text/html": [
       "<html><script type=\"math/tex; mode=display\">\\newcommand{\\Bold}[1]{\\mathbf{#1}}-\\frac{w\\left(x, y\\right)}{y} + \\frac{x \\frac{\\partial}{\\partial y}z\\left(x, y\\right)}{2 \\, {\\left(x^{2} + y\\right)} y} + \\frac{\\partial}{\\partial y}w\\left(x, y\\right)</script></html>"
      ],
      "text/latex": [
       "\\begin{math}\n",
       "\\newcommand{\\Bold}[1]{\\mathbf{#1}}-\\frac{w\\left(x, y\\right)}{y} + \\frac{x \\frac{\\partial}{\\partial y}z\\left(x, y\\right)}{2 \\, {\\left(x^{2} + y\\right)} y} + \\frac{\\partial}{\\partial y}w\\left(x, y\\right)\n",
       "\\end{math}"
      ],
      "text/plain": [
       "-w(x, y)/y + 1/2*x*diff(z(x, y), y)/((x^2 + y)*y) + diff(w(x, y), y)"
      ]
     },
     "metadata": {},
     "output_type": "display_data"
    },
    {
     "name": "stdout",
     "output_type": "stream",
     "text": [
      "have reduced!\n"
     ]
    },
    {
     "data": {
      "text/html": [
       "<html><script type=\"math/tex; mode=display\">\\newcommand{\\Bold}[1]{\\mathbf{#1}}-\\frac{y {\\left(\\frac{x \\frac{\\partial}{\\partial y}z\\left(x, y\\right)}{x^{2} y + y^{2}} - \\frac{2 \\, w\\left(x, y\\right)}{y} + 2 \\, \\frac{\\partial}{\\partial y}w\\left(x, y\\right)\\right)}}{2 \\, x} + \\frac{y \\frac{\\partial}{\\partial y}w\\left(x, y\\right)}{x} + \\frac{2 \\, y \\frac{\\partial}{\\partial x}z\\left(x, y\\right)}{x} + \\frac{13 \\, {\\left(2 \\, x^{2} w\\left(x, y\\right) - 2 \\, y^{2} \\frac{\\partial}{\\partial y}w\\left(x, y\\right) - 2 \\, {\\left(x^{2} \\frac{\\partial}{\\partial y}w\\left(x, y\\right) - w\\left(x, y\\right)\\right)} y - x \\frac{\\partial}{\\partial y}z\\left(x, y\\right)\\right)}}{2 \\, {\\left(x^{3} + x y\\right)}} + \\frac{\\partial^{2}}{\\partial x\\partial y}z\\left(x, y\\right)</script></html>"
      ],
      "text/latex": [
       "\\begin{math}\n",
       "\\newcommand{\\Bold}[1]{\\mathbf{#1}}-\\frac{y {\\left(\\frac{x \\frac{\\partial}{\\partial y}z\\left(x, y\\right)}{x^{2} y + y^{2}} - \\frac{2 \\, w\\left(x, y\\right)}{y} + 2 \\, \\frac{\\partial}{\\partial y}w\\left(x, y\\right)\\right)}}{2 \\, x} + \\frac{y \\frac{\\partial}{\\partial y}w\\left(x, y\\right)}{x} + \\frac{2 \\, y \\frac{\\partial}{\\partial x}z\\left(x, y\\right)}{x} + \\frac{13 \\, {\\left(2 \\, x^{2} w\\left(x, y\\right) - 2 \\, y^{2} \\frac{\\partial}{\\partial y}w\\left(x, y\\right) - 2 \\, {\\left(x^{2} \\frac{\\partial}{\\partial y}w\\left(x, y\\right) - w\\left(x, y\\right)\\right)} y - x \\frac{\\partial}{\\partial y}z\\left(x, y\\right)\\right)}}{2 \\, {\\left(x^{3} + x y\\right)}} + \\frac{\\partial^{2}}{\\partial x\\partial y}z\\left(x, y\\right)\n",
       "\\end{math}"
      ],
      "text/plain": [
       "-1/2*y*(x*diff(z(x, y), y)/(x^2*y + y^2) - 2*w(x, y)/y + 2*diff(w(x, y), y))/x + y*diff(w(x, y), y)/x + 2*y*diff(z(x, y), x)/x + 13/2*(2*x^2*w(x, y) - 2*y^2*diff(w(x, y), y) - 2*(x^2*diff(w(x, y), y) - w(x, y))*y - x*diff(z(x, y), y))/(x^3 + x*y) + diff(z(x, y), x, y)"
      ]
     },
     "metadata": {},
     "output_type": "display_data"
    },
    {
     "name": "stdout",
     "output_type": "stream",
     "text": [
      "1 * diff(z(x, y), x, y)\n",
      "y/x * diff(w(x, y), y)\n",
      "2*y/x * diff(z(x, y), x)\n",
      "7*(2*x^2*w(x, y) - 2*y^2*diff(w(x, y), y) - 2*(x^2*diff(w(x, y), y) - w(x, y))*y - x*diff(z(x, y), y))/(x^3 + x*y) * 1\n",
      "Try to reduce r4 with r0\n",
      "--------------------------------------- entering reduce\n"
     ]
    },
    {
     "data": {
      "text/html": [
       "<html><script type=\"math/tex; mode=display\">\\newcommand{\\Bold}[1]{\\mathbf{#1}}-\\frac{2 \\, x \\frac{\\partial^{2}}{(\\partial x)^{2}}z\\left(x, y\\right)}{y} - \\frac{x \\frac{\\partial}{\\partial x}w\\left(x, y\\right)}{y^{2}} + \\frac{\\frac{\\partial}{\\partial x}w\\left(x, y\\right)}{y} - \\frac{x \\frac{\\partial^{2}}{\\partial x\\partial y}z\\left(x, y\\right)}{2 \\, {\\left(x^{2} + y\\right)} y} + \\frac{x^{2} \\frac{\\partial}{\\partial y}z\\left(x, y\\right)}{{\\left(x^{2} + y\\right)}^{2} y} - \\frac{\\frac{\\partial}{\\partial y}z\\left(x, y\\right)}{2 \\, {\\left(x^{2} + y\\right)} y}</script></html>"
      ],
      "text/latex": [
       "\\begin{math}\n",
       "\\newcommand{\\Bold}[1]{\\mathbf{#1}}-\\frac{2 \\, x \\frac{\\partial^{2}}{(\\partial x)^{2}}z\\left(x, y\\right)}{y} - \\frac{x \\frac{\\partial}{\\partial x}w\\left(x, y\\right)}{y^{2}} + \\frac{\\frac{\\partial}{\\partial x}w\\left(x, y\\right)}{y} - \\frac{x \\frac{\\partial^{2}}{\\partial x\\partial y}z\\left(x, y\\right)}{2 \\, {\\left(x^{2} + y\\right)} y} + \\frac{x^{2} \\frac{\\partial}{\\partial y}z\\left(x, y\\right)}{{\\left(x^{2} + y\\right)}^{2} y} - \\frac{\\frac{\\partial}{\\partial y}z\\left(x, y\\right)}{2 \\, {\\left(x^{2} + y\\right)} y}\n",
       "\\end{math}"
      ],
      "text/plain": [
       "-2*x*diff(z(x, y), x, x)/y - x*diff(w(x, y), x)/y^2 + diff(w(x, y), x)/y - 1/2*x*diff(z(x, y), x, y)/((x^2 + y)*y) + x^2*diff(z(x, y), y)/((x^2 + y)^2*y) - 1/2*diff(z(x, y), y)/((x^2 + y)*y)"
      ]
     },
     "metadata": {},
     "output_type": "display_data"
    },
    {
     "data": {
      "text/html": [
       "<html><script type=\"math/tex; mode=display\">\\newcommand{\\Bold}[1]{\\mathbf{#1}}-\\frac{w\\left(x, y\\right)}{y} + \\frac{x \\frac{\\partial}{\\partial y}z\\left(x, y\\right)}{2 \\, {\\left(x^{2} + y\\right)} y} + \\frac{\\partial}{\\partial y}w\\left(x, y\\right)</script></html>"
      ],
      "text/latex": [
       "\\begin{math}\n",
       "\\newcommand{\\Bold}[1]{\\mathbf{#1}}-\\frac{w\\left(x, y\\right)}{y} + \\frac{x \\frac{\\partial}{\\partial y}z\\left(x, y\\right)}{2 \\, {\\left(x^{2} + y\\right)} y} + \\frac{\\partial}{\\partial y}w\\left(x, y\\right)\n",
       "\\end{math}"
      ],
      "text/plain": [
       "-w(x, y)/y + 1/2*x*diff(z(x, y), y)/((x^2 + y)*y) + diff(w(x, y), y)"
      ]
     },
     "metadata": {},
     "output_type": "display_data"
    },
    {
     "name": "stdout",
     "output_type": "stream",
     "text": [
      "This is the new System........\n"
     ]
    },
    {
     "data": {
      "text/html": [
       "<html><script type=\"math/tex; mode=display\">\\newcommand{\\Bold}[1]{\\mathbf{#1}}-\\frac{w\\left(x, y\\right)}{y} + \\frac{x \\frac{\\partial}{\\partial y}z\\left(x, y\\right)}{2 \\, {\\left(x^{2} + y\\right)} y} + \\frac{\\partial}{\\partial y}w\\left(x, y\\right)</script></html>"
      ],
      "text/latex": [
       "\\begin{math}\n",
       "\\newcommand{\\Bold}[1]{\\mathbf{#1}}-\\frac{w\\left(x, y\\right)}{y} + \\frac{x \\frac{\\partial}{\\partial y}z\\left(x, y\\right)}{2 \\, {\\left(x^{2} + y\\right)} y} + \\frac{\\partial}{\\partial y}w\\left(x, y\\right)\n",
       "\\end{math}"
      ],
      "text/plain": [
       "-w(x, y)/y + 1/2*x*diff(z(x, y), y)/((x^2 + y)*y) + diff(w(x, y), y)"
      ]
     },
     "metadata": {},
     "output_type": "display_data"
    },
    {
     "data": {
      "text/html": [
       "<html><script type=\"math/tex; mode=display\">\\newcommand{\\Bold}[1]{\\mathbf{#1}}-\\frac{y {\\left(\\frac{x \\frac{\\partial}{\\partial y}z\\left(x, y\\right)}{x^{2} y + y^{2}} - \\frac{2 \\, w\\left(x, y\\right)}{y} + 2 \\, \\frac{\\partial}{\\partial y}w\\left(x, y\\right)\\right)}}{2 \\, x} + \\frac{y \\frac{\\partial}{\\partial y}w\\left(x, y\\right)}{x} + \\frac{2 \\, y \\frac{\\partial}{\\partial x}z\\left(x, y\\right)}{x} + \\frac{13 \\, {\\left(2 \\, x^{2} w\\left(x, y\\right) - 2 \\, y^{2} \\frac{\\partial}{\\partial y}w\\left(x, y\\right) - 2 \\, {\\left(x^{2} \\frac{\\partial}{\\partial y}w\\left(x, y\\right) - w\\left(x, y\\right)\\right)} y - x \\frac{\\partial}{\\partial y}z\\left(x, y\\right)\\right)}}{2 \\, {\\left(x^{3} + x y\\right)}} + \\frac{\\partial^{2}}{\\partial x\\partial y}z\\left(x, y\\right)</script></html>"
      ],
      "text/latex": [
       "\\begin{math}\n",
       "\\newcommand{\\Bold}[1]{\\mathbf{#1}}-\\frac{y {\\left(\\frac{x \\frac{\\partial}{\\partial y}z\\left(x, y\\right)}{x^{2} y + y^{2}} - \\frac{2 \\, w\\left(x, y\\right)}{y} + 2 \\, \\frac{\\partial}{\\partial y}w\\left(x, y\\right)\\right)}}{2 \\, x} + \\frac{y \\frac{\\partial}{\\partial y}w\\left(x, y\\right)}{x} + \\frac{2 \\, y \\frac{\\partial}{\\partial x}z\\left(x, y\\right)}{x} + \\frac{13 \\, {\\left(2 \\, x^{2} w\\left(x, y\\right) - 2 \\, y^{2} \\frac{\\partial}{\\partial y}w\\left(x, y\\right) - 2 \\, {\\left(x^{2} \\frac{\\partial}{\\partial y}w\\left(x, y\\right) - w\\left(x, y\\right)\\right)} y - x \\frac{\\partial}{\\partial y}z\\left(x, y\\right)\\right)}}{2 \\, {\\left(x^{3} + x y\\right)}} + \\frac{\\partial^{2}}{\\partial x\\partial y}z\\left(x, y\\right)\n",
       "\\end{math}"
      ],
      "text/plain": [
       "-1/2*y*(x*diff(z(x, y), y)/(x^2*y + y^2) - 2*w(x, y)/y + 2*diff(w(x, y), y))/x + y*diff(w(x, y), y)/x + 2*y*diff(z(x, y), x)/x + 13/2*(2*x^2*w(x, y) - 2*y^2*diff(w(x, y), y) - 2*(x^2*diff(w(x, y), y) - w(x, y))*y - x*diff(z(x, y), y))/(x^3 + x*y) + diff(z(x, y), x, y)"
      ]
     },
     "metadata": {},
     "output_type": "display_data"
    },
    {
     "data": {
      "text/html": [
       "<html><script type=\"math/tex; mode=display\">\\newcommand{\\Bold}[1]{\\mathbf{#1}}-\\frac{x \\frac{\\partial^{2}}{(\\partial y)^{2}}z\\left(x, y\\right)}{2 \\, {\\left(x^{2} + y\\right)} y} + \\frac{x \\frac{\\partial}{\\partial y}z\\left(x, y\\right)}{2 \\, {\\left(x^{2} + y\\right)} y^{2}} + \\frac{x \\frac{\\partial}{\\partial y}z\\left(x, y\\right)}{2 \\, {\\left(x^{2} + y\\right)}^{2} y} + \\frac{\\partial^{2}}{\\partial x\\partial y}z\\left(x, y\\right)</script></html>"
      ],
      "text/latex": [
       "\\begin{math}\n",
       "\\newcommand{\\Bold}[1]{\\mathbf{#1}}-\\frac{x \\frac{\\partial^{2}}{(\\partial y)^{2}}z\\left(x, y\\right)}{2 \\, {\\left(x^{2} + y\\right)} y} + \\frac{x \\frac{\\partial}{\\partial y}z\\left(x, y\\right)}{2 \\, {\\left(x^{2} + y\\right)} y^{2}} + \\frac{x \\frac{\\partial}{\\partial y}z\\left(x, y\\right)}{2 \\, {\\left(x^{2} + y\\right)}^{2} y} + \\frac{\\partial^{2}}{\\partial x\\partial y}z\\left(x, y\\right)\n",
       "\\end{math}"
      ],
      "text/plain": [
       "-1/2*x*diff(z(x, y), y, y)/((x^2 + y)*y) + 1/2*x*diff(z(x, y), y)/((x^2 + y)*y^2) + 1/2*x*diff(z(x, y), y)/((x^2 + y)^2*y) + diff(z(x, y), x, y)"
      ]
     },
     "metadata": {},
     "output_type": "display_data"
    },
    {
     "data": {
      "text/html": [
       "<html><script type=\"math/tex; mode=display\">\\newcommand{\\Bold}[1]{\\mathbf{#1}}\\frac{x \\frac{\\partial}{\\partial y}z\\left(x, y\\right)}{y} + \\frac{\\frac{\\partial}{\\partial y}w\\left(x, y\\right)}{2 \\, y} - \\frac{x \\frac{\\partial^{2}}{\\partial x\\partial y}z\\left(x, y\\right)}{2 \\, {\\left(x^{2} + y\\right)} y} + \\frac{x^{2} \\frac{\\partial}{\\partial y}z\\left(x, y\\right)}{{\\left(x^{2} + y\\right)}^{2} y} - \\frac{w\\left(x, y\\right)}{2 \\, y^{2}} - \\frac{\\frac{\\partial}{\\partial y}z\\left(x, y\\right)}{2 \\, {\\left(x^{2} + y\\right)} y} + \\frac{\\partial^{2}}{\\partial x\\partial y}z\\left(x, y\\right)</script></html>"
      ],
      "text/latex": [
       "\\begin{math}\n",
       "\\newcommand{\\Bold}[1]{\\mathbf{#1}}\\frac{x \\frac{\\partial}{\\partial y}z\\left(x, y\\right)}{y} + \\frac{\\frac{\\partial}{\\partial y}w\\left(x, y\\right)}{2 \\, y} - \\frac{x \\frac{\\partial^{2}}{\\partial x\\partial y}z\\left(x, y\\right)}{2 \\, {\\left(x^{2} + y\\right)} y} + \\frac{x^{2} \\frac{\\partial}{\\partial y}z\\left(x, y\\right)}{{\\left(x^{2} + y\\right)}^{2} y} - \\frac{w\\left(x, y\\right)}{2 \\, y^{2}} - \\frac{\\frac{\\partial}{\\partial y}z\\left(x, y\\right)}{2 \\, {\\left(x^{2} + y\\right)} y} + \\frac{\\partial^{2}}{\\partial x\\partial y}z\\left(x, y\\right)\n",
       "\\end{math}"
      ],
      "text/plain": [
       "x*diff(z(x, y), y)/y + 1/2*diff(w(x, y), y)/y - 1/2*x*diff(z(x, y), x, y)/((x^2 + y)*y) + x^2*diff(z(x, y), y)/((x^2 + y)^2*y) - 1/2*w(x, y)/y^2 - 1/2*diff(z(x, y), y)/((x^2 + y)*y) + diff(z(x, y), x, y)"
      ]
     },
     "metadata": {},
     "output_type": "display_data"
    },
    {
     "data": {
      "text/html": [
       "<html><script type=\"math/tex; mode=display\">\\newcommand{\\Bold}[1]{\\mathbf{#1}}-\\frac{2 \\, x \\frac{\\partial^{2}}{(\\partial x)^{2}}z\\left(x, y\\right)}{y} - \\frac{x \\frac{\\partial}{\\partial x}w\\left(x, y\\right)}{y^{2}} + \\frac{\\frac{\\partial}{\\partial x}w\\left(x, y\\right)}{y} - \\frac{x \\frac{\\partial^{2}}{\\partial x\\partial y}z\\left(x, y\\right)}{2 \\, {\\left(x^{2} + y\\right)} y} + \\frac{x^{2} \\frac{\\partial}{\\partial y}z\\left(x, y\\right)}{{\\left(x^{2} + y\\right)}^{2} y} - \\frac{\\frac{\\partial}{\\partial y}z\\left(x, y\\right)}{2 \\, {\\left(x^{2} + y\\right)} y}</script></html>"
      ],
      "text/latex": [
       "\\begin{math}\n",
       "\\newcommand{\\Bold}[1]{\\mathbf{#1}}-\\frac{2 \\, x \\frac{\\partial^{2}}{(\\partial x)^{2}}z\\left(x, y\\right)}{y} - \\frac{x \\frac{\\partial}{\\partial x}w\\left(x, y\\right)}{y^{2}} + \\frac{\\frac{\\partial}{\\partial x}w\\left(x, y\\right)}{y} - \\frac{x \\frac{\\partial^{2}}{\\partial x\\partial y}z\\left(x, y\\right)}{2 \\, {\\left(x^{2} + y\\right)} y} + \\frac{x^{2} \\frac{\\partial}{\\partial y}z\\left(x, y\\right)}{{\\left(x^{2} + y\\right)}^{2} y} - \\frac{\\frac{\\partial}{\\partial y}z\\left(x, y\\right)}{2 \\, {\\left(x^{2} + y\\right)} y}\n",
       "\\end{math}"
      ],
      "text/plain": [
       "-2*x*diff(z(x, y), x, x)/y - x*diff(w(x, y), x)/y^2 + diff(w(x, y), x)/y - 1/2*x*diff(z(x, y), x, y)/((x^2 + y)*y) + x^2*diff(z(x, y), y)/((x^2 + y)^2*y) - 1/2*diff(z(x, y), y)/((x^2 + y)*y)"
      ]
     },
     "metadata": {},
     "output_type": "display_data"
    },
    {
     "name": "stdout",
     "output_type": "stream",
     "text": [
      "While\n"
     ]
    },
    {
     "data": {
      "text/html": [
       "<html><script type=\"math/tex; mode=display\">\\newcommand{\\Bold}[1]{\\mathbf{#1}}-\\frac{w\\left(x, y\\right)}{y} + \\frac{x \\frac{\\partial}{\\partial y}z\\left(x, y\\right)}{2 \\, {\\left(x^{2} + y\\right)} y} + \\frac{\\partial}{\\partial y}w\\left(x, y\\right)</script></html>"
      ],
      "text/latex": [
       "\\begin{math}\n",
       "\\newcommand{\\Bold}[1]{\\mathbf{#1}}-\\frac{w\\left(x, y\\right)}{y} + \\frac{x \\frac{\\partial}{\\partial y}z\\left(x, y\\right)}{2 \\, {\\left(x^{2} + y\\right)} y} + \\frac{\\partial}{\\partial y}w\\left(x, y\\right)\n",
       "\\end{math}"
      ],
      "text/plain": [
       "-w(x, y)/y + 1/2*x*diff(z(x, y), y)/((x^2 + y)*y) + diff(w(x, y), y)"
      ]
     },
     "metadata": {},
     "output_type": "display_data"
    },
    {
     "data": {
      "text/html": [
       "<html><script type=\"math/tex; mode=display\">\\newcommand{\\Bold}[1]{\\mathbf{#1}}-\\frac{y {\\left(\\frac{x \\frac{\\partial}{\\partial y}z\\left(x, y\\right)}{x^{2} y + y^{2}} - \\frac{2 \\, w\\left(x, y\\right)}{y} + 2 \\, \\frac{\\partial}{\\partial y}w\\left(x, y\\right)\\right)}}{2 \\, x} + \\frac{y \\frac{\\partial}{\\partial y}w\\left(x, y\\right)}{x} + \\frac{2 \\, y \\frac{\\partial}{\\partial x}z\\left(x, y\\right)}{x} + \\frac{13 \\, {\\left(2 \\, x^{2} w\\left(x, y\\right) - 2 \\, y^{2} \\frac{\\partial}{\\partial y}w\\left(x, y\\right) - 2 \\, {\\left(x^{2} \\frac{\\partial}{\\partial y}w\\left(x, y\\right) - w\\left(x, y\\right)\\right)} y - x \\frac{\\partial}{\\partial y}z\\left(x, y\\right)\\right)}}{2 \\, {\\left(x^{3} + x y\\right)}} + \\frac{\\partial^{2}}{\\partial x\\partial y}z\\left(x, y\\right)</script></html>"
      ],
      "text/latex": [
       "\\begin{math}\n",
       "\\newcommand{\\Bold}[1]{\\mathbf{#1}}-\\frac{y {\\left(\\frac{x \\frac{\\partial}{\\partial y}z\\left(x, y\\right)}{x^{2} y + y^{2}} - \\frac{2 \\, w\\left(x, y\\right)}{y} + 2 \\, \\frac{\\partial}{\\partial y}w\\left(x, y\\right)\\right)}}{2 \\, x} + \\frac{y \\frac{\\partial}{\\partial y}w\\left(x, y\\right)}{x} + \\frac{2 \\, y \\frac{\\partial}{\\partial x}z\\left(x, y\\right)}{x} + \\frac{13 \\, {\\left(2 \\, x^{2} w\\left(x, y\\right) - 2 \\, y^{2} \\frac{\\partial}{\\partial y}w\\left(x, y\\right) - 2 \\, {\\left(x^{2} \\frac{\\partial}{\\partial y}w\\left(x, y\\right) - w\\left(x, y\\right)\\right)} y - x \\frac{\\partial}{\\partial y}z\\left(x, y\\right)\\right)}}{2 \\, {\\left(x^{3} + x y\\right)}} + \\frac{\\partial^{2}}{\\partial x\\partial y}z\\left(x, y\\right)\n",
       "\\end{math}"
      ],
      "text/plain": [
       "-1/2*y*(x*diff(z(x, y), y)/(x^2*y + y^2) - 2*w(x, y)/y + 2*diff(w(x, y), y))/x + y*diff(w(x, y), y)/x + 2*y*diff(z(x, y), x)/x + 13/2*(2*x^2*w(x, y) - 2*y^2*diff(w(x, y), y) - 2*(x^2*diff(w(x, y), y) - w(x, y))*y - x*diff(z(x, y), y))/(x^3 + x*y) + diff(z(x, y), x, y)"
      ]
     },
     "metadata": {},
     "output_type": "display_data"
    },
    {
     "name": "stdout",
     "output_type": "stream",
     "text": [
      "Try to reduce r1 with r0\n",
      "--------------------------------------- entering reduce\n"
     ]
    },
    {
     "data": {
      "text/html": [
       "<html><script type=\"math/tex; mode=display\">\\newcommand{\\Bold}[1]{\\mathbf{#1}}-\\frac{y {\\left(\\frac{x \\frac{\\partial}{\\partial y}z\\left(x, y\\right)}{x^{2} y + y^{2}} - \\frac{2 \\, w\\left(x, y\\right)}{y} + 2 \\, \\frac{\\partial}{\\partial y}w\\left(x, y\\right)\\right)}}{2 \\, x} + \\frac{y \\frac{\\partial}{\\partial y}w\\left(x, y\\right)}{x} + \\frac{2 \\, y \\frac{\\partial}{\\partial x}z\\left(x, y\\right)}{x} + \\frac{13 \\, {\\left(2 \\, x^{2} w\\left(x, y\\right) - 2 \\, y^{2} \\frac{\\partial}{\\partial y}w\\left(x, y\\right) - 2 \\, {\\left(x^{2} \\frac{\\partial}{\\partial y}w\\left(x, y\\right) - w\\left(x, y\\right)\\right)} y - x \\frac{\\partial}{\\partial y}z\\left(x, y\\right)\\right)}}{2 \\, {\\left(x^{3} + x y\\right)}} + \\frac{\\partial^{2}}{\\partial x\\partial y}z\\left(x, y\\right)</script></html>"
      ],
      "text/latex": [
       "\\begin{math}\n",
       "\\newcommand{\\Bold}[1]{\\mathbf{#1}}-\\frac{y {\\left(\\frac{x \\frac{\\partial}{\\partial y}z\\left(x, y\\right)}{x^{2} y + y^{2}} - \\frac{2 \\, w\\left(x, y\\right)}{y} + 2 \\, \\frac{\\partial}{\\partial y}w\\left(x, y\\right)\\right)}}{2 \\, x} + \\frac{y \\frac{\\partial}{\\partial y}w\\left(x, y\\right)}{x} + \\frac{2 \\, y \\frac{\\partial}{\\partial x}z\\left(x, y\\right)}{x} + \\frac{13 \\, {\\left(2 \\, x^{2} w\\left(x, y\\right) - 2 \\, y^{2} \\frac{\\partial}{\\partial y}w\\left(x, y\\right) - 2 \\, {\\left(x^{2} \\frac{\\partial}{\\partial y}w\\left(x, y\\right) - w\\left(x, y\\right)\\right)} y - x \\frac{\\partial}{\\partial y}z\\left(x, y\\right)\\right)}}{2 \\, {\\left(x^{3} + x y\\right)}} + \\frac{\\partial^{2}}{\\partial x\\partial y}z\\left(x, y\\right)\n",
       "\\end{math}"
      ],
      "text/plain": [
       "-1/2*y*(x*diff(z(x, y), y)/(x^2*y + y^2) - 2*w(x, y)/y + 2*diff(w(x, y), y))/x + y*diff(w(x, y), y)/x + 2*y*diff(z(x, y), x)/x + 13/2*(2*x^2*w(x, y) - 2*y^2*diff(w(x, y), y) - 2*(x^2*diff(w(x, y), y) - w(x, y))*y - x*diff(z(x, y), y))/(x^3 + x*y) + diff(z(x, y), x, y)"
      ]
     },
     "metadata": {},
     "output_type": "display_data"
    },
    {
     "data": {
      "text/html": [
       "<html><script type=\"math/tex; mode=display\">\\newcommand{\\Bold}[1]{\\mathbf{#1}}-\\frac{w\\left(x, y\\right)}{y} + \\frac{x \\frac{\\partial}{\\partial y}z\\left(x, y\\right)}{2 \\, {\\left(x^{2} + y\\right)} y} + \\frac{\\partial}{\\partial y}w\\left(x, y\\right)</script></html>"
      ],
      "text/latex": [
       "\\begin{math}\n",
       "\\newcommand{\\Bold}[1]{\\mathbf{#1}}-\\frac{w\\left(x, y\\right)}{y} + \\frac{x \\frac{\\partial}{\\partial y}z\\left(x, y\\right)}{2 \\, {\\left(x^{2} + y\\right)} y} + \\frac{\\partial}{\\partial y}w\\left(x, y\\right)\n",
       "\\end{math}"
      ],
      "text/plain": [
       "-w(x, y)/y + 1/2*x*diff(z(x, y), y)/((x^2 + y)*y) + diff(w(x, y), y)"
      ]
     },
     "metadata": {},
     "output_type": "display_data"
    },
    {
     "name": "stdout",
     "output_type": "stream",
     "text": [
      "have reduced!\n"
     ]
    },
    {
     "data": {
      "text/html": [
       "<html><script type=\"math/tex; mode=display\">\\newcommand{\\Bold}[1]{\\mathbf{#1}}-\\frac{y {\\left(\\frac{x \\frac{\\partial}{\\partial y}z\\left(x, y\\right)}{x^{2} y + y^{2}} - \\frac{2 \\, w\\left(x, y\\right)}{y} + 2 \\, \\frac{\\partial}{\\partial y}w\\left(x, y\\right)\\right)}}{2 \\, x} + \\frac{y \\frac{\\partial}{\\partial y}w\\left(x, y\\right)}{x} + \\frac{2 \\, y \\frac{\\partial}{\\partial x}z\\left(x, y\\right)}{x} + \\frac{7 \\, {\\left(2 \\, x^{2} w\\left(x, y\\right) - 2 \\, y^{2} \\frac{\\partial}{\\partial y}w\\left(x, y\\right) - 2 \\, {\\left(x^{2} \\frac{\\partial}{\\partial y}w\\left(x, y\\right) - w\\left(x, y\\right)\\right)} y - x \\frac{\\partial}{\\partial y}z\\left(x, y\\right)\\right)}}{x^{3} + x y} + \\frac{\\partial^{2}}{\\partial x\\partial y}z\\left(x, y\\right)</script></html>"
      ],
      "text/latex": [
       "\\begin{math}\n",
       "\\newcommand{\\Bold}[1]{\\mathbf{#1}}-\\frac{y {\\left(\\frac{x \\frac{\\partial}{\\partial y}z\\left(x, y\\right)}{x^{2} y + y^{2}} - \\frac{2 \\, w\\left(x, y\\right)}{y} + 2 \\, \\frac{\\partial}{\\partial y}w\\left(x, y\\right)\\right)}}{2 \\, x} + \\frac{y \\frac{\\partial}{\\partial y}w\\left(x, y\\right)}{x} + \\frac{2 \\, y \\frac{\\partial}{\\partial x}z\\left(x, y\\right)}{x} + \\frac{7 \\, {\\left(2 \\, x^{2} w\\left(x, y\\right) - 2 \\, y^{2} \\frac{\\partial}{\\partial y}w\\left(x, y\\right) - 2 \\, {\\left(x^{2} \\frac{\\partial}{\\partial y}w\\left(x, y\\right) - w\\left(x, y\\right)\\right)} y - x \\frac{\\partial}{\\partial y}z\\left(x, y\\right)\\right)}}{x^{3} + x y} + \\frac{\\partial^{2}}{\\partial x\\partial y}z\\left(x, y\\right)\n",
       "\\end{math}"
      ],
      "text/plain": [
       "-1/2*y*(x*diff(z(x, y), y)/(x^2*y + y^2) - 2*w(x, y)/y + 2*diff(w(x, y), y))/x + y*diff(w(x, y), y)/x + 2*y*diff(z(x, y), x)/x + 7*(2*x^2*w(x, y) - 2*y^2*diff(w(x, y), y) - 2*(x^2*diff(w(x, y), y) - w(x, y))*y - x*diff(z(x, y), y))/(x^3 + x*y) + diff(z(x, y), x, y)"
      ]
     },
     "metadata": {},
     "output_type": "display_data"
    },
    {
     "name": "stdout",
     "output_type": "stream",
     "text": [
      "1 * diff(z(x, y), x, y)\n",
      "y/x * diff(w(x, y), y)\n",
      "2*y/x * diff(z(x, y), x)\n",
      "15/2*(2*x^2*w(x, y) - 2*y^2*diff(w(x, y), y) - 2*(x^2*diff(w(x, y), y) - w(x, y))*y - x*diff(z(x, y), y))/(x^3 + x*y) * 1\n",
      "Try to reduce r2 with r0\n",
      "--------------------------------------- entering reduce\n"
     ]
    },
    {
     "data": {
      "text/html": [
       "<html><script type=\"math/tex; mode=display\">\\newcommand{\\Bold}[1]{\\mathbf{#1}}-\\frac{x \\frac{\\partial^{2}}{(\\partial y)^{2}}z\\left(x, y\\right)}{2 \\, {\\left(x^{2} + y\\right)} y} + \\frac{x \\frac{\\partial}{\\partial y}z\\left(x, y\\right)}{2 \\, {\\left(x^{2} + y\\right)} y^{2}} + \\frac{x \\frac{\\partial}{\\partial y}z\\left(x, y\\right)}{2 \\, {\\left(x^{2} + y\\right)}^{2} y} + \\frac{\\partial^{2}}{\\partial x\\partial y}z\\left(x, y\\right)</script></html>"
      ],
      "text/latex": [
       "\\begin{math}\n",
       "\\newcommand{\\Bold}[1]{\\mathbf{#1}}-\\frac{x \\frac{\\partial^{2}}{(\\partial y)^{2}}z\\left(x, y\\right)}{2 \\, {\\left(x^{2} + y\\right)} y} + \\frac{x \\frac{\\partial}{\\partial y}z\\left(x, y\\right)}{2 \\, {\\left(x^{2} + y\\right)} y^{2}} + \\frac{x \\frac{\\partial}{\\partial y}z\\left(x, y\\right)}{2 \\, {\\left(x^{2} + y\\right)}^{2} y} + \\frac{\\partial^{2}}{\\partial x\\partial y}z\\left(x, y\\right)\n",
       "\\end{math}"
      ],
      "text/plain": [
       "-1/2*x*diff(z(x, y), y, y)/((x^2 + y)*y) + 1/2*x*diff(z(x, y), y)/((x^2 + y)*y^2) + 1/2*x*diff(z(x, y), y)/((x^2 + y)^2*y) + diff(z(x, y), x, y)"
      ]
     },
     "metadata": {},
     "output_type": "display_data"
    },
    {
     "data": {
      "text/html": [
       "<html><script type=\"math/tex; mode=display\">\\newcommand{\\Bold}[1]{\\mathbf{#1}}-\\frac{w\\left(x, y\\right)}{y} + \\frac{x \\frac{\\partial}{\\partial y}z\\left(x, y\\right)}{2 \\, {\\left(x^{2} + y\\right)} y} + \\frac{\\partial}{\\partial y}w\\left(x, y\\right)</script></html>"
      ],
      "text/latex": [
       "\\begin{math}\n",
       "\\newcommand{\\Bold}[1]{\\mathbf{#1}}-\\frac{w\\left(x, y\\right)}{y} + \\frac{x \\frac{\\partial}{\\partial y}z\\left(x, y\\right)}{2 \\, {\\left(x^{2} + y\\right)} y} + \\frac{\\partial}{\\partial y}w\\left(x, y\\right)\n",
       "\\end{math}"
      ],
      "text/plain": [
       "-w(x, y)/y + 1/2*x*diff(z(x, y), y)/((x^2 + y)*y) + diff(w(x, y), y)"
      ]
     },
     "metadata": {},
     "output_type": "display_data"
    },
    {
     "name": "stdout",
     "output_type": "stream",
     "text": [
      "Try to reduce r3 with r0\n",
      "--------------------------------------- entering reduce\n"
     ]
    },
    {
     "data": {
      "text/html": [
       "<html><script type=\"math/tex; mode=display\">\\newcommand{\\Bold}[1]{\\mathbf{#1}}\\frac{x \\frac{\\partial}{\\partial y}z\\left(x, y\\right)}{y} + \\frac{\\frac{\\partial}{\\partial y}w\\left(x, y\\right)}{2 \\, y} - \\frac{x \\frac{\\partial^{2}}{\\partial x\\partial y}z\\left(x, y\\right)}{2 \\, {\\left(x^{2} + y\\right)} y} + \\frac{x^{2} \\frac{\\partial}{\\partial y}z\\left(x, y\\right)}{{\\left(x^{2} + y\\right)}^{2} y} - \\frac{w\\left(x, y\\right)}{2 \\, y^{2}} - \\frac{\\frac{\\partial}{\\partial y}z\\left(x, y\\right)}{2 \\, {\\left(x^{2} + y\\right)} y} + \\frac{\\partial^{2}}{\\partial x\\partial y}z\\left(x, y\\right)</script></html>"
      ],
      "text/latex": [
       "\\begin{math}\n",
       "\\newcommand{\\Bold}[1]{\\mathbf{#1}}\\frac{x \\frac{\\partial}{\\partial y}z\\left(x, y\\right)}{y} + \\frac{\\frac{\\partial}{\\partial y}w\\left(x, y\\right)}{2 \\, y} - \\frac{x \\frac{\\partial^{2}}{\\partial x\\partial y}z\\left(x, y\\right)}{2 \\, {\\left(x^{2} + y\\right)} y} + \\frac{x^{2} \\frac{\\partial}{\\partial y}z\\left(x, y\\right)}{{\\left(x^{2} + y\\right)}^{2} y} - \\frac{w\\left(x, y\\right)}{2 \\, y^{2}} - \\frac{\\frac{\\partial}{\\partial y}z\\left(x, y\\right)}{2 \\, {\\left(x^{2} + y\\right)} y} + \\frac{\\partial^{2}}{\\partial x\\partial y}z\\left(x, y\\right)\n",
       "\\end{math}"
      ],
      "text/plain": [
       "x*diff(z(x, y), y)/y + 1/2*diff(w(x, y), y)/y - 1/2*x*diff(z(x, y), x, y)/((x^2 + y)*y) + x^2*diff(z(x, y), y)/((x^2 + y)^2*y) - 1/2*w(x, y)/y^2 - 1/2*diff(z(x, y), y)/((x^2 + y)*y) + diff(z(x, y), x, y)"
      ]
     },
     "metadata": {},
     "output_type": "display_data"
    },
    {
     "data": {
      "text/html": [
       "<html><script type=\"math/tex; mode=display\">\\newcommand{\\Bold}[1]{\\mathbf{#1}}-\\frac{w\\left(x, y\\right)}{y} + \\frac{x \\frac{\\partial}{\\partial y}z\\left(x, y\\right)}{2 \\, {\\left(x^{2} + y\\right)} y} + \\frac{\\partial}{\\partial y}w\\left(x, y\\right)</script></html>"
      ],
      "text/latex": [
       "\\begin{math}\n",
       "\\newcommand{\\Bold}[1]{\\mathbf{#1}}-\\frac{w\\left(x, y\\right)}{y} + \\frac{x \\frac{\\partial}{\\partial y}z\\left(x, y\\right)}{2 \\, {\\left(x^{2} + y\\right)} y} + \\frac{\\partial}{\\partial y}w\\left(x, y\\right)\n",
       "\\end{math}"
      ],
      "text/plain": [
       "-w(x, y)/y + 1/2*x*diff(z(x, y), y)/((x^2 + y)*y) + diff(w(x, y), y)"
      ]
     },
     "metadata": {},
     "output_type": "display_data"
    },
    {
     "name": "stdout",
     "output_type": "stream",
     "text": [
      "Try to reduce r4 with r0\n",
      "--------------------------------------- entering reduce\n"
     ]
    },
    {
     "data": {
      "text/html": [
       "<html><script type=\"math/tex; mode=display\">\\newcommand{\\Bold}[1]{\\mathbf{#1}}-\\frac{2 \\, x \\frac{\\partial^{2}}{(\\partial x)^{2}}z\\left(x, y\\right)}{y} - \\frac{x \\frac{\\partial}{\\partial x}w\\left(x, y\\right)}{y^{2}} + \\frac{\\frac{\\partial}{\\partial x}w\\left(x, y\\right)}{y} - \\frac{x \\frac{\\partial^{2}}{\\partial x\\partial y}z\\left(x, y\\right)}{2 \\, {\\left(x^{2} + y\\right)} y} + \\frac{x^{2} \\frac{\\partial}{\\partial y}z\\left(x, y\\right)}{{\\left(x^{2} + y\\right)}^{2} y} - \\frac{\\frac{\\partial}{\\partial y}z\\left(x, y\\right)}{2 \\, {\\left(x^{2} + y\\right)} y}</script></html>"
      ],
      "text/latex": [
       "\\begin{math}\n",
       "\\newcommand{\\Bold}[1]{\\mathbf{#1}}-\\frac{2 \\, x \\frac{\\partial^{2}}{(\\partial x)^{2}}z\\left(x, y\\right)}{y} - \\frac{x \\frac{\\partial}{\\partial x}w\\left(x, y\\right)}{y^{2}} + \\frac{\\frac{\\partial}{\\partial x}w\\left(x, y\\right)}{y} - \\frac{x \\frac{\\partial^{2}}{\\partial x\\partial y}z\\left(x, y\\right)}{2 \\, {\\left(x^{2} + y\\right)} y} + \\frac{x^{2} \\frac{\\partial}{\\partial y}z\\left(x, y\\right)}{{\\left(x^{2} + y\\right)}^{2} y} - \\frac{\\frac{\\partial}{\\partial y}z\\left(x, y\\right)}{2 \\, {\\left(x^{2} + y\\right)} y}\n",
       "\\end{math}"
      ],
      "text/plain": [
       "-2*x*diff(z(x, y), x, x)/y - x*diff(w(x, y), x)/y^2 + diff(w(x, y), x)/y - 1/2*x*diff(z(x, y), x, y)/((x^2 + y)*y) + x^2*diff(z(x, y), y)/((x^2 + y)^2*y) - 1/2*diff(z(x, y), y)/((x^2 + y)*y)"
      ]
     },
     "metadata": {},
     "output_type": "display_data"
    },
    {
     "data": {
      "text/html": [
       "<html><script type=\"math/tex; mode=display\">\\newcommand{\\Bold}[1]{\\mathbf{#1}}-\\frac{w\\left(x, y\\right)}{y} + \\frac{x \\frac{\\partial}{\\partial y}z\\left(x, y\\right)}{2 \\, {\\left(x^{2} + y\\right)} y} + \\frac{\\partial}{\\partial y}w\\left(x, y\\right)</script></html>"
      ],
      "text/latex": [
       "\\begin{math}\n",
       "\\newcommand{\\Bold}[1]{\\mathbf{#1}}-\\frac{w\\left(x, y\\right)}{y} + \\frac{x \\frac{\\partial}{\\partial y}z\\left(x, y\\right)}{2 \\, {\\left(x^{2} + y\\right)} y} + \\frac{\\partial}{\\partial y}w\\left(x, y\\right)\n",
       "\\end{math}"
      ],
      "text/plain": [
       "-w(x, y)/y + 1/2*x*diff(z(x, y), y)/((x^2 + y)*y) + diff(w(x, y), y)"
      ]
     },
     "metadata": {},
     "output_type": "display_data"
    },
    {
     "name": "stdout",
     "output_type": "stream",
     "text": [
      "This is the new System........\n"
     ]
    },
    {
     "data": {
      "text/html": [
       "<html><script type=\"math/tex; mode=display\">\\newcommand{\\Bold}[1]{\\mathbf{#1}}-\\frac{w\\left(x, y\\right)}{y} + \\frac{x \\frac{\\partial}{\\partial y}z\\left(x, y\\right)}{2 \\, {\\left(x^{2} + y\\right)} y} + \\frac{\\partial}{\\partial y}w\\left(x, y\\right)</script></html>"
      ],
      "text/latex": [
       "\\begin{math}\n",
       "\\newcommand{\\Bold}[1]{\\mathbf{#1}}-\\frac{w\\left(x, y\\right)}{y} + \\frac{x \\frac{\\partial}{\\partial y}z\\left(x, y\\right)}{2 \\, {\\left(x^{2} + y\\right)} y} + \\frac{\\partial}{\\partial y}w\\left(x, y\\right)\n",
       "\\end{math}"
      ],
      "text/plain": [
       "-w(x, y)/y + 1/2*x*diff(z(x, y), y)/((x^2 + y)*y) + diff(w(x, y), y)"
      ]
     },
     "metadata": {},
     "output_type": "display_data"
    },
    {
     "data": {
      "text/html": [
       "<html><script type=\"math/tex; mode=display\">\\newcommand{\\Bold}[1]{\\mathbf{#1}}\\frac{x \\frac{\\partial}{\\partial y}z\\left(x, y\\right)}{y} + \\frac{\\frac{\\partial}{\\partial y}w\\left(x, y\\right)}{2 \\, y} - \\frac{x \\frac{\\partial^{2}}{\\partial x\\partial y}z\\left(x, y\\right)}{2 \\, {\\left(x^{2} + y\\right)} y} + \\frac{x^{2} \\frac{\\partial}{\\partial y}z\\left(x, y\\right)}{{\\left(x^{2} + y\\right)}^{2} y} - \\frac{w\\left(x, y\\right)}{2 \\, y^{2}} - \\frac{\\frac{\\partial}{\\partial y}z\\left(x, y\\right)}{2 \\, {\\left(x^{2} + y\\right)} y} + \\frac{\\partial^{2}}{\\partial x\\partial y}z\\left(x, y\\right)</script></html>"
      ],
      "text/latex": [
       "\\begin{math}\n",
       "\\newcommand{\\Bold}[1]{\\mathbf{#1}}\\frac{x \\frac{\\partial}{\\partial y}z\\left(x, y\\right)}{y} + \\frac{\\frac{\\partial}{\\partial y}w\\left(x, y\\right)}{2 \\, y} - \\frac{x \\frac{\\partial^{2}}{\\partial x\\partial y}z\\left(x, y\\right)}{2 \\, {\\left(x^{2} + y\\right)} y} + \\frac{x^{2} \\frac{\\partial}{\\partial y}z\\left(x, y\\right)}{{\\left(x^{2} + y\\right)}^{2} y} - \\frac{w\\left(x, y\\right)}{2 \\, y^{2}} - \\frac{\\frac{\\partial}{\\partial y}z\\left(x, y\\right)}{2 \\, {\\left(x^{2} + y\\right)} y} + \\frac{\\partial^{2}}{\\partial x\\partial y}z\\left(x, y\\right)\n",
       "\\end{math}"
      ],
      "text/plain": [
       "x*diff(z(x, y), y)/y + 1/2*diff(w(x, y), y)/y - 1/2*x*diff(z(x, y), x, y)/((x^2 + y)*y) + x^2*diff(z(x, y), y)/((x^2 + y)^2*y) - 1/2*w(x, y)/y^2 - 1/2*diff(z(x, y), y)/((x^2 + y)*y) + diff(z(x, y), x, y)"
      ]
     },
     "metadata": {},
     "output_type": "display_data"
    },
    {
     "data": {
      "text/html": [
       "<html><script type=\"math/tex; mode=display\">\\newcommand{\\Bold}[1]{\\mathbf{#1}}-\\frac{x \\frac{\\partial^{2}}{(\\partial y)^{2}}z\\left(x, y\\right)}{2 \\, {\\left(x^{2} + y\\right)} y} + \\frac{x \\frac{\\partial}{\\partial y}z\\left(x, y\\right)}{2 \\, {\\left(x^{2} + y\\right)} y^{2}} + \\frac{x \\frac{\\partial}{\\partial y}z\\left(x, y\\right)}{2 \\, {\\left(x^{2} + y\\right)}^{2} y} + \\frac{\\partial^{2}}{\\partial x\\partial y}z\\left(x, y\\right)</script></html>"
      ],
      "text/latex": [
       "\\begin{math}\n",
       "\\newcommand{\\Bold}[1]{\\mathbf{#1}}-\\frac{x \\frac{\\partial^{2}}{(\\partial y)^{2}}z\\left(x, y\\right)}{2 \\, {\\left(x^{2} + y\\right)} y} + \\frac{x \\frac{\\partial}{\\partial y}z\\left(x, y\\right)}{2 \\, {\\left(x^{2} + y\\right)} y^{2}} + \\frac{x \\frac{\\partial}{\\partial y}z\\left(x, y\\right)}{2 \\, {\\left(x^{2} + y\\right)}^{2} y} + \\frac{\\partial^{2}}{\\partial x\\partial y}z\\left(x, y\\right)\n",
       "\\end{math}"
      ],
      "text/plain": [
       "-1/2*x*diff(z(x, y), y, y)/((x^2 + y)*y) + 1/2*x*diff(z(x, y), y)/((x^2 + y)*y^2) + 1/2*x*diff(z(x, y), y)/((x^2 + y)^2*y) + diff(z(x, y), x, y)"
      ]
     },
     "metadata": {},
     "output_type": "display_data"
    },
    {
     "data": {
      "text/html": [
       "<html><script type=\"math/tex; mode=display\">\\newcommand{\\Bold}[1]{\\mathbf{#1}}-\\frac{y {\\left(\\frac{x \\frac{\\partial}{\\partial y}z\\left(x, y\\right)}{x^{2} y + y^{2}} - \\frac{2 \\, w\\left(x, y\\right)}{y} + 2 \\, \\frac{\\partial}{\\partial y}w\\left(x, y\\right)\\right)}}{2 \\, x} + \\frac{y \\frac{\\partial}{\\partial y}w\\left(x, y\\right)}{x} + \\frac{2 \\, y \\frac{\\partial}{\\partial x}z\\left(x, y\\right)}{x} + \\frac{7 \\, {\\left(2 \\, x^{2} w\\left(x, y\\right) - 2 \\, y^{2} \\frac{\\partial}{\\partial y}w\\left(x, y\\right) - 2 \\, {\\left(x^{2} \\frac{\\partial}{\\partial y}w\\left(x, y\\right) - w\\left(x, y\\right)\\right)} y - x \\frac{\\partial}{\\partial y}z\\left(x, y\\right)\\right)}}{x^{3} + x y} + \\frac{\\partial^{2}}{\\partial x\\partial y}z\\left(x, y\\right)</script></html>"
      ],
      "text/latex": [
       "\\begin{math}\n",
       "\\newcommand{\\Bold}[1]{\\mathbf{#1}}-\\frac{y {\\left(\\frac{x \\frac{\\partial}{\\partial y}z\\left(x, y\\right)}{x^{2} y + y^{2}} - \\frac{2 \\, w\\left(x, y\\right)}{y} + 2 \\, \\frac{\\partial}{\\partial y}w\\left(x, y\\right)\\right)}}{2 \\, x} + \\frac{y \\frac{\\partial}{\\partial y}w\\left(x, y\\right)}{x} + \\frac{2 \\, y \\frac{\\partial}{\\partial x}z\\left(x, y\\right)}{x} + \\frac{7 \\, {\\left(2 \\, x^{2} w\\left(x, y\\right) - 2 \\, y^{2} \\frac{\\partial}{\\partial y}w\\left(x, y\\right) - 2 \\, {\\left(x^{2} \\frac{\\partial}{\\partial y}w\\left(x, y\\right) - w\\left(x, y\\right)\\right)} y - x \\frac{\\partial}{\\partial y}z\\left(x, y\\right)\\right)}}{x^{3} + x y} + \\frac{\\partial^{2}}{\\partial x\\partial y}z\\left(x, y\\right)\n",
       "\\end{math}"
      ],
      "text/plain": [
       "-1/2*y*(x*diff(z(x, y), y)/(x^2*y + y^2) - 2*w(x, y)/y + 2*diff(w(x, y), y))/x + y*diff(w(x, y), y)/x + 2*y*diff(z(x, y), x)/x + 7*(2*x^2*w(x, y) - 2*y^2*diff(w(x, y), y) - 2*(x^2*diff(w(x, y), y) - w(x, y))*y - x*diff(z(x, y), y))/(x^3 + x*y) + diff(z(x, y), x, y)"
      ]
     },
     "metadata": {},
     "output_type": "display_data"
    },
    {
     "data": {
      "text/html": [
       "<html><script type=\"math/tex; mode=display\">\\newcommand{\\Bold}[1]{\\mathbf{#1}}-\\frac{2 \\, x \\frac{\\partial^{2}}{(\\partial x)^{2}}z\\left(x, y\\right)}{y} - \\frac{x \\frac{\\partial}{\\partial x}w\\left(x, y\\right)}{y^{2}} + \\frac{\\frac{\\partial}{\\partial x}w\\left(x, y\\right)}{y} - \\frac{x \\frac{\\partial^{2}}{\\partial x\\partial y}z\\left(x, y\\right)}{2 \\, {\\left(x^{2} + y\\right)} y} + \\frac{x^{2} \\frac{\\partial}{\\partial y}z\\left(x, y\\right)}{{\\left(x^{2} + y\\right)}^{2} y} - \\frac{\\frac{\\partial}{\\partial y}z\\left(x, y\\right)}{2 \\, {\\left(x^{2} + y\\right)} y}</script></html>"
      ],
      "text/latex": [
       "\\begin{math}\n",
       "\\newcommand{\\Bold}[1]{\\mathbf{#1}}-\\frac{2 \\, x \\frac{\\partial^{2}}{(\\partial x)^{2}}z\\left(x, y\\right)}{y} - \\frac{x \\frac{\\partial}{\\partial x}w\\left(x, y\\right)}{y^{2}} + \\frac{\\frac{\\partial}{\\partial x}w\\left(x, y\\right)}{y} - \\frac{x \\frac{\\partial^{2}}{\\partial x\\partial y}z\\left(x, y\\right)}{2 \\, {\\left(x^{2} + y\\right)} y} + \\frac{x^{2} \\frac{\\partial}{\\partial y}z\\left(x, y\\right)}{{\\left(x^{2} + y\\right)}^{2} y} - \\frac{\\frac{\\partial}{\\partial y}z\\left(x, y\\right)}{2 \\, {\\left(x^{2} + y\\right)} y}\n",
       "\\end{math}"
      ],
      "text/plain": [
       "-2*x*diff(z(x, y), x, x)/y - x*diff(w(x, y), x)/y^2 + diff(w(x, y), x)/y - 1/2*x*diff(z(x, y), x, y)/((x^2 + y)*y) + x^2*diff(z(x, y), y)/((x^2 + y)^2*y) - 1/2*diff(z(x, y), y)/((x^2 + y)*y)"
      ]
     },
     "metadata": {},
     "output_type": "display_data"
    },
    {
     "name": "stdout",
     "output_type": "stream",
     "text": [
      "While\n"
     ]
    },
    {
     "data": {
      "text/html": [
       "<html><script type=\"math/tex; mode=display\">\\newcommand{\\Bold}[1]{\\mathbf{#1}}-\\frac{w\\left(x, y\\right)}{y} + \\frac{x \\frac{\\partial}{\\partial y}z\\left(x, y\\right)}{2 \\, {\\left(x^{2} + y\\right)} y} + \\frac{\\partial}{\\partial y}w\\left(x, y\\right)</script></html>"
      ],
      "text/latex": [
       "\\begin{math}\n",
       "\\newcommand{\\Bold}[1]{\\mathbf{#1}}-\\frac{w\\left(x, y\\right)}{y} + \\frac{x \\frac{\\partial}{\\partial y}z\\left(x, y\\right)}{2 \\, {\\left(x^{2} + y\\right)} y} + \\frac{\\partial}{\\partial y}w\\left(x, y\\right)\n",
       "\\end{math}"
      ],
      "text/plain": [
       "-w(x, y)/y + 1/2*x*diff(z(x, y), y)/((x^2 + y)*y) + diff(w(x, y), y)"
      ]
     },
     "metadata": {},
     "output_type": "display_data"
    },
    {
     "data": {
      "text/html": [
       "<html><script type=\"math/tex; mode=display\">\\newcommand{\\Bold}[1]{\\mathbf{#1}}\\frac{x \\frac{\\partial}{\\partial y}z\\left(x, y\\right)}{y} + \\frac{\\frac{\\partial}{\\partial y}w\\left(x, y\\right)}{2 \\, y} - \\frac{x \\frac{\\partial^{2}}{\\partial x\\partial y}z\\left(x, y\\right)}{2 \\, {\\left(x^{2} + y\\right)} y} + \\frac{x^{2} \\frac{\\partial}{\\partial y}z\\left(x, y\\right)}{{\\left(x^{2} + y\\right)}^{2} y} - \\frac{w\\left(x, y\\right)}{2 \\, y^{2}} - \\frac{\\frac{\\partial}{\\partial y}z\\left(x, y\\right)}{2 \\, {\\left(x^{2} + y\\right)} y} + \\frac{\\partial^{2}}{\\partial x\\partial y}z\\left(x, y\\right)</script></html>"
      ],
      "text/latex": [
       "\\begin{math}\n",
       "\\newcommand{\\Bold}[1]{\\mathbf{#1}}\\frac{x \\frac{\\partial}{\\partial y}z\\left(x, y\\right)}{y} + \\frac{\\frac{\\partial}{\\partial y}w\\left(x, y\\right)}{2 \\, y} - \\frac{x \\frac{\\partial^{2}}{\\partial x\\partial y}z\\left(x, y\\right)}{2 \\, {\\left(x^{2} + y\\right)} y} + \\frac{x^{2} \\frac{\\partial}{\\partial y}z\\left(x, y\\right)}{{\\left(x^{2} + y\\right)}^{2} y} - \\frac{w\\left(x, y\\right)}{2 \\, y^{2}} - \\frac{\\frac{\\partial}{\\partial y}z\\left(x, y\\right)}{2 \\, {\\left(x^{2} + y\\right)} y} + \\frac{\\partial^{2}}{\\partial x\\partial y}z\\left(x, y\\right)\n",
       "\\end{math}"
      ],
      "text/plain": [
       "x*diff(z(x, y), y)/y + 1/2*diff(w(x, y), y)/y - 1/2*x*diff(z(x, y), x, y)/((x^2 + y)*y) + x^2*diff(z(x, y), y)/((x^2 + y)^2*y) - 1/2*w(x, y)/y^2 - 1/2*diff(z(x, y), y)/((x^2 + y)*y) + diff(z(x, y), x, y)"
      ]
     },
     "metadata": {},
     "output_type": "display_data"
    },
    {
     "name": "stdout",
     "output_type": "stream",
     "text": [
      "Try to reduce r1 with r0\n",
      "--------------------------------------- entering reduce\n"
     ]
    },
    {
     "data": {
      "text/html": [
       "<html><script type=\"math/tex; mode=display\">\\newcommand{\\Bold}[1]{\\mathbf{#1}}\\frac{x \\frac{\\partial}{\\partial y}z\\left(x, y\\right)}{y} + \\frac{\\frac{\\partial}{\\partial y}w\\left(x, y\\right)}{2 \\, y} - \\frac{x \\frac{\\partial^{2}}{\\partial x\\partial y}z\\left(x, y\\right)}{2 \\, {\\left(x^{2} + y\\right)} y} + \\frac{x^{2} \\frac{\\partial}{\\partial y}z\\left(x, y\\right)}{{\\left(x^{2} + y\\right)}^{2} y} - \\frac{w\\left(x, y\\right)}{2 \\, y^{2}} - \\frac{\\frac{\\partial}{\\partial y}z\\left(x, y\\right)}{2 \\, {\\left(x^{2} + y\\right)} y} + \\frac{\\partial^{2}}{\\partial x\\partial y}z\\left(x, y\\right)</script></html>"
      ],
      "text/latex": [
       "\\begin{math}\n",
       "\\newcommand{\\Bold}[1]{\\mathbf{#1}}\\frac{x \\frac{\\partial}{\\partial y}z\\left(x, y\\right)}{y} + \\frac{\\frac{\\partial}{\\partial y}w\\left(x, y\\right)}{2 \\, y} - \\frac{x \\frac{\\partial^{2}}{\\partial x\\partial y}z\\left(x, y\\right)}{2 \\, {\\left(x^{2} + y\\right)} y} + \\frac{x^{2} \\frac{\\partial}{\\partial y}z\\left(x, y\\right)}{{\\left(x^{2} + y\\right)}^{2} y} - \\frac{w\\left(x, y\\right)}{2 \\, y^{2}} - \\frac{\\frac{\\partial}{\\partial y}z\\left(x, y\\right)}{2 \\, {\\left(x^{2} + y\\right)} y} + \\frac{\\partial^{2}}{\\partial x\\partial y}z\\left(x, y\\right)\n",
       "\\end{math}"
      ],
      "text/plain": [
       "x*diff(z(x, y), y)/y + 1/2*diff(w(x, y), y)/y - 1/2*x*diff(z(x, y), x, y)/((x^2 + y)*y) + x^2*diff(z(x, y), y)/((x^2 + y)^2*y) - 1/2*w(x, y)/y^2 - 1/2*diff(z(x, y), y)/((x^2 + y)*y) + diff(z(x, y), x, y)"
      ]
     },
     "metadata": {},
     "output_type": "display_data"
    },
    {
     "data": {
      "text/html": [
       "<html><script type=\"math/tex; mode=display\">\\newcommand{\\Bold}[1]{\\mathbf{#1}}-\\frac{w\\left(x, y\\right)}{y} + \\frac{x \\frac{\\partial}{\\partial y}z\\left(x, y\\right)}{2 \\, {\\left(x^{2} + y\\right)} y} + \\frac{\\partial}{\\partial y}w\\left(x, y\\right)</script></html>"
      ],
      "text/latex": [
       "\\begin{math}\n",
       "\\newcommand{\\Bold}[1]{\\mathbf{#1}}-\\frac{w\\left(x, y\\right)}{y} + \\frac{x \\frac{\\partial}{\\partial y}z\\left(x, y\\right)}{2 \\, {\\left(x^{2} + y\\right)} y} + \\frac{\\partial}{\\partial y}w\\left(x, y\\right)\n",
       "\\end{math}"
      ],
      "text/plain": [
       "-w(x, y)/y + 1/2*x*diff(z(x, y), y)/((x^2 + y)*y) + diff(w(x, y), y)"
      ]
     },
     "metadata": {},
     "output_type": "display_data"
    },
    {
     "name": "stdout",
     "output_type": "stream",
     "text": [
      "Try to reduce r2 with r0\n",
      "--------------------------------------- entering reduce\n"
     ]
    },
    {
     "data": {
      "text/html": [
       "<html><script type=\"math/tex; mode=display\">\\newcommand{\\Bold}[1]{\\mathbf{#1}}-\\frac{x \\frac{\\partial^{2}}{(\\partial y)^{2}}z\\left(x, y\\right)}{2 \\, {\\left(x^{2} + y\\right)} y} + \\frac{x \\frac{\\partial}{\\partial y}z\\left(x, y\\right)}{2 \\, {\\left(x^{2} + y\\right)} y^{2}} + \\frac{x \\frac{\\partial}{\\partial y}z\\left(x, y\\right)}{2 \\, {\\left(x^{2} + y\\right)}^{2} y} + \\frac{\\partial^{2}}{\\partial x\\partial y}z\\left(x, y\\right)</script></html>"
      ],
      "text/latex": [
       "\\begin{math}\n",
       "\\newcommand{\\Bold}[1]{\\mathbf{#1}}-\\frac{x \\frac{\\partial^{2}}{(\\partial y)^{2}}z\\left(x, y\\right)}{2 \\, {\\left(x^{2} + y\\right)} y} + \\frac{x \\frac{\\partial}{\\partial y}z\\left(x, y\\right)}{2 \\, {\\left(x^{2} + y\\right)} y^{2}} + \\frac{x \\frac{\\partial}{\\partial y}z\\left(x, y\\right)}{2 \\, {\\left(x^{2} + y\\right)}^{2} y} + \\frac{\\partial^{2}}{\\partial x\\partial y}z\\left(x, y\\right)\n",
       "\\end{math}"
      ],
      "text/plain": [
       "-1/2*x*diff(z(x, y), y, y)/((x^2 + y)*y) + 1/2*x*diff(z(x, y), y)/((x^2 + y)*y^2) + 1/2*x*diff(z(x, y), y)/((x^2 + y)^2*y) + diff(z(x, y), x, y)"
      ]
     },
     "metadata": {},
     "output_type": "display_data"
    },
    {
     "data": {
      "text/html": [
       "<html><script type=\"math/tex; mode=display\">\\newcommand{\\Bold}[1]{\\mathbf{#1}}-\\frac{w\\left(x, y\\right)}{y} + \\frac{x \\frac{\\partial}{\\partial y}z\\left(x, y\\right)}{2 \\, {\\left(x^{2} + y\\right)} y} + \\frac{\\partial}{\\partial y}w\\left(x, y\\right)</script></html>"
      ],
      "text/latex": [
       "\\begin{math}\n",
       "\\newcommand{\\Bold}[1]{\\mathbf{#1}}-\\frac{w\\left(x, y\\right)}{y} + \\frac{x \\frac{\\partial}{\\partial y}z\\left(x, y\\right)}{2 \\, {\\left(x^{2} + y\\right)} y} + \\frac{\\partial}{\\partial y}w\\left(x, y\\right)\n",
       "\\end{math}"
      ],
      "text/plain": [
       "-w(x, y)/y + 1/2*x*diff(z(x, y), y)/((x^2 + y)*y) + diff(w(x, y), y)"
      ]
     },
     "metadata": {},
     "output_type": "display_data"
    },
    {
     "name": "stdout",
     "output_type": "stream",
     "text": [
      "Try to reduce r3 with r0\n",
      "--------------------------------------- entering reduce\n"
     ]
    },
    {
     "data": {
      "text/html": [
       "<html><script type=\"math/tex; mode=display\">\\newcommand{\\Bold}[1]{\\mathbf{#1}}-\\frac{y {\\left(\\frac{x \\frac{\\partial}{\\partial y}z\\left(x, y\\right)}{x^{2} y + y^{2}} - \\frac{2 \\, w\\left(x, y\\right)}{y} + 2 \\, \\frac{\\partial}{\\partial y}w\\left(x, y\\right)\\right)}}{2 \\, x} + \\frac{y \\frac{\\partial}{\\partial y}w\\left(x, y\\right)}{x} + \\frac{2 \\, y \\frac{\\partial}{\\partial x}z\\left(x, y\\right)}{x} + \\frac{7 \\, {\\left(2 \\, x^{2} w\\left(x, y\\right) - 2 \\, y^{2} \\frac{\\partial}{\\partial y}w\\left(x, y\\right) - 2 \\, {\\left(x^{2} \\frac{\\partial}{\\partial y}w\\left(x, y\\right) - w\\left(x, y\\right)\\right)} y - x \\frac{\\partial}{\\partial y}z\\left(x, y\\right)\\right)}}{x^{3} + x y} + \\frac{\\partial^{2}}{\\partial x\\partial y}z\\left(x, y\\right)</script></html>"
      ],
      "text/latex": [
       "\\begin{math}\n",
       "\\newcommand{\\Bold}[1]{\\mathbf{#1}}-\\frac{y {\\left(\\frac{x \\frac{\\partial}{\\partial y}z\\left(x, y\\right)}{x^{2} y + y^{2}} - \\frac{2 \\, w\\left(x, y\\right)}{y} + 2 \\, \\frac{\\partial}{\\partial y}w\\left(x, y\\right)\\right)}}{2 \\, x} + \\frac{y \\frac{\\partial}{\\partial y}w\\left(x, y\\right)}{x} + \\frac{2 \\, y \\frac{\\partial}{\\partial x}z\\left(x, y\\right)}{x} + \\frac{7 \\, {\\left(2 \\, x^{2} w\\left(x, y\\right) - 2 \\, y^{2} \\frac{\\partial}{\\partial y}w\\left(x, y\\right) - 2 \\, {\\left(x^{2} \\frac{\\partial}{\\partial y}w\\left(x, y\\right) - w\\left(x, y\\right)\\right)} y - x \\frac{\\partial}{\\partial y}z\\left(x, y\\right)\\right)}}{x^{3} + x y} + \\frac{\\partial^{2}}{\\partial x\\partial y}z\\left(x, y\\right)\n",
       "\\end{math}"
      ],
      "text/plain": [
       "-1/2*y*(x*diff(z(x, y), y)/(x^2*y + y^2) - 2*w(x, y)/y + 2*diff(w(x, y), y))/x + y*diff(w(x, y), y)/x + 2*y*diff(z(x, y), x)/x + 7*(2*x^2*w(x, y) - 2*y^2*diff(w(x, y), y) - 2*(x^2*diff(w(x, y), y) - w(x, y))*y - x*diff(z(x, y), y))/(x^3 + x*y) + diff(z(x, y), x, y)"
      ]
     },
     "metadata": {},
     "output_type": "display_data"
    },
    {
     "data": {
      "text/html": [
       "<html><script type=\"math/tex; mode=display\">\\newcommand{\\Bold}[1]{\\mathbf{#1}}-\\frac{w\\left(x, y\\right)}{y} + \\frac{x \\frac{\\partial}{\\partial y}z\\left(x, y\\right)}{2 \\, {\\left(x^{2} + y\\right)} y} + \\frac{\\partial}{\\partial y}w\\left(x, y\\right)</script></html>"
      ],
      "text/latex": [
       "\\begin{math}\n",
       "\\newcommand{\\Bold}[1]{\\mathbf{#1}}-\\frac{w\\left(x, y\\right)}{y} + \\frac{x \\frac{\\partial}{\\partial y}z\\left(x, y\\right)}{2 \\, {\\left(x^{2} + y\\right)} y} + \\frac{\\partial}{\\partial y}w\\left(x, y\\right)\n",
       "\\end{math}"
      ],
      "text/plain": [
       "-w(x, y)/y + 1/2*x*diff(z(x, y), y)/((x^2 + y)*y) + diff(w(x, y), y)"
      ]
     },
     "metadata": {},
     "output_type": "display_data"
    },
    {
     "name": "stdout",
     "output_type": "stream",
     "text": [
      "have reduced!\n"
     ]
    },
    {
     "data": {
      "text/html": [
       "<html><script type=\"math/tex; mode=display\">\\newcommand{\\Bold}[1]{\\mathbf{#1}}-\\frac{y {\\left(\\frac{x \\frac{\\partial}{\\partial y}z\\left(x, y\\right)}{x^{2} y + y^{2}} - \\frac{2 \\, w\\left(x, y\\right)}{y} + 2 \\, \\frac{\\partial}{\\partial y}w\\left(x, y\\right)\\right)}}{2 \\, x} + \\frac{y \\frac{\\partial}{\\partial y}w\\left(x, y\\right)}{x} + \\frac{2 \\, y \\frac{\\partial}{\\partial x}z\\left(x, y\\right)}{x} + \\frac{15 \\, {\\left(2 \\, x^{2} w\\left(x, y\\right) - 2 \\, y^{2} \\frac{\\partial}{\\partial y}w\\left(x, y\\right) - 2 \\, {\\left(x^{2} \\frac{\\partial}{\\partial y}w\\left(x, y\\right) - w\\left(x, y\\right)\\right)} y - x \\frac{\\partial}{\\partial y}z\\left(x, y\\right)\\right)}}{2 \\, {\\left(x^{3} + x y\\right)}} + \\frac{\\partial^{2}}{\\partial x\\partial y}z\\left(x, y\\right)</script></html>"
      ],
      "text/latex": [
       "\\begin{math}\n",
       "\\newcommand{\\Bold}[1]{\\mathbf{#1}}-\\frac{y {\\left(\\frac{x \\frac{\\partial}{\\partial y}z\\left(x, y\\right)}{x^{2} y + y^{2}} - \\frac{2 \\, w\\left(x, y\\right)}{y} + 2 \\, \\frac{\\partial}{\\partial y}w\\left(x, y\\right)\\right)}}{2 \\, x} + \\frac{y \\frac{\\partial}{\\partial y}w\\left(x, y\\right)}{x} + \\frac{2 \\, y \\frac{\\partial}{\\partial x}z\\left(x, y\\right)}{x} + \\frac{15 \\, {\\left(2 \\, x^{2} w\\left(x, y\\right) - 2 \\, y^{2} \\frac{\\partial}{\\partial y}w\\left(x, y\\right) - 2 \\, {\\left(x^{2} \\frac{\\partial}{\\partial y}w\\left(x, y\\right) - w\\left(x, y\\right)\\right)} y - x \\frac{\\partial}{\\partial y}z\\left(x, y\\right)\\right)}}{2 \\, {\\left(x^{3} + x y\\right)}} + \\frac{\\partial^{2}}{\\partial x\\partial y}z\\left(x, y\\right)\n",
       "\\end{math}"
      ],
      "text/plain": [
       "-1/2*y*(x*diff(z(x, y), y)/(x^2*y + y^2) - 2*w(x, y)/y + 2*diff(w(x, y), y))/x + y*diff(w(x, y), y)/x + 2*y*diff(z(x, y), x)/x + 15/2*(2*x^2*w(x, y) - 2*y^2*diff(w(x, y), y) - 2*(x^2*diff(w(x, y), y) - w(x, y))*y - x*diff(z(x, y), y))/(x^3 + x*y) + diff(z(x, y), x, y)"
      ]
     },
     "metadata": {},
     "output_type": "display_data"
    },
    {
     "name": "stdout",
     "output_type": "stream",
     "text": [
      "1 * diff(z(x, y), x, y)\n",
      "y/x * diff(w(x, y), y)\n",
      "2*y/x * diff(z(x, y), x)\n",
      "8*(2*x^2*w(x, y) - 2*y^2*diff(w(x, y), y) - 2*(x^2*diff(w(x, y), y) - w(x, y))*y - x*diff(z(x, y), y))/(x^3 + x*y) * 1\n",
      "Try to reduce r4 with r0\n",
      "--------------------------------------- entering reduce\n"
     ]
    },
    {
     "data": {
      "text/html": [
       "<html><script type=\"math/tex; mode=display\">\\newcommand{\\Bold}[1]{\\mathbf{#1}}-\\frac{2 \\, x \\frac{\\partial^{2}}{(\\partial x)^{2}}z\\left(x, y\\right)}{y} - \\frac{x \\frac{\\partial}{\\partial x}w\\left(x, y\\right)}{y^{2}} + \\frac{\\frac{\\partial}{\\partial x}w\\left(x, y\\right)}{y} - \\frac{x \\frac{\\partial^{2}}{\\partial x\\partial y}z\\left(x, y\\right)}{2 \\, {\\left(x^{2} + y\\right)} y} + \\frac{x^{2} \\frac{\\partial}{\\partial y}z\\left(x, y\\right)}{{\\left(x^{2} + y\\right)}^{2} y} - \\frac{\\frac{\\partial}{\\partial y}z\\left(x, y\\right)}{2 \\, {\\left(x^{2} + y\\right)} y}</script></html>"
      ],
      "text/latex": [
       "\\begin{math}\n",
       "\\newcommand{\\Bold}[1]{\\mathbf{#1}}-\\frac{2 \\, x \\frac{\\partial^{2}}{(\\partial x)^{2}}z\\left(x, y\\right)}{y} - \\frac{x \\frac{\\partial}{\\partial x}w\\left(x, y\\right)}{y^{2}} + \\frac{\\frac{\\partial}{\\partial x}w\\left(x, y\\right)}{y} - \\frac{x \\frac{\\partial^{2}}{\\partial x\\partial y}z\\left(x, y\\right)}{2 \\, {\\left(x^{2} + y\\right)} y} + \\frac{x^{2} \\frac{\\partial}{\\partial y}z\\left(x, y\\right)}{{\\left(x^{2} + y\\right)}^{2} y} - \\frac{\\frac{\\partial}{\\partial y}z\\left(x, y\\right)}{2 \\, {\\left(x^{2} + y\\right)} y}\n",
       "\\end{math}"
      ],
      "text/plain": [
       "-2*x*diff(z(x, y), x, x)/y - x*diff(w(x, y), x)/y^2 + diff(w(x, y), x)/y - 1/2*x*diff(z(x, y), x, y)/((x^2 + y)*y) + x^2*diff(z(x, y), y)/((x^2 + y)^2*y) - 1/2*diff(z(x, y), y)/((x^2 + y)*y)"
      ]
     },
     "metadata": {},
     "output_type": "display_data"
    },
    {
     "data": {
      "text/html": [
       "<html><script type=\"math/tex; mode=display\">\\newcommand{\\Bold}[1]{\\mathbf{#1}}-\\frac{w\\left(x, y\\right)}{y} + \\frac{x \\frac{\\partial}{\\partial y}z\\left(x, y\\right)}{2 \\, {\\left(x^{2} + y\\right)} y} + \\frac{\\partial}{\\partial y}w\\left(x, y\\right)</script></html>"
      ],
      "text/latex": [
       "\\begin{math}\n",
       "\\newcommand{\\Bold}[1]{\\mathbf{#1}}-\\frac{w\\left(x, y\\right)}{y} + \\frac{x \\frac{\\partial}{\\partial y}z\\left(x, y\\right)}{2 \\, {\\left(x^{2} + y\\right)} y} + \\frac{\\partial}{\\partial y}w\\left(x, y\\right)\n",
       "\\end{math}"
      ],
      "text/plain": [
       "-w(x, y)/y + 1/2*x*diff(z(x, y), y)/((x^2 + y)*y) + diff(w(x, y), y)"
      ]
     },
     "metadata": {},
     "output_type": "display_data"
    },
    {
     "name": "stdout",
     "output_type": "stream",
     "text": [
      "This is the new System........\n"
     ]
    },
    {
     "data": {
      "text/html": [
       "<html><script type=\"math/tex; mode=display\">\\newcommand{\\Bold}[1]{\\mathbf{#1}}-\\frac{w\\left(x, y\\right)}{y} + \\frac{x \\frac{\\partial}{\\partial y}z\\left(x, y\\right)}{2 \\, {\\left(x^{2} + y\\right)} y} + \\frac{\\partial}{\\partial y}w\\left(x, y\\right)</script></html>"
      ],
      "text/latex": [
       "\\begin{math}\n",
       "\\newcommand{\\Bold}[1]{\\mathbf{#1}}-\\frac{w\\left(x, y\\right)}{y} + \\frac{x \\frac{\\partial}{\\partial y}z\\left(x, y\\right)}{2 \\, {\\left(x^{2} + y\\right)} y} + \\frac{\\partial}{\\partial y}w\\left(x, y\\right)\n",
       "\\end{math}"
      ],
      "text/plain": [
       "-w(x, y)/y + 1/2*x*diff(z(x, y), y)/((x^2 + y)*y) + diff(w(x, y), y)"
      ]
     },
     "metadata": {},
     "output_type": "display_data"
    },
    {
     "data": {
      "text/html": [
       "<html><script type=\"math/tex; mode=display\">\\newcommand{\\Bold}[1]{\\mathbf{#1}}-\\frac{y {\\left(\\frac{x \\frac{\\partial}{\\partial y}z\\left(x, y\\right)}{x^{2} y + y^{2}} - \\frac{2 \\, w\\left(x, y\\right)}{y} + 2 \\, \\frac{\\partial}{\\partial y}w\\left(x, y\\right)\\right)}}{2 \\, x} + \\frac{y \\frac{\\partial}{\\partial y}w\\left(x, y\\right)}{x} + \\frac{2 \\, y \\frac{\\partial}{\\partial x}z\\left(x, y\\right)}{x} + \\frac{15 \\, {\\left(2 \\, x^{2} w\\left(x, y\\right) - 2 \\, y^{2} \\frac{\\partial}{\\partial y}w\\left(x, y\\right) - 2 \\, {\\left(x^{2} \\frac{\\partial}{\\partial y}w\\left(x, y\\right) - w\\left(x, y\\right)\\right)} y - x \\frac{\\partial}{\\partial y}z\\left(x, y\\right)\\right)}}{2 \\, {\\left(x^{3} + x y\\right)}} + \\frac{\\partial^{2}}{\\partial x\\partial y}z\\left(x, y\\right)</script></html>"
      ],
      "text/latex": [
       "\\begin{math}\n",
       "\\newcommand{\\Bold}[1]{\\mathbf{#1}}-\\frac{y {\\left(\\frac{x \\frac{\\partial}{\\partial y}z\\left(x, y\\right)}{x^{2} y + y^{2}} - \\frac{2 \\, w\\left(x, y\\right)}{y} + 2 \\, \\frac{\\partial}{\\partial y}w\\left(x, y\\right)\\right)}}{2 \\, x} + \\frac{y \\frac{\\partial}{\\partial y}w\\left(x, y\\right)}{x} + \\frac{2 \\, y \\frac{\\partial}{\\partial x}z\\left(x, y\\right)}{x} + \\frac{15 \\, {\\left(2 \\, x^{2} w\\left(x, y\\right) - 2 \\, y^{2} \\frac{\\partial}{\\partial y}w\\left(x, y\\right) - 2 \\, {\\left(x^{2} \\frac{\\partial}{\\partial y}w\\left(x, y\\right) - w\\left(x, y\\right)\\right)} y - x \\frac{\\partial}{\\partial y}z\\left(x, y\\right)\\right)}}{2 \\, {\\left(x^{3} + x y\\right)}} + \\frac{\\partial^{2}}{\\partial x\\partial y}z\\left(x, y\\right)\n",
       "\\end{math}"
      ],
      "text/plain": [
       "-1/2*y*(x*diff(z(x, y), y)/(x^2*y + y^2) - 2*w(x, y)/y + 2*diff(w(x, y), y))/x + y*diff(w(x, y), y)/x + 2*y*diff(z(x, y), x)/x + 15/2*(2*x^2*w(x, y) - 2*y^2*diff(w(x, y), y) - 2*(x^2*diff(w(x, y), y) - w(x, y))*y - x*diff(z(x, y), y))/(x^3 + x*y) + diff(z(x, y), x, y)"
      ]
     },
     "metadata": {},
     "output_type": "display_data"
    },
    {
     "data": {
      "text/html": [
       "<html><script type=\"math/tex; mode=display\">\\newcommand{\\Bold}[1]{\\mathbf{#1}}-\\frac{x \\frac{\\partial^{2}}{(\\partial y)^{2}}z\\left(x, y\\right)}{2 \\, {\\left(x^{2} + y\\right)} y} + \\frac{x \\frac{\\partial}{\\partial y}z\\left(x, y\\right)}{2 \\, {\\left(x^{2} + y\\right)} y^{2}} + \\frac{x \\frac{\\partial}{\\partial y}z\\left(x, y\\right)}{2 \\, {\\left(x^{2} + y\\right)}^{2} y} + \\frac{\\partial^{2}}{\\partial x\\partial y}z\\left(x, y\\right)</script></html>"
      ],
      "text/latex": [
       "\\begin{math}\n",
       "\\newcommand{\\Bold}[1]{\\mathbf{#1}}-\\frac{x \\frac{\\partial^{2}}{(\\partial y)^{2}}z\\left(x, y\\right)}{2 \\, {\\left(x^{2} + y\\right)} y} + \\frac{x \\frac{\\partial}{\\partial y}z\\left(x, y\\right)}{2 \\, {\\left(x^{2} + y\\right)} y^{2}} + \\frac{x \\frac{\\partial}{\\partial y}z\\left(x, y\\right)}{2 \\, {\\left(x^{2} + y\\right)}^{2} y} + \\frac{\\partial^{2}}{\\partial x\\partial y}z\\left(x, y\\right)\n",
       "\\end{math}"
      ],
      "text/plain": [
       "-1/2*x*diff(z(x, y), y, y)/((x^2 + y)*y) + 1/2*x*diff(z(x, y), y)/((x^2 + y)*y^2) + 1/2*x*diff(z(x, y), y)/((x^2 + y)^2*y) + diff(z(x, y), x, y)"
      ]
     },
     "metadata": {},
     "output_type": "display_data"
    },
    {
     "data": {
      "text/html": [
       "<html><script type=\"math/tex; mode=display\">\\newcommand{\\Bold}[1]{\\mathbf{#1}}\\frac{x \\frac{\\partial}{\\partial y}z\\left(x, y\\right)}{y} + \\frac{\\frac{\\partial}{\\partial y}w\\left(x, y\\right)}{2 \\, y} - \\frac{x \\frac{\\partial^{2}}{\\partial x\\partial y}z\\left(x, y\\right)}{2 \\, {\\left(x^{2} + y\\right)} y} + \\frac{x^{2} \\frac{\\partial}{\\partial y}z\\left(x, y\\right)}{{\\left(x^{2} + y\\right)}^{2} y} - \\frac{w\\left(x, y\\right)}{2 \\, y^{2}} - \\frac{\\frac{\\partial}{\\partial y}z\\left(x, y\\right)}{2 \\, {\\left(x^{2} + y\\right)} y} + \\frac{\\partial^{2}}{\\partial x\\partial y}z\\left(x, y\\right)</script></html>"
      ],
      "text/latex": [
       "\\begin{math}\n",
       "\\newcommand{\\Bold}[1]{\\mathbf{#1}}\\frac{x \\frac{\\partial}{\\partial y}z\\left(x, y\\right)}{y} + \\frac{\\frac{\\partial}{\\partial y}w\\left(x, y\\right)}{2 \\, y} - \\frac{x \\frac{\\partial^{2}}{\\partial x\\partial y}z\\left(x, y\\right)}{2 \\, {\\left(x^{2} + y\\right)} y} + \\frac{x^{2} \\frac{\\partial}{\\partial y}z\\left(x, y\\right)}{{\\left(x^{2} + y\\right)}^{2} y} - \\frac{w\\left(x, y\\right)}{2 \\, y^{2}} - \\frac{\\frac{\\partial}{\\partial y}z\\left(x, y\\right)}{2 \\, {\\left(x^{2} + y\\right)} y} + \\frac{\\partial^{2}}{\\partial x\\partial y}z\\left(x, y\\right)\n",
       "\\end{math}"
      ],
      "text/plain": [
       "x*diff(z(x, y), y)/y + 1/2*diff(w(x, y), y)/y - 1/2*x*diff(z(x, y), x, y)/((x^2 + y)*y) + x^2*diff(z(x, y), y)/((x^2 + y)^2*y) - 1/2*w(x, y)/y^2 - 1/2*diff(z(x, y), y)/((x^2 + y)*y) + diff(z(x, y), x, y)"
      ]
     },
     "metadata": {},
     "output_type": "display_data"
    },
    {
     "data": {
      "text/html": [
       "<html><script type=\"math/tex; mode=display\">\\newcommand{\\Bold}[1]{\\mathbf{#1}}-\\frac{2 \\, x \\frac{\\partial^{2}}{(\\partial x)^{2}}z\\left(x, y\\right)}{y} - \\frac{x \\frac{\\partial}{\\partial x}w\\left(x, y\\right)}{y^{2}} + \\frac{\\frac{\\partial}{\\partial x}w\\left(x, y\\right)}{y} - \\frac{x \\frac{\\partial^{2}}{\\partial x\\partial y}z\\left(x, y\\right)}{2 \\, {\\left(x^{2} + y\\right)} y} + \\frac{x^{2} \\frac{\\partial}{\\partial y}z\\left(x, y\\right)}{{\\left(x^{2} + y\\right)}^{2} y} - \\frac{\\frac{\\partial}{\\partial y}z\\left(x, y\\right)}{2 \\, {\\left(x^{2} + y\\right)} y}</script></html>"
      ],
      "text/latex": [
       "\\begin{math}\n",
       "\\newcommand{\\Bold}[1]{\\mathbf{#1}}-\\frac{2 \\, x \\frac{\\partial^{2}}{(\\partial x)^{2}}z\\left(x, y\\right)}{y} - \\frac{x \\frac{\\partial}{\\partial x}w\\left(x, y\\right)}{y^{2}} + \\frac{\\frac{\\partial}{\\partial x}w\\left(x, y\\right)}{y} - \\frac{x \\frac{\\partial^{2}}{\\partial x\\partial y}z\\left(x, y\\right)}{2 \\, {\\left(x^{2} + y\\right)} y} + \\frac{x^{2} \\frac{\\partial}{\\partial y}z\\left(x, y\\right)}{{\\left(x^{2} + y\\right)}^{2} y} - \\frac{\\frac{\\partial}{\\partial y}z\\left(x, y\\right)}{2 \\, {\\left(x^{2} + y\\right)} y}\n",
       "\\end{math}"
      ],
      "text/plain": [
       "-2*x*diff(z(x, y), x, x)/y - x*diff(w(x, y), x)/y^2 + diff(w(x, y), x)/y - 1/2*x*diff(z(x, y), x, y)/((x^2 + y)*y) + x^2*diff(z(x, y), y)/((x^2 + y)^2*y) - 1/2*diff(z(x, y), y)/((x^2 + y)*y)"
      ]
     },
     "metadata": {},
     "output_type": "display_data"
    },
    {
     "name": "stdout",
     "output_type": "stream",
     "text": [
      "While\n"
     ]
    },
    {
     "data": {
      "text/html": [
       "<html><script type=\"math/tex; mode=display\">\\newcommand{\\Bold}[1]{\\mathbf{#1}}-\\frac{w\\left(x, y\\right)}{y} + \\frac{x \\frac{\\partial}{\\partial y}z\\left(x, y\\right)}{2 \\, {\\left(x^{2} + y\\right)} y} + \\frac{\\partial}{\\partial y}w\\left(x, y\\right)</script></html>"
      ],
      "text/latex": [
       "\\begin{math}\n",
       "\\newcommand{\\Bold}[1]{\\mathbf{#1}}-\\frac{w\\left(x, y\\right)}{y} + \\frac{x \\frac{\\partial}{\\partial y}z\\left(x, y\\right)}{2 \\, {\\left(x^{2} + y\\right)} y} + \\frac{\\partial}{\\partial y}w\\left(x, y\\right)\n",
       "\\end{math}"
      ],
      "text/plain": [
       "-w(x, y)/y + 1/2*x*diff(z(x, y), y)/((x^2 + y)*y) + diff(w(x, y), y)"
      ]
     },
     "metadata": {},
     "output_type": "display_data"
    },
    {
     "data": {
      "text/html": [
       "<html><script type=\"math/tex; mode=display\">\\newcommand{\\Bold}[1]{\\mathbf{#1}}-\\frac{y {\\left(\\frac{x \\frac{\\partial}{\\partial y}z\\left(x, y\\right)}{x^{2} y + y^{2}} - \\frac{2 \\, w\\left(x, y\\right)}{y} + 2 \\, \\frac{\\partial}{\\partial y}w\\left(x, y\\right)\\right)}}{2 \\, x} + \\frac{y \\frac{\\partial}{\\partial y}w\\left(x, y\\right)}{x} + \\frac{2 \\, y \\frac{\\partial}{\\partial x}z\\left(x, y\\right)}{x} + \\frac{15 \\, {\\left(2 \\, x^{2} w\\left(x, y\\right) - 2 \\, y^{2} \\frac{\\partial}{\\partial y}w\\left(x, y\\right) - 2 \\, {\\left(x^{2} \\frac{\\partial}{\\partial y}w\\left(x, y\\right) - w\\left(x, y\\right)\\right)} y - x \\frac{\\partial}{\\partial y}z\\left(x, y\\right)\\right)}}{2 \\, {\\left(x^{3} + x y\\right)}} + \\frac{\\partial^{2}}{\\partial x\\partial y}z\\left(x, y\\right)</script></html>"
      ],
      "text/latex": [
       "\\begin{math}\n",
       "\\newcommand{\\Bold}[1]{\\mathbf{#1}}-\\frac{y {\\left(\\frac{x \\frac{\\partial}{\\partial y}z\\left(x, y\\right)}{x^{2} y + y^{2}} - \\frac{2 \\, w\\left(x, y\\right)}{y} + 2 \\, \\frac{\\partial}{\\partial y}w\\left(x, y\\right)\\right)}}{2 \\, x} + \\frac{y \\frac{\\partial}{\\partial y}w\\left(x, y\\right)}{x} + \\frac{2 \\, y \\frac{\\partial}{\\partial x}z\\left(x, y\\right)}{x} + \\frac{15 \\, {\\left(2 \\, x^{2} w\\left(x, y\\right) - 2 \\, y^{2} \\frac{\\partial}{\\partial y}w\\left(x, y\\right) - 2 \\, {\\left(x^{2} \\frac{\\partial}{\\partial y}w\\left(x, y\\right) - w\\left(x, y\\right)\\right)} y - x \\frac{\\partial}{\\partial y}z\\left(x, y\\right)\\right)}}{2 \\, {\\left(x^{3} + x y\\right)}} + \\frac{\\partial^{2}}{\\partial x\\partial y}z\\left(x, y\\right)\n",
       "\\end{math}"
      ],
      "text/plain": [
       "-1/2*y*(x*diff(z(x, y), y)/(x^2*y + y^2) - 2*w(x, y)/y + 2*diff(w(x, y), y))/x + y*diff(w(x, y), y)/x + 2*y*diff(z(x, y), x)/x + 15/2*(2*x^2*w(x, y) - 2*y^2*diff(w(x, y), y) - 2*(x^2*diff(w(x, y), y) - w(x, y))*y - x*diff(z(x, y), y))/(x^3 + x*y) + diff(z(x, y), x, y)"
      ]
     },
     "metadata": {},
     "output_type": "display_data"
    },
    {
     "name": "stdout",
     "output_type": "stream",
     "text": [
      "Try to reduce r1 with r0\n",
      "--------------------------------------- entering reduce\n"
     ]
    },
    {
     "data": {
      "text/html": [
       "<html><script type=\"math/tex; mode=display\">\\newcommand{\\Bold}[1]{\\mathbf{#1}}-\\frac{y {\\left(\\frac{x \\frac{\\partial}{\\partial y}z\\left(x, y\\right)}{x^{2} y + y^{2}} - \\frac{2 \\, w\\left(x, y\\right)}{y} + 2 \\, \\frac{\\partial}{\\partial y}w\\left(x, y\\right)\\right)}}{2 \\, x} + \\frac{y \\frac{\\partial}{\\partial y}w\\left(x, y\\right)}{x} + \\frac{2 \\, y \\frac{\\partial}{\\partial x}z\\left(x, y\\right)}{x} + \\frac{15 \\, {\\left(2 \\, x^{2} w\\left(x, y\\right) - 2 \\, y^{2} \\frac{\\partial}{\\partial y}w\\left(x, y\\right) - 2 \\, {\\left(x^{2} \\frac{\\partial}{\\partial y}w\\left(x, y\\right) - w\\left(x, y\\right)\\right)} y - x \\frac{\\partial}{\\partial y}z\\left(x, y\\right)\\right)}}{2 \\, {\\left(x^{3} + x y\\right)}} + \\frac{\\partial^{2}}{\\partial x\\partial y}z\\left(x, y\\right)</script></html>"
      ],
      "text/latex": [
       "\\begin{math}\n",
       "\\newcommand{\\Bold}[1]{\\mathbf{#1}}-\\frac{y {\\left(\\frac{x \\frac{\\partial}{\\partial y}z\\left(x, y\\right)}{x^{2} y + y^{2}} - \\frac{2 \\, w\\left(x, y\\right)}{y} + 2 \\, \\frac{\\partial}{\\partial y}w\\left(x, y\\right)\\right)}}{2 \\, x} + \\frac{y \\frac{\\partial}{\\partial y}w\\left(x, y\\right)}{x} + \\frac{2 \\, y \\frac{\\partial}{\\partial x}z\\left(x, y\\right)}{x} + \\frac{15 \\, {\\left(2 \\, x^{2} w\\left(x, y\\right) - 2 \\, y^{2} \\frac{\\partial}{\\partial y}w\\left(x, y\\right) - 2 \\, {\\left(x^{2} \\frac{\\partial}{\\partial y}w\\left(x, y\\right) - w\\left(x, y\\right)\\right)} y - x \\frac{\\partial}{\\partial y}z\\left(x, y\\right)\\right)}}{2 \\, {\\left(x^{3} + x y\\right)}} + \\frac{\\partial^{2}}{\\partial x\\partial y}z\\left(x, y\\right)\n",
       "\\end{math}"
      ],
      "text/plain": [
       "-1/2*y*(x*diff(z(x, y), y)/(x^2*y + y^2) - 2*w(x, y)/y + 2*diff(w(x, y), y))/x + y*diff(w(x, y), y)/x + 2*y*diff(z(x, y), x)/x + 15/2*(2*x^2*w(x, y) - 2*y^2*diff(w(x, y), y) - 2*(x^2*diff(w(x, y), y) - w(x, y))*y - x*diff(z(x, y), y))/(x^3 + x*y) + diff(z(x, y), x, y)"
      ]
     },
     "metadata": {},
     "output_type": "display_data"
    },
    {
     "data": {
      "text/html": [
       "<html><script type=\"math/tex; mode=display\">\\newcommand{\\Bold}[1]{\\mathbf{#1}}-\\frac{w\\left(x, y\\right)}{y} + \\frac{x \\frac{\\partial}{\\partial y}z\\left(x, y\\right)}{2 \\, {\\left(x^{2} + y\\right)} y} + \\frac{\\partial}{\\partial y}w\\left(x, y\\right)</script></html>"
      ],
      "text/latex": [
       "\\begin{math}\n",
       "\\newcommand{\\Bold}[1]{\\mathbf{#1}}-\\frac{w\\left(x, y\\right)}{y} + \\frac{x \\frac{\\partial}{\\partial y}z\\left(x, y\\right)}{2 \\, {\\left(x^{2} + y\\right)} y} + \\frac{\\partial}{\\partial y}w\\left(x, y\\right)\n",
       "\\end{math}"
      ],
      "text/plain": [
       "-w(x, y)/y + 1/2*x*diff(z(x, y), y)/((x^2 + y)*y) + diff(w(x, y), y)"
      ]
     },
     "metadata": {},
     "output_type": "display_data"
    },
    {
     "name": "stdout",
     "output_type": "stream",
     "text": [
      "have reduced!\n"
     ]
    },
    {
     "data": {
      "text/html": [
       "<html><script type=\"math/tex; mode=display\">\\newcommand{\\Bold}[1]{\\mathbf{#1}}-\\frac{y {\\left(\\frac{x \\frac{\\partial}{\\partial y}z\\left(x, y\\right)}{x^{2} y + y^{2}} - \\frac{2 \\, w\\left(x, y\\right)}{y} + 2 \\, \\frac{\\partial}{\\partial y}w\\left(x, y\\right)\\right)}}{2 \\, x} + \\frac{y \\frac{\\partial}{\\partial y}w\\left(x, y\\right)}{x} + \\frac{2 \\, y \\frac{\\partial}{\\partial x}z\\left(x, y\\right)}{x} + \\frac{8 \\, {\\left(2 \\, x^{2} w\\left(x, y\\right) - 2 \\, y^{2} \\frac{\\partial}{\\partial y}w\\left(x, y\\right) - 2 \\, {\\left(x^{2} \\frac{\\partial}{\\partial y}w\\left(x, y\\right) - w\\left(x, y\\right)\\right)} y - x \\frac{\\partial}{\\partial y}z\\left(x, y\\right)\\right)}}{x^{3} + x y} + \\frac{\\partial^{2}}{\\partial x\\partial y}z\\left(x, y\\right)</script></html>"
      ],
      "text/latex": [
       "\\begin{math}\n",
       "\\newcommand{\\Bold}[1]{\\mathbf{#1}}-\\frac{y {\\left(\\frac{x \\frac{\\partial}{\\partial y}z\\left(x, y\\right)}{x^{2} y + y^{2}} - \\frac{2 \\, w\\left(x, y\\right)}{y} + 2 \\, \\frac{\\partial}{\\partial y}w\\left(x, y\\right)\\right)}}{2 \\, x} + \\frac{y \\frac{\\partial}{\\partial y}w\\left(x, y\\right)}{x} + \\frac{2 \\, y \\frac{\\partial}{\\partial x}z\\left(x, y\\right)}{x} + \\frac{8 \\, {\\left(2 \\, x^{2} w\\left(x, y\\right) - 2 \\, y^{2} \\frac{\\partial}{\\partial y}w\\left(x, y\\right) - 2 \\, {\\left(x^{2} \\frac{\\partial}{\\partial y}w\\left(x, y\\right) - w\\left(x, y\\right)\\right)} y - x \\frac{\\partial}{\\partial y}z\\left(x, y\\right)\\right)}}{x^{3} + x y} + \\frac{\\partial^{2}}{\\partial x\\partial y}z\\left(x, y\\right)\n",
       "\\end{math}"
      ],
      "text/plain": [
       "-1/2*y*(x*diff(z(x, y), y)/(x^2*y + y^2) - 2*w(x, y)/y + 2*diff(w(x, y), y))/x + y*diff(w(x, y), y)/x + 2*y*diff(z(x, y), x)/x + 8*(2*x^2*w(x, y) - 2*y^2*diff(w(x, y), y) - 2*(x^2*diff(w(x, y), y) - w(x, y))*y - x*diff(z(x, y), y))/(x^3 + x*y) + diff(z(x, y), x, y)"
      ]
     },
     "metadata": {},
     "output_type": "display_data"
    },
    {
     "name": "stdout",
     "output_type": "stream",
     "text": [
      "1 * diff(z(x, y), x, y)\n",
      "y/x * diff(w(x, y), y)\n",
      "2*y/x * diff(z(x, y), x)\n",
      "17/2*(2*x^2*w(x, y) - 2*y^2*diff(w(x, y), y) - 2*(x^2*diff(w(x, y), y) - w(x, y))*y - x*diff(z(x, y), y))/(x^3 + x*y) * 1\n",
      "Try to reduce r2 with r0\n",
      "--------------------------------------- entering reduce\n"
     ]
    },
    {
     "data": {
      "text/html": [
       "<html><script type=\"math/tex; mode=display\">\\newcommand{\\Bold}[1]{\\mathbf{#1}}-\\frac{x \\frac{\\partial^{2}}{(\\partial y)^{2}}z\\left(x, y\\right)}{2 \\, {\\left(x^{2} + y\\right)} y} + \\frac{x \\frac{\\partial}{\\partial y}z\\left(x, y\\right)}{2 \\, {\\left(x^{2} + y\\right)} y^{2}} + \\frac{x \\frac{\\partial}{\\partial y}z\\left(x, y\\right)}{2 \\, {\\left(x^{2} + y\\right)}^{2} y} + \\frac{\\partial^{2}}{\\partial x\\partial y}z\\left(x, y\\right)</script></html>"
      ],
      "text/latex": [
       "\\begin{math}\n",
       "\\newcommand{\\Bold}[1]{\\mathbf{#1}}-\\frac{x \\frac{\\partial^{2}}{(\\partial y)^{2}}z\\left(x, y\\right)}{2 \\, {\\left(x^{2} + y\\right)} y} + \\frac{x \\frac{\\partial}{\\partial y}z\\left(x, y\\right)}{2 \\, {\\left(x^{2} + y\\right)} y^{2}} + \\frac{x \\frac{\\partial}{\\partial y}z\\left(x, y\\right)}{2 \\, {\\left(x^{2} + y\\right)}^{2} y} + \\frac{\\partial^{2}}{\\partial x\\partial y}z\\left(x, y\\right)\n",
       "\\end{math}"
      ],
      "text/plain": [
       "-1/2*x*diff(z(x, y), y, y)/((x^2 + y)*y) + 1/2*x*diff(z(x, y), y)/((x^2 + y)*y^2) + 1/2*x*diff(z(x, y), y)/((x^2 + y)^2*y) + diff(z(x, y), x, y)"
      ]
     },
     "metadata": {},
     "output_type": "display_data"
    },
    {
     "data": {
      "text/html": [
       "<html><script type=\"math/tex; mode=display\">\\newcommand{\\Bold}[1]{\\mathbf{#1}}-\\frac{w\\left(x, y\\right)}{y} + \\frac{x \\frac{\\partial}{\\partial y}z\\left(x, y\\right)}{2 \\, {\\left(x^{2} + y\\right)} y} + \\frac{\\partial}{\\partial y}w\\left(x, y\\right)</script></html>"
      ],
      "text/latex": [
       "\\begin{math}\n",
       "\\newcommand{\\Bold}[1]{\\mathbf{#1}}-\\frac{w\\left(x, y\\right)}{y} + \\frac{x \\frac{\\partial}{\\partial y}z\\left(x, y\\right)}{2 \\, {\\left(x^{2} + y\\right)} y} + \\frac{\\partial}{\\partial y}w\\left(x, y\\right)\n",
       "\\end{math}"
      ],
      "text/plain": [
       "-w(x, y)/y + 1/2*x*diff(z(x, y), y)/((x^2 + y)*y) + diff(w(x, y), y)"
      ]
     },
     "metadata": {},
     "output_type": "display_data"
    },
    {
     "name": "stdout",
     "output_type": "stream",
     "text": [
      "Try to reduce r3 with r0\n",
      "--------------------------------------- entering reduce\n"
     ]
    },
    {
     "data": {
      "text/html": [
       "<html><script type=\"math/tex; mode=display\">\\newcommand{\\Bold}[1]{\\mathbf{#1}}\\frac{x \\frac{\\partial}{\\partial y}z\\left(x, y\\right)}{y} + \\frac{\\frac{\\partial}{\\partial y}w\\left(x, y\\right)}{2 \\, y} - \\frac{x \\frac{\\partial^{2}}{\\partial x\\partial y}z\\left(x, y\\right)}{2 \\, {\\left(x^{2} + y\\right)} y} + \\frac{x^{2} \\frac{\\partial}{\\partial y}z\\left(x, y\\right)}{{\\left(x^{2} + y\\right)}^{2} y} - \\frac{w\\left(x, y\\right)}{2 \\, y^{2}} - \\frac{\\frac{\\partial}{\\partial y}z\\left(x, y\\right)}{2 \\, {\\left(x^{2} + y\\right)} y} + \\frac{\\partial^{2}}{\\partial x\\partial y}z\\left(x, y\\right)</script></html>"
      ],
      "text/latex": [
       "\\begin{math}\n",
       "\\newcommand{\\Bold}[1]{\\mathbf{#1}}\\frac{x \\frac{\\partial}{\\partial y}z\\left(x, y\\right)}{y} + \\frac{\\frac{\\partial}{\\partial y}w\\left(x, y\\right)}{2 \\, y} - \\frac{x \\frac{\\partial^{2}}{\\partial x\\partial y}z\\left(x, y\\right)}{2 \\, {\\left(x^{2} + y\\right)} y} + \\frac{x^{2} \\frac{\\partial}{\\partial y}z\\left(x, y\\right)}{{\\left(x^{2} + y\\right)}^{2} y} - \\frac{w\\left(x, y\\right)}{2 \\, y^{2}} - \\frac{\\frac{\\partial}{\\partial y}z\\left(x, y\\right)}{2 \\, {\\left(x^{2} + y\\right)} y} + \\frac{\\partial^{2}}{\\partial x\\partial y}z\\left(x, y\\right)\n",
       "\\end{math}"
      ],
      "text/plain": [
       "x*diff(z(x, y), y)/y + 1/2*diff(w(x, y), y)/y - 1/2*x*diff(z(x, y), x, y)/((x^2 + y)*y) + x^2*diff(z(x, y), y)/((x^2 + y)^2*y) - 1/2*w(x, y)/y^2 - 1/2*diff(z(x, y), y)/((x^2 + y)*y) + diff(z(x, y), x, y)"
      ]
     },
     "metadata": {},
     "output_type": "display_data"
    },
    {
     "data": {
      "text/html": [
       "<html><script type=\"math/tex; mode=display\">\\newcommand{\\Bold}[1]{\\mathbf{#1}}-\\frac{w\\left(x, y\\right)}{y} + \\frac{x \\frac{\\partial}{\\partial y}z\\left(x, y\\right)}{2 \\, {\\left(x^{2} + y\\right)} y} + \\frac{\\partial}{\\partial y}w\\left(x, y\\right)</script></html>"
      ],
      "text/latex": [
       "\\begin{math}\n",
       "\\newcommand{\\Bold}[1]{\\mathbf{#1}}-\\frac{w\\left(x, y\\right)}{y} + \\frac{x \\frac{\\partial}{\\partial y}z\\left(x, y\\right)}{2 \\, {\\left(x^{2} + y\\right)} y} + \\frac{\\partial}{\\partial y}w\\left(x, y\\right)\n",
       "\\end{math}"
      ],
      "text/plain": [
       "-w(x, y)/y + 1/2*x*diff(z(x, y), y)/((x^2 + y)*y) + diff(w(x, y), y)"
      ]
     },
     "metadata": {},
     "output_type": "display_data"
    },
    {
     "name": "stdout",
     "output_type": "stream",
     "text": [
      "Try to reduce r4 with r0\n",
      "--------------------------------------- entering reduce\n"
     ]
    },
    {
     "data": {
      "text/html": [
       "<html><script type=\"math/tex; mode=display\">\\newcommand{\\Bold}[1]{\\mathbf{#1}}-\\frac{2 \\, x \\frac{\\partial^{2}}{(\\partial x)^{2}}z\\left(x, y\\right)}{y} - \\frac{x \\frac{\\partial}{\\partial x}w\\left(x, y\\right)}{y^{2}} + \\frac{\\frac{\\partial}{\\partial x}w\\left(x, y\\right)}{y} - \\frac{x \\frac{\\partial^{2}}{\\partial x\\partial y}z\\left(x, y\\right)}{2 \\, {\\left(x^{2} + y\\right)} y} + \\frac{x^{2} \\frac{\\partial}{\\partial y}z\\left(x, y\\right)}{{\\left(x^{2} + y\\right)}^{2} y} - \\frac{\\frac{\\partial}{\\partial y}z\\left(x, y\\right)}{2 \\, {\\left(x^{2} + y\\right)} y}</script></html>"
      ],
      "text/latex": [
       "\\begin{math}\n",
       "\\newcommand{\\Bold}[1]{\\mathbf{#1}}-\\frac{2 \\, x \\frac{\\partial^{2}}{(\\partial x)^{2}}z\\left(x, y\\right)}{y} - \\frac{x \\frac{\\partial}{\\partial x}w\\left(x, y\\right)}{y^{2}} + \\frac{\\frac{\\partial}{\\partial x}w\\left(x, y\\right)}{y} - \\frac{x \\frac{\\partial^{2}}{\\partial x\\partial y}z\\left(x, y\\right)}{2 \\, {\\left(x^{2} + y\\right)} y} + \\frac{x^{2} \\frac{\\partial}{\\partial y}z\\left(x, y\\right)}{{\\left(x^{2} + y\\right)}^{2} y} - \\frac{\\frac{\\partial}{\\partial y}z\\left(x, y\\right)}{2 \\, {\\left(x^{2} + y\\right)} y}\n",
       "\\end{math}"
      ],
      "text/plain": [
       "-2*x*diff(z(x, y), x, x)/y - x*diff(w(x, y), x)/y^2 + diff(w(x, y), x)/y - 1/2*x*diff(z(x, y), x, y)/((x^2 + y)*y) + x^2*diff(z(x, y), y)/((x^2 + y)^2*y) - 1/2*diff(z(x, y), y)/((x^2 + y)*y)"
      ]
     },
     "metadata": {},
     "output_type": "display_data"
    },
    {
     "data": {
      "text/html": [
       "<html><script type=\"math/tex; mode=display\">\\newcommand{\\Bold}[1]{\\mathbf{#1}}-\\frac{w\\left(x, y\\right)}{y} + \\frac{x \\frac{\\partial}{\\partial y}z\\left(x, y\\right)}{2 \\, {\\left(x^{2} + y\\right)} y} + \\frac{\\partial}{\\partial y}w\\left(x, y\\right)</script></html>"
      ],
      "text/latex": [
       "\\begin{math}\n",
       "\\newcommand{\\Bold}[1]{\\mathbf{#1}}-\\frac{w\\left(x, y\\right)}{y} + \\frac{x \\frac{\\partial}{\\partial y}z\\left(x, y\\right)}{2 \\, {\\left(x^{2} + y\\right)} y} + \\frac{\\partial}{\\partial y}w\\left(x, y\\right)\n",
       "\\end{math}"
      ],
      "text/plain": [
       "-w(x, y)/y + 1/2*x*diff(z(x, y), y)/((x^2 + y)*y) + diff(w(x, y), y)"
      ]
     },
     "metadata": {},
     "output_type": "display_data"
    },
    {
     "name": "stdout",
     "output_type": "stream",
     "text": [
      "This is the new System........\n"
     ]
    },
    {
     "data": {
      "text/html": [
       "<html><script type=\"math/tex; mode=display\">\\newcommand{\\Bold}[1]{\\mathbf{#1}}-\\frac{w\\left(x, y\\right)}{y} + \\frac{x \\frac{\\partial}{\\partial y}z\\left(x, y\\right)}{2 \\, {\\left(x^{2} + y\\right)} y} + \\frac{\\partial}{\\partial y}w\\left(x, y\\right)</script></html>"
      ],
      "text/latex": [
       "\\begin{math}\n",
       "\\newcommand{\\Bold}[1]{\\mathbf{#1}}-\\frac{w\\left(x, y\\right)}{y} + \\frac{x \\frac{\\partial}{\\partial y}z\\left(x, y\\right)}{2 \\, {\\left(x^{2} + y\\right)} y} + \\frac{\\partial}{\\partial y}w\\left(x, y\\right)\n",
       "\\end{math}"
      ],
      "text/plain": [
       "-w(x, y)/y + 1/2*x*diff(z(x, y), y)/((x^2 + y)*y) + diff(w(x, y), y)"
      ]
     },
     "metadata": {},
     "output_type": "display_data"
    },
    {
     "data": {
      "text/html": [
       "<html><script type=\"math/tex; mode=display\">\\newcommand{\\Bold}[1]{\\mathbf{#1}}\\frac{x \\frac{\\partial}{\\partial y}z\\left(x, y\\right)}{y} + \\frac{\\frac{\\partial}{\\partial y}w\\left(x, y\\right)}{2 \\, y} - \\frac{x \\frac{\\partial^{2}}{\\partial x\\partial y}z\\left(x, y\\right)}{2 \\, {\\left(x^{2} + y\\right)} y} + \\frac{x^{2} \\frac{\\partial}{\\partial y}z\\left(x, y\\right)}{{\\left(x^{2} + y\\right)}^{2} y} - \\frac{w\\left(x, y\\right)}{2 \\, y^{2}} - \\frac{\\frac{\\partial}{\\partial y}z\\left(x, y\\right)}{2 \\, {\\left(x^{2} + y\\right)} y} + \\frac{\\partial^{2}}{\\partial x\\partial y}z\\left(x, y\\right)</script></html>"
      ],
      "text/latex": [
       "\\begin{math}\n",
       "\\newcommand{\\Bold}[1]{\\mathbf{#1}}\\frac{x \\frac{\\partial}{\\partial y}z\\left(x, y\\right)}{y} + \\frac{\\frac{\\partial}{\\partial y}w\\left(x, y\\right)}{2 \\, y} - \\frac{x \\frac{\\partial^{2}}{\\partial x\\partial y}z\\left(x, y\\right)}{2 \\, {\\left(x^{2} + y\\right)} y} + \\frac{x^{2} \\frac{\\partial}{\\partial y}z\\left(x, y\\right)}{{\\left(x^{2} + y\\right)}^{2} y} - \\frac{w\\left(x, y\\right)}{2 \\, y^{2}} - \\frac{\\frac{\\partial}{\\partial y}z\\left(x, y\\right)}{2 \\, {\\left(x^{2} + y\\right)} y} + \\frac{\\partial^{2}}{\\partial x\\partial y}z\\left(x, y\\right)\n",
       "\\end{math}"
      ],
      "text/plain": [
       "x*diff(z(x, y), y)/y + 1/2*diff(w(x, y), y)/y - 1/2*x*diff(z(x, y), x, y)/((x^2 + y)*y) + x^2*diff(z(x, y), y)/((x^2 + y)^2*y) - 1/2*w(x, y)/y^2 - 1/2*diff(z(x, y), y)/((x^2 + y)*y) + diff(z(x, y), x, y)"
      ]
     },
     "metadata": {},
     "output_type": "display_data"
    },
    {
     "data": {
      "text/html": [
       "<html><script type=\"math/tex; mode=display\">\\newcommand{\\Bold}[1]{\\mathbf{#1}}-\\frac{x \\frac{\\partial^{2}}{(\\partial y)^{2}}z\\left(x, y\\right)}{2 \\, {\\left(x^{2} + y\\right)} y} + \\frac{x \\frac{\\partial}{\\partial y}z\\left(x, y\\right)}{2 \\, {\\left(x^{2} + y\\right)} y^{2}} + \\frac{x \\frac{\\partial}{\\partial y}z\\left(x, y\\right)}{2 \\, {\\left(x^{2} + y\\right)}^{2} y} + \\frac{\\partial^{2}}{\\partial x\\partial y}z\\left(x, y\\right)</script></html>"
      ],
      "text/latex": [
       "\\begin{math}\n",
       "\\newcommand{\\Bold}[1]{\\mathbf{#1}}-\\frac{x \\frac{\\partial^{2}}{(\\partial y)^{2}}z\\left(x, y\\right)}{2 \\, {\\left(x^{2} + y\\right)} y} + \\frac{x \\frac{\\partial}{\\partial y}z\\left(x, y\\right)}{2 \\, {\\left(x^{2} + y\\right)} y^{2}} + \\frac{x \\frac{\\partial}{\\partial y}z\\left(x, y\\right)}{2 \\, {\\left(x^{2} + y\\right)}^{2} y} + \\frac{\\partial^{2}}{\\partial x\\partial y}z\\left(x, y\\right)\n",
       "\\end{math}"
      ],
      "text/plain": [
       "-1/2*x*diff(z(x, y), y, y)/((x^2 + y)*y) + 1/2*x*diff(z(x, y), y)/((x^2 + y)*y^2) + 1/2*x*diff(z(x, y), y)/((x^2 + y)^2*y) + diff(z(x, y), x, y)"
      ]
     },
     "metadata": {},
     "output_type": "display_data"
    },
    {
     "data": {
      "text/html": [
       "<html><script type=\"math/tex; mode=display\">\\newcommand{\\Bold}[1]{\\mathbf{#1}}-\\frac{y {\\left(\\frac{x \\frac{\\partial}{\\partial y}z\\left(x, y\\right)}{x^{2} y + y^{2}} - \\frac{2 \\, w\\left(x, y\\right)}{y} + 2 \\, \\frac{\\partial}{\\partial y}w\\left(x, y\\right)\\right)}}{2 \\, x} + \\frac{y \\frac{\\partial}{\\partial y}w\\left(x, y\\right)}{x} + \\frac{2 \\, y \\frac{\\partial}{\\partial x}z\\left(x, y\\right)}{x} + \\frac{8 \\, {\\left(2 \\, x^{2} w\\left(x, y\\right) - 2 \\, y^{2} \\frac{\\partial}{\\partial y}w\\left(x, y\\right) - 2 \\, {\\left(x^{2} \\frac{\\partial}{\\partial y}w\\left(x, y\\right) - w\\left(x, y\\right)\\right)} y - x \\frac{\\partial}{\\partial y}z\\left(x, y\\right)\\right)}}{x^{3} + x y} + \\frac{\\partial^{2}}{\\partial x\\partial y}z\\left(x, y\\right)</script></html>"
      ],
      "text/latex": [
       "\\begin{math}\n",
       "\\newcommand{\\Bold}[1]{\\mathbf{#1}}-\\frac{y {\\left(\\frac{x \\frac{\\partial}{\\partial y}z\\left(x, y\\right)}{x^{2} y + y^{2}} - \\frac{2 \\, w\\left(x, y\\right)}{y} + 2 \\, \\frac{\\partial}{\\partial y}w\\left(x, y\\right)\\right)}}{2 \\, x} + \\frac{y \\frac{\\partial}{\\partial y}w\\left(x, y\\right)}{x} + \\frac{2 \\, y \\frac{\\partial}{\\partial x}z\\left(x, y\\right)}{x} + \\frac{8 \\, {\\left(2 \\, x^{2} w\\left(x, y\\right) - 2 \\, y^{2} \\frac{\\partial}{\\partial y}w\\left(x, y\\right) - 2 \\, {\\left(x^{2} \\frac{\\partial}{\\partial y}w\\left(x, y\\right) - w\\left(x, y\\right)\\right)} y - x \\frac{\\partial}{\\partial y}z\\left(x, y\\right)\\right)}}{x^{3} + x y} + \\frac{\\partial^{2}}{\\partial x\\partial y}z\\left(x, y\\right)\n",
       "\\end{math}"
      ],
      "text/plain": [
       "-1/2*y*(x*diff(z(x, y), y)/(x^2*y + y^2) - 2*w(x, y)/y + 2*diff(w(x, y), y))/x + y*diff(w(x, y), y)/x + 2*y*diff(z(x, y), x)/x + 8*(2*x^2*w(x, y) - 2*y^2*diff(w(x, y), y) - 2*(x^2*diff(w(x, y), y) - w(x, y))*y - x*diff(z(x, y), y))/(x^3 + x*y) + diff(z(x, y), x, y)"
      ]
     },
     "metadata": {},
     "output_type": "display_data"
    },
    {
     "data": {
      "text/html": [
       "<html><script type=\"math/tex; mode=display\">\\newcommand{\\Bold}[1]{\\mathbf{#1}}-\\frac{2 \\, x \\frac{\\partial^{2}}{(\\partial x)^{2}}z\\left(x, y\\right)}{y} - \\frac{x \\frac{\\partial}{\\partial x}w\\left(x, y\\right)}{y^{2}} + \\frac{\\frac{\\partial}{\\partial x}w\\left(x, y\\right)}{y} - \\frac{x \\frac{\\partial^{2}}{\\partial x\\partial y}z\\left(x, y\\right)}{2 \\, {\\left(x^{2} + y\\right)} y} + \\frac{x^{2} \\frac{\\partial}{\\partial y}z\\left(x, y\\right)}{{\\left(x^{2} + y\\right)}^{2} y} - \\frac{\\frac{\\partial}{\\partial y}z\\left(x, y\\right)}{2 \\, {\\left(x^{2} + y\\right)} y}</script></html>"
      ],
      "text/latex": [
       "\\begin{math}\n",
       "\\newcommand{\\Bold}[1]{\\mathbf{#1}}-\\frac{2 \\, x \\frac{\\partial^{2}}{(\\partial x)^{2}}z\\left(x, y\\right)}{y} - \\frac{x \\frac{\\partial}{\\partial x}w\\left(x, y\\right)}{y^{2}} + \\frac{\\frac{\\partial}{\\partial x}w\\left(x, y\\right)}{y} - \\frac{x \\frac{\\partial^{2}}{\\partial x\\partial y}z\\left(x, y\\right)}{2 \\, {\\left(x^{2} + y\\right)} y} + \\frac{x^{2} \\frac{\\partial}{\\partial y}z\\left(x, y\\right)}{{\\left(x^{2} + y\\right)}^{2} y} - \\frac{\\frac{\\partial}{\\partial y}z\\left(x, y\\right)}{2 \\, {\\left(x^{2} + y\\right)} y}\n",
       "\\end{math}"
      ],
      "text/plain": [
       "-2*x*diff(z(x, y), x, x)/y - x*diff(w(x, y), x)/y^2 + diff(w(x, y), x)/y - 1/2*x*diff(z(x, y), x, y)/((x^2 + y)*y) + x^2*diff(z(x, y), y)/((x^2 + y)^2*y) - 1/2*diff(z(x, y), y)/((x^2 + y)*y)"
      ]
     },
     "metadata": {},
     "output_type": "display_data"
    },
    {
     "name": "stdout",
     "output_type": "stream",
     "text": [
      "While\n"
     ]
    },
    {
     "data": {
      "text/html": [
       "<html><script type=\"math/tex; mode=display\">\\newcommand{\\Bold}[1]{\\mathbf{#1}}-\\frac{w\\left(x, y\\right)}{y} + \\frac{x \\frac{\\partial}{\\partial y}z\\left(x, y\\right)}{2 \\, {\\left(x^{2} + y\\right)} y} + \\frac{\\partial}{\\partial y}w\\left(x, y\\right)</script></html>"
      ],
      "text/latex": [
       "\\begin{math}\n",
       "\\newcommand{\\Bold}[1]{\\mathbf{#1}}-\\frac{w\\left(x, y\\right)}{y} + \\frac{x \\frac{\\partial}{\\partial y}z\\left(x, y\\right)}{2 \\, {\\left(x^{2} + y\\right)} y} + \\frac{\\partial}{\\partial y}w\\left(x, y\\right)\n",
       "\\end{math}"
      ],
      "text/plain": [
       "-w(x, y)/y + 1/2*x*diff(z(x, y), y)/((x^2 + y)*y) + diff(w(x, y), y)"
      ]
     },
     "metadata": {},
     "output_type": "display_data"
    },
    {
     "data": {
      "text/html": [
       "<html><script type=\"math/tex; mode=display\">\\newcommand{\\Bold}[1]{\\mathbf{#1}}\\frac{x \\frac{\\partial}{\\partial y}z\\left(x, y\\right)}{y} + \\frac{\\frac{\\partial}{\\partial y}w\\left(x, y\\right)}{2 \\, y} - \\frac{x \\frac{\\partial^{2}}{\\partial x\\partial y}z\\left(x, y\\right)}{2 \\, {\\left(x^{2} + y\\right)} y} + \\frac{x^{2} \\frac{\\partial}{\\partial y}z\\left(x, y\\right)}{{\\left(x^{2} + y\\right)}^{2} y} - \\frac{w\\left(x, y\\right)}{2 \\, y^{2}} - \\frac{\\frac{\\partial}{\\partial y}z\\left(x, y\\right)}{2 \\, {\\left(x^{2} + y\\right)} y} + \\frac{\\partial^{2}}{\\partial x\\partial y}z\\left(x, y\\right)</script></html>"
      ],
      "text/latex": [
       "\\begin{math}\n",
       "\\newcommand{\\Bold}[1]{\\mathbf{#1}}\\frac{x \\frac{\\partial}{\\partial y}z\\left(x, y\\right)}{y} + \\frac{\\frac{\\partial}{\\partial y}w\\left(x, y\\right)}{2 \\, y} - \\frac{x \\frac{\\partial^{2}}{\\partial x\\partial y}z\\left(x, y\\right)}{2 \\, {\\left(x^{2} + y\\right)} y} + \\frac{x^{2} \\frac{\\partial}{\\partial y}z\\left(x, y\\right)}{{\\left(x^{2} + y\\right)}^{2} y} - \\frac{w\\left(x, y\\right)}{2 \\, y^{2}} - \\frac{\\frac{\\partial}{\\partial y}z\\left(x, y\\right)}{2 \\, {\\left(x^{2} + y\\right)} y} + \\frac{\\partial^{2}}{\\partial x\\partial y}z\\left(x, y\\right)\n",
       "\\end{math}"
      ],
      "text/plain": [
       "x*diff(z(x, y), y)/y + 1/2*diff(w(x, y), y)/y - 1/2*x*diff(z(x, y), x, y)/((x^2 + y)*y) + x^2*diff(z(x, y), y)/((x^2 + y)^2*y) - 1/2*w(x, y)/y^2 - 1/2*diff(z(x, y), y)/((x^2 + y)*y) + diff(z(x, y), x, y)"
      ]
     },
     "metadata": {},
     "output_type": "display_data"
    },
    {
     "name": "stdout",
     "output_type": "stream",
     "text": [
      "Try to reduce r1 with r0\n",
      "--------------------------------------- entering reduce\n"
     ]
    },
    {
     "data": {
      "text/html": [
       "<html><script type=\"math/tex; mode=display\">\\newcommand{\\Bold}[1]{\\mathbf{#1}}\\frac{x \\frac{\\partial}{\\partial y}z\\left(x, y\\right)}{y} + \\frac{\\frac{\\partial}{\\partial y}w\\left(x, y\\right)}{2 \\, y} - \\frac{x \\frac{\\partial^{2}}{\\partial x\\partial y}z\\left(x, y\\right)}{2 \\, {\\left(x^{2} + y\\right)} y} + \\frac{x^{2} \\frac{\\partial}{\\partial y}z\\left(x, y\\right)}{{\\left(x^{2} + y\\right)}^{2} y} - \\frac{w\\left(x, y\\right)}{2 \\, y^{2}} - \\frac{\\frac{\\partial}{\\partial y}z\\left(x, y\\right)}{2 \\, {\\left(x^{2} + y\\right)} y} + \\frac{\\partial^{2}}{\\partial x\\partial y}z\\left(x, y\\right)</script></html>"
      ],
      "text/latex": [
       "\\begin{math}\n",
       "\\newcommand{\\Bold}[1]{\\mathbf{#1}}\\frac{x \\frac{\\partial}{\\partial y}z\\left(x, y\\right)}{y} + \\frac{\\frac{\\partial}{\\partial y}w\\left(x, y\\right)}{2 \\, y} - \\frac{x \\frac{\\partial^{2}}{\\partial x\\partial y}z\\left(x, y\\right)}{2 \\, {\\left(x^{2} + y\\right)} y} + \\frac{x^{2} \\frac{\\partial}{\\partial y}z\\left(x, y\\right)}{{\\left(x^{2} + y\\right)}^{2} y} - \\frac{w\\left(x, y\\right)}{2 \\, y^{2}} - \\frac{\\frac{\\partial}{\\partial y}z\\left(x, y\\right)}{2 \\, {\\left(x^{2} + y\\right)} y} + \\frac{\\partial^{2}}{\\partial x\\partial y}z\\left(x, y\\right)\n",
       "\\end{math}"
      ],
      "text/plain": [
       "x*diff(z(x, y), y)/y + 1/2*diff(w(x, y), y)/y - 1/2*x*diff(z(x, y), x, y)/((x^2 + y)*y) + x^2*diff(z(x, y), y)/((x^2 + y)^2*y) - 1/2*w(x, y)/y^2 - 1/2*diff(z(x, y), y)/((x^2 + y)*y) + diff(z(x, y), x, y)"
      ]
     },
     "metadata": {},
     "output_type": "display_data"
    },
    {
     "data": {
      "text/html": [
       "<html><script type=\"math/tex; mode=display\">\\newcommand{\\Bold}[1]{\\mathbf{#1}}-\\frac{w\\left(x, y\\right)}{y} + \\frac{x \\frac{\\partial}{\\partial y}z\\left(x, y\\right)}{2 \\, {\\left(x^{2} + y\\right)} y} + \\frac{\\partial}{\\partial y}w\\left(x, y\\right)</script></html>"
      ],
      "text/latex": [
       "\\begin{math}\n",
       "\\newcommand{\\Bold}[1]{\\mathbf{#1}}-\\frac{w\\left(x, y\\right)}{y} + \\frac{x \\frac{\\partial}{\\partial y}z\\left(x, y\\right)}{2 \\, {\\left(x^{2} + y\\right)} y} + \\frac{\\partial}{\\partial y}w\\left(x, y\\right)\n",
       "\\end{math}"
      ],
      "text/plain": [
       "-w(x, y)/y + 1/2*x*diff(z(x, y), y)/((x^2 + y)*y) + diff(w(x, y), y)"
      ]
     },
     "metadata": {},
     "output_type": "display_data"
    },
    {
     "name": "stdout",
     "output_type": "stream",
     "text": [
      "Try to reduce r2 with r0\n",
      "--------------------------------------- entering reduce\n"
     ]
    },
    {
     "data": {
      "text/html": [
       "<html><script type=\"math/tex; mode=display\">\\newcommand{\\Bold}[1]{\\mathbf{#1}}-\\frac{x \\frac{\\partial^{2}}{(\\partial y)^{2}}z\\left(x, y\\right)}{2 \\, {\\left(x^{2} + y\\right)} y} + \\frac{x \\frac{\\partial}{\\partial y}z\\left(x, y\\right)}{2 \\, {\\left(x^{2} + y\\right)} y^{2}} + \\frac{x \\frac{\\partial}{\\partial y}z\\left(x, y\\right)}{2 \\, {\\left(x^{2} + y\\right)}^{2} y} + \\frac{\\partial^{2}}{\\partial x\\partial y}z\\left(x, y\\right)</script></html>"
      ],
      "text/latex": [
       "\\begin{math}\n",
       "\\newcommand{\\Bold}[1]{\\mathbf{#1}}-\\frac{x \\frac{\\partial^{2}}{(\\partial y)^{2}}z\\left(x, y\\right)}{2 \\, {\\left(x^{2} + y\\right)} y} + \\frac{x \\frac{\\partial}{\\partial y}z\\left(x, y\\right)}{2 \\, {\\left(x^{2} + y\\right)} y^{2}} + \\frac{x \\frac{\\partial}{\\partial y}z\\left(x, y\\right)}{2 \\, {\\left(x^{2} + y\\right)}^{2} y} + \\frac{\\partial^{2}}{\\partial x\\partial y}z\\left(x, y\\right)\n",
       "\\end{math}"
      ],
      "text/plain": [
       "-1/2*x*diff(z(x, y), y, y)/((x^2 + y)*y) + 1/2*x*diff(z(x, y), y)/((x^2 + y)*y^2) + 1/2*x*diff(z(x, y), y)/((x^2 + y)^2*y) + diff(z(x, y), x, y)"
      ]
     },
     "metadata": {},
     "output_type": "display_data"
    },
    {
     "data": {
      "text/html": [
       "<html><script type=\"math/tex; mode=display\">\\newcommand{\\Bold}[1]{\\mathbf{#1}}-\\frac{w\\left(x, y\\right)}{y} + \\frac{x \\frac{\\partial}{\\partial y}z\\left(x, y\\right)}{2 \\, {\\left(x^{2} + y\\right)} y} + \\frac{\\partial}{\\partial y}w\\left(x, y\\right)</script></html>"
      ],
      "text/latex": [
       "\\begin{math}\n",
       "\\newcommand{\\Bold}[1]{\\mathbf{#1}}-\\frac{w\\left(x, y\\right)}{y} + \\frac{x \\frac{\\partial}{\\partial y}z\\left(x, y\\right)}{2 \\, {\\left(x^{2} + y\\right)} y} + \\frac{\\partial}{\\partial y}w\\left(x, y\\right)\n",
       "\\end{math}"
      ],
      "text/plain": [
       "-w(x, y)/y + 1/2*x*diff(z(x, y), y)/((x^2 + y)*y) + diff(w(x, y), y)"
      ]
     },
     "metadata": {},
     "output_type": "display_data"
    },
    {
     "name": "stdout",
     "output_type": "stream",
     "text": [
      "Try to reduce r3 with r0\n",
      "--------------------------------------- entering reduce\n"
     ]
    },
    {
     "data": {
      "text/html": [
       "<html><script type=\"math/tex; mode=display\">\\newcommand{\\Bold}[1]{\\mathbf{#1}}-\\frac{y {\\left(\\frac{x \\frac{\\partial}{\\partial y}z\\left(x, y\\right)}{x^{2} y + y^{2}} - \\frac{2 \\, w\\left(x, y\\right)}{y} + 2 \\, \\frac{\\partial}{\\partial y}w\\left(x, y\\right)\\right)}}{2 \\, x} + \\frac{y \\frac{\\partial}{\\partial y}w\\left(x, y\\right)}{x} + \\frac{2 \\, y \\frac{\\partial}{\\partial x}z\\left(x, y\\right)}{x} + \\frac{8 \\, {\\left(2 \\, x^{2} w\\left(x, y\\right) - 2 \\, y^{2} \\frac{\\partial}{\\partial y}w\\left(x, y\\right) - 2 \\, {\\left(x^{2} \\frac{\\partial}{\\partial y}w\\left(x, y\\right) - w\\left(x, y\\right)\\right)} y - x \\frac{\\partial}{\\partial y}z\\left(x, y\\right)\\right)}}{x^{3} + x y} + \\frac{\\partial^{2}}{\\partial x\\partial y}z\\left(x, y\\right)</script></html>"
      ],
      "text/latex": [
       "\\begin{math}\n",
       "\\newcommand{\\Bold}[1]{\\mathbf{#1}}-\\frac{y {\\left(\\frac{x \\frac{\\partial}{\\partial y}z\\left(x, y\\right)}{x^{2} y + y^{2}} - \\frac{2 \\, w\\left(x, y\\right)}{y} + 2 \\, \\frac{\\partial}{\\partial y}w\\left(x, y\\right)\\right)}}{2 \\, x} + \\frac{y \\frac{\\partial}{\\partial y}w\\left(x, y\\right)}{x} + \\frac{2 \\, y \\frac{\\partial}{\\partial x}z\\left(x, y\\right)}{x} + \\frac{8 \\, {\\left(2 \\, x^{2} w\\left(x, y\\right) - 2 \\, y^{2} \\frac{\\partial}{\\partial y}w\\left(x, y\\right) - 2 \\, {\\left(x^{2} \\frac{\\partial}{\\partial y}w\\left(x, y\\right) - w\\left(x, y\\right)\\right)} y - x \\frac{\\partial}{\\partial y}z\\left(x, y\\right)\\right)}}{x^{3} + x y} + \\frac{\\partial^{2}}{\\partial x\\partial y}z\\left(x, y\\right)\n",
       "\\end{math}"
      ],
      "text/plain": [
       "-1/2*y*(x*diff(z(x, y), y)/(x^2*y + y^2) - 2*w(x, y)/y + 2*diff(w(x, y), y))/x + y*diff(w(x, y), y)/x + 2*y*diff(z(x, y), x)/x + 8*(2*x^2*w(x, y) - 2*y^2*diff(w(x, y), y) - 2*(x^2*diff(w(x, y), y) - w(x, y))*y - x*diff(z(x, y), y))/(x^3 + x*y) + diff(z(x, y), x, y)"
      ]
     },
     "metadata": {},
     "output_type": "display_data"
    },
    {
     "data": {
      "text/html": [
       "<html><script type=\"math/tex; mode=display\">\\newcommand{\\Bold}[1]{\\mathbf{#1}}-\\frac{w\\left(x, y\\right)}{y} + \\frac{x \\frac{\\partial}{\\partial y}z\\left(x, y\\right)}{2 \\, {\\left(x^{2} + y\\right)} y} + \\frac{\\partial}{\\partial y}w\\left(x, y\\right)</script></html>"
      ],
      "text/latex": [
       "\\begin{math}\n",
       "\\newcommand{\\Bold}[1]{\\mathbf{#1}}-\\frac{w\\left(x, y\\right)}{y} + \\frac{x \\frac{\\partial}{\\partial y}z\\left(x, y\\right)}{2 \\, {\\left(x^{2} + y\\right)} y} + \\frac{\\partial}{\\partial y}w\\left(x, y\\right)\n",
       "\\end{math}"
      ],
      "text/plain": [
       "-w(x, y)/y + 1/2*x*diff(z(x, y), y)/((x^2 + y)*y) + diff(w(x, y), y)"
      ]
     },
     "metadata": {},
     "output_type": "display_data"
    },
    {
     "name": "stdout",
     "output_type": "stream",
     "text": [
      "have reduced!\n"
     ]
    },
    {
     "data": {
      "text/html": [
       "<html><script type=\"math/tex; mode=display\">\\newcommand{\\Bold}[1]{\\mathbf{#1}}-\\frac{y {\\left(\\frac{x \\frac{\\partial}{\\partial y}z\\left(x, y\\right)}{x^{2} y + y^{2}} - \\frac{2 \\, w\\left(x, y\\right)}{y} + 2 \\, \\frac{\\partial}{\\partial y}w\\left(x, y\\right)\\right)}}{2 \\, x} + \\frac{y \\frac{\\partial}{\\partial y}w\\left(x, y\\right)}{x} + \\frac{2 \\, y \\frac{\\partial}{\\partial x}z\\left(x, y\\right)}{x} + \\frac{17 \\, {\\left(2 \\, x^{2} w\\left(x, y\\right) - 2 \\, y^{2} \\frac{\\partial}{\\partial y}w\\left(x, y\\right) - 2 \\, {\\left(x^{2} \\frac{\\partial}{\\partial y}w\\left(x, y\\right) - w\\left(x, y\\right)\\right)} y - x \\frac{\\partial}{\\partial y}z\\left(x, y\\right)\\right)}}{2 \\, {\\left(x^{3} + x y\\right)}} + \\frac{\\partial^{2}}{\\partial x\\partial y}z\\left(x, y\\right)</script></html>"
      ],
      "text/latex": [
       "\\begin{math}\n",
       "\\newcommand{\\Bold}[1]{\\mathbf{#1}}-\\frac{y {\\left(\\frac{x \\frac{\\partial}{\\partial y}z\\left(x, y\\right)}{x^{2} y + y^{2}} - \\frac{2 \\, w\\left(x, y\\right)}{y} + 2 \\, \\frac{\\partial}{\\partial y}w\\left(x, y\\right)\\right)}}{2 \\, x} + \\frac{y \\frac{\\partial}{\\partial y}w\\left(x, y\\right)}{x} + \\frac{2 \\, y \\frac{\\partial}{\\partial x}z\\left(x, y\\right)}{x} + \\frac{17 \\, {\\left(2 \\, x^{2} w\\left(x, y\\right) - 2 \\, y^{2} \\frac{\\partial}{\\partial y}w\\left(x, y\\right) - 2 \\, {\\left(x^{2} \\frac{\\partial}{\\partial y}w\\left(x, y\\right) - w\\left(x, y\\right)\\right)} y - x \\frac{\\partial}{\\partial y}z\\left(x, y\\right)\\right)}}{2 \\, {\\left(x^{3} + x y\\right)}} + \\frac{\\partial^{2}}{\\partial x\\partial y}z\\left(x, y\\right)\n",
       "\\end{math}"
      ],
      "text/plain": [
       "-1/2*y*(x*diff(z(x, y), y)/(x^2*y + y^2) - 2*w(x, y)/y + 2*diff(w(x, y), y))/x + y*diff(w(x, y), y)/x + 2*y*diff(z(x, y), x)/x + 17/2*(2*x^2*w(x, y) - 2*y^2*diff(w(x, y), y) - 2*(x^2*diff(w(x, y), y) - w(x, y))*y - x*diff(z(x, y), y))/(x^3 + x*y) + diff(z(x, y), x, y)"
      ]
     },
     "metadata": {},
     "output_type": "display_data"
    },
    {
     "name": "stdout",
     "output_type": "stream",
     "text": [
      "1 * diff(z(x, y), x, y)\n",
      "y/x * diff(w(x, y), y)\n",
      "2*y/x * diff(z(x, y), x)\n",
      "9*(2*x^2*w(x, y) - 2*y^2*diff(w(x, y), y) - 2*(x^2*diff(w(x, y), y) - w(x, y))*y - x*diff(z(x, y), y))/(x^3 + x*y) * 1\n",
      "Try to reduce r4 with r0\n",
      "--------------------------------------- entering reduce\n"
     ]
    },
    {
     "data": {
      "text/html": [
       "<html><script type=\"math/tex; mode=display\">\\newcommand{\\Bold}[1]{\\mathbf{#1}}-\\frac{2 \\, x \\frac{\\partial^{2}}{(\\partial x)^{2}}z\\left(x, y\\right)}{y} - \\frac{x \\frac{\\partial}{\\partial x}w\\left(x, y\\right)}{y^{2}} + \\frac{\\frac{\\partial}{\\partial x}w\\left(x, y\\right)}{y} - \\frac{x \\frac{\\partial^{2}}{\\partial x\\partial y}z\\left(x, y\\right)}{2 \\, {\\left(x^{2} + y\\right)} y} + \\frac{x^{2} \\frac{\\partial}{\\partial y}z\\left(x, y\\right)}{{\\left(x^{2} + y\\right)}^{2} y} - \\frac{\\frac{\\partial}{\\partial y}z\\left(x, y\\right)}{2 \\, {\\left(x^{2} + y\\right)} y}</script></html>"
      ],
      "text/latex": [
       "\\begin{math}\n",
       "\\newcommand{\\Bold}[1]{\\mathbf{#1}}-\\frac{2 \\, x \\frac{\\partial^{2}}{(\\partial x)^{2}}z\\left(x, y\\right)}{y} - \\frac{x \\frac{\\partial}{\\partial x}w\\left(x, y\\right)}{y^{2}} + \\frac{\\frac{\\partial}{\\partial x}w\\left(x, y\\right)}{y} - \\frac{x \\frac{\\partial^{2}}{\\partial x\\partial y}z\\left(x, y\\right)}{2 \\, {\\left(x^{2} + y\\right)} y} + \\frac{x^{2} \\frac{\\partial}{\\partial y}z\\left(x, y\\right)}{{\\left(x^{2} + y\\right)}^{2} y} - \\frac{\\frac{\\partial}{\\partial y}z\\left(x, y\\right)}{2 \\, {\\left(x^{2} + y\\right)} y}\n",
       "\\end{math}"
      ],
      "text/plain": [
       "-2*x*diff(z(x, y), x, x)/y - x*diff(w(x, y), x)/y^2 + diff(w(x, y), x)/y - 1/2*x*diff(z(x, y), x, y)/((x^2 + y)*y) + x^2*diff(z(x, y), y)/((x^2 + y)^2*y) - 1/2*diff(z(x, y), y)/((x^2 + y)*y)"
      ]
     },
     "metadata": {},
     "output_type": "display_data"
    },
    {
     "data": {
      "text/html": [
       "<html><script type=\"math/tex; mode=display\">\\newcommand{\\Bold}[1]{\\mathbf{#1}}-\\frac{w\\left(x, y\\right)}{y} + \\frac{x \\frac{\\partial}{\\partial y}z\\left(x, y\\right)}{2 \\, {\\left(x^{2} + y\\right)} y} + \\frac{\\partial}{\\partial y}w\\left(x, y\\right)</script></html>"
      ],
      "text/latex": [
       "\\begin{math}\n",
       "\\newcommand{\\Bold}[1]{\\mathbf{#1}}-\\frac{w\\left(x, y\\right)}{y} + \\frac{x \\frac{\\partial}{\\partial y}z\\left(x, y\\right)}{2 \\, {\\left(x^{2} + y\\right)} y} + \\frac{\\partial}{\\partial y}w\\left(x, y\\right)\n",
       "\\end{math}"
      ],
      "text/plain": [
       "-w(x, y)/y + 1/2*x*diff(z(x, y), y)/((x^2 + y)*y) + diff(w(x, y), y)"
      ]
     },
     "metadata": {},
     "output_type": "display_data"
    },
    {
     "name": "stdout",
     "output_type": "stream",
     "text": [
      "This is the new System........\n"
     ]
    },
    {
     "data": {
      "text/html": [
       "<html><script type=\"math/tex; mode=display\">\\newcommand{\\Bold}[1]{\\mathbf{#1}}-\\frac{w\\left(x, y\\right)}{y} + \\frac{x \\frac{\\partial}{\\partial y}z\\left(x, y\\right)}{2 \\, {\\left(x^{2} + y\\right)} y} + \\frac{\\partial}{\\partial y}w\\left(x, y\\right)</script></html>"
      ],
      "text/latex": [
       "\\begin{math}\n",
       "\\newcommand{\\Bold}[1]{\\mathbf{#1}}-\\frac{w\\left(x, y\\right)}{y} + \\frac{x \\frac{\\partial}{\\partial y}z\\left(x, y\\right)}{2 \\, {\\left(x^{2} + y\\right)} y} + \\frac{\\partial}{\\partial y}w\\left(x, y\\right)\n",
       "\\end{math}"
      ],
      "text/plain": [
       "-w(x, y)/y + 1/2*x*diff(z(x, y), y)/((x^2 + y)*y) + diff(w(x, y), y)"
      ]
     },
     "metadata": {},
     "output_type": "display_data"
    },
    {
     "data": {
      "text/html": [
       "<html><script type=\"math/tex; mode=display\">\\newcommand{\\Bold}[1]{\\mathbf{#1}}-\\frac{y {\\left(\\frac{x \\frac{\\partial}{\\partial y}z\\left(x, y\\right)}{x^{2} y + y^{2}} - \\frac{2 \\, w\\left(x, y\\right)}{y} + 2 \\, \\frac{\\partial}{\\partial y}w\\left(x, y\\right)\\right)}}{2 \\, x} + \\frac{y \\frac{\\partial}{\\partial y}w\\left(x, y\\right)}{x} + \\frac{2 \\, y \\frac{\\partial}{\\partial x}z\\left(x, y\\right)}{x} + \\frac{17 \\, {\\left(2 \\, x^{2} w\\left(x, y\\right) - 2 \\, y^{2} \\frac{\\partial}{\\partial y}w\\left(x, y\\right) - 2 \\, {\\left(x^{2} \\frac{\\partial}{\\partial y}w\\left(x, y\\right) - w\\left(x, y\\right)\\right)} y - x \\frac{\\partial}{\\partial y}z\\left(x, y\\right)\\right)}}{2 \\, {\\left(x^{3} + x y\\right)}} + \\frac{\\partial^{2}}{\\partial x\\partial y}z\\left(x, y\\right)</script></html>"
      ],
      "text/latex": [
       "\\begin{math}\n",
       "\\newcommand{\\Bold}[1]{\\mathbf{#1}}-\\frac{y {\\left(\\frac{x \\frac{\\partial}{\\partial y}z\\left(x, y\\right)}{x^{2} y + y^{2}} - \\frac{2 \\, w\\left(x, y\\right)}{y} + 2 \\, \\frac{\\partial}{\\partial y}w\\left(x, y\\right)\\right)}}{2 \\, x} + \\frac{y \\frac{\\partial}{\\partial y}w\\left(x, y\\right)}{x} + \\frac{2 \\, y \\frac{\\partial}{\\partial x}z\\left(x, y\\right)}{x} + \\frac{17 \\, {\\left(2 \\, x^{2} w\\left(x, y\\right) - 2 \\, y^{2} \\frac{\\partial}{\\partial y}w\\left(x, y\\right) - 2 \\, {\\left(x^{2} \\frac{\\partial}{\\partial y}w\\left(x, y\\right) - w\\left(x, y\\right)\\right)} y - x \\frac{\\partial}{\\partial y}z\\left(x, y\\right)\\right)}}{2 \\, {\\left(x^{3} + x y\\right)}} + \\frac{\\partial^{2}}{\\partial x\\partial y}z\\left(x, y\\right)\n",
       "\\end{math}"
      ],
      "text/plain": [
       "-1/2*y*(x*diff(z(x, y), y)/(x^2*y + y^2) - 2*w(x, y)/y + 2*diff(w(x, y), y))/x + y*diff(w(x, y), y)/x + 2*y*diff(z(x, y), x)/x + 17/2*(2*x^2*w(x, y) - 2*y^2*diff(w(x, y), y) - 2*(x^2*diff(w(x, y), y) - w(x, y))*y - x*diff(z(x, y), y))/(x^3 + x*y) + diff(z(x, y), x, y)"
      ]
     },
     "metadata": {},
     "output_type": "display_data"
    },
    {
     "data": {
      "text/html": [
       "<html><script type=\"math/tex; mode=display\">\\newcommand{\\Bold}[1]{\\mathbf{#1}}-\\frac{x \\frac{\\partial^{2}}{(\\partial y)^{2}}z\\left(x, y\\right)}{2 \\, {\\left(x^{2} + y\\right)} y} + \\frac{x \\frac{\\partial}{\\partial y}z\\left(x, y\\right)}{2 \\, {\\left(x^{2} + y\\right)} y^{2}} + \\frac{x \\frac{\\partial}{\\partial y}z\\left(x, y\\right)}{2 \\, {\\left(x^{2} + y\\right)}^{2} y} + \\frac{\\partial^{2}}{\\partial x\\partial y}z\\left(x, y\\right)</script></html>"
      ],
      "text/latex": [
       "\\begin{math}\n",
       "\\newcommand{\\Bold}[1]{\\mathbf{#1}}-\\frac{x \\frac{\\partial^{2}}{(\\partial y)^{2}}z\\left(x, y\\right)}{2 \\, {\\left(x^{2} + y\\right)} y} + \\frac{x \\frac{\\partial}{\\partial y}z\\left(x, y\\right)}{2 \\, {\\left(x^{2} + y\\right)} y^{2}} + \\frac{x \\frac{\\partial}{\\partial y}z\\left(x, y\\right)}{2 \\, {\\left(x^{2} + y\\right)}^{2} y} + \\frac{\\partial^{2}}{\\partial x\\partial y}z\\left(x, y\\right)\n",
       "\\end{math}"
      ],
      "text/plain": [
       "-1/2*x*diff(z(x, y), y, y)/((x^2 + y)*y) + 1/2*x*diff(z(x, y), y)/((x^2 + y)*y^2) + 1/2*x*diff(z(x, y), y)/((x^2 + y)^2*y) + diff(z(x, y), x, y)"
      ]
     },
     "metadata": {},
     "output_type": "display_data"
    },
    {
     "data": {
      "text/html": [
       "<html><script type=\"math/tex; mode=display\">\\newcommand{\\Bold}[1]{\\mathbf{#1}}\\frac{x \\frac{\\partial}{\\partial y}z\\left(x, y\\right)}{y} + \\frac{\\frac{\\partial}{\\partial y}w\\left(x, y\\right)}{2 \\, y} - \\frac{x \\frac{\\partial^{2}}{\\partial x\\partial y}z\\left(x, y\\right)}{2 \\, {\\left(x^{2} + y\\right)} y} + \\frac{x^{2} \\frac{\\partial}{\\partial y}z\\left(x, y\\right)}{{\\left(x^{2} + y\\right)}^{2} y} - \\frac{w\\left(x, y\\right)}{2 \\, y^{2}} - \\frac{\\frac{\\partial}{\\partial y}z\\left(x, y\\right)}{2 \\, {\\left(x^{2} + y\\right)} y} + \\frac{\\partial^{2}}{\\partial x\\partial y}z\\left(x, y\\right)</script></html>"
      ],
      "text/latex": [
       "\\begin{math}\n",
       "\\newcommand{\\Bold}[1]{\\mathbf{#1}}\\frac{x \\frac{\\partial}{\\partial y}z\\left(x, y\\right)}{y} + \\frac{\\frac{\\partial}{\\partial y}w\\left(x, y\\right)}{2 \\, y} - \\frac{x \\frac{\\partial^{2}}{\\partial x\\partial y}z\\left(x, y\\right)}{2 \\, {\\left(x^{2} + y\\right)} y} + \\frac{x^{2} \\frac{\\partial}{\\partial y}z\\left(x, y\\right)}{{\\left(x^{2} + y\\right)}^{2} y} - \\frac{w\\left(x, y\\right)}{2 \\, y^{2}} - \\frac{\\frac{\\partial}{\\partial y}z\\left(x, y\\right)}{2 \\, {\\left(x^{2} + y\\right)} y} + \\frac{\\partial^{2}}{\\partial x\\partial y}z\\left(x, y\\right)\n",
       "\\end{math}"
      ],
      "text/plain": [
       "x*diff(z(x, y), y)/y + 1/2*diff(w(x, y), y)/y - 1/2*x*diff(z(x, y), x, y)/((x^2 + y)*y) + x^2*diff(z(x, y), y)/((x^2 + y)^2*y) - 1/2*w(x, y)/y^2 - 1/2*diff(z(x, y), y)/((x^2 + y)*y) + diff(z(x, y), x, y)"
      ]
     },
     "metadata": {},
     "output_type": "display_data"
    },
    {
     "data": {
      "text/html": [
       "<html><script type=\"math/tex; mode=display\">\\newcommand{\\Bold}[1]{\\mathbf{#1}}-\\frac{2 \\, x \\frac{\\partial^{2}}{(\\partial x)^{2}}z\\left(x, y\\right)}{y} - \\frac{x \\frac{\\partial}{\\partial x}w\\left(x, y\\right)}{y^{2}} + \\frac{\\frac{\\partial}{\\partial x}w\\left(x, y\\right)}{y} - \\frac{x \\frac{\\partial^{2}}{\\partial x\\partial y}z\\left(x, y\\right)}{2 \\, {\\left(x^{2} + y\\right)} y} + \\frac{x^{2} \\frac{\\partial}{\\partial y}z\\left(x, y\\right)}{{\\left(x^{2} + y\\right)}^{2} y} - \\frac{\\frac{\\partial}{\\partial y}z\\left(x, y\\right)}{2 \\, {\\left(x^{2} + y\\right)} y}</script></html>"
      ],
      "text/latex": [
       "\\begin{math}\n",
       "\\newcommand{\\Bold}[1]{\\mathbf{#1}}-\\frac{2 \\, x \\frac{\\partial^{2}}{(\\partial x)^{2}}z\\left(x, y\\right)}{y} - \\frac{x \\frac{\\partial}{\\partial x}w\\left(x, y\\right)}{y^{2}} + \\frac{\\frac{\\partial}{\\partial x}w\\left(x, y\\right)}{y} - \\frac{x \\frac{\\partial^{2}}{\\partial x\\partial y}z\\left(x, y\\right)}{2 \\, {\\left(x^{2} + y\\right)} y} + \\frac{x^{2} \\frac{\\partial}{\\partial y}z\\left(x, y\\right)}{{\\left(x^{2} + y\\right)}^{2} y} - \\frac{\\frac{\\partial}{\\partial y}z\\left(x, y\\right)}{2 \\, {\\left(x^{2} + y\\right)} y}\n",
       "\\end{math}"
      ],
      "text/plain": [
       "-2*x*diff(z(x, y), x, x)/y - x*diff(w(x, y), x)/y^2 + diff(w(x, y), x)/y - 1/2*x*diff(z(x, y), x, y)/((x^2 + y)*y) + x^2*diff(z(x, y), y)/((x^2 + y)^2*y) - 1/2*diff(z(x, y), y)/((x^2 + y)*y)"
      ]
     },
     "metadata": {},
     "output_type": "display_data"
    },
    {
     "name": "stdout",
     "output_type": "stream",
     "text": [
      "While\n"
     ]
    },
    {
     "data": {
      "text/html": [
       "<html><script type=\"math/tex; mode=display\">\\newcommand{\\Bold}[1]{\\mathbf{#1}}-\\frac{w\\left(x, y\\right)}{y} + \\frac{x \\frac{\\partial}{\\partial y}z\\left(x, y\\right)}{2 \\, {\\left(x^{2} + y\\right)} y} + \\frac{\\partial}{\\partial y}w\\left(x, y\\right)</script></html>"
      ],
      "text/latex": [
       "\\begin{math}\n",
       "\\newcommand{\\Bold}[1]{\\mathbf{#1}}-\\frac{w\\left(x, y\\right)}{y} + \\frac{x \\frac{\\partial}{\\partial y}z\\left(x, y\\right)}{2 \\, {\\left(x^{2} + y\\right)} y} + \\frac{\\partial}{\\partial y}w\\left(x, y\\right)\n",
       "\\end{math}"
      ],
      "text/plain": [
       "-w(x, y)/y + 1/2*x*diff(z(x, y), y)/((x^2 + y)*y) + diff(w(x, y), y)"
      ]
     },
     "metadata": {},
     "output_type": "display_data"
    },
    {
     "data": {
      "text/html": [
       "<html><script type=\"math/tex; mode=display\">\\newcommand{\\Bold}[1]{\\mathbf{#1}}-\\frac{y {\\left(\\frac{x \\frac{\\partial}{\\partial y}z\\left(x, y\\right)}{x^{2} y + y^{2}} - \\frac{2 \\, w\\left(x, y\\right)}{y} + 2 \\, \\frac{\\partial}{\\partial y}w\\left(x, y\\right)\\right)}}{2 \\, x} + \\frac{y \\frac{\\partial}{\\partial y}w\\left(x, y\\right)}{x} + \\frac{2 \\, y \\frac{\\partial}{\\partial x}z\\left(x, y\\right)}{x} + \\frac{17 \\, {\\left(2 \\, x^{2} w\\left(x, y\\right) - 2 \\, y^{2} \\frac{\\partial}{\\partial y}w\\left(x, y\\right) - 2 \\, {\\left(x^{2} \\frac{\\partial}{\\partial y}w\\left(x, y\\right) - w\\left(x, y\\right)\\right)} y - x \\frac{\\partial}{\\partial y}z\\left(x, y\\right)\\right)}}{2 \\, {\\left(x^{3} + x y\\right)}} + \\frac{\\partial^{2}}{\\partial x\\partial y}z\\left(x, y\\right)</script></html>"
      ],
      "text/latex": [
       "\\begin{math}\n",
       "\\newcommand{\\Bold}[1]{\\mathbf{#1}}-\\frac{y {\\left(\\frac{x \\frac{\\partial}{\\partial y}z\\left(x, y\\right)}{x^{2} y + y^{2}} - \\frac{2 \\, w\\left(x, y\\right)}{y} + 2 \\, \\frac{\\partial}{\\partial y}w\\left(x, y\\right)\\right)}}{2 \\, x} + \\frac{y \\frac{\\partial}{\\partial y}w\\left(x, y\\right)}{x} + \\frac{2 \\, y \\frac{\\partial}{\\partial x}z\\left(x, y\\right)}{x} + \\frac{17 \\, {\\left(2 \\, x^{2} w\\left(x, y\\right) - 2 \\, y^{2} \\frac{\\partial}{\\partial y}w\\left(x, y\\right) - 2 \\, {\\left(x^{2} \\frac{\\partial}{\\partial y}w\\left(x, y\\right) - w\\left(x, y\\right)\\right)} y - x \\frac{\\partial}{\\partial y}z\\left(x, y\\right)\\right)}}{2 \\, {\\left(x^{3} + x y\\right)}} + \\frac{\\partial^{2}}{\\partial x\\partial y}z\\left(x, y\\right)\n",
       "\\end{math}"
      ],
      "text/plain": [
       "-1/2*y*(x*diff(z(x, y), y)/(x^2*y + y^2) - 2*w(x, y)/y + 2*diff(w(x, y), y))/x + y*diff(w(x, y), y)/x + 2*y*diff(z(x, y), x)/x + 17/2*(2*x^2*w(x, y) - 2*y^2*diff(w(x, y), y) - 2*(x^2*diff(w(x, y), y) - w(x, y))*y - x*diff(z(x, y), y))/(x^3 + x*y) + diff(z(x, y), x, y)"
      ]
     },
     "metadata": {},
     "output_type": "display_data"
    },
    {
     "name": "stdout",
     "output_type": "stream",
     "text": [
      "Try to reduce r1 with r0\n",
      "--------------------------------------- entering reduce\n"
     ]
    },
    {
     "data": {
      "text/html": [
       "<html><script type=\"math/tex; mode=display\">\\newcommand{\\Bold}[1]{\\mathbf{#1}}-\\frac{y {\\left(\\frac{x \\frac{\\partial}{\\partial y}z\\left(x, y\\right)}{x^{2} y + y^{2}} - \\frac{2 \\, w\\left(x, y\\right)}{y} + 2 \\, \\frac{\\partial}{\\partial y}w\\left(x, y\\right)\\right)}}{2 \\, x} + \\frac{y \\frac{\\partial}{\\partial y}w\\left(x, y\\right)}{x} + \\frac{2 \\, y \\frac{\\partial}{\\partial x}z\\left(x, y\\right)}{x} + \\frac{17 \\, {\\left(2 \\, x^{2} w\\left(x, y\\right) - 2 \\, y^{2} \\frac{\\partial}{\\partial y}w\\left(x, y\\right) - 2 \\, {\\left(x^{2} \\frac{\\partial}{\\partial y}w\\left(x, y\\right) - w\\left(x, y\\right)\\right)} y - x \\frac{\\partial}{\\partial y}z\\left(x, y\\right)\\right)}}{2 \\, {\\left(x^{3} + x y\\right)}} + \\frac{\\partial^{2}}{\\partial x\\partial y}z\\left(x, y\\right)</script></html>"
      ],
      "text/latex": [
       "\\begin{math}\n",
       "\\newcommand{\\Bold}[1]{\\mathbf{#1}}-\\frac{y {\\left(\\frac{x \\frac{\\partial}{\\partial y}z\\left(x, y\\right)}{x^{2} y + y^{2}} - \\frac{2 \\, w\\left(x, y\\right)}{y} + 2 \\, \\frac{\\partial}{\\partial y}w\\left(x, y\\right)\\right)}}{2 \\, x} + \\frac{y \\frac{\\partial}{\\partial y}w\\left(x, y\\right)}{x} + \\frac{2 \\, y \\frac{\\partial}{\\partial x}z\\left(x, y\\right)}{x} + \\frac{17 \\, {\\left(2 \\, x^{2} w\\left(x, y\\right) - 2 \\, y^{2} \\frac{\\partial}{\\partial y}w\\left(x, y\\right) - 2 \\, {\\left(x^{2} \\frac{\\partial}{\\partial y}w\\left(x, y\\right) - w\\left(x, y\\right)\\right)} y - x \\frac{\\partial}{\\partial y}z\\left(x, y\\right)\\right)}}{2 \\, {\\left(x^{3} + x y\\right)}} + \\frac{\\partial^{2}}{\\partial x\\partial y}z\\left(x, y\\right)\n",
       "\\end{math}"
      ],
      "text/plain": [
       "-1/2*y*(x*diff(z(x, y), y)/(x^2*y + y^2) - 2*w(x, y)/y + 2*diff(w(x, y), y))/x + y*diff(w(x, y), y)/x + 2*y*diff(z(x, y), x)/x + 17/2*(2*x^2*w(x, y) - 2*y^2*diff(w(x, y), y) - 2*(x^2*diff(w(x, y), y) - w(x, y))*y - x*diff(z(x, y), y))/(x^3 + x*y) + diff(z(x, y), x, y)"
      ]
     },
     "metadata": {},
     "output_type": "display_data"
    },
    {
     "data": {
      "text/html": [
       "<html><script type=\"math/tex; mode=display\">\\newcommand{\\Bold}[1]{\\mathbf{#1}}-\\frac{w\\left(x, y\\right)}{y} + \\frac{x \\frac{\\partial}{\\partial y}z\\left(x, y\\right)}{2 \\, {\\left(x^{2} + y\\right)} y} + \\frac{\\partial}{\\partial y}w\\left(x, y\\right)</script></html>"
      ],
      "text/latex": [
       "\\begin{math}\n",
       "\\newcommand{\\Bold}[1]{\\mathbf{#1}}-\\frac{w\\left(x, y\\right)}{y} + \\frac{x \\frac{\\partial}{\\partial y}z\\left(x, y\\right)}{2 \\, {\\left(x^{2} + y\\right)} y} + \\frac{\\partial}{\\partial y}w\\left(x, y\\right)\n",
       "\\end{math}"
      ],
      "text/plain": [
       "-w(x, y)/y + 1/2*x*diff(z(x, y), y)/((x^2 + y)*y) + diff(w(x, y), y)"
      ]
     },
     "metadata": {},
     "output_type": "display_data"
    }
   ],
   "source": [
    "checkS=JanetBasis([f3._orig,f1._orig,f5._orig, f2._orig,f4._orig], ctx)"
   ]
  },
  {
   "cell_type": "code",
   "execution_count": null,
   "id": "bf3d480f",
   "metadata": {},
   "outputs": [],
   "source": [
    "for i in (f1._orig, f2._orig,f3._orig, f4._orig,f5._orig):\n",
    "    i.show()"
   ]
  },
  {
   "cell_type": "code",
   "execution_count": null,
   "id": "db1b74fb",
   "metadata": {},
   "outputs": [],
   "source": [
    "for _ in checkS:\n",
    "    _._orig.show()"
   ]
  },
  {
   "cell_type": "code",
   "execution_count": null,
   "id": "8318cb6e",
   "metadata": {},
   "outputs": [],
   "source": [
    "g1 = Differential_Polynomial (diff(z,y,y) + diff(z,y)/(2*y), ctx)\n",
    "g1._orig"
   ]
  },
  {
   "cell_type": "code",
   "execution_count": null,
   "id": "9367aa82",
   "metadata": {},
   "outputs": [],
   "source": [
    "g2 = Differential_Polynomial(diff(w,x,x) + 4*y*y*diff(w,y) - 8*y*y*diff(z, x) - 8*y*w(x,y), ctx)\n",
    "g2._orig"
   ]
  },
  {
   "cell_type": "code",
   "execution_count": null,
   "id": "dc812381",
   "metadata": {},
   "outputs": [],
   "source": [
    "g3 = Differential_Polynomial(diff(w,x,y) - diff(z,x,x)/2 - diff(w,x)/(2*y) - 6*y**2*diff(z,y), ctx)\n",
    "g3._orig"
   ]
  },
  {
   "cell_type": "code",
   "execution_count": null,
   "id": "444d614a",
   "metadata": {},
   "outputs": [],
   "source": [
    "g4 = Differential_Polynomial(diff(w,y,y) - 2*diff(z,x,y)- diff(w,y)/(2*y) + w(x,y)/(2*y**2), ctx)\n",
    "g4._orig"
   ]
  },
  {
   "cell_type": "code",
   "execution_count": null,
   "id": "f70dc81d",
   "metadata": {},
   "outputs": [],
   "source": [
    "f1._orig"
   ]
  },
  {
   "cell_type": "code",
   "execution_count": null,
   "id": "0879f9c1",
   "metadata": {},
   "outputs": [],
   "source": [
    "f4._orig"
   ]
  },
  {
   "cell_type": "code",
   "execution_count": null,
   "id": "9f9ef951",
   "metadata": {},
   "outputs": [],
   "source": [
    "print(f4.Lder(), f1.Lder())"
   ]
  },
  {
   "cell_type": "code",
   "execution_count": null,
   "id": "4a0c623a",
   "metadata": {},
   "outputs": [],
   "source": [
    "f4a = reduce(f4, f1, ctx)"
   ]
  },
  {
   "cell_type": "code",
   "execution_count": null,
   "id": "ce57179a",
   "metadata": {},
   "outputs": [],
   "source": [
    "for _ in f4a._p:\n",
    "   print (_)"
   ]
  },
  {
   "cell_type": "code",
   "execution_count": null,
   "id": "c828314f",
   "metadata": {},
   "outputs": [],
   "source": [
    "f4a._orig"
   ]
  },
  {
   "cell_type": "code",
   "execution_count": null,
   "id": "325dabe3",
   "metadata": {},
   "outputs": [],
   "source": [
    "wuwu=f4a._p[-1]._coeff.operands()[0]*f4a._p[-1]._coeff.operands()[1].expand().simplify_full()"
   ]
  },
  {
   "cell_type": "code",
   "execution_count": null,
   "id": "8da393c5",
   "metadata": {},
   "outputs": [],
   "source": [
    "f4b = reduce(f4a, f1, ctx)"
   ]
  },
  {
   "cell_type": "code",
   "execution_count": null,
   "id": "87ad7ae4",
   "metadata": {},
   "outputs": [],
   "source": [
    "f4b._orig"
   ]
  },
  {
   "cell_type": "code",
   "execution_count": null,
   "id": "3cf45622",
   "metadata": {},
   "outputs": [],
   "source": [
    "functools.reduce(operator.mul, f4b._p[1]._coeff.operands()).expand().simplify_full()"
   ]
  },
  {
   "cell_type": "code",
   "execution_count": null,
   "id": "0c6c8d0c",
   "metadata": {},
   "outputs": [],
   "source": [
    "f4c = reduce(f4b, f2, ctx)"
   ]
  },
  {
   "cell_type": "code",
   "execution_count": null,
   "id": "e20071ba",
   "metadata": {},
   "outputs": [],
   "source": [
    "f4c._p[2]._coeff.expand().simplify_full()"
   ]
  },
  {
   "cell_type": "code",
   "execution_count": null,
   "id": "0d29a001",
   "metadata": {},
   "outputs": [],
   "source": [
    "f4d = reduce (f4c, f1, ctx)"
   ]
  },
  {
   "cell_type": "code",
   "execution_count": null,
   "id": "09d0bfea",
   "metadata": {},
   "outputs": [],
   "source": [
    "f4d._p[1]._coeff.expand().simplify_full()"
   ]
  },
  {
   "cell_type": "code",
   "execution_count": null,
   "id": "e124cd74",
   "metadata": {},
   "outputs": [],
   "source": [
    "f4d._p[0]._d"
   ]
  },
  {
   "cell_type": "code",
   "execution_count": null,
   "id": "f4815a95",
   "metadata": {},
   "outputs": [],
   "source": [
    "wuwu.collect(y)\n",
    "# correct according Example 2.35"
   ]
  },
  {
   "cell_type": "code",
   "execution_count": null,
   "id": "125d7a43",
   "metadata": {},
   "outputs": [],
   "source": [
    "wuwu=f4a._p[-2]._coeff"
   ]
  },
  {
   "cell_type": "code",
   "execution_count": null,
   "id": "c20f88c4",
   "metadata": {},
   "outputs": [],
   "source": [
    "wuwu"
   ]
  },
  {
   "cell_type": "code",
   "execution_count": null,
   "id": "f7544cf9",
   "metadata": {},
   "outputs": [],
   "source": [
    "wuwu=f4a._p[-2]._coeff.operands()"
   ]
  },
  {
   "cell_type": "code",
   "execution_count": null,
   "id": "215f909e",
   "metadata": {},
   "outputs": [],
   "source": [
    "wuwu"
   ]
  },
  {
   "cell_type": "code",
   "execution_count": null,
   "id": "a5a558e0",
   "metadata": {},
   "outputs": [],
   "source": [
    "wawa=wuwu[0]*wuwu[1]"
   ]
  },
  {
   "cell_type": "code",
   "execution_count": null,
   "id": "ecb29389",
   "metadata": {},
   "outputs": [],
   "source": [
    "wawa.expand().simplify_full()"
   ]
  },
  {
   "cell_type": "code",
   "execution_count": null,
   "id": "a37cb32f",
   "metadata": {},
   "outputs": [],
   "source": [
    "# wawa is a"
   ]
  },
  {
   "cell_type": "code",
   "execution_count": null,
   "id": "2df2bc42",
   "metadata": {},
   "outputs": [],
   "source": []
  }
 ],
 "metadata": {
  "kernelspec": {
   "display_name": "SageMath 9.2",
   "language": "sage",
   "name": "sagemath"
  },
  "language_info": {
   "codemirror_mode": {
    "name": "ipython",
    "version": 3
   },
   "file_extension": ".py",
   "mimetype": "text/x-python",
   "name": "python",
   "nbconvert_exporter": "python",
   "pygments_lexer": "ipython3",
   "version": "3.9.4"
  }
 },
 "nbformat": 4,
 "nbformat_minor": 5
}
