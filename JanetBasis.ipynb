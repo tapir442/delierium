{
 "cells": [
  {
   "cell_type": "code",
   "execution_count": 1,
   "id": "62a0e2ab",
   "metadata": {},
   "outputs": [],
   "source": [
    "%display latex\n",
    "import pylie, MatrixOrder, Cont\n",
    "from collections.abc import Iterable\n",
    "import functools\n",
    "from operator import mul, sub\n",
    "from pprint import pprint"
   ]
  },
  {
   "cell_type": "code",
   "execution_count": 3,
   "id": "18c8c99c",
   "metadata": {},
   "outputs": [],
   "source": [
    "class Differential_Polynomial:\n",
    "    def __init__ (self, e, context):        \n",
    "        self._orig = e     \n",
    "        self._init(e, context)\n",
    "      \n",
    "    def _init(self, e, context):  \n",
    "        res = []\n",
    "        if pylie.is_derivative(e):\n",
    "            res = [DTerm(self._orig)]\n",
    "        else:\n",
    "            for operand in self._orig.operands():\n",
    "                dterm = DTerm(operand)\n",
    "                c, d  = dterm._coeff, dterm._d\n",
    "                inserted = False\n",
    "                for r in res:\n",
    "                    if r._d == d:\n",
    "                        r._coeff += c\n",
    "                        inserted  = True\n",
    "                        # not very elegant but enough in first order\n",
    "                        break \n",
    "                if not inserted :\n",
    "                    res.append (dterm)        \n",
    "        if len(res) > 1:\n",
    "            res=sorted(res, \n",
    "                       key=functools.cmp_to_key(\n",
    "                           lambda item1, item2: \n",
    "                                MatrixOrder.sorter (item1._d, item2._d , context._weight, \n",
    "                                                    tuple(context._dependent), \n",
    "                                                    tuple(context._independent)\n",
    "                                                   )\n",
    "                       )\n",
    "                      )\n",
    "        self._p = res\n",
    "        self.normalize()\n",
    "        \n",
    "    def Lterm (self):\n",
    "        return self._p[0].term()\n",
    "        \n",
    "    def Lder (self):\n",
    "        return self._p[0]._d\n",
    "    \n",
    "    def Lcoeff(self):\n",
    "        return self._p[0]\n",
    "    \n",
    "    def terms (self):\n",
    "        for p in self._p:\n",
    "            yield p.term()\n",
    "            \n",
    "    def derivatives (self):\n",
    "        for p in self._p:\n",
    "            yield p._d\n",
    "            \n",
    "    def coefficients (self):\n",
    "        for p in self._p:\n",
    "            yield p._coeff\n",
    "    def is_monic (self):\n",
    "        if self._p:\n",
    "            return self._p[0].is_monic()\n",
    "        return True\n",
    "    def normalize (self):\n",
    "        self._p = [ DTerm((_._coeff / self._p[0]._coeff) * _._d) for _ in self._p]\n",
    "    def __str__ (self):\n",
    "        return str(self._orig)"
   ]
  },
  {
   "cell_type": "code",
   "execution_count": 4,
   "id": "25840a4a",
   "metadata": {},
   "outputs": [
    {
     "name": "stderr",
     "output_type": "stream",
     "text": [
      "ERROR:root:No traceback has been produced, nothing to debug.\n"
     ]
    },
    {
     "ename": "TypeError",
     "evalue": "reduce() of empty sequence with no initial value",
     "output_type": "error",
     "traceback": [
      "\u001b[0;31m---------------------------------------------------------------------------\u001b[0m",
      "\u001b[0;31mTypeError\u001b[0m                                 Traceback (most recent call last)",
      "\u001b[0;32m<ipython-input-4-1bb487cc3458>\u001b[0m in \u001b[0;36m<module>\u001b[0;34m\u001b[0m\n\u001b[1;32m      5\u001b[0m \u001b[0mctx\u001b[0m \u001b[0;34m=\u001b[0m \u001b[0mContext\u001b[0m \u001b[0;34m(\u001b[0m\u001b[0;34m(\u001b[0m\u001b[0mw\u001b[0m\u001b[0;34m,\u001b[0m\u001b[0mz\u001b[0m\u001b[0;34m)\u001b[0m\u001b[0;34m,\u001b[0m \u001b[0;34m(\u001b[0m\u001b[0mx\u001b[0m\u001b[0;34m,\u001b[0m\u001b[0my\u001b[0m\u001b[0;34m)\u001b[0m\u001b[0;34m)\u001b[0m\u001b[0;34m\u001b[0m\u001b[0;34m\u001b[0m\u001b[0m\n\u001b[1;32m      6\u001b[0m \u001b[0;34m\u001b[0m\u001b[0m\n\u001b[0;32m----> 7\u001b[0;31m \u001b[0mDifferential_Polynomial\u001b[0m\u001b[0;34m(\u001b[0m\u001b[0mw\u001b[0m\u001b[0;34m(\u001b[0m\u001b[0mx\u001b[0m\u001b[0;34m,\u001b[0m\u001b[0my\u001b[0m\u001b[0;34m)\u001b[0m\u001b[0;34m,\u001b[0m \u001b[0mctx\u001b[0m\u001b[0;34m)\u001b[0m\u001b[0;34m\u001b[0m\u001b[0;34m\u001b[0m\u001b[0m\n\u001b[0m\u001b[1;32m      8\u001b[0m \u001b[0;34m\u001b[0m\u001b[0m\n\u001b[1;32m      9\u001b[0m l = [Differential_Polynomial (_, ctx) for _ in [diff(w,x,x), diff(w, x,y), diff (w,y), diff(w,x), diff (w,y,y), w(x,y),\n",
      "\u001b[0;32m<ipython-input-3-ea92d59beee8>\u001b[0m in \u001b[0;36m__init__\u001b[0;34m(self, e, context)\u001b[0m\n\u001b[1;32m      3\u001b[0m         \u001b[0mself\u001b[0m\u001b[0;34m.\u001b[0m\u001b[0m_orig\u001b[0m \u001b[0;34m=\u001b[0m \u001b[0me\u001b[0m\u001b[0;34m\u001b[0m\u001b[0;34m\u001b[0m\u001b[0m\n\u001b[1;32m      4\u001b[0m         \u001b[0mget_ipython\u001b[0m\u001b[0;34m(\u001b[0m\u001b[0;34m)\u001b[0m\u001b[0;34m.\u001b[0m\u001b[0mrun_line_magic\u001b[0m\u001b[0;34m(\u001b[0m\u001b[0;34m'debug'\u001b[0m\u001b[0;34m,\u001b[0m \u001b[0;34m''\u001b[0m\u001b[0;34m)\u001b[0m\u001b[0;34m\u001b[0m\u001b[0;34m\u001b[0m\u001b[0m\n\u001b[0;32m----> 5\u001b[0;31m         \u001b[0mself\u001b[0m\u001b[0;34m.\u001b[0m\u001b[0m_init\u001b[0m\u001b[0;34m(\u001b[0m\u001b[0me\u001b[0m\u001b[0;34m,\u001b[0m \u001b[0mcontext\u001b[0m\u001b[0;34m)\u001b[0m\u001b[0;34m\u001b[0m\u001b[0;34m\u001b[0m\u001b[0m\n\u001b[0m\u001b[1;32m      6\u001b[0m \u001b[0;34m\u001b[0m\u001b[0m\n\u001b[1;32m      7\u001b[0m     \u001b[0;32mdef\u001b[0m \u001b[0m_init\u001b[0m\u001b[0;34m(\u001b[0m\u001b[0mself\u001b[0m\u001b[0;34m,\u001b[0m \u001b[0me\u001b[0m\u001b[0;34m,\u001b[0m \u001b[0mcontext\u001b[0m\u001b[0;34m)\u001b[0m\u001b[0;34m:\u001b[0m\u001b[0;34m\u001b[0m\u001b[0;34m\u001b[0m\u001b[0m\n",
      "\u001b[0;32m<ipython-input-3-ea92d59beee8>\u001b[0m in \u001b[0;36m_init\u001b[0;34m(self, e, context)\u001b[0m\n\u001b[1;32m     11\u001b[0m         \u001b[0;32melse\u001b[0m\u001b[0;34m:\u001b[0m\u001b[0;34m\u001b[0m\u001b[0;34m\u001b[0m\u001b[0m\n\u001b[1;32m     12\u001b[0m             \u001b[0;32mfor\u001b[0m \u001b[0moperand\u001b[0m \u001b[0;32min\u001b[0m \u001b[0mself\u001b[0m\u001b[0;34m.\u001b[0m\u001b[0m_orig\u001b[0m\u001b[0;34m.\u001b[0m\u001b[0moperands\u001b[0m\u001b[0;34m(\u001b[0m\u001b[0;34m)\u001b[0m\u001b[0;34m:\u001b[0m\u001b[0;34m\u001b[0m\u001b[0;34m\u001b[0m\u001b[0m\n\u001b[0;32m---> 13\u001b[0;31m                 \u001b[0mdterm\u001b[0m \u001b[0;34m=\u001b[0m \u001b[0mDTerm\u001b[0m\u001b[0;34m(\u001b[0m\u001b[0moperand\u001b[0m\u001b[0;34m)\u001b[0m\u001b[0;34m\u001b[0m\u001b[0;34m\u001b[0m\u001b[0m\n\u001b[0m\u001b[1;32m     14\u001b[0m                 \u001b[0mc\u001b[0m\u001b[0;34m,\u001b[0m \u001b[0md\u001b[0m  \u001b[0;34m=\u001b[0m \u001b[0mdterm\u001b[0m\u001b[0;34m.\u001b[0m\u001b[0m_coeff\u001b[0m\u001b[0;34m,\u001b[0m \u001b[0mdterm\u001b[0m\u001b[0;34m.\u001b[0m\u001b[0m_d\u001b[0m\u001b[0;34m\u001b[0m\u001b[0;34m\u001b[0m\u001b[0m\n\u001b[1;32m     15\u001b[0m                 \u001b[0minserted\u001b[0m \u001b[0;34m=\u001b[0m \u001b[0;32mFalse\u001b[0m\u001b[0;34m\u001b[0m\u001b[0;34m\u001b[0m\u001b[0m\n",
      "\u001b[0;32m<ipython-input-2-b233cd55fa3e>\u001b[0m in \u001b[0;36m__init__\u001b[0;34m(self, e, context)\u001b[0m\n\u001b[1;32m     24\u001b[0m                 \u001b[0;32melse\u001b[0m\u001b[0;34m:\u001b[0m\u001b[0;34m\u001b[0m\u001b[0;34m\u001b[0m\u001b[0m\n\u001b[1;32m     25\u001b[0m                     \u001b[0mr\u001b[0m\u001b[0;34m.\u001b[0m\u001b[0mappend\u001b[0m \u001b[0;34m(\u001b[0m\u001b[0mo\u001b[0m\u001b[0;34m)\u001b[0m\u001b[0;34m\u001b[0m\u001b[0;34m\u001b[0m\u001b[0m\n\u001b[0;32m---> 26\u001b[0;31m             \u001b[0mself\u001b[0m\u001b[0;34m.\u001b[0m\u001b[0m_coeff\u001b[0m \u001b[0;34m=\u001b[0m \u001b[0mfunctools\u001b[0m\u001b[0;34m.\u001b[0m\u001b[0mreduce\u001b[0m \u001b[0;34m(\u001b[0m\u001b[0mmul\u001b[0m\u001b[0;34m,\u001b[0m \u001b[0mr\u001b[0m\u001b[0;34m)\u001b[0m\u001b[0;34m\u001b[0m\u001b[0;34m\u001b[0m\u001b[0m\n\u001b[0m\u001b[1;32m     27\u001b[0m     \u001b[0;32mdef\u001b[0m \u001b[0m__str__\u001b[0m \u001b[0;34m(\u001b[0m\u001b[0mself\u001b[0m\u001b[0;34m)\u001b[0m\u001b[0;34m:\u001b[0m\u001b[0;34m\u001b[0m\u001b[0;34m\u001b[0m\u001b[0m\n\u001b[1;32m     28\u001b[0m         \u001b[0;32mreturn\u001b[0m \u001b[0;34m\"{} * {}\"\u001b[0m\u001b[0;34m.\u001b[0m\u001b[0mformat\u001b[0m \u001b[0;34m(\u001b[0m\u001b[0mself\u001b[0m\u001b[0;34m.\u001b[0m\u001b[0m_coeff\u001b[0m\u001b[0;34m,\u001b[0m \u001b[0mself\u001b[0m\u001b[0;34m.\u001b[0m\u001b[0m_d\u001b[0m\u001b[0;34m)\u001b[0m\u001b[0;34m\u001b[0m\u001b[0;34m\u001b[0m\u001b[0m\n",
      "\u001b[0;31mTypeError\u001b[0m: reduce() of empty sequence with no initial value"
     ]
    }
   ],
   "source": [
    "\n",
    "\n"
   ]
  },
  {
   "cell_type": "code",
   "execution_count": null,
   "id": "e83a4bc9",
   "metadata": {},
   "outputs": [],
   "source": [
    "def reduce(e1: Differential_Polynomial,e2: Differential_Polynomial, context:Context)->Differential_Polynomial:\n",
    "    # XXX except only function names in context list\n",
    "    assert e2.is_monic()\n",
    "    for t, d, c, in zip (e1.terms(), e1.derivatives(), e1.coefficients()):\n",
    "        ld = e2.Lder()\n",
    "        def _order (der):\n",
    "            if der != 1:\n",
    "                return pylie.order_of_derivative(der)\n",
    "            else :\n",
    "                return [0]*len(context._independent)\n",
    "        e2_order = _order (ld)\n",
    "        e1_order = _order (d)\n",
    "        dif = []\n",
    "        for a, b in zip (e1_order, e2_order):\n",
    "            dif += [a - b]\n",
    "        try:\n",
    "            if ld.operator().function() != d.operator().function():\n",
    "                continue\n",
    "        except AttributeError:\n",
    "            continue            \n",
    "        if all (map (lambda h: h == 0, dif)) :\n",
    "            # XXX: do we need that in homogenous environmeent?\n",
    "            inter = sum(_ for _ in e1.terms()) - c * sum (_ for _ in e2.terms())\n",
    "            dp = Differential_Polynomial(inter.simplify_full().expand(), context)\n",
    "            assert dp.is_monic()\n",
    "            return dp\n",
    "        elif  all (map (lambda h: h >= 0, dif)):\n",
    "            print (\"PPPPPPPPPPPPPPPPPPPPPPPPPPPPPPPPPPPPPPPPPPP\")\n",
    "            # get variables which shuld be differentiate\n",
    "            variables_to_diff = []\n",
    "            for i in range (len(context._independent)):\n",
    "                if dif [i] != 0:\n",
    "                    variables_to_diff.extend ([context._independent[i]]*abs(dif[i]))\n",
    "            print (\"Vorher\", variables_to_diff)\n",
    "            print (\"reduce {} with {}\".format(e1.Lder(), e2.Lder()))\n",
    "            print (\"e1:\", e1.Lterm())\n",
    "            print (\"e2:\", e2.Lterm())\n",
    "            e1._orig.show()\n",
    "            e2._orig.show()\n",
    "            print (\"after derivation................\")\n",
    "            diff(e2._orig, *variables_to_diff).show()\n",
    "            e3 = e1._orig - c * diff(e2._orig, *variables_to_diff)\n",
    "            e3.show()\n",
    "            dp =  Differential_Polynomial (e3, context)\n",
    "            print (\"e3:\", dp.Lterm())            \n",
    "            #for _ in dp._p:\n",
    "            #    print (\":3\", _._d, _._coeff)            \n",
    "            return dp\n",
    "        else:\n",
    "            print (\"no reduction?\")\n",
    "            pass\n",
    "    return e1"
   ]
  },
  {
   "cell_type": "code",
   "execution_count": null,
   "id": "93646466",
   "metadata": {},
   "outputs": [],
   "source": [
    "var(\"x y\")\n",
    "z  = function (\"z\")(x,y)\n",
    "ctx = Context((z,), (x,y))\n",
    "print(\"*\"*70)\n",
    "e1 = diff(z,y)-x^2/y^2*diff(z,x)-(x-y)*z(x,y)/y^2\n",
    "e1_dp = Differential_Polynomial (e1, ctx)\n",
    "print (e1_dp)\n",
    "print(\"*\"*70)\n",
    "f1 = diff(z, x) + z(x,y)/x\n",
    "f1_dp = Differential_Polynomial (f1, ctx)\n",
    "f1_dp.is_monic()\n",
    "print (f1_dp)\n",
    "print(\"*\"*70)\n",
    "f2 = diff(z, y) + z(x,y)/y\n",
    "f2_dp = Differential_Polynomial (f2, ctx)\n",
    "print (f2_dp)"
   ]
  },
  {
   "cell_type": "code",
   "execution_count": null,
   "id": "1af9ccf4",
   "metadata": {},
   "outputs": [],
   "source": [
    "r1 = reduce (e1_dp, f1_dp, ctx)"
   ]
  },
  {
   "cell_type": "code",
   "execution_count": null,
   "id": "0158a9ff",
   "metadata": {},
   "outputs": [],
   "source": [
    "r1"
   ]
  },
  {
   "cell_type": "code",
   "execution_count": null,
   "id": "2c3e853b",
   "metadata": {},
   "outputs": [],
   "source": [
    "r1._orig"
   ]
  },
  {
   "cell_type": "code",
   "execution_count": null,
   "id": "9d423d52",
   "metadata": {},
   "outputs": [],
   "source": [
    "r1._p"
   ]
  },
  {
   "cell_type": "code",
   "execution_count": null,
   "id": "77bab3c1",
   "metadata": {},
   "outputs": [],
   "source": [
    "f2_dp._p"
   ]
  },
  {
   "cell_type": "code",
   "execution_count": null,
   "id": "5389075b",
   "metadata": {},
   "outputs": [],
   "source": [
    "r2 = reduce (r1, f2_dp, ctx)"
   ]
  },
  {
   "cell_type": "code",
   "execution_count": null,
   "id": "15af6c2b",
   "metadata": {},
   "outputs": [],
   "source": [
    "r2"
   ]
  },
  {
   "cell_type": "code",
   "execution_count": null,
   "id": "bc0b6eb3",
   "metadata": {},
   "outputs": [],
   "source": [
    "def Lfunc(e):\n",
    "    return e"
   ]
  },
  {
   "cell_type": "code",
   "execution_count": null,
   "id": "b2a12268",
   "metadata": {},
   "outputs": [],
   "source": [
    "def Lcml(e):\n",
    "    '''Least common left multiply, p.23'''\n",
    "    return 0"
   ]
  },
  {
   "cell_type": "code",
   "execution_count": null,
   "id": "7e3f98f2",
   "metadata": {},
   "outputs": [],
   "source": [
    "def Lcm(e):\n",
    "    return 0"
   ]
  },
  {
   "cell_type": "code",
   "execution_count": null,
   "id": "af243aac",
   "metadata": {},
   "outputs": [],
   "source": [
    "def CompleteSystem(S, context):\n",
    "    return S"
   ]
  },
  {
   "cell_type": "code",
   "execution_count": null,
   "id": "3d79993a",
   "metadata": {},
   "outputs": [],
   "source": [
    "def FindIntegrableConditions(S, context):\n",
    "    return S"
   ]
  },
  {
   "cell_type": "code",
   "execution_count": null,
   "id": "f8a9ff22",
   "metadata": {},
   "outputs": [],
   "source": [
    "def ReduceIntegrabilityConditions(S, context):\n",
    "    return S"
   ]
  },
  {
   "cell_type": "code",
   "execution_count": null,
   "id": "1f2f86d3",
   "metadata": {},
   "outputs": [],
   "source": [
    "def Reorder (S, context):\n",
    "    res=sorted(S, \n",
    "            key=functools.cmp_to_key(\n",
    "                 lambda item1, item2: \n",
    "                                MatrixOrder.sorter (item1.Lder(), item2.Lder() , context._weight, \n",
    "                                                    tuple(context._dependent), \n",
    "                                                    tuple(context._independent)\n",
    "                                                   )\n",
    "                       )\n",
    "                      )\n",
    "    return res"
   ]
  },
  {
   "cell_type": "code",
   "execution_count": null,
   "id": "05bf59e9",
   "metadata": {},
   "outputs": [],
   "source": [
    "var (\"x y\")\n",
    "z = function(\"z\")(x,y)\n",
    "w = function(\"w\")(x,y)\n",
    "ctx = Context((w,z), (x,y), MatrixOrder.Mgrlex)\n",
    "f1 = Differential_Polynomial(diff(w, y) + x*diff(z,y)/(2*y*(x**2+y)) - w(x,y)/y, ctx)\n",
    "f1._orig"
   ]
  },
  {
   "cell_type": "code",
   "execution_count": null,
   "id": "60ce096b",
   "metadata": {},
   "outputs": [],
   "source": [
    "f2=Differential_Polynomial(diff(z,x,y) + y*diff(w,y)/x + 2*y*diff(z, x)/x,ctx)\n",
    "f2._orig"
   ]
  },
  {
   "cell_type": "code",
   "execution_count": null,
   "id": "c3eb81d9",
   "metadata": {},
   "outputs": [],
   "source": [
    "f3 = Differential_Polynomial(diff(w, x,y) - 2*x*diff(z, x,2)/y - x*diff(w,x)/y**2 ,ctx)\n",
    "f3._orig"
   ]
  },
  {
   "cell_type": "code",
   "execution_count": null,
   "id": "8e496cc0",
   "metadata": {},
   "outputs": [],
   "source": [
    "f4 = Differential_Polynomial(diff(w, x,y) + diff(z, x,y) + diff(w, y)/(2*y) - diff(w,x)/y + x* diff(z, y)/y - w(x,y)/(2*y**2), ctx)\n",
    "f4._orig\n",
    "f4._p"
   ]
  },
  {
   "cell_type": "code",
   "execution_count": null,
   "id": "e68ee997",
   "metadata": {},
   "outputs": [],
   "source": [
    "f5 = Differential_Polynomial(diff(w,y,y) + diff(z,x,y) - diff(w, y)/y + w(x,y)/y**2, ctx)\n",
    "f5._orig"
   ]
  },
  {
   "cell_type": "code",
   "execution_count": null,
   "id": "a47ff0fd",
   "metadata": {},
   "outputs": [],
   "source": [
    "def Autoreduce(S, context):  \n",
    "    i = 0\n",
    "    while True:\n",
    "        p = S[i]\n",
    "        r = S[i+1:]\n",
    "        if not r:\n",
    "            S = Reorder(S, context)\n",
    "            return S[:]            \n",
    "        have_reduced = False\n",
    "        checkidx = i+1\n",
    "        for _r in r:\n",
    "            print (\"Try to reduce p{} with r{}\".format(i, checkidx))\n",
    "            res = reduce (p, _r, context)\n",
    "            if res._orig != p._orig:\n",
    "                print (\"have reduced!\")\n",
    "                res._orig.show()\n",
    "                have_reduced = True                \n",
    "            S[i] = res\n",
    "            checkidx += 1\n",
    "        S = Reorder(S, context)\n",
    "        print(\"This is the new System........\")\n",
    "        for _ in S:\n",
    "            _._orig.show()\n",
    "        if not have_reduced:\n",
    "            i += 1        \n",
    "        else:\n",
    "            i = 0\n",
    "            "
   ]
  },
  {
   "cell_type": "code",
   "execution_count": null,
   "id": "e2358eea",
   "metadata": {},
   "outputs": [],
   "source": [
    "def JanetBasis(S, context):\n",
    "    \"\"\"List of homogenous PDE's + order context\"\"\"\n",
    "    if not isinstance(S, Iterable):\n",
    "        # bad criterion\n",
    "        S = [S]\n",
    "    S = [Differential_Polynomial(s, context) for s in S]\n",
    "    S = Reorder(S, context)\n",
    "    while 1:\n",
    "        S = Autoreduce (S, context)\n",
    "        #S = CompleteSystem (S, context)\n",
    "        #f = FindIntegrableConditions(S, context)\n",
    "        #c = ReduceIntegrabilityConditions(S, context)\n",
    "        #if all ([_ == 0 for _ in c]) or not c:\n",
    "        #    return S\n",
    "        #S += c\n",
    "        #S = Reorder (S, context)\n",
    "        return S[:]"
   ]
  },
  {
   "cell_type": "code",
   "execution_count": null,
   "id": "0efb4125",
   "metadata": {},
   "outputs": [],
   "source": [
    "checkS=JanetBasis([f3._orig,f1._orig,f5._orig, f2._orig,f4._orig], ctx)"
   ]
  },
  {
   "cell_type": "code",
   "execution_count": null,
   "id": "95e47ff7",
   "metadata": {},
   "outputs": [],
   "source": [
    "for i in (f1._orig, f2._orig,f3._orig, f4._orig,f5._orig):\n",
    "    i.show()"
   ]
  },
  {
   "cell_type": "code",
   "execution_count": null,
   "id": "b88fc58e",
   "metadata": {},
   "outputs": [],
   "source": [
    "for _ in checkS:\n",
    "    _._orig.show()"
   ]
  },
  {
   "cell_type": "code",
   "execution_count": null,
   "id": "216e36dd",
   "metadata": {},
   "outputs": [],
   "source": [
    "g1 = Differential_Polynomial (diff(z,y,y) + diff(z,y)/(2*y), ctx)\n",
    "g1._orig"
   ]
  },
  {
   "cell_type": "code",
   "execution_count": null,
   "id": "54eb41a3",
   "metadata": {},
   "outputs": [],
   "source": [
    "g2 = Differential_Polynomial(diff(w,x,x) + 4*y*y*diff(w,y) - 8*y*y*diff(z, x) - 8*y*w(x,y), ctx)\n",
    "g2._orig"
   ]
  },
  {
   "cell_type": "code",
   "execution_count": null,
   "id": "8e39b3dc",
   "metadata": {},
   "outputs": [],
   "source": [
    "g3 = Differential_Polynomial(diff(w,x,y) - diff(z,x,x)/2 - diff(w,x)/(2*y) - 6*y**2*diff(z,y), ctx)\n",
    "g3._orig"
   ]
  },
  {
   "cell_type": "code",
   "execution_count": null,
   "id": "ac350121",
   "metadata": {},
   "outputs": [],
   "source": [
    "g4 = Differential_Polynomial(diff(w,y,y) - 2*diff(z,x,y)- diff(w,y)/(2*y) + w(x,y)/(2*y**2), ctx)\n",
    "g4._orig"
   ]
  },
  {
   "cell_type": "code",
   "execution_count": null,
   "id": "12feb868",
   "metadata": {},
   "outputs": [],
   "source": [
    "f1._orig"
   ]
  },
  {
   "cell_type": "code",
   "execution_count": null,
   "id": "178cd097",
   "metadata": {},
   "outputs": [],
   "source": [
    "f4._orig"
   ]
  },
  {
   "cell_type": "code",
   "execution_count": null,
   "id": "fd1f8a47",
   "metadata": {},
   "outputs": [],
   "source": [
    "print(f4.Lder(), f1.Lder())"
   ]
  },
  {
   "cell_type": "code",
   "execution_count": null,
   "id": "1cefff2a",
   "metadata": {},
   "outputs": [],
   "source": [
    "f4a = reduce(f4, f1, ctx)"
   ]
  },
  {
   "cell_type": "code",
   "execution_count": null,
   "id": "c5a435a0",
   "metadata": {},
   "outputs": [],
   "source": [
    "for _ in f4a._p:\n",
    "   print (_)"
   ]
  },
  {
   "cell_type": "code",
   "execution_count": null,
   "id": "93e3d74d",
   "metadata": {},
   "outputs": [],
   "source": [
    "f4a._orig"
   ]
  },
  {
   "cell_type": "code",
   "execution_count": null,
   "id": "0606eb22",
   "metadata": {},
   "outputs": [],
   "source": [
    "wuwu=f4a._p[-1]._coeff.operands()[0]*f4a._p[-1]._coeff.operands()[1].expand().simplify_full()"
   ]
  },
  {
   "cell_type": "code",
   "execution_count": null,
   "id": "4ba17a71",
   "metadata": {},
   "outputs": [],
   "source": [
    "f4b = reduce(f4a, f1, ctx)"
   ]
  },
  {
   "cell_type": "code",
   "execution_count": null,
   "id": "37b890ab",
   "metadata": {},
   "outputs": [],
   "source": [
    "f4b._orig"
   ]
  },
  {
   "cell_type": "code",
   "execution_count": null,
   "id": "3056146f",
   "metadata": {},
   "outputs": [],
   "source": [
    "functools.reduce(operator.mul, f4b._p[1]._coeff.operands()).expand().simplify_full()"
   ]
  },
  {
   "cell_type": "code",
   "execution_count": null,
   "id": "f3a3e3bc",
   "metadata": {},
   "outputs": [],
   "source": [
    "f4c = reduce(f4b, f2, ctx)"
   ]
  },
  {
   "cell_type": "code",
   "execution_count": null,
   "id": "bbd84fa2",
   "metadata": {},
   "outputs": [],
   "source": [
    "f4c._p[2]._coeff.expand().simplify_full()"
   ]
  },
  {
   "cell_type": "code",
   "execution_count": null,
   "id": "e90b061f",
   "metadata": {},
   "outputs": [],
   "source": [
    "f4d = reduce (f4c, f1, ctx)"
   ]
  },
  {
   "cell_type": "code",
   "execution_count": null,
   "id": "34e1c051",
   "metadata": {},
   "outputs": [],
   "source": [
    "f4d._p[1]._coeff.expand().simplify_full()"
   ]
  },
  {
   "cell_type": "code",
   "execution_count": null,
   "id": "5bdc66b2",
   "metadata": {},
   "outputs": [],
   "source": [
    "f4d._p[0]._d"
   ]
  },
  {
   "cell_type": "code",
   "execution_count": null,
   "id": "b817b41d",
   "metadata": {},
   "outputs": [],
   "source": [
    "wuwu.collect(y)\n",
    "# correct according Example 2.35"
   ]
  },
  {
   "cell_type": "code",
   "execution_count": null,
   "id": "7f2d4e34",
   "metadata": {},
   "outputs": [],
   "source": [
    "wuwu=f4a._p[-2]._coeff"
   ]
  },
  {
   "cell_type": "code",
   "execution_count": null,
   "id": "3073dc66",
   "metadata": {},
   "outputs": [],
   "source": [
    "wuwu"
   ]
  },
  {
   "cell_type": "code",
   "execution_count": null,
   "id": "9dfe11d1",
   "metadata": {},
   "outputs": [],
   "source": [
    "wuwu=f4a._p[-2]._coeff.operands()"
   ]
  },
  {
   "cell_type": "code",
   "execution_count": null,
   "id": "38b324c2",
   "metadata": {},
   "outputs": [],
   "source": [
    "wuwu"
   ]
  },
  {
   "cell_type": "code",
   "execution_count": null,
   "id": "a9b6412f",
   "metadata": {},
   "outputs": [],
   "source": [
    "wawa=wuwu[0]*wuwu[1]"
   ]
  },
  {
   "cell_type": "code",
   "execution_count": null,
   "id": "de885705",
   "metadata": {},
   "outputs": [],
   "source": [
    "wawa.expand().simplify_full()"
   ]
  },
  {
   "cell_type": "code",
   "execution_count": null,
   "id": "0861b8d6",
   "metadata": {},
   "outputs": [],
   "source": [
    "# wawa is a"
   ]
  },
  {
   "cell_type": "code",
   "execution_count": null,
   "id": "e9f83804",
   "metadata": {},
   "outputs": [],
   "source": []
  }
 ],
 "metadata": {
  "kernelspec": {
   "display_name": "SageMath 9.2",
   "language": "sage",
   "name": "sagemath"
  },
  "language_info": {
   "codemirror_mode": {
    "name": "ipython",
    "version": 3
   },
   "file_extension": ".py",
   "mimetype": "text/x-python",
   "name": "python",
   "nbconvert_exporter": "python",
   "pygments_lexer": "ipython3",
   "version": "3.9.2"
  }
 },
 "nbformat": 4,
 "nbformat_minor": 5
}
