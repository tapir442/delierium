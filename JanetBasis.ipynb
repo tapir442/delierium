{
 "cells": [
  {
   "cell_type": "code",
   "execution_count": 1,
   "id": "6c8f5589",
   "metadata": {},
   "outputs": [],
   "source": [
    "%display latex\n",
    "from pylie import *\n",
    "from pprint import pprint \n",
    "from collections.abc import Iterable\n",
    "import functools\n",
    "from operator import mul, sub\n",
    "from pprint import pprint\n",
    "from IPython.core.debugger import set_trace\n"
   ]
  },
  {
   "cell_type": "code",
   "execution_count": null,
   "id": "77ecebbe-1ca0-4ad8-8737-72dd991506c4",
   "metadata": {},
   "outputs": [],
   "source": []
  },
  {
   "cell_type": "code",
   "execution_count": 2,
   "id": "30a3f1a4",
   "metadata": {},
   "outputs": [],
   "source": [
    "#indeterminates = (x, y) = var(\"x y\")\n",
    "#R=PolynomialRing(QQ, indeterminates)\n",
    "#z  = function (\"z\")(*indeterminates)\n",
    "#ctx = Context((z,), indeterminates)\n",
    "#print(\"*\"*70)\n",
    "#e1 = diff(z,y)-x**2/y**2*diff(z,x)-(x-y)*z(x,y)/y**2\n",
    "#e1_dp = Differential_Polynomial (e1, ctx)\n",
    "#print (e1_dp)\n",
    "#print(\"*\"*70)\n",
    "#f1 = diff(z, x) + z(x,y)/x\n",
    "#f1_dp = Differential_Polynomial (f1, ctx)\n",
    "#f1_dp.is_monic()\n",
    "#print (f1_dp)\n",
    "#print(\"*\"*70)\n",
    "#f2 = diff(z, y) + z(x,y)/y\n",
    "#f2_dp = Differential_Polynomial (f2, ctx)\n",
    "#print (f2_dp)\n",
    "#r1 = reduce (e1_dp, f1_dp, ctx)\n",
    "#r1\n",
    "#r1._orig\n",
    "#r2 = reduce (r1, f2_dp, ctx)"
   ]
  },
  {
   "cell_type": "code",
   "execution_count": 3,
   "id": "891f1a3a",
   "metadata": {},
   "outputs": [],
   "source": [
    "def Lfunc(e):\n",
    "    return e"
   ]
  },
  {
   "cell_type": "code",
   "execution_count": 4,
   "id": "1faa7ef1",
   "metadata": {},
   "outputs": [],
   "source": [
    "def Lcml(e):\n",
    "    '''Least common left multiply, p.23'''\n",
    "    return 0"
   ]
  },
  {
   "cell_type": "code",
   "execution_count": 5,
   "id": "05751cb8",
   "metadata": {},
   "outputs": [],
   "source": [
    "def Lcm(e):\n",
    "    return 0"
   ]
  },
  {
   "cell_type": "code",
   "execution_count": 6,
   "id": "a4834505",
   "metadata": {},
   "outputs": [],
   "source": [
    "def CompleteSystem(S, context):\n",
    "    return S"
   ]
  },
  {
   "cell_type": "code",
   "execution_count": 7,
   "id": "d7c74ca1",
   "metadata": {},
   "outputs": [],
   "source": [
    "def FindIntegrableConditions(S, context):\n",
    "    return S"
   ]
  },
  {
   "cell_type": "code",
   "execution_count": 8,
   "id": "4e5518d2",
   "metadata": {},
   "outputs": [],
   "source": [
    "def ReduceIntegrabilityConditions(S, context):\n",
    "    return S"
   ]
  },
  {
   "cell_type": "code",
   "execution_count": null,
   "id": "c52a51bf",
   "metadata": {},
   "outputs": [],
   "source": []
  },
  {
   "cell_type": "code",
   "execution_count": 9,
   "id": "4ac88ea6",
   "metadata": {},
   "outputs": [
    {
     "data": {
      "text/html": [
       "<html><script type=\"math/tex; mode=display\">\\newcommand{\\Bold}[1]{\\mathbf{#1}}-\\frac{w\\left(x, y\\right)}{y} + \\frac{x \\frac{\\partial}{\\partial y}z\\left(x, y\\right)}{2 \\, {\\left(x^{2} + y\\right)} y} + \\frac{\\partial}{\\partial y}w\\left(x, y\\right)</script></html>"
      ],
      "text/latex": [
       "\\begin{math}\n",
       "\\newcommand{\\Bold}[1]{\\mathbf{#1}}-\\frac{w\\left(x, y\\right)}{y} + \\frac{x \\frac{\\partial}{\\partial y}z\\left(x, y\\right)}{2 \\, {\\left(x^{2} + y\\right)} y} + \\frac{\\partial}{\\partial y}w\\left(x, y\\right)\n",
       "\\end{math}"
      ],
      "text/plain": [
       "-w(x, y)/y + 1/2*x*diff(z(x, y), y)/((x^2 + y)*y) + diff(w(x, y), y)"
      ]
     },
     "metadata": {},
     "output_type": "display_data"
    }
   ],
   "source": [
    "var (\"x y\")\n",
    "z = function(\"z\")(x,y)\n",
    "w = function(\"w\")(x,y)\n",
    "ctx = Context((w,z), (x,y), MatrixOrder.Mgrlex)\n",
    "f1 =diff(w, y) + x*diff(z,y)/(2*y*(x**2+y)) - w(x,y)/y\n",
    "f1.show()"
   ]
  },
  {
   "cell_type": "code",
   "execution_count": 10,
   "id": "30c9372d",
   "metadata": {},
   "outputs": [
    {
     "data": {
      "text/html": [
       "<html><script type=\"math/tex; mode=display\">\\newcommand{\\Bold}[1]{\\mathbf{#1}}\\frac{y \\frac{\\partial}{\\partial y}w\\left(x, y\\right)}{x} + \\frac{2 \\, y \\frac{\\partial}{\\partial x}z\\left(x, y\\right)}{x} + \\frac{\\partial^{2}}{\\partial x\\partial y}z\\left(x, y\\right)</script></html>"
      ],
      "text/latex": [
       "\\begin{math}\n",
       "\\newcommand{\\Bold}[1]{\\mathbf{#1}}\\frac{y \\frac{\\partial}{\\partial y}w\\left(x, y\\right)}{x} + \\frac{2 \\, y \\frac{\\partial}{\\partial x}z\\left(x, y\\right)}{x} + \\frac{\\partial^{2}}{\\partial x\\partial y}z\\left(x, y\\right)\n",
       "\\end{math}"
      ],
      "text/plain": [
       "y*diff(w(x, y), y)/x + 2*y*diff(z(x, y), x)/x + diff(z(x, y), x, y)"
      ]
     },
     "metadata": {},
     "output_type": "display_data"
    }
   ],
   "source": [
    "f2=diff(z,x,y) + y*diff(w,y)/x + 2*y*diff(z, x)/x\n",
    "f2.show()"
   ]
  },
  {
   "cell_type": "code",
   "execution_count": 11,
   "id": "ce1f9eb8",
   "metadata": {},
   "outputs": [
    {
     "data": {
      "text/html": [
       "<html><script type=\"math/tex; mode=display\">\\newcommand{\\Bold}[1]{\\mathbf{#1}}-\\frac{2 \\, x \\frac{\\partial^{2}}{(\\partial x)^{2}}z\\left(x, y\\right)}{y} - \\frac{x \\frac{\\partial}{\\partial x}w\\left(x, y\\right)}{y^{2}} + \\frac{\\partial^{2}}{\\partial x\\partial y}w\\left(x, y\\right)</script></html>"
      ],
      "text/latex": [
       "\\begin{math}\n",
       "\\newcommand{\\Bold}[1]{\\mathbf{#1}}-\\frac{2 \\, x \\frac{\\partial^{2}}{(\\partial x)^{2}}z\\left(x, y\\right)}{y} - \\frac{x \\frac{\\partial}{\\partial x}w\\left(x, y\\right)}{y^{2}} + \\frac{\\partial^{2}}{\\partial x\\partial y}w\\left(x, y\\right)\n",
       "\\end{math}"
      ],
      "text/plain": [
       "-2*x*diff(z(x, y), x, x)/y - x*diff(w(x, y), x)/y^2 + diff(w(x, y), x, y)"
      ]
     },
     "metadata": {},
     "output_type": "display_data"
    }
   ],
   "source": [
    "f3 = diff(w, x,y) - 2*x*diff(z, x,2)/y - x*diff(w,x)/y**2\n",
    "f3.show()"
   ]
  },
  {
   "cell_type": "code",
   "execution_count": 12,
   "id": "2b07c8d4",
   "metadata": {},
   "outputs": [
    {
     "data": {
      "text/html": [
       "<html><script type=\"math/tex; mode=display\">\\newcommand{\\Bold}[1]{\\mathbf{#1}}\\frac{x \\frac{\\partial}{\\partial y}z\\left(x, y\\right)}{y} - \\frac{\\frac{\\partial}{\\partial x}w\\left(x, y\\right)}{y} + \\frac{\\frac{\\partial}{\\partial y}w\\left(x, y\\right)}{2 \\, y} - \\frac{w\\left(x, y\\right)}{2 \\, y^{2}} + \\frac{\\partial^{2}}{\\partial x\\partial y}w\\left(x, y\\right) + \\frac{\\partial^{2}}{\\partial x\\partial y}z\\left(x, y\\right)</script></html>"
      ],
      "text/latex": [
       "\\begin{math}\n",
       "\\newcommand{\\Bold}[1]{\\mathbf{#1}}\\frac{x \\frac{\\partial}{\\partial y}z\\left(x, y\\right)}{y} - \\frac{\\frac{\\partial}{\\partial x}w\\left(x, y\\right)}{y} + \\frac{\\frac{\\partial}{\\partial y}w\\left(x, y\\right)}{2 \\, y} - \\frac{w\\left(x, y\\right)}{2 \\, y^{2}} + \\frac{\\partial^{2}}{\\partial x\\partial y}w\\left(x, y\\right) + \\frac{\\partial^{2}}{\\partial x\\partial y}z\\left(x, y\\right)\n",
       "\\end{math}"
      ],
      "text/plain": [
       "x*diff(z(x, y), y)/y - diff(w(x, y), x)/y + 1/2*diff(w(x, y), y)/y - 1/2*w(x, y)/y^2 + diff(w(x, y), x, y) + diff(z(x, y), x, y)"
      ]
     },
     "metadata": {},
     "output_type": "display_data"
    }
   ],
   "source": [
    "f4 = diff(w, x,y) + diff(z, x,y) + diff(w, y)/(2*y) - diff(w,x)/y + x* diff(z, y)/y - w(x,y)/(2*y**2)\n",
    "f4.show()"
   ]
  },
  {
   "cell_type": "code",
   "execution_count": 13,
   "id": "53b11657",
   "metadata": {},
   "outputs": [
    {
     "data": {
      "text/html": [
       "<html><script type=\"math/tex; mode=display\">\\newcommand{\\Bold}[1]{\\mathbf{#1}}-\\frac{\\frac{\\partial}{\\partial y}w\\left(x, y\\right)}{y} + \\frac{w\\left(x, y\\right)}{y^{2}} + \\frac{\\partial^{2}}{(\\partial y)^{2}}w\\left(x, y\\right) + \\frac{\\partial^{2}}{\\partial x\\partial y}z\\left(x, y\\right)</script></html>"
      ],
      "text/latex": [
       "\\begin{math}\n",
       "\\newcommand{\\Bold}[1]{\\mathbf{#1}}-\\frac{\\frac{\\partial}{\\partial y}w\\left(x, y\\right)}{y} + \\frac{w\\left(x, y\\right)}{y^{2}} + \\frac{\\partial^{2}}{(\\partial y)^{2}}w\\left(x, y\\right) + \\frac{\\partial^{2}}{\\partial x\\partial y}z\\left(x, y\\right)\n",
       "\\end{math}"
      ],
      "text/plain": [
       "-diff(w(x, y), y)/y + w(x, y)/y^2 + diff(w(x, y), y, y) + diff(z(x, y), x, y)"
      ]
     },
     "metadata": {},
     "output_type": "display_data"
    }
   ],
   "source": [
    "f5 =diff(w,y,y) + diff(z,x,y) - diff(w, y)/y + w(x,y)/(y**2)\n",
    "f5.show()"
   ]
  },
  {
   "cell_type": "code",
   "execution_count": 14,
   "id": "0bef7bd3",
   "metadata": {},
   "outputs": [],
   "source": [
    "#f2a=f2-(y*f1/x);f2a.expand().show()"
   ]
  },
  {
   "cell_type": "code",
   "execution_count": 15,
   "id": "e246798e-590a-424f-9cd2-98bc54a71fdd",
   "metadata": {},
   "outputs": [],
   "source": [
    "f1dp=Differential_Polynomial(f1, context=ctx)\n",
    "f2dp=Differential_Polynomial(f2, context=ctx)\n",
    "f3dp=Differential_Polynomial(f3, context=ctx)\n",
    "f4dp=Differential_Polynomial(f4, context=ctx)\n",
    "f5dp=Differential_Polynomial(f5, context=ctx)"
   ]
  },
  {
   "cell_type": "code",
   "execution_count": null,
   "id": "24c16990",
   "metadata": {},
   "outputs": [],
   "source": [
    "        "
   ]
  },
  {
   "cell_type": "code",
   "execution_count": 16,
   "id": "a61a5332",
   "metadata": {},
   "outputs": [],
   "source": [
    "def JanetBasis(S, context):\n",
    "    \"\"\"List of homogenous PDE's + order context\"\"\"\n",
    "    if not isinstance(S, Iterable):\n",
    "        # bad criterion\n",
    "        S = [S]\n",
    "    S = Reorder([Differential_Polynomial(s, context) for s in S], context, ascending = True)\n",
    "    while 1:\n",
    "        S = Autoreduce (S, context)\n",
    "        #S = CompleteSystem (S, context)\n",
    "        #f = FindIntegrableConditions(S, context)\n",
    "        #c = ReduceIntegrabilityConditions(S, context)\n",
    "        #if all ([_ == 0 for _ in c]) or not c:\n",
    "        #    return S\n",
    "        #S += c\n",
    "        #S = Reorder (S, context)\n",
    "        return S[:]"
   ]
  },
  {
   "cell_type": "code",
   "execution_count": 17,
   "id": "42fa25b0",
   "metadata": {},
   "outputs": [],
   "source": [
    "checkS=JanetBasis([f3,f1,f5, f2,f4], ctx)"
   ]
  },
  {
   "cell_type": "code",
   "execution_count": 18,
   "id": "72fb0e8c",
   "metadata": {},
   "outputs": [
    {
     "data": {
      "text/html": [
       "<html><script type=\"math/tex; mode=display\">\\newcommand{\\Bold}[1]{\\mathbf{#1}}\\frac{\\partial}{\\partial y}z\\left(x, y\\right)</script></html>"
      ],
      "text/latex": [
       "\\begin{math}\n",
       "\\newcommand{\\Bold}[1]{\\mathbf{#1}}\\frac{\\partial}{\\partial y}z\\left(x, y\\right)\n",
       "\\end{math}"
      ],
      "text/plain": [
       "diff(z(x, y), y)"
      ]
     },
     "metadata": {},
     "output_type": "display_data"
    },
    {
     "data": {
      "text/html": [
       "<html><script type=\"math/tex; mode=display\">\\newcommand{\\Bold}[1]{\\mathbf{#1}}\\frac{w\\left(x, y\\right)}{2 \\, y} + \\frac{\\partial}{\\partial x}z\\left(x, y\\right)</script></html>"
      ],
      "text/latex": [
       "\\begin{math}\n",
       "\\newcommand{\\Bold}[1]{\\mathbf{#1}}\\frac{w\\left(x, y\\right)}{2 \\, y} + \\frac{\\partial}{\\partial x}z\\left(x, y\\right)\n",
       "\\end{math}"
      ],
      "text/plain": [
       "1/2*w(x, y)/y + diff(z(x, y), x)"
      ]
     },
     "metadata": {},
     "output_type": "display_data"
    },
    {
     "data": {
      "text/html": [
       "<html><script type=\"math/tex; mode=display\">\\newcommand{\\Bold}[1]{\\mathbf{#1}}-\\frac{w\\left(x, y\\right)}{y} + \\frac{\\partial}{\\partial y}w\\left(x, y\\right)</script></html>"
      ],
      "text/latex": [
       "\\begin{math}\n",
       "\\newcommand{\\Bold}[1]{\\mathbf{#1}}-\\frac{w\\left(x, y\\right)}{y} + \\frac{\\partial}{\\partial y}w\\left(x, y\\right)\n",
       "\\end{math}"
      ],
      "text/plain": [
       "-w(x, y)/y + diff(w(x, y), y)"
      ]
     },
     "metadata": {},
     "output_type": "display_data"
    },
    {
     "data": {
      "text/html": [
       "<html><script type=\"math/tex; mode=display\">\\newcommand{\\Bold}[1]{\\mathbf{#1}}\\frac{\\partial}{\\partial x}w\\left(x, y\\right)</script></html>"
      ],
      "text/latex": [
       "\\begin{math}\n",
       "\\newcommand{\\Bold}[1]{\\mathbf{#1}}\\frac{\\partial}{\\partial x}w\\left(x, y\\right)\n",
       "\\end{math}"
      ],
      "text/plain": [
       "diff(w(x, y), x)"
      ]
     },
     "metadata": {},
     "output_type": "display_data"
    }
   ],
   "source": [
    "for _ in checkS:\n",
    "    _.show()"
   ]
  },
  {
   "cell_type": "code",
   "execution_count": 24,
   "id": "04bca33f",
   "metadata": {},
   "outputs": [],
   "source": [
    "g1 = diff(z,y,y) + diff(z,y)/(2*y)"
   ]
  },
  {
   "cell_type": "code",
   "execution_count": 25,
   "id": "f66bb6c4",
   "metadata": {},
   "outputs": [],
   "source": [
    "g2 = diff(w,x,x) + 4*y*y*diff(w,y) - 8*y*y*diff(z, x) - 8*y*w(x,y)"
   ]
  },
  {
   "cell_type": "code",
   "execution_count": 26,
   "id": "7d999bb2",
   "metadata": {},
   "outputs": [],
   "source": [
    "g3 = diff(w,x,y) - diff(z,x,x)/2 - diff(w,x)/(2*y) - 6*y**2*diff(z,y)"
   ]
  },
  {
   "cell_type": "code",
   "execution_count": 27,
   "id": "d7c56f83",
   "metadata": {},
   "outputs": [],
   "source": [
    "g4 = diff(w,y,y) - 2*diff(z,x,y)- diff(w,y)/(2*y) + w(x,y)/(2*y**2)"
   ]
  },
  {
   "cell_type": "code",
   "execution_count": 30,
   "id": "eb9eadbe-12f7-422e-8fb5-2150b093fbf4",
   "metadata": {},
   "outputs": [],
   "source": [
    "checkG = JanetBasis ([g4,g2,g3,g1], ctx)"
   ]
  },
  {
   "cell_type": "code",
   "execution_count": 31,
   "id": "f227eb7c-4559-4902-8ca1-6a291944f3f9",
   "metadata": {},
   "outputs": [
    {
     "data": {
      "text/html": [
       "<html><script type=\"math/tex; mode=display\">\\newcommand{\\Bold}[1]{\\mathbf{#1}}\\frac{\\frac{\\partial}{\\partial y}z\\left(x, y\\right)}{2 \\, y} + \\frac{\\partial^{2}}{(\\partial y)^{2}}z\\left(x, y\\right)</script></html>"
      ],
      "text/latex": [
       "\\begin{math}\n",
       "\\newcommand{\\Bold}[1]{\\mathbf{#1}}\\frac{\\frac{\\partial}{\\partial y}z\\left(x, y\\right)}{2 \\, y} + \\frac{\\partial^{2}}{(\\partial y)^{2}}z\\left(x, y\\right)\n",
       "\\end{math}"
      ],
      "text/plain": [
       "1/2*diff(z(x, y), y)/y + diff(z(x, y), y, y)"
      ]
     },
     "metadata": {},
     "output_type": "display_data"
    },
    {
     "data": {
      "text/html": [
       "<html><script type=\"math/tex; mode=display\">\\newcommand{\\Bold}[1]{\\mathbf{#1}}-\\frac{\\frac{\\partial}{\\partial y}w\\left(x, y\\right)}{2 \\, y} + \\frac{w\\left(x, y\\right)}{2 \\, y^{2}} + \\frac{\\partial^{2}}{(\\partial y)^{2}}w\\left(x, y\\right) - 2 \\, \\frac{\\partial^{2}}{\\partial x\\partial y}z\\left(x, y\\right)</script></html>"
      ],
      "text/latex": [
       "\\begin{math}\n",
       "\\newcommand{\\Bold}[1]{\\mathbf{#1}}-\\frac{\\frac{\\partial}{\\partial y}w\\left(x, y\\right)}{2 \\, y} + \\frac{w\\left(x, y\\right)}{2 \\, y^{2}} + \\frac{\\partial^{2}}{(\\partial y)^{2}}w\\left(x, y\\right) - 2 \\, \\frac{\\partial^{2}}{\\partial x\\partial y}z\\left(x, y\\right)\n",
       "\\end{math}"
      ],
      "text/plain": [
       "-1/2*diff(w(x, y), y)/y + 1/2*w(x, y)/y^2 + diff(w(x, y), y, y) - 2*diff(z(x, y), x, y)"
      ]
     },
     "metadata": {},
     "output_type": "display_data"
    },
    {
     "data": {
      "text/html": [
       "<html><script type=\"math/tex; mode=display\">\\newcommand{\\Bold}[1]{\\mathbf{#1}}-6 \\, y^{2} \\frac{\\partial}{\\partial y}z\\left(x, y\\right) - \\frac{\\frac{\\partial}{\\partial x}w\\left(x, y\\right)}{2 \\, y} + \\frac{\\partial^{2}}{\\partial x\\partial y}w\\left(x, y\\right) - \\frac{1}{2} \\, \\frac{\\partial^{2}}{(\\partial x)^{2}}z\\left(x, y\\right)</script></html>"
      ],
      "text/latex": [
       "\\begin{math}\n",
       "\\newcommand{\\Bold}[1]{\\mathbf{#1}}-6 \\, y^{2} \\frac{\\partial}{\\partial y}z\\left(x, y\\right) - \\frac{\\frac{\\partial}{\\partial x}w\\left(x, y\\right)}{2 \\, y} + \\frac{\\partial^{2}}{\\partial x\\partial y}w\\left(x, y\\right) - \\frac{1}{2} \\, \\frac{\\partial^{2}}{(\\partial x)^{2}}z\\left(x, y\\right)\n",
       "\\end{math}"
      ],
      "text/plain": [
       "-6*y^2*diff(z(x, y), y) - 1/2*diff(w(x, y), x)/y + diff(w(x, y), x, y) - 1/2*diff(z(x, y), x, x)"
      ]
     },
     "metadata": {},
     "output_type": "display_data"
    },
    {
     "data": {
      "text/html": [
       "<html><script type=\"math/tex; mode=display\">\\newcommand{\\Bold}[1]{\\mathbf{#1}}4 \\, y^{2} \\frac{\\partial}{\\partial y}w\\left(x, y\\right) - 8 \\, y^{2} \\frac{\\partial}{\\partial x}z\\left(x, y\\right) - 8 \\, y w\\left(x, y\\right) + \\frac{\\partial^{2}}{(\\partial x)^{2}}w\\left(x, y\\right)</script></html>"
      ],
      "text/latex": [
       "\\begin{math}\n",
       "\\newcommand{\\Bold}[1]{\\mathbf{#1}}4 \\, y^{2} \\frac{\\partial}{\\partial y}w\\left(x, y\\right) - 8 \\, y^{2} \\frac{\\partial}{\\partial x}z\\left(x, y\\right) - 8 \\, y w\\left(x, y\\right) + \\frac{\\partial^{2}}{(\\partial x)^{2}}w\\left(x, y\\right)\n",
       "\\end{math}"
      ],
      "text/plain": [
       "4*y^2*diff(w(x, y), y) - 8*y^2*diff(z(x, y), x) - 8*y*w(x, y) + diff(w(x, y), x, x)"
      ]
     },
     "metadata": {},
     "output_type": "display_data"
    }
   ],
   "source": [
    "for _ in checkG:\n",
    "    _.show()"
   ]
  },
  {
   "cell_type": "code",
   "execution_count": null,
   "id": "46460cd5-1ceb-48e8-a96c-fcb2f21cd376",
   "metadata": {},
   "outputs": [],
   "source": []
  }
 ],
 "metadata": {
  "kernelspec": {
   "display_name": "SageMath 9.2",
   "language": "sage",
   "name": "sagemath"
  },
  "language_info": {
   "codemirror_mode": {
    "name": "ipython",
    "version": 3
   },
   "file_extension": ".py",
   "mimetype": "text/x-python",
   "name": "python",
   "nbconvert_exporter": "python",
   "pygments_lexer": "ipython3",
   "version": "3.9.2"
  },
  "toc-autonumbering": true,
  "toc-showcode": true,
  "toc-showmarkdowntxt": true,
  "toc-showtags": false
 },
 "nbformat": 4,
 "nbformat_minor": 5
}
