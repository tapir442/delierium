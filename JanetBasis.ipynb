{
 "cells": [
  {
   "cell_type": "code",
   "execution_count": 1,
   "id": "6c8f5589",
   "metadata": {},
   "outputs": [],
   "source": [
    "%display latex\n",
    "from pylie import *\n",
    "from pprint import pprint \n",
    "from collections.abc import Iterable\n",
    "import functools\n",
    "from operator import mul, sub\n",
    "from pprint import pprint\n",
    "from IPython.core.debugger import set_trace\n"
   ]
  },
  {
   "cell_type": "code",
   "execution_count": 2,
   "id": "66e7605d",
   "metadata": {},
   "outputs": [],
   "source": [
    "def reduce(e1: Differential_Polynomial,e2: Differential_Polynomial, context:Context)->Differential_Polynomial:\n",
    "    assert e2.is_monic()\n",
    "    def _order (der):\n",
    "        if der != 1:\n",
    "            ## XXX: user pylie namespace\n",
    "            return order_of_derivative(der)\n",
    "        else :\n",
    "            return [0]*len(context._independent)\n",
    "    def func(e):    \n",
    "        try:\n",
    "            return e.operator().function()\n",
    "        except AttributeError:\n",
    "            return e.operator()   \n",
    "\n",
    "    def _reduce (e, ld):\n",
    "        e2_order = _order (ld)\n",
    "        for t in e._p:\n",
    "            d = t._d\n",
    "            c = t._coeff\n",
    "            if func(ld) != func(d):\n",
    "                continue\n",
    "            e1_order = _order (d)\n",
    "            dif = [a-b for a, b in zip (e1_order, e2_order)]\n",
    "            if all (map (lambda h: h == 0, dif)) :\n",
    "                return Differential_Polynomial (e1.expression() - e2.expression() * c, context)\n",
    "            elif all (map (lambda h: h >= 0, dif)):         \n",
    "                variables_to_diff = []\n",
    "                for i in range (len(context._independent)):\n",
    "                    if dif [i] != 0:\n",
    "                        variables_to_diff.extend ([context._independent[i]]*abs(dif[i]))      \n",
    "                s  = sum([c * _._coeff * diff(_._d,  *variables_to_diff) for _ in e2._p])\n",
    "                return Differential_Polynomial (e1.expression()-s, context)\n",
    "            else:\n",
    "                pass\n",
    "        return e\n",
    "\n",
    "    _e1 = None\n",
    "    while True:\n",
    "        _e1 = _reduce (e1, e2.Lder())        \n",
    "        if _e1 == e1:\n",
    "            return e1\n",
    "        e1 = _e1\n",
    "        "
   ]
  },
  {
   "cell_type": "code",
   "execution_count": 3,
   "id": "30a3f1a4",
   "metadata": {},
   "outputs": [],
   "source": [
    "#indeterminates = (x, y) = var(\"x y\")\n",
    "#R=PolynomialRing(QQ, indeterminates)\n",
    "#z  = function (\"z\")(*indeterminates)\n",
    "#ctx = Context((z,), indeterminates)\n",
    "#print(\"*\"*70)\n",
    "#e1 = diff(z,y)-x**2/y**2*diff(z,x)-(x-y)*z(x,y)/y**2\n",
    "#e1_dp = Differential_Polynomial (e1, ctx)\n",
    "#print (e1_dp)\n",
    "#print(\"*\"*70)\n",
    "#f1 = diff(z, x) + z(x,y)/x\n",
    "#f1_dp = Differential_Polynomial (f1, ctx)\n",
    "#f1_dp.is_monic()\n",
    "#print (f1_dp)\n",
    "#print(\"*\"*70)\n",
    "#f2 = diff(z, y) + z(x,y)/y\n",
    "#f2_dp = Differential_Polynomial (f2, ctx)\n",
    "#print (f2_dp)\n",
    "#r1 = reduce (e1_dp, f1_dp, ctx)\n",
    "#r1\n",
    "#r1._orig\n",
    "#r2 = reduce (r1, f2_dp, ctx)"
   ]
  },
  {
   "cell_type": "code",
   "execution_count": 4,
   "id": "891f1a3a",
   "metadata": {},
   "outputs": [],
   "source": [
    "def Lfunc(e):\n",
    "    return e"
   ]
  },
  {
   "cell_type": "code",
   "execution_count": 5,
   "id": "1faa7ef1",
   "metadata": {},
   "outputs": [],
   "source": [
    "def Lcml(e):\n",
    "    '''Least common left multiply, p.23'''\n",
    "    return 0"
   ]
  },
  {
   "cell_type": "code",
   "execution_count": 6,
   "id": "05751cb8",
   "metadata": {},
   "outputs": [],
   "source": [
    "def Lcm(e):\n",
    "    return 0"
   ]
  },
  {
   "cell_type": "code",
   "execution_count": 7,
   "id": "a4834505",
   "metadata": {},
   "outputs": [],
   "source": [
    "def CompleteSystem(S, context):\n",
    "    return S"
   ]
  },
  {
   "cell_type": "code",
   "execution_count": 8,
   "id": "d7c74ca1",
   "metadata": {},
   "outputs": [],
   "source": [
    "def FindIntegrableConditions(S, context):\n",
    "    return S"
   ]
  },
  {
   "cell_type": "code",
   "execution_count": 9,
   "id": "4e5518d2",
   "metadata": {},
   "outputs": [],
   "source": [
    "def ReduceIntegrabilityConditions(S, context):\n",
    "    return S"
   ]
  },
  {
   "cell_type": "code",
   "execution_count": 10,
   "id": "c52a51bf",
   "metadata": {},
   "outputs": [],
   "source": [
    "\n",
    "def Reorder (S, context, ascending = False):\n",
    "    res=sorted(S)\n",
    "    if ascending :\n",
    "        res.reverse()\n",
    "    return res"
   ]
  },
  {
   "cell_type": "code",
   "execution_count": 11,
   "id": "4ac88ea6",
   "metadata": {},
   "outputs": [
    {
     "data": {
      "text/html": [
       "<html><script type=\"math/tex; mode=display\">\\newcommand{\\Bold}[1]{\\mathbf{#1}}-\\frac{w\\left(x, y\\right)}{y} + \\frac{x \\frac{\\partial}{\\partial y}z\\left(x, y\\right)}{2 \\, {\\left(x^{2} + y\\right)} y} + \\frac{\\partial}{\\partial y}w\\left(x, y\\right)</script></html>"
      ],
      "text/latex": [
       "\\begin{math}\n",
       "\\newcommand{\\Bold}[1]{\\mathbf{#1}}-\\frac{w\\left(x, y\\right)}{y} + \\frac{x \\frac{\\partial}{\\partial y}z\\left(x, y\\right)}{2 \\, {\\left(x^{2} + y\\right)} y} + \\frac{\\partial}{\\partial y}w\\left(x, y\\right)\n",
       "\\end{math}"
      ],
      "text/plain": [
       "-w(x, y)/y + 1/2*x*diff(z(x, y), y)/((x^2 + y)*y) + diff(w(x, y), y)"
      ]
     },
     "metadata": {},
     "output_type": "display_data"
    }
   ],
   "source": [
    "var (\"x y\")\n",
    "z = function(\"z\")(x,y)\n",
    "w = function(\"w\")(x,y)\n",
    "ctx = Context((w,z), (x,y), MatrixOrder.Mgrlex)\n",
    "f1 =diff(w, y) + x*diff(z,y)/(2*y*(x**2+y)) - w(x,y)/y\n",
    "f1.show()"
   ]
  },
  {
   "cell_type": "code",
   "execution_count": 12,
   "id": "30c9372d",
   "metadata": {},
   "outputs": [
    {
     "data": {
      "text/html": [
       "<html><script type=\"math/tex; mode=display\">\\newcommand{\\Bold}[1]{\\mathbf{#1}}\\frac{y \\frac{\\partial}{\\partial y}w\\left(x, y\\right)}{x} + \\frac{2 \\, y \\frac{\\partial}{\\partial x}z\\left(x, y\\right)}{x} + \\frac{\\partial^{2}}{\\partial x\\partial y}z\\left(x, y\\right)</script></html>"
      ],
      "text/latex": [
       "\\begin{math}\n",
       "\\newcommand{\\Bold}[1]{\\mathbf{#1}}\\frac{y \\frac{\\partial}{\\partial y}w\\left(x, y\\right)}{x} + \\frac{2 \\, y \\frac{\\partial}{\\partial x}z\\left(x, y\\right)}{x} + \\frac{\\partial^{2}}{\\partial x\\partial y}z\\left(x, y\\right)\n",
       "\\end{math}"
      ],
      "text/plain": [
       "y*diff(w(x, y), y)/x + 2*y*diff(z(x, y), x)/x + diff(z(x, y), x, y)"
      ]
     },
     "metadata": {},
     "output_type": "display_data"
    }
   ],
   "source": [
    "f2=diff(z,x,y) + y*diff(w,y)/x + 2*y*diff(z, x)/x\n",
    "f2.show()"
   ]
  },
  {
   "cell_type": "code",
   "execution_count": 13,
   "id": "ce1f9eb8",
   "metadata": {},
   "outputs": [
    {
     "data": {
      "text/html": [
       "<html><script type=\"math/tex; mode=display\">\\newcommand{\\Bold}[1]{\\mathbf{#1}}-\\frac{2 \\, x \\frac{\\partial^{2}}{(\\partial x)^{2}}z\\left(x, y\\right)}{y} - \\frac{x \\frac{\\partial}{\\partial x}w\\left(x, y\\right)}{y^{2}} + \\frac{\\partial^{2}}{\\partial x\\partial y}w\\left(x, y\\right)</script></html>"
      ],
      "text/latex": [
       "\\begin{math}\n",
       "\\newcommand{\\Bold}[1]{\\mathbf{#1}}-\\frac{2 \\, x \\frac{\\partial^{2}}{(\\partial x)^{2}}z\\left(x, y\\right)}{y} - \\frac{x \\frac{\\partial}{\\partial x}w\\left(x, y\\right)}{y^{2}} + \\frac{\\partial^{2}}{\\partial x\\partial y}w\\left(x, y\\right)\n",
       "\\end{math}"
      ],
      "text/plain": [
       "-2*x*diff(z(x, y), x, x)/y - x*diff(w(x, y), x)/y^2 + diff(w(x, y), x, y)"
      ]
     },
     "metadata": {},
     "output_type": "display_data"
    }
   ],
   "source": [
    "f3 = diff(w, x,y) - 2*x*diff(z, x,2)/y - x*diff(w,x)/y**2\n",
    "f3.show()"
   ]
  },
  {
   "cell_type": "code",
   "execution_count": 14,
   "id": "2b07c8d4",
   "metadata": {},
   "outputs": [
    {
     "data": {
      "text/html": [
       "<html><script type=\"math/tex; mode=display\">\\newcommand{\\Bold}[1]{\\mathbf{#1}}\\frac{x \\frac{\\partial}{\\partial y}z\\left(x, y\\right)}{y} - \\frac{\\frac{\\partial}{\\partial x}w\\left(x, y\\right)}{y} + \\frac{\\frac{\\partial}{\\partial y}w\\left(x, y\\right)}{2 \\, y} - \\frac{w\\left(x, y\\right)}{2 \\, y^{2}} + \\frac{\\partial^{2}}{\\partial x\\partial y}w\\left(x, y\\right) + \\frac{\\partial^{2}}{\\partial x\\partial y}z\\left(x, y\\right)</script></html>"
      ],
      "text/latex": [
       "\\begin{math}\n",
       "\\newcommand{\\Bold}[1]{\\mathbf{#1}}\\frac{x \\frac{\\partial}{\\partial y}z\\left(x, y\\right)}{y} - \\frac{\\frac{\\partial}{\\partial x}w\\left(x, y\\right)}{y} + \\frac{\\frac{\\partial}{\\partial y}w\\left(x, y\\right)}{2 \\, y} - \\frac{w\\left(x, y\\right)}{2 \\, y^{2}} + \\frac{\\partial^{2}}{\\partial x\\partial y}w\\left(x, y\\right) + \\frac{\\partial^{2}}{\\partial x\\partial y}z\\left(x, y\\right)\n",
       "\\end{math}"
      ],
      "text/plain": [
       "x*diff(z(x, y), y)/y - diff(w(x, y), x)/y + 1/2*diff(w(x, y), y)/y - 1/2*w(x, y)/y^2 + diff(w(x, y), x, y) + diff(z(x, y), x, y)"
      ]
     },
     "metadata": {},
     "output_type": "display_data"
    }
   ],
   "source": [
    "f4 = diff(w, x,y) + diff(z, x,y) + diff(w, y)/(2*y) - diff(w,x)/y + x* diff(z, y)/y - w(x,y)/(2*y**2)\n",
    "f4.show()"
   ]
  },
  {
   "cell_type": "code",
   "execution_count": 15,
   "id": "53b11657",
   "metadata": {},
   "outputs": [
    {
     "data": {
      "text/html": [
       "<html><script type=\"math/tex; mode=display\">\\newcommand{\\Bold}[1]{\\mathbf{#1}}-\\frac{\\frac{\\partial}{\\partial y}w\\left(x, y\\right)}{y} + \\frac{w\\left(x, y\\right)}{y^{2}} + \\frac{\\partial^{2}}{(\\partial y)^{2}}w\\left(x, y\\right) + \\frac{\\partial^{2}}{\\partial x\\partial y}z\\left(x, y\\right)</script></html>"
      ],
      "text/latex": [
       "\\begin{math}\n",
       "\\newcommand{\\Bold}[1]{\\mathbf{#1}}-\\frac{\\frac{\\partial}{\\partial y}w\\left(x, y\\right)}{y} + \\frac{w\\left(x, y\\right)}{y^{2}} + \\frac{\\partial^{2}}{(\\partial y)^{2}}w\\left(x, y\\right) + \\frac{\\partial^{2}}{\\partial x\\partial y}z\\left(x, y\\right)\n",
       "\\end{math}"
      ],
      "text/plain": [
       "-diff(w(x, y), y)/y + w(x, y)/y^2 + diff(w(x, y), y, y) + diff(z(x, y), x, y)"
      ]
     },
     "metadata": {},
     "output_type": "display_data"
    }
   ],
   "source": [
    "f5 =diff(w,y,y) + diff(z,x,y) - diff(w, y)/y + w(x,y)/(y**2)\n",
    "f5.show()"
   ]
  },
  {
   "cell_type": "code",
   "execution_count": 16,
   "id": "0bef7bd3",
   "metadata": {},
   "outputs": [],
   "source": [
    "#f2a=f2-(y*f1/x);f2a.expand().show()"
   ]
  },
  {
   "cell_type": "code",
   "execution_count": 17,
   "id": "a770164b",
   "metadata": {},
   "outputs": [],
   "source": [
    "f1dp=Differential_Polynomial(f1, context=ctx)\n",
    "f2dp=Differential_Polynomial(f2, context=ctx)\n",
    "f3dp=Differential_Polynomial(f3, context=ctx)\n",
    "f4dp=Differential_Polynomial(f4, context=ctx)\n",
    "f5dp=Differential_Polynomial(f5, context=ctx)"
   ]
  },
  {
   "cell_type": "code",
   "execution_count": 18,
   "id": "7c6b6085",
   "metadata": {},
   "outputs": [
    {
     "data": {
      "text/html": [
       "<html><script type=\"math/tex; mode=display\">\\newcommand{\\Bold}[1]{\\mathbf{#1}}-\\frac{w\\left(x, y\\right)}{y} + \\frac{x \\frac{\\partial}{\\partial y}z\\left(x, y\\right)}{2 \\, {\\left(x^{2} + y\\right)} y} + \\frac{\\partial}{\\partial y}w\\left(x, y\\right)</script></html>"
      ],
      "text/latex": [
       "\\begin{math}\n",
       "\\newcommand{\\Bold}[1]{\\mathbf{#1}}-\\frac{w\\left(x, y\\right)}{y} + \\frac{x \\frac{\\partial}{\\partial y}z\\left(x, y\\right)}{2 \\, {\\left(x^{2} + y\\right)} y} + \\frac{\\partial}{\\partial y}w\\left(x, y\\right)\n",
       "\\end{math}"
      ],
      "text/plain": [
       "-w(x, y)/y + 1/2*x*diff(z(x, y), y)/((x^2 + y)*y) + diff(w(x, y), y)"
      ]
     },
     "metadata": {},
     "output_type": "display_data"
    },
    {
     "data": {
      "text/html": [
       "<html><script type=\"math/tex; mode=display\">\\newcommand{\\Bold}[1]{\\mathbf{#1}}\\frac{y \\frac{\\partial}{\\partial y}w\\left(x, y\\right)}{x} + \\frac{2 \\, y \\frac{\\partial}{\\partial x}z\\left(x, y\\right)}{x} + \\frac{\\partial^{2}}{\\partial x\\partial y}z\\left(x, y\\right)</script></html>"
      ],
      "text/latex": [
       "\\begin{math}\n",
       "\\newcommand{\\Bold}[1]{\\mathbf{#1}}\\frac{y \\frac{\\partial}{\\partial y}w\\left(x, y\\right)}{x} + \\frac{2 \\, y \\frac{\\partial}{\\partial x}z\\left(x, y\\right)}{x} + \\frac{\\partial^{2}}{\\partial x\\partial y}z\\left(x, y\\right)\n",
       "\\end{math}"
      ],
      "text/plain": [
       "y*diff(w(x, y), y)/x + 2*y*diff(z(x, y), x)/x + diff(z(x, y), x, y)"
      ]
     },
     "metadata": {},
     "output_type": "display_data"
    },
    {
     "data": {
      "text/html": [
       "<html><script type=\"math/tex; mode=display\">\\newcommand{\\Bold}[1]{\\mathbf{#1}}\\frac{2 \\, y \\frac{\\partial}{\\partial x}z\\left(x, y\\right)}{x} + \\frac{w\\left(x, y\\right)}{x} - \\frac{\\frac{\\partial}{\\partial y}z\\left(x, y\\right)}{2 \\, {\\left(x^{2} + y\\right)}} + \\frac{\\partial^{2}}{\\partial x\\partial y}z\\left(x, y\\right)</script></html>"
      ],
      "text/latex": [
       "\\begin{math}\n",
       "\\newcommand{\\Bold}[1]{\\mathbf{#1}}\\frac{2 \\, y \\frac{\\partial}{\\partial x}z\\left(x, y\\right)}{x} + \\frac{w\\left(x, y\\right)}{x} - \\frac{\\frac{\\partial}{\\partial y}z\\left(x, y\\right)}{2 \\, {\\left(x^{2} + y\\right)}} + \\frac{\\partial^{2}}{\\partial x\\partial y}z\\left(x, y\\right)\n",
       "\\end{math}"
      ],
      "text/plain": [
       "2*y*diff(z(x, y), x)/x + w(x, y)/x - 1/2*diff(z(x, y), y)/(x^2 + y) + diff(z(x, y), x, y)"
      ]
     },
     "metadata": {},
     "output_type": "display_data"
    }
   ],
   "source": [
    "f1.show()\n",
    "f2.show()\n",
    "cf2a=reduce(f2dp, f1dp, ctx)\n",
    "cf2a.show()"
   ]
  },
  {
   "cell_type": "code",
   "execution_count": 19,
   "id": "48a6b7a1",
   "metadata": {},
   "outputs": [
    {
     "data": {
      "text/html": [
       "<html><script type=\"math/tex; mode=display\">\\newcommand{\\Bold}[1]{\\mathbf{#1}}\\frac{y \\frac{\\partial}{\\partial y}w\\left(x, y\\right)}{x} - \\frac{y \\frac{\\partial^{2}}{(\\partial y)^{2}}w\\left(x, y\\right)}{x} + \\frac{2 \\, y \\frac{\\partial}{\\partial x}z\\left(x, y\\right)}{x} + \\frac{\\frac{\\partial}{\\partial y}w\\left(x, y\\right)}{x} + \\frac{\\frac{\\partial}{\\partial y}z\\left(x, y\\right)}{2 \\, {\\left(x^{4} + 2 \\, x^{2} y + y^{2}\\right)}} - \\frac{\\frac{\\partial^{2}}{(\\partial y)^{2}}z\\left(x, y\\right)}{2 \\, {\\left(x^{2} + y\\right)}} - \\frac{w\\left(x, y\\right)}{x y} + \\frac{\\frac{\\partial}{\\partial y}z\\left(x, y\\right)}{2 \\, {\\left(x^{2} + y\\right)} y} + \\frac{\\partial^{2}}{\\partial x\\partial y}z\\left(x, y\\right)</script></html>"
      ],
      "text/latex": [
       "\\begin{math}\n",
       "\\newcommand{\\Bold}[1]{\\mathbf{#1}}\\frac{y \\frac{\\partial}{\\partial y}w\\left(x, y\\right)}{x} - \\frac{y \\frac{\\partial^{2}}{(\\partial y)^{2}}w\\left(x, y\\right)}{x} + \\frac{2 \\, y \\frac{\\partial}{\\partial x}z\\left(x, y\\right)}{x} + \\frac{\\frac{\\partial}{\\partial y}w\\left(x, y\\right)}{x} + \\frac{\\frac{\\partial}{\\partial y}z\\left(x, y\\right)}{2 \\, {\\left(x^{4} + 2 \\, x^{2} y + y^{2}\\right)}} - \\frac{\\frac{\\partial^{2}}{(\\partial y)^{2}}z\\left(x, y\\right)}{2 \\, {\\left(x^{2} + y\\right)}} - \\frac{w\\left(x, y\\right)}{x y} + \\frac{\\frac{\\partial}{\\partial y}z\\left(x, y\\right)}{2 \\, {\\left(x^{2} + y\\right)} y} + \\frac{\\partial^{2}}{\\partial x\\partial y}z\\left(x, y\\right)\n",
       "\\end{math}"
      ],
      "text/plain": [
       "y*diff(w(x, y), y)/x - y*diff(w(x, y), y, y)/x + 2*y*diff(z(x, y), x)/x + diff(w(x, y), y)/x + 1/2*diff(z(x, y), y)/(x^4 + 2*x^2*y + y^2) - 1/2*diff(z(x, y), y, y)/(x^2 + y) - w(x, y)/(x*y) + 1/2*diff(z(x, y), y)/((x^2 + y)*y) + diff(z(x, y), x, y)"
      ]
     },
     "metadata": {},
     "output_type": "display_data"
    },
    {
     "data": {
      "text/html": [
       "<html><script type=\"math/tex; mode=display\">\\newcommand{\\Bold}[1]{\\mathbf{#1}}-\\frac{{\\left(y + 1\\right)} \\frac{\\partial}{\\partial y}w\\left(x, y\\right)}{y} - \\frac{x \\frac{\\partial^{2}}{\\partial x\\partial y}z\\left(x, y\\right)}{y} - \\frac{{\\left(x^{3} + 2 \\, x y\\right)} \\frac{\\partial}{\\partial y}z\\left(x, y\\right)}{2 \\, {\\left(x^{4} y^{2} + 2 \\, x^{2} y^{3} + y^{4}\\right)}} + \\frac{x \\frac{\\partial^{2}}{(\\partial y)^{2}}z\\left(x, y\\right)}{2 \\, {\\left(x^{2} y + y^{2}\\right)}} + \\frac{w\\left(x, y\\right)}{y^{2}} + \\frac{\\partial^{2}}{(\\partial y)^{2}}w\\left(x, y\\right) - 2 \\, \\frac{\\partial}{\\partial x}z\\left(x, y\\right)</script></html>"
      ],
      "text/latex": [
       "\\begin{math}\n",
       "\\newcommand{\\Bold}[1]{\\mathbf{#1}}-\\frac{{\\left(y + 1\\right)} \\frac{\\partial}{\\partial y}w\\left(x, y\\right)}{y} - \\frac{x \\frac{\\partial^{2}}{\\partial x\\partial y}z\\left(x, y\\right)}{y} - \\frac{{\\left(x^{3} + 2 \\, x y\\right)} \\frac{\\partial}{\\partial y}z\\left(x, y\\right)}{2 \\, {\\left(x^{4} y^{2} + 2 \\, x^{2} y^{3} + y^{4}\\right)}} + \\frac{x \\frac{\\partial^{2}}{(\\partial y)^{2}}z\\left(x, y\\right)}{2 \\, {\\left(x^{2} y + y^{2}\\right)}} + \\frac{w\\left(x, y\\right)}{y^{2}} + \\frac{\\partial^{2}}{(\\partial y)^{2}}w\\left(x, y\\right) - 2 \\, \\frac{\\partial}{\\partial x}z\\left(x, y\\right)\n",
       "\\end{math}"
      ],
      "text/plain": [
       "-(y + 1)*diff(w(x, y), y)/y - x*diff(z(x, y), x, y)/y - 1/2*(x^3 + 2*x*y)*diff(z(x, y), y)/(x^4*y^2 + 2*x^2*y^3 + y^4) + 1/2*x*diff(z(x, y), y, y)/(x^2*y + y^2) + w(x, y)/y^2 + diff(w(x, y), y, y) - 2*diff(z(x, y), x)"
      ]
     },
     "metadata": {},
     "output_type": "display_data"
    }
   ],
   "source": [
    "(f2 - diff(f1, y) * y/x).expand().show()\n",
    "cf=Differential_Polynomial((f2 - diff(f1, y) * y/x).expand(),ctx)\n",
    "cf.show()"
   ]
  },
  {
   "cell_type": "code",
   "execution_count": 20,
   "id": "0d6f8a82",
   "metadata": {},
   "outputs": [
    {
     "data": {
      "text/html": [
       "<html><script type=\"math/tex; mode=display\">\\newcommand{\\Bold}[1]{\\mathbf{#1}}-\\frac{1}{2} \\, {\\left(\\frac{x}{{\\left(x^{2} + y\\right)} y^{2}} + \\frac{x}{{\\left(x^{2} + y\\right)}^{2} y}\\right)} \\frac{\\partial}{\\partial y}z\\left(x, y\\right) - \\frac{\\frac{\\partial}{\\partial y}w\\left(x, y\\right)}{y} + \\frac{x \\frac{\\partial^{2}}{(\\partial y)^{2}}z\\left(x, y\\right)}{2 \\, {\\left(x^{2} + y\\right)} y} + \\frac{w\\left(x, y\\right)}{y^{2}} + \\frac{\\partial^{2}}{(\\partial y)^{2}}w\\left(x, y\\right)</script></html>"
      ],
      "text/latex": [
       "\\begin{math}\n",
       "\\newcommand{\\Bold}[1]{\\mathbf{#1}}-\\frac{1}{2} \\, {\\left(\\frac{x}{{\\left(x^{2} + y\\right)} y^{2}} + \\frac{x}{{\\left(x^{2} + y\\right)}^{2} y}\\right)} \\frac{\\partial}{\\partial y}z\\left(x, y\\right) - \\frac{\\frac{\\partial}{\\partial y}w\\left(x, y\\right)}{y} + \\frac{x \\frac{\\partial^{2}}{(\\partial y)^{2}}z\\left(x, y\\right)}{2 \\, {\\left(x^{2} + y\\right)} y} + \\frac{w\\left(x, y\\right)}{y^{2}} + \\frac{\\partial^{2}}{(\\partial y)^{2}}w\\left(x, y\\right)\n",
       "\\end{math}"
      ],
      "text/plain": [
       "-1/2*(x/((x^2 + y)*y^2) + x/((x^2 + y)^2*y))*diff(z(x, y), y) - diff(w(x, y), y)/y + 1/2*x*diff(z(x, y), y, y)/((x^2 + y)*y) + w(x, y)/y^2 + diff(w(x, y), y, y)"
      ]
     },
     "execution_count": 20,
     "metadata": {},
     "output_type": "execute_result"
    }
   ],
   "source": [
    "diff (f1,y).collect(diff(z, y))"
   ]
  },
  {
   "cell_type": "code",
   "execution_count": 21,
   "id": "8e975365",
   "metadata": {},
   "outputs": [
    {
     "data": {
      "text/html": [
       "<html><script type=\"math/tex; mode=display\">\\newcommand{\\Bold}[1]{\\mathbf{#1}}-\\frac{{\\left(y + 1\\right)} \\frac{\\partial}{\\partial y}w\\left(x, y\\right)}{y} - \\frac{x \\frac{\\partial^{2}}{\\partial x\\partial y}z\\left(x, y\\right)}{y} - \\frac{{\\left(x^{3} + 2 \\, x y\\right)} \\frac{\\partial}{\\partial y}z\\left(x, y\\right)}{2 \\, {\\left(x^{4} y^{2} + 2 \\, x^{2} y^{3} + y^{4}\\right)}} + \\frac{x \\frac{\\partial^{2}}{(\\partial y)^{2}}z\\left(x, y\\right)}{2 \\, {\\left(x^{2} y + y^{2}\\right)}} + \\frac{w\\left(x, y\\right)}{y^{2}} + \\frac{\\partial^{2}}{(\\partial y)^{2}}w\\left(x, y\\right) - 2 \\, \\frac{\\partial}{\\partial x}z\\left(x, y\\right)</script></html>"
      ],
      "text/latex": [
       "\\begin{math}\n",
       "\\newcommand{\\Bold}[1]{\\mathbf{#1}}-\\frac{{\\left(y + 1\\right)} \\frac{\\partial}{\\partial y}w\\left(x, y\\right)}{y} - \\frac{x \\frac{\\partial^{2}}{\\partial x\\partial y}z\\left(x, y\\right)}{y} - \\frac{{\\left(x^{3} + 2 \\, x y\\right)} \\frac{\\partial}{\\partial y}z\\left(x, y\\right)}{2 \\, {\\left(x^{4} y^{2} + 2 \\, x^{2} y^{3} + y^{4}\\right)}} + \\frac{x \\frac{\\partial^{2}}{(\\partial y)^{2}}z\\left(x, y\\right)}{2 \\, {\\left(x^{2} y + y^{2}\\right)}} + \\frac{w\\left(x, y\\right)}{y^{2}} + \\frac{\\partial^{2}}{(\\partial y)^{2}}w\\left(x, y\\right) - 2 \\, \\frac{\\partial}{\\partial x}z\\left(x, y\\right)\n",
       "\\end{math}"
      ],
      "text/plain": [
       "-(y + 1)*diff(w(x, y), y)/y - x*diff(z(x, y), x, y)/y - 1/2*(x^3 + 2*x*y)*diff(z(x, y), y)/(x^4*y^2 + 2*x^2*y^3 + y^4) + 1/2*x*diff(z(x, y), y, y)/(x^2*y + y^2) + w(x, y)/y^2 + diff(w(x, y), y, y) - 2*diff(z(x, y), x)"
      ]
     },
     "metadata": {},
     "output_type": "display_data"
    }
   ],
   "source": [
    "(f2 - diff(f1, y) * y/x).expand()\n",
    "cf=Differential_Polynomial((f2 - diff(f1, y) * y/x).expand(),ctx)\n",
    "cf.show()"
   ]
  },
  {
   "cell_type": "code",
   "execution_count": 22,
   "id": "847a3d5c",
   "metadata": {},
   "outputs": [
    {
     "data": {
      "text/html": [
       "<html><script type=\"math/tex; mode=display\">\\newcommand{\\Bold}[1]{\\mathbf{#1}}\\frac{2 \\, y \\frac{\\partial}{\\partial x}z\\left(x, y\\right)}{x} + \\frac{w\\left(x, y\\right)}{x} - \\frac{\\frac{\\partial}{\\partial y}z\\left(x, y\\right)}{2 \\, {\\left(x^{2} + y\\right)}} + \\frac{\\partial^{2}}{\\partial x\\partial y}z\\left(x, y\\right)</script></html>"
      ],
      "text/latex": [
       "\\begin{math}\n",
       "\\newcommand{\\Bold}[1]{\\mathbf{#1}}\\frac{2 \\, y \\frac{\\partial}{\\partial x}z\\left(x, y\\right)}{x} + \\frac{w\\left(x, y\\right)}{x} - \\frac{\\frac{\\partial}{\\partial y}z\\left(x, y\\right)}{2 \\, {\\left(x^{2} + y\\right)}} + \\frac{\\partial^{2}}{\\partial x\\partial y}z\\left(x, y\\right)\n",
       "\\end{math}"
      ],
      "text/plain": [
       "2*y*diff(z(x, y), x)/x + w(x, y)/x - 1/2*diff(z(x, y), y)/(x^2 + y) + diff(z(x, y), x, y)"
      ]
     },
     "metadata": {},
     "output_type": "display_data"
    }
   ],
   "source": [
    "cf2a.expression().expand().collect(diff(w,y)).collect(w(x,y)).show()"
   ]
  },
  {
   "cell_type": "code",
   "execution_count": 23,
   "id": "24c16990",
   "metadata": {},
   "outputs": [],
   "source": [
    "def Autoreduce(S, context):  \n",
    "    i = 0\n",
    "    while True:\n",
    "        p = S[i]\n",
    "        r = S[i+1:]\n",
    "        if not r:\n",
    "            S = Reorder(S, context, ascending = True)\n",
    "            return S[:]  \n",
    "        #set_trace ()\n",
    "        print (\"=====================================================\", len(r))\n",
    "        have_reduced = False\n",
    "        #set_trace()\n",
    "        checkidx = i+1\n",
    "        for _r in r:\n",
    "            #print (\"Try to reduce {} with {}\".format(S[checkidx], S[i].Lder()))\n",
    "            res = reduce (_r, p, context)\n",
    "            if res != _r:\n",
    "                have_reduced = True                \n",
    "            S[checkidx] = res\n",
    "            checkidx += 1\n",
    "        #print(\"This is the new System before reorder\")   \n",
    "        #for _ in S:          \n",
    "        #    _.show()\n",
    "        S = Reorder(S, context, ascending = True)\n",
    "        print(\"This is the new System........\")\n",
    "        for _ in S:          \n",
    "            _.show()\n",
    "        if not have_reduced:\n",
    "            # no reduction done\n",
    "            i += 1        \n",
    "        else:\n",
    "            i = 0\n",
    "            "
   ]
  },
  {
   "cell_type": "code",
   "execution_count": 24,
   "id": "a61a5332",
   "metadata": {},
   "outputs": [],
   "source": [
    "def JanetBasis(S, context):\n",
    "    \"\"\"List of homogenous PDE's + order context\"\"\"\n",
    "    if not isinstance(S, Iterable):\n",
    "        # bad criterion\n",
    "        S = [S]\n",
    "    S = [Differential_Polynomial(s, context) for s in S]\n",
    "    for _ in S:\n",
    "        _.show()\n",
    "    print (\"....................................\")\n",
    "    S = Reorder(S, context, ascending = True)\n",
    "    for _ in S:\n",
    "        _.show()\n",
    "    while 1:\n",
    "        S = Autoreduce (S, context)\n",
    "        #S = CompleteSystem (S, context)\n",
    "        #f = FindIntegrableConditions(S, context)\n",
    "        #c = ReduceIntegrabilityConditions(S, context)\n",
    "        #if all ([_ == 0 for _ in c]) or not c:\n",
    "        #    return S\n",
    "        #S += c\n",
    "        #S = Reorder (S, context)\n",
    "        return S[:]"
   ]
  },
  {
   "cell_type": "code",
   "execution_count": 25,
   "id": "42fa25b0",
   "metadata": {},
   "outputs": [
    {
     "data": {
      "text/html": [
       "<html><script type=\"math/tex; mode=display\">\\newcommand{\\Bold}[1]{\\mathbf{#1}}-\\frac{2 \\, x \\frac{\\partial^{2}}{(\\partial x)^{2}}z\\left(x, y\\right)}{y} - \\frac{x \\frac{\\partial}{\\partial x}w\\left(x, y\\right)}{y^{2}} + \\frac{\\partial^{2}}{\\partial x\\partial y}w\\left(x, y\\right)</script></html>"
      ],
      "text/latex": [
       "\\begin{math}\n",
       "\\newcommand{\\Bold}[1]{\\mathbf{#1}}-\\frac{2 \\, x \\frac{\\partial^{2}}{(\\partial x)^{2}}z\\left(x, y\\right)}{y} - \\frac{x \\frac{\\partial}{\\partial x}w\\left(x, y\\right)}{y^{2}} + \\frac{\\partial^{2}}{\\partial x\\partial y}w\\left(x, y\\right)\n",
       "\\end{math}"
      ],
      "text/plain": [
       "-2*x*diff(z(x, y), x, x)/y - x*diff(w(x, y), x)/y^2 + diff(w(x, y), x, y)"
      ]
     },
     "metadata": {},
     "output_type": "display_data"
    },
    {
     "data": {
      "text/html": [
       "<html><script type=\"math/tex; mode=display\">\\newcommand{\\Bold}[1]{\\mathbf{#1}}\\frac{x \\frac{\\partial}{\\partial y}z\\left(x, y\\right)}{2 \\, {\\left(x^{2} y + y^{2}\\right)}} - \\frac{w\\left(x, y\\right)}{y} + \\frac{\\partial}{\\partial y}w\\left(x, y\\right)</script></html>"
      ],
      "text/latex": [
       "\\begin{math}\n",
       "\\newcommand{\\Bold}[1]{\\mathbf{#1}}\\frac{x \\frac{\\partial}{\\partial y}z\\left(x, y\\right)}{2 \\, {\\left(x^{2} y + y^{2}\\right)}} - \\frac{w\\left(x, y\\right)}{y} + \\frac{\\partial}{\\partial y}w\\left(x, y\\right)\n",
       "\\end{math}"
      ],
      "text/plain": [
       "1/2*x*diff(z(x, y), y)/(x^2*y + y^2) - w(x, y)/y + diff(w(x, y), y)"
      ]
     },
     "metadata": {},
     "output_type": "display_data"
    },
    {
     "data": {
      "text/html": [
       "<html><script type=\"math/tex; mode=display\">\\newcommand{\\Bold}[1]{\\mathbf{#1}}-\\frac{\\frac{\\partial}{\\partial y}w\\left(x, y\\right)}{y} + \\frac{w\\left(x, y\\right)}{y^{2}} + \\frac{\\partial^{2}}{(\\partial y)^{2}}w\\left(x, y\\right) + \\frac{\\partial^{2}}{\\partial x\\partial y}z\\left(x, y\\right)</script></html>"
      ],
      "text/latex": [
       "\\begin{math}\n",
       "\\newcommand{\\Bold}[1]{\\mathbf{#1}}-\\frac{\\frac{\\partial}{\\partial y}w\\left(x, y\\right)}{y} + \\frac{w\\left(x, y\\right)}{y^{2}} + \\frac{\\partial^{2}}{(\\partial y)^{2}}w\\left(x, y\\right) + \\frac{\\partial^{2}}{\\partial x\\partial y}z\\left(x, y\\right)\n",
       "\\end{math}"
      ],
      "text/plain": [
       "-diff(w(x, y), y)/y + w(x, y)/y^2 + diff(w(x, y), y, y) + diff(z(x, y), x, y)"
      ]
     },
     "metadata": {},
     "output_type": "display_data"
    },
    {
     "data": {
      "text/html": [
       "<html><script type=\"math/tex; mode=display\">\\newcommand{\\Bold}[1]{\\mathbf{#1}}\\frac{y \\frac{\\partial}{\\partial y}w\\left(x, y\\right)}{x} + \\frac{2 \\, y \\frac{\\partial}{\\partial x}z\\left(x, y\\right)}{x} + \\frac{\\partial^{2}}{\\partial x\\partial y}z\\left(x, y\\right)</script></html>"
      ],
      "text/latex": [
       "\\begin{math}\n",
       "\\newcommand{\\Bold}[1]{\\mathbf{#1}}\\frac{y \\frac{\\partial}{\\partial y}w\\left(x, y\\right)}{x} + \\frac{2 \\, y \\frac{\\partial}{\\partial x}z\\left(x, y\\right)}{x} + \\frac{\\partial^{2}}{\\partial x\\partial y}z\\left(x, y\\right)\n",
       "\\end{math}"
      ],
      "text/plain": [
       "y*diff(w(x, y), y)/x + 2*y*diff(z(x, y), x)/x + diff(z(x, y), x, y)"
      ]
     },
     "metadata": {},
     "output_type": "display_data"
    },
    {
     "data": {
      "text/html": [
       "<html><script type=\"math/tex; mode=display\">\\newcommand{\\Bold}[1]{\\mathbf{#1}}\\frac{x \\frac{\\partial}{\\partial y}z\\left(x, y\\right)}{y} - \\frac{\\frac{\\partial}{\\partial x}w\\left(x, y\\right)}{y} + \\frac{\\frac{\\partial}{\\partial y}w\\left(x, y\\right)}{2 \\, y} - \\frac{w\\left(x, y\\right)}{2 \\, y^{2}} + \\frac{\\partial^{2}}{\\partial x\\partial y}w\\left(x, y\\right) + \\frac{\\partial^{2}}{\\partial x\\partial y}z\\left(x, y\\right)</script></html>"
      ],
      "text/latex": [
       "\\begin{math}\n",
       "\\newcommand{\\Bold}[1]{\\mathbf{#1}}\\frac{x \\frac{\\partial}{\\partial y}z\\left(x, y\\right)}{y} - \\frac{\\frac{\\partial}{\\partial x}w\\left(x, y\\right)}{y} + \\frac{\\frac{\\partial}{\\partial y}w\\left(x, y\\right)}{2 \\, y} - \\frac{w\\left(x, y\\right)}{2 \\, y^{2}} + \\frac{\\partial^{2}}{\\partial x\\partial y}w\\left(x, y\\right) + \\frac{\\partial^{2}}{\\partial x\\partial y}z\\left(x, y\\right)\n",
       "\\end{math}"
      ],
      "text/plain": [
       "x*diff(z(x, y), y)/y - diff(w(x, y), x)/y + 1/2*diff(w(x, y), y)/y - 1/2*w(x, y)/y^2 + diff(w(x, y), x, y) + diff(z(x, y), x, y)"
      ]
     },
     "metadata": {},
     "output_type": "display_data"
    },
    {
     "name": "stdout",
     "output_type": "stream",
     "text": [
      "....................................\n"
     ]
    },
    {
     "data": {
      "text/html": [
       "<html><script type=\"math/tex; mode=display\">\\newcommand{\\Bold}[1]{\\mathbf{#1}}\\frac{x \\frac{\\partial}{\\partial y}z\\left(x, y\\right)}{2 \\, {\\left(x^{2} y + y^{2}\\right)}} - \\frac{w\\left(x, y\\right)}{y} + \\frac{\\partial}{\\partial y}w\\left(x, y\\right)</script></html>"
      ],
      "text/latex": [
       "\\begin{math}\n",
       "\\newcommand{\\Bold}[1]{\\mathbf{#1}}\\frac{x \\frac{\\partial}{\\partial y}z\\left(x, y\\right)}{2 \\, {\\left(x^{2} y + y^{2}\\right)}} - \\frac{w\\left(x, y\\right)}{y} + \\frac{\\partial}{\\partial y}w\\left(x, y\\right)\n",
       "\\end{math}"
      ],
      "text/plain": [
       "1/2*x*diff(z(x, y), y)/(x^2*y + y^2) - w(x, y)/y + diff(w(x, y), y)"
      ]
     },
     "metadata": {},
     "output_type": "display_data"
    },
    {
     "data": {
      "text/html": [
       "<html><script type=\"math/tex; mode=display\">\\newcommand{\\Bold}[1]{\\mathbf{#1}}\\frac{y \\frac{\\partial}{\\partial y}w\\left(x, y\\right)}{x} + \\frac{2 \\, y \\frac{\\partial}{\\partial x}z\\left(x, y\\right)}{x} + \\frac{\\partial^{2}}{\\partial x\\partial y}z\\left(x, y\\right)</script></html>"
      ],
      "text/latex": [
       "\\begin{math}\n",
       "\\newcommand{\\Bold}[1]{\\mathbf{#1}}\\frac{y \\frac{\\partial}{\\partial y}w\\left(x, y\\right)}{x} + \\frac{2 \\, y \\frac{\\partial}{\\partial x}z\\left(x, y\\right)}{x} + \\frac{\\partial^{2}}{\\partial x\\partial y}z\\left(x, y\\right)\n",
       "\\end{math}"
      ],
      "text/plain": [
       "y*diff(w(x, y), y)/x + 2*y*diff(z(x, y), x)/x + diff(z(x, y), x, y)"
      ]
     },
     "metadata": {},
     "output_type": "display_data"
    },
    {
     "data": {
      "text/html": [
       "<html><script type=\"math/tex; mode=display\">\\newcommand{\\Bold}[1]{\\mathbf{#1}}-\\frac{\\frac{\\partial}{\\partial y}w\\left(x, y\\right)}{y} + \\frac{w\\left(x, y\\right)}{y^{2}} + \\frac{\\partial^{2}}{(\\partial y)^{2}}w\\left(x, y\\right) + \\frac{\\partial^{2}}{\\partial x\\partial y}z\\left(x, y\\right)</script></html>"
      ],
      "text/latex": [
       "\\begin{math}\n",
       "\\newcommand{\\Bold}[1]{\\mathbf{#1}}-\\frac{\\frac{\\partial}{\\partial y}w\\left(x, y\\right)}{y} + \\frac{w\\left(x, y\\right)}{y^{2}} + \\frac{\\partial^{2}}{(\\partial y)^{2}}w\\left(x, y\\right) + \\frac{\\partial^{2}}{\\partial x\\partial y}z\\left(x, y\\right)\n",
       "\\end{math}"
      ],
      "text/plain": [
       "-diff(w(x, y), y)/y + w(x, y)/y^2 + diff(w(x, y), y, y) + diff(z(x, y), x, y)"
      ]
     },
     "metadata": {},
     "output_type": "display_data"
    },
    {
     "data": {
      "text/html": [
       "<html><script type=\"math/tex; mode=display\">\\newcommand{\\Bold}[1]{\\mathbf{#1}}\\frac{x \\frac{\\partial}{\\partial y}z\\left(x, y\\right)}{y} - \\frac{\\frac{\\partial}{\\partial x}w\\left(x, y\\right)}{y} + \\frac{\\frac{\\partial}{\\partial y}w\\left(x, y\\right)}{2 \\, y} - \\frac{w\\left(x, y\\right)}{2 \\, y^{2}} + \\frac{\\partial^{2}}{\\partial x\\partial y}w\\left(x, y\\right) + \\frac{\\partial^{2}}{\\partial x\\partial y}z\\left(x, y\\right)</script></html>"
      ],
      "text/latex": [
       "\\begin{math}\n",
       "\\newcommand{\\Bold}[1]{\\mathbf{#1}}\\frac{x \\frac{\\partial}{\\partial y}z\\left(x, y\\right)}{y} - \\frac{\\frac{\\partial}{\\partial x}w\\left(x, y\\right)}{y} + \\frac{\\frac{\\partial}{\\partial y}w\\left(x, y\\right)}{2 \\, y} - \\frac{w\\left(x, y\\right)}{2 \\, y^{2}} + \\frac{\\partial^{2}}{\\partial x\\partial y}w\\left(x, y\\right) + \\frac{\\partial^{2}}{\\partial x\\partial y}z\\left(x, y\\right)\n",
       "\\end{math}"
      ],
      "text/plain": [
       "x*diff(z(x, y), y)/y - diff(w(x, y), x)/y + 1/2*diff(w(x, y), y)/y - 1/2*w(x, y)/y^2 + diff(w(x, y), x, y) + diff(z(x, y), x, y)"
      ]
     },
     "metadata": {},
     "output_type": "display_data"
    },
    {
     "data": {
      "text/html": [
       "<html><script type=\"math/tex; mode=display\">\\newcommand{\\Bold}[1]{\\mathbf{#1}}-\\frac{2 \\, x \\frac{\\partial^{2}}{(\\partial x)^{2}}z\\left(x, y\\right)}{y} - \\frac{x \\frac{\\partial}{\\partial x}w\\left(x, y\\right)}{y^{2}} + \\frac{\\partial^{2}}{\\partial x\\partial y}w\\left(x, y\\right)</script></html>"
      ],
      "text/latex": [
       "\\begin{math}\n",
       "\\newcommand{\\Bold}[1]{\\mathbf{#1}}-\\frac{2 \\, x \\frac{\\partial^{2}}{(\\partial x)^{2}}z\\left(x, y\\right)}{y} - \\frac{x \\frac{\\partial}{\\partial x}w\\left(x, y\\right)}{y^{2}} + \\frac{\\partial^{2}}{\\partial x\\partial y}w\\left(x, y\\right)\n",
       "\\end{math}"
      ],
      "text/plain": [
       "-2*x*diff(z(x, y), x, x)/y - x*diff(w(x, y), x)/y^2 + diff(w(x, y), x, y)"
      ]
     },
     "metadata": {},
     "output_type": "display_data"
    },
    {
     "name": "stdout",
     "output_type": "stream",
     "text": [
      "===================================================== 4\n",
      "This is the new System........\n"
     ]
    },
    {
     "data": {
      "text/html": [
       "<html><script type=\"math/tex; mode=display\">\\newcommand{\\Bold}[1]{\\mathbf{#1}}\\frac{x \\frac{\\partial}{\\partial y}z\\left(x, y\\right)}{2 \\, {\\left(x^{2} y + y^{2}\\right)}} - \\frac{w\\left(x, y\\right)}{y} + \\frac{\\partial}{\\partial y}w\\left(x, y\\right)</script></html>"
      ],
      "text/latex": [
       "\\begin{math}\n",
       "\\newcommand{\\Bold}[1]{\\mathbf{#1}}\\frac{x \\frac{\\partial}{\\partial y}z\\left(x, y\\right)}{2 \\, {\\left(x^{2} y + y^{2}\\right)}} - \\frac{w\\left(x, y\\right)}{y} + \\frac{\\partial}{\\partial y}w\\left(x, y\\right)\n",
       "\\end{math}"
      ],
      "text/plain": [
       "1/2*x*diff(z(x, y), y)/(x^2*y + y^2) - w(x, y)/y + diff(w(x, y), y)"
      ]
     },
     "metadata": {},
     "output_type": "display_data"
    },
    {
     "data": {
      "text/html": [
       "<html><script type=\"math/tex; mode=display\">\\newcommand{\\Bold}[1]{\\mathbf{#1}}\\frac{{\\left(4 \\, x^{3} y + 4 \\, x y^{2} - x\\right)} \\frac{\\partial}{\\partial y}z\\left(x, y\\right)}{2 \\, {\\left(2 \\, x^{2} y^{2} + 2 \\, y^{3} - x y\\right)}} + \\frac{\\partial^{2}}{\\partial x\\partial y}z\\left(x, y\\right)</script></html>"
      ],
      "text/latex": [
       "\\begin{math}\n",
       "\\newcommand{\\Bold}[1]{\\mathbf{#1}}\\frac{{\\left(4 \\, x^{3} y + 4 \\, x y^{2} - x\\right)} \\frac{\\partial}{\\partial y}z\\left(x, y\\right)}{2 \\, {\\left(2 \\, x^{2} y^{2} + 2 \\, y^{3} - x y\\right)}} + \\frac{\\partial^{2}}{\\partial x\\partial y}z\\left(x, y\\right)\n",
       "\\end{math}"
      ],
      "text/plain": [
       "1/2*(4*x^3*y + 4*x*y^2 - x)*diff(z(x, y), y)/(2*x^2*y^2 + 2*y^3 - x*y) + diff(z(x, y), x, y)"
      ]
     },
     "metadata": {},
     "output_type": "display_data"
    },
    {
     "data": {
      "text/html": [
       "<html><script type=\"math/tex; mode=display\">\\newcommand{\\Bold}[1]{\\mathbf{#1}}-\\frac{x \\frac{\\partial^{2}}{(\\partial y)^{2}}z\\left(x, y\\right)}{2 \\, {\\left(x^{2} y + y^{2}\\right)}} + \\frac{w\\left(x, y\\right)}{y^{2}} + \\frac{\\partial^{2}}{\\partial x\\partial y}z\\left(x, y\\right)</script></html>"
      ],
      "text/latex": [
       "\\begin{math}\n",
       "\\newcommand{\\Bold}[1]{\\mathbf{#1}}-\\frac{x \\frac{\\partial^{2}}{(\\partial y)^{2}}z\\left(x, y\\right)}{2 \\, {\\left(x^{2} y + y^{2}\\right)}} + \\frac{w\\left(x, y\\right)}{y^{2}} + \\frac{\\partial^{2}}{\\partial x\\partial y}z\\left(x, y\\right)\n",
       "\\end{math}"
      ],
      "text/plain": [
       "-1/2*x*diff(z(x, y), y, y)/(x^2*y + y^2) + w(x, y)/y^2 + diff(z(x, y), x, y)"
      ]
     },
     "metadata": {},
     "output_type": "display_data"
    },
    {
     "data": {
      "text/html": [
       "<html><script type=\"math/tex; mode=display\">\\newcommand{\\Bold}[1]{\\mathbf{#1}}\\frac{2 \\, y \\frac{\\partial}{\\partial x}z\\left(x, y\\right)}{x} + \\frac{w\\left(x, y\\right)}{x} - \\frac{\\frac{\\partial}{\\partial y}z\\left(x, y\\right)}{2 \\, {\\left(x^{2} + y\\right)}} + \\frac{\\partial^{2}}{\\partial x\\partial y}z\\left(x, y\\right)</script></html>"
      ],
      "text/latex": [
       "\\begin{math}\n",
       "\\newcommand{\\Bold}[1]{\\mathbf{#1}}\\frac{2 \\, y \\frac{\\partial}{\\partial x}z\\left(x, y\\right)}{x} + \\frac{w\\left(x, y\\right)}{x} - \\frac{\\frac{\\partial}{\\partial y}z\\left(x, y\\right)}{2 \\, {\\left(x^{2} + y\\right)}} + \\frac{\\partial^{2}}{\\partial x\\partial y}z\\left(x, y\\right)\n",
       "\\end{math}"
      ],
      "text/plain": [
       "2*y*diff(z(x, y), x)/x + w(x, y)/x - 1/2*diff(z(x, y), y)/(x^2 + y) + diff(z(x, y), x, y)"
      ]
     },
     "metadata": {},
     "output_type": "display_data"
    },
    {
     "data": {
      "text/html": [
       "<html><script type=\"math/tex; mode=display\">\\newcommand{\\Bold}[1]{\\mathbf{#1}}\\frac{{\\left(x - y\\right)} \\frac{\\partial}{\\partial x}w\\left(x, y\\right)}{2 \\, x y} + \\frac{\\frac{\\partial^{2}}{\\partial x\\partial y}z\\left(x, y\\right)}{4 \\, {\\left(x^{2} + y\\right)}} + \\frac{\\partial^{2}}{(\\partial x)^{2}}z\\left(x, y\\right)</script></html>"
      ],
      "text/latex": [
       "\\begin{math}\n",
       "\\newcommand{\\Bold}[1]{\\mathbf{#1}}\\frac{{\\left(x - y\\right)} \\frac{\\partial}{\\partial x}w\\left(x, y\\right)}{2 \\, x y} + \\frac{\\frac{\\partial^{2}}{\\partial x\\partial y}z\\left(x, y\\right)}{4 \\, {\\left(x^{2} + y\\right)}} + \\frac{\\partial^{2}}{(\\partial x)^{2}}z\\left(x, y\\right)\n",
       "\\end{math}"
      ],
      "text/plain": [
       "1/2*(x - y)*diff(w(x, y), x)/(x*y) + 1/4*diff(z(x, y), x, y)/(x^2 + y) + diff(z(x, y), x, x)"
      ]
     },
     "metadata": {},
     "output_type": "display_data"
    },
    {
     "name": "stdout",
     "output_type": "stream",
     "text": [
      "===================================================== 4\n",
      "This is the new System........\n"
     ]
    },
    {
     "data": {
      "text/html": [
       "<html><script type=\"math/tex; mode=display\">\\newcommand{\\Bold}[1]{\\mathbf{#1}}\\frac{x \\frac{\\partial}{\\partial y}z\\left(x, y\\right)}{2 \\, {\\left(x^{2} y + y^{2}\\right)}} - \\frac{w\\left(x, y\\right)}{y} + \\frac{\\partial}{\\partial y}w\\left(x, y\\right)</script></html>"
      ],
      "text/latex": [
       "\\begin{math}\n",
       "\\newcommand{\\Bold}[1]{\\mathbf{#1}}\\frac{x \\frac{\\partial}{\\partial y}z\\left(x, y\\right)}{2 \\, {\\left(x^{2} y + y^{2}\\right)}} - \\frac{w\\left(x, y\\right)}{y} + \\frac{\\partial}{\\partial y}w\\left(x, y\\right)\n",
       "\\end{math}"
      ],
      "text/plain": [
       "1/2*x*diff(z(x, y), y)/(x^2*y + y^2) - w(x, y)/y + diff(w(x, y), y)"
      ]
     },
     "metadata": {},
     "output_type": "display_data"
    },
    {
     "data": {
      "text/html": [
       "<html><script type=\"math/tex; mode=display\">\\newcommand{\\Bold}[1]{\\mathbf{#1}}\\frac{2 \\, y \\frac{\\partial}{\\partial x}z\\left(x, y\\right)}{x} + \\frac{w\\left(x, y\\right)}{x} - \\frac{\\frac{\\partial}{\\partial y}z\\left(x, y\\right)}{2 \\, {\\left(x^{2} + y\\right)}} + \\frac{\\partial^{2}}{\\partial x\\partial y}z\\left(x, y\\right)</script></html>"
      ],
      "text/latex": [
       "\\begin{math}\n",
       "\\newcommand{\\Bold}[1]{\\mathbf{#1}}\\frac{2 \\, y \\frac{\\partial}{\\partial x}z\\left(x, y\\right)}{x} + \\frac{w\\left(x, y\\right)}{x} - \\frac{\\frac{\\partial}{\\partial y}z\\left(x, y\\right)}{2 \\, {\\left(x^{2} + y\\right)}} + \\frac{\\partial^{2}}{\\partial x\\partial y}z\\left(x, y\\right)\n",
       "\\end{math}"
      ],
      "text/plain": [
       "2*y*diff(z(x, y), x)/x + w(x, y)/x - 1/2*diff(z(x, y), y)/(x^2 + y) + diff(z(x, y), x, y)"
      ]
     },
     "metadata": {},
     "output_type": "display_data"
    },
    {
     "data": {
      "text/html": [
       "<html><script type=\"math/tex; mode=display\">\\newcommand{\\Bold}[1]{\\mathbf{#1}}-\\frac{x \\frac{\\partial^{2}}{(\\partial y)^{2}}z\\left(x, y\\right)}{2 \\, {\\left(x^{2} y + y^{2}\\right)}} + \\frac{w\\left(x, y\\right)}{y^{2}} + \\frac{\\partial^{2}}{\\partial x\\partial y}z\\left(x, y\\right)</script></html>"
      ],
      "text/latex": [
       "\\begin{math}\n",
       "\\newcommand{\\Bold}[1]{\\mathbf{#1}}-\\frac{x \\frac{\\partial^{2}}{(\\partial y)^{2}}z\\left(x, y\\right)}{2 \\, {\\left(x^{2} y + y^{2}\\right)}} + \\frac{w\\left(x, y\\right)}{y^{2}} + \\frac{\\partial^{2}}{\\partial x\\partial y}z\\left(x, y\\right)\n",
       "\\end{math}"
      ],
      "text/plain": [
       "-1/2*x*diff(z(x, y), y, y)/(x^2*y + y^2) + w(x, y)/y^2 + diff(z(x, y), x, y)"
      ]
     },
     "metadata": {},
     "output_type": "display_data"
    },
    {
     "data": {
      "text/html": [
       "<html><script type=\"math/tex; mode=display\">\\newcommand{\\Bold}[1]{\\mathbf{#1}}\\frac{{\\left(4 \\, x^{3} y + 4 \\, x y^{2} - x\\right)} \\frac{\\partial}{\\partial y}z\\left(x, y\\right)}{2 \\, {\\left(2 \\, x^{2} y^{2} + 2 \\, y^{3} - x y\\right)}} + \\frac{\\partial^{2}}{\\partial x\\partial y}z\\left(x, y\\right)</script></html>"
      ],
      "text/latex": [
       "\\begin{math}\n",
       "\\newcommand{\\Bold}[1]{\\mathbf{#1}}\\frac{{\\left(4 \\, x^{3} y + 4 \\, x y^{2} - x\\right)} \\frac{\\partial}{\\partial y}z\\left(x, y\\right)}{2 \\, {\\left(2 \\, x^{2} y^{2} + 2 \\, y^{3} - x y\\right)}} + \\frac{\\partial^{2}}{\\partial x\\partial y}z\\left(x, y\\right)\n",
       "\\end{math}"
      ],
      "text/plain": [
       "1/2*(4*x^3*y + 4*x*y^2 - x)*diff(z(x, y), y)/(2*x^2*y^2 + 2*y^3 - x*y) + diff(z(x, y), x, y)"
      ]
     },
     "metadata": {},
     "output_type": "display_data"
    },
    {
     "data": {
      "text/html": [
       "<html><script type=\"math/tex; mode=display\">\\newcommand{\\Bold}[1]{\\mathbf{#1}}\\frac{{\\left(x - y\\right)} \\frac{\\partial}{\\partial x}w\\left(x, y\\right)}{2 \\, x y} + \\frac{\\frac{\\partial^{2}}{\\partial x\\partial y}z\\left(x, y\\right)}{4 \\, {\\left(x^{2} + y\\right)}} + \\frac{\\partial^{2}}{(\\partial x)^{2}}z\\left(x, y\\right)</script></html>"
      ],
      "text/latex": [
       "\\begin{math}\n",
       "\\newcommand{\\Bold}[1]{\\mathbf{#1}}\\frac{{\\left(x - y\\right)} \\frac{\\partial}{\\partial x}w\\left(x, y\\right)}{2 \\, x y} + \\frac{\\frac{\\partial^{2}}{\\partial x\\partial y}z\\left(x, y\\right)}{4 \\, {\\left(x^{2} + y\\right)}} + \\frac{\\partial^{2}}{(\\partial x)^{2}}z\\left(x, y\\right)\n",
       "\\end{math}"
      ],
      "text/plain": [
       "1/2*(x - y)*diff(w(x, y), x)/(x*y) + 1/4*diff(z(x, y), x, y)/(x^2 + y) + diff(z(x, y), x, x)"
      ]
     },
     "metadata": {},
     "output_type": "display_data"
    },
    {
     "name": "stdout",
     "output_type": "stream",
     "text": [
      "===================================================== 3\n",
      "This is the new System........\n"
     ]
    },
    {
     "data": {
      "text/html": [
       "<html><script type=\"math/tex; mode=display\">\\newcommand{\\Bold}[1]{\\mathbf{#1}}\\frac{{\\left(x^{4} - 2 \\, {\\left(2 \\, x^{2} + x\\right)} y^{3} - 2 \\, {\\left(4 \\, x^{4} + x^{3}\\right)} y^{2} - 2 \\, {\\left(2 \\, x^{6} - x^{2}\\right)} y\\right)} \\frac{\\partial}{\\partial y}z\\left(x, y\\right)}{4 \\, {\\left(4 \\, x^{2} y^{4} - x^{3} y^{2} + 2 \\, y^{5} + {\\left(2 \\, x^{4} - x\\right)} y^{3}\\right)}} + \\frac{w\\left(x, y\\right)}{2 \\, y} + \\frac{\\partial}{\\partial x}z\\left(x, y\\right)</script></html>"
      ],
      "text/latex": [
       "\\begin{math}\n",
       "\\newcommand{\\Bold}[1]{\\mathbf{#1}}\\frac{{\\left(x^{4} - 2 \\, {\\left(2 \\, x^{2} + x\\right)} y^{3} - 2 \\, {\\left(4 \\, x^{4} + x^{3}\\right)} y^{2} - 2 \\, {\\left(2 \\, x^{6} - x^{2}\\right)} y\\right)} \\frac{\\partial}{\\partial y}z\\left(x, y\\right)}{4 \\, {\\left(4 \\, x^{2} y^{4} - x^{3} y^{2} + 2 \\, y^{5} + {\\left(2 \\, x^{4} - x\\right)} y^{3}\\right)}} + \\frac{w\\left(x, y\\right)}{2 \\, y} + \\frac{\\partial}{\\partial x}z\\left(x, y\\right)\n",
       "\\end{math}"
      ],
      "text/plain": [
       "1/4*(x^4 - 2*(2*x^2 + x)*y^3 - 2*(4*x^4 + x^3)*y^2 - 2*(2*x^6 - x^2)*y)*diff(z(x, y), y)/(4*x^2*y^4 - x^3*y^2 + 2*y^5 + (2*x^4 - x)*y^3) + 1/2*w(x, y)/y + diff(z(x, y), x)"
      ]
     },
     "metadata": {},
     "output_type": "display_data"
    },
    {
     "data": {
      "text/html": [
       "<html><script type=\"math/tex; mode=display\">\\newcommand{\\Bold}[1]{\\mathbf{#1}}\\frac{x \\frac{\\partial}{\\partial y}z\\left(x, y\\right)}{2 \\, {\\left(x^{2} y + y^{2}\\right)}} - \\frac{w\\left(x, y\\right)}{y} + \\frac{\\partial}{\\partial y}w\\left(x, y\\right)</script></html>"
      ],
      "text/latex": [
       "\\begin{math}\n",
       "\\newcommand{\\Bold}[1]{\\mathbf{#1}}\\frac{x \\frac{\\partial}{\\partial y}z\\left(x, y\\right)}{2 \\, {\\left(x^{2} y + y^{2}\\right)}} - \\frac{w\\left(x, y\\right)}{y} + \\frac{\\partial}{\\partial y}w\\left(x, y\\right)\n",
       "\\end{math}"
      ],
      "text/plain": [
       "1/2*x*diff(z(x, y), y)/(x^2*y + y^2) - w(x, y)/y + diff(w(x, y), y)"
      ]
     },
     "metadata": {},
     "output_type": "display_data"
    },
    {
     "data": {
      "text/html": [
       "<html><script type=\"math/tex; mode=display\">\\newcommand{\\Bold}[1]{\\mathbf{#1}}-\\frac{y \\frac{\\partial}{\\partial y}z\\left(x, y\\right)}{x} + \\frac{2 \\, {\\left(x^{2} y + y^{2}\\right)} w\\left(x, y\\right)}{x^{2}} - \\frac{2 \\, {\\left(x^{2} + y\\right)} w\\left(x, y\\right)}{x y} + \\frac{4 \\, {\\left(x^{2} y^{2} + y^{3}\\right)} \\frac{\\partial}{\\partial x}z\\left(x, y\\right)}{x^{2}} + \\frac{\\partial^{2}}{(\\partial y)^{2}}z\\left(x, y\\right)</script></html>"
      ],
      "text/latex": [
       "\\begin{math}\n",
       "\\newcommand{\\Bold}[1]{\\mathbf{#1}}-\\frac{y \\frac{\\partial}{\\partial y}z\\left(x, y\\right)}{x} + \\frac{2 \\, {\\left(x^{2} y + y^{2}\\right)} w\\left(x, y\\right)}{x^{2}} - \\frac{2 \\, {\\left(x^{2} + y\\right)} w\\left(x, y\\right)}{x y} + \\frac{4 \\, {\\left(x^{2} y^{2} + y^{3}\\right)} \\frac{\\partial}{\\partial x}z\\left(x, y\\right)}{x^{2}} + \\frac{\\partial^{2}}{(\\partial y)^{2}}z\\left(x, y\\right)\n",
       "\\end{math}"
      ],
      "text/plain": [
       "-y*diff(z(x, y), y)/x + 2*(x^2*y + y^2)*w(x, y)/x^2 - 2*(x^2 + y)*w(x, y)/(x*y) + 4*(x^2*y^2 + y^3)*diff(z(x, y), x)/x^2 + diff(z(x, y), y, y)"
      ]
     },
     "metadata": {},
     "output_type": "display_data"
    },
    {
     "data": {
      "text/html": [
       "<html><script type=\"math/tex; mode=display\">\\newcommand{\\Bold}[1]{\\mathbf{#1}}\\frac{2 \\, y \\frac{\\partial}{\\partial x}z\\left(x, y\\right)}{x} + \\frac{w\\left(x, y\\right)}{x} - \\frac{\\frac{\\partial}{\\partial y}z\\left(x, y\\right)}{2 \\, {\\left(x^{2} + y\\right)}} + \\frac{\\partial^{2}}{\\partial x\\partial y}z\\left(x, y\\right)</script></html>"
      ],
      "text/latex": [
       "\\begin{math}\n",
       "\\newcommand{\\Bold}[1]{\\mathbf{#1}}\\frac{2 \\, y \\frac{\\partial}{\\partial x}z\\left(x, y\\right)}{x} + \\frac{w\\left(x, y\\right)}{x} - \\frac{\\frac{\\partial}{\\partial y}z\\left(x, y\\right)}{2 \\, {\\left(x^{2} + y\\right)}} + \\frac{\\partial^{2}}{\\partial x\\partial y}z\\left(x, y\\right)\n",
       "\\end{math}"
      ],
      "text/plain": [
       "2*y*diff(z(x, y), x)/x + w(x, y)/x - 1/2*diff(z(x, y), y)/(x^2 + y) + diff(z(x, y), x, y)"
      ]
     },
     "metadata": {},
     "output_type": "display_data"
    },
    {
     "data": {
      "text/html": [
       "<html><script type=\"math/tex; mode=display\">\\newcommand{\\Bold}[1]{\\mathbf{#1}}-\\frac{y \\frac{\\partial}{\\partial x}z\\left(x, y\\right)}{2 \\, {\\left(x^{3} + x y\\right)}} - \\frac{w\\left(x, y\\right)}{4 \\, {\\left(x^{3} + x y\\right)}} + \\frac{{\\left(x - y\\right)} \\frac{\\partial}{\\partial x}w\\left(x, y\\right)}{2 \\, x y} + \\frac{\\frac{\\partial}{\\partial y}z\\left(x, y\\right)}{8 \\, {\\left(x^{4} + 2 \\, x^{2} y + y^{2}\\right)}} + \\frac{\\partial^{2}}{(\\partial x)^{2}}z\\left(x, y\\right)</script></html>"
      ],
      "text/latex": [
       "\\begin{math}\n",
       "\\newcommand{\\Bold}[1]{\\mathbf{#1}}-\\frac{y \\frac{\\partial}{\\partial x}z\\left(x, y\\right)}{2 \\, {\\left(x^{3} + x y\\right)}} - \\frac{w\\left(x, y\\right)}{4 \\, {\\left(x^{3} + x y\\right)}} + \\frac{{\\left(x - y\\right)} \\frac{\\partial}{\\partial x}w\\left(x, y\\right)}{2 \\, x y} + \\frac{\\frac{\\partial}{\\partial y}z\\left(x, y\\right)}{8 \\, {\\left(x^{4} + 2 \\, x^{2} y + y^{2}\\right)}} + \\frac{\\partial^{2}}{(\\partial x)^{2}}z\\left(x, y\\right)\n",
       "\\end{math}"
      ],
      "text/plain": [
       "-1/2*y*diff(z(x, y), x)/(x^3 + x*y) - 1/4*w(x, y)/(x^3 + x*y) + 1/2*(x - y)*diff(w(x, y), x)/(x*y) + 1/8*diff(z(x, y), y)/(x^4 + 2*x^2*y + y^2) + diff(z(x, y), x, x)"
      ]
     },
     "metadata": {},
     "output_type": "display_data"
    },
    {
     "name": "stdout",
     "output_type": "stream",
     "text": [
      "===================================================== 4\n",
      "This is the new System........\n"
     ]
    },
    {
     "data": {
      "text/html": [
       "<html><script type=\"math/tex; mode=display\">\\newcommand{\\Bold}[1]{\\mathbf{#1}}\\frac{{\\left(x^{4} - 2 \\, {\\left(2 \\, x^{2} + x\\right)} y^{3} - 2 \\, {\\left(4 \\, x^{4} + x^{3}\\right)} y^{2} - 2 \\, {\\left(2 \\, x^{6} - x^{2}\\right)} y\\right)} \\frac{\\partial}{\\partial y}z\\left(x, y\\right)}{4 \\, {\\left(4 \\, x^{2} y^{4} - x^{3} y^{2} + 2 \\, y^{5} + {\\left(2 \\, x^{4} - x\\right)} y^{3}\\right)}} + \\frac{w\\left(x, y\\right)}{2 \\, y} + \\frac{\\partial}{\\partial x}z\\left(x, y\\right)</script></html>"
      ],
      "text/latex": [
       "\\begin{math}\n",
       "\\newcommand{\\Bold}[1]{\\mathbf{#1}}\\frac{{\\left(x^{4} - 2 \\, {\\left(2 \\, x^{2} + x\\right)} y^{3} - 2 \\, {\\left(4 \\, x^{4} + x^{3}\\right)} y^{2} - 2 \\, {\\left(2 \\, x^{6} - x^{2}\\right)} y\\right)} \\frac{\\partial}{\\partial y}z\\left(x, y\\right)}{4 \\, {\\left(4 \\, x^{2} y^{4} - x^{3} y^{2} + 2 \\, y^{5} + {\\left(2 \\, x^{4} - x\\right)} y^{3}\\right)}} + \\frac{w\\left(x, y\\right)}{2 \\, y} + \\frac{\\partial}{\\partial x}z\\left(x, y\\right)\n",
       "\\end{math}"
      ],
      "text/plain": [
       "1/4*(x^4 - 2*(2*x^2 + x)*y^3 - 2*(4*x^4 + x^3)*y^2 - 2*(2*x^6 - x^2)*y)*diff(z(x, y), y)/(4*x^2*y^4 - x^3*y^2 + 2*y^5 + (2*x^4 - x)*y^3) + 1/2*w(x, y)/y + diff(z(x, y), x)"
      ]
     },
     "metadata": {},
     "output_type": "display_data"
    },
    {
     "data": {
      "text/html": [
       "<html><script type=\"math/tex; mode=display\">\\newcommand{\\Bold}[1]{\\mathbf{#1}}\\frac{x \\frac{\\partial}{\\partial y}z\\left(x, y\\right)}{2 \\, {\\left(x^{2} y + y^{2}\\right)}} - \\frac{w\\left(x, y\\right)}{y} + \\frac{\\partial}{\\partial y}w\\left(x, y\\right)</script></html>"
      ],
      "text/latex": [
       "\\begin{math}\n",
       "\\newcommand{\\Bold}[1]{\\mathbf{#1}}\\frac{x \\frac{\\partial}{\\partial y}z\\left(x, y\\right)}{2 \\, {\\left(x^{2} y + y^{2}\\right)}} - \\frac{w\\left(x, y\\right)}{y} + \\frac{\\partial}{\\partial y}w\\left(x, y\\right)\n",
       "\\end{math}"
      ],
      "text/plain": [
       "1/2*x*diff(z(x, y), y)/(x^2*y + y^2) - w(x, y)/y + diff(w(x, y), y)"
      ]
     },
     "metadata": {},
     "output_type": "display_data"
    },
    {
     "data": {
      "text/html": [
       "<html><script type=\"math/tex; mode=display\">\\newcommand{\\Bold}[1]{\\mathbf{#1}}-\\frac{8 \\, {\\left(16 \\, x^{2} y^{9} + x^{6} y^{4} + 4 \\, y^{10} + 4 \\, {\\left(6 \\, x^{4} - x\\right)} y^{8} + 4 \\, {\\left(4 \\, x^{6} - 3 \\, x^{3}\\right)} y^{7} + {\\left(4 \\, x^{8} - 12 \\, x^{5} + x^{2}\\right)} y^{6} - 2 \\, {\\left(2 \\, x^{7} - x^{4}\\right)} y^{5}\\right)} \\frac{\\partial}{\\partial x}w\\left(x, y\\right)}{x^{9} + 4 \\, {\\left(4 \\, x^{5} + 4 \\, x^{4} + x^{3}\\right)} y^{6} + 8 \\, {\\left(8 \\, x^{7} + 6 \\, x^{6} + x^{5}\\right)} y^{5} + 4 \\, {\\left(24 \\, x^{9} + 12 \\, x^{8} + x^{7} - 4 \\, x^{5} - 2 \\, x^{4}\\right)} y^{4} + 4 \\, {\\left(16 \\, x^{11} + 4 \\, x^{10} - 10 \\, x^{7} - 3 \\, x^{6}\\right)} y^{3} + 4 \\, {\\left(4 \\, x^{13} - 8 \\, x^{9} - x^{8} + x^{5}\\right)} y^{2} - 4 \\, {\\left(2 \\, x^{11} - x^{7}\\right)} y} + \\frac{2 \\, {\\left(4 \\, x^{2} y^{3} - x^{3} y + 2 \\, y^{4} + {\\left(2 \\, x^{4} - x\\right)} y^{2}\\right)} \\frac{\\partial}{\\partial y}w\\left(x, y\\right)}{x^{4} - 2 \\, {\\left(2 \\, x^{2} + x\\right)} y^{3} - 2 \\, {\\left(4 \\, x^{4} + x^{3}\\right)} y^{2} - 2 \\, {\\left(2 \\, x^{6} - x^{2}\\right)} y} - \\frac{2 \\, {\\left(24 \\, x^{2} y^{7} + 8 \\, y^{8} + 2 \\, {\\left(12 \\, x^{4} - 2 \\, x - 1\\right)} y^{6} + x^{3} y^{3} + 4 \\, {\\left(2 \\, x^{6} - 2 \\, x^{3} - x^{2}\\right)} y^{5} - {\\left(4 \\, x^{5} + 2 \\, x^{4} - x\\right)} y^{4}\\right)} \\frac{\\partial}{\\partial y}z\\left(x, y\\right)}{x^{7} + 4 \\, {\\left(4 \\, x^{3} + 4 \\, x^{2} + x\\right)} y^{6} + 8 \\, {\\left(8 \\, x^{5} + 6 \\, x^{4} + x^{3}\\right)} y^{5} + 4 \\, {\\left(24 \\, x^{7} + 12 \\, x^{6} + x^{5} - 4 \\, x^{3} - 2 \\, x^{2}\\right)} y^{4} + 4 \\, {\\left(16 \\, x^{9} + 4 \\, x^{8} - 10 \\, x^{5} - 3 \\, x^{4}\\right)} y^{3} + 4 \\, {\\left(4 \\, x^{11} - 8 \\, x^{7} - x^{6} + x^{3}\\right)} y^{2} - 4 \\, {\\left(2 \\, x^{9} - x^{5}\\right)} y} + \\frac{\\partial^{2}}{(\\partial y)^{2}}z\\left(x, y\\right)</script></html>"
      ],
      "text/latex": [
       "\\begin{math}\n",
       "\\newcommand{\\Bold}[1]{\\mathbf{#1}}-\\frac{8 \\, {\\left(16 \\, x^{2} y^{9} + x^{6} y^{4} + 4 \\, y^{10} + 4 \\, {\\left(6 \\, x^{4} - x\\right)} y^{8} + 4 \\, {\\left(4 \\, x^{6} - 3 \\, x^{3}\\right)} y^{7} + {\\left(4 \\, x^{8} - 12 \\, x^{5} + x^{2}\\right)} y^{6} - 2 \\, {\\left(2 \\, x^{7} - x^{4}\\right)} y^{5}\\right)} \\frac{\\partial}{\\partial x}w\\left(x, y\\right)}{x^{9} + 4 \\, {\\left(4 \\, x^{5} + 4 \\, x^{4} + x^{3}\\right)} y^{6} + 8 \\, {\\left(8 \\, x^{7} + 6 \\, x^{6} + x^{5}\\right)} y^{5} + 4 \\, {\\left(24 \\, x^{9} + 12 \\, x^{8} + x^{7} - 4 \\, x^{5} - 2 \\, x^{4}\\right)} y^{4} + 4 \\, {\\left(16 \\, x^{11} + 4 \\, x^{10} - 10 \\, x^{7} - 3 \\, x^{6}\\right)} y^{3} + 4 \\, {\\left(4 \\, x^{13} - 8 \\, x^{9} - x^{8} + x^{5}\\right)} y^{2} - 4 \\, {\\left(2 \\, x^{11} - x^{7}\\right)} y} + \\frac{2 \\, {\\left(4 \\, x^{2} y^{3} - x^{3} y + 2 \\, y^{4} + {\\left(2 \\, x^{4} - x\\right)} y^{2}\\right)} \\frac{\\partial}{\\partial y}w\\left(x, y\\right)}{x^{4} - 2 \\, {\\left(2 \\, x^{2} + x\\right)} y^{3} - 2 \\, {\\left(4 \\, x^{4} + x^{3}\\right)} y^{2} - 2 \\, {\\left(2 \\, x^{6} - x^{2}\\right)} y} - \\frac{2 \\, {\\left(24 \\, x^{2} y^{7} + 8 \\, y^{8} + 2 \\, {\\left(12 \\, x^{4} - 2 \\, x - 1\\right)} y^{6} + x^{3} y^{3} + 4 \\, {\\left(2 \\, x^{6} - 2 \\, x^{3} - x^{2}\\right)} y^{5} - {\\left(4 \\, x^{5} + 2 \\, x^{4} - x\\right)} y^{4}\\right)} \\frac{\\partial}{\\partial y}z\\left(x, y\\right)}{x^{7} + 4 \\, {\\left(4 \\, x^{3} + 4 \\, x^{2} + x\\right)} y^{6} + 8 \\, {\\left(8 \\, x^{5} + 6 \\, x^{4} + x^{3}\\right)} y^{5} + 4 \\, {\\left(24 \\, x^{7} + 12 \\, x^{6} + x^{5} - 4 \\, x^{3} - 2 \\, x^{2}\\right)} y^{4} + 4 \\, {\\left(16 \\, x^{9} + 4 \\, x^{8} - 10 \\, x^{5} - 3 \\, x^{4}\\right)} y^{3} + 4 \\, {\\left(4 \\, x^{11} - 8 \\, x^{7} - x^{6} + x^{3}\\right)} y^{2} - 4 \\, {\\left(2 \\, x^{9} - x^{5}\\right)} y} + \\frac{\\partial^{2}}{(\\partial y)^{2}}z\\left(x, y\\right)\n",
       "\\end{math}"
      ],
      "text/plain": [
       "-8*(16*x^2*y^9 + x^6*y^4 + 4*y^10 + 4*(6*x^4 - x)*y^8 + 4*(4*x^6 - 3*x^3)*y^7 + (4*x^8 - 12*x^5 + x^2)*y^6 - 2*(2*x^7 - x^4)*y^5)*diff(w(x, y), x)/(x^9 + 4*(4*x^5 + 4*x^4 + x^3)*y^6 + 8*(8*x^7 + 6*x^6 + x^5)*y^5 + 4*(24*x^9 + 12*x^8 + x^7 - 4*x^5 - 2*x^4)*y^4 + 4*(16*x^11 + 4*x^10 - 10*x^7 - 3*x^6)*y^3 + 4*(4*x^13 - 8*x^9 - x^8 + x^5)*y^2 - 4*(2*x^11 - x^7)*y) + 2*(4*x^2*y^3 - x^3*y + 2*y^4 + (2*x^4 - x)*y^2)*diff(w(x, y), y)/(x^4 - 2*(2*x^2 + x)*y^3 - 2*(4*x^4 + x^3)*y^2 - 2*(2*x^6 - x^2)*y) - 2*(24*x^2*y^7 + 8*y^8 + 2*(12*x^4 - 2*x - 1)*y^6 + x^3*y^3 + 4*(2*x^6 - 2*x^3 - x^2)*y^5 - (4*x^5 + 2*x^4 - x)*y^4)*diff(z(x, y), y)/(x^7 + 4*(4*x^3 + 4*x^2 + x)*y^6 + 8*(8*x^5 + 6*x^4 + x^3)*y^5 + 4*(24*x^7 + 12*x^6 + x^5 - 4*x^3 - 2*x^2)*y^4 + 4*(16*x^9 + 4*x^8 - 10*x^5 - 3*x^4)*y^3 + 4*(4*x^11 - 8*x^7 - x^6 + x^3)*y^2 - 4*(2*x^9 - x^5)*y) + diff(z(x, y), y, y)"
      ]
     },
     "metadata": {},
     "output_type": "display_data"
    },
    {
     "data": {
      "text/html": [
       "<html><script type=\"math/tex; mode=display\">\\newcommand{\\Bold}[1]{\\mathbf{#1}}\\frac{2 \\, {\\left(4 \\, x^{2} y^{3} - x^{3} y + 2 \\, y^{4} + {\\left(2 \\, x^{4} - x\\right)} y^{2}\\right)} \\frac{\\partial}{\\partial y}w\\left(x, y\\right)}{x^{4} - 2 \\, {\\left(2 \\, x^{2} + x\\right)} y^{3} - 2 \\, {\\left(4 \\, x^{4} + x^{3}\\right)} y^{2} - 2 \\, {\\left(2 \\, x^{6} - x^{2}\\right)} y} + \\frac{2 \\, {\\left(8 \\, x^{2} y^{3} + 4 \\, y^{4} - x^{2} y + {\\left(4 \\, x^{4} - 1\\right)} y^{2}\\right)} \\frac{\\partial}{\\partial y}z\\left(x, y\\right)}{2 \\, {\\left(2 \\, x + 1\\right)} y^{3} - x^{3} + 2 \\, {\\left(4 \\, x^{3} + x^{2}\\right)} y^{2} + 2 \\, {\\left(2 \\, x^{5} - x\\right)} y} + \\frac{\\partial^{2}}{(\\partial y)^{2}}z\\left(x, y\\right)</script></html>"
      ],
      "text/latex": [
       "\\begin{math}\n",
       "\\newcommand{\\Bold}[1]{\\mathbf{#1}}\\frac{2 \\, {\\left(4 \\, x^{2} y^{3} - x^{3} y + 2 \\, y^{4} + {\\left(2 \\, x^{4} - x\\right)} y^{2}\\right)} \\frac{\\partial}{\\partial y}w\\left(x, y\\right)}{x^{4} - 2 \\, {\\left(2 \\, x^{2} + x\\right)} y^{3} - 2 \\, {\\left(4 \\, x^{4} + x^{3}\\right)} y^{2} - 2 \\, {\\left(2 \\, x^{6} - x^{2}\\right)} y} + \\frac{2 \\, {\\left(8 \\, x^{2} y^{3} + 4 \\, y^{4} - x^{2} y + {\\left(4 \\, x^{4} - 1\\right)} y^{2}\\right)} \\frac{\\partial}{\\partial y}z\\left(x, y\\right)}{2 \\, {\\left(2 \\, x + 1\\right)} y^{3} - x^{3} + 2 \\, {\\left(4 \\, x^{3} + x^{2}\\right)} y^{2} + 2 \\, {\\left(2 \\, x^{5} - x\\right)} y} + \\frac{\\partial^{2}}{(\\partial y)^{2}}z\\left(x, y\\right)\n",
       "\\end{math}"
      ],
      "text/plain": [
       "2*(4*x^2*y^3 - x^3*y + 2*y^4 + (2*x^4 - x)*y^2)*diff(w(x, y), y)/(x^4 - 2*(2*x^2 + x)*y^3 - 2*(4*x^4 + x^3)*y^2 - 2*(2*x^6 - x^2)*y) + 2*(8*x^2*y^3 + 4*y^4 - x^2*y + (4*x^4 - 1)*y^2)*diff(z(x, y), y)/(2*(2*x + 1)*y^3 - x^3 + 2*(4*x^3 + x^2)*y^2 + 2*(2*x^5 - x)*y) + diff(z(x, y), y, y)"
      ]
     },
     "metadata": {},
     "output_type": "display_data"
    },
    {
     "data": {
      "text/html": [
       "<html><script type=\"math/tex; mode=display\">\\newcommand{\\Bold}[1]{\\mathbf{#1}}-\\frac{2 \\, x w\\left(x, y\\right)}{y} + \\frac{{\\left(8 \\, x^{2} y^{2} + 4 \\, y^{3} - x^{2} + {\\left(4 \\, x^{4} - 1\\right)} y\\right)} \\frac{\\partial}{\\partial y}z\\left(x, y\\right)}{2 \\, x^{2} y + 2 \\, y^{2} - x} - \\frac{2 \\, w\\left(x, y\\right)}{x} + \\frac{\\partial^{2}}{(\\partial y)^{2}}z\\left(x, y\\right)</script></html>"
      ],
      "text/latex": [
       "\\begin{math}\n",
       "\\newcommand{\\Bold}[1]{\\mathbf{#1}}-\\frac{2 \\, x w\\left(x, y\\right)}{y} + \\frac{{\\left(8 \\, x^{2} y^{2} + 4 \\, y^{3} - x^{2} + {\\left(4 \\, x^{4} - 1\\right)} y\\right)} \\frac{\\partial}{\\partial y}z\\left(x, y\\right)}{2 \\, x^{2} y + 2 \\, y^{2} - x} - \\frac{2 \\, w\\left(x, y\\right)}{x} + \\frac{\\partial^{2}}{(\\partial y)^{2}}z\\left(x, y\\right)\n",
       "\\end{math}"
      ],
      "text/plain": [
       "-2*x*w(x, y)/y + (8*x^2*y^2 + 4*y^3 - x^2 + (4*x^4 - 1)*y)*diff(z(x, y), y)/(2*x^2*y + 2*y^2 - x) - 2*w(x, y)/x + diff(z(x, y), y, y)"
      ]
     },
     "metadata": {},
     "output_type": "display_data"
    },
    {
     "name": "stdout",
     "output_type": "stream",
     "text": [
      "===================================================== 4\n",
      "This is the new System........\n"
     ]
    },
    {
     "data": {
      "text/html": [
       "<html><script type=\"math/tex; mode=display\">\\newcommand{\\Bold}[1]{\\mathbf{#1}}\\frac{{\\left(x^{4} - 2 \\, {\\left(2 \\, x^{2} + x\\right)} y^{3} - 2 \\, {\\left(4 \\, x^{4} + x^{3}\\right)} y^{2} - 2 \\, {\\left(2 \\, x^{6} - x^{2}\\right)} y\\right)} \\frac{\\partial}{\\partial y}z\\left(x, y\\right)}{4 \\, {\\left(4 \\, x^{2} y^{4} - x^{3} y^{2} + 2 \\, y^{5} + {\\left(2 \\, x^{4} - x\\right)} y^{3}\\right)}} + \\frac{w\\left(x, y\\right)}{2 \\, y} + \\frac{\\partial}{\\partial x}z\\left(x, y\\right)</script></html>"
      ],
      "text/latex": [
       "\\begin{math}\n",
       "\\newcommand{\\Bold}[1]{\\mathbf{#1}}\\frac{{\\left(x^{4} - 2 \\, {\\left(2 \\, x^{2} + x\\right)} y^{3} - 2 \\, {\\left(4 \\, x^{4} + x^{3}\\right)} y^{2} - 2 \\, {\\left(2 \\, x^{6} - x^{2}\\right)} y\\right)} \\frac{\\partial}{\\partial y}z\\left(x, y\\right)}{4 \\, {\\left(4 \\, x^{2} y^{4} - x^{3} y^{2} + 2 \\, y^{5} + {\\left(2 \\, x^{4} - x\\right)} y^{3}\\right)}} + \\frac{w\\left(x, y\\right)}{2 \\, y} + \\frac{\\partial}{\\partial x}z\\left(x, y\\right)\n",
       "\\end{math}"
      ],
      "text/plain": [
       "1/4*(x^4 - 2*(2*x^2 + x)*y^3 - 2*(4*x^4 + x^3)*y^2 - 2*(2*x^6 - x^2)*y)*diff(z(x, y), y)/(4*x^2*y^4 - x^3*y^2 + 2*y^5 + (2*x^4 - x)*y^3) + 1/2*w(x, y)/y + diff(z(x, y), x)"
      ]
     },
     "metadata": {},
     "output_type": "display_data"
    },
    {
     "data": {
      "text/html": [
       "<html><script type=\"math/tex; mode=display\">\\newcommand{\\Bold}[1]{\\mathbf{#1}}\\frac{x \\frac{\\partial}{\\partial y}z\\left(x, y\\right)}{2 \\, {\\left(x^{2} y + y^{2}\\right)}} - \\frac{w\\left(x, y\\right)}{y} + \\frac{\\partial}{\\partial y}w\\left(x, y\\right)</script></html>"
      ],
      "text/latex": [
       "\\begin{math}\n",
       "\\newcommand{\\Bold}[1]{\\mathbf{#1}}\\frac{x \\frac{\\partial}{\\partial y}z\\left(x, y\\right)}{2 \\, {\\left(x^{2} y + y^{2}\\right)}} - \\frac{w\\left(x, y\\right)}{y} + \\frac{\\partial}{\\partial y}w\\left(x, y\\right)\n",
       "\\end{math}"
      ],
      "text/plain": [
       "1/2*x*diff(z(x, y), y)/(x^2*y + y^2) - w(x, y)/y + diff(w(x, y), y)"
      ]
     },
     "metadata": {},
     "output_type": "display_data"
    },
    {
     "data": {
      "text/html": [
       "<html><script type=\"math/tex; mode=display\">\\newcommand{\\Bold}[1]{\\mathbf{#1}}-\\frac{2 \\, x w\\left(x, y\\right)}{y} + \\frac{{\\left(8 \\, x^{2} y^{2} + 4 \\, y^{3} - x^{2} + {\\left(4 \\, x^{4} - 1\\right)} y\\right)} \\frac{\\partial}{\\partial y}z\\left(x, y\\right)}{2 \\, x^{2} y + 2 \\, y^{2} - x} - \\frac{2 \\, w\\left(x, y\\right)}{x} + \\frac{\\partial^{2}}{(\\partial y)^{2}}z\\left(x, y\\right)</script></html>"
      ],
      "text/latex": [
       "\\begin{math}\n",
       "\\newcommand{\\Bold}[1]{\\mathbf{#1}}-\\frac{2 \\, x w\\left(x, y\\right)}{y} + \\frac{{\\left(8 \\, x^{2} y^{2} + 4 \\, y^{3} - x^{2} + {\\left(4 \\, x^{4} - 1\\right)} y\\right)} \\frac{\\partial}{\\partial y}z\\left(x, y\\right)}{2 \\, x^{2} y + 2 \\, y^{2} - x} - \\frac{2 \\, w\\left(x, y\\right)}{x} + \\frac{\\partial^{2}}{(\\partial y)^{2}}z\\left(x, y\\right)\n",
       "\\end{math}"
      ],
      "text/plain": [
       "-2*x*w(x, y)/y + (8*x^2*y^2 + 4*y^3 - x^2 + (4*x^4 - 1)*y)*diff(z(x, y), y)/(2*x^2*y + 2*y^2 - x) - 2*w(x, y)/x + diff(z(x, y), y, y)"
      ]
     },
     "metadata": {},
     "output_type": "display_data"
    },
    {
     "data": {
      "text/html": [
       "<html><script type=\"math/tex; mode=display\">\\newcommand{\\Bold}[1]{\\mathbf{#1}}\\frac{2 \\, {\\left(4 \\, x^{2} y^{3} - x^{3} y + 2 \\, y^{4} + {\\left(2 \\, x^{4} - x\\right)} y^{2}\\right)} \\frac{\\partial}{\\partial y}w\\left(x, y\\right)}{x^{4} - 2 \\, {\\left(2 \\, x^{2} + x\\right)} y^{3} - 2 \\, {\\left(4 \\, x^{4} + x^{3}\\right)} y^{2} - 2 \\, {\\left(2 \\, x^{6} - x^{2}\\right)} y} + \\frac{2 \\, {\\left(8 \\, x^{2} y^{3} + 4 \\, y^{4} - x^{2} y + {\\left(4 \\, x^{4} - 1\\right)} y^{2}\\right)} \\frac{\\partial}{\\partial y}z\\left(x, y\\right)}{2 \\, {\\left(2 \\, x + 1\\right)} y^{3} - x^{3} + 2 \\, {\\left(4 \\, x^{3} + x^{2}\\right)} y^{2} + 2 \\, {\\left(2 \\, x^{5} - x\\right)} y} + \\frac{\\partial^{2}}{(\\partial y)^{2}}z\\left(x, y\\right)</script></html>"
      ],
      "text/latex": [
       "\\begin{math}\n",
       "\\newcommand{\\Bold}[1]{\\mathbf{#1}}\\frac{2 \\, {\\left(4 \\, x^{2} y^{3} - x^{3} y + 2 \\, y^{4} + {\\left(2 \\, x^{4} - x\\right)} y^{2}\\right)} \\frac{\\partial}{\\partial y}w\\left(x, y\\right)}{x^{4} - 2 \\, {\\left(2 \\, x^{2} + x\\right)} y^{3} - 2 \\, {\\left(4 \\, x^{4} + x^{3}\\right)} y^{2} - 2 \\, {\\left(2 \\, x^{6} - x^{2}\\right)} y} + \\frac{2 \\, {\\left(8 \\, x^{2} y^{3} + 4 \\, y^{4} - x^{2} y + {\\left(4 \\, x^{4} - 1\\right)} y^{2}\\right)} \\frac{\\partial}{\\partial y}z\\left(x, y\\right)}{2 \\, {\\left(2 \\, x + 1\\right)} y^{3} - x^{3} + 2 \\, {\\left(4 \\, x^{3} + x^{2}\\right)} y^{2} + 2 \\, {\\left(2 \\, x^{5} - x\\right)} y} + \\frac{\\partial^{2}}{(\\partial y)^{2}}z\\left(x, y\\right)\n",
       "\\end{math}"
      ],
      "text/plain": [
       "2*(4*x^2*y^3 - x^3*y + 2*y^4 + (2*x^4 - x)*y^2)*diff(w(x, y), y)/(x^4 - 2*(2*x^2 + x)*y^3 - 2*(4*x^4 + x^3)*y^2 - 2*(2*x^6 - x^2)*y) + 2*(8*x^2*y^3 + 4*y^4 - x^2*y + (4*x^4 - 1)*y^2)*diff(z(x, y), y)/(2*(2*x + 1)*y^3 - x^3 + 2*(4*x^3 + x^2)*y^2 + 2*(2*x^5 - x)*y) + diff(z(x, y), y, y)"
      ]
     },
     "metadata": {},
     "output_type": "display_data"
    },
    {
     "data": {
      "text/html": [
       "<html><script type=\"math/tex; mode=display\">\\newcommand{\\Bold}[1]{\\mathbf{#1}}-\\frac{8 \\, {\\left(16 \\, x^{2} y^{9} + x^{6} y^{4} + 4 \\, y^{10} + 4 \\, {\\left(6 \\, x^{4} - x\\right)} y^{8} + 4 \\, {\\left(4 \\, x^{6} - 3 \\, x^{3}\\right)} y^{7} + {\\left(4 \\, x^{8} - 12 \\, x^{5} + x^{2}\\right)} y^{6} - 2 \\, {\\left(2 \\, x^{7} - x^{4}\\right)} y^{5}\\right)} \\frac{\\partial}{\\partial x}w\\left(x, y\\right)}{x^{9} + 4 \\, {\\left(4 \\, x^{5} + 4 \\, x^{4} + x^{3}\\right)} y^{6} + 8 \\, {\\left(8 \\, x^{7} + 6 \\, x^{6} + x^{5}\\right)} y^{5} + 4 \\, {\\left(24 \\, x^{9} + 12 \\, x^{8} + x^{7} - 4 \\, x^{5} - 2 \\, x^{4}\\right)} y^{4} + 4 \\, {\\left(16 \\, x^{11} + 4 \\, x^{10} - 10 \\, x^{7} - 3 \\, x^{6}\\right)} y^{3} + 4 \\, {\\left(4 \\, x^{13} - 8 \\, x^{9} - x^{8} + x^{5}\\right)} y^{2} - 4 \\, {\\left(2 \\, x^{11} - x^{7}\\right)} y} + \\frac{2 \\, {\\left(4 \\, x^{2} y^{3} - x^{3} y + 2 \\, y^{4} + {\\left(2 \\, x^{4} - x\\right)} y^{2}\\right)} \\frac{\\partial}{\\partial y}w\\left(x, y\\right)}{x^{4} - 2 \\, {\\left(2 \\, x^{2} + x\\right)} y^{3} - 2 \\, {\\left(4 \\, x^{4} + x^{3}\\right)} y^{2} - 2 \\, {\\left(2 \\, x^{6} - x^{2}\\right)} y} - \\frac{2 \\, {\\left(24 \\, x^{2} y^{7} + 8 \\, y^{8} + 2 \\, {\\left(12 \\, x^{4} - 2 \\, x - 1\\right)} y^{6} + x^{3} y^{3} + 4 \\, {\\left(2 \\, x^{6} - 2 \\, x^{3} - x^{2}\\right)} y^{5} - {\\left(4 \\, x^{5} + 2 \\, x^{4} - x\\right)} y^{4}\\right)} \\frac{\\partial}{\\partial y}z\\left(x, y\\right)}{x^{7} + 4 \\, {\\left(4 \\, x^{3} + 4 \\, x^{2} + x\\right)} y^{6} + 8 \\, {\\left(8 \\, x^{5} + 6 \\, x^{4} + x^{3}\\right)} y^{5} + 4 \\, {\\left(24 \\, x^{7} + 12 \\, x^{6} + x^{5} - 4 \\, x^{3} - 2 \\, x^{2}\\right)} y^{4} + 4 \\, {\\left(16 \\, x^{9} + 4 \\, x^{8} - 10 \\, x^{5} - 3 \\, x^{4}\\right)} y^{3} + 4 \\, {\\left(4 \\, x^{11} - 8 \\, x^{7} - x^{6} + x^{3}\\right)} y^{2} - 4 \\, {\\left(2 \\, x^{9} - x^{5}\\right)} y} + \\frac{\\partial^{2}}{(\\partial y)^{2}}z\\left(x, y\\right)</script></html>"
      ],
      "text/latex": [
       "\\begin{math}\n",
       "\\newcommand{\\Bold}[1]{\\mathbf{#1}}-\\frac{8 \\, {\\left(16 \\, x^{2} y^{9} + x^{6} y^{4} + 4 \\, y^{10} + 4 \\, {\\left(6 \\, x^{4} - x\\right)} y^{8} + 4 \\, {\\left(4 \\, x^{6} - 3 \\, x^{3}\\right)} y^{7} + {\\left(4 \\, x^{8} - 12 \\, x^{5} + x^{2}\\right)} y^{6} - 2 \\, {\\left(2 \\, x^{7} - x^{4}\\right)} y^{5}\\right)} \\frac{\\partial}{\\partial x}w\\left(x, y\\right)}{x^{9} + 4 \\, {\\left(4 \\, x^{5} + 4 \\, x^{4} + x^{3}\\right)} y^{6} + 8 \\, {\\left(8 \\, x^{7} + 6 \\, x^{6} + x^{5}\\right)} y^{5} + 4 \\, {\\left(24 \\, x^{9} + 12 \\, x^{8} + x^{7} - 4 \\, x^{5} - 2 \\, x^{4}\\right)} y^{4} + 4 \\, {\\left(16 \\, x^{11} + 4 \\, x^{10} - 10 \\, x^{7} - 3 \\, x^{6}\\right)} y^{3} + 4 \\, {\\left(4 \\, x^{13} - 8 \\, x^{9} - x^{8} + x^{5}\\right)} y^{2} - 4 \\, {\\left(2 \\, x^{11} - x^{7}\\right)} y} + \\frac{2 \\, {\\left(4 \\, x^{2} y^{3} - x^{3} y + 2 \\, y^{4} + {\\left(2 \\, x^{4} - x\\right)} y^{2}\\right)} \\frac{\\partial}{\\partial y}w\\left(x, y\\right)}{x^{4} - 2 \\, {\\left(2 \\, x^{2} + x\\right)} y^{3} - 2 \\, {\\left(4 \\, x^{4} + x^{3}\\right)} y^{2} - 2 \\, {\\left(2 \\, x^{6} - x^{2}\\right)} y} - \\frac{2 \\, {\\left(24 \\, x^{2} y^{7} + 8 \\, y^{8} + 2 \\, {\\left(12 \\, x^{4} - 2 \\, x - 1\\right)} y^{6} + x^{3} y^{3} + 4 \\, {\\left(2 \\, x^{6} - 2 \\, x^{3} - x^{2}\\right)} y^{5} - {\\left(4 \\, x^{5} + 2 \\, x^{4} - x\\right)} y^{4}\\right)} \\frac{\\partial}{\\partial y}z\\left(x, y\\right)}{x^{7} + 4 \\, {\\left(4 \\, x^{3} + 4 \\, x^{2} + x\\right)} y^{6} + 8 \\, {\\left(8 \\, x^{5} + 6 \\, x^{4} + x^{3}\\right)} y^{5} + 4 \\, {\\left(24 \\, x^{7} + 12 \\, x^{6} + x^{5} - 4 \\, x^{3} - 2 \\, x^{2}\\right)} y^{4} + 4 \\, {\\left(16 \\, x^{9} + 4 \\, x^{8} - 10 \\, x^{5} - 3 \\, x^{4}\\right)} y^{3} + 4 \\, {\\left(4 \\, x^{11} - 8 \\, x^{7} - x^{6} + x^{3}\\right)} y^{2} - 4 \\, {\\left(2 \\, x^{9} - x^{5}\\right)} y} + \\frac{\\partial^{2}}{(\\partial y)^{2}}z\\left(x, y\\right)\n",
       "\\end{math}"
      ],
      "text/plain": [
       "-8*(16*x^2*y^9 + x^6*y^4 + 4*y^10 + 4*(6*x^4 - x)*y^8 + 4*(4*x^6 - 3*x^3)*y^7 + (4*x^8 - 12*x^5 + x^2)*y^6 - 2*(2*x^7 - x^4)*y^5)*diff(w(x, y), x)/(x^9 + 4*(4*x^5 + 4*x^4 + x^3)*y^6 + 8*(8*x^7 + 6*x^6 + x^5)*y^5 + 4*(24*x^9 + 12*x^8 + x^7 - 4*x^5 - 2*x^4)*y^4 + 4*(16*x^11 + 4*x^10 - 10*x^7 - 3*x^6)*y^3 + 4*(4*x^13 - 8*x^9 - x^8 + x^5)*y^2 - 4*(2*x^11 - x^7)*y) + 2*(4*x^2*y^3 - x^3*y + 2*y^4 + (2*x^4 - x)*y^2)*diff(w(x, y), y)/(x^4 - 2*(2*x^2 + x)*y^3 - 2*(4*x^4 + x^3)*y^2 - 2*(2*x^6 - x^2)*y) - 2*(24*x^2*y^7 + 8*y^8 + 2*(12*x^4 - 2*x - 1)*y^6 + x^3*y^3 + 4*(2*x^6 - 2*x^3 - x^2)*y^5 - (4*x^5 + 2*x^4 - x)*y^4)*diff(z(x, y), y)/(x^7 + 4*(4*x^3 + 4*x^2 + x)*y^6 + 8*(8*x^5 + 6*x^4 + x^3)*y^5 + 4*(24*x^7 + 12*x^6 + x^5 - 4*x^3 - 2*x^2)*y^4 + 4*(16*x^9 + 4*x^8 - 10*x^5 - 3*x^4)*y^3 + 4*(4*x^11 - 8*x^7 - x^6 + x^3)*y^2 - 4*(2*x^9 - x^5)*y) + diff(z(x, y), y, y)"
      ]
     },
     "metadata": {},
     "output_type": "display_data"
    },
    {
     "name": "stdout",
     "output_type": "stream",
     "text": [
      "===================================================== 3\n",
      "This is the new System........\n"
     ]
    },
    {
     "data": {
      "text/html": [
       "<html><script type=\"math/tex; mode=display\">\\newcommand{\\Bold}[1]{\\mathbf{#1}}\\frac{{\\left(x^{4} - 2 \\, {\\left(2 \\, x^{2} + x\\right)} y^{3} - 2 \\, {\\left(4 \\, x^{4} + x^{3}\\right)} y^{2} - 2 \\, {\\left(2 \\, x^{6} - x^{2}\\right)} y\\right)} \\frac{\\partial}{\\partial y}z\\left(x, y\\right)}{4 \\, {\\left(4 \\, x^{2} y^{4} - x^{3} y^{2} + 2 \\, y^{5} + {\\left(2 \\, x^{4} - x\\right)} y^{3}\\right)}} + \\frac{w\\left(x, y\\right)}{2 \\, y} + \\frac{\\partial}{\\partial x}z\\left(x, y\\right)</script></html>"
      ],
      "text/latex": [
       "\\begin{math}\n",
       "\\newcommand{\\Bold}[1]{\\mathbf{#1}}\\frac{{\\left(x^{4} - 2 \\, {\\left(2 \\, x^{2} + x\\right)} y^{3} - 2 \\, {\\left(4 \\, x^{4} + x^{3}\\right)} y^{2} - 2 \\, {\\left(2 \\, x^{6} - x^{2}\\right)} y\\right)} \\frac{\\partial}{\\partial y}z\\left(x, y\\right)}{4 \\, {\\left(4 \\, x^{2} y^{4} - x^{3} y^{2} + 2 \\, y^{5} + {\\left(2 \\, x^{4} - x\\right)} y^{3}\\right)}} + \\frac{w\\left(x, y\\right)}{2 \\, y} + \\frac{\\partial}{\\partial x}z\\left(x, y\\right)\n",
       "\\end{math}"
      ],
      "text/plain": [
       "1/4*(x^4 - 2*(2*x^2 + x)*y^3 - 2*(4*x^4 + x^3)*y^2 - 2*(2*x^6 - x^2)*y)*diff(z(x, y), y)/(4*x^2*y^4 - x^3*y^2 + 2*y^5 + (2*x^4 - x)*y^3) + 1/2*w(x, y)/y + diff(z(x, y), x)"
      ]
     },
     "metadata": {},
     "output_type": "display_data"
    },
    {
     "data": {
      "text/html": [
       "<html><script type=\"math/tex; mode=display\">\\newcommand{\\Bold}[1]{\\mathbf{#1}}\\frac{x \\frac{\\partial}{\\partial y}z\\left(x, y\\right)}{2 \\, {\\left(x^{2} y + y^{2}\\right)}} - \\frac{w\\left(x, y\\right)}{y} + \\frac{\\partial}{\\partial y}w\\left(x, y\\right)</script></html>"
      ],
      "text/latex": [
       "\\begin{math}\n",
       "\\newcommand{\\Bold}[1]{\\mathbf{#1}}\\frac{x \\frac{\\partial}{\\partial y}z\\left(x, y\\right)}{2 \\, {\\left(x^{2} y + y^{2}\\right)}} - \\frac{w\\left(x, y\\right)}{y} + \\frac{\\partial}{\\partial y}w\\left(x, y\\right)\n",
       "\\end{math}"
      ],
      "text/plain": [
       "1/2*x*diff(z(x, y), y)/(x^2*y + y^2) - w(x, y)/y + diff(w(x, y), y)"
      ]
     },
     "metadata": {},
     "output_type": "display_data"
    },
    {
     "data": {
      "text/html": [
       "<html><script type=\"math/tex; mode=display\">\\newcommand{\\Bold}[1]{\\mathbf{#1}}-\\frac{4 \\, x^{3} y w\\left(x, y\\right)}{2 \\, {\\left(2 \\, x + 1\\right)} y^{3} - x^{3} + 2 \\, {\\left(4 \\, x^{3} + x^{2}\\right)} y^{2} + 2 \\, {\\left(2 \\, x^{5} - x\\right)} y} - \\frac{8 \\, x y^{2} w\\left(x, y\\right)}{2 \\, {\\left(2 \\, x + 1\\right)} y^{3} - x^{3} + 2 \\, {\\left(4 \\, x^{3} + x^{2}\\right)} y^{2} + 2 \\, {\\left(2 \\, x^{5} - x\\right)} y} + \\frac{4 \\, y^{3} w\\left(x, y\\right)}{x^{4} - 2 \\, {\\left(2 \\, x^{2} + x\\right)} y^{3} - 2 \\, {\\left(4 \\, x^{4} + x^{3}\\right)} y^{2} - 2 \\, {\\left(2 \\, x^{6} - x^{2}\\right)} y} + \\frac{2 \\, x^{2} w\\left(x, y\\right)}{2 \\, {\\left(2 \\, x + 1\\right)} y^{3} - x^{3} + 2 \\, {\\left(4 \\, x^{3} + x^{2}\\right)} y^{2} + 2 \\, {\\left(2 \\, x^{5} - x\\right)} y} + \\frac{2 \\, y w\\left(x, y\\right)}{2 \\, {\\left(2 \\, x + 1\\right)} y^{3} - x^{3} + 2 \\, {\\left(4 \\, x^{3} + x^{2}\\right)} y^{2} + 2 \\, {\\left(2 \\, x^{5} - x\\right)} y} - \\frac{8 \\, {\\left(16 \\, x^{2} y^{9} + x^{6} y^{4} + 4 \\, y^{10} + 4 \\, {\\left(6 \\, x^{4} - x\\right)} y^{8} + 4 \\, {\\left(4 \\, x^{6} - 3 \\, x^{3}\\right)} y^{7} + {\\left(4 \\, x^{8} - 12 \\, x^{5} + x^{2}\\right)} y^{6} - 2 \\, {\\left(2 \\, x^{7} - x^{4}\\right)} y^{5}\\right)} \\frac{\\partial}{\\partial x}w\\left(x, y\\right)}{x^{9} + 4 \\, {\\left(4 \\, x^{5} + 4 \\, x^{4} + x^{3}\\right)} y^{6} + 8 \\, {\\left(8 \\, x^{7} + 6 \\, x^{6} + x^{5}\\right)} y^{5} + 4 \\, {\\left(24 \\, x^{9} + 12 \\, x^{8} + x^{7} - 4 \\, x^{5} - 2 \\, x^{4}\\right)} y^{4} + 4 \\, {\\left(16 \\, x^{11} + 4 \\, x^{10} - 10 \\, x^{7} - 3 \\, x^{6}\\right)} y^{3} + 4 \\, {\\left(4 \\, x^{13} - 8 \\, x^{9} - x^{8} + x^{5}\\right)} y^{2} - 4 \\, {\\left(2 \\, x^{11} - x^{7}\\right)} y} - \\frac{{\\left(48 \\, x^{2} y^{7} + 16 \\, y^{8} + 4 \\, {\\left(12 \\, x^{4} - 2 \\, x - 1\\right)} y^{6} + 4 \\, {\\left(4 \\, x^{6} - 4 \\, x^{3} - 4 \\, x^{2} - x\\right)} y^{5} - x^{5} - 2 \\, {\\left(4 \\, x^{5} + 14 \\, x^{4} + 4 \\, x^{3} - x\\right)} y^{4} - 2 \\, {\\left(12 \\, x^{6} + 2 \\, x^{5} - 3 \\, x^{3} - 3 \\, x^{2}\\right)} y^{3} - 8 \\, {\\left(x^{8} - x^{5} - x^{4}\\right)} y^{2} + 2 \\, {\\left(2 \\, x^{7} + x^{6} - x^{3}\\right)} y\\right)} \\frac{\\partial}{\\partial y}z\\left(x, y\\right)}{x^{7} + 4 \\, {\\left(4 \\, x^{3} + 4 \\, x^{2} + x\\right)} y^{6} + 8 \\, {\\left(8 \\, x^{5} + 6 \\, x^{4} + x^{3}\\right)} y^{5} + 4 \\, {\\left(24 \\, x^{7} + 12 \\, x^{6} + x^{5} - 4 \\, x^{3} - 2 \\, x^{2}\\right)} y^{4} + 4 \\, {\\left(16 \\, x^{9} + 4 \\, x^{8} - 10 \\, x^{5} - 3 \\, x^{4}\\right)} y^{3} + 4 \\, {\\left(4 \\, x^{11} - 8 \\, x^{7} - x^{6} + x^{3}\\right)} y^{2} - 4 \\, {\\left(2 \\, x^{9} - x^{5}\\right)} y} + \\frac{\\partial^{2}}{(\\partial y)^{2}}z\\left(x, y\\right)</script></html>"
      ],
      "text/latex": [
       "\\begin{math}\n",
       "\\newcommand{\\Bold}[1]{\\mathbf{#1}}-\\frac{4 \\, x^{3} y w\\left(x, y\\right)}{2 \\, {\\left(2 \\, x + 1\\right)} y^{3} - x^{3} + 2 \\, {\\left(4 \\, x^{3} + x^{2}\\right)} y^{2} + 2 \\, {\\left(2 \\, x^{5} - x\\right)} y} - \\frac{8 \\, x y^{2} w\\left(x, y\\right)}{2 \\, {\\left(2 \\, x + 1\\right)} y^{3} - x^{3} + 2 \\, {\\left(4 \\, x^{3} + x^{2}\\right)} y^{2} + 2 \\, {\\left(2 \\, x^{5} - x\\right)} y} + \\frac{4 \\, y^{3} w\\left(x, y\\right)}{x^{4} - 2 \\, {\\left(2 \\, x^{2} + x\\right)} y^{3} - 2 \\, {\\left(4 \\, x^{4} + x^{3}\\right)} y^{2} - 2 \\, {\\left(2 \\, x^{6} - x^{2}\\right)} y} + \\frac{2 \\, x^{2} w\\left(x, y\\right)}{2 \\, {\\left(2 \\, x + 1\\right)} y^{3} - x^{3} + 2 \\, {\\left(4 \\, x^{3} + x^{2}\\right)} y^{2} + 2 \\, {\\left(2 \\, x^{5} - x\\right)} y} + \\frac{2 \\, y w\\left(x, y\\right)}{2 \\, {\\left(2 \\, x + 1\\right)} y^{3} - x^{3} + 2 \\, {\\left(4 \\, x^{3} + x^{2}\\right)} y^{2} + 2 \\, {\\left(2 \\, x^{5} - x\\right)} y} - \\frac{8 \\, {\\left(16 \\, x^{2} y^{9} + x^{6} y^{4} + 4 \\, y^{10} + 4 \\, {\\left(6 \\, x^{4} - x\\right)} y^{8} + 4 \\, {\\left(4 \\, x^{6} - 3 \\, x^{3}\\right)} y^{7} + {\\left(4 \\, x^{8} - 12 \\, x^{5} + x^{2}\\right)} y^{6} - 2 \\, {\\left(2 \\, x^{7} - x^{4}\\right)} y^{5}\\right)} \\frac{\\partial}{\\partial x}w\\left(x, y\\right)}{x^{9} + 4 \\, {\\left(4 \\, x^{5} + 4 \\, x^{4} + x^{3}\\right)} y^{6} + 8 \\, {\\left(8 \\, x^{7} + 6 \\, x^{6} + x^{5}\\right)} y^{5} + 4 \\, {\\left(24 \\, x^{9} + 12 \\, x^{8} + x^{7} - 4 \\, x^{5} - 2 \\, x^{4}\\right)} y^{4} + 4 \\, {\\left(16 \\, x^{11} + 4 \\, x^{10} - 10 \\, x^{7} - 3 \\, x^{6}\\right)} y^{3} + 4 \\, {\\left(4 \\, x^{13} - 8 \\, x^{9} - x^{8} + x^{5}\\right)} y^{2} - 4 \\, {\\left(2 \\, x^{11} - x^{7}\\right)} y} - \\frac{{\\left(48 \\, x^{2} y^{7} + 16 \\, y^{8} + 4 \\, {\\left(12 \\, x^{4} - 2 \\, x - 1\\right)} y^{6} + 4 \\, {\\left(4 \\, x^{6} - 4 \\, x^{3} - 4 \\, x^{2} - x\\right)} y^{5} - x^{5} - 2 \\, {\\left(4 \\, x^{5} + 14 \\, x^{4} + 4 \\, x^{3} - x\\right)} y^{4} - 2 \\, {\\left(12 \\, x^{6} + 2 \\, x^{5} - 3 \\, x^{3} - 3 \\, x^{2}\\right)} y^{3} - 8 \\, {\\left(x^{8} - x^{5} - x^{4}\\right)} y^{2} + 2 \\, {\\left(2 \\, x^{7} + x^{6} - x^{3}\\right)} y\\right)} \\frac{\\partial}{\\partial y}z\\left(x, y\\right)}{x^{7} + 4 \\, {\\left(4 \\, x^{3} + 4 \\, x^{2} + x\\right)} y^{6} + 8 \\, {\\left(8 \\, x^{5} + 6 \\, x^{4} + x^{3}\\right)} y^{5} + 4 \\, {\\left(24 \\, x^{7} + 12 \\, x^{6} + x^{5} - 4 \\, x^{3} - 2 \\, x^{2}\\right)} y^{4} + 4 \\, {\\left(16 \\, x^{9} + 4 \\, x^{8} - 10 \\, x^{5} - 3 \\, x^{4}\\right)} y^{3} + 4 \\, {\\left(4 \\, x^{11} - 8 \\, x^{7} - x^{6} + x^{3}\\right)} y^{2} - 4 \\, {\\left(2 \\, x^{9} - x^{5}\\right)} y} + \\frac{\\partial^{2}}{(\\partial y)^{2}}z\\left(x, y\\right)\n",
       "\\end{math}"
      ],
      "text/plain": [
       "-4*x^3*y*w(x, y)/(2*(2*x + 1)*y^3 - x^3 + 2*(4*x^3 + x^2)*y^2 + 2*(2*x^5 - x)*y) - 8*x*y^2*w(x, y)/(2*(2*x + 1)*y^3 - x^3 + 2*(4*x^3 + x^2)*y^2 + 2*(2*x^5 - x)*y) + 4*y^3*w(x, y)/(x^4 - 2*(2*x^2 + x)*y^3 - 2*(4*x^4 + x^3)*y^2 - 2*(2*x^6 - x^2)*y) + 2*x^2*w(x, y)/(2*(2*x + 1)*y^3 - x^3 + 2*(4*x^3 + x^2)*y^2 + 2*(2*x^5 - x)*y) + 2*y*w(x, y)/(2*(2*x + 1)*y^3 - x^3 + 2*(4*x^3 + x^2)*y^2 + 2*(2*x^5 - x)*y) - 8*(16*x^2*y^9 + x^6*y^4 + 4*y^10 + 4*(6*x^4 - x)*y^8 + 4*(4*x^6 - 3*x^3)*y^7 + (4*x^8 - 12*x^5 + x^2)*y^6 - 2*(2*x^7 - x^4)*y^5)*diff(w(x, y), x)/(x^9 + 4*(4*x^5 + 4*x^4 + x^3)*y^6 + 8*(8*x^7 + 6*x^6 + x^5)*y^5 + 4*(24*x^9 + 12*x^8 + x^7 - 4*x^5 - 2*x^4)*y^4 + 4*(16*x^11 + 4*x^10 - 10*x^7 - 3*x^6)*y^3 + 4*(4*x^13 - 8*x^9 - x^8 + x^5)*y^2 - 4*(2*x^11 - x^7)*y) - (48*x^2*y^7 + 16*y^8 + 4*(12*x^4 - 2*x - 1)*y^6 + 4*(4*x^6 - 4*x^3 - 4*x^2 - x)*y^5 - x^5 - 2*(4*x^5 + 14*x^4 + 4*x^3 - x)*y^4 - 2*(12*x^6 + 2*x^5 - 3*x^3 - 3*x^2)*y^3 - 8*(x^8 - x^5 - x^4)*y^2 + 2*(2*x^7 + x^6 - x^3)*y)*diff(z(x, y), y)/(x^7 + 4*(4*x^3 + 4*x^2 + x)*y^6 + 8*(8*x^5 + 6*x^4 + x^3)*y^5 + 4*(24*x^7 + 12*x^6 + x^5 - 4*x^3 - 2*x^2)*y^4 + 4*(16*x^9 + 4*x^8 - 10*x^5 - 3*x^4)*y^3 + 4*(4*x^11 - 8*x^7 - x^6 + x^3)*y^2 - 4*(2*x^9 - x^5)*y) + diff(z(x, y), y, y)"
      ]
     },
     "metadata": {},
     "output_type": "display_data"
    },
    {
     "data": {
      "text/html": [
       "<html><script type=\"math/tex; mode=display\">\\newcommand{\\Bold}[1]{\\mathbf{#1}}-\\frac{4 \\, x^{3} y w\\left(x, y\\right)}{2 \\, {\\left(2 \\, x + 1\\right)} y^{3} - x^{3} + 2 \\, {\\left(4 \\, x^{3} + x^{2}\\right)} y^{2} + 2 \\, {\\left(2 \\, x^{5} - x\\right)} y} - \\frac{8 \\, x y^{2} w\\left(x, y\\right)}{2 \\, {\\left(2 \\, x + 1\\right)} y^{3} - x^{3} + 2 \\, {\\left(4 \\, x^{3} + x^{2}\\right)} y^{2} + 2 \\, {\\left(2 \\, x^{5} - x\\right)} y} + \\frac{4 \\, y^{3} w\\left(x, y\\right)}{x^{4} - 2 \\, {\\left(2 \\, x^{2} + x\\right)} y^{3} - 2 \\, {\\left(4 \\, x^{4} + x^{3}\\right)} y^{2} - 2 \\, {\\left(2 \\, x^{6} - x^{2}\\right)} y} + \\frac{2 \\, x^{2} w\\left(x, y\\right)}{2 \\, {\\left(2 \\, x + 1\\right)} y^{3} - x^{3} + 2 \\, {\\left(4 \\, x^{3} + x^{2}\\right)} y^{2} + 2 \\, {\\left(2 \\, x^{5} - x\\right)} y} + \\frac{2 \\, y w\\left(x, y\\right)}{2 \\, {\\left(2 \\, x + 1\\right)} y^{3} - x^{3} + 2 \\, {\\left(4 \\, x^{3} + x^{2}\\right)} y^{2} + 2 \\, {\\left(2 \\, x^{5} - x\\right)} y} + \\frac{{\\left(8 \\, x^{4} y^{2} + 16 \\, x^{2} y^{3} + 8 \\, y^{4} - x\\right)} \\frac{\\partial}{\\partial y}z\\left(x, y\\right)}{2 \\, {\\left(2 \\, x + 1\\right)} y^{3} - x^{3} + 2 \\, {\\left(4 \\, x^{3} + x^{2}\\right)} y^{2} + 2 \\, {\\left(2 \\, x^{5} - x\\right)} y} + \\frac{\\partial^{2}}{(\\partial y)^{2}}z\\left(x, y\\right)</script></html>"
      ],
      "text/latex": [
       "\\begin{math}\n",
       "\\newcommand{\\Bold}[1]{\\mathbf{#1}}-\\frac{4 \\, x^{3} y w\\left(x, y\\right)}{2 \\, {\\left(2 \\, x + 1\\right)} y^{3} - x^{3} + 2 \\, {\\left(4 \\, x^{3} + x^{2}\\right)} y^{2} + 2 \\, {\\left(2 \\, x^{5} - x\\right)} y} - \\frac{8 \\, x y^{2} w\\left(x, y\\right)}{2 \\, {\\left(2 \\, x + 1\\right)} y^{3} - x^{3} + 2 \\, {\\left(4 \\, x^{3} + x^{2}\\right)} y^{2} + 2 \\, {\\left(2 \\, x^{5} - x\\right)} y} + \\frac{4 \\, y^{3} w\\left(x, y\\right)}{x^{4} - 2 \\, {\\left(2 \\, x^{2} + x\\right)} y^{3} - 2 \\, {\\left(4 \\, x^{4} + x^{3}\\right)} y^{2} - 2 \\, {\\left(2 \\, x^{6} - x^{2}\\right)} y} + \\frac{2 \\, x^{2} w\\left(x, y\\right)}{2 \\, {\\left(2 \\, x + 1\\right)} y^{3} - x^{3} + 2 \\, {\\left(4 \\, x^{3} + x^{2}\\right)} y^{2} + 2 \\, {\\left(2 \\, x^{5} - x\\right)} y} + \\frac{2 \\, y w\\left(x, y\\right)}{2 \\, {\\left(2 \\, x + 1\\right)} y^{3} - x^{3} + 2 \\, {\\left(4 \\, x^{3} + x^{2}\\right)} y^{2} + 2 \\, {\\left(2 \\, x^{5} - x\\right)} y} + \\frac{{\\left(8 \\, x^{4} y^{2} + 16 \\, x^{2} y^{3} + 8 \\, y^{4} - x\\right)} \\frac{\\partial}{\\partial y}z\\left(x, y\\right)}{2 \\, {\\left(2 \\, x + 1\\right)} y^{3} - x^{3} + 2 \\, {\\left(4 \\, x^{3} + x^{2}\\right)} y^{2} + 2 \\, {\\left(2 \\, x^{5} - x\\right)} y} + \\frac{\\partial^{2}}{(\\partial y)^{2}}z\\left(x, y\\right)\n",
       "\\end{math}"
      ],
      "text/plain": [
       "-4*x^3*y*w(x, y)/(2*(2*x + 1)*y^3 - x^3 + 2*(4*x^3 + x^2)*y^2 + 2*(2*x^5 - x)*y) - 8*x*y^2*w(x, y)/(2*(2*x + 1)*y^3 - x^3 + 2*(4*x^3 + x^2)*y^2 + 2*(2*x^5 - x)*y) + 4*y^3*w(x, y)/(x^4 - 2*(2*x^2 + x)*y^3 - 2*(4*x^4 + x^3)*y^2 - 2*(2*x^6 - x^2)*y) + 2*x^2*w(x, y)/(2*(2*x + 1)*y^3 - x^3 + 2*(4*x^3 + x^2)*y^2 + 2*(2*x^5 - x)*y) + 2*y*w(x, y)/(2*(2*x + 1)*y^3 - x^3 + 2*(4*x^3 + x^2)*y^2 + 2*(2*x^5 - x)*y) + (8*x^4*y^2 + 16*x^2*y^3 + 8*y^4 - x)*diff(z(x, y), y)/(2*(2*x + 1)*y^3 - x^3 + 2*(4*x^3 + x^2)*y^2 + 2*(2*x^5 - x)*y) + diff(z(x, y), y, y)"
      ]
     },
     "metadata": {},
     "output_type": "display_data"
    },
    {
     "data": {
      "text/html": [
       "<html><script type=\"math/tex; mode=display\">\\newcommand{\\Bold}[1]{\\mathbf{#1}}-\\frac{2 \\, x w\\left(x, y\\right)}{y} + \\frac{{\\left(8 \\, x^{2} y^{2} + 4 \\, y^{3} - x^{2} + {\\left(4 \\, x^{4} - 1\\right)} y\\right)} \\frac{\\partial}{\\partial y}z\\left(x, y\\right)}{2 \\, x^{2} y + 2 \\, y^{2} - x} - \\frac{2 \\, w\\left(x, y\\right)}{x} + \\frac{\\partial^{2}}{(\\partial y)^{2}}z\\left(x, y\\right)</script></html>"
      ],
      "text/latex": [
       "\\begin{math}\n",
       "\\newcommand{\\Bold}[1]{\\mathbf{#1}}-\\frac{2 \\, x w\\left(x, y\\right)}{y} + \\frac{{\\left(8 \\, x^{2} y^{2} + 4 \\, y^{3} - x^{2} + {\\left(4 \\, x^{4} - 1\\right)} y\\right)} \\frac{\\partial}{\\partial y}z\\left(x, y\\right)}{2 \\, x^{2} y + 2 \\, y^{2} - x} - \\frac{2 \\, w\\left(x, y\\right)}{x} + \\frac{\\partial^{2}}{(\\partial y)^{2}}z\\left(x, y\\right)\n",
       "\\end{math}"
      ],
      "text/plain": [
       "-2*x*w(x, y)/y + (8*x^2*y^2 + 4*y^3 - x^2 + (4*x^4 - 1)*y)*diff(z(x, y), y)/(2*x^2*y + 2*y^2 - x) - 2*w(x, y)/x + diff(z(x, y), y, y)"
      ]
     },
     "metadata": {},
     "output_type": "display_data"
    },
    {
     "name": "stdout",
     "output_type": "stream",
     "text": [
      "===================================================== 4\n",
      "This is the new System........\n"
     ]
    },
    {
     "data": {
      "text/html": [
       "<html><script type=\"math/tex; mode=display\">\\newcommand{\\Bold}[1]{\\mathbf{#1}}\\frac{{\\left(x^{4} - 2 \\, {\\left(2 \\, x^{2} + x\\right)} y^{3} - 2 \\, {\\left(4 \\, x^{4} + x^{3}\\right)} y^{2} - 2 \\, {\\left(2 \\, x^{6} - x^{2}\\right)} y\\right)} \\frac{\\partial}{\\partial y}z\\left(x, y\\right)}{4 \\, {\\left(4 \\, x^{2} y^{4} - x^{3} y^{2} + 2 \\, y^{5} + {\\left(2 \\, x^{4} - x\\right)} y^{3}\\right)}} + \\frac{w\\left(x, y\\right)}{2 \\, y} + \\frac{\\partial}{\\partial x}z\\left(x, y\\right)</script></html>"
      ],
      "text/latex": [
       "\\begin{math}\n",
       "\\newcommand{\\Bold}[1]{\\mathbf{#1}}\\frac{{\\left(x^{4} - 2 \\, {\\left(2 \\, x^{2} + x\\right)} y^{3} - 2 \\, {\\left(4 \\, x^{4} + x^{3}\\right)} y^{2} - 2 \\, {\\left(2 \\, x^{6} - x^{2}\\right)} y\\right)} \\frac{\\partial}{\\partial y}z\\left(x, y\\right)}{4 \\, {\\left(4 \\, x^{2} y^{4} - x^{3} y^{2} + 2 \\, y^{5} + {\\left(2 \\, x^{4} - x\\right)} y^{3}\\right)}} + \\frac{w\\left(x, y\\right)}{2 \\, y} + \\frac{\\partial}{\\partial x}z\\left(x, y\\right)\n",
       "\\end{math}"
      ],
      "text/plain": [
       "1/4*(x^4 - 2*(2*x^2 + x)*y^3 - 2*(4*x^4 + x^3)*y^2 - 2*(2*x^6 - x^2)*y)*diff(z(x, y), y)/(4*x^2*y^4 - x^3*y^2 + 2*y^5 + (2*x^4 - x)*y^3) + 1/2*w(x, y)/y + diff(z(x, y), x)"
      ]
     },
     "metadata": {},
     "output_type": "display_data"
    },
    {
     "data": {
      "text/html": [
       "<html><script type=\"math/tex; mode=display\">\\newcommand{\\Bold}[1]{\\mathbf{#1}}\\frac{x \\frac{\\partial}{\\partial y}z\\left(x, y\\right)}{2 \\, {\\left(x^{2} y + y^{2}\\right)}} - \\frac{w\\left(x, y\\right)}{y} + \\frac{\\partial}{\\partial y}w\\left(x, y\\right)</script></html>"
      ],
      "text/latex": [
       "\\begin{math}\n",
       "\\newcommand{\\Bold}[1]{\\mathbf{#1}}\\frac{x \\frac{\\partial}{\\partial y}z\\left(x, y\\right)}{2 \\, {\\left(x^{2} y + y^{2}\\right)}} - \\frac{w\\left(x, y\\right)}{y} + \\frac{\\partial}{\\partial y}w\\left(x, y\\right)\n",
       "\\end{math}"
      ],
      "text/plain": [
       "1/2*x*diff(z(x, y), y)/(x^2*y + y^2) - w(x, y)/y + diff(w(x, y), y)"
      ]
     },
     "metadata": {},
     "output_type": "display_data"
    },
    {
     "data": {
      "text/html": [
       "<html><script type=\"math/tex; mode=display\">\\newcommand{\\Bold}[1]{\\mathbf{#1}}-\\frac{2 \\, x w\\left(x, y\\right)}{y} + \\frac{{\\left(8 \\, x^{2} y^{2} + 4 \\, y^{3} - x^{2} + {\\left(4 \\, x^{4} - 1\\right)} y\\right)} \\frac{\\partial}{\\partial y}z\\left(x, y\\right)}{2 \\, x^{2} y + 2 \\, y^{2} - x} - \\frac{2 \\, w\\left(x, y\\right)}{x} + \\frac{\\partial^{2}}{(\\partial y)^{2}}z\\left(x, y\\right)</script></html>"
      ],
      "text/latex": [
       "\\begin{math}\n",
       "\\newcommand{\\Bold}[1]{\\mathbf{#1}}-\\frac{2 \\, x w\\left(x, y\\right)}{y} + \\frac{{\\left(8 \\, x^{2} y^{2} + 4 \\, y^{3} - x^{2} + {\\left(4 \\, x^{4} - 1\\right)} y\\right)} \\frac{\\partial}{\\partial y}z\\left(x, y\\right)}{2 \\, x^{2} y + 2 \\, y^{2} - x} - \\frac{2 \\, w\\left(x, y\\right)}{x} + \\frac{\\partial^{2}}{(\\partial y)^{2}}z\\left(x, y\\right)\n",
       "\\end{math}"
      ],
      "text/plain": [
       "-2*x*w(x, y)/y + (8*x^2*y^2 + 4*y^3 - x^2 + (4*x^4 - 1)*y)*diff(z(x, y), y)/(2*x^2*y + 2*y^2 - x) - 2*w(x, y)/x + diff(z(x, y), y, y)"
      ]
     },
     "metadata": {},
     "output_type": "display_data"
    },
    {
     "data": {
      "text/html": [
       "<html><script type=\"math/tex; mode=display\">\\newcommand{\\Bold}[1]{\\mathbf{#1}}-\\frac{4 \\, x^{3} y w\\left(x, y\\right)}{2 \\, {\\left(2 \\, x + 1\\right)} y^{3} - x^{3} + 2 \\, {\\left(4 \\, x^{3} + x^{2}\\right)} y^{2} + 2 \\, {\\left(2 \\, x^{5} - x\\right)} y} - \\frac{8 \\, x y^{2} w\\left(x, y\\right)}{2 \\, {\\left(2 \\, x + 1\\right)} y^{3} - x^{3} + 2 \\, {\\left(4 \\, x^{3} + x^{2}\\right)} y^{2} + 2 \\, {\\left(2 \\, x^{5} - x\\right)} y} + \\frac{4 \\, y^{3} w\\left(x, y\\right)}{x^{4} - 2 \\, {\\left(2 \\, x^{2} + x\\right)} y^{3} - 2 \\, {\\left(4 \\, x^{4} + x^{3}\\right)} y^{2} - 2 \\, {\\left(2 \\, x^{6} - x^{2}\\right)} y} + \\frac{2 \\, x^{2} w\\left(x, y\\right)}{2 \\, {\\left(2 \\, x + 1\\right)} y^{3} - x^{3} + 2 \\, {\\left(4 \\, x^{3} + x^{2}\\right)} y^{2} + 2 \\, {\\left(2 \\, x^{5} - x\\right)} y} + \\frac{2 \\, y w\\left(x, y\\right)}{2 \\, {\\left(2 \\, x + 1\\right)} y^{3} - x^{3} + 2 \\, {\\left(4 \\, x^{3} + x^{2}\\right)} y^{2} + 2 \\, {\\left(2 \\, x^{5} - x\\right)} y} + \\frac{{\\left(8 \\, x^{4} y^{2} + 16 \\, x^{2} y^{3} + 8 \\, y^{4} - x\\right)} \\frac{\\partial}{\\partial y}z\\left(x, y\\right)}{2 \\, {\\left(2 \\, x + 1\\right)} y^{3} - x^{3} + 2 \\, {\\left(4 \\, x^{3} + x^{2}\\right)} y^{2} + 2 \\, {\\left(2 \\, x^{5} - x\\right)} y} + \\frac{\\partial^{2}}{(\\partial y)^{2}}z\\left(x, y\\right)</script></html>"
      ],
      "text/latex": [
       "\\begin{math}\n",
       "\\newcommand{\\Bold}[1]{\\mathbf{#1}}-\\frac{4 \\, x^{3} y w\\left(x, y\\right)}{2 \\, {\\left(2 \\, x + 1\\right)} y^{3} - x^{3} + 2 \\, {\\left(4 \\, x^{3} + x^{2}\\right)} y^{2} + 2 \\, {\\left(2 \\, x^{5} - x\\right)} y} - \\frac{8 \\, x y^{2} w\\left(x, y\\right)}{2 \\, {\\left(2 \\, x + 1\\right)} y^{3} - x^{3} + 2 \\, {\\left(4 \\, x^{3} + x^{2}\\right)} y^{2} + 2 \\, {\\left(2 \\, x^{5} - x\\right)} y} + \\frac{4 \\, y^{3} w\\left(x, y\\right)}{x^{4} - 2 \\, {\\left(2 \\, x^{2} + x\\right)} y^{3} - 2 \\, {\\left(4 \\, x^{4} + x^{3}\\right)} y^{2} - 2 \\, {\\left(2 \\, x^{6} - x^{2}\\right)} y} + \\frac{2 \\, x^{2} w\\left(x, y\\right)}{2 \\, {\\left(2 \\, x + 1\\right)} y^{3} - x^{3} + 2 \\, {\\left(4 \\, x^{3} + x^{2}\\right)} y^{2} + 2 \\, {\\left(2 \\, x^{5} - x\\right)} y} + \\frac{2 \\, y w\\left(x, y\\right)}{2 \\, {\\left(2 \\, x + 1\\right)} y^{3} - x^{3} + 2 \\, {\\left(4 \\, x^{3} + x^{2}\\right)} y^{2} + 2 \\, {\\left(2 \\, x^{5} - x\\right)} y} + \\frac{{\\left(8 \\, x^{4} y^{2} + 16 \\, x^{2} y^{3} + 8 \\, y^{4} - x\\right)} \\frac{\\partial}{\\partial y}z\\left(x, y\\right)}{2 \\, {\\left(2 \\, x + 1\\right)} y^{3} - x^{3} + 2 \\, {\\left(4 \\, x^{3} + x^{2}\\right)} y^{2} + 2 \\, {\\left(2 \\, x^{5} - x\\right)} y} + \\frac{\\partial^{2}}{(\\partial y)^{2}}z\\left(x, y\\right)\n",
       "\\end{math}"
      ],
      "text/plain": [
       "-4*x^3*y*w(x, y)/(2*(2*x + 1)*y^3 - x^3 + 2*(4*x^3 + x^2)*y^2 + 2*(2*x^5 - x)*y) - 8*x*y^2*w(x, y)/(2*(2*x + 1)*y^3 - x^3 + 2*(4*x^3 + x^2)*y^2 + 2*(2*x^5 - x)*y) + 4*y^3*w(x, y)/(x^4 - 2*(2*x^2 + x)*y^3 - 2*(4*x^4 + x^3)*y^2 - 2*(2*x^6 - x^2)*y) + 2*x^2*w(x, y)/(2*(2*x + 1)*y^3 - x^3 + 2*(4*x^3 + x^2)*y^2 + 2*(2*x^5 - x)*y) + 2*y*w(x, y)/(2*(2*x + 1)*y^3 - x^3 + 2*(4*x^3 + x^2)*y^2 + 2*(2*x^5 - x)*y) + (8*x^4*y^2 + 16*x^2*y^3 + 8*y^4 - x)*diff(z(x, y), y)/(2*(2*x + 1)*y^3 - x^3 + 2*(4*x^3 + x^2)*y^2 + 2*(2*x^5 - x)*y) + diff(z(x, y), y, y)"
      ]
     },
     "metadata": {},
     "output_type": "display_data"
    },
    {
     "data": {
      "text/html": [
       "<html><script type=\"math/tex; mode=display\">\\newcommand{\\Bold}[1]{\\mathbf{#1}}-\\frac{4 \\, x^{3} y w\\left(x, y\\right)}{2 \\, {\\left(2 \\, x + 1\\right)} y^{3} - x^{3} + 2 \\, {\\left(4 \\, x^{3} + x^{2}\\right)} y^{2} + 2 \\, {\\left(2 \\, x^{5} - x\\right)} y} - \\frac{8 \\, x y^{2} w\\left(x, y\\right)}{2 \\, {\\left(2 \\, x + 1\\right)} y^{3} - x^{3} + 2 \\, {\\left(4 \\, x^{3} + x^{2}\\right)} y^{2} + 2 \\, {\\left(2 \\, x^{5} - x\\right)} y} + \\frac{4 \\, y^{3} w\\left(x, y\\right)}{x^{4} - 2 \\, {\\left(2 \\, x^{2} + x\\right)} y^{3} - 2 \\, {\\left(4 \\, x^{4} + x^{3}\\right)} y^{2} - 2 \\, {\\left(2 \\, x^{6} - x^{2}\\right)} y} + \\frac{2 \\, x^{2} w\\left(x, y\\right)}{2 \\, {\\left(2 \\, x + 1\\right)} y^{3} - x^{3} + 2 \\, {\\left(4 \\, x^{3} + x^{2}\\right)} y^{2} + 2 \\, {\\left(2 \\, x^{5} - x\\right)} y} + \\frac{2 \\, y w\\left(x, y\\right)}{2 \\, {\\left(2 \\, x + 1\\right)} y^{3} - x^{3} + 2 \\, {\\left(4 \\, x^{3} + x^{2}\\right)} y^{2} + 2 \\, {\\left(2 \\, x^{5} - x\\right)} y} - \\frac{8 \\, {\\left(16 \\, x^{2} y^{9} + x^{6} y^{4} + 4 \\, y^{10} + 4 \\, {\\left(6 \\, x^{4} - x\\right)} y^{8} + 4 \\, {\\left(4 \\, x^{6} - 3 \\, x^{3}\\right)} y^{7} + {\\left(4 \\, x^{8} - 12 \\, x^{5} + x^{2}\\right)} y^{6} - 2 \\, {\\left(2 \\, x^{7} - x^{4}\\right)} y^{5}\\right)} \\frac{\\partial}{\\partial x}w\\left(x, y\\right)}{x^{9} + 4 \\, {\\left(4 \\, x^{5} + 4 \\, x^{4} + x^{3}\\right)} y^{6} + 8 \\, {\\left(8 \\, x^{7} + 6 \\, x^{6} + x^{5}\\right)} y^{5} + 4 \\, {\\left(24 \\, x^{9} + 12 \\, x^{8} + x^{7} - 4 \\, x^{5} - 2 \\, x^{4}\\right)} y^{4} + 4 \\, {\\left(16 \\, x^{11} + 4 \\, x^{10} - 10 \\, x^{7} - 3 \\, x^{6}\\right)} y^{3} + 4 \\, {\\left(4 \\, x^{13} - 8 \\, x^{9} - x^{8} + x^{5}\\right)} y^{2} - 4 \\, {\\left(2 \\, x^{11} - x^{7}\\right)} y} - \\frac{{\\left(48 \\, x^{2} y^{7} + 16 \\, y^{8} + 4 \\, {\\left(12 \\, x^{4} - 2 \\, x - 1\\right)} y^{6} + 4 \\, {\\left(4 \\, x^{6} - 4 \\, x^{3} - 4 \\, x^{2} - x\\right)} y^{5} - x^{5} - 2 \\, {\\left(4 \\, x^{5} + 14 \\, x^{4} + 4 \\, x^{3} - x\\right)} y^{4} - 2 \\, {\\left(12 \\, x^{6} + 2 \\, x^{5} - 3 \\, x^{3} - 3 \\, x^{2}\\right)} y^{3} - 8 \\, {\\left(x^{8} - x^{5} - x^{4}\\right)} y^{2} + 2 \\, {\\left(2 \\, x^{7} + x^{6} - x^{3}\\right)} y\\right)} \\frac{\\partial}{\\partial y}z\\left(x, y\\right)}{x^{7} + 4 \\, {\\left(4 \\, x^{3} + 4 \\, x^{2} + x\\right)} y^{6} + 8 \\, {\\left(8 \\, x^{5} + 6 \\, x^{4} + x^{3}\\right)} y^{5} + 4 \\, {\\left(24 \\, x^{7} + 12 \\, x^{6} + x^{5} - 4 \\, x^{3} - 2 \\, x^{2}\\right)} y^{4} + 4 \\, {\\left(16 \\, x^{9} + 4 \\, x^{8} - 10 \\, x^{5} - 3 \\, x^{4}\\right)} y^{3} + 4 \\, {\\left(4 \\, x^{11} - 8 \\, x^{7} - x^{6} + x^{3}\\right)} y^{2} - 4 \\, {\\left(2 \\, x^{9} - x^{5}\\right)} y} + \\frac{\\partial^{2}}{(\\partial y)^{2}}z\\left(x, y\\right)</script></html>"
      ],
      "text/latex": [
       "\\begin{math}\n",
       "\\newcommand{\\Bold}[1]{\\mathbf{#1}}-\\frac{4 \\, x^{3} y w\\left(x, y\\right)}{2 \\, {\\left(2 \\, x + 1\\right)} y^{3} - x^{3} + 2 \\, {\\left(4 \\, x^{3} + x^{2}\\right)} y^{2} + 2 \\, {\\left(2 \\, x^{5} - x\\right)} y} - \\frac{8 \\, x y^{2} w\\left(x, y\\right)}{2 \\, {\\left(2 \\, x + 1\\right)} y^{3} - x^{3} + 2 \\, {\\left(4 \\, x^{3} + x^{2}\\right)} y^{2} + 2 \\, {\\left(2 \\, x^{5} - x\\right)} y} + \\frac{4 \\, y^{3} w\\left(x, y\\right)}{x^{4} - 2 \\, {\\left(2 \\, x^{2} + x\\right)} y^{3} - 2 \\, {\\left(4 \\, x^{4} + x^{3}\\right)} y^{2} - 2 \\, {\\left(2 \\, x^{6} - x^{2}\\right)} y} + \\frac{2 \\, x^{2} w\\left(x, y\\right)}{2 \\, {\\left(2 \\, x + 1\\right)} y^{3} - x^{3} + 2 \\, {\\left(4 \\, x^{3} + x^{2}\\right)} y^{2} + 2 \\, {\\left(2 \\, x^{5} - x\\right)} y} + \\frac{2 \\, y w\\left(x, y\\right)}{2 \\, {\\left(2 \\, x + 1\\right)} y^{3} - x^{3} + 2 \\, {\\left(4 \\, x^{3} + x^{2}\\right)} y^{2} + 2 \\, {\\left(2 \\, x^{5} - x\\right)} y} - \\frac{8 \\, {\\left(16 \\, x^{2} y^{9} + x^{6} y^{4} + 4 \\, y^{10} + 4 \\, {\\left(6 \\, x^{4} - x\\right)} y^{8} + 4 \\, {\\left(4 \\, x^{6} - 3 \\, x^{3}\\right)} y^{7} + {\\left(4 \\, x^{8} - 12 \\, x^{5} + x^{2}\\right)} y^{6} - 2 \\, {\\left(2 \\, x^{7} - x^{4}\\right)} y^{5}\\right)} \\frac{\\partial}{\\partial x}w\\left(x, y\\right)}{x^{9} + 4 \\, {\\left(4 \\, x^{5} + 4 \\, x^{4} + x^{3}\\right)} y^{6} + 8 \\, {\\left(8 \\, x^{7} + 6 \\, x^{6} + x^{5}\\right)} y^{5} + 4 \\, {\\left(24 \\, x^{9} + 12 \\, x^{8} + x^{7} - 4 \\, x^{5} - 2 \\, x^{4}\\right)} y^{4} + 4 \\, {\\left(16 \\, x^{11} + 4 \\, x^{10} - 10 \\, x^{7} - 3 \\, x^{6}\\right)} y^{3} + 4 \\, {\\left(4 \\, x^{13} - 8 \\, x^{9} - x^{8} + x^{5}\\right)} y^{2} - 4 \\, {\\left(2 \\, x^{11} - x^{7}\\right)} y} - \\frac{{\\left(48 \\, x^{2} y^{7} + 16 \\, y^{8} + 4 \\, {\\left(12 \\, x^{4} - 2 \\, x - 1\\right)} y^{6} + 4 \\, {\\left(4 \\, x^{6} - 4 \\, x^{3} - 4 \\, x^{2} - x\\right)} y^{5} - x^{5} - 2 \\, {\\left(4 \\, x^{5} + 14 \\, x^{4} + 4 \\, x^{3} - x\\right)} y^{4} - 2 \\, {\\left(12 \\, x^{6} + 2 \\, x^{5} - 3 \\, x^{3} - 3 \\, x^{2}\\right)} y^{3} - 8 \\, {\\left(x^{8} - x^{5} - x^{4}\\right)} y^{2} + 2 \\, {\\left(2 \\, x^{7} + x^{6} - x^{3}\\right)} y\\right)} \\frac{\\partial}{\\partial y}z\\left(x, y\\right)}{x^{7} + 4 \\, {\\left(4 \\, x^{3} + 4 \\, x^{2} + x\\right)} y^{6} + 8 \\, {\\left(8 \\, x^{5} + 6 \\, x^{4} + x^{3}\\right)} y^{5} + 4 \\, {\\left(24 \\, x^{7} + 12 \\, x^{6} + x^{5} - 4 \\, x^{3} - 2 \\, x^{2}\\right)} y^{4} + 4 \\, {\\left(16 \\, x^{9} + 4 \\, x^{8} - 10 \\, x^{5} - 3 \\, x^{4}\\right)} y^{3} + 4 \\, {\\left(4 \\, x^{11} - 8 \\, x^{7} - x^{6} + x^{3}\\right)} y^{2} - 4 \\, {\\left(2 \\, x^{9} - x^{5}\\right)} y} + \\frac{\\partial^{2}}{(\\partial y)^{2}}z\\left(x, y\\right)\n",
       "\\end{math}"
      ],
      "text/plain": [
       "-4*x^3*y*w(x, y)/(2*(2*x + 1)*y^3 - x^3 + 2*(4*x^3 + x^2)*y^2 + 2*(2*x^5 - x)*y) - 8*x*y^2*w(x, y)/(2*(2*x + 1)*y^3 - x^3 + 2*(4*x^3 + x^2)*y^2 + 2*(2*x^5 - x)*y) + 4*y^3*w(x, y)/(x^4 - 2*(2*x^2 + x)*y^3 - 2*(4*x^4 + x^3)*y^2 - 2*(2*x^6 - x^2)*y) + 2*x^2*w(x, y)/(2*(2*x + 1)*y^3 - x^3 + 2*(4*x^3 + x^2)*y^2 + 2*(2*x^5 - x)*y) + 2*y*w(x, y)/(2*(2*x + 1)*y^3 - x^3 + 2*(4*x^3 + x^2)*y^2 + 2*(2*x^5 - x)*y) - 8*(16*x^2*y^9 + x^6*y^4 + 4*y^10 + 4*(6*x^4 - x)*y^8 + 4*(4*x^6 - 3*x^3)*y^7 + (4*x^8 - 12*x^5 + x^2)*y^6 - 2*(2*x^7 - x^4)*y^5)*diff(w(x, y), x)/(x^9 + 4*(4*x^5 + 4*x^4 + x^3)*y^6 + 8*(8*x^7 + 6*x^6 + x^5)*y^5 + 4*(24*x^9 + 12*x^8 + x^7 - 4*x^5 - 2*x^4)*y^4 + 4*(16*x^11 + 4*x^10 - 10*x^7 - 3*x^6)*y^3 + 4*(4*x^13 - 8*x^9 - x^8 + x^5)*y^2 - 4*(2*x^11 - x^7)*y) - (48*x^2*y^7 + 16*y^8 + 4*(12*x^4 - 2*x - 1)*y^6 + 4*(4*x^6 - 4*x^3 - 4*x^2 - x)*y^5 - x^5 - 2*(4*x^5 + 14*x^4 + 4*x^3 - x)*y^4 - 2*(12*x^6 + 2*x^5 - 3*x^3 - 3*x^2)*y^3 - 8*(x^8 - x^5 - x^4)*y^2 + 2*(2*x^7 + x^6 - x^3)*y)*diff(z(x, y), y)/(x^7 + 4*(4*x^3 + 4*x^2 + x)*y^6 + 8*(8*x^5 + 6*x^4 + x^3)*y^5 + 4*(24*x^7 + 12*x^6 + x^5 - 4*x^3 - 2*x^2)*y^4 + 4*(16*x^9 + 4*x^8 - 10*x^5 - 3*x^4)*y^3 + 4*(4*x^11 - 8*x^7 - x^6 + x^3)*y^2 - 4*(2*x^9 - x^5)*y) + diff(z(x, y), y, y)"
      ]
     },
     "metadata": {},
     "output_type": "display_data"
    },
    {
     "name": "stdout",
     "output_type": "stream",
     "text": [
      "===================================================== 3\n",
      "This is the new System........\n"
     ]
    },
    {
     "data": {
      "text/html": [
       "<html><script type=\"math/tex; mode=display\">\\newcommand{\\Bold}[1]{\\mathbf{#1}}\\frac{{\\left(x^{4} - 2 \\, {\\left(2 \\, x^{2} + x\\right)} y^{3} - 2 \\, {\\left(4 \\, x^{4} + x^{3}\\right)} y^{2} - 2 \\, {\\left(2 \\, x^{6} - x^{2}\\right)} y\\right)} \\frac{\\partial}{\\partial y}z\\left(x, y\\right)}{4 \\, {\\left(4 \\, x^{2} y^{4} - x^{3} y^{2} + 2 \\, y^{5} + {\\left(2 \\, x^{4} - x\\right)} y^{3}\\right)}} + \\frac{w\\left(x, y\\right)}{2 \\, y} + \\frac{\\partial}{\\partial x}z\\left(x, y\\right)</script></html>"
      ],
      "text/latex": [
       "\\begin{math}\n",
       "\\newcommand{\\Bold}[1]{\\mathbf{#1}}\\frac{{\\left(x^{4} - 2 \\, {\\left(2 \\, x^{2} + x\\right)} y^{3} - 2 \\, {\\left(4 \\, x^{4} + x^{3}\\right)} y^{2} - 2 \\, {\\left(2 \\, x^{6} - x^{2}\\right)} y\\right)} \\frac{\\partial}{\\partial y}z\\left(x, y\\right)}{4 \\, {\\left(4 \\, x^{2} y^{4} - x^{3} y^{2} + 2 \\, y^{5} + {\\left(2 \\, x^{4} - x\\right)} y^{3}\\right)}} + \\frac{w\\left(x, y\\right)}{2 \\, y} + \\frac{\\partial}{\\partial x}z\\left(x, y\\right)\n",
       "\\end{math}"
      ],
      "text/plain": [
       "1/4*(x^4 - 2*(2*x^2 + x)*y^3 - 2*(4*x^4 + x^3)*y^2 - 2*(2*x^6 - x^2)*y)*diff(z(x, y), y)/(4*x^2*y^4 - x^3*y^2 + 2*y^5 + (2*x^4 - x)*y^3) + 1/2*w(x, y)/y + diff(z(x, y), x)"
      ]
     },
     "metadata": {},
     "output_type": "display_data"
    },
    {
     "data": {
      "text/html": [
       "<html><script type=\"math/tex; mode=display\">\\newcommand{\\Bold}[1]{\\mathbf{#1}}\\frac{x \\frac{\\partial}{\\partial y}z\\left(x, y\\right)}{2 \\, {\\left(x^{2} y + y^{2}\\right)}} - \\frac{w\\left(x, y\\right)}{y} + \\frac{\\partial}{\\partial y}w\\left(x, y\\right)</script></html>"
      ],
      "text/latex": [
       "\\begin{math}\n",
       "\\newcommand{\\Bold}[1]{\\mathbf{#1}}\\frac{x \\frac{\\partial}{\\partial y}z\\left(x, y\\right)}{2 \\, {\\left(x^{2} y + y^{2}\\right)}} - \\frac{w\\left(x, y\\right)}{y} + \\frac{\\partial}{\\partial y}w\\left(x, y\\right)\n",
       "\\end{math}"
      ],
      "text/plain": [
       "1/2*x*diff(z(x, y), y)/(x^2*y + y^2) - w(x, y)/y + diff(w(x, y), y)"
      ]
     },
     "metadata": {},
     "output_type": "display_data"
    },
    {
     "data": {
      "text/html": [
       "<html><script type=\"math/tex; mode=display\">\\newcommand{\\Bold}[1]{\\mathbf{#1}}-\\frac{4 \\, x^{3} y w\\left(x, y\\right)}{2 \\, {\\left(2 \\, x + 1\\right)} y^{3} - x^{3} + 2 \\, {\\left(4 \\, x^{3} + x^{2}\\right)} y^{2} + 2 \\, {\\left(2 \\, x^{5} - x\\right)} y} - \\frac{8 \\, x y^{2} w\\left(x, y\\right)}{2 \\, {\\left(2 \\, x + 1\\right)} y^{3} - x^{3} + 2 \\, {\\left(4 \\, x^{3} + x^{2}\\right)} y^{2} + 2 \\, {\\left(2 \\, x^{5} - x\\right)} y} + \\frac{4 \\, y^{3} w\\left(x, y\\right)}{x^{4} - 2 \\, {\\left(2 \\, x^{2} + x\\right)} y^{3} - 2 \\, {\\left(4 \\, x^{4} + x^{3}\\right)} y^{2} - 2 \\, {\\left(2 \\, x^{6} - x^{2}\\right)} y} + \\frac{2 \\, x^{2} w\\left(x, y\\right)}{2 \\, {\\left(2 \\, x + 1\\right)} y^{3} - x^{3} + 2 \\, {\\left(4 \\, x^{3} + x^{2}\\right)} y^{2} + 2 \\, {\\left(2 \\, x^{5} - x\\right)} y} + \\frac{2 \\, y w\\left(x, y\\right)}{2 \\, {\\left(2 \\, x + 1\\right)} y^{3} - x^{3} + 2 \\, {\\left(4 \\, x^{3} + x^{2}\\right)} y^{2} + 2 \\, {\\left(2 \\, x^{5} - x\\right)} y} - \\frac{8 \\, {\\left(16 \\, x^{2} y^{9} + x^{6} y^{4} + 4 \\, y^{10} + 4 \\, {\\left(6 \\, x^{4} - x\\right)} y^{8} + 4 \\, {\\left(4 \\, x^{6} - 3 \\, x^{3}\\right)} y^{7} + {\\left(4 \\, x^{8} - 12 \\, x^{5} + x^{2}\\right)} y^{6} - 2 \\, {\\left(2 \\, x^{7} - x^{4}\\right)} y^{5}\\right)} \\frac{\\partial}{\\partial x}w\\left(x, y\\right)}{x^{9} + 4 \\, {\\left(4 \\, x^{5} + 4 \\, x^{4} + x^{3}\\right)} y^{6} + 8 \\, {\\left(8 \\, x^{7} + 6 \\, x^{6} + x^{5}\\right)} y^{5} + 4 \\, {\\left(24 \\, x^{9} + 12 \\, x^{8} + x^{7} - 4 \\, x^{5} - 2 \\, x^{4}\\right)} y^{4} + 4 \\, {\\left(16 \\, x^{11} + 4 \\, x^{10} - 10 \\, x^{7} - 3 \\, x^{6}\\right)} y^{3} + 4 \\, {\\left(4 \\, x^{13} - 8 \\, x^{9} - x^{8} + x^{5}\\right)} y^{2} - 4 \\, {\\left(2 \\, x^{11} - x^{7}\\right)} y} - \\frac{{\\left(48 \\, x^{2} y^{7} + 16 \\, y^{8} + 4 \\, {\\left(12 \\, x^{4} - 2 \\, x - 1\\right)} y^{6} + 4 \\, {\\left(4 \\, x^{6} - 4 \\, x^{3} - 4 \\, x^{2} - x\\right)} y^{5} - x^{5} - 2 \\, {\\left(4 \\, x^{5} + 14 \\, x^{4} + 4 \\, x^{3} - x\\right)} y^{4} - 2 \\, {\\left(12 \\, x^{6} + 2 \\, x^{5} - 3 \\, x^{3} - 3 \\, x^{2}\\right)} y^{3} - 8 \\, {\\left(x^{8} - x^{5} - x^{4}\\right)} y^{2} + 2 \\, {\\left(2 \\, x^{7} + x^{6} - x^{3}\\right)} y\\right)} \\frac{\\partial}{\\partial y}z\\left(x, y\\right)}{x^{7} + 4 \\, {\\left(4 \\, x^{3} + 4 \\, x^{2} + x\\right)} y^{6} + 8 \\, {\\left(8 \\, x^{5} + 6 \\, x^{4} + x^{3}\\right)} y^{5} + 4 \\, {\\left(24 \\, x^{7} + 12 \\, x^{6} + x^{5} - 4 \\, x^{3} - 2 \\, x^{2}\\right)} y^{4} + 4 \\, {\\left(16 \\, x^{9} + 4 \\, x^{8} - 10 \\, x^{5} - 3 \\, x^{4}\\right)} y^{3} + 4 \\, {\\left(4 \\, x^{11} - 8 \\, x^{7} - x^{6} + x^{3}\\right)} y^{2} - 4 \\, {\\left(2 \\, x^{9} - x^{5}\\right)} y} + \\frac{\\partial^{2}}{(\\partial y)^{2}}z\\left(x, y\\right)</script></html>"
      ],
      "text/latex": [
       "\\begin{math}\n",
       "\\newcommand{\\Bold}[1]{\\mathbf{#1}}-\\frac{4 \\, x^{3} y w\\left(x, y\\right)}{2 \\, {\\left(2 \\, x + 1\\right)} y^{3} - x^{3} + 2 \\, {\\left(4 \\, x^{3} + x^{2}\\right)} y^{2} + 2 \\, {\\left(2 \\, x^{5} - x\\right)} y} - \\frac{8 \\, x y^{2} w\\left(x, y\\right)}{2 \\, {\\left(2 \\, x + 1\\right)} y^{3} - x^{3} + 2 \\, {\\left(4 \\, x^{3} + x^{2}\\right)} y^{2} + 2 \\, {\\left(2 \\, x^{5} - x\\right)} y} + \\frac{4 \\, y^{3} w\\left(x, y\\right)}{x^{4} - 2 \\, {\\left(2 \\, x^{2} + x\\right)} y^{3} - 2 \\, {\\left(4 \\, x^{4} + x^{3}\\right)} y^{2} - 2 \\, {\\left(2 \\, x^{6} - x^{2}\\right)} y} + \\frac{2 \\, x^{2} w\\left(x, y\\right)}{2 \\, {\\left(2 \\, x + 1\\right)} y^{3} - x^{3} + 2 \\, {\\left(4 \\, x^{3} + x^{2}\\right)} y^{2} + 2 \\, {\\left(2 \\, x^{5} - x\\right)} y} + \\frac{2 \\, y w\\left(x, y\\right)}{2 \\, {\\left(2 \\, x + 1\\right)} y^{3} - x^{3} + 2 \\, {\\left(4 \\, x^{3} + x^{2}\\right)} y^{2} + 2 \\, {\\left(2 \\, x^{5} - x\\right)} y} - \\frac{8 \\, {\\left(16 \\, x^{2} y^{9} + x^{6} y^{4} + 4 \\, y^{10} + 4 \\, {\\left(6 \\, x^{4} - x\\right)} y^{8} + 4 \\, {\\left(4 \\, x^{6} - 3 \\, x^{3}\\right)} y^{7} + {\\left(4 \\, x^{8} - 12 \\, x^{5} + x^{2}\\right)} y^{6} - 2 \\, {\\left(2 \\, x^{7} - x^{4}\\right)} y^{5}\\right)} \\frac{\\partial}{\\partial x}w\\left(x, y\\right)}{x^{9} + 4 \\, {\\left(4 \\, x^{5} + 4 \\, x^{4} + x^{3}\\right)} y^{6} + 8 \\, {\\left(8 \\, x^{7} + 6 \\, x^{6} + x^{5}\\right)} y^{5} + 4 \\, {\\left(24 \\, x^{9} + 12 \\, x^{8} + x^{7} - 4 \\, x^{5} - 2 \\, x^{4}\\right)} y^{4} + 4 \\, {\\left(16 \\, x^{11} + 4 \\, x^{10} - 10 \\, x^{7} - 3 \\, x^{6}\\right)} y^{3} + 4 \\, {\\left(4 \\, x^{13} - 8 \\, x^{9} - x^{8} + x^{5}\\right)} y^{2} - 4 \\, {\\left(2 \\, x^{11} - x^{7}\\right)} y} - \\frac{{\\left(48 \\, x^{2} y^{7} + 16 \\, y^{8} + 4 \\, {\\left(12 \\, x^{4} - 2 \\, x - 1\\right)} y^{6} + 4 \\, {\\left(4 \\, x^{6} - 4 \\, x^{3} - 4 \\, x^{2} - x\\right)} y^{5} - x^{5} - 2 \\, {\\left(4 \\, x^{5} + 14 \\, x^{4} + 4 \\, x^{3} - x\\right)} y^{4} - 2 \\, {\\left(12 \\, x^{6} + 2 \\, x^{5} - 3 \\, x^{3} - 3 \\, x^{2}\\right)} y^{3} - 8 \\, {\\left(x^{8} - x^{5} - x^{4}\\right)} y^{2} + 2 \\, {\\left(2 \\, x^{7} + x^{6} - x^{3}\\right)} y\\right)} \\frac{\\partial}{\\partial y}z\\left(x, y\\right)}{x^{7} + 4 \\, {\\left(4 \\, x^{3} + 4 \\, x^{2} + x\\right)} y^{6} + 8 \\, {\\left(8 \\, x^{5} + 6 \\, x^{4} + x^{3}\\right)} y^{5} + 4 \\, {\\left(24 \\, x^{7} + 12 \\, x^{6} + x^{5} - 4 \\, x^{3} - 2 \\, x^{2}\\right)} y^{4} + 4 \\, {\\left(16 \\, x^{9} + 4 \\, x^{8} - 10 \\, x^{5} - 3 \\, x^{4}\\right)} y^{3} + 4 \\, {\\left(4 \\, x^{11} - 8 \\, x^{7} - x^{6} + x^{3}\\right)} y^{2} - 4 \\, {\\left(2 \\, x^{9} - x^{5}\\right)} y} + \\frac{\\partial^{2}}{(\\partial y)^{2}}z\\left(x, y\\right)\n",
       "\\end{math}"
      ],
      "text/plain": [
       "-4*x^3*y*w(x, y)/(2*(2*x + 1)*y^3 - x^3 + 2*(4*x^3 + x^2)*y^2 + 2*(2*x^5 - x)*y) - 8*x*y^2*w(x, y)/(2*(2*x + 1)*y^3 - x^3 + 2*(4*x^3 + x^2)*y^2 + 2*(2*x^5 - x)*y) + 4*y^3*w(x, y)/(x^4 - 2*(2*x^2 + x)*y^3 - 2*(4*x^4 + x^3)*y^2 - 2*(2*x^6 - x^2)*y) + 2*x^2*w(x, y)/(2*(2*x + 1)*y^3 - x^3 + 2*(4*x^3 + x^2)*y^2 + 2*(2*x^5 - x)*y) + 2*y*w(x, y)/(2*(2*x + 1)*y^3 - x^3 + 2*(4*x^3 + x^2)*y^2 + 2*(2*x^5 - x)*y) - 8*(16*x^2*y^9 + x^6*y^4 + 4*y^10 + 4*(6*x^4 - x)*y^8 + 4*(4*x^6 - 3*x^3)*y^7 + (4*x^8 - 12*x^5 + x^2)*y^6 - 2*(2*x^7 - x^4)*y^5)*diff(w(x, y), x)/(x^9 + 4*(4*x^5 + 4*x^4 + x^3)*y^6 + 8*(8*x^7 + 6*x^6 + x^5)*y^5 + 4*(24*x^9 + 12*x^8 + x^7 - 4*x^5 - 2*x^4)*y^4 + 4*(16*x^11 + 4*x^10 - 10*x^7 - 3*x^6)*y^3 + 4*(4*x^13 - 8*x^9 - x^8 + x^5)*y^2 - 4*(2*x^11 - x^7)*y) - (48*x^2*y^7 + 16*y^8 + 4*(12*x^4 - 2*x - 1)*y^6 + 4*(4*x^6 - 4*x^3 - 4*x^2 - x)*y^5 - x^5 - 2*(4*x^5 + 14*x^4 + 4*x^3 - x)*y^4 - 2*(12*x^6 + 2*x^5 - 3*x^3 - 3*x^2)*y^3 - 8*(x^8 - x^5 - x^4)*y^2 + 2*(2*x^7 + x^6 - x^3)*y)*diff(z(x, y), y)/(x^7 + 4*(4*x^3 + 4*x^2 + x)*y^6 + 8*(8*x^5 + 6*x^4 + x^3)*y^5 + 4*(24*x^7 + 12*x^6 + x^5 - 4*x^3 - 2*x^2)*y^4 + 4*(16*x^9 + 4*x^8 - 10*x^5 - 3*x^4)*y^3 + 4*(4*x^11 - 8*x^7 - x^6 + x^3)*y^2 - 4*(2*x^9 - x^5)*y) + diff(z(x, y), y, y)"
      ]
     },
     "metadata": {},
     "output_type": "display_data"
    },
    {
     "data": {
      "text/html": [
       "<html><script type=\"math/tex; mode=display\">\\newcommand{\\Bold}[1]{\\mathbf{#1}}-\\frac{4 \\, x^{3} y w\\left(x, y\\right)}{2 \\, {\\left(2 \\, x + 1\\right)} y^{3} - x^{3} + 2 \\, {\\left(4 \\, x^{3} + x^{2}\\right)} y^{2} + 2 \\, {\\left(2 \\, x^{5} - x\\right)} y} - \\frac{8 \\, x y^{2} w\\left(x, y\\right)}{2 \\, {\\left(2 \\, x + 1\\right)} y^{3} - x^{3} + 2 \\, {\\left(4 \\, x^{3} + x^{2}\\right)} y^{2} + 2 \\, {\\left(2 \\, x^{5} - x\\right)} y} + \\frac{4 \\, y^{3} w\\left(x, y\\right)}{x^{4} - 2 \\, {\\left(2 \\, x^{2} + x\\right)} y^{3} - 2 \\, {\\left(4 \\, x^{4} + x^{3}\\right)} y^{2} - 2 \\, {\\left(2 \\, x^{6} - x^{2}\\right)} y} + \\frac{2 \\, x^{2} w\\left(x, y\\right)}{2 \\, {\\left(2 \\, x + 1\\right)} y^{3} - x^{3} + 2 \\, {\\left(4 \\, x^{3} + x^{2}\\right)} y^{2} + 2 \\, {\\left(2 \\, x^{5} - x\\right)} y} + \\frac{2 \\, y w\\left(x, y\\right)}{2 \\, {\\left(2 \\, x + 1\\right)} y^{3} - x^{3} + 2 \\, {\\left(4 \\, x^{3} + x^{2}\\right)} y^{2} + 2 \\, {\\left(2 \\, x^{5} - x\\right)} y} + \\frac{{\\left(8 \\, x^{4} y^{2} + 16 \\, x^{2} y^{3} + 8 \\, y^{4} - x\\right)} \\frac{\\partial}{\\partial y}z\\left(x, y\\right)}{2 \\, {\\left(2 \\, x + 1\\right)} y^{3} - x^{3} + 2 \\, {\\left(4 \\, x^{3} + x^{2}\\right)} y^{2} + 2 \\, {\\left(2 \\, x^{5} - x\\right)} y} + \\frac{\\partial^{2}}{(\\partial y)^{2}}z\\left(x, y\\right)</script></html>"
      ],
      "text/latex": [
       "\\begin{math}\n",
       "\\newcommand{\\Bold}[1]{\\mathbf{#1}}-\\frac{4 \\, x^{3} y w\\left(x, y\\right)}{2 \\, {\\left(2 \\, x + 1\\right)} y^{3} - x^{3} + 2 \\, {\\left(4 \\, x^{3} + x^{2}\\right)} y^{2} + 2 \\, {\\left(2 \\, x^{5} - x\\right)} y} - \\frac{8 \\, x y^{2} w\\left(x, y\\right)}{2 \\, {\\left(2 \\, x + 1\\right)} y^{3} - x^{3} + 2 \\, {\\left(4 \\, x^{3} + x^{2}\\right)} y^{2} + 2 \\, {\\left(2 \\, x^{5} - x\\right)} y} + \\frac{4 \\, y^{3} w\\left(x, y\\right)}{x^{4} - 2 \\, {\\left(2 \\, x^{2} + x\\right)} y^{3} - 2 \\, {\\left(4 \\, x^{4} + x^{3}\\right)} y^{2} - 2 \\, {\\left(2 \\, x^{6} - x^{2}\\right)} y} + \\frac{2 \\, x^{2} w\\left(x, y\\right)}{2 \\, {\\left(2 \\, x + 1\\right)} y^{3} - x^{3} + 2 \\, {\\left(4 \\, x^{3} + x^{2}\\right)} y^{2} + 2 \\, {\\left(2 \\, x^{5} - x\\right)} y} + \\frac{2 \\, y w\\left(x, y\\right)}{2 \\, {\\left(2 \\, x + 1\\right)} y^{3} - x^{3} + 2 \\, {\\left(4 \\, x^{3} + x^{2}\\right)} y^{2} + 2 \\, {\\left(2 \\, x^{5} - x\\right)} y} + \\frac{{\\left(8 \\, x^{4} y^{2} + 16 \\, x^{2} y^{3} + 8 \\, y^{4} - x\\right)} \\frac{\\partial}{\\partial y}z\\left(x, y\\right)}{2 \\, {\\left(2 \\, x + 1\\right)} y^{3} - x^{3} + 2 \\, {\\left(4 \\, x^{3} + x^{2}\\right)} y^{2} + 2 \\, {\\left(2 \\, x^{5} - x\\right)} y} + \\frac{\\partial^{2}}{(\\partial y)^{2}}z\\left(x, y\\right)\n",
       "\\end{math}"
      ],
      "text/plain": [
       "-4*x^3*y*w(x, y)/(2*(2*x + 1)*y^3 - x^3 + 2*(4*x^3 + x^2)*y^2 + 2*(2*x^5 - x)*y) - 8*x*y^2*w(x, y)/(2*(2*x + 1)*y^3 - x^3 + 2*(4*x^3 + x^2)*y^2 + 2*(2*x^5 - x)*y) + 4*y^3*w(x, y)/(x^4 - 2*(2*x^2 + x)*y^3 - 2*(4*x^4 + x^3)*y^2 - 2*(2*x^6 - x^2)*y) + 2*x^2*w(x, y)/(2*(2*x + 1)*y^3 - x^3 + 2*(4*x^3 + x^2)*y^2 + 2*(2*x^5 - x)*y) + 2*y*w(x, y)/(2*(2*x + 1)*y^3 - x^3 + 2*(4*x^3 + x^2)*y^2 + 2*(2*x^5 - x)*y) + (8*x^4*y^2 + 16*x^2*y^3 + 8*y^4 - x)*diff(z(x, y), y)/(2*(2*x + 1)*y^3 - x^3 + 2*(4*x^3 + x^2)*y^2 + 2*(2*x^5 - x)*y) + diff(z(x, y), y, y)"
      ]
     },
     "metadata": {},
     "output_type": "display_data"
    },
    {
     "data": {
      "text/html": [
       "<html><script type=\"math/tex; mode=display\">\\newcommand{\\Bold}[1]{\\mathbf{#1}}-\\frac{2 \\, x w\\left(x, y\\right)}{y} + \\frac{{\\left(8 \\, x^{2} y^{2} + 4 \\, y^{3} - x^{2} + {\\left(4 \\, x^{4} - 1\\right)} y\\right)} \\frac{\\partial}{\\partial y}z\\left(x, y\\right)}{2 \\, x^{2} y + 2 \\, y^{2} - x} - \\frac{2 \\, w\\left(x, y\\right)}{x} + \\frac{\\partial^{2}}{(\\partial y)^{2}}z\\left(x, y\\right)</script></html>"
      ],
      "text/latex": [
       "\\begin{math}\n",
       "\\newcommand{\\Bold}[1]{\\mathbf{#1}}-\\frac{2 \\, x w\\left(x, y\\right)}{y} + \\frac{{\\left(8 \\, x^{2} y^{2} + 4 \\, y^{3} - x^{2} + {\\left(4 \\, x^{4} - 1\\right)} y\\right)} \\frac{\\partial}{\\partial y}z\\left(x, y\\right)}{2 \\, x^{2} y + 2 \\, y^{2} - x} - \\frac{2 \\, w\\left(x, y\\right)}{x} + \\frac{\\partial^{2}}{(\\partial y)^{2}}z\\left(x, y\\right)\n",
       "\\end{math}"
      ],
      "text/plain": [
       "-2*x*w(x, y)/y + (8*x^2*y^2 + 4*y^3 - x^2 + (4*x^4 - 1)*y)*diff(z(x, y), y)/(2*x^2*y + 2*y^2 - x) - 2*w(x, y)/x + diff(z(x, y), y, y)"
      ]
     },
     "metadata": {},
     "output_type": "display_data"
    },
    {
     "name": "stdout",
     "output_type": "stream",
     "text": [
      "===================================================== 2\n",
      "This is the new System........\n"
     ]
    },
    {
     "data": {
      "text/html": [
       "<html><script type=\"math/tex; mode=display\">\\newcommand{\\Bold}[1]{\\mathbf{#1}}\\frac{{\\left(x^{4} - 2 \\, {\\left(2 \\, x^{2} + x\\right)} y^{3} - 2 \\, {\\left(4 \\, x^{4} + x^{3}\\right)} y^{2} - 2 \\, {\\left(2 \\, x^{6} - x^{2}\\right)} y\\right)} \\frac{\\partial}{\\partial y}z\\left(x, y\\right)}{4 \\, {\\left(4 \\, x^{2} y^{4} - x^{3} y^{2} + 2 \\, y^{5} + {\\left(2 \\, x^{4} - x\\right)} y^{3}\\right)}} + \\frac{w\\left(x, y\\right)}{2 \\, y} + \\frac{\\partial}{\\partial x}z\\left(x, y\\right)</script></html>"
      ],
      "text/latex": [
       "\\begin{math}\n",
       "\\newcommand{\\Bold}[1]{\\mathbf{#1}}\\frac{{\\left(x^{4} - 2 \\, {\\left(2 \\, x^{2} + x\\right)} y^{3} - 2 \\, {\\left(4 \\, x^{4} + x^{3}\\right)} y^{2} - 2 \\, {\\left(2 \\, x^{6} - x^{2}\\right)} y\\right)} \\frac{\\partial}{\\partial y}z\\left(x, y\\right)}{4 \\, {\\left(4 \\, x^{2} y^{4} - x^{3} y^{2} + 2 \\, y^{5} + {\\left(2 \\, x^{4} - x\\right)} y^{3}\\right)}} + \\frac{w\\left(x, y\\right)}{2 \\, y} + \\frac{\\partial}{\\partial x}z\\left(x, y\\right)\n",
       "\\end{math}"
      ],
      "text/plain": [
       "1/4*(x^4 - 2*(2*x^2 + x)*y^3 - 2*(4*x^4 + x^3)*y^2 - 2*(2*x^6 - x^2)*y)*diff(z(x, y), y)/(4*x^2*y^4 - x^3*y^2 + 2*y^5 + (2*x^4 - x)*y^3) + 1/2*w(x, y)/y + diff(z(x, y), x)"
      ]
     },
     "metadata": {},
     "output_type": "display_data"
    },
    {
     "data": {
      "text/html": [
       "<html><script type=\"math/tex; mode=display\">\\newcommand{\\Bold}[1]{\\mathbf{#1}}\\frac{x \\frac{\\partial}{\\partial y}z\\left(x, y\\right)}{2 \\, {\\left(x^{2} y + y^{2}\\right)}} - \\frac{w\\left(x, y\\right)}{y} + \\frac{\\partial}{\\partial y}w\\left(x, y\\right)</script></html>"
      ],
      "text/latex": [
       "\\begin{math}\n",
       "\\newcommand{\\Bold}[1]{\\mathbf{#1}}\\frac{x \\frac{\\partial}{\\partial y}z\\left(x, y\\right)}{2 \\, {\\left(x^{2} y + y^{2}\\right)}} - \\frac{w\\left(x, y\\right)}{y} + \\frac{\\partial}{\\partial y}w\\left(x, y\\right)\n",
       "\\end{math}"
      ],
      "text/plain": [
       "1/2*x*diff(z(x, y), y)/(x^2*y + y^2) - w(x, y)/y + diff(w(x, y), y)"
      ]
     },
     "metadata": {},
     "output_type": "display_data"
    },
    {
     "data": {
      "text/html": [
       "<html><script type=\"math/tex; mode=display\">\\newcommand{\\Bold}[1]{\\mathbf{#1}}-\\frac{{\\left(x^{10} + 4 \\, {\\left(4 \\, x^{6} + 4 \\, x^{5} + x^{4}\\right)} y^{6} + 8 \\, {\\left(8 \\, x^{8} + 6 \\, x^{7} + x^{6}\\right)} y^{5} + 4 \\, {\\left(24 \\, x^{10} + 12 \\, x^{9} + x^{8} - 4 \\, x^{6} - 2 \\, x^{5}\\right)} y^{4} + 4 \\, {\\left(16 \\, x^{12} + 4 \\, x^{11} - 10 \\, x^{8} - 3 \\, x^{7}\\right)} y^{3} + 4 \\, {\\left(4 \\, x^{14} - 8 \\, x^{10} - x^{9} + x^{6}\\right)} y^{2} - 4 \\, {\\left(2 \\, x^{12} - x^{8}\\right)} y\\right)} w\\left(x, y\\right)}{4 \\, {\\left(16 \\, x^{2} y^{10} + x^{6} y^{5} + 4 \\, y^{11} + 4 \\, {\\left(6 \\, x^{4} - x\\right)} y^{9} + 4 \\, {\\left(4 \\, x^{6} - 3 \\, x^{3}\\right)} y^{8} + {\\left(4 \\, x^{8} - 12 \\, x^{5} + x^{2}\\right)} y^{7} - 2 \\, {\\left(2 \\, x^{7} - x^{4}\\right)} y^{6}\\right)}} - \\frac{{\\left(x^{9} - 2 \\, {\\left(2 \\, x^{7} + x^{6}\\right)} y^{3} - 2 \\, {\\left(4 \\, x^{9} + x^{8}\\right)} y^{2} - 2 \\, {\\left(2 \\, x^{11} - x^{7}\\right)} y\\right)} w\\left(x, y\\right)}{2 \\, {\\left(16 \\, x^{2} y^{8} + x^{6} y^{3} + 4 \\, y^{9} + 4 \\, {\\left(6 \\, x^{4} - x\\right)} y^{7} + 4 \\, {\\left(4 \\, x^{6} - 3 \\, x^{3}\\right)} y^{6} + {\\left(4 \\, x^{8} - 12 \\, x^{5} + x^{2}\\right)} y^{5} - 2 \\, {\\left(2 \\, x^{7} - x^{4}\\right)} y^{4}\\right)}} - \\frac{{\\left(x^{8} + 4 \\, {\\left(4 \\, x^{4} + 4 \\, x^{3} + x^{2}\\right)} y^{6} + 8 \\, {\\left(8 \\, x^{6} + 6 \\, x^{5} + x^{4}\\right)} y^{5} + 4 \\, {\\left(24 \\, x^{8} + 12 \\, x^{7} + x^{6} - 4 \\, x^{4} - 2 \\, x^{3}\\right)} y^{4} + 4 \\, {\\left(16 \\, x^{10} + 4 \\, x^{9} - 10 \\, x^{6} - 3 \\, x^{5}\\right)} y^{3} + 4 \\, {\\left(4 \\, x^{12} - 8 \\, x^{8} - x^{7} + x^{4}\\right)} y^{2} - 4 \\, {\\left(2 \\, x^{10} - x^{6}\\right)} y\\right)} w\\left(x, y\\right)}{4 \\, {\\left(16 \\, x^{2} y^{9} + x^{6} y^{4} + 4 \\, y^{10} + 4 \\, {\\left(6 \\, x^{4} - x\\right)} y^{8} + 4 \\, {\\left(4 \\, x^{6} - 3 \\, x^{3}\\right)} y^{7} + {\\left(4 \\, x^{8} - 12 \\, x^{5} + x^{2}\\right)} y^{6} - 2 \\, {\\left(2 \\, x^{7} - x^{4}\\right)} y^{5}\\right)}} + \\frac{{\\left(x^{8} - 2 \\, {\\left(2 \\, x^{6} + x^{5}\\right)} y^{3} - 2 \\, {\\left(4 \\, x^{8} + x^{7}\\right)} y^{2} - 2 \\, {\\left(2 \\, x^{10} - x^{6}\\right)} y\\right)} w\\left(x, y\\right)}{4 \\, {\\left(16 \\, x^{2} y^{9} + x^{6} y^{4} + 4 \\, y^{10} + 4 \\, {\\left(6 \\, x^{4} - x\\right)} y^{8} + 4 \\, {\\left(4 \\, x^{6} - 3 \\, x^{3}\\right)} y^{7} + {\\left(4 \\, x^{8} - 12 \\, x^{5} + x^{2}\\right)} y^{6} - 2 \\, {\\left(2 \\, x^{7} - x^{4}\\right)} y^{5}\\right)}} - \\frac{{\\left(x^{7} - 2 \\, {\\left(2 \\, x^{5} + x^{4}\\right)} y^{3} - 2 \\, {\\left(4 \\, x^{7} + x^{6}\\right)} y^{2} - 2 \\, {\\left(2 \\, x^{9} - x^{5}\\right)} y\\right)} w\\left(x, y\\right)}{16 \\, x^{2} y^{7} + x^{6} y^{2} + 4 \\, y^{8} + 4 \\, {\\left(6 \\, x^{4} - x\\right)} y^{6} + 4 \\, {\\left(4 \\, x^{6} - 3 \\, x^{3}\\right)} y^{5} + {\\left(4 \\, x^{8} - 12 \\, x^{5} + x^{2}\\right)} y^{4} - 2 \\, {\\left(2 \\, x^{7} - x^{4}\\right)} y^{3}} + \\frac{{\\left(x^{6} - 2 \\, {\\left(2 \\, x^{4} + x^{3}\\right)} y^{3} - 2 \\, {\\left(4 \\, x^{6} + x^{5}\\right)} y^{2} - 2 \\, {\\left(2 \\, x^{8} - x^{4}\\right)} y\\right)} w\\left(x, y\\right)}{4 \\, {\\left(16 \\, x^{2} y^{8} + x^{6} y^{3} + 4 \\, y^{9} + 4 \\, {\\left(6 \\, x^{4} - x\\right)} y^{7} + 4 \\, {\\left(4 \\, x^{6} - 3 \\, x^{3}\\right)} y^{6} + {\\left(4 \\, x^{8} - 12 \\, x^{5} + x^{2}\\right)} y^{5} - 2 \\, {\\left(2 \\, x^{7} - x^{4}\\right)} y^{4}\\right)}} - \\frac{{\\left(x^{5} - 2 \\, {\\left(2 \\, x^{3} + x^{2}\\right)} y^{3} - 2 \\, {\\left(4 \\, x^{5} + x^{4}\\right)} y^{2} - 2 \\, {\\left(2 \\, x^{7} - x^{3}\\right)} y\\right)} w\\left(x, y\\right)}{2 \\, {\\left(16 \\, x^{2} y^{6} + x^{6} y + 4 \\, y^{7} + 4 \\, {\\left(6 \\, x^{4} - x\\right)} y^{5} + 4 \\, {\\left(4 \\, x^{6} - 3 \\, x^{3}\\right)} y^{4} + {\\left(4 \\, x^{8} - 12 \\, x^{5} + x^{2}\\right)} y^{3} - 2 \\, {\\left(2 \\, x^{7} - x^{4}\\right)} y^{2}\\right)}} + \\frac{{\\left(32 \\, x^{2} y^{10} - x^{11} + 16 \\, {\\left(4 \\, x^{5} + 12 \\, x^{4} + x^{3}\\right)} y^{9} + 8 \\, {\\left(48 \\, x^{7} + 64 \\, x^{6} + 8 \\, x^{5} - 4 \\, x^{3} - x^{2}\\right)} y^{8} + x^{8} + 4 \\, {\\left(240 \\, x^{9} + 192 \\, x^{8} + 24 \\, x^{7} - 44 \\, x^{5} - 22 \\, x^{4} - 3 \\, x^{3}\\right)} y^{7} + 4 \\, {\\left(320 \\, x^{11} + 168 \\, x^{10} + 16 \\, x^{9} - 116 \\, x^{7} - 66 \\, x^{6} - 9 \\, x^{5} + 2 \\, x^{4} + 2 \\, x^{3}\\right)} y^{6} + 4 \\, {\\left(240 \\, x^{13} + 80 \\, x^{12} + 4 \\, x^{11} - 176 \\, x^{9} - 86 \\, x^{8} - 9 \\, x^{7} + 4 \\, x^{6} + 16 \\, x^{5} + 6 \\, x^{4}\\right)} y^{5} + 2 \\, {\\left(192 \\, x^{15} + 32 \\, x^{14} - 304 \\, x^{11} - 104 \\, x^{10} - 6 \\, x^{9} + 4 \\, x^{8} + 80 \\, x^{7} + 28 \\, x^{6} - x^{4}\\right)} y^{4} + 2 \\, {\\left(32 \\, x^{17} - 136 \\, x^{13} - 24 \\, x^{12} + 86 \\, x^{9} + 20 \\, x^{8} - 3 \\, x^{6} - 7 \\, x^{5}\\right)} y^{3} - 2 \\, {\\left(24 \\, x^{15} - 40 \\, x^{11} - 4 \\, x^{10} + 4 \\, x^{8} + 11 \\, x^{7}\\right)} y^{2} + {\\left(12 \\, x^{13} - 4 \\, x^{10} - 9 \\, x^{9} + 2 \\, x^{6}\\right)} y\\right)} \\frac{\\partial}{\\partial y}z\\left(x, y\\right)}{8 \\, {\\left(40 \\, x^{2} y^{11} + 8 \\, y^{12} - x^{7} y^{4} + 4 \\, {\\left(20 \\, x^{4} - 3 \\, x\\right)} y^{10} + 16 \\, {\\left(5 \\, x^{6} - 3 \\, x^{3}\\right)} y^{9} + 2 \\, {\\left(20 \\, x^{8} - 36 \\, x^{5} + 3 \\, x^{2}\\right)} y^{8} + 2 \\, {\\left(4 \\, x^{10} - 24 \\, x^{7} + 9 \\, x^{4}\\right)} y^{7} - {\\left(12 \\, x^{9} - 18 \\, x^{6} + x^{3}\\right)} y^{6} + 2 \\, {\\left(3 \\, x^{8} - x^{5}\\right)} y^{5}\\right)}} + \\frac{\\partial}{\\partial x}w\\left(x, y\\right)</script></html>"
      ],
      "text/latex": [
       "\\begin{math}\n",
       "\\newcommand{\\Bold}[1]{\\mathbf{#1}}-\\frac{{\\left(x^{10} + 4 \\, {\\left(4 \\, x^{6} + 4 \\, x^{5} + x^{4}\\right)} y^{6} + 8 \\, {\\left(8 \\, x^{8} + 6 \\, x^{7} + x^{6}\\right)} y^{5} + 4 \\, {\\left(24 \\, x^{10} + 12 \\, x^{9} + x^{8} - 4 \\, x^{6} - 2 \\, x^{5}\\right)} y^{4} + 4 \\, {\\left(16 \\, x^{12} + 4 \\, x^{11} - 10 \\, x^{8} - 3 \\, x^{7}\\right)} y^{3} + 4 \\, {\\left(4 \\, x^{14} - 8 \\, x^{10} - x^{9} + x^{6}\\right)} y^{2} - 4 \\, {\\left(2 \\, x^{12} - x^{8}\\right)} y\\right)} w\\left(x, y\\right)}{4 \\, {\\left(16 \\, x^{2} y^{10} + x^{6} y^{5} + 4 \\, y^{11} + 4 \\, {\\left(6 \\, x^{4} - x\\right)} y^{9} + 4 \\, {\\left(4 \\, x^{6} - 3 \\, x^{3}\\right)} y^{8} + {\\left(4 \\, x^{8} - 12 \\, x^{5} + x^{2}\\right)} y^{7} - 2 \\, {\\left(2 \\, x^{7} - x^{4}\\right)} y^{6}\\right)}} - \\frac{{\\left(x^{9} - 2 \\, {\\left(2 \\, x^{7} + x^{6}\\right)} y^{3} - 2 \\, {\\left(4 \\, x^{9} + x^{8}\\right)} y^{2} - 2 \\, {\\left(2 \\, x^{11} - x^{7}\\right)} y\\right)} w\\left(x, y\\right)}{2 \\, {\\left(16 \\, x^{2} y^{8} + x^{6} y^{3} + 4 \\, y^{9} + 4 \\, {\\left(6 \\, x^{4} - x\\right)} y^{7} + 4 \\, {\\left(4 \\, x^{6} - 3 \\, x^{3}\\right)} y^{6} + {\\left(4 \\, x^{8} - 12 \\, x^{5} + x^{2}\\right)} y^{5} - 2 \\, {\\left(2 \\, x^{7} - x^{4}\\right)} y^{4}\\right)}} - \\frac{{\\left(x^{8} + 4 \\, {\\left(4 \\, x^{4} + 4 \\, x^{3} + x^{2}\\right)} y^{6} + 8 \\, {\\left(8 \\, x^{6} + 6 \\, x^{5} + x^{4}\\right)} y^{5} + 4 \\, {\\left(24 \\, x^{8} + 12 \\, x^{7} + x^{6} - 4 \\, x^{4} - 2 \\, x^{3}\\right)} y^{4} + 4 \\, {\\left(16 \\, x^{10} + 4 \\, x^{9} - 10 \\, x^{6} - 3 \\, x^{5}\\right)} y^{3} + 4 \\, {\\left(4 \\, x^{12} - 8 \\, x^{8} - x^{7} + x^{4}\\right)} y^{2} - 4 \\, {\\left(2 \\, x^{10} - x^{6}\\right)} y\\right)} w\\left(x, y\\right)}{4 \\, {\\left(16 \\, x^{2} y^{9} + x^{6} y^{4} + 4 \\, y^{10} + 4 \\, {\\left(6 \\, x^{4} - x\\right)} y^{8} + 4 \\, {\\left(4 \\, x^{6} - 3 \\, x^{3}\\right)} y^{7} + {\\left(4 \\, x^{8} - 12 \\, x^{5} + x^{2}\\right)} y^{6} - 2 \\, {\\left(2 \\, x^{7} - x^{4}\\right)} y^{5}\\right)}} + \\frac{{\\left(x^{8} - 2 \\, {\\left(2 \\, x^{6} + x^{5}\\right)} y^{3} - 2 \\, {\\left(4 \\, x^{8} + x^{7}\\right)} y^{2} - 2 \\, {\\left(2 \\, x^{10} - x^{6}\\right)} y\\right)} w\\left(x, y\\right)}{4 \\, {\\left(16 \\, x^{2} y^{9} + x^{6} y^{4} + 4 \\, y^{10} + 4 \\, {\\left(6 \\, x^{4} - x\\right)} y^{8} + 4 \\, {\\left(4 \\, x^{6} - 3 \\, x^{3}\\right)} y^{7} + {\\left(4 \\, x^{8} - 12 \\, x^{5} + x^{2}\\right)} y^{6} - 2 \\, {\\left(2 \\, x^{7} - x^{4}\\right)} y^{5}\\right)}} - \\frac{{\\left(x^{7} - 2 \\, {\\left(2 \\, x^{5} + x^{4}\\right)} y^{3} - 2 \\, {\\left(4 \\, x^{7} + x^{6}\\right)} y^{2} - 2 \\, {\\left(2 \\, x^{9} - x^{5}\\right)} y\\right)} w\\left(x, y\\right)}{16 \\, x^{2} y^{7} + x^{6} y^{2} + 4 \\, y^{8} + 4 \\, {\\left(6 \\, x^{4} - x\\right)} y^{6} + 4 \\, {\\left(4 \\, x^{6} - 3 \\, x^{3}\\right)} y^{5} + {\\left(4 \\, x^{8} - 12 \\, x^{5} + x^{2}\\right)} y^{4} - 2 \\, {\\left(2 \\, x^{7} - x^{4}\\right)} y^{3}} + \\frac{{\\left(x^{6} - 2 \\, {\\left(2 \\, x^{4} + x^{3}\\right)} y^{3} - 2 \\, {\\left(4 \\, x^{6} + x^{5}\\right)} y^{2} - 2 \\, {\\left(2 \\, x^{8} - x^{4}\\right)} y\\right)} w\\left(x, y\\right)}{4 \\, {\\left(16 \\, x^{2} y^{8} + x^{6} y^{3} + 4 \\, y^{9} + 4 \\, {\\left(6 \\, x^{4} - x\\right)} y^{7} + 4 \\, {\\left(4 \\, x^{6} - 3 \\, x^{3}\\right)} y^{6} + {\\left(4 \\, x^{8} - 12 \\, x^{5} + x^{2}\\right)} y^{5} - 2 \\, {\\left(2 \\, x^{7} - x^{4}\\right)} y^{4}\\right)}} - \\frac{{\\left(x^{5} - 2 \\, {\\left(2 \\, x^{3} + x^{2}\\right)} y^{3} - 2 \\, {\\left(4 \\, x^{5} + x^{4}\\right)} y^{2} - 2 \\, {\\left(2 \\, x^{7} - x^{3}\\right)} y\\right)} w\\left(x, y\\right)}{2 \\, {\\left(16 \\, x^{2} y^{6} + x^{6} y + 4 \\, y^{7} + 4 \\, {\\left(6 \\, x^{4} - x\\right)} y^{5} + 4 \\, {\\left(4 \\, x^{6} - 3 \\, x^{3}\\right)} y^{4} + {\\left(4 \\, x^{8} - 12 \\, x^{5} + x^{2}\\right)} y^{3} - 2 \\, {\\left(2 \\, x^{7} - x^{4}\\right)} y^{2}\\right)}} + \\frac{{\\left(32 \\, x^{2} y^{10} - x^{11} + 16 \\, {\\left(4 \\, x^{5} + 12 \\, x^{4} + x^{3}\\right)} y^{9} + 8 \\, {\\left(48 \\, x^{7} + 64 \\, x^{6} + 8 \\, x^{5} - 4 \\, x^{3} - x^{2}\\right)} y^{8} + x^{8} + 4 \\, {\\left(240 \\, x^{9} + 192 \\, x^{8} + 24 \\, x^{7} - 44 \\, x^{5} - 22 \\, x^{4} - 3 \\, x^{3}\\right)} y^{7} + 4 \\, {\\left(320 \\, x^{11} + 168 \\, x^{10} + 16 \\, x^{9} - 116 \\, x^{7} - 66 \\, x^{6} - 9 \\, x^{5} + 2 \\, x^{4} + 2 \\, x^{3}\\right)} y^{6} + 4 \\, {\\left(240 \\, x^{13} + 80 \\, x^{12} + 4 \\, x^{11} - 176 \\, x^{9} - 86 \\, x^{8} - 9 \\, x^{7} + 4 \\, x^{6} + 16 \\, x^{5} + 6 \\, x^{4}\\right)} y^{5} + 2 \\, {\\left(192 \\, x^{15} + 32 \\, x^{14} - 304 \\, x^{11} - 104 \\, x^{10} - 6 \\, x^{9} + 4 \\, x^{8} + 80 \\, x^{7} + 28 \\, x^{6} - x^{4}\\right)} y^{4} + 2 \\, {\\left(32 \\, x^{17} - 136 \\, x^{13} - 24 \\, x^{12} + 86 \\, x^{9} + 20 \\, x^{8} - 3 \\, x^{6} - 7 \\, x^{5}\\right)} y^{3} - 2 \\, {\\left(24 \\, x^{15} - 40 \\, x^{11} - 4 \\, x^{10} + 4 \\, x^{8} + 11 \\, x^{7}\\right)} y^{2} + {\\left(12 \\, x^{13} - 4 \\, x^{10} - 9 \\, x^{9} + 2 \\, x^{6}\\right)} y\\right)} \\frac{\\partial}{\\partial y}z\\left(x, y\\right)}{8 \\, {\\left(40 \\, x^{2} y^{11} + 8 \\, y^{12} - x^{7} y^{4} + 4 \\, {\\left(20 \\, x^{4} - 3 \\, x\\right)} y^{10} + 16 \\, {\\left(5 \\, x^{6} - 3 \\, x^{3}\\right)} y^{9} + 2 \\, {\\left(20 \\, x^{8} - 36 \\, x^{5} + 3 \\, x^{2}\\right)} y^{8} + 2 \\, {\\left(4 \\, x^{10} - 24 \\, x^{7} + 9 \\, x^{4}\\right)} y^{7} - {\\left(12 \\, x^{9} - 18 \\, x^{6} + x^{3}\\right)} y^{6} + 2 \\, {\\left(3 \\, x^{8} - x^{5}\\right)} y^{5}\\right)}} + \\frac{\\partial}{\\partial x}w\\left(x, y\\right)\n",
       "\\end{math}"
      ],
      "text/plain": [
       "-1/4*(x^10 + 4*(4*x^6 + 4*x^5 + x^4)*y^6 + 8*(8*x^8 + 6*x^7 + x^6)*y^5 + 4*(24*x^10 + 12*x^9 + x^8 - 4*x^6 - 2*x^5)*y^4 + 4*(16*x^12 + 4*x^11 - 10*x^8 - 3*x^7)*y^3 + 4*(4*x^14 - 8*x^10 - x^9 + x^6)*y^2 - 4*(2*x^12 - x^8)*y)*w(x, y)/(16*x^2*y^10 + x^6*y^5 + 4*y^11 + 4*(6*x^4 - x)*y^9 + 4*(4*x^6 - 3*x^3)*y^8 + (4*x^8 - 12*x^5 + x^2)*y^7 - 2*(2*x^7 - x^4)*y^6) - 1/2*(x^9 - 2*(2*x^7 + x^6)*y^3 - 2*(4*x^9 + x^8)*y^2 - 2*(2*x^11 - x^7)*y)*w(x, y)/(16*x^2*y^8 + x^6*y^3 + 4*y^9 + 4*(6*x^4 - x)*y^7 + 4*(4*x^6 - 3*x^3)*y^6 + (4*x^8 - 12*x^5 + x^2)*y^5 - 2*(2*x^7 - x^4)*y^4) - 1/4*(x^8 + 4*(4*x^4 + 4*x^3 + x^2)*y^6 + 8*(8*x^6 + 6*x^5 + x^4)*y^5 + 4*(24*x^8 + 12*x^7 + x^6 - 4*x^4 - 2*x^3)*y^4 + 4*(16*x^10 + 4*x^9 - 10*x^6 - 3*x^5)*y^3 + 4*(4*x^12 - 8*x^8 - x^7 + x^4)*y^2 - 4*(2*x^10 - x^6)*y)*w(x, y)/(16*x^2*y^9 + x^6*y^4 + 4*y^10 + 4*(6*x^4 - x)*y^8 + 4*(4*x^6 - 3*x^3)*y^7 + (4*x^8 - 12*x^5 + x^2)*y^6 - 2*(2*x^7 - x^4)*y^5) + 1/4*(x^8 - 2*(2*x^6 + x^5)*y^3 - 2*(4*x^8 + x^7)*y^2 - 2*(2*x^10 - x^6)*y)*w(x, y)/(16*x^2*y^9 + x^6*y^4 + 4*y^10 + 4*(6*x^4 - x)*y^8 + 4*(4*x^6 - 3*x^3)*y^7 + (4*x^8 - 12*x^5 + x^2)*y^6 - 2*(2*x^7 - x^4)*y^5) - (x^7 - 2*(2*x^5 + x^4)*y^3 - 2*(4*x^7 + x^6)*y^2 - 2*(2*x^9 - x^5)*y)*w(x, y)/(16*x^2*y^7 + x^6*y^2 + 4*y^8 + 4*(6*x^4 - x)*y^6 + 4*(4*x^6 - 3*x^3)*y^5 + (4*x^8 - 12*x^5 + x^2)*y^4 - 2*(2*x^7 - x^4)*y^3) + 1/4*(x^6 - 2*(2*x^4 + x^3)*y^3 - 2*(4*x^6 + x^5)*y^2 - 2*(2*x^8 - x^4)*y)*w(x, y)/(16*x^2*y^8 + x^6*y^3 + 4*y^9 + 4*(6*x^4 - x)*y^7 + 4*(4*x^6 - 3*x^3)*y^6 + (4*x^8 - 12*x^5 + x^2)*y^5 - 2*(2*x^7 - x^4)*y^4) - 1/2*(x^5 - 2*(2*x^3 + x^2)*y^3 - 2*(4*x^5 + x^4)*y^2 - 2*(2*x^7 - x^3)*y)*w(x, y)/(16*x^2*y^6 + x^6*y + 4*y^7 + 4*(6*x^4 - x)*y^5 + 4*(4*x^6 - 3*x^3)*y^4 + (4*x^8 - 12*x^5 + x^2)*y^3 - 2*(2*x^7 - x^4)*y^2) + 1/8*(32*x^2*y^10 - x^11 + 16*(4*x^5 + 12*x^4 + x^3)*y^9 + 8*(48*x^7 + 64*x^6 + 8*x^5 - 4*x^3 - x^2)*y^8 + x^8 + 4*(240*x^9 + 192*x^8 + 24*x^7 - 44*x^5 - 22*x^4 - 3*x^3)*y^7 + 4*(320*x^11 + 168*x^10 + 16*x^9 - 116*x^7 - 66*x^6 - 9*x^5 + 2*x^4 + 2*x^3)*y^6 + 4*(240*x^13 + 80*x^12 + 4*x^11 - 176*x^9 - 86*x^8 - 9*x^7 + 4*x^6 + 16*x^5 + 6*x^4)*y^5 + 2*(192*x^15 + 32*x^14 - 304*x^11 - 104*x^10 - 6*x^9 + 4*x^8 + 80*x^7 + 28*x^6 - x^4)*y^4 + 2*(32*x^17 - 136*x^13 - 24*x^12 + 86*x^9 + 20*x^8 - 3*x^6 - 7*x^5)*y^3 - 2*(24*x^15 - 40*x^11 - 4*x^10 + 4*x^8 + 11*x^7)*y^2 + (12*x^13 - 4*x^10 - 9*x^9 + 2*x^6)*y)*diff(z(x, y), y)/(40*x^2*y^11 + 8*y^12 - x^7*y^4 + 4*(20*x^4 - 3*x)*y^10 + 16*(5*x^6 - 3*x^3)*y^9 + 2*(20*x^8 - 36*x^5 + 3*x^2)*y^8 + 2*(4*x^10 - 24*x^7 + 9*x^4)*y^7 - (12*x^9 - 18*x^6 + x^3)*y^6 + 2*(3*x^8 - x^5)*y^5) + diff(w(x, y), x)"
      ]
     },
     "metadata": {},
     "output_type": "display_data"
    },
    {
     "data": {
      "text/html": [
       "<html><script type=\"math/tex; mode=display\">\\newcommand{\\Bold}[1]{\\mathbf{#1}}\\frac{{\\left(8 \\, x^{2} y^{6} + x^{6} + 8 \\, {\\left(4 \\, x^{4} + x^{3}\\right)} y^{5} + 2 \\, {\\left(28 \\, x^{6} + 8 \\, x^{5} - 2 \\, x^{3} - x^{2}\\right)} y^{4} + 2 \\, {\\left(24 \\, x^{8} + 4 \\, x^{7} - 2 \\, x^{5} - 7 \\, x^{4} - x^{3}\\right)} y^{3} + {\\left(16 \\, x^{10} - 20 \\, x^{6} - 2 \\, x^{5} + x^{3}\\right)} y^{2} - 2 \\, {\\left(4 \\, x^{8} - x^{4}\\right)} y\\right)} \\frac{\\partial}{\\partial y}z\\left(x, y\\right)}{4 \\, {\\left(12 \\, x^{2} y^{7} + 4 \\, y^{8} + x^{4} y^{3} + 4 \\, {\\left(3 \\, x^{4} - x\\right)} y^{6} + 4 \\, {\\left(x^{6} - 2 \\, x^{3}\\right)} y^{5} - {\\left(4 \\, x^{5} - x^{2}\\right)} y^{4}\\right)}} + \\frac{\\partial}{\\partial x}w\\left(x, y\\right)</script></html>"
      ],
      "text/latex": [
       "\\begin{math}\n",
       "\\newcommand{\\Bold}[1]{\\mathbf{#1}}\\frac{{\\left(8 \\, x^{2} y^{6} + x^{6} + 8 \\, {\\left(4 \\, x^{4} + x^{3}\\right)} y^{5} + 2 \\, {\\left(28 \\, x^{6} + 8 \\, x^{5} - 2 \\, x^{3} - x^{2}\\right)} y^{4} + 2 \\, {\\left(24 \\, x^{8} + 4 \\, x^{7} - 2 \\, x^{5} - 7 \\, x^{4} - x^{3}\\right)} y^{3} + {\\left(16 \\, x^{10} - 20 \\, x^{6} - 2 \\, x^{5} + x^{3}\\right)} y^{2} - 2 \\, {\\left(4 \\, x^{8} - x^{4}\\right)} y\\right)} \\frac{\\partial}{\\partial y}z\\left(x, y\\right)}{4 \\, {\\left(12 \\, x^{2} y^{7} + 4 \\, y^{8} + x^{4} y^{3} + 4 \\, {\\left(3 \\, x^{4} - x\\right)} y^{6} + 4 \\, {\\left(x^{6} - 2 \\, x^{3}\\right)} y^{5} - {\\left(4 \\, x^{5} - x^{2}\\right)} y^{4}\\right)}} + \\frac{\\partial}{\\partial x}w\\left(x, y\\right)\n",
       "\\end{math}"
      ],
      "text/plain": [
       "1/4*(8*x^2*y^6 + x^6 + 8*(4*x^4 + x^3)*y^5 + 2*(28*x^6 + 8*x^5 - 2*x^3 - x^2)*y^4 + 2*(24*x^8 + 4*x^7 - 2*x^5 - 7*x^4 - x^3)*y^3 + (16*x^10 - 20*x^6 - 2*x^5 + x^3)*y^2 - 2*(4*x^8 - x^4)*y)*diff(z(x, y), y)/(12*x^2*y^7 + 4*y^8 + x^4*y^3 + 4*(3*x^4 - x)*y^6 + 4*(x^6 - 2*x^3)*y^5 - (4*x^5 - x^2)*y^4) + diff(w(x, y), x)"
      ]
     },
     "metadata": {},
     "output_type": "display_data"
    },
    {
     "data": {
      "text/html": [
       "<html><script type=\"math/tex; mode=display\">\\newcommand{\\Bold}[1]{\\mathbf{#1}}-\\frac{4 \\, x^{3} y w\\left(x, y\\right)}{2 \\, {\\left(2 \\, x + 1\\right)} y^{3} - x^{3} + 2 \\, {\\left(4 \\, x^{3} + x^{2}\\right)} y^{2} + 2 \\, {\\left(2 \\, x^{5} - x\\right)} y} - \\frac{8 \\, x y^{2} w\\left(x, y\\right)}{2 \\, {\\left(2 \\, x + 1\\right)} y^{3} - x^{3} + 2 \\, {\\left(4 \\, x^{3} + x^{2}\\right)} y^{2} + 2 \\, {\\left(2 \\, x^{5} - x\\right)} y} + \\frac{4 \\, y^{3} w\\left(x, y\\right)}{x^{4} - 2 \\, {\\left(2 \\, x^{2} + x\\right)} y^{3} - 2 \\, {\\left(4 \\, x^{4} + x^{3}\\right)} y^{2} - 2 \\, {\\left(2 \\, x^{6} - x^{2}\\right)} y} + \\frac{2 \\, x^{2} w\\left(x, y\\right)}{2 \\, {\\left(2 \\, x + 1\\right)} y^{3} - x^{3} + 2 \\, {\\left(4 \\, x^{3} + x^{2}\\right)} y^{2} + 2 \\, {\\left(2 \\, x^{5} - x\\right)} y} + \\frac{2 \\, y w\\left(x, y\\right)}{2 \\, {\\left(2 \\, x + 1\\right)} y^{3} - x^{3} + 2 \\, {\\left(4 \\, x^{3} + x^{2}\\right)} y^{2} + 2 \\, {\\left(2 \\, x^{5} - x\\right)} y} - \\frac{8 \\, {\\left(16 \\, x^{2} y^{9} + x^{6} y^{4} + 4 \\, y^{10} + 4 \\, {\\left(6 \\, x^{4} - x\\right)} y^{8} + 4 \\, {\\left(4 \\, x^{6} - 3 \\, x^{3}\\right)} y^{7} + {\\left(4 \\, x^{8} - 12 \\, x^{5} + x^{2}\\right)} y^{6} - 2 \\, {\\left(2 \\, x^{7} - x^{4}\\right)} y^{5}\\right)} \\frac{\\partial}{\\partial x}w\\left(x, y\\right)}{x^{9} + 4 \\, {\\left(4 \\, x^{5} + 4 \\, x^{4} + x^{3}\\right)} y^{6} + 8 \\, {\\left(8 \\, x^{7} + 6 \\, x^{6} + x^{5}\\right)} y^{5} + 4 \\, {\\left(24 \\, x^{9} + 12 \\, x^{8} + x^{7} - 4 \\, x^{5} - 2 \\, x^{4}\\right)} y^{4} + 4 \\, {\\left(16 \\, x^{11} + 4 \\, x^{10} - 10 \\, x^{7} - 3 \\, x^{6}\\right)} y^{3} + 4 \\, {\\left(4 \\, x^{13} - 8 \\, x^{9} - x^{8} + x^{5}\\right)} y^{2} - 4 \\, {\\left(2 \\, x^{11} - x^{7}\\right)} y} - \\frac{{\\left(48 \\, x^{2} y^{7} + 16 \\, y^{8} + 4 \\, {\\left(12 \\, x^{4} - 2 \\, x - 1\\right)} y^{6} + 4 \\, {\\left(4 \\, x^{6} - 4 \\, x^{3} - 4 \\, x^{2} - x\\right)} y^{5} - x^{5} - 2 \\, {\\left(4 \\, x^{5} + 14 \\, x^{4} + 4 \\, x^{3} - x\\right)} y^{4} - 2 \\, {\\left(12 \\, x^{6} + 2 \\, x^{5} - 3 \\, x^{3} - 3 \\, x^{2}\\right)} y^{3} - 8 \\, {\\left(x^{8} - x^{5} - x^{4}\\right)} y^{2} + 2 \\, {\\left(2 \\, x^{7} + x^{6} - x^{3}\\right)} y\\right)} \\frac{\\partial}{\\partial y}z\\left(x, y\\right)}{x^{7} + 4 \\, {\\left(4 \\, x^{3} + 4 \\, x^{2} + x\\right)} y^{6} + 8 \\, {\\left(8 \\, x^{5} + 6 \\, x^{4} + x^{3}\\right)} y^{5} + 4 \\, {\\left(24 \\, x^{7} + 12 \\, x^{6} + x^{5} - 4 \\, x^{3} - 2 \\, x^{2}\\right)} y^{4} + 4 \\, {\\left(16 \\, x^{9} + 4 \\, x^{8} - 10 \\, x^{5} - 3 \\, x^{4}\\right)} y^{3} + 4 \\, {\\left(4 \\, x^{11} - 8 \\, x^{7} - x^{6} + x^{3}\\right)} y^{2} - 4 \\, {\\left(2 \\, x^{9} - x^{5}\\right)} y} + \\frac{\\partial^{2}}{(\\partial y)^{2}}z\\left(x, y\\right)</script></html>"
      ],
      "text/latex": [
       "\\begin{math}\n",
       "\\newcommand{\\Bold}[1]{\\mathbf{#1}}-\\frac{4 \\, x^{3} y w\\left(x, y\\right)}{2 \\, {\\left(2 \\, x + 1\\right)} y^{3} - x^{3} + 2 \\, {\\left(4 \\, x^{3} + x^{2}\\right)} y^{2} + 2 \\, {\\left(2 \\, x^{5} - x\\right)} y} - \\frac{8 \\, x y^{2} w\\left(x, y\\right)}{2 \\, {\\left(2 \\, x + 1\\right)} y^{3} - x^{3} + 2 \\, {\\left(4 \\, x^{3} + x^{2}\\right)} y^{2} + 2 \\, {\\left(2 \\, x^{5} - x\\right)} y} + \\frac{4 \\, y^{3} w\\left(x, y\\right)}{x^{4} - 2 \\, {\\left(2 \\, x^{2} + x\\right)} y^{3} - 2 \\, {\\left(4 \\, x^{4} + x^{3}\\right)} y^{2} - 2 \\, {\\left(2 \\, x^{6} - x^{2}\\right)} y} + \\frac{2 \\, x^{2} w\\left(x, y\\right)}{2 \\, {\\left(2 \\, x + 1\\right)} y^{3} - x^{3} + 2 \\, {\\left(4 \\, x^{3} + x^{2}\\right)} y^{2} + 2 \\, {\\left(2 \\, x^{5} - x\\right)} y} + \\frac{2 \\, y w\\left(x, y\\right)}{2 \\, {\\left(2 \\, x + 1\\right)} y^{3} - x^{3} + 2 \\, {\\left(4 \\, x^{3} + x^{2}\\right)} y^{2} + 2 \\, {\\left(2 \\, x^{5} - x\\right)} y} - \\frac{8 \\, {\\left(16 \\, x^{2} y^{9} + x^{6} y^{4} + 4 \\, y^{10} + 4 \\, {\\left(6 \\, x^{4} - x\\right)} y^{8} + 4 \\, {\\left(4 \\, x^{6} - 3 \\, x^{3}\\right)} y^{7} + {\\left(4 \\, x^{8} - 12 \\, x^{5} + x^{2}\\right)} y^{6} - 2 \\, {\\left(2 \\, x^{7} - x^{4}\\right)} y^{5}\\right)} \\frac{\\partial}{\\partial x}w\\left(x, y\\right)}{x^{9} + 4 \\, {\\left(4 \\, x^{5} + 4 \\, x^{4} + x^{3}\\right)} y^{6} + 8 \\, {\\left(8 \\, x^{7} + 6 \\, x^{6} + x^{5}\\right)} y^{5} + 4 \\, {\\left(24 \\, x^{9} + 12 \\, x^{8} + x^{7} - 4 \\, x^{5} - 2 \\, x^{4}\\right)} y^{4} + 4 \\, {\\left(16 \\, x^{11} + 4 \\, x^{10} - 10 \\, x^{7} - 3 \\, x^{6}\\right)} y^{3} + 4 \\, {\\left(4 \\, x^{13} - 8 \\, x^{9} - x^{8} + x^{5}\\right)} y^{2} - 4 \\, {\\left(2 \\, x^{11} - x^{7}\\right)} y} - \\frac{{\\left(48 \\, x^{2} y^{7} + 16 \\, y^{8} + 4 \\, {\\left(12 \\, x^{4} - 2 \\, x - 1\\right)} y^{6} + 4 \\, {\\left(4 \\, x^{6} - 4 \\, x^{3} - 4 \\, x^{2} - x\\right)} y^{5} - x^{5} - 2 \\, {\\left(4 \\, x^{5} + 14 \\, x^{4} + 4 \\, x^{3} - x\\right)} y^{4} - 2 \\, {\\left(12 \\, x^{6} + 2 \\, x^{5} - 3 \\, x^{3} - 3 \\, x^{2}\\right)} y^{3} - 8 \\, {\\left(x^{8} - x^{5} - x^{4}\\right)} y^{2} + 2 \\, {\\left(2 \\, x^{7} + x^{6} - x^{3}\\right)} y\\right)} \\frac{\\partial}{\\partial y}z\\left(x, y\\right)}{x^{7} + 4 \\, {\\left(4 \\, x^{3} + 4 \\, x^{2} + x\\right)} y^{6} + 8 \\, {\\left(8 \\, x^{5} + 6 \\, x^{4} + x^{3}\\right)} y^{5} + 4 \\, {\\left(24 \\, x^{7} + 12 \\, x^{6} + x^{5} - 4 \\, x^{3} - 2 \\, x^{2}\\right)} y^{4} + 4 \\, {\\left(16 \\, x^{9} + 4 \\, x^{8} - 10 \\, x^{5} - 3 \\, x^{4}\\right)} y^{3} + 4 \\, {\\left(4 \\, x^{11} - 8 \\, x^{7} - x^{6} + x^{3}\\right)} y^{2} - 4 \\, {\\left(2 \\, x^{9} - x^{5}\\right)} y} + \\frac{\\partial^{2}}{(\\partial y)^{2}}z\\left(x, y\\right)\n",
       "\\end{math}"
      ],
      "text/plain": [
       "-4*x^3*y*w(x, y)/(2*(2*x + 1)*y^3 - x^3 + 2*(4*x^3 + x^2)*y^2 + 2*(2*x^5 - x)*y) - 8*x*y^2*w(x, y)/(2*(2*x + 1)*y^3 - x^3 + 2*(4*x^3 + x^2)*y^2 + 2*(2*x^5 - x)*y) + 4*y^3*w(x, y)/(x^4 - 2*(2*x^2 + x)*y^3 - 2*(4*x^4 + x^3)*y^2 - 2*(2*x^6 - x^2)*y) + 2*x^2*w(x, y)/(2*(2*x + 1)*y^3 - x^3 + 2*(4*x^3 + x^2)*y^2 + 2*(2*x^5 - x)*y) + 2*y*w(x, y)/(2*(2*x + 1)*y^3 - x^3 + 2*(4*x^3 + x^2)*y^2 + 2*(2*x^5 - x)*y) - 8*(16*x^2*y^9 + x^6*y^4 + 4*y^10 + 4*(6*x^4 - x)*y^8 + 4*(4*x^6 - 3*x^3)*y^7 + (4*x^8 - 12*x^5 + x^2)*y^6 - 2*(2*x^7 - x^4)*y^5)*diff(w(x, y), x)/(x^9 + 4*(4*x^5 + 4*x^4 + x^3)*y^6 + 8*(8*x^7 + 6*x^6 + x^5)*y^5 + 4*(24*x^9 + 12*x^8 + x^7 - 4*x^5 - 2*x^4)*y^4 + 4*(16*x^11 + 4*x^10 - 10*x^7 - 3*x^6)*y^3 + 4*(4*x^13 - 8*x^9 - x^8 + x^5)*y^2 - 4*(2*x^11 - x^7)*y) - (48*x^2*y^7 + 16*y^8 + 4*(12*x^4 - 2*x - 1)*y^6 + 4*(4*x^6 - 4*x^3 - 4*x^2 - x)*y^5 - x^5 - 2*(4*x^5 + 14*x^4 + 4*x^3 - x)*y^4 - 2*(12*x^6 + 2*x^5 - 3*x^3 - 3*x^2)*y^3 - 8*(x^8 - x^5 - x^4)*y^2 + 2*(2*x^7 + x^6 - x^3)*y)*diff(z(x, y), y)/(x^7 + 4*(4*x^3 + 4*x^2 + x)*y^6 + 8*(8*x^5 + 6*x^4 + x^3)*y^5 + 4*(24*x^7 + 12*x^6 + x^5 - 4*x^3 - 2*x^2)*y^4 + 4*(16*x^9 + 4*x^8 - 10*x^5 - 3*x^4)*y^3 + 4*(4*x^11 - 8*x^7 - x^6 + x^3)*y^2 - 4*(2*x^9 - x^5)*y) + diff(z(x, y), y, y)"
      ]
     },
     "metadata": {},
     "output_type": "display_data"
    },
    {
     "name": "stdout",
     "output_type": "stream",
     "text": [
      "===================================================== 4\n",
      "This is the new System........\n"
     ]
    },
    {
     "data": {
      "text/html": [
       "<html><script type=\"math/tex; mode=display\">\\newcommand{\\Bold}[1]{\\mathbf{#1}}\\frac{{\\left(x^{4} - 2 \\, {\\left(2 \\, x^{2} + x\\right)} y^{3} - 2 \\, {\\left(4 \\, x^{4} + x^{3}\\right)} y^{2} - 2 \\, {\\left(2 \\, x^{6} - x^{2}\\right)} y\\right)} \\frac{\\partial}{\\partial y}z\\left(x, y\\right)}{4 \\, {\\left(4 \\, x^{2} y^{4} - x^{3} y^{2} + 2 \\, y^{5} + {\\left(2 \\, x^{4} - x\\right)} y^{3}\\right)}} + \\frac{w\\left(x, y\\right)}{2 \\, y} + \\frac{\\partial}{\\partial x}z\\left(x, y\\right)</script></html>"
      ],
      "text/latex": [
       "\\begin{math}\n",
       "\\newcommand{\\Bold}[1]{\\mathbf{#1}}\\frac{{\\left(x^{4} - 2 \\, {\\left(2 \\, x^{2} + x\\right)} y^{3} - 2 \\, {\\left(4 \\, x^{4} + x^{3}\\right)} y^{2} - 2 \\, {\\left(2 \\, x^{6} - x^{2}\\right)} y\\right)} \\frac{\\partial}{\\partial y}z\\left(x, y\\right)}{4 \\, {\\left(4 \\, x^{2} y^{4} - x^{3} y^{2} + 2 \\, y^{5} + {\\left(2 \\, x^{4} - x\\right)} y^{3}\\right)}} + \\frac{w\\left(x, y\\right)}{2 \\, y} + \\frac{\\partial}{\\partial x}z\\left(x, y\\right)\n",
       "\\end{math}"
      ],
      "text/plain": [
       "1/4*(x^4 - 2*(2*x^2 + x)*y^3 - 2*(4*x^4 + x^3)*y^2 - 2*(2*x^6 - x^2)*y)*diff(z(x, y), y)/(4*x^2*y^4 - x^3*y^2 + 2*y^5 + (2*x^4 - x)*y^3) + 1/2*w(x, y)/y + diff(z(x, y), x)"
      ]
     },
     "metadata": {},
     "output_type": "display_data"
    },
    {
     "data": {
      "text/html": [
       "<html><script type=\"math/tex; mode=display\">\\newcommand{\\Bold}[1]{\\mathbf{#1}}\\frac{x \\frac{\\partial}{\\partial y}z\\left(x, y\\right)}{2 \\, {\\left(x^{2} y + y^{2}\\right)}} - \\frac{w\\left(x, y\\right)}{y} + \\frac{\\partial}{\\partial y}w\\left(x, y\\right)</script></html>"
      ],
      "text/latex": [
       "\\begin{math}\n",
       "\\newcommand{\\Bold}[1]{\\mathbf{#1}}\\frac{x \\frac{\\partial}{\\partial y}z\\left(x, y\\right)}{2 \\, {\\left(x^{2} y + y^{2}\\right)}} - \\frac{w\\left(x, y\\right)}{y} + \\frac{\\partial}{\\partial y}w\\left(x, y\\right)\n",
       "\\end{math}"
      ],
      "text/plain": [
       "1/2*x*diff(z(x, y), y)/(x^2*y + y^2) - w(x, y)/y + diff(w(x, y), y)"
      ]
     },
     "metadata": {},
     "output_type": "display_data"
    },
    {
     "data": {
      "text/html": [
       "<html><script type=\"math/tex; mode=display\">\\newcommand{\\Bold}[1]{\\mathbf{#1}}\\frac{{\\left(8 \\, x^{2} y^{6} + x^{6} + 8 \\, {\\left(4 \\, x^{4} + x^{3}\\right)} y^{5} + 2 \\, {\\left(28 \\, x^{6} + 8 \\, x^{5} - 2 \\, x^{3} - x^{2}\\right)} y^{4} + 2 \\, {\\left(24 \\, x^{8} + 4 \\, x^{7} - 2 \\, x^{5} - 7 \\, x^{4} - x^{3}\\right)} y^{3} + {\\left(16 \\, x^{10} - 20 \\, x^{6} - 2 \\, x^{5} + x^{3}\\right)} y^{2} - 2 \\, {\\left(4 \\, x^{8} - x^{4}\\right)} y\\right)} \\frac{\\partial}{\\partial y}z\\left(x, y\\right)}{4 \\, {\\left(12 \\, x^{2} y^{7} + 4 \\, y^{8} + x^{4} y^{3} + 4 \\, {\\left(3 \\, x^{4} - x\\right)} y^{6} + 4 \\, {\\left(x^{6} - 2 \\, x^{3}\\right)} y^{5} - {\\left(4 \\, x^{5} - x^{2}\\right)} y^{4}\\right)}} + \\frac{\\partial}{\\partial x}w\\left(x, y\\right)</script></html>"
      ],
      "text/latex": [
       "\\begin{math}\n",
       "\\newcommand{\\Bold}[1]{\\mathbf{#1}}\\frac{{\\left(8 \\, x^{2} y^{6} + x^{6} + 8 \\, {\\left(4 \\, x^{4} + x^{3}\\right)} y^{5} + 2 \\, {\\left(28 \\, x^{6} + 8 \\, x^{5} - 2 \\, x^{3} - x^{2}\\right)} y^{4} + 2 \\, {\\left(24 \\, x^{8} + 4 \\, x^{7} - 2 \\, x^{5} - 7 \\, x^{4} - x^{3}\\right)} y^{3} + {\\left(16 \\, x^{10} - 20 \\, x^{6} - 2 \\, x^{5} + x^{3}\\right)} y^{2} - 2 \\, {\\left(4 \\, x^{8} - x^{4}\\right)} y\\right)} \\frac{\\partial}{\\partial y}z\\left(x, y\\right)}{4 \\, {\\left(12 \\, x^{2} y^{7} + 4 \\, y^{8} + x^{4} y^{3} + 4 \\, {\\left(3 \\, x^{4} - x\\right)} y^{6} + 4 \\, {\\left(x^{6} - 2 \\, x^{3}\\right)} y^{5} - {\\left(4 \\, x^{5} - x^{2}\\right)} y^{4}\\right)}} + \\frac{\\partial}{\\partial x}w\\left(x, y\\right)\n",
       "\\end{math}"
      ],
      "text/plain": [
       "1/4*(8*x^2*y^6 + x^6 + 8*(4*x^4 + x^3)*y^5 + 2*(28*x^6 + 8*x^5 - 2*x^3 - x^2)*y^4 + 2*(24*x^8 + 4*x^7 - 2*x^5 - 7*x^4 - x^3)*y^3 + (16*x^10 - 20*x^6 - 2*x^5 + x^3)*y^2 - 2*(4*x^8 - x^4)*y)*diff(z(x, y), y)/(12*x^2*y^7 + 4*y^8 + x^4*y^3 + 4*(3*x^4 - x)*y^6 + 4*(x^6 - 2*x^3)*y^5 - (4*x^5 - x^2)*y^4) + diff(w(x, y), x)"
      ]
     },
     "metadata": {},
     "output_type": "display_data"
    },
    {
     "data": {
      "text/html": [
       "<html><script type=\"math/tex; mode=display\">\\newcommand{\\Bold}[1]{\\mathbf{#1}}-\\frac{{\\left(x^{10} + 4 \\, {\\left(4 \\, x^{6} + 4 \\, x^{5} + x^{4}\\right)} y^{6} + 8 \\, {\\left(8 \\, x^{8} + 6 \\, x^{7} + x^{6}\\right)} y^{5} + 4 \\, {\\left(24 \\, x^{10} + 12 \\, x^{9} + x^{8} - 4 \\, x^{6} - 2 \\, x^{5}\\right)} y^{4} + 4 \\, {\\left(16 \\, x^{12} + 4 \\, x^{11} - 10 \\, x^{8} - 3 \\, x^{7}\\right)} y^{3} + 4 \\, {\\left(4 \\, x^{14} - 8 \\, x^{10} - x^{9} + x^{6}\\right)} y^{2} - 4 \\, {\\left(2 \\, x^{12} - x^{8}\\right)} y\\right)} w\\left(x, y\\right)}{4 \\, {\\left(16 \\, x^{2} y^{10} + x^{6} y^{5} + 4 \\, y^{11} + 4 \\, {\\left(6 \\, x^{4} - x\\right)} y^{9} + 4 \\, {\\left(4 \\, x^{6} - 3 \\, x^{3}\\right)} y^{8} + {\\left(4 \\, x^{8} - 12 \\, x^{5} + x^{2}\\right)} y^{7} - 2 \\, {\\left(2 \\, x^{7} - x^{4}\\right)} y^{6}\\right)}} - \\frac{{\\left(x^{9} - 2 \\, {\\left(2 \\, x^{7} + x^{6}\\right)} y^{3} - 2 \\, {\\left(4 \\, x^{9} + x^{8}\\right)} y^{2} - 2 \\, {\\left(2 \\, x^{11} - x^{7}\\right)} y\\right)} w\\left(x, y\\right)}{2 \\, {\\left(16 \\, x^{2} y^{8} + x^{6} y^{3} + 4 \\, y^{9} + 4 \\, {\\left(6 \\, x^{4} - x\\right)} y^{7} + 4 \\, {\\left(4 \\, x^{6} - 3 \\, x^{3}\\right)} y^{6} + {\\left(4 \\, x^{8} - 12 \\, x^{5} + x^{2}\\right)} y^{5} - 2 \\, {\\left(2 \\, x^{7} - x^{4}\\right)} y^{4}\\right)}} - \\frac{{\\left(x^{8} + 4 \\, {\\left(4 \\, x^{4} + 4 \\, x^{3} + x^{2}\\right)} y^{6} + 8 \\, {\\left(8 \\, x^{6} + 6 \\, x^{5} + x^{4}\\right)} y^{5} + 4 \\, {\\left(24 \\, x^{8} + 12 \\, x^{7} + x^{6} - 4 \\, x^{4} - 2 \\, x^{3}\\right)} y^{4} + 4 \\, {\\left(16 \\, x^{10} + 4 \\, x^{9} - 10 \\, x^{6} - 3 \\, x^{5}\\right)} y^{3} + 4 \\, {\\left(4 \\, x^{12} - 8 \\, x^{8} - x^{7} + x^{4}\\right)} y^{2} - 4 \\, {\\left(2 \\, x^{10} - x^{6}\\right)} y\\right)} w\\left(x, y\\right)}{4 \\, {\\left(16 \\, x^{2} y^{9} + x^{6} y^{4} + 4 \\, y^{10} + 4 \\, {\\left(6 \\, x^{4} - x\\right)} y^{8} + 4 \\, {\\left(4 \\, x^{6} - 3 \\, x^{3}\\right)} y^{7} + {\\left(4 \\, x^{8} - 12 \\, x^{5} + x^{2}\\right)} y^{6} - 2 \\, {\\left(2 \\, x^{7} - x^{4}\\right)} y^{5}\\right)}} + \\frac{{\\left(x^{8} - 2 \\, {\\left(2 \\, x^{6} + x^{5}\\right)} y^{3} - 2 \\, {\\left(4 \\, x^{8} + x^{7}\\right)} y^{2} - 2 \\, {\\left(2 \\, x^{10} - x^{6}\\right)} y\\right)} w\\left(x, y\\right)}{4 \\, {\\left(16 \\, x^{2} y^{9} + x^{6} y^{4} + 4 \\, y^{10} + 4 \\, {\\left(6 \\, x^{4} - x\\right)} y^{8} + 4 \\, {\\left(4 \\, x^{6} - 3 \\, x^{3}\\right)} y^{7} + {\\left(4 \\, x^{8} - 12 \\, x^{5} + x^{2}\\right)} y^{6} - 2 \\, {\\left(2 \\, x^{7} - x^{4}\\right)} y^{5}\\right)}} - \\frac{{\\left(x^{7} - 2 \\, {\\left(2 \\, x^{5} + x^{4}\\right)} y^{3} - 2 \\, {\\left(4 \\, x^{7} + x^{6}\\right)} y^{2} - 2 \\, {\\left(2 \\, x^{9} - x^{5}\\right)} y\\right)} w\\left(x, y\\right)}{16 \\, x^{2} y^{7} + x^{6} y^{2} + 4 \\, y^{8} + 4 \\, {\\left(6 \\, x^{4} - x\\right)} y^{6} + 4 \\, {\\left(4 \\, x^{6} - 3 \\, x^{3}\\right)} y^{5} + {\\left(4 \\, x^{8} - 12 \\, x^{5} + x^{2}\\right)} y^{4} - 2 \\, {\\left(2 \\, x^{7} - x^{4}\\right)} y^{3}} + \\frac{{\\left(x^{6} - 2 \\, {\\left(2 \\, x^{4} + x^{3}\\right)} y^{3} - 2 \\, {\\left(4 \\, x^{6} + x^{5}\\right)} y^{2} - 2 \\, {\\left(2 \\, x^{8} - x^{4}\\right)} y\\right)} w\\left(x, y\\right)}{4 \\, {\\left(16 \\, x^{2} y^{8} + x^{6} y^{3} + 4 \\, y^{9} + 4 \\, {\\left(6 \\, x^{4} - x\\right)} y^{7} + 4 \\, {\\left(4 \\, x^{6} - 3 \\, x^{3}\\right)} y^{6} + {\\left(4 \\, x^{8} - 12 \\, x^{5} + x^{2}\\right)} y^{5} - 2 \\, {\\left(2 \\, x^{7} - x^{4}\\right)} y^{4}\\right)}} - \\frac{{\\left(x^{5} - 2 \\, {\\left(2 \\, x^{3} + x^{2}\\right)} y^{3} - 2 \\, {\\left(4 \\, x^{5} + x^{4}\\right)} y^{2} - 2 \\, {\\left(2 \\, x^{7} - x^{3}\\right)} y\\right)} w\\left(x, y\\right)}{2 \\, {\\left(16 \\, x^{2} y^{6} + x^{6} y + 4 \\, y^{7} + 4 \\, {\\left(6 \\, x^{4} - x\\right)} y^{5} + 4 \\, {\\left(4 \\, x^{6} - 3 \\, x^{3}\\right)} y^{4} + {\\left(4 \\, x^{8} - 12 \\, x^{5} + x^{2}\\right)} y^{3} - 2 \\, {\\left(2 \\, x^{7} - x^{4}\\right)} y^{2}\\right)}} + \\frac{{\\left(32 \\, x^{2} y^{10} - x^{11} + 16 \\, {\\left(4 \\, x^{5} + 12 \\, x^{4} + x^{3}\\right)} y^{9} + 8 \\, {\\left(48 \\, x^{7} + 64 \\, x^{6} + 8 \\, x^{5} - 4 \\, x^{3} - x^{2}\\right)} y^{8} + x^{8} + 4 \\, {\\left(240 \\, x^{9} + 192 \\, x^{8} + 24 \\, x^{7} - 44 \\, x^{5} - 22 \\, x^{4} - 3 \\, x^{3}\\right)} y^{7} + 4 \\, {\\left(320 \\, x^{11} + 168 \\, x^{10} + 16 \\, x^{9} - 116 \\, x^{7} - 66 \\, x^{6} - 9 \\, x^{5} + 2 \\, x^{4} + 2 \\, x^{3}\\right)} y^{6} + 4 \\, {\\left(240 \\, x^{13} + 80 \\, x^{12} + 4 \\, x^{11} - 176 \\, x^{9} - 86 \\, x^{8} - 9 \\, x^{7} + 4 \\, x^{6} + 16 \\, x^{5} + 6 \\, x^{4}\\right)} y^{5} + 2 \\, {\\left(192 \\, x^{15} + 32 \\, x^{14} - 304 \\, x^{11} - 104 \\, x^{10} - 6 \\, x^{9} + 4 \\, x^{8} + 80 \\, x^{7} + 28 \\, x^{6} - x^{4}\\right)} y^{4} + 2 \\, {\\left(32 \\, x^{17} - 136 \\, x^{13} - 24 \\, x^{12} + 86 \\, x^{9} + 20 \\, x^{8} - 3 \\, x^{6} - 7 \\, x^{5}\\right)} y^{3} - 2 \\, {\\left(24 \\, x^{15} - 40 \\, x^{11} - 4 \\, x^{10} + 4 \\, x^{8} + 11 \\, x^{7}\\right)} y^{2} + {\\left(12 \\, x^{13} - 4 \\, x^{10} - 9 \\, x^{9} + 2 \\, x^{6}\\right)} y\\right)} \\frac{\\partial}{\\partial y}z\\left(x, y\\right)}{8 \\, {\\left(40 \\, x^{2} y^{11} + 8 \\, y^{12} - x^{7} y^{4} + 4 \\, {\\left(20 \\, x^{4} - 3 \\, x\\right)} y^{10} + 16 \\, {\\left(5 \\, x^{6} - 3 \\, x^{3}\\right)} y^{9} + 2 \\, {\\left(20 \\, x^{8} - 36 \\, x^{5} + 3 \\, x^{2}\\right)} y^{8} + 2 \\, {\\left(4 \\, x^{10} - 24 \\, x^{7} + 9 \\, x^{4}\\right)} y^{7} - {\\left(12 \\, x^{9} - 18 \\, x^{6} + x^{3}\\right)} y^{6} + 2 \\, {\\left(3 \\, x^{8} - x^{5}\\right)} y^{5}\\right)}} + \\frac{\\partial}{\\partial x}w\\left(x, y\\right)</script></html>"
      ],
      "text/latex": [
       "\\begin{math}\n",
       "\\newcommand{\\Bold}[1]{\\mathbf{#1}}-\\frac{{\\left(x^{10} + 4 \\, {\\left(4 \\, x^{6} + 4 \\, x^{5} + x^{4}\\right)} y^{6} + 8 \\, {\\left(8 \\, x^{8} + 6 \\, x^{7} + x^{6}\\right)} y^{5} + 4 \\, {\\left(24 \\, x^{10} + 12 \\, x^{9} + x^{8} - 4 \\, x^{6} - 2 \\, x^{5}\\right)} y^{4} + 4 \\, {\\left(16 \\, x^{12} + 4 \\, x^{11} - 10 \\, x^{8} - 3 \\, x^{7}\\right)} y^{3} + 4 \\, {\\left(4 \\, x^{14} - 8 \\, x^{10} - x^{9} + x^{6}\\right)} y^{2} - 4 \\, {\\left(2 \\, x^{12} - x^{8}\\right)} y\\right)} w\\left(x, y\\right)}{4 \\, {\\left(16 \\, x^{2} y^{10} + x^{6} y^{5} + 4 \\, y^{11} + 4 \\, {\\left(6 \\, x^{4} - x\\right)} y^{9} + 4 \\, {\\left(4 \\, x^{6} - 3 \\, x^{3}\\right)} y^{8} + {\\left(4 \\, x^{8} - 12 \\, x^{5} + x^{2}\\right)} y^{7} - 2 \\, {\\left(2 \\, x^{7} - x^{4}\\right)} y^{6}\\right)}} - \\frac{{\\left(x^{9} - 2 \\, {\\left(2 \\, x^{7} + x^{6}\\right)} y^{3} - 2 \\, {\\left(4 \\, x^{9} + x^{8}\\right)} y^{2} - 2 \\, {\\left(2 \\, x^{11} - x^{7}\\right)} y\\right)} w\\left(x, y\\right)}{2 \\, {\\left(16 \\, x^{2} y^{8} + x^{6} y^{3} + 4 \\, y^{9} + 4 \\, {\\left(6 \\, x^{4} - x\\right)} y^{7} + 4 \\, {\\left(4 \\, x^{6} - 3 \\, x^{3}\\right)} y^{6} + {\\left(4 \\, x^{8} - 12 \\, x^{5} + x^{2}\\right)} y^{5} - 2 \\, {\\left(2 \\, x^{7} - x^{4}\\right)} y^{4}\\right)}} - \\frac{{\\left(x^{8} + 4 \\, {\\left(4 \\, x^{4} + 4 \\, x^{3} + x^{2}\\right)} y^{6} + 8 \\, {\\left(8 \\, x^{6} + 6 \\, x^{5} + x^{4}\\right)} y^{5} + 4 \\, {\\left(24 \\, x^{8} + 12 \\, x^{7} + x^{6} - 4 \\, x^{4} - 2 \\, x^{3}\\right)} y^{4} + 4 \\, {\\left(16 \\, x^{10} + 4 \\, x^{9} - 10 \\, x^{6} - 3 \\, x^{5}\\right)} y^{3} + 4 \\, {\\left(4 \\, x^{12} - 8 \\, x^{8} - x^{7} + x^{4}\\right)} y^{2} - 4 \\, {\\left(2 \\, x^{10} - x^{6}\\right)} y\\right)} w\\left(x, y\\right)}{4 \\, {\\left(16 \\, x^{2} y^{9} + x^{6} y^{4} + 4 \\, y^{10} + 4 \\, {\\left(6 \\, x^{4} - x\\right)} y^{8} + 4 \\, {\\left(4 \\, x^{6} - 3 \\, x^{3}\\right)} y^{7} + {\\left(4 \\, x^{8} - 12 \\, x^{5} + x^{2}\\right)} y^{6} - 2 \\, {\\left(2 \\, x^{7} - x^{4}\\right)} y^{5}\\right)}} + \\frac{{\\left(x^{8} - 2 \\, {\\left(2 \\, x^{6} + x^{5}\\right)} y^{3} - 2 \\, {\\left(4 \\, x^{8} + x^{7}\\right)} y^{2} - 2 \\, {\\left(2 \\, x^{10} - x^{6}\\right)} y\\right)} w\\left(x, y\\right)}{4 \\, {\\left(16 \\, x^{2} y^{9} + x^{6} y^{4} + 4 \\, y^{10} + 4 \\, {\\left(6 \\, x^{4} - x\\right)} y^{8} + 4 \\, {\\left(4 \\, x^{6} - 3 \\, x^{3}\\right)} y^{7} + {\\left(4 \\, x^{8} - 12 \\, x^{5} + x^{2}\\right)} y^{6} - 2 \\, {\\left(2 \\, x^{7} - x^{4}\\right)} y^{5}\\right)}} - \\frac{{\\left(x^{7} - 2 \\, {\\left(2 \\, x^{5} + x^{4}\\right)} y^{3} - 2 \\, {\\left(4 \\, x^{7} + x^{6}\\right)} y^{2} - 2 \\, {\\left(2 \\, x^{9} - x^{5}\\right)} y\\right)} w\\left(x, y\\right)}{16 \\, x^{2} y^{7} + x^{6} y^{2} + 4 \\, y^{8} + 4 \\, {\\left(6 \\, x^{4} - x\\right)} y^{6} + 4 \\, {\\left(4 \\, x^{6} - 3 \\, x^{3}\\right)} y^{5} + {\\left(4 \\, x^{8} - 12 \\, x^{5} + x^{2}\\right)} y^{4} - 2 \\, {\\left(2 \\, x^{7} - x^{4}\\right)} y^{3}} + \\frac{{\\left(x^{6} - 2 \\, {\\left(2 \\, x^{4} + x^{3}\\right)} y^{3} - 2 \\, {\\left(4 \\, x^{6} + x^{5}\\right)} y^{2} - 2 \\, {\\left(2 \\, x^{8} - x^{4}\\right)} y\\right)} w\\left(x, y\\right)}{4 \\, {\\left(16 \\, x^{2} y^{8} + x^{6} y^{3} + 4 \\, y^{9} + 4 \\, {\\left(6 \\, x^{4} - x\\right)} y^{7} + 4 \\, {\\left(4 \\, x^{6} - 3 \\, x^{3}\\right)} y^{6} + {\\left(4 \\, x^{8} - 12 \\, x^{5} + x^{2}\\right)} y^{5} - 2 \\, {\\left(2 \\, x^{7} - x^{4}\\right)} y^{4}\\right)}} - \\frac{{\\left(x^{5} - 2 \\, {\\left(2 \\, x^{3} + x^{2}\\right)} y^{3} - 2 \\, {\\left(4 \\, x^{5} + x^{4}\\right)} y^{2} - 2 \\, {\\left(2 \\, x^{7} - x^{3}\\right)} y\\right)} w\\left(x, y\\right)}{2 \\, {\\left(16 \\, x^{2} y^{6} + x^{6} y + 4 \\, y^{7} + 4 \\, {\\left(6 \\, x^{4} - x\\right)} y^{5} + 4 \\, {\\left(4 \\, x^{6} - 3 \\, x^{3}\\right)} y^{4} + {\\left(4 \\, x^{8} - 12 \\, x^{5} + x^{2}\\right)} y^{3} - 2 \\, {\\left(2 \\, x^{7} - x^{4}\\right)} y^{2}\\right)}} + \\frac{{\\left(32 \\, x^{2} y^{10} - x^{11} + 16 \\, {\\left(4 \\, x^{5} + 12 \\, x^{4} + x^{3}\\right)} y^{9} + 8 \\, {\\left(48 \\, x^{7} + 64 \\, x^{6} + 8 \\, x^{5} - 4 \\, x^{3} - x^{2}\\right)} y^{8} + x^{8} + 4 \\, {\\left(240 \\, x^{9} + 192 \\, x^{8} + 24 \\, x^{7} - 44 \\, x^{5} - 22 \\, x^{4} - 3 \\, x^{3}\\right)} y^{7} + 4 \\, {\\left(320 \\, x^{11} + 168 \\, x^{10} + 16 \\, x^{9} - 116 \\, x^{7} - 66 \\, x^{6} - 9 \\, x^{5} + 2 \\, x^{4} + 2 \\, x^{3}\\right)} y^{6} + 4 \\, {\\left(240 \\, x^{13} + 80 \\, x^{12} + 4 \\, x^{11} - 176 \\, x^{9} - 86 \\, x^{8} - 9 \\, x^{7} + 4 \\, x^{6} + 16 \\, x^{5} + 6 \\, x^{4}\\right)} y^{5} + 2 \\, {\\left(192 \\, x^{15} + 32 \\, x^{14} - 304 \\, x^{11} - 104 \\, x^{10} - 6 \\, x^{9} + 4 \\, x^{8} + 80 \\, x^{7} + 28 \\, x^{6} - x^{4}\\right)} y^{4} + 2 \\, {\\left(32 \\, x^{17} - 136 \\, x^{13} - 24 \\, x^{12} + 86 \\, x^{9} + 20 \\, x^{8} - 3 \\, x^{6} - 7 \\, x^{5}\\right)} y^{3} - 2 \\, {\\left(24 \\, x^{15} - 40 \\, x^{11} - 4 \\, x^{10} + 4 \\, x^{8} + 11 \\, x^{7}\\right)} y^{2} + {\\left(12 \\, x^{13} - 4 \\, x^{10} - 9 \\, x^{9} + 2 \\, x^{6}\\right)} y\\right)} \\frac{\\partial}{\\partial y}z\\left(x, y\\right)}{8 \\, {\\left(40 \\, x^{2} y^{11} + 8 \\, y^{12} - x^{7} y^{4} + 4 \\, {\\left(20 \\, x^{4} - 3 \\, x\\right)} y^{10} + 16 \\, {\\left(5 \\, x^{6} - 3 \\, x^{3}\\right)} y^{9} + 2 \\, {\\left(20 \\, x^{8} - 36 \\, x^{5} + 3 \\, x^{2}\\right)} y^{8} + 2 \\, {\\left(4 \\, x^{10} - 24 \\, x^{7} + 9 \\, x^{4}\\right)} y^{7} - {\\left(12 \\, x^{9} - 18 \\, x^{6} + x^{3}\\right)} y^{6} + 2 \\, {\\left(3 \\, x^{8} - x^{5}\\right)} y^{5}\\right)}} + \\frac{\\partial}{\\partial x}w\\left(x, y\\right)\n",
       "\\end{math}"
      ],
      "text/plain": [
       "-1/4*(x^10 + 4*(4*x^6 + 4*x^5 + x^4)*y^6 + 8*(8*x^8 + 6*x^7 + x^6)*y^5 + 4*(24*x^10 + 12*x^9 + x^8 - 4*x^6 - 2*x^5)*y^4 + 4*(16*x^12 + 4*x^11 - 10*x^8 - 3*x^7)*y^3 + 4*(4*x^14 - 8*x^10 - x^9 + x^6)*y^2 - 4*(2*x^12 - x^8)*y)*w(x, y)/(16*x^2*y^10 + x^6*y^5 + 4*y^11 + 4*(6*x^4 - x)*y^9 + 4*(4*x^6 - 3*x^3)*y^8 + (4*x^8 - 12*x^5 + x^2)*y^7 - 2*(2*x^7 - x^4)*y^6) - 1/2*(x^9 - 2*(2*x^7 + x^6)*y^3 - 2*(4*x^9 + x^8)*y^2 - 2*(2*x^11 - x^7)*y)*w(x, y)/(16*x^2*y^8 + x^6*y^3 + 4*y^9 + 4*(6*x^4 - x)*y^7 + 4*(4*x^6 - 3*x^3)*y^6 + (4*x^8 - 12*x^5 + x^2)*y^5 - 2*(2*x^7 - x^4)*y^4) - 1/4*(x^8 + 4*(4*x^4 + 4*x^3 + x^2)*y^6 + 8*(8*x^6 + 6*x^5 + x^4)*y^5 + 4*(24*x^8 + 12*x^7 + x^6 - 4*x^4 - 2*x^3)*y^4 + 4*(16*x^10 + 4*x^9 - 10*x^6 - 3*x^5)*y^3 + 4*(4*x^12 - 8*x^8 - x^7 + x^4)*y^2 - 4*(2*x^10 - x^6)*y)*w(x, y)/(16*x^2*y^9 + x^6*y^4 + 4*y^10 + 4*(6*x^4 - x)*y^8 + 4*(4*x^6 - 3*x^3)*y^7 + (4*x^8 - 12*x^5 + x^2)*y^6 - 2*(2*x^7 - x^4)*y^5) + 1/4*(x^8 - 2*(2*x^6 + x^5)*y^3 - 2*(4*x^8 + x^7)*y^2 - 2*(2*x^10 - x^6)*y)*w(x, y)/(16*x^2*y^9 + x^6*y^4 + 4*y^10 + 4*(6*x^4 - x)*y^8 + 4*(4*x^6 - 3*x^3)*y^7 + (4*x^8 - 12*x^5 + x^2)*y^6 - 2*(2*x^7 - x^4)*y^5) - (x^7 - 2*(2*x^5 + x^4)*y^3 - 2*(4*x^7 + x^6)*y^2 - 2*(2*x^9 - x^5)*y)*w(x, y)/(16*x^2*y^7 + x^6*y^2 + 4*y^8 + 4*(6*x^4 - x)*y^6 + 4*(4*x^6 - 3*x^3)*y^5 + (4*x^8 - 12*x^5 + x^2)*y^4 - 2*(2*x^7 - x^4)*y^3) + 1/4*(x^6 - 2*(2*x^4 + x^3)*y^3 - 2*(4*x^6 + x^5)*y^2 - 2*(2*x^8 - x^4)*y)*w(x, y)/(16*x^2*y^8 + x^6*y^3 + 4*y^9 + 4*(6*x^4 - x)*y^7 + 4*(4*x^6 - 3*x^3)*y^6 + (4*x^8 - 12*x^5 + x^2)*y^5 - 2*(2*x^7 - x^4)*y^4) - 1/2*(x^5 - 2*(2*x^3 + x^2)*y^3 - 2*(4*x^5 + x^4)*y^2 - 2*(2*x^7 - x^3)*y)*w(x, y)/(16*x^2*y^6 + x^6*y + 4*y^7 + 4*(6*x^4 - x)*y^5 + 4*(4*x^6 - 3*x^3)*y^4 + (4*x^8 - 12*x^5 + x^2)*y^3 - 2*(2*x^7 - x^4)*y^2) + 1/8*(32*x^2*y^10 - x^11 + 16*(4*x^5 + 12*x^4 + x^3)*y^9 + 8*(48*x^7 + 64*x^6 + 8*x^5 - 4*x^3 - x^2)*y^8 + x^8 + 4*(240*x^9 + 192*x^8 + 24*x^7 - 44*x^5 - 22*x^4 - 3*x^3)*y^7 + 4*(320*x^11 + 168*x^10 + 16*x^9 - 116*x^7 - 66*x^6 - 9*x^5 + 2*x^4 + 2*x^3)*y^6 + 4*(240*x^13 + 80*x^12 + 4*x^11 - 176*x^9 - 86*x^8 - 9*x^7 + 4*x^6 + 16*x^5 + 6*x^4)*y^5 + 2*(192*x^15 + 32*x^14 - 304*x^11 - 104*x^10 - 6*x^9 + 4*x^8 + 80*x^7 + 28*x^6 - x^4)*y^4 + 2*(32*x^17 - 136*x^13 - 24*x^12 + 86*x^9 + 20*x^8 - 3*x^6 - 7*x^5)*y^3 - 2*(24*x^15 - 40*x^11 - 4*x^10 + 4*x^8 + 11*x^7)*y^2 + (12*x^13 - 4*x^10 - 9*x^9 + 2*x^6)*y)*diff(z(x, y), y)/(40*x^2*y^11 + 8*y^12 - x^7*y^4 + 4*(20*x^4 - 3*x)*y^10 + 16*(5*x^6 - 3*x^3)*y^9 + 2*(20*x^8 - 36*x^5 + 3*x^2)*y^8 + 2*(4*x^10 - 24*x^7 + 9*x^4)*y^7 - (12*x^9 - 18*x^6 + x^3)*y^6 + 2*(3*x^8 - x^5)*y^5) + diff(w(x, y), x)"
      ]
     },
     "metadata": {},
     "output_type": "display_data"
    },
    {
     "data": {
      "text/html": [
       "<html><script type=\"math/tex; mode=display\">\\newcommand{\\Bold}[1]{\\mathbf{#1}}-\\frac{4 \\, x^{3} y w\\left(x, y\\right)}{2 \\, {\\left(2 \\, x + 1\\right)} y^{3} - x^{3} + 2 \\, {\\left(4 \\, x^{3} + x^{2}\\right)} y^{2} + 2 \\, {\\left(2 \\, x^{5} - x\\right)} y} - \\frac{8 \\, x y^{2} w\\left(x, y\\right)}{2 \\, {\\left(2 \\, x + 1\\right)} y^{3} - x^{3} + 2 \\, {\\left(4 \\, x^{3} + x^{2}\\right)} y^{2} + 2 \\, {\\left(2 \\, x^{5} - x\\right)} y} + \\frac{4 \\, y^{3} w\\left(x, y\\right)}{x^{4} - 2 \\, {\\left(2 \\, x^{2} + x\\right)} y^{3} - 2 \\, {\\left(4 \\, x^{4} + x^{3}\\right)} y^{2} - 2 \\, {\\left(2 \\, x^{6} - x^{2}\\right)} y} + \\frac{2 \\, x^{2} w\\left(x, y\\right)}{2 \\, {\\left(2 \\, x + 1\\right)} y^{3} - x^{3} + 2 \\, {\\left(4 \\, x^{3} + x^{2}\\right)} y^{2} + 2 \\, {\\left(2 \\, x^{5} - x\\right)} y} + \\frac{2 \\, y w\\left(x, y\\right)}{2 \\, {\\left(2 \\, x + 1\\right)} y^{3} - x^{3} + 2 \\, {\\left(4 \\, x^{3} + x^{2}\\right)} y^{2} + 2 \\, {\\left(2 \\, x^{5} - x\\right)} y} - \\frac{8 \\, {\\left(16 \\, x^{2} y^{9} + x^{6} y^{4} + 4 \\, y^{10} + 4 \\, {\\left(6 \\, x^{4} - x\\right)} y^{8} + 4 \\, {\\left(4 \\, x^{6} - 3 \\, x^{3}\\right)} y^{7} + {\\left(4 \\, x^{8} - 12 \\, x^{5} + x^{2}\\right)} y^{6} - 2 \\, {\\left(2 \\, x^{7} - x^{4}\\right)} y^{5}\\right)} \\frac{\\partial}{\\partial x}w\\left(x, y\\right)}{x^{9} + 4 \\, {\\left(4 \\, x^{5} + 4 \\, x^{4} + x^{3}\\right)} y^{6} + 8 \\, {\\left(8 \\, x^{7} + 6 \\, x^{6} + x^{5}\\right)} y^{5} + 4 \\, {\\left(24 \\, x^{9} + 12 \\, x^{8} + x^{7} - 4 \\, x^{5} - 2 \\, x^{4}\\right)} y^{4} + 4 \\, {\\left(16 \\, x^{11} + 4 \\, x^{10} - 10 \\, x^{7} - 3 \\, x^{6}\\right)} y^{3} + 4 \\, {\\left(4 \\, x^{13} - 8 \\, x^{9} - x^{8} + x^{5}\\right)} y^{2} - 4 \\, {\\left(2 \\, x^{11} - x^{7}\\right)} y} - \\frac{{\\left(48 \\, x^{2} y^{7} + 16 \\, y^{8} + 4 \\, {\\left(12 \\, x^{4} - 2 \\, x - 1\\right)} y^{6} + 4 \\, {\\left(4 \\, x^{6} - 4 \\, x^{3} - 4 \\, x^{2} - x\\right)} y^{5} - x^{5} - 2 \\, {\\left(4 \\, x^{5} + 14 \\, x^{4} + 4 \\, x^{3} - x\\right)} y^{4} - 2 \\, {\\left(12 \\, x^{6} + 2 \\, x^{5} - 3 \\, x^{3} - 3 \\, x^{2}\\right)} y^{3} - 8 \\, {\\left(x^{8} - x^{5} - x^{4}\\right)} y^{2} + 2 \\, {\\left(2 \\, x^{7} + x^{6} - x^{3}\\right)} y\\right)} \\frac{\\partial}{\\partial y}z\\left(x, y\\right)}{x^{7} + 4 \\, {\\left(4 \\, x^{3} + 4 \\, x^{2} + x\\right)} y^{6} + 8 \\, {\\left(8 \\, x^{5} + 6 \\, x^{4} + x^{3}\\right)} y^{5} + 4 \\, {\\left(24 \\, x^{7} + 12 \\, x^{6} + x^{5} - 4 \\, x^{3} - 2 \\, x^{2}\\right)} y^{4} + 4 \\, {\\left(16 \\, x^{9} + 4 \\, x^{8} - 10 \\, x^{5} - 3 \\, x^{4}\\right)} y^{3} + 4 \\, {\\left(4 \\, x^{11} - 8 \\, x^{7} - x^{6} + x^{3}\\right)} y^{2} - 4 \\, {\\left(2 \\, x^{9} - x^{5}\\right)} y} + \\frac{\\partial^{2}}{(\\partial y)^{2}}z\\left(x, y\\right)</script></html>"
      ],
      "text/latex": [
       "\\begin{math}\n",
       "\\newcommand{\\Bold}[1]{\\mathbf{#1}}-\\frac{4 \\, x^{3} y w\\left(x, y\\right)}{2 \\, {\\left(2 \\, x + 1\\right)} y^{3} - x^{3} + 2 \\, {\\left(4 \\, x^{3} + x^{2}\\right)} y^{2} + 2 \\, {\\left(2 \\, x^{5} - x\\right)} y} - \\frac{8 \\, x y^{2} w\\left(x, y\\right)}{2 \\, {\\left(2 \\, x + 1\\right)} y^{3} - x^{3} + 2 \\, {\\left(4 \\, x^{3} + x^{2}\\right)} y^{2} + 2 \\, {\\left(2 \\, x^{5} - x\\right)} y} + \\frac{4 \\, y^{3} w\\left(x, y\\right)}{x^{4} - 2 \\, {\\left(2 \\, x^{2} + x\\right)} y^{3} - 2 \\, {\\left(4 \\, x^{4} + x^{3}\\right)} y^{2} - 2 \\, {\\left(2 \\, x^{6} - x^{2}\\right)} y} + \\frac{2 \\, x^{2} w\\left(x, y\\right)}{2 \\, {\\left(2 \\, x + 1\\right)} y^{3} - x^{3} + 2 \\, {\\left(4 \\, x^{3} + x^{2}\\right)} y^{2} + 2 \\, {\\left(2 \\, x^{5} - x\\right)} y} + \\frac{2 \\, y w\\left(x, y\\right)}{2 \\, {\\left(2 \\, x + 1\\right)} y^{3} - x^{3} + 2 \\, {\\left(4 \\, x^{3} + x^{2}\\right)} y^{2} + 2 \\, {\\left(2 \\, x^{5} - x\\right)} y} - \\frac{8 \\, {\\left(16 \\, x^{2} y^{9} + x^{6} y^{4} + 4 \\, y^{10} + 4 \\, {\\left(6 \\, x^{4} - x\\right)} y^{8} + 4 \\, {\\left(4 \\, x^{6} - 3 \\, x^{3}\\right)} y^{7} + {\\left(4 \\, x^{8} - 12 \\, x^{5} + x^{2}\\right)} y^{6} - 2 \\, {\\left(2 \\, x^{7} - x^{4}\\right)} y^{5}\\right)} \\frac{\\partial}{\\partial x}w\\left(x, y\\right)}{x^{9} + 4 \\, {\\left(4 \\, x^{5} + 4 \\, x^{4} + x^{3}\\right)} y^{6} + 8 \\, {\\left(8 \\, x^{7} + 6 \\, x^{6} + x^{5}\\right)} y^{5} + 4 \\, {\\left(24 \\, x^{9} + 12 \\, x^{8} + x^{7} - 4 \\, x^{5} - 2 \\, x^{4}\\right)} y^{4} + 4 \\, {\\left(16 \\, x^{11} + 4 \\, x^{10} - 10 \\, x^{7} - 3 \\, x^{6}\\right)} y^{3} + 4 \\, {\\left(4 \\, x^{13} - 8 \\, x^{9} - x^{8} + x^{5}\\right)} y^{2} - 4 \\, {\\left(2 \\, x^{11} - x^{7}\\right)} y} - \\frac{{\\left(48 \\, x^{2} y^{7} + 16 \\, y^{8} + 4 \\, {\\left(12 \\, x^{4} - 2 \\, x - 1\\right)} y^{6} + 4 \\, {\\left(4 \\, x^{6} - 4 \\, x^{3} - 4 \\, x^{2} - x\\right)} y^{5} - x^{5} - 2 \\, {\\left(4 \\, x^{5} + 14 \\, x^{4} + 4 \\, x^{3} - x\\right)} y^{4} - 2 \\, {\\left(12 \\, x^{6} + 2 \\, x^{5} - 3 \\, x^{3} - 3 \\, x^{2}\\right)} y^{3} - 8 \\, {\\left(x^{8} - x^{5} - x^{4}\\right)} y^{2} + 2 \\, {\\left(2 \\, x^{7} + x^{6} - x^{3}\\right)} y\\right)} \\frac{\\partial}{\\partial y}z\\left(x, y\\right)}{x^{7} + 4 \\, {\\left(4 \\, x^{3} + 4 \\, x^{2} + x\\right)} y^{6} + 8 \\, {\\left(8 \\, x^{5} + 6 \\, x^{4} + x^{3}\\right)} y^{5} + 4 \\, {\\left(24 \\, x^{7} + 12 \\, x^{6} + x^{5} - 4 \\, x^{3} - 2 \\, x^{2}\\right)} y^{4} + 4 \\, {\\left(16 \\, x^{9} + 4 \\, x^{8} - 10 \\, x^{5} - 3 \\, x^{4}\\right)} y^{3} + 4 \\, {\\left(4 \\, x^{11} - 8 \\, x^{7} - x^{6} + x^{3}\\right)} y^{2} - 4 \\, {\\left(2 \\, x^{9} - x^{5}\\right)} y} + \\frac{\\partial^{2}}{(\\partial y)^{2}}z\\left(x, y\\right)\n",
       "\\end{math}"
      ],
      "text/plain": [
       "-4*x^3*y*w(x, y)/(2*(2*x + 1)*y^3 - x^3 + 2*(4*x^3 + x^2)*y^2 + 2*(2*x^5 - x)*y) - 8*x*y^2*w(x, y)/(2*(2*x + 1)*y^3 - x^3 + 2*(4*x^3 + x^2)*y^2 + 2*(2*x^5 - x)*y) + 4*y^3*w(x, y)/(x^4 - 2*(2*x^2 + x)*y^3 - 2*(4*x^4 + x^3)*y^2 - 2*(2*x^6 - x^2)*y) + 2*x^2*w(x, y)/(2*(2*x + 1)*y^3 - x^3 + 2*(4*x^3 + x^2)*y^2 + 2*(2*x^5 - x)*y) + 2*y*w(x, y)/(2*(2*x + 1)*y^3 - x^3 + 2*(4*x^3 + x^2)*y^2 + 2*(2*x^5 - x)*y) - 8*(16*x^2*y^9 + x^6*y^4 + 4*y^10 + 4*(6*x^4 - x)*y^8 + 4*(4*x^6 - 3*x^3)*y^7 + (4*x^8 - 12*x^5 + x^2)*y^6 - 2*(2*x^7 - x^4)*y^5)*diff(w(x, y), x)/(x^9 + 4*(4*x^5 + 4*x^4 + x^3)*y^6 + 8*(8*x^7 + 6*x^6 + x^5)*y^5 + 4*(24*x^9 + 12*x^8 + x^7 - 4*x^5 - 2*x^4)*y^4 + 4*(16*x^11 + 4*x^10 - 10*x^7 - 3*x^6)*y^3 + 4*(4*x^13 - 8*x^9 - x^8 + x^5)*y^2 - 4*(2*x^11 - x^7)*y) - (48*x^2*y^7 + 16*y^8 + 4*(12*x^4 - 2*x - 1)*y^6 + 4*(4*x^6 - 4*x^3 - 4*x^2 - x)*y^5 - x^5 - 2*(4*x^5 + 14*x^4 + 4*x^3 - x)*y^4 - 2*(12*x^6 + 2*x^5 - 3*x^3 - 3*x^2)*y^3 - 8*(x^8 - x^5 - x^4)*y^2 + 2*(2*x^7 + x^6 - x^3)*y)*diff(z(x, y), y)/(x^7 + 4*(4*x^3 + 4*x^2 + x)*y^6 + 8*(8*x^5 + 6*x^4 + x^3)*y^5 + 4*(24*x^7 + 12*x^6 + x^5 - 4*x^3 - 2*x^2)*y^4 + 4*(16*x^9 + 4*x^8 - 10*x^5 - 3*x^4)*y^3 + 4*(4*x^11 - 8*x^7 - x^6 + x^3)*y^2 - 4*(2*x^9 - x^5)*y) + diff(z(x, y), y, y)"
      ]
     },
     "metadata": {},
     "output_type": "display_data"
    },
    {
     "name": "stdout",
     "output_type": "stream",
     "text": [
      "===================================================== 3\n",
      "This is the new System........\n"
     ]
    },
    {
     "data": {
      "text/html": [
       "<html><script type=\"math/tex; mode=display\">\\newcommand{\\Bold}[1]{\\mathbf{#1}}\\frac{{\\left(x^{4} - 2 \\, {\\left(2 \\, x^{2} + x\\right)} y^{3} - 2 \\, {\\left(4 \\, x^{4} + x^{3}\\right)} y^{2} - 2 \\, {\\left(2 \\, x^{6} - x^{2}\\right)} y\\right)} \\frac{\\partial}{\\partial y}z\\left(x, y\\right)}{4 \\, {\\left(4 \\, x^{2} y^{4} - x^{3} y^{2} + 2 \\, y^{5} + {\\left(2 \\, x^{4} - x\\right)} y^{3}\\right)}} + \\frac{w\\left(x, y\\right)}{2 \\, y} + \\frac{\\partial}{\\partial x}z\\left(x, y\\right)</script></html>"
      ],
      "text/latex": [
       "\\begin{math}\n",
       "\\newcommand{\\Bold}[1]{\\mathbf{#1}}\\frac{{\\left(x^{4} - 2 \\, {\\left(2 \\, x^{2} + x\\right)} y^{3} - 2 \\, {\\left(4 \\, x^{4} + x^{3}\\right)} y^{2} - 2 \\, {\\left(2 \\, x^{6} - x^{2}\\right)} y\\right)} \\frac{\\partial}{\\partial y}z\\left(x, y\\right)}{4 \\, {\\left(4 \\, x^{2} y^{4} - x^{3} y^{2} + 2 \\, y^{5} + {\\left(2 \\, x^{4} - x\\right)} y^{3}\\right)}} + \\frac{w\\left(x, y\\right)}{2 \\, y} + \\frac{\\partial}{\\partial x}z\\left(x, y\\right)\n",
       "\\end{math}"
      ],
      "text/plain": [
       "1/4*(x^4 - 2*(2*x^2 + x)*y^3 - 2*(4*x^4 + x^3)*y^2 - 2*(2*x^6 - x^2)*y)*diff(z(x, y), y)/(4*x^2*y^4 - x^3*y^2 + 2*y^5 + (2*x^4 - x)*y^3) + 1/2*w(x, y)/y + diff(z(x, y), x)"
      ]
     },
     "metadata": {},
     "output_type": "display_data"
    },
    {
     "data": {
      "text/html": [
       "<html><script type=\"math/tex; mode=display\">\\newcommand{\\Bold}[1]{\\mathbf{#1}}\\frac{x \\frac{\\partial}{\\partial y}z\\left(x, y\\right)}{2 \\, {\\left(x^{2} y + y^{2}\\right)}} - \\frac{w\\left(x, y\\right)}{y} + \\frac{\\partial}{\\partial y}w\\left(x, y\\right)</script></html>"
      ],
      "text/latex": [
       "\\begin{math}\n",
       "\\newcommand{\\Bold}[1]{\\mathbf{#1}}\\frac{x \\frac{\\partial}{\\partial y}z\\left(x, y\\right)}{2 \\, {\\left(x^{2} y + y^{2}\\right)}} - \\frac{w\\left(x, y\\right)}{y} + \\frac{\\partial}{\\partial y}w\\left(x, y\\right)\n",
       "\\end{math}"
      ],
      "text/plain": [
       "1/2*x*diff(z(x, y), y)/(x^2*y + y^2) - w(x, y)/y + diff(w(x, y), y)"
      ]
     },
     "metadata": {},
     "output_type": "display_data"
    },
    {
     "data": {
      "text/html": [
       "<html><script type=\"math/tex; mode=display\">\\newcommand{\\Bold}[1]{\\mathbf{#1}}-\\frac{{\\left(x^{10} + 4 \\, {\\left(4 \\, x^{6} + 4 \\, x^{5} + x^{4}\\right)} y^{6} + 8 \\, {\\left(8 \\, x^{8} + 6 \\, x^{7} + x^{6}\\right)} y^{5} + 4 \\, {\\left(24 \\, x^{10} + 12 \\, x^{9} + x^{8} - 4 \\, x^{6} - 2 \\, x^{5}\\right)} y^{4} + 4 \\, {\\left(16 \\, x^{12} + 4 \\, x^{11} - 10 \\, x^{8} - 3 \\, x^{7}\\right)} y^{3} + 4 \\, {\\left(4 \\, x^{14} - 8 \\, x^{10} - x^{9} + x^{6}\\right)} y^{2} - 4 \\, {\\left(2 \\, x^{12} - x^{8}\\right)} y\\right)} w\\left(x, y\\right)}{4 \\, {\\left(16 \\, x^{2} y^{10} + x^{6} y^{5} + 4 \\, y^{11} + 4 \\, {\\left(6 \\, x^{4} - x\\right)} y^{9} + 4 \\, {\\left(4 \\, x^{6} - 3 \\, x^{3}\\right)} y^{8} + {\\left(4 \\, x^{8} - 12 \\, x^{5} + x^{2}\\right)} y^{7} - 2 \\, {\\left(2 \\, x^{7} - x^{4}\\right)} y^{6}\\right)}} - \\frac{{\\left(x^{9} - 2 \\, {\\left(2 \\, x^{7} + x^{6}\\right)} y^{3} - 2 \\, {\\left(4 \\, x^{9} + x^{8}\\right)} y^{2} - 2 \\, {\\left(2 \\, x^{11} - x^{7}\\right)} y\\right)} w\\left(x, y\\right)}{2 \\, {\\left(16 \\, x^{2} y^{8} + x^{6} y^{3} + 4 \\, y^{9} + 4 \\, {\\left(6 \\, x^{4} - x\\right)} y^{7} + 4 \\, {\\left(4 \\, x^{6} - 3 \\, x^{3}\\right)} y^{6} + {\\left(4 \\, x^{8} - 12 \\, x^{5} + x^{2}\\right)} y^{5} - 2 \\, {\\left(2 \\, x^{7} - x^{4}\\right)} y^{4}\\right)}} - \\frac{{\\left(x^{8} + 4 \\, {\\left(4 \\, x^{4} + 4 \\, x^{3} + x^{2}\\right)} y^{6} + 8 \\, {\\left(8 \\, x^{6} + 6 \\, x^{5} + x^{4}\\right)} y^{5} + 4 \\, {\\left(24 \\, x^{8} + 12 \\, x^{7} + x^{6} - 4 \\, x^{4} - 2 \\, x^{3}\\right)} y^{4} + 4 \\, {\\left(16 \\, x^{10} + 4 \\, x^{9} - 10 \\, x^{6} - 3 \\, x^{5}\\right)} y^{3} + 4 \\, {\\left(4 \\, x^{12} - 8 \\, x^{8} - x^{7} + x^{4}\\right)} y^{2} - 4 \\, {\\left(2 \\, x^{10} - x^{6}\\right)} y\\right)} w\\left(x, y\\right)}{4 \\, {\\left(16 \\, x^{2} y^{9} + x^{6} y^{4} + 4 \\, y^{10} + 4 \\, {\\left(6 \\, x^{4} - x\\right)} y^{8} + 4 \\, {\\left(4 \\, x^{6} - 3 \\, x^{3}\\right)} y^{7} + {\\left(4 \\, x^{8} - 12 \\, x^{5} + x^{2}\\right)} y^{6} - 2 \\, {\\left(2 \\, x^{7} - x^{4}\\right)} y^{5}\\right)}} + \\frac{{\\left(x^{8} - 2 \\, {\\left(2 \\, x^{6} + x^{5}\\right)} y^{3} - 2 \\, {\\left(4 \\, x^{8} + x^{7}\\right)} y^{2} - 2 \\, {\\left(2 \\, x^{10} - x^{6}\\right)} y\\right)} w\\left(x, y\\right)}{4 \\, {\\left(16 \\, x^{2} y^{9} + x^{6} y^{4} + 4 \\, y^{10} + 4 \\, {\\left(6 \\, x^{4} - x\\right)} y^{8} + 4 \\, {\\left(4 \\, x^{6} - 3 \\, x^{3}\\right)} y^{7} + {\\left(4 \\, x^{8} - 12 \\, x^{5} + x^{2}\\right)} y^{6} - 2 \\, {\\left(2 \\, x^{7} - x^{4}\\right)} y^{5}\\right)}} - \\frac{{\\left(x^{7} - 2 \\, {\\left(2 \\, x^{5} + x^{4}\\right)} y^{3} - 2 \\, {\\left(4 \\, x^{7} + x^{6}\\right)} y^{2} - 2 \\, {\\left(2 \\, x^{9} - x^{5}\\right)} y\\right)} w\\left(x, y\\right)}{16 \\, x^{2} y^{7} + x^{6} y^{2} + 4 \\, y^{8} + 4 \\, {\\left(6 \\, x^{4} - x\\right)} y^{6} + 4 \\, {\\left(4 \\, x^{6} - 3 \\, x^{3}\\right)} y^{5} + {\\left(4 \\, x^{8} - 12 \\, x^{5} + x^{2}\\right)} y^{4} - 2 \\, {\\left(2 \\, x^{7} - x^{4}\\right)} y^{3}} + \\frac{{\\left(x^{6} - 2 \\, {\\left(2 \\, x^{4} + x^{3}\\right)} y^{3} - 2 \\, {\\left(4 \\, x^{6} + x^{5}\\right)} y^{2} - 2 \\, {\\left(2 \\, x^{8} - x^{4}\\right)} y\\right)} w\\left(x, y\\right)}{4 \\, {\\left(16 \\, x^{2} y^{8} + x^{6} y^{3} + 4 \\, y^{9} + 4 \\, {\\left(6 \\, x^{4} - x\\right)} y^{7} + 4 \\, {\\left(4 \\, x^{6} - 3 \\, x^{3}\\right)} y^{6} + {\\left(4 \\, x^{8} - 12 \\, x^{5} + x^{2}\\right)} y^{5} - 2 \\, {\\left(2 \\, x^{7} - x^{4}\\right)} y^{4}\\right)}} - \\frac{{\\left(x^{5} - 2 \\, {\\left(2 \\, x^{3} + x^{2}\\right)} y^{3} - 2 \\, {\\left(4 \\, x^{5} + x^{4}\\right)} y^{2} - 2 \\, {\\left(2 \\, x^{7} - x^{3}\\right)} y\\right)} w\\left(x, y\\right)}{2 \\, {\\left(16 \\, x^{2} y^{6} + x^{6} y + 4 \\, y^{7} + 4 \\, {\\left(6 \\, x^{4} - x\\right)} y^{5} + 4 \\, {\\left(4 \\, x^{6} - 3 \\, x^{3}\\right)} y^{4} + {\\left(4 \\, x^{8} - 12 \\, x^{5} + x^{2}\\right)} y^{3} - 2 \\, {\\left(2 \\, x^{7} - x^{4}\\right)} y^{2}\\right)}} + \\frac{{\\left(32 \\, x^{2} y^{10} - x^{11} + 16 \\, {\\left(4 \\, x^{5} + 12 \\, x^{4} + x^{3}\\right)} y^{9} + 8 \\, {\\left(48 \\, x^{7} + 64 \\, x^{6} + 8 \\, x^{5} - 4 \\, x^{3} - x^{2}\\right)} y^{8} + x^{8} + 4 \\, {\\left(240 \\, x^{9} + 192 \\, x^{8} + 24 \\, x^{7} - 44 \\, x^{5} - 22 \\, x^{4} - 3 \\, x^{3}\\right)} y^{7} + 4 \\, {\\left(320 \\, x^{11} + 168 \\, x^{10} + 16 \\, x^{9} - 116 \\, x^{7} - 66 \\, x^{6} - 9 \\, x^{5} + 2 \\, x^{4} + 2 \\, x^{3}\\right)} y^{6} + 4 \\, {\\left(240 \\, x^{13} + 80 \\, x^{12} + 4 \\, x^{11} - 176 \\, x^{9} - 86 \\, x^{8} - 9 \\, x^{7} + 4 \\, x^{6} + 16 \\, x^{5} + 6 \\, x^{4}\\right)} y^{5} + 2 \\, {\\left(192 \\, x^{15} + 32 \\, x^{14} - 304 \\, x^{11} - 104 \\, x^{10} - 6 \\, x^{9} + 4 \\, x^{8} + 80 \\, x^{7} + 28 \\, x^{6} - x^{4}\\right)} y^{4} + 2 \\, {\\left(32 \\, x^{17} - 136 \\, x^{13} - 24 \\, x^{12} + 86 \\, x^{9} + 20 \\, x^{8} - 3 \\, x^{6} - 7 \\, x^{5}\\right)} y^{3} - 2 \\, {\\left(24 \\, x^{15} - 40 \\, x^{11} - 4 \\, x^{10} + 4 \\, x^{8} + 11 \\, x^{7}\\right)} y^{2} + {\\left(12 \\, x^{13} - 4 \\, x^{10} - 9 \\, x^{9} + 2 \\, x^{6}\\right)} y\\right)} \\frac{\\partial}{\\partial y}z\\left(x, y\\right)}{8 \\, {\\left(40 \\, x^{2} y^{11} + 8 \\, y^{12} - x^{7} y^{4} + 4 \\, {\\left(20 \\, x^{4} - 3 \\, x\\right)} y^{10} + 16 \\, {\\left(5 \\, x^{6} - 3 \\, x^{3}\\right)} y^{9} + 2 \\, {\\left(20 \\, x^{8} - 36 \\, x^{5} + 3 \\, x^{2}\\right)} y^{8} + 2 \\, {\\left(4 \\, x^{10} - 24 \\, x^{7} + 9 \\, x^{4}\\right)} y^{7} - {\\left(12 \\, x^{9} - 18 \\, x^{6} + x^{3}\\right)} y^{6} + 2 \\, {\\left(3 \\, x^{8} - x^{5}\\right)} y^{5}\\right)}} + \\frac{\\partial}{\\partial x}w\\left(x, y\\right)</script></html>"
      ],
      "text/latex": [
       "\\begin{math}\n",
       "\\newcommand{\\Bold}[1]{\\mathbf{#1}}-\\frac{{\\left(x^{10} + 4 \\, {\\left(4 \\, x^{6} + 4 \\, x^{5} + x^{4}\\right)} y^{6} + 8 \\, {\\left(8 \\, x^{8} + 6 \\, x^{7} + x^{6}\\right)} y^{5} + 4 \\, {\\left(24 \\, x^{10} + 12 \\, x^{9} + x^{8} - 4 \\, x^{6} - 2 \\, x^{5}\\right)} y^{4} + 4 \\, {\\left(16 \\, x^{12} + 4 \\, x^{11} - 10 \\, x^{8} - 3 \\, x^{7}\\right)} y^{3} + 4 \\, {\\left(4 \\, x^{14} - 8 \\, x^{10} - x^{9} + x^{6}\\right)} y^{2} - 4 \\, {\\left(2 \\, x^{12} - x^{8}\\right)} y\\right)} w\\left(x, y\\right)}{4 \\, {\\left(16 \\, x^{2} y^{10} + x^{6} y^{5} + 4 \\, y^{11} + 4 \\, {\\left(6 \\, x^{4} - x\\right)} y^{9} + 4 \\, {\\left(4 \\, x^{6} - 3 \\, x^{3}\\right)} y^{8} + {\\left(4 \\, x^{8} - 12 \\, x^{5} + x^{2}\\right)} y^{7} - 2 \\, {\\left(2 \\, x^{7} - x^{4}\\right)} y^{6}\\right)}} - \\frac{{\\left(x^{9} - 2 \\, {\\left(2 \\, x^{7} + x^{6}\\right)} y^{3} - 2 \\, {\\left(4 \\, x^{9} + x^{8}\\right)} y^{2} - 2 \\, {\\left(2 \\, x^{11} - x^{7}\\right)} y\\right)} w\\left(x, y\\right)}{2 \\, {\\left(16 \\, x^{2} y^{8} + x^{6} y^{3} + 4 \\, y^{9} + 4 \\, {\\left(6 \\, x^{4} - x\\right)} y^{7} + 4 \\, {\\left(4 \\, x^{6} - 3 \\, x^{3}\\right)} y^{6} + {\\left(4 \\, x^{8} - 12 \\, x^{5} + x^{2}\\right)} y^{5} - 2 \\, {\\left(2 \\, x^{7} - x^{4}\\right)} y^{4}\\right)}} - \\frac{{\\left(x^{8} + 4 \\, {\\left(4 \\, x^{4} + 4 \\, x^{3} + x^{2}\\right)} y^{6} + 8 \\, {\\left(8 \\, x^{6} + 6 \\, x^{5} + x^{4}\\right)} y^{5} + 4 \\, {\\left(24 \\, x^{8} + 12 \\, x^{7} + x^{6} - 4 \\, x^{4} - 2 \\, x^{3}\\right)} y^{4} + 4 \\, {\\left(16 \\, x^{10} + 4 \\, x^{9} - 10 \\, x^{6} - 3 \\, x^{5}\\right)} y^{3} + 4 \\, {\\left(4 \\, x^{12} - 8 \\, x^{8} - x^{7} + x^{4}\\right)} y^{2} - 4 \\, {\\left(2 \\, x^{10} - x^{6}\\right)} y\\right)} w\\left(x, y\\right)}{4 \\, {\\left(16 \\, x^{2} y^{9} + x^{6} y^{4} + 4 \\, y^{10} + 4 \\, {\\left(6 \\, x^{4} - x\\right)} y^{8} + 4 \\, {\\left(4 \\, x^{6} - 3 \\, x^{3}\\right)} y^{7} + {\\left(4 \\, x^{8} - 12 \\, x^{5} + x^{2}\\right)} y^{6} - 2 \\, {\\left(2 \\, x^{7} - x^{4}\\right)} y^{5}\\right)}} + \\frac{{\\left(x^{8} - 2 \\, {\\left(2 \\, x^{6} + x^{5}\\right)} y^{3} - 2 \\, {\\left(4 \\, x^{8} + x^{7}\\right)} y^{2} - 2 \\, {\\left(2 \\, x^{10} - x^{6}\\right)} y\\right)} w\\left(x, y\\right)}{4 \\, {\\left(16 \\, x^{2} y^{9} + x^{6} y^{4} + 4 \\, y^{10} + 4 \\, {\\left(6 \\, x^{4} - x\\right)} y^{8} + 4 \\, {\\left(4 \\, x^{6} - 3 \\, x^{3}\\right)} y^{7} + {\\left(4 \\, x^{8} - 12 \\, x^{5} + x^{2}\\right)} y^{6} - 2 \\, {\\left(2 \\, x^{7} - x^{4}\\right)} y^{5}\\right)}} - \\frac{{\\left(x^{7} - 2 \\, {\\left(2 \\, x^{5} + x^{4}\\right)} y^{3} - 2 \\, {\\left(4 \\, x^{7} + x^{6}\\right)} y^{2} - 2 \\, {\\left(2 \\, x^{9} - x^{5}\\right)} y\\right)} w\\left(x, y\\right)}{16 \\, x^{2} y^{7} + x^{6} y^{2} + 4 \\, y^{8} + 4 \\, {\\left(6 \\, x^{4} - x\\right)} y^{6} + 4 \\, {\\left(4 \\, x^{6} - 3 \\, x^{3}\\right)} y^{5} + {\\left(4 \\, x^{8} - 12 \\, x^{5} + x^{2}\\right)} y^{4} - 2 \\, {\\left(2 \\, x^{7} - x^{4}\\right)} y^{3}} + \\frac{{\\left(x^{6} - 2 \\, {\\left(2 \\, x^{4} + x^{3}\\right)} y^{3} - 2 \\, {\\left(4 \\, x^{6} + x^{5}\\right)} y^{2} - 2 \\, {\\left(2 \\, x^{8} - x^{4}\\right)} y\\right)} w\\left(x, y\\right)}{4 \\, {\\left(16 \\, x^{2} y^{8} + x^{6} y^{3} + 4 \\, y^{9} + 4 \\, {\\left(6 \\, x^{4} - x\\right)} y^{7} + 4 \\, {\\left(4 \\, x^{6} - 3 \\, x^{3}\\right)} y^{6} + {\\left(4 \\, x^{8} - 12 \\, x^{5} + x^{2}\\right)} y^{5} - 2 \\, {\\left(2 \\, x^{7} - x^{4}\\right)} y^{4}\\right)}} - \\frac{{\\left(x^{5} - 2 \\, {\\left(2 \\, x^{3} + x^{2}\\right)} y^{3} - 2 \\, {\\left(4 \\, x^{5} + x^{4}\\right)} y^{2} - 2 \\, {\\left(2 \\, x^{7} - x^{3}\\right)} y\\right)} w\\left(x, y\\right)}{2 \\, {\\left(16 \\, x^{2} y^{6} + x^{6} y + 4 \\, y^{7} + 4 \\, {\\left(6 \\, x^{4} - x\\right)} y^{5} + 4 \\, {\\left(4 \\, x^{6} - 3 \\, x^{3}\\right)} y^{4} + {\\left(4 \\, x^{8} - 12 \\, x^{5} + x^{2}\\right)} y^{3} - 2 \\, {\\left(2 \\, x^{7} - x^{4}\\right)} y^{2}\\right)}} + \\frac{{\\left(32 \\, x^{2} y^{10} - x^{11} + 16 \\, {\\left(4 \\, x^{5} + 12 \\, x^{4} + x^{3}\\right)} y^{9} + 8 \\, {\\left(48 \\, x^{7} + 64 \\, x^{6} + 8 \\, x^{5} - 4 \\, x^{3} - x^{2}\\right)} y^{8} + x^{8} + 4 \\, {\\left(240 \\, x^{9} + 192 \\, x^{8} + 24 \\, x^{7} - 44 \\, x^{5} - 22 \\, x^{4} - 3 \\, x^{3}\\right)} y^{7} + 4 \\, {\\left(320 \\, x^{11} + 168 \\, x^{10} + 16 \\, x^{9} - 116 \\, x^{7} - 66 \\, x^{6} - 9 \\, x^{5} + 2 \\, x^{4} + 2 \\, x^{3}\\right)} y^{6} + 4 \\, {\\left(240 \\, x^{13} + 80 \\, x^{12} + 4 \\, x^{11} - 176 \\, x^{9} - 86 \\, x^{8} - 9 \\, x^{7} + 4 \\, x^{6} + 16 \\, x^{5} + 6 \\, x^{4}\\right)} y^{5} + 2 \\, {\\left(192 \\, x^{15} + 32 \\, x^{14} - 304 \\, x^{11} - 104 \\, x^{10} - 6 \\, x^{9} + 4 \\, x^{8} + 80 \\, x^{7} + 28 \\, x^{6} - x^{4}\\right)} y^{4} + 2 \\, {\\left(32 \\, x^{17} - 136 \\, x^{13} - 24 \\, x^{12} + 86 \\, x^{9} + 20 \\, x^{8} - 3 \\, x^{6} - 7 \\, x^{5}\\right)} y^{3} - 2 \\, {\\left(24 \\, x^{15} - 40 \\, x^{11} - 4 \\, x^{10} + 4 \\, x^{8} + 11 \\, x^{7}\\right)} y^{2} + {\\left(12 \\, x^{13} - 4 \\, x^{10} - 9 \\, x^{9} + 2 \\, x^{6}\\right)} y\\right)} \\frac{\\partial}{\\partial y}z\\left(x, y\\right)}{8 \\, {\\left(40 \\, x^{2} y^{11} + 8 \\, y^{12} - x^{7} y^{4} + 4 \\, {\\left(20 \\, x^{4} - 3 \\, x\\right)} y^{10} + 16 \\, {\\left(5 \\, x^{6} - 3 \\, x^{3}\\right)} y^{9} + 2 \\, {\\left(20 \\, x^{8} - 36 \\, x^{5} + 3 \\, x^{2}\\right)} y^{8} + 2 \\, {\\left(4 \\, x^{10} - 24 \\, x^{7} + 9 \\, x^{4}\\right)} y^{7} - {\\left(12 \\, x^{9} - 18 \\, x^{6} + x^{3}\\right)} y^{6} + 2 \\, {\\left(3 \\, x^{8} - x^{5}\\right)} y^{5}\\right)}} + \\frac{\\partial}{\\partial x}w\\left(x, y\\right)\n",
       "\\end{math}"
      ],
      "text/plain": [
       "-1/4*(x^10 + 4*(4*x^6 + 4*x^5 + x^4)*y^6 + 8*(8*x^8 + 6*x^7 + x^6)*y^5 + 4*(24*x^10 + 12*x^9 + x^8 - 4*x^6 - 2*x^5)*y^4 + 4*(16*x^12 + 4*x^11 - 10*x^8 - 3*x^7)*y^3 + 4*(4*x^14 - 8*x^10 - x^9 + x^6)*y^2 - 4*(2*x^12 - x^8)*y)*w(x, y)/(16*x^2*y^10 + x^6*y^5 + 4*y^11 + 4*(6*x^4 - x)*y^9 + 4*(4*x^6 - 3*x^3)*y^8 + (4*x^8 - 12*x^5 + x^2)*y^7 - 2*(2*x^7 - x^4)*y^6) - 1/2*(x^9 - 2*(2*x^7 + x^6)*y^3 - 2*(4*x^9 + x^8)*y^2 - 2*(2*x^11 - x^7)*y)*w(x, y)/(16*x^2*y^8 + x^6*y^3 + 4*y^9 + 4*(6*x^4 - x)*y^7 + 4*(4*x^6 - 3*x^3)*y^6 + (4*x^8 - 12*x^5 + x^2)*y^5 - 2*(2*x^7 - x^4)*y^4) - 1/4*(x^8 + 4*(4*x^4 + 4*x^3 + x^2)*y^6 + 8*(8*x^6 + 6*x^5 + x^4)*y^5 + 4*(24*x^8 + 12*x^7 + x^6 - 4*x^4 - 2*x^3)*y^4 + 4*(16*x^10 + 4*x^9 - 10*x^6 - 3*x^5)*y^3 + 4*(4*x^12 - 8*x^8 - x^7 + x^4)*y^2 - 4*(2*x^10 - x^6)*y)*w(x, y)/(16*x^2*y^9 + x^6*y^4 + 4*y^10 + 4*(6*x^4 - x)*y^8 + 4*(4*x^6 - 3*x^3)*y^7 + (4*x^8 - 12*x^5 + x^2)*y^6 - 2*(2*x^7 - x^4)*y^5) + 1/4*(x^8 - 2*(2*x^6 + x^5)*y^3 - 2*(4*x^8 + x^7)*y^2 - 2*(2*x^10 - x^6)*y)*w(x, y)/(16*x^2*y^9 + x^6*y^4 + 4*y^10 + 4*(6*x^4 - x)*y^8 + 4*(4*x^6 - 3*x^3)*y^7 + (4*x^8 - 12*x^5 + x^2)*y^6 - 2*(2*x^7 - x^4)*y^5) - (x^7 - 2*(2*x^5 + x^4)*y^3 - 2*(4*x^7 + x^6)*y^2 - 2*(2*x^9 - x^5)*y)*w(x, y)/(16*x^2*y^7 + x^6*y^2 + 4*y^8 + 4*(6*x^4 - x)*y^6 + 4*(4*x^6 - 3*x^3)*y^5 + (4*x^8 - 12*x^5 + x^2)*y^4 - 2*(2*x^7 - x^4)*y^3) + 1/4*(x^6 - 2*(2*x^4 + x^3)*y^3 - 2*(4*x^6 + x^5)*y^2 - 2*(2*x^8 - x^4)*y)*w(x, y)/(16*x^2*y^8 + x^6*y^3 + 4*y^9 + 4*(6*x^4 - x)*y^7 + 4*(4*x^6 - 3*x^3)*y^6 + (4*x^8 - 12*x^5 + x^2)*y^5 - 2*(2*x^7 - x^4)*y^4) - 1/2*(x^5 - 2*(2*x^3 + x^2)*y^3 - 2*(4*x^5 + x^4)*y^2 - 2*(2*x^7 - x^3)*y)*w(x, y)/(16*x^2*y^6 + x^6*y + 4*y^7 + 4*(6*x^4 - x)*y^5 + 4*(4*x^6 - 3*x^3)*y^4 + (4*x^8 - 12*x^5 + x^2)*y^3 - 2*(2*x^7 - x^4)*y^2) + 1/8*(32*x^2*y^10 - x^11 + 16*(4*x^5 + 12*x^4 + x^3)*y^9 + 8*(48*x^7 + 64*x^6 + 8*x^5 - 4*x^3 - x^2)*y^8 + x^8 + 4*(240*x^9 + 192*x^8 + 24*x^7 - 44*x^5 - 22*x^4 - 3*x^3)*y^7 + 4*(320*x^11 + 168*x^10 + 16*x^9 - 116*x^7 - 66*x^6 - 9*x^5 + 2*x^4 + 2*x^3)*y^6 + 4*(240*x^13 + 80*x^12 + 4*x^11 - 176*x^9 - 86*x^8 - 9*x^7 + 4*x^6 + 16*x^5 + 6*x^4)*y^5 + 2*(192*x^15 + 32*x^14 - 304*x^11 - 104*x^10 - 6*x^9 + 4*x^8 + 80*x^7 + 28*x^6 - x^4)*y^4 + 2*(32*x^17 - 136*x^13 - 24*x^12 + 86*x^9 + 20*x^8 - 3*x^6 - 7*x^5)*y^3 - 2*(24*x^15 - 40*x^11 - 4*x^10 + 4*x^8 + 11*x^7)*y^2 + (12*x^13 - 4*x^10 - 9*x^9 + 2*x^6)*y)*diff(z(x, y), y)/(40*x^2*y^11 + 8*y^12 - x^7*y^4 + 4*(20*x^4 - 3*x)*y^10 + 16*(5*x^6 - 3*x^3)*y^9 + 2*(20*x^8 - 36*x^5 + 3*x^2)*y^8 + 2*(4*x^10 - 24*x^7 + 9*x^4)*y^7 - (12*x^9 - 18*x^6 + x^3)*y^6 + 2*(3*x^8 - x^5)*y^5) + diff(w(x, y), x)"
      ]
     },
     "metadata": {},
     "output_type": "display_data"
    },
    {
     "data": {
      "text/html": [
       "<html><script type=\"math/tex; mode=display\">\\newcommand{\\Bold}[1]{\\mathbf{#1}}\\frac{{\\left(8 \\, x^{2} y^{6} + x^{6} + 8 \\, {\\left(4 \\, x^{4} + x^{3}\\right)} y^{5} + 2 \\, {\\left(28 \\, x^{6} + 8 \\, x^{5} - 2 \\, x^{3} - x^{2}\\right)} y^{4} + 2 \\, {\\left(24 \\, x^{8} + 4 \\, x^{7} - 2 \\, x^{5} - 7 \\, x^{4} - x^{3}\\right)} y^{3} + {\\left(16 \\, x^{10} - 20 \\, x^{6} - 2 \\, x^{5} + x^{3}\\right)} y^{2} - 2 \\, {\\left(4 \\, x^{8} - x^{4}\\right)} y\\right)} \\frac{\\partial}{\\partial y}z\\left(x, y\\right)}{4 \\, {\\left(12 \\, x^{2} y^{7} + 4 \\, y^{8} + x^{4} y^{3} + 4 \\, {\\left(3 \\, x^{4} - x\\right)} y^{6} + 4 \\, {\\left(x^{6} - 2 \\, x^{3}\\right)} y^{5} - {\\left(4 \\, x^{5} - x^{2}\\right)} y^{4}\\right)}} + \\frac{\\partial}{\\partial x}w\\left(x, y\\right)</script></html>"
      ],
      "text/latex": [
       "\\begin{math}\n",
       "\\newcommand{\\Bold}[1]{\\mathbf{#1}}\\frac{{\\left(8 \\, x^{2} y^{6} + x^{6} + 8 \\, {\\left(4 \\, x^{4} + x^{3}\\right)} y^{5} + 2 \\, {\\left(28 \\, x^{6} + 8 \\, x^{5} - 2 \\, x^{3} - x^{2}\\right)} y^{4} + 2 \\, {\\left(24 \\, x^{8} + 4 \\, x^{7} - 2 \\, x^{5} - 7 \\, x^{4} - x^{3}\\right)} y^{3} + {\\left(16 \\, x^{10} - 20 \\, x^{6} - 2 \\, x^{5} + x^{3}\\right)} y^{2} - 2 \\, {\\left(4 \\, x^{8} - x^{4}\\right)} y\\right)} \\frac{\\partial}{\\partial y}z\\left(x, y\\right)}{4 \\, {\\left(12 \\, x^{2} y^{7} + 4 \\, y^{8} + x^{4} y^{3} + 4 \\, {\\left(3 \\, x^{4} - x\\right)} y^{6} + 4 \\, {\\left(x^{6} - 2 \\, x^{3}\\right)} y^{5} - {\\left(4 \\, x^{5} - x^{2}\\right)} y^{4}\\right)}} + \\frac{\\partial}{\\partial x}w\\left(x, y\\right)\n",
       "\\end{math}"
      ],
      "text/plain": [
       "1/4*(8*x^2*y^6 + x^6 + 8*(4*x^4 + x^3)*y^5 + 2*(28*x^6 + 8*x^5 - 2*x^3 - x^2)*y^4 + 2*(24*x^8 + 4*x^7 - 2*x^5 - 7*x^4 - x^3)*y^3 + (16*x^10 - 20*x^6 - 2*x^5 + x^3)*y^2 - 2*(4*x^8 - x^4)*y)*diff(z(x, y), y)/(12*x^2*y^7 + 4*y^8 + x^4*y^3 + 4*(3*x^4 - x)*y^6 + 4*(x^6 - 2*x^3)*y^5 - (4*x^5 - x^2)*y^4) + diff(w(x, y), x)"
      ]
     },
     "metadata": {},
     "output_type": "display_data"
    },
    {
     "data": {
      "text/html": [
       "<html><script type=\"math/tex; mode=display\">\\newcommand{\\Bold}[1]{\\mathbf{#1}}-\\frac{4 \\, x^{3} y w\\left(x, y\\right)}{2 \\, {\\left(2 \\, x + 1\\right)} y^{3} - x^{3} + 2 \\, {\\left(4 \\, x^{3} + x^{2}\\right)} y^{2} + 2 \\, {\\left(2 \\, x^{5} - x\\right)} y} - \\frac{8 \\, x y^{2} w\\left(x, y\\right)}{2 \\, {\\left(2 \\, x + 1\\right)} y^{3} - x^{3} + 2 \\, {\\left(4 \\, x^{3} + x^{2}\\right)} y^{2} + 2 \\, {\\left(2 \\, x^{5} - x\\right)} y} + \\frac{4 \\, y^{3} w\\left(x, y\\right)}{x^{4} - 2 \\, {\\left(2 \\, x^{2} + x\\right)} y^{3} - 2 \\, {\\left(4 \\, x^{4} + x^{3}\\right)} y^{2} - 2 \\, {\\left(2 \\, x^{6} - x^{2}\\right)} y} + \\frac{2 \\, x^{2} w\\left(x, y\\right)}{2 \\, {\\left(2 \\, x + 1\\right)} y^{3} - x^{3} + 2 \\, {\\left(4 \\, x^{3} + x^{2}\\right)} y^{2} + 2 \\, {\\left(2 \\, x^{5} - x\\right)} y} + \\frac{2 \\, y w\\left(x, y\\right)}{2 \\, {\\left(2 \\, x + 1\\right)} y^{3} - x^{3} + 2 \\, {\\left(4 \\, x^{3} + x^{2}\\right)} y^{2} + 2 \\, {\\left(2 \\, x^{5} - x\\right)} y} - \\frac{8 \\, {\\left(16 \\, x^{2} y^{9} + x^{6} y^{4} + 4 \\, y^{10} + 4 \\, {\\left(6 \\, x^{4} - x\\right)} y^{8} + 4 \\, {\\left(4 \\, x^{6} - 3 \\, x^{3}\\right)} y^{7} + {\\left(4 \\, x^{8} - 12 \\, x^{5} + x^{2}\\right)} y^{6} - 2 \\, {\\left(2 \\, x^{7} - x^{4}\\right)} y^{5}\\right)} \\frac{\\partial}{\\partial x}w\\left(x, y\\right)}{x^{9} + 4 \\, {\\left(4 \\, x^{5} + 4 \\, x^{4} + x^{3}\\right)} y^{6} + 8 \\, {\\left(8 \\, x^{7} + 6 \\, x^{6} + x^{5}\\right)} y^{5} + 4 \\, {\\left(24 \\, x^{9} + 12 \\, x^{8} + x^{7} - 4 \\, x^{5} - 2 \\, x^{4}\\right)} y^{4} + 4 \\, {\\left(16 \\, x^{11} + 4 \\, x^{10} - 10 \\, x^{7} - 3 \\, x^{6}\\right)} y^{3} + 4 \\, {\\left(4 \\, x^{13} - 8 \\, x^{9} - x^{8} + x^{5}\\right)} y^{2} - 4 \\, {\\left(2 \\, x^{11} - x^{7}\\right)} y} - \\frac{{\\left(48 \\, x^{2} y^{7} + 16 \\, y^{8} + 4 \\, {\\left(12 \\, x^{4} - 2 \\, x - 1\\right)} y^{6} + 4 \\, {\\left(4 \\, x^{6} - 4 \\, x^{3} - 4 \\, x^{2} - x\\right)} y^{5} - x^{5} - 2 \\, {\\left(4 \\, x^{5} + 14 \\, x^{4} + 4 \\, x^{3} - x\\right)} y^{4} - 2 \\, {\\left(12 \\, x^{6} + 2 \\, x^{5} - 3 \\, x^{3} - 3 \\, x^{2}\\right)} y^{3} - 8 \\, {\\left(x^{8} - x^{5} - x^{4}\\right)} y^{2} + 2 \\, {\\left(2 \\, x^{7} + x^{6} - x^{3}\\right)} y\\right)} \\frac{\\partial}{\\partial y}z\\left(x, y\\right)}{x^{7} + 4 \\, {\\left(4 \\, x^{3} + 4 \\, x^{2} + x\\right)} y^{6} + 8 \\, {\\left(8 \\, x^{5} + 6 \\, x^{4} + x^{3}\\right)} y^{5} + 4 \\, {\\left(24 \\, x^{7} + 12 \\, x^{6} + x^{5} - 4 \\, x^{3} - 2 \\, x^{2}\\right)} y^{4} + 4 \\, {\\left(16 \\, x^{9} + 4 \\, x^{8} - 10 \\, x^{5} - 3 \\, x^{4}\\right)} y^{3} + 4 \\, {\\left(4 \\, x^{11} - 8 \\, x^{7} - x^{6} + x^{3}\\right)} y^{2} - 4 \\, {\\left(2 \\, x^{9} - x^{5}\\right)} y} + \\frac{\\partial^{2}}{(\\partial y)^{2}}z\\left(x, y\\right)</script></html>"
      ],
      "text/latex": [
       "\\begin{math}\n",
       "\\newcommand{\\Bold}[1]{\\mathbf{#1}}-\\frac{4 \\, x^{3} y w\\left(x, y\\right)}{2 \\, {\\left(2 \\, x + 1\\right)} y^{3} - x^{3} + 2 \\, {\\left(4 \\, x^{3} + x^{2}\\right)} y^{2} + 2 \\, {\\left(2 \\, x^{5} - x\\right)} y} - \\frac{8 \\, x y^{2} w\\left(x, y\\right)}{2 \\, {\\left(2 \\, x + 1\\right)} y^{3} - x^{3} + 2 \\, {\\left(4 \\, x^{3} + x^{2}\\right)} y^{2} + 2 \\, {\\left(2 \\, x^{5} - x\\right)} y} + \\frac{4 \\, y^{3} w\\left(x, y\\right)}{x^{4} - 2 \\, {\\left(2 \\, x^{2} + x\\right)} y^{3} - 2 \\, {\\left(4 \\, x^{4} + x^{3}\\right)} y^{2} - 2 \\, {\\left(2 \\, x^{6} - x^{2}\\right)} y} + \\frac{2 \\, x^{2} w\\left(x, y\\right)}{2 \\, {\\left(2 \\, x + 1\\right)} y^{3} - x^{3} + 2 \\, {\\left(4 \\, x^{3} + x^{2}\\right)} y^{2} + 2 \\, {\\left(2 \\, x^{5} - x\\right)} y} + \\frac{2 \\, y w\\left(x, y\\right)}{2 \\, {\\left(2 \\, x + 1\\right)} y^{3} - x^{3} + 2 \\, {\\left(4 \\, x^{3} + x^{2}\\right)} y^{2} + 2 \\, {\\left(2 \\, x^{5} - x\\right)} y} - \\frac{8 \\, {\\left(16 \\, x^{2} y^{9} + x^{6} y^{4} + 4 \\, y^{10} + 4 \\, {\\left(6 \\, x^{4} - x\\right)} y^{8} + 4 \\, {\\left(4 \\, x^{6} - 3 \\, x^{3}\\right)} y^{7} + {\\left(4 \\, x^{8} - 12 \\, x^{5} + x^{2}\\right)} y^{6} - 2 \\, {\\left(2 \\, x^{7} - x^{4}\\right)} y^{5}\\right)} \\frac{\\partial}{\\partial x}w\\left(x, y\\right)}{x^{9} + 4 \\, {\\left(4 \\, x^{5} + 4 \\, x^{4} + x^{3}\\right)} y^{6} + 8 \\, {\\left(8 \\, x^{7} + 6 \\, x^{6} + x^{5}\\right)} y^{5} + 4 \\, {\\left(24 \\, x^{9} + 12 \\, x^{8} + x^{7} - 4 \\, x^{5} - 2 \\, x^{4}\\right)} y^{4} + 4 \\, {\\left(16 \\, x^{11} + 4 \\, x^{10} - 10 \\, x^{7} - 3 \\, x^{6}\\right)} y^{3} + 4 \\, {\\left(4 \\, x^{13} - 8 \\, x^{9} - x^{8} + x^{5}\\right)} y^{2} - 4 \\, {\\left(2 \\, x^{11} - x^{7}\\right)} y} - \\frac{{\\left(48 \\, x^{2} y^{7} + 16 \\, y^{8} + 4 \\, {\\left(12 \\, x^{4} - 2 \\, x - 1\\right)} y^{6} + 4 \\, {\\left(4 \\, x^{6} - 4 \\, x^{3} - 4 \\, x^{2} - x\\right)} y^{5} - x^{5} - 2 \\, {\\left(4 \\, x^{5} + 14 \\, x^{4} + 4 \\, x^{3} - x\\right)} y^{4} - 2 \\, {\\left(12 \\, x^{6} + 2 \\, x^{5} - 3 \\, x^{3} - 3 \\, x^{2}\\right)} y^{3} - 8 \\, {\\left(x^{8} - x^{5} - x^{4}\\right)} y^{2} + 2 \\, {\\left(2 \\, x^{7} + x^{6} - x^{3}\\right)} y\\right)} \\frac{\\partial}{\\partial y}z\\left(x, y\\right)}{x^{7} + 4 \\, {\\left(4 \\, x^{3} + 4 \\, x^{2} + x\\right)} y^{6} + 8 \\, {\\left(8 \\, x^{5} + 6 \\, x^{4} + x^{3}\\right)} y^{5} + 4 \\, {\\left(24 \\, x^{7} + 12 \\, x^{6} + x^{5} - 4 \\, x^{3} - 2 \\, x^{2}\\right)} y^{4} + 4 \\, {\\left(16 \\, x^{9} + 4 \\, x^{8} - 10 \\, x^{5} - 3 \\, x^{4}\\right)} y^{3} + 4 \\, {\\left(4 \\, x^{11} - 8 \\, x^{7} - x^{6} + x^{3}\\right)} y^{2} - 4 \\, {\\left(2 \\, x^{9} - x^{5}\\right)} y} + \\frac{\\partial^{2}}{(\\partial y)^{2}}z\\left(x, y\\right)\n",
       "\\end{math}"
      ],
      "text/plain": [
       "-4*x^3*y*w(x, y)/(2*(2*x + 1)*y^3 - x^3 + 2*(4*x^3 + x^2)*y^2 + 2*(2*x^5 - x)*y) - 8*x*y^2*w(x, y)/(2*(2*x + 1)*y^3 - x^3 + 2*(4*x^3 + x^2)*y^2 + 2*(2*x^5 - x)*y) + 4*y^3*w(x, y)/(x^4 - 2*(2*x^2 + x)*y^3 - 2*(4*x^4 + x^3)*y^2 - 2*(2*x^6 - x^2)*y) + 2*x^2*w(x, y)/(2*(2*x + 1)*y^3 - x^3 + 2*(4*x^3 + x^2)*y^2 + 2*(2*x^5 - x)*y) + 2*y*w(x, y)/(2*(2*x + 1)*y^3 - x^3 + 2*(4*x^3 + x^2)*y^2 + 2*(2*x^5 - x)*y) - 8*(16*x^2*y^9 + x^6*y^4 + 4*y^10 + 4*(6*x^4 - x)*y^8 + 4*(4*x^6 - 3*x^3)*y^7 + (4*x^8 - 12*x^5 + x^2)*y^6 - 2*(2*x^7 - x^4)*y^5)*diff(w(x, y), x)/(x^9 + 4*(4*x^5 + 4*x^4 + x^3)*y^6 + 8*(8*x^7 + 6*x^6 + x^5)*y^5 + 4*(24*x^9 + 12*x^8 + x^7 - 4*x^5 - 2*x^4)*y^4 + 4*(16*x^11 + 4*x^10 - 10*x^7 - 3*x^6)*y^3 + 4*(4*x^13 - 8*x^9 - x^8 + x^5)*y^2 - 4*(2*x^11 - x^7)*y) - (48*x^2*y^7 + 16*y^8 + 4*(12*x^4 - 2*x - 1)*y^6 + 4*(4*x^6 - 4*x^3 - 4*x^2 - x)*y^5 - x^5 - 2*(4*x^5 + 14*x^4 + 4*x^3 - x)*y^4 - 2*(12*x^6 + 2*x^5 - 3*x^3 - 3*x^2)*y^3 - 8*(x^8 - x^5 - x^4)*y^2 + 2*(2*x^7 + x^6 - x^3)*y)*diff(z(x, y), y)/(x^7 + 4*(4*x^3 + 4*x^2 + x)*y^6 + 8*(8*x^5 + 6*x^4 + x^3)*y^5 + 4*(24*x^7 + 12*x^6 + x^5 - 4*x^3 - 2*x^2)*y^4 + 4*(16*x^9 + 4*x^8 - 10*x^5 - 3*x^4)*y^3 + 4*(4*x^11 - 8*x^7 - x^6 + x^3)*y^2 - 4*(2*x^9 - x^5)*y) + diff(z(x, y), y, y)"
      ]
     },
     "metadata": {},
     "output_type": "display_data"
    },
    {
     "name": "stdout",
     "output_type": "stream",
     "text": [
      "===================================================== 2\n"
     ]
    },
    {
     "ename": "RuntimeError",
     "evalue": "ECL says: Console interrupt.",
     "output_type": "error",
     "traceback": [
      "\u001b[0;31m---------------------------------------------------------------------------\u001b[0m",
      "\u001b[0;31mRuntimeError\u001b[0m                              Traceback (most recent call last)",
      "\u001b[0;32m<ipython-input-25-fe5b7f62fecc>\u001b[0m in \u001b[0;36m<module>\u001b[0;34m\u001b[0m\n\u001b[0;32m----> 1\u001b[0;31m \u001b[0mcheckS\u001b[0m\u001b[0;34m=\u001b[0m\u001b[0mJanetBasis\u001b[0m\u001b[0;34m(\u001b[0m\u001b[0;34m[\u001b[0m\u001b[0mf3\u001b[0m\u001b[0;34m,\u001b[0m\u001b[0mf1\u001b[0m\u001b[0;34m,\u001b[0m\u001b[0mf5\u001b[0m\u001b[0;34m,\u001b[0m \u001b[0mf2\u001b[0m\u001b[0;34m,\u001b[0m\u001b[0mf4\u001b[0m\u001b[0;34m]\u001b[0m\u001b[0;34m,\u001b[0m \u001b[0mctx\u001b[0m\u001b[0;34m)\u001b[0m\u001b[0;34m\u001b[0m\u001b[0;34m\u001b[0m\u001b[0m\n\u001b[0m",
      "\u001b[0;32m<ipython-input-24-89eb792f9dcf>\u001b[0m in \u001b[0;36mJanetBasis\u001b[0;34m(S, context)\u001b[0m\n\u001b[1;32m     12\u001b[0m         \u001b[0m_\u001b[0m\u001b[0;34m.\u001b[0m\u001b[0mshow\u001b[0m\u001b[0;34m(\u001b[0m\u001b[0;34m)\u001b[0m\u001b[0;34m\u001b[0m\u001b[0;34m\u001b[0m\u001b[0m\n\u001b[1;32m     13\u001b[0m     \u001b[0;32mwhile\u001b[0m \u001b[0mInteger\u001b[0m\u001b[0;34m(\u001b[0m\u001b[0;36m1\u001b[0m\u001b[0;34m)\u001b[0m\u001b[0;34m:\u001b[0m\u001b[0;34m\u001b[0m\u001b[0;34m\u001b[0m\u001b[0m\n\u001b[0;32m---> 14\u001b[0;31m         \u001b[0mS\u001b[0m \u001b[0;34m=\u001b[0m \u001b[0mAutoreduce\u001b[0m \u001b[0;34m(\u001b[0m\u001b[0mS\u001b[0m\u001b[0;34m,\u001b[0m \u001b[0mcontext\u001b[0m\u001b[0;34m)\u001b[0m\u001b[0;34m\u001b[0m\u001b[0;34m\u001b[0m\u001b[0m\n\u001b[0m\u001b[1;32m     15\u001b[0m         \u001b[0;31m#S = CompleteSystem (S, context)\u001b[0m\u001b[0;34m\u001b[0m\u001b[0;34m\u001b[0m\u001b[0;34m\u001b[0m\u001b[0m\n\u001b[1;32m     16\u001b[0m         \u001b[0;31m#f = FindIntegrableConditions(S, context)\u001b[0m\u001b[0;34m\u001b[0m\u001b[0;34m\u001b[0m\u001b[0;34m\u001b[0m\u001b[0m\n",
      "\u001b[0;32m<ipython-input-23-21324fc5e245>\u001b[0m in \u001b[0;36mAutoreduce\u001b[0;34m(S, context)\u001b[0m\n\u001b[1;32m     14\u001b[0m         \u001b[0;32mfor\u001b[0m \u001b[0m_r\u001b[0m \u001b[0;32min\u001b[0m \u001b[0mr\u001b[0m\u001b[0;34m:\u001b[0m\u001b[0;34m\u001b[0m\u001b[0;34m\u001b[0m\u001b[0m\n\u001b[1;32m     15\u001b[0m             \u001b[0;31m#print (\"Try to reduce {} with {}\".format(S[checkidx], S[i].Lder()))\u001b[0m\u001b[0;34m\u001b[0m\u001b[0;34m\u001b[0m\u001b[0;34m\u001b[0m\u001b[0m\n\u001b[0;32m---> 16\u001b[0;31m             \u001b[0mres\u001b[0m \u001b[0;34m=\u001b[0m \u001b[0mreduce\u001b[0m \u001b[0;34m(\u001b[0m\u001b[0m_r\u001b[0m\u001b[0;34m,\u001b[0m \u001b[0mp\u001b[0m\u001b[0;34m,\u001b[0m \u001b[0mcontext\u001b[0m\u001b[0;34m)\u001b[0m\u001b[0;34m\u001b[0m\u001b[0;34m\u001b[0m\u001b[0m\n\u001b[0m\u001b[1;32m     17\u001b[0m             \u001b[0;32mif\u001b[0m \u001b[0mres\u001b[0m \u001b[0;34m!=\u001b[0m \u001b[0m_r\u001b[0m\u001b[0;34m:\u001b[0m\u001b[0;34m\u001b[0m\u001b[0;34m\u001b[0m\u001b[0m\n\u001b[1;32m     18\u001b[0m                 \u001b[0mhave_reduced\u001b[0m \u001b[0;34m=\u001b[0m \u001b[0;32mTrue\u001b[0m\u001b[0;34m\u001b[0m\u001b[0;34m\u001b[0m\u001b[0m\n",
      "\u001b[0;32m<ipython-input-2-39e9afecd07d>\u001b[0m in \u001b[0;36mreduce\u001b[0;34m(e1, e2, context)\u001b[0m\n\u001b[1;32m     37\u001b[0m     \u001b[0m_e1\u001b[0m \u001b[0;34m=\u001b[0m \u001b[0;32mNone\u001b[0m\u001b[0;34m\u001b[0m\u001b[0;34m\u001b[0m\u001b[0m\n\u001b[1;32m     38\u001b[0m     \u001b[0;32mwhile\u001b[0m \u001b[0;32mTrue\u001b[0m\u001b[0;34m:\u001b[0m\u001b[0;34m\u001b[0m\u001b[0;34m\u001b[0m\u001b[0m\n\u001b[0;32m---> 39\u001b[0;31m         \u001b[0m_e1\u001b[0m \u001b[0;34m=\u001b[0m \u001b[0m_reduce\u001b[0m \u001b[0;34m(\u001b[0m\u001b[0me1\u001b[0m\u001b[0;34m,\u001b[0m \u001b[0me2\u001b[0m\u001b[0;34m.\u001b[0m\u001b[0mLder\u001b[0m\u001b[0;34m(\u001b[0m\u001b[0;34m)\u001b[0m\u001b[0;34m)\u001b[0m\u001b[0;34m\u001b[0m\u001b[0;34m\u001b[0m\u001b[0m\n\u001b[0m\u001b[1;32m     40\u001b[0m         \u001b[0;32mif\u001b[0m \u001b[0m_e1\u001b[0m \u001b[0;34m==\u001b[0m \u001b[0me1\u001b[0m\u001b[0;34m:\u001b[0m\u001b[0;34m\u001b[0m\u001b[0;34m\u001b[0m\u001b[0m\n\u001b[1;32m     41\u001b[0m             \u001b[0;32mreturn\u001b[0m \u001b[0me1\u001b[0m\u001b[0;34m\u001b[0m\u001b[0;34m\u001b[0m\u001b[0m\n",
      "\u001b[0;32m<ipython-input-2-39e9afecd07d>\u001b[0m in \u001b[0;36m_reduce\u001b[0;34m(e, ld)\u001b[0m\n\u001b[1;32m     23\u001b[0m             \u001b[0mdif\u001b[0m \u001b[0;34m=\u001b[0m \u001b[0;34m[\u001b[0m\u001b[0ma\u001b[0m\u001b[0;34m-\u001b[0m\u001b[0mb\u001b[0m \u001b[0;32mfor\u001b[0m \u001b[0ma\u001b[0m\u001b[0;34m,\u001b[0m \u001b[0mb\u001b[0m \u001b[0;32min\u001b[0m \u001b[0mzip\u001b[0m \u001b[0;34m(\u001b[0m\u001b[0me1_order\u001b[0m\u001b[0;34m,\u001b[0m \u001b[0me2_order\u001b[0m\u001b[0;34m)\u001b[0m\u001b[0;34m]\u001b[0m\u001b[0;34m\u001b[0m\u001b[0;34m\u001b[0m\u001b[0m\n\u001b[1;32m     24\u001b[0m             \u001b[0;32mif\u001b[0m \u001b[0mall\u001b[0m \u001b[0;34m(\u001b[0m\u001b[0mmap\u001b[0m \u001b[0;34m(\u001b[0m\u001b[0;32mlambda\u001b[0m \u001b[0mh\u001b[0m\u001b[0;34m:\u001b[0m \u001b[0mh\u001b[0m \u001b[0;34m==\u001b[0m \u001b[0mInteger\u001b[0m\u001b[0;34m(\u001b[0m\u001b[0;36m0\u001b[0m\u001b[0;34m)\u001b[0m\u001b[0;34m,\u001b[0m \u001b[0mdif\u001b[0m\u001b[0;34m)\u001b[0m\u001b[0;34m)\u001b[0m \u001b[0;34m:\u001b[0m\u001b[0;34m\u001b[0m\u001b[0;34m\u001b[0m\u001b[0m\n\u001b[0;32m---> 25\u001b[0;31m                 \u001b[0;32mreturn\u001b[0m \u001b[0mDifferential_Polynomial\u001b[0m \u001b[0;34m(\u001b[0m\u001b[0me1\u001b[0m\u001b[0;34m.\u001b[0m\u001b[0mexpression\u001b[0m\u001b[0;34m(\u001b[0m\u001b[0;34m)\u001b[0m \u001b[0;34m-\u001b[0m \u001b[0me2\u001b[0m\u001b[0;34m.\u001b[0m\u001b[0mexpression\u001b[0m\u001b[0;34m(\u001b[0m\u001b[0;34m)\u001b[0m \u001b[0;34m*\u001b[0m \u001b[0mc\u001b[0m\u001b[0;34m,\u001b[0m \u001b[0mcontext\u001b[0m\u001b[0;34m)\u001b[0m\u001b[0;34m\u001b[0m\u001b[0;34m\u001b[0m\u001b[0m\n\u001b[0m\u001b[1;32m     26\u001b[0m             \u001b[0;32melif\u001b[0m \u001b[0mall\u001b[0m \u001b[0;34m(\u001b[0m\u001b[0mmap\u001b[0m \u001b[0;34m(\u001b[0m\u001b[0;32mlambda\u001b[0m \u001b[0mh\u001b[0m\u001b[0;34m:\u001b[0m \u001b[0mh\u001b[0m \u001b[0;34m>=\u001b[0m \u001b[0mInteger\u001b[0m\u001b[0;34m(\u001b[0m\u001b[0;36m0\u001b[0m\u001b[0;34m)\u001b[0m\u001b[0;34m,\u001b[0m \u001b[0mdif\u001b[0m\u001b[0;34m)\u001b[0m\u001b[0;34m)\u001b[0m\u001b[0;34m:\u001b[0m\u001b[0;34m\u001b[0m\u001b[0;34m\u001b[0m\u001b[0m\n\u001b[1;32m     27\u001b[0m                 \u001b[0mvariables_to_diff\u001b[0m \u001b[0;34m=\u001b[0m \u001b[0;34m[\u001b[0m\u001b[0;34m]\u001b[0m\u001b[0;34m\u001b[0m\u001b[0;34m\u001b[0m\u001b[0m\n",
      "\u001b[0;32m~/Dokumente/pylie/pylie/JanetBasis.py\u001b[0m in \u001b[0;36m__init__\u001b[0;34m(self, e, context)\u001b[0m\n\u001b[1;32m     66\u001b[0m     \u001b[0;32mdef\u001b[0m \u001b[0m__init__\u001b[0m \u001b[0;34m(\u001b[0m\u001b[0mself\u001b[0m\u001b[0;34m,\u001b[0m \u001b[0me\u001b[0m\u001b[0;34m,\u001b[0m \u001b[0mcontext\u001b[0m\u001b[0;34m)\u001b[0m\u001b[0;34m:\u001b[0m\u001b[0;34m\u001b[0m\u001b[0;34m\u001b[0m\u001b[0m\n\u001b[1;32m     67\u001b[0m         \u001b[0mself\u001b[0m\u001b[0;34m.\u001b[0m\u001b[0m_context\u001b[0m \u001b[0;34m=\u001b[0m \u001b[0mcontext\u001b[0m\u001b[0;34m\u001b[0m\u001b[0;34m\u001b[0m\u001b[0m\n\u001b[0;32m---> 68\u001b[0;31m         \u001b[0mself\u001b[0m\u001b[0;34m.\u001b[0m\u001b[0m_init\u001b[0m\u001b[0;34m(\u001b[0m\u001b[0me\u001b[0m\u001b[0;34m.\u001b[0m\u001b[0mexpand\u001b[0m\u001b[0;34m(\u001b[0m\u001b[0;34m)\u001b[0m\u001b[0;34m)\u001b[0m\u001b[0;34m\u001b[0m\u001b[0;34m\u001b[0m\u001b[0m\n\u001b[0m\u001b[1;32m     69\u001b[0m \u001b[0;34m\u001b[0m\u001b[0m\n\u001b[1;32m     70\u001b[0m     \u001b[0;32mdef\u001b[0m \u001b[0m_init\u001b[0m\u001b[0;34m(\u001b[0m\u001b[0mself\u001b[0m\u001b[0;34m,\u001b[0m \u001b[0me\u001b[0m\u001b[0;34m)\u001b[0m\u001b[0;34m:\u001b[0m\u001b[0;34m\u001b[0m\u001b[0;34m\u001b[0m\u001b[0m\n",
      "\u001b[0;32m~/Dokumente/pylie/pylie/JanetBasis.py\u001b[0m in \u001b[0;36m_init\u001b[0;34m(self, e)\u001b[0m\n\u001b[1;32m     98\u001b[0m                         \u001b[0mself\u001b[0m\u001b[0;34m.\u001b[0m\u001b[0m_p\u001b[0m\u001b[0;34m.\u001b[0m\u001b[0mappend\u001b[0m \u001b[0;34m(\u001b[0m\u001b[0mDTerm\u001b[0m\u001b[0;34m(\u001b[0m\u001b[0mcoeff\u001b[0m \u001b[0;34m*\u001b[0m \u001b[0md\u001b[0m\u001b[0;34m[\u001b[0m\u001b[0;36m0\u001b[0m\u001b[0;34m]\u001b[0m\u001b[0;34m,\u001b[0m \u001b[0mself\u001b[0m\u001b[0;34m.\u001b[0m\u001b[0m_context\u001b[0m\u001b[0;34m)\u001b[0m\u001b[0;34m)\u001b[0m\u001b[0;34m\u001b[0m\u001b[0;34m\u001b[0m\u001b[0m\n\u001b[1;32m     99\u001b[0m                     \u001b[0;32melse\u001b[0m\u001b[0;34m:\u001b[0m\u001b[0;34m\u001b[0m\u001b[0;34m\u001b[0m\u001b[0m\n\u001b[0;32m--> 100\u001b[0;31m                         \u001b[0mself\u001b[0m\u001b[0;34m.\u001b[0m\u001b[0m_p\u001b[0m\u001b[0;34m.\u001b[0m\u001b[0mappend\u001b[0m \u001b[0;34m(\u001b[0m\u001b[0mDTerm\u001b[0m\u001b[0;34m(\u001b[0m\u001b[0mcoeff\u001b[0m\u001b[0;34m,\u001b[0m \u001b[0mself\u001b[0m\u001b[0;34m.\u001b[0m\u001b[0m_context\u001b[0m\u001b[0;34m)\u001b[0m\u001b[0;34m)\u001b[0m\u001b[0;34m\u001b[0m\u001b[0;34m\u001b[0m\u001b[0m\n\u001b[0m\u001b[1;32m    101\u001b[0m         \u001b[0mself\u001b[0m\u001b[0;34m.\u001b[0m\u001b[0m_p\u001b[0m \u001b[0;34m=\u001b[0m \u001b[0msorted\u001b[0m\u001b[0;34m(\u001b[0m\u001b[0mself\u001b[0m\u001b[0;34m.\u001b[0m\u001b[0m_p\u001b[0m\u001b[0;34m)\u001b[0m\u001b[0;34m\u001b[0m\u001b[0;34m\u001b[0m\u001b[0m\n\u001b[1;32m    102\u001b[0m         \u001b[0mself\u001b[0m\u001b[0;34m.\u001b[0m\u001b[0mnormalize\u001b[0m\u001b[0;34m(\u001b[0m\u001b[0;34m)\u001b[0m\u001b[0;34m\u001b[0m\u001b[0;34m\u001b[0m\u001b[0m\n",
      "\u001b[0;32m~/Dokumente/pylie/pylie/JanetBasis.py\u001b[0m in \u001b[0;36m__init__\u001b[0;34m(self, e, context)\u001b[0m\n\u001b[1;32m     28\u001b[0m                     \u001b[0;32melse\u001b[0m\u001b[0;34m:\u001b[0m\u001b[0;34m\u001b[0m\u001b[0;34m\u001b[0m\u001b[0m\n\u001b[1;32m     29\u001b[0m                         \u001b[0mr\u001b[0m\u001b[0;34m.\u001b[0m\u001b[0mappend\u001b[0m \u001b[0;34m(\u001b[0m\u001b[0mo\u001b[0m\u001b[0;34m)\u001b[0m\u001b[0;34m\u001b[0m\u001b[0;34m\u001b[0m\u001b[0m\n\u001b[0;32m---> 30\u001b[0;31m             \u001b[0mself\u001b[0m\u001b[0;34m.\u001b[0m\u001b[0m_coeff\u001b[0m \u001b[0;34m=\u001b[0m \u001b[0mfunctools\u001b[0m\u001b[0;34m.\u001b[0m\u001b[0mreduce\u001b[0m \u001b[0;34m(\u001b[0m\u001b[0mmul\u001b[0m\u001b[0;34m,\u001b[0m \u001b[0mr\u001b[0m\u001b[0;34m,\u001b[0m \u001b[0;36m1\u001b[0m\u001b[0;34m)\u001b[0m\u001b[0;34m.\u001b[0m\u001b[0msimplify_full\u001b[0m\u001b[0;34m(\u001b[0m\u001b[0;34m)\u001b[0m\u001b[0;34m\u001b[0m\u001b[0;34m\u001b[0m\u001b[0m\n\u001b[0m\u001b[1;32m     31\u001b[0m             \u001b[0;32mif\u001b[0m \u001b[0;32mnot\u001b[0m \u001b[0mr\u001b[0m\u001b[0;34m:\u001b[0m\u001b[0;34m\u001b[0m\u001b[0;34m\u001b[0m\u001b[0m\n\u001b[1;32m     32\u001b[0m                 \u001b[0;32mraise\u001b[0m \u001b[0mValueError\u001b[0m\u001b[0;34m(\u001b[0m\u001b[0;34m\"invalid expression '{}' for DTerm\"\u001b[0m\u001b[0;34m.\u001b[0m\u001b[0mformat\u001b[0m\u001b[0;34m(\u001b[0m\u001b[0me\u001b[0m\u001b[0;34m)\u001b[0m\u001b[0;34m)\u001b[0m\u001b[0;34m\u001b[0m\u001b[0;34m\u001b[0m\u001b[0m\n",
      "\u001b[0;32m~/anaconda3/envs/sage/lib/python3.9/site-packages/sage/symbolic/expression.pyx\u001b[0m in \u001b[0;36msage.symbolic.expression.Expression.simplify_full (build/cythonized/sage/symbolic/expression.cpp:53266)\u001b[0;34m()\u001b[0m\n\u001b[1;32m  10071\u001b[0m         \u001b[0mx\u001b[0m \u001b[0;34m=\u001b[0m \u001b[0mself\u001b[0m\u001b[0;34m\u001b[0m\u001b[0;34m\u001b[0m\u001b[0m\n\u001b[1;32m  10072\u001b[0m         \u001b[0mx\u001b[0m \u001b[0;34m=\u001b[0m \u001b[0mx\u001b[0m\u001b[0;34m.\u001b[0m\u001b[0msimplify_factorial\u001b[0m\u001b[0;34m(\u001b[0m\u001b[0;34m)\u001b[0m\u001b[0;34m\u001b[0m\u001b[0;34m\u001b[0m\u001b[0m\n\u001b[0;32m> 10073\u001b[0;31m         \u001b[0mx\u001b[0m \u001b[0;34m=\u001b[0m \u001b[0mx\u001b[0m\u001b[0;34m.\u001b[0m\u001b[0msimplify_rectform\u001b[0m\u001b[0;34m(\u001b[0m\u001b[0;34m)\u001b[0m\u001b[0;34m\u001b[0m\u001b[0;34m\u001b[0m\u001b[0m\n\u001b[0m\u001b[1;32m  10074\u001b[0m         \u001b[0mx\u001b[0m \u001b[0;34m=\u001b[0m \u001b[0mx\u001b[0m\u001b[0;34m.\u001b[0m\u001b[0msimplify_trig\u001b[0m\u001b[0;34m(\u001b[0m\u001b[0;34m)\u001b[0m\u001b[0;34m\u001b[0m\u001b[0;34m\u001b[0m\u001b[0m\n\u001b[1;32m  10075\u001b[0m         \u001b[0mx\u001b[0m \u001b[0;34m=\u001b[0m \u001b[0mx\u001b[0m\u001b[0;34m.\u001b[0m\u001b[0msimplify_rational\u001b[0m\u001b[0;34m(\u001b[0m\u001b[0;34m)\u001b[0m\u001b[0;34m\u001b[0m\u001b[0;34m\u001b[0m\u001b[0m\n",
      "\u001b[0;32m~/anaconda3/envs/sage/lib/python3.9/site-packages/sage/symbolic/expression.pyx\u001b[0m in \u001b[0;36msage.symbolic.expression.Expression.simplify_rectform (build/cythonized/sage/symbolic/expression.cpp:54732)\u001b[0;34m()\u001b[0m\n\u001b[1;32m  10222\u001b[0m \u001b[0;34m\u001b[0m\u001b[0m\n\u001b[1;32m  10223\u001b[0m         \"\"\"\n\u001b[0;32m> 10224\u001b[0;31m         \u001b[0msimplified_expr\u001b[0m \u001b[0;34m=\u001b[0m \u001b[0mself\u001b[0m\u001b[0;34m.\u001b[0m\u001b[0mrectform\u001b[0m\u001b[0;34m(\u001b[0m\u001b[0;34m)\u001b[0m\u001b[0;34m\u001b[0m\u001b[0;34m\u001b[0m\u001b[0m\n\u001b[0m\u001b[1;32m  10225\u001b[0m \u001b[0;34m\u001b[0m\u001b[0m\n\u001b[1;32m  10226\u001b[0m         \u001b[0;32mif\u001b[0m \u001b[0mcomplexity_measure\u001b[0m \u001b[0;32mis\u001b[0m \u001b[0;32mNone\u001b[0m\u001b[0;34m:\u001b[0m\u001b[0;34m\u001b[0m\u001b[0;34m\u001b[0m\u001b[0m\n",
      "\u001b[0;32m~/anaconda3/envs/sage/lib/python3.9/site-packages/sage/symbolic/expression.pyx\u001b[0m in \u001b[0;36msage.symbolic.expression.Expression.rectform (build/cythonized/sage/symbolic/expression.cpp:52778)\u001b[0;34m()\u001b[0m\n\u001b[1;32m   9903\u001b[0m \u001b[0;34m\u001b[0m\u001b[0m\n\u001b[1;32m   9904\u001b[0m         \"\"\"\n\u001b[0;32m-> 9905\u001b[0;31m         \u001b[0;32mreturn\u001b[0m \u001b[0mself\u001b[0m\u001b[0;34m.\u001b[0m\u001b[0mmaxima_methods\u001b[0m\u001b[0;34m(\u001b[0m\u001b[0;34m)\u001b[0m\u001b[0;34m.\u001b[0m\u001b[0mrectform\u001b[0m\u001b[0;34m(\u001b[0m\u001b[0;34m)\u001b[0m\u001b[0;34m\u001b[0m\u001b[0;34m\u001b[0m\u001b[0m\n\u001b[0m\u001b[1;32m   9906\u001b[0m \u001b[0;34m\u001b[0m\u001b[0m\n\u001b[1;32m   9907\u001b[0m     \u001b[0;32mdef\u001b[0m \u001b[0munhold\u001b[0m\u001b[0;34m(\u001b[0m\u001b[0mself\u001b[0m\u001b[0;34m,\u001b[0m \u001b[0mexclude\u001b[0m\u001b[0;34m=\u001b[0m\u001b[0;32mNone\u001b[0m\u001b[0;34m)\u001b[0m\u001b[0;34m:\u001b[0m\u001b[0;34m\u001b[0m\u001b[0;34m\u001b[0m\u001b[0m\n",
      "\u001b[0;32m~/anaconda3/envs/sage/lib/python3.9/site-packages/sage/symbolic/maxima_wrapper.py\u001b[0m in \u001b[0;36m__call__\u001b[0;34m(self, *args, **kwds)\u001b[0m\n\u001b[1;32m     29\u001b[0m             \u001b[0mSymbolic\u001b[0m \u001b[0mRing\u001b[0m\u001b[0;34m\u001b[0m\u001b[0;34m\u001b[0m\u001b[0m\n\u001b[1;32m     30\u001b[0m         \"\"\"\n\u001b[0;32m---> 31\u001b[0;31m         return super(MaximaFunctionElementWrapper, self).__call__(*args,\n\u001b[0m\u001b[1;32m     32\u001b[0m                 **kwds).sage()\n\u001b[1;32m     33\u001b[0m \u001b[0;34m\u001b[0m\u001b[0m\n",
      "\u001b[0;32m~/anaconda3/envs/sage/lib/python3.9/site-packages/sage/interfaces/interface.py\u001b[0m in \u001b[0;36msage\u001b[0;34m(self, *args, **kwds)\u001b[0m\n\u001b[1;32m   1090\u001b[0m             \u001b[0;34m[\u001b[0m\u001b[0;36m0\u001b[0m \u001b[0;36m0\u001b[0m\u001b[0;34m]\u001b[0m\u001b[0;34m\u001b[0m\u001b[0;34m\u001b[0m\u001b[0m\n\u001b[1;32m   1091\u001b[0m         \"\"\"\n\u001b[0;32m-> 1092\u001b[0;31m         \u001b[0;32mreturn\u001b[0m \u001b[0mself\u001b[0m\u001b[0;34m.\u001b[0m\u001b[0m_sage_\u001b[0m\u001b[0;34m(\u001b[0m\u001b[0;34m*\u001b[0m\u001b[0margs\u001b[0m\u001b[0;34m,\u001b[0m \u001b[0;34m**\u001b[0m\u001b[0mkwds\u001b[0m\u001b[0;34m)\u001b[0m\u001b[0;34m\u001b[0m\u001b[0;34m\u001b[0m\u001b[0m\n\u001b[0m\u001b[1;32m   1093\u001b[0m \u001b[0;34m\u001b[0m\u001b[0m\n\u001b[1;32m   1094\u001b[0m     \u001b[0;32mdef\u001b[0m \u001b[0m__repr__\u001b[0m\u001b[0;34m(\u001b[0m\u001b[0mself\u001b[0m\u001b[0;34m)\u001b[0m\u001b[0;34m:\u001b[0m\u001b[0;34m\u001b[0m\u001b[0;34m\u001b[0m\u001b[0m\n",
      "\u001b[0;32m~/anaconda3/envs/sage/lib/python3.9/site-packages/sage/interfaces/maxima_abstract.py\u001b[0m in \u001b[0;36m_sage_\u001b[0;34m(self)\u001b[0m\n\u001b[1;32m   1260\u001b[0m         \"\"\"\n\u001b[1;32m   1261\u001b[0m         \u001b[0;32mimport\u001b[0m \u001b[0msage\u001b[0m\u001b[0;34m.\u001b[0m\u001b[0mcalculus\u001b[0m\u001b[0;34m.\u001b[0m\u001b[0mcalculus\u001b[0m \u001b[0;32mas\u001b[0m \u001b[0mcalculus\u001b[0m\u001b[0;34m\u001b[0m\u001b[0;34m\u001b[0m\u001b[0m\n\u001b[0;32m-> 1262\u001b[0;31m         return calculus.symbolic_expression_from_maxima_string(self.name(),\n\u001b[0m\u001b[1;32m   1263\u001b[0m                 maxima=self.parent())\n\u001b[1;32m   1264\u001b[0m \u001b[0;34m\u001b[0m\u001b[0m\n",
      "\u001b[0;32m~/anaconda3/envs/sage/lib/python3.9/site-packages/sage/calculus/calculus.py\u001b[0m in \u001b[0;36msymbolic_expression_from_maxima_string\u001b[0;34m(x, equals_sub, maxima)\u001b[0m\n\u001b[1;32m   2118\u001b[0m     \u001b[0;31m#r = maxima._eval_line('listofvars(_tmp_);')[1:-1]\u001b[0m\u001b[0;34m\u001b[0m\u001b[0;34m\u001b[0m\u001b[0;34m\u001b[0m\u001b[0m\n\u001b[1;32m   2119\u001b[0m \u001b[0;34m\u001b[0m\u001b[0m\n\u001b[0;32m-> 2120\u001b[0;31m     \u001b[0ms\u001b[0m \u001b[0;34m=\u001b[0m \u001b[0mmaxima\u001b[0m\u001b[0;34m.\u001b[0m\u001b[0m_eval_line\u001b[0m\u001b[0;34m(\u001b[0m\u001b[0;34m'_tmp_;'\u001b[0m\u001b[0;34m)\u001b[0m\u001b[0;34m\u001b[0m\u001b[0;34m\u001b[0m\u001b[0m\n\u001b[0m\u001b[1;32m   2121\u001b[0m \u001b[0;34m\u001b[0m\u001b[0m\n\u001b[1;32m   2122\u001b[0m     \u001b[0mformal_functions\u001b[0m \u001b[0;34m=\u001b[0m \u001b[0mmaxima_tick\u001b[0m\u001b[0;34m.\u001b[0m\u001b[0mfindall\u001b[0m\u001b[0;34m(\u001b[0m\u001b[0ms\u001b[0m\u001b[0;34m)\u001b[0m\u001b[0;34m\u001b[0m\u001b[0;34m\u001b[0m\u001b[0m\n",
      "\u001b[0;32m~/anaconda3/envs/sage/lib/python3.9/site-packages/sage/interfaces/maxima_lib.py\u001b[0m in \u001b[0;36m_eval_line\u001b[0;34m(self, line, locals, reformat, **kwds)\u001b[0m\n\u001b[1;32m    453\u001b[0m                     \u001b[0mline\u001b[0m \u001b[0;34m=\u001b[0m \u001b[0mline\u001b[0m\u001b[0;34m[\u001b[0m\u001b[0mind_semi\u001b[0m\u001b[0;34m+\u001b[0m\u001b[0;36m1\u001b[0m\u001b[0;34m:\u001b[0m\u001b[0;34m]\u001b[0m\u001b[0;34m\u001b[0m\u001b[0;34m\u001b[0m\u001b[0m\n\u001b[1;32m    454\u001b[0m                 \u001b[0;32mif\u001b[0m \u001b[0mstatement\u001b[0m\u001b[0;34m:\u001b[0m\u001b[0;34m\u001b[0m\u001b[0;34m\u001b[0m\u001b[0m\n\u001b[0;32m--> 455\u001b[0;31m                     \u001b[0mresult\u001b[0m \u001b[0;34m=\u001b[0m \u001b[0;34m(\u001b[0m\u001b[0;34m(\u001b[0m\u001b[0mresult\u001b[0m \u001b[0;34m+\u001b[0m \u001b[0;34m'\\n'\u001b[0m\u001b[0;34m)\u001b[0m \u001b[0;32mif\u001b[0m \u001b[0mresult\u001b[0m \u001b[0;32melse\u001b[0m \u001b[0;34m''\u001b[0m\u001b[0;34m)\u001b[0m \u001b[0;34m+\u001b[0m \u001b[0mmax_to_string\u001b[0m\u001b[0;34m(\u001b[0m\u001b[0mmaxima_eval\u001b[0m\u001b[0;34m(\u001b[0m\u001b[0;34m\"#$%s$\"\u001b[0m\u001b[0;34m%\u001b[0m\u001b[0mstatement\u001b[0m\u001b[0;34m)\u001b[0m\u001b[0;34m)\u001b[0m\u001b[0;34m\u001b[0m\u001b[0;34m\u001b[0m\u001b[0m\n\u001b[0m\u001b[1;32m    456\u001b[0m             \u001b[0;32melse\u001b[0m\u001b[0;34m:\u001b[0m\u001b[0;34m\u001b[0m\u001b[0;34m\u001b[0m\u001b[0m\n\u001b[1;32m    457\u001b[0m                 \u001b[0mstatement\u001b[0m \u001b[0;34m=\u001b[0m \u001b[0mline\u001b[0m\u001b[0;34m[\u001b[0m\u001b[0;34m:\u001b[0m\u001b[0mind_dollar\u001b[0m\u001b[0;34m]\u001b[0m\u001b[0;34m\u001b[0m\u001b[0;34m\u001b[0m\u001b[0m\n",
      "\u001b[0;32m~/anaconda3/envs/sage/lib/python3.9/site-packages/sage/interfaces/maxima_lib.py\u001b[0m in \u001b[0;36mmax_to_string\u001b[0;34m(s)\u001b[0m\n\u001b[1;32m    289\u001b[0m         \u001b[0;34m'cos(_SAGE_VAR_x)'\u001b[0m\u001b[0;34m\u001b[0m\u001b[0;34m\u001b[0m\u001b[0m\n\u001b[1;32m    290\u001b[0m     \"\"\"\n\u001b[0;32m--> 291\u001b[0;31m     \u001b[0;32mreturn\u001b[0m \u001b[0mmaxprint\u001b[0m\u001b[0;34m(\u001b[0m\u001b[0ms\u001b[0m\u001b[0;34m)\u001b[0m\u001b[0;34m.\u001b[0m\u001b[0mpython\u001b[0m\u001b[0;34m(\u001b[0m\u001b[0;34m)\u001b[0m\u001b[0;34m[\u001b[0m\u001b[0;36m1\u001b[0m\u001b[0;34m:\u001b[0m\u001b[0;34m-\u001b[0m\u001b[0;36m1\u001b[0m\u001b[0;34m]\u001b[0m\u001b[0;34m\u001b[0m\u001b[0;34m\u001b[0m\u001b[0m\n\u001b[0m\u001b[1;32m    292\u001b[0m \u001b[0;34m\u001b[0m\u001b[0m\n\u001b[1;32m    293\u001b[0m my_mread=ecl_eval(\"\"\"\n",
      "\u001b[0;32m~/anaconda3/envs/sage/lib/python3.9/site-packages/sage/libs/ecl.pyx\u001b[0m in \u001b[0;36msage.libs.ecl.EclObject.__call__ (build/cythonized/sage/libs/ecl.c:8598)\u001b[0;34m()\u001b[0m\n\u001b[1;32m    850\u001b[0m         \"\"\"\n\u001b[1;32m    851\u001b[0m         \u001b[0mlispargs\u001b[0m \u001b[0;34m=\u001b[0m \u001b[0mEclObject\u001b[0m\u001b[0;34m(\u001b[0m\u001b[0mlist\u001b[0m\u001b[0;34m(\u001b[0m\u001b[0margs\u001b[0m\u001b[0;34m)\u001b[0m\u001b[0;34m)\u001b[0m\u001b[0;34m\u001b[0m\u001b[0;34m\u001b[0m\u001b[0m\n\u001b[0;32m--> 852\u001b[0;31m         \u001b[0;32mreturn\u001b[0m \u001b[0mecl_wrap\u001b[0m\u001b[0;34m(\u001b[0m\u001b[0mecl_safe_apply\u001b[0m\u001b[0;34m(\u001b[0m\u001b[0mself\u001b[0m\u001b[0;34m.\u001b[0m\u001b[0mobj\u001b[0m\u001b[0;34m,\u001b[0m\u001b[0;34m(\u001b[0m\u001b[0;34m<\u001b[0m\u001b[0mEclObject\u001b[0m\u001b[0;34m>\u001b[0m\u001b[0mlispargs\u001b[0m\u001b[0;34m)\u001b[0m\u001b[0;34m.\u001b[0m\u001b[0mobj\u001b[0m\u001b[0;34m)\u001b[0m\u001b[0;34m)\u001b[0m\u001b[0;34m\u001b[0m\u001b[0;34m\u001b[0m\u001b[0m\n\u001b[0m\u001b[1;32m    853\u001b[0m \u001b[0;34m\u001b[0m\u001b[0m\n\u001b[1;32m    854\u001b[0m     \u001b[0;32mdef\u001b[0m \u001b[0m__richcmp__\u001b[0m\u001b[0;34m(\u001b[0m\u001b[0mleft\u001b[0m\u001b[0;34m,\u001b[0m \u001b[0mright\u001b[0m\u001b[0;34m,\u001b[0m \u001b[0mint\u001b[0m \u001b[0mop\u001b[0m\u001b[0;34m)\u001b[0m\u001b[0;34m:\u001b[0m\u001b[0;34m\u001b[0m\u001b[0;34m\u001b[0m\u001b[0m\n",
      "\u001b[0;32m~/anaconda3/envs/sage/lib/python3.9/site-packages/sage/libs/ecl.pyx\u001b[0m in \u001b[0;36msage.libs.ecl.ecl_safe_apply (build/cythonized/sage/libs/ecl.c:5896)\u001b[0;34m()\u001b[0m\n\u001b[1;32m    363\u001b[0m \u001b[0;34m\u001b[0m\u001b[0m\n\u001b[1;32m    364\u001b[0m     \u001b[0;32mif\u001b[0m \u001b[0merror\u001b[0m \u001b[0;34m!=\u001b[0m \u001b[0mNULL\u001b[0m\u001b[0;34m:\u001b[0m\u001b[0;34m\u001b[0m\u001b[0;34m\u001b[0m\u001b[0m\n\u001b[0;32m--> 365\u001b[0;31m         raise RuntimeError(\"ECL says: {}\".format(\n\u001b[0m\u001b[1;32m    366\u001b[0m             ecl_string_to_python(error)))\n\u001b[1;32m    367\u001b[0m     \u001b[0;32melse\u001b[0m\u001b[0;34m:\u001b[0m\u001b[0;34m\u001b[0m\u001b[0;34m\u001b[0m\u001b[0m\n",
      "\u001b[0;31mRuntimeError\u001b[0m: ECL says: Console interrupt."
     ]
    }
   ],
   "source": [
    "checkS=JanetBasis([f3,f1,f5, f2,f4], ctx)"
   ]
  },
  {
   "cell_type": "code",
   "execution_count": null,
   "id": "8210bd83",
   "metadata": {},
   "outputs": [],
   "source": []
  },
  {
   "cell_type": "code",
   "execution_count": null,
   "id": "a9743bfa",
   "metadata": {},
   "outputs": [],
   "source": []
  },
  {
   "cell_type": "code",
   "execution_count": null,
   "id": "72fb0e8c",
   "metadata": {},
   "outputs": [],
   "source": [
    "for _ in checkS:\n",
    "    _.show()"
   ]
  },
  {
   "cell_type": "code",
   "execution_count": null,
   "id": "04bca33f",
   "metadata": {},
   "outputs": [],
   "source": [
    "g1 = Differential_Polynomial (diff(z,y,y) + diff(z,y)/(2*y), ctx)"
   ]
  },
  {
   "cell_type": "code",
   "execution_count": null,
   "id": "f66bb6c4",
   "metadata": {},
   "outputs": [],
   "source": [
    "g2 = Differential_Polynomial(diff(w,x,x) + 4*y*y*diff(w,y) - 8*y*y*diff(z, x) - 8*y*w(x,y), ctx)"
   ]
  },
  {
   "cell_type": "code",
   "execution_count": null,
   "id": "7d999bb2",
   "metadata": {},
   "outputs": [],
   "source": [
    "g3 = Differential_Polynomial(diff(w,x,y) - diff(z,x,x)/2 - diff(w,x)/(2*y) - 6*y**2*diff(z,y), ctx)"
   ]
  },
  {
   "cell_type": "code",
   "execution_count": null,
   "id": "d7c56f83",
   "metadata": {},
   "outputs": [],
   "source": [
    "g4 = Differential_Polynomial(diff(w,y,y) - 2*diff(z,x,y)- diff(w,y)/(2*y) + w(x,y)/(2*y**2), ctx)"
   ]
  }
 ],
 "metadata": {
  "kernelspec": {
   "display_name": "SageMath 9.2",
   "language": "sage",
   "name": "sagemath"
  },
  "language_info": {
   "codemirror_mode": {
    "name": "ipython",
    "version": 3
   },
   "file_extension": ".py",
   "mimetype": "text/x-python",
   "name": "python",
   "nbconvert_exporter": "python",
   "pygments_lexer": "ipython3",
   "version": "3.9.2"
  },
  "toc-autonumbering": true,
  "toc-showcode": true,
  "toc-showmarkdowntxt": true,
  "toc-showtags": false
 },
 "nbformat": 4,
 "nbformat_minor": 5
}
