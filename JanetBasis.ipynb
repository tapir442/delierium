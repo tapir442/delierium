{
 "cells": [
  {
   "cell_type": "code",
   "execution_count": 2,
   "id": "ab2e1bc7",
   "metadata": {},
   "outputs": [],
   "source": [
    "%display latex\n",
    "from pylie import *\n",
    "from collections.abc import Iterable\n",
    "import functools\n",
    "from operator import mul, sub\n",
    "from pprint import pprint"
   ]
  },
  {
   "cell_type": "code",
   "execution_count": 3,
   "id": "466431ec",
   "metadata": {},
   "outputs": [],
   "source": [
    "def reduce(e1: Differential_Polynomial,e2: Differential_Polynomial, context:Context)->Differential_Polynomial:\n",
    "    # XXX except only function names in context list\n",
    "    assert e2.is_monic()\n",
    "    for t, d, c, in zip (e1.terms(), e1.derivatives(), e1.coefficients()):\n",
    "        ld = e2.Lder()\n",
    "        def _order (der):\n",
    "            if der != 1:\n",
    "                return pylie.order_of_derivative(der)\n",
    "            else :\n",
    "                return [0]*len(context._independent)\n",
    "        e2_order = _order (ld)\n",
    "        e1_order = _order (d)\n",
    "        dif = []\n",
    "        for a, b in zip (e1_order, e2_order):\n",
    "            dif += [a - b]\n",
    "        try:\n",
    "            if ld.operator().function() != d.operator().function():\n",
    "                continue\n",
    "        except AttributeError:\n",
    "            continue            \n",
    "        if all (map (lambda h: h == 0, dif)) :\n",
    "            # XXX: do we need that in homogenous environmeent?\n",
    "            inter = sum(_ for _ in e1.terms()) - c * sum (_ for _ in e2.terms())\n",
    "            dp = Differential_Polynomial(inter.simplify_full().expand(), context)\n",
    "            assert dp.is_monic()\n",
    "            return dp\n",
    "        elif  all (map (lambda h: h >= 0, dif)):\n",
    "            print (\"PPPPPPPPPPPPPPPPPPPPPPPPPPPPPPPPPPPPPPPPPPP\")\n",
    "            # get variables which shuld be differentiate\n",
    "            variables_to_diff = []\n",
    "            for i in range (len(context._independent)):\n",
    "                if dif [i] != 0:\n",
    "                    variables_to_diff.extend ([context._independent[i]]*abs(dif[i]))\n",
    "            print (\"Vorher\", variables_to_diff)\n",
    "            print (\"reduce {} with {}\".format(e1.Lder(), e2.Lder()))\n",
    "            print (\"e1:\", e1.Lterm())\n",
    "            print (\"e2:\", e2.Lterm())\n",
    "            e1._orig.show()\n",
    "            e2._orig.show()\n",
    "            print (\"after derivation................\")\n",
    "            diff(e2._orig, *variables_to_diff).show()\n",
    "            e3 = e1._orig - c * diff(e2._orig, *variables_to_diff)\n",
    "            e3.show()\n",
    "            dp =  Differential_Polynomial (e3, context)\n",
    "            print (\"e3:\", dp.Lterm())            \n",
    "            #for _ in dp._p:\n",
    "            #    print (\":3\", _._d, _._coeff)            \n",
    "            return dp\n",
    "        else:\n",
    "            print (\"no reduction?\")\n",
    "            pass\n",
    "    return e1"
   ]
  },
  {
   "cell_type": "code",
   "execution_count": 4,
   "id": "8840c8ad",
   "metadata": {},
   "outputs": [
    {
     "name": "stdout",
     "output_type": "stream",
     "text": [
      "**********************************************************************\n",
      "-x^2*diff(z(x, y), x)/y^2 - (x - y)*z(x, y)/y^2 + diff(z(x, y), y)\n",
      "**********************************************************************\n",
      "z(x, y)/x + diff(z(x, y), x)\n",
      "**********************************************************************\n",
      "z(x, y)/y + diff(z(x, y), y)\n"
     ]
    }
   ],
   "source": [
    "var(\"x y\")\n",
    "z  = function (\"z\")(x,y)\n",
    "ctx = Context((z,), (x,y))\n",
    "print(\"*\"*70)\n",
    "e1 = diff(z,y)-x^2/y^2*diff(z,x)-(x-y)*z(x,y)/y^2\n",
    "e1_dp = Differential_Polynomial (e1, ctx)\n",
    "print (e1_dp)\n",
    "print(\"*\"*70)\n",
    "f1 = diff(z, x) + z(x,y)/x\n",
    "f1_dp = Differential_Polynomial (f1, ctx)\n",
    "f1_dp.is_monic()\n",
    "print (f1_dp)\n",
    "print(\"*\"*70)\n",
    "f2 = diff(z, y) + z(x,y)/y\n",
    "f2_dp = Differential_Polynomial (f2, ctx)\n",
    "print (f2_dp)"
   ]
  },
  {
   "cell_type": "code",
   "execution_count": 5,
   "id": "273b77ae",
   "metadata": {},
   "outputs": [],
   "source": [
    "r1 = reduce (e1_dp, f1_dp, ctx)"
   ]
  },
  {
   "cell_type": "code",
   "execution_count": 6,
   "id": "e2fa1cc7",
   "metadata": {},
   "outputs": [
    {
     "data": {
      "text/html": [
       "<html><script type=\"math/tex; mode=display\">\\newcommand{\\Bold}[1]{\\mathbf{#1}}\\verb|-y^2*diff(z(x,|\\phantom{\\verb!x!}\\verb|y),|\\phantom{\\verb!x!}\\verb|y)/x^2|\\phantom{\\verb!x!}\\verb|-|\\phantom{\\verb!x!}\\verb|y*z(x,|\\phantom{\\verb!x!}\\verb|y)/x^2|</script></html>"
      ],
      "text/latex": [
       "\\begin{math}\n",
       "\\newcommand{\\Bold}[1]{\\mathbf{#1}}\\verb|-y^2*diff(z(x,|\\phantom{\\verb!x!}\\verb|y),|\\phantom{\\verb!x!}\\verb|y)/x^2|\\phantom{\\verb!x!}\\verb|-|\\phantom{\\verb!x!}\\verb|y*z(x,|\\phantom{\\verb!x!}\\verb|y)/x^2|\n",
       "\\end{math}"
      ],
      "text/plain": [
       "<pylie.JanetBasis.Differential_Polynomial object at 0x7fb8c493e6d0>"
      ]
     },
     "execution_count": 6,
     "metadata": {},
     "output_type": "execute_result"
    }
   ],
   "source": [
    "r1"
   ]
  },
  {
   "cell_type": "code",
   "execution_count": 7,
   "id": "f10822c3",
   "metadata": {},
   "outputs": [
    {
     "data": {
      "text/html": [
       "<html><script type=\"math/tex; mode=display\">\\newcommand{\\Bold}[1]{\\mathbf{#1}}-\\frac{y^{2} \\frac{\\partial}{\\partial y}z\\left(x, y\\right)}{x^{2}} - \\frac{y z\\left(x, y\\right)}{x^{2}}</script></html>"
      ],
      "text/latex": [
       "\\begin{math}\n",
       "\\newcommand{\\Bold}[1]{\\mathbf{#1}}-\\frac{y^{2} \\frac{\\partial}{\\partial y}z\\left(x, y\\right)}{x^{2}} - \\frac{y z\\left(x, y\\right)}{x^{2}}\n",
       "\\end{math}"
      ],
      "text/plain": [
       "-y^2*diff(z(x, y), y)/x^2 - y*z(x, y)/x^2"
      ]
     },
     "execution_count": 7,
     "metadata": {},
     "output_type": "execute_result"
    }
   ],
   "source": [
    "r1._orig"
   ]
  },
  {
   "cell_type": "code",
   "execution_count": 8,
   "id": "5a13377b",
   "metadata": {},
   "outputs": [
    {
     "data": {
      "text/html": [
       "<html><script type=\"math/tex; mode=display\">\\newcommand{\\Bold}[1]{\\mathbf{#1}}\\left[\\verb|1|\\phantom{\\verb!x!}\\verb|*|\\phantom{\\verb!x!}\\verb|diff(z(x,|\\phantom{\\verb!x!}\\verb|y),|\\phantom{\\verb!x!}\\verb|y)|, \\verb|z(x,|\\phantom{\\verb!x!}\\verb|y)/y|\\phantom{\\verb!x!}\\verb|*|\\phantom{\\verb!x!}\\verb|1|\\right]</script></html>"
      ],
      "text/latex": [
       "\\begin{math}\n",
       "\\newcommand{\\Bold}[1]{\\mathbf{#1}}\\left[\\verb|1|\\phantom{\\verb!x!}\\verb|*|\\phantom{\\verb!x!}\\verb|diff(z(x,|\\phantom{\\verb!x!}\\verb|y),|\\phantom{\\verb!x!}\\verb|y)|, \\verb|z(x,|\\phantom{\\verb!x!}\\verb|y)/y|\\phantom{\\verb!x!}\\verb|*|\\phantom{\\verb!x!}\\verb|1|\\right]\n",
       "\\end{math}"
      ],
      "text/plain": [
       "[<pylie.JanetBasis.DTerm object at 0x7fb8cd036d30>,\n",
       " <pylie.JanetBasis.DTerm object at 0x7fb8cd036cd0>]"
      ]
     },
     "execution_count": 8,
     "metadata": {},
     "output_type": "execute_result"
    }
   ],
   "source": [
    "r1._p"
   ]
  },
  {
   "cell_type": "code",
   "execution_count": 9,
   "id": "d04a7530",
   "metadata": {},
   "outputs": [
    {
     "data": {
      "text/html": [
       "<html><script type=\"math/tex; mode=display\">\\newcommand{\\Bold}[1]{\\mathbf{#1}}\\left[\\verb|1.0|\\phantom{\\verb!x!}\\verb|*|\\phantom{\\verb!x!}\\verb|diff(z(x,|\\phantom{\\verb!x!}\\verb|y),|\\phantom{\\verb!x!}\\verb|y)|, \\verb|z(x,|\\phantom{\\verb!x!}\\verb|y)/y|\\phantom{\\verb!x!}\\verb|*|\\phantom{\\verb!x!}\\verb|1|\\right]</script></html>"
      ],
      "text/latex": [
       "\\begin{math}\n",
       "\\newcommand{\\Bold}[1]{\\mathbf{#1}}\\left[\\verb|1.0|\\phantom{\\verb!x!}\\verb|*|\\phantom{\\verb!x!}\\verb|diff(z(x,|\\phantom{\\verb!x!}\\verb|y),|\\phantom{\\verb!x!}\\verb|y)|, \\verb|z(x,|\\phantom{\\verb!x!}\\verb|y)/y|\\phantom{\\verb!x!}\\verb|*|\\phantom{\\verb!x!}\\verb|1|\\right]\n",
       "\\end{math}"
      ],
      "text/plain": [
       "[<pylie.JanetBasis.DTerm object at 0x7fb8cb5c5b80>,\n",
       " <pylie.JanetBasis.DTerm object at 0x7fb8cb5d41f0>]"
      ]
     },
     "execution_count": 9,
     "metadata": {},
     "output_type": "execute_result"
    }
   ],
   "source": [
    "f2_dp._p"
   ]
  },
  {
   "cell_type": "code",
   "execution_count": 10,
   "id": "afd7f65f",
   "metadata": {},
   "outputs": [],
   "source": [
    "r2 = reduce (r1, f2_dp, ctx)"
   ]
  },
  {
   "cell_type": "code",
   "execution_count": 11,
   "id": "a3ed77b7",
   "metadata": {},
   "outputs": [
    {
     "data": {
      "text/html": [
       "<html><script type=\"math/tex; mode=display\">\\newcommand{\\Bold}[1]{\\mathbf{#1}}0</script></html>"
      ],
      "text/latex": [
       "\\begin{math}\n",
       "\\newcommand{\\Bold}[1]{\\mathbf{#1}}0\n",
       "\\end{math}"
      ],
      "text/plain": [
       "<pylie.JanetBasis.Differential_Polynomial object at 0x7fb8c493ea90>"
      ]
     },
     "execution_count": 11,
     "metadata": {},
     "output_type": "execute_result"
    }
   ],
   "source": [
    "r2"
   ]
  },
  {
   "cell_type": "code",
   "execution_count": 12,
   "id": "1eaadf70",
   "metadata": {},
   "outputs": [],
   "source": [
    "def Lfunc(e):\n",
    "    return e"
   ]
  },
  {
   "cell_type": "code",
   "execution_count": 13,
   "id": "78ff9d61",
   "metadata": {},
   "outputs": [],
   "source": [
    "def Lcml(e):\n",
    "    '''Least common left multiply, p.23'''\n",
    "    return 0"
   ]
  },
  {
   "cell_type": "code",
   "execution_count": 14,
   "id": "c8908725",
   "metadata": {},
   "outputs": [],
   "source": [
    "def Lcm(e):\n",
    "    return 0"
   ]
  },
  {
   "cell_type": "code",
   "execution_count": 15,
   "id": "600cef7d",
   "metadata": {},
   "outputs": [],
   "source": [
    "def CompleteSystem(S, context):\n",
    "    return S"
   ]
  },
  {
   "cell_type": "code",
   "execution_count": 16,
   "id": "0297470c",
   "metadata": {},
   "outputs": [],
   "source": [
    "def FindIntegrableConditions(S, context):\n",
    "    return S"
   ]
  },
  {
   "cell_type": "code",
   "execution_count": 17,
   "id": "97937464",
   "metadata": {},
   "outputs": [],
   "source": [
    "def ReduceIntegrabilityConditions(S, context):\n",
    "    return S"
   ]
  },
  {
   "cell_type": "code",
   "execution_count": 31,
   "id": "a5256c6e",
   "metadata": {},
   "outputs": [],
   "source": [
    "def Reorder (S, context):\n",
    "    res=sorted(S)\n",
    "    res.reverse()\n",
    "    return res"
   ]
  },
  {
   "cell_type": "code",
   "execution_count": 19,
   "id": "be9f341b",
   "metadata": {},
   "outputs": [
    {
     "data": {
      "text/html": [
       "<html><script type=\"math/tex; mode=display\">\\newcommand{\\Bold}[1]{\\mathbf{#1}}-\\frac{w\\left(x, y\\right)}{y} + \\frac{x \\frac{\\partial}{\\partial y}z\\left(x, y\\right)}{2 \\, {\\left(x^{2} + y\\right)} y} + \\frac{\\partial}{\\partial y}w\\left(x, y\\right)</script></html>"
      ],
      "text/latex": [
       "\\begin{math}\n",
       "\\newcommand{\\Bold}[1]{\\mathbf{#1}}-\\frac{w\\left(x, y\\right)}{y} + \\frac{x \\frac{\\partial}{\\partial y}z\\left(x, y\\right)}{2 \\, {\\left(x^{2} + y\\right)} y} + \\frac{\\partial}{\\partial y}w\\left(x, y\\right)\n",
       "\\end{math}"
      ],
      "text/plain": [
       "-w(x, y)/y + 1/2*x*diff(z(x, y), y)/((x^2 + y)*y) + diff(w(x, y), y)"
      ]
     },
     "execution_count": 19,
     "metadata": {},
     "output_type": "execute_result"
    }
   ],
   "source": [
    "var (\"x y\")\n",
    "z = function(\"z\")(x,y)\n",
    "w = function(\"w\")(x,y)\n",
    "ctx = Context((w,z), (x,y), MatrixOrder.Mgrlex)\n",
    "f1 = Differential_Polynomial(diff(w, y) + x*diff(z,y)/(2*y*(x**2+y)) - w(x,y)/y, ctx)\n",
    "f1._orig"
   ]
  },
  {
   "cell_type": "code",
   "execution_count": 20,
   "id": "4418b7e6",
   "metadata": {},
   "outputs": [
    {
     "data": {
      "text/html": [
       "<html><script type=\"math/tex; mode=display\">\\newcommand{\\Bold}[1]{\\mathbf{#1}}\\frac{y \\frac{\\partial}{\\partial y}w\\left(x, y\\right)}{x} + \\frac{2 \\, y \\frac{\\partial}{\\partial x}z\\left(x, y\\right)}{x} + \\frac{\\partial^{2}}{\\partial x\\partial y}z\\left(x, y\\right)</script></html>"
      ],
      "text/latex": [
       "\\begin{math}\n",
       "\\newcommand{\\Bold}[1]{\\mathbf{#1}}\\frac{y \\frac{\\partial}{\\partial y}w\\left(x, y\\right)}{x} + \\frac{2 \\, y \\frac{\\partial}{\\partial x}z\\left(x, y\\right)}{x} + \\frac{\\partial^{2}}{\\partial x\\partial y}z\\left(x, y\\right)\n",
       "\\end{math}"
      ],
      "text/plain": [
       "y*diff(w(x, y), y)/x + 2*y*diff(z(x, y), x)/x + diff(z(x, y), x, y)"
      ]
     },
     "execution_count": 20,
     "metadata": {},
     "output_type": "execute_result"
    }
   ],
   "source": [
    "f2=Differential_Polynomial(diff(z,x,y) + y*diff(w,y)/x + 2*y*diff(z, x)/x,ctx)\n",
    "f2._orig"
   ]
  },
  {
   "cell_type": "code",
   "execution_count": 21,
   "id": "d6c34dc0",
   "metadata": {},
   "outputs": [
    {
     "data": {
      "text/html": [
       "<html><script type=\"math/tex; mode=display\">\\newcommand{\\Bold}[1]{\\mathbf{#1}}-\\frac{2 \\, x \\frac{\\partial^{2}}{(\\partial x)^{2}}z\\left(x, y\\right)}{y} - \\frac{x \\frac{\\partial}{\\partial x}w\\left(x, y\\right)}{y^{2}} + \\frac{\\partial^{2}}{\\partial x\\partial y}w\\left(x, y\\right)</script></html>"
      ],
      "text/latex": [
       "\\begin{math}\n",
       "\\newcommand{\\Bold}[1]{\\mathbf{#1}}-\\frac{2 \\, x \\frac{\\partial^{2}}{(\\partial x)^{2}}z\\left(x, y\\right)}{y} - \\frac{x \\frac{\\partial}{\\partial x}w\\left(x, y\\right)}{y^{2}} + \\frac{\\partial^{2}}{\\partial x\\partial y}w\\left(x, y\\right)\n",
       "\\end{math}"
      ],
      "text/plain": [
       "-2*x*diff(z(x, y), x, x)/y - x*diff(w(x, y), x)/y^2 + diff(w(x, y), x, y)"
      ]
     },
     "execution_count": 21,
     "metadata": {},
     "output_type": "execute_result"
    }
   ],
   "source": [
    "f3 = Differential_Polynomial(diff(w, x,y) - 2*x*diff(z, x,2)/y - x*diff(w,x)/y**2 ,ctx)\n",
    "f3._orig"
   ]
  },
  {
   "cell_type": "code",
   "execution_count": 22,
   "id": "678305e9",
   "metadata": {},
   "outputs": [
    {
     "data": {
      "text/html": [
       "<html><script type=\"math/tex; mode=display\">\\newcommand{\\Bold}[1]{\\mathbf{#1}}\\left[\\verb|1.0|\\phantom{\\verb!x!}\\verb|*|\\phantom{\\verb!x!}\\verb|diff(w(x,|\\phantom{\\verb!x!}\\verb|y),|\\phantom{\\verb!x!}\\verb|x,|\\phantom{\\verb!x!}\\verb|y)|, \\verb|1.0|\\phantom{\\verb!x!}\\verb|*|\\phantom{\\verb!x!}\\verb|diff(z(x,|\\phantom{\\verb!x!}\\verb|y),|\\phantom{\\verb!x!}\\verb|x,|\\phantom{\\verb!x!}\\verb|y)|, \\verb|-1/y|\\phantom{\\verb!x!}\\verb|*|\\phantom{\\verb!x!}\\verb|diff(w(x,|\\phantom{\\verb!x!}\\verb|y),|\\phantom{\\verb!x!}\\verb|x)|, \\verb|1/2/y|\\phantom{\\verb!x!}\\verb|*|\\phantom{\\verb!x!}\\verb|diff(w(x,|\\phantom{\\verb!x!}\\verb|y),|\\phantom{\\verb!x!}\\verb|y)|, \\verb|x/y|\\phantom{\\verb!x!}\\verb|*|\\phantom{\\verb!x!}\\verb|diff(z(x,|\\phantom{\\verb!x!}\\verb|y),|\\phantom{\\verb!x!}\\verb|y)|, \\verb|-1/2*w(x,|\\phantom{\\verb!x!}\\verb|y)/y^2|\\phantom{\\verb!x!}\\verb|*|\\phantom{\\verb!x!}\\verb|1|\\right]</script></html>"
      ],
      "text/latex": [
       "\\begin{math}\n",
       "\\newcommand{\\Bold}[1]{\\mathbf{#1}}\\left[\\verb|1.0|\\phantom{\\verb!x!}\\verb|*|\\phantom{\\verb!x!}\\verb|diff(w(x,|\\phantom{\\verb!x!}\\verb|y),|\\phantom{\\verb!x!}\\verb|x,|\\phantom{\\verb!x!}\\verb|y)|, \\verb|1.0|\\phantom{\\verb!x!}\\verb|*|\\phantom{\\verb!x!}\\verb|diff(z(x,|\\phantom{\\verb!x!}\\verb|y),|\\phantom{\\verb!x!}\\verb|x,|\\phantom{\\verb!x!}\\verb|y)|, \\verb|-1/y|\\phantom{\\verb!x!}\\verb|*|\\phantom{\\verb!x!}\\verb|diff(w(x,|\\phantom{\\verb!x!}\\verb|y),|\\phantom{\\verb!x!}\\verb|x)|, \\verb|1/2/y|\\phantom{\\verb!x!}\\verb|*|\\phantom{\\verb!x!}\\verb|diff(w(x,|\\phantom{\\verb!x!}\\verb|y),|\\phantom{\\verb!x!}\\verb|y)|, \\verb|x/y|\\phantom{\\verb!x!}\\verb|*|\\phantom{\\verb!x!}\\verb|diff(z(x,|\\phantom{\\verb!x!}\\verb|y),|\\phantom{\\verb!x!}\\verb|y)|, \\verb|-1/2*w(x,|\\phantom{\\verb!x!}\\verb|y)/y^2|\\phantom{\\verb!x!}\\verb|*|\\phantom{\\verb!x!}\\verb|1|\\right]\n",
       "\\end{math}"
      ],
      "text/plain": [
       "[<pylie.JanetBasis.DTerm object at 0x7fb8cb5c3280>,\n",
       " <pylie.JanetBasis.DTerm object at 0x7fb8cb5c3f40>,\n",
       " <pylie.JanetBasis.DTerm object at 0x7fb8c493ed00>,\n",
       " <pylie.JanetBasis.DTerm object at 0x7fb8c493ee50>,\n",
       " <pylie.JanetBasis.DTerm object at 0x7fb8c493ebb0>,\n",
       " <pylie.JanetBasis.DTerm object at 0x7fb8c493e040>]"
      ]
     },
     "execution_count": 22,
     "metadata": {},
     "output_type": "execute_result"
    }
   ],
   "source": [
    "f4 = Differential_Polynomial(diff(w, x,y) + diff(z, x,y) + diff(w, y)/(2*y) - diff(w,x)/y + x* diff(z, y)/y - w(x,y)/(2*y**2), ctx)\n",
    "f4._orig\n",
    "f4._p"
   ]
  },
  {
   "cell_type": "code",
   "execution_count": 23,
   "id": "aa5892fc",
   "metadata": {},
   "outputs": [
    {
     "data": {
      "text/html": [
       "<html><script type=\"math/tex; mode=display\">\\newcommand{\\Bold}[1]{\\mathbf{#1}}-\\frac{\\frac{\\partial}{\\partial y}w\\left(x, y\\right)}{y} + \\frac{w\\left(x, y\\right)}{y^{2}} + \\frac{\\partial^{2}}{(\\partial y)^{2}}w\\left(x, y\\right) + \\frac{\\partial^{2}}{\\partial x\\partial y}z\\left(x, y\\right)</script></html>"
      ],
      "text/latex": [
       "\\begin{math}\n",
       "\\newcommand{\\Bold}[1]{\\mathbf{#1}}-\\frac{\\frac{\\partial}{\\partial y}w\\left(x, y\\right)}{y} + \\frac{w\\left(x, y\\right)}{y^{2}} + \\frac{\\partial^{2}}{(\\partial y)^{2}}w\\left(x, y\\right) + \\frac{\\partial^{2}}{\\partial x\\partial y}z\\left(x, y\\right)\n",
       "\\end{math}"
      ],
      "text/plain": [
       "-diff(w(x, y), y)/y + w(x, y)/y^2 + diff(w(x, y), y, y) + diff(z(x, y), x, y)"
      ]
     },
     "execution_count": 23,
     "metadata": {},
     "output_type": "execute_result"
    }
   ],
   "source": [
    "f5 = Differential_Polynomial(diff(w,y,y) + diff(z,x,y) - diff(w, y)/y + w(x,y)/y**2, ctx)\n",
    "f5._orig"
   ]
  },
  {
   "cell_type": "code",
   "execution_count": 45,
   "id": "bfbd893b",
   "metadata": {},
   "outputs": [],
   "source": [
    "def Autoreduce(S, context):  \n",
    "    i = 0\n",
    "    while True:\n",
    "        p = S[i]\n",
    "        r = S[i+1:]\n",
    "        if not r:\n",
    "            S = Reorder(S, context)\n",
    "            return S[:]            \n",
    "        have_reduced = False\n",
    "        checkidx = i+1\n",
    "        for _r in r:\n",
    "            print (\"Try to reduce r{} with r{}\".format(checkidx, i))\n",
    "            res = reduce (_r, p, context)\n",
    "            if res._orig != _r._orig:\n",
    "                print (\"have reduced!\")\n",
    "                res._orig.show()\n",
    "                have_reduced = True                \n",
    "            S[i] = res\n",
    "            checkidx += 1\n",
    "        S = Reorder(S, context)\n",
    "        print(\"This is the new System........\")\n",
    "        for _ in S:\n",
    "            _._orig.show()\n",
    "        if not have_reduced:\n",
    "            i += 1        \n",
    "        else:\n",
    "            i = 0\n",
    "            "
   ]
  },
  {
   "cell_type": "code",
   "execution_count": 46,
   "id": "57aa07df",
   "metadata": {},
   "outputs": [],
   "source": [
    "def JanetBasis(S, context):\n",
    "    \"\"\"List of homogenous PDE's + order context\"\"\"\n",
    "    if not isinstance(S, Iterable):\n",
    "        # bad criterion\n",
    "        S = [S]\n",
    "    S = [Differential_Polynomial(s, context) for s in S]\n",
    "    S = Reorder(S, context)\n",
    "    while 1:\n",
    "        S = Autoreduce (S, context)\n",
    "        #S = CompleteSystem (S, context)\n",
    "        #f = FindIntegrableConditions(S, context)\n",
    "        #c = ReduceIntegrabilityConditions(S, context)\n",
    "        #if all ([_ == 0 for _ in c]) or not c:\n",
    "        #    return S\n",
    "        #S += c\n",
    "        #S = Reorder (S, context)\n",
    "        return S[:]"
   ]
  },
  {
   "cell_type": "code",
   "execution_count": 47,
   "id": "62a09cce",
   "metadata": {},
   "outputs": [
    {
     "name": "stdout",
     "output_type": "stream",
     "text": [
      "Try to reduce r1 with r0\n",
      "have reduced!\n"
     ]
    },
    {
     "data": {
      "text/html": [
       "<html><script type=\"math/tex; mode=display\">\\newcommand{\\Bold}[1]{\\mathbf{#1}}\\frac{2 \\, x^{2} y \\frac{\\partial}{\\partial x}z\\left(x, y\\right)}{x^{3} + x y} + \\frac{1.0 \\, x^{3} \\frac{\\partial^{2}}{\\partial x\\partial y}z\\left(x, y\\right)}{x^{3} + x y} + \\frac{x^{2} w\\left(x, y\\right)}{x^{3} + x y} + \\frac{2 \\, y^{2} \\frac{\\partial}{\\partial x}z\\left(x, y\\right)}{x^{3} + x y} + \\frac{1.0 \\, x y \\frac{\\partial^{2}}{\\partial x\\partial y}z\\left(x, y\\right)}{x^{3} + x y} + \\frac{y w\\left(x, y\\right)}{x^{3} + x y} - \\frac{x \\frac{\\partial}{\\partial y}z\\left(x, y\\right)}{2 \\, {\\left(x^{3} + x y\\right)}}</script></html>"
      ],
      "text/latex": [
       "\\begin{math}\n",
       "\\newcommand{\\Bold}[1]{\\mathbf{#1}}\\frac{2 \\, x^{2} y \\frac{\\partial}{\\partial x}z\\left(x, y\\right)}{x^{3} + x y} + \\frac{1.0 \\, x^{3} \\frac{\\partial^{2}}{\\partial x\\partial y}z\\left(x, y\\right)}{x^{3} + x y} + \\frac{x^{2} w\\left(x, y\\right)}{x^{3} + x y} + \\frac{2 \\, y^{2} \\frac{\\partial}{\\partial x}z\\left(x, y\\right)}{x^{3} + x y} + \\frac{1.0 \\, x y \\frac{\\partial^{2}}{\\partial x\\partial y}z\\left(x, y\\right)}{x^{3} + x y} + \\frac{y w\\left(x, y\\right)}{x^{3} + x y} - \\frac{x \\frac{\\partial}{\\partial y}z\\left(x, y\\right)}{2 \\, {\\left(x^{3} + x y\\right)}}\n",
       "\\end{math}"
      ],
      "text/plain": [
       "2*x^2*y*diff(z(x, y), x)/(x^3 + x*y) + 1.0*x^3*diff(z(x, y), x, y)/(x^3 + x*y) + x^2*w(x, y)/(x^3 + x*y) + 2*y^2*diff(z(x, y), x)/(x^3 + x*y) + 1.0*x*y*diff(z(x, y), x, y)/(x^3 + x*y) + y*w(x, y)/(x^3 + x*y) - 1/2*x*diff(z(x, y), y)/(x^3 + x*y)"
      ]
     },
     "metadata": {},
     "output_type": "display_data"
    },
    {
     "name": "stdout",
     "output_type": "stream",
     "text": [
      "Try to reduce r2 with r0\n",
      "PPPPPPPPPPPPPPPPPPPPPPPPPPPPPPPPPPPPPPPPPPP\n",
      "Vorher [y]\n",
      "reduce diff(w(x, y), y, y) with diff(w(x, y), y)\n",
      "e1: 1.0*diff(w(x, y), y, y)\n",
      "e2: 1.0*diff(w(x, y), y)\n"
     ]
    },
    {
     "data": {
      "text/html": [
       "<html><script type=\"math/tex; mode=display\">\\newcommand{\\Bold}[1]{\\mathbf{#1}}-\\frac{\\frac{\\partial}{\\partial y}w\\left(x, y\\right)}{y} + \\frac{w\\left(x, y\\right)}{y^{2}} + \\frac{\\partial^{2}}{(\\partial y)^{2}}w\\left(x, y\\right) + \\frac{\\partial^{2}}{\\partial x\\partial y}z\\left(x, y\\right)</script></html>"
      ],
      "text/latex": [
       "\\begin{math}\n",
       "\\newcommand{\\Bold}[1]{\\mathbf{#1}}-\\frac{\\frac{\\partial}{\\partial y}w\\left(x, y\\right)}{y} + \\frac{w\\left(x, y\\right)}{y^{2}} + \\frac{\\partial^{2}}{(\\partial y)^{2}}w\\left(x, y\\right) + \\frac{\\partial^{2}}{\\partial x\\partial y}z\\left(x, y\\right)\n",
       "\\end{math}"
      ],
      "text/plain": [
       "-diff(w(x, y), y)/y + w(x, y)/y^2 + diff(w(x, y), y, y) + diff(z(x, y), x, y)"
      ]
     },
     "metadata": {},
     "output_type": "display_data"
    },
    {
     "data": {
      "text/html": [
       "<html><script type=\"math/tex; mode=display\">\\newcommand{\\Bold}[1]{\\mathbf{#1}}-\\frac{w\\left(x, y\\right)}{y} + \\frac{x \\frac{\\partial}{\\partial y}z\\left(x, y\\right)}{2 \\, {\\left(x^{2} + y\\right)} y} + \\frac{\\partial}{\\partial y}w\\left(x, y\\right)</script></html>"
      ],
      "text/latex": [
       "\\begin{math}\n",
       "\\newcommand{\\Bold}[1]{\\mathbf{#1}}-\\frac{w\\left(x, y\\right)}{y} + \\frac{x \\frac{\\partial}{\\partial y}z\\left(x, y\\right)}{2 \\, {\\left(x^{2} + y\\right)} y} + \\frac{\\partial}{\\partial y}w\\left(x, y\\right)\n",
       "\\end{math}"
      ],
      "text/plain": [
       "-w(x, y)/y + 1/2*x*diff(z(x, y), y)/((x^2 + y)*y) + diff(w(x, y), y)"
      ]
     },
     "metadata": {},
     "output_type": "display_data"
    },
    {
     "name": "stdout",
     "output_type": "stream",
     "text": [
      "after derivation................\n"
     ]
    },
    {
     "data": {
      "text/html": [
       "<html><script type=\"math/tex; mode=display\">\\newcommand{\\Bold}[1]{\\mathbf{#1}}-\\frac{\\frac{\\partial}{\\partial y}w\\left(x, y\\right)}{y} + \\frac{x \\frac{\\partial^{2}}{(\\partial y)^{2}}z\\left(x, y\\right)}{2 \\, {\\left(x^{2} + y\\right)} y} + \\frac{w\\left(x, y\\right)}{y^{2}} - \\frac{x \\frac{\\partial}{\\partial y}z\\left(x, y\\right)}{2 \\, {\\left(x^{2} + y\\right)} y^{2}} - \\frac{x \\frac{\\partial}{\\partial y}z\\left(x, y\\right)}{2 \\, {\\left(x^{2} + y\\right)}^{2} y} + \\frac{\\partial^{2}}{(\\partial y)^{2}}w\\left(x, y\\right)</script></html>"
      ],
      "text/latex": [
       "\\begin{math}\n",
       "\\newcommand{\\Bold}[1]{\\mathbf{#1}}-\\frac{\\frac{\\partial}{\\partial y}w\\left(x, y\\right)}{y} + \\frac{x \\frac{\\partial^{2}}{(\\partial y)^{2}}z\\left(x, y\\right)}{2 \\, {\\left(x^{2} + y\\right)} y} + \\frac{w\\left(x, y\\right)}{y^{2}} - \\frac{x \\frac{\\partial}{\\partial y}z\\left(x, y\\right)}{2 \\, {\\left(x^{2} + y\\right)} y^{2}} - \\frac{x \\frac{\\partial}{\\partial y}z\\left(x, y\\right)}{2 \\, {\\left(x^{2} + y\\right)}^{2} y} + \\frac{\\partial^{2}}{(\\partial y)^{2}}w\\left(x, y\\right)\n",
       "\\end{math}"
      ],
      "text/plain": [
       "-diff(w(x, y), y)/y + 1/2*x*diff(z(x, y), y, y)/((x^2 + y)*y) + w(x, y)/y^2 - 1/2*x*diff(z(x, y), y)/((x^2 + y)*y^2) - 1/2*x*diff(z(x, y), y)/((x^2 + y)^2*y) + diff(w(x, y), y, y)"
      ]
     },
     "metadata": {},
     "output_type": "display_data"
    },
    {
     "data": {
      "text/html": [
       "<html><script type=\"math/tex; mode=display\">\\newcommand{\\Bold}[1]{\\mathbf{#1}}-\\frac{0.5 \\, x \\frac{\\partial^{2}}{(\\partial y)^{2}}z\\left(x, y\\right)}{{\\left(x^{2} + y\\right)} y} + \\frac{0.5 \\, x \\frac{\\partial}{\\partial y}z\\left(x, y\\right)}{{\\left(x^{2} + y\\right)} y^{2}} + \\frac{0.5 \\, x \\frac{\\partial}{\\partial y}z\\left(x, y\\right)}{{\\left(x^{2} + y\\right)}^{2} y} + \\frac{\\partial^{2}}{\\partial x\\partial y}z\\left(x, y\\right)</script></html>"
      ],
      "text/latex": [
       "\\begin{math}\n",
       "\\newcommand{\\Bold}[1]{\\mathbf{#1}}-\\frac{0.5 \\, x \\frac{\\partial^{2}}{(\\partial y)^{2}}z\\left(x, y\\right)}{{\\left(x^{2} + y\\right)} y} + \\frac{0.5 \\, x \\frac{\\partial}{\\partial y}z\\left(x, y\\right)}{{\\left(x^{2} + y\\right)} y^{2}} + \\frac{0.5 \\, x \\frac{\\partial}{\\partial y}z\\left(x, y\\right)}{{\\left(x^{2} + y\\right)}^{2} y} + \\frac{\\partial^{2}}{\\partial x\\partial y}z\\left(x, y\\right)\n",
       "\\end{math}"
      ],
      "text/plain": [
       "-0.5*x*diff(z(x, y), y, y)/((x^2 + y)*y) + 0.5*x*diff(z(x, y), y)/((x^2 + y)*y^2) + 0.5*x*diff(z(x, y), y)/((x^2 + y)^2*y) + diff(z(x, y), x, y)"
      ]
     },
     "metadata": {},
     "output_type": "display_data"
    },
    {
     "name": "stdout",
     "output_type": "stream",
     "text": [
      "e3: 1.0*diff(z(x, y), x, y)\n",
      "have reduced!\n"
     ]
    },
    {
     "data": {
      "text/html": [
       "<html><script type=\"math/tex; mode=display\">\\newcommand{\\Bold}[1]{\\mathbf{#1}}-\\frac{0.5 \\, x \\frac{\\partial^{2}}{(\\partial y)^{2}}z\\left(x, y\\right)}{{\\left(x^{2} + y\\right)} y} + \\frac{0.5 \\, x \\frac{\\partial}{\\partial y}z\\left(x, y\\right)}{{\\left(x^{2} + y\\right)} y^{2}} + \\frac{0.5 \\, x \\frac{\\partial}{\\partial y}z\\left(x, y\\right)}{{\\left(x^{2} + y\\right)}^{2} y} + \\frac{\\partial^{2}}{\\partial x\\partial y}z\\left(x, y\\right)</script></html>"
      ],
      "text/latex": [
       "\\begin{math}\n",
       "\\newcommand{\\Bold}[1]{\\mathbf{#1}}-\\frac{0.5 \\, x \\frac{\\partial^{2}}{(\\partial y)^{2}}z\\left(x, y\\right)}{{\\left(x^{2} + y\\right)} y} + \\frac{0.5 \\, x \\frac{\\partial}{\\partial y}z\\left(x, y\\right)}{{\\left(x^{2} + y\\right)} y^{2}} + \\frac{0.5 \\, x \\frac{\\partial}{\\partial y}z\\left(x, y\\right)}{{\\left(x^{2} + y\\right)}^{2} y} + \\frac{\\partial^{2}}{\\partial x\\partial y}z\\left(x, y\\right)\n",
       "\\end{math}"
      ],
      "text/plain": [
       "-0.5*x*diff(z(x, y), y, y)/((x^2 + y)*y) + 0.5*x*diff(z(x, y), y)/((x^2 + y)*y^2) + 0.5*x*diff(z(x, y), y)/((x^2 + y)^2*y) + diff(z(x, y), x, y)"
      ]
     },
     "metadata": {},
     "output_type": "display_data"
    },
    {
     "name": "stdout",
     "output_type": "stream",
     "text": [
      "Try to reduce r3 with r0\n",
      "PPPPPPPPPPPPPPPPPPPPPPPPPPPPPPPPPPPPPPPPPPP\n",
      "Vorher [x]\n",
      "reduce diff(w(x, y), x, y) with diff(w(x, y), y)\n",
      "e1: 1.0*diff(w(x, y), x, y)\n",
      "e2: 1.0*diff(w(x, y), y)\n"
     ]
    },
    {
     "data": {
      "text/html": [
       "<html><script type=\"math/tex; mode=display\">\\newcommand{\\Bold}[1]{\\mathbf{#1}}\\frac{x \\frac{\\partial}{\\partial y}z\\left(x, y\\right)}{y} - \\frac{\\frac{\\partial}{\\partial x}w\\left(x, y\\right)}{y} + \\frac{\\frac{\\partial}{\\partial y}w\\left(x, y\\right)}{2 \\, y} - \\frac{w\\left(x, y\\right)}{2 \\, y^{2}} + \\frac{\\partial^{2}}{\\partial x\\partial y}w\\left(x, y\\right) + \\frac{\\partial^{2}}{\\partial x\\partial y}z\\left(x, y\\right)</script></html>"
      ],
      "text/latex": [
       "\\begin{math}\n",
       "\\newcommand{\\Bold}[1]{\\mathbf{#1}}\\frac{x \\frac{\\partial}{\\partial y}z\\left(x, y\\right)}{y} - \\frac{\\frac{\\partial}{\\partial x}w\\left(x, y\\right)}{y} + \\frac{\\frac{\\partial}{\\partial y}w\\left(x, y\\right)}{2 \\, y} - \\frac{w\\left(x, y\\right)}{2 \\, y^{2}} + \\frac{\\partial^{2}}{\\partial x\\partial y}w\\left(x, y\\right) + \\frac{\\partial^{2}}{\\partial x\\partial y}z\\left(x, y\\right)\n",
       "\\end{math}"
      ],
      "text/plain": [
       "x*diff(z(x, y), y)/y - diff(w(x, y), x)/y + 1/2*diff(w(x, y), y)/y - 1/2*w(x, y)/y^2 + diff(w(x, y), x, y) + diff(z(x, y), x, y)"
      ]
     },
     "metadata": {},
     "output_type": "display_data"
    },
    {
     "data": {
      "text/html": [
       "<html><script type=\"math/tex; mode=display\">\\newcommand{\\Bold}[1]{\\mathbf{#1}}-\\frac{w\\left(x, y\\right)}{y} + \\frac{x \\frac{\\partial}{\\partial y}z\\left(x, y\\right)}{2 \\, {\\left(x^{2} + y\\right)} y} + \\frac{\\partial}{\\partial y}w\\left(x, y\\right)</script></html>"
      ],
      "text/latex": [
       "\\begin{math}\n",
       "\\newcommand{\\Bold}[1]{\\mathbf{#1}}-\\frac{w\\left(x, y\\right)}{y} + \\frac{x \\frac{\\partial}{\\partial y}z\\left(x, y\\right)}{2 \\, {\\left(x^{2} + y\\right)} y} + \\frac{\\partial}{\\partial y}w\\left(x, y\\right)\n",
       "\\end{math}"
      ],
      "text/plain": [
       "-w(x, y)/y + 1/2*x*diff(z(x, y), y)/((x^2 + y)*y) + diff(w(x, y), y)"
      ]
     },
     "metadata": {},
     "output_type": "display_data"
    },
    {
     "name": "stdout",
     "output_type": "stream",
     "text": [
      "after derivation................\n"
     ]
    },
    {
     "data": {
      "text/html": [
       "<html><script type=\"math/tex; mode=display\">\\newcommand{\\Bold}[1]{\\mathbf{#1}}-\\frac{\\frac{\\partial}{\\partial x}w\\left(x, y\\right)}{y} + \\frac{x \\frac{\\partial^{2}}{\\partial x\\partial y}z\\left(x, y\\right)}{2 \\, {\\left(x^{2} + y\\right)} y} - \\frac{x^{2} \\frac{\\partial}{\\partial y}z\\left(x, y\\right)}{{\\left(x^{2} + y\\right)}^{2} y} + \\frac{\\frac{\\partial}{\\partial y}z\\left(x, y\\right)}{2 \\, {\\left(x^{2} + y\\right)} y} + \\frac{\\partial^{2}}{\\partial x\\partial y}w\\left(x, y\\right)</script></html>"
      ],
      "text/latex": [
       "\\begin{math}\n",
       "\\newcommand{\\Bold}[1]{\\mathbf{#1}}-\\frac{\\frac{\\partial}{\\partial x}w\\left(x, y\\right)}{y} + \\frac{x \\frac{\\partial^{2}}{\\partial x\\partial y}z\\left(x, y\\right)}{2 \\, {\\left(x^{2} + y\\right)} y} - \\frac{x^{2} \\frac{\\partial}{\\partial y}z\\left(x, y\\right)}{{\\left(x^{2} + y\\right)}^{2} y} + \\frac{\\frac{\\partial}{\\partial y}z\\left(x, y\\right)}{2 \\, {\\left(x^{2} + y\\right)} y} + \\frac{\\partial^{2}}{\\partial x\\partial y}w\\left(x, y\\right)\n",
       "\\end{math}"
      ],
      "text/plain": [
       "-diff(w(x, y), x)/y + 1/2*x*diff(z(x, y), x, y)/((x^2 + y)*y) - x^2*diff(z(x, y), y)/((x^2 + y)^2*y) + 1/2*diff(z(x, y), y)/((x^2 + y)*y) + diff(w(x, y), x, y)"
      ]
     },
     "metadata": {},
     "output_type": "display_data"
    },
    {
     "data": {
      "text/html": [
       "<html><script type=\"math/tex; mode=display\">\\newcommand{\\Bold}[1]{\\mathbf{#1}}\\frac{x \\frac{\\partial}{\\partial y}z\\left(x, y\\right)}{y} + \\frac{\\frac{\\partial}{\\partial y}w\\left(x, y\\right)}{2 \\, y} - \\frac{0.5 \\, x \\frac{\\partial^{2}}{\\partial x\\partial y}z\\left(x, y\\right)}{{\\left(x^{2} + y\\right)} y} + \\frac{1.0 \\, x^{2} \\frac{\\partial}{\\partial y}z\\left(x, y\\right)}{{\\left(x^{2} + y\\right)}^{2} y} - \\frac{w\\left(x, y\\right)}{2 \\, y^{2}} - \\frac{0.5 \\, \\frac{\\partial}{\\partial y}z\\left(x, y\\right)}{{\\left(x^{2} + y\\right)} y} + \\frac{\\partial^{2}}{\\partial x\\partial y}z\\left(x, y\\right)</script></html>"
      ],
      "text/latex": [
       "\\begin{math}\n",
       "\\newcommand{\\Bold}[1]{\\mathbf{#1}}\\frac{x \\frac{\\partial}{\\partial y}z\\left(x, y\\right)}{y} + \\frac{\\frac{\\partial}{\\partial y}w\\left(x, y\\right)}{2 \\, y} - \\frac{0.5 \\, x \\frac{\\partial^{2}}{\\partial x\\partial y}z\\left(x, y\\right)}{{\\left(x^{2} + y\\right)} y} + \\frac{1.0 \\, x^{2} \\frac{\\partial}{\\partial y}z\\left(x, y\\right)}{{\\left(x^{2} + y\\right)}^{2} y} - \\frac{w\\left(x, y\\right)}{2 \\, y^{2}} - \\frac{0.5 \\, \\frac{\\partial}{\\partial y}z\\left(x, y\\right)}{{\\left(x^{2} + y\\right)} y} + \\frac{\\partial^{2}}{\\partial x\\partial y}z\\left(x, y\\right)\n",
       "\\end{math}"
      ],
      "text/plain": [
       "x*diff(z(x, y), y)/y + 1/2*diff(w(x, y), y)/y - 0.5*x*diff(z(x, y), x, y)/((x^2 + y)*y) + 1.0*x^2*diff(z(x, y), y)/((x^2 + y)^2*y) - 1/2*w(x, y)/y^2 - 0.5*diff(z(x, y), y)/((x^2 + y)*y) + diff(z(x, y), x, y)"
      ]
     },
     "metadata": {},
     "output_type": "display_data"
    },
    {
     "name": "stdout",
     "output_type": "stream",
     "text": [
      "e3: diff(z(x, y), x, y)\n",
      "have reduced!\n"
     ]
    },
    {
     "data": {
      "text/html": [
       "<html><script type=\"math/tex; mode=display\">\\newcommand{\\Bold}[1]{\\mathbf{#1}}\\frac{x \\frac{\\partial}{\\partial y}z\\left(x, y\\right)}{y} + \\frac{\\frac{\\partial}{\\partial y}w\\left(x, y\\right)}{2 \\, y} - \\frac{0.5 \\, x \\frac{\\partial^{2}}{\\partial x\\partial y}z\\left(x, y\\right)}{{\\left(x^{2} + y\\right)} y} + \\frac{1.0 \\, x^{2} \\frac{\\partial}{\\partial y}z\\left(x, y\\right)}{{\\left(x^{2} + y\\right)}^{2} y} - \\frac{w\\left(x, y\\right)}{2 \\, y^{2}} - \\frac{0.5 \\, \\frac{\\partial}{\\partial y}z\\left(x, y\\right)}{{\\left(x^{2} + y\\right)} y} + \\frac{\\partial^{2}}{\\partial x\\partial y}z\\left(x, y\\right)</script></html>"
      ],
      "text/latex": [
       "\\begin{math}\n",
       "\\newcommand{\\Bold}[1]{\\mathbf{#1}}\\frac{x \\frac{\\partial}{\\partial y}z\\left(x, y\\right)}{y} + \\frac{\\frac{\\partial}{\\partial y}w\\left(x, y\\right)}{2 \\, y} - \\frac{0.5 \\, x \\frac{\\partial^{2}}{\\partial x\\partial y}z\\left(x, y\\right)}{{\\left(x^{2} + y\\right)} y} + \\frac{1.0 \\, x^{2} \\frac{\\partial}{\\partial y}z\\left(x, y\\right)}{{\\left(x^{2} + y\\right)}^{2} y} - \\frac{w\\left(x, y\\right)}{2 \\, y^{2}} - \\frac{0.5 \\, \\frac{\\partial}{\\partial y}z\\left(x, y\\right)}{{\\left(x^{2} + y\\right)} y} + \\frac{\\partial^{2}}{\\partial x\\partial y}z\\left(x, y\\right)\n",
       "\\end{math}"
      ],
      "text/plain": [
       "x*diff(z(x, y), y)/y + 1/2*diff(w(x, y), y)/y - 0.5*x*diff(z(x, y), x, y)/((x^2 + y)*y) + 1.0*x^2*diff(z(x, y), y)/((x^2 + y)^2*y) - 1/2*w(x, y)/y^2 - 0.5*diff(z(x, y), y)/((x^2 + y)*y) + diff(z(x, y), x, y)"
      ]
     },
     "metadata": {},
     "output_type": "display_data"
    },
    {
     "name": "stdout",
     "output_type": "stream",
     "text": [
      "Try to reduce r4 with r0\n",
      "PPPPPPPPPPPPPPPPPPPPPPPPPPPPPPPPPPPPPPPPPPP\n",
      "Vorher [x]\n",
      "reduce diff(w(x, y), x, y) with diff(w(x, y), y)\n",
      "e1: 1.0*diff(w(x, y), x, y)\n",
      "e2: 1.0*diff(w(x, y), y)\n"
     ]
    },
    {
     "data": {
      "text/html": [
       "<html><script type=\"math/tex; mode=display\">\\newcommand{\\Bold}[1]{\\mathbf{#1}}-\\frac{2 \\, x \\frac{\\partial^{2}}{(\\partial x)^{2}}z\\left(x, y\\right)}{y} - \\frac{x \\frac{\\partial}{\\partial x}w\\left(x, y\\right)}{y^{2}} + \\frac{\\partial^{2}}{\\partial x\\partial y}w\\left(x, y\\right)</script></html>"
      ],
      "text/latex": [
       "\\begin{math}\n",
       "\\newcommand{\\Bold}[1]{\\mathbf{#1}}-\\frac{2 \\, x \\frac{\\partial^{2}}{(\\partial x)^{2}}z\\left(x, y\\right)}{y} - \\frac{x \\frac{\\partial}{\\partial x}w\\left(x, y\\right)}{y^{2}} + \\frac{\\partial^{2}}{\\partial x\\partial y}w\\left(x, y\\right)\n",
       "\\end{math}"
      ],
      "text/plain": [
       "-2*x*diff(z(x, y), x, x)/y - x*diff(w(x, y), x)/y^2 + diff(w(x, y), x, y)"
      ]
     },
     "metadata": {},
     "output_type": "display_data"
    },
    {
     "data": {
      "text/html": [
       "<html><script type=\"math/tex; mode=display\">\\newcommand{\\Bold}[1]{\\mathbf{#1}}-\\frac{w\\left(x, y\\right)}{y} + \\frac{x \\frac{\\partial}{\\partial y}z\\left(x, y\\right)}{2 \\, {\\left(x^{2} + y\\right)} y} + \\frac{\\partial}{\\partial y}w\\left(x, y\\right)</script></html>"
      ],
      "text/latex": [
       "\\begin{math}\n",
       "\\newcommand{\\Bold}[1]{\\mathbf{#1}}-\\frac{w\\left(x, y\\right)}{y} + \\frac{x \\frac{\\partial}{\\partial y}z\\left(x, y\\right)}{2 \\, {\\left(x^{2} + y\\right)} y} + \\frac{\\partial}{\\partial y}w\\left(x, y\\right)\n",
       "\\end{math}"
      ],
      "text/plain": [
       "-w(x, y)/y + 1/2*x*diff(z(x, y), y)/((x^2 + y)*y) + diff(w(x, y), y)"
      ]
     },
     "metadata": {},
     "output_type": "display_data"
    },
    {
     "name": "stdout",
     "output_type": "stream",
     "text": [
      "after derivation................\n"
     ]
    },
    {
     "data": {
      "text/html": [
       "<html><script type=\"math/tex; mode=display\">\\newcommand{\\Bold}[1]{\\mathbf{#1}}-\\frac{\\frac{\\partial}{\\partial x}w\\left(x, y\\right)}{y} + \\frac{x \\frac{\\partial^{2}}{\\partial x\\partial y}z\\left(x, y\\right)}{2 \\, {\\left(x^{2} + y\\right)} y} - \\frac{x^{2} \\frac{\\partial}{\\partial y}z\\left(x, y\\right)}{{\\left(x^{2} + y\\right)}^{2} y} + \\frac{\\frac{\\partial}{\\partial y}z\\left(x, y\\right)}{2 \\, {\\left(x^{2} + y\\right)} y} + \\frac{\\partial^{2}}{\\partial x\\partial y}w\\left(x, y\\right)</script></html>"
      ],
      "text/latex": [
       "\\begin{math}\n",
       "\\newcommand{\\Bold}[1]{\\mathbf{#1}}-\\frac{\\frac{\\partial}{\\partial x}w\\left(x, y\\right)}{y} + \\frac{x \\frac{\\partial^{2}}{\\partial x\\partial y}z\\left(x, y\\right)}{2 \\, {\\left(x^{2} + y\\right)} y} - \\frac{x^{2} \\frac{\\partial}{\\partial y}z\\left(x, y\\right)}{{\\left(x^{2} + y\\right)}^{2} y} + \\frac{\\frac{\\partial}{\\partial y}z\\left(x, y\\right)}{2 \\, {\\left(x^{2} + y\\right)} y} + \\frac{\\partial^{2}}{\\partial x\\partial y}w\\left(x, y\\right)\n",
       "\\end{math}"
      ],
      "text/plain": [
       "-diff(w(x, y), x)/y + 1/2*x*diff(z(x, y), x, y)/((x^2 + y)*y) - x^2*diff(z(x, y), y)/((x^2 + y)^2*y) + 1/2*diff(z(x, y), y)/((x^2 + y)*y) + diff(w(x, y), x, y)"
      ]
     },
     "metadata": {},
     "output_type": "display_data"
    },
    {
     "data": {
      "text/html": [
       "<html><script type=\"math/tex; mode=display\">\\newcommand{\\Bold}[1]{\\mathbf{#1}}-\\frac{2 \\, x \\frac{\\partial^{2}}{(\\partial x)^{2}}z\\left(x, y\\right)}{y} - \\frac{x \\frac{\\partial}{\\partial x}w\\left(x, y\\right)}{y^{2}} + \\frac{1.0 \\, \\frac{\\partial}{\\partial x}w\\left(x, y\\right)}{y} - \\frac{0.5 \\, x \\frac{\\partial^{2}}{\\partial x\\partial y}z\\left(x, y\\right)}{{\\left(x^{2} + y\\right)} y} + \\frac{1.0 \\, x^{2} \\frac{\\partial}{\\partial y}z\\left(x, y\\right)}{{\\left(x^{2} + y\\right)}^{2} y} - \\frac{0.5 \\, \\frac{\\partial}{\\partial y}z\\left(x, y\\right)}{{\\left(x^{2} + y\\right)} y}</script></html>"
      ],
      "text/latex": [
       "\\begin{math}\n",
       "\\newcommand{\\Bold}[1]{\\mathbf{#1}}-\\frac{2 \\, x \\frac{\\partial^{2}}{(\\partial x)^{2}}z\\left(x, y\\right)}{y} - \\frac{x \\frac{\\partial}{\\partial x}w\\left(x, y\\right)}{y^{2}} + \\frac{1.0 \\, \\frac{\\partial}{\\partial x}w\\left(x, y\\right)}{y} - \\frac{0.5 \\, x \\frac{\\partial^{2}}{\\partial x\\partial y}z\\left(x, y\\right)}{{\\left(x^{2} + y\\right)} y} + \\frac{1.0 \\, x^{2} \\frac{\\partial}{\\partial y}z\\left(x, y\\right)}{{\\left(x^{2} + y\\right)}^{2} y} - \\frac{0.5 \\, \\frac{\\partial}{\\partial y}z\\left(x, y\\right)}{{\\left(x^{2} + y\\right)} y}\n",
       "\\end{math}"
      ],
      "text/plain": [
       "-2*x*diff(z(x, y), x, x)/y - x*diff(w(x, y), x)/y^2 + 1.0*diff(w(x, y), x)/y - 0.5*x*diff(z(x, y), x, y)/((x^2 + y)*y) + 1.0*x^2*diff(z(x, y), y)/((x^2 + y)^2*y) - 0.5*diff(z(x, y), y)/((x^2 + y)*y)"
      ]
     },
     "metadata": {},
     "output_type": "display_data"
    },
    {
     "name": "stdout",
     "output_type": "stream",
     "text": [
      "e3: diff(z(x, y), x, x)\n",
      "have reduced!\n"
     ]
    },
    {
     "data": {
      "text/html": [
       "<html><script type=\"math/tex; mode=display\">\\newcommand{\\Bold}[1]{\\mathbf{#1}}-\\frac{2 \\, x \\frac{\\partial^{2}}{(\\partial x)^{2}}z\\left(x, y\\right)}{y} - \\frac{x \\frac{\\partial}{\\partial x}w\\left(x, y\\right)}{y^{2}} + \\frac{1.0 \\, \\frac{\\partial}{\\partial x}w\\left(x, y\\right)}{y} - \\frac{0.5 \\, x \\frac{\\partial^{2}}{\\partial x\\partial y}z\\left(x, y\\right)}{{\\left(x^{2} + y\\right)} y} + \\frac{1.0 \\, x^{2} \\frac{\\partial}{\\partial y}z\\left(x, y\\right)}{{\\left(x^{2} + y\\right)}^{2} y} - \\frac{0.5 \\, \\frac{\\partial}{\\partial y}z\\left(x, y\\right)}{{\\left(x^{2} + y\\right)} y}</script></html>"
      ],
      "text/latex": [
       "\\begin{math}\n",
       "\\newcommand{\\Bold}[1]{\\mathbf{#1}}-\\frac{2 \\, x \\frac{\\partial^{2}}{(\\partial x)^{2}}z\\left(x, y\\right)}{y} - \\frac{x \\frac{\\partial}{\\partial x}w\\left(x, y\\right)}{y^{2}} + \\frac{1.0 \\, \\frac{\\partial}{\\partial x}w\\left(x, y\\right)}{y} - \\frac{0.5 \\, x \\frac{\\partial^{2}}{\\partial x\\partial y}z\\left(x, y\\right)}{{\\left(x^{2} + y\\right)} y} + \\frac{1.0 \\, x^{2} \\frac{\\partial}{\\partial y}z\\left(x, y\\right)}{{\\left(x^{2} + y\\right)}^{2} y} - \\frac{0.5 \\, \\frac{\\partial}{\\partial y}z\\left(x, y\\right)}{{\\left(x^{2} + y\\right)} y}\n",
       "\\end{math}"
      ],
      "text/plain": [
       "-2*x*diff(z(x, y), x, x)/y - x*diff(w(x, y), x)/y^2 + 1.0*diff(w(x, y), x)/y - 0.5*x*diff(z(x, y), x, y)/((x^2 + y)*y) + 1.0*x^2*diff(z(x, y), y)/((x^2 + y)^2*y) - 0.5*diff(z(x, y), y)/((x^2 + y)*y)"
      ]
     },
     "metadata": {},
     "output_type": "display_data"
    },
    {
     "name": "stdout",
     "output_type": "stream",
     "text": [
      "This is the new System........\n"
     ]
    },
    {
     "data": {
      "text/html": [
       "<html><script type=\"math/tex; mode=display\">\\newcommand{\\Bold}[1]{\\mathbf{#1}}\\frac{y \\frac{\\partial}{\\partial y}w\\left(x, y\\right)}{x} + \\frac{2 \\, y \\frac{\\partial}{\\partial x}z\\left(x, y\\right)}{x} + \\frac{\\partial^{2}}{\\partial x\\partial y}z\\left(x, y\\right)</script></html>"
      ],
      "text/latex": [
       "\\begin{math}\n",
       "\\newcommand{\\Bold}[1]{\\mathbf{#1}}\\frac{y \\frac{\\partial}{\\partial y}w\\left(x, y\\right)}{x} + \\frac{2 \\, y \\frac{\\partial}{\\partial x}z\\left(x, y\\right)}{x} + \\frac{\\partial^{2}}{\\partial x\\partial y}z\\left(x, y\\right)\n",
       "\\end{math}"
      ],
      "text/plain": [
       "y*diff(w(x, y), y)/x + 2*y*diff(z(x, y), x)/x + diff(z(x, y), x, y)"
      ]
     },
     "metadata": {},
     "output_type": "display_data"
    },
    {
     "data": {
      "text/html": [
       "<html><script type=\"math/tex; mode=display\">\\newcommand{\\Bold}[1]{\\mathbf{#1}}-\\frac{2 \\, x \\frac{\\partial^{2}}{(\\partial x)^{2}}z\\left(x, y\\right)}{y} - \\frac{x \\frac{\\partial}{\\partial x}w\\left(x, y\\right)}{y^{2}} + \\frac{1.0 \\, \\frac{\\partial}{\\partial x}w\\left(x, y\\right)}{y} - \\frac{0.5 \\, x \\frac{\\partial^{2}}{\\partial x\\partial y}z\\left(x, y\\right)}{{\\left(x^{2} + y\\right)} y} + \\frac{1.0 \\, x^{2} \\frac{\\partial}{\\partial y}z\\left(x, y\\right)}{{\\left(x^{2} + y\\right)}^{2} y} - \\frac{0.5 \\, \\frac{\\partial}{\\partial y}z\\left(x, y\\right)}{{\\left(x^{2} + y\\right)} y}</script></html>"
      ],
      "text/latex": [
       "\\begin{math}\n",
       "\\newcommand{\\Bold}[1]{\\mathbf{#1}}-\\frac{2 \\, x \\frac{\\partial^{2}}{(\\partial x)^{2}}z\\left(x, y\\right)}{y} - \\frac{x \\frac{\\partial}{\\partial x}w\\left(x, y\\right)}{y^{2}} + \\frac{1.0 \\, \\frac{\\partial}{\\partial x}w\\left(x, y\\right)}{y} - \\frac{0.5 \\, x \\frac{\\partial^{2}}{\\partial x\\partial y}z\\left(x, y\\right)}{{\\left(x^{2} + y\\right)} y} + \\frac{1.0 \\, x^{2} \\frac{\\partial}{\\partial y}z\\left(x, y\\right)}{{\\left(x^{2} + y\\right)}^{2} y} - \\frac{0.5 \\, \\frac{\\partial}{\\partial y}z\\left(x, y\\right)}{{\\left(x^{2} + y\\right)} y}\n",
       "\\end{math}"
      ],
      "text/plain": [
       "-2*x*diff(z(x, y), x, x)/y - x*diff(w(x, y), x)/y^2 + 1.0*diff(w(x, y), x)/y - 0.5*x*diff(z(x, y), x, y)/((x^2 + y)*y) + 1.0*x^2*diff(z(x, y), y)/((x^2 + y)^2*y) - 0.5*diff(z(x, y), y)/((x^2 + y)*y)"
      ]
     },
     "metadata": {},
     "output_type": "display_data"
    },
    {
     "data": {
      "text/html": [
       "<html><script type=\"math/tex; mode=display\">\\newcommand{\\Bold}[1]{\\mathbf{#1}}-\\frac{\\frac{\\partial}{\\partial y}w\\left(x, y\\right)}{y} + \\frac{w\\left(x, y\\right)}{y^{2}} + \\frac{\\partial^{2}}{(\\partial y)^{2}}w\\left(x, y\\right) + \\frac{\\partial^{2}}{\\partial x\\partial y}z\\left(x, y\\right)</script></html>"
      ],
      "text/latex": [
       "\\begin{math}\n",
       "\\newcommand{\\Bold}[1]{\\mathbf{#1}}-\\frac{\\frac{\\partial}{\\partial y}w\\left(x, y\\right)}{y} + \\frac{w\\left(x, y\\right)}{y^{2}} + \\frac{\\partial^{2}}{(\\partial y)^{2}}w\\left(x, y\\right) + \\frac{\\partial^{2}}{\\partial x\\partial y}z\\left(x, y\\right)\n",
       "\\end{math}"
      ],
      "text/plain": [
       "-diff(w(x, y), y)/y + w(x, y)/y^2 + diff(w(x, y), y, y) + diff(z(x, y), x, y)"
      ]
     },
     "metadata": {},
     "output_type": "display_data"
    },
    {
     "data": {
      "text/html": [
       "<html><script type=\"math/tex; mode=display\">\\newcommand{\\Bold}[1]{\\mathbf{#1}}-\\frac{2 \\, x \\frac{\\partial^{2}}{(\\partial x)^{2}}z\\left(x, y\\right)}{y} - \\frac{x \\frac{\\partial}{\\partial x}w\\left(x, y\\right)}{y^{2}} + \\frac{\\partial^{2}}{\\partial x\\partial y}w\\left(x, y\\right)</script></html>"
      ],
      "text/latex": [
       "\\begin{math}\n",
       "\\newcommand{\\Bold}[1]{\\mathbf{#1}}-\\frac{2 \\, x \\frac{\\partial^{2}}{(\\partial x)^{2}}z\\left(x, y\\right)}{y} - \\frac{x \\frac{\\partial}{\\partial x}w\\left(x, y\\right)}{y^{2}} + \\frac{\\partial^{2}}{\\partial x\\partial y}w\\left(x, y\\right)\n",
       "\\end{math}"
      ],
      "text/plain": [
       "-2*x*diff(z(x, y), x, x)/y - x*diff(w(x, y), x)/y^2 + diff(w(x, y), x, y)"
      ]
     },
     "metadata": {},
     "output_type": "display_data"
    },
    {
     "data": {
      "text/html": [
       "<html><script type=\"math/tex; mode=display\">\\newcommand{\\Bold}[1]{\\mathbf{#1}}\\frac{x \\frac{\\partial}{\\partial y}z\\left(x, y\\right)}{y} - \\frac{\\frac{\\partial}{\\partial x}w\\left(x, y\\right)}{y} + \\frac{\\frac{\\partial}{\\partial y}w\\left(x, y\\right)}{2 \\, y} - \\frac{w\\left(x, y\\right)}{2 \\, y^{2}} + \\frac{\\partial^{2}}{\\partial x\\partial y}w\\left(x, y\\right) + \\frac{\\partial^{2}}{\\partial x\\partial y}z\\left(x, y\\right)</script></html>"
      ],
      "text/latex": [
       "\\begin{math}\n",
       "\\newcommand{\\Bold}[1]{\\mathbf{#1}}\\frac{x \\frac{\\partial}{\\partial y}z\\left(x, y\\right)}{y} - \\frac{\\frac{\\partial}{\\partial x}w\\left(x, y\\right)}{y} + \\frac{\\frac{\\partial}{\\partial y}w\\left(x, y\\right)}{2 \\, y} - \\frac{w\\left(x, y\\right)}{2 \\, y^{2}} + \\frac{\\partial^{2}}{\\partial x\\partial y}w\\left(x, y\\right) + \\frac{\\partial^{2}}{\\partial x\\partial y}z\\left(x, y\\right)\n",
       "\\end{math}"
      ],
      "text/plain": [
       "x*diff(z(x, y), y)/y - diff(w(x, y), x)/y + 1/2*diff(w(x, y), y)/y - 1/2*w(x, y)/y^2 + diff(w(x, y), x, y) + diff(z(x, y), x, y)"
      ]
     },
     "metadata": {},
     "output_type": "display_data"
    },
    {
     "name": "stdout",
     "output_type": "stream",
     "text": [
      "Try to reduce r1 with r0\n",
      "no reduction?\n",
      "have reduced!\n"
     ]
    },
    {
     "data": {
      "text/html": [
       "<html><script type=\"math/tex; mode=display\">\\newcommand{\\Bold}[1]{\\mathbf{#1}}\\frac{x^{5} y \\frac{\\partial^{2}}{(\\partial x)^{2}}z\\left(x, y\\right)}{x^{5} y + 2 \\, x^{3} y^{2} + x y^{3}} + \\frac{x^{5} \\frac{\\partial}{\\partial x}w\\left(x, y\\right)}{2 \\, {\\left(x^{5} y + 2 \\, x^{3} y^{2} + x y^{3}\\right)}} - \\frac{0.5 \\, x^{4} y \\frac{\\partial}{\\partial x}w\\left(x, y\\right)}{x^{5} y + 2 \\, x^{3} y^{2} + x y^{3}} + \\frac{2 \\, x^{3} y^{2} \\frac{\\partial^{2}}{(\\partial x)^{2}}z\\left(x, y\\right)}{x^{5} y + 2 \\, x^{3} y^{2} + x y^{3}} + \\frac{x^{3} y \\frac{\\partial}{\\partial x}w\\left(x, y\\right)}{x^{5} y + 2 \\, x^{3} y^{2} + x y^{3}} - \\frac{1.0 \\, x^{2} y^{2} \\frac{\\partial}{\\partial x}w\\left(x, y\\right)}{x^{5} y + 2 \\, x^{3} y^{2} + x y^{3}} - \\frac{0.25 \\, x^{2} y^{2} \\frac{\\partial}{\\partial y}w\\left(x, y\\right)}{x^{5} y + 2 \\, x^{3} y^{2} + x y^{3}} - \\frac{0.5 \\, x^{2} y^{2} \\frac{\\partial}{\\partial x}z\\left(x, y\\right)}{x^{5} y + 2 \\, x^{3} y^{2} + x y^{3}} + \\frac{x y^{3} \\frac{\\partial^{2}}{(\\partial x)^{2}}z\\left(x, y\\right)}{x^{5} y + 2 \\, x^{3} y^{2} + x y^{3}} + \\frac{x y^{2} \\frac{\\partial}{\\partial x}w\\left(x, y\\right)}{2 \\, {\\left(x^{5} y + 2 \\, x^{3} y^{2} + x y^{3}\\right)}} - \\frac{0.5 \\, y^{3} \\frac{\\partial}{\\partial x}w\\left(x, y\\right)}{x^{5} y + 2 \\, x^{3} y^{2} + x y^{3}} - \\frac{0.25 \\, y^{3} \\frac{\\partial}{\\partial y}w\\left(x, y\\right)}{x^{5} y + 2 \\, x^{3} y^{2} + x y^{3}} - \\frac{0.5 \\, y^{3} \\frac{\\partial}{\\partial x}z\\left(x, y\\right)}{x^{5} y + 2 \\, x^{3} y^{2} + x y^{3}} - \\frac{0.25 \\, x^{2} y \\frac{\\partial}{\\partial y}z\\left(x, y\\right)}{x^{5} y + 2 \\, x^{3} y^{2} + x y^{3}} + \\frac{0.25 \\, y^{2} \\frac{\\partial}{\\partial y}z\\left(x, y\\right)}{x^{5} y + 2 \\, x^{3} y^{2} + x y^{3}}</script></html>"
      ],
      "text/latex": [
       "\\begin{math}\n",
       "\\newcommand{\\Bold}[1]{\\mathbf{#1}}\\frac{x^{5} y \\frac{\\partial^{2}}{(\\partial x)^{2}}z\\left(x, y\\right)}{x^{5} y + 2 \\, x^{3} y^{2} + x y^{3}} + \\frac{x^{5} \\frac{\\partial}{\\partial x}w\\left(x, y\\right)}{2 \\, {\\left(x^{5} y + 2 \\, x^{3} y^{2} + x y^{3}\\right)}} - \\frac{0.5 \\, x^{4} y \\frac{\\partial}{\\partial x}w\\left(x, y\\right)}{x^{5} y + 2 \\, x^{3} y^{2} + x y^{3}} + \\frac{2 \\, x^{3} y^{2} \\frac{\\partial^{2}}{(\\partial x)^{2}}z\\left(x, y\\right)}{x^{5} y + 2 \\, x^{3} y^{2} + x y^{3}} + \\frac{x^{3} y \\frac{\\partial}{\\partial x}w\\left(x, y\\right)}{x^{5} y + 2 \\, x^{3} y^{2} + x y^{3}} - \\frac{1.0 \\, x^{2} y^{2} \\frac{\\partial}{\\partial x}w\\left(x, y\\right)}{x^{5} y + 2 \\, x^{3} y^{2} + x y^{3}} - \\frac{0.25 \\, x^{2} y^{2} \\frac{\\partial}{\\partial y}w\\left(x, y\\right)}{x^{5} y + 2 \\, x^{3} y^{2} + x y^{3}} - \\frac{0.5 \\, x^{2} y^{2} \\frac{\\partial}{\\partial x}z\\left(x, y\\right)}{x^{5} y + 2 \\, x^{3} y^{2} + x y^{3}} + \\frac{x y^{3} \\frac{\\partial^{2}}{(\\partial x)^{2}}z\\left(x, y\\right)}{x^{5} y + 2 \\, x^{3} y^{2} + x y^{3}} + \\frac{x y^{2} \\frac{\\partial}{\\partial x}w\\left(x, y\\right)}{2 \\, {\\left(x^{5} y + 2 \\, x^{3} y^{2} + x y^{3}\\right)}} - \\frac{0.5 \\, y^{3} \\frac{\\partial}{\\partial x}w\\left(x, y\\right)}{x^{5} y + 2 \\, x^{3} y^{2} + x y^{3}} - \\frac{0.25 \\, y^{3} \\frac{\\partial}{\\partial y}w\\left(x, y\\right)}{x^{5} y + 2 \\, x^{3} y^{2} + x y^{3}} - \\frac{0.5 \\, y^{3} \\frac{\\partial}{\\partial x}z\\left(x, y\\right)}{x^{5} y + 2 \\, x^{3} y^{2} + x y^{3}} - \\frac{0.25 \\, x^{2} y \\frac{\\partial}{\\partial y}z\\left(x, y\\right)}{x^{5} y + 2 \\, x^{3} y^{2} + x y^{3}} + \\frac{0.25 \\, y^{2} \\frac{\\partial}{\\partial y}z\\left(x, y\\right)}{x^{5} y + 2 \\, x^{3} y^{2} + x y^{3}}\n",
       "\\end{math}"
      ],
      "text/plain": [
       "x^5*y*diff(z(x, y), x, x)/(x^5*y + 2*x^3*y^2 + x*y^3) + 1/2*x^5*diff(w(x, y), x)/(x^5*y + 2*x^3*y^2 + x*y^3) - 0.5*x^4*y*diff(w(x, y), x)/(x^5*y + 2*x^3*y^2 + x*y^3) + 2*x^3*y^2*diff(z(x, y), x, x)/(x^5*y + 2*x^3*y^2 + x*y^3) + x^3*y*diff(w(x, y), x)/(x^5*y + 2*x^3*y^2 + x*y^3) - 1.0*x^2*y^2*diff(w(x, y), x)/(x^5*y + 2*x^3*y^2 + x*y^3) - 0.25*x^2*y^2*diff(w(x, y), y)/(x^5*y + 2*x^3*y^2 + x*y^3) - 0.5*x^2*y^2*diff(z(x, y), x)/(x^5*y + 2*x^3*y^2 + x*y^3) + x*y^3*diff(z(x, y), x, x)/(x^5*y + 2*x^3*y^2 + x*y^3) + 1/2*x*y^2*diff(w(x, y), x)/(x^5*y + 2*x^3*y^2 + x*y^3) - 0.5*y^3*diff(w(x, y), x)/(x^5*y + 2*x^3*y^2 + x*y^3) - 0.25*y^3*diff(w(x, y), y)/(x^5*y + 2*x^3*y^2 + x*y^3) - 0.5*y^3*diff(z(x, y), x)/(x^5*y + 2*x^3*y^2 + x*y^3) - 0.25*x^2*y*diff(z(x, y), y)/(x^5*y + 2*x^3*y^2 + x*y^3) + 0.25*y^2*diff(z(x, y), y)/(x^5*y + 2*x^3*y^2 + x*y^3)"
      ]
     },
     "metadata": {},
     "output_type": "display_data"
    },
    {
     "name": "stdout",
     "output_type": "stream",
     "text": [
      "Try to reduce r2 with r0\n",
      "have reduced!\n"
     ]
    },
    {
     "data": {
      "text/html": [
       "<html><script type=\"math/tex; mode=display\">\\newcommand{\\Bold}[1]{\\mathbf{#1}}-\\frac{1.0 \\, y \\frac{\\partial}{\\partial y}w\\left(x, y\\right)}{x} - \\frac{2.0 \\, y \\frac{\\partial}{\\partial x}z\\left(x, y\\right)}{x} - \\frac{\\frac{\\partial}{\\partial y}w\\left(x, y\\right)}{y} + \\frac{w\\left(x, y\\right)}{y^{2}} + 1.0 \\, \\frac{\\partial^{2}}{(\\partial y)^{2}}w\\left(x, y\\right)</script></html>"
      ],
      "text/latex": [
       "\\begin{math}\n",
       "\\newcommand{\\Bold}[1]{\\mathbf{#1}}-\\frac{1.0 \\, y \\frac{\\partial}{\\partial y}w\\left(x, y\\right)}{x} - \\frac{2.0 \\, y \\frac{\\partial}{\\partial x}z\\left(x, y\\right)}{x} - \\frac{\\frac{\\partial}{\\partial y}w\\left(x, y\\right)}{y} + \\frac{w\\left(x, y\\right)}{y^{2}} + 1.0 \\, \\frac{\\partial^{2}}{(\\partial y)^{2}}w\\left(x, y\\right)\n",
       "\\end{math}"
      ],
      "text/plain": [
       "-1.0*y*diff(w(x, y), y)/x - 2.0*y*diff(z(x, y), x)/x - diff(w(x, y), y)/y + w(x, y)/y^2 + 1.0*diff(w(x, y), y, y)"
      ]
     },
     "metadata": {},
     "output_type": "display_data"
    },
    {
     "name": "stdout",
     "output_type": "stream",
     "text": [
      "Try to reduce r3 with r0\n",
      "no reduction?\n",
      "Try to reduce r4 with r0\n",
      "have reduced!\n"
     ]
    },
    {
     "data": {
      "text/html": [
       "<html><script type=\"math/tex; mode=display\">\\newcommand{\\Bold}[1]{\\mathbf{#1}}-\\frac{1.0 \\, y \\frac{\\partial}{\\partial y}w\\left(x, y\\right)}{x} - \\frac{2.0 \\, y \\frac{\\partial}{\\partial x}z\\left(x, y\\right)}{x} + \\frac{x \\frac{\\partial}{\\partial y}z\\left(x, y\\right)}{y} - \\frac{\\frac{\\partial}{\\partial x}w\\left(x, y\\right)}{y} + \\frac{\\frac{\\partial}{\\partial y}w\\left(x, y\\right)}{2 \\, y} - \\frac{w\\left(x, y\\right)}{2 \\, y^{2}} + 1.0 \\, \\frac{\\partial^{2}}{\\partial x\\partial y}w\\left(x, y\\right)</script></html>"
      ],
      "text/latex": [
       "\\begin{math}\n",
       "\\newcommand{\\Bold}[1]{\\mathbf{#1}}-\\frac{1.0 \\, y \\frac{\\partial}{\\partial y}w\\left(x, y\\right)}{x} - \\frac{2.0 \\, y \\frac{\\partial}{\\partial x}z\\left(x, y\\right)}{x} + \\frac{x \\frac{\\partial}{\\partial y}z\\left(x, y\\right)}{y} - \\frac{\\frac{\\partial}{\\partial x}w\\left(x, y\\right)}{y} + \\frac{\\frac{\\partial}{\\partial y}w\\left(x, y\\right)}{2 \\, y} - \\frac{w\\left(x, y\\right)}{2 \\, y^{2}} + 1.0 \\, \\frac{\\partial^{2}}{\\partial x\\partial y}w\\left(x, y\\right)\n",
       "\\end{math}"
      ],
      "text/plain": [
       "-1.0*y*diff(w(x, y), y)/x - 2.0*y*diff(z(x, y), x)/x + x*diff(z(x, y), y)/y - diff(w(x, y), x)/y + 1/2*diff(w(x, y), y)/y - 1/2*w(x, y)/y^2 + 1.0*diff(w(x, y), x, y)"
      ]
     },
     "metadata": {},
     "output_type": "display_data"
    },
    {
     "name": "stdout",
     "output_type": "stream",
     "text": [
      "This is the new System........\n"
     ]
    },
    {
     "data": {
      "text/html": [
       "<html><script type=\"math/tex; mode=display\">\\newcommand{\\Bold}[1]{\\mathbf{#1}}-\\frac{2 \\, x \\frac{\\partial^{2}}{(\\partial x)^{2}}z\\left(x, y\\right)}{y} - \\frac{x \\frac{\\partial}{\\partial x}w\\left(x, y\\right)}{y^{2}} + \\frac{1.0 \\, \\frac{\\partial}{\\partial x}w\\left(x, y\\right)}{y} - \\frac{0.5 \\, x \\frac{\\partial^{2}}{\\partial x\\partial y}z\\left(x, y\\right)}{{\\left(x^{2} + y\\right)} y} + \\frac{1.0 \\, x^{2} \\frac{\\partial}{\\partial y}z\\left(x, y\\right)}{{\\left(x^{2} + y\\right)}^{2} y} - \\frac{0.5 \\, \\frac{\\partial}{\\partial y}z\\left(x, y\\right)}{{\\left(x^{2} + y\\right)} y}</script></html>"
      ],
      "text/latex": [
       "\\begin{math}\n",
       "\\newcommand{\\Bold}[1]{\\mathbf{#1}}-\\frac{2 \\, x \\frac{\\partial^{2}}{(\\partial x)^{2}}z\\left(x, y\\right)}{y} - \\frac{x \\frac{\\partial}{\\partial x}w\\left(x, y\\right)}{y^{2}} + \\frac{1.0 \\, \\frac{\\partial}{\\partial x}w\\left(x, y\\right)}{y} - \\frac{0.5 \\, x \\frac{\\partial^{2}}{\\partial x\\partial y}z\\left(x, y\\right)}{{\\left(x^{2} + y\\right)} y} + \\frac{1.0 \\, x^{2} \\frac{\\partial}{\\partial y}z\\left(x, y\\right)}{{\\left(x^{2} + y\\right)}^{2} y} - \\frac{0.5 \\, \\frac{\\partial}{\\partial y}z\\left(x, y\\right)}{{\\left(x^{2} + y\\right)} y}\n",
       "\\end{math}"
      ],
      "text/plain": [
       "-2*x*diff(z(x, y), x, x)/y - x*diff(w(x, y), x)/y^2 + 1.0*diff(w(x, y), x)/y - 0.5*x*diff(z(x, y), x, y)/((x^2 + y)*y) + 1.0*x^2*diff(z(x, y), y)/((x^2 + y)^2*y) - 0.5*diff(z(x, y), y)/((x^2 + y)*y)"
      ]
     },
     "metadata": {},
     "output_type": "display_data"
    },
    {
     "data": {
      "text/html": [
       "<html><script type=\"math/tex; mode=display\">\\newcommand{\\Bold}[1]{\\mathbf{#1}}-\\frac{\\frac{\\partial}{\\partial y}w\\left(x, y\\right)}{y} + \\frac{w\\left(x, y\\right)}{y^{2}} + \\frac{\\partial^{2}}{(\\partial y)^{2}}w\\left(x, y\\right) + \\frac{\\partial^{2}}{\\partial x\\partial y}z\\left(x, y\\right)</script></html>"
      ],
      "text/latex": [
       "\\begin{math}\n",
       "\\newcommand{\\Bold}[1]{\\mathbf{#1}}-\\frac{\\frac{\\partial}{\\partial y}w\\left(x, y\\right)}{y} + \\frac{w\\left(x, y\\right)}{y^{2}} + \\frac{\\partial^{2}}{(\\partial y)^{2}}w\\left(x, y\\right) + \\frac{\\partial^{2}}{\\partial x\\partial y}z\\left(x, y\\right)\n",
       "\\end{math}"
      ],
      "text/plain": [
       "-diff(w(x, y), y)/y + w(x, y)/y^2 + diff(w(x, y), y, y) + diff(z(x, y), x, y)"
      ]
     },
     "metadata": {},
     "output_type": "display_data"
    },
    {
     "data": {
      "text/html": [
       "<html><script type=\"math/tex; mode=display\">\\newcommand{\\Bold}[1]{\\mathbf{#1}}\\frac{x \\frac{\\partial}{\\partial y}z\\left(x, y\\right)}{y} - \\frac{\\frac{\\partial}{\\partial x}w\\left(x, y\\right)}{y} + \\frac{\\frac{\\partial}{\\partial y}w\\left(x, y\\right)}{2 \\, y} - \\frac{w\\left(x, y\\right)}{2 \\, y^{2}} + \\frac{\\partial^{2}}{\\partial x\\partial y}w\\left(x, y\\right) + \\frac{\\partial^{2}}{\\partial x\\partial y}z\\left(x, y\\right)</script></html>"
      ],
      "text/latex": [
       "\\begin{math}\n",
       "\\newcommand{\\Bold}[1]{\\mathbf{#1}}\\frac{x \\frac{\\partial}{\\partial y}z\\left(x, y\\right)}{y} - \\frac{\\frac{\\partial}{\\partial x}w\\left(x, y\\right)}{y} + \\frac{\\frac{\\partial}{\\partial y}w\\left(x, y\\right)}{2 \\, y} - \\frac{w\\left(x, y\\right)}{2 \\, y^{2}} + \\frac{\\partial^{2}}{\\partial x\\partial y}w\\left(x, y\\right) + \\frac{\\partial^{2}}{\\partial x\\partial y}z\\left(x, y\\right)\n",
       "\\end{math}"
      ],
      "text/plain": [
       "x*diff(z(x, y), y)/y - diff(w(x, y), x)/y + 1/2*diff(w(x, y), y)/y - 1/2*w(x, y)/y^2 + diff(w(x, y), x, y) + diff(z(x, y), x, y)"
      ]
     },
     "metadata": {},
     "output_type": "display_data"
    },
    {
     "data": {
      "text/html": [
       "<html><script type=\"math/tex; mode=display\">\\newcommand{\\Bold}[1]{\\mathbf{#1}}-\\frac{2 \\, x \\frac{\\partial^{2}}{(\\partial x)^{2}}z\\left(x, y\\right)}{y} - \\frac{x \\frac{\\partial}{\\partial x}w\\left(x, y\\right)}{y^{2}} + \\frac{\\partial^{2}}{\\partial x\\partial y}w\\left(x, y\\right)</script></html>"
      ],
      "text/latex": [
       "\\begin{math}\n",
       "\\newcommand{\\Bold}[1]{\\mathbf{#1}}-\\frac{2 \\, x \\frac{\\partial^{2}}{(\\partial x)^{2}}z\\left(x, y\\right)}{y} - \\frac{x \\frac{\\partial}{\\partial x}w\\left(x, y\\right)}{y^{2}} + \\frac{\\partial^{2}}{\\partial x\\partial y}w\\left(x, y\\right)\n",
       "\\end{math}"
      ],
      "text/plain": [
       "-2*x*diff(z(x, y), x, x)/y - x*diff(w(x, y), x)/y^2 + diff(w(x, y), x, y)"
      ]
     },
     "metadata": {},
     "output_type": "display_data"
    },
    {
     "data": {
      "text/html": [
       "<html><script type=\"math/tex; mode=display\">\\newcommand{\\Bold}[1]{\\mathbf{#1}}-\\frac{1.0 \\, y \\frac{\\partial}{\\partial y}w\\left(x, y\\right)}{x} - \\frac{2.0 \\, y \\frac{\\partial}{\\partial x}z\\left(x, y\\right)}{x} + \\frac{x \\frac{\\partial}{\\partial y}z\\left(x, y\\right)}{y} - \\frac{\\frac{\\partial}{\\partial x}w\\left(x, y\\right)}{y} + \\frac{\\frac{\\partial}{\\partial y}w\\left(x, y\\right)}{2 \\, y} - \\frac{w\\left(x, y\\right)}{2 \\, y^{2}} + 1.0 \\, \\frac{\\partial^{2}}{\\partial x\\partial y}w\\left(x, y\\right)</script></html>"
      ],
      "text/latex": [
       "\\begin{math}\n",
       "\\newcommand{\\Bold}[1]{\\mathbf{#1}}-\\frac{1.0 \\, y \\frac{\\partial}{\\partial y}w\\left(x, y\\right)}{x} - \\frac{2.0 \\, y \\frac{\\partial}{\\partial x}z\\left(x, y\\right)}{x} + \\frac{x \\frac{\\partial}{\\partial y}z\\left(x, y\\right)}{y} - \\frac{\\frac{\\partial}{\\partial x}w\\left(x, y\\right)}{y} + \\frac{\\frac{\\partial}{\\partial y}w\\left(x, y\\right)}{2 \\, y} - \\frac{w\\left(x, y\\right)}{2 \\, y^{2}} + 1.0 \\, \\frac{\\partial^{2}}{\\partial x\\partial y}w\\left(x, y\\right)\n",
       "\\end{math}"
      ],
      "text/plain": [
       "-1.0*y*diff(w(x, y), y)/x - 2.0*y*diff(z(x, y), x)/x + x*diff(z(x, y), y)/y - diff(w(x, y), x)/y + 1/2*diff(w(x, y), y)/y - 1/2*w(x, y)/y^2 + 1.0*diff(w(x, y), x, y)"
      ]
     },
     "metadata": {},
     "output_type": "display_data"
    },
    {
     "name": "stdout",
     "output_type": "stream",
     "text": [
      "Try to reduce r1 with r0\n",
      "no reduction?\n",
      "Try to reduce r2 with r0\n",
      "no reduction?\n",
      "no reduction?\n",
      "Try to reduce r3 with r0\n",
      "have reduced!\n"
     ]
    },
    {
     "data": {
      "text/html": [
       "<html><script type=\"math/tex; mode=display\">\\newcommand{\\Bold}[1]{\\mathbf{#1}}\\frac{1.0 \\, x^{4} y \\frac{\\partial^{2}}{\\partial x\\partial y}w\\left(x, y\\right)}{x^{4} y + 2 \\, x^{2} y^{2} + y^{3}} - \\frac{1.0 \\, x^{4} \\frac{\\partial}{\\partial x}w\\left(x, y\\right)}{x^{4} y + 2 \\, x^{2} y^{2} + y^{3}} + \\frac{2.0 \\, x^{2} y^{2} \\frac{\\partial^{2}}{\\partial x\\partial y}w\\left(x, y\\right)}{x^{4} y + 2 \\, x^{2} y^{2} + y^{3}} - \\frac{2.0 \\, x^{2} y \\frac{\\partial}{\\partial x}w\\left(x, y\\right)}{x^{4} y + 2 \\, x^{2} y^{2} + y^{3}} + \\frac{1.0 \\, y^{3} \\frac{\\partial^{2}}{\\partial x\\partial y}w\\left(x, y\\right)}{x^{4} y + 2 \\, x^{2} y^{2} + y^{3}} + \\frac{0.5 \\, x^{3} \\frac{\\partial^{2}}{\\partial x\\partial y}z\\left(x, y\\right)}{x^{4} y + 2 \\, x^{2} y^{2} + y^{3}} - \\frac{1.0 \\, y^{2} \\frac{\\partial}{\\partial x}w\\left(x, y\\right)}{x^{4} y + 2 \\, x^{2} y^{2} + y^{3}} + \\frac{0.5 \\, x y \\frac{\\partial^{2}}{\\partial x\\partial y}z\\left(x, y\\right)}{x^{4} y + 2 \\, x^{2} y^{2} + y^{3}} - \\frac{0.5 \\, x^{2} \\frac{\\partial}{\\partial y}z\\left(x, y\\right)}{x^{4} y + 2 \\, x^{2} y^{2} + y^{3}} + \\frac{0.5 \\, y \\frac{\\partial}{\\partial y}z\\left(x, y\\right)}{x^{4} y + 2 \\, x^{2} y^{2} + y^{3}}</script></html>"
      ],
      "text/latex": [
       "\\begin{math}\n",
       "\\newcommand{\\Bold}[1]{\\mathbf{#1}}\\frac{1.0 \\, x^{4} y \\frac{\\partial^{2}}{\\partial x\\partial y}w\\left(x, y\\right)}{x^{4} y + 2 \\, x^{2} y^{2} + y^{3}} - \\frac{1.0 \\, x^{4} \\frac{\\partial}{\\partial x}w\\left(x, y\\right)}{x^{4} y + 2 \\, x^{2} y^{2} + y^{3}} + \\frac{2.0 \\, x^{2} y^{2} \\frac{\\partial^{2}}{\\partial x\\partial y}w\\left(x, y\\right)}{x^{4} y + 2 \\, x^{2} y^{2} + y^{3}} - \\frac{2.0 \\, x^{2} y \\frac{\\partial}{\\partial x}w\\left(x, y\\right)}{x^{4} y + 2 \\, x^{2} y^{2} + y^{3}} + \\frac{1.0 \\, y^{3} \\frac{\\partial^{2}}{\\partial x\\partial y}w\\left(x, y\\right)}{x^{4} y + 2 \\, x^{2} y^{2} + y^{3}} + \\frac{0.5 \\, x^{3} \\frac{\\partial^{2}}{\\partial x\\partial y}z\\left(x, y\\right)}{x^{4} y + 2 \\, x^{2} y^{2} + y^{3}} - \\frac{1.0 \\, y^{2} \\frac{\\partial}{\\partial x}w\\left(x, y\\right)}{x^{4} y + 2 \\, x^{2} y^{2} + y^{3}} + \\frac{0.5 \\, x y \\frac{\\partial^{2}}{\\partial x\\partial y}z\\left(x, y\\right)}{x^{4} y + 2 \\, x^{2} y^{2} + y^{3}} - \\frac{0.5 \\, x^{2} \\frac{\\partial}{\\partial y}z\\left(x, y\\right)}{x^{4} y + 2 \\, x^{2} y^{2} + y^{3}} + \\frac{0.5 \\, y \\frac{\\partial}{\\partial y}z\\left(x, y\\right)}{x^{4} y + 2 \\, x^{2} y^{2} + y^{3}}\n",
       "\\end{math}"
      ],
      "text/plain": [
       "1.0*x^4*y*diff(w(x, y), x, y)/(x^4*y + 2*x^2*y^2 + y^3) - 1.0*x^4*diff(w(x, y), x)/(x^4*y + 2*x^2*y^2 + y^3) + 2.0*x^2*y^2*diff(w(x, y), x, y)/(x^4*y + 2*x^2*y^2 + y^3) - 2.0*x^2*y*diff(w(x, y), x)/(x^4*y + 2*x^2*y^2 + y^3) + 1.0*y^3*diff(w(x, y), x, y)/(x^4*y + 2*x^2*y^2 + y^3) + 0.5*x^3*diff(z(x, y), x, y)/(x^4*y + 2*x^2*y^2 + y^3) - 1.0*y^2*diff(w(x, y), x)/(x^4*y + 2*x^2*y^2 + y^3) + 0.5*x*y*diff(z(x, y), x, y)/(x^4*y + 2*x^2*y^2 + y^3) - 0.5*x^2*diff(z(x, y), y)/(x^4*y + 2*x^2*y^2 + y^3) + 0.5*y*diff(z(x, y), y)/(x^4*y + 2*x^2*y^2 + y^3)"
      ]
     },
     "metadata": {},
     "output_type": "display_data"
    },
    {
     "name": "stdout",
     "output_type": "stream",
     "text": [
      "Try to reduce r4 with r0\n",
      "no reduction?\n",
      "no reduction?\n",
      "This is the new System........\n"
     ]
    },
    {
     "data": {
      "text/html": [
       "<html><script type=\"math/tex; mode=display\">\\newcommand{\\Bold}[1]{\\mathbf{#1}}-\\frac{\\frac{\\partial}{\\partial y}w\\left(x, y\\right)}{y} + \\frac{w\\left(x, y\\right)}{y^{2}} + \\frac{\\partial^{2}}{(\\partial y)^{2}}w\\left(x, y\\right) + \\frac{\\partial^{2}}{\\partial x\\partial y}z\\left(x, y\\right)</script></html>"
      ],
      "text/latex": [
       "\\begin{math}\n",
       "\\newcommand{\\Bold}[1]{\\mathbf{#1}}-\\frac{\\frac{\\partial}{\\partial y}w\\left(x, y\\right)}{y} + \\frac{w\\left(x, y\\right)}{y^{2}} + \\frac{\\partial^{2}}{(\\partial y)^{2}}w\\left(x, y\\right) + \\frac{\\partial^{2}}{\\partial x\\partial y}z\\left(x, y\\right)\n",
       "\\end{math}"
      ],
      "text/plain": [
       "-diff(w(x, y), y)/y + w(x, y)/y^2 + diff(w(x, y), y, y) + diff(z(x, y), x, y)"
      ]
     },
     "metadata": {},
     "output_type": "display_data"
    },
    {
     "data": {
      "text/html": [
       "<html><script type=\"math/tex; mode=display\">\\newcommand{\\Bold}[1]{\\mathbf{#1}}-\\frac{1.0 \\, y \\frac{\\partial}{\\partial y}w\\left(x, y\\right)}{x} - \\frac{2.0 \\, y \\frac{\\partial}{\\partial x}z\\left(x, y\\right)}{x} + \\frac{x \\frac{\\partial}{\\partial y}z\\left(x, y\\right)}{y} - \\frac{\\frac{\\partial}{\\partial x}w\\left(x, y\\right)}{y} + \\frac{\\frac{\\partial}{\\partial y}w\\left(x, y\\right)}{2 \\, y} - \\frac{w\\left(x, y\\right)}{2 \\, y^{2}} + 1.0 \\, \\frac{\\partial^{2}}{\\partial x\\partial y}w\\left(x, y\\right)</script></html>"
      ],
      "text/latex": [
       "\\begin{math}\n",
       "\\newcommand{\\Bold}[1]{\\mathbf{#1}}-\\frac{1.0 \\, y \\frac{\\partial}{\\partial y}w\\left(x, y\\right)}{x} - \\frac{2.0 \\, y \\frac{\\partial}{\\partial x}z\\left(x, y\\right)}{x} + \\frac{x \\frac{\\partial}{\\partial y}z\\left(x, y\\right)}{y} - \\frac{\\frac{\\partial}{\\partial x}w\\left(x, y\\right)}{y} + \\frac{\\frac{\\partial}{\\partial y}w\\left(x, y\\right)}{2 \\, y} - \\frac{w\\left(x, y\\right)}{2 \\, y^{2}} + 1.0 \\, \\frac{\\partial^{2}}{\\partial x\\partial y}w\\left(x, y\\right)\n",
       "\\end{math}"
      ],
      "text/plain": [
       "-1.0*y*diff(w(x, y), y)/x - 2.0*y*diff(z(x, y), x)/x + x*diff(z(x, y), y)/y - diff(w(x, y), x)/y + 1/2*diff(w(x, y), y)/y - 1/2*w(x, y)/y^2 + 1.0*diff(w(x, y), x, y)"
      ]
     },
     "metadata": {},
     "output_type": "display_data"
    },
    {
     "data": {
      "text/html": [
       "<html><script type=\"math/tex; mode=display\">\\newcommand{\\Bold}[1]{\\mathbf{#1}}-\\frac{2 \\, x \\frac{\\partial^{2}}{(\\partial x)^{2}}z\\left(x, y\\right)}{y} - \\frac{x \\frac{\\partial}{\\partial x}w\\left(x, y\\right)}{y^{2}} + \\frac{\\partial^{2}}{\\partial x\\partial y}w\\left(x, y\\right)</script></html>"
      ],
      "text/latex": [
       "\\begin{math}\n",
       "\\newcommand{\\Bold}[1]{\\mathbf{#1}}-\\frac{2 \\, x \\frac{\\partial^{2}}{(\\partial x)^{2}}z\\left(x, y\\right)}{y} - \\frac{x \\frac{\\partial}{\\partial x}w\\left(x, y\\right)}{y^{2}} + \\frac{\\partial^{2}}{\\partial x\\partial y}w\\left(x, y\\right)\n",
       "\\end{math}"
      ],
      "text/plain": [
       "-2*x*diff(z(x, y), x, x)/y - x*diff(w(x, y), x)/y^2 + diff(w(x, y), x, y)"
      ]
     },
     "metadata": {},
     "output_type": "display_data"
    },
    {
     "data": {
      "text/html": [
       "<html><script type=\"math/tex; mode=display\">\\newcommand{\\Bold}[1]{\\mathbf{#1}}\\frac{x \\frac{\\partial}{\\partial y}z\\left(x, y\\right)}{y} - \\frac{\\frac{\\partial}{\\partial x}w\\left(x, y\\right)}{y} + \\frac{\\frac{\\partial}{\\partial y}w\\left(x, y\\right)}{2 \\, y} - \\frac{w\\left(x, y\\right)}{2 \\, y^{2}} + \\frac{\\partial^{2}}{\\partial x\\partial y}w\\left(x, y\\right) + \\frac{\\partial^{2}}{\\partial x\\partial y}z\\left(x, y\\right)</script></html>"
      ],
      "text/latex": [
       "\\begin{math}\n",
       "\\newcommand{\\Bold}[1]{\\mathbf{#1}}\\frac{x \\frac{\\partial}{\\partial y}z\\left(x, y\\right)}{y} - \\frac{\\frac{\\partial}{\\partial x}w\\left(x, y\\right)}{y} + \\frac{\\frac{\\partial}{\\partial y}w\\left(x, y\\right)}{2 \\, y} - \\frac{w\\left(x, y\\right)}{2 \\, y^{2}} + \\frac{\\partial^{2}}{\\partial x\\partial y}w\\left(x, y\\right) + \\frac{\\partial^{2}}{\\partial x\\partial y}z\\left(x, y\\right)\n",
       "\\end{math}"
      ],
      "text/plain": [
       "x*diff(z(x, y), y)/y - diff(w(x, y), x)/y + 1/2*diff(w(x, y), y)/y - 1/2*w(x, y)/y^2 + diff(w(x, y), x, y) + diff(z(x, y), x, y)"
      ]
     },
     "metadata": {},
     "output_type": "display_data"
    },
    {
     "data": {
      "text/html": [
       "<html><script type=\"math/tex; mode=display\">\\newcommand{\\Bold}[1]{\\mathbf{#1}}-\\frac{1.0 \\, y \\frac{\\partial}{\\partial y}w\\left(x, y\\right)}{x} - \\frac{2.0 \\, y \\frac{\\partial}{\\partial x}z\\left(x, y\\right)}{x} + \\frac{x \\frac{\\partial}{\\partial y}z\\left(x, y\\right)}{y} - \\frac{\\frac{\\partial}{\\partial x}w\\left(x, y\\right)}{y} + \\frac{\\frac{\\partial}{\\partial y}w\\left(x, y\\right)}{2 \\, y} - \\frac{w\\left(x, y\\right)}{2 \\, y^{2}} + 1.0 \\, \\frac{\\partial^{2}}{\\partial x\\partial y}w\\left(x, y\\right)</script></html>"
      ],
      "text/latex": [
       "\\begin{math}\n",
       "\\newcommand{\\Bold}[1]{\\mathbf{#1}}-\\frac{1.0 \\, y \\frac{\\partial}{\\partial y}w\\left(x, y\\right)}{x} - \\frac{2.0 \\, y \\frac{\\partial}{\\partial x}z\\left(x, y\\right)}{x} + \\frac{x \\frac{\\partial}{\\partial y}z\\left(x, y\\right)}{y} - \\frac{\\frac{\\partial}{\\partial x}w\\left(x, y\\right)}{y} + \\frac{\\frac{\\partial}{\\partial y}w\\left(x, y\\right)}{2 \\, y} - \\frac{w\\left(x, y\\right)}{2 \\, y^{2}} + 1.0 \\, \\frac{\\partial^{2}}{\\partial x\\partial y}w\\left(x, y\\right)\n",
       "\\end{math}"
      ],
      "text/plain": [
       "-1.0*y*diff(w(x, y), y)/x - 2.0*y*diff(z(x, y), x)/x + x*diff(z(x, y), y)/y - diff(w(x, y), x)/y + 1/2*diff(w(x, y), y)/y - 1/2*w(x, y)/y^2 + 1.0*diff(w(x, y), x, y)"
      ]
     },
     "metadata": {},
     "output_type": "display_data"
    },
    {
     "name": "stdout",
     "output_type": "stream",
     "text": [
      "Try to reduce r1 with r0\n",
      "no reduction?\n",
      "no reduction?\n",
      "no reduction?\n",
      "Try to reduce r2 with r0\n",
      "no reduction?\n",
      "no reduction?\n",
      "Try to reduce r3 with r0\n",
      "no reduction?\n",
      "no reduction?\n",
      "no reduction?\n",
      "Try to reduce r4 with r0\n",
      "no reduction?\n",
      "no reduction?\n",
      "no reduction?\n",
      "This is the new System........\n"
     ]
    },
    {
     "data": {
      "text/html": [
       "<html><script type=\"math/tex; mode=display\">\\newcommand{\\Bold}[1]{\\mathbf{#1}}-\\frac{1.0 \\, y \\frac{\\partial}{\\partial y}w\\left(x, y\\right)}{x} - \\frac{2.0 \\, y \\frac{\\partial}{\\partial x}z\\left(x, y\\right)}{x} + \\frac{x \\frac{\\partial}{\\partial y}z\\left(x, y\\right)}{y} - \\frac{\\frac{\\partial}{\\partial x}w\\left(x, y\\right)}{y} + \\frac{\\frac{\\partial}{\\partial y}w\\left(x, y\\right)}{2 \\, y} - \\frac{w\\left(x, y\\right)}{2 \\, y^{2}} + 1.0 \\, \\frac{\\partial^{2}}{\\partial x\\partial y}w\\left(x, y\\right)</script></html>"
      ],
      "text/latex": [
       "\\begin{math}\n",
       "\\newcommand{\\Bold}[1]{\\mathbf{#1}}-\\frac{1.0 \\, y \\frac{\\partial}{\\partial y}w\\left(x, y\\right)}{x} - \\frac{2.0 \\, y \\frac{\\partial}{\\partial x}z\\left(x, y\\right)}{x} + \\frac{x \\frac{\\partial}{\\partial y}z\\left(x, y\\right)}{y} - \\frac{\\frac{\\partial}{\\partial x}w\\left(x, y\\right)}{y} + \\frac{\\frac{\\partial}{\\partial y}w\\left(x, y\\right)}{2 \\, y} - \\frac{w\\left(x, y\\right)}{2 \\, y^{2}} + 1.0 \\, \\frac{\\partial^{2}}{\\partial x\\partial y}w\\left(x, y\\right)\n",
       "\\end{math}"
      ],
      "text/plain": [
       "-1.0*y*diff(w(x, y), y)/x - 2.0*y*diff(z(x, y), x)/x + x*diff(z(x, y), y)/y - diff(w(x, y), x)/y + 1/2*diff(w(x, y), y)/y - 1/2*w(x, y)/y^2 + 1.0*diff(w(x, y), x, y)"
      ]
     },
     "metadata": {},
     "output_type": "display_data"
    },
    {
     "data": {
      "text/html": [
       "<html><script type=\"math/tex; mode=display\">\\newcommand{\\Bold}[1]{\\mathbf{#1}}\\frac{x \\frac{\\partial}{\\partial y}z\\left(x, y\\right)}{y} - \\frac{\\frac{\\partial}{\\partial x}w\\left(x, y\\right)}{y} + \\frac{\\frac{\\partial}{\\partial y}w\\left(x, y\\right)}{2 \\, y} - \\frac{w\\left(x, y\\right)}{2 \\, y^{2}} + \\frac{\\partial^{2}}{\\partial x\\partial y}w\\left(x, y\\right) + \\frac{\\partial^{2}}{\\partial x\\partial y}z\\left(x, y\\right)</script></html>"
      ],
      "text/latex": [
       "\\begin{math}\n",
       "\\newcommand{\\Bold}[1]{\\mathbf{#1}}\\frac{x \\frac{\\partial}{\\partial y}z\\left(x, y\\right)}{y} - \\frac{\\frac{\\partial}{\\partial x}w\\left(x, y\\right)}{y} + \\frac{\\frac{\\partial}{\\partial y}w\\left(x, y\\right)}{2 \\, y} - \\frac{w\\left(x, y\\right)}{2 \\, y^{2}} + \\frac{\\partial^{2}}{\\partial x\\partial y}w\\left(x, y\\right) + \\frac{\\partial^{2}}{\\partial x\\partial y}z\\left(x, y\\right)\n",
       "\\end{math}"
      ],
      "text/plain": [
       "x*diff(z(x, y), y)/y - diff(w(x, y), x)/y + 1/2*diff(w(x, y), y)/y - 1/2*w(x, y)/y^2 + diff(w(x, y), x, y) + diff(z(x, y), x, y)"
      ]
     },
     "metadata": {},
     "output_type": "display_data"
    },
    {
     "data": {
      "text/html": [
       "<html><script type=\"math/tex; mode=display\">\\newcommand{\\Bold}[1]{\\mathbf{#1}}-\\frac{2 \\, x \\frac{\\partial^{2}}{(\\partial x)^{2}}z\\left(x, y\\right)}{y} - \\frac{x \\frac{\\partial}{\\partial x}w\\left(x, y\\right)}{y^{2}} + \\frac{\\partial^{2}}{\\partial x\\partial y}w\\left(x, y\\right)</script></html>"
      ],
      "text/latex": [
       "\\begin{math}\n",
       "\\newcommand{\\Bold}[1]{\\mathbf{#1}}-\\frac{2 \\, x \\frac{\\partial^{2}}{(\\partial x)^{2}}z\\left(x, y\\right)}{y} - \\frac{x \\frac{\\partial}{\\partial x}w\\left(x, y\\right)}{y^{2}} + \\frac{\\partial^{2}}{\\partial x\\partial y}w\\left(x, y\\right)\n",
       "\\end{math}"
      ],
      "text/plain": [
       "-2*x*diff(z(x, y), x, x)/y - x*diff(w(x, y), x)/y^2 + diff(w(x, y), x, y)"
      ]
     },
     "metadata": {},
     "output_type": "display_data"
    },
    {
     "data": {
      "text/html": [
       "<html><script type=\"math/tex; mode=display\">\\newcommand{\\Bold}[1]{\\mathbf{#1}}-\\frac{1.0 \\, y \\frac{\\partial}{\\partial y}w\\left(x, y\\right)}{x} - \\frac{2.0 \\, y \\frac{\\partial}{\\partial x}z\\left(x, y\\right)}{x} + \\frac{x \\frac{\\partial}{\\partial y}z\\left(x, y\\right)}{y} - \\frac{\\frac{\\partial}{\\partial x}w\\left(x, y\\right)}{y} + \\frac{\\frac{\\partial}{\\partial y}w\\left(x, y\\right)}{2 \\, y} - \\frac{w\\left(x, y\\right)}{2 \\, y^{2}} + 1.0 \\, \\frac{\\partial^{2}}{\\partial x\\partial y}w\\left(x, y\\right)</script></html>"
      ],
      "text/latex": [
       "\\begin{math}\n",
       "\\newcommand{\\Bold}[1]{\\mathbf{#1}}-\\frac{1.0 \\, y \\frac{\\partial}{\\partial y}w\\left(x, y\\right)}{x} - \\frac{2.0 \\, y \\frac{\\partial}{\\partial x}z\\left(x, y\\right)}{x} + \\frac{x \\frac{\\partial}{\\partial y}z\\left(x, y\\right)}{y} - \\frac{\\frac{\\partial}{\\partial x}w\\left(x, y\\right)}{y} + \\frac{\\frac{\\partial}{\\partial y}w\\left(x, y\\right)}{2 \\, y} - \\frac{w\\left(x, y\\right)}{2 \\, y^{2}} + 1.0 \\, \\frac{\\partial^{2}}{\\partial x\\partial y}w\\left(x, y\\right)\n",
       "\\end{math}"
      ],
      "text/plain": [
       "-1.0*y*diff(w(x, y), y)/x - 2.0*y*diff(z(x, y), x)/x + x*diff(z(x, y), y)/y - diff(w(x, y), x)/y + 1/2*diff(w(x, y), y)/y - 1/2*w(x, y)/y^2 + 1.0*diff(w(x, y), x, y)"
      ]
     },
     "metadata": {},
     "output_type": "display_data"
    },
    {
     "data": {
      "text/html": [
       "<html><script type=\"math/tex; mode=display\">\\newcommand{\\Bold}[1]{\\mathbf{#1}}-\\frac{1.0 \\, y \\frac{\\partial}{\\partial y}w\\left(x, y\\right)}{x} - \\frac{2.0 \\, y \\frac{\\partial}{\\partial x}z\\left(x, y\\right)}{x} + \\frac{x \\frac{\\partial}{\\partial y}z\\left(x, y\\right)}{y} - \\frac{\\frac{\\partial}{\\partial x}w\\left(x, y\\right)}{y} + \\frac{\\frac{\\partial}{\\partial y}w\\left(x, y\\right)}{2 \\, y} - \\frac{w\\left(x, y\\right)}{2 \\, y^{2}} + 1.0 \\, \\frac{\\partial^{2}}{\\partial x\\partial y}w\\left(x, y\\right)</script></html>"
      ],
      "text/latex": [
       "\\begin{math}\n",
       "\\newcommand{\\Bold}[1]{\\mathbf{#1}}-\\frac{1.0 \\, y \\frac{\\partial}{\\partial y}w\\left(x, y\\right)}{x} - \\frac{2.0 \\, y \\frac{\\partial}{\\partial x}z\\left(x, y\\right)}{x} + \\frac{x \\frac{\\partial}{\\partial y}z\\left(x, y\\right)}{y} - \\frac{\\frac{\\partial}{\\partial x}w\\left(x, y\\right)}{y} + \\frac{\\frac{\\partial}{\\partial y}w\\left(x, y\\right)}{2 \\, y} - \\frac{w\\left(x, y\\right)}{2 \\, y^{2}} + 1.0 \\, \\frac{\\partial^{2}}{\\partial x\\partial y}w\\left(x, y\\right)\n",
       "\\end{math}"
      ],
      "text/plain": [
       "-1.0*y*diff(w(x, y), y)/x - 2.0*y*diff(z(x, y), x)/x + x*diff(z(x, y), y)/y - diff(w(x, y), x)/y + 1/2*diff(w(x, y), y)/y - 1/2*w(x, y)/y^2 + 1.0*diff(w(x, y), x, y)"
      ]
     },
     "metadata": {},
     "output_type": "display_data"
    },
    {
     "name": "stdout",
     "output_type": "stream",
     "text": [
      "Try to reduce r2 with r1\n",
      "have reduced!\n"
     ]
    },
    {
     "data": {
      "text/html": [
       "<html><script type=\"math/tex; mode=display\">\\newcommand{\\Bold}[1]{\\mathbf{#1}}-\\frac{2 \\, x \\frac{\\partial^{2}}{(\\partial x)^{2}}z\\left(x, y\\right)}{y} - \\frac{1.0 \\, x \\frac{\\partial}{\\partial y}z\\left(x, y\\right)}{y} - \\frac{x \\frac{\\partial}{\\partial x}w\\left(x, y\\right)}{y^{2}} + \\frac{1.0 \\, \\frac{\\partial}{\\partial x}w\\left(x, y\\right)}{y} - \\frac{0.5 \\, \\frac{\\partial}{\\partial y}w\\left(x, y\\right)}{y} + \\frac{0.5 \\, w\\left(x, y\\right)}{y^{2}} - 1.0 \\, \\frac{\\partial^{2}}{\\partial x\\partial y}z\\left(x, y\\right)</script></html>"
      ],
      "text/latex": [
       "\\begin{math}\n",
       "\\newcommand{\\Bold}[1]{\\mathbf{#1}}-\\frac{2 \\, x \\frac{\\partial^{2}}{(\\partial x)^{2}}z\\left(x, y\\right)}{y} - \\frac{1.0 \\, x \\frac{\\partial}{\\partial y}z\\left(x, y\\right)}{y} - \\frac{x \\frac{\\partial}{\\partial x}w\\left(x, y\\right)}{y^{2}} + \\frac{1.0 \\, \\frac{\\partial}{\\partial x}w\\left(x, y\\right)}{y} - \\frac{0.5 \\, \\frac{\\partial}{\\partial y}w\\left(x, y\\right)}{y} + \\frac{0.5 \\, w\\left(x, y\\right)}{y^{2}} - 1.0 \\, \\frac{\\partial^{2}}{\\partial x\\partial y}z\\left(x, y\\right)\n",
       "\\end{math}"
      ],
      "text/plain": [
       "-2*x*diff(z(x, y), x, x)/y - 1.0*x*diff(z(x, y), y)/y - x*diff(w(x, y), x)/y^2 + 1.0*diff(w(x, y), x)/y - 0.5*diff(w(x, y), y)/y + 0.5*w(x, y)/y^2 - 1.0*diff(z(x, y), x, y)"
      ]
     },
     "metadata": {},
     "output_type": "display_data"
    },
    {
     "name": "stdout",
     "output_type": "stream",
     "text": [
      "Try to reduce r3 with r1\n",
      "have reduced!\n"
     ]
    },
    {
     "data": {
      "text/html": [
       "<html><script type=\"math/tex; mode=display\">\\newcommand{\\Bold}[1]{\\mathbf{#1}}-\\frac{1.0 \\, y \\frac{\\partial}{\\partial y}w\\left(x, y\\right)}{x} - \\frac{2.0 \\, y \\frac{\\partial}{\\partial x}z\\left(x, y\\right)}{x} - 1.0 \\, \\frac{\\partial^{2}}{\\partial x\\partial y}z\\left(x, y\\right)</script></html>"
      ],
      "text/latex": [
       "\\begin{math}\n",
       "\\newcommand{\\Bold}[1]{\\mathbf{#1}}-\\frac{1.0 \\, y \\frac{\\partial}{\\partial y}w\\left(x, y\\right)}{x} - \\frac{2.0 \\, y \\frac{\\partial}{\\partial x}z\\left(x, y\\right)}{x} - 1.0 \\, \\frac{\\partial^{2}}{\\partial x\\partial y}z\\left(x, y\\right)\n",
       "\\end{math}"
      ],
      "text/plain": [
       "-1.0*y*diff(w(x, y), y)/x - 2.0*y*diff(z(x, y), x)/x - 1.0*diff(z(x, y), x, y)"
      ]
     },
     "metadata": {},
     "output_type": "display_data"
    },
    {
     "name": "stdout",
     "output_type": "stream",
     "text": [
      "Try to reduce r4 with r1\n",
      "have reduced!\n"
     ]
    },
    {
     "data": {
      "text/html": [
       "<html><script type=\"math/tex; mode=display\">\\newcommand{\\Bold}[1]{\\mathbf{#1}}-\\frac{1.0 \\, y \\frac{\\partial}{\\partial y}w\\left(x, y\\right)}{x} - \\frac{2.0 \\, y \\frac{\\partial}{\\partial x}z\\left(x, y\\right)}{x} - 1.0 \\, \\frac{\\partial^{2}}{\\partial x\\partial y}z\\left(x, y\\right)</script></html>"
      ],
      "text/latex": [
       "\\begin{math}\n",
       "\\newcommand{\\Bold}[1]{\\mathbf{#1}}-\\frac{1.0 \\, y \\frac{\\partial}{\\partial y}w\\left(x, y\\right)}{x} - \\frac{2.0 \\, y \\frac{\\partial}{\\partial x}z\\left(x, y\\right)}{x} - 1.0 \\, \\frac{\\partial^{2}}{\\partial x\\partial y}z\\left(x, y\\right)\n",
       "\\end{math}"
      ],
      "text/plain": [
       "-1.0*y*diff(w(x, y), y)/x - 2.0*y*diff(z(x, y), x)/x - 1.0*diff(z(x, y), x, y)"
      ]
     },
     "metadata": {},
     "output_type": "display_data"
    },
    {
     "name": "stdout",
     "output_type": "stream",
     "text": [
      "This is the new System........\n"
     ]
    },
    {
     "data": {
      "text/html": [
       "<html><script type=\"math/tex; mode=display\">\\newcommand{\\Bold}[1]{\\mathbf{#1}}-\\frac{1.0 \\, y \\frac{\\partial}{\\partial y}w\\left(x, y\\right)}{x} - \\frac{2.0 \\, y \\frac{\\partial}{\\partial x}z\\left(x, y\\right)}{x} - 1.0 \\, \\frac{\\partial^{2}}{\\partial x\\partial y}z\\left(x, y\\right)</script></html>"
      ],
      "text/latex": [
       "\\begin{math}\n",
       "\\newcommand{\\Bold}[1]{\\mathbf{#1}}-\\frac{1.0 \\, y \\frac{\\partial}{\\partial y}w\\left(x, y\\right)}{x} - \\frac{2.0 \\, y \\frac{\\partial}{\\partial x}z\\left(x, y\\right)}{x} - 1.0 \\, \\frac{\\partial^{2}}{\\partial x\\partial y}z\\left(x, y\\right)\n",
       "\\end{math}"
      ],
      "text/plain": [
       "-1.0*y*diff(w(x, y), y)/x - 2.0*y*diff(z(x, y), x)/x - 1.0*diff(z(x, y), x, y)"
      ]
     },
     "metadata": {},
     "output_type": "display_data"
    },
    {
     "data": {
      "text/html": [
       "<html><script type=\"math/tex; mode=display\">\\newcommand{\\Bold}[1]{\\mathbf{#1}}-\\frac{1.0 \\, y \\frac{\\partial}{\\partial y}w\\left(x, y\\right)}{x} - \\frac{2.0 \\, y \\frac{\\partial}{\\partial x}z\\left(x, y\\right)}{x} + \\frac{x \\frac{\\partial}{\\partial y}z\\left(x, y\\right)}{y} - \\frac{\\frac{\\partial}{\\partial x}w\\left(x, y\\right)}{y} + \\frac{\\frac{\\partial}{\\partial y}w\\left(x, y\\right)}{2 \\, y} - \\frac{w\\left(x, y\\right)}{2 \\, y^{2}} + 1.0 \\, \\frac{\\partial^{2}}{\\partial x\\partial y}w\\left(x, y\\right)</script></html>"
      ],
      "text/latex": [
       "\\begin{math}\n",
       "\\newcommand{\\Bold}[1]{\\mathbf{#1}}-\\frac{1.0 \\, y \\frac{\\partial}{\\partial y}w\\left(x, y\\right)}{x} - \\frac{2.0 \\, y \\frac{\\partial}{\\partial x}z\\left(x, y\\right)}{x} + \\frac{x \\frac{\\partial}{\\partial y}z\\left(x, y\\right)}{y} - \\frac{\\frac{\\partial}{\\partial x}w\\left(x, y\\right)}{y} + \\frac{\\frac{\\partial}{\\partial y}w\\left(x, y\\right)}{2 \\, y} - \\frac{w\\left(x, y\\right)}{2 \\, y^{2}} + 1.0 \\, \\frac{\\partial^{2}}{\\partial x\\partial y}w\\left(x, y\\right)\n",
       "\\end{math}"
      ],
      "text/plain": [
       "-1.0*y*diff(w(x, y), y)/x - 2.0*y*diff(z(x, y), x)/x + x*diff(z(x, y), y)/y - diff(w(x, y), x)/y + 1/2*diff(w(x, y), y)/y - 1/2*w(x, y)/y^2 + 1.0*diff(w(x, y), x, y)"
      ]
     },
     "metadata": {},
     "output_type": "display_data"
    },
    {
     "data": {
      "text/html": [
       "<html><script type=\"math/tex; mode=display\">\\newcommand{\\Bold}[1]{\\mathbf{#1}}-\\frac{1.0 \\, y \\frac{\\partial}{\\partial y}w\\left(x, y\\right)}{x} - \\frac{2.0 \\, y \\frac{\\partial}{\\partial x}z\\left(x, y\\right)}{x} + \\frac{x \\frac{\\partial}{\\partial y}z\\left(x, y\\right)}{y} - \\frac{\\frac{\\partial}{\\partial x}w\\left(x, y\\right)}{y} + \\frac{\\frac{\\partial}{\\partial y}w\\left(x, y\\right)}{2 \\, y} - \\frac{w\\left(x, y\\right)}{2 \\, y^{2}} + 1.0 \\, \\frac{\\partial^{2}}{\\partial x\\partial y}w\\left(x, y\\right)</script></html>"
      ],
      "text/latex": [
       "\\begin{math}\n",
       "\\newcommand{\\Bold}[1]{\\mathbf{#1}}-\\frac{1.0 \\, y \\frac{\\partial}{\\partial y}w\\left(x, y\\right)}{x} - \\frac{2.0 \\, y \\frac{\\partial}{\\partial x}z\\left(x, y\\right)}{x} + \\frac{x \\frac{\\partial}{\\partial y}z\\left(x, y\\right)}{y} - \\frac{\\frac{\\partial}{\\partial x}w\\left(x, y\\right)}{y} + \\frac{\\frac{\\partial}{\\partial y}w\\left(x, y\\right)}{2 \\, y} - \\frac{w\\left(x, y\\right)}{2 \\, y^{2}} + 1.0 \\, \\frac{\\partial^{2}}{\\partial x\\partial y}w\\left(x, y\\right)\n",
       "\\end{math}"
      ],
      "text/plain": [
       "-1.0*y*diff(w(x, y), y)/x - 2.0*y*diff(z(x, y), x)/x + x*diff(z(x, y), y)/y - diff(w(x, y), x)/y + 1/2*diff(w(x, y), y)/y - 1/2*w(x, y)/y^2 + 1.0*diff(w(x, y), x, y)"
      ]
     },
     "metadata": {},
     "output_type": "display_data"
    },
    {
     "data": {
      "text/html": [
       "<html><script type=\"math/tex; mode=display\">\\newcommand{\\Bold}[1]{\\mathbf{#1}}-\\frac{2 \\, x \\frac{\\partial^{2}}{(\\partial x)^{2}}z\\left(x, y\\right)}{y} - \\frac{x \\frac{\\partial}{\\partial x}w\\left(x, y\\right)}{y^{2}} + \\frac{\\partial^{2}}{\\partial x\\partial y}w\\left(x, y\\right)</script></html>"
      ],
      "text/latex": [
       "\\begin{math}\n",
       "\\newcommand{\\Bold}[1]{\\mathbf{#1}}-\\frac{2 \\, x \\frac{\\partial^{2}}{(\\partial x)^{2}}z\\left(x, y\\right)}{y} - \\frac{x \\frac{\\partial}{\\partial x}w\\left(x, y\\right)}{y^{2}} + \\frac{\\partial^{2}}{\\partial x\\partial y}w\\left(x, y\\right)\n",
       "\\end{math}"
      ],
      "text/plain": [
       "-2*x*diff(z(x, y), x, x)/y - x*diff(w(x, y), x)/y^2 + diff(w(x, y), x, y)"
      ]
     },
     "metadata": {},
     "output_type": "display_data"
    },
    {
     "data": {
      "text/html": [
       "<html><script type=\"math/tex; mode=display\">\\newcommand{\\Bold}[1]{\\mathbf{#1}}-\\frac{1.0 \\, y \\frac{\\partial}{\\partial y}w\\left(x, y\\right)}{x} - \\frac{2.0 \\, y \\frac{\\partial}{\\partial x}z\\left(x, y\\right)}{x} + \\frac{x \\frac{\\partial}{\\partial y}z\\left(x, y\\right)}{y} - \\frac{\\frac{\\partial}{\\partial x}w\\left(x, y\\right)}{y} + \\frac{\\frac{\\partial}{\\partial y}w\\left(x, y\\right)}{2 \\, y} - \\frac{w\\left(x, y\\right)}{2 \\, y^{2}} + 1.0 \\, \\frac{\\partial^{2}}{\\partial x\\partial y}w\\left(x, y\\right)</script></html>"
      ],
      "text/latex": [
       "\\begin{math}\n",
       "\\newcommand{\\Bold}[1]{\\mathbf{#1}}-\\frac{1.0 \\, y \\frac{\\partial}{\\partial y}w\\left(x, y\\right)}{x} - \\frac{2.0 \\, y \\frac{\\partial}{\\partial x}z\\left(x, y\\right)}{x} + \\frac{x \\frac{\\partial}{\\partial y}z\\left(x, y\\right)}{y} - \\frac{\\frac{\\partial}{\\partial x}w\\left(x, y\\right)}{y} + \\frac{\\frac{\\partial}{\\partial y}w\\left(x, y\\right)}{2 \\, y} - \\frac{w\\left(x, y\\right)}{2 \\, y^{2}} + 1.0 \\, \\frac{\\partial^{2}}{\\partial x\\partial y}w\\left(x, y\\right)\n",
       "\\end{math}"
      ],
      "text/plain": [
       "-1.0*y*diff(w(x, y), y)/x - 2.0*y*diff(z(x, y), x)/x + x*diff(z(x, y), y)/y - diff(w(x, y), x)/y + 1/2*diff(w(x, y), y)/y - 1/2*w(x, y)/y^2 + 1.0*diff(w(x, y), x, y)"
      ]
     },
     "metadata": {},
     "output_type": "display_data"
    },
    {
     "name": "stdout",
     "output_type": "stream",
     "text": [
      "Try to reduce r1 with r0\n",
      "no reduction?\n",
      "no reduction?\n",
      "Try to reduce r2 with r0\n",
      "no reduction?\n",
      "no reduction?\n",
      "Try to reduce r3 with r0\n",
      "no reduction?\n",
      "Try to reduce r4 with r0\n",
      "no reduction?\n",
      "no reduction?\n",
      "This is the new System........\n"
     ]
    },
    {
     "data": {
      "text/html": [
       "<html><script type=\"math/tex; mode=display\">\\newcommand{\\Bold}[1]{\\mathbf{#1}}-\\frac{1.0 \\, y \\frac{\\partial}{\\partial y}w\\left(x, y\\right)}{x} - \\frac{2.0 \\, y \\frac{\\partial}{\\partial x}z\\left(x, y\\right)}{x} + \\frac{x \\frac{\\partial}{\\partial y}z\\left(x, y\\right)}{y} - \\frac{\\frac{\\partial}{\\partial x}w\\left(x, y\\right)}{y} + \\frac{\\frac{\\partial}{\\partial y}w\\left(x, y\\right)}{2 \\, y} - \\frac{w\\left(x, y\\right)}{2 \\, y^{2}} + 1.0 \\, \\frac{\\partial^{2}}{\\partial x\\partial y}w\\left(x, y\\right)</script></html>"
      ],
      "text/latex": [
       "\\begin{math}\n",
       "\\newcommand{\\Bold}[1]{\\mathbf{#1}}-\\frac{1.0 \\, y \\frac{\\partial}{\\partial y}w\\left(x, y\\right)}{x} - \\frac{2.0 \\, y \\frac{\\partial}{\\partial x}z\\left(x, y\\right)}{x} + \\frac{x \\frac{\\partial}{\\partial y}z\\left(x, y\\right)}{y} - \\frac{\\frac{\\partial}{\\partial x}w\\left(x, y\\right)}{y} + \\frac{\\frac{\\partial}{\\partial y}w\\left(x, y\\right)}{2 \\, y} - \\frac{w\\left(x, y\\right)}{2 \\, y^{2}} + 1.0 \\, \\frac{\\partial^{2}}{\\partial x\\partial y}w\\left(x, y\\right)\n",
       "\\end{math}"
      ],
      "text/plain": [
       "-1.0*y*diff(w(x, y), y)/x - 2.0*y*diff(z(x, y), x)/x + x*diff(z(x, y), y)/y - diff(w(x, y), x)/y + 1/2*diff(w(x, y), y)/y - 1/2*w(x, y)/y^2 + 1.0*diff(w(x, y), x, y)"
      ]
     },
     "metadata": {},
     "output_type": "display_data"
    },
    {
     "data": {
      "text/html": [
       "<html><script type=\"math/tex; mode=display\">\\newcommand{\\Bold}[1]{\\mathbf{#1}}-\\frac{2 \\, x \\frac{\\partial^{2}}{(\\partial x)^{2}}z\\left(x, y\\right)}{y} - \\frac{x \\frac{\\partial}{\\partial x}w\\left(x, y\\right)}{y^{2}} + \\frac{\\partial^{2}}{\\partial x\\partial y}w\\left(x, y\\right)</script></html>"
      ],
      "text/latex": [
       "\\begin{math}\n",
       "\\newcommand{\\Bold}[1]{\\mathbf{#1}}-\\frac{2 \\, x \\frac{\\partial^{2}}{(\\partial x)^{2}}z\\left(x, y\\right)}{y} - \\frac{x \\frac{\\partial}{\\partial x}w\\left(x, y\\right)}{y^{2}} + \\frac{\\partial^{2}}{\\partial x\\partial y}w\\left(x, y\\right)\n",
       "\\end{math}"
      ],
      "text/plain": [
       "-2*x*diff(z(x, y), x, x)/y - x*diff(w(x, y), x)/y^2 + diff(w(x, y), x, y)"
      ]
     },
     "metadata": {},
     "output_type": "display_data"
    },
    {
     "data": {
      "text/html": [
       "<html><script type=\"math/tex; mode=display\">\\newcommand{\\Bold}[1]{\\mathbf{#1}}-\\frac{1.0 \\, y \\frac{\\partial}{\\partial y}w\\left(x, y\\right)}{x} - \\frac{2.0 \\, y \\frac{\\partial}{\\partial x}z\\left(x, y\\right)}{x} + \\frac{x \\frac{\\partial}{\\partial y}z\\left(x, y\\right)}{y} - \\frac{\\frac{\\partial}{\\partial x}w\\left(x, y\\right)}{y} + \\frac{\\frac{\\partial}{\\partial y}w\\left(x, y\\right)}{2 \\, y} - \\frac{w\\left(x, y\\right)}{2 \\, y^{2}} + 1.0 \\, \\frac{\\partial^{2}}{\\partial x\\partial y}w\\left(x, y\\right)</script></html>"
      ],
      "text/latex": [
       "\\begin{math}\n",
       "\\newcommand{\\Bold}[1]{\\mathbf{#1}}-\\frac{1.0 \\, y \\frac{\\partial}{\\partial y}w\\left(x, y\\right)}{x} - \\frac{2.0 \\, y \\frac{\\partial}{\\partial x}z\\left(x, y\\right)}{x} + \\frac{x \\frac{\\partial}{\\partial y}z\\left(x, y\\right)}{y} - \\frac{\\frac{\\partial}{\\partial x}w\\left(x, y\\right)}{y} + \\frac{\\frac{\\partial}{\\partial y}w\\left(x, y\\right)}{2 \\, y} - \\frac{w\\left(x, y\\right)}{2 \\, y^{2}} + 1.0 \\, \\frac{\\partial^{2}}{\\partial x\\partial y}w\\left(x, y\\right)\n",
       "\\end{math}"
      ],
      "text/plain": [
       "-1.0*y*diff(w(x, y), y)/x - 2.0*y*diff(z(x, y), x)/x + x*diff(z(x, y), y)/y - diff(w(x, y), x)/y + 1/2*diff(w(x, y), y)/y - 1/2*w(x, y)/y^2 + 1.0*diff(w(x, y), x, y)"
      ]
     },
     "metadata": {},
     "output_type": "display_data"
    },
    {
     "data": {
      "text/html": [
       "<html><script type=\"math/tex; mode=display\">\\newcommand{\\Bold}[1]{\\mathbf{#1}}-\\frac{1.0 \\, y \\frac{\\partial}{\\partial y}w\\left(x, y\\right)}{x} - \\frac{2.0 \\, y \\frac{\\partial}{\\partial x}z\\left(x, y\\right)}{x} + \\frac{x \\frac{\\partial}{\\partial y}z\\left(x, y\\right)}{y} - \\frac{\\frac{\\partial}{\\partial x}w\\left(x, y\\right)}{y} + \\frac{\\frac{\\partial}{\\partial y}w\\left(x, y\\right)}{2 \\, y} - \\frac{w\\left(x, y\\right)}{2 \\, y^{2}} + 1.0 \\, \\frac{\\partial^{2}}{\\partial x\\partial y}w\\left(x, y\\right)</script></html>"
      ],
      "text/latex": [
       "\\begin{math}\n",
       "\\newcommand{\\Bold}[1]{\\mathbf{#1}}-\\frac{1.0 \\, y \\frac{\\partial}{\\partial y}w\\left(x, y\\right)}{x} - \\frac{2.0 \\, y \\frac{\\partial}{\\partial x}z\\left(x, y\\right)}{x} + \\frac{x \\frac{\\partial}{\\partial y}z\\left(x, y\\right)}{y} - \\frac{\\frac{\\partial}{\\partial x}w\\left(x, y\\right)}{y} + \\frac{\\frac{\\partial}{\\partial y}w\\left(x, y\\right)}{2 \\, y} - \\frac{w\\left(x, y\\right)}{2 \\, y^{2}} + 1.0 \\, \\frac{\\partial^{2}}{\\partial x\\partial y}w\\left(x, y\\right)\n",
       "\\end{math}"
      ],
      "text/plain": [
       "-1.0*y*diff(w(x, y), y)/x - 2.0*y*diff(z(x, y), x)/x + x*diff(z(x, y), y)/y - diff(w(x, y), x)/y + 1/2*diff(w(x, y), y)/y - 1/2*w(x, y)/y^2 + 1.0*diff(w(x, y), x, y)"
      ]
     },
     "metadata": {},
     "output_type": "display_data"
    },
    {
     "data": {
      "text/html": [
       "<html><script type=\"math/tex; mode=display\">\\newcommand{\\Bold}[1]{\\mathbf{#1}}-\\frac{1.0 \\, y \\frac{\\partial}{\\partial y}w\\left(x, y\\right)}{x} - \\frac{2.0 \\, y \\frac{\\partial}{\\partial x}z\\left(x, y\\right)}{x} + \\frac{x \\frac{\\partial}{\\partial y}z\\left(x, y\\right)}{y} - \\frac{\\frac{\\partial}{\\partial x}w\\left(x, y\\right)}{y} + \\frac{\\frac{\\partial}{\\partial y}w\\left(x, y\\right)}{2 \\, y} - \\frac{w\\left(x, y\\right)}{2 \\, y^{2}} + 1.0 \\, \\frac{\\partial^{2}}{\\partial x\\partial y}w\\left(x, y\\right)</script></html>"
      ],
      "text/latex": [
       "\\begin{math}\n",
       "\\newcommand{\\Bold}[1]{\\mathbf{#1}}-\\frac{1.0 \\, y \\frac{\\partial}{\\partial y}w\\left(x, y\\right)}{x} - \\frac{2.0 \\, y \\frac{\\partial}{\\partial x}z\\left(x, y\\right)}{x} + \\frac{x \\frac{\\partial}{\\partial y}z\\left(x, y\\right)}{y} - \\frac{\\frac{\\partial}{\\partial x}w\\left(x, y\\right)}{y} + \\frac{\\frac{\\partial}{\\partial y}w\\left(x, y\\right)}{2 \\, y} - \\frac{w\\left(x, y\\right)}{2 \\, y^{2}} + 1.0 \\, \\frac{\\partial^{2}}{\\partial x\\partial y}w\\left(x, y\\right)\n",
       "\\end{math}"
      ],
      "text/plain": [
       "-1.0*y*diff(w(x, y), y)/x - 2.0*y*diff(z(x, y), x)/x + x*diff(z(x, y), y)/y - diff(w(x, y), x)/y + 1/2*diff(w(x, y), y)/y - 1/2*w(x, y)/y^2 + 1.0*diff(w(x, y), x, y)"
      ]
     },
     "metadata": {},
     "output_type": "display_data"
    },
    {
     "name": "stdout",
     "output_type": "stream",
     "text": [
      "Try to reduce r2 with r1\n",
      "have reduced!\n"
     ]
    },
    {
     "data": {
      "text/html": [
       "<html><script type=\"math/tex; mode=display\">\\newcommand{\\Bold}[1]{\\mathbf{#1}}-\\frac{1.0 \\, y \\frac{\\partial}{\\partial y}w\\left(x, y\\right)}{x} - \\frac{2.0 \\, y \\frac{\\partial}{\\partial x}z\\left(x, y\\right)}{x} + \\frac{2.0 \\, x \\frac{\\partial^{2}}{(\\partial x)^{2}}z\\left(x, y\\right)}{y} + \\frac{1.0 \\, x \\frac{\\partial}{\\partial y}z\\left(x, y\\right)}{y} + \\frac{1.0 \\, x \\frac{\\partial}{\\partial x}w\\left(x, y\\right)}{y^{2}} - \\frac{1.0 \\, \\frac{\\partial}{\\partial x}w\\left(x, y\\right)}{y} + \\frac{0.5 \\, \\frac{\\partial}{\\partial y}w\\left(x, y\\right)}{y} - \\frac{0.5 \\, w\\left(x, y\\right)}{y^{2}}</script></html>"
      ],
      "text/latex": [
       "\\begin{math}\n",
       "\\newcommand{\\Bold}[1]{\\mathbf{#1}}-\\frac{1.0 \\, y \\frac{\\partial}{\\partial y}w\\left(x, y\\right)}{x} - \\frac{2.0 \\, y \\frac{\\partial}{\\partial x}z\\left(x, y\\right)}{x} + \\frac{2.0 \\, x \\frac{\\partial^{2}}{(\\partial x)^{2}}z\\left(x, y\\right)}{y} + \\frac{1.0 \\, x \\frac{\\partial}{\\partial y}z\\left(x, y\\right)}{y} + \\frac{1.0 \\, x \\frac{\\partial}{\\partial x}w\\left(x, y\\right)}{y^{2}} - \\frac{1.0 \\, \\frac{\\partial}{\\partial x}w\\left(x, y\\right)}{y} + \\frac{0.5 \\, \\frac{\\partial}{\\partial y}w\\left(x, y\\right)}{y} - \\frac{0.5 \\, w\\left(x, y\\right)}{y^{2}}\n",
       "\\end{math}"
      ],
      "text/plain": [
       "-1.0*y*diff(w(x, y), y)/x - 2.0*y*diff(z(x, y), x)/x + 2.0*x*diff(z(x, y), x, x)/y + 1.0*x*diff(z(x, y), y)/y + 1.0*x*diff(w(x, y), x)/y^2 - 1.0*diff(w(x, y), x)/y + 0.5*diff(w(x, y), y)/y - 0.5*w(x, y)/y^2"
      ]
     },
     "metadata": {},
     "output_type": "display_data"
    },
    {
     "name": "stdout",
     "output_type": "stream",
     "text": [
      "Try to reduce r3 with r1\n",
      "have reduced!\n"
     ]
    },
    {
     "data": {
      "text/html": [
       "<html><script type=\"math/tex; mode=display\">\\newcommand{\\Bold}[1]{\\mathbf{#1}}-\\frac{1.0 \\, y \\frac{\\partial}{\\partial y}w\\left(x, y\\right)}{x} - \\frac{2.0 \\, y \\frac{\\partial}{\\partial x}z\\left(x, y\\right)}{x} + \\frac{2.0 \\, x \\frac{\\partial^{2}}{(\\partial x)^{2}}z\\left(x, y\\right)}{y} + \\frac{1.0 \\, x \\frac{\\partial}{\\partial y}z\\left(x, y\\right)}{y} + \\frac{1.0 \\, x \\frac{\\partial}{\\partial x}w\\left(x, y\\right)}{y^{2}} - \\frac{1.0 \\, \\frac{\\partial}{\\partial x}w\\left(x, y\\right)}{y} + \\frac{0.5 \\, \\frac{\\partial}{\\partial y}w\\left(x, y\\right)}{y} - \\frac{0.5 \\, w\\left(x, y\\right)}{y^{2}}</script></html>"
      ],
      "text/latex": [
       "\\begin{math}\n",
       "\\newcommand{\\Bold}[1]{\\mathbf{#1}}-\\frac{1.0 \\, y \\frac{\\partial}{\\partial y}w\\left(x, y\\right)}{x} - \\frac{2.0 \\, y \\frac{\\partial}{\\partial x}z\\left(x, y\\right)}{x} + \\frac{2.0 \\, x \\frac{\\partial^{2}}{(\\partial x)^{2}}z\\left(x, y\\right)}{y} + \\frac{1.0 \\, x \\frac{\\partial}{\\partial y}z\\left(x, y\\right)}{y} + \\frac{1.0 \\, x \\frac{\\partial}{\\partial x}w\\left(x, y\\right)}{y^{2}} - \\frac{1.0 \\, \\frac{\\partial}{\\partial x}w\\left(x, y\\right)}{y} + \\frac{0.5 \\, \\frac{\\partial}{\\partial y}w\\left(x, y\\right)}{y} - \\frac{0.5 \\, w\\left(x, y\\right)}{y^{2}}\n",
       "\\end{math}"
      ],
      "text/plain": [
       "-1.0*y*diff(w(x, y), y)/x - 2.0*y*diff(z(x, y), x)/x + 2.0*x*diff(z(x, y), x, x)/y + 1.0*x*diff(z(x, y), y)/y + 1.0*x*diff(w(x, y), x)/y^2 - 1.0*diff(w(x, y), x)/y + 0.5*diff(w(x, y), y)/y - 0.5*w(x, y)/y^2"
      ]
     },
     "metadata": {},
     "output_type": "display_data"
    },
    {
     "name": "stdout",
     "output_type": "stream",
     "text": [
      "Try to reduce r4 with r1\n",
      "have reduced!\n"
     ]
    },
    {
     "data": {
      "text/html": [
       "<html><script type=\"math/tex; mode=display\">\\newcommand{\\Bold}[1]{\\mathbf{#1}}-\\frac{1.0 \\, y \\frac{\\partial}{\\partial y}w\\left(x, y\\right)}{x} - \\frac{2.0 \\, y \\frac{\\partial}{\\partial x}z\\left(x, y\\right)}{x} + \\frac{2.0 \\, x \\frac{\\partial^{2}}{(\\partial x)^{2}}z\\left(x, y\\right)}{y} + \\frac{1.0 \\, x \\frac{\\partial}{\\partial y}z\\left(x, y\\right)}{y} + \\frac{1.0 \\, x \\frac{\\partial}{\\partial x}w\\left(x, y\\right)}{y^{2}} - \\frac{1.0 \\, \\frac{\\partial}{\\partial x}w\\left(x, y\\right)}{y} + \\frac{0.5 \\, \\frac{\\partial}{\\partial y}w\\left(x, y\\right)}{y} - \\frac{0.5 \\, w\\left(x, y\\right)}{y^{2}}</script></html>"
      ],
      "text/latex": [
       "\\begin{math}\n",
       "\\newcommand{\\Bold}[1]{\\mathbf{#1}}-\\frac{1.0 \\, y \\frac{\\partial}{\\partial y}w\\left(x, y\\right)}{x} - \\frac{2.0 \\, y \\frac{\\partial}{\\partial x}z\\left(x, y\\right)}{x} + \\frac{2.0 \\, x \\frac{\\partial^{2}}{(\\partial x)^{2}}z\\left(x, y\\right)}{y} + \\frac{1.0 \\, x \\frac{\\partial}{\\partial y}z\\left(x, y\\right)}{y} + \\frac{1.0 \\, x \\frac{\\partial}{\\partial x}w\\left(x, y\\right)}{y^{2}} - \\frac{1.0 \\, \\frac{\\partial}{\\partial x}w\\left(x, y\\right)}{y} + \\frac{0.5 \\, \\frac{\\partial}{\\partial y}w\\left(x, y\\right)}{y} - \\frac{0.5 \\, w\\left(x, y\\right)}{y^{2}}\n",
       "\\end{math}"
      ],
      "text/plain": [
       "-1.0*y*diff(w(x, y), y)/x - 2.0*y*diff(z(x, y), x)/x + 2.0*x*diff(z(x, y), x, x)/y + 1.0*x*diff(z(x, y), y)/y + 1.0*x*diff(w(x, y), x)/y^2 - 1.0*diff(w(x, y), x)/y + 0.5*diff(w(x, y), y)/y - 0.5*w(x, y)/y^2"
      ]
     },
     "metadata": {},
     "output_type": "display_data"
    },
    {
     "name": "stdout",
     "output_type": "stream",
     "text": [
      "This is the new System........\n"
     ]
    },
    {
     "data": {
      "text/html": [
       "<html><script type=\"math/tex; mode=display\">\\newcommand{\\Bold}[1]{\\mathbf{#1}}-\\frac{1.0 \\, y \\frac{\\partial}{\\partial y}w\\left(x, y\\right)}{x} - \\frac{2.0 \\, y \\frac{\\partial}{\\partial x}z\\left(x, y\\right)}{x} + \\frac{2.0 \\, x \\frac{\\partial^{2}}{(\\partial x)^{2}}z\\left(x, y\\right)}{y} + \\frac{1.0 \\, x \\frac{\\partial}{\\partial y}z\\left(x, y\\right)}{y} + \\frac{1.0 \\, x \\frac{\\partial}{\\partial x}w\\left(x, y\\right)}{y^{2}} - \\frac{1.0 \\, \\frac{\\partial}{\\partial x}w\\left(x, y\\right)}{y} + \\frac{0.5 \\, \\frac{\\partial}{\\partial y}w\\left(x, y\\right)}{y} - \\frac{0.5 \\, w\\left(x, y\\right)}{y^{2}}</script></html>"
      ],
      "text/latex": [
       "\\begin{math}\n",
       "\\newcommand{\\Bold}[1]{\\mathbf{#1}}-\\frac{1.0 \\, y \\frac{\\partial}{\\partial y}w\\left(x, y\\right)}{x} - \\frac{2.0 \\, y \\frac{\\partial}{\\partial x}z\\left(x, y\\right)}{x} + \\frac{2.0 \\, x \\frac{\\partial^{2}}{(\\partial x)^{2}}z\\left(x, y\\right)}{y} + \\frac{1.0 \\, x \\frac{\\partial}{\\partial y}z\\left(x, y\\right)}{y} + \\frac{1.0 \\, x \\frac{\\partial}{\\partial x}w\\left(x, y\\right)}{y^{2}} - \\frac{1.0 \\, \\frac{\\partial}{\\partial x}w\\left(x, y\\right)}{y} + \\frac{0.5 \\, \\frac{\\partial}{\\partial y}w\\left(x, y\\right)}{y} - \\frac{0.5 \\, w\\left(x, y\\right)}{y^{2}}\n",
       "\\end{math}"
      ],
      "text/plain": [
       "-1.0*y*diff(w(x, y), y)/x - 2.0*y*diff(z(x, y), x)/x + 2.0*x*diff(z(x, y), x, x)/y + 1.0*x*diff(z(x, y), y)/y + 1.0*x*diff(w(x, y), x)/y^2 - 1.0*diff(w(x, y), x)/y + 0.5*diff(w(x, y), y)/y - 0.5*w(x, y)/y^2"
      ]
     },
     "metadata": {},
     "output_type": "display_data"
    },
    {
     "data": {
      "text/html": [
       "<html><script type=\"math/tex; mode=display\">\\newcommand{\\Bold}[1]{\\mathbf{#1}}-\\frac{1.0 \\, y \\frac{\\partial}{\\partial y}w\\left(x, y\\right)}{x} - \\frac{2.0 \\, y \\frac{\\partial}{\\partial x}z\\left(x, y\\right)}{x} + \\frac{x \\frac{\\partial}{\\partial y}z\\left(x, y\\right)}{y} - \\frac{\\frac{\\partial}{\\partial x}w\\left(x, y\\right)}{y} + \\frac{\\frac{\\partial}{\\partial y}w\\left(x, y\\right)}{2 \\, y} - \\frac{w\\left(x, y\\right)}{2 \\, y^{2}} + 1.0 \\, \\frac{\\partial^{2}}{\\partial x\\partial y}w\\left(x, y\\right)</script></html>"
      ],
      "text/latex": [
       "\\begin{math}\n",
       "\\newcommand{\\Bold}[1]{\\mathbf{#1}}-\\frac{1.0 \\, y \\frac{\\partial}{\\partial y}w\\left(x, y\\right)}{x} - \\frac{2.0 \\, y \\frac{\\partial}{\\partial x}z\\left(x, y\\right)}{x} + \\frac{x \\frac{\\partial}{\\partial y}z\\left(x, y\\right)}{y} - \\frac{\\frac{\\partial}{\\partial x}w\\left(x, y\\right)}{y} + \\frac{\\frac{\\partial}{\\partial y}w\\left(x, y\\right)}{2 \\, y} - \\frac{w\\left(x, y\\right)}{2 \\, y^{2}} + 1.0 \\, \\frac{\\partial^{2}}{\\partial x\\partial y}w\\left(x, y\\right)\n",
       "\\end{math}"
      ],
      "text/plain": [
       "-1.0*y*diff(w(x, y), y)/x - 2.0*y*diff(z(x, y), x)/x + x*diff(z(x, y), y)/y - diff(w(x, y), x)/y + 1/2*diff(w(x, y), y)/y - 1/2*w(x, y)/y^2 + 1.0*diff(w(x, y), x, y)"
      ]
     },
     "metadata": {},
     "output_type": "display_data"
    },
    {
     "data": {
      "text/html": [
       "<html><script type=\"math/tex; mode=display\">\\newcommand{\\Bold}[1]{\\mathbf{#1}}-\\frac{1.0 \\, y \\frac{\\partial}{\\partial y}w\\left(x, y\\right)}{x} - \\frac{2.0 \\, y \\frac{\\partial}{\\partial x}z\\left(x, y\\right)}{x} + \\frac{x \\frac{\\partial}{\\partial y}z\\left(x, y\\right)}{y} - \\frac{\\frac{\\partial}{\\partial x}w\\left(x, y\\right)}{y} + \\frac{\\frac{\\partial}{\\partial y}w\\left(x, y\\right)}{2 \\, y} - \\frac{w\\left(x, y\\right)}{2 \\, y^{2}} + 1.0 \\, \\frac{\\partial^{2}}{\\partial x\\partial y}w\\left(x, y\\right)</script></html>"
      ],
      "text/latex": [
       "\\begin{math}\n",
       "\\newcommand{\\Bold}[1]{\\mathbf{#1}}-\\frac{1.0 \\, y \\frac{\\partial}{\\partial y}w\\left(x, y\\right)}{x} - \\frac{2.0 \\, y \\frac{\\partial}{\\partial x}z\\left(x, y\\right)}{x} + \\frac{x \\frac{\\partial}{\\partial y}z\\left(x, y\\right)}{y} - \\frac{\\frac{\\partial}{\\partial x}w\\left(x, y\\right)}{y} + \\frac{\\frac{\\partial}{\\partial y}w\\left(x, y\\right)}{2 \\, y} - \\frac{w\\left(x, y\\right)}{2 \\, y^{2}} + 1.0 \\, \\frac{\\partial^{2}}{\\partial x\\partial y}w\\left(x, y\\right)\n",
       "\\end{math}"
      ],
      "text/plain": [
       "-1.0*y*diff(w(x, y), y)/x - 2.0*y*diff(z(x, y), x)/x + x*diff(z(x, y), y)/y - diff(w(x, y), x)/y + 1/2*diff(w(x, y), y)/y - 1/2*w(x, y)/y^2 + 1.0*diff(w(x, y), x, y)"
      ]
     },
     "metadata": {},
     "output_type": "display_data"
    },
    {
     "data": {
      "text/html": [
       "<html><script type=\"math/tex; mode=display\">\\newcommand{\\Bold}[1]{\\mathbf{#1}}-\\frac{1.0 \\, y \\frac{\\partial}{\\partial y}w\\left(x, y\\right)}{x} - \\frac{2.0 \\, y \\frac{\\partial}{\\partial x}z\\left(x, y\\right)}{x} + \\frac{x \\frac{\\partial}{\\partial y}z\\left(x, y\\right)}{y} - \\frac{\\frac{\\partial}{\\partial x}w\\left(x, y\\right)}{y} + \\frac{\\frac{\\partial}{\\partial y}w\\left(x, y\\right)}{2 \\, y} - \\frac{w\\left(x, y\\right)}{2 \\, y^{2}} + 1.0 \\, \\frac{\\partial^{2}}{\\partial x\\partial y}w\\left(x, y\\right)</script></html>"
      ],
      "text/latex": [
       "\\begin{math}\n",
       "\\newcommand{\\Bold}[1]{\\mathbf{#1}}-\\frac{1.0 \\, y \\frac{\\partial}{\\partial y}w\\left(x, y\\right)}{x} - \\frac{2.0 \\, y \\frac{\\partial}{\\partial x}z\\left(x, y\\right)}{x} + \\frac{x \\frac{\\partial}{\\partial y}z\\left(x, y\\right)}{y} - \\frac{\\frac{\\partial}{\\partial x}w\\left(x, y\\right)}{y} + \\frac{\\frac{\\partial}{\\partial y}w\\left(x, y\\right)}{2 \\, y} - \\frac{w\\left(x, y\\right)}{2 \\, y^{2}} + 1.0 \\, \\frac{\\partial^{2}}{\\partial x\\partial y}w\\left(x, y\\right)\n",
       "\\end{math}"
      ],
      "text/plain": [
       "-1.0*y*diff(w(x, y), y)/x - 2.0*y*diff(z(x, y), x)/x + x*diff(z(x, y), y)/y - diff(w(x, y), x)/y + 1/2*diff(w(x, y), y)/y - 1/2*w(x, y)/y^2 + 1.0*diff(w(x, y), x, y)"
      ]
     },
     "metadata": {},
     "output_type": "display_data"
    },
    {
     "data": {
      "text/html": [
       "<html><script type=\"math/tex; mode=display\">\\newcommand{\\Bold}[1]{\\mathbf{#1}}-\\frac{1.0 \\, y \\frac{\\partial}{\\partial y}w\\left(x, y\\right)}{x} - \\frac{2.0 \\, y \\frac{\\partial}{\\partial x}z\\left(x, y\\right)}{x} + \\frac{x \\frac{\\partial}{\\partial y}z\\left(x, y\\right)}{y} - \\frac{\\frac{\\partial}{\\partial x}w\\left(x, y\\right)}{y} + \\frac{\\frac{\\partial}{\\partial y}w\\left(x, y\\right)}{2 \\, y} - \\frac{w\\left(x, y\\right)}{2 \\, y^{2}} + 1.0 \\, \\frac{\\partial^{2}}{\\partial x\\partial y}w\\left(x, y\\right)</script></html>"
      ],
      "text/latex": [
       "\\begin{math}\n",
       "\\newcommand{\\Bold}[1]{\\mathbf{#1}}-\\frac{1.0 \\, y \\frac{\\partial}{\\partial y}w\\left(x, y\\right)}{x} - \\frac{2.0 \\, y \\frac{\\partial}{\\partial x}z\\left(x, y\\right)}{x} + \\frac{x \\frac{\\partial}{\\partial y}z\\left(x, y\\right)}{y} - \\frac{\\frac{\\partial}{\\partial x}w\\left(x, y\\right)}{y} + \\frac{\\frac{\\partial}{\\partial y}w\\left(x, y\\right)}{2 \\, y} - \\frac{w\\left(x, y\\right)}{2 \\, y^{2}} + 1.0 \\, \\frac{\\partial^{2}}{\\partial x\\partial y}w\\left(x, y\\right)\n",
       "\\end{math}"
      ],
      "text/plain": [
       "-1.0*y*diff(w(x, y), y)/x - 2.0*y*diff(z(x, y), x)/x + x*diff(z(x, y), y)/y - diff(w(x, y), x)/y + 1/2*diff(w(x, y), y)/y - 1/2*w(x, y)/y^2 + 1.0*diff(w(x, y), x, y)"
      ]
     },
     "metadata": {},
     "output_type": "display_data"
    },
    {
     "name": "stdout",
     "output_type": "stream",
     "text": [
      "Try to reduce r1 with r0\n",
      "no reduction?\n",
      "no reduction?\n",
      "Try to reduce r2 with r0\n",
      "no reduction?\n",
      "no reduction?\n",
      "Try to reduce r3 with r0\n",
      "no reduction?\n",
      "no reduction?\n",
      "Try to reduce r4 with r0\n",
      "no reduction?\n",
      "no reduction?\n",
      "This is the new System........\n"
     ]
    },
    {
     "data": {
      "text/html": [
       "<html><script type=\"math/tex; mode=display\">\\newcommand{\\Bold}[1]{\\mathbf{#1}}-\\frac{1.0 \\, y \\frac{\\partial}{\\partial y}w\\left(x, y\\right)}{x} - \\frac{2.0 \\, y \\frac{\\partial}{\\partial x}z\\left(x, y\\right)}{x} + \\frac{x \\frac{\\partial}{\\partial y}z\\left(x, y\\right)}{y} - \\frac{\\frac{\\partial}{\\partial x}w\\left(x, y\\right)}{y} + \\frac{\\frac{\\partial}{\\partial y}w\\left(x, y\\right)}{2 \\, y} - \\frac{w\\left(x, y\\right)}{2 \\, y^{2}} + 1.0 \\, \\frac{\\partial^{2}}{\\partial x\\partial y}w\\left(x, y\\right)</script></html>"
      ],
      "text/latex": [
       "\\begin{math}\n",
       "\\newcommand{\\Bold}[1]{\\mathbf{#1}}-\\frac{1.0 \\, y \\frac{\\partial}{\\partial y}w\\left(x, y\\right)}{x} - \\frac{2.0 \\, y \\frac{\\partial}{\\partial x}z\\left(x, y\\right)}{x} + \\frac{x \\frac{\\partial}{\\partial y}z\\left(x, y\\right)}{y} - \\frac{\\frac{\\partial}{\\partial x}w\\left(x, y\\right)}{y} + \\frac{\\frac{\\partial}{\\partial y}w\\left(x, y\\right)}{2 \\, y} - \\frac{w\\left(x, y\\right)}{2 \\, y^{2}} + 1.0 \\, \\frac{\\partial^{2}}{\\partial x\\partial y}w\\left(x, y\\right)\n",
       "\\end{math}"
      ],
      "text/plain": [
       "-1.0*y*diff(w(x, y), y)/x - 2.0*y*diff(z(x, y), x)/x + x*diff(z(x, y), y)/y - diff(w(x, y), x)/y + 1/2*diff(w(x, y), y)/y - 1/2*w(x, y)/y^2 + 1.0*diff(w(x, y), x, y)"
      ]
     },
     "metadata": {},
     "output_type": "display_data"
    },
    {
     "data": {
      "text/html": [
       "<html><script type=\"math/tex; mode=display\">\\newcommand{\\Bold}[1]{\\mathbf{#1}}-\\frac{1.0 \\, y \\frac{\\partial}{\\partial y}w\\left(x, y\\right)}{x} - \\frac{2.0 \\, y \\frac{\\partial}{\\partial x}z\\left(x, y\\right)}{x} + \\frac{x \\frac{\\partial}{\\partial y}z\\left(x, y\\right)}{y} - \\frac{\\frac{\\partial}{\\partial x}w\\left(x, y\\right)}{y} + \\frac{\\frac{\\partial}{\\partial y}w\\left(x, y\\right)}{2 \\, y} - \\frac{w\\left(x, y\\right)}{2 \\, y^{2}} + 1.0 \\, \\frac{\\partial^{2}}{\\partial x\\partial y}w\\left(x, y\\right)</script></html>"
      ],
      "text/latex": [
       "\\begin{math}\n",
       "\\newcommand{\\Bold}[1]{\\mathbf{#1}}-\\frac{1.0 \\, y \\frac{\\partial}{\\partial y}w\\left(x, y\\right)}{x} - \\frac{2.0 \\, y \\frac{\\partial}{\\partial x}z\\left(x, y\\right)}{x} + \\frac{x \\frac{\\partial}{\\partial y}z\\left(x, y\\right)}{y} - \\frac{\\frac{\\partial}{\\partial x}w\\left(x, y\\right)}{y} + \\frac{\\frac{\\partial}{\\partial y}w\\left(x, y\\right)}{2 \\, y} - \\frac{w\\left(x, y\\right)}{2 \\, y^{2}} + 1.0 \\, \\frac{\\partial^{2}}{\\partial x\\partial y}w\\left(x, y\\right)\n",
       "\\end{math}"
      ],
      "text/plain": [
       "-1.0*y*diff(w(x, y), y)/x - 2.0*y*diff(z(x, y), x)/x + x*diff(z(x, y), y)/y - diff(w(x, y), x)/y + 1/2*diff(w(x, y), y)/y - 1/2*w(x, y)/y^2 + 1.0*diff(w(x, y), x, y)"
      ]
     },
     "metadata": {},
     "output_type": "display_data"
    },
    {
     "data": {
      "text/html": [
       "<html><script type=\"math/tex; mode=display\">\\newcommand{\\Bold}[1]{\\mathbf{#1}}-\\frac{1.0 \\, y \\frac{\\partial}{\\partial y}w\\left(x, y\\right)}{x} - \\frac{2.0 \\, y \\frac{\\partial}{\\partial x}z\\left(x, y\\right)}{x} + \\frac{x \\frac{\\partial}{\\partial y}z\\left(x, y\\right)}{y} - \\frac{\\frac{\\partial}{\\partial x}w\\left(x, y\\right)}{y} + \\frac{\\frac{\\partial}{\\partial y}w\\left(x, y\\right)}{2 \\, y} - \\frac{w\\left(x, y\\right)}{2 \\, y^{2}} + 1.0 \\, \\frac{\\partial^{2}}{\\partial x\\partial y}w\\left(x, y\\right)</script></html>"
      ],
      "text/latex": [
       "\\begin{math}\n",
       "\\newcommand{\\Bold}[1]{\\mathbf{#1}}-\\frac{1.0 \\, y \\frac{\\partial}{\\partial y}w\\left(x, y\\right)}{x} - \\frac{2.0 \\, y \\frac{\\partial}{\\partial x}z\\left(x, y\\right)}{x} + \\frac{x \\frac{\\partial}{\\partial y}z\\left(x, y\\right)}{y} - \\frac{\\frac{\\partial}{\\partial x}w\\left(x, y\\right)}{y} + \\frac{\\frac{\\partial}{\\partial y}w\\left(x, y\\right)}{2 \\, y} - \\frac{w\\left(x, y\\right)}{2 \\, y^{2}} + 1.0 \\, \\frac{\\partial^{2}}{\\partial x\\partial y}w\\left(x, y\\right)\n",
       "\\end{math}"
      ],
      "text/plain": [
       "-1.0*y*diff(w(x, y), y)/x - 2.0*y*diff(z(x, y), x)/x + x*diff(z(x, y), y)/y - diff(w(x, y), x)/y + 1/2*diff(w(x, y), y)/y - 1/2*w(x, y)/y^2 + 1.0*diff(w(x, y), x, y)"
      ]
     },
     "metadata": {},
     "output_type": "display_data"
    },
    {
     "data": {
      "text/html": [
       "<html><script type=\"math/tex; mode=display\">\\newcommand{\\Bold}[1]{\\mathbf{#1}}-\\frac{1.0 \\, y \\frac{\\partial}{\\partial y}w\\left(x, y\\right)}{x} - \\frac{2.0 \\, y \\frac{\\partial}{\\partial x}z\\left(x, y\\right)}{x} + \\frac{x \\frac{\\partial}{\\partial y}z\\left(x, y\\right)}{y} - \\frac{\\frac{\\partial}{\\partial x}w\\left(x, y\\right)}{y} + \\frac{\\frac{\\partial}{\\partial y}w\\left(x, y\\right)}{2 \\, y} - \\frac{w\\left(x, y\\right)}{2 \\, y^{2}} + 1.0 \\, \\frac{\\partial^{2}}{\\partial x\\partial y}w\\left(x, y\\right)</script></html>"
      ],
      "text/latex": [
       "\\begin{math}\n",
       "\\newcommand{\\Bold}[1]{\\mathbf{#1}}-\\frac{1.0 \\, y \\frac{\\partial}{\\partial y}w\\left(x, y\\right)}{x} - \\frac{2.0 \\, y \\frac{\\partial}{\\partial x}z\\left(x, y\\right)}{x} + \\frac{x \\frac{\\partial}{\\partial y}z\\left(x, y\\right)}{y} - \\frac{\\frac{\\partial}{\\partial x}w\\left(x, y\\right)}{y} + \\frac{\\frac{\\partial}{\\partial y}w\\left(x, y\\right)}{2 \\, y} - \\frac{w\\left(x, y\\right)}{2 \\, y^{2}} + 1.0 \\, \\frac{\\partial^{2}}{\\partial x\\partial y}w\\left(x, y\\right)\n",
       "\\end{math}"
      ],
      "text/plain": [
       "-1.0*y*diff(w(x, y), y)/x - 2.0*y*diff(z(x, y), x)/x + x*diff(z(x, y), y)/y - diff(w(x, y), x)/y + 1/2*diff(w(x, y), y)/y - 1/2*w(x, y)/y^2 + 1.0*diff(w(x, y), x, y)"
      ]
     },
     "metadata": {},
     "output_type": "display_data"
    },
    {
     "data": {
      "text/html": [
       "<html><script type=\"math/tex; mode=display\">\\newcommand{\\Bold}[1]{\\mathbf{#1}}-\\frac{1.0 \\, y \\frac{\\partial}{\\partial y}w\\left(x, y\\right)}{x} - \\frac{2.0 \\, y \\frac{\\partial}{\\partial x}z\\left(x, y\\right)}{x} + \\frac{x \\frac{\\partial}{\\partial y}z\\left(x, y\\right)}{y} - \\frac{\\frac{\\partial}{\\partial x}w\\left(x, y\\right)}{y} + \\frac{\\frac{\\partial}{\\partial y}w\\left(x, y\\right)}{2 \\, y} - \\frac{w\\left(x, y\\right)}{2 \\, y^{2}} + 1.0 \\, \\frac{\\partial^{2}}{\\partial x\\partial y}w\\left(x, y\\right)</script></html>"
      ],
      "text/latex": [
       "\\begin{math}\n",
       "\\newcommand{\\Bold}[1]{\\mathbf{#1}}-\\frac{1.0 \\, y \\frac{\\partial}{\\partial y}w\\left(x, y\\right)}{x} - \\frac{2.0 \\, y \\frac{\\partial}{\\partial x}z\\left(x, y\\right)}{x} + \\frac{x \\frac{\\partial}{\\partial y}z\\left(x, y\\right)}{y} - \\frac{\\frac{\\partial}{\\partial x}w\\left(x, y\\right)}{y} + \\frac{\\frac{\\partial}{\\partial y}w\\left(x, y\\right)}{2 \\, y} - \\frac{w\\left(x, y\\right)}{2 \\, y^{2}} + 1.0 \\, \\frac{\\partial^{2}}{\\partial x\\partial y}w\\left(x, y\\right)\n",
       "\\end{math}"
      ],
      "text/plain": [
       "-1.0*y*diff(w(x, y), y)/x - 2.0*y*diff(z(x, y), x)/x + x*diff(z(x, y), y)/y - diff(w(x, y), x)/y + 1/2*diff(w(x, y), y)/y - 1/2*w(x, y)/y^2 + 1.0*diff(w(x, y), x, y)"
      ]
     },
     "metadata": {},
     "output_type": "display_data"
    },
    {
     "name": "stdout",
     "output_type": "stream",
     "text": [
      "Try to reduce r2 with r1\n",
      "have reduced!\n"
     ]
    },
    {
     "data": {
      "text/html": [
       "<html><script type=\"math/tex; mode=display\">\\newcommand{\\Bold}[1]{\\mathbf{#1}}0</script></html>"
      ],
      "text/latex": [
       "\\begin{math}\n",
       "\\newcommand{\\Bold}[1]{\\mathbf{#1}}0\n",
       "\\end{math}"
      ],
      "text/plain": [
       "0"
      ]
     },
     "metadata": {},
     "output_type": "display_data"
    },
    {
     "name": "stdout",
     "output_type": "stream",
     "text": [
      "Try to reduce r3 with r1\n",
      "have reduced!\n"
     ]
    },
    {
     "data": {
      "text/html": [
       "<html><script type=\"math/tex; mode=display\">\\newcommand{\\Bold}[1]{\\mathbf{#1}}0</script></html>"
      ],
      "text/latex": [
       "\\begin{math}\n",
       "\\newcommand{\\Bold}[1]{\\mathbf{#1}}0\n",
       "\\end{math}"
      ],
      "text/plain": [
       "0"
      ]
     },
     "metadata": {},
     "output_type": "display_data"
    },
    {
     "name": "stdout",
     "output_type": "stream",
     "text": [
      "Try to reduce r4 with r1\n",
      "have reduced!\n"
     ]
    },
    {
     "data": {
      "text/html": [
       "<html><script type=\"math/tex; mode=display\">\\newcommand{\\Bold}[1]{\\mathbf{#1}}0</script></html>"
      ],
      "text/latex": [
       "\\begin{math}\n",
       "\\newcommand{\\Bold}[1]{\\mathbf{#1}}0\n",
       "\\end{math}"
      ],
      "text/plain": [
       "0"
      ]
     },
     "metadata": {},
     "output_type": "display_data"
    },
    {
     "ename": "IndexError",
     "evalue": "list index out of range",
     "output_type": "error",
     "traceback": [
      "\u001b[0;31m---------------------------------------------------------------------------\u001b[0m",
      "\u001b[0;31mIndexError\u001b[0m                                Traceback (most recent call last)",
      "\u001b[0;32m<ipython-input-47-d4099c72e149>\u001b[0m in \u001b[0;36m<module>\u001b[0;34m\u001b[0m\n\u001b[0;32m----> 1\u001b[0;31m \u001b[0mcheckS\u001b[0m\u001b[0;34m=\u001b[0m\u001b[0mJanetBasis\u001b[0m\u001b[0;34m(\u001b[0m\u001b[0;34m[\u001b[0m\u001b[0mf3\u001b[0m\u001b[0;34m.\u001b[0m\u001b[0m_orig\u001b[0m\u001b[0;34m,\u001b[0m\u001b[0mf1\u001b[0m\u001b[0;34m.\u001b[0m\u001b[0m_orig\u001b[0m\u001b[0;34m,\u001b[0m\u001b[0mf5\u001b[0m\u001b[0;34m.\u001b[0m\u001b[0m_orig\u001b[0m\u001b[0;34m,\u001b[0m \u001b[0mf2\u001b[0m\u001b[0;34m.\u001b[0m\u001b[0m_orig\u001b[0m\u001b[0;34m,\u001b[0m\u001b[0mf4\u001b[0m\u001b[0;34m.\u001b[0m\u001b[0m_orig\u001b[0m\u001b[0;34m]\u001b[0m\u001b[0;34m,\u001b[0m \u001b[0mctx\u001b[0m\u001b[0;34m)\u001b[0m\u001b[0;34m\u001b[0m\u001b[0;34m\u001b[0m\u001b[0m\n\u001b[0m",
      "\u001b[0;32m<ipython-input-46-1590c51c8053>\u001b[0m in \u001b[0;36mJanetBasis\u001b[0;34m(S, context)\u001b[0m\n\u001b[1;32m      7\u001b[0m     \u001b[0mS\u001b[0m \u001b[0;34m=\u001b[0m \u001b[0mReorder\u001b[0m\u001b[0;34m(\u001b[0m\u001b[0mS\u001b[0m\u001b[0;34m,\u001b[0m \u001b[0mcontext\u001b[0m\u001b[0;34m)\u001b[0m\u001b[0;34m\u001b[0m\u001b[0;34m\u001b[0m\u001b[0m\n\u001b[1;32m      8\u001b[0m     \u001b[0;32mwhile\u001b[0m \u001b[0mInteger\u001b[0m\u001b[0;34m(\u001b[0m\u001b[0;36m1\u001b[0m\u001b[0;34m)\u001b[0m\u001b[0;34m:\u001b[0m\u001b[0;34m\u001b[0m\u001b[0;34m\u001b[0m\u001b[0m\n\u001b[0;32m----> 9\u001b[0;31m         \u001b[0mS\u001b[0m \u001b[0;34m=\u001b[0m \u001b[0mAutoreduce\u001b[0m \u001b[0;34m(\u001b[0m\u001b[0mS\u001b[0m\u001b[0;34m,\u001b[0m \u001b[0mcontext\u001b[0m\u001b[0;34m)\u001b[0m\u001b[0;34m\u001b[0m\u001b[0;34m\u001b[0m\u001b[0m\n\u001b[0m\u001b[1;32m     10\u001b[0m         \u001b[0;31m#S = CompleteSystem (S, context)\u001b[0m\u001b[0;34m\u001b[0m\u001b[0;34m\u001b[0m\u001b[0;34m\u001b[0m\u001b[0m\n\u001b[1;32m     11\u001b[0m         \u001b[0;31m#f = FindIntegrableConditions(S, context)\u001b[0m\u001b[0;34m\u001b[0m\u001b[0;34m\u001b[0m\u001b[0;34m\u001b[0m\u001b[0m\n",
      "\u001b[0;32m<ipython-input-45-54f354e77d5c>\u001b[0m in \u001b[0;36mAutoreduce\u001b[0;34m(S, context)\u001b[0m\n\u001b[1;32m     18\u001b[0m             \u001b[0mS\u001b[0m\u001b[0;34m[\u001b[0m\u001b[0mi\u001b[0m\u001b[0;34m]\u001b[0m \u001b[0;34m=\u001b[0m \u001b[0mres\u001b[0m\u001b[0;34m\u001b[0m\u001b[0;34m\u001b[0m\u001b[0m\n\u001b[1;32m     19\u001b[0m             \u001b[0mcheckidx\u001b[0m \u001b[0;34m+=\u001b[0m \u001b[0mInteger\u001b[0m\u001b[0;34m(\u001b[0m\u001b[0;36m1\u001b[0m\u001b[0;34m)\u001b[0m\u001b[0;34m\u001b[0m\u001b[0;34m\u001b[0m\u001b[0m\n\u001b[0;32m---> 20\u001b[0;31m         \u001b[0mS\u001b[0m \u001b[0;34m=\u001b[0m \u001b[0mReorder\u001b[0m\u001b[0;34m(\u001b[0m\u001b[0mS\u001b[0m\u001b[0;34m,\u001b[0m \u001b[0mcontext\u001b[0m\u001b[0;34m)\u001b[0m\u001b[0;34m\u001b[0m\u001b[0;34m\u001b[0m\u001b[0m\n\u001b[0m\u001b[1;32m     21\u001b[0m         \u001b[0mprint\u001b[0m\u001b[0;34m(\u001b[0m\u001b[0;34m\"This is the new System........\"\u001b[0m\u001b[0;34m)\u001b[0m\u001b[0;34m\u001b[0m\u001b[0;34m\u001b[0m\u001b[0m\n\u001b[1;32m     22\u001b[0m         \u001b[0;32mfor\u001b[0m \u001b[0m_\u001b[0m \u001b[0;32min\u001b[0m \u001b[0mS\u001b[0m\u001b[0;34m:\u001b[0m\u001b[0;34m\u001b[0m\u001b[0;34m\u001b[0m\u001b[0m\n",
      "\u001b[0;32m<ipython-input-31-69f59c02b34b>\u001b[0m in \u001b[0;36mReorder\u001b[0;34m(S, context)\u001b[0m\n\u001b[1;32m      1\u001b[0m \u001b[0;32mdef\u001b[0m \u001b[0mReorder\u001b[0m \u001b[0;34m(\u001b[0m\u001b[0mS\u001b[0m\u001b[0;34m,\u001b[0m \u001b[0mcontext\u001b[0m\u001b[0;34m)\u001b[0m\u001b[0;34m:\u001b[0m\u001b[0;34m\u001b[0m\u001b[0;34m\u001b[0m\u001b[0m\n\u001b[0;32m----> 2\u001b[0;31m     \u001b[0mres\u001b[0m\u001b[0;34m=\u001b[0m\u001b[0msorted\u001b[0m\u001b[0;34m(\u001b[0m\u001b[0mS\u001b[0m\u001b[0;34m)\u001b[0m\u001b[0;34m\u001b[0m\u001b[0;34m\u001b[0m\u001b[0m\n\u001b[0m\u001b[1;32m      3\u001b[0m     \u001b[0mres\u001b[0m\u001b[0;34m.\u001b[0m\u001b[0mreverse\u001b[0m\u001b[0;34m(\u001b[0m\u001b[0;34m)\u001b[0m\u001b[0;34m\u001b[0m\u001b[0;34m\u001b[0m\u001b[0m\n\u001b[1;32m      4\u001b[0m     \u001b[0;32mreturn\u001b[0m \u001b[0mres\u001b[0m\u001b[0;34m\u001b[0m\u001b[0;34m\u001b[0m\u001b[0m\n",
      "\u001b[0;32m~/Dokumente/pylie/pylie/JanetBasis.py\u001b[0m in \u001b[0;36m__lt__\u001b[0;34m(self, other)\u001b[0m\n\u001b[1;32m    112\u001b[0m         \u001b[0;32mreturn\u001b[0m \u001b[0mstr\u001b[0m\u001b[0;34m(\u001b[0m\u001b[0mself\u001b[0m\u001b[0;34m.\u001b[0m\u001b[0m_orig\u001b[0m\u001b[0;34m)\u001b[0m\u001b[0;34m\u001b[0m\u001b[0;34m\u001b[0m\u001b[0m\n\u001b[1;32m    113\u001b[0m     \u001b[0;32mdef\u001b[0m \u001b[0m__lt__\u001b[0m \u001b[0;34m(\u001b[0m\u001b[0mself\u001b[0m\u001b[0;34m,\u001b[0m \u001b[0mother\u001b[0m\u001b[0;34m)\u001b[0m\u001b[0;34m:\u001b[0m\u001b[0;34m\u001b[0m\u001b[0;34m\u001b[0m\u001b[0m\n\u001b[0;32m--> 114\u001b[0;31m         \u001b[0;32mreturn\u001b[0m \u001b[0mself\u001b[0m\u001b[0;34m.\u001b[0m\u001b[0m_p\u001b[0m\u001b[0;34m[\u001b[0m\u001b[0;36m0\u001b[0m\u001b[0;34m]\u001b[0m \u001b[0;34m<\u001b[0m \u001b[0mother\u001b[0m\u001b[0;34m.\u001b[0m\u001b[0m_p\u001b[0m\u001b[0;34m[\u001b[0m\u001b[0;36m0\u001b[0m\u001b[0;34m]\u001b[0m\u001b[0;34m\u001b[0m\u001b[0;34m\u001b[0m\u001b[0m\n\u001b[0m\u001b[1;32m    115\u001b[0m     \u001b[0;32mdef\u001b[0m \u001b[0m__le__\u001b[0m \u001b[0;34m(\u001b[0m\u001b[0mself\u001b[0m\u001b[0;34m,\u001b[0m \u001b[0mother\u001b[0m\u001b[0;34m)\u001b[0m\u001b[0;34m:\u001b[0m\u001b[0;34m\u001b[0m\u001b[0;34m\u001b[0m\u001b[0m\n\u001b[1;32m    116\u001b[0m         \u001b[0;32mreturn\u001b[0m \u001b[0mself\u001b[0m\u001b[0;34m.\u001b[0m\u001b[0m_p\u001b[0m\u001b[0;34m[\u001b[0m\u001b[0;36m0\u001b[0m\u001b[0;34m]\u001b[0m \u001b[0;34m<=\u001b[0m \u001b[0mother\u001b[0m\u001b[0;34m.\u001b[0m\u001b[0m_p\u001b[0m\u001b[0;34m[\u001b[0m\u001b[0;36m0\u001b[0m\u001b[0;34m]\u001b[0m\u001b[0;34m\u001b[0m\u001b[0;34m\u001b[0m\u001b[0m\n",
      "\u001b[0;31mIndexError\u001b[0m: list index out of range"
     ]
    }
   ],
   "source": [
    "checkS=JanetBasis([f3._orig,f1._orig,f5._orig, f2._orig,f4._orig], ctx)"
   ]
  },
  {
   "cell_type": "code",
   "execution_count": 33,
   "id": "095326ce",
   "metadata": {},
   "outputs": [
    {
     "data": {
      "text/html": [
       "<html><script type=\"math/tex; mode=display\">\\newcommand{\\Bold}[1]{\\mathbf{#1}}-\\frac{w\\left(x, y\\right)}{y} + \\frac{x \\frac{\\partial}{\\partial y}z\\left(x, y\\right)}{2 \\, {\\left(x^{2} + y\\right)} y} + \\frac{\\partial}{\\partial y}w\\left(x, y\\right)</script></html>"
      ],
      "text/latex": [
       "\\begin{math}\n",
       "\\newcommand{\\Bold}[1]{\\mathbf{#1}}-\\frac{w\\left(x, y\\right)}{y} + \\frac{x \\frac{\\partial}{\\partial y}z\\left(x, y\\right)}{2 \\, {\\left(x^{2} + y\\right)} y} + \\frac{\\partial}{\\partial y}w\\left(x, y\\right)\n",
       "\\end{math}"
      ],
      "text/plain": [
       "-w(x, y)/y + 1/2*x*diff(z(x, y), y)/((x^2 + y)*y) + diff(w(x, y), y)"
      ]
     },
     "metadata": {},
     "output_type": "display_data"
    },
    {
     "data": {
      "text/html": [
       "<html><script type=\"math/tex; mode=display\">\\newcommand{\\Bold}[1]{\\mathbf{#1}}\\frac{y \\frac{\\partial}{\\partial y}w\\left(x, y\\right)}{x} + \\frac{2 \\, y \\frac{\\partial}{\\partial x}z\\left(x, y\\right)}{x} + \\frac{\\partial^{2}}{\\partial x\\partial y}z\\left(x, y\\right)</script></html>"
      ],
      "text/latex": [
       "\\begin{math}\n",
       "\\newcommand{\\Bold}[1]{\\mathbf{#1}}\\frac{y \\frac{\\partial}{\\partial y}w\\left(x, y\\right)}{x} + \\frac{2 \\, y \\frac{\\partial}{\\partial x}z\\left(x, y\\right)}{x} + \\frac{\\partial^{2}}{\\partial x\\partial y}z\\left(x, y\\right)\n",
       "\\end{math}"
      ],
      "text/plain": [
       "y*diff(w(x, y), y)/x + 2*y*diff(z(x, y), x)/x + diff(z(x, y), x, y)"
      ]
     },
     "metadata": {},
     "output_type": "display_data"
    },
    {
     "data": {
      "text/html": [
       "<html><script type=\"math/tex; mode=display\">\\newcommand{\\Bold}[1]{\\mathbf{#1}}-\\frac{2 \\, x \\frac{\\partial^{2}}{(\\partial x)^{2}}z\\left(x, y\\right)}{y} - \\frac{x \\frac{\\partial}{\\partial x}w\\left(x, y\\right)}{y^{2}} + \\frac{\\partial^{2}}{\\partial x\\partial y}w\\left(x, y\\right)</script></html>"
      ],
      "text/latex": [
       "\\begin{math}\n",
       "\\newcommand{\\Bold}[1]{\\mathbf{#1}}-\\frac{2 \\, x \\frac{\\partial^{2}}{(\\partial x)^{2}}z\\left(x, y\\right)}{y} - \\frac{x \\frac{\\partial}{\\partial x}w\\left(x, y\\right)}{y^{2}} + \\frac{\\partial^{2}}{\\partial x\\partial y}w\\left(x, y\\right)\n",
       "\\end{math}"
      ],
      "text/plain": [
       "-2*x*diff(z(x, y), x, x)/y - x*diff(w(x, y), x)/y^2 + diff(w(x, y), x, y)"
      ]
     },
     "metadata": {},
     "output_type": "display_data"
    },
    {
     "data": {
      "text/html": [
       "<html><script type=\"math/tex; mode=display\">\\newcommand{\\Bold}[1]{\\mathbf{#1}}\\frac{x \\frac{\\partial}{\\partial y}z\\left(x, y\\right)}{y} - \\frac{\\frac{\\partial}{\\partial x}w\\left(x, y\\right)}{y} + \\frac{\\frac{\\partial}{\\partial y}w\\left(x, y\\right)}{2 \\, y} - \\frac{w\\left(x, y\\right)}{2 \\, y^{2}} + \\frac{\\partial^{2}}{\\partial x\\partial y}w\\left(x, y\\right) + \\frac{\\partial^{2}}{\\partial x\\partial y}z\\left(x, y\\right)</script></html>"
      ],
      "text/latex": [
       "\\begin{math}\n",
       "\\newcommand{\\Bold}[1]{\\mathbf{#1}}\\frac{x \\frac{\\partial}{\\partial y}z\\left(x, y\\right)}{y} - \\frac{\\frac{\\partial}{\\partial x}w\\left(x, y\\right)}{y} + \\frac{\\frac{\\partial}{\\partial y}w\\left(x, y\\right)}{2 \\, y} - \\frac{w\\left(x, y\\right)}{2 \\, y^{2}} + \\frac{\\partial^{2}}{\\partial x\\partial y}w\\left(x, y\\right) + \\frac{\\partial^{2}}{\\partial x\\partial y}z\\left(x, y\\right)\n",
       "\\end{math}"
      ],
      "text/plain": [
       "x*diff(z(x, y), y)/y - diff(w(x, y), x)/y + 1/2*diff(w(x, y), y)/y - 1/2*w(x, y)/y^2 + diff(w(x, y), x, y) + diff(z(x, y), x, y)"
      ]
     },
     "metadata": {},
     "output_type": "display_data"
    },
    {
     "data": {
      "text/html": [
       "<html><script type=\"math/tex; mode=display\">\\newcommand{\\Bold}[1]{\\mathbf{#1}}-\\frac{\\frac{\\partial}{\\partial y}w\\left(x, y\\right)}{y} + \\frac{w\\left(x, y\\right)}{y^{2}} + \\frac{\\partial^{2}}{(\\partial y)^{2}}w\\left(x, y\\right) + \\frac{\\partial^{2}}{\\partial x\\partial y}z\\left(x, y\\right)</script></html>"
      ],
      "text/latex": [
       "\\begin{math}\n",
       "\\newcommand{\\Bold}[1]{\\mathbf{#1}}-\\frac{\\frac{\\partial}{\\partial y}w\\left(x, y\\right)}{y} + \\frac{w\\left(x, y\\right)}{y^{2}} + \\frac{\\partial^{2}}{(\\partial y)^{2}}w\\left(x, y\\right) + \\frac{\\partial^{2}}{\\partial x\\partial y}z\\left(x, y\\right)\n",
       "\\end{math}"
      ],
      "text/plain": [
       "-diff(w(x, y), y)/y + w(x, y)/y^2 + diff(w(x, y), y, y) + diff(z(x, y), x, y)"
      ]
     },
     "metadata": {},
     "output_type": "display_data"
    }
   ],
   "source": [
    "for i in (f1._orig, f2._orig,f3._orig, f4._orig,f5._orig):\n",
    "    i.show()"
   ]
  },
  {
   "cell_type": "code",
   "execution_count": 34,
   "id": "ad4da833",
   "metadata": {},
   "outputs": [
    {
     "data": {
      "text/html": [
       "<html><script type=\"math/tex; mode=display\">\\newcommand{\\Bold}[1]{\\mathbf{#1}}-\\frac{w\\left(x, y\\right)}{y} + \\frac{x \\frac{\\partial}{\\partial y}z\\left(x, y\\right)}{2 \\, {\\left(x^{2} + y\\right)} y} + \\frac{\\partial}{\\partial y}w\\left(x, y\\right)</script></html>"
      ],
      "text/latex": [
       "\\begin{math}\n",
       "\\newcommand{\\Bold}[1]{\\mathbf{#1}}-\\frac{w\\left(x, y\\right)}{y} + \\frac{x \\frac{\\partial}{\\partial y}z\\left(x, y\\right)}{2 \\, {\\left(x^{2} + y\\right)} y} + \\frac{\\partial}{\\partial y}w\\left(x, y\\right)\n",
       "\\end{math}"
      ],
      "text/plain": [
       "-w(x, y)/y + 1/2*x*diff(z(x, y), y)/((x^2 + y)*y) + diff(w(x, y), y)"
      ]
     },
     "metadata": {},
     "output_type": "display_data"
    },
    {
     "data": {
      "text/html": [
       "<html><script type=\"math/tex; mode=display\">\\newcommand{\\Bold}[1]{\\mathbf{#1}}\\frac{y \\frac{\\partial}{\\partial y}w\\left(x, y\\right)}{x} + \\frac{2 \\, y \\frac{\\partial}{\\partial x}z\\left(x, y\\right)}{x} + \\frac{\\partial^{2}}{\\partial x\\partial y}z\\left(x, y\\right)</script></html>"
      ],
      "text/latex": [
       "\\begin{math}\n",
       "\\newcommand{\\Bold}[1]{\\mathbf{#1}}\\frac{y \\frac{\\partial}{\\partial y}w\\left(x, y\\right)}{x} + \\frac{2 \\, y \\frac{\\partial}{\\partial x}z\\left(x, y\\right)}{x} + \\frac{\\partial^{2}}{\\partial x\\partial y}z\\left(x, y\\right)\n",
       "\\end{math}"
      ],
      "text/plain": [
       "y*diff(w(x, y), y)/x + 2*y*diff(z(x, y), x)/x + diff(z(x, y), x, y)"
      ]
     },
     "metadata": {},
     "output_type": "display_data"
    },
    {
     "data": {
      "text/html": [
       "<html><script type=\"math/tex; mode=display\">\\newcommand{\\Bold}[1]{\\mathbf{#1}}-\\frac{2 \\, x \\frac{\\partial^{2}}{(\\partial x)^{2}}z\\left(x, y\\right)}{y} - \\frac{1.0 \\, x \\frac{\\partial}{\\partial y}z\\left(x, y\\right)}{y} - \\frac{x \\frac{\\partial}{\\partial x}w\\left(x, y\\right)}{y^{2}} + \\frac{1.0 \\, \\frac{\\partial}{\\partial x}w\\left(x, y\\right)}{y} - \\frac{0.5 \\, \\frac{\\partial}{\\partial y}w\\left(x, y\\right)}{y} + \\frac{0.5 \\, w\\left(x, y\\right)}{y^{2}} - 1.0 \\, \\frac{\\partial^{2}}{\\partial x\\partial y}z\\left(x, y\\right)</script></html>"
      ],
      "text/latex": [
       "\\begin{math}\n",
       "\\newcommand{\\Bold}[1]{\\mathbf{#1}}-\\frac{2 \\, x \\frac{\\partial^{2}}{(\\partial x)^{2}}z\\left(x, y\\right)}{y} - \\frac{1.0 \\, x \\frac{\\partial}{\\partial y}z\\left(x, y\\right)}{y} - \\frac{x \\frac{\\partial}{\\partial x}w\\left(x, y\\right)}{y^{2}} + \\frac{1.0 \\, \\frac{\\partial}{\\partial x}w\\left(x, y\\right)}{y} - \\frac{0.5 \\, \\frac{\\partial}{\\partial y}w\\left(x, y\\right)}{y} + \\frac{0.5 \\, w\\left(x, y\\right)}{y^{2}} - 1.0 \\, \\frac{\\partial^{2}}{\\partial x\\partial y}z\\left(x, y\\right)\n",
       "\\end{math}"
      ],
      "text/plain": [
       "-2*x*diff(z(x, y), x, x)/y - 1.0*x*diff(z(x, y), y)/y - x*diff(w(x, y), x)/y^2 + 1.0*diff(w(x, y), x)/y - 0.5*diff(w(x, y), y)/y + 0.5*w(x, y)/y^2 - 1.0*diff(z(x, y), x, y)"
      ]
     },
     "metadata": {},
     "output_type": "display_data"
    },
    {
     "data": {
      "text/html": [
       "<html><script type=\"math/tex; mode=display\">\\newcommand{\\Bold}[1]{\\mathbf{#1}}-\\frac{\\frac{\\partial}{\\partial y}w\\left(x, y\\right)}{y} + \\frac{w\\left(x, y\\right)}{y^{2}} + \\frac{\\partial^{2}}{(\\partial y)^{2}}w\\left(x, y\\right) + \\frac{\\partial^{2}}{\\partial x\\partial y}z\\left(x, y\\right)</script></html>"
      ],
      "text/latex": [
       "\\begin{math}\n",
       "\\newcommand{\\Bold}[1]{\\mathbf{#1}}-\\frac{\\frac{\\partial}{\\partial y}w\\left(x, y\\right)}{y} + \\frac{w\\left(x, y\\right)}{y^{2}} + \\frac{\\partial^{2}}{(\\partial y)^{2}}w\\left(x, y\\right) + \\frac{\\partial^{2}}{\\partial x\\partial y}z\\left(x, y\\right)\n",
       "\\end{math}"
      ],
      "text/plain": [
       "-diff(w(x, y), y)/y + w(x, y)/y^2 + diff(w(x, y), y, y) + diff(z(x, y), x, y)"
      ]
     },
     "metadata": {},
     "output_type": "display_data"
    },
    {
     "data": {
      "text/html": [
       "<html><script type=\"math/tex; mode=display\">\\newcommand{\\Bold}[1]{\\mathbf{#1}}\\frac{x \\frac{\\partial}{\\partial y}z\\left(x, y\\right)}{y} - \\frac{\\frac{\\partial}{\\partial x}w\\left(x, y\\right)}{y} + \\frac{\\frac{\\partial}{\\partial y}w\\left(x, y\\right)}{2 \\, y} - \\frac{w\\left(x, y\\right)}{2 \\, y^{2}} + \\frac{\\partial^{2}}{\\partial x\\partial y}w\\left(x, y\\right) + \\frac{\\partial^{2}}{\\partial x\\partial y}z\\left(x, y\\right)</script></html>"
      ],
      "text/latex": [
       "\\begin{math}\n",
       "\\newcommand{\\Bold}[1]{\\mathbf{#1}}\\frac{x \\frac{\\partial}{\\partial y}z\\left(x, y\\right)}{y} - \\frac{\\frac{\\partial}{\\partial x}w\\left(x, y\\right)}{y} + \\frac{\\frac{\\partial}{\\partial y}w\\left(x, y\\right)}{2 \\, y} - \\frac{w\\left(x, y\\right)}{2 \\, y^{2}} + \\frac{\\partial^{2}}{\\partial x\\partial y}w\\left(x, y\\right) + \\frac{\\partial^{2}}{\\partial x\\partial y}z\\left(x, y\\right)\n",
       "\\end{math}"
      ],
      "text/plain": [
       "x*diff(z(x, y), y)/y - diff(w(x, y), x)/y + 1/2*diff(w(x, y), y)/y - 1/2*w(x, y)/y^2 + diff(w(x, y), x, y) + diff(z(x, y), x, y)"
      ]
     },
     "metadata": {},
     "output_type": "display_data"
    }
   ],
   "source": [
    "for _ in checkS:\n",
    "    _._orig.show()"
   ]
  },
  {
   "cell_type": "code",
   "execution_count": null,
   "id": "80bcb6f7",
   "metadata": {},
   "outputs": [],
   "source": [
    "g1 = Differential_Polynomial (diff(z,y,y) + diff(z,y)/(2*y), ctx)\n",
    "g1._orig"
   ]
  },
  {
   "cell_type": "code",
   "execution_count": null,
   "id": "54d19bf7",
   "metadata": {},
   "outputs": [],
   "source": [
    "g2 = Differential_Polynomial(diff(w,x,x) + 4*y*y*diff(w,y) - 8*y*y*diff(z, x) - 8*y*w(x,y), ctx)\n",
    "g2._orig"
   ]
  },
  {
   "cell_type": "code",
   "execution_count": null,
   "id": "4c3b19ca",
   "metadata": {},
   "outputs": [],
   "source": [
    "g3 = Differential_Polynomial(diff(w,x,y) - diff(z,x,x)/2 - diff(w,x)/(2*y) - 6*y**2*diff(z,y), ctx)\n",
    "g3._orig"
   ]
  },
  {
   "cell_type": "code",
   "execution_count": null,
   "id": "ec3237cd",
   "metadata": {},
   "outputs": [],
   "source": [
    "g4 = Differential_Polynomial(diff(w,y,y) - 2*diff(z,x,y)- diff(w,y)/(2*y) + w(x,y)/(2*y**2), ctx)\n",
    "g4._orig"
   ]
  },
  {
   "cell_type": "code",
   "execution_count": null,
   "id": "f5b1f835",
   "metadata": {},
   "outputs": [],
   "source": [
    "f1._orig"
   ]
  },
  {
   "cell_type": "code",
   "execution_count": null,
   "id": "6c324bda",
   "metadata": {},
   "outputs": [],
   "source": [
    "f4._orig"
   ]
  },
  {
   "cell_type": "code",
   "execution_count": null,
   "id": "439f4c37",
   "metadata": {},
   "outputs": [],
   "source": [
    "print(f4.Lder(), f1.Lder())"
   ]
  },
  {
   "cell_type": "code",
   "execution_count": null,
   "id": "c3cb7c48",
   "metadata": {},
   "outputs": [],
   "source": [
    "f4a = reduce(f4, f1, ctx)"
   ]
  },
  {
   "cell_type": "code",
   "execution_count": null,
   "id": "71211a5c",
   "metadata": {},
   "outputs": [],
   "source": [
    "for _ in f4a._p:\n",
    "   print (_)"
   ]
  },
  {
   "cell_type": "code",
   "execution_count": null,
   "id": "f73dccc1",
   "metadata": {},
   "outputs": [],
   "source": [
    "f4a._orig"
   ]
  },
  {
   "cell_type": "code",
   "execution_count": null,
   "id": "d4c70d57",
   "metadata": {},
   "outputs": [],
   "source": [
    "wuwu=f4a._p[-1]._coeff.operands()[0]*f4a._p[-1]._coeff.operands()[1].expand().simplify_full()"
   ]
  },
  {
   "cell_type": "code",
   "execution_count": null,
   "id": "da6b7046",
   "metadata": {},
   "outputs": [],
   "source": [
    "f4b = reduce(f4a, f1, ctx)"
   ]
  },
  {
   "cell_type": "code",
   "execution_count": null,
   "id": "52ffa36b",
   "metadata": {},
   "outputs": [],
   "source": [
    "f4b._orig"
   ]
  },
  {
   "cell_type": "code",
   "execution_count": null,
   "id": "f765a7a1",
   "metadata": {},
   "outputs": [],
   "source": [
    "functools.reduce(operator.mul, f4b._p[1]._coeff.operands()).expand().simplify_full()"
   ]
  },
  {
   "cell_type": "code",
   "execution_count": null,
   "id": "f40304a1",
   "metadata": {},
   "outputs": [],
   "source": [
    "f4c = reduce(f4b, f2, ctx)"
   ]
  },
  {
   "cell_type": "code",
   "execution_count": null,
   "id": "2239b37f",
   "metadata": {},
   "outputs": [],
   "source": [
    "f4c._p[2]._coeff.expand().simplify_full()"
   ]
  },
  {
   "cell_type": "code",
   "execution_count": null,
   "id": "fa057aca",
   "metadata": {},
   "outputs": [],
   "source": [
    "f4d = reduce (f4c, f1, ctx)"
   ]
  },
  {
   "cell_type": "code",
   "execution_count": null,
   "id": "75a029c3",
   "metadata": {},
   "outputs": [],
   "source": [
    "f4d._p[1]._coeff.expand().simplify_full()"
   ]
  },
  {
   "cell_type": "code",
   "execution_count": null,
   "id": "587c2246",
   "metadata": {},
   "outputs": [],
   "source": [
    "f4d._p[0]._d"
   ]
  },
  {
   "cell_type": "code",
   "execution_count": null,
   "id": "d9e2dabb",
   "metadata": {},
   "outputs": [],
   "source": [
    "wuwu.collect(y)\n",
    "# correct according Example 2.35"
   ]
  },
  {
   "cell_type": "code",
   "execution_count": null,
   "id": "37353c77",
   "metadata": {},
   "outputs": [],
   "source": [
    "wuwu=f4a._p[-2]._coeff"
   ]
  },
  {
   "cell_type": "code",
   "execution_count": null,
   "id": "c2c50bc9",
   "metadata": {},
   "outputs": [],
   "source": [
    "wuwu"
   ]
  },
  {
   "cell_type": "code",
   "execution_count": null,
   "id": "6f2e676c",
   "metadata": {},
   "outputs": [],
   "source": [
    "wuwu=f4a._p[-2]._coeff.operands()"
   ]
  },
  {
   "cell_type": "code",
   "execution_count": null,
   "id": "a237b76e",
   "metadata": {},
   "outputs": [],
   "source": [
    "wuwu"
   ]
  },
  {
   "cell_type": "code",
   "execution_count": null,
   "id": "a7c31a3f",
   "metadata": {},
   "outputs": [],
   "source": [
    "wawa=wuwu[0]*wuwu[1]"
   ]
  },
  {
   "cell_type": "code",
   "execution_count": null,
   "id": "9ea44a0d",
   "metadata": {},
   "outputs": [],
   "source": [
    "wawa.expand().simplify_full()"
   ]
  },
  {
   "cell_type": "code",
   "execution_count": null,
   "id": "6da115b5",
   "metadata": {},
   "outputs": [],
   "source": [
    "# wawa is a"
   ]
  },
  {
   "cell_type": "code",
   "execution_count": null,
   "id": "e3874b9d",
   "metadata": {},
   "outputs": [],
   "source": []
  }
 ],
 "metadata": {
  "kernelspec": {
   "display_name": "SageMath 9.2",
   "language": "sage",
   "name": "sagemath"
  },
  "language_info": {
   "codemirror_mode": {
    "name": "ipython",
    "version": 3
   },
   "file_extension": ".py",
   "mimetype": "text/x-python",
   "name": "python",
   "nbconvert_exporter": "python",
   "pygments_lexer": "ipython3",
   "version": "3.9.2"
  }
 },
 "nbformat": 4,
 "nbformat_minor": 5
}
