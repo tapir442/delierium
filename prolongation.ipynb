{
 "cells": [
  {
   "cell_type": "code",
   "execution_count": 1,
   "metadata": {},
   "outputs": [],
   "source": [
    "%display latex"
   ]
  },
  {
   "cell_type": "code",
   "execution_count": 36,
   "metadata": {},
   "outputs": [],
   "source": [
    "from itertools import product\n",
    "from pprint import pprint\n",
    "from collections.abc import Iterable\n",
    "from functools import cache"
   ]
  },
  {
   "cell_type": "code",
   "execution_count": 56,
   "metadata": {},
   "outputs": [],
   "source": [
    "def prolongation (f, x, order):\n",
    "    f      = f if isinstance(f, Iterable) else [f]\n",
    "    x      = x if isinstance(x, Iterable) else [x]\n",
    "    result = f\n",
    "    aux    = result[:]\n",
    "    @cache\n",
    "    def _diff(_f, _x):\n",
    "        return diff(_f,_x)\n",
    "    for i in range(order):   \n",
    "        kkk =  [_ for _ in product (f,x)]\n",
    "        pprint (kkk)\n",
    "        aux = list(map (_diff, product (f,x)))\n",
    "        # avoid duplicates and keep order\n",
    "        # hell , is that slow!\n",
    "        # will have to learn how to compute the jet space, or\n",
    "        # write a function for traversing the expression tree\n",
    "        result += [_ for _ in aux if _ not in result] \n",
    "    return result"
   ]
  },
  {
   "cell_type": "code",
   "execution_count": 57,
   "metadata": {},
   "outputs": [
    {
     "name": "stdout",
     "output_type": "stream",
     "text": [
      "[(x^2*diff(f(x, y, z), x, y) + sin(x*y + z), x),\n",
      " (x^2*diff(f(x, y, z), x, y) + sin(x*y + z), y),\n",
      " (x^2*diff(f(x, y, z), x, y) + sin(x*y + z), z),\n",
      " (x^2*diff(f(x, y, z), y, z, z) + sin(x*y + z), x),\n",
      " (x^2*diff(f(x, y, z), y, z, z) + sin(x*y + z), y),\n",
      " (x^2*diff(f(x, y, z), y, z, z) + sin(x*y + z), z)]\n"
     ]
    },
    {
     "ename": "TypeError",
     "evalue": "_diff() missing 1 required positional argument: '_x'",
     "output_type": "error",
     "traceback": [
      "\u001b[0;31m---------------------------------------------------------------------------\u001b[0m",
      "\u001b[0;31mTypeError\u001b[0m                                 Traceback (most recent call last)",
      "\u001b[0;32m<ipython-input-57-72c09b89b859>\u001b[0m in \u001b[0;36m<module>\u001b[0;34m\u001b[0m\n\u001b[1;32m      4\u001b[0m \u001b[0mg\u001b[0m \u001b[0;34m=\u001b[0m \u001b[0mx\u001b[0m\u001b[0;34m**\u001b[0m\u001b[0mInteger\u001b[0m\u001b[0;34m(\u001b[0m\u001b[0;36m2\u001b[0m\u001b[0;34m)\u001b[0m\u001b[0;34m*\u001b[0m\u001b[0mdiff\u001b[0m\u001b[0;34m(\u001b[0m\u001b[0mf\u001b[0m\u001b[0;34m,\u001b[0m\u001b[0mx\u001b[0m\u001b[0;34m,\u001b[0m\u001b[0my\u001b[0m\u001b[0;34m)\u001b[0m\u001b[0;34m+\u001b[0m\u001b[0msin\u001b[0m\u001b[0;34m(\u001b[0m\u001b[0mx\u001b[0m\u001b[0;34m*\u001b[0m\u001b[0my\u001b[0m \u001b[0;34m+\u001b[0m \u001b[0mz\u001b[0m\u001b[0;34m)\u001b[0m\u001b[0;34m\u001b[0m\u001b[0;34m\u001b[0m\u001b[0m\n\u001b[1;32m      5\u001b[0m \u001b[0mf\u001b[0m \u001b[0;34m=\u001b[0m \u001b[0mx\u001b[0m\u001b[0;34m**\u001b[0m\u001b[0mInteger\u001b[0m\u001b[0;34m(\u001b[0m\u001b[0;36m2\u001b[0m\u001b[0;34m)\u001b[0m\u001b[0;34m*\u001b[0m\u001b[0mdiff\u001b[0m\u001b[0;34m(\u001b[0m\u001b[0mf\u001b[0m\u001b[0;34m,\u001b[0m\u001b[0my\u001b[0m\u001b[0;34m,\u001b[0m\u001b[0mz\u001b[0m\u001b[0;34m,\u001b[0m\u001b[0mz\u001b[0m\u001b[0;34m)\u001b[0m\u001b[0;34m+\u001b[0m\u001b[0msin\u001b[0m\u001b[0;34m(\u001b[0m\u001b[0mx\u001b[0m\u001b[0;34m*\u001b[0m\u001b[0my\u001b[0m \u001b[0;34m+\u001b[0m \u001b[0mz\u001b[0m\u001b[0;34m)\u001b[0m\u001b[0;34m\u001b[0m\u001b[0;34m\u001b[0m\u001b[0m\n\u001b[0;32m----> 6\u001b[0;31m \u001b[0mk\u001b[0m \u001b[0;34m=\u001b[0m \u001b[0mprolongation\u001b[0m \u001b[0;34m(\u001b[0m\u001b[0;34m[\u001b[0m\u001b[0mg\u001b[0m\u001b[0;34m,\u001b[0m \u001b[0mf\u001b[0m\u001b[0;34m]\u001b[0m\u001b[0;34m,\u001b[0m \u001b[0;34m[\u001b[0m\u001b[0mx\u001b[0m\u001b[0;34m,\u001b[0m\u001b[0my\u001b[0m\u001b[0;34m,\u001b[0m\u001b[0mz\u001b[0m\u001b[0;34m]\u001b[0m\u001b[0;34m,\u001b[0m \u001b[0mInteger\u001b[0m\u001b[0;34m(\u001b[0m\u001b[0;36m3\u001b[0m\u001b[0;34m)\u001b[0m\u001b[0;34m)\u001b[0m\u001b[0;34m;\u001b[0m\u001b[0mk\u001b[0m\u001b[0;34m\u001b[0m\u001b[0;34m\u001b[0m\u001b[0m\n\u001b[0m",
      "\u001b[0;32m<ipython-input-56-1e052bed0f75>\u001b[0m in \u001b[0;36mprolongation\u001b[0;34m(f, x, order)\u001b[0m\n\u001b[1;32m     10\u001b[0m         \u001b[0mkkk\u001b[0m \u001b[0;34m=\u001b[0m  \u001b[0;34m[\u001b[0m\u001b[0m_\u001b[0m \u001b[0;32mfor\u001b[0m \u001b[0m_\u001b[0m \u001b[0;32min\u001b[0m \u001b[0mproduct\u001b[0m \u001b[0;34m(\u001b[0m\u001b[0mf\u001b[0m\u001b[0;34m,\u001b[0m\u001b[0mx\u001b[0m\u001b[0;34m)\u001b[0m\u001b[0;34m]\u001b[0m\u001b[0;34m\u001b[0m\u001b[0;34m\u001b[0m\u001b[0m\n\u001b[1;32m     11\u001b[0m         \u001b[0mpprint\u001b[0m \u001b[0;34m(\u001b[0m\u001b[0mkkk\u001b[0m\u001b[0;34m)\u001b[0m\u001b[0;34m\u001b[0m\u001b[0;34m\u001b[0m\u001b[0m\n\u001b[0;32m---> 12\u001b[0;31m         \u001b[0maux\u001b[0m \u001b[0;34m=\u001b[0m \u001b[0mlist\u001b[0m\u001b[0;34m(\u001b[0m\u001b[0mmap\u001b[0m \u001b[0;34m(\u001b[0m\u001b[0m_diff\u001b[0m\u001b[0;34m,\u001b[0m \u001b[0mproduct\u001b[0m \u001b[0;34m(\u001b[0m\u001b[0mf\u001b[0m\u001b[0;34m,\u001b[0m\u001b[0mx\u001b[0m\u001b[0;34m)\u001b[0m\u001b[0;34m)\u001b[0m\u001b[0;34m)\u001b[0m\u001b[0;34m\u001b[0m\u001b[0;34m\u001b[0m\u001b[0m\n\u001b[0m\u001b[1;32m     13\u001b[0m         \u001b[0;31m# avoid duplicates and keep order\u001b[0m\u001b[0;34m\u001b[0m\u001b[0;34m\u001b[0m\u001b[0;34m\u001b[0m\u001b[0m\n\u001b[1;32m     14\u001b[0m         \u001b[0;31m# hell , is that slow!\u001b[0m\u001b[0;34m\u001b[0m\u001b[0;34m\u001b[0m\u001b[0;34m\u001b[0m\u001b[0m\n",
      "\u001b[0;31mTypeError\u001b[0m: _diff() missing 1 required positional argument: '_x'"
     ]
    }
   ],
   "source": [
    "var (\"x y z\")\n",
    "f = function(\"f\")(x,y,z)\n",
    "g = function(\"g\")(x,y,z)\n",
    "g = x**2*diff(f,x,y)+sin(x*y + z)\n",
    "f = x**2*diff(f,y,z,z)+sin(x*y + z)\n",
    "k = prolongation ([g, f], [x,y,z], 3);k"
   ]
  },
  {
   "cell_type": "code",
   "execution_count": 43,
   "metadata": {},
   "outputs": [],
   "source": [
    "k = list(set(k))"
   ]
  },
  {
   "cell_type": "code",
   "execution_count": 27,
   "metadata": {},
   "outputs": [
    {
     "data": {
      "text/html": [
       "<html>\\[\\newcommand{\\Bold}[1]{\\mathbf{#1}}\\left[x^{2} \\frac{\\partial^{6}}{(\\partial y)^{2}(\\partial z)^{4}}f\\left(x, y, z\\right) - x \\cos\\left(x y + z\\right), x^{2} \\frac{\\partial^{5}}{\\partial y(\\partial z)^{4}}f\\left(x, y, z\\right) - \\sin\\left(x y + z\\right), -x^{2} \\cos\\left(x y + z\\right) + x^{2} \\frac{\\partial^{5}}{\\partial x(\\partial y)^{3}\\partial z}f\\left(x, y, z\\right), x^{2} \\frac{\\partial^{3}}{\\partial x(\\partial y)^{2}}f\\left(x, y, z\\right) + x \\cos\\left(x y + z\\right), x^{2} \\frac{\\partial^{6}}{\\partial x\\partial y(\\partial z)^{4}}f\\left(x, y, z\\right) - y \\cos\\left(x y + z\\right) + 2 \\, x \\frac{\\partial^{5}}{\\partial y(\\partial z)^{4}}f\\left(x, y, z\\right), x^{2} \\frac{\\partial^{3}}{(\\partial x)^{2}\\partial y}f\\left(x, y, z\\right) + y \\cos\\left(x y + z\\right) + 2 \\, x \\frac{\\partial^{2}}{\\partial x\\partial y}f\\left(x, y, z\\right), x^{2} \\frac{\\partial^{2}}{\\partial x\\partial y}f\\left(x, y, z\\right) + \\sin\\left(x y + z\\right), -x^{3} \\cos\\left(x y + z\\right) + x^{2} \\frac{\\partial^{5}}{\\partial x(\\partial y)^{4}}f\\left(x, y, z\\right), -x y^{2} \\cos\\left(x y + z\\right) + x^{2} \\frac{\\partial^{6}}{(\\partial x)^{2}(\\partial y)^{2}(\\partial z)^{2}}f\\left(x, y, z\\right) - 2 \\, y \\sin\\left(x y + z\\right) + 4 \\, x \\frac{\\partial^{5}}{\\partial x(\\partial y)^{2}(\\partial z)^{2}}f\\left(x, y, z\\right) + 2 \\, \\frac{\\partial^{4}}{(\\partial y)^{2}(\\partial z)^{2}}f\\left(x, y, z\\right), -y^{2} \\cos\\left(x y + z\\right) + x^{2} \\frac{\\partial^{5}}{(\\partial x)^{3}\\partial y\\partial z}f\\left(x, y, z\\right) + 4 \\, x \\frac{\\partial^{4}}{(\\partial x)^{2}\\partial y\\partial z}f\\left(x, y, z\\right) + 2 \\, \\frac{\\partial^{3}}{\\partial x\\partial y\\partial z}f\\left(x, y, z\\right), -x^{2} y \\cos\\left(x y + z\\right) + x^{2} \\frac{\\partial^{5}}{(\\partial x)^{2}(\\partial y)^{3}}f\\left(x, y, z\\right) - 2 \\, x \\sin\\left(x y + z\\right) + 2 \\, x \\frac{\\partial^{4}}{\\partial x(\\partial y)^{3}}f\\left(x, y, z\\right), -x y \\sin\\left(x y + z\\right) + x^{2} \\frac{\\partial^{4}}{(\\partial x)^{2}(\\partial y)^{2}}f\\left(x, y, z\\right) + 2 \\, x \\frac{\\partial^{3}}{\\partial x(\\partial y)^{2}}f\\left(x, y, z\\right) + \\cos\\left(x y + z\\right), x^{2} \\frac{\\partial^{5}}{(\\partial x)^{2}\\partial y(\\partial z)^{2}}f\\left(x, y, z\\right) - y \\cos\\left(x y + z\\right) + 2 \\, x \\frac{\\partial^{4}}{\\partial x\\partial y(\\partial z)^{2}}f\\left(x, y, z\\right), -x^{2} \\sin\\left(x y + z\\right) + x^{2} \\frac{\\partial^{4}}{\\partial x(\\partial y)^{3}}f\\left(x, y, z\\right), -y^{3} \\cos\\left(x y + z\\right) + x^{2} \\frac{\\partial^{6}}{(\\partial x)^{3}\\partial y(\\partial z)^{2}}f\\left(x, y, z\\right) + 6 \\, x \\frac{\\partial^{5}}{(\\partial x)^{2}\\partial y(\\partial z)^{2}}f\\left(x, y, z\\right) + 6 \\, \\frac{\\partial^{4}}{\\partial x\\partial y(\\partial z)^{2}}f\\left(x, y, z\\right), -x y^{2} \\cos\\left(x y + z\\right) + x^{2} \\frac{\\partial^{5}}{(\\partial x)^{3}(\\partial y)^{2}}f\\left(x, y, z\\right) - 2 \\, y \\sin\\left(x y + z\\right) + 4 \\, x \\frac{\\partial^{4}}{(\\partial x)^{2}(\\partial y)^{2}}f\\left(x, y, z\\right) + 2 \\, \\frac{\\partial^{3}}{\\partial x(\\partial y)^{2}}f\\left(x, y, z\\right), -y^{2} \\sin\\left(x y + z\\right) + x^{2} \\frac{\\partial^{4}}{(\\partial x)^{3}\\partial y}f\\left(x, y, z\\right) + 4 \\, x \\frac{\\partial^{3}}{(\\partial x)^{2}\\partial y}f\\left(x, y, z\\right) + 2 \\, \\frac{\\partial^{2}}{\\partial x\\partial y}f\\left(x, y, z\\right), x^{2} \\frac{\\partial^{5}}{\\partial x\\partial y(\\partial z)^{3}}f\\left(x, y, z\\right) - \\cos\\left(x y + z\\right), x^{2} \\frac{\\partial^{3}}{\\partial y(\\partial z)^{2}}f\\left(x, y, z\\right) + \\sin\\left(x y + z\\right), x^{2} \\frac{\\partial^{5}}{(\\partial y)^{2}(\\partial z)^{3}}f\\left(x, y, z\\right) - x \\sin\\left(x y + z\\right), x^{2} \\frac{\\partial^{4}}{\\partial x(\\partial y)^{2}\\partial z}f\\left(x, y, z\\right) - x \\sin\\left(x y + z\\right), -x^{3} \\cos\\left(x y + z\\right) + x^{2} \\frac{\\partial^{6}}{(\\partial y)^{4}(\\partial z)^{2}}f\\left(x, y, z\\right), x^{2} \\frac{\\partial^{4}}{(\\partial y)^{2}(\\partial z)^{2}}f\\left(x, y, z\\right) + x \\cos\\left(x y + z\\right), x^{2} \\frac{\\partial^{6}}{\\partial y(\\partial z)^{5}}f\\left(x, y, z\\right) - \\cos\\left(x y + z\\right), -x y \\cos\\left(x y + z\\right) + x^{2} \\frac{\\partial^{6}}{\\partial x(\\partial y)^{2}(\\partial z)^{3}}f\\left(x, y, z\\right) + 2 \\, x \\frac{\\partial^{5}}{(\\partial y)^{2}(\\partial z)^{3}}f\\left(x, y, z\\right) - \\sin\\left(x y + z\\right), -x^{2} \\sin\\left(x y + z\\right) + x^{2} \\frac{\\partial^{5}}{(\\partial y)^{3}(\\partial z)^{2}}f\\left(x, y, z\\right), x^{2} \\frac{\\partial^{4}}{(\\partial x)^{2}\\partial y\\partial z}f\\left(x, y, z\\right) - y \\sin\\left(x y + z\\right) + 2 \\, x \\frac{\\partial^{3}}{\\partial x\\partial y\\partial z}f\\left(x, y, z\\right), x^{2} \\frac{\\partial^{5}}{\\partial x(\\partial y)^{2}(\\partial z)^{2}}f\\left(x, y, z\\right) - x \\cos\\left(x y + z\\right), -x y \\cos\\left(x y + z\\right) + x^{2} \\frac{\\partial^{5}}{(\\partial x)^{2}(\\partial y)^{2}\\partial z}f\\left(x, y, z\\right) + 2 \\, x \\frac{\\partial^{4}}{\\partial x(\\partial y)^{2}\\partial z}f\\left(x, y, z\\right) - \\sin\\left(x y + z\\right), -x y \\sin\\left(x y + z\\right) + x^{2} \\frac{\\partial^{5}}{\\partial x(\\partial y)^{2}(\\partial z)^{2}}f\\left(x, y, z\\right) + 2 \\, x \\frac{\\partial^{4}}{(\\partial y)^{2}(\\partial z)^{2}}f\\left(x, y, z\\right) + \\cos\\left(x y + z\\right), -y^{3} \\cos\\left(x y + z\\right) + x^{2} \\frac{\\partial^{5}}{(\\partial x)^{4}\\partial y}f\\left(x, y, z\\right) + 6 \\, x \\frac{\\partial^{4}}{(\\partial x)^{3}\\partial y}f\\left(x, y, z\\right) + 6 \\, \\frac{\\partial^{3}}{(\\partial x)^{2}\\partial y}f\\left(x, y, z\\right), -x^{2} \\cos\\left(x y + z\\right) + x^{2} \\frac{\\partial^{6}}{(\\partial y)^{3}(\\partial z)^{3}}f\\left(x, y, z\\right), -y^{2} \\cos\\left(x y + z\\right) + x^{2} \\frac{\\partial^{6}}{(\\partial x)^{2}\\partial y(\\partial z)^{3}}f\\left(x, y, z\\right) + 4 \\, x \\frac{\\partial^{5}}{\\partial x\\partial y(\\partial z)^{3}}f\\left(x, y, z\\right) + 2 \\, \\frac{\\partial^{4}}{\\partial y(\\partial z)^{3}}f\\left(x, y, z\\right), x^{2} \\frac{\\partial^{4}}{\\partial x\\partial y(\\partial z)^{2}}f\\left(x, y, z\\right) - \\sin\\left(x y + z\\right), -x^{2} y \\cos\\left(x y + z\\right) + x^{2} \\frac{\\partial^{6}}{\\partial x(\\partial y)^{3}(\\partial z)^{2}}f\\left(x, y, z\\right) - 2 \\, x \\sin\\left(x y + z\\right) + 2 \\, x \\frac{\\partial^{5}}{(\\partial y)^{3}(\\partial z)^{2}}f\\left(x, y, z\\right), x^{2} \\frac{\\partial^{4}}{\\partial x\\partial y(\\partial z)^{2}}f\\left(x, y, z\\right) + y \\cos\\left(x y + z\\right) + 2 \\, x \\frac{\\partial^{3}}{\\partial y(\\partial z)^{2}}f\\left(x, y, z\\right), x^{2} \\frac{\\partial^{4}}{\\partial y(\\partial z)^{3}}f\\left(x, y, z\\right) + \\cos\\left(x y + z\\right), -y^{2} \\sin\\left(x y + z\\right) + x^{2} \\frac{\\partial^{5}}{(\\partial x)^{2}\\partial y(\\partial z)^{2}}f\\left(x, y, z\\right) + 4 \\, x \\frac{\\partial^{4}}{\\partial x\\partial y(\\partial z)^{2}}f\\left(x, y, z\\right) + 2 \\, \\frac{\\partial^{3}}{\\partial y(\\partial z)^{2}}f\\left(x, y, z\\right), x^{2} \\frac{\\partial^{5}}{\\partial x\\partial y(\\partial z)^{3}}f\\left(x, y, z\\right) - y \\sin\\left(x y + z\\right) + 2 \\, x \\frac{\\partial^{4}}{\\partial y(\\partial z)^{3}}f\\left(x, y, z\\right), x^{2} \\frac{\\partial^{3}}{\\partial x\\partial y\\partial z}f\\left(x, y, z\\right) + \\cos\\left(x y + z\\right)\\right]\\]</html>"
      ],
      "text/latex": [
       "$$\\newcommand{\\Bold}[1]{\\mathbf{#1}}\\left[x^{2} \\frac{\\partial^{6}}{(\\partial y)^{2}(\\partial z)^{4}}f\\left(x, y, z\\right) - x \\cos\\left(x y + z\\right), x^{2} \\frac{\\partial^{5}}{\\partial y(\\partial z)^{4}}f\\left(x, y, z\\right) - \\sin\\left(x y + z\\right), -x^{2} \\cos\\left(x y + z\\right) + x^{2} \\frac{\\partial^{5}}{\\partial x(\\partial y)^{3}\\partial z}f\\left(x, y, z\\right), x^{2} \\frac{\\partial^{3}}{\\partial x(\\partial y)^{2}}f\\left(x, y, z\\right) + x \\cos\\left(x y + z\\right), x^{2} \\frac{\\partial^{6}}{\\partial x\\partial y(\\partial z)^{4}}f\\left(x, y, z\\right) - y \\cos\\left(x y + z\\right) + 2 \\, x \\frac{\\partial^{5}}{\\partial y(\\partial z)^{4}}f\\left(x, y, z\\right), x^{2} \\frac{\\partial^{3}}{(\\partial x)^{2}\\partial y}f\\left(x, y, z\\right) + y \\cos\\left(x y + z\\right) + 2 \\, x \\frac{\\partial^{2}}{\\partial x\\partial y}f\\left(x, y, z\\right), x^{2} \\frac{\\partial^{2}}{\\partial x\\partial y}f\\left(x, y, z\\right) + \\sin\\left(x y + z\\right), -x^{3} \\cos\\left(x y + z\\right) + x^{2} \\frac{\\partial^{5}}{\\partial x(\\partial y)^{4}}f\\left(x, y, z\\right), -x y^{2} \\cos\\left(x y + z\\right) + x^{2} \\frac{\\partial^{6}}{(\\partial x)^{2}(\\partial y)^{2}(\\partial z)^{2}}f\\left(x, y, z\\right) - 2 \\, y \\sin\\left(x y + z\\right) + 4 \\, x \\frac{\\partial^{5}}{\\partial x(\\partial y)^{2}(\\partial z)^{2}}f\\left(x, y, z\\right) + 2 \\, \\frac{\\partial^{4}}{(\\partial y)^{2}(\\partial z)^{2}}f\\left(x, y, z\\right), -y^{2} \\cos\\left(x y + z\\right) + x^{2} \\frac{\\partial^{5}}{(\\partial x)^{3}\\partial y\\partial z}f\\left(x, y, z\\right) + 4 \\, x \\frac{\\partial^{4}}{(\\partial x)^{2}\\partial y\\partial z}f\\left(x, y, z\\right) + 2 \\, \\frac{\\partial^{3}}{\\partial x\\partial y\\partial z}f\\left(x, y, z\\right), -x^{2} y \\cos\\left(x y + z\\right) + x^{2} \\frac{\\partial^{5}}{(\\partial x)^{2}(\\partial y)^{3}}f\\left(x, y, z\\right) - 2 \\, x \\sin\\left(x y + z\\right) + 2 \\, x \\frac{\\partial^{4}}{\\partial x(\\partial y)^{3}}f\\left(x, y, z\\right), -x y \\sin\\left(x y + z\\right) + x^{2} \\frac{\\partial^{4}}{(\\partial x)^{2}(\\partial y)^{2}}f\\left(x, y, z\\right) + 2 \\, x \\frac{\\partial^{3}}{\\partial x(\\partial y)^{2}}f\\left(x, y, z\\right) + \\cos\\left(x y + z\\right), x^{2} \\frac{\\partial^{5}}{(\\partial x)^{2}\\partial y(\\partial z)^{2}}f\\left(x, y, z\\right) - y \\cos\\left(x y + z\\right) + 2 \\, x \\frac{\\partial^{4}}{\\partial x\\partial y(\\partial z)^{2}}f\\left(x, y, z\\right), -x^{2} \\sin\\left(x y + z\\right) + x^{2} \\frac{\\partial^{4}}{\\partial x(\\partial y)^{3}}f\\left(x, y, z\\right), -y^{3} \\cos\\left(x y + z\\right) + x^{2} \\frac{\\partial^{6}}{(\\partial x)^{3}\\partial y(\\partial z)^{2}}f\\left(x, y, z\\right) + 6 \\, x \\frac{\\partial^{5}}{(\\partial x)^{2}\\partial y(\\partial z)^{2}}f\\left(x, y, z\\right) + 6 \\, \\frac{\\partial^{4}}{\\partial x\\partial y(\\partial z)^{2}}f\\left(x, y, z\\right), -x y^{2} \\cos\\left(x y + z\\right) + x^{2} \\frac{\\partial^{5}}{(\\partial x)^{3}(\\partial y)^{2}}f\\left(x, y, z\\right) - 2 \\, y \\sin\\left(x y + z\\right) + 4 \\, x \\frac{\\partial^{4}}{(\\partial x)^{2}(\\partial y)^{2}}f\\left(x, y, z\\right) + 2 \\, \\frac{\\partial^{3}}{\\partial x(\\partial y)^{2}}f\\left(x, y, z\\right), -y^{2} \\sin\\left(x y + z\\right) + x^{2} \\frac{\\partial^{4}}{(\\partial x)^{3}\\partial y}f\\left(x, y, z\\right) + 4 \\, x \\frac{\\partial^{3}}{(\\partial x)^{2}\\partial y}f\\left(x, y, z\\right) + 2 \\, \\frac{\\partial^{2}}{\\partial x\\partial y}f\\left(x, y, z\\right), x^{2} \\frac{\\partial^{5}}{\\partial x\\partial y(\\partial z)^{3}}f\\left(x, y, z\\right) - \\cos\\left(x y + z\\right), x^{2} \\frac{\\partial^{3}}{\\partial y(\\partial z)^{2}}f\\left(x, y, z\\right) + \\sin\\left(x y + z\\right), x^{2} \\frac{\\partial^{5}}{(\\partial y)^{2}(\\partial z)^{3}}f\\left(x, y, z\\right) - x \\sin\\left(x y + z\\right), x^{2} \\frac{\\partial^{4}}{\\partial x(\\partial y)^{2}\\partial z}f\\left(x, y, z\\right) - x \\sin\\left(x y + z\\right), -x^{3} \\cos\\left(x y + z\\right) + x^{2} \\frac{\\partial^{6}}{(\\partial y)^{4}(\\partial z)^{2}}f\\left(x, y, z\\right), x^{2} \\frac{\\partial^{4}}{(\\partial y)^{2}(\\partial z)^{2}}f\\left(x, y, z\\right) + x \\cos\\left(x y + z\\right), x^{2} \\frac{\\partial^{6}}{\\partial y(\\partial z)^{5}}f\\left(x, y, z\\right) - \\cos\\left(x y + z\\right), -x y \\cos\\left(x y + z\\right) + x^{2} \\frac{\\partial^{6}}{\\partial x(\\partial y)^{2}(\\partial z)^{3}}f\\left(x, y, z\\right) + 2 \\, x \\frac{\\partial^{5}}{(\\partial y)^{2}(\\partial z)^{3}}f\\left(x, y, z\\right) - \\sin\\left(x y + z\\right), -x^{2} \\sin\\left(x y + z\\right) + x^{2} \\frac{\\partial^{5}}{(\\partial y)^{3}(\\partial z)^{2}}f\\left(x, y, z\\right), x^{2} \\frac{\\partial^{4}}{(\\partial x)^{2}\\partial y\\partial z}f\\left(x, y, z\\right) - y \\sin\\left(x y + z\\right) + 2 \\, x \\frac{\\partial^{3}}{\\partial x\\partial y\\partial z}f\\left(x, y, z\\right), x^{2} \\frac{\\partial^{5}}{\\partial x(\\partial y)^{2}(\\partial z)^{2}}f\\left(x, y, z\\right) - x \\cos\\left(x y + z\\right), -x y \\cos\\left(x y + z\\right) + x^{2} \\frac{\\partial^{5}}{(\\partial x)^{2}(\\partial y)^{2}\\partial z}f\\left(x, y, z\\right) + 2 \\, x \\frac{\\partial^{4}}{\\partial x(\\partial y)^{2}\\partial z}f\\left(x, y, z\\right) - \\sin\\left(x y + z\\right), -x y \\sin\\left(x y + z\\right) + x^{2} \\frac{\\partial^{5}}{\\partial x(\\partial y)^{2}(\\partial z)^{2}}f\\left(x, y, z\\right) + 2 \\, x \\frac{\\partial^{4}}{(\\partial y)^{2}(\\partial z)^{2}}f\\left(x, y, z\\right) + \\cos\\left(x y + z\\right), -y^{3} \\cos\\left(x y + z\\right) + x^{2} \\frac{\\partial^{5}}{(\\partial x)^{4}\\partial y}f\\left(x, y, z\\right) + 6 \\, x \\frac{\\partial^{4}}{(\\partial x)^{3}\\partial y}f\\left(x, y, z\\right) + 6 \\, \\frac{\\partial^{3}}{(\\partial x)^{2}\\partial y}f\\left(x, y, z\\right), -x^{2} \\cos\\left(x y + z\\right) + x^{2} \\frac{\\partial^{6}}{(\\partial y)^{3}(\\partial z)^{3}}f\\left(x, y, z\\right), -y^{2} \\cos\\left(x y + z\\right) + x^{2} \\frac{\\partial^{6}}{(\\partial x)^{2}\\partial y(\\partial z)^{3}}f\\left(x, y, z\\right) + 4 \\, x \\frac{\\partial^{5}}{\\partial x\\partial y(\\partial z)^{3}}f\\left(x, y, z\\right) + 2 \\, \\frac{\\partial^{4}}{\\partial y(\\partial z)^{3}}f\\left(x, y, z\\right), x^{2} \\frac{\\partial^{4}}{\\partial x\\partial y(\\partial z)^{2}}f\\left(x, y, z\\right) - \\sin\\left(x y + z\\right), -x^{2} y \\cos\\left(x y + z\\right) + x^{2} \\frac{\\partial^{6}}{\\partial x(\\partial y)^{3}(\\partial z)^{2}}f\\left(x, y, z\\right) - 2 \\, x \\sin\\left(x y + z\\right) + 2 \\, x \\frac{\\partial^{5}}{(\\partial y)^{3}(\\partial z)^{2}}f\\left(x, y, z\\right), x^{2} \\frac{\\partial^{4}}{\\partial x\\partial y(\\partial z)^{2}}f\\left(x, y, z\\right) + y \\cos\\left(x y + z\\right) + 2 \\, x \\frac{\\partial^{3}}{\\partial y(\\partial z)^{2}}f\\left(x, y, z\\right), x^{2} \\frac{\\partial^{4}}{\\partial y(\\partial z)^{3}}f\\left(x, y, z\\right) + \\cos\\left(x y + z\\right), -y^{2} \\sin\\left(x y + z\\right) + x^{2} \\frac{\\partial^{5}}{(\\partial x)^{2}\\partial y(\\partial z)^{2}}f\\left(x, y, z\\right) + 4 \\, x \\frac{\\partial^{4}}{\\partial x\\partial y(\\partial z)^{2}}f\\left(x, y, z\\right) + 2 \\, \\frac{\\partial^{3}}{\\partial y(\\partial z)^{2}}f\\left(x, y, z\\right), x^{2} \\frac{\\partial^{5}}{\\partial x\\partial y(\\partial z)^{3}}f\\left(x, y, z\\right) - y \\sin\\left(x y + z\\right) + 2 \\, x \\frac{\\partial^{4}}{\\partial y(\\partial z)^{3}}f\\left(x, y, z\\right), x^{2} \\frac{\\partial^{3}}{\\partial x\\partial y\\partial z}f\\left(x, y, z\\right) + \\cos\\left(x y + z\\right)\\right]$$"
      ],
      "text/plain": [
       "[x^2*diff(f(x, y, z), y, y, z, z, z, z) - x*cos(x*y + z),\n",
       " x^2*diff(f(x, y, z), y, z, z, z, z) - sin(x*y + z),\n",
       " -x^2*cos(x*y + z) + x^2*diff(f(x, y, z), x, y, y, y, z),\n",
       " x^2*diff(f(x, y, z), x, y, y) + x*cos(x*y + z),\n",
       " x^2*diff(f(x, y, z), x, y, z, z, z, z) - y*cos(x*y + z) + 2*x*diff(f(x, y, z), y, z, z, z, z),\n",
       " x^2*diff(f(x, y, z), x, x, y) + y*cos(x*y + z) + 2*x*diff(f(x, y, z), x, y),\n",
       " x^2*diff(f(x, y, z), x, y) + sin(x*y + z),\n",
       " -x^3*cos(x*y + z) + x^2*diff(f(x, y, z), x, y, y, y, y),\n",
       " -x*y^2*cos(x*y + z) + x^2*diff(f(x, y, z), x, x, y, y, z, z) - 2*y*sin(x*y + z) + 4*x*diff(f(x, y, z), x, y, y, z, z) + 2*diff(f(x, y, z), y, y, z, z),\n",
       " -y^2*cos(x*y + z) + x^2*diff(f(x, y, z), x, x, x, y, z) + 4*x*diff(f(x, y, z), x, x, y, z) + 2*diff(f(x, y, z), x, y, z),\n",
       " -x^2*y*cos(x*y + z) + x^2*diff(f(x, y, z), x, x, y, y, y) - 2*x*sin(x*y + z) + 2*x*diff(f(x, y, z), x, y, y, y),\n",
       " -x*y*sin(x*y + z) + x^2*diff(f(x, y, z), x, x, y, y) + 2*x*diff(f(x, y, z), x, y, y) + cos(x*y + z),\n",
       " x^2*diff(f(x, y, z), x, x, y, z, z) - y*cos(x*y + z) + 2*x*diff(f(x, y, z), x, y, z, z),\n",
       " -x^2*sin(x*y + z) + x^2*diff(f(x, y, z), x, y, y, y),\n",
       " -y^3*cos(x*y + z) + x^2*diff(f(x, y, z), x, x, x, y, z, z) + 6*x*diff(f(x, y, z), x, x, y, z, z) + 6*diff(f(x, y, z), x, y, z, z),\n",
       " -x*y^2*cos(x*y + z) + x^2*diff(f(x, y, z), x, x, x, y, y) - 2*y*sin(x*y + z) + 4*x*diff(f(x, y, z), x, x, y, y) + 2*diff(f(x, y, z), x, y, y),\n",
       " -y^2*sin(x*y + z) + x^2*diff(f(x, y, z), x, x, x, y) + 4*x*diff(f(x, y, z), x, x, y) + 2*diff(f(x, y, z), x, y),\n",
       " x^2*diff(f(x, y, z), x, y, z, z, z) - cos(x*y + z),\n",
       " x^2*diff(f(x, y, z), y, z, z) + sin(x*y + z),\n",
       " x^2*diff(f(x, y, z), y, y, z, z, z) - x*sin(x*y + z),\n",
       " x^2*diff(f(x, y, z), x, y, y, z) - x*sin(x*y + z),\n",
       " -x^3*cos(x*y + z) + x^2*diff(f(x, y, z), y, y, y, y, z, z),\n",
       " x^2*diff(f(x, y, z), y, y, z, z) + x*cos(x*y + z),\n",
       " x^2*diff(f(x, y, z), y, z, z, z, z, z) - cos(x*y + z),\n",
       " -x*y*cos(x*y + z) + x^2*diff(f(x, y, z), x, y, y, z, z, z) + 2*x*diff(f(x, y, z), y, y, z, z, z) - sin(x*y + z),\n",
       " -x^2*sin(x*y + z) + x^2*diff(f(x, y, z), y, y, y, z, z),\n",
       " x^2*diff(f(x, y, z), x, x, y, z) - y*sin(x*y + z) + 2*x*diff(f(x, y, z), x, y, z),\n",
       " x^2*diff(f(x, y, z), x, y, y, z, z) - x*cos(x*y + z),\n",
       " -x*y*cos(x*y + z) + x^2*diff(f(x, y, z), x, x, y, y, z) + 2*x*diff(f(x, y, z), x, y, y, z) - sin(x*y + z),\n",
       " -x*y*sin(x*y + z) + x^2*diff(f(x, y, z), x, y, y, z, z) + 2*x*diff(f(x, y, z), y, y, z, z) + cos(x*y + z),\n",
       " -y^3*cos(x*y + z) + x^2*diff(f(x, y, z), x, x, x, x, y) + 6*x*diff(f(x, y, z), x, x, x, y) + 6*diff(f(x, y, z), x, x, y),\n",
       " -x^2*cos(x*y + z) + x^2*diff(f(x, y, z), y, y, y, z, z, z),\n",
       " -y^2*cos(x*y + z) + x^2*diff(f(x, y, z), x, x, y, z, z, z) + 4*x*diff(f(x, y, z), x, y, z, z, z) + 2*diff(f(x, y, z), y, z, z, z),\n",
       " x^2*diff(f(x, y, z), x, y, z, z) - sin(x*y + z),\n",
       " -x^2*y*cos(x*y + z) + x^2*diff(f(x, y, z), x, y, y, y, z, z) - 2*x*sin(x*y + z) + 2*x*diff(f(x, y, z), y, y, y, z, z),\n",
       " x^2*diff(f(x, y, z), x, y, z, z) + y*cos(x*y + z) + 2*x*diff(f(x, y, z), y, z, z),\n",
       " x^2*diff(f(x, y, z), y, z, z, z) + cos(x*y + z),\n",
       " -y^2*sin(x*y + z) + x^2*diff(f(x, y, z), x, x, y, z, z) + 4*x*diff(f(x, y, z), x, y, z, z) + 2*diff(f(x, y, z), y, z, z),\n",
       " x^2*diff(f(x, y, z), x, y, z, z, z) - y*sin(x*y + z) + 2*x*diff(f(x, y, z), y, z, z, z),\n",
       " x^2*diff(f(x, y, z), x, y, z) + cos(x*y + z)]"
      ]
     },
     "execution_count": 27,
     "metadata": {},
     "output_type": "execute_result"
    }
   ],
   "source": [
    "k"
   ]
  },
  {
   "cell_type": "code",
   "execution_count": null,
   "metadata": {},
   "outputs": [],
   "source": []
  }
 ],
 "metadata": {
  "kernelspec": {
   "display_name": "SageMath 9.4",
   "language": "sage",
   "name": "sagemath"
  },
  "language_info": {
   "codemirror_mode": {
    "name": "ipython",
    "version": 3
   },
   "file_extension": ".py",
   "mimetype": "text/x-python",
   "name": "python",
   "nbconvert_exporter": "python",
   "pygments_lexer": "ipython3",
   "version": "3.9.5"
  }
 },
 "nbformat": 4,
 "nbformat_minor": 5
}
