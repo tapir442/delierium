{
 "cells": [
  {
   "cell_type": "code",
   "execution_count": 1,
   "id": "11675697",
   "metadata": {},
   "outputs": [],
   "source": [
    "%display latex"
   ]
  },
  {
   "cell_type": "code",
   "execution_count": 170,
   "id": "053a3d26",
   "metadata": {},
   "outputs": [],
   "source": [
    "from itertools import product\n",
    "from pprint import pprint\n",
    "from collections.abc import Iterable"
   ]
  },
  {
   "cell_type": "code",
   "execution_count": 179,
   "id": "44ca54b8",
   "metadata": {},
   "outputs": [],
   "source": [
    "def prolongation (f, x, order):\n",
    "    f      = f if isinstance(f, Iterable) else [f]\n",
    "    x      = x if isinstance(x, Iterable) else [x]\n",
    "    result = f\n",
    "    aux    = result[:]\n",
    "    for i in range(order):\n",
    "        aux = list(map (lambda _: diff(_[0], _[1]), product (f,x)))\n",
    "        # avoid duplicates and keep order\n",
    "        # hell , is that slow!\n",
    "        # will have to learn how to compute the jet space, or\n",
    "        # write a function for traversing the expression tree\n",
    "        result += [_ for _ in aux if _ not in result] \n",
    "    return result"
   ]
  },
  {
   "cell_type": "code",
   "execution_count": 180,
   "id": "88f4a44c",
   "metadata": {},
   "outputs": [
    {
     "data": {
      "text/html": [
       "<html><script type=\"math/tex; mode=display\">\\newcommand{\\Bold}[1]{\\mathbf{#1}}\\left[g\\left(x, y, z\\right), f\\left(x, y, z\\right), \\frac{\\partial}{\\partial x}g\\left(x, y, z\\right), \\frac{\\partial}{\\partial y}g\\left(x, y, z\\right), \\frac{\\partial}{\\partial z}g\\left(x, y, z\\right), \\frac{\\partial}{\\partial x}f\\left(x, y, z\\right), \\frac{\\partial}{\\partial y}f\\left(x, y, z\\right), \\frac{\\partial}{\\partial z}f\\left(x, y, z\\right), \\frac{\\partial^{2}}{(\\partial x)^{2}}g\\left(x, y, z\\right), \\frac{\\partial^{2}}{\\partial x\\partial y}g\\left(x, y, z\\right), \\frac{\\partial^{2}}{\\partial x\\partial z}g\\left(x, y, z\\right), \\frac{\\partial^{2}}{\\partial x\\partial y}g\\left(x, y, z\\right), \\frac{\\partial^{2}}{(\\partial y)^{2}}g\\left(x, y, z\\right), \\frac{\\partial^{2}}{\\partial y\\partial z}g\\left(x, y, z\\right), \\frac{\\partial^{2}}{\\partial x\\partial z}g\\left(x, y, z\\right), \\frac{\\partial^{2}}{\\partial y\\partial z}g\\left(x, y, z\\right), \\frac{\\partial^{2}}{(\\partial z)^{2}}g\\left(x, y, z\\right), \\frac{\\partial^{2}}{(\\partial x)^{2}}f\\left(x, y, z\\right), \\frac{\\partial^{2}}{\\partial x\\partial y}f\\left(x, y, z\\right), \\frac{\\partial^{2}}{\\partial x\\partial z}f\\left(x, y, z\\right), \\frac{\\partial^{2}}{\\partial x\\partial y}f\\left(x, y, z\\right), \\frac{\\partial^{2}}{(\\partial y)^{2}}f\\left(x, y, z\\right), \\frac{\\partial^{2}}{\\partial y\\partial z}f\\left(x, y, z\\right), \\frac{\\partial^{2}}{\\partial x\\partial z}f\\left(x, y, z\\right), \\frac{\\partial^{2}}{\\partial y\\partial z}f\\left(x, y, z\\right), \\frac{\\partial^{2}}{(\\partial z)^{2}}f\\left(x, y, z\\right)\\right]</script></html>"
      ],
      "text/latex": [
       "\\begin{math}\n",
       "\\newcommand{\\Bold}[1]{\\mathbf{#1}}\\left[g\\left(x, y, z\\right), f\\left(x, y, z\\right), \\frac{\\partial}{\\partial x}g\\left(x, y, z\\right), \\frac{\\partial}{\\partial y}g\\left(x, y, z\\right), \\frac{\\partial}{\\partial z}g\\left(x, y, z\\right), \\frac{\\partial}{\\partial x}f\\left(x, y, z\\right), \\frac{\\partial}{\\partial y}f\\left(x, y, z\\right), \\frac{\\partial}{\\partial z}f\\left(x, y, z\\right), \\frac{\\partial^{2}}{(\\partial x)^{2}}g\\left(x, y, z\\right), \\frac{\\partial^{2}}{\\partial x\\partial y}g\\left(x, y, z\\right), \\frac{\\partial^{2}}{\\partial x\\partial z}g\\left(x, y, z\\right), \\frac{\\partial^{2}}{\\partial x\\partial y}g\\left(x, y, z\\right), \\frac{\\partial^{2}}{(\\partial y)^{2}}g\\left(x, y, z\\right), \\frac{\\partial^{2}}{\\partial y\\partial z}g\\left(x, y, z\\right), \\frac{\\partial^{2}}{\\partial x\\partial z}g\\left(x, y, z\\right), \\frac{\\partial^{2}}{\\partial y\\partial z}g\\left(x, y, z\\right), \\frac{\\partial^{2}}{(\\partial z)^{2}}g\\left(x, y, z\\right), \\frac{\\partial^{2}}{(\\partial x)^{2}}f\\left(x, y, z\\right), \\frac{\\partial^{2}}{\\partial x\\partial y}f\\left(x, y, z\\right), \\frac{\\partial^{2}}{\\partial x\\partial z}f\\left(x, y, z\\right), \\frac{\\partial^{2}}{\\partial x\\partial y}f\\left(x, y, z\\right), \\frac{\\partial^{2}}{(\\partial y)^{2}}f\\left(x, y, z\\right), \\frac{\\partial^{2}}{\\partial y\\partial z}f\\left(x, y, z\\right), \\frac{\\partial^{2}}{\\partial x\\partial z}f\\left(x, y, z\\right), \\frac{\\partial^{2}}{\\partial y\\partial z}f\\left(x, y, z\\right), \\frac{\\partial^{2}}{(\\partial z)^{2}}f\\left(x, y, z\\right)\\right]\n",
       "\\end{math}"
      ],
      "text/plain": [
       "[g(x, y, z),\n",
       " f(x, y, z),\n",
       " diff(g(x, y, z), x),\n",
       " diff(g(x, y, z), y),\n",
       " diff(g(x, y, z), z),\n",
       " diff(f(x, y, z), x),\n",
       " diff(f(x, y, z), y),\n",
       " diff(f(x, y, z), z),\n",
       " diff(g(x, y, z), x, x),\n",
       " diff(g(x, y, z), x, y),\n",
       " diff(g(x, y, z), x, z),\n",
       " diff(g(x, y, z), x, y),\n",
       " diff(g(x, y, z), y, y),\n",
       " diff(g(x, y, z), y, z),\n",
       " diff(g(x, y, z), x, z),\n",
       " diff(g(x, y, z), y, z),\n",
       " diff(g(x, y, z), z, z),\n",
       " diff(f(x, y, z), x, x),\n",
       " diff(f(x, y, z), x, y),\n",
       " diff(f(x, y, z), x, z),\n",
       " diff(f(x, y, z), x, y),\n",
       " diff(f(x, y, z), y, y),\n",
       " diff(f(x, y, z), y, z),\n",
       " diff(f(x, y, z), x, z),\n",
       " diff(f(x, y, z), y, z),\n",
       " diff(f(x, y, z), z, z)]"
      ]
     },
     "execution_count": 180,
     "metadata": {},
     "output_type": "execute_result"
    }
   ],
   "source": [
    "var (\"x y z\")\n",
    "_f = function(\"f\")\n",
    "_g = function(\"g\")\n",
    "k = prolongation ([g(x,y,z), f(x,y,z)], [x,y,z], 2);k"
   ]
  },
  {
   "cell_type": "code",
   "execution_count": 182,
   "id": "cfefbf0b",
   "metadata": {},
   "outputs": [
    {
     "data": {
      "text/html": [
       "<html><script type=\"math/tex; mode=display\">\\newcommand{\\Bold}[1]{\\mathbf{#1}}\\left[f\\left(x, y, z\\right), \\frac{\\partial}{\\partial x}f\\left(x, y, z\\right), \\frac{\\partial^{2}}{(\\partial x)^{2}}f\\left(x, y, z\\right), \\frac{\\partial^{3}}{(\\partial x)^{3}}f\\left(x, y, z\\right), \\frac{\\partial^{4}}{(\\partial x)^{4}}f\\left(x, y, z\\right), \\frac{\\partial^{5}}{(\\partial x)^{5}}f\\left(x, y, z\\right)\\right]</script></html>"
      ],
      "text/latex": [
       "\\begin{math}\n",
       "\\newcommand{\\Bold}[1]{\\mathbf{#1}}\\left[f\\left(x, y, z\\right), \\frac{\\partial}{\\partial x}f\\left(x, y, z\\right), \\frac{\\partial^{2}}{(\\partial x)^{2}}f\\left(x, y, z\\right), \\frac{\\partial^{3}}{(\\partial x)^{3}}f\\left(x, y, z\\right), \\frac{\\partial^{4}}{(\\partial x)^{4}}f\\left(x, y, z\\right), \\frac{\\partial^{5}}{(\\partial x)^{5}}f\\left(x, y, z\\right)\\right]\n",
       "\\end{math}"
      ],
      "text/plain": [
       "[f(x, y, z),\n",
       " diff(f(x, y, z), x),\n",
       " diff(f(x, y, z), x, x),\n",
       " diff(f(x, y, z), x, x, x),\n",
       " diff(f(x, y, z), x, x, x, x),\n",
       " diff(f(x, y, z), x, x, x, x, x)]"
      ]
     },
     "execution_count": 182,
     "metadata": {},
     "output_type": "execute_result"
    }
   ],
   "source": [
    "k = prolongation (f(x,y,z), x, 5);k"
   ]
  },
  {
   "cell_type": "code",
   "execution_count": null,
   "id": "edd52e15",
   "metadata": {},
   "outputs": [],
   "source": []
  }
 ],
 "metadata": {
  "kernelspec": {
   "display_name": "SageMath 9.2",
   "language": "sage",
   "name": "sagemath"
  },
  "language_info": {
   "codemirror_mode": {
    "name": "ipython",
    "version": 3
   },
   "file_extension": ".py",
   "mimetype": "text/x-python",
   "name": "python",
   "nbconvert_exporter": "python",
   "pygments_lexer": "ipython3",
   "version": "3.7.6"
  }
 },
 "nbformat": 4,
 "nbformat_minor": 5
}
