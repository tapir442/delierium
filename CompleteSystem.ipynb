{
 "cells": [
  {
   "cell_type": "code",
   "execution_count": 1,
   "metadata": {},
   "outputs": [],
   "source": [
    "%display latex\n",
    "from delierium import *\n",
    "from IPython.core.debugger import set_trace"
   ]
  },
  {
   "cell_type": "code",
   "execution_count": 2,
   "metadata": {},
   "outputs": [],
   "source": [
    "x1,x2,x3=var(\"x1 x2 x3\")\n",
    "f       = function(\"f\")(x1,x2,x3)\n",
    "M=[x1*x1*x2*x2*x3**3, x1**3 * x3**3, x1**3 * x2*x3, x2*x3]"
   ]
  },
  {
   "cell_type": "code",
   "execution_count": 3,
   "metadata": {},
   "outputs": [
    {
     "data": {
      "text/html": [
       "<html>\\[\\newcommand{\\Bold}[1]{\\mathbf{#1}}x_{1}^{2} x_{2}^{2} x_{3}^{3}\\]</html>"
      ],
      "text/latex": [
       "$$\\newcommand{\\Bold}[1]{\\mathbf{#1}}x_{1}^{2} x_{2}^{2} x_{3}^{3}$$"
      ],
      "text/plain": [
       "x1^2*x2^2*x3^3"
      ]
     },
     "metadata": {},
     "output_type": "display_data"
    }
   ],
   "source": [
    "M[0].show()"
   ]
  },
  {
   "cell_type": "code",
   "execution_count": 13,
   "metadata": {},
   "outputs": [],
   "source": [
    "%load_ext snakeviz"
   ]
  },
  {
   "cell_type": "code",
   "execution_count": 17,
   "metadata": {},
   "outputs": [],
   "source": [
    "def complete(m, context = None):\n",
    "    '''\n",
    "    Given a set {m1,m2,...} of monomials, the complete set corresponding to m is returned\n",
    "    >>> x1,x2,x3=var(\"x1 x2 x3\")\n",
    "    >>> f       = function(\"f\")(x1,x2,x3)\n",
    "    >>> M=[x1*x1*x2*x2*x3**3, x1**3 * x3**3, x1**3 * x2*x3, x2*x3]\n",
    "    [ x1*x2^2*x3^3,x1^3*x3^3,x1^2*x2*x3^2,x2^2*x3^3, x1^2*x2*x3^3, x1*x2*x3, x1^2*x2*x3,\n",
    "    x1^3*x2*x3,x2*x3^2,x1*x2*x3^2,x1^2*x2^2*x3^3,x1^3*x2*x3^2,x2*x3^3, x1*x2*x3^3, x1^3*x2*x3^3, x2*x3]\n",
    "    '''\n",
    "    from functools import cmp_to_key\n",
    "    # S1\n",
    "    vars = []\n",
    "    m = set(m)\n",
    "    for _ in m:\n",
    "        vars.extend(list(_.variables()))\n",
    "    vars = [_ for _ in sorted(list(set(vars)))]\n",
    "    while 1:\n",
    "        res = [(_, multipliers(_, m, vars)) for _ in m]\n",
    "        m0 = set()\n",
    "        # S2\n",
    "        for (monomial, (_multipliers, _nonmultipliers)) in res:\n",
    "            m0 |= set([monomial * n for n in _nonmultipliers])\n",
    "        to_remove = set()\n",
    "        for _m0  in m0:\n",
    "            # S3\n",
    "            # check whether in class of any of the monomials\n",
    "            for (monomial, (_multipliers, _nonmultipliers)) in res:\n",
    "                if all(_m0.degree(x) >= monomial.degree(x) for x in _multipliers) and \\\n",
    "                   all(_m0.degree(x) == monomial.degree(x) for x in _nonmultipliers):\n",
    "                    to_remove.add(_m0)\n",
    "        m0 -= to_remove\n",
    "        if not m0:\n",
    "            return sorted(list(m))\n",
    "        m |= m0"
   ]
  },
  {
   "cell_type": "code",
   "execution_count": null,
   "metadata": {},
   "outputs": [],
   "source": []
  },
  {
   "cell_type": "code",
   "execution_count": 19,
   "metadata": {},
   "outputs": [
    {
     "name": "stdout",
     "output_type": "stream",
     "text": [
      " \n",
      "*** Profile stats marshalled to file '/tmp/tmp0vxbwdsz'. \n",
      "Embedding SnakeViz in this document...\n"
     ]
    },
    {
     "data": {
      "text/html": [
       "\n",
       "<iframe id='snakeviz-ce81d582-4d3b-11ec-9238-dc4a3e561040' frameborder=0 seamless width='100%' height='1000'></iframe>\n",
       "<script>document.getElementById(\"snakeviz-ce81d582-4d3b-11ec-9238-dc4a3e561040\").setAttribute(\"src\", \"http://\" + document.location.hostname + \":8080/snakeviz/%2Ftmp%2Ftmp0vxbwdsz\")</script>\n"
      ],
      "text/plain": [
       "<IPython.core.display.HTML object>"
      ]
     },
     "metadata": {},
     "output_type": "display_data"
    }
   ],
   "source": [
    "%%snakeviz\n",
    "c=complete (M)"
   ]
  },
  {
   "cell_type": "code",
   "execution_count": 16,
   "metadata": {},
   "outputs": [
    {
     "data": {
      "text/html": [
       "<html>\\[\\newcommand{\\Bold}[1]{\\mathbf{#1}}x_{1}^{3} x_{2} x_{3}^{2}\\]</html>"
      ],
      "text/latex": [
       "$$\\newcommand{\\Bold}[1]{\\mathbf{#1}}x_{1}^{3} x_{2} x_{3}^{2}$$"
      ],
      "text/plain": [
       "x1^3*x2*x3^2"
      ]
     },
     "metadata": {},
     "output_type": "display_data"
    },
    {
     "data": {
      "text/html": [
       "<html>\\[\\newcommand{\\Bold}[1]{\\mathbf{#1}}x_{1}^{2} x_{2} x_{3}\\]</html>"
      ],
      "text/latex": [
       "$$\\newcommand{\\Bold}[1]{\\mathbf{#1}}x_{1}^{2} x_{2} x_{3}$$"
      ],
      "text/plain": [
       "x1^2*x2*x3"
      ]
     },
     "metadata": {},
     "output_type": "display_data"
    },
    {
     "data": {
      "text/html": [
       "<html>\\[\\newcommand{\\Bold}[1]{\\mathbf{#1}}x_{1}^{2} x_{2} x_{3}^{2}\\]</html>"
      ],
      "text/latex": [
       "$$\\newcommand{\\Bold}[1]{\\mathbf{#1}}x_{1}^{2} x_{2} x_{3}^{2}$$"
      ],
      "text/plain": [
       "x1^2*x2*x3^2"
      ]
     },
     "metadata": {},
     "output_type": "display_data"
    },
    {
     "data": {
      "text/html": [
       "<html>\\[\\newcommand{\\Bold}[1]{\\mathbf{#1}}x_{1}^{3} x_{2} x_{3}\\]</html>"
      ],
      "text/latex": [
       "$$\\newcommand{\\Bold}[1]{\\mathbf{#1}}x_{1}^{3} x_{2} x_{3}$$"
      ],
      "text/plain": [
       "x1^3*x2*x3"
      ]
     },
     "metadata": {},
     "output_type": "display_data"
    },
    {
     "data": {
      "text/html": [
       "<html>\\[\\newcommand{\\Bold}[1]{\\mathbf{#1}}x_{1}^{2} x_{2} x_{3}^{3}\\]</html>"
      ],
      "text/latex": [
       "$$\\newcommand{\\Bold}[1]{\\mathbf{#1}}x_{1}^{2} x_{2} x_{3}^{3}$$"
      ],
      "text/plain": [
       "x1^2*x2*x3^3"
      ]
     },
     "metadata": {},
     "output_type": "display_data"
    },
    {
     "data": {
      "text/html": [
       "<html>\\[\\newcommand{\\Bold}[1]{\\mathbf{#1}}x_{1} x_{2} x_{3}\\]</html>"
      ],
      "text/latex": [
       "$$\\newcommand{\\Bold}[1]{\\mathbf{#1}}x_{1} x_{2} x_{3}$$"
      ],
      "text/plain": [
       "x1*x2*x3"
      ]
     },
     "metadata": {},
     "output_type": "display_data"
    },
    {
     "data": {
      "text/html": [
       "<html>\\[\\newcommand{\\Bold}[1]{\\mathbf{#1}}x_{1}^{3} x_{3}^{3}\\]</html>"
      ],
      "text/latex": [
       "$$\\newcommand{\\Bold}[1]{\\mathbf{#1}}x_{1}^{3} x_{3}^{3}$$"
      ],
      "text/plain": [
       "x1^3*x3^3"
      ]
     },
     "metadata": {},
     "output_type": "display_data"
    },
    {
     "data": {
      "text/html": [
       "<html>\\[\\newcommand{\\Bold}[1]{\\mathbf{#1}}x_{1}^{2} x_{2}^{2} x_{3}^{3}\\]</html>"
      ],
      "text/latex": [
       "$$\\newcommand{\\Bold}[1]{\\mathbf{#1}}x_{1}^{2} x_{2}^{2} x_{3}^{3}$$"
      ],
      "text/plain": [
       "x1^2*x2^2*x3^3"
      ]
     },
     "metadata": {},
     "output_type": "display_data"
    },
    {
     "data": {
      "text/html": [
       "<html>\\[\\newcommand{\\Bold}[1]{\\mathbf{#1}}x_{2} x_{3}\\]</html>"
      ],
      "text/latex": [
       "$$\\newcommand{\\Bold}[1]{\\mathbf{#1}}x_{2} x_{3}$$"
      ],
      "text/plain": [
       "x2*x3"
      ]
     },
     "metadata": {},
     "output_type": "display_data"
    }
   ],
   "source": [
    "for _c in sorted(c):\n",
    "    _c.show()"
   ]
  },
  {
   "cell_type": "code",
   "execution_count": 10,
   "metadata": {},
   "outputs": [],
   "source": [
    "import operator\n",
    "def hausnummer (list_of_derivatives, context = Context((f,), (x1,x2,x3))):\n",
    "    monomials = []\n",
    "    for d in list_of_derivatives:\n",
    "        der = derivative_to_vec(d, context)\n",
    "        mon = reduce (operator.__mul__ , [a**b for a, b in zip (context._independent, der)], 1)\n",
    "        monomials.append (mon)\n",
    "    c = complete (monomials)\n",
    "    print (c)\n",
    "    for mausi in c:\n",
    "        gurki = [mausi.degree (_) for _ in context._independent]\n",
    "    return gurki"
   ]
  },
  {
   "cell_type": "code",
   "execution_count": 11,
   "metadata": {},
   "outputs": [
    {
     "name": "stdout",
     "output_type": "stream",
     "text": [
      "[x1^2*x3^2, x1*x2^2*x3, x1^2*x2^2*x3, x1*x3^2]\n"
     ]
    },
    {
     "data": {
      "text/html": [
       "<html>\\[\\newcommand{\\Bold}[1]{\\mathbf{#1}}\\left[1, 0, 2\\right]\\]</html>"
      ],
      "text/latex": [
       "$$\\newcommand{\\Bold}[1]{\\mathbf{#1}}\\left[1, 0, 2\\right]$$"
      ],
      "text/plain": [
       "[1, 0, 2]"
      ]
     },
     "execution_count": 11,
     "metadata": {},
     "output_type": "execute_result"
    }
   ],
   "source": [
    "hausnummer([diff(f,x1,x3,x3), diff(f, x3, x2, x2, x1)])"
   ]
  },
  {
   "cell_type": "code",
   "execution_count": 12,
   "metadata": {},
   "outputs": [],
   "source": [
    "var (\"x y\")\n",
    "z = function(\"z\")(x,y)\n",
    "w = function(\"w\")(x,y)\n",
    "# ctx: items are in descending order ?\n",
    "ctx = Context((w,z), (x,y), Mgrlex)\n",
    "g1=diff(z,y,y)+diff(z,y)/(2*y)\n",
    "g2=diff(w,x,x)+(4*y**2)*diff(w,y)-(8*y**2)*diff(z,x)-8*y*w\n",
    "g3=diff(w,x,y)-diff(z,x,x)/2-diff(w,x)/(2*y)-diff(z,y)*6*y**2\n",
    "g4=diff(w,y,y)-2*diff(z,x,y)-diff(w,y)/(2*y)-w/(2*y**2)\n",
    "l = [Differential_Polynomial(_, ctx) for _ in [g1,g2,g3,g4]]\n"
   ]
  },
  {
   "cell_type": "code",
   "execution_count": null,
   "metadata": {},
   "outputs": [],
   "source": [
    "def derivative_to_monomial(d, context):\n",
    "     return reduce (operator.__mul__ , [a**b for a, b in zip (context._independent, derivative_to_vec (d, context))], 1)\n",
    "        \n",
    "derivative_to_monomial (diff(z, x,x,x,x,y,y), ctx).show()\n",
    "        \n",
    "def complete1(m, context = None):\n",
    "    '''\n",
    "    Given a set {m1,m2,...} of monomials, the complete set corresponding to m is returned\n",
    "    >>> x1,x2,x3=var(\"x1 x2 x3\")\n",
    "    >>> f       = function(\"f\")(x1,x2,x3)\n",
    "    >>> M=[x1*x1*x2*x2*x3**3, x1**3 * x3**3, x1**3 * x2*x3, x2*x3]\n",
    "    [ x1*x2^2*x3^3,x1^3*x3^3,x1^2*x2*x3^2,x2^2*x3^3, x1^2*x2*x3^3, x1*x2*x3, x1^2*x2*x3,\n",
    "    x1^3*x2*x3,x2*x3^2,x1*x2*x3^2,x1^2*x2^2*x3^3,x1^3*x2*x3^2,x2*x3^3, x1*x2*x3^3, x1^3*x2*x3^3, x2*x3]\n",
    "    '''\n",
    "    from functools import cmp_to_key\n",
    "    # S1\n",
    "    vars = []\n",
    "    for s in m:\n",
    "        s.show()\n",
    "        \n",
    "    m = [derivative_to_monomial (_.Lder(), context) for _ in m]\n",
    "    \n",
    "    print (m)    \n",
    "    vars = list(set(vars))\n",
    "    _bool = lambda a, b: bool (a < b)\n",
    "    vars = sorted (context._independent, key = cmp_to_key (_bool), reverse = True)\n",
    "    print (\"vars:\", vars)    \n",
    "    while 1:\n",
    "        #set_trace()\n",
    "        res = [(_, multipliers(_, m, vars)) for _ in m]\n",
    "        m0 = set()\n",
    "        # S2\n",
    "        for (monomial, (_multipliers, _nonmultipliers)) in res:\n",
    "            print (derivative_to_vec (monomial, context))\n",
    "            print (monomial,  reduce (operator.__mul__ , [a**b for a, b in zip (context._independent, derivative_to_vec (monomial, context))], 1)\n",
    "                  )\n",
    "            m0 |= set([monomial * n for n in _nonmultipliers])\n",
    "        to_remove = set()\n",
    "        for _m0  in m0:\n",
    "            # S3\n",
    "            # check whether in class of any of the monomials\n",
    "            for (monomial, (_multipliers, _nonmultipliers)) in res:\n",
    "                if all(_m0.degree(x) >= monomial.degree(x) for x in _multipliers) and \\\n",
    "                   all(_m0.degree(x) == monomial.degree(x) for x in _nonmultipliers):\n",
    "                    to_remove.add(_m0)\n",
    "        m0 -= to_remove\n",
    "        if not m0:\n",
    "            return sorted(list(m))\n",
    "        m |= m0"
   ]
  },
  {
   "cell_type": "code",
   "execution_count": null,
   "metadata": {},
   "outputs": [],
   "source": [
    "for _ in l:\n",
    "    _.show()"
   ]
  },
  {
   "cell_type": "code",
   "execution_count": null,
   "metadata": {},
   "outputs": [],
   "source": [
    "def algorithm27 (S, context):\n",
    "    s = {}\n",
    "    for _ in S:\n",
    "        _fun = _.Lfunc()\n",
    "        s.setdefault(_fun, []).append(_)\n",
    "    res = []\n",
    "    for k in s:\n",
    "        if len(s[k]) == 1:\n",
    "            res.extend (s[k])\n",
    "            continue\n",
    "        print (\"=====================>\", k)\n",
    "        _ = complete1(s[k], context)\n",
    "        res.extend(_)\n",
    "    return Reorder(res, context, ascending=True)\n",
    "algorithm27(l, ctx)"
   ]
  },
  {
   "cell_type": "code",
   "execution_count": null,
   "metadata": {},
   "outputs": [],
   "source": [
    "derivative"
   ]
  }
 ],
 "metadata": {
  "kernelspec": {
   "display_name": "SageMath 9.4",
   "language": "sage",
   "name": "sagemath"
  },
  "language_info": {
   "codemirror_mode": {
    "name": "ipython",
    "version": 3
   },
   "file_extension": ".py",
   "mimetype": "text/x-python",
   "name": "python",
   "nbconvert_exporter": "python",
   "pygments_lexer": "ipython3",
   "version": "3.9.5"
  }
 },
 "nbformat": 4,
 "nbformat_minor": 5
}
