{
 "cells": [
  {
   "cell_type": "markdown",
   "id": "212c7eb5",
   "metadata": {},
   "source": [
    "# here are the versions from asksage\n",
    "https://ask.sagemath.org/question/56908/how-to-define-functions-with-varying-number-of-variables/"
   ]
  },
  {
   "cell_type": "code",
   "execution_count": 1,
   "id": "2f9ded00",
   "metadata": {},
   "outputs": [],
   "source": [
    "%display latex\n"
   ]
  },
  {
   "cell_type": "code",
   "execution_count": 2,
   "id": "c654de3a",
   "metadata": {},
   "outputs": [],
   "source": [
    "def FrechetD (support, dependVar, independVar, testfunction):\n",
    "    frechet = []\n",
    "    var (\"eps\")\n",
    "    for j in range (len(support)):\n",
    "        deriv = []\n",
    "        for i in range (len(support)):\n",
    "            def r0(*args):\n",
    "                return dependVar[i](*independVar)+ testfunction[i](*independVar) * eps\n",
    "            #def _r0(*args):\n",
    "            #    # this version has issues as it always uses w2 ?!? investigate further\n",
    "            #    # when time and motivation. Online version on asksage works perfectly\n",
    "            #    return dependVar[i](*independVar)+ testfunction[i](*independVar) * eps\n",
    "            #r0 = function('r0', eval_func=_r0)\n",
    "            s  =  support[j].substitute_function (dependVar[i], r0)\n",
    "            deriv.append (diff(s, eps).subs ({eps: 0}))\n",
    "        frechet.append (deriv)\n",
    "    return Matrix (frechet)"
   ]
  },
  {
   "cell_type": "code",
   "execution_count": 3,
   "id": "645fc2c0",
   "metadata": {},
   "outputs": [],
   "source": [
    "var (\"t x\")\n",
    "v  = function (\"v\")\n",
    "u  = function (\"u\")\n",
    "w1 = function (\"w1\")\n",
    "w2 = function (\"w2\")\n",
    "eqsys = [diff(v(x,t), x) - u(x,t), diff(v(x,t), t) - diff(u(x,t), x)/(u(x,t)**2)]"
   ]
  },
  {
   "cell_type": "code",
   "execution_count": 4,
   "id": "2da4463e",
   "metadata": {},
   "outputs": [
    {
     "data": {
      "text/html": [
       "<html><script type=\"math/tex; mode=display\">\\newcommand{\\Bold}[1]{\\mathbf{#1}}\\left[-u\\left(x, t\\right) + \\frac{\\partial}{\\partial x}v\\left(x, t\\right), -\\frac{\\frac{\\partial}{\\partial x}u\\left(x, t\\right)}{u\\left(x, t\\right)^{2}} + \\frac{\\partial}{\\partial t}v\\left(x, t\\right)\\right]</script></html>"
      ],
      "text/latex": [
       "\\begin{math}\n",
       "\\newcommand{\\Bold}[1]{\\mathbf{#1}}\\left[-u\\left(x, t\\right) + \\frac{\\partial}{\\partial x}v\\left(x, t\\right), -\\frac{\\frac{\\partial}{\\partial x}u\\left(x, t\\right)}{u\\left(x, t\\right)^{2}} + \\frac{\\partial}{\\partial t}v\\left(x, t\\right)\\right]\n",
       "\\end{math}"
      ],
      "text/plain": [
       "[-u(x, t) + diff(v(x, t), x), -diff(u(x, t), x)/u(x, t)^2 + diff(v(x, t), t)]"
      ]
     },
     "execution_count": 4,
     "metadata": {},
     "output_type": "execute_result"
    }
   ],
   "source": [
    "eqsys"
   ]
  },
  {
   "cell_type": "code",
   "execution_count": 5,
   "id": "f2be7c94",
   "metadata": {},
   "outputs": [
    {
     "data": {
      "text/html": [
       "<html><script type=\"math/tex; mode=display\">\\newcommand{\\Bold}[1]{\\mathbf{#1}}\\left(\\begin{array}{rr}\n",
       "-w_{1}\\left(x, t\\right) & \\frac{\\partial}{\\partial x}w_{2}\\left(x, t\\right) \\\\\n",
       "\\frac{2 \\, w_{1}\\left(x, t\\right) \\frac{\\partial}{\\partial x}u\\left(x, t\\right)}{u\\left(x, t\\right)^{3}} - \\frac{\\frac{\\partial}{\\partial x}w_{1}\\left(x, t\\right)}{u\\left(x, t\\right)^{2}} & \\frac{\\partial}{\\partial t}w_{2}\\left(x, t\\right)\n",
       "\\end{array}\\right)</script></html>"
      ],
      "text/latex": [
       "\\begin{math}\n",
       "\\newcommand{\\Bold}[1]{\\mathbf{#1}}\\left(\\begin{array}{rr}\n",
       "-w_{1}\\left(x, t\\right) & \\frac{\\partial}{\\partial x}w_{2}\\left(x, t\\right) \\\\\n",
       "\\frac{2 \\, w_{1}\\left(x, t\\right) \\frac{\\partial}{\\partial x}u\\left(x, t\\right)}{u\\left(x, t\\right)^{3}} - \\frac{\\frac{\\partial}{\\partial x}w_{1}\\left(x, t\\right)}{u\\left(x, t\\right)^{2}} & \\frac{\\partial}{\\partial t}w_{2}\\left(x, t\\right)\n",
       "\\end{array}\\right)\n",
       "\\end{math}"
      ],
      "text/plain": [
       "[                                                          -w1(x, t)                                                   diff(w2(x, t), x)]\n",
       "[2*w1(x, t)*diff(u(x, t), x)/u(x, t)^3 - diff(w1(x, t), x)/u(x, t)^2                                                   diff(w2(x, t), t)]"
      ]
     },
     "execution_count": 5,
     "metadata": {},
     "output_type": "execute_result"
    }
   ],
   "source": [
    "FrechetD (eqsys, [u,v], [x,t], [w1,w2])"
   ]
  },
  {
   "cell_type": "code",
   "execution_count": 6,
   "id": "e2095737",
   "metadata": {},
   "outputs": [
    {
     "data": {
      "text/html": [
       "<html><script type=\"math/tex; mode=display\">\\newcommand{\\Bold}[1]{\\mathbf{#1}}\\left[-u\\left(x, t\\right) + \\frac{\\partial}{\\partial x}v\\left(x, t\\right), -\\frac{\\frac{\\partial}{\\partial x}u\\left(x, t\\right)}{u\\left(x, t\\right)^{2}} + \\frac{\\partial}{\\partial t}v\\left(x, t\\right)\\right]</script></html>"
      ],
      "text/latex": [
       "\\begin{math}\n",
       "\\newcommand{\\Bold}[1]{\\mathbf{#1}}\\left[-u\\left(x, t\\right) + \\frac{\\partial}{\\partial x}v\\left(x, t\\right), -\\frac{\\frac{\\partial}{\\partial x}u\\left(x, t\\right)}{u\\left(x, t\\right)^{2}} + \\frac{\\partial}{\\partial t}v\\left(x, t\\right)\\right]\n",
       "\\end{math}"
      ],
      "text/plain": [
       "[-u(x, t) + diff(v(x, t), x), -diff(u(x, t), x)/u(x, t)^2 + diff(v(x, t), t)]"
      ]
     },
     "execution_count": 6,
     "metadata": {},
     "output_type": "execute_result"
    }
   ],
   "source": [
    "var (\"t x y\")\n",
    "v  = function (\"v\")\n",
    "u  = function (\"u\")\n",
    "z  = function (\"z\")\n",
    "w1 = function (\"w1\")\n",
    "w2 = function (\"w2\")\n",
    "w3 = function (\"w3\")\n",
    "eqsys1 = [diff(v(x,y,t), x, y) - u(x,y,t), diff(v(x,y,t), t, y) - diff(u(x,y,t), x)/(u(x,y,t)**2), diff(z(x,y,t), t, t)- (z(x,y,t)**2)-u(x,y,t)]; eqsys"
   ]
  },
  {
   "cell_type": "code",
   "execution_count": 7,
   "id": "8d90b006",
   "metadata": {},
   "outputs": [
    {
     "data": {
      "text/html": [
       "<html><script type=\"math/tex; mode=display\">\\newcommand{\\Bold}[1]{\\mathbf{#1}}\\left(\\begin{array}{rrr}\n",
       "-w_{1}\\left(x, y, t\\right) & \\frac{\\partial^{2}}{\\partial x\\partial y}w_{2}\\left(x, y, t\\right) & 0 \\\\\n",
       "\\frac{2 \\, w_{1}\\left(x, y, t\\right) \\frac{\\partial}{\\partial x}u\\left(x, y, t\\right)}{u\\left(x, y, t\\right)^{3}} - \\frac{\\frac{\\partial}{\\partial x}w_{1}\\left(x, y, t\\right)}{u\\left(x, y, t\\right)^{2}} & \\frac{\\partial^{2}}{\\partial y\\partial t}w_{2}\\left(x, y, t\\right) & 0 \\\\\n",
       "-w_{1}\\left(x, y, t\\right) & 0 & -2 \\, w_{3}\\left(x, y, t\\right) z\\left(x, y, t\\right) + \\frac{\\partial^{2}}{(\\partial t)^{2}}w_{3}\\left(x, y, t\\right)\n",
       "\\end{array}\\right)</script></html>"
      ],
      "text/latex": [
       "\\begin{math}\n",
       "\\newcommand{\\Bold}[1]{\\mathbf{#1}}\\left(\\begin{array}{rrr}\n",
       "-w_{1}\\left(x, y, t\\right) & \\frac{\\partial^{2}}{\\partial x\\partial y}w_{2}\\left(x, y, t\\right) & 0 \\\\\n",
       "\\frac{2 \\, w_{1}\\left(x, y, t\\right) \\frac{\\partial}{\\partial x}u\\left(x, y, t\\right)}{u\\left(x, y, t\\right)^{3}} - \\frac{\\frac{\\partial}{\\partial x}w_{1}\\left(x, y, t\\right)}{u\\left(x, y, t\\right)^{2}} & \\frac{\\partial^{2}}{\\partial y\\partial t}w_{2}\\left(x, y, t\\right) & 0 \\\\\n",
       "-w_{1}\\left(x, y, t\\right) & 0 & -2 \\, w_{3}\\left(x, y, t\\right) z\\left(x, y, t\\right) + \\frac{\\partial^{2}}{(\\partial t)^{2}}w_{3}\\left(x, y, t\\right)\n",
       "\\end{array}\\right)\n",
       "\\end{math}"
      ],
      "text/plain": [
       "[                                                                      -w1(x, y, t)                                                            diff(w2(x, y, t), x, y)                                                                                  0]\n",
       "[2*w1(x, y, t)*diff(u(x, y, t), x)/u(x, y, t)^3 - diff(w1(x, y, t), x)/u(x, y, t)^2                                                            diff(w2(x, y, t), y, t)                                                                                  0]\n",
       "[                                                                      -w1(x, y, t)                                                                                  0                                -2*w3(x, y, t)*z(x, y, t) + diff(w3(x, y, t), t, t)]"
      ]
     },
     "execution_count": 7,
     "metadata": {},
     "output_type": "execute_result"
    }
   ],
   "source": [
    "FrechetD (eqsys1, [u,v,z], [x,y,t], [w1,w2,w3])"
   ]
  },
  {
   "cell_type": "code",
   "execution_count": null,
   "id": "07a62ed9",
   "metadata": {},
   "outputs": [],
   "source": []
  }
 ],
 "metadata": {
  "kernelspec": {
   "display_name": "SageMath 9.2",
   "language": "sage",
   "name": "sagemath"
  },
  "language_info": {
   "codemirror_mode": {
    "name": "ipython",
    "version": 3
   },
   "file_extension": ".py",
   "mimetype": "text/x-python",
   "name": "python",
   "nbconvert_exporter": "python",
   "pygments_lexer": "ipython3",
   "version": "3.7.6"
  }
 },
 "nbformat": 4,
 "nbformat_minor": 5
}
