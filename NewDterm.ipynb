{
 "cells": [
  {
   "cell_type": "code",
   "execution_count": 1,
   "id": "f724c76f-a6f4-4137-9ea4-56480f49b503",
   "metadata": {
    "tags": []
   },
   "outputs": [],
   "source": [
    "from __future__ import annotations\n",
    "from dataclasses import dataclass\n",
    "from typing import List, Annotated\n",
    "\n",
    "from delierium.JanetBasis import _Dterm\n",
    "from delierium.MatrixOrder import Context\n",
    "from delierium.helpers import is_derivative, is_function, order_of_derivative\n",
    "from IPython.core.debugger import set_trace"
   ]
  },
  {
   "cell_type": "code",
   "execution_count": 2,
   "id": "172099f1-1a3b-46a5-b3d6-2e40d236af01",
   "metadata": {
    "tags": []
   },
   "outputs": [],
   "source": [
    "@dataclass\n",
    "class _Dterm1:\n",
    "    coefficient: Expression = 1\n",
    "    derivative: sage.modules.vector_integer_dense.Vector_integer_dense | None = None\n",
    "    context: Context | None = None\n",
    "    _order:sage.modules.vector_integer_dense.Vector_integer_dense | None = None\n",
    "    \n",
    "    def __post_init__(self):\n",
    "        if isinstance(self.derivative, Expression):\n",
    "            self.derivative = vector(order_of_derivative(self.derivative))\n",
    "        elif self.derivative is None:\n",
    "            self.derivative = vector([0] * len(self.context._independent))\n",
    "        elif isinstance(self.derivative, type([])):\n",
    "            self.derivative = vector(self.derivative)\n",
    "        \n",
    "            \n",
    "    @classmethod\n",
    "    def from_expression(cls, expr: Expression, context: Context) -> _Dterm1:\n",
    "        d = None\n",
    "        c = 1\n",
    "        if is_derivative(expr) or is_function(expr):\n",
    "            d = order_of_derivative(expr)\n",
    "        else:\n",
    "            for o in expr.operands():\n",
    "                if is_derivative(o) or is_function(o):\n",
    "                    d = order_of_derivative(o)\n",
    "                else:\n",
    "                    c *= o\n",
    "        return cls(coefficient=c, derivative=d, context=context)\n",
    "\n",
    "    @classmethod\n",
    "    def _compute_order(cls, expr: Expression, context:Context) -> sage.modules.vector_integer_dense.Vector_integer_dense:\n",
    "        \"\"\"computes the monomial tuple from the derivative part\"\"\"\n",
    "        if is_derivative(expr):\n",
    "            return order_of_derivative(expr, len(context._independent))\n",
    "        else:\n",
    "            return [0] * len(context._independent)\n",
    "        \n",
    "    def diff(self, *vars) -> Annotated[list[_Dterm1]]:\n",
    "        \"\"\"applies differentiation to _Dterm1. Vars is either a list\n",
    "        of variables, or a vector of indices\n",
    "        \"\"\"\n",
    "        if isinstance(vars[0], sage.rings.integer.Integer):\n",
    "            # got an vector of indices\n",
    "            index_vector = vars\n",
    "            real_vars = [self.context._independent.index(_) for _ in vars]\n",
    "        else:\n",
    "            index_vector = [0]*len(self.context._independent)\n",
    "            for v in vars:\n",
    "                index_vector[self.context._independent.index(v)] += 1\n",
    "            real_vars    = vars\n",
    "        if isinstance(self.coefficient, sage.rings.integer.Integer):\n",
    "            return [_Dterm1(derivative=self.derivative + vector(index_vector), context=self.context)]\n",
    "        if self.derivative is None:\n",
    "            return [_Dterm1(coefficient=self.coefficient.diff(*real_vars), context=self.context)]\n",
    "        return [_Dterm1(derivative=self.derivative + vector(index_vector), coefficient=self.coefficient, context=self.context),\n",
    "                _Dterm1(derivative=self.derivative, coefficient=self.coefficient.diff(*real_vars), context=self.context)]"
   ]
  },
  {
   "cell_type": "code",
   "execution_count": 3,
   "id": "b3bc11c7-c102-436b-a384-9236ea9a307b",
   "metadata": {
    "tags": []
   },
   "outputs": [],
   "source": [
    "x,y=var('x y')\n",
    "phi=function('phi', latex_name=r\"\\phi\")\n",
    "xi=function('xi', latex_name=r\"\\xi\")\n",
    "\n",
    "ctx = Context([xi, phi], [y, x])\n",
    "d2 = _Dterm1(derivative=diff(phi(x,y), x,x,y), context=ctx)"
   ]
  },
  {
   "cell_type": "code",
   "execution_count": 4,
   "id": "83d0b5d3-90b4-4210-8cc9-0ec6c4905beb",
   "metadata": {
    "tags": []
   },
   "outputs": [
    {
     "name": "stdout",
     "output_type": "stream",
     "text": [
      "_Dterm1(coefficient=1, derivative=(2, 1), context=<delierium.MatrixOrder.Context object at 0x7f3fa82d5740>, _order=None)\n"
     ]
    }
   ],
   "source": [
    "print(d2)"
   ]
  },
  {
   "cell_type": "code",
   "execution_count": 5,
   "id": "6a3c2ecd-0162-4a7e-9c95-d684de8c631c",
   "metadata": {
    "tags": []
   },
   "outputs": [
    {
     "name": "stdout",
     "output_type": "stream",
     "text": [
      "> \u001b[0;32m/tmp/ipykernel_29431/3189818986.py\u001b[0m(54)\u001b[0;36mdiff\u001b[0;34m()\u001b[0m\n",
      "\u001b[0;32m     52 \u001b[0;31m        \u001b[0;32mfrom\u001b[0m \u001b[0mIPython\u001b[0m\u001b[0;34m.\u001b[0m\u001b[0mcore\u001b[0m\u001b[0;34m.\u001b[0m\u001b[0mdebugger\u001b[0m \u001b[0;32mimport\u001b[0m \u001b[0mset_trace\u001b[0m\u001b[0;34m\u001b[0m\u001b[0;34m\u001b[0m\u001b[0m\n",
      "\u001b[0m\u001b[0;32m     53 \u001b[0;31m        \u001b[0mset_trace\u001b[0m\u001b[0;34m(\u001b[0m\u001b[0;34m)\u001b[0m\u001b[0;34m\u001b[0m\u001b[0;34m\u001b[0m\u001b[0m\n",
      "\u001b[0m\u001b[0;32m---> 54 \u001b[0;31m        \u001b[0;32mif\u001b[0m \u001b[0misinstance\u001b[0m\u001b[0;34m(\u001b[0m\u001b[0mself\u001b[0m\u001b[0;34m.\u001b[0m\u001b[0mcoefficient\u001b[0m\u001b[0;34m,\u001b[0m \u001b[0msage\u001b[0m\u001b[0;34m.\u001b[0m\u001b[0mrings\u001b[0m\u001b[0;34m.\u001b[0m\u001b[0minteger\u001b[0m\u001b[0;34m.\u001b[0m\u001b[0mInteger\u001b[0m\u001b[0;34m)\u001b[0m\u001b[0;34m:\u001b[0m\u001b[0;34m\u001b[0m\u001b[0;34m\u001b[0m\u001b[0m\n",
      "\u001b[0m\u001b[0;32m     55 \u001b[0;31m            \u001b[0;32mreturn\u001b[0m \u001b[0;34m[\u001b[0m\u001b[0m_Dterm1\u001b[0m\u001b[0;34m(\u001b[0m\u001b[0mderivative\u001b[0m\u001b[0;34m=\u001b[0m\u001b[0mself\u001b[0m\u001b[0;34m.\u001b[0m\u001b[0mderivative\u001b[0m \u001b[0;34m+\u001b[0m \u001b[0mvector\u001b[0m\u001b[0;34m(\u001b[0m\u001b[0mindex_vector\u001b[0m\u001b[0;34m)\u001b[0m\u001b[0;34m,\u001b[0m \u001b[0mcontext\u001b[0m\u001b[0;34m=\u001b[0m\u001b[0mself\u001b[0m\u001b[0;34m.\u001b[0m\u001b[0mcontext\u001b[0m\u001b[0;34m)\u001b[0m\u001b[0;34m]\u001b[0m\u001b[0;34m\u001b[0m\u001b[0;34m\u001b[0m\u001b[0m\n",
      "\u001b[0m\u001b[0;32m     56 \u001b[0;31m        \u001b[0;32mif\u001b[0m \u001b[0mself\u001b[0m\u001b[0;34m.\u001b[0m\u001b[0mderivative\u001b[0m \u001b[0;32mis\u001b[0m \u001b[0;32mNone\u001b[0m\u001b[0;34m:\u001b[0m\u001b[0;34m\u001b[0m\u001b[0;34m\u001b[0m\u001b[0m\n",
      "\u001b[0m\n"
     ]
    },
    {
     "name": "stdin",
     "output_type": "stream",
     "text": [
      "ipdb>  c\n"
     ]
    },
    {
     "name": "stdout",
     "output_type": "stream",
     "text": [
      "[_Dterm1(coefficient=1, derivative=(2, 4), context=<delierium.MatrixOrder.Context object at 0x7f3fa82d5740>, _order=None)]\n"
     ]
    }
   ],
   "source": [
    "print(d2.diff(x,x,x))"
   ]
  },
  {
   "cell_type": "code",
   "execution_count": 6,
   "id": "8ae1bc05-b554-4748-a7ae-2d8962548a11",
   "metadata": {
    "tags": []
   },
   "outputs": [],
   "source": [
    "#import doctest\n",
    "#doctest.testmod()\n",
    "d3=_Dterm1(x*y**2, context=ctx)"
   ]
  },
  {
   "cell_type": "code",
   "execution_count": 7,
   "id": "59c6ca26-fffd-4084-afd1-0cf5468fc71d",
   "metadata": {
    "tags": []
   },
   "outputs": [
    {
     "name": "stdout",
     "output_type": "stream",
     "text": [
      "_Dterm1(coefficient=x*y^2, derivative=(0, 0), context=<delierium.MatrixOrder.Context object at 0x7f3fa82d5740>, _order=None)\n"
     ]
    }
   ],
   "source": [
    "print(d3)"
   ]
  },
  {
   "cell_type": "code",
   "execution_count": 8,
   "id": "c2374c84-b7db-407a-bd53-a98a3cd1c003",
   "metadata": {
    "tags": []
   },
   "outputs": [
    {
     "name": "stdout",
     "output_type": "stream",
     "text": [
      "> \u001b[0;32m/tmp/ipykernel_29431/3189818986.py\u001b[0m(54)\u001b[0;36mdiff\u001b[0;34m()\u001b[0m\n",
      "\u001b[0;32m     52 \u001b[0;31m        \u001b[0;32mfrom\u001b[0m \u001b[0mIPython\u001b[0m\u001b[0;34m.\u001b[0m\u001b[0mcore\u001b[0m\u001b[0;34m.\u001b[0m\u001b[0mdebugger\u001b[0m \u001b[0;32mimport\u001b[0m \u001b[0mset_trace\u001b[0m\u001b[0;34m\u001b[0m\u001b[0;34m\u001b[0m\u001b[0m\n",
      "\u001b[0m\u001b[0;32m     53 \u001b[0;31m        \u001b[0mset_trace\u001b[0m\u001b[0;34m(\u001b[0m\u001b[0;34m)\u001b[0m\u001b[0;34m\u001b[0m\u001b[0;34m\u001b[0m\u001b[0m\n",
      "\u001b[0m\u001b[0;32m---> 54 \u001b[0;31m        \u001b[0;32mif\u001b[0m \u001b[0misinstance\u001b[0m\u001b[0;34m(\u001b[0m\u001b[0mself\u001b[0m\u001b[0;34m.\u001b[0m\u001b[0mcoefficient\u001b[0m\u001b[0;34m,\u001b[0m \u001b[0msage\u001b[0m\u001b[0;34m.\u001b[0m\u001b[0mrings\u001b[0m\u001b[0;34m.\u001b[0m\u001b[0minteger\u001b[0m\u001b[0;34m.\u001b[0m\u001b[0mInteger\u001b[0m\u001b[0;34m)\u001b[0m\u001b[0;34m:\u001b[0m\u001b[0;34m\u001b[0m\u001b[0;34m\u001b[0m\u001b[0m\n",
      "\u001b[0m\u001b[0;32m     55 \u001b[0;31m            \u001b[0;32mreturn\u001b[0m \u001b[0;34m[\u001b[0m\u001b[0m_Dterm1\u001b[0m\u001b[0;34m(\u001b[0m\u001b[0mderivative\u001b[0m\u001b[0;34m=\u001b[0m\u001b[0mself\u001b[0m\u001b[0;34m.\u001b[0m\u001b[0mderivative\u001b[0m \u001b[0;34m+\u001b[0m \u001b[0mvector\u001b[0m\u001b[0;34m(\u001b[0m\u001b[0mindex_vector\u001b[0m\u001b[0;34m)\u001b[0m\u001b[0;34m,\u001b[0m \u001b[0mcontext\u001b[0m\u001b[0;34m=\u001b[0m\u001b[0mself\u001b[0m\u001b[0;34m.\u001b[0m\u001b[0mcontext\u001b[0m\u001b[0;34m)\u001b[0m\u001b[0;34m]\u001b[0m\u001b[0;34m\u001b[0m\u001b[0;34m\u001b[0m\u001b[0m\n",
      "\u001b[0m\u001b[0;32m     56 \u001b[0;31m        \u001b[0;32mif\u001b[0m \u001b[0mself\u001b[0m\u001b[0;34m.\u001b[0m\u001b[0mderivative\u001b[0m \u001b[0;32mis\u001b[0m \u001b[0;32mNone\u001b[0m\u001b[0;34m:\u001b[0m\u001b[0;34m\u001b[0m\u001b[0;34m\u001b[0m\u001b[0m\n",
      "\u001b[0m\n"
     ]
    },
    {
     "name": "stdin",
     "output_type": "stream",
     "text": [
      "ipdb>  c\n"
     ]
    },
    {
     "data": {
      "text/plain": [
       "[_Dterm1(coefficient=x*y^2, derivative=(0, 1), context=<delierium.MatrixOrder.Context object at 0x7f3fa82d5740>, _order=None),\n",
       " _Dterm1(coefficient=y^2, derivative=(0, 0), context=<delierium.MatrixOrder.Context object at 0x7f3fa82d5740>, _order=None)]"
      ]
     },
     "execution_count": 8,
     "metadata": {},
     "output_type": "execute_result"
    }
   ],
   "source": [
    "d3.diff(x)"
   ]
  },
  {
   "cell_type": "code",
   "execution_count": 9,
   "id": "2b4974b0-6113-47bf-bdbd-1156bae5ebf9",
   "metadata": {
    "tags": []
   },
   "outputs": [],
   "source": [
    "d3=_Dterm1.from_expression(x*y**2*diff(xi(x,y), x,x), context=ctx)"
   ]
  },
  {
   "cell_type": "code",
   "execution_count": 10,
   "id": "d88d9cbc-a6d3-4496-b24c-603859a8452b",
   "metadata": {
    "tags": []
   },
   "outputs": [
    {
     "name": "stdout",
     "output_type": "stream",
     "text": [
      "_Dterm1(coefficient=x*y^2, derivative=(2, 0), context=<delierium.MatrixOrder.Context object at 0x7f3fa82d5740>, _order=None)\n"
     ]
    }
   ],
   "source": [
    "print(d3)"
   ]
  },
  {
   "cell_type": "code",
   "execution_count": 11,
   "id": "7b66ff72-937f-45e9-960f-819b62d49106",
   "metadata": {},
   "outputs": [
    {
     "name": "stdout",
     "output_type": "stream",
     "text": [
      "_Dterm1(coefficient=x*y^2, derivative=(0, 2), context=<delierium.MatrixOrder.Context object at 0x7f3fa82d5740>, _order=None)\n"
     ]
    }
   ],
   "source": [
    "d4=_Dterm1.from_expression(diff(phi(y,x),x,x)*x*y**2, context=ctx); print(d4)"
   ]
  },
  {
   "cell_type": "code",
   "execution_count": 12,
   "id": "24bbb42a-20b4-4e31-a13a-85fd8cc5b7c2",
   "metadata": {
    "tags": []
   },
   "outputs": [
    {
     "name": "stdout",
     "output_type": "stream",
     "text": [
      "> \u001b[0;32m/tmp/ipykernel_29431/3189818986.py\u001b[0m(54)\u001b[0;36mdiff\u001b[0;34m()\u001b[0m\n",
      "\u001b[0;32m     52 \u001b[0;31m        \u001b[0;32mfrom\u001b[0m \u001b[0mIPython\u001b[0m\u001b[0;34m.\u001b[0m\u001b[0mcore\u001b[0m\u001b[0;34m.\u001b[0m\u001b[0mdebugger\u001b[0m \u001b[0;32mimport\u001b[0m \u001b[0mset_trace\u001b[0m\u001b[0;34m\u001b[0m\u001b[0;34m\u001b[0m\u001b[0m\n",
      "\u001b[0m\u001b[0;32m     53 \u001b[0;31m        \u001b[0mset_trace\u001b[0m\u001b[0;34m(\u001b[0m\u001b[0;34m)\u001b[0m\u001b[0;34m\u001b[0m\u001b[0;34m\u001b[0m\u001b[0m\n",
      "\u001b[0m\u001b[0;32m---> 54 \u001b[0;31m        \u001b[0;32mif\u001b[0m \u001b[0misinstance\u001b[0m\u001b[0;34m(\u001b[0m\u001b[0mself\u001b[0m\u001b[0;34m.\u001b[0m\u001b[0mcoefficient\u001b[0m\u001b[0;34m,\u001b[0m \u001b[0msage\u001b[0m\u001b[0;34m.\u001b[0m\u001b[0mrings\u001b[0m\u001b[0;34m.\u001b[0m\u001b[0minteger\u001b[0m\u001b[0;34m.\u001b[0m\u001b[0mInteger\u001b[0m\u001b[0;34m)\u001b[0m\u001b[0;34m:\u001b[0m\u001b[0;34m\u001b[0m\u001b[0;34m\u001b[0m\u001b[0m\n",
      "\u001b[0m\u001b[0;32m     55 \u001b[0;31m            \u001b[0;32mreturn\u001b[0m \u001b[0;34m[\u001b[0m\u001b[0m_Dterm1\u001b[0m\u001b[0;34m(\u001b[0m\u001b[0mderivative\u001b[0m\u001b[0;34m=\u001b[0m\u001b[0mself\u001b[0m\u001b[0;34m.\u001b[0m\u001b[0mderivative\u001b[0m \u001b[0;34m+\u001b[0m \u001b[0mvector\u001b[0m\u001b[0;34m(\u001b[0m\u001b[0mindex_vector\u001b[0m\u001b[0;34m)\u001b[0m\u001b[0;34m,\u001b[0m \u001b[0mcontext\u001b[0m\u001b[0;34m=\u001b[0m\u001b[0mself\u001b[0m\u001b[0;34m.\u001b[0m\u001b[0mcontext\u001b[0m\u001b[0;34m)\u001b[0m\u001b[0;34m]\u001b[0m\u001b[0;34m\u001b[0m\u001b[0;34m\u001b[0m\u001b[0m\n",
      "\u001b[0m\u001b[0;32m     56 \u001b[0;31m        \u001b[0;32mif\u001b[0m \u001b[0mself\u001b[0m\u001b[0;34m.\u001b[0m\u001b[0mderivative\u001b[0m \u001b[0;32mis\u001b[0m \u001b[0;32mNone\u001b[0m\u001b[0;34m:\u001b[0m\u001b[0;34m\u001b[0m\u001b[0;34m\u001b[0m\u001b[0m\n",
      "\u001b[0m\n"
     ]
    },
    {
     "name": "stdin",
     "output_type": "stream",
     "text": [
      "ipdb>  c\n"
     ]
    },
    {
     "name": "stdout",
     "output_type": "stream",
     "text": [
      "[_Dterm1(coefficient=x*y^2, derivative=(0, 5), context=<delierium.MatrixOrder.Context object at 0x7f3fa82d5740>, _order=None), _Dterm1(coefficient=0, derivative=(0, 2), context=<delierium.MatrixOrder.Context object at 0x7f3fa82d5740>, _order=None)]\n"
     ]
    }
   ],
   "source": [
    "print(d4.diff(x,x,x))"
   ]
  },
  {
   "cell_type": "code",
   "execution_count": null,
   "id": "b7db5b10-57e0-4ced-8dbd-ebfb3442545e",
   "metadata": {},
   "outputs": [],
   "source": []
  }
 ],
 "metadata": {
  "kernelspec": {
   "display_name": "SageMath 9.8",
   "language": "sage",
   "name": "sagemath"
  },
  "language_info": {
   "codemirror_mode": {
    "name": "ipython",
    "version": 3
   },
   "file_extension": ".py",
   "mimetype": "text/x-python",
   "name": "python",
   "nbconvert_exporter": "python",
   "pygments_lexer": "ipython3",
   "version": "3.10.10"
  }
 },
 "nbformat": 4,
 "nbformat_minor": 5
}
